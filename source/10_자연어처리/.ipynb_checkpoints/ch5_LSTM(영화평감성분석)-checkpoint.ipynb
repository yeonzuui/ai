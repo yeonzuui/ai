{
 "cells": [
  {
   "cell_type": "code",
   "execution_count": 1,
   "id": "056163ca",
   "metadata": {
    "ExecuteTime": {
     "end_time": "2025-01-02T07:38:53.628150Z",
     "start_time": "2025-01-02T07:38:53.612638Z"
    }
   },
   "outputs": [
    {
     "data": {
      "text/html": [
       "\n",
       "<style>\n",
       "div.container{width:99% !important;}\n",
       "div.cell.code_cell.rendered{width:99%;}\n",
       "div.CodeMirror {font-family:Consolas; font-size:20pt;}\n",
       "div.output {font-size:18pt; font-weight:bold;}\n",
       "div.input {font-family:Consolas; font-size:19pt;}\n",
       "div.prompt {min-width:70px;}\n",
       "div#toc-wrapper{padding-top:120px;}\n",
       "span.toc-item-num{display:none;}\n",
       "div.text_cell_render ul li{font-size:16pt;padding:5px;}\n",
       "div.CodeMirror-lines > div {padding-left:10px;}\n",
       "table.dataframe{font-size:19px;}\n",
       "</style>\n"
      ],
      "text/plain": [
       "<IPython.core.display.HTML object>"
      ]
     },
     "metadata": {},
     "output_type": "display_data"
    }
   ],
   "source": [
    "from IPython.display import display, HTML\n",
    "display(HTML(\"\"\"\n",
    "<style>\n",
    "div.container{width:99% !important;}\n",
    "div.cell.code_cell.rendered{width:99%;}\n",
    "div.CodeMirror {font-family:Consolas; font-size:20pt;}\n",
    "div.output {font-size:18pt; font-weight:bold;}\n",
    "div.input {font-family:Consolas; font-size:19pt;}\n",
    "div.prompt {min-width:70px;}\n",
    "div#toc-wrapper{padding-top:120px;}\n",
    "span.toc-item-num{display:none;}\n",
    "div.text_cell_render ul li{font-size:16pt;padding:5px;}\n",
    "div.CodeMirror-lines > div {padding-left:10px;}\n",
    "table.dataframe{font-size:19px;}\n",
    "</style>\n",
    "\"\"\"))"
   ]
  },
  {
   "cell_type": "markdown",
   "id": "0d38b0b0",
   "metadata": {},
   "source": [
    "<font size=\"5\" color=\"red\">ch5 LSTM(RNN)으로 영화평 구분하기</font>\n",
    "- 5만개 영화 감상평 : 타겟(종속)변수로 부정/긍정"
   ]
  },
  {
   "cell_type": "code",
   "execution_count": 2,
   "id": "3b85fda7",
   "metadata": {
    "ExecuteTime": {
     "end_time": "2025-01-02T07:38:58.200470Z",
     "start_time": "2025-01-02T07:38:53.628150Z"
    }
   },
   "outputs": [],
   "source": [
    "# 1. package import\n",
    "import numpy as np\n",
    "from tensorflow.keras.datasets import imdb\n",
    "from tensorflow.keras.preprocessing.sequence import pad_sequences\n",
    "from time import time # 70.1.1부터 현재까지 몇 초 지났는지\n",
    "\n",
    "from tensorflow.keras.models import Sequential\n",
    "from tensorflow.keras.layers import Embedding, LSTM, Dense\n",
    "\n",
    "from sklearn.metrics import confusion_matrix, f1_score"
   ]
  },
  {
   "cell_type": "code",
   "execution_count": 20,
   "id": "91e08fce",
   "metadata": {
    "ExecuteTime": {
     "end_time": "2025-01-02T07:46:12.399426Z",
     "start_time": "2025-01-02T07:46:12.393347Z"
    }
   },
   "outputs": [],
   "source": [
    "# 2. 하이퍼 파라미터 설정\n",
    "# 이 파라미터를 바꾸면 정확도나 속도에 차이날 수 있음\n",
    "MY_WORDS  = 10000 # imdb 데이터 안의 단어 수\n",
    "MY_LENGTH = 80    # 영화평 단어 수 80개만 독립변수\n",
    "MY_EMBED  = 32    # Embedding 결과 차원\n",
    "MY_HIDDEN = 64    # LSTM의 units 차원\n",
    "\n",
    "MY_EPOCH  = 10    # 반복 학습 수(fit)\n",
    "MY_BATCH  = 200   # batch_size(fit)"
   ]
  },
  {
   "cell_type": "code",
   "execution_count": 21,
   "id": "2a982b1b",
   "metadata": {
    "ExecuteTime": {
     "end_time": "2025-01-02T07:46:17.659456Z",
     "start_time": "2025-01-02T07:46:13.463945Z"
    }
   },
   "outputs": [],
   "source": [
    "# 3. 데이터 불러오기\n",
    "(X_train, y_train), (X_test, y_test) = imdb.load_data(num_words = MY_WORDS)"
   ]
  },
  {
   "cell_type": "code",
   "execution_count": 22,
   "id": "1f23bf8a",
   "metadata": {
    "ExecuteTime": {
     "end_time": "2025-01-02T07:46:17.674993Z",
     "start_time": "2025-01-02T07:46:17.659456Z"
    }
   },
   "outputs": [
    {
     "name": "stdout",
     "output_type": "stream",
     "text": [
      "학습용 입력데이터(독립변수) 모양 : (25000,)\n",
      "학습용 출력데이터(종속변수) 모양 : (25000,)\n",
      "학습용 입력데이터 샘플 : 218 개 --- [1, 14, 22, 16, 43, 530, 973, 1622, 1385, 65, 458, 4468, 66, 3941, 4, 173, 36, 256, 5, 25, 100, 43, 838, 112, 50, 670, 2, 9, 35, 480, 284, 5, 150, 4, 172, 112, 167, 2, 336, 385, 39, 4, 172, 4536, 1111, 17, 546, 38, 13, 447, 4, 192, 50, 16, 6, 147, 2025, 19, 14, 22, 4, 1920, 4613, 469, 4, 22, 71, 87, 12, 16, 43, 530, 38, 76, 15, 13, 1247, 4, 22, 17, 515, 17, 12, 16, 626, 18, 2, 5, 62, 386, 12, 8, 316, 8, 106, 5, 4, 2223, 5244, 16, 480, 66, 3785, 33, 4, 130, 12, 16, 38, 619, 5, 25, 124, 51, 36, 135, 48, 25, 1415, 33, 6, 22, 12, 215, 28, 77, 52, 5, 14, 407, 16, 82, 2, 8, 4, 107, 117, 5952, 15, 256, 4, 2, 7, 3766, 5, 723, 36, 71, 43, 530, 476, 26, 400, 317, 46, 7, 4, 2, 1029, 13, 104, 88, 4, 381, 15, 297, 98, 32, 2071, 56, 26, 141, 6, 194, 7486, 18, 4, 226, 22, 21, 134, 476, 26, 480, 5, 144, 30, 5535, 18, 51, 36, 28, 224, 92, 25, 104, 4, 226, 65, 16, 38, 1334, 88, 12, 16, 283, 5, 16, 4472, 113, 103, 32, 15, 16, 5345, 19, 178, 32]\n",
      "학습용 출력데이터 샘플(0:부정/1:긍정) : 1\n",
      "테스트용 입력데이터(독립변수) 모양 : (25000,)\n",
      "테스트용 출력데이터(종속변수) 모양 : (25000,)\n",
      "테스트용 입력데이터 샘플 : 68 개 --- [1, 591, 202, 14, 31, 6, 717, 10, 10, 2, 2, 5, 4, 360, 7, 4, 177, 5760, 394, 354, 4, 123, 9, 1035, 1035, 1035, 10, 10, 13, 92, 124, 89, 488, 7944, 100, 28, 1668, 14, 31, 23, 27, 7479, 29, 220, 468, 8, 124, 14, 286, 170, 8, 157, 46, 5, 27, 239, 16, 179, 2, 38, 32, 25, 7944, 451, 202, 14, 6, 717]\n",
      "테스트용 출력데이터 샘플(0:부정/1:긍정) : 0\n"
     ]
    }
   ],
   "source": [
    "print('학습용 입력데이터(독립변수) 모양 :', X_train.shape)\n",
    "print('학습용 출력데이터(종속변수) 모양 :', y_train.shape)\n",
    "print('학습용 입력데이터 샘플 :',len(X_train[0]), '개 ---', X_train[0])\n",
    "print('학습용 출력데이터 샘플(0:부정/1:긍정) :', y_train[0])\n",
    "\n",
    "print('테스트용 입력데이터(독립변수) 모양 :', X_test.shape)\n",
    "print('테스트용 출력데이터(종속변수) 모양 :', y_test.shape)\n",
    "print('테스트용 입력데이터 샘플 :',len(X_test[0]), '개 ---', X_test[0])\n",
    "print('테스트용 출력데이터 샘플(0:부정/1:긍정) :', y_test[0])"
   ]
  },
  {
   "cell_type": "code",
   "execution_count": 23,
   "id": "0de709da",
   "metadata": {
    "ExecuteTime": {
     "end_time": "2025-01-02T07:46:19.094814Z",
     "start_time": "2025-01-02T07:46:19.088919Z"
    }
   },
   "outputs": [
    {
     "name": "stdout",
     "output_type": "stream",
     "text": [
      "학습용 데이터의 긍정 개수: 12500\n",
      "테스트용 데이터의 긍정 개수: 12500\n"
     ]
    }
   ],
   "source": [
    "# 긍정 개수\n",
    "print('학습용 데이터의 긍정 개수:', y_train.sum())\n",
    "print('테스트용 데이터의 긍정 개수:', y_test.sum())"
   ]
  },
  {
   "cell_type": "code",
   "execution_count": 24,
   "id": "48a7a1e0",
   "metadata": {
    "ExecuteTime": {
     "end_time": "2025-01-02T07:46:20.558647Z",
     "start_time": "2025-01-02T07:46:20.552663Z"
    }
   },
   "outputs": [
    {
     "name": "stdout",
     "output_type": "stream",
     "text": [
      "첫 10개 영화평의 길이\n",
      "1번째 218\n",
      "2번째 189\n",
      "3번째 141\n",
      "4번째 550\n",
      "5번째 147\n",
      "6번째 43\n",
      "7번째 123\n",
      "8번째 562\n",
      "9번째 233\n",
      "10번째 130\n"
     ]
    }
   ],
   "source": [
    "# 4. 영화평 학습용 데이터 처음 10개 길이 출력 함수 \n",
    "def show_length():\n",
    "    print('첫 10개 영화평의 길이')\n",
    "    for i in range(10):\n",
    "        print(f\"{i + 1}번째 {len(X_train[i])}\")\n",
    "show_length()"
   ]
  },
  {
   "cell_type": "code",
   "execution_count": 25,
   "id": "f80a5489",
   "metadata": {
    "ExecuteTime": {
     "end_time": "2025-01-02T07:46:22.027527Z",
     "start_time": "2025-01-02T07:46:21.920435Z"
    }
   },
   "outputs": [
    {
     "name": "stdout",
     "output_type": "stream",
     "text": [
      "17\n",
      "19\n"
     ]
    }
   ],
   "source": [
    "# 5. 문자 단어 → 정수\n",
    "word_to_id = imdb.get_word_index() # dict('문자단어':정수id)\n",
    "print(word_to_id['movie'])\n",
    "print(word_to_id['film'])\n",
    "# 정수 → 문자 단어\n",
    "id_to_word = {} # dict (정수id:문자단어)\n",
    "for key, val in word_to_id.items():\n",
    "    id_to_word[val] = key"
   ]
  },
  {
   "cell_type": "code",
   "execution_count": 26,
   "id": "6aed2b56",
   "metadata": {
    "ExecuteTime": {
     "end_time": "2025-01-02T07:46:23.357712Z",
     "start_time": "2025-01-02T07:46:23.351763Z"
    }
   },
   "outputs": [
    {
     "name": "stdout",
     "output_type": "stream",
     "text": [
      "원 후기 내용: ['what', 'a', 'wonderful', 'movie']\n",
      "encoded된 data: [1, 48, 3, 386, 17]\n",
      "data 추정: ??? if ??? recommend as\n"
     ]
    }
   ],
   "source": [
    "msg = \"What a wonderful movie\"\n",
    "msg = msg.lower().split()\n",
    "# 1: 리뷰시작을 알리는 숫자, 2: 문자가 짤려서 잘못 읽어옴, 3:\n",
    "data = [1] + [word_to_id.get(m) for m in msg]\n",
    "print('원 후기 내용:', msg)\n",
    "print('encoded된 data:', data)\n",
    "print('data 추정:', ' '.join([id_to_word.get(d - 3, '???') for d in data]))"
   ]
  },
  {
   "cell_type": "code",
   "execution_count": 27,
   "id": "e4e47507",
   "metadata": {
    "ExecuteTime": {
     "end_time": "2025-01-02T07:46:25.352247Z",
     "start_time": "2025-01-02T07:46:25.346247Z"
    }
   },
   "outputs": [
    {
     "name": "stdout",
     "output_type": "stream",
     "text": [
      "??? this film was just brilliant casting location scenery story direction everyone's really suited the part they played and you could just imagine being there robert ??? is an amazing actor and now the same being director ??? father came from the same scottish island as myself so i loved the fact there was a real connection with this film the witty remarks throughout the film were great it was just brilliant so much that i bought the film as soon as it was released for ??? and would recommend it to everyone to watch and the fly fishing was amazing really cried at the end it was so sad and you know what they say if you cry at a film it must have been good and this definitely was also ??? to the two little boy's that played the ??? of norman and paul they were just brilliant children are often left out of the ??? list i think because the stars that play them all grown up are such a big profile for the whole film but these children are amazing and should be praised for what they have done don't you think the whole story was so lovely because it was true and was someone's life after all that was shared with us all\n"
     ]
    }
   ],
   "source": [
    "# 5. 숫자 영화평 → 자연어 영화평 함수\n",
    "def decoding(review_num):\n",
    "    decoded = []\n",
    "    for num in review_num:\n",
    "        word = id_to_word.get(num - 3, '???')\n",
    "        decoded.append(word)\n",
    "    print(' '.join(decoded))\n",
    "decoding(X_train[0])"
   ]
  },
  {
   "cell_type": "code",
   "execution_count": 28,
   "id": "ecf6c098",
   "metadata": {
    "ExecuteTime": {
     "end_time": "2025-01-02T07:49:28.173311Z",
     "start_time": "2025-01-02T07:49:28.167361Z"
    }
   },
   "outputs": [
    {
     "name": "stdout",
     "output_type": "stream",
     "text": [
      "pad_sequence 작업전\n",
      "첫 10개 영화평의 길이\n",
      "1번째 218\n",
      "2번째 189\n",
      "3번째 141\n",
      "4번째 550\n",
      "5번째 147\n",
      "6번째 43\n",
      "7번째 123\n",
      "8번째 562\n",
      "9번째 233\n",
      "10번째 130\n"
     ]
    }
   ],
   "source": [
    "print('pad_sequence 작업전')\n",
    "show_length()"
   ]
  },
  {
   "cell_type": "code",
   "execution_count": 31,
   "id": "d28d6221",
   "metadata": {
    "ExecuteTime": {
     "end_time": "2025-01-02T07:57:54.971795Z",
     "start_time": "2025-01-02T07:57:54.848800Z"
    }
   },
   "outputs": [
    {
     "name": "stdout",
     "output_type": "stream",
     "text": [
      "첫 10개 영화평의 길이\n",
      "1번째 80\n",
      "2번째 80\n",
      "3번째 80\n",
      "4번째 80\n",
      "5번째 80\n",
      "6번째 80\n",
      "7번째 80\n",
      "8번째 80\n",
      "9번째 80\n",
      "10번째 80\n"
     ]
    }
   ],
   "source": [
    "# 7. 모든 영화평의 길이를 동일하게\n",
    "X_train = pad_sequences(X_train,\n",
    "                        padding = 'post',\n",
    "                        truncating = 'post', # 뒷 부분을 자르고 앞부분 남김\n",
    "                        maxlen = MY_LENGTH)\n",
    "X_test = pad_sequences(X_test,\n",
    "                       padding = 'post',\n",
    "                       truncating = 'post',\n",
    "                       maxlen = MY_LENGTH\n",
    "                      )\n",
    "show_length()"
   ]
  },
  {
   "cell_type": "code",
   "execution_count": 34,
   "id": "7198562a",
   "metadata": {
    "ExecuteTime": {
     "end_time": "2025-01-02T07:59:25.928581Z",
     "start_time": "2025-01-02T07:59:25.920681Z"
    }
   },
   "outputs": [
    {
     "data": {
      "text/plain": [
       "((25000, 80), (25000,), (25000, 80), (25000,))"
      ]
     },
     "execution_count": 34,
     "metadata": {},
     "output_type": "execute_result"
    }
   ],
   "source": [
    "# 8. 최종 데이터 shape 확인\n",
    "X_train.shape, y_train.shape, X_test.shape, y_test.shape"
   ]
  },
  {
   "cell_type": "code",
   "execution_count": 36,
   "id": "c8a3a620",
   "metadata": {
    "ExecuteTime": {
     "end_time": "2025-01-02T08:05:48.187424Z",
     "start_time": "2025-01-02T08:05:47.296427Z"
    }
   },
   "outputs": [
    {
     "name": "stdout",
     "output_type": "stream",
     "text": [
      "Model: \"sequential_1\"\n",
      "_________________________________________________________________\n",
      " Layer (type)                Output Shape              Param #   \n",
      "=================================================================\n",
      " embedding_1 (Embedding)     (None, 80, 32)            320000    \n",
      "                                                                 \n",
      " lstm (LSTM)                 (None, 64)                24832     \n",
      "                                                                 \n",
      " dense (Dense)               (None, 1)                 65        \n",
      "                                                                 \n",
      "=================================================================\n",
      "Total params: 344,897\n",
      "Trainable params: 344,897\n",
      "Non-trainable params: 0\n",
      "_________________________________________________________________\n"
     ]
    }
   ],
   "source": [
    "# 9. 모델 생성 및 구현\n",
    "model = Sequential()\n",
    "model.add(Embedding(input_dim = MY_WORDS,\n",
    "                    output_dim = MY_EMBED,\n",
    "                    input_length = MY_LENGTH))\n",
    "model.add(LSTM(units = MY_HIDDEN,\n",
    "               input_shape = (MY_LENGTH, MY_EMBED)))\n",
    "model.add(Dense(units = 1,\n",
    "                activation = 'sigmoid'))\n",
    "model.summary()"
   ]
  },
  {
   "cell_type": "code",
   "execution_count": 38,
   "id": "41d2de0f",
   "metadata": {
    "ExecuteTime": {
     "end_time": "2025-01-02T08:11:00.806353Z",
     "start_time": "2025-01-02T08:10:47.929364Z"
    }
   },
   "outputs": [
    {
     "name": "stdout",
     "output_type": "stream",
     "text": [
      "Epoch 1/10\n",
      "100/100 [==============================] - 3s 17ms/step - loss: 0.5893 - acc: 0.6662 - val_loss: 0.4317 - val_acc: 0.8016\n",
      "Epoch 2/10\n",
      "100/100 [==============================] - 1s 11ms/step - loss: 0.3587 - acc: 0.8480 - val_loss: 0.4128 - val_acc: 0.8118\n",
      "Epoch 3/10\n",
      "100/100 [==============================] - 1s 11ms/step - loss: 0.2762 - acc: 0.8917 - val_loss: 0.4348 - val_acc: 0.8074\n",
      "Epoch 4/10\n",
      "100/100 [==============================] - 1s 10ms/step - loss: 0.2280 - acc: 0.9125 - val_loss: 0.4596 - val_acc: 0.8006\n",
      "Epoch 5/10\n",
      "100/100 [==============================] - 1s 10ms/step - loss: 0.2026 - acc: 0.9273 - val_loss: 0.5176 - val_acc: 0.7984\n",
      "Epoch 6/10\n",
      "100/100 [==============================] - 1s 10ms/step - loss: 0.1673 - acc: 0.9424 - val_loss: 0.5464 - val_acc: 0.7942\n",
      "Epoch 7/10\n",
      "100/100 [==============================] - 1s 11ms/step - loss: 0.1505 - acc: 0.9489 - val_loss: 0.6813 - val_acc: 0.7898\n",
      "Epoch 8/10\n",
      "100/100 [==============================] - 1s 11ms/step - loss: 0.1289 - acc: 0.9563 - val_loss: 0.5942 - val_acc: 0.7870\n",
      "Epoch 9/10\n",
      "100/100 [==============================] - 1s 11ms/step - loss: 0.1176 - acc: 0.9627 - val_loss: 0.6750 - val_acc: 0.7852\n",
      "Epoch 10/10\n",
      "100/100 [==============================] - 1s 11ms/step - loss: 0.1017 - acc: 0.9683 - val_loss: 0.7427 - val_acc: 0.7904\n",
      "총 학습시간: 12.86\n"
     ]
    }
   ],
   "source": [
    "# 10. 학습환경 설정 및 학습하기\n",
    "model.compile(loss = 'binary_crossentropy', # 이중분류 시 손실함수\n",
    "              optimizer = 'adam',\n",
    "              metrics = ['acc']\n",
    "             )\n",
    "begin = time() # 70.1.1 ~ 이 시점까지의 sec\n",
    "model.fit(x = X_train, \n",
    "          y = y_train,\n",
    "          epochs = MY_EPOCH,\n",
    "          batch_size = MY_BATCH,\n",
    "          verbose  = 1, \n",
    "          validation_split = .2,\n",
    "         )\n",
    "end = time() # 70.1.1 ~ 이 시점까지의 sec\n",
    "print('총 학습시간: {:.2f}'.format(end - begin))"
   ]
  },
  {
   "cell_type": "code",
   "execution_count": 39,
   "id": "a8c20a16",
   "metadata": {
    "ExecuteTime": {
     "end_time": "2025-01-02T08:24:52.142535Z",
     "start_time": "2025-01-02T08:24:47.624291Z"
    }
   },
   "outputs": [
    {
     "name": "stdout",
     "output_type": "stream",
     "text": [
      "782/782 [==============================] - 4s 5ms/step - loss: 0.8635 - acc: 0.7588\n",
      "test 데이터 정확도(acc): 0.7587599754333496\n"
     ]
    }
   ],
   "source": [
    "# 11. 모델 평가\n",
    "loss, acc = model.evaluate(X_test, y_test, verbose = 1)\n",
    "print('test 데이터 정확도(acc):', acc)"
   ]
  },
  {
   "cell_type": "code",
   "execution_count": 41,
   "id": "ec1f5f67",
   "metadata": {
    "ExecuteTime": {
     "end_time": "2025-01-02T08:29:28.761249Z",
     "start_time": "2025-01-02T08:29:25.648781Z"
    }
   },
   "outputs": [
    {
     "name": "stdout",
     "output_type": "stream",
     "text": [
      "782/782 [==============================] - 3s 3ms/step\n"
     ]
    },
    {
     "data": {
      "text/plain": [
       "array([0, 1, 1, ..., 0, 0, 1])"
      ]
     },
     "execution_count": 41,
     "metadata": {},
     "output_type": "execute_result"
    }
   ],
   "source": [
    "# 혼돈 행렬\n",
    "pred = model.predict(X_test)\n",
    "y_hat = (pred > .5).astype(int).reshape(-1)\n",
    "y_hat"
   ]
  },
  {
   "cell_type": "code",
   "execution_count": 42,
   "id": "21ce771e",
   "metadata": {
    "ExecuteTime": {
     "end_time": "2025-01-02T08:29:42.214442Z",
     "start_time": "2025-01-02T08:29:42.195737Z"
    }
   },
   "outputs": [
    {
     "data": {
      "text/plain": [
       "((25000,), (25000,))"
      ]
     },
     "execution_count": 42,
     "metadata": {},
     "output_type": "execute_result"
    }
   ],
   "source": [
    "y_test.shape, y_hat.shape"
   ]
  },
  {
   "cell_type": "code",
   "execution_count": 43,
   "id": "1062fc8f",
   "metadata": {
    "ExecuteTime": {
     "end_time": "2025-01-02T08:30:43.553262Z",
     "start_time": "2025-01-02T08:30:43.536052Z"
    }
   },
   "outputs": [
    {
     "data": {
      "text/plain": [
       "array([[9447, 3053],\n",
       "       [2978, 9522]], dtype=int64)"
      ]
     },
     "execution_count": 43,
     "metadata": {},
     "output_type": "execute_result"
    }
   ],
   "source": [
    "confusion_matrix(y_test, y_hat)"
   ]
  },
  {
   "cell_type": "code",
   "execution_count": 44,
   "id": "563f79b7",
   "metadata": {
    "ExecuteTime": {
     "end_time": "2025-01-02T08:31:23.434583Z",
     "start_time": "2025-01-02T08:31:23.367828Z"
    }
   },
   "outputs": [
    {
     "data": {
      "text/html": [
       "<div>\n",
       "<style scoped>\n",
       "    .dataframe tbody tr th:only-of-type {\n",
       "        vertical-align: middle;\n",
       "    }\n",
       "\n",
       "    .dataframe tbody tr th {\n",
       "        vertical-align: top;\n",
       "    }\n",
       "\n",
       "    .dataframe thead th {\n",
       "        text-align: right;\n",
       "    }\n",
       "</style>\n",
       "<table border=\"1\" class=\"dataframe\">\n",
       "  <thead>\n",
       "    <tr style=\"text-align: right;\">\n",
       "      <th>col_0</th>\n",
       "      <th>0</th>\n",
       "      <th>1</th>\n",
       "    </tr>\n",
       "    <tr>\n",
       "      <th>row_0</th>\n",
       "      <th></th>\n",
       "      <th></th>\n",
       "    </tr>\n",
       "  </thead>\n",
       "  <tbody>\n",
       "    <tr>\n",
       "      <th>0</th>\n",
       "      <td>9447</td>\n",
       "      <td>3053</td>\n",
       "    </tr>\n",
       "    <tr>\n",
       "      <th>1</th>\n",
       "      <td>2978</td>\n",
       "      <td>9522</td>\n",
       "    </tr>\n",
       "  </tbody>\n",
       "</table>\n",
       "</div>"
      ],
      "text/plain": [
       "col_0     0     1\n",
       "row_0            \n",
       "0      9447  3053\n",
       "1      2978  9522"
      ]
     },
     "execution_count": 44,
     "metadata": {},
     "output_type": "execute_result"
    }
   ],
   "source": [
    "# accuracy (전체 중 정답을 맞춘 비율):\n",
    "#          = (TN + TP) / (TN + FP + FN + TP)\n",
    "# precision(정밀도, 민감도 - True로 예측한 것 중 맟춘 비율)\n",
    "#          = (TP / FP + TP)\n",
    "# recall(재현율 - 실제값이 True인 것 중 True로 맞춘 비율)\n",
    "#          = TP"
   ]
  },
  {
   "cell_type": "code",
   "execution_count": null,
   "id": "f4877d1e",
   "metadata": {},
   "outputs": [],
   "source": []
  },
  {
   "cell_type": "code",
   "execution_count": null,
   "id": "54770fac",
   "metadata": {},
   "outputs": [],
   "source": []
  },
  {
   "cell_type": "code",
   "execution_count": null,
   "id": "9565a208",
   "metadata": {},
   "outputs": [],
   "source": []
  },
  {
   "cell_type": "code",
   "execution_count": null,
   "id": "87f48c9b",
   "metadata": {},
   "outputs": [],
   "source": []
  },
  {
   "cell_type": "code",
   "execution_count": null,
   "id": "c6ce84ba",
   "metadata": {},
   "outputs": [],
   "source": []
  },
  {
   "cell_type": "code",
   "execution_count": null,
   "id": "9c66df17",
   "metadata": {},
   "outputs": [],
   "source": []
  },
  {
   "cell_type": "code",
   "execution_count": null,
   "id": "f51f778c",
   "metadata": {},
   "outputs": [],
   "source": []
  },
  {
   "cell_type": "code",
   "execution_count": null,
   "id": "65bd2fe8",
   "metadata": {},
   "outputs": [],
   "source": []
  },
  {
   "cell_type": "code",
   "execution_count": null,
   "id": "3528957a",
   "metadata": {},
   "outputs": [],
   "source": []
  },
  {
   "cell_type": "code",
   "execution_count": null,
   "id": "eee62b04",
   "metadata": {},
   "outputs": [],
   "source": []
  },
  {
   "cell_type": "code",
   "execution_count": null,
   "id": "17f543d4",
   "metadata": {},
   "outputs": [],
   "source": []
  }
 ],
 "metadata": {
  "kernelspec": {
   "display_name": "Python 3 (ipykernel)",
   "language": "python",
   "name": "python3"
  },
  "language_info": {
   "codemirror_mode": {
    "name": "ipython",
    "version": 3
   },
   "file_extension": ".py",
   "mimetype": "text/x-python",
   "name": "python",
   "nbconvert_exporter": "python",
   "pygments_lexer": "ipython3",
   "version": "3.10.9"
  },
  "toc": {
   "base_numbering": 1,
   "nav_menu": {},
   "number_sections": false,
   "sideBar": true,
   "skip_h1_title": false,
   "title_cell": "Table of Contents",
   "title_sidebar": "Contents",
   "toc_cell": false,
   "toc_position": {},
   "toc_section_display": true,
   "toc_window_display": false
  }
 },
 "nbformat": 4,
 "nbformat_minor": 5
}
