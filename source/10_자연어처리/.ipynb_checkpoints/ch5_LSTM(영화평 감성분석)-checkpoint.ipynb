{
 "cells": [
  {
   "cell_type": "markdown",
   "id": "265af7fa",
   "metadata": {},
   "source": [
    "<font size = \"6\" color = 'lightsteelblue'>ch5. LSTM(RNN)으로 영화평 구분하기</font>\n",
    "- 5만개 영화 감상평: Target 변수로 긍정 / 부정"
   ]
  },
  {
   "cell_type": "code",
   "execution_count": 1,
   "id": "28c675bb",
   "metadata": {
    "ExecuteTime": {
     "end_time": "2025-01-02T06:33:38.971432Z",
     "start_time": "2025-01-02T06:33:30.300403Z"
    }
   },
   "outputs": [],
   "source": [
    "# 1. package import\n",
    "import numpy as np\n",
    "from tensorflow.keras.datasets import imdb\n",
    "from tensorflow.keras.preprocessing.sequence import pad_sequences\n",
    "from time import time # 70.1.1 ~ 현재까지 몇 초 지났는지\n",
    "\n",
    "from tensorflow.keras.models import Sequential\n",
    "from tensorflow.keras.layers import Embedding, LSTM, Dense\n",
    "\n",
    "from sklearn.metrics import confusion_matrix, f1_score"
   ]
  },
  {
   "cell_type": "code",
   "execution_count": 2,
   "id": "6219ee2d",
   "metadata": {
    "ExecuteTime": {
     "end_time": "2025-01-02T06:33:39.951955Z",
     "start_time": "2025-01-02T06:33:39.938801Z"
    }
   },
   "outputs": [],
   "source": [
    "# 2. 하이퍼 파라미터 설정\n",
    "# 이 파라미터를 바꾸면 정확도나 속도에 차이가 날 수 있음\n",
    "MY_WORDS  = 1000 # imdb안의 단어 수\n",
    "MY_LENGTH = 80   # 영화평 단어 수 80개만 독립변수\n",
    "MY_EMBED  = 32   # Embedding 결과 차원\n",
    "MY_HIDEEN = 64   # LSTM의 units 차원\n",
    "\n",
    "MY_EPOCH  = 10   # 반복학습 수(fit)\n",
    "MY_BATCH  = 100  # batch_size(fit)"
   ]
  },
  {
   "cell_type": "code",
   "execution_count": 6,
   "id": "c6115f3a",
   "metadata": {
    "ExecuteTime": {
     "end_time": "2025-01-02T06:36:28.749940Z",
     "start_time": "2025-01-02T06:36:24.188274Z"
    }
   },
   "outputs": [],
   "source": [
    "# 3. 데이터 불러오기\n",
    "(X_train, y_train), (X_test, y_test) = imdb.load_data(num_words = MY_WORDS)\n",
    "# 1000개 단어 내 imdb 데이터 불러오기"
   ]
  },
  {
   "cell_type": "code",
   "execution_count": 15,
   "id": "34ed8b42",
   "metadata": {
    "ExecuteTime": {
     "end_time": "2025-01-02T06:43:09.058552Z",
     "start_time": "2025-01-02T06:43:09.051592Z"
    }
   },
   "outputs": [
    {
     "name": "stdout",
     "output_type": "stream",
     "text": [
      "학습용 입력데이터(독립변수) 모양: (25000,)\n",
      "학습용 출력데이터(종속변수) 모양: (25000,)\n",
      "학습용 입력데이터 샘플: 218 개 --- [1, 14, 22, 16, 43, 530, 973, 2, 2, 65, 458, 2, 66, 2, 4, 173, 36, 256, 5, 25, 100, 43, 838, 112, 50, 670, 2, 9, 35, 480, 284, 5, 150, 4, 172, 112, 167, 2, 336, 385, 39, 4, 172, 2, 2, 17, 546, 38, 13, 447, 4, 192, 50, 16, 6, 147, 2, 19, 14, 22, 4, 2, 2, 469, 4, 22, 71, 87, 12, 16, 43, 530, 38, 76, 15, 13, 2, 4, 22, 17, 515, 17, 12, 16, 626, 18, 2, 5, 62, 386, 12, 8, 316, 8, 106, 5, 4, 2, 2, 16, 480, 66, 2, 33, 4, 130, 12, 16, 38, 619, 5, 25, 124, 51, 36, 135, 48, 25, 2, 33, 6, 22, 12, 215, 28, 77, 52, 5, 14, 407, 16, 82, 2, 8, 4, 107, 117, 2, 15, 256, 4, 2, 7, 2, 5, 723, 36, 71, 43, 530, 476, 26, 400, 317, 46, 7, 4, 2, 2, 13, 104, 88, 4, 381, 15, 297, 98, 32, 2, 56, 26, 141, 6, 194, 2, 18, 4, 226, 22, 21, 134, 476, 26, 480, 5, 144, 30, 2, 18, 51, 36, 28, 224, 92, 25, 104, 4, 226, 65, 16, 38, 2, 88, 12, 16, 283, 5, 16, 2, 113, 103, 32, 15, 16, 2, 19, 178, 32]\n",
      "학습용 출력데이터 샘플(0: 부정, 1: 긍정): 1\n",
      "\n",
      "테스트용 입력데이터(독립변수) 모양: (25000,)\n",
      "테스트용 출력데이터(종속변수) 모양: (25000,)\n",
      "테스트용 입력데이터 샘플: 68 개 --- [1, 591, 202, 14, 31, 6, 717, 10, 10, 2, 2, 5, 4, 360, 7, 4, 177, 2, 394, 354, 4, 123, 9, 2, 2, 2, 10, 10, 13, 92, 124, 89, 488, 2, 100, 28, 2, 14, 31, 23, 27, 2, 29, 220, 468, 8, 124, 14, 286, 170, 8, 157, 46, 5, 27, 239, 16, 179, 2, 38, 32, 25, 2, 451, 202, 14, 6, 717]\n",
      "테스트용 출력데이터 샘플(0: 부정, 1: 긍정): 0\n"
     ]
    }
   ],
   "source": [
    "print('학습용 입력데이터(독립변수) 모양:', X_train.shape)\n",
    "print('학습용 출력데이터(종속변수) 모양:', y_train.shape)\n",
    "print('학습용 입력데이터 샘플:', len(X_train[0]), '개 ---', X_train[0])\n",
    "print('학습용 출력데이터 샘플(0: 부정, 1: 긍정):', y_train[0])\n",
    "\n",
    "print()\n",
    "\n",
    "print('테스트용 입력데이터(독립변수) 모양:', X_test.shape)\n",
    "print('테스트용 출력데이터(종속변수) 모양:', y_test.shape)\n",
    "print('테스트용 입력데이터 샘플:', len(X_test[0]), '개 ---', X_test[0])\n",
    "print('테스트용 출력데이터 샘플(0: 부정, 1: 긍정):', y_test[0])"
   ]
  },
  {
   "cell_type": "code",
   "execution_count": 19,
   "id": "fa4ed4cf",
   "metadata": {
    "ExecuteTime": {
     "end_time": "2025-01-02T06:45:09.608897Z",
     "start_time": "2025-01-02T06:45:09.603893Z"
    }
   },
   "outputs": [
    {
     "name": "stdout",
     "output_type": "stream",
     "text": [
      "학습용 데이터의 긍정 개수: 12500\n",
      "테스트용 데이터의 긍정 개수: 12500\n"
     ]
    }
   ],
   "source": [
    "# 긍정 개수\n",
    "print('학습용 데이터의 긍정 개수:', y_train.sum())\n",
    "print('테스트용 데이터의 긍정 개수:', y_test.sum())"
   ]
  },
  {
   "cell_type": "code",
   "execution_count": 20,
   "id": "e686100c",
   "metadata": {
    "ExecuteTime": {
     "end_time": "2025-01-02T06:48:15.665614Z",
     "start_time": "2025-01-02T06:48:15.658830Z"
    }
   },
   "outputs": [
    {
     "name": "stdout",
     "output_type": "stream",
     "text": [
      "첫 10개 영화평의 길이\n",
      "1번째 218\n",
      "2번째 189\n",
      "3번째 141\n",
      "4번째 550\n",
      "5번째 147\n",
      "6번째 43\n",
      "7번째 123\n",
      "8번째 562\n",
      "9번째 233\n",
      "10번째 130\n"
     ]
    }
   ],
   "source": [
    "# 4. 영화평 학습용 데이터 처음 10개 길이 출력 함수\n",
    "def show_length():\n",
    "    print('첫 10개 영화평의 길이')\n",
    "    for i in range(10):\n",
    "        print(f\"{i + 1}번째 {len(X_train[i])}\")\n",
    "show_length()"
   ]
  },
  {
   "cell_type": "code",
   "execution_count": 26,
   "id": "2863f941",
   "metadata": {
    "ExecuteTime": {
     "end_time": "2025-01-02T06:55:13.865944Z",
     "start_time": "2025-01-02T06:55:13.773421Z"
    }
   },
   "outputs": [
    {
     "name": "stdout",
     "output_type": "stream",
     "text": [
      "17\n",
      "19\n"
     ]
    }
   ],
   "source": [
    "# 5. 문자 단어 → 정수\n",
    "word_to_id = imdb.get_word_index() # 딕셔너리\n",
    "print(word_to_id['movie'])\n",
    "print(word_to_id['film'])\n",
    "# 정수 → 문자 단어\n",
    "id_to_word = {} # dict (정수id:문자단어)\n",
    "\n",
    "for key, val in word_to_id.items():\n",
    "    print(key, val)"
   ]
  },
  {
   "cell_type": "code",
   "execution_count": null,
   "id": "89b32c9c",
   "metadata": {},
   "outputs": [],
   "source": []
  },
  {
   "cell_type": "code",
   "execution_count": null,
   "id": "be64de48",
   "metadata": {},
   "outputs": [],
   "source": []
  },
  {
   "cell_type": "code",
   "execution_count": null,
   "id": "03325832",
   "metadata": {},
   "outputs": [],
   "source": []
  },
  {
   "cell_type": "code",
   "execution_count": null,
   "id": "51d521d2",
   "metadata": {},
   "outputs": [],
   "source": []
  },
  {
   "cell_type": "code",
   "execution_count": null,
   "id": "78406c1b",
   "metadata": {},
   "outputs": [],
   "source": []
  },
  {
   "cell_type": "code",
   "execution_count": null,
   "id": "c72f9516",
   "metadata": {},
   "outputs": [],
   "source": []
  },
  {
   "cell_type": "code",
   "execution_count": null,
   "id": "7320d6d8",
   "metadata": {},
   "outputs": [],
   "source": []
  },
  {
   "cell_type": "code",
   "execution_count": null,
   "id": "33bbdfa4",
   "metadata": {},
   "outputs": [],
   "source": []
  },
  {
   "cell_type": "code",
   "execution_count": null,
   "id": "563a0df3",
   "metadata": {},
   "outputs": [],
   "source": []
  },
  {
   "cell_type": "code",
   "execution_count": null,
   "id": "6c9df546",
   "metadata": {},
   "outputs": [],
   "source": []
  },
  {
   "cell_type": "code",
   "execution_count": null,
   "id": "c6166c2c",
   "metadata": {},
   "outputs": [],
   "source": []
  },
  {
   "cell_type": "code",
   "execution_count": null,
   "id": "b7006b05",
   "metadata": {},
   "outputs": [],
   "source": []
  },
  {
   "cell_type": "code",
   "execution_count": null,
   "id": "129fce57",
   "metadata": {},
   "outputs": [],
   "source": []
  },
  {
   "cell_type": "code",
   "execution_count": null,
   "id": "acd0ac51",
   "metadata": {},
   "outputs": [],
   "source": []
  },
  {
   "cell_type": "code",
   "execution_count": null,
   "id": "3fc41c89",
   "metadata": {},
   "outputs": [],
   "source": []
  },
  {
   "cell_type": "code",
   "execution_count": null,
   "id": "e0f7a30f",
   "metadata": {},
   "outputs": [],
   "source": []
  },
  {
   "cell_type": "code",
   "execution_count": null,
   "id": "6730344b",
   "metadata": {},
   "outputs": [],
   "source": []
  }
 ],
 "metadata": {
  "kernelspec": {
   "display_name": "Python 3 (ipykernel)",
   "language": "python",
   "name": "python3"
  },
  "language_info": {
   "codemirror_mode": {
    "name": "ipython",
    "version": 3
   },
   "file_extension": ".py",
   "mimetype": "text/x-python",
   "name": "python",
   "nbconvert_exporter": "python",
   "pygments_lexer": "ipython3",
   "version": "3.10.9"
  },
  "toc": {
   "base_numbering": 1,
   "nav_menu": {},
   "number_sections": true,
   "sideBar": true,
   "skip_h1_title": false,
   "title_cell": "Table of Contents",
   "title_sidebar": "Contents",
   "toc_cell": false,
   "toc_position": {},
   "toc_section_display": true,
   "toc_window_display": false
  }
 },
 "nbformat": 4,
 "nbformat_minor": 5
}
