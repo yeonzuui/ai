{
 "cells": [
  {
   "cell_type": "code",
   "execution_count": 1,
   "id": "f36993e4",
   "metadata": {
    "ExecuteTime": {
     "end_time": "2025-01-02T05:23:54.760156Z",
     "start_time": "2025-01-02T05:23:54.749638Z"
    }
   },
   "outputs": [
    {
     "data": {
      "text/html": [
       "\n",
       "<style>\n",
       "div.container{width:99% !important;}\n",
       "div.cell.code_cell.rendered{width:99%;}\n",
       "div.CodeMirror {font-family:Consolas; font-size:20pt;}\n",
       "div.output {font-size:18pt; font-weight:bold;}\n",
       "div.input {font-family:Consolas; font-size:19pt;}\n",
       "div.prompt {min-width:70px;}\n",
       "div#toc-wrapper{padding-top:120px;}\n",
       "span.toc-item-num{display:none;}\n",
       "div.text_cell_render ul li{font-size:16pt;padding:5px;}\n",
       "div.CodeMirror-lines > div {padding-left:10px;}\n",
       "table.dataframe{font-size:19px;}\n",
       "</style>\n"
      ],
      "text/plain": [
       "<IPython.core.display.HTML object>"
      ]
     },
     "metadata": {},
     "output_type": "display_data"
    }
   ],
   "source": [
    "from IPython.display import display, HTML\n",
    "display(HTML(\"\"\"\n",
    "<style>\n",
    "div.container{width:99% !important;}\n",
    "div.cell.code_cell.rendered{width:99%;}\n",
    "div.CodeMirror {font-family:Consolas; font-size:20pt;}\n",
    "div.output {font-size:18pt; font-weight:bold;}\n",
    "div.input {font-family:Consolas; font-size:19pt;}\n",
    "div.prompt {min-width:70px;}\n",
    "div#toc-wrapper{padding-top:120px;}\n",
    "span.toc-item-num{display:none;}\n",
    "div.text_cell_render ul li{font-size:16pt;padding:5px;}\n",
    "div.CodeMirror-lines > div {padding-left:10px;}\n",
    "table.dataframe{font-size:19px;}\n",
    "</style>\n",
    "\"\"\"))"
   ]
  },
  {
   "cell_type": "markdown",
   "id": "8762c08c",
   "metadata": {},
   "source": [
    "**<font size=\"5\" color=\"red\">ch4. RNN(Recurrent Neural Network 순환신경망</font>**\n",
    "# 1. 문맥을 이용하여 모델만들기 - 전처리"
   ]
  },
  {
   "cell_type": "code",
   "execution_count": 2,
   "id": "24d54f11",
   "metadata": {
    "ExecuteTime": {
     "end_time": "2025-01-02T05:23:54.769601Z",
     "start_time": "2025-01-02T05:23:54.763119Z"
    }
   },
   "outputs": [],
   "source": [
    "text = \"\"\"경마장에 있는 말이 뛰고 있다\n",
    "그의 말이 법이다\n",
    "가는 말이 고와야 오는 말이 곱다\"\"\""
   ]
  },
  {
   "cell_type": "code",
   "execution_count": 64,
   "id": "27808188",
   "metadata": {
    "ExecuteTime": {
     "end_time": "2025-01-02T05:46:42.674728Z",
     "start_time": "2025-01-02T05:46:42.667471Z"
    }
   },
   "outputs": [
    {
     "name": "stdout",
     "output_type": "stream",
     "text": [
      "[2, 3, 1, 4, 5, 6, 1, 7, 8, 1, 9, 10, 1, 11]\n",
      "{'말이': 1, '경마장에': 2, '있는': 3, '뛰고': 4, '있다': 5, '그의': 6, '법이다': 7, '가는': 8, '고와야': 9, '오는': 10, '곱다': 11}\n"
     ]
    }
   ],
   "source": [
    "from keras_preprocessing.text import Tokenizer\n",
    "t = Tokenizer()\n",
    "t.fit_on_texts([text])\n",
    "encoded = t.texts_to_sequences([text])[0]\n",
    "print(encoded)\n",
    "print(t.word_index)"
   ]
  },
  {
   "cell_type": "code",
   "execution_count": 4,
   "id": "14744fee",
   "metadata": {
    "ExecuteTime": {
     "end_time": "2025-01-02T05:23:54.977296Z",
     "start_time": "2025-01-02T05:23:54.971273Z"
    }
   },
   "outputs": [
    {
     "name": "stdout",
     "output_type": "stream",
     "text": [
      "[[2, 1, 5], [1]]\n",
      "[2, 1, 5]\n"
     ]
    }
   ],
   "source": [
    "# 문자열을 인덱스 시퀀스로 변환\n",
    "print(t.texts_to_sequences(['경마장에 말이 있다', '말이 뛰다']))\n",
    "print(t.texts_to_sequences(['경마장에 말이 있다'])[0])"
   ]
  },
  {
   "cell_type": "code",
   "execution_count": 5,
   "id": "15baad41",
   "metadata": {
    "ExecuteTime": {
     "end_time": "2025-01-02T05:23:54.987230Z",
     "start_time": "2025-01-02T05:23:54.980249Z"
    }
   },
   "outputs": [
    {
     "name": "stdout",
     "output_type": "stream",
     "text": [
      "[[0. 1. 0. 0. 1. 0. 0. 0. 0. 0. 0. 0.]]\n",
      "[[1, 4]]\n"
     ]
    }
   ],
   "source": [
    "print(t.texts_to_matrix(['말이 뛰고']))\n",
    "print(t.texts_to_sequences(['말이 뛰고']))"
   ]
  },
  {
   "cell_type": "code",
   "execution_count": 6,
   "id": "7692d6a3",
   "metadata": {
    "ExecuteTime": {
     "end_time": "2025-01-02T05:23:54.998917Z",
     "start_time": "2025-01-02T05:23:54.990221Z"
    }
   },
   "outputs": [],
   "source": [
    "text = \"\"\"경마장에 있는 말이 뛰고 있다\n",
    "그의 말이 법이다\n",
    "가는 말이 고와야 오는 말이 곱다\"\"\""
   ]
  },
  {
   "cell_type": "code",
   "execution_count": 7,
   "id": "3656a9dd",
   "metadata": {
    "ExecuteTime": {
     "end_time": "2025-01-02T05:23:55.011883Z",
     "start_time": "2025-01-02T05:23:55.001911Z"
    }
   },
   "outputs": [
    {
     "name": "stdout",
     "output_type": "stream",
     "text": [
      "원래 문장: 경마장에 있는 말이 뛰고 있다\n",
      "encoded된 문장: [2, 3, 1, 4, 5]\n",
      "원래 문장: 그의 말이 법이다\n",
      "encoded된 문장: [6, 1, 7]\n",
      "원래 문장: 가는 말이 고와야 오는 말이 곱다\n",
      "encoded된 문장: [8, 1, 9, 10, 1, 11]\n",
      "sequences와 해석을 출력\n",
      "[2:경마장에 3:있는 ]\n",
      "[2:경마장에 3:있는 1:말이 ]\n",
      "[2:경마장에 3:있는 1:말이 4:뛰고 ]\n",
      "[2:경마장에 3:있는 1:말이 4:뛰고 5:있다 ]\n",
      "[3:있는 1:말이 ]\n",
      "[3:있는 1:말이 4:뛰고 ]\n",
      "[3:있는 1:말이 4:뛰고 5:있다 ]\n",
      "[1:말이 4:뛰고 ]\n",
      "[1:말이 4:뛰고 5:있다 ]\n",
      "[4:뛰고 5:있다 ]\n",
      "[6:그의 1:말이 ]\n",
      "[6:그의 1:말이 7:법이다 ]\n",
      "[1:말이 7:법이다 ]\n",
      "[8:가는 1:말이 ]\n",
      "[8:가는 1:말이 9:고와야 ]\n",
      "[8:가는 1:말이 9:고와야 10:오는 ]\n",
      "[8:가는 1:말이 9:고와야 10:오는 1:말이 ]\n",
      "[8:가는 1:말이 9:고와야 10:오는 1:말이 11:곱다 ]\n",
      "[1:말이 9:고와야 ]\n",
      "[1:말이 9:고와야 10:오는 ]\n",
      "[1:말이 9:고와야 10:오는 1:말이 ]\n",
      "[1:말이 9:고와야 10:오는 1:말이 11:곱다 ]\n",
      "[9:고와야 10:오는 ]\n",
      "[9:고와야 10:오는 1:말이 ]\n",
      "[9:고와야 10:오는 1:말이 11:곱다 ]\n",
      "[10:오는 1:말이 ]\n",
      "[10:오는 1:말이 11:곱다 ]\n",
      "[1:말이 11:곱다 ]\n"
     ]
    }
   ],
   "source": [
    "# text를 학습시키기 위해 ['경마장에 있는', '경마장에 있는 말이', '경마장에 있는 말이 뛰고', ...]\n",
    "sequences = []\n",
    "for line in text.split('\\n'):\n",
    "    print('원래 문장:', line)\n",
    "    encoded = t.texts_to_sequences([line])[0]\n",
    "    print('encoded된 문장:', encoded)\n",
    "    for i in range(0, len(encoded) - 1): # 시작 index(빨간색 화살표)\n",
    "        for j in range(i + 2, len(encoded) + 1): # 끝나는 index(파란색 화살표)\n",
    "            sequences.append(encoded[i:j])\n",
    "# sequences\n",
    "print('sequences와 해석을 출력')\n",
    "for sequence in sequences :\n",
    "    print('[', end = '')\n",
    "    for word_seq in sequence:\n",
    "        for word, value in t.word_index.items():\n",
    "            if word_seq == value:\n",
    "                print(\"{}:{}\".format(word_seq, word), end = ' ')\n",
    "                break\n",
    "    print(']')"
   ]
  },
  {
   "cell_type": "code",
   "execution_count": 8,
   "id": "f80e0e66",
   "metadata": {
    "ExecuteTime": {
     "end_time": "2025-01-02T05:23:55.024189Z",
     "start_time": "2025-01-02T05:23:55.016211Z"
    }
   },
   "outputs": [
    {
     "data": {
      "text/plain": [
       "[[2, 3], [2, 3, 1], [2, 3, 1, 4], [2, 3, 1, 4, 5], [3, 1]]"
      ]
     },
     "execution_count": 8,
     "metadata": {},
     "output_type": "execute_result"
    }
   ],
   "source": [
    "sequences[:5]"
   ]
  },
  {
   "cell_type": "code",
   "execution_count": 9,
   "id": "375dc851",
   "metadata": {
    "ExecuteTime": {
     "end_time": "2025-01-02T05:23:55.034170Z",
     "start_time": "2025-01-02T05:23:55.026185Z"
    }
   },
   "outputs": [
    {
     "name": "stdout",
     "output_type": "stream",
     "text": [
      "[2, 3, 4, 5, 2, 3, 4, 2, 3, 2, 2, 3, 2, 2, 3, 4, 5, 6, 2, 3, 4, 5, 2, 3, 4, 2, 3, 2]\n"
     ]
    }
   ],
   "source": [
    "# sequence별 len\n",
    "print([len(sequence) for sequence in sequences])"
   ]
  },
  {
   "cell_type": "code",
   "execution_count": 10,
   "id": "a1d3079a",
   "metadata": {
    "ExecuteTime": {
     "end_time": "2025-01-02T05:23:55.044143Z",
     "start_time": "2025-01-02T05:23:55.037163Z"
    }
   },
   "outputs": [
    {
     "data": {
      "text/plain": [
       "6"
      ]
     },
     "execution_count": 10,
     "metadata": {},
     "output_type": "execute_result"
    }
   ],
   "source": [
    "my_len = max([len(sequence) for sequence in sequences])\n",
    "my_len # 최대 len 6: 독립변수 5, 종속변수 1"
   ]
  },
  {
   "cell_type": "code",
   "execution_count": 11,
   "id": "6536b103",
   "metadata": {
    "ExecuteTime": {
     "end_time": "2025-01-02T05:23:59.398589Z",
     "start_time": "2025-01-02T05:23:55.047136Z"
    }
   },
   "outputs": [
    {
     "data": {
      "text/plain": [
       "(numpy.ndarray,\n",
       " (28, 4),\n",
       " array([[ 0,  0,  2,  3],\n",
       "        [ 0,  2,  3,  1],\n",
       "        [ 2,  3,  1,  4],\n",
       "        [ 2,  3,  1,  4],\n",
       "        [ 0,  0,  3,  1],\n",
       "        [ 0,  3,  1,  4],\n",
       "        [ 3,  1,  4,  5],\n",
       "        [ 0,  0,  1,  4],\n",
       "        [ 0,  1,  4,  5],\n",
       "        [ 0,  0,  4,  5],\n",
       "        [ 0,  0,  6,  1],\n",
       "        [ 0,  6,  1,  7],\n",
       "        [ 0,  0,  1,  7],\n",
       "        [ 0,  0,  8,  1],\n",
       "        [ 0,  8,  1,  9],\n",
       "        [ 8,  1,  9, 10],\n",
       "        [ 8,  1,  9, 10],\n",
       "        [ 8,  1,  9, 10],\n",
       "        [ 0,  0,  1,  9],\n",
       "        [ 0,  1,  9, 10],\n",
       "        [ 1,  9, 10,  1],\n",
       "        [ 1,  9, 10,  1],\n",
       "        [ 0,  0,  9, 10],\n",
       "        [ 0,  9, 10,  1],\n",
       "        [ 9, 10,  1, 11],\n",
       "        [ 0,  0, 10,  1],\n",
       "        [ 0, 10,  1, 11],\n",
       "        [ 0,  0,  1, 11]]))"
      ]
     },
     "execution_count": 11,
     "metadata": {},
     "output_type": "execute_result"
    }
   ],
   "source": [
    "# padding 작업\n",
    "# sequences를 훈련 가능하도록 6개의 열로 조정\n",
    "from tensorflow.keras.preprocessing.sequence import pad_sequences\n",
    "padded_sequences = pad_sequences(sequences = sequences,\n",
    "                                 maxlen = 4,          # 모든 열을 6개의 열로 맞추기(최대 열수)\n",
    "                                 padding = 'pre',     # 최대 열수보다 많은 경우 0을 채울 위치, 앞에 0, / 'post': 뒤에 0\n",
    "                                 # value = 1,         # 채울 숫자(default 0)\n",
    "                                 truncating = 'post', # 최대 열수보다 많은 경우 데이터 자를 위치\n",
    "                                )\n",
    "type(padded_sequences), padded_sequences.shape, padded_sequences"
   ]
  },
  {
   "cell_type": "code",
   "execution_count": 12,
   "id": "eb6bccc5",
   "metadata": {
    "ExecuteTime": {
     "end_time": "2025-01-02T05:23:59.415899Z",
     "start_time": "2025-01-02T05:23:59.405282Z"
    }
   },
   "outputs": [
    {
     "data": {
      "text/plain": [
       "(array([[ 0,  0,  2],\n",
       "        [ 0,  2,  3],\n",
       "        [ 2,  3,  1],\n",
       "        [ 2,  3,  1],\n",
       "        [ 0,  0,  3],\n",
       "        [ 0,  3,  1],\n",
       "        [ 3,  1,  4],\n",
       "        [ 0,  0,  1],\n",
       "        [ 0,  1,  4],\n",
       "        [ 0,  0,  4],\n",
       "        [ 0,  0,  6],\n",
       "        [ 0,  6,  1],\n",
       "        [ 0,  0,  1],\n",
       "        [ 0,  0,  8],\n",
       "        [ 0,  8,  1],\n",
       "        [ 8,  1,  9],\n",
       "        [ 8,  1,  9],\n",
       "        [ 8,  1,  9],\n",
       "        [ 0,  0,  1],\n",
       "        [ 0,  1,  9],\n",
       "        [ 1,  9, 10],\n",
       "        [ 1,  9, 10],\n",
       "        [ 0,  0,  9],\n",
       "        [ 0,  9, 10],\n",
       "        [ 9, 10,  1],\n",
       "        [ 0,  0, 10],\n",
       "        [ 0, 10,  1],\n",
       "        [ 0,  0,  1]]),\n",
       " array([ 3,  1,  4,  4,  1,  4,  5,  4,  5,  5,  1,  7,  7,  1,  9, 10, 10,\n",
       "        10,  9, 10,  1,  1, 10,  1, 11,  1, 11, 11]))"
      ]
     },
     "execution_count": 12,
     "metadata": {},
     "output_type": "execute_result"
    }
   ],
   "source": [
    "# 독립변수(X)와 타겟변수(종속변수 y)로 분리\n",
    "X = padded_sequences[:, :-1]\n",
    "y = padded_sequences[:, -1]\n",
    "X, y"
   ]
  },
  {
   "cell_type": "code",
   "execution_count": 13,
   "id": "c0cc13d9",
   "metadata": {
    "ExecuteTime": {
     "end_time": "2025-01-02T05:23:59.423879Z",
     "start_time": "2025-01-02T05:23:59.418891Z"
    }
   },
   "outputs": [],
   "source": [
    "# 단어 갯수 \n",
    "vocab_size = len(t.word_index)"
   ]
  },
  {
   "cell_type": "code",
   "execution_count": 14,
   "id": "8da1dac1",
   "metadata": {
    "ExecuteTime": {
     "end_time": "2025-01-02T05:23:59.449408Z",
     "start_time": "2025-01-02T05:23:59.427897Z"
    }
   },
   "outputs": [
    {
     "data": {
      "text/plain": [
       "array([[0., 0., 0., 1., 0., 0., 0., 0., 0., 0., 0., 0.],\n",
       "       [0., 1., 0., 0., 0., 0., 0., 0., 0., 0., 0., 0.],\n",
       "       [0., 0., 0., 0., 1., 0., 0., 0., 0., 0., 0., 0.],\n",
       "       [0., 0., 0., 0., 1., 0., 0., 0., 0., 0., 0., 0.],\n",
       "       [0., 1., 0., 0., 0., 0., 0., 0., 0., 0., 0., 0.],\n",
       "       [0., 0., 0., 0., 1., 0., 0., 0., 0., 0., 0., 0.],\n",
       "       [0., 0., 0., 0., 0., 1., 0., 0., 0., 0., 0., 0.],\n",
       "       [0., 0., 0., 0., 1., 0., 0., 0., 0., 0., 0., 0.],\n",
       "       [0., 0., 0., 0., 0., 1., 0., 0., 0., 0., 0., 0.],\n",
       "       [0., 0., 0., 0., 0., 1., 0., 0., 0., 0., 0., 0.],\n",
       "       [0., 1., 0., 0., 0., 0., 0., 0., 0., 0., 0., 0.],\n",
       "       [0., 0., 0., 0., 0., 0., 0., 1., 0., 0., 0., 0.],\n",
       "       [0., 0., 0., 0., 0., 0., 0., 1., 0., 0., 0., 0.],\n",
       "       [0., 1., 0., 0., 0., 0., 0., 0., 0., 0., 0., 0.],\n",
       "       [0., 0., 0., 0., 0., 0., 0., 0., 0., 1., 0., 0.],\n",
       "       [0., 0., 0., 0., 0., 0., 0., 0., 0., 0., 1., 0.],\n",
       "       [0., 0., 0., 0., 0., 0., 0., 0., 0., 0., 1., 0.],\n",
       "       [0., 0., 0., 0., 0., 0., 0., 0., 0., 0., 1., 0.],\n",
       "       [0., 0., 0., 0., 0., 0., 0., 0., 0., 1., 0., 0.],\n",
       "       [0., 0., 0., 0., 0., 0., 0., 0., 0., 0., 1., 0.],\n",
       "       [0., 1., 0., 0., 0., 0., 0., 0., 0., 0., 0., 0.],\n",
       "       [0., 1., 0., 0., 0., 0., 0., 0., 0., 0., 0., 0.],\n",
       "       [0., 0., 0., 0., 0., 0., 0., 0., 0., 0., 1., 0.],\n",
       "       [0., 1., 0., 0., 0., 0., 0., 0., 0., 0., 0., 0.],\n",
       "       [0., 0., 0., 0., 0., 0., 0., 0., 0., 0., 0., 1.],\n",
       "       [0., 1., 0., 0., 0., 0., 0., 0., 0., 0., 0., 0.],\n",
       "       [0., 0., 0., 0., 0., 0., 0., 0., 0., 0., 0., 1.],\n",
       "       [0., 0., 0., 0., 0., 0., 0., 0., 0., 0., 0., 1.]], dtype=float32)"
      ]
     },
     "execution_count": 14,
     "metadata": {},
     "output_type": "execute_result"
    }
   ],
   "source": [
    "# One-Hot Encoding \n",
    "# to_categorical 사용 (2, 8 없음 고려)\n",
    "from tensorflow.keras.utils import to_categorical\n",
    "Y = to_categorical(y, \n",
    "                   vocab_size + 1) #  One-Hot Encoding 카테고리 수\n",
    "Y"
   ]
  },
  {
   "cell_type": "code",
   "execution_count": 15,
   "id": "b37498f9",
   "metadata": {
    "ExecuteTime": {
     "end_time": "2025-01-02T05:23:59.466057Z",
     "start_time": "2025-01-02T05:23:59.452401Z"
    }
   },
   "outputs": [
    {
     "data": {
      "text/plain": [
       "((28, 3), (28, 12))"
      ]
     },
     "execution_count": 15,
     "metadata": {},
     "output_type": "execute_result"
    }
   ],
   "source": [
    "X.shape, Y.shape"
   ]
  },
  {
   "cell_type": "markdown",
   "id": "44028d79",
   "metadata": {},
   "source": [
    "# 2. Model 생성 (RNN)\n",
    "- 순서가 의미있는 데이터를 학습할 경우\n",
    "- ex. 자연어 처리, 연주, 주식, 날씨, ..."
   ]
  },
  {
   "cell_type": "markdown",
   "id": "6e6c95c5",
   "metadata": {},
   "source": [
    "    - 단어 Embedding\n",
    "- One-Hot Encoding된 단어는 대부분 0으로 구성된 행렬 = 희소행렬, 너무 길다\n",
    "- 데이터 축소를 위해 행렬을 곱해서 vector로 출력\n",
    "- Embedding Weight Matrix(가중치 행렬)는 [입력할 단어 개수 x 출력할 벡터의 len]의 크기를 가짐\n",
    "- [입력할 단어 개수 x 출력할 벡터의 len]가 parameter 개수가 됨\n",
    "\n",
    "\n",
    "- RNN vs. LSTM\n",
    "- RNN은 입력 단어 개수 많아질수록 가중치(w)의 학습이 어려워짐\n",
    "- (아래는 learning_rate = 0.01 가정 시 가중치 학습 식)\n",
    "- w = w - (0.01*미분치)*0.01*미분치 ...\n",
    "- 역전파 알고리즘 이용해서 뒤에서부터 parameter 바꿈\n",
    "- 입력 단어 개수만큼 0.01 곱하니까 가중치 조정값이 매우 작아짐, 학습 다 끝나도 실질적으로 w는 거의 변하지 않음\n",
    "- Vanilla RNN에서는 보통 활성화 함수로 tanh 사용\n",
    "- 이러한 문제를 해결하기 위해 LSTM에서는 데이터를 일부만 보내는 장치 적용"
   ]
  },
  {
   "cell_type": "code",
   "execution_count": 58,
   "id": "1b9131d7",
   "metadata": {
    "ExecuteTime": {
     "end_time": "2025-01-02T05:46:10.212195Z",
     "start_time": "2025-01-02T05:46:10.092472Z"
    }
   },
   "outputs": [
    {
     "name": "stdout",
     "output_type": "stream",
     "text": [
      "Model: \"sequential_1\"\n",
      "_________________________________________________________________\n",
      " Layer (type)                Output Shape              Param #   \n",
      "=================================================================\n",
      " embedding_1 (Embedding)     (None, 3, 10)             120       \n",
      "                                                                 \n",
      " simple_rnn_1 (SimpleRNN)    (None, 32)                1376      \n",
      "                                                                 \n",
      " dense_1 (Dense)             (None, 12)                396       \n",
      "                                                                 \n",
      "=================================================================\n",
      "Total params: 1,892\n",
      "Trainable params: 1,892\n",
      "Non-trainable params: 0\n",
      "_________________________________________________________________\n",
      "None\n"
     ]
    }
   ],
   "source": [
    "# 순차적 레이어 모델 생성\n",
    "from tensorflow.keras.models import Sequential\n",
    "# 긴 희소행렬 반환, RNN\n",
    "from tensorflow.keras.layers import Embedding, SimpleRNN, RNN\n",
    "from tensorflow.keras.layers import Dense\n",
    "\n",
    "model = Sequential()\n",
    "\n",
    "# 희소행렬(12) → 10열 행렬(28개 = 독립변수 행 수)\n",
    "model.add(Embedding(input_dim = vocab_size + 1,  # 12개 입력\n",
    "                    output_dim = vocab_size - 1, # 10개 출력하기 위한 embedding\n",
    "                    input_length = X.shape[1],   # 독립변수 데이터 수\n",
    "                   ))\n",
    "\n",
    "model.add(SimpleRNN(units = 32)) # 10개 → 32개\n",
    "model.add(Dense(units = 12, activation = 'softmax'))\n",
    "print(model.summary())"
   ]
  },
  {
   "cell_type": "markdown",
   "id": "953997bc",
   "metadata": {},
   "source": [
    "# 3. 학습과정 설정 및 학습하기"
   ]
  },
  {
   "cell_type": "code",
   "execution_count": 59,
   "id": "cc9aa369",
   "metadata": {
    "ExecuteTime": {
     "end_time": "2025-01-02T05:46:21.575768Z",
     "start_time": "2025-01-02T05:46:15.548082Z"
    }
   },
   "outputs": [
    {
     "name": "stdout",
     "output_type": "stream",
     "text": [
      "Epoch 1/300\n",
      "1/1 - 1s - loss: 2.4630 - accuracy: 0.1429 - 894ms/epoch - 894ms/step\n",
      "Epoch 2/300\n",
      "1/1 - 0s - loss: 2.4521 - accuracy: 0.2500 - 12ms/epoch - 12ms/step\n",
      "Epoch 3/300\n",
      "1/1 - 0s - loss: 2.4411 - accuracy: 0.3571 - 14ms/epoch - 14ms/step\n",
      "Epoch 4/300\n",
      "1/1 - 0s - loss: 2.4299 - accuracy: 0.3571 - 16ms/epoch - 16ms/step\n",
      "Epoch 5/300\n",
      "1/1 - 0s - loss: 2.4184 - accuracy: 0.3929 - 0s/epoch - 0s/step\n",
      "Epoch 6/300\n",
      "1/1 - 0s - loss: 2.4067 - accuracy: 0.4286 - 14ms/epoch - 14ms/step\n",
      "Epoch 7/300\n",
      "1/1 - 0s - loss: 2.3947 - accuracy: 0.4286 - 17ms/epoch - 17ms/step\n",
      "Epoch 8/300\n",
      "1/1 - 0s - loss: 2.3824 - accuracy: 0.4286 - 16ms/epoch - 16ms/step\n",
      "Epoch 9/300\n",
      "1/1 - 0s - loss: 2.3698 - accuracy: 0.4286 - 15ms/epoch - 15ms/step\n",
      "Epoch 10/300\n",
      "1/1 - 0s - loss: 2.3568 - accuracy: 0.4643 - 14ms/epoch - 14ms/step\n",
      "Epoch 11/300\n",
      "1/1 - 0s - loss: 2.3435 - accuracy: 0.4643 - 13ms/epoch - 13ms/step\n",
      "Epoch 12/300\n",
      "1/1 - 0s - loss: 2.3297 - accuracy: 0.5000 - 14ms/epoch - 14ms/step\n",
      "Epoch 13/300\n",
      "1/1 - 0s - loss: 2.3156 - accuracy: 0.5000 - 15ms/epoch - 15ms/step\n",
      "Epoch 14/300\n",
      "1/1 - 0s - loss: 2.3011 - accuracy: 0.5000 - 14ms/epoch - 14ms/step\n",
      "Epoch 15/300\n",
      "1/1 - 0s - loss: 2.2862 - accuracy: 0.5000 - 14ms/epoch - 14ms/step\n",
      "Epoch 16/300\n",
      "1/1 - 0s - loss: 2.2708 - accuracy: 0.4643 - 13ms/epoch - 13ms/step\n",
      "Epoch 17/300\n",
      "1/1 - 0s - loss: 2.2551 - accuracy: 0.4643 - 13ms/epoch - 13ms/step\n",
      "Epoch 18/300\n",
      "1/1 - 0s - loss: 2.2391 - accuracy: 0.4643 - 15ms/epoch - 15ms/step\n",
      "Epoch 19/300\n",
      "1/1 - 0s - loss: 2.2226 - accuracy: 0.4643 - 14ms/epoch - 14ms/step\n",
      "Epoch 20/300\n",
      "1/1 - 0s - loss: 2.2059 - accuracy: 0.4643 - 14ms/epoch - 14ms/step\n",
      "Epoch 21/300\n",
      "1/1 - 0s - loss: 2.1889 - accuracy: 0.4643 - 15ms/epoch - 15ms/step\n",
      "Epoch 22/300\n",
      "1/1 - 0s - loss: 2.1717 - accuracy: 0.4643 - 15ms/epoch - 15ms/step\n",
      "Epoch 23/300\n",
      "1/1 - 0s - loss: 2.1543 - accuracy: 0.4643 - 14ms/epoch - 14ms/step\n",
      "Epoch 24/300\n",
      "1/1 - 0s - loss: 2.1368 - accuracy: 0.4643 - 14ms/epoch - 14ms/step\n",
      "Epoch 25/300\n",
      "1/1 - 0s - loss: 2.1192 - accuracy: 0.4643 - 15ms/epoch - 15ms/step\n",
      "Epoch 26/300\n",
      "1/1 - 0s - loss: 2.1017 - accuracy: 0.4643 - 15ms/epoch - 15ms/step\n",
      "Epoch 27/300\n",
      "1/1 - 0s - loss: 2.0844 - accuracy: 0.4643 - 15ms/epoch - 15ms/step\n",
      "Epoch 28/300\n",
      "1/1 - 0s - loss: 2.0672 - accuracy: 0.4643 - 15ms/epoch - 15ms/step\n",
      "Epoch 29/300\n",
      "1/1 - 0s - loss: 2.0503 - accuracy: 0.4643 - 15ms/epoch - 15ms/step\n",
      "Epoch 30/300\n",
      "1/1 - 0s - loss: 2.0338 - accuracy: 0.4643 - 15ms/epoch - 15ms/step\n",
      "Epoch 31/300\n",
      "1/1 - 0s - loss: 2.0176 - accuracy: 0.4643 - 15ms/epoch - 15ms/step\n",
      "Epoch 32/300\n",
      "1/1 - 0s - loss: 2.0020 - accuracy: 0.4643 - 15ms/epoch - 15ms/step\n",
      "Epoch 33/300\n",
      "1/1 - 0s - loss: 1.9868 - accuracy: 0.4643 - 15ms/epoch - 15ms/step\n",
      "Epoch 34/300\n",
      "1/1 - 0s - loss: 1.9722 - accuracy: 0.4643 - 16ms/epoch - 16ms/step\n",
      "Epoch 35/300\n",
      "1/1 - 0s - loss: 1.9580 - accuracy: 0.4643 - 15ms/epoch - 15ms/step\n",
      "Epoch 36/300\n",
      "1/1 - 0s - loss: 1.9442 - accuracy: 0.4643 - 14ms/epoch - 14ms/step\n",
      "Epoch 37/300\n",
      "1/1 - 0s - loss: 1.9308 - accuracy: 0.4643 - 26ms/epoch - 26ms/step\n",
      "Epoch 38/300\n",
      "1/1 - 0s - loss: 1.9178 - accuracy: 0.4643 - 20ms/epoch - 20ms/step\n",
      "Epoch 39/300\n",
      "1/1 - 0s - loss: 1.9049 - accuracy: 0.3929 - 14ms/epoch - 14ms/step\n",
      "Epoch 40/300\n",
      "1/1 - 0s - loss: 1.8921 - accuracy: 0.3929 - 13ms/epoch - 13ms/step\n",
      "Epoch 41/300\n",
      "1/1 - 0s - loss: 1.8794 - accuracy: 0.3929 - 13ms/epoch - 13ms/step\n",
      "Epoch 42/300\n",
      "1/1 - 0s - loss: 1.8667 - accuracy: 0.4643 - 15ms/epoch - 15ms/step\n",
      "Epoch 43/300\n",
      "1/1 - 0s - loss: 1.8540 - accuracy: 0.4643 - 15ms/epoch - 15ms/step\n",
      "Epoch 44/300\n",
      "1/1 - 0s - loss: 1.8412 - accuracy: 0.4643 - 15ms/epoch - 15ms/step\n",
      "Epoch 45/300\n",
      "1/1 - 0s - loss: 1.8282 - accuracy: 0.4643 - 14ms/epoch - 14ms/step\n",
      "Epoch 46/300\n",
      "1/1 - 0s - loss: 1.8152 - accuracy: 0.4643 - 10ms/epoch - 10ms/step\n",
      "Epoch 47/300\n",
      "1/1 - 0s - loss: 1.8021 - accuracy: 0.4643 - 17ms/epoch - 17ms/step\n",
      "Epoch 48/300\n",
      "1/1 - 0s - loss: 1.7890 - accuracy: 0.4643 - 23ms/epoch - 23ms/step\n",
      "Epoch 49/300\n",
      "1/1 - 0s - loss: 1.7759 - accuracy: 0.4643 - 16ms/epoch - 16ms/step\n",
      "Epoch 50/300\n",
      "1/1 - 0s - loss: 1.7627 - accuracy: 0.4643 - 16ms/epoch - 16ms/step\n",
      "Epoch 51/300\n",
      "1/1 - 0s - loss: 1.7495 - accuracy: 0.4643 - 17ms/epoch - 17ms/step\n",
      "Epoch 52/300\n",
      "1/1 - 0s - loss: 1.7364 - accuracy: 0.4643 - 17ms/epoch - 17ms/step\n",
      "Epoch 53/300\n",
      "1/1 - 0s - loss: 1.7233 - accuracy: 0.4643 - 17ms/epoch - 17ms/step\n",
      "Epoch 54/300\n",
      "1/1 - 0s - loss: 1.7102 - accuracy: 0.4643 - 7ms/epoch - 7ms/step\n",
      "Epoch 55/300\n",
      "1/1 - 0s - loss: 1.6970 - accuracy: 0.4643 - 5ms/epoch - 5ms/step\n",
      "Epoch 56/300\n",
      "1/1 - 0s - loss: 1.6838 - accuracy: 0.5000 - 4ms/epoch - 4ms/step\n",
      "Epoch 57/300\n",
      "1/1 - 0s - loss: 1.6706 - accuracy: 0.5000 - 5ms/epoch - 5ms/step\n",
      "Epoch 58/300\n",
      "1/1 - 0s - loss: 1.6573 - accuracy: 0.5000 - 14ms/epoch - 14ms/step\n",
      "Epoch 59/300\n",
      "1/1 - 0s - loss: 1.6438 - accuracy: 0.5000 - 10ms/epoch - 10ms/step\n",
      "Epoch 60/300\n",
      "1/1 - 0s - loss: 1.6303 - accuracy: 0.5000 - 3ms/epoch - 3ms/step\n",
      "Epoch 61/300\n",
      "1/1 - 0s - loss: 1.6166 - accuracy: 0.5000 - 5ms/epoch - 5ms/step\n",
      "Epoch 62/300\n",
      "1/1 - 0s - loss: 1.6028 - accuracy: 0.5000 - 16ms/epoch - 16ms/step\n",
      "Epoch 63/300\n",
      "1/1 - 0s - loss: 1.5889 - accuracy: 0.5000 - 15ms/epoch - 15ms/step\n",
      "Epoch 64/300\n",
      "1/1 - 0s - loss: 1.5748 - accuracy: 0.5000 - 16ms/epoch - 16ms/step\n",
      "Epoch 65/300\n",
      "1/1 - 0s - loss: 1.5605 - accuracy: 0.5000 - 17ms/epoch - 17ms/step\n",
      "Epoch 66/300\n",
      "1/1 - 0s - loss: 1.5462 - accuracy: 0.5000 - 14ms/epoch - 14ms/step\n",
      "Epoch 67/300\n",
      "1/1 - 0s - loss: 1.5317 - accuracy: 0.5000 - 14ms/epoch - 14ms/step\n",
      "Epoch 68/300\n",
      "1/1 - 0s - loss: 1.5172 - accuracy: 0.5357 - 14ms/epoch - 14ms/step\n",
      "Epoch 69/300\n",
      "1/1 - 0s - loss: 1.5025 - accuracy: 0.5357 - 16ms/epoch - 16ms/step\n",
      "Epoch 70/300\n",
      "1/1 - 0s - loss: 1.4878 - accuracy: 0.5357 - 11ms/epoch - 11ms/step\n",
      "Epoch 71/300\n",
      "1/1 - 0s - loss: 1.4730 - accuracy: 0.5357 - 15ms/epoch - 15ms/step\n",
      "Epoch 72/300\n",
      "1/1 - 0s - loss: 1.4583 - accuracy: 0.5357 - 14ms/epoch - 14ms/step\n",
      "Epoch 73/300\n",
      "1/1 - 0s - loss: 1.4435 - accuracy: 0.5357 - 16ms/epoch - 16ms/step\n",
      "Epoch 74/300\n",
      "1/1 - 0s - loss: 1.4287 - accuracy: 0.5357 - 16ms/epoch - 16ms/step\n",
      "Epoch 75/300\n",
      "1/1 - 0s - loss: 1.4139 - accuracy: 0.5357 - 14ms/epoch - 14ms/step\n",
      "Epoch 76/300\n",
      "1/1 - 0s - loss: 1.3992 - accuracy: 0.5357 - 14ms/epoch - 14ms/step\n",
      "Epoch 77/300\n",
      "1/1 - 0s - loss: 1.3845 - accuracy: 0.5357 - 14ms/epoch - 14ms/step\n",
      "Epoch 78/300\n",
      "1/1 - 0s - loss: 1.3699 - accuracy: 0.5357 - 10ms/epoch - 10ms/step\n",
      "Epoch 79/300\n",
      "1/1 - 0s - loss: 1.3554 - accuracy: 0.5714 - 20ms/epoch - 20ms/step\n",
      "Epoch 80/300\n",
      "1/1 - 0s - loss: 1.3410 - accuracy: 0.5714 - 11ms/epoch - 11ms/step\n",
      "Epoch 81/300\n",
      "1/1 - 0s - loss: 1.3267 - accuracy: 0.5714 - 17ms/epoch - 17ms/step\n",
      "Epoch 82/300\n",
      "1/1 - 0s - loss: 1.3126 - accuracy: 0.5714 - 17ms/epoch - 17ms/step\n",
      "Epoch 83/300\n",
      "1/1 - 0s - loss: 1.2986 - accuracy: 0.5714 - 16ms/epoch - 16ms/step\n",
      "Epoch 84/300\n",
      "1/1 - 0s - loss: 1.2849 - accuracy: 0.5714 - 24ms/epoch - 24ms/step\n",
      "Epoch 85/300\n",
      "1/1 - 0s - loss: 1.2713 - accuracy: 0.5714 - 17ms/epoch - 17ms/step\n",
      "Epoch 86/300\n",
      "1/1 - 0s - loss: 1.2579 - accuracy: 0.5714 - 16ms/epoch - 16ms/step\n",
      "Epoch 87/300\n",
      "1/1 - 0s - loss: 1.2447 - accuracy: 0.5714 - 17ms/epoch - 17ms/step\n",
      "Epoch 88/300\n",
      "1/1 - 0s - loss: 1.2317 - accuracy: 0.5714 - 11ms/epoch - 11ms/step\n",
      "Epoch 89/300\n",
      "1/1 - 0s - loss: 1.2189 - accuracy: 0.5714 - 16ms/epoch - 16ms/step\n",
      "Epoch 90/300\n",
      "1/1 - 0s - loss: 1.2064 - accuracy: 0.5714 - 17ms/epoch - 17ms/step\n",
      "Epoch 91/300\n",
      "1/1 - 0s - loss: 1.1941 - accuracy: 0.5714 - 16ms/epoch - 16ms/step\n",
      "Epoch 92/300\n",
      "1/1 - 0s - loss: 1.1819 - accuracy: 0.5714 - 18ms/epoch - 18ms/step\n",
      "Epoch 93/300\n",
      "1/1 - 0s - loss: 1.1700 - accuracy: 0.5714 - 16ms/epoch - 16ms/step\n",
      "Epoch 94/300\n",
      "1/1 - 0s - loss: 1.1583 - accuracy: 0.5714 - 10ms/epoch - 10ms/step\n",
      "Epoch 95/300\n",
      "1/1 - 0s - loss: 1.1468 - accuracy: 0.5714 - 17ms/epoch - 17ms/step\n",
      "Epoch 96/300\n",
      "1/1 - 0s - loss: 1.1355 - accuracy: 0.5714 - 18ms/epoch - 18ms/step\n",
      "Epoch 97/300\n",
      "1/1 - 0s - loss: 1.1243 - accuracy: 0.5714 - 16ms/epoch - 16ms/step\n",
      "Epoch 98/300\n",
      "1/1 - 0s - loss: 1.1134 - accuracy: 0.5714 - 17ms/epoch - 17ms/step\n",
      "Epoch 99/300\n",
      "1/1 - 0s - loss: 1.1027 - accuracy: 0.6071 - 17ms/epoch - 17ms/step\n",
      "Epoch 100/300\n",
      "1/1 - 0s - loss: 1.0921 - accuracy: 0.6071 - 16ms/epoch - 16ms/step\n",
      "Epoch 101/300\n",
      "1/1 - 0s - loss: 1.0817 - accuracy: 0.6071 - 17ms/epoch - 17ms/step\n",
      "Epoch 102/300\n",
      "1/1 - 0s - loss: 1.0714 - accuracy: 0.6071 - 17ms/epoch - 17ms/step\n"
     ]
    },
    {
     "name": "stdout",
     "output_type": "stream",
     "text": [
      "Epoch 103/300\n",
      "1/1 - 0s - loss: 1.0613 - accuracy: 0.6071 - 16ms/epoch - 16ms/step\n",
      "Epoch 104/300\n",
      "1/1 - 0s - loss: 1.0513 - accuracy: 0.6429 - 15ms/epoch - 15ms/step\n",
      "Epoch 105/300\n",
      "1/1 - 0s - loss: 1.0415 - accuracy: 0.6429 - 14ms/epoch - 14ms/step\n",
      "Epoch 106/300\n",
      "1/1 - 0s - loss: 1.0318 - accuracy: 0.6429 - 14ms/epoch - 14ms/step\n",
      "Epoch 107/300\n",
      "1/1 - 0s - loss: 1.0223 - accuracy: 0.6786 - 13ms/epoch - 13ms/step\n",
      "Epoch 108/300\n",
      "1/1 - 0s - loss: 1.0128 - accuracy: 0.6786 - 14ms/epoch - 14ms/step\n",
      "Epoch 109/300\n",
      "1/1 - 0s - loss: 1.0035 - accuracy: 0.6786 - 13ms/epoch - 13ms/step\n",
      "Epoch 110/300\n",
      "1/1 - 0s - loss: 0.9943 - accuracy: 0.6786 - 13ms/epoch - 13ms/step\n",
      "Epoch 111/300\n",
      "1/1 - 0s - loss: 0.9852 - accuracy: 0.6786 - 13ms/epoch - 13ms/step\n",
      "Epoch 112/300\n",
      "1/1 - 0s - loss: 0.9762 - accuracy: 0.6786 - 13ms/epoch - 13ms/step\n",
      "Epoch 113/300\n",
      "1/1 - 0s - loss: 0.9673 - accuracy: 0.6786 - 11ms/epoch - 11ms/step\n",
      "Epoch 114/300\n",
      "1/1 - 0s - loss: 0.9585 - accuracy: 0.6786 - 17ms/epoch - 17ms/step\n",
      "Epoch 115/300\n",
      "1/1 - 0s - loss: 0.9497 - accuracy: 0.6786 - 17ms/epoch - 17ms/step\n",
      "Epoch 116/300\n",
      "1/1 - 0s - loss: 0.9411 - accuracy: 0.6786 - 17ms/epoch - 17ms/step\n",
      "Epoch 117/300\n",
      "1/1 - 0s - loss: 0.9326 - accuracy: 0.7143 - 17ms/epoch - 17ms/step\n",
      "Epoch 118/300\n",
      "1/1 - 0s - loss: 0.9241 - accuracy: 0.7143 - 17ms/epoch - 17ms/step\n",
      "Epoch 119/300\n",
      "1/1 - 0s - loss: 0.9157 - accuracy: 0.7143 - 16ms/epoch - 16ms/step\n",
      "Epoch 120/300\n",
      "1/1 - 0s - loss: 0.9074 - accuracy: 0.7143 - 16ms/epoch - 16ms/step\n",
      "Epoch 121/300\n",
      "1/1 - 0s - loss: 0.8992 - accuracy: 0.7143 - 17ms/epoch - 17ms/step\n",
      "Epoch 122/300\n",
      "1/1 - 0s - loss: 0.8911 - accuracy: 0.7143 - 17ms/epoch - 17ms/step\n",
      "Epoch 123/300\n",
      "1/1 - 0s - loss: 0.8830 - accuracy: 0.7143 - 17ms/epoch - 17ms/step\n",
      "Epoch 124/300\n",
      "1/1 - 0s - loss: 0.8750 - accuracy: 0.7143 - 3ms/epoch - 3ms/step\n",
      "Epoch 125/300\n",
      "1/1 - 0s - loss: 0.8671 - accuracy: 0.7143 - 0s/epoch - 0s/step\n",
      "Epoch 126/300\n",
      "1/1 - 0s - loss: 0.8592 - accuracy: 0.7143 - 0s/epoch - 0s/step\n",
      "Epoch 127/300\n",
      "1/1 - 0s - loss: 0.8515 - accuracy: 0.7143 - 16ms/epoch - 16ms/step\n",
      "Epoch 128/300\n",
      "1/1 - 0s - loss: 0.8438 - accuracy: 0.7143 - 17ms/epoch - 17ms/step\n",
      "Epoch 129/300\n",
      "1/1 - 0s - loss: 0.8361 - accuracy: 0.7143 - 17ms/epoch - 17ms/step\n",
      "Epoch 130/300\n",
      "1/1 - 0s - loss: 0.8286 - accuracy: 0.7143 - 16ms/epoch - 16ms/step\n",
      "Epoch 131/300\n",
      "1/1 - 0s - loss: 0.8211 - accuracy: 0.7143 - 17ms/epoch - 17ms/step\n",
      "Epoch 132/300\n",
      "1/1 - 0s - loss: 0.8137 - accuracy: 0.7143 - 17ms/epoch - 17ms/step\n",
      "Epoch 133/300\n",
      "1/1 - 0s - loss: 0.8064 - accuracy: 0.7143 - 17ms/epoch - 17ms/step\n",
      "Epoch 134/300\n",
      "1/1 - 0s - loss: 0.7992 - accuracy: 0.7143 - 16ms/epoch - 16ms/step\n",
      "Epoch 135/300\n",
      "1/1 - 0s - loss: 0.7920 - accuracy: 0.7500 - 17ms/epoch - 17ms/step\n",
      "Epoch 136/300\n",
      "1/1 - 0s - loss: 0.7849 - accuracy: 0.7500 - 17ms/epoch - 17ms/step\n",
      "Epoch 137/300\n",
      "1/1 - 0s - loss: 0.7779 - accuracy: 0.7500 - 17ms/epoch - 17ms/step\n",
      "Epoch 138/300\n",
      "1/1 - 0s - loss: 0.7709 - accuracy: 0.7857 - 0s/epoch - 0s/step\n",
      "Epoch 139/300\n",
      "1/1 - 0s - loss: 0.7641 - accuracy: 0.8214 - 0s/epoch - 0s/step\n",
      "Epoch 140/300\n",
      "1/1 - 0s - loss: 0.7573 - accuracy: 0.8214 - 17ms/epoch - 17ms/step\n",
      "Epoch 141/300\n",
      "1/1 - 0s - loss: 0.7506 - accuracy: 0.8214 - 17ms/epoch - 17ms/step\n",
      "Epoch 142/300\n",
      "1/1 - 0s - loss: 0.7439 - accuracy: 0.8214 - 17ms/epoch - 17ms/step\n",
      "Epoch 143/300\n",
      "1/1 - 0s - loss: 0.7374 - accuracy: 0.8214 - 16ms/epoch - 16ms/step\n",
      "Epoch 144/300\n",
      "1/1 - 0s - loss: 0.7309 - accuracy: 0.8214 - 20ms/epoch - 20ms/step\n",
      "Epoch 145/300\n",
      "1/1 - 0s - loss: 0.7245 - accuracy: 0.8214 - 13ms/epoch - 13ms/step\n",
      "Epoch 146/300\n",
      "1/1 - 0s - loss: 0.7181 - accuracy: 0.8214 - 8ms/epoch - 8ms/step\n",
      "Epoch 147/300\n",
      "1/1 - 0s - loss: 0.7119 - accuracy: 0.8214 - 16ms/epoch - 16ms/step\n",
      "Epoch 148/300\n",
      "1/1 - 0s - loss: 0.7057 - accuracy: 0.8214 - 16ms/epoch - 16ms/step\n",
      "Epoch 149/300\n",
      "1/1 - 0s - loss: 0.6996 - accuracy: 0.8214 - 16ms/epoch - 16ms/step\n",
      "Epoch 150/300\n",
      "1/1 - 0s - loss: 0.6935 - accuracy: 0.8571 - 26ms/epoch - 26ms/step\n",
      "Epoch 151/300\n",
      "1/1 - 0s - loss: 0.6876 - accuracy: 0.8571 - 17ms/epoch - 17ms/step\n",
      "Epoch 152/300\n",
      "1/1 - 0s - loss: 0.6817 - accuracy: 0.8571 - 15ms/epoch - 15ms/step\n",
      "Epoch 153/300\n",
      "1/1 - 0s - loss: 0.6758 - accuracy: 0.8571 - 13ms/epoch - 13ms/step\n",
      "Epoch 154/300\n",
      "1/1 - 0s - loss: 0.6701 - accuracy: 0.8571 - 14ms/epoch - 14ms/step\n",
      "Epoch 155/300\n",
      "1/1 - 0s - loss: 0.6644 - accuracy: 0.8571 - 13ms/epoch - 13ms/step\n",
      "Epoch 156/300\n",
      "1/1 - 0s - loss: 0.6588 - accuracy: 0.8571 - 13ms/epoch - 13ms/step\n",
      "Epoch 157/300\n",
      "1/1 - 0s - loss: 0.6532 - accuracy: 0.8571 - 13ms/epoch - 13ms/step\n",
      "Epoch 158/300\n",
      "1/1 - 0s - loss: 0.6477 - accuracy: 0.8571 - 12ms/epoch - 12ms/step\n",
      "Epoch 159/300\n",
      "1/1 - 0s - loss: 0.6423 - accuracy: 0.8571 - 1ms/epoch - 1ms/step\n",
      "Epoch 160/300\n",
      "1/1 - 0s - loss: 0.6369 - accuracy: 0.8571 - 2ms/epoch - 2ms/step\n",
      "Epoch 161/300\n",
      "1/1 - 0s - loss: 0.6316 - accuracy: 0.8571 - 2ms/epoch - 2ms/step\n",
      "Epoch 162/300\n",
      "1/1 - 0s - loss: 0.6264 - accuracy: 0.8571 - 4ms/epoch - 4ms/step\n",
      "Epoch 163/300\n",
      "1/1 - 0s - loss: 0.6212 - accuracy: 0.8571 - 2ms/epoch - 2ms/step\n",
      "Epoch 164/300\n",
      "1/1 - 0s - loss: 0.6161 - accuracy: 0.8571 - 12ms/epoch - 12ms/step\n",
      "Epoch 165/300\n",
      "1/1 - 0s - loss: 0.6110 - accuracy: 0.8571 - 4ms/epoch - 4ms/step\n",
      "Epoch 166/300\n",
      "1/1 - 0s - loss: 0.6060 - accuracy: 0.8571 - 16ms/epoch - 16ms/step\n",
      "Epoch 167/300\n",
      "1/1 - 0s - loss: 0.6011 - accuracy: 0.8571 - 17ms/epoch - 17ms/step\n",
      "Epoch 168/300\n",
      "1/1 - 0s - loss: 0.5962 - accuracy: 0.8571 - 16ms/epoch - 16ms/step\n",
      "Epoch 169/300\n",
      "1/1 - 0s - loss: 0.5914 - accuracy: 0.8571 - 17ms/epoch - 17ms/step\n",
      "Epoch 170/300\n",
      "1/1 - 0s - loss: 0.5866 - accuracy: 0.8571 - 17ms/epoch - 17ms/step\n",
      "Epoch 171/300\n",
      "1/1 - 0s - loss: 0.5819 - accuracy: 0.8571 - 16ms/epoch - 16ms/step\n",
      "Epoch 172/300\n",
      "1/1 - 0s - loss: 0.5772 - accuracy: 0.8571 - 17ms/epoch - 17ms/step\n",
      "Epoch 173/300\n",
      "1/1 - 0s - loss: 0.5726 - accuracy: 0.8571 - 17ms/epoch - 17ms/step\n",
      "Epoch 174/300\n",
      "1/1 - 0s - loss: 0.5680 - accuracy: 0.8571 - 16ms/epoch - 16ms/step\n",
      "Epoch 175/300\n",
      "1/1 - 0s - loss: 0.5635 - accuracy: 0.8571 - 16ms/epoch - 16ms/step\n",
      "Epoch 176/300\n",
      "1/1 - 0s - loss: 0.5590 - accuracy: 0.8571 - 16ms/epoch - 16ms/step\n",
      "Epoch 177/300\n",
      "1/1 - 0s - loss: 0.5546 - accuracy: 0.8571 - 16ms/epoch - 16ms/step\n",
      "Epoch 178/300\n",
      "1/1 - 0s - loss: 0.5502 - accuracy: 0.8571 - 15ms/epoch - 15ms/step\n",
      "Epoch 179/300\n",
      "1/1 - 0s - loss: 0.5459 - accuracy: 0.8571 - 15ms/epoch - 15ms/step\n",
      "Epoch 180/300\n",
      "1/1 - 0s - loss: 0.5416 - accuracy: 0.8571 - 17ms/epoch - 17ms/step\n",
      "Epoch 181/300\n",
      "1/1 - 0s - loss: 0.5374 - accuracy: 0.8571 - 0s/epoch - 0s/step\n",
      "Epoch 182/300\n",
      "1/1 - 0s - loss: 0.5332 - accuracy: 0.8571 - 14ms/epoch - 14ms/step\n",
      "Epoch 183/300\n",
      "1/1 - 0s - loss: 0.5291 - accuracy: 0.8571 - 5ms/epoch - 5ms/step\n",
      "Epoch 184/300\n",
      "1/1 - 0s - loss: 0.5250 - accuracy: 0.8571 - 12ms/epoch - 12ms/step\n",
      "Epoch 185/300\n",
      "1/1 - 0s - loss: 0.5209 - accuracy: 0.8571 - 13ms/epoch - 13ms/step\n",
      "Epoch 186/300\n",
      "1/1 - 0s - loss: 0.5169 - accuracy: 0.8571 - 470us/epoch - 470us/step\n",
      "Epoch 187/300\n",
      "1/1 - 0s - loss: 0.5129 - accuracy: 0.8571 - 16ms/epoch - 16ms/step\n",
      "Epoch 188/300\n",
      "1/1 - 0s - loss: 0.5090 - accuracy: 0.8571 - 22ms/epoch - 22ms/step\n",
      "Epoch 189/300\n",
      "1/1 - 0s - loss: 0.5051 - accuracy: 0.8571 - 17ms/epoch - 17ms/step\n",
      "Epoch 190/300\n",
      "1/1 - 0s - loss: 0.5013 - accuracy: 0.8571 - 18ms/epoch - 18ms/step\n",
      "Epoch 191/300\n",
      "1/1 - 0s - loss: 0.4975 - accuracy: 0.8571 - 16ms/epoch - 16ms/step\n",
      "Epoch 192/300\n",
      "1/1 - 0s - loss: 0.4937 - accuracy: 0.8571 - 17ms/epoch - 17ms/step\n",
      "Epoch 193/300\n",
      "1/1 - 0s - loss: 0.4900 - accuracy: 0.8571 - 15ms/epoch - 15ms/step\n",
      "Epoch 194/300\n",
      "1/1 - 0s - loss: 0.4863 - accuracy: 0.8571 - 15ms/epoch - 15ms/step\n",
      "Epoch 195/300\n",
      "1/1 - 0s - loss: 0.4827 - accuracy: 0.8571 - 12ms/epoch - 12ms/step\n",
      "Epoch 196/300\n",
      "1/1 - 0s - loss: 0.4791 - accuracy: 0.8571 - 14ms/epoch - 14ms/step\n",
      "Epoch 197/300\n",
      "1/1 - 0s - loss: 0.4755 - accuracy: 0.8571 - 14ms/epoch - 14ms/step\n",
      "Epoch 198/300\n",
      "1/1 - 0s - loss: 0.4720 - accuracy: 0.8571 - 12ms/epoch - 12ms/step\n",
      "Epoch 199/300\n",
      "1/1 - 0s - loss: 0.4686 - accuracy: 0.8571 - 12ms/epoch - 12ms/step\n",
      "Epoch 200/300\n",
      "1/1 - 0s - loss: 0.4651 - accuracy: 0.8571 - 13ms/epoch - 13ms/step\n",
      "Epoch 201/300\n",
      "1/1 - 0s - loss: 0.4617 - accuracy: 0.8571 - 12ms/epoch - 12ms/step\n",
      "Epoch 202/300\n",
      "1/1 - 0s - loss: 0.4584 - accuracy: 0.8571 - 3ms/epoch - 3ms/step\n",
      "Epoch 203/300\n",
      "1/1 - 0s - loss: 0.4550 - accuracy: 0.8571 - 3ms/epoch - 3ms/step\n"
     ]
    },
    {
     "name": "stdout",
     "output_type": "stream",
     "text": [
      "Epoch 204/300\n",
      "1/1 - 0s - loss: 0.4518 - accuracy: 0.8571 - 3ms/epoch - 3ms/step\n",
      "Epoch 205/300\n",
      "1/1 - 0s - loss: 0.4485 - accuracy: 0.8571 - 4ms/epoch - 4ms/step\n",
      "Epoch 206/300\n",
      "1/1 - 0s - loss: 0.4453 - accuracy: 0.8571 - 1ms/epoch - 1ms/step\n",
      "Epoch 207/300\n",
      "1/1 - 0s - loss: 0.4421 - accuracy: 0.8571 - 13ms/epoch - 13ms/step\n",
      "Epoch 208/300\n",
      "1/1 - 0s - loss: 0.4390 - accuracy: 0.8571 - 2ms/epoch - 2ms/step\n",
      "Epoch 209/300\n",
      "1/1 - 0s - loss: 0.4359 - accuracy: 0.8929 - 2ms/epoch - 2ms/step\n",
      "Epoch 210/300\n",
      "1/1 - 0s - loss: 0.4329 - accuracy: 0.8929 - 1ms/epoch - 1ms/step\n",
      "Epoch 211/300\n",
      "1/1 - 0s - loss: 0.4299 - accuracy: 0.8929 - 1ms/epoch - 1ms/step\n",
      "Epoch 212/300\n",
      "1/1 - 0s - loss: 0.4269 - accuracy: 0.8929 - 1ms/epoch - 1ms/step\n",
      "Epoch 213/300\n",
      "1/1 - 0s - loss: 0.4239 - accuracy: 0.8929 - 13ms/epoch - 13ms/step\n",
      "Epoch 214/300\n",
      "1/1 - 0s - loss: 0.4210 - accuracy: 0.8929 - 1ms/epoch - 1ms/step\n",
      "Epoch 215/300\n",
      "1/1 - 0s - loss: 0.4181 - accuracy: 0.8929 - 2ms/epoch - 2ms/step\n",
      "Epoch 216/300\n",
      "1/1 - 0s - loss: 0.4153 - accuracy: 0.8929 - 1ms/epoch - 1ms/step\n",
      "Epoch 217/300\n",
      "1/1 - 0s - loss: 0.4125 - accuracy: 0.8929 - 4ms/epoch - 4ms/step\n",
      "Epoch 218/300\n",
      "1/1 - 0s - loss: 0.4097 - accuracy: 0.8929 - 3ms/epoch - 3ms/step\n",
      "Epoch 219/300\n",
      "1/1 - 0s - loss: 0.4070 - accuracy: 0.8929 - 2ms/epoch - 2ms/step\n",
      "Epoch 220/300\n",
      "1/1 - 0s - loss: 0.4043 - accuracy: 0.8929 - 3ms/epoch - 3ms/step\n",
      "Epoch 221/300\n",
      "1/1 - 0s - loss: 0.4016 - accuracy: 0.8929 - 2ms/epoch - 2ms/step\n",
      "Epoch 222/300\n",
      "1/1 - 0s - loss: 0.3990 - accuracy: 0.8929 - 14ms/epoch - 14ms/step\n",
      "Epoch 223/300\n",
      "1/1 - 0s - loss: 0.3964 - accuracy: 0.8929 - 14ms/epoch - 14ms/step\n",
      "Epoch 224/300\n",
      "1/1 - 0s - loss: 0.3938 - accuracy: 0.8929 - 12ms/epoch - 12ms/step\n",
      "Epoch 225/300\n",
      "1/1 - 0s - loss: 0.3913 - accuracy: 0.8929 - 12ms/epoch - 12ms/step\n",
      "Epoch 226/300\n",
      "1/1 - 0s - loss: 0.3888 - accuracy: 0.8929 - 2ms/epoch - 2ms/step\n",
      "Epoch 227/300\n",
      "1/1 - 0s - loss: 0.3864 - accuracy: 0.8929 - 2ms/epoch - 2ms/step\n",
      "Epoch 228/300\n",
      "1/1 - 0s - loss: 0.3839 - accuracy: 0.8929 - 1ms/epoch - 1ms/step\n",
      "Epoch 229/300\n",
      "1/1 - 0s - loss: 0.3815 - accuracy: 0.8929 - 2ms/epoch - 2ms/step\n",
      "Epoch 230/300\n",
      "1/1 - 0s - loss: 0.3791 - accuracy: 0.8929 - 2ms/epoch - 2ms/step\n",
      "Epoch 231/300\n",
      "1/1 - 0s - loss: 0.3768 - accuracy: 0.8929 - 13ms/epoch - 13ms/step\n",
      "Epoch 232/300\n",
      "1/1 - 0s - loss: 0.3745 - accuracy: 0.8929 - 2ms/epoch - 2ms/step\n",
      "Epoch 233/300\n",
      "1/1 - 0s - loss: 0.3722 - accuracy: 0.8929 - 2ms/epoch - 2ms/step\n",
      "Epoch 234/300\n",
      "1/1 - 0s - loss: 0.3700 - accuracy: 0.8929 - 15ms/epoch - 15ms/step\n",
      "Epoch 235/300\n",
      "1/1 - 0s - loss: 0.3678 - accuracy: 0.8929 - 12ms/epoch - 12ms/step\n",
      "Epoch 236/300\n",
      "1/1 - 0s - loss: 0.3656 - accuracy: 0.8929 - 828us/epoch - 828us/step\n",
      "Epoch 237/300\n",
      "1/1 - 0s - loss: 0.3634 - accuracy: 0.8929 - 13ms/epoch - 13ms/step\n",
      "Epoch 238/300\n",
      "1/1 - 0s - loss: 0.3613 - accuracy: 0.8929 - 0s/epoch - 0s/step\n",
      "Epoch 239/300\n",
      "1/1 - 0s - loss: 0.3592 - accuracy: 0.8929 - 2ms/epoch - 2ms/step\n",
      "Epoch 240/300\n",
      "1/1 - 0s - loss: 0.3571 - accuracy: 0.8929 - 3ms/epoch - 3ms/step\n",
      "Epoch 241/300\n",
      "1/1 - 0s - loss: 0.3551 - accuracy: 0.8929 - 2ms/epoch - 2ms/step\n",
      "Epoch 242/300\n",
      "1/1 - 0s - loss: 0.3531 - accuracy: 0.8929 - 2ms/epoch - 2ms/step\n",
      "Epoch 243/300\n",
      "1/1 - 0s - loss: 0.3511 - accuracy: 0.8929 - 2ms/epoch - 2ms/step\n",
      "Epoch 244/300\n",
      "1/1 - 0s - loss: 0.3492 - accuracy: 0.8929 - 4ms/epoch - 4ms/step\n",
      "Epoch 245/300\n",
      "1/1 - 0s - loss: 0.3472 - accuracy: 0.8929 - 4ms/epoch - 4ms/step\n",
      "Epoch 246/300\n",
      "1/1 - 0s - loss: 0.3453 - accuracy: 0.8929 - 16ms/epoch - 16ms/step\n",
      "Epoch 247/300\n",
      "1/1 - 0s - loss: 0.3435 - accuracy: 0.8929 - 17ms/epoch - 17ms/step\n",
      "Epoch 248/300\n",
      "1/1 - 0s - loss: 0.3416 - accuracy: 0.8929 - 17ms/epoch - 17ms/step\n",
      "Epoch 249/300\n",
      "1/1 - 0s - loss: 0.3398 - accuracy: 0.8929 - 17ms/epoch - 17ms/step\n",
      "Epoch 250/300\n",
      "1/1 - 0s - loss: 0.3380 - accuracy: 0.8929 - 18ms/epoch - 18ms/step\n",
      "Epoch 251/300\n",
      "1/1 - 0s - loss: 0.3362 - accuracy: 0.8929 - 17ms/epoch - 17ms/step\n",
      "Epoch 252/300\n",
      "1/1 - 0s - loss: 0.3345 - accuracy: 0.8929 - 14ms/epoch - 14ms/step\n",
      "Epoch 253/300\n",
      "1/1 - 0s - loss: 0.3327 - accuracy: 0.8929 - 13ms/epoch - 13ms/step\n",
      "Epoch 254/300\n",
      "1/1 - 0s - loss: 0.3311 - accuracy: 0.8929 - 13ms/epoch - 13ms/step\n",
      "Epoch 255/300\n",
      "1/1 - 0s - loss: 0.3294 - accuracy: 0.8929 - 14ms/epoch - 14ms/step\n",
      "Epoch 256/300\n",
      "1/1 - 0s - loss: 0.3277 - accuracy: 0.8929 - 13ms/epoch - 13ms/step\n",
      "Epoch 257/300\n",
      "1/1 - 0s - loss: 0.3261 - accuracy: 0.8929 - 13ms/epoch - 13ms/step\n",
      "Epoch 258/300\n",
      "1/1 - 0s - loss: 0.3245 - accuracy: 0.8929 - 14ms/epoch - 14ms/step\n",
      "Epoch 259/300\n",
      "1/1 - 0s - loss: 0.3229 - accuracy: 0.8929 - 13ms/epoch - 13ms/step\n",
      "Epoch 260/300\n",
      "1/1 - 0s - loss: 0.3214 - accuracy: 0.8929 - 14ms/epoch - 14ms/step\n",
      "Epoch 261/300\n",
      "1/1 - 0s - loss: 0.3198 - accuracy: 0.8929 - 14ms/epoch - 14ms/step\n",
      "Epoch 262/300\n",
      "1/1 - 0s - loss: 0.3183 - accuracy: 0.8929 - 15ms/epoch - 15ms/step\n",
      "Epoch 263/300\n",
      "1/1 - 0s - loss: 0.3168 - accuracy: 0.8929 - 15ms/epoch - 15ms/step\n",
      "Epoch 264/300\n",
      "1/1 - 0s - loss: 0.3154 - accuracy: 0.8929 - 16ms/epoch - 16ms/step\n",
      "Epoch 265/300\n",
      "1/1 - 0s - loss: 0.3139 - accuracy: 0.8929 - 15ms/epoch - 15ms/step\n",
      "Epoch 266/300\n",
      "1/1 - 0s - loss: 0.3125 - accuracy: 0.8929 - 13ms/epoch - 13ms/step\n",
      "Epoch 267/300\n",
      "1/1 - 0s - loss: 0.3111 - accuracy: 0.8929 - 14ms/epoch - 14ms/step\n",
      "Epoch 268/300\n",
      "1/1 - 0s - loss: 0.3097 - accuracy: 0.8929 - 14ms/epoch - 14ms/step\n",
      "Epoch 269/300\n",
      "1/1 - 0s - loss: 0.3083 - accuracy: 0.8929 - 16ms/epoch - 16ms/step\n",
      "Epoch 270/300\n",
      "1/1 - 0s - loss: 0.3070 - accuracy: 0.8929 - 15ms/epoch - 15ms/step\n",
      "Epoch 271/300\n",
      "1/1 - 0s - loss: 0.3057 - accuracy: 0.8929 - 14ms/epoch - 14ms/step\n",
      "Epoch 272/300\n",
      "1/1 - 0s - loss: 0.3044 - accuracy: 0.8929 - 14ms/epoch - 14ms/step\n",
      "Epoch 273/300\n",
      "1/1 - 0s - loss: 0.3031 - accuracy: 0.8929 - 14ms/epoch - 14ms/step\n",
      "Epoch 274/300\n",
      "1/1 - 0s - loss: 0.3018 - accuracy: 0.8929 - 14ms/epoch - 14ms/step\n",
      "Epoch 275/300\n",
      "1/1 - 0s - loss: 0.3006 - accuracy: 0.8929 - 13ms/epoch - 13ms/step\n",
      "Epoch 276/300\n",
      "1/1 - 0s - loss: 0.2993 - accuracy: 0.8929 - 14ms/epoch - 14ms/step\n",
      "Epoch 277/300\n",
      "1/1 - 0s - loss: 0.2981 - accuracy: 0.8929 - 15ms/epoch - 15ms/step\n",
      "Epoch 278/300\n",
      "1/1 - 0s - loss: 0.2969 - accuracy: 0.8929 - 15ms/epoch - 15ms/step\n",
      "Epoch 279/300\n",
      "1/1 - 0s - loss: 0.2958 - accuracy: 0.8929 - 14ms/epoch - 14ms/step\n",
      "Epoch 280/300\n",
      "1/1 - 0s - loss: 0.2946 - accuracy: 0.8929 - 13ms/epoch - 13ms/step\n",
      "Epoch 281/300\n",
      "1/1 - 0s - loss: 0.2935 - accuracy: 0.8929 - 13ms/epoch - 13ms/step\n",
      "Epoch 282/300\n",
      "1/1 - 0s - loss: 0.2923 - accuracy: 0.8929 - 14ms/epoch - 14ms/step\n",
      "Epoch 283/300\n",
      "1/1 - 0s - loss: 0.2912 - accuracy: 0.8929 - 413us/epoch - 413us/step\n",
      "Epoch 284/300\n",
      "1/1 - 0s - loss: 0.2901 - accuracy: 0.8929 - 13ms/epoch - 13ms/step\n",
      "Epoch 285/300\n",
      "1/1 - 0s - loss: 0.2891 - accuracy: 0.8929 - 15ms/epoch - 15ms/step\n",
      "Epoch 286/300\n",
      "1/1 - 0s - loss: 0.2880 - accuracy: 0.8929 - 2ms/epoch - 2ms/step\n",
      "Epoch 287/300\n",
      "1/1 - 0s - loss: 0.2870 - accuracy: 0.8929 - 3ms/epoch - 3ms/step\n",
      "Epoch 288/300\n",
      "1/1 - 0s - loss: 0.2859 - accuracy: 0.8929 - 2ms/epoch - 2ms/step\n",
      "Epoch 289/300\n",
      "1/1 - 0s - loss: 0.2849 - accuracy: 0.8929 - 3ms/epoch - 3ms/step\n",
      "Epoch 290/300\n",
      "1/1 - 0s - loss: 0.2839 - accuracy: 0.8929 - 5ms/epoch - 5ms/step\n",
      "Epoch 291/300\n",
      "1/1 - 0s - loss: 0.2829 - accuracy: 0.8929 - 5ms/epoch - 5ms/step\n",
      "Epoch 292/300\n",
      "1/1 - 0s - loss: 0.2820 - accuracy: 0.8929 - 6ms/epoch - 6ms/step\n",
      "Epoch 293/300\n",
      "1/1 - 0s - loss: 0.2810 - accuracy: 0.8929 - 17ms/epoch - 17ms/step\n",
      "Epoch 294/300\n",
      "1/1 - 0s - loss: 0.2801 - accuracy: 0.8929 - 17ms/epoch - 17ms/step\n",
      "Epoch 295/300\n",
      "1/1 - 0s - loss: 0.2792 - accuracy: 0.8929 - 17ms/epoch - 17ms/step\n",
      "Epoch 296/300\n",
      "1/1 - 0s - loss: 0.2782 - accuracy: 0.8929 - 15ms/epoch - 15ms/step\n",
      "Epoch 297/300\n",
      "1/1 - 0s - loss: 0.2773 - accuracy: 0.8929 - 14ms/epoch - 14ms/step\n",
      "Epoch 298/300\n",
      "1/1 - 0s - loss: 0.2765 - accuracy: 0.8929 - 14ms/epoch - 14ms/step\n",
      "Epoch 299/300\n",
      "1/1 - 0s - loss: 0.2756 - accuracy: 0.8929 - 13ms/epoch - 13ms/step\n",
      "Epoch 300/300\n",
      "1/1 - 0s - loss: 0.2747 - accuracy: 0.8929 - 13ms/epoch - 13ms/step\n"
     ]
    }
   ],
   "source": [
    "model.compile(loss = 'categorical_crossentropy', # 다중 분류에서의 손실함수\n",
    "              optimizer = 'adam',\n",
    "              metrics = ['accuracy'], # 평가지표: accuracy, recall, precision\n",
    "              )\n",
    "hist = model.fit(X, Y, epochs = 300, verbose = 2)"
   ]
  },
  {
   "cell_type": "code",
   "execution_count": 18,
   "id": "f485f08c",
   "metadata": {
    "ExecuteTime": {
     "end_time": "2025-01-02T05:24:06.633020Z",
     "start_time": "2025-01-02T05:24:06.618361Z"
    }
   },
   "outputs": [
    {
     "data": {
      "text/plain": [
       "dict_keys(['loss', 'accuracy'])"
      ]
     },
     "execution_count": 18,
     "metadata": {},
     "output_type": "execute_result"
    }
   ],
   "source": [
    "hist.history.keys()"
   ]
  },
  {
   "cell_type": "code",
   "execution_count": 65,
   "id": "a1ea4151",
   "metadata": {
    "ExecuteTime": {
     "end_time": "2025-01-02T05:46:54.188488Z",
     "start_time": "2025-01-02T05:46:53.907881Z"
    }
   },
   "outputs": [
    {
     "data": {
      "image/png": "[encoded data removed]",
      "text/plain": [
       "<Figure size 1000x500 with 2 Axes>"
      ]
     },
     "metadata": {},
     "output_type": "display_data"
    }
   ],
   "source": [
    "import matplotlib.pyplot as plt\n",
    "# 학습과정 표시하기\n",
    "fig, loss_ax = plt.subplots(figsize = (10, 5))\n",
    "loss_ax.plot(hist.history['loss'], \n",
    "             'r', \n",
    "             label = 'train loss')\n",
    "loss_ax.set_xlabel('epoch')\n",
    "loss_ax.set_ylabel('loss')\n",
    "\n",
    "acc_ax = loss_ax.twinx()\n",
    "acc_ax.plot(hist.history['accuracy'], \n",
    "            'b', \n",
    "            label = 'train accuracy')\n",
    "acc_ax.set_ylabel('accuracy')\n",
    "\n",
    "loss_ax.legend(loc = 'center right')\n",
    "acc_ax.legend(bbox_to_anchor = (0.999, 0.7))\n",
    "plt.show()"
   ]
  },
  {
   "cell_type": "markdown",
   "id": "5d2b2ce3",
   "metadata": {},
   "source": [
    "# 4. 다음 문맥 예측해 보기"
   ]
  },
  {
   "cell_type": "code",
   "execution_count": 20,
   "id": "af92eee5",
   "metadata": {
    "ExecuteTime": {
     "end_time": "2025-01-02T05:24:07.466371Z",
     "start_time": "2025-01-02T05:24:07.452678Z"
    }
   },
   "outputs": [
    {
     "name": "stdout",
     "output_type": "stream",
     "text": [
      "{'말이': 1, '경마장에': 2, '있는': 3, '뛰고': 4, '있다': 5, '그의': 6, '법이다': 7, '가는': 8, '고와야': 9, '오는': 10, '곱다': 11}\n"
     ]
    }
   ],
   "source": [
    "print(t.word_index)"
   ]
  },
  {
   "cell_type": "code",
   "execution_count": 71,
   "id": "5d6bb0a6",
   "metadata": {
    "ExecuteTime": {
     "end_time": "2025-01-02T05:47:53.309662Z",
     "start_time": "2025-01-02T05:47:48.347972Z"
    }
   },
   "outputs": [
    {
     "name": "stdout",
     "output_type": "stream",
     "text": [
      "입력단어: 경마장에\n",
      "입력한 단어: 경마장에, encoded: [[2]]\n",
      "1/1 [==============================] - 0s 24ms/step\n",
      "예측된 단어: 있는 3\n"
     ]
    }
   ],
   "source": [
    "# 모델 사용하기 \n",
    "# 문자 → sequence로 수정 → padding → predict → argmax → 문자\n",
    "word = input('입력단어: ')\n",
    "encoded = t.texts_to_sequences([word])[0]\n",
    "print('입력한 단어: {}, encoded: {}'.format(word, [encoded])) # 2차원으로 변경\n",
    "input_data = pad_sequences([encoded], \n",
    "                           maxlen = X.shape[1],\n",
    "                           padding = 'pre')\n",
    "# print('입력한 단어: {}, input_data: {}'.format(word, input_data))\n",
    "pred = model.predict(input_data).argmax()\n",
    "\n",
    "for word, value in t.word_index.items():\n",
    "    if pred == value:\n",
    "        print('예측된 단어:', word, pred)\n",
    "        break"
   ]
  },
  {
   "cell_type": "code",
   "execution_count": 75,
   "id": "ba7dc9ca",
   "metadata": {
    "ExecuteTime": {
     "end_time": "2025-01-02T05:48:13.115431Z",
     "start_time": "2025-01-02T05:48:13.107710Z"
    }
   },
   "outputs": [],
   "source": [
    "# 단어(가는), 5 → 가는 말이 고와야 오는 말이 곱다\n",
    "def sentence_generation(model, t, current_word, n):\n",
    "    for i in range(n): # n번 반복\n",
    "        # current_word → sequence → padding → predict.argmax → 결과 단어(result)\n",
    "        # current_word = current_word + ' ' + result\n",
    "        \n",
    "        # sequnece\n",
    "        encoded = t.texts_to_sequences([current_word])[0]\n",
    "        # padding\n",
    "        input_data = pad_sequences([encoded], \n",
    "                                   maxlen = 5, \n",
    "                                   padding = 'pre')\n",
    "        # predict\n",
    "        pred = model.predict(input_data, \n",
    "                             verbose = 0).argmax()\n",
    "        # result\n",
    "        for word, value in t.word_index.items():\n",
    "            if pred == value:\n",
    "                result = word\n",
    "                # print('{}: {}'.format(i + 1, result))\n",
    "                current_word = current_word + ' ' + result\n",
    "                # print('{}: {}'.format(i + 1, current_word))\n",
    "                break\n",
    "    return current_word"
   ]
  },
  {
   "cell_type": "code",
   "execution_count": 78,
   "id": "b4f20fe1",
   "metadata": {
    "ExecuteTime": {
     "end_time": "2025-01-02T05:48:24.277661Z",
     "start_time": "2025-01-02T05:48:23.997151Z"
    }
   },
   "outputs": [
    {
     "data": {
      "text/plain": [
       "'가는 말이 고와야 오는 말이'"
      ]
     },
     "execution_count": 78,
     "metadata": {},
     "output_type": "execute_result"
    }
   ],
   "source": [
    "# 문맥 예측하기\n",
    "sentence_generation(model, t, \"가는\", 4)"
   ]
  },
  {
   "cell_type": "code",
   "execution_count": 73,
   "id": "129d944e",
   "metadata": {
    "ExecuteTime": {
     "end_time": "2025-01-02T05:47:57.690257Z",
     "start_time": "2025-01-02T05:47:57.571942Z"
    }
   },
   "outputs": [
    {
     "name": "stdout",
     "output_type": "stream",
     "text": [
      "1/1 [==============================] - 0s 61ms/step\n"
     ]
    },
    {
     "data": {
      "text/plain": [
       "3"
      ]
     },
     "execution_count": 73,
     "metadata": {},
     "output_type": "execute_result"
    }
   ],
   "source": [
    "model.predict([[0, 0, 0, 0, 2]]).argmax()"
   ]
  },
  {
   "cell_type": "code",
   "execution_count": null,
   "id": "e00fdb24",
   "metadata": {},
   "outputs": [],
   "source": []
  },
  {
   "cell_type": "code",
   "execution_count": null,
   "id": "3587daab",
   "metadata": {},
   "outputs": [],
   "source": []
  }
 ],
 "metadata": {
  "kernelspec": {
   "display_name": "Python 3 (ipykernel)",
   "language": "python",
   "name": "python3"
  },
  "language_info": {
   "codemirror_mode": {
    "name": "ipython",
    "version": 3
   },
   "file_extension": ".py",
   "mimetype": "text/x-python",
   "name": "python",
   "nbconvert_exporter": "python",
   "pygments_lexer": "ipython3",
   "version": "3.10.9"
  },
  "toc": {
   "base_numbering": 1,
   "nav_menu": {},
   "number_sections": false,
   "sideBar": true,
   "skip_h1_title": false,
   "title_cell": "Table of Contents",
   "title_sidebar": "Contents",
   "toc_cell": false,
   "toc_position": {
    "height": "calc(100% - 180px)",
    "left": "10px",
    "top": "150px",
    "width": "242px"
   },
   "toc_section_display": true,
   "toc_window_display": true
  }
 },
 "nbformat": 4,
 "nbformat_minor": 5
}
