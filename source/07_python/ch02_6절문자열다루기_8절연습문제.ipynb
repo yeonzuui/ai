{
 "cells": [
  {
   "cell_type": "code",
   "execution_count": 1,
   "id": "bc45a2e7",
   "metadata": {
    "ExecuteTime": {
     "end_time": "2024-11-05T07:34:37.438994Z",
     "start_time": "2024-11-05T07:34:37.430017Z"
    }
   },
   "outputs": [
    {
     "data": {
      "text/html": [
       "\n",
       "<style>\n",
       "div.container{width:80% !important;}\n",
       "div.CodeMirror {font-family:Consolas; font-size:16pt;}\n",
       "div.output {font-size:16pt; font-weight:bold;}\n",
       "div.input {font-family:Consolas; font-size:16pt;}\n",
       "div.prompt {min-width:70px;}\n",
       "div#toc-header{margin-top:150px;}\n",
       "</style>\n",
       "<style>\n",
       "span.toc-item-num{\n",
       "display:none;\n",
       "}\n",
       "</style>\n"
      ],
      "text/plain": [
       "<IPython.core.display.HTML object>"
      ]
     },
     "metadata": {},
     "output_type": "display_data"
    }
   ],
   "source": [
    "from IPython.display import display, HTML\n",
    "display(HTML(\"\"\"\n",
    "<style>\n",
    "div.container{width:80% !important;}\n",
    "div.CodeMirror {font-family:Consolas; font-size:16pt;}\n",
    "div.output {font-size:16pt; font-weight:bold;}\n",
    "div.input {font-family:Consolas; font-size:16pt;}\n",
    "div.prompt {min-width:70px;}\n",
    "div#toc-header{margin-top:150px;}\n",
    "</style>\n",
    "<style>\n",
    "span.toc-item-num{\n",
    "display:none;\n",
    "}\n",
    "</style>\n",
    "\"\"\"))"
   ]
  },
  {
   "cell_type": "markdown",
   "id": "c35467ce",
   "metadata": {},
   "source": [
    "<b><font size=\"6\" color=\"red\">ch02.자료형과 연산자</font></b>"
   ]
  },
  {
   "cell_type": "markdown",
   "id": "1c065ef5",
   "metadata": {},
   "source": [
    "## 6절. 문자열 다루기\n",
    "- 문자열슬라이싱변수[from:to:by]\n",
    "- len(문자열변수)\n",
    "- 문자변수.upper():                 대문자\n",
    "- 문자변수.lower():                 소문자\n",
    "- 문자변수.title():                 각 어절의 앞글자만 대문자로 \n",
    "- 문자변수.capitalize():            첫문자만 대문자로\n",
    "- 문자변수.count('찾을문자열'):      '찾을문자열'이 몇 개 들어있는지 갯수 반환\n",
    "- 문자변수.find('찾을문자열'):       '찾을문자열'이 왼쪽부터 시작하여 몇 번째에 있는지 index를 반환\n",
    "- 문자변수.rfind('찾을문자열'):      '찾을문자열'이 오른쪽부터 시작하여 몇 번째에 있는지 index를 반환\n",
    "                                   (찾을문자열이 없으면 -1을 반환)\n",
    "cf. 문자변수.index('찾을문자열'):    '찾을문자열'이 왼쪽부터 시작하여 몇 번째에 있는지 index를 반호나\n",
    "                                   (찾을문자열이 없으면 오류)\n",
    "- 문자변수.startswith('특정문자열'): '특정문자열'로 시작하는지 여부 반환\n",
    "- 문자변수.endswith('특정문자열'):   '특정문자열'로 끝나는지 여부 반환\n",
    "- 문자변수.strip():                 좌우공백제거(trim)\n",
    "- 문자변수.rstrip():                오른쪽 공백제거\n",
    "- 문자변수.lstrip():                왼쪽 공백제거\n",
    "- 문자변수.split():                 문자열을 공백이나 다른 문자 기준으로 나누어 리스트로 반환\n",
    "- 문자변수.isdigit():               문자열이 숫자 문자열인지 여부 반환\n",
    "- 문자변수.islower():               문자열이 소문자인지 여부 반환\n",
    "- 문자변수.isupper():               문자열이 대문자인지 여부 반환\n",
    "- 문자변수.replace(oldStr, newStr): oldStr을 newStr로 변경"
   ]
  },
  {
   "cell_type": "code",
   "execution_count": 3,
   "id": "8ee73705",
   "metadata": {
    "ExecuteTime": {
     "end_time": "2024-11-05T07:53:51.331992Z",
     "start_time": "2024-11-05T07:53:51.325014Z"
    }
   },
   "outputs": [
    {
     "data": {
      "text/plain": [
       "('python is easy, python is smart. python', 39)"
      ]
     },
     "execution_count": 3,
     "metadata": {},
     "output_type": "execute_result"
    }
   ],
   "source": [
    "temp = \"python is easy, python is smart. python\"\n",
    "temp, len(temp)"
   ]
  },
  {
   "cell_type": "code",
   "execution_count": 7,
   "id": "1ab88cef",
   "metadata": {
    "ExecuteTime": {
     "end_time": "2024-11-05T07:55:25.562114Z",
     "start_time": "2024-11-05T07:55:25.557669Z"
    }
   },
   "outputs": [
    {
     "name": "stdout",
     "output_type": "stream",
     "text": [
      "첫 번째 글자는 p이고, 마지막 글자는 n입니다\n"
     ]
    }
   ],
   "source": [
    "print('첫 번째 글자는 {}이고, 마지막 글자는 {}입니다'.format(temp[0], temp[-1]))"
   ]
  },
  {
   "cell_type": "code",
   "execution_count": 9,
   "id": "1436ebc1",
   "metadata": {
    "ExecuteTime": {
     "end_time": "2024-11-05T07:56:33.161584Z",
     "start_time": "2024-11-05T07:56:33.156618Z"
    }
   },
   "outputs": [
    {
     "name": "stdout",
     "output_type": "stream",
     "text": [
      "전화번호 끝자리:  2132\n"
     ]
    }
   ],
   "source": [
    "tel = \"010-7894-2132\"\n",
    "print('전화번호 끝자리: ', tel[-4:])"
   ]
  },
  {
   "cell_type": "code",
   "execution_count": 33,
   "id": "3c9b12cc",
   "metadata": {
    "ExecuteTime": {
     "end_time": "2024-11-05T08:24:42.822944Z",
     "start_time": "2024-11-05T08:24:42.813950Z"
    }
   },
   "outputs": [
    {
     "name": "stdout",
     "output_type": "stream",
     "text": [
      "대문자로:       PYTHON IS EASY, PYTHON IS SMART. PYTHON\n",
      "소문자로:       python is easy, python is smart. python\n",
      "title():       Python Is Easy, Python Is Smart. Python\n",
      "capitalize():  Python is easy, python is smart. python\n",
      "python이 몇 번 나오는지:  2 0\n",
      "대소문자 구분없이 python이 몇 번 나오는지:  0\n",
      "대소문자 구분없이 python이 몇 번 나오는지:  3\n",
      "대소문자 구분없이 python이 몇 번 나오는지:  0\n",
      "python이 나오는 첫 index 위치:  0\n",
      "python이 나오는 마지막 index 위치:  33\n",
      "Java가 나오는 첫 index 위치:  -1\n",
      "python이 나오는 첫 index 위치:  0\n",
      "python으로 시작하는 문자열인지:  True\n",
      "python으로 끝나는 문자열인지:  True\n",
      "python대신 R로 변경:  R is easy, R is smart. R\n"
     ]
    }
   ],
   "source": [
    "temp = \"python is easy, pyTHon is smart. python\"\n",
    "#       012324567890123245678901232456789012345678\n",
    "print('대문자로:      ', temp.upper())\n",
    "print('소문자로:      ', temp.lower())\n",
    "print('title():      ', temp.title())\n",
    "print('capitalize(): ', temp.capitalize())\n",
    "print('python이 몇 번 나오는지: ', temp.count('python'), temp.count('Python'))\n",
    "print('대소문자 구분없이 python이 몇 번 나오는지: ', temp.upper().count('python'))\n",
    "print('대소문자 구분없이 python이 몇 번 나오는지: ', temp.lower().count('python'))\n",
    "print('대소문자 구분없이 python이 몇 번 나오는지: ', temp.title().count('python'))\n",
    "print('python이 나오는 첫 index 위치: ', temp.find('python'))\n",
    "print('python이 나오는 마지막 index 위치: ', temp.rfind('python'))\n",
    "print('Java가 나오는 첫 index 위치: ', temp.find('Java'))\n",
    "print('python이 나오는 첫 index 위치: ', temp.index('python'))\n",
    "# print('Java가 나오는 첫 index 위치: ', temp.index('Java'))\n",
    "print('python으로 시작하는 문자열인지: ', temp.startswith('python'))\n",
    "print('python으로 끝나는 문자열인지: ', temp.endswith('python'))\n",
    "print('python대신 R로 변경: ', temp.replace('python', 'R').replace('pyTHon', 'R'))"
   ]
  },
  {
   "cell_type": "code",
   "execution_count": 43,
   "id": "a1c6236d",
   "metadata": {
    "ExecuteTime": {
     "end_time": "2024-11-05T08:32:41.022277Z",
     "start_time": "2024-11-05T08:32:41.006611Z"
    }
   },
   "outputs": [
    {
     "name": "stdout",
     "output_type": "stream",
     "text": [
      "strip(): [python is easy]\n",
      "lstrip(): [python is easy    ]\n",
      "rstrip(): [     python is easy]\n",
      "isdigit(): True\n",
      "대문자인지: False\n",
      "소문자인지: True\n"
     ]
    }
   ],
   "source": [
    "temp = '     python is easy    '\n",
    "notdisit = '1,234'\n",
    "print('strip(): [{}]'.format(temp.strip()) )\n",
    "print('lstrip(): [{}]'.format(temp.lstrip()) )\n",
    "print('rstrip(): [{}]'.format(temp.rstrip()) )\n",
    "print('isdigit(): {}'.format(notdisit.replace(',','').isdigit()) )\n",
    "print('대문자인지: {}'.format(temp.isupper()) )\n",
    "print('소문자인지: {}'.format(temp.islower()) )"
   ]
  },
  {
   "cell_type": "code",
   "execution_count": 44,
   "id": "3ea5b476",
   "metadata": {
    "ExecuteTime": {
     "end_time": "2024-11-05T08:36:19.378435Z",
     "start_time": "2024-11-05T08:36:19.373455Z"
    }
   },
   "outputs": [
    {
     "name": "stdout",
     "output_type": "stream",
     "text": [
      "space 단위로 temp를 분리(list로 반환):  ['홍길동', '김길동', '신길똥', '유길뚱']\n"
     ]
    }
   ],
   "source": [
    "temp = '    홍길동      김길동 신길똥 유길뚱'\n",
    "print('space 단위로 temp를 분리(list로 반환): ', temp.split() )"
   ]
  },
  {
   "cell_type": "code",
   "execution_count": 47,
   "id": "e7e700c5",
   "metadata": {
    "ExecuteTime": {
     "end_time": "2024-11-05T08:40:08.283587Z",
     "start_time": "2024-11-05T08:40:08.277616Z"
    }
   },
   "outputs": [
    {
     "name": "stdout",
     "output_type": "stream",
     "text": [
      "- 단위로 date를 분리(list로 반환)합니다\n",
      "년:  2024\n",
      "월:  11\n",
      "일:  05\n"
     ]
    }
   ],
   "source": [
    "date = '2024-11-05'\n",
    "print('- 단위로 date를 분리(list로 반환)합니다')\n",
    "date_list = date.split('-')\n",
    "date_list\n",
    "print('년: ', date_list[0])\n",
    "print('월: ', date_list[1])\n",
    "print('일: ', date_list[2])"
   ]
  },
  {
   "cell_type": "code",
   "execution_count": 55,
   "id": "11f85c14",
   "metadata": {
    "ExecuteTime": {
     "end_time": "2024-11-05T08:45:48.155714Z",
     "start_time": "2024-11-05T08:45:48.149729Z"
    }
   },
   "outputs": [
    {
     "name": "stdout",
     "output_type": "stream",
     "text": [
      "원 temp:  Java - Oracle - 웹표준 - JSP - PYTHON\n",
      "분리된 temp:  ['Java', 'Oracle', '웹표준', 'JSP', 'PYTHON']\n",
      "joined_temp:  Java/Oracle/웹표준/JSP/PYTHON\n"
     ]
    }
   ],
   "source": [
    "# ' - '을 '/'로 바꾸기\n",
    "temp = 'Java - Oracle - 웹표준 - JSP - PYTHON'\n",
    "print('원 temp: ', temp)\n",
    "splited_temp = temp.split(' - ')\n",
    "print('분리된 temp: ', splited_temp)\n",
    "joined_temp = '/'.join(splited_temp)\n",
    "print('joined_temp: ', joined_temp)"
   ]
  },
  {
   "cell_type": "code",
   "execution_count": 56,
   "id": "0d7312f5",
   "metadata": {
    "ExecuteTime": {
     "end_time": "2024-11-05T08:50:36.908339Z",
     "start_time": "2024-11-05T08:50:36.903355Z"
    }
   },
   "outputs": [
    {
     "name": "stdout",
     "output_type": "stream",
     "text": [
      "A\n",
      "B\n",
      "C\n"
     ]
    }
   ],
   "source": [
    "str_ = 'ABC' # ['A', 'B', 'C']\n",
    "for s in str_:\n",
    "    print(s)"
   ]
  },
  {
   "cell_type": "code",
   "execution_count": 58,
   "id": "b2a7e6c9",
   "metadata": {
    "ExecuteTime": {
     "end_time": "2024-11-05T08:51:55.484803Z",
     "start_time": "2024-11-05T08:51:55.479831Z"
    }
   },
   "outputs": [
    {
     "name": "stdout",
     "output_type": "stream",
     "text": [
      "A\n",
      "B\n",
      "C\n"
     ]
    }
   ],
   "source": [
    "# 동일 결과\n",
    "str_list = ['A', 'B', 'C']\n",
    "for s in str_list:\n",
    "    print(s)"
   ]
  },
  {
   "cell_type": "code",
   "execution_count": 59,
   "id": "08701a5a",
   "metadata": {
    "ExecuteTime": {
     "end_time": "2024-11-05T08:52:15.436749Z",
     "start_time": "2024-11-05T08:52:15.429533Z"
    }
   },
   "outputs": [
    {
     "data": {
      "text/plain": [
       "['__add__',\n",
       " '__class__',\n",
       " '__contains__',\n",
       " '__delattr__',\n",
       " '__dir__',\n",
       " '__doc__',\n",
       " '__eq__',\n",
       " '__format__',\n",
       " '__ge__',\n",
       " '__getattribute__',\n",
       " '__getitem__',\n",
       " '__getnewargs__',\n",
       " '__gt__',\n",
       " '__hash__',\n",
       " '__init__',\n",
       " '__init_subclass__',\n",
       " '__iter__',\n",
       " '__le__',\n",
       " '__len__',\n",
       " '__lt__',\n",
       " '__mod__',\n",
       " '__mul__',\n",
       " '__ne__',\n",
       " '__new__',\n",
       " '__reduce__',\n",
       " '__reduce_ex__',\n",
       " '__repr__',\n",
       " '__rmod__',\n",
       " '__rmul__',\n",
       " '__setattr__',\n",
       " '__sizeof__',\n",
       " '__str__',\n",
       " '__subclasshook__',\n",
       " 'capitalize',\n",
       " 'casefold',\n",
       " 'center',\n",
       " 'count',\n",
       " 'encode',\n",
       " 'endswith',\n",
       " 'expandtabs',\n",
       " 'find',\n",
       " 'format',\n",
       " 'format_map',\n",
       " 'index',\n",
       " 'isalnum',\n",
       " 'isalpha',\n",
       " 'isascii',\n",
       " 'isdecimal',\n",
       " 'isdigit',\n",
       " 'isidentifier',\n",
       " 'islower',\n",
       " 'isnumeric',\n",
       " 'isprintable',\n",
       " 'isspace',\n",
       " 'istitle',\n",
       " 'isupper',\n",
       " 'join',\n",
       " 'ljust',\n",
       " 'lower',\n",
       " 'lstrip',\n",
       " 'maketrans',\n",
       " 'partition',\n",
       " 'removeprefix',\n",
       " 'removesuffix',\n",
       " 'replace',\n",
       " 'rfind',\n",
       " 'rindex',\n",
       " 'rjust',\n",
       " 'rpartition',\n",
       " 'rsplit',\n",
       " 'rstrip',\n",
       " 'split',\n",
       " 'splitlines',\n",
       " 'startswith',\n",
       " 'strip',\n",
       " 'swapcase',\n",
       " 'title',\n",
       " 'translate',\n",
       " 'upper',\n",
       " 'zfill']"
      ]
     },
     "execution_count": 59,
     "metadata": {},
     "output_type": "execute_result"
    }
   ],
   "source": [
    "# 문자열을 다룰 수 있는 함수들 목록\n",
    "dir(str)"
   ]
  }
 ],
 "metadata": {
  "kernelspec": {
   "display_name": "Python 3 (ipykernel)",
   "language": "python",
   "name": "python3"
  },
  "language_info": {
   "codemirror_mode": {
    "name": "ipython",
    "version": 3
   },
   "file_extension": ".py",
   "mimetype": "text/x-python",
   "name": "python",
   "nbconvert_exporter": "python",
   "pygments_lexer": "ipython3",
   "version": "3.10.9"
  },
  "toc": {
   "base_numbering": 1,
   "nav_menu": {},
   "number_sections": true,
   "sideBar": true,
   "skip_h1_title": false,
   "title_cell": "Table of Contents",
   "title_sidebar": "Contents",
   "toc_cell": false,
   "toc_position": {},
   "toc_section_display": true,
   "toc_window_display": false
  }
 },
 "nbformat": 4,
 "nbformat_minor": 5
}
