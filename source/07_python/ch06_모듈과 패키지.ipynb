{
 "cells": [
  {
   "cell_type": "markdown",
   "id": "d8fc57a6",
   "metadata": {},
   "source": [
    "<b><font size=\"6\" color=\"red\">ch06. 모듈과 패키지</font></b>\n",
    "# 1절. 파이썬 표준 모듈 사용\n",
    "- 모듈: 함수, 변수, 클래스 등을 담고 있는 파이썬 코드 파일(*.py)\n",
    "- 파이썬 표준 모듈 200여개는 파이썬 인터프리터와 함께 install 됨\n",
    "- anaconda는 1500개 이상의 패키지 install"
   ]
  },
  {
   "cell_type": "code",
   "execution_count": null,
   "id": "2289c293",
   "metadata": {
    "ExecuteTime": {
     "end_time": "2024-11-12T07:37:55.893167Z",
     "start_time": "2024-11-12T07:37:55.893167Z"
    }
   },
   "outputs": [],
   "source": [
    "# 1. import 모듈명: 모듈 안의 함수, 클래스, 변수를 모듈명.함수명(),... 사용\n",
    "import time # time 모듈 안의 함수, 변수 클래스가 모두가 메모리에 로드\n",
    "# 현재 시점\n",
    "time.ctime()"
   ]
  },
  {
   "cell_type": "code",
   "execution_count": null,
   "id": "b331d4f1",
   "metadata": {
    "ExecuteTime": {
     "end_time": "2024-11-12T07:37:55.895145Z",
     "start_time": "2024-11-12T07:37:55.895145Z"
    }
   },
   "outputs": [],
   "source": [
    "# 1970.1.1부터의 밀리세컨\n",
    "time.time() "
   ]
  },
  {
   "cell_type": "code",
   "execution_count": null,
   "id": "31d7564a",
   "metadata": {
    "ExecuteTime": {
     "end_time": "2024-11-12T07:37:55.897139Z",
     "start_time": "2024-11-12T07:37:55.897139Z"
    }
   },
   "outputs": [],
   "source": [
    "# time 모듈을 메모리에서 unload(= import 취소)\n",
    "del time"
   ]
  },
  {
   "cell_type": "code",
   "execution_count": null,
   "id": "f9217873",
   "metadata": {
    "ExecuteTime": {
     "end_time": "2024-11-12T07:37:55.899895Z",
     "start_time": "2024-11-12T07:37:55.899895Z"
    }
   },
   "outputs": [],
   "source": [
    "# 2. from 모듈(A) import 함수|클래스|변수(B): A모듈 안의 B만 로드\n",
    "#    from 패키지(A) import 모듈(B): A패키지 안의 B모듈을 로드\n",
    "#    from 패키지(A).모듈명(B) import 함수명(C): A안의 B안의 C함수만 로드\n",
    "from time import ctime, time\n",
    "ctime() # 바로 사용 가능"
   ]
  },
  {
   "cell_type": "code",
   "execution_count": null,
   "id": "8c1ad7c2",
   "metadata": {
    "ExecuteTime": {
     "end_time": "2024-11-12T07:37:55.901872Z",
     "start_time": "2024-11-12T07:37:55.901872Z"
    }
   },
   "outputs": [],
   "source": [
    "time()"
   ]
  },
  {
   "cell_type": "code",
   "execution_count": null,
   "id": "41d4eefe",
   "metadata": {
    "ExecuteTime": {
     "end_time": "2024-11-12T07:37:55.904877Z",
     "start_time": "2024-11-12T07:37:55.904877Z"
    }
   },
   "outputs": [],
   "source": [
    "# time 모듈 안의 ctime, time 함수 메모리에서 unload\n",
    "del ctime\n",
    "del time"
   ]
  },
  {
   "cell_type": "code",
   "execution_count": null,
   "id": "3f9f6967",
   "metadata": {
    "ExecuteTime": {
     "end_time": "2024-11-12T07:37:55.905861Z",
     "start_time": "2024-11-12T07:37:55.905861Z"
    }
   },
   "outputs": [],
   "source": [
    "# 3. import 모듈명 as 별칭: 모듈을 메모리에서 로드하고 별칭으로 사용\n",
    "# 모듈명이 너무 길 경우 활용\n",
    "import time as t\n",
    "t.ctime() "
   ]
  },
  {
   "cell_type": "code",
   "execution_count": null,
   "id": "769bf2aa",
   "metadata": {
    "ExecuteTime": {
     "end_time": "2024-11-12T07:37:55.908513Z",
     "start_time": "2024-11-12T07:37:55.908513Z"
    }
   },
   "outputs": [],
   "source": [
    "t.time()"
   ]
  },
  {
   "cell_type": "code",
   "execution_count": null,
   "id": "a3be88ef",
   "metadata": {
    "ExecuteTime": {
     "end_time": "2024-11-12T07:37:55.910507Z",
     "start_time": "2024-11-12T07:37:55.910507Z"
    }
   },
   "outputs": [],
   "source": [
    "# 메모리에서 unload할 때도 별칭으로 \n",
    "del t"
   ]
  },
  {
   "cell_type": "code",
   "execution_count": null,
   "id": "87775b17",
   "metadata": {
    "ExecuteTime": {
     "end_time": "2024-11-12T07:37:55.912502Z",
     "start_time": "2024-11-12T07:37:55.912502Z"
    }
   },
   "outputs": [],
   "source": [
    "# 4. from 모듈명 import 함수명 as 별칭\n",
    "#    from 패키지명 import 모듈명 as 별칭\n",
    "#    form 패키지명.모듈명 import 함수명 as 별칭\n",
    "from time import ctime as ct, time as t\n",
    "ct()"
   ]
  },
  {
   "cell_type": "code",
   "execution_count": null,
   "id": "b648d296",
   "metadata": {
    "ExecuteTime": {
     "end_time": "2024-11-12T07:37:55.914497Z",
     "start_time": "2024-11-12T07:37:55.914497Z"
    }
   },
   "outputs": [],
   "source": [
    "t()"
   ]
  },
  {
   "cell_type": "markdown",
   "id": "a29439f6",
   "metadata": {},
   "source": [
    "```\n",
    "import A               - A 모듈을 가져옴\n",
    "import A as B          - A 모듈을 B 이름으로 가져옴\n",
    "from A import B        - A 모듈 안의 B 함수(클래스|변수)를 가져옴\n",
    "from A import B as C   - A 모듈 안의 B 함수를 C 이름으로 가져옴\n",
    "\n",
    "from A import B        - A 패키지 안의 B 모듈을 가져옴\n",
    "from A.B import C      - A 패키지 안의 B 모듈 안의 C 함수를 가져옴\n",
    "from A import B as C   - A 패키지 안의 B 모듈을 C 이름으로 가져옴\n",
    "from A.B import C as D - A 패키지 안의 B 모듈 안의 C 함수를 D 이름으로 가져옴 \n",
    "```"
   ]
  },
  {
   "cell_type": "code",
   "execution_count": null,
   "id": "00708dd9",
   "metadata": {
    "ExecuteTime": {
     "end_time": "2024-11-12T07:37:55.916574Z",
     "start_time": "2024-11-12T07:37:55.916574Z"
    }
   },
   "outputs": [],
   "source": [
    "import time\n",
    "dir(time) # time 모듈 내의 변수, 함수, 클래스 등이 list로 출력"
   ]
  },
  {
   "cell_type": "markdown",
   "id": "b6eba5a6",
   "metadata": {},
   "source": [
    "# 2절. 사용자 정의 모듈\n",
    "- 함수나 클래스 등을 파이썬 파일에 저장해서 모듈을 만들고 재사용할 수 있음\n",
    "- 모듈을 가져오는 순서 (1)표준모듈 (2)sys.path 변수에 지정된 경로"
   ]
  },
  {
   "cell_type": "code",
   "execution_count": null,
   "id": "93eb6b64",
   "metadata": {
    "ExecuteTime": {
     "end_time": "2024-11-12T07:37:55.919566Z",
     "start_time": "2024-11-12T07:37:55.919566Z"
    }
   },
   "outputs": [],
   "source": [
    "import sys\n",
    "# dir(sys)\n",
    "sys.path"
   ]
  },
  {
   "cell_type": "code",
   "execution_count": null,
   "id": "74a087be",
   "metadata": {
    "ExecuteTime": {
     "end_time": "2024-11-12T07:37:55.920563Z",
     "start_time": "2024-11-12T07:37:55.920563Z"
    }
   },
   "outputs": [],
   "source": [
    "r'D:\\ai\\source\\pylib' == 'D:\\\\ai\\\\source\\\\pylib'"
   ]
  },
  {
   "cell_type": "code",
   "execution_count": 1,
   "id": "16cebb84",
   "metadata": {
    "ExecuteTime": {
     "end_time": "2024-11-12T07:38:11.743176Z",
     "start_time": "2024-11-12T07:38:11.734200Z"
    }
   },
   "outputs": [
    {
     "data": {
      "text/plain": [
       "['D:\\\\ai\\\\source\\\\07_python',\n",
       " 'C:\\\\Users\\\\4545\\\\anaconda3\\\\python310.zip',\n",
       " 'C:\\\\Users\\\\4545\\\\anaconda3\\\\DLLs',\n",
       " 'C:\\\\Users\\\\4545\\\\anaconda3\\\\lib',\n",
       " 'C:\\\\Users\\\\4545\\\\anaconda3',\n",
       " '',\n",
       " 'C:\\\\Users\\\\4545\\\\anaconda3\\\\lib\\\\site-packages',\n",
       " 'C:\\\\Users\\\\4545\\\\anaconda3\\\\lib\\\\site-packages\\\\win32',\n",
       " 'C:\\\\Users\\\\4545\\\\anaconda3\\\\lib\\\\site-packages\\\\win32\\\\lib',\n",
       " 'C:\\\\Users\\\\4545\\\\anaconda3\\\\lib\\\\site-packages\\\\Pythonwin',\n",
       " 'D:\\\\ai\\\\source\\\\pylib']"
      ]
     },
     "execution_count": 1,
     "metadata": {},
     "output_type": "execute_result"
    }
   ],
   "source": [
    "# 사용자 정의 모듈(*.py)을 저장할 폴더: d:/ai/source/pylib\n",
    "# indexa[0]에 insert\n",
    "import sys\n",
    "sys.path.append(r'D:\\ai\\source\\pylib') # raw data\n",
    "sys.path"
   ]
  },
  {
   "cell_type": "code",
   "execution_count": null,
   "id": "fc6185be",
   "metadata": {
    "ExecuteTime": {
     "end_time": "2024-11-12T07:37:55.925551Z",
     "start_time": "2024-11-12T07:37:55.925551Z"
    }
   },
   "outputs": [],
   "source": [
    "# 1. import 모듈명\n",
    "import fibonacci "
   ]
  },
  {
   "cell_type": "code",
   "execution_count": null,
   "id": "b82dfb46",
   "metadata": {
    "ExecuteTime": {
     "end_time": "2024-11-12T07:37:55.927545Z",
     "start_time": "2024-11-12T07:37:55.927545Z"
    }
   },
   "outputs": [],
   "source": [
    "fibonacci.fibo_print(100)"
   ]
  },
  {
   "cell_type": "code",
   "execution_count": null,
   "id": "730b31e4",
   "metadata": {
    "ExecuteTime": {
     "end_time": "2024-11-12T07:37:55.928543Z",
     "start_time": "2024-11-12T07:37:55.928543Z"
    }
   },
   "outputs": [],
   "source": [
    "fibonacci.fibo_return(100)"
   ]
  },
  {
   "cell_type": "code",
   "execution_count": null,
   "id": "915e9b6a",
   "metadata": {
    "ExecuteTime": {
     "end_time": "2024-11-12T07:37:55.932106Z",
     "start_time": "2024-11-12T07:37:55.931540Z"
    }
   },
   "outputs": [],
   "source": [
    "# command: !\n",
    "# 특정 파일에만 access\n",
    "! python d:/ai/source/pylib/fibonacci.py"
   ]
  },
  {
   "cell_type": "code",
   "execution_count": null,
   "id": "4d920cb1",
   "metadata": {
    "ExecuteTime": {
     "end_time": "2024-11-12T07:37:55.934102Z",
     "start_time": "2024-11-12T07:37:55.934102Z"
    }
   },
   "outputs": [],
   "source": [
    "# import 취소 (= 메모리에서 unload)\n",
    "del fibonacci"
   ]
  },
  {
   "cell_type": "code",
   "execution_count": null,
   "id": "fc5fa845",
   "metadata": {
    "ExecuteTime": {
     "end_time": "2024-11-12T07:37:55.936097Z",
     "start_time": "2024-11-12T07:37:55.936097Z"
    }
   },
   "outputs": [],
   "source": [
    "# 2. from A import B\n",
    "from fibonacci import fibo_print, fibo_return\n",
    "fibo_print(100)"
   ]
  },
  {
   "cell_type": "code",
   "execution_count": null,
   "id": "583eb52c",
   "metadata": {
    "ExecuteTime": {
     "end_time": "2024-11-12T07:37:55.938092Z",
     "start_time": "2024-11-12T07:37:55.938092Z"
    }
   },
   "outputs": [],
   "source": [
    "fibo_return(200)"
   ]
  },
  {
   "cell_type": "code",
   "execution_count": null,
   "id": "939bc101",
   "metadata": {
    "ExecuteTime": {
     "end_time": "2024-11-12T07:37:55.940975Z",
     "start_time": "2024-11-12T07:37:55.940975Z"
    }
   },
   "outputs": [],
   "source": [
    "del fibo_print\n",
    "del fibo_return"
   ]
  },
  {
   "cell_type": "code",
   "execution_count": null,
   "id": "03556a7c",
   "metadata": {
    "ExecuteTime": {
     "end_time": "2024-11-12T07:37:55.942974Z",
     "start_time": "2024-11-12T07:37:55.942974Z"
    }
   },
   "outputs": [],
   "source": [
    "# 3. import 모듈명 as 별칭\n",
    "import fibonacci as f\n",
    "f.fibo_print(100)"
   ]
  },
  {
   "cell_type": "code",
   "execution_count": null,
   "id": "781061c7",
   "metadata": {
    "ExecuteTime": {
     "end_time": "2024-11-12T07:37:55.944969Z",
     "start_time": "2024-11-12T07:37:55.944969Z"
    }
   },
   "outputs": [],
   "source": [
    "f.fibo_return(100)"
   ]
  },
  {
   "cell_type": "code",
   "execution_count": null,
   "id": "56422fb2",
   "metadata": {
    "ExecuteTime": {
     "end_time": "2024-11-12T07:37:55.946963Z",
     "start_time": "2024-11-12T07:37:55.946963Z"
    }
   },
   "outputs": [],
   "source": [
    "# import된 모듈을 unload\n",
    "del f "
   ]
  },
  {
   "cell_type": "code",
   "execution_count": null,
   "id": "e0839985",
   "metadata": {
    "ExecuteTime": {
     "end_time": "2024-11-12T07:37:55.949777Z",
     "start_time": "2024-11-12T07:37:55.949777Z"
    }
   },
   "outputs": [],
   "source": [
    "# 4. from 모듈명 import 함수명 as 별칭\n",
    "from fibonacci import fibo_print as fibo_p"
   ]
  },
  {
   "cell_type": "code",
   "execution_count": null,
   "id": "bbfcf5bc",
   "metadata": {
    "ExecuteTime": {
     "end_time": "2024-11-12T07:37:55.952769Z",
     "start_time": "2024-11-12T07:37:55.952769Z"
    }
   },
   "outputs": [],
   "source": [
    "fibo_p(100)"
   ]
  },
  {
   "cell_type": "code",
   "execution_count": null,
   "id": "fd8bb0ca",
   "metadata": {
    "ExecuteTime": {
     "end_time": "2024-11-12T07:37:55.953766Z",
     "start_time": "2024-11-12T07:37:55.953766Z"
    }
   },
   "outputs": [],
   "source": [
    "import info\n",
    "print(info.PI)"
   ]
  },
  {
   "cell_type": "code",
   "execution_count": null,
   "id": "003b4cb8",
   "metadata": {
    "ExecuteTime": {
     "end_time": "2024-11-12T07:37:55.956758Z",
     "start_time": "2024-11-12T07:37:55.956758Z"
    }
   },
   "outputs": [],
   "source": [
    "obj = info.Cal(10, 5)"
   ]
  },
  {
   "cell_type": "code",
   "execution_count": null,
   "id": "bb5bc770",
   "metadata": {
    "ExecuteTime": {
     "end_time": "2024-11-12T07:37:55.957756Z",
     "start_time": "2024-11-12T07:37:55.957756Z"
    }
   },
   "outputs": [],
   "source": [
    "print(isinstance(obj, info.Cal))\n",
    "print('add test:', obj.add())\n",
    "print('sub test:', obj.sub())"
   ]
  },
  {
   "cell_type": "code",
   "execution_count": null,
   "id": "1f5dfa35",
   "metadata": {
    "ExecuteTime": {
     "end_time": "2024-11-12T07:37:55.960749Z",
     "start_time": "2024-11-12T07:37:55.960749Z"
    }
   },
   "outputs": [],
   "source": [
    "del info"
   ]
  },
  {
   "cell_type": "code",
   "execution_count": null,
   "id": "5d6d33b3",
   "metadata": {
    "ExecuteTime": {
     "end_time": "2024-11-12T07:37:55.961745Z",
     "start_time": "2024-11-12T07:37:55.961745Z"
    }
   },
   "outputs": [],
   "source": [
    "# class 가지고 올 때는 alias 사용 불편\n",
    "import info as i\n",
    "obj = i.Cal(10, 5)"
   ]
  },
  {
   "cell_type": "code",
   "execution_count": null,
   "id": "74ea36aa",
   "metadata": {
    "ExecuteTime": {
     "end_time": "2024-11-12T07:37:55.964704Z",
     "start_time": "2024-11-12T07:37:55.964704Z"
    }
   },
   "outputs": [],
   "source": [
    "del i"
   ]
  },
  {
   "cell_type": "code",
   "execution_count": null,
   "id": "2b053f44",
   "metadata": {
    "ExecuteTime": {
     "end_time": "2024-11-12T07:37:55.966589Z",
     "start_time": "2024-11-12T07:37:55.966589Z"
    }
   },
   "outputs": [],
   "source": [
    "# Cal 클래스만 import\n",
    "from info import Cal"
   ]
  },
  {
   "cell_type": "code",
   "execution_count": null,
   "id": "ad802336",
   "metadata": {
    "ExecuteTime": {
     "end_time": "2024-11-12T07:37:55.968562Z",
     "start_time": "2024-11-12T07:37:55.968562Z"
    }
   },
   "outputs": [],
   "source": [
    "obj = Cal(10, 5)\n",
    "print('obj.num1:', obj.num1)\n",
    "print('obj.num2:', obj.num2)\n",
    "print('add test:', obj.add())\n",
    "print('sub test:', obj.sub())"
   ]
  },
  {
   "cell_type": "code",
   "execution_count": null,
   "id": "4cc52246",
   "metadata": {
    "ExecuteTime": {
     "end_time": "2024-11-12T07:37:55.970557Z",
     "start_time": "2024-11-12T07:37:55.970557Z"
    }
   },
   "outputs": [],
   "source": [
    "# 클래스를 별칭(Calculate)으로 import\n",
    "from info import Cal as Calculate\n",
    "obj = Calculate(10, 5)\n",
    "print('obj.num1:', obj.num1)\n",
    "print('obj.num2:', obj.num2)\n",
    "print('add test:', obj.add())\n",
    "print('sub test:', obj.sub())"
   ]
  },
  {
   "cell_type": "markdown",
   "id": "a8966bc2",
   "metadata": {},
   "source": [
    "# 3절. 패키지\n",
    "- 여러 모듈이 들어있는 폴더(엄밀히는 모듈만 들어있는 것은 아님)"
   ]
  },
  {
   "cell_type": "code",
   "execution_count": null,
   "id": "b0dce744",
   "metadata": {
    "ExecuteTime": {
     "end_time": "2024-11-12T07:37:55.972529Z",
     "start_time": "2024-11-12T07:37:55.972529Z"
    }
   },
   "outputs": [],
   "source": [
    "# 상위 패키지를 import한다고 하위 패키지가 import 되지 않음\n",
    "import sample_pac"
   ]
  },
  {
   "cell_type": "code",
   "execution_count": null,
   "id": "6797badb",
   "metadata": {
    "ExecuteTime": {
     "end_time": "2024-11-12T07:37:55.975427Z",
     "start_time": "2024-11-12T07:37:55.975427Z"
    }
   },
   "outputs": [],
   "source": [
    "import sample_pac.ab"
   ]
  },
  {
   "cell_type": "code",
   "execution_count": null,
   "id": "2dd015da",
   "metadata": {
    "ExecuteTime": {
     "end_time": "2024-11-12T07:37:55.976424Z",
     "start_time": "2024-11-12T07:37:55.976424Z"
    }
   },
   "outputs": [],
   "source": [
    "from sample_pac import cd"
   ]
  },
  {
   "cell_type": "code",
   "execution_count": null,
   "id": "40a637f4",
   "metadata": {
    "ExecuteTime": {
     "end_time": "2024-11-12T07:37:55.978418Z",
     "start_time": "2024-11-12T07:37:55.978418Z"
    }
   },
   "outputs": [],
   "source": [
    "# sample_pac 파일의 위치\n",
    "print(sample_pac.__file__)"
   ]
  },
  {
   "cell_type": "code",
   "execution_count": null,
   "id": "7fd3a489",
   "metadata": {
    "ExecuteTime": {
     "end_time": "2024-11-12T07:37:55.980413Z",
     "start_time": "2024-11-12T07:37:55.980413Z"
    }
   },
   "outputs": [],
   "source": [
    "# sample_pac이 위치한 경로\n",
    "print(sample_pac.__path__)"
   ]
  },
  {
   "cell_type": "code",
   "execution_count": null,
   "id": "7544ca16",
   "metadata": {
    "ExecuteTime": {
     "end_time": "2024-11-12T07:37:55.983841Z",
     "start_time": "2024-11-12T07:37:55.983841Z"
    }
   },
   "outputs": [],
   "source": [
    "del sample_pac.ab\n",
    "del cd"
   ]
  },
  {
   "cell_type": "code",
   "execution_count": 2,
   "id": "ac24f513",
   "metadata": {
    "ExecuteTime": {
     "end_time": "2024-11-12T07:48:07.520344Z",
     "start_time": "2024-11-12T07:48:07.510392Z"
    }
   },
   "outputs": [
    {
     "data": {
      "text/plain": [
       "['D:\\\\ai\\\\source\\\\07_python',\n",
       " 'C:\\\\Users\\\\4545\\\\anaconda3\\\\python310.zip',\n",
       " 'C:\\\\Users\\\\4545\\\\anaconda3\\\\DLLs',\n",
       " 'C:\\\\Users\\\\4545\\\\anaconda3\\\\lib',\n",
       " 'C:\\\\Users\\\\4545\\\\anaconda3',\n",
       " '',\n",
       " 'C:\\\\Users\\\\4545\\\\anaconda3\\\\lib\\\\site-packages',\n",
       " 'C:\\\\Users\\\\4545\\\\anaconda3\\\\lib\\\\site-packages\\\\win32',\n",
       " 'C:\\\\Users\\\\4545\\\\anaconda3\\\\lib\\\\site-packages\\\\win32\\\\lib',\n",
       " 'C:\\\\Users\\\\4545\\\\anaconda3\\\\lib\\\\site-packages\\\\Pythonwin',\n",
       " 'D:\\\\ai\\\\source\\\\pylib']"
      ]
     },
     "execution_count": 2,
     "metadata": {},
     "output_type": "execute_result"
    }
   ],
   "source": [
    "# 커널 재시작했을 때 다시 실행\n",
    "import sys\n",
    "sys.path.append(r'D:\\ai\\source\\pylib') # raw data\n",
    "sys.path"
   ]
  },
  {
   "cell_type": "code",
   "execution_count": 2,
   "id": "4171fc4e",
   "metadata": {
    "ExecuteTime": {
     "end_time": "2024-11-12T07:38:18.579315Z",
     "start_time": "2024-11-12T07:38:18.567326Z"
    }
   },
   "outputs": [
    {
     "name": "stdout",
     "output_type": "stream",
     "text": [
      "sample_pac 패키지를 로드했는지 확인하는 print입니다\n",
      "sample_pac 패키지 안의 ab패키지가 로드되었습니다\n"
     ]
    }
   ],
   "source": [
    "# ab 패키지의 __init__.py 안의 __all__속성인 a.py만 로드됨\n",
    "from sample_pac.ab import * "
   ]
  },
  {
   "cell_type": "code",
   "execution_count": 3,
   "id": "15116c01",
   "metadata": {
    "ExecuteTime": {
     "end_time": "2024-11-12T07:40:30.462751Z",
     "start_time": "2024-11-12T07:40:30.456610Z"
    }
   },
   "outputs": [
    {
     "name": "stdout",
     "output_type": "stream",
     "text": [
      "sample_pac/ab/a모듈의 Hello\n"
     ]
    }
   ],
   "source": [
    "a.hello()"
   ]
  },
  {
   "cell_type": "code",
   "execution_count": 4,
   "id": "9b9e4c80",
   "metadata": {
    "ExecuteTime": {
     "end_time": "2024-11-12T07:41:05.660264Z",
     "start_time": "2024-11-12T07:41:05.142538Z"
    },
    "collapsed": true
   },
   "outputs": [
    {
     "ename": "NameError",
     "evalue": "name 'b' is not defined",
     "output_type": "error",
     "traceback": [
      "\u001b[1;31m---------------------------------------------------------------------------\u001b[0m",
      "\u001b[1;31mNameError\u001b[0m                                 Traceback (most recent call last)",
      "Cell \u001b[1;32mIn[4], line 1\u001b[0m\n\u001b[1;32m----> 1\u001b[0m \u001b[43mb\u001b[49m\u001b[38;5;241m.\u001b[39mhello()\n",
      "\u001b[1;31mNameError\u001b[0m: name 'b' is not defined"
     ]
    }
   ],
   "source": [
    "b.world() # b모듈은 import 안 됨, Error"
   ]
  },
  {
   "cell_type": "code",
   "execution_count": 5,
   "id": "d35df281",
   "metadata": {
    "ExecuteTime": {
     "end_time": "2024-11-12T07:41:49.991703Z",
     "start_time": "2024-11-12T07:41:49.983725Z"
    }
   },
   "outputs": [
    {
     "name": "stdout",
     "output_type": "stream",
     "text": [
      "sample_pac/ab/b모듈안의 world\n"
     ]
    }
   ],
   "source": [
    "from sample_pac.ab import b\n",
    "b.world()"
   ]
  },
  {
   "cell_type": "code",
   "execution_count": 6,
   "id": "e1bcbbf7",
   "metadata": {
    "ExecuteTime": {
     "end_time": "2024-11-12T07:43:17.099581Z",
     "start_time": "2024-11-12T07:43:17.094592Z"
    }
   },
   "outputs": [
    {
     "name": "stdout",
     "output_type": "stream",
     "text": [
      "sample_pac/ab/b모듈안의 world\n"
     ]
    }
   ],
   "source": [
    "from sample_pac.ab.b import world\n",
    "world()"
   ]
  },
  {
   "cell_type": "code",
   "execution_count": 7,
   "id": "ea635bb7",
   "metadata": {
    "ExecuteTime": {
     "end_time": "2024-11-12T07:44:30.035319Z",
     "start_time": "2024-11-12T07:44:30.030332Z"
    }
   },
   "outputs": [],
   "source": [
    "del a"
   ]
  },
  {
   "cell_type": "code",
   "execution_count": 3,
   "id": "686f1ad4",
   "metadata": {
    "ExecuteTime": {
     "end_time": "2024-11-12T07:48:10.821643Z",
     "start_time": "2024-11-12T07:48:10.807661Z"
    }
   },
   "outputs": [
    {
     "name": "stdout",
     "output_type": "stream",
     "text": [
      "sample_pac 패키지를 로드했는지 확인하는 print입니다\n",
      "sample_pac 패키지 안의 cd 패키지 로드\n",
      "sample_pac 패키지 안의 ab패키지가 로드되었습니다\n"
     ]
    }
   ],
   "source": [
    "# import sample_pac.cd.c as c\n",
    "from sample_pac.cd import c\n",
    "# cd패키지 아래의 c는 a를 참조"
   ]
  },
  {
   "cell_type": "code",
   "execution_count": 4,
   "id": "e3c9b8a9",
   "metadata": {
    "ExecuteTime": {
     "end_time": "2024-11-12T07:48:22.420382Z",
     "start_time": "2024-11-12T07:48:22.415395Z"
    }
   },
   "outputs": [
    {
     "name": "stdout",
     "output_type": "stream",
     "text": [
      "sample_pac/cd안의 c모듈 안의 nice\n",
      "sample_pac/ab/a모듈의 Hello\n"
     ]
    }
   ],
   "source": [
    "c.nice()"
   ]
  },
  {
   "cell_type": "code",
   "execution_count": null,
   "id": "fc7a57bf",
   "metadata": {},
   "outputs": [],
   "source": [
    "# c모듈을 통해 a모듈 함수 호출 가능\n",
    "c.a.hello()"
   ]
  },
  {
   "cell_type": "markdown",
   "id": "e4654d81",
   "metadata": {},
   "source": [
    "# 4절. 패키지 설치 및 삭제\n",
    "```\n",
    "프롬프트 창에서..\n",
    "- 패키지 설치: pip install 패키지명[==버전] / conda install 패키지명[==버전]\n",
    "- 패키지 확인: pip show 패키지명            / conda list 패키지명\n",
    "- 패키지 삭제: pip uninstall 패키지명       / conda remove 패키지명\n",
    "pip(conda)로 설치했다면, pip(conda)로 삭제\n",
    "```"
   ]
  },
  {
   "cell_type": "code",
   "execution_count": 2,
   "id": "b040fa81",
   "metadata": {
    "ExecuteTime": {
     "end_time": "2024-11-12T08:24:18.998733Z",
     "start_time": "2024-11-12T08:24:18.992377Z"
    }
   },
   "outputs": [],
   "source": [
    "import objgraph # 메모리 사용량 출력하는 함수"
   ]
  },
  {
   "cell_type": "code",
   "execution_count": 10,
   "id": "72f6715e",
   "metadata": {
    "ExecuteTime": {
     "end_time": "2024-11-12T08:26:03.761637Z",
     "start_time": "2024-11-12T08:26:03.680503Z"
    }
   },
   "outputs": [
    {
     "name": "stdout",
     "output_type": "stream",
     "text": [
      "dict                       20874\n",
      "function                   18943\n",
      "Token                      16779\n",
      "list                       13498\n",
      "tuple                      12561\n",
      "ReferenceType              5497\n",
      "builtin_function_or_method 3274\n",
      "cell                       2574\n",
      "type                       2573\n",
      "Name                       2505\n"
     ]
    }
   ],
   "source": [
    "# 메모리 사용량 출력\n",
    "objgraph.show_most_common_types()"
   ]
  },
  {
   "cell_type": "code",
   "execution_count": 11,
   "id": "bf7dbe1e",
   "metadata": {
    "ExecuteTime": {
     "end_time": "2024-11-12T08:26:44.388185Z",
     "start_time": "2024-11-12T08:26:41.735696Z"
    }
   },
   "outputs": [
    {
     "data": {
      "text/plain": [
       "[2,\n",
       " 'aaaa',\n",
       " 'bbbb',\n",
       " 'aaaa',\n",
       " 'bbbb',\n",
       " 'aaaa',\n",
       " 'bbbb',\n",
       " 'aaaa',\n",
       " 'bbbb',\n",
       " 'aaaa',\n",
       " 'bbbb',\n",
       " 'aaaa',\n",
       " 'bbbb',\n",
       " 'aaaa',\n",
       " 'bbbb',\n",
       " 'aaaa',\n",
       " 'bbbb',\n",
       " 'aaaa',\n",
       " 'bbbb',\n",
       " 'aaaa',\n",
       " 'bbbb',\n",
       " 'aaaa',\n",
       " 'bbbb',\n",
       " 'aaaa',\n",
       " 'bbbb',\n",
       " 'aaaa',\n",
       " 'bbbb',\n",
       " 'aaaa',\n",
       " 'bbbb',\n",
       " 'aaaa',\n",
       " 'bbbb',\n",
       " 'aaaa',\n",
       " 'bbbb',\n",
       " 'aaaa',\n",
       " 'bbbb',\n",
       " 'aaaa',\n",
       " 'bbbb',\n",
       " 'aaaa',\n",
       " 'bbbb',\n",
       " 'aaaa',\n",
       " 'bbbb',\n",
       " 'aaaa',\n",
       " 'bbbb',\n",
       " 'aaaa',\n",
       " 'bbbb',\n",
       " 'aaaa',\n",
       " 'bbbb',\n",
       " 'aaaa',\n",
       " 'bbbb',\n",
       " 'aaaa',\n",
       " 'bbbb',\n",
       " 'aaaa',\n",
       " 'bbbb',\n",
       " 'aaaa',\n",
       " 'bbbb',\n",
       " 'aaaa',\n",
       " 'bbbb',\n",
       " 'aaaa',\n",
       " 'bbbb',\n",
       " 'aaaa',\n",
       " 'bbbb',\n",
       " 'aaaa',\n",
       " 'bbbb',\n",
       " 'aaaa',\n",
       " 'bbbb',\n",
       " 'aaaa',\n",
       " 'bbbb',\n",
       " 'aaaa',\n",
       " 'bbbb',\n",
       " 'aaaa',\n",
       " 'bbbb',\n",
       " 'aaaa',\n",
       " 'bbbb',\n",
       " 'aaaa',\n",
       " 'bbbb',\n",
       " 'aaaa',\n",
       " 'bbbb',\n",
       " 'aaaa',\n",
       " 'bbbb',\n",
       " 'aaaa',\n",
       " 'bbbb',\n",
       " 'aaaa',\n",
       " 'bbbb',\n",
       " 'aaaa',\n",
       " 'bbbb',\n",
       " 'aaaa',\n",
       " 'bbbb',\n",
       " 'aaaa',\n",
       " 'bbbb',\n",
       " 'aaaa',\n",
       " 'bbbb',\n",
       " 'aaaa',\n",
       " 'bbbb',\n",
       " 'aaaa',\n",
       " 'bbbb',\n",
       " 'aaaa',\n",
       " 'bbbb',\n",
       " 'aaaa',\n",
       " 'bbbb',\n",
       " 'aaaa',\n",
       " 'bbbb',\n",
       " 'aaaa',\n",
       " 'bbbb',\n",
       " 'aaaa',\n",
       " 'bbbb',\n",
       " 'aaaa',\n",
       " 'bbbb',\n",
       " 'aaaa',\n",
       " 'bbbb',\n",
       " 'aaaa',\n",
       " 'bbbb',\n",
       " 'aaaa',\n",
       " 'bbbb',\n",
       " 'aaaa',\n",
       " 'bbbb',\n",
       " 'aaaa',\n",
       " 'bbbb',\n",
       " 'aaaa',\n",
       " 'bbbb',\n",
       " 'aaaa',\n",
       " 'bbbb',\n",
       " 'aaaa',\n",
       " 'bbbb',\n",
       " 'aaaa',\n",
       " 'bbbb',\n",
       " 'aaaa',\n",
       " 'bbbb',\n",
       " 'aaaa',\n",
       " 'bbbb',\n",
       " 'aaaa',\n",
       " 'bbbb',\n",
       " 'aaaa',\n",
       " 'bbbb',\n",
       " 'aaaa',\n",
       " 'bbbb',\n",
       " 'aaaa',\n",
       " 'bbbb',\n",
       " 'aaaa',\n",
       " 'bbbb',\n",
       " 'aaaa',\n",
       " 'bbbb',\n",
       " 'aaaa',\n",
       " 'bbbb',\n",
       " 'aaaa',\n",
       " 'bbbb',\n",
       " 'aaaa',\n",
       " 'bbbb',\n",
       " 'aaaa',\n",
       " 'bbbb',\n",
       " 'aaaa',\n",
       " 'bbbb',\n",
       " 'aaaa',\n",
       " 'bbbb',\n",
       " 'aaaa',\n",
       " 'bbbb',\n",
       " 'aaaa',\n",
       " 'bbbb',\n",
       " 'aaaa',\n",
       " 'bbbb',\n",
       " 'aaaa',\n",
       " 'bbbb',\n",
       " 'aaaa',\n",
       " 'bbbb',\n",
       " 'aaaa',\n",
       " 'bbbb',\n",
       " 'aaaa',\n",
       " 'bbbb',\n",
       " 'aaaa',\n",
       " 'bbbb',\n",
       " 'aaaa',\n",
       " 'bbbb',\n",
       " 'aaaa',\n",
       " 'bbbb',\n",
       " 'aaaa',\n",
       " 'bbbb',\n",
       " 'aaaa',\n",
       " 'bbbb',\n",
       " 'aaaa',\n",
       " 'bbbb',\n",
       " 'aaaa',\n",
       " 'bbbb',\n",
       " 'aaaa',\n",
       " 'bbbb',\n",
       " 'aaaa',\n",
       " 'bbbb',\n",
       " 'aaaa',\n",
       " 'bbbb',\n",
       " 'aaaa',\n",
       " 'bbbb',\n",
       " 'aaaa',\n",
       " 'bbbb',\n",
       " 'aaaa',\n",
       " 'bbbb',\n",
       " 'aaaa',\n",
       " 'bbbb',\n",
       " 'aaaa',\n",
       " 'bbbb',\n",
       " 'aaaa',\n",
       " 'bbbb',\n",
       " 'aaaa',\n",
       " 'bbbb',\n",
       " 'aaaa',\n",
       " 'bbbb',\n",
       " 'aaaa',\n",
       " 'bbbb',\n",
       " 'aaaa',\n",
       " 'bbbb',\n",
       " 'aaaa',\n",
       " 'bbbb',\n",
       " 'aaaa',\n",
       " 'bbbb',\n",
       " 'aaaa',\n",
       " 'bbbb',\n",
       " 'aaaa',\n",
       " 'bbbb',\n",
       " 'aaaa',\n",
       " 'bbbb',\n",
       " 'aaaa',\n",
       " 'bbbb',\n",
       " 'aaaa',\n",
       " 'bbbb',\n",
       " 'aaaa',\n",
       " 'bbbb',\n",
       " 'aaaa',\n",
       " 'bbbb',\n",
       " 'aaaa',\n",
       " 'bbbb',\n",
       " 'aaaa',\n",
       " 'bbbb',\n",
       " 'aaaa',\n",
       " 'bbbb',\n",
       " 'aaaa',\n",
       " 'bbbb',\n",
       " 'aaaa',\n",
       " 'bbbb',\n",
       " 'aaaa',\n",
       " 'bbbb',\n",
       " 'aaaa',\n",
       " 'bbbb',\n",
       " 'aaaa',\n",
       " 'bbbb',\n",
       " 'aaaa',\n",
       " 'bbbb',\n",
       " 'aaaa',\n",
       " 'bbbb',\n",
       " 'aaaa',\n",
       " 'bbbb',\n",
       " 'aaaa',\n",
       " 'bbbb',\n",
       " 'aaaa',\n",
       " 'bbbb',\n",
       " 'aaaa',\n",
       " 'bbbb',\n",
       " 'aaaa',\n",
       " 'bbbb',\n",
       " 'aaaa',\n",
       " 'bbbb',\n",
       " 'aaaa',\n",
       " 'bbbb',\n",
       " 'aaaa',\n",
       " 'bbbb',\n",
       " 'aaaa',\n",
       " 'bbbb',\n",
       " 'aaaa',\n",
       " 'bbbb',\n",
       " 'aaaa',\n",
       " 'bbbb',\n",
       " 'aaaa',\n",
       " 'bbbb',\n",
       " 'aaaa',\n",
       " 'bbbb',\n",
       " 'aaaa',\n",
       " 'bbbb',\n",
       " 'aaaa',\n",
       " 'bbbb',\n",
       " 'aaaa',\n",
       " 'bbbb',\n",
       " 'aaaa',\n",
       " 'bbbb',\n",
       " 'aaaa',\n",
       " 'bbbb',\n",
       " 'aaaa',\n",
       " 'bbbb',\n",
       " 'aaaa',\n",
       " 'bbbb',\n",
       " 'aaaa',\n",
       " 'bbbb',\n",
       " 'aaaa',\n",
       " 'bbbb',\n",
       " 'aaaa',\n",
       " 'bbbb',\n",
       " 'aaaa',\n",
       " 'bbbb',\n",
       " 'aaaa',\n",
       " 'bbbb',\n",
       " 'aaaa',\n",
       " 'bbbb',\n",
       " 'aaaa',\n",
       " 'bbbb',\n",
       " 'aaaa',\n",
       " 'bbbb',\n",
       " 'aaaa',\n",
       " 'bbbb',\n",
       " 'aaaa',\n",
       " 'bbbb',\n",
       " 'aaaa',\n",
       " 'bbbb',\n",
       " 'aaaa',\n",
       " 'bbbb',\n",
       " 'aaaa',\n",
       " 'bbbb',\n",
       " 'aaaa',\n",
       " 'bbbb',\n",
       " 'aaaa',\n",
       " 'bbbb',\n",
       " 'aaaa',\n",
       " 'bbbb',\n",
       " 'aaaa',\n",
       " 'bbbb',\n",
       " 'aaaa',\n",
       " 'bbbb',\n",
       " 'aaaa',\n",
       " 'bbbb',\n",
       " 'aaaa',\n",
       " 'bbbb',\n",
       " 'aaaa',\n",
       " 'bbbb',\n",
       " 'aaaa',\n",
       " 'bbbb',\n",
       " 'aaaa',\n",
       " 'bbbb',\n",
       " 'aaaa',\n",
       " 'bbbb',\n",
       " 'aaaa',\n",
       " 'bbbb',\n",
       " 'aaaa',\n",
       " 'bbbb',\n",
       " 'aaaa',\n",
       " 'bbbb',\n",
       " 'aaaa',\n",
       " 'bbbb',\n",
       " 'aaaa',\n",
       " 'bbbb',\n",
       " 'aaaa',\n",
       " 'bbbb',\n",
       " 'aaaa',\n",
       " 'bbbb',\n",
       " 'aaaa',\n",
       " 'bbbb',\n",
       " 'aaaa',\n",
       " 'bbbb',\n",
       " 'aaaa',\n",
       " 'bbbb',\n",
       " 'aaaa',\n",
       " 'bbbb',\n",
       " 'aaaa',\n",
       " 'bbbb',\n",
       " 'aaaa',\n",
       " 'bbbb',\n",
       " 'aaaa',\n",
       " 'bbbb',\n",
       " 'aaaa',\n",
       " 'bbbb',\n",
       " 'aaaa',\n",
       " 'bbbb',\n",
       " 'aaaa',\n",
       " 'bbbb',\n",
       " 'aaaa',\n",
       " 'bbbb',\n",
       " 'aaaa',\n",
       " 'bbbb',\n",
       " 'aaaa',\n",
       " 'bbbb',\n",
       " 'aaaa',\n",
       " 'bbbb',\n",
       " 'aaaa',\n",
       " 'bbbb',\n",
       " 'aaaa',\n",
       " 'bbbb',\n",
       " 'aaaa',\n",
       " 'bbbb',\n",
       " 'aaaa',\n",
       " 'bbbb',\n",
       " 'aaaa',\n",
       " 'bbbb',\n",
       " 'aaaa',\n",
       " 'bbbb',\n",
       " 'aaaa',\n",
       " 'bbbb',\n",
       " 'aaaa',\n",
       " 'bbbb',\n",
       " 'aaaa',\n",
       " 'bbbb',\n",
       " 'aaaa',\n",
       " 'bbbb',\n",
       " 'aaaa',\n",
       " 'bbbb',\n",
       " 'aaaa',\n",
       " 'bbbb',\n",
       " 'aaaa',\n",
       " 'bbbb',\n",
       " 'aaaa',\n",
       " 'bbbb',\n",
       " 'aaaa',\n",
       " 'bbbb',\n",
       " 'aaaa',\n",
       " 'bbbb',\n",
       " 'aaaa',\n",
       " 'bbbb',\n",
       " 'aaaa',\n",
       " 'bbbb',\n",
       " 'aaaa',\n",
       " 'bbbb',\n",
       " 'aaaa',\n",
       " 'bbbb',\n",
       " 'aaaa',\n",
       " 'bbbb',\n",
       " 'aaaa',\n",
       " 'bbbb',\n",
       " 'aaaa',\n",
       " 'bbbb',\n",
       " 'aaaa',\n",
       " 'bbbb',\n",
       " 'aaaa',\n",
       " 'bbbb',\n",
       " 'aaaa',\n",
       " 'bbbb',\n",
       " 'aaaa',\n",
       " 'bbbb',\n",
       " 'aaaa',\n",
       " 'bbbb',\n",
       " 'aaaa',\n",
       " 'bbbb',\n",
       " 'aaaa',\n",
       " 'bbbb',\n",
       " 'aaaa',\n",
       " 'bbbb',\n",
       " 'aaaa',\n",
       " 'bbbb',\n",
       " 'aaaa',\n",
       " 'bbbb',\n",
       " 'aaaa',\n",
       " 'bbbb',\n",
       " 'aaaa',\n",
       " 'bbbb',\n",
       " 'aaaa',\n",
       " 'bbbb',\n",
       " 'aaaa',\n",
       " 'bbbb',\n",
       " 'aaaa',\n",
       " 'bbbb',\n",
       " 'aaaa',\n",
       " 'bbbb',\n",
       " 'aaaa',\n",
       " 'bbbb',\n",
       " 'aaaa',\n",
       " 'bbbb',\n",
       " 'aaaa',\n",
       " 'bbbb',\n",
       " 'aaaa',\n",
       " 'bbbb',\n",
       " 'aaaa',\n",
       " 'bbbb',\n",
       " 'aaaa',\n",
       " 'bbbb',\n",
       " 'aaaa',\n",
       " 'bbbb',\n",
       " 'aaaa',\n",
       " 'bbbb',\n",
       " 'aaaa',\n",
       " 'bbbb',\n",
       " 'aaaa',\n",
       " 'bbbb',\n",
       " 'aaaa',\n",
       " 'bbbb',\n",
       " 'aaaa',\n",
       " 'bbbb',\n",
       " 'aaaa',\n",
       " 'bbbb',\n",
       " 'aaaa',\n",
       " 'bbbb',\n",
       " 'aaaa',\n",
       " 'bbbb',\n",
       " 'aaaa',\n",
       " 'bbbb',\n",
       " 'aaaa',\n",
       " 'bbbb',\n",
       " 'aaaa',\n",
       " 'bbbb',\n",
       " 'aaaa',\n",
       " 'bbbb',\n",
       " 'aaaa',\n",
       " 'bbbb',\n",
       " 'aaaa',\n",
       " 'bbbb',\n",
       " 'aaaa',\n",
       " 'bbbb',\n",
       " 'aaaa',\n",
       " 'bbbb',\n",
       " 'aaaa',\n",
       " 'bbbb',\n",
       " 'aaaa',\n",
       " 'bbbb',\n",
       " 'aaaa',\n",
       " 'bbbb',\n",
       " 'aaaa',\n",
       " 'bbbb',\n",
       " 'aaaa',\n",
       " 'bbbb',\n",
       " 'aaaa',\n",
       " 'bbbb',\n",
       " 'aaaa',\n",
       " 'bbbb',\n",
       " 'aaaa',\n",
       " 'bbbb',\n",
       " 'aaaa',\n",
       " 'bbbb',\n",
       " 'aaaa',\n",
       " 'bbbb',\n",
       " 'aaaa',\n",
       " 'bbbb',\n",
       " 'aaaa',\n",
       " 'bbbb',\n",
       " 'aaaa',\n",
       " 'bbbb',\n",
       " 'aaaa',\n",
       " 'bbbb',\n",
       " 'aaaa',\n",
       " 'bbbb',\n",
       " 'aaaa',\n",
       " 'bbbb',\n",
       " 'aaaa',\n",
       " 'bbbb',\n",
       " 'aaaa',\n",
       " 'bbbb',\n",
       " 'aaaa',\n",
       " 'bbbb',\n",
       " 'aaaa',\n",
       " 'bbbb',\n",
       " 'aaaa',\n",
       " 'bbbb',\n",
       " 'aaaa',\n",
       " 'bbbb',\n",
       " 'aaaa',\n",
       " 'bbbb',\n",
       " 'aaaa',\n",
       " 'bbbb',\n",
       " 'aaaa',\n",
       " 'bbbb',\n",
       " 'aaaa',\n",
       " 'bbbb',\n",
       " 'aaaa',\n",
       " 'bbbb',\n",
       " 'aaaa',\n",
       " 'bbbb',\n",
       " 'aaaa',\n",
       " 'bbbb',\n",
       " 'aaaa',\n",
       " 'bbbb',\n",
       " 'aaaa',\n",
       " 'bbbb',\n",
       " 'aaaa',\n",
       " 'bbbb',\n",
       " 'aaaa',\n",
       " 'bbbb',\n",
       " 'aaaa',\n",
       " 'bbbb',\n",
       " 'aaaa',\n",
       " 'bbbb',\n",
       " 'aaaa',\n",
       " 'bbbb',\n",
       " 'aaaa',\n",
       " 'bbbb',\n",
       " 'aaaa',\n",
       " 'bbbb',\n",
       " 'aaaa',\n",
       " 'bbbb',\n",
       " 'aaaa',\n",
       " 'bbbb',\n",
       " 'aaaa',\n",
       " 'bbbb',\n",
       " 'aaaa',\n",
       " 'bbbb',\n",
       " 'aaaa',\n",
       " 'bbbb',\n",
       " 'aaaa',\n",
       " 'bbbb',\n",
       " 'aaaa',\n",
       " 'bbbb',\n",
       " 'aaaa',\n",
       " 'bbbb',\n",
       " 'aaaa',\n",
       " 'bbbb',\n",
       " 'aaaa',\n",
       " 'bbbb',\n",
       " 'aaaa',\n",
       " 'bbbb',\n",
       " 'aaaa',\n",
       " 'bbbb',\n",
       " 'aaaa',\n",
       " 'bbbb',\n",
       " 'aaaa',\n",
       " 'bbbb',\n",
       " 'aaaa',\n",
       " 'bbbb',\n",
       " 'aaaa',\n",
       " 'bbbb',\n",
       " 'aaaa',\n",
       " 'bbbb',\n",
       " 'aaaa',\n",
       " 'bbbb',\n",
       " 'aaaa',\n",
       " 'bbbb',\n",
       " 'aaaa',\n",
       " 'bbbb',\n",
       " 'aaaa',\n",
       " 'bbbb',\n",
       " 'aaaa',\n",
       " 'bbbb',\n",
       " 'aaaa',\n",
       " 'bbbb',\n",
       " 'aaaa',\n",
       " 'bbbb',\n",
       " 'aaaa',\n",
       " 'bbbb',\n",
       " 'aaaa',\n",
       " 'bbbb',\n",
       " 'aaaa',\n",
       " 'bbbb',\n",
       " 'aaaa',\n",
       " 'bbbb',\n",
       " 'aaaa',\n",
       " 'bbbb',\n",
       " 'aaaa',\n",
       " 'bbbb',\n",
       " 'aaaa',\n",
       " 'bbbb',\n",
       " 'aaaa',\n",
       " 'bbbb',\n",
       " 'aaaa',\n",
       " 'bbbb',\n",
       " 'aaaa',\n",
       " 'bbbb',\n",
       " 'aaaa',\n",
       " 'bbbb',\n",
       " 'aaaa',\n",
       " 'bbbb',\n",
       " 'aaaa',\n",
       " 'bbbb',\n",
       " 'aaaa',\n",
       " 'bbbb',\n",
       " 'aaaa',\n",
       " 'bbbb',\n",
       " 'aaaa',\n",
       " 'bbbb',\n",
       " 'aaaa',\n",
       " 'bbbb',\n",
       " 'aaaa',\n",
       " 'bbbb',\n",
       " 'aaaa',\n",
       " 'bbbb',\n",
       " 'aaaa',\n",
       " 'bbbb',\n",
       " 'aaaa',\n",
       " 'bbbb',\n",
       " 'aaaa',\n",
       " 'bbbb',\n",
       " 'aaaa',\n",
       " 'bbbb',\n",
       " 'aaaa',\n",
       " 'bbbb',\n",
       " 'aaaa',\n",
       " 'bbbb',\n",
       " 'aaaa',\n",
       " 'bbbb',\n",
       " 'aaaa',\n",
       " 'bbbb',\n",
       " 'aaaa',\n",
       " 'bbbb',\n",
       " 'aaaa',\n",
       " 'bbbb',\n",
       " 'aaaa',\n",
       " 'bbbb',\n",
       " 'aaaa',\n",
       " 'bbbb',\n",
       " 'aaaa',\n",
       " 'bbbb',\n",
       " 'aaaa',\n",
       " 'bbbb',\n",
       " 'aaaa',\n",
       " 'bbbb',\n",
       " 'aaaa',\n",
       " 'bbbb',\n",
       " 'aaaa',\n",
       " 'bbbb',\n",
       " 'aaaa',\n",
       " 'bbbb',\n",
       " 'aaaa',\n",
       " 'bbbb',\n",
       " 'aaaa',\n",
       " 'bbbb',\n",
       " 'aaaa',\n",
       " 'bbbb',\n",
       " 'aaaa',\n",
       " 'bbbb',\n",
       " 'aaaa',\n",
       " 'bbbb',\n",
       " 'aaaa',\n",
       " 'bbbb',\n",
       " 'aaaa',\n",
       " 'bbbb',\n",
       " 'aaaa',\n",
       " 'bbbb',\n",
       " 'aaaa',\n",
       " 'bbbb',\n",
       " 'aaaa',\n",
       " 'bbbb',\n",
       " 'aaaa',\n",
       " 'bbbb',\n",
       " 'aaaa',\n",
       " 'bbbb',\n",
       " 'aaaa',\n",
       " 'bbbb',\n",
       " 'aaaa',\n",
       " 'bbbb',\n",
       " 'aaaa',\n",
       " 'bbbb',\n",
       " 'aaaa',\n",
       " 'bbbb',\n",
       " 'aaaa',\n",
       " 'bbbb',\n",
       " 'aaaa',\n",
       " 'bbbb',\n",
       " 'aaaa',\n",
       " 'bbbb',\n",
       " 'aaaa',\n",
       " 'bbbb',\n",
       " 'aaaa',\n",
       " 'bbbb',\n",
       " 'aaaa',\n",
       " 'bbbb',\n",
       " 'aaaa',\n",
       " 'bbbb',\n",
       " 'aaaa',\n",
       " 'bbbb',\n",
       " 'aaaa',\n",
       " 'bbbb',\n",
       " 'aaaa',\n",
       " 'bbbb',\n",
       " 'aaaa',\n",
       " 'bbbb',\n",
       " 'aaaa',\n",
       " 'bbbb',\n",
       " 'aaaa',\n",
       " 'bbbb',\n",
       " 'aaaa',\n",
       " 'bbbb',\n",
       " 'aaaa',\n",
       " 'bbbb',\n",
       " 'aaaa',\n",
       " 'bbbb',\n",
       " 'aaaa',\n",
       " 'bbbb',\n",
       " 'aaaa',\n",
       " 'bbbb',\n",
       " 'aaaa',\n",
       " 'bbbb',\n",
       " 'aaaa',\n",
       " 'bbbb',\n",
       " 'aaaa',\n",
       " 'bbbb',\n",
       " 'aaaa',\n",
       " 'bbbb',\n",
       " 'aaaa',\n",
       " 'bbbb',\n",
       " 'aaaa',\n",
       " 'bbbb',\n",
       " 'aaaa',\n",
       " 'bbbb',\n",
       " 'aaaa',\n",
       " 'bbbb',\n",
       " 'aaaa',\n",
       " 'bbbb',\n",
       " 'aaaa',\n",
       " 'bbbb',\n",
       " 'aaaa',\n",
       " 'bbbb',\n",
       " 'aaaa',\n",
       " 'bbbb',\n",
       " 'aaaa',\n",
       " 'bbbb',\n",
       " 'aaaa',\n",
       " 'bbbb',\n",
       " 'aaaa',\n",
       " 'bbbb',\n",
       " 'aaaa',\n",
       " 'bbbb',\n",
       " 'aaaa',\n",
       " 'bbbb',\n",
       " 'aaaa',\n",
       " 'bbbb',\n",
       " 'aaaa',\n",
       " 'bbbb',\n",
       " 'aaaa',\n",
       " 'bbbb',\n",
       " 'aaaa',\n",
       " 'bbbb',\n",
       " 'aaaa',\n",
       " 'bbbb',\n",
       " 'aaaa',\n",
       " 'bbbb',\n",
       " 'aaaa',\n",
       " 'bbbb',\n",
       " 'aaaa',\n",
       " 'bbbb',\n",
       " 'aaaa',\n",
       " 'bbbb',\n",
       " 'aaaa',\n",
       " 'bbbb',\n",
       " 'aaaa',\n",
       " 'bbbb',\n",
       " 'aaaa',\n",
       " 'bbbb',\n",
       " 'aaaa',\n",
       " 'bbbb',\n",
       " 'aaaa',\n",
       " 'bbbb',\n",
       " 'aaaa',\n",
       " 'bbbb',\n",
       " 'aaaa',\n",
       " 'bbbb',\n",
       " 'aaaa',\n",
       " 'bbbb',\n",
       " 'aaaa',\n",
       " 'bbbb',\n",
       " 'aaaa',\n",
       " 'bbbb',\n",
       " 'aaaa',\n",
       " 'bbbb',\n",
       " 'aaaa',\n",
       " 'bbbb',\n",
       " 'aaaa',\n",
       " 'bbbb',\n",
       " 'aaaa',\n",
       " 'bbbb',\n",
       " 'aaaa',\n",
       " 'bbbb',\n",
       " 'aaaa',\n",
       " 'bbbb',\n",
       " 'aaaa',\n",
       " 'bbbb',\n",
       " 'aaaa',\n",
       " 'bbbb',\n",
       " 'aaaa',\n",
       " 'bbbb',\n",
       " 'aaaa',\n",
       " 'bbbb',\n",
       " 'aaaa',\n",
       " 'bbbb',\n",
       " 'aaaa',\n",
       " 'bbbb',\n",
       " 'aaaa',\n",
       " 'bbbb',\n",
       " 'aaaa',\n",
       " 'bbbb',\n",
       " 'aaaa',\n",
       " 'bbbb',\n",
       " 'aaaa',\n",
       " 'bbbb',\n",
       " 'aaaa',\n",
       " 'bbbb',\n",
       " 'aaaa',\n",
       " 'bbbb',\n",
       " 'aaaa',\n",
       " 'bbbb',\n",
       " 'aaaa',\n",
       " 'bbbb',\n",
       " 'aaaa',\n",
       " 'bbbb',\n",
       " 'aaaa',\n",
       " 'bbbb',\n",
       " 'aaaa',\n",
       " 'bbbb',\n",
       " 'aaaa',\n",
       " 'bbbb',\n",
       " 'aaaa',\n",
       " 'bbbb',\n",
       " 'aaaa',\n",
       " 'bbbb',\n",
       " 'aaaa',\n",
       " 'bbbb',\n",
       " 'aaaa',\n",
       " 'bbbb',\n",
       " 'aaaa',\n",
       " 'bbbb',\n",
       " 'aaaa',\n",
       " 'bbbb',\n",
       " 'aaaa',\n",
       " 'bbbb',\n",
       " 'aaaa',\n",
       " 'bbbb',\n",
       " 'aaaa',\n",
       " 'bbbb',\n",
       " 'aaaa',\n",
       " 'bbbb',\n",
       " 'aaaa',\n",
       " 'bbbb',\n",
       " 'aaaa',\n",
       " 'bbbb',\n",
       " 'aaaa',\n",
       " 'bbbb',\n",
       " 'aaaa',\n",
       " 'bbbb',\n",
       " 'aaaa',\n",
       " 'bbbb',\n",
       " 'aaaa',\n",
       " 'bbbb',\n",
       " 'aaaa',\n",
       " 'bbbb',\n",
       " 'aaaa',\n",
       " 'bbbb',\n",
       " 'aaaa',\n",
       " 'bbbb',\n",
       " 'aaaa',\n",
       " 'bbbb',\n",
       " 'aaaa',\n",
       " 'bbbb',\n",
       " 'aaaa',\n",
       " 'bbbb',\n",
       " 'aaaa',\n",
       " 'bbbb',\n",
       " 'aaaa',\n",
       " 'bbbb',\n",
       " 'aaaa',\n",
       " 'bbbb',\n",
       " 'aaaa',\n",
       " 'bbbb',\n",
       " 'aaaa',\n",
       " 'bbbb',\n",
       " 'aaaa',\n",
       " 'bbbb',\n",
       " 'aaaa',\n",
       " 'bbbb',\n",
       " 'aaaa',\n",
       " 'bbbb',\n",
       " 'aaaa',\n",
       " 'bbbb',\n",
       " 'aaaa',\n",
       " 'bbbb',\n",
       " 'aaaa',\n",
       " 'bbbb',\n",
       " 'aaaa',\n",
       " 'bbbb',\n",
       " 'aaaa',\n",
       " 'bbbb',\n",
       " 'aaaa',\n",
       " 'bbbb',\n",
       " 'aaaa',\n",
       " 'bbbb',\n",
       " 'aaaa',\n",
       " 'bbbb',\n",
       " 'aaaa',\n",
       " 'bbbb',\n",
       " 'aaaa',\n",
       " 'bbbb',\n",
       " 'aaaa',\n",
       " 'bbbb',\n",
       " 'aaaa',\n",
       " 'bbbb',\n",
       " 'aaaa',\n",
       " 'bbbb',\n",
       " 'aaaa',\n",
       " 'bbbb',\n",
       " 'aaaa',\n",
       " 'bbbb',\n",
       " 'aaaa',\n",
       " 'bbbb',\n",
       " 'aaaa',\n",
       " 'bbbb',\n",
       " 'aaaa',\n",
       " 'bbbb',\n",
       " 'aaaa',\n",
       " 'bbbb',\n",
       " 'aaaa',\n",
       " 'bbbb',\n",
       " 'aaaa',\n",
       " 'bbbb',\n",
       " 'aaaa',\n",
       " 'bbbb',\n",
       " 'aaaa',\n",
       " 'bbbb',\n",
       " 'aaaa',\n",
       " 'bbbb',\n",
       " 'aaaa',\n",
       " 'bbbb',\n",
       " 'aaaa',\n",
       " 'bbbb',\n",
       " 'aaaa',\n",
       " 'bbbb',\n",
       " 'aaaa',\n",
       " ...]"
      ]
     },
     "execution_count": 11,
     "metadata": {},
     "output_type": "execute_result"
    }
   ],
   "source": [
    "# 리스트 메모리 사용량 의도적으로 증가시키기\n",
    "l = [2]\n",
    "for i in range(10000000):\n",
    "    l.append('aaaa')\n",
    "    l.append('bbbb')\n",
    "l"
   ]
  },
  {
   "cell_type": "code",
   "execution_count": 12,
   "id": "e6de2454",
   "metadata": {
    "ExecuteTime": {
     "end_time": "2024-11-12T08:26:48.152244Z",
     "start_time": "2024-11-12T08:26:48.057354Z"
    }
   },
   "outputs": [
    {
     "name": "stdout",
     "output_type": "stream",
     "text": [
      "dict                       20874\n",
      "function                   18943\n",
      "Token                      16779\n",
      "list                       13499\n",
      "tuple                      12557\n",
      "ReferenceType              5498\n",
      "builtin_function_or_method 3272\n",
      "cell                       2574\n",
      "type                       2573\n",
      "Name                       2505\n"
     ]
    }
   ],
   "source": [
    "# 메모리 재확인\n",
    "objgraph.show_most_common_types()"
   ]
  }
 ],
 "metadata": {
  "kernelspec": {
   "display_name": "Python 3 (ipykernel)",
   "language": "python",
   "name": "python3"
  },
  "language_info": {
   "codemirror_mode": {
    "name": "ipython",
    "version": 3
   },
   "file_extension": ".py",
   "mimetype": "text/x-python",
   "name": "python",
   "nbconvert_exporter": "python",
   "pygments_lexer": "ipython3",
   "version": "3.10.9"
  },
  "toc": {
   "base_numbering": 1,
   "nav_menu": {},
   "number_sections": true,
   "sideBar": true,
   "skip_h1_title": false,
   "title_cell": "Table of Contents",
   "title_sidebar": "Contents",
   "toc_cell": false,
   "toc_position": {
    "height": "calc(100% - 180px)",
    "left": "10px",
    "top": "150px",
    "width": "203px"
   },
   "toc_section_display": true,
   "toc_window_display": true
  }
 },
 "nbformat": 4,
 "nbformat_minor": 5
}
