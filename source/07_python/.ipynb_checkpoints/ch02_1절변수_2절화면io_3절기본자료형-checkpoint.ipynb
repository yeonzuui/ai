{
 "cells": [
  {
   "cell_type": "code",
   "execution_count": 8,
   "id": "9ecaca76",
   "metadata": {
    "ExecuteTime": {
     "end_time": "2024-11-04T07:30:12.216770Z",
     "start_time": "2024-11-04T07:30:12.209761Z"
    }
   },
   "outputs": [
    {
     "data": {
      "text/html": [
       "\n",
       "<style>\n",
       "div.container{width:80% !important;}\n",
       "div.CodeMirror {font-family:Consolas; font-size:16pt;}\n",
       "div.output {font-size:16pt; font-weight:bold;}\n",
       "div.input {font-family:Consolas; font-size:16pt;}\n",
       "div.prompt {min-width:70px;}\n",
       "div#toc-header{margin-top:150px;}\n",
       "</style>\n",
       "<style>\n",
       "span.toc-item-num{\n",
       "display:none;\n",
       "}\n",
       "</style>\n"
      ],
      "text/plain": [
       "<IPython.core.display.HTML object>"
      ]
     },
     "metadata": {},
     "output_type": "display_data"
    }
   ],
   "source": [
    "from IPython.display import display, HTML\n",
    "display(HTML(\"\"\"\n",
    "<style>\n",
    "div.container{width:80% !important;}\n",
    "div.CodeMirror {font-family:Consolas; font-size:16pt;}\n",
    "div.output {font-size:16pt; font-weight:bold;}\n",
    "div.input {font-family:Consolas; font-size:16pt;}\n",
    "div.prompt {min-width:70px;}\n",
    "div#toc-header{margin-top:150px;}\n",
    "</style>\n",
    "<style>\n",
    "span.toc-item-num{\n",
    "display:none;\n",
    "}\n",
    "</style>\n",
    "\"\"\"))"
   ]
  },
  {
   "cell_type": "markdown",
   "id": "394e2a63",
   "metadata": {
    "ExecuteTime": {
     "end_time": "2024-11-04T07:27:51.992505Z",
     "start_time": "2024-11-04T07:27:51.985323Z"
    }
   },
   "source": [
    "<b><font size=\"6\" color=\"red\">ch02.자료형과 연산자</font></b>"
   ]
  },
  {
   "cell_type": "markdown",
   "id": "efd5db13",
   "metadata": {},
   "source": [
    "# 1절. 변수"
   ]
  },
  {
   "cell_type": "markdown",
   "id": "937e1f8e",
   "metadata": {},
   "source": [
    "## 1.1 변수 선언\n",
    "- 파이썬은 변수 선언을 위한 타입이 없고, 별도의 선언 과정도 없음"
   ]
  },
  {
   "cell_type": "markdown",
   "id": "c2621a7e",
   "metadata": {},
   "source": [
    "## 1.2 변수 할당\n",
    "- 할당연산자를 이용해서 변수값을 할당하면 타입이 셋팅\n",
    "- 파이썬에서의 모든 변수는 객체"
   ]
  },
  {
   "cell_type": "code",
   "execution_count": 14,
   "id": "31f8d5f0",
   "metadata": {
    "ExecuteTime": {
     "end_time": "2024-11-04T07:35:32.916934Z",
     "start_time": "2024-11-04T07:35:32.912951Z"
    }
   },
   "outputs": [
    {
     "name": "stdout",
     "output_type": "stream",
     "text": [
      "계산된 넓이는 78.5\n"
     ]
    }
   ],
   "source": [
    "# 변수 선언\n",
    "r = 5\n",
    "area = 3.14 * r * r\n",
    "print('계산된 넓이는', area) # 스페이스 포함"
   ]
  },
  {
   "cell_type": "code",
   "execution_count": 15,
   "id": "31b778f0",
   "metadata": {
    "ExecuteTime": {
     "end_time": "2024-11-04T07:35:58.109552Z",
     "start_time": "2024-11-04T07:35:57.970239Z"
    }
   },
   "outputs": [],
   "source": [
    "# numpy라는 패키지(폴더)를 np라는 이름으로 사용\n",
    "import numpy as np "
   ]
  },
  {
   "cell_type": "code",
   "execution_count": 19,
   "id": "11874785",
   "metadata": {
    "ExecuteTime": {
     "end_time": "2024-11-04T07:39:17.101524Z",
     "start_time": "2024-11-04T07:39:17.096516Z"
    }
   },
   "outputs": [
    {
     "name": "stdout",
     "output_type": "stream",
     "text": [
      "78.53981633974483\n"
     ]
    }
   ],
   "source": [
    "area = np.pi * r * r\n",
    "print(area)"
   ]
  },
  {
   "cell_type": "code",
   "execution_count": 22,
   "id": "fbdba810",
   "metadata": {
    "ExecuteTime": {
     "end_time": "2024-11-04T07:43:01.670933Z",
     "start_time": "2024-11-04T07:43:01.664940Z"
    }
   },
   "outputs": [
    {
     "name": "stdout",
     "output_type": "stream",
     "text": [
      "area의 주소: 2159059621648\n",
      "area의 타입: <class 'float'>\n"
     ]
    }
   ],
   "source": [
    "# id(area): area변수(객체)의 주소값\n",
    "print('area의 주소:', id(area))\n",
    "print('area의 타입:', type(area))"
   ]
  },
  {
   "cell_type": "code",
   "execution_count": 23,
   "id": "aad4ca49",
   "metadata": {
    "ExecuteTime": {
     "end_time": "2024-11-04T07:43:17.839691Z",
     "start_time": "2024-11-04T07:43:17.833699Z"
    }
   },
   "outputs": [
    {
     "data": {
      "text/plain": [
       "False"
      ]
     },
     "execution_count": 23,
     "metadata": {},
     "output_type": "execute_result"
    }
   ],
   "source": [
    "area.is_integer()"
   ]
  },
  {
   "cell_type": "code",
   "execution_count": 24,
   "id": "7ffe88ba",
   "metadata": {
    "ExecuteTime": {
     "end_time": "2024-11-04T07:44:45.965359Z",
     "start_time": "2024-11-04T07:44:45.947884Z"
    }
   },
   "outputs": [],
   "source": [
    "area = 10 # 기존 객체 삭제됨"
   ]
  },
  {
   "cell_type": "code",
   "execution_count": 25,
   "id": "7b72c89d",
   "metadata": {
    "ExecuteTime": {
     "end_time": "2024-11-04T07:44:48.885313Z",
     "start_time": "2024-11-04T07:44:48.881215Z"
    }
   },
   "outputs": [
    {
     "name": "stdout",
     "output_type": "stream",
     "text": [
      "area의 주소: 2158935081488\n",
      "area의 타입: <class 'int'>\n"
     ]
    }
   ],
   "source": [
    "print('area의 주소:', id(area))\n",
    "print('area의 타입:', type(area))"
   ]
  },
  {
   "cell_type": "code",
   "execution_count": 28,
   "id": "94ca0ae8",
   "metadata": {
    "ExecuteTime": {
     "end_time": "2024-11-04T07:45:37.549533Z",
     "start_time": "2024-11-04T07:45:37.544545Z"
    }
   },
   "outputs": [
    {
     "name": "stdout",
     "output_type": "stream",
     "text": [
      "area의 주소: 2159056673584\n",
      "area의 타입: <class 'str'>\n"
     ]
    }
   ],
   "source": [
    "area = '파이썬'\n",
    "print('area의 주소:', id(area))\n",
    "print('area의 타입:', type(area))"
   ]
  },
  {
   "cell_type": "markdown",
   "id": "a435b914",
   "metadata": {},
   "source": [
    "## 1.3 변수 이름 규칙\n",
    "- 문자로 시작\n",
    "- 문자(특수문자는 _제외하고는 불가), 숫자, _로 변수명 작성\n",
    "- 함수명은 변수명으로 가능하나 피한다. 써야한다면 int_식으로 _를 붙여서 사용\n",
    "- 파이썬 예약어(if, while, ...)는 변수명으로 사용 불가\n",
    "- 한글 변수는 꼭 필요시만 사용"
   ]
  },
  {
   "cell_type": "code",
   "execution_count": 29,
   "id": "64768940",
   "metadata": {
    "ExecuteTime": {
     "end_time": "2024-11-04T07:49:46.784719Z",
     "start_time": "2024-11-04T07:49:46.769087Z"
    }
   },
   "outputs": [
    {
     "data": {
      "text/plain": [
       "'홍길동'"
      ]
     },
     "execution_count": 29,
     "metadata": {},
     "output_type": "execute_result"
    }
   ],
   "source": [
    "이름 = \"홍길동\"\n",
    "이름"
   ]
  },
  {
   "cell_type": "code",
   "execution_count": 32,
   "id": "90a70828",
   "metadata": {
    "ExecuteTime": {
     "end_time": "2024-11-04T07:50:31.077930Z",
     "start_time": "2024-11-04T07:50:31.072923Z"
    }
   },
   "outputs": [
    {
     "name": "stdout",
     "output_type": "stream",
     "text": [
      "홍길동\n"
     ]
    }
   ],
   "source": [
    "print(이름)"
   ]
  },
  {
   "cell_type": "code",
   "execution_count": 34,
   "id": "ccc78968",
   "metadata": {
    "ExecuteTime": {
     "end_time": "2024-11-04T07:51:47.255873Z",
     "start_time": "2024-11-04T07:51:47.248892Z"
    },
    "collapsed": true
   },
   "outputs": [
    {
     "ename": "SyntaxError",
     "evalue": "invalid syntax (2630263448.py, line 1)",
     "output_type": "error",
     "traceback": [
      "\u001b[1;36m  Cell \u001b[1;32mIn[34], line 1\u001b[1;36m\u001b[0m\n\u001b[1;33m    if = 5\u001b[0m\n\u001b[1;37m       ^\u001b[0m\n\u001b[1;31mSyntaxError\u001b[0m\u001b[1;31m:\u001b[0m invalid syntax\n"
     ]
    }
   ],
   "source": [
    "if = 5"
   ]
  },
  {
   "cell_type": "code",
   "execution_count": 33,
   "id": "ce7c9fcc",
   "metadata": {
    "ExecuteTime": {
     "end_time": "2024-11-04T07:51:35.340815Z",
     "start_time": "2024-11-04T07:51:35.313965Z"
    }
   },
   "outputs": [
    {
     "ename": "NameError",
     "evalue": "name 'member' is not defined",
     "output_type": "error",
     "traceback": [
      "\u001b[1;31m---------------------------------------------------------------------------\u001b[0m",
      "\u001b[1;31mNameError\u001b[0m                                 Traceback (most recent call last)",
      "Cell \u001b[1;32mIn[33], line 1\u001b[0m\n\u001b[1;32m----> 1\u001b[0m \u001b[43mmember\u001b[49m\u001b[38;5;241m.\u001b[39mname \u001b[38;5;241m=\u001b[39m \u001b[38;5;241m5\u001b[39m\n",
      "\u001b[1;31mNameError\u001b[0m: name 'member' is not defined"
     ]
    }
   ],
   "source": [
    "member.name = 5 #변수에 .은 사용불가(R에서는 .을 변수명에 사용 가능)"
   ]
  },
  {
   "cell_type": "code",
   "execution_count": null,
   "id": "ca8ad971",
   "metadata": {},
   "outputs": [],
   "source": [
    "member_name = 5 # 스멜표기법\n",
    "memberName = 5  # 카멜표기법"
   ]
  },
  {
   "cell_type": "code",
   "execution_count": 35,
   "id": "2552502d",
   "metadata": {
    "ExecuteTime": {
     "end_time": "2024-11-04T07:52:29.621873Z",
     "start_time": "2024-11-04T07:52:29.617892Z"
    }
   },
   "outputs": [],
   "source": [
    "print = 5"
   ]
  },
  {
   "cell_type": "code",
   "execution_count": 36,
   "id": "c10f58f3",
   "metadata": {
    "ExecuteTime": {
     "end_time": "2024-11-04T07:52:42.127336Z",
     "start_time": "2024-11-04T07:52:42.107472Z"
    }
   },
   "outputs": [
    {
     "ename": "TypeError",
     "evalue": "'int' object is not callable",
     "output_type": "error",
     "traceback": [
      "\u001b[1;31m---------------------------------------------------------------------------\u001b[0m",
      "\u001b[1;31mTypeError\u001b[0m                                 Traceback (most recent call last)",
      "Cell \u001b[1;32mIn[36], line 1\u001b[0m\n\u001b[1;32m----> 1\u001b[0m \u001b[38;5;28;43mprint\u001b[39;49m\u001b[43m(\u001b[49m\u001b[43m이름\u001b[49m\u001b[43m)\u001b[49m\n",
      "\u001b[1;31mTypeError\u001b[0m: 'int' object is not callable"
     ]
    }
   ],
   "source": [
    "print(이름)"
   ]
  },
  {
   "cell_type": "code",
   "execution_count": 37,
   "id": "305e7204",
   "metadata": {
    "ExecuteTime": {
     "end_time": "2024-11-04T07:53:15.721070Z",
     "start_time": "2024-11-04T07:53:15.715108Z"
    }
   },
   "outputs": [
    {
     "name": "stdout",
     "output_type": "stream",
     "text": [
      "홍길동\n"
     ]
    }
   ],
   "source": [
    "del print # print 변수 삭제\n",
    "print_ = 5\n",
    "print(이름)"
   ]
  },
  {
   "cell_type": "code",
   "execution_count": 38,
   "id": "12752b2c",
   "metadata": {
    "ExecuteTime": {
     "end_time": "2024-11-04T07:56:59.913920Z",
     "start_time": "2024-11-04T07:56:59.907911Z"
    }
   },
   "outputs": [
    {
     "data": {
      "text/plain": [
       "complex"
      ]
     },
     "execution_count": 38,
     "metadata": {},
     "output_type": "execute_result"
    }
   ],
   "source": [
    "# 숫자, 정수, 실수, 복소수\n",
    "i = 3 + 3j # 복소수\n",
    "type(i)"
   ]
  },
  {
   "cell_type": "code",
   "execution_count": 41,
   "id": "001dba96",
   "metadata": {
    "ExecuteTime": {
     "end_time": "2024-11-04T07:57:43.583440Z",
     "start_time": "2024-11-04T07:57:43.577969Z"
    }
   },
   "outputs": [
    {
     "data": {
      "text/plain": [
       "True"
      ]
     },
     "execution_count": 41,
     "metadata": {},
     "output_type": "execute_result"
    }
   ],
   "source": [
    "isinstance(i, complex) # i 변수(객체)가 complex타입인지 여부"
   ]
  },
  {
   "cell_type": "markdown",
   "id": "c90b210a",
   "metadata": {},
   "source": [
    "## 1.4 도움말"
   ]
  },
  {
   "cell_type": "code",
   "execution_count": 42,
   "id": "5bb3f925",
   "metadata": {
    "ExecuteTime": {
     "end_time": "2024-11-04T07:59:01.695320Z",
     "start_time": "2024-11-04T07:59:01.690333Z"
    },
    "collapsed": true
   },
   "outputs": [
    {
     "name": "stdout",
     "output_type": "stream",
     "text": [
      "Help on built-in function print in module builtins:\n",
      "\n",
      "print(...)\n",
      "    print(value, ..., sep=' ', end='\\n', file=sys.stdout, flush=False)\n",
      "    \n",
      "    Prints the values to a stream, or to sys.stdout by default.\n",
      "    Optional keyword arguments:\n",
      "    file:  a file-like object (stream); defaults to the current sys.stdout.\n",
      "    sep:   string inserted between values, default a space.\n",
      "    end:   string appended after the last value, default a newline.\n",
      "    flush: whether to forcibly flush the stream.\n",
      "\n"
     ]
    }
   ],
   "source": [
    "help(print)"
   ]
  },
  {
   "cell_type": "code",
   "execution_count": 44,
   "id": "a8415607",
   "metadata": {
    "ExecuteTime": {
     "end_time": "2024-11-04T08:00:05.803060Z",
     "start_time": "2024-11-04T07:59:41.065460Z"
    },
    "collapsed": true
   },
   "outputs": [
    {
     "name": "stdout",
     "output_type": "stream",
     "text": [
      "\n",
      "Welcome to Python 3.10's help utility!\n",
      "\n",
      "If this is your first time using Python, you should definitely check out\n",
      "the tutorial on the internet at https://docs.python.org/3.10/tutorial/.\n",
      "\n",
      "Enter the name of any module, keyword, or topic to get help on writing\n",
      "Python programs and using Python modules.  To quit this help utility and\n",
      "return to the interpreter, just type \"quit\".\n",
      "\n",
      "To get a list of available modules, keywords, symbols, or topics, type\n",
      "\"modules\", \"keywords\", \"symbols\", or \"topics\".  Each module also comes\n",
      "with a one-line summary of what it does; to list the modules whose name\n",
      "or summary contain a given string such as \"spam\", type \"modules spam\".\n",
      "\n",
      "help> isinstane\n",
      "No Python documentation found for 'isinstane'.\n",
      "Use help() to get the interactive help utility.\n",
      "Use help(str) for help on the str class.\n",
      "\n",
      "help> help\n",
      "\n",
      "Welcome to Python 3.10's help utility!\n",
      "\n",
      "If this is your first time using Python, you should definitely check out\n",
      "the tutorial on the internet at https://docs.python.org/3.10/tutorial/.\n",
      "\n",
      "Enter the name of any module, keyword, or topic to get help on writing\n",
      "Python programs and using Python modules.  To quit this help utility and\n",
      "return to the interpreter, just type \"quit\".\n",
      "\n",
      "To get a list of available modules, keywords, symbols, or topics, type\n",
      "\"modules\", \"keywords\", \"symbols\", or \"topics\".  Each module also comes\n",
      "with a one-line summary of what it does; to list the modules whose name\n",
      "or summary contain a given string such as \"spam\", type \"modules spam\".\n",
      "help> print\n",
      "Help on built-in function print in module builtins:\n",
      "\n",
      "print(...)\n",
      "    print(value, ..., sep=' ', end='\\n', file=sys.stdout, flush=False)\n",
      "    \n",
      "    Prints the values to a stream, or to sys.stdout by default.\n",
      "    Optional keyword arguments:\n",
      "    file:  a file-like object (stream); defaults to the current sys.stdout.\n",
      "    sep:   string inserted between values, default a space.\n",
      "    end:   string appended after the last value, default a newline.\n",
      "    flush: whether to forcibly flush the stream.\n",
      "\n",
      "help> q\n",
      "\n",
      "You are now leaving help and returning to the Python interpreter.\n",
      "If you want to ask for help on a particular object directly from the\n",
      "interpreter, you can type \"help(object)\".  Executing \"help('string')\"\n",
      "has the same effect as typing a particular string at the help> prompt.\n"
     ]
    }
   ],
   "source": [
    "help()"
   ]
  },
  {
   "cell_type": "code",
   "execution_count": null,
   "id": "7d4df6d7",
   "metadata": {},
   "outputs": [],
   "source": [
    "# 도움말 기능: shift + tab 키\n",
    "print()"
   ]
  },
  {
   "cell_type": "code",
   "execution_count": 51,
   "id": "da9ad4bc",
   "metadata": {
    "ExecuteTime": {
     "end_time": "2024-11-04T08:16:17.223159Z",
     "start_time": "2024-11-04T08:16:17.218549Z"
    }
   },
   "outputs": [],
   "source": [
    "def add(x, y=0): \n",
    "    '''\n",
    "    매개변수 2개를 받아 두 자리 숫자로 만들어요\n",
    "    x = 10의 자리수가 됨\n",
    "    y = 1의 자리수가 됨(default값 0)\n",
    "    사용법: add(2, 3) → 23\n",
    "    '''\n",
    "    return x * 10 + y"
   ]
  },
  {
   "cell_type": "code",
   "execution_count": 47,
   "id": "60830a1b",
   "metadata": {
    "ExecuteTime": {
     "end_time": "2024-11-04T08:14:58.249447Z",
     "start_time": "2024-11-04T08:14:58.242813Z"
    }
   },
   "outputs": [
    {
     "data": {
      "text/plain": [
       "54"
      ]
     },
     "execution_count": 47,
     "metadata": {},
     "output_type": "execute_result"
    }
   ],
   "source": [
    "add(5, 4)"
   ]
  },
  {
   "cell_type": "code",
   "execution_count": 52,
   "id": "9d949ae1",
   "metadata": {
    "ExecuteTime": {
     "end_time": "2024-11-04T08:16:20.959788Z",
     "start_time": "2024-11-04T08:16:20.953802Z"
    }
   },
   "outputs": [
    {
     "data": {
      "text/plain": [
       "50"
      ]
     },
     "execution_count": 52,
     "metadata": {},
     "output_type": "execute_result"
    }
   ],
   "source": [
    "add(5)"
   ]
  },
  {
   "cell_type": "code",
   "execution_count": 54,
   "id": "7d70b198",
   "metadata": {
    "ExecuteTime": {
     "end_time": "2024-11-04T08:17:01.862623Z",
     "start_time": "2024-11-04T08:17:01.857647Z"
    }
   },
   "outputs": [],
   "source": [
    "a = add # 함수형 언어는 변수에 함수 할당 가능, a랑 add는 같은 함수"
   ]
  },
  {
   "cell_type": "code",
   "execution_count": 56,
   "id": "11ae305e",
   "metadata": {
    "ExecuteTime": {
     "end_time": "2024-11-04T08:17:11.822829Z",
     "start_time": "2024-11-04T08:17:11.807194Z"
    }
   },
   "outputs": [
    {
     "data": {
      "text/plain": [
       "54"
      ]
     },
     "execution_count": 56,
     "metadata": {},
     "output_type": "execute_result"
    }
   ],
   "source": [
    "a(5, 4)"
   ]
  },
  {
   "cell_type": "code",
   "execution_count": 57,
   "id": "72af8d8a",
   "metadata": {
    "ExecuteTime": {
     "end_time": "2024-11-04T08:17:17.640746Z",
     "start_time": "2024-11-04T08:17:17.634711Z"
    }
   },
   "outputs": [
    {
     "data": {
      "text/plain": [
       "50"
      ]
     },
     "execution_count": 57,
     "metadata": {},
     "output_type": "execute_result"
    }
   ],
   "source": [
    "a(5)"
   ]
  },
  {
   "cell_type": "markdown",
   "id": "0da03a69",
   "metadata": {
    "ExecuteTime": {
     "end_time": "2024-11-04T08:17:55.294187Z",
     "start_time": "2024-11-04T08:17:55.291274Z"
    }
   },
   "source": [
    "## 1.5 다중 변수 선언"
   ]
  },
  {
   "cell_type": "code",
   "execution_count": 59,
   "id": "f4bcc106",
   "metadata": {
    "ExecuteTime": {
     "end_time": "2024-11-04T08:18:12.653372Z",
     "start_time": "2024-11-04T08:18:12.650372Z"
    }
   },
   "outputs": [],
   "source": [
    "a = 10\n",
    "b = 20"
   ]
  },
  {
   "cell_type": "code",
   "execution_count": 60,
   "id": "b1a58143",
   "metadata": {
    "ExecuteTime": {
     "end_time": "2024-11-04T08:18:22.214662Z",
     "start_time": "2024-11-04T08:18:22.210004Z"
    }
   },
   "outputs": [],
   "source": [
    "a, b = (10, 20) # 동시에 다중 변수 선언"
   ]
  },
  {
   "cell_type": "code",
   "execution_count": 61,
   "id": "08fabeaf",
   "metadata": {
    "ExecuteTime": {
     "end_time": "2024-11-04T08:19:01.569140Z",
     "start_time": "2024-11-04T08:19:01.561858Z"
    }
   },
   "outputs": [
    {
     "data": {
      "text/plain": [
       "(10, 20)"
      ]
     },
     "execution_count": 61,
     "metadata": {},
     "output_type": "execute_result"
    }
   ],
   "source": [
    "a, b"
   ]
  },
  {
   "cell_type": "code",
   "execution_count": 62,
   "id": "2bfa3e62",
   "metadata": {
    "ExecuteTime": {
     "end_time": "2024-11-04T08:19:25.014408Z",
     "start_time": "2024-11-04T08:19:25.010413Z"
    }
   },
   "outputs": [],
   "source": [
    "a, b = b, a+b # 다중 변수 할당 시 순차적 할당이 아니고 일괄 동시 할당"
   ]
  },
  {
   "cell_type": "code",
   "execution_count": 63,
   "id": "83678997",
   "metadata": {
    "ExecuteTime": {
     "end_time": "2024-11-04T08:19:37.464147Z",
     "start_time": "2024-11-04T08:19:37.458156Z"
    }
   },
   "outputs": [
    {
     "data": {
      "text/plain": [
       "(20, 30)"
      ]
     },
     "execution_count": 63,
     "metadata": {},
     "output_type": "execute_result"
    }
   ],
   "source": [
    "a, b"
   ]
  },
  {
   "cell_type": "markdown",
   "id": "6ec670d9",
   "metadata": {},
   "source": [
    "# 2절. 화면 i/o"
   ]
  },
  {
   "cell_type": "code",
   "execution_count": 64,
   "id": "ff02c2e2",
   "metadata": {
    "ExecuteTime": {
     "end_time": "2024-11-04T08:22:12.043161Z",
     "start_time": "2024-11-04T08:21:58.909059Z"
    }
   },
   "outputs": [
    {
     "name": "stdout",
     "output_type": "stream",
     "text": [
      "10\n"
     ]
    },
    {
     "data": {
      "text/plain": [
       "'10'"
      ]
     },
     "execution_count": 64,
     "metadata": {},
     "output_type": "execute_result"
    }
   ],
   "source": [
    "# input(): 사용자로부터 값을 입력받기 위한 함수. 입력값은 문자열\n",
    "first = input()\n",
    "first"
   ]
  },
  {
   "cell_type": "code",
   "execution_count": 1,
   "id": "c7546990",
   "metadata": {
    "ExecuteTime": {
     "end_time": "2024-11-04T08:25:02.595473Z",
     "start_time": "2024-11-04T08:24:59.290916Z"
    }
   },
   "outputs": [
    {
     "name": "stdout",
     "output_type": "stream",
     "text": [
      "첫 번째 숫자는?10\n",
      "두 번째 숫자는?55\n"
     ]
    }
   ],
   "source": [
    "first  = input('첫 번째 숫자는?')\n",
    "second = input('두 번째 숫자는?')"
   ]
  },
  {
   "cell_type": "code",
   "execution_count": 3,
   "id": "87cdd0f6",
   "metadata": {
    "ExecuteTime": {
     "end_time": "2024-11-04T08:25:16.394374Z",
     "start_time": "2024-11-04T08:25:16.387372Z"
    }
   },
   "outputs": [
    {
     "name": "stdout",
     "output_type": "stream",
     "text": [
      "두 수의 합은 554\n"
     ]
    }
   ],
   "source": [
    "print('두 수의 합은', first + second)"
   ]
  },
  {
   "cell_type": "code",
   "execution_count": 4,
   "id": "398ce443",
   "metadata": {
    "ExecuteTime": {
     "end_time": "2024-11-04T08:25:32.004019Z",
     "start_time": "2024-11-04T08:25:31.995057Z"
    }
   },
   "outputs": [
    {
     "data": {
      "text/plain": [
       "'55'"
      ]
     },
     "execution_count": 4,
     "metadata": {},
     "output_type": "execute_result"
    }
   ],
   "source": [
    "first"
   ]
  },
  {
   "cell_type": "code",
   "execution_count": 6,
   "id": "a9415960",
   "metadata": {
    "ExecuteTime": {
     "end_time": "2024-11-04T08:26:32.975407Z",
     "start_time": "2024-11-04T08:26:32.970441Z"
    }
   },
   "outputs": [],
   "source": [
    "sum = int(first) + int(second)"
   ]
  },
  {
   "cell_type": "code",
   "execution_count": 7,
   "id": "a0bed9f7",
   "metadata": {
    "ExecuteTime": {
     "end_time": "2024-11-04T08:26:52.455226Z",
     "start_time": "2024-11-04T08:26:52.450238Z"
    }
   },
   "outputs": [
    {
     "name": "stdout",
     "output_type": "stream",
     "text": [
      "합 59\n"
     ]
    }
   ],
   "source": [
    "print('합', sum)"
   ]
  },
  {
   "cell_type": "code",
   "execution_count": 13,
   "id": "bea6c26e",
   "metadata": {
    "ExecuteTime": {
     "end_time": "2024-11-04T08:31:19.967989Z",
     "start_time": "2024-11-04T08:31:19.962989Z"
    }
   },
   "outputs": [
    {
     "name": "stdout",
     "output_type": "stream",
     "text": [
      "합 / 59 / Hello / World\t\tHello ~ Python\n"
     ]
    }
   ],
   "source": [
    "print('합', sum, 'Hello', 'World', sep=' / ', end='\\t\\t')\n",
    "print('Hello', 'Python', sep=' ~ ')"
   ]
  },
  {
   "cell_type": "code",
   "execution_count": 16,
   "id": "5de0a2a3",
   "metadata": {
    "ExecuteTime": {
     "end_time": "2024-11-04T08:34:38.464131Z",
     "start_time": "2024-11-04T08:34:38.459135Z"
    }
   },
   "outputs": [
    {
     "name": "stdout",
     "output_type": "stream",
     "text": [
      "hello world hello python\n"
     ]
    }
   ],
   "source": [
    "import sys\n",
    "print('hello', 'world', 'hello', 'python', file=sys.stdout)"
   ]
  },
  {
   "cell_type": "markdown",
   "id": "433ac0b1",
   "metadata": {},
   "source": [
    "# 3절. 기본 자료형\n",
    "- 프로그래밍 언어들은 변수가 가져야 할 값의 형식, 범위에 따라 값의 유형을 정해놓고 사용.\n",
    "- 자료형에 따라 값의 크기와 저장방식이 달라짐\n",
    "- 자료형에 따라 수행할 수 있는 명령어들이 달라짐\n",
    "\n",
    "    * `숫자` - int, float, complex\n",
    "    * `문자` - str\n",
    "    * `논리` - bool"
   ]
  },
  {
   "cell_type": "markdown",
   "id": "d0accc94",
   "metadata": {},
   "source": [
    "## 3.1 숫자형"
   ]
  },
  {
   "cell_type": "code",
   "execution_count": 19,
   "id": "52312fac",
   "metadata": {
    "ExecuteTime": {
     "end_time": "2024-11-04T08:44:15.968217Z",
     "start_time": "2024-11-04T08:44:15.963230Z"
    }
   },
   "outputs": [
    {
     "name": "stdout",
     "output_type": "stream",
     "text": [
      "9223372036854775807\n"
     ]
    }
   ],
   "source": [
    "import sys\n",
    "print(sys.maxsize) # 정수의 최댓값: 2^63-1"
   ]
  },
  {
   "cell_type": "code",
   "execution_count": 24,
   "id": "c20dc7cb",
   "metadata": {
    "ExecuteTime": {
     "end_time": "2024-11-04T08:45:43.591952Z",
     "start_time": "2024-11-04T08:45:43.587952Z"
    }
   },
   "outputs": [
    {
     "name": "stdout",
     "output_type": "stream",
     "text": [
      "i값: 9223372036854775907\n",
      "<class 'int'>\n"
     ]
    }
   ],
   "source": [
    "i = sys.maxsize + 100\n",
    "print('i값:', i)\n",
    "print(type(i))"
   ]
  },
  {
   "cell_type": "code",
   "execution_count": 26,
   "id": "098b1a3d",
   "metadata": {
    "ExecuteTime": {
     "end_time": "2024-11-04T08:46:21.511722Z",
     "start_time": "2024-11-04T08:46:21.506755Z"
    }
   },
   "outputs": [
    {
     "name": "stdout",
     "output_type": "stream",
     "text": [
      "1.5\n"
     ]
    }
   ],
   "source": [
    "f = 3/2 # 정수/정수는 실수\n",
    "print(f)"
   ]
  },
  {
   "cell_type": "code",
   "execution_count": 27,
   "id": "bf3b99f4",
   "metadata": {
    "ExecuteTime": {
     "end_time": "2024-11-04T08:46:36.111666Z",
     "start_time": "2024-11-04T08:46:36.107676Z"
    }
   },
   "outputs": [
    {
     "name": "stdout",
     "output_type": "stream",
     "text": [
      "1.0\n"
     ]
    }
   ],
   "source": [
    "f = 3/3\n",
    "print(f)"
   ]
  },
  {
   "cell_type": "code",
   "execution_count": 29,
   "id": "8093b747",
   "metadata": {
    "ExecuteTime": {
     "end_time": "2024-11-04T08:48:39.112565Z",
     "start_time": "2024-11-04T08:48:39.107943Z"
    }
   },
   "outputs": [
    {
     "name": "stdout",
     "output_type": "stream",
     "text": [
      "1\n",
      "1\n"
     ]
    }
   ],
   "source": [
    "# 자바처럼 정수/정수의 결과를 정수로\n",
    "f = int(3/2) # int(): int로 형변환\n",
    "print(f)\n",
    "f = 3//2 # 몫연산자\n",
    "print(f)"
   ]
  },
  {
   "cell_type": "code",
   "execution_count": 32,
   "id": "00b06363",
   "metadata": {
    "ExecuteTime": {
     "end_time": "2024-11-04T08:49:57.598668Z",
     "start_time": "2024-11-04T08:49:57.594687Z"
    }
   },
   "outputs": [
    {
     "name": "stdout",
     "output_type": "stream",
     "text": [
      "(-1+0j)\n"
     ]
    }
   ],
   "source": [
    "c = 1j # 수학시간 1i\n",
    "print(c**2) # c의 제곱"
   ]
  },
  {
   "cell_type": "code",
   "execution_count": 36,
   "id": "9df9e6b3",
   "metadata": {
    "ExecuteTime": {
     "end_time": "2024-11-04T08:52:45.416050Z",
     "start_time": "2024-11-04T08:52:45.411559Z"
    }
   },
   "outputs": [
    {
     "name": "stdout",
     "output_type": "stream",
     "text": [
      "지수형은 실수형으로 저장: 1120000000000.0\n",
      "지수형 표현으로 할 당시 실수형으로 저장: 1.12e-12\n"
     ]
    }
   ],
   "source": [
    "f = 1.12e12 # 1.12*10의 12승 (1120000000000)\n",
    "print('지수형은 실수형으로 저장:', f)\n",
    "f = 1.12e-12 # 1.12*10의 -12승\n",
    "print('지수형 표현으로 할 당시 실수형으로 저장:', f)"
   ]
  },
  {
   "cell_type": "markdown",
   "id": "d70dd689",
   "metadata": {},
   "source": [
    "## 3.2 문자형"
   ]
  },
  {
   "cell_type": "code",
   "execution_count": 43,
   "id": "fa24f490",
   "metadata": {
    "ExecuteTime": {
     "end_time": "2024-11-04T08:55:17.434283Z",
     "start_time": "2024-11-04T08:55:17.429295Z"
    }
   },
   "outputs": [
    {
     "name": "stdout",
     "output_type": "stream",
     "text": [
      "홍길동 '짱'\n",
      "서울시 관악구 '신림'동\n"
     ]
    }
   ],
   "source": [
    "name    = '홍길동 \\'짱\\'' # 홍길동 '짱'\n",
    "address = \"서울시 관악구 '신림'동\"\n",
    "print(name)\n",
    "print(address)"
   ]
  },
  {
   "cell_type": "code",
   "execution_count": 44,
   "id": "5899cd48",
   "metadata": {
    "ExecuteTime": {
     "end_time": "2024-11-04T08:56:01.767907Z",
     "start_time": "2024-11-04T08:56:01.762941Z"
    }
   },
   "outputs": [],
   "source": [
    "text = '여러 줄 짜리 내용을 저장\\n 줄바꿈 문자를 쓰면 당연히 여러줄 \\n 줄바꿈은 가독성 떨어져'"
   ]
  },
  {
   "cell_type": "code",
   "execution_count": null,
   "id": "b7914030",
   "metadata": {},
   "outputs": [],
   "source": []
  },
  {
   "cell_type": "code",
   "execution_count": null,
   "id": "7e08e128",
   "metadata": {},
   "outputs": [],
   "source": []
  },
  {
   "cell_type": "code",
   "execution_count": null,
   "id": "b8b80060",
   "metadata": {},
   "outputs": [],
   "source": []
  },
  {
   "cell_type": "code",
   "execution_count": null,
   "id": "0d9a2e50",
   "metadata": {},
   "outputs": [],
   "source": []
  },
  {
   "cell_type": "code",
   "execution_count": null,
   "id": "d62f8285",
   "metadata": {},
   "outputs": [],
   "source": []
  },
  {
   "cell_type": "code",
   "execution_count": null,
   "id": "090f02ef",
   "metadata": {},
   "outputs": [],
   "source": []
  }
 ],
 "metadata": {
  "kernelspec": {
   "display_name": "Python 3 (ipykernel)",
   "language": "python",
   "name": "python3"
  },
  "language_info": {
   "codemirror_mode": {
    "name": "ipython",
    "version": 3
   },
   "file_extension": ".py",
   "mimetype": "text/x-python",
   "name": "python",
   "nbconvert_exporter": "python",
   "pygments_lexer": "ipython3",
   "version": "3.10.9"
  },
  "toc": {
   "base_numbering": 1,
   "nav_menu": {},
   "number_sections": true,
   "sideBar": true,
   "skip_h1_title": false,
   "title_cell": "Table of Contents",
   "title_sidebar": "Contents",
   "toc_cell": false,
   "toc_position": {
    "height": "calc(100% - 180px)",
    "left": "10px",
    "top": "150px",
    "width": "308px"
   },
   "toc_section_display": true,
   "toc_window_display": true
  }
 },
 "nbformat": 4,
 "nbformat_minor": 5
}
