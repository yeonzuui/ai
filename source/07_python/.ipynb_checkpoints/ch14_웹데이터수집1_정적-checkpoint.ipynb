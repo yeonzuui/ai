{
 "cells": [
  {
   "cell_type": "markdown",
   "id": "4bcee2dd",
   "metadata": {
    "ExecuteTime": {
     "end_time": "2024-12-06T02:56:27.771371Z",
     "start_time": "2024-12-06T02:56:27.763362Z"
    }
   },
   "source": [
    "<b><font color=\"red\" size=\"6\">ch14. 웹데이터수집</font></b>\n",
    "# 1절. BeautifulSoup과 parser\n",
    "\n",
    "` pip install bs4` 아나콘다를 설치하면 자동 설치되는 패키지 7500개에 포함\n",
    "\n",
    "⚫ 공식 사이트\n",
    "▪ https://www.crummy.com/software/BeautifulSoup/  <br>\n",
    "⚫ Documentation\n",
    "▪ https://www.crummy.com/software/BeautifulSoup/bs4/doc/\n"
   ]
  },
  {
   "cell_type": "code",
   "execution_count": 1,
   "id": "a19ef85d",
   "metadata": {
    "ExecuteTime": {
     "end_time": "2024-12-11T02:35:21.681109Z",
     "start_time": "2024-12-11T02:35:21.530673Z"
    }
   },
   "outputs": [],
   "source": [
    "import requests\n",
    "from requests_file import FileAdapter"
   ]
  },
  {
   "cell_type": "code",
   "execution_count": 29,
   "id": "93e74b04",
   "metadata": {
    "ExecuteTime": {
     "end_time": "2024-12-10T01:01:41.906247Z",
     "start_time": "2024-12-10T01:01:41.887032Z"
    }
   },
   "outputs": [
    {
     "data": {
      "text/plain": [
       "<Response [200]>"
      ]
     },
     "execution_count": 29,
     "metadata": {},
     "output_type": "execute_result"
    }
   ],
   "source": [
    "s = requests.Session() # HTTP 요청관리를 위한 세션 객체\n",
    "s.mount(\"file://\", FileAdapter())\n",
    "response = s.get('file:///ai/source/07_python/ch14_sample.html')\n",
    "response"
   ]
  },
  {
   "cell_type": "code",
   "execution_count": 30,
   "id": "117a7c45",
   "metadata": {
    "ExecuteTime": {
     "end_time": "2024-12-10T01:01:42.510691Z",
     "start_time": "2024-12-10T01:01:42.505677Z"
    }
   },
   "outputs": [
    {
     "data": {
      "text/plain": [
       "b'<!DOCTYPE html>\\r\\n<html lang=\"en\">\\r\\n<head>\\r\\n    <meta charset=\"UTF-8\">\\r\\n</head>\\r\\n<body>\\r\\n    <h1 class=\"greeting css\" id=\"text\">Hello, CSS</h1>\\r\\n    <h1 class=\"css\">Hi, CSS</h1>\\r\\n    <div id=\"subject\">subject \\xec\\x84\\xa0\\xed\\x83\\x9d\\xec\\x9e\\x90 \\xec\\x95\\x88\\xec\\x9d\\x98 \\xeb\\x82\\xb4\\xec\\x9a\\xa9</div>\\r\\n    <p>CSS \\xec\\x84\\xa0\\xed\\x83\\x9d\\xec\\x9e\\x90\\xeb\\x8a\\x94 \\xeb\\x8b\\xa4\\xec\\x96\\x91\\xed\\x95\\x9c \\xea\\xb3\\xb3\\xec\\x97\\x90\\xec\\x84\\x9c \\xed\\x99\\x9c\\xec\\x9a\\xa9\\xeb\\x90\\xa9\\xeb\\x8b\\x88\\xeb\\x8b\\xa4</p>\\r\\n    <div class=\"contents\">\\r\\n        \\xec\\x84\\xa0\\xed\\x83\\x9d\\xec\\x9e\\x90\\xeb\\xa5\\xbc \\xec\\x96\\xb4\\xeb\\x96\\xbb\\xea\\xb2\\x8c \\xec\\x9e\\x91\\xec\\x84\\xb1\\xed\\x95\\x98\\xeb\\x8a\\x90\\xeb\\x83\\x90\\xec\\x97\\x90 \\xeb\\x94\\xb0\\xeb\\x9d\\xbc\\r\\n        <span>\\xeb\\x8b\\xa4\\xeb\\xa5\\xb8 <b>\\xec\\x9a\\x94\\xec\\x86\\x8c\\xea\\xb0\\x80 \\xeb\\xb0\\x98\\xed\\x99\\x98</b></span>\\xeb\\x90\\xa9\\xeb\\x8b\\x88\\xeb\\x8b\\xa4\\r\\n    </div>\\r\\n    <div>CSS\\xec\\x84\\xa0\\xed\\x83\\x9d\\xec\\x9e\\x90\\xeb\\x8a\\x94 \\xeb\\x8b\\xa4\\xec\\x96\\x91\\xed\\x95\\x9c \\xea\\xb3\\xb3\\xec\\x97\\x90 <b>\\xed\\x99\\x9c\\xec\\x9a\\xa9</b>\\xeb\\x90\\xa9\\xeb\\x8b\\x88\\xeb\\x8b\\xa4</div>\\r\\n</body>\\r\\n</html>'"
      ]
     },
     "execution_count": 30,
     "metadata": {},
     "output_type": "execute_result"
    }
   ],
   "source": [
    "ex = response.content\n",
    "ex"
   ]
  },
  {
   "cell_type": "code",
   "execution_count": 31,
   "id": "497dbb07",
   "metadata": {
    "ExecuteTime": {
     "end_time": "2024-12-10T01:01:42.759408Z",
     "start_time": "2024-12-10T01:01:42.753412Z"
    }
   },
   "outputs": [
    {
     "data": {
      "text/plain": [
       "'<!DOCTYPE html>\\r\\n<html lang=\"en\">\\r\\n<head>\\r\\n    <meta charset=\"UTF-8\">\\r\\n</head>\\r\\n<body>\\r\\n    <h1 class=\"greeting css\" id=\"text\">Hello, CSS</h1>\\r\\n    <h1 class=\"css\">Hi, CSS</h1>\\r\\n    <div id=\"subject\">subject 선택자 안의 내용</div>\\r\\n    <p>CSS 선택자는 다양한 곳에서 활용됩니다</p>\\r\\n    <div class=\"contents\">\\r\\n        선택자를 어떻게 작성하느냐에 따라\\r\\n        <span>다른 <b>요소가 반환</b></span>됩니다\\r\\n    </div>\\r\\n    <div>CSS선택자는 다양한 곳에 <b>활용</b>됩니다</div>\\r\\n</body>\\r\\n</html>'"
      ]
     },
     "execution_count": 31,
     "metadata": {},
     "output_type": "execute_result"
    }
   ],
   "source": [
    "response.content.decode('utf-8')"
   ]
  },
  {
   "cell_type": "code",
   "execution_count": 32,
   "id": "61af53f1",
   "metadata": {
    "ExecuteTime": {
     "end_time": "2024-12-10T01:01:42.960407Z",
     "start_time": "2024-12-10T01:01:42.954409Z"
    }
   },
   "outputs": [
    {
     "data": {
      "text/plain": [
       "'<!DOCTYPE html>\\r\\n<html lang=\"en\">\\r\\n<head>\\r\\n    <meta charset=\"UTF-8\">\\r\\n</head>\\r\\n<body>\\r\\n    <h1 class=\"greeting css\" id=\"text\">Hello, CSS</h1>\\r\\n    <h1 class=\"css\">Hi, CSS</h1>\\r\\n    <div id=\"subject\">subject 선택자 안의 내용</div>\\r\\n    <p>CSS 선택자는 다양한 곳에서 활용됩니다</p>\\r\\n    <div class=\"contents\">\\r\\n        선택자를 어떻게 작성하느냐에 따라\\r\\n        <span>다른 <b>요소가 반환</b></span>됩니다\\r\\n    </div>\\r\\n    <div>CSS선택자는 다양한 곳에 <b>활용</b>됩니다</div>\\r\\n</body>\\r\\n</html>'"
      ]
     },
     "execution_count": 32,
     "metadata": {},
     "output_type": "execute_result"
    }
   ],
   "source": [
    "response.text"
   ]
  },
  {
   "cell_type": "code",
   "execution_count": 33,
   "id": "2dfefada",
   "metadata": {
    "ExecuteTime": {
     "end_time": "2024-12-10T01:01:43.183757Z",
     "start_time": "2024-12-10T01:01:43.151212Z"
    }
   },
   "outputs": [],
   "source": [
    "# html 파싱\n",
    "from bs4 import BeautifulSoup\n",
    "soup = BeautifulSoup(response.content, # response.text\n",
    "                     \"html.parser\"\n",
    "                    )\n",
    "# soup"
   ]
  },
  {
   "cell_type": "code",
   "execution_count": 34,
   "id": "e9f485a4",
   "metadata": {
    "ExecuteTime": {
     "end_time": "2024-12-10T01:01:43.383748Z",
     "start_time": "2024-12-10T01:01:43.371001Z"
    }
   },
   "outputs": [
    {
     "name": "stdout",
     "output_type": "stream",
     "text": [
      "el            : <h1 class=\"greeting css\" id=\"text\">Hello, CSS</h1>\n",
      "el.text       : Hello, CSS\n",
      "el.string     : Hello, CSS\n",
      "el의 속성들    : {'class': ['greeting', 'css'], 'id': 'text'}\n",
      "el의 class 속성: ['greeting', 'css']\n",
      "el의 name      : h1\n"
     ]
    }
   ],
   "source": [
    "# soup.select_one('선택자'): 해당 선택자 처음 하나만\n",
    "el = soup.select_one('h1') # 처음 나오는 h1태그 하나만\n",
    "print('el            :', el)\n",
    "print('el.text       :', el.text)\n",
    "print('el.string     :', el.string)\n",
    "print('el의 속성들    :', el.attrs)\n",
    "print('el의 class 속성:', el.attrs['class']) # class 속성은 하나라도 list로 생성\n",
    "print('el의 name      :', el.name)"
   ]
  },
  {
   "cell_type": "code",
   "execution_count": 35,
   "id": "1090841f",
   "metadata": {
    "ExecuteTime": {
     "end_time": "2024-12-10T01:01:43.549989Z",
     "start_time": "2024-12-10T01:01:43.517707Z"
    }
   },
   "outputs": [
    {
     "name": "stdout",
     "output_type": "stream",
     "text": [
      "el             : [<h1 class=\"greeting css\" id=\"text\">Hello, CSS</h1>, <h1 class=\"css\">Hi, CSS</h1>]\n",
      "el들의 text    : ['Hello, CSS', 'Hi, CSS']\n",
      "el들의 string  : ['Hello, CSS', 'Hi, CSS']\n",
      "el들의 속성들   : [{'class': ['greeting', 'css'], 'id': 'text'}, {'class': ['css']}]\n",
      "el들의 class속성: [['greeting', 'css'], ['css']]\n"
     ]
    }
   ],
   "source": [
    "# soup.select('선택자'): 해당 선택자 모든 element를 리스트로\n",
    "el = soup.select('h1')\n",
    "print('el             :', el)\n",
    "print('el들의 text    :', [e.text for e in el])\n",
    "print('el들의 string  :', [e.string for e in el])\n",
    "print('el들의 속성들   :', [e.attrs for e in el])\n",
    "print('el들의 class속성:', [e.attrs['class'] for e in el])"
   ]
  },
  {
   "cell_type": "code",
   "execution_count": 36,
   "id": "b78961c4",
   "metadata": {
    "ExecuteTime": {
     "end_time": "2024-12-10T01:01:43.721616Z",
     "start_time": "2024-12-10T01:01:43.708333Z"
    }
   },
   "outputs": [
    {
     "name": "stdout",
     "output_type": "stream",
     "text": [
      "모든 h1, span 태그(select):\n",
      "[<h1 class=\"greeting css\" id=\"text\">Hello, CSS</h1>, <h1 class=\"css\">Hi, CSS</h1>, <span>다른 <b>요소가 반환</b></span>]\n",
      "모든 h1, span 태그(find_all):\n",
      "[<h1 class=\"greeting css\" id=\"text\">Hello, CSS</h1>, <h1 class=\"css\">Hi, CSS</h1>]\n",
      "select_one:\n",
      "<h1 class=\"greeting css\" id=\"text\">Hello, CSS</h1>\n",
      "find:\n",
      "<h1 class=\"greeting css\" id=\"text\">Hello, CSS</h1>\n",
      "find:\n",
      "[]\n",
      "find:\n",
      "None\n"
     ]
    }
   ],
   "source": [
    "# select(선택자)와 find_all(태그)\n",
    "print('모든 h1, span 태그(select):', soup.select('h1.css, span'), sep='\\n')\n",
    "print('모든 h1, span 태그(find_all):', soup.find_all(['h1', 'span'],\n",
    "                                                    class_ = ['css']), sep='\\n')\n",
    "\n",
    "# select_one(선택자)와 find(태그, 속성)\n",
    "print('select_one:', soup.select_one('h1.css, span'), sep='\\n')\n",
    "print('find:', soup.find('h1', class_='css'), sep='\\n')\n",
    "\n",
    "# 존재하지 않는 태그\n",
    "print('find:', soup.find_all('a', class_='css'), sep='\\n') \n",
    "print('find:', soup.find('a', class_='css'), sep='\\n')"
   ]
  },
  {
   "cell_type": "markdown",
   "id": "0145aefe",
   "metadata": {},
   "source": [
    "# 2절. 정적 웹 데이터 수집(정적 웹크롤링)\n",
    "## 2.1 JSON 파일 - request 모듈(get) / urllib.request 모듈(urlopen)"
   ]
  },
  {
   "cell_type": "code",
   "execution_count": 37,
   "id": "be3342ce",
   "metadata": {
    "ExecuteTime": {
     "end_time": "2024-12-10T01:01:44.101471Z",
     "start_time": "2024-12-10T01:01:44.097887Z"
    }
   },
   "outputs": [],
   "source": [
    "# 크롤링 허용범위는 사이트마다 ~/robots.txt에서 확인할 수 있습니다\n",
    "    # User-agent: 모든 크롤링을 허용(*), 지침을 적용할 크롤러를 지정\n",
    "    # Allow: 크롤링을 제한할 경로 (/, 제한없음)"
   ]
  },
  {
   "cell_type": "code",
   "execution_count": 38,
   "id": "b1f8b2ad",
   "metadata": {
    "ExecuteTime": {
     "end_time": "2024-12-10T01:01:44.350524Z",
     "start_time": "2024-12-10T01:01:44.287501Z"
    }
   },
   "outputs": [
    {
     "data": {
      "text/plain": [
       "(<Response [200]>, 200)"
      ]
     },
     "execution_count": 38,
     "metadata": {},
     "output_type": "execute_result"
    }
   ],
   "source": [
    "# sol 1\n",
    "import requests\n",
    "response = requests.get('http://api.github.com')\n",
    "response, response.status_code"
   ]
  },
  {
   "cell_type": "code",
   "execution_count": 39,
   "id": "a262e5b7",
   "metadata": {
    "ExecuteTime": {
     "end_time": "2024-12-10T01:01:44.483267Z",
     "start_time": "2024-12-10T01:01:44.467624Z"
    }
   },
   "outputs": [
    {
     "data": {
      "text/plain": [
       "b'{\\n  \"current_user_url\": \"https://api.github.com/user\",\\n  \"current_user_authorizations_html_url\": \"https://github.com/settings/connections/applications{/client_id}\",\\n  \"authorizations_url\": \"https://api.github.com/authorizations\",\\n  \"code_search_url\": \"https://api.github.com/search/code?q={query}{&page,per_page,sort,order}\",\\n  \"commit_search_url\": \"https://api.github.com/search/commits?q={query}{&page,per_page,sort,order}\",\\n  \"emails_url\": \"https://api.github.com/user/emails\",\\n  \"emojis_url\": \"https://api.github.com/emojis\",\\n  \"events_url\": \"https://api.github.com/events\",\\n  \"feeds_url\": \"https://api.github.com/feeds\",\\n  \"followers_url\": \"https://api.github.com/user/followers\",\\n  \"following_url\": \"https://api.github.com/user/following{/target}\",\\n  \"gists_url\": \"https://api.github.com/gists{/gist_id}\",\\n  \"hub_url\": \"https://api.github.com/hub\",\\n  \"issue_search_url\": \"https://api.github.com/search/issues?q={query}{&page,per_page,sort,order}\",\\n  \"issues_url\": \"https://api.github.com/issues\",\\n  \"keys_url\": \"https://api.github.com/user/keys\",\\n  \"label_search_url\": \"https://api.github.com/search/labels?q={query}&repository_id={repository_id}{&page,per_page}\",\\n  \"notifications_url\": \"https://api.github.com/notifications\",\\n  \"organization_url\": \"https://api.github.com/orgs/{org}\",\\n  \"organization_repositories_url\": \"https://api.github.com/orgs/{org}/repos{?type,page,per_page,sort}\",\\n  \"organization_teams_url\": \"https://api.github.com/orgs/{org}/teams\",\\n  \"public_gists_url\": \"https://api.github.com/gists/public\",\\n  \"rate_limit_url\": \"https://api.github.com/rate_limit\",\\n  \"repository_url\": \"https://api.github.com/repos/{owner}/{repo}\",\\n  \"repository_search_url\": \"https://api.github.com/search/repositories?q={query}{&page,per_page,sort,order}\",\\n  \"current_user_repositories_url\": \"https://api.github.com/user/repos{?type,page,per_page,sort}\",\\n  \"starred_url\": \"https://api.github.com/user/starred{/owner}{/repo}\",\\n  \"starred_gists_url\": \"https://api.github.com/gists/starred\",\\n  \"topic_search_url\": \"https://api.github.com/search/topics?q={query}{&page,per_page}\",\\n  \"user_url\": \"https://api.github.com/users/{user}\",\\n  \"user_organizations_url\": \"https://api.github.com/user/orgs\",\\n  \"user_repositories_url\": \"https://api.github.com/users/{user}/repos{?type,page,per_page,sort}\",\\n  \"user_search_url\": \"https://api.github.com/search/users?q={query}{&page,per_page,sort,order}\"\\n}\\n'"
      ]
     },
     "execution_count": 39,
     "metadata": {},
     "output_type": "execute_result"
    }
   ],
   "source": [
    "response.content # response.text"
   ]
  },
  {
   "cell_type": "code",
   "execution_count": 40,
   "id": "a03a1cb3",
   "metadata": {
    "ExecuteTime": {
     "end_time": "2024-12-10T01:01:44.683567Z",
     "start_time": "2024-12-10T01:01:44.651101Z"
    }
   },
   "outputs": [
    {
     "data": {
      "text/plain": [
       "dict"
      ]
     },
     "execution_count": 40,
     "metadata": {},
     "output_type": "execute_result"
    }
   ],
   "source": [
    "jsondata = response.json()\n",
    "type(jsondata)"
   ]
  },
  {
   "cell_type": "code",
   "execution_count": 41,
   "id": "3ec05e25",
   "metadata": {
    "ExecuteTime": {
     "end_time": "2024-12-10T01:01:45.117388Z",
     "start_time": "2024-12-10T01:01:44.820924Z"
    }
   },
   "outputs": [
    {
     "data": {
      "text/plain": [
       "200"
      ]
     },
     "execution_count": 41,
     "metadata": {},
     "output_type": "execute_result"
    }
   ],
   "source": [
    "# sol 2\n",
    "from urllib.request import urlopen\n",
    "response = urlopen('http://api.github.com')\n",
    "response.status"
   ]
  },
  {
   "cell_type": "markdown",
   "id": "8348de2f",
   "metadata": {
    "ExecuteTime": {
     "end_time": "2024-12-06T05:30:46.440116Z",
     "start_time": "2024-12-06T05:30:46.434118Z"
    }
   },
   "source": [
    "## 2.2 BeautifulSoup 모듈을 활용 html 웹 데이터 수집\n",
    "### 1) 환율정보 가져오기(네이버증권 > 시장지표)\n",
    "https://finance.naver.com/marketindex/"
   ]
  },
  {
   "cell_type": "code",
   "execution_count": 2,
   "id": "f206433d",
   "metadata": {
    "ExecuteTime": {
     "end_time": "2024-12-11T02:36:27.156026Z",
     "start_time": "2024-12-11T02:36:26.882218Z"
    }
   },
   "outputs": [],
   "source": [
    "# sol 1\n",
    "import requests\n",
    "from bs4 import BeautifulSoup\n",
    "url = 'https://finance.naver.com/marketindex/'\n",
    "response = requests.get(url)\n",
    "soup = BeautifulSoup(response.text, 'html.parser')"
   ]
  },
  {
   "cell_type": "code",
   "execution_count": 43,
   "id": "f3395fc6",
   "metadata": {
    "ExecuteTime": {
     "end_time": "2024-12-10T01:01:45.966544Z",
     "start_time": "2024-12-10T01:01:45.518040Z"
    }
   },
   "outputs": [],
   "source": [
    "# sol 2\n",
    "from urllib.request import urlopen\n",
    "url = 'https://finance.naver.com/marketindex/'\n",
    "response = urlopen(url)\n",
    "soup = BeautifulSoup(response, 'html.parser')"
   ]
  },
  {
   "cell_type": "code",
   "execution_count": 44,
   "id": "ebc38668",
   "metadata": {
    "ExecuteTime": {
     "end_time": "2024-12-10T01:01:45.983159Z",
     "start_time": "2024-12-10T01:01:45.967522Z"
    }
   },
   "outputs": [],
   "source": [
    "price = soup.select('div.head_info > span.value')\n",
    "# [round(float(''.join(p.text.split(',')))) for p in price]\n",
    "# [round(float(p.text.replace(',', ''))) for p in price]"
   ]
  },
  {
   "cell_type": "code",
   "execution_count": 45,
   "id": "adf1a89c",
   "metadata": {
    "ExecuteTime": {
     "end_time": "2024-12-10T01:01:46.001333Z",
     "start_time": "2024-12-10T01:01:45.986725Z"
    }
   },
   "outputs": [
    {
     "name": "stdout",
     "output_type": "stream",
     "text": [
      "미국 USD\t일본 JPY(100엔)\t유럽연합 EUR\t중국 CNY\t달러/일본 엔\t유로/달러\t영국 파운드/달러\t달러인덱스\tWTI\t휘발유\t국제 금\t국내 금\t"
     ]
    }
   ],
   "source": [
    "title = soup.select('h3.h_lst > span.blind')\n",
    "for t in title:\n",
    "    print(t.text, end='\\t')"
   ]
  },
  {
   "cell_type": "code",
   "execution_count": 46,
   "id": "364a66d4",
   "metadata": {
    "ExecuteTime": {
     "end_time": "2024-12-10T01:01:46.034290Z",
     "start_time": "2024-12-10T01:01:46.018668Z"
    }
   },
   "outputs": [
    {
     "data": {
      "text/plain": [
       "['원', '원', '원', '원', '엔', '달러', '달러', '', '달러', '원', '달러', '원']"
      ]
     },
     "execution_count": 46,
     "metadata": {},
     "output_type": "execute_result"
    }
   ],
   "source": [
    "unit = soup.select('div.head_info > span > span.blind')\n",
    "unit = [u.text for u in unit]\n",
    "unit.insert(7, '')\n",
    "unit"
   ]
  },
  {
   "cell_type": "code",
   "execution_count": 47,
   "id": "019d24ce",
   "metadata": {
    "ExecuteTime": {
     "end_time": "2024-12-10T01:01:46.200754Z",
     "start_time": "2024-12-10T01:01:46.169875Z"
    }
   },
   "outputs": [
    {
     "name": "stdout",
     "output_type": "stream",
     "text": [
      "하락\t하락\t하락\t하락\t상승\t상승\t상승\t상승\t상승\t상승\t상승\t하락\t"
     ]
    }
   ],
   "source": [
    "status = soup.select('div.head_info > span.blind')\n",
    "for idx in range(len(status)):\n",
    "    print(status[idx].text, end='\\t')"
   ]
  },
  {
   "cell_type": "code",
   "execution_count": 48,
   "id": "ed98db41",
   "metadata": {
    "ExecuteTime": {
     "end_time": "2024-12-10T01:01:46.383950Z",
     "start_time": "2024-12-10T01:01:46.350890Z"
    }
   },
   "outputs": [
    {
     "data": {
      "text/plain": [
       "(12, 12, 12, 12)"
      ]
     },
     "execution_count": 48,
     "metadata": {},
     "output_type": "execute_result"
    }
   ],
   "source": [
    "len(title), len(price), len(unit), len(status)"
   ]
  },
  {
   "cell_type": "code",
   "execution_count": 49,
   "id": "035f564f",
   "metadata": {
    "ExecuteTime": {
     "end_time": "2024-12-10T01:01:46.533640Z",
     "start_time": "2024-12-10T01:01:46.518018Z"
    }
   },
   "outputs": [
    {
     "name": "stdout",
     "output_type": "stream",
     "text": [
      "미국 USD : 1,427.50 원 - 하락\n",
      "일본 JPY(100엔) : 942.46 원 - 하락\n",
      "유럽연합 EUR : 1,506.44 원 - 하락\n",
      "중국 CNY : 196.47 원 - 하락\n",
      "달러/일본 엔 : 150.9200 엔 - 상승\n",
      "유로/달러 : 1.0580 달러 - 상승\n",
      "영국 파운드/달러 : 1.2779 달러 - 상승\n",
      "달러인덱스 : 106.1200  - 상승\n",
      "WTI : 68.37 달러 - 상승\n",
      "휘발유 : 1645.65 원 - 상승\n",
      "국제 금 : 2685.8 달러 - 상승\n",
      "국내 금 : 122307.91 원 - 하락\n"
     ]
    }
   ],
   "source": [
    "for idx in range(len(title)):\n",
    "    print(\"{} : {} {} - {}\".format(title[idx].text, \n",
    "                                    price[idx].text,\n",
    "                                    unit[idx],\n",
    "                                    status[idx].text,))"
   ]
  },
  {
   "cell_type": "code",
   "execution_count": 50,
   "id": "20fef4f0",
   "metadata": {
    "ExecuteTime": {
     "end_time": "2024-12-10T01:01:46.700445Z",
     "start_time": "2024-12-10T01:01:46.684796Z"
    }
   },
   "outputs": [
    {
     "name": "stdout",
     "output_type": "stream",
     "text": [
      "미국 USD : 1,427.50원 - 하락\n",
      "일본 JPY(100엔) : 942.46원 - 하락\n",
      "유럽연합 EUR : 1,506.44원 - 하락\n",
      "중국 CNY : 196.47원 - 하락\n",
      "달러/일본 엔 : 150.9200엔 - 상승\n",
      "유로/달러 : 1.0580달러 - 상승\n",
      "영국 파운드/달러 : 1.2779달러 - 상승\n",
      "달러인덱스 : 106.1200 - 상승\n",
      "WTI : 68.37달러 - 상승\n",
      "휘발유 : 1645.65원 - 상승\n",
      "국제 금 : 2685.8달러 - 상승\n",
      "국내 금 : 122307.91원 - 하락\n"
     ]
    }
   ],
   "source": [
    "for t, p, u, s in zip(title, price, unit, status):\n",
    "    print(\"{} : {}{} - {}\".format(t.text, p.text, u, s.text))"
   ]
  },
  {
   "cell_type": "markdown",
   "id": "1b8a5738",
   "metadata": {},
   "source": [
    "### 2) 이번주 로또 번호 출력\n",
    "- https://dhlottery.co.kr/gameResult.do?method=byWin\n",
    "\n",
    "```\n",
    "1148회 (2024년11월30일 추첨)\n",
    "당첨번호: [3, 6, 13, 15, 16, 22]\n",
    "보너스번호: 32\n",
    "```"
   ]
  },
  {
   "cell_type": "code",
   "execution_count": 51,
   "id": "2875cd59",
   "metadata": {
    "ExecuteTime": {
     "end_time": "2024-12-10T01:01:47.383261Z",
     "start_time": "2024-12-10T01:01:47.057591Z"
    }
   },
   "outputs": [],
   "source": [
    "# 방법1\n",
    "import requests\n",
    "from bs4 import BeautifulSoup\n",
    "url = 'https://dhlottery.co.kr/gameResult.do?method=byWin'\n",
    "response = requests.get(url)\n",
    "soup = BeautifulSoup(response.text, 'html.parser')"
   ]
  },
  {
   "cell_type": "code",
   "execution_count": 52,
   "id": "9e40e331",
   "metadata": {
    "ExecuteTime": {
     "end_time": "2024-12-10T01:01:47.772484Z",
     "start_time": "2024-12-10T01:01:47.384400Z"
    }
   },
   "outputs": [],
   "source": [
    "# 방법2\n",
    "from urllib.request import urlopen\n",
    "url = 'https://dhlottery.co.kr/gameResult.do?method=byWin'\n",
    "response = urlopen(url)\n",
    "soup = BeautifulSoup(response, 'html.parser')"
   ]
  },
  {
   "cell_type": "code",
   "execution_count": 53,
   "id": "e409749a",
   "metadata": {
    "ExecuteTime": {
     "end_time": "2024-12-10T01:01:47.828025Z",
     "start_time": "2024-12-10T01:01:47.775476Z"
    }
   },
   "outputs": [
    {
     "name": "stdout",
     "output_type": "stream",
     "text": [
      "1149회 (2024년 12월 07일 추첨)\n",
      "로또 번호 : [8, 15, 19, 21, 32, 36]\n",
      "보너스 번호 : 38\n"
     ]
    }
   ],
   "source": [
    "times = soup.select_one('div.win_result strong').text # '1148회'\n",
    "date  = soup.select_one('div.win_result p.desc').text # '(2024년 11월 30일 추첨)'\n",
    "print(times, date)\n",
    "lotto_numbers = soup.select('div.num.win span')\n",
    "print('로또 번호 :', [int(lotto.text) for lotto in lotto_numbers])\n",
    "bonus_number = soup.select_one('div.num.bonus span').text\n",
    "print('보너스 번호 :', bonus_number)"
   ]
  },
  {
   "cell_type": "code",
   "execution_count": 54,
   "id": "0443d51c",
   "metadata": {
    "ExecuteTime": {
     "end_time": "2024-12-10T01:01:47.875106Z",
     "start_time": "2024-12-10T01:01:47.830433Z"
    }
   },
   "outputs": [
    {
     "name": "stdout",
     "output_type": "stream",
     "text": [
      "1149회 (2024년 12월 07일 추첨)\n",
      "로또 번호 : [8, 15, 19, 21, 32, 36]\n"
     ]
    },
    {
     "ename": "NameError",
     "evalue": "name 'numbonus' is not defined",
     "output_type": "error",
     "traceback": [
      "\u001b[1;31m---------------------------------------------------------------------------\u001b[0m",
      "\u001b[1;31mNameError\u001b[0m                                 Traceback (most recent call last)",
      "Cell \u001b[1;32mIn[54], line 15\u001b[0m\n\u001b[0;32m     13\u001b[0m \u001b[38;5;66;03m# bonus_number = soup.select_one('div.num.bonus span').text\u001b[39;00m\n\u001b[0;32m     14\u001b[0m bonus \u001b[38;5;241m=\u001b[39m soup\u001b[38;5;241m.\u001b[39mfind(\u001b[38;5;124m'\u001b[39m\u001b[38;5;124mdiv\u001b[39m\u001b[38;5;124m'\u001b[39m, class_\u001b[38;5;241m=\u001b[39m[\u001b[38;5;124m'\u001b[39m\u001b[38;5;124mbonus\u001b[39m\u001b[38;5;124m'\u001b[39m])\n\u001b[1;32m---> 15\u001b[0m bonus_number \u001b[38;5;241m=\u001b[39m \u001b[43mnumbonus\u001b[49m\u001b[38;5;241m.\u001b[39mfind(\u001b[38;5;124m'\u001b[39m\u001b[38;5;124mspan\u001b[39m\u001b[38;5;124m'\u001b[39m)\u001b[38;5;241m.\u001b[39mtext\n\u001b[0;32m     16\u001b[0m \u001b[38;5;28mprint\u001b[39m(\u001b[38;5;124m'\u001b[39m\u001b[38;5;124m보너스 번호 :\u001b[39m\u001b[38;5;124m'\u001b[39m, bonus_number)\n",
      "\u001b[1;31mNameError\u001b[0m: name 'numbonus' is not defined"
     ]
    }
   ],
   "source": [
    "# times = soup.select_one('div.win_result strong').text\n",
    "# date  = soup.select_one('div.win_result p.desc').text\n",
    "win_result = soup.find('div', class_='win_result')\n",
    "times      = win_result.find('strong').text # '1148회'\n",
    "date       = win_result.find('p', class_='desc').text # '(2024년 11월 30일 추첨)'\n",
    "print(times, date)\n",
    "\n",
    "# lotto_numbers = soup.select('div.num.win span')\n",
    "win = soup.find('div', class_=['win'])\n",
    "lotto_numbers = win.find_all('span')\n",
    "print('로또 번호 :', [int(lotto.text) for lotto in lotto_numbers])\n",
    "\n",
    "# bonus_number = soup.select_one('div.num.bonus span').text\n",
    "bonus = soup.find('div', class_=['bonus'])\n",
    "bonus_number = numbonus.find('span').text\n",
    "print('보너스 번호 :', bonus_number)"
   ]
  },
  {
   "cell_type": "markdown",
   "id": "e37c4754",
   "metadata": {
    "ExecuteTime": {
     "end_time": "2024-12-06T07:12:17.375189Z",
     "start_time": "2024-12-06T07:12:17.371209Z"
    }
   },
   "source": [
    "### 3) 다음 검색 리스트\n",
    "```\n",
    "no title                                                       href\n",
    "0 \"비트코인 8800만원에 주운 사람이 승자\"…한밤 불태운 코인 투자자들 http://v.daum.net/v/20241204113454203\n",
    "1 [속보] 비상계엄 선포에 비트코인 '쇼크'…30% 급락 http://v.daum.net/v/20241203231205730\n",
    "2 10만 달러 찍은 비트코인… 더 오를까, 내릴까 http://v.daum.net/v/20241206151520972\n",
    "```"
   ]
  },
  {
   "cell_type": "code",
   "execution_count": 55,
   "id": "8120b837",
   "metadata": {
    "ExecuteTime": {
     "end_time": "2024-12-10T01:01:48.949570Z",
     "start_time": "2024-12-10T01:01:47.938677Z"
    }
   },
   "outputs": [
    {
     "data": {
      "text/html": [
       "<div>\n",
       "<style scoped>\n",
       "    .dataframe tbody tr th:only-of-type {\n",
       "        vertical-align: middle;\n",
       "    }\n",
       "\n",
       "    .dataframe tbody tr th {\n",
       "        vertical-align: top;\n",
       "    }\n",
       "\n",
       "    .dataframe thead th {\n",
       "        text-align: right;\n",
       "    }\n",
       "</style>\n",
       "<table border=\"1\" class=\"dataframe\">\n",
       "  <thead>\n",
       "    <tr style=\"text-align: right;\">\n",
       "      <th></th>\n",
       "      <th>no</th>\n",
       "      <th>title</th>\n",
       "      <th>link</th>\n",
       "    </tr>\n",
       "  </thead>\n",
       "  <tbody>\n",
       "    <tr>\n",
       "      <th>0</th>\n",
       "      <td>0</td>\n",
       "      <td>[글로벌 비즈 브리핑] '비트코인 빚투' 마이크로스트래티지, 또 샀다 外</td>\n",
       "      <td>http://v.daum.net/v/20241210044809410</td>\n",
       "    </tr>\n",
       "    <tr>\n",
       "      <th>1</th>\n",
       "      <td>1</td>\n",
       "      <td>비트코인, 트럼프 재집권에 '디지털 금' 된다</td>\n",
       "      <td>http://v.daum.net/v/20241210060003998</td>\n",
       "    </tr>\n",
       "    <tr>\n",
       "      <th>2</th>\n",
       "      <td>2</td>\n",
       "      <td>러시아·중국, 비트코인 전략자산 비축 나서나</td>\n",
       "      <td>http://v.daum.net/v/20241210085304785</td>\n",
       "    </tr>\n",
       "    <tr>\n",
       "      <th>3</th>\n",
       "      <td>3</td>\n",
       "      <td>유재석 “비트코인! 비트코인!” 2011년 아닌 올초라도 말 들었어야 했나…‘$1...</td>\n",
       "      <td>http://v.daum.net/v/20241207060020551</td>\n",
       "    </tr>\n",
       "    <tr>\n",
       "      <th>4</th>\n",
       "      <td>4</td>\n",
       "      <td>공매도 타깃 마이크로스트래티지, 최근 비트코인과 연관성 줄어</td>\n",
       "      <td>http://v.daum.net/v/20241210090124022</td>\n",
       "    </tr>\n",
       "    <tr>\n",
       "      <th>5</th>\n",
       "      <td>5</td>\n",
       "      <td>20만달러 가능?…비트코인 10만 달러 재돌파</td>\n",
       "      <td>http://v.daum.net/v/20241209130203846</td>\n",
       "    </tr>\n",
       "    <tr>\n",
       "      <th>6</th>\n",
       "      <td>6</td>\n",
       "      <td>\"첫 조정인가\" 비트코인, 10만달러 돌파 후 3%↓</td>\n",
       "      <td>http://v.daum.net/v/20241210094257681</td>\n",
       "    </tr>\n",
       "    <tr>\n",
       "      <th>7</th>\n",
       "      <td>7</td>\n",
       "      <td>비트코인 조정국면···다시 10만 달러 밑으로</td>\n",
       "      <td>http://v.daum.net/v/20241210080326695</td>\n",
       "    </tr>\n",
       "    <tr>\n",
       "      <th>8</th>\n",
       "      <td>8</td>\n",
       "      <td>알트코인, 한때 20% 이상 폭락… 비트코인도 다시 10만 달러 밑으로</td>\n",
       "      <td>http://v.daum.net/v/20241210084214520</td>\n",
       "    </tr>\n",
       "    <tr>\n",
       "      <th>9</th>\n",
       "      <td>9</td>\n",
       "      <td>‘트럼프 효과’...美 비트코인 ETF에 100억불 유입</td>\n",
       "      <td>http://v.daum.net/v/20241209161507983</td>\n",
       "    </tr>\n",
       "  </tbody>\n",
       "</table>\n",
       "</div>"
      ],
      "text/plain": [
       "   no                                              title  \\\n",
       "0   0          [글로벌 비즈 브리핑] '비트코인 빚투' 마이크로스트래티지, 또 샀다 外    \n",
       "1   1                         비트코인, 트럼프 재집권에 '디지털 금' 된다    \n",
       "2   2                          러시아·중국, 비트코인 전략자산 비축 나서나    \n",
       "3   3   유재석 “비트코인! 비트코인!” 2011년 아닌 올초라도 말 들었어야 했나…‘$1...   \n",
       "4   4                 공매도 타깃 마이크로스트래티지, 최근 비트코인과 연관성 줄어    \n",
       "5   5                         20만달러 가능?…비트코인 10만 달러 재돌파    \n",
       "6   6                     \"첫 조정인가\" 비트코인, 10만달러 돌파 후 3%↓    \n",
       "7   7                         비트코인 조정국면···다시 10만 달러 밑으로    \n",
       "8   8           알트코인, 한때 20% 이상 폭락… 비트코인도 다시 10만 달러 밑으로    \n",
       "9   9                   ‘트럼프 효과’...美 비트코인 ETF에 100억불 유입    \n",
       "\n",
       "                                    link  \n",
       "0  http://v.daum.net/v/20241210044809410  \n",
       "1  http://v.daum.net/v/20241210060003998  \n",
       "2  http://v.daum.net/v/20241210085304785  \n",
       "3  http://v.daum.net/v/20241207060020551  \n",
       "4  http://v.daum.net/v/20241210090124022  \n",
       "5  http://v.daum.net/v/20241209130203846  \n",
       "6  http://v.daum.net/v/20241210094257681  \n",
       "7  http://v.daum.net/v/20241210080326695  \n",
       "8  http://v.daum.net/v/20241210084214520  \n",
       "9  http://v.daum.net/v/20241209161507983  "
      ]
     },
     "execution_count": 55,
     "metadata": {},
     "output_type": "execute_result"
    }
   ],
   "source": [
    "import requests\n",
    "from bs4 import BeautifulSoup\n",
    "url = 'https://search.daum.net/search?nil_suggest=btn&w=news&DA=SBC&cluster=y&q=비트코인'\n",
    "response = requests.get(url)\n",
    "soup = BeautifulSoup(response.text, \"html.parser\")\n",
    "items_find_list = [] # 검색한 결과를 담을 dict 리스트\n",
    "items_el = soup.select('div.item-title > strong.tit-g > a')\n",
    "for idx, item in enumerate(items_el):\n",
    "    items_find_list.append({'no':idx,\n",
    "                            'title':item.text,\n",
    "                            'link':item.attrs['href']\n",
    "                          })\n",
    "import pandas as pd\n",
    "pd.DataFrame(items_find_list)"
   ]
  },
  {
   "cell_type": "code",
   "execution_count": 56,
   "id": "1fa0bcdb",
   "metadata": {
    "ExecuteTime": {
     "end_time": "2024-12-10T01:01:49.334755Z",
     "start_time": "2024-12-10T01:01:48.954002Z"
    }
   },
   "outputs": [
    {
     "data": {
      "text/html": [
       "<div>\n",
       "<style scoped>\n",
       "    .dataframe tbody tr th:only-of-type {\n",
       "        vertical-align: middle;\n",
       "    }\n",
       "\n",
       "    .dataframe tbody tr th {\n",
       "        vertical-align: top;\n",
       "    }\n",
       "\n",
       "    .dataframe thead th {\n",
       "        text-align: right;\n",
       "    }\n",
       "</style>\n",
       "<table border=\"1\" class=\"dataframe\">\n",
       "  <thead>\n",
       "    <tr style=\"text-align: right;\">\n",
       "      <th></th>\n",
       "      <th>no</th>\n",
       "      <th>title</th>\n",
       "      <th>link</th>\n",
       "    </tr>\n",
       "  </thead>\n",
       "  <tbody>\n",
       "    <tr>\n",
       "      <th>0</th>\n",
       "      <td>0</td>\n",
       "      <td>[글로벌 비즈 브리핑] '비트코인 빚투' 마이크로스트래티지, 또 샀다 外</td>\n",
       "      <td>http://v.daum.net/v/20241210044809410</td>\n",
       "    </tr>\n",
       "    <tr>\n",
       "      <th>1</th>\n",
       "      <td>1</td>\n",
       "      <td>비트코인, 트럼프 재집권에 '디지털 금' 된다</td>\n",
       "      <td>http://v.daum.net/v/20241210060003998</td>\n",
       "    </tr>\n",
       "    <tr>\n",
       "      <th>2</th>\n",
       "      <td>2</td>\n",
       "      <td>러시아·중국, 비트코인 전략자산 비축 나서나</td>\n",
       "      <td>http://v.daum.net/v/20241210085304785</td>\n",
       "    </tr>\n",
       "    <tr>\n",
       "      <th>3</th>\n",
       "      <td>3</td>\n",
       "      <td>유재석 “비트코인! 비트코인!” 2011년 아닌 올초라도 말 들었어야 했나…‘$1...</td>\n",
       "      <td>http://v.daum.net/v/20241207060020551</td>\n",
       "    </tr>\n",
       "    <tr>\n",
       "      <th>4</th>\n",
       "      <td>4</td>\n",
       "      <td>공매도 타깃 마이크로스트래티지, 최근 비트코인과 연관성 줄어</td>\n",
       "      <td>http://v.daum.net/v/20241210090124022</td>\n",
       "    </tr>\n",
       "    <tr>\n",
       "      <th>5</th>\n",
       "      <td>5</td>\n",
       "      <td>20만달러 가능?…비트코인 10만 달러 재돌파</td>\n",
       "      <td>http://v.daum.net/v/20241209130203846</td>\n",
       "    </tr>\n",
       "    <tr>\n",
       "      <th>6</th>\n",
       "      <td>6</td>\n",
       "      <td>\"첫 조정인가\" 비트코인, 10만달러 돌파 후 3%↓</td>\n",
       "      <td>http://v.daum.net/v/20241210094257681</td>\n",
       "    </tr>\n",
       "    <tr>\n",
       "      <th>7</th>\n",
       "      <td>7</td>\n",
       "      <td>비트코인 조정국면···다시 10만 달러 밑으로</td>\n",
       "      <td>http://v.daum.net/v/20241210080326695</td>\n",
       "    </tr>\n",
       "    <tr>\n",
       "      <th>8</th>\n",
       "      <td>8</td>\n",
       "      <td>알트코인, 한때 20% 이상 폭락… 비트코인도 다시 10만 달러 밑으로</td>\n",
       "      <td>http://v.daum.net/v/20241210084214520</td>\n",
       "    </tr>\n",
       "    <tr>\n",
       "      <th>9</th>\n",
       "      <td>9</td>\n",
       "      <td>‘트럼프 효과’...美 비트코인 ETF에 100억불 유입</td>\n",
       "      <td>http://v.daum.net/v/20241209161507983</td>\n",
       "    </tr>\n",
       "  </tbody>\n",
       "</table>\n",
       "</div>"
      ],
      "text/plain": [
       "   no                                              title  \\\n",
       "0   0          [글로벌 비즈 브리핑] '비트코인 빚투' 마이크로스트래티지, 또 샀다 外    \n",
       "1   1                         비트코인, 트럼프 재집권에 '디지털 금' 된다    \n",
       "2   2                          러시아·중국, 비트코인 전략자산 비축 나서나    \n",
       "3   3   유재석 “비트코인! 비트코인!” 2011년 아닌 올초라도 말 들었어야 했나…‘$1...   \n",
       "4   4                 공매도 타깃 마이크로스트래티지, 최근 비트코인과 연관성 줄어    \n",
       "5   5                         20만달러 가능?…비트코인 10만 달러 재돌파    \n",
       "6   6                     \"첫 조정인가\" 비트코인, 10만달러 돌파 후 3%↓    \n",
       "7   7                         비트코인 조정국면···다시 10만 달러 밑으로    \n",
       "8   8           알트코인, 한때 20% 이상 폭락… 비트코인도 다시 10만 달러 밑으로    \n",
       "9   9                   ‘트럼프 효과’...美 비트코인 ETF에 100억불 유입    \n",
       "\n",
       "                                    link  \n",
       "0  http://v.daum.net/v/20241210044809410  \n",
       "1  http://v.daum.net/v/20241210060003998  \n",
       "2  http://v.daum.net/v/20241210085304785  \n",
       "3  http://v.daum.net/v/20241207060020551  \n",
       "4  http://v.daum.net/v/20241210090124022  \n",
       "5  http://v.daum.net/v/20241209130203846  \n",
       "6  http://v.daum.net/v/20241210094257681  \n",
       "7  http://v.daum.net/v/20241210080326695  \n",
       "8  http://v.daum.net/v/20241210084214520  \n",
       "9  http://v.daum.net/v/20241209161507983  "
      ]
     },
     "execution_count": 56,
     "metadata": {},
     "output_type": "execute_result"
    }
   ],
   "source": [
    "import requests\n",
    "from bs4 import BeautifulSoup\n",
    "url = 'https://search.daum.net/search?nil_suggest=btn&w=news&DA=SBC&cluster=y&q=비트코인'\n",
    "response = requests.get(url)\n",
    "soup = BeautifulSoup(response.text, \"html.parser\")\n",
    "items_find_list = [] # 검색한 결과를 담을 dict 리스트\n",
    "items_el = soup.select('div.item-title > strong.tit-g > a')\n",
    "for idx, item in enumerate(items_el):\n",
    "    items_find_list.append([idx, \n",
    "                            item.text, \n",
    "                            item.attrs['href']])\n",
    "# print(items_find_list)\n",
    "import pandas as pd\n",
    "pd.DataFrame(items_find_list, columns=['no', 'title', 'link'])"
   ]
  },
  {
   "cell_type": "code",
   "execution_count": 57,
   "id": "3791abff",
   "metadata": {
    "ExecuteTime": {
     "end_time": "2024-12-10T01:01:49.370933Z",
     "start_time": "2024-12-10T01:01:49.337749Z"
    }
   },
   "outputs": [
    {
     "data": {
      "text/html": [
       "<div>\n",
       "<style scoped>\n",
       "    .dataframe tbody tr th:only-of-type {\n",
       "        vertical-align: middle;\n",
       "    }\n",
       "\n",
       "    .dataframe tbody tr th {\n",
       "        vertical-align: top;\n",
       "    }\n",
       "\n",
       "    .dataframe thead th {\n",
       "        text-align: right;\n",
       "    }\n",
       "</style>\n",
       "<table border=\"1\" class=\"dataframe\">\n",
       "  <thead>\n",
       "    <tr style=\"text-align: right;\">\n",
       "      <th></th>\n",
       "      <th>no</th>\n",
       "      <th>title</th>\n",
       "      <th>link</th>\n",
       "    </tr>\n",
       "  </thead>\n",
       "  <tbody>\n",
       "    <tr>\n",
       "      <th>0</th>\n",
       "      <td>0</td>\n",
       "      <td>[글로벌 비즈 브리핑] '비트코인 빚투' 마이크로스트래티지, 또 샀다 外</td>\n",
       "      <td>http://v.daum.net/v/20241210044809410</td>\n",
       "    </tr>\n",
       "    <tr>\n",
       "      <th>1</th>\n",
       "      <td>1</td>\n",
       "      <td>비트코인, 트럼프 재집권에 '디지털 금' 된다</td>\n",
       "      <td>http://v.daum.net/v/20241210060003998</td>\n",
       "    </tr>\n",
       "    <tr>\n",
       "      <th>2</th>\n",
       "      <td>2</td>\n",
       "      <td>러시아·중국, 비트코인 전략자산 비축 나서나</td>\n",
       "      <td>http://v.daum.net/v/20241210085304785</td>\n",
       "    </tr>\n",
       "    <tr>\n",
       "      <th>3</th>\n",
       "      <td>3</td>\n",
       "      <td>유재석 “비트코인! 비트코인!” 2011년 아닌 올초라도 말 들었어야 했나…‘$1...</td>\n",
       "      <td>http://v.daum.net/v/20241207060020551</td>\n",
       "    </tr>\n",
       "    <tr>\n",
       "      <th>4</th>\n",
       "      <td>4</td>\n",
       "      <td>공매도 타깃 마이크로스트래티지, 최근 비트코인과 연관성 줄어</td>\n",
       "      <td>http://v.daum.net/v/20241210090124022</td>\n",
       "    </tr>\n",
       "    <tr>\n",
       "      <th>5</th>\n",
       "      <td>5</td>\n",
       "      <td>20만달러 가능?…비트코인 10만 달러 재돌파</td>\n",
       "      <td>http://v.daum.net/v/20241209130203846</td>\n",
       "    </tr>\n",
       "    <tr>\n",
       "      <th>6</th>\n",
       "      <td>6</td>\n",
       "      <td>\"첫 조정인가\" 비트코인, 10만달러 돌파 후 3%↓</td>\n",
       "      <td>http://v.daum.net/v/20241210094257681</td>\n",
       "    </tr>\n",
       "    <tr>\n",
       "      <th>7</th>\n",
       "      <td>7</td>\n",
       "      <td>비트코인 조정국면···다시 10만 달러 밑으로</td>\n",
       "      <td>http://v.daum.net/v/20241210080326695</td>\n",
       "    </tr>\n",
       "    <tr>\n",
       "      <th>8</th>\n",
       "      <td>8</td>\n",
       "      <td>알트코인, 한때 20% 이상 폭락… 비트코인도 다시 10만 달러 밑으로</td>\n",
       "      <td>http://v.daum.net/v/20241210084214520</td>\n",
       "    </tr>\n",
       "    <tr>\n",
       "      <th>9</th>\n",
       "      <td>9</td>\n",
       "      <td>‘트럼프 효과’...美 비트코인 ETF에 100억불 유입</td>\n",
       "      <td>http://v.daum.net/v/20241209161507983</td>\n",
       "    </tr>\n",
       "  </tbody>\n",
       "</table>\n",
       "</div>"
      ],
      "text/plain": [
       "   no                                              title  \\\n",
       "0   0          [글로벌 비즈 브리핑] '비트코인 빚투' 마이크로스트래티지, 또 샀다 外    \n",
       "1   1                         비트코인, 트럼프 재집권에 '디지털 금' 된다    \n",
       "2   2                          러시아·중국, 비트코인 전략자산 비축 나서나    \n",
       "3   3   유재석 “비트코인! 비트코인!” 2011년 아닌 올초라도 말 들었어야 했나…‘$1...   \n",
       "4   4                 공매도 타깃 마이크로스트래티지, 최근 비트코인과 연관성 줄어    \n",
       "5   5                         20만달러 가능?…비트코인 10만 달러 재돌파    \n",
       "6   6                     \"첫 조정인가\" 비트코인, 10만달러 돌파 후 3%↓    \n",
       "7   7                         비트코인 조정국면···다시 10만 달러 밑으로    \n",
       "8   8           알트코인, 한때 20% 이상 폭락… 비트코인도 다시 10만 달러 밑으로    \n",
       "9   9                   ‘트럼프 효과’...美 비트코인 ETF에 100억불 유입    \n",
       "\n",
       "                                    link  \n",
       "0  http://v.daum.net/v/20241210044809410  \n",
       "1  http://v.daum.net/v/20241210060003998  \n",
       "2  http://v.daum.net/v/20241210085304785  \n",
       "3  http://v.daum.net/v/20241207060020551  \n",
       "4  http://v.daum.net/v/20241210090124022  \n",
       "5  http://v.daum.net/v/20241209130203846  \n",
       "6  http://v.daum.net/v/20241210094257681  \n",
       "7  http://v.daum.net/v/20241210080326695  \n",
       "8  http://v.daum.net/v/20241210084214520  \n",
       "9  http://v.daum.net/v/20241209161507983  "
      ]
     },
     "execution_count": 57,
     "metadata": {},
     "output_type": "execute_result"
    }
   ],
   "source": [
    "items_find_list = [] # 검색한 결과를 담을 dict 리스트(div.item-title > strong.tit-g > a)\n",
    "item_titles = soup.find_all('div', class_='item-title')\n",
    "\n",
    "for idx, item in enumerate(item_titles):\n",
    "    strong = item.find('strong')\n",
    "    if strong:\n",
    "        a = strong.find('a')\n",
    "        items_find_list.append([idx, a.text, a.attrs['href']])\n",
    "pd.DataFrame(items_find_list, columns=['no', 'title', 'link'])"
   ]
  },
  {
   "cell_type": "code",
   "execution_count": 58,
   "id": "a689b41a",
   "metadata": {
    "ExecuteTime": {
     "end_time": "2024-12-10T01:01:49.384363Z",
     "start_time": "2024-12-10T01:01:49.370933Z"
    }
   },
   "outputs": [],
   "source": [
    "# Daum 검색(원하는 키워드를 원하는 페이지 수)"
   ]
  },
  {
   "cell_type": "code",
   "execution_count": 59,
   "id": "ac7f3b01",
   "metadata": {
    "ExecuteTime": {
     "end_time": "2024-12-10T01:01:49.401119Z",
     "start_time": "2024-12-10T01:01:49.387355Z"
    }
   },
   "outputs": [],
   "source": [
    "import requests\n",
    "from bs4 import BeautifulSoup\n",
    "import pandas as pd\n",
    "# print하는 함수\n",
    "def collect_list(keyword, page):\n",
    "    'keyword로 page에 Daum 검색한 결과를 출력'\n",
    "#     url = 'https://search.daum.net/search?w=news&nil_search=btn&DA=PGD&enc=utf8&cluster=y&q={}&p={}'\\\n",
    "#             .format(keyword, page)\n",
    "#     response = requests.get(url)\n",
    "    url = 'https://search.daum.net/search?w=news&nil_search=btn&DA=PGD&enc=utf8&cluster=y'\n",
    "    params = {'q':keyword, 'p':page}\n",
    "    response = requests.get(url, params = params)\n",
    "    soup = BeautifulSoup(response.text, \"html.parser\")\n",
    "    items_find_list = [] # 검색한 결과를 담을 dict 리스트(div.item-title > strong.tit-g > a)\n",
    "    item_titles = soup.find_all('div', class_='item-title')\n",
    "\n",
    "    for idx, item in enumerate(item_titles):\n",
    "        strong = item.find('strong')\n",
    "        if strong:\n",
    "            a = strong.find('a')\n",
    "            items_find_list.append([(page-1)*10+idx, a.text, a.attrs['href']])\n",
    "            print((page-1)*10+idx, a.text, a['href'])\n",
    "    # return items_find_list"
   ]
  },
  {
   "cell_type": "code",
   "execution_count": 60,
   "id": "61e6f5bc",
   "metadata": {
    "ExecuteTime": {
     "end_time": "2024-12-10T01:01:49.784691Z",
     "start_time": "2024-12-10T01:01:49.404137Z"
    }
   },
   "outputs": [
    {
     "name": "stdout",
     "output_type": "stream",
     "text": [
      "0  힙라인 美쳤다...'골프 여신' 유현주, 청바지 입고 뽐낸 '공격적 뒤태'  http://v.daum.net/v/20241208200005828\n",
      "1  에스파 닝닝, 워너비 청바지 핏..연일 리즈 찍는 비주얼 [스타IN★]  http://v.daum.net/v/20241208001414598\n",
      "2  ‘9살 연하♥’ 최지우, 49살 나이 믿기지 않는 러블리 미모 “청바지도 잘 어울려”  http://v.daum.net/v/20241209183907649\n",
      "3  56세 채시라, 흰티+청바지핏 20대 뺨쳐‥평생이 예쁘네  http://v.daum.net/v/20241205102113139\n",
      "4  ‘미스쓰리랑’ 김소연, 박상민과 ‘청바지 아가씨’ 즉석 화음  http://v.daum.net/v/20241129012015847\n",
      "5  56세 채시라, 흰 티에 청바지만 입어도 완벽… '데님 여신' 귀환  http://v.daum.net/v/20241206205810264\n",
      "6  이시영, 얼어죽어도 美! 폭설 속 찢어진 청바지에 돼지코 신발로 시선 강탈!  http://v.daum.net/v/20241127170304793\n",
      "7  50대의 흰티·청바지, 채시라 걸그룹 몸매 인증  http://v.daum.net/v/20241206020014186\n",
      "8  채시라, 흰티+청바지 완벽 소화…50대 나이 안 믿기는 몸매 [MD★스타]  http://v.daum.net/v/20241206162024306\n",
      "9  서주경, 전성기 파격 패션 “몸매 예뻐 청바지 오픈” (퍼펙트)[결정적장면]  http://v.daum.net/v/20241128060836398\n"
     ]
    }
   ],
   "source": [
    "collect_list('청바지', 1)"
   ]
  },
  {
   "cell_type": "code",
   "execution_count": 61,
   "id": "08b0df2a",
   "metadata": {
    "ExecuteTime": {
     "end_time": "2024-12-10T01:01:57.786928Z",
     "start_time": "2024-12-10T01:01:49.787685Z"
    }
   },
   "outputs": [
    {
     "name": "stdout",
     "output_type": "stream",
     "text": [
      "\n",
      "▒▒▒▒▒▒▒▒▒▒▒ 청바지 검색 결과 입니다 ▒▒▒▒▒▒▒▒▒▒▒\n",
      "\n",
      "0  힙라인 美쳤다...'골프 여신' 유현주, 청바지 입고 뽐낸 '공격적 뒤태'  http://v.daum.net/v/20241208200005828\n",
      "1  에스파 닝닝, 워너비 청바지 핏..연일 리즈 찍는 비주얼 [스타IN★]  http://v.daum.net/v/20241208001414598\n",
      "2  ‘9살 연하♥’ 최지우, 49살 나이 믿기지 않는 러블리 미모 “청바지도 잘 어울려”  http://v.daum.net/v/20241209183907649\n",
      "3  56세 채시라, 흰티+청바지핏 20대 뺨쳐‥평생이 예쁘네  http://v.daum.net/v/20241205102113139\n",
      "4  ‘미스쓰리랑’ 김소연, 박상민과 ‘청바지 아가씨’ 즉석 화음  http://v.daum.net/v/20241129012015847\n",
      "5  56세 채시라, 흰 티에 청바지만 입어도 완벽… '데님 여신' 귀환  http://v.daum.net/v/20241206205810264\n",
      "6  이시영, 얼어죽어도 美! 폭설 속 찢어진 청바지에 돼지코 신발로 시선 강탈!  http://v.daum.net/v/20241127170304793\n",
      "7  50대의 흰티·청바지, 채시라 걸그룹 몸매 인증  http://v.daum.net/v/20241206020014186\n",
      "8  채시라, 흰티+청바지 완벽 소화…50대 나이 안 믿기는 몸매 [MD★스타]  http://v.daum.net/v/20241206162024306\n",
      "9  서주경, 전성기 파격 패션 “몸매 예뻐 청바지 오픈” (퍼펙트)[결정적장면]  http://v.daum.net/v/20241128060836398\n",
      "10  집에 굴러다니는 청바지 하나로 리사처럼 멋 내는 법  http://v.daum.net/v/20241127172605719\n",
      "11  서주경, 원조 섹시스타? 청바지 골반에 걸치고 당돌했던 패션(퍼펙트 라이프)  http://v.daum.net/v/20241127153650717\n",
      "12  크리스탈 ‘청바지에 가디건만 툭 걸쳐도 예쁨 완성’[포토엔HD]  http://v.daum.net/v/20241203100807187\n",
      "13  고우리 ‘청바지가 잘 어울려’ [MK포토]  http://v.daum.net/v/20241205164814052\n",
      "14  김지원, 청바지에 숏패딩만 입어도 청순‥입술 쭉 애교는 덤  http://v.daum.net/v/20241120155408078\n",
      "15  ‘美 언더아머’ 가방에 청바지 입은 北학생… 러시아 유튜버가 포착한 평양의 모습  http://v.daum.net/v/20241129115100297\n",
      "16  대구시행복진흥원, 2024 청바지(청년이 바라는 지금 가족) 아카데미 발대식 개최  http://v.daum.net/v/20241109214942252\n",
      "17  제주서 청바지에 오리발 낀 시신 발견돼…실종 모터보트 선장 추정 \"확인 중\"  http://v.daum.net/v/20241124142017794\n",
      "18  [ET포토] 베이비몬스터 아현, '셔츠에 청바지면 완벽'  http://v.daum.net/v/20241204153708872\n",
      "19  김태리, 흰티+청바지 입은 정년이‥시크해도 예쁘네  http://v.daum.net/v/20241106084401512\n",
      "20  미스전남 진 이하정 '청바지가 잘 어울리는 여자' [포토]  http://v.daum.net/v/20241205173202831\n",
      "21  [美대선 D-1] 청바지 입은 해리스, 미화원 조끼 걸친 트럼프…패션 필살기는  http://v.daum.net/v/20241104162858090\n",
      "22  해리스는 청바지·트럼프는 미화원 조끼…패션으로 읽는 美 대선  http://v.daum.net/v/20241105233634359\n",
      "23  트럼프의 앞치마 vs 해리스의 청바지…‘서민 소통 상징’으로 패션정치 대결 [박영실의 이미지 브랜딩]  http://v.daum.net/v/20241103060502246\n",
      "24  가죽재킷·청바지 입은 '힙한' 비올레타가 온다…'라 트라비아타'  http://v.daum.net/v/20241111092157682\n",
      "25  ‘마이큐♥’ 김나영, 애들 없이 청바지만? ‘수영복 벗고 드러난 완벽 핏’  http://v.daum.net/v/20241105104509753\n",
      "26  ‘청바지 입은 내가 주인공’···순천시 해룡면 청바지 축제 개최  http://v.daum.net/v/20241016164702070\n",
      "27  홍주연 아나 슬리퍼+청바지 출근룩에 엄지인 경악 “업무 방해 돼”(당나귀 귀)  http://v.daum.net/v/20241110175438302\n",
      "28  강지영 ‘청바지 위에 청치마, 유일무이한 청청패션으로 극장 나들이’ [틀린그림찾기]  http://v.daum.net/v/20241115055701333\n",
      "29  수영강습 갔던 화성 여대생 주검으로…'정액 묻은 청바지'가 사라졌다  http://v.daum.net/v/20241027053149482\n",
      "\n",
      "▒▒▒▒▒▒▒▒▒▒▒ 닭가슴살 검색 결과 입니다 ▒▒▒▒▒▒▒▒▒▒▒\n",
      "\n",
      "0  닭가슴살 전문 굽네몰, '연말결산' 프로모션…최대 72% 할인  http://v.daum.net/v/20241209081510567\n",
      "1  '대장이 반찬' 김대호 \"이장우는 천재\"…깜짝 놀라게 한 닭가슴살 반찬 [TV스포]  http://v.daum.net/v/20241201150945696\n",
      "2  \"닭가슴살 '단백질' 믿고 주문했는데…\" 배신 당한 다이어터들  http://v.daum.net/v/20240926092302756\n",
      "3  허경환 \"닭가슴살 사업하다 27억 사기 당해, 친한 사람이었는데…\"  http://v.daum.net/v/20241126082811691\n",
      "4  사조대림, 촉촉한 양념 닭가슴살 ‘소스에 퐁닭’ 3종 출시  http://v.daum.net/v/20241129091231041\n",
      "5  아들조차 외면한 정지선 셰프의 닭가슴살 요리…백종원 “엄마가 정지선인데!” 경악  http://v.daum.net/v/20241108222401781\n",
      "6  허경환 ‘허닭’, 야구 선수에 닭가슴살 후원  http://v.daum.net/v/20241118104222210\n",
      "7  “체지방 빠지고 근육 늘어” 이미도, 직접 짠 식단 공개… 어떤 음식 먹나 보니?  http://v.daum.net/v/20241210002030470\n",
      "8  굽네몰, ‘2024년 연말결산 특가’ 통해 최대 72% 할인  http://v.daum.net/v/20241209090017767\n",
      "9  동원홈푸드, 저당 닭가슴살 브리또·쌈장소스 등 4종 출시  http://v.daum.net/v/20241101160017021\n",
      "10  “이번엔 닭가슴살 레시피?” 최화정, 고기쌈에 ‘이것’ 곁들인다… 뭐길래?  http://v.daum.net/v/20241015000329588\n",
      "11  국내 최초 `꼬기다` 스틱 닭가슴살, 출시 두 달 만에 200만 개 완판! 건강한 간편식 시장의 새로운 강자  http://v.daum.net/v/20241025111217129\n",
      "12  닭 가슴살에 매운 ‘이것’ 곁들이면, 다이어트 효과 상승!  http://v.daum.net/v/20241012220729064\n",
      "13  고소영, 직접 만든 '이 음식' 공개… 살 뺄 땐 먹지 말아야?  http://v.daum.net/v/20241208070329929\n",
      "14  채종석 \"소방관 준비하다 서울 상경…8kg 빼고 모델 데뷔\" [엑's 인터뷰①]  http://v.daum.net/v/20241210074007319\n",
      "15  고명환 “언제 잊혀질까” 오랜 우울증 극복하게 한 긍정 확언의 힘(아침마당)  http://v.daum.net/v/20241210095830285\n",
      "16  배다해, '이 시술'로 체중 많이 늘어...\"4kg 살 빼야 한다\", 왜?  http://v.daum.net/v/20241208161854863\n",
      "17  한소희, 42kg 가녀린 몸 비결?…닭가슴살 ‘이렇게’ 먹는다  http://v.daum.net/v/20241001200057813\n",
      "18  ‘쌍둥이 인플루언서’ 김상지&김상아 “우린 가족이자 친구, 좋은 자극 받으며 함께 성장” [인터뷰]  http://v.daum.net/v/20241209111403263\n",
      "19  소유 “살 찐 내 몸 더럽다 느껴”→화사 “약 먹고 허벅지살 빼”..걸그룹 고충[Oh!쎈 이슈]  http://v.daum.net/v/20241130151717861\n",
      "20  “다이어트 위해” 혜리, 시상식 앞두고 ‘이 음식’만 먹어… 뭔가 보니?  http://v.daum.net/v/20241209101611345\n",
      "21  “‘이렇게’ 먹으면 살 빠진다” 전효성, 다이어트 식단 대공개… 뭐 먹나 보니?  http://v.daum.net/v/20241122000130881\n",
      "22  “닭도 부위별로 즐긴다” 홈플러스,닭고기 부분육 매출 최대30% 껑충  http://v.daum.net/v/20241126082933710\n",
      "23  \"닭가슴살보다 높은 단백질 함량\" 빙그레, '프로틴 치즈' 신제품 공개  http://v.daum.net/v/20241017091812646\n",
      "24  달걀, 삶은 닭고기 꾸준히 먹었더니... 뇌 신경-인지 기능에 변화가?  http://v.daum.net/v/20241119190128434\n",
      "25  \"많이 먹어서 살쪘다\"…제이제이, 속옷 입고 62㎏ 몸매 인증  http://v.daum.net/v/20241203040018342\n",
      "26  미 육류회사, 리스테리아균 발견 닭가슴살 등 무려 5천톤 리콜(종합)  http://v.daum.net/v/20241011065535513\n",
      "27  닭가슴살 들기름 메밀김밥 1위... 편의점 식재료 활용한 건강 레시피  http://v.daum.net/v/20241015085320023\n",
      "28  다시 살찐 스윙스, \"다이어트 시작\" 밝혀… 직접 공개한 식단 보니?  http://v.daum.net/v/20241120141048522\n",
      "29  “한 달에 평균 3kg 감량… 혈당만 관리해도 살은 저절로 빠져”[허진석의 톡톡 스타트업]  http://v.daum.net/v/20241207030403803\n"
     ]
    }
   ],
   "source": [
    "import time\n",
    "keywords = ['청바지', '닭가슴살']\n",
    "pages = 3\n",
    "for keyword in keywords:\n",
    "    print(f\"\\n▒▒▒▒▒▒▒▒▒▒▒ {keyword} 검색 결과 입니다 ▒▒▒▒▒▒▒▒▒▒▒\\n\")\n",
    "    for page in range(1, pages + 1):\n",
    "        collect_list(keyword, page)\n",
    "        time.sleep(1) # 1초 잠시 쉼"
   ]
  },
  {
   "cell_type": "code",
   "execution_count": 62,
   "id": "532aff9c",
   "metadata": {
    "ExecuteTime": {
     "end_time": "2024-12-10T01:01:57.801375Z",
     "start_time": "2024-12-10T01:01:57.789819Z"
    }
   },
   "outputs": [],
   "source": [
    "import requests\n",
    "from bs4 import BeautifulSoup\n",
    "import time\n",
    "import pandas as pd\n",
    "# 검색한 결과를 list로 받아 return 하는 함수\n",
    "def collect_list_return(keyword, page):\n",
    "    'keyword로 page에 Daum 검색한 결과를 출력'\n",
    "    url = 'https://search.daum.net/search?w=news&nil_search=btn&DA=PGD&enc=utf8&cluster=y'\n",
    "    params = {'q':keyword, 'p':page}\n",
    "    response = requests.get(url, params = params)\n",
    "    soup = BeautifulSoup(response.text, \"html.parser\")\n",
    "    items_find_list = [] # 검색한 결과를 담을 2차원 리스트(div.item-title > strong.tit-g > a)\n",
    "    item_titles = soup.find_all('div', class_='item-title')\n",
    "\n",
    "    for idx, item in enumerate(item_titles):\n",
    "        strong = item.find('strong')\n",
    "        if strong:\n",
    "            a = strong.find('a')\n",
    "            items_find_list.append([(page-1)*10+idx, a.text, a.attrs['href']])\n",
    "            # items_find_list.append({\n",
    "            #     'no':(page-1)*10+idx,\n",
    "            #     'title':a.text,\n",
    "            #     'link':a['href']\n",
    "            # })\n",
    "            # print((page-1)*10+idx, a.text, a['href'])\n",
    "    return items_find_list"
   ]
  },
  {
   "cell_type": "code",
   "execution_count": 63,
   "id": "c05b9ef3",
   "metadata": {
    "ExecuteTime": {
     "end_time": "2024-12-10T01:01:58.152064Z",
     "start_time": "2024-12-10T01:01:57.806362Z"
    }
   },
   "outputs": [
    {
     "data": {
      "text/html": [
       "<div>\n",
       "<style scoped>\n",
       "    .dataframe tbody tr th:only-of-type {\n",
       "        vertical-align: middle;\n",
       "    }\n",
       "\n",
       "    .dataframe tbody tr th {\n",
       "        vertical-align: top;\n",
       "    }\n",
       "\n",
       "    .dataframe thead th {\n",
       "        text-align: right;\n",
       "    }\n",
       "</style>\n",
       "<table border=\"1\" class=\"dataframe\">\n",
       "  <thead>\n",
       "    <tr style=\"text-align: right;\">\n",
       "      <th></th>\n",
       "      <th>no</th>\n",
       "      <th>title</th>\n",
       "      <th>link</th>\n",
       "    </tr>\n",
       "  </thead>\n",
       "  <tbody>\n",
       "    <tr>\n",
       "      <th>0</th>\n",
       "      <td>10</td>\n",
       "      <td>집에 굴러다니는 청바지 하나로 리사처럼 멋 내는 법</td>\n",
       "      <td>http://v.daum.net/v/20241127172605719</td>\n",
       "    </tr>\n",
       "    <tr>\n",
       "      <th>1</th>\n",
       "      <td>11</td>\n",
       "      <td>서주경, 원조 섹시스타? 청바지 골반에 걸치고 당돌했던 패션(퍼펙트 라이프)</td>\n",
       "      <td>http://v.daum.net/v/20241127153650717</td>\n",
       "    </tr>\n",
       "    <tr>\n",
       "      <th>2</th>\n",
       "      <td>12</td>\n",
       "      <td>크리스탈 ‘청바지에 가디건만 툭 걸쳐도 예쁨 완성’[포토엔HD]</td>\n",
       "      <td>http://v.daum.net/v/20241203100807187</td>\n",
       "    </tr>\n",
       "    <tr>\n",
       "      <th>3</th>\n",
       "      <td>13</td>\n",
       "      <td>고우리 ‘청바지가 잘 어울려’ [MK포토]</td>\n",
       "      <td>http://v.daum.net/v/20241205164814052</td>\n",
       "    </tr>\n",
       "    <tr>\n",
       "      <th>4</th>\n",
       "      <td>14</td>\n",
       "      <td>김지원, 청바지에 숏패딩만 입어도 청순‥입술 쭉 애교는 덤</td>\n",
       "      <td>http://v.daum.net/v/20241120155408078</td>\n",
       "    </tr>\n",
       "    <tr>\n",
       "      <th>5</th>\n",
       "      <td>15</td>\n",
       "      <td>‘美 언더아머’ 가방에 청바지 입은 北학생… 러시아 유튜버가 포착한 평양의 모습</td>\n",
       "      <td>http://v.daum.net/v/20241129115100297</td>\n",
       "    </tr>\n",
       "    <tr>\n",
       "      <th>6</th>\n",
       "      <td>16</td>\n",
       "      <td>대구시행복진흥원, 2024 청바지(청년이 바라는 지금 가족) 아카데미 발대식 개최</td>\n",
       "      <td>http://v.daum.net/v/20241109214942252</td>\n",
       "    </tr>\n",
       "    <tr>\n",
       "      <th>7</th>\n",
       "      <td>17</td>\n",
       "      <td>제주서 청바지에 오리발 낀 시신 발견돼…실종 모터보트 선장 추정 \"확인 중\"</td>\n",
       "      <td>http://v.daum.net/v/20241124142017794</td>\n",
       "    </tr>\n",
       "    <tr>\n",
       "      <th>8</th>\n",
       "      <td>18</td>\n",
       "      <td>[ET포토] 베이비몬스터 아현, '셔츠에 청바지면 완벽'</td>\n",
       "      <td>http://v.daum.net/v/20241204153708872</td>\n",
       "    </tr>\n",
       "    <tr>\n",
       "      <th>9</th>\n",
       "      <td>19</td>\n",
       "      <td>김태리, 흰티+청바지 입은 정년이‥시크해도 예쁘네</td>\n",
       "      <td>http://v.daum.net/v/20241106084401512</td>\n",
       "    </tr>\n",
       "  </tbody>\n",
       "</table>\n",
       "</div>"
      ],
      "text/plain": [
       "   no                                            title  \\\n",
       "0  10                    집에 굴러다니는 청바지 하나로 리사처럼 멋 내는 법    \n",
       "1  11      서주경, 원조 섹시스타? 청바지 골반에 걸치고 당돌했던 패션(퍼펙트 라이프)    \n",
       "2  12             크리스탈 ‘청바지에 가디건만 툭 걸쳐도 예쁨 완성’[포토엔HD]    \n",
       "3  13                         고우리 ‘청바지가 잘 어울려’ [MK포토]    \n",
       "4  14                김지원, 청바지에 숏패딩만 입어도 청순‥입술 쭉 애교는 덤    \n",
       "5  15    ‘美 언더아머’ 가방에 청바지 입은 北학생… 러시아 유튜버가 포착한 평양의 모습    \n",
       "6  16   대구시행복진흥원, 2024 청바지(청년이 바라는 지금 가족) 아카데미 발대식 개최    \n",
       "7  17      제주서 청바지에 오리발 낀 시신 발견돼…실종 모터보트 선장 추정 \"확인 중\"    \n",
       "8  18                 [ET포토] 베이비몬스터 아현, '셔츠에 청바지면 완벽'    \n",
       "9  19                     김태리, 흰티+청바지 입은 정년이‥시크해도 예쁘네    \n",
       "\n",
       "                                    link  \n",
       "0  http://v.daum.net/v/20241127172605719  \n",
       "1  http://v.daum.net/v/20241127153650717  \n",
       "2  http://v.daum.net/v/20241203100807187  \n",
       "3  http://v.daum.net/v/20241205164814052  \n",
       "4  http://v.daum.net/v/20241120155408078  \n",
       "5  http://v.daum.net/v/20241129115100297  \n",
       "6  http://v.daum.net/v/20241109214942252  \n",
       "7  http://v.daum.net/v/20241124142017794  \n",
       "8  http://v.daum.net/v/20241204153708872  \n",
       "9  http://v.daum.net/v/20241106084401512  "
      ]
     },
     "execution_count": 63,
     "metadata": {},
     "output_type": "execute_result"
    }
   ],
   "source": [
    "import pandas as pd\n",
    "pd.DataFrame(collect_list_return('청바지', 2),\n",
    "             columns = ['no', 'title', 'link'],)"
   ]
  },
  {
   "cell_type": "code",
   "execution_count": 64,
   "id": "f1cd562f",
   "metadata": {
    "ExecuteTime": {
     "end_time": "2024-12-10T01:02:00.205594Z",
     "start_time": "2024-12-10T01:01:58.155056Z"
    }
   },
   "outputs": [
    {
     "name": "stdout",
     "output_type": "stream",
     "text": [
      "〓〓〓〓〓〓〓 1번째 검색어 청바지 검색 결과 수집 중입니다 〓〓〓〓〓〓〓\n",
      "〓〓〓〓〓〓〓 2번째 검색어 닭가슴살 검색 결과 수집 중입니다 〓〓〓〓〓〓〓\n"
     ]
    }
   ],
   "source": [
    "keywords = ['청바지', '닭가슴살']\n",
    "result0 = [] # 청바지 1~pages 페이지까지 검색 결과를 담을 list\n",
    "result1 = [] # 닭가슴살 1~pages 페이지까지 검색 결과를 담을 list\n",
    "pages = 3\n",
    "for i, keyword in enumerate(keywords):\n",
    "    print(f'〓〓〓〓〓〓〓 {i+1}번째 검색어 {keyword} 검색 결과 수집 중입니다 〓〓〓〓〓〓〓')\n",
    "    for page in range(1, pages+1):\n",
    "        if i == 0:\n",
    "            result0.extend(collect_list_return(keyword, page))\n",
    "        elif i == 1:\n",
    "            result1.extend(collect_list_return(keyword, page))"
   ]
  },
  {
   "cell_type": "code",
   "execution_count": 65,
   "id": "79b3dc85",
   "metadata": {
    "ExecuteTime": {
     "end_time": "2024-12-10T01:02:00.222214Z",
     "start_time": "2024-12-10T01:02:00.208695Z"
    }
   },
   "outputs": [
    {
     "data": {
      "text/html": [
       "<div>\n",
       "<style scoped>\n",
       "    .dataframe tbody tr th:only-of-type {\n",
       "        vertical-align: middle;\n",
       "    }\n",
       "\n",
       "    .dataframe tbody tr th {\n",
       "        vertical-align: top;\n",
       "    }\n",
       "\n",
       "    .dataframe thead th {\n",
       "        text-align: right;\n",
       "    }\n",
       "</style>\n",
       "<table border=\"1\" class=\"dataframe\">\n",
       "  <thead>\n",
       "    <tr style=\"text-align: right;\">\n",
       "      <th></th>\n",
       "      <th>no</th>\n",
       "      <th>title</th>\n",
       "      <th>link</th>\n",
       "    </tr>\n",
       "  </thead>\n",
       "  <tbody>\n",
       "    <tr>\n",
       "      <th>0</th>\n",
       "      <td>0</td>\n",
       "      <td>힙라인 美쳤다...'골프 여신' 유현주, 청바지 입고 뽐낸 '공격적 뒤태'</td>\n",
       "      <td>http://v.daum.net/v/20241208200005828</td>\n",
       "    </tr>\n",
       "    <tr>\n",
       "      <th>1</th>\n",
       "      <td>1</td>\n",
       "      <td>에스파 닝닝, 워너비 청바지 핏..연일 리즈 찍는 비주얼 [스타IN★]</td>\n",
       "      <td>http://v.daum.net/v/20241208001414598</td>\n",
       "    </tr>\n",
       "    <tr>\n",
       "      <th>2</th>\n",
       "      <td>2</td>\n",
       "      <td>‘9살 연하♥’ 최지우, 49살 나이 믿기지 않는 러블리 미모 “청바지도 잘 어울려”</td>\n",
       "      <td>http://v.daum.net/v/20241209183907649</td>\n",
       "    </tr>\n",
       "    <tr>\n",
       "      <th>3</th>\n",
       "      <td>3</td>\n",
       "      <td>56세 채시라, 흰티+청바지핏 20대 뺨쳐‥평생이 예쁘네</td>\n",
       "      <td>http://v.daum.net/v/20241205102113139</td>\n",
       "    </tr>\n",
       "    <tr>\n",
       "      <th>4</th>\n",
       "      <td>4</td>\n",
       "      <td>‘미스쓰리랑’ 김소연, 박상민과 ‘청바지 아가씨’ 즉석 화음</td>\n",
       "      <td>http://v.daum.net/v/20241129012015847</td>\n",
       "    </tr>\n",
       "  </tbody>\n",
       "</table>\n",
       "</div>"
      ],
      "text/plain": [
       "   no                                              title  \\\n",
       "0   0         힙라인 美쳤다...'골프 여신' 유현주, 청바지 입고 뽐낸 '공격적 뒤태'    \n",
       "1   1           에스파 닝닝, 워너비 청바지 핏..연일 리즈 찍는 비주얼 [스타IN★]    \n",
       "2   2   ‘9살 연하♥’ 최지우, 49살 나이 믿기지 않는 러블리 미모 “청바지도 잘 어울려”    \n",
       "3   3                   56세 채시라, 흰티+청바지핏 20대 뺨쳐‥평생이 예쁘네    \n",
       "4   4                 ‘미스쓰리랑’ 김소연, 박상민과 ‘청바지 아가씨’ 즉석 화음    \n",
       "\n",
       "                                    link  \n",
       "0  http://v.daum.net/v/20241208200005828  \n",
       "1  http://v.daum.net/v/20241208001414598  \n",
       "2  http://v.daum.net/v/20241209183907649  \n",
       "3  http://v.daum.net/v/20241205102113139  \n",
       "4  http://v.daum.net/v/20241129012015847  "
      ]
     },
     "execution_count": 65,
     "metadata": {},
     "output_type": "execute_result"
    }
   ],
   "source": [
    "result0_df = pd.DataFrame(result0, columns = ['no', 'title', 'link'])\n",
    "result1_df = pd.DataFrame(result1, columns = ['번호', '제목', '링크'])\n",
    "result0_df.head()"
   ]
  },
  {
   "cell_type": "code",
   "execution_count": 66,
   "id": "401a4ae8",
   "metadata": {
    "ExecuteTime": {
     "end_time": "2024-12-10T01:02:00.270275Z",
     "start_time": "2024-12-10T01:02:00.225750Z"
    }
   },
   "outputs": [],
   "source": [
    "result0_df.to_csv('data/ch14_' + keywords[0] + '.csv', index = False)\n",
    "result1_df.to_csv('data/ch14_' + keywords[1] + '.csv', index = False)"
   ]
  },
  {
   "cell_type": "markdown",
   "id": "a49d9136",
   "metadata": {},
   "source": [
    "### 4) 봇차단 우회를 위해 User-Agent를 추가하여 크롤링 \n",
    "- 크롤링을 막는 사이트\n",
    "- https://www.melon.com/robots.txt 에서 일부 경로에서 User-Agent에 봇이 지정"
   ]
  },
  {
   "cell_type": "code",
   "execution_count": 67,
   "id": "4360d2a0",
   "metadata": {
    "ExecuteTime": {
     "end_time": "2024-12-10T01:02:00.285013Z",
     "start_time": "2024-12-10T01:02:00.273223Z"
    }
   },
   "outputs": [],
   "source": [
    "# 방법 1\n",
    "from urllib.request import urlopen\n",
    "from bs4 import BeautifulSoup\n",
    "url = 'https://www.melon.com/chart/'\n",
    "# melonpage = urlopen(url) # HTTPError"
   ]
  },
  {
   "cell_type": "code",
   "execution_count": 68,
   "id": "5658858c",
   "metadata": {
    "ExecuteTime": {
     "end_time": "2024-12-10T01:02:00.335074Z",
     "start_time": "2024-12-10T01:02:00.287015Z"
    }
   },
   "outputs": [
    {
     "data": {
      "text/plain": [
       "<Response [406]>"
      ]
     },
     "execution_count": 68,
     "metadata": {},
     "output_type": "execute_result"
    }
   ],
   "source": [
    "# 방법 2\n",
    "import requests\n",
    "from bs4 import BeautifulSoup\n",
    "url = 'https://www.melon.com/chart/'\n",
    "melonpage = requests.get(url)\n",
    "melonpage\n",
    "# soup = BeautifulSoup(melonpage.text, 'html.parser')\n",
    "# soup"
   ]
  },
  {
   "cell_type": "code",
   "execution_count": 69,
   "id": "4c8c293a",
   "metadata": {
    "ExecuteTime": {
     "end_time": "2024-12-10T01:02:01.051714Z",
     "start_time": "2024-12-10T01:02:00.338066Z"
    }
   },
   "outputs": [
    {
     "name": "stdout",
     "output_type": "stream",
     "text": [
      " 1위 | HOME SWEET HOME (feat. 태양, 대성) - G-DRAGON\n",
      " 2위 | APT. - 로제 (ROSÉ), Bruno Mars\n",
      " 3위 | Whiplash - aespa\n",
      " 4위 | POWER - G-DRAGON\n",
      " 5위 | 나는 반딧불 - 황가람\n",
      " 6위 | HAPPY - DAY6 (데이식스)\n",
      " 7위 | UP (KARINA Solo) - aespa\n",
      " 8위 | 첫 눈 - EXO\n",
      " 9위 | toxic till the end - 로제 (ROSÉ)\n",
      "10위 | 내 이름 맑음 - QWER\n",
      "11위 | 내게 사랑이 뭐냐고 물어본다면 - 로이킴\n",
      "12위 | Mantra - 제니 (JENNIE)\n",
      "13위 | 너와의 모든 지금 - 재쓰비 (JAESSBEE)\n",
      "14위 | Welcome to the Show - DAY6 (데이식스)\n",
      "15위 | 사랑은 늘 도망가 - 임영웅\n",
      "16위 | 소나기 - 이클립스 (ECLIPSE)\n",
      "17위 | Supernova - aespa\n",
      "18위 | 한 페이지가 될 수 있게 - DAY6 (데이식스)\n",
      "19위 | Pump Up The Volume! - PLAVE\n",
      "20위 | WAY 4 LUV - PLAVE\n",
      "21위 | Drowning - WOODZ\n",
      "22위 | 우리들의 블루스 - 임영웅\n",
      "23위 | 온기 - 임영웅\n",
      "24위 | 어떻게 이별까지 사랑하겠어, 널 사랑하는 거지 - AKMU (악뮤)\n",
      "25위 | 천상연 - 이창섭\n",
      "26위 | Home - 임영웅\n",
      "27위 | 슬픈 초대장 - 순순희(지환)\n",
      "28위 | number one girl - 로제 (ROSÉ)\n",
      "29위 | 모래 알갱이 - 임영웅\n",
      "30위 | 다시 만날 수 있을까 - 임영웅\n",
      "31위 | 고민중독 - QWER\n",
      "32위 | 이제 나만 믿어요 - 임영웅\n",
      "33위 | 예뻤어 - DAY6 (데이식스)\n",
      "34위 | 우리 영화 - PLAVE\n",
      "35위 | Do or Die - 임영웅\n",
      "36위 | 무지개 - 임영웅\n",
      "37위 | Supersonic - 프로미스나인\n",
      "38위 | London Boy - 임영웅\n",
      "39위 | From - PLAVE\n",
      "40위 | Love wins all - 아이유\n",
      "41위 | Polaroid - 임영웅\n",
      "42위 | How Sweet - NewJeans\n",
      "43위 | 인생찬가 - 임영웅\n",
      "44위 | Watch Me Woo! - PLAVE\n",
      "45위 | Small girl (feat. 도경수(D.O.)) - 이영지\n",
      "46위 | 첫 만남은 계획대로 되지 않아 - TWS (투어스)\n",
      "47위 | All I Want for Christmas Is You - Mariah Carey\n",
      "48위 | 나는 아픈 건 딱 질색이니까 - (여자)아이들\n",
      "49위 | 연애편지 - 임영웅\n",
      "50위 | 녹아내려요 - DAY6 (데이식스)\n",
      "51위 | Merry PLLIstmas - PLAVE\n",
      "52위 | 버추얼 아이돌 - PLAVE\n",
      "53위 | 너의 모든 순간 - 성시경\n",
      "54위 | Igloo - KISS OF LIFE\n",
      "55위 | 그대만 있다면 (여름날 우리 X 너드커넥션 (Nerd Connection)) - 너드커넥션 (Nerd Connection)\n",
      "56위 | Ditto - NewJeans\n",
      "57위 | 보금자리 - 임영웅\n",
      "58위 | 에피소드 - 이무진\n",
      "59위 | 클락션 (Klaxon) - (여자)아이들\n",
      "60위 | 비의 랩소디 - 임재현\n",
      "61위 | 헤어지자 말해요 - 박재정\n",
      "62위 | 눈이 오잖아(Feat.헤이즈) - 이무진\n",
      "63위 | Armageddon - aespa\n",
      "64위 | Magnetic - 아일릿(ILLIT)\n",
      "65위 | Santa Tell Me - Ariana Grande\n",
      "66위 | 청춘만화 - 이무진\n",
      "67위 | 미안해 미워해 사랑해 - Crush\n",
      "68위 | 무제(無題) (Untitled, 2014) - G-DRAGON\n",
      "69위 | DRIP - BABYMONSTER\n",
      "70위 | 주저하는 연인들을 위해 - 잔나비\n",
      "71위 | Supernatural - NewJeans\n",
      "72위 | 인사 - 범진\n",
      "73위 | 모든 날, 모든 순간 (Every day, Every Moment) - 폴킴\n",
      "74위 | Seven (feat. Latto) - Clean Ver. - 정국\n",
      "75위 | Love 119 - RIIZE\n",
      "76위 | 미리 메리 크리스마스 (Feat. 천둥 Of MBLAQ) - 아이유\n",
      "77위 | Sticky - KISS OF LIFE\n",
      "78위 | 다정히 내 이름을 부르면 - 경서예지, 전건호\n",
      "79위 | Hype Boy - NewJeans\n",
      "80위 | I AM - IVE (아이브)\n",
      "81위 | 청혼하지 않을 이유를 못 찾았어 - 이무진\n",
      "82위 | SPOT! (feat. JENNIE) - 지코 (ZICO)\n",
      "83위 | Snowman - Sia\n",
      "84위 | 해야 (HEYA) - IVE (아이브)\n",
      "85위 | 네모네모 - YENA (최예나)\n",
      "86위 | Congratulations - DAY6 (데이식스)\n",
      "87위 | Cherish (My Love) - 아일릿(ILLIT)\n",
      "88위 | 사랑인가 봐 - 멜로망스\n",
      "89위 | 크리스마스니까 - 성시경, 박효신, 이석훈, 서인국, VIXX (빅스)\n",
      "90위 | Bubble Gum - NewJeans\n",
      "91위 | 봄날 - 방탄소년단\n",
      "92위 | To. X - 태연 (TAEYEON)\n",
      "93위 | Letter To Myself - 태연 (TAEYEON)\n",
      "94위 | Dynamite - 방탄소년단\n",
      "95위 | 사건의 지평선 - 윤하 (YOUNHA)\n",
      "96위 | 취중고백 - 김민석\n",
      "97위 | Boom Boom Bass - RIIZE\n",
      "98위 | 사막에서 꽃을 피우듯 - 우디 (Woody)\n",
      "99위 | Drama - aespa\n",
      "100위 | Winter Ahead (with 박효신) - V, 박효신\n"
     ]
    }
   ],
   "source": [
    "# User-Agent를 추가\n",
    "import requests\n",
    "from bs4 import BeautifulSoup\n",
    "url = 'https://www.melon.com/chart/'\n",
    "headers = {'user-agent':\n",
    "           'Mozilla/5.0 (Windows NT 10.0; Win64; x64) AppleWebKit/537.36 (KHTML, like Gecko) Chrome/131.0.0.0 Safari/537.36'}\n",
    "melonpage = requests.get(url, headers = headers)\n",
    "# melonpage\n",
    "soup = BeautifulSoup(melonpage.text, # melonpage.content\n",
    "                     'html.parser') \n",
    "title_els = soup.select('div.ellipsis.rank01 > span')\n",
    "singer_els = soup.select('div.ellipsis.rank02 > span')\n",
    "# [t.text.strip() for t in title_els]\n",
    "# [s.text for s in singer_els]\n",
    "# 1위: HOME SWEET HOME (feat. 태양, 대성) | 지드래곤\n",
    "# for idx in range(len(title_els)):\n",
    "#     print(\"{}위 | {} - {}\".format(idx+1, \n",
    "#                                  title_els[idx].text.strip(), \n",
    "#                                  singer_els[idx].text))\n",
    "for idx, (title_el, singer_el) in enumerate(zip(title_els, singer_els)):\n",
    "    print('{:>2}위 | {} - {}'.format(idx + 1,\n",
    "                                     title_el.text.strip(),\n",
    "                                     singer_el.text))"
   ]
  },
  {
   "cell_type": "markdown",
   "id": "077219fb",
   "metadata": {},
   "source": [
    "### 5) 네이버 지식인으로 검색 (open API 사용 X)\n",
    "- 특정 keyword를 특정 페이지 수만큼"
   ]
  },
  {
   "cell_type": "code",
   "execution_count": 70,
   "id": "23788bbe",
   "metadata": {
    "ExecuteTime": {
     "end_time": "2024-12-10T01:02:01.218323Z",
     "start_time": "2024-12-10T01:02:01.054707Z"
    }
   },
   "outputs": [
    {
     "name": "stdout",
     "output_type": "stream",
     "text": [
      "https://kin.naver.com/search/list.naver?query=%EC%B1%97%EC%A7%80%ED%94%BC%ED%8B%B0\n",
      "200\n"
     ]
    }
   ],
   "source": [
    "# 방법 1\n",
    "from urllib.request import urlopen\n",
    "from urllib.parse import quote\n",
    "keyword = quote('챗지피티')\n",
    "# 챗지피티를 => %EC%B1%97%EC%A7%80%ED%94%BC%ED%8B%B0 (url 인코딩 방식으로 전환)\n",
    "url = f'https://kin.naver.com/search/list.naver?query={keyword}'\n",
    "print(url)\n",
    "response = urlopen(url)\n",
    "print(response.status)"
   ]
  },
  {
   "cell_type": "code",
   "execution_count": 71,
   "id": "70685289",
   "metadata": {
    "ExecuteTime": {
     "end_time": "2024-12-10T01:02:01.371316Z",
     "start_time": "2024-12-10T01:02:01.220319Z"
    }
   },
   "outputs": [
    {
     "name": "stdout",
     "output_type": "stream",
     "text": [
      "https://kin.naver.com/search/list.naver?query=챗지피티\n",
      "200\n"
     ]
    }
   ],
   "source": [
    "# 방법 2\n",
    "import requests\n",
    "keyword = '챗지피티'\n",
    "url = f'https://kin.naver.com/search/list.naver?query={keyword}'\n",
    "print(url)\n",
    "response = requests.get(url)\n",
    "print(response.status_code)"
   ]
  },
  {
   "cell_type": "code",
   "execution_count": 72,
   "id": "67303004",
   "metadata": {
    "ExecuteTime": {
     "end_time": "2024-12-10T01:02:01.904679Z",
     "start_time": "2024-12-10T01:02:01.371961Z"
    }
   },
   "outputs": [
    {
     "data": {
      "text/html": [
       "<div>\n",
       "<style scoped>\n",
       "    .dataframe tbody tr th:only-of-type {\n",
       "        vertical-align: middle;\n",
       "    }\n",
       "\n",
       "    .dataframe tbody tr th {\n",
       "        vertical-align: top;\n",
       "    }\n",
       "\n",
       "    .dataframe thead th {\n",
       "        text-align: right;\n",
       "    }\n",
       "</style>\n",
       "<table border=\"1\" class=\"dataframe\">\n",
       "  <thead>\n",
       "    <tr style=\"text-align: right;\">\n",
       "      <th></th>\n",
       "      <th>no</th>\n",
       "      <th>title</th>\n",
       "      <th>link</th>\n",
       "    </tr>\n",
       "  </thead>\n",
       "  <tbody>\n",
       "    <tr>\n",
       "      <th>0</th>\n",
       "      <td>NaN</td>\n",
       "      <td>챗지피티 웹에서 검색 기능이 안돼요</td>\n",
       "      <td>https://kin.naver.com/qna/detail.naver?d1id=1&amp;...</td>\n",
       "    </tr>\n",
       "    <tr>\n",
       "      <th>1</th>\n",
       "      <td>NaN</td>\n",
       "      <td>챗지피티 책 내용 요약 믿을만 한가요?</td>\n",
       "      <td>https://kin.naver.com/qna/detail.naver?d1id=1&amp;...</td>\n",
       "    </tr>\n",
       "    <tr>\n",
       "      <th>2</th>\n",
       "      <td>NaN</td>\n",
       "      <td>챗지피티 로그인 불가</td>\n",
       "      <td>https://kin.naver.com/qna/detail.naver?d1id=1&amp;...</td>\n",
       "    </tr>\n",
       "    <tr>\n",
       "      <th>3</th>\n",
       "      <td>NaN</td>\n",
       "      <td>챗지피티 무료인가요?</td>\n",
       "      <td>https://kin.naver.com/qna/detail.naver?d1id=1&amp;...</td>\n",
       "    </tr>\n",
       "    <tr>\n",
       "      <th>4</th>\n",
       "      <td>NaN</td>\n",
       "      <td>챗지피티 코딩</td>\n",
       "      <td>https://kin.naver.com/qna/detail.naver?d1id=1&amp;...</td>\n",
       "    </tr>\n",
       "    <tr>\n",
       "      <th>5</th>\n",
       "      <td>NaN</td>\n",
       "      <td>챗지피티 유료</td>\n",
       "      <td>https://kin.naver.com/qna/detail.naver?d1id=1&amp;...</td>\n",
       "    </tr>\n",
       "    <tr>\n",
       "      <th>6</th>\n",
       "      <td>NaN</td>\n",
       "      <td>학교 논문 과제 챗지피티 관련 질문</td>\n",
       "      <td>https://kin.naver.com/qna/detail.naver?d1id=11...</td>\n",
       "    </tr>\n",
       "    <tr>\n",
       "      <th>7</th>\n",
       "      <td>NaN</td>\n",
       "      <td>챗GPT, 챗지피티 발열 및 배터리 소모...</td>\n",
       "      <td>https://kin.naver.com/qna/detail.naver?d1id=1&amp;...</td>\n",
       "    </tr>\n",
       "    <tr>\n",
       "      <th>8</th>\n",
       "      <td>NaN</td>\n",
       "      <td>챗지피티 영어 해석 믿을만한가요?</td>\n",
       "      <td>https://kin.naver.com/qna/detail.naver?d1id=11...</td>\n",
       "    </tr>\n",
       "    <tr>\n",
       "      <th>9</th>\n",
       "      <td>NaN</td>\n",
       "      <td>챗지피티 여부 검사</td>\n",
       "      <td>https://kin.naver.com/qna/detail.naver?d1id=8&amp;...</td>\n",
       "    </tr>\n",
       "    <tr>\n",
       "      <th>10</th>\n",
       "      <td>NaN</td>\n",
       "      <td>챗지피티 허용 버전</td>\n",
       "      <td>https://kin.naver.com/qna/detail.naver?d1id=1&amp;...</td>\n",
       "    </tr>\n",
       "    <tr>\n",
       "      <th>11</th>\n",
       "      <td>NaN</td>\n",
       "      <td>챗지피티 과제</td>\n",
       "      <td>https://kin.naver.com/qna/detail.naver?d1id=1&amp;...</td>\n",
       "    </tr>\n",
       "    <tr>\n",
       "      <th>12</th>\n",
       "      <td>NaN</td>\n",
       "      <td>겜스고 챗지피티</td>\n",
       "      <td>https://kin.naver.com/qna/detail.naver?d1id=1&amp;...</td>\n",
       "    </tr>\n",
       "    <tr>\n",
       "      <th>13</th>\n",
       "      <td>NaN</td>\n",
       "      <td>챗지피티 돌리는심리</td>\n",
       "      <td>https://kin.naver.com/qna/detail.naver?d1id=8&amp;...</td>\n",
       "    </tr>\n",
       "    <tr>\n",
       "      <th>14</th>\n",
       "      <td>NaN</td>\n",
       "      <td>챗지피티 구독 해지 방법</td>\n",
       "      <td>https://kin.naver.com/qna/detail.naver?d1id=1&amp;...</td>\n",
       "    </tr>\n",
       "    <tr>\n",
       "      <th>15</th>\n",
       "      <td>NaN</td>\n",
       "      <td>챗지피티 유료버전</td>\n",
       "      <td>https://kin.naver.com/qna/detail.naver?d1id=1&amp;...</td>\n",
       "    </tr>\n",
       "    <tr>\n",
       "      <th>16</th>\n",
       "      <td>NaN</td>\n",
       "      <td>챗지피티 아무 폰이나 다 사용 가능해요?</td>\n",
       "      <td>https://kin.naver.com/qna/detail.naver?d1id=1&amp;...</td>\n",
       "    </tr>\n",
       "    <tr>\n",
       "      <th>17</th>\n",
       "      <td>NaN</td>\n",
       "      <td>자소서 챗지피티 유사도 18%</td>\n",
       "      <td>https://kin.naver.com/qna/detail.naver?d1id=11...</td>\n",
       "    </tr>\n",
       "    <tr>\n",
       "      <th>18</th>\n",
       "      <td>NaN</td>\n",
       "      <td>챗지피티 다운로드</td>\n",
       "      <td>https://kin.naver.com/qna/detail.naver?d1id=2&amp;...</td>\n",
       "    </tr>\n",
       "    <tr>\n",
       "      <th>19</th>\n",
       "      <td>NaN</td>\n",
       "      <td>챗지피티 4.0정품 뭔가요</td>\n",
       "      <td>https://kin.naver.com/qna/detail.naver?d1id=1&amp;...</td>\n",
       "    </tr>\n",
       "    <tr>\n",
       "      <th>20</th>\n",
       "      <td>NaN</td>\n",
       "      <td>챗지피티 자동완성 문제 발생</td>\n",
       "      <td>https://kin.naver.com/qna/detail.naver?d1id=1&amp;...</td>\n",
       "    </tr>\n",
       "    <tr>\n",
       "      <th>21</th>\n",
       "      <td>NaN</td>\n",
       "      <td>지식인 챗지피티</td>\n",
       "      <td>https://kin.naver.com/qna/detail.naver?d1id=3&amp;...</td>\n",
       "    </tr>\n",
       "    <tr>\n",
       "      <th>22</th>\n",
       "      <td>NaN</td>\n",
       "      <td>챗지피티 로그인 문제</td>\n",
       "      <td>https://kin.naver.com/qna/detail.naver?d1id=1&amp;...</td>\n",
       "    </tr>\n",
       "    <tr>\n",
       "      <th>23</th>\n",
       "      <td>NaN</td>\n",
       "      <td>챗지피티 활용 어디까지 걸리나요??</td>\n",
       "      <td>https://kin.naver.com/qna/detail.naver?d1id=11...</td>\n",
       "    </tr>\n",
       "    <tr>\n",
       "      <th>24</th>\n",
       "      <td>NaN</td>\n",
       "      <td>챗지피티 4.0</td>\n",
       "      <td>https://kin.naver.com/qna/detail.naver?d1id=1&amp;...</td>\n",
       "    </tr>\n",
       "    <tr>\n",
       "      <th>25</th>\n",
       "      <td>NaN</td>\n",
       "      <td>챗지피티 플러스 환불법</td>\n",
       "      <td>https://kin.naver.com/qna/detail.naver?d1id=4&amp;...</td>\n",
       "    </tr>\n",
       "    <tr>\n",
       "      <th>26</th>\n",
       "      <td>NaN</td>\n",
       "      <td>자소서에 챗지피티 활용</td>\n",
       "      <td>https://kin.naver.com/qna/detail.naver?d1id=3&amp;...</td>\n",
       "    </tr>\n",
       "    <tr>\n",
       "      <th>27</th>\n",
       "      <td>NaN</td>\n",
       "      <td>도대체 지식인에다 엉터리 챗지피티 답</td>\n",
       "      <td>https://kin.naver.com/qna/detail.naver?d1id=1&amp;...</td>\n",
       "    </tr>\n",
       "    <tr>\n",
       "      <th>28</th>\n",
       "      <td>NaN</td>\n",
       "      <td>챗지피티 오류</td>\n",
       "      <td>https://kin.naver.com/qna/detail.naver?d1id=1&amp;...</td>\n",
       "    </tr>\n",
       "    <tr>\n",
       "      <th>29</th>\n",
       "      <td>NaN</td>\n",
       "      <td>챗지피티 오류, 언어 버그</td>\n",
       "      <td>https://kin.naver.com/qna/detail.naver?d1id=1&amp;...</td>\n",
       "    </tr>\n",
       "  </tbody>\n",
       "</table>\n",
       "</div>"
      ],
      "text/plain": [
       "    no                       title  \\\n",
       "0  NaN         챗지피티 웹에서 검색 기능이 안돼요   \n",
       "1  NaN       챗지피티 책 내용 요약 믿을만 한가요?   \n",
       "2  NaN                 챗지피티 로그인 불가   \n",
       "3  NaN                 챗지피티 무료인가요?   \n",
       "4  NaN                     챗지피티 코딩   \n",
       "5  NaN                     챗지피티 유료   \n",
       "6  NaN         학교 논문 과제 챗지피티 관련 질문   \n",
       "7  NaN  챗GPT, 챗지피티 발열 및 배터리 소모...    \n",
       "8  NaN          챗지피티 영어 해석 믿을만한가요?   \n",
       "9  NaN                  챗지피티 여부 검사   \n",
       "10 NaN                  챗지피티 허용 버전   \n",
       "11 NaN                     챗지피티 과제   \n",
       "12 NaN                    겜스고 챗지피티   \n",
       "13 NaN                  챗지피티 돌리는심리   \n",
       "14 NaN               챗지피티 구독 해지 방법   \n",
       "15 NaN                   챗지피티 유료버전   \n",
       "16 NaN      챗지피티 아무 폰이나 다 사용 가능해요?   \n",
       "17 NaN            자소서 챗지피티 유사도 18%   \n",
       "18 NaN                   챗지피티 다운로드   \n",
       "19 NaN              챗지피티 4.0정품 뭔가요   \n",
       "20 NaN             챗지피티 자동완성 문제 발생   \n",
       "21 NaN                    지식인 챗지피티   \n",
       "22 NaN                 챗지피티 로그인 문제   \n",
       "23 NaN         챗지피티 활용 어디까지 걸리나요??   \n",
       "24 NaN                    챗지피티 4.0   \n",
       "25 NaN                챗지피티 플러스 환불법   \n",
       "26 NaN                자소서에 챗지피티 활용   \n",
       "27 NaN        도대체 지식인에다 엉터리 챗지피티 답   \n",
       "28 NaN                     챗지피티 오류   \n",
       "29 NaN              챗지피티 오류, 언어 버그   \n",
       "\n",
       "                                                 link  \n",
       "0   https://kin.naver.com/qna/detail.naver?d1id=1&...  \n",
       "1   https://kin.naver.com/qna/detail.naver?d1id=1&...  \n",
       "2   https://kin.naver.com/qna/detail.naver?d1id=1&...  \n",
       "3   https://kin.naver.com/qna/detail.naver?d1id=1&...  \n",
       "4   https://kin.naver.com/qna/detail.naver?d1id=1&...  \n",
       "5   https://kin.naver.com/qna/detail.naver?d1id=1&...  \n",
       "6   https://kin.naver.com/qna/detail.naver?d1id=11...  \n",
       "7   https://kin.naver.com/qna/detail.naver?d1id=1&...  \n",
       "8   https://kin.naver.com/qna/detail.naver?d1id=11...  \n",
       "9   https://kin.naver.com/qna/detail.naver?d1id=8&...  \n",
       "10  https://kin.naver.com/qna/detail.naver?d1id=1&...  \n",
       "11  https://kin.naver.com/qna/detail.naver?d1id=1&...  \n",
       "12  https://kin.naver.com/qna/detail.naver?d1id=1&...  \n",
       "13  https://kin.naver.com/qna/detail.naver?d1id=8&...  \n",
       "14  https://kin.naver.com/qna/detail.naver?d1id=1&...  \n",
       "15  https://kin.naver.com/qna/detail.naver?d1id=1&...  \n",
       "16  https://kin.naver.com/qna/detail.naver?d1id=1&...  \n",
       "17  https://kin.naver.com/qna/detail.naver?d1id=11...  \n",
       "18  https://kin.naver.com/qna/detail.naver?d1id=2&...  \n",
       "19  https://kin.naver.com/qna/detail.naver?d1id=1&...  \n",
       "20  https://kin.naver.com/qna/detail.naver?d1id=1&...  \n",
       "21  https://kin.naver.com/qna/detail.naver?d1id=3&...  \n",
       "22  https://kin.naver.com/qna/detail.naver?d1id=1&...  \n",
       "23  https://kin.naver.com/qna/detail.naver?d1id=11...  \n",
       "24  https://kin.naver.com/qna/detail.naver?d1id=1&...  \n",
       "25  https://kin.naver.com/qna/detail.naver?d1id=4&...  \n",
       "26  https://kin.naver.com/qna/detail.naver?d1id=3&...  \n",
       "27  https://kin.naver.com/qna/detail.naver?d1id=1&...  \n",
       "28  https://kin.naver.com/qna/detail.naver?d1id=1&...  \n",
       "29  https://kin.naver.com/qna/detail.naver?d1id=1&...  "
      ]
     },
     "execution_count": 72,
     "metadata": {},
     "output_type": "execute_result"
    }
   ],
   "source": [
    "# 페이징 포함\n",
    "import requests\n",
    "from bs4 import BeautifulSoup\n",
    "keyword = '챗지피티'\n",
    "pages = 3\n",
    "items_list = [] # 크롤링한 데이터를 담을 list\n",
    "for page in range(1, pages+1):\n",
    "    url = f'https://kin.naver.com/search/list.naver?query={keyword}&page={page}'\n",
    "    response = requests.get(url)\n",
    "    # 글 제목과 link를 가져와서 items_list에 append\n",
    "    soup = BeautifulSoup(response.text, 'html.parser')\n",
    "    items = soup.select('dt > a')\n",
    "    for idx, item in enumerate(items):\n",
    "#         print((page-1)*10+idx, item.text, item.attrs['href'])\n",
    "#         items_list.append([(page-1)*10+idx, item.text, item['href']])\n",
    "        items_list.append({'title':item.text,\n",
    "                           'link':item.attrs['href']})\n",
    "pd.DataFrame(items_list, columns = ['no', 'title', 'link'])"
   ]
  },
  {
   "cell_type": "code",
   "execution_count": 73,
   "id": "e68bd17f",
   "metadata": {
    "ExecuteTime": {
     "end_time": "2024-12-10T01:02:02.369339Z",
     "start_time": "2024-12-10T01:02:01.907652Z"
    }
   },
   "outputs": [
    {
     "name": "stdout",
     "output_type": "stream",
     "text": [
      "(30, 2)\n"
     ]
    },
    {
     "data": {
      "text/html": [
       "<div>\n",
       "<style scoped>\n",
       "    .dataframe tbody tr th:only-of-type {\n",
       "        vertical-align: middle;\n",
       "    }\n",
       "\n",
       "    .dataframe tbody tr th {\n",
       "        vertical-align: top;\n",
       "    }\n",
       "\n",
       "    .dataframe thead th {\n",
       "        text-align: right;\n",
       "    }\n",
       "</style>\n",
       "<table border=\"1\" class=\"dataframe\">\n",
       "  <thead>\n",
       "    <tr style=\"text-align: right;\">\n",
       "      <th></th>\n",
       "      <th>title</th>\n",
       "      <th>link</th>\n",
       "    </tr>\n",
       "  </thead>\n",
       "  <tbody>\n",
       "    <tr>\n",
       "      <th>0</th>\n",
       "      <td>챗지피티 웹에서 검색 기능이 안돼요</td>\n",
       "      <td>https://kin.naver.com/qna/detail.naver?d1id=1&amp;...</td>\n",
       "    </tr>\n",
       "    <tr>\n",
       "      <th>1</th>\n",
       "      <td>챗지피티 책 내용 요약 믿을만 한가요?</td>\n",
       "      <td>https://kin.naver.com/qna/detail.naver?d1id=1&amp;...</td>\n",
       "    </tr>\n",
       "    <tr>\n",
       "      <th>2</th>\n",
       "      <td>챗지피티 로그인 불가</td>\n",
       "      <td>https://kin.naver.com/qna/detail.naver?d1id=1&amp;...</td>\n",
       "    </tr>\n",
       "    <tr>\n",
       "      <th>3</th>\n",
       "      <td>챗지피티 무료인가요?</td>\n",
       "      <td>https://kin.naver.com/qna/detail.naver?d1id=1&amp;...</td>\n",
       "    </tr>\n",
       "    <tr>\n",
       "      <th>4</th>\n",
       "      <td>챗지피티 코딩</td>\n",
       "      <td>https://kin.naver.com/qna/detail.naver?d1id=1&amp;...</td>\n",
       "    </tr>\n",
       "  </tbody>\n",
       "</table>\n",
       "</div>"
      ],
      "text/plain": [
       "                   title                                               link\n",
       "0    챗지피티 웹에서 검색 기능이 안돼요  https://kin.naver.com/qna/detail.naver?d1id=1&...\n",
       "1  챗지피티 책 내용 요약 믿을만 한가요?  https://kin.naver.com/qna/detail.naver?d1id=1&...\n",
       "2            챗지피티 로그인 불가  https://kin.naver.com/qna/detail.naver?d1id=1&...\n",
       "3            챗지피티 무료인가요?  https://kin.naver.com/qna/detail.naver?d1id=1&...\n",
       "4                챗지피티 코딩  https://kin.naver.com/qna/detail.naver?d1id=1&..."
      ]
     },
     "execution_count": 73,
     "metadata": {},
     "output_type": "execute_result"
    }
   ],
   "source": [
    "# 페이징 포함\n",
    "import requests\n",
    "from bs4 import BeautifulSoup\n",
    "keyword = '챗지피티'\n",
    "pages = 3\n",
    "items_list = [] # 크롤링한 데이터를 담을 list\n",
    "for page in range(1, pages+1):\n",
    "    url = f'https://kin.naver.com/search/list.naver?query={keyword}&page={page}'\n",
    "    response = requests.get(url)\n",
    "    # 글 제목과 link를 가져와서 items_list에 append\n",
    "    soup = BeautifulSoup(response.text, 'html.parser')\n",
    "    dt_els = soup.find_all('dt')\n",
    "    for dt_el in dt_els:\n",
    "        item = dt_el.find('a')\n",
    "        items_list.append({'title':item.text,\n",
    "                           'link':item.attrs['href']})\n",
    "df = pd.DataFrame(items_list)\n",
    "print(df.shape)\n",
    "df.head()"
   ]
  },
  {
   "cell_type": "markdown",
   "id": "600e468f",
   "metadata": {},
   "source": [
    "### 6) 네이버 지식인으로 검색 (open API 사용 O)\n",
    "- 특정 keyword를 여러 데이터(30)만큼"
   ]
  },
  {
   "cell_type": "code",
   "execution_count": 74,
   "id": "bf12c2f2",
   "metadata": {
    "ExecuteTime": {
     "end_time": "2024-12-10T01:02:02.505665Z",
     "start_time": "2024-12-10T01:02:02.372331Z"
    }
   },
   "outputs": [
    {
     "name": "stdout",
     "output_type": "stream",
     "text": [
      "{\n",
      "\t\"lastBuildDate\":\"Tue, 10 Dec 2024 10:02:03 +090\n"
     ]
    }
   ],
   "source": [
    "import os\n",
    "import sys\n",
    "import urllib.request\n",
    "client_id = \"wh1i4GrdqHljQf6Tfw5B\"\n",
    "client_secret = \"6ZZI57w7iM\"\n",
    "encText = urllib.parse.quote(\"챗지피티\")\n",
    "url = \"https://openapi.naver.com/v1/search/kin.json?query=\" + encText # JSON 결과\n",
    "# url = \"https://openapi.naver.com/v1/search/kin.json?query=\" + encText # XML 결과\n",
    "request = urllib.request.Request(url)\n",
    "request.add_header(\"X-Naver-Client-Id\",client_id)\n",
    "request.add_header(\"X-Naver-Client-Secret\",client_secret)\n",
    "response = urllib.request.urlopen(request)\n",
    "rescode = response.getcode()\n",
    "if(rescode==200):\n",
    "    response_body = response.read()\n",
    "    print(response_body.decode('utf-8')[:50])\n",
    "else:\n",
    "    print(\"Error Code:\" + rescode)"
   ]
  },
  {
   "cell_type": "code",
   "execution_count": 75,
   "id": "2baa5543",
   "metadata": {
    "ExecuteTime": {
     "end_time": "2024-12-10T01:02:02.635032Z",
     "start_time": "2024-12-10T01:02:02.507660Z"
    }
   },
   "outputs": [
    {
     "data": {
      "text/html": [
       "<div>\n",
       "<style scoped>\n",
       "    .dataframe tbody tr th:only-of-type {\n",
       "        vertical-align: middle;\n",
       "    }\n",
       "\n",
       "    .dataframe tbody tr th {\n",
       "        vertical-align: top;\n",
       "    }\n",
       "\n",
       "    .dataframe thead th {\n",
       "        text-align: right;\n",
       "    }\n",
       "</style>\n",
       "<table border=\"1\" class=\"dataframe\">\n",
       "  <thead>\n",
       "    <tr style=\"text-align: right;\">\n",
       "      <th></th>\n",
       "      <th>title</th>\n",
       "      <th>link</th>\n",
       "      <th>description</th>\n",
       "    </tr>\n",
       "  </thead>\n",
       "  <tbody>\n",
       "    <tr>\n",
       "      <th>0</th>\n",
       "      <td>챗지피티 웹에서 검색 기능이 안돼요</td>\n",
       "      <td>https://kin.naver.com/qna/detail.naver?d1id=1&amp;...</td>\n",
       "      <td>... 챗지피티 접속해서 질문을 하면</td>\n",
       "    </tr>\n",
       "    <tr>\n",
       "      <th>1</th>\n",
       "      <td>챗지피티 책 내용 요약 믿을만 한가요?</td>\n",
       "      <td>https://kin.naver.com/qna/detail.naver?d1id=1&amp;...</td>\n",
       "      <td>챗지피티 책 내용 요약 믿을만 한가요</td>\n",
       "    </tr>\n",
       "    <tr>\n",
       "      <th>2</th>\n",
       "      <td>챗지피티 로그인 불가</td>\n",
       "      <td>https://kin.naver.com/qna/detail.naver?d1id=1&amp;...</td>\n",
       "      <td>챗지피티 구굴로그인 시도하면 이렇게</td>\n",
       "    </tr>\n",
       "    <tr>\n",
       "      <th>3</th>\n",
       "      <td>챗지피티 무료인가요?</td>\n",
       "      <td>https://kin.naver.com/qna/detail.naver?d1id=1&amp;...</td>\n",
       "      <td>... 아니요, 챗지피티와 클로드 둘</td>\n",
       "    </tr>\n",
       "    <tr>\n",
       "      <th>4</th>\n",
       "      <td>챗지피티 코딩</td>\n",
       "      <td>https://kin.naver.com/qna/detail.naver?d1id=1&amp;...</td>\n",
       "      <td>챗지피티로 코딩하면 티 나나요? 티가</td>\n",
       "    </tr>\n",
       "    <tr>\n",
       "      <th>5</th>\n",
       "      <td>챗지피티 유료</td>\n",
       "      <td>https://kin.naver.com/qna/detail.naver?d1id=1&amp;...</td>\n",
       "      <td>챗지피티 어플에서 4버전을 쓰려면 결</td>\n",
       "    </tr>\n",
       "    <tr>\n",
       "      <th>6</th>\n",
       "      <td>챗지피티 영어 해석 믿을만한가요?</td>\n",
       "      <td>https://kin.naver.com/qna/detail.naver?d1id=11...</td>\n",
       "      <td>제목 그대로 챗지피티 영어 해석 믿을</td>\n",
       "    </tr>\n",
       "    <tr>\n",
       "      <th>7</th>\n",
       "      <td>챗지피티 여부 검사</td>\n",
       "      <td>https://kin.naver.com/qna/detail.naver?d1id=8&amp;...</td>\n",
       "      <td>글을 챗지피티가 썻는지 검사하는 방법</td>\n",
       "    </tr>\n",
       "    <tr>\n",
       "      <th>8</th>\n",
       "      <td>자소서 챗지피티 유사도 18%</td>\n",
       "      <td>https://kin.naver.com/qna/detail.naver?d1id=11...</td>\n",
       "      <td>자소서 챗지피티 유사도 18%나왓는데</td>\n",
       "    </tr>\n",
       "    <tr>\n",
       "      <th>9</th>\n",
       "      <td>취업 자소서 챗지피티 써도 되나요?</td>\n",
       "      <td>https://kin.naver.com/qna/detail.naver?d1id=4&amp;...</td>\n",
       "      <td>... 챗지피티 위주로 내용 쓰려는데</td>\n",
       "    </tr>\n",
       "    <tr>\n",
       "      <th>10</th>\n",
       "      <td>챗지피티 허용 버전</td>\n",
       "      <td>https://kin.naver.com/qna/detail.naver?d1id=1&amp;...</td>\n",
       "      <td>챗지피티 구형 폰에서도 문제없이 잘</td>\n",
       "    </tr>\n",
       "    <tr>\n",
       "      <th>11</th>\n",
       "      <td>챗지피티 과제</td>\n",
       "      <td>https://kin.naver.com/qna/detail.naver?d1id=1&amp;...</td>\n",
       "      <td>... 복붙한 것도 아니고 그냥 보고</td>\n",
       "    </tr>\n",
       "    <tr>\n",
       "      <th>12</th>\n",
       "      <td>겜스고 챗지피티</td>\n",
       "      <td>https://kin.naver.com/qna/detail.naver?d1id=1&amp;...</td>\n",
       "      <td>겜스고로 챗지피티 계정을 공유해서 사</td>\n",
       "    </tr>\n",
       "    <tr>\n",
       "      <th>13</th>\n",
       "      <td>챗지피티 돌리는심리</td>\n",
       "      <td>https://kin.naver.com/qna/detail.naver?d1id=8&amp;...</td>\n",
       "      <td>아니 진짜 지식인에 챗지피티 답변 왜</td>\n",
       "    </tr>\n",
       "    <tr>\n",
       "      <th>14</th>\n",
       "      <td>챗지피티 구독 해지 방법</td>\n",
       "      <td>https://kin.naver.com/qna/detail.naver?d1id=1&amp;...</td>\n",
       "      <td>챗지피티 구독을 취소하고 싶은데 MY</td>\n",
       "    </tr>\n",
       "    <tr>\n",
       "      <th>15</th>\n",
       "      <td>챗지피티 유료버전</td>\n",
       "      <td>https://kin.naver.com/qna/detail.naver?d1id=1&amp;...</td>\n",
       "      <td>챗지피티 유료버전을 결제하고 쓰고있는</td>\n",
       "    </tr>\n",
       "    <tr>\n",
       "      <th>16</th>\n",
       "      <td>챗지피티 아무 폰이나 다 사용 가능해요?</td>\n",
       "      <td>https://kin.naver.com/qna/detail.naver?d1id=1&amp;...</td>\n",
       "      <td>핸드폰 사양이 낮거나 옛날 폰이라면</td>\n",
       "    </tr>\n",
       "    <tr>\n",
       "      <th>17</th>\n",
       "      <td>네이버는 챗지피티 지식인한정 손절칠 생각 없나여</td>\n",
       "      <td>https://kin.naver.com/qna/detail.naver?d1id=1&amp;...</td>\n",
       "      <td>네이버 다니는 사람들도 지식인 쓸텐데</td>\n",
       "    </tr>\n",
       "    <tr>\n",
       "      <th>18</th>\n",
       "      <td>챗지피티 다운로드</td>\n",
       "      <td>https://kin.naver.com/qna/detail.naver?d1id=2&amp;...</td>\n",
       "      <td>회사에서 챗지피티 어플 다운 받아서</td>\n",
       "    </tr>\n",
       "    <tr>\n",
       "      <th>19</th>\n",
       "      <td>챗지피티 4.0정품 뭔가요</td>\n",
       "      <td>https://kin.naver.com/qna/detail.naver?d1id=1&amp;...</td>\n",
       "      <td>릴스나 쇼츠에서 자주 보이는 그림 그</td>\n",
       "    </tr>\n",
       "    <tr>\n",
       "      <th>20</th>\n",
       "      <td>챗지피티 자동완성 문제 발생</td>\n",
       "      <td>https://kin.naver.com/qna/detail.naver?d1id=1&amp;...</td>\n",
       "      <td>... 지피티 한달을 사용하면서 이런</td>\n",
       "    </tr>\n",
       "    <tr>\n",
       "      <th>21</th>\n",
       "      <td>지식인 챗지피티</td>\n",
       "      <td>https://kin.naver.com/qna/detail.naver?d1id=3&amp;...</td>\n",
       "      <td>... 챗지피티임 근데 내용이 다똑같</td>\n",
       "    </tr>\n",
       "    <tr>\n",
       "      <th>22</th>\n",
       "      <td>챗지피티 로그인 문제</td>\n",
       "      <td>https://kin.naver.com/qna/detail.naver?d1id=1&amp;...</td>\n",
       "      <td>챗지피티 어제까지 잘쓰다가 갑자기 오</td>\n",
       "    </tr>\n",
       "    <tr>\n",
       "      <th>23</th>\n",
       "      <td>챗지피티 4.0 유료 이미지 분석 제한</td>\n",
       "      <td>https://kin.naver.com/qna/detail.naver?d1id=1&amp;...</td>\n",
       "      <td>챗지피티 4.0 유료 결제시 이미지</td>\n",
       "    </tr>\n",
       "    <tr>\n",
       "      <th>24</th>\n",
       "      <td>챗지피티 활용 어디까지 걸리나요??</td>\n",
       "      <td>https://kin.naver.com/qna/detail.naver?d1id=11...</td>\n",
       "      <td>레포트 작성하면서 개요 작성하고 목차</td>\n",
       "    </tr>\n",
       "    <tr>\n",
       "      <th>25</th>\n",
       "      <td>챗지피티 4.0</td>\n",
       "      <td>https://kin.naver.com/qna/detail.naver?d1id=1&amp;...</td>\n",
       "      <td>제가 원래 구글에서 지피티 3.5를</td>\n",
       "    </tr>\n",
       "    <tr>\n",
       "      <th>26</th>\n",
       "      <td>챗지피티 플러스 환불법</td>\n",
       "      <td>https://kin.naver.com/qna/detail.naver?d1id=4&amp;...</td>\n",
       "      <td>... 여러 번 문의드려도 구글에서</td>\n",
       "    </tr>\n",
       "    <tr>\n",
       "      <th>27</th>\n",
       "      <td>자소서에 챗지피티 활용</td>\n",
       "      <td>https://kin.naver.com/qna/detail.naver?d1id=3&amp;...</td>\n",
       "      <td>고등학교에 낼 자소서를 쓰고 있는데</td>\n",
       "    </tr>\n",
       "    <tr>\n",
       "      <th>28</th>\n",
       "      <td>도대체 지식인에다 엉터리 챗지피티 답</td>\n",
       "      <td>https://kin.naver.com/qna/detail.naver?d1id=1&amp;...</td>\n",
       "      <td>도대체 지식인에다 엉터리 챗지피티 답</td>\n",
       "    </tr>\n",
       "    <tr>\n",
       "      <th>29</th>\n",
       "      <td>챗지피티 오류</td>\n",
       "      <td>https://kin.naver.com/qna/detail.naver?d1id=1&amp;...</td>\n",
       "      <td>챗 지피티를 이용할때 제가 질문한 질</td>\n",
       "    </tr>\n",
       "  </tbody>\n",
       "</table>\n",
       "</div>"
      ],
      "text/plain": [
       "                         title  \\\n",
       "0          챗지피티 웹에서 검색 기능이 안돼요   \n",
       "1        챗지피티 책 내용 요약 믿을만 한가요?   \n",
       "2                  챗지피티 로그인 불가   \n",
       "3                  챗지피티 무료인가요?   \n",
       "4                      챗지피티 코딩   \n",
       "5                      챗지피티 유료   \n",
       "6           챗지피티 영어 해석 믿을만한가요?   \n",
       "7                   챗지피티 여부 검사   \n",
       "8             자소서 챗지피티 유사도 18%   \n",
       "9          취업 자소서 챗지피티 써도 되나요?   \n",
       "10                  챗지피티 허용 버전   \n",
       "11                     챗지피티 과제   \n",
       "12                    겜스고 챗지피티   \n",
       "13                  챗지피티 돌리는심리   \n",
       "14               챗지피티 구독 해지 방법   \n",
       "15                   챗지피티 유료버전   \n",
       "16      챗지피티 아무 폰이나 다 사용 가능해요?   \n",
       "17  네이버는 챗지피티 지식인한정 손절칠 생각 없나여   \n",
       "18                   챗지피티 다운로드   \n",
       "19              챗지피티 4.0정품 뭔가요   \n",
       "20             챗지피티 자동완성 문제 발생   \n",
       "21                    지식인 챗지피티   \n",
       "22                 챗지피티 로그인 문제   \n",
       "23       챗지피티 4.0 유료 이미지 분석 제한   \n",
       "24         챗지피티 활용 어디까지 걸리나요??   \n",
       "25                    챗지피티 4.0   \n",
       "26                챗지피티 플러스 환불법   \n",
       "27                자소서에 챗지피티 활용   \n",
       "28        도대체 지식인에다 엉터리 챗지피티 답   \n",
       "29                     챗지피티 오류   \n",
       "\n",
       "                                                 link           description  \n",
       "0   https://kin.naver.com/qna/detail.naver?d1id=1&...  ... 챗지피티 접속해서 질문을 하면  \n",
       "1   https://kin.naver.com/qna/detail.naver?d1id=1&...  챗지피티 책 내용 요약 믿을만 한가요  \n",
       "2   https://kin.naver.com/qna/detail.naver?d1id=1&...  챗지피티 구굴로그인 시도하면 이렇게   \n",
       "3   https://kin.naver.com/qna/detail.naver?d1id=1&...  ... 아니요, 챗지피티와 클로드 둘  \n",
       "4   https://kin.naver.com/qna/detail.naver?d1id=1&...  챗지피티로 코딩하면 티 나나요? 티가  \n",
       "5   https://kin.naver.com/qna/detail.naver?d1id=1&...  챗지피티 어플에서 4버전을 쓰려면 결  \n",
       "6   https://kin.naver.com/qna/detail.naver?d1id=11...  제목 그대로 챗지피티 영어 해석 믿을  \n",
       "7   https://kin.naver.com/qna/detail.naver?d1id=8&...  글을 챗지피티가 썻는지 검사하는 방법  \n",
       "8   https://kin.naver.com/qna/detail.naver?d1id=11...  자소서 챗지피티 유사도 18%나왓는데  \n",
       "9   https://kin.naver.com/qna/detail.naver?d1id=4&...  ... 챗지피티 위주로 내용 쓰려는데  \n",
       "10  https://kin.naver.com/qna/detail.naver?d1id=1&...  챗지피티 구형 폰에서도 문제없이 잘   \n",
       "11  https://kin.naver.com/qna/detail.naver?d1id=1&...  ... 복붙한 것도 아니고 그냥 보고  \n",
       "12  https://kin.naver.com/qna/detail.naver?d1id=1&...  겜스고로 챗지피티 계정을 공유해서 사  \n",
       "13  https://kin.naver.com/qna/detail.naver?d1id=8&...  아니 진짜 지식인에 챗지피티 답변 왜  \n",
       "14  https://kin.naver.com/qna/detail.naver?d1id=1&...  챗지피티 구독을 취소하고 싶은데 MY  \n",
       "15  https://kin.naver.com/qna/detail.naver?d1id=1&...  챗지피티 유료버전을 결제하고 쓰고있는  \n",
       "16  https://kin.naver.com/qna/detail.naver?d1id=1&...  핸드폰 사양이 낮거나 옛날 폰이라면   \n",
       "17  https://kin.naver.com/qna/detail.naver?d1id=1&...  네이버 다니는 사람들도 지식인 쓸텐데  \n",
       "18  https://kin.naver.com/qna/detail.naver?d1id=2&...  회사에서 챗지피티 어플 다운 받아서   \n",
       "19  https://kin.naver.com/qna/detail.naver?d1id=1&...  릴스나 쇼츠에서 자주 보이는 그림 그  \n",
       "20  https://kin.naver.com/qna/detail.naver?d1id=1&...  ... 지피티 한달을 사용하면서 이런  \n",
       "21  https://kin.naver.com/qna/detail.naver?d1id=3&...  ... 챗지피티임 근데 내용이 다똑같  \n",
       "22  https://kin.naver.com/qna/detail.naver?d1id=1&...  챗지피티 어제까지 잘쓰다가 갑자기 오  \n",
       "23  https://kin.naver.com/qna/detail.naver?d1id=1&...  챗지피티 4.0 유료 결제시 이미지   \n",
       "24  https://kin.naver.com/qna/detail.naver?d1id=11...  레포트 작성하면서 개요 작성하고 목차  \n",
       "25  https://kin.naver.com/qna/detail.naver?d1id=1&...  제가 원래 구글에서 지피티 3.5를   \n",
       "26  https://kin.naver.com/qna/detail.naver?d1id=4&...  ... 여러 번 문의드려도 구글에서   \n",
       "27  https://kin.naver.com/qna/detail.naver?d1id=3&...  고등학교에 낼 자소서를 쓰고 있는데   \n",
       "28  https://kin.naver.com/qna/detail.naver?d1id=1&...  도대체 지식인에다 엉터리 챗지피티 답  \n",
       "29  https://kin.naver.com/qna/detail.naver?d1id=1&...  챗 지피티를 이용할때 제가 질문한 질  "
      ]
     },
     "execution_count": 75,
     "metadata": {},
     "output_type": "execute_result"
    }
   ],
   "source": [
    "import requests\n",
    "import pandas as pd\n",
    "import json # response.text를 json 딕셔너리로\n",
    "client_id = \"wh1i4GrdqHljQf6Tfw5B\"\n",
    "client_secret = \"6ZZI57w7iM\"\n",
    "query = '챗지피티'\n",
    "items_list = []\n",
    "url = f'https://openapi.naver.com/v1/search/kin.json?query={query}&display=30'\n",
    "headers = {\"X-Naver-Client-Id\":client_id, \n",
    "           \"X-Naver-Client-Secret\":client_secret}\n",
    "response = requests.get(url, headers = headers)\n",
    "# print(response.text[:500])\n",
    "items = json.loads(response.text)['items']\n",
    "for item in items:\n",
    "    title       = item['title'].replace('<b>', '').replace('</b>', '')\n",
    "    link        = item['link']\n",
    "    description = item['description'].replace('<b>', '').replace('</b>', '')[:20]\n",
    "    items_list.append([title, link, description])\n",
    "pd.DataFrame(items_list, \n",
    "             columns = ['title', 'link', 'description'])"
   ]
  },
  {
   "cell_type": "markdown",
   "id": "4ada5780",
   "metadata": {},
   "source": [
    "### quiz) 네이버 open API를 이용해서 청바지 이미지 100건의 데이터를 img_list.csv파일로 출력"
   ]
  },
  {
   "cell_type": "code",
   "execution_count": 76,
   "id": "d84db789",
   "metadata": {
    "ExecuteTime": {
     "end_time": "2024-12-10T01:02:02.651722Z",
     "start_time": "2024-12-10T01:02:02.641027Z"
    }
   },
   "outputs": [],
   "source": [
    "def get_image_list(query):\n",
    "    import requests\n",
    "    import json # response.text를 json 딕셔너리로\n",
    "    client_id = \"wh1i4GrdqHljQf6Tfw5B\"\n",
    "    client_secret = \"6ZZI57w7iM\"\n",
    "    img_list = []\n",
    "    url = f'https://openapi.naver.com/v1/search/image?query={query}&display=100'\n",
    "    headers = {\"X-Naver-Client-Id\":client_id, \n",
    "               \"X-Naver-Client-Secret\":client_secret}\n",
    "    response = requests.get(url, headers = headers)\n",
    "    # print(response.text)[\"items\"]\n",
    "    items = json.loads(response.text)['items']\n",
    "    for idx, item in enumerate(items):\n",
    "        title      = item['title']\n",
    "        link       = item['link']\n",
    "        thumbnail  = item['thumbnail']\n",
    "        sizeheight = int(item['sizeheight'])\n",
    "        sizewidth  = int(item['sizewidth'])\n",
    "        # img_list.append([title, link, thumbnail, sizeheight, sizewidth]) # sol 1\n",
    "        img_list.append({'제목':title, # sol 2\n",
    "                         '링크':link,\n",
    "                         '썸네일':thumbnail,\n",
    "                         '높이':sizeheight,\n",
    "                         '폭':sizewidth})\n",
    "        # link 파일(http://~~~~.jpg)을 2.jpg 저장\n",
    "        if idx == 79:\n",
    "            print('▒▒▒▒▒▒▒▒▒▒ 80% 진행완료 ▒▒▒▒▒▒▒▒▒▒')\n",
    "    return img_list"
   ]
  },
  {
   "cell_type": "code",
   "execution_count": 77,
   "id": "83f94964",
   "metadata": {
    "ExecuteTime": {
     "end_time": "2024-12-10T01:02:02.935060Z",
     "start_time": "2024-12-10T01:02:02.654715Z"
    }
   },
   "outputs": [
    {
     "name": "stdout",
     "output_type": "stream",
     "text": [
      "▒▒▒▒▒▒▒▒▒▒ 80% 진행완료 ▒▒▒▒▒▒▒▒▒▒\n"
     ]
    },
    {
     "data": {
      "text/html": [
       "<div>\n",
       "<style scoped>\n",
       "    .dataframe tbody tr th:only-of-type {\n",
       "        vertical-align: middle;\n",
       "    }\n",
       "\n",
       "    .dataframe tbody tr th {\n",
       "        vertical-align: top;\n",
       "    }\n",
       "\n",
       "    .dataframe thead th {\n",
       "        text-align: right;\n",
       "    }\n",
       "</style>\n",
       "<table border=\"1\" class=\"dataframe\">\n",
       "  <thead>\n",
       "    <tr style=\"text-align: right;\">\n",
       "      <th></th>\n",
       "      <th>제목</th>\n",
       "      <th>링크</th>\n",
       "      <th>썸네일</th>\n",
       "      <th>높이</th>\n",
       "      <th>폭</th>\n",
       "    </tr>\n",
       "  </thead>\n",
       "  <tbody>\n",
       "    <tr>\n",
       "      <th>0</th>\n",
       "      <td>예스라인 프런트 포켓 스판 청바지 남자청바지 일자청바지 작업복 바지 남자청바지</td>\n",
       "      <td>http://shopping.phinf.naver.net/main_5009862/5...</td>\n",
       "      <td>https://search.pstatic.net/common/?type=b150&amp;s...</td>\n",
       "      <td>1000</td>\n",
       "      <td>1000</td>\n",
       "    </tr>\n",
       "  </tbody>\n",
       "</table>\n",
       "</div>"
      ],
      "text/plain": [
       "                                            제목  \\\n",
       "0  예스라인 프런트 포켓 스판 청바지 남자청바지 일자청바지 작업복 바지 남자청바지   \n",
       "\n",
       "                                                  링크  \\\n",
       "0  http://shopping.phinf.naver.net/main_5009862/5...   \n",
       "\n",
       "                                                 썸네일    높이     폭  \n",
       "0  https://search.pstatic.net/common/?type=b150&s...  1000  1000  "
      ]
     },
     "execution_count": 77,
     "metadata": {},
     "output_type": "execute_result"
    }
   ],
   "source": [
    "img_list = get_image_list('청바지')\n",
    "import pandas as pd\n",
    "df = pd.DataFrame(img_list,\n",
    "                 # columns = ['title', 'link', 'thumbnail', 'sizeheight', 'sizewidth'] # sol 1\n",
    "                 )\n",
    "df.head(1)"
   ]
  },
  {
   "cell_type": "code",
   "execution_count": 78,
   "id": "9320f2ff",
   "metadata": {
    "ExecuteTime": {
     "end_time": "2024-12-10T01:02:02.951753Z",
     "start_time": "2024-12-10T01:02:02.938052Z"
    }
   },
   "outputs": [
    {
     "name": "stdout",
     "output_type": "stream",
     "text": [
      "http://shopping.phinf.naver.net/main_5009862/50098626189.20240901193238.jpg\n"
     ]
    }
   ],
   "source": [
    "print(df.loc[0, '링크'])"
   ]
  },
  {
   "cell_type": "code",
   "execution_count": 79,
   "id": "69334a7e",
   "metadata": {
    "ExecuteTime": {
     "end_time": "2024-12-10T01:02:02.968409Z",
     "start_time": "2024-12-10T01:02:02.954745Z"
    }
   },
   "outputs": [],
   "source": [
    "def save_img(i, url):\n",
    "    file_extension = url.split('.')[-1]\n",
    "    quote_index = file_extension.find('?')\n",
    "    if quote_index != -1:\n",
    "         file_extension = file_extension[:quote_index]\n",
    "    img = requests.get(url).content # binary image\n",
    "    open('image/' + str(i + 1) + '.' + file_extension, 'wb').write(img)"
   ]
  },
  {
   "cell_type": "code",
   "execution_count": 80,
   "id": "a0483106",
   "metadata": {
    "ExecuteTime": {
     "end_time": "2024-12-10T01:02:03.035226Z",
     "start_time": "2024-12-10T01:02:02.970402Z"
    }
   },
   "outputs": [],
   "source": [
    "save_img(0, df.loc[0, '링크'])"
   ]
  },
  {
   "cell_type": "code",
   "execution_count": 81,
   "id": "364cbb1a",
   "metadata": {
    "ExecuteTime": {
     "end_time": "2024-12-10T01:02:03.101872Z",
     "start_time": "2024-12-10T01:02:03.037221Z"
    }
   },
   "outputs": [],
   "source": [
    "save_img(21, df.loc[21, '링크'])"
   ]
  },
  {
   "cell_type": "code",
   "execution_count": 82,
   "id": "87394d58",
   "metadata": {
    "ExecuteTime": {
     "end_time": "2024-12-10T01:02:03.118396Z",
     "start_time": "2024-12-10T01:02:03.103874Z"
    }
   },
   "outputs": [],
   "source": [
    "def get_image_list_save_img(query):\n",
    "    import requests\n",
    "    import pandas as pd\n",
    "    import json # response.text를 json 딕셔너리로\n",
    "    client_id = \"wh1i4GrdqHljQf6Tfw5B\"\n",
    "    client_secret = \"6ZZI57w7iM\"\n",
    "    img_list = []\n",
    "    url = f'https://openapi.naver.com/v1/search/image?query={query}&display=100'\n",
    "    headers = {\"X-Naver-Client-Id\":client_id, \n",
    "               \"X-Naver-Client-Secret\":client_secret}\n",
    "    response = requests.get(url, headers = headers)\n",
    "    # print(response.text)[\"items\"]\n",
    "    items = json.loads(response.text)['items']\n",
    "    for idx, item in enumerate(items):\n",
    "        title      = item['title']\n",
    "        link       = item['link']\n",
    "        thumbnail  = item['thumbnail']\n",
    "        sizeheight = int(item['sizeheight'])\n",
    "        sizewidth  = int(item['sizewidth'])\n",
    "        # img_list.append([title, link, thumbnail, sizeheight, sizewidth]) # sol 1\n",
    "        img_list.append({'제목':title, # sol 2\n",
    "                         '링크':link,\n",
    "                         '썸네일':thumbnail,\n",
    "                         '높이':sizeheight,\n",
    "                         '폭':sizewidth})\n",
    "        # link 파일(http://~~~~.jpg)을 2.jpg 저장\n",
    "        save_img(idx, link)\n",
    "        save_img(idx + 1000, thumbnail)\n",
    "    result = pd.DataFrame(img_list)\n",
    "    result.to_csv('image/img_list.csv', index = False)\n",
    "    print('▒▒▒▒▒▒▒▒ 이미지 및 csv 파일 저장 완료 ▒▒▒▒▒▒▒▒')\n",
    "    return result"
   ]
  },
  {
   "cell_type": "code",
   "execution_count": 83,
   "id": "bbf8675e",
   "metadata": {
    "ExecuteTime": {
     "end_time": "2024-12-10T01:02:13.085829Z",
     "start_time": "2024-12-10T01:02:03.121542Z"
    }
   },
   "outputs": [
    {
     "name": "stdout",
     "output_type": "stream",
     "text": [
      "▒▒▒▒▒▒▒▒ 이미지 및 csv 파일 저장 완료 ▒▒▒▒▒▒▒▒\n"
     ]
    },
    {
     "data": {
      "text/html": [
       "<div>\n",
       "<style scoped>\n",
       "    .dataframe tbody tr th:only-of-type {\n",
       "        vertical-align: middle;\n",
       "    }\n",
       "\n",
       "    .dataframe tbody tr th {\n",
       "        vertical-align: top;\n",
       "    }\n",
       "\n",
       "    .dataframe thead th {\n",
       "        text-align: right;\n",
       "    }\n",
       "</style>\n",
       "<table border=\"1\" class=\"dataframe\">\n",
       "  <thead>\n",
       "    <tr style=\"text-align: right;\">\n",
       "      <th></th>\n",
       "      <th>제목</th>\n",
       "      <th>링크</th>\n",
       "      <th>썸네일</th>\n",
       "      <th>높이</th>\n",
       "      <th>폭</th>\n",
       "    </tr>\n",
       "  </thead>\n",
       "  <tbody>\n",
       "    <tr>\n",
       "      <th>0</th>\n",
       "      <td>예스라인 프런트 포켓 스판 청바지 남자청바지 일자청바지 작업복 바지 남자청바지</td>\n",
       "      <td>http://shopping.phinf.naver.net/main_5009862/5...</td>\n",
       "      <td>https://search.pstatic.net/common/?type=b150&amp;s...</td>\n",
       "      <td>1000</td>\n",
       "      <td>1000</td>\n",
       "    </tr>\n",
       "    <tr>\n",
       "      <th>1</th>\n",
       "      <td>남성 밴딩 블루 워싱데님팬츠 청바지 레귤러 (8010) : 원 무드</td>\n",
       "      <td>http://shop1.phinf.naver.net/20220516_44/16526...</td>\n",
       "      <td>https://search.pstatic.net/common/?type=b150&amp;s...</td>\n",
       "      <td>1000</td>\n",
       "      <td>1000</td>\n",
       "    </tr>\n",
       "    <tr>\n",
       "      <th>2</th>\n",
       "      <td>아저씨청바지 50대 중년 남성 청바지 얇은 일자 K16</td>\n",
       "      <td>http://shopping.phinf.naver.net/main_4973253/4...</td>\n",
       "      <td>https://search.pstatic.net/common/?type=b150&amp;s...</td>\n",
       "      <td>300</td>\n",
       "      <td>300</td>\n",
       "    </tr>\n",
       "    <tr>\n",
       "      <th>3</th>\n",
       "      <td>데님 청바지 딜링미 워싱 포인트 베이직</td>\n",
       "      <td>http://shopping.phinf.naver.net/main_4603799/4...</td>\n",
       "      <td>https://search.pstatic.net/common/?type=b150&amp;s...</td>\n",
       "      <td>1200</td>\n",
       "      <td>1200</td>\n",
       "    </tr>\n",
       "    <tr>\n",
       "      <th>4</th>\n",
       "      <td>남성기모청바지 남자세미와이드청바지 밴딩 데님청바지 : 우모르</td>\n",
       "      <td>http://shop1.phinf.naver.net/20241115_109/1731...</td>\n",
       "      <td>https://search.pstatic.net/common/?type=b150&amp;s...</td>\n",
       "      <td>1000</td>\n",
       "      <td>1000</td>\n",
       "    </tr>\n",
       "  </tbody>\n",
       "</table>\n",
       "</div>"
      ],
      "text/plain": [
       "                                            제목  \\\n",
       "0  예스라인 프런트 포켓 스판 청바지 남자청바지 일자청바지 작업복 바지 남자청바지   \n",
       "1        남성 밴딩 블루 워싱데님팬츠 청바지 레귤러 (8010) : 원 무드   \n",
       "2               아저씨청바지 50대 중년 남성 청바지 얇은 일자 K16   \n",
       "3                        데님 청바지 딜링미 워싱 포인트 베이직   \n",
       "4            남성기모청바지 남자세미와이드청바지 밴딩 데님청바지 : 우모르   \n",
       "\n",
       "                                                  링크  \\\n",
       "0  http://shopping.phinf.naver.net/main_5009862/5...   \n",
       "1  http://shop1.phinf.naver.net/20220516_44/16526...   \n",
       "2  http://shopping.phinf.naver.net/main_4973253/4...   \n",
       "3  http://shopping.phinf.naver.net/main_4603799/4...   \n",
       "4  http://shop1.phinf.naver.net/20241115_109/1731...   \n",
       "\n",
       "                                                 썸네일    높이     폭  \n",
       "0  https://search.pstatic.net/common/?type=b150&s...  1000  1000  \n",
       "1  https://search.pstatic.net/common/?type=b150&s...  1000  1000  \n",
       "2  https://search.pstatic.net/common/?type=b150&s...   300   300  \n",
       "3  https://search.pstatic.net/common/?type=b150&s...  1200  1200  \n",
       "4  https://search.pstatic.net/common/?type=b150&s...  1000  1000  "
      ]
     },
     "execution_count": 83,
     "metadata": {},
     "output_type": "execute_result"
    }
   ],
   "source": [
    "get_image_list_save_img('청바지').head()"
   ]
  },
  {
   "cell_type": "markdown",
   "id": "58e60df4",
   "metadata": {},
   "source": [
    "## 2.3 정규표현식을 활용한 데이터 수집\n",
    "- RSS에서 search(해당 패턴 처음 내용 중 일부), findall(해당 패턴 다 찾기)"
   ]
  },
  {
   "cell_type": "code",
   "execution_count": 84,
   "id": "b2bcbe50",
   "metadata": {
    "ExecuteTime": {
     "end_time": "2024-12-10T01:02:13.093799Z",
     "start_time": "2024-12-10T01:02:13.088825Z"
    }
   },
   "outputs": [],
   "source": [
    "import re\n",
    "parsing_str = \"\"\"010-9999-9999  02-888-1234\n",
    "02-7777-1212 <city>서울</city> <city>\n",
    "용인</city>\n",
    "<province>서울,인천,경기</province>\n",
    "981212-1052009\n",
    "\"\"\""
   ]
  },
  {
   "cell_type": "code",
   "execution_count": 85,
   "id": "d0350779",
   "metadata": {
    "ExecuteTime": {
     "end_time": "2024-12-10T01:02:13.105439Z",
     "start_time": "2024-12-10T01:02:13.096792Z"
    }
   },
   "outputs": [
    {
     "data": {
      "text/plain": [
       "['010-9999-9999', '02-888-1234', '02-7777-1212']"
      ]
     },
     "execution_count": 85,
     "metadata": {},
     "output_type": "execute_result"
    }
   ],
   "source": [
    "phone = re.findall(r'\\d{2,3}-\\d{3,4}-\\d{4}', parsing_str)\n",
    "phone"
   ]
  },
  {
   "cell_type": "code",
   "execution_count": 86,
   "id": "53aba2d3",
   "metadata": {
    "ExecuteTime": {
     "end_time": "2024-12-10T01:02:13.119037Z",
     "start_time": "2024-12-10T01:02:13.108836Z"
    }
   },
   "outputs": [
    {
     "data": {
      "text/plain": [
       "['<city>서울</city>', '<city>\\n용인</city>']"
      ]
     },
     "execution_count": 86,
     "metadata": {},
     "output_type": "execute_result"
    }
   ],
   "source": [
    "# re.DOTALL \\n 포함\n",
    "city = re.findall(r'<city>.+?</city>', parsing_str, re.DOTALL)\n",
    "city"
   ]
  },
  {
   "cell_type": "code",
   "execution_count": 87,
   "id": "d7c0a1a0",
   "metadata": {
    "ExecuteTime": {
     "end_time": "2024-12-10T01:02:13.129913Z",
     "start_time": "2024-12-10T01:02:13.122030Z"
    }
   },
   "outputs": [
    {
     "data": {
      "text/plain": [
       "<re.Match object; span=(0, 13), match='010-9999-9999'>"
      ]
     },
     "execution_count": 87,
     "metadata": {},
     "output_type": "execute_result"
    }
   ],
   "source": [
    "phone = re.search(r'\\d{2,3}-\\d{3,4}-\\d{4}', parsing_str) # 해당 정규표현식의 첫 번째\n",
    "phone"
   ]
  },
  {
   "cell_type": "code",
   "execution_count": 88,
   "id": "324124ad",
   "metadata": {
    "ExecuteTime": {
     "end_time": "2024-12-10T01:02:13.144808Z",
     "start_time": "2024-12-10T01:02:13.136802Z"
    }
   },
   "outputs": [
    {
     "data": {
      "text/plain": [
       "'010-9999-9999'"
      ]
     },
     "execution_count": 88,
     "metadata": {},
     "output_type": "execute_result"
    }
   ],
   "source": [
    "phone.group(0)"
   ]
  },
  {
   "cell_type": "code",
   "execution_count": 89,
   "id": "dd318f6d",
   "metadata": {
    "ExecuteTime": {
     "end_time": "2024-12-10T01:02:13.154766Z",
     "start_time": "2024-12-10T01:02:13.148770Z"
    }
   },
   "outputs": [
    {
     "name": "stdout",
     "output_type": "stream",
     "text": [
      "정규표현식 내용 전체     : <province>서울,인천,경기</province>\n",
      "정규표현식 내 괄호 안 추출: 서울,인천,경기\n"
     ]
    }
   ],
   "source": [
    "# 추출할 부분만 ()\n",
    "province = re.search(r'<province>(.+)</province>', parsing_str)\n",
    "print('정규표현식 내용 전체     :', province.group(0))\n",
    "print('정규표현식 내 괄호 안 추출:', province.group(1))"
   ]
  },
  {
   "cell_type": "code",
   "execution_count": 90,
   "id": "092a8607",
   "metadata": {
    "ExecuteTime": {
     "end_time": "2024-12-10T01:02:13.164727Z",
     "start_time": "2024-12-10T01:02:13.157746Z"
    }
   },
   "outputs": [
    {
     "name": "stdout",
     "output_type": "stream",
     "text": [
      "981212-1052009\n",
      "981212\n",
      "1052009\n"
     ]
    }
   ],
   "source": [
    "juminno = re.search(r'(\\d{6})-(\\d{7})', parsing_str)\n",
    "print(juminno.group(0))\n",
    "print(juminno.group(1))\n",
    "print(juminno.group(2))"
   ]
  },
  {
   "cell_type": "code",
   "execution_count": 91,
   "id": "e34e40db",
   "metadata": {
    "ExecuteTime": {
     "end_time": "2024-12-10T01:02:13.179011Z",
     "start_time": "2024-12-10T01:02:13.167719Z"
    }
   },
   "outputs": [
    {
     "name": "stdout",
     "output_type": "stream",
     "text": [
      "이 영화는 좋아요  이 영화 추천합니다  강추  진짜 강추  진심입니다 \n"
     ]
    }
   ],
   "source": [
    "# 특정 1~2가지 문자 빼기 => replace('뺄문자', '')\n",
    "# 특수문자들 빼기 => findalll\n",
    "text = \"이 영화는 좋아요 ★ 이 영화 추천합니다 ^ 강추 * 진짜 강추 $ 진심입니다 ~ㅋㅋ\"\n",
    "temp = re.findall(r'[가-힣a-zA-Z0-9 ]', text)\n",
    "print(''.join(temp))"
   ]
  },
  {
   "cell_type": "markdown",
   "id": "0746b69e",
   "metadata": {},
   "source": [
    "### 1) 전국 날씨 RSS를 정규표현식 이용해서 가져오기"
   ]
  },
  {
   "cell_type": "code",
   "execution_count": 113,
   "id": "18fc7937",
   "metadata": {
    "ExecuteTime": {
     "end_time": "2024-12-10T01:41:29.673822Z",
     "start_time": "2024-12-10T01:41:29.541730Z"
    }
   },
   "outputs": [
    {
     "name": "stdout",
     "output_type": "stream",
     "text": [
      "서울ㆍ인천ㆍ경기도 지역의 서울 도시의 날씨입니다\n",
      "\t날짜:2024-12-14 오전, 날씨:맑음, 기온:-5~2도, 강수확률:10%\n",
      "\t날짜:2024-12-14 오후, 날씨:맑음, 기온:-5~2도, 강수확률:10%\n",
      "\t날짜:2024-12-15 오전, 날씨:맑음, 기온:-4~3도, 강수확률:10%\n",
      "\t날짜:2024-12-15 오후, 날씨:맑음, 기온:-4~3도, 강수확률:10%\n",
      "\t날짜:2024-12-16 오전, 날씨:맑음, 기온:-4~3도, 강수확률:10%\n",
      "\t날짜:2024-12-16 오후, 날씨:맑음, 기온:-4~3도, 강수확률:10%\n",
      "\t날짜:2024-12-17 오전, 날씨:맑음, 기온:-3~4도, 강수확률:10%\n",
      "\t날짜:2024-12-17 오후, 날씨:맑음, 기온:-3~4도, 강수확률:10%\n",
      "\t날짜:2024-12-18 오전, 날씨:맑음, 기온:-3~4도, 강수확률:10%\n",
      "\t날짜:2024-12-19 오전, 날씨:구름많음, 기온:-3~4도, 강수확률:30%\n",
      "\t날짜:2024-12-20 오전, 날씨:흐림, 기온:-2~5도, 강수확률:40%\n",
      "서울ㆍ인천ㆍ경기도 지역의 인천 도시의 날씨입니다\n",
      "\t날짜:2024-12-14 오전, 날씨:맑음, 기온:-4~2도, 강수확률:10%\n",
      "\t날짜:2024-12-14 오후, 날씨:맑음, 기온:-4~2도, 강수확률:10%\n",
      "\t날짜:2024-12-15 오전, 날씨:맑음, 기온:-3~4도, 강수확률:10%\n",
      "\t날짜:2024-12-15 오후, 날씨:맑음, 기온:-3~4도, 강수확률:10%\n",
      "\t날짜:2024-12-16 오전, 날씨:맑음, 기온:-3~3도, 강수확률:10%\n",
      "\t날짜:2024-12-16 오후, 날씨:맑음, 기온:-3~3도, 강수확률:10%\n",
      "\t날짜:2024-12-17 오전, 날씨:맑음, 기온:-2~4도, 강수확률:10%\n",
      "\t날짜:2024-12-17 오후, 날씨:맑음, 기온:-2~4도, 강수확률:10%\n",
      "\t날짜:2024-12-18 오전, 날씨:맑음, 기온:-2~3도, 강수확률:10%\n",
      "\t날짜:2024-12-19 오전, 날씨:구름많음, 기온:-2~3도, 강수확률:30%\n",
      "\t날짜:2024-12-20 오전, 날씨:흐림, 기온:-1~4도, 강수확률:40%\n",
      "서울ㆍ인천ㆍ경기도 지역의 수원 도시의 날씨입니다\n",
      "\t날짜:2024-12-14 오전, 날씨:맑음, 기온:-6~3도, 강수확률:10%\n",
      "\t날짜:2024-12-14 오후, 날씨:맑음, 기온:-6~3도, 강수확률:10%\n",
      "\t날짜:2024-12-15 오전, 날씨:맑음, 기온:-4~4도, 강수확률:10%\n",
      "\t날짜:2024-12-15 오후, 날씨:맑음, 기온:-4~4도, 강수확률:10%\n",
      "\t날짜:2024-12-16 오전, 날씨:맑음, 기온:-4~4도, 강수확률:10%\n",
      "\t날짜:2024-12-16 오후, 날씨:맑음, 기온:-4~4도, 강수확률:10%\n",
      "\t날짜:2024-12-17 오전, 날씨:맑음, 기온:-3~5도, 강수확률:10%\n",
      "\t날짜:2024-12-17 오후, 날씨:맑음, 기온:-3~5도, 강수확률:10%\n",
      "\t날짜:2024-12-18 오전, 날씨:맑음, 기온:-4~4도, 강수확률:10%\n",
      "\t날짜:2024-12-19 오전, 날씨:구름많음, 기온:-4~4도, 강수확률:30%\n",
      "\t날짜:2024-12-20 오전, 날씨:흐림, 기온:-4~5도, 강수확률:40%\n",
      "서울ㆍ인천ㆍ경기도 지역의 파주 도시의 날씨입니다\n",
      "\t날짜:2024-12-14 오전, 날씨:맑음, 기온:-9~2도, 강수확률:10%\n",
      "\t날짜:2024-12-14 오후, 날씨:맑음, 기온:-9~2도, 강수확률:10%\n",
      "\t날짜:2024-12-15 오전, 날씨:맑음, 기온:-8~3도, 강수확률:10%\n",
      "\t날짜:2024-12-15 오후, 날씨:맑음, 기온:-8~3도, 강수확률:10%\n",
      "\t날짜:2024-12-16 오전, 날씨:맑음, 기온:-8~3도, 강수확률:10%\n",
      "\t날짜:2024-12-16 오후, 날씨:맑음, 기온:-8~3도, 강수확률:10%\n",
      "\t날짜:2024-12-17 오전, 날씨:맑음, 기온:-7~4도, 강수확률:10%\n",
      "\t날짜:2024-12-17 오후, 날씨:맑음, 기온:-7~4도, 강수확률:10%\n",
      "\t날짜:2024-12-18 오전, 날씨:맑음, 기온:-7~3도, 강수확률:10%\n",
      "\t날짜:2024-12-19 오전, 날씨:구름많음, 기온:-7~3도, 강수확률:30%\n",
      "\t날짜:2024-12-20 오전, 날씨:흐림, 기온:-6~4도, 강수확률:40%\n",
      "서울ㆍ인천ㆍ경기도 지역의 이천 도시의 날씨입니다\n",
      "\t날짜:2024-12-14 오전, 날씨:맑음, 기온:-6~3도, 강수확률:10%\n",
      "\t날짜:2024-12-14 오후, 날씨:맑음, 기온:-6~3도, 강수확률:10%\n",
      "\t날짜:2024-12-15 오전, 날씨:맑음, 기온:-5~4도, 강수확률:10%\n",
      "\t날짜:2024-12-15 오후, 날씨:맑음, 기온:-5~4도, 강수확률:10%\n",
      "\t날짜:2024-12-16 오전, 날씨:맑음, 기온:-4~3도, 강수확률:10%\n",
      "\t날짜:2024-12-16 오후, 날씨:맑음, 기온:-4~3도, 강수확률:10%\n",
      "\t날짜:2024-12-17 오전, 날씨:맑음, 기온:-5~4도, 강수확률:10%\n",
      "\t날짜:2024-12-17 오후, 날씨:맑음, 기온:-5~4도, 강수확률:10%\n",
      "\t날짜:2024-12-18 오전, 날씨:맑음, 기온:-5~4도, 강수확률:10%\n",
      "\t날짜:2024-12-19 오전, 날씨:구름많음, 기온:-5~4도, 강수확률:30%\n",
      "\t날짜:2024-12-20 오전, 날씨:흐림, 기온:-6~5도, 강수확률:40%\n",
      "서울ㆍ인천ㆍ경기도 지역의 평택 도시의 날씨입니다\n",
      "\t날짜:2024-12-14 오전, 날씨:맑음, 기온:-5~2도, 강수확률:10%\n",
      "\t날짜:2024-12-14 오후, 날씨:맑음, 기온:-5~2도, 강수확률:10%\n",
      "\t날짜:2024-12-15 오전, 날씨:맑음, 기온:-3~5도, 강수확률:10%\n",
      "\t날짜:2024-12-15 오후, 날씨:맑음, 기온:-3~5도, 강수확률:10%\n",
      "\t날짜:2024-12-16 오전, 날씨:맑음, 기온:-3~4도, 강수확률:10%\n",
      "\t날짜:2024-12-16 오후, 날씨:맑음, 기온:-3~4도, 강수확률:10%\n",
      "\t날짜:2024-12-17 오전, 날씨:맑음, 기온:-3~4도, 강수확률:10%\n",
      "\t날짜:2024-12-17 오후, 날씨:맑음, 기온:-3~4도, 강수확률:10%\n",
      "\t날짜:2024-12-18 오전, 날씨:맑음, 기온:-5~3도, 강수확률:10%\n",
      "\t날짜:2024-12-19 오전, 날씨:구름많음, 기온:-5~3도, 강수확률:30%\n",
      "\t날짜:2024-12-20 오전, 날씨:흐림, 기온:-4~4도, 강수확률:40%\n",
      "강원도영서 지역의 춘천 도시의 날씨입니다\n",
      "\t날짜:2024-12-14 오전, 날씨:맑음, 기온:-6~3도, 강수확률:10%\n",
      "\t날짜:2024-12-14 오후, 날씨:맑음, 기온:-6~3도, 강수확률:10%\n",
      "\t날짜:2024-12-15 오전, 날씨:맑음, 기온:-7~3도, 강수확률:10%\n",
      "\t날짜:2024-12-15 오후, 날씨:맑음, 기온:-7~3도, 강수확률:10%\n",
      "\t날짜:2024-12-16 오전, 날씨:맑음, 기온:-7~3도, 강수확률:10%\n",
      "\t날짜:2024-12-16 오후, 날씨:맑음, 기온:-7~3도, 강수확률:10%\n",
      "\t날짜:2024-12-17 오전, 날씨:맑음, 기온:-7~4도, 강수확률:10%\n",
      "\t날짜:2024-12-17 오후, 날씨:맑음, 기온:-7~4도, 강수확률:10%\n",
      "\t날짜:2024-12-18 오전, 날씨:맑음, 기온:-6~3도, 강수확률:10%\n",
      "\t날짜:2024-12-19 오전, 날씨:구름많음, 기온:-6~3도, 강수확률:30%\n",
      "\t날짜:2024-12-20 오전, 날씨:흐림, 기온:-5~4도, 강수확률:40%\n",
      "강원도영서 지역의 원주 도시의 날씨입니다\n",
      "\t날짜:2024-12-14 오전, 날씨:맑음, 기온:-5~2도, 강수확률:10%\n",
      "\t날짜:2024-12-14 오후, 날씨:맑음, 기온:-5~2도, 강수확률:10%\n",
      "\t날짜:2024-12-15 오전, 날씨:맑음, 기온:-5~4도, 강수확률:10%\n",
      "\t날짜:2024-12-15 오후, 날씨:맑음, 기온:-5~4도, 강수확률:10%\n",
      "\t날짜:2024-12-16 오전, 날씨:맑음, 기온:-5~3도, 강수확률:10%\n",
      "\t날짜:2024-12-16 오후, 날씨:맑음, 기온:-5~3도, 강수확률:10%\n",
      "\t날짜:2024-12-17 오전, 날씨:맑음, 기온:-4~4도, 강수확률:10%\n",
      "\t날짜:2024-12-17 오후, 날씨:맑음, 기온:-4~4도, 강수확률:10%\n",
      "\t날짜:2024-12-18 오전, 날씨:맑음, 기온:-4~5도, 강수확률:10%\n",
      "\t날짜:2024-12-19 오전, 날씨:구름많음, 기온:-4~5도, 강수확률:30%\n",
      "\t날짜:2024-12-20 오전, 날씨:흐림, 기온:-4~5도, 강수확률:40%\n",
      "강원도영동 지역의 강릉 도시의 날씨입니다\n",
      "\t날짜:2024-12-14 오전, 날씨:맑음, 기온:-1~7도, 강수확률:20%\n",
      "\t날짜:2024-12-14 오후, 날씨:맑음, 기온:-1~7도, 강수확률:10%\n",
      "\t날짜:2024-12-15 오전, 날씨:맑음, 기온:-1~6도, 강수확률:10%\n",
      "\t날짜:2024-12-15 오후, 날씨:맑음, 기온:-1~6도, 강수확률:10%\n",
      "\t날짜:2024-12-16 오전, 날씨:맑음, 기온:-2~6도, 강수확률:10%\n",
      "\t날짜:2024-12-16 오후, 날씨:맑음, 기온:-2~6도, 강수확률:10%\n",
      "\t날짜:2024-12-17 오전, 날씨:맑음, 기온:0~7도, 강수확률:10%\n",
      "\t날짜:2024-12-17 오후, 날씨:맑음, 기온:0~7도, 강수확률:10%\n",
      "\t날짜:2024-12-18 오전, 날씨:맑음, 기온:0~8도, 강수확률:20%\n",
      "\t날짜:2024-12-19 오전, 날씨:구름많음, 기온:0~8도, 강수확률:30%\n",
      "\t날짜:2024-12-20 오전, 날씨:구름많음, 기온:1~8도, 강수확률:30%\n",
      "대전ㆍ세종ㆍ충청남도 지역의 대전 도시의 날씨입니다\n",
      "\t날짜:2024-12-14 오전, 날씨:구름많음, 기온:-4~4도, 강수확률:20%\n",
      "\t날짜:2024-12-14 오후, 날씨:맑음, 기온:-4~4도, 강수확률:10%\n",
      "\t날짜:2024-12-15 오전, 날씨:구름많고 비/눈, 기온:-3~6도, 강수확률:60%\n",
      "\t날짜:2024-12-15 오후, 날씨:구름많음, 기온:-3~6도, 강수확률:30%\n",
      "\t날짜:2024-12-16 오전, 날씨:맑음, 기온:-2~5도, 강수확률:20%\n",
      "\t날짜:2024-12-16 오후, 날씨:구름많음, 기온:-2~5도, 강수확률:20%\n",
      "\t날짜:2024-12-17 오전, 날씨:구름많음, 기온:-2~6도, 강수확률:20%\n",
      "\t날짜:2024-12-17 오후, 날씨:구름많음, 기온:-2~6도, 강수확률:20%\n",
      "\t날짜:2024-12-18 오전, 날씨:맑음, 기온:-3~6도, 강수확률:10%\n",
      "\t날짜:2024-12-19 오전, 날씨:구름많음, 기온:-3~6도, 강수확률:30%\n",
      "\t날짜:2024-12-20 오전, 날씨:흐림, 기온:-3~6도, 강수확률:40%\n",
      "대전ㆍ세종ㆍ충청남도 지역의 세종 도시의 날씨입니다\n",
      "\t날짜:2024-12-14 오전, 날씨:구름많음, 기온:-5~3도, 강수확률:20%\n",
      "\t날짜:2024-12-14 오후, 날씨:맑음, 기온:-5~3도, 강수확률:10%\n",
      "\t날짜:2024-12-15 오전, 날씨:구름많고 비/눈, 기온:-4~6도, 강수확률:60%\n",
      "\t날짜:2024-12-15 오후, 날씨:구름많음, 기온:-4~6도, 강수확률:30%\n",
      "\t날짜:2024-12-16 오전, 날씨:맑음, 기온:-2~5도, 강수확률:20%\n",
      "\t날짜:2024-12-16 오후, 날씨:구름많음, 기온:-2~5도, 강수확률:20%\n",
      "\t날짜:2024-12-17 오전, 날씨:구름많음, 기온:-3~4도, 강수확률:20%\n",
      "\t날짜:2024-12-17 오후, 날씨:구름많음, 기온:-3~4도, 강수확률:20%\n",
      "\t날짜:2024-12-18 오전, 날씨:맑음, 기온:-4~4도, 강수확률:10%\n",
      "\t날짜:2024-12-19 오전, 날씨:구름많음, 기온:-4~4도, 강수확률:30%\n",
      "\t날짜:2024-12-20 오전, 날씨:흐림, 기온:-4~5도, 강수확률:40%\n",
      "대전ㆍ세종ㆍ충청남도 지역의 홍성 도시의 날씨입니다\n",
      "\t날짜:2024-12-14 오전, 날씨:구름많음, 기온:-5~4도, 강수확률:20%\n",
      "\t날짜:2024-12-14 오후, 날씨:맑음, 기온:-5~4도, 강수확률:10%\n",
      "\t날짜:2024-12-15 오전, 날씨:구름많고 비/눈, 기온:-2~6도, 강수확률:60%\n",
      "\t날짜:2024-12-15 오후, 날씨:구름많음, 기온:-2~6도, 강수확률:30%\n",
      "\t날짜:2024-12-16 오전, 날씨:맑음, 기온:-2~4도, 강수확률:20%\n",
      "\t날짜:2024-12-16 오후, 날씨:구름많음, 기온:-2~4도, 강수확률:20%\n",
      "\t날짜:2024-12-17 오전, 날씨:구름많음, 기온:-2~5도, 강수확률:20%\n",
      "\t날짜:2024-12-17 오후, 날씨:구름많음, 기온:-2~5도, 강수확률:20%\n",
      "\t날짜:2024-12-18 오전, 날씨:맑음, 기온:-4~5도, 강수확률:10%\n",
      "\t날짜:2024-12-19 오전, 날씨:구름많음, 기온:-4~5도, 강수확률:30%\n",
      "\t날짜:2024-12-20 오전, 날씨:흐림, 기온:-4~5도, 강수확률:40%\n",
      "충청북도 지역의 청주 도시의 날씨입니다\n",
      "\t날짜:2024-12-14 오전, 날씨:맑음, 기온:-3~4도, 강수확률:10%\n",
      "\t날짜:2024-12-14 오후, 날씨:맑음, 기온:-3~4도, 강수확률:10%\n",
      "\t날짜:2024-12-15 오전, 날씨:구름많음, 기온:-2~5도, 강수확률:40%\n",
      "\t날짜:2024-12-15 오후, 날씨:구름많음, 기온:-2~5도, 강수확률:20%\n",
      "\t날짜:2024-12-16 오전, 날씨:맑음, 기온:-2~4도, 강수확률:10%\n",
      "\t날짜:2024-12-16 오후, 날씨:구름많음, 기온:-2~4도, 강수확률:20%\n",
      "\t날짜:2024-12-17 오전, 날씨:맑음, 기온:-3~5도, 강수확률:10%\n",
      "\t날짜:2024-12-17 오후, 날씨:맑음, 기온:-3~5도, 강수확률:10%\n",
      "\t날짜:2024-12-18 오전, 날씨:맑음, 기온:-2~5도, 강수확률:10%\n",
      "\t날짜:2024-12-19 오전, 날씨:구름많음, 기온:-2~5도, 강수확률:30%\n",
      "\t날짜:2024-12-20 오전, 날씨:흐림, 기온:-3~6도, 강수확률:40%\n",
      "충청북도 지역의 충주 도시의 날씨입니다\n",
      "\t날짜:2024-12-14 오전, 날씨:맑음, 기온:-6~2도, 강수확률:10%\n",
      "\t날짜:2024-12-14 오후, 날씨:맑음, 기온:-6~2도, 강수확률:10%\n",
      "\t날짜:2024-12-15 오전, 날씨:구름많음, 기온:-6~4도, 강수확률:40%\n",
      "\t날짜:2024-12-15 오후, 날씨:구름많음, 기온:-6~4도, 강수확률:20%\n",
      "\t날짜:2024-12-16 오전, 날씨:맑음, 기온:-5~3도, 강수확률:10%\n",
      "\t날짜:2024-12-16 오후, 날씨:구름많음, 기온:-5~3도, 강수확률:20%\n",
      "\t날짜:2024-12-17 오전, 날씨:맑음, 기온:-5~4도, 강수확률:10%\n",
      "\t날짜:2024-12-17 오후, 날씨:맑음, 기온:-5~4도, 강수확률:10%\n",
      "\t날짜:2024-12-18 오전, 날씨:맑음, 기온:-4~4도, 강수확률:10%\n",
      "\t날짜:2024-12-19 오전, 날씨:구름많음, 기온:-4~4도, 강수확률:30%\n",
      "\t날짜:2024-12-20 오전, 날씨:흐림, 기온:-4~6도, 강수확률:40%\n",
      "충청북도 지역의 영동 도시의 날씨입니다\n",
      "\t날짜:2024-12-14 오전, 날씨:맑음, 기온:-7~4도, 강수확률:10%\n",
      "\t날짜:2024-12-14 오후, 날씨:맑음, 기온:-7~4도, 강수확률:10%\n",
      "\t날짜:2024-12-15 오전, 날씨:구름많음, 기온:-5~5도, 강수확률:40%\n",
      "\t날짜:2024-12-15 오후, 날씨:구름많음, 기온:-5~5도, 강수확률:20%\n",
      "\t날짜:2024-12-16 오전, 날씨:맑음, 기온:-4~5도, 강수확률:10%\n",
      "\t날짜:2024-12-16 오후, 날씨:구름많음, 기온:-4~5도, 강수확률:20%\n",
      "\t날짜:2024-12-17 오전, 날씨:맑음, 기온:-3~5도, 강수확률:10%\n",
      "\t날짜:2024-12-17 오후, 날씨:맑음, 기온:-3~5도, 강수확률:10%\n",
      "\t날짜:2024-12-18 오전, 날씨:맑음, 기온:-5~6도, 강수확률:10%\n",
      "\t날짜:2024-12-19 오전, 날씨:구름많음, 기온:-5~6도, 강수확률:30%\n",
      "\t날짜:2024-12-20 오전, 날씨:흐림, 기온:-4~7도, 강수확률:40%\n",
      "광주ㆍ전라남도 지역의 광주 도시의 날씨입니다\n",
      "\t날짜:2024-12-14 오전, 날씨:흐리고 비/눈, 기온:-1~6도, 강수확률:60%\n",
      "\t날짜:2024-12-14 오후, 날씨:흐림, 기온:-1~6도, 강수확률:40%\n",
      "\t날짜:2024-12-15 오전, 날씨:흐리고 비/눈, 기온:1~7도, 강수확률:60%\n",
      "\t날짜:2024-12-15 오후, 날씨:흐리고 비/눈, 기온:1~7도, 강수확률:60%\n",
      "\t날짜:2024-12-16 오전, 날씨:구름많음, 기온:1~7도, 강수확률:30%\n",
      "\t날짜:2024-12-16 오후, 날씨:구름많음, 기온:1~7도, 강수확률:30%\n",
      "\t날짜:2024-12-17 오전, 날씨:구름많음, 기온:0~8도, 강수확률:20%\n",
      "\t날짜:2024-12-17 오후, 날씨:구름많음, 기온:0~8도, 강수확률:20%\n",
      "\t날짜:2024-12-18 오전, 날씨:맑음, 기온:0~7도, 강수확률:10%\n",
      "\t날짜:2024-12-19 오전, 날씨:구름많음, 기온:0~7도, 강수확률:30%\n",
      "\t날짜:2024-12-20 오전, 날씨:흐림, 기온:0~9도, 강수확률:40%\n",
      "광주ㆍ전라남도 지역의 목포 도시의 날씨입니다\n",
      "\t날짜:2024-12-14 오전, 날씨:흐리고 비/눈, 기온:2~6도, 강수확률:60%\n",
      "\t날짜:2024-12-14 오후, 날씨:흐림, 기온:2~6도, 강수확률:40%\n",
      "\t날짜:2024-12-15 오전, 날씨:흐리고 비/눈, 기온:3~8도, 강수확률:60%\n",
      "\t날짜:2024-12-15 오후, 날씨:흐리고 비/눈, 기온:3~8도, 강수확률:60%\n",
      "\t날짜:2024-12-16 오전, 날씨:구름많음, 기온:4~8도, 강수확률:30%\n",
      "\t날짜:2024-12-16 오후, 날씨:구름많음, 기온:4~8도, 강수확률:30%\n",
      "\t날짜:2024-12-17 오전, 날씨:구름많음, 기온:2~9도, 강수확률:20%\n",
      "\t날짜:2024-12-17 오후, 날씨:구름많음, 기온:2~9도, 강수확률:20%\n",
      "\t날짜:2024-12-18 오전, 날씨:맑음, 기온:2~8도, 강수확률:10%\n",
      "\t날짜:2024-12-19 오전, 날씨:구름많음, 기온:2~8도, 강수확률:30%\n",
      "\t날짜:2024-12-20 오전, 날씨:흐림, 기온:2~8도, 강수확률:40%\n",
      "광주ㆍ전라남도 지역의 여수 도시의 날씨입니다\n",
      "\t날짜:2024-12-14 오전, 날씨:흐리고 비/눈, 기온:1~7도, 강수확률:60%\n",
      "\t날짜:2024-12-14 오후, 날씨:흐림, 기온:1~7도, 강수확률:40%\n",
      "\t날짜:2024-12-15 오전, 날씨:흐리고 비/눈, 기온:2~8도, 강수확률:60%\n",
      "\t날짜:2024-12-15 오후, 날씨:흐리고 비/눈, 기온:2~8도, 강수확률:60%\n",
      "\t날짜:2024-12-16 오전, 날씨:구름많음, 기온:3~9도, 강수확률:30%\n",
      "\t날짜:2024-12-16 오후, 날씨:구름많음, 기온:3~9도, 강수확률:30%\n",
      "\t날짜:2024-12-17 오전, 날씨:구름많음, 기온:3~9도, 강수확률:20%\n",
      "\t날짜:2024-12-17 오후, 날씨:구름많음, 기온:3~9도, 강수확률:20%\n",
      "\t날짜:2024-12-18 오전, 날씨:맑음, 기온:3~9도, 강수확률:10%\n",
      "\t날짜:2024-12-19 오전, 날씨:구름많음, 기온:3~9도, 강수확률:30%\n",
      "\t날짜:2024-12-20 오전, 날씨:흐림, 기온:3~9도, 강수확률:40%\n",
      "광주ㆍ전라남도 지역의 순천 도시의 날씨입니다\n",
      "\t날짜:2024-12-14 오전, 날씨:흐리고 비/눈, 기온:-2~6도, 강수확률:60%\n",
      "\t날짜:2024-12-14 오후, 날씨:흐림, 기온:-2~6도, 강수확률:40%\n",
      "\t날짜:2024-12-15 오전, 날씨:흐리고 비/눈, 기온:0~8도, 강수확률:60%\n",
      "\t날짜:2024-12-15 오후, 날씨:흐리고 비/눈, 기온:0~8도, 강수확률:60%\n",
      "\t날짜:2024-12-16 오전, 날씨:구름많음, 기온:0~8도, 강수확률:30%\n",
      "\t날짜:2024-12-16 오후, 날씨:구름많음, 기온:0~8도, 강수확률:30%\n",
      "\t날짜:2024-12-17 오전, 날씨:구름많음, 기온:1~9도, 강수확률:20%\n",
      "\t날짜:2024-12-17 오후, 날씨:구름많음, 기온:1~9도, 강수확률:20%\n",
      "\t날짜:2024-12-18 오전, 날씨:맑음, 기온:0~8도, 강수확률:10%\n",
      "\t날짜:2024-12-19 오전, 날씨:구름많음, 기온:0~8도, 강수확률:30%\n",
      "\t날짜:2024-12-20 오전, 날씨:흐림, 기온:0~9도, 강수확률:40%\n",
      "광주ㆍ전라남도 지역의 광양 도시의 날씨입니다\n",
      "\t날짜:2024-12-14 오전, 날씨:흐리고 비/눈, 기온:0~6도, 강수확률:60%\n",
      "\t날짜:2024-12-14 오후, 날씨:흐림, 기온:0~6도, 강수확률:40%\n",
      "\t날짜:2024-12-15 오전, 날씨:흐리고 비/눈, 기온:0~9도, 강수확률:60%\n",
      "\t날짜:2024-12-15 오후, 날씨:흐리고 비/눈, 기온:0~9도, 강수확률:60%\n",
      "\t날짜:2024-12-16 오전, 날씨:구름많음, 기온:1~10도, 강수확률:30%\n",
      "\t날짜:2024-12-16 오후, 날씨:구름많음, 기온:1~10도, 강수확률:30%\n",
      "\t날짜:2024-12-17 오전, 날씨:구름많음, 기온:1~10도, 강수확률:20%\n",
      "\t날짜:2024-12-17 오후, 날씨:구름많음, 기온:1~10도, 강수확률:20%\n",
      "\t날짜:2024-12-18 오전, 날씨:맑음, 기온:1~10도, 강수확률:10%\n",
      "\t날짜:2024-12-19 오전, 날씨:구름많음, 기온:1~10도, 강수확률:30%\n",
      "\t날짜:2024-12-20 오전, 날씨:흐림, 기온:1~11도, 강수확률:40%\n",
      "광주ㆍ전라남도 지역의 나주 도시의 날씨입니다\n",
      "\t날짜:2024-12-14 오전, 날씨:흐리고 비/눈, 기온:-3~6도, 강수확률:60%\n",
      "\t날짜:2024-12-14 오후, 날씨:흐림, 기온:-3~6도, 강수확률:40%\n",
      "\t날짜:2024-12-15 오전, 날씨:흐리고 비/눈, 기온:-1~8도, 강수확률:60%\n",
      "\t날짜:2024-12-15 오후, 날씨:흐리고 비/눈, 기온:-1~8도, 강수확률:60%\n",
      "\t날짜:2024-12-16 오전, 날씨:구름많음, 기온:0~7도, 강수확률:30%\n",
      "\t날짜:2024-12-16 오후, 날씨:구름많음, 기온:0~7도, 강수확률:30%\n",
      "\t날짜:2024-12-17 오전, 날씨:구름많음, 기온:-1~8도, 강수확률:20%\n",
      "\t날짜:2024-12-17 오후, 날씨:구름많음, 기온:-1~8도, 강수확률:20%\n",
      "\t날짜:2024-12-18 오전, 날씨:맑음, 기온:-2~6도, 강수확률:10%\n",
      "\t날짜:2024-12-19 오전, 날씨:구름많음, 기온:-2~6도, 강수확률:30%\n",
      "\t날짜:2024-12-20 오전, 날씨:흐림, 기온:-1~8도, 강수확률:40%\n",
      "전라북도 지역의 전주 도시의 날씨입니다\n",
      "\t날짜:2024-12-14 오전, 날씨:흐리고 비/눈, 기온:-2~5도, 강수확률:60%\n",
      "\t날짜:2024-12-14 오후, 날씨:흐림, 기온:-2~5도, 강수확률:40%\n",
      "\t날짜:2024-12-15 오전, 날씨:흐리고 비/눈, 기온:-1~6도, 강수확률:80%\n",
      "\t날짜:2024-12-15 오후, 날씨:흐리고 비/눈, 기온:-1~6도, 강수확률:60%\n",
      "\t날짜:2024-12-16 오전, 날씨:구름많음, 기온:0~6도, 강수확률:30%\n",
      "\t날짜:2024-12-16 오후, 날씨:구름많음, 기온:0~6도, 강수확률:30%\n",
      "\t날짜:2024-12-17 오전, 날씨:구름많음, 기온:0~7도, 강수확률:20%\n",
      "\t날짜:2024-12-17 오후, 날씨:구름많음, 기온:0~7도, 강수확률:20%\n",
      "\t날짜:2024-12-18 오전, 날씨:맑음, 기온:-1~7도, 강수확률:10%\n",
      "\t날짜:2024-12-19 오전, 날씨:구름많음, 기온:-1~7도, 강수확률:30%\n",
      "\t날짜:2024-12-20 오전, 날씨:흐림, 기온:-1~8도, 강수확률:40%\n",
      "전라북도 지역의 군산 도시의 날씨입니다\n",
      "\t날짜:2024-12-14 오전, 날씨:흐리고 비/눈, 기온:-2~5도, 강수확률:60%\n",
      "\t날짜:2024-12-14 오후, 날씨:흐림, 기온:-2~5도, 강수확률:40%\n",
      "\t날짜:2024-12-15 오전, 날씨:흐리고 비/눈, 기온:0~7도, 강수확률:80%\n",
      "\t날짜:2024-12-15 오후, 날씨:흐리고 비/눈, 기온:0~7도, 강수확률:60%\n",
      "\t날짜:2024-12-16 오전, 날씨:구름많음, 기온:0~6도, 강수확률:30%\n",
      "\t날짜:2024-12-16 오후, 날씨:구름많음, 기온:0~6도, 강수확률:30%\n",
      "\t날짜:2024-12-17 오전, 날씨:구름많음, 기온:-1~7도, 강수확률:20%\n",
      "\t날짜:2024-12-17 오후, 날씨:구름많음, 기온:-1~7도, 강수확률:20%\n",
      "\t날짜:2024-12-18 오전, 날씨:맑음, 기온:-2~6도, 강수확률:10%\n",
      "\t날짜:2024-12-19 오전, 날씨:구름많음, 기온:-2~6도, 강수확률:30%\n",
      "\t날짜:2024-12-20 오전, 날씨:흐림, 기온:-2~7도, 강수확률:40%\n",
      "전라북도 지역의 정읍 도시의 날씨입니다\n",
      "\t날짜:2024-12-14 오전, 날씨:흐리고 비/눈, 기온:-2~5도, 강수확률:60%\n",
      "\t날짜:2024-12-14 오후, 날씨:흐림, 기온:-2~5도, 강수확률:40%\n",
      "\t날짜:2024-12-15 오전, 날씨:흐리고 비/눈, 기온:-1~7도, 강수확률:80%\n",
      "\t날짜:2024-12-15 오후, 날씨:흐리고 비/눈, 기온:-1~7도, 강수확률:60%\n",
      "\t날짜:2024-12-16 오전, 날씨:구름많음, 기온:0~7도, 강수확률:30%\n",
      "\t날짜:2024-12-16 오후, 날씨:구름많음, 기온:0~7도, 강수확률:30%\n",
      "\t날짜:2024-12-17 오전, 날씨:구름많음, 기온:0~7도, 강수확률:20%\n",
      "\t날짜:2024-12-17 오후, 날씨:구름많음, 기온:0~7도, 강수확률:20%\n",
      "\t날짜:2024-12-18 오전, 날씨:맑음, 기온:-2~6도, 강수확률:10%\n",
      "\t날짜:2024-12-19 오전, 날씨:구름많음, 기온:-2~6도, 강수확률:30%\n",
      "\t날짜:2024-12-20 오전, 날씨:흐림, 기온:-2~7도, 강수확률:40%\n",
      "전라북도 지역의 남원 도시의 날씨입니다\n",
      "\t날짜:2024-12-14 오전, 날씨:흐리고 비/눈, 기온:-4~4도, 강수확률:60%\n",
      "\t날짜:2024-12-14 오후, 날씨:흐림, 기온:-4~4도, 강수확률:40%\n",
      "\t날짜:2024-12-15 오전, 날씨:흐리고 비/눈, 기온:-3~5도, 강수확률:80%\n",
      "\t날짜:2024-12-15 오후, 날씨:흐리고 비/눈, 기온:-3~5도, 강수확률:60%\n",
      "\t날짜:2024-12-16 오전, 날씨:구름많음, 기온:-1~6도, 강수확률:30%\n",
      "\t날짜:2024-12-16 오후, 날씨:구름많음, 기온:-1~6도, 강수확률:30%\n",
      "\t날짜:2024-12-17 오전, 날씨:구름많음, 기온:-2~6도, 강수확률:20%\n",
      "\t날짜:2024-12-17 오후, 날씨:구름많음, 기온:-2~6도, 강수확률:20%\n",
      "\t날짜:2024-12-18 오전, 날씨:맑음, 기온:-2~6도, 강수확률:10%\n",
      "\t날짜:2024-12-19 오전, 날씨:구름많음, 기온:-2~6도, 강수확률:30%\n",
      "\t날짜:2024-12-20 오전, 날씨:흐림, 기온:-2~8도, 강수확률:40%\n",
      "전라북도 지역의 고창 도시의 날씨입니다\n",
      "\t날짜:2024-12-14 오전, 날씨:흐리고 비/눈, 기온:-1~5도, 강수확률:60%\n",
      "\t날짜:2024-12-14 오후, 날씨:흐림, 기온:-1~5도, 강수확률:40%\n",
      "\t날짜:2024-12-15 오전, 날씨:흐리고 비/눈, 기온:0~6도, 강수확률:80%\n",
      "\t날짜:2024-12-15 오후, 날씨:흐리고 비/눈, 기온:0~6도, 강수확률:60%\n",
      "\t날짜:2024-12-16 오전, 날씨:구름많음, 기온:1~7도, 강수확률:30%\n",
      "\t날짜:2024-12-16 오후, 날씨:구름많음, 기온:1~7도, 강수확률:30%\n",
      "\t날짜:2024-12-17 오전, 날씨:구름많음, 기온:0~7도, 강수확률:20%\n",
      "\t날짜:2024-12-17 오후, 날씨:구름많음, 기온:0~7도, 강수확률:20%\n",
      "\t날짜:2024-12-18 오전, 날씨:맑음, 기온:-1~7도, 강수확률:10%\n",
      "\t날짜:2024-12-19 오전, 날씨:구름많음, 기온:-1~7도, 강수확률:30%\n",
      "\t날짜:2024-12-20 오전, 날씨:흐림, 기온:-1~8도, 강수확률:40%\n",
      "전라북도 지역의 무주 도시의 날씨입니다\n",
      "\t날짜:2024-12-14 오전, 날씨:흐리고 비/눈, 기온:-7~3도, 강수확률:60%\n",
      "\t날짜:2024-12-14 오후, 날씨:흐림, 기온:-7~3도, 강수확률:40%\n",
      "\t날짜:2024-12-15 오전, 날씨:흐리고 비/눈, 기온:-5~3도, 강수확률:80%\n",
      "\t날짜:2024-12-15 오후, 날씨:흐리고 비/눈, 기온:-5~3도, 강수확률:60%\n",
      "\t날짜:2024-12-16 오전, 날씨:구름많음, 기온:-3~5도, 강수확률:30%\n",
      "\t날짜:2024-12-16 오후, 날씨:구름많음, 기온:-3~5도, 강수확률:30%\n",
      "\t날짜:2024-12-17 오전, 날씨:구름많음, 기온:-4~4도, 강수확률:20%\n",
      "\t날짜:2024-12-17 오후, 날씨:구름많음, 기온:-4~4도, 강수확률:20%\n",
      "\t날짜:2024-12-18 오전, 날씨:맑음, 기온:-5~5도, 강수확률:10%\n",
      "\t날짜:2024-12-19 오전, 날씨:구름많음, 기온:-5~5도, 강수확률:30%\n",
      "\t날짜:2024-12-20 오전, 날씨:흐림, 기온:-4~7도, 강수확률:40%\n",
      "부산ㆍ울산ㆍ경상남도 지역의 부산 도시의 날씨입니다\n",
      "\t날짜:2024-12-14 오전, 날씨:맑음, 기온:1~8도, 강수확률:10%\n",
      "\t날짜:2024-12-14 오후, 날씨:맑음, 기온:1~8도, 강수확률:10%\n",
      "\t날짜:2024-12-15 오전, 날씨:맑음, 기온:1~9도, 강수확률:10%\n",
      "\t날짜:2024-12-15 오후, 날씨:구름많음, 기온:1~9도, 강수확률:20%\n",
      "\t날짜:2024-12-16 오전, 날씨:맑음, 기온:2~9도, 강수확률:10%\n",
      "\t날짜:2024-12-16 오후, 날씨:맑음, 기온:2~9도, 강수확률:10%\n",
      "\t날짜:2024-12-17 오전, 날씨:맑음, 기온:2~11도, 강수확률:10%\n",
      "\t날짜:2024-12-17 오후, 날씨:맑음, 기온:2~11도, 강수확률:10%\n",
      "\t날짜:2024-12-18 오전, 날씨:맑음, 기온:3~10도, 강수확률:10%\n",
      "\t날짜:2024-12-19 오전, 날씨:구름많음, 기온:3~10도, 강수확률:20%\n",
      "\t날짜:2024-12-20 오전, 날씨:구름많음, 기온:4~11도, 강수확률:30%\n",
      "부산ㆍ울산ㆍ경상남도 지역의 울산 도시의 날씨입니다\n",
      "\t날짜:2024-12-14 오전, 날씨:맑음, 기온:-1~6도, 강수확률:10%\n",
      "\t날짜:2024-12-14 오후, 날씨:맑음, 기온:-1~6도, 강수확률:10%\n",
      "\t날짜:2024-12-15 오전, 날씨:맑음, 기온:-1~7도, 강수확률:10%\n",
      "\t날짜:2024-12-15 오후, 날씨:구름많음, 기온:-1~7도, 강수확률:20%\n",
      "\t날짜:2024-12-16 오전, 날씨:맑음, 기온:0~8도, 강수확률:10%\n",
      "\t날짜:2024-12-16 오후, 날씨:맑음, 기온:0~8도, 강수확률:10%\n",
      "\t날짜:2024-12-17 오전, 날씨:맑음, 기온:-1~9도, 강수확률:10%\n",
      "\t날짜:2024-12-17 오후, 날씨:맑음, 기온:-1~9도, 강수확률:10%\n",
      "\t날짜:2024-12-18 오전, 날씨:맑음, 기온:1~9도, 강수확률:10%\n",
      "\t날짜:2024-12-19 오전, 날씨:구름많음, 기온:1~9도, 강수확률:20%\n",
      "\t날짜:2024-12-20 오전, 날씨:구름많음, 기온:0~9도, 강수확률:30%\n",
      "부산ㆍ울산ㆍ경상남도 지역의 창원 도시의 날씨입니다\n",
      "\t날짜:2024-12-14 오전, 날씨:맑음, 기온:0~7도, 강수확률:10%\n",
      "\t날짜:2024-12-14 오후, 날씨:맑음, 기온:0~7도, 강수확률:10%\n",
      "\t날짜:2024-12-15 오전, 날씨:맑음, 기온:-1~8도, 강수확률:10%\n",
      "\t날짜:2024-12-15 오후, 날씨:구름많음, 기온:-1~8도, 강수확률:20%\n",
      "\t날짜:2024-12-16 오전, 날씨:맑음, 기온:0~8도, 강수확률:10%\n",
      "\t날짜:2024-12-16 오후, 날씨:맑음, 기온:0~8도, 강수확률:10%\n",
      "\t날짜:2024-12-17 오전, 날씨:맑음, 기온:0~9도, 강수확률:10%\n",
      "\t날짜:2024-12-17 오후, 날씨:맑음, 기온:0~9도, 강수확률:10%\n",
      "\t날짜:2024-12-18 오전, 날씨:맑음, 기온:1~9도, 강수확률:10%\n",
      "\t날짜:2024-12-19 오전, 날씨:구름많음, 기온:1~9도, 강수확률:20%\n",
      "\t날짜:2024-12-20 오전, 날씨:구름많음, 기온:1~9도, 강수확률:30%\n",
      "부산ㆍ울산ㆍ경상남도 지역의 진주 도시의 날씨입니다\n",
      "\t날짜:2024-12-14 오전, 날씨:맑음, 기온:-3~7도, 강수확률:10%\n",
      "\t날짜:2024-12-14 오후, 날씨:맑음, 기온:-3~7도, 강수확률:10%\n",
      "\t날짜:2024-12-15 오전, 날씨:맑음, 기온:-3~8도, 강수확률:10%\n",
      "\t날짜:2024-12-15 오후, 날씨:구름많음, 기온:-3~8도, 강수확률:20%\n",
      "\t날짜:2024-12-16 오전, 날씨:맑음, 기온:-1~9도, 강수확률:10%\n",
      "\t날짜:2024-12-16 오후, 날씨:맑음, 기온:-1~9도, 강수확률:10%\n",
      "\t날짜:2024-12-17 오전, 날씨:맑음, 기온:-3~9도, 강수확률:10%\n",
      "\t날짜:2024-12-17 오후, 날씨:맑음, 기온:-3~9도, 강수확률:10%\n",
      "\t날짜:2024-12-18 오전, 날씨:맑음, 기온:-2~9도, 강수확률:10%\n",
      "\t날짜:2024-12-19 오전, 날씨:구름많음, 기온:-2~9도, 강수확률:20%\n",
      "\t날짜:2024-12-20 오전, 날씨:구름많음, 기온:-3~10도, 강수확률:30%\n",
      "부산ㆍ울산ㆍ경상남도 지역의 거창 도시의 날씨입니다\n",
      "\t날짜:2024-12-14 오전, 날씨:맑음, 기온:-4~4도, 강수확률:10%\n",
      "\t날짜:2024-12-14 오후, 날씨:맑음, 기온:-4~4도, 강수확률:10%\n",
      "\t날짜:2024-12-15 오전, 날씨:맑음, 기온:-4~5도, 강수확률:10%\n",
      "\t날짜:2024-12-15 오후, 날씨:구름많음, 기온:-4~5도, 강수확률:20%\n",
      "\t날짜:2024-12-16 오전, 날씨:맑음, 기온:-2~6도, 강수확률:10%\n",
      "\t날짜:2024-12-16 오후, 날씨:맑음, 기온:-2~6도, 강수확률:10%\n",
      "\t날짜:2024-12-17 오전, 날씨:맑음, 기온:-3~7도, 강수확률:10%\n",
      "\t날짜:2024-12-17 오후, 날씨:맑음, 기온:-3~7도, 강수확률:10%\n",
      "\t날짜:2024-12-18 오전, 날씨:맑음, 기온:-3~8도, 강수확률:10%\n",
      "\t날짜:2024-12-19 오전, 날씨:구름많음, 기온:-3~8도, 강수확률:20%\n",
      "\t날짜:2024-12-20 오전, 날씨:구름많음, 기온:-5~8도, 강수확률:30%\n",
      "부산ㆍ울산ㆍ경상남도 지역의 통영 도시의 날씨입니다\n",
      "\t날짜:2024-12-14 오전, 날씨:맑음, 기온:1~8도, 강수확률:10%\n",
      "\t날짜:2024-12-14 오후, 날씨:맑음, 기온:1~8도, 강수확률:10%\n",
      "\t날짜:2024-12-15 오전, 날씨:맑음, 기온:1~9도, 강수확률:10%\n",
      "\t날짜:2024-12-15 오후, 날씨:구름많음, 기온:1~9도, 강수확률:20%\n",
      "\t날짜:2024-12-16 오전, 날씨:맑음, 기온:3~9도, 강수확률:10%\n",
      "\t날짜:2024-12-16 오후, 날씨:맑음, 기온:3~9도, 강수확률:10%\n",
      "\t날짜:2024-12-17 오전, 날씨:맑음, 기온:2~10도, 강수확률:10%\n",
      "\t날짜:2024-12-17 오후, 날씨:맑음, 기온:2~10도, 강수확률:10%\n",
      "\t날짜:2024-12-18 오전, 날씨:맑음, 기온:1~10도, 강수확률:10%\n",
      "\t날짜:2024-12-19 오전, 날씨:구름많음, 기온:1~10도, 강수확률:20%\n",
      "\t날짜:2024-12-20 오전, 날씨:구름많음, 기온:3~10도, 강수확률:30%\n",
      "대구ㆍ경상북도 지역의 대구 도시의 날씨입니다\n",
      "\t날짜:2024-12-14 오전, 날씨:맑음, 기온:-2~6도, 강수확률:10%\n",
      "\t날짜:2024-12-14 오후, 날씨:맑음, 기온:-2~6도, 강수확률:10%\n",
      "\t날짜:2024-12-15 오전, 날씨:구름많음, 기온:-2~6도, 강수확률:20%\n",
      "\t날짜:2024-12-15 오후, 날씨:구름많음, 기온:-2~6도, 강수확률:20%\n",
      "\t날짜:2024-12-16 오전, 날씨:맑음, 기온:-1~6도, 강수확률:10%\n",
      "\t날짜:2024-12-16 오후, 날씨:맑음, 기온:-1~6도, 강수확률:10%\n",
      "\t날짜:2024-12-17 오전, 날씨:맑음, 기온:-2~7도, 강수확률:10%\n",
      "\t날짜:2024-12-17 오후, 날씨:맑음, 기온:-2~7도, 강수확률:10%\n",
      "\t날짜:2024-12-18 오전, 날씨:맑음, 기온:0~7도, 강수확률:10%\n",
      "\t날짜:2024-12-19 오전, 날씨:구름많음, 기온:0~7도, 강수확률:30%\n",
      "\t날짜:2024-12-20 오전, 날씨:구름많음, 기온:-2~8도, 강수확률:30%\n",
      "대구ㆍ경상북도 지역의 안동 도시의 날씨입니다\n",
      "\t날짜:2024-12-14 오전, 날씨:맑음, 기온:-5~5도, 강수확률:10%\n",
      "\t날짜:2024-12-14 오후, 날씨:맑음, 기온:-5~5도, 강수확률:10%\n",
      "\t날짜:2024-12-15 오전, 날씨:구름많음, 기온:-5~5도, 강수확률:20%\n",
      "\t날짜:2024-12-15 오후, 날씨:구름많음, 기온:-5~5도, 강수확률:20%\n",
      "\t날짜:2024-12-16 오전, 날씨:맑음, 기온:-4~5도, 강수확률:10%\n",
      "\t날짜:2024-12-16 오후, 날씨:맑음, 기온:-4~5도, 강수확률:10%\n",
      "\t날짜:2024-12-17 오전, 날씨:맑음, 기온:-4~6도, 강수확률:10%\n",
      "\t날짜:2024-12-17 오후, 날씨:맑음, 기온:-4~6도, 강수확률:10%\n",
      "\t날짜:2024-12-18 오전, 날씨:맑음, 기온:-4~7도, 강수확률:10%\n",
      "\t날짜:2024-12-19 오전, 날씨:구름많음, 기온:-4~7도, 강수확률:30%\n",
      "\t날짜:2024-12-20 오전, 날씨:구름많음, 기온:-5~7도, 강수확률:30%\n",
      "대구ㆍ경상북도 지역의 포항 도시의 날씨입니다\n",
      "\t날짜:2024-12-14 오전, 날씨:맑음, 기온:-1~6도, 강수확률:10%\n",
      "\t날짜:2024-12-14 오후, 날씨:맑음, 기온:-1~6도, 강수확률:10%\n",
      "\t날짜:2024-12-15 오전, 날씨:구름많음, 기온:-1~7도, 강수확률:20%\n",
      "\t날짜:2024-12-15 오후, 날씨:구름많음, 기온:-1~7도, 강수확률:20%\n",
      "\t날짜:2024-12-16 오전, 날씨:맑음, 기온:0~7도, 강수확률:10%\n",
      "\t날짜:2024-12-16 오후, 날씨:맑음, 기온:0~7도, 강수확률:10%\n",
      "\t날짜:2024-12-17 오전, 날씨:맑음, 기온:0~8도, 강수확률:10%\n",
      "\t날짜:2024-12-17 오후, 날씨:맑음, 기온:0~8도, 강수확률:10%\n",
      "\t날짜:2024-12-18 오전, 날씨:맑음, 기온:1~9도, 강수확률:10%\n",
      "\t날짜:2024-12-19 오전, 날씨:구름많음, 기온:1~9도, 강수확률:30%\n",
      "\t날짜:2024-12-20 오전, 날씨:구름많음, 기온:1~9도, 강수확률:30%\n",
      "대구ㆍ경상북도 지역의 경주 도시의 날씨입니다\n",
      "\t날짜:2024-12-14 오전, 날씨:맑음, 기온:-2~5도, 강수확률:10%\n",
      "\t날짜:2024-12-14 오후, 날씨:맑음, 기온:-2~5도, 강수확률:10%\n",
      "\t날짜:2024-12-15 오전, 날씨:구름많음, 기온:-2~6도, 강수확률:20%\n",
      "\t날짜:2024-12-15 오후, 날씨:구름많음, 기온:-2~6도, 강수확률:20%\n",
      "\t날짜:2024-12-16 오전, 날씨:맑음, 기온:-1~6도, 강수확률:10%\n",
      "\t날짜:2024-12-16 오후, 날씨:맑음, 기온:-1~6도, 강수확률:10%\n",
      "\t날짜:2024-12-17 오전, 날씨:맑음, 기온:-2~7도, 강수확률:10%\n",
      "\t날짜:2024-12-17 오후, 날씨:맑음, 기온:-2~7도, 강수확률:10%\n",
      "\t날짜:2024-12-18 오전, 날씨:맑음, 기온:-1~8도, 강수확률:10%\n",
      "\t날짜:2024-12-19 오전, 날씨:구름많음, 기온:-1~8도, 강수확률:30%\n",
      "\t날짜:2024-12-20 오전, 날씨:구름많음, 기온:-2~9도, 강수확률:30%\n",
      "대구ㆍ경상북도 지역의 울진 도시의 날씨입니다\n",
      "\t날짜:2024-12-14 오전, 날씨:맑음, 기온:-1~8도, 강수확률:10%\n",
      "\t날짜:2024-12-14 오후, 날씨:맑음, 기온:-1~8도, 강수확률:10%\n",
      "\t날짜:2024-12-15 오전, 날씨:구름많음, 기온:-2~7도, 강수확률:20%\n",
      "\t날짜:2024-12-15 오후, 날씨:구름많음, 기온:-2~7도, 강수확률:20%\n",
      "\t날짜:2024-12-16 오전, 날씨:맑음, 기온:-1~8도, 강수확률:10%\n",
      "\t날짜:2024-12-16 오후, 날씨:맑음, 기온:-1~8도, 강수확률:10%\n",
      "\t날짜:2024-12-17 오전, 날씨:맑음, 기온:-1~8도, 강수확률:10%\n",
      "\t날짜:2024-12-17 오후, 날씨:맑음, 기온:-1~8도, 강수확률:10%\n",
      "\t날짜:2024-12-18 오전, 날씨:맑음, 기온:0~8도, 강수확률:10%\n",
      "\t날짜:2024-12-19 오전, 날씨:구름많음, 기온:0~8도, 강수확률:30%\n",
      "\t날짜:2024-12-20 오전, 날씨:구름많음, 기온:1~9도, 강수확률:30%\n",
      "대구ㆍ경상북도 지역의 울릉도 도시의 날씨입니다\n",
      "\t날짜:2024-12-14 오전, 날씨:맑음, 기온:2~5도, 강수확률:10%\n",
      "\t날짜:2024-12-14 오후, 날씨:맑음, 기온:2~5도, 강수확률:10%\n",
      "\t날짜:2024-12-15 오전, 날씨:구름많음, 기온:2~6도, 강수확률:20%\n",
      "\t날짜:2024-12-15 오후, 날씨:구름많음, 기온:2~6도, 강수확률:20%\n",
      "\t날짜:2024-12-16 오전, 날씨:맑음, 기온:2~6도, 강수확률:10%\n",
      "\t날짜:2024-12-16 오후, 날씨:맑음, 기온:2~6도, 강수확률:10%\n",
      "\t날짜:2024-12-17 오전, 날씨:맑음, 기온:3~7도, 강수확률:10%\n",
      "\t날짜:2024-12-17 오후, 날씨:맑음, 기온:3~7도, 강수확률:10%\n",
      "\t날짜:2024-12-18 오전, 날씨:맑음, 기온:4~7도, 강수확률:10%\n",
      "\t날짜:2024-12-19 오전, 날씨:구름많음, 기온:4~7도, 강수확률:30%\n",
      "\t날짜:2024-12-20 오전, 날씨:구름많음, 기온:5~8도, 강수확률:30%\n",
      "제주도 지역의 제주 도시의 날씨입니다\n",
      "\t날짜:2024-12-14 오전, 날씨:흐리고 비, 기온:5~9도, 강수확률:80%\n",
      "\t날짜:2024-12-14 오후, 날씨:흐리고 비, 기온:5~9도, 강수확률:70%\n",
      "\t날짜:2024-12-15 오전, 날씨:흐리고 비, 기온:6~10도, 강수확률:80%\n",
      "\t날짜:2024-12-15 오후, 날씨:흐리고 비, 기온:6~10도, 강수확률:60%\n",
      "\t날짜:2024-12-16 오전, 날씨:흐리고 비, 기온:7~10도, 강수확률:60%\n",
      "\t날짜:2024-12-16 오후, 날씨:흐림, 기온:7~10도, 강수확률:40%\n",
      "\t날짜:2024-12-17 오전, 날씨:구름많음, 기온:7~11도, 강수확률:40%\n",
      "\t날짜:2024-12-17 오후, 날씨:구름많음, 기온:7~11도, 강수확률:40%\n",
      "\t날짜:2024-12-18 오전, 날씨:맑음, 기온:6~11도, 강수확률:20%\n",
      "\t날짜:2024-12-19 오전, 날씨:구름많음, 기온:6~11도, 강수확률:30%\n",
      "\t날짜:2024-12-20 오전, 날씨:구름많음, 기온:7~11도, 강수확률:30%\n",
      "제주도 지역의 서귀포 도시의 날씨입니다\n",
      "\t날짜:2024-12-14 오전, 날씨:흐리고 비, 기온:4~10도, 강수확률:80%\n",
      "\t날짜:2024-12-14 오후, 날씨:흐리고 비, 기온:4~10도, 강수확률:70%\n",
      "\t날짜:2024-12-15 오전, 날씨:흐리고 비, 기온:5~12도, 강수확률:80%\n",
      "\t날짜:2024-12-15 오후, 날씨:흐리고 비, 기온:5~12도, 강수확률:60%\n",
      "\t날짜:2024-12-16 오전, 날씨:흐리고 비, 기온:6~13도, 강수확률:60%\n",
      "\t날짜:2024-12-16 오후, 날씨:흐림, 기온:6~13도, 강수확률:40%\n",
      "\t날짜:2024-12-17 오전, 날씨:구름많음, 기온:6~13도, 강수확률:40%\n",
      "\t날짜:2024-12-17 오후, 날씨:구름많음, 기온:6~13도, 강수확률:40%\n",
      "\t날짜:2024-12-18 오전, 날씨:맑음, 기온:6~13도, 강수확률:20%\n",
      "\t날짜:2024-12-19 오전, 날씨:구름많음, 기온:6~13도, 강수확률:30%\n",
      "\t날짜:2024-12-20 오전, 날씨:구름많음, 기온:7~14도, 강수확률:30%\n"
     ]
    }
   ],
   "source": [
    "import re\n",
    "from urllib.request import urlopen\n",
    "url = 'http://www.kma.go.kr/weather/forecast/mid-term-rss3.jsp?stnId=108'\n",
    "target = urlopen(url)\n",
    "contents = target.read().decode('utf-8')\n",
    "# print(contents)\n",
    "locations = re.findall(r'<location wl_ver=\"3\">.+?</location>', contents, re.DOTALL)\n",
    "# print(len(locations))\n",
    "# print(locations[0])\n",
    "for loc in locations:\n",
    "    province = re.search(r'<province>(.+)</province>', loc)\n",
    "    city     = re.search(r'<city>(.+)</city>', loc)\n",
    "    print(province.group(1), '지역의', city.group(1), '도시의 날씨입니다')\n",
    "    data = re.findall(r'<data>.+?</data>', loc, re.DOTALL)\n",
    "    # print(len(data), '개씩 담김')\n",
    "    \n",
    "    for item in data:\n",
    "        tmEf = re.search(r'<tmEf>(.+)</tmEf>', item).group(1)[:10] # 날짜\n",
    "        time = re.search(r'<tmEf>(.+)</tmEf>', item).group(1)[11:13] # 시간 '00' 또는 '12'\n",
    "        ampm = '오전' if time == '00' else '오후'\n",
    "        wf   = re.search(r'<wf>(.+)</wf>',     item).group(1) # 날씨\n",
    "        tmn  = re.search(r'<tmn>(.+)</tmn>',   item).group(1) # 최저기온\n",
    "        tmx  = re.search(r'<tmx>(.+)</tmx>',   item).group(1) # 최고기온\n",
    "        rnSt = re.search(r'<rnSt>(.+)</rnSt>', item).group(1) # 강수확률\n",
    "        print('\\t날짜:{} {}, 날씨:{}, 기온:{}~{}도, 강수확률:{}%'\\\n",
    "              .format(tmEf, ampm, wf, tmn, tmx, rnSt))"
   ]
  },
  {
   "cell_type": "code",
   "execution_count": 131,
   "id": "8a2dff0a",
   "metadata": {
    "ExecuteTime": {
     "end_time": "2024-12-10T02:03:29.109900Z",
     "start_time": "2024-12-10T02:03:29.012967Z"
    }
   },
   "outputs": [
    {
     "name": "stdout",
     "output_type": "stream",
     "text": [
      "<class 'pandas.core.frame.DataFrame'>\n",
      "RangeIndex: 451 entries, 0 to 450\n",
      "Data columns (total 8 columns):\n",
      " #   Column  Non-Null Count  Dtype \n",
      "---  ------  --------------  ----- \n",
      " 0   지역      451 non-null    object\n",
      " 1   도시      451 non-null    object\n",
      " 2   날짜      451 non-null    object\n",
      " 3   ampm    451 non-null    object\n",
      " 4   날씨      451 non-null    object\n",
      " 5   최저기온    451 non-null    object\n",
      " 6   최고기온    451 non-null    object\n",
      " 7   강수확률    451 non-null    object\n",
      "dtypes: object(8)\n",
      "memory usage: 28.3+ KB\n"
     ]
    }
   ],
   "source": [
    "# requests.get() 방식으로 전송, dict list에 append\n",
    "import re\n",
    "import requests\n",
    "items_list = []\n",
    "url = 'http://www.kma.go.kr/weather/forecast/mid-term-rss3.jsp?stnId=108'\n",
    "target = requests.get(url)\n",
    "contents = target.text\n",
    "# contents = target.content.decode('utf-8')\n",
    "locations = re.findall(r'<location wl_ver=\"3\">.+?</location>', contents, re.DOTALL)\n",
    "for loc in locations:\n",
    "    province = re.search(r'<province>(.+)</province>', loc).group(1)\n",
    "    city     = re.search(r'<city>(.+)</city>', loc).group(1)\n",
    "#     print(province.group(1), '지역의', city.group(1), '도시의 날씨입니다')\n",
    "    data = re.findall(r'<data>.+?</data>', loc, re.DOTALL)    \n",
    "    for item in data:\n",
    "        tmEf = re.search(r'<tmEf>(.+)</tmEf>', item).group(1)[:10] # 날짜\n",
    "        time = re.search(r'<tmEf>(.+)</tmEf>', item).group(1)[11:13] # 시간 '00' 또는 '12'\n",
    "        ampm = '오전' if time == '00' else '오후'\n",
    "        wf   = re.search(r'<wf>(.+)</wf>',     item).group(1) # 날씨\n",
    "        tmn  = re.search(r'<tmn>(.+)</tmn>',   item).group(1) # 최저기온\n",
    "        tmx  = re.search(r'<tmx>(.+)</tmx>',   item).group(1) # 최고기온\n",
    "        rnSt = re.search(r'<rnSt>(.+)</rnSt>', item).group(1) # 강수확률\n",
    "        items_list.append({\n",
    "            '지역':province,\n",
    "            '도시':city,\n",
    "            '날짜':tmEf,\n",
    "            'ampm':ampm,\n",
    "            '날씨':wf,\n",
    "            '최저기온':tmn,\n",
    "            '최고기온':tmx,\n",
    "            '강수확률':rnSt\n",
    "        })\n",
    "import pandas as pd\n",
    "df = pd.DataFrame(items_list)\n",
    "df.info()"
   ]
  },
  {
   "cell_type": "code",
   "execution_count": null,
   "id": "016c6d80",
   "metadata": {},
   "outputs": [],
   "source": [
    "# 데이터 타입 변경\n",
    "    # astype (유효성 검사가 엄격)\n",
    "    # to_numeric, to_datetime (데이터가 불안정하거나 비표준형식일 때 편리)"
   ]
  },
  {
   "cell_type": "code",
   "execution_count": 126,
   "id": "09955a89",
   "metadata": {
    "ExecuteTime": {
     "end_time": "2024-12-10T01:59:23.928226Z",
     "start_time": "2024-12-10T01:59:23.916158Z"
    }
   },
   "outputs": [
    {
     "data": {
      "text/plain": [
       "0     2024-12-14\n",
       "1     2024-12-14\n",
       "2     2024-12-15\n",
       "3     2024-12-15\n",
       "4     2024-12-16\n",
       "         ...    \n",
       "446   2024-12-17\n",
       "447   2024-12-17\n",
       "448   2024-12-18\n",
       "449   2024-12-19\n",
       "450   2024-12-20\n",
       "Name: 날짜, Length: 451, dtype: datetime64[ns]"
      ]
     },
     "execution_count": 126,
     "metadata": {},
     "output_type": "execute_result"
    }
   ],
   "source": [
    "df['날짜'].astype('datetime64[ns]') # ns: 나노초"
   ]
  },
  {
   "cell_type": "code",
   "execution_count": 128,
   "id": "65f52a8e",
   "metadata": {
    "ExecuteTime": {
     "end_time": "2024-12-10T02:01:27.239470Z",
     "start_time": "2024-12-10T02:01:27.226424Z"
    }
   },
   "outputs": [
    {
     "name": "stdout",
     "output_type": "stream",
     "text": [
      "<class 'pandas.core.frame.DataFrame'>\n",
      "RangeIndex: 451 entries, 0 to 450\n",
      "Data columns (total 8 columns):\n",
      " #   Column  Non-Null Count  Dtype         \n",
      "---  ------  --------------  -----         \n",
      " 0   지역      451 non-null    object        \n",
      " 1   도시      451 non-null    object        \n",
      " 2   날짜      451 non-null    datetime64[ns]\n",
      " 3   ampm    451 non-null    object        \n",
      " 4   날씨      451 non-null    object        \n",
      " 5   최저온도    451 non-null    object        \n",
      " 6   최고온도    451 non-null    object        \n",
      " 7   강수확률    451 non-null    object        \n",
      "dtypes: datetime64[ns](1), object(7)\n",
      "memory usage: 28.3+ KB\n"
     ]
    }
   ],
   "source": [
    "df['날짜'] = pd.to_datetime(df['날짜'])\n",
    "df.info()"
   ]
  },
  {
   "cell_type": "code",
   "execution_count": 133,
   "id": "5aee055f",
   "metadata": {
    "ExecuteTime": {
     "end_time": "2024-12-10T02:04:26.625389Z",
     "start_time": "2024-12-10T02:04:26.611818Z"
    }
   },
   "outputs": [
    {
     "name": "stdout",
     "output_type": "stream",
     "text": [
      "<class 'pandas.core.frame.DataFrame'>\n",
      "RangeIndex: 451 entries, 0 to 450\n",
      "Data columns (total 8 columns):\n",
      " #   Column  Non-Null Count  Dtype \n",
      "---  ------  --------------  ----- \n",
      " 0   지역      451 non-null    object\n",
      " 1   도시      451 non-null    object\n",
      " 2   날짜      451 non-null    object\n",
      " 3   ampm    451 non-null    object\n",
      " 4   날씨      451 non-null    object\n",
      " 5   최저기온    451 non-null    int32 \n",
      " 6   최고기온    451 non-null    int32 \n",
      " 7   강수확률    451 non-null    int64 \n",
      "dtypes: int32(2), int64(1), object(5)\n",
      "memory usage: 24.8+ KB\n"
     ]
    }
   ],
   "source": [
    "df['최저기온'] = df['최저기온'].astype('int')\n",
    "df['최고기온'] = df['최고기온'].astype('int')\n",
    "df['강수확률'] = pd.to_numeric(df['강수확률'])\n",
    "df.info()"
   ]
  },
  {
   "cell_type": "markdown",
   "id": "45f92264",
   "metadata": {},
   "source": [
    "### 2) 전국 날씨 RSS를 BeautifulSoup을 이용한 xml 크롤링"
   ]
  },
  {
   "cell_type": "code",
   "execution_count": 161,
   "id": "55cf6aa3",
   "metadata": {
    "ExecuteTime": {
     "end_time": "2024-12-10T02:44:38.438046Z",
     "start_time": "2024-12-10T02:44:38.044312Z"
    }
   },
   "outputs": [
    {
     "data": {
      "text/html": [
       "<div>\n",
       "<style scoped>\n",
       "    .dataframe tbody tr th:only-of-type {\n",
       "        vertical-align: middle;\n",
       "    }\n",
       "\n",
       "    .dataframe tbody tr th {\n",
       "        vertical-align: top;\n",
       "    }\n",
       "\n",
       "    .dataframe thead th {\n",
       "        text-align: right;\n",
       "    }\n",
       "</style>\n",
       "<table border=\"1\" class=\"dataframe\">\n",
       "  <thead>\n",
       "    <tr style=\"text-align: right;\">\n",
       "      <th></th>\n",
       "      <th>지역</th>\n",
       "      <th>도시</th>\n",
       "      <th>날짜</th>\n",
       "      <th>ampm</th>\n",
       "      <th>날씨</th>\n",
       "      <th>최저</th>\n",
       "      <th>최고</th>\n",
       "      <th>강수확률</th>\n",
       "    </tr>\n",
       "  </thead>\n",
       "  <tbody>\n",
       "    <tr>\n",
       "      <th>0</th>\n",
       "      <td>서울ㆍ인천ㆍ경기도</td>\n",
       "      <td>서울</td>\n",
       "      <td>2024-12-14</td>\n",
       "      <td>오전</td>\n",
       "      <td>맑음</td>\n",
       "      <td>-5</td>\n",
       "      <td>2</td>\n",
       "      <td>10</td>\n",
       "    </tr>\n",
       "    <tr>\n",
       "      <th>1</th>\n",
       "      <td>서울ㆍ인천ㆍ경기도</td>\n",
       "      <td>서울</td>\n",
       "      <td>2024-12-14</td>\n",
       "      <td>오후</td>\n",
       "      <td>맑음</td>\n",
       "      <td>-5</td>\n",
       "      <td>2</td>\n",
       "      <td>10</td>\n",
       "    </tr>\n",
       "    <tr>\n",
       "      <th>2</th>\n",
       "      <td>서울ㆍ인천ㆍ경기도</td>\n",
       "      <td>서울</td>\n",
       "      <td>2024-12-15</td>\n",
       "      <td>오전</td>\n",
       "      <td>맑음</td>\n",
       "      <td>-4</td>\n",
       "      <td>3</td>\n",
       "      <td>10</td>\n",
       "    </tr>\n",
       "    <tr>\n",
       "      <th>3</th>\n",
       "      <td>서울ㆍ인천ㆍ경기도</td>\n",
       "      <td>서울</td>\n",
       "      <td>2024-12-15</td>\n",
       "      <td>오후</td>\n",
       "      <td>맑음</td>\n",
       "      <td>-4</td>\n",
       "      <td>3</td>\n",
       "      <td>10</td>\n",
       "    </tr>\n",
       "    <tr>\n",
       "      <th>4</th>\n",
       "      <td>서울ㆍ인천ㆍ경기도</td>\n",
       "      <td>서울</td>\n",
       "      <td>2024-12-16</td>\n",
       "      <td>오전</td>\n",
       "      <td>맑음</td>\n",
       "      <td>-4</td>\n",
       "      <td>3</td>\n",
       "      <td>10</td>\n",
       "    </tr>\n",
       "  </tbody>\n",
       "</table>\n",
       "</div>"
      ],
      "text/plain": [
       "          지역  도시         날짜 ampm  날씨  최저  최고  강수확률\n",
       "0  서울ㆍ인천ㆍ경기도  서울 2024-12-14   오전  맑음  -5   2    10\n",
       "1  서울ㆍ인천ㆍ경기도  서울 2024-12-14   오후  맑음  -5   2    10\n",
       "2  서울ㆍ인천ㆍ경기도  서울 2024-12-15   오전  맑음  -4   3    10\n",
       "3  서울ㆍ인천ㆍ경기도  서울 2024-12-15   오후  맑음  -4   3    10\n",
       "4  서울ㆍ인천ㆍ경기도  서울 2024-12-16   오전  맑음  -4   3    10"
      ]
     },
     "execution_count": 161,
     "metadata": {},
     "output_type": "execute_result"
    }
   ],
   "source": [
    "import requests\n",
    "from urllib.request import urlopen\n",
    "from bs4 import BeautifulSoup\n",
    "import pandas as pd\n",
    "import numpy as np\n",
    "\n",
    "items_list = []\n",
    "url = 'http://www.kma.go.kr/weather/forecast/mid-term-rss3.jsp?stnId=108'\n",
    "# target = urlopen(url)\n",
    "# contents = target.read().decode('utf-8')\n",
    "target = requests.get(url)\n",
    "# soup = BeautifulSoup(target.text, \"html.parser\")\n",
    "soup = BeautifulSoup(target.text, \"xml\") # pip install lxml\n",
    "# print(locations[0])\n",
    "locations = soup.select('location')\n",
    "for loc in locations:\n",
    "    province = loc.select_one('province').text # 지역\n",
    "    city     = loc.select_one('city').text     # 도시\n",
    "    data     = loc.find_all('data')\n",
    "    for item in data:\n",
    "        tmEf = item.select_one('tmEf').text # 날짜와 시간 (여기서 오전오후 추출)\n",
    "        ampm = '오전' if tmEf[11] == '0' else '오후'\n",
    "        wf   = item.select_one('wf').text   # 날씨\n",
    "        tmn  = item.select_one('tmn').text  # 최저기온\n",
    "        tmx  = item.select_one('tmx').text  # 최고기온\n",
    "        rnSt = item.select_one('rnSt').text # 강수확률\n",
    "        items_list.append({\n",
    "            '지역':province,\n",
    "            '도시':city,\n",
    "            '날짜':tmEf[:-6],\n",
    "            'ampm':ampm,\n",
    "            '날씨':wf,\n",
    "            '최저':tmn,\n",
    "            '최고':tmx,\n",
    "            '강수확률':rnSt\n",
    "        })\n",
    "df = pd.DataFrame(items_list)\n",
    "df['최저'] = df['최저'].astype(np.int16)\n",
    "df['최고'] = df['최고'].astype(np.int16)\n",
    "df['강수확률'] = df['강수확률'].astype(np.int16)\n",
    "df['날짜'] = pd.to_datetime(df['날짜'])\n",
    "df.head()"
   ]
  },
  {
   "cell_type": "markdown",
   "id": "587b568a",
   "metadata": {},
   "source": [
    "### 3) xml 응답하는 Open API 활용\n",
    "- data.go.kr에서\n",
    "    * 서울특별시_노선정보조회 서비스 활용(버스 id, 버스 정류장 목록)\n",
    "    * 버스 위치 정보 조회 서비스 활용 신청(실시간 버스 위치 목록)"
   ]
  },
  {
   "cell_type": "code",
   "execution_count": 162,
   "id": "4355503d",
   "metadata": {
    "ExecuteTime": {
     "end_time": "2024-12-10T02:46:22.106893Z",
     "start_time": "2024-12-10T02:46:22.102903Z"
    }
   },
   "outputs": [],
   "source": [
    "# stpe1. 버스 번호의 버스 id 받아오기\n",
    "# 서울특별시_노선정보조회 서비스 - 4번 기능(getBusRouteList) 이용"
   ]
  },
  {
   "cell_type": "code",
   "execution_count": 3,
   "id": "0a16e04d",
   "metadata": {
    "ExecuteTime": {
     "end_time": "2024-12-11T02:37:00.400347Z",
     "start_time": "2024-12-11T02:36:59.775440Z"
    }
   },
   "outputs": [
    {
     "name": "stdout",
     "output_type": "stream",
     "text": [
      "http://ws.bus.go.kr/api/rest/busRouteInfo/getBusRouteList?ServiceKey=1DOPoNLuYSMsrsP%2FaGYg4Tc5amb0kTbBdnp31OTxLW0Mu51Hd19xDbXONEneCkxhMHZ1rKYKgnHdvbyL4nQHdQ%3D%3D&strSrch=162\n"
     ]
    },
    {
     "ename": "NameError",
     "evalue": "name 'busRouteId' is not defined",
     "output_type": "error",
     "traceback": [
      "\u001b[1;31m---------------------------------------------------------------------------\u001b[0m",
      "\u001b[1;31mNameError\u001b[0m                                 Traceback (most recent call last)",
      "Cell \u001b[1;32mIn[3], line 24\u001b[0m\n\u001b[0;32m     22\u001b[0m         busRouteId \u001b[38;5;241m=\u001b[39m itemList\u001b[38;5;241m.\u001b[39mfind(\u001b[38;5;124m'\u001b[39m\u001b[38;5;124mbusRouteId\u001b[39m\u001b[38;5;124m'\u001b[39m)\u001b[38;5;241m.\u001b[39mtext\n\u001b[0;32m     23\u001b[0m         \u001b[38;5;28;01mbreak\u001b[39;00m\n\u001b[1;32m---> 24\u001b[0m \u001b[38;5;28mprint\u001b[39m(\u001b[38;5;124m'\u001b[39m\u001b[38;5;124m노선 ID: \u001b[39m\u001b[38;5;124m'\u001b[39m, \u001b[43mbusRouteId\u001b[49m)\n",
      "\u001b[1;31mNameError\u001b[0m: name 'busRouteId' is not defined"
     ]
    }
   ],
   "source": [
    "import requests\n",
    "from bs4 import BeautifulSoup\n",
    "from urllib.request import urlretrieve # url 내 pc에 저장\n",
    "# from urllib.parse import quote\n",
    "# busNum = '마포01'\n",
    "busNum = '162'\n",
    "# 인증키\n",
    "# key2 = '1DOPoNLuYSMsrsP%2FaGYg4Tc5amb0kTbBdnp31OTxLW0Mu51Hd19xDbXONEneCkxhMHZ1rKYKgnHdvbyL4nQHdQ%3D%3D'\n",
    "key = 'ZS3iEVZ82iG9dvZc3urYq03YK9x0dwPWsaXcaNd1XACv8yWys1TONILRRSHiRNyrFo1qVk379RdHIUhAtRaL5w%3D%3D'\n",
    "# url1 = f'http://ws.bus.go.kr/api/rest/busRouteInfo/getBusRouteList?ServiceKey={key}&strSrch={quote(busNum)}'\n",
    "url1 = f'http://ws.bus.go.kr/api/rest/busRouteInfo/getBusRouteList?ServiceKey={key2}&strSrch={busNum}'\n",
    "print(url1)\n",
    "# response = requests.get(url1)\n",
    "# soup = BeautifulSoup(response.text, 'xml')\n",
    "savefilename1 = 'data/ch14_1busInfo.xml'\n",
    "urlretrieve(url1, savefilename1) # xml파일을 savefilename1로 저장\n",
    "xml = open(savefilename1, 'r', encoding = 'utf-8').read()\n",
    "soup = BeautifulSoup(xml, \"xml\")\n",
    "for itemList in soup.select('itemList'):\n",
    "    busRouteNm = itemList.find('busRouteNm').text\n",
    "    if busRouteNm == busNum:\n",
    "        busRouteId = itemList.find('busRouteId').text\n",
    "        break\n",
    "print('노선 ID: ', busRouteId)"
   ]
  },
  {
   "cell_type": "code",
   "execution_count": 226,
   "id": "ebb88f2f",
   "metadata": {
    "ExecuteTime": {
     "end_time": "2024-12-10T04:14:10.442589Z",
     "start_time": "2024-12-10T04:14:10.425398Z"
    }
   },
   "outputs": [
    {
     "name": "stdout",
     "output_type": "stream",
     "text": [
      "노선 ID:  100100034\n"
     ]
    }
   ],
   "source": [
    "print('노선 ID: ', busRouteId)"
   ]
  },
  {
   "cell_type": "code",
   "execution_count": 197,
   "id": "cc8a4ad5",
   "metadata": {
    "ExecuteTime": {
     "end_time": "2024-12-10T03:47:52.066103Z",
     "start_time": "2024-12-10T03:47:52.062110Z"
    }
   },
   "outputs": [],
   "source": [
    "# stpe2. 해당 버스 id의 버스 정류장 목록 받아오기\n",
    "# 서울특별시_노선정보조회 서비스 - 1번 기능(getStaionsByRouteList 노선별 경유 정류소 조회 서비스) 이용"
   ]
  },
  {
   "cell_type": "code",
   "execution_count": 227,
   "id": "20bf0fc2",
   "metadata": {
    "ExecuteTime": {
     "end_time": "2024-12-10T04:14:14.576379Z",
     "start_time": "2024-12-10T04:14:14.078422Z"
    }
   },
   "outputs": [
    {
     "name": "stdout",
     "output_type": "stream",
     "text": [
      "http://ws.bus.go.kr/api/rest/busRouteInfo/getStaionByRoute?ServiceKey=ZS3iEVZ82iG9dvZc3urYq03YK9x0dwPWsaXcaNd1XACv8yWys1TONILRRSHiRNyrFo1qVk379RdHIUhAtRaL5w%3D%3D&busRouteId=100100034\n",
      "\n",
      "정류장 개수: 77\n"
     ]
    },
    {
     "data": {
      "text/html": [
       "<div>\n",
       "<style scoped>\n",
       "    .dataframe tbody tr th:only-of-type {\n",
       "        vertical-align: middle;\n",
       "    }\n",
       "\n",
       "    .dataframe tbody tr th {\n",
       "        vertical-align: top;\n",
       "    }\n",
       "\n",
       "    .dataframe thead th {\n",
       "        text-align: right;\n",
       "    }\n",
       "</style>\n",
       "<table border=\"1\" class=\"dataframe\">\n",
       "  <thead>\n",
       "    <tr style=\"text-align: right;\">\n",
       "      <th></th>\n",
       "      <th>정류소명</th>\n",
       "      <th>id</th>\n",
       "      <th>경도</th>\n",
       "      <th>위도</th>\n",
       "    </tr>\n",
       "  </thead>\n",
       "  <tbody>\n",
       "    <tr>\n",
       "      <th>0</th>\n",
       "      <td>정릉산장아파트</td>\n",
       "      <td>107000071</td>\n",
       "      <td>127.003343</td>\n",
       "      <td>37.616712</td>\n",
       "    </tr>\n",
       "    <tr>\n",
       "      <th>1</th>\n",
       "      <td>정릉4동주민센터.경국사</td>\n",
       "      <td>107000073</td>\n",
       "      <td>127.006345</td>\n",
       "      <td>37.613529</td>\n",
       "    </tr>\n",
       "    <tr>\n",
       "      <th>2</th>\n",
       "      <td>북한산보국문역2번출구</td>\n",
       "      <td>107000518</td>\n",
       "      <td>127.0079858233</td>\n",
       "      <td>37.612293899</td>\n",
       "    </tr>\n",
       "    <tr>\n",
       "      <th>3</th>\n",
       "      <td>성북청수도서관.정릉4동성당</td>\n",
       "      <td>107000075</td>\n",
       "      <td>127.0084193769</td>\n",
       "      <td>37.6115696748</td>\n",
       "    </tr>\n",
       "    <tr>\n",
       "      <th>4</th>\n",
       "      <td>정릉시장입구</td>\n",
       "      <td>107000077</td>\n",
       "      <td>127.0098212542</td>\n",
       "      <td>37.6084653256</td>\n",
       "    </tr>\n",
       "    <tr>\n",
       "      <th>...</th>\n",
       "      <td>...</td>\n",
       "      <td>...</td>\n",
       "      <td>...</td>\n",
       "      <td>...</td>\n",
       "    </tr>\n",
       "    <tr>\n",
       "      <th>72</th>\n",
       "      <td>성북청수도서관.정릉4동성당</td>\n",
       "      <td>107000076</td>\n",
       "      <td>127.009045</td>\n",
       "      <td>37.610876</td>\n",
       "    </tr>\n",
       "    <tr>\n",
       "      <th>73</th>\n",
       "      <td>북한산보국문역1번출구</td>\n",
       "      <td>107000519</td>\n",
       "      <td>127.008329146</td>\n",
       "      <td>37.6120835499</td>\n",
       "    </tr>\n",
       "    <tr>\n",
       "      <th>74</th>\n",
       "      <td>정릉4동주민센터.경국사</td>\n",
       "      <td>107000074</td>\n",
       "      <td>127.006681</td>\n",
       "      <td>37.613335</td>\n",
       "    </tr>\n",
       "    <tr>\n",
       "      <th>75</th>\n",
       "      <td>정릉대우아파트</td>\n",
       "      <td>107000072</td>\n",
       "      <td>127.00386</td>\n",
       "      <td>37.616708</td>\n",
       "    </tr>\n",
       "    <tr>\n",
       "      <th>76</th>\n",
       "      <td>대진여객차고지</td>\n",
       "      <td>107000246</td>\n",
       "      <td>127.000797</td>\n",
       "      <td>37.617689</td>\n",
       "    </tr>\n",
       "  </tbody>\n",
       "</table>\n",
       "<p>77 rows × 4 columns</p>\n",
       "</div>"
      ],
      "text/plain": [
       "              정류소명         id              경도             위도\n",
       "0          정릉산장아파트  107000071      127.003343      37.616712\n",
       "1     정릉4동주민센터.경국사  107000073      127.006345      37.613529\n",
       "2      북한산보국문역2번출구  107000518  127.0079858233   37.612293899\n",
       "3   성북청수도서관.정릉4동성당  107000075  127.0084193769  37.6115696748\n",
       "4           정릉시장입구  107000077  127.0098212542  37.6084653256\n",
       "..             ...        ...             ...            ...\n",
       "72  성북청수도서관.정릉4동성당  107000076      127.009045      37.610876\n",
       "73     북한산보국문역1번출구  107000519   127.008329146  37.6120835499\n",
       "74    정릉4동주민센터.경국사  107000074      127.006681      37.613335\n",
       "75         정릉대우아파트  107000072       127.00386      37.616708\n",
       "76         대진여객차고지  107000246      127.000797      37.617689\n",
       "\n",
       "[77 rows x 4 columns]"
      ]
     },
     "execution_count": 227,
     "metadata": {},
     "output_type": "execute_result"
    }
   ],
   "source": [
    "import pandas as pd\n",
    "\n",
    "url2 = f'http://ws.bus.go.kr/api/rest/busRouteInfo/getStaionByRoute?ServiceKey={key}&busRouteId={busRouteId}'\n",
    "print(url2, end='\\n\\n')\n",
    "response = requests.get(url2)\n",
    "soup = BeautifulSoup(response.text, 'xml')\n",
    "itemLists = soup.find_all('itemList')\n",
    "print('정류장 개수:', len(itemLists))\n",
    "bus_station = []\n",
    "for itemList in itemLists:\n",
    "    stationNm = itemList.find('stationNm').text # 정류소명\n",
    "    station   = itemList.find('station').text   # 정류장 고유 ID\n",
    "    gpsX      = itemList.find('gpsX').text      # 경도\n",
    "    gpsY      = itemList.find('gpsY').text      # 위도\n",
    "    bus_station.append([stationNm, station, gpsX, gpsY])\n",
    "df = pd.DataFrame(bus_station,\n",
    "                  columns = ['정류소명', 'id', '경도', '위도'])\n",
    "df"
   ]
  },
  {
   "cell_type": "code",
   "execution_count": null,
   "id": "43f2b168",
   "metadata": {},
   "outputs": [],
   "source": [
    "# step3. 해당 버스 id의 실시간 버스 위치 정보\n",
    "# 서울특별시_버스위치정보조회 서비스 - 2번 기능(노선 ID로 차량들의 위치정보 조회, getBusPosByRtidList) 이용"
   ]
  },
  {
   "cell_type": "code",
   "execution_count": 261,
   "id": "1aba4c70",
   "metadata": {
    "ExecuteTime": {
     "end_time": "2024-12-10T05:52:45.992043Z",
     "start_time": "2024-12-10T05:52:45.912316Z"
    }
   },
   "outputs": [
    {
     "name": "stdout",
     "output_type": "stream",
     "text": [
      "http://ws.bus.go.kr/api/rest/buspos/getBusPosByRtid?ServiceKey=kWiLqR5an3qgHfkycjPmjxAie5mGGzW0LuPktrSNA3kqpsmWfsLSW9TxR9k0khrZgJLecVcO88n5LsStz845eg%3D%3D&busRouteId=100100034\n",
      "162번 버스, 24대 운행 중\n"
     ]
    },
    {
     "data": {
      "text/html": [
       "<div>\n",
       "<style scoped>\n",
       "    .dataframe tbody tr th:only-of-type {\n",
       "        vertical-align: middle;\n",
       "    }\n",
       "\n",
       "    .dataframe tbody tr th {\n",
       "        vertical-align: top;\n",
       "    }\n",
       "\n",
       "    .dataframe thead th {\n",
       "        text-align: right;\n",
       "    }\n",
       "</style>\n",
       "<table border=\"1\" class=\"dataframe\">\n",
       "  <thead>\n",
       "    <tr style=\"text-align: right;\">\n",
       "      <th></th>\n",
       "      <th>차량번호</th>\n",
       "      <th>혼잡도</th>\n",
       "      <th>경도</th>\n",
       "      <th>위도</th>\n",
       "      <th>최종정류소ID</th>\n",
       "      <th>다음정류소ID</th>\n",
       "      <th>도착소요시간</th>\n",
       "    </tr>\n",
       "  </thead>\n",
       "  <tbody>\n",
       "    <tr>\n",
       "      <th>0</th>\n",
       "      <td>서울74사3030</td>\n",
       "      <td>여유</td>\n",
       "      <td>127.006543</td>\n",
       "      <td>37.613228</td>\n",
       "      <td>107000073</td>\n",
       "      <td>107000079</td>\n",
       "      <td>309</td>\n",
       "    </tr>\n",
       "  </tbody>\n",
       "</table>\n",
       "</div>"
      ],
      "text/plain": [
       "        차량번호 혼잡도          경도         위도    최종정류소ID    다음정류소ID 도착소요시간\n",
       "0  서울74사3030  여유  127.006543  37.613228  107000073  107000079    309"
      ]
     },
     "execution_count": 261,
     "metadata": {},
     "output_type": "execute_result"
    }
   ],
   "source": [
    "key = 'kWiLqR5an3qgHfkycjPmjxAie5mGGzW0LuPktrSNA3kqpsmWfsLSW9TxR9k0khrZgJLecVcO88n5LsStz845eg%3D%3D'\n",
    "url3 = f'http://ws.bus.go.kr/api/rest/buspos/getBusPosByRtid?ServiceKey={key}&busRouteId={busRouteId}'\n",
    "print(url3)\n",
    "savefilename3 = 'data/ch14_3busPosition.xml'\n",
    "urlretrieve(url3, savefilename3)\n",
    "# response = requests.get(url3)\n",
    "xml = open(savefilename3, 'r', encoding = 'utf-8').read()\n",
    "soup = BeautifulSoup(xml, 'xml')\n",
    "bus_position = []\n",
    "\n",
    "for itemList in soup.select('itemList'):\n",
    "    congetion = itemList.find('congetion').text\n",
    "    congetion = '여유' if congetion == '3' \\\n",
    "           else '보통' if congetion == '4' \\\n",
    "           else '혼잡' if congetion == '5' \\\n",
    "           else '매우혼잡'\n",
    "    gpsX      = itemList.find('gpsX').text\n",
    "    gpsY      = itemList.find('gpsY').text\n",
    "    lastStnId = itemList.find('lastStnId').text # 최종 정류소 ID\n",
    "    nextStId  = itemList.find('nextStId').text  # 다음 정류소 ID\n",
    "    plainNo   = itemList.find('plainNo').text   # 차량 번호\n",
    "    nextStTm  = itemList.find('nextStTm').text  # 다음정류소도착소요시간\n",
    "    bus_position.append({\n",
    "        '차량번호':plainNo,\n",
    "        '혼잡도':congetion,\n",
    "        '경도':gpsX,\n",
    "        '위도':gpsY,\n",
    "        '최종정류소ID':lastStnId,\n",
    "        '다음정류소ID':nextStId,\n",
    "        '도착소요시간':nextStTm\n",
    "    })\n",
    "df_pos = pd.DataFrame(bus_position)\n",
    "print(f'{busNum}번 버스, {len(df_pos)}대 운행 중')\n",
    "df_pos.head(1)"
   ]
  },
  {
   "cell_type": "code",
   "execution_count": 285,
   "id": "0e119fcf",
   "metadata": {
    "ExecuteTime": {
     "end_time": "2024-12-10T06:15:41.359794Z",
     "start_time": "2024-12-10T06:15:41.351099Z"
    }
   },
   "outputs": [
    {
     "data": {
      "text/plain": [
       "'정릉4동주민센터.경국사'"
      ]
     },
     "execution_count": 285,
     "metadata": {},
     "output_type": "execute_result"
    }
   ],
   "source": [
    "df.loc[df['id'] == '107000073', '정류소명'].iloc[0]"
   ]
  },
  {
   "cell_type": "code",
   "execution_count": 284,
   "id": "46c55b07",
   "metadata": {
    "ExecuteTime": {
     "end_time": "2024-12-10T06:15:39.584724Z",
     "start_time": "2024-12-10T06:15:39.576730Z"
    }
   },
   "outputs": [
    {
     "data": {
      "text/plain": [
       "'정릉우체국앞'"
      ]
     },
     "execution_count": 284,
     "metadata": {},
     "output_type": "execute_result"
    }
   ],
   "source": [
    "df.loc[df['id'] == '107000079', '정류소명'].iloc[0]"
   ]
  },
  {
   "cell_type": "code",
   "execution_count": 290,
   "id": "ee695bc4",
   "metadata": {
    "ExecuteTime": {
     "end_time": "2024-12-10T06:17:07.357635Z",
     "start_time": "2024-12-10T06:17:07.351672Z"
    }
   },
   "outputs": [],
   "source": [
    "def station_name(row):\n",
    "    row['최종정류소명'] = df.loc[df['id'] == row['최종정류소ID'], '정류소명'].iloc[0]\n",
    "    row['다음정류소명'] = df.loc[df['id'] == row['다음정류소ID'], '정류소명'].iloc[0]\n",
    "    return row"
   ]
  },
  {
   "cell_type": "code",
   "execution_count": 292,
   "id": "f62124b7",
   "metadata": {
    "ExecuteTime": {
     "end_time": "2024-12-10T06:17:23.522250Z",
     "start_time": "2024-12-10T06:17:23.512275Z"
    }
   },
   "outputs": [
    {
     "data": {
      "text/plain": [
       "차량번호          서울74사3030\n",
       "혼잡도                  여유\n",
       "경도           127.006543\n",
       "위도            37.613228\n",
       "최종정류소ID       107000073\n",
       "다음정류소ID       107000079\n",
       "도착소요시간              309\n",
       "최종정류소명     정릉4동주민센터.경국사\n",
       "다음정류소명           정릉우체국앞\n",
       "Name: 0, dtype: object"
      ]
     },
     "execution_count": 292,
     "metadata": {},
     "output_type": "execute_result"
    }
   ],
   "source": [
    "station_name(df_pos.loc[0])"
   ]
  },
  {
   "cell_type": "code",
   "execution_count": 295,
   "id": "2f08a924",
   "metadata": {
    "ExecuteTime": {
     "end_time": "2024-12-10T06:21:49.857707Z",
     "start_time": "2024-12-10T06:21:49.825866Z"
    }
   },
   "outputs": [
    {
     "data": {
      "text/html": [
       "<div>\n",
       "<style scoped>\n",
       "    .dataframe tbody tr th:only-of-type {\n",
       "        vertical-align: middle;\n",
       "    }\n",
       "\n",
       "    .dataframe tbody tr th {\n",
       "        vertical-align: top;\n",
       "    }\n",
       "\n",
       "    .dataframe thead th {\n",
       "        text-align: right;\n",
       "    }\n",
       "</style>\n",
       "<table border=\"1\" class=\"dataframe\">\n",
       "  <thead>\n",
       "    <tr style=\"text-align: right;\">\n",
       "      <th></th>\n",
       "      <th>차량번호</th>\n",
       "      <th>혼잡도</th>\n",
       "      <th>경도</th>\n",
       "      <th>위도</th>\n",
       "      <th>최종정류소ID</th>\n",
       "      <th>다음정류소ID</th>\n",
       "      <th>도착소요시간</th>\n",
       "      <th>최종정류소명</th>\n",
       "      <th>다음정류소명</th>\n",
       "    </tr>\n",
       "  </thead>\n",
       "  <tbody>\n",
       "    <tr>\n",
       "      <th>0</th>\n",
       "      <td>서울74사3030</td>\n",
       "      <td>여유</td>\n",
       "      <td>127.006543</td>\n",
       "      <td>37.613228</td>\n",
       "      <td>107000073</td>\n",
       "      <td>107000079</td>\n",
       "      <td>309</td>\n",
       "      <td>정릉4동주민센터.경국사</td>\n",
       "      <td>정릉우체국앞</td>\n",
       "    </tr>\n",
       "    <tr>\n",
       "      <th>1</th>\n",
       "      <td>서울74사2201</td>\n",
       "      <td>여유</td>\n",
       "      <td>127.013375</td>\n",
       "      <td>37.602679</td>\n",
       "      <td>107000168</td>\n",
       "      <td>101000042</td>\n",
       "      <td>1934</td>\n",
       "      <td>정릉입구.정릉역</td>\n",
       "      <td>해운센터.롯데영플라자</td>\n",
       "    </tr>\n",
       "    <tr>\n",
       "      <th>2</th>\n",
       "      <td>서울74사1967</td>\n",
       "      <td>여유</td>\n",
       "      <td>127.014988</td>\n",
       "      <td>37.596937</td>\n",
       "      <td>107000172</td>\n",
       "      <td>101000042</td>\n",
       "      <td>1697</td>\n",
       "      <td>돈암2동주민센터입구.흥천사</td>\n",
       "      <td>해운센터.롯데영플라자</td>\n",
       "    </tr>\n",
       "    <tr>\n",
       "      <th>3</th>\n",
       "      <td>서울70사6556</td>\n",
       "      <td>여유</td>\n",
       "      <td>126.998251</td>\n",
       "      <td>37.582581</td>\n",
       "      <td>100000003</td>\n",
       "      <td>101000042</td>\n",
       "      <td>1077</td>\n",
       "      <td>명륜3가.성대입구</td>\n",
       "      <td>해운센터.롯데영플라자</td>\n",
       "    </tr>\n",
       "    <tr>\n",
       "      <th>4</th>\n",
       "      <td>서울74사3008</td>\n",
       "      <td>여유</td>\n",
       "      <td>126.990431</td>\n",
       "      <td>37.577484</td>\n",
       "      <td>100000002</td>\n",
       "      <td>101000042</td>\n",
       "      <td>986</td>\n",
       "      <td>창경궁.서울대학교병원</td>\n",
       "      <td>해운센터.롯데영플라자</td>\n",
       "    </tr>\n",
       "    <tr>\n",
       "      <th>5</th>\n",
       "      <td>서울74사1537</td>\n",
       "      <td>여유</td>\n",
       "      <td>126.982571</td>\n",
       "      <td>37.566174</td>\n",
       "      <td>101000141</td>\n",
       "      <td>101000042</td>\n",
       "      <td>187</td>\n",
       "      <td>을지로입구역.광교</td>\n",
       "      <td>해운센터.롯데영플라자</td>\n",
       "    </tr>\n",
       "    <tr>\n",
       "      <th>6</th>\n",
       "      <td>서울74사1618</td>\n",
       "      <td>여유</td>\n",
       "      <td>126.978425</td>\n",
       "      <td>37.561164</td>\n",
       "      <td>101000032</td>\n",
       "      <td>102000018</td>\n",
       "      <td>752</td>\n",
       "      <td>북창동.남대문시장</td>\n",
       "      <td>남영역</td>\n",
       "    </tr>\n",
       "    <tr>\n",
       "      <th>7</th>\n",
       "      <td>서울74사3372</td>\n",
       "      <td>여유</td>\n",
       "      <td>126.97258</td>\n",
       "      <td>37.555598</td>\n",
       "      <td>101000004</td>\n",
       "      <td>102000018</td>\n",
       "      <td>424</td>\n",
       "      <td>서울역버스환승센터</td>\n",
       "      <td>남영역</td>\n",
       "    </tr>\n",
       "    <tr>\n",
       "      <th>8</th>\n",
       "      <td>서울75사2805</td>\n",
       "      <td>여유</td>\n",
       "      <td>126.963143</td>\n",
       "      <td>37.536365</td>\n",
       "      <td>102000050</td>\n",
       "      <td>118000061</td>\n",
       "      <td>312</td>\n",
       "      <td>원효로2가</td>\n",
       "      <td>시범아파트.대교아파트</td>\n",
       "    </tr>\n",
       "    <tr>\n",
       "      <th>9</th>\n",
       "      <td>서울70사6557</td>\n",
       "      <td>여유</td>\n",
       "      <td>126.934209</td>\n",
       "      <td>37.520708</td>\n",
       "      <td>118000061</td>\n",
       "      <td>118000070</td>\n",
       "      <td>1034</td>\n",
       "      <td>시범아파트.대교아파트</td>\n",
       "      <td>여의도역6번출구</td>\n",
       "    </tr>\n",
       "    <tr>\n",
       "      <th>10</th>\n",
       "      <td>서울74사1604</td>\n",
       "      <td>여유</td>\n",
       "      <td>126.926333</td>\n",
       "      <td>37.519539</td>\n",
       "      <td>118000068</td>\n",
       "      <td>118000070</td>\n",
       "      <td>805</td>\n",
       "      <td>샛강역1번출구.여의도자이</td>\n",
       "      <td>여의도역6번출구</td>\n",
       "    </tr>\n",
       "    <tr>\n",
       "      <th>11</th>\n",
       "      <td>서울74사3366</td>\n",
       "      <td>여유</td>\n",
       "      <td>126.924175</td>\n",
       "      <td>37.521664</td>\n",
       "      <td>118000076</td>\n",
       "      <td>118000070</td>\n",
       "      <td>179</td>\n",
       "      <td>한국경제인협회</td>\n",
       "      <td>여의도역6번출구</td>\n",
       "    </tr>\n",
       "    <tr>\n",
       "      <th>12</th>\n",
       "      <td>서울70사6549</td>\n",
       "      <td>여유</td>\n",
       "      <td>126.932582</td>\n",
       "      <td>37.519619</td>\n",
       "      <td>118000064</td>\n",
       "      <td>102000053</td>\n",
       "      <td>317</td>\n",
       "      <td>진주아파트</td>\n",
       "      <td>원효로3가</td>\n",
       "    </tr>\n",
       "    <tr>\n",
       "      <th>13</th>\n",
       "      <td>서울74사2296</td>\n",
       "      <td>여유</td>\n",
       "      <td>126.964614</td>\n",
       "      <td>37.537136</td>\n",
       "      <td>102000049</td>\n",
       "      <td>102000019</td>\n",
       "      <td>464</td>\n",
       "      <td>남정초등학교</td>\n",
       "      <td>남영역</td>\n",
       "    </tr>\n",
       "    <tr>\n",
       "      <th>14</th>\n",
       "      <td>서울74사2220</td>\n",
       "      <td>여유</td>\n",
       "      <td>126.972538</td>\n",
       "      <td>37.543296</td>\n",
       "      <td>102000009</td>\n",
       "      <td>101000007</td>\n",
       "      <td>284</td>\n",
       "      <td>숙대입구역</td>\n",
       "      <td>서울역버스환승센터.강우규의거터</td>\n",
       "    </tr>\n",
       "    <tr>\n",
       "      <th>15</th>\n",
       "      <td>서울74사8118</td>\n",
       "      <td>여유</td>\n",
       "      <td>126.972134</td>\n",
       "      <td>37.55072</td>\n",
       "      <td>102000011</td>\n",
       "      <td>101000007</td>\n",
       "      <td>111</td>\n",
       "      <td>갈월동</td>\n",
       "      <td>서울역버스환승센터.강우규의거터</td>\n",
       "    </tr>\n",
       "    <tr>\n",
       "      <th>16</th>\n",
       "      <td>서울70사6554</td>\n",
       "      <td>여유</td>\n",
       "      <td>126.980731</td>\n",
       "      <td>37.561539</td>\n",
       "      <td>101000114</td>\n",
       "      <td>101000043</td>\n",
       "      <td>203</td>\n",
       "      <td>남대문시장앞.이회영활동터</td>\n",
       "      <td>롯데영프라자</td>\n",
       "    </tr>\n",
       "    <tr>\n",
       "      <th>17</th>\n",
       "      <td>서울70사6553</td>\n",
       "      <td>여유</td>\n",
       "      <td>126.982424</td>\n",
       "      <td>37.564662</td>\n",
       "      <td>101000043</td>\n",
       "      <td>100000124</td>\n",
       "      <td>1140</td>\n",
       "      <td>롯데영프라자</td>\n",
       "      <td>혜화역2번출구.마로니에공원</td>\n",
       "    </tr>\n",
       "    <tr>\n",
       "      <th>18</th>\n",
       "      <td>서울70사6560</td>\n",
       "      <td>여유</td>\n",
       "      <td>126.996909</td>\n",
       "      <td>37.57593</td>\n",
       "      <td>100000414</td>\n",
       "      <td>100000124</td>\n",
       "      <td>399</td>\n",
       "      <td>창덕궁.돈화문국악당</td>\n",
       "      <td>혜화역2번출구.마로니에공원</td>\n",
       "    </tr>\n",
       "    <tr>\n",
       "      <th>19</th>\n",
       "      <td>서울74사3032</td>\n",
       "      <td>여유</td>\n",
       "      <td>127.002131</td>\n",
       "      <td>37.581105</td>\n",
       "      <td>100000124</td>\n",
       "      <td>107000171</td>\n",
       "      <td>766</td>\n",
       "      <td>혜화역2번출구.마로니에공원</td>\n",
       "      <td>아리랑고개.아리랑시네미디어센터</td>\n",
       "    </tr>\n",
       "    <tr>\n",
       "      <th>20</th>\n",
       "      <td>서울74사2216</td>\n",
       "      <td>여유</td>\n",
       "      <td>127.00871</td>\n",
       "      <td>37.589479</td>\n",
       "      <td>107000010</td>\n",
       "      <td>107000171</td>\n",
       "      <td>455</td>\n",
       "      <td>삼선교.한성대학교.조소앙활동터</td>\n",
       "      <td>아리랑고개.아리랑시네미디어센터</td>\n",
       "    </tr>\n",
       "    <tr>\n",
       "      <th>21</th>\n",
       "      <td>서울74사1625</td>\n",
       "      <td>여유</td>\n",
       "      <td>127.014748</td>\n",
       "      <td>37.597496</td>\n",
       "      <td>107000173</td>\n",
       "      <td>107000171</td>\n",
       "      <td>154</td>\n",
       "      <td>돈암2동주민센터입구.흥천사</td>\n",
       "      <td>아리랑고개.아리랑시네미디어센터</td>\n",
       "    </tr>\n",
       "    <tr>\n",
       "      <th>22</th>\n",
       "      <td>서울70사6558</td>\n",
       "      <td>여유</td>\n",
       "      <td>127.011287</td>\n",
       "      <td>37.605678</td>\n",
       "      <td>107000080</td>\n",
       "      <td>107000169</td>\n",
       "      <td>108</td>\n",
       "      <td>정릉우체국앞</td>\n",
       "      <td>정릉입구.정릉역</td>\n",
       "    </tr>\n",
       "    <tr>\n",
       "      <th>23</th>\n",
       "      <td>서울74사1638</td>\n",
       "      <td>여유</td>\n",
       "      <td>127.007691</td>\n",
       "      <td>37.612689</td>\n",
       "      <td>107000519</td>\n",
       "      <td>107000169</td>\n",
       "      <td>108</td>\n",
       "      <td>북한산보국문역1번출구</td>\n",
       "      <td>정릉입구.정릉역</td>\n",
       "    </tr>\n",
       "  </tbody>\n",
       "</table>\n",
       "</div>"
      ],
      "text/plain": [
       "         차량번호 혼잡도          경도         위도    최종정류소ID    다음정류소ID 도착소요시간  \\\n",
       "0   서울74사3030  여유  127.006543  37.613228  107000073  107000079    309   \n",
       "1   서울74사2201  여유  127.013375  37.602679  107000168  101000042   1934   \n",
       "2   서울74사1967  여유  127.014988  37.596937  107000172  101000042   1697   \n",
       "3   서울70사6556  여유  126.998251  37.582581  100000003  101000042   1077   \n",
       "4   서울74사3008  여유  126.990431  37.577484  100000002  101000042    986   \n",
       "5   서울74사1537  여유  126.982571  37.566174  101000141  101000042    187   \n",
       "6   서울74사1618  여유  126.978425  37.561164  101000032  102000018    752   \n",
       "7   서울74사3372  여유   126.97258  37.555598  101000004  102000018    424   \n",
       "8   서울75사2805  여유  126.963143  37.536365  102000050  118000061    312   \n",
       "9   서울70사6557  여유  126.934209  37.520708  118000061  118000070   1034   \n",
       "10  서울74사1604  여유  126.926333  37.519539  118000068  118000070    805   \n",
       "11  서울74사3366  여유  126.924175  37.521664  118000076  118000070    179   \n",
       "12  서울70사6549  여유  126.932582  37.519619  118000064  102000053    317   \n",
       "13  서울74사2296  여유  126.964614  37.537136  102000049  102000019    464   \n",
       "14  서울74사2220  여유  126.972538  37.543296  102000009  101000007    284   \n",
       "15  서울74사8118  여유  126.972134   37.55072  102000011  101000007    111   \n",
       "16  서울70사6554  여유  126.980731  37.561539  101000114  101000043    203   \n",
       "17  서울70사6553  여유  126.982424  37.564662  101000043  100000124   1140   \n",
       "18  서울70사6560  여유  126.996909   37.57593  100000414  100000124    399   \n",
       "19  서울74사3032  여유  127.002131  37.581105  100000124  107000171    766   \n",
       "20  서울74사2216  여유   127.00871  37.589479  107000010  107000171    455   \n",
       "21  서울74사1625  여유  127.014748  37.597496  107000173  107000171    154   \n",
       "22  서울70사6558  여유  127.011287  37.605678  107000080  107000169    108   \n",
       "23  서울74사1638  여유  127.007691  37.612689  107000519  107000169    108   \n",
       "\n",
       "              최종정류소명            다음정류소명  \n",
       "0       정릉4동주민센터.경국사            정릉우체국앞  \n",
       "1           정릉입구.정릉역       해운센터.롯데영플라자  \n",
       "2     돈암2동주민센터입구.흥천사       해운센터.롯데영플라자  \n",
       "3          명륜3가.성대입구       해운센터.롯데영플라자  \n",
       "4        창경궁.서울대학교병원       해운센터.롯데영플라자  \n",
       "5          을지로입구역.광교       해운센터.롯데영플라자  \n",
       "6          북창동.남대문시장               남영역  \n",
       "7          서울역버스환승센터               남영역  \n",
       "8              원효로2가       시범아파트.대교아파트  \n",
       "9        시범아파트.대교아파트          여의도역6번출구  \n",
       "10     샛강역1번출구.여의도자이          여의도역6번출구  \n",
       "11           한국경제인협회          여의도역6번출구  \n",
       "12             진주아파트             원효로3가  \n",
       "13            남정초등학교               남영역  \n",
       "14             숙대입구역  서울역버스환승센터.강우규의거터  \n",
       "15               갈월동  서울역버스환승센터.강우규의거터  \n",
       "16     남대문시장앞.이회영활동터            롯데영프라자  \n",
       "17            롯데영프라자    혜화역2번출구.마로니에공원  \n",
       "18        창덕궁.돈화문국악당    혜화역2번출구.마로니에공원  \n",
       "19    혜화역2번출구.마로니에공원  아리랑고개.아리랑시네미디어센터  \n",
       "20  삼선교.한성대학교.조소앙활동터  아리랑고개.아리랑시네미디어센터  \n",
       "21    돈암2동주민센터입구.흥천사  아리랑고개.아리랑시네미디어센터  \n",
       "22            정릉우체국앞          정릉입구.정릉역  \n",
       "23       북한산보국문역1번출구          정릉입구.정릉역  "
      ]
     },
     "execution_count": 295,
     "metadata": {},
     "output_type": "execute_result"
    }
   ],
   "source": [
    "df_pos = df_pos.apply(station_name, axis = 1)\n",
    "df_pos"
   ]
  },
  {
   "cell_type": "markdown",
   "id": "a2ab1422",
   "metadata": {},
   "source": [
    "# 3절. 연습문제\n",
    "- YES24 베스트셀러 정보 csv(txt)로 출력하기\n",
    "- 순위 , 책이름, 저자, 출판사, 가격(10위까지, 20위까지, 100위까지)"
   ]
  },
  {
   "cell_type": "code",
   "execution_count": 415,
   "id": "f9dc08fa",
   "metadata": {
    "ExecuteTime": {
     "end_time": "2024-12-10T08:32:03.572599Z",
     "start_time": "2024-12-10T08:32:02.147421Z"
    }
   },
   "outputs": [],
   "source": [
    "import requests\n",
    "from bs4 import BeautifulSoup\n",
    "import pandas as pd\n",
    "\n",
    "url = 'https://www.yes24.com/Product/Category/BestSeller?categoryNumber=001'\n",
    "pageNumber = 1\n",
    "pageSize   = 24\n",
    "params = {'pageNumber':pageNumber, 'pageSize':pageSize}\n",
    "response = requests.get(url, params = params)\n",
    "soup = BeautifulSoup(response.text, \"html.parser\")\n",
    "book_list = []\n",
    "\n",
    "rank      = soup.select('div.img_upper > em')\n",
    "bookNm    = soup.select('div.info_name > a.gd_name')\n",
    "author    = soup.select('div.info_pubGrp > span.info_auth')\n",
    "# print([a.text.strip() for a in author])\n",
    "publisher = soup.select('div.info_pubGrp > span.info_pub > a ')\n",
    "price     = soup.select('div.info_price > strong > em')\n",
    "\n",
    "for idx in range(len(rank)):\n",
    "#     print('{}, {} 원저/{} |{},\"{}\"'.format(rank[idx].text,\n",
    "#                                                bookNm[idx].text,\n",
    "#                                                author[idx].text.strip()[:30] if len(author[idx].text) >= 30 else author[idx].text.strip(),\n",
    "#                                                publisher[idx].text,\n",
    "#                                                price[idx].text))      \n",
    "    book_list.append([rank[idx].text,\n",
    "                     bookNm[idx].text,\n",
    "                     author[idx].text.strip()[:30] if len(author[idx].text) >= 30 else author[idx].text.strip(),\n",
    "                     publisher[idx].text,\n",
    "                     price[idx].text])\n",
    "\n",
    "df = pd.DataFrame(book_list)\n",
    "df.columns = ['순위', '제목', '저자', '출판사', '가격']\n",
    "df.to_csv('data/ch14_yes24.csv', index = False)"
   ]
  },
  {
   "cell_type": "code",
   "execution_count": 414,
   "id": "dfd3480c",
   "metadata": {
    "ExecuteTime": {
     "end_time": "2024-12-10T08:26:11.776614Z",
     "start_time": "2024-12-10T08:26:11.764875Z"
    }
   },
   "outputs": [
    {
     "data": {
      "text/html": [
       "<div>\n",
       "<style scoped>\n",
       "    .dataframe tbody tr th:only-of-type {\n",
       "        vertical-align: middle;\n",
       "    }\n",
       "\n",
       "    .dataframe tbody tr th {\n",
       "        vertical-align: top;\n",
       "    }\n",
       "\n",
       "    .dataframe thead th {\n",
       "        text-align: right;\n",
       "    }\n",
       "</style>\n",
       "<table border=\"1\" class=\"dataframe\">\n",
       "  <thead>\n",
       "    <tr style=\"text-align: right;\">\n",
       "      <th></th>\n",
       "      <th>순위</th>\n",
       "      <th>제목</th>\n",
       "      <th>저자</th>\n",
       "      <th>출판사</th>\n",
       "      <th>가격</th>\n",
       "    </tr>\n",
       "  </thead>\n",
       "  <tbody>\n",
       "    <tr>\n",
       "      <th>0</th>\n",
       "      <td>1</td>\n",
       "      <td>소년이 온다</td>\n",
       "      <td>한강 저</td>\n",
       "      <td>창비</td>\n",
       "      <td>13,500</td>\n",
       "    </tr>\n",
       "    <tr>\n",
       "      <th>1</th>\n",
       "      <td>2</td>\n",
       "      <td>채식주의자</td>\n",
       "      <td>한강 저</td>\n",
       "      <td>창비</td>\n",
       "      <td>13,500</td>\n",
       "    </tr>\n",
       "    <tr>\n",
       "      <th>2</th>\n",
       "      <td>3</td>\n",
       "      <td>작별하지 않는다</td>\n",
       "      <td>한강 저</td>\n",
       "      <td>문학동네</td>\n",
       "      <td>15,120</td>\n",
       "    </tr>\n",
       "    <tr>\n",
       "      <th>3</th>\n",
       "      <td>4</td>\n",
       "      <td>하루 한 장 나의 어휘력을 위한 필사 노트</td>\n",
       "      <td>유선경 저</td>\n",
       "      <td>위즈덤하우스</td>\n",
       "      <td>21,420</td>\n",
       "    </tr>\n",
       "    <tr>\n",
       "      <th>4</th>\n",
       "      <td>5</td>\n",
       "      <td>서랍에 저녁을 넣어 두었다</td>\n",
       "      <td>한강 저</td>\n",
       "      <td>문학과지성사</td>\n",
       "      <td>10,800</td>\n",
       "    </tr>\n",
       "    <tr>\n",
       "      <th>5</th>\n",
       "      <td>6</td>\n",
       "      <td>트렌드 코리아 2025</td>\n",
       "      <td>김난도, 전미영, 최지혜, 권정윤, 한다혜 저 외 5명</td>\n",
       "      <td>미래의창</td>\n",
       "      <td>18,000</td>\n",
       "    </tr>\n",
       "    <tr>\n",
       "      <th>6</th>\n",
       "      <td>7</td>\n",
       "      <td>흰</td>\n",
       "      <td>한강 저/최진혁 사진</td>\n",
       "      <td>문학동네</td>\n",
       "      <td>13,050</td>\n",
       "    </tr>\n",
       "    <tr>\n",
       "      <th>7</th>\n",
       "      <td>8</td>\n",
       "      <td>산타 할아버지의 첫 크리스마스</td>\n",
       "      <td>맥 바넷 글/시드니 스미스 그림/김지은 역</td>\n",
       "      <td>책읽는곰</td>\n",
       "      <td>13,500</td>\n",
       "    </tr>\n",
       "    <tr>\n",
       "      <th>8</th>\n",
       "      <td>9</td>\n",
       "      <td>희랍어 시간</td>\n",
       "      <td>한강 저</td>\n",
       "      <td>문학동네</td>\n",
       "      <td>11,700</td>\n",
       "    </tr>\n",
       "    <tr>\n",
       "      <th>9</th>\n",
       "      <td>10</td>\n",
       "      <td>넥서스</td>\n",
       "      <td>유발 하라리 저/김명주 역</td>\n",
       "      <td>김영사</td>\n",
       "      <td>25,020</td>\n",
       "    </tr>\n",
       "    <tr>\n",
       "      <th>10</th>\n",
       "      <td>11</td>\n",
       "      <td>어른의 행복은 조용하다</td>\n",
       "      <td>태수 저</td>\n",
       "      <td>페이지2북스</td>\n",
       "      <td>16,020</td>\n",
       "    </tr>\n",
       "    <tr>\n",
       "      <th>11</th>\n",
       "      <td>12</td>\n",
       "      <td>트럼프 2.0 시대</td>\n",
       "      <td>박종훈 저</td>\n",
       "      <td>글로퍼스</td>\n",
       "      <td>18,000</td>\n",
       "    </tr>\n",
       "    <tr>\n",
       "      <th>12</th>\n",
       "      <td>13</td>\n",
       "      <td>트럼프와 함께하는 알트코인 대폭등</td>\n",
       "      <td>강환국 저</td>\n",
       "      <td>거인의정원</td>\n",
       "      <td>24,300</td>\n",
       "    </tr>\n",
       "    <tr>\n",
       "      <th>13</th>\n",
       "      <td>14</td>\n",
       "      <td>일의 감각</td>\n",
       "      <td>조수용 저</td>\n",
       "      <td>레퍼런스 바이 비(REFERENCE by B)</td>\n",
       "      <td>19,800</td>\n",
       "    </tr>\n",
       "    <tr>\n",
       "      <th>14</th>\n",
       "      <td>15</td>\n",
       "      <td>해피버쓰데이</td>\n",
       "      <td>백희나 글그림</td>\n",
       "      <td>스토리보울</td>\n",
       "      <td>15,300</td>\n",
       "    </tr>\n",
       "    <tr>\n",
       "      <th>15</th>\n",
       "      <td>16</td>\n",
       "      <td>고전이 답했다 마땅히 살아야 할 삶에 대하여 (나만의 책 만들기 에디션)</td>\n",
       "      <td>고명환 저</td>\n",
       "      <td>라곰</td>\n",
       "      <td>15,120</td>\n",
       "    </tr>\n",
       "    <tr>\n",
       "      <th>16</th>\n",
       "      <td>17</td>\n",
       "      <td>퓨처 셀프 30만 부 기념 스페셜 에디션</td>\n",
       "      <td>벤저민 하디 저/최은아 역</td>\n",
       "      <td>상상스퀘어</td>\n",
       "      <td>19,800</td>\n",
       "    </tr>\n",
       "    <tr>\n",
       "      <th>17</th>\n",
       "      <td>18</td>\n",
       "      <td>린치핀</td>\n",
       "      <td>세스 고딘 저/윤영삼 역</td>\n",
       "      <td>필름</td>\n",
       "      <td>21,420</td>\n",
       "    </tr>\n",
       "    <tr>\n",
       "      <th>18</th>\n",
       "      <td>19</td>\n",
       "      <td>모순</td>\n",
       "      <td>양귀자 저</td>\n",
       "      <td>쓰다</td>\n",
       "      <td>11,700</td>\n",
       "    </tr>\n",
       "    <tr>\n",
       "      <th>19</th>\n",
       "      <td>20</td>\n",
       "      <td>김미경의 딥마인드</td>\n",
       "      <td>김미경 저</td>\n",
       "      <td>어웨이크북스</td>\n",
       "      <td>16,200</td>\n",
       "    </tr>\n",
       "    <tr>\n",
       "      <th>20</th>\n",
       "      <td>21</td>\n",
       "      <td>너에게 들려주는 단단한 말</td>\n",
       "      <td>김종원 저</td>\n",
       "      <td>퍼스트펭귄</td>\n",
       "      <td>16,200</td>\n",
       "    </tr>\n",
       "    <tr>\n",
       "      <th>21</th>\n",
       "      <td>22</td>\n",
       "      <td>ETS 토익 정기시험 기출문제집 1000 Vol. 4 RC</td>\n",
       "      <td>ETS 저</td>\n",
       "      <td>YBM(와이비엠)</td>\n",
       "      <td>17,820</td>\n",
       "    </tr>\n",
       "    <tr>\n",
       "      <th>22</th>\n",
       "      <td>23</td>\n",
       "      <td>세이노의 가르침</td>\n",
       "      <td>세이노(SayNo) 저</td>\n",
       "      <td>데이원</td>\n",
       "      <td>6,480</td>\n",
       "    </tr>\n",
       "    <tr>\n",
       "      <th>23</th>\n",
       "      <td>24</td>\n",
       "      <td>후 who? special 아이브</td>\n",
       "      <td>조약돌 글/백재이 그림</td>\n",
       "      <td>다산어린이</td>\n",
       "      <td>13,500</td>\n",
       "    </tr>\n",
       "  </tbody>\n",
       "</table>\n",
       "</div>"
      ],
      "text/plain": [
       "    순위                                        제목  \\\n",
       "0    1                                    소년이 온다   \n",
       "1    2                                     채식주의자   \n",
       "2    3                                  작별하지 않는다   \n",
       "3    4                   하루 한 장 나의 어휘력을 위한 필사 노트   \n",
       "4    5                            서랍에 저녁을 넣어 두었다   \n",
       "5    6                              트렌드 코리아 2025   \n",
       "6    7                                         흰   \n",
       "7    8                          산타 할아버지의 첫 크리스마스   \n",
       "8    9                                    희랍어 시간   \n",
       "9   10                                       넥서스   \n",
       "10  11                              어른의 행복은 조용하다   \n",
       "11  12                                트럼프 2.0 시대   \n",
       "12  13                        트럼프와 함께하는 알트코인 대폭등   \n",
       "13  14                                     일의 감각   \n",
       "14  15                                    해피버쓰데이   \n",
       "15  16  고전이 답했다 마땅히 살아야 할 삶에 대하여 (나만의 책 만들기 에디션)   \n",
       "16  17                    퓨처 셀프 30만 부 기념 스페셜 에디션   \n",
       "17  18                                       린치핀   \n",
       "18  19                                        모순   \n",
       "19  20                                 김미경의 딥마인드   \n",
       "20  21                            너에게 들려주는 단단한 말   \n",
       "21  22          ETS 토익 정기시험 기출문제집 1000 Vol. 4 RC   \n",
       "22  23                                  세이노의 가르침   \n",
       "23  24                        후 who? special 아이브   \n",
       "\n",
       "                                저자                        출판사      가격  \n",
       "0                             한강 저                         창비  13,500  \n",
       "1                             한강 저                         창비  13,500  \n",
       "2                             한강 저                       문학동네  15,120  \n",
       "3                            유선경 저                     위즈덤하우스  21,420  \n",
       "4                             한강 저                     문학과지성사  10,800  \n",
       "5   김난도, 전미영, 최지혜, 권정윤, 한다혜 저 외 5명                       미래의창  18,000  \n",
       "6                      한강 저/최진혁 사진                       문학동네  13,050  \n",
       "7          맥 바넷 글/시드니 스미스 그림/김지은 역                       책읽는곰  13,500  \n",
       "8                             한강 저                       문학동네  11,700  \n",
       "9                   유발 하라리 저/김명주 역                        김영사  25,020  \n",
       "10                            태수 저                     페이지2북스  16,020  \n",
       "11                           박종훈 저                       글로퍼스  18,000  \n",
       "12                           강환국 저                      거인의정원  24,300  \n",
       "13                           조수용 저  레퍼런스 바이 비(REFERENCE by B)  19,800  \n",
       "14                         백희나 글그림                      스토리보울  15,300  \n",
       "15                           고명환 저                         라곰  15,120  \n",
       "16                  벤저민 하디 저/최은아 역                      상상스퀘어  19,800  \n",
       "17                   세스 고딘 저/윤영삼 역                         필름  21,420  \n",
       "18                           양귀자 저                         쓰다  11,700  \n",
       "19                           김미경 저                     어웨이크북스  16,200  \n",
       "20                           김종원 저                      퍼스트펭귄  16,200  \n",
       "21                           ETS 저                  YBM(와이비엠)  17,820  \n",
       "22                    세이노(SayNo) 저                        데이원   6,480  \n",
       "23                    조약돌 글/백재이 그림                      다산어린이  13,500  "
      ]
     },
     "execution_count": 414,
     "metadata": {},
     "output_type": "execute_result"
    }
   ],
   "source": [
    "df"
   ]
  },
  {
   "cell_type": "code",
   "execution_count": null,
   "id": "0fb8b9f3",
   "metadata": {},
   "outputs": [],
   "source": []
  },
  {
   "cell_type": "code",
   "execution_count": null,
   "id": "36595f14",
   "metadata": {},
   "outputs": [],
   "source": []
  },
  {
   "cell_type": "code",
   "execution_count": null,
   "id": "788634bc",
   "metadata": {},
   "outputs": [],
   "source": []
  },
  {
   "cell_type": "code",
   "execution_count": null,
   "id": "8b6766f3",
   "metadata": {},
   "outputs": [],
   "source": []
  },
  {
   "cell_type": "code",
   "execution_count": null,
   "id": "bcc99457",
   "metadata": {},
   "outputs": [],
   "source": []
  },
  {
   "cell_type": "code",
   "execution_count": null,
   "id": "60ad0370",
   "metadata": {},
   "outputs": [],
   "source": []
  },
  {
   "cell_type": "code",
   "execution_count": null,
   "id": "84953ba5",
   "metadata": {},
   "outputs": [],
   "source": []
  }
 ],
 "metadata": {
  "kernelspec": {
   "display_name": "Python 3 (ipykernel)",
   "language": "python",
   "name": "python3"
  },
  "language_info": {
   "codemirror_mode": {
    "name": "ipython",
    "version": 3
   },
   "file_extension": ".py",
   "mimetype": "text/x-python",
   "name": "python",
   "nbconvert_exporter": "python",
   "pygments_lexer": "ipython3",
   "version": "3.10.9"
  },
  "toc": {
   "base_numbering": 1,
   "nav_menu": {},
   "number_sections": true,
   "sideBar": true,
   "skip_h1_title": false,
   "title_cell": "Table of Contents",
   "title_sidebar": "Contents",
   "toc_cell": false,
   "toc_position": {
    "height": "calc(100% - 180px)",
    "left": "10px",
    "top": "150px",
    "width": "245px"
   },
   "toc_section_display": true,
   "toc_window_display": true
  }
 },
 "nbformat": 4,
 "nbformat_minor": 5
}
