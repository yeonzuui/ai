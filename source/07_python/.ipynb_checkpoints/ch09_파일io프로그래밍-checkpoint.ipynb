{
 "cells": [
  {
   "cell_type": "markdown",
   "id": "78872ac1",
   "metadata": {},
   "source": [
    "<b><font size=\"6\" color=\"red\">ch09. 파일 i/o 프로그래밍</font><b>"
   ]
  },
  {
   "cell_type": "markdown",
   "id": "62a9dbb8",
   "metadata": {},
   "source": [
    "# 1절. 파일에 데이터 저장하고 불러오기"
   ]
  },
  {
   "cell_type": "code",
   "execution_count": 3,
   "id": "b2f6d825",
   "metadata": {
    "ExecuteTime": {
     "end_time": "2024-11-18T02:54:37.390073Z",
     "start_time": "2024-11-18T02:54:37.384088Z"
    }
   },
   "outputs": [
    {
     "name": "stdout",
     "output_type": "stream",
     "text": [
      "True\n"
     ]
    }
   ],
   "source": [
    "# 'r' or 'rt'        (default) 기존 파일 있으면 읽기, 파일 없으면 예외 발생 \n",
    "# 'w' or 'wt'        기존 파일 있으면 덮어쓰기, 파일 없으면 생성하여 쓰기\n",
    "# 'a' or 'at'        기존 파일 있으면 append, 파일 없으면 생성하여 쓰기\n",
    "#                    쓰기 모드는 폴더가 없는 경우 예외 발생\n",
    "f = open('data/ch09_sample.txt', 'w')\n",
    "print(f.writable()) # write 가능 여부"
   ]
  },
  {
   "cell_type": "code",
   "execution_count": 5,
   "id": "a9c9030f",
   "metadata": {
    "ExecuteTime": {
     "end_time": "2024-11-18T02:55:46.612641Z",
     "start_time": "2024-11-18T02:55:46.607654Z"
    }
   },
   "outputs": [],
   "source": [
    "f.write('Hello\\nWorld\\nHello\\nPython\\n') # 한글을 write하면 CP949로 저장(win)\n",
    "f.close() # write 시 close해야 반영"
   ]
  },
  {
   "cell_type": "code",
   "execution_count": 6,
   "id": "d0f3aefc",
   "metadata": {
    "ExecuteTime": {
     "end_time": "2024-11-18T02:59:53.294079Z",
     "start_time": "2024-11-18T02:59:53.288096Z"
    }
   },
   "outputs": [
    {
     "name": "stdout",
     "output_type": "stream",
     "text": [
      "write 가능 여부: True\n"
     ]
    }
   ],
   "source": [
    "# with구문을 사용하면 매번 close하는 코드 불필요\n",
    "with open('data/ch09_sample.txt', 'wt') as f: # wt(덮어쓰기)\n",
    "    print('write 가능 여부:', f.writable())\n",
    "    f.write('Python is easy.\\nPython is smart.\\n')"
   ]
  },
  {
   "cell_type": "code",
   "execution_count": 8,
   "id": "792361b9",
   "metadata": {
    "ExecuteTime": {
     "end_time": "2024-11-18T03:02:14.197947Z",
     "start_time": "2024-11-18T03:02:14.190788Z"
    }
   },
   "outputs": [
    {
     "name": "stdout",
     "output_type": "stream",
     "text": [
      "프린트 함수로 파일 쓰기가 가능합니다-콘솔 출력\n"
     ]
    }
   ],
   "source": [
    "with open('data/ch09_sample.txt', 'at') as f: # at(append)\n",
    "    print('프린트 함수로 파일 쓰기가 가능합니다-콘솔 출력')\n",
    "    print('프린트 함수로 파일 쓰기가 가능합니다-파일 출력', file=f)"
   ]
  },
  {
   "cell_type": "markdown",
   "id": "3fce9ba9",
   "metadata": {},
   "source": [
    "    - euc-kr: 한글완성형 (믜 X)\n",
    "    - cp949 : 확장된 한글완성형 (믜 O) - 엑셀에서 \n",
    "    - utf-8 : 한글조합형(초중종성 따로 조합해서 저장) - 주피터노트북에서 "
   ]
  },
  {
   "cell_type": "code",
   "execution_count": 11,
   "id": "16463eaf",
   "metadata": {
    "ExecuteTime": {
     "end_time": "2024-11-18T03:32:43.693403Z",
     "start_time": "2024-11-18T03:32:43.688871Z"
    }
   },
   "outputs": [],
   "source": [
    "# 인코딩 방식 지정: encoding='',\n",
    "with open('data/ch09_sample.txt', 'w', encoding='utf-8') as f: # utf-8 대소문자 무관\n",
    "    f.write('= 여러 줄의 text를 쓰기 =\\n')\n",
    "    f.write('sol 1. Hello\\nWorld\\n')\n",
    "    textlist = ['홍길동,30,서울\\n', '김길동,20,안양\\n']\n",
    "    f.write('sol 2. \\n')\n",
    "    for line in textlist:\n",
    "        f.write(line)\n",
    "    f.write('sol 3. \\n')\n",
    "    f.writelines(textlist)"
   ]
  },
  {
   "cell_type": "code",
   "execution_count": 12,
   "id": "03be6a4c",
   "metadata": {
    "ExecuteTime": {
     "end_time": "2024-11-18T03:36:07.354052Z",
     "start_time": "2024-11-18T03:36:06.839988Z"
    },
    "collapsed": true
   },
   "outputs": [
    {
     "ename": "UnicodeDecodeError",
     "evalue": "'cp949' codec can't decode byte 0xec in position 2: illegal multibyte sequence",
     "output_type": "error",
     "traceback": [
      "\u001b[1;31m---------------------------------------------------------------------------\u001b[0m",
      "\u001b[1;31mUnicodeDecodeError\u001b[0m                        Traceback (most recent call last)",
      "Cell \u001b[1;32mIn[12], line 3\u001b[0m\n\u001b[0;32m      1\u001b[0m \u001b[38;5;66;03m# 파일을 한 줄 읽고 출력, ... 반복\u001b[39;00m\n\u001b[0;32m      2\u001b[0m \u001b[38;5;28;01mwith\u001b[39;00m \u001b[38;5;28mopen\u001b[39m(\u001b[38;5;124m'\u001b[39m\u001b[38;5;124mdata/ch09_sample.txt\u001b[39m\u001b[38;5;124m'\u001b[39m, \u001b[38;5;124m'\u001b[39m\u001b[38;5;124mr\u001b[39m\u001b[38;5;124m'\u001b[39m) \u001b[38;5;28;01mas\u001b[39;00m f:\n\u001b[1;32m----> 3\u001b[0m     line \u001b[38;5;241m=\u001b[39m \u001b[43mf\u001b[49m\u001b[38;5;241;43m.\u001b[39;49m\u001b[43mreadline\u001b[49m\u001b[43m(\u001b[49m\u001b[43m)\u001b[49m\n",
      "\u001b[1;31mUnicodeDecodeError\u001b[0m: 'cp949' codec can't decode byte 0xec in position 2: illegal multibyte sequence"
     ]
    }
   ],
   "source": [
    "# 파일을 한 줄 읽고 출력, ... 반복\n",
    "with open('data/ch09_sample.txt', 'r') as f:\n",
    "    line = f.readline() # UnicodeDecodeError"
   ]
  },
  {
   "cell_type": "code",
   "execution_count": 14,
   "id": "4fc7d802",
   "metadata": {
    "ExecuteTime": {
     "end_time": "2024-11-18T03:39:07.822529Z",
     "start_time": "2024-11-18T03:39:07.816543Z"
    }
   },
   "outputs": [
    {
     "name": "stdout",
     "output_type": "stream",
     "text": [
      "= 여러 줄의 text를 쓰기 =\n",
      "sol 1. Hello\n",
      "World\n",
      "sol 2. \n",
      "홍길동,30,서울\n",
      "김길동,20,안양\n",
      "sol 3. \n",
      "홍길동,30,서울\n",
      "김길동,20,안양\n"
     ]
    }
   ],
   "source": [
    "with open('data/ch09_sample.txt', 'r', encoding='utf-8') as f: # 인코딩 지정\n",
    "    line = f.readline()\n",
    "    while line != '':\n",
    "        print(line, end='') # 파일에 \\n 포함됨, 중복 개행 제거\n",
    "        line = f.readline()"
   ]
  },
  {
   "cell_type": "code",
   "execution_count": 16,
   "id": "4c797717",
   "metadata": {
    "ExecuteTime": {
     "end_time": "2024-11-18T03:41:59.629674Z",
     "start_time": "2024-11-18T03:41:59.623689Z"
    }
   },
   "outputs": [
    {
     "name": "stdout",
     "output_type": "stream",
     "text": [
      "['= 여러 줄의 text를 쓰기 =\\n', 'sol 1. Hello\\n', 'World\\n', 'sol 2. \\n', '홍길동,30,서울\\n', '김길동,20,안양\\n', 'sol 3. \\n', '홍길동,30,서울\\n', '김길동,20,안양\\n']\n"
     ]
    }
   ],
   "source": [
    "# 파일을 한꺼번에 여러줄 읽어 list를 return\n",
    "with open('data/ch09_sample.txt', 'rt', encoding='utf-8') as f:\n",
    "    lines = f.readlines() # list로 return\n",
    "    print(lines)"
   ]
  },
  {
   "cell_type": "code",
   "execution_count": 18,
   "id": "d24ca2ba",
   "metadata": {
    "ExecuteTime": {
     "end_time": "2024-11-18T03:42:25.156470Z",
     "start_time": "2024-11-18T03:42:25.151461Z"
    }
   },
   "outputs": [
    {
     "name": "stdout",
     "output_type": "stream",
     "text": [
      "= 여러 줄의 text를 쓰기 =\n",
      "sol 1. Hello\n",
      "World\n",
      "sol 2. \n",
      "홍길동,30,서울\n",
      "김길동,20,안양\n",
      "sol 3. \n",
      "홍길동,30,서울\n",
      "김길동,20,안양\n"
     ]
    }
   ],
   "source": [
    "for line in lines:\n",
    "    print(line, end='')"
   ]
  },
  {
   "cell_type": "markdown",
   "id": "84d96f28",
   "metadata": {},
   "source": [
    "# 2절. 피클을 이용한 객체 저장 및 불러오기\n",
    "## 2.1 형식이 있는 텍스트 데이터 불러오기"
   ]
  },
  {
   "cell_type": "code",
   "execution_count": 28,
   "id": "6df548d8",
   "metadata": {
    "ExecuteTime": {
     "end_time": "2024-11-18T03:57:55.977587Z",
     "start_time": "2024-11-18T03:57:55.969472Z"
    }
   },
   "outputs": [
    {
     "name": "stdout",
     "output_type": "stream",
     "text": [
      "이름:홍길동, 나이:20, 메일:kildong@hong.com,\t 주소:서울시 관악구\n",
      "이름:홍길숙, 나이:25, 메일:kilsuk@hong.com,\t 주소:서울시 영등포구\n",
      "이름:신길동, 나이:20, 메일:shinkil@sin.com,\t 주소:서울시 동작구\n"
     ]
    }
   ],
   "source": [
    "with open('data/ch09_member.txt', 'r', encoding='utf-8') as f:\n",
    "    lines = f.readlines()\n",
    "#     print(lines)\n",
    "for line in lines:\n",
    "#     print(line)\n",
    "    data = line.strip().split(', ') # strip(): 앞뒤 white space(문자열 및 공백) 제거\n",
    "    name    = data[0]\n",
    "    age     = int(data[1].strip())\n",
    "    email   = data[2].strip()\n",
    "    address = data[3].strip()\n",
    "    print('이름:{}, 나이:{}, 메일:{},\\t 주소:{}'.format(name, age, email, address))"
   ]
  },
  {
   "cell_type": "code",
   "execution_count": 31,
   "id": "6dc5d907",
   "metadata": {
    "ExecuteTime": {
     "end_time": "2024-11-18T04:03:04.471495Z",
     "start_time": "2024-11-18T04:03:04.464534Z"
    }
   },
   "outputs": [],
   "source": [
    "class Member:\n",
    "    def __init__(self, name, age, email, address):\n",
    "        self.name    = name\n",
    "        self.age     = age\n",
    "        self.email   = email\n",
    "        self.address = address\n",
    "    def __str__(self):\n",
    "        return \"이름:{}, 나이:{}, 메일:{},\\t주소:{}\".format(\\\n",
    "                                                   self.name, self.age, self.email, self.address)\n",
    "    def as_dict(self): # 객체를 딕셔너리로 바꿔 return\n",
    "        return {\n",
    "                'name'   : self.name,\n",
    "                'age'    : self.age,\n",
    "                'email'  : self.email,\n",
    "                'address': self.address\n",
    "               }"
   ]
  },
  {
   "cell_type": "code",
   "execution_count": 33,
   "id": "baaa9140",
   "metadata": {
    "ExecuteTime": {
     "end_time": "2024-11-18T04:03:32.997582Z",
     "start_time": "2024-11-18T04:03:32.992216Z"
    }
   },
   "outputs": [
    {
     "name": "stdout",
     "output_type": "stream",
     "text": [
      "이름:홍길동, 나이:22, 메일:hong@hong.com,\t주소:서울\n",
      "{'name': '홍길동', 'age': 22, 'email': 'hong@hong.com', 'address': '서울'}\n"
     ]
    }
   ],
   "source": [
    "user = Member('홍길동', 22, 'hong@hong.com', '서울')\n",
    "print(user)           # __str__ test\n",
    "print(user.as_dict()) # as_dict test"
   ]
  },
  {
   "cell_type": "code",
   "execution_count": 37,
   "id": "adecd72e",
   "metadata": {
    "ExecuteTime": {
     "end_time": "2024-11-18T04:10:27.695345Z",
     "start_time": "2024-11-18T04:10:27.689355Z"
    }
   },
   "outputs": [],
   "source": [
    "# 파일의 내용을 읽어들여 member list나 딕셔너리 list로 읽기\n",
    "user_list = [] # member list\n",
    "user_dict = [] # 딕셔너리 list\n",
    "with open('data/ch09_member.txt', 'r', encoding='utf-8') as f:\n",
    "    lines = f.readlines()\n",
    "for line in lines:\n",
    "    data = line.strip().split(',')\n",
    "    name    = data[0]\n",
    "    age     = int(data[1].strip())\n",
    "    email   = data[2].strip()\n",
    "    address = data[3].strip()\n",
    "    user = Member(name, age, email, address)\n",
    "    user_list.append(user)\n",
    "    user_dict.append(user.as_dict())"
   ]
  },
  {
   "cell_type": "code",
   "execution_count": 38,
   "id": "7c884a15",
   "metadata": {
    "ExecuteTime": {
     "end_time": "2024-11-18T04:10:50.940833Z",
     "start_time": "2024-11-18T04:10:50.936274Z"
    }
   },
   "outputs": [
    {
     "name": "stdout",
     "output_type": "stream",
     "text": [
      "이름:홍길동, 나이:20, 메일:kildong@hong.com,\t주소:서울시 관악구\n",
      "이름:홍길숙, 나이:25, 메일:kilsuk@hong.com,\t주소:서울시 영등포구\n",
      "이름:신길동, 나이:20, 메일:shinkil@sin.com,\t주소:서울시 동작구\n"
     ]
    }
   ],
   "source": [
    "# user_list (객체 list)\n",
    "for user in user_list:\n",
    "    print(user)"
   ]
  },
  {
   "cell_type": "code",
   "execution_count": 39,
   "id": "0b970448",
   "metadata": {
    "ExecuteTime": {
     "end_time": "2024-11-18T04:11:11.896156Z",
     "start_time": "2024-11-18T04:11:11.889631Z"
    }
   },
   "outputs": [
    {
     "data": {
      "text/plain": [
       "[{'name': '홍길동', 'age': 20, 'email': 'kildong@hong.com', 'address': '서울시 관악구'},\n",
       " {'name': '홍길숙', 'age': 25, 'email': 'kilsuk@hong.com', 'address': '서울시 영등포구'},\n",
       " {'name': '신길동', 'age': 20, 'email': 'shinkil@sin.com', 'address': '서울시 동작구'}]"
      ]
     },
     "execution_count": 39,
     "metadata": {},
     "output_type": "execute_result"
    }
   ],
   "source": [
    "# user_dict (딕셔너리 list)\n",
    "user_dict"
   ]
  },
  {
   "cell_type": "markdown",
   "id": "0c3023dc",
   "metadata": {},
   "source": [
    "## 2.2 피클링"
   ]
  },
  {
   "cell_type": "code",
   "execution_count": 55,
   "id": "72f4ee91",
   "metadata": {
    "ExecuteTime": {
     "end_time": "2024-11-18T05:24:55.337701Z",
     "start_time": "2024-11-18T05:24:55.331153Z"
    }
   },
   "outputs": [],
   "source": [
    "class Member:\n",
    "    def __init__(self, name, age, email, address):\n",
    "        self.name    = name\n",
    "        self.age     = age\n",
    "        self.email   = email\n",
    "        self.address = address\n",
    "    def __str__(self):\n",
    "        return \"이름:{}, 나이:{}, 메일:{},\\t주소:{}\".format(\\\n",
    "                                                   self.name, self.age, self.email, self.address)\n",
    "    def __eq__(self, other):\n",
    "        \"\"\"\n",
    "        user1.__eq__(user2) 호출 시 user1과 user2의 속성변수들이 같은지 여부\n",
    "        \"\"\"\n",
    "        if isinstance(other, Member):\n",
    "            return  self.name    == other.name \\\n",
    "                and self.age     == other.age \\\n",
    "                and self.email   == other.email \\\n",
    "                and self.address == other.address \n",
    "        else:\n",
    "            return False\n",
    "    def as_dict(self): # 객체를 딕셔너리로 바꿔 return\n",
    "        return {\n",
    "                'name'   : self.name,\n",
    "                'age'    : self.age,\n",
    "                'email'  : self.email,\n",
    "                'address': self.address\n",
    "               }\n",
    "    "
   ]
  },
  {
   "cell_type": "code",
   "execution_count": 56,
   "id": "a3541760",
   "metadata": {
    "ExecuteTime": {
     "end_time": "2024-11-18T05:24:55.702359Z",
     "start_time": "2024-11-18T05:24:55.697837Z"
    }
   },
   "outputs": [],
   "source": [
    "user1 = Member(\"홍길동\", 20, 'h@h.com', '서울')\n",
    "user2 = Member(\"홍길동\", 20, 'h@h.com', '서울')"
   ]
  },
  {
   "cell_type": "code",
   "execution_count": 57,
   "id": "0772cc5a",
   "metadata": {
    "ExecuteTime": {
     "end_time": "2024-11-18T05:24:56.102360Z",
     "start_time": "2024-11-18T05:24:56.084574Z"
    }
   },
   "outputs": [],
   "source": [
    "# user1 == user2 # False"
   ]
  },
  {
   "cell_type": "code",
   "execution_count": 58,
   "id": "73a1a209",
   "metadata": {
    "ExecuteTime": {
     "end_time": "2024-11-18T05:24:57.270300Z",
     "start_time": "2024-11-18T05:24:57.266302Z"
    }
   },
   "outputs": [
    {
     "name": "stdout",
     "output_type": "stream",
     "text": [
      "True\n",
      "True\n"
     ]
    }
   ],
   "source": [
    "print(user1.__eq__(user2))\n",
    "print(user1 == user2)"
   ]
  },
  {
   "cell_type": "code",
   "execution_count": 42,
   "id": "5791f2ce",
   "metadata": {
    "ExecuteTime": {
     "end_time": "2024-11-18T05:16:57.590919Z",
     "start_time": "2024-11-18T05:16:57.586920Z"
    }
   },
   "outputs": [
    {
     "name": "stdout",
     "output_type": "stream",
     "text": [
      "이름:홍길동, 나이:20, 메일:h@h.com,\t주소:서울\n"
     ]
    }
   ],
   "source": [
    "print(user1)"
   ]
  },
  {
   "cell_type": "code",
   "execution_count": 59,
   "id": "d602f302",
   "metadata": {
    "ExecuteTime": {
     "end_time": "2024-11-18T05:26:59.295891Z",
     "start_time": "2024-11-18T05:26:59.290919Z"
    }
   },
   "outputs": [],
   "source": [
    "user1 = Member(\"홍길동\", 20, 'h@h.com', '서울')\n",
    "user2 = Member(\"김길동\", 20, 'k@k.com', '인천')\n",
    "user3 = Member(\"신길동\", 20, 's@s.com', '포천')\n",
    "user_list = [user1, user2, user3]"
   ]
  },
  {
   "cell_type": "code",
   "execution_count": 60,
   "id": "934fc7ef",
   "metadata": {
    "ExecuteTime": {
     "end_time": "2024-11-18T05:27:22.030643Z",
     "start_time": "2024-11-18T05:27:22.025657Z"
    }
   },
   "outputs": [
    {
     "name": "stdout",
     "output_type": "stream",
     "text": [
      "이름:홍길동, 나이:20, 메일:h@h.com,\t주소:서울\n",
      "이름:김길동, 나이:20, 메일:k@k.com,\t주소:인천\n",
      "이름:신길동, 나이:20, 메일:s@s.com,\t주소:포천\n"
     ]
    }
   ],
   "source": [
    "for user in user_list:\n",
    "    print(user)"
   ]
  },
  {
   "cell_type": "code",
   "execution_count": 61,
   "id": "921c6acc",
   "metadata": {
    "ExecuteTime": {
     "end_time": "2024-11-18T05:30:03.808960Z",
     "start_time": "2024-11-18T05:30:03.802947Z"
    }
   },
   "outputs": [],
   "source": [
    "# 피클링을 이용한 객체를 파일에 저장하기\n",
    "import pickle \n",
    "# wb: write binary 메모장으로 열기 불가능, 숨기고 싶은 데이터\n",
    "# binary로 저장하기 위해 pickle 사용\n",
    "with open('data/ch09_member.data', 'wb') as f: # 확장자 .data\n",
    "    pickle.dump(user_list, f) # dump?"
   ]
  },
  {
   "cell_type": "code",
   "execution_count": 62,
   "id": "88c83b9b",
   "metadata": {
    "ExecuteTime": {
     "end_time": "2024-11-18T05:31:36.479779Z",
     "start_time": "2024-11-18T05:31:36.475788Z"
    }
   },
   "outputs": [],
   "source": [
    "del user1, user2, user3"
   ]
  },
  {
   "cell_type": "code",
   "execution_count": 63,
   "id": "cf9c7fd7",
   "metadata": {
    "ExecuteTime": {
     "end_time": "2024-11-18T05:33:49.015598Z",
     "start_time": "2024-11-18T05:33:48.999960Z"
    }
   },
   "outputs": [],
   "source": [
    "# 피클링을 이용한 파일에서 객체 데이터 읽기\n",
    "with open('data/ch09_member.data', 'rb') as f:\n",
    "    load_user_list = pickle.load(f)"
   ]
  },
  {
   "cell_type": "code",
   "execution_count": 64,
   "id": "ec3b3383",
   "metadata": {
    "ExecuteTime": {
     "end_time": "2024-11-18T05:34:05.216714Z",
     "start_time": "2024-11-18T05:34:05.201091Z"
    }
   },
   "outputs": [
    {
     "name": "stdout",
     "output_type": "stream",
     "text": [
      "이름:홍길동, 나이:20, 메일:h@h.com,\t주소:서울\n",
      "이름:김길동, 나이:20, 메일:k@k.com,\t주소:인천\n",
      "이름:신길동, 나이:20, 메일:s@s.com,\t주소:포천\n"
     ]
    }
   ],
   "source": [
    "for user in load_user_list:\n",
    "    print(user)"
   ]
  },
  {
   "cell_type": "code",
   "execution_count": 67,
   "id": "6f14c82d",
   "metadata": {
    "ExecuteTime": {
     "end_time": "2024-11-18T05:36:41.695616Z",
     "start_time": "2024-11-18T05:36:41.690327Z"
    }
   },
   "outputs": [
    {
     "name": "stdout",
     "output_type": "stream",
     "text": [
      "[True, True, True]\n"
     ]
    }
   ],
   "source": [
    "# user_list와 Load_user_list의 속성변수들이 모두 같은지 여부\n",
    "result = []\n",
    "for idx in range(len(user_list)):\n",
    "    result.append(user_list[idx] == load_user_list[idx])\n",
    "print(result)"
   ]
  },
  {
   "cell_type": "code",
   "execution_count": 68,
   "id": "1d7b3738",
   "metadata": {
    "ExecuteTime": {
     "end_time": "2024-11-18T05:37:38.128845Z",
     "start_time": "2024-11-18T05:37:38.122861Z"
    }
   },
   "outputs": [
    {
     "data": {
      "text/plain": [
       "True"
      ]
     },
     "execution_count": 68,
     "metadata": {},
     "output_type": "execute_result"
    }
   ],
   "source": [
    "all(result) # 모든 요소들이 True인지 여부"
   ]
  },
  {
   "cell_type": "markdown",
   "id": "5bf425f5",
   "metadata": {},
   "source": [
    "# 3절. csv 형식 파일 읽고 쓰기\n",
    "- CSV 파일의 자료를 리스트 데이터로 읽기   3.1과 3.2\n",
    "- CSV 파일의 자료를 딕셔너리 데이터로 읽기 3.3과 3.4\n",
    "## 3.1 reader"
   ]
  },
  {
   "cell_type": "code",
   "execution_count": 72,
   "id": "e4f8f3bd",
   "metadata": {
    "ExecuteTime": {
     "end_time": "2024-11-18T06:00:45.961832Z",
     "start_time": "2024-11-18T06:00:45.955834Z"
    }
   },
   "outputs": [
    {
     "name": "stdout",
     "output_type": "stream",
     "text": [
      "['홍길동', '20', 'kildong@hong.com', '서울시 관악구']\n",
      "['김길동', '20', 'kildong@kim.com', '서울시 영등포구']\n",
      "['신길동', '20', 'kildong@shin.com', '서울시 동작구']\n"
     ]
    }
   ],
   "source": [
    "# utf-8로 인코딩된 csv파일 읽기\n",
    "import csv\n",
    "with open('data/ch09_member1.csv', 'r', encoding=\"UTF-8\") as f:\n",
    "    reader = csv.reader(f) # reader 파일 닫기면 reading 불가능, 변수 생성 필수\n",
    "    # print(list(reader)) # list() 감싸야 보임\n",
    "    for now in reader:\n",
    "        print(now)"
   ]
  },
  {
   "cell_type": "code",
   "execution_count": 77,
   "id": "e0b1a4bb",
   "metadata": {
    "ExecuteTime": {
     "end_time": "2024-11-18T06:21:49.850280Z",
     "start_time": "2024-11-18T06:21:49.844299Z"
    }
   },
   "outputs": [
    {
     "name": "stdout",
     "output_type": "stream",
     "text": [
      "홍길동 - 20 - kildong@hong.com - 서울시 관악구\n",
      "김길동 - 20 - kildong@kim.com - 서울시 영등포구 - 팀장\n",
      "신길동 - 20 - kildong@shin.com - 서울시 동작구\n"
     ]
    }
   ],
   "source": [
    "# CP949로 인코딩된 csv파일 read\n",
    "with open('data/ch09_member1-cp.csv', 'r', encoding='CP949') as f:\n",
    "    reader = csv.reader(f)\n",
    "    result = list(reader)\n",
    "# print(result)\n",
    "for row in result:\n",
    "    print(' - '.join(row))"
   ]
  },
  {
   "cell_type": "code",
   "execution_count": 78,
   "id": "de6a20ab",
   "metadata": {
    "ExecuteTime": {
     "end_time": "2024-11-18T06:25:46.393008Z",
     "start_time": "2024-11-18T06:25:46.388008Z"
    }
   },
   "outputs": [
    {
     "name": "stdout",
     "output_type": "stream",
     "text": [
      "['홍길동', 20.0, 'kildong@hong.com', '서울시 관악구']\n",
      "['김길동', 20.0, 'kildong@kim.com', '서울시 영등포구']\n",
      "['신길동', 20.0, 'kildong@shin.com', '서울시 동작구']\n"
     ]
    }
   ],
   "source": [
    "# \"\"(따옴표)가 없는 데이터는 numeric으로\n",
    "with open('data/ch09_member1.csv', 'r', encoding='UTF-8') as f:\n",
    "    reader = csv.reader(f, quotechar='\"',\n",
    "                       quoting=csv.QUOTE_NONNUMERIC)\n",
    "    for row in reader:\n",
    "        print(row)\n",
    "    # float로 가져옴"
   ]
  },
  {
   "cell_type": "code",
   "execution_count": 79,
   "id": "9b09ae91",
   "metadata": {
    "ExecuteTime": {
     "end_time": "2024-11-18T06:29:59.323179Z",
     "start_time": "2024-11-18T06:29:59.315670Z"
    }
   },
   "outputs": [
    {
     "name": "stdout",
     "output_type": "stream",
     "text": [
      "파일에서 읽어온 딕셔너리 리스트\n",
      "[{'name': '홍길동', 'age': 20.0, 'email': 'kildong@hong.com', 'address': '서울시 관악구'}, {'name': '김길동', 'age': 20.0, 'email': 'kildong@kim.com', 'address': '서울시 영등포구'}, {'name': '신길동', 'age': 20.0, 'email': 'kildong@shin.com', 'address': '서울시 동작구'}]\n"
     ]
    }
   ],
   "source": [
    "# csv 파일의 내용을 딕셔너리 리스트로 가져오기\n",
    "user_dict = []\n",
    "with open('data/ch09_member1.csv', encoding=\"UTF-8\") as f:\n",
    "    reader = csv.reader(f, quotechar='\"',\n",
    "                       quoting=csv.QUOTE_NONNUMERIC)\n",
    "    for row in reader:\n",
    "        user_dict.append({\n",
    "                             'name'   :row[0],\n",
    "                             'age'    :row[1],\n",
    "                             'email'  :row[2],\n",
    "                             'address':row[3]\n",
    "                         })\n",
    "print('파일에서 읽어온 딕셔너리 리스트')\n",
    "print(user_dict)"
   ]
  },
  {
   "cell_type": "markdown",
   "id": "ea72daf7",
   "metadata": {},
   "source": [
    "## 3.2 writer "
   ]
  },
  {
   "cell_type": "code",
   "execution_count": 80,
   "id": "b1237f79",
   "metadata": {
    "ExecuteTime": {
     "end_time": "2024-11-18T06:35:07.858041Z",
     "start_time": "2024-11-18T06:35:07.852592Z"
    }
   },
   "outputs": [],
   "source": [
    "user_list = [['홍길동', 20, 'hong@hong.com', '서울'],\n",
    "             ['신길동', 30, 'shin@shin.com', '인천'],]"
   ]
  },
  {
   "cell_type": "code",
   "execution_count": 83,
   "id": "b6f49afb",
   "metadata": {
    "ExecuteTime": {
     "end_time": "2024-11-18T06:42:14.345697Z",
     "start_time": "2024-11-18T06:42:14.340690Z"
    }
   },
   "outputs": [],
   "source": [
    "# newline='' 옵션을 빼면 개행이 2번\n",
    "# sol 1\n",
    "try:\n",
    "    with open('data/ch09_member2-write-cp.csv', 'w', newline='') as f:\n",
    "        writer = csv.writer(f) # csv 파일 저장\n",
    "        for user in user_list:\n",
    "            writer.writerow(user)\n",
    "except FileNotFoundError as e:\n",
    "    print(e)"
   ]
  },
  {
   "cell_type": "code",
   "execution_count": 88,
   "id": "dbb9ecf5",
   "metadata": {
    "ExecuteTime": {
     "end_time": "2024-11-18T06:47:54.544517Z",
     "start_time": "2024-11-18T06:47:54.540481Z"
    }
   },
   "outputs": [],
   "source": [
    "with open('data/ch09_member2-write.csv', 'w', encoding='UTF-8', newline='') as f:\n",
    "    writer = csv.writer(f, quoting=csv.QUOTE_NONNUMERIC)\n",
    "    writer.writerows(user_list)"
   ]
  },
  {
   "cell_type": "markdown",
   "id": "3d0de1fe",
   "metadata": {},
   "source": [
    "## 3.3 DictReader\n",
    "- csv 파일의 자료를 딕셔너리 데이터 읽기"
   ]
  },
  {
   "cell_type": "code",
   "execution_count": 90,
   "id": "090c78cc",
   "metadata": {
    "ExecuteTime": {
     "end_time": "2024-11-18T07:25:41.610478Z",
     "start_time": "2024-11-18T07:25:41.604973Z"
    }
   },
   "outputs": [
    {
     "name": "stdout",
     "output_type": "stream",
     "text": [
      "[{'name': '홍길동', 'age': '20', 'email': 'h@h.com', 'address': '서울시 관악구', 'job': None}, {'name': '김길동', 'age': '40', 'email': 'k@k.com', 'address': '서울시 영등포구', 'job': '팀장'}, {'name': '신길동', 'age': '30', 'email': 's@s.com', 'address': '서울시 동작구', 'job': None}]\n"
     ]
    }
   ],
   "source": [
    "# header가 있는 csv 파일을 딕셔너리로 읽기(ch09_member3.csv)\n",
    "with open('data/ch09_member3.csv', 'r', encoding='UTF-8') as f:\n",
    "    dict_reader = csv.DictReader(f)\n",
    "    # print(list(dict_reader))\n",
    "    for row in dict_reader:\n",
    "        if row ['job'] is None:\n",
    "            print(row['name'], row['age'], row['email'], row['address'])\n",
    "        else:\n",
    "            print(row['name'], row['age'], row['email'], row['address'], row['job'])"
   ]
  },
  {
   "cell_type": "code",
   "execution_count": 92,
   "id": "46097d4d",
   "metadata": {
    "ExecuteTime": {
     "end_time": "2024-11-18T07:32:32.331673Z",
     "start_time": "2024-11-18T07:32:32.302060Z"
    }
   },
   "outputs": [
    {
     "data": {
      "text/html": [
       "<div>\n",
       "<style scoped>\n",
       "    .dataframe tbody tr th:only-of-type {\n",
       "        vertical-align: middle;\n",
       "    }\n",
       "\n",
       "    .dataframe tbody tr th {\n",
       "        vertical-align: top;\n",
       "    }\n",
       "\n",
       "    .dataframe thead th {\n",
       "        text-align: right;\n",
       "    }\n",
       "</style>\n",
       "<table border=\"1\" class=\"dataframe\">\n",
       "  <thead>\n",
       "    <tr style=\"text-align: right;\">\n",
       "      <th></th>\n",
       "      <th>name</th>\n",
       "      <th>age</th>\n",
       "      <th>email</th>\n",
       "      <th>address</th>\n",
       "      <th>job</th>\n",
       "    </tr>\n",
       "  </thead>\n",
       "  <tbody>\n",
       "    <tr>\n",
       "      <th>0</th>\n",
       "      <td>홍길동</td>\n",
       "      <td>20</td>\n",
       "      <td>h@h.com</td>\n",
       "      <td>서울시 관악구</td>\n",
       "      <td>NaN</td>\n",
       "    </tr>\n",
       "    <tr>\n",
       "      <th>1</th>\n",
       "      <td>김길동</td>\n",
       "      <td>40</td>\n",
       "      <td>k@k.com</td>\n",
       "      <td>서울시 영등포구</td>\n",
       "      <td>팀장</td>\n",
       "    </tr>\n",
       "    <tr>\n",
       "      <th>2</th>\n",
       "      <td>신길동</td>\n",
       "      <td>30</td>\n",
       "      <td>s@s.com</td>\n",
       "      <td>서울시 동작구</td>\n",
       "      <td>NaN</td>\n",
       "    </tr>\n",
       "  </tbody>\n",
       "</table>\n",
       "</div>"
      ],
      "text/plain": [
       "  name  age    email   address  job\n",
       "0  홍길동   20  h@h.com   서울시 관악구  NaN\n",
       "1  김길동   40  k@k.com  서울시 영등포구   팀장\n",
       "2  신길동   30  s@s.com   서울시 동작구  NaN"
      ]
     },
     "execution_count": 92,
     "metadata": {},
     "output_type": "execute_result"
    }
   ],
   "source": [
    "# cf. csv 파일을 데이터프레임으로\n",
    "import pandas as pd\n",
    "member = pd.read_csv('data/ch09_member3.csv', encoding='UTF-8') # encoding='UTF-8'이 기본\n",
    "member"
   ]
  },
  {
   "cell_type": "code",
   "execution_count": 93,
   "id": "cba0eb37",
   "metadata": {
    "ExecuteTime": {
     "end_time": "2024-11-18T07:33:08.403748Z",
     "start_time": "2024-11-18T07:33:08.397833Z"
    }
   },
   "outputs": [
    {
     "data": {
      "text/plain": [
       "pandas.core.frame.DataFrame"
      ]
     },
     "execution_count": 93,
     "metadata": {},
     "output_type": "execute_result"
    }
   ],
   "source": [
    "type(member)"
   ]
  },
  {
   "cell_type": "code",
   "execution_count": 95,
   "id": "b1fd92c5",
   "metadata": {
    "ExecuteTime": {
     "end_time": "2024-11-18T07:40:52.658806Z",
     "start_time": "2024-11-18T07:40:52.652817Z"
    }
   },
   "outputs": [
    {
     "name": "stdout",
     "output_type": "stream",
     "text": [
      "홍길동 20 kildong@hong.com 서울시 관악구\n",
      "김길동 20 kildong@kim.com 서울시 영등포구\n",
      "신길동 20 kildong@shin.com 서울시 동작구\n"
     ]
    }
   ],
   "source": [
    "# header가 없는 csv 파일으르 딕셔너리로 읽기(ch09_member-cp.csv)\n",
    "with open('data/ch09_member1-cp.csv', 'r', encoding='cp949') as f:\n",
    "    dict_reader = csv.DictReader(f, fieldnames=['Name', 'Age', 'Email', 'Address'])\n",
    "    for row in dict_reader:\n",
    "        # print(row)\n",
    "        print(row['Name'], row['Age'], row['Email'], row['Address'])"
   ]
  },
  {
   "cell_type": "code",
   "execution_count": null,
   "id": "52c3b771",
   "metadata": {},
   "outputs": [],
   "source": [
    "# header가 없는 csv 파일으르 딕셔너리로 읽기(ch09_member-cp.csv)\n",
    "with open('data/ch09_member1-cp.csv', 'r', encoding='cp949') as f:\n",
    "    dict_reader = csv.DictReader(f, fieldnames=['Name', 'Age', 'Email', 'Address', 'Job'])\n",
    "    for row in dict_reader:\n",
    "        # print(row)\n",
    "        print(row['Name'], row['Age'], row['Email'], row['Address'], row['Job'])"
   ]
  },
  {
   "cell_type": "code",
   "execution_count": 101,
   "id": "e9416192",
   "metadata": {
    "ExecuteTime": {
     "end_time": "2024-11-18T07:48:00.548566Z",
     "start_time": "2024-11-18T07:48:00.541034Z"
    }
   },
   "outputs": [
    {
     "name": "stdout",
     "output_type": "stream",
     "text": [
      "홍길동 20 kildong@hong.com 서울시 관악구\n",
      "김길동 20 kildong@kim.com 서울시 영등포구 팀장\n",
      "신길동 20 kildong@shin.com 서울시 동작구\n"
     ]
    }
   ],
   "source": [
    "# header가 없는 csv 파일으르 딕셔너리로 읽기(ch09_member-cp.csv)\n",
    "with open('data/ch09_member1-cp.csv', 'r', encoding='cp949') as f:\n",
    "    dict_reader = csv.DictReader(f, fieldnames=['Name', 'Age', 'Email', 'Address'],\n",
    "                                    restkey='Job')\n",
    "    for row in dict_reader:\n",
    "        # print(row)\n",
    "        if row['Job'][0] == '':\n",
    "            print(row['Name'], row['Age'], row['Email'], row['Address'])\n",
    "        else:\n",
    "            print(row['Name'], row['Age'], row['Email'], row['Address'], row['Job'][0])"
   ]
  },
  {
   "cell_type": "code",
   "execution_count": 106,
   "id": "b06bad39",
   "metadata": {
    "ExecuteTime": {
     "end_time": "2024-11-18T08:01:59.470804Z",
     "start_time": "2024-11-18T08:01:59.447122Z"
    }
   },
   "outputs": [
    {
     "data": {
      "text/plain": [
       "[{'name': '홍길동',\n",
       "  'age': '20',\n",
       "  'email': 'kildong@hong.com',\n",
       "  'address': '서울시 관악구',\n",
       "  'job': ''},\n",
       " {'name': '김길동',\n",
       "  'age': '20',\n",
       "  'email': 'kildong@kim.com',\n",
       "  'address': '서울시 영등포구',\n",
       "  'job': '팀장'},\n",
       " {'name': '신길동',\n",
       "  'age': '20',\n",
       "  'email': 'kildong@shin.com',\n",
       "  'address': '서울시 동작구',\n",
       "  'job': ''}]"
      ]
     },
     "execution_count": 106,
     "metadata": {},
     "output_type": "execute_result"
    }
   ],
   "source": [
    "# ch09_member1-cp.csv의 내용을 딕셔너리 list로 받아보세요\n",
    "userlist = [] # 딕셔너리 list\n",
    "# 파일의 내용을 userlist에 담기\n",
    "with open('data/ch09_member1-cp.csv', 'r', encoding='CP949') as f:\n",
    "    dict_reader = csv.DictReader(f, fieldnames=['name','age','email','address','job'])\n",
    "    for row in dict_reader:\n",
    "        userlist.append(row)\n",
    "userlist"
   ]
  },
  {
   "cell_type": "markdown",
   "id": "bc0078f5",
   "metadata": {},
   "source": [
    "## 3.4 Dictwriter\n",
    "- 딕셔너리 리스트를 csv파일로 쓰기"
   ]
  },
  {
   "cell_type": "code",
   "execution_count": 109,
   "id": "d4af5406",
   "metadata": {
    "ExecuteTime": {
     "end_time": "2024-11-18T08:23:22.427879Z",
     "start_time": "2024-11-18T08:23:22.421896Z"
    }
   },
   "outputs": [
    {
     "name": "stdout",
     "output_type": "stream",
     "text": [
      "['name', 'age', 'email', 'address']\n"
     ]
    }
   ],
   "source": [
    "user1 = {'name': '홍길동','age': '20','email': 'h@hong.com','address': '서울'}\n",
    "user2 = {'name': '신길동','age': '25','email': 's@hong.com','address': '부산'}\n",
    "user3 = {'name': '김길동','age': '35','email': 'k@hong.com','address': '인천'}\n",
    "user_list = [user1, user2, user3]\n",
    "fieldnames = list(user1.keys())\n",
    "print(fieldnames)"
   ]
  },
  {
   "cell_type": "markdown",
   "id": "3893c2f9",
   "metadata": {},
   "source": [
    "``` csv 파일 내용\n",
    "name,age,mail,address\n",
    "홍길동,20,h@hong.com,서울\n",
    "```"
   ]
  },
  {
   "cell_type": "code",
   "execution_count": 140,
   "id": "71a36f9d",
   "metadata": {
    "ExecuteTime": {
     "end_time": "2024-11-18T08:38:53.731053Z",
     "start_time": "2024-11-18T08:38:53.727056Z"
    }
   },
   "outputs": [],
   "source": [
    "with open('data/ch09_member4.csv', 'a', encoding='UTF-8', newline='') as f:\n",
    "    dict_writer = csv.DictWriter(f, fieldnames=fieldnames)\n",
    "#     dict_writer.writeheader() # header 한 줄 쓰기\n",
    "#     for user in user_list:\n",
    "#         dict_writer.writerow(user)\n",
    "    dict_writer.writerows(user_list)"
   ]
  },
  {
   "cell_type": "markdown",
   "id": "96ca9be9",
   "metadata": {
    "ExecuteTime": {
     "end_time": "2024-11-18T08:32:21.516644Z",
     "start_time": "2024-11-18T08:32:21.478635Z"
    }
   },
   "source": [
    "# 4절. JSON 파일에 저장하고 불러오기(dump, load)\n",
    "```\n",
    "[{'name':'홍',\n",
    "  'age':20},\n",
    "  {'name':'박',\n",
    "  'age':30}]\n",
    "```\n",
    "## 4.1 JSON dump(파일에 저장)\n",
    "1. 딕셔너리 리스트 데이터를 json파일로\n",
    "2. 객체 리스트 데이터를 json파일로 "
   ]
  },
  {
   "cell_type": "code",
   "execution_count": 1,
   "id": "3288368d",
   "metadata": {
    "ExecuteTime": {
     "end_time": "2024-11-19T00:39:54.291501Z",
     "start_time": "2024-11-19T00:39:54.278293Z"
    }
   },
   "outputs": [],
   "source": [
    "data = [{'name':'홍길동','age':20, \"email\":\"h@h.com\", \"address\":\"서울\"},\n",
    "        {'name':'김길동','age':30, \"email\":\"k@h.com\", \"address\":\"부산\"},\n",
    "        {'name':'신길동','age':40, \"email\":\"s@h.com\", \"address\":\"안양\"},]"
   ]
  },
  {
   "cell_type": "code",
   "execution_count": 5,
   "id": "a995bb01",
   "metadata": {
    "ExecuteTime": {
     "end_time": "2024-11-19T00:48:24.347784Z",
     "start_time": "2024-11-19T00:48:24.341793Z"
    }
   },
   "outputs": [],
   "source": [
    "# 1. 딕셔너리 리스트를 json파일로 저장(dump)\n",
    "# json.dump(딕셔너리list, stream변수)\n",
    "# ensure_ascii 옵션의 역할: ASCII코드 범위를 넘어서는 문자를 어떻게 처리할지\n",
    "# True(기본값): ASCII 코드 범위를 넘어선 한글은 유니코드로 저장\n",
    "# False: 비 ASCII 문자 원래 형태로 그대로 저장\n",
    "# indent=' '(들여쓰기), indent='\\t'(tab만큼 들여쓰기)\n",
    "import json\n",
    "with open('data/ch09_member.json', 'w') as jsonfile:\n",
    "    json.dump(data, jsonfile, ensure_ascii=False, indent='\\t') "
   ]
  },
  {
   "cell_type": "code",
   "execution_count": 9,
   "id": "79ac4f08",
   "metadata": {
    "ExecuteTime": {
     "end_time": "2024-11-19T01:02:58.332458Z",
     "start_time": "2024-11-19T01:02:58.326312Z"
    }
   },
   "outputs": [],
   "source": [
    "# 2. 객체 리스트를 json 파일로 저장(dump)\n",
    "# dump() 함수 쓰려면 클래스에 딕셔너리로 바꾸는 함수 필요 \n",
    "class Member:\n",
    "    def __init__(self, name, age, email, address):\n",
    "        self.name    = name\n",
    "        self.age     = age\n",
    "        self.email   = email\n",
    "        self.address = address\n",
    "    def as_dict(self):\n",
    "        '객체를 딕셔너리로 바꿔 return(json.dump 시 필요)'\n",
    "        return {\n",
    "                \"name\"   :self.name,\n",
    "                \"age\"    :self.age,\n",
    "                \"email\"  :self.email,\n",
    "                \"address\":self.address\n",
    "                }\n",
    "    def __str__(self):\n",
    "        return \"이름:{}, 나이:{}살, 메일:{},\\t주소:{}\".format(\\\n",
    "                                                self.name, self.age, self.email, self.address)\n",
    "    def __eq__(self, other):\n",
    "        \"\"\"\n",
    "        m1.__eq__(m2) 호출 시 속성변수들의 값이 모두 일치하는지 여부\n",
    "        m1 == m2 구현 시 속성변수들의 값이 모두 일치하는지 여부\n",
    "        (↑ 파이썬에서는 가능, 자바는 불가능)\n",
    "        \"\"\"\n",
    "        if isinstance(other, Member):\n",
    "            return self.name    == other.name  and \\\n",
    "                   self.age     == other.age   and \\\n",
    "                   self.email   == other.email and \\\n",
    "                   self.address == other.address\n",
    "        else:\n",
    "            return False"
   ]
  },
  {
   "cell_type": "code",
   "execution_count": 10,
   "id": "8b29c779",
   "metadata": {
    "ExecuteTime": {
     "end_time": "2024-11-19T01:04:52.627519Z",
     "start_time": "2024-11-19T01:04:52.622044Z"
    }
   },
   "outputs": [],
   "source": [
    "member_list = [Member(\"홍길동\", 30, \"h@h.com\", \"서울\"),\n",
    "               Member(\"김길동\", 25, \"kim@h.com\", \"부산\"),\n",
    "               Member(\"신길동\", 35, \"shin@h.com\", \"대전\"),  \n",
    "]"
   ]
  },
  {
   "cell_type": "code",
   "execution_count": 11,
   "id": "04572940",
   "metadata": {
    "ExecuteTime": {
     "end_time": "2024-11-19T01:05:08.277433Z",
     "start_time": "2024-11-19T01:05:08.270725Z"
    }
   },
   "outputs": [
    {
     "name": "stdout",
     "output_type": "stream",
     "text": [
      "이름:홍길동, 나이:30살, 메일:h@h.com,\t주소:서울\n",
      "이름:김길동, 나이:25살, 메일:kim@h.com,\t주소:부산\n",
      "이름:신길동, 나이:35살, 메일:shin@h.com,\t주소:대전\n"
     ]
    }
   ],
   "source": [
    "for member in member_list:\n",
    "    print(member)"
   ]
  },
  {
   "cell_type": "code",
   "execution_count": 13,
   "id": "f8ee8b39",
   "metadata": {
    "ExecuteTime": {
     "end_time": "2024-11-19T01:12:53.700844Z",
     "start_time": "2024-11-19T01:12:53.694835Z"
    }
   },
   "outputs": [],
   "source": [
    "# default=클래스명.함수명, 소괄호 필요 없음\n",
    "with open('data/ch09_member2.json', 'a', encoding='UTF8') as jsonfile:\n",
    "    json.dump(member_list, # 객체 리스트\n",
    "             jsonfile, ensure_ascii=False, indent='\\t',\n",
    "             default=Member.as_dict) # 객체를 딕셔너리형태로 return하는 함수"
   ]
  },
  {
   "cell_type": "code",
   "execution_count": 14,
   "id": "72c444ae",
   "metadata": {
    "ExecuteTime": {
     "end_time": "2024-11-19T01:16:04.379932Z",
     "start_time": "2024-11-19T01:16:04.374933Z"
    }
   },
   "outputs": [
    {
     "name": "stdout",
     "output_type": "stream",
     "text": [
      "Variable        Type             Data/Info\n",
      "------------------------------------------\n",
      "Member          type             <class '__main__.Member'>\n",
      "autopep8        module           <module 'autopep8' from '<...>e-packages\\\\autopep8.py'>\n",
      "data            list             n=3\n",
      "json            module           <module 'json' from 'C:\\\\<...>\\lib\\\\json\\\\__init__.py'>\n",
      "jsonfile        TextIOWrapper    <_io.TextIOWrapper name='<...>mode='a' encoding='UTF8'>\n",
      "member          Member           이름:신길동, 나이:35살, 메일:shin@h.com,\t주소:대전\n",
      "member_list     list             n=3\n",
      "yapf_reformat   function         <function yapf_reformat at 0x000001C51E883EB0>\n"
     ]
    }
   ],
   "source": [
    "# 현재 세션(현재 실행중인 jupyter notebook)에 존재하는 변수들의 목록\n",
    "    # 매직명령어: jupyter notebook의 IPYTHON 환경에서만 제공\n",
    "%whos"
   ]
  },
  {
   "cell_type": "markdown",
   "id": "50ecc978",
   "metadata": {},
   "source": [
    "## 4.2 JSON load(파일 읽기)\n",
    "1. json파일을 딕셔너리 리스트 변수로 읽기\n",
    "2. json파일을 객체 리스트 변수로 읽기"
   ]
  },
  {
   "cell_type": "code",
   "execution_count": 19,
   "id": "72466672",
   "metadata": {
    "ExecuteTime": {
     "end_time": "2024-11-19T01:20:34.485032Z",
     "start_time": "2024-11-19T01:20:34.478825Z"
    }
   },
   "outputs": [
    {
     "name": "stdout",
     "output_type": "stream",
     "text": [
      "{'name': '홍길동', 'age': 20, 'email': 'h@h.com', 'address': '서울'}\n",
      "{'name': '김길동', 'age': 30, 'email': 'k@h.com', 'address': '부산'}\n",
      "{'name': '신길동', 'age': 40, 'email': 's@h.com', 'address': '안양'}\n"
     ]
    }
   ],
   "source": [
    "# 1. json파일을 딕셔너리 리스트로\n",
    "# json.load(stream객체)\n",
    "import json\n",
    "with open('data/ch09_member1.json') as jsonfile:\n",
    "    load_data = json.load(jsonfile)\n",
    "for row in load_data:\n",
    "    print(row)"
   ]
  },
  {
   "cell_type": "code",
   "execution_count": 20,
   "id": "926f03a9",
   "metadata": {
    "ExecuteTime": {
     "end_time": "2024-11-19T01:20:37.067919Z",
     "start_time": "2024-11-19T01:20:37.061952Z"
    }
   },
   "outputs": [
    {
     "data": {
      "text/plain": [
       "(list, dict)"
      ]
     },
     "execution_count": 20,
     "metadata": {},
     "output_type": "execute_result"
    }
   ],
   "source": [
    "type(load_data), type(load_data[0])"
   ]
  },
  {
   "cell_type": "code",
   "execution_count": null,
   "id": "22e719c0",
   "metadata": {},
   "outputs": [],
   "source": [
    "# 2. json파일(ch09_member2.json)을 객체 리스트로"
   ]
  },
  {
   "cell_type": "code",
   "execution_count": 21,
   "id": "3f4d0030",
   "metadata": {
    "ExecuteTime": {
     "end_time": "2024-11-19T01:42:14.694786Z",
     "start_time": "2024-11-19T01:42:14.688788Z"
    }
   },
   "outputs": [],
   "source": [
    "def as_member(dic):\n",
    "    \"딕셔너리 데이터를 매개변수로 받아 객체로 반환하는 함수\"\n",
    "    return Member(dic['name'], dic['age'], dic['email'], dic['address']) # dump시 소문자 입력했음"
   ]
  },
  {
   "cell_type": "code",
   "execution_count": 22,
   "id": "6ec61b00",
   "metadata": {
    "ExecuteTime": {
     "end_time": "2024-11-19T01:44:45.308795Z",
     "start_time": "2024-11-19T01:44:45.303808Z"
    }
   },
   "outputs": [],
   "source": [
    "with open('data/ch09_member2.json', 'r', encoding='UTF-8') as jsonfile:\n",
    "    load_member_list = json.load(jsonfile, object_hook=as_member)"
   ]
  },
  {
   "cell_type": "code",
   "execution_count": 23,
   "id": "6c8118c4",
   "metadata": {
    "ExecuteTime": {
     "end_time": "2024-11-19T01:44:57.941637Z",
     "start_time": "2024-11-19T01:44:57.935645Z"
    }
   },
   "outputs": [
    {
     "data": {
      "text/plain": [
       "(list, __main__.Member)"
      ]
     },
     "execution_count": 23,
     "metadata": {},
     "output_type": "execute_result"
    }
   ],
   "source": [
    "type(load_member_list), type(load_member_list[0])"
   ]
  },
  {
   "cell_type": "code",
   "execution_count": null,
   "id": "356d57ff",
   "metadata": {},
   "outputs": [],
   "source": [
    "# member_list => ch09_member2.json => laod_member_list\n",
    "# 딕셔너리list           객체            딕셔너리list"
   ]
  },
  {
   "cell_type": "code",
   "execution_count": 30,
   "id": "5162c458",
   "metadata": {
    "ExecuteTime": {
     "end_time": "2024-11-19T01:54:19.716779Z",
     "start_time": "2024-11-19T01:54:19.701156Z"
    },
    "collapsed": true
   },
   "outputs": [
    {
     "name": "stdout",
     "output_type": "stream",
     "text": [
      "두 객체 리스트의 모든 데이터가 일치하는지 여부: True\n"
     ]
    }
   ],
   "source": [
    "# member_list와 load_member_list의 모든 데이터가 일치하는지 여부\n",
    "result = []\n",
    "for idx in range(len(member_list)):\n",
    "    result.append(member_list[idx] == load_member_list[idx])\n",
    "print('두 객체 리스트의 모든 데이터가 일치하는지 여부:', all(result)) # 요소 하나라도 False면 False반환"
   ]
  },
  {
   "cell_type": "code",
   "execution_count": 33,
   "id": "852b1bf9",
   "metadata": {
    "ExecuteTime": {
     "end_time": "2024-11-19T01:57:26.530978Z",
     "start_time": "2024-11-19T01:57:26.503008Z"
    }
   },
   "outputs": [
    {
     "data": {
      "text/html": [
       "<div>\n",
       "<style scoped>\n",
       "    .dataframe tbody tr th:only-of-type {\n",
       "        vertical-align: middle;\n",
       "    }\n",
       "\n",
       "    .dataframe tbody tr th {\n",
       "        vertical-align: top;\n",
       "    }\n",
       "\n",
       "    .dataframe thead th {\n",
       "        text-align: right;\n",
       "    }\n",
       "</style>\n",
       "<table border=\"1\" class=\"dataframe\">\n",
       "  <thead>\n",
       "    <tr style=\"text-align: right;\">\n",
       "      <th></th>\n",
       "      <th>name</th>\n",
       "      <th>age</th>\n",
       "      <th>email</th>\n",
       "      <th>address</th>\n",
       "    </tr>\n",
       "  </thead>\n",
       "  <tbody>\n",
       "    <tr>\n",
       "      <th>0</th>\n",
       "      <td>홍길동</td>\n",
       "      <td>30</td>\n",
       "      <td>h@h.com</td>\n",
       "      <td>서울</td>\n",
       "    </tr>\n",
       "    <tr>\n",
       "      <th>1</th>\n",
       "      <td>김길동</td>\n",
       "      <td>25</td>\n",
       "      <td>kim@h.com</td>\n",
       "      <td>부산</td>\n",
       "    </tr>\n",
       "    <tr>\n",
       "      <th>2</th>\n",
       "      <td>신길동</td>\n",
       "      <td>35</td>\n",
       "      <td>shin@h.com</td>\n",
       "      <td>대전</td>\n",
       "    </tr>\n",
       "  </tbody>\n",
       "</table>\n",
       "</div>"
      ],
      "text/plain": [
       "  name  age       email address\n",
       "0  홍길동   30     h@h.com      서울\n",
       "1  김길동   25   kim@h.com      부산\n",
       "2  신길동   35  shin@h.com      대전"
      ]
     },
     "execution_count": 33,
     "metadata": {},
     "output_type": "execute_result"
    }
   ],
   "source": [
    "# json파일을 데이터프레임으로 읽기\n",
    "import pandas as pd\n",
    "member = pd.read_json('data/ch09_member2.json', encoding='utf-8') # encoding='utf-8' 기본\n",
    "member"
   ]
  },
  {
   "cell_type": "code",
   "execution_count": null,
   "id": "c36d1ff9",
   "metadata": {},
   "outputs": [],
   "source": [
    "# open함수의 기본 encoding은 cp949, pd.read_~함수의 기본 encoding은 utf-8"
   ]
  },
  {
   "cell_type": "code",
   "execution_count": 36,
   "id": "76daaac7",
   "metadata": {
    "ExecuteTime": {
     "end_time": "2024-11-19T02:00:00.997815Z",
     "start_time": "2024-11-19T02:00:00.983117Z"
    }
   },
   "outputs": [
    {
     "data": {
      "text/html": [
       "<div>\n",
       "<style scoped>\n",
       "    .dataframe tbody tr th:only-of-type {\n",
       "        vertical-align: middle;\n",
       "    }\n",
       "\n",
       "    .dataframe tbody tr th {\n",
       "        vertical-align: top;\n",
       "    }\n",
       "\n",
       "    .dataframe thead th {\n",
       "        text-align: right;\n",
       "    }\n",
       "</style>\n",
       "<table border=\"1\" class=\"dataframe\">\n",
       "  <thead>\n",
       "    <tr style=\"text-align: right;\">\n",
       "      <th></th>\n",
       "      <th>name</th>\n",
       "      <th>age</th>\n",
       "      <th>email</th>\n",
       "      <th>address</th>\n",
       "    </tr>\n",
       "  </thead>\n",
       "  <tbody>\n",
       "    <tr>\n",
       "      <th>0</th>\n",
       "      <td>홍길동</td>\n",
       "      <td>20</td>\n",
       "      <td>h@h.com</td>\n",
       "      <td>서울</td>\n",
       "    </tr>\n",
       "    <tr>\n",
       "      <th>1</th>\n",
       "      <td>김길동</td>\n",
       "      <td>30</td>\n",
       "      <td>k@h.com</td>\n",
       "      <td>부산</td>\n",
       "    </tr>\n",
       "    <tr>\n",
       "      <th>2</th>\n",
       "      <td>신길동</td>\n",
       "      <td>40</td>\n",
       "      <td>s@h.com</td>\n",
       "      <td>안양</td>\n",
       "    </tr>\n",
       "  </tbody>\n",
       "</table>\n",
       "</div>"
      ],
      "text/plain": [
       "  name  age    email address\n",
       "0  홍길동   20  h@h.com      서울\n",
       "1  김길동   30  k@h.com      부산\n",
       "2  신길동   40  s@h.com      안양"
      ]
     },
     "execution_count": 36,
     "metadata": {},
     "output_type": "execute_result"
    }
   ],
   "source": [
    "member = pd.read_json('data/ch09_member1.json', encoding='cp949')\n",
    "member"
   ]
  },
  {
   "cell_type": "code",
   "execution_count": 37,
   "id": "712e270e",
   "metadata": {
    "ExecuteTime": {
     "end_time": "2024-11-19T02:00:19.476310Z",
     "start_time": "2024-11-19T02:00:19.471759Z"
    }
   },
   "outputs": [
    {
     "data": {
      "text/plain": [
       "pandas.core.frame.DataFrame"
      ]
     },
     "execution_count": 37,
     "metadata": {},
     "output_type": "execute_result"
    }
   ],
   "source": [
    "type(member)"
   ]
  },
  {
   "cell_type": "markdown",
   "id": "bd1d59cd",
   "metadata": {},
   "source": [
    "# 5절. hdf5파일 읽기/쓰기(딕셔너리, 데이터프레임)\n",
    "- h5py 사용\n",
    "## 5.1 hdf5파일 쓰기\n",
    "1. 딕셔너리 데이터를 hdf5파일에 쓰기\n",
    "2. 데이터프레임을 hdf5파일에 쓰기"
   ]
  },
  {
   "cell_type": "code",
   "execution_count": 40,
   "id": "ab1eb2f2",
   "metadata": {
    "ExecuteTime": {
     "end_time": "2024-11-19T02:12:45.850763Z",
     "start_time": "2024-11-19T02:12:45.832566Z"
    }
   },
   "outputs": [
    {
     "data": {
      "text/html": [
       "<div>\n",
       "<style scoped>\n",
       "    .dataframe tbody tr th:only-of-type {\n",
       "        vertical-align: middle;\n",
       "    }\n",
       "\n",
       "    .dataframe tbody tr th {\n",
       "        vertical-align: top;\n",
       "    }\n",
       "\n",
       "    .dataframe thead th {\n",
       "        text-align: right;\n",
       "    }\n",
       "</style>\n",
       "<table border=\"1\" class=\"dataframe\">\n",
       "  <thead>\n",
       "    <tr style=\"text-align: right;\">\n",
       "      <th></th>\n",
       "      <th>sepal_length</th>\n",
       "      <th>sepal_width</th>\n",
       "      <th>petal_length</th>\n",
       "      <th>petal_width</th>\n",
       "      <th>species</th>\n",
       "    </tr>\n",
       "  </thead>\n",
       "  <tbody>\n",
       "    <tr>\n",
       "      <th>0</th>\n",
       "      <td>5.1</td>\n",
       "      <td>3.5</td>\n",
       "      <td>1.4</td>\n",
       "      <td>0.2</td>\n",
       "      <td>setosa</td>\n",
       "    </tr>\n",
       "    <tr>\n",
       "      <th>1</th>\n",
       "      <td>4.9</td>\n",
       "      <td>3.0</td>\n",
       "      <td>1.4</td>\n",
       "      <td>0.2</td>\n",
       "      <td>setosa</td>\n",
       "    </tr>\n",
       "    <tr>\n",
       "      <th>2</th>\n",
       "      <td>4.7</td>\n",
       "      <td>3.2</td>\n",
       "      <td>1.3</td>\n",
       "      <td>0.2</td>\n",
       "      <td>setosa</td>\n",
       "    </tr>\n",
       "    <tr>\n",
       "      <th>3</th>\n",
       "      <td>4.6</td>\n",
       "      <td>3.1</td>\n",
       "      <td>1.5</td>\n",
       "      <td>0.2</td>\n",
       "      <td>setosa</td>\n",
       "    </tr>\n",
       "    <tr>\n",
       "      <th>4</th>\n",
       "      <td>5.0</td>\n",
       "      <td>3.6</td>\n",
       "      <td>1.4</td>\n",
       "      <td>0.2</td>\n",
       "      <td>setosa</td>\n",
       "    </tr>\n",
       "    <tr>\n",
       "      <th>...</th>\n",
       "      <td>...</td>\n",
       "      <td>...</td>\n",
       "      <td>...</td>\n",
       "      <td>...</td>\n",
       "      <td>...</td>\n",
       "    </tr>\n",
       "    <tr>\n",
       "      <th>145</th>\n",
       "      <td>6.7</td>\n",
       "      <td>3.0</td>\n",
       "      <td>5.2</td>\n",
       "      <td>2.3</td>\n",
       "      <td>virginica</td>\n",
       "    </tr>\n",
       "    <tr>\n",
       "      <th>146</th>\n",
       "      <td>6.3</td>\n",
       "      <td>2.5</td>\n",
       "      <td>5.0</td>\n",
       "      <td>1.9</td>\n",
       "      <td>virginica</td>\n",
       "    </tr>\n",
       "    <tr>\n",
       "      <th>147</th>\n",
       "      <td>6.5</td>\n",
       "      <td>3.0</td>\n",
       "      <td>5.2</td>\n",
       "      <td>2.0</td>\n",
       "      <td>virginica</td>\n",
       "    </tr>\n",
       "    <tr>\n",
       "      <th>148</th>\n",
       "      <td>6.2</td>\n",
       "      <td>3.4</td>\n",
       "      <td>5.4</td>\n",
       "      <td>2.3</td>\n",
       "      <td>virginica</td>\n",
       "    </tr>\n",
       "    <tr>\n",
       "      <th>149</th>\n",
       "      <td>5.9</td>\n",
       "      <td>3.0</td>\n",
       "      <td>5.1</td>\n",
       "      <td>1.8</td>\n",
       "      <td>virginica</td>\n",
       "    </tr>\n",
       "  </tbody>\n",
       "</table>\n",
       "<p>150 rows × 5 columns</p>\n",
       "</div>"
      ],
      "text/plain": [
       "     sepal_length  sepal_width  petal_length  petal_width    species\n",
       "0             5.1          3.5           1.4          0.2     setosa\n",
       "1             4.9          3.0           1.4          0.2     setosa\n",
       "2             4.7          3.2           1.3          0.2     setosa\n",
       "3             4.6          3.1           1.5          0.2     setosa\n",
       "4             5.0          3.6           1.4          0.2     setosa\n",
       "..            ...          ...           ...          ...        ...\n",
       "145           6.7          3.0           5.2          2.3  virginica\n",
       "146           6.3          2.5           5.0          1.9  virginica\n",
       "147           6.5          3.0           5.2          2.0  virginica\n",
       "148           6.2          3.4           5.4          2.3  virginica\n",
       "149           5.9          3.0           5.1          1.8  virginica\n",
       "\n",
       "[150 rows x 5 columns]"
      ]
     },
     "metadata": {},
     "output_type": "display_data"
    }
   ],
   "source": [
    "import seaborn as sns\n",
    "iris_df = sns.load_dataset(\"iris\")\n",
    "display(iris_df) # display(): 가독성 높임"
   ]
  },
  {
   "cell_type": "code",
   "execution_count": 41,
   "id": "da1ef5f6",
   "metadata": {
    "ExecuteTime": {
     "end_time": "2024-11-19T02:13:12.853382Z",
     "start_time": "2024-11-19T02:13:12.847418Z"
    }
   },
   "outputs": [
    {
     "data": {
      "text/plain": [
       "pandas.core.frame.DataFrame"
      ]
     },
     "execution_count": 41,
     "metadata": {},
     "output_type": "execute_result"
    }
   ],
   "source": [
    "type(iris_df)"
   ]
  },
  {
   "cell_type": "code",
   "execution_count": 43,
   "id": "8483fa45",
   "metadata": {
    "ExecuteTime": {
     "end_time": "2024-11-19T02:13:30.251594Z",
     "start_time": "2024-11-19T02:13:30.239373Z"
    }
   },
   "outputs": [
    {
     "data": {
      "text/html": [
       "<div>\n",
       "<style scoped>\n",
       "    .dataframe tbody tr th:only-of-type {\n",
       "        vertical-align: middle;\n",
       "    }\n",
       "\n",
       "    .dataframe tbody tr th {\n",
       "        vertical-align: top;\n",
       "    }\n",
       "\n",
       "    .dataframe thead th {\n",
       "        text-align: right;\n",
       "    }\n",
       "</style>\n",
       "<table border=\"1\" class=\"dataframe\">\n",
       "  <thead>\n",
       "    <tr style=\"text-align: right;\">\n",
       "      <th></th>\n",
       "      <th>sepal_length</th>\n",
       "      <th>sepal_width</th>\n",
       "      <th>petal_length</th>\n",
       "      <th>petal_width</th>\n",
       "      <th>species</th>\n",
       "    </tr>\n",
       "  </thead>\n",
       "  <tbody>\n",
       "    <tr>\n",
       "      <th>0</th>\n",
       "      <td>5.1</td>\n",
       "      <td>3.5</td>\n",
       "      <td>1.4</td>\n",
       "      <td>0.2</td>\n",
       "      <td>setosa</td>\n",
       "    </tr>\n",
       "    <tr>\n",
       "      <th>1</th>\n",
       "      <td>4.9</td>\n",
       "      <td>3.0</td>\n",
       "      <td>1.4</td>\n",
       "      <td>0.2</td>\n",
       "      <td>setosa</td>\n",
       "    </tr>\n",
       "    <tr>\n",
       "      <th>2</th>\n",
       "      <td>4.7</td>\n",
       "      <td>3.2</td>\n",
       "      <td>1.3</td>\n",
       "      <td>0.2</td>\n",
       "      <td>setosa</td>\n",
       "    </tr>\n",
       "    <tr>\n",
       "      <th>3</th>\n",
       "      <td>4.6</td>\n",
       "      <td>3.1</td>\n",
       "      <td>1.5</td>\n",
       "      <td>0.2</td>\n",
       "      <td>setosa</td>\n",
       "    </tr>\n",
       "    <tr>\n",
       "      <th>4</th>\n",
       "      <td>5.0</td>\n",
       "      <td>3.6</td>\n",
       "      <td>1.4</td>\n",
       "      <td>0.2</td>\n",
       "      <td>setosa</td>\n",
       "    </tr>\n",
       "  </tbody>\n",
       "</table>\n",
       "</div>"
      ],
      "text/plain": [
       "   sepal_length  sepal_width  petal_length  petal_width species\n",
       "0           5.1          3.5           1.4          0.2  setosa\n",
       "1           4.9          3.0           1.4          0.2  setosa\n",
       "2           4.7          3.2           1.3          0.2  setosa\n",
       "3           4.6          3.1           1.5          0.2  setosa\n",
       "4           5.0          3.6           1.4          0.2  setosa"
      ]
     },
     "execution_count": 43,
     "metadata": {},
     "output_type": "execute_result"
    }
   ],
   "source": [
    "iris_df.head()"
   ]
  },
  {
   "cell_type": "code",
   "execution_count": 44,
   "id": "654f0e19",
   "metadata": {
    "ExecuteTime": {
     "end_time": "2024-11-19T02:15:39.810126Z",
     "start_time": "2024-11-19T02:15:39.784440Z"
    }
   },
   "outputs": [
    {
     "data": {
      "text/plain": [
       "{'sepal_length': {0: 5.1,\n",
       "  1: 4.9,\n",
       "  2: 4.7,\n",
       "  3: 4.6,\n",
       "  4: 5.0,\n",
       "  5: 5.4,\n",
       "  6: 4.6,\n",
       "  7: 5.0,\n",
       "  8: 4.4,\n",
       "  9: 4.9,\n",
       "  10: 5.4,\n",
       "  11: 4.8,\n",
       "  12: 4.8,\n",
       "  13: 4.3,\n",
       "  14: 5.8,\n",
       "  15: 5.7,\n",
       "  16: 5.4,\n",
       "  17: 5.1,\n",
       "  18: 5.7,\n",
       "  19: 5.1,\n",
       "  20: 5.4,\n",
       "  21: 5.1,\n",
       "  22: 4.6,\n",
       "  23: 5.1,\n",
       "  24: 4.8,\n",
       "  25: 5.0,\n",
       "  26: 5.0,\n",
       "  27: 5.2,\n",
       "  28: 5.2,\n",
       "  29: 4.7,\n",
       "  30: 4.8,\n",
       "  31: 5.4,\n",
       "  32: 5.2,\n",
       "  33: 5.5,\n",
       "  34: 4.9,\n",
       "  35: 5.0,\n",
       "  36: 5.5,\n",
       "  37: 4.9,\n",
       "  38: 4.4,\n",
       "  39: 5.1,\n",
       "  40: 5.0,\n",
       "  41: 4.5,\n",
       "  42: 4.4,\n",
       "  43: 5.0,\n",
       "  44: 5.1,\n",
       "  45: 4.8,\n",
       "  46: 5.1,\n",
       "  47: 4.6,\n",
       "  48: 5.3,\n",
       "  49: 5.0,\n",
       "  50: 7.0,\n",
       "  51: 6.4,\n",
       "  52: 6.9,\n",
       "  53: 5.5,\n",
       "  54: 6.5,\n",
       "  55: 5.7,\n",
       "  56: 6.3,\n",
       "  57: 4.9,\n",
       "  58: 6.6,\n",
       "  59: 5.2,\n",
       "  60: 5.0,\n",
       "  61: 5.9,\n",
       "  62: 6.0,\n",
       "  63: 6.1,\n",
       "  64: 5.6,\n",
       "  65: 6.7,\n",
       "  66: 5.6,\n",
       "  67: 5.8,\n",
       "  68: 6.2,\n",
       "  69: 5.6,\n",
       "  70: 5.9,\n",
       "  71: 6.1,\n",
       "  72: 6.3,\n",
       "  73: 6.1,\n",
       "  74: 6.4,\n",
       "  75: 6.6,\n",
       "  76: 6.8,\n",
       "  77: 6.7,\n",
       "  78: 6.0,\n",
       "  79: 5.7,\n",
       "  80: 5.5,\n",
       "  81: 5.5,\n",
       "  82: 5.8,\n",
       "  83: 6.0,\n",
       "  84: 5.4,\n",
       "  85: 6.0,\n",
       "  86: 6.7,\n",
       "  87: 6.3,\n",
       "  88: 5.6,\n",
       "  89: 5.5,\n",
       "  90: 5.5,\n",
       "  91: 6.1,\n",
       "  92: 5.8,\n",
       "  93: 5.0,\n",
       "  94: 5.6,\n",
       "  95: 5.7,\n",
       "  96: 5.7,\n",
       "  97: 6.2,\n",
       "  98: 5.1,\n",
       "  99: 5.7,\n",
       "  100: 6.3,\n",
       "  101: 5.8,\n",
       "  102: 7.1,\n",
       "  103: 6.3,\n",
       "  104: 6.5,\n",
       "  105: 7.6,\n",
       "  106: 4.9,\n",
       "  107: 7.3,\n",
       "  108: 6.7,\n",
       "  109: 7.2,\n",
       "  110: 6.5,\n",
       "  111: 6.4,\n",
       "  112: 6.8,\n",
       "  113: 5.7,\n",
       "  114: 5.8,\n",
       "  115: 6.4,\n",
       "  116: 6.5,\n",
       "  117: 7.7,\n",
       "  118: 7.7,\n",
       "  119: 6.0,\n",
       "  120: 6.9,\n",
       "  121: 5.6,\n",
       "  122: 7.7,\n",
       "  123: 6.3,\n",
       "  124: 6.7,\n",
       "  125: 7.2,\n",
       "  126: 6.2,\n",
       "  127: 6.1,\n",
       "  128: 6.4,\n",
       "  129: 7.2,\n",
       "  130: 7.4,\n",
       "  131: 7.9,\n",
       "  132: 6.4,\n",
       "  133: 6.3,\n",
       "  134: 6.1,\n",
       "  135: 7.7,\n",
       "  136: 6.3,\n",
       "  137: 6.4,\n",
       "  138: 6.0,\n",
       "  139: 6.9,\n",
       "  140: 6.7,\n",
       "  141: 6.9,\n",
       "  142: 5.8,\n",
       "  143: 6.8,\n",
       "  144: 6.7,\n",
       "  145: 6.7,\n",
       "  146: 6.3,\n",
       "  147: 6.5,\n",
       "  148: 6.2,\n",
       "  149: 5.9},\n",
       " 'sepal_width': {0: 3.5,\n",
       "  1: 3.0,\n",
       "  2: 3.2,\n",
       "  3: 3.1,\n",
       "  4: 3.6,\n",
       "  5: 3.9,\n",
       "  6: 3.4,\n",
       "  7: 3.4,\n",
       "  8: 2.9,\n",
       "  9: 3.1,\n",
       "  10: 3.7,\n",
       "  11: 3.4,\n",
       "  12: 3.0,\n",
       "  13: 3.0,\n",
       "  14: 4.0,\n",
       "  15: 4.4,\n",
       "  16: 3.9,\n",
       "  17: 3.5,\n",
       "  18: 3.8,\n",
       "  19: 3.8,\n",
       "  20: 3.4,\n",
       "  21: 3.7,\n",
       "  22: 3.6,\n",
       "  23: 3.3,\n",
       "  24: 3.4,\n",
       "  25: 3.0,\n",
       "  26: 3.4,\n",
       "  27: 3.5,\n",
       "  28: 3.4,\n",
       "  29: 3.2,\n",
       "  30: 3.1,\n",
       "  31: 3.4,\n",
       "  32: 4.1,\n",
       "  33: 4.2,\n",
       "  34: 3.1,\n",
       "  35: 3.2,\n",
       "  36: 3.5,\n",
       "  37: 3.6,\n",
       "  38: 3.0,\n",
       "  39: 3.4,\n",
       "  40: 3.5,\n",
       "  41: 2.3,\n",
       "  42: 3.2,\n",
       "  43: 3.5,\n",
       "  44: 3.8,\n",
       "  45: 3.0,\n",
       "  46: 3.8,\n",
       "  47: 3.2,\n",
       "  48: 3.7,\n",
       "  49: 3.3,\n",
       "  50: 3.2,\n",
       "  51: 3.2,\n",
       "  52: 3.1,\n",
       "  53: 2.3,\n",
       "  54: 2.8,\n",
       "  55: 2.8,\n",
       "  56: 3.3,\n",
       "  57: 2.4,\n",
       "  58: 2.9,\n",
       "  59: 2.7,\n",
       "  60: 2.0,\n",
       "  61: 3.0,\n",
       "  62: 2.2,\n",
       "  63: 2.9,\n",
       "  64: 2.9,\n",
       "  65: 3.1,\n",
       "  66: 3.0,\n",
       "  67: 2.7,\n",
       "  68: 2.2,\n",
       "  69: 2.5,\n",
       "  70: 3.2,\n",
       "  71: 2.8,\n",
       "  72: 2.5,\n",
       "  73: 2.8,\n",
       "  74: 2.9,\n",
       "  75: 3.0,\n",
       "  76: 2.8,\n",
       "  77: 3.0,\n",
       "  78: 2.9,\n",
       "  79: 2.6,\n",
       "  80: 2.4,\n",
       "  81: 2.4,\n",
       "  82: 2.7,\n",
       "  83: 2.7,\n",
       "  84: 3.0,\n",
       "  85: 3.4,\n",
       "  86: 3.1,\n",
       "  87: 2.3,\n",
       "  88: 3.0,\n",
       "  89: 2.5,\n",
       "  90: 2.6,\n",
       "  91: 3.0,\n",
       "  92: 2.6,\n",
       "  93: 2.3,\n",
       "  94: 2.7,\n",
       "  95: 3.0,\n",
       "  96: 2.9,\n",
       "  97: 2.9,\n",
       "  98: 2.5,\n",
       "  99: 2.8,\n",
       "  100: 3.3,\n",
       "  101: 2.7,\n",
       "  102: 3.0,\n",
       "  103: 2.9,\n",
       "  104: 3.0,\n",
       "  105: 3.0,\n",
       "  106: 2.5,\n",
       "  107: 2.9,\n",
       "  108: 2.5,\n",
       "  109: 3.6,\n",
       "  110: 3.2,\n",
       "  111: 2.7,\n",
       "  112: 3.0,\n",
       "  113: 2.5,\n",
       "  114: 2.8,\n",
       "  115: 3.2,\n",
       "  116: 3.0,\n",
       "  117: 3.8,\n",
       "  118: 2.6,\n",
       "  119: 2.2,\n",
       "  120: 3.2,\n",
       "  121: 2.8,\n",
       "  122: 2.8,\n",
       "  123: 2.7,\n",
       "  124: 3.3,\n",
       "  125: 3.2,\n",
       "  126: 2.8,\n",
       "  127: 3.0,\n",
       "  128: 2.8,\n",
       "  129: 3.0,\n",
       "  130: 2.8,\n",
       "  131: 3.8,\n",
       "  132: 2.8,\n",
       "  133: 2.8,\n",
       "  134: 2.6,\n",
       "  135: 3.0,\n",
       "  136: 3.4,\n",
       "  137: 3.1,\n",
       "  138: 3.0,\n",
       "  139: 3.1,\n",
       "  140: 3.1,\n",
       "  141: 3.1,\n",
       "  142: 2.7,\n",
       "  143: 3.2,\n",
       "  144: 3.3,\n",
       "  145: 3.0,\n",
       "  146: 2.5,\n",
       "  147: 3.0,\n",
       "  148: 3.4,\n",
       "  149: 3.0},\n",
       " 'petal_length': {0: 1.4,\n",
       "  1: 1.4,\n",
       "  2: 1.3,\n",
       "  3: 1.5,\n",
       "  4: 1.4,\n",
       "  5: 1.7,\n",
       "  6: 1.4,\n",
       "  7: 1.5,\n",
       "  8: 1.4,\n",
       "  9: 1.5,\n",
       "  10: 1.5,\n",
       "  11: 1.6,\n",
       "  12: 1.4,\n",
       "  13: 1.1,\n",
       "  14: 1.2,\n",
       "  15: 1.5,\n",
       "  16: 1.3,\n",
       "  17: 1.4,\n",
       "  18: 1.7,\n",
       "  19: 1.5,\n",
       "  20: 1.7,\n",
       "  21: 1.5,\n",
       "  22: 1.0,\n",
       "  23: 1.7,\n",
       "  24: 1.9,\n",
       "  25: 1.6,\n",
       "  26: 1.6,\n",
       "  27: 1.5,\n",
       "  28: 1.4,\n",
       "  29: 1.6,\n",
       "  30: 1.6,\n",
       "  31: 1.5,\n",
       "  32: 1.5,\n",
       "  33: 1.4,\n",
       "  34: 1.5,\n",
       "  35: 1.2,\n",
       "  36: 1.3,\n",
       "  37: 1.4,\n",
       "  38: 1.3,\n",
       "  39: 1.5,\n",
       "  40: 1.3,\n",
       "  41: 1.3,\n",
       "  42: 1.3,\n",
       "  43: 1.6,\n",
       "  44: 1.9,\n",
       "  45: 1.4,\n",
       "  46: 1.6,\n",
       "  47: 1.4,\n",
       "  48: 1.5,\n",
       "  49: 1.4,\n",
       "  50: 4.7,\n",
       "  51: 4.5,\n",
       "  52: 4.9,\n",
       "  53: 4.0,\n",
       "  54: 4.6,\n",
       "  55: 4.5,\n",
       "  56: 4.7,\n",
       "  57: 3.3,\n",
       "  58: 4.6,\n",
       "  59: 3.9,\n",
       "  60: 3.5,\n",
       "  61: 4.2,\n",
       "  62: 4.0,\n",
       "  63: 4.7,\n",
       "  64: 3.6,\n",
       "  65: 4.4,\n",
       "  66: 4.5,\n",
       "  67: 4.1,\n",
       "  68: 4.5,\n",
       "  69: 3.9,\n",
       "  70: 4.8,\n",
       "  71: 4.0,\n",
       "  72: 4.9,\n",
       "  73: 4.7,\n",
       "  74: 4.3,\n",
       "  75: 4.4,\n",
       "  76: 4.8,\n",
       "  77: 5.0,\n",
       "  78: 4.5,\n",
       "  79: 3.5,\n",
       "  80: 3.8,\n",
       "  81: 3.7,\n",
       "  82: 3.9,\n",
       "  83: 5.1,\n",
       "  84: 4.5,\n",
       "  85: 4.5,\n",
       "  86: 4.7,\n",
       "  87: 4.4,\n",
       "  88: 4.1,\n",
       "  89: 4.0,\n",
       "  90: 4.4,\n",
       "  91: 4.6,\n",
       "  92: 4.0,\n",
       "  93: 3.3,\n",
       "  94: 4.2,\n",
       "  95: 4.2,\n",
       "  96: 4.2,\n",
       "  97: 4.3,\n",
       "  98: 3.0,\n",
       "  99: 4.1,\n",
       "  100: 6.0,\n",
       "  101: 5.1,\n",
       "  102: 5.9,\n",
       "  103: 5.6,\n",
       "  104: 5.8,\n",
       "  105: 6.6,\n",
       "  106: 4.5,\n",
       "  107: 6.3,\n",
       "  108: 5.8,\n",
       "  109: 6.1,\n",
       "  110: 5.1,\n",
       "  111: 5.3,\n",
       "  112: 5.5,\n",
       "  113: 5.0,\n",
       "  114: 5.1,\n",
       "  115: 5.3,\n",
       "  116: 5.5,\n",
       "  117: 6.7,\n",
       "  118: 6.9,\n",
       "  119: 5.0,\n",
       "  120: 5.7,\n",
       "  121: 4.9,\n",
       "  122: 6.7,\n",
       "  123: 4.9,\n",
       "  124: 5.7,\n",
       "  125: 6.0,\n",
       "  126: 4.8,\n",
       "  127: 4.9,\n",
       "  128: 5.6,\n",
       "  129: 5.8,\n",
       "  130: 6.1,\n",
       "  131: 6.4,\n",
       "  132: 5.6,\n",
       "  133: 5.1,\n",
       "  134: 5.6,\n",
       "  135: 6.1,\n",
       "  136: 5.6,\n",
       "  137: 5.5,\n",
       "  138: 4.8,\n",
       "  139: 5.4,\n",
       "  140: 5.6,\n",
       "  141: 5.1,\n",
       "  142: 5.1,\n",
       "  143: 5.9,\n",
       "  144: 5.7,\n",
       "  145: 5.2,\n",
       "  146: 5.0,\n",
       "  147: 5.2,\n",
       "  148: 5.4,\n",
       "  149: 5.1},\n",
       " 'petal_width': {0: 0.2,\n",
       "  1: 0.2,\n",
       "  2: 0.2,\n",
       "  3: 0.2,\n",
       "  4: 0.2,\n",
       "  5: 0.4,\n",
       "  6: 0.3,\n",
       "  7: 0.2,\n",
       "  8: 0.2,\n",
       "  9: 0.1,\n",
       "  10: 0.2,\n",
       "  11: 0.2,\n",
       "  12: 0.1,\n",
       "  13: 0.1,\n",
       "  14: 0.2,\n",
       "  15: 0.4,\n",
       "  16: 0.4,\n",
       "  17: 0.3,\n",
       "  18: 0.3,\n",
       "  19: 0.3,\n",
       "  20: 0.2,\n",
       "  21: 0.4,\n",
       "  22: 0.2,\n",
       "  23: 0.5,\n",
       "  24: 0.2,\n",
       "  25: 0.2,\n",
       "  26: 0.4,\n",
       "  27: 0.2,\n",
       "  28: 0.2,\n",
       "  29: 0.2,\n",
       "  30: 0.2,\n",
       "  31: 0.4,\n",
       "  32: 0.1,\n",
       "  33: 0.2,\n",
       "  34: 0.2,\n",
       "  35: 0.2,\n",
       "  36: 0.2,\n",
       "  37: 0.1,\n",
       "  38: 0.2,\n",
       "  39: 0.2,\n",
       "  40: 0.3,\n",
       "  41: 0.3,\n",
       "  42: 0.2,\n",
       "  43: 0.6,\n",
       "  44: 0.4,\n",
       "  45: 0.3,\n",
       "  46: 0.2,\n",
       "  47: 0.2,\n",
       "  48: 0.2,\n",
       "  49: 0.2,\n",
       "  50: 1.4,\n",
       "  51: 1.5,\n",
       "  52: 1.5,\n",
       "  53: 1.3,\n",
       "  54: 1.5,\n",
       "  55: 1.3,\n",
       "  56: 1.6,\n",
       "  57: 1.0,\n",
       "  58: 1.3,\n",
       "  59: 1.4,\n",
       "  60: 1.0,\n",
       "  61: 1.5,\n",
       "  62: 1.0,\n",
       "  63: 1.4,\n",
       "  64: 1.3,\n",
       "  65: 1.4,\n",
       "  66: 1.5,\n",
       "  67: 1.0,\n",
       "  68: 1.5,\n",
       "  69: 1.1,\n",
       "  70: 1.8,\n",
       "  71: 1.3,\n",
       "  72: 1.5,\n",
       "  73: 1.2,\n",
       "  74: 1.3,\n",
       "  75: 1.4,\n",
       "  76: 1.4,\n",
       "  77: 1.7,\n",
       "  78: 1.5,\n",
       "  79: 1.0,\n",
       "  80: 1.1,\n",
       "  81: 1.0,\n",
       "  82: 1.2,\n",
       "  83: 1.6,\n",
       "  84: 1.5,\n",
       "  85: 1.6,\n",
       "  86: 1.5,\n",
       "  87: 1.3,\n",
       "  88: 1.3,\n",
       "  89: 1.3,\n",
       "  90: 1.2,\n",
       "  91: 1.4,\n",
       "  92: 1.2,\n",
       "  93: 1.0,\n",
       "  94: 1.3,\n",
       "  95: 1.2,\n",
       "  96: 1.3,\n",
       "  97: 1.3,\n",
       "  98: 1.1,\n",
       "  99: 1.3,\n",
       "  100: 2.5,\n",
       "  101: 1.9,\n",
       "  102: 2.1,\n",
       "  103: 1.8,\n",
       "  104: 2.2,\n",
       "  105: 2.1,\n",
       "  106: 1.7,\n",
       "  107: 1.8,\n",
       "  108: 1.8,\n",
       "  109: 2.5,\n",
       "  110: 2.0,\n",
       "  111: 1.9,\n",
       "  112: 2.1,\n",
       "  113: 2.0,\n",
       "  114: 2.4,\n",
       "  115: 2.3,\n",
       "  116: 1.8,\n",
       "  117: 2.2,\n",
       "  118: 2.3,\n",
       "  119: 1.5,\n",
       "  120: 2.3,\n",
       "  121: 2.0,\n",
       "  122: 2.0,\n",
       "  123: 1.8,\n",
       "  124: 2.1,\n",
       "  125: 1.8,\n",
       "  126: 1.8,\n",
       "  127: 1.8,\n",
       "  128: 2.1,\n",
       "  129: 1.6,\n",
       "  130: 1.9,\n",
       "  131: 2.0,\n",
       "  132: 2.2,\n",
       "  133: 1.5,\n",
       "  134: 1.4,\n",
       "  135: 2.3,\n",
       "  136: 2.4,\n",
       "  137: 1.8,\n",
       "  138: 1.8,\n",
       "  139: 2.1,\n",
       "  140: 2.4,\n",
       "  141: 2.3,\n",
       "  142: 1.9,\n",
       "  143: 2.3,\n",
       "  144: 2.5,\n",
       "  145: 2.3,\n",
       "  146: 1.9,\n",
       "  147: 2.0,\n",
       "  148: 2.3,\n",
       "  149: 1.8},\n",
       " 'species': {0: 'setosa',\n",
       "  1: 'setosa',\n",
       "  2: 'setosa',\n",
       "  3: 'setosa',\n",
       "  4: 'setosa',\n",
       "  5: 'setosa',\n",
       "  6: 'setosa',\n",
       "  7: 'setosa',\n",
       "  8: 'setosa',\n",
       "  9: 'setosa',\n",
       "  10: 'setosa',\n",
       "  11: 'setosa',\n",
       "  12: 'setosa',\n",
       "  13: 'setosa',\n",
       "  14: 'setosa',\n",
       "  15: 'setosa',\n",
       "  16: 'setosa',\n",
       "  17: 'setosa',\n",
       "  18: 'setosa',\n",
       "  19: 'setosa',\n",
       "  20: 'setosa',\n",
       "  21: 'setosa',\n",
       "  22: 'setosa',\n",
       "  23: 'setosa',\n",
       "  24: 'setosa',\n",
       "  25: 'setosa',\n",
       "  26: 'setosa',\n",
       "  27: 'setosa',\n",
       "  28: 'setosa',\n",
       "  29: 'setosa',\n",
       "  30: 'setosa',\n",
       "  31: 'setosa',\n",
       "  32: 'setosa',\n",
       "  33: 'setosa',\n",
       "  34: 'setosa',\n",
       "  35: 'setosa',\n",
       "  36: 'setosa',\n",
       "  37: 'setosa',\n",
       "  38: 'setosa',\n",
       "  39: 'setosa',\n",
       "  40: 'setosa',\n",
       "  41: 'setosa',\n",
       "  42: 'setosa',\n",
       "  43: 'setosa',\n",
       "  44: 'setosa',\n",
       "  45: 'setosa',\n",
       "  46: 'setosa',\n",
       "  47: 'setosa',\n",
       "  48: 'setosa',\n",
       "  49: 'setosa',\n",
       "  50: 'versicolor',\n",
       "  51: 'versicolor',\n",
       "  52: 'versicolor',\n",
       "  53: 'versicolor',\n",
       "  54: 'versicolor',\n",
       "  55: 'versicolor',\n",
       "  56: 'versicolor',\n",
       "  57: 'versicolor',\n",
       "  58: 'versicolor',\n",
       "  59: 'versicolor',\n",
       "  60: 'versicolor',\n",
       "  61: 'versicolor',\n",
       "  62: 'versicolor',\n",
       "  63: 'versicolor',\n",
       "  64: 'versicolor',\n",
       "  65: 'versicolor',\n",
       "  66: 'versicolor',\n",
       "  67: 'versicolor',\n",
       "  68: 'versicolor',\n",
       "  69: 'versicolor',\n",
       "  70: 'versicolor',\n",
       "  71: 'versicolor',\n",
       "  72: 'versicolor',\n",
       "  73: 'versicolor',\n",
       "  74: 'versicolor',\n",
       "  75: 'versicolor',\n",
       "  76: 'versicolor',\n",
       "  77: 'versicolor',\n",
       "  78: 'versicolor',\n",
       "  79: 'versicolor',\n",
       "  80: 'versicolor',\n",
       "  81: 'versicolor',\n",
       "  82: 'versicolor',\n",
       "  83: 'versicolor',\n",
       "  84: 'versicolor',\n",
       "  85: 'versicolor',\n",
       "  86: 'versicolor',\n",
       "  87: 'versicolor',\n",
       "  88: 'versicolor',\n",
       "  89: 'versicolor',\n",
       "  90: 'versicolor',\n",
       "  91: 'versicolor',\n",
       "  92: 'versicolor',\n",
       "  93: 'versicolor',\n",
       "  94: 'versicolor',\n",
       "  95: 'versicolor',\n",
       "  96: 'versicolor',\n",
       "  97: 'versicolor',\n",
       "  98: 'versicolor',\n",
       "  99: 'versicolor',\n",
       "  100: 'virginica',\n",
       "  101: 'virginica',\n",
       "  102: 'virginica',\n",
       "  103: 'virginica',\n",
       "  104: 'virginica',\n",
       "  105: 'virginica',\n",
       "  106: 'virginica',\n",
       "  107: 'virginica',\n",
       "  108: 'virginica',\n",
       "  109: 'virginica',\n",
       "  110: 'virginica',\n",
       "  111: 'virginica',\n",
       "  112: 'virginica',\n",
       "  113: 'virginica',\n",
       "  114: 'virginica',\n",
       "  115: 'virginica',\n",
       "  116: 'virginica',\n",
       "  117: 'virginica',\n",
       "  118: 'virginica',\n",
       "  119: 'virginica',\n",
       "  120: 'virginica',\n",
       "  121: 'virginica',\n",
       "  122: 'virginica',\n",
       "  123: 'virginica',\n",
       "  124: 'virginica',\n",
       "  125: 'virginica',\n",
       "  126: 'virginica',\n",
       "  127: 'virginica',\n",
       "  128: 'virginica',\n",
       "  129: 'virginica',\n",
       "  130: 'virginica',\n",
       "  131: 'virginica',\n",
       "  132: 'virginica',\n",
       "  133: 'virginica',\n",
       "  134: 'virginica',\n",
       "  135: 'virginica',\n",
       "  136: 'virginica',\n",
       "  137: 'virginica',\n",
       "  138: 'virginica',\n",
       "  139: 'virginica',\n",
       "  140: 'virginica',\n",
       "  141: 'virginica',\n",
       "  142: 'virginica',\n",
       "  143: 'virginica',\n",
       "  144: 'virginica',\n",
       "  145: 'virginica',\n",
       "  146: 'virginica',\n",
       "  147: 'virginica',\n",
       "  148: 'virginica',\n",
       "  149: 'virginica'}}"
      ]
     },
     "execution_count": 44,
     "metadata": {},
     "output_type": "execute_result"
    }
   ],
   "source": [
    "# to_dict(): 데이터프레임 변수를 딕셔너리로 형변환\n",
    "iris_dic = iris_df.to_dict()\n",
    "iris_dic"
   ]
  },
  {
   "cell_type": "code",
   "execution_count": 45,
   "id": "b12fbdda",
   "metadata": {
    "ExecuteTime": {
     "end_time": "2024-11-19T02:16:55.236953Z",
     "start_time": "2024-11-19T02:16:55.230969Z"
    }
   },
   "outputs": [
    {
     "data": {
      "text/plain": [
       "['sepal_length', 'sepal_width', 'petal_length', 'petal_width', 'species']"
      ]
     },
     "execution_count": 45,
     "metadata": {},
     "output_type": "execute_result"
    }
   ],
   "source": [
    "list(iris_dic.keys()) # hdf파일 출력 시 group이 될 key"
   ]
  },
  {
   "cell_type": "code",
   "execution_count": 46,
   "id": "37486909",
   "metadata": {
    "ExecuteTime": {
     "end_time": "2024-11-19T02:19:53.006478Z",
     "start_time": "2024-11-19T02:19:53.000564Z"
    }
   },
   "outputs": [
    {
     "name": "stdout",
     "output_type": "stream",
     "text": [
      "그룹명: sepal_length\n",
      "{0: 5.1, 1: 4.9, 2: 4.7, 3: 4.6, 4: 5.0, 5: 5.4, 6: 4.6, 7: 5.0, 8: 4.4, 9: 4.9, 10: 5.4, 11: 4.8, 12: 4.8, 13: 4.3, 14: 5.8, 15: 5.7, 16: 5.4, 17: 5.1, 18: 5.7, 19: 5.1, 20: 5.4, 21: 5.1, 22: 4.6, 23: 5.1, 24: 4.8, 25: 5.0, 26: 5.0, 27: 5.2, 28: 5.2, 29: 4.7, 30: 4.8, 31: 5.4, 32: 5.2, 33: 5.5, 34: 4.9, 35: 5.0, 36: 5.5, 37: 4.9, 38: 4.4, 39: 5.1, 40: 5.0, 41: 4.5, 42: 4.4, 43: 5.0, 44: 5.1, 45: 4.8, 46: 5.1, 47: 4.6, 48: 5.3, 49: 5.0, 50: 7.0, 51: 6.4, 52: 6.9, 53: 5.5, 54: 6.5, 55: 5.7, 56: 6.3, 57: 4.9, 58: 6.6, 59: 5.2, 60: 5.0, 61: 5.9, 62: 6.0, 63: 6.1, 64: 5.6, 65: 6.7, 66: 5.6, 67: 5.8, 68: 6.2, 69: 5.6, 70: 5.9, 71: 6.1, 72: 6.3, 73: 6.1, 74: 6.4, 75: 6.6, 76: 6.8, 77: 6.7, 78: 6.0, 79: 5.7, 80: 5.5, 81: 5.5, 82: 5.8, 83: 6.0, 84: 5.4, 85: 6.0, 86: 6.7, 87: 6.3, 88: 5.6, 89: 5.5, 90: 5.5, 91: 6.1, 92: 5.8, 93: 5.0, 94: 5.6, 95: 5.7, 96: 5.7, 97: 6.2, 98: 5.1, 99: 5.7, 100: 6.3, 101: 5.8, 102: 7.1, 103: 6.3, 104: 6.5, 105: 7.6, 106: 4.9, 107: 7.3, 108: 6.7, 109: 7.2, 110: 6.5, 111: 6.4, 112: 6.8, 113: 5.7, 114: 5.8, 115: 6.4, 116: 6.5, 117: 7.7, 118: 7.7, 119: 6.0, 120: 6.9, 121: 5.6, 122: 7.7, 123: 6.3, 124: 6.7, 125: 7.2, 126: 6.2, 127: 6.1, 128: 6.4, 129: 7.2, 130: 7.4, 131: 7.9, 132: 6.4, 133: 6.3, 134: 6.1, 135: 7.7, 136: 6.3, 137: 6.4, 138: 6.0, 139: 6.9, 140: 6.7, 141: 6.9, 142: 5.8, 143: 6.8, 144: 6.7, 145: 6.7, 146: 6.3, 147: 6.5, 148: 6.2, 149: 5.9}\n",
      "그룹명: sepal_width\n",
      "{0: 3.5, 1: 3.0, 2: 3.2, 3: 3.1, 4: 3.6, 5: 3.9, 6: 3.4, 7: 3.4, 8: 2.9, 9: 3.1, 10: 3.7, 11: 3.4, 12: 3.0, 13: 3.0, 14: 4.0, 15: 4.4, 16: 3.9, 17: 3.5, 18: 3.8, 19: 3.8, 20: 3.4, 21: 3.7, 22: 3.6, 23: 3.3, 24: 3.4, 25: 3.0, 26: 3.4, 27: 3.5, 28: 3.4, 29: 3.2, 30: 3.1, 31: 3.4, 32: 4.1, 33: 4.2, 34: 3.1, 35: 3.2, 36: 3.5, 37: 3.6, 38: 3.0, 39: 3.4, 40: 3.5, 41: 2.3, 42: 3.2, 43: 3.5, 44: 3.8, 45: 3.0, 46: 3.8, 47: 3.2, 48: 3.7, 49: 3.3, 50: 3.2, 51: 3.2, 52: 3.1, 53: 2.3, 54: 2.8, 55: 2.8, 56: 3.3, 57: 2.4, 58: 2.9, 59: 2.7, 60: 2.0, 61: 3.0, 62: 2.2, 63: 2.9, 64: 2.9, 65: 3.1, 66: 3.0, 67: 2.7, 68: 2.2, 69: 2.5, 70: 3.2, 71: 2.8, 72: 2.5, 73: 2.8, 74: 2.9, 75: 3.0, 76: 2.8, 77: 3.0, 78: 2.9, 79: 2.6, 80: 2.4, 81: 2.4, 82: 2.7, 83: 2.7, 84: 3.0, 85: 3.4, 86: 3.1, 87: 2.3, 88: 3.0, 89: 2.5, 90: 2.6, 91: 3.0, 92: 2.6, 93: 2.3, 94: 2.7, 95: 3.0, 96: 2.9, 97: 2.9, 98: 2.5, 99: 2.8, 100: 3.3, 101: 2.7, 102: 3.0, 103: 2.9, 104: 3.0, 105: 3.0, 106: 2.5, 107: 2.9, 108: 2.5, 109: 3.6, 110: 3.2, 111: 2.7, 112: 3.0, 113: 2.5, 114: 2.8, 115: 3.2, 116: 3.0, 117: 3.8, 118: 2.6, 119: 2.2, 120: 3.2, 121: 2.8, 122: 2.8, 123: 2.7, 124: 3.3, 125: 3.2, 126: 2.8, 127: 3.0, 128: 2.8, 129: 3.0, 130: 2.8, 131: 3.8, 132: 2.8, 133: 2.8, 134: 2.6, 135: 3.0, 136: 3.4, 137: 3.1, 138: 3.0, 139: 3.1, 140: 3.1, 141: 3.1, 142: 2.7, 143: 3.2, 144: 3.3, 145: 3.0, 146: 2.5, 147: 3.0, 148: 3.4, 149: 3.0}\n",
      "그룹명: petal_length\n",
      "{0: 1.4, 1: 1.4, 2: 1.3, 3: 1.5, 4: 1.4, 5: 1.7, 6: 1.4, 7: 1.5, 8: 1.4, 9: 1.5, 10: 1.5, 11: 1.6, 12: 1.4, 13: 1.1, 14: 1.2, 15: 1.5, 16: 1.3, 17: 1.4, 18: 1.7, 19: 1.5, 20: 1.7, 21: 1.5, 22: 1.0, 23: 1.7, 24: 1.9, 25: 1.6, 26: 1.6, 27: 1.5, 28: 1.4, 29: 1.6, 30: 1.6, 31: 1.5, 32: 1.5, 33: 1.4, 34: 1.5, 35: 1.2, 36: 1.3, 37: 1.4, 38: 1.3, 39: 1.5, 40: 1.3, 41: 1.3, 42: 1.3, 43: 1.6, 44: 1.9, 45: 1.4, 46: 1.6, 47: 1.4, 48: 1.5, 49: 1.4, 50: 4.7, 51: 4.5, 52: 4.9, 53: 4.0, 54: 4.6, 55: 4.5, 56: 4.7, 57: 3.3, 58: 4.6, 59: 3.9, 60: 3.5, 61: 4.2, 62: 4.0, 63: 4.7, 64: 3.6, 65: 4.4, 66: 4.5, 67: 4.1, 68: 4.5, 69: 3.9, 70: 4.8, 71: 4.0, 72: 4.9, 73: 4.7, 74: 4.3, 75: 4.4, 76: 4.8, 77: 5.0, 78: 4.5, 79: 3.5, 80: 3.8, 81: 3.7, 82: 3.9, 83: 5.1, 84: 4.5, 85: 4.5, 86: 4.7, 87: 4.4, 88: 4.1, 89: 4.0, 90: 4.4, 91: 4.6, 92: 4.0, 93: 3.3, 94: 4.2, 95: 4.2, 96: 4.2, 97: 4.3, 98: 3.0, 99: 4.1, 100: 6.0, 101: 5.1, 102: 5.9, 103: 5.6, 104: 5.8, 105: 6.6, 106: 4.5, 107: 6.3, 108: 5.8, 109: 6.1, 110: 5.1, 111: 5.3, 112: 5.5, 113: 5.0, 114: 5.1, 115: 5.3, 116: 5.5, 117: 6.7, 118: 6.9, 119: 5.0, 120: 5.7, 121: 4.9, 122: 6.7, 123: 4.9, 124: 5.7, 125: 6.0, 126: 4.8, 127: 4.9, 128: 5.6, 129: 5.8, 130: 6.1, 131: 6.4, 132: 5.6, 133: 5.1, 134: 5.6, 135: 6.1, 136: 5.6, 137: 5.5, 138: 4.8, 139: 5.4, 140: 5.6, 141: 5.1, 142: 5.1, 143: 5.9, 144: 5.7, 145: 5.2, 146: 5.0, 147: 5.2, 148: 5.4, 149: 5.1}\n",
      "그룹명: petal_width\n",
      "{0: 0.2, 1: 0.2, 2: 0.2, 3: 0.2, 4: 0.2, 5: 0.4, 6: 0.3, 7: 0.2, 8: 0.2, 9: 0.1, 10: 0.2, 11: 0.2, 12: 0.1, 13: 0.1, 14: 0.2, 15: 0.4, 16: 0.4, 17: 0.3, 18: 0.3, 19: 0.3, 20: 0.2, 21: 0.4, 22: 0.2, 23: 0.5, 24: 0.2, 25: 0.2, 26: 0.4, 27: 0.2, 28: 0.2, 29: 0.2, 30: 0.2, 31: 0.4, 32: 0.1, 33: 0.2, 34: 0.2, 35: 0.2, 36: 0.2, 37: 0.1, 38: 0.2, 39: 0.2, 40: 0.3, 41: 0.3, 42: 0.2, 43: 0.6, 44: 0.4, 45: 0.3, 46: 0.2, 47: 0.2, 48: 0.2, 49: 0.2, 50: 1.4, 51: 1.5, 52: 1.5, 53: 1.3, 54: 1.5, 55: 1.3, 56: 1.6, 57: 1.0, 58: 1.3, 59: 1.4, 60: 1.0, 61: 1.5, 62: 1.0, 63: 1.4, 64: 1.3, 65: 1.4, 66: 1.5, 67: 1.0, 68: 1.5, 69: 1.1, 70: 1.8, 71: 1.3, 72: 1.5, 73: 1.2, 74: 1.3, 75: 1.4, 76: 1.4, 77: 1.7, 78: 1.5, 79: 1.0, 80: 1.1, 81: 1.0, 82: 1.2, 83: 1.6, 84: 1.5, 85: 1.6, 86: 1.5, 87: 1.3, 88: 1.3, 89: 1.3, 90: 1.2, 91: 1.4, 92: 1.2, 93: 1.0, 94: 1.3, 95: 1.2, 96: 1.3, 97: 1.3, 98: 1.1, 99: 1.3, 100: 2.5, 101: 1.9, 102: 2.1, 103: 1.8, 104: 2.2, 105: 2.1, 106: 1.7, 107: 1.8, 108: 1.8, 109: 2.5, 110: 2.0, 111: 1.9, 112: 2.1, 113: 2.0, 114: 2.4, 115: 2.3, 116: 1.8, 117: 2.2, 118: 2.3, 119: 1.5, 120: 2.3, 121: 2.0, 122: 2.0, 123: 1.8, 124: 2.1, 125: 1.8, 126: 1.8, 127: 1.8, 128: 2.1, 129: 1.6, 130: 1.9, 131: 2.0, 132: 2.2, 133: 1.5, 134: 1.4, 135: 2.3, 136: 2.4, 137: 1.8, 138: 1.8, 139: 2.1, 140: 2.4, 141: 2.3, 142: 1.9, 143: 2.3, 144: 2.5, 145: 2.3, 146: 1.9, 147: 2.0, 148: 2.3, 149: 1.8}\n",
      "그룹명: species\n",
      "{0: 'setosa', 1: 'setosa', 2: 'setosa', 3: 'setosa', 4: 'setosa', 5: 'setosa', 6: 'setosa', 7: 'setosa', 8: 'setosa', 9: 'setosa', 10: 'setosa', 11: 'setosa', 12: 'setosa', 13: 'setosa', 14: 'setosa', 15: 'setosa', 16: 'setosa', 17: 'setosa', 18: 'setosa', 19: 'setosa', 20: 'setosa', 21: 'setosa', 22: 'setosa', 23: 'setosa', 24: 'setosa', 25: 'setosa', 26: 'setosa', 27: 'setosa', 28: 'setosa', 29: 'setosa', 30: 'setosa', 31: 'setosa', 32: 'setosa', 33: 'setosa', 34: 'setosa', 35: 'setosa', 36: 'setosa', 37: 'setosa', 38: 'setosa', 39: 'setosa', 40: 'setosa', 41: 'setosa', 42: 'setosa', 43: 'setosa', 44: 'setosa', 45: 'setosa', 46: 'setosa', 47: 'setosa', 48: 'setosa', 49: 'setosa', 50: 'versicolor', 51: 'versicolor', 52: 'versicolor', 53: 'versicolor', 54: 'versicolor', 55: 'versicolor', 56: 'versicolor', 57: 'versicolor', 58: 'versicolor', 59: 'versicolor', 60: 'versicolor', 61: 'versicolor', 62: 'versicolor', 63: 'versicolor', 64: 'versicolor', 65: 'versicolor', 66: 'versicolor', 67: 'versicolor', 68: 'versicolor', 69: 'versicolor', 70: 'versicolor', 71: 'versicolor', 72: 'versicolor', 73: 'versicolor', 74: 'versicolor', 75: 'versicolor', 76: 'versicolor', 77: 'versicolor', 78: 'versicolor', 79: 'versicolor', 80: 'versicolor', 81: 'versicolor', 82: 'versicolor', 83: 'versicolor', 84: 'versicolor', 85: 'versicolor', 86: 'versicolor', 87: 'versicolor', 88: 'versicolor', 89: 'versicolor', 90: 'versicolor', 91: 'versicolor', 92: 'versicolor', 93: 'versicolor', 94: 'versicolor', 95: 'versicolor', 96: 'versicolor', 97: 'versicolor', 98: 'versicolor', 99: 'versicolor', 100: 'virginica', 101: 'virginica', 102: 'virginica', 103: 'virginica', 104: 'virginica', 105: 'virginica', 106: 'virginica', 107: 'virginica', 108: 'virginica', 109: 'virginica', 110: 'virginica', 111: 'virginica', 112: 'virginica', 113: 'virginica', 114: 'virginica', 115: 'virginica', 116: 'virginica', 117: 'virginica', 118: 'virginica', 119: 'virginica', 120: 'virginica', 121: 'virginica', 122: 'virginica', 123: 'virginica', 124: 'virginica', 125: 'virginica', 126: 'virginica', 127: 'virginica', 128: 'virginica', 129: 'virginica', 130: 'virginica', 131: 'virginica', 132: 'virginica', 133: 'virginica', 134: 'virginica', 135: 'virginica', 136: 'virginica', 137: 'virginica', 138: 'virginica', 139: 'virginica', 140: 'virginica', 141: 'virginica', 142: 'virginica', 143: 'virginica', 144: 'virginica', 145: 'virginica', 146: 'virginica', 147: 'virginica', 148: 'virginica', 149: 'virginica'}\n"
     ]
    }
   ],
   "source": [
    "for group, value in iris_dic.items():\n",
    "    print('그룹명:', group)\n",
    "    print(value)"
   ]
  },
  {
   "cell_type": "code",
   "execution_count": 47,
   "id": "015fb85c",
   "metadata": {
    "ExecuteTime": {
     "end_time": "2024-11-19T02:33:26.160995Z",
     "start_time": "2024-11-19T02:33:26.151660Z"
    }
   },
   "outputs": [
    {
     "name": "stdout",
     "output_type": "stream",
     "text": [
      "그룹: sepal_length\n",
      "0:5.1\t1:4.9\t2:4.7\t3:4.6\t4:5.0\t5:5.4\t6:4.6\t7:5.0\t8:4.4\t9:4.9\t10:5.4\t11:4.8\t12:4.8\t13:4.3\t14:5.8\t15:5.7\t16:5.4\t17:5.1\t18:5.7\t19:5.1\t20:5.4\t21:5.1\t22:4.6\t23:5.1\t24:4.8\t25:5.0\t26:5.0\t27:5.2\t28:5.2\t29:4.7\t30:4.8\t31:5.4\t32:5.2\t33:5.5\t34:4.9\t35:5.0\t36:5.5\t37:4.9\t38:4.4\t39:5.1\t40:5.0\t41:4.5\t42:4.4\t43:5.0\t44:5.1\t45:4.8\t46:5.1\t47:4.6\t48:5.3\t49:5.0\t50:7.0\t51:6.4\t52:6.9\t53:5.5\t54:6.5\t55:5.7\t56:6.3\t57:4.9\t58:6.6\t59:5.2\t60:5.0\t61:5.9\t62:6.0\t63:6.1\t64:5.6\t65:6.7\t66:5.6\t67:5.8\t68:6.2\t69:5.6\t70:5.9\t71:6.1\t72:6.3\t73:6.1\t74:6.4\t75:6.6\t76:6.8\t77:6.7\t78:6.0\t79:5.7\t80:5.5\t81:5.5\t82:5.8\t83:6.0\t84:5.4\t85:6.0\t86:6.7\t87:6.3\t88:5.6\t89:5.5\t90:5.5\t91:6.1\t92:5.8\t93:5.0\t94:5.6\t95:5.7\t96:5.7\t97:6.2\t98:5.1\t99:5.7\t100:6.3\t101:5.8\t102:7.1\t103:6.3\t104:6.5\t105:7.6\t106:4.9\t107:7.3\t108:6.7\t109:7.2\t110:6.5\t111:6.4\t112:6.8\t113:5.7\t114:5.8\t115:6.4\t116:6.5\t117:7.7\t118:7.7\t119:6.0\t120:6.9\t121:5.6\t122:7.7\t123:6.3\t124:6.7\t125:7.2\t126:6.2\t127:6.1\t128:6.4\t129:7.2\t130:7.4\t131:7.9\t132:6.4\t133:6.3\t134:6.1\t135:7.7\t136:6.3\t137:6.4\t138:6.0\t139:6.9\t140:6.7\t141:6.9\t142:5.8\t143:6.8\t144:6.7\t145:6.7\t146:6.3\t147:6.5\t148:6.2\t149:5.9\t\n",
      "\n",
      "그룹: sepal_width\n",
      "0:3.5\t1:3.0\t2:3.2\t3:3.1\t4:3.6\t5:3.9\t6:3.4\t7:3.4\t8:2.9\t9:3.1\t10:3.7\t11:3.4\t12:3.0\t13:3.0\t14:4.0\t15:4.4\t16:3.9\t17:3.5\t18:3.8\t19:3.8\t20:3.4\t21:3.7\t22:3.6\t23:3.3\t24:3.4\t25:3.0\t26:3.4\t27:3.5\t28:3.4\t29:3.2\t30:3.1\t31:3.4\t32:4.1\t33:4.2\t34:3.1\t35:3.2\t36:3.5\t37:3.6\t38:3.0\t39:3.4\t40:3.5\t41:2.3\t42:3.2\t43:3.5\t44:3.8\t45:3.0\t46:3.8\t47:3.2\t48:3.7\t49:3.3\t50:3.2\t51:3.2\t52:3.1\t53:2.3\t54:2.8\t55:2.8\t56:3.3\t57:2.4\t58:2.9\t59:2.7\t60:2.0\t61:3.0\t62:2.2\t63:2.9\t64:2.9\t65:3.1\t66:3.0\t67:2.7\t68:2.2\t69:2.5\t70:3.2\t71:2.8\t72:2.5\t73:2.8\t74:2.9\t75:3.0\t76:2.8\t77:3.0\t78:2.9\t79:2.6\t80:2.4\t81:2.4\t82:2.7\t83:2.7\t84:3.0\t85:3.4\t86:3.1\t87:2.3\t88:3.0\t89:2.5\t90:2.6\t91:3.0\t92:2.6\t93:2.3\t94:2.7\t95:3.0\t96:2.9\t97:2.9\t98:2.5\t99:2.8\t100:3.3\t101:2.7\t102:3.0\t103:2.9\t104:3.0\t105:3.0\t106:2.5\t107:2.9\t108:2.5\t109:3.6\t110:3.2\t111:2.7\t112:3.0\t113:2.5\t114:2.8\t115:3.2\t116:3.0\t117:3.8\t118:2.6\t119:2.2\t120:3.2\t121:2.8\t122:2.8\t123:2.7\t124:3.3\t125:3.2\t126:2.8\t127:3.0\t128:2.8\t129:3.0\t130:2.8\t131:3.8\t132:2.8\t133:2.8\t134:2.6\t135:3.0\t136:3.4\t137:3.1\t138:3.0\t139:3.1\t140:3.1\t141:3.1\t142:2.7\t143:3.2\t144:3.3\t145:3.0\t146:2.5\t147:3.0\t148:3.4\t149:3.0\t\n",
      "\n",
      "그룹: petal_length\n",
      "0:1.4\t1:1.4\t2:1.3\t3:1.5\t4:1.4\t5:1.7\t6:1.4\t7:1.5\t8:1.4\t9:1.5\t10:1.5\t11:1.6\t12:1.4\t13:1.1\t14:1.2\t15:1.5\t16:1.3\t17:1.4\t18:1.7\t19:1.5\t20:1.7\t21:1.5\t22:1.0\t23:1.7\t24:1.9\t25:1.6\t26:1.6\t27:1.5\t28:1.4\t29:1.6\t30:1.6\t31:1.5\t32:1.5\t33:1.4\t34:1.5\t35:1.2\t36:1.3\t37:1.4\t38:1.3\t39:1.5\t40:1.3\t41:1.3\t42:1.3\t43:1.6\t44:1.9\t45:1.4\t46:1.6\t47:1.4\t48:1.5\t49:1.4\t50:4.7\t51:4.5\t52:4.9\t53:4.0\t54:4.6\t55:4.5\t56:4.7\t57:3.3\t58:4.6\t59:3.9\t60:3.5\t61:4.2\t62:4.0\t63:4.7\t64:3.6\t65:4.4\t66:4.5\t67:4.1\t68:4.5\t69:3.9\t70:4.8\t71:4.0\t72:4.9\t73:4.7\t74:4.3\t75:4.4\t76:4.8\t77:5.0\t78:4.5\t79:3.5\t80:3.8\t81:3.7\t82:3.9\t83:5.1\t84:4.5\t85:4.5\t86:4.7\t87:4.4\t88:4.1\t89:4.0\t90:4.4\t91:4.6\t92:4.0\t93:3.3\t94:4.2\t95:4.2\t96:4.2\t97:4.3\t98:3.0\t99:4.1\t100:6.0\t101:5.1\t102:5.9\t103:5.6\t104:5.8\t105:6.6\t106:4.5\t107:6.3\t108:5.8\t109:6.1\t110:5.1\t111:5.3\t112:5.5\t113:5.0\t114:5.1\t115:5.3\t116:5.5\t117:6.7\t118:6.9\t119:5.0\t120:5.7\t121:4.9\t122:6.7\t123:4.9\t124:5.7\t125:6.0\t126:4.8\t127:4.9\t128:5.6\t129:5.8\t130:6.1\t131:6.4\t132:5.6\t133:5.1\t134:5.6\t135:6.1\t136:5.6\t137:5.5\t138:4.8\t139:5.4\t140:5.6\t141:5.1\t142:5.1\t143:5.9\t144:5.7\t145:5.2\t146:5.0\t147:5.2\t148:5.4\t149:5.1\t\n",
      "\n",
      "그룹: petal_width\n",
      "0:0.2\t1:0.2\t2:0.2\t3:0.2\t4:0.2\t5:0.4\t6:0.3\t7:0.2\t8:0.2\t9:0.1\t10:0.2\t11:0.2\t12:0.1\t13:0.1\t14:0.2\t15:0.4\t16:0.4\t17:0.3\t18:0.3\t19:0.3\t20:0.2\t21:0.4\t22:0.2\t23:0.5\t24:0.2\t25:0.2\t26:0.4\t27:0.2\t28:0.2\t29:0.2\t30:0.2\t31:0.4\t32:0.1\t33:0.2\t34:0.2\t35:0.2\t36:0.2\t37:0.1\t38:0.2\t39:0.2\t40:0.3\t41:0.3\t42:0.2\t43:0.6\t44:0.4\t45:0.3\t46:0.2\t47:0.2\t48:0.2\t49:0.2\t50:1.4\t51:1.5\t52:1.5\t53:1.3\t54:1.5\t55:1.3\t56:1.6\t57:1.0\t58:1.3\t59:1.4\t60:1.0\t61:1.5\t62:1.0\t63:1.4\t64:1.3\t65:1.4\t66:1.5\t67:1.0\t68:1.5\t69:1.1\t70:1.8\t71:1.3\t72:1.5\t73:1.2\t74:1.3\t75:1.4\t76:1.4\t77:1.7\t78:1.5\t79:1.0\t80:1.1\t81:1.0\t82:1.2\t83:1.6\t84:1.5\t85:1.6\t86:1.5\t87:1.3\t88:1.3\t89:1.3\t90:1.2\t91:1.4\t92:1.2\t93:1.0\t94:1.3\t95:1.2\t96:1.3\t97:1.3\t98:1.1\t99:1.3\t100:2.5\t101:1.9\t102:2.1\t103:1.8\t104:2.2\t105:2.1\t106:1.7\t107:1.8\t108:1.8\t109:2.5\t110:2.0\t111:1.9\t112:2.1\t113:2.0\t114:2.4\t115:2.3\t116:1.8\t117:2.2\t118:2.3\t119:1.5\t120:2.3\t121:2.0\t122:2.0\t123:1.8\t124:2.1\t125:1.8\t126:1.8\t127:1.8\t128:2.1\t129:1.6\t130:1.9\t131:2.0\t132:2.2\t133:1.5\t134:1.4\t135:2.3\t136:2.4\t137:1.8\t138:1.8\t139:2.1\t140:2.4\t141:2.3\t142:1.9\t143:2.3\t144:2.5\t145:2.3\t146:1.9\t147:2.0\t148:2.3\t149:1.8\t\n",
      "\n",
      "그룹: species\n",
      "0:setosa\t1:setosa\t2:setosa\t3:setosa\t4:setosa\t5:setosa\t6:setosa\t7:setosa\t8:setosa\t9:setosa\t10:setosa\t11:setosa\t12:setosa\t13:setosa\t14:setosa\t15:setosa\t16:setosa\t17:setosa\t18:setosa\t19:setosa\t20:setosa\t21:setosa\t22:setosa\t23:setosa\t24:setosa\t25:setosa\t26:setosa\t27:setosa\t28:setosa\t29:setosa\t30:setosa\t31:setosa\t32:setosa\t33:setosa\t34:setosa\t35:setosa\t36:setosa\t37:setosa\t38:setosa\t39:setosa\t40:setosa\t41:setosa\t42:setosa\t43:setosa\t44:setosa\t45:setosa\t46:setosa\t47:setosa\t48:setosa\t49:setosa\t50:versicolor\t51:versicolor\t52:versicolor\t53:versicolor\t54:versicolor\t55:versicolor\t56:versicolor\t57:versicolor\t58:versicolor\t59:versicolor\t60:versicolor\t61:versicolor\t62:versicolor\t63:versicolor\t64:versicolor\t65:versicolor\t66:versicolor\t67:versicolor\t68:versicolor\t69:versicolor\t70:versicolor\t71:versicolor\t72:versicolor\t73:versicolor\t74:versicolor\t75:versicolor\t76:versicolor\t77:versicolor\t78:versicolor\t79:versicolor\t80:versicolor\t81:versicolor\t82:versicolor\t83:versicolor\t84:versicolor\t85:versicolor\t86:versicolor\t87:versicolor\t88:versicolor\t89:versicolor\t90:versicolor\t91:versicolor\t92:versicolor\t93:versicolor\t94:versicolor\t95:versicolor\t96:versicolor\t97:versicolor\t98:versicolor\t99:versicolor\t100:virginica\t101:virginica\t102:virginica\t103:virginica\t104:virginica\t105:virginica\t106:virginica\t107:virginica\t108:virginica\t109:virginica\t110:virginica\t111:virginica\t112:virginica\t113:virginica\t114:virginica\t115:virginica\t116:virginica\t117:virginica\t118:virginica\t119:virginica\t120:virginica\t121:virginica\t122:virginica\t123:virginica\t124:virginica\t125:virginica\t126:virginica\t127:virginica\t128:virginica\t129:virginica\t130:virginica\t131:virginica\t132:virginica\t133:virginica\t134:virginica\t135:virginica\t136:virginica\t137:virginica\t138:virginica\t139:virginica\t140:virginica\t141:virginica\t142:virginica\t143:virginica\t144:virginica\t145:virginica\t146:virginica\t147:virginica\t148:virginica\t149:virginica\t\n",
      "\n"
     ]
    }
   ],
   "source": [
    "for group, value in iris_dic.items():\n",
    "    print('그룹:', group)\n",
    "    for key, data in value.items():\n",
    "        print('{}:{}'.format(str(key), data), end='\\t')\n",
    "    print('\\n')"
   ]
  },
  {
   "cell_type": "code",
   "execution_count": 50,
   "id": "960eaea0",
   "metadata": {
    "ExecuteTime": {
     "end_time": "2024-11-19T02:38:51.807700Z",
     "start_time": "2024-11-19T02:38:51.423888Z"
    }
   },
   "outputs": [
    {
     "name": "stdout",
     "output_type": "stream",
     "text": [
      "그룹: sepal_length\n",
      "\n",
      "\n",
      "그룹: sepal_width\n",
      "\n",
      "\n",
      "그룹: petal_length\n",
      "\n",
      "\n",
      "그룹: petal_width\n",
      "\n",
      "\n",
      "그룹: species\n",
      "\n",
      "\n"
     ]
    }
   ],
   "source": [
    "# 딕셔너리데이터를 h5f파일로 쓰기\n",
    "import h5py\n",
    "with h5py.File('data/ch09_iris.hdf5','w') as f:\n",
    "    for group, value in iris_dic.items():\n",
    "        grp = f.create_group(group) # group생성, grp\n",
    "        print('그룹:', group)\n",
    "        for key, data in value.items():\n",
    "            grp.create_dataset(str(key), data=data)\n",
    "        print('\\n')"
   ]
  },
  {
   "cell_type": "code",
   "execution_count": 52,
   "id": "cc8fd250",
   "metadata": {
    "ExecuteTime": {
     "end_time": "2024-11-19T02:49:10.396692Z",
     "start_time": "2024-11-19T02:49:10.128817Z"
    }
   },
   "outputs": [],
   "source": [
    "# 데이터프레임을 hdf파일로 쓰기\n",
    "iris_df.to_hdf('data/ch09_iris2.hdf5', key='iris')"
   ]
  },
  {
   "cell_type": "code",
   "execution_count": 53,
   "id": "6c450f86",
   "metadata": {
    "ExecuteTime": {
     "end_time": "2024-11-19T02:49:55.967906Z",
     "start_time": "2024-11-19T02:49:55.952934Z"
    }
   },
   "outputs": [
    {
     "data": {
      "text/html": [
       "<div>\n",
       "<style scoped>\n",
       "    .dataframe tbody tr th:only-of-type {\n",
       "        vertical-align: middle;\n",
       "    }\n",
       "\n",
       "    .dataframe tbody tr th {\n",
       "        vertical-align: top;\n",
       "    }\n",
       "\n",
       "    .dataframe thead th {\n",
       "        text-align: right;\n",
       "    }\n",
       "</style>\n",
       "<table border=\"1\" class=\"dataframe\">\n",
       "  <thead>\n",
       "    <tr style=\"text-align: right;\">\n",
       "      <th></th>\n",
       "      <th>sepal_length</th>\n",
       "      <th>sepal_width</th>\n",
       "      <th>petal_length</th>\n",
       "      <th>petal_width</th>\n",
       "      <th>species</th>\n",
       "    </tr>\n",
       "  </thead>\n",
       "  <tbody>\n",
       "    <tr>\n",
       "      <th>0</th>\n",
       "      <td>5.1</td>\n",
       "      <td>3.5</td>\n",
       "      <td>1.4</td>\n",
       "      <td>0.2</td>\n",
       "      <td>setosa</td>\n",
       "    </tr>\n",
       "    <tr>\n",
       "      <th>1</th>\n",
       "      <td>4.9</td>\n",
       "      <td>3.0</td>\n",
       "      <td>1.4</td>\n",
       "      <td>0.2</td>\n",
       "      <td>setosa</td>\n",
       "    </tr>\n",
       "    <tr>\n",
       "      <th>2</th>\n",
       "      <td>4.7</td>\n",
       "      <td>3.2</td>\n",
       "      <td>1.3</td>\n",
       "      <td>0.2</td>\n",
       "      <td>setosa</td>\n",
       "    </tr>\n",
       "    <tr>\n",
       "      <th>3</th>\n",
       "      <td>4.6</td>\n",
       "      <td>3.1</td>\n",
       "      <td>1.5</td>\n",
       "      <td>0.2</td>\n",
       "      <td>setosa</td>\n",
       "    </tr>\n",
       "    <tr>\n",
       "      <th>4</th>\n",
       "      <td>5.0</td>\n",
       "      <td>3.6</td>\n",
       "      <td>1.4</td>\n",
       "      <td>0.2</td>\n",
       "      <td>setosa</td>\n",
       "    </tr>\n",
       "    <tr>\n",
       "      <th>...</th>\n",
       "      <td>...</td>\n",
       "      <td>...</td>\n",
       "      <td>...</td>\n",
       "      <td>...</td>\n",
       "      <td>...</td>\n",
       "    </tr>\n",
       "    <tr>\n",
       "      <th>145</th>\n",
       "      <td>6.7</td>\n",
       "      <td>3.0</td>\n",
       "      <td>5.2</td>\n",
       "      <td>2.3</td>\n",
       "      <td>virginica</td>\n",
       "    </tr>\n",
       "    <tr>\n",
       "      <th>146</th>\n",
       "      <td>6.3</td>\n",
       "      <td>2.5</td>\n",
       "      <td>5.0</td>\n",
       "      <td>1.9</td>\n",
       "      <td>virginica</td>\n",
       "    </tr>\n",
       "    <tr>\n",
       "      <th>147</th>\n",
       "      <td>6.5</td>\n",
       "      <td>3.0</td>\n",
       "      <td>5.2</td>\n",
       "      <td>2.0</td>\n",
       "      <td>virginica</td>\n",
       "    </tr>\n",
       "    <tr>\n",
       "      <th>148</th>\n",
       "      <td>6.2</td>\n",
       "      <td>3.4</td>\n",
       "      <td>5.4</td>\n",
       "      <td>2.3</td>\n",
       "      <td>virginica</td>\n",
       "    </tr>\n",
       "    <tr>\n",
       "      <th>149</th>\n",
       "      <td>5.9</td>\n",
       "      <td>3.0</td>\n",
       "      <td>5.1</td>\n",
       "      <td>1.8</td>\n",
       "      <td>virginica</td>\n",
       "    </tr>\n",
       "  </tbody>\n",
       "</table>\n",
       "<p>150 rows × 5 columns</p>\n",
       "</div>"
      ],
      "text/plain": [
       "     sepal_length  sepal_width  petal_length  petal_width    species\n",
       "0             5.1          3.5           1.4          0.2     setosa\n",
       "1             4.9          3.0           1.4          0.2     setosa\n",
       "2             4.7          3.2           1.3          0.2     setosa\n",
       "3             4.6          3.1           1.5          0.2     setosa\n",
       "4             5.0          3.6           1.4          0.2     setosa\n",
       "..            ...          ...           ...          ...        ...\n",
       "145           6.7          3.0           5.2          2.3  virginica\n",
       "146           6.3          2.5           5.0          1.9  virginica\n",
       "147           6.5          3.0           5.2          2.0  virginica\n",
       "148           6.2          3.4           5.4          2.3  virginica\n",
       "149           5.9          3.0           5.1          1.8  virginica\n",
       "\n",
       "[150 rows x 5 columns]"
      ]
     },
     "execution_count": 53,
     "metadata": {},
     "output_type": "execute_result"
    }
   ],
   "source": [
    "iris_df"
   ]
  },
  {
   "cell_type": "markdown",
   "id": "357574a3",
   "metadata": {},
   "source": [
    "## 5.2 파일 읽기\n",
    "1. hdf5파일에서 데이터프레임으로 읽기\n",
    "2. hdf5파일에서 딕셔너리로 읽기"
   ]
  },
  {
   "cell_type": "code",
   "execution_count": 55,
   "id": "be92efb6",
   "metadata": {
    "ExecuteTime": {
     "end_time": "2024-11-19T02:59:17.921248Z",
     "start_time": "2024-11-19T02:59:17.897467Z"
    }
   },
   "outputs": [
    {
     "data": {
      "text/html": [
       "<div>\n",
       "<style scoped>\n",
       "    .dataframe tbody tr th:only-of-type {\n",
       "        vertical-align: middle;\n",
       "    }\n",
       "\n",
       "    .dataframe tbody tr th {\n",
       "        vertical-align: top;\n",
       "    }\n",
       "\n",
       "    .dataframe thead th {\n",
       "        text-align: right;\n",
       "    }\n",
       "</style>\n",
       "<table border=\"1\" class=\"dataframe\">\n",
       "  <thead>\n",
       "    <tr style=\"text-align: right;\">\n",
       "      <th></th>\n",
       "      <th>sepal_length</th>\n",
       "      <th>sepal_width</th>\n",
       "      <th>petal_length</th>\n",
       "      <th>petal_width</th>\n",
       "      <th>species</th>\n",
       "    </tr>\n",
       "  </thead>\n",
       "  <tbody>\n",
       "    <tr>\n",
       "      <th>0</th>\n",
       "      <td>5.1</td>\n",
       "      <td>3.5</td>\n",
       "      <td>1.4</td>\n",
       "      <td>0.2</td>\n",
       "      <td>setosa</td>\n",
       "    </tr>\n",
       "    <tr>\n",
       "      <th>1</th>\n",
       "      <td>4.9</td>\n",
       "      <td>3.0</td>\n",
       "      <td>1.4</td>\n",
       "      <td>0.2</td>\n",
       "      <td>setosa</td>\n",
       "    </tr>\n",
       "    <tr>\n",
       "      <th>2</th>\n",
       "      <td>4.7</td>\n",
       "      <td>3.2</td>\n",
       "      <td>1.3</td>\n",
       "      <td>0.2</td>\n",
       "      <td>setosa</td>\n",
       "    </tr>\n",
       "    <tr>\n",
       "      <th>3</th>\n",
       "      <td>4.6</td>\n",
       "      <td>3.1</td>\n",
       "      <td>1.5</td>\n",
       "      <td>0.2</td>\n",
       "      <td>setosa</td>\n",
       "    </tr>\n",
       "    <tr>\n",
       "      <th>4</th>\n",
       "      <td>5.0</td>\n",
       "      <td>3.6</td>\n",
       "      <td>1.4</td>\n",
       "      <td>0.2</td>\n",
       "      <td>setosa</td>\n",
       "    </tr>\n",
       "    <tr>\n",
       "      <th>...</th>\n",
       "      <td>...</td>\n",
       "      <td>...</td>\n",
       "      <td>...</td>\n",
       "      <td>...</td>\n",
       "      <td>...</td>\n",
       "    </tr>\n",
       "    <tr>\n",
       "      <th>145</th>\n",
       "      <td>6.7</td>\n",
       "      <td>3.0</td>\n",
       "      <td>5.2</td>\n",
       "      <td>2.3</td>\n",
       "      <td>virginica</td>\n",
       "    </tr>\n",
       "    <tr>\n",
       "      <th>146</th>\n",
       "      <td>6.3</td>\n",
       "      <td>2.5</td>\n",
       "      <td>5.0</td>\n",
       "      <td>1.9</td>\n",
       "      <td>virginica</td>\n",
       "    </tr>\n",
       "    <tr>\n",
       "      <th>147</th>\n",
       "      <td>6.5</td>\n",
       "      <td>3.0</td>\n",
       "      <td>5.2</td>\n",
       "      <td>2.0</td>\n",
       "      <td>virginica</td>\n",
       "    </tr>\n",
       "    <tr>\n",
       "      <th>148</th>\n",
       "      <td>6.2</td>\n",
       "      <td>3.4</td>\n",
       "      <td>5.4</td>\n",
       "      <td>2.3</td>\n",
       "      <td>virginica</td>\n",
       "    </tr>\n",
       "    <tr>\n",
       "      <th>149</th>\n",
       "      <td>5.9</td>\n",
       "      <td>3.0</td>\n",
       "      <td>5.1</td>\n",
       "      <td>1.8</td>\n",
       "      <td>virginica</td>\n",
       "    </tr>\n",
       "  </tbody>\n",
       "</table>\n",
       "<p>150 rows × 5 columns</p>\n",
       "</div>"
      ],
      "text/plain": [
       "     sepal_length  sepal_width  petal_length  petal_width    species\n",
       "0             5.1          3.5           1.4          0.2     setosa\n",
       "1             4.9          3.0           1.4          0.2     setosa\n",
       "2             4.7          3.2           1.3          0.2     setosa\n",
       "3             4.6          3.1           1.5          0.2     setosa\n",
       "4             5.0          3.6           1.4          0.2     setosa\n",
       "..            ...          ...           ...          ...        ...\n",
       "145           6.7          3.0           5.2          2.3  virginica\n",
       "146           6.3          2.5           5.0          1.9  virginica\n",
       "147           6.5          3.0           5.2          2.0  virginica\n",
       "148           6.2          3.4           5.4          2.3  virginica\n",
       "149           5.9          3.0           5.1          1.8  virginica\n",
       "\n",
       "[150 rows x 5 columns]"
      ]
     },
     "execution_count": 55,
     "metadata": {},
     "output_type": "execute_result"
    }
   ],
   "source": [
    "# hdf5파일에서 데이터프레임 변수로 읽어오기\n",
    "load_iris_df = pd.read_hdf('data/ch09_iris2.hdf5', key='iris')\n",
    "load_iris_df"
   ]
  },
  {
   "cell_type": "code",
   "execution_count": null,
   "id": "0d009480",
   "metadata": {},
   "outputs": [],
   "source": [
    "# hdf파일을 딕셔너리 변수로 읽어오기"
   ]
  },
  {
   "cell_type": "code",
   "execution_count": 56,
   "id": "e0617712",
   "metadata": {
    "ExecuteTime": {
     "end_time": "2024-11-19T03:02:35.760563Z",
     "start_time": "2024-11-19T03:02:35.753582Z"
    }
   },
   "outputs": [
    {
     "data": {
      "text/plain": [
       "{'name': '홍길동'}"
      ]
     },
     "execution_count": 56,
     "metadata": {},
     "output_type": "execute_result"
    }
   ],
   "source": [
    "dict_data = {}\n",
    "# 딕셔너리에 데이터 추가\n",
    "# sol 1 \n",
    "dict_data['name'] = '홍길동'\n",
    "dict_data"
   ]
  },
  {
   "cell_type": "code",
   "execution_count": null,
   "id": "1a347f6a",
   "metadata": {},
   "outputs": [],
   "source": [
    "# sol 2\n",
    "dict_data{}\n",
    "dict_data.update({'name':'홍길동'})"
   ]
  },
  {
   "cell_type": "code",
   "execution_count": 59,
   "id": "c1cf3726",
   "metadata": {
    "ExecuteTime": {
     "end_time": "2024-11-19T03:07:14.116368Z",
     "start_time": "2024-11-19T03:07:13.923589Z"
    }
   },
   "outputs": [
    {
     "name": "stdout",
     "output_type": "stream",
     "text": [
      "그룹: petal_length\n",
      "0:1.4\t1:1.4\t10:1.5\t100:6.0\t101:5.1\t102:5.9\t103:5.6\t104:5.8\t105:6.6\t106:4.5\t107:6.3\t108:5.8\t109:6.1\t11:1.6\t110:5.1\t111:5.3\t112:5.5\t113:5.0\t114:5.1\t115:5.3\t116:5.5\t117:6.7\t118:6.9\t119:5.0\t12:1.4\t120:5.7\t121:4.9\t122:6.7\t123:4.9\t124:5.7\t125:6.0\t126:4.8\t127:4.9\t128:5.6\t129:5.8\t13:1.1\t130:6.1\t131:6.4\t132:5.6\t133:5.1\t134:5.6\t135:6.1\t136:5.6\t137:5.5\t138:4.8\t139:5.4\t14:1.2\t140:5.6\t141:5.1\t142:5.1\t143:5.9\t144:5.7\t145:5.2\t146:5.0\t147:5.2\t148:5.4\t149:5.1\t15:1.5\t16:1.3\t17:1.4\t18:1.7\t19:1.5\t2:1.3\t20:1.7\t21:1.5\t22:1.0\t23:1.7\t24:1.9\t25:1.6\t26:1.6\t27:1.5\t28:1.4\t29:1.6\t3:1.5\t30:1.6\t31:1.5\t32:1.5\t33:1.4\t34:1.5\t35:1.2\t36:1.3\t37:1.4\t38:1.3\t39:1.5\t4:1.4\t40:1.3\t41:1.3\t42:1.3\t43:1.6\t44:1.9\t45:1.4\t46:1.6\t47:1.4\t48:1.5\t49:1.4\t5:1.7\t50:4.7\t51:4.5\t52:4.9\t53:4.0\t54:4.6\t55:4.5\t56:4.7\t57:3.3\t58:4.6\t59:3.9\t6:1.4\t60:3.5\t61:4.2\t62:4.0\t63:4.7\t64:3.6\t65:4.4\t66:4.5\t67:4.1\t68:4.5\t69:3.9\t7:1.5\t70:4.8\t71:4.0\t72:4.9\t73:4.7\t74:4.3\t75:4.4\t76:4.8\t77:5.0\t78:4.5\t79:3.5\t8:1.4\t80:3.8\t81:3.7\t82:3.9\t83:5.1\t84:4.5\t85:4.5\t86:4.7\t87:4.4\t88:4.1\t89:4.0\t9:1.5\t90:4.4\t91:4.6\t92:4.0\t93:3.3\t94:4.2\t95:4.2\t96:4.2\t97:4.3\t98:3.0\t99:4.1\t그룹: petal_width\n",
      "0:0.2\t1:0.2\t10:0.2\t100:2.5\t101:1.9\t102:2.1\t103:1.8\t104:2.2\t105:2.1\t106:1.7\t107:1.8\t108:1.8\t109:2.5\t11:0.2\t110:2.0\t111:1.9\t112:2.1\t113:2.0\t114:2.4\t115:2.3\t116:1.8\t117:2.2\t118:2.3\t119:1.5\t12:0.1\t120:2.3\t121:2.0\t122:2.0\t123:1.8\t124:2.1\t125:1.8\t126:1.8\t127:1.8\t128:2.1\t129:1.6\t13:0.1\t130:1.9\t131:2.0\t132:2.2\t133:1.5\t134:1.4\t135:2.3\t136:2.4\t137:1.8\t138:1.8\t139:2.1\t14:0.2\t140:2.4\t141:2.3\t142:1.9\t143:2.3\t144:2.5\t145:2.3\t146:1.9\t147:2.0\t148:2.3\t149:1.8\t15:0.4\t16:0.4\t17:0.3\t18:0.3\t19:0.3\t2:0.2\t20:0.2\t21:0.4\t22:0.2\t23:0.5\t24:0.2\t25:0.2\t26:0.4\t27:0.2\t28:0.2\t29:0.2\t3:0.2\t30:0.2\t31:0.4\t32:0.1\t33:0.2\t34:0.2\t35:0.2\t36:0.2\t37:0.1\t38:0.2\t39:0.2\t4:0.2\t40:0.3\t41:0.3\t42:0.2\t43:0.6\t44:0.4\t45:0.3\t46:0.2\t47:0.2\t48:0.2\t49:0.2\t5:0.4\t50:1.4\t51:1.5\t52:1.5\t53:1.3\t54:1.5\t55:1.3\t56:1.6\t57:1.0\t58:1.3\t59:1.4\t6:0.3\t60:1.0\t61:1.5\t62:1.0\t63:1.4\t64:1.3\t65:1.4\t66:1.5\t67:1.0\t68:1.5\t69:1.1\t7:0.2\t70:1.8\t71:1.3\t72:1.5\t73:1.2\t74:1.3\t75:1.4\t76:1.4\t77:1.7\t78:1.5\t79:1.0\t8:0.2\t80:1.1\t81:1.0\t82:1.2\t83:1.6\t84:1.5\t85:1.6\t86:1.5\t87:1.3\t88:1.3\t89:1.3\t9:0.1\t90:1.2\t91:1.4\t92:1.2\t93:1.0\t94:1.3\t95:1.2\t96:1.3\t97:1.3\t98:1.1\t99:1.3\t그룹: sepal_length\n",
      "0:5.1\t1:4.9\t10:5.4\t100:6.3\t101:5.8\t102:7.1\t103:6.3\t104:6.5\t105:7.6\t106:4.9\t107:7.3\t108:6.7\t109:7.2\t11:4.8\t110:6.5\t111:6.4\t112:6.8\t113:5.7\t114:5.8\t115:6.4\t116:6.5\t117:7.7\t118:7.7\t119:6.0\t12:4.8\t120:6.9\t121:5.6\t122:7.7\t123:6.3\t124:6.7\t125:7.2\t126:6.2\t127:6.1\t128:6.4\t129:7.2\t13:4.3\t130:7.4\t131:7.9\t132:6.4\t133:6.3\t134:6.1\t135:7.7\t136:6.3\t137:6.4\t138:6.0\t139:6.9\t14:5.8\t140:6.7\t141:6.9\t142:5.8\t143:6.8\t144:6.7\t145:6.7\t146:6.3\t147:6.5\t148:6.2\t149:5.9\t15:5.7\t16:5.4\t17:5.1\t18:5.7\t19:5.1\t2:4.7\t20:5.4\t21:5.1\t22:4.6\t23:5.1\t24:4.8\t25:5.0\t26:5.0\t27:5.2\t28:5.2\t29:4.7\t3:4.6\t30:4.8\t31:5.4\t32:5.2\t33:5.5\t34:4.9\t35:5.0\t36:5.5\t37:4.9\t38:4.4\t39:5.1\t4:5.0\t40:5.0\t41:4.5\t42:4.4\t43:5.0\t44:5.1\t45:4.8\t46:5.1\t47:4.6\t48:5.3\t49:5.0\t5:5.4\t50:7.0\t51:6.4\t52:6.9\t53:5.5\t54:6.5\t55:5.7\t56:6.3\t57:4.9\t58:6.6\t59:5.2\t6:4.6\t60:5.0\t61:5.9\t62:6.0\t63:6.1\t64:5.6\t65:6.7\t66:5.6\t67:5.8\t68:6.2\t69:5.6\t7:5.0\t70:5.9\t71:6.1\t72:6.3\t73:6.1\t74:6.4\t75:6.6\t76:6.8\t77:6.7\t78:6.0\t79:5.7\t8:4.4\t80:5.5\t81:5.5\t82:5.8\t83:6.0\t84:5.4\t85:6.0\t86:6.7\t87:6.3\t88:5.6\t89:5.5\t9:4.9\t90:5.5\t91:6.1\t92:5.8\t93:5.0\t94:5.6\t95:5.7\t96:5.7\t97:6.2\t98:5.1\t99:5.7\t그룹: sepal_width\n",
      "0:3.5\t1:3.0\t10:3.7\t100:3.3\t101:2.7\t102:3.0\t103:2.9\t104:3.0\t105:3.0\t106:2.5\t107:2.9\t108:2.5\t109:3.6\t11:3.4\t110:3.2\t111:2.7\t112:3.0\t113:2.5\t114:2.8\t115:3.2\t116:3.0\t117:3.8\t118:2.6\t119:2.2\t12:3.0\t120:3.2\t121:2.8\t122:2.8\t123:2.7\t124:3.3\t125:3.2\t126:2.8\t127:3.0\t128:2.8\t129:3.0\t13:3.0\t130:2.8\t131:3.8\t132:2.8\t133:2.8\t134:2.6\t135:3.0\t136:3.4\t137:3.1\t138:3.0\t139:3.1\t14:4.0\t140:3.1\t141:3.1\t142:2.7\t143:3.2\t144:3.3\t145:3.0\t146:2.5\t147:3.0\t148:3.4\t149:3.0\t15:4.4\t16:3.9\t17:3.5\t18:3.8\t19:3.8\t2:3.2\t20:3.4\t21:3.7\t22:3.6\t23:3.3\t24:3.4\t25:3.0\t26:3.4\t27:3.5\t28:3.4\t29:3.2\t3:3.1\t30:3.1\t31:3.4\t32:4.1\t33:4.2\t34:3.1\t35:3.2\t36:3.5\t37:3.6\t38:3.0\t39:3.4\t4:3.6\t40:3.5\t41:2.3\t42:3.2\t43:3.5\t44:3.8\t45:3.0\t46:3.8\t47:3.2\t48:3.7\t49:3.3\t5:3.9\t50:3.2\t51:3.2\t52:3.1\t53:2.3\t54:2.8\t55:2.8\t56:3.3\t57:2.4\t58:2.9\t59:2.7\t6:3.4\t60:2.0\t61:3.0\t62:2.2\t63:2.9\t64:2.9\t65:3.1\t66:3.0\t67:2.7\t68:2.2\t69:2.5\t7:3.4\t70:3.2\t71:2.8\t72:2.5\t73:2.8\t74:2.9\t75:3.0\t76:2.8\t77:3.0\t78:2.9\t79:2.6\t8:2.9\t80:2.4\t81:2.4\t82:2.7\t83:2.7\t84:3.0\t85:3.4\t86:3.1\t87:2.3\t88:3.0\t89:2.5\t9:3.1\t90:2.6\t91:3.0\t92:2.6\t93:2.3\t94:2.7\t95:3.0\t96:2.9\t97:2.9\t98:2.5\t99:2.8\t그룹: species\n",
      "0:b'setosa'\t1:b'setosa'\t10:b'setosa'\t100:b'virginica'\t101:b'virginica'\t102:b'virginica'\t103:b'virginica'\t104:b'virginica'\t105:b'virginica'\t106:b'virginica'\t107:b'virginica'\t108:b'virginica'\t109:b'virginica'\t11:b'setosa'\t110:b'virginica'\t111:b'virginica'\t112:b'virginica'\t113:b'virginica'\t114:b'virginica'\t115:b'virginica'\t116:b'virginica'\t117:b'virginica'\t118:b'virginica'\t119:b'virginica'\t12:b'setosa'\t120:b'virginica'\t121:b'virginica'\t122:b'virginica'\t123:b'virginica'\t124:b'virginica'\t125:b'virginica'\t126:b'virginica'\t127:b'virginica'\t128:b'virginica'\t129:b'virginica'\t13:b'setosa'\t130:b'virginica'\t131:b'virginica'\t132:b'virginica'\t133:b'virginica'\t134:b'virginica'\t135:b'virginica'\t136:b'virginica'\t137:b'virginica'\t138:b'virginica'\t139:b'virginica'\t14:b'setosa'\t140:b'virginica'\t141:b'virginica'\t142:b'virginica'\t143:b'virginica'\t144:b'virginica'\t145:b'virginica'\t146:b'virginica'\t147:b'virginica'\t148:b'virginica'\t149:b'virginica'\t15:b'setosa'\t16:b'setosa'\t17:b'setosa'\t18:b'setosa'\t19:b'setosa'\t2:b'setosa'\t20:b'setosa'\t21:b'setosa'\t22:b'setosa'\t23:b'setosa'\t24:b'setosa'\t25:b'setosa'\t26:b'setosa'\t27:b'setosa'\t28:b'setosa'\t29:b'setosa'\t3:b'setosa'\t30:b'setosa'\t31:b'setosa'\t32:b'setosa'\t33:b'setosa'\t34:b'setosa'\t35:b'setosa'\t36:b'setosa'\t37:b'setosa'\t38:b'setosa'\t39:b'setosa'\t4:b'setosa'\t40:b'setosa'\t41:b'setosa'\t42:b'setosa'\t43:b'setosa'\t44:b'setosa'\t45:b'setosa'\t46:b'setosa'\t47:b'setosa'\t48:b'setosa'\t49:b'setosa'\t5:b'setosa'\t50:b'versicolor'\t51:b'versicolor'\t52:b'versicolor'\t53:b'versicolor'\t54:b'versicolor'\t55:b'versicolor'\t56:b'versicolor'\t57:b'versicolor'\t58:b'versicolor'\t59:b'versicolor'\t6:b'setosa'\t60:b'versicolor'\t61:b'versicolor'\t62:b'versicolor'\t63:b'versicolor'\t64:b'versicolor'\t65:b'versicolor'\t66:b'versicolor'\t67:b'versicolor'\t68:b'versicolor'\t69:b'versicolor'\t7:b'setosa'\t70:b'versicolor'\t71:b'versicolor'\t72:b'versicolor'\t73:b'versicolor'\t74:b'versicolor'\t75:b'versicolor'\t76:b'versicolor'\t77:b'versicolor'\t78:b'versicolor'\t79:b'versicolor'\t8:b'setosa'\t80:b'versicolor'\t81:b'versicolor'\t82:b'versicolor'\t83:b'versicolor'\t84:b'versicolor'\t85:b'versicolor'\t86:b'versicolor'\t87:b'versicolor'\t88:b'versicolor'\t89:b'versicolor'\t9:b'setosa'\t90:b'versicolor'\t91:b'versicolor'\t92:b'versicolor'\t93:b'versicolor'\t94:b'versicolor'\t95:b'versicolor'\t96:b'versicolor'\t97:b'versicolor'\t98:b'versicolor'\t99:b'versicolor'\t"
     ]
    }
   ],
   "source": [
    "# hdf5 파일의 내용을 읽어 출력\n",
    "with h5py.File('data/ch09_iris.hdf5', 'r') as f:\n",
    "    for group, value in f.items():\n",
    "        print('그룹:', group)\n",
    "        for key, data in value.items():\n",
    "            print(\"{}:{}\".format(key, data[()]), end='\\t') # [()]: list 내 tuple, 데이터 읽어짐"
   ]
  },
  {
   "cell_type": "code",
   "execution_count": 60,
   "id": "5adfb960",
   "metadata": {
    "ExecuteTime": {
     "end_time": "2024-11-19T03:12:57.334807Z",
     "start_time": "2024-11-19T03:12:57.129833Z"
    }
   },
   "outputs": [],
   "source": [
    "# hdf5 파일의 내용을 딕셔너리에 담기\n",
    "iris_dic2 = {}\n",
    "with h5py.File('data/ch09_iris.hdf5', 'r') as f:\n",
    "    for group, value in f.items():\n",
    "        cols = {}\n",
    "        for key, data in value.items():\n",
    "            # cols[int(key)] = data[()]\n",
    "            cols.update({int(key) : data[()]})\n",
    "        # iris_dic2[group] = cols\n",
    "        iris_dic2.update({group : cols})"
   ]
  },
  {
   "cell_type": "code",
   "execution_count": 62,
   "id": "e32bb3c7",
   "metadata": {
    "ExecuteTime": {
     "end_time": "2024-11-19T03:14:02.449096Z",
     "start_time": "2024-11-19T03:14:02.441867Z"
    }
   },
   "outputs": [
    {
     "name": "stdout",
     "output_type": "stream",
     "text": [
      "그룹: petal_length\n",
      "{0: 1.4, 1: 1.4, 10: 1.5, 100: 6.0, 101: 5.1, 102: 5.9, 103: 5.6, 104: 5.8, 105: 6.6, 106: 4.5, 107: 6.3, 108: 5.8, 109: 6.1, 11: 1.6, 110: 5.1, 111: 5.3, 112: 5.5, 113: 5.0, 114: 5.1, 115: 5.3, 116: 5.5, 117: 6.7, 118: 6.9, 119: 5.0, 12: 1.4, 120: 5.7, 121: 4.9, 122: 6.7, 123: 4.9, 124: 5.7, 125: 6.0, 126: 4.8, 127: 4.9, 128: 5.6, 129: 5.8, 13: 1.1, 130: 6.1, 131: 6.4, 132: 5.6, 133: 5.1, 134: 5.6, 135: 6.1, 136: 5.6, 137: 5.5, 138: 4.8, 139: 5.4, 14: 1.2, 140: 5.6, 141: 5.1, 142: 5.1, 143: 5.9, 144: 5.7, 145: 5.2, 146: 5.0, 147: 5.2, 148: 5.4, 149: 5.1, 15: 1.5, 16: 1.3, 17: 1.4, 18: 1.7, 19: 1.5, 2: 1.3, 20: 1.7, 21: 1.5, 22: 1.0, 23: 1.7, 24: 1.9, 25: 1.6, 26: 1.6, 27: 1.5, 28: 1.4, 29: 1.6, 3: 1.5, 30: 1.6, 31: 1.5, 32: 1.5, 33: 1.4, 34: 1.5, 35: 1.2, 36: 1.3, 37: 1.4, 38: 1.3, 39: 1.5, 4: 1.4, 40: 1.3, 41: 1.3, 42: 1.3, 43: 1.6, 44: 1.9, 45: 1.4, 46: 1.6, 47: 1.4, 48: 1.5, 49: 1.4, 5: 1.7, 50: 4.7, 51: 4.5, 52: 4.9, 53: 4.0, 54: 4.6, 55: 4.5, 56: 4.7, 57: 3.3, 58: 4.6, 59: 3.9, 6: 1.4, 60: 3.5, 61: 4.2, 62: 4.0, 63: 4.7, 64: 3.6, 65: 4.4, 66: 4.5, 67: 4.1, 68: 4.5, 69: 3.9, 7: 1.5, 70: 4.8, 71: 4.0, 72: 4.9, 73: 4.7, 74: 4.3, 75: 4.4, 76: 4.8, 77: 5.0, 78: 4.5, 79: 3.5, 8: 1.4, 80: 3.8, 81: 3.7, 82: 3.9, 83: 5.1, 84: 4.5, 85: 4.5, 86: 4.7, 87: 4.4, 88: 4.1, 89: 4.0, 9: 1.5, 90: 4.4, 91: 4.6, 92: 4.0, 93: 3.3, 94: 4.2, 95: 4.2, 96: 4.2, 97: 4.3, 98: 3.0, 99: 4.1}\n",
      "\n",
      "그룹: petal_width\n",
      "{0: 0.2, 1: 0.2, 10: 0.2, 100: 2.5, 101: 1.9, 102: 2.1, 103: 1.8, 104: 2.2, 105: 2.1, 106: 1.7, 107: 1.8, 108: 1.8, 109: 2.5, 11: 0.2, 110: 2.0, 111: 1.9, 112: 2.1, 113: 2.0, 114: 2.4, 115: 2.3, 116: 1.8, 117: 2.2, 118: 2.3, 119: 1.5, 12: 0.1, 120: 2.3, 121: 2.0, 122: 2.0, 123: 1.8, 124: 2.1, 125: 1.8, 126: 1.8, 127: 1.8, 128: 2.1, 129: 1.6, 13: 0.1, 130: 1.9, 131: 2.0, 132: 2.2, 133: 1.5, 134: 1.4, 135: 2.3, 136: 2.4, 137: 1.8, 138: 1.8, 139: 2.1, 14: 0.2, 140: 2.4, 141: 2.3, 142: 1.9, 143: 2.3, 144: 2.5, 145: 2.3, 146: 1.9, 147: 2.0, 148: 2.3, 149: 1.8, 15: 0.4, 16: 0.4, 17: 0.3, 18: 0.3, 19: 0.3, 2: 0.2, 20: 0.2, 21: 0.4, 22: 0.2, 23: 0.5, 24: 0.2, 25: 0.2, 26: 0.4, 27: 0.2, 28: 0.2, 29: 0.2, 3: 0.2, 30: 0.2, 31: 0.4, 32: 0.1, 33: 0.2, 34: 0.2, 35: 0.2, 36: 0.2, 37: 0.1, 38: 0.2, 39: 0.2, 4: 0.2, 40: 0.3, 41: 0.3, 42: 0.2, 43: 0.6, 44: 0.4, 45: 0.3, 46: 0.2, 47: 0.2, 48: 0.2, 49: 0.2, 5: 0.4, 50: 1.4, 51: 1.5, 52: 1.5, 53: 1.3, 54: 1.5, 55: 1.3, 56: 1.6, 57: 1.0, 58: 1.3, 59: 1.4, 6: 0.3, 60: 1.0, 61: 1.5, 62: 1.0, 63: 1.4, 64: 1.3, 65: 1.4, 66: 1.5, 67: 1.0, 68: 1.5, 69: 1.1, 7: 0.2, 70: 1.8, 71: 1.3, 72: 1.5, 73: 1.2, 74: 1.3, 75: 1.4, 76: 1.4, 77: 1.7, 78: 1.5, 79: 1.0, 8: 0.2, 80: 1.1, 81: 1.0, 82: 1.2, 83: 1.6, 84: 1.5, 85: 1.6, 86: 1.5, 87: 1.3, 88: 1.3, 89: 1.3, 9: 0.1, 90: 1.2, 91: 1.4, 92: 1.2, 93: 1.0, 94: 1.3, 95: 1.2, 96: 1.3, 97: 1.3, 98: 1.1, 99: 1.3}\n",
      "\n",
      "그룹: sepal_length\n",
      "{0: 5.1, 1: 4.9, 10: 5.4, 100: 6.3, 101: 5.8, 102: 7.1, 103: 6.3, 104: 6.5, 105: 7.6, 106: 4.9, 107: 7.3, 108: 6.7, 109: 7.2, 11: 4.8, 110: 6.5, 111: 6.4, 112: 6.8, 113: 5.7, 114: 5.8, 115: 6.4, 116: 6.5, 117: 7.7, 118: 7.7, 119: 6.0, 12: 4.8, 120: 6.9, 121: 5.6, 122: 7.7, 123: 6.3, 124: 6.7, 125: 7.2, 126: 6.2, 127: 6.1, 128: 6.4, 129: 7.2, 13: 4.3, 130: 7.4, 131: 7.9, 132: 6.4, 133: 6.3, 134: 6.1, 135: 7.7, 136: 6.3, 137: 6.4, 138: 6.0, 139: 6.9, 14: 5.8, 140: 6.7, 141: 6.9, 142: 5.8, 143: 6.8, 144: 6.7, 145: 6.7, 146: 6.3, 147: 6.5, 148: 6.2, 149: 5.9, 15: 5.7, 16: 5.4, 17: 5.1, 18: 5.7, 19: 5.1, 2: 4.7, 20: 5.4, 21: 5.1, 22: 4.6, 23: 5.1, 24: 4.8, 25: 5.0, 26: 5.0, 27: 5.2, 28: 5.2, 29: 4.7, 3: 4.6, 30: 4.8, 31: 5.4, 32: 5.2, 33: 5.5, 34: 4.9, 35: 5.0, 36: 5.5, 37: 4.9, 38: 4.4, 39: 5.1, 4: 5.0, 40: 5.0, 41: 4.5, 42: 4.4, 43: 5.0, 44: 5.1, 45: 4.8, 46: 5.1, 47: 4.6, 48: 5.3, 49: 5.0, 5: 5.4, 50: 7.0, 51: 6.4, 52: 6.9, 53: 5.5, 54: 6.5, 55: 5.7, 56: 6.3, 57: 4.9, 58: 6.6, 59: 5.2, 6: 4.6, 60: 5.0, 61: 5.9, 62: 6.0, 63: 6.1, 64: 5.6, 65: 6.7, 66: 5.6, 67: 5.8, 68: 6.2, 69: 5.6, 7: 5.0, 70: 5.9, 71: 6.1, 72: 6.3, 73: 6.1, 74: 6.4, 75: 6.6, 76: 6.8, 77: 6.7, 78: 6.0, 79: 5.7, 8: 4.4, 80: 5.5, 81: 5.5, 82: 5.8, 83: 6.0, 84: 5.4, 85: 6.0, 86: 6.7, 87: 6.3, 88: 5.6, 89: 5.5, 9: 4.9, 90: 5.5, 91: 6.1, 92: 5.8, 93: 5.0, 94: 5.6, 95: 5.7, 96: 5.7, 97: 6.2, 98: 5.1, 99: 5.7}\n",
      "\n",
      "그룹: sepal_width\n",
      "{0: 3.5, 1: 3.0, 10: 3.7, 100: 3.3, 101: 2.7, 102: 3.0, 103: 2.9, 104: 3.0, 105: 3.0, 106: 2.5, 107: 2.9, 108: 2.5, 109: 3.6, 11: 3.4, 110: 3.2, 111: 2.7, 112: 3.0, 113: 2.5, 114: 2.8, 115: 3.2, 116: 3.0, 117: 3.8, 118: 2.6, 119: 2.2, 12: 3.0, 120: 3.2, 121: 2.8, 122: 2.8, 123: 2.7, 124: 3.3, 125: 3.2, 126: 2.8, 127: 3.0, 128: 2.8, 129: 3.0, 13: 3.0, 130: 2.8, 131: 3.8, 132: 2.8, 133: 2.8, 134: 2.6, 135: 3.0, 136: 3.4, 137: 3.1, 138: 3.0, 139: 3.1, 14: 4.0, 140: 3.1, 141: 3.1, 142: 2.7, 143: 3.2, 144: 3.3, 145: 3.0, 146: 2.5, 147: 3.0, 148: 3.4, 149: 3.0, 15: 4.4, 16: 3.9, 17: 3.5, 18: 3.8, 19: 3.8, 2: 3.2, 20: 3.4, 21: 3.7, 22: 3.6, 23: 3.3, 24: 3.4, 25: 3.0, 26: 3.4, 27: 3.5, 28: 3.4, 29: 3.2, 3: 3.1, 30: 3.1, 31: 3.4, 32: 4.1, 33: 4.2, 34: 3.1, 35: 3.2, 36: 3.5, 37: 3.6, 38: 3.0, 39: 3.4, 4: 3.6, 40: 3.5, 41: 2.3, 42: 3.2, 43: 3.5, 44: 3.8, 45: 3.0, 46: 3.8, 47: 3.2, 48: 3.7, 49: 3.3, 5: 3.9, 50: 3.2, 51: 3.2, 52: 3.1, 53: 2.3, 54: 2.8, 55: 2.8, 56: 3.3, 57: 2.4, 58: 2.9, 59: 2.7, 6: 3.4, 60: 2.0, 61: 3.0, 62: 2.2, 63: 2.9, 64: 2.9, 65: 3.1, 66: 3.0, 67: 2.7, 68: 2.2, 69: 2.5, 7: 3.4, 70: 3.2, 71: 2.8, 72: 2.5, 73: 2.8, 74: 2.9, 75: 3.0, 76: 2.8, 77: 3.0, 78: 2.9, 79: 2.6, 8: 2.9, 80: 2.4, 81: 2.4, 82: 2.7, 83: 2.7, 84: 3.0, 85: 3.4, 86: 3.1, 87: 2.3, 88: 3.0, 89: 2.5, 9: 3.1, 90: 2.6, 91: 3.0, 92: 2.6, 93: 2.3, 94: 2.7, 95: 3.0, 96: 2.9, 97: 2.9, 98: 2.5, 99: 2.8}\n",
      "\n",
      "그룹: species\n",
      "{0: b'setosa', 1: b'setosa', 10: b'setosa', 100: b'virginica', 101: b'virginica', 102: b'virginica', 103: b'virginica', 104: b'virginica', 105: b'virginica', 106: b'virginica', 107: b'virginica', 108: b'virginica', 109: b'virginica', 11: b'setosa', 110: b'virginica', 111: b'virginica', 112: b'virginica', 113: b'virginica', 114: b'virginica', 115: b'virginica', 116: b'virginica', 117: b'virginica', 118: b'virginica', 119: b'virginica', 12: b'setosa', 120: b'virginica', 121: b'virginica', 122: b'virginica', 123: b'virginica', 124: b'virginica', 125: b'virginica', 126: b'virginica', 127: b'virginica', 128: b'virginica', 129: b'virginica', 13: b'setosa', 130: b'virginica', 131: b'virginica', 132: b'virginica', 133: b'virginica', 134: b'virginica', 135: b'virginica', 136: b'virginica', 137: b'virginica', 138: b'virginica', 139: b'virginica', 14: b'setosa', 140: b'virginica', 141: b'virginica', 142: b'virginica', 143: b'virginica', 144: b'virginica', 145: b'virginica', 146: b'virginica', 147: b'virginica', 148: b'virginica', 149: b'virginica', 15: b'setosa', 16: b'setosa', 17: b'setosa', 18: b'setosa', 19: b'setosa', 2: b'setosa', 20: b'setosa', 21: b'setosa', 22: b'setosa', 23: b'setosa', 24: b'setosa', 25: b'setosa', 26: b'setosa', 27: b'setosa', 28: b'setosa', 29: b'setosa', 3: b'setosa', 30: b'setosa', 31: b'setosa', 32: b'setosa', 33: b'setosa', 34: b'setosa', 35: b'setosa', 36: b'setosa', 37: b'setosa', 38: b'setosa', 39: b'setosa', 4: b'setosa', 40: b'setosa', 41: b'setosa', 42: b'setosa', 43: b'setosa', 44: b'setosa', 45: b'setosa', 46: b'setosa', 47: b'setosa', 48: b'setosa', 49: b'setosa', 5: b'setosa', 50: b'versicolor', 51: b'versicolor', 52: b'versicolor', 53: b'versicolor', 54: b'versicolor', 55: b'versicolor', 56: b'versicolor', 57: b'versicolor', 58: b'versicolor', 59: b'versicolor', 6: b'setosa', 60: b'versicolor', 61: b'versicolor', 62: b'versicolor', 63: b'versicolor', 64: b'versicolor', 65: b'versicolor', 66: b'versicolor', 67: b'versicolor', 68: b'versicolor', 69: b'versicolor', 7: b'setosa', 70: b'versicolor', 71: b'versicolor', 72: b'versicolor', 73: b'versicolor', 74: b'versicolor', 75: b'versicolor', 76: b'versicolor', 77: b'versicolor', 78: b'versicolor', 79: b'versicolor', 8: b'setosa', 80: b'versicolor', 81: b'versicolor', 82: b'versicolor', 83: b'versicolor', 84: b'versicolor', 85: b'versicolor', 86: b'versicolor', 87: b'versicolor', 88: b'versicolor', 89: b'versicolor', 9: b'setosa', 90: b'versicolor', 91: b'versicolor', 92: b'versicolor', 93: b'versicolor', 94: b'versicolor', 95: b'versicolor', 96: b'versicolor', 97: b'versicolor', 98: b'versicolor', 99: b'versicolor'}\n",
      "\n"
     ]
    }
   ],
   "source": [
    "for group, value in iris_dic2.items():\n",
    "    print('그룹:', group)\n",
    "    print(value)\n",
    "    print()"
   ]
  },
  {
   "cell_type": "markdown",
   "id": "fb127b00",
   "metadata": {},
   "source": [
    "# 6절. 연습문제: 고객관리\n",
    "- 프로그램 실행 시작 시: \n",
    "    * 'data/ch09_customers.txt'(프로그램 실행 시 백업용 데이터)파일이 있으면 파일에서 파일 input\n",
    "    * 'data/ch09_customers.txt' 파일이 없으면 빈 파일 생성\n",
    "    * 'data/ch09_customers.txt' 파일 내용:\n",
    "    ```\n",
    "        홍길동, 010-9999-9999, hong@m.com, 30, 5, 열심히\n",
    "        홍길동, 010-8888-8888, hong@abc.com, 31, 5, abc\n",
    "        유길동, 010-5432-2222, yu@hong.com, 20, 2, 가칠해\n",
    "    ```\n",
    "## Customer 클래스 작성(고객 데이터 타입) Customer('홍길동', '010', 'h@h', 30, 5, 기타)\n",
    "    * __init__, __str__, as_dic(csv파일출력위함), to_list_style(txt파일출력위함)\n",
    "- 1입력\n"
   ]
  },
  {
   "cell_type": "code",
   "execution_count": 110,
   "id": "b4146489",
   "metadata": {
    "ExecuteTime": {
     "end_time": "2024-11-19T05:25:33.795424Z",
     "start_time": "2024-11-19T05:25:33.788166Z"
    }
   },
   "outputs": [],
   "source": [
    "# Customer 클래스\n",
    "class Customer:\n",
    "    def __init__(self, name, phone, email, age, grade, etc):\n",
    "        self.name  = name\n",
    "        self.phone = phone\n",
    "        self.email = email\n",
    "        self.age   = age\n",
    "        self.grade = grade\n",
    "        self.etc   = etc\n",
    "    def as_dic(self): # 객체를 딕셔너리데이터로 반환(CSV파일 저장 위함)\n",
    "        return {\n",
    "            \"name\" : self.name,\n",
    "            \"phone\": self.phone,\n",
    "            \"email\": self.email,\n",
    "            \"age\"  : self.age,\n",
    "            \"grade\": self.grade,\n",
    "            \"etc\"  : self.etc\n",
    "        }\n",
    "    def to_list_style(self): # 객체를 list-style로 변환\n",
    "        temp = [self.name, self.phone, self.email, str(self.age), str(self.grade), self.etc]\n",
    "        return ', '.join(temp)\n",
    "    def __str__(self):\n",
    "        return '{:>5} {} {}\\t{}\\t{} {}'.format(\\\n",
    "                self.grade*\"*\", self.name, self.phone, self.email, self.age, self.etc )    "
   ]
  },
  {
   "cell_type": "code",
   "execution_count": null,
   "id": "ce0ac996",
   "metadata": {},
   "outputs": [],
   "source": [
    "# class Customer:\n",
    "#     '고객 데이터 저장'\n",
    "#     def __init__(self, name, phone, email, age, grade, etc):\n",
    "#         self.name = name\n",
    "#         self.phone = phone\n",
    "#         self.email = email\n",
    "#         self.age  = age\n",
    "#         self.grade = grade\n",
    "#         self.etc = etc\n",
    "#     def as_dic(self): # 객체를 딕셔너리데이터로 반환 (csv파일 저장시)\n",
    "#         return {\"name\":self.name, \"phone\":self.phone, \"email\":self.email,\n",
    "#                \"age\":self.age, \"grade\":self.grade, \"etc\":self.etc}\n",
    "#     def to_list_style(self): \n",
    "#         '객체를 \"홍길동, 010-8999-9999, e@e.com, 20, 3, 까칠해\" return(9번 사용)'\n",
    "#         temp = [self.name, self.phone, self.email, \n",
    "#                 str(self.age), str(self.grade), self.etc]\n",
    "#         return ', '.join(temp)\n",
    "#     def __str__(self): #   *** 홍길동 010-8999-9999 e@e.com 20 까칠해\n",
    "#         return \"{:>5}\\t{:3}\\t{:15}\\t{:15}\\t{:3}\\t{}\".format('*'*self.grade,\n",
    "#                     self.name, self.phone, self.email, self.age, self.etc)"
   ]
  },
  {
   "cell_type": "code",
   "execution_count": 118,
   "id": "c0711f62",
   "metadata": {
    "ExecuteTime": {
     "end_time": "2024-11-19T05:28:23.451274Z",
     "start_time": "2024-11-19T05:28:23.444286Z"
    }
   },
   "outputs": [
    {
     "name": "stdout",
     "output_type": "stream",
     "text": [
      "***** 홍길동 010-9999-9999\thong@m.com\t30 열심히\n",
      "***** 홍길동 010-8888-8888\thong@abc.com\t31 abc\n",
      "   ** 유길동 010-5432-2222\tyu@hong.com\t20 가칠해\n",
      "\n",
      "as_dic 테스트---- {'name': '홍길동', 'phone': '010-9999-9999', 'email': 'hong@m.com', 'age': 30, 'grade': 5, 'etc': '열심히'}\n",
      "\n",
      "to_list_style 테스트---- 홍길동, 010-9999-9999, hong@m.com, 30, 5, 열심히\n"
     ]
    }
   ],
   "source": [
    "# __init__ / __str__\n",
    "print(Customer(\"홍길동\", \"010-9999-9999\", \"hong@m.com\", 30, 5, \"열심히\"))\n",
    "print(Customer(\"홍길동\", \"010-8888-8888\", \"hong@abc.com\", 31, 5, \"abc\"))\n",
    "print(Customer(\"유길동\", \"010-5432-2222\", \"yu@hong.com\", 20, 2, \"가칠해\"))\n",
    "print() # 개행\n",
    "\n",
    "cus1 = Customer(\"홍길동\", \"010-9999-9999\", \"hong@m.com\", 30, 5, \"열심히\")\n",
    "print('as_dic 테스트----', cus1.as_dic())\n",
    "print() # 개행\n",
    "\n",
    "print('to_list_style 테스트----', cus1.to_list_style())"
   ]
  },
  {
   "cell_type": "code",
   "execution_count": null,
   "id": "936c46fb",
   "metadata": {},
   "outputs": [],
   "source": [
    "# c1 = Customer(\"홍길동\",\"010-9999-9999\",\"h@h.com\", 20, 3, \"기타\")\n",
    "# c2 = Customer(\"홍길동\",\"010-9999-9999\",\"h@h.com\", 20, 5, \"기타\")\n",
    "# print(c1)\n",
    "# print(c2)\n",
    "# print(c1.to_list_style())\n",
    "# print(c1.as_dic())"
   ]
  },
  {
   "cell_type": "code",
   "execution_count": 119,
   "id": "294355c6",
   "metadata": {
    "ExecuteTime": {
     "end_time": "2024-11-19T05:36:26.562966Z",
     "start_time": "2024-11-19T05:36:26.556981Z"
    }
   },
   "outputs": [],
   "source": [
    "def to_customer(row): # txt 파일 내용 한줄(홍길동, 010-8999-9999, e@e.com, 20, 3, 까칠해)을 Customer 객체로 반환\n",
    "    data    = row.strip().split(', ') # strip(): 앞뒤 white space(문자열 및 공백) 제거\n",
    "    name    = data[0]\n",
    "    phone   = data[1].strip()\n",
    "    email   = data[2].strip()\n",
    "    age     = int(data[3].strip())\n",
    "    grade   = int(data[4].strip())\n",
    "    etc     = data[5].strip()\n",
    "    return Customer(name, phone, email, age, grade, etc)"
   ]
  },
  {
   "cell_type": "code",
   "execution_count": null,
   "id": "7c2a1fe7",
   "metadata": {},
   "outputs": [],
   "source": [
    "# def to_customer(row): # txt 파일 내용 한줄(홍길동, 010-8999-9999, e@e.com, 20, 3, 까칠해)을 Customer 객체로 반환\n",
    "#     data = row.strip().split(',')\n",
    "#     name = data[0]\n",
    "#     phone = data[1].strip() # strip은 앞뒤 white space 제거\n",
    "#     email = data[2].strip()\n",
    "#     age = int(data[3].strip())\n",
    "#     grade = int(data[4].strip())\n",
    "#     etc = data[5].strip()\n",
    "#     return Customer(name, phone, email, age, grade, etc)"
   ]
  },
  {
   "cell_type": "code",
   "execution_count": 168,
   "id": "97c82c13",
   "metadata": {
    "ExecuteTime": {
     "end_time": "2024-11-19T06:59:25.356249Z",
     "start_time": "2024-11-19T06:59:25.350285Z"
    }
   },
   "outputs": [],
   "source": [
    "# 0. 실행하면 data/ch09_customers.txt 파일의 내용을 load(customer_list)\n",
    "#            data/ch09_customers.txt이 존재하지 않으면 \n",
    "#                                           빈 data/ch09_customers.txt파일을 생성하고 \n",
    "#                                                        데이터는 customer_list=[]\n",
    "def load_customers():\n",
    "    customer_list = []\n",
    "    # 파일의 내용을 customer_list에 append\n",
    "    # 파일 없으면 빈 파일 생성하고 내용은 ''추가\n",
    "    try:\n",
    "        with open('data/ch09_customers.txt', 'r', encoding='UTF-8') as f:\n",
    "            lines = f.readlines()\n",
    "        for line in lines:\n",
    "            customer = to_customer(line)\n",
    "            # print(customer)\n",
    "            customer_list.append(customer)\n",
    "    except FileNotFoundError as e:\n",
    "        print('data/ch09_customers.txt 파일이 존재하지 않으므로 초기화합니다')\n",
    "        with open('data/ch09_customers.txt', 'w', encoding='UTF-8') as f:\n",
    "            f.write('')\n",
    "    return customer_list"
   ]
  },
  {
   "cell_type": "code",
   "execution_count": null,
   "id": "ae7d6bfc",
   "metadata": {},
   "outputs": [],
   "source": [
    "# def load_customers():\n",
    "#     customer_list = []\n",
    "#     # 파일의 내용을 customer_list에 append\n",
    "#     # 파일이 없으면 빈 파일 생성하고 내용은 ''추가\n",
    "#     try:\n",
    "#         with open('data/ch09_customers.txt', 'r', encoding='utf-8') as f:\n",
    "#             # 방법1. 한줄씩 읽어서 customer_list에 append하기\n",
    "# #             line = f.readline()\n",
    "# #             while line != '':\n",
    "# #                 customer = to_customer(line)\n",
    "# #                 customer_list.append(customer)\n",
    "#             # 방법2. 한꺼번에 읽어서 for문으로 append하기\n",
    "#             lines = f.readlines()\n",
    "#         for line in lines:\n",
    "#             customer = to_customer(line)\n",
    "#             customer_list.append(customer)\n",
    "#     except FileNotFoundError as e:\n",
    "#         print('데이터 파일 ch09_customers.txt가 없어서 초기화합니다')\n",
    "#         with open('data/ch09_customers.txt', 'w', encoding='utf-8') as f:\n",
    "#             f.write('')\n",
    "#     return customer_list"
   ]
  },
  {
   "cell_type": "code",
   "execution_count": 169,
   "id": "f9b67c5d",
   "metadata": {
    "ExecuteTime": {
     "end_time": "2024-11-19T06:59:26.931448Z",
     "start_time": "2024-11-19T06:59:26.925848Z"
    }
   },
   "outputs": [
    {
     "name": "stdout",
     "output_type": "stream",
     "text": [
      "***** 홍길동 010-9999-9999\thong@m.com\t30 열심히\n",
      "***** 홍길동 010-8888-8888\thong@abc.com\t31 abc\n",
      "   ** 유길동 010-5432-2222\tyu@hong.com\t20 가칠해\n"
     ]
    }
   ],
   "source": [
    "# load_customers() 테스트\n",
    "customer_list = load_customers()\n",
    "for customer in customer_list:\n",
    "    print(customer)"
   ]
  },
  {
   "cell_type": "code",
   "execution_count": 215,
   "id": "c76a057d",
   "metadata": {
    "ExecuteTime": {
     "end_time": "2024-11-19T07:32:13.765366Z",
     "start_time": "2024-11-19T07:32:13.758358Z"
    }
   },
   "outputs": [],
   "source": [
    "# 1. 입력\n",
    "def fn1_insert_customer_info():\n",
    "    name  = input('이름을 입력하세요 > ')\n",
    "    phone = input('휴대폰 번호를 입력하세요 > ')\n",
    "    email = input('이메일을 입력하세요 > ')\n",
    "    age   = int(input('나이를 입력하세요 > '))\n",
    "    if age < 0:\n",
    "        print('나이 입력 오류: 0살로 입력되었습니다')\n",
    "        age = 0\n",
    "    grade = int(input('등급(1~5)을 입력하세요 > '))\n",
    "    if grade < 0 or grade > 5 or grade == \"\":\n",
    "        print('등급 입력 오류: 5등급으로 입력되었습니다')\n",
    "        grade = 5\n",
    "\n",
    "    etc   = input('기타사항을 입력하세요 > ')\n",
    "    return Customer(name, phone, email, age, grade, etc)"
   ]
  },
  {
   "cell_type": "code",
   "execution_count": null,
   "id": "7355a5c9",
   "metadata": {},
   "outputs": [],
   "source": [
    "# def fn1_insert_customer_info():\n",
    "#     '사용자로부터 이름, 전화번호, 이메일, 나이, 등급, etc를 받아 customer형 객체 return'\n",
    "#     name = input('이름 : ')\n",
    "#     phone = input(\"전화번호 : \")\n",
    "#     email = input(\"이메일 : \")\n",
    "#     try:\n",
    "#         age = int(input(\"나이 : \"))\n",
    "#         if age<0:\n",
    "#             age = 0\n",
    "#     except ValueError as e:\n",
    "#         print('유효하지 않은 나이  입력시 나이는 0으로 초기화')\n",
    "#         age = 0\n",
    "#     try:\n",
    "#         grade = int(input(\"고객등급(1~5) : \"))\n",
    "#         if grade < 1 :\n",
    "#             grade = 1\n",
    "#         if grade > 5 :\n",
    "#             grade = 5\n",
    "#     except ValueError as e:\n",
    "#         print('유효하지 않은 등급을 입력시 등급은 1로 초기화')\n",
    "#         grade = 1\n",
    "#     etc = input(\"기타 정보 : \")\n",
    "#     customer = Customer(name, phone, email, age, grade, etc)\n",
    "#     return customer"
   ]
  },
  {
   "cell_type": "code",
   "execution_count": 270,
   "id": "fac48dc4",
   "metadata": {
    "ExecuteTime": {
     "end_time": "2024-11-19T08:19:11.912575Z",
     "start_time": "2024-11-19T08:18:54.703069Z"
    }
   },
   "outputs": [
    {
     "name": "stdout",
     "output_type": "stream",
     "text": [
      "이름을 입력하세요 > 뽀로로\n",
      "휴대폰 번호를 입력하세요 > 010-555-5555\n",
      "이메일을 입력하세요 > ㅇㅇ\n",
      "나이를 입력하세요 > 5\n",
      "등급(1~5)을 입력하세요 > 5\n",
      "기타사항을 입력하세요 > ㅇㅇ\n"
     ]
    }
   ],
   "source": [
    "customer = fn1_insert_customer_info()"
   ]
  },
  {
   "cell_type": "code",
   "execution_count": 271,
   "id": "c132b00b",
   "metadata": {
    "ExecuteTime": {
     "end_time": "2024-11-19T08:19:14.706839Z",
     "start_time": "2024-11-19T08:19:14.702866Z"
    }
   },
   "outputs": [],
   "source": [
    "# 위 함수 테스트\n",
    "customer = fn1_insert_customer_info()\n",
    "print('입력한 정보로 만든 Member 객체 :',customer)\n",
    "customer_list.append(customer)"
   ]
  },
  {
   "cell_type": "code",
   "execution_count": 272,
   "id": "06c0979d",
   "metadata": {
    "ExecuteTime": {
     "end_time": "2024-11-19T08:19:21.660439Z",
     "start_time": "2024-11-19T08:19:21.655845Z"
    }
   },
   "outputs": [
    {
     "name": "stdout",
     "output_type": "stream",
     "text": [
      "***** 홍길동 010-8888-8888\thong@abc.com\t31 abc\n",
      " **** 홍길순 010-1111-1111\thongsun@h.com\t56 제발 되라\n",
      "***** 뽀로로 010-555-5555\tㅇㅇ\t5 ㅇㅇ\n"
     ]
    }
   ],
   "source": [
    "# 2. 전체 출력\n",
    "def fn2_print_customers(customer_list):\n",
    "    for customer in customer_list:\n",
    "        print(customer)\n",
    "fn2_print_customers(customer_list)"
   ]
  },
  {
   "cell_type": "code",
   "execution_count": null,
   "id": "3d8abc4d",
   "metadata": {},
   "outputs": [],
   "source": [
    "# def fn2_print_customers(customer_list):\n",
    "#     'customer_list를 전체 출력(*** 홍길동 010-8999-9999 e@e.com 20 까칠해)'\n",
    "#     print('='*70)\n",
    "#     print(\"{:^70}\".format(\"고객 정보\"))\n",
    "#     print('-'*70)\n",
    "#     print(\"{:^5}\\t{:^3}\\t{:^10}{:^15}\\t{:^3}\\t{}\".format(\"GRADE\",\n",
    "#                     \"이름\", \"전화\", \"메일\", \"나이\", \"기타\"))\n",
    "#     print('-'*70)\n",
    "#     for customer in customer_list:\n",
    "#         print(customer)"
   ]
  },
  {
   "cell_type": "code",
   "execution_count": 229,
   "id": "9440685d",
   "metadata": {
    "ExecuteTime": {
     "end_time": "2024-11-19T07:38:40.724305Z",
     "start_time": "2024-11-19T07:38:40.719299Z"
    }
   },
   "outputs": [],
   "source": [
    "# 3. 삭제 (동명이인이 없음)\n",
    "def fn3_delete_customer(customer_list):\n",
    "    input_del = input('삭제할 고객 이름을 입력하세요 > ')\n",
    "    delete_flag = False\n",
    "    for customer in customer_list:\n",
    "        if customer.name == input_del:\n",
    "            customer_list.remove(customer)\n",
    "            delete_flag = True\n",
    "    if delete_flag:\n",
    "        print('{} 고객 정보가 성공적으로 삭제되었습니다'.format(input_del))\n",
    "    else:\n",
    "        print('해당하는 고객 정보가 없습니다')"
   ]
  },
  {
   "cell_type": "code",
   "execution_count": null,
   "id": "e75afe11",
   "metadata": {},
   "outputs": [],
   "source": [
    "# def fn3_delete_customer(customer_list):\n",
    "#     '''\n",
    "#     삭제하고자 하는 고객 이름을 받아 매개변수로 들어온 customer_list에서 삭제\n",
    "#     삭제여부를 출력하면 더 좋음\n",
    "#     '''\n",
    "#     name = input('삭제할 고객의 이름은?')\n",
    "#     delete_flag = False # 삭제했는지 여부 저장\n",
    "#     for idx, customer in enumerate(customer_list):\n",
    "#         if customer.name == name:\n",
    "#             customer_list.remove(customer)\n",
    "#             # del customer_list[idx]\n",
    "#             delete_flag = True\n",
    "#             break\n",
    "#     if delete_flag:\n",
    "#         print(name, '님을 삭제하였습니다')\n",
    "#     else:\n",
    "#         print(name, '님이 데이터에 존재하지 않습니다')"
   ]
  },
  {
   "cell_type": "code",
   "execution_count": 228,
   "id": "7df1622f",
   "metadata": {
    "ExecuteTime": {
     "end_time": "2024-11-19T07:37:20.359792Z",
     "start_time": "2024-11-19T07:37:16.980248Z"
    }
   },
   "outputs": [
    {
     "name": "stdout",
     "output_type": "stream",
     "text": [
      "삭제할 이름을 입력하세요 > 뽀로로\n",
      "뽀로로 고객 정보가 성공적으로 삭제되었습니다\n"
     ]
    }
   ],
   "source": [
    "# 위 함수 테스트\n",
    "fn3_delete_customer(customer_list)"
   ]
  },
  {
   "cell_type": "code",
   "execution_count": null,
   "id": "c42e9592",
   "metadata": {},
   "outputs": [],
   "source": [
    "# # 3. 삭제 (동명이인이 있다는 전제에서의 구현)\n",
    "# def fn3_delete_customer(customer_list):\n",
    "#     '''\n",
    "#     삭제하고자 하는 고객 이름을 받아 매개변수로 들어온 customer_list에서 삭제\n",
    "#     삭제여부를 출력하면 더 좋음\n",
    "#     '''\n",
    "#     name = input('삭제할 고객의 이름은?')\n",
    "#     delete_flag = False # 삭제했는지 여부 저장\n",
    "#     delete_idx = []\n",
    "#     for idx, customer in enumerate(customer_list):\n",
    "#         if customer.name == name:\n",
    "#             delete_flag = True\n",
    "#             delete_idx.append(idx)\n",
    "#             # 여기서 idx번째를 지우면 idx이후가 앞으로 밀려내려옴\n",
    "#     # 동명이인일 경우 끝idx부터 지워야 제대로 작동\n",
    "#     for i in range(len(delete_idx)-1, -1, -1):\n",
    "#         del customer_list[delete_idx[i]]\n",
    "#     if delete_flag:\n",
    "#         print(name, '님', len(delete_idx), '명을 삭제하였습니다')\n",
    "#     else:\n",
    "#         print(name, '님이 데이터에 존재하지 않습니다')"
   ]
  },
  {
   "cell_type": "code",
   "execution_count": null,
   "id": "38a751bf",
   "metadata": {},
   "outputs": [],
   "source": [
    "# 위 함수 테스트\n",
    "# fn3_delete_customer(customer_list)"
   ]
  },
  {
   "cell_type": "code",
   "execution_count": 230,
   "id": "6d3075c8",
   "metadata": {
    "ExecuteTime": {
     "end_time": "2024-11-19T07:43:22.326113Z",
     "start_time": "2024-11-19T07:43:22.320102Z"
    }
   },
   "outputs": [],
   "source": [
    "# 4. 이름찾기 (동명이인 없음)\n",
    "def fn4_search_customer(customer_list):\n",
    "    input_sch = input('검색할 고객 이름을 입력하세요 > ')\n",
    "    search_flag = False\n",
    "    for customer in customer_list:\n",
    "        if customer.name == input_sch:\n",
    "            print(customer)\n",
    "            search_flag = True\n",
    "    if search_flag:\n",
    "        print('{} 고객 정보가 성공적으로 조회되었습니다'.format(input_sch))\n",
    "    else:\n",
    "        print('해당하는 고객 정보가 없습니다')\n",
    "# (동명이인이 있음)"
   ]
  },
  {
   "cell_type": "code",
   "execution_count": null,
   "id": "4bfef237",
   "metadata": {},
   "outputs": [],
   "source": [
    "# def fn4_search_customer(customer_list):\n",
    "#     '찾고자 하는 고객이름을 받아 찾는 고객 정보를 출력'\n",
    "#     name = input('검색할 고객의 이름은?')\n",
    "#     search_result = []\n",
    "#     for customer in customer_list:\n",
    "#         if customer.name == name :\n",
    "#             search_result.append(customer)\n",
    "#     if len(search_result):\n",
    "#         print('='*70)\n",
    "#         print(\"{:^70}\".format(name+\"님 고객 정보\"))\n",
    "#         print('-'*70)\n",
    "#         print(\"{:^5}\\t{:^3}\\t{:^10}{:^15}\\t{:^3}\\t{}\".format(\"GRADE\",\n",
    "#                         \"이름\", \"전화\", \"메일\", \"나이\", \"기타\"))\n",
    "#         print('-'*70)\n",
    "#         for customer in search_result:\n",
    "#             print(customer)\n",
    "#     else:\n",
    "#         print('검색한 고객이 데이터에 존재하지 않습니다')"
   ]
  },
  {
   "cell_type": "code",
   "execution_count": 232,
   "id": "00946928",
   "metadata": {
    "ExecuteTime": {
     "end_time": "2024-11-19T07:44:06.636310Z",
     "start_time": "2024-11-19T07:44:03.727237Z"
    }
   },
   "outputs": [
    {
     "name": "stdout",
     "output_type": "stream",
     "text": [
      "검색할 고객 이름을 입력하세요 > 홍길순\n",
      " **** 홍길순 010-1111-1111\thongsun@h.com\t56 제발 되라\n",
      "홍길순 고객 정보가 성공적으로 조회되었습니다\n"
     ]
    }
   ],
   "source": [
    "# 위 함수 테스트\n",
    "fn4_search_customer(customer_list)"
   ]
  },
  {
   "cell_type": "markdown",
   "id": "e010e06b",
   "metadata": {},
   "source": [
    "## 5. 내보내기(CSV)"
   ]
  },
  {
   "cell_type": "code",
   "execution_count": null,
   "id": "b6a60d36",
   "metadata": {},
   "outputs": [],
   "source": [
    "# list(customer_list[0].__dict__.keys()) # csv 해더로 들어갈 예정"
   ]
  },
  {
   "cell_type": "code",
   "execution_count": 268,
   "id": "43c27eea",
   "metadata": {
    "ExecuteTime": {
     "end_time": "2024-11-19T08:18:25.638871Z",
     "start_time": "2024-11-19T08:18:25.627415Z"
    }
   },
   "outputs": [],
   "source": [
    "# 5. 내보내기(CSV)\n",
    "def fn5_save_customer_csv(customer_list):\n",
    "    import csv\n",
    "    customer_dic_list = []\n",
    "    for customer in customer_list:\n",
    "        customer_dic_list.append(customer.as_dic())\n",
    "    fieldnames = list(customer_dic_list[0].keys())\n",
    "    with open('data/ch09_customers.csv', 'w', encoding='UTF-8', newline='') as f:\n",
    "        dict_writer = csv.DictWriter(f, fieldnames=fieldnames)\n",
    "        dict_writer.writerows(customer_dic_list)"
   ]
  },
  {
   "cell_type": "code",
   "execution_count": null,
   "id": "ca31bd60",
   "metadata": {},
   "outputs": [],
   "source": [
    "# def fn5_save_customer_csv(customer_list):\n",
    "#     '저장할 csv파일명을 입력받아 data폴더 밑에 customer_list의 내용을 csv파일로 출력(저장)'\n",
    "#     import csv\n",
    "#     customer_dict_list = []\n",
    "#     for customer in customer_list:\n",
    "#         customer_dict_list.append(customer.as_dic())\n",
    "#     fieldnames = list(customer_list[0].__dict__.keys())\n",
    "#     filename = input('저장할 CSV 파일 이름은 ?')\n",
    "#     try :\n",
    "#         with open('data/'+filename, 'w', newline='', encoding='UTF-8') as f:\n",
    "#             dict_writer = csv.DictWriter(f, fieldnames=fieldnames)\n",
    "#             dict_writer.writeheader()\n",
    "#             dict_writer.writerows(customer_dict_list)\n",
    "#     except Exception as e:\n",
    "#         print('데이터 내보내기 예외 :', e)"
   ]
  },
  {
   "cell_type": "code",
   "execution_count": 273,
   "id": "0cefa846",
   "metadata": {
    "ExecuteTime": {
     "end_time": "2024-11-19T08:19:31.716074Z",
     "start_time": "2024-11-19T08:19:31.711108Z"
    }
   },
   "outputs": [],
   "source": [
    "# 위 함수 테스트\n",
    "fn5_save_customer_csv(customer_list)"
   ]
  },
  {
   "cell_type": "code",
   "execution_count": null,
   "id": "35afd73b",
   "metadata": {},
   "outputs": [],
   "source": [
    "# 9. 종료 (종료하기 전 customer_list를 txt파일에 저장하고 종료)\n",
    "def fn9_save_customer_txt(customer_list):\n",
    "    with open('data/ch09_customers.txt')"
   ]
  },
  {
   "cell_type": "code",
   "execution_count": null,
   "id": "b808d1e1",
   "metadata": {},
   "outputs": [],
   "source": [
    "# # 9. 종료 (종료하기 전 customer_list를 txt파일에 저장하고 종료)\n",
    "# def fn9_save_customer_txt(customer_list):\n",
    "#     'customer_list의 내용을 data/ch09_customers.txt에 저장'\n",
    "#     customer_text_list = []\n",
    "#     for customer in customer_list:\n",
    "#         customer_text_list.append(customer.to_list_style() + '\\n')\n",
    "#     with open('data/ch09_customers.txt', 'w', encoding='utf-8') as f:\n",
    "#         f.writelines(customer_text_list)"
   ]
  },
  {
   "cell_type": "code",
   "execution_count": 274,
   "id": "5ace9cf7",
   "metadata": {
    "ExecuteTime": {
     "end_time": "2024-11-19T08:42:09.267302Z",
     "start_time": "2024-11-19T08:42:09.249319Z"
    }
   },
   "outputs": [
    {
     "ename": "NameError",
     "evalue": "name 'fn9_save_customer_txt' is not defined",
     "output_type": "error",
     "traceback": [
      "\u001b[1;31m---------------------------------------------------------------------------\u001b[0m",
      "\u001b[1;31mNameError\u001b[0m                                 Traceback (most recent call last)",
      "Cell \u001b[1;32mIn[274], line 2\u001b[0m\n\u001b[0;32m      1\u001b[0m \u001b[38;5;66;03m# 위 함수 테스트\u001b[39;00m\n\u001b[1;32m----> 2\u001b[0m \u001b[43mfn9_save_customer_txt\u001b[49m(customer_list)\n",
      "\u001b[1;31mNameError\u001b[0m: name 'fn9_save_customer_txt' is not defined"
     ]
    }
   ],
   "source": [
    "# 위 함수 테스트\n",
    "# fn9_save_customer_txt(customer_list)"
   ]
  },
  {
   "cell_type": "code",
   "execution_count": 275,
   "id": "8b8be5bb",
   "metadata": {
    "ExecuteTime": {
     "end_time": "2024-11-19T08:42:58.466967Z",
     "start_time": "2024-11-19T08:42:46.479620Z"
    }
   },
   "outputs": [
    {
     "name": "stdout",
     "output_type": "stream",
     "text": [
      "1:입력 | 2:전체출력 | 3:삭제 | 4:이름찾기 | 5:내보내기(CSV) | 9:종료 메뉴선택 : 1\n"
     ]
    },
    {
     "ename": "KeyboardInterrupt",
     "evalue": "Interrupted by user",
     "output_type": "error",
     "traceback": [
      "\u001b[1;31m---------------------------------------------------------------------------\u001b[0m",
      "\u001b[1;31mKeyboardInterrupt\u001b[0m                         Traceback (most recent call last)",
      "Cell \u001b[1;32mIn[275], line 23\u001b[0m\n\u001b[0;32m     20\u001b[0m             \u001b[38;5;28;01mbreak\u001b[39;00m\n\u001b[0;32m     22\u001b[0m \u001b[38;5;28;01mif\u001b[39;00m \u001b[38;5;18m__name__\u001b[39m \u001b[38;5;241m==\u001b[39m \u001b[38;5;124m'\u001b[39m\u001b[38;5;124m__main__\u001b[39m\u001b[38;5;124m'\u001b[39m:\n\u001b[1;32m---> 23\u001b[0m     \u001b[43mmain\u001b[49m\u001b[43m(\u001b[49m\u001b[43m)\u001b[49m\n",
      "Cell \u001b[1;32mIn[275], line 8\u001b[0m, in \u001b[0;36mmain\u001b[1;34m()\u001b[0m\n\u001b[0;32m      6\u001b[0m fn \u001b[38;5;241m=\u001b[39m \u001b[38;5;28mint\u001b[39m(\u001b[38;5;28minput\u001b[39m(\u001b[38;5;124m'\u001b[39m\u001b[38;5;124m메뉴선택 : \u001b[39m\u001b[38;5;124m'\u001b[39m))\n\u001b[0;32m      7\u001b[0m \u001b[38;5;28;01mif\u001b[39;00m fn \u001b[38;5;241m==\u001b[39m \u001b[38;5;241m1\u001b[39m:\n\u001b[1;32m----> 8\u001b[0m     customer \u001b[38;5;241m=\u001b[39m \u001b[43mfn1_insert_customer_info\u001b[49m\u001b[43m(\u001b[49m\u001b[43m)\u001b[49m \u001b[38;5;66;03m# 입력받은 내용으로 customer객체를 반환\u001b[39;00m\n\u001b[0;32m      9\u001b[0m     customer_list\u001b[38;5;241m.\u001b[39mappend(customer)\n\u001b[0;32m     10\u001b[0m \u001b[38;5;28;01melif\u001b[39;00m fn \u001b[38;5;241m==\u001b[39m \u001b[38;5;241m2\u001b[39m:\n",
      "Cell \u001b[1;32mIn[215], line 3\u001b[0m, in \u001b[0;36mfn1_insert_customer_info\u001b[1;34m()\u001b[0m\n\u001b[0;32m      2\u001b[0m \u001b[38;5;28;01mdef\u001b[39;00m \u001b[38;5;21mfn1_insert_customer_info\u001b[39m():\n\u001b[1;32m----> 3\u001b[0m     name  \u001b[38;5;241m=\u001b[39m \u001b[38;5;28;43minput\u001b[39;49m\u001b[43m(\u001b[49m\u001b[38;5;124;43m'\u001b[39;49m\u001b[38;5;124;43m이름을 입력하세요 > \u001b[39;49m\u001b[38;5;124;43m'\u001b[39;49m\u001b[43m)\u001b[49m\n\u001b[0;32m      4\u001b[0m     phone \u001b[38;5;241m=\u001b[39m \u001b[38;5;28minput\u001b[39m(\u001b[38;5;124m'\u001b[39m\u001b[38;5;124m휴대폰 번호를 입력하세요 > \u001b[39m\u001b[38;5;124m'\u001b[39m)\n\u001b[0;32m      5\u001b[0m     email \u001b[38;5;241m=\u001b[39m \u001b[38;5;28minput\u001b[39m(\u001b[38;5;124m'\u001b[39m\u001b[38;5;124m이메일을 입력하세요 > \u001b[39m\u001b[38;5;124m'\u001b[39m)\n",
      "File \u001b[1;32m~\\anaconda3\\lib\\site-packages\\ipykernel\\kernelbase.py:1175\u001b[0m, in \u001b[0;36mKernel.raw_input\u001b[1;34m(self, prompt)\u001b[0m\n\u001b[0;32m   1171\u001b[0m \u001b[38;5;28;01mif\u001b[39;00m \u001b[38;5;129;01mnot\u001b[39;00m \u001b[38;5;28mself\u001b[39m\u001b[38;5;241m.\u001b[39m_allow_stdin:\n\u001b[0;32m   1172\u001b[0m     \u001b[38;5;28;01mraise\u001b[39;00m StdinNotImplementedError(\n\u001b[0;32m   1173\u001b[0m         \u001b[38;5;124m\"\u001b[39m\u001b[38;5;124mraw_input was called, but this frontend does not support input requests.\u001b[39m\u001b[38;5;124m\"\u001b[39m\n\u001b[0;32m   1174\u001b[0m     )\n\u001b[1;32m-> 1175\u001b[0m \u001b[38;5;28;01mreturn\u001b[39;00m \u001b[38;5;28;43mself\u001b[39;49m\u001b[38;5;241;43m.\u001b[39;49m\u001b[43m_input_request\u001b[49m\u001b[43m(\u001b[49m\n\u001b[0;32m   1176\u001b[0m \u001b[43m    \u001b[49m\u001b[38;5;28;43mstr\u001b[39;49m\u001b[43m(\u001b[49m\u001b[43mprompt\u001b[49m\u001b[43m)\u001b[49m\u001b[43m,\u001b[49m\n\u001b[0;32m   1177\u001b[0m \u001b[43m    \u001b[49m\u001b[38;5;28;43mself\u001b[39;49m\u001b[38;5;241;43m.\u001b[39;49m\u001b[43m_parent_ident\u001b[49m\u001b[43m[\u001b[49m\u001b[38;5;124;43m\"\u001b[39;49m\u001b[38;5;124;43mshell\u001b[39;49m\u001b[38;5;124;43m\"\u001b[39;49m\u001b[43m]\u001b[49m\u001b[43m,\u001b[49m\n\u001b[0;32m   1178\u001b[0m \u001b[43m    \u001b[49m\u001b[38;5;28;43mself\u001b[39;49m\u001b[38;5;241;43m.\u001b[39;49m\u001b[43mget_parent\u001b[49m\u001b[43m(\u001b[49m\u001b[38;5;124;43m\"\u001b[39;49m\u001b[38;5;124;43mshell\u001b[39;49m\u001b[38;5;124;43m\"\u001b[39;49m\u001b[43m)\u001b[49m\u001b[43m,\u001b[49m\n\u001b[0;32m   1179\u001b[0m \u001b[43m    \u001b[49m\u001b[43mpassword\u001b[49m\u001b[38;5;241;43m=\u001b[39;49m\u001b[38;5;28;43;01mFalse\u001b[39;49;00m\u001b[43m,\u001b[49m\n\u001b[0;32m   1180\u001b[0m \u001b[43m\u001b[49m\u001b[43m)\u001b[49m\n",
      "File \u001b[1;32m~\\anaconda3\\lib\\site-packages\\ipykernel\\kernelbase.py:1217\u001b[0m, in \u001b[0;36mKernel._input_request\u001b[1;34m(self, prompt, ident, parent, password)\u001b[0m\n\u001b[0;32m   1214\u001b[0m             \u001b[38;5;28;01mbreak\u001b[39;00m\n\u001b[0;32m   1215\u001b[0m \u001b[38;5;28;01mexcept\u001b[39;00m \u001b[38;5;167;01mKeyboardInterrupt\u001b[39;00m:\n\u001b[0;32m   1216\u001b[0m     \u001b[38;5;66;03m# re-raise KeyboardInterrupt, to truncate traceback\u001b[39;00m\n\u001b[1;32m-> 1217\u001b[0m     \u001b[38;5;28;01mraise\u001b[39;00m \u001b[38;5;167;01mKeyboardInterrupt\u001b[39;00m(\u001b[38;5;124m\"\u001b[39m\u001b[38;5;124mInterrupted by user\u001b[39m\u001b[38;5;124m\"\u001b[39m) \u001b[38;5;28;01mfrom\u001b[39;00m \u001b[38;5;28mNone\u001b[39m\n\u001b[0;32m   1218\u001b[0m \u001b[38;5;28;01mexcept\u001b[39;00m \u001b[38;5;167;01mException\u001b[39;00m:\n\u001b[0;32m   1219\u001b[0m     \u001b[38;5;28mself\u001b[39m\u001b[38;5;241m.\u001b[39mlog\u001b[38;5;241m.\u001b[39mwarning(\u001b[38;5;124m\"\u001b[39m\u001b[38;5;124mInvalid Message:\u001b[39m\u001b[38;5;124m\"\u001b[39m, exc_info\u001b[38;5;241m=\u001b[39m\u001b[38;5;28;01mTrue\u001b[39;00m)\n",
      "\u001b[1;31mKeyboardInterrupt\u001b[0m: Interrupted by user"
     ]
    }
   ],
   "source": [
    "def main():\n",
    "    global customer_list\n",
    "    customer_list = load_customers() # ch09_customers.txt의 내용을 load\n",
    "    while True:\n",
    "        print(\"1:입력\",\"2:전체출력\",\"3:삭제\",\"4:이름찾기\",\"5:내보내기(CSV)\", \"9:종료\", sep=' | ', end=' ')\n",
    "        fn = int(input('메뉴선택 : '))\n",
    "        if fn == 1:\n",
    "            customer = fn1_insert_customer_info() # 입력받은 내용으로 customer객체를 반환\n",
    "            customer_list.append(customer)\n",
    "        elif fn == 2:\n",
    "            fn2_print_customers(customer_list)\n",
    "        elif fn == 3:\n",
    "            fn3_delete_customer(customer_list)\n",
    "        elif fn == 4:\n",
    "            fn4_search_customer(customer_list)\n",
    "        elif fn == 5:\n",
    "            fn5_save_customer_csv(customer_list)\n",
    "        elif fn == 9:\n",
    "            fn9_save_customer_txt(customer_list)\n",
    "            break\n",
    "\n",
    "if __name__ == '__main__':\n",
    "    main()"
   ]
  },
  {
   "cell_type": "code",
   "execution_count": null,
   "id": "e543aa70",
   "metadata": {},
   "outputs": [],
   "source": []
  },
  {
   "cell_type": "code",
   "execution_count": null,
   "id": "1982277e",
   "metadata": {},
   "outputs": [],
   "source": []
  },
  {
   "cell_type": "code",
   "execution_count": null,
   "id": "16682ab4",
   "metadata": {},
   "outputs": [],
   "source": []
  }
 ],
 "metadata": {
  "kernelspec": {
   "display_name": "Python 3 (ipykernel)",
   "language": "python",
   "name": "python3"
  },
  "language_info": {
   "codemirror_mode": {
    "name": "ipython",
    "version": 3
   },
   "file_extension": ".py",
   "mimetype": "text/x-python",
   "name": "python",
   "nbconvert_exporter": "python",
   "pygments_lexer": "ipython3",
   "version": "3.10.9"
  },
  "toc": {
   "base_numbering": 1,
   "nav_menu": {},
   "number_sections": true,
   "sideBar": true,
   "skip_h1_title": false,
   "title_cell": "Table of Contents",
   "title_sidebar": "Contents",
   "toc_cell": false,
   "toc_position": {
    "height": "calc(100% - 180px)",
    "left": "10px",
    "top": "150px",
    "width": "361.667px"
   },
   "toc_section_display": true,
   "toc_window_display": true
  }
 },
 "nbformat": 4,
 "nbformat_minor": 5
}
