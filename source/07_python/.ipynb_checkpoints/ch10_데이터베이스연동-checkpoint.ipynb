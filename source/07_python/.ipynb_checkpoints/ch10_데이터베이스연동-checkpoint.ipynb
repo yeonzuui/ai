{
 "cells": [
  {
   "cell_type": "markdown",
   "id": "db3e7c37",
   "metadata": {
    "ExecuteTime": {
     "end_time": "2024-11-20T01:33:33.552831Z",
     "start_time": "2024-11-20T01:33:33.544851Z"
    }
   },
   "source": [
    "<b><font size=\"6\" color=\"red\">Ch10. DB연동</b></font>"
   ]
  },
  {
   "cell_type": "markdown",
   "id": "b1c3b15e",
   "metadata": {},
   "source": [
    "# 1절. SQLite 데이터베이스 연결\n",
    "- SQLite 데이터베이스는 별도의 DBMS없이 SQL을 이용하여 DB 액세스 할 수 있도록 만든 간단한 디스크 기반의 DB 제공\n",
    "- C 라이브러리\n",
    "- SQLite는 프로토타입을 만들 때 사용\n",
    "- 프로젝트 단계: 분석 → 설계 → 구현 → 테스트 → 고객에게 배포 → 유지보수\n",
    "-             프로토타입(SQLite)   시제품     완제품(Oracle, MySal, Maria, ...)\n",
    "- 마크다운 문법 ↓\n",
    "- [DB browser for SQLite](https://sqlitebrowser.org/dl/)\n",
    "## 1.1 SQLite browser 설치 및 sqlite3 패키지 load"
   ]
  },
  {
   "cell_type": "code",
   "execution_count": 2,
   "id": "b1ccd675",
   "metadata": {
    "ExecuteTime": {
     "end_time": "2024-11-21T01:41:13.198425Z",
     "start_time": "2024-11-21T01:41:13.189448Z"
    }
   },
   "outputs": [
    {
     "data": {
      "text/plain": [
       "'3.40.1'"
      ]
     },
     "execution_count": 2,
     "metadata": {},
     "output_type": "execute_result"
    }
   ],
   "source": [
    "# GPU 지원 여부: 버전 확인 중요\n",
    "import sqlite3\n",
    "sqlite3.sqlite_version # sqlite3 패키지의 버전"
   ]
  },
  {
   "cell_type": "code",
   "execution_count": 6,
   "id": "40048094",
   "metadata": {
    "ExecuteTime": {
     "end_time": "2024-11-20T02:01:40.110950Z",
     "start_time": "2024-11-20T02:01:40.104976Z"
    }
   },
   "outputs": [
    {
     "data": {
      "text/plain": [
       "'1.5.3'"
      ]
     },
     "execution_count": 6,
     "metadata": {},
     "output_type": "execute_result"
    }
   ],
   "source": [
    "import pandas as pd\n",
    "pd.__version__"
   ]
  },
  {
   "cell_type": "code",
   "execution_count": 7,
   "id": "3f08f733",
   "metadata": {
    "ExecuteTime": {
     "end_time": "2024-11-20T02:01:52.070914Z",
     "start_time": "2024-11-20T02:01:52.065927Z"
    }
   },
   "outputs": [
    {
     "data": {
      "text/plain": [
       "'1.23.5'"
      ]
     },
     "execution_count": 7,
     "metadata": {},
     "output_type": "execute_result"
    }
   ],
   "source": [
    "import numpy as np\n",
    "np.__version__"
   ]
  },
  {
   "cell_type": "markdown",
   "id": "2cc74d1a",
   "metadata": {},
   "source": [
    "## 1.2 데이터베이스 연결\n",
    "- SQLite로 DB 연결 시, DB파일이 있으면 연결, DB파일이 없으면 빈 DB파일 생성"
   ]
  },
  {
   "cell_type": "code",
   "execution_count": 39,
   "id": "91326c53",
   "metadata": {
    "ExecuteTime": {
     "end_time": "2024-11-20T03:42:56.594113Z",
     "start_time": "2024-11-20T03:42:56.588091Z"
    }
   },
   "outputs": [
    {
     "data": {
      "text/plain": [
       "<sqlite3.Connection at 0x18c48a6a240>"
      ]
     },
     "execution_count": 39,
     "metadata": {},
     "output_type": "execute_result"
    }
   ],
   "source": [
    "# DB 연결\n",
    "# 자바에서 conn = DriverManager.getConnection()\n",
    "conn = sqlite3.connect('data/ch10_example.db') # 폴더 없으면 예외 발생\n",
    "conn"
   ]
  },
  {
   "cell_type": "code",
   "execution_count": 40,
   "id": "1b2aa1a6",
   "metadata": {
    "ExecuteTime": {
     "end_time": "2024-11-20T03:42:58.817735Z",
     "start_time": "2024-11-20T03:42:58.811751Z"
    }
   },
   "outputs": [
    {
     "data": {
      "text/plain": [
       "<sqlite3.Cursor at 0x18c49a048c0>"
      ]
     },
     "execution_count": 40,
     "metadata": {},
     "output_type": "execute_result"
    }
   ],
   "source": [
    "# 커서 객체 생성, 커서는 SQL문 실행시키고, 결과데이터를 조회(select, 그외)하는 데 사용하는 객체\n",
    "# 자바에서 pstmt = conn.create~~\n",
    "cursor = conn.cursor()\n",
    "cursor"
   ]
  },
  {
   "cell_type": "code",
   "execution_count": 41,
   "id": "968077c0",
   "metadata": {
    "ExecuteTime": {
     "end_time": "2024-11-20T03:45:47.487058Z",
     "start_time": "2024-11-20T03:45:47.467717Z"
    }
   },
   "outputs": [
    {
     "ename": "OperationalError",
     "evalue": "table MEMBER already exists",
     "output_type": "error",
     "traceback": [
      "\u001b[1;31m---------------------------------------------------------------------------\u001b[0m",
      "\u001b[1;31mOperationalError\u001b[0m                          Traceback (most recent call last)",
      "Cell \u001b[1;32mIn[41], line 1\u001b[0m\n\u001b[1;32m----> 1\u001b[0m \u001b[43mcursor\u001b[49m\u001b[38;5;241;43m.\u001b[39;49m\u001b[43mexecute\u001b[49m\u001b[43m(\u001b[49m\u001b[38;5;124;43m'''\u001b[39;49m\n\u001b[0;32m      2\u001b[0m \u001b[38;5;124;43m    CREATE TABLE MEMBER (\u001b[39;49m\n\u001b[0;32m      3\u001b[0m \u001b[38;5;124;43m        NAME  TEXT, \u001b[39;49m\n\u001b[0;32m      4\u001b[0m \u001b[38;5;124;43m        AGE   INT,\u001b[39;49m\n\u001b[0;32m      5\u001b[0m \u001b[38;5;124;43m        EMAIL TEXT\u001b[39;49m\n\u001b[0;32m      6\u001b[0m \u001b[38;5;124;43m    )\u001b[39;49m\n\u001b[0;32m      7\u001b[0m \u001b[38;5;124;43m'''\u001b[39;49m\u001b[43m)\u001b[49m\n",
      "\u001b[1;31mOperationalError\u001b[0m: table MEMBER already exists"
     ]
    }
   ],
   "source": [
    "cursor.execute('''\n",
    "    CREATE TABLE MEMBER (\n",
    "        NAME  TEXT, \n",
    "        AGE   INT,\n",
    "        EMAIL TEXT\n",
    "    )\n",
    "''')"
   ]
  },
  {
   "cell_type": "code",
   "execution_count": 11,
   "id": "9efdd73d",
   "metadata": {
    "ExecuteTime": {
     "end_time": "2024-11-20T02:18:13.459350Z",
     "start_time": "2024-11-20T02:18:13.345685Z"
    }
   },
   "outputs": [
    {
     "data": {
      "text/plain": [
       "<sqlite3.Cursor at 0x18c48b292c0>"
      ]
     },
     "execution_count": 11,
     "metadata": {},
     "output_type": "execute_result"
    }
   ],
   "source": [
    "cursor.execute('DROP TABLE MEMBER')"
   ]
  },
  {
   "cell_type": "code",
   "execution_count": 12,
   "id": "b6e014eb",
   "metadata": {
    "ExecuteTime": {
     "end_time": "2024-11-20T02:19:09.163521Z",
     "start_time": "2024-11-20T02:19:09.042279Z"
    }
   },
   "outputs": [
    {
     "data": {
      "text/plain": [
       "<sqlite3.Cursor at 0x18c48b292c0>"
      ]
     },
     "execution_count": 12,
     "metadata": {},
     "output_type": "execute_result"
    }
   ],
   "source": [
    "cursor.execute('''\n",
    "    CREATE TABLE MEMBER (\n",
    "        NAME  TEXT, \n",
    "        AGE   INT,\n",
    "        EMAIL TEXT\n",
    "    )\n",
    "''')"
   ]
  },
  {
   "cell_type": "code",
   "execution_count": 14,
   "id": "7e79f761",
   "metadata": {
    "ExecuteTime": {
     "end_time": "2024-11-20T02:38:38.156312Z",
     "start_time": "2024-11-20T02:38:38.147292Z"
    }
   },
   "outputs": [
    {
     "name": "stdout",
     "output_type": "stream",
     "text": [
      "수행 결과 행수:  1\n",
      "수행 결과 횟수:  1\n",
      "수행 결과 행수:  1\n"
     ]
    }
   ],
   "source": [
    "cursor.execute('INSERT INTO MEMBER VALUES (\\'홍길동\\', 20, \\'h@h.com\\')')\n",
    "print('수행 결과 행수: ', cursor.rowcount)\n",
    "sql = \"INSERT INTO MEMBER VALUES ('신길동', 25, 's@s.com')\"\n",
    "cursor.execute(sql)\n",
    "print('수행 결과 횟수: ', cursor.rowcount)\n",
    "cursor.execute('INSERT INTO MEMBER VALUES (\\'신림동\\', 30, \\'l@h.com\\')')\n",
    "print('수행 결과 행수: ', cursor.rowcount)"
   ]
  },
  {
   "cell_type": "code",
   "execution_count": 15,
   "id": "c424242c",
   "metadata": {
    "ExecuteTime": {
     "end_time": "2024-11-20T02:39:42.578948Z",
     "start_time": "2024-11-20T02:39:42.490887Z"
    }
   },
   "outputs": [],
   "source": [
    "conn.commit() # 反. conn.rollback() DML문에서만 commit"
   ]
  },
  {
   "cell_type": "code",
   "execution_count": 16,
   "id": "fbc4f5cd",
   "metadata": {
    "ExecuteTime": {
     "end_time": "2024-11-20T02:51:32.801944Z",
     "start_time": "2024-11-20T02:51:32.793937Z"
    }
   },
   "outputs": [
    {
     "data": {
      "text/plain": [
       "<sqlite3.Cursor at 0x18c48b292c0>"
      ]
     },
     "execution_count": 16,
     "metadata": {},
     "output_type": "execute_result"
    }
   ],
   "source": [
    "# SQL전송 결과는 cursor가 가리킴\n",
    "cursor.execute(\"SELECT * FROM MEMBER ORDER BY NAME\")"
   ]
  },
  {
   "cell_type": "code",
   "execution_count": 17,
   "id": "81c982ea",
   "metadata": {
    "ExecuteTime": {
     "end_time": "2024-11-20T02:56:41.216064Z",
     "start_time": "2024-11-20T02:56:41.211775Z"
    }
   },
   "outputs": [
    {
     "name": "stdout",
     "output_type": "stream",
     "text": [
      "[('신길동', 25, 's@s.com'), ('신림동', 30, 'l@h.com'), ('홍길동', 20, 'h@h.com')]\n"
     ]
    }
   ],
   "source": [
    "# insert, update, delete문 실행결과: cursor.rowcount\n",
    "# select문 실행 결과를 받는 함수들\n",
    "    ## fetchone()  : 결과를 한 행씩 받을 때 (튜플)\n",
    "    ## fetchall()  : 결과를 모두 받을 때 (튜플 list)\n",
    "    ## fetchmany(n): 결과를 n행 받을 때 (튜플 list)\n",
    "print(cursor.fetchall())"
   ]
  },
  {
   "cell_type": "code",
   "execution_count": 18,
   "id": "db610a37",
   "metadata": {
    "ExecuteTime": {
     "end_time": "2024-11-20T02:57:06.306136Z",
     "start_time": "2024-11-20T02:57:06.300148Z"
    }
   },
   "outputs": [
    {
     "name": "stdout",
     "output_type": "stream",
     "text": [
      "[]\n"
     ]
    }
   ],
   "source": [
    "print(cursor.fetchall()) # 한 번 소요된 cursor 객체는 다시 fetch할 수 없음 # 자바의 rs.next()와 유사"
   ]
  },
  {
   "cell_type": "code",
   "execution_count": 19,
   "id": "04604a7c",
   "metadata": {
    "ExecuteTime": {
     "end_time": "2024-11-20T02:58:55.082562Z",
     "start_time": "2024-11-20T02:58:55.075574Z"
    }
   },
   "outputs": [
    {
     "data": {
      "text/plain": [
       "[('홍길동', 20, 'h@h.com'), ('신길동', 25, 's@s.com'), ('신림동', 30, 'l@h.com')]"
      ]
     },
     "execution_count": 19,
     "metadata": {},
     "output_type": "execute_result"
    }
   ],
   "source": [
    "cursor.execute(\"SELECT NAME, AGE, EMAIL FROM MEMBER ORDER BY AGE\")\n",
    "members = cursor.fetchall()\n",
    "members # 튜플 list"
   ]
  },
  {
   "cell_type": "code",
   "execution_count": 21,
   "id": "c8a21725",
   "metadata": {
    "ExecuteTime": {
     "end_time": "2024-11-20T02:59:24.087353Z",
     "start_time": "2024-11-20T02:59:24.082366Z"
    }
   },
   "outputs": [
    {
     "name": "stdout",
     "output_type": "stream",
     "text": [
      "('홍길동', 20, 'h@h.com')\n",
      "('신길동', 25, 's@s.com')\n",
      "('신림동', 30, 'l@h.com')\n"
     ]
    }
   ],
   "source": [
    "for member in members:\n",
    "    print(member)"
   ]
  },
  {
   "cell_type": "code",
   "execution_count": 23,
   "id": "866edf57",
   "metadata": {
    "ExecuteTime": {
     "end_time": "2024-11-20T03:04:29.848690Z",
     "start_time": "2024-11-20T03:04:29.842415Z"
    }
   },
   "outputs": [],
   "source": [
    "# 한 줄씩 읽기\n",
    "cursor.execute(\"SELECT NAME, AGE, EMAIL FROM MEMBER ORDER BY AGE\")\n",
    "member_list = []\n",
    "while True:\n",
    "    member = cursor.fetchone() # SQL문 수행 결과 한 줄 가져오기 # 자바의 rs.next()와 유사\n",
    "    if member is None:\n",
    "        break\n",
    "    # print(member)\n",
    "    member_list.append({'name':member[0], 'age':member[1], 'email':member[2]})"
   ]
  },
  {
   "cell_type": "code",
   "execution_count": 24,
   "id": "05ca6893",
   "metadata": {
    "ExecuteTime": {
     "end_time": "2024-11-20T03:04:36.032404Z",
     "start_time": "2024-11-20T03:04:36.027408Z"
    }
   },
   "outputs": [
    {
     "data": {
      "text/plain": [
       "[{'name': '홍길동', 'age': 20, 'email': 'h@h.com'},\n",
       " {'name': '신길동', 'age': 25, 'email': 's@s.com'},\n",
       " {'name': '신림동', 'age': 30, 'email': 'l@h.com'}]"
      ]
     },
     "execution_count": 24,
     "metadata": {},
     "output_type": "execute_result"
    }
   ],
   "source": [
    "member_list"
   ]
  },
  {
   "cell_type": "code",
   "execution_count": 26,
   "id": "9dca78cf",
   "metadata": {
    "ExecuteTime": {
     "end_time": "2024-11-20T03:06:34.617046Z",
     "start_time": "2024-11-20T03:06:34.611062Z"
    }
   },
   "outputs": [
    {
     "name": "stdout",
     "output_type": "stream",
     "text": [
      "('홍길동', 20, 'h@h.com')\n",
      "('신길동', 25, 's@s.com')\n",
      "('신림동', 30, 'l@h.com')\n"
     ]
    }
   ],
   "source": [
    "# 최상위 n행 읽기\n",
    "cursor.execute(\"SELECT NAME, AGE, EMAIL FROM MEMBER ORDER BY AGE\")\n",
    "for member in cursor.fetchmany(10): # n이 SQL결과보다 많아도 오류 X\n",
    "    print(member)"
   ]
  },
  {
   "cell_type": "code",
   "execution_count": 28,
   "id": "1c2414b6",
   "metadata": {
    "ExecuteTime": {
     "end_time": "2024-11-20T03:19:42.402048Z",
     "start_time": "2024-11-20T03:19:42.395066Z"
    }
   },
   "outputs": [],
   "source": [
    "# 결과 한 줄당 객체로 받기\n",
    "class Member:\n",
    "    'Member 테이블의 내용을 받을 객체 타입'\n",
    "    def __init__(self, name, age, email):\n",
    "        self.name  = name\n",
    "        self.age   = age\n",
    "        self.email = email\n",
    "    def as_dic(self): # insert문 전송 시 필요\n",
    "        return {'name' :self.name,\n",
    "                'age'  :self.age,\n",
    "                'email':self.email}\n",
    "    def __str__(self):\n",
    "        return \"{}\\t{}\\t{}\".format(self.name, self.age, self.email)\n",
    "def to_member(*row): # 튜플 데이터를 매개변수로 받아 Member형 객체로 return\n",
    "    return Member(row[0], row[1], row[2])"
   ]
  },
  {
   "cell_type": "code",
   "execution_count": 30,
   "id": "c3d0a573",
   "metadata": {
    "ExecuteTime": {
     "end_time": "2024-11-20T03:21:24.472096Z",
     "start_time": "2024-11-20T03:21:24.467088Z"
    }
   },
   "outputs": [
    {
     "name": "stdout",
     "output_type": "stream",
     "text": [
      "홍길동\t20\th@h.com\n",
      "{'name': '홍길동', 'age': 20, 'email': 'h@h.com'}\n"
     ]
    }
   ],
   "source": [
    "dbreadmember = ('홍길동', 20, 'h@h.com')\n",
    "m = to_member(*dbreadmember) # 튜플 언패킹\n",
    "print(m)\n",
    "print(m.as_dic())"
   ]
  },
  {
   "cell_type": "code",
   "execution_count": 33,
   "id": "9c703be9",
   "metadata": {
    "ExecuteTime": {
     "end_time": "2024-11-20T03:36:20.250532Z",
     "start_time": "2024-11-20T03:36:20.234910Z"
    }
   },
   "outputs": [],
   "source": [
    "# DB 검색 결과를 객체 list로\n",
    "cursor.execute('SELECT NAME, AGE, EMAIL FROM MEMBER')\n",
    "member_list = [] # SQL문 수행 결과를 담을 객체 list\n",
    "members = cursor.fetchall() # 튜플 list\n",
    "# print(members)\n",
    "for member in members:\n",
    "    member_list.append(to_member(*member))"
   ]
  },
  {
   "cell_type": "code",
   "execution_count": 35,
   "id": "d6c90217",
   "metadata": {
    "ExecuteTime": {
     "end_time": "2024-11-20T03:36:38.651083Z",
     "start_time": "2024-11-20T03:36:38.644122Z"
    }
   },
   "outputs": [
    {
     "data": {
      "text/plain": [
       "(tuple, __main__.Member)"
      ]
     },
     "execution_count": 35,
     "metadata": {},
     "output_type": "execute_result"
    }
   ],
   "source": [
    "type(members[0]), type(member_list[0])"
   ]
  },
  {
   "cell_type": "code",
   "execution_count": 36,
   "id": "0f6e389d",
   "metadata": {
    "ExecuteTime": {
     "end_time": "2024-11-20T03:36:52.520210Z",
     "start_time": "2024-11-20T03:36:52.515032Z"
    }
   },
   "outputs": [
    {
     "name": "stdout",
     "output_type": "stream",
     "text": [
      "홍길동\t20\th@h.com\n",
      "신길동\t25\ts@s.com\n",
      "신림동\t30\tl@h.com\n"
     ]
    }
   ],
   "source": [
    "for member in member_list:\n",
    "    print(member)"
   ]
  },
  {
   "cell_type": "code",
   "execution_count": 54,
   "id": "bbcc3e1a",
   "metadata": {
    "ExecuteTime": {
     "end_time": "2024-11-20T04:11:08.506179Z",
     "start_time": "2024-11-20T04:11:08.501396Z"
    }
   },
   "outputs": [],
   "source": [
    "cursor.close() # cursor.close()는 생략 가능\n",
    "conn.close()   # 필수, cursor까지 자동 close"
   ]
  },
  {
   "cell_type": "markdown",
   "id": "03a08e0f",
   "metadata": {},
   "source": [
    "## 1.3 SQL구문에 파라미터 사용하기\n",
    "- qmark(DB에 따라 불가한 경우가 있음)\n",
    "- named(추천)"
   ]
  },
  {
   "cell_type": "code",
   "execution_count": 42,
   "id": "4b3d84e9",
   "metadata": {
    "ExecuteTime": {
     "end_time": "2024-11-20T03:46:57.842417Z",
     "start_time": "2024-11-20T03:46:57.835416Z"
    }
   },
   "outputs": [
    {
     "data": {
      "text/plain": [
       "[('홍길동', 20, 'h@h.com'), ('신길동', 25, 's@s.com')]"
      ]
     },
     "execution_count": 42,
     "metadata": {},
     "output_type": "execute_result"
    }
   ],
   "source": [
    "conn = sqlite3.connect('data/ch10_example.db')\n",
    "cursor = conn.cursor()\n",
    "cursor.execute(\"SELECT * FROM MEMBER WHERE NAME IN ('홍길동', '신길동')\")\n",
    "cursor.fetchall()"
   ]
  },
  {
   "cell_type": "code",
   "execution_count": 45,
   "id": "850583a8",
   "metadata": {
    "ExecuteTime": {
     "end_time": "2024-11-20T03:53:36.768218Z",
     "start_time": "2024-11-20T03:53:31.003728Z"
    }
   },
   "outputs": [
    {
     "name": "stdout",
     "output_type": "stream",
     "text": [
      "검색할 이름 1: 홍길동\n",
      "검색할 이름 2: 신길동\n"
     ]
    },
    {
     "data": {
      "text/plain": [
       "[('홍길동', 20, 'h@h.com'), ('신길동', 25, 's@s.com')]"
      ]
     },
     "execution_count": 45,
     "metadata": {},
     "output_type": "execute_result"
    }
   ],
   "source": [
    "# 파라미터 사용하기: qmark 방법 이용(1)\n",
    "name1 = input('검색할 이름 1: ')\n",
    "name2 = input('검색할 이름 2: ')\n",
    "cursor.execute(\"SELECT * FROM MEMBER WHERE NAME IN (?,?)\", (name1, name2)) # 튜플\n",
    "cursor.fetchall()"
   ]
  },
  {
   "cell_type": "code",
   "execution_count": 46,
   "id": "f0d35db1",
   "metadata": {
    "ExecuteTime": {
     "end_time": "2024-11-20T03:55:46.943588Z",
     "start_time": "2024-11-20T03:55:33.772359Z"
    }
   },
   "outputs": [
    {
     "name": "stdout",
     "output_type": "stream",
     "text": [
      "검색할 이름 1: 홍길동\n",
      "검색할 이름 2: 신길동\n"
     ]
    },
    {
     "data": {
      "text/plain": [
       "[('홍길동', 20, 'h@h.com'), ('신길동', 25, 's@s.com')]"
      ]
     },
     "execution_count": 46,
     "metadata": {},
     "output_type": "execute_result"
    }
   ],
   "source": [
    "# 파라미터 사용하기: qmark 방법 이용(2)\n",
    "name1 = input('검색할 이름 1: ')\n",
    "name2 = input('검색할 이름 2: ')\n",
    "names = [name1, name2]\n",
    "cursor.execute(\"SELECT * FROM MEMBER WHERE NAME IN (?,?)\", names) # 리스트\n",
    "cursor.fetchall()"
   ]
  },
  {
   "cell_type": "code",
   "execution_count": 51,
   "id": "9f4ce979",
   "metadata": {
    "ExecuteTime": {
     "end_time": "2024-11-20T04:01:37.222924Z",
     "start_time": "2024-11-20T04:01:32.419721Z"
    }
   },
   "outputs": [
    {
     "name": "stdout",
     "output_type": "stream",
     "text": [
      "검색할 이름은 > 하하하\n",
      "해당 이름의 데이터가 없습니다 []\n"
     ]
    }
   ],
   "source": [
    "# 파라미터 사용하기: named 방법 이용(1)\n",
    "name = input('검색할 이름은 > ')\n",
    "cursor.execute(\"SELECT * FROM MEMBER WHERE NAME =:name\", {'name':name}) # 딕셔너리\n",
    "members = cursor.fetchall()\n",
    "if len(members):\n",
    "    print(members)\n",
    "else:\n",
    "    print('해당 이름의 데이터가 없습니다', members)"
   ]
  },
  {
   "cell_type": "code",
   "execution_count": 53,
   "id": "bcc82e76",
   "metadata": {
    "ExecuteTime": {
     "end_time": "2024-11-20T04:04:13.858421Z",
     "start_time": "2024-11-20T04:04:07.852731Z"
    }
   },
   "outputs": [
    {
     "name": "stdout",
     "output_type": "stream",
     "text": [
      "검색할 이름 1: 홍홍홍\n",
      "검색할 이름 2: 홍길동\n"
     ]
    },
    {
     "data": {
      "text/plain": [
       "[('홍길동', 20, 'h@h.com')]"
      ]
     },
     "execution_count": 53,
     "metadata": {},
     "output_type": "execute_result"
    }
   ],
   "source": [
    "# 파라미터 사용하기: named 방법 이용(2)\n",
    "name1 = input('검색할 이름 1: ')\n",
    "name2 = input('검색할 이름 2: ')\n",
    "names = {'name1':name1, 'name2':name2}\n",
    "# cursor.execute(\"SELECT * FROM MEMBER WHERE NAME IN (:name1, :name2)\", {'name1':name1,\n",
    "#                                                                        'name2':name2})\n",
    "cursor.execute(\"SELECT * FROM MEMBER WHERE NAME IN (:name1, :name2)\", names)\n",
    "cursor.fetchall()"
   ]
  },
  {
   "cell_type": "markdown",
   "id": "e83b2e0a",
   "metadata": {},
   "source": [
    "점심먹고 컴퓨터 켬"
   ]
  },
  {
   "cell_type": "code",
   "execution_count": 59,
   "id": "5c3fb3e4",
   "metadata": {
    "ExecuteTime": {
     "end_time": "2024-11-20T05:22:43.908531Z",
     "start_time": "2024-11-20T05:22:43.903545Z"
    }
   },
   "outputs": [],
   "source": [
    "# MEMBER 테이블에 입력(사용자로부터 이름, 나이, 메일을 입력받아 insert)\n",
    "import sqlite3\n",
    "conn = sqlite3.connect('data/ch10_example.db')\n",
    "cursor = conn.cursor()"
   ]
  },
  {
   "cell_type": "code",
   "execution_count": 60,
   "id": "b439e54d",
   "metadata": {
    "ExecuteTime": {
     "end_time": "2024-11-20T05:22:46.707809Z",
     "start_time": "2024-11-20T05:22:46.701823Z"
    }
   },
   "outputs": [],
   "source": [
    "class Member:\n",
    "    'Member 테이블의 내용을 받을 객체 타입'\n",
    "    def __init__(self, name, age, email):\n",
    "        self.name  = name\n",
    "        self.age   = age\n",
    "        self.email = email\n",
    "    def as_dic(self): # insert문 전송 시 필요\n",
    "        return {'name' :self.name,\n",
    "                'age'  :self.age,\n",
    "                'email':self.email}\n",
    "    def __str__(self):\n",
    "        return \"{}\\t{}\\t{}\".format(self.name, self.age, self.email)\n",
    "def to_member(*row): # 튜플 데이터를 매개변수로 받아 Member형 객체로 return\n",
    "    return Member(row[0], row[1], row[2])"
   ]
  },
  {
   "cell_type": "code",
   "execution_count": 65,
   "id": "841729c3",
   "metadata": {
    "ExecuteTime": {
     "end_time": "2024-11-20T05:31:07.901290Z",
     "start_time": "2024-11-20T05:30:57.269981Z"
    }
   },
   "outputs": [
    {
     "name": "stdout",
     "output_type": "stream",
     "text": [
      "입력할 이름은: 임길동\n",
      "입력할 나이는: 33\n",
      "입력할 메일은: l@l.com\n",
      "저장완료\n"
     ]
    }
   ],
   "source": [
    "# MEMBER 테이블에 입력(사용자로부터 이름, 나이, 메일을 입력받아 insert)\n",
    "try:\n",
    "    name  = input('입력할 이름은: ')\n",
    "    age   = int(input('입력할 나이는: '))\n",
    "except ValueError:\n",
    "    print('유효하지 않은 나이를 입력하신 경우 18세로 초기화')\n",
    "    age = 18\n",
    "finally:\n",
    "    email = input('입력할 메일은: ')\n",
    "inputdata = {'name':name, 'age':age, 'email':email} # named 방식\n",
    "inputdata2 = (name, age, email) # qmark 방식\n",
    "cursor.execute('INSERT INTO MEMBER VALUES (?,?,?)', inputdata2)\n",
    "cursor.execute('INSERT INTO MEMBER VALUES (:name, :age, :email)', inputdata)\n",
    "conn.commit()\n",
    "if cursor.rowcount == 1:\n",
    "     print('저장완료')"
   ]
  },
  {
   "cell_type": "code",
   "execution_count": 67,
   "id": "92d7a496",
   "metadata": {
    "ExecuteTime": {
     "end_time": "2024-11-20T05:35:21.000409Z",
     "start_time": "2024-11-20T05:35:10.334859Z"
    }
   },
   "outputs": [
    {
     "name": "stdout",
     "output_type": "stream",
     "text": [
      "입력할 이름은: 김수한\n",
      "입력할 나이는: 12\n",
      "입력할 메일은: k@a.com\n",
      "{'name': '김수한', 'age': 12, 'email': 'k@a.com'}\n",
      "저장완료\n"
     ]
    }
   ],
   "source": [
    "try:\n",
    "    name  = input('입력할 이름은: ')\n",
    "    age   = int(input('입력할 나이는: '))\n",
    "except ValueError:\n",
    "    print('유효하지 않은 나이를 입력하신 경우 18세로 초기화')\n",
    "    age = 18\n",
    "finally:\n",
    "    email = input('입력할 메일은: ')\n",
    "newMember = Member(name, age, email)\n",
    "print(newMember.as_dic())\n",
    "cursor.execute('INSERT INTO MEMBER VALUES (:name, :age, :email)', newMember.as_dic())\n",
    "conn.commit()\n",
    "if cursor.rowcount == 1:\n",
    "     print('저장완료')"
   ]
  },
  {
   "cell_type": "code",
   "execution_count": 85,
   "id": "98c20121",
   "metadata": {
    "ExecuteTime": {
     "end_time": "2024-11-20T06:05:09.483516Z",
     "start_time": "2024-11-20T06:04:53.975708Z"
    }
   },
   "outputs": [
    {
     "name": "stdout",
     "output_type": "stream",
     "text": [
      "입력할 이름은(종료는 0): 간간간\n",
      "입력할 나이는: 10\n",
      "입력할 메일은: ka\n",
      "입력할 이름은(종료는 0): 난난난\n",
      "입력할 나이는: 20\n",
      "입력할 메일은: na\n",
      "입력할 이름은(종료는 0): 0\n",
      "입력된 데이터는 2명입니다\n",
      "간간간\t10\tka\n",
      "난난난\t20\tna\n"
     ]
    }
   ],
   "source": [
    "# member 테이블에 데이터를 n번 입력하고 \n",
    "# 이름에 0을 입력할 때까지 이름, 나이, 메일을 받아 insert\n",
    "# 이름에 0을 입력하면 이때까지 입력한 데이터들을 출력하고 몇 명을 입력했는지도 출력\n",
    "member_list = [] # 입력한 member들이 저장될 list변수(딕셔너리 리스트)\n",
    "while True:\n",
    "    try:\n",
    "        name  = input('입력할 이름은(종료는 0): ')\n",
    "        if name=='0':\n",
    "            break\n",
    "        age   = int(input('입력할 나이는: '))\n",
    "        email = input('입력할 메일은: ')\n",
    "    except ValueError:\n",
    "        print('유효하지 않은 나이를 입력하신 경우 18세로 초기화')\n",
    "        age = 18\n",
    "        email = input('입력할 메일은: ')\n",
    "    newMember = {'name':name, 'age':age, 'email':email}\n",
    "    member_list.append(newMember)\n",
    "    cursor.execute('INSERT INTO MEMBER VALUES (:name, :age, :email)', newMember)\n",
    "conn.commit()\n",
    "print('입력된 데이터는 ', len(member_list), '명입니다', sep='')\n",
    "for member in member_list:\n",
    "    print(\"{}\\t{}\\t{}\".format(member['name'], member['age'], member['email']))"
   ]
  },
  {
   "cell_type": "code",
   "execution_count": 89,
   "id": "c469de88",
   "metadata": {
    "ExecuteTime": {
     "end_time": "2024-11-20T06:22:50.719617Z",
     "start_time": "2024-11-20T06:22:14.935065Z"
    }
   },
   "outputs": [
    {
     "name": "stdout",
     "output_type": "stream",
     "text": [
      "입력할 이름은(종료는 0): 이르음\n",
      "입력할 나이는: 33\n",
      "입력할 메일은: k@l.com\n",
      "입력할 이름은(종료는 0): 핸드폰\n",
      "입력할 나이는: 22\n",
      "입력할 메일은: h@h.com\n",
      "입력할 이름은(종료는 0): 0\n",
      "입력된 자료는 다음과 같이 2명입니다\n",
      "이름\t나이\t메일\n",
      "이르음\t33\tk@l.com\n",
      "핸드폰\t22\th@h.com\n"
     ]
    }
   ],
   "source": [
    "member_list = [] # 입력한 member들이 저장될 list변수(객체 리스트)\n",
    "while True:\n",
    "    try:\n",
    "        name  = input('입력할 이름은(종료는 0): ')\n",
    "        if name=='0':\n",
    "            break\n",
    "        age   = int(input('입력할 나이는: '))\n",
    "        email = input('입력할 메일은: ')\n",
    "    except ValueError:\n",
    "        print('유효하지 않은 나이를 입력하신 경우 18세로 초기화')\n",
    "        age = 18\n",
    "        email = input('입력할 메일은: ')\n",
    "    newMember = Member(name, age, email)\n",
    "    member_list.append(newMember)\n",
    "    cursor.execute('INSERT INTO MEMBER VALUES (:name, :age, :email)', newMember.as_dic())\n",
    "conn.commit()\n",
    "print('입력된 자료는 다음과 같이 {}명입니다'.format(len(member_list)))\n",
    "print('이름\\t나이\\t메일')\n",
    "for member in member_list:\n",
    "    print(member)"
   ]
  },
  {
   "cell_type": "code",
   "execution_count": 90,
   "id": "de05977f",
   "metadata": {
    "ExecuteTime": {
     "end_time": "2024-11-20T06:24:17.400453Z",
     "start_time": "2024-11-20T06:24:17.391002Z"
    }
   },
   "outputs": [
    {
     "data": {
      "text/plain": [
       "[('홍길동', 20, 'h@h.com'),\n",
       " ('신길동', 25, 's@s.com'),\n",
       " ('신림동', 30, 'l@h.com'),\n",
       " ('홍낄뚱', 18, 'h@h.com'),\n",
       " ('김세동', 33, 'k@k.com'),\n",
       " ('김세동', 33, 'k@k.com'),\n",
       " ('임길동', 33, 'l@l.com'),\n",
       " ('임길동', 33, 'l@l.com'),\n",
       " ('김수한', 12, 'k@a.com'),\n",
       " ('김수한', 12, 'k@a.com'),\n",
       " ('김수한', 12, 'k@a.com'),\n",
       " ('김수한', 12, 'k@a.com'),\n",
       " ('0', 0, 'dd'),\n",
       " ('0', 0, 'dd'),\n",
       " ('0', 0, 'dd'),\n",
       " ('0', 0, 'dd'),\n",
       " ('0', 0, '0'),\n",
       " ('가가가', 10, 'ka'),\n",
       " ('나나나', 20, 'na'),\n",
       " ('간간간', 10, 'na'),\n",
       " ('ka', 18, '20'),\n",
       " ('간간간', 10, 'ka'),\n",
       " ('간간간', 10, 'ka'),\n",
       " ('난난난', 20, 'na'),\n",
       " ('홍', 2, 'h@h'),\n",
       " ('이르음', 33, 'k@l.com'),\n",
       " ('핸드폰', 22, 'h@h.com')]"
      ]
     },
     "execution_count": 90,
     "metadata": {},
     "output_type": "execute_result"
    }
   ],
   "source": [
    "# 입력확인은 DB browser나 python으로\n",
    "cursor.execute('SELECT * FROM MEMBER')\n",
    "cursor.fetchall()"
   ]
  },
  {
   "cell_type": "markdown",
   "id": "cf433eb2",
   "metadata": {},
   "source": [
    "# 2절. 오라클 데이터베이스 연결\n",
    "[cx_Oracle](https://cx-oracle.readthedocs.io/en/latest/) 사용"
   ]
  },
  {
   "cell_type": "code",
   "execution_count": 92,
   "id": "cf8583eb",
   "metadata": {
    "ExecuteTime": {
     "end_time": "2024-11-20T06:33:43.994496Z",
     "start_time": "2024-11-20T06:33:43.983504Z"
    }
   },
   "outputs": [],
   "source": [
    "import cx_Oracle"
   ]
  },
  {
   "cell_type": "code",
   "execution_count": 94,
   "id": "c30edff7",
   "metadata": {
    "ExecuteTime": {
     "end_time": "2024-11-20T06:40:14.588200Z",
     "start_time": "2024-11-20T06:40:14.064163Z"
    }
   },
   "outputs": [
    {
     "name": "stdout",
     "output_type": "stream",
     "text": [
      "(DESCRIPTION=(ADDRESS=(PROTOCOL=TCP)(HOST=localhost)(PORT=1521))(CONNECT_DATA=(SID=xe)))\n"
     ]
    },
    {
     "data": {
      "text/plain": [
       "<cx_Oracle.Connection to scott@(DESCRIPTION=(ADDRESS=(PROTOCOL=TCP)(HOST=localhost)(PORT=1521))(CONNECT_DATA=(SID=xe)))>"
      ]
     },
     "execution_count": 94,
     "metadata": {},
     "output_type": "execute_result"
    }
   ],
   "source": [
    "# conn 얻어오는 방법 1\n",
    "oracle_dsn = cx_Oracle.makedsn(host=\"localhost\", port=1521, sid='xe')\n",
    "print(oracle_dsn)\n",
    "conn = cx_Oracle.connect(\"scott\", \"tiger\", dsn=oracle_dsn) # 딕셔너리매개변수는 docstring으로 확인불가\n",
    "conn\n",
    "# 여기서 예외가 발생할 경우 VC_redist.x64.exe 인스톨"
   ]
  },
  {
   "cell_type": "code",
   "execution_count": 95,
   "id": "41af06cb",
   "metadata": {
    "ExecuteTime": {
     "end_time": "2024-11-20T06:43:35.922724Z",
     "start_time": "2024-11-20T06:43:35.904317Z"
    }
   },
   "outputs": [],
   "source": [
    "conn.close()"
   ]
  },
  {
   "cell_type": "code",
   "execution_count": 96,
   "id": "8a8e7cf0",
   "metadata": {
    "ExecuteTime": {
     "end_time": "2024-11-20T06:44:16.798239Z",
     "start_time": "2024-11-20T06:44:16.737175Z"
    }
   },
   "outputs": [
    {
     "data": {
      "text/plain": [
       "<cx_Oracle.Connection to scott@localhost:1521/xe>"
      ]
     },
     "execution_count": 96,
     "metadata": {},
     "output_type": "execute_result"
    }
   ],
   "source": [
    "# conn 얻어오는 방법 2\n",
    "conn = cx_Oracle.connect(\"scott\", \"tiger\", \"localhost:1521/xe\")\n",
    "conn"
   ]
  },
  {
   "cell_type": "code",
   "execution_count": 99,
   "id": "215291fc",
   "metadata": {
    "ExecuteTime": {
     "end_time": "2024-11-20T06:46:01.374541Z",
     "start_time": "2024-11-20T06:46:01.351416Z"
    }
   },
   "outputs": [],
   "source": [
    "# cursor 객체 생성\n",
    "cursor = conn.cursor()\n",
    "sql = \"SELECT * FROM EMP\"\n",
    "cursor.execute(sql)\n",
    "emp = cursor.fetchall()"
   ]
  },
  {
   "cell_type": "code",
   "execution_count": 101,
   "id": "918be320",
   "metadata": {
    "ExecuteTime": {
     "end_time": "2024-11-20T06:47:19.510814Z",
     "start_time": "2024-11-20T06:47:19.505830Z"
    }
   },
   "outputs": [
    {
     "name": "stdout",
     "output_type": "stream",
     "text": [
      "(7369, 'SMITH', 'CLERK', 7902, datetime.datetime(1980, 12, 17, 0, 0), 800.0, None, 20)\n",
      "(7499, 'ALLEN', 'SALESMAN', 7698, datetime.datetime(1981, 2, 20, 0, 0), 1600.0, 300.0, 30)\n",
      "(7521, 'WARD', 'SALESMAN', 7698, datetime.datetime(1981, 2, 22, 0, 0), 1250.0, 500.0, 30)\n",
      "(7566, 'JONES', 'MANAGER', 7839, datetime.datetime(1981, 4, 2, 0, 0), 2975.0, None, 20)\n",
      "(7654, 'MARTIN', 'SALESMAN', 7698, datetime.datetime(1981, 9, 28, 0, 0), 1250.0, 1400.0, 30)\n",
      "(7698, 'BLAKE', 'MANAGER', 7839, datetime.datetime(1981, 5, 1, 0, 0), 2850.0, None, 30)\n",
      "(7782, 'CLARK', 'MANAGER', 7839, datetime.datetime(1981, 6, 9, 0, 0), 2450.0, None, 10)\n",
      "(7788, 'SCOTT', 'ANALYST', 7566, datetime.datetime(1982, 12, 9, 0, 0), 3000.0, None, 20)\n",
      "(7839, 'KING', 'PRESIDENT', None, datetime.datetime(1981, 11, 17, 0, 0), 5000.0, None, 10)\n",
      "(7844, 'TURNER', 'SALESMAN', 7698, datetime.datetime(1981, 9, 8, 0, 0), 1500.0, 0.0, 30)\n",
      "(7876, 'ADAMS', 'CLERK', 7788, datetime.datetime(1983, 1, 12, 0, 0), 1100.0, None, 20)\n",
      "(7900, 'JAMES', 'CLERK', 7698, datetime.datetime(1981, 12, 3, 0, 0), 950.0, None, 30)\n",
      "(7902, 'FORD', 'ANALYST', 7566, datetime.datetime(1981, 12, 3, 0, 0), 3000.0, None, 20)\n",
      "(7934, 'MILLER', 'CLERK', 7782, datetime.datetime(1982, 1, 23, 0, 0), 1300.0, None, 10)\n"
     ]
    }
   ],
   "source": [
    "for e in emp: # 튜플 list라 field가 많은 경우 가독성 다소 떨어짐\n",
    "    print(e)"
   ]
  },
  {
   "cell_type": "code",
   "execution_count": 104,
   "id": "d6d838be",
   "metadata": {
    "ExecuteTime": {
     "end_time": "2024-11-20T06:50:19.536639Z",
     "start_time": "2024-11-20T06:50:19.521425Z"
    }
   },
   "outputs": [
    {
     "data": {
      "text/html": [
       "<div>\n",
       "<style scoped>\n",
       "    .dataframe tbody tr th:only-of-type {\n",
       "        vertical-align: middle;\n",
       "    }\n",
       "\n",
       "    .dataframe tbody tr th {\n",
       "        vertical-align: top;\n",
       "    }\n",
       "\n",
       "    .dataframe thead th {\n",
       "        text-align: right;\n",
       "    }\n",
       "</style>\n",
       "<table border=\"1\" class=\"dataframe\">\n",
       "  <thead>\n",
       "    <tr style=\"text-align: right;\">\n",
       "      <th></th>\n",
       "      <th>0</th>\n",
       "      <th>1</th>\n",
       "      <th>2</th>\n",
       "      <th>3</th>\n",
       "      <th>4</th>\n",
       "      <th>5</th>\n",
       "      <th>6</th>\n",
       "      <th>7</th>\n",
       "    </tr>\n",
       "  </thead>\n",
       "  <tbody>\n",
       "    <tr>\n",
       "      <th>0</th>\n",
       "      <td>7369</td>\n",
       "      <td>SMITH</td>\n",
       "      <td>CLERK</td>\n",
       "      <td>7902.0</td>\n",
       "      <td>1980-12-17</td>\n",
       "      <td>800.0</td>\n",
       "      <td>NaN</td>\n",
       "      <td>20</td>\n",
       "    </tr>\n",
       "    <tr>\n",
       "      <th>1</th>\n",
       "      <td>7499</td>\n",
       "      <td>ALLEN</td>\n",
       "      <td>SALESMAN</td>\n",
       "      <td>7698.0</td>\n",
       "      <td>1981-02-20</td>\n",
       "      <td>1600.0</td>\n",
       "      <td>300.0</td>\n",
       "      <td>30</td>\n",
       "    </tr>\n",
       "    <tr>\n",
       "      <th>2</th>\n",
       "      <td>7521</td>\n",
       "      <td>WARD</td>\n",
       "      <td>SALESMAN</td>\n",
       "      <td>7698.0</td>\n",
       "      <td>1981-02-22</td>\n",
       "      <td>1250.0</td>\n",
       "      <td>500.0</td>\n",
       "      <td>30</td>\n",
       "    </tr>\n",
       "    <tr>\n",
       "      <th>3</th>\n",
       "      <td>7566</td>\n",
       "      <td>JONES</td>\n",
       "      <td>MANAGER</td>\n",
       "      <td>7839.0</td>\n",
       "      <td>1981-04-02</td>\n",
       "      <td>2975.0</td>\n",
       "      <td>NaN</td>\n",
       "      <td>20</td>\n",
       "    </tr>\n",
       "    <tr>\n",
       "      <th>4</th>\n",
       "      <td>7654</td>\n",
       "      <td>MARTIN</td>\n",
       "      <td>SALESMAN</td>\n",
       "      <td>7698.0</td>\n",
       "      <td>1981-09-28</td>\n",
       "      <td>1250.0</td>\n",
       "      <td>1400.0</td>\n",
       "      <td>30</td>\n",
       "    </tr>\n",
       "  </tbody>\n",
       "</table>\n",
       "</div>"
      ],
      "text/plain": [
       "      0       1         2       3          4       5       6   7\n",
       "0  7369   SMITH     CLERK  7902.0 1980-12-17   800.0     NaN  20\n",
       "1  7499   ALLEN  SALESMAN  7698.0 1981-02-20  1600.0   300.0  30\n",
       "2  7521    WARD  SALESMAN  7698.0 1981-02-22  1250.0   500.0  30\n",
       "3  7566   JONES   MANAGER  7839.0 1981-04-02  2975.0     NaN  20\n",
       "4  7654  MARTIN  SALESMAN  7698.0 1981-09-28  1250.0  1400.0  30"
      ]
     },
     "execution_count": 104,
     "metadata": {},
     "output_type": "execute_result"
    }
   ],
   "source": [
    "import pandas as pd\n",
    "emp_df = pd.DataFrame(emp)\n",
    "emp_df.head()"
   ]
  },
  {
   "cell_type": "code",
   "execution_count": 105,
   "id": "3a5006d4",
   "metadata": {
    "ExecuteTime": {
     "end_time": "2024-11-20T06:52:10.672027Z",
     "start_time": "2024-11-20T06:52:10.663558Z"
    }
   },
   "outputs": [
    {
     "data": {
      "text/plain": [
       "[('EMPNO', <cx_Oracle.DbType DB_TYPE_NUMBER>, 5, None, 4, 0, 0),\n",
       " ('ENAME', <cx_Oracle.DbType DB_TYPE_VARCHAR>, 10, 10, None, None, 1),\n",
       " ('JOB', <cx_Oracle.DbType DB_TYPE_VARCHAR>, 9, 9, None, None, 1),\n",
       " ('MGR', <cx_Oracle.DbType DB_TYPE_NUMBER>, 5, None, 4, 0, 1),\n",
       " ('HIREDATE', <cx_Oracle.DbType DB_TYPE_DATE>, 23, None, None, None, 1),\n",
       " ('SAL', <cx_Oracle.DbType DB_TYPE_NUMBER>, 11, None, 7, 2, 1),\n",
       " ('COMM', <cx_Oracle.DbType DB_TYPE_NUMBER>, 11, None, 7, 2, 1),\n",
       " ('DEPTNO', <cx_Oracle.DbType DB_TYPE_NUMBER>, 3, None, 2, 0, 1)]"
      ]
     },
     "execution_count": 105,
     "metadata": {},
     "output_type": "execute_result"
    }
   ],
   "source": [
    "# select문 수행한 각 필드 정보\n",
    "cursor.description"
   ]
  },
  {
   "cell_type": "code",
   "execution_count": 108,
   "id": "b1043de2",
   "metadata": {
    "ExecuteTime": {
     "end_time": "2024-11-20T06:54:49.805515Z",
     "start_time": "2024-11-20T06:54:49.799516Z"
    }
   },
   "outputs": [
    {
     "data": {
      "text/plain": [
       "['EMPNO', 'ENAME', 'JOB', 'MGR', 'HIREDATE', 'SAL', 'COMM', 'DEPTNO']"
      ]
     },
     "execution_count": 108,
     "metadata": {},
     "output_type": "execute_result"
    }
   ],
   "source": [
    "result = []\n",
    "for description in cursor.description:\n",
    "    result.append(description[0])\n",
    "result"
   ]
  },
  {
   "cell_type": "code",
   "execution_count": 109,
   "id": "6e3c15f7",
   "metadata": {
    "ExecuteTime": {
     "end_time": "2024-11-20T06:55:25.117002Z",
     "start_time": "2024-11-20T06:55:25.111475Z"
    }
   },
   "outputs": [
    {
     "data": {
      "text/plain": [
       "['EMPNO', 'ENAME', 'JOB', 'MGR', 'HIREDATE', 'SAL', 'COMM', 'DEPTNO']"
      ]
     },
     "execution_count": 109,
     "metadata": {},
     "output_type": "execute_result"
    }
   ],
   "source": [
    "[ row[0] for row in cursor.description]"
   ]
  },
  {
   "cell_type": "code",
   "execution_count": 111,
   "id": "b50411d9",
   "metadata": {
    "ExecuteTime": {
     "end_time": "2024-11-20T06:56:09.541681Z",
     "start_time": "2024-11-20T06:56:09.535697Z"
    }
   },
   "outputs": [
    {
     "data": {
      "text/plain": [
       "RangeIndex(start=0, stop=8, step=1)"
      ]
     },
     "execution_count": 111,
     "metadata": {},
     "output_type": "execute_result"
    }
   ],
   "source": [
    "emp_df.columns"
   ]
  },
  {
   "cell_type": "code",
   "execution_count": 116,
   "id": "ecdfab22",
   "metadata": {
    "ExecuteTime": {
     "end_time": "2024-11-20T06:57:21.757910Z",
     "start_time": "2024-11-20T06:57:21.743495Z"
    }
   },
   "outputs": [
    {
     "data": {
      "text/html": [
       "<div>\n",
       "<style scoped>\n",
       "    .dataframe tbody tr th:only-of-type {\n",
       "        vertical-align: middle;\n",
       "    }\n",
       "\n",
       "    .dataframe tbody tr th {\n",
       "        vertical-align: top;\n",
       "    }\n",
       "\n",
       "    .dataframe thead th {\n",
       "        text-align: right;\n",
       "    }\n",
       "</style>\n",
       "<table border=\"1\" class=\"dataframe\">\n",
       "  <thead>\n",
       "    <tr style=\"text-align: right;\">\n",
       "      <th></th>\n",
       "      <th>EMPNO</th>\n",
       "      <th>ENAME</th>\n",
       "      <th>JOB</th>\n",
       "      <th>MGR</th>\n",
       "      <th>HIREDATE</th>\n",
       "      <th>SAL</th>\n",
       "      <th>COMM</th>\n",
       "      <th>DEPTNO</th>\n",
       "    </tr>\n",
       "  </thead>\n",
       "  <tbody>\n",
       "    <tr>\n",
       "      <th>0</th>\n",
       "      <td>7369</td>\n",
       "      <td>SMITH</td>\n",
       "      <td>CLERK</td>\n",
       "      <td>7902.0</td>\n",
       "      <td>1980-12-17</td>\n",
       "      <td>800.0</td>\n",
       "      <td>NaN</td>\n",
       "      <td>20</td>\n",
       "    </tr>\n",
       "  </tbody>\n",
       "</table>\n",
       "</div>"
      ],
      "text/plain": [
       "   EMPNO  ENAME    JOB     MGR   HIREDATE    SAL  COMM  DEPTNO\n",
       "0   7369  SMITH  CLERK  7902.0 1980-12-17  800.0   NaN      20"
      ]
     },
     "execution_count": 116,
     "metadata": {},
     "output_type": "execute_result"
    }
   ],
   "source": [
    "emp_df.columns = [row[0] for row in cursor.description]\n",
    "emp_df.sample() # 임의의 한 줄 출력"
   ]
  },
  {
   "cell_type": "code",
   "execution_count": 119,
   "id": "6680f11c",
   "metadata": {
    "ExecuteTime": {
     "end_time": "2024-11-20T07:03:23.507504Z",
     "start_time": "2024-11-20T07:03:20.553271Z"
    }
   },
   "outputs": [
    {
     "name": "stdout",
     "output_type": "stream",
     "text": [
      "검색할 이름은: scott\n",
      "(7788, 'SCOTT', 'ANALYST', 7566, datetime.datetime(1982, 12, 9, 0, 0), 3000.0, None, 20)\n"
     ]
    }
   ],
   "source": [
    "# 검색할 이름을 사용자에게 받아 해당 내용을 출력\n",
    "ename = input('검색할 이름은: ')\n",
    "sql = \"SELECT * FROM EMP WHERE ENAME=UPPER(:ename)\"\n",
    "cursor.execute(sql, {'ename':ename})\n",
    "emp = cursor.fetchall()\n",
    "if len(emp):\n",
    "    for e in emp:\n",
    "        print(e)\n",
    "else:\n",
    "    print('입력하신 이름의 데이터는 없습니다')"
   ]
  },
  {
   "cell_type": "code",
   "execution_count": 121,
   "id": "51b8bca7",
   "metadata": {
    "ExecuteTime": {
     "end_time": "2024-11-20T07:15:26.508767Z",
     "start_time": "2024-11-20T07:15:26.503802Z"
    }
   },
   "outputs": [
    {
     "name": "stdout",
     "output_type": "stream",
     "text": [
      "['EMPNO', 'ENAME', 'JOB', 'MGR', 'HIREDATE', 'SAL', 'COMM', 'DEPTNO']\n",
      "(7788, 'SCOTT', 'ANALYST', 7566, datetime.datetime(1982, 12, 9, 0, 0), 3000.0, None, 20)\n"
     ]
    }
   ],
   "source": [
    "fieldnames = [description[0] for description in cursor.description]\n",
    "print(fieldnames)\n",
    "print(e)"
   ]
  },
  {
   "cell_type": "code",
   "execution_count": 123,
   "id": "215381e7",
   "metadata": {
    "ExecuteTime": {
     "end_time": "2024-11-20T07:18:21.830072Z",
     "start_time": "2024-11-20T07:18:21.824087Z"
    }
   },
   "outputs": [
    {
     "name": "stdout",
     "output_type": "stream",
     "text": [
      "EMPNO:7788\n",
      "ENAME:SCOTT\n",
      "JOB:ANALYST\n",
      "MGR:7566\n",
      "HIREDATE:1982-12-09 00:00:00\n",
      "SAL:3000.0\n",
      "COMM:\n",
      "DEPTNO:20\n"
     ]
    }
   ],
   "source": [
    "for idx in range(len(e)):\n",
    "    print(\"{}:{}\".format(fieldnames[idx], e[idx] if e[idx] is not None else ''))"
   ]
  },
  {
   "cell_type": "code",
   "execution_count": 125,
   "id": "a3862f32",
   "metadata": {
    "ExecuteTime": {
     "end_time": "2024-11-20T07:20:36.215904Z",
     "start_time": "2024-11-20T07:20:36.208934Z"
    }
   },
   "outputs": [
    {
     "data": {
      "text/plain": [
       "[('EMPNO', 7788),\n",
       " ('ENAME', 'SCOTT'),\n",
       " ('JOB', 'ANALYST'),\n",
       " ('MGR', 7566),\n",
       " ('HIREDATE', datetime.datetime(1982, 12, 9, 0, 0)),\n",
       " ('SAL', 3000.0),\n",
       " ('COMM', None),\n",
       " ('DEPTNO', 20)]"
      ]
     },
     "execution_count": 125,
     "metadata": {},
     "output_type": "execute_result"
    }
   ],
   "source": [
    "list(zip(fieldnames, e))"
   ]
  },
  {
   "cell_type": "code",
   "execution_count": 126,
   "id": "ed8d69a6",
   "metadata": {
    "ExecuteTime": {
     "end_time": "2024-11-20T07:21:55.661506Z",
     "start_time": "2024-11-20T07:21:55.656521Z"
    }
   },
   "outputs": [
    {
     "name": "stdout",
     "output_type": "stream",
     "text": [
      "EMPNO:7788\n",
      "ENAME:SCOTT\n",
      "JOB:ANALYST\n",
      "MGR:7566\n",
      "HIREDATE:1982-12-09 00:00:00\n",
      "SAL:3000.0\n",
      "COMM:-\n",
      "DEPTNO:20\n"
     ]
    }
   ],
   "source": [
    "for fieldnames, data in zip(fieldnames, e):\n",
    "    print(\"{}:{}\".format(fieldnames, data if data is not None else '-'))\n",
    "    "
   ]
  },
  {
   "cell_type": "code",
   "execution_count": 64,
   "id": "7acd4e0d",
   "metadata": {
    "ExecuteTime": {
     "end_time": "2024-11-21T01:39:48.406806Z",
     "start_time": "2024-11-21T01:39:48.388855Z"
    }
   },
   "outputs": [
    {
     "ename": "ProgrammingError",
     "evalue": "Cannot operate on a closed database.",
     "output_type": "error",
     "traceback": [
      "\u001b[1;31m---------------------------------------------------------------------------\u001b[0m",
      "\u001b[1;31mProgrammingError\u001b[0m                          Traceback (most recent call last)",
      "Cell \u001b[1;32mIn[64], line 1\u001b[0m\n\u001b[1;32m----> 1\u001b[0m \u001b[43mcursor\u001b[49m\u001b[38;5;241;43m.\u001b[39;49m\u001b[43mclose\u001b[49m\u001b[43m(\u001b[49m\u001b[43m)\u001b[49m\n\u001b[0;32m      2\u001b[0m conn\u001b[38;5;241m.\u001b[39mclose()\n",
      "\u001b[1;31mProgrammingError\u001b[0m: Cannot operate on a closed database."
     ]
    }
   ],
   "source": [
    "cursor.close()\n",
    "conn.close()"
   ]
  },
  {
   "cell_type": "markdown",
   "id": "cbac91a4",
   "metadata": {},
   "source": [
    "# 3절. 연습문제"
   ]
  },
  {
   "cell_type": "code",
   "execution_count": 21,
   "id": "382c97b4",
   "metadata": {
    "ExecuteTime": {
     "end_time": "2024-11-21T02:20:21.110467Z",
     "start_time": "2024-11-21T02:20:21.102488Z"
    }
   },
   "outputs": [],
   "source": [
    "class Member:\n",
    "    'Member 테이블의 내용을 받을 객체 타입'\n",
    "    def __init__(self, name, phone, email, age, grade, etc):\n",
    "        self.name   = name\n",
    "        self.phone  = phone\n",
    "        self.email  = email\n",
    "        self.age    = age\n",
    "        self.grade  = grade\n",
    "        self.etc    = etc\n",
    "    def as_dic(self): # insert문 전송 시 필요\n",
    "        return {'name' :self.name,\n",
    "                'phone':self.phone,\n",
    "                'email':self.email,\n",
    "                'age'  :self.age,\n",
    "                'grade':self.grade,\n",
    "                'etc'  :self.etc}\n",
    "    def __str__(self):\n",
    "        return \"{}\\t{}\\t{}\\t{}\\t{}\\t{}\".format(self.name, self.phone, self.email, self.age, self.grade, self.etc)\n",
    "def to_member(*row): # 튜플 데이터를 매개변수로 받아 Member형 객체로 return \n",
    "    return Member(row[0], row[1], row[2], row[3], row[4], row[5])"
   ]
  },
  {
   "cell_type": "code",
   "execution_count": 22,
   "id": "a8034a05",
   "metadata": {
    "ExecuteTime": {
     "end_time": "2024-11-21T02:20:21.643044Z",
     "start_time": "2024-11-21T02:20:21.638056Z"
    }
   },
   "outputs": [
    {
     "name": "stdout",
     "output_type": "stream",
     "text": [
      "['name', 'phone', 'email', 'age', 'grade', 'etc']\n"
     ]
    }
   ],
   "source": [
    "print(list(to_member('홍','999', 'e@',22, 5, 'etc').__dict__.keys()))"
   ]
  },
  {
   "cell_type": "code",
   "execution_count": 3,
   "id": "c69982df",
   "metadata": {
    "ExecuteTime": {
     "end_time": "2024-11-21T02:15:02.234972Z",
     "start_time": "2024-11-21T02:15:02.230007Z"
    }
   },
   "outputs": [],
   "source": [
    "import sqlite3\n",
    "conn = sqlite3.connect(\"data/ch10_data.db\")\n",
    "cursor = conn.cursor()"
   ]
  },
  {
   "cell_type": "markdown",
   "id": "387bb5c0",
   "metadata": {},
   "source": [
    "## 1.입력"
   ]
  },
  {
   "cell_type": "code",
   "execution_count": 4,
   "id": "a849692c",
   "metadata": {
    "ExecuteTime": {
     "end_time": "2024-11-21T02:15:05.157167Z",
     "start_time": "2024-11-21T02:15:05.150199Z"
    }
   },
   "outputs": [],
   "source": [
    "def insert_member():\n",
    "    cursor = conn.cursor()\n",
    "    name  = input('입력할 이름은: ')\n",
    "    phone = input('입력할 휴대폰 번호는: ')\n",
    "    email = input('입력할 메일은: ')\n",
    "    try:\n",
    "        age   = int(input('입력할 나이는: '))\n",
    "        if age < 0:\n",
    "            age = 18\n",
    "    except ValueError as e:\n",
    "        print('유효하지 않은 나이 입력 시 나이는 18세로 초기화')\n",
    "        age = 18\n",
    "    try:\n",
    "        grade = int(input('입력할 등급(1~5)은: '))\n",
    "        if grade < 1:\n",
    "            grade = 1\n",
    "        if grade > 5:\n",
    "            grade = 5\n",
    "    except ValueError as e:\n",
    "        print('유효하지 않은 등급을 입력 시 등급은 1로 초기화')\n",
    "        grade = 1\n",
    "    etc = input('입력할 기타사항은: ')\n",
    "    newMember = Member(name, phone, email, age, grade, etc)\n",
    "    cursor.execute(\"INSERT INTO MEMBER VALUES (:name, :phone, :email, :age, :grade, :etc)\", newMember.as_dic())\n",
    "    conn.commit()\n",
    "    print()\n",
    "    print('입력 완료')\n",
    "    print(newMember)\n",
    "    cursor.close()"
   ]
  },
  {
   "cell_type": "code",
   "execution_count": 6,
   "id": "d294677a",
   "metadata": {
    "ExecuteTime": {
     "end_time": "2024-11-21T01:41:29.421946Z",
     "start_time": "2024-11-21T01:41:25.973512Z"
    }
   },
   "outputs": [
    {
     "name": "stdout",
     "output_type": "stream",
     "text": [
      "입력할 이름은: ㅇ\n",
      "입력할 휴대폰 번호는: ㅇ\n",
      "입력할 메일은: ㅇ\n",
      "입력할 나이는: ㅇ\n",
      "유효하지 않은 나이 입력 시 나이는 18세로 초기화\n",
      "입력할 등급(1~5)은: ㅇ\n",
      "유효하지 않은 등급을 입력 시 등급은 1로 초기화\n",
      "입력할 기타사항은: ㅇ\n",
      "\n",
      "입력 완료\n",
      "ㅇ\tㅇ\tㅇ\t18\t1\tㅇ\n"
     ]
    }
   ],
   "source": [
    "insert_member()"
   ]
  },
  {
   "cell_type": "markdown",
   "id": "87d4b670",
   "metadata": {},
   "source": [
    "## 2. 전체 출력"
   ]
  },
  {
   "cell_type": "code",
   "execution_count": 5,
   "id": "ac6cc787",
   "metadata": {
    "ExecuteTime": {
     "end_time": "2024-11-21T02:15:07.252557Z",
     "start_time": "2024-11-21T02:15:07.246583Z"
    }
   },
   "outputs": [],
   "source": [
    "def select_all():\n",
    "    cursor = conn.cursor()\n",
    "    cursor.execute(\"SELECT * FROM MEMBER\")\n",
    "    members = cursor.fetchall() # 튜플 list\n",
    "    print('='*70)\n",
    "    print(\"{:^70}\".format(\"고객 정보\"))\n",
    "    print('-'*70)\n",
    "    # print(members)\n",
    "    for member in members:\n",
    "        print(to_member(*member))\n",
    "    print('-'*70)\n",
    "    cursor.close()"
   ]
  },
  {
   "cell_type": "code",
   "execution_count": 8,
   "id": "6dbcd71a",
   "metadata": {
    "ExecuteTime": {
     "end_time": "2024-11-21T01:41:34.193851Z",
     "start_time": "2024-11-21T01:41:34.188802Z"
    }
   },
   "outputs": [
    {
     "name": "stdout",
     "output_type": "stream",
     "text": [
      "======================================================================\n",
      "                                고객 정보                                 \n",
      "----------------------------------------------------------------------\n",
      "홍\t010-1111-1111\tH@H.COM\t22\t3\t몰라\n",
      "홍\t010-0000-0000\th@h.com\t58\t5\tdd\n",
      "홍\t010-1111-1111\th@h.com\t11\t1\tdd\n",
      "뽀로로\t010-2222-2222\tp@h.com\t15\t1\t노는 게 젤 조아\n",
      "사람 2\t010-\t메일2\t18\t5\tㅇㅇ\n",
      "루피\t010-2222-3333\t메일1\t15\t1\t\n",
      "ㅇ\tㅇ\tㅇ\t18\t1\tㅇ\n",
      "----------------------------------------------------------------------\n"
     ]
    }
   ],
   "source": [
    "select_all()"
   ]
  },
  {
   "cell_type": "markdown",
   "id": "623e840c",
   "metadata": {},
   "source": [
    "## 3. 이름 검색"
   ]
  },
  {
   "cell_type": "code",
   "execution_count": 6,
   "id": "355041f7",
   "metadata": {
    "ExecuteTime": {
     "end_time": "2024-11-21T02:15:08.708665Z",
     "start_time": "2024-11-21T02:15:08.702681Z"
    }
   },
   "outputs": [],
   "source": [
    "def select_name():\n",
    "    cursor = conn.cursor()\n",
    "    inputName = input('검색할 이름: ')\n",
    "    cursor.execute(\"SELECT * FROM MEMBER WHERE NAME IN (:name)\", {'name':inputName})\n",
    "    members = cursor.fetchall()\n",
    "    print('='*70)\n",
    "    print(\"{:^70}\".format(\"고객 정보\"))\n",
    "    print('-'*70)\n",
    "    for member in members:\n",
    "        print(to_member(*member))\n",
    "    print('-'*70)\n",
    "    cursor.close()"
   ]
  },
  {
   "cell_type": "code",
   "execution_count": 10,
   "id": "6c7a8b72",
   "metadata": {
    "ExecuteTime": {
     "end_time": "2024-11-21T01:41:40.406276Z",
     "start_time": "2024-11-21T01:41:39.412228Z"
    }
   },
   "outputs": [
    {
     "name": "stdout",
     "output_type": "stream",
     "text": [
      "검색할 이름: ㅇ\n",
      "======================================================================\n",
      "                                고객 정보                                 \n",
      "----------------------------------------------------------------------\n",
      "ㅇ\tㅇ\tㅇ\t18\t1\tㅇ\n",
      "----------------------------------------------------------------------\n"
     ]
    }
   ],
   "source": [
    "select_name()"
   ]
  },
  {
   "cell_type": "markdown",
   "id": "c235bcdc",
   "metadata": {},
   "source": [
    "## 4. 메일 삭제"
   ]
  },
  {
   "cell_type": "code",
   "execution_count": 7,
   "id": "31bb3b5d",
   "metadata": {
    "ExecuteTime": {
     "end_time": "2024-11-21T02:15:10.475962Z",
     "start_time": "2024-11-21T02:15:10.470963Z"
    }
   },
   "outputs": [],
   "source": [
    "def delete_email():\n",
    "    cursor = conn.cursor()\n",
    "    inputEmail = input('삭제할 이메일: ')\n",
    "    cursor.execute(\"DELETE FROM MEMBER WHERE EMAIL IN (:email)\", {'email':inputEmail})\n",
    "    if cursor.rowcount:\n",
    "        print('{}명 삭제 완료'.format(cursor.rowcount))\n",
    "    else:\n",
    "        print('해당 이메일의 데이터가 없습니다')\n",
    "    cursor.close()"
   ]
  },
  {
   "cell_type": "code",
   "execution_count": 12,
   "id": "68664d56",
   "metadata": {
    "ExecuteTime": {
     "end_time": "2024-11-21T01:41:46.789943Z",
     "start_time": "2024-11-21T01:41:45.252642Z"
    }
   },
   "outputs": [
    {
     "name": "stdout",
     "output_type": "stream",
     "text": [
      "삭제할 이메일: ㅇ\n",
      "1명 삭제 완료\n"
     ]
    }
   ],
   "source": [
    "delete_email()"
   ]
  },
  {
   "cell_type": "markdown",
   "id": "272d3627",
   "metadata": {},
   "source": [
    "## 5. CSV 내보내기"
   ]
  },
  {
   "cell_type": "code",
   "execution_count": 35,
   "id": "4799da01",
   "metadata": {
    "ExecuteTime": {
     "end_time": "2024-11-21T02:23:03.037559Z",
     "start_time": "2024-11-21T02:23:03.030578Z"
    }
   },
   "outputs": [],
   "source": [
    "def save_csv():\n",
    "    import csv\n",
    "    member_dict_list = []\n",
    "    cursor = conn.cursor()\n",
    "    cursor.execute(\"SELECT * FROM MEMBER\")\n",
    "    members = cursor.fetchall() # 튜플 list\n",
    "    for member in members:\n",
    "        member_dict_list.append(to_member(*member).as_dic())\n",
    "    member = to_member(*members[0])\n",
    "    fieldnames = list(member.__dict__.keys()) #list(member.__dict__.keys())\n",
    "    filename = input('파일명을 입력하세요(csv 확장자 포함)')\n",
    "    try:\n",
    "        with open('data/'+filename, 'w', newline='', encoding='UTF-8') as f:\n",
    "            dict_writer = csv.DictWriter(f, fieldnames=fieldnames)\n",
    "            dict_writer.writeheader()\n",
    "            dict_writer.writerows(member_dict_list)\n",
    "    except:\n",
    "        print('데이터 내보기 예외', e)\n",
    "    cursor.close()"
   ]
  },
  {
   "cell_type": "code",
   "execution_count": 36,
   "id": "f32a9507",
   "metadata": {
    "ExecuteTime": {
     "end_time": "2024-11-21T02:23:10.318110Z",
     "start_time": "2024-11-21T02:23:04.622344Z"
    }
   },
   "outputs": [
    {
     "name": "stdout",
     "output_type": "stream",
     "text": [
      "['name', 'phone', 'email', 'age', 'grade', 'etc']\n",
      "파일명을 입력하세요(csv 확장자 포함)abc.csv\n"
     ]
    }
   ],
   "source": [
    "save_csv()"
   ]
  },
  {
   "cell_type": "code",
   "execution_count": 38,
   "id": "b48004d5",
   "metadata": {
    "ExecuteTime": {
     "end_time": "2024-11-21T01:18:34.383944Z",
     "start_time": "2024-11-21T01:18:17.556438Z"
    }
   },
   "outputs": [
    {
     "name": "stdout",
     "output_type": "stream",
     "text": [
      "파일명을 입력하세요(csv 확장자 포함)ch10_data.csv\n"
     ]
    }
   ],
   "source": [
    "save_csv()"
   ]
  },
  {
   "cell_type": "markdown",
   "id": "6b77a8b6",
   "metadata": {},
   "source": [
    "## 0. 종료"
   ]
  },
  {
   "cell_type": "code",
   "execution_count": 14,
   "id": "e8818721",
   "metadata": {
    "ExecuteTime": {
     "end_time": "2024-11-21T01:41:52.785717Z",
     "start_time": "2024-11-21T01:41:52.780710Z"
    }
   },
   "outputs": [],
   "source": [
    "def close_sql():\n",
    "    global conn\n",
    "    conn.close()\n",
    "    print(\"종료합니다\")"
   ]
  },
  {
   "cell_type": "code",
   "execution_count": 15,
   "id": "a4d7213f",
   "metadata": {
    "ExecuteTime": {
     "end_time": "2024-11-21T01:41:54.586969Z",
     "start_time": "2024-11-21T01:41:54.580985Z"
    }
   },
   "outputs": [
    {
     "name": "stdout",
     "output_type": "stream",
     "text": [
      "종료합니다\n"
     ]
    }
   ],
   "source": [
    "close_sql()"
   ]
  },
  {
   "cell_type": "markdown",
   "id": "62c345a1",
   "metadata": {},
   "source": [
    "## main"
   ]
  },
  {
   "cell_type": "code",
   "execution_count": 20,
   "id": "bf67d26f",
   "metadata": {
    "ExecuteTime": {
     "end_time": "2024-11-21T01:53:14.701265Z",
     "start_time": "2024-11-21T01:53:12.870906Z"
    }
   },
   "outputs": [
    {
     "name": "stdout",
     "output_type": "stream",
     "text": [
      "1.입력 | 2.전체 조회 | 3.이름 찾기 | 4.메일 삭제 | 5.CSV 내보내기 | 0.종료\n",
      "메뉴 선택: 5\n"
     ]
    },
    {
     "ename": "IndexError",
     "evalue": "tuple index out of range",
     "output_type": "error",
     "traceback": [
      "\u001b[1;31m---------------------------------------------------------------------------\u001b[0m",
      "\u001b[1;31mIndexError\u001b[0m                                Traceback (most recent call last)",
      "Cell \u001b[1;32mIn[20], line 30\u001b[0m\n\u001b[0;32m     28\u001b[0m oracle_dsn \u001b[38;5;241m=\u001b[39m cx_Oracle\u001b[38;5;241m.\u001b[39mmakedsn(host\u001b[38;5;241m=\u001b[39m\u001b[38;5;124m\"\u001b[39m\u001b[38;5;124mlocalhost\u001b[39m\u001b[38;5;124m\"\u001b[39m, port\u001b[38;5;241m=\u001b[39m\u001b[38;5;241m1521\u001b[39m, sid\u001b[38;5;241m=\u001b[39m\u001b[38;5;124m'\u001b[39m\u001b[38;5;124mxe\u001b[39m\u001b[38;5;124m'\u001b[39m)\n\u001b[0;32m     29\u001b[0m conn \u001b[38;5;241m=\u001b[39m cx_Oracle\u001b[38;5;241m.\u001b[39mconnect(\u001b[38;5;124m\"\u001b[39m\u001b[38;5;124mscott\u001b[39m\u001b[38;5;124m\"\u001b[39m, \u001b[38;5;124m\"\u001b[39m\u001b[38;5;124mtiger\u001b[39m\u001b[38;5;124m\"\u001b[39m, dsn\u001b[38;5;241m=\u001b[39moracle_dsn)\n\u001b[1;32m---> 30\u001b[0m \u001b[43mmain\u001b[49m\u001b[43m(\u001b[49m\u001b[43m)\u001b[49m\n",
      "Cell \u001b[1;32mIn[20], line 18\u001b[0m, in \u001b[0;36mmain\u001b[1;34m()\u001b[0m\n\u001b[0;32m     16\u001b[0m     delete_email()\n\u001b[0;32m     17\u001b[0m \u001b[38;5;28;01melif\u001b[39;00m menu\u001b[38;5;241m==\u001b[39m\u001b[38;5;241m5\u001b[39m:\n\u001b[1;32m---> 18\u001b[0m     \u001b[43msave_csv\u001b[49m\u001b[43m(\u001b[49m\u001b[43m)\u001b[49m\n\u001b[0;32m     19\u001b[0m \u001b[38;5;28;01melif\u001b[39;00m menu\u001b[38;5;241m==\u001b[39m\u001b[38;5;241m0\u001b[39m:\n\u001b[0;32m     20\u001b[0m     close_sql()\n",
      "Cell \u001b[1;32mIn[19], line 9\u001b[0m, in \u001b[0;36msave_csv\u001b[1;34m()\u001b[0m\n\u001b[0;32m      7\u001b[0m \u001b[38;5;28;01mfor\u001b[39;00m member \u001b[38;5;129;01min\u001b[39;00m members:\n\u001b[0;32m      8\u001b[0m     member_dict_list\u001b[38;5;241m.\u001b[39mappend(to_member(\u001b[38;5;241m*\u001b[39mmember)\u001b[38;5;241m.\u001b[39mas_dic())\n\u001b[1;32m----> 9\u001b[0m member \u001b[38;5;241m=\u001b[39m \u001b[43mto_member\u001b[49m\u001b[43m(\u001b[49m\u001b[43mmembers\u001b[49m\u001b[43m[\u001b[49m\u001b[38;5;241;43m0\u001b[39;49m\u001b[43m]\u001b[49m\u001b[43m)\u001b[49m\n\u001b[0;32m     10\u001b[0m fieldnames \u001b[38;5;241m=\u001b[39m \u001b[38;5;28mlist\u001b[39m(member\u001b[38;5;241m.\u001b[39m\u001b[38;5;18m__dict__\u001b[39m\u001b[38;5;241m.\u001b[39mkeys())\n\u001b[0;32m     11\u001b[0m filename \u001b[38;5;241m=\u001b[39m \u001b[38;5;28minput\u001b[39m(\u001b[38;5;124m'\u001b[39m\u001b[38;5;124m파일명을 입력하세요(csv 확장자 포함)\u001b[39m\u001b[38;5;124m'\u001b[39m)\n",
      "Cell \u001b[1;32mIn[5], line 20\u001b[0m, in \u001b[0;36mto_member\u001b[1;34m(*row)\u001b[0m\n\u001b[0;32m     19\u001b[0m \u001b[38;5;28;01mdef\u001b[39;00m \u001b[38;5;21mto_member\u001b[39m(\u001b[38;5;241m*\u001b[39mrow): \u001b[38;5;66;03m# 튜플 데이터를 매개변수로 받아 Member형 객체로 return\u001b[39;00m\n\u001b[1;32m---> 20\u001b[0m     \u001b[38;5;28;01mreturn\u001b[39;00m Member(row[\u001b[38;5;241m0\u001b[39m], \u001b[43mrow\u001b[49m\u001b[43m[\u001b[49m\u001b[38;5;241;43m1\u001b[39;49m\u001b[43m]\u001b[49m, row[\u001b[38;5;241m2\u001b[39m], row[\u001b[38;5;241m3\u001b[39m], row[\u001b[38;5;241m4\u001b[39m], row[\u001b[38;5;241m5\u001b[39m])\n",
      "\u001b[1;31mIndexError\u001b[0m: tuple index out of range"
     ]
    }
   ],
   "source": [
    "def main():\n",
    "    while True:\n",
    "        print(\"1.입력\", \"2.전체 조회\", \"3.이름 찾기\", \"4.메일 삭제\", \"5.CSV 내보내기\", \"0.종료\",\n",
    "             sep=\" | \")\n",
    "        try:\n",
    "            menu = int(input(\"메뉴 선택: \"))\n",
    "        except:\n",
    "            print(\"유효하지 않은 값을 입력하였습니다. 다시 선택해주세요.\")\n",
    "        if menu==1:\n",
    "            insert_member()\n",
    "        elif menu==2:\n",
    "            select_all()\n",
    "        elif menu==3:\n",
    "            select_name()\n",
    "        elif menu==4:\n",
    "            delete_email()\n",
    "        elif menu==5:\n",
    "            save_csv()\n",
    "        elif menu==0:\n",
    "            close_sql()\n",
    "            break\n",
    "\n",
    "if __name__=='__main__':\n",
    "#     import sqlite3\n",
    "    import cx_Oracle\n",
    "    global conn\n",
    "#     conn = sqlite3.connect('data/ch10_data.db')\n",
    "    oracle_dsn = cx_Oracle.makedsn(host=\"localhost\", port=1521, sid='xe')\n",
    "    conn = cx_Oracle.connect(\"scott\", \"tiger\", dsn=oracle_dsn)\n",
    "    main()   "
   ]
  },
  {
   "cell_type": "code",
   "execution_count": null,
   "id": "1bdb9256",
   "metadata": {},
   "outputs": [],
   "source": []
  },
  {
   "cell_type": "code",
   "execution_count": null,
   "id": "4ce299d3",
   "metadata": {},
   "outputs": [],
   "source": []
  }
 ],
 "metadata": {
  "kernelspec": {
   "display_name": "Python 3 (ipykernel)",
   "language": "python",
   "name": "python3"
  },
  "language_info": {
   "codemirror_mode": {
    "name": "ipython",
    "version": 3
   },
   "file_extension": ".py",
   "mimetype": "text/x-python",
   "name": "python",
   "nbconvert_exporter": "python",
   "pygments_lexer": "ipython3",
   "version": "3.10.9"
  },
  "toc": {
   "base_numbering": 1,
   "nav_menu": {},
   "number_sections": true,
   "sideBar": true,
   "skip_h1_title": false,
   "title_cell": "Table of Contents",
   "title_sidebar": "Contents",
   "toc_cell": false,
   "toc_position": {
    "height": "calc(100% - 180px)",
    "left": "10px",
    "top": "150px",
    "width": "165px"
   },
   "toc_section_display": true,
   "toc_window_display": true
  }
 },
 "nbformat": 4,
 "nbformat_minor": 5
}
