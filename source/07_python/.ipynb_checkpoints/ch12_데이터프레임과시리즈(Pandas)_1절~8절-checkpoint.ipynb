{
 "cells": [
  {
   "cell_type": "markdown",
   "id": "d49ee502",
   "metadata": {
    "ExecuteTime": {
     "end_time": "2024-11-25T03:21:24.785462Z",
     "start_time": "2024-11-25T03:21:24.778492Z"
    }
   },
   "source": [
    "<b><font color=\"red\" size=\"6\">ch12. 데이터프레임과 시리즈(Pandas)</font></b>\n",
    "- pip install pandas"
   ]
  },
  {
   "cell_type": "markdown",
   "id": "db5defe1",
   "metadata": {},
   "source": [
    "# 1절. 판다스 패키지\n",
    "- 데이터 분석을 위해 반드시 알아야 할 패키지. 넘파이를 기반으로 하며, 다른 많은 라이브러리와 잘 통합되도록 설계\n",
    "- 1차원 구조를 갖는 시리즈, 2차원 구조를 갖는 데이터 프레임을 제공\n",
    "```\n",
    " 판다스 장점: 데이터 프레임 생성, 파일 io, 레이블링, 부분데이터추출, \n",
    "            크기변경(행이나 열 삽입, 삭제), 데이터 분할, 병합, 데이터 정렬\n",
    "            결측치 처리, 피벗과 언피벗 등에 용이\n",
    "```\n",
    "- https://pypi.org/project/pandas/ (package index)\n",
    "- https://pandas.pydata.org/docs/reference/index.html#api (API reference)"
   ]
  },
  {
   "cell_type": "code",
   "execution_count": 1,
   "id": "cfc2c0c0",
   "metadata": {
    "ExecuteTime": {
     "end_time": "2024-11-25T08:39:03.084673Z",
     "start_time": "2024-11-25T08:39:02.488985Z"
    }
   },
   "outputs": [
    {
     "data": {
      "text/plain": [
       "'1.5.3'"
      ]
     },
     "execution_count": 1,
     "metadata": {},
     "output_type": "execute_result"
    }
   ],
   "source": [
    "import pandas as pd\n",
    "pd.__version__"
   ]
  },
  {
   "cell_type": "code",
   "execution_count": 2,
   "id": "fad84cbe",
   "metadata": {
    "ExecuteTime": {
     "end_time": "2024-11-25T08:39:04.041898Z",
     "start_time": "2024-11-25T08:39:04.016976Z"
    }
   },
   "outputs": [
    {
     "data": {
      "text/html": [
       "<div>\n",
       "<style scoped>\n",
       "    .dataframe tbody tr th:only-of-type {\n",
       "        vertical-align: middle;\n",
       "    }\n",
       "\n",
       "    .dataframe tbody tr th {\n",
       "        vertical-align: top;\n",
       "    }\n",
       "\n",
       "    .dataframe thead th {\n",
       "        text-align: right;\n",
       "    }\n",
       "</style>\n",
       "<table border=\"1\" class=\"dataframe\">\n",
       "  <thead>\n",
       "    <tr style=\"text-align: right;\">\n",
       "      <th></th>\n",
       "      <th>name</th>\n",
       "      <th>age</th>\n",
       "      <th>email</th>\n",
       "      <th>address</th>\n",
       "    </tr>\n",
       "  </thead>\n",
       "  <tbody>\n",
       "    <tr>\n",
       "      <th>0</th>\n",
       "      <td>홍길동</td>\n",
       "      <td>20</td>\n",
       "      <td>h@h.com</td>\n",
       "      <td>서울</td>\n",
       "    </tr>\n",
       "    <tr>\n",
       "      <th>1</th>\n",
       "      <td>김길동</td>\n",
       "      <td>30</td>\n",
       "      <td>k@h.com</td>\n",
       "      <td>부산</td>\n",
       "    </tr>\n",
       "    <tr>\n",
       "      <th>2</th>\n",
       "      <td>신길동</td>\n",
       "      <td>40</td>\n",
       "      <td>s@h.com</td>\n",
       "      <td>안양</td>\n",
       "    </tr>\n",
       "  </tbody>\n",
       "</table>\n",
       "</div>"
      ],
      "text/plain": [
       "  name  age    email address\n",
       "0  홍길동   20  h@h.com      서울\n",
       "1  김길동   30  k@h.com      부산\n",
       "2  신길동   40  s@h.com      안양"
      ]
     },
     "metadata": {},
     "output_type": "display_data"
    },
    {
     "name": "stdout",
     "output_type": "stream",
     "text": [
      "<class 'pandas.core.frame.DataFrame'>\n"
     ]
    }
   ],
   "source": [
    "data = pd.read_json('data/ch09_member1.json', encoding='cp949') # encoding기본값:utf-8\n",
    "display(data)\n",
    "print(type(data))"
   ]
  },
  {
   "cell_type": "code",
   "execution_count": 3,
   "id": "b5a401de",
   "metadata": {
    "ExecuteTime": {
     "end_time": "2024-11-25T08:39:06.679232Z",
     "start_time": "2024-11-25T08:39:06.665734Z"
    }
   },
   "outputs": [
    {
     "data": {
      "text/html": [
       "<div>\n",
       "<style scoped>\n",
       "    .dataframe tbody tr th:only-of-type {\n",
       "        vertical-align: middle;\n",
       "    }\n",
       "\n",
       "    .dataframe tbody tr th {\n",
       "        vertical-align: top;\n",
       "    }\n",
       "\n",
       "    .dataframe thead th {\n",
       "        text-align: right;\n",
       "    }\n",
       "</style>\n",
       "<table border=\"1\" class=\"dataframe\">\n",
       "  <thead>\n",
       "    <tr style=\"text-align: right;\">\n",
       "      <th></th>\n",
       "      <th>name</th>\n",
       "      <th>age</th>\n",
       "      <th>email</th>\n",
       "      <th>address</th>\n",
       "    </tr>\n",
       "  </thead>\n",
       "  <tbody>\n",
       "    <tr>\n",
       "      <th>0</th>\n",
       "      <td>홍길동</td>\n",
       "      <td>20</td>\n",
       "      <td>h@hong.com</td>\n",
       "      <td>서울</td>\n",
       "    </tr>\n",
       "    <tr>\n",
       "      <th>1</th>\n",
       "      <td>신길동</td>\n",
       "      <td>25</td>\n",
       "      <td>s@hong.com</td>\n",
       "      <td>부산</td>\n",
       "    </tr>\n",
       "    <tr>\n",
       "      <th>2</th>\n",
       "      <td>김길동</td>\n",
       "      <td>35</td>\n",
       "      <td>k@hong.com</td>\n",
       "      <td>인천</td>\n",
       "    </tr>\n",
       "    <tr>\n",
       "      <th>3</th>\n",
       "      <td>홍길동</td>\n",
       "      <td>20</td>\n",
       "      <td>h@hong.com</td>\n",
       "      <td>서울</td>\n",
       "    </tr>\n",
       "    <tr>\n",
       "      <th>4</th>\n",
       "      <td>신길동</td>\n",
       "      <td>25</td>\n",
       "      <td>s@hong.com</td>\n",
       "      <td>부산</td>\n",
       "    </tr>\n",
       "  </tbody>\n",
       "</table>\n",
       "</div>"
      ],
      "text/plain": [
       "  name  age       email address\n",
       "0  홍길동   20  h@hong.com      서울\n",
       "1  신길동   25  s@hong.com      부산\n",
       "2  김길동   35  k@hong.com      인천\n",
       "3  홍길동   20  h@hong.com      서울\n",
       "4  신길동   25  s@hong.com      부산"
      ]
     },
     "execution_count": 3,
     "metadata": {},
     "output_type": "execute_result"
    }
   ],
   "source": [
    "member4 = pd.read_csv('data/ch09_member4.csv')\n",
    "member4.head() # 최초 상위 5행 가져오기"
   ]
  },
  {
   "cell_type": "code",
   "execution_count": 4,
   "id": "6f35fb96",
   "metadata": {
    "ExecuteTime": {
     "end_time": "2024-11-25T08:39:08.733997Z",
     "start_time": "2024-11-25T08:39:08.722034Z"
    }
   },
   "outputs": [
    {
     "data": {
      "text/html": [
       "<div>\n",
       "<style scoped>\n",
       "    .dataframe tbody tr th:only-of-type {\n",
       "        vertical-align: middle;\n",
       "    }\n",
       "\n",
       "    .dataframe tbody tr th {\n",
       "        vertical-align: top;\n",
       "    }\n",
       "\n",
       "    .dataframe thead th {\n",
       "        text-align: right;\n",
       "    }\n",
       "</style>\n",
       "<table border=\"1\" class=\"dataframe\">\n",
       "  <thead>\n",
       "    <tr style=\"text-align: right;\">\n",
       "      <th></th>\n",
       "      <th>name</th>\n",
       "      <th>age</th>\n",
       "      <th>email</th>\n",
       "      <th>address</th>\n",
       "    </tr>\n",
       "  </thead>\n",
       "  <tbody>\n",
       "    <tr>\n",
       "      <th>0</th>\n",
       "      <td>홍길동</td>\n",
       "      <td>20</td>\n",
       "      <td>kildong@hong.com</td>\n",
       "      <td>서울시 관악구</td>\n",
       "    </tr>\n",
       "    <tr>\n",
       "      <th>1</th>\n",
       "      <td>김길동</td>\n",
       "      <td>20</td>\n",
       "      <td>kildong@kim.com</td>\n",
       "      <td>서울시 영등포구</td>\n",
       "    </tr>\n",
       "    <tr>\n",
       "      <th>2</th>\n",
       "      <td>신길동</td>\n",
       "      <td>20</td>\n",
       "      <td>kildong@shin.com</td>\n",
       "      <td>서울시 동작구</td>\n",
       "    </tr>\n",
       "  </tbody>\n",
       "</table>\n",
       "</div>"
      ],
      "text/plain": [
       "  name  age             email   address\n",
       "0  홍길동   20  kildong@hong.com   서울시 관악구\n",
       "1  김길동   20   kildong@kim.com  서울시 영등포구\n",
       "2  신길동   20  kildong@shin.com   서울시 동작구"
      ]
     },
     "execution_count": 4,
     "metadata": {},
     "output_type": "execute_result"
    }
   ],
   "source": [
    "member1 = pd.read_csv('data/ch09_member1.csv', header=None,\n",
    "                     names=['name', 'age', 'email', 'address'])\n",
    "member1"
   ]
  },
  {
   "cell_type": "code",
   "execution_count": 5,
   "id": "60105162",
   "metadata": {
    "ExecuteTime": {
     "end_time": "2024-11-25T08:38:18.275115Z",
     "start_time": "2024-11-25T08:38:18.076456Z"
    }
   },
   "outputs": [
    {
     "data": {
      "text/html": [
       "<div>\n",
       "<style scoped>\n",
       "    .dataframe tbody tr th:only-of-type {\n",
       "        vertical-align: middle;\n",
       "    }\n",
       "\n",
       "    .dataframe tbody tr th {\n",
       "        vertical-align: top;\n",
       "    }\n",
       "\n",
       "    .dataframe thead th {\n",
       "        text-align: right;\n",
       "    }\n",
       "</style>\n",
       "<table border=\"1\" class=\"dataframe\">\n",
       "  <thead>\n",
       "    <tr style=\"text-align: right;\">\n",
       "      <th></th>\n",
       "      <th>sepal_length</th>\n",
       "      <th>sepal_width</th>\n",
       "      <th>petal_length</th>\n",
       "      <th>petal_width</th>\n",
       "      <th>species</th>\n",
       "    </tr>\n",
       "  </thead>\n",
       "  <tbody>\n",
       "    <tr>\n",
       "      <th>0</th>\n",
       "      <td>5.1</td>\n",
       "      <td>3.5</td>\n",
       "      <td>1.4</td>\n",
       "      <td>0.2</td>\n",
       "      <td>setosa</td>\n",
       "    </tr>\n",
       "    <tr>\n",
       "      <th>1</th>\n",
       "      <td>4.9</td>\n",
       "      <td>3.0</td>\n",
       "      <td>1.4</td>\n",
       "      <td>0.2</td>\n",
       "      <td>setosa</td>\n",
       "    </tr>\n",
       "    <tr>\n",
       "      <th>2</th>\n",
       "      <td>4.7</td>\n",
       "      <td>3.2</td>\n",
       "      <td>1.3</td>\n",
       "      <td>0.2</td>\n",
       "      <td>setosa</td>\n",
       "    </tr>\n",
       "    <tr>\n",
       "      <th>3</th>\n",
       "      <td>4.6</td>\n",
       "      <td>3.1</td>\n",
       "      <td>1.5</td>\n",
       "      <td>0.2</td>\n",
       "      <td>setosa</td>\n",
       "    </tr>\n",
       "    <tr>\n",
       "      <th>4</th>\n",
       "      <td>5.0</td>\n",
       "      <td>3.6</td>\n",
       "      <td>1.4</td>\n",
       "      <td>0.2</td>\n",
       "      <td>setosa</td>\n",
       "    </tr>\n",
       "    <tr>\n",
       "      <th>...</th>\n",
       "      <td>...</td>\n",
       "      <td>...</td>\n",
       "      <td>...</td>\n",
       "      <td>...</td>\n",
       "      <td>...</td>\n",
       "    </tr>\n",
       "    <tr>\n",
       "      <th>145</th>\n",
       "      <td>6.7</td>\n",
       "      <td>3.0</td>\n",
       "      <td>5.2</td>\n",
       "      <td>2.3</td>\n",
       "      <td>virginica</td>\n",
       "    </tr>\n",
       "    <tr>\n",
       "      <th>146</th>\n",
       "      <td>6.3</td>\n",
       "      <td>2.5</td>\n",
       "      <td>5.0</td>\n",
       "      <td>1.9</td>\n",
       "      <td>virginica</td>\n",
       "    </tr>\n",
       "    <tr>\n",
       "      <th>147</th>\n",
       "      <td>6.5</td>\n",
       "      <td>3.0</td>\n",
       "      <td>5.2</td>\n",
       "      <td>2.0</td>\n",
       "      <td>virginica</td>\n",
       "    </tr>\n",
       "    <tr>\n",
       "      <th>148</th>\n",
       "      <td>6.2</td>\n",
       "      <td>3.4</td>\n",
       "      <td>5.4</td>\n",
       "      <td>2.3</td>\n",
       "      <td>virginica</td>\n",
       "    </tr>\n",
       "    <tr>\n",
       "      <th>149</th>\n",
       "      <td>5.9</td>\n",
       "      <td>3.0</td>\n",
       "      <td>5.1</td>\n",
       "      <td>1.8</td>\n",
       "      <td>virginica</td>\n",
       "    </tr>\n",
       "  </tbody>\n",
       "</table>\n",
       "<p>150 rows × 5 columns</p>\n",
       "</div>"
      ],
      "text/plain": [
       "     sepal_length  sepal_width  petal_length  petal_width    species\n",
       "0             5.1          3.5           1.4          0.2     setosa\n",
       "1             4.9          3.0           1.4          0.2     setosa\n",
       "2             4.7          3.2           1.3          0.2     setosa\n",
       "3             4.6          3.1           1.5          0.2     setosa\n",
       "4             5.0          3.6           1.4          0.2     setosa\n",
       "..            ...          ...           ...          ...        ...\n",
       "145           6.7          3.0           5.2          2.3  virginica\n",
       "146           6.3          2.5           5.0          1.9  virginica\n",
       "147           6.5          3.0           5.2          2.0  virginica\n",
       "148           6.2          3.4           5.4          2.3  virginica\n",
       "149           5.9          3.0           5.1          1.8  virginica\n",
       "\n",
       "[150 rows x 5 columns]"
      ]
     },
     "execution_count": 5,
     "metadata": {},
     "output_type": "execute_result"
    }
   ],
   "source": [
    "iris = pd.read_hdf('data/ch09_iris2.hdf5', key='iris')\n",
    "iris"
   ]
  },
  {
   "cell_type": "markdown",
   "id": "a1ad9dab",
   "metadata": {},
   "source": [
    "# 2절. 데이터 프레임 만들기\n",
    "## 2.1 딕셔너리를 이용해서 데이터프레임 만들기"
   ]
  },
  {
   "cell_type": "code",
   "execution_count": 6,
   "id": "23b80c5f",
   "metadata": {
    "ExecuteTime": {
     "end_time": "2024-11-25T08:38:18.290359Z",
     "start_time": "2024-11-25T08:38:18.281385Z"
    }
   },
   "outputs": [
    {
     "data": {
      "text/html": [
       "<div>\n",
       "<style scoped>\n",
       "    .dataframe tbody tr th:only-of-type {\n",
       "        vertical-align: middle;\n",
       "    }\n",
       "\n",
       "    .dataframe tbody tr th {\n",
       "        vertical-align: top;\n",
       "    }\n",
       "\n",
       "    .dataframe thead th {\n",
       "        text-align: right;\n",
       "    }\n",
       "</style>\n",
       "<table border=\"1\" class=\"dataframe\">\n",
       "  <thead>\n",
       "    <tr style=\"text-align: right;\">\n",
       "      <th></th>\n",
       "      <th>kor</th>\n",
       "      <th>mat</th>\n",
       "    </tr>\n",
       "  </thead>\n",
       "  <tbody>\n",
       "    <tr>\n",
       "      <th>0</th>\n",
       "      <td>100</td>\n",
       "      <td>95</td>\n",
       "    </tr>\n",
       "    <tr>\n",
       "      <th>1</th>\n",
       "      <td>90</td>\n",
       "      <td>99</td>\n",
       "    </tr>\n",
       "  </tbody>\n",
       "</table>\n",
       "</div>"
      ],
      "text/plain": [
       "   kor  mat\n",
       "0  100   95\n",
       "1   90   99"
      ]
     },
     "execution_count": 6,
     "metadata": {},
     "output_type": "execute_result"
    }
   ],
   "source": [
    "# value가 list인 딕셔너리를 데이터프레임으로\n",
    "d = {'kor': [100, 90], 'mat':[95, 99]}\n",
    "df = pd.DataFrame(data = d)\n",
    "df"
   ]
  },
  {
   "cell_type": "code",
   "execution_count": 7,
   "id": "5b345a3f",
   "metadata": {
    "ExecuteTime": {
     "end_time": "2024-11-25T08:38:18.306691Z",
     "start_time": "2024-11-25T08:38:18.295347Z"
    }
   },
   "outputs": [
    {
     "data": {
      "text/html": [
       "<div>\n",
       "<style scoped>\n",
       "    .dataframe tbody tr th:only-of-type {\n",
       "        vertical-align: middle;\n",
       "    }\n",
       "\n",
       "    .dataframe tbody tr th {\n",
       "        vertical-align: top;\n",
       "    }\n",
       "\n",
       "    .dataframe thead th {\n",
       "        text-align: right;\n",
       "    }\n",
       "</style>\n",
       "<table border=\"1\" class=\"dataframe\">\n",
       "  <thead>\n",
       "    <tr style=\"text-align: right;\">\n",
       "      <th></th>\n",
       "      <th>kor</th>\n",
       "      <th>mat</th>\n",
       "    </tr>\n",
       "  </thead>\n",
       "  <tbody>\n",
       "    <tr>\n",
       "      <th>0</th>\n",
       "      <td>100</td>\n",
       "      <td>99</td>\n",
       "    </tr>\n",
       "  </tbody>\n",
       "</table>\n",
       "</div>"
      ],
      "text/plain": [
       "   kor  mat\n",
       "0  100   99"
      ]
     },
     "execution_count": 7,
     "metadata": {},
     "output_type": "execute_result"
    }
   ],
   "source": [
    "d = [{'kor': 100, 'mat':99}]\n",
    "pd.DataFrame(d)"
   ]
  },
  {
   "cell_type": "code",
   "execution_count": 8,
   "id": "4a849fc9",
   "metadata": {
    "ExecuteTime": {
     "end_time": "2024-11-25T08:38:18.324343Z",
     "start_time": "2024-11-25T08:38:18.316365Z"
    }
   },
   "outputs": [
    {
     "data": {
      "text/plain": [
       "{'kor': {0: 100, 1: 90}, 'mat': {0: 95, 1: 99}}"
      ]
     },
     "execution_count": 8,
     "metadata": {},
     "output_type": "execute_result"
    }
   ],
   "source": [
    "df.to_dict() # 데이터프레임을 딕셔너리로"
   ]
  },
  {
   "cell_type": "code",
   "execution_count": 9,
   "id": "ed93ed5f",
   "metadata": {
    "ExecuteTime": {
     "end_time": "2024-11-25T08:38:18.336601Z",
     "start_time": "2024-11-25T08:38:18.329620Z"
    }
   },
   "outputs": [
    {
     "data": {
      "text/plain": [
       "array([[100,  95],\n",
       "       [ 90,  99]], dtype=int64)"
      ]
     },
     "execution_count": 9,
     "metadata": {},
     "output_type": "execute_result"
    }
   ],
   "source": [
    " df.to_numpy() # 데이터프레임을 넘파이배열"
   ]
  },
  {
   "cell_type": "code",
   "execution_count": 10,
   "id": "68384cf2",
   "metadata": {
    "ExecuteTime": {
     "end_time": "2024-11-25T08:38:18.348502Z",
     "start_time": "2024-11-25T08:38:18.338596Z"
    }
   },
   "outputs": [
    {
     "data": {
      "text/html": [
       "<div>\n",
       "<style scoped>\n",
       "    .dataframe tbody tr th:only-of-type {\n",
       "        vertical-align: middle;\n",
       "    }\n",
       "\n",
       "    .dataframe tbody tr th {\n",
       "        vertical-align: top;\n",
       "    }\n",
       "\n",
       "    .dataframe thead th {\n",
       "        text-align: right;\n",
       "    }\n",
       "</style>\n",
       "<table border=\"1\" class=\"dataframe\">\n",
       "  <thead>\n",
       "    <tr style=\"text-align: right;\">\n",
       "      <th></th>\n",
       "      <th>kor</th>\n",
       "      <th>mat</th>\n",
       "    </tr>\n",
       "  </thead>\n",
       "  <tbody>\n",
       "    <tr>\n",
       "      <th>0</th>\n",
       "      <td>100</td>\n",
       "      <td>95</td>\n",
       "    </tr>\n",
       "    <tr>\n",
       "      <th>1</th>\n",
       "      <td>90</td>\n",
       "      <td>99</td>\n",
       "    </tr>\n",
       "  </tbody>\n",
       "</table>\n",
       "</div>"
      ],
      "text/plain": [
       "   kor  mat\n",
       "0  100   95\n",
       "1   90   99"
      ]
     },
     "execution_count": 10,
     "metadata": {},
     "output_type": "execute_result"
    }
   ],
   "source": [
    "# 딕셔너리 리스트를 데이터프레임으로\n",
    "d = [{'kor':100, 'mat':95}, {'kor':90, 'mat':99}]\n",
    "df = pd.DataFrame(data=d)\n",
    "df"
   ]
  },
  {
   "cell_type": "code",
   "execution_count": 11,
   "id": "e0c5e956",
   "metadata": {
    "ExecuteTime": {
     "end_time": "2024-11-25T08:38:18.359887Z",
     "start_time": "2024-11-25T08:38:18.351495Z"
    }
   },
   "outputs": [
    {
     "data": {
      "text/plain": [
       "kor    int64\n",
       "mat    int64\n",
       "dtype: object"
      ]
     },
     "execution_count": 11,
     "metadata": {},
     "output_type": "execute_result"
    }
   ],
   "source": [
    "df.dtypes"
   ]
  },
  {
   "cell_type": "code",
   "execution_count": 12,
   "id": "6caa99d3",
   "metadata": {
    "ExecuteTime": {
     "end_time": "2024-11-25T08:38:18.373849Z",
     "start_time": "2024-11-25T08:38:18.362879Z"
    }
   },
   "outputs": [
    {
     "name": "stdout",
     "output_type": "stream",
     "text": [
      "<class 'pandas.core.frame.DataFrame'>\n",
      "RangeIndex: 2 entries, 0 to 1\n",
      "Data columns (total 2 columns):\n",
      " #   Column  Non-Null Count  Dtype\n",
      "---  ------  --------------  -----\n",
      " 0   kor     2 non-null      int64\n",
      " 1   mat     2 non-null      int64\n",
      "dtypes: int64(2)\n",
      "memory usage: 160.0 bytes\n"
     ]
    }
   ],
   "source": [
    "df.info() # ★"
   ]
  },
  {
   "cell_type": "code",
   "execution_count": 13,
   "id": "a3057d6c",
   "metadata": {
    "ExecuteTime": {
     "end_time": "2024-11-25T08:38:18.383823Z",
     "start_time": "2024-11-25T08:38:18.375844Z"
    }
   },
   "outputs": [
    {
     "data": {
      "text/plain": [
       "{'kor': dtype('int64'), 'mat': dtype('int64')}"
      ]
     },
     "execution_count": 13,
     "metadata": {},
     "output_type": "execute_result"
    }
   ],
   "source": [
    "df.dtypes.to_dict()"
   ]
  },
  {
   "cell_type": "code",
   "execution_count": 14,
   "id": "06445074",
   "metadata": {
    "ExecuteTime": {
     "end_time": "2024-11-25T08:38:18.392513Z",
     "start_time": "2024-11-25T08:38:18.386530Z"
    }
   },
   "outputs": [
    {
     "data": {
      "text/plain": [
       "dtype('int64')"
      ]
     },
     "execution_count": 14,
     "metadata": {},
     "output_type": "execute_result"
    }
   ],
   "source": [
    "df['kor'].dtype"
   ]
  },
  {
   "cell_type": "code",
   "execution_count": 15,
   "id": "da77efc8",
   "metadata": {
    "ExecuteTime": {
     "end_time": "2024-11-25T08:38:18.403483Z",
     "start_time": "2024-11-25T08:38:18.394508Z"
    }
   },
   "outputs": [
    {
     "data": {
      "text/plain": [
       "0    100.0\n",
       "1     90.0\n",
       "Name: kor, dtype: float64"
      ]
     },
     "execution_count": 15,
     "metadata": {},
     "output_type": "execute_result"
    }
   ],
   "source": [
    "import numpy as np\n",
    "df['kor'].astype(np.float64)"
   ]
  },
  {
   "cell_type": "code",
   "execution_count": 16,
   "id": "24b11aab",
   "metadata": {
    "ExecuteTime": {
     "end_time": "2024-11-25T08:38:18.416450Z",
     "start_time": "2024-11-25T08:38:18.405482Z"
    }
   },
   "outputs": [
    {
     "data": {
      "text/html": [
       "<div>\n",
       "<style scoped>\n",
       "    .dataframe tbody tr th:only-of-type {\n",
       "        vertical-align: middle;\n",
       "    }\n",
       "\n",
       "    .dataframe tbody tr th {\n",
       "        vertical-align: top;\n",
       "    }\n",
       "\n",
       "    .dataframe thead th {\n",
       "        text-align: right;\n",
       "    }\n",
       "</style>\n",
       "<table border=\"1\" class=\"dataframe\">\n",
       "  <thead>\n",
       "    <tr style=\"text-align: right;\">\n",
       "      <th></th>\n",
       "      <th>kor</th>\n",
       "      <th>mat</th>\n",
       "      <th>eng</th>\n",
       "    </tr>\n",
       "  </thead>\n",
       "  <tbody>\n",
       "    <tr>\n",
       "      <th>0</th>\n",
       "      <td>100</td>\n",
       "      <td>100.0</td>\n",
       "      <td>NaN</td>\n",
       "    </tr>\n",
       "    <tr>\n",
       "      <th>1</th>\n",
       "      <td>90</td>\n",
       "      <td>99.0</td>\n",
       "      <td>NaN</td>\n",
       "    </tr>\n",
       "    <tr>\n",
       "      <th>2</th>\n",
       "      <td>83</td>\n",
       "      <td>NaN</td>\n",
       "      <td>85.0</td>\n",
       "    </tr>\n",
       "  </tbody>\n",
       "</table>\n",
       "</div>"
      ],
      "text/plain": [
       "   kor    mat   eng\n",
       "0  100  100.0   NaN\n",
       "1   90   99.0   NaN\n",
       "2   83    NaN  85.0"
      ]
     },
     "execution_count": 16,
     "metadata": {},
     "output_type": "execute_result"
    }
   ],
   "source": [
    "d = [{'kor':100, 'mat':100}, {'kor':90, 'mat':99}, {'kor':83, 'eng':85}]\n",
    "df = pd.DataFrame(data=d)\n",
    "df"
   ]
  },
  {
   "cell_type": "code",
   "execution_count": 17,
   "id": "ba1b87c5",
   "metadata": {
    "ExecuteTime": {
     "end_time": "2024-11-25T08:38:18.427076Z",
     "start_time": "2024-11-25T08:38:18.420441Z"
    }
   },
   "outputs": [
    {
     "data": {
      "text/plain": [
       "float"
      ]
     },
     "execution_count": 17,
     "metadata": {},
     "output_type": "execute_result"
    }
   ],
   "source": [
    "type(np.nan)"
   ]
  },
  {
   "cell_type": "code",
   "execution_count": 18,
   "id": "c0a3aeca",
   "metadata": {
    "ExecuteTime": {
     "end_time": "2024-11-25T08:38:18.434061Z",
     "start_time": "2024-11-25T08:38:18.430068Z"
    }
   },
   "outputs": [],
   "source": [
    "# 결측치는 int로 형변환 불가(결측치를 대체값으로 치환 후 변환)\n",
    "# df['mat'].astype(np.int32) # Error"
   ]
  },
  {
   "cell_type": "markdown",
   "id": "229a1efa",
   "metadata": {},
   "source": [
    "## 2.2 리스트를 이용해서 데이터 프레임 만들기"
   ]
  },
  {
   "cell_type": "code",
   "execution_count": 19,
   "id": "520e015b",
   "metadata": {
    "ExecuteTime": {
     "end_time": "2024-11-25T08:38:18.447105Z",
     "start_time": "2024-11-25T08:38:18.436053Z"
    }
   },
   "outputs": [
    {
     "data": {
      "text/html": [
       "<div>\n",
       "<style scoped>\n",
       "    .dataframe tbody tr th:only-of-type {\n",
       "        vertical-align: middle;\n",
       "    }\n",
       "\n",
       "    .dataframe tbody tr th {\n",
       "        vertical-align: top;\n",
       "    }\n",
       "\n",
       "    .dataframe thead th {\n",
       "        text-align: right;\n",
       "    }\n",
       "</style>\n",
       "<table border=\"1\" class=\"dataframe\">\n",
       "  <thead>\n",
       "    <tr style=\"text-align: right;\">\n",
       "      <th></th>\n",
       "      <th>kor</th>\n",
       "      <th>mat</th>\n",
       "    </tr>\n",
       "  </thead>\n",
       "  <tbody>\n",
       "    <tr>\n",
       "      <th>0</th>\n",
       "      <td>100</td>\n",
       "      <td>100</td>\n",
       "    </tr>\n",
       "    <tr>\n",
       "      <th>1</th>\n",
       "      <td>90</td>\n",
       "      <td>95</td>\n",
       "    </tr>\n",
       "    <tr>\n",
       "      <th>2</th>\n",
       "      <td>95</td>\n",
       "      <td>94</td>\n",
       "    </tr>\n",
       "    <tr>\n",
       "      <th>3</th>\n",
       "      <td>90</td>\n",
       "      <td>64</td>\n",
       "    </tr>\n",
       "    <tr>\n",
       "      <th>4</th>\n",
       "      <td>65</td>\n",
       "      <td>85</td>\n",
       "    </tr>\n",
       "  </tbody>\n",
       "</table>\n",
       "</div>"
      ],
      "text/plain": [
       "   kor  mat\n",
       "0  100  100\n",
       "1   90   95\n",
       "2   95   94\n",
       "3   90   64\n",
       "4   65   85"
      ]
     },
     "execution_count": 19,
     "metadata": {},
     "output_type": "execute_result"
    }
   ],
   "source": [
    "kor = [100,90,95,90,65]\n",
    "mat = [100,95,94,64,85]\n",
    "df = pd.DataFrame({'kor':kor, 'mat':mat})\n",
    "df"
   ]
  },
  {
   "cell_type": "code",
   "execution_count": 20,
   "id": "b78c51cb",
   "metadata": {
    "ExecuteTime": {
     "end_time": "2024-11-25T08:38:18.457077Z",
     "start_time": "2024-11-25T08:38:18.450096Z"
    }
   },
   "outputs": [
    {
     "data": {
      "text/plain": [
       "array([[100, 100],\n",
       "       [ 90,  95],\n",
       "       [ 95,  94],\n",
       "       [ 90,  64],\n",
       "       [ 65,  85]])"
      ]
     },
     "execution_count": 20,
     "metadata": {},
     "output_type": "execute_result"
    }
   ],
   "source": [
    "np.c_[kor, mat]"
   ]
  },
  {
   "cell_type": "code",
   "execution_count": 21,
   "id": "63f64e4a",
   "metadata": {
    "ExecuteTime": {
     "end_time": "2024-11-25T08:38:18.471991Z",
     "start_time": "2024-11-25T08:38:18.460070Z"
    }
   },
   "outputs": [
    {
     "data": {
      "text/html": [
       "<div>\n",
       "<style scoped>\n",
       "    .dataframe tbody tr th:only-of-type {\n",
       "        vertical-align: middle;\n",
       "    }\n",
       "\n",
       "    .dataframe tbody tr th {\n",
       "        vertical-align: top;\n",
       "    }\n",
       "\n",
       "    .dataframe thead th {\n",
       "        text-align: right;\n",
       "    }\n",
       "</style>\n",
       "<table border=\"1\" class=\"dataframe\">\n",
       "  <thead>\n",
       "    <tr style=\"text-align: right;\">\n",
       "      <th></th>\n",
       "      <th>국어</th>\n",
       "      <th>수학</th>\n",
       "    </tr>\n",
       "  </thead>\n",
       "  <tbody>\n",
       "    <tr>\n",
       "      <th>0</th>\n",
       "      <td>100</td>\n",
       "      <td>100</td>\n",
       "    </tr>\n",
       "    <tr>\n",
       "      <th>1</th>\n",
       "      <td>90</td>\n",
       "      <td>95</td>\n",
       "    </tr>\n",
       "    <tr>\n",
       "      <th>2</th>\n",
       "      <td>95</td>\n",
       "      <td>94</td>\n",
       "    </tr>\n",
       "    <tr>\n",
       "      <th>3</th>\n",
       "      <td>90</td>\n",
       "      <td>64</td>\n",
       "    </tr>\n",
       "    <tr>\n",
       "      <th>4</th>\n",
       "      <td>65</td>\n",
       "      <td>85</td>\n",
       "    </tr>\n",
       "  </tbody>\n",
       "</table>\n",
       "</div>"
      ],
      "text/plain": [
       "    국어   수학\n",
       "0  100  100\n",
       "1   90   95\n",
       "2   95   94\n",
       "3   90   64\n",
       "4   65   85"
      ]
     },
     "execution_count": 21,
     "metadata": {},
     "output_type": "execute_result"
    }
   ],
   "source": [
    "df = pd.DataFrame(np.c_[kor, mat], columns=['국어', '수학'])\n",
    "df"
   ]
  },
  {
   "cell_type": "code",
   "execution_count": 22,
   "id": "c912f6e5",
   "metadata": {
    "ExecuteTime": {
     "end_time": "2024-11-25T08:38:18.485587Z",
     "start_time": "2024-11-25T08:38:18.474984Z"
    }
   },
   "outputs": [
    {
     "data": {
      "text/html": [
       "<div>\n",
       "<style scoped>\n",
       "    .dataframe tbody tr th:only-of-type {\n",
       "        vertical-align: middle;\n",
       "    }\n",
       "\n",
       "    .dataframe tbody tr th {\n",
       "        vertical-align: top;\n",
       "    }\n",
       "\n",
       "    .dataframe thead th {\n",
       "        text-align: right;\n",
       "    }\n",
       "</style>\n",
       "<table border=\"1\" class=\"dataframe\">\n",
       "  <thead>\n",
       "    <tr style=\"text-align: right;\">\n",
       "      <th></th>\n",
       "      <th>kor</th>\n",
       "      <th>mat</th>\n",
       "    </tr>\n",
       "  </thead>\n",
       "  <tbody>\n",
       "    <tr>\n",
       "      <th>0</th>\n",
       "      <td>100</td>\n",
       "      <td>90</td>\n",
       "    </tr>\n",
       "    <tr>\n",
       "      <th>1</th>\n",
       "      <td>10</td>\n",
       "      <td>20</td>\n",
       "    </tr>\n",
       "  </tbody>\n",
       "</table>\n",
       "</div>"
      ],
      "text/plain": [
       "   kor  mat\n",
       "0  100   90\n",
       "1   10   20"
      ]
     },
     "execution_count": 22,
     "metadata": {},
     "output_type": "execute_result"
    }
   ],
   "source": [
    "l = [[100, 90],\n",
    "     [10, 20]]\n",
    "df = pd.DataFrame(l, columns=['kor','mat'])\n",
    "df"
   ]
  },
  {
   "cell_type": "code",
   "execution_count": 23,
   "id": "9a0e5c8a",
   "metadata": {
    "ExecuteTime": {
     "end_time": "2024-11-25T08:38:18.526040Z",
     "start_time": "2024-11-25T08:38:18.488580Z"
    }
   },
   "outputs": [
    {
     "name": "stdout",
     "output_type": "stream",
     "text": [
      " D 드라이브의 볼륨: 새 볼륨\n",
      " 볼륨 일련 번호: 8628-25EE\n",
      "\n",
      " D:\\ai\\Downloads\\shareData\\상가정보 디렉터리\n",
      "\n",
      "2024-11-25  오후 12:45    <DIR>          .\n",
      "2024-11-25  오후 12:45    <DIR>          ..\n",
      "2024-10-23  오후 05:59             1,011 [필독]파일열람방법.txt\n",
      "2024-10-23  오후 06:19        53,454,658 소상공인시장진흥공단_상가(상권)정보_강원_202409.csv\n",
      "2024-10-23  오후 06:19       301,935,950 소상공인시장진흥공단_상가(상권)정보_경기_202409.csv\n",
      "2024-10-23  오후 06:20        86,291,699 소상공인시장진흥공단_상가(상권)정보_경남_202409.csv\n",
      "2024-10-23  오후 06:20        70,952,897 소상공인시장진흥공단_상가(상권)정보_경북_202409.csv\n",
      "2024-10-23  오후 06:20        36,458,714 소상공인시장진흥공단_상가(상권)정보_광주_202409.csv\n",
      "2024-10-23  오후 06:20        57,391,847 소상공인시장진흥공단_상가(상권)정보_대구_202409.csv\n",
      "2024-10-23  오후 06:20        36,638,904 소상공인시장진흥공단_상가(상권)정보_대전_202409.csv\n",
      "2024-10-23  오후 06:20        78,253,942 소상공인시장진흥공단_상가(상권)정보_부산_202409.csv\n",
      "2024-10-23  오후 06:18       254,255,270 소상공인시장진흥공단_상가(상권)정보_서울_202409.csv\n",
      "2024-10-23  오후 06:18         8,277,492 소상공인시장진흥공단_상가(상권)정보_세종_202409.csv\n",
      "2024-10-23  오후 06:18        26,299,042 소상공인시장진흥공단_상가(상권)정보_울산_202409.csv\n",
      "2024-10-23  오후 06:18        61,674,577 소상공인시장진흥공단_상가(상권)정보_인천_202409.csv\n",
      "2024-10-23  오후 06:19        49,328,950 소상공인시장진흥공단_상가(상권)정보_전남_202409.csv\n",
      "2024-10-23  오후 06:19        51,861,004 소상공인시장진흥공단_상가(상권)정보_전북_202409.csv\n",
      "2024-10-23  오후 06:19        30,450,901 소상공인시장진흥공단_상가(상권)정보_제주_202409.csv\n",
      "2024-10-23  오후 06:19        58,318,672 소상공인시장진흥공단_상가(상권)정보_충남_202409.csv\n",
      "2024-10-23  오후 06:19        44,415,648 소상공인시장진흥공단_상가(상권)정보_충북_202409.csv\n",
      "              18개 파일       1,306,261,178 바이트\n",
      "               2개 디렉터리  470,225,080,320 바이트 남음\n"
     ]
    }
   ],
   "source": [
    "%ls D:\\ai\\Downloads\\shareData\\상가정보"
   ]
  },
  {
   "cell_type": "code",
   "execution_count": 24,
   "id": "6f83ba4a",
   "metadata": {
    "ExecuteTime": {
     "end_time": "2024-11-25T08:38:18.550983Z",
     "start_time": "2024-11-25T08:38:18.529031Z"
    }
   },
   "outputs": [
    {
     "data": {
      "text/plain": [
       "(30, 39)"
      ]
     },
     "execution_count": 24,
     "metadata": {},
     "output_type": "execute_result"
    }
   ],
   "source": [
    "df = pd.read_csv(r'D:\\ai\\Downloads\\shareData\\상가정보\\소상공인시장진흥공단_상가(상권)정보_세종_202409.csv',\n",
    "                encoding='utf-8', sep=',', # 기본값 생략가능 \n",
    "                low_memory=False, # 데이터 용량이 클 경우만 기입\n",
    "                nrows=30) # 처음 30행만 가져오기\n",
    "df.shape"
   ]
  },
  {
   "cell_type": "code",
   "execution_count": 25,
   "id": "4695ecb0",
   "metadata": {
    "ExecuteTime": {
     "end_time": "2024-11-25T08:38:18.575906Z",
     "start_time": "2024-11-25T08:38:18.552967Z"
    }
   },
   "outputs": [
    {
     "data": {
      "text/html": [
       "<div>\n",
       "<style scoped>\n",
       "    .dataframe tbody tr th:only-of-type {\n",
       "        vertical-align: middle;\n",
       "    }\n",
       "\n",
       "    .dataframe tbody tr th {\n",
       "        vertical-align: top;\n",
       "    }\n",
       "\n",
       "    .dataframe thead th {\n",
       "        text-align: right;\n",
       "    }\n",
       "</style>\n",
       "<table border=\"1\" class=\"dataframe\">\n",
       "  <thead>\n",
       "    <tr style=\"text-align: right;\">\n",
       "      <th></th>\n",
       "      <th>상가업소번호</th>\n",
       "      <th>상호명</th>\n",
       "      <th>지점명</th>\n",
       "      <th>상권업종대분류코드</th>\n",
       "      <th>상권업종대분류명</th>\n",
       "      <th>상권업종중분류코드</th>\n",
       "      <th>상권업종중분류명</th>\n",
       "      <th>상권업종소분류코드</th>\n",
       "      <th>상권업종소분류명</th>\n",
       "      <th>표준산업분류코드</th>\n",
       "      <th>...</th>\n",
       "      <th>건물관리번호</th>\n",
       "      <th>건물명</th>\n",
       "      <th>도로명주소</th>\n",
       "      <th>구우편번호</th>\n",
       "      <th>신우편번호</th>\n",
       "      <th>동정보</th>\n",
       "      <th>층정보</th>\n",
       "      <th>호정보</th>\n",
       "      <th>경도</th>\n",
       "      <th>위도</th>\n",
       "    </tr>\n",
       "  </thead>\n",
       "  <tbody>\n",
       "    <tr>\n",
       "      <th>0</th>\n",
       "      <td>MA0101202210A0084499</td>\n",
       "      <td>베트남쌀국수퍼짱</td>\n",
       "      <td>NaN</td>\n",
       "      <td>I2</td>\n",
       "      <td>음식</td>\n",
       "      <td>I205</td>\n",
       "      <td>동남아시아</td>\n",
       "      <td>I20501</td>\n",
       "      <td>베트남식 전문</td>\n",
       "      <td>I56194</td>\n",
       "      <td>...</td>\n",
       "      <td>3611010700103610086000001</td>\n",
       "      <td>모닝시티2</td>\n",
       "      <td>세종특별자치시 세종특별자치시 한누리대로 311</td>\n",
       "      <td>339003.0</td>\n",
       "      <td>30123</td>\n",
       "      <td>NaN</td>\n",
       "      <td>1.0</td>\n",
       "      <td>NaN</td>\n",
       "      <td>127.25584</td>\n",
       "      <td>36.492065</td>\n",
       "    </tr>\n",
       "  </tbody>\n",
       "</table>\n",
       "<p>1 rows × 39 columns</p>\n",
       "</div>"
      ],
      "text/plain": [
       "                 상가업소번호       상호명  지점명 상권업종대분류코드 상권업종대분류명 상권업종중분류코드 상권업종중분류명  \\\n",
       "0  MA0101202210A0084499  베트남쌀국수퍼짱  NaN        I2       음식      I205    동남아시아   \n",
       "\n",
       "  상권업종소분류코드 상권업종소분류명 표준산업분류코드  ...                     건물관리번호    건물명  \\\n",
       "0    I20501  베트남식 전문   I56194  ...  3611010700103610086000001  모닝시티2   \n",
       "\n",
       "                       도로명주소     구우편번호  신우편번호  동정보  층정보  호정보         경도  \\\n",
       "0  세종특별자치시 세종특별자치시 한누리대로 311  339003.0  30123  NaN  1.0  NaN  127.25584   \n",
       "\n",
       "          위도  \n",
       "0  36.492065  \n",
       "\n",
       "[1 rows x 39 columns]"
      ]
     },
     "execution_count": 25,
     "metadata": {},
     "output_type": "execute_result"
    }
   ],
   "source": [
    "df.head(1) # 상위 1행만"
   ]
  },
  {
   "cell_type": "code",
   "execution_count": 26,
   "id": "d094136d",
   "metadata": {
    "ExecuteTime": {
     "end_time": "2024-11-25T08:38:18.604828Z",
     "start_time": "2024-11-25T08:38:18.578899Z"
    }
   },
   "outputs": [
    {
     "data": {
      "text/html": [
       "<div>\n",
       "<style scoped>\n",
       "    .dataframe tbody tr th:only-of-type {\n",
       "        vertical-align: middle;\n",
       "    }\n",
       "\n",
       "    .dataframe tbody tr th {\n",
       "        vertical-align: top;\n",
       "    }\n",
       "\n",
       "    .dataframe thead th {\n",
       "        text-align: right;\n",
       "    }\n",
       "</style>\n",
       "<table border=\"1\" class=\"dataframe\">\n",
       "  <thead>\n",
       "    <tr style=\"text-align: right;\">\n",
       "      <th></th>\n",
       "      <th>상가업소번호</th>\n",
       "      <th>상호명</th>\n",
       "      <th>지점명</th>\n",
       "      <th>상권업종대분류코드</th>\n",
       "      <th>상권업종대분류명</th>\n",
       "      <th>상권업종중분류코드</th>\n",
       "      <th>상권업종중분류명</th>\n",
       "      <th>상권업종소분류코드</th>\n",
       "      <th>상권업종소분류명</th>\n",
       "      <th>표준산업분류코드</th>\n",
       "      <th>표준산업분류명</th>\n",
       "      <th>시도코드</th>\n",
       "      <th>시도명</th>\n",
       "      <th>시군구코드</th>\n",
       "      <th>시군구명</th>\n",
       "      <th>행정동코드</th>\n",
       "      <th>행정동명</th>\n",
       "      <th>법정동코드</th>\n",
       "      <th>법정동명</th>\n",
       "      <th>지번코드</th>\n",
       "      <th>대지구분코드</th>\n",
       "      <th>대지구분명</th>\n",
       "      <th>지번본번지</th>\n",
       "      <th>지번부번지</th>\n",
       "      <th>지번주소</th>\n",
       "      <th>도로명코드</th>\n",
       "      <th>도로명</th>\n",
       "      <th>건물본번지</th>\n",
       "      <th>건물부번지</th>\n",
       "      <th>건물관리번호</th>\n",
       "      <th>건물명</th>\n",
       "      <th>도로명주소</th>\n",
       "      <th>구우편번호</th>\n",
       "      <th>신우편번호</th>\n",
       "      <th>동정보</th>\n",
       "      <th>층정보</th>\n",
       "      <th>호정보</th>\n",
       "      <th>경도</th>\n",
       "      <th>위도</th>\n",
       "    </tr>\n",
       "  </thead>\n",
       "  <tbody>\n",
       "    <tr>\n",
       "      <th>0</th>\n",
       "      <td>MA0101202210A0084499</td>\n",
       "      <td>베트남쌀국수퍼짱</td>\n",
       "      <td>NaN</td>\n",
       "      <td>I2</td>\n",
       "      <td>음식</td>\n",
       "      <td>I205</td>\n",
       "      <td>동남아시아</td>\n",
       "      <td>I20501</td>\n",
       "      <td>베트남식 전문</td>\n",
       "      <td>I56194</td>\n",
       "      <td>김밥 및 기타 간이 음식점업</td>\n",
       "      <td>36</td>\n",
       "      <td>세종특별자치시</td>\n",
       "      <td>36110</td>\n",
       "      <td>세종특별자치시</td>\n",
       "      <td>36110518</td>\n",
       "      <td>나성동</td>\n",
       "      <td>3611010700</td>\n",
       "      <td>나성동</td>\n",
       "      <td>3611010700107320000</td>\n",
       "      <td>1</td>\n",
       "      <td>대지</td>\n",
       "      <td>732</td>\n",
       "      <td>NaN</td>\n",
       "      <td>세종특별자치시 세종특별자치시 나성동 732</td>\n",
       "      <td>361102000002</td>\n",
       "      <td>세종특별자치시 세종특별자치시 한누리대로</td>\n",
       "      <td>311</td>\n",
       "      <td>NaN</td>\n",
       "      <td>3611010700103610086000001</td>\n",
       "      <td>모닝시티2</td>\n",
       "      <td>세종특별자치시 세종특별자치시 한누리대로 311</td>\n",
       "      <td>339003.0</td>\n",
       "      <td>30123</td>\n",
       "      <td>NaN</td>\n",
       "      <td>1.0</td>\n",
       "      <td>NaN</td>\n",
       "      <td>127.25584</td>\n",
       "      <td>36.492065</td>\n",
       "    </tr>\n",
       "  </tbody>\n",
       "</table>\n",
       "</div>"
      ],
      "text/plain": [
       "                 상가업소번호       상호명  지점명 상권업종대분류코드 상권업종대분류명 상권업종중분류코드 상권업종중분류명  \\\n",
       "0  MA0101202210A0084499  베트남쌀국수퍼짱  NaN        I2       음식      I205    동남아시아   \n",
       "\n",
       "  상권업종소분류코드 상권업종소분류명 표준산업분류코드          표준산업분류명  시도코드      시도명  시군구코드     시군구명  \\\n",
       "0    I20501  베트남식 전문   I56194  김밥 및 기타 간이 음식점업    36  세종특별자치시  36110  세종특별자치시   \n",
       "\n",
       "      행정동코드 행정동명       법정동코드 법정동명                 지번코드  대지구분코드 대지구분명  지번본번지  \\\n",
       "0  36110518  나성동  3611010700  나성동  3611010700107320000       1    대지    732   \n",
       "\n",
       "   지번부번지                     지번주소         도로명코드                    도로명  건물본번지  \\\n",
       "0    NaN  세종특별자치시 세종특별자치시 나성동 732  361102000002  세종특별자치시 세종특별자치시 한누리대로    311   \n",
       "\n",
       "   건물부번지                     건물관리번호    건물명                      도로명주소  \\\n",
       "0    NaN  3611010700103610086000001  모닝시티2  세종특별자치시 세종특별자치시 한누리대로 311   \n",
       "\n",
       "      구우편번호  신우편번호  동정보  층정보  호정보         경도         위도  \n",
       "0  339003.0  30123  NaN  1.0  NaN  127.25584  36.492065  "
      ]
     },
     "execution_count": 26,
     "metadata": {},
     "output_type": "execute_result"
    }
   ],
   "source": [
    "# 판다스 디스플레이 옵션\n",
    "pd.options.display.max_columns = 39 # 39열까지 display 가능\n",
    "pd.options.display.max_rows = 40 # 40행까지display 가능\n",
    "df.head(1)"
   ]
  },
  {
   "cell_type": "code",
   "execution_count": 27,
   "id": "d54c3519",
   "metadata": {
    "ExecuteTime": {
     "end_time": "2024-11-25T08:38:18.618792Z",
     "start_time": "2024-11-25T08:38:18.606823Z"
    }
   },
   "outputs": [
    {
     "data": {
      "text/html": [
       "<div>\n",
       "<style scoped>\n",
       "    .dataframe tbody tr th:only-of-type {\n",
       "        vertical-align: middle;\n",
       "    }\n",
       "\n",
       "    .dataframe tbody tr th {\n",
       "        vertical-align: top;\n",
       "    }\n",
       "\n",
       "    .dataframe thead th {\n",
       "        text-align: right;\n",
       "    }\n",
       "</style>\n",
       "<table border=\"1\" class=\"dataframe\">\n",
       "  <thead>\n",
       "    <tr style=\"text-align: right;\">\n",
       "      <th></th>\n",
       "      <th>0</th>\n",
       "    </tr>\n",
       "  </thead>\n",
       "  <tbody>\n",
       "    <tr>\n",
       "      <th>상가업소번호</th>\n",
       "      <td>MA0101202210A0084499</td>\n",
       "    </tr>\n",
       "    <tr>\n",
       "      <th>상호명</th>\n",
       "      <td>베트남쌀국수퍼짱</td>\n",
       "    </tr>\n",
       "    <tr>\n",
       "      <th>지점명</th>\n",
       "      <td>NaN</td>\n",
       "    </tr>\n",
       "    <tr>\n",
       "      <th>상권업종대분류코드</th>\n",
       "      <td>I2</td>\n",
       "    </tr>\n",
       "    <tr>\n",
       "      <th>상권업종대분류명</th>\n",
       "      <td>음식</td>\n",
       "    </tr>\n",
       "    <tr>\n",
       "      <th>상권업종중분류코드</th>\n",
       "      <td>I205</td>\n",
       "    </tr>\n",
       "    <tr>\n",
       "      <th>상권업종중분류명</th>\n",
       "      <td>동남아시아</td>\n",
       "    </tr>\n",
       "    <tr>\n",
       "      <th>상권업종소분류코드</th>\n",
       "      <td>I20501</td>\n",
       "    </tr>\n",
       "    <tr>\n",
       "      <th>상권업종소분류명</th>\n",
       "      <td>베트남식 전문</td>\n",
       "    </tr>\n",
       "    <tr>\n",
       "      <th>표준산업분류코드</th>\n",
       "      <td>I56194</td>\n",
       "    </tr>\n",
       "    <tr>\n",
       "      <th>표준산업분류명</th>\n",
       "      <td>김밥 및 기타 간이 음식점업</td>\n",
       "    </tr>\n",
       "    <tr>\n",
       "      <th>시도코드</th>\n",
       "      <td>36</td>\n",
       "    </tr>\n",
       "    <tr>\n",
       "      <th>시도명</th>\n",
       "      <td>세종특별자치시</td>\n",
       "    </tr>\n",
       "    <tr>\n",
       "      <th>시군구코드</th>\n",
       "      <td>36110</td>\n",
       "    </tr>\n",
       "    <tr>\n",
       "      <th>시군구명</th>\n",
       "      <td>세종특별자치시</td>\n",
       "    </tr>\n",
       "    <tr>\n",
       "      <th>행정동코드</th>\n",
       "      <td>36110518</td>\n",
       "    </tr>\n",
       "    <tr>\n",
       "      <th>행정동명</th>\n",
       "      <td>나성동</td>\n",
       "    </tr>\n",
       "    <tr>\n",
       "      <th>법정동코드</th>\n",
       "      <td>3611010700</td>\n",
       "    </tr>\n",
       "    <tr>\n",
       "      <th>법정동명</th>\n",
       "      <td>나성동</td>\n",
       "    </tr>\n",
       "    <tr>\n",
       "      <th>지번코드</th>\n",
       "      <td>3611010700107320000</td>\n",
       "    </tr>\n",
       "    <tr>\n",
       "      <th>대지구분코드</th>\n",
       "      <td>1</td>\n",
       "    </tr>\n",
       "    <tr>\n",
       "      <th>대지구분명</th>\n",
       "      <td>대지</td>\n",
       "    </tr>\n",
       "    <tr>\n",
       "      <th>지번본번지</th>\n",
       "      <td>732</td>\n",
       "    </tr>\n",
       "    <tr>\n",
       "      <th>지번부번지</th>\n",
       "      <td>NaN</td>\n",
       "    </tr>\n",
       "    <tr>\n",
       "      <th>지번주소</th>\n",
       "      <td>세종특별자치시 세종특별자치시 나성동 732</td>\n",
       "    </tr>\n",
       "    <tr>\n",
       "      <th>도로명코드</th>\n",
       "      <td>361102000002</td>\n",
       "    </tr>\n",
       "    <tr>\n",
       "      <th>도로명</th>\n",
       "      <td>세종특별자치시 세종특별자치시 한누리대로</td>\n",
       "    </tr>\n",
       "    <tr>\n",
       "      <th>건물본번지</th>\n",
       "      <td>311</td>\n",
       "    </tr>\n",
       "    <tr>\n",
       "      <th>건물부번지</th>\n",
       "      <td>NaN</td>\n",
       "    </tr>\n",
       "    <tr>\n",
       "      <th>건물관리번호</th>\n",
       "      <td>3611010700103610086000001</td>\n",
       "    </tr>\n",
       "    <tr>\n",
       "      <th>건물명</th>\n",
       "      <td>모닝시티2</td>\n",
       "    </tr>\n",
       "    <tr>\n",
       "      <th>도로명주소</th>\n",
       "      <td>세종특별자치시 세종특별자치시 한누리대로 311</td>\n",
       "    </tr>\n",
       "    <tr>\n",
       "      <th>구우편번호</th>\n",
       "      <td>339003.0</td>\n",
       "    </tr>\n",
       "    <tr>\n",
       "      <th>신우편번호</th>\n",
       "      <td>30123</td>\n",
       "    </tr>\n",
       "    <tr>\n",
       "      <th>동정보</th>\n",
       "      <td>NaN</td>\n",
       "    </tr>\n",
       "    <tr>\n",
       "      <th>층정보</th>\n",
       "      <td>1.0</td>\n",
       "    </tr>\n",
       "    <tr>\n",
       "      <th>호정보</th>\n",
       "      <td>NaN</td>\n",
       "    </tr>\n",
       "    <tr>\n",
       "      <th>경도</th>\n",
       "      <td>127.25584</td>\n",
       "    </tr>\n",
       "    <tr>\n",
       "      <th>위도</th>\n",
       "      <td>36.492065</td>\n",
       "    </tr>\n",
       "  </tbody>\n",
       "</table>\n",
       "</div>"
      ],
      "text/plain": [
       "                                   0\n",
       "상가업소번호          MA0101202210A0084499\n",
       "상호명                         베트남쌀국수퍼짱\n",
       "지점명                              NaN\n",
       "상권업종대분류코드                         I2\n",
       "상권업종대분류명                          음식\n",
       "상권업종중분류코드                       I205\n",
       "상권업종중분류명                       동남아시아\n",
       "상권업종소분류코드                     I20501\n",
       "상권업종소분류명                     베트남식 전문\n",
       "표준산업분류코드                      I56194\n",
       "표준산업분류명              김밥 및 기타 간이 음식점업\n",
       "시도코드                              36\n",
       "시도명                          세종특별자치시\n",
       "시군구코드                          36110\n",
       "시군구명                         세종특별자치시\n",
       "행정동코드                       36110518\n",
       "행정동명                             나성동\n",
       "법정동코드                     3611010700\n",
       "법정동명                             나성동\n",
       "지번코드             3611010700107320000\n",
       "대지구분코드                             1\n",
       "대지구분명                             대지\n",
       "지번본번지                            732\n",
       "지번부번지                            NaN\n",
       "지번주소         세종특별자치시 세종특별자치시 나성동 732\n",
       "도로명코드                   361102000002\n",
       "도로명            세종특별자치시 세종특별자치시 한누리대로\n",
       "건물본번지                            311\n",
       "건물부번지                            NaN\n",
       "건물관리번호     3611010700103610086000001\n",
       "건물명                            모닝시티2\n",
       "도로명주소      세종특별자치시 세종특별자치시 한누리대로 311\n",
       "구우편번호                       339003.0\n",
       "신우편번호                          30123\n",
       "동정보                              NaN\n",
       "층정보                              1.0\n",
       "호정보                              NaN\n",
       "경도                         127.25584\n",
       "위도                         36.492065"
      ]
     },
     "execution_count": 27,
     "metadata": {},
     "output_type": "execute_result"
    }
   ],
   "source": [
    "df.head(1).T"
   ]
  },
  {
   "cell_type": "markdown",
   "id": "5cb0aea9",
   "metadata": {},
   "source": [
    "## 2.3 read_csv"
   ]
  },
  {
   "cell_type": "code",
   "execution_count": 28,
   "id": "15bba1dc",
   "metadata": {
    "ExecuteTime": {
     "end_time": "2024-11-25T08:38:18.635756Z",
     "start_time": "2024-11-25T08:38:18.622781Z"
    }
   },
   "outputs": [
    {
     "data": {
      "text/html": [
       "<div>\n",
       "<style scoped>\n",
       "    .dataframe tbody tr th:only-of-type {\n",
       "        vertical-align: middle;\n",
       "    }\n",
       "\n",
       "    .dataframe tbody tr th {\n",
       "        vertical-align: top;\n",
       "    }\n",
       "\n",
       "    .dataframe thead th {\n",
       "        text-align: right;\n",
       "    }\n",
       "</style>\n",
       "<table border=\"1\" class=\"dataframe\">\n",
       "  <thead>\n",
       "    <tr style=\"text-align: right;\">\n",
       "      <th></th>\n",
       "      <th>Name</th>\n",
       "      <th>Age</th>\n",
       "      <th>Email</th>\n",
       "      <th>Address</th>\n",
       "      <th>Birth</th>\n",
       "    </tr>\n",
       "  </thead>\n",
       "  <tbody>\n",
       "    <tr>\n",
       "      <th>0</th>\n",
       "      <td>홍길동</td>\n",
       "      <td>20</td>\n",
       "      <td>hong@hong.com</td>\n",
       "      <td>서울시 강동구</td>\n",
       "      <td>1999-01-01</td>\n",
       "    </tr>\n",
       "    <tr>\n",
       "      <th>1</th>\n",
       "      <td>홍길서</td>\n",
       "      <td>30</td>\n",
       "      <td>seo@hong.com</td>\n",
       "      <td>서울시 중구</td>\n",
       "      <td>1999-12-01</td>\n",
       "    </tr>\n",
       "    <tr>\n",
       "      <th>2</th>\n",
       "      <td>홍길남</td>\n",
       "      <td>21</td>\n",
       "      <td>nam@hong.com</td>\n",
       "      <td>서울시 강동구</td>\n",
       "      <td>1999-11-01</td>\n",
       "    </tr>\n",
       "    <tr>\n",
       "      <th>3</th>\n",
       "      <td>홍길북</td>\n",
       "      <td>22</td>\n",
       "      <td>buk@hong.com</td>\n",
       "      <td>서울시 관악구</td>\n",
       "      <td>1999-05-01</td>\n",
       "    </tr>\n",
       "    <tr>\n",
       "      <th>4</th>\n",
       "      <td>홍길중</td>\n",
       "      <td>23</td>\n",
       "      <td>mid@hong.com</td>\n",
       "      <td>부산시 중구</td>\n",
       "      <td>1999-01-30</td>\n",
       "    </tr>\n",
       "    <tr>\n",
       "      <th>5</th>\n",
       "      <td>#홍길뜽</td>\n",
       "      <td>24</td>\n",
       "      <td>non@not.com</td>\n",
       "      <td>없는구</td>\n",
       "      <td>2000-01-01</td>\n",
       "    </tr>\n",
       "  </tbody>\n",
       "</table>\n",
       "</div>"
      ],
      "text/plain": [
       "   Name  Age          Email  Address       Birth\n",
       "0   홍길동   20  hong@hong.com  서울시 강동구  1999-01-01\n",
       "1   홍길서   30   seo@hong.com   서울시 중구  1999-12-01\n",
       "2   홍길남   21   nam@hong.com  서울시 강동구  1999-11-01\n",
       "3   홍길북   22   buk@hong.com  서울시 관악구  1999-05-01\n",
       "4   홍길중   23   mid@hong.com   부산시 중구  1999-01-30\n",
       "5  #홍길뜽   24    non@not.com      없는구  2000-01-01"
      ]
     },
     "execution_count": 28,
     "metadata": {},
     "output_type": "execute_result"
    }
   ],
   "source": [
    "# (1) CSV 파일 불러오기(기본값)\n",
    "member = pd.read_csv('data/ch12_member.csv'\n",
    "                     #, encoding='utf-8', sep=',' # 기본값\n",
    "                    )\n",
    "member"
   ]
  },
  {
   "cell_type": "code",
   "execution_count": 29,
   "id": "6fbe0e2f",
   "metadata": {
    "ExecuteTime": {
     "end_time": "2024-11-25T08:38:18.651703Z",
     "start_time": "2024-11-25T08:38:18.639735Z"
    }
   },
   "outputs": [
    {
     "name": "stdout",
     "output_type": "stream",
     "text": [
      "<class 'pandas.core.frame.DataFrame'>\n",
      "RangeIndex: 6 entries, 0 to 5\n",
      "Data columns (total 5 columns):\n",
      " #   Column   Non-Null Count  Dtype \n",
      "---  ------   --------------  ----- \n",
      " 0   Name     6 non-null      object\n",
      " 1   Age      6 non-null      int64 \n",
      " 2   Email    6 non-null      object\n",
      " 3   Address  6 non-null      object\n",
      " 4   Birth    6 non-null      object\n",
      "dtypes: int64(1), object(4)\n",
      "memory usage: 368.0+ bytes\n"
     ]
    }
   ],
   "source": [
    "member.info()"
   ]
  },
  {
   "cell_type": "code",
   "execution_count": 30,
   "id": "f586da7d",
   "metadata": {
    "ExecuteTime": {
     "end_time": "2024-11-25T08:38:18.667660Z",
     "start_time": "2024-11-25T08:38:18.655692Z"
    }
   },
   "outputs": [
    {
     "name": "stdout",
     "output_type": "stream",
     "text": [
      "<class 'pandas.core.frame.DataFrame'>\n",
      "RangeIndex: 6 entries, 0 to 5\n",
      "Data columns (total 5 columns):\n",
      " #   Column   Non-Null Count  Dtype         \n",
      "---  ------   --------------  -----         \n",
      " 0   Name     6 non-null      object        \n",
      " 1   Age      6 non-null      int64         \n",
      " 2   Email    6 non-null      object        \n",
      " 3   Address  6 non-null      object        \n",
      " 4   Birth    6 non-null      datetime64[ns]\n",
      "dtypes: datetime64[ns](1), int64(1), object(3)\n",
      "memory usage: 368.0+ bytes\n"
     ]
    }
   ],
   "source": [
    "# 문자로 읽어들인 Birth를 datatime형으로\n",
    "# 형변환은 astype()을 쓰지만 datetime형으로 변환할 때는 to_datetime() 함수를 사용\n",
    "member['Birth'] = pd.to_datetime(member['Birth'])\n",
    "member.info()"
   ]
  },
  {
   "cell_type": "code",
   "execution_count": 31,
   "id": "75cc8181",
   "metadata": {
    "ExecuteTime": {
     "end_time": "2024-11-25T08:38:18.678631Z",
     "start_time": "2024-11-25T08:38:18.669655Z"
    }
   },
   "outputs": [
    {
     "data": {
      "text/plain": [
       "Name               object\n",
       "Age                 int16\n",
       "Email              object\n",
       "Address            object\n",
       "Birth      datetime64[ns]\n",
       "dtype: object"
      ]
     },
     "execution_count": 31,
     "metadata": {},
     "output_type": "execute_result"
    }
   ],
   "source": [
    "import numpy as np\n",
    "member['Age'] = member['Age'].astype(np.int16)\n",
    "member.dtypes"
   ]
  },
  {
   "cell_type": "code",
   "execution_count": 32,
   "id": "05637577",
   "metadata": {
    "ExecuteTime": {
     "end_time": "2024-11-25T08:38:18.696888Z",
     "start_time": "2024-11-25T08:38:18.682621Z"
    }
   },
   "outputs": [
    {
     "data": {
      "text/html": [
       "<div>\n",
       "<style scoped>\n",
       "    .dataframe tbody tr th:only-of-type {\n",
       "        vertical-align: middle;\n",
       "    }\n",
       "\n",
       "    .dataframe tbody tr th {\n",
       "        vertical-align: top;\n",
       "    }\n",
       "\n",
       "    .dataframe thead th {\n",
       "        text-align: right;\n",
       "    }\n",
       "</style>\n",
       "<table border=\"1\" class=\"dataframe\">\n",
       "  <thead>\n",
       "    <tr style=\"text-align: right;\">\n",
       "      <th></th>\n",
       "      <th>Name</th>\n",
       "      <th>Age</th>\n",
       "      <th>Email</th>\n",
       "      <th>Address</th>\n",
       "      <th>Birth</th>\n",
       "    </tr>\n",
       "  </thead>\n",
       "  <tbody>\n",
       "    <tr>\n",
       "      <th>0</th>\n",
       "      <td>홍길서</td>\n",
       "      <td>30</td>\n",
       "      <td>seo@hong.com</td>\n",
       "      <td>서울시 중구</td>\n",
       "      <td>1999-12-01</td>\n",
       "    </tr>\n",
       "    <tr>\n",
       "      <th>1</th>\n",
       "      <td>홍길남</td>\n",
       "      <td>21</td>\n",
       "      <td>nam@hong.com</td>\n",
       "      <td>서울시 강동구</td>\n",
       "      <td>1999-11-01</td>\n",
       "    </tr>\n",
       "    <tr>\n",
       "      <th>2</th>\n",
       "      <td>홍길북</td>\n",
       "      <td>22</td>\n",
       "      <td>buk@hong.com</td>\n",
       "      <td>서울시 관악구</td>\n",
       "      <td>1999-05-01</td>\n",
       "    </tr>\n",
       "    <tr>\n",
       "      <th>3</th>\n",
       "      <td>홍길중</td>\n",
       "      <td>23</td>\n",
       "      <td>mid@hong.com</td>\n",
       "      <td>부산시 중구</td>\n",
       "      <td>1999-01-30</td>\n",
       "    </tr>\n",
       "  </tbody>\n",
       "</table>\n",
       "</div>"
      ],
      "text/plain": [
       "  Name  Age         Email  Address       Birth\n",
       "0  홍길서   30  seo@hong.com   서울시 중구  1999-12-01\n",
       "1  홍길남   21  nam@hong.com  서울시 강동구  1999-11-01\n",
       "2  홍길북   22  buk@hong.com  서울시 관악구  1999-05-01\n",
       "3  홍길중   23  mid@hong.com   부산시 중구  1999-01-30"
      ]
     },
     "execution_count": 32,
     "metadata": {},
     "output_type": "execute_result"
    }
   ],
   "source": [
    "# (2) 특정행 제외하고 csv파일 읽어오기\n",
    "member = pd.read_csv('data/ch12_membercp949.csv', encoding='cp949',\n",
    "                    skiprows=[1,6]) # 1,6번째 행 제외하고 읽어오기(시작이 1부터)\n",
    "member"
   ]
  },
  {
   "cell_type": "code",
   "execution_count": 33,
   "id": "7875afa4",
   "metadata": {
    "ExecuteTime": {
     "end_time": "2024-11-25T08:38:18.722819Z",
     "start_time": "2024-11-25T08:38:18.708856Z"
    }
   },
   "outputs": [
    {
     "data": {
      "text/html": [
       "<div>\n",
       "<style scoped>\n",
       "    .dataframe tbody tr th:only-of-type {\n",
       "        vertical-align: middle;\n",
       "    }\n",
       "\n",
       "    .dataframe tbody tr th {\n",
       "        vertical-align: top;\n",
       "    }\n",
       "\n",
       "    .dataframe thead th {\n",
       "        text-align: right;\n",
       "    }\n",
       "</style>\n",
       "<table border=\"1\" class=\"dataframe\">\n",
       "  <thead>\n",
       "    <tr style=\"text-align: right;\">\n",
       "      <th></th>\n",
       "      <th>Name</th>\n",
       "      <th>Age</th>\n",
       "      <th>Email</th>\n",
       "      <th>Address</th>\n",
       "      <th>Birth</th>\n",
       "    </tr>\n",
       "  </thead>\n",
       "  <tbody>\n",
       "    <tr>\n",
       "      <th>0</th>\n",
       "      <td>홍길동</td>\n",
       "      <td>20</td>\n",
       "      <td>hong@hong.com</td>\n",
       "      <td>서울시 강동구</td>\n",
       "      <td>1999-01-01</td>\n",
       "    </tr>\n",
       "    <tr>\n",
       "      <th>1</th>\n",
       "      <td>홍길서</td>\n",
       "      <td>30</td>\n",
       "      <td>seo@hong.com</td>\n",
       "      <td>서울시 중구</td>\n",
       "      <td>1999-12-01</td>\n",
       "    </tr>\n",
       "    <tr>\n",
       "      <th>2</th>\n",
       "      <td>홍길남</td>\n",
       "      <td>21</td>\n",
       "      <td>nam@hong.com</td>\n",
       "      <td>서울시 강동구</td>\n",
       "      <td>1999-11-01</td>\n",
       "    </tr>\n",
       "    <tr>\n",
       "      <th>3</th>\n",
       "      <td>홍길북</td>\n",
       "      <td>22</td>\n",
       "      <td>buk@hong.com</td>\n",
       "      <td>서울시 관악구</td>\n",
       "      <td>1999-05-01</td>\n",
       "    </tr>\n",
       "    <tr>\n",
       "      <th>4</th>\n",
       "      <td>홍길중</td>\n",
       "      <td>23</td>\n",
       "      <td>mid@hong.com</td>\n",
       "      <td>부산시 중구</td>\n",
       "      <td>1999-01-30</td>\n",
       "    </tr>\n",
       "  </tbody>\n",
       "</table>\n",
       "</div>"
      ],
      "text/plain": [
       "  Name  Age          Email  Address       Birth\n",
       "0  홍길동   20  hong@hong.com  서울시 강동구  1999-01-01\n",
       "1  홍길서   30   seo@hong.com   서울시 중구  1999-12-01\n",
       "2  홍길남   21   nam@hong.com  서울시 강동구  1999-11-01\n",
       "3  홍길북   22   buk@hong.com  서울시 관악구  1999-05-01\n",
       "4  홍길중   23   mid@hong.com   부산시 중구  1999-01-30"
      ]
     },
     "execution_count": 33,
     "metadata": {},
     "output_type": "execute_result"
    }
   ],
   "source": [
    "# (3) 상위 몇 행만 csv 파일 읽어오기\n",
    "member_df = pd.read_csv('data/ch12_membersep.csv', sep='|', nrows=5) # 상위 5행만 읽어오기\n",
    "member_df"
   ]
  },
  {
   "cell_type": "code",
   "execution_count": 34,
   "id": "10c8643c",
   "metadata": {
    "ExecuteTime": {
     "end_time": "2024-11-25T08:38:18.739470Z",
     "start_time": "2024-11-25T08:38:18.724818Z"
    }
   },
   "outputs": [
    {
     "name": "stdout",
     "output_type": "stream",
     "text": [
      "<class 'pandas.core.frame.DataFrame'>\n",
      "RangeIndex: 5 entries, 0 to 4\n",
      "Data columns (total 5 columns):\n",
      " #   Column   Non-Null Count  Dtype         \n",
      "---  ------   --------------  -----         \n",
      " 0   Name     5 non-null      object        \n",
      " 1   Age      5 non-null      int64         \n",
      " 2   Email    5 non-null      object        \n",
      " 3   Address  5 non-null      object        \n",
      " 4   Birth    5 non-null      datetime64[ns]\n",
      "dtypes: datetime64[ns](1), int64(1), object(3)\n",
      "memory usage: 328.0+ bytes\n"
     ]
    }
   ],
   "source": [
    "# 주석제외, datetime형 필드 지정하여 읽어오기 \n",
    "member_df = pd.read_csv('data/ch12_membertab.csv', sep='\\t',\n",
    "                       comment='#', # #이 있는 행은 제외하고 읽어오기\n",
    "                       parse_dates=['Birth']) # datetime형으로 읽어올 필드 지정\n",
    "member_df.info()"
   ]
  },
  {
   "cell_type": "markdown",
   "id": "605cdb1d",
   "metadata": {},
   "source": [
    "## iris 데이터 가져오기 방법1: sklearn(머신러닝패키지)\n",
    "## iris 데이터 가져오기 방법2: statsmodels(R데이터 가져오기)\n",
    "## iris 데이터 가져오기 방법3: seaborn(시각화 패키지)"
   ]
  },
  {
   "cell_type": "markdown",
   "id": "1f2f20eb",
   "metadata": {},
   "source": [
    "## 2.4 sklearn.datasets 모듈 데이터(iris)를 데이터 프레임으로 변환"
   ]
  },
  {
   "cell_type": "code",
   "execution_count": 35,
   "id": "6797de0f",
   "metadata": {
    "ExecuteTime": {
     "end_time": "2024-11-25T08:38:19.842130Z",
     "start_time": "2024-11-25T08:38:18.741460Z"
    }
   },
   "outputs": [
    {
     "data": {
      "text/plain": [
       "{'data': array([[5.1, 3.5, 1.4, 0.2],\n",
       "        [4.9, 3. , 1.4, 0.2],\n",
       "        [4.7, 3.2, 1.3, 0.2],\n",
       "        [4.6, 3.1, 1.5, 0.2],\n",
       "        [5. , 3.6, 1.4, 0.2],\n",
       "        [5.4, 3.9, 1.7, 0.4],\n",
       "        [4.6, 3.4, 1.4, 0.3],\n",
       "        [5. , 3.4, 1.5, 0.2],\n",
       "        [4.4, 2.9, 1.4, 0.2],\n",
       "        [4.9, 3.1, 1.5, 0.1],\n",
       "        [5.4, 3.7, 1.5, 0.2],\n",
       "        [4.8, 3.4, 1.6, 0.2],\n",
       "        [4.8, 3. , 1.4, 0.1],\n",
       "        [4.3, 3. , 1.1, 0.1],\n",
       "        [5.8, 4. , 1.2, 0.2],\n",
       "        [5.7, 4.4, 1.5, 0.4],\n",
       "        [5.4, 3.9, 1.3, 0.4],\n",
       "        [5.1, 3.5, 1.4, 0.3],\n",
       "        [5.7, 3.8, 1.7, 0.3],\n",
       "        [5.1, 3.8, 1.5, 0.3],\n",
       "        [5.4, 3.4, 1.7, 0.2],\n",
       "        [5.1, 3.7, 1.5, 0.4],\n",
       "        [4.6, 3.6, 1. , 0.2],\n",
       "        [5.1, 3.3, 1.7, 0.5],\n",
       "        [4.8, 3.4, 1.9, 0.2],\n",
       "        [5. , 3. , 1.6, 0.2],\n",
       "        [5. , 3.4, 1.6, 0.4],\n",
       "        [5.2, 3.5, 1.5, 0.2],\n",
       "        [5.2, 3.4, 1.4, 0.2],\n",
       "        [4.7, 3.2, 1.6, 0.2],\n",
       "        [4.8, 3.1, 1.6, 0.2],\n",
       "        [5.4, 3.4, 1.5, 0.4],\n",
       "        [5.2, 4.1, 1.5, 0.1],\n",
       "        [5.5, 4.2, 1.4, 0.2],\n",
       "        [4.9, 3.1, 1.5, 0.2],\n",
       "        [5. , 3.2, 1.2, 0.2],\n",
       "        [5.5, 3.5, 1.3, 0.2],\n",
       "        [4.9, 3.6, 1.4, 0.1],\n",
       "        [4.4, 3. , 1.3, 0.2],\n",
       "        [5.1, 3.4, 1.5, 0.2],\n",
       "        [5. , 3.5, 1.3, 0.3],\n",
       "        [4.5, 2.3, 1.3, 0.3],\n",
       "        [4.4, 3.2, 1.3, 0.2],\n",
       "        [5. , 3.5, 1.6, 0.6],\n",
       "        [5.1, 3.8, 1.9, 0.4],\n",
       "        [4.8, 3. , 1.4, 0.3],\n",
       "        [5.1, 3.8, 1.6, 0.2],\n",
       "        [4.6, 3.2, 1.4, 0.2],\n",
       "        [5.3, 3.7, 1.5, 0.2],\n",
       "        [5. , 3.3, 1.4, 0.2],\n",
       "        [7. , 3.2, 4.7, 1.4],\n",
       "        [6.4, 3.2, 4.5, 1.5],\n",
       "        [6.9, 3.1, 4.9, 1.5],\n",
       "        [5.5, 2.3, 4. , 1.3],\n",
       "        [6.5, 2.8, 4.6, 1.5],\n",
       "        [5.7, 2.8, 4.5, 1.3],\n",
       "        [6.3, 3.3, 4.7, 1.6],\n",
       "        [4.9, 2.4, 3.3, 1. ],\n",
       "        [6.6, 2.9, 4.6, 1.3],\n",
       "        [5.2, 2.7, 3.9, 1.4],\n",
       "        [5. , 2. , 3.5, 1. ],\n",
       "        [5.9, 3. , 4.2, 1.5],\n",
       "        [6. , 2.2, 4. , 1. ],\n",
       "        [6.1, 2.9, 4.7, 1.4],\n",
       "        [5.6, 2.9, 3.6, 1.3],\n",
       "        [6.7, 3.1, 4.4, 1.4],\n",
       "        [5.6, 3. , 4.5, 1.5],\n",
       "        [5.8, 2.7, 4.1, 1. ],\n",
       "        [6.2, 2.2, 4.5, 1.5],\n",
       "        [5.6, 2.5, 3.9, 1.1],\n",
       "        [5.9, 3.2, 4.8, 1.8],\n",
       "        [6.1, 2.8, 4. , 1.3],\n",
       "        [6.3, 2.5, 4.9, 1.5],\n",
       "        [6.1, 2.8, 4.7, 1.2],\n",
       "        [6.4, 2.9, 4.3, 1.3],\n",
       "        [6.6, 3. , 4.4, 1.4],\n",
       "        [6.8, 2.8, 4.8, 1.4],\n",
       "        [6.7, 3. , 5. , 1.7],\n",
       "        [6. , 2.9, 4.5, 1.5],\n",
       "        [5.7, 2.6, 3.5, 1. ],\n",
       "        [5.5, 2.4, 3.8, 1.1],\n",
       "        [5.5, 2.4, 3.7, 1. ],\n",
       "        [5.8, 2.7, 3.9, 1.2],\n",
       "        [6. , 2.7, 5.1, 1.6],\n",
       "        [5.4, 3. , 4.5, 1.5],\n",
       "        [6. , 3.4, 4.5, 1.6],\n",
       "        [6.7, 3.1, 4.7, 1.5],\n",
       "        [6.3, 2.3, 4.4, 1.3],\n",
       "        [5.6, 3. , 4.1, 1.3],\n",
       "        [5.5, 2.5, 4. , 1.3],\n",
       "        [5.5, 2.6, 4.4, 1.2],\n",
       "        [6.1, 3. , 4.6, 1.4],\n",
       "        [5.8, 2.6, 4. , 1.2],\n",
       "        [5. , 2.3, 3.3, 1. ],\n",
       "        [5.6, 2.7, 4.2, 1.3],\n",
       "        [5.7, 3. , 4.2, 1.2],\n",
       "        [5.7, 2.9, 4.2, 1.3],\n",
       "        [6.2, 2.9, 4.3, 1.3],\n",
       "        [5.1, 2.5, 3. , 1.1],\n",
       "        [5.7, 2.8, 4.1, 1.3],\n",
       "        [6.3, 3.3, 6. , 2.5],\n",
       "        [5.8, 2.7, 5.1, 1.9],\n",
       "        [7.1, 3. , 5.9, 2.1],\n",
       "        [6.3, 2.9, 5.6, 1.8],\n",
       "        [6.5, 3. , 5.8, 2.2],\n",
       "        [7.6, 3. , 6.6, 2.1],\n",
       "        [4.9, 2.5, 4.5, 1.7],\n",
       "        [7.3, 2.9, 6.3, 1.8],\n",
       "        [6.7, 2.5, 5.8, 1.8],\n",
       "        [7.2, 3.6, 6.1, 2.5],\n",
       "        [6.5, 3.2, 5.1, 2. ],\n",
       "        [6.4, 2.7, 5.3, 1.9],\n",
       "        [6.8, 3. , 5.5, 2.1],\n",
       "        [5.7, 2.5, 5. , 2. ],\n",
       "        [5.8, 2.8, 5.1, 2.4],\n",
       "        [6.4, 3.2, 5.3, 2.3],\n",
       "        [6.5, 3. , 5.5, 1.8],\n",
       "        [7.7, 3.8, 6.7, 2.2],\n",
       "        [7.7, 2.6, 6.9, 2.3],\n",
       "        [6. , 2.2, 5. , 1.5],\n",
       "        [6.9, 3.2, 5.7, 2.3],\n",
       "        [5.6, 2.8, 4.9, 2. ],\n",
       "        [7.7, 2.8, 6.7, 2. ],\n",
       "        [6.3, 2.7, 4.9, 1.8],\n",
       "        [6.7, 3.3, 5.7, 2.1],\n",
       "        [7.2, 3.2, 6. , 1.8],\n",
       "        [6.2, 2.8, 4.8, 1.8],\n",
       "        [6.1, 3. , 4.9, 1.8],\n",
       "        [6.4, 2.8, 5.6, 2.1],\n",
       "        [7.2, 3. , 5.8, 1.6],\n",
       "        [7.4, 2.8, 6.1, 1.9],\n",
       "        [7.9, 3.8, 6.4, 2. ],\n",
       "        [6.4, 2.8, 5.6, 2.2],\n",
       "        [6.3, 2.8, 5.1, 1.5],\n",
       "        [6.1, 2.6, 5.6, 1.4],\n",
       "        [7.7, 3. , 6.1, 2.3],\n",
       "        [6.3, 3.4, 5.6, 2.4],\n",
       "        [6.4, 3.1, 5.5, 1.8],\n",
       "        [6. , 3. , 4.8, 1.8],\n",
       "        [6.9, 3.1, 5.4, 2.1],\n",
       "        [6.7, 3.1, 5.6, 2.4],\n",
       "        [6.9, 3.1, 5.1, 2.3],\n",
       "        [5.8, 2.7, 5.1, 1.9],\n",
       "        [6.8, 3.2, 5.9, 2.3],\n",
       "        [6.7, 3.3, 5.7, 2.5],\n",
       "        [6.7, 3. , 5.2, 2.3],\n",
       "        [6.3, 2.5, 5. , 1.9],\n",
       "        [6.5, 3. , 5.2, 2. ],\n",
       "        [6.2, 3.4, 5.4, 2.3],\n",
       "        [5.9, 3. , 5.1, 1.8]]),\n",
       " 'target': array([0, 0, 0, 0, 0, 0, 0, 0, 0, 0, 0, 0, 0, 0, 0, 0, 0, 0, 0, 0, 0, 0,\n",
       "        0, 0, 0, 0, 0, 0, 0, 0, 0, 0, 0, 0, 0, 0, 0, 0, 0, 0, 0, 0, 0, 0,\n",
       "        0, 0, 0, 0, 0, 0, 1, 1, 1, 1, 1, 1, 1, 1, 1, 1, 1, 1, 1, 1, 1, 1,\n",
       "        1, 1, 1, 1, 1, 1, 1, 1, 1, 1, 1, 1, 1, 1, 1, 1, 1, 1, 1, 1, 1, 1,\n",
       "        1, 1, 1, 1, 1, 1, 1, 1, 1, 1, 1, 1, 2, 2, 2, 2, 2, 2, 2, 2, 2, 2,\n",
       "        2, 2, 2, 2, 2, 2, 2, 2, 2, 2, 2, 2, 2, 2, 2, 2, 2, 2, 2, 2, 2, 2,\n",
       "        2, 2, 2, 2, 2, 2, 2, 2, 2, 2, 2, 2, 2, 2, 2, 2, 2, 2]),\n",
       " 'frame': None,\n",
       " 'target_names': array(['setosa', 'versicolor', 'virginica'], dtype='<U10'),\n",
       " 'DESCR': '.. _iris_dataset:\\n\\nIris plants dataset\\n--------------------\\n\\n**Data Set Characteristics:**\\n\\n    :Number of Instances: 150 (50 in each of three classes)\\n    :Number of Attributes: 4 numeric, predictive attributes and the class\\n    :Attribute Information:\\n        - sepal length in cm\\n        - sepal width in cm\\n        - petal length in cm\\n        - petal width in cm\\n        - class:\\n                - Iris-Setosa\\n                - Iris-Versicolour\\n                - Iris-Virginica\\n                \\n    :Summary Statistics:\\n\\n    ============== ==== ==== ======= ===== ====================\\n                    Min  Max   Mean    SD   Class Correlation\\n    ============== ==== ==== ======= ===== ====================\\n    sepal length:   4.3  7.9   5.84   0.83    0.7826\\n    sepal width:    2.0  4.4   3.05   0.43   -0.4194\\n    petal length:   1.0  6.9   3.76   1.76    0.9490  (high!)\\n    petal width:    0.1  2.5   1.20   0.76    0.9565  (high!)\\n    ============== ==== ==== ======= ===== ====================\\n\\n    :Missing Attribute Values: None\\n    :Class Distribution: 33.3% for each of 3 classes.\\n    :Creator: R.A. Fisher\\n    :Donor: Michael Marshall (MARSHALL%PLU@io.arc.nasa.gov)\\n    :Date: July, 1988\\n\\nThe famous Iris database, first used by Sir R.A. Fisher. The dataset is taken\\nfrom Fisher\\'s paper. Note that it\\'s the same as in R, but not as in the UCI\\nMachine Learning Repository, which has two wrong data points.\\n\\nThis is perhaps the best known database to be found in the\\npattern recognition literature.  Fisher\\'s paper is a classic in the field and\\nis referenced frequently to this day.  (See Duda & Hart, for example.)  The\\ndata set contains 3 classes of 50 instances each, where each class refers to a\\ntype of iris plant.  One class is linearly separable from the other 2; the\\nlatter are NOT linearly separable from each other.\\n\\n.. topic:: References\\n\\n   - Fisher, R.A. \"The use of multiple measurements in taxonomic problems\"\\n     Annual Eugenics, 7, Part II, 179-188 (1936); also in \"Contributions to\\n     Mathematical Statistics\" (John Wiley, NY, 1950).\\n   - Duda, R.O., & Hart, P.E. (1973) Pattern Classification and Scene Analysis.\\n     (Q327.D83) John Wiley & Sons.  ISBN 0-471-22361-1.  See page 218.\\n   - Dasarathy, B.V. (1980) \"Nosing Around the Neighborhood: A New System\\n     Structure and Classification Rule for Recognition in Partially Exposed\\n     Environments\".  IEEE Transactions on Pattern Analysis and Machine\\n     Intelligence, Vol. PAMI-2, No. 1, 67-71.\\n   - Gates, G.W. (1972) \"The Reduced Nearest Neighbor Rule\".  IEEE Transactions\\n     on Information Theory, May 1972, 431-433.\\n   - See also: 1988 MLC Proceedings, 54-64.  Cheeseman et al\"s AUTOCLASS II\\n     conceptual clustering system finds 3 classes in the data.\\n   - Many, many more ...',\n",
       " 'feature_names': ['sepal length (cm)',\n",
       "  'sepal width (cm)',\n",
       "  'petal length (cm)',\n",
       "  'petal width (cm)'],\n",
       " 'filename': 'iris.csv',\n",
       " 'data_module': 'sklearn.datasets.data'}"
      ]
     },
     "execution_count": 35,
     "metadata": {},
     "output_type": "execute_result"
    }
   ],
   "source": [
    "from sklearn import datasets\n",
    "# import sklearn.datasets as datasets\n",
    "# sklearn 패키지는 머신러닝을 공부하기 위한, 학습 데이터셋들을 제공\n",
    "# sklearn 패키지에서 제공되는 데이터셋들은 딕셔너리 형식으로 제공\n",
    "iris = datasets.load_iris()\n",
    "iris # 딕셔너리 형태"
   ]
  },
  {
   "cell_type": "code",
   "execution_count": 36,
   "id": "95318847",
   "metadata": {
    "ExecuteTime": {
     "end_time": "2024-11-25T08:38:19.851114Z",
     "start_time": "2024-11-25T08:38:19.845123Z"
    }
   },
   "outputs": [
    {
     "name": "stdout",
     "output_type": "stream",
     "text": [
      ".. _iris_dataset:\n",
      "\n",
      "Iris plants dataset\n",
      "--------------------\n",
      "\n",
      "**Data Set Characteristics:**\n",
      "\n",
      "    :Number of Instances: 150 (50 in each of three classes)\n",
      "    :Number of Attributes: 4 numeric, predictive attributes and the class\n",
      "    :Attribute Information:\n",
      "        - sepal length in cm\n",
      "        - sepal width in cm\n",
      "        - petal length in cm\n",
      "        - petal width in cm\n",
      "        - class:\n",
      "                - Iris-Setosa\n",
      "                - Iris-Versicolour\n",
      "                - Iris-Virginica\n",
      "                \n",
      "    :Summary Statistics:\n",
      "\n",
      "    ============== ==== ==== ======= ===== ====================\n",
      "                    Min  Max   Mean    SD   Class Correlation\n",
      "    ============== ==== ==== ======= ===== ====================\n",
      "    sepal length:   4.3  7.9   5.84   0.83    0.7826\n",
      "    sepal width:    2.0  4.4   3.05   0.43   -0.4194\n",
      "    petal length:   1.0  6.9   3.76   1.76    0.9490  (high!)\n",
      "    petal width:    0.1  2.5   1.20   0.76    0.9565  (high!)\n",
      "    ============== ==== ==== ======= ===== ====================\n",
      "\n",
      "    :Missing Attribute Values: None\n",
      "    :Class Distribution: 33.3% for each of 3 classes.\n",
      "    :Creator: R.A. Fisher\n",
      "    :Donor: Michael Marshall (MARSHALL%PLU@io.arc.nasa.gov)\n",
      "    :Date: July, 1988\n",
      "\n",
      "The famous Iris database, first used by Sir R.A. Fisher. The dataset is taken\n",
      "from Fisher's paper. Note that it's the same as in R, but not as in the UCI\n",
      "Machine Learning Repository, which has two wrong data points.\n",
      "\n",
      "This is perhaps the best known database to be found in the\n",
      "pattern recognition literature.  Fisher's paper is a classic in the field and\n",
      "is referenced frequently to this day.  (See Duda & Hart, for example.)  The\n",
      "data set contains 3 classes of 50 instances each, where each class refers to a\n",
      "type of iris plant.  One class is linearly separable from the other 2; the\n",
      "latter are NOT linearly separable from each other.\n",
      "\n",
      ".. topic:: References\n",
      "\n",
      "   - Fisher, R.A. \"The use of multiple measurements in taxonomic problems\"\n",
      "     Annual Eugenics, 7, Part II, 179-188 (1936); also in \"Contributions to\n",
      "     Mathematical Statistics\" (John Wiley, NY, 1950).\n",
      "   - Duda, R.O., & Hart, P.E. (1973) Pattern Classification and Scene Analysis.\n",
      "     (Q327.D83) John Wiley & Sons.  ISBN 0-471-22361-1.  See page 218.\n",
      "   - Dasarathy, B.V. (1980) \"Nosing Around the Neighborhood: A New System\n",
      "     Structure and Classification Rule for Recognition in Partially Exposed\n",
      "     Environments\".  IEEE Transactions on Pattern Analysis and Machine\n",
      "     Intelligence, Vol. PAMI-2, No. 1, 67-71.\n",
      "   - Gates, G.W. (1972) \"The Reduced Nearest Neighbor Rule\".  IEEE Transactions\n",
      "     on Information Theory, May 1972, 431-433.\n",
      "   - See also: 1988 MLC Proceedings, 54-64.  Cheeseman et al\"s AUTOCLASS II\n",
      "     conceptual clustering system finds 3 classes in the data.\n",
      "   - Many, many more ...\n"
     ]
    }
   ],
   "source": [
    "print(iris.DESCR) # iris 데이터 셋에 대한 설명"
   ]
  },
  {
   "cell_type": "code",
   "execution_count": 37,
   "id": "2ea31a88",
   "metadata": {
    "ExecuteTime": {
     "end_time": "2024-11-25T08:38:19.861107Z",
     "start_time": "2024-11-25T08:38:19.854099Z"
    }
   },
   "outputs": [
    {
     "data": {
      "text/plain": [
       "array([[5.1, 3.5, 1.4, 0.2],\n",
       "       [4.9, 3. , 1.4, 0.2],\n",
       "       [4.7, 3.2, 1.3, 0.2]])"
      ]
     },
     "execution_count": 37,
     "metadata": {},
     "output_type": "execute_result"
    }
   ],
   "source": [
    "iris.data # 독립변수\n",
    "iris['data'][:3]"
   ]
  },
  {
   "cell_type": "code",
   "execution_count": 38,
   "id": "214d9bd3",
   "metadata": {
    "ExecuteTime": {
     "end_time": "2024-11-25T08:38:19.871066Z",
     "start_time": "2024-11-25T08:38:19.864072Z"
    }
   },
   "outputs": [
    {
     "data": {
      "text/plain": [
       "['sepal length (cm)',\n",
       " 'sepal width (cm)',\n",
       " 'petal length (cm)',\n",
       " 'petal width (cm)']"
      ]
     },
     "execution_count": 38,
     "metadata": {},
     "output_type": "execute_result"
    }
   ],
   "source": [
    "iris.feature_names # 독립변수 열이름\n",
    "iris['feature_names']"
   ]
  },
  {
   "cell_type": "code",
   "execution_count": 39,
   "id": "d07f0f68",
   "metadata": {
    "ExecuteTime": {
     "end_time": "2024-11-25T08:38:19.885353Z",
     "start_time": "2024-11-25T08:38:19.874045Z"
    }
   },
   "outputs": [
    {
     "data": {
      "text/plain": [
       "['sepal_length', 'sepal_width', 'petal_length', 'petal_width']"
      ]
     },
     "execution_count": 39,
     "metadata": {},
     "output_type": "execute_result"
    }
   ],
   "source": [
    "# 데이터 프레임에서 열이름\n",
    "[col[:-4].strip().replace(' ', '_') for col in iris.feature_names]"
   ]
  },
  {
   "cell_type": "code",
   "execution_count": 40,
   "id": "fbe066b6",
   "metadata": {
    "ExecuteTime": {
     "end_time": "2024-11-25T08:38:19.895299Z",
     "start_time": "2024-11-25T08:38:19.888318Z"
    }
   },
   "outputs": [
    {
     "data": {
      "text/plain": [
       "['sepal_length', 'sepal_width', 'petal_length', 'petal_width']"
      ]
     },
     "execution_count": 40,
     "metadata": {},
     "output_type": "execute_result"
    }
   ],
   "source": [
    "[col[:12].strip().replace(' ', '_') for col in iris.feature_names]"
   ]
  },
  {
   "cell_type": "code",
   "execution_count": 41,
   "id": "6d22289c",
   "metadata": {
    "ExecuteTime": {
     "end_time": "2024-11-25T08:38:19.906710Z",
     "start_time": "2024-11-25T08:38:19.898743Z"
    }
   },
   "outputs": [
    {
     "data": {
      "text/plain": [
       "array([0, 0, 0, 0, 0, 0, 0, 0, 0, 0, 0, 0, 0, 0, 0, 0, 0, 0, 0, 0, 0, 0,\n",
       "       0, 0, 0, 0, 0, 0, 0, 0, 0, 0, 0, 0, 0, 0, 0, 0, 0, 0, 0, 0, 0, 0,\n",
       "       0, 0, 0, 0, 0, 0, 1, 1, 1, 1, 1, 1, 1, 1, 1, 1, 1, 1, 1, 1, 1, 1,\n",
       "       1, 1, 1, 1, 1, 1, 1, 1, 1, 1, 1, 1, 1, 1, 1, 1, 1, 1, 1, 1, 1, 1,\n",
       "       1, 1, 1, 1, 1, 1, 1, 1, 1, 1, 1, 1, 2, 2, 2, 2, 2, 2, 2, 2, 2, 2,\n",
       "       2, 2, 2, 2, 2, 2, 2, 2, 2, 2, 2, 2, 2, 2, 2, 2, 2, 2, 2, 2, 2, 2,\n",
       "       2, 2, 2, 2, 2, 2, 2, 2, 2, 2, 2, 2, 2, 2, 2, 2, 2, 2])"
      ]
     },
     "execution_count": 41,
     "metadata": {},
     "output_type": "execute_result"
    }
   ],
   "source": [
    "iris.target\n",
    "iris['target']"
   ]
  },
  {
   "cell_type": "code",
   "execution_count": 42,
   "id": "61049617",
   "metadata": {
    "ExecuteTime": {
     "end_time": "2024-11-25T08:38:19.915685Z",
     "start_time": "2024-11-25T08:38:19.908703Z"
    }
   },
   "outputs": [
    {
     "data": {
      "text/plain": [
       "array(['setosa', 'versicolor', 'virginica'], dtype='<U10')"
      ]
     },
     "execution_count": 42,
     "metadata": {},
     "output_type": "execute_result"
    }
   ],
   "source": [
    "iris.target_names\n",
    "iris['target_names']"
   ]
  },
  {
   "cell_type": "code",
   "execution_count": 43,
   "id": "e63795f7",
   "metadata": {
    "ExecuteTime": {
     "end_time": "2024-11-25T08:38:19.927607Z",
     "start_time": "2024-11-25T08:38:19.917680Z"
    }
   },
   "outputs": [
    {
     "data": {
      "text/plain": [
       "array([['setosa'],\n",
       "       ['setosa'],\n",
       "       ['setosa'],\n",
       "       ['setosa'],\n",
       "       ['setosa'],\n",
       "       ['setosa'],\n",
       "       ['setosa'],\n",
       "       ['setosa'],\n",
       "       ['setosa'],\n",
       "       ['setosa'],\n",
       "       ['setosa'],\n",
       "       ['setosa'],\n",
       "       ['setosa'],\n",
       "       ['setosa'],\n",
       "       ['setosa'],\n",
       "       ['setosa'],\n",
       "       ['setosa'],\n",
       "       ['setosa'],\n",
       "       ['setosa'],\n",
       "       ['setosa'],\n",
       "       ['setosa'],\n",
       "       ['setosa'],\n",
       "       ['setosa'],\n",
       "       ['setosa'],\n",
       "       ['setosa'],\n",
       "       ['setosa'],\n",
       "       ['setosa'],\n",
       "       ['setosa'],\n",
       "       ['setosa'],\n",
       "       ['setosa'],\n",
       "       ['setosa'],\n",
       "       ['setosa'],\n",
       "       ['setosa'],\n",
       "       ['setosa'],\n",
       "       ['setosa'],\n",
       "       ['setosa'],\n",
       "       ['setosa'],\n",
       "       ['setosa'],\n",
       "       ['setosa'],\n",
       "       ['setosa'],\n",
       "       ['setosa'],\n",
       "       ['setosa'],\n",
       "       ['setosa'],\n",
       "       ['setosa'],\n",
       "       ['setosa'],\n",
       "       ['setosa'],\n",
       "       ['setosa'],\n",
       "       ['setosa'],\n",
       "       ['setosa'],\n",
       "       ['setosa'],\n",
       "       ['versicolor'],\n",
       "       ['versicolor'],\n",
       "       ['versicolor'],\n",
       "       ['versicolor'],\n",
       "       ['versicolor'],\n",
       "       ['versicolor'],\n",
       "       ['versicolor'],\n",
       "       ['versicolor'],\n",
       "       ['versicolor'],\n",
       "       ['versicolor'],\n",
       "       ['versicolor'],\n",
       "       ['versicolor'],\n",
       "       ['versicolor'],\n",
       "       ['versicolor'],\n",
       "       ['versicolor'],\n",
       "       ['versicolor'],\n",
       "       ['versicolor'],\n",
       "       ['versicolor'],\n",
       "       ['versicolor'],\n",
       "       ['versicolor'],\n",
       "       ['versicolor'],\n",
       "       ['versicolor'],\n",
       "       ['versicolor'],\n",
       "       ['versicolor'],\n",
       "       ['versicolor'],\n",
       "       ['versicolor'],\n",
       "       ['versicolor'],\n",
       "       ['versicolor'],\n",
       "       ['versicolor'],\n",
       "       ['versicolor'],\n",
       "       ['versicolor'],\n",
       "       ['versicolor'],\n",
       "       ['versicolor'],\n",
       "       ['versicolor'],\n",
       "       ['versicolor'],\n",
       "       ['versicolor'],\n",
       "       ['versicolor'],\n",
       "       ['versicolor'],\n",
       "       ['versicolor'],\n",
       "       ['versicolor'],\n",
       "       ['versicolor'],\n",
       "       ['versicolor'],\n",
       "       ['versicolor'],\n",
       "       ['versicolor'],\n",
       "       ['versicolor'],\n",
       "       ['versicolor'],\n",
       "       ['versicolor'],\n",
       "       ['versicolor'],\n",
       "       ['versicolor'],\n",
       "       ['versicolor'],\n",
       "       ['virginica'],\n",
       "       ['virginica'],\n",
       "       ['virginica'],\n",
       "       ['virginica'],\n",
       "       ['virginica'],\n",
       "       ['virginica'],\n",
       "       ['virginica'],\n",
       "       ['virginica'],\n",
       "       ['virginica'],\n",
       "       ['virginica'],\n",
       "       ['virginica'],\n",
       "       ['virginica'],\n",
       "       ['virginica'],\n",
       "       ['virginica'],\n",
       "       ['virginica'],\n",
       "       ['virginica'],\n",
       "       ['virginica'],\n",
       "       ['virginica'],\n",
       "       ['virginica'],\n",
       "       ['virginica'],\n",
       "       ['virginica'],\n",
       "       ['virginica'],\n",
       "       ['virginica'],\n",
       "       ['virginica'],\n",
       "       ['virginica'],\n",
       "       ['virginica'],\n",
       "       ['virginica'],\n",
       "       ['virginica'],\n",
       "       ['virginica'],\n",
       "       ['virginica'],\n",
       "       ['virginica'],\n",
       "       ['virginica'],\n",
       "       ['virginica'],\n",
       "       ['virginica'],\n",
       "       ['virginica'],\n",
       "       ['virginica'],\n",
       "       ['virginica'],\n",
       "       ['virginica'],\n",
       "       ['virginica'],\n",
       "       ['virginica'],\n",
       "       ['virginica'],\n",
       "       ['virginica'],\n",
       "       ['virginica'],\n",
       "       ['virginica'],\n",
       "       ['virginica'],\n",
       "       ['virginica'],\n",
       "       ['virginica'],\n",
       "       ['virginica'],\n",
       "       ['virginica'],\n",
       "       ['virginica']], dtype='<U10')"
      ]
     },
     "execution_count": 43,
     "metadata": {},
     "output_type": "execute_result"
    }
   ],
   "source": [
    "# 데이터 프레임의 가장 오른쪽 열\n",
    "iris.target_names[iris.target]\n",
    "iris['target_names'][iris['target']].reshape(-1, 1)"
   ]
  },
  {
   "cell_type": "code",
   "execution_count": 44,
   "id": "57362404",
   "metadata": {
    "ExecuteTime": {
     "end_time": "2024-11-25T08:38:19.937579Z",
     "start_time": "2024-11-25T08:38:19.930570Z"
    }
   },
   "outputs": [
    {
     "name": "stdout",
     "output_type": "stream",
     "text": [
      "[[5.1 3.5 1.4 0.2]\n",
      " [4.9 3.  1.4 0.2]\n",
      " [4.7 3.2 1.3 0.2]\n",
      " [4.6 3.1 1.5 0.2]\n",
      " [5.  3.6 1.4 0.2]]\n",
      "[['setosa']\n",
      " ['setosa']\n",
      " ['setosa']\n",
      " ['setosa']\n",
      " ['setosa']]\n"
     ]
    }
   ],
   "source": [
    "# 독립변수\n",
    "data = iris.data\n",
    "print(data[:5])\n",
    "# 종속변수\n",
    "target = iris.target_names[iris.target].reshape(-1, 1)\n",
    "print(target[:5])"
   ]
  },
  {
   "cell_type": "code",
   "execution_count": 45,
   "id": "a140570b",
   "metadata": {
    "ExecuteTime": {
     "end_time": "2024-11-25T08:38:19.945550Z",
     "start_time": "2024-11-25T08:38:19.940543Z"
    }
   },
   "outputs": [
    {
     "name": "stdout",
     "output_type": "stream",
     "text": [
      "독립변수 차원: (150, 4)\n",
      "종속변수 차원: (150, 1)\n"
     ]
    }
   ],
   "source": [
    "print('독립변수 차원:', data.shape)\n",
    "print('종속변수 차원:', target.shape)"
   ]
  },
  {
   "cell_type": "code",
   "execution_count": 46,
   "id": "660f857c",
   "metadata": {
    "ExecuteTime": {
     "end_time": "2024-11-25T08:38:19.957953Z",
     "start_time": "2024-11-25T08:38:19.947980Z"
    }
   },
   "outputs": [
    {
     "data": {
      "text/plain": [
       "array([['5.1', '3.5', '1.4', '0.2', 'setosa'],\n",
       "       ['4.9', '3.0', '1.4', '0.2', 'setosa'],\n",
       "       ['4.7', '3.2', '1.3', '0.2', 'setosa'],\n",
       "       ['4.6', '3.1', '1.5', '0.2', 'setosa'],\n",
       "       ['5.0', '3.6', '1.4', '0.2', 'setosa'],\n",
       "       ['5.4', '3.9', '1.7', '0.4', 'setosa'],\n",
       "       ['4.6', '3.4', '1.4', '0.3', 'setosa'],\n",
       "       ['5.0', '3.4', '1.5', '0.2', 'setosa'],\n",
       "       ['4.4', '2.9', '1.4', '0.2', 'setosa'],\n",
       "       ['4.9', '3.1', '1.5', '0.1', 'setosa'],\n",
       "       ['5.4', '3.7', '1.5', '0.2', 'setosa'],\n",
       "       ['4.8', '3.4', '1.6', '0.2', 'setosa'],\n",
       "       ['4.8', '3.0', '1.4', '0.1', 'setosa'],\n",
       "       ['4.3', '3.0', '1.1', '0.1', 'setosa'],\n",
       "       ['5.8', '4.0', '1.2', '0.2', 'setosa'],\n",
       "       ['5.7', '4.4', '1.5', '0.4', 'setosa'],\n",
       "       ['5.4', '3.9', '1.3', '0.4', 'setosa'],\n",
       "       ['5.1', '3.5', '1.4', '0.3', 'setosa'],\n",
       "       ['5.7', '3.8', '1.7', '0.3', 'setosa'],\n",
       "       ['5.1', '3.8', '1.5', '0.3', 'setosa'],\n",
       "       ['5.4', '3.4', '1.7', '0.2', 'setosa'],\n",
       "       ['5.1', '3.7', '1.5', '0.4', 'setosa'],\n",
       "       ['4.6', '3.6', '1.0', '0.2', 'setosa'],\n",
       "       ['5.1', '3.3', '1.7', '0.5', 'setosa'],\n",
       "       ['4.8', '3.4', '1.9', '0.2', 'setosa'],\n",
       "       ['5.0', '3.0', '1.6', '0.2', 'setosa'],\n",
       "       ['5.0', '3.4', '1.6', '0.4', 'setosa'],\n",
       "       ['5.2', '3.5', '1.5', '0.2', 'setosa'],\n",
       "       ['5.2', '3.4', '1.4', '0.2', 'setosa'],\n",
       "       ['4.7', '3.2', '1.6', '0.2', 'setosa'],\n",
       "       ['4.8', '3.1', '1.6', '0.2', 'setosa'],\n",
       "       ['5.4', '3.4', '1.5', '0.4', 'setosa'],\n",
       "       ['5.2', '4.1', '1.5', '0.1', 'setosa'],\n",
       "       ['5.5', '4.2', '1.4', '0.2', 'setosa'],\n",
       "       ['4.9', '3.1', '1.5', '0.2', 'setosa'],\n",
       "       ['5.0', '3.2', '1.2', '0.2', 'setosa'],\n",
       "       ['5.5', '3.5', '1.3', '0.2', 'setosa'],\n",
       "       ['4.9', '3.6', '1.4', '0.1', 'setosa'],\n",
       "       ['4.4', '3.0', '1.3', '0.2', 'setosa'],\n",
       "       ['5.1', '3.4', '1.5', '0.2', 'setosa'],\n",
       "       ['5.0', '3.5', '1.3', '0.3', 'setosa'],\n",
       "       ['4.5', '2.3', '1.3', '0.3', 'setosa'],\n",
       "       ['4.4', '3.2', '1.3', '0.2', 'setosa'],\n",
       "       ['5.0', '3.5', '1.6', '0.6', 'setosa'],\n",
       "       ['5.1', '3.8', '1.9', '0.4', 'setosa'],\n",
       "       ['4.8', '3.0', '1.4', '0.3', 'setosa'],\n",
       "       ['5.1', '3.8', '1.6', '0.2', 'setosa'],\n",
       "       ['4.6', '3.2', '1.4', '0.2', 'setosa'],\n",
       "       ['5.3', '3.7', '1.5', '0.2', 'setosa'],\n",
       "       ['5.0', '3.3', '1.4', '0.2', 'setosa'],\n",
       "       ['7.0', '3.2', '4.7', '1.4', 'versicolor'],\n",
       "       ['6.4', '3.2', '4.5', '1.5', 'versicolor'],\n",
       "       ['6.9', '3.1', '4.9', '1.5', 'versicolor'],\n",
       "       ['5.5', '2.3', '4.0', '1.3', 'versicolor'],\n",
       "       ['6.5', '2.8', '4.6', '1.5', 'versicolor'],\n",
       "       ['5.7', '2.8', '4.5', '1.3', 'versicolor'],\n",
       "       ['6.3', '3.3', '4.7', '1.6', 'versicolor'],\n",
       "       ['4.9', '2.4', '3.3', '1.0', 'versicolor'],\n",
       "       ['6.6', '2.9', '4.6', '1.3', 'versicolor'],\n",
       "       ['5.2', '2.7', '3.9', '1.4', 'versicolor'],\n",
       "       ['5.0', '2.0', '3.5', '1.0', 'versicolor'],\n",
       "       ['5.9', '3.0', '4.2', '1.5', 'versicolor'],\n",
       "       ['6.0', '2.2', '4.0', '1.0', 'versicolor'],\n",
       "       ['6.1', '2.9', '4.7', '1.4', 'versicolor'],\n",
       "       ['5.6', '2.9', '3.6', '1.3', 'versicolor'],\n",
       "       ['6.7', '3.1', '4.4', '1.4', 'versicolor'],\n",
       "       ['5.6', '3.0', '4.5', '1.5', 'versicolor'],\n",
       "       ['5.8', '2.7', '4.1', '1.0', 'versicolor'],\n",
       "       ['6.2', '2.2', '4.5', '1.5', 'versicolor'],\n",
       "       ['5.6', '2.5', '3.9', '1.1', 'versicolor'],\n",
       "       ['5.9', '3.2', '4.8', '1.8', 'versicolor'],\n",
       "       ['6.1', '2.8', '4.0', '1.3', 'versicolor'],\n",
       "       ['6.3', '2.5', '4.9', '1.5', 'versicolor'],\n",
       "       ['6.1', '2.8', '4.7', '1.2', 'versicolor'],\n",
       "       ['6.4', '2.9', '4.3', '1.3', 'versicolor'],\n",
       "       ['6.6', '3.0', '4.4', '1.4', 'versicolor'],\n",
       "       ['6.8', '2.8', '4.8', '1.4', 'versicolor'],\n",
       "       ['6.7', '3.0', '5.0', '1.7', 'versicolor'],\n",
       "       ['6.0', '2.9', '4.5', '1.5', 'versicolor'],\n",
       "       ['5.7', '2.6', '3.5', '1.0', 'versicolor'],\n",
       "       ['5.5', '2.4', '3.8', '1.1', 'versicolor'],\n",
       "       ['5.5', '2.4', '3.7', '1.0', 'versicolor'],\n",
       "       ['5.8', '2.7', '3.9', '1.2', 'versicolor'],\n",
       "       ['6.0', '2.7', '5.1', '1.6', 'versicolor'],\n",
       "       ['5.4', '3.0', '4.5', '1.5', 'versicolor'],\n",
       "       ['6.0', '3.4', '4.5', '1.6', 'versicolor'],\n",
       "       ['6.7', '3.1', '4.7', '1.5', 'versicolor'],\n",
       "       ['6.3', '2.3', '4.4', '1.3', 'versicolor'],\n",
       "       ['5.6', '3.0', '4.1', '1.3', 'versicolor'],\n",
       "       ['5.5', '2.5', '4.0', '1.3', 'versicolor'],\n",
       "       ['5.5', '2.6', '4.4', '1.2', 'versicolor'],\n",
       "       ['6.1', '3.0', '4.6', '1.4', 'versicolor'],\n",
       "       ['5.8', '2.6', '4.0', '1.2', 'versicolor'],\n",
       "       ['5.0', '2.3', '3.3', '1.0', 'versicolor'],\n",
       "       ['5.6', '2.7', '4.2', '1.3', 'versicolor'],\n",
       "       ['5.7', '3.0', '4.2', '1.2', 'versicolor'],\n",
       "       ['5.7', '2.9', '4.2', '1.3', 'versicolor'],\n",
       "       ['6.2', '2.9', '4.3', '1.3', 'versicolor'],\n",
       "       ['5.1', '2.5', '3.0', '1.1', 'versicolor'],\n",
       "       ['5.7', '2.8', '4.1', '1.3', 'versicolor'],\n",
       "       ['6.3', '3.3', '6.0', '2.5', 'virginica'],\n",
       "       ['5.8', '2.7', '5.1', '1.9', 'virginica'],\n",
       "       ['7.1', '3.0', '5.9', '2.1', 'virginica'],\n",
       "       ['6.3', '2.9', '5.6', '1.8', 'virginica'],\n",
       "       ['6.5', '3.0', '5.8', '2.2', 'virginica'],\n",
       "       ['7.6', '3.0', '6.6', '2.1', 'virginica'],\n",
       "       ['4.9', '2.5', '4.5', '1.7', 'virginica'],\n",
       "       ['7.3', '2.9', '6.3', '1.8', 'virginica'],\n",
       "       ['6.7', '2.5', '5.8', '1.8', 'virginica'],\n",
       "       ['7.2', '3.6', '6.1', '2.5', 'virginica'],\n",
       "       ['6.5', '3.2', '5.1', '2.0', 'virginica'],\n",
       "       ['6.4', '2.7', '5.3', '1.9', 'virginica'],\n",
       "       ['6.8', '3.0', '5.5', '2.1', 'virginica'],\n",
       "       ['5.7', '2.5', '5.0', '2.0', 'virginica'],\n",
       "       ['5.8', '2.8', '5.1', '2.4', 'virginica'],\n",
       "       ['6.4', '3.2', '5.3', '2.3', 'virginica'],\n",
       "       ['6.5', '3.0', '5.5', '1.8', 'virginica'],\n",
       "       ['7.7', '3.8', '6.7', '2.2', 'virginica'],\n",
       "       ['7.7', '2.6', '6.9', '2.3', 'virginica'],\n",
       "       ['6.0', '2.2', '5.0', '1.5', 'virginica'],\n",
       "       ['6.9', '3.2', '5.7', '2.3', 'virginica'],\n",
       "       ['5.6', '2.8', '4.9', '2.0', 'virginica'],\n",
       "       ['7.7', '2.8', '6.7', '2.0', 'virginica'],\n",
       "       ['6.3', '2.7', '4.9', '1.8', 'virginica'],\n",
       "       ['6.7', '3.3', '5.7', '2.1', 'virginica'],\n",
       "       ['7.2', '3.2', '6.0', '1.8', 'virginica'],\n",
       "       ['6.2', '2.8', '4.8', '1.8', 'virginica'],\n",
       "       ['6.1', '3.0', '4.9', '1.8', 'virginica'],\n",
       "       ['6.4', '2.8', '5.6', '2.1', 'virginica'],\n",
       "       ['7.2', '3.0', '5.8', '1.6', 'virginica'],\n",
       "       ['7.4', '2.8', '6.1', '1.9', 'virginica'],\n",
       "       ['7.9', '3.8', '6.4', '2.0', 'virginica'],\n",
       "       ['6.4', '2.8', '5.6', '2.2', 'virginica'],\n",
       "       ['6.3', '2.8', '5.1', '1.5', 'virginica'],\n",
       "       ['6.1', '2.6', '5.6', '1.4', 'virginica'],\n",
       "       ['7.7', '3.0', '6.1', '2.3', 'virginica'],\n",
       "       ['6.3', '3.4', '5.6', '2.4', 'virginica'],\n",
       "       ['6.4', '3.1', '5.5', '1.8', 'virginica'],\n",
       "       ['6.0', '3.0', '4.8', '1.8', 'virginica'],\n",
       "       ['6.9', '3.1', '5.4', '2.1', 'virginica'],\n",
       "       ['6.7', '3.1', '5.6', '2.4', 'virginica'],\n",
       "       ['6.9', '3.1', '5.1', '2.3', 'virginica'],\n",
       "       ['5.8', '2.7', '5.1', '1.9', 'virginica'],\n",
       "       ['6.8', '3.2', '5.9', '2.3', 'virginica'],\n",
       "       ['6.7', '3.3', '5.7', '2.5', 'virginica'],\n",
       "       ['6.7', '3.0', '5.2', '2.3', 'virginica'],\n",
       "       ['6.3', '2.5', '5.0', '1.9', 'virginica'],\n",
       "       ['6.5', '3.0', '5.2', '2.0', 'virginica'],\n",
       "       ['6.2', '3.4', '5.4', '2.3', 'virginica'],\n",
       "       ['5.9', '3.0', '5.1', '1.8', 'virginica']], dtype='<U32')"
      ]
     },
     "execution_count": 46,
     "metadata": {},
     "output_type": "execute_result"
    }
   ],
   "source": [
    "np.hstack( (data, target) )"
   ]
  },
  {
   "cell_type": "code",
   "execution_count": 47,
   "id": "84d025ab",
   "metadata": {
    "ExecuteTime": {
     "end_time": "2024-11-25T08:38:19.971915Z",
     "start_time": "2024-11-25T08:38:19.960945Z"
    }
   },
   "outputs": [
    {
     "data": {
      "text/html": [
       "<div>\n",
       "<style scoped>\n",
       "    .dataframe tbody tr th:only-of-type {\n",
       "        vertical-align: middle;\n",
       "    }\n",
       "\n",
       "    .dataframe tbody tr th {\n",
       "        vertical-align: top;\n",
       "    }\n",
       "\n",
       "    .dataframe thead th {\n",
       "        text-align: right;\n",
       "    }\n",
       "</style>\n",
       "<table border=\"1\" class=\"dataframe\">\n",
       "  <thead>\n",
       "    <tr style=\"text-align: right;\">\n",
       "      <th></th>\n",
       "      <th>sepal_length</th>\n",
       "      <th>sepal_width</th>\n",
       "      <th>petal_length</th>\n",
       "      <th>petal_width</th>\n",
       "      <th>species</th>\n",
       "    </tr>\n",
       "  </thead>\n",
       "  <tbody>\n",
       "    <tr>\n",
       "      <th>0</th>\n",
       "      <td>5.1</td>\n",
       "      <td>3.5</td>\n",
       "      <td>1.4</td>\n",
       "      <td>0.2</td>\n",
       "      <td>setosa</td>\n",
       "    </tr>\n",
       "    <tr>\n",
       "      <th>1</th>\n",
       "      <td>4.9</td>\n",
       "      <td>3.0</td>\n",
       "      <td>1.4</td>\n",
       "      <td>0.2</td>\n",
       "      <td>setosa</td>\n",
       "    </tr>\n",
       "    <tr>\n",
       "      <th>2</th>\n",
       "      <td>4.7</td>\n",
       "      <td>3.2</td>\n",
       "      <td>1.3</td>\n",
       "      <td>0.2</td>\n",
       "      <td>setosa</td>\n",
       "    </tr>\n",
       "    <tr>\n",
       "      <th>3</th>\n",
       "      <td>4.6</td>\n",
       "      <td>3.1</td>\n",
       "      <td>1.5</td>\n",
       "      <td>0.2</td>\n",
       "      <td>setosa</td>\n",
       "    </tr>\n",
       "    <tr>\n",
       "      <th>4</th>\n",
       "      <td>5.0</td>\n",
       "      <td>3.6</td>\n",
       "      <td>1.4</td>\n",
       "      <td>0.2</td>\n",
       "      <td>setosa</td>\n",
       "    </tr>\n",
       "  </tbody>\n",
       "</table>\n",
       "</div>"
      ],
      "text/plain": [
       "  sepal_length sepal_width petal_length petal_width species\n",
       "0          5.1         3.5          1.4         0.2  setosa\n",
       "1          4.9         3.0          1.4         0.2  setosa\n",
       "2          4.7         3.2          1.3         0.2  setosa\n",
       "3          4.6         3.1          1.5         0.2  setosa\n",
       "4          5.0         3.6          1.4         0.2  setosa"
      ]
     },
     "execution_count": 47,
     "metadata": {},
     "output_type": "execute_result"
    }
   ],
   "source": [
    "# ⓐ 독립변수와 종속변수를 stack한 후, 데이터프레임으로 완성\n",
    "df = pd.DataFrame(np.hstack( (data, target) ),\n",
    "        columns=[col[:12].strip().replace(' ', '_') for col in iris.feature_names]+['species'])\n",
    "df.head()"
   ]
  },
  {
   "cell_type": "code",
   "execution_count": 48,
   "id": "541ac03b",
   "metadata": {
    "ExecuteTime": {
     "end_time": "2024-11-25T08:38:19.981888Z",
     "start_time": "2024-11-25T08:38:19.973910Z"
    }
   },
   "outputs": [
    {
     "data": {
      "text/plain": [
       "0         setosa\n",
       "1         setosa\n",
       "2         setosa\n",
       "3         setosa\n",
       "4         setosa\n",
       "         ...    \n",
       "145    virginica\n",
       "146    virginica\n",
       "147    virginica\n",
       "148    virginica\n",
       "149    virginica\n",
       "Name: species, Length: 150, dtype: object"
      ]
     },
     "execution_count": 48,
     "metadata": {},
     "output_type": "execute_result"
    }
   ],
   "source": [
    "df.species # df['species']"
   ]
  },
  {
   "cell_type": "code",
   "execution_count": 5,
   "id": "bc13d4ed",
   "metadata": {
    "ExecuteTime": {
     "end_time": "2024-11-25T08:39:26.543633Z",
     "start_time": "2024-11-25T08:39:26.001885Z"
    }
   },
   "outputs": [
    {
     "ename": "NameError",
     "evalue": "name 'df' is not defined",
     "output_type": "error",
     "traceback": [
      "\u001b[1;31m---------------------------------------------------------------------------\u001b[0m",
      "\u001b[1;31mNameError\u001b[0m                                 Traceback (most recent call last)",
      "Cell \u001b[1;32mIn[5], line 1\u001b[0m\n\u001b[1;32m----> 1\u001b[0m \u001b[43mdf\u001b[49m[\u001b[38;5;124m'\u001b[39m\u001b[38;5;124msepal length (cm)\u001b[39m\u001b[38;5;124m'\u001b[39m]\n",
      "\u001b[1;31mNameError\u001b[0m: name 'df' is not defined"
     ]
    }
   ],
   "source": [
    "df['sepal length (cm)'] # Error\n",
    "# df.sepal lenth (cm) 열이름에 space나 특수문자의 경우 . 열접근이 불가"
   ]
  },
  {
   "cell_type": "code",
   "execution_count": null,
   "id": "6c43e91d",
   "metadata": {
    "ExecuteTime": {
     "end_time": "2024-11-25T08:38:22.595420Z",
     "start_time": "2024-11-25T08:38:22.595338Z"
    }
   },
   "outputs": [],
   "source": [
    "# ⓑ 독립변수, 종속변수를 따로 데이터프레임으로 만들고 두 데이터프레임을 연결\n",
    "# X: 독립변수 데이터프레임\n",
    "X = pd.DataFrame(iris.data, columns=iris.feature_names)\n",
    "X.head(1)"
   ]
  },
  {
   "cell_type": "code",
   "execution_count": null,
   "id": "3ac05bc4",
   "metadata": {
    "ExecuteTime": {
     "end_time": "2024-11-25T08:38:22.597657Z",
     "start_time": "2024-11-25T08:38:22.597657Z"
    }
   },
   "outputs": [],
   "source": [
    "X.columns = [col[:12].strip().replace(' ', '_') for col in iris.feature_names]"
   ]
  },
  {
   "cell_type": "code",
   "execution_count": null,
   "id": "595eb318",
   "metadata": {
    "ExecuteTime": {
     "end_time": "2024-11-25T08:38:22.599652Z",
     "start_time": "2024-11-25T08:38:22.599652Z"
    }
   },
   "outputs": [],
   "source": [
    "X.head(1)"
   ]
  },
  {
   "cell_type": "code",
   "execution_count": null,
   "id": "65f54089",
   "metadata": {
    "ExecuteTime": {
     "end_time": "2024-11-25T08:38:22.601647Z",
     "start_time": "2024-11-25T08:38:22.601647Z"
    }
   },
   "outputs": [],
   "source": [
    "# y: 종속변수 데이터프레임\n",
    "y = pd.DataFrame(iris.target_names[iris.target], columns=['species'])\n",
    "y"
   ]
  },
  {
   "cell_type": "code",
   "execution_count": null,
   "id": "b3943d9a",
   "metadata": {
    "ExecuteTime": {
     "end_time": "2024-11-25T08:38:22.603640Z",
     "start_time": "2024-11-25T08:38:22.603640Z"
    }
   },
   "outputs": [],
   "source": [
    "print(X.index) # index: 행이름\n",
    "print(y.index)"
   ]
  },
  {
   "cell_type": "code",
   "execution_count": null,
   "id": "c1b562a7",
   "metadata": {
    "ExecuteTime": {
     "end_time": "2024-11-25T08:38:22.605635Z",
     "start_time": "2024-11-25T08:38:22.605635Z"
    }
   },
   "outputs": [],
   "source": [
    "# 데이터프레임 연결하기 (열로 연결)\n",
    "iris_df = pd.concat( [X, y], axis=1 )\n",
    "iris_df"
   ]
  },
  {
   "cell_type": "code",
   "execution_count": null,
   "id": "ec6b7345",
   "metadata": {
    "ExecuteTime": {
     "end_time": "2024-11-25T08:38:22.607651Z",
     "start_time": "2024-11-25T08:38:22.607651Z"
    }
   },
   "outputs": [],
   "source": [
    "iris_df.info()"
   ]
  },
  {
   "cell_type": "markdown",
   "id": "45f9188d",
   "metadata": {},
   "source": [
    "## 2.5 statsmodels 패키지의 iris"
   ]
  },
  {
   "cell_type": "code",
   "execution_count": null,
   "id": "d7c274f3",
   "metadata": {
    "ExecuteTime": {
     "end_time": "2024-11-25T08:38:22.609625Z",
     "start_time": "2024-11-25T08:38:22.609625Z"
    }
   },
   "outputs": [],
   "source": [
    "# iris 데이터 가져오기 방법2: R 데이터 가져오기\n",
    "import statsmodels.api as sm\n",
    "iris_data = sm.datasets.get_rdataset('iris',\n",
    "                                    package='datasets',\n",
    "                                    cache=True)\n",
    "iris_data"
   ]
  },
  {
   "cell_type": "code",
   "execution_count": null,
   "id": "f2718873",
   "metadata": {
    "ExecuteTime": {
     "end_time": "2024-11-25T08:38:22.611619Z",
     "start_time": "2024-11-25T08:38:22.611619Z"
    }
   },
   "outputs": [],
   "source": [
    "iris = iris_data.data\n",
    "iris.head()"
   ]
  },
  {
   "cell_type": "code",
   "execution_count": null,
   "id": "90845f86",
   "metadata": {
    "ExecuteTime": {
     "end_time": "2024-11-25T08:38:22.615609Z",
     "start_time": "2024-11-25T08:38:22.615609Z"
    }
   },
   "outputs": [],
   "source": [
    "iris['Sepal.Length']\n",
    "# iris.Sepal.Length # Error 열이름에 .이 있으면 iris.Sepal.Length로 접근 불가"
   ]
  },
  {
   "cell_type": "code",
   "execution_count": null,
   "id": "5bbb0566",
   "metadata": {
    "ExecuteTime": {
     "end_time": "2024-11-25T08:38:22.618601Z",
     "start_time": "2024-11-25T08:38:22.618601Z"
    }
   },
   "outputs": [],
   "source": [
    "iris.columns = [col.replace('.', '') for col in iris.columns]\n",
    "# [col.lower().replace('.', '_') for col in iris.columns]\n",
    "iris.head(1)"
   ]
  },
  {
   "cell_type": "markdown",
   "id": "6a4c405f",
   "metadata": {
    "ExecuteTime": {
     "end_time": "2024-11-25T07:51:39.133685Z",
     "start_time": "2024-11-25T07:51:39.127562Z"
    }
   },
   "source": [
    "## 2.6 seaborn 패키지의 iris"
   ]
  },
  {
   "cell_type": "code",
   "execution_count": null,
   "id": "a0447ce1",
   "metadata": {
    "ExecuteTime": {
     "end_time": "2024-11-25T08:38:22.621592Z",
     "start_time": "2024-11-25T08:38:22.621592Z"
    }
   },
   "outputs": [],
   "source": [
    "# iris 데이터 가져오기 방법3: seaborn\n",
    "import seaborn as sns\n",
    "iris = sns.load_dataset('iris')\n",
    "iris.head(1)"
   ]
  },
  {
   "cell_type": "code",
   "execution_count": null,
   "id": "7ff13f95",
   "metadata": {
    "ExecuteTime": {
     "end_time": "2024-11-25T08:38:22.623588Z",
     "start_time": "2024-11-25T08:38:22.623588Z"
    }
   },
   "outputs": [],
   "source": [
    "# 데이터 프레임을 파일로 출력\n",
    "iris.to_csv('data/ch12_iris.csv',\n",
    "           sep=',', mode='w', encoding='utf-8', # 기본값\n",
    "           index=False) # 행이름 생략돼서 파일 출력"
   ]
  },
  {
   "cell_type": "code",
   "execution_count": null,
   "id": "804af312",
   "metadata": {
    "ExecuteTime": {
     "end_time": "2024-11-25T08:38:22.625583Z",
     "start_time": "2024-11-25T08:38:22.625583Z"
    }
   },
   "outputs": [],
   "source": [
    "iris.to_csv('data/ch12_iris.csv.gz', # 1K\n",
    "           index=False,\n",
    "           compression='infer')"
   ]
  },
  {
   "cell_type": "code",
   "execution_count": null,
   "id": "5168a682",
   "metadata": {
    "ExecuteTime": {
     "end_time": "2024-11-25T08:38:22.627577Z",
     "start_time": "2024-11-25T08:38:22.627577Z"
    }
   },
   "outputs": [],
   "source": [
    "read_iris = pd.read_csv('data/ch12_iris.csv.gz', compression='infer')\n",
    "read_iris.head(1)"
   ]
  },
  {
   "cell_type": "markdown",
   "id": "f43afbbc",
   "metadata": {},
   "source": [
    "# 3절. 이름(열, 행) 지정하기\n",
    "## 3.1 열이름 지정하기"
   ]
  },
  {
   "cell_type": "code",
   "execution_count": 7,
   "id": "548fd694",
   "metadata": {
    "ExecuteTime": {
     "end_time": "2024-11-25T08:40:18.490348Z",
     "start_time": "2024-11-25T08:40:18.478358Z"
    }
   },
   "outputs": [
    {
     "data": {
      "text/html": [
       "<div>\n",
       "<style scoped>\n",
       "    .dataframe tbody tr th:only-of-type {\n",
       "        vertical-align: middle;\n",
       "    }\n",
       "\n",
       "    .dataframe tbody tr th {\n",
       "        vertical-align: top;\n",
       "    }\n",
       "\n",
       "    .dataframe thead th {\n",
       "        text-align: right;\n",
       "    }\n",
       "</style>\n",
       "<table border=\"1\" class=\"dataframe\">\n",
       "  <thead>\n",
       "    <tr style=\"text-align: right;\">\n",
       "      <th></th>\n",
       "      <th>Name</th>\n",
       "      <th>Age</th>\n",
       "      <th>Email</th>\n",
       "      <th>Address</th>\n",
       "      <th>Birth</th>\n",
       "    </tr>\n",
       "  </thead>\n",
       "  <tbody>\n",
       "    <tr>\n",
       "      <th>0</th>\n",
       "      <td>홍길동</td>\n",
       "      <td>20</td>\n",
       "      <td>hong@hong.com</td>\n",
       "      <td>서울시 강동구</td>\n",
       "      <td>1999-01-01</td>\n",
       "    </tr>\n",
       "    <tr>\n",
       "      <th>1</th>\n",
       "      <td>홍길서</td>\n",
       "      <td>30</td>\n",
       "      <td>seo@hong.com</td>\n",
       "      <td>서울시 중구</td>\n",
       "      <td>1999-12-01</td>\n",
       "    </tr>\n",
       "    <tr>\n",
       "      <th>2</th>\n",
       "      <td>홍길남</td>\n",
       "      <td>21</td>\n",
       "      <td>nam@hong.com</td>\n",
       "      <td>서울시 강동구</td>\n",
       "      <td>1999-11-01</td>\n",
       "    </tr>\n",
       "    <tr>\n",
       "      <th>3</th>\n",
       "      <td>홍길북</td>\n",
       "      <td>22</td>\n",
       "      <td>buk@hong.com</td>\n",
       "      <td>서울시 관악구</td>\n",
       "      <td>1999-05-01</td>\n",
       "    </tr>\n",
       "    <tr>\n",
       "      <th>4</th>\n",
       "      <td>홍길중</td>\n",
       "      <td>23</td>\n",
       "      <td>mid@hong.com</td>\n",
       "      <td>부산시 중구</td>\n",
       "      <td>1999-01-30</td>\n",
       "    </tr>\n",
       "  </tbody>\n",
       "</table>\n",
       "</div>"
      ],
      "text/plain": [
       "  Name  Age          Email  Address       Birth\n",
       "0  홍길동   20  hong@hong.com  서울시 강동구  1999-01-01\n",
       "1  홍길서   30   seo@hong.com   서울시 중구  1999-12-01\n",
       "2  홍길남   21   nam@hong.com  서울시 강동구  1999-11-01\n",
       "3  홍길북   22   buk@hong.com  서울시 관악구  1999-05-01\n",
       "4  홍길중   23   mid@hong.com   부산시 중구  1999-01-30"
      ]
     },
     "execution_count": 7,
     "metadata": {},
     "output_type": "execute_result"
    }
   ],
   "source": [
    "member = pd.read_csv('data/ch12_member.csv', comment='#')\n",
    "member"
   ]
  },
  {
   "cell_type": "code",
   "execution_count": 8,
   "id": "1c749847",
   "metadata": {
    "ExecuteTime": {
     "end_time": "2024-11-25T08:40:21.805426Z",
     "start_time": "2024-11-25T08:40:21.799436Z"
    }
   },
   "outputs": [
    {
     "data": {
      "text/plain": [
       "Index(['Name', 'Age', 'Email', 'Address', 'Birth'], dtype='object')"
      ]
     },
     "execution_count": 8,
     "metadata": {},
     "output_type": "execute_result"
    }
   ],
   "source": [
    "member.columns"
   ]
  },
  {
   "cell_type": "code",
   "execution_count": 9,
   "id": "d607f040",
   "metadata": {
    "ExecuteTime": {
     "end_time": "2024-11-25T08:40:23.459091Z",
     "start_time": "2024-11-25T08:40:23.448141Z"
    }
   },
   "outputs": [
    {
     "data": {
      "text/html": [
       "<div>\n",
       "<style scoped>\n",
       "    .dataframe tbody tr th:only-of-type {\n",
       "        vertical-align: middle;\n",
       "    }\n",
       "\n",
       "    .dataframe tbody tr th {\n",
       "        vertical-align: top;\n",
       "    }\n",
       "\n",
       "    .dataframe thead th {\n",
       "        text-align: right;\n",
       "    }\n",
       "</style>\n",
       "<table border=\"1\" class=\"dataframe\">\n",
       "  <thead>\n",
       "    <tr style=\"text-align: right;\">\n",
       "      <th></th>\n",
       "      <th>이름</th>\n",
       "      <th>나이</th>\n",
       "      <th>메일</th>\n",
       "      <th>주소</th>\n",
       "      <th>생년월일</th>\n",
       "    </tr>\n",
       "  </thead>\n",
       "  <tbody>\n",
       "    <tr>\n",
       "      <th>0</th>\n",
       "      <td>홍길동</td>\n",
       "      <td>20</td>\n",
       "      <td>hong@hong.com</td>\n",
       "      <td>서울시 강동구</td>\n",
       "      <td>1999-01-01</td>\n",
       "    </tr>\n",
       "    <tr>\n",
       "      <th>1</th>\n",
       "      <td>홍길서</td>\n",
       "      <td>30</td>\n",
       "      <td>seo@hong.com</td>\n",
       "      <td>서울시 중구</td>\n",
       "      <td>1999-12-01</td>\n",
       "    </tr>\n",
       "    <tr>\n",
       "      <th>2</th>\n",
       "      <td>홍길남</td>\n",
       "      <td>21</td>\n",
       "      <td>nam@hong.com</td>\n",
       "      <td>서울시 강동구</td>\n",
       "      <td>1999-11-01</td>\n",
       "    </tr>\n",
       "    <tr>\n",
       "      <th>3</th>\n",
       "      <td>홍길북</td>\n",
       "      <td>22</td>\n",
       "      <td>buk@hong.com</td>\n",
       "      <td>서울시 관악구</td>\n",
       "      <td>1999-05-01</td>\n",
       "    </tr>\n",
       "    <tr>\n",
       "      <th>4</th>\n",
       "      <td>홍길중</td>\n",
       "      <td>23</td>\n",
       "      <td>mid@hong.com</td>\n",
       "      <td>부산시 중구</td>\n",
       "      <td>1999-01-30</td>\n",
       "    </tr>\n",
       "  </tbody>\n",
       "</table>\n",
       "</div>"
      ],
      "text/plain": [
       "    이름  나이             메일       주소        생년월일\n",
       "0  홍길동  20  hong@hong.com  서울시 강동구  1999-01-01\n",
       "1  홍길서  30   seo@hong.com   서울시 중구  1999-12-01\n",
       "2  홍길남  21   nam@hong.com  서울시 강동구  1999-11-01\n",
       "3  홍길북  22   buk@hong.com  서울시 관악구  1999-05-01\n",
       "4  홍길중  23   mid@hong.com   부산시 중구  1999-01-30"
      ]
     },
     "execution_count": 9,
     "metadata": {},
     "output_type": "execute_result"
    }
   ],
   "source": [
    "member.columns = ['이름','나이','메일','주소','생년월일']\n",
    "member"
   ]
  },
  {
   "cell_type": "markdown",
   "id": "9bc40a8c",
   "metadata": {},
   "source": [
    "## 3.2 행이름 지정"
   ]
  },
  {
   "cell_type": "code",
   "execution_count": 10,
   "id": "b13caaea",
   "metadata": {
    "ExecuteTime": {
     "end_time": "2024-11-25T08:40:25.089761Z",
     "start_time": "2024-11-25T08:40:25.083776Z"
    }
   },
   "outputs": [
    {
     "data": {
      "text/plain": [
       "RangeIndex(start=0, stop=5, step=1)"
      ]
     },
     "execution_count": 10,
     "metadata": {},
     "output_type": "execute_result"
    }
   ],
   "source": [
    "member.index"
   ]
  },
  {
   "cell_type": "code",
   "execution_count": 11,
   "id": "b289ac6a",
   "metadata": {
    "ExecuteTime": {
     "end_time": "2024-11-25T08:40:26.848874Z",
     "start_time": "2024-11-25T08:40:26.837897Z"
    }
   },
   "outputs": [
    {
     "data": {
      "text/html": [
       "<div>\n",
       "<style scoped>\n",
       "    .dataframe tbody tr th:only-of-type {\n",
       "        vertical-align: middle;\n",
       "    }\n",
       "\n",
       "    .dataframe tbody tr th {\n",
       "        vertical-align: top;\n",
       "    }\n",
       "\n",
       "    .dataframe thead th {\n",
       "        text-align: right;\n",
       "    }\n",
       "</style>\n",
       "<table border=\"1\" class=\"dataframe\">\n",
       "  <thead>\n",
       "    <tr style=\"text-align: right;\">\n",
       "      <th></th>\n",
       "      <th>이름</th>\n",
       "      <th>나이</th>\n",
       "      <th>메일</th>\n",
       "      <th>주소</th>\n",
       "      <th>생년월일</th>\n",
       "    </tr>\n",
       "  </thead>\n",
       "  <tbody>\n",
       "    <tr>\n",
       "      <th>10</th>\n",
       "      <td>홍길동</td>\n",
       "      <td>20</td>\n",
       "      <td>hong@hong.com</td>\n",
       "      <td>서울시 강동구</td>\n",
       "      <td>1999-01-01</td>\n",
       "    </tr>\n",
       "    <tr>\n",
       "      <th>11</th>\n",
       "      <td>홍길서</td>\n",
       "      <td>30</td>\n",
       "      <td>seo@hong.com</td>\n",
       "      <td>서울시 중구</td>\n",
       "      <td>1999-12-01</td>\n",
       "    </tr>\n",
       "    <tr>\n",
       "      <th>12</th>\n",
       "      <td>홍길남</td>\n",
       "      <td>21</td>\n",
       "      <td>nam@hong.com</td>\n",
       "      <td>서울시 강동구</td>\n",
       "      <td>1999-11-01</td>\n",
       "    </tr>\n",
       "    <tr>\n",
       "      <th>13</th>\n",
       "      <td>홍길북</td>\n",
       "      <td>22</td>\n",
       "      <td>buk@hong.com</td>\n",
       "      <td>서울시 관악구</td>\n",
       "      <td>1999-05-01</td>\n",
       "    </tr>\n",
       "    <tr>\n",
       "      <th>14</th>\n",
       "      <td>홍길중</td>\n",
       "      <td>23</td>\n",
       "      <td>mid@hong.com</td>\n",
       "      <td>부산시 중구</td>\n",
       "      <td>1999-01-30</td>\n",
       "    </tr>\n",
       "  </tbody>\n",
       "</table>\n",
       "</div>"
      ],
      "text/plain": [
       "     이름  나이             메일       주소        생년월일\n",
       "10  홍길동  20  hong@hong.com  서울시 강동구  1999-01-01\n",
       "11  홍길서  30   seo@hong.com   서울시 중구  1999-12-01\n",
       "12  홍길남  21   nam@hong.com  서울시 강동구  1999-11-01\n",
       "13  홍길북  22   buk@hong.com  서울시 관악구  1999-05-01\n",
       "14  홍길중  23   mid@hong.com   부산시 중구  1999-01-30"
      ]
     },
     "execution_count": 11,
     "metadata": {},
     "output_type": "execute_result"
    }
   ],
   "source": [
    "member.index = range(10, 15)\n",
    "member"
   ]
  },
  {
   "cell_type": "code",
   "execution_count": 12,
   "id": "3713e427",
   "metadata": {
    "ExecuteTime": {
     "end_time": "2024-11-25T08:40:28.640114Z",
     "start_time": "2024-11-25T08:40:28.629164Z"
    }
   },
   "outputs": [
    {
     "data": {
      "text/html": [
       "<div>\n",
       "<style scoped>\n",
       "    .dataframe tbody tr th:only-of-type {\n",
       "        vertical-align: middle;\n",
       "    }\n",
       "\n",
       "    .dataframe tbody tr th {\n",
       "        vertical-align: top;\n",
       "    }\n",
       "\n",
       "    .dataframe thead th {\n",
       "        text-align: right;\n",
       "    }\n",
       "</style>\n",
       "<table border=\"1\" class=\"dataframe\">\n",
       "  <thead>\n",
       "    <tr style=\"text-align: right;\">\n",
       "      <th></th>\n",
       "      <th>이름</th>\n",
       "      <th>나이</th>\n",
       "      <th>메일</th>\n",
       "      <th>주소</th>\n",
       "      <th>생년월일</th>\n",
       "    </tr>\n",
       "  </thead>\n",
       "  <tbody>\n",
       "    <tr>\n",
       "      <th>동</th>\n",
       "      <td>홍길동</td>\n",
       "      <td>20</td>\n",
       "      <td>hong@hong.com</td>\n",
       "      <td>서울시 강동구</td>\n",
       "      <td>1999-01-01</td>\n",
       "    </tr>\n",
       "    <tr>\n",
       "      <th>서</th>\n",
       "      <td>홍길서</td>\n",
       "      <td>30</td>\n",
       "      <td>seo@hong.com</td>\n",
       "      <td>서울시 중구</td>\n",
       "      <td>1999-12-01</td>\n",
       "    </tr>\n",
       "    <tr>\n",
       "      <th>남</th>\n",
       "      <td>홍길남</td>\n",
       "      <td>21</td>\n",
       "      <td>nam@hong.com</td>\n",
       "      <td>서울시 강동구</td>\n",
       "      <td>1999-11-01</td>\n",
       "    </tr>\n",
       "    <tr>\n",
       "      <th>북</th>\n",
       "      <td>홍길북</td>\n",
       "      <td>22</td>\n",
       "      <td>buk@hong.com</td>\n",
       "      <td>서울시 관악구</td>\n",
       "      <td>1999-05-01</td>\n",
       "    </tr>\n",
       "    <tr>\n",
       "      <th>중</th>\n",
       "      <td>홍길중</td>\n",
       "      <td>23</td>\n",
       "      <td>mid@hong.com</td>\n",
       "      <td>부산시 중구</td>\n",
       "      <td>1999-01-30</td>\n",
       "    </tr>\n",
       "  </tbody>\n",
       "</table>\n",
       "</div>"
      ],
      "text/plain": [
       "    이름  나이             메일       주소        생년월일\n",
       "동  홍길동  20  hong@hong.com  서울시 강동구  1999-01-01\n",
       "서  홍길서  30   seo@hong.com   서울시 중구  1999-12-01\n",
       "남  홍길남  21   nam@hong.com  서울시 강동구  1999-11-01\n",
       "북  홍길북  22   buk@hong.com  서울시 관악구  1999-05-01\n",
       "중  홍길중  23   mid@hong.com   부산시 중구  1999-01-30"
      ]
     },
     "execution_count": 12,
     "metadata": {},
     "output_type": "execute_result"
    }
   ],
   "source": [
    "member.index = ['동', '서', '남', '북', '중']\n",
    "member"
   ]
  },
  {
   "cell_type": "code",
   "execution_count": 13,
   "id": "3e8e4aeb",
   "metadata": {
    "ExecuteTime": {
     "end_time": "2024-11-25T08:40:30.804660Z",
     "start_time": "2024-11-25T08:40:30.798676Z"
    }
   },
   "outputs": [
    {
     "data": {
      "text/plain": [
       "'홍길서'"
      ]
     },
     "execution_count": 13,
     "metadata": {},
     "output_type": "execute_result"
    }
   ],
   "source": [
    "member['이름']['서']"
   ]
  },
  {
   "cell_type": "code",
   "execution_count": 14,
   "id": "de90a209",
   "metadata": {
    "ExecuteTime": {
     "end_time": "2024-11-25T08:40:34.718251Z",
     "start_time": "2024-11-25T08:40:34.712247Z"
    }
   },
   "outputs": [
    {
     "data": {
      "text/plain": [
       "'홍길서'"
      ]
     },
     "execution_count": 14,
     "metadata": {},
     "output_type": "execute_result"
    }
   ],
   "source": [
    "member.loc['서', '이름'] # loc: 행이름과 열이름으로 데이터 프레임의 부분 데이터 조회"
   ]
  },
  {
   "cell_type": "code",
   "execution_count": 15,
   "id": "76b8b4fb",
   "metadata": {
    "ExecuteTime": {
     "end_time": "2024-11-25T08:40:36.391769Z",
     "start_time": "2024-11-25T08:40:36.380823Z"
    }
   },
   "outputs": [
    {
     "data": {
      "text/html": [
       "<div>\n",
       "<style scoped>\n",
       "    .dataframe tbody tr th:only-of-type {\n",
       "        vertical-align: middle;\n",
       "    }\n",
       "\n",
       "    .dataframe tbody tr th {\n",
       "        vertical-align: top;\n",
       "    }\n",
       "\n",
       "    .dataframe thead th {\n",
       "        text-align: right;\n",
       "    }\n",
       "</style>\n",
       "<table border=\"1\" class=\"dataframe\">\n",
       "  <thead>\n",
       "    <tr style=\"text-align: right;\">\n",
       "      <th></th>\n",
       "      <th>나이</th>\n",
       "      <th>메일</th>\n",
       "      <th>주소</th>\n",
       "      <th>생년월일</th>\n",
       "    </tr>\n",
       "    <tr>\n",
       "      <th>이름</th>\n",
       "      <th></th>\n",
       "      <th></th>\n",
       "      <th></th>\n",
       "      <th></th>\n",
       "    </tr>\n",
       "  </thead>\n",
       "  <tbody>\n",
       "    <tr>\n",
       "      <th>홍길동</th>\n",
       "      <td>20</td>\n",
       "      <td>hong@hong.com</td>\n",
       "      <td>서울시 강동구</td>\n",
       "      <td>1999-01-01</td>\n",
       "    </tr>\n",
       "    <tr>\n",
       "      <th>홍길서</th>\n",
       "      <td>30</td>\n",
       "      <td>seo@hong.com</td>\n",
       "      <td>서울시 중구</td>\n",
       "      <td>1999-12-01</td>\n",
       "    </tr>\n",
       "    <tr>\n",
       "      <th>홍길남</th>\n",
       "      <td>21</td>\n",
       "      <td>nam@hong.com</td>\n",
       "      <td>서울시 강동구</td>\n",
       "      <td>1999-11-01</td>\n",
       "    </tr>\n",
       "    <tr>\n",
       "      <th>홍길북</th>\n",
       "      <td>22</td>\n",
       "      <td>buk@hong.com</td>\n",
       "      <td>서울시 관악구</td>\n",
       "      <td>1999-05-01</td>\n",
       "    </tr>\n",
       "    <tr>\n",
       "      <th>홍길중</th>\n",
       "      <td>23</td>\n",
       "      <td>mid@hong.com</td>\n",
       "      <td>부산시 중구</td>\n",
       "      <td>1999-01-30</td>\n",
       "    </tr>\n",
       "  </tbody>\n",
       "</table>\n",
       "</div>"
      ],
      "text/plain": [
       "     나이             메일       주소        생년월일\n",
       "이름                                         \n",
       "홍길동  20  hong@hong.com  서울시 강동구  1999-01-01\n",
       "홍길서  30   seo@hong.com   서울시 중구  1999-12-01\n",
       "홍길남  21   nam@hong.com  서울시 강동구  1999-11-01\n",
       "홍길북  22   buk@hong.com  서울시 관악구  1999-05-01\n",
       "홍길중  23   mid@hong.com   부산시 중구  1999-01-30"
      ]
     },
     "execution_count": 15,
     "metadata": {},
     "output_type": "execute_result"
    }
   ],
   "source": [
    "# 이름을 행이름으로 (실행결과가 출력돼서 나오면 return될 뿐, member는 안 바뀜)\n",
    "# member를 수정하려면 (1)할당 (2)inplace 매개변수에 True(기본값은 False)\n",
    "member1 = member.set_index('이름')\n",
    "member1"
   ]
  },
  {
   "cell_type": "code",
   "execution_count": 16,
   "id": "3d48055a",
   "metadata": {
    "ExecuteTime": {
     "end_time": "2024-11-25T08:40:38.285335Z",
     "start_time": "2024-11-25T08:40:38.275363Z"
    }
   },
   "outputs": [
    {
     "data": {
      "text/html": [
       "<div>\n",
       "<style scoped>\n",
       "    .dataframe tbody tr th:only-of-type {\n",
       "        vertical-align: middle;\n",
       "    }\n",
       "\n",
       "    .dataframe tbody tr th {\n",
       "        vertical-align: top;\n",
       "    }\n",
       "\n",
       "    .dataframe thead th {\n",
       "        text-align: right;\n",
       "    }\n",
       "</style>\n",
       "<table border=\"1\" class=\"dataframe\">\n",
       "  <thead>\n",
       "    <tr style=\"text-align: right;\">\n",
       "      <th></th>\n",
       "      <th>나이</th>\n",
       "      <th>메일</th>\n",
       "      <th>주소</th>\n",
       "      <th>생년월일</th>\n",
       "    </tr>\n",
       "    <tr>\n",
       "      <th>이름</th>\n",
       "      <th></th>\n",
       "      <th></th>\n",
       "      <th></th>\n",
       "      <th></th>\n",
       "    </tr>\n",
       "  </thead>\n",
       "  <tbody>\n",
       "    <tr>\n",
       "      <th>홍길동</th>\n",
       "      <td>20</td>\n",
       "      <td>hong@hong.com</td>\n",
       "      <td>서울시 강동구</td>\n",
       "      <td>1999-01-01</td>\n",
       "    </tr>\n",
       "    <tr>\n",
       "      <th>홍길서</th>\n",
       "      <td>30</td>\n",
       "      <td>seo@hong.com</td>\n",
       "      <td>서울시 중구</td>\n",
       "      <td>1999-12-01</td>\n",
       "    </tr>\n",
       "    <tr>\n",
       "      <th>홍길남</th>\n",
       "      <td>21</td>\n",
       "      <td>nam@hong.com</td>\n",
       "      <td>서울시 강동구</td>\n",
       "      <td>1999-11-01</td>\n",
       "    </tr>\n",
       "    <tr>\n",
       "      <th>홍길북</th>\n",
       "      <td>22</td>\n",
       "      <td>buk@hong.com</td>\n",
       "      <td>서울시 관악구</td>\n",
       "      <td>1999-05-01</td>\n",
       "    </tr>\n",
       "    <tr>\n",
       "      <th>홍길중</th>\n",
       "      <td>23</td>\n",
       "      <td>mid@hong.com</td>\n",
       "      <td>부산시 중구</td>\n",
       "      <td>1999-01-30</td>\n",
       "    </tr>\n",
       "  </tbody>\n",
       "</table>\n",
       "</div>"
      ],
      "text/plain": [
       "     나이             메일       주소        생년월일\n",
       "이름                                         \n",
       "홍길동  20  hong@hong.com  서울시 강동구  1999-01-01\n",
       "홍길서  30   seo@hong.com   서울시 중구  1999-12-01\n",
       "홍길남  21   nam@hong.com  서울시 강동구  1999-11-01\n",
       "홍길북  22   buk@hong.com  서울시 관악구  1999-05-01\n",
       "홍길중  23   mid@hong.com   부산시 중구  1999-01-30"
      ]
     },
     "execution_count": 16,
     "metadata": {},
     "output_type": "execute_result"
    }
   ],
   "source": [
    "member.set_index('이름', inplace=True)\n",
    "member"
   ]
  },
  {
   "cell_type": "code",
   "execution_count": 17,
   "id": "8a317198",
   "metadata": {
    "ExecuteTime": {
     "end_time": "2024-11-25T08:40:40.649776Z",
     "start_time": "2024-11-25T08:40:40.643793Z"
    }
   },
   "outputs": [
    {
     "data": {
      "text/plain": [
       "Index(['홍길동', '홍길서', '홍길남', '홍길북', '홍길중'], dtype='object', name='이름')"
      ]
     },
     "execution_count": 17,
     "metadata": {},
     "output_type": "execute_result"
    }
   ],
   "source": [
    "member.index"
   ]
  },
  {
   "cell_type": "code",
   "execution_count": 18,
   "id": "2d8a3818",
   "metadata": {
    "ExecuteTime": {
     "end_time": "2024-11-25T08:40:42.521174Z",
     "start_time": "2024-11-25T08:40:42.516187Z"
    }
   },
   "outputs": [],
   "source": [
    "# 인덱스를 컬럼에 편입시키기\n",
    "member.reset_index(inplace=True)"
   ]
  },
  {
   "cell_type": "code",
   "execution_count": 19,
   "id": "112dc14c",
   "metadata": {
    "ExecuteTime": {
     "end_time": "2024-11-25T08:40:44.626065Z",
     "start_time": "2024-11-25T08:40:44.617100Z"
    }
   },
   "outputs": [
    {
     "data": {
      "text/html": [
       "<div>\n",
       "<style scoped>\n",
       "    .dataframe tbody tr th:only-of-type {\n",
       "        vertical-align: middle;\n",
       "    }\n",
       "\n",
       "    .dataframe tbody tr th {\n",
       "        vertical-align: top;\n",
       "    }\n",
       "\n",
       "    .dataframe thead th {\n",
       "        text-align: right;\n",
       "    }\n",
       "</style>\n",
       "<table border=\"1\" class=\"dataframe\">\n",
       "  <thead>\n",
       "    <tr style=\"text-align: right;\">\n",
       "      <th></th>\n",
       "      <th>이름</th>\n",
       "      <th>나이</th>\n",
       "      <th>메일</th>\n",
       "      <th>주소</th>\n",
       "      <th>생년월일</th>\n",
       "    </tr>\n",
       "  </thead>\n",
       "  <tbody>\n",
       "    <tr>\n",
       "      <th>0</th>\n",
       "      <td>홍길동</td>\n",
       "      <td>20</td>\n",
       "      <td>hong@hong.com</td>\n",
       "      <td>서울시 강동구</td>\n",
       "      <td>1999-01-01</td>\n",
       "    </tr>\n",
       "    <tr>\n",
       "      <th>1</th>\n",
       "      <td>홍길서</td>\n",
       "      <td>30</td>\n",
       "      <td>seo@hong.com</td>\n",
       "      <td>서울시 중구</td>\n",
       "      <td>1999-12-01</td>\n",
       "    </tr>\n",
       "    <tr>\n",
       "      <th>2</th>\n",
       "      <td>홍길남</td>\n",
       "      <td>21</td>\n",
       "      <td>nam@hong.com</td>\n",
       "      <td>서울시 강동구</td>\n",
       "      <td>1999-11-01</td>\n",
       "    </tr>\n",
       "    <tr>\n",
       "      <th>3</th>\n",
       "      <td>홍길북</td>\n",
       "      <td>22</td>\n",
       "      <td>buk@hong.com</td>\n",
       "      <td>서울시 관악구</td>\n",
       "      <td>1999-05-01</td>\n",
       "    </tr>\n",
       "    <tr>\n",
       "      <th>4</th>\n",
       "      <td>홍길중</td>\n",
       "      <td>23</td>\n",
       "      <td>mid@hong.com</td>\n",
       "      <td>부산시 중구</td>\n",
       "      <td>1999-01-30</td>\n",
       "    </tr>\n",
       "  </tbody>\n",
       "</table>\n",
       "</div>"
      ],
      "text/plain": [
       "    이름  나이             메일       주소        생년월일\n",
       "0  홍길동  20  hong@hong.com  서울시 강동구  1999-01-01\n",
       "1  홍길서  30   seo@hong.com   서울시 중구  1999-12-01\n",
       "2  홍길남  21   nam@hong.com  서울시 강동구  1999-11-01\n",
       "3  홍길북  22   buk@hong.com  서울시 관악구  1999-05-01\n",
       "4  홍길중  23   mid@hong.com   부산시 중구  1999-01-30"
      ]
     },
     "execution_count": 19,
     "metadata": {},
     "output_type": "execute_result"
    }
   ],
   "source": [
    "member"
   ]
  },
  {
   "cell_type": "code",
   "execution_count": 23,
   "id": "56d22b67",
   "metadata": {
    "ExecuteTime": {
     "end_time": "2024-11-25T08:42:17.052750Z",
     "start_time": "2024-11-25T08:42:17.040755Z"
    }
   },
   "outputs": [
    {
     "data": {
      "text/html": [
       "<div>\n",
       "<style scoped>\n",
       "    .dataframe tbody tr th:only-of-type {\n",
       "        vertical-align: middle;\n",
       "    }\n",
       "\n",
       "    .dataframe tbody tr th {\n",
       "        vertical-align: top;\n",
       "    }\n",
       "\n",
       "    .dataframe thead th {\n",
       "        text-align: right;\n",
       "    }\n",
       "</style>\n",
       "<table border=\"1\" class=\"dataframe\">\n",
       "  <thead>\n",
       "    <tr style=\"text-align: right;\">\n",
       "      <th></th>\n",
       "      <th>이름</th>\n",
       "      <th>나이</th>\n",
       "      <th>메일</th>\n",
       "      <th>주소</th>\n",
       "      <th>생년월일</th>\n",
       "    </tr>\n",
       "  </thead>\n",
       "  <tbody>\n",
       "    <tr>\n",
       "      <th>0</th>\n",
       "      <td>홍길동</td>\n",
       "      <td>20</td>\n",
       "      <td>hong@hong.com</td>\n",
       "      <td>서울시 강동구</td>\n",
       "      <td>1999-01-01</td>\n",
       "    </tr>\n",
       "    <tr>\n",
       "      <th>11</th>\n",
       "      <td>홍길서</td>\n",
       "      <td>30</td>\n",
       "      <td>seo@hong.com</td>\n",
       "      <td>서울시 중구</td>\n",
       "      <td>1999-12-01</td>\n",
       "    </tr>\n",
       "    <tr>\n",
       "      <th>3</th>\n",
       "      <td>홍길남</td>\n",
       "      <td>21</td>\n",
       "      <td>nam@hong.com</td>\n",
       "      <td>서울시 강동구</td>\n",
       "      <td>1999-11-01</td>\n",
       "    </tr>\n",
       "    <tr>\n",
       "      <th>4</th>\n",
       "      <td>홍길북</td>\n",
       "      <td>22</td>\n",
       "      <td>buk@hong.com</td>\n",
       "      <td>서울시 관악구</td>\n",
       "      <td>1999-05-01</td>\n",
       "    </tr>\n",
       "    <tr>\n",
       "      <th>5</th>\n",
       "      <td>홍길중</td>\n",
       "      <td>23</td>\n",
       "      <td>mid@hong.com</td>\n",
       "      <td>부산시 중구</td>\n",
       "      <td>1999-01-30</td>\n",
       "    </tr>\n",
       "  </tbody>\n",
       "</table>\n",
       "</div>"
      ],
      "text/plain": [
       "     이름  나이             메일       주소        생년월일\n",
       "0   홍길동  20  hong@hong.com  서울시 강동구  1999-01-01\n",
       "11  홍길서  30   seo@hong.com   서울시 중구  1999-12-01\n",
       "3   홍길남  21   nam@hong.com  서울시 강동구  1999-11-01\n",
       "4   홍길북  22   buk@hong.com  서울시 관악구  1999-05-01\n",
       "5   홍길중  23   mid@hong.com   부산시 중구  1999-01-30"
      ]
     },
     "execution_count": 23,
     "metadata": {},
     "output_type": "execute_result"
    }
   ],
   "source": [
    "member.index = [0, 11, 3, 4, 5]\n",
    "member"
   ]
  },
  {
   "cell_type": "code",
   "execution_count": 27,
   "id": "0cb188a6",
   "metadata": {
    "ExecuteTime": {
     "end_time": "2024-11-25T08:43:41.619512Z",
     "start_time": "2024-11-25T08:43:41.609539Z"
    }
   },
   "outputs": [
    {
     "data": {
      "text/html": [
       "<div>\n",
       "<style scoped>\n",
       "    .dataframe tbody tr th:only-of-type {\n",
       "        vertical-align: middle;\n",
       "    }\n",
       "\n",
       "    .dataframe tbody tr th {\n",
       "        vertical-align: top;\n",
       "    }\n",
       "\n",
       "    .dataframe thead th {\n",
       "        text-align: right;\n",
       "    }\n",
       "</style>\n",
       "<table border=\"1\" class=\"dataframe\">\n",
       "  <thead>\n",
       "    <tr style=\"text-align: right;\">\n",
       "      <th></th>\n",
       "      <th>이름</th>\n",
       "      <th>나이</th>\n",
       "      <th>메일</th>\n",
       "      <th>주소</th>\n",
       "      <th>생년월일</th>\n",
       "    </tr>\n",
       "  </thead>\n",
       "  <tbody>\n",
       "    <tr>\n",
       "      <th>0</th>\n",
       "      <td>홍길동</td>\n",
       "      <td>20</td>\n",
       "      <td>hong@hong.com</td>\n",
       "      <td>서울시 강동구</td>\n",
       "      <td>1999-01-01</td>\n",
       "    </tr>\n",
       "    <tr>\n",
       "      <th>1</th>\n",
       "      <td>홍길서</td>\n",
       "      <td>30</td>\n",
       "      <td>seo@hong.com</td>\n",
       "      <td>서울시 중구</td>\n",
       "      <td>1999-12-01</td>\n",
       "    </tr>\n",
       "    <tr>\n",
       "      <th>2</th>\n",
       "      <td>홍길남</td>\n",
       "      <td>21</td>\n",
       "      <td>nam@hong.com</td>\n",
       "      <td>서울시 강동구</td>\n",
       "      <td>1999-11-01</td>\n",
       "    </tr>\n",
       "    <tr>\n",
       "      <th>3</th>\n",
       "      <td>홍길북</td>\n",
       "      <td>22</td>\n",
       "      <td>buk@hong.com</td>\n",
       "      <td>서울시 관악구</td>\n",
       "      <td>1999-05-01</td>\n",
       "    </tr>\n",
       "    <tr>\n",
       "      <th>4</th>\n",
       "      <td>홍길중</td>\n",
       "      <td>23</td>\n",
       "      <td>mid@hong.com</td>\n",
       "      <td>부산시 중구</td>\n",
       "      <td>1999-01-30</td>\n",
       "    </tr>\n",
       "  </tbody>\n",
       "</table>\n",
       "</div>"
      ],
      "text/plain": [
       "    이름  나이             메일       주소        생년월일\n",
       "0  홍길동  20  hong@hong.com  서울시 강동구  1999-01-01\n",
       "1  홍길서  30   seo@hong.com   서울시 중구  1999-12-01\n",
       "2  홍길남  21   nam@hong.com  서울시 강동구  1999-11-01\n",
       "3  홍길북  22   buk@hong.com  서울시 관악구  1999-05-01\n",
       "4  홍길중  23   mid@hong.com   부산시 중구  1999-01-30"
      ]
     },
     "execution_count": 27,
     "metadata": {},
     "output_type": "execute_result"
    }
   ],
   "source": [
    "# 기존 index를 새로운 열에 편입시키지 않고 완전히 제거 후 숫자 index로 초기화\n",
    "member.reset_index(drop=True, inplace=True)\n",
    "member"
   ]
  },
  {
   "cell_type": "code",
   "execution_count": 28,
   "id": "29226c86",
   "metadata": {
    "ExecuteTime": {
     "end_time": "2024-11-25T08:44:30.353012Z",
     "start_time": "2024-11-25T08:44:30.348018Z"
    }
   },
   "outputs": [
    {
     "data": {
      "text/plain": [
       "'1999-11-01'"
      ]
     },
     "execution_count": 28,
     "metadata": {},
     "output_type": "execute_result"
    }
   ],
   "source": [
    "member.loc[2, '생년월일']"
   ]
  },
  {
   "cell_type": "code",
   "execution_count": 29,
   "id": "cec66ea9",
   "metadata": {
    "ExecuteTime": {
     "end_time": "2024-11-25T08:45:09.364231Z",
     "start_time": "2024-11-25T08:45:09.353261Z"
    }
   },
   "outputs": [
    {
     "name": "stdout",
     "output_type": "stream",
     "text": [
      "<class 'pandas.core.frame.DataFrame'>\n",
      "RangeIndex: 5 entries, 0 to 4\n",
      "Data columns (total 5 columns):\n",
      " #   Column  Non-Null Count  Dtype \n",
      "---  ------  --------------  ----- \n",
      " 0   이름      5 non-null      object\n",
      " 1   나이      5 non-null      int64 \n",
      " 2   메일      5 non-null      object\n",
      " 3   주소      5 non-null      object\n",
      " 4   생년월일    5 non-null      object\n",
      "dtypes: int64(1), object(4)\n",
      "memory usage: 328.0+ bytes\n"
     ]
    }
   ],
   "source": [
    "member.info()"
   ]
  },
  {
   "cell_type": "code",
   "execution_count": 31,
   "id": "31604730",
   "metadata": {
    "ExecuteTime": {
     "end_time": "2024-11-25T08:46:07.687923Z",
     "start_time": "2024-11-25T08:46:07.673943Z"
    }
   },
   "outputs": [
    {
     "name": "stdout",
     "output_type": "stream",
     "text": [
      "<class 'pandas.core.frame.DataFrame'>\n",
      "RangeIndex: 5 entries, 0 to 4\n",
      "Data columns (total 5 columns):\n",
      " #   Column   Non-Null Count  Dtype         \n",
      "---  ------   --------------  -----         \n",
      " 0   Name     5 non-null      object        \n",
      " 1   Age      5 non-null      int64         \n",
      " 2   Email    5 non-null      object        \n",
      " 3   Address  5 non-null      object        \n",
      " 4   Birth    5 non-null      datetime64[ns]\n",
      "dtypes: datetime64[ns](1), int64(1), object(3)\n",
      "memory usage: 328.0+ bytes\n"
     ]
    }
   ],
   "source": [
    "member = pd.read_csv('data/ch12_member.csv', comment='#', parse_dates=['Birth'])\n",
    "member.info()"
   ]
  },
  {
   "cell_type": "code",
   "execution_count": 32,
   "id": "6db008eb",
   "metadata": {
    "ExecuteTime": {
     "end_time": "2024-11-25T08:46:52.275302Z",
     "start_time": "2024-11-25T08:46:52.266305Z"
    }
   },
   "outputs": [
    {
     "data": {
      "text/html": [
       "<div>\n",
       "<style scoped>\n",
       "    .dataframe tbody tr th:only-of-type {\n",
       "        vertical-align: middle;\n",
       "    }\n",
       "\n",
       "    .dataframe tbody tr th {\n",
       "        vertical-align: top;\n",
       "    }\n",
       "\n",
       "    .dataframe thead th {\n",
       "        text-align: right;\n",
       "    }\n",
       "</style>\n",
       "<table border=\"1\" class=\"dataframe\">\n",
       "  <thead>\n",
       "    <tr style=\"text-align: right;\">\n",
       "      <th></th>\n",
       "      <th>Name</th>\n",
       "      <th>Age</th>\n",
       "      <th>Email</th>\n",
       "      <th>Address</th>\n",
       "      <th>Birth</th>\n",
       "    </tr>\n",
       "  </thead>\n",
       "  <tbody>\n",
       "    <tr>\n",
       "      <th>0</th>\n",
       "      <td>홍길동</td>\n",
       "      <td>20</td>\n",
       "      <td>hong@hong.com</td>\n",
       "      <td>서울시 강동구</td>\n",
       "      <td>1999-01-01</td>\n",
       "    </tr>\n",
       "  </tbody>\n",
       "</table>\n",
       "</div>"
      ],
      "text/plain": [
       "  Name  Age          Email  Address      Birth\n",
       "0  홍길동   20  hong@hong.com  서울시 강동구 1999-01-01"
      ]
     },
     "execution_count": 32,
     "metadata": {},
     "output_type": "execute_result"
    }
   ],
   "source": [
    "member.head(1)"
   ]
  },
  {
   "cell_type": "code",
   "execution_count": 34,
   "id": "879813fd",
   "metadata": {
    "ExecuteTime": {
     "end_time": "2024-11-25T08:47:47.808230Z",
     "start_time": "2024-11-25T08:47:47.801245Z"
    }
   },
   "outputs": [
    {
     "data": {
      "text/plain": [
       "Timestamp('1999-01-01 00:00:00')"
      ]
     },
     "execution_count": 34,
     "metadata": {},
     "output_type": "execute_result"
    }
   ],
   "source": [
    "member.loc[0, 'Birth']"
   ]
  },
  {
   "cell_type": "code",
   "execution_count": 36,
   "id": "acc59deb",
   "metadata": {
    "ExecuteTime": {
     "end_time": "2024-11-25T08:47:59.737014Z",
     "start_time": "2024-11-25T08:47:59.730012Z"
    }
   },
   "outputs": [
    {
     "data": {
      "text/plain": [
       "0    1999\n",
       "1    1999\n",
       "2    1999\n",
       "3    1999\n",
       "4    1999\n",
       "Name: Birth, dtype: int64"
      ]
     },
     "execution_count": 36,
     "metadata": {},
     "output_type": "execute_result"
    }
   ],
   "source": [
    "# 시리즈.dt: datetime열에서 날짜 및 시간에 관련된 정보를 추출\n",
    "member['Birth'].dt.year"
   ]
  },
  {
   "cell_type": "code",
   "execution_count": 37,
   "id": "2de01396",
   "metadata": {
    "ExecuteTime": {
     "end_time": "2024-11-25T08:48:58.953299Z",
     "start_time": "2024-11-25T08:48:58.946291Z"
    }
   },
   "outputs": [
    {
     "data": {
      "text/plain": [
       "0     1\n",
       "1    12\n",
       "2    11\n",
       "3     5\n",
       "4     1\n",
       "Name: Birth, dtype: int64"
      ]
     },
     "execution_count": 37,
     "metadata": {},
     "output_type": "execute_result"
    }
   ],
   "source": [
    "member['Birth'].dt.month"
   ]
  },
  {
   "cell_type": "code",
   "execution_count": 38,
   "id": "6bccab1c",
   "metadata": {
    "ExecuteTime": {
     "end_time": "2024-11-25T08:49:34.936854Z",
     "start_time": "2024-11-25T08:49:34.928875Z"
    }
   },
   "outputs": [
    {
     "data": {
      "text/plain": [
       "0    4\n",
       "1    2\n",
       "2    0\n",
       "3    5\n",
       "4    5\n",
       "Name: Birth, dtype: int64"
      ]
     },
     "execution_count": 38,
     "metadata": {},
     "output_type": "execute_result"
    }
   ],
   "source": [
    "member['Birth'].dt.weekday # 0:월, 1:화, ...6:일"
   ]
  },
  {
   "cell_type": "code",
   "execution_count": 39,
   "id": "51b77160",
   "metadata": {
    "ExecuteTime": {
     "end_time": "2024-11-25T08:50:04.882618Z",
     "start_time": "2024-11-25T08:50:04.872645Z"
    }
   },
   "outputs": [
    {
     "data": {
      "text/plain": [
       "0    1999-01\n",
       "1    1999-12\n",
       "2    1999-11\n",
       "3    1999-05\n",
       "4    1999-01\n",
       "Name: Birth, dtype: period[M]"
      ]
     },
     "execution_count": 39,
     "metadata": {},
     "output_type": "execute_result"
    }
   ],
   "source": [
    "member['Birth'].dt.to_period('M')"
   ]
  },
  {
   "cell_type": "markdown",
   "id": "da176135",
   "metadata": {},
   "source": [
    "## 3.3 레벨 이름 지정하기"
   ]
  },
  {
   "cell_type": "code",
   "execution_count": 41,
   "id": "0db1f906",
   "metadata": {
    "ExecuteTime": {
     "end_time": "2024-11-25T08:51:35.788094Z",
     "start_time": "2024-11-25T08:51:35.777085Z"
    }
   },
   "outputs": [
    {
     "data": {
      "text/html": [
       "<div>\n",
       "<style scoped>\n",
       "    .dataframe tbody tr th:only-of-type {\n",
       "        vertical-align: middle;\n",
       "    }\n",
       "\n",
       "    .dataframe tbody tr th {\n",
       "        vertical-align: top;\n",
       "    }\n",
       "\n",
       "    .dataframe thead th {\n",
       "        text-align: right;\n",
       "    }\n",
       "</style>\n",
       "<table border=\"1\" class=\"dataframe\">\n",
       "  <thead>\n",
       "    <tr style=\"text-align: right;\">\n",
       "      <th></th>\n",
       "      <th>Name</th>\n",
       "      <th>Age</th>\n",
       "      <th>Email</th>\n",
       "      <th>Address</th>\n",
       "      <th>Birth</th>\n",
       "    </tr>\n",
       "  </thead>\n",
       "  <tbody>\n",
       "    <tr>\n",
       "      <th>0</th>\n",
       "      <td>홍길동</td>\n",
       "      <td>20</td>\n",
       "      <td>hong@hong.com</td>\n",
       "      <td>서울시 강동구</td>\n",
       "      <td>1999-01-01</td>\n",
       "    </tr>\n",
       "    <tr>\n",
       "      <th>1</th>\n",
       "      <td>홍길서</td>\n",
       "      <td>30</td>\n",
       "      <td>seo@hong.com</td>\n",
       "      <td>서울시 중구</td>\n",
       "      <td>1999-12-01</td>\n",
       "    </tr>\n",
       "    <tr>\n",
       "      <th>2</th>\n",
       "      <td>홍길남</td>\n",
       "      <td>21</td>\n",
       "      <td>nam@hong.com</td>\n",
       "      <td>서울시 강동구</td>\n",
       "      <td>1999-11-01</td>\n",
       "    </tr>\n",
       "    <tr>\n",
       "      <th>3</th>\n",
       "      <td>홍길북</td>\n",
       "      <td>22</td>\n",
       "      <td>buk@hong.com</td>\n",
       "      <td>서울시 관악구</td>\n",
       "      <td>1999-05-01</td>\n",
       "    </tr>\n",
       "    <tr>\n",
       "      <th>4</th>\n",
       "      <td>홍길중</td>\n",
       "      <td>23</td>\n",
       "      <td>mid@hong.com</td>\n",
       "      <td>부산시 중구</td>\n",
       "      <td>1999-01-30</td>\n",
       "    </tr>\n",
       "  </tbody>\n",
       "</table>\n",
       "</div>"
      ],
      "text/plain": [
       "  Name  Age          Email  Address      Birth\n",
       "0  홍길동   20  hong@hong.com  서울시 강동구 1999-01-01\n",
       "1  홍길서   30   seo@hong.com   서울시 중구 1999-12-01\n",
       "2  홍길남   21   nam@hong.com  서울시 강동구 1999-11-01\n",
       "3  홍길북   22   buk@hong.com  서울시 관악구 1999-05-01\n",
       "4  홍길중   23   mid@hong.com   부산시 중구 1999-01-30"
      ]
     },
     "execution_count": 41,
     "metadata": {},
     "output_type": "execute_result"
    }
   ],
   "source": [
    "member"
   ]
  },
  {
   "cell_type": "code",
   "execution_count": 43,
   "id": "7c76692c",
   "metadata": {
    "ExecuteTime": {
     "end_time": "2024-11-25T08:53:42.207940Z",
     "start_time": "2024-11-25T08:53:42.194242Z"
    }
   },
   "outputs": [
    {
     "data": {
      "text/html": [
       "<div>\n",
       "<style scoped>\n",
       "    .dataframe tbody tr th:only-of-type {\n",
       "        vertical-align: middle;\n",
       "    }\n",
       "\n",
       "    .dataframe tbody tr th {\n",
       "        vertical-align: top;\n",
       "    }\n",
       "\n",
       "    .dataframe thead tr th {\n",
       "        text-align: left;\n",
       "    }\n",
       "</style>\n",
       "<table border=\"1\" class=\"dataframe\">\n",
       "  <thead>\n",
       "    <tr>\n",
       "      <th>대분류</th>\n",
       "      <th colspan=\"3\" halign=\"left\">기본정보</th>\n",
       "      <th colspan=\"2\" halign=\"left\">추가정보</th>\n",
       "    </tr>\n",
       "    <tr>\n",
       "      <th>소분류</th>\n",
       "      <th>이름</th>\n",
       "      <th>나이</th>\n",
       "      <th>메일</th>\n",
       "      <th>주소</th>\n",
       "      <th>생일</th>\n",
       "    </tr>\n",
       "  </thead>\n",
       "  <tbody>\n",
       "    <tr>\n",
       "      <th>0</th>\n",
       "      <td>홍길동</td>\n",
       "      <td>20</td>\n",
       "      <td>hong@hong.com</td>\n",
       "      <td>서울시 강동구</td>\n",
       "      <td>1999-01-01</td>\n",
       "    </tr>\n",
       "    <tr>\n",
       "      <th>1</th>\n",
       "      <td>홍길서</td>\n",
       "      <td>30</td>\n",
       "      <td>seo@hong.com</td>\n",
       "      <td>서울시 중구</td>\n",
       "      <td>1999-12-01</td>\n",
       "    </tr>\n",
       "    <tr>\n",
       "      <th>2</th>\n",
       "      <td>홍길남</td>\n",
       "      <td>21</td>\n",
       "      <td>nam@hong.com</td>\n",
       "      <td>서울시 강동구</td>\n",
       "      <td>1999-11-01</td>\n",
       "    </tr>\n",
       "    <tr>\n",
       "      <th>3</th>\n",
       "      <td>홍길북</td>\n",
       "      <td>22</td>\n",
       "      <td>buk@hong.com</td>\n",
       "      <td>서울시 관악구</td>\n",
       "      <td>1999-05-01</td>\n",
       "    </tr>\n",
       "    <tr>\n",
       "      <th>4</th>\n",
       "      <td>홍길중</td>\n",
       "      <td>23</td>\n",
       "      <td>mid@hong.com</td>\n",
       "      <td>부산시 중구</td>\n",
       "      <td>1999-01-30</td>\n",
       "    </tr>\n",
       "  </tbody>\n",
       "</table>\n",
       "</div>"
      ],
      "text/plain": [
       "대분류 기본정보                        추가정보           \n",
       "소분류   이름  나이             메일       주소         생일\n",
       "0    홍길동  20  hong@hong.com  서울시 강동구 1999-01-01\n",
       "1    홍길서  30   seo@hong.com   서울시 중구 1999-12-01\n",
       "2    홍길남  21   nam@hong.com  서울시 강동구 1999-11-01\n",
       "3    홍길북  22   buk@hong.com  서울시 관악구 1999-05-01\n",
       "4    홍길중  23   mid@hong.com   부산시 중구 1999-01-30"
      ]
     },
     "execution_count": 43,
     "metadata": {},
     "output_type": "execute_result"
    }
   ],
   "source": [
    "member.columns = [['기본정보', '기본정보', '기본정보', '추가정보', '추가정보'],\n",
    "                  ['이름', '나이', '메일', '주소', '생일']]\n",
    "member.columns.names = ['대분류', '소분류']\n",
    "member"
   ]
  },
  {
   "cell_type": "code",
   "execution_count": 46,
   "id": "4647e305",
   "metadata": {
    "ExecuteTime": {
     "end_time": "2024-11-25T08:55:48.889847Z",
     "start_time": "2024-11-25T08:55:48.876277Z"
    }
   },
   "outputs": [
    {
     "data": {
      "text/html": [
       "<div>\n",
       "<style scoped>\n",
       "    .dataframe tbody tr th:only-of-type {\n",
       "        vertical-align: middle;\n",
       "    }\n",
       "\n",
       "    .dataframe tbody tr th {\n",
       "        vertical-align: top;\n",
       "    }\n",
       "\n",
       "    .dataframe thead tr th {\n",
       "        text-align: left;\n",
       "    }\n",
       "</style>\n",
       "<table border=\"1\" class=\"dataframe\">\n",
       "  <thead>\n",
       "    <tr>\n",
       "      <th></th>\n",
       "      <th>대분류</th>\n",
       "      <th colspan=\"3\" halign=\"left\">기본정보</th>\n",
       "      <th colspan=\"2\" halign=\"left\">추가정보</th>\n",
       "    </tr>\n",
       "    <tr>\n",
       "      <th></th>\n",
       "      <th>소분류</th>\n",
       "      <th>이름</th>\n",
       "      <th>나이</th>\n",
       "      <th>메일</th>\n",
       "      <th>주소</th>\n",
       "      <th>생일</th>\n",
       "    </tr>\n",
       "  </thead>\n",
       "  <tbody>\n",
       "    <tr>\n",
       "      <th rowspan=\"2\" valign=\"top\">좌우</th>\n",
       "      <th>동</th>\n",
       "      <td>홍길동</td>\n",
       "      <td>20</td>\n",
       "      <td>hong@hong.com</td>\n",
       "      <td>서울시 강동구</td>\n",
       "      <td>1999-01-01</td>\n",
       "    </tr>\n",
       "    <tr>\n",
       "      <th>서</th>\n",
       "      <td>홍길서</td>\n",
       "      <td>30</td>\n",
       "      <td>seo@hong.com</td>\n",
       "      <td>서울시 중구</td>\n",
       "      <td>1999-12-01</td>\n",
       "    </tr>\n",
       "    <tr>\n",
       "      <th rowspan=\"3\" valign=\"top\">상하</th>\n",
       "      <th>남</th>\n",
       "      <td>홍길남</td>\n",
       "      <td>21</td>\n",
       "      <td>nam@hong.com</td>\n",
       "      <td>서울시 강동구</td>\n",
       "      <td>1999-11-01</td>\n",
       "    </tr>\n",
       "    <tr>\n",
       "      <th>북</th>\n",
       "      <td>홍길북</td>\n",
       "      <td>22</td>\n",
       "      <td>buk@hong.com</td>\n",
       "      <td>서울시 관악구</td>\n",
       "      <td>1999-05-01</td>\n",
       "    </tr>\n",
       "    <tr>\n",
       "      <th>중</th>\n",
       "      <td>홍길중</td>\n",
       "      <td>23</td>\n",
       "      <td>mid@hong.com</td>\n",
       "      <td>부산시 중구</td>\n",
       "      <td>1999-01-30</td>\n",
       "    </tr>\n",
       "  </tbody>\n",
       "</table>\n",
       "</div>"
      ],
      "text/plain": [
       "대분류  기본정보                        추가정보           \n",
       "소분류    이름  나이             메일       주소         생일\n",
       "좌우 동  홍길동  20  hong@hong.com  서울시 강동구 1999-01-01\n",
       "   서  홍길서  30   seo@hong.com   서울시 중구 1999-12-01\n",
       "상하 남  홍길남  21   nam@hong.com  서울시 강동구 1999-11-01\n",
       "   북  홍길북  22   buk@hong.com  서울시 관악구 1999-05-01\n",
       "   중  홍길중  23   mid@hong.com   부산시 중구 1999-01-30"
      ]
     },
     "execution_count": 46,
     "metadata": {},
     "output_type": "execute_result"
    }
   ],
   "source": [
    "member.index = [['좌우', '좌우', '상하', '상하', '상하'],\n",
    "                ['동', '서', '남', '북', '중']]\n",
    "member"
   ]
  },
  {
   "cell_type": "code",
   "execution_count": 47,
   "id": "f1729b68",
   "metadata": {
    "ExecuteTime": {
     "end_time": "2024-11-25T08:56:46.527924Z",
     "start_time": "2024-11-25T08:56:46.515365Z"
    }
   },
   "outputs": [
    {
     "data": {
      "text/html": [
       "<div>\n",
       "<style scoped>\n",
       "    .dataframe tbody tr th:only-of-type {\n",
       "        vertical-align: middle;\n",
       "    }\n",
       "\n",
       "    .dataframe tbody tr th {\n",
       "        vertical-align: top;\n",
       "    }\n",
       "\n",
       "    .dataframe thead tr th {\n",
       "        text-align: left;\n",
       "    }\n",
       "</style>\n",
       "<table border=\"1\" class=\"dataframe\">\n",
       "  <thead>\n",
       "    <tr>\n",
       "      <th>대분류</th>\n",
       "      <th colspan=\"3\" halign=\"left\">기본정보</th>\n",
       "      <th colspan=\"2\" halign=\"left\">추가정보</th>\n",
       "    </tr>\n",
       "    <tr>\n",
       "      <th>소분류</th>\n",
       "      <th>이름</th>\n",
       "      <th>나이</th>\n",
       "      <th>메일</th>\n",
       "      <th>주소</th>\n",
       "      <th>생일</th>\n",
       "    </tr>\n",
       "  </thead>\n",
       "  <tbody>\n",
       "    <tr>\n",
       "      <th>동</th>\n",
       "      <td>홍길동</td>\n",
       "      <td>20</td>\n",
       "      <td>hong@hong.com</td>\n",
       "      <td>서울시 강동구</td>\n",
       "      <td>1999-01-01</td>\n",
       "    </tr>\n",
       "    <tr>\n",
       "      <th>서</th>\n",
       "      <td>홍길서</td>\n",
       "      <td>30</td>\n",
       "      <td>seo@hong.com</td>\n",
       "      <td>서울시 중구</td>\n",
       "      <td>1999-12-01</td>\n",
       "    </tr>\n",
       "  </tbody>\n",
       "</table>\n",
       "</div>"
      ],
      "text/plain": [
       "대분류 기본정보                        추가정보           \n",
       "소분류   이름  나이             메일       주소         생일\n",
       "동    홍길동  20  hong@hong.com  서울시 강동구 1999-01-01\n",
       "서    홍길서  30   seo@hong.com   서울시 중구 1999-12-01"
      ]
     },
     "execution_count": 47,
     "metadata": {},
     "output_type": "execute_result"
    }
   ],
   "source": [
    "member.loc['좌우']"
   ]
  },
  {
   "cell_type": "code",
   "execution_count": 48,
   "id": "a0017aba",
   "metadata": {
    "ExecuteTime": {
     "end_time": "2024-11-25T08:57:12.302301Z",
     "start_time": "2024-11-25T08:57:12.284244Z"
    }
   },
   "outputs": [
    {
     "data": {
      "text/html": [
       "<div>\n",
       "<style scoped>\n",
       "    .dataframe tbody tr th:only-of-type {\n",
       "        vertical-align: middle;\n",
       "    }\n",
       "\n",
       "    .dataframe tbody tr th {\n",
       "        vertical-align: top;\n",
       "    }\n",
       "\n",
       "    .dataframe thead th {\n",
       "        text-align: right;\n",
       "    }\n",
       "</style>\n",
       "<table border=\"1\" class=\"dataframe\">\n",
       "  <thead>\n",
       "    <tr style=\"text-align: right;\">\n",
       "      <th>소분류</th>\n",
       "      <th>이름</th>\n",
       "      <th>나이</th>\n",
       "      <th>메일</th>\n",
       "    </tr>\n",
       "  </thead>\n",
       "  <tbody>\n",
       "    <tr>\n",
       "      <th>동</th>\n",
       "      <td>홍길동</td>\n",
       "      <td>20</td>\n",
       "      <td>hong@hong.com</td>\n",
       "    </tr>\n",
       "    <tr>\n",
       "      <th>서</th>\n",
       "      <td>홍길서</td>\n",
       "      <td>30</td>\n",
       "      <td>seo@hong.com</td>\n",
       "    </tr>\n",
       "  </tbody>\n",
       "</table>\n",
       "</div>"
      ],
      "text/plain": [
       "소분류   이름  나이             메일\n",
       "동    홍길동  20  hong@hong.com\n",
       "서    홍길서  30   seo@hong.com"
      ]
     },
     "execution_count": 48,
     "metadata": {},
     "output_type": "execute_result"
    }
   ],
   "source": [
    "member.loc['좌우', '기본정보']"
   ]
  },
  {
   "cell_type": "code",
   "execution_count": 50,
   "id": "5abf429f",
   "metadata": {
    "ExecuteTime": {
     "end_time": "2024-11-25T08:57:58.826604Z",
     "start_time": "2024-11-25T08:57:58.816838Z"
    }
   },
   "outputs": [
    {
     "data": {
      "text/plain": [
       "동    20\n",
       "서    30\n",
       "Name: 나이, dtype: int64"
      ]
     },
     "execution_count": 50,
     "metadata": {},
     "output_type": "execute_result"
    }
   ],
   "source": [
    "member.loc['좌우', '기본정보']['나이']"
   ]
  },
  {
   "cell_type": "code",
   "execution_count": 52,
   "id": "cb993203",
   "metadata": {
    "ExecuteTime": {
     "end_time": "2024-11-25T08:58:42.164739Z",
     "start_time": "2024-11-25T08:58:42.156287Z"
    }
   },
   "outputs": [
    {
     "data": {
      "text/plain": [
       "20"
      ]
     },
     "execution_count": 52,
     "metadata": {},
     "output_type": "execute_result"
    }
   ],
   "source": [
    "member.loc['좌우', '기본정보'].loc['동', '나이']"
   ]
  },
  {
   "cell_type": "code",
   "execution_count": 4,
   "id": "d3b7a6fd",
   "metadata": {
    "ExecuteTime": {
     "end_time": "2024-11-26T00:38:00.491328Z",
     "start_time": "2024-11-26T00:38:00.476533Z"
    }
   },
   "outputs": [
    {
     "data": {
      "text/html": [
       "<div>\n",
       "<style scoped>\n",
       "    .dataframe tbody tr th:only-of-type {\n",
       "        vertical-align: middle;\n",
       "    }\n",
       "\n",
       "    .dataframe tbody tr th {\n",
       "        vertical-align: top;\n",
       "    }\n",
       "\n",
       "    .dataframe thead th {\n",
       "        text-align: right;\n",
       "    }\n",
       "</style>\n",
       "<table border=\"1\" class=\"dataframe\">\n",
       "  <thead>\n",
       "    <tr style=\"text-align: right;\">\n",
       "      <th></th>\n",
       "      <th>sepal_length</th>\n",
       "      <th>sepal_width</th>\n",
       "      <th>petal_length</th>\n",
       "      <th>petal_width</th>\n",
       "      <th>species</th>\n",
       "    </tr>\n",
       "  </thead>\n",
       "  <tbody>\n",
       "    <tr>\n",
       "      <th>0</th>\n",
       "      <td>5.1</td>\n",
       "      <td>3.5</td>\n",
       "      <td>1.4</td>\n",
       "      <td>0.2</td>\n",
       "      <td>setosa</td>\n",
       "    </tr>\n",
       "  </tbody>\n",
       "</table>\n",
       "</div>"
      ],
      "text/plain": [
       "   sepal_length  sepal_width  petal_length  petal_width species\n",
       "0           5.1          3.5           1.4          0.2  setosa"
      ]
     },
     "execution_count": 4,
     "metadata": {},
     "output_type": "execute_result"
    }
   ],
   "source": [
    "import pandas as pd\n",
    "import seaborn as sns\n",
    "iris = sns.load_dataset('iris')\n",
    "iris.head(1)"
   ]
  },
  {
   "cell_type": "code",
   "execution_count": 7,
   "id": "5201099c",
   "metadata": {
    "ExecuteTime": {
     "end_time": "2024-11-26T00:39:08.153496Z",
     "start_time": "2024-11-26T00:39:08.142942Z"
    }
   },
   "outputs": [
    {
     "data": {
      "text/html": [
       "<div>\n",
       "<style scoped>\n",
       "    .dataframe tbody tr th:only-of-type {\n",
       "        vertical-align: middle;\n",
       "    }\n",
       "\n",
       "    .dataframe tbody tr th {\n",
       "        vertical-align: top;\n",
       "    }\n",
       "\n",
       "    .dataframe thead th {\n",
       "        text-align: right;\n",
       "    }\n",
       "</style>\n",
       "<table border=\"1\" class=\"dataframe\">\n",
       "  <thead>\n",
       "    <tr style=\"text-align: right;\">\n",
       "      <th></th>\n",
       "      <th>꽃받침길이</th>\n",
       "      <th>꽃받침너비</th>\n",
       "      <th>꽃잎길이</th>\n",
       "      <th>꽃잎너비</th>\n",
       "      <th>종</th>\n",
       "    </tr>\n",
       "  </thead>\n",
       "  <tbody>\n",
       "    <tr>\n",
       "      <th>149</th>\n",
       "      <td>5.9</td>\n",
       "      <td>3.0</td>\n",
       "      <td>5.1</td>\n",
       "      <td>1.8</td>\n",
       "      <td>virginica</td>\n",
       "    </tr>\n",
       "  </tbody>\n",
       "</table>\n",
       "</div>"
      ],
      "text/plain": [
       "     꽃받침길이  꽃받침너비  꽃잎길이  꽃잎너비          종\n",
       "149    5.9    3.0   5.1   1.8  virginica"
      ]
     },
     "execution_count": 7,
     "metadata": {},
     "output_type": "execute_result"
    }
   ],
   "source": [
    "iris.columns = ['꽃받침길이', '꽃받침너비', '꽃잎길이', '꽃잎너비', '종']\n",
    "iris.tail(1) # 끝 1개"
   ]
  },
  {
   "cell_type": "code",
   "execution_count": 9,
   "id": "b518ed9b",
   "metadata": {
    "ExecuteTime": {
     "end_time": "2024-11-26T00:40:07.113390Z",
     "start_time": "2024-11-26T00:40:07.100859Z"
    }
   },
   "outputs": [
    {
     "data": {
      "text/html": [
       "<div>\n",
       "<style scoped>\n",
       "    .dataframe tbody tr th:only-of-type {\n",
       "        vertical-align: middle;\n",
       "    }\n",
       "\n",
       "    .dataframe tbody tr th {\n",
       "        vertical-align: top;\n",
       "    }\n",
       "\n",
       "    .dataframe thead th {\n",
       "        text-align: right;\n",
       "    }\n",
       "</style>\n",
       "<table border=\"1\" class=\"dataframe\">\n",
       "  <thead>\n",
       "    <tr style=\"text-align: right;\">\n",
       "      <th></th>\n",
       "      <th>꽃받침길이</th>\n",
       "      <th>꽃받침너비</th>\n",
       "      <th>꽃잎길이</th>\n",
       "      <th>꽃잎너비</th>\n",
       "      <th>종</th>\n",
       "    </tr>\n",
       "  </thead>\n",
       "  <tbody>\n",
       "    <tr>\n",
       "      <th>295</th>\n",
       "      <td>6.7</td>\n",
       "      <td>3.0</td>\n",
       "      <td>5.2</td>\n",
       "      <td>2.3</td>\n",
       "      <td>virginica</td>\n",
       "    </tr>\n",
       "    <tr>\n",
       "      <th>296</th>\n",
       "      <td>6.3</td>\n",
       "      <td>2.5</td>\n",
       "      <td>5.0</td>\n",
       "      <td>1.9</td>\n",
       "      <td>virginica</td>\n",
       "    </tr>\n",
       "    <tr>\n",
       "      <th>297</th>\n",
       "      <td>6.5</td>\n",
       "      <td>3.0</td>\n",
       "      <td>5.2</td>\n",
       "      <td>2.0</td>\n",
       "      <td>virginica</td>\n",
       "    </tr>\n",
       "    <tr>\n",
       "      <th>298</th>\n",
       "      <td>6.2</td>\n",
       "      <td>3.4</td>\n",
       "      <td>5.4</td>\n",
       "      <td>2.3</td>\n",
       "      <td>virginica</td>\n",
       "    </tr>\n",
       "    <tr>\n",
       "      <th>299</th>\n",
       "      <td>5.9</td>\n",
       "      <td>3.0</td>\n",
       "      <td>5.1</td>\n",
       "      <td>1.8</td>\n",
       "      <td>virginica</td>\n",
       "    </tr>\n",
       "  </tbody>\n",
       "</table>\n",
       "</div>"
      ],
      "text/plain": [
       "     꽃받침길이  꽃받침너비  꽃잎길이  꽃잎너비          종\n",
       "295    6.7    3.0   5.2   2.3  virginica\n",
       "296    6.3    2.5   5.0   1.9  virginica\n",
       "297    6.5    3.0   5.2   2.0  virginica\n",
       "298    6.2    3.4   5.4   2.3  virginica\n",
       "299    5.9    3.0   5.1   1.8  virginica"
      ]
     },
     "execution_count": 9,
     "metadata": {},
     "output_type": "execute_result"
    }
   ],
   "source": [
    "iris.index = range(150, 300)\n",
    "iris.tail()"
   ]
  },
  {
   "cell_type": "code",
   "execution_count": 21,
   "id": "df89cf11",
   "metadata": {
    "ExecuteTime": {
     "end_time": "2024-11-26T00:51:01.689485Z",
     "start_time": "2024-11-26T00:51:01.673822Z"
    }
   },
   "outputs": [
    {
     "data": {
      "text/html": [
       "<div>\n",
       "<style scoped>\n",
       "    .dataframe tbody tr th:only-of-type {\n",
       "        vertical-align: middle;\n",
       "    }\n",
       "\n",
       "    .dataframe tbody tr th {\n",
       "        vertical-align: top;\n",
       "    }\n",
       "\n",
       "    .dataframe thead tr th {\n",
       "        text-align: left;\n",
       "    }\n",
       "</style>\n",
       "<table border=\"1\" class=\"dataframe\">\n",
       "  <thead>\n",
       "    <tr>\n",
       "      <th>sps</th>\n",
       "      <th colspan=\"2\" halign=\"left\">꽃받침</th>\n",
       "      <th colspan=\"2\" halign=\"left\">꽃잎</th>\n",
       "      <th>종</th>\n",
       "    </tr>\n",
       "    <tr>\n",
       "      <th>길이너비</th>\n",
       "      <th>길이</th>\n",
       "      <th>너비</th>\n",
       "      <th>길이</th>\n",
       "      <th>너비</th>\n",
       "      <th>종</th>\n",
       "    </tr>\n",
       "  </thead>\n",
       "  <tbody>\n",
       "    <tr>\n",
       "      <th>150</th>\n",
       "      <td>5.1</td>\n",
       "      <td>3.5</td>\n",
       "      <td>1.4</td>\n",
       "      <td>0.2</td>\n",
       "      <td>setosa</td>\n",
       "    </tr>\n",
       "    <tr>\n",
       "      <th>200</th>\n",
       "      <td>7.0</td>\n",
       "      <td>3.2</td>\n",
       "      <td>4.7</td>\n",
       "      <td>1.4</td>\n",
       "      <td>versicolor</td>\n",
       "    </tr>\n",
       "    <tr>\n",
       "      <th>250</th>\n",
       "      <td>6.3</td>\n",
       "      <td>3.3</td>\n",
       "      <td>6.0</td>\n",
       "      <td>2.5</td>\n",
       "      <td>virginica</td>\n",
       "    </tr>\n",
       "  </tbody>\n",
       "</table>\n",
       "</div>"
      ],
      "text/plain": [
       "sps   꽃받침        꽃잎                종\n",
       "길이너비   길이   너비   길이   너비           종\n",
       "150   5.1  3.5  1.4  0.2      setosa\n",
       "200   7.0  3.2  4.7  1.4  versicolor\n",
       "250   6.3  3.3  6.0  2.5   virginica"
      ]
     },
     "execution_count": 21,
     "metadata": {},
     "output_type": "execute_result"
    }
   ],
   "source": [
    "iris.columns = [['꽃받침', '꽃받침', '꽃잎', '꽃잎', '종'],\n",
    "                ['길이', '너비',     '길이', '너비', '종']]\n",
    "iris.columns.names = ['sps', '길이너비']\n",
    "iris.loc[[150, 200, 250]]"
   ]
  },
  {
   "cell_type": "code",
   "execution_count": 16,
   "id": "dafb5ad8",
   "metadata": {
    "ExecuteTime": {
     "end_time": "2024-11-26T00:48:44.759917Z",
     "start_time": "2024-11-26T00:48:44.756923Z"
    }
   },
   "outputs": [],
   "source": [
    "pd.options.display.max_rows = 150 # 커널 재시작 시 원상 복귀"
   ]
  },
  {
   "cell_type": "code",
   "execution_count": 24,
   "id": "30e406bb",
   "metadata": {
    "ExecuteTime": {
     "end_time": "2024-11-26T00:55:27.513595Z",
     "start_time": "2024-11-26T00:55:27.497971Z"
    }
   },
   "outputs": [
    {
     "name": "stdout",
     "output_type": "stream",
     "text": [
      "['setosa', 'setosa', 'setosa', 'setosa', 'setosa', 'setosa', 'setosa', 'setosa', 'setosa', 'setosa', 'setosa', 'setosa', 'setosa', 'setosa', 'setosa', 'setosa', 'setosa', 'setosa', 'setosa', 'setosa', 'setosa', 'setosa', 'setosa', 'setosa', 'setosa', 'setosa', 'setosa', 'setosa', 'setosa', 'setosa', 'setosa', 'setosa', 'setosa', 'setosa', 'setosa', 'setosa', 'setosa', 'setosa', 'setosa', 'setosa', 'setosa', 'setosa', 'setosa', 'setosa', 'setosa', 'setosa', 'setosa', 'setosa', 'setosa', 'setosa', 'versicolor', 'versicolor', 'versicolor', 'versicolor', 'versicolor', 'versicolor', 'versicolor', 'versicolor', 'versicolor', 'versicolor', 'versicolor', 'versicolor', 'versicolor', 'versicolor', 'versicolor', 'versicolor', 'versicolor', 'versicolor', 'versicolor', 'versicolor', 'versicolor', 'versicolor', 'versicolor', 'versicolor', 'versicolor', 'versicolor', 'versicolor', 'versicolor', 'versicolor', 'versicolor', 'versicolor', 'versicolor', 'versicolor', 'versicolor', 'versicolor', 'versicolor', 'versicolor', 'versicolor', 'versicolor', 'versicolor', 'versicolor', 'versicolor', 'versicolor', 'versicolor', 'versicolor', 'versicolor', 'versicolor', 'versicolor', 'versicolor', 'versicolor', 'virginica', 'virginica', 'virginica', 'virginica', 'virginica', 'virginica', 'virginica', 'virginica', 'virginica', 'virginica', 'virginica', 'virginica', 'virginica', 'virginica', 'virginica', 'virginica', 'virginica', 'virginica', 'virginica', 'virginica', 'virginica', 'virginica', 'virginica', 'virginica', 'virginica', 'virginica', 'virginica', 'virginica', 'virginica', 'virginica', 'virginica', 'virginica', 'virginica', 'virginica', 'virginica', 'virginica', 'virginica', 'virginica', 'virginica', 'virginica', 'virginica', 'virginica', 'virginica', 'virginica', 'virginica', 'virginica', 'virginica', 'virginica', 'virginica', 'virginica']\n"
     ]
    }
   ],
   "source": [
    "# setosa가 50개, versicolor가 50개, virginica가 50개\n",
    "print(['setosa' for i in range(50)] + ['versicolor' for i in range(50)] + \\\n",
    "     ['virginica' for i in range(50)])"
   ]
  },
  {
   "cell_type": "code",
   "execution_count": 49,
   "id": "94048a79",
   "metadata": {
    "ExecuteTime": {
     "end_time": "2024-11-26T01:23:48.158922Z",
     "start_time": "2024-11-26T01:23:48.142218Z"
    }
   },
   "outputs": [
    {
     "data": {
      "text/html": [
       "<div>\n",
       "<style scoped>\n",
       "    .dataframe tbody tr th:only-of-type {\n",
       "        vertical-align: middle;\n",
       "    }\n",
       "\n",
       "    .dataframe tbody tr th {\n",
       "        vertical-align: top;\n",
       "    }\n",
       "\n",
       "    .dataframe thead tr th {\n",
       "        text-align: left;\n",
       "    }\n",
       "</style>\n",
       "<table border=\"1\" class=\"dataframe\">\n",
       "  <thead>\n",
       "    <tr>\n",
       "      <th></th>\n",
       "      <th>sps</th>\n",
       "      <th colspan=\"2\" halign=\"left\">꽃받침</th>\n",
       "      <th colspan=\"2\" halign=\"left\">꽃잎</th>\n",
       "      <th>종</th>\n",
       "    </tr>\n",
       "    <tr>\n",
       "      <th></th>\n",
       "      <th>길이너비</th>\n",
       "      <th>길이</th>\n",
       "      <th>너비</th>\n",
       "      <th>길이</th>\n",
       "      <th>너비</th>\n",
       "      <th>종</th>\n",
       "    </tr>\n",
       "  </thead>\n",
       "  <tbody>\n",
       "    <tr>\n",
       "      <th rowspan=\"2\" valign=\"top\">setosa</th>\n",
       "      <th>0</th>\n",
       "      <td>5.1</td>\n",
       "      <td>3.5</td>\n",
       "      <td>1.4</td>\n",
       "      <td>0.2</td>\n",
       "      <td>setosa</td>\n",
       "    </tr>\n",
       "    <tr>\n",
       "      <th>25</th>\n",
       "      <td>5.0</td>\n",
       "      <td>3.0</td>\n",
       "      <td>1.6</td>\n",
       "      <td>0.2</td>\n",
       "      <td>setosa</td>\n",
       "    </tr>\n",
       "    <tr>\n",
       "      <th rowspan=\"2\" valign=\"top\">versicolor</th>\n",
       "      <th>0</th>\n",
       "      <td>7.0</td>\n",
       "      <td>3.2</td>\n",
       "      <td>4.7</td>\n",
       "      <td>1.4</td>\n",
       "      <td>versicolor</td>\n",
       "    </tr>\n",
       "    <tr>\n",
       "      <th>25</th>\n",
       "      <td>6.6</td>\n",
       "      <td>3.0</td>\n",
       "      <td>4.4</td>\n",
       "      <td>1.4</td>\n",
       "      <td>versicolor</td>\n",
       "    </tr>\n",
       "    <tr>\n",
       "      <th>virginica</th>\n",
       "      <th>0</th>\n",
       "      <td>6.3</td>\n",
       "      <td>3.3</td>\n",
       "      <td>6.0</td>\n",
       "      <td>2.5</td>\n",
       "      <td>virginica</td>\n",
       "    </tr>\n",
       "  </tbody>\n",
       "</table>\n",
       "</div>"
      ],
      "text/plain": [
       "sps            꽃받침        꽃잎                종\n",
       "길이너비            길이   너비   길이   너비           종\n",
       "setosa     0   5.1  3.5  1.4  0.2      setosa\n",
       "           25  5.0  3.0  1.6  0.2      setosa\n",
       "versicolor 0   7.0  3.2  4.7  1.4  versicolor\n",
       "           25  6.6  3.0  4.4  1.4  versicolor\n",
       "virginica  0   6.3  3.3  6.0  2.5   virginica"
      ]
     },
     "execution_count": 49,
     "metadata": {},
     "output_type": "execute_result"
    }
   ],
   "source": [
    "iris.index = [['setosa' for i in range(50)] + \n",
    "              ['versicolor' for i in range(50)] +\n",
    "              ['virginica' for i in range(50)],\n",
    "              list(range(50)) + list(range(50)) + list(range(50))]\n",
    "iris.iloc[[0, 25, 50, 75, 100]]"
   ]
  },
  {
   "cell_type": "code",
   "execution_count": null,
   "id": "69bd73a8",
   "metadata": {},
   "outputs": [],
   "source": [
    "# 피벗테이블 이용 시 피벗팅한 결과를 가져올 때 볼 수 있음"
   ]
  },
  {
   "cell_type": "markdown",
   "id": "18c9df81",
   "metadata": {},
   "source": [
    "# 4절. 부분 데이터 조회"
   ]
  },
  {
   "cell_type": "code",
   "execution_count": 27,
   "id": "81533623",
   "metadata": {
    "ExecuteTime": {
     "end_time": "2024-11-26T01:02:14.599172Z",
     "start_time": "2024-11-26T01:02:14.581625Z"
    }
   },
   "outputs": [
    {
     "data": {
      "text/html": [
       "<div>\n",
       "<style scoped>\n",
       "    .dataframe tbody tr th:only-of-type {\n",
       "        vertical-align: middle;\n",
       "    }\n",
       "\n",
       "    .dataframe tbody tr th {\n",
       "        vertical-align: top;\n",
       "    }\n",
       "\n",
       "    .dataframe thead th {\n",
       "        text-align: right;\n",
       "    }\n",
       "</style>\n",
       "<table border=\"1\" class=\"dataframe\">\n",
       "  <thead>\n",
       "    <tr style=\"text-align: right;\">\n",
       "      <th></th>\n",
       "      <th>Name</th>\n",
       "      <th>Age</th>\n",
       "      <th>Email</th>\n",
       "      <th>Address</th>\n",
       "      <th>Birth</th>\n",
       "    </tr>\n",
       "  </thead>\n",
       "  <tbody>\n",
       "    <tr>\n",
       "      <th>0</th>\n",
       "      <td>홍길동</td>\n",
       "      <td>20</td>\n",
       "      <td>hong@hong.com</td>\n",
       "      <td>서울시 강동구</td>\n",
       "      <td>1999-01-01</td>\n",
       "    </tr>\n",
       "    <tr>\n",
       "      <th>1</th>\n",
       "      <td>홍길서</td>\n",
       "      <td>30</td>\n",
       "      <td>seo@hong.com</td>\n",
       "      <td>서울시 중구</td>\n",
       "      <td>1999-12-01</td>\n",
       "    </tr>\n",
       "    <tr>\n",
       "      <th>2</th>\n",
       "      <td>홍길남</td>\n",
       "      <td>21</td>\n",
       "      <td>nam@hong.com</td>\n",
       "      <td>서울시 강동구</td>\n",
       "      <td>1999-11-01</td>\n",
       "    </tr>\n",
       "    <tr>\n",
       "      <th>3</th>\n",
       "      <td>홍길북</td>\n",
       "      <td>22</td>\n",
       "      <td>buk@hong.com</td>\n",
       "      <td>서울시 관악구</td>\n",
       "      <td>1999-05-01</td>\n",
       "    </tr>\n",
       "    <tr>\n",
       "      <th>4</th>\n",
       "      <td>홍길중</td>\n",
       "      <td>23</td>\n",
       "      <td>mid@hong.com</td>\n",
       "      <td>부산시 중구</td>\n",
       "      <td>1999-01-30</td>\n",
       "    </tr>\n",
       "  </tbody>\n",
       "</table>\n",
       "</div>"
      ],
      "text/plain": [
       "  Name  Age          Email  Address      Birth\n",
       "0  홍길동   20  hong@hong.com  서울시 강동구 1999-01-01\n",
       "1  홍길서   30   seo@hong.com   서울시 중구 1999-12-01\n",
       "2  홍길남   21   nam@hong.com  서울시 강동구 1999-11-01\n",
       "3  홍길북   22   buk@hong.com  서울시 관악구 1999-05-01\n",
       "4  홍길중   23   mid@hong.com   부산시 중구 1999-01-30"
      ]
     },
     "execution_count": 27,
     "metadata": {},
     "output_type": "execute_result"
    }
   ],
   "source": [
    "member = pd.read_csv('data/ch12_member.csv', comment='#', parse_dates=['Birth'])\n",
    "member"
   ]
  },
  {
   "cell_type": "markdown",
   "id": "20cb95e5",
   "metadata": {},
   "source": [
    "## 4.1 단일 열조회"
   ]
  },
  {
   "cell_type": "code",
   "execution_count": 29,
   "id": "11f4081d",
   "metadata": {
    "ExecuteTime": {
     "end_time": "2024-11-26T01:04:46.764577Z",
     "start_time": "2024-11-26T01:04:46.757596Z"
    }
   },
   "outputs": [
    {
     "data": {
      "text/plain": [
       "0    홍길동\n",
       "1    홍길서\n",
       "2    홍길남\n",
       "3    홍길북\n",
       "4    홍길중\n",
       "Name: Name, dtype: object"
      ]
     },
     "execution_count": 29,
     "metadata": {},
     "output_type": "execute_result"
    }
   ],
   "source": [
    "member['Name']\n",
    "member.Name"
   ]
  },
  {
   "cell_type": "code",
   "execution_count": 30,
   "id": "e8936f6f",
   "metadata": {
    "ExecuteTime": {
     "end_time": "2024-11-26T01:05:11.620493Z",
     "start_time": "2024-11-26T01:05:09.564564Z"
    },
    "collapsed": true
   },
   "outputs": [
    {
     "ename": "KeyError",
     "evalue": "0",
     "output_type": "error",
     "traceback": [
      "\u001b[1;31m---------------------------------------------------------------------------\u001b[0m",
      "\u001b[1;31mKeyError\u001b[0m                                  Traceback (most recent call last)",
      "File \u001b[1;32m~\\anaconda3\\lib\\site-packages\\pandas\\core\\indexes\\base.py:3802\u001b[0m, in \u001b[0;36mIndex.get_loc\u001b[1;34m(self, key, method, tolerance)\u001b[0m\n\u001b[0;32m   3801\u001b[0m \u001b[38;5;28;01mtry\u001b[39;00m:\n\u001b[1;32m-> 3802\u001b[0m     \u001b[38;5;28;01mreturn\u001b[39;00m \u001b[38;5;28;43mself\u001b[39;49m\u001b[38;5;241;43m.\u001b[39;49m\u001b[43m_engine\u001b[49m\u001b[38;5;241;43m.\u001b[39;49m\u001b[43mget_loc\u001b[49m\u001b[43m(\u001b[49m\u001b[43mcasted_key\u001b[49m\u001b[43m)\u001b[49m\n\u001b[0;32m   3803\u001b[0m \u001b[38;5;28;01mexcept\u001b[39;00m \u001b[38;5;167;01mKeyError\u001b[39;00m \u001b[38;5;28;01mas\u001b[39;00m err:\n",
      "File \u001b[1;32m~\\anaconda3\\lib\\site-packages\\pandas\\_libs\\index.pyx:138\u001b[0m, in \u001b[0;36mpandas._libs.index.IndexEngine.get_loc\u001b[1;34m()\u001b[0m\n",
      "File \u001b[1;32m~\\anaconda3\\lib\\site-packages\\pandas\\_libs\\index.pyx:165\u001b[0m, in \u001b[0;36mpandas._libs.index.IndexEngine.get_loc\u001b[1;34m()\u001b[0m\n",
      "File \u001b[1;32mpandas\\_libs\\hashtable_class_helper.pxi:5745\u001b[0m, in \u001b[0;36mpandas._libs.hashtable.PyObjectHashTable.get_item\u001b[1;34m()\u001b[0m\n",
      "File \u001b[1;32mpandas\\_libs\\hashtable_class_helper.pxi:5753\u001b[0m, in \u001b[0;36mpandas._libs.hashtable.PyObjectHashTable.get_item\u001b[1;34m()\u001b[0m\n",
      "\u001b[1;31mKeyError\u001b[0m: 0",
      "\nThe above exception was the direct cause of the following exception:\n",
      "\u001b[1;31mKeyError\u001b[0m                                  Traceback (most recent call last)",
      "Cell \u001b[1;32mIn[30], line 1\u001b[0m\n\u001b[1;32m----> 1\u001b[0m \u001b[43mmember\u001b[49m\u001b[43m[\u001b[49m\u001b[38;5;241;43m0\u001b[39;49m\u001b[43m]\u001b[49m\n",
      "File \u001b[1;32m~\\anaconda3\\lib\\site-packages\\pandas\\core\\frame.py:3807\u001b[0m, in \u001b[0;36mDataFrame.__getitem__\u001b[1;34m(self, key)\u001b[0m\n\u001b[0;32m   3805\u001b[0m \u001b[38;5;28;01mif\u001b[39;00m \u001b[38;5;28mself\u001b[39m\u001b[38;5;241m.\u001b[39mcolumns\u001b[38;5;241m.\u001b[39mnlevels \u001b[38;5;241m>\u001b[39m \u001b[38;5;241m1\u001b[39m:\n\u001b[0;32m   3806\u001b[0m     \u001b[38;5;28;01mreturn\u001b[39;00m \u001b[38;5;28mself\u001b[39m\u001b[38;5;241m.\u001b[39m_getitem_multilevel(key)\n\u001b[1;32m-> 3807\u001b[0m indexer \u001b[38;5;241m=\u001b[39m \u001b[38;5;28;43mself\u001b[39;49m\u001b[38;5;241;43m.\u001b[39;49m\u001b[43mcolumns\u001b[49m\u001b[38;5;241;43m.\u001b[39;49m\u001b[43mget_loc\u001b[49m\u001b[43m(\u001b[49m\u001b[43mkey\u001b[49m\u001b[43m)\u001b[49m\n\u001b[0;32m   3808\u001b[0m \u001b[38;5;28;01mif\u001b[39;00m is_integer(indexer):\n\u001b[0;32m   3809\u001b[0m     indexer \u001b[38;5;241m=\u001b[39m [indexer]\n",
      "File \u001b[1;32m~\\anaconda3\\lib\\site-packages\\pandas\\core\\indexes\\base.py:3804\u001b[0m, in \u001b[0;36mIndex.get_loc\u001b[1;34m(self, key, method, tolerance)\u001b[0m\n\u001b[0;32m   3802\u001b[0m     \u001b[38;5;28;01mreturn\u001b[39;00m \u001b[38;5;28mself\u001b[39m\u001b[38;5;241m.\u001b[39m_engine\u001b[38;5;241m.\u001b[39mget_loc(casted_key)\n\u001b[0;32m   3803\u001b[0m \u001b[38;5;28;01mexcept\u001b[39;00m \u001b[38;5;167;01mKeyError\u001b[39;00m \u001b[38;5;28;01mas\u001b[39;00m err:\n\u001b[1;32m-> 3804\u001b[0m     \u001b[38;5;28;01mraise\u001b[39;00m \u001b[38;5;167;01mKeyError\u001b[39;00m(key) \u001b[38;5;28;01mfrom\u001b[39;00m \u001b[38;5;21;01merr\u001b[39;00m\n\u001b[0;32m   3805\u001b[0m \u001b[38;5;28;01mexcept\u001b[39;00m \u001b[38;5;167;01mTypeError\u001b[39;00m:\n\u001b[0;32m   3806\u001b[0m     \u001b[38;5;66;03m# If we have a listlike key, _check_indexing_error will raise\u001b[39;00m\n\u001b[0;32m   3807\u001b[0m     \u001b[38;5;66;03m#  InvalidIndexError. Otherwise we fall through and re-raise\u001b[39;00m\n\u001b[0;32m   3808\u001b[0m     \u001b[38;5;66;03m#  the TypeError.\u001b[39;00m\n\u001b[0;32m   3809\u001b[0m     \u001b[38;5;28mself\u001b[39m\u001b[38;5;241m.\u001b[39m_check_indexing_error(key)\n",
      "\u001b[1;31mKeyError\u001b[0m: 0"
     ]
    }
   ],
   "source": [
    "# member[0] # 행을 조회할 경우 Error"
   ]
  },
  {
   "cell_type": "markdown",
   "id": "f8a37713",
   "metadata": {},
   "source": [
    "## 4.2 loc을 이용한 조회\n",
    "- df.loc[행이름, 열이름]; 행이름, 열이름으로 조회,\n",
    "            * 행이름과 열이름 자리에 슬라이싱(from:to)은 from부터 to까지 (from, to 포함)\n",
    "            * 행이름과 열이름 자리에 list"
   ]
  },
  {
   "cell_type": "code",
   "execution_count": 31,
   "id": "6064b00d",
   "metadata": {
    "ExecuteTime": {
     "end_time": "2024-11-26T01:10:12.212330Z",
     "start_time": "2024-11-26T01:10:12.199451Z"
    }
   },
   "outputs": [
    {
     "data": {
      "text/html": [
       "<div>\n",
       "<style scoped>\n",
       "    .dataframe tbody tr th:only-of-type {\n",
       "        vertical-align: middle;\n",
       "    }\n",
       "\n",
       "    .dataframe tbody tr th {\n",
       "        vertical-align: top;\n",
       "    }\n",
       "\n",
       "    .dataframe thead th {\n",
       "        text-align: right;\n",
       "    }\n",
       "</style>\n",
       "<table border=\"1\" class=\"dataframe\">\n",
       "  <thead>\n",
       "    <tr style=\"text-align: right;\">\n",
       "      <th></th>\n",
       "      <th>Name</th>\n",
       "      <th>Age</th>\n",
       "      <th>Email</th>\n",
       "      <th>Address</th>\n",
       "      <th>Birth</th>\n",
       "    </tr>\n",
       "  </thead>\n",
       "  <tbody>\n",
       "    <tr>\n",
       "      <th>0</th>\n",
       "      <td>홍길동</td>\n",
       "      <td>20</td>\n",
       "      <td>hong@hong.com</td>\n",
       "      <td>서울시 강동구</td>\n",
       "      <td>1999-01-01</td>\n",
       "    </tr>\n",
       "    <tr>\n",
       "      <th>1</th>\n",
       "      <td>홍길서</td>\n",
       "      <td>30</td>\n",
       "      <td>seo@hong.com</td>\n",
       "      <td>서울시 중구</td>\n",
       "      <td>1999-12-01</td>\n",
       "    </tr>\n",
       "    <tr>\n",
       "      <th>2</th>\n",
       "      <td>홍길남</td>\n",
       "      <td>21</td>\n",
       "      <td>nam@hong.com</td>\n",
       "      <td>서울시 강동구</td>\n",
       "      <td>1999-11-01</td>\n",
       "    </tr>\n",
       "  </tbody>\n",
       "</table>\n",
       "</div>"
      ],
      "text/plain": [
       "  Name  Age          Email  Address      Birth\n",
       "0  홍길동   20  hong@hong.com  서울시 강동구 1999-01-01\n",
       "1  홍길서   30   seo@hong.com   서울시 중구 1999-12-01\n",
       "2  홍길남   21   nam@hong.com  서울시 강동구 1999-11-01"
      ]
     },
     "execution_count": 31,
     "metadata": {},
     "output_type": "execute_result"
    }
   ],
   "source": [
    "member.loc[0:2] # 2행 포함, member.loc[0:2, ], member.loc[0:2, :]\n",
    "# 모든 열을 다 출력할 경우 열 생략 가능"
   ]
  },
  {
   "cell_type": "code",
   "execution_count": 33,
   "id": "86a3d221",
   "metadata": {
    "ExecuteTime": {
     "end_time": "2024-11-26T01:12:33.372899Z",
     "start_time": "2024-11-26T01:12:33.359625Z"
    }
   },
   "outputs": [
    {
     "data": {
      "text/html": [
       "<div>\n",
       "<style scoped>\n",
       "    .dataframe tbody tr th:only-of-type {\n",
       "        vertical-align: middle;\n",
       "    }\n",
       "\n",
       "    .dataframe tbody tr th {\n",
       "        vertical-align: top;\n",
       "    }\n",
       "\n",
       "    .dataframe thead th {\n",
       "        text-align: right;\n",
       "    }\n",
       "</style>\n",
       "<table border=\"1\" class=\"dataframe\">\n",
       "  <thead>\n",
       "    <tr style=\"text-align: right;\">\n",
       "      <th></th>\n",
       "      <th>Name</th>\n",
       "      <th>Age</th>\n",
       "      <th>Email</th>\n",
       "      <th>Address</th>\n",
       "      <th>Birth</th>\n",
       "    </tr>\n",
       "  </thead>\n",
       "  <tbody>\n",
       "    <tr>\n",
       "      <th>동</th>\n",
       "      <td>홍길동</td>\n",
       "      <td>20</td>\n",
       "      <td>hong@hong.com</td>\n",
       "      <td>서울시 강동구</td>\n",
       "      <td>1999-01-01</td>\n",
       "    </tr>\n",
       "    <tr>\n",
       "      <th>서</th>\n",
       "      <td>홍길서</td>\n",
       "      <td>30</td>\n",
       "      <td>seo@hong.com</td>\n",
       "      <td>서울시 중구</td>\n",
       "      <td>1999-12-01</td>\n",
       "    </tr>\n",
       "    <tr>\n",
       "      <th>남</th>\n",
       "      <td>홍길남</td>\n",
       "      <td>21</td>\n",
       "      <td>nam@hong.com</td>\n",
       "      <td>서울시 강동구</td>\n",
       "      <td>1999-11-01</td>\n",
       "    </tr>\n",
       "  </tbody>\n",
       "</table>\n",
       "</div>"
      ],
      "text/plain": [
       "  Name  Age          Email  Address      Birth\n",
       "동  홍길동   20  hong@hong.com  서울시 강동구 1999-01-01\n",
       "서  홍길서   30   seo@hong.com   서울시 중구 1999-12-01\n",
       "남  홍길남   21   nam@hong.com  서울시 강동구 1999-11-01"
      ]
     },
     "execution_count": 33,
     "metadata": {},
     "output_type": "execute_result"
    }
   ],
   "source": [
    "member.index = ['동', '서', '남', '북', '중']\n",
    "member.loc['동':'남']"
   ]
  },
  {
   "cell_type": "code",
   "execution_count": 37,
   "id": "5726192b",
   "metadata": {
    "ExecuteTime": {
     "end_time": "2024-11-26T01:16:15.838554Z",
     "start_time": "2024-11-26T01:16:15.829556Z"
    }
   },
   "outputs": [
    {
     "data": {
      "text/html": [
       "<div>\n",
       "<style scoped>\n",
       "    .dataframe tbody tr th:only-of-type {\n",
       "        vertical-align: middle;\n",
       "    }\n",
       "\n",
       "    .dataframe tbody tr th {\n",
       "        vertical-align: top;\n",
       "    }\n",
       "\n",
       "    .dataframe thead th {\n",
       "        text-align: right;\n",
       "    }\n",
       "</style>\n",
       "<table border=\"1\" class=\"dataframe\">\n",
       "  <thead>\n",
       "    <tr style=\"text-align: right;\">\n",
       "      <th></th>\n",
       "      <th>Name</th>\n",
       "      <th>Age</th>\n",
       "      <th>Email</th>\n",
       "    </tr>\n",
       "  </thead>\n",
       "  <tbody>\n",
       "    <tr>\n",
       "      <th>동</th>\n",
       "      <td>홍길동</td>\n",
       "      <td>20</td>\n",
       "      <td>hong@hong.com</td>\n",
       "    </tr>\n",
       "    <tr>\n",
       "      <th>서</th>\n",
       "      <td>홍길서</td>\n",
       "      <td>30</td>\n",
       "      <td>seo@hong.com</td>\n",
       "    </tr>\n",
       "    <tr>\n",
       "      <th>남</th>\n",
       "      <td>홍길남</td>\n",
       "      <td>21</td>\n",
       "      <td>nam@hong.com</td>\n",
       "    </tr>\n",
       "  </tbody>\n",
       "</table>\n",
       "</div>"
      ],
      "text/plain": [
       "  Name  Age          Email\n",
       "동  홍길동   20  hong@hong.com\n",
       "서  홍길서   30   seo@hong.com\n",
       "남  홍길남   21   nam@hong.com"
      ]
     },
     "execution_count": 37,
     "metadata": {},
     "output_type": "execute_result"
    }
   ],
   "source": [
    "# 동~남행까지, Name~Email열까지  \n",
    "member.loc['동':'남', 'Name':'Email']"
   ]
  },
  {
   "cell_type": "code",
   "execution_count": 38,
   "id": "a57133f8",
   "metadata": {
    "ExecuteTime": {
     "end_time": "2024-11-26T01:16:50.087611Z",
     "start_time": "2024-11-26T01:16:50.066758Z"
    }
   },
   "outputs": [
    {
     "data": {
      "text/html": [
       "<div>\n",
       "<style scoped>\n",
       "    .dataframe tbody tr th:only-of-type {\n",
       "        vertical-align: middle;\n",
       "    }\n",
       "\n",
       "    .dataframe tbody tr th {\n",
       "        vertical-align: top;\n",
       "    }\n",
       "\n",
       "    .dataframe thead th {\n",
       "        text-align: right;\n",
       "    }\n",
       "</style>\n",
       "<table border=\"1\" class=\"dataframe\">\n",
       "  <thead>\n",
       "    <tr style=\"text-align: right;\">\n",
       "      <th></th>\n",
       "      <th>Name</th>\n",
       "      <th>Email</th>\n",
       "    </tr>\n",
       "  </thead>\n",
       "  <tbody>\n",
       "    <tr>\n",
       "      <th>동</th>\n",
       "      <td>홍길동</td>\n",
       "      <td>hong@hong.com</td>\n",
       "    </tr>\n",
       "    <tr>\n",
       "      <th>남</th>\n",
       "      <td>홍길남</td>\n",
       "      <td>nam@hong.com</td>\n",
       "    </tr>\n",
       "  </tbody>\n",
       "</table>\n",
       "</div>"
      ],
      "text/plain": [
       "  Name          Email\n",
       "동  홍길동  hong@hong.com\n",
       "남  홍길남   nam@hong.com"
      ]
     },
     "execution_count": 38,
     "metadata": {},
     "output_type": "execute_result"
    }
   ],
   "source": [
    "# 동행과 남행까지, Name열과 Email열까지 \n",
    "member.loc[['동', '남'], ['Name', 'Email']]"
   ]
  },
  {
   "cell_type": "code",
   "execution_count": 40,
   "id": "a97f5889",
   "metadata": {
    "ExecuteTime": {
     "end_time": "2024-11-26T01:18:56.884631Z",
     "start_time": "2024-11-26T01:18:56.878650Z"
    }
   },
   "outputs": [
    {
     "data": {
      "text/plain": [
       "('홍길동', str)"
      ]
     },
     "execution_count": 40,
     "metadata": {},
     "output_type": "execute_result"
    }
   ],
   "source": [
    "member.loc['동', 'Name'], type(member.loc['동', 'Name'])"
   ]
  },
  {
   "cell_type": "code",
   "execution_count": 43,
   "id": "ef1ab88b",
   "metadata": {
    "ExecuteTime": {
     "end_time": "2024-11-26T01:19:48.686672Z",
     "start_time": "2024-11-26T01:19:48.679691Z"
    }
   },
   "outputs": [
    {
     "data": {
      "text/plain": [
       "(Name                       홍길동\n",
       " Age                         20\n",
       " Email            hong@hong.com\n",
       " Address                서울시 강동구\n",
       " Birth      1999-01-01 00:00:00\n",
       " Name: 동, dtype: object,\n",
       " pandas.core.series.Series)"
      ]
     },
     "execution_count": 43,
     "metadata": {},
     "output_type": "execute_result"
    }
   ],
   "source": [
    "member.loc['동'], type(member.loc['동']) # 한 행의 결과 1차원 시리즈"
   ]
  },
  {
   "cell_type": "code",
   "execution_count": 46,
   "id": "338cefab",
   "metadata": {
    "ExecuteTime": {
     "end_time": "2024-11-26T01:21:46.861284Z",
     "start_time": "2024-11-26T01:21:46.854309Z"
    }
   },
   "outputs": [
    {
     "data": {
      "text/plain": [
       "(동    홍길동\n",
       " 서    홍길서\n",
       " 남    홍길남\n",
       " 북    홍길북\n",
       " 중    홍길중\n",
       " Name: Name, dtype: object,\n",
       " pandas.core.series.Series)"
      ]
     },
     "execution_count": 46,
     "metadata": {},
     "output_type": "execute_result"
    }
   ],
   "source": [
    "#  member.loc['Name'] Error\n",
    "member['Name'], type(member['Name'])"
   ]
  },
  {
   "cell_type": "markdown",
   "id": "08cd393a",
   "metadata": {},
   "source": [
    "## 4.3 iloc을 이용한 조회\n",
    "- df.iloc[행번호, 열번호]\n",
    "    * 행번호, 열번호 자리에 list\n",
    "    * 행번호, 열번호 자리에 list, 슬라이싱 [from:stop:by]: from부터 stop앞까지 by씩"
   ]
  },
  {
   "cell_type": "code",
   "execution_count": 50,
   "id": "6bb79025",
   "metadata": {
    "ExecuteTime": {
     "end_time": "2024-11-26T01:35:23.682564Z",
     "start_time": "2024-11-26T01:35:23.671022Z"
    }
   },
   "outputs": [
    {
     "data": {
      "text/html": [
       "<div>\n",
       "<style scoped>\n",
       "    .dataframe tbody tr th:only-of-type {\n",
       "        vertical-align: middle;\n",
       "    }\n",
       "\n",
       "    .dataframe tbody tr th {\n",
       "        vertical-align: top;\n",
       "    }\n",
       "\n",
       "    .dataframe thead th {\n",
       "        text-align: right;\n",
       "    }\n",
       "</style>\n",
       "<table border=\"1\" class=\"dataframe\">\n",
       "  <thead>\n",
       "    <tr style=\"text-align: right;\">\n",
       "      <th></th>\n",
       "      <th>Name</th>\n",
       "      <th>Age</th>\n",
       "      <th>Email</th>\n",
       "      <th>Address</th>\n",
       "      <th>Birth</th>\n",
       "    </tr>\n",
       "  </thead>\n",
       "  <tbody>\n",
       "    <tr>\n",
       "      <th>동</th>\n",
       "      <td>홍길동</td>\n",
       "      <td>20</td>\n",
       "      <td>hong@hong.com</td>\n",
       "      <td>서울시 강동구</td>\n",
       "      <td>1999-01-01</td>\n",
       "    </tr>\n",
       "    <tr>\n",
       "      <th>서</th>\n",
       "      <td>홍길서</td>\n",
       "      <td>30</td>\n",
       "      <td>seo@hong.com</td>\n",
       "      <td>서울시 중구</td>\n",
       "      <td>1999-12-01</td>\n",
       "    </tr>\n",
       "    <tr>\n",
       "      <th>남</th>\n",
       "      <td>홍길남</td>\n",
       "      <td>21</td>\n",
       "      <td>nam@hong.com</td>\n",
       "      <td>서울시 강동구</td>\n",
       "      <td>1999-11-01</td>\n",
       "    </tr>\n",
       "    <tr>\n",
       "      <th>북</th>\n",
       "      <td>홍길북</td>\n",
       "      <td>22</td>\n",
       "      <td>buk@hong.com</td>\n",
       "      <td>서울시 관악구</td>\n",
       "      <td>1999-05-01</td>\n",
       "    </tr>\n",
       "    <tr>\n",
       "      <th>중</th>\n",
       "      <td>홍길중</td>\n",
       "      <td>23</td>\n",
       "      <td>mid@hong.com</td>\n",
       "      <td>부산시 중구</td>\n",
       "      <td>1999-01-30</td>\n",
       "    </tr>\n",
       "  </tbody>\n",
       "</table>\n",
       "</div>"
      ],
      "text/plain": [
       "  Name  Age          Email  Address      Birth\n",
       "동  홍길동   20  hong@hong.com  서울시 강동구 1999-01-01\n",
       "서  홍길서   30   seo@hong.com   서울시 중구 1999-12-01\n",
       "남  홍길남   21   nam@hong.com  서울시 강동구 1999-11-01\n",
       "북  홍길북   22   buk@hong.com  서울시 관악구 1999-05-01\n",
       "중  홍길중   23   mid@hong.com   부산시 중구 1999-01-30"
      ]
     },
     "execution_count": 50,
     "metadata": {},
     "output_type": "execute_result"
    }
   ],
   "source": [
    "member"
   ]
  },
  {
   "cell_type": "code",
   "execution_count": 51,
   "id": "cf70c39f",
   "metadata": {
    "ExecuteTime": {
     "end_time": "2024-11-26T01:35:58.191796Z",
     "start_time": "2024-11-26T01:35:58.181241Z"
    }
   },
   "outputs": [
    {
     "data": {
      "text/html": [
       "<div>\n",
       "<style scoped>\n",
       "    .dataframe tbody tr th:only-of-type {\n",
       "        vertical-align: middle;\n",
       "    }\n",
       "\n",
       "    .dataframe tbody tr th {\n",
       "        vertical-align: top;\n",
       "    }\n",
       "\n",
       "    .dataframe thead th {\n",
       "        text-align: right;\n",
       "    }\n",
       "</style>\n",
       "<table border=\"1\" class=\"dataframe\">\n",
       "  <thead>\n",
       "    <tr style=\"text-align: right;\">\n",
       "      <th></th>\n",
       "      <th>Name</th>\n",
       "      <th>Age</th>\n",
       "      <th>Email</th>\n",
       "      <th>Address</th>\n",
       "      <th>Birth</th>\n",
       "    </tr>\n",
       "  </thead>\n",
       "  <tbody>\n",
       "    <tr>\n",
       "      <th>남</th>\n",
       "      <td>홍길남</td>\n",
       "      <td>21</td>\n",
       "      <td>nam@hong.com</td>\n",
       "      <td>서울시 강동구</td>\n",
       "      <td>1999-11-01</td>\n",
       "    </tr>\n",
       "    <tr>\n",
       "      <th>북</th>\n",
       "      <td>홍길북</td>\n",
       "      <td>22</td>\n",
       "      <td>buk@hong.com</td>\n",
       "      <td>서울시 관악구</td>\n",
       "      <td>1999-05-01</td>\n",
       "    </tr>\n",
       "  </tbody>\n",
       "</table>\n",
       "</div>"
      ],
      "text/plain": [
       "  Name  Age         Email  Address      Birth\n",
       "남  홍길남   21  nam@hong.com  서울시 강동구 1999-11-01\n",
       "북  홍길북   22  buk@hong.com  서울시 관악구 1999-05-01"
      ]
     },
     "execution_count": 51,
     "metadata": {},
     "output_type": "execute_result"
    }
   ],
   "source": [
    "# 2번째~3번째행 (열번호 생략 시 모든 열 출력)\n",
    "member.iloc[2:4]"
   ]
  },
  {
   "cell_type": "code",
   "execution_count": 52,
   "id": "7cfdee79",
   "metadata": {
    "ExecuteTime": {
     "end_time": "2024-11-26T01:36:42.574849Z",
     "start_time": "2024-11-26T01:36:42.567866Z"
    }
   },
   "outputs": [
    {
     "data": {
      "text/plain": [
       "Name                       홍길동\n",
       "Age                         20\n",
       "Email            hong@hong.com\n",
       "Address                서울시 강동구\n",
       "Birth      1999-01-01 00:00:00\n",
       "Name: 동, dtype: object"
      ]
     },
     "execution_count": 52,
     "metadata": {},
     "output_type": "execute_result"
    }
   ],
   "source": [
    "member.iloc[0] # 1차원 시리즈"
   ]
  },
  {
   "cell_type": "code",
   "execution_count": 53,
   "id": "0953de87",
   "metadata": {
    "ExecuteTime": {
     "end_time": "2024-11-26T01:36:58.187870Z",
     "start_time": "2024-11-26T01:36:58.181906Z"
    }
   },
   "outputs": [
    {
     "data": {
      "text/plain": [
       "'홍길동'"
      ]
     },
     "execution_count": 53,
     "metadata": {},
     "output_type": "execute_result"
    }
   ],
   "source": [
    "member.iloc[0, 0]"
   ]
  },
  {
   "cell_type": "code",
   "execution_count": 56,
   "id": "c8d5ebc7",
   "metadata": {
    "ExecuteTime": {
     "end_time": "2024-11-26T01:37:51.495305Z",
     "start_time": "2024-11-26T01:37:51.486308Z"
    }
   },
   "outputs": [
    {
     "data": {
      "text/html": [
       "<div>\n",
       "<style scoped>\n",
       "    .dataframe tbody tr th:only-of-type {\n",
       "        vertical-align: middle;\n",
       "    }\n",
       "\n",
       "    .dataframe tbody tr th {\n",
       "        vertical-align: top;\n",
       "    }\n",
       "\n",
       "    .dataframe thead th {\n",
       "        text-align: right;\n",
       "    }\n",
       "</style>\n",
       "<table border=\"1\" class=\"dataframe\">\n",
       "  <thead>\n",
       "    <tr style=\"text-align: right;\">\n",
       "      <th></th>\n",
       "      <th>Age</th>\n",
       "      <th>Email</th>\n",
       "      <th>Address</th>\n",
       "    </tr>\n",
       "  </thead>\n",
       "  <tbody>\n",
       "    <tr>\n",
       "      <th>동</th>\n",
       "      <td>20</td>\n",
       "      <td>hong@hong.com</td>\n",
       "      <td>서울시 강동구</td>\n",
       "    </tr>\n",
       "    <tr>\n",
       "      <th>서</th>\n",
       "      <td>30</td>\n",
       "      <td>seo@hong.com</td>\n",
       "      <td>서울시 중구</td>\n",
       "    </tr>\n",
       "    <tr>\n",
       "      <th>남</th>\n",
       "      <td>21</td>\n",
       "      <td>nam@hong.com</td>\n",
       "      <td>서울시 강동구</td>\n",
       "    </tr>\n",
       "  </tbody>\n",
       "</table>\n",
       "</div>"
      ],
      "text/plain": [
       "   Age          Email  Address\n",
       "동   20  hong@hong.com  서울시 강동구\n",
       "서   30   seo@hong.com   서울시 중구\n",
       "남   21   nam@hong.com  서울시 강동구"
      ]
     },
     "execution_count": 56,
     "metadata": {},
     "output_type": "execute_result"
    }
   ],
   "source": [
    "# 0번째~2번째행, 1번째~3번째 열\n",
    "member.iloc[0:3, 1:4]"
   ]
  },
  {
   "cell_type": "code",
   "execution_count": 57,
   "id": "d06ae23d",
   "metadata": {
    "ExecuteTime": {
     "end_time": "2024-11-26T01:38:43.976307Z",
     "start_time": "2024-11-26T01:38:43.965631Z"
    }
   },
   "outputs": [
    {
     "data": {
      "text/html": [
       "<div>\n",
       "<style scoped>\n",
       "    .dataframe tbody tr th:only-of-type {\n",
       "        vertical-align: middle;\n",
       "    }\n",
       "\n",
       "    .dataframe tbody tr th {\n",
       "        vertical-align: top;\n",
       "    }\n",
       "\n",
       "    .dataframe thead th {\n",
       "        text-align: right;\n",
       "    }\n",
       "</style>\n",
       "<table border=\"1\" class=\"dataframe\">\n",
       "  <thead>\n",
       "    <tr style=\"text-align: right;\">\n",
       "      <th></th>\n",
       "      <th>Name</th>\n",
       "      <th>Age</th>\n",
       "      <th>Email</th>\n",
       "      <th>Address</th>\n",
       "    </tr>\n",
       "  </thead>\n",
       "  <tbody>\n",
       "    <tr>\n",
       "      <th>동</th>\n",
       "      <td>홍길동</td>\n",
       "      <td>20</td>\n",
       "      <td>hong@hong.com</td>\n",
       "      <td>서울시 강동구</td>\n",
       "    </tr>\n",
       "    <tr>\n",
       "      <th>남</th>\n",
       "      <td>홍길남</td>\n",
       "      <td>21</td>\n",
       "      <td>nam@hong.com</td>\n",
       "      <td>서울시 강동구</td>\n",
       "    </tr>\n",
       "    <tr>\n",
       "      <th>중</th>\n",
       "      <td>홍길중</td>\n",
       "      <td>23</td>\n",
       "      <td>mid@hong.com</td>\n",
       "      <td>부산시 중구</td>\n",
       "    </tr>\n",
       "  </tbody>\n",
       "</table>\n",
       "</div>"
      ],
      "text/plain": [
       "  Name  Age          Email  Address\n",
       "동  홍길동   20  hong@hong.com  서울시 강동구\n",
       "남  홍길남   21   nam@hong.com  서울시 강동구\n",
       "중  홍길중   23   mid@hong.com   부산시 중구"
      ]
     },
     "execution_count": 57,
     "metadata": {},
     "output_type": "execute_result"
    }
   ],
   "source": [
    "# 짝수번째 행의 맨 마지막 열을 제외하고 출력\n",
    "member.iloc[::2, 0:-1]"
   ]
  },
  {
   "cell_type": "code",
   "execution_count": 58,
   "id": "0efebbed",
   "metadata": {
    "ExecuteTime": {
     "end_time": "2024-11-26T01:40:53.801316Z",
     "start_time": "2024-11-26T01:40:53.789767Z"
    }
   },
   "outputs": [
    {
     "data": {
      "text/html": [
       "<div>\n",
       "<style scoped>\n",
       "    .dataframe tbody tr th:only-of-type {\n",
       "        vertical-align: middle;\n",
       "    }\n",
       "\n",
       "    .dataframe tbody tr th {\n",
       "        vertical-align: top;\n",
       "    }\n",
       "\n",
       "    .dataframe thead th {\n",
       "        text-align: right;\n",
       "    }\n",
       "</style>\n",
       "<table border=\"1\" class=\"dataframe\">\n",
       "  <thead>\n",
       "    <tr style=\"text-align: right;\">\n",
       "      <th></th>\n",
       "      <th>Name</th>\n",
       "      <th>Age</th>\n",
       "      <th>Email</th>\n",
       "      <th>Address</th>\n",
       "      <th>Birth</th>\n",
       "    </tr>\n",
       "  </thead>\n",
       "  <tbody>\n",
       "    <tr>\n",
       "      <th>중</th>\n",
       "      <td>홍길중</td>\n",
       "      <td>23</td>\n",
       "      <td>mid@hong.com</td>\n",
       "      <td>부산시 중구</td>\n",
       "      <td>1999-01-30</td>\n",
       "    </tr>\n",
       "    <tr>\n",
       "      <th>북</th>\n",
       "      <td>홍길북</td>\n",
       "      <td>22</td>\n",
       "      <td>buk@hong.com</td>\n",
       "      <td>서울시 관악구</td>\n",
       "      <td>1999-05-01</td>\n",
       "    </tr>\n",
       "    <tr>\n",
       "      <th>남</th>\n",
       "      <td>홍길남</td>\n",
       "      <td>21</td>\n",
       "      <td>nam@hong.com</td>\n",
       "      <td>서울시 강동구</td>\n",
       "      <td>1999-11-01</td>\n",
       "    </tr>\n",
       "    <tr>\n",
       "      <th>서</th>\n",
       "      <td>홍길서</td>\n",
       "      <td>30</td>\n",
       "      <td>seo@hong.com</td>\n",
       "      <td>서울시 중구</td>\n",
       "      <td>1999-12-01</td>\n",
       "    </tr>\n",
       "    <tr>\n",
       "      <th>동</th>\n",
       "      <td>홍길동</td>\n",
       "      <td>20</td>\n",
       "      <td>hong@hong.com</td>\n",
       "      <td>서울시 강동구</td>\n",
       "      <td>1999-01-01</td>\n",
       "    </tr>\n",
       "  </tbody>\n",
       "</table>\n",
       "</div>"
      ],
      "text/plain": [
       "  Name  Age          Email  Address      Birth\n",
       "중  홍길중   23   mid@hong.com   부산시 중구 1999-01-30\n",
       "북  홍길북   22   buk@hong.com  서울시 관악구 1999-05-01\n",
       "남  홍길남   21   nam@hong.com  서울시 강동구 1999-11-01\n",
       "서  홍길서   30   seo@hong.com   서울시 중구 1999-12-01\n",
       "동  홍길동   20  hong@hong.com  서울시 강동구 1999-01-01"
      ]
     },
     "execution_count": 58,
     "metadata": {},
     "output_type": "execute_result"
    }
   ],
   "source": [
    "# 마지막행부터 처음행까지 거꾸로 출력\n",
    "member.iloc[::-1]"
   ]
  },
  {
   "cell_type": "code",
   "execution_count": 59,
   "id": "80387bb1",
   "metadata": {
    "ExecuteTime": {
     "end_time": "2024-11-26T01:41:59.928931Z",
     "start_time": "2024-11-26T01:41:59.917961Z"
    }
   },
   "outputs": [
    {
     "data": {
      "text/html": [
       "<div>\n",
       "<style scoped>\n",
       "    .dataframe tbody tr th:only-of-type {\n",
       "        vertical-align: middle;\n",
       "    }\n",
       "\n",
       "    .dataframe tbody tr th {\n",
       "        vertical-align: top;\n",
       "    }\n",
       "\n",
       "    .dataframe thead th {\n",
       "        text-align: right;\n",
       "    }\n",
       "</style>\n",
       "<table border=\"1\" class=\"dataframe\">\n",
       "  <thead>\n",
       "    <tr style=\"text-align: right;\">\n",
       "      <th></th>\n",
       "      <th>Age</th>\n",
       "      <th>Address</th>\n",
       "    </tr>\n",
       "  </thead>\n",
       "  <tbody>\n",
       "    <tr>\n",
       "      <th>동</th>\n",
       "      <td>20</td>\n",
       "      <td>서울시 강동구</td>\n",
       "    </tr>\n",
       "    <tr>\n",
       "      <th>남</th>\n",
       "      <td>21</td>\n",
       "      <td>서울시 강동구</td>\n",
       "    </tr>\n",
       "  </tbody>\n",
       "</table>\n",
       "</div>"
      ],
      "text/plain": [
       "   Age  Address\n",
       "동   20  서울시 강동구\n",
       "남   21  서울시 강동구"
      ]
     },
     "execution_count": 59,
     "metadata": {},
     "output_type": "execute_result"
    }
   ],
   "source": [
    "# 0번째와 2번째행, 1번째와 3번째 열\n",
    "member.iloc[[0, 2], [1, 3]]"
   ]
  },
  {
   "cell_type": "code",
   "execution_count": 60,
   "id": "48e777f7",
   "metadata": {
    "ExecuteTime": {
     "end_time": "2024-11-26T01:42:45.293876Z",
     "start_time": "2024-11-26T01:42:45.285917Z"
    }
   },
   "outputs": [
    {
     "data": {
      "text/plain": [
       "Name           홍길동\n",
       "Address    서울시 강동구\n",
       "Name: 동, dtype: object"
      ]
     },
     "execution_count": 60,
     "metadata": {},
     "output_type": "execute_result"
    }
   ],
   "source": [
    "# 0번째 행의 0번째, 3번째 열\n",
    "member.iloc[0, [0, 3]]"
   ]
  },
  {
   "cell_type": "markdown",
   "id": "c975e8e0",
   "metadata": {},
   "source": [
    "## 4.4 조건으로 조회하기"
   ]
  },
  {
   "cell_type": "code",
   "execution_count": 61,
   "id": "5c374f86",
   "metadata": {
    "ExecuteTime": {
     "end_time": "2024-11-26T01:44:07.720727Z",
     "start_time": "2024-11-26T01:44:07.710739Z"
    }
   },
   "outputs": [
    {
     "data": {
      "text/html": [
       "<div>\n",
       "<style scoped>\n",
       "    .dataframe tbody tr th:only-of-type {\n",
       "        vertical-align: middle;\n",
       "    }\n",
       "\n",
       "    .dataframe tbody tr th {\n",
       "        vertical-align: top;\n",
       "    }\n",
       "\n",
       "    .dataframe thead th {\n",
       "        text-align: right;\n",
       "    }\n",
       "</style>\n",
       "<table border=\"1\" class=\"dataframe\">\n",
       "  <thead>\n",
       "    <tr style=\"text-align: right;\">\n",
       "      <th></th>\n",
       "      <th>Name</th>\n",
       "      <th>Age</th>\n",
       "      <th>Email</th>\n",
       "      <th>Address</th>\n",
       "      <th>Birth</th>\n",
       "    </tr>\n",
       "  </thead>\n",
       "  <tbody>\n",
       "    <tr>\n",
       "      <th>동</th>\n",
       "      <td>홍길동</td>\n",
       "      <td>20</td>\n",
       "      <td>hong@hong.com</td>\n",
       "      <td>서울시 강동구</td>\n",
       "      <td>1999-01-01</td>\n",
       "    </tr>\n",
       "    <tr>\n",
       "      <th>서</th>\n",
       "      <td>홍길서</td>\n",
       "      <td>30</td>\n",
       "      <td>seo@hong.com</td>\n",
       "      <td>서울시 중구</td>\n",
       "      <td>1999-12-01</td>\n",
       "    </tr>\n",
       "    <tr>\n",
       "      <th>남</th>\n",
       "      <td>홍길남</td>\n",
       "      <td>21</td>\n",
       "      <td>nam@hong.com</td>\n",
       "      <td>서울시 강동구</td>\n",
       "      <td>1999-11-01</td>\n",
       "    </tr>\n",
       "    <tr>\n",
       "      <th>북</th>\n",
       "      <td>홍길북</td>\n",
       "      <td>22</td>\n",
       "      <td>buk@hong.com</td>\n",
       "      <td>서울시 관악구</td>\n",
       "      <td>1999-05-01</td>\n",
       "    </tr>\n",
       "    <tr>\n",
       "      <th>중</th>\n",
       "      <td>홍길중</td>\n",
       "      <td>23</td>\n",
       "      <td>mid@hong.com</td>\n",
       "      <td>부산시 중구</td>\n",
       "      <td>1999-01-30</td>\n",
       "    </tr>\n",
       "  </tbody>\n",
       "</table>\n",
       "</div>"
      ],
      "text/plain": [
       "  Name  Age          Email  Address      Birth\n",
       "동  홍길동   20  hong@hong.com  서울시 강동구 1999-01-01\n",
       "서  홍길서   30   seo@hong.com   서울시 중구 1999-12-01\n",
       "남  홍길남   21   nam@hong.com  서울시 강동구 1999-11-01\n",
       "북  홍길북   22   buk@hong.com  서울시 관악구 1999-05-01\n",
       "중  홍길중   23   mid@hong.com   부산시 중구 1999-01-30"
      ]
     },
     "execution_count": 61,
     "metadata": {},
     "output_type": "execute_result"
    }
   ],
   "source": [
    "member"
   ]
  },
  {
   "cell_type": "code",
   "execution_count": 64,
   "id": "dd690fd8",
   "metadata": {
    "ExecuteTime": {
     "end_time": "2024-11-26T01:45:15.149688Z",
     "start_time": "2024-11-26T01:45:15.142596Z"
    }
   },
   "outputs": [
    {
     "data": {
      "text/plain": [
       "동    False\n",
       "서     True\n",
       "남    False\n",
       "북    False\n",
       "중     True\n",
       "Name: Age, dtype: bool"
      ]
     },
     "execution_count": 64,
     "metadata": {},
     "output_type": "execute_result"
    }
   ],
   "source": [
    "member['Age'] >= 23"
   ]
  },
  {
   "cell_type": "code",
   "execution_count": 72,
   "id": "9e75ad22",
   "metadata": {
    "ExecuteTime": {
     "end_time": "2024-11-26T01:49:07.329455Z",
     "start_time": "2024-11-26T01:49:07.317264Z"
    }
   },
   "outputs": [
    {
     "data": {
      "text/html": [
       "<div>\n",
       "<style scoped>\n",
       "    .dataframe tbody tr th:only-of-type {\n",
       "        vertical-align: middle;\n",
       "    }\n",
       "\n",
       "    .dataframe tbody tr th {\n",
       "        vertical-align: top;\n",
       "    }\n",
       "\n",
       "    .dataframe thead th {\n",
       "        text-align: right;\n",
       "    }\n",
       "</style>\n",
       "<table border=\"1\" class=\"dataframe\">\n",
       "  <thead>\n",
       "    <tr style=\"text-align: right;\">\n",
       "      <th></th>\n",
       "      <th>Name</th>\n",
       "      <th>Age</th>\n",
       "      <th>Email</th>\n",
       "      <th>Address</th>\n",
       "      <th>Birth</th>\n",
       "    </tr>\n",
       "  </thead>\n",
       "  <tbody>\n",
       "    <tr>\n",
       "      <th>서</th>\n",
       "      <td>홍길서</td>\n",
       "      <td>30</td>\n",
       "      <td>seo@hong.com</td>\n",
       "      <td>서울시 중구</td>\n",
       "      <td>1999-12-01</td>\n",
       "    </tr>\n",
       "    <tr>\n",
       "      <th>중</th>\n",
       "      <td>홍길중</td>\n",
       "      <td>23</td>\n",
       "      <td>mid@hong.com</td>\n",
       "      <td>부산시 중구</td>\n",
       "      <td>1999-01-30</td>\n",
       "    </tr>\n",
       "  </tbody>\n",
       "</table>\n",
       "</div>"
      ],
      "text/plain": [
       "  Name  Age         Email Address      Birth\n",
       "서  홍길서   30  seo@hong.com  서울시 중구 1999-12-01\n",
       "중  홍길중   23  mid@hong.com  부산시 중구 1999-01-30"
      ]
     },
     "execution_count": 72,
     "metadata": {},
     "output_type": "execute_result"
    }
   ],
   "source": [
    "# 23세 이상의 데이터만 조회 (아래는 모두 동일한 결과)\n",
    "member.loc[member['Age'] >= 23, :]\n",
    "member.loc[member['Age'] >= 23]\n",
    "member[member['Age'] >= 23]"
   ]
  },
  {
   "cell_type": "code",
   "execution_count": 73,
   "id": "13659a06",
   "metadata": {
    "ExecuteTime": {
     "end_time": "2024-11-26T01:49:59.520544Z",
     "start_time": "2024-11-26T01:49:59.510551Z"
    }
   },
   "outputs": [
    {
     "data": {
      "text/html": [
       "<div>\n",
       "<style scoped>\n",
       "    .dataframe tbody tr th:only-of-type {\n",
       "        vertical-align: middle;\n",
       "    }\n",
       "\n",
       "    .dataframe tbody tr th {\n",
       "        vertical-align: top;\n",
       "    }\n",
       "\n",
       "    .dataframe thead th {\n",
       "        text-align: right;\n",
       "    }\n",
       "</style>\n",
       "<table border=\"1\" class=\"dataframe\">\n",
       "  <thead>\n",
       "    <tr style=\"text-align: right;\">\n",
       "      <th></th>\n",
       "      <th>Name</th>\n",
       "      <th>Age</th>\n",
       "      <th>Email</th>\n",
       "    </tr>\n",
       "  </thead>\n",
       "  <tbody>\n",
       "    <tr>\n",
       "      <th>서</th>\n",
       "      <td>홍길서</td>\n",
       "      <td>30</td>\n",
       "      <td>seo@hong.com</td>\n",
       "    </tr>\n",
       "    <tr>\n",
       "      <th>중</th>\n",
       "      <td>홍길중</td>\n",
       "      <td>23</td>\n",
       "      <td>mid@hong.com</td>\n",
       "    </tr>\n",
       "  </tbody>\n",
       "</table>\n",
       "</div>"
      ],
      "text/plain": [
       "  Name  Age         Email\n",
       "서  홍길서   30  seo@hong.com\n",
       "중  홍길중   23  mid@hong.com"
      ]
     },
     "execution_count": 73,
     "metadata": {},
     "output_type": "execute_result"
    }
   ],
   "source": [
    "# 23세 이상의 Name, Age, Email\n",
    "member.loc[member['Age'] >= 23, 'Name':'Email']"
   ]
  },
  {
   "cell_type": "code",
   "execution_count": 76,
   "id": "b3e37933",
   "metadata": {
    "ExecuteTime": {
     "end_time": "2024-11-26T01:51:20.080765Z",
     "start_time": "2024-11-26T01:51:20.069815Z"
    }
   },
   "outputs": [
    {
     "data": {
      "text/html": [
       "<div>\n",
       "<style scoped>\n",
       "    .dataframe tbody tr th:only-of-type {\n",
       "        vertical-align: middle;\n",
       "    }\n",
       "\n",
       "    .dataframe tbody tr th {\n",
       "        vertical-align: top;\n",
       "    }\n",
       "\n",
       "    .dataframe thead th {\n",
       "        text-align: right;\n",
       "    }\n",
       "</style>\n",
       "<table border=\"1\" class=\"dataframe\">\n",
       "  <thead>\n",
       "    <tr style=\"text-align: right;\">\n",
       "      <th></th>\n",
       "      <th>Name</th>\n",
       "      <th>Age</th>\n",
       "      <th>Address</th>\n",
       "    </tr>\n",
       "  </thead>\n",
       "  <tbody>\n",
       "    <tr>\n",
       "      <th>서</th>\n",
       "      <td>홍길서</td>\n",
       "      <td>30</td>\n",
       "      <td>서울시 중구</td>\n",
       "    </tr>\n",
       "    <tr>\n",
       "      <th>중</th>\n",
       "      <td>홍길중</td>\n",
       "      <td>23</td>\n",
       "      <td>부산시 중구</td>\n",
       "    </tr>\n",
       "  </tbody>\n",
       "</table>\n",
       "</div>"
      ],
      "text/plain": [
       "  Name  Age Address\n",
       "서  홍길서   30  서울시 중구\n",
       "중  홍길중   23  부산시 중구"
      ]
     },
     "execution_count": 76,
     "metadata": {},
     "output_type": "execute_result"
    }
   ],
   "source": [
    "# 23세 이상의 Name, Age, Address\n",
    "member.loc[member['Age'] >= 23, ['Name', 'Age', 'Address']]"
   ]
  },
  {
   "cell_type": "code",
   "execution_count": 81,
   "id": "43c46630",
   "metadata": {
    "ExecuteTime": {
     "end_time": "2024-11-26T01:56:47.952491Z",
     "start_time": "2024-11-26T01:56:47.942498Z"
    }
   },
   "outputs": [
    {
     "data": {
      "text/html": [
       "<div>\n",
       "<style scoped>\n",
       "    .dataframe tbody tr th:only-of-type {\n",
       "        vertical-align: middle;\n",
       "    }\n",
       "\n",
       "    .dataframe tbody tr th {\n",
       "        vertical-align: top;\n",
       "    }\n",
       "\n",
       "    .dataframe thead th {\n",
       "        text-align: right;\n",
       "    }\n",
       "</style>\n",
       "<table border=\"1\" class=\"dataframe\">\n",
       "  <thead>\n",
       "    <tr style=\"text-align: right;\">\n",
       "      <th></th>\n",
       "      <th>Name</th>\n",
       "      <th>Age</th>\n",
       "      <th>Email</th>\n",
       "      <th>Address</th>\n",
       "      <th>Birth</th>\n",
       "    </tr>\n",
       "  </thead>\n",
       "  <tbody>\n",
       "    <tr>\n",
       "      <th>동</th>\n",
       "      <td>홍길동</td>\n",
       "      <td>20</td>\n",
       "      <td>hong@hong.com</td>\n",
       "      <td>서울시 강동구</td>\n",
       "      <td>1999-01-01</td>\n",
       "    </tr>\n",
       "    <tr>\n",
       "      <th>남</th>\n",
       "      <td>홍길남</td>\n",
       "      <td>21</td>\n",
       "      <td>nam@hong.com</td>\n",
       "      <td>서울시 강동구</td>\n",
       "      <td>1999-11-01</td>\n",
       "    </tr>\n",
       "    <tr>\n",
       "      <th>북</th>\n",
       "      <td>홍길북</td>\n",
       "      <td>22</td>\n",
       "      <td>buk@hong.com</td>\n",
       "      <td>서울시 관악구</td>\n",
       "      <td>1999-05-01</td>\n",
       "    </tr>\n",
       "  </tbody>\n",
       "</table>\n",
       "</div>"
      ],
      "text/plain": [
       "  Name  Age          Email  Address      Birth\n",
       "동  홍길동   20  hong@hong.com  서울시 강동구 1999-01-01\n",
       "남  홍길남   21   nam@hong.com  서울시 강동구 1999-11-01\n",
       "북  홍길북   22   buk@hong.com  서울시 관악구 1999-05-01"
      ]
     },
     "execution_count": 81,
     "metadata": {},
     "output_type": "execute_result"
    }
   ],
   "source": [
    "# ~: 반대\n",
    "member[~(member['Age'] >= 23)]"
   ]
  },
  {
   "cell_type": "code",
   "execution_count": 88,
   "id": "ca7c06e2",
   "metadata": {
    "ExecuteTime": {
     "end_time": "2024-11-26T02:03:02.811048Z",
     "start_time": "2024-11-26T02:03:02.806061Z"
    }
   },
   "outputs": [
    {
     "name": "stdout",
     "output_type": "stream",
     "text": [
      "-1\n",
      "True\n"
     ]
    }
   ],
   "source": [
    "# find(): 해당 문자열 시작되는 인덱스 반환, 없으면 -1\n",
    "address = '서울시 관악구'\n",
    "print(address.find('중구'))\n",
    "print(address.startswith('서울시'))"
   ]
  },
  {
   "cell_type": "code",
   "execution_count": 90,
   "id": "f3ea0b8e",
   "metadata": {
    "ExecuteTime": {
     "end_time": "2024-11-26T02:06:42.866245Z",
     "start_time": "2024-11-26T02:06:42.862250Z"
    }
   },
   "outputs": [],
   "source": [
    "# find()는 문자열 함수라서 series에 사용 불가, 조건연산자는 series에 사용 가능\n",
    "# member['Address'].find('중구')\n",
    "# member['Address'].startswith('서울시')"
   ]
  },
  {
   "cell_type": "markdown",
   "id": "841adce2",
   "metadata": {},
   "source": [
    "※ 시리즈에 문자함수를 쓰기 위해 참조:\n",
    "https://pandas.pydata.org/pandas-docs/stable/reference/series.html#string-handling"
   ]
  },
  {
   "cell_type": "code",
   "execution_count": 91,
   "id": "c05e9d80",
   "metadata": {
    "ExecuteTime": {
     "end_time": "2024-11-26T02:07:11.847131Z",
     "start_time": "2024-11-26T02:07:11.838453Z"
    }
   },
   "outputs": [
    {
     "data": {
      "text/plain": [
       "동    False\n",
       "서     True\n",
       "남    False\n",
       "북    False\n",
       "중     True\n",
       "Name: Address, dtype: bool"
      ]
     },
     "execution_count": 91,
     "metadata": {},
     "output_type": "execute_result"
    }
   ],
   "source": [
    "member['Address'].str.find('중구') != -1"
   ]
  },
  {
   "cell_type": "code",
   "execution_count": 93,
   "id": "7c0a979b",
   "metadata": {
    "ExecuteTime": {
     "end_time": "2024-11-26T02:07:45.749326Z",
     "start_time": "2024-11-26T02:07:45.736250Z"
    }
   },
   "outputs": [
    {
     "data": {
      "text/html": [
       "<div>\n",
       "<style scoped>\n",
       "    .dataframe tbody tr th:only-of-type {\n",
       "        vertical-align: middle;\n",
       "    }\n",
       "\n",
       "    .dataframe tbody tr th {\n",
       "        vertical-align: top;\n",
       "    }\n",
       "\n",
       "    .dataframe thead th {\n",
       "        text-align: right;\n",
       "    }\n",
       "</style>\n",
       "<table border=\"1\" class=\"dataframe\">\n",
       "  <thead>\n",
       "    <tr style=\"text-align: right;\">\n",
       "      <th></th>\n",
       "      <th>Name</th>\n",
       "      <th>Age</th>\n",
       "      <th>Email</th>\n",
       "      <th>Address</th>\n",
       "      <th>Birth</th>\n",
       "    </tr>\n",
       "  </thead>\n",
       "  <tbody>\n",
       "    <tr>\n",
       "      <th>서</th>\n",
       "      <td>홍길서</td>\n",
       "      <td>30</td>\n",
       "      <td>seo@hong.com</td>\n",
       "      <td>서울시 중구</td>\n",
       "      <td>1999-12-01</td>\n",
       "    </tr>\n",
       "    <tr>\n",
       "      <th>중</th>\n",
       "      <td>홍길중</td>\n",
       "      <td>23</td>\n",
       "      <td>mid@hong.com</td>\n",
       "      <td>부산시 중구</td>\n",
       "      <td>1999-01-30</td>\n",
       "    </tr>\n",
       "  </tbody>\n",
       "</table>\n",
       "</div>"
      ],
      "text/plain": [
       "  Name  Age         Email Address      Birth\n",
       "서  홍길서   30  seo@hong.com  서울시 중구 1999-12-01\n",
       "중  홍길중   23  mid@hong.com  부산시 중구 1999-01-30"
      ]
     },
     "execution_count": 93,
     "metadata": {},
     "output_type": "execute_result"
    }
   ],
   "source": [
    "# Address가 중구 포함하는 데이터\n",
    "member[member['Address'].str.find('중구') != -1]\n",
    "member.loc[member['Address'].str.find('중구') != -1]"
   ]
  },
  {
   "cell_type": "code",
   "execution_count": 95,
   "id": "bab19a23",
   "metadata": {
    "ExecuteTime": {
     "end_time": "2024-11-26T02:09:21.531252Z",
     "start_time": "2024-11-26T02:09:21.518493Z"
    }
   },
   "outputs": [
    {
     "data": {
      "text/html": [
       "<div>\n",
       "<style scoped>\n",
       "    .dataframe tbody tr th:only-of-type {\n",
       "        vertical-align: middle;\n",
       "    }\n",
       "\n",
       "    .dataframe tbody tr th {\n",
       "        vertical-align: top;\n",
       "    }\n",
       "\n",
       "    .dataframe thead th {\n",
       "        text-align: right;\n",
       "    }\n",
       "</style>\n",
       "<table border=\"1\" class=\"dataframe\">\n",
       "  <thead>\n",
       "    <tr style=\"text-align: right;\">\n",
       "      <th></th>\n",
       "      <th>Name</th>\n",
       "      <th>Age</th>\n",
       "      <th>Email</th>\n",
       "      <th>Address</th>\n",
       "      <th>Birth</th>\n",
       "    </tr>\n",
       "  </thead>\n",
       "  <tbody>\n",
       "    <tr>\n",
       "      <th>서</th>\n",
       "      <td>홍길서</td>\n",
       "      <td>30</td>\n",
       "      <td>seo@hong.com</td>\n",
       "      <td>서울시 중구</td>\n",
       "      <td>1999-12-01</td>\n",
       "    </tr>\n",
       "    <tr>\n",
       "      <th>중</th>\n",
       "      <td>홍길중</td>\n",
       "      <td>23</td>\n",
       "      <td>mid@hong.com</td>\n",
       "      <td>부산시 중구</td>\n",
       "      <td>1999-01-30</td>\n",
       "    </tr>\n",
       "  </tbody>\n",
       "</table>\n",
       "</div>"
      ],
      "text/plain": [
       "  Name  Age         Email Address      Birth\n",
       "서  홍길서   30  seo@hong.com  서울시 중구 1999-12-01\n",
       "중  홍길중   23  mid@hong.com  부산시 중구 1999-01-30"
      ]
     },
     "execution_count": 95,
     "metadata": {},
     "output_type": "execute_result"
    }
   ],
   "source": [
    "member[member['Address'].str.contains('중구')]\n",
    "member.loc[member['Address'].str.contains('중구')]"
   ]
  },
  {
   "cell_type": "code",
   "execution_count": 100,
   "id": "4c8b345a",
   "metadata": {
    "ExecuteTime": {
     "end_time": "2024-11-26T02:10:44.792331Z",
     "start_time": "2024-11-26T02:10:44.782309Z"
    }
   },
   "outputs": [
    {
     "data": {
      "text/html": [
       "<div>\n",
       "<style scoped>\n",
       "    .dataframe tbody tr th:only-of-type {\n",
       "        vertical-align: middle;\n",
       "    }\n",
       "\n",
       "    .dataframe tbody tr th {\n",
       "        vertical-align: top;\n",
       "    }\n",
       "\n",
       "    .dataframe thead th {\n",
       "        text-align: right;\n",
       "    }\n",
       "</style>\n",
       "<table border=\"1\" class=\"dataframe\">\n",
       "  <thead>\n",
       "    <tr style=\"text-align: right;\">\n",
       "      <th></th>\n",
       "      <th>Name</th>\n",
       "      <th>Address</th>\n",
       "      <th>Birth</th>\n",
       "    </tr>\n",
       "  </thead>\n",
       "  <tbody>\n",
       "    <tr>\n",
       "      <th>서</th>\n",
       "      <td>홍길서</td>\n",
       "      <td>서울시 중구</td>\n",
       "      <td>1999-12-01</td>\n",
       "    </tr>\n",
       "    <tr>\n",
       "      <th>중</th>\n",
       "      <td>홍길중</td>\n",
       "      <td>부산시 중구</td>\n",
       "      <td>1999-01-30</td>\n",
       "    </tr>\n",
       "  </tbody>\n",
       "</table>\n",
       "</div>"
      ],
      "text/plain": [
       "  Name Address      Birth\n",
       "서  홍길서  서울시 중구 1999-12-01\n",
       "중  홍길중  부산시 중구 1999-01-30"
      ]
     },
     "execution_count": 100,
     "metadata": {},
     "output_type": "execute_result"
    }
   ],
   "source": [
    "# 중구 데이터의 Name, Address, Birth\n",
    "member.loc[member['Address'].str.contains('중구'), ['Name', 'Address', 'Birth']]"
   ]
  },
  {
   "cell_type": "code",
   "execution_count": 101,
   "id": "1406d272",
   "metadata": {
    "ExecuteTime": {
     "end_time": "2024-11-26T02:11:29.761315Z",
     "start_time": "2024-11-26T02:11:29.751337Z"
    }
   },
   "outputs": [
    {
     "data": {
      "text/html": [
       "<div>\n",
       "<style scoped>\n",
       "    .dataframe tbody tr th:only-of-type {\n",
       "        vertical-align: middle;\n",
       "    }\n",
       "\n",
       "    .dataframe tbody tr th {\n",
       "        vertical-align: top;\n",
       "    }\n",
       "\n",
       "    .dataframe thead th {\n",
       "        text-align: right;\n",
       "    }\n",
       "</style>\n",
       "<table border=\"1\" class=\"dataframe\">\n",
       "  <thead>\n",
       "    <tr style=\"text-align: right;\">\n",
       "      <th></th>\n",
       "      <th>Name</th>\n",
       "      <th>Age</th>\n",
       "      <th>Email</th>\n",
       "      <th>Address</th>\n",
       "      <th>Birth</th>\n",
       "    </tr>\n",
       "  </thead>\n",
       "  <tbody>\n",
       "    <tr>\n",
       "      <th>동</th>\n",
       "      <td>홍길동</td>\n",
       "      <td>20</td>\n",
       "      <td>hong@hong.com</td>\n",
       "      <td>서울시 강동구</td>\n",
       "      <td>1999-01-01</td>\n",
       "    </tr>\n",
       "    <tr>\n",
       "      <th>서</th>\n",
       "      <td>홍길서</td>\n",
       "      <td>30</td>\n",
       "      <td>seo@hong.com</td>\n",
       "      <td>서울시 중구</td>\n",
       "      <td>1999-12-01</td>\n",
       "    </tr>\n",
       "    <tr>\n",
       "      <th>남</th>\n",
       "      <td>홍길남</td>\n",
       "      <td>21</td>\n",
       "      <td>nam@hong.com</td>\n",
       "      <td>서울시 강동구</td>\n",
       "      <td>1999-11-01</td>\n",
       "    </tr>\n",
       "    <tr>\n",
       "      <th>북</th>\n",
       "      <td>홍길북</td>\n",
       "      <td>22</td>\n",
       "      <td>buk@hong.com</td>\n",
       "      <td>서울시 관악구</td>\n",
       "      <td>1999-05-01</td>\n",
       "    </tr>\n",
       "  </tbody>\n",
       "</table>\n",
       "</div>"
      ],
      "text/plain": [
       "  Name  Age          Email  Address      Birth\n",
       "동  홍길동   20  hong@hong.com  서울시 강동구 1999-01-01\n",
       "서  홍길서   30   seo@hong.com   서울시 중구 1999-12-01\n",
       "남  홍길남   21   nam@hong.com  서울시 강동구 1999-11-01\n",
       "북  홍길북   22   buk@hong.com  서울시 관악구 1999-05-01"
      ]
     },
     "execution_count": 101,
     "metadata": {},
     "output_type": "execute_result"
    }
   ],
   "source": [
    "# Address가 서울로 시작하는 데이터\n",
    "member[member['Address'].str.startswith('서울')]"
   ]
  },
  {
   "cell_type": "code",
   "execution_count": 103,
   "id": "fd7e83ec",
   "metadata": {
    "ExecuteTime": {
     "end_time": "2024-11-26T02:12:53.945083Z",
     "start_time": "2024-11-26T02:12:53.935103Z"
    }
   },
   "outputs": [
    {
     "data": {
      "text/html": [
       "<div>\n",
       "<style scoped>\n",
       "    .dataframe tbody tr th:only-of-type {\n",
       "        vertical-align: middle;\n",
       "    }\n",
       "\n",
       "    .dataframe tbody tr th {\n",
       "        vertical-align: top;\n",
       "    }\n",
       "\n",
       "    .dataframe thead th {\n",
       "        text-align: right;\n",
       "    }\n",
       "</style>\n",
       "<table border=\"1\" class=\"dataframe\">\n",
       "  <thead>\n",
       "    <tr style=\"text-align: right;\">\n",
       "      <th></th>\n",
       "      <th>Name</th>\n",
       "      <th>Age</th>\n",
       "      <th>Email</th>\n",
       "      <th>Address</th>\n",
       "      <th>Birth</th>\n",
       "    </tr>\n",
       "  </thead>\n",
       "  <tbody>\n",
       "    <tr>\n",
       "      <th>중</th>\n",
       "      <td>홍길중</td>\n",
       "      <td>23</td>\n",
       "      <td>mid@hong.com</td>\n",
       "      <td>부산시 중구</td>\n",
       "      <td>1999-01-30</td>\n",
       "    </tr>\n",
       "  </tbody>\n",
       "</table>\n",
       "</div>"
      ],
      "text/plain": [
       "  Name  Age         Email Address      Birth\n",
       "중  홍길중   23  mid@hong.com  부산시 중구 1999-01-30"
      ]
     },
     "execution_count": 103,
     "metadata": {},
     "output_type": "execute_result"
    }
   ],
   "source": [
    "# Address가 서울로 시작하지 않는 데이터\n",
    "member[~member['Address'].str.startswith('서울')]"
   ]
  },
  {
   "cell_type": "code",
   "execution_count": 110,
   "id": "ec193e53",
   "metadata": {
    "ExecuteTime": {
     "end_time": "2024-11-26T02:17:20.635726Z",
     "start_time": "2024-11-26T02:17:20.625145Z"
    }
   },
   "outputs": [
    {
     "data": {
      "text/html": [
       "<div>\n",
       "<style scoped>\n",
       "    .dataframe tbody tr th:only-of-type {\n",
       "        vertical-align: middle;\n",
       "    }\n",
       "\n",
       "    .dataframe tbody tr th {\n",
       "        vertical-align: top;\n",
       "    }\n",
       "\n",
       "    .dataframe thead th {\n",
       "        text-align: right;\n",
       "    }\n",
       "</style>\n",
       "<table border=\"1\" class=\"dataframe\">\n",
       "  <thead>\n",
       "    <tr style=\"text-align: right;\">\n",
       "      <th></th>\n",
       "      <th>Name</th>\n",
       "      <th>Age</th>\n",
       "      <th>Email</th>\n",
       "      <th>Address</th>\n",
       "      <th>Birth</th>\n",
       "    </tr>\n",
       "  </thead>\n",
       "  <tbody>\n",
       "    <tr>\n",
       "      <th>동</th>\n",
       "      <td>홍길동</td>\n",
       "      <td>20</td>\n",
       "      <td>hong@hong.com</td>\n",
       "      <td>서울시 강동구</td>\n",
       "      <td>1999-01-01</td>\n",
       "    </tr>\n",
       "    <tr>\n",
       "      <th>남</th>\n",
       "      <td>홍길남</td>\n",
       "      <td>21</td>\n",
       "      <td>nam@hong.com</td>\n",
       "      <td>서울시 강동구</td>\n",
       "      <td>1999-11-01</td>\n",
       "    </tr>\n",
       "  </tbody>\n",
       "</table>\n",
       "</div>"
      ],
      "text/plain": [
       "  Name  Age          Email  Address      Birth\n",
       "동  홍길동   20  hong@hong.com  서울시 강동구 1999-01-01\n",
       "남  홍길남   21   nam@hong.com  서울시 강동구 1999-11-01"
      ]
     },
     "execution_count": 110,
     "metadata": {},
     "output_type": "execute_result"
    }
   ],
   "source": [
    "# 이름이 '홍길동'이거나 '홍길남'인 데이터 모든 열\n",
    "member['Name'].isin(['홍길동', '홍길남'])\n",
    "member.loc[member['Name'].isin(['홍길동', '홍길남'])]"
   ]
  },
  {
   "cell_type": "code",
   "execution_count": 111,
   "id": "2a6f96d2",
   "metadata": {
    "ExecuteTime": {
     "end_time": "2024-11-26T02:18:05.168581Z",
     "start_time": "2024-11-26T02:18:05.158587Z"
    }
   },
   "outputs": [
    {
     "data": {
      "text/html": [
       "<div>\n",
       "<style scoped>\n",
       "    .dataframe tbody tr th:only-of-type {\n",
       "        vertical-align: middle;\n",
       "    }\n",
       "\n",
       "    .dataframe tbody tr th {\n",
       "        vertical-align: top;\n",
       "    }\n",
       "\n",
       "    .dataframe thead th {\n",
       "        text-align: right;\n",
       "    }\n",
       "</style>\n",
       "<table border=\"1\" class=\"dataframe\">\n",
       "  <thead>\n",
       "    <tr style=\"text-align: right;\">\n",
       "      <th></th>\n",
       "      <th>Address</th>\n",
       "      <th>Birth</th>\n",
       "    </tr>\n",
       "  </thead>\n",
       "  <tbody>\n",
       "    <tr>\n",
       "      <th>동</th>\n",
       "      <td>서울시 강동구</td>\n",
       "      <td>1999-01-01</td>\n",
       "    </tr>\n",
       "    <tr>\n",
       "      <th>남</th>\n",
       "      <td>서울시 강동구</td>\n",
       "      <td>1999-11-01</td>\n",
       "    </tr>\n",
       "  </tbody>\n",
       "</table>\n",
       "</div>"
      ],
      "text/plain": [
       "   Address      Birth\n",
       "동  서울시 강동구 1999-01-01\n",
       "남  서울시 강동구 1999-11-01"
      ]
     },
     "execution_count": 111,
     "metadata": {},
     "output_type": "execute_result"
    }
   ],
   "source": [
    "# 이름이 '홍길동'이거나 '홍길남'인 데이터 Address, Birth\n",
    "member.loc[member['Name'].isin(['홍길동', '홍길남']), 'Address':'Birth']"
   ]
  },
  {
   "cell_type": "code",
   "execution_count": 116,
   "id": "7a53c452",
   "metadata": {
    "ExecuteTime": {
     "end_time": "2024-11-26T02:19:54.970471Z",
     "start_time": "2024-11-26T02:19:54.959469Z"
    }
   },
   "outputs": [
    {
     "data": {
      "text/html": [
       "<div>\n",
       "<style scoped>\n",
       "    .dataframe tbody tr th:only-of-type {\n",
       "        vertical-align: middle;\n",
       "    }\n",
       "\n",
       "    .dataframe tbody tr th {\n",
       "        vertical-align: top;\n",
       "    }\n",
       "\n",
       "    .dataframe thead th {\n",
       "        text-align: right;\n",
       "    }\n",
       "</style>\n",
       "<table border=\"1\" class=\"dataframe\">\n",
       "  <thead>\n",
       "    <tr style=\"text-align: right;\">\n",
       "      <th></th>\n",
       "      <th>Name</th>\n",
       "      <th>Age</th>\n",
       "      <th>Email</th>\n",
       "      <th>Address</th>\n",
       "      <th>Birth</th>\n",
       "    </tr>\n",
       "  </thead>\n",
       "  <tbody>\n",
       "    <tr>\n",
       "      <th>동</th>\n",
       "      <td>홍길동</td>\n",
       "      <td>20</td>\n",
       "      <td>hong@hong.com</td>\n",
       "      <td>서울시 강동구</td>\n",
       "      <td>1999-01-01</td>\n",
       "    </tr>\n",
       "    <tr>\n",
       "      <th>중</th>\n",
       "      <td>홍길중</td>\n",
       "      <td>23</td>\n",
       "      <td>mid@hong.com</td>\n",
       "      <td>부산시 중구</td>\n",
       "      <td>1999-01-30</td>\n",
       "    </tr>\n",
       "  </tbody>\n",
       "</table>\n",
       "</div>"
      ],
      "text/plain": [
       "  Name  Age          Email  Address      Birth\n",
       "동  홍길동   20  hong@hong.com  서울시 강동구 1999-01-01\n",
       "중  홍길중   23   mid@hong.com   부산시 중구 1999-01-30"
      ]
     },
     "execution_count": 116,
     "metadata": {},
     "output_type": "execute_result"
    }
   ],
   "source": [
    "# 1월이 생일인 데이터\n",
    "member.loc[member['Birth'].dt.month == 1]\n",
    "member[member['Birth'].dt.month == 1]"
   ]
  },
  {
   "cell_type": "code",
   "execution_count": 135,
   "id": "5c58a78d",
   "metadata": {
    "ExecuteTime": {
     "end_time": "2024-11-26T02:38:23.766411Z",
     "start_time": "2024-11-26T02:38:23.751473Z"
    }
   },
   "outputs": [
    {
     "data": {
      "text/html": [
       "<div>\n",
       "<style scoped>\n",
       "    .dataframe tbody tr th:only-of-type {\n",
       "        vertical-align: middle;\n",
       "    }\n",
       "\n",
       "    .dataframe tbody tr th {\n",
       "        vertical-align: top;\n",
       "    }\n",
       "\n",
       "    .dataframe thead th {\n",
       "        text-align: right;\n",
       "    }\n",
       "</style>\n",
       "<table border=\"1\" class=\"dataframe\">\n",
       "  <thead>\n",
       "    <tr style=\"text-align: right;\">\n",
       "      <th></th>\n",
       "      <th>Name</th>\n",
       "      <th>Age</th>\n",
       "      <th>Email</th>\n",
       "      <th>Address</th>\n",
       "      <th>Birth</th>\n",
       "    </tr>\n",
       "  </thead>\n",
       "  <tbody>\n",
       "    <tr>\n",
       "      <th>0</th>\n",
       "      <td>홍길동</td>\n",
       "      <td>20</td>\n",
       "      <td>NaN</td>\n",
       "      <td>서울시 강동구</td>\n",
       "      <td>1999-01-01</td>\n",
       "    </tr>\n",
       "    <tr>\n",
       "      <th>1</th>\n",
       "      <td>홍길서</td>\n",
       "      <td>30</td>\n",
       "      <td>seo@hong.com</td>\n",
       "      <td>서울시 중구</td>\n",
       "      <td>1999-12-01</td>\n",
       "    </tr>\n",
       "    <tr>\n",
       "      <th>2</th>\n",
       "      <td>홍길남</td>\n",
       "      <td>21</td>\n",
       "      <td>nam@hong.com</td>\n",
       "      <td>서울시 강동구</td>\n",
       "      <td>1999-11-01</td>\n",
       "    </tr>\n",
       "    <tr>\n",
       "      <th>3</th>\n",
       "      <td>홍길북</td>\n",
       "      <td>22</td>\n",
       "      <td>NaN</td>\n",
       "      <td>서울시 관악구</td>\n",
       "      <td>1999-05-01</td>\n",
       "    </tr>\n",
       "    <tr>\n",
       "      <th>4</th>\n",
       "      <td>홍길중</td>\n",
       "      <td>23</td>\n",
       "      <td>mid@hong.com</td>\n",
       "      <td>부산시 중구</td>\n",
       "      <td>1999-01-30</td>\n",
       "    </tr>\n",
       "  </tbody>\n",
       "</table>\n",
       "</div>"
      ],
      "text/plain": [
       "  Name  Age         Email  Address       Birth\n",
       "0  홍길동   20           NaN  서울시 강동구  1999-01-01\n",
       "1  홍길서   30  seo@hong.com   서울시 중구  1999-12-01\n",
       "2  홍길남   21  nam@hong.com  서울시 강동구  1999-11-01\n",
       "3  홍길북   22           NaN  서울시 관악구  1999-05-01\n",
       "4  홍길중   23  mid@hong.com   부산시 중구  1999-01-30"
      ]
     },
     "execution_count": 135,
     "metadata": {},
     "output_type": "execute_result"
    }
   ],
   "source": [
    "import numpy as np\n",
    "member = pd.read_csv('data/ch12_member.csv', comment='#')\n",
    "member.loc[[0, 3], 'Email'] = np.nan\n",
    "member"
   ]
  },
  {
   "cell_type": "code",
   "execution_count": 136,
   "id": "73844caa",
   "metadata": {
    "ExecuteTime": {
     "end_time": "2024-11-26T02:38:31.800954Z",
     "start_time": "2024-11-26T02:38:31.791272Z"
    }
   },
   "outputs": [
    {
     "name": "stdout",
     "output_type": "stream",
     "text": [
      "<class 'pandas.core.frame.DataFrame'>\n",
      "RangeIndex: 5 entries, 0 to 4\n",
      "Data columns (total 5 columns):\n",
      " #   Column   Non-Null Count  Dtype \n",
      "---  ------   --------------  ----- \n",
      " 0   Name     5 non-null      object\n",
      " 1   Age      5 non-null      int64 \n",
      " 2   Email    3 non-null      object\n",
      " 3   Address  5 non-null      object\n",
      " 4   Birth    5 non-null      object\n",
      "dtypes: int64(1), object(4)\n",
      "memory usage: 328.0+ bytes\n"
     ]
    }
   ],
   "source": [
    "member.info()"
   ]
  },
  {
   "cell_type": "code",
   "execution_count": 137,
   "id": "49726c66",
   "metadata": {
    "ExecuteTime": {
     "end_time": "2024-11-26T02:39:39.020296Z",
     "start_time": "2024-11-26T02:39:39.010303Z"
    }
   },
   "outputs": [
    {
     "data": {
      "text/html": [
       "<div>\n",
       "<style scoped>\n",
       "    .dataframe tbody tr th:only-of-type {\n",
       "        vertical-align: middle;\n",
       "    }\n",
       "\n",
       "    .dataframe tbody tr th {\n",
       "        vertical-align: top;\n",
       "    }\n",
       "\n",
       "    .dataframe thead th {\n",
       "        text-align: right;\n",
       "    }\n",
       "</style>\n",
       "<table border=\"1\" class=\"dataframe\">\n",
       "  <thead>\n",
       "    <tr style=\"text-align: right;\">\n",
       "      <th></th>\n",
       "      <th>Name</th>\n",
       "      <th>Age</th>\n",
       "      <th>Email</th>\n",
       "      <th>Address</th>\n",
       "      <th>Birth</th>\n",
       "    </tr>\n",
       "  </thead>\n",
       "  <tbody>\n",
       "    <tr>\n",
       "      <th>0</th>\n",
       "      <td>False</td>\n",
       "      <td>False</td>\n",
       "      <td>True</td>\n",
       "      <td>False</td>\n",
       "      <td>False</td>\n",
       "    </tr>\n",
       "    <tr>\n",
       "      <th>1</th>\n",
       "      <td>False</td>\n",
       "      <td>False</td>\n",
       "      <td>False</td>\n",
       "      <td>False</td>\n",
       "      <td>False</td>\n",
       "    </tr>\n",
       "    <tr>\n",
       "      <th>2</th>\n",
       "      <td>False</td>\n",
       "      <td>False</td>\n",
       "      <td>False</td>\n",
       "      <td>False</td>\n",
       "      <td>False</td>\n",
       "    </tr>\n",
       "    <tr>\n",
       "      <th>3</th>\n",
       "      <td>False</td>\n",
       "      <td>False</td>\n",
       "      <td>True</td>\n",
       "      <td>False</td>\n",
       "      <td>False</td>\n",
       "    </tr>\n",
       "    <tr>\n",
       "      <th>4</th>\n",
       "      <td>False</td>\n",
       "      <td>False</td>\n",
       "      <td>False</td>\n",
       "      <td>False</td>\n",
       "      <td>False</td>\n",
       "    </tr>\n",
       "  </tbody>\n",
       "</table>\n",
       "</div>"
      ],
      "text/plain": [
       "    Name    Age  Email  Address  Birth\n",
       "0  False  False   True    False  False\n",
       "1  False  False  False    False  False\n",
       "2  False  False  False    False  False\n",
       "3  False  False   True    False  False\n",
       "4  False  False  False    False  False"
      ]
     },
     "execution_count": 137,
     "metadata": {},
     "output_type": "execute_result"
    }
   ],
   "source": [
    "member.isna() # 결측치 여부"
   ]
  },
  {
   "cell_type": "code",
   "execution_count": 140,
   "id": "77b0f432",
   "metadata": {
    "ExecuteTime": {
     "end_time": "2024-11-26T02:41:40.988113Z",
     "start_time": "2024-11-26T02:41:40.983116Z"
    }
   },
   "outputs": [
    {
     "data": {
      "text/plain": [
       "(2, 1)"
      ]
     },
     "execution_count": 140,
     "metadata": {},
     "output_type": "execute_result"
    }
   ],
   "source": [
    "True + True, False + True"
   ]
  },
  {
   "cell_type": "code",
   "execution_count": 139,
   "id": "f496c260",
   "metadata": {
    "ExecuteTime": {
     "end_time": "2024-11-26T02:41:15.655046Z",
     "start_time": "2024-11-26T02:41:15.647073Z"
    }
   },
   "outputs": [
    {
     "data": {
      "text/plain": [
       "Name       0\n",
       "Age        0\n",
       "Email      2\n",
       "Address    0\n",
       "Birth      0\n",
       "dtype: int64"
      ]
     },
     "execution_count": 139,
     "metadata": {},
     "output_type": "execute_result"
    }
   ],
   "source": [
    "member.isna().sum() # 각 열의 결측치 갯수"
   ]
  },
  {
   "cell_type": "code",
   "execution_count": 148,
   "id": "273d1155",
   "metadata": {
    "ExecuteTime": {
     "end_time": "2024-11-26T02:48:38.945596Z",
     "start_time": "2024-11-26T02:48:38.934831Z"
    }
   },
   "outputs": [
    {
     "data": {
      "text/html": [
       "<div>\n",
       "<style scoped>\n",
       "    .dataframe tbody tr th:only-of-type {\n",
       "        vertical-align: middle;\n",
       "    }\n",
       "\n",
       "    .dataframe tbody tr th {\n",
       "        vertical-align: top;\n",
       "    }\n",
       "\n",
       "    .dataframe thead th {\n",
       "        text-align: right;\n",
       "    }\n",
       "</style>\n",
       "<table border=\"1\" class=\"dataframe\">\n",
       "  <thead>\n",
       "    <tr style=\"text-align: right;\">\n",
       "      <th></th>\n",
       "      <th>eng</th>\n",
       "      <th>mat</th>\n",
       "    </tr>\n",
       "  </thead>\n",
       "  <tbody>\n",
       "    <tr>\n",
       "      <th>0</th>\n",
       "      <td>100</td>\n",
       "      <td>100</td>\n",
       "    </tr>\n",
       "    <tr>\n",
       "      <th>1</th>\n",
       "      <td>80</td>\n",
       "      <td>90</td>\n",
       "    </tr>\n",
       "  </tbody>\n",
       "</table>\n",
       "</div>"
      ],
      "text/plain": [
       "   eng  mat\n",
       "0  100  100\n",
       "1   80   90"
      ]
     },
     "execution_count": 148,
     "metadata": {},
     "output_type": "execute_result"
    }
   ],
   "source": [
    "# 조건 연산자를 이용해서 데이터 추출(조건 2개)\n",
    "data = pd.DataFrame({'eng':[100, 80, 90], 'mat':[100, 90, 60]})\n",
    "data\n",
    "# 영어 80 이상이고, 수학이 80인 이상인 데이터 추출\n",
    "data[ (data['eng'] >= 80) & (data['mat'] >= 80) ]"
   ]
  },
  {
   "cell_type": "markdown",
   "id": "89b42620",
   "metadata": {},
   "source": [
    "## 부분데이터 조회하는 방법\n",
    "- df[열이름] - 특정 열 모든 행\n",
    "- df[조건]   - 조건에 맞는 행 전체\n",
    "- df.loc[행이름, 열이름]: 이름으로 조회, 조건으로 조회 가능\n",
    "    * 열이름 생략하면 모든 열\n",
    "    * 행이름과 열이름 자리에 list, 슬라이싱 가능\n",
    "- df.iloc[행번호, 열번호]: 번호로 조회\n",
    "    * 열번호 생략하면 모든 열\n",
    "    * 행번호, 열번호 자리에 list, 슬라이싱 가능 "
   ]
  },
  {
   "cell_type": "code",
   "execution_count": 151,
   "id": "dcce38e0",
   "metadata": {
    "ExecuteTime": {
     "end_time": "2024-11-26T02:53:10.432876Z",
     "start_time": "2024-11-26T02:53:10.418304Z"
    }
   },
   "outputs": [
    {
     "data": {
      "text/html": [
       "<div>\n",
       "<style scoped>\n",
       "    .dataframe tbody tr th:only-of-type {\n",
       "        vertical-align: middle;\n",
       "    }\n",
       "\n",
       "    .dataframe tbody tr th {\n",
       "        vertical-align: top;\n",
       "    }\n",
       "\n",
       "    .dataframe thead th {\n",
       "        text-align: right;\n",
       "    }\n",
       "</style>\n",
       "<table border=\"1\" class=\"dataframe\">\n",
       "  <thead>\n",
       "    <tr style=\"text-align: right;\">\n",
       "      <th></th>\n",
       "      <th>sepal_length</th>\n",
       "      <th>sepal_width</th>\n",
       "      <th>petal_length</th>\n",
       "      <th>petal_width</th>\n",
       "      <th>species</th>\n",
       "    </tr>\n",
       "  </thead>\n",
       "  <tbody>\n",
       "    <tr>\n",
       "      <th>131</th>\n",
       "      <td>7.9</td>\n",
       "      <td>3.8</td>\n",
       "      <td>6.4</td>\n",
       "      <td>2.0</td>\n",
       "      <td>virginica</td>\n",
       "    </tr>\n",
       "  </tbody>\n",
       "</table>\n",
       "</div>"
      ],
      "text/plain": [
       "     sepal_length  sepal_width  petal_length  petal_width    species\n",
       "131           7.9          3.8           6.4          2.0  virginica"
      ]
     },
     "execution_count": 151,
     "metadata": {},
     "output_type": "execute_result"
    }
   ],
   "source": [
    "import seaborn as sns\n",
    "iris = sns.load_dataset('iris')\n",
    "iris.sample(1)"
   ]
  },
  {
   "cell_type": "code",
   "execution_count": 164,
   "id": "3c2667f4",
   "metadata": {
    "ExecuteTime": {
     "end_time": "2024-11-26T03:02:39.288389Z",
     "start_time": "2024-11-26T03:02:39.276697Z"
    }
   },
   "outputs": [
    {
     "data": {
      "text/plain": [
       "0      5.1\n",
       "1      4.9\n",
       "2      4.7\n",
       "3      4.6\n",
       "4      5.0\n",
       "5      5.4\n",
       "6      4.6\n",
       "7      5.0\n",
       "8      4.4\n",
       "9      4.9\n",
       "10     5.4\n",
       "11     4.8\n",
       "12     4.8\n",
       "13     4.3\n",
       "14     5.8\n",
       "15     5.7\n",
       "16     5.4\n",
       "17     5.1\n",
       "18     5.7\n",
       "19     5.1\n",
       "20     5.4\n",
       "21     5.1\n",
       "22     4.6\n",
       "23     5.1\n",
       "24     4.8\n",
       "25     5.0\n",
       "26     5.0\n",
       "27     5.2\n",
       "28     5.2\n",
       "29     4.7\n",
       "30     4.8\n",
       "31     5.4\n",
       "32     5.2\n",
       "33     5.5\n",
       "34     4.9\n",
       "35     5.0\n",
       "36     5.5\n",
       "37     4.9\n",
       "38     4.4\n",
       "39     5.1\n",
       "40     5.0\n",
       "41     4.5\n",
       "42     4.4\n",
       "43     5.0\n",
       "44     5.1\n",
       "45     4.8\n",
       "46     5.1\n",
       "47     4.6\n",
       "48     5.3\n",
       "49     5.0\n",
       "50     7.0\n",
       "51     6.4\n",
       "52     6.9\n",
       "53     5.5\n",
       "54     6.5\n",
       "55     5.7\n",
       "56     6.3\n",
       "57     4.9\n",
       "58     6.6\n",
       "59     5.2\n",
       "60     5.0\n",
       "61     5.9\n",
       "62     6.0\n",
       "63     6.1\n",
       "64     5.6\n",
       "65     6.7\n",
       "66     5.6\n",
       "67     5.8\n",
       "68     6.2\n",
       "69     5.6\n",
       "70     5.9\n",
       "71     6.1\n",
       "72     6.3\n",
       "73     6.1\n",
       "74     6.4\n",
       "75     6.6\n",
       "76     6.8\n",
       "77     6.7\n",
       "78     6.0\n",
       "79     5.7\n",
       "80     5.5\n",
       "81     5.5\n",
       "82     5.8\n",
       "83     6.0\n",
       "84     5.4\n",
       "85     6.0\n",
       "86     6.7\n",
       "87     6.3\n",
       "88     5.6\n",
       "89     5.5\n",
       "90     5.5\n",
       "91     6.1\n",
       "92     5.8\n",
       "93     5.0\n",
       "94     5.6\n",
       "95     5.7\n",
       "96     5.7\n",
       "97     6.2\n",
       "98     5.1\n",
       "99     5.7\n",
       "100    6.3\n",
       "101    5.8\n",
       "102    7.1\n",
       "103    6.3\n",
       "104    6.5\n",
       "105    7.6\n",
       "106    4.9\n",
       "107    7.3\n",
       "108    6.7\n",
       "109    7.2\n",
       "110    6.5\n",
       "111    6.4\n",
       "112    6.8\n",
       "113    5.7\n",
       "114    5.8\n",
       "115    6.4\n",
       "116    6.5\n",
       "117    7.7\n",
       "118    7.7\n",
       "119    6.0\n",
       "120    6.9\n",
       "121    5.6\n",
       "122    7.7\n",
       "123    6.3\n",
       "124    6.7\n",
       "125    7.2\n",
       "126    6.2\n",
       "127    6.1\n",
       "128    6.4\n",
       "129    7.2\n",
       "130    7.4\n",
       "131    7.9\n",
       "132    6.4\n",
       "133    6.3\n",
       "134    6.1\n",
       "135    7.7\n",
       "136    6.3\n",
       "137    6.4\n",
       "138    6.0\n",
       "139    6.9\n",
       "140    6.7\n",
       "141    6.9\n",
       "142    5.8\n",
       "143    6.8\n",
       "144    6.7\n",
       "145    6.7\n",
       "146    6.3\n",
       "147    6.5\n",
       "148    6.2\n",
       "149    5.9\n",
       "Name: sepal_length, dtype: float64"
      ]
     },
     "execution_count": 164,
     "metadata": {},
     "output_type": "execute_result"
    }
   ],
   "source": [
    "import pandas as pd\n",
    "# 1. sepal_length 열만 출력\n",
    "df = pd.DataFrame(data=iris)\n",
    "df['sepal_length']"
   ]
  },
  {
   "cell_type": "code",
   "execution_count": 201,
   "id": "92dea76a",
   "metadata": {
    "ExecuteTime": {
     "end_time": "2024-11-26T03:42:09.894569Z",
     "start_time": "2024-11-26T03:42:09.866769Z"
    }
   },
   "outputs": [
    {
     "name": "stdout",
     "output_type": "stream",
     "text": [
      "    sepal_length  sepal_width  petal_length  petal_width\n",
      "0            5.1          3.5           1.4          0.2\n",
      "1            4.9          3.0           1.4          0.2\n",
      "2            4.7          3.2           1.3          0.2\n",
      "3            4.6          3.1           1.5          0.2\n",
      "4            5.0          3.6           1.4          0.2\n",
      "5            5.4          3.9           1.7          0.4\n",
      "6            4.6          3.4           1.4          0.3\n",
      "7            5.0          3.4           1.5          0.2\n",
      "8            4.4          2.9           1.4          0.2\n",
      "9            4.9          3.1           1.5          0.1\n",
      "10           5.4          3.7           1.5          0.2\n",
      "    sepal_length  sepal_width  petal_length  petal_width\n",
      "0            5.1          3.5           1.4          0.2\n",
      "1            4.9          3.0           1.4          0.2\n",
      "2            4.7          3.2           1.3          0.2\n",
      "3            4.6          3.1           1.5          0.2\n",
      "4            5.0          3.6           1.4          0.2\n",
      "5            5.4          3.9           1.7          0.4\n",
      "6            4.6          3.4           1.4          0.3\n",
      "7            5.0          3.4           1.5          0.2\n",
      "8            4.4          2.9           1.4          0.2\n",
      "9            4.9          3.1           1.5          0.1\n",
      "10           5.4          3.7           1.5          0.2\n"
     ]
    }
   ],
   "source": [
    "# 2. 0~10행까지 마지막 열을 제외한 데이터 (loc, iloc)\n",
    "print(df.loc[:10, 'sepal_length':'petal_width'])\n",
    "print(df.iloc[:11, :-1])"
   ]
  },
  {
   "cell_type": "code",
   "execution_count": 202,
   "id": "88fb7b22",
   "metadata": {
    "ExecuteTime": {
     "end_time": "2024-11-26T03:42:49.930633Z",
     "start_time": "2024-11-26T03:42:49.920668Z"
    }
   },
   "outputs": [
    {
     "name": "stdout",
     "output_type": "stream",
     "text": [
      "    sepal_length  petal_length\n",
      "3            4.6           1.5\n",
      "4            5.0           1.4\n",
      "5            5.4           1.7\n",
      "6            4.6           1.4\n",
      "7            5.0           1.5\n",
      "8            4.4           1.4\n",
      "9            4.9           1.5\n",
      "10           5.4           1.5\n",
      "    sepal_length  petal_length\n",
      "3            4.6           1.5\n",
      "4            5.0           1.4\n",
      "5            5.4           1.7\n",
      "6            4.6           1.4\n",
      "7            5.0           1.5\n",
      "8            4.4           1.4\n",
      "9            4.9           1.5\n",
      "10           5.4           1.5\n"
     ]
    }
   ],
   "source": [
    "# 3. 3~10행 중에 'sepal_length'와 'petal_length' 열만\n",
    "print(df.loc[3:10, ['sepal_length', 'petal_length']])\n",
    "print(df.iloc[3:11, [0, 2]])"
   ]
  },
  {
   "cell_type": "code",
   "execution_count": 206,
   "id": "a32529d6",
   "metadata": {
    "ExecuteTime": {
     "end_time": "2024-11-26T03:44:01.573352Z",
     "start_time": "2024-11-26T03:44:01.555004Z"
    }
   },
   "outputs": [
    {
     "name": "stdout",
     "output_type": "stream",
     "text": [
      "     sepal_length  sepal_width  petal_length  petal_width     species\n",
      "0             5.1          3.5           1.4          0.2      setosa\n",
      "50            7.0          3.2           4.7          1.4  versicolor\n",
      "100           6.3          3.3           6.0          2.5   virginica\n",
      "     sepal_length  sepal_width  petal_length  petal_width     species\n",
      "0             5.1          3.5           1.4          0.2      setosa\n",
      "50            7.0          3.2           4.7          1.4  versicolor\n",
      "100           6.3          3.3           6.0          2.5   virginica\n"
     ]
    }
   ],
   "source": [
    "# 4. 0번째, 50번째, 100번째 행의 모든 열 (loc, iloc)\n",
    "print(df.loc[[0, 50, 100], ])\n",
    "print(df.iloc[0:101:50])"
   ]
  },
  {
   "cell_type": "code",
   "execution_count": 207,
   "id": "588093e7",
   "metadata": {
    "ExecuteTime": {
     "end_time": "2024-11-26T03:45:07.356522Z",
     "start_time": "2024-11-26T03:45:07.345542Z"
    }
   },
   "outputs": [
    {
     "name": "stdout",
     "output_type": "stream",
     "text": [
      "     petal_length  petal_width\n",
      "0             1.4          0.2\n",
      "25            1.6          0.2\n",
      "75            4.4          1.4\n",
      "100           6.0          2.5\n",
      "125           6.0          1.8\n",
      "     petal_length  petal_width\n",
      "0             1.4          0.2\n",
      "25            1.6          0.2\n",
      "50            4.7          1.4\n",
      "75            4.4          1.4\n",
      "100           6.0          2.5\n",
      "125           6.0          1.8\n"
     ]
    }
   ],
   "source": [
    "# 5. 0번째, 25번째, 75번째, 100번째, 125번째 행의 petal_length와 petal_width(loc, iloc)\n",
    "print(df.loc[[0, 25, 75, 100, 125], ['petal_length', 'petal_width']])\n",
    "print(df.iloc[::25, 2:-1])"
   ]
  },
  {
   "cell_type": "code",
   "execution_count": 211,
   "id": "6404fe6f",
   "metadata": {
    "ExecuteTime": {
     "end_time": "2024-11-26T03:48:00.550811Z",
     "start_time": "2024-11-26T03:48:00.528367Z"
    }
   },
   "outputs": [
    {
     "name": "stdout",
     "output_type": "stream",
     "text": [
      "    sepal_length  sepal_width  petal_length  petal_width     species\n",
      "50           7.0          3.2           4.7          1.4  versicolor\n",
      "51           6.4          3.2           4.5          1.5  versicolor\n",
      "52           6.9          3.1           4.9          1.5  versicolor\n",
      "53           5.5          2.3           4.0          1.3  versicolor\n",
      "54           6.5          2.8           4.6          1.5  versicolor\n",
      "55           5.7          2.8           4.5          1.3  versicolor\n",
      "56           6.3          3.3           4.7          1.6  versicolor\n",
      "57           4.9          2.4           3.3          1.0  versicolor\n",
      "58           6.6          2.9           4.6          1.3  versicolor\n",
      "59           5.2          2.7           3.9          1.4  versicolor\n",
      "60           5.0          2.0           3.5          1.0  versicolor\n",
      "61           5.9          3.0           4.2          1.5  versicolor\n",
      "62           6.0          2.2           4.0          1.0  versicolor\n",
      "63           6.1          2.9           4.7          1.4  versicolor\n",
      "64           5.6          2.9           3.6          1.3  versicolor\n",
      "65           6.7          3.1           4.4          1.4  versicolor\n",
      "66           5.6          3.0           4.5          1.5  versicolor\n",
      "67           5.8          2.7           4.1          1.0  versicolor\n",
      "68           6.2          2.2           4.5          1.5  versicolor\n",
      "69           5.6          2.5           3.9          1.1  versicolor\n",
      "70           5.9          3.2           4.8          1.8  versicolor\n",
      "71           6.1          2.8           4.0          1.3  versicolor\n",
      "72           6.3          2.5           4.9          1.5  versicolor\n",
      "73           6.1          2.8           4.7          1.2  versicolor\n",
      "74           6.4          2.9           4.3          1.3  versicolor\n",
      "75           6.6          3.0           4.4          1.4  versicolor\n",
      "76           6.8          2.8           4.8          1.4  versicolor\n",
      "77           6.7          3.0           5.0          1.7  versicolor\n",
      "78           6.0          2.9           4.5          1.5  versicolor\n",
      "79           5.7          2.6           3.5          1.0  versicolor\n",
      "80           5.5          2.4           3.8          1.1  versicolor\n",
      "81           5.5          2.4           3.7          1.0  versicolor\n",
      "82           5.8          2.7           3.9          1.2  versicolor\n",
      "83           6.0          2.7           5.1          1.6  versicolor\n",
      "84           5.4          3.0           4.5          1.5  versicolor\n",
      "85           6.0          3.4           4.5          1.6  versicolor\n",
      "86           6.7          3.1           4.7          1.5  versicolor\n",
      "87           6.3          2.3           4.4          1.3  versicolor\n",
      "88           5.6          3.0           4.1          1.3  versicolor\n",
      "89           5.5          2.5           4.0          1.3  versicolor\n",
      "90           5.5          2.6           4.4          1.2  versicolor\n",
      "91           6.1          3.0           4.6          1.4  versicolor\n",
      "92           5.8          2.6           4.0          1.2  versicolor\n",
      "93           5.0          2.3           3.3          1.0  versicolor\n",
      "94           5.6          2.7           4.2          1.3  versicolor\n",
      "95           5.7          3.0           4.2          1.2  versicolor\n",
      "96           5.7          2.9           4.2          1.3  versicolor\n",
      "97           6.2          2.9           4.3          1.3  versicolor\n",
      "98           5.1          2.5           3.0          1.1  versicolor\n",
      "99           5.7          2.8           4.1          1.3  versicolor\n",
      "    sepal_length  sepal_width  petal_length  petal_width     species\n",
      "50           7.0          3.2           4.7          1.4  versicolor\n",
      "51           6.4          3.2           4.5          1.5  versicolor\n",
      "52           6.9          3.1           4.9          1.5  versicolor\n",
      "53           5.5          2.3           4.0          1.3  versicolor\n",
      "54           6.5          2.8           4.6          1.5  versicolor\n",
      "55           5.7          2.8           4.5          1.3  versicolor\n",
      "56           6.3          3.3           4.7          1.6  versicolor\n",
      "57           4.9          2.4           3.3          1.0  versicolor\n",
      "58           6.6          2.9           4.6          1.3  versicolor\n",
      "59           5.2          2.7           3.9          1.4  versicolor\n",
      "60           5.0          2.0           3.5          1.0  versicolor\n",
      "61           5.9          3.0           4.2          1.5  versicolor\n",
      "62           6.0          2.2           4.0          1.0  versicolor\n",
      "63           6.1          2.9           4.7          1.4  versicolor\n",
      "64           5.6          2.9           3.6          1.3  versicolor\n",
      "65           6.7          3.1           4.4          1.4  versicolor\n",
      "66           5.6          3.0           4.5          1.5  versicolor\n",
      "67           5.8          2.7           4.1          1.0  versicolor\n",
      "68           6.2          2.2           4.5          1.5  versicolor\n",
      "69           5.6          2.5           3.9          1.1  versicolor\n",
      "70           5.9          3.2           4.8          1.8  versicolor\n",
      "71           6.1          2.8           4.0          1.3  versicolor\n",
      "72           6.3          2.5           4.9          1.5  versicolor\n",
      "73           6.1          2.8           4.7          1.2  versicolor\n",
      "74           6.4          2.9           4.3          1.3  versicolor\n",
      "75           6.6          3.0           4.4          1.4  versicolor\n",
      "76           6.8          2.8           4.8          1.4  versicolor\n",
      "77           6.7          3.0           5.0          1.7  versicolor\n",
      "78           6.0          2.9           4.5          1.5  versicolor\n",
      "79           5.7          2.6           3.5          1.0  versicolor\n",
      "80           5.5          2.4           3.8          1.1  versicolor\n",
      "81           5.5          2.4           3.7          1.0  versicolor\n",
      "82           5.8          2.7           3.9          1.2  versicolor\n",
      "83           6.0          2.7           5.1          1.6  versicolor\n",
      "84           5.4          3.0           4.5          1.5  versicolor\n",
      "85           6.0          3.4           4.5          1.6  versicolor\n",
      "86           6.7          3.1           4.7          1.5  versicolor\n",
      "87           6.3          2.3           4.4          1.3  versicolor\n",
      "88           5.6          3.0           4.1          1.3  versicolor\n",
      "89           5.5          2.5           4.0          1.3  versicolor\n",
      "90           5.5          2.6           4.4          1.2  versicolor\n",
      "91           6.1          3.0           4.6          1.4  versicolor\n",
      "92           5.8          2.6           4.0          1.2  versicolor\n",
      "93           5.0          2.3           3.3          1.0  versicolor\n",
      "94           5.6          2.7           4.2          1.3  versicolor\n",
      "95           5.7          3.0           4.2          1.2  versicolor\n",
      "96           5.7          2.9           4.2          1.3  versicolor\n",
      "97           6.2          2.9           4.3          1.3  versicolor\n",
      "98           5.1          2.5           3.0          1.1  versicolor\n",
      "99           5.7          2.8           4.1          1.3  versicolor\n"
     ]
    }
   ],
   "source": [
    "# 6. species가 versicolor인 데이터의 모든 열\n",
    "print(df[df['species'] == 'versicolor'])\n",
    "print(df.loc[df['species'] == 'versicolor'])"
   ]
  },
  {
   "cell_type": "code",
   "execution_count": 213,
   "id": "c847e368",
   "metadata": {
    "ExecuteTime": {
     "end_time": "2024-11-26T03:48:36.046156Z",
     "start_time": "2024-11-26T03:48:36.033671Z"
    }
   },
   "outputs": [
    {
     "name": "stdout",
     "output_type": "stream",
     "text": [
      "   sepal_length  sepal_width  petal_length  petal_width species\n",
      "0           5.1          3.5           1.4          0.2  setosa\n",
      "1           4.9          3.0           1.4          0.2  setosa\n",
      "2           4.7          3.2           1.3          0.2  setosa\n",
      "3           4.6          3.1           1.5          0.2  setosa\n",
      "4           5.0          3.6           1.4          0.2  setosa\n",
      "   sepal_length  sepal_width  petal_length  petal_width species\n",
      "0           5.1          3.5           1.4          0.2  setosa\n",
      "1           4.9          3.0           1.4          0.2  setosa\n",
      "2           4.7          3.2           1.3          0.2  setosa\n",
      "3           4.6          3.1           1.5          0.2  setosa\n",
      "4           5.0          3.6           1.4          0.2  setosa\n"
     ]
    }
   ],
   "source": [
    "# 7. species가 setosa인 데이터 최초 5개 행만 출력\n",
    "print(df[df['species'] == 'setosa'].head())\n",
    "print(df.loc[df['species'] == 'setosa'].head())"
   ]
  },
  {
   "cell_type": "code",
   "execution_count": 215,
   "id": "7d5e295a",
   "metadata": {
    "ExecuteTime": {
     "end_time": "2024-11-26T03:49:22.093661Z",
     "start_time": "2024-11-26T03:49:22.081706Z"
    }
   },
   "outputs": [
    {
     "name": "stdout",
     "output_type": "stream",
     "text": [
      "    sepal_length  sepal_width  petal_length  petal_width     species\n",
      "50           7.0          3.2           4.7          1.4  versicolor\n",
      "52           6.9          3.1           4.9          1.5  versicolor\n",
      "54           6.5          2.8           4.6          1.5  versicolor\n",
      "58           6.6          2.9           4.6          1.3  versicolor\n",
      "65           6.7          3.1           4.4          1.4  versicolor\n",
      "    sepal_length  sepal_width  petal_length  petal_width     species\n",
      "50           7.0          3.2           4.7          1.4  versicolor\n",
      "52           6.9          3.1           4.9          1.5  versicolor\n",
      "54           6.5          2.8           4.6          1.5  versicolor\n",
      "58           6.6          2.9           4.6          1.3  versicolor\n",
      "65           6.7          3.1           4.4          1.4  versicolor\n"
     ]
    }
   ],
   "source": [
    "# 8. sepal_length가 6.5이상인 데이터 최초 5개 행만 출력\n",
    "print(df[df['sepal_length'] >= 6.5].head())\n",
    "print(df.loc[df['sepal_length'] >= 6.5].head())"
   ]
  },
  {
   "cell_type": "code",
   "execution_count": 216,
   "id": "1e42de45",
   "metadata": {
    "ExecuteTime": {
     "end_time": "2024-11-26T03:49:42.604821Z",
     "start_time": "2024-11-26T03:49:42.552460Z"
    }
   },
   "outputs": [
    {
     "data": {
      "text/html": [
       "<div>\n",
       "<style scoped>\n",
       "    .dataframe tbody tr th:only-of-type {\n",
       "        vertical-align: middle;\n",
       "    }\n",
       "\n",
       "    .dataframe tbody tr th {\n",
       "        vertical-align: top;\n",
       "    }\n",
       "\n",
       "    .dataframe thead th {\n",
       "        text-align: right;\n",
       "    }\n",
       "</style>\n",
       "<table border=\"1\" class=\"dataframe\">\n",
       "  <thead>\n",
       "    <tr style=\"text-align: right;\">\n",
       "      <th></th>\n",
       "      <th>sepal_length</th>\n",
       "      <th>sepal_width</th>\n",
       "      <th>petal_length</th>\n",
       "      <th>petal_width</th>\n",
       "      <th>species</th>\n",
       "    </tr>\n",
       "  </thead>\n",
       "  <tbody>\n",
       "    <tr>\n",
       "      <th>0</th>\n",
       "      <td>5.1</td>\n",
       "      <td>3.5</td>\n",
       "      <td>1.4</td>\n",
       "      <td>0.2</td>\n",
       "      <td>setosa</td>\n",
       "    </tr>\n",
       "    <tr>\n",
       "      <th>1</th>\n",
       "      <td>4.9</td>\n",
       "      <td>3.0</td>\n",
       "      <td>1.4</td>\n",
       "      <td>0.2</td>\n",
       "      <td>setosa</td>\n",
       "    </tr>\n",
       "    <tr>\n",
       "      <th>2</th>\n",
       "      <td>4.7</td>\n",
       "      <td>3.2</td>\n",
       "      <td>1.3</td>\n",
       "      <td>0.2</td>\n",
       "      <td>setosa</td>\n",
       "    </tr>\n",
       "    <tr>\n",
       "      <th>3</th>\n",
       "      <td>4.6</td>\n",
       "      <td>3.1</td>\n",
       "      <td>1.5</td>\n",
       "      <td>0.2</td>\n",
       "      <td>setosa</td>\n",
       "    </tr>\n",
       "    <tr>\n",
       "      <th>4</th>\n",
       "      <td>5.0</td>\n",
       "      <td>3.6</td>\n",
       "      <td>1.4</td>\n",
       "      <td>0.2</td>\n",
       "      <td>setosa</td>\n",
       "    </tr>\n",
       "    <tr>\n",
       "      <th>5</th>\n",
       "      <td>5.4</td>\n",
       "      <td>3.9</td>\n",
       "      <td>1.7</td>\n",
       "      <td>0.4</td>\n",
       "      <td>setosa</td>\n",
       "    </tr>\n",
       "    <tr>\n",
       "      <th>6</th>\n",
       "      <td>4.6</td>\n",
       "      <td>3.4</td>\n",
       "      <td>1.4</td>\n",
       "      <td>0.3</td>\n",
       "      <td>setosa</td>\n",
       "    </tr>\n",
       "    <tr>\n",
       "      <th>7</th>\n",
       "      <td>5.0</td>\n",
       "      <td>3.4</td>\n",
       "      <td>1.5</td>\n",
       "      <td>0.2</td>\n",
       "      <td>setosa</td>\n",
       "    </tr>\n",
       "    <tr>\n",
       "      <th>8</th>\n",
       "      <td>4.4</td>\n",
       "      <td>2.9</td>\n",
       "      <td>1.4</td>\n",
       "      <td>0.2</td>\n",
       "      <td>setosa</td>\n",
       "    </tr>\n",
       "    <tr>\n",
       "      <th>9</th>\n",
       "      <td>4.9</td>\n",
       "      <td>3.1</td>\n",
       "      <td>1.5</td>\n",
       "      <td>0.1</td>\n",
       "      <td>setosa</td>\n",
       "    </tr>\n",
       "    <tr>\n",
       "      <th>10</th>\n",
       "      <td>5.4</td>\n",
       "      <td>3.7</td>\n",
       "      <td>1.5</td>\n",
       "      <td>0.2</td>\n",
       "      <td>setosa</td>\n",
       "    </tr>\n",
       "    <tr>\n",
       "      <th>11</th>\n",
       "      <td>4.8</td>\n",
       "      <td>3.4</td>\n",
       "      <td>1.6</td>\n",
       "      <td>0.2</td>\n",
       "      <td>setosa</td>\n",
       "    </tr>\n",
       "    <tr>\n",
       "      <th>12</th>\n",
       "      <td>4.8</td>\n",
       "      <td>3.0</td>\n",
       "      <td>1.4</td>\n",
       "      <td>0.1</td>\n",
       "      <td>setosa</td>\n",
       "    </tr>\n",
       "    <tr>\n",
       "      <th>13</th>\n",
       "      <td>4.3</td>\n",
       "      <td>3.0</td>\n",
       "      <td>1.1</td>\n",
       "      <td>0.1</td>\n",
       "      <td>setosa</td>\n",
       "    </tr>\n",
       "    <tr>\n",
       "      <th>14</th>\n",
       "      <td>5.8</td>\n",
       "      <td>4.0</td>\n",
       "      <td>1.2</td>\n",
       "      <td>0.2</td>\n",
       "      <td>setosa</td>\n",
       "    </tr>\n",
       "    <tr>\n",
       "      <th>15</th>\n",
       "      <td>5.7</td>\n",
       "      <td>4.4</td>\n",
       "      <td>1.5</td>\n",
       "      <td>0.4</td>\n",
       "      <td>setosa</td>\n",
       "    </tr>\n",
       "    <tr>\n",
       "      <th>16</th>\n",
       "      <td>5.4</td>\n",
       "      <td>3.9</td>\n",
       "      <td>1.3</td>\n",
       "      <td>0.4</td>\n",
       "      <td>setosa</td>\n",
       "    </tr>\n",
       "    <tr>\n",
       "      <th>17</th>\n",
       "      <td>5.1</td>\n",
       "      <td>3.5</td>\n",
       "      <td>1.4</td>\n",
       "      <td>0.3</td>\n",
       "      <td>setosa</td>\n",
       "    </tr>\n",
       "    <tr>\n",
       "      <th>18</th>\n",
       "      <td>5.7</td>\n",
       "      <td>3.8</td>\n",
       "      <td>1.7</td>\n",
       "      <td>0.3</td>\n",
       "      <td>setosa</td>\n",
       "    </tr>\n",
       "    <tr>\n",
       "      <th>19</th>\n",
       "      <td>5.1</td>\n",
       "      <td>3.8</td>\n",
       "      <td>1.5</td>\n",
       "      <td>0.3</td>\n",
       "      <td>setosa</td>\n",
       "    </tr>\n",
       "    <tr>\n",
       "      <th>20</th>\n",
       "      <td>5.4</td>\n",
       "      <td>3.4</td>\n",
       "      <td>1.7</td>\n",
       "      <td>0.2</td>\n",
       "      <td>setosa</td>\n",
       "    </tr>\n",
       "    <tr>\n",
       "      <th>21</th>\n",
       "      <td>5.1</td>\n",
       "      <td>3.7</td>\n",
       "      <td>1.5</td>\n",
       "      <td>0.4</td>\n",
       "      <td>setosa</td>\n",
       "    </tr>\n",
       "    <tr>\n",
       "      <th>22</th>\n",
       "      <td>4.6</td>\n",
       "      <td>3.6</td>\n",
       "      <td>1.0</td>\n",
       "      <td>0.2</td>\n",
       "      <td>setosa</td>\n",
       "    </tr>\n",
       "    <tr>\n",
       "      <th>23</th>\n",
       "      <td>5.1</td>\n",
       "      <td>3.3</td>\n",
       "      <td>1.7</td>\n",
       "      <td>0.5</td>\n",
       "      <td>setosa</td>\n",
       "    </tr>\n",
       "    <tr>\n",
       "      <th>24</th>\n",
       "      <td>4.8</td>\n",
       "      <td>3.4</td>\n",
       "      <td>1.9</td>\n",
       "      <td>0.2</td>\n",
       "      <td>setosa</td>\n",
       "    </tr>\n",
       "    <tr>\n",
       "      <th>25</th>\n",
       "      <td>5.0</td>\n",
       "      <td>3.0</td>\n",
       "      <td>1.6</td>\n",
       "      <td>0.2</td>\n",
       "      <td>setosa</td>\n",
       "    </tr>\n",
       "    <tr>\n",
       "      <th>26</th>\n",
       "      <td>5.0</td>\n",
       "      <td>3.4</td>\n",
       "      <td>1.6</td>\n",
       "      <td>0.4</td>\n",
       "      <td>setosa</td>\n",
       "    </tr>\n",
       "    <tr>\n",
       "      <th>27</th>\n",
       "      <td>5.2</td>\n",
       "      <td>3.5</td>\n",
       "      <td>1.5</td>\n",
       "      <td>0.2</td>\n",
       "      <td>setosa</td>\n",
       "    </tr>\n",
       "    <tr>\n",
       "      <th>28</th>\n",
       "      <td>5.2</td>\n",
       "      <td>3.4</td>\n",
       "      <td>1.4</td>\n",
       "      <td>0.2</td>\n",
       "      <td>setosa</td>\n",
       "    </tr>\n",
       "    <tr>\n",
       "      <th>29</th>\n",
       "      <td>4.7</td>\n",
       "      <td>3.2</td>\n",
       "      <td>1.6</td>\n",
       "      <td>0.2</td>\n",
       "      <td>setosa</td>\n",
       "    </tr>\n",
       "    <tr>\n",
       "      <th>30</th>\n",
       "      <td>4.8</td>\n",
       "      <td>3.1</td>\n",
       "      <td>1.6</td>\n",
       "      <td>0.2</td>\n",
       "      <td>setosa</td>\n",
       "    </tr>\n",
       "    <tr>\n",
       "      <th>31</th>\n",
       "      <td>5.4</td>\n",
       "      <td>3.4</td>\n",
       "      <td>1.5</td>\n",
       "      <td>0.4</td>\n",
       "      <td>setosa</td>\n",
       "    </tr>\n",
       "    <tr>\n",
       "      <th>32</th>\n",
       "      <td>5.2</td>\n",
       "      <td>4.1</td>\n",
       "      <td>1.5</td>\n",
       "      <td>0.1</td>\n",
       "      <td>setosa</td>\n",
       "    </tr>\n",
       "    <tr>\n",
       "      <th>33</th>\n",
       "      <td>5.5</td>\n",
       "      <td>4.2</td>\n",
       "      <td>1.4</td>\n",
       "      <td>0.2</td>\n",
       "      <td>setosa</td>\n",
       "    </tr>\n",
       "    <tr>\n",
       "      <th>34</th>\n",
       "      <td>4.9</td>\n",
       "      <td>3.1</td>\n",
       "      <td>1.5</td>\n",
       "      <td>0.2</td>\n",
       "      <td>setosa</td>\n",
       "    </tr>\n",
       "    <tr>\n",
       "      <th>35</th>\n",
       "      <td>5.0</td>\n",
       "      <td>3.2</td>\n",
       "      <td>1.2</td>\n",
       "      <td>0.2</td>\n",
       "      <td>setosa</td>\n",
       "    </tr>\n",
       "    <tr>\n",
       "      <th>36</th>\n",
       "      <td>5.5</td>\n",
       "      <td>3.5</td>\n",
       "      <td>1.3</td>\n",
       "      <td>0.2</td>\n",
       "      <td>setosa</td>\n",
       "    </tr>\n",
       "    <tr>\n",
       "      <th>37</th>\n",
       "      <td>4.9</td>\n",
       "      <td>3.6</td>\n",
       "      <td>1.4</td>\n",
       "      <td>0.1</td>\n",
       "      <td>setosa</td>\n",
       "    </tr>\n",
       "    <tr>\n",
       "      <th>38</th>\n",
       "      <td>4.4</td>\n",
       "      <td>3.0</td>\n",
       "      <td>1.3</td>\n",
       "      <td>0.2</td>\n",
       "      <td>setosa</td>\n",
       "    </tr>\n",
       "    <tr>\n",
       "      <th>39</th>\n",
       "      <td>5.1</td>\n",
       "      <td>3.4</td>\n",
       "      <td>1.5</td>\n",
       "      <td>0.2</td>\n",
       "      <td>setosa</td>\n",
       "    </tr>\n",
       "    <tr>\n",
       "      <th>40</th>\n",
       "      <td>5.0</td>\n",
       "      <td>3.5</td>\n",
       "      <td>1.3</td>\n",
       "      <td>0.3</td>\n",
       "      <td>setosa</td>\n",
       "    </tr>\n",
       "    <tr>\n",
       "      <th>41</th>\n",
       "      <td>4.5</td>\n",
       "      <td>2.3</td>\n",
       "      <td>1.3</td>\n",
       "      <td>0.3</td>\n",
       "      <td>setosa</td>\n",
       "    </tr>\n",
       "    <tr>\n",
       "      <th>42</th>\n",
       "      <td>4.4</td>\n",
       "      <td>3.2</td>\n",
       "      <td>1.3</td>\n",
       "      <td>0.2</td>\n",
       "      <td>setosa</td>\n",
       "    </tr>\n",
       "    <tr>\n",
       "      <th>43</th>\n",
       "      <td>5.0</td>\n",
       "      <td>3.5</td>\n",
       "      <td>1.6</td>\n",
       "      <td>0.6</td>\n",
       "      <td>setosa</td>\n",
       "    </tr>\n",
       "    <tr>\n",
       "      <th>44</th>\n",
       "      <td>5.1</td>\n",
       "      <td>3.8</td>\n",
       "      <td>1.9</td>\n",
       "      <td>0.4</td>\n",
       "      <td>setosa</td>\n",
       "    </tr>\n",
       "    <tr>\n",
       "      <th>45</th>\n",
       "      <td>4.8</td>\n",
       "      <td>3.0</td>\n",
       "      <td>1.4</td>\n",
       "      <td>0.3</td>\n",
       "      <td>setosa</td>\n",
       "    </tr>\n",
       "    <tr>\n",
       "      <th>46</th>\n",
       "      <td>5.1</td>\n",
       "      <td>3.8</td>\n",
       "      <td>1.6</td>\n",
       "      <td>0.2</td>\n",
       "      <td>setosa</td>\n",
       "    </tr>\n",
       "    <tr>\n",
       "      <th>47</th>\n",
       "      <td>4.6</td>\n",
       "      <td>3.2</td>\n",
       "      <td>1.4</td>\n",
       "      <td>0.2</td>\n",
       "      <td>setosa</td>\n",
       "    </tr>\n",
       "    <tr>\n",
       "      <th>48</th>\n",
       "      <td>5.3</td>\n",
       "      <td>3.7</td>\n",
       "      <td>1.5</td>\n",
       "      <td>0.2</td>\n",
       "      <td>setosa</td>\n",
       "    </tr>\n",
       "    <tr>\n",
       "      <th>49</th>\n",
       "      <td>5.0</td>\n",
       "      <td>3.3</td>\n",
       "      <td>1.4</td>\n",
       "      <td>0.2</td>\n",
       "      <td>setosa</td>\n",
       "    </tr>\n",
       "    <tr>\n",
       "      <th>50</th>\n",
       "      <td>7.0</td>\n",
       "      <td>3.2</td>\n",
       "      <td>4.7</td>\n",
       "      <td>1.4</td>\n",
       "      <td>versicolor</td>\n",
       "    </tr>\n",
       "    <tr>\n",
       "      <th>51</th>\n",
       "      <td>6.4</td>\n",
       "      <td>3.2</td>\n",
       "      <td>4.5</td>\n",
       "      <td>1.5</td>\n",
       "      <td>versicolor</td>\n",
       "    </tr>\n",
       "    <tr>\n",
       "      <th>52</th>\n",
       "      <td>6.9</td>\n",
       "      <td>3.1</td>\n",
       "      <td>4.9</td>\n",
       "      <td>1.5</td>\n",
       "      <td>versicolor</td>\n",
       "    </tr>\n",
       "    <tr>\n",
       "      <th>53</th>\n",
       "      <td>5.5</td>\n",
       "      <td>2.3</td>\n",
       "      <td>4.0</td>\n",
       "      <td>1.3</td>\n",
       "      <td>versicolor</td>\n",
       "    </tr>\n",
       "    <tr>\n",
       "      <th>54</th>\n",
       "      <td>6.5</td>\n",
       "      <td>2.8</td>\n",
       "      <td>4.6</td>\n",
       "      <td>1.5</td>\n",
       "      <td>versicolor</td>\n",
       "    </tr>\n",
       "    <tr>\n",
       "      <th>55</th>\n",
       "      <td>5.7</td>\n",
       "      <td>2.8</td>\n",
       "      <td>4.5</td>\n",
       "      <td>1.3</td>\n",
       "      <td>versicolor</td>\n",
       "    </tr>\n",
       "    <tr>\n",
       "      <th>56</th>\n",
       "      <td>6.3</td>\n",
       "      <td>3.3</td>\n",
       "      <td>4.7</td>\n",
       "      <td>1.6</td>\n",
       "      <td>versicolor</td>\n",
       "    </tr>\n",
       "    <tr>\n",
       "      <th>57</th>\n",
       "      <td>4.9</td>\n",
       "      <td>2.4</td>\n",
       "      <td>3.3</td>\n",
       "      <td>1.0</td>\n",
       "      <td>versicolor</td>\n",
       "    </tr>\n",
       "    <tr>\n",
       "      <th>58</th>\n",
       "      <td>6.6</td>\n",
       "      <td>2.9</td>\n",
       "      <td>4.6</td>\n",
       "      <td>1.3</td>\n",
       "      <td>versicolor</td>\n",
       "    </tr>\n",
       "    <tr>\n",
       "      <th>59</th>\n",
       "      <td>5.2</td>\n",
       "      <td>2.7</td>\n",
       "      <td>3.9</td>\n",
       "      <td>1.4</td>\n",
       "      <td>versicolor</td>\n",
       "    </tr>\n",
       "    <tr>\n",
       "      <th>60</th>\n",
       "      <td>5.0</td>\n",
       "      <td>2.0</td>\n",
       "      <td>3.5</td>\n",
       "      <td>1.0</td>\n",
       "      <td>versicolor</td>\n",
       "    </tr>\n",
       "    <tr>\n",
       "      <th>61</th>\n",
       "      <td>5.9</td>\n",
       "      <td>3.0</td>\n",
       "      <td>4.2</td>\n",
       "      <td>1.5</td>\n",
       "      <td>versicolor</td>\n",
       "    </tr>\n",
       "    <tr>\n",
       "      <th>62</th>\n",
       "      <td>6.0</td>\n",
       "      <td>2.2</td>\n",
       "      <td>4.0</td>\n",
       "      <td>1.0</td>\n",
       "      <td>versicolor</td>\n",
       "    </tr>\n",
       "    <tr>\n",
       "      <th>63</th>\n",
       "      <td>6.1</td>\n",
       "      <td>2.9</td>\n",
       "      <td>4.7</td>\n",
       "      <td>1.4</td>\n",
       "      <td>versicolor</td>\n",
       "    </tr>\n",
       "    <tr>\n",
       "      <th>64</th>\n",
       "      <td>5.6</td>\n",
       "      <td>2.9</td>\n",
       "      <td>3.6</td>\n",
       "      <td>1.3</td>\n",
       "      <td>versicolor</td>\n",
       "    </tr>\n",
       "    <tr>\n",
       "      <th>65</th>\n",
       "      <td>6.7</td>\n",
       "      <td>3.1</td>\n",
       "      <td>4.4</td>\n",
       "      <td>1.4</td>\n",
       "      <td>versicolor</td>\n",
       "    </tr>\n",
       "    <tr>\n",
       "      <th>66</th>\n",
       "      <td>5.6</td>\n",
       "      <td>3.0</td>\n",
       "      <td>4.5</td>\n",
       "      <td>1.5</td>\n",
       "      <td>versicolor</td>\n",
       "    </tr>\n",
       "    <tr>\n",
       "      <th>67</th>\n",
       "      <td>5.8</td>\n",
       "      <td>2.7</td>\n",
       "      <td>4.1</td>\n",
       "      <td>1.0</td>\n",
       "      <td>versicolor</td>\n",
       "    </tr>\n",
       "    <tr>\n",
       "      <th>68</th>\n",
       "      <td>6.2</td>\n",
       "      <td>2.2</td>\n",
       "      <td>4.5</td>\n",
       "      <td>1.5</td>\n",
       "      <td>versicolor</td>\n",
       "    </tr>\n",
       "    <tr>\n",
       "      <th>69</th>\n",
       "      <td>5.6</td>\n",
       "      <td>2.5</td>\n",
       "      <td>3.9</td>\n",
       "      <td>1.1</td>\n",
       "      <td>versicolor</td>\n",
       "    </tr>\n",
       "    <tr>\n",
       "      <th>70</th>\n",
       "      <td>5.9</td>\n",
       "      <td>3.2</td>\n",
       "      <td>4.8</td>\n",
       "      <td>1.8</td>\n",
       "      <td>versicolor</td>\n",
       "    </tr>\n",
       "    <tr>\n",
       "      <th>71</th>\n",
       "      <td>6.1</td>\n",
       "      <td>2.8</td>\n",
       "      <td>4.0</td>\n",
       "      <td>1.3</td>\n",
       "      <td>versicolor</td>\n",
       "    </tr>\n",
       "    <tr>\n",
       "      <th>72</th>\n",
       "      <td>6.3</td>\n",
       "      <td>2.5</td>\n",
       "      <td>4.9</td>\n",
       "      <td>1.5</td>\n",
       "      <td>versicolor</td>\n",
       "    </tr>\n",
       "    <tr>\n",
       "      <th>73</th>\n",
       "      <td>6.1</td>\n",
       "      <td>2.8</td>\n",
       "      <td>4.7</td>\n",
       "      <td>1.2</td>\n",
       "      <td>versicolor</td>\n",
       "    </tr>\n",
       "    <tr>\n",
       "      <th>74</th>\n",
       "      <td>6.4</td>\n",
       "      <td>2.9</td>\n",
       "      <td>4.3</td>\n",
       "      <td>1.3</td>\n",
       "      <td>versicolor</td>\n",
       "    </tr>\n",
       "    <tr>\n",
       "      <th>75</th>\n",
       "      <td>6.6</td>\n",
       "      <td>3.0</td>\n",
       "      <td>4.4</td>\n",
       "      <td>1.4</td>\n",
       "      <td>versicolor</td>\n",
       "    </tr>\n",
       "    <tr>\n",
       "      <th>76</th>\n",
       "      <td>6.8</td>\n",
       "      <td>2.8</td>\n",
       "      <td>4.8</td>\n",
       "      <td>1.4</td>\n",
       "      <td>versicolor</td>\n",
       "    </tr>\n",
       "    <tr>\n",
       "      <th>77</th>\n",
       "      <td>6.7</td>\n",
       "      <td>3.0</td>\n",
       "      <td>5.0</td>\n",
       "      <td>1.7</td>\n",
       "      <td>versicolor</td>\n",
       "    </tr>\n",
       "    <tr>\n",
       "      <th>78</th>\n",
       "      <td>6.0</td>\n",
       "      <td>2.9</td>\n",
       "      <td>4.5</td>\n",
       "      <td>1.5</td>\n",
       "      <td>versicolor</td>\n",
       "    </tr>\n",
       "    <tr>\n",
       "      <th>79</th>\n",
       "      <td>5.7</td>\n",
       "      <td>2.6</td>\n",
       "      <td>3.5</td>\n",
       "      <td>1.0</td>\n",
       "      <td>versicolor</td>\n",
       "    </tr>\n",
       "    <tr>\n",
       "      <th>80</th>\n",
       "      <td>5.5</td>\n",
       "      <td>2.4</td>\n",
       "      <td>3.8</td>\n",
       "      <td>1.1</td>\n",
       "      <td>versicolor</td>\n",
       "    </tr>\n",
       "    <tr>\n",
       "      <th>81</th>\n",
       "      <td>5.5</td>\n",
       "      <td>2.4</td>\n",
       "      <td>3.7</td>\n",
       "      <td>1.0</td>\n",
       "      <td>versicolor</td>\n",
       "    </tr>\n",
       "    <tr>\n",
       "      <th>82</th>\n",
       "      <td>5.8</td>\n",
       "      <td>2.7</td>\n",
       "      <td>3.9</td>\n",
       "      <td>1.2</td>\n",
       "      <td>versicolor</td>\n",
       "    </tr>\n",
       "    <tr>\n",
       "      <th>83</th>\n",
       "      <td>6.0</td>\n",
       "      <td>2.7</td>\n",
       "      <td>5.1</td>\n",
       "      <td>1.6</td>\n",
       "      <td>versicolor</td>\n",
       "    </tr>\n",
       "    <tr>\n",
       "      <th>84</th>\n",
       "      <td>5.4</td>\n",
       "      <td>3.0</td>\n",
       "      <td>4.5</td>\n",
       "      <td>1.5</td>\n",
       "      <td>versicolor</td>\n",
       "    </tr>\n",
       "    <tr>\n",
       "      <th>85</th>\n",
       "      <td>6.0</td>\n",
       "      <td>3.4</td>\n",
       "      <td>4.5</td>\n",
       "      <td>1.6</td>\n",
       "      <td>versicolor</td>\n",
       "    </tr>\n",
       "    <tr>\n",
       "      <th>86</th>\n",
       "      <td>6.7</td>\n",
       "      <td>3.1</td>\n",
       "      <td>4.7</td>\n",
       "      <td>1.5</td>\n",
       "      <td>versicolor</td>\n",
       "    </tr>\n",
       "    <tr>\n",
       "      <th>87</th>\n",
       "      <td>6.3</td>\n",
       "      <td>2.3</td>\n",
       "      <td>4.4</td>\n",
       "      <td>1.3</td>\n",
       "      <td>versicolor</td>\n",
       "    </tr>\n",
       "    <tr>\n",
       "      <th>88</th>\n",
       "      <td>5.6</td>\n",
       "      <td>3.0</td>\n",
       "      <td>4.1</td>\n",
       "      <td>1.3</td>\n",
       "      <td>versicolor</td>\n",
       "    </tr>\n",
       "    <tr>\n",
       "      <th>89</th>\n",
       "      <td>5.5</td>\n",
       "      <td>2.5</td>\n",
       "      <td>4.0</td>\n",
       "      <td>1.3</td>\n",
       "      <td>versicolor</td>\n",
       "    </tr>\n",
       "    <tr>\n",
       "      <th>90</th>\n",
       "      <td>5.5</td>\n",
       "      <td>2.6</td>\n",
       "      <td>4.4</td>\n",
       "      <td>1.2</td>\n",
       "      <td>versicolor</td>\n",
       "    </tr>\n",
       "    <tr>\n",
       "      <th>91</th>\n",
       "      <td>6.1</td>\n",
       "      <td>3.0</td>\n",
       "      <td>4.6</td>\n",
       "      <td>1.4</td>\n",
       "      <td>versicolor</td>\n",
       "    </tr>\n",
       "    <tr>\n",
       "      <th>92</th>\n",
       "      <td>5.8</td>\n",
       "      <td>2.6</td>\n",
       "      <td>4.0</td>\n",
       "      <td>1.2</td>\n",
       "      <td>versicolor</td>\n",
       "    </tr>\n",
       "    <tr>\n",
       "      <th>93</th>\n",
       "      <td>5.0</td>\n",
       "      <td>2.3</td>\n",
       "      <td>3.3</td>\n",
       "      <td>1.0</td>\n",
       "      <td>versicolor</td>\n",
       "    </tr>\n",
       "    <tr>\n",
       "      <th>94</th>\n",
       "      <td>5.6</td>\n",
       "      <td>2.7</td>\n",
       "      <td>4.2</td>\n",
       "      <td>1.3</td>\n",
       "      <td>versicolor</td>\n",
       "    </tr>\n",
       "    <tr>\n",
       "      <th>95</th>\n",
       "      <td>5.7</td>\n",
       "      <td>3.0</td>\n",
       "      <td>4.2</td>\n",
       "      <td>1.2</td>\n",
       "      <td>versicolor</td>\n",
       "    </tr>\n",
       "    <tr>\n",
       "      <th>96</th>\n",
       "      <td>5.7</td>\n",
       "      <td>2.9</td>\n",
       "      <td>4.2</td>\n",
       "      <td>1.3</td>\n",
       "      <td>versicolor</td>\n",
       "    </tr>\n",
       "    <tr>\n",
       "      <th>97</th>\n",
       "      <td>6.2</td>\n",
       "      <td>2.9</td>\n",
       "      <td>4.3</td>\n",
       "      <td>1.3</td>\n",
       "      <td>versicolor</td>\n",
       "    </tr>\n",
       "    <tr>\n",
       "      <th>98</th>\n",
       "      <td>5.1</td>\n",
       "      <td>2.5</td>\n",
       "      <td>3.0</td>\n",
       "      <td>1.1</td>\n",
       "      <td>versicolor</td>\n",
       "    </tr>\n",
       "    <tr>\n",
       "      <th>99</th>\n",
       "      <td>5.7</td>\n",
       "      <td>2.8</td>\n",
       "      <td>4.1</td>\n",
       "      <td>1.3</td>\n",
       "      <td>versicolor</td>\n",
       "    </tr>\n",
       "    <tr>\n",
       "      <th>100</th>\n",
       "      <td>6.3</td>\n",
       "      <td>3.3</td>\n",
       "      <td>6.0</td>\n",
       "      <td>2.5</td>\n",
       "      <td>virginica</td>\n",
       "    </tr>\n",
       "    <tr>\n",
       "      <th>101</th>\n",
       "      <td>5.8</td>\n",
       "      <td>2.7</td>\n",
       "      <td>5.1</td>\n",
       "      <td>1.9</td>\n",
       "      <td>virginica</td>\n",
       "    </tr>\n",
       "    <tr>\n",
       "      <th>102</th>\n",
       "      <td>7.1</td>\n",
       "      <td>3.0</td>\n",
       "      <td>5.9</td>\n",
       "      <td>2.1</td>\n",
       "      <td>virginica</td>\n",
       "    </tr>\n",
       "    <tr>\n",
       "      <th>103</th>\n",
       "      <td>6.3</td>\n",
       "      <td>2.9</td>\n",
       "      <td>5.6</td>\n",
       "      <td>1.8</td>\n",
       "      <td>virginica</td>\n",
       "    </tr>\n",
       "    <tr>\n",
       "      <th>104</th>\n",
       "      <td>6.5</td>\n",
       "      <td>3.0</td>\n",
       "      <td>5.8</td>\n",
       "      <td>2.2</td>\n",
       "      <td>virginica</td>\n",
       "    </tr>\n",
       "    <tr>\n",
       "      <th>105</th>\n",
       "      <td>7.6</td>\n",
       "      <td>3.0</td>\n",
       "      <td>6.6</td>\n",
       "      <td>2.1</td>\n",
       "      <td>virginica</td>\n",
       "    </tr>\n",
       "    <tr>\n",
       "      <th>106</th>\n",
       "      <td>4.9</td>\n",
       "      <td>2.5</td>\n",
       "      <td>4.5</td>\n",
       "      <td>1.7</td>\n",
       "      <td>virginica</td>\n",
       "    </tr>\n",
       "    <tr>\n",
       "      <th>107</th>\n",
       "      <td>7.3</td>\n",
       "      <td>2.9</td>\n",
       "      <td>6.3</td>\n",
       "      <td>1.8</td>\n",
       "      <td>virginica</td>\n",
       "    </tr>\n",
       "    <tr>\n",
       "      <th>108</th>\n",
       "      <td>6.7</td>\n",
       "      <td>2.5</td>\n",
       "      <td>5.8</td>\n",
       "      <td>1.8</td>\n",
       "      <td>virginica</td>\n",
       "    </tr>\n",
       "    <tr>\n",
       "      <th>109</th>\n",
       "      <td>7.2</td>\n",
       "      <td>3.6</td>\n",
       "      <td>6.1</td>\n",
       "      <td>2.5</td>\n",
       "      <td>virginica</td>\n",
       "    </tr>\n",
       "    <tr>\n",
       "      <th>110</th>\n",
       "      <td>6.5</td>\n",
       "      <td>3.2</td>\n",
       "      <td>5.1</td>\n",
       "      <td>2.0</td>\n",
       "      <td>virginica</td>\n",
       "    </tr>\n",
       "    <tr>\n",
       "      <th>111</th>\n",
       "      <td>6.4</td>\n",
       "      <td>2.7</td>\n",
       "      <td>5.3</td>\n",
       "      <td>1.9</td>\n",
       "      <td>virginica</td>\n",
       "    </tr>\n",
       "    <tr>\n",
       "      <th>112</th>\n",
       "      <td>6.8</td>\n",
       "      <td>3.0</td>\n",
       "      <td>5.5</td>\n",
       "      <td>2.1</td>\n",
       "      <td>virginica</td>\n",
       "    </tr>\n",
       "    <tr>\n",
       "      <th>113</th>\n",
       "      <td>5.7</td>\n",
       "      <td>2.5</td>\n",
       "      <td>5.0</td>\n",
       "      <td>2.0</td>\n",
       "      <td>virginica</td>\n",
       "    </tr>\n",
       "    <tr>\n",
       "      <th>114</th>\n",
       "      <td>5.8</td>\n",
       "      <td>2.8</td>\n",
       "      <td>5.1</td>\n",
       "      <td>2.4</td>\n",
       "      <td>virginica</td>\n",
       "    </tr>\n",
       "    <tr>\n",
       "      <th>115</th>\n",
       "      <td>6.4</td>\n",
       "      <td>3.2</td>\n",
       "      <td>5.3</td>\n",
       "      <td>2.3</td>\n",
       "      <td>virginica</td>\n",
       "    </tr>\n",
       "    <tr>\n",
       "      <th>116</th>\n",
       "      <td>6.5</td>\n",
       "      <td>3.0</td>\n",
       "      <td>5.5</td>\n",
       "      <td>1.8</td>\n",
       "      <td>virginica</td>\n",
       "    </tr>\n",
       "    <tr>\n",
       "      <th>117</th>\n",
       "      <td>7.7</td>\n",
       "      <td>3.8</td>\n",
       "      <td>6.7</td>\n",
       "      <td>2.2</td>\n",
       "      <td>virginica</td>\n",
       "    </tr>\n",
       "    <tr>\n",
       "      <th>118</th>\n",
       "      <td>7.7</td>\n",
       "      <td>2.6</td>\n",
       "      <td>6.9</td>\n",
       "      <td>2.3</td>\n",
       "      <td>virginica</td>\n",
       "    </tr>\n",
       "    <tr>\n",
       "      <th>119</th>\n",
       "      <td>6.0</td>\n",
       "      <td>2.2</td>\n",
       "      <td>5.0</td>\n",
       "      <td>1.5</td>\n",
       "      <td>virginica</td>\n",
       "    </tr>\n",
       "    <tr>\n",
       "      <th>120</th>\n",
       "      <td>6.9</td>\n",
       "      <td>3.2</td>\n",
       "      <td>5.7</td>\n",
       "      <td>2.3</td>\n",
       "      <td>virginica</td>\n",
       "    </tr>\n",
       "    <tr>\n",
       "      <th>121</th>\n",
       "      <td>5.6</td>\n",
       "      <td>2.8</td>\n",
       "      <td>4.9</td>\n",
       "      <td>2.0</td>\n",
       "      <td>virginica</td>\n",
       "    </tr>\n",
       "    <tr>\n",
       "      <th>122</th>\n",
       "      <td>7.7</td>\n",
       "      <td>2.8</td>\n",
       "      <td>6.7</td>\n",
       "      <td>2.0</td>\n",
       "      <td>virginica</td>\n",
       "    </tr>\n",
       "    <tr>\n",
       "      <th>123</th>\n",
       "      <td>6.3</td>\n",
       "      <td>2.7</td>\n",
       "      <td>4.9</td>\n",
       "      <td>1.8</td>\n",
       "      <td>virginica</td>\n",
       "    </tr>\n",
       "    <tr>\n",
       "      <th>124</th>\n",
       "      <td>6.7</td>\n",
       "      <td>3.3</td>\n",
       "      <td>5.7</td>\n",
       "      <td>2.1</td>\n",
       "      <td>virginica</td>\n",
       "    </tr>\n",
       "    <tr>\n",
       "      <th>125</th>\n",
       "      <td>7.2</td>\n",
       "      <td>3.2</td>\n",
       "      <td>6.0</td>\n",
       "      <td>1.8</td>\n",
       "      <td>virginica</td>\n",
       "    </tr>\n",
       "    <tr>\n",
       "      <th>126</th>\n",
       "      <td>6.2</td>\n",
       "      <td>2.8</td>\n",
       "      <td>4.8</td>\n",
       "      <td>1.8</td>\n",
       "      <td>virginica</td>\n",
       "    </tr>\n",
       "    <tr>\n",
       "      <th>127</th>\n",
       "      <td>6.1</td>\n",
       "      <td>3.0</td>\n",
       "      <td>4.9</td>\n",
       "      <td>1.8</td>\n",
       "      <td>virginica</td>\n",
       "    </tr>\n",
       "    <tr>\n",
       "      <th>128</th>\n",
       "      <td>6.4</td>\n",
       "      <td>2.8</td>\n",
       "      <td>5.6</td>\n",
       "      <td>2.1</td>\n",
       "      <td>virginica</td>\n",
       "    </tr>\n",
       "    <tr>\n",
       "      <th>129</th>\n",
       "      <td>7.2</td>\n",
       "      <td>3.0</td>\n",
       "      <td>5.8</td>\n",
       "      <td>1.6</td>\n",
       "      <td>virginica</td>\n",
       "    </tr>\n",
       "    <tr>\n",
       "      <th>130</th>\n",
       "      <td>7.4</td>\n",
       "      <td>2.8</td>\n",
       "      <td>6.1</td>\n",
       "      <td>1.9</td>\n",
       "      <td>virginica</td>\n",
       "    </tr>\n",
       "    <tr>\n",
       "      <th>131</th>\n",
       "      <td>7.9</td>\n",
       "      <td>3.8</td>\n",
       "      <td>6.4</td>\n",
       "      <td>2.0</td>\n",
       "      <td>virginica</td>\n",
       "    </tr>\n",
       "    <tr>\n",
       "      <th>132</th>\n",
       "      <td>6.4</td>\n",
       "      <td>2.8</td>\n",
       "      <td>5.6</td>\n",
       "      <td>2.2</td>\n",
       "      <td>virginica</td>\n",
       "    </tr>\n",
       "    <tr>\n",
       "      <th>133</th>\n",
       "      <td>6.3</td>\n",
       "      <td>2.8</td>\n",
       "      <td>5.1</td>\n",
       "      <td>1.5</td>\n",
       "      <td>virginica</td>\n",
       "    </tr>\n",
       "    <tr>\n",
       "      <th>134</th>\n",
       "      <td>6.1</td>\n",
       "      <td>2.6</td>\n",
       "      <td>5.6</td>\n",
       "      <td>1.4</td>\n",
       "      <td>virginica</td>\n",
       "    </tr>\n",
       "    <tr>\n",
       "      <th>135</th>\n",
       "      <td>7.7</td>\n",
       "      <td>3.0</td>\n",
       "      <td>6.1</td>\n",
       "      <td>2.3</td>\n",
       "      <td>virginica</td>\n",
       "    </tr>\n",
       "    <tr>\n",
       "      <th>136</th>\n",
       "      <td>6.3</td>\n",
       "      <td>3.4</td>\n",
       "      <td>5.6</td>\n",
       "      <td>2.4</td>\n",
       "      <td>virginica</td>\n",
       "    </tr>\n",
       "    <tr>\n",
       "      <th>137</th>\n",
       "      <td>6.4</td>\n",
       "      <td>3.1</td>\n",
       "      <td>5.5</td>\n",
       "      <td>1.8</td>\n",
       "      <td>virginica</td>\n",
       "    </tr>\n",
       "    <tr>\n",
       "      <th>138</th>\n",
       "      <td>6.0</td>\n",
       "      <td>3.0</td>\n",
       "      <td>4.8</td>\n",
       "      <td>1.8</td>\n",
       "      <td>virginica</td>\n",
       "    </tr>\n",
       "    <tr>\n",
       "      <th>139</th>\n",
       "      <td>6.9</td>\n",
       "      <td>3.1</td>\n",
       "      <td>5.4</td>\n",
       "      <td>2.1</td>\n",
       "      <td>virginica</td>\n",
       "    </tr>\n",
       "    <tr>\n",
       "      <th>140</th>\n",
       "      <td>6.7</td>\n",
       "      <td>3.1</td>\n",
       "      <td>5.6</td>\n",
       "      <td>2.4</td>\n",
       "      <td>virginica</td>\n",
       "    </tr>\n",
       "    <tr>\n",
       "      <th>141</th>\n",
       "      <td>6.9</td>\n",
       "      <td>3.1</td>\n",
       "      <td>5.1</td>\n",
       "      <td>2.3</td>\n",
       "      <td>virginica</td>\n",
       "    </tr>\n",
       "    <tr>\n",
       "      <th>142</th>\n",
       "      <td>5.8</td>\n",
       "      <td>2.7</td>\n",
       "      <td>5.1</td>\n",
       "      <td>1.9</td>\n",
       "      <td>virginica</td>\n",
       "    </tr>\n",
       "    <tr>\n",
       "      <th>143</th>\n",
       "      <td>6.8</td>\n",
       "      <td>3.2</td>\n",
       "      <td>5.9</td>\n",
       "      <td>2.3</td>\n",
       "      <td>virginica</td>\n",
       "    </tr>\n",
       "    <tr>\n",
       "      <th>144</th>\n",
       "      <td>6.7</td>\n",
       "      <td>3.3</td>\n",
       "      <td>5.7</td>\n",
       "      <td>2.5</td>\n",
       "      <td>virginica</td>\n",
       "    </tr>\n",
       "    <tr>\n",
       "      <th>145</th>\n",
       "      <td>6.7</td>\n",
       "      <td>3.0</td>\n",
       "      <td>5.2</td>\n",
       "      <td>2.3</td>\n",
       "      <td>virginica</td>\n",
       "    </tr>\n",
       "    <tr>\n",
       "      <th>146</th>\n",
       "      <td>6.3</td>\n",
       "      <td>2.5</td>\n",
       "      <td>5.0</td>\n",
       "      <td>1.9</td>\n",
       "      <td>virginica</td>\n",
       "    </tr>\n",
       "    <tr>\n",
       "      <th>147</th>\n",
       "      <td>6.5</td>\n",
       "      <td>3.0</td>\n",
       "      <td>5.2</td>\n",
       "      <td>2.0</td>\n",
       "      <td>virginica</td>\n",
       "    </tr>\n",
       "    <tr>\n",
       "      <th>148</th>\n",
       "      <td>6.2</td>\n",
       "      <td>3.4</td>\n",
       "      <td>5.4</td>\n",
       "      <td>2.3</td>\n",
       "      <td>virginica</td>\n",
       "    </tr>\n",
       "    <tr>\n",
       "      <th>149</th>\n",
       "      <td>5.9</td>\n",
       "      <td>3.0</td>\n",
       "      <td>5.1</td>\n",
       "      <td>1.8</td>\n",
       "      <td>virginica</td>\n",
       "    </tr>\n",
       "  </tbody>\n",
       "</table>\n",
       "</div>"
      ],
      "text/plain": [
       "     sepal_length  sepal_width  petal_length  petal_width     species\n",
       "0             5.1          3.5           1.4          0.2      setosa\n",
       "1             4.9          3.0           1.4          0.2      setosa\n",
       "2             4.7          3.2           1.3          0.2      setosa\n",
       "3             4.6          3.1           1.5          0.2      setosa\n",
       "4             5.0          3.6           1.4          0.2      setosa\n",
       "5             5.4          3.9           1.7          0.4      setosa\n",
       "6             4.6          3.4           1.4          0.3      setosa\n",
       "7             5.0          3.4           1.5          0.2      setosa\n",
       "8             4.4          2.9           1.4          0.2      setosa\n",
       "9             4.9          3.1           1.5          0.1      setosa\n",
       "10            5.4          3.7           1.5          0.2      setosa\n",
       "11            4.8          3.4           1.6          0.2      setosa\n",
       "12            4.8          3.0           1.4          0.1      setosa\n",
       "13            4.3          3.0           1.1          0.1      setosa\n",
       "14            5.8          4.0           1.2          0.2      setosa\n",
       "15            5.7          4.4           1.5          0.4      setosa\n",
       "16            5.4          3.9           1.3          0.4      setosa\n",
       "17            5.1          3.5           1.4          0.3      setosa\n",
       "18            5.7          3.8           1.7          0.3      setosa\n",
       "19            5.1          3.8           1.5          0.3      setosa\n",
       "20            5.4          3.4           1.7          0.2      setosa\n",
       "21            5.1          3.7           1.5          0.4      setosa\n",
       "22            4.6          3.6           1.0          0.2      setosa\n",
       "23            5.1          3.3           1.7          0.5      setosa\n",
       "24            4.8          3.4           1.9          0.2      setosa\n",
       "25            5.0          3.0           1.6          0.2      setosa\n",
       "26            5.0          3.4           1.6          0.4      setosa\n",
       "27            5.2          3.5           1.5          0.2      setosa\n",
       "28            5.2          3.4           1.4          0.2      setosa\n",
       "29            4.7          3.2           1.6          0.2      setosa\n",
       "30            4.8          3.1           1.6          0.2      setosa\n",
       "31            5.4          3.4           1.5          0.4      setosa\n",
       "32            5.2          4.1           1.5          0.1      setosa\n",
       "33            5.5          4.2           1.4          0.2      setosa\n",
       "34            4.9          3.1           1.5          0.2      setosa\n",
       "35            5.0          3.2           1.2          0.2      setosa\n",
       "36            5.5          3.5           1.3          0.2      setosa\n",
       "37            4.9          3.6           1.4          0.1      setosa\n",
       "38            4.4          3.0           1.3          0.2      setosa\n",
       "39            5.1          3.4           1.5          0.2      setosa\n",
       "40            5.0          3.5           1.3          0.3      setosa\n",
       "41            4.5          2.3           1.3          0.3      setosa\n",
       "42            4.4          3.2           1.3          0.2      setosa\n",
       "43            5.0          3.5           1.6          0.6      setosa\n",
       "44            5.1          3.8           1.9          0.4      setosa\n",
       "45            4.8          3.0           1.4          0.3      setosa\n",
       "46            5.1          3.8           1.6          0.2      setosa\n",
       "47            4.6          3.2           1.4          0.2      setosa\n",
       "48            5.3          3.7           1.5          0.2      setosa\n",
       "49            5.0          3.3           1.4          0.2      setosa\n",
       "50            7.0          3.2           4.7          1.4  versicolor\n",
       "51            6.4          3.2           4.5          1.5  versicolor\n",
       "52            6.9          3.1           4.9          1.5  versicolor\n",
       "53            5.5          2.3           4.0          1.3  versicolor\n",
       "54            6.5          2.8           4.6          1.5  versicolor\n",
       "55            5.7          2.8           4.5          1.3  versicolor\n",
       "56            6.3          3.3           4.7          1.6  versicolor\n",
       "57            4.9          2.4           3.3          1.0  versicolor\n",
       "58            6.6          2.9           4.6          1.3  versicolor\n",
       "59            5.2          2.7           3.9          1.4  versicolor\n",
       "60            5.0          2.0           3.5          1.0  versicolor\n",
       "61            5.9          3.0           4.2          1.5  versicolor\n",
       "62            6.0          2.2           4.0          1.0  versicolor\n",
       "63            6.1          2.9           4.7          1.4  versicolor\n",
       "64            5.6          2.9           3.6          1.3  versicolor\n",
       "65            6.7          3.1           4.4          1.4  versicolor\n",
       "66            5.6          3.0           4.5          1.5  versicolor\n",
       "67            5.8          2.7           4.1          1.0  versicolor\n",
       "68            6.2          2.2           4.5          1.5  versicolor\n",
       "69            5.6          2.5           3.9          1.1  versicolor\n",
       "70            5.9          3.2           4.8          1.8  versicolor\n",
       "71            6.1          2.8           4.0          1.3  versicolor\n",
       "72            6.3          2.5           4.9          1.5  versicolor\n",
       "73            6.1          2.8           4.7          1.2  versicolor\n",
       "74            6.4          2.9           4.3          1.3  versicolor\n",
       "75            6.6          3.0           4.4          1.4  versicolor\n",
       "76            6.8          2.8           4.8          1.4  versicolor\n",
       "77            6.7          3.0           5.0          1.7  versicolor\n",
       "78            6.0          2.9           4.5          1.5  versicolor\n",
       "79            5.7          2.6           3.5          1.0  versicolor\n",
       "80            5.5          2.4           3.8          1.1  versicolor\n",
       "81            5.5          2.4           3.7          1.0  versicolor\n",
       "82            5.8          2.7           3.9          1.2  versicolor\n",
       "83            6.0          2.7           5.1          1.6  versicolor\n",
       "84            5.4          3.0           4.5          1.5  versicolor\n",
       "85            6.0          3.4           4.5          1.6  versicolor\n",
       "86            6.7          3.1           4.7          1.5  versicolor\n",
       "87            6.3          2.3           4.4          1.3  versicolor\n",
       "88            5.6          3.0           4.1          1.3  versicolor\n",
       "89            5.5          2.5           4.0          1.3  versicolor\n",
       "90            5.5          2.6           4.4          1.2  versicolor\n",
       "91            6.1          3.0           4.6          1.4  versicolor\n",
       "92            5.8          2.6           4.0          1.2  versicolor\n",
       "93            5.0          2.3           3.3          1.0  versicolor\n",
       "94            5.6          2.7           4.2          1.3  versicolor\n",
       "95            5.7          3.0           4.2          1.2  versicolor\n",
       "96            5.7          2.9           4.2          1.3  versicolor\n",
       "97            6.2          2.9           4.3          1.3  versicolor\n",
       "98            5.1          2.5           3.0          1.1  versicolor\n",
       "99            5.7          2.8           4.1          1.3  versicolor\n",
       "100           6.3          3.3           6.0          2.5   virginica\n",
       "101           5.8          2.7           5.1          1.9   virginica\n",
       "102           7.1          3.0           5.9          2.1   virginica\n",
       "103           6.3          2.9           5.6          1.8   virginica\n",
       "104           6.5          3.0           5.8          2.2   virginica\n",
       "105           7.6          3.0           6.6          2.1   virginica\n",
       "106           4.9          2.5           4.5          1.7   virginica\n",
       "107           7.3          2.9           6.3          1.8   virginica\n",
       "108           6.7          2.5           5.8          1.8   virginica\n",
       "109           7.2          3.6           6.1          2.5   virginica\n",
       "110           6.5          3.2           5.1          2.0   virginica\n",
       "111           6.4          2.7           5.3          1.9   virginica\n",
       "112           6.8          3.0           5.5          2.1   virginica\n",
       "113           5.7          2.5           5.0          2.0   virginica\n",
       "114           5.8          2.8           5.1          2.4   virginica\n",
       "115           6.4          3.2           5.3          2.3   virginica\n",
       "116           6.5          3.0           5.5          1.8   virginica\n",
       "117           7.7          3.8           6.7          2.2   virginica\n",
       "118           7.7          2.6           6.9          2.3   virginica\n",
       "119           6.0          2.2           5.0          1.5   virginica\n",
       "120           6.9          3.2           5.7          2.3   virginica\n",
       "121           5.6          2.8           4.9          2.0   virginica\n",
       "122           7.7          2.8           6.7          2.0   virginica\n",
       "123           6.3          2.7           4.9          1.8   virginica\n",
       "124           6.7          3.3           5.7          2.1   virginica\n",
       "125           7.2          3.2           6.0          1.8   virginica\n",
       "126           6.2          2.8           4.8          1.8   virginica\n",
       "127           6.1          3.0           4.9          1.8   virginica\n",
       "128           6.4          2.8           5.6          2.1   virginica\n",
       "129           7.2          3.0           5.8          1.6   virginica\n",
       "130           7.4          2.8           6.1          1.9   virginica\n",
       "131           7.9          3.8           6.4          2.0   virginica\n",
       "132           6.4          2.8           5.6          2.2   virginica\n",
       "133           6.3          2.8           5.1          1.5   virginica\n",
       "134           6.1          2.6           5.6          1.4   virginica\n",
       "135           7.7          3.0           6.1          2.3   virginica\n",
       "136           6.3          3.4           5.6          2.4   virginica\n",
       "137           6.4          3.1           5.5          1.8   virginica\n",
       "138           6.0          3.0           4.8          1.8   virginica\n",
       "139           6.9          3.1           5.4          2.1   virginica\n",
       "140           6.7          3.1           5.6          2.4   virginica\n",
       "141           6.9          3.1           5.1          2.3   virginica\n",
       "142           5.8          2.7           5.1          1.9   virginica\n",
       "143           6.8          3.2           5.9          2.3   virginica\n",
       "144           6.7          3.3           5.7          2.5   virginica\n",
       "145           6.7          3.0           5.2          2.3   virginica\n",
       "146           6.3          2.5           5.0          1.9   virginica\n",
       "147           6.5          3.0           5.2          2.0   virginica\n",
       "148           6.2          3.4           5.4          2.3   virginica\n",
       "149           5.9          3.0           5.1          1.8   virginica"
      ]
     },
     "execution_count": 216,
     "metadata": {},
     "output_type": "execute_result"
    }
   ],
   "source": [
    "# 9. sepal_length가 7.2이상인 데이터의 'sepal_length'와 'sepal_width', 'petal_length'\n",
    "print(df.loc[df['sepal_length'] >= 7.2, ['sepal_length', 'sepal_width', 'petal_length']])\n",
    "print(df.loc[df['sepal_length'] >= 7.2, 'sepal_length':'petal_length']) # 추천"
   ]
  },
  {
   "cell_type": "code",
   "execution_count": 218,
   "id": "f0b44c8e",
   "metadata": {
    "ExecuteTime": {
     "end_time": "2024-11-26T03:52:34.430991Z",
     "start_time": "2024-11-26T03:52:34.426005Z"
    }
   },
   "outputs": [],
   "source": [
    "import numpy as np"
   ]
  },
  {
   "cell_type": "code",
   "execution_count": 222,
   "id": "65404539",
   "metadata": {
    "ExecuteTime": {
     "end_time": "2024-11-26T03:55:38.394239Z",
     "start_time": "2024-11-26T03:55:38.376932Z"
    }
   },
   "outputs": [
    {
     "name": "stdout",
     "output_type": "stream",
     "text": [
      "    sepal_length  sepal_width  petal_length  petal_width     species\n",
      "50           7.0          3.2           4.7          1.4  versicolor\n",
      "52           6.9          3.1           4.9          1.5  versicolor\n",
      "54           6.5          2.8           4.6          1.5  versicolor\n",
      "58           6.6          2.9           4.6          1.3  versicolor\n",
      "65           6.7          3.1           4.4          1.4  versicolor\n",
      "75           6.6          3.0           4.4          1.4  versicolor\n",
      "76           6.8          2.8           4.8          1.4  versicolor\n",
      "77           6.7          3.0           5.0          1.7  versicolor\n",
      "86           6.7          3.1           4.7          1.5  versicolor\n"
     ]
    },
    {
     "data": {
      "text/html": [
       "<div>\n",
       "<style scoped>\n",
       "    .dataframe tbody tr th:only-of-type {\n",
       "        vertical-align: middle;\n",
       "    }\n",
       "\n",
       "    .dataframe tbody tr th {\n",
       "        vertical-align: top;\n",
       "    }\n",
       "\n",
       "    .dataframe thead th {\n",
       "        text-align: right;\n",
       "    }\n",
       "</style>\n",
       "<table border=\"1\" class=\"dataframe\">\n",
       "  <thead>\n",
       "    <tr style=\"text-align: right;\">\n",
       "      <th></th>\n",
       "      <th>sepal_length</th>\n",
       "      <th>sepal_width</th>\n",
       "      <th>petal_length</th>\n",
       "      <th>petal_width</th>\n",
       "      <th>species</th>\n",
       "    </tr>\n",
       "  </thead>\n",
       "  <tbody>\n",
       "    <tr>\n",
       "      <th>50</th>\n",
       "      <td>7.0</td>\n",
       "      <td>3.2</td>\n",
       "      <td>4.7</td>\n",
       "      <td>1.4</td>\n",
       "      <td>versicolor</td>\n",
       "    </tr>\n",
       "    <tr>\n",
       "      <th>52</th>\n",
       "      <td>6.9</td>\n",
       "      <td>3.1</td>\n",
       "      <td>4.9</td>\n",
       "      <td>1.5</td>\n",
       "      <td>versicolor</td>\n",
       "    </tr>\n",
       "    <tr>\n",
       "      <th>58</th>\n",
       "      <td>6.6</td>\n",
       "      <td>2.9</td>\n",
       "      <td>4.6</td>\n",
       "      <td>1.3</td>\n",
       "      <td>versicolor</td>\n",
       "    </tr>\n",
       "    <tr>\n",
       "      <th>65</th>\n",
       "      <td>6.7</td>\n",
       "      <td>3.1</td>\n",
       "      <td>4.4</td>\n",
       "      <td>1.4</td>\n",
       "      <td>versicolor</td>\n",
       "    </tr>\n",
       "    <tr>\n",
       "      <th>75</th>\n",
       "      <td>6.6</td>\n",
       "      <td>3.0</td>\n",
       "      <td>4.4</td>\n",
       "      <td>1.4</td>\n",
       "      <td>versicolor</td>\n",
       "    </tr>\n",
       "    <tr>\n",
       "      <th>76</th>\n",
       "      <td>6.8</td>\n",
       "      <td>2.8</td>\n",
       "      <td>4.8</td>\n",
       "      <td>1.4</td>\n",
       "      <td>versicolor</td>\n",
       "    </tr>\n",
       "    <tr>\n",
       "      <th>77</th>\n",
       "      <td>6.7</td>\n",
       "      <td>3.0</td>\n",
       "      <td>5.0</td>\n",
       "      <td>1.7</td>\n",
       "      <td>versicolor</td>\n",
       "    </tr>\n",
       "    <tr>\n",
       "      <th>86</th>\n",
       "      <td>6.7</td>\n",
       "      <td>3.1</td>\n",
       "      <td>4.7</td>\n",
       "      <td>1.5</td>\n",
       "      <td>versicolor</td>\n",
       "    </tr>\n",
       "  </tbody>\n",
       "</table>\n",
       "</div>"
      ],
      "text/plain": [
       "    sepal_length  sepal_width  petal_length  petal_width     species\n",
       "50           7.0          3.2           4.7          1.4  versicolor\n",
       "52           6.9          3.1           4.9          1.5  versicolor\n",
       "58           6.6          2.9           4.6          1.3  versicolor\n",
       "65           6.7          3.1           4.4          1.4  versicolor\n",
       "75           6.6          3.0           4.4          1.4  versicolor\n",
       "76           6.8          2.8           4.8          1.4  versicolor\n",
       "77           6.7          3.0           5.0          1.7  versicolor\n",
       "86           6.7          3.1           4.7          1.5  versicolor"
      ]
     },
     "execution_count": 222,
     "metadata": {},
     "output_type": "execute_result"
    }
   ],
   "source": [
    "# 10. versicolor종 중에서 sepal_length가 6.5보다 큰 데이터의 모든 열\n",
    "print(df[(df['species'] == 'versicolor') & (df['sepal_length'] >= 6.5)])\n",
    "iris[np.logical_and(df['species'] == 'versicolor',\n",
    "                    df['sepal_length'] > 6.5)]"
   ]
  },
  {
   "cell_type": "markdown",
   "id": "47801a06",
   "metadata": {},
   "source": [
    "# 5절. 데이터 추가 및 삭제\n",
    "## 5.1 데이터 프레임의 요소 삭제\n",
    "- df.drop(label, axis): axis=0일 때는 행삭제, axis=1일 때는 열삭제\n",
    "    * label: 행이름 또는 열이름"
   ]
  },
  {
   "cell_type": "code",
   "execution_count": 237,
   "id": "6d6b4001",
   "metadata": {
    "ExecuteTime": {
     "end_time": "2024-11-26T04:11:14.406059Z",
     "start_time": "2024-11-26T04:11:14.393229Z"
    }
   },
   "outputs": [
    {
     "data": {
      "text/html": [
       "<div>\n",
       "<style scoped>\n",
       "    .dataframe tbody tr th:only-of-type {\n",
       "        vertical-align: middle;\n",
       "    }\n",
       "\n",
       "    .dataframe tbody tr th {\n",
       "        vertical-align: top;\n",
       "    }\n",
       "\n",
       "    .dataframe thead th {\n",
       "        text-align: right;\n",
       "    }\n",
       "</style>\n",
       "<table border=\"1\" class=\"dataframe\">\n",
       "  <thead>\n",
       "    <tr style=\"text-align: right;\">\n",
       "      <th></th>\n",
       "      <th>Name</th>\n",
       "      <th>Age</th>\n",
       "      <th>Email</th>\n",
       "      <th>Address</th>\n",
       "      <th>Birth</th>\n",
       "    </tr>\n",
       "  </thead>\n",
       "  <tbody>\n",
       "    <tr>\n",
       "      <th>0</th>\n",
       "      <td>홍길동</td>\n",
       "      <td>20</td>\n",
       "      <td>hong@hong.com</td>\n",
       "      <td>서울시 강동구</td>\n",
       "      <td>1999-01-01</td>\n",
       "    </tr>\n",
       "    <tr>\n",
       "      <th>1</th>\n",
       "      <td>홍길서</td>\n",
       "      <td>30</td>\n",
       "      <td>seo@hong.com</td>\n",
       "      <td>서울시 중구</td>\n",
       "      <td>1999-12-01</td>\n",
       "    </tr>\n",
       "    <tr>\n",
       "      <th>2</th>\n",
       "      <td>홍길남</td>\n",
       "      <td>21</td>\n",
       "      <td>nam@hong.com</td>\n",
       "      <td>서울시 강동구</td>\n",
       "      <td>1999-11-01</td>\n",
       "    </tr>\n",
       "    <tr>\n",
       "      <th>3</th>\n",
       "      <td>홍길북</td>\n",
       "      <td>22</td>\n",
       "      <td>buk@hong.com</td>\n",
       "      <td>서울시 관악구</td>\n",
       "      <td>1999-05-01</td>\n",
       "    </tr>\n",
       "    <tr>\n",
       "      <th>4</th>\n",
       "      <td>홍길중</td>\n",
       "      <td>23</td>\n",
       "      <td>mid@hong.com</td>\n",
       "      <td>부산시 중구</td>\n",
       "      <td>1999-01-30</td>\n",
       "    </tr>\n",
       "  </tbody>\n",
       "</table>\n",
       "</div>"
      ],
      "text/plain": [
       "  Name  Age          Email  Address       Birth\n",
       "0  홍길동   20  hong@hong.com  서울시 강동구  1999-01-01\n",
       "1  홍길서   30   seo@hong.com   서울시 중구  1999-12-01\n",
       "2  홍길남   21   nam@hong.com  서울시 강동구  1999-11-01\n",
       "3  홍길북   22   buk@hong.com  서울시 관악구  1999-05-01\n",
       "4  홍길중   23   mid@hong.com   부산시 중구  1999-01-30"
      ]
     },
     "execution_count": 237,
     "metadata": {},
     "output_type": "execute_result"
    }
   ],
   "source": [
    "member = pd.read_csv('data/ch12_member.csv', comment='#')\n",
    "member"
   ]
  },
  {
   "cell_type": "code",
   "execution_count": 230,
   "id": "46de6967",
   "metadata": {
    "ExecuteTime": {
     "end_time": "2024-11-26T04:04:48.387524Z",
     "start_time": "2024-11-26T04:04:48.377551Z"
    }
   },
   "outputs": [
    {
     "data": {
      "text/html": [
       "<div>\n",
       "<style scoped>\n",
       "    .dataframe tbody tr th:only-of-type {\n",
       "        vertical-align: middle;\n",
       "    }\n",
       "\n",
       "    .dataframe tbody tr th {\n",
       "        vertical-align: top;\n",
       "    }\n",
       "\n",
       "    .dataframe thead th {\n",
       "        text-align: right;\n",
       "    }\n",
       "</style>\n",
       "<table border=\"1\" class=\"dataframe\">\n",
       "  <thead>\n",
       "    <tr style=\"text-align: right;\">\n",
       "      <th></th>\n",
       "      <th>Name</th>\n",
       "      <th>Age</th>\n",
       "      <th>Email</th>\n",
       "      <th>Address</th>\n",
       "      <th>Birth</th>\n",
       "    </tr>\n",
       "  </thead>\n",
       "  <tbody>\n",
       "    <tr>\n",
       "      <th>동</th>\n",
       "      <td>홍길동</td>\n",
       "      <td>20</td>\n",
       "      <td>hong@hong.com</td>\n",
       "      <td>서울시 강동구</td>\n",
       "      <td>1999-01-01</td>\n",
       "    </tr>\n",
       "    <tr>\n",
       "      <th>서</th>\n",
       "      <td>홍길서</td>\n",
       "      <td>30</td>\n",
       "      <td>seo@hong.com</td>\n",
       "      <td>서울시 중구</td>\n",
       "      <td>1999-12-01</td>\n",
       "    </tr>\n",
       "    <tr>\n",
       "      <th>남</th>\n",
       "      <td>홍길남</td>\n",
       "      <td>21</td>\n",
       "      <td>nam@hong.com</td>\n",
       "      <td>서울시 강동구</td>\n",
       "      <td>1999-11-01</td>\n",
       "    </tr>\n",
       "    <tr>\n",
       "      <th>북</th>\n",
       "      <td>홍길북</td>\n",
       "      <td>22</td>\n",
       "      <td>buk@hong.com</td>\n",
       "      <td>서울시 관악구</td>\n",
       "      <td>1999-05-01</td>\n",
       "    </tr>\n",
       "    <tr>\n",
       "      <th>중</th>\n",
       "      <td>홍길중</td>\n",
       "      <td>23</td>\n",
       "      <td>mid@hong.com</td>\n",
       "      <td>부산시 중구</td>\n",
       "      <td>1999-01-30</td>\n",
       "    </tr>\n",
       "  </tbody>\n",
       "</table>\n",
       "</div>"
      ],
      "text/plain": [
       "  Name  Age          Email  Address       Birth\n",
       "동  홍길동   20  hong@hong.com  서울시 강동구  1999-01-01\n",
       "서  홍길서   30   seo@hong.com   서울시 중구  1999-12-01\n",
       "남  홍길남   21   nam@hong.com  서울시 강동구  1999-11-01\n",
       "북  홍길북   22   buk@hong.com  서울시 관악구  1999-05-01\n",
       "중  홍길중   23   mid@hong.com   부산시 중구  1999-01-30"
      ]
     },
     "execution_count": 230,
     "metadata": {},
     "output_type": "execute_result"
    }
   ],
   "source": [
    "member.index = ['동', '서', '남', '북', '중']\n",
    "member"
   ]
  },
  {
   "cell_type": "code",
   "execution_count": 228,
   "id": "37e36828",
   "metadata": {
    "ExecuteTime": {
     "end_time": "2024-11-26T04:01:41.844361Z",
     "start_time": "2024-11-26T04:01:41.833897Z"
    }
   },
   "outputs": [
    {
     "data": {
      "text/html": [
       "<div>\n",
       "<style scoped>\n",
       "    .dataframe tbody tr th:only-of-type {\n",
       "        vertical-align: middle;\n",
       "    }\n",
       "\n",
       "    .dataframe tbody tr th {\n",
       "        vertical-align: top;\n",
       "    }\n",
       "\n",
       "    .dataframe thead th {\n",
       "        text-align: right;\n",
       "    }\n",
       "</style>\n",
       "<table border=\"1\" class=\"dataframe\">\n",
       "  <thead>\n",
       "    <tr style=\"text-align: right;\">\n",
       "      <th></th>\n",
       "      <th>Name</th>\n",
       "      <th>Age</th>\n",
       "      <th>Email</th>\n",
       "      <th>Address</th>\n",
       "      <th>Birth</th>\n",
       "    </tr>\n",
       "  </thead>\n",
       "  <tbody>\n",
       "    <tr>\n",
       "      <th>동</th>\n",
       "      <td>홍길동</td>\n",
       "      <td>20</td>\n",
       "      <td>NaN</td>\n",
       "      <td>서울시 강동구</td>\n",
       "      <td>1999-01-01</td>\n",
       "    </tr>\n",
       "    <tr>\n",
       "      <th>서</th>\n",
       "      <td>홍길서</td>\n",
       "      <td>30</td>\n",
       "      <td>seo@hong.com</td>\n",
       "      <td>서울시 중구</td>\n",
       "      <td>1999-12-01</td>\n",
       "    </tr>\n",
       "    <tr>\n",
       "      <th>남</th>\n",
       "      <td>홍길남</td>\n",
       "      <td>21</td>\n",
       "      <td>nam@hong.com</td>\n",
       "      <td>서울시 강동구</td>\n",
       "      <td>1999-11-01</td>\n",
       "    </tr>\n",
       "    <tr>\n",
       "      <th>북</th>\n",
       "      <td>홍길북</td>\n",
       "      <td>22</td>\n",
       "      <td>NaN</td>\n",
       "      <td>서울시 관악구</td>\n",
       "      <td>1999-05-01</td>\n",
       "    </tr>\n",
       "    <tr>\n",
       "      <th>중</th>\n",
       "      <td>홍길중</td>\n",
       "      <td>23</td>\n",
       "      <td>mid@hong.com</td>\n",
       "      <td>부산시 중구</td>\n",
       "      <td>1999-01-30</td>\n",
       "    </tr>\n",
       "  </tbody>\n",
       "</table>\n",
       "</div>"
      ],
      "text/plain": [
       "  Name  Age         Email  Address       Birth\n",
       "동  홍길동   20           NaN  서울시 강동구  1999-01-01\n",
       "서  홍길서   30  seo@hong.com   서울시 중구  1999-12-01\n",
       "남  홍길남   21  nam@hong.com  서울시 강동구  1999-11-01\n",
       "북  홍길북   22           NaN  서울시 관악구  1999-05-01\n",
       "중  홍길중   23  mid@hong.com   부산시 중구  1999-01-30"
      ]
     },
     "execution_count": 228,
     "metadata": {},
     "output_type": "execute_result"
    }
   ],
   "source": [
    "# 1) 단일 행 삭제\n",
    "member.drop('동') # axis=0(기본값)이면 행이름을 찾아 삭제한 결과를 반환\n",
    "                  # 삭제한 결과를 member 적용 ⓐ할당 member = member.drop('동')\n",
    "                  #                         ⓑ inplace=True 추가\n",
    "member"
   ]
  },
  {
   "cell_type": "code",
   "execution_count": 231,
   "id": "66cac803",
   "metadata": {
    "ExecuteTime": {
     "end_time": "2024-11-26T04:05:00.294507Z",
     "start_time": "2024-11-26T04:05:00.289539Z"
    }
   },
   "outputs": [],
   "source": [
    "member.drop('동', inplace=True)"
   ]
  },
  {
   "cell_type": "code",
   "execution_count": 232,
   "id": "58794048",
   "metadata": {
    "ExecuteTime": {
     "end_time": "2024-11-26T04:05:02.325365Z",
     "start_time": "2024-11-26T04:05:02.003693Z"
    },
    "collapsed": true
   },
   "outputs": [
    {
     "ename": "KeyError",
     "evalue": "\"['동'] not found in axis\"",
     "output_type": "error",
     "traceback": [
      "\u001b[1;31m---------------------------------------------------------------------------\u001b[0m",
      "\u001b[1;31mKeyError\u001b[0m                                  Traceback (most recent call last)",
      "Cell \u001b[1;32mIn[232], line 1\u001b[0m\n\u001b[1;32m----> 1\u001b[0m \u001b[43mmember\u001b[49m\u001b[38;5;241;43m.\u001b[39;49m\u001b[43mdrop\u001b[49m\u001b[43m(\u001b[49m\u001b[38;5;124;43m'\u001b[39;49m\u001b[38;5;124;43m동\u001b[39;49m\u001b[38;5;124;43m'\u001b[39;49m\u001b[43m)\u001b[49m\n",
      "File \u001b[1;32m~\\anaconda3\\lib\\site-packages\\pandas\\util\\_decorators.py:331\u001b[0m, in \u001b[0;36mdeprecate_nonkeyword_arguments.<locals>.decorate.<locals>.wrapper\u001b[1;34m(*args, **kwargs)\u001b[0m\n\u001b[0;32m    325\u001b[0m \u001b[38;5;28;01mif\u001b[39;00m \u001b[38;5;28mlen\u001b[39m(args) \u001b[38;5;241m>\u001b[39m num_allow_args:\n\u001b[0;32m    326\u001b[0m     warnings\u001b[38;5;241m.\u001b[39mwarn(\n\u001b[0;32m    327\u001b[0m         msg\u001b[38;5;241m.\u001b[39mformat(arguments\u001b[38;5;241m=\u001b[39m_format_argument_list(allow_args)),\n\u001b[0;32m    328\u001b[0m         \u001b[38;5;167;01mFutureWarning\u001b[39;00m,\n\u001b[0;32m    329\u001b[0m         stacklevel\u001b[38;5;241m=\u001b[39mfind_stack_level(),\n\u001b[0;32m    330\u001b[0m     )\n\u001b[1;32m--> 331\u001b[0m \u001b[38;5;28;01mreturn\u001b[39;00m func(\u001b[38;5;241m*\u001b[39margs, \u001b[38;5;241m*\u001b[39m\u001b[38;5;241m*\u001b[39mkwargs)\n",
      "File \u001b[1;32m~\\anaconda3\\lib\\site-packages\\pandas\\core\\frame.py:5399\u001b[0m, in \u001b[0;36mDataFrame.drop\u001b[1;34m(self, labels, axis, index, columns, level, inplace, errors)\u001b[0m\n\u001b[0;32m   5251\u001b[0m \u001b[38;5;129m@deprecate_nonkeyword_arguments\u001b[39m(version\u001b[38;5;241m=\u001b[39m\u001b[38;5;28;01mNone\u001b[39;00m, allowed_args\u001b[38;5;241m=\u001b[39m[\u001b[38;5;124m\"\u001b[39m\u001b[38;5;124mself\u001b[39m\u001b[38;5;124m\"\u001b[39m, \u001b[38;5;124m\"\u001b[39m\u001b[38;5;124mlabels\u001b[39m\u001b[38;5;124m\"\u001b[39m])\n\u001b[0;32m   5252\u001b[0m \u001b[38;5;28;01mdef\u001b[39;00m \u001b[38;5;21mdrop\u001b[39m(  \u001b[38;5;66;03m# type: ignore[override]\u001b[39;00m\n\u001b[0;32m   5253\u001b[0m     \u001b[38;5;28mself\u001b[39m,\n\u001b[1;32m   (...)\u001b[0m\n\u001b[0;32m   5260\u001b[0m     errors: IgnoreRaise \u001b[38;5;241m=\u001b[39m \u001b[38;5;124m\"\u001b[39m\u001b[38;5;124mraise\u001b[39m\u001b[38;5;124m\"\u001b[39m,\n\u001b[0;32m   5261\u001b[0m ) \u001b[38;5;241m-\u001b[39m\u001b[38;5;241m>\u001b[39m DataFrame \u001b[38;5;241m|\u001b[39m \u001b[38;5;28;01mNone\u001b[39;00m:\n\u001b[0;32m   5262\u001b[0m     \u001b[38;5;124;03m\"\"\"\u001b[39;00m\n\u001b[0;32m   5263\u001b[0m \u001b[38;5;124;03m    Drop specified labels from rows or columns.\u001b[39;00m\n\u001b[0;32m   5264\u001b[0m \n\u001b[1;32m   (...)\u001b[0m\n\u001b[0;32m   5397\u001b[0m \u001b[38;5;124;03m            weight  1.0     0.8\u001b[39;00m\n\u001b[0;32m   5398\u001b[0m \u001b[38;5;124;03m    \"\"\"\u001b[39;00m\n\u001b[1;32m-> 5399\u001b[0m     \u001b[38;5;28;01mreturn\u001b[39;00m \u001b[38;5;28;43msuper\u001b[39;49m\u001b[43m(\u001b[49m\u001b[43m)\u001b[49m\u001b[38;5;241;43m.\u001b[39;49m\u001b[43mdrop\u001b[49m\u001b[43m(\u001b[49m\n\u001b[0;32m   5400\u001b[0m \u001b[43m        \u001b[49m\u001b[43mlabels\u001b[49m\u001b[38;5;241;43m=\u001b[39;49m\u001b[43mlabels\u001b[49m\u001b[43m,\u001b[49m\n\u001b[0;32m   5401\u001b[0m \u001b[43m        \u001b[49m\u001b[43maxis\u001b[49m\u001b[38;5;241;43m=\u001b[39;49m\u001b[43maxis\u001b[49m\u001b[43m,\u001b[49m\n\u001b[0;32m   5402\u001b[0m \u001b[43m        \u001b[49m\u001b[43mindex\u001b[49m\u001b[38;5;241;43m=\u001b[39;49m\u001b[43mindex\u001b[49m\u001b[43m,\u001b[49m\n\u001b[0;32m   5403\u001b[0m \u001b[43m        \u001b[49m\u001b[43mcolumns\u001b[49m\u001b[38;5;241;43m=\u001b[39;49m\u001b[43mcolumns\u001b[49m\u001b[43m,\u001b[49m\n\u001b[0;32m   5404\u001b[0m \u001b[43m        \u001b[49m\u001b[43mlevel\u001b[49m\u001b[38;5;241;43m=\u001b[39;49m\u001b[43mlevel\u001b[49m\u001b[43m,\u001b[49m\n\u001b[0;32m   5405\u001b[0m \u001b[43m        \u001b[49m\u001b[43minplace\u001b[49m\u001b[38;5;241;43m=\u001b[39;49m\u001b[43minplace\u001b[49m\u001b[43m,\u001b[49m\n\u001b[0;32m   5406\u001b[0m \u001b[43m        \u001b[49m\u001b[43merrors\u001b[49m\u001b[38;5;241;43m=\u001b[39;49m\u001b[43merrors\u001b[49m\u001b[43m,\u001b[49m\n\u001b[0;32m   5407\u001b[0m \u001b[43m    \u001b[49m\u001b[43m)\u001b[49m\n",
      "File \u001b[1;32m~\\anaconda3\\lib\\site-packages\\pandas\\util\\_decorators.py:331\u001b[0m, in \u001b[0;36mdeprecate_nonkeyword_arguments.<locals>.decorate.<locals>.wrapper\u001b[1;34m(*args, **kwargs)\u001b[0m\n\u001b[0;32m    325\u001b[0m \u001b[38;5;28;01mif\u001b[39;00m \u001b[38;5;28mlen\u001b[39m(args) \u001b[38;5;241m>\u001b[39m num_allow_args:\n\u001b[0;32m    326\u001b[0m     warnings\u001b[38;5;241m.\u001b[39mwarn(\n\u001b[0;32m    327\u001b[0m         msg\u001b[38;5;241m.\u001b[39mformat(arguments\u001b[38;5;241m=\u001b[39m_format_argument_list(allow_args)),\n\u001b[0;32m    328\u001b[0m         \u001b[38;5;167;01mFutureWarning\u001b[39;00m,\n\u001b[0;32m    329\u001b[0m         stacklevel\u001b[38;5;241m=\u001b[39mfind_stack_level(),\n\u001b[0;32m    330\u001b[0m     )\n\u001b[1;32m--> 331\u001b[0m \u001b[38;5;28;01mreturn\u001b[39;00m func(\u001b[38;5;241m*\u001b[39margs, \u001b[38;5;241m*\u001b[39m\u001b[38;5;241m*\u001b[39mkwargs)\n",
      "File \u001b[1;32m~\\anaconda3\\lib\\site-packages\\pandas\\core\\generic.py:4505\u001b[0m, in \u001b[0;36mNDFrame.drop\u001b[1;34m(self, labels, axis, index, columns, level, inplace, errors)\u001b[0m\n\u001b[0;32m   4503\u001b[0m \u001b[38;5;28;01mfor\u001b[39;00m axis, labels \u001b[38;5;129;01min\u001b[39;00m axes\u001b[38;5;241m.\u001b[39mitems():\n\u001b[0;32m   4504\u001b[0m     \u001b[38;5;28;01mif\u001b[39;00m labels \u001b[38;5;129;01mis\u001b[39;00m \u001b[38;5;129;01mnot\u001b[39;00m \u001b[38;5;28;01mNone\u001b[39;00m:\n\u001b[1;32m-> 4505\u001b[0m         obj \u001b[38;5;241m=\u001b[39m \u001b[43mobj\u001b[49m\u001b[38;5;241;43m.\u001b[39;49m\u001b[43m_drop_axis\u001b[49m\u001b[43m(\u001b[49m\u001b[43mlabels\u001b[49m\u001b[43m,\u001b[49m\u001b[43m \u001b[49m\u001b[43maxis\u001b[49m\u001b[43m,\u001b[49m\u001b[43m \u001b[49m\u001b[43mlevel\u001b[49m\u001b[38;5;241;43m=\u001b[39;49m\u001b[43mlevel\u001b[49m\u001b[43m,\u001b[49m\u001b[43m \u001b[49m\u001b[43merrors\u001b[49m\u001b[38;5;241;43m=\u001b[39;49m\u001b[43merrors\u001b[49m\u001b[43m)\u001b[49m\n\u001b[0;32m   4507\u001b[0m \u001b[38;5;28;01mif\u001b[39;00m inplace:\n\u001b[0;32m   4508\u001b[0m     \u001b[38;5;28mself\u001b[39m\u001b[38;5;241m.\u001b[39m_update_inplace(obj)\n",
      "File \u001b[1;32m~\\anaconda3\\lib\\site-packages\\pandas\\core\\generic.py:4546\u001b[0m, in \u001b[0;36mNDFrame._drop_axis\u001b[1;34m(self, labels, axis, level, errors, only_slice)\u001b[0m\n\u001b[0;32m   4544\u001b[0m         new_axis \u001b[38;5;241m=\u001b[39m axis\u001b[38;5;241m.\u001b[39mdrop(labels, level\u001b[38;5;241m=\u001b[39mlevel, errors\u001b[38;5;241m=\u001b[39merrors)\n\u001b[0;32m   4545\u001b[0m     \u001b[38;5;28;01melse\u001b[39;00m:\n\u001b[1;32m-> 4546\u001b[0m         new_axis \u001b[38;5;241m=\u001b[39m \u001b[43maxis\u001b[49m\u001b[38;5;241;43m.\u001b[39;49m\u001b[43mdrop\u001b[49m\u001b[43m(\u001b[49m\u001b[43mlabels\u001b[49m\u001b[43m,\u001b[49m\u001b[43m \u001b[49m\u001b[43merrors\u001b[49m\u001b[38;5;241;43m=\u001b[39;49m\u001b[43merrors\u001b[49m\u001b[43m)\u001b[49m\n\u001b[0;32m   4547\u001b[0m     indexer \u001b[38;5;241m=\u001b[39m axis\u001b[38;5;241m.\u001b[39mget_indexer(new_axis)\n\u001b[0;32m   4549\u001b[0m \u001b[38;5;66;03m# Case for non-unique axis\u001b[39;00m\n\u001b[0;32m   4550\u001b[0m \u001b[38;5;28;01melse\u001b[39;00m:\n",
      "File \u001b[1;32m~\\anaconda3\\lib\\site-packages\\pandas\\core\\indexes\\base.py:6934\u001b[0m, in \u001b[0;36mIndex.drop\u001b[1;34m(self, labels, errors)\u001b[0m\n\u001b[0;32m   6932\u001b[0m \u001b[38;5;28;01mif\u001b[39;00m mask\u001b[38;5;241m.\u001b[39many():\n\u001b[0;32m   6933\u001b[0m     \u001b[38;5;28;01mif\u001b[39;00m errors \u001b[38;5;241m!=\u001b[39m \u001b[38;5;124m\"\u001b[39m\u001b[38;5;124mignore\u001b[39m\u001b[38;5;124m\"\u001b[39m:\n\u001b[1;32m-> 6934\u001b[0m         \u001b[38;5;28;01mraise\u001b[39;00m \u001b[38;5;167;01mKeyError\u001b[39;00m(\u001b[38;5;124mf\u001b[39m\u001b[38;5;124m\"\u001b[39m\u001b[38;5;132;01m{\u001b[39;00m\u001b[38;5;28mlist\u001b[39m(labels[mask])\u001b[38;5;132;01m}\u001b[39;00m\u001b[38;5;124m not found in axis\u001b[39m\u001b[38;5;124m\"\u001b[39m)\n\u001b[0;32m   6935\u001b[0m     indexer \u001b[38;5;241m=\u001b[39m indexer[\u001b[38;5;241m~\u001b[39mmask]\n\u001b[0;32m   6936\u001b[0m \u001b[38;5;28;01mreturn\u001b[39;00m \u001b[38;5;28mself\u001b[39m\u001b[38;5;241m.\u001b[39mdelete(indexer)\n",
      "\u001b[1;31mKeyError\u001b[0m: \"['동'] not found in axis\""
     ]
    }
   ],
   "source": [
    "# member.drop('동') 없는 행 이름을 삭제할 경우 Error"
   ]
  },
  {
   "cell_type": "code",
   "execution_count": 233,
   "id": "5daef62f",
   "metadata": {
    "ExecuteTime": {
     "end_time": "2024-11-26T04:07:32.699392Z",
     "start_time": "2024-11-26T04:07:32.689228Z"
    }
   },
   "outputs": [
    {
     "data": {
      "text/html": [
       "<div>\n",
       "<style scoped>\n",
       "    .dataframe tbody tr th:only-of-type {\n",
       "        vertical-align: middle;\n",
       "    }\n",
       "\n",
       "    .dataframe tbody tr th {\n",
       "        vertical-align: top;\n",
       "    }\n",
       "\n",
       "    .dataframe thead th {\n",
       "        text-align: right;\n",
       "    }\n",
       "</style>\n",
       "<table border=\"1\" class=\"dataframe\">\n",
       "  <thead>\n",
       "    <tr style=\"text-align: right;\">\n",
       "      <th></th>\n",
       "      <th>Name</th>\n",
       "      <th>Age</th>\n",
       "      <th>Email</th>\n",
       "      <th>Address</th>\n",
       "      <th>Birth</th>\n",
       "    </tr>\n",
       "  </thead>\n",
       "  <tbody>\n",
       "    <tr>\n",
       "      <th>서</th>\n",
       "      <td>홍길서</td>\n",
       "      <td>30</td>\n",
       "      <td>seo@hong.com</td>\n",
       "      <td>서울시 중구</td>\n",
       "      <td>1999-12-01</td>\n",
       "    </tr>\n",
       "    <tr>\n",
       "      <th>남</th>\n",
       "      <td>홍길남</td>\n",
       "      <td>21</td>\n",
       "      <td>nam@hong.com</td>\n",
       "      <td>서울시 강동구</td>\n",
       "      <td>1999-11-01</td>\n",
       "    </tr>\n",
       "  </tbody>\n",
       "</table>\n",
       "</div>"
      ],
      "text/plain": [
       "  Name  Age         Email  Address       Birth\n",
       "서  홍길서   30  seo@hong.com   서울시 중구  1999-12-01\n",
       "남  홍길남   21  nam@hong.com  서울시 강동구  1999-11-01"
      ]
     },
     "execution_count": 233,
     "metadata": {},
     "output_type": "execute_result"
    }
   ],
   "source": [
    "# 2) 복수 행 삭제\n",
    "member.drop(['북', '중'])"
   ]
  },
  {
   "cell_type": "code",
   "execution_count": 236,
   "id": "85aba11d",
   "metadata": {
    "ExecuteTime": {
     "end_time": "2024-11-26T04:10:21.299623Z",
     "start_time": "2024-11-26T04:10:21.289337Z"
    }
   },
   "outputs": [
    {
     "data": {
      "text/html": [
       "<div>\n",
       "<style scoped>\n",
       "    .dataframe tbody tr th:only-of-type {\n",
       "        vertical-align: middle;\n",
       "    }\n",
       "\n",
       "    .dataframe tbody tr th {\n",
       "        vertical-align: top;\n",
       "    }\n",
       "\n",
       "    .dataframe thead th {\n",
       "        text-align: right;\n",
       "    }\n",
       "</style>\n",
       "<table border=\"1\" class=\"dataframe\">\n",
       "  <thead>\n",
       "    <tr style=\"text-align: right;\">\n",
       "      <th></th>\n",
       "      <th>Name</th>\n",
       "      <th>Age</th>\n",
       "      <th>Email</th>\n",
       "    </tr>\n",
       "  </thead>\n",
       "  <tbody>\n",
       "    <tr>\n",
       "      <th>서</th>\n",
       "      <td>홍길서</td>\n",
       "      <td>30</td>\n",
       "      <td>seo@hong.com</td>\n",
       "    </tr>\n",
       "    <tr>\n",
       "      <th>남</th>\n",
       "      <td>홍길남</td>\n",
       "      <td>21</td>\n",
       "      <td>nam@hong.com</td>\n",
       "    </tr>\n",
       "    <tr>\n",
       "      <th>북</th>\n",
       "      <td>홍길북</td>\n",
       "      <td>22</td>\n",
       "      <td>buk@hong.com</td>\n",
       "    </tr>\n",
       "    <tr>\n",
       "      <th>중</th>\n",
       "      <td>홍길중</td>\n",
       "      <td>23</td>\n",
       "      <td>mid@hong.com</td>\n",
       "    </tr>\n",
       "  </tbody>\n",
       "</table>\n",
       "</div>"
      ],
      "text/plain": [
       "  Name  Age         Email\n",
       "서  홍길서   30  seo@hong.com\n",
       "남  홍길남   21  nam@hong.com\n",
       "북  홍길북   22  buk@hong.com\n",
       "중  홍길중   23  mid@hong.com"
      ]
     },
     "execution_count": 236,
     "metadata": {},
     "output_type": "execute_result"
    }
   ],
   "source": [
    "# 3) 열 삭제\n",
    "member.drop(labels=['Address', 'Birth'], axis=1) # 해당 열을 삭제한 결과를 return"
   ]
  },
  {
   "cell_type": "markdown",
   "id": "76d37659",
   "metadata": {},
   "source": [
    "## 5.2 데이터 프레임의 요소 추가"
   ]
  },
  {
   "cell_type": "code",
   "execution_count": 239,
   "id": "2692527b",
   "metadata": {
    "ExecuteTime": {
     "end_time": "2024-11-26T04:13:03.054248Z",
     "start_time": "2024-11-26T04:13:03.041329Z"
    }
   },
   "outputs": [
    {
     "data": {
      "text/html": [
       "<div>\n",
       "<style scoped>\n",
       "    .dataframe tbody tr th:only-of-type {\n",
       "        vertical-align: middle;\n",
       "    }\n",
       "\n",
       "    .dataframe tbody tr th {\n",
       "        vertical-align: top;\n",
       "    }\n",
       "\n",
       "    .dataframe thead th {\n",
       "        text-align: right;\n",
       "    }\n",
       "</style>\n",
       "<table border=\"1\" class=\"dataframe\">\n",
       "  <thead>\n",
       "    <tr style=\"text-align: right;\">\n",
       "      <th></th>\n",
       "      <th>Name</th>\n",
       "      <th>Age</th>\n",
       "      <th>Email</th>\n",
       "      <th>Address</th>\n",
       "      <th>Birth</th>\n",
       "      <th>favorite_no</th>\n",
       "    </tr>\n",
       "  </thead>\n",
       "  <tbody>\n",
       "    <tr>\n",
       "      <th>0</th>\n",
       "      <td>홍길동</td>\n",
       "      <td>20</td>\n",
       "      <td>hong@hong.com</td>\n",
       "      <td>서울시 강동구</td>\n",
       "      <td>1999-01-01</td>\n",
       "      <td>7</td>\n",
       "    </tr>\n",
       "    <tr>\n",
       "      <th>1</th>\n",
       "      <td>홍길서</td>\n",
       "      <td>30</td>\n",
       "      <td>seo@hong.com</td>\n",
       "      <td>서울시 중구</td>\n",
       "      <td>1999-12-01</td>\n",
       "      <td>7</td>\n",
       "    </tr>\n",
       "    <tr>\n",
       "      <th>2</th>\n",
       "      <td>홍길남</td>\n",
       "      <td>21</td>\n",
       "      <td>nam@hong.com</td>\n",
       "      <td>서울시 강동구</td>\n",
       "      <td>1999-11-01</td>\n",
       "      <td>7</td>\n",
       "    </tr>\n",
       "    <tr>\n",
       "      <th>3</th>\n",
       "      <td>홍길북</td>\n",
       "      <td>22</td>\n",
       "      <td>buk@hong.com</td>\n",
       "      <td>서울시 관악구</td>\n",
       "      <td>1999-05-01</td>\n",
       "      <td>7</td>\n",
       "    </tr>\n",
       "    <tr>\n",
       "      <th>4</th>\n",
       "      <td>홍길중</td>\n",
       "      <td>23</td>\n",
       "      <td>mid@hong.com</td>\n",
       "      <td>부산시 중구</td>\n",
       "      <td>1999-01-30</td>\n",
       "      <td>7</td>\n",
       "    </tr>\n",
       "  </tbody>\n",
       "</table>\n",
       "</div>"
      ],
      "text/plain": [
       "  Name  Age          Email  Address       Birth  favorite_no\n",
       "0  홍길동   20  hong@hong.com  서울시 강동구  1999-01-01            7\n",
       "1  홍길서   30   seo@hong.com   서울시 중구  1999-12-01            7\n",
       "2  홍길남   21   nam@hong.com  서울시 강동구  1999-11-01            7\n",
       "3  홍길북   22   buk@hong.com  서울시 관악구  1999-05-01            7\n",
       "4  홍길중   23   mid@hong.com   부산시 중구  1999-01-30            7"
      ]
     },
     "execution_count": 239,
     "metadata": {},
     "output_type": "execute_result"
    }
   ],
   "source": [
    "member = pd.read_csv('data/ch12_member.csv', comment='#')\n",
    "# 1) 리스트를 이용한 열 추가\n",
    "member['favorite_no'] = 7 # 추가할 때는 member.favorite_no 불가\n",
    "member"
   ]
  },
  {
   "cell_type": "code",
   "execution_count": 240,
   "id": "8ae0d5f4",
   "metadata": {
    "ExecuteTime": {
     "end_time": "2024-11-26T05:15:32.956530Z",
     "start_time": "2024-11-26T05:15:32.940561Z"
    }
   },
   "outputs": [
    {
     "data": {
      "text/html": [
       "<div>\n",
       "<style scoped>\n",
       "    .dataframe tbody tr th:only-of-type {\n",
       "        vertical-align: middle;\n",
       "    }\n",
       "\n",
       "    .dataframe tbody tr th {\n",
       "        vertical-align: top;\n",
       "    }\n",
       "\n",
       "    .dataframe thead th {\n",
       "        text-align: right;\n",
       "    }\n",
       "</style>\n",
       "<table border=\"1\" class=\"dataframe\">\n",
       "  <thead>\n",
       "    <tr style=\"text-align: right;\">\n",
       "      <th></th>\n",
       "      <th>Name</th>\n",
       "      <th>Age</th>\n",
       "      <th>Email</th>\n",
       "      <th>Address</th>\n",
       "      <th>Birth</th>\n",
       "      <th>favorite_no</th>\n",
       "    </tr>\n",
       "  </thead>\n",
       "  <tbody>\n",
       "    <tr>\n",
       "      <th>0</th>\n",
       "      <td>홍길동</td>\n",
       "      <td>20</td>\n",
       "      <td>hong@hong.com</td>\n",
       "      <td>서울시 강동구</td>\n",
       "      <td>1999-01-01</td>\n",
       "      <td>7.0</td>\n",
       "    </tr>\n",
       "    <tr>\n",
       "      <th>1</th>\n",
       "      <td>홍길서</td>\n",
       "      <td>30</td>\n",
       "      <td>seo@hong.com</td>\n",
       "      <td>서울시 중구</td>\n",
       "      <td>1999-12-01</td>\n",
       "      <td>7.0</td>\n",
       "    </tr>\n",
       "    <tr>\n",
       "      <th>2</th>\n",
       "      <td>홍길남</td>\n",
       "      <td>21</td>\n",
       "      <td>nam@hong.com</td>\n",
       "      <td>서울시 강동구</td>\n",
       "      <td>1999-11-01</td>\n",
       "      <td>7.0</td>\n",
       "    </tr>\n",
       "    <tr>\n",
       "      <th>3</th>\n",
       "      <td>홍길북</td>\n",
       "      <td>22</td>\n",
       "      <td>buk@hong.com</td>\n",
       "      <td>서울시 관악구</td>\n",
       "      <td>1999-05-01</td>\n",
       "      <td>NaN</td>\n",
       "    </tr>\n",
       "    <tr>\n",
       "      <th>4</th>\n",
       "      <td>홍길중</td>\n",
       "      <td>23</td>\n",
       "      <td>mid@hong.com</td>\n",
       "      <td>부산시 중구</td>\n",
       "      <td>1999-01-30</td>\n",
       "      <td>3.0</td>\n",
       "    </tr>\n",
       "  </tbody>\n",
       "</table>\n",
       "</div>"
      ],
      "text/plain": [
       "  Name  Age          Email  Address       Birth  favorite_no\n",
       "0  홍길동   20  hong@hong.com  서울시 강동구  1999-01-01          7.0\n",
       "1  홍길서   30   seo@hong.com   서울시 중구  1999-12-01          7.0\n",
       "2  홍길남   21   nam@hong.com  서울시 강동구  1999-11-01          7.0\n",
       "3  홍길북   22   buk@hong.com  서울시 관악구  1999-05-01          NaN\n",
       "4  홍길중   23   mid@hong.com   부산시 중구  1999-01-30          3.0"
      ]
     },
     "execution_count": 240,
     "metadata": {},
     "output_type": "execute_result"
    }
   ],
   "source": [
    "member = pd.read_csv('data/ch12_member.csv', comment='#')\n",
    "# list로 숫자와 함께 결측치 None을 입력할 시에는 type이 float\n",
    "member['favorite_no'] = [7, 7, 7, None, 3]\n",
    "member"
   ]
  },
  {
   "cell_type": "code",
   "execution_count": 243,
   "id": "41342c3d",
   "metadata": {
    "ExecuteTime": {
     "end_time": "2024-11-26T05:19:13.351263Z",
     "start_time": "2024-11-26T05:19:13.339121Z"
    }
   },
   "outputs": [
    {
     "data": {
      "text/html": [
       "<div>\n",
       "<style scoped>\n",
       "    .dataframe tbody tr th:only-of-type {\n",
       "        vertical-align: middle;\n",
       "    }\n",
       "\n",
       "    .dataframe tbody tr th {\n",
       "        vertical-align: top;\n",
       "    }\n",
       "\n",
       "    .dataframe thead th {\n",
       "        text-align: right;\n",
       "    }\n",
       "</style>\n",
       "<table border=\"1\" class=\"dataframe\">\n",
       "  <thead>\n",
       "    <tr style=\"text-align: right;\">\n",
       "      <th></th>\n",
       "      <th>Name</th>\n",
       "      <th>Age</th>\n",
       "      <th>Email</th>\n",
       "      <th>Address</th>\n",
       "      <th>Birth</th>\n",
       "      <th>favorite_no</th>\n",
       "      <th>favorite_num</th>\n",
       "    </tr>\n",
       "  </thead>\n",
       "  <tbody>\n",
       "    <tr>\n",
       "      <th>0</th>\n",
       "      <td>홍길동</td>\n",
       "      <td>20</td>\n",
       "      <td>hong@hong.com</td>\n",
       "      <td>서울시 강동구</td>\n",
       "      <td>1999-01-01</td>\n",
       "      <td>7.0</td>\n",
       "      <td>7</td>\n",
       "    </tr>\n",
       "    <tr>\n",
       "      <th>1</th>\n",
       "      <td>홍길서</td>\n",
       "      <td>30</td>\n",
       "      <td>seo@hong.com</td>\n",
       "      <td>서울시 중구</td>\n",
       "      <td>1999-12-01</td>\n",
       "      <td>7.0</td>\n",
       "      <td>None</td>\n",
       "    </tr>\n",
       "    <tr>\n",
       "      <th>2</th>\n",
       "      <td>홍길남</td>\n",
       "      <td>21</td>\n",
       "      <td>nam@hong.com</td>\n",
       "      <td>서울시 강동구</td>\n",
       "      <td>1999-11-01</td>\n",
       "      <td>7.0</td>\n",
       "      <td>7</td>\n",
       "    </tr>\n",
       "    <tr>\n",
       "      <th>3</th>\n",
       "      <td>홍길북</td>\n",
       "      <td>22</td>\n",
       "      <td>buk@hong.com</td>\n",
       "      <td>서울시 관악구</td>\n",
       "      <td>1999-05-01</td>\n",
       "      <td>NaN</td>\n",
       "      <td>None</td>\n",
       "    </tr>\n",
       "    <tr>\n",
       "      <th>4</th>\n",
       "      <td>홍길중</td>\n",
       "      <td>23</td>\n",
       "      <td>mid@hong.com</td>\n",
       "      <td>부산시 중구</td>\n",
       "      <td>1999-01-30</td>\n",
       "      <td>3.0</td>\n",
       "      <td>7</td>\n",
       "    </tr>\n",
       "  </tbody>\n",
       "</table>\n",
       "</div>"
      ],
      "text/plain": [
       "  Name  Age          Email  Address       Birth  favorite_no favorite_num\n",
       "0  홍길동   20  hong@hong.com  서울시 강동구  1999-01-01          7.0            7\n",
       "1  홍길서   30   seo@hong.com   서울시 중구  1999-12-01          7.0         None\n",
       "2  홍길남   21   nam@hong.com  서울시 강동구  1999-11-01          7.0            7\n",
       "3  홍길북   22   buk@hong.com  서울시 관악구  1999-05-01          NaN         None\n",
       "4  홍길중   23   mid@hong.com   부산시 중구  1999-01-30          3.0            7"
      ]
     },
     "execution_count": 243,
     "metadata": {},
     "output_type": "execute_result"
    }
   ],
   "source": [
    "member['favorite_num'] = None # None 그대로 저장\n",
    "# [7, None, 7, None, 7]를 입력할 경우 None은 NaN이 되고, type은 float\n",
    "member.loc[::2, 'favorite_num'] = 7 # 7은 정수값 그대로 저장\n",
    "member"
   ]
  },
  {
   "cell_type": "code",
   "execution_count": 244,
   "id": "d33a475f",
   "metadata": {
    "ExecuteTime": {
     "end_time": "2024-11-26T05:19:53.413830Z",
     "start_time": "2024-11-26T05:19:53.402876Z"
    }
   },
   "outputs": [
    {
     "name": "stdout",
     "output_type": "stream",
     "text": [
      "<class 'pandas.core.frame.DataFrame'>\n",
      "RangeIndex: 5 entries, 0 to 4\n",
      "Data columns (total 7 columns):\n",
      " #   Column        Non-Null Count  Dtype  \n",
      "---  ------        --------------  -----  \n",
      " 0   Name          5 non-null      object \n",
      " 1   Age           5 non-null      int64  \n",
      " 2   Email         5 non-null      object \n",
      " 3   Address       5 non-null      object \n",
      " 4   Birth         5 non-null      object \n",
      " 5   favorite_no   4 non-null      float64\n",
      " 6   favorite_num  3 non-null      object \n",
      "dtypes: float64(1), int64(1), object(5)\n",
      "memory usage: 408.0+ bytes\n"
     ]
    }
   ],
   "source": [
    "member.info()"
   ]
  },
  {
   "cell_type": "code",
   "execution_count": 245,
   "id": "a0f5d0f8",
   "metadata": {
    "ExecuteTime": {
     "end_time": "2024-11-26T05:23:07.898933Z",
     "start_time": "2024-11-26T05:23:07.882648Z"
    }
   },
   "outputs": [
    {
     "data": {
      "text/html": [
       "<div>\n",
       "<style scoped>\n",
       "    .dataframe tbody tr th:only-of-type {\n",
       "        vertical-align: middle;\n",
       "    }\n",
       "\n",
       "    .dataframe tbody tr th {\n",
       "        vertical-align: top;\n",
       "    }\n",
       "\n",
       "    .dataframe thead th {\n",
       "        text-align: right;\n",
       "    }\n",
       "</style>\n",
       "<table border=\"1\" class=\"dataframe\">\n",
       "  <thead>\n",
       "    <tr style=\"text-align: right;\">\n",
       "      <th></th>\n",
       "      <th>Name</th>\n",
       "      <th>Age</th>\n",
       "      <th>Email</th>\n",
       "      <th>Address</th>\n",
       "      <th>Birth</th>\n",
       "      <th>favorite_no</th>\n",
       "    </tr>\n",
       "  </thead>\n",
       "  <tbody>\n",
       "    <tr>\n",
       "      <th>0</th>\n",
       "      <td>홍길동</td>\n",
       "      <td>20</td>\n",
       "      <td>hong@hong.com</td>\n",
       "      <td>서울시 강동구</td>\n",
       "      <td>1999-01-01</td>\n",
       "      <td>7.0</td>\n",
       "    </tr>\n",
       "    <tr>\n",
       "      <th>1</th>\n",
       "      <td>홍길서</td>\n",
       "      <td>30</td>\n",
       "      <td>seo@hong.com</td>\n",
       "      <td>서울시 중구</td>\n",
       "      <td>1999-12-01</td>\n",
       "      <td>7.0</td>\n",
       "    </tr>\n",
       "    <tr>\n",
       "      <th>2</th>\n",
       "      <td>홍길남</td>\n",
       "      <td>21</td>\n",
       "      <td>nam@hong.com</td>\n",
       "      <td>서울시 강동구</td>\n",
       "      <td>1999-11-01</td>\n",
       "      <td>7.0</td>\n",
       "    </tr>\n",
       "    <tr>\n",
       "      <th>3</th>\n",
       "      <td>홍길북</td>\n",
       "      <td>22</td>\n",
       "      <td>buk@hong.com</td>\n",
       "      <td>서울시 관악구</td>\n",
       "      <td>1999-05-01</td>\n",
       "      <td>NaN</td>\n",
       "    </tr>\n",
       "    <tr>\n",
       "      <th>4</th>\n",
       "      <td>홍길중</td>\n",
       "      <td>23</td>\n",
       "      <td>mid@hong.com</td>\n",
       "      <td>부산시 중구</td>\n",
       "      <td>1999-01-30</td>\n",
       "      <td>NaN</td>\n",
       "    </tr>\n",
       "  </tbody>\n",
       "</table>\n",
       "</div>"
      ],
      "text/plain": [
       "  Name  Age          Email  Address       Birth  favorite_no\n",
       "0  홍길동   20  hong@hong.com  서울시 강동구  1999-01-01          7.0\n",
       "1  홍길서   30   seo@hong.com   서울시 중구  1999-12-01          7.0\n",
       "2  홍길남   21   nam@hong.com  서울시 강동구  1999-11-01          7.0\n",
       "3  홍길북   22   buk@hong.com  서울시 관악구  1999-05-01          NaN\n",
       "4  홍길중   23   mid@hong.com   부산시 중구  1999-01-30          NaN"
      ]
     },
     "execution_count": 245,
     "metadata": {},
     "output_type": "execute_result"
    }
   ],
   "source": [
    "# 2) 시리즈를 이용한 열 추가\n",
    "member = pd.read_csv('data/ch12_member.csv', comment='#')\n",
    "member['favorite_no'] = pd.Series([7, 7, 7]) # 데이터 갯수가 부족\n",
    "# 입력되지 못한 부분은 자동으로 NaN(결측치) => NaN이 포함된 열의 타입은 float\n",
    "member"
   ]
  },
  {
   "cell_type": "code",
   "execution_count": 247,
   "id": "4c1df9bf",
   "metadata": {
    "ExecuteTime": {
     "end_time": "2024-11-26T05:26:04.043725Z",
     "start_time": "2024-11-26T05:26:04.027735Z"
    }
   },
   "outputs": [
    {
     "data": {
      "text/html": [
       "<div>\n",
       "<style scoped>\n",
       "    .dataframe tbody tr th:only-of-type {\n",
       "        vertical-align: middle;\n",
       "    }\n",
       "\n",
       "    .dataframe tbody tr th {\n",
       "        vertical-align: top;\n",
       "    }\n",
       "\n",
       "    .dataframe thead th {\n",
       "        text-align: right;\n",
       "    }\n",
       "</style>\n",
       "<table border=\"1\" class=\"dataframe\">\n",
       "  <thead>\n",
       "    <tr style=\"text-align: right;\">\n",
       "      <th></th>\n",
       "      <th>Name</th>\n",
       "      <th>Age</th>\n",
       "      <th>Email</th>\n",
       "      <th>Address</th>\n",
       "      <th>Birth</th>\n",
       "      <th>favorite_no</th>\n",
       "    </tr>\n",
       "  </thead>\n",
       "  <tbody>\n",
       "    <tr>\n",
       "      <th>0</th>\n",
       "      <td>홍길동</td>\n",
       "      <td>20</td>\n",
       "      <td>hong@hong.com</td>\n",
       "      <td>서울시 강동구</td>\n",
       "      <td>1999-01-01</td>\n",
       "      <td>1.0</td>\n",
       "    </tr>\n",
       "    <tr>\n",
       "      <th>1</th>\n",
       "      <td>홍길서</td>\n",
       "      <td>30</td>\n",
       "      <td>seo@hong.com</td>\n",
       "      <td>서울시 중구</td>\n",
       "      <td>1999-12-01</td>\n",
       "      <td>NaN</td>\n",
       "    </tr>\n",
       "    <tr>\n",
       "      <th>2</th>\n",
       "      <td>홍길남</td>\n",
       "      <td>21</td>\n",
       "      <td>nam@hong.com</td>\n",
       "      <td>서울시 강동구</td>\n",
       "      <td>1999-11-01</td>\n",
       "      <td>2.0</td>\n",
       "    </tr>\n",
       "    <tr>\n",
       "      <th>3</th>\n",
       "      <td>홍길북</td>\n",
       "      <td>22</td>\n",
       "      <td>buk@hong.com</td>\n",
       "      <td>서울시 관악구</td>\n",
       "      <td>1999-05-01</td>\n",
       "      <td>3.0</td>\n",
       "    </tr>\n",
       "    <tr>\n",
       "      <th>4</th>\n",
       "      <td>홍길중</td>\n",
       "      <td>23</td>\n",
       "      <td>mid@hong.com</td>\n",
       "      <td>부산시 중구</td>\n",
       "      <td>1999-01-30</td>\n",
       "      <td>NaN</td>\n",
       "    </tr>\n",
       "  </tbody>\n",
       "</table>\n",
       "</div>"
      ],
      "text/plain": [
       "  Name  Age          Email  Address       Birth  favorite_no\n",
       "0  홍길동   20  hong@hong.com  서울시 강동구  1999-01-01          1.0\n",
       "1  홍길서   30   seo@hong.com   서울시 중구  1999-12-01          NaN\n",
       "2  홍길남   21   nam@hong.com  서울시 강동구  1999-11-01          2.0\n",
       "3  홍길북   22   buk@hong.com  서울시 관악구  1999-05-01          3.0\n",
       "4  홍길중   23   mid@hong.com   부산시 중구  1999-01-30          NaN"
      ]
     },
     "execution_count": 247,
     "metadata": {},
     "output_type": "execute_result"
    }
   ],
   "source": [
    "member = pd.read_csv('data/ch12_member.csv', comment='#')\n",
    "member['favorite_no'] = pd.Series([1, 2, 3], index=[0, 2, 3])\n",
    "member"
   ]
  },
  {
   "cell_type": "code",
   "execution_count": 251,
   "id": "6d4b0a8a",
   "metadata": {
    "ExecuteTime": {
     "end_time": "2024-11-26T05:31:31.950259Z",
     "start_time": "2024-11-26T05:31:31.939917Z"
    }
   },
   "outputs": [
    {
     "name": "stderr",
     "output_type": "stream",
     "text": [
      "C:\\Users\\4545\\AppData\\Local\\Temp\\ipykernel_11976\\185186052.py:10: FutureWarning: The frame.append method is deprecated and will be removed from pandas in a future version. Use pandas.concat instead.\n",
      "  member = member.append(new_member, ignore_index=True)\n"
     ]
    }
   ],
   "source": [
    "# 3) 딕셔너리로 행 추가\n",
    "member = pd.read_csv('data/ch12_member.csv', comment='#')\n",
    "new_member = {\n",
    "    'Name':'홍길숙',\n",
    "    'Age':25,\n",
    "    'Email':'suk@suk.com',\n",
    "    'Address':'안양',\n",
    "    'Birth':'2020-12-12'\n",
    "}\n",
    "member = member.append(new_member, ignore_index=True)"
   ]
  },
  {
   "cell_type": "code",
   "execution_count": 252,
   "id": "da99d882",
   "metadata": {
    "ExecuteTime": {
     "end_time": "2024-11-26T05:33:56.247114Z",
     "start_time": "2024-11-26T05:33:56.236141Z"
    }
   },
   "outputs": [
    {
     "data": {
      "text/html": [
       "<div>\n",
       "<style scoped>\n",
       "    .dataframe tbody tr th:only-of-type {\n",
       "        vertical-align: middle;\n",
       "    }\n",
       "\n",
       "    .dataframe tbody tr th {\n",
       "        vertical-align: top;\n",
       "    }\n",
       "\n",
       "    .dataframe thead th {\n",
       "        text-align: right;\n",
       "    }\n",
       "</style>\n",
       "<table border=\"1\" class=\"dataframe\">\n",
       "  <thead>\n",
       "    <tr style=\"text-align: right;\">\n",
       "      <th></th>\n",
       "      <th>Name</th>\n",
       "      <th>Age</th>\n",
       "      <th>Email</th>\n",
       "      <th>Address</th>\n",
       "      <th>Birth</th>\n",
       "    </tr>\n",
       "  </thead>\n",
       "  <tbody>\n",
       "    <tr>\n",
       "      <th>0</th>\n",
       "      <td>홍길숙</td>\n",
       "      <td>25</td>\n",
       "      <td>suk@suk.com</td>\n",
       "      <td>안양</td>\n",
       "      <td>2020-12-12</td>\n",
       "    </tr>\n",
       "  </tbody>\n",
       "</table>\n",
       "</div>"
      ],
      "text/plain": [
       "  Name  Age        Email Address       Birth\n",
       "0  홍길숙   25  suk@suk.com      안양  2020-12-12"
      ]
     },
     "execution_count": 252,
     "metadata": {},
     "output_type": "execute_result"
    }
   ],
   "source": [
    "new_member = pd.DataFrame([new_member])\n",
    "new_member"
   ]
  },
  {
   "cell_type": "code",
   "execution_count": 254,
   "id": "0dfa2a1f",
   "metadata": {
    "ExecuteTime": {
     "end_time": "2024-11-26T05:34:42.078483Z",
     "start_time": "2024-11-26T05:34:42.068383Z"
    }
   },
   "outputs": [
    {
     "data": {
      "text/html": [
       "<div>\n",
       "<style scoped>\n",
       "    .dataframe tbody tr th:only-of-type {\n",
       "        vertical-align: middle;\n",
       "    }\n",
       "\n",
       "    .dataframe tbody tr th {\n",
       "        vertical-align: top;\n",
       "    }\n",
       "\n",
       "    .dataframe thead th {\n",
       "        text-align: right;\n",
       "    }\n",
       "</style>\n",
       "<table border=\"1\" class=\"dataframe\">\n",
       "  <thead>\n",
       "    <tr style=\"text-align: right;\">\n",
       "      <th></th>\n",
       "      <th>Name</th>\n",
       "      <th>Age</th>\n",
       "      <th>Email</th>\n",
       "      <th>Address</th>\n",
       "      <th>Birth</th>\n",
       "    </tr>\n",
       "  </thead>\n",
       "  <tbody>\n",
       "    <tr>\n",
       "      <th>0</th>\n",
       "      <td>홍길동</td>\n",
       "      <td>20</td>\n",
       "      <td>hong@hong.com</td>\n",
       "      <td>서울시 강동구</td>\n",
       "      <td>1999-01-01</td>\n",
       "    </tr>\n",
       "    <tr>\n",
       "      <th>1</th>\n",
       "      <td>홍길서</td>\n",
       "      <td>30</td>\n",
       "      <td>seo@hong.com</td>\n",
       "      <td>서울시 중구</td>\n",
       "      <td>1999-12-01</td>\n",
       "    </tr>\n",
       "    <tr>\n",
       "      <th>2</th>\n",
       "      <td>홍길남</td>\n",
       "      <td>21</td>\n",
       "      <td>nam@hong.com</td>\n",
       "      <td>서울시 강동구</td>\n",
       "      <td>1999-11-01</td>\n",
       "    </tr>\n",
       "    <tr>\n",
       "      <th>3</th>\n",
       "      <td>홍길북</td>\n",
       "      <td>22</td>\n",
       "      <td>buk@hong.com</td>\n",
       "      <td>서울시 관악구</td>\n",
       "      <td>1999-05-01</td>\n",
       "    </tr>\n",
       "    <tr>\n",
       "      <th>4</th>\n",
       "      <td>홍길중</td>\n",
       "      <td>23</td>\n",
       "      <td>mid@hong.com</td>\n",
       "      <td>부산시 중구</td>\n",
       "      <td>1999-01-30</td>\n",
       "    </tr>\n",
       "    <tr>\n",
       "      <th>5</th>\n",
       "      <td>홍길숙</td>\n",
       "      <td>25</td>\n",
       "      <td>suk@suk.com</td>\n",
       "      <td>안양</td>\n",
       "      <td>2020-12-12</td>\n",
       "    </tr>\n",
       "    <tr>\n",
       "      <th>0</th>\n",
       "      <td>홍길숙</td>\n",
       "      <td>25</td>\n",
       "      <td>suk@suk.com</td>\n",
       "      <td>안양</td>\n",
       "      <td>2020-12-12</td>\n",
       "    </tr>\n",
       "  </tbody>\n",
       "</table>\n",
       "</div>"
      ],
      "text/plain": [
       "  Name  Age          Email  Address       Birth\n",
       "0  홍길동   20  hong@hong.com  서울시 강동구  1999-01-01\n",
       "1  홍길서   30   seo@hong.com   서울시 중구  1999-12-01\n",
       "2  홍길남   21   nam@hong.com  서울시 강동구  1999-11-01\n",
       "3  홍길북   22   buk@hong.com  서울시 관악구  1999-05-01\n",
       "4  홍길중   23   mid@hong.com   부산시 중구  1999-01-30\n",
       "5  홍길숙   25    suk@suk.com       안양  2020-12-12\n",
       "0  홍길숙   25    suk@suk.com       안양  2020-12-12"
      ]
     },
     "execution_count": 254,
     "metadata": {},
     "output_type": "execute_result"
    }
   ],
   "source": [
    "# 행 추가 시 concat (데이터 프레임들끼리 연결)\n",
    "member = pd.concat( [member, new_member])\n",
    "member"
   ]
  },
  {
   "cell_type": "code",
   "execution_count": 256,
   "id": "f9cd2687",
   "metadata": {
    "ExecuteTime": {
     "end_time": "2024-11-26T05:37:45.346885Z",
     "start_time": "2024-11-26T05:37:45.338908Z"
    }
   },
   "outputs": [
    {
     "data": {
      "text/plain": [
       "Name                 박이름\n",
       "Age                   30\n",
       "Email      park@park.com\n",
       "Address               인천\n",
       "Birth         2000-12-12\n",
       "dtype: object"
      ]
     },
     "execution_count": 256,
     "metadata": {},
     "output_type": "execute_result"
    }
   ],
   "source": [
    "# 4) 시리즈를 이용한 데이터 행 추가\n",
    "new_series = pd.Series(['박이름', 30, 'park@park.com', '인천', '2000-12-12'],\n",
    "                      index=member.columns)\n",
    "new_series"
   ]
  },
  {
   "cell_type": "code",
   "execution_count": 259,
   "id": "fc88ff00",
   "metadata": {
    "ExecuteTime": {
     "end_time": "2024-11-26T05:39:03.217013Z",
     "start_time": "2024-11-26T05:39:03.204573Z"
    }
   },
   "outputs": [
    {
     "name": "stderr",
     "output_type": "stream",
     "text": [
      "C:\\Users\\4545\\AppData\\Local\\Temp\\ipykernel_11976\\3867317216.py:1: FutureWarning: The frame.append method is deprecated and will be removed from pandas in a future version. Use pandas.concat instead.\n",
      "  member = member.append(new_series, ignore_index=True)\n"
     ]
    },
    {
     "data": {
      "text/html": [
       "<div>\n",
       "<style scoped>\n",
       "    .dataframe tbody tr th:only-of-type {\n",
       "        vertical-align: middle;\n",
       "    }\n",
       "\n",
       "    .dataframe tbody tr th {\n",
       "        vertical-align: top;\n",
       "    }\n",
       "\n",
       "    .dataframe thead th {\n",
       "        text-align: right;\n",
       "    }\n",
       "</style>\n",
       "<table border=\"1\" class=\"dataframe\">\n",
       "  <thead>\n",
       "    <tr style=\"text-align: right;\">\n",
       "      <th></th>\n",
       "      <th>Name</th>\n",
       "      <th>Age</th>\n",
       "      <th>Email</th>\n",
       "      <th>Address</th>\n",
       "      <th>Birth</th>\n",
       "    </tr>\n",
       "  </thead>\n",
       "  <tbody>\n",
       "    <tr>\n",
       "      <th>7</th>\n",
       "      <td>박이름</td>\n",
       "      <td>30</td>\n",
       "      <td>park@park.com</td>\n",
       "      <td>인천</td>\n",
       "      <td>2000-12-12</td>\n",
       "    </tr>\n",
       "    <tr>\n",
       "      <th>8</th>\n",
       "      <td>박이름</td>\n",
       "      <td>30</td>\n",
       "      <td>park@park.com</td>\n",
       "      <td>인천</td>\n",
       "      <td>2000-12-12</td>\n",
       "    </tr>\n",
       "    <tr>\n",
       "      <th>9</th>\n",
       "      <td>박이름</td>\n",
       "      <td>30</td>\n",
       "      <td>park@park.com</td>\n",
       "      <td>인천</td>\n",
       "      <td>2000-12-12</td>\n",
       "    </tr>\n",
       "  </tbody>\n",
       "</table>\n",
       "</div>"
      ],
      "text/plain": [
       "  Name  Age          Email Address       Birth\n",
       "7  박이름   30  park@park.com      인천  2000-12-12\n",
       "8  박이름   30  park@park.com      인천  2000-12-12\n",
       "9  박이름   30  park@park.com      인천  2000-12-12"
      ]
     },
     "execution_count": 259,
     "metadata": {},
     "output_type": "execute_result"
    }
   ],
   "source": [
    "member = member.append(new_series, ignore_index=True)\n",
    "member.tail(3)"
   ]
  },
  {
   "cell_type": "code",
   "execution_count": 271,
   "id": "355c7d3a",
   "metadata": {
    "ExecuteTime": {
     "end_time": "2024-11-26T05:43:30.428471Z",
     "start_time": "2024-11-26T05:43:30.415819Z"
    }
   },
   "outputs": [
    {
     "data": {
      "text/html": [
       "<div>\n",
       "<style scoped>\n",
       "    .dataframe tbody tr th:only-of-type {\n",
       "        vertical-align: middle;\n",
       "    }\n",
       "\n",
       "    .dataframe tbody tr th {\n",
       "        vertical-align: top;\n",
       "    }\n",
       "\n",
       "    .dataframe thead th {\n",
       "        text-align: right;\n",
       "    }\n",
       "</style>\n",
       "<table border=\"1\" class=\"dataframe\">\n",
       "  <thead>\n",
       "    <tr style=\"text-align: right;\">\n",
       "      <th></th>\n",
       "      <th>Name</th>\n",
       "      <th>Age</th>\n",
       "      <th>Email</th>\n",
       "      <th>Address</th>\n",
       "      <th>Birth</th>\n",
       "    </tr>\n",
       "  </thead>\n",
       "  <tbody>\n",
       "    <tr>\n",
       "      <th>0</th>\n",
       "      <td>박이름</td>\n",
       "      <td>30</td>\n",
       "      <td>park@park.com</td>\n",
       "      <td>인천</td>\n",
       "      <td>2000-12-12</td>\n",
       "    </tr>\n",
       "  </tbody>\n",
       "</table>\n",
       "</div>"
      ],
      "text/plain": [
       "  Name Age          Email Address       Birth\n",
       "0  박이름  30  park@park.com      인천  2000-12-12"
      ]
     },
     "execution_count": 271,
     "metadata": {},
     "output_type": "execute_result"
    }
   ],
   "source": [
    "member = pd.read_csv('data/ch12_member.csv', comment='#')\n",
    "new_series = pd.Series(['박이름', 30, 'park@park.com', '인천', '2000-12-12'],\n",
    "                      index=member.columns)\n",
    "pd.DataFrame(new_series).T"
   ]
  },
  {
   "cell_type": "code",
   "execution_count": 272,
   "id": "f21949f8",
   "metadata": {
    "ExecuteTime": {
     "end_time": "2024-11-26T05:43:32.367860Z",
     "start_time": "2024-11-26T05:43:32.360899Z"
    }
   },
   "outputs": [],
   "source": [
    "member = pd.concat( [member, pd.DataFrame(new_series).T] )"
   ]
  },
  {
   "cell_type": "code",
   "execution_count": 273,
   "id": "142003cb",
   "metadata": {
    "ExecuteTime": {
     "end_time": "2024-11-26T05:43:34.053410Z",
     "start_time": "2024-11-26T05:43:34.042428Z"
    }
   },
   "outputs": [
    {
     "data": {
      "text/html": [
       "<div>\n",
       "<style scoped>\n",
       "    .dataframe tbody tr th:only-of-type {\n",
       "        vertical-align: middle;\n",
       "    }\n",
       "\n",
       "    .dataframe tbody tr th {\n",
       "        vertical-align: top;\n",
       "    }\n",
       "\n",
       "    .dataframe thead th {\n",
       "        text-align: right;\n",
       "    }\n",
       "</style>\n",
       "<table border=\"1\" class=\"dataframe\">\n",
       "  <thead>\n",
       "    <tr style=\"text-align: right;\">\n",
       "      <th></th>\n",
       "      <th>Name</th>\n",
       "      <th>Age</th>\n",
       "      <th>Email</th>\n",
       "      <th>Address</th>\n",
       "      <th>Birth</th>\n",
       "    </tr>\n",
       "  </thead>\n",
       "  <tbody>\n",
       "    <tr>\n",
       "      <th>0</th>\n",
       "      <td>홍길동</td>\n",
       "      <td>20</td>\n",
       "      <td>hong@hong.com</td>\n",
       "      <td>서울시 강동구</td>\n",
       "      <td>1999-01-01</td>\n",
       "    </tr>\n",
       "    <tr>\n",
       "      <th>1</th>\n",
       "      <td>홍길서</td>\n",
       "      <td>30</td>\n",
       "      <td>seo@hong.com</td>\n",
       "      <td>서울시 중구</td>\n",
       "      <td>1999-12-01</td>\n",
       "    </tr>\n",
       "    <tr>\n",
       "      <th>2</th>\n",
       "      <td>홍길남</td>\n",
       "      <td>21</td>\n",
       "      <td>nam@hong.com</td>\n",
       "      <td>서울시 강동구</td>\n",
       "      <td>1999-11-01</td>\n",
       "    </tr>\n",
       "    <tr>\n",
       "      <th>3</th>\n",
       "      <td>홍길북</td>\n",
       "      <td>22</td>\n",
       "      <td>buk@hong.com</td>\n",
       "      <td>서울시 관악구</td>\n",
       "      <td>1999-05-01</td>\n",
       "    </tr>\n",
       "    <tr>\n",
       "      <th>4</th>\n",
       "      <td>홍길중</td>\n",
       "      <td>23</td>\n",
       "      <td>mid@hong.com</td>\n",
       "      <td>부산시 중구</td>\n",
       "      <td>1999-01-30</td>\n",
       "    </tr>\n",
       "    <tr>\n",
       "      <th>0</th>\n",
       "      <td>박이름</td>\n",
       "      <td>30</td>\n",
       "      <td>park@park.com</td>\n",
       "      <td>인천</td>\n",
       "      <td>2000-12-12</td>\n",
       "    </tr>\n",
       "  </tbody>\n",
       "</table>\n",
       "</div>"
      ],
      "text/plain": [
       "  Name Age          Email  Address       Birth\n",
       "0  홍길동  20  hong@hong.com  서울시 강동구  1999-01-01\n",
       "1  홍길서  30   seo@hong.com   서울시 중구  1999-12-01\n",
       "2  홍길남  21   nam@hong.com  서울시 강동구  1999-11-01\n",
       "3  홍길북  22   buk@hong.com  서울시 관악구  1999-05-01\n",
       "4  홍길중  23   mid@hong.com   부산시 중구  1999-01-30\n",
       "0  박이름  30  park@park.com       인천  2000-12-12"
      ]
     },
     "execution_count": 273,
     "metadata": {},
     "output_type": "execute_result"
    }
   ],
   "source": [
    "member"
   ]
  },
  {
   "cell_type": "code",
   "execution_count": 277,
   "id": "6e531b1d",
   "metadata": {
    "ExecuteTime": {
     "end_time": "2024-11-26T05:44:39.854846Z",
     "start_time": "2024-11-26T05:44:39.843077Z"
    }
   },
   "outputs": [
    {
     "data": {
      "text/html": [
       "<div>\n",
       "<style scoped>\n",
       "    .dataframe tbody tr th:only-of-type {\n",
       "        vertical-align: middle;\n",
       "    }\n",
       "\n",
       "    .dataframe tbody tr th {\n",
       "        vertical-align: top;\n",
       "    }\n",
       "\n",
       "    .dataframe thead th {\n",
       "        text-align: right;\n",
       "    }\n",
       "</style>\n",
       "<table border=\"1\" class=\"dataframe\">\n",
       "  <thead>\n",
       "    <tr style=\"text-align: right;\">\n",
       "      <th></th>\n",
       "      <th>Name</th>\n",
       "      <th>Age</th>\n",
       "      <th>Email</th>\n",
       "      <th>Address</th>\n",
       "      <th>Birth</th>\n",
       "    </tr>\n",
       "  </thead>\n",
       "  <tbody>\n",
       "    <tr>\n",
       "      <th>0</th>\n",
       "      <td>홍길동</td>\n",
       "      <td>20</td>\n",
       "      <td>hong@hong.com</td>\n",
       "      <td>서울시 강동구</td>\n",
       "      <td>1999-01-01</td>\n",
       "    </tr>\n",
       "    <tr>\n",
       "      <th>1</th>\n",
       "      <td>홍길서</td>\n",
       "      <td>30</td>\n",
       "      <td>seo@hong.com</td>\n",
       "      <td>서울시 중구</td>\n",
       "      <td>1999-12-01</td>\n",
       "    </tr>\n",
       "    <tr>\n",
       "      <th>2</th>\n",
       "      <td>홍길남</td>\n",
       "      <td>21</td>\n",
       "      <td>nam@hong.com</td>\n",
       "      <td>서울시 강동구</td>\n",
       "      <td>1999-11-01</td>\n",
       "    </tr>\n",
       "    <tr>\n",
       "      <th>3</th>\n",
       "      <td>홍길북</td>\n",
       "      <td>22</td>\n",
       "      <td>buk@hong.com</td>\n",
       "      <td>서울시 관악구</td>\n",
       "      <td>1999-05-01</td>\n",
       "    </tr>\n",
       "    <tr>\n",
       "      <th>4</th>\n",
       "      <td>홍길중</td>\n",
       "      <td>23</td>\n",
       "      <td>mid@hong.com</td>\n",
       "      <td>부산시 중구</td>\n",
       "      <td>1999-01-30</td>\n",
       "    </tr>\n",
       "    <tr>\n",
       "      <th>5</th>\n",
       "      <td>박이름</td>\n",
       "      <td>30</td>\n",
       "      <td>park@park.com</td>\n",
       "      <td>인천</td>\n",
       "      <td>2000-12-12</td>\n",
       "    </tr>\n",
       "  </tbody>\n",
       "</table>\n",
       "</div>"
      ],
      "text/plain": [
       "  Name Age          Email  Address       Birth\n",
       "0  홍길동  20  hong@hong.com  서울시 강동구  1999-01-01\n",
       "1  홍길서  30   seo@hong.com   서울시 중구  1999-12-01\n",
       "2  홍길남  21   nam@hong.com  서울시 강동구  1999-11-01\n",
       "3  홍길북  22   buk@hong.com  서울시 관악구  1999-05-01\n",
       "4  홍길중  23   mid@hong.com   부산시 중구  1999-01-30\n",
       "5  박이름  30  park@park.com       인천  2000-12-12"
      ]
     },
     "execution_count": 277,
     "metadata": {},
     "output_type": "execute_result"
    }
   ],
   "source": [
    "# member.index = range(len(member))\n",
    "member.reset_index(drop=True) # 기존의 index를 drop하고, 새로운 연속된 index 초기화"
   ]
  },
  {
   "cell_type": "markdown",
   "id": "d00d3eb6",
   "metadata": {},
   "source": [
    "# 6절. 병합과 연결\n",
    "## 6.1 merge()을 이용한 데이터 프레임 병합"
   ]
  },
  {
   "cell_type": "code",
   "execution_count": 286,
   "id": "872caa6c",
   "metadata": {
    "ExecuteTime": {
     "end_time": "2024-11-26T06:00:59.113385Z",
     "start_time": "2024-11-26T06:00:59.107294Z"
    }
   },
   "outputs": [],
   "source": [
    "df1 = pd.DataFrame( {'key': ['a', 'b', 'c', 'd'],\n",
    "                     'c1': [1, 2, 3, 4]})\n",
    "df2 = pd.DataFrame( {'key': ['a', 'b', 'c', 'f'],\n",
    "                     'c2': [5, 6, 7, 8]})\n",
    "# display(df1)\n",
    "# display(df2)"
   ]
  },
  {
   "cell_type": "code",
   "execution_count": 281,
   "id": "40427829",
   "metadata": {
    "ExecuteTime": {
     "end_time": "2024-11-26T05:53:40.027251Z",
     "start_time": "2024-11-26T05:53:40.011737Z"
    }
   },
   "outputs": [
    {
     "data": {
      "text/html": [
       "<div>\n",
       "<style scoped>\n",
       "    .dataframe tbody tr th:only-of-type {\n",
       "        vertical-align: middle;\n",
       "    }\n",
       "\n",
       "    .dataframe tbody tr th {\n",
       "        vertical-align: top;\n",
       "    }\n",
       "\n",
       "    .dataframe thead th {\n",
       "        text-align: right;\n",
       "    }\n",
       "</style>\n",
       "<table border=\"1\" class=\"dataframe\">\n",
       "  <thead>\n",
       "    <tr style=\"text-align: right;\">\n",
       "      <th></th>\n",
       "      <th>key</th>\n",
       "      <th>c1</th>\n",
       "      <th>c2</th>\n",
       "    </tr>\n",
       "  </thead>\n",
       "  <tbody>\n",
       "    <tr>\n",
       "      <th>0</th>\n",
       "      <td>a</td>\n",
       "      <td>1</td>\n",
       "      <td>5</td>\n",
       "    </tr>\n",
       "    <tr>\n",
       "      <th>1</th>\n",
       "      <td>b</td>\n",
       "      <td>2</td>\n",
       "      <td>6</td>\n",
       "    </tr>\n",
       "    <tr>\n",
       "      <th>2</th>\n",
       "      <td>c</td>\n",
       "      <td>3</td>\n",
       "      <td>7</td>\n",
       "    </tr>\n",
       "  </tbody>\n",
       "</table>\n",
       "</div>"
      ],
      "text/plain": [
       "  key  c1  c2\n",
       "0   a   1   5\n",
       "1   b   2   6\n",
       "2   c   3   7"
      ]
     },
     "execution_count": 281,
     "metadata": {},
     "output_type": "execute_result"
    }
   ],
   "source": [
    "df1.merge(df2) # how='inner': 내부조인(내부 병합)"
   ]
  },
  {
   "cell_type": "code",
   "execution_count": 282,
   "id": "202c941a",
   "metadata": {
    "ExecuteTime": {
     "end_time": "2024-11-26T05:55:25.335657Z",
     "start_time": "2024-11-26T05:55:25.320014Z"
    }
   },
   "outputs": [
    {
     "data": {
      "text/html": [
       "<div>\n",
       "<style scoped>\n",
       "    .dataframe tbody tr th:only-of-type {\n",
       "        vertical-align: middle;\n",
       "    }\n",
       "\n",
       "    .dataframe tbody tr th {\n",
       "        vertical-align: top;\n",
       "    }\n",
       "\n",
       "    .dataframe thead th {\n",
       "        text-align: right;\n",
       "    }\n",
       "</style>\n",
       "<table border=\"1\" class=\"dataframe\">\n",
       "  <thead>\n",
       "    <tr style=\"text-align: right;\">\n",
       "      <th></th>\n",
       "      <th>key</th>\n",
       "      <th>c1</th>\n",
       "      <th>c2</th>\n",
       "    </tr>\n",
       "  </thead>\n",
       "  <tbody>\n",
       "    <tr>\n",
       "      <th>0</th>\n",
       "      <td>a</td>\n",
       "      <td>1</td>\n",
       "      <td>5.0</td>\n",
       "    </tr>\n",
       "    <tr>\n",
       "      <th>1</th>\n",
       "      <td>b</td>\n",
       "      <td>2</td>\n",
       "      <td>6.0</td>\n",
       "    </tr>\n",
       "    <tr>\n",
       "      <th>2</th>\n",
       "      <td>c</td>\n",
       "      <td>3</td>\n",
       "      <td>7.0</td>\n",
       "    </tr>\n",
       "    <tr>\n",
       "      <th>3</th>\n",
       "      <td>d</td>\n",
       "      <td>4</td>\n",
       "      <td>NaN</td>\n",
       "    </tr>\n",
       "  </tbody>\n",
       "</table>\n",
       "</div>"
      ],
      "text/plain": [
       "  key  c1   c2\n",
       "0   a   1  5.0\n",
       "1   b   2  6.0\n",
       "2   c   3  7.0\n",
       "3   d   4  NaN"
      ]
     },
     "execution_count": 282,
     "metadata": {},
     "output_type": "execute_result"
    }
   ],
   "source": [
    "df1.merge(df2, how='left') # 왼쪽 데이터 프레임의 값까지 병합"
   ]
  },
  {
   "cell_type": "code",
   "execution_count": 283,
   "id": "559277a6",
   "metadata": {
    "ExecuteTime": {
     "end_time": "2024-11-26T05:57:52.531150Z",
     "start_time": "2024-11-26T05:57:52.518089Z"
    }
   },
   "outputs": [
    {
     "data": {
      "text/html": [
       "<div>\n",
       "<style scoped>\n",
       "    .dataframe tbody tr th:only-of-type {\n",
       "        vertical-align: middle;\n",
       "    }\n",
       "\n",
       "    .dataframe tbody tr th {\n",
       "        vertical-align: top;\n",
       "    }\n",
       "\n",
       "    .dataframe thead th {\n",
       "        text-align: right;\n",
       "    }\n",
       "</style>\n",
       "<table border=\"1\" class=\"dataframe\">\n",
       "  <thead>\n",
       "    <tr style=\"text-align: right;\">\n",
       "      <th></th>\n",
       "      <th>key</th>\n",
       "      <th>c1</th>\n",
       "      <th>c2</th>\n",
       "    </tr>\n",
       "  </thead>\n",
       "  <tbody>\n",
       "    <tr>\n",
       "      <th>0</th>\n",
       "      <td>a</td>\n",
       "      <td>1.0</td>\n",
       "      <td>5</td>\n",
       "    </tr>\n",
       "    <tr>\n",
       "      <th>1</th>\n",
       "      <td>b</td>\n",
       "      <td>2.0</td>\n",
       "      <td>6</td>\n",
       "    </tr>\n",
       "    <tr>\n",
       "      <th>2</th>\n",
       "      <td>c</td>\n",
       "      <td>3.0</td>\n",
       "      <td>7</td>\n",
       "    </tr>\n",
       "    <tr>\n",
       "      <th>3</th>\n",
       "      <td>f</td>\n",
       "      <td>NaN</td>\n",
       "      <td>8</td>\n",
       "    </tr>\n",
       "  </tbody>\n",
       "</table>\n",
       "</div>"
      ],
      "text/plain": [
       "  key   c1  c2\n",
       "0   a  1.0   5\n",
       "1   b  2.0   6\n",
       "2   c  3.0   7\n",
       "3   f  NaN   8"
      ]
     },
     "execution_count": 283,
     "metadata": {},
     "output_type": "execute_result"
    }
   ],
   "source": [
    "df1.merge(df2, how='right')"
   ]
  },
  {
   "cell_type": "code",
   "execution_count": 284,
   "id": "70bd0892",
   "metadata": {
    "ExecuteTime": {
     "end_time": "2024-11-26T05:58:47.583289Z",
     "start_time": "2024-11-26T05:58:47.568580Z"
    }
   },
   "outputs": [
    {
     "data": {
      "text/html": [
       "<div>\n",
       "<style scoped>\n",
       "    .dataframe tbody tr th:only-of-type {\n",
       "        vertical-align: middle;\n",
       "    }\n",
       "\n",
       "    .dataframe tbody tr th {\n",
       "        vertical-align: top;\n",
       "    }\n",
       "\n",
       "    .dataframe thead th {\n",
       "        text-align: right;\n",
       "    }\n",
       "</style>\n",
       "<table border=\"1\" class=\"dataframe\">\n",
       "  <thead>\n",
       "    <tr style=\"text-align: right;\">\n",
       "      <th></th>\n",
       "      <th>key</th>\n",
       "      <th>c1</th>\n",
       "      <th>c2</th>\n",
       "    </tr>\n",
       "  </thead>\n",
       "  <tbody>\n",
       "    <tr>\n",
       "      <th>0</th>\n",
       "      <td>a</td>\n",
       "      <td>1.0</td>\n",
       "      <td>5.0</td>\n",
       "    </tr>\n",
       "    <tr>\n",
       "      <th>1</th>\n",
       "      <td>b</td>\n",
       "      <td>2.0</td>\n",
       "      <td>6.0</td>\n",
       "    </tr>\n",
       "    <tr>\n",
       "      <th>2</th>\n",
       "      <td>c</td>\n",
       "      <td>3.0</td>\n",
       "      <td>7.0</td>\n",
       "    </tr>\n",
       "    <tr>\n",
       "      <th>3</th>\n",
       "      <td>d</td>\n",
       "      <td>4.0</td>\n",
       "      <td>NaN</td>\n",
       "    </tr>\n",
       "    <tr>\n",
       "      <th>4</th>\n",
       "      <td>f</td>\n",
       "      <td>NaN</td>\n",
       "      <td>8.0</td>\n",
       "    </tr>\n",
       "  </tbody>\n",
       "</table>\n",
       "</div>"
      ],
      "text/plain": [
       "  key   c1   c2\n",
       "0   a  1.0  5.0\n",
       "1   b  2.0  6.0\n",
       "2   c  3.0  7.0\n",
       "3   d  4.0  NaN\n",
       "4   f  NaN  8.0"
      ]
     },
     "execution_count": 284,
     "metadata": {},
     "output_type": "execute_result"
    }
   ],
   "source": [
    "df1.merge(df2, how='outer')"
   ]
  },
  {
   "cell_type": "code",
   "execution_count": 288,
   "id": "1469ea07",
   "metadata": {
    "ExecuteTime": {
     "end_time": "2024-11-26T06:01:24.585786Z",
     "start_time": "2024-11-26T06:01:24.579802Z"
    }
   },
   "outputs": [],
   "source": [
    "df3 = pd.DataFrame( {'key3': ['a', 'b', 'c', 'd'],\n",
    "                     'c1': [1, 2, 3, 4]})\n",
    "df4 = pd.DataFrame( {'key4': ['a', 'b', 'c', 'f'],\n",
    "                     'c2': [5, 6, 7, 8]})\n",
    "# display(df3)\n",
    "# display(df4)"
   ]
  },
  {
   "cell_type": "code",
   "execution_count": 290,
   "id": "0d1867cd",
   "metadata": {
    "ExecuteTime": {
     "end_time": "2024-11-26T06:13:40.041238Z",
     "start_time": "2024-11-26T06:13:40.030250Z"
    }
   },
   "outputs": [
    {
     "data": {
      "text/html": [
       "<div>\n",
       "<style scoped>\n",
       "    .dataframe tbody tr th:only-of-type {\n",
       "        vertical-align: middle;\n",
       "    }\n",
       "\n",
       "    .dataframe tbody tr th {\n",
       "        vertical-align: top;\n",
       "    }\n",
       "\n",
       "    .dataframe thead th {\n",
       "        text-align: right;\n",
       "    }\n",
       "</style>\n",
       "<table border=\"1\" class=\"dataframe\">\n",
       "  <thead>\n",
       "    <tr style=\"text-align: right;\">\n",
       "      <th></th>\n",
       "      <th>key3</th>\n",
       "      <th>c1</th>\n",
       "      <th>key4</th>\n",
       "      <th>c2</th>\n",
       "    </tr>\n",
       "  </thead>\n",
       "  <tbody>\n",
       "    <tr>\n",
       "      <th>0</th>\n",
       "      <td>a</td>\n",
       "      <td>1</td>\n",
       "      <td>a</td>\n",
       "      <td>5</td>\n",
       "    </tr>\n",
       "    <tr>\n",
       "      <th>1</th>\n",
       "      <td>b</td>\n",
       "      <td>2</td>\n",
       "      <td>b</td>\n",
       "      <td>6</td>\n",
       "    </tr>\n",
       "    <tr>\n",
       "      <th>2</th>\n",
       "      <td>c</td>\n",
       "      <td>3</td>\n",
       "      <td>c</td>\n",
       "      <td>7</td>\n",
       "    </tr>\n",
       "  </tbody>\n",
       "</table>\n",
       "</div>"
      ],
      "text/plain": [
       "  key3  c1 key4  c2\n",
       "0    a   1    a   5\n",
       "1    b   2    b   6\n",
       "2    c   3    c   7"
      ]
     },
     "execution_count": 290,
     "metadata": {},
     "output_type": "execute_result"
    }
   ],
   "source": [
    "df3.merge(df4, left_on='key3', right_on='key4') # how='inner' 생략"
   ]
  },
  {
   "cell_type": "code",
   "execution_count": 291,
   "id": "6e9d7879",
   "metadata": {
    "ExecuteTime": {
     "end_time": "2024-11-26T06:14:29.625286Z",
     "start_time": "2024-11-26T06:14:29.612303Z"
    }
   },
   "outputs": [
    {
     "data": {
      "text/html": [
       "<div>\n",
       "<style scoped>\n",
       "    .dataframe tbody tr th:only-of-type {\n",
       "        vertical-align: middle;\n",
       "    }\n",
       "\n",
       "    .dataframe tbody tr th {\n",
       "        vertical-align: top;\n",
       "    }\n",
       "\n",
       "    .dataframe thead th {\n",
       "        text-align: right;\n",
       "    }\n",
       "</style>\n",
       "<table border=\"1\" class=\"dataframe\">\n",
       "  <thead>\n",
       "    <tr style=\"text-align: right;\">\n",
       "      <th></th>\n",
       "      <th>key3</th>\n",
       "      <th>c1</th>\n",
       "      <th>key4</th>\n",
       "      <th>c2</th>\n",
       "    </tr>\n",
       "  </thead>\n",
       "  <tbody>\n",
       "    <tr>\n",
       "      <th>0</th>\n",
       "      <td>a</td>\n",
       "      <td>1.0</td>\n",
       "      <td>a</td>\n",
       "      <td>5.0</td>\n",
       "    </tr>\n",
       "    <tr>\n",
       "      <th>1</th>\n",
       "      <td>b</td>\n",
       "      <td>2.0</td>\n",
       "      <td>b</td>\n",
       "      <td>6.0</td>\n",
       "    </tr>\n",
       "    <tr>\n",
       "      <th>2</th>\n",
       "      <td>c</td>\n",
       "      <td>3.0</td>\n",
       "      <td>c</td>\n",
       "      <td>7.0</td>\n",
       "    </tr>\n",
       "    <tr>\n",
       "      <th>3</th>\n",
       "      <td>d</td>\n",
       "      <td>4.0</td>\n",
       "      <td>NaN</td>\n",
       "      <td>NaN</td>\n",
       "    </tr>\n",
       "    <tr>\n",
       "      <th>4</th>\n",
       "      <td>NaN</td>\n",
       "      <td>NaN</td>\n",
       "      <td>f</td>\n",
       "      <td>8.0</td>\n",
       "    </tr>\n",
       "  </tbody>\n",
       "</table>\n",
       "</div>"
      ],
      "text/plain": [
       "  key3   c1 key4   c2\n",
       "0    a  1.0    a  5.0\n",
       "1    b  2.0    b  6.0\n",
       "2    c  3.0    c  7.0\n",
       "3    d  4.0  NaN  NaN\n",
       "4  NaN  NaN    f  8.0"
      ]
     },
     "execution_count": 291,
     "metadata": {},
     "output_type": "execute_result"
    }
   ],
   "source": [
    "df3.merge(df4, left_on='key3', right_on='key4', how='outer')"
   ]
  },
  {
   "cell_type": "code",
   "execution_count": 292,
   "id": "c23e4c15",
   "metadata": {
    "ExecuteTime": {
     "end_time": "2024-11-26T06:15:19.790084Z",
     "start_time": "2024-11-26T06:15:19.780099Z"
    }
   },
   "outputs": [
    {
     "data": {
      "text/html": [
       "<div>\n",
       "<style scoped>\n",
       "    .dataframe tbody tr th:only-of-type {\n",
       "        vertical-align: middle;\n",
       "    }\n",
       "\n",
       "    .dataframe tbody tr th {\n",
       "        vertical-align: top;\n",
       "    }\n",
       "\n",
       "    .dataframe thead th {\n",
       "        text-align: right;\n",
       "    }\n",
       "</style>\n",
       "<table border=\"1\" class=\"dataframe\">\n",
       "  <thead>\n",
       "    <tr style=\"text-align: right;\">\n",
       "      <th></th>\n",
       "      <th>key3</th>\n",
       "      <th>c1</th>\n",
       "      <th>key4</th>\n",
       "      <th>c2</th>\n",
       "    </tr>\n",
       "  </thead>\n",
       "  <tbody>\n",
       "    <tr>\n",
       "      <th>0</th>\n",
       "      <td>a</td>\n",
       "      <td>1</td>\n",
       "      <td>a</td>\n",
       "      <td>5</td>\n",
       "    </tr>\n",
       "    <tr>\n",
       "      <th>1</th>\n",
       "      <td>b</td>\n",
       "      <td>2</td>\n",
       "      <td>b</td>\n",
       "      <td>6</td>\n",
       "    </tr>\n",
       "    <tr>\n",
       "      <th>2</th>\n",
       "      <td>c</td>\n",
       "      <td>3</td>\n",
       "      <td>c</td>\n",
       "      <td>7</td>\n",
       "    </tr>\n",
       "    <tr>\n",
       "      <th>3</th>\n",
       "      <td>d</td>\n",
       "      <td>4</td>\n",
       "      <td>f</td>\n",
       "      <td>8</td>\n",
       "    </tr>\n",
       "  </tbody>\n",
       "</table>\n",
       "</div>"
      ],
      "text/plain": [
       "  key3  c1 key4  c2\n",
       "0    a   1    a   5\n",
       "1    b   2    b   6\n",
       "2    c   3    c   7\n",
       "3    d   4    f   8"
      ]
     },
     "execution_count": 292,
     "metadata": {},
     "output_type": "execute_result"
    }
   ],
   "source": [
    "df3.merge(df4, left_index=True, right_index=True)\n",
    "# 인덱스를 기준으로 병합할 경우, left_index와 right_index 모두 기입해야 함"
   ]
  },
  {
   "cell_type": "markdown",
   "id": "3af14d82",
   "metadata": {},
   "source": [
    "## 6.2 concat()을 이용한 데이터 프레임 연결\n",
    "- pd.concat( [df1, df2], axis )\n",
    "    * axis=0(기본값): 위아래로 연결\n",
    "    * axis=1: 좌우로 연결"
   ]
  },
  {
   "cell_type": "code",
   "execution_count": 296,
   "id": "4bcec819",
   "metadata": {
    "ExecuteTime": {
     "end_time": "2024-11-26T06:21:55.329428Z",
     "start_time": "2024-11-26T06:21:55.308839Z"
    }
   },
   "outputs": [
    {
     "data": {
      "text/html": [
       "<div>\n",
       "<style scoped>\n",
       "    .dataframe tbody tr th:only-of-type {\n",
       "        vertical-align: middle;\n",
       "    }\n",
       "\n",
       "    .dataframe tbody tr th {\n",
       "        vertical-align: top;\n",
       "    }\n",
       "\n",
       "    .dataframe thead th {\n",
       "        text-align: right;\n",
       "    }\n",
       "</style>\n",
       "<table border=\"1\" class=\"dataframe\">\n",
       "  <thead>\n",
       "    <tr style=\"text-align: right;\">\n",
       "      <th></th>\n",
       "      <th>c1</th>\n",
       "      <th>c2</th>\n",
       "    </tr>\n",
       "  </thead>\n",
       "  <tbody>\n",
       "    <tr>\n",
       "      <th>0</th>\n",
       "      <td>1</td>\n",
       "      <td>a</td>\n",
       "    </tr>\n",
       "    <tr>\n",
       "      <th>1</th>\n",
       "      <td>2</td>\n",
       "      <td>b</td>\n",
       "    </tr>\n",
       "    <tr>\n",
       "      <th>2</th>\n",
       "      <td>3</td>\n",
       "      <td>c</td>\n",
       "    </tr>\n",
       "    <tr>\n",
       "      <th>3</th>\n",
       "      <td>4</td>\n",
       "      <td>d</td>\n",
       "    </tr>\n",
       "  </tbody>\n",
       "</table>\n",
       "</div>"
      ],
      "text/plain": [
       "   c1 c2\n",
       "0   1  a\n",
       "1   2  b\n",
       "2   3  c\n",
       "3   4  d"
      ]
     },
     "metadata": {},
     "output_type": "display_data"
    },
    {
     "data": {
      "text/html": [
       "<div>\n",
       "<style scoped>\n",
       "    .dataframe tbody tr th:only-of-type {\n",
       "        vertical-align: middle;\n",
       "    }\n",
       "\n",
       "    .dataframe tbody tr th {\n",
       "        vertical-align: top;\n",
       "    }\n",
       "\n",
       "    .dataframe thead th {\n",
       "        text-align: right;\n",
       "    }\n",
       "</style>\n",
       "<table border=\"1\" class=\"dataframe\">\n",
       "  <thead>\n",
       "    <tr style=\"text-align: right;\">\n",
       "      <th></th>\n",
       "      <th>c1</th>\n",
       "      <th>c2</th>\n",
       "    </tr>\n",
       "  </thead>\n",
       "  <tbody>\n",
       "    <tr>\n",
       "      <th>0</th>\n",
       "      <td>5</td>\n",
       "      <td>e</td>\n",
       "    </tr>\n",
       "    <tr>\n",
       "      <th>1</th>\n",
       "      <td>6</td>\n",
       "      <td>f</td>\n",
       "    </tr>\n",
       "    <tr>\n",
       "      <th>2</th>\n",
       "      <td>7</td>\n",
       "      <td>g</td>\n",
       "    </tr>\n",
       "    <tr>\n",
       "      <th>3</th>\n",
       "      <td>8</td>\n",
       "      <td>h</td>\n",
       "    </tr>\n",
       "  </tbody>\n",
       "</table>\n",
       "</div>"
      ],
      "text/plain": [
       "   c1 c2\n",
       "0   5  e\n",
       "1   6  f\n",
       "2   7  g\n",
       "3   8  h"
      ]
     },
     "metadata": {},
     "output_type": "display_data"
    },
    {
     "data": {
      "text/html": [
       "<div>\n",
       "<style scoped>\n",
       "    .dataframe tbody tr th:only-of-type {\n",
       "        vertical-align: middle;\n",
       "    }\n",
       "\n",
       "    .dataframe tbody tr th {\n",
       "        vertical-align: top;\n",
       "    }\n",
       "\n",
       "    .dataframe thead th {\n",
       "        text-align: right;\n",
       "    }\n",
       "</style>\n",
       "<table border=\"1\" class=\"dataframe\">\n",
       "  <thead>\n",
       "    <tr style=\"text-align: right;\">\n",
       "      <th></th>\n",
       "      <th>c1</th>\n",
       "      <th>c2</th>\n",
       "    </tr>\n",
       "  </thead>\n",
       "  <tbody>\n",
       "    <tr>\n",
       "      <th>0</th>\n",
       "      <td>1</td>\n",
       "      <td>a</td>\n",
       "    </tr>\n",
       "    <tr>\n",
       "      <th>1</th>\n",
       "      <td>2</td>\n",
       "      <td>b</td>\n",
       "    </tr>\n",
       "    <tr>\n",
       "      <th>2</th>\n",
       "      <td>3</td>\n",
       "      <td>c</td>\n",
       "    </tr>\n",
       "    <tr>\n",
       "      <th>3</th>\n",
       "      <td>4</td>\n",
       "      <td>d</td>\n",
       "    </tr>\n",
       "    <tr>\n",
       "      <th>4</th>\n",
       "      <td>5</td>\n",
       "      <td>e</td>\n",
       "    </tr>\n",
       "    <tr>\n",
       "      <th>5</th>\n",
       "      <td>6</td>\n",
       "      <td>f</td>\n",
       "    </tr>\n",
       "    <tr>\n",
       "      <th>6</th>\n",
       "      <td>7</td>\n",
       "      <td>g</td>\n",
       "    </tr>\n",
       "    <tr>\n",
       "      <th>7</th>\n",
       "      <td>8</td>\n",
       "      <td>h</td>\n",
       "    </tr>\n",
       "  </tbody>\n",
       "</table>\n",
       "</div>"
      ],
      "text/plain": [
       "   c1 c2\n",
       "0   1  a\n",
       "1   2  b\n",
       "2   3  c\n",
       "3   4  d\n",
       "4   5  e\n",
       "5   6  f\n",
       "6   7  g\n",
       "7   8  h"
      ]
     },
     "execution_count": 296,
     "metadata": {},
     "output_type": "execute_result"
    }
   ],
   "source": [
    "df1 = pd.DataFrame({'c1':[1, 2, 3, 4],\n",
    "                    'c2':['a', 'b', 'c', 'd']})\n",
    "df2 = pd.DataFrame({'c1':[5, 6, 7, 8],\n",
    "                    'c2':['e', 'f', 'g', 'h']})\n",
    "display(df1)\n",
    "display(df2)\n",
    "pd.concat([df1, df2]).reset_index(drop=True) # 위, 아래 연결"
   ]
  },
  {
   "cell_type": "code",
   "execution_count": 299,
   "id": "c733d0e6",
   "metadata": {
    "ExecuteTime": {
     "end_time": "2024-11-26T06:24:56.113872Z",
     "start_time": "2024-11-26T06:24:56.100197Z"
    }
   },
   "outputs": [
    {
     "data": {
      "text/html": [
       "<div>\n",
       "<style scoped>\n",
       "    .dataframe tbody tr th:only-of-type {\n",
       "        vertical-align: middle;\n",
       "    }\n",
       "\n",
       "    .dataframe tbody tr th {\n",
       "        vertical-align: top;\n",
       "    }\n",
       "\n",
       "    .dataframe thead th {\n",
       "        text-align: right;\n",
       "    }\n",
       "</style>\n",
       "<table border=\"1\" class=\"dataframe\">\n",
       "  <thead>\n",
       "    <tr style=\"text-align: right;\">\n",
       "      <th></th>\n",
       "      <th>c1</th>\n",
       "      <th>c2</th>\n",
       "      <th>c3</th>\n",
       "      <th>c4</th>\n",
       "    </tr>\n",
       "  </thead>\n",
       "  <tbody>\n",
       "    <tr>\n",
       "      <th>0</th>\n",
       "      <td>1</td>\n",
       "      <td>a</td>\n",
       "      <td>1.1</td>\n",
       "      <td>z</td>\n",
       "    </tr>\n",
       "    <tr>\n",
       "      <th>1</th>\n",
       "      <td>2</td>\n",
       "      <td>b</td>\n",
       "      <td>1.2</td>\n",
       "      <td>y</td>\n",
       "    </tr>\n",
       "    <tr>\n",
       "      <th>2</th>\n",
       "      <td>3</td>\n",
       "      <td>c</td>\n",
       "      <td>1.3</td>\n",
       "      <td>x</td>\n",
       "    </tr>\n",
       "    <tr>\n",
       "      <th>3</th>\n",
       "      <td>4</td>\n",
       "      <td>d</td>\n",
       "      <td>1.4</td>\n",
       "      <td>w</td>\n",
       "    </tr>\n",
       "  </tbody>\n",
       "</table>\n",
       "</div>"
      ],
      "text/plain": [
       "   c1 c2   c3 c4\n",
       "0   1  a  1.1  z\n",
       "1   2  b  1.2  y\n",
       "2   3  c  1.3  x\n",
       "3   4  d  1.4  w"
      ]
     },
     "execution_count": 299,
     "metadata": {},
     "output_type": "execute_result"
    }
   ],
   "source": [
    "df1 = pd.DataFrame({'c1':[1, 2, 3, 4],\n",
    "                    'c2':['a', 'b', 'c', 'd']})\n",
    "df2 = pd.DataFrame({'c3':[1.1, 1.2, 1.3, 1.4],\n",
    "                    'c4':['z', 'y', 'x', 'w']})\n",
    "pd.concat([df1, df2], axis=1) # 좌우로 연결"
   ]
  },
  {
   "cell_type": "markdown",
   "id": "cf278473",
   "metadata": {},
   "source": [
    "# 7절. 정렬(행이름, 열이름, 값에 의한 정렬)\n",
    "- df.sort_index(axis): 행 또는 열 이름으로 정렬\n",
    "- df.sort_values(by=[정렬기준이될 열이름들], ascending=T/F, inplace=T/F): 값에 의한 정렬"
   ]
  },
  {
   "cell_type": "code",
   "execution_count": 301,
   "id": "ede7f98f",
   "metadata": {
    "ExecuteTime": {
     "end_time": "2024-11-26T06:34:20.929922Z",
     "start_time": "2024-11-26T06:34:20.917558Z"
    }
   },
   "outputs": [
    {
     "data": {
      "text/html": [
       "<div>\n",
       "<style scoped>\n",
       "    .dataframe tbody tr th:only-of-type {\n",
       "        vertical-align: middle;\n",
       "    }\n",
       "\n",
       "    .dataframe tbody tr th {\n",
       "        vertical-align: top;\n",
       "    }\n",
       "\n",
       "    .dataframe thead th {\n",
       "        text-align: right;\n",
       "    }\n",
       "</style>\n",
       "<table border=\"1\" class=\"dataframe\">\n",
       "  <thead>\n",
       "    <tr style=\"text-align: right;\">\n",
       "      <th></th>\n",
       "      <th>Name</th>\n",
       "      <th>Age</th>\n",
       "      <th>Email</th>\n",
       "      <th>Address</th>\n",
       "      <th>Birth</th>\n",
       "    </tr>\n",
       "  </thead>\n",
       "  <tbody>\n",
       "    <tr>\n",
       "      <th>동</th>\n",
       "      <td>홍길동</td>\n",
       "      <td>20</td>\n",
       "      <td>hong@hong.com</td>\n",
       "      <td>서울시 강동구</td>\n",
       "      <td>1999-01-01</td>\n",
       "    </tr>\n",
       "    <tr>\n",
       "      <th>서</th>\n",
       "      <td>홍길서</td>\n",
       "      <td>30</td>\n",
       "      <td>seo@hong.com</td>\n",
       "      <td>서울시 중구</td>\n",
       "      <td>1999-12-01</td>\n",
       "    </tr>\n",
       "    <tr>\n",
       "      <th>남</th>\n",
       "      <td>홍길남</td>\n",
       "      <td>21</td>\n",
       "      <td>nam@hong.com</td>\n",
       "      <td>서울시 강동구</td>\n",
       "      <td>1999-11-01</td>\n",
       "    </tr>\n",
       "    <tr>\n",
       "      <th>북</th>\n",
       "      <td>홍길북</td>\n",
       "      <td>22</td>\n",
       "      <td>buk@hong.com</td>\n",
       "      <td>서울시 관악구</td>\n",
       "      <td>1999-05-01</td>\n",
       "    </tr>\n",
       "    <tr>\n",
       "      <th>중</th>\n",
       "      <td>홍길중</td>\n",
       "      <td>23</td>\n",
       "      <td>mid@hong.com</td>\n",
       "      <td>부산시 중구</td>\n",
       "      <td>1999-01-30</td>\n",
       "    </tr>\n",
       "  </tbody>\n",
       "</table>\n",
       "</div>"
      ],
      "text/plain": [
       "  Name  Age          Email  Address       Birth\n",
       "동  홍길동   20  hong@hong.com  서울시 강동구  1999-01-01\n",
       "서  홍길서   30   seo@hong.com   서울시 중구  1999-12-01\n",
       "남  홍길남   21   nam@hong.com  서울시 강동구  1999-11-01\n",
       "북  홍길북   22   buk@hong.com  서울시 관악구  1999-05-01\n",
       "중  홍길중   23   mid@hong.com   부산시 중구  1999-01-30"
      ]
     },
     "execution_count": 301,
     "metadata": {},
     "output_type": "execute_result"
    }
   ],
   "source": [
    "member = pd.read_csv('data/ch12_member.csv', comment='#')\n",
    "member.index = ['동', '서', '남', '북', '중']\n",
    "member"
   ]
  },
  {
   "cell_type": "markdown",
   "id": "9f374654",
   "metadata": {},
   "source": [
    "## 7.1 행이름으로 정렬"
   ]
  },
  {
   "cell_type": "code",
   "execution_count": 303,
   "id": "f5295fc6",
   "metadata": {
    "ExecuteTime": {
     "end_time": "2024-11-26T06:36:35.664291Z",
     "start_time": "2024-11-26T06:36:35.653321Z"
    }
   },
   "outputs": [
    {
     "data": {
      "text/html": [
       "<div>\n",
       "<style scoped>\n",
       "    .dataframe tbody tr th:only-of-type {\n",
       "        vertical-align: middle;\n",
       "    }\n",
       "\n",
       "    .dataframe tbody tr th {\n",
       "        vertical-align: top;\n",
       "    }\n",
       "\n",
       "    .dataframe thead th {\n",
       "        text-align: right;\n",
       "    }\n",
       "</style>\n",
       "<table border=\"1\" class=\"dataframe\">\n",
       "  <thead>\n",
       "    <tr style=\"text-align: right;\">\n",
       "      <th></th>\n",
       "      <th>Name</th>\n",
       "      <th>Age</th>\n",
       "      <th>Email</th>\n",
       "      <th>Address</th>\n",
       "      <th>Birth</th>\n",
       "    </tr>\n",
       "  </thead>\n",
       "  <tbody>\n",
       "    <tr>\n",
       "      <th>남</th>\n",
       "      <td>홍길남</td>\n",
       "      <td>21</td>\n",
       "      <td>nam@hong.com</td>\n",
       "      <td>서울시 강동구</td>\n",
       "      <td>1999-11-01</td>\n",
       "    </tr>\n",
       "    <tr>\n",
       "      <th>동</th>\n",
       "      <td>홍길동</td>\n",
       "      <td>20</td>\n",
       "      <td>hong@hong.com</td>\n",
       "      <td>서울시 강동구</td>\n",
       "      <td>1999-01-01</td>\n",
       "    </tr>\n",
       "    <tr>\n",
       "      <th>북</th>\n",
       "      <td>홍길북</td>\n",
       "      <td>22</td>\n",
       "      <td>buk@hong.com</td>\n",
       "      <td>서울시 관악구</td>\n",
       "      <td>1999-05-01</td>\n",
       "    </tr>\n",
       "    <tr>\n",
       "      <th>서</th>\n",
       "      <td>홍길서</td>\n",
       "      <td>30</td>\n",
       "      <td>seo@hong.com</td>\n",
       "      <td>서울시 중구</td>\n",
       "      <td>1999-12-01</td>\n",
       "    </tr>\n",
       "    <tr>\n",
       "      <th>중</th>\n",
       "      <td>홍길중</td>\n",
       "      <td>23</td>\n",
       "      <td>mid@hong.com</td>\n",
       "      <td>부산시 중구</td>\n",
       "      <td>1999-01-30</td>\n",
       "    </tr>\n",
       "  </tbody>\n",
       "</table>\n",
       "</div>"
      ],
      "text/plain": [
       "  Name  Age          Email  Address       Birth\n",
       "남  홍길남   21   nam@hong.com  서울시 강동구  1999-11-01\n",
       "동  홍길동   20  hong@hong.com  서울시 강동구  1999-01-01\n",
       "북  홍길북   22   buk@hong.com  서울시 관악구  1999-05-01\n",
       "서  홍길서   30   seo@hong.com   서울시 중구  1999-12-01\n",
       "중  홍길중   23   mid@hong.com   부산시 중구  1999-01-30"
      ]
     },
     "execution_count": 303,
     "metadata": {},
     "output_type": "execute_result"
    }
   ],
   "source": [
    "member.sort_index(axis=0, inplace=True)\n",
    "member.sort_index(axis='rows', inplace=True)\n",
    "member"
   ]
  },
  {
   "cell_type": "markdown",
   "id": "9322472e",
   "metadata": {},
   "source": [
    "## 7.2 열이름으로 정렬"
   ]
  },
  {
   "cell_type": "code",
   "execution_count": 305,
   "id": "71d66eb6",
   "metadata": {
    "ExecuteTime": {
     "end_time": "2024-11-26T06:37:58.102644Z",
     "start_time": "2024-11-26T06:37:58.093840Z"
    }
   },
   "outputs": [
    {
     "data": {
      "text/html": [
       "<div>\n",
       "<style scoped>\n",
       "    .dataframe tbody tr th:only-of-type {\n",
       "        vertical-align: middle;\n",
       "    }\n",
       "\n",
       "    .dataframe tbody tr th {\n",
       "        vertical-align: top;\n",
       "    }\n",
       "\n",
       "    .dataframe thead th {\n",
       "        text-align: right;\n",
       "    }\n",
       "</style>\n",
       "<table border=\"1\" class=\"dataframe\">\n",
       "  <thead>\n",
       "    <tr style=\"text-align: right;\">\n",
       "      <th></th>\n",
       "      <th>Address</th>\n",
       "      <th>Age</th>\n",
       "      <th>Birth</th>\n",
       "      <th>Email</th>\n",
       "      <th>Name</th>\n",
       "    </tr>\n",
       "  </thead>\n",
       "  <tbody>\n",
       "    <tr>\n",
       "      <th>남</th>\n",
       "      <td>서울시 강동구</td>\n",
       "      <td>21</td>\n",
       "      <td>1999-11-01</td>\n",
       "      <td>nam@hong.com</td>\n",
       "      <td>홍길남</td>\n",
       "    </tr>\n",
       "    <tr>\n",
       "      <th>동</th>\n",
       "      <td>서울시 강동구</td>\n",
       "      <td>20</td>\n",
       "      <td>1999-01-01</td>\n",
       "      <td>hong@hong.com</td>\n",
       "      <td>홍길동</td>\n",
       "    </tr>\n",
       "    <tr>\n",
       "      <th>북</th>\n",
       "      <td>서울시 관악구</td>\n",
       "      <td>22</td>\n",
       "      <td>1999-05-01</td>\n",
       "      <td>buk@hong.com</td>\n",
       "      <td>홍길북</td>\n",
       "    </tr>\n",
       "    <tr>\n",
       "      <th>서</th>\n",
       "      <td>서울시 중구</td>\n",
       "      <td>30</td>\n",
       "      <td>1999-12-01</td>\n",
       "      <td>seo@hong.com</td>\n",
       "      <td>홍길서</td>\n",
       "    </tr>\n",
       "    <tr>\n",
       "      <th>중</th>\n",
       "      <td>부산시 중구</td>\n",
       "      <td>23</td>\n",
       "      <td>1999-01-30</td>\n",
       "      <td>mid@hong.com</td>\n",
       "      <td>홍길중</td>\n",
       "    </tr>\n",
       "  </tbody>\n",
       "</table>\n",
       "</div>"
      ],
      "text/plain": [
       "   Address  Age       Birth          Email Name\n",
       "남  서울시 강동구   21  1999-11-01   nam@hong.com  홍길남\n",
       "동  서울시 강동구   20  1999-01-01  hong@hong.com  홍길동\n",
       "북  서울시 관악구   22  1999-05-01   buk@hong.com  홍길북\n",
       "서   서울시 중구   30  1999-12-01   seo@hong.com  홍길서\n",
       "중   부산시 중구   23  1999-01-30   mid@hong.com  홍길중"
      ]
     },
     "execution_count": 305,
     "metadata": {},
     "output_type": "execute_result"
    }
   ],
   "source": [
    "member = member.sort_index(axis=1)\n",
    "# member = member.sort_index(axis='columns')\n",
    "member"
   ]
  },
  {
   "cell_type": "markdown",
   "id": "16db0ec0",
   "metadata": {},
   "source": [
    "## 7.3 값에 의한 정렬"
   ]
  },
  {
   "cell_type": "code",
   "execution_count": 311,
   "id": "9556011c",
   "metadata": {
    "ExecuteTime": {
     "end_time": "2024-11-26T06:40:29.407756Z",
     "start_time": "2024-11-26T06:40:29.395782Z"
    }
   },
   "outputs": [
    {
     "data": {
      "text/html": [
       "<div>\n",
       "<style scoped>\n",
       "    .dataframe tbody tr th:only-of-type {\n",
       "        vertical-align: middle;\n",
       "    }\n",
       "\n",
       "    .dataframe tbody tr th {\n",
       "        vertical-align: top;\n",
       "    }\n",
       "\n",
       "    .dataframe thead th {\n",
       "        text-align: right;\n",
       "    }\n",
       "</style>\n",
       "<table border=\"1\" class=\"dataframe\">\n",
       "  <thead>\n",
       "    <tr style=\"text-align: right;\">\n",
       "      <th></th>\n",
       "      <th>Address</th>\n",
       "      <th>Age</th>\n",
       "      <th>Birth</th>\n",
       "      <th>Email</th>\n",
       "      <th>Name</th>\n",
       "    </tr>\n",
       "  </thead>\n",
       "  <tbody>\n",
       "    <tr>\n",
       "      <th>동</th>\n",
       "      <td>서울시 강동구</td>\n",
       "      <td>20</td>\n",
       "      <td>1999-01-01</td>\n",
       "      <td>hong@hong.com</td>\n",
       "      <td>홍길동</td>\n",
       "    </tr>\n",
       "    <tr>\n",
       "      <th>남</th>\n",
       "      <td>서울시 강동구</td>\n",
       "      <td>21</td>\n",
       "      <td>1999-11-01</td>\n",
       "      <td>nam@hong.com</td>\n",
       "      <td>홍길남</td>\n",
       "    </tr>\n",
       "    <tr>\n",
       "      <th>북</th>\n",
       "      <td>서울시 관악구</td>\n",
       "      <td>22</td>\n",
       "      <td>1999-05-01</td>\n",
       "      <td>buk@hong.com</td>\n",
       "      <td>홍길북</td>\n",
       "    </tr>\n",
       "    <tr>\n",
       "      <th>중</th>\n",
       "      <td>부산시 중구</td>\n",
       "      <td>23</td>\n",
       "      <td>1999-01-30</td>\n",
       "      <td>mid@hong.com</td>\n",
       "      <td>홍길중</td>\n",
       "    </tr>\n",
       "    <tr>\n",
       "      <th>서</th>\n",
       "      <td>서울시 중구</td>\n",
       "      <td>30</td>\n",
       "      <td>1999-12-01</td>\n",
       "      <td>seo@hong.com</td>\n",
       "      <td>홍길서</td>\n",
       "    </tr>\n",
       "  </tbody>\n",
       "</table>\n",
       "</div>"
      ],
      "text/plain": [
       "   Address  Age       Birth          Email Name\n",
       "동  서울시 강동구   20  1999-01-01  hong@hong.com  홍길동\n",
       "남  서울시 강동구   21  1999-11-01   nam@hong.com  홍길남\n",
       "북  서울시 관악구   22  1999-05-01   buk@hong.com  홍길북\n",
       "중   부산시 중구   23  1999-01-30   mid@hong.com  홍길중\n",
       "서   서울시 중구   30  1999-12-01   seo@hong.com  홍길서"
      ]
     },
     "execution_count": 311,
     "metadata": {},
     "output_type": "execute_result"
    }
   ],
   "source": [
    "member.sort_values(by = 'Age') # Age 기준으로 오름차순 정렬(ascending=True)"
   ]
  },
  {
   "cell_type": "code",
   "execution_count": 312,
   "id": "92f33b4a",
   "metadata": {
    "ExecuteTime": {
     "end_time": "2024-11-26T06:41:59.184277Z",
     "start_time": "2024-11-26T06:41:59.173280Z"
    }
   },
   "outputs": [
    {
     "data": {
      "text/html": [
       "<div>\n",
       "<style scoped>\n",
       "    .dataframe tbody tr th:only-of-type {\n",
       "        vertical-align: middle;\n",
       "    }\n",
       "\n",
       "    .dataframe tbody tr th {\n",
       "        vertical-align: top;\n",
       "    }\n",
       "\n",
       "    .dataframe thead th {\n",
       "        text-align: right;\n",
       "    }\n",
       "</style>\n",
       "<table border=\"1\" class=\"dataframe\">\n",
       "  <thead>\n",
       "    <tr style=\"text-align: right;\">\n",
       "      <th></th>\n",
       "      <th>Address</th>\n",
       "      <th>Age</th>\n",
       "      <th>Birth</th>\n",
       "      <th>Email</th>\n",
       "      <th>Name</th>\n",
       "    </tr>\n",
       "  </thead>\n",
       "  <tbody>\n",
       "    <tr>\n",
       "      <th>서</th>\n",
       "      <td>서울시 중구</td>\n",
       "      <td>30</td>\n",
       "      <td>1999-12-01</td>\n",
       "      <td>seo@hong.com</td>\n",
       "      <td>홍길서</td>\n",
       "    </tr>\n",
       "    <tr>\n",
       "      <th>중</th>\n",
       "      <td>부산시 중구</td>\n",
       "      <td>23</td>\n",
       "      <td>1999-01-30</td>\n",
       "      <td>mid@hong.com</td>\n",
       "      <td>홍길중</td>\n",
       "    </tr>\n",
       "    <tr>\n",
       "      <th>북</th>\n",
       "      <td>서울시 관악구</td>\n",
       "      <td>22</td>\n",
       "      <td>1999-05-01</td>\n",
       "      <td>buk@hong.com</td>\n",
       "      <td>홍길북</td>\n",
       "    </tr>\n",
       "    <tr>\n",
       "      <th>남</th>\n",
       "      <td>서울시 강동구</td>\n",
       "      <td>21</td>\n",
       "      <td>1999-11-01</td>\n",
       "      <td>nam@hong.com</td>\n",
       "      <td>홍길남</td>\n",
       "    </tr>\n",
       "    <tr>\n",
       "      <th>동</th>\n",
       "      <td>서울시 강동구</td>\n",
       "      <td>20</td>\n",
       "      <td>1999-01-01</td>\n",
       "      <td>hong@hong.com</td>\n",
       "      <td>홍길동</td>\n",
       "    </tr>\n",
       "  </tbody>\n",
       "</table>\n",
       "</div>"
      ],
      "text/plain": [
       "   Address  Age       Birth          Email Name\n",
       "서   서울시 중구   30  1999-12-01   seo@hong.com  홍길서\n",
       "중   부산시 중구   23  1999-01-30   mid@hong.com  홍길중\n",
       "북  서울시 관악구   22  1999-05-01   buk@hong.com  홍길북\n",
       "남  서울시 강동구   21  1999-11-01   nam@hong.com  홍길남\n",
       "동  서울시 강동구   20  1999-01-01  hong@hong.com  홍길동"
      ]
     },
     "execution_count": 312,
     "metadata": {},
     "output_type": "execute_result"
    }
   ],
   "source": [
    "member.sort_values(by = 'Age', ascending=False) # Age 기준으로 내림차순 정렬"
   ]
  },
  {
   "cell_type": "code",
   "execution_count": 313,
   "id": "ffea862b",
   "metadata": {
    "ExecuteTime": {
     "end_time": "2024-11-26T06:42:25.648819Z",
     "start_time": "2024-11-26T06:42:25.637840Z"
    }
   },
   "outputs": [
    {
     "data": {
      "text/html": [
       "<div>\n",
       "<style scoped>\n",
       "    .dataframe tbody tr th:only-of-type {\n",
       "        vertical-align: middle;\n",
       "    }\n",
       "\n",
       "    .dataframe tbody tr th {\n",
       "        vertical-align: top;\n",
       "    }\n",
       "\n",
       "    .dataframe thead th {\n",
       "        text-align: right;\n",
       "    }\n",
       "</style>\n",
       "<table border=\"1\" class=\"dataframe\">\n",
       "  <thead>\n",
       "    <tr style=\"text-align: right;\">\n",
       "      <th></th>\n",
       "      <th>Address</th>\n",
       "      <th>Age</th>\n",
       "      <th>Birth</th>\n",
       "      <th>Email</th>\n",
       "      <th>Name</th>\n",
       "    </tr>\n",
       "  </thead>\n",
       "  <tbody>\n",
       "    <tr>\n",
       "      <th>동</th>\n",
       "      <td>서울시 강동구</td>\n",
       "      <td>20</td>\n",
       "      <td>1999-01-01</td>\n",
       "      <td>hong@hong.com</td>\n",
       "      <td>홍길동</td>\n",
       "    </tr>\n",
       "    <tr>\n",
       "      <th>남</th>\n",
       "      <td>서울시 강동구</td>\n",
       "      <td>21</td>\n",
       "      <td>1999-11-01</td>\n",
       "      <td>nam@hong.com</td>\n",
       "      <td>홍길남</td>\n",
       "    </tr>\n",
       "    <tr>\n",
       "      <th>북</th>\n",
       "      <td>서울시 관악구</td>\n",
       "      <td>22</td>\n",
       "      <td>1999-05-01</td>\n",
       "      <td>buk@hong.com</td>\n",
       "      <td>홍길북</td>\n",
       "    </tr>\n",
       "    <tr>\n",
       "      <th>중</th>\n",
       "      <td>부산시 중구</td>\n",
       "      <td>23</td>\n",
       "      <td>1999-01-30</td>\n",
       "      <td>mid@hong.com</td>\n",
       "      <td>홍길중</td>\n",
       "    </tr>\n",
       "    <tr>\n",
       "      <th>서</th>\n",
       "      <td>서울시 중구</td>\n",
       "      <td>30</td>\n",
       "      <td>1999-12-01</td>\n",
       "      <td>seo@hong.com</td>\n",
       "      <td>홍길서</td>\n",
       "    </tr>\n",
       "  </tbody>\n",
       "</table>\n",
       "</div>"
      ],
      "text/plain": [
       "   Address  Age       Birth          Email Name\n",
       "동  서울시 강동구   20  1999-01-01  hong@hong.com  홍길동\n",
       "남  서울시 강동구   21  1999-11-01   nam@hong.com  홍길남\n",
       "북  서울시 관악구   22  1999-05-01   buk@hong.com  홍길북\n",
       "중   부산시 중구   23  1999-01-30   mid@hong.com  홍길중\n",
       "서   서울시 중구   30  1999-12-01   seo@hong.com  홍길서"
      ]
     },
     "execution_count": 313,
     "metadata": {},
     "output_type": "execute_result"
    }
   ],
   "source": [
    "# Age 기준으로 오름차순, Age 같으면 Email 기준 오름차순\n",
    "member.sort_values(by = ['Age', 'Email']) "
   ]
  },
  {
   "cell_type": "code",
   "execution_count": 315,
   "id": "3b8d5f5e",
   "metadata": {
    "ExecuteTime": {
     "end_time": "2024-11-26T06:45:29.488160Z",
     "start_time": "2024-11-26T06:45:29.476985Z"
    }
   },
   "outputs": [
    {
     "data": {
      "text/html": [
       "<div>\n",
       "<style scoped>\n",
       "    .dataframe tbody tr th:only-of-type {\n",
       "        vertical-align: middle;\n",
       "    }\n",
       "\n",
       "    .dataframe tbody tr th {\n",
       "        vertical-align: top;\n",
       "    }\n",
       "\n",
       "    .dataframe thead th {\n",
       "        text-align: right;\n",
       "    }\n",
       "</style>\n",
       "<table border=\"1\" class=\"dataframe\">\n",
       "  <thead>\n",
       "    <tr style=\"text-align: right;\">\n",
       "      <th></th>\n",
       "      <th>Address</th>\n",
       "      <th>Age</th>\n",
       "      <th>Birth</th>\n",
       "      <th>Email</th>\n",
       "      <th>Name</th>\n",
       "    </tr>\n",
       "  </thead>\n",
       "  <tbody>\n",
       "    <tr>\n",
       "      <th>남</th>\n",
       "      <td>서울시 강동구</td>\n",
       "      <td>20</td>\n",
       "      <td>1999-11-01</td>\n",
       "      <td>nam@hong.com</td>\n",
       "      <td>홍길남</td>\n",
       "    </tr>\n",
       "    <tr>\n",
       "      <th>동</th>\n",
       "      <td>서울시 강동구</td>\n",
       "      <td>20</td>\n",
       "      <td>1999-01-01</td>\n",
       "      <td>hong@hong.com</td>\n",
       "      <td>홍길동</td>\n",
       "    </tr>\n",
       "    <tr>\n",
       "      <th>북</th>\n",
       "      <td>서울시 관악구</td>\n",
       "      <td>20</td>\n",
       "      <td>1999-05-01</td>\n",
       "      <td>buk@hong.com</td>\n",
       "      <td>홍길북</td>\n",
       "    </tr>\n",
       "    <tr>\n",
       "      <th>서</th>\n",
       "      <td>서울시 중구</td>\n",
       "      <td>30</td>\n",
       "      <td>1999-12-01</td>\n",
       "      <td>seo@hong.com</td>\n",
       "      <td>홍길서</td>\n",
       "    </tr>\n",
       "    <tr>\n",
       "      <th>중</th>\n",
       "      <td>부산시 중구</td>\n",
       "      <td>30</td>\n",
       "      <td>1999-01-30</td>\n",
       "      <td>mid@hong.com</td>\n",
       "      <td>홍길중</td>\n",
       "    </tr>\n",
       "  </tbody>\n",
       "</table>\n",
       "</div>"
      ],
      "text/plain": [
       "   Address  Age       Birth          Email Name\n",
       "남  서울시 강동구   20  1999-11-01   nam@hong.com  홍길남\n",
       "동  서울시 강동구   20  1999-01-01  hong@hong.com  홍길동\n",
       "북  서울시 관악구   20  1999-05-01   buk@hong.com  홍길북\n",
       "서   서울시 중구   30  1999-12-01   seo@hong.com  홍길서\n",
       "중   부산시 중구   30  1999-01-30   mid@hong.com  홍길중"
      ]
     },
     "execution_count": 315,
     "metadata": {},
     "output_type": "execute_result"
    }
   ],
   "source": [
    "member.loc[:, 'Age'] = [20, 20, 20, 30, 30,]\n",
    "member"
   ]
  },
  {
   "cell_type": "code",
   "execution_count": 317,
   "id": "6d250c1c",
   "metadata": {
    "ExecuteTime": {
     "end_time": "2024-11-26T06:46:08.472110Z",
     "start_time": "2024-11-26T06:46:08.461284Z"
    }
   },
   "outputs": [
    {
     "data": {
      "text/html": [
       "<div>\n",
       "<style scoped>\n",
       "    .dataframe tbody tr th:only-of-type {\n",
       "        vertical-align: middle;\n",
       "    }\n",
       "\n",
       "    .dataframe tbody tr th {\n",
       "        vertical-align: top;\n",
       "    }\n",
       "\n",
       "    .dataframe thead th {\n",
       "        text-align: right;\n",
       "    }\n",
       "</style>\n",
       "<table border=\"1\" class=\"dataframe\">\n",
       "  <thead>\n",
       "    <tr style=\"text-align: right;\">\n",
       "      <th></th>\n",
       "      <th>Address</th>\n",
       "      <th>Age</th>\n",
       "      <th>Birth</th>\n",
       "      <th>Email</th>\n",
       "      <th>Name</th>\n",
       "    </tr>\n",
       "  </thead>\n",
       "  <tbody>\n",
       "    <tr>\n",
       "      <th>중</th>\n",
       "      <td>부산시 중구</td>\n",
       "      <td>30</td>\n",
       "      <td>1999-01-30</td>\n",
       "      <td>mid@hong.com</td>\n",
       "      <td>홍길중</td>\n",
       "    </tr>\n",
       "    <tr>\n",
       "      <th>서</th>\n",
       "      <td>서울시 중구</td>\n",
       "      <td>30</td>\n",
       "      <td>1999-12-01</td>\n",
       "      <td>seo@hong.com</td>\n",
       "      <td>홍길서</td>\n",
       "    </tr>\n",
       "    <tr>\n",
       "      <th>북</th>\n",
       "      <td>서울시 관악구</td>\n",
       "      <td>20</td>\n",
       "      <td>1999-05-01</td>\n",
       "      <td>buk@hong.com</td>\n",
       "      <td>홍길북</td>\n",
       "    </tr>\n",
       "    <tr>\n",
       "      <th>동</th>\n",
       "      <td>서울시 강동구</td>\n",
       "      <td>20</td>\n",
       "      <td>1999-01-01</td>\n",
       "      <td>hong@hong.com</td>\n",
       "      <td>홍길동</td>\n",
       "    </tr>\n",
       "    <tr>\n",
       "      <th>남</th>\n",
       "      <td>서울시 강동구</td>\n",
       "      <td>20</td>\n",
       "      <td>1999-11-01</td>\n",
       "      <td>nam@hong.com</td>\n",
       "      <td>홍길남</td>\n",
       "    </tr>\n",
       "  </tbody>\n",
       "</table>\n",
       "</div>"
      ],
      "text/plain": [
       "   Address  Age       Birth          Email Name\n",
       "중   부산시 중구   30  1999-01-30   mid@hong.com  홍길중\n",
       "서   서울시 중구   30  1999-12-01   seo@hong.com  홍길서\n",
       "북  서울시 관악구   20  1999-05-01   buk@hong.com  홍길북\n",
       "동  서울시 강동구   20  1999-01-01  hong@hong.com  홍길동\n",
       "남  서울시 강동구   20  1999-11-01   nam@hong.com  홍길남"
      ]
     },
     "execution_count": 317,
     "metadata": {},
     "output_type": "execute_result"
    }
   ],
   "source": [
    "# Age 기준으로 내림차순, Age 같으면 Email 기준 오름차순\n",
    "member.sort_values(by = ['Age', 'Email'], ascending=[False, True])"
   ]
  },
  {
   "cell_type": "code",
   "execution_count": 318,
   "id": "729e5328",
   "metadata": {
    "ExecuteTime": {
     "end_time": "2024-11-26T06:50:49.766782Z",
     "start_time": "2024-11-26T06:50:49.749205Z"
    }
   },
   "outputs": [
    {
     "data": {
      "text/html": [
       "<div>\n",
       "<style scoped>\n",
       "    .dataframe tbody tr th:only-of-type {\n",
       "        vertical-align: middle;\n",
       "    }\n",
       "\n",
       "    .dataframe tbody tr th {\n",
       "        vertical-align: top;\n",
       "    }\n",
       "\n",
       "    .dataframe thead th {\n",
       "        text-align: right;\n",
       "    }\n",
       "</style>\n",
       "<table border=\"1\" class=\"dataframe\">\n",
       "  <thead>\n",
       "    <tr style=\"text-align: right;\">\n",
       "      <th></th>\n",
       "      <th>sepal_length</th>\n",
       "      <th>sepal_width</th>\n",
       "      <th>petal_length</th>\n",
       "      <th>petal_width</th>\n",
       "      <th>species</th>\n",
       "    </tr>\n",
       "  </thead>\n",
       "  <tbody>\n",
       "    <tr>\n",
       "      <th>0</th>\n",
       "      <td>5.1</td>\n",
       "      <td>3.5</td>\n",
       "      <td>1.4</td>\n",
       "      <td>0.2</td>\n",
       "      <td>setosa</td>\n",
       "    </tr>\n",
       "    <tr>\n",
       "      <th>1</th>\n",
       "      <td>4.9</td>\n",
       "      <td>3.0</td>\n",
       "      <td>1.4</td>\n",
       "      <td>0.2</td>\n",
       "      <td>setosa</td>\n",
       "    </tr>\n",
       "    <tr>\n",
       "      <th>2</th>\n",
       "      <td>4.7</td>\n",
       "      <td>3.2</td>\n",
       "      <td>1.3</td>\n",
       "      <td>0.2</td>\n",
       "      <td>setosa</td>\n",
       "    </tr>\n",
       "    <tr>\n",
       "      <th>3</th>\n",
       "      <td>4.6</td>\n",
       "      <td>3.1</td>\n",
       "      <td>1.5</td>\n",
       "      <td>0.2</td>\n",
       "      <td>setosa</td>\n",
       "    </tr>\n",
       "    <tr>\n",
       "      <th>4</th>\n",
       "      <td>5.0</td>\n",
       "      <td>3.6</td>\n",
       "      <td>1.4</td>\n",
       "      <td>0.2</td>\n",
       "      <td>setosa</td>\n",
       "    </tr>\n",
       "  </tbody>\n",
       "</table>\n",
       "</div>"
      ],
      "text/plain": [
       "   sepal_length  sepal_width  petal_length  petal_width species\n",
       "0           5.1          3.5           1.4          0.2  setosa\n",
       "1           4.9          3.0           1.4          0.2  setosa\n",
       "2           4.7          3.2           1.3          0.2  setosa\n",
       "3           4.6          3.1           1.5          0.2  setosa\n",
       "4           5.0          3.6           1.4          0.2  setosa"
      ]
     },
     "execution_count": 318,
     "metadata": {},
     "output_type": "execute_result"
    }
   ],
   "source": [
    "# iris 데이터를 \n",
    "import seaborn as sns\n",
    "iris = sns.load_dataset('iris')\n",
    "iris.head()"
   ]
  },
  {
   "cell_type": "code",
   "execution_count": 320,
   "id": "15621d84",
   "metadata": {
    "ExecuteTime": {
     "end_time": "2024-11-26T06:52:59.264335Z",
     "start_time": "2024-11-26T06:52:59.257409Z"
    }
   },
   "outputs": [],
   "source": [
    "# (1)sepal_length기준(sepal_length가 같으면 sepal_width기준) 정렬을 적용 \n",
    "iris.sort_values(by = ['sepal_length', 'sepal_width'], inplace=True)"
   ]
  },
  {
   "cell_type": "code",
   "execution_count": 324,
   "id": "84f916f5",
   "metadata": {
    "ExecuteTime": {
     "end_time": "2024-11-26T07:00:35.882910Z",
     "start_time": "2024-11-26T07:00:35.878915Z"
    }
   },
   "outputs": [],
   "source": [
    "# (2)index 기준으로 정렬해서 iris에 적용\n",
    "iris.sort_index(inplace=True)"
   ]
  },
  {
   "cell_type": "code",
   "execution_count": 325,
   "id": "414e9fa0",
   "metadata": {
    "ExecuteTime": {
     "end_time": "2024-11-26T07:00:37.913002Z",
     "start_time": "2024-11-26T07:00:37.858268Z"
    }
   },
   "outputs": [
    {
     "data": {
      "text/html": [
       "<div>\n",
       "<style scoped>\n",
       "    .dataframe tbody tr th:only-of-type {\n",
       "        vertical-align: middle;\n",
       "    }\n",
       "\n",
       "    .dataframe tbody tr th {\n",
       "        vertical-align: top;\n",
       "    }\n",
       "\n",
       "    .dataframe thead th {\n",
       "        text-align: right;\n",
       "    }\n",
       "</style>\n",
       "<table border=\"1\" class=\"dataframe\">\n",
       "  <thead>\n",
       "    <tr style=\"text-align: right;\">\n",
       "      <th></th>\n",
       "      <th>petal_length</th>\n",
       "      <th>petal_width</th>\n",
       "      <th>sepal_length</th>\n",
       "      <th>sepal_width</th>\n",
       "      <th>species</th>\n",
       "    </tr>\n",
       "  </thead>\n",
       "  <tbody>\n",
       "    <tr>\n",
       "      <th>0</th>\n",
       "      <td>1.4</td>\n",
       "      <td>0.2</td>\n",
       "      <td>5.1</td>\n",
       "      <td>3.5</td>\n",
       "      <td>setosa</td>\n",
       "    </tr>\n",
       "    <tr>\n",
       "      <th>1</th>\n",
       "      <td>1.4</td>\n",
       "      <td>0.2</td>\n",
       "      <td>4.9</td>\n",
       "      <td>3.0</td>\n",
       "      <td>setosa</td>\n",
       "    </tr>\n",
       "    <tr>\n",
       "      <th>2</th>\n",
       "      <td>1.3</td>\n",
       "      <td>0.2</td>\n",
       "      <td>4.7</td>\n",
       "      <td>3.2</td>\n",
       "      <td>setosa</td>\n",
       "    </tr>\n",
       "    <tr>\n",
       "      <th>3</th>\n",
       "      <td>1.5</td>\n",
       "      <td>0.2</td>\n",
       "      <td>4.6</td>\n",
       "      <td>3.1</td>\n",
       "      <td>setosa</td>\n",
       "    </tr>\n",
       "    <tr>\n",
       "      <th>4</th>\n",
       "      <td>1.4</td>\n",
       "      <td>0.2</td>\n",
       "      <td>5.0</td>\n",
       "      <td>3.6</td>\n",
       "      <td>setosa</td>\n",
       "    </tr>\n",
       "    <tr>\n",
       "      <th>5</th>\n",
       "      <td>1.7</td>\n",
       "      <td>0.4</td>\n",
       "      <td>5.4</td>\n",
       "      <td>3.9</td>\n",
       "      <td>setosa</td>\n",
       "    </tr>\n",
       "    <tr>\n",
       "      <th>6</th>\n",
       "      <td>1.4</td>\n",
       "      <td>0.3</td>\n",
       "      <td>4.6</td>\n",
       "      <td>3.4</td>\n",
       "      <td>setosa</td>\n",
       "    </tr>\n",
       "    <tr>\n",
       "      <th>7</th>\n",
       "      <td>1.5</td>\n",
       "      <td>0.2</td>\n",
       "      <td>5.0</td>\n",
       "      <td>3.4</td>\n",
       "      <td>setosa</td>\n",
       "    </tr>\n",
       "    <tr>\n",
       "      <th>8</th>\n",
       "      <td>1.4</td>\n",
       "      <td>0.2</td>\n",
       "      <td>4.4</td>\n",
       "      <td>2.9</td>\n",
       "      <td>setosa</td>\n",
       "    </tr>\n",
       "    <tr>\n",
       "      <th>9</th>\n",
       "      <td>1.5</td>\n",
       "      <td>0.1</td>\n",
       "      <td>4.9</td>\n",
       "      <td>3.1</td>\n",
       "      <td>setosa</td>\n",
       "    </tr>\n",
       "    <tr>\n",
       "      <th>10</th>\n",
       "      <td>1.5</td>\n",
       "      <td>0.2</td>\n",
       "      <td>5.4</td>\n",
       "      <td>3.7</td>\n",
       "      <td>setosa</td>\n",
       "    </tr>\n",
       "    <tr>\n",
       "      <th>11</th>\n",
       "      <td>1.6</td>\n",
       "      <td>0.2</td>\n",
       "      <td>4.8</td>\n",
       "      <td>3.4</td>\n",
       "      <td>setosa</td>\n",
       "    </tr>\n",
       "    <tr>\n",
       "      <th>12</th>\n",
       "      <td>1.4</td>\n",
       "      <td>0.1</td>\n",
       "      <td>4.8</td>\n",
       "      <td>3.0</td>\n",
       "      <td>setosa</td>\n",
       "    </tr>\n",
       "    <tr>\n",
       "      <th>13</th>\n",
       "      <td>1.1</td>\n",
       "      <td>0.1</td>\n",
       "      <td>4.3</td>\n",
       "      <td>3.0</td>\n",
       "      <td>setosa</td>\n",
       "    </tr>\n",
       "    <tr>\n",
       "      <th>14</th>\n",
       "      <td>1.2</td>\n",
       "      <td>0.2</td>\n",
       "      <td>5.8</td>\n",
       "      <td>4.0</td>\n",
       "      <td>setosa</td>\n",
       "    </tr>\n",
       "    <tr>\n",
       "      <th>15</th>\n",
       "      <td>1.5</td>\n",
       "      <td>0.4</td>\n",
       "      <td>5.7</td>\n",
       "      <td>4.4</td>\n",
       "      <td>setosa</td>\n",
       "    </tr>\n",
       "    <tr>\n",
       "      <th>16</th>\n",
       "      <td>1.3</td>\n",
       "      <td>0.4</td>\n",
       "      <td>5.4</td>\n",
       "      <td>3.9</td>\n",
       "      <td>setosa</td>\n",
       "    </tr>\n",
       "    <tr>\n",
       "      <th>17</th>\n",
       "      <td>1.4</td>\n",
       "      <td>0.3</td>\n",
       "      <td>5.1</td>\n",
       "      <td>3.5</td>\n",
       "      <td>setosa</td>\n",
       "    </tr>\n",
       "    <tr>\n",
       "      <th>18</th>\n",
       "      <td>1.7</td>\n",
       "      <td>0.3</td>\n",
       "      <td>5.7</td>\n",
       "      <td>3.8</td>\n",
       "      <td>setosa</td>\n",
       "    </tr>\n",
       "    <tr>\n",
       "      <th>19</th>\n",
       "      <td>1.5</td>\n",
       "      <td>0.3</td>\n",
       "      <td>5.1</td>\n",
       "      <td>3.8</td>\n",
       "      <td>setosa</td>\n",
       "    </tr>\n",
       "    <tr>\n",
       "      <th>20</th>\n",
       "      <td>1.7</td>\n",
       "      <td>0.2</td>\n",
       "      <td>5.4</td>\n",
       "      <td>3.4</td>\n",
       "      <td>setosa</td>\n",
       "    </tr>\n",
       "    <tr>\n",
       "      <th>21</th>\n",
       "      <td>1.5</td>\n",
       "      <td>0.4</td>\n",
       "      <td>5.1</td>\n",
       "      <td>3.7</td>\n",
       "      <td>setosa</td>\n",
       "    </tr>\n",
       "    <tr>\n",
       "      <th>22</th>\n",
       "      <td>1.0</td>\n",
       "      <td>0.2</td>\n",
       "      <td>4.6</td>\n",
       "      <td>3.6</td>\n",
       "      <td>setosa</td>\n",
       "    </tr>\n",
       "    <tr>\n",
       "      <th>23</th>\n",
       "      <td>1.7</td>\n",
       "      <td>0.5</td>\n",
       "      <td>5.1</td>\n",
       "      <td>3.3</td>\n",
       "      <td>setosa</td>\n",
       "    </tr>\n",
       "    <tr>\n",
       "      <th>24</th>\n",
       "      <td>1.9</td>\n",
       "      <td>0.2</td>\n",
       "      <td>4.8</td>\n",
       "      <td>3.4</td>\n",
       "      <td>setosa</td>\n",
       "    </tr>\n",
       "    <tr>\n",
       "      <th>25</th>\n",
       "      <td>1.6</td>\n",
       "      <td>0.2</td>\n",
       "      <td>5.0</td>\n",
       "      <td>3.0</td>\n",
       "      <td>setosa</td>\n",
       "    </tr>\n",
       "    <tr>\n",
       "      <th>26</th>\n",
       "      <td>1.6</td>\n",
       "      <td>0.4</td>\n",
       "      <td>5.0</td>\n",
       "      <td>3.4</td>\n",
       "      <td>setosa</td>\n",
       "    </tr>\n",
       "    <tr>\n",
       "      <th>27</th>\n",
       "      <td>1.5</td>\n",
       "      <td>0.2</td>\n",
       "      <td>5.2</td>\n",
       "      <td>3.5</td>\n",
       "      <td>setosa</td>\n",
       "    </tr>\n",
       "    <tr>\n",
       "      <th>28</th>\n",
       "      <td>1.4</td>\n",
       "      <td>0.2</td>\n",
       "      <td>5.2</td>\n",
       "      <td>3.4</td>\n",
       "      <td>setosa</td>\n",
       "    </tr>\n",
       "    <tr>\n",
       "      <th>29</th>\n",
       "      <td>1.6</td>\n",
       "      <td>0.2</td>\n",
       "      <td>4.7</td>\n",
       "      <td>3.2</td>\n",
       "      <td>setosa</td>\n",
       "    </tr>\n",
       "    <tr>\n",
       "      <th>30</th>\n",
       "      <td>1.6</td>\n",
       "      <td>0.2</td>\n",
       "      <td>4.8</td>\n",
       "      <td>3.1</td>\n",
       "      <td>setosa</td>\n",
       "    </tr>\n",
       "    <tr>\n",
       "      <th>31</th>\n",
       "      <td>1.5</td>\n",
       "      <td>0.4</td>\n",
       "      <td>5.4</td>\n",
       "      <td>3.4</td>\n",
       "      <td>setosa</td>\n",
       "    </tr>\n",
       "    <tr>\n",
       "      <th>32</th>\n",
       "      <td>1.5</td>\n",
       "      <td>0.1</td>\n",
       "      <td>5.2</td>\n",
       "      <td>4.1</td>\n",
       "      <td>setosa</td>\n",
       "    </tr>\n",
       "    <tr>\n",
       "      <th>33</th>\n",
       "      <td>1.4</td>\n",
       "      <td>0.2</td>\n",
       "      <td>5.5</td>\n",
       "      <td>4.2</td>\n",
       "      <td>setosa</td>\n",
       "    </tr>\n",
       "    <tr>\n",
       "      <th>34</th>\n",
       "      <td>1.5</td>\n",
       "      <td>0.2</td>\n",
       "      <td>4.9</td>\n",
       "      <td>3.1</td>\n",
       "      <td>setosa</td>\n",
       "    </tr>\n",
       "    <tr>\n",
       "      <th>35</th>\n",
       "      <td>1.2</td>\n",
       "      <td>0.2</td>\n",
       "      <td>5.0</td>\n",
       "      <td>3.2</td>\n",
       "      <td>setosa</td>\n",
       "    </tr>\n",
       "    <tr>\n",
       "      <th>36</th>\n",
       "      <td>1.3</td>\n",
       "      <td>0.2</td>\n",
       "      <td>5.5</td>\n",
       "      <td>3.5</td>\n",
       "      <td>setosa</td>\n",
       "    </tr>\n",
       "    <tr>\n",
       "      <th>37</th>\n",
       "      <td>1.4</td>\n",
       "      <td>0.1</td>\n",
       "      <td>4.9</td>\n",
       "      <td>3.6</td>\n",
       "      <td>setosa</td>\n",
       "    </tr>\n",
       "    <tr>\n",
       "      <th>38</th>\n",
       "      <td>1.3</td>\n",
       "      <td>0.2</td>\n",
       "      <td>4.4</td>\n",
       "      <td>3.0</td>\n",
       "      <td>setosa</td>\n",
       "    </tr>\n",
       "    <tr>\n",
       "      <th>39</th>\n",
       "      <td>1.5</td>\n",
       "      <td>0.2</td>\n",
       "      <td>5.1</td>\n",
       "      <td>3.4</td>\n",
       "      <td>setosa</td>\n",
       "    </tr>\n",
       "    <tr>\n",
       "      <th>40</th>\n",
       "      <td>1.3</td>\n",
       "      <td>0.3</td>\n",
       "      <td>5.0</td>\n",
       "      <td>3.5</td>\n",
       "      <td>setosa</td>\n",
       "    </tr>\n",
       "    <tr>\n",
       "      <th>41</th>\n",
       "      <td>1.3</td>\n",
       "      <td>0.3</td>\n",
       "      <td>4.5</td>\n",
       "      <td>2.3</td>\n",
       "      <td>setosa</td>\n",
       "    </tr>\n",
       "    <tr>\n",
       "      <th>42</th>\n",
       "      <td>1.3</td>\n",
       "      <td>0.2</td>\n",
       "      <td>4.4</td>\n",
       "      <td>3.2</td>\n",
       "      <td>setosa</td>\n",
       "    </tr>\n",
       "    <tr>\n",
       "      <th>43</th>\n",
       "      <td>1.6</td>\n",
       "      <td>0.6</td>\n",
       "      <td>5.0</td>\n",
       "      <td>3.5</td>\n",
       "      <td>setosa</td>\n",
       "    </tr>\n",
       "    <tr>\n",
       "      <th>44</th>\n",
       "      <td>1.9</td>\n",
       "      <td>0.4</td>\n",
       "      <td>5.1</td>\n",
       "      <td>3.8</td>\n",
       "      <td>setosa</td>\n",
       "    </tr>\n",
       "    <tr>\n",
       "      <th>45</th>\n",
       "      <td>1.4</td>\n",
       "      <td>0.3</td>\n",
       "      <td>4.8</td>\n",
       "      <td>3.0</td>\n",
       "      <td>setosa</td>\n",
       "    </tr>\n",
       "    <tr>\n",
       "      <th>46</th>\n",
       "      <td>1.6</td>\n",
       "      <td>0.2</td>\n",
       "      <td>5.1</td>\n",
       "      <td>3.8</td>\n",
       "      <td>setosa</td>\n",
       "    </tr>\n",
       "    <tr>\n",
       "      <th>47</th>\n",
       "      <td>1.4</td>\n",
       "      <td>0.2</td>\n",
       "      <td>4.6</td>\n",
       "      <td>3.2</td>\n",
       "      <td>setosa</td>\n",
       "    </tr>\n",
       "    <tr>\n",
       "      <th>48</th>\n",
       "      <td>1.5</td>\n",
       "      <td>0.2</td>\n",
       "      <td>5.3</td>\n",
       "      <td>3.7</td>\n",
       "      <td>setosa</td>\n",
       "    </tr>\n",
       "    <tr>\n",
       "      <th>49</th>\n",
       "      <td>1.4</td>\n",
       "      <td>0.2</td>\n",
       "      <td>5.0</td>\n",
       "      <td>3.3</td>\n",
       "      <td>setosa</td>\n",
       "    </tr>\n",
       "    <tr>\n",
       "      <th>50</th>\n",
       "      <td>4.7</td>\n",
       "      <td>1.4</td>\n",
       "      <td>7.0</td>\n",
       "      <td>3.2</td>\n",
       "      <td>versicolor</td>\n",
       "    </tr>\n",
       "    <tr>\n",
       "      <th>51</th>\n",
       "      <td>4.5</td>\n",
       "      <td>1.5</td>\n",
       "      <td>6.4</td>\n",
       "      <td>3.2</td>\n",
       "      <td>versicolor</td>\n",
       "    </tr>\n",
       "    <tr>\n",
       "      <th>52</th>\n",
       "      <td>4.9</td>\n",
       "      <td>1.5</td>\n",
       "      <td>6.9</td>\n",
       "      <td>3.1</td>\n",
       "      <td>versicolor</td>\n",
       "    </tr>\n",
       "    <tr>\n",
       "      <th>53</th>\n",
       "      <td>4.0</td>\n",
       "      <td>1.3</td>\n",
       "      <td>5.5</td>\n",
       "      <td>2.3</td>\n",
       "      <td>versicolor</td>\n",
       "    </tr>\n",
       "    <tr>\n",
       "      <th>54</th>\n",
       "      <td>4.6</td>\n",
       "      <td>1.5</td>\n",
       "      <td>6.5</td>\n",
       "      <td>2.8</td>\n",
       "      <td>versicolor</td>\n",
       "    </tr>\n",
       "    <tr>\n",
       "      <th>55</th>\n",
       "      <td>4.5</td>\n",
       "      <td>1.3</td>\n",
       "      <td>5.7</td>\n",
       "      <td>2.8</td>\n",
       "      <td>versicolor</td>\n",
       "    </tr>\n",
       "    <tr>\n",
       "      <th>56</th>\n",
       "      <td>4.7</td>\n",
       "      <td>1.6</td>\n",
       "      <td>6.3</td>\n",
       "      <td>3.3</td>\n",
       "      <td>versicolor</td>\n",
       "    </tr>\n",
       "    <tr>\n",
       "      <th>57</th>\n",
       "      <td>3.3</td>\n",
       "      <td>1.0</td>\n",
       "      <td>4.9</td>\n",
       "      <td>2.4</td>\n",
       "      <td>versicolor</td>\n",
       "    </tr>\n",
       "    <tr>\n",
       "      <th>58</th>\n",
       "      <td>4.6</td>\n",
       "      <td>1.3</td>\n",
       "      <td>6.6</td>\n",
       "      <td>2.9</td>\n",
       "      <td>versicolor</td>\n",
       "    </tr>\n",
       "    <tr>\n",
       "      <th>59</th>\n",
       "      <td>3.9</td>\n",
       "      <td>1.4</td>\n",
       "      <td>5.2</td>\n",
       "      <td>2.7</td>\n",
       "      <td>versicolor</td>\n",
       "    </tr>\n",
       "    <tr>\n",
       "      <th>60</th>\n",
       "      <td>3.5</td>\n",
       "      <td>1.0</td>\n",
       "      <td>5.0</td>\n",
       "      <td>2.0</td>\n",
       "      <td>versicolor</td>\n",
       "    </tr>\n",
       "    <tr>\n",
       "      <th>61</th>\n",
       "      <td>4.2</td>\n",
       "      <td>1.5</td>\n",
       "      <td>5.9</td>\n",
       "      <td>3.0</td>\n",
       "      <td>versicolor</td>\n",
       "    </tr>\n",
       "    <tr>\n",
       "      <th>62</th>\n",
       "      <td>4.0</td>\n",
       "      <td>1.0</td>\n",
       "      <td>6.0</td>\n",
       "      <td>2.2</td>\n",
       "      <td>versicolor</td>\n",
       "    </tr>\n",
       "    <tr>\n",
       "      <th>63</th>\n",
       "      <td>4.7</td>\n",
       "      <td>1.4</td>\n",
       "      <td>6.1</td>\n",
       "      <td>2.9</td>\n",
       "      <td>versicolor</td>\n",
       "    </tr>\n",
       "    <tr>\n",
       "      <th>64</th>\n",
       "      <td>3.6</td>\n",
       "      <td>1.3</td>\n",
       "      <td>5.6</td>\n",
       "      <td>2.9</td>\n",
       "      <td>versicolor</td>\n",
       "    </tr>\n",
       "    <tr>\n",
       "      <th>65</th>\n",
       "      <td>4.4</td>\n",
       "      <td>1.4</td>\n",
       "      <td>6.7</td>\n",
       "      <td>3.1</td>\n",
       "      <td>versicolor</td>\n",
       "    </tr>\n",
       "    <tr>\n",
       "      <th>66</th>\n",
       "      <td>4.5</td>\n",
       "      <td>1.5</td>\n",
       "      <td>5.6</td>\n",
       "      <td>3.0</td>\n",
       "      <td>versicolor</td>\n",
       "    </tr>\n",
       "    <tr>\n",
       "      <th>67</th>\n",
       "      <td>4.1</td>\n",
       "      <td>1.0</td>\n",
       "      <td>5.8</td>\n",
       "      <td>2.7</td>\n",
       "      <td>versicolor</td>\n",
       "    </tr>\n",
       "    <tr>\n",
       "      <th>68</th>\n",
       "      <td>4.5</td>\n",
       "      <td>1.5</td>\n",
       "      <td>6.2</td>\n",
       "      <td>2.2</td>\n",
       "      <td>versicolor</td>\n",
       "    </tr>\n",
       "    <tr>\n",
       "      <th>69</th>\n",
       "      <td>3.9</td>\n",
       "      <td>1.1</td>\n",
       "      <td>5.6</td>\n",
       "      <td>2.5</td>\n",
       "      <td>versicolor</td>\n",
       "    </tr>\n",
       "    <tr>\n",
       "      <th>70</th>\n",
       "      <td>4.8</td>\n",
       "      <td>1.8</td>\n",
       "      <td>5.9</td>\n",
       "      <td>3.2</td>\n",
       "      <td>versicolor</td>\n",
       "    </tr>\n",
       "    <tr>\n",
       "      <th>71</th>\n",
       "      <td>4.0</td>\n",
       "      <td>1.3</td>\n",
       "      <td>6.1</td>\n",
       "      <td>2.8</td>\n",
       "      <td>versicolor</td>\n",
       "    </tr>\n",
       "    <tr>\n",
       "      <th>72</th>\n",
       "      <td>4.9</td>\n",
       "      <td>1.5</td>\n",
       "      <td>6.3</td>\n",
       "      <td>2.5</td>\n",
       "      <td>versicolor</td>\n",
       "    </tr>\n",
       "    <tr>\n",
       "      <th>73</th>\n",
       "      <td>4.7</td>\n",
       "      <td>1.2</td>\n",
       "      <td>6.1</td>\n",
       "      <td>2.8</td>\n",
       "      <td>versicolor</td>\n",
       "    </tr>\n",
       "    <tr>\n",
       "      <th>74</th>\n",
       "      <td>4.3</td>\n",
       "      <td>1.3</td>\n",
       "      <td>6.4</td>\n",
       "      <td>2.9</td>\n",
       "      <td>versicolor</td>\n",
       "    </tr>\n",
       "    <tr>\n",
       "      <th>75</th>\n",
       "      <td>4.4</td>\n",
       "      <td>1.4</td>\n",
       "      <td>6.6</td>\n",
       "      <td>3.0</td>\n",
       "      <td>versicolor</td>\n",
       "    </tr>\n",
       "    <tr>\n",
       "      <th>76</th>\n",
       "      <td>4.8</td>\n",
       "      <td>1.4</td>\n",
       "      <td>6.8</td>\n",
       "      <td>2.8</td>\n",
       "      <td>versicolor</td>\n",
       "    </tr>\n",
       "    <tr>\n",
       "      <th>77</th>\n",
       "      <td>5.0</td>\n",
       "      <td>1.7</td>\n",
       "      <td>6.7</td>\n",
       "      <td>3.0</td>\n",
       "      <td>versicolor</td>\n",
       "    </tr>\n",
       "    <tr>\n",
       "      <th>78</th>\n",
       "      <td>4.5</td>\n",
       "      <td>1.5</td>\n",
       "      <td>6.0</td>\n",
       "      <td>2.9</td>\n",
       "      <td>versicolor</td>\n",
       "    </tr>\n",
       "    <tr>\n",
       "      <th>79</th>\n",
       "      <td>3.5</td>\n",
       "      <td>1.0</td>\n",
       "      <td>5.7</td>\n",
       "      <td>2.6</td>\n",
       "      <td>versicolor</td>\n",
       "    </tr>\n",
       "    <tr>\n",
       "      <th>80</th>\n",
       "      <td>3.8</td>\n",
       "      <td>1.1</td>\n",
       "      <td>5.5</td>\n",
       "      <td>2.4</td>\n",
       "      <td>versicolor</td>\n",
       "    </tr>\n",
       "    <tr>\n",
       "      <th>81</th>\n",
       "      <td>3.7</td>\n",
       "      <td>1.0</td>\n",
       "      <td>5.5</td>\n",
       "      <td>2.4</td>\n",
       "      <td>versicolor</td>\n",
       "    </tr>\n",
       "    <tr>\n",
       "      <th>82</th>\n",
       "      <td>3.9</td>\n",
       "      <td>1.2</td>\n",
       "      <td>5.8</td>\n",
       "      <td>2.7</td>\n",
       "      <td>versicolor</td>\n",
       "    </tr>\n",
       "    <tr>\n",
       "      <th>83</th>\n",
       "      <td>5.1</td>\n",
       "      <td>1.6</td>\n",
       "      <td>6.0</td>\n",
       "      <td>2.7</td>\n",
       "      <td>versicolor</td>\n",
       "    </tr>\n",
       "    <tr>\n",
       "      <th>84</th>\n",
       "      <td>4.5</td>\n",
       "      <td>1.5</td>\n",
       "      <td>5.4</td>\n",
       "      <td>3.0</td>\n",
       "      <td>versicolor</td>\n",
       "    </tr>\n",
       "    <tr>\n",
       "      <th>85</th>\n",
       "      <td>4.5</td>\n",
       "      <td>1.6</td>\n",
       "      <td>6.0</td>\n",
       "      <td>3.4</td>\n",
       "      <td>versicolor</td>\n",
       "    </tr>\n",
       "    <tr>\n",
       "      <th>86</th>\n",
       "      <td>4.7</td>\n",
       "      <td>1.5</td>\n",
       "      <td>6.7</td>\n",
       "      <td>3.1</td>\n",
       "      <td>versicolor</td>\n",
       "    </tr>\n",
       "    <tr>\n",
       "      <th>87</th>\n",
       "      <td>4.4</td>\n",
       "      <td>1.3</td>\n",
       "      <td>6.3</td>\n",
       "      <td>2.3</td>\n",
       "      <td>versicolor</td>\n",
       "    </tr>\n",
       "    <tr>\n",
       "      <th>88</th>\n",
       "      <td>4.1</td>\n",
       "      <td>1.3</td>\n",
       "      <td>5.6</td>\n",
       "      <td>3.0</td>\n",
       "      <td>versicolor</td>\n",
       "    </tr>\n",
       "    <tr>\n",
       "      <th>89</th>\n",
       "      <td>4.0</td>\n",
       "      <td>1.3</td>\n",
       "      <td>5.5</td>\n",
       "      <td>2.5</td>\n",
       "      <td>versicolor</td>\n",
       "    </tr>\n",
       "    <tr>\n",
       "      <th>90</th>\n",
       "      <td>4.4</td>\n",
       "      <td>1.2</td>\n",
       "      <td>5.5</td>\n",
       "      <td>2.6</td>\n",
       "      <td>versicolor</td>\n",
       "    </tr>\n",
       "    <tr>\n",
       "      <th>91</th>\n",
       "      <td>4.6</td>\n",
       "      <td>1.4</td>\n",
       "      <td>6.1</td>\n",
       "      <td>3.0</td>\n",
       "      <td>versicolor</td>\n",
       "    </tr>\n",
       "    <tr>\n",
       "      <th>92</th>\n",
       "      <td>4.0</td>\n",
       "      <td>1.2</td>\n",
       "      <td>5.8</td>\n",
       "      <td>2.6</td>\n",
       "      <td>versicolor</td>\n",
       "    </tr>\n",
       "    <tr>\n",
       "      <th>93</th>\n",
       "      <td>3.3</td>\n",
       "      <td>1.0</td>\n",
       "      <td>5.0</td>\n",
       "      <td>2.3</td>\n",
       "      <td>versicolor</td>\n",
       "    </tr>\n",
       "    <tr>\n",
       "      <th>94</th>\n",
       "      <td>4.2</td>\n",
       "      <td>1.3</td>\n",
       "      <td>5.6</td>\n",
       "      <td>2.7</td>\n",
       "      <td>versicolor</td>\n",
       "    </tr>\n",
       "    <tr>\n",
       "      <th>95</th>\n",
       "      <td>4.2</td>\n",
       "      <td>1.2</td>\n",
       "      <td>5.7</td>\n",
       "      <td>3.0</td>\n",
       "      <td>versicolor</td>\n",
       "    </tr>\n",
       "    <tr>\n",
       "      <th>96</th>\n",
       "      <td>4.2</td>\n",
       "      <td>1.3</td>\n",
       "      <td>5.7</td>\n",
       "      <td>2.9</td>\n",
       "      <td>versicolor</td>\n",
       "    </tr>\n",
       "    <tr>\n",
       "      <th>97</th>\n",
       "      <td>4.3</td>\n",
       "      <td>1.3</td>\n",
       "      <td>6.2</td>\n",
       "      <td>2.9</td>\n",
       "      <td>versicolor</td>\n",
       "    </tr>\n",
       "    <tr>\n",
       "      <th>98</th>\n",
       "      <td>3.0</td>\n",
       "      <td>1.1</td>\n",
       "      <td>5.1</td>\n",
       "      <td>2.5</td>\n",
       "      <td>versicolor</td>\n",
       "    </tr>\n",
       "    <tr>\n",
       "      <th>99</th>\n",
       "      <td>4.1</td>\n",
       "      <td>1.3</td>\n",
       "      <td>5.7</td>\n",
       "      <td>2.8</td>\n",
       "      <td>versicolor</td>\n",
       "    </tr>\n",
       "    <tr>\n",
       "      <th>100</th>\n",
       "      <td>6.0</td>\n",
       "      <td>2.5</td>\n",
       "      <td>6.3</td>\n",
       "      <td>3.3</td>\n",
       "      <td>virginica</td>\n",
       "    </tr>\n",
       "    <tr>\n",
       "      <th>101</th>\n",
       "      <td>5.1</td>\n",
       "      <td>1.9</td>\n",
       "      <td>5.8</td>\n",
       "      <td>2.7</td>\n",
       "      <td>virginica</td>\n",
       "    </tr>\n",
       "    <tr>\n",
       "      <th>102</th>\n",
       "      <td>5.9</td>\n",
       "      <td>2.1</td>\n",
       "      <td>7.1</td>\n",
       "      <td>3.0</td>\n",
       "      <td>virginica</td>\n",
       "    </tr>\n",
       "    <tr>\n",
       "      <th>103</th>\n",
       "      <td>5.6</td>\n",
       "      <td>1.8</td>\n",
       "      <td>6.3</td>\n",
       "      <td>2.9</td>\n",
       "      <td>virginica</td>\n",
       "    </tr>\n",
       "    <tr>\n",
       "      <th>104</th>\n",
       "      <td>5.8</td>\n",
       "      <td>2.2</td>\n",
       "      <td>6.5</td>\n",
       "      <td>3.0</td>\n",
       "      <td>virginica</td>\n",
       "    </tr>\n",
       "    <tr>\n",
       "      <th>105</th>\n",
       "      <td>6.6</td>\n",
       "      <td>2.1</td>\n",
       "      <td>7.6</td>\n",
       "      <td>3.0</td>\n",
       "      <td>virginica</td>\n",
       "    </tr>\n",
       "    <tr>\n",
       "      <th>106</th>\n",
       "      <td>4.5</td>\n",
       "      <td>1.7</td>\n",
       "      <td>4.9</td>\n",
       "      <td>2.5</td>\n",
       "      <td>virginica</td>\n",
       "    </tr>\n",
       "    <tr>\n",
       "      <th>107</th>\n",
       "      <td>6.3</td>\n",
       "      <td>1.8</td>\n",
       "      <td>7.3</td>\n",
       "      <td>2.9</td>\n",
       "      <td>virginica</td>\n",
       "    </tr>\n",
       "    <tr>\n",
       "      <th>108</th>\n",
       "      <td>5.8</td>\n",
       "      <td>1.8</td>\n",
       "      <td>6.7</td>\n",
       "      <td>2.5</td>\n",
       "      <td>virginica</td>\n",
       "    </tr>\n",
       "    <tr>\n",
       "      <th>109</th>\n",
       "      <td>6.1</td>\n",
       "      <td>2.5</td>\n",
       "      <td>7.2</td>\n",
       "      <td>3.6</td>\n",
       "      <td>virginica</td>\n",
       "    </tr>\n",
       "    <tr>\n",
       "      <th>110</th>\n",
       "      <td>5.1</td>\n",
       "      <td>2.0</td>\n",
       "      <td>6.5</td>\n",
       "      <td>3.2</td>\n",
       "      <td>virginica</td>\n",
       "    </tr>\n",
       "    <tr>\n",
       "      <th>111</th>\n",
       "      <td>5.3</td>\n",
       "      <td>1.9</td>\n",
       "      <td>6.4</td>\n",
       "      <td>2.7</td>\n",
       "      <td>virginica</td>\n",
       "    </tr>\n",
       "    <tr>\n",
       "      <th>112</th>\n",
       "      <td>5.5</td>\n",
       "      <td>2.1</td>\n",
       "      <td>6.8</td>\n",
       "      <td>3.0</td>\n",
       "      <td>virginica</td>\n",
       "    </tr>\n",
       "    <tr>\n",
       "      <th>113</th>\n",
       "      <td>5.0</td>\n",
       "      <td>2.0</td>\n",
       "      <td>5.7</td>\n",
       "      <td>2.5</td>\n",
       "      <td>virginica</td>\n",
       "    </tr>\n",
       "    <tr>\n",
       "      <th>114</th>\n",
       "      <td>5.1</td>\n",
       "      <td>2.4</td>\n",
       "      <td>5.8</td>\n",
       "      <td>2.8</td>\n",
       "      <td>virginica</td>\n",
       "    </tr>\n",
       "    <tr>\n",
       "      <th>115</th>\n",
       "      <td>5.3</td>\n",
       "      <td>2.3</td>\n",
       "      <td>6.4</td>\n",
       "      <td>3.2</td>\n",
       "      <td>virginica</td>\n",
       "    </tr>\n",
       "    <tr>\n",
       "      <th>116</th>\n",
       "      <td>5.5</td>\n",
       "      <td>1.8</td>\n",
       "      <td>6.5</td>\n",
       "      <td>3.0</td>\n",
       "      <td>virginica</td>\n",
       "    </tr>\n",
       "    <tr>\n",
       "      <th>117</th>\n",
       "      <td>6.7</td>\n",
       "      <td>2.2</td>\n",
       "      <td>7.7</td>\n",
       "      <td>3.8</td>\n",
       "      <td>virginica</td>\n",
       "    </tr>\n",
       "    <tr>\n",
       "      <th>118</th>\n",
       "      <td>6.9</td>\n",
       "      <td>2.3</td>\n",
       "      <td>7.7</td>\n",
       "      <td>2.6</td>\n",
       "      <td>virginica</td>\n",
       "    </tr>\n",
       "    <tr>\n",
       "      <th>119</th>\n",
       "      <td>5.0</td>\n",
       "      <td>1.5</td>\n",
       "      <td>6.0</td>\n",
       "      <td>2.2</td>\n",
       "      <td>virginica</td>\n",
       "    </tr>\n",
       "    <tr>\n",
       "      <th>120</th>\n",
       "      <td>5.7</td>\n",
       "      <td>2.3</td>\n",
       "      <td>6.9</td>\n",
       "      <td>3.2</td>\n",
       "      <td>virginica</td>\n",
       "    </tr>\n",
       "    <tr>\n",
       "      <th>121</th>\n",
       "      <td>4.9</td>\n",
       "      <td>2.0</td>\n",
       "      <td>5.6</td>\n",
       "      <td>2.8</td>\n",
       "      <td>virginica</td>\n",
       "    </tr>\n",
       "    <tr>\n",
       "      <th>122</th>\n",
       "      <td>6.7</td>\n",
       "      <td>2.0</td>\n",
       "      <td>7.7</td>\n",
       "      <td>2.8</td>\n",
       "      <td>virginica</td>\n",
       "    </tr>\n",
       "    <tr>\n",
       "      <th>123</th>\n",
       "      <td>4.9</td>\n",
       "      <td>1.8</td>\n",
       "      <td>6.3</td>\n",
       "      <td>2.7</td>\n",
       "      <td>virginica</td>\n",
       "    </tr>\n",
       "    <tr>\n",
       "      <th>124</th>\n",
       "      <td>5.7</td>\n",
       "      <td>2.1</td>\n",
       "      <td>6.7</td>\n",
       "      <td>3.3</td>\n",
       "      <td>virginica</td>\n",
       "    </tr>\n",
       "    <tr>\n",
       "      <th>125</th>\n",
       "      <td>6.0</td>\n",
       "      <td>1.8</td>\n",
       "      <td>7.2</td>\n",
       "      <td>3.2</td>\n",
       "      <td>virginica</td>\n",
       "    </tr>\n",
       "    <tr>\n",
       "      <th>126</th>\n",
       "      <td>4.8</td>\n",
       "      <td>1.8</td>\n",
       "      <td>6.2</td>\n",
       "      <td>2.8</td>\n",
       "      <td>virginica</td>\n",
       "    </tr>\n",
       "    <tr>\n",
       "      <th>127</th>\n",
       "      <td>4.9</td>\n",
       "      <td>1.8</td>\n",
       "      <td>6.1</td>\n",
       "      <td>3.0</td>\n",
       "      <td>virginica</td>\n",
       "    </tr>\n",
       "    <tr>\n",
       "      <th>128</th>\n",
       "      <td>5.6</td>\n",
       "      <td>2.1</td>\n",
       "      <td>6.4</td>\n",
       "      <td>2.8</td>\n",
       "      <td>virginica</td>\n",
       "    </tr>\n",
       "    <tr>\n",
       "      <th>129</th>\n",
       "      <td>5.8</td>\n",
       "      <td>1.6</td>\n",
       "      <td>7.2</td>\n",
       "      <td>3.0</td>\n",
       "      <td>virginica</td>\n",
       "    </tr>\n",
       "    <tr>\n",
       "      <th>130</th>\n",
       "      <td>6.1</td>\n",
       "      <td>1.9</td>\n",
       "      <td>7.4</td>\n",
       "      <td>2.8</td>\n",
       "      <td>virginica</td>\n",
       "    </tr>\n",
       "    <tr>\n",
       "      <th>131</th>\n",
       "      <td>6.4</td>\n",
       "      <td>2.0</td>\n",
       "      <td>7.9</td>\n",
       "      <td>3.8</td>\n",
       "      <td>virginica</td>\n",
       "    </tr>\n",
       "    <tr>\n",
       "      <th>132</th>\n",
       "      <td>5.6</td>\n",
       "      <td>2.2</td>\n",
       "      <td>6.4</td>\n",
       "      <td>2.8</td>\n",
       "      <td>virginica</td>\n",
       "    </tr>\n",
       "    <tr>\n",
       "      <th>133</th>\n",
       "      <td>5.1</td>\n",
       "      <td>1.5</td>\n",
       "      <td>6.3</td>\n",
       "      <td>2.8</td>\n",
       "      <td>virginica</td>\n",
       "    </tr>\n",
       "    <tr>\n",
       "      <th>134</th>\n",
       "      <td>5.6</td>\n",
       "      <td>1.4</td>\n",
       "      <td>6.1</td>\n",
       "      <td>2.6</td>\n",
       "      <td>virginica</td>\n",
       "    </tr>\n",
       "    <tr>\n",
       "      <th>135</th>\n",
       "      <td>6.1</td>\n",
       "      <td>2.3</td>\n",
       "      <td>7.7</td>\n",
       "      <td>3.0</td>\n",
       "      <td>virginica</td>\n",
       "    </tr>\n",
       "    <tr>\n",
       "      <th>136</th>\n",
       "      <td>5.6</td>\n",
       "      <td>2.4</td>\n",
       "      <td>6.3</td>\n",
       "      <td>3.4</td>\n",
       "      <td>virginica</td>\n",
       "    </tr>\n",
       "    <tr>\n",
       "      <th>137</th>\n",
       "      <td>5.5</td>\n",
       "      <td>1.8</td>\n",
       "      <td>6.4</td>\n",
       "      <td>3.1</td>\n",
       "      <td>virginica</td>\n",
       "    </tr>\n",
       "    <tr>\n",
       "      <th>138</th>\n",
       "      <td>4.8</td>\n",
       "      <td>1.8</td>\n",
       "      <td>6.0</td>\n",
       "      <td>3.0</td>\n",
       "      <td>virginica</td>\n",
       "    </tr>\n",
       "    <tr>\n",
       "      <th>139</th>\n",
       "      <td>5.4</td>\n",
       "      <td>2.1</td>\n",
       "      <td>6.9</td>\n",
       "      <td>3.1</td>\n",
       "      <td>virginica</td>\n",
       "    </tr>\n",
       "    <tr>\n",
       "      <th>140</th>\n",
       "      <td>5.6</td>\n",
       "      <td>2.4</td>\n",
       "      <td>6.7</td>\n",
       "      <td>3.1</td>\n",
       "      <td>virginica</td>\n",
       "    </tr>\n",
       "    <tr>\n",
       "      <th>141</th>\n",
       "      <td>5.1</td>\n",
       "      <td>2.3</td>\n",
       "      <td>6.9</td>\n",
       "      <td>3.1</td>\n",
       "      <td>virginica</td>\n",
       "    </tr>\n",
       "    <tr>\n",
       "      <th>142</th>\n",
       "      <td>5.1</td>\n",
       "      <td>1.9</td>\n",
       "      <td>5.8</td>\n",
       "      <td>2.7</td>\n",
       "      <td>virginica</td>\n",
       "    </tr>\n",
       "    <tr>\n",
       "      <th>143</th>\n",
       "      <td>5.9</td>\n",
       "      <td>2.3</td>\n",
       "      <td>6.8</td>\n",
       "      <td>3.2</td>\n",
       "      <td>virginica</td>\n",
       "    </tr>\n",
       "    <tr>\n",
       "      <th>144</th>\n",
       "      <td>5.7</td>\n",
       "      <td>2.5</td>\n",
       "      <td>6.7</td>\n",
       "      <td>3.3</td>\n",
       "      <td>virginica</td>\n",
       "    </tr>\n",
       "    <tr>\n",
       "      <th>145</th>\n",
       "      <td>5.2</td>\n",
       "      <td>2.3</td>\n",
       "      <td>6.7</td>\n",
       "      <td>3.0</td>\n",
       "      <td>virginica</td>\n",
       "    </tr>\n",
       "    <tr>\n",
       "      <th>146</th>\n",
       "      <td>5.0</td>\n",
       "      <td>1.9</td>\n",
       "      <td>6.3</td>\n",
       "      <td>2.5</td>\n",
       "      <td>virginica</td>\n",
       "    </tr>\n",
       "    <tr>\n",
       "      <th>147</th>\n",
       "      <td>5.2</td>\n",
       "      <td>2.0</td>\n",
       "      <td>6.5</td>\n",
       "      <td>3.0</td>\n",
       "      <td>virginica</td>\n",
       "    </tr>\n",
       "    <tr>\n",
       "      <th>148</th>\n",
       "      <td>5.4</td>\n",
       "      <td>2.3</td>\n",
       "      <td>6.2</td>\n",
       "      <td>3.4</td>\n",
       "      <td>virginica</td>\n",
       "    </tr>\n",
       "    <tr>\n",
       "      <th>149</th>\n",
       "      <td>5.1</td>\n",
       "      <td>1.8</td>\n",
       "      <td>5.9</td>\n",
       "      <td>3.0</td>\n",
       "      <td>virginica</td>\n",
       "    </tr>\n",
       "  </tbody>\n",
       "</table>\n",
       "</div>"
      ],
      "text/plain": [
       "     petal_length  petal_width  sepal_length  sepal_width     species\n",
       "0             1.4          0.2           5.1          3.5      setosa\n",
       "1             1.4          0.2           4.9          3.0      setosa\n",
       "2             1.3          0.2           4.7          3.2      setosa\n",
       "3             1.5          0.2           4.6          3.1      setosa\n",
       "4             1.4          0.2           5.0          3.6      setosa\n",
       "5             1.7          0.4           5.4          3.9      setosa\n",
       "6             1.4          0.3           4.6          3.4      setosa\n",
       "7             1.5          0.2           5.0          3.4      setosa\n",
       "8             1.4          0.2           4.4          2.9      setosa\n",
       "9             1.5          0.1           4.9          3.1      setosa\n",
       "10            1.5          0.2           5.4          3.7      setosa\n",
       "11            1.6          0.2           4.8          3.4      setosa\n",
       "12            1.4          0.1           4.8          3.0      setosa\n",
       "13            1.1          0.1           4.3          3.0      setosa\n",
       "14            1.2          0.2           5.8          4.0      setosa\n",
       "15            1.5          0.4           5.7          4.4      setosa\n",
       "16            1.3          0.4           5.4          3.9      setosa\n",
       "17            1.4          0.3           5.1          3.5      setosa\n",
       "18            1.7          0.3           5.7          3.8      setosa\n",
       "19            1.5          0.3           5.1          3.8      setosa\n",
       "20            1.7          0.2           5.4          3.4      setosa\n",
       "21            1.5          0.4           5.1          3.7      setosa\n",
       "22            1.0          0.2           4.6          3.6      setosa\n",
       "23            1.7          0.5           5.1          3.3      setosa\n",
       "24            1.9          0.2           4.8          3.4      setosa\n",
       "25            1.6          0.2           5.0          3.0      setosa\n",
       "26            1.6          0.4           5.0          3.4      setosa\n",
       "27            1.5          0.2           5.2          3.5      setosa\n",
       "28            1.4          0.2           5.2          3.4      setosa\n",
       "29            1.6          0.2           4.7          3.2      setosa\n",
       "30            1.6          0.2           4.8          3.1      setosa\n",
       "31            1.5          0.4           5.4          3.4      setosa\n",
       "32            1.5          0.1           5.2          4.1      setosa\n",
       "33            1.4          0.2           5.5          4.2      setosa\n",
       "34            1.5          0.2           4.9          3.1      setosa\n",
       "35            1.2          0.2           5.0          3.2      setosa\n",
       "36            1.3          0.2           5.5          3.5      setosa\n",
       "37            1.4          0.1           4.9          3.6      setosa\n",
       "38            1.3          0.2           4.4          3.0      setosa\n",
       "39            1.5          0.2           5.1          3.4      setosa\n",
       "40            1.3          0.3           5.0          3.5      setosa\n",
       "41            1.3          0.3           4.5          2.3      setosa\n",
       "42            1.3          0.2           4.4          3.2      setosa\n",
       "43            1.6          0.6           5.0          3.5      setosa\n",
       "44            1.9          0.4           5.1          3.8      setosa\n",
       "45            1.4          0.3           4.8          3.0      setosa\n",
       "46            1.6          0.2           5.1          3.8      setosa\n",
       "47            1.4          0.2           4.6          3.2      setosa\n",
       "48            1.5          0.2           5.3          3.7      setosa\n",
       "49            1.4          0.2           5.0          3.3      setosa\n",
       "50            4.7          1.4           7.0          3.2  versicolor\n",
       "51            4.5          1.5           6.4          3.2  versicolor\n",
       "52            4.9          1.5           6.9          3.1  versicolor\n",
       "53            4.0          1.3           5.5          2.3  versicolor\n",
       "54            4.6          1.5           6.5          2.8  versicolor\n",
       "55            4.5          1.3           5.7          2.8  versicolor\n",
       "56            4.7          1.6           6.3          3.3  versicolor\n",
       "57            3.3          1.0           4.9          2.4  versicolor\n",
       "58            4.6          1.3           6.6          2.9  versicolor\n",
       "59            3.9          1.4           5.2          2.7  versicolor\n",
       "60            3.5          1.0           5.0          2.0  versicolor\n",
       "61            4.2          1.5           5.9          3.0  versicolor\n",
       "62            4.0          1.0           6.0          2.2  versicolor\n",
       "63            4.7          1.4           6.1          2.9  versicolor\n",
       "64            3.6          1.3           5.6          2.9  versicolor\n",
       "65            4.4          1.4           6.7          3.1  versicolor\n",
       "66            4.5          1.5           5.6          3.0  versicolor\n",
       "67            4.1          1.0           5.8          2.7  versicolor\n",
       "68            4.5          1.5           6.2          2.2  versicolor\n",
       "69            3.9          1.1           5.6          2.5  versicolor\n",
       "70            4.8          1.8           5.9          3.2  versicolor\n",
       "71            4.0          1.3           6.1          2.8  versicolor\n",
       "72            4.9          1.5           6.3          2.5  versicolor\n",
       "73            4.7          1.2           6.1          2.8  versicolor\n",
       "74            4.3          1.3           6.4          2.9  versicolor\n",
       "75            4.4          1.4           6.6          3.0  versicolor\n",
       "76            4.8          1.4           6.8          2.8  versicolor\n",
       "77            5.0          1.7           6.7          3.0  versicolor\n",
       "78            4.5          1.5           6.0          2.9  versicolor\n",
       "79            3.5          1.0           5.7          2.6  versicolor\n",
       "80            3.8          1.1           5.5          2.4  versicolor\n",
       "81            3.7          1.0           5.5          2.4  versicolor\n",
       "82            3.9          1.2           5.8          2.7  versicolor\n",
       "83            5.1          1.6           6.0          2.7  versicolor\n",
       "84            4.5          1.5           5.4          3.0  versicolor\n",
       "85            4.5          1.6           6.0          3.4  versicolor\n",
       "86            4.7          1.5           6.7          3.1  versicolor\n",
       "87            4.4          1.3           6.3          2.3  versicolor\n",
       "88            4.1          1.3           5.6          3.0  versicolor\n",
       "89            4.0          1.3           5.5          2.5  versicolor\n",
       "90            4.4          1.2           5.5          2.6  versicolor\n",
       "91            4.6          1.4           6.1          3.0  versicolor\n",
       "92            4.0          1.2           5.8          2.6  versicolor\n",
       "93            3.3          1.0           5.0          2.3  versicolor\n",
       "94            4.2          1.3           5.6          2.7  versicolor\n",
       "95            4.2          1.2           5.7          3.0  versicolor\n",
       "96            4.2          1.3           5.7          2.9  versicolor\n",
       "97            4.3          1.3           6.2          2.9  versicolor\n",
       "98            3.0          1.1           5.1          2.5  versicolor\n",
       "99            4.1          1.3           5.7          2.8  versicolor\n",
       "100           6.0          2.5           6.3          3.3   virginica\n",
       "101           5.1          1.9           5.8          2.7   virginica\n",
       "102           5.9          2.1           7.1          3.0   virginica\n",
       "103           5.6          1.8           6.3          2.9   virginica\n",
       "104           5.8          2.2           6.5          3.0   virginica\n",
       "105           6.6          2.1           7.6          3.0   virginica\n",
       "106           4.5          1.7           4.9          2.5   virginica\n",
       "107           6.3          1.8           7.3          2.9   virginica\n",
       "108           5.8          1.8           6.7          2.5   virginica\n",
       "109           6.1          2.5           7.2          3.6   virginica\n",
       "110           5.1          2.0           6.5          3.2   virginica\n",
       "111           5.3          1.9           6.4          2.7   virginica\n",
       "112           5.5          2.1           6.8          3.0   virginica\n",
       "113           5.0          2.0           5.7          2.5   virginica\n",
       "114           5.1          2.4           5.8          2.8   virginica\n",
       "115           5.3          2.3           6.4          3.2   virginica\n",
       "116           5.5          1.8           6.5          3.0   virginica\n",
       "117           6.7          2.2           7.7          3.8   virginica\n",
       "118           6.9          2.3           7.7          2.6   virginica\n",
       "119           5.0          1.5           6.0          2.2   virginica\n",
       "120           5.7          2.3           6.9          3.2   virginica\n",
       "121           4.9          2.0           5.6          2.8   virginica\n",
       "122           6.7          2.0           7.7          2.8   virginica\n",
       "123           4.9          1.8           6.3          2.7   virginica\n",
       "124           5.7          2.1           6.7          3.3   virginica\n",
       "125           6.0          1.8           7.2          3.2   virginica\n",
       "126           4.8          1.8           6.2          2.8   virginica\n",
       "127           4.9          1.8           6.1          3.0   virginica\n",
       "128           5.6          2.1           6.4          2.8   virginica\n",
       "129           5.8          1.6           7.2          3.0   virginica\n",
       "130           6.1          1.9           7.4          2.8   virginica\n",
       "131           6.4          2.0           7.9          3.8   virginica\n",
       "132           5.6          2.2           6.4          2.8   virginica\n",
       "133           5.1          1.5           6.3          2.8   virginica\n",
       "134           5.6          1.4           6.1          2.6   virginica\n",
       "135           6.1          2.3           7.7          3.0   virginica\n",
       "136           5.6          2.4           6.3          3.4   virginica\n",
       "137           5.5          1.8           6.4          3.1   virginica\n",
       "138           4.8          1.8           6.0          3.0   virginica\n",
       "139           5.4          2.1           6.9          3.1   virginica\n",
       "140           5.6          2.4           6.7          3.1   virginica\n",
       "141           5.1          2.3           6.9          3.1   virginica\n",
       "142           5.1          1.9           5.8          2.7   virginica\n",
       "143           5.9          2.3           6.8          3.2   virginica\n",
       "144           5.7          2.5           6.7          3.3   virginica\n",
       "145           5.2          2.3           6.7          3.0   virginica\n",
       "146           5.0          1.9           6.3          2.5   virginica\n",
       "147           5.2          2.0           6.5          3.0   virginica\n",
       "148           5.4          2.3           6.2          3.4   virginica\n",
       "149           5.1          1.8           5.9          3.0   virginica"
      ]
     },
     "execution_count": 325,
     "metadata": {},
     "output_type": "execute_result"
    }
   ],
   "source": [
    "# (3)column 기준으로 정렬한 내용을 출력(iris에 적용 X)\n",
    "iris.sort_index(axis=1)"
   ]
  },
  {
   "cell_type": "code",
   "execution_count": 329,
   "id": "bb10065f",
   "metadata": {
    "ExecuteTime": {
     "end_time": "2024-11-26T07:15:55.035061Z",
     "start_time": "2024-11-26T07:15:55.017498Z"
    }
   },
   "outputs": [
    {
     "data": {
      "text/html": [
       "<div>\n",
       "<style scoped>\n",
       "    .dataframe tbody tr th:only-of-type {\n",
       "        vertical-align: middle;\n",
       "    }\n",
       "\n",
       "    .dataframe tbody tr th {\n",
       "        vertical-align: top;\n",
       "    }\n",
       "\n",
       "    .dataframe thead tr th {\n",
       "        text-align: left;\n",
       "    }\n",
       "</style>\n",
       "<table border=\"1\" class=\"dataframe\">\n",
       "  <thead>\n",
       "    <tr>\n",
       "      <th>info</th>\n",
       "      <th colspan=\"2\" halign=\"left\">sepal</th>\n",
       "      <th colspan=\"2\" halign=\"left\">petal</th>\n",
       "      <th>species</th>\n",
       "    </tr>\n",
       "    <tr>\n",
       "      <th>details</th>\n",
       "      <th>slength</th>\n",
       "      <th>swidth</th>\n",
       "      <th>length</th>\n",
       "      <th>width</th>\n",
       "      <th>species</th>\n",
       "    </tr>\n",
       "  </thead>\n",
       "  <tbody>\n",
       "    <tr>\n",
       "      <th>0</th>\n",
       "      <td>5.1</td>\n",
       "      <td>3.5</td>\n",
       "      <td>1.4</td>\n",
       "      <td>0.2</td>\n",
       "      <td>setosa</td>\n",
       "    </tr>\n",
       "    <tr>\n",
       "      <th>1</th>\n",
       "      <td>4.9</td>\n",
       "      <td>3.0</td>\n",
       "      <td>1.4</td>\n",
       "      <td>0.2</td>\n",
       "      <td>setosa</td>\n",
       "    </tr>\n",
       "    <tr>\n",
       "      <th>2</th>\n",
       "      <td>4.7</td>\n",
       "      <td>3.2</td>\n",
       "      <td>1.3</td>\n",
       "      <td>0.2</td>\n",
       "      <td>setosa</td>\n",
       "    </tr>\n",
       "    <tr>\n",
       "      <th>3</th>\n",
       "      <td>4.6</td>\n",
       "      <td>3.1</td>\n",
       "      <td>1.5</td>\n",
       "      <td>0.2</td>\n",
       "      <td>setosa</td>\n",
       "    </tr>\n",
       "    <tr>\n",
       "      <th>4</th>\n",
       "      <td>5.0</td>\n",
       "      <td>3.6</td>\n",
       "      <td>1.4</td>\n",
       "      <td>0.2</td>\n",
       "      <td>setosa</td>\n",
       "    </tr>\n",
       "  </tbody>\n",
       "</table>\n",
       "</div>"
      ],
      "text/plain": [
       "info      sepal         petal       species\n",
       "details slength swidth length width species\n",
       "0           5.1    3.5    1.4   0.2  setosa\n",
       "1           4.9    3.0    1.4   0.2  setosa\n",
       "2           4.7    3.2    1.3   0.2  setosa\n",
       "3           4.6    3.1    1.5   0.2  setosa\n",
       "4           5.0    3.6    1.4   0.2  setosa"
      ]
     },
     "execution_count": 329,
     "metadata": {},
     "output_type": "execute_result"
    }
   ],
   "source": [
    "iris.columns = [['sepal', 'sepal', 'petal', 'petal', 'species'],\n",
    "                ['slength', 'swidth', 'length', 'width', 'species']]\n",
    "iris.columns.names = ['info', 'details']\n",
    "iris.head()"
   ]
  },
  {
   "cell_type": "code",
   "execution_count": 331,
   "id": "f4ed05c2",
   "metadata": {
    "ExecuteTime": {
     "end_time": "2024-11-26T07:17:55.516604Z",
     "start_time": "2024-11-26T07:17:55.502949Z"
    }
   },
   "outputs": [
    {
     "data": {
      "text/html": [
       "<div>\n",
       "<style scoped>\n",
       "    .dataframe tbody tr th:only-of-type {\n",
       "        vertical-align: middle;\n",
       "    }\n",
       "\n",
       "    .dataframe tbody tr th {\n",
       "        vertical-align: top;\n",
       "    }\n",
       "\n",
       "    .dataframe thead tr th {\n",
       "        text-align: left;\n",
       "    }\n",
       "</style>\n",
       "<table border=\"1\" class=\"dataframe\">\n",
       "  <thead>\n",
       "    <tr>\n",
       "      <th>info</th>\n",
       "      <th colspan=\"2\" halign=\"left\">petal</th>\n",
       "      <th colspan=\"2\" halign=\"left\">sepal</th>\n",
       "      <th>species</th>\n",
       "    </tr>\n",
       "    <tr>\n",
       "      <th>details</th>\n",
       "      <th>length</th>\n",
       "      <th>width</th>\n",
       "      <th>slength</th>\n",
       "      <th>swidth</th>\n",
       "      <th>species</th>\n",
       "    </tr>\n",
       "  </thead>\n",
       "  <tbody>\n",
       "    <tr>\n",
       "      <th>0</th>\n",
       "      <td>1.4</td>\n",
       "      <td>0.2</td>\n",
       "      <td>5.1</td>\n",
       "      <td>3.5</td>\n",
       "      <td>setosa</td>\n",
       "    </tr>\n",
       "    <tr>\n",
       "      <th>1</th>\n",
       "      <td>1.4</td>\n",
       "      <td>0.2</td>\n",
       "      <td>4.9</td>\n",
       "      <td>3.0</td>\n",
       "      <td>setosa</td>\n",
       "    </tr>\n",
       "    <tr>\n",
       "      <th>2</th>\n",
       "      <td>1.3</td>\n",
       "      <td>0.2</td>\n",
       "      <td>4.7</td>\n",
       "      <td>3.2</td>\n",
       "      <td>setosa</td>\n",
       "    </tr>\n",
       "    <tr>\n",
       "      <th>3</th>\n",
       "      <td>1.5</td>\n",
       "      <td>0.2</td>\n",
       "      <td>4.6</td>\n",
       "      <td>3.1</td>\n",
       "      <td>setosa</td>\n",
       "    </tr>\n",
       "    <tr>\n",
       "      <th>4</th>\n",
       "      <td>1.4</td>\n",
       "      <td>0.2</td>\n",
       "      <td>5.0</td>\n",
       "      <td>3.6</td>\n",
       "      <td>setosa</td>\n",
       "    </tr>\n",
       "  </tbody>\n",
       "</table>\n",
       "</div>"
      ],
      "text/plain": [
       "info     petal         sepal        species\n",
       "details length width slength swidth species\n",
       "0          1.4   0.2     5.1    3.5  setosa\n",
       "1          1.4   0.2     4.9    3.0  setosa\n",
       "2          1.3   0.2     4.7    3.2  setosa\n",
       "3          1.5   0.2     4.6    3.1  setosa\n",
       "4          1.4   0.2     5.0    3.6  setosa"
      ]
     },
     "execution_count": 331,
     "metadata": {},
     "output_type": "execute_result"
    }
   ],
   "source": [
    "iris.sort_index(level=['info'], axis=1).head()\n",
    "iris.sort_index(level=0, axis=1).head()"
   ]
  },
  {
   "cell_type": "code",
   "execution_count": 333,
   "id": "9616839b",
   "metadata": {
    "ExecuteTime": {
     "end_time": "2024-11-26T07:18:24.830177Z",
     "start_time": "2024-11-26T07:18:24.815114Z"
    }
   },
   "outputs": [
    {
     "data": {
      "text/html": [
       "<div>\n",
       "<style scoped>\n",
       "    .dataframe tbody tr th:only-of-type {\n",
       "        vertical-align: middle;\n",
       "    }\n",
       "\n",
       "    .dataframe tbody tr th {\n",
       "        vertical-align: top;\n",
       "    }\n",
       "\n",
       "    .dataframe thead tr th {\n",
       "        text-align: left;\n",
       "    }\n",
       "</style>\n",
       "<table border=\"1\" class=\"dataframe\">\n",
       "  <thead>\n",
       "    <tr>\n",
       "      <th>info</th>\n",
       "      <th>petal</th>\n",
       "      <th>sepal</th>\n",
       "      <th>species</th>\n",
       "      <th>sepal</th>\n",
       "      <th>petal</th>\n",
       "    </tr>\n",
       "    <tr>\n",
       "      <th>details</th>\n",
       "      <th>length</th>\n",
       "      <th>slength</th>\n",
       "      <th>species</th>\n",
       "      <th>swidth</th>\n",
       "      <th>width</th>\n",
       "    </tr>\n",
       "  </thead>\n",
       "  <tbody>\n",
       "    <tr>\n",
       "      <th>0</th>\n",
       "      <td>1.4</td>\n",
       "      <td>5.1</td>\n",
       "      <td>setosa</td>\n",
       "      <td>3.5</td>\n",
       "      <td>0.2</td>\n",
       "    </tr>\n",
       "    <tr>\n",
       "      <th>1</th>\n",
       "      <td>1.4</td>\n",
       "      <td>4.9</td>\n",
       "      <td>setosa</td>\n",
       "      <td>3.0</td>\n",
       "      <td>0.2</td>\n",
       "    </tr>\n",
       "    <tr>\n",
       "      <th>2</th>\n",
       "      <td>1.3</td>\n",
       "      <td>4.7</td>\n",
       "      <td>setosa</td>\n",
       "      <td>3.2</td>\n",
       "      <td>0.2</td>\n",
       "    </tr>\n",
       "    <tr>\n",
       "      <th>3</th>\n",
       "      <td>1.5</td>\n",
       "      <td>4.6</td>\n",
       "      <td>setosa</td>\n",
       "      <td>3.1</td>\n",
       "      <td>0.2</td>\n",
       "    </tr>\n",
       "    <tr>\n",
       "      <th>4</th>\n",
       "      <td>1.4</td>\n",
       "      <td>5.0</td>\n",
       "      <td>setosa</td>\n",
       "      <td>3.6</td>\n",
       "      <td>0.2</td>\n",
       "    </tr>\n",
       "  </tbody>\n",
       "</table>\n",
       "</div>"
      ],
      "text/plain": [
       "info     petal   sepal species  sepal petal\n",
       "details length slength species swidth width\n",
       "0          1.4     5.1  setosa    3.5   0.2\n",
       "1          1.4     4.9  setosa    3.0   0.2\n",
       "2          1.3     4.7  setosa    3.2   0.2\n",
       "3          1.5     4.6  setosa    3.1   0.2\n",
       "4          1.4     5.0  setosa    3.6   0.2"
      ]
     },
     "execution_count": 333,
     "metadata": {},
     "output_type": "execute_result"
    }
   ],
   "source": [
    "iris.sort_index(level=['details'], axis=1).head()\n",
    "iris.sort_index(level=1, axis=1).head()"
   ]
  },
  {
   "cell_type": "markdown",
   "id": "459eb436",
   "metadata": {},
   "source": [
    "# 8절. 기초 통계 분석\n",
    "    * 판다스는 기초 통계, 난이도 있는 통계는 statsmodels에 있음\n",
    "- count: NaN을 제외한 갯수\n",
    "- min: 최솟값\n",
    "- max\n",
    "- sum\n",
    "- cumsum: 누적합\n",
    "- cumprod: 누적곱\n",
    "- mean: 평균\n",
    "- median: 중위수\n",
    "- std: 표준편차\n",
    "- var: 분산\n",
    "- quantile: 분위수(0사분위수, 1사분위수, 중위수, 3사분위수, 4사분위수): 이상치 구하는 용도\n",
    "- corr: 상관관계(계수)\n",
    "- describe: 요약통계량"
   ]
  },
  {
   "cell_type": "code",
   "execution_count": 336,
   "id": "2ee2d5bd",
   "metadata": {
    "ExecuteTime": {
     "end_time": "2024-11-26T07:37:12.383700Z",
     "start_time": "2024-11-26T07:37:11.694225Z"
    }
   },
   "outputs": [
    {
     "data": {
      "text/html": [
       "<div>\n",
       "<style scoped>\n",
       "    .dataframe tbody tr th:only-of-type {\n",
       "        vertical-align: middle;\n",
       "    }\n",
       "\n",
       "    .dataframe tbody tr th {\n",
       "        vertical-align: top;\n",
       "    }\n",
       "\n",
       "    .dataframe thead th {\n",
       "        text-align: right;\n",
       "    }\n",
       "</style>\n",
       "<table border=\"1\" class=\"dataframe\">\n",
       "  <thead>\n",
       "    <tr style=\"text-align: right;\">\n",
       "      <th></th>\n",
       "      <th>Sepal.Length</th>\n",
       "      <th>Sepal.Width</th>\n",
       "      <th>Petal.Length</th>\n",
       "      <th>Petal.Width</th>\n",
       "      <th>Species</th>\n",
       "    </tr>\n",
       "  </thead>\n",
       "  <tbody>\n",
       "    <tr>\n",
       "      <th>0</th>\n",
       "      <td>5.1</td>\n",
       "      <td>3.5</td>\n",
       "      <td>1.4</td>\n",
       "      <td>0.2</td>\n",
       "      <td>setosa</td>\n",
       "    </tr>\n",
       "    <tr>\n",
       "      <th>1</th>\n",
       "      <td>4.9</td>\n",
       "      <td>3.0</td>\n",
       "      <td>1.4</td>\n",
       "      <td>0.2</td>\n",
       "      <td>setosa</td>\n",
       "    </tr>\n",
       "  </tbody>\n",
       "</table>\n",
       "</div>"
      ],
      "text/plain": [
       "   Sepal.Length  Sepal.Width  Petal.Length  Petal.Width Species\n",
       "0           5.1          3.5           1.4          0.2  setosa\n",
       "1           4.9          3.0           1.4          0.2  setosa"
      ]
     },
     "execution_count": 336,
     "metadata": {},
     "output_type": "execute_result"
    }
   ],
   "source": [
    "from statsmodels.api import datasets\n",
    "iris = datasets.get_rdataset('iris').data\n",
    "iris.head(2)"
   ]
  },
  {
   "cell_type": "markdown",
   "id": "efc743eb",
   "metadata": {},
   "source": [
    "## 8.1 min, max, mean, ..."
   ]
  },
  {
   "cell_type": "code",
   "execution_count": 337,
   "id": "976915f9",
   "metadata": {
    "ExecuteTime": {
     "end_time": "2024-11-26T07:38:51.585633Z",
     "start_time": "2024-11-26T07:38:51.577655Z"
    }
   },
   "outputs": [
    {
     "data": {
      "text/plain": [
       "Sepal.Length       4.3\n",
       "Sepal.Width        2.0\n",
       "Petal.Length       1.0\n",
       "Petal.Width        0.1\n",
       "Species         setosa\n",
       "dtype: object"
      ]
     },
     "execution_count": 337,
     "metadata": {},
     "output_type": "execute_result"
    }
   ],
   "source": [
    "iris.min() # 열 별 최솟값"
   ]
  },
  {
   "cell_type": "code",
   "execution_count": 347,
   "id": "831e79f8",
   "metadata": {
    "ExecuteTime": {
     "end_time": "2024-11-26T07:43:42.805969Z",
     "start_time": "2024-11-26T07:43:42.797992Z"
    }
   },
   "outputs": [
    {
     "data": {
      "text/plain": [
       "Sepal.Length    5.80\n",
       "Sepal.Width     3.00\n",
       "Petal.Length    4.35\n",
       "Petal.Width     1.30\n",
       "dtype: float64"
      ]
     },
     "execution_count": 347,
     "metadata": {},
     "output_type": "execute_result"
    }
   ],
   "source": [
    "iris.median(axis=0, numeric_only=True) # 0, 1, 2, ... 행들의 중위수\n",
    "                    # numeric_only=True 숫자 필드만 median 적용"
   ]
  },
  {
   "cell_type": "code",
   "execution_count": 349,
   "id": "73ee878b",
   "metadata": {
    "ExecuteTime": {
     "end_time": "2024-11-26T07:44:01.910478Z",
     "start_time": "2024-11-26T07:44:01.899507Z"
    }
   },
   "outputs": [
    {
     "data": {
      "text/html": [
       "<div>\n",
       "<style scoped>\n",
       "    .dataframe tbody tr th:only-of-type {\n",
       "        vertical-align: middle;\n",
       "    }\n",
       "\n",
       "    .dataframe tbody tr th {\n",
       "        vertical-align: top;\n",
       "    }\n",
       "\n",
       "    .dataframe thead th {\n",
       "        text-align: right;\n",
       "    }\n",
       "</style>\n",
       "<table border=\"1\" class=\"dataframe\">\n",
       "  <thead>\n",
       "    <tr style=\"text-align: right;\">\n",
       "      <th></th>\n",
       "      <th>Sepal.Length</th>\n",
       "      <th>Sepal.Width</th>\n",
       "      <th>Petal.Length</th>\n",
       "      <th>Petal.Width</th>\n",
       "    </tr>\n",
       "  </thead>\n",
       "  <tbody>\n",
       "    <tr>\n",
       "      <th>0</th>\n",
       "      <td>5.1</td>\n",
       "      <td>3.5</td>\n",
       "      <td>1.4</td>\n",
       "      <td>0.2</td>\n",
       "    </tr>\n",
       "    <tr>\n",
       "      <th>1</th>\n",
       "      <td>4.9</td>\n",
       "      <td>3.0</td>\n",
       "      <td>1.4</td>\n",
       "      <td>0.2</td>\n",
       "    </tr>\n",
       "    <tr>\n",
       "      <th>2</th>\n",
       "      <td>4.7</td>\n",
       "      <td>3.2</td>\n",
       "      <td>1.3</td>\n",
       "      <td>0.2</td>\n",
       "    </tr>\n",
       "    <tr>\n",
       "      <th>3</th>\n",
       "      <td>4.6</td>\n",
       "      <td>3.1</td>\n",
       "      <td>1.5</td>\n",
       "      <td>0.2</td>\n",
       "    </tr>\n",
       "    <tr>\n",
       "      <th>4</th>\n",
       "      <td>5.0</td>\n",
       "      <td>3.6</td>\n",
       "      <td>1.4</td>\n",
       "      <td>0.2</td>\n",
       "    </tr>\n",
       "  </tbody>\n",
       "</table>\n",
       "</div>"
      ],
      "text/plain": [
       "   Sepal.Length  Sepal.Width  Petal.Length  Petal.Width\n",
       "0           5.1          3.5           1.4          0.2\n",
       "1           4.9          3.0           1.4          0.2\n",
       "2           4.7          3.2           1.3          0.2\n",
       "3           4.6          3.1           1.5          0.2\n",
       "4           5.0          3.6           1.4          0.2"
      ]
     },
     "execution_count": 349,
     "metadata": {},
     "output_type": "execute_result"
    }
   ],
   "source": [
    "X = iris.iloc[:, :-1]\n",
    "X.head()"
   ]
  },
  {
   "cell_type": "code",
   "execution_count": 350,
   "id": "26d697aa",
   "metadata": {
    "ExecuteTime": {
     "end_time": "2024-11-26T07:44:34.422844Z",
     "start_time": "2024-11-26T07:44:34.414887Z"
    }
   },
   "outputs": [
    {
     "data": {
      "text/plain": [
       "Sepal.Length    5.843333\n",
       "Sepal.Width     3.057333\n",
       "Petal.Length    3.758000\n",
       "Petal.Width     1.199333\n",
       "dtype: float64"
      ]
     },
     "execution_count": 350,
     "metadata": {},
     "output_type": "execute_result"
    }
   ],
   "source": [
    "X.mean(axis=0) # 열별평균 = 행들의 평균"
   ]
  },
  {
   "cell_type": "code",
   "execution_count": 351,
   "id": "deccdead",
   "metadata": {
    "ExecuteTime": {
     "end_time": "2024-11-26T07:46:19.434597Z",
     "start_time": "2024-11-26T07:46:19.422613Z"
    }
   },
   "outputs": [
    {
     "data": {
      "text/plain": [
       "0      2.550\n",
       "1      2.375\n",
       "2      2.350\n",
       "3      2.350\n",
       "4      2.550\n",
       "5      2.850\n",
       "6      2.425\n",
       "7      2.525\n",
       "8      2.225\n",
       "9      2.400\n",
       "10     2.700\n",
       "11     2.500\n",
       "12     2.325\n",
       "13     2.125\n",
       "14     2.800\n",
       "15     3.000\n",
       "16     2.750\n",
       "17     2.575\n",
       "18     2.875\n",
       "19     2.675\n",
       "20     2.675\n",
       "21     2.675\n",
       "22     2.350\n",
       "23     2.650\n",
       "24     2.575\n",
       "25     2.450\n",
       "26     2.600\n",
       "27     2.600\n",
       "28     2.550\n",
       "29     2.425\n",
       "30     2.425\n",
       "31     2.675\n",
       "32     2.725\n",
       "33     2.825\n",
       "34     2.425\n",
       "35     2.400\n",
       "36     2.625\n",
       "37     2.500\n",
       "38     2.225\n",
       "39     2.550\n",
       "40     2.525\n",
       "41     2.100\n",
       "42     2.275\n",
       "43     2.675\n",
       "44     2.800\n",
       "45     2.375\n",
       "46     2.675\n",
       "47     2.350\n",
       "48     2.675\n",
       "49     2.475\n",
       "50     4.075\n",
       "51     3.900\n",
       "52     4.100\n",
       "53     3.275\n",
       "54     3.850\n",
       "55     3.575\n",
       "56     3.975\n",
       "57     2.900\n",
       "58     3.850\n",
       "59     3.300\n",
       "60     2.875\n",
       "61     3.650\n",
       "62     3.300\n",
       "63     3.775\n",
       "64     3.350\n",
       "65     3.900\n",
       "66     3.650\n",
       "67     3.400\n",
       "68     3.600\n",
       "69     3.275\n",
       "70     3.925\n",
       "71     3.550\n",
       "72     3.800\n",
       "73     3.700\n",
       "74     3.725\n",
       "75     3.850\n",
       "76     3.950\n",
       "77     4.100\n",
       "78     3.725\n",
       "79     3.200\n",
       "80     3.200\n",
       "81     3.150\n",
       "82     3.400\n",
       "83     3.850\n",
       "84     3.600\n",
       "85     3.875\n",
       "86     4.000\n",
       "87     3.575\n",
       "88     3.500\n",
       "89     3.325\n",
       "90     3.425\n",
       "91     3.775\n",
       "92     3.400\n",
       "93     2.900\n",
       "94     3.450\n",
       "95     3.525\n",
       "96     3.525\n",
       "97     3.675\n",
       "98     2.925\n",
       "99     3.475\n",
       "100    4.525\n",
       "101    3.875\n",
       "102    4.525\n",
       "103    4.150\n",
       "104    4.375\n",
       "105    4.825\n",
       "106    3.400\n",
       "107    4.575\n",
       "108    4.200\n",
       "109    4.850\n",
       "110    4.200\n",
       "111    4.075\n",
       "112    4.350\n",
       "113    3.800\n",
       "114    4.025\n",
       "115    4.300\n",
       "116    4.200\n",
       "117    5.100\n",
       "118    4.875\n",
       "119    3.675\n",
       "120    4.525\n",
       "121    3.825\n",
       "122    4.800\n",
       "123    3.925\n",
       "124    4.450\n",
       "125    4.550\n",
       "126    3.900\n",
       "127    3.950\n",
       "128    4.225\n",
       "129    4.400\n",
       "130    4.550\n",
       "131    5.025\n",
       "132    4.250\n",
       "133    3.925\n",
       "134    3.925\n",
       "135    4.775\n",
       "136    4.425\n",
       "137    4.200\n",
       "138    3.900\n",
       "139    4.375\n",
       "140    4.450\n",
       "141    4.350\n",
       "142    3.875\n",
       "143    4.550\n",
       "144    4.550\n",
       "145    4.300\n",
       "146    3.925\n",
       "147    4.175\n",
       "148    4.325\n",
       "149    3.950\n",
       "dtype: float64"
      ]
     },
     "execution_count": 351,
     "metadata": {},
     "output_type": "execute_result"
    }
   ],
   "source": [
    "X.mean(axis=1) # 행별평균 = 행고정하고 열들의 평균\n",
    "X.mean(axis='columns')"
   ]
  },
  {
   "cell_type": "code",
   "execution_count": 353,
   "id": "2ffa3378",
   "metadata": {
    "ExecuteTime": {
     "end_time": "2024-11-26T07:47:32.032060Z",
     "start_time": "2024-11-26T07:47:32.025078Z"
    }
   },
   "outputs": [
    {
     "data": {
      "text/plain": [
       "Sepal.Length    0.685694\n",
       "Sepal.Width     0.189979\n",
       "Petal.Length    3.116278\n",
       "Petal.Width     0.581006\n",
       "dtype: float64"
      ]
     },
     "execution_count": 353,
     "metadata": {},
     "output_type": "execute_result"
    }
   ],
   "source": [
    "X.var() # 열별 분산"
   ]
  },
  {
   "cell_type": "code",
   "execution_count": 354,
   "id": "574dc203",
   "metadata": {
    "ExecuteTime": {
     "end_time": "2024-11-26T07:47:50.234499Z",
     "start_time": "2024-11-26T07:47:50.226491Z"
    }
   },
   "outputs": [
    {
     "data": {
      "text/plain": [
       "Sepal.Length    0.828066\n",
       "Sepal.Width     0.435866\n",
       "Petal.Length    1.765298\n",
       "Petal.Width     0.762238\n",
       "dtype: float64"
      ]
     },
     "execution_count": 354,
     "metadata": {},
     "output_type": "execute_result"
    }
   ],
   "source": [
    "X.std() # 열별 표준편차"
   ]
  },
  {
   "cell_type": "code",
   "execution_count": 363,
   "id": "8c488ee6",
   "metadata": {
    "ExecuteTime": {
     "end_time": "2024-11-26T07:53:43.337562Z",
     "start_time": "2024-11-26T07:53:43.326726Z"
    }
   },
   "outputs": [
    {
     "data": {
      "text/plain": [
       "0.00    1\n",
       "0.30    2\n",
       "0.55    3\n",
       "0.75    4\n",
       "1.00    5\n",
       "Name: value, dtype: int64"
      ]
     },
     "execution_count": 363,
     "metadata": {},
     "output_type": "execute_result"
    }
   ],
   "source": [
    "data = [1, 2, 3, 4, 5]\n",
    "df = pd.DataFrame(data=data, columns=['value'])\n",
    "# interpolation='nearest': 정확한 구간의 값이 없을 경우 가까운 값 출력\n",
    "df['value'].quantile(q = [0, .3, .55, .75, 1], interpolation='nearest')"
   ]
  },
  {
   "cell_type": "code",
   "execution_count": 364,
   "id": "38774b88",
   "metadata": {
    "ExecuteTime": {
     "end_time": "2024-11-26T07:54:50.369271Z",
     "start_time": "2024-11-26T07:54:50.360412Z"
    }
   },
   "outputs": [
    {
     "data": {
      "text/plain": [
       "0.00    1.0\n",
       "0.30    2.5\n",
       "0.55    3.5\n",
       "0.75    4.0\n",
       "1.00    5.0\n",
       "Name: value, dtype: float64"
      ]
     },
     "execution_count": 364,
     "metadata": {},
     "output_type": "execute_result"
    }
   ],
   "source": [
    "# interpolation='midpoint': 정확한 구간의 값이 없을 경우 환산해서 출력\n",
    "df['value'].quantile(q = [0, .3, .55, .75, 1], interpolation='midpoint')"
   ]
  },
  {
   "cell_type": "code",
   "execution_count": 360,
   "id": "a35c1b28",
   "metadata": {
    "ExecuteTime": {
     "end_time": "2024-11-26T07:51:57.667387Z",
     "start_time": "2024-11-26T07:51:57.655831Z"
    }
   },
   "outputs": [
    {
     "data": {
      "text/html": [
       "<div>\n",
       "<style scoped>\n",
       "    .dataframe tbody tr th:only-of-type {\n",
       "        vertical-align: middle;\n",
       "    }\n",
       "\n",
       "    .dataframe tbody tr th {\n",
       "        vertical-align: top;\n",
       "    }\n",
       "\n",
       "    .dataframe thead th {\n",
       "        text-align: right;\n",
       "    }\n",
       "</style>\n",
       "<table border=\"1\" class=\"dataframe\">\n",
       "  <thead>\n",
       "    <tr style=\"text-align: right;\">\n",
       "      <th></th>\n",
       "      <th>Sepal.Length</th>\n",
       "      <th>Sepal.Width</th>\n",
       "      <th>Petal.Length</th>\n",
       "      <th>Petal.Width</th>\n",
       "    </tr>\n",
       "  </thead>\n",
       "  <tbody>\n",
       "    <tr>\n",
       "      <th>0.00</th>\n",
       "      <td>4.3</td>\n",
       "      <td>2.0</td>\n",
       "      <td>1.0</td>\n",
       "      <td>0.1</td>\n",
       "    </tr>\n",
       "    <tr>\n",
       "      <th>0.25</th>\n",
       "      <td>5.1</td>\n",
       "      <td>2.8</td>\n",
       "      <td>1.6</td>\n",
       "      <td>0.3</td>\n",
       "    </tr>\n",
       "    <tr>\n",
       "      <th>0.50</th>\n",
       "      <td>5.8</td>\n",
       "      <td>3.0</td>\n",
       "      <td>4.3</td>\n",
       "      <td>1.3</td>\n",
       "    </tr>\n",
       "    <tr>\n",
       "      <th>0.75</th>\n",
       "      <td>6.4</td>\n",
       "      <td>3.3</td>\n",
       "      <td>5.1</td>\n",
       "      <td>1.8</td>\n",
       "    </tr>\n",
       "    <tr>\n",
       "      <th>1.00</th>\n",
       "      <td>7.9</td>\n",
       "      <td>4.4</td>\n",
       "      <td>6.9</td>\n",
       "      <td>2.5</td>\n",
       "    </tr>\n",
       "  </tbody>\n",
       "</table>\n",
       "</div>"
      ],
      "text/plain": [
       "      Sepal.Length  Sepal.Width  Petal.Length  Petal.Width\n",
       "0.00           4.3          2.0           1.0          0.1\n",
       "0.25           5.1          2.8           1.6          0.3\n",
       "0.50           5.8          3.0           4.3          1.3\n",
       "0.75           6.4          3.3           5.1          1.8\n",
       "1.00           7.9          4.4           6.9          2.5"
      ]
     },
     "execution_count": 360,
     "metadata": {},
     "output_type": "execute_result"
    }
   ],
   "source": [
    "X.quantile(q = [0, .25, .5, .75, 1], interpolation='nearest')"
   ]
  },
  {
   "cell_type": "code",
   "execution_count": 365,
   "id": "24685809",
   "metadata": {
    "ExecuteTime": {
     "end_time": "2024-11-26T07:57:17.197448Z",
     "start_time": "2024-11-26T07:57:17.183629Z"
    },
    "scrolled": true
   },
   "outputs": [
    {
     "data": {
      "text/html": [
       "<div>\n",
       "<style scoped>\n",
       "    .dataframe tbody tr th:only-of-type {\n",
       "        vertical-align: middle;\n",
       "    }\n",
       "\n",
       "    .dataframe tbody tr th {\n",
       "        vertical-align: top;\n",
       "    }\n",
       "\n",
       "    .dataframe thead th {\n",
       "        text-align: right;\n",
       "    }\n",
       "</style>\n",
       "<table border=\"1\" class=\"dataframe\">\n",
       "  <thead>\n",
       "    <tr style=\"text-align: right;\">\n",
       "      <th></th>\n",
       "      <th>Sepal.Length</th>\n",
       "      <th>Sepal.Width</th>\n",
       "      <th>Petal.Length</th>\n",
       "      <th>Petal.Width</th>\n",
       "    </tr>\n",
       "  </thead>\n",
       "  <tbody>\n",
       "    <tr>\n",
       "      <th>0.00</th>\n",
       "      <td>4.3</td>\n",
       "      <td>2.0</td>\n",
       "      <td>1.0</td>\n",
       "      <td>0.1</td>\n",
       "    </tr>\n",
       "    <tr>\n",
       "      <th>0.25</th>\n",
       "      <td>5.1</td>\n",
       "      <td>2.8</td>\n",
       "      <td>1.6</td>\n",
       "      <td>0.3</td>\n",
       "    </tr>\n",
       "    <tr>\n",
       "      <th>0.50</th>\n",
       "      <td>5.8</td>\n",
       "      <td>3.0</td>\n",
       "      <td>4.3</td>\n",
       "      <td>1.3</td>\n",
       "    </tr>\n",
       "    <tr>\n",
       "      <th>0.75</th>\n",
       "      <td>6.4</td>\n",
       "      <td>3.3</td>\n",
       "      <td>5.1</td>\n",
       "      <td>1.8</td>\n",
       "    </tr>\n",
       "    <tr>\n",
       "      <th>1.00</th>\n",
       "      <td>7.9</td>\n",
       "      <td>4.4</td>\n",
       "      <td>6.9</td>\n",
       "      <td>2.5</td>\n",
       "    </tr>\n",
       "  </tbody>\n",
       "</table>\n",
       "</div>"
      ],
      "text/plain": [
       "      Sepal.Length  Sepal.Width  Petal.Length  Petal.Width\n",
       "0.00           4.3          2.0           1.0          0.1\n",
       "0.25           5.1          2.8           1.6          0.3\n",
       "0.50           5.8          3.0           4.3          1.3\n",
       "0.75           6.4          3.3           5.1          1.8\n",
       "1.00           7.9          4.4           6.9          2.5"
      ]
     },
     "execution_count": 365,
     "metadata": {},
     "output_type": "execute_result"
    }
   ],
   "source": [
    "X.quantile(q = [0, .25, .5, .75, 1], interpolation='nearest')\n",
    "# 사분위수: Q1(1사분위수 25%) - Q2(중위수) - Q3(3사분위수 75%)\n",
    "# IQR: Q3 - Q1\n",
    "# 일반적으로 이상치 판단 기준:\n",
    "    # Q3 + 1.5*IQR보다 큰 값은 이상치로 판단\n",
    "    # Q1 - 1.5*IQR보다 작은 값은 이상치로 판단"
   ]
  },
  {
   "cell_type": "code",
   "execution_count": 366,
   "id": "4a03d159",
   "metadata": {
    "ExecuteTime": {
     "end_time": "2024-11-26T08:14:20.777128Z",
     "start_time": "2024-11-26T08:14:20.768153Z"
    }
   },
   "outputs": [
    {
     "data": {
      "text/plain": [
       "Sepal.Length    7.9\n",
       "Sepal.Width     4.4\n",
       "Petal.Length    6.9\n",
       "Petal.Width     2.5\n",
       "dtype: float64"
      ]
     },
     "execution_count": 366,
     "metadata": {},
     "output_type": "execute_result"
    }
   ],
   "source": []
  },
  {
   "cell_type": "code",
   "execution_count": 367,
   "id": "1d70df8c",
   "metadata": {
    "ExecuteTime": {
     "end_time": "2024-11-26T08:23:19.074404Z",
     "start_time": "2024-11-26T08:23:19.065412Z"
    }
   },
   "outputs": [
    {
     "data": {
      "text/plain": [
       "(150,\n",
       " Sepal.Length    150\n",
       " Sepal.Width     150\n",
       " Petal.Length    150\n",
       " Petal.Width     150\n",
       " dtype: int64)"
      ]
     },
     "execution_count": 367,
     "metadata": {},
     "output_type": "execute_result"
    }
   ],
   "source": [
    "len(X), X.count() # 결측치를 제외한 데이터 갯수"
   ]
  },
  {
   "cell_type": "markdown",
   "id": "f27eb623",
   "metadata": {},
   "source": [
    "## 8.2 요약통계량"
   ]
  },
  {
   "cell_type": "code",
   "execution_count": 369,
   "id": "e5a707c9",
   "metadata": {
    "ExecuteTime": {
     "end_time": "2024-11-26T08:25:16.323213Z",
     "start_time": "2024-11-26T08:25:16.304207Z"
    }
   },
   "outputs": [
    {
     "data": {
      "text/html": [
       "<div>\n",
       "<style scoped>\n",
       "    .dataframe tbody tr th:only-of-type {\n",
       "        vertical-align: middle;\n",
       "    }\n",
       "\n",
       "    .dataframe tbody tr th {\n",
       "        vertical-align: top;\n",
       "    }\n",
       "\n",
       "    .dataframe thead th {\n",
       "        text-align: right;\n",
       "    }\n",
       "</style>\n",
       "<table border=\"1\" class=\"dataframe\">\n",
       "  <thead>\n",
       "    <tr style=\"text-align: right;\">\n",
       "      <th></th>\n",
       "      <th>Sepal.Length</th>\n",
       "      <th>Sepal.Width</th>\n",
       "      <th>Petal.Length</th>\n",
       "      <th>Petal.Width</th>\n",
       "    </tr>\n",
       "  </thead>\n",
       "  <tbody>\n",
       "    <tr>\n",
       "      <th>count</th>\n",
       "      <td>150.000000</td>\n",
       "      <td>150.000000</td>\n",
       "      <td>150.000000</td>\n",
       "      <td>150.000000</td>\n",
       "    </tr>\n",
       "    <tr>\n",
       "      <th>mean</th>\n",
       "      <td>5.843333</td>\n",
       "      <td>3.057333</td>\n",
       "      <td>3.758000</td>\n",
       "      <td>1.199333</td>\n",
       "    </tr>\n",
       "    <tr>\n",
       "      <th>std</th>\n",
       "      <td>0.828066</td>\n",
       "      <td>0.435866</td>\n",
       "      <td>1.765298</td>\n",
       "      <td>0.762238</td>\n",
       "    </tr>\n",
       "    <tr>\n",
       "      <th>min</th>\n",
       "      <td>4.300000</td>\n",
       "      <td>2.000000</td>\n",
       "      <td>1.000000</td>\n",
       "      <td>0.100000</td>\n",
       "    </tr>\n",
       "    <tr>\n",
       "      <th>25%</th>\n",
       "      <td>5.100000</td>\n",
       "      <td>2.800000</td>\n",
       "      <td>1.600000</td>\n",
       "      <td>0.300000</td>\n",
       "    </tr>\n",
       "    <tr>\n",
       "      <th>50%</th>\n",
       "      <td>5.800000</td>\n",
       "      <td>3.000000</td>\n",
       "      <td>4.350000</td>\n",
       "      <td>1.300000</td>\n",
       "    </tr>\n",
       "    <tr>\n",
       "      <th>75%</th>\n",
       "      <td>6.400000</td>\n",
       "      <td>3.300000</td>\n",
       "      <td>5.100000</td>\n",
       "      <td>1.800000</td>\n",
       "    </tr>\n",
       "    <tr>\n",
       "      <th>max</th>\n",
       "      <td>7.900000</td>\n",
       "      <td>4.400000</td>\n",
       "      <td>6.900000</td>\n",
       "      <td>2.500000</td>\n",
       "    </tr>\n",
       "  </tbody>\n",
       "</table>\n",
       "</div>"
      ],
      "text/plain": [
       "       Sepal.Length  Sepal.Width  Petal.Length  Petal.Width\n",
       "count    150.000000   150.000000    150.000000   150.000000\n",
       "mean       5.843333     3.057333      3.758000     1.199333\n",
       "std        0.828066     0.435866      1.765298     0.762238\n",
       "min        4.300000     2.000000      1.000000     0.100000\n",
       "25%        5.100000     2.800000      1.600000     0.300000\n",
       "50%        5.800000     3.000000      4.350000     1.300000\n",
       "75%        6.400000     3.300000      5.100000     1.800000\n",
       "max        7.900000     4.400000      6.900000     2.500000"
      ]
     },
     "execution_count": 369,
     "metadata": {},
     "output_type": "execute_result"
    }
   ],
   "source": [
    "# 1) 기본 요약 통계량\n",
    "iris.describe() # 기본값: 숫자열에서의 요약 통계량"
   ]
  },
  {
   "cell_type": "code",
   "execution_count": 372,
   "id": "6194e6f7",
   "metadata": {
    "ExecuteTime": {
     "end_time": "2024-11-26T08:28:26.234659Z",
     "start_time": "2024-11-26T08:28:26.225609Z"
    }
   },
   "outputs": [
    {
     "data": {
      "text/plain": [
       "count        150\n",
       "unique         3\n",
       "top       setosa\n",
       "freq          50\n",
       "Name: Species, dtype: object"
      ]
     },
     "execution_count": 372,
     "metadata": {},
     "output_type": "execute_result"
    }
   ],
   "source": [
    "iris['Species'].describe()\n",
    "iris.Species.describe()\n",
    "# 문자열에서의 요약 통계량: 데이터갯수, 종류(unique), 최빈값(top), 최빈값 개수(freq)"
   ]
  },
  {
   "cell_type": "code",
   "execution_count": 376,
   "id": "cc72788b",
   "metadata": {
    "ExecuteTime": {
     "end_time": "2024-11-26T08:32:05.356804Z",
     "start_time": "2024-11-26T08:32:05.344286Z"
    }
   },
   "outputs": [
    {
     "name": "stdout",
     "output_type": "stream",
     "text": [
      "<class 'pandas.core.frame.DataFrame'>\n",
      "RangeIndex: 6 entries, 0 to 5\n",
      "Data columns (total 4 columns):\n",
      " #   Column  Non-Null Count  Dtype  \n",
      "---  ------  --------------  -----  \n",
      " 0   a       6 non-null      int64  \n",
      " 1   b       6 non-null      float64\n",
      " 2   c       6 non-null      object \n",
      " 3   d       6 non-null      bool   \n",
      "dtypes: bool(1), float64(1), int64(1), object(1)\n",
      "memory usage: 278.0+ bytes\n"
     ]
    }
   ],
   "source": [
    "# 2) describe()의 include와 exclude 매개변수\n",
    "df = pd.DataFrame({'a':[1, 2, 3]*2, \n",
    "                   'b':[2.1, 4]*3,\n",
    "                   'c':['aaa', 'bbb', 'ccc']*2,\n",
    "                   'd':[True, False]*3})\n",
    "df.info()"
   ]
  },
  {
   "cell_type": "code",
   "execution_count": 377,
   "id": "651330b1",
   "metadata": {
    "ExecuteTime": {
     "end_time": "2024-11-26T08:33:13.464284Z",
     "start_time": "2024-11-26T08:33:13.449621Z"
    }
   },
   "outputs": [
    {
     "data": {
      "text/html": [
       "<div>\n",
       "<style scoped>\n",
       "    .dataframe tbody tr th:only-of-type {\n",
       "        vertical-align: middle;\n",
       "    }\n",
       "\n",
       "    .dataframe tbody tr th {\n",
       "        vertical-align: top;\n",
       "    }\n",
       "\n",
       "    .dataframe thead th {\n",
       "        text-align: right;\n",
       "    }\n",
       "</style>\n",
       "<table border=\"1\" class=\"dataframe\">\n",
       "  <thead>\n",
       "    <tr style=\"text-align: right;\">\n",
       "      <th></th>\n",
       "      <th>a</th>\n",
       "      <th>b</th>\n",
       "    </tr>\n",
       "  </thead>\n",
       "  <tbody>\n",
       "    <tr>\n",
       "      <th>count</th>\n",
       "      <td>6.000000</td>\n",
       "      <td>6.000000</td>\n",
       "    </tr>\n",
       "    <tr>\n",
       "      <th>mean</th>\n",
       "      <td>2.000000</td>\n",
       "      <td>3.050000</td>\n",
       "    </tr>\n",
       "    <tr>\n",
       "      <th>std</th>\n",
       "      <td>0.894427</td>\n",
       "      <td>1.040673</td>\n",
       "    </tr>\n",
       "    <tr>\n",
       "      <th>min</th>\n",
       "      <td>1.000000</td>\n",
       "      <td>2.100000</td>\n",
       "    </tr>\n",
       "    <tr>\n",
       "      <th>25%</th>\n",
       "      <td>1.250000</td>\n",
       "      <td>2.100000</td>\n",
       "    </tr>\n",
       "    <tr>\n",
       "      <th>50%</th>\n",
       "      <td>2.000000</td>\n",
       "      <td>3.050000</td>\n",
       "    </tr>\n",
       "    <tr>\n",
       "      <th>75%</th>\n",
       "      <td>2.750000</td>\n",
       "      <td>4.000000</td>\n",
       "    </tr>\n",
       "    <tr>\n",
       "      <th>max</th>\n",
       "      <td>3.000000</td>\n",
       "      <td>4.000000</td>\n",
       "    </tr>\n",
       "  </tbody>\n",
       "</table>\n",
       "</div>"
      ],
      "text/plain": [
       "              a         b\n",
       "count  6.000000  6.000000\n",
       "mean   2.000000  3.050000\n",
       "std    0.894427  1.040673\n",
       "min    1.000000  2.100000\n",
       "25%    1.250000  2.100000\n",
       "50%    2.000000  3.050000\n",
       "75%    2.750000  4.000000\n",
       "max    3.000000  4.000000"
      ]
     },
     "execution_count": 377,
     "metadata": {},
     "output_type": "execute_result"
    }
   ],
   "source": [
    "df.describe() # 데이터 프레임의 숫자열만 기본 요약 통계량 출력"
   ]
  },
  {
   "cell_type": "code",
   "execution_count": 379,
   "id": "6b162fa0",
   "metadata": {
    "ExecuteTime": {
     "end_time": "2024-11-26T08:35:52.805768Z",
     "start_time": "2024-11-26T08:35:52.792312Z"
    }
   },
   "outputs": [
    {
     "data": {
      "text/html": [
       "<div>\n",
       "<style scoped>\n",
       "    .dataframe tbody tr th:only-of-type {\n",
       "        vertical-align: middle;\n",
       "    }\n",
       "\n",
       "    .dataframe tbody tr th {\n",
       "        vertical-align: top;\n",
       "    }\n",
       "\n",
       "    .dataframe thead th {\n",
       "        text-align: right;\n",
       "    }\n",
       "</style>\n",
       "<table border=\"1\" class=\"dataframe\">\n",
       "  <thead>\n",
       "    <tr style=\"text-align: right;\">\n",
       "      <th></th>\n",
       "      <th>b</th>\n",
       "      <th>d</th>\n",
       "    </tr>\n",
       "  </thead>\n",
       "  <tbody>\n",
       "    <tr>\n",
       "      <th>count</th>\n",
       "      <td>6.000000</td>\n",
       "      <td>6</td>\n",
       "    </tr>\n",
       "    <tr>\n",
       "      <th>unique</th>\n",
       "      <td>NaN</td>\n",
       "      <td>2</td>\n",
       "    </tr>\n",
       "    <tr>\n",
       "      <th>top</th>\n",
       "      <td>NaN</td>\n",
       "      <td>True</td>\n",
       "    </tr>\n",
       "    <tr>\n",
       "      <th>freq</th>\n",
       "      <td>NaN</td>\n",
       "      <td>3</td>\n",
       "    </tr>\n",
       "    <tr>\n",
       "      <th>mean</th>\n",
       "      <td>3.050000</td>\n",
       "      <td>NaN</td>\n",
       "    </tr>\n",
       "    <tr>\n",
       "      <th>std</th>\n",
       "      <td>1.040673</td>\n",
       "      <td>NaN</td>\n",
       "    </tr>\n",
       "    <tr>\n",
       "      <th>min</th>\n",
       "      <td>2.100000</td>\n",
       "      <td>NaN</td>\n",
       "    </tr>\n",
       "    <tr>\n",
       "      <th>25%</th>\n",
       "      <td>2.100000</td>\n",
       "      <td>NaN</td>\n",
       "    </tr>\n",
       "    <tr>\n",
       "      <th>50%</th>\n",
       "      <td>3.050000</td>\n",
       "      <td>NaN</td>\n",
       "    </tr>\n",
       "    <tr>\n",
       "      <th>75%</th>\n",
       "      <td>4.000000</td>\n",
       "      <td>NaN</td>\n",
       "    </tr>\n",
       "    <tr>\n",
       "      <th>max</th>\n",
       "      <td>4.000000</td>\n",
       "      <td>NaN</td>\n",
       "    </tr>\n",
       "  </tbody>\n",
       "</table>\n",
       "</div>"
      ],
      "text/plain": [
       "               b     d\n",
       "count   6.000000     6\n",
       "unique       NaN     2\n",
       "top          NaN  True\n",
       "freq         NaN     3\n",
       "mean    3.050000   NaN\n",
       "std     1.040673   NaN\n",
       "min     2.100000   NaN\n",
       "25%     2.100000   NaN\n",
       "50%     3.050000   NaN\n",
       "75%     4.000000   NaN\n",
       "max     4.000000   NaN"
      ]
     },
     "execution_count": 379,
     "metadata": {},
     "output_type": "execute_result"
    }
   ],
   "source": [
    "# include 매개변수를 통해서 요약통계량을 출력할 타입 지정\n",
    "df.describe(include=['float64', 'bool'])"
   ]
  },
  {
   "cell_type": "code",
   "execution_count": 381,
   "id": "c60912e0",
   "metadata": {
    "ExecuteTime": {
     "end_time": "2024-11-26T08:36:41.375593Z",
     "start_time": "2024-11-26T08:36:41.359740Z"
    }
   },
   "outputs": [
    {
     "data": {
      "text/html": [
       "<div>\n",
       "<style scoped>\n",
       "    .dataframe tbody tr th:only-of-type {\n",
       "        vertical-align: middle;\n",
       "    }\n",
       "\n",
       "    .dataframe tbody tr th {\n",
       "        vertical-align: top;\n",
       "    }\n",
       "\n",
       "    .dataframe thead th {\n",
       "        text-align: right;\n",
       "    }\n",
       "</style>\n",
       "<table border=\"1\" class=\"dataframe\">\n",
       "  <thead>\n",
       "    <tr style=\"text-align: right;\">\n",
       "      <th></th>\n",
       "      <th>a</th>\n",
       "      <th>c</th>\n",
       "      <th>d</th>\n",
       "    </tr>\n",
       "  </thead>\n",
       "  <tbody>\n",
       "    <tr>\n",
       "      <th>count</th>\n",
       "      <td>6.000000</td>\n",
       "      <td>6</td>\n",
       "      <td>6</td>\n",
       "    </tr>\n",
       "    <tr>\n",
       "      <th>unique</th>\n",
       "      <td>NaN</td>\n",
       "      <td>3</td>\n",
       "      <td>2</td>\n",
       "    </tr>\n",
       "    <tr>\n",
       "      <th>top</th>\n",
       "      <td>NaN</td>\n",
       "      <td>aaa</td>\n",
       "      <td>True</td>\n",
       "    </tr>\n",
       "    <tr>\n",
       "      <th>freq</th>\n",
       "      <td>NaN</td>\n",
       "      <td>2</td>\n",
       "      <td>3</td>\n",
       "    </tr>\n",
       "    <tr>\n",
       "      <th>mean</th>\n",
       "      <td>2.000000</td>\n",
       "      <td>NaN</td>\n",
       "      <td>NaN</td>\n",
       "    </tr>\n",
       "    <tr>\n",
       "      <th>std</th>\n",
       "      <td>0.894427</td>\n",
       "      <td>NaN</td>\n",
       "      <td>NaN</td>\n",
       "    </tr>\n",
       "    <tr>\n",
       "      <th>min</th>\n",
       "      <td>1.000000</td>\n",
       "      <td>NaN</td>\n",
       "      <td>NaN</td>\n",
       "    </tr>\n",
       "    <tr>\n",
       "      <th>25%</th>\n",
       "      <td>1.250000</td>\n",
       "      <td>NaN</td>\n",
       "      <td>NaN</td>\n",
       "    </tr>\n",
       "    <tr>\n",
       "      <th>50%</th>\n",
       "      <td>2.000000</td>\n",
       "      <td>NaN</td>\n",
       "      <td>NaN</td>\n",
       "    </tr>\n",
       "    <tr>\n",
       "      <th>75%</th>\n",
       "      <td>2.750000</td>\n",
       "      <td>NaN</td>\n",
       "      <td>NaN</td>\n",
       "    </tr>\n",
       "    <tr>\n",
       "      <th>max</th>\n",
       "      <td>3.000000</td>\n",
       "      <td>NaN</td>\n",
       "      <td>NaN</td>\n",
       "    </tr>\n",
       "  </tbody>\n",
       "</table>\n",
       "</div>"
      ],
      "text/plain": [
       "               a    c     d\n",
       "count   6.000000    6     6\n",
       "unique       NaN    3     2\n",
       "top          NaN  aaa  True\n",
       "freq         NaN    2     3\n",
       "mean    2.000000  NaN   NaN\n",
       "std     0.894427  NaN   NaN\n",
       "min     1.000000  NaN   NaN\n",
       "25%     1.250000  NaN   NaN\n",
       "50%     2.000000  NaN   NaN\n",
       "75%     2.750000  NaN   NaN\n",
       "max     3.000000  NaN   NaN"
      ]
     },
     "execution_count": 381,
     "metadata": {},
     "output_type": "execute_result"
    }
   ],
   "source": [
    "# exclude 매개변수를 통해서 제외할 타입 지정\n",
    "df.describe(exclude=['float64'])"
   ]
  },
  {
   "cell_type": "code",
   "execution_count": 382,
   "id": "9bd1d40d",
   "metadata": {
    "ExecuteTime": {
     "end_time": "2024-11-26T08:37:18.460827Z",
     "start_time": "2024-11-26T08:37:18.440436Z"
    }
   },
   "outputs": [
    {
     "data": {
      "text/html": [
       "<div>\n",
       "<style scoped>\n",
       "    .dataframe tbody tr th:only-of-type {\n",
       "        vertical-align: middle;\n",
       "    }\n",
       "\n",
       "    .dataframe tbody tr th {\n",
       "        vertical-align: top;\n",
       "    }\n",
       "\n",
       "    .dataframe thead th {\n",
       "        text-align: right;\n",
       "    }\n",
       "</style>\n",
       "<table border=\"1\" class=\"dataframe\">\n",
       "  <thead>\n",
       "    <tr style=\"text-align: right;\">\n",
       "      <th></th>\n",
       "      <th>a</th>\n",
       "      <th>b</th>\n",
       "      <th>c</th>\n",
       "      <th>d</th>\n",
       "    </tr>\n",
       "  </thead>\n",
       "  <tbody>\n",
       "    <tr>\n",
       "      <th>count</th>\n",
       "      <td>6.000000</td>\n",
       "      <td>6.000000</td>\n",
       "      <td>6</td>\n",
       "      <td>6</td>\n",
       "    </tr>\n",
       "    <tr>\n",
       "      <th>unique</th>\n",
       "      <td>NaN</td>\n",
       "      <td>NaN</td>\n",
       "      <td>3</td>\n",
       "      <td>2</td>\n",
       "    </tr>\n",
       "    <tr>\n",
       "      <th>top</th>\n",
       "      <td>NaN</td>\n",
       "      <td>NaN</td>\n",
       "      <td>aaa</td>\n",
       "      <td>True</td>\n",
       "    </tr>\n",
       "    <tr>\n",
       "      <th>freq</th>\n",
       "      <td>NaN</td>\n",
       "      <td>NaN</td>\n",
       "      <td>2</td>\n",
       "      <td>3</td>\n",
       "    </tr>\n",
       "    <tr>\n",
       "      <th>mean</th>\n",
       "      <td>2.000000</td>\n",
       "      <td>3.050000</td>\n",
       "      <td>NaN</td>\n",
       "      <td>NaN</td>\n",
       "    </tr>\n",
       "    <tr>\n",
       "      <th>std</th>\n",
       "      <td>0.894427</td>\n",
       "      <td>1.040673</td>\n",
       "      <td>NaN</td>\n",
       "      <td>NaN</td>\n",
       "    </tr>\n",
       "    <tr>\n",
       "      <th>min</th>\n",
       "      <td>1.000000</td>\n",
       "      <td>2.100000</td>\n",
       "      <td>NaN</td>\n",
       "      <td>NaN</td>\n",
       "    </tr>\n",
       "    <tr>\n",
       "      <th>25%</th>\n",
       "      <td>1.250000</td>\n",
       "      <td>2.100000</td>\n",
       "      <td>NaN</td>\n",
       "      <td>NaN</td>\n",
       "    </tr>\n",
       "    <tr>\n",
       "      <th>50%</th>\n",
       "      <td>2.000000</td>\n",
       "      <td>3.050000</td>\n",
       "      <td>NaN</td>\n",
       "      <td>NaN</td>\n",
       "    </tr>\n",
       "    <tr>\n",
       "      <th>75%</th>\n",
       "      <td>2.750000</td>\n",
       "      <td>4.000000</td>\n",
       "      <td>NaN</td>\n",
       "      <td>NaN</td>\n",
       "    </tr>\n",
       "    <tr>\n",
       "      <th>max</th>\n",
       "      <td>3.000000</td>\n",
       "      <td>4.000000</td>\n",
       "      <td>NaN</td>\n",
       "      <td>NaN</td>\n",
       "    </tr>\n",
       "  </tbody>\n",
       "</table>\n",
       "</div>"
      ],
      "text/plain": [
       "               a         b    c     d\n",
       "count   6.000000  6.000000    6     6\n",
       "unique       NaN       NaN    3     2\n",
       "top          NaN       NaN  aaa  True\n",
       "freq         NaN       NaN    2     3\n",
       "mean    2.000000  3.050000  NaN   NaN\n",
       "std     0.894427  1.040673  NaN   NaN\n",
       "min     1.000000  2.100000  NaN   NaN\n",
       "25%     1.250000  2.100000  NaN   NaN\n",
       "50%     2.000000  3.050000  NaN   NaN\n",
       "75%     2.750000  4.000000  NaN   NaN\n",
       "max     3.000000  4.000000  NaN   NaN"
      ]
     },
     "execution_count": 382,
     "metadata": {},
     "output_type": "execute_result"
    }
   ],
   "source": [
    "df.describe(include='all') # 데이터 프레임의 모든 열의 요약 통계량 출력"
   ]
  },
  {
   "cell_type": "code",
   "execution_count": 385,
   "id": "ff92ece8",
   "metadata": {
    "ExecuteTime": {
     "end_time": "2024-11-26T08:39:30.546042Z",
     "start_time": "2024-11-26T08:39:30.540022Z"
    }
   },
   "outputs": [
    {
     "data": {
      "text/plain": [
       "array(['aaa', 'bbb', 'ccc'], dtype=object)"
      ]
     },
     "execution_count": 385,
     "metadata": {},
     "output_type": "execute_result"
    }
   ],
   "source": [
    "df['c'].unique() # 특정 컬럼의 고유 값들의 종류"
   ]
  },
  {
   "cell_type": "code",
   "execution_count": 386,
   "id": "c6bf786c",
   "metadata": {
    "ExecuteTime": {
     "end_time": "2024-11-26T08:40:48.745828Z",
     "start_time": "2024-11-26T08:40:48.711996Z"
    }
   },
   "outputs": [
    {
     "data": {
      "text/plain": [
       "aaa    2\n",
       "bbb    2\n",
       "ccc    2\n",
       "Name: c, dtype: int64"
      ]
     },
     "execution_count": 386,
     "metadata": {},
     "output_type": "execute_result"
    }
   ],
   "source": [
    "df['c'].value_counts() # 고유값들의 빈도"
   ]
  },
  {
   "cell_type": "code",
   "execution_count": 387,
   "id": "2ec1cb8e",
   "metadata": {
    "ExecuteTime": {
     "end_time": "2024-11-26T08:42:11.403880Z",
     "start_time": "2024-11-26T08:42:11.394608Z"
    }
   },
   "outputs": [
    {
     "data": {
      "text/html": [
       "<div>\n",
       "<style scoped>\n",
       "    .dataframe tbody tr th:only-of-type {\n",
       "        vertical-align: middle;\n",
       "    }\n",
       "\n",
       "    .dataframe tbody tr th {\n",
       "        vertical-align: top;\n",
       "    }\n",
       "\n",
       "    .dataframe thead th {\n",
       "        text-align: right;\n",
       "    }\n",
       "</style>\n",
       "<table border=\"1\" class=\"dataframe\">\n",
       "  <thead>\n",
       "    <tr style=\"text-align: right;\">\n",
       "      <th></th>\n",
       "      <th>c</th>\n",
       "    </tr>\n",
       "  </thead>\n",
       "  <tbody>\n",
       "    <tr>\n",
       "      <th>0</th>\n",
       "      <td>aaa</td>\n",
       "    </tr>\n",
       "    <tr>\n",
       "      <th>1</th>\n",
       "      <td>bbb</td>\n",
       "    </tr>\n",
       "    <tr>\n",
       "      <th>2</th>\n",
       "      <td>ccc</td>\n",
       "    </tr>\n",
       "    <tr>\n",
       "      <th>3</th>\n",
       "      <td>aaa</td>\n",
       "    </tr>\n",
       "    <tr>\n",
       "      <th>4</th>\n",
       "      <td>bbb</td>\n",
       "    </tr>\n",
       "    <tr>\n",
       "      <th>5</th>\n",
       "      <td>ccc</td>\n",
       "    </tr>\n",
       "  </tbody>\n",
       "</table>\n",
       "</div>"
      ],
      "text/plain": [
       "     c\n",
       "0  aaa\n",
       "1  bbb\n",
       "2  ccc\n",
       "3  aaa\n",
       "4  bbb\n",
       "5  ccc"
      ]
     },
     "execution_count": 387,
     "metadata": {},
     "output_type": "execute_result"
    }
   ],
   "source": [
    "df.select_dtypes(include=object) # object형인 컬럼만 추출"
   ]
  },
  {
   "cell_type": "code",
   "execution_count": 388,
   "id": "bc7f10e0",
   "metadata": {
    "ExecuteTime": {
     "end_time": "2024-11-26T08:42:55.806297Z",
     "start_time": "2024-11-26T08:42:55.796304Z"
    }
   },
   "outputs": [
    {
     "data": {
      "text/html": [
       "<div>\n",
       "<style scoped>\n",
       "    .dataframe tbody tr th:only-of-type {\n",
       "        vertical-align: middle;\n",
       "    }\n",
       "\n",
       "    .dataframe tbody tr th {\n",
       "        vertical-align: top;\n",
       "    }\n",
       "\n",
       "    .dataframe thead th {\n",
       "        text-align: right;\n",
       "    }\n",
       "</style>\n",
       "<table border=\"1\" class=\"dataframe\">\n",
       "  <thead>\n",
       "    <tr style=\"text-align: right;\">\n",
       "      <th></th>\n",
       "      <th>a</th>\n",
       "      <th>b</th>\n",
       "      <th>d</th>\n",
       "    </tr>\n",
       "  </thead>\n",
       "  <tbody>\n",
       "    <tr>\n",
       "      <th>0</th>\n",
       "      <td>1</td>\n",
       "      <td>2.1</td>\n",
       "      <td>True</td>\n",
       "    </tr>\n",
       "    <tr>\n",
       "      <th>1</th>\n",
       "      <td>2</td>\n",
       "      <td>4.0</td>\n",
       "      <td>False</td>\n",
       "    </tr>\n",
       "    <tr>\n",
       "      <th>2</th>\n",
       "      <td>3</td>\n",
       "      <td>2.1</td>\n",
       "      <td>True</td>\n",
       "    </tr>\n",
       "    <tr>\n",
       "      <th>3</th>\n",
       "      <td>1</td>\n",
       "      <td>4.0</td>\n",
       "      <td>False</td>\n",
       "    </tr>\n",
       "    <tr>\n",
       "      <th>4</th>\n",
       "      <td>2</td>\n",
       "      <td>2.1</td>\n",
       "      <td>True</td>\n",
       "    </tr>\n",
       "    <tr>\n",
       "      <th>5</th>\n",
       "      <td>3</td>\n",
       "      <td>4.0</td>\n",
       "      <td>False</td>\n",
       "    </tr>\n",
       "  </tbody>\n",
       "</table>\n",
       "</div>"
      ],
      "text/plain": [
       "   a    b      d\n",
       "0  1  2.1   True\n",
       "1  2  4.0  False\n",
       "2  3  2.1   True\n",
       "3  1  4.0  False\n",
       "4  2  2.1   True\n",
       "5  3  4.0  False"
      ]
     },
     "execution_count": 388,
     "metadata": {},
     "output_type": "execute_result"
    }
   ],
   "source": [
    "df.select_dtypes(exclude=object) # object형인 컬럼을 제외하고 추출"
   ]
  },
  {
   "cell_type": "markdown",
   "id": "44032123",
   "metadata": {},
   "source": [
    "## 8.3 공분산, 상관계수"
   ]
  },
  {
   "cell_type": "code",
   "execution_count": 389,
   "id": "9335de88",
   "metadata": {
    "ExecuteTime": {
     "end_time": "2024-11-26T08:45:43.174419Z",
     "start_time": "2024-11-26T08:45:43.105818Z"
    }
   },
   "outputs": [
    {
     "data": {
      "text/html": [
       "<div>\n",
       "<style scoped>\n",
       "    .dataframe tbody tr th:only-of-type {\n",
       "        vertical-align: middle;\n",
       "    }\n",
       "\n",
       "    .dataframe tbody tr th {\n",
       "        vertical-align: top;\n",
       "    }\n",
       "\n",
       "    .dataframe thead th {\n",
       "        text-align: right;\n",
       "    }\n",
       "</style>\n",
       "<table border=\"1\" class=\"dataframe\">\n",
       "  <thead>\n",
       "    <tr style=\"text-align: right;\">\n",
       "      <th></th>\n",
       "      <th>Sepal.Length</th>\n",
       "      <th>Sepal.Width</th>\n",
       "      <th>Petal.Length</th>\n",
       "      <th>Petal.Width</th>\n",
       "    </tr>\n",
       "  </thead>\n",
       "  <tbody>\n",
       "    <tr>\n",
       "      <th>Sepal.Length</th>\n",
       "      <td>0.685694</td>\n",
       "      <td>-0.042434</td>\n",
       "      <td>1.274315</td>\n",
       "      <td>0.516271</td>\n",
       "    </tr>\n",
       "    <tr>\n",
       "      <th>Sepal.Width</th>\n",
       "      <td>-0.042434</td>\n",
       "      <td>0.189979</td>\n",
       "      <td>-0.329656</td>\n",
       "      <td>-0.121639</td>\n",
       "    </tr>\n",
       "    <tr>\n",
       "      <th>Petal.Length</th>\n",
       "      <td>1.274315</td>\n",
       "      <td>-0.329656</td>\n",
       "      <td>3.116278</td>\n",
       "      <td>1.295609</td>\n",
       "    </tr>\n",
       "    <tr>\n",
       "      <th>Petal.Width</th>\n",
       "      <td>0.516271</td>\n",
       "      <td>-0.121639</td>\n",
       "      <td>1.295609</td>\n",
       "      <td>0.581006</td>\n",
       "    </tr>\n",
       "  </tbody>\n",
       "</table>\n",
       "</div>"
      ],
      "text/plain": [
       "              Sepal.Length  Sepal.Width  Petal.Length  Petal.Width\n",
       "Sepal.Length      0.685694    -0.042434      1.274315     0.516271\n",
       "Sepal.Width      -0.042434     0.189979     -0.329656    -0.121639\n",
       "Petal.Length      1.274315    -0.329656      3.116278     1.295609\n",
       "Petal.Width       0.516271    -0.121639      1.295609     0.581006"
      ]
     },
     "execution_count": 389,
     "metadata": {},
     "output_type": "execute_result"
    }
   ],
   "source": [
    "# 공분산: (x1-x1평균)*(x2-x2평균)들의 합을 n-1을 나눈 값\n",
    "X.cov()"
   ]
  },
  {
   "cell_type": "code",
   "execution_count": 390,
   "id": "ea8cb06f",
   "metadata": {
    "ExecuteTime": {
     "end_time": "2024-11-26T08:52:33.928701Z",
     "start_time": "2024-11-26T08:52:33.916429Z"
    }
   },
   "outputs": [
    {
     "data": {
      "text/html": [
       "<div>\n",
       "<style scoped>\n",
       "    .dataframe tbody tr th:only-of-type {\n",
       "        vertical-align: middle;\n",
       "    }\n",
       "\n",
       "    .dataframe tbody tr th {\n",
       "        vertical-align: top;\n",
       "    }\n",
       "\n",
       "    .dataframe thead th {\n",
       "        text-align: right;\n",
       "    }\n",
       "</style>\n",
       "<table border=\"1\" class=\"dataframe\">\n",
       "  <thead>\n",
       "    <tr style=\"text-align: right;\">\n",
       "      <th></th>\n",
       "      <th>Sepal.Length</th>\n",
       "      <th>Sepal.Width</th>\n",
       "      <th>Petal.Length</th>\n",
       "      <th>Petal.Width</th>\n",
       "    </tr>\n",
       "  </thead>\n",
       "  <tbody>\n",
       "    <tr>\n",
       "      <th>Sepal.Length</th>\n",
       "      <td>1.000000</td>\n",
       "      <td>-0.117570</td>\n",
       "      <td>0.871754</td>\n",
       "      <td>0.817941</td>\n",
       "    </tr>\n",
       "    <tr>\n",
       "      <th>Sepal.Width</th>\n",
       "      <td>-0.117570</td>\n",
       "      <td>1.000000</td>\n",
       "      <td>-0.428440</td>\n",
       "      <td>-0.366126</td>\n",
       "    </tr>\n",
       "    <tr>\n",
       "      <th>Petal.Length</th>\n",
       "      <td>0.871754</td>\n",
       "      <td>-0.428440</td>\n",
       "      <td>1.000000</td>\n",
       "      <td>0.962865</td>\n",
       "    </tr>\n",
       "    <tr>\n",
       "      <th>Petal.Width</th>\n",
       "      <td>0.817941</td>\n",
       "      <td>-0.366126</td>\n",
       "      <td>0.962865</td>\n",
       "      <td>1.000000</td>\n",
       "    </tr>\n",
       "  </tbody>\n",
       "</table>\n",
       "</div>"
      ],
      "text/plain": [
       "              Sepal.Length  Sepal.Width  Petal.Length  Petal.Width\n",
       "Sepal.Length      1.000000    -0.117570      0.871754     0.817941\n",
       "Sepal.Width      -0.117570     1.000000     -0.428440    -0.366126\n",
       "Petal.Length      0.871754    -0.428440      1.000000     0.962865\n",
       "Petal.Width       0.817941    -0.366126      0.962865     1.000000"
      ]
     },
     "execution_count": 390,
     "metadata": {},
     "output_type": "execute_result"
    }
   ],
   "source": [
    "# -1 < 상관계수(공분산/(x1표준편차*x2표준편차)) < 1\n",
    "X.corr()"
   ]
  },
  {
   "cell_type": "code",
   "execution_count": 394,
   "id": "ad6f4a86",
   "metadata": {
    "ExecuteTime": {
     "end_time": "2024-11-26T08:56:44.584586Z",
     "start_time": "2024-11-26T08:56:44.209576Z"
    }
   },
   "outputs": [
    {
     "data": {
      "image/png": "[encoded data removed]",
      "text/plain": [
       "<Figure size 1200x500 with 2 Axes>"
      ]
     },
     "metadata": {},
     "output_type": "display_data"
    }
   ],
   "source": [
    "import matplotlib.pyplot as plt\n",
    "import seaborn as sns\n",
    "plt.figure(figsize=(12,5))\n",
    "sns.heatmap(X.corr(), vmin=-1, vmax=1, annot=True, cmap='Greens', fmt='.2f')\n",
    "plt.show()"
   ]
  },
  {
   "cell_type": "code",
   "execution_count": null,
   "id": "0ba18038",
   "metadata": {},
   "outputs": [],
   "source": []
  },
  {
   "cell_type": "code",
   "execution_count": null,
   "id": "0799eff6",
   "metadata": {},
   "outputs": [],
   "source": []
  },
  {
   "cell_type": "code",
   "execution_count": null,
   "id": "dda22642",
   "metadata": {},
   "outputs": [],
   "source": []
  },
  {
   "cell_type": "code",
   "execution_count": null,
   "id": "a1c1a621",
   "metadata": {},
   "outputs": [],
   "source": []
  },
  {
   "cell_type": "code",
   "execution_count": null,
   "id": "e13362b5",
   "metadata": {},
   "outputs": [],
   "source": []
  },
  {
   "cell_type": "code",
   "execution_count": null,
   "id": "4133bb6b",
   "metadata": {},
   "outputs": [],
   "source": []
  },
  {
   "cell_type": "code",
   "execution_count": null,
   "id": "460dc342",
   "metadata": {},
   "outputs": [],
   "source": []
  }
 ],
 "metadata": {
  "kernelspec": {
   "display_name": "Python 3 (ipykernel)",
   "language": "python",
   "name": "python3"
  },
  "language_info": {
   "codemirror_mode": {
    "name": "ipython",
    "version": 3
   },
   "file_extension": ".py",
   "mimetype": "text/x-python",
   "name": "python",
   "nbconvert_exporter": "python",
   "pygments_lexer": "ipython3",
   "version": "3.10.9"
  },
  "toc": {
   "base_numbering": 1,
   "nav_menu": {},
   "number_sections": true,
   "sideBar": true,
   "skip_h1_title": false,
   "title_cell": "Table of Contents",
   "title_sidebar": "Contents",
   "toc_cell": false,
   "toc_position": {
    "height": "calc(100% - 180px)",
    "left": "10px",
    "top": "150px",
    "width": "289px"
   },
   "toc_section_display": true,
   "toc_window_display": true
  }
 },
 "nbformat": 4,
 "nbformat_minor": 5
}
