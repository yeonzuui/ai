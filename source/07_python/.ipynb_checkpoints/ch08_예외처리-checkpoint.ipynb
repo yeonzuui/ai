{
 "cells": [
  {
   "cell_type": "markdown",
   "id": "acd8b6c3",
   "metadata": {},
   "source": [
    "<font size=\"6\" color=\"red\"><b>ch08.예외처리</b></font>"
   ]
  },
  {
   "cell_type": "markdown",
   "id": "da200cc3",
   "metadata": {},
   "source": [
    "# 1절. 예외처리\n",
    "```\n",
    "- 예외가 날 가능성이 있는 부분에 대해 미리 예상하고, 그에 대한 처리를 프로그래밍하는 것\n",
    "    (이유: 좀 더 안정적으로 실행할 수 있도록 함)\n",
    "    ex. 파일을 다룰 때, 파일이 없거나, 쓰기 금지로 인한 오류\n",
    "    ex. 데이터베이스 프로그래밍 시 제약조건 등에 의한 CRUD 명령 수행. DBMS 서버 오류\n",
    "    ex. 네트워크 프로그래밍 시 네트워크 연결 실패 오류\n",
    "    ex. 웹 프로그래밍 작성 시 웹 서버 오류\n",
    "    ex. 리스트나 튜플의 인덱스를 벗어난 참조로 인한 오류\n",
    "    ex. 웹크롤링 시\n",
    "        try:\n",
    "            데이터 수집코드 \n",
    "        except:\n",
    "            오류가 났을 경우 대신 실행할 코드\n",
    "```"
   ]
  },
  {
   "cell_type": "code",
   "execution_count": 3,
   "id": "24181a0c",
   "metadata": {
    "ExecuteTime": {
     "end_time": "2024-11-15T08:00:25.117348Z",
     "start_time": "2024-11-15T07:59:34.473182Z"
    }
   },
   "outputs": [
    {
     "name": "stdout",
     "output_type": "stream",
     "text": [
      "파일명?ㅇㅇ\n"
     ]
    },
    {
     "ename": "FileNotFoundError",
     "evalue": "[Errno 2] No such file or directory: 'data/ㅇㅇ'",
     "output_type": "error",
     "traceback": [
      "\u001b[1;31m---------------------------------------------------------------------------\u001b[0m",
      "\u001b[1;31mFileNotFoundError\u001b[0m                         Traceback (most recent call last)",
      "Cell \u001b[1;32mIn[3], line 3\u001b[0m\n\u001b[0;32m      1\u001b[0m filename \u001b[38;5;241m=\u001b[39m \u001b[38;5;28minput\u001b[39m(\u001b[38;5;124m'\u001b[39m\u001b[38;5;124m파일명?\u001b[39m\u001b[38;5;124m'\u001b[39m) \u001b[38;5;66;03m# ch08.txt\u001b[39;00m\n\u001b[0;32m      2\u001b[0m \u001b[38;5;66;03m# open() 파이썬 내장함수\u001b[39;00m\n\u001b[1;32m----> 3\u001b[0m f \u001b[38;5;241m=\u001b[39m \u001b[38;5;28;43mopen\u001b[39;49m\u001b[43m(\u001b[49m\u001b[38;5;124;43m'\u001b[39;49m\u001b[38;5;124;43mdata/\u001b[39;49m\u001b[38;5;124;43m'\u001b[39;49m\u001b[38;5;241;43m+\u001b[39;49m\u001b[43mfilename\u001b[49m\u001b[43m,\u001b[49m\u001b[43m \u001b[49m\u001b[38;5;124;43m'\u001b[39;49m\u001b[38;5;124;43mr\u001b[39;49m\u001b[38;5;124;43m'\u001b[39;49m\u001b[43m)\u001b[49m \u001b[38;5;66;03m# 읽기전용으로 파일을 열기(읽기 전용 stream 객체 생성)\u001b[39;00m\n\u001b[0;32m      4\u001b[0m \u001b[38;5;28mprint\u001b[39m(f\u001b[38;5;241m.\u001b[39mread())\n",
      "File \u001b[1;32m~\\anaconda3\\lib\\site-packages\\IPython\\core\\interactiveshell.py:282\u001b[0m, in \u001b[0;36m_modified_open\u001b[1;34m(file, *args, **kwargs)\u001b[0m\n\u001b[0;32m    275\u001b[0m \u001b[38;5;28;01mif\u001b[39;00m file \u001b[38;5;129;01min\u001b[39;00m {\u001b[38;5;241m0\u001b[39m, \u001b[38;5;241m1\u001b[39m, \u001b[38;5;241m2\u001b[39m}:\n\u001b[0;32m    276\u001b[0m     \u001b[38;5;28;01mraise\u001b[39;00m \u001b[38;5;167;01mValueError\u001b[39;00m(\n\u001b[0;32m    277\u001b[0m         \u001b[38;5;124mf\u001b[39m\u001b[38;5;124m\"\u001b[39m\u001b[38;5;124mIPython won\u001b[39m\u001b[38;5;124m'\u001b[39m\u001b[38;5;124mt let you open fd=\u001b[39m\u001b[38;5;132;01m{\u001b[39;00mfile\u001b[38;5;132;01m}\u001b[39;00m\u001b[38;5;124m by default \u001b[39m\u001b[38;5;124m\"\u001b[39m\n\u001b[0;32m    278\u001b[0m         \u001b[38;5;124m\"\u001b[39m\u001b[38;5;124mas it is likely to crash IPython. If you know what you are doing, \u001b[39m\u001b[38;5;124m\"\u001b[39m\n\u001b[0;32m    279\u001b[0m         \u001b[38;5;124m\"\u001b[39m\u001b[38;5;124myou can use builtins\u001b[39m\u001b[38;5;124m'\u001b[39m\u001b[38;5;124m open.\u001b[39m\u001b[38;5;124m\"\u001b[39m\n\u001b[0;32m    280\u001b[0m     )\n\u001b[1;32m--> 282\u001b[0m \u001b[38;5;28;01mreturn\u001b[39;00m io_open(file, \u001b[38;5;241m*\u001b[39margs, \u001b[38;5;241m*\u001b[39m\u001b[38;5;241m*\u001b[39mkwargs)\n",
      "\u001b[1;31mFileNotFoundError\u001b[0m: [Errno 2] No such file or directory: 'data/ㅇㅇ'"
     ]
    }
   ],
   "source": [
    "filename = input('파일명?') # ch08.txt\n",
    "# open() 파이썬 내장함수\n",
    "f = open('data/'+filename, 'r') # 읽기전용으로 파일을 열기(읽기 전용 stream 객체 생성)\n",
    "print(f.read())\n",
    "# 없는 파일명 입력하면 FileNotFoundError와 함께 예외메세지 출력"
   ]
  },
  {
   "cell_type": "code",
   "execution_count": 4,
   "id": "557e3a05",
   "metadata": {
    "ExecuteTime": {
     "end_time": "2024-11-15T08:00:27.323806Z",
     "start_time": "2024-11-15T08:00:27.305081Z"
    }
   },
   "outputs": [
    {
     "ename": "ZeroDivisionError",
     "evalue": "division by zero",
     "output_type": "error",
     "traceback": [
      "\u001b[1;31m---------------------------------------------------------------------------\u001b[0m",
      "\u001b[1;31mZeroDivisionError\u001b[0m                         Traceback (most recent call last)",
      "Cell \u001b[1;32mIn[4], line 1\u001b[0m\n\u001b[1;32m----> 1\u001b[0m \u001b[38;5;241;43m4\u001b[39;49m\u001b[43m \u001b[49m\u001b[38;5;241;43m/\u001b[39;49m\u001b[43m \u001b[49m\u001b[38;5;241;43m0\u001b[39;49m\n",
      "\u001b[1;31mZeroDivisionError\u001b[0m: division by zero"
     ]
    }
   ],
   "source": [
    "4 / 0"
   ]
  },
  {
   "cell_type": "code",
   "execution_count": 5,
   "id": "d7d37a2c",
   "metadata": {
    "ExecuteTime": {
     "end_time": "2024-11-15T08:00:36.418848Z",
     "start_time": "2024-11-15T08:00:36.393262Z"
    }
   },
   "outputs": [
    {
     "ename": "IndexError",
     "evalue": "list index out of range",
     "output_type": "error",
     "traceback": [
      "\u001b[1;31m---------------------------------------------------------------------------\u001b[0m",
      "\u001b[1;31mIndexError\u001b[0m                                Traceback (most recent call last)",
      "Cell \u001b[1;32mIn[5], line 2\u001b[0m\n\u001b[0;32m      1\u001b[0m a \u001b[38;5;241m=\u001b[39m [\u001b[38;5;241m1\u001b[39m, \u001b[38;5;241m2\u001b[39m, \u001b[38;5;241m3\u001b[39m]\n\u001b[1;32m----> 2\u001b[0m \u001b[43ma\u001b[49m\u001b[43m[\u001b[49m\u001b[38;5;241;43m3\u001b[39;49m\u001b[43m]\u001b[49m\n",
      "\u001b[1;31mIndexError\u001b[0m: list index out of range"
     ]
    }
   ],
   "source": [
    "a = [1, 2, 3]\n",
    "a[3]"
   ]
  },
  {
   "cell_type": "markdown",
   "id": "3ddf1278",
   "metadata": {},
   "source": [
    "# 2절. try~except로 예외처리\n",
    "## 2.1 try~except\n",
    "```\n",
    "try:\n",
    "    예외가 발생할 가능성이 있는 명령어들\n",
    "except:\n",
    "    예외가 발생했을 경우 실행할 명령어\n",
    "```"
   ]
  },
  {
   "cell_type": "code",
   "execution_count": 9,
   "id": "0793826f",
   "metadata": {
    "ExecuteTime": {
     "end_time": "2024-11-15T08:17:35.118086Z",
     "start_time": "2024-11-15T08:17:33.145483Z"
    }
   },
   "outputs": [
    {
     "name": "stdout",
     "output_type": "stream",
     "text": [
      "정수를 입력하세요: 3\n",
      "입력한 정수는 3\n",
      "100을 입력한 정수로 나누면 33.333333333333336\n"
     ]
    }
   ],
   "source": [
    "# 100을 입력받은 정수값으로 나눠 출력\n",
    "x = int(input('정수를 입력하세요: '))\n",
    "print('입력한 정수는 {}'.format(x))\n",
    "print('100을 입력한 정수로 나누면 {}'.format(100/x))\n",
    "# 발생 가능한 예외 타입\n",
    "# ValueError: 빈 스트링이나 int 형변환 불가능한 문자를 입력할 경우\n",
    "# ZeroDivisionError: 0을 입력했을 경우"
   ]
  },
  {
   "cell_type": "code",
   "execution_count": 10,
   "id": "b796508b",
   "metadata": {
    "ExecuteTime": {
     "end_time": "2024-11-15T08:19:07.957042Z",
     "start_time": "2024-11-15T08:19:05.467559Z"
    }
   },
   "outputs": [
    {
     "name": "stdout",
     "output_type": "stream",
     "text": [
      "정수를 입력하세요: 0\n",
      "입력한 정수는 0\n",
      "유효한 정수가 아닙니다\n"
     ]
    }
   ],
   "source": [
    "# 예외처리 (ValueError / ZeroDivisionError)\n",
    "# 100을 입력받은 정수값으로 나눠 출력\n",
    "try:\n",
    "    x = int(input('정수를 입력하세요: '))\n",
    "    print('입력한 정수는 {}'.format(x))\n",
    "    print('100을 입력한 정수로 나누면 {}'.format(100/x))\n",
    "except:\n",
    "    print('유효한 정수가 아닙니다')"
   ]
  },
  {
   "cell_type": "code",
   "execution_count": 14,
   "id": "b5dcbcc9",
   "metadata": {
    "ExecuteTime": {
     "end_time": "2024-11-15T08:30:38.832775Z",
     "start_time": "2024-11-15T08:30:24.658872Z"
    }
   },
   "outputs": [
    {
     "name": "stdout",
     "output_type": "stream",
     "text": [
      "정수를 입력하세요: ㅁ\n",
      "유효한 정수가 아닙니다. 다시 입력하세요\n",
      "정수를 입력하세요: ^^\n",
      "유효한 정수가 아닙니다. 다시 입력하세요\n",
      "정수를 입력하세요: ㅇ\n",
      "유효한 정수가 아닙니다. 다시 입력하세요\n",
      "정수를 입력하세요: 98\n",
      "입력한 정수는 98\n",
      "100을 입력한 정수로 나누면 1.020\n"
     ]
    }
   ],
   "source": [
    "# 100을 나눌 유효한 정수를 입력할 때까지 입력받아\n",
    "# 유효한 정수를 입력하면 입력한 정수와 100을 입력한 수로 나눈 결과를 출력\n",
    "while True:\n",
    "    try:\n",
    "        x = int(input('정수를 입력하세요: '))\n",
    "        print('입력한 정수는 {}'.format(x))\n",
    "        print('100을 입력한 정수로 나누면 {:.3f}'.format(100/x))\n",
    "        break\n",
    "    except:\n",
    "        print('유효한 정수가 아닙니다. 다시 입력하세요')"
   ]
  },
  {
   "cell_type": "markdown",
   "id": "5b1f7f5c",
   "metadata": {},
   "source": [
    "## 2.2 예외를 지정한 처리\n",
    "```\n",
    "try:\n",
    "    예외가 발생할 수도 있는 문장들\n",
    "except 예외타입1:\n",
    "    해당 예외가 발생할 경우 실행할 문장\n",
    "except 예외타입2:\n",
    "    해당 예외가 발생할 경우 실행할 문장\n",
    "...\n",
    "```"
   ]
  },
  {
   "cell_type": "code",
   "execution_count": 17,
   "id": "d672e1a5",
   "metadata": {
    "ExecuteTime": {
     "end_time": "2024-11-15T08:46:55.299797Z",
     "start_time": "2024-11-15T08:38:46.569987Z"
    }
   },
   "outputs": [
    {
     "name": "stdout",
     "output_type": "stream",
     "text": [
      "정수를 입력하세요: 00\n",
      "입력한 정수는 0\n",
      "유효한 정수가 아닙니다. 다시 입력하세요\n",
      "정수를 입력하세요: \n",
      "유효한 정수가 아닙니다. 다시 입력하세요\n",
      "정수를 입력하세요: ^^\n",
      "유효한 정수가 아닙니다. 다시 입력하세요\n"
     ]
    },
    {
     "ename": "KeyboardInterrupt",
     "evalue": "Interrupted by user",
     "output_type": "error",
     "traceback": [
      "\u001b[1;31m---------------------------------------------------------------------------\u001b[0m",
      "\u001b[1;31mKeyboardInterrupt\u001b[0m                         Traceback (most recent call last)",
      "Cell \u001b[1;32mIn[17], line 6\u001b[0m\n\u001b[0;32m      4\u001b[0m \u001b[38;5;28;01mwhile\u001b[39;00m \u001b[38;5;28;01mTrue\u001b[39;00m:\n\u001b[0;32m      5\u001b[0m     \u001b[38;5;28;01mtry\u001b[39;00m:\n\u001b[1;32m----> 6\u001b[0m         x \u001b[38;5;241m=\u001b[39m \u001b[38;5;28mint\u001b[39m(\u001b[38;5;28;43minput\u001b[39;49m\u001b[43m(\u001b[49m\u001b[38;5;124;43m'\u001b[39;49m\u001b[38;5;124;43m정수를 입력하세요: \u001b[39;49m\u001b[38;5;124;43m'\u001b[39;49m\u001b[43m)\u001b[49m)\n\u001b[0;32m      7\u001b[0m         \u001b[38;5;28mprint\u001b[39m(\u001b[38;5;124m'\u001b[39m\u001b[38;5;124m입력한 정수는 \u001b[39m\u001b[38;5;132;01m{}\u001b[39;00m\u001b[38;5;124m'\u001b[39m\u001b[38;5;241m.\u001b[39mformat(x))\n\u001b[0;32m      8\u001b[0m         \u001b[38;5;28mprint\u001b[39m(\u001b[38;5;124m'\u001b[39m\u001b[38;5;124m100을 입력한 정수로 나누면 \u001b[39m\u001b[38;5;132;01m{:.3f}\u001b[39;00m\u001b[38;5;124m'\u001b[39m\u001b[38;5;241m.\u001b[39mformat(\u001b[38;5;241m100\u001b[39m\u001b[38;5;241m/\u001b[39mx))\n",
      "File \u001b[1;32m~\\anaconda3\\lib\\site-packages\\ipykernel\\kernelbase.py:1175\u001b[0m, in \u001b[0;36mKernel.raw_input\u001b[1;34m(self, prompt)\u001b[0m\n\u001b[0;32m   1171\u001b[0m \u001b[38;5;28;01mif\u001b[39;00m \u001b[38;5;129;01mnot\u001b[39;00m \u001b[38;5;28mself\u001b[39m\u001b[38;5;241m.\u001b[39m_allow_stdin:\n\u001b[0;32m   1172\u001b[0m     \u001b[38;5;28;01mraise\u001b[39;00m StdinNotImplementedError(\n\u001b[0;32m   1173\u001b[0m         \u001b[38;5;124m\"\u001b[39m\u001b[38;5;124mraw_input was called, but this frontend does not support input requests.\u001b[39m\u001b[38;5;124m\"\u001b[39m\n\u001b[0;32m   1174\u001b[0m     )\n\u001b[1;32m-> 1175\u001b[0m \u001b[38;5;28;01mreturn\u001b[39;00m \u001b[38;5;28;43mself\u001b[39;49m\u001b[38;5;241;43m.\u001b[39;49m\u001b[43m_input_request\u001b[49m\u001b[43m(\u001b[49m\n\u001b[0;32m   1176\u001b[0m \u001b[43m    \u001b[49m\u001b[38;5;28;43mstr\u001b[39;49m\u001b[43m(\u001b[49m\u001b[43mprompt\u001b[49m\u001b[43m)\u001b[49m\u001b[43m,\u001b[49m\n\u001b[0;32m   1177\u001b[0m \u001b[43m    \u001b[49m\u001b[38;5;28;43mself\u001b[39;49m\u001b[38;5;241;43m.\u001b[39;49m\u001b[43m_parent_ident\u001b[49m\u001b[43m[\u001b[49m\u001b[38;5;124;43m\"\u001b[39;49m\u001b[38;5;124;43mshell\u001b[39;49m\u001b[38;5;124;43m\"\u001b[39;49m\u001b[43m]\u001b[49m\u001b[43m,\u001b[49m\n\u001b[0;32m   1178\u001b[0m \u001b[43m    \u001b[49m\u001b[38;5;28;43mself\u001b[39;49m\u001b[38;5;241;43m.\u001b[39;49m\u001b[43mget_parent\u001b[49m\u001b[43m(\u001b[49m\u001b[38;5;124;43m\"\u001b[39;49m\u001b[38;5;124;43mshell\u001b[39;49m\u001b[38;5;124;43m\"\u001b[39;49m\u001b[43m)\u001b[49m\u001b[43m,\u001b[49m\n\u001b[0;32m   1179\u001b[0m \u001b[43m    \u001b[49m\u001b[43mpassword\u001b[49m\u001b[38;5;241;43m=\u001b[39;49m\u001b[38;5;28;43;01mFalse\u001b[39;49;00m\u001b[43m,\u001b[49m\n\u001b[0;32m   1180\u001b[0m \u001b[43m\u001b[49m\u001b[43m)\u001b[49m\n",
      "File \u001b[1;32m~\\anaconda3\\lib\\site-packages\\ipykernel\\kernelbase.py:1217\u001b[0m, in \u001b[0;36mKernel._input_request\u001b[1;34m(self, prompt, ident, parent, password)\u001b[0m\n\u001b[0;32m   1214\u001b[0m             \u001b[38;5;28;01mbreak\u001b[39;00m\n\u001b[0;32m   1215\u001b[0m \u001b[38;5;28;01mexcept\u001b[39;00m \u001b[38;5;167;01mKeyboardInterrupt\u001b[39;00m:\n\u001b[0;32m   1216\u001b[0m     \u001b[38;5;66;03m# re-raise KeyboardInterrupt, to truncate traceback\u001b[39;00m\n\u001b[1;32m-> 1217\u001b[0m     \u001b[38;5;28;01mraise\u001b[39;00m \u001b[38;5;167;01mKeyboardInterrupt\u001b[39;00m(\u001b[38;5;124m\"\u001b[39m\u001b[38;5;124mInterrupted by user\u001b[39m\u001b[38;5;124m\"\u001b[39m) \u001b[38;5;28;01mfrom\u001b[39;00m \u001b[38;5;28mNone\u001b[39m\n\u001b[0;32m   1218\u001b[0m \u001b[38;5;28;01mexcept\u001b[39;00m \u001b[38;5;167;01mException\u001b[39;00m:\n\u001b[0;32m   1219\u001b[0m     \u001b[38;5;28mself\u001b[39m\u001b[38;5;241m.\u001b[39mlog\u001b[38;5;241m.\u001b[39mwarning(\u001b[38;5;124m\"\u001b[39m\u001b[38;5;124mInvalid Message:\u001b[39m\u001b[38;5;124m\"\u001b[39m, exc_info\u001b[38;5;241m=\u001b[39m\u001b[38;5;28;01mTrue\u001b[39;00m)\n",
      "\u001b[1;31mKeyboardInterrupt\u001b[0m: Interrupted by user"
     ]
    }
   ],
   "source": [
    "# 예외처리 (ValueError / ZeroDivisionError)\n",
    "# 100을 나눌 유효한 정수를 입력할 때까지 입력받아\n",
    "# 유효한 정수를 입력하면 입력한 정수와 100을 입력한 수로 나눈 결과를 출력\n",
    "while True:\n",
    "    try:\n",
    "        x = int(input('정수를 입력하세요: '))\n",
    "        print('입력한 정수는 {}'.format(x))\n",
    "        print('100을 입력한 정수로 나누면 {:.3f}'.format(100/x))\n",
    "        break\n",
    "    # 상속관계의 상단에 있는 에러일수록 밑에 표기(ValueError와 ZeroDivisionError는 무관)\n",
    "    except (ValueError, ZeroDivisionError): # 여러 Error 동시 처리 가능\n",
    "        print('유효한 정수가 아닙니다. 다시 입력하세요')\n",
    "    except Exception: # 그 외 모든 예외\n",
    "        print('다시 시도하세요')"
   ]
  },
  {
   "cell_type": "markdown",
   "id": "9e774dfe",
   "metadata": {},
   "source": [
    "## 2.3 예외인수 (e)\n",
    "```\n",
    "[In Java]\n",
    "try{\n",
    "    예외가 발생할 수도 있는 문장;\n",
    "}catch(예외타입 e){\n",
    "    sysout(e.getMessage());\n",
    "}\n",
    "\n",
    "[In python]\n",
    "try:\n",
    "    예외가 발생할 수도 있는 문장;\n",
    "except 예외타입 as e:\n",
    "    print(e)         \n",
    "    print(e.args[0]) # Only 에러메세지, 튜플형태\n",
    "```"
   ]
  },
  {
   "cell_type": "code",
   "execution_count": 22,
   "id": "9941c957",
   "metadata": {
    "ExecuteTime": {
     "end_time": "2024-11-15T08:49:14.407455Z",
     "start_time": "2024-11-15T08:48:04.643071Z"
    }
   },
   "outputs": [
    {
     "name": "stdout",
     "output_type": "stream",
     "text": [
      "정수를 입력하세요: ㅁ\n",
      "예외 유형:  <class 'ValueError'>\n",
      "예외 메세지 invalid literal for int() with base 10: 'ㅁ'\n",
      "예외 메세지 (\"invalid literal for int() with base 10: 'ㅁ'\",)\n",
      "예외 메세지 invalid literal for int() with base 10: 'ㅁ'\n",
      "모든 예외객체 e는 Exception 타입인지: True\n",
      "정수를 입력하세요: 0\n",
      "입력한 정수는 0\n",
      "예외 유형:  <class 'ZeroDivisionError'>\n",
      "예외 메세지 division by zero\n",
      "예외 메세지 ('division by zero',)\n",
      "예외 메세지 division by zero\n",
      "모든 예외객체 e는 Exception 타입인지: True\n",
      "정수를 입력하세요: 100\n",
      "입력한 정수는 100\n",
      "100을 입력한 정수로 나누면 1.000\n"
     ]
    }
   ],
   "source": [
    "# 예외처리 (ValueError / ZeroDivisionError)\n",
    "# 100을 나눌 유효한 정수를 입력할 때까지 입력받아\n",
    "# 유효한 정수를 입력하면 입력한 정수와 100을 입력한 수로 나눈 결과를 출력\n",
    "while True:\n",
    "    try:\n",
    "        x = int(input('정수를 입력하세요: '))\n",
    "        print('입력한 정수는 {}'.format(x))\n",
    "        print('100을 입력한 정수로 나누면 {:.3f}'.format(100/x))\n",
    "        break\n",
    "    # 상속관계의 상단에 있는 에러일수록 밑에 표기(ValueError와 ZeroDivisionError는 무관)\n",
    "    except (ValueError, ZeroDivisionError) as e: # 여러 Error 동시에 처리 가능\n",
    "        print('예외 유형: ', type(e))\n",
    "        print('예외 메세지', e) # 내부적으로 __str__ 호출\n",
    "        print('예외 메세지', e.args)\n",
    "        print('예외 메세지', e.args[0]) # Only 예외메세지 \n",
    "        print('모든 예외객체 e는 Exception 타입인지:', isinstance(e, Exception))\n",
    "    except Exception: # 그 외 모든 예외\n",
    "        print('다시 시도하세요')"
   ]
  },
  {
   "cell_type": "code",
   "execution_count": 24,
   "id": "518459a5",
   "metadata": {
    "ExecuteTime": {
     "end_time": "2024-11-15T08:50:21.727103Z",
     "start_time": "2024-11-15T08:50:21.722109Z"
    }
   },
   "outputs": [
    {
     "name": "stdout",
     "output_type": "stream",
     "text": [
      "list index out of range\n"
     ]
    }
   ],
   "source": [
    "# 예외처리 IndexError\n",
    "try:\n",
    "    a = [1, 2, 3]\n",
    "    a[3]\n",
    "except IndexError as e:\n",
    "    print(e)"
   ]
  },
  {
   "cell_type": "markdown",
   "id": "82a01f46",
   "metadata": {},
   "source": [
    "```\n",
    "try:\n",
    "    ~\n",
    "except [예외타입 as e]:\n",
    "    ~\n",
    "[else:\n",
    "                     ]\n",
    "finally:\n",
    "    ~\n",
    "try절을 수행하다가 예외가 발생되면 except 블록 실행하고 finally 블록 수행\n",
    "try절을 수행하다가 예외가 발생 안 돼도, finally 블록 수행\n",
    "```"
   ]
  },
  {
   "cell_type": "code",
   "execution_count": 32,
   "id": "7ae1d62f",
   "metadata": {
    "ExecuteTime": {
     "end_time": "2024-11-15T08:56:22.303735Z",
     "start_time": "2024-11-15T08:56:22.297993Z"
    }
   },
   "outputs": [
    {
     "name": "stdout",
     "output_type": "stream",
     "text": [
      "Hello\n"
     ]
    }
   ],
   "source": [
    "# 파일 못 찾거나, 읽기 권한 없거나 => Error\n",
    "try:\n",
    "    f = open('data/ch08.txt', 'r') # w(write): close 필수\n",
    "    data = f.read()\n",
    "    print(data)\n",
    "except FileNotFoundError as e:\n",
    "    print('해당 파일이 없습니다')\n",
    "    print(e)\n",
    "finally:\n",
    "    f.close()"
   ]
  },
  {
   "cell_type": "code",
   "execution_count": 2,
   "id": "6aff780c",
   "metadata": {
    "ExecuteTime": {
     "end_time": "2024-11-18T00:41:24.407990Z",
     "start_time": "2024-11-18T00:41:24.396186Z"
    }
   },
   "outputs": [
    {
     "name": "stdout",
     "output_type": "stream",
     "text": [
      "Hello\n"
     ]
    }
   ],
   "source": [
    "try:\n",
    "    f = open('data/ch08.txt', 'r') # w(write): close 필수\n",
    "except FileNotFoundError as e:\n",
    "    print('해당 파일이 없습니다')\n",
    "    print(e)\n",
    "else:\n",
    "    data = f.read()\n",
    "    print(data)\n",
    "finally:\n",
    "    f.close()"
   ]
  },
  {
   "cell_type": "markdown",
   "id": "9ce6b970",
   "metadata": {},
   "source": [
    "# 3절. raise\n",
    "- 강제 예외 발생"
   ]
  },
  {
   "cell_type": "code",
   "execution_count": 3,
   "id": "786cc6f1",
   "metadata": {
    "ExecuteTime": {
     "end_time": "2024-11-18T00:45:57.585776Z",
     "start_time": "2024-11-18T00:45:57.056188Z"
    }
   },
   "outputs": [
    {
     "ename": "NameError",
     "evalue": "예외가 발생했어요",
     "output_type": "error",
     "traceback": [
      "\u001b[1;31m---------------------------------------------------------------------------\u001b[0m",
      "\u001b[1;31mNameError\u001b[0m                                 Traceback (most recent call last)",
      "Cell \u001b[1;32mIn[3], line 1\u001b[0m\n\u001b[1;32m----> 1\u001b[0m \u001b[38;5;28;01mraise\u001b[39;00m \u001b[38;5;167;01mNameError\u001b[39;00m(\u001b[38;5;124m'\u001b[39m\u001b[38;5;124m예외가 발생했어요\u001b[39m\u001b[38;5;124m'\u001b[39m)\n",
      "\u001b[1;31mNameError\u001b[0m: 예외가 발생했어요"
     ]
    }
   ],
   "source": [
    "# raise ErrorType('Error Message')\n",
    "raise NameError('예외가 발생했어요')"
   ]
  },
  {
   "cell_type": "code",
   "execution_count": 5,
   "id": "c1a6eedf",
   "metadata": {
    "ExecuteTime": {
     "end_time": "2024-11-18T00:56:09.178354Z",
     "start_time": "2024-11-18T00:56:09.172356Z"
    }
   },
   "outputs": [],
   "source": [
    "# 사용자 정의 예외: Exception 클래스 또는 그 하위 클래스를 상속받아 구현\n",
    "class LengthZeroError(Exception):\n",
    "    '길이가 0일 때 발생하는 예외'\n",
    "    # pass\n",
    "    def __init__(self, message): # 생성자함수\n",
    "        # Exception.__init__(self, message)\n",
    "        super().__init__(message) # 상위클래스의 생성자에서 예외메세지 셋팅"
   ]
  },
  {
   "cell_type": "code",
   "execution_count": 18,
   "id": "dcafd982",
   "metadata": {
    "ExecuteTime": {
     "end_time": "2024-11-18T01:06:59.770694Z",
     "start_time": "2024-11-18T01:06:59.764952Z"
    }
   },
   "outputs": [],
   "source": [
    "def insert(*data): # 튜플 매개변수\n",
    "    if len(data) == 0:\n",
    "        raise LengthZeroError('매개변수 길이가 0이면 예외예요(사용자 정의 예외)')\n",
    "    for item in data:\n",
    "        print(item, end=' ')\n",
    "    print('등을 입력하셨습니다')"
   ]
  },
  {
   "cell_type": "code",
   "execution_count": 19,
   "id": "c62bf1dd",
   "metadata": {
    "ExecuteTime": {
     "end_time": "2024-11-18T01:08:10.819539Z",
     "start_time": "2024-11-18T01:08:10.813540Z"
    }
   },
   "outputs": [
    {
     "name": "stdout",
     "output_type": "stream",
     "text": [
      "매개변수 길이가 0이면 예외예요(사용자 정의 예외)\n",
      "무조건 실행 - DONE\n"
     ]
    }
   ],
   "source": [
    "# data = [1, 2, 3, 4]\n",
    "# data = (1, 2, 3, 4)\n",
    "data = ()\n",
    "try:\n",
    "    insert(*data) # 튜플이나 리스트 언패킹\n",
    "except LengthZeroError as e:\n",
    "#     print('매개변수 길이가 0이면 예외예요(사용자 정의 예외)')\n",
    "    print(e)\n",
    "else:\n",
    "    print('정상 실행')\n",
    "finally:\n",
    "    print('무조건 실행 - DONE')"
   ]
  },
  {
   "cell_type": "code",
   "execution_count": 9,
   "id": "6410bafa",
   "metadata": {
    "ExecuteTime": {
     "end_time": "2024-11-18T00:57:25.377459Z",
     "start_time": "2024-11-18T00:57:25.372451Z"
    }
   },
   "outputs": [
    {
     "name": "stdout",
     "output_type": "stream",
     "text": [
      "1 2 3 4 등을 입력하셨습니다\n"
     ]
    }
   ],
   "source": [
    "insert(1, 2, 3, 4)"
   ]
  },
  {
   "cell_type": "markdown",
   "id": "cd087b55",
   "metadata": {},
   "source": [
    "# 4절. 추상클래스\n",
    "- python은 추상클래스를 생성할 수 없으나, raise를 이용해서 추상클래스를 흉내냄\n",
    "- 추상클래스: 추상메소드가 1개 이상 포함된 객체를 생성할 수 없는 클래스\n",
    "             추상메소드는 상속받은 클래스에서 구현해야 함"
   ]
  },
  {
   "cell_type": "code",
   "execution_count": 20,
   "id": "94456670",
   "metadata": {
    "ExecuteTime": {
     "end_time": "2024-11-18T01:13:36.386402Z",
     "start_time": "2024-11-18T01:13:36.381414Z"
    }
   },
   "outputs": [],
   "source": [
    "class Shape:\n",
    "    def __init__(self):\n",
    "        raise NotImplementedError('추상클래스 역할')\n",
    "    def calc_area(self):\n",
    "        raise NotImplementedError('추상메소드 역할')"
   ]
  },
  {
   "cell_type": "code",
   "execution_count": 21,
   "id": "988ed871",
   "metadata": {
    "ExecuteTime": {
     "end_time": "2024-11-18T01:13:44.889138Z",
     "start_time": "2024-11-18T01:13:44.860573Z"
    }
   },
   "outputs": [
    {
     "ename": "NotImplementedError",
     "evalue": "추상클래스 역할",
     "output_type": "error",
     "traceback": [
      "\u001b[1;31m---------------------------------------------------------------------------\u001b[0m",
      "\u001b[1;31mNotImplementedError\u001b[0m                       Traceback (most recent call last)",
      "Cell \u001b[1;32mIn[21], line 1\u001b[0m\n\u001b[1;32m----> 1\u001b[0m s \u001b[38;5;241m=\u001b[39m \u001b[43mShape\u001b[49m\u001b[43m(\u001b[49m\u001b[43m)\u001b[49m\n",
      "Cell \u001b[1;32mIn[20], line 3\u001b[0m, in \u001b[0;36mShape.__init__\u001b[1;34m(self)\u001b[0m\n\u001b[0;32m      2\u001b[0m \u001b[38;5;28;01mdef\u001b[39;00m \u001b[38;5;21m__init__\u001b[39m(\u001b[38;5;28mself\u001b[39m):\n\u001b[1;32m----> 3\u001b[0m     \u001b[38;5;28;01mraise\u001b[39;00m \u001b[38;5;167;01mNotImplementedError\u001b[39;00m(\u001b[38;5;124m'\u001b[39m\u001b[38;5;124m추상클래스 역할\u001b[39m\u001b[38;5;124m'\u001b[39m)\n",
      "\u001b[1;31mNotImplementedError\u001b[0m: 추상클래스 역할"
     ]
    }
   ],
   "source": [
    "s = Shape() \n"
   ]
  },
  {
   "cell_type": "code",
   "execution_count": 22,
   "id": "801947f8",
   "metadata": {
    "ExecuteTime": {
     "end_time": "2024-11-18T01:17:39.976813Z",
     "start_time": "2024-11-18T01:17:39.829492Z"
    }
   },
   "outputs": [],
   "source": [
    "import numpy as np # numpy라는 패키지를 np라는 이름으로 메모리 로드"
   ]
  },
  {
   "cell_type": "code",
   "execution_count": 23,
   "id": "a9bcce14",
   "metadata": {
    "ExecuteTime": {
     "end_time": "2024-11-18T01:18:42.971060Z",
     "start_time": "2024-11-18T01:18:42.966073Z"
    }
   },
   "outputs": [],
   "source": [
    "# Shape 클래스 상속받고, calc_area()함수 override하여 사용\n",
    "class Circle(Shape):\n",
    "    def __init__(self, radius = 3):\n",
    "        self.radius = radius\n",
    "    def calc_area(self):\n",
    "        '원의 넓이를 return하는 함수'\n",
    "        return np.pi * (self.radius ** 2)"
   ]
  },
  {
   "cell_type": "code",
   "execution_count": 24,
   "id": "9aaf1f49",
   "metadata": {
    "ExecuteTime": {
     "end_time": "2024-11-18T01:19:22.119471Z",
     "start_time": "2024-11-18T01:19:22.110168Z"
    }
   },
   "outputs": [
    {
     "data": {
      "text/plain": [
       "78.53981633974483"
      ]
     },
     "execution_count": 24,
     "metadata": {},
     "output_type": "execute_result"
    }
   ],
   "source": [
    "myCircle = Circle(5) # 반지름 5인 원\n",
    "myCircle.calc_area()"
   ]
  },
  {
   "cell_type": "markdown",
   "id": "5aa0f820",
   "metadata": {},
   "source": [
    "# 5절. 파일 정리 작업(with절 이용)"
   ]
  },
  {
   "cell_type": "code",
   "execution_count": 25,
   "id": "e5edd7ff",
   "metadata": {
    "ExecuteTime": {
     "end_time": "2024-11-18T01:36:50.524605Z",
     "start_time": "2024-11-18T01:36:50.517490Z"
    }
   },
   "outputs": [
    {
     "name": "stdout",
     "output_type": "stream",
     "text": [
      "['Hello\\n', 'World']\n"
     ]
    }
   ],
   "source": [
    "try:\n",
    "    f = open('data/ch08.txt', 'r') # 읽기 모드(default)로 파일 열기\n",
    "    lines = f.readlines()          # 한 줄씩 모든 줄을 한꺼번에 읽어 list로 return\n",
    "    print(lines)\n",
    "except FileNotFoundError as e:\n",
    "    print(e)\n",
    "finally:\n",
    "    f.close() # 파일 닫기(가장 중요)"
   ]
  },
  {
   "cell_type": "code",
   "execution_count": null,
   "id": "8896fd7d",
   "metadata": {},
   "outputs": [],
   "source": [
    "# with절 이후에는 자동적으로 close() 실행"
   ]
  },
  {
   "cell_type": "code",
   "execution_count": 28,
   "id": "e7ac3976",
   "metadata": {
    "ExecuteTime": {
     "end_time": "2024-11-18T01:40:43.723189Z",
     "start_time": "2024-11-18T01:40:43.718202Z"
    }
   },
   "outputs": [
    {
     "name": "stdout",
     "output_type": "stream",
     "text": [
      "['Hello\\n', 'World']\n"
     ]
    }
   ],
   "source": [
    "with open('data/ch08.txt') as f:\n",
    "    lines = f.readlines()\n",
    "print(lines)"
   ]
  },
  {
   "cell_type": "code",
   "execution_count": 29,
   "id": "64752257",
   "metadata": {
    "ExecuteTime": {
     "end_time": "2024-11-18T01:42:19.979126Z",
     "start_time": "2024-11-18T01:42:19.973221Z"
    }
   },
   "outputs": [
    {
     "name": "stdout",
     "output_type": "stream",
     "text": [
      "['Hello\\n', 'World']\n"
     ]
    }
   ],
   "source": [
    "# try-except절 내에 with절\n",
    "try:\n",
    "    with open('data/ch08.txt', 'r') as f:\n",
    "        lines = f.readlines()\n",
    "    print(lines)\n",
    "except FileNotFoundError as e:\n",
    "    print(e)"
   ]
  },
  {
   "cell_type": "markdown",
   "id": "1e32cf24",
   "metadata": {},
   "source": [
    "# 6절. 연습문제\n",
    "# 실습형"
   ]
  },
  {
   "cell_type": "code",
   "execution_count": 17,
   "id": "9e880328",
   "metadata": {
    "ExecuteTime": {
     "end_time": "2024-11-18T02:10:51.369368Z",
     "start_time": "2024-11-18T02:10:32.663006Z"
    }
   },
   "outputs": [
    {
     "name": "stdout",
     "output_type": "stream",
     "text": [
      "첫 번째 숫자를 입력하세요abc\n",
      "유효한 숫자가 아닙니다. 다시 시도하세요\n",
      "첫 번째 숫자를 입력하세요10\n",
      "두 번쨰 숫자를 입력하세요0\n",
      "입력한 수는 10.0와 0.0입니다\n",
      "유효한 숫자가 아닙니다. 다시 시도하세요\n",
      "첫 번째 숫자를 입력하세요5\n",
      "두 번쨰 숫자를 입력하세요3\n",
      "입력한 수는 5.0와 3.0입니다\n",
      "5.0울 3.0로 나누면 1.6666666666666667입니다\n"
     ]
    }
   ],
   "source": [
    "# 1\n",
    "while True:\n",
    "    try:\n",
    "        num1 = float(input('첫 번째 숫자를 입력하세요'))\n",
    "        num2 = float(input('두 번쨰 숫자를 입력하세요'))\n",
    "        print('입력한 수는 {}와 {}입니다'.format(num1, num2))\n",
    "        print('{}울 {}로 나누면 {}입니다'.format(num1, num2, num1/num2))\n",
    "        break\n",
    "    except Exception as e:\n",
    "        print('유효한 숫자가 아닙니다. 다시 시도하세요')"
   ]
  },
  {
   "cell_type": "code",
   "execution_count": 16,
   "id": "1830a305",
   "metadata": {
    "ExecuteTime": {
     "end_time": "2024-11-18T02:09:27.137040Z",
     "start_time": "2024-11-18T02:08:59.791302Z"
    }
   },
   "outputs": [
    {
     "name": "stdout",
     "output_type": "stream",
     "text": [
      "첫 번째 숫자를 입력하세요hello\n",
      "유효한 숫자가 아닙니다. 다시 시도하세요\n",
      "첫 번째 숫자를 입력하세요10\n",
      "두 번쨰 숫자를 입력하세요0\n",
      "입력한 수는 10.0와 0.0입니다\n",
      "유효한 숫자가 아닙니다. 다시 시도하세요\n",
      "첫 번째 숫자를 입력하세요3.5\n",
      "두 번쨰 숫자를 입력하세요hello\n",
      "유효한 숫자가 아닙니다. 다시 시도하세요\n",
      "첫 번째 숫자를 입력하세요3.5\n",
      "두 번쨰 숫자를 입력하세요2\n",
      "입력한 수는 3.5와 2.0입니다\n",
      "3.5울 2.0로 나누면 1.75입니다\n"
     ]
    }
   ],
   "source": [
    "# 2\n",
    "while True:\n",
    "    try:\n",
    "        num1 = float(input('첫 번째 숫자를 입력하세요'))\n",
    "        num2 = float(input('두 번쨰 숫자를 입력하세요'))\n",
    "        print('입력한 수는 {}와 {}입니다'.format(num1, num2))\n",
    "        print('{}울 {}로 나누면 {}입니다'.format(num1, num2, num1/num2))\n",
    "        break\n",
    "    except (ValueError, ZeroDivisionError):\n",
    "        print('유효한 숫자가 아닙니다. 다시 시도하세요')"
   ]
  },
  {
   "cell_type": "markdown",
   "id": "e17ed121",
   "metadata": {},
   "source": [
    "# 문제풀이형\n",
    "- 1\n",
    "- 2\n",
    "- 3\n",
    "- 4"
   ]
  },
  {
   "cell_type": "code",
   "execution_count": null,
   "id": "814a6804",
   "metadata": {},
   "outputs": [],
   "source": []
  },
  {
   "cell_type": "code",
   "execution_count": null,
   "id": "a53ef3ac",
   "metadata": {},
   "outputs": [],
   "source": []
  },
  {
   "cell_type": "code",
   "execution_count": null,
   "id": "55d70951",
   "metadata": {},
   "outputs": [],
   "source": []
  },
  {
   "cell_type": "code",
   "execution_count": null,
   "id": "5d9950ce",
   "metadata": {},
   "outputs": [],
   "source": []
  },
  {
   "cell_type": "code",
   "execution_count": null,
   "id": "bbfbab0b",
   "metadata": {},
   "outputs": [],
   "source": []
  }
 ],
 "metadata": {
  "kernelspec": {
   "display_name": "Python 3 (ipykernel)",
   "language": "python",
   "name": "python3"
  },
  "language_info": {
   "codemirror_mode": {
    "name": "ipython",
    "version": 3
   },
   "file_extension": ".py",
   "mimetype": "text/x-python",
   "name": "python",
   "nbconvert_exporter": "python",
   "pygments_lexer": "ipython3",
   "version": "3.10.9"
  },
  "toc": {
   "base_numbering": 1,
   "nav_menu": {},
   "number_sections": true,
   "sideBar": true,
   "skip_h1_title": false,
   "title_cell": "Table of Contents",
   "title_sidebar": "Contents",
   "toc_cell": false,
   "toc_position": {
    "height": "calc(100% - 180px)",
    "left": "10px",
    "top": "150px",
    "width": "229px"
   },
   "toc_section_display": true,
   "toc_window_display": true
  }
 },
 "nbformat": 4,
 "nbformat_minor": 5
}
