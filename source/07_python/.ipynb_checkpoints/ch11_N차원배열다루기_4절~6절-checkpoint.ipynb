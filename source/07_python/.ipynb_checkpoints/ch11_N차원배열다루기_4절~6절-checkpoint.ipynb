{
 "cells": [
  {
   "cell_type": "markdown",
   "id": "82b2f83a",
   "metadata": {},
   "source": [
    "<b><font color=\"red\" size=\"6\">ch11. N차원 배열 다루기</font></b>\n",
    "# 4절. 복사와 뷰\n",
    "## 4.1 할당"
   ]
  },
  {
   "cell_type": "code",
   "execution_count": 4,
   "id": "19bae9a3",
   "metadata": {
    "ExecuteTime": {
     "end_time": "2024-11-22T06:01:30.726904Z",
     "start_time": "2024-11-22T06:01:30.711282Z"
    }
   },
   "outputs": [
    {
     "name": "stdout",
     "output_type": "stream",
     "text": [
      "a와 b주소: 2161163960848 2161163960848\n",
      "수정 후 a와 b주소: 2161163960848 2161163963696\n"
     ]
    }
   ],
   "source": [
    "# 스칼라 변수\n",
    "a = 10\n",
    "a\n",
    "b = a\n",
    "print('a와 b주소:', id(a), id(b))\n",
    "b = 99\n",
    "print('수정 후 a와 b주소:', id(a), id(b))"
   ]
  },
  {
   "cell_type": "code",
   "execution_count": 50,
   "id": "216b5c69",
   "metadata": {
    "ExecuteTime": {
     "end_time": "2024-11-22T06:25:57.849378Z",
     "start_time": "2024-11-22T06:25:57.842412Z"
    }
   },
   "outputs": [
    {
     "data": {
      "text/plain": [
       "array([ 0,  1,  2,  3,  4,  5,  6,  7,  8,  9, 10, 11])"
      ]
     },
     "execution_count": 50,
     "metadata": {},
     "output_type": "execute_result"
    }
   ],
   "source": [
    "# 배열\n",
    "import numpy as np\n",
    "a = np.arange(12)\n",
    "a"
   ]
  },
  {
   "cell_type": "code",
   "execution_count": 51,
   "id": "cdcafc2c",
   "metadata": {
    "ExecuteTime": {
     "end_time": "2024-11-22T06:25:58.511707Z",
     "start_time": "2024-11-22T06:25:58.505993Z"
    }
   },
   "outputs": [
    {
     "data": {
      "text/plain": [
       "2161306765424"
      ]
     },
     "execution_count": 51,
     "metadata": {},
     "output_type": "execute_result"
    }
   ],
   "source": [
    "id(a)"
   ]
  },
  {
   "cell_type": "code",
   "execution_count": 52,
   "id": "35f10bf7",
   "metadata": {
    "ExecuteTime": {
     "end_time": "2024-11-22T06:25:59.229613Z",
     "start_time": "2024-11-22T06:25:59.225615Z"
    }
   },
   "outputs": [],
   "source": [
    "b = a"
   ]
  },
  {
   "cell_type": "code",
   "execution_count": 53,
   "id": "e79ea7fd",
   "metadata": {
    "ExecuteTime": {
     "end_time": "2024-11-22T06:26:00.552044Z",
     "start_time": "2024-11-22T06:26:00.545058Z"
    }
   },
   "outputs": [
    {
     "data": {
      "text/plain": [
       "((12,), numpy.ndarray, 1, 2161306765424)"
      ]
     },
     "execution_count": 53,
     "metadata": {},
     "output_type": "execute_result"
    }
   ],
   "source": [
    "a.shape, type(a), a.ndim, id(a)"
   ]
  },
  {
   "cell_type": "code",
   "execution_count": 54,
   "id": "8cb4b0fc",
   "metadata": {
    "ExecuteTime": {
     "end_time": "2024-11-22T06:26:01.319193Z",
     "start_time": "2024-11-22T06:26:01.313189Z"
    }
   },
   "outputs": [
    {
     "data": {
      "text/plain": [
       "((12,), numpy.ndarray, 1, 2161306765424)"
      ]
     },
     "execution_count": 54,
     "metadata": {},
     "output_type": "execute_result"
    }
   ],
   "source": [
    "b.shape, type(b), b.ndim, id(b)"
   ]
  },
  {
   "cell_type": "code",
   "execution_count": 55,
   "id": "00557cdf",
   "metadata": {
    "ExecuteTime": {
     "end_time": "2024-11-22T06:26:05.839186Z",
     "start_time": "2024-11-22T06:26:05.834178Z"
    }
   },
   "outputs": [
    {
     "data": {
      "text/plain": [
       "True"
      ]
     },
     "execution_count": 55,
     "metadata": {},
     "output_type": "execute_result"
    }
   ],
   "source": [
    "a is b"
   ]
  },
  {
   "cell_type": "code",
   "execution_count": 56,
   "id": "b240a9d2",
   "metadata": {
    "ExecuteTime": {
     "end_time": "2024-11-22T06:26:08.816386Z",
     "start_time": "2024-11-22T06:26:08.810402Z"
    }
   },
   "outputs": [
    {
     "data": {
      "text/plain": [
       "array([ True,  True,  True,  True,  True,  True,  True,  True,  True,\n",
       "        True,  True,  True])"
      ]
     },
     "execution_count": 56,
     "metadata": {},
     "output_type": "execute_result"
    }
   ],
   "source": [
    "a==b"
   ]
  },
  {
   "cell_type": "code",
   "execution_count": 57,
   "id": "5de481e9",
   "metadata": {
    "ExecuteTime": {
     "end_time": "2024-11-22T06:26:16.407930Z",
     "start_time": "2024-11-22T06:26:16.380073Z"
    }
   },
   "outputs": [
    {
     "data": {
      "text/plain": [
       "True"
      ]
     },
     "execution_count": 57,
     "metadata": {},
     "output_type": "execute_result"
    }
   ],
   "source": [
    "all(a==b)"
   ]
  },
  {
   "cell_type": "code",
   "execution_count": 49,
   "id": "570756cc",
   "metadata": {
    "ExecuteTime": {
     "end_time": "2024-11-22T06:25:35.150554Z",
     "start_time": "2024-11-22T06:25:35.145555Z"
    }
   },
   "outputs": [],
   "source": [
    "b.shape = (3, 4)"
   ]
  },
  {
   "cell_type": "code",
   "execution_count": 35,
   "id": "66ece35c",
   "metadata": {
    "ExecuteTime": {
     "end_time": "2024-11-22T06:23:50.984700Z",
     "start_time": "2024-11-22T06:23:50.977828Z"
    }
   },
   "outputs": [
    {
     "data": {
      "text/plain": [
       "((3, 4), numpy.ndarray, 2, 2161292005168)"
      ]
     },
     "execution_count": 35,
     "metadata": {},
     "output_type": "execute_result"
    }
   ],
   "source": [
    "a.shape, type(a), a.ndim, id(a)"
   ]
  },
  {
   "cell_type": "markdown",
   "id": "a5dc3be1",
   "metadata": {},
   "source": [
    "## 4.2 뷰(View): 얕은 복사"
   ]
  },
  {
   "cell_type": "code",
   "execution_count": 64,
   "id": "9ea9658c",
   "metadata": {
    "ExecuteTime": {
     "end_time": "2024-11-22T06:33:04.048305Z",
     "start_time": "2024-11-22T06:33:04.042321Z"
    }
   },
   "outputs": [
    {
     "data": {
      "text/plain": [
       "array([[ 0,  1,  2,  3],\n",
       "       [ 4,  5,  6,  7],\n",
       "       [ 8,  9, 10, 11]])"
      ]
     },
     "execution_count": 64,
     "metadata": {},
     "output_type": "execute_result"
    }
   ],
   "source": [
    "a = np.arange(12).reshape(3, 4)\n",
    "a"
   ]
  },
  {
   "cell_type": "code",
   "execution_count": 41,
   "id": "832faf29",
   "metadata": {
    "ExecuteTime": {
     "end_time": "2024-11-22T06:25:04.583131Z",
     "start_time": "2024-11-22T06:25:04.578143Z"
    }
   },
   "outputs": [
    {
     "data": {
      "text/plain": [
       "array([[ 0,  1,  2,  3],\n",
       "       [ 4,  5,  6,  7],\n",
       "       [ 8,  9, 10, 11]])"
      ]
     },
     "execution_count": 41,
     "metadata": {},
     "output_type": "execute_result"
    }
   ],
   "source": [
    "c = a.view()\n",
    "c"
   ]
  },
  {
   "cell_type": "code",
   "execution_count": 42,
   "id": "a2b40f31",
   "metadata": {
    "ExecuteTime": {
     "end_time": "2024-11-22T06:25:09.167004Z",
     "start_time": "2024-11-22T06:25:09.162005Z"
    }
   },
   "outputs": [
    {
     "data": {
      "text/plain": [
       "array([[ True,  True,  True,  True],\n",
       "       [ True,  True,  True,  True],\n",
       "       [ True,  True,  True,  True]])"
      ]
     },
     "execution_count": 42,
     "metadata": {},
     "output_type": "execute_result"
    }
   ],
   "source": [
    "c == a"
   ]
  },
  {
   "cell_type": "code",
   "execution_count": 43,
   "id": "f79225b5",
   "metadata": {
    "ExecuteTime": {
     "end_time": "2024-11-22T06:25:15.152355Z",
     "start_time": "2024-11-22T06:25:15.145379Z"
    }
   },
   "outputs": [
    {
     "data": {
      "text/plain": [
       "True"
      ]
     },
     "execution_count": 43,
     "metadata": {},
     "output_type": "execute_result"
    }
   ],
   "source": [
    "np.all(c == a)"
   ]
  },
  {
   "cell_type": "code",
   "execution_count": 65,
   "id": "def37c61",
   "metadata": {
    "ExecuteTime": {
     "end_time": "2024-11-22T06:33:07.031258Z",
     "start_time": "2024-11-22T06:33:07.025274Z"
    }
   },
   "outputs": [
    {
     "data": {
      "text/plain": [
       "False"
      ]
     },
     "execution_count": 65,
     "metadata": {},
     "output_type": "execute_result"
    }
   ],
   "source": [
    "c is a"
   ]
  },
  {
   "cell_type": "code",
   "execution_count": 59,
   "id": "39682c19",
   "metadata": {
    "ExecuteTime": {
     "end_time": "2024-11-22T06:28:26.504753Z",
     "start_time": "2024-11-22T06:28:26.497455Z"
    }
   },
   "outputs": [
    {
     "data": {
      "text/plain": [
       "array([[ 0,  1,  2,  3,  4,  5],\n",
       "       [ 6,  7,  8,  9, 10, 11]])"
      ]
     },
     "execution_count": 59,
     "metadata": {},
     "output_type": "execute_result"
    }
   ],
   "source": [
    "c.shape = (2, 6)\n",
    "c"
   ]
  },
  {
   "cell_type": "code",
   "execution_count": 66,
   "id": "46d4970c",
   "metadata": {
    "ExecuteTime": {
     "end_time": "2024-11-22T06:33:09.312173Z",
     "start_time": "2024-11-22T06:33:09.305185Z"
    }
   },
   "outputs": [
    {
     "data": {
      "text/plain": [
       "array([[ 0,  1,  2,  3],\n",
       "       [ 4,  5,  6,  7],\n",
       "       [ 8,  9, 10, 11]])"
      ]
     },
     "execution_count": 66,
     "metadata": {},
     "output_type": "execute_result"
    }
   ],
   "source": [
    "a"
   ]
  },
  {
   "cell_type": "code",
   "execution_count": 61,
   "id": "7b048e88",
   "metadata": {
    "ExecuteTime": {
     "end_time": "2024-11-22T06:30:51.048550Z",
     "start_time": "2024-11-22T06:30:51.042225Z"
    }
   },
   "outputs": [
    {
     "data": {
      "text/plain": [
       "array([[ 0,  1,  2,  3,  4,  5],\n",
       "       [-9,  7, -9,  9, -9, 11]])"
      ]
     },
     "execution_count": 61,
     "metadata": {},
     "output_type": "execute_result"
    }
   ],
   "source": [
    "# 배열 c의 특정 요소만 변경(1행의 짝수번째 열 변경)\n",
    "c[1, ::2] = -9\n",
    "c"
   ]
  },
  {
   "cell_type": "code",
   "execution_count": 72,
   "id": "6aba78b0",
   "metadata": {
    "ExecuteTime": {
     "end_time": "2024-11-22T06:38:18.824543Z",
     "start_time": "2024-11-22T06:38:18.818190Z"
    }
   },
   "outputs": [
    {
     "data": {
      "text/plain": [
       "array([[   1,   85, 2015, 5000],\n",
       "       [   1,  102, 2015, 5500],\n",
       "       [   2,   45, 2016, 4900]])"
      ]
     },
     "execution_count": 72,
     "metadata": {},
     "output_type": "execute_result"
    }
   ],
   "source": [
    "# 슬라이싱이 될 때 뷰가 반환됨\n",
    "a = np.array([[1, 85, 2015, 5000],\n",
    "              [1, 102, 2015, 5500],\n",
    "              [2, 45, 2016, 4900],])\n",
    "a"
   ]
  },
  {
   "cell_type": "code",
   "execution_count": 73,
   "id": "c8582f37",
   "metadata": {
    "ExecuteTime": {
     "end_time": "2024-11-22T06:40:06.585669Z",
     "start_time": "2024-11-22T06:40:06.578686Z"
    }
   },
   "outputs": [
    {
     "data": {
      "text/plain": [
       "array([[   1,   85, 2015],\n",
       "       [   1,  102, 2015],\n",
       "       [   2,   45, 2016]])"
      ]
     },
     "execution_count": 73,
     "metadata": {},
     "output_type": "execute_result"
    }
   ],
   "source": [
    "X = a[:, : -1] # 독립변수를 슬라이싱해서 X대입: 슬라이싱될 때 뷰가 반환\n",
    "X"
   ]
  },
  {
   "cell_type": "code",
   "execution_count": 74,
   "id": "394e1e22",
   "metadata": {
    "ExecuteTime": {
     "end_time": "2024-11-22T06:40:54.567699Z",
     "start_time": "2024-11-22T06:40:54.561674Z"
    }
   },
   "outputs": [
    {
     "data": {
      "text/plain": [
       "array([[  1,  85,   1],\n",
       "       [  1, 102,   1],\n",
       "       [  2,  45,   2]])"
      ]
     },
     "execution_count": 74,
     "metadata": {},
     "output_type": "execute_result"
    }
   ],
   "source": [
    "X[0:2, -1] = 1\n",
    "X[-1, -1] = 2\n",
    "X"
   ]
  },
  {
   "cell_type": "code",
   "execution_count": 75,
   "id": "36280b9b",
   "metadata": {
    "ExecuteTime": {
     "end_time": "2024-11-22T06:41:29.104613Z",
     "start_time": "2024-11-22T06:41:29.098577Z"
    }
   },
   "outputs": [
    {
     "data": {
      "text/plain": [
       "array([[   1,   85,    1, 5000],\n",
       "       [   1,  102,    1, 5500],\n",
       "       [   2,   45,    2, 4900]])"
      ]
     },
     "execution_count": 75,
     "metadata": {},
     "output_type": "execute_result"
    }
   ],
   "source": [
    "a"
   ]
  },
  {
   "cell_type": "markdown",
   "id": "1002ecbe",
   "metadata": {},
   "source": [
    "## 4.3 깊은 복사"
   ]
  },
  {
   "cell_type": "code",
   "execution_count": 77,
   "id": "c3cd62a9",
   "metadata": {
    "ExecuteTime": {
     "end_time": "2024-11-22T06:43:46.608578Z",
     "start_time": "2024-11-22T06:43:46.602573Z"
    }
   },
   "outputs": [
    {
     "data": {
      "text/plain": [
       "array([[   1,   85, 2015, 5000],\n",
       "       [   1,  102, 2015, 5500],\n",
       "       [   2,   45, 2016, 4900]])"
      ]
     },
     "execution_count": 77,
     "metadata": {},
     "output_type": "execute_result"
    }
   ],
   "source": [
    "# 슬라이싱이 될 때 뷰가 반환됨\n",
    "a = np.array([[1, 85, 2015, 5000],\n",
    "              [1, 102, 2015, 5500],\n",
    "              [2, 45, 2016, 4900],])\n",
    "a"
   ]
  },
  {
   "cell_type": "code",
   "execution_count": 79,
   "id": "d7ff8c74",
   "metadata": {
    "ExecuteTime": {
     "end_time": "2024-11-22T06:44:41.449465Z",
     "start_time": "2024-11-22T06:44:41.441893Z"
    }
   },
   "outputs": [
    {
     "data": {
      "text/plain": [
       "array([[   1,   85, 2015],\n",
       "       [   1,  102, 2015],\n",
       "       [   2,   45, 2016]])"
      ]
     },
     "execution_count": 79,
     "metadata": {},
     "output_type": "execute_result"
    }
   ],
   "source": [
    "X = a[:, :-1] # 얕은 복사(View 생성)\n",
    "X = a[:,:-1].copy() # 깊은 복사\n",
    "X"
   ]
  },
  {
   "cell_type": "code",
   "execution_count": 80,
   "id": "f4d62bb8",
   "metadata": {
    "ExecuteTime": {
     "end_time": "2024-11-22T06:46:12.251482Z",
     "start_time": "2024-11-22T06:46:12.235832Z"
    }
   },
   "outputs": [
    {
     "data": {
      "text/plain": [
       "array([[   1,    1, 2015],\n",
       "       [   1,    1, 2015],\n",
       "       [   1,    1,    2]])"
      ]
     },
     "execution_count": 80,
     "metadata": {},
     "output_type": "execute_result"
    }
   ],
   "source": [
    "X[:, 0:-1] = 1\n",
    "X[-1, -1] = 2\n",
    "X"
   ]
  },
  {
   "cell_type": "code",
   "execution_count": 81,
   "id": "da664702",
   "metadata": {
    "ExecuteTime": {
     "end_time": "2024-11-22T06:46:16.285137Z",
     "start_time": "2024-11-22T06:46:16.269486Z"
    }
   },
   "outputs": [
    {
     "data": {
      "text/plain": [
       "array([[   1,   85, 2015, 5000],\n",
       "       [   1,  102, 2015, 5500],\n",
       "       [   2,   45, 2016, 4900]])"
      ]
     },
     "execution_count": 81,
     "metadata": {},
     "output_type": "execute_result"
    }
   ],
   "source": [
    "a"
   ]
  },
  {
   "cell_type": "markdown",
   "id": "60c13e74",
   "metadata": {},
   "source": [
    "# 5절. 고급 인덱싱\n",
    "## 5.1 인덱스 배열로 인덱싱"
   ]
  },
  {
   "cell_type": "code",
   "execution_count": 82,
   "id": "b64979c7",
   "metadata": {
    "ExecuteTime": {
     "end_time": "2024-11-22T06:48:02.616683Z",
     "start_time": "2024-11-22T06:48:02.610695Z"
    }
   },
   "outputs": [
    {
     "data": {
      "text/plain": [
       "array([  0,   1,   4,   9,  16,  25,  36,  49,  64,  81, 100, 121])"
      ]
     },
     "execution_count": 82,
     "metadata": {},
     "output_type": "execute_result"
    }
   ],
   "source": [
    "a = np.arange(12)**2\n",
    "a"
   ]
  },
  {
   "cell_type": "code",
   "execution_count": 83,
   "id": "9c9a35b9",
   "metadata": {
    "ExecuteTime": {
     "end_time": "2024-11-22T06:49:03.279700Z",
     "start_time": "2024-11-22T06:49:03.273702Z"
    }
   },
   "outputs": [
    {
     "data": {
      "text/plain": [
       "array([ 0, 25, 81])"
      ]
     },
     "execution_count": 83,
     "metadata": {},
     "output_type": "execute_result"
    }
   ],
   "source": [
    "a [ [0, 5, 9] ]"
   ]
  },
  {
   "cell_type": "code",
   "execution_count": 84,
   "id": "a5e12362",
   "metadata": {
    "ExecuteTime": {
     "end_time": "2024-11-22T06:50:21.968304Z",
     "start_time": "2024-11-22T06:50:21.962303Z"
    }
   },
   "outputs": [
    {
     "data": {
      "text/plain": [
       "array([ 0,  0, 25, 81])"
      ]
     },
     "execution_count": 84,
     "metadata": {},
     "output_type": "execute_result"
    }
   ],
   "source": [
    "# 인덱싱하기 위한 값을 배열로 만듦\n",
    "i = np.array([0, 0, 5, 9])\n",
    "a[i] # 결과는 i(인덱싱 배열)의 형태로 따라감"
   ]
  },
  {
   "cell_type": "code",
   "execution_count": 85,
   "id": "b137291d",
   "metadata": {
    "ExecuteTime": {
     "end_time": "2024-11-22T06:51:55.000779Z",
     "start_time": "2024-11-22T06:51:54.993818Z"
    }
   },
   "outputs": [
    {
     "data": {
      "text/plain": [
       "array([[ 0,  1],\n",
       "       [ 1, 25]])"
      ]
     },
     "execution_count": 85,
     "metadata": {},
     "output_type": "execute_result"
    }
   ],
   "source": [
    "# 인덱싱하기 위한 값을 배열로 만듦\n",
    "j = np.array([[0, 1],\n",
    "              [1, 5]])\n",
    "a[j]"
   ]
  },
  {
   "cell_type": "code",
   "execution_count": 87,
   "id": "25af9915",
   "metadata": {
    "ExecuteTime": {
     "end_time": "2024-11-22T06:52:57.744404Z",
     "start_time": "2024-11-22T06:52:57.738420Z"
    }
   },
   "outputs": [
    {
     "data": {
      "text/plain": [
       "array([200, 201,   4,   9,  16, 225,  36,  49,  64,  81, 100, 121])"
      ]
     },
     "execution_count": 87,
     "metadata": {},
     "output_type": "execute_result"
    }
   ],
   "source": [
    "a[j] += 100\n",
    "a"
   ]
  },
  {
   "cell_type": "code",
   "execution_count": 89,
   "id": "3d6823f0",
   "metadata": {
    "ExecuteTime": {
     "end_time": "2024-11-22T07:15:26.871527Z",
     "start_time": "2024-11-22T07:15:26.866540Z"
    }
   },
   "outputs": [],
   "source": [
    "                #   R  G  B\n",
    "palette = np.array([[0, 0, 0],       # black\n",
    "                    [255, 0, 0],     # red\n",
    "                    [0, 255, 0],     # green\n",
    "                    [0, 0, 255],     # blue\n",
    "                    [255, 255, 255]]) # white"
   ]
  },
  {
   "cell_type": "code",
   "execution_count": 91,
   "id": "aaba79e9",
   "metadata": {
    "ExecuteTime": {
     "end_time": "2024-11-22T07:18:58.717167Z",
     "start_time": "2024-11-22T07:18:58.706204Z"
    }
   },
   "outputs": [
    {
     "data": {
      "text/plain": [
       "array([[[255, 255, 255],\n",
       "        [255, 255, 255],\n",
       "        [255, 255, 255],\n",
       "        [  0,   0,   0],\n",
       "        [  0,   0,   0],\n",
       "        [  0,   0,   0],\n",
       "        [  0,   0,   0],\n",
       "        [255, 255, 255],\n",
       "        [255, 255, 255],\n",
       "        [255, 255, 255]],\n",
       "\n",
       "       [[255, 255, 255],\n",
       "        [  0,   0,   0],\n",
       "        [  0,   0,   0],\n",
       "        [255, 255, 255],\n",
       "        [255, 255, 255],\n",
       "        [255, 255, 255],\n",
       "        [255, 255, 255],\n",
       "        [  0,   0,   0],\n",
       "        [  0,   0,   0],\n",
       "        [255, 255, 255]],\n",
       "\n",
       "       [[  0,   0,   0],\n",
       "        [  0,   0,   0],\n",
       "        [255, 255, 255],\n",
       "        [255, 255, 255],\n",
       "        [255, 255, 255],\n",
       "        [255, 255, 255],\n",
       "        [255, 255, 255],\n",
       "        [255, 255, 255],\n",
       "        [  0,   0,   0],\n",
       "        [  0,   0,   0]],\n",
       "\n",
       "       [[  0,   0,   0],\n",
       "        [255, 255, 255],\n",
       "        [255, 255, 255],\n",
       "        [255,   0,   0],\n",
       "        [255, 255, 255],\n",
       "        [255, 255, 255],\n",
       "        [  0,   0, 255],\n",
       "        [255, 255, 255],\n",
       "        [255, 255, 255],\n",
       "        [  0,   0,   0]],\n",
       "\n",
       "       [[  0,   0,   0],\n",
       "        [255, 255, 255],\n",
       "        [255, 255, 255],\n",
       "        [255,   0,   0],\n",
       "        [255, 255, 255],\n",
       "        [255, 255, 255],\n",
       "        [  0,   0, 255],\n",
       "        [255, 255, 255],\n",
       "        [255, 255, 255],\n",
       "        [  0,   0,   0]],\n",
       "\n",
       "       [[  0,   0,   0],\n",
       "        [255, 255, 255],\n",
       "        [255, 255, 255],\n",
       "        [255, 255, 255],\n",
       "        [255, 255, 255],\n",
       "        [255, 255, 255],\n",
       "        [255, 255, 255],\n",
       "        [255, 255, 255],\n",
       "        [255, 255, 255],\n",
       "        [  0,   0,   0]],\n",
       "\n",
       "       [[  0,   0,   0],\n",
       "        [255, 255, 255],\n",
       "        [255, 255, 255],\n",
       "        [  0, 255,   0],\n",
       "        [255, 255, 255],\n",
       "        [255, 255, 255],\n",
       "        [  0, 255,   0],\n",
       "        [255, 255, 255],\n",
       "        [255, 255, 255],\n",
       "        [  0,   0,   0]],\n",
       "\n",
       "       [[255, 255, 255],\n",
       "        [  0,   0,   0],\n",
       "        [255, 255, 255],\n",
       "        [255, 255, 255],\n",
       "        [  0, 255,   0],\n",
       "        [  0, 255,   0],\n",
       "        [255, 255, 255],\n",
       "        [255, 255, 255],\n",
       "        [  0,   0,   0],\n",
       "        [255, 255, 255]],\n",
       "\n",
       "       [[255, 255, 255],\n",
       "        [255, 255, 255],\n",
       "        [  0,   0,   0],\n",
       "        [255, 255, 255],\n",
       "        [255, 255, 255],\n",
       "        [255, 255, 255],\n",
       "        [255, 255, 255],\n",
       "        [  0,   0,   0],\n",
       "        [255, 255, 255],\n",
       "        [255, 255, 255]],\n",
       "\n",
       "       [[255, 255, 255],\n",
       "        [255, 255, 255],\n",
       "        [255, 255, 255],\n",
       "        [  0,   0,   0],\n",
       "        [  0,   0,   0],\n",
       "        [  0,   0,   0],\n",
       "        [  0,   0,   0],\n",
       "        [255, 255, 255],\n",
       "        [255, 255, 255],\n",
       "        [255, 255, 255]]])"
      ]
     },
     "execution_count": 91,
     "metadata": {},
     "output_type": "execute_result"
    }
   ],
   "source": [
    "image_index = np.array([[4,4,4,0,0,0,0,4,4,4],\n",
    "                        [4,0,0,4,4,4,4,0,0,4],\n",
    "                        [0,0,4,4,4,4,4,4,0,0],\n",
    "                        [0,4,4,1,4,4,3,4,4,0],\n",
    "                        [0,4,4,1,4,4,3,4,4,0],\n",
    "                        [0,4,4,4,4,4,4,4,4,0],\n",
    "                        [0,4,4,2,4,4,2,4,4,0],\n",
    "                        [4,0,4,4,2,2,4,4,0,4],\n",
    "                        [4,4,0,4,4,4,4,0,4,4],\n",
    "                        [4,4,4,0,0,0,0,4,4,4]])\n",
    "image_data = palette[image_index]\n",
    "image_data"
   ]
  },
  {
   "cell_type": "code",
   "execution_count": 92,
   "id": "b3341b60",
   "metadata": {
    "ExecuteTime": {
     "end_time": "2024-11-22T07:19:59.383190Z",
     "start_time": "2024-11-22T07:19:59.367541Z"
    }
   },
   "outputs": [
    {
     "data": {
      "text/plain": [
       "(10, 10, 3)"
      ]
     },
     "execution_count": 92,
     "metadata": {},
     "output_type": "execute_result"
    }
   ],
   "source": [
    "image_data.shape"
   ]
  },
  {
   "cell_type": "code",
   "execution_count": 99,
   "id": "caecd1fa",
   "metadata": {
    "ExecuteTime": {
     "end_time": "2024-11-22T07:22:25.249080Z",
     "start_time": "2024-11-22T07:22:25.139544Z"
    }
   },
   "outputs": [
    {
     "data": {
      "image/png": "[encoded data removed]",
      "text/plain": [
       "<Figure size 200x200 with 1 Axes>"
      ]
     },
     "metadata": {},
     "output_type": "display_data"
    }
   ],
   "source": [
    "# import matplotlib.pyplot as plt\n",
    "from matplotlib import pyplot as plt\n",
    "plt.figure(figsize=(2, 2))\n",
    "plt.imshow(image_data)\n",
    "plt.show()"
   ]
  },
  {
   "cell_type": "code",
   "execution_count": null,
   "id": "49c8f04b",
   "metadata": {},
   "outputs": [],
   "source": [
    "# 나중에 학습할 이미지 데이터"
   ]
  },
  {
   "cell_type": "code",
   "execution_count": 102,
   "id": "61f14011",
   "metadata": {
    "ExecuteTime": {
     "end_time": "2024-11-22T07:27:34.849144Z",
     "start_time": "2024-11-22T07:27:34.843251Z"
    }
   },
   "outputs": [
    {
     "data": {
      "text/plain": [
       "'2.10.0'"
      ]
     },
     "execution_count": 102,
     "metadata": {},
     "output_type": "execute_result"
    }
   ],
   "source": [
    "import tensorflow as tf\n",
    "tf.__version__"
   ]
  },
  {
   "cell_type": "code",
   "execution_count": 105,
   "id": "4d72419e",
   "metadata": {
    "ExecuteTime": {
     "end_time": "2024-11-22T07:31:09.215368Z",
     "start_time": "2024-11-22T07:31:09.211364Z"
    }
   },
   "outputs": [],
   "source": [
    "import tensorflow.keras.datasets.mnist as mnist"
   ]
  },
  {
   "cell_type": "code",
   "execution_count": 106,
   "id": "a267b669",
   "metadata": {
    "ExecuteTime": {
     "end_time": "2024-11-22T07:31:28.445683Z",
     "start_time": "2024-11-22T07:31:26.618806Z"
    }
   },
   "outputs": [
    {
     "name": "stdout",
     "output_type": "stream",
     "text": [
      "Downloading data from https://storage.googleapis.com/tensorflow/tf-keras-datasets/mnist.npz\n",
      "11490434/11490434 [==============================] - 1s 0us/step\n"
     ]
    },
    {
     "data": {
      "text/plain": [
       "((array([[[0, 0, 0, ..., 0, 0, 0],\n",
       "          [0, 0, 0, ..., 0, 0, 0],\n",
       "          [0, 0, 0, ..., 0, 0, 0],\n",
       "          ...,\n",
       "          [0, 0, 0, ..., 0, 0, 0],\n",
       "          [0, 0, 0, ..., 0, 0, 0],\n",
       "          [0, 0, 0, ..., 0, 0, 0]],\n",
       "  \n",
       "         [[0, 0, 0, ..., 0, 0, 0],\n",
       "          [0, 0, 0, ..., 0, 0, 0],\n",
       "          [0, 0, 0, ..., 0, 0, 0],\n",
       "          ...,\n",
       "          [0, 0, 0, ..., 0, 0, 0],\n",
       "          [0, 0, 0, ..., 0, 0, 0],\n",
       "          [0, 0, 0, ..., 0, 0, 0]],\n",
       "  \n",
       "         [[0, 0, 0, ..., 0, 0, 0],\n",
       "          [0, 0, 0, ..., 0, 0, 0],\n",
       "          [0, 0, 0, ..., 0, 0, 0],\n",
       "          ...,\n",
       "          [0, 0, 0, ..., 0, 0, 0],\n",
       "          [0, 0, 0, ..., 0, 0, 0],\n",
       "          [0, 0, 0, ..., 0, 0, 0]],\n",
       "  \n",
       "         ...,\n",
       "  \n",
       "         [[0, 0, 0, ..., 0, 0, 0],\n",
       "          [0, 0, 0, ..., 0, 0, 0],\n",
       "          [0, 0, 0, ..., 0, 0, 0],\n",
       "          ...,\n",
       "          [0, 0, 0, ..., 0, 0, 0],\n",
       "          [0, 0, 0, ..., 0, 0, 0],\n",
       "          [0, 0, 0, ..., 0, 0, 0]],\n",
       "  \n",
       "         [[0, 0, 0, ..., 0, 0, 0],\n",
       "          [0, 0, 0, ..., 0, 0, 0],\n",
       "          [0, 0, 0, ..., 0, 0, 0],\n",
       "          ...,\n",
       "          [0, 0, 0, ..., 0, 0, 0],\n",
       "          [0, 0, 0, ..., 0, 0, 0],\n",
       "          [0, 0, 0, ..., 0, 0, 0]],\n",
       "  \n",
       "         [[0, 0, 0, ..., 0, 0, 0],\n",
       "          [0, 0, 0, ..., 0, 0, 0],\n",
       "          [0, 0, 0, ..., 0, 0, 0],\n",
       "          ...,\n",
       "          [0, 0, 0, ..., 0, 0, 0],\n",
       "          [0, 0, 0, ..., 0, 0, 0],\n",
       "          [0, 0, 0, ..., 0, 0, 0]]], dtype=uint8),\n",
       "  array([5, 0, 4, ..., 5, 6, 8], dtype=uint8)),\n",
       " (array([[[0, 0, 0, ..., 0, 0, 0],\n",
       "          [0, 0, 0, ..., 0, 0, 0],\n",
       "          [0, 0, 0, ..., 0, 0, 0],\n",
       "          ...,\n",
       "          [0, 0, 0, ..., 0, 0, 0],\n",
       "          [0, 0, 0, ..., 0, 0, 0],\n",
       "          [0, 0, 0, ..., 0, 0, 0]],\n",
       "  \n",
       "         [[0, 0, 0, ..., 0, 0, 0],\n",
       "          [0, 0, 0, ..., 0, 0, 0],\n",
       "          [0, 0, 0, ..., 0, 0, 0],\n",
       "          ...,\n",
       "          [0, 0, 0, ..., 0, 0, 0],\n",
       "          [0, 0, 0, ..., 0, 0, 0],\n",
       "          [0, 0, 0, ..., 0, 0, 0]],\n",
       "  \n",
       "         [[0, 0, 0, ..., 0, 0, 0],\n",
       "          [0, 0, 0, ..., 0, 0, 0],\n",
       "          [0, 0, 0, ..., 0, 0, 0],\n",
       "          ...,\n",
       "          [0, 0, 0, ..., 0, 0, 0],\n",
       "          [0, 0, 0, ..., 0, 0, 0],\n",
       "          [0, 0, 0, ..., 0, 0, 0]],\n",
       "  \n",
       "         ...,\n",
       "  \n",
       "         [[0, 0, 0, ..., 0, 0, 0],\n",
       "          [0, 0, 0, ..., 0, 0, 0],\n",
       "          [0, 0, 0, ..., 0, 0, 0],\n",
       "          ...,\n",
       "          [0, 0, 0, ..., 0, 0, 0],\n",
       "          [0, 0, 0, ..., 0, 0, 0],\n",
       "          [0, 0, 0, ..., 0, 0, 0]],\n",
       "  \n",
       "         [[0, 0, 0, ..., 0, 0, 0],\n",
       "          [0, 0, 0, ..., 0, 0, 0],\n",
       "          [0, 0, 0, ..., 0, 0, 0],\n",
       "          ...,\n",
       "          [0, 0, 0, ..., 0, 0, 0],\n",
       "          [0, 0, 0, ..., 0, 0, 0],\n",
       "          [0, 0, 0, ..., 0, 0, 0]],\n",
       "  \n",
       "         [[0, 0, 0, ..., 0, 0, 0],\n",
       "          [0, 0, 0, ..., 0, 0, 0],\n",
       "          [0, 0, 0, ..., 0, 0, 0],\n",
       "          ...,\n",
       "          [0, 0, 0, ..., 0, 0, 0],\n",
       "          [0, 0, 0, ..., 0, 0, 0],\n",
       "          [0, 0, 0, ..., 0, 0, 0]]], dtype=uint8),\n",
       "  array([7, 2, 1, ..., 4, 5, 6], dtype=uint8)))"
      ]
     },
     "execution_count": 106,
     "metadata": {},
     "output_type": "execute_result"
    }
   ],
   "source": [
    "mnist = mnist.load_data()\n",
    "mnist"
   ]
  },
  {
   "cell_type": "code",
   "execution_count": 108,
   "id": "25da8ef2",
   "metadata": {
    "ExecuteTime": {
     "end_time": "2024-11-22T07:40:53.081079Z",
     "start_time": "2024-11-22T07:40:53.075100Z"
    }
   },
   "outputs": [
    {
     "data": {
      "text/plain": [
       "(60000, 28, 28)"
      ]
     },
     "execution_count": 108,
     "metadata": {},
     "output_type": "execute_result"
    }
   ],
   "source": [
    "mnist[0][0].shape # 독립변수가 될 이미지들 60000"
   ]
  },
  {
   "cell_type": "code",
   "execution_count": 109,
   "id": "ca3e18be",
   "metadata": {
    "ExecuteTime": {
     "end_time": "2024-11-22T07:42:04.330178Z",
     "start_time": "2024-11-22T07:42:04.323198Z"
    }
   },
   "outputs": [
    {
     "data": {
      "text/plain": [
       "array([5, 0, 4, ..., 5, 6, 8], dtype=uint8)"
      ]
     },
     "execution_count": 109,
     "metadata": {},
     "output_type": "execute_result"
    }
   ],
   "source": [
    "mnist[0][1] # 종속변수"
   ]
  },
  {
   "cell_type": "code",
   "execution_count": 110,
   "id": "2ace3755",
   "metadata": {
    "ExecuteTime": {
     "end_time": "2024-11-22T07:43:18.508499Z",
     "start_time": "2024-11-22T07:43:18.491940Z"
    }
   },
   "outputs": [],
   "source": [
    "X = mnist[0][0]\n",
    "Y = mnist[0][1]"
   ]
  },
  {
   "cell_type": "code",
   "execution_count": 122,
   "id": "f23d7c55",
   "metadata": {
    "ExecuteTime": {
     "end_time": "2024-11-22T07:47:51.518904Z",
     "start_time": "2024-11-22T07:47:51.395412Z"
    }
   },
   "outputs": [
    {
     "data": {
      "image/png": "[encoded data removed]",
      "text/plain": [
       "<Figure size 200x200 with 1 Axes>"
      ]
     },
     "metadata": {},
     "output_type": "display_data"
    }
   ],
   "source": [
    "plt.figure(figsize=(2,2))\n",
    "plt.imshow(X[57217])\n",
    "plt.show()"
   ]
  },
  {
   "cell_type": "code",
   "execution_count": 121,
   "id": "ceabb11c",
   "metadata": {
    "ExecuteTime": {
     "end_time": "2024-11-22T07:46:59.433005Z",
     "start_time": "2024-11-22T07:46:59.427021Z"
    }
   },
   "outputs": [
    {
     "data": {
      "text/plain": [
       "8"
      ]
     },
     "execution_count": 121,
     "metadata": {},
     "output_type": "execute_result"
    }
   ],
   "source": [
    "Y[57217]"
   ]
  },
  {
   "cell_type": "markdown",
   "id": "571d2be4",
   "metadata": {},
   "source": [
    "## 5.2 argmax: 최댓값이 있는 인덱스"
   ]
  },
  {
   "cell_type": "code",
   "execution_count": 123,
   "id": "890b8733",
   "metadata": {
    "ExecuteTime": {
     "end_time": "2024-11-22T07:52:50.194345Z",
     "start_time": "2024-11-22T07:52:50.188340Z"
    }
   },
   "outputs": [
    {
     "data": {
      "text/plain": [
       "array([[ 0.        ,  0.84147098,  0.90929743,  0.14112001],\n",
       "       [-0.7568025 , -0.95892427, -0.2794155 ,  0.6569866 ],\n",
       "       [ 0.98935825,  0.41211849, -0.54402111, -0.99999021],\n",
       "       [-0.53657292,  0.42016704,  0.99060736,  0.65028784],\n",
       "       [-0.28790332, -0.96139749, -0.75098725,  0.14987721]])"
      ]
     },
     "execution_count": 123,
     "metadata": {},
     "output_type": "execute_result"
    }
   ],
   "source": [
    "import numpy as np\n",
    "data = np.sin(np.arange(20).reshape(5, 4))\n",
    "data"
   ]
  },
  {
   "cell_type": "code",
   "execution_count": 124,
   "id": "80c66005",
   "metadata": {
    "ExecuteTime": {
     "end_time": "2024-11-22T07:55:07.083526Z",
     "start_time": "2024-11-22T07:55:07.076517Z"
    }
   },
   "outputs": [
    {
     "data": {
      "text/plain": [
       "array([2, 0, 3, 1], dtype=int64)"
      ]
     },
     "execution_count": 124,
     "metadata": {},
     "output_type": "execute_result"
    }
   ],
   "source": [
    "ind = data.argmax(axis=0) # 각 열별 큰 값이 있는 index\n",
    "ind"
   ]
  },
  {
   "cell_type": "code",
   "execution_count": 128,
   "id": "30dc7fe1",
   "metadata": {
    "ExecuteTime": {
     "end_time": "2024-11-22T08:01:29.123099Z",
     "start_time": "2024-11-22T08:01:29.116116Z"
    }
   },
   "outputs": [
    {
     "data": {
      "text/plain": [
       "(0.9893582466233818,\n",
       " 0.8414709848078965,\n",
       " 0.9906073556948704,\n",
       " 0.6569865987187891)"
      ]
     },
     "execution_count": 128,
     "metadata": {},
     "output_type": "execute_result"
    }
   ],
   "source": [
    "# 0열에서의 최댓값, 1열에서의 최댓값, 2열에서의 최댓값\n",
    "data[ind[0], 0], data[ind[1], 1], data[ind[2], 2], data[ind[3], 3]"
   ]
  },
  {
   "cell_type": "code",
   "execution_count": 129,
   "id": "1750420a",
   "metadata": {
    "ExecuteTime": {
     "end_time": "2024-11-22T08:01:41.096728Z",
     "start_time": "2024-11-22T08:01:41.091190Z"
    }
   },
   "outputs": [
    {
     "data": {
      "text/plain": [
       "(5, 4)"
      ]
     },
     "execution_count": 129,
     "metadata": {},
     "output_type": "execute_result"
    }
   ],
   "source": [
    "data.shape"
   ]
  },
  {
   "cell_type": "code",
   "execution_count": 134,
   "id": "8dc173ea",
   "metadata": {
    "ExecuteTime": {
     "end_time": "2024-11-22T08:15:58.371303Z",
     "start_time": "2024-11-22T08:15:58.363604Z"
    }
   },
   "outputs": [
    {
     "data": {
      "text/plain": [
       "array([0.98935825, 0.84147098, 0.99060736, 0.6569866 ])"
      ]
     },
     "execution_count": 134,
     "metadata": {},
     "output_type": "execute_result"
    }
   ],
   "source": [
    "data_col_max = data[ind, range(data.shape[1])]\n",
    "data_col_max"
   ]
  },
  {
   "cell_type": "code",
   "execution_count": 137,
   "id": "87c927a5",
   "metadata": {
    "ExecuteTime": {
     "end_time": "2024-11-22T08:16:47.514303Z",
     "start_time": "2024-11-22T08:16:47.507318Z"
    }
   },
   "outputs": [
    {
     "data": {
      "text/plain": [
       "True"
      ]
     },
     "execution_count": 137,
     "metadata": {},
     "output_type": "execute_result"
    }
   ],
   "source": [
    "np.all(data_col_max == data.max(axis=0))"
   ]
  },
  {
   "cell_type": "markdown",
   "id": "5828385c",
   "metadata": {},
   "source": [
    "## 5.3 논리 배열을 이용한 인덱싱"
   ]
  },
  {
   "cell_type": "code",
   "execution_count": 139,
   "id": "0a24db26",
   "metadata": {
    "ExecuteTime": {
     "end_time": "2024-11-22T08:18:17.978603Z",
     "start_time": "2024-11-22T08:18:17.972597Z"
    }
   },
   "outputs": [
    {
     "data": {
      "text/plain": [
       "array([[ 0,  1,  2,  3,  4,  5,  6,  7,  8,  9],\n",
       "       [10, 11, 12, 13, 14, 15, 16, 17, 18, 19]])"
      ]
     },
     "execution_count": 139,
     "metadata": {},
     "output_type": "execute_result"
    }
   ],
   "source": [
    "a = np.arange(20).reshape(2, 10)\n",
    "a"
   ]
  },
  {
   "cell_type": "code",
   "execution_count": 140,
   "id": "4f70f409",
   "metadata": {
    "ExecuteTime": {
     "end_time": "2024-11-22T08:18:41.634934Z",
     "start_time": "2024-11-22T08:18:41.627713Z"
    }
   },
   "outputs": [
    {
     "data": {
      "text/plain": [
       "array([[ True, False,  True, False,  True, False,  True, False,  True,\n",
       "        False],\n",
       "       [ True, False,  True, False,  True, False,  True, False,  True,\n",
       "        False]])"
      ]
     },
     "execution_count": 140,
     "metadata": {},
     "output_type": "execute_result"
    }
   ],
   "source": [
    "b = a%2 == 0\n",
    "b"
   ]
  },
  {
   "cell_type": "code",
   "execution_count": 143,
   "id": "71c9a0ed",
   "metadata": {
    "ExecuteTime": {
     "end_time": "2024-11-22T08:20:11.763495Z",
     "start_time": "2024-11-22T08:20:11.758499Z"
    }
   },
   "outputs": [
    {
     "data": {
      "text/plain": [
       "array([ 0,  2,  4,  6,  8, 10, 12, 14, 16, 18])"
      ]
     },
     "execution_count": 143,
     "metadata": {},
     "output_type": "execute_result"
    }
   ],
   "source": [
    "a[a%2 == 0] # 논리 배열을 이용한 인덱싱시 True인 요소만 추출"
   ]
  },
  {
   "cell_type": "code",
   "execution_count": 144,
   "id": "17a449f6",
   "metadata": {
    "ExecuteTime": {
     "end_time": "2024-11-22T08:21:09.875355Z",
     "start_time": "2024-11-22T08:21:09.868441Z"
    }
   },
   "outputs": [
    {
     "data": {
      "text/plain": [
       "array([16, 17, 18, 19])"
      ]
     },
     "execution_count": 144,
     "metadata": {},
     "output_type": "execute_result"
    }
   ],
   "source": [
    "a[a>15]"
   ]
  },
  {
   "cell_type": "markdown",
   "id": "975048d0",
   "metadata": {},
   "source": [
    "# 6절. 선형대수\n",
    "```\n",
    "    - 2차원 numpy 배열을 행렬\n",
    "        * 행렬곱: @, np.dot()\n",
    "        * 역행렬: np.linalg.inv(X)\n",
    "        * 전치행렬: X.T, X.transpose()\n",
    "        * 단위행렬: np.eye(n): n행n열 단위행렬\n",
    "```\n",
    "## 6.1 선형 연립방정식 풀기\n"
   ]
  },
  {
   "cell_type": "code",
   "execution_count": 145,
   "id": "fa96b426",
   "metadata": {
    "ExecuteTime": {
     "end_time": "2024-11-22T08:50:11.053370Z",
     "start_time": "2024-11-22T08:50:11.046142Z"
    }
   },
   "outputs": [
    {
     "data": {
      "text/plain": [
       "array([[1, 2],\n",
       "       [3, 4]])"
      ]
     },
     "execution_count": 145,
     "metadata": {},
     "output_type": "execute_result"
    }
   ],
   "source": [
    "a = np.array([[1, 2],\n",
    "              [3, 4]])\n",
    "a"
   ]
  },
  {
   "cell_type": "code",
   "execution_count": 147,
   "id": "8e36a037",
   "metadata": {
    "ExecuteTime": {
     "end_time": "2024-11-22T08:51:03.990164Z",
     "start_time": "2024-11-22T08:51:03.982692Z"
    }
   },
   "outputs": [
    {
     "data": {
      "text/plain": [
       "array([[-2. ,  1. ],\n",
       "       [ 1.5, -0.5]])"
      ]
     },
     "execution_count": 147,
     "metadata": {},
     "output_type": "execute_result"
    }
   ],
   "source": [
    "# a의 역행렬: a의역행렬@a => 단위행렬\n",
    "np.linalg.inv(a)"
   ]
  },
  {
   "cell_type": "code",
   "execution_count": 148,
   "id": "fe3af3c4",
   "metadata": {
    "ExecuteTime": {
     "end_time": "2024-11-22T08:51:15.434592Z",
     "start_time": "2024-11-22T08:51:15.428600Z"
    }
   },
   "outputs": [
    {
     "data": {
      "text/plain": [
       "array([[1.0000000e+00, 4.4408921e-16],\n",
       "       [0.0000000e+00, 1.0000000e+00]])"
      ]
     },
     "execution_count": 148,
     "metadata": {},
     "output_type": "execute_result"
    }
   ],
   "source": [
    "np.linalg.inv(a) @ a"
   ]
  },
  {
   "cell_type": "code",
   "execution_count": 149,
   "id": "347f85c5",
   "metadata": {
    "ExecuteTime": {
     "end_time": "2024-11-22T08:53:08.932685Z",
     "start_time": "2024-11-22T08:53:08.924671Z"
    }
   },
   "outputs": [
    {
     "data": {
      "text/plain": [
       "array([[1., 0.],\n",
       "       [0., 1.]])"
      ]
     },
     "execution_count": 149,
     "metadata": {},
     "output_type": "execute_result"
    }
   ],
   "source": [
    "np.eye(2) # 2행2열짜리 단위행렬"
   ]
  },
  {
   "cell_type": "code",
   "execution_count": 150,
   "id": "1bb59a54",
   "metadata": {
    "ExecuteTime": {
     "end_time": "2024-11-22T08:54:03.906775Z",
     "start_time": "2024-11-22T08:54:03.900790Z"
    }
   },
   "outputs": [
    {
     "data": {
      "text/plain": [
       "array([[False, False],\n",
       "       [ True, False]])"
      ]
     },
     "execution_count": 150,
     "metadata": {},
     "output_type": "execute_result"
    }
   ],
   "source": [
    "np.linalg.inv(a) @ a == np.eye(2)"
   ]
  },
  {
   "cell_type": "markdown",
   "id": "30cea119",
   "metadata": {},
   "source": [
    "## 6.1 선형 연립 방정식 풀기(단변량 회귀분석): 독립변수1, 데이터2개"
   ]
  },
  {
   "cell_type": "code",
   "execution_count": 152,
   "id": "db1acc4c",
   "metadata": {
    "ExecuteTime": {
     "end_time": "2024-11-22T08:58:41.044735Z",
     "start_time": "2024-11-22T08:58:41.036776Z"
    }
   },
   "outputs": [
    {
     "data": {
      "text/plain": [
       "array([[[2., 1.],\n",
       "        [4., 1.]]])"
      ]
     },
     "execution_count": 152,
     "metadata": {},
     "output_type": "execute_result"
    }
   ],
   "source": [
    "x = np.array([2, 4])   # 독립변수\n",
    "Y = np.array([40, 60]) # 종속변수\n",
    "X = np.dstack( (x, np.ones(len(x)) ))\n",
    "X"
   ]
  },
  {
   "cell_type": "code",
   "execution_count": null,
   "id": "b40e6f41",
   "metadata": {},
   "outputs": [],
   "source": [
    "# X @ wb = Y\n",
    "# X의 역행렬 @ X @ wb = X의 역행렬 @ Y\n",
    "# wb = X의 역행렬 @ Y"
   ]
  },
  {
   "cell_type": "code",
   "execution_count": 155,
   "id": "0d9c4d1e",
   "metadata": {
    "ExecuteTime": {
     "end_time": "2024-11-22T09:01:19.299906Z",
     "start_time": "2024-11-22T09:01:19.293051Z"
    }
   },
   "outputs": [
    {
     "data": {
      "text/plain": [
       "array([[10., 20.]])"
      ]
     },
     "execution_count": 155,
     "metadata": {},
     "output_type": "execute_result"
    }
   ],
   "source": [
    "wb = np.linalg.inv(X) @ Y\n",
    "wb"
   ]
  },
  {
   "cell_type": "code",
   "execution_count": 157,
   "id": "ae740460",
   "metadata": {
    "ExecuteTime": {
     "end_time": "2024-11-22T09:04:03.672491Z",
     "start_time": "2024-11-22T09:04:03.469756Z"
    }
   },
   "outputs": [
    {
     "data": {
      "image/png": "[encoded data removed]",
      "text/plain": [
       "<Figure size 640x480 with 1 Axes>"
      ]
     },
     "metadata": {},
     "output_type": "display_data"
    }
   ],
   "source": [
    "import matplotlib.pyplot as plt\n",
    "plt.scatter(x, Y, c='b')\n",
    "plt.plot(x, 10*x+20, color=\"r\" ) # np.multiply(x, 10)\n",
    "plt.show()"
   ]
  },
  {
   "cell_type": "code",
   "execution_count": null,
   "id": "9a4e49a7",
   "metadata": {},
   "outputs": [],
   "source": []
  },
  {
   "cell_type": "code",
   "execution_count": null,
   "id": "5f566e96",
   "metadata": {},
   "outputs": [],
   "source": []
  }
 ],
 "metadata": {
  "kernelspec": {
   "display_name": "Python 3 (ipykernel)",
   "language": "python",
   "name": "python3"
  },
  "language_info": {
   "codemirror_mode": {
    "name": "ipython",
    "version": 3
   },
   "file_extension": ".py",
   "mimetype": "text/x-python",
   "name": "python",
   "nbconvert_exporter": "python",
   "pygments_lexer": "ipython3",
   "version": "3.10.9"
  },
  "toc": {
   "base_numbering": 1,
   "nav_menu": {},
   "number_sections": true,
   "sideBar": true,
   "skip_h1_title": false,
   "title_cell": "Table of Contents",
   "title_sidebar": "Contents",
   "toc_cell": false,
   "toc_position": {
    "height": "calc(100% - 180px)",
    "left": "10px",
    "top": "150px",
    "width": "165px"
   },
   "toc_section_display": true,
   "toc_window_display": true
  }
 },
 "nbformat": 4,
 "nbformat_minor": 5
}
