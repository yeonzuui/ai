{
 "cells": [
  {
   "cell_type": "markdown",
   "id": "da186785",
   "metadata": {},
   "source": [
    "<b><font color=\"red\" size=\"6\">ch11. N차원 배열 다루기</font></b>\n",
    "- [numpy](https://numpy.org/)\n",
    "- [numpy docs](https://numpy.org/doc/stable/)\n",
    "- N차원 배열 객체 \n",
    "- 2차원 배열은 행렬개념으로 이해\n",
    "- numpy 패키지를 이용(C언어로 구현된 고선응 수치계산 패키지)"
   ]
  },
  {
   "cell_type": "markdown",
   "id": "7c114bd5",
   "metadata": {},
   "source": [
    "# 1절 numpy 패키지"
   ]
  },
  {
   "cell_type": "code",
   "execution_count": 1,
   "id": "57bc5462",
   "metadata": {
    "ExecuteTime": {
     "end_time": "2024-11-21T03:08:33.927201Z",
     "start_time": "2024-11-21T03:08:33.761613Z"
    }
   },
   "outputs": [
    {
     "data": {
      "text/plain": [
       "'1.23.5'"
      ]
     },
     "execution_count": 1,
     "metadata": {},
     "output_type": "execute_result"
    }
   ],
   "source": [
    "import numpy as np\n",
    "np.__version__"
   ]
  },
  {
   "cell_type": "code",
   "execution_count": 2,
   "id": "3a773712",
   "metadata": {
    "ExecuteTime": {
     "end_time": "2024-11-21T03:08:33.937144Z",
     "start_time": "2024-11-21T03:08:33.930172Z"
    }
   },
   "outputs": [
    {
     "data": {
      "text/plain": [
       "array([ 0,  1,  2,  3,  4,  5,  6,  7,  8,  9, 10, 11, 12, 13, 14])"
      ]
     },
     "execution_count": 2,
     "metadata": {},
     "output_type": "execute_result"
    }
   ],
   "source": [
    "a = np.arange(15) # 0부터 15앞까지 1씩 증가하는 1차원 배열\n",
    "a"
   ]
  },
  {
   "cell_type": "code",
   "execution_count": 3,
   "id": "9a9e3428",
   "metadata": {
    "ExecuteTime": {
     "end_time": "2024-11-21T03:08:33.948141Z",
     "start_time": "2024-11-21T03:08:33.941133Z"
    }
   },
   "outputs": [
    {
     "data": {
      "text/plain": [
       "array([[15, 16, 17, 18, 19],\n",
       "       [20, 21, 22, 23, 24],\n",
       "       [25, 26, 27, 28, 29]])"
      ]
     },
     "execution_count": 3,
     "metadata": {},
     "output_type": "execute_result"
    }
   ],
   "source": [
    "from numpy import arange\n",
    "a = arange(15, 30).reshape(3, 5) # 3행 5열짜리 2차원 배열\n",
    "a"
   ]
  },
  {
   "cell_type": "code",
   "execution_count": 4,
   "id": "5b4b64f6",
   "metadata": {
    "ExecuteTime": {
     "end_time": "2024-11-21T03:08:33.961080Z",
     "start_time": "2024-11-21T03:08:33.950110Z"
    }
   },
   "outputs": [
    {
     "data": {
      "text/plain": [
       "numpy.ndarray"
      ]
     },
     "execution_count": 4,
     "metadata": {},
     "output_type": "execute_result"
    }
   ],
   "source": [
    "type(a) # a배열변수의 타입"
   ]
  },
  {
   "cell_type": "code",
   "execution_count": 5,
   "id": "fbf4b7ff",
   "metadata": {
    "ExecuteTime": {
     "end_time": "2024-11-21T03:08:33.971054Z",
     "start_time": "2024-11-21T03:08:33.965069Z"
    }
   },
   "outputs": [
    {
     "data": {
      "text/plain": [
       "dtype('int32')"
      ]
     },
     "execution_count": 5,
     "metadata": {},
     "output_type": "execute_result"
    }
   ],
   "source": [
    "a.dtype # a배열변수의 요소들의 type  "
   ]
  },
  {
   "cell_type": "code",
   "execution_count": 6,
   "id": "afb2b309",
   "metadata": {
    "ExecuteTime": {
     "end_time": "2024-11-21T03:08:33.983020Z",
     "start_time": "2024-11-21T03:08:33.975042Z"
    }
   },
   "outputs": [
    {
     "data": {
      "text/plain": [
       "'int32'"
      ]
     },
     "execution_count": 6,
     "metadata": {},
     "output_type": "execute_result"
    }
   ],
   "source": [
    "a.dtype.name"
   ]
  },
  {
   "cell_type": "code",
   "execution_count": 7,
   "id": "6bb885f4",
   "metadata": {
    "ExecuteTime": {
     "end_time": "2024-11-21T03:08:33.993991Z",
     "start_time": "2024-11-21T03:08:33.985016Z"
    }
   },
   "outputs": [
    {
     "data": {
      "text/plain": [
       "4"
      ]
     },
     "execution_count": 7,
     "metadata": {},
     "output_type": "execute_result"
    }
   ],
   "source": [
    "a.itemsize # 한 요소의 bytesize(int32의 경우: 4byte)"
   ]
  },
  {
   "cell_type": "code",
   "execution_count": 8,
   "id": "76de6d4d",
   "metadata": {
    "ExecuteTime": {
     "end_time": "2024-11-21T03:08:34.003974Z",
     "start_time": "2024-11-21T03:08:33.997982Z"
    }
   },
   "outputs": [
    {
     "data": {
      "text/plain": [
       "2"
      ]
     },
     "execution_count": 8,
     "metadata": {},
     "output_type": "execute_result"
    }
   ],
   "source": [
    "a.ndim # 축수(차원수)"
   ]
  },
  {
   "cell_type": "code",
   "execution_count": 9,
   "id": "9561a8d8",
   "metadata": {
    "ExecuteTime": {
     "end_time": "2024-11-21T03:08:34.014944Z",
     "start_time": "2024-11-21T03:08:34.007954Z"
    }
   },
   "outputs": [
    {
     "data": {
      "text/plain": [
       "15"
      ]
     },
     "execution_count": 9,
     "metadata": {},
     "output_type": "execute_result"
    }
   ],
   "source": [
    "a.size # 배열 요소의 갯수"
   ]
  },
  {
   "cell_type": "code",
   "execution_count": 10,
   "id": "8524b818",
   "metadata": {
    "ExecuteTime": {
     "end_time": "2024-11-21T03:08:34.026903Z",
     "start_time": "2024-11-21T03:08:34.017928Z"
    }
   },
   "outputs": [
    {
     "data": {
      "text/plain": [
       "(3, 5)"
      ]
     },
     "execution_count": 10,
     "metadata": {},
     "output_type": "execute_result"
    }
   ],
   "source": [
    "a.shape # 배열의 구조(3행 5열)"
   ]
  },
  {
   "cell_type": "code",
   "execution_count": 11,
   "id": "9c3b6be7",
   "metadata": {
    "ExecuteTime": {
     "end_time": "2024-11-21T03:08:34.038872Z",
     "start_time": "2024-11-21T03:08:34.029898Z"
    }
   },
   "outputs": [
    {
     "name": "stdout",
     "output_type": "stream",
     "text": [
      "shape 조정 전 a:\n",
      " [[15 16 17 18 19]\n",
      " [20 21 22 23 24]\n",
      " [25 26 27 28 29]]\n",
      "shape 수정 후 a:\n",
      " [[15 16 17]\n",
      " [18 19 20]\n",
      " [21 22 23]\n",
      " [24 25 26]\n",
      " [27 28 29]]\n"
     ]
    }
   ],
   "source": [
    "print('shape 조정 전 a:\\n', a)\n",
    "a.shape = (5, 3)\n",
    "print('shape 수정 후 a:\\n', a)"
   ]
  },
  {
   "cell_type": "code",
   "execution_count": 13,
   "id": "72af1d82",
   "metadata": {
    "ExecuteTime": {
     "end_time": "2024-11-21T03:09:19.085442Z",
     "start_time": "2024-11-21T03:09:19.079464Z"
    }
   },
   "outputs": [
    {
     "data": {
      "text/plain": [
       "array([[ 0,  1,  2,  3],\n",
       "       [ 4,  5,  6,  7],\n",
       "       [ 8,  9, 10, 11]])"
      ]
     },
     "execution_count": 13,
     "metadata": {},
     "output_type": "execute_result"
    }
   ],
   "source": [
    "# 배열 요소의 타입을 수정\n",
    "a = np.arange(12).reshape(3, 4)\n",
    "a"
   ]
  },
  {
   "cell_type": "code",
   "execution_count": 14,
   "id": "e087a97b",
   "metadata": {
    "ExecuteTime": {
     "end_time": "2024-11-21T03:09:52.411345Z",
     "start_time": "2024-11-21T03:09:52.406359Z"
    }
   },
   "outputs": [
    {
     "data": {
      "text/plain": [
       "12"
      ]
     },
     "execution_count": 14,
     "metadata": {},
     "output_type": "execute_result"
    }
   ],
   "source": [
    "a.size # 요소의 갯수"
   ]
  },
  {
   "cell_type": "code",
   "execution_count": 15,
   "id": "a71e25a8",
   "metadata": {
    "ExecuteTime": {
     "end_time": "2024-11-21T03:10:11.779565Z",
     "start_time": "2024-11-21T03:10:11.773580Z"
    }
   },
   "outputs": [
    {
     "data": {
      "text/plain": [
       "dtype('int32')"
      ]
     },
     "execution_count": 15,
     "metadata": {},
     "output_type": "execute_result"
    }
   ],
   "source": [
    "a.dtype"
   ]
  },
  {
   "cell_type": "code",
   "execution_count": 16,
   "id": "85d50dcb",
   "metadata": {
    "ExecuteTime": {
     "end_time": "2024-11-21T03:10:22.652508Z",
     "start_time": "2024-11-21T03:10:22.646534Z"
    }
   },
   "outputs": [
    {
     "data": {
      "text/plain": [
       "4"
      ]
     },
     "execution_count": 16,
     "metadata": {},
     "output_type": "execute_result"
    }
   ],
   "source": [
    "a.itemsize"
   ]
  },
  {
   "cell_type": "code",
   "execution_count": 17,
   "id": "b5a8eae8",
   "metadata": {
    "ExecuteTime": {
     "end_time": "2024-11-21T03:12:27.867703Z",
     "start_time": "2024-11-21T03:12:27.861698Z"
    }
   },
   "outputs": [
    {
     "data": {
      "text/plain": [
       "dtype('int64')"
      ]
     },
     "execution_count": 17,
     "metadata": {},
     "output_type": "execute_result"
    }
   ],
   "source": [
    "a.dtype = np.int64\n",
    "a.dtype"
   ]
  },
  {
   "cell_type": "code",
   "execution_count": 19,
   "id": "ac1c5daa",
   "metadata": {
    "ExecuteTime": {
     "end_time": "2024-11-21T03:17:06.390060Z",
     "start_time": "2024-11-21T03:17:06.384081Z"
    }
   },
   "outputs": [
    {
     "data": {
      "text/plain": [
       "8"
      ]
     },
     "execution_count": 19,
     "metadata": {},
     "output_type": "execute_result"
    }
   ],
   "source": [
    "a.itemsize # 요소의 byte 사이즈"
   ]
  },
  {
   "cell_type": "code",
   "execution_count": 20,
   "id": "28b5eb0f",
   "metadata": {
    "ExecuteTime": {
     "end_time": "2024-11-21T03:17:14.403644Z",
     "start_time": "2024-11-21T03:17:14.398648Z"
    }
   },
   "outputs": [
    {
     "data": {
      "text/plain": [
       "6"
      ]
     },
     "execution_count": 20,
     "metadata": {},
     "output_type": "execute_result"
    }
   ],
   "source": [
    "a.size"
   ]
  },
  {
   "cell_type": "code",
   "execution_count": 21,
   "id": "4b7b7de0",
   "metadata": {
    "ExecuteTime": {
     "end_time": "2024-11-21T03:17:18.106748Z",
     "start_time": "2024-11-21T03:17:18.101769Z"
    }
   },
   "outputs": [
    {
     "data": {
      "text/plain": [
       "array([[ 4294967296, 12884901890],\n",
       "       [21474836484, 30064771078],\n",
       "       [38654705672, 47244640266]], dtype=int64)"
      ]
     },
     "execution_count": 21,
     "metadata": {},
     "output_type": "execute_result"
    }
   ],
   "source": [
    "a"
   ]
  },
  {
   "cell_type": "code",
   "execution_count": 24,
   "id": "52cb4190",
   "metadata": {
    "ExecuteTime": {
     "end_time": "2024-11-21T03:18:43.766725Z",
     "start_time": "2024-11-21T03:18:43.760753Z"
    }
   },
   "outputs": [
    {
     "data": {
      "text/plain": [
       "array([ 4294967296, 12884901890, 21474836484, 30064771078, 38654705672,\n",
       "       47244640266], dtype=int64)"
      ]
     },
     "execution_count": 24,
     "metadata": {},
     "output_type": "execute_result"
    }
   ],
   "source": [
    "a.ravel() # flatten 됨()"
   ]
  },
  {
   "cell_type": "markdown",
   "id": "be235b4d",
   "metadata": {},
   "source": [
    "# 2절 numpy 배열\n",
    "- array() 함수를 이용한 다른 파이썬 구조(list, tuple)를 배열로 반환\n",
    "- 기타 함수들: arange, ones, zeros, empty\n",
    "- 랜덤값을 갖는 함수들 ....\n",
    "- [numpy doc](https://numpy.org/doc/stable/)\n",
    "- [numpy 함수들](https://numpy.org/doc/stable/reference/index.html#reference)"
   ]
  },
  {
   "cell_type": "markdown",
   "id": "f484cf48",
   "metadata": {},
   "source": [
    "## 2.1 array() 함수로 numpy 배열 만들기\n",
    "- array(obj, dtype=np.xx, copy=T/F) "
   ]
  },
  {
   "cell_type": "code",
   "execution_count": 30,
   "id": "aafeb9ed",
   "metadata": {
    "ExecuteTime": {
     "end_time": "2024-11-21T03:40:53.966503Z",
     "start_time": "2024-11-21T03:40:53.958495Z"
    }
   },
   "outputs": [
    {
     "data": {
      "text/plain": [
       "array([2, 4, 6], dtype=int16)"
      ]
     },
     "execution_count": 30,
     "metadata": {},
     "output_type": "execute_result"
    }
   ],
   "source": [
    "a = np.array([2, 4, 6], dtype=np.int16) # 정수의 기본타입은 int32\n",
    "a"
   ]
  },
  {
   "cell_type": "code",
   "execution_count": 32,
   "id": "61686e81",
   "metadata": {
    "ExecuteTime": {
     "end_time": "2024-11-21T03:41:14.779842Z",
     "start_time": "2024-11-21T03:41:14.773845Z"
    }
   },
   "outputs": [
    {
     "data": {
      "text/plain": [
       "(2, 4, 6)"
      ]
     },
     "execution_count": 32,
     "metadata": {},
     "output_type": "execute_result"
    }
   ],
   "source": [
    "a[0], a[1], a[2]"
   ]
  },
  {
   "cell_type": "code",
   "execution_count": 33,
   "id": "1585c287",
   "metadata": {
    "ExecuteTime": {
     "end_time": "2024-11-21T03:41:26.635155Z",
     "start_time": "2024-11-21T03:41:26.630148Z"
    }
   },
   "outputs": [
    {
     "name": "stdout",
     "output_type": "stream",
     "text": [
      "2\t4\t6\t"
     ]
    }
   ],
   "source": [
    "for i in a:\n",
    "    print(i, end='\\t')"
   ]
  },
  {
   "cell_type": "code",
   "execution_count": 34,
   "id": "02250e31",
   "metadata": {
    "ExecuteTime": {
     "end_time": "2024-11-21T03:41:59.189101Z",
     "start_time": "2024-11-21T03:41:59.183128Z"
    }
   },
   "outputs": [
    {
     "data": {
      "text/plain": [
       "dtype('int16')"
      ]
     },
     "execution_count": 34,
     "metadata": {},
     "output_type": "execute_result"
    }
   ],
   "source": [
    "a.dtype"
   ]
  },
  {
   "cell_type": "code",
   "execution_count": 35,
   "id": "547418e4",
   "metadata": {
    "ExecuteTime": {
     "end_time": "2024-11-21T03:43:05.541711Z",
     "start_time": "2024-11-21T03:43:05.534729Z"
    }
   },
   "outputs": [
    {
     "data": {
      "text/plain": [
       "array([[1.5, 2.3],\n",
       "       [4. , 5. ]])"
      ]
     },
     "execution_count": 35,
     "metadata": {},
     "output_type": "execute_result"
    }
   ],
   "source": [
    "b = np.array([[1.5, 2.3], # 실수의 기본 타입은 float64\n",
    "              [4, 5]])    # 동일 자료형으로 배열 생성: 정수>실수>문자\n",
    "b"
   ]
  },
  {
   "cell_type": "code",
   "execution_count": 39,
   "id": "c23e3243",
   "metadata": {
    "ExecuteTime": {
     "end_time": "2024-11-21T03:46:29.092522Z",
     "start_time": "2024-11-21T03:46:29.086539Z"
    }
   },
   "outputs": [
    {
     "data": {
      "text/plain": [
       "(1.5, 1.5)"
      ]
     },
     "execution_count": 39,
     "metadata": {},
     "output_type": "execute_result"
    }
   ],
   "source": [
    "b[0][0], b[0,0] # 2차원 [axis0행, axis1열] # 3차원은 면, 행, 열"
   ]
  },
  {
   "cell_type": "code",
   "execution_count": 41,
   "id": "490a3fdd",
   "metadata": {
    "ExecuteTime": {
     "end_time": "2024-11-21T03:48:53.998482Z",
     "start_time": "2024-11-21T03:48:53.991519Z"
    }
   },
   "outputs": [
    {
     "data": {
      "text/plain": [
       "array([[1.5, 2.3],\n",
       "       [4. , 5. ]])"
      ]
     },
     "execution_count": 41,
     "metadata": {},
     "output_type": "execute_result"
    }
   ],
   "source": [
    "b = np.array([(1.5, 2.3), # 실수의 기본 타입은 float64\n",
    "              (4, 5)])   # 동일 자료형으로 배열 생성: 정수>실수>문자\n",
    "b"
   ]
  },
  {
   "cell_type": "code",
   "execution_count": 42,
   "id": "977ca56b",
   "metadata": {
    "ExecuteTime": {
     "end_time": "2024-11-21T03:50:16.629569Z",
     "start_time": "2024-11-21T03:50:16.623594Z"
    }
   },
   "outputs": [
    {
     "data": {
      "text/plain": [
       "array([[1.5, 2.3, 4. , 5. ]])"
      ]
     },
     "execution_count": 42,
     "metadata": {},
     "output_type": "execute_result"
    }
   ],
   "source": [
    "a = np.array([[1.5, 2.3], [4, 5]]).reshape(1, 4) # 2행2열짜리 배열을 1행4열로 shape변환\n",
    "a"
   ]
  },
  {
   "cell_type": "code",
   "execution_count": 43,
   "id": "0fd4030b",
   "metadata": {
    "ExecuteTime": {
     "end_time": "2024-11-21T03:50:28.052030Z",
     "start_time": "2024-11-21T03:50:28.046046Z"
    }
   },
   "outputs": [
    {
     "data": {
      "text/plain": [
       "dtype('float64')"
      ]
     },
     "execution_count": 43,
     "metadata": {},
     "output_type": "execute_result"
    }
   ],
   "source": [
    "a.dtype"
   ]
  },
  {
   "cell_type": "code",
   "execution_count": 46,
   "id": "6d3cf153",
   "metadata": {
    "ExecuteTime": {
     "end_time": "2024-11-21T03:52:28.918909Z",
     "start_time": "2024-11-21T03:52:28.910922Z"
    }
   },
   "outputs": [
    {
     "data": {
      "text/plain": [
       "array([[1.5, 2.3],\n",
       "       [4. , 5. ]], dtype=float32)"
      ]
     },
     "execution_count": 46,
     "metadata": {},
     "output_type": "execute_result"
    }
   ],
   "source": [
    "a = np.array([1.5, 2.3, 4,5], dtype=np.float32).reshape(2, 2)\n",
    "a"
   ]
  },
  {
   "cell_type": "code",
   "execution_count": 47,
   "id": "0cd00158",
   "metadata": {
    "ExecuteTime": {
     "end_time": "2024-11-21T03:53:47.319316Z",
     "start_time": "2024-11-21T03:53:47.313317Z"
    }
   },
   "outputs": [
    {
     "data": {
      "text/plain": [
       "4"
      ]
     },
     "execution_count": 47,
     "metadata": {},
     "output_type": "execute_result"
    }
   ],
   "source": [
    "a.itemsize # 한 요소의 byte수"
   ]
  },
  {
   "cell_type": "code",
   "execution_count": 48,
   "id": "b9c47a97",
   "metadata": {
    "ExecuteTime": {
     "end_time": "2024-11-21T03:54:04.213130Z",
     "start_time": "2024-11-21T03:54:04.206148Z"
    }
   },
   "outputs": [
    {
     "data": {
      "text/plain": [
       "dtype('float32')"
      ]
     },
     "execution_count": 48,
     "metadata": {},
     "output_type": "execute_result"
    }
   ],
   "source": [
    "a.dtype"
   ]
  },
  {
   "cell_type": "code",
   "execution_count": 51,
   "id": "2943ad18",
   "metadata": {
    "ExecuteTime": {
     "end_time": "2024-11-21T03:55:27.904384Z",
     "start_time": "2024-11-21T03:55:27.897402Z"
    }
   },
   "outputs": [
    {
     "data": {
      "text/plain": [
       "array([[1.5       , 2.29999995],\n",
       "       [4.        , 5.        ]])"
      ]
     },
     "execution_count": 51,
     "metadata": {},
     "output_type": "execute_result"
    }
   ],
   "source": [
    "# a.dtype = np.float64 안 됨\n",
    "a = a.astype(np.float64) # 배열 요소의 타입을 바꾸는 함수\n",
    "a"
   ]
  },
  {
   "cell_type": "code",
   "execution_count": 52,
   "id": "548f124a",
   "metadata": {
    "ExecuteTime": {
     "end_time": "2024-11-21T03:56:22.453548Z",
     "start_time": "2024-11-21T03:56:22.447564Z"
    }
   },
   "outputs": [
    {
     "data": {
      "text/plain": [
       "dtype('float64')"
      ]
     },
     "execution_count": 52,
     "metadata": {},
     "output_type": "execute_result"
    }
   ],
   "source": [
    "a.dtype"
   ]
  },
  {
   "cell_type": "code",
   "execution_count": 53,
   "id": "d1cbf9ba",
   "metadata": {
    "ExecuteTime": {
     "end_time": "2024-11-21T03:57:43.204662Z",
     "start_time": "2024-11-21T03:57:43.198678Z"
    }
   },
   "outputs": [
    {
     "name": "stdout",
     "output_type": "stream",
     "text": [
      "1\t2\t\n",
      "3.4\t4.5\t\n"
     ]
    }
   ],
   "source": [
    "l =  [[1, 2], [3.4, 4.5]]\n",
    "for row in l:\n",
    "    for data in row:\n",
    "        print(data, end='\\t')\n",
    "    print()"
   ]
  },
  {
   "cell_type": "code",
   "execution_count": 55,
   "id": "7476ca4e",
   "metadata": {
    "ExecuteTime": {
     "end_time": "2024-11-21T03:59:01.973098Z",
     "start_time": "2024-11-21T03:59:01.967093Z"
    }
   },
   "outputs": [
    {
     "name": "stdout",
     "output_type": "stream",
     "text": [
      "0행0열: 1\t0행1열: 2\t\n",
      "1행0열: 3.4\t1행1열: 4.5\t\n"
     ]
    }
   ],
   "source": [
    "for i, row in enumerate(l):\n",
    "    for j, data in enumerate(row):\n",
    "        print(\"{}행{}열: {}\".format(i, j, data), end='\\t')\n",
    "    print()"
   ]
  },
  {
   "cell_type": "code",
   "execution_count": 64,
   "id": "532be66d",
   "metadata": {
    "ExecuteTime": {
     "end_time": "2024-11-21T04:07:13.053669Z",
     "start_time": "2024-11-21T04:07:13.048682Z"
    }
   },
   "outputs": [
    {
     "name": "stdout",
     "output_type": "stream",
     "text": [
      "1\n",
      "[1, 2]\n"
     ]
    }
   ],
   "source": [
    "print(l[0][0]) # 리스트의 인덱싱\n",
    "print(l[0:2][0]) # 슬라이싱"
   ]
  },
  {
   "cell_type": "code",
   "execution_count": 59,
   "id": "58425662",
   "metadata": {
    "ExecuteTime": {
     "end_time": "2024-11-21T04:03:44.638951Z",
     "start_time": "2024-11-21T04:03:44.631981Z"
    }
   },
   "outputs": [
    {
     "data": {
      "text/plain": [
       "array([[ 1,  2,  3,  4,  5],\n",
       "       [ 6,  7,  8,  9, 10]], dtype=int16)"
      ]
     },
     "execution_count": 59,
     "metadata": {},
     "output_type": "execute_result"
    }
   ],
   "source": [
    "# 2차원 배열\n",
    "b = np.array([[1, 2, 3, 4, 5], [6, 7, 8, 9, 10]], dtype=np.int16)\n",
    "b"
   ]
  },
  {
   "cell_type": "code",
   "execution_count": 60,
   "id": "351c92c1",
   "metadata": {
    "ExecuteTime": {
     "end_time": "2024-11-21T04:04:45.173137Z",
     "start_time": "2024-11-21T04:04:45.167161Z"
    }
   },
   "outputs": [
    {
     "name": "stdout",
     "output_type": "stream",
     "text": [
      "1\t2\t3\t4\t5\t\n",
      "6\t7\t8\t9\t10\t\n"
     ]
    }
   ],
   "source": [
    "for row in b:\n",
    "    for data in row:\n",
    "        print(data, end='\\t')\n",
    "    print()"
   ]
  },
  {
   "cell_type": "code",
   "execution_count": 63,
   "id": "903e62ba",
   "metadata": {
    "ExecuteTime": {
     "end_time": "2024-11-21T04:06:33.869718Z",
     "start_time": "2024-11-21T04:06:33.863754Z"
    }
   },
   "outputs": [
    {
     "name": "stdout",
     "output_type": "stream",
     "text": [
      "0행0열: 1\t0행1열: 2\t0행2열: 3\t0행3열: 4\t0행4열: 5\t\n",
      "1행0열: 6\t1행1열: 7\t1행2열: 8\t1행3열: 9\t1행4열: 10\t\n"
     ]
    }
   ],
   "source": [
    "for i, row in enumerate(b):\n",
    "    for j, data in enumerate(row):\n",
    "        print(\"{}행{}열: {}\".format(i, j, data), end='\\t')\n",
    "    print()"
   ]
  },
  {
   "cell_type": "code",
   "execution_count": 65,
   "id": "40eae05a",
   "metadata": {
    "ExecuteTime": {
     "end_time": "2024-11-21T04:07:58.327629Z",
     "start_time": "2024-11-21T04:07:58.320669Z"
    }
   },
   "outputs": [
    {
     "name": "stdout",
     "output_type": "stream",
     "text": [
      "1\n",
      "[[2 3]\n",
      " [7 8]]\n"
     ]
    }
   ],
   "source": [
    "print(b[0,0])      # 인덱싱\n",
    "print(b[0:2, 1:3]) # 슬라이싱(범위 벗어나도 에러 안남)"
   ]
  },
  {
   "cell_type": "code",
   "execution_count": 66,
   "id": "28a1c18e",
   "metadata": {
    "ExecuteTime": {
     "end_time": "2024-11-21T04:09:17.494010Z",
     "start_time": "2024-11-21T04:09:17.488009Z"
    }
   },
   "outputs": [
    {
     "name": "stdout",
     "output_type": "stream",
     "text": [
      "[2 3]\n"
     ]
    }
   ],
   "source": [
    "print(b[0, 1:3]) # 0행을 슬라이싱하면 1차원 배열"
   ]
  },
  {
   "cell_type": "code",
   "execution_count": 70,
   "id": "0bf3d470",
   "metadata": {
    "ExecuteTime": {
     "end_time": "2024-11-21T04:11:52.668163Z",
     "start_time": "2024-11-21T04:11:52.663198Z"
    }
   },
   "outputs": [
    {
     "name": "stdout",
     "output_type": "stream",
     "text": [
      "[ 5 10]\n"
     ]
    }
   ],
   "source": [
    "print(b[:,-1]) # 모든 행의 마지막 열만 추출"
   ]
  },
  {
   "cell_type": "code",
   "execution_count": 72,
   "id": "e2a91649",
   "metadata": {
    "ExecuteTime": {
     "end_time": "2024-11-21T04:12:54.534785Z",
     "start_time": "2024-11-21T04:12:54.529782Z"
    }
   },
   "outputs": [
    {
     "name": "stdout",
     "output_type": "stream",
     "text": [
      "[[ 4  5]\n",
      " [ 9 10]]\n"
     ]
    }
   ],
   "source": [
    "print(b[:, -2:]) # 모든 행의 마지막 2열을 추출"
   ]
  },
  {
   "cell_type": "code",
   "execution_count": 74,
   "id": "f6ccab7f",
   "metadata": {
    "ExecuteTime": {
     "end_time": "2024-11-21T05:18:45.118598Z",
     "start_time": "2024-11-21T05:18:45.113610Z"
    }
   },
   "outputs": [
    {
     "name": "stdout",
     "output_type": "stream",
     "text": [
      "a=10, b=10\n",
      "a=10, b=-1\n"
     ]
    }
   ],
   "source": [
    "# 스칼라변수\n",
    "a = 10\n",
    "b = a\n",
    "print('a={}, b={}'.format(a, b))\n",
    "b = -1\n",
    "print('a={}, b={}'.format(a, b))"
   ]
  },
  {
   "cell_type": "code",
   "execution_count": 78,
   "id": "fd9ff7fa",
   "metadata": {
    "ExecuteTime": {
     "end_time": "2024-11-21T05:24:52.401058Z",
     "start_time": "2024-11-21T05:24:52.393058Z"
    }
   },
   "outputs": [
    {
     "name": "stdout",
     "output_type": "stream",
     "text": [
      "c=\n",
      "[[1 2]\n",
      " [3 4]]\n",
      "d=\n",
      "[[1 2]\n",
      " [3 4]]\n",
      "두 변수의 주소: 1411051379408 1411051379408\n",
      "c=\n",
      "[[9 2]\n",
      " [3 4]]\n",
      "d=\n",
      "[[9 2]\n",
      " [3 4]]\n",
      "c.dtype= int32 , d.dtype int32\n"
     ]
    }
   ],
   "source": [
    "# numpy 배열\n",
    "c = np.array([ [1, 2,], [3, 4]])\n",
    "d = np.array(c, copy=False) # d = c 동일: 얕은 복사\n",
    "\n",
    "print('c=', c, sep='\\n')\n",
    "print('d=', d, sep='\\n')\n",
    "print('두 변수의 주소:', id(c), id(d))\n",
    "d[0,0] = 9\n",
    "print('c=', c, sep='\\n')\n",
    "print('d=', d, sep='\\n')\n",
    "print('c.dtype=', c.dtype, ', d.dtype', d.dtype)"
   ]
  },
  {
   "cell_type": "code",
   "execution_count": 79,
   "id": "685c045f",
   "metadata": {
    "ExecuteTime": {
     "end_time": "2024-11-21T05:26:23.799685Z",
     "start_time": "2024-11-21T05:26:23.792704Z"
    }
   },
   "outputs": [
    {
     "name": "stdout",
     "output_type": "stream",
     "text": [
      "c=\n",
      "[[1 2]\n",
      " [3 4]]\n",
      "d=\n",
      "[[1 2]\n",
      " [3 4]]\n",
      "두 변수의 주소: 1411051373456 1411051388720\n",
      "c=\n",
      "[[1 2]\n",
      " [3 4]]\n",
      "d=\n",
      "[[9 2]\n",
      " [3 4]]\n",
      "c.dtype= int32 , d.dtype int32\n"
     ]
    }
   ],
   "source": [
    "# numpy 배열\n",
    "c = np.array([ [1, 2,], [3, 4]])\n",
    "d = np.array(c, copy=True) # d = c.copy() 동일: 깊은 복사\n",
    "\n",
    "print('c=', c, sep='\\n')\n",
    "print('d=', d, sep='\\n')\n",
    "print('두 변수의 주소:', id(c), id(d))\n",
    "d[0,0] = 9\n",
    "print('c=', c, sep='\\n')\n",
    "print('d=', d, sep='\\n')\n",
    "print('c.dtype=', c.dtype, ', d.dtype', d.dtype)"
   ]
  },
  {
   "cell_type": "code",
   "execution_count": 82,
   "id": "fb075126",
   "metadata": {
    "ExecuteTime": {
     "end_time": "2024-11-21T05:30:23.936109Z",
     "start_time": "2024-11-21T05:30:23.930112Z"
    }
   },
   "outputs": [
    {
     "name": "stdout",
     "output_type": "stream",
     "text": [
      "두 변수의 주소:  1411052125904 1411052113616\n",
      "두 변수의 dtype:  int32 int16\n",
      "c =\n",
      "[[1 2]\n",
      " [3 4]]\n",
      "d =\n",
      "[[9 2]\n",
      " [3 4]]\n"
     ]
    }
   ],
   "source": [
    "# copy=False 넣었지만 깊은 복사가 되는 경우\n",
    "c = np.array([[1, 2], [3, 4]], dtype=np.int32) # 기본타입이 int32\n",
    "d = np.array(c, copy=False, dtype=np.int16)    # dtype이 바뀌면 자동 깊은 복사\n",
    "d[0,0] = 9\n",
    "print('두 변수의 주소: ', id(c), id(d))\n",
    "print('두 변수의 dtype: ', c.dtype, d.dtype)\n",
    "print('c =', c, sep='\\n')\n",
    "print('d =', d, sep='\\n')"
   ]
  },
  {
   "cell_type": "markdown",
   "id": "9bf9325b",
   "metadata": {},
   "source": [
    "## 2.2 기본값이 있는 배열 만들기\n",
    "```\n",
    "- np.zeros(tup)      : 요소들이 다 0\n",
    "- np.ones(tup)       : 요소들이 다 1\n",
    "- np.full(tup, 기본값): 요소들이 다 두 번째 매개변수인 기본값을 가짐\n",
    "- np.empty(tup)       : 초기 내용은 임의값인 배열(메모리 상태에 따라 달라짐)\n",
    "※ 위 함수를 이용해서 생성된 배열은 기본 dtype이 float64. dtype속성을 따로 지정할 수 없음\n",
    "```"
   ]
  },
  {
   "cell_type": "code",
   "execution_count": 84,
   "id": "8e699f4a",
   "metadata": {
    "ExecuteTime": {
     "end_time": "2024-11-21T05:35:14.992670Z",
     "start_time": "2024-11-21T05:35:14.985708Z"
    }
   },
   "outputs": [
    {
     "data": {
      "text/plain": [
       "array([[0., 0., 0., 0., 0.],\n",
       "       [0., 0., 0., 0., 0.],\n",
       "       [0., 0., 0., 0., 0.]])"
      ]
     },
     "execution_count": 84,
     "metadata": {},
     "output_type": "execute_result"
    }
   ],
   "source": [
    "np.zeros( (3, 5) ) # 3행 5열짜리 2차원 float64 배열(요소들은 다 0)"
   ]
  },
  {
   "cell_type": "code",
   "execution_count": 88,
   "id": "3d7ff2f8",
   "metadata": {
    "ExecuteTime": {
     "end_time": "2024-11-21T05:36:37.718971Z",
     "start_time": "2024-11-21T05:36:37.713984Z"
    }
   },
   "outputs": [
    {
     "name": "stdout",
     "output_type": "stream",
     "text": [
      "[[0 0 0 0 0]\n",
      " [0 0 0 0 0]]\n",
      "int16\n",
      "2\n"
     ]
    }
   ],
   "source": [
    "x = np.zeros((2, 5), dtype=np.int16)\n",
    "print(x)\n",
    "print(x.dtype)\n",
    "print(x.itemsize) # 한 요소의 byte 사이즈"
   ]
  },
  {
   "cell_type": "code",
   "execution_count": 89,
   "id": "e616b194",
   "metadata": {
    "ExecuteTime": {
     "end_time": "2024-11-21T05:37:29.423768Z",
     "start_time": "2024-11-21T05:37:29.417747Z"
    }
   },
   "outputs": [
    {
     "data": {
      "text/plain": [
       "array([[1., 1., 1., 1., 1.],\n",
       "       [1., 1., 1., 1., 1.]])"
      ]
     },
     "execution_count": 89,
     "metadata": {},
     "output_type": "execute_result"
    }
   ],
   "source": [
    "np.ones( (2, 5) )"
   ]
  },
  {
   "cell_type": "code",
   "execution_count": 90,
   "id": "db667b5f",
   "metadata": {
    "ExecuteTime": {
     "end_time": "2024-11-21T05:38:39.472822Z",
     "start_time": "2024-11-21T05:38:39.465821Z"
    }
   },
   "outputs": [
    {
     "data": {
      "text/plain": [
       "array([[1.+0.j, 1.+0.j, 1.+0.j, 1.+0.j, 1.+0.j],\n",
       "       [1.+0.j, 1.+0.j, 1.+0.j, 1.+0.j, 1.+0.j]], dtype=complex64)"
      ]
     },
     "execution_count": 90,
     "metadata": {},
     "output_type": "execute_result"
    }
   ],
   "source": [
    "np.ones( (2, 5), dtype=np.complex64)"
   ]
  },
  {
   "cell_type": "code",
   "execution_count": 94,
   "id": "1c27fdba",
   "metadata": {
    "ExecuteTime": {
     "end_time": "2024-11-21T05:40:12.855821Z",
     "start_time": "2024-11-21T05:40:12.849816Z"
    }
   },
   "outputs": [
    {
     "data": {
      "text/plain": [
       "array([[-1.2, -1.2, -1.2, -1.2, -1.2],\n",
       "       [-1.2, -1.2, -1.2, -1.2, -1.2]])"
      ]
     },
     "execution_count": 94,
     "metadata": {},
     "output_type": "execute_result"
    }
   ],
   "source": [
    "np.full( (2, 5), -1.2)"
   ]
  },
  {
   "cell_type": "code",
   "execution_count": 98,
   "id": "d6d58ebd",
   "metadata": {
    "ExecuteTime": {
     "end_time": "2024-11-21T05:40:50.376320Z",
     "start_time": "2024-11-21T05:40:50.369360Z"
    }
   },
   "outputs": [
    {
     "data": {
      "text/plain": [
       "array([[2.12199579e-314, 6.36598737e-314],\n",
       "       [1.06099790e-313, 1.48539705e-313],\n",
       "       [1.90979621e-313, 2.33419537e-313]])"
      ]
     },
     "execution_count": 98,
     "metadata": {},
     "output_type": "execute_result"
    }
   ],
   "source": [
    "np.empty( (3, 2) ) # 초기값이 메모리 상태에 따라 임의의 값"
   ]
  },
  {
   "cell_type": "markdown",
   "id": "798bed64",
   "metadata": {},
   "source": [
    "## 2.3 랜덤값을 갖는 배열 만들기\n",
    "```\n",
    "- np.random.random(tup): 0부터 1미만의 균등분포를 갖는 랜덤값\n",
    "- np.random.uniform(low=0, high=1.0, size=tup): low부터 high 미만까지 균등분포를 갖는 랜덤값\n",
    "- np.random.normal(loc=0.0, scale=1.0, size=tup): 평균loc과 표준편차scale을 갖는 정규분포를 갖는 랜덤값\n",
    "\n",
    "- np.random.rand(n): 균등분포의 1차원 난수 배열발생 (난수 n개)\n",
    "- np.random.randn(n): 표준정규분포의 1차원 난수 배열 발생 (난수 n개)\n",
    "\n",
    "- np.random.randint(n): 0부터 n미만의 정수 난수 1개 발생\n",
    "```"
   ]
  },
  {
   "cell_type": "code",
   "execution_count": 100,
   "id": "b5b9b002",
   "metadata": {
    "ExecuteTime": {
     "end_time": "2024-11-21T05:58:29.424110Z",
     "start_time": "2024-11-21T05:58:29.418113Z"
    }
   },
   "outputs": [
    {
     "data": {
      "text/plain": [
       "array([[0.32763632, 0.12083497],\n",
       "       [0.21073086, 0.59669142]])"
      ]
     },
     "execution_count": 100,
     "metadata": {},
     "output_type": "execute_result"
    }
   ],
   "source": [
    "x = np.random.random( (2, 2) )\n",
    "x"
   ]
  },
  {
   "cell_type": "code",
   "execution_count": 112,
   "id": "21ed4285",
   "metadata": {
    "ExecuteTime": {
     "end_time": "2024-11-21T06:22:52.967931Z",
     "start_time": "2024-11-21T06:22:52.778438Z"
    }
   },
   "outputs": [
    {
     "data": {
      "image/png": "[encoded data removed]",
      "text/plain": [
       "<Figure size 500x200 with 1 Axes>"
      ]
     },
     "metadata": {},
     "output_type": "display_data"
    }
   ],
   "source": [
    "# rand()가 균등분포(최솟값~최댓값까지 균일한 확률로 난수 발생)에서 난수 발생 확인\n",
    "import matplotlib.pyplot as plt\n",
    "x = np.random.rand(999999)\n",
    "plt.figure(figsize=(5,2)) # 그래프 크기 figsize=(가로, 세로)\n",
    "plt.hist(x)\n",
    "plt.show()"
   ]
  },
  {
   "cell_type": "code",
   "execution_count": 106,
   "id": "328c8439",
   "metadata": {
    "ExecuteTime": {
     "end_time": "2024-11-21T06:21:53.092008Z",
     "start_time": "2024-11-21T06:21:52.907501Z"
    }
   },
   "outputs": [
    {
     "data": {
      "image/png": "[encoded data removed]",
      "text/plain": [
       "<Figure size 500x200 with 1 Axes>"
      ]
     },
     "metadata": {},
     "output_type": "display_data"
    }
   ],
   "source": [
    "x = np.random.rand(10)\n",
    "plt.figure(figsize=(5,2)) # 그래프 크기\n",
    "plt.hist(x)\n",
    "plt.show()"
   ]
  },
  {
   "cell_type": "code",
   "execution_count": 119,
   "id": "304f9910",
   "metadata": {
    "ExecuteTime": {
     "end_time": "2024-11-21T06:28:00.530777Z",
     "start_time": "2024-11-21T06:28:00.218574Z"
    }
   },
   "outputs": [
    {
     "data": {
      "image/png": "[encoded data removed]",
      "text/plain": [
       "<Figure size 500x200 with 1 Axes>"
      ]
     },
     "metadata": {},
     "output_type": "display_data"
    }
   ],
   "source": [
    "# randn(): 표준정규분포(평균0, 표준편차1인 정규분포) 난수 발생\n",
    "x = np.random.randn(999999)\n",
    "plt.figure(figsize=(5,2)) # 그래프 사이즈 조정\n",
    "plt.hist(x, bins=100)\n",
    "plt.show()"
   ]
  },
  {
   "cell_type": "code",
   "execution_count": 126,
   "id": "277e964c",
   "metadata": {
    "ExecuteTime": {
     "end_time": "2024-11-21T06:33:01.721515Z",
     "start_time": "2024-11-21T06:33:01.714543Z"
    }
   },
   "outputs": [
    {
     "data": {
      "text/plain": [
       "array([[0.38667685, 0.81795372, 0.77245581, 0.04408053, 0.66687081],\n",
       "       [0.90322765, 0.03670045, 0.64302811, 0.07601597, 0.260871  ]])"
      ]
     },
     "execution_count": 126,
     "metadata": {},
     "output_type": "execute_result"
    }
   ],
   "source": [
    "# 2차원 난수 배열\n",
    "np.random.random( (2, 5) ) # 2행 5열짜리 난수(0이상1미만의 균등분포 실수 난수) 배열"
   ]
  },
  {
   "cell_type": "code",
   "execution_count": 127,
   "id": "906c2c50",
   "metadata": {
    "ExecuteTime": {
     "end_time": "2024-11-21T06:34:34.442742Z",
     "start_time": "2024-11-21T06:34:34.434764Z"
    },
    "scrolled": true
   },
   "outputs": [
    {
     "data": {
      "text/plain": [
       "array([[ 9.27112647, -1.17979848,  9.92121387, -1.30222789,  7.07409608],\n",
       "       [ 6.84295864, -1.49753997,  0.79819643, -1.79883687,  9.98898471]])"
      ]
     },
     "execution_count": 127,
     "metadata": {},
     "output_type": "execute_result"
    }
   ],
   "source": [
    "np.random.uniform(-2, 10, (2, 5)) # 2행 5열짜리 난수(-2~10미만의 균등분포 실수 난수) 배열"
   ]
  },
  {
   "cell_type": "code",
   "execution_count": 131,
   "id": "a7fc504f",
   "metadata": {
    "ExecuteTime": {
     "end_time": "2024-11-21T06:40:26.825207Z",
     "start_time": "2024-11-21T06:40:26.819201Z"
    }
   },
   "outputs": [
    {
     "data": {
      "text/plain": [
       "array([[-1.05402834, -3.36285176, -1.51512101, -5.40147127],\n",
       "       [-0.49371433, -5.06944268, -1.98974584, -2.24045534]])"
      ]
     },
     "execution_count": 131,
     "metadata": {},
     "output_type": "execute_result"
    }
   ],
   "source": [
    "np.random.seed(12) # seed값을 맞추면 발생되는 난수가 동일\n",
    "np.random.normal(-2, 2, (2, 4)) # 2행4열짜리 평균-2, 표준편차2인 정규분포 난수 발생"
   ]
  },
  {
   "cell_type": "code",
   "execution_count": 132,
   "id": "eaa1f7e2",
   "metadata": {
    "ExecuteTime": {
     "end_time": "2024-11-21T06:41:05.034036Z",
     "start_time": "2024-11-21T06:41:05.028055Z"
    }
   },
   "outputs": [
    {
     "data": {
      "text/plain": [
       "30"
      ]
     },
     "execution_count": 132,
     "metadata": {},
     "output_type": "execute_result"
    }
   ],
   "source": [
    "# 정수 난수 1개 발생\n",
    "np.random.randint(45) # 0~44사이의 정수 난수 1개 발생(균등분포)"
   ]
  },
  {
   "cell_type": "markdown",
   "id": "102510a7",
   "metadata": {},
   "source": [
    "## 2.4 연속된 값을 갖는 배열 만들기\n",
    "```\n",
    "    - np.arange(from, to, by, dtype): from부터 to앞까지 by씩 건너뛴 값을 1차원 배열로 생성\n",
    "    - np.linspace(from, to, n): from부터 to까지 n개 숫자들을 1차원 배열로 생성\n",
    "```"
   ]
  },
  {
   "cell_type": "code",
   "execution_count": 133,
   "id": "65f17ae1",
   "metadata": {
    "ExecuteTime": {
     "end_time": "2024-11-21T06:46:44.323000Z",
     "start_time": "2024-11-21T06:46:44.314977Z"
    }
   },
   "outputs": [
    {
     "data": {
      "text/plain": [
       "array([10., 15., 20., 25.])"
      ]
     },
     "execution_count": 133,
     "metadata": {},
     "output_type": "execute_result"
    }
   ],
   "source": [
    "np.arange(10, 30, 5, dtype=np.float64)"
   ]
  },
  {
   "cell_type": "code",
   "execution_count": 135,
   "id": "c8224d9c",
   "metadata": {
    "ExecuteTime": {
     "end_time": "2024-11-21T06:48:49.700790Z",
     "start_time": "2024-11-21T06:48:49.693780Z"
    }
   },
   "outputs": [
    {
     "data": {
      "text/plain": [
       "array([[0. , 0.3],\n",
       "       [0.6, 0.9],\n",
       "       [1.2, 1.5],\n",
       "       [1.8, 2.1]])"
      ]
     },
     "execution_count": 135,
     "metadata": {},
     "output_type": "execute_result"
    }
   ],
   "source": [
    "np.arange(0, 2.1, 0.3).reshape(4, 2)"
   ]
  },
  {
   "cell_type": "code",
   "execution_count": 136,
   "id": "4e00e9f3",
   "metadata": {
    "ExecuteTime": {
     "end_time": "2024-11-21T06:49:56.634830Z",
     "start_time": "2024-11-21T06:49:56.627833Z"
    }
   },
   "outputs": [
    {
     "data": {
      "text/plain": [
       "array([0.        , 0.10526316, 0.21052632, 0.31578947, 0.42105263,\n",
       "       0.52631579, 0.63157895, 0.73684211, 0.84210526, 0.94736842,\n",
       "       1.05263158, 1.15789474, 1.26315789, 1.36842105, 1.47368421,\n",
       "       1.57894737, 1.68421053, 1.78947368, 1.89473684, 2.        ])"
      ]
     },
     "execution_count": 136,
     "metadata": {},
     "output_type": "execute_result"
    }
   ],
   "source": [
    "np.linspace(0, 2, 20)"
   ]
  },
  {
   "cell_type": "code",
   "execution_count": 139,
   "id": "45ec837a",
   "metadata": {
    "ExecuteTime": {
     "end_time": "2024-11-21T06:50:51.371305Z",
     "start_time": "2024-11-21T06:50:51.363326Z"
    }
   },
   "outputs": [
    {
     "data": {
      "text/plain": [
       "array([[0.        , 0.10526316, 0.21052632, 0.31578947, 0.42105263],\n",
       "       [0.52631579, 0.63157895, 0.73684211, 0.84210526, 0.94736842],\n",
       "       [1.05263158, 1.15789474, 1.26315789, 1.36842105, 1.47368421],\n",
       "       [1.57894737, 1.68421053, 1.78947368, 1.89473684, 2.        ]])"
      ]
     },
     "execution_count": 139,
     "metadata": {},
     "output_type": "execute_result"
    }
   ],
   "source": [
    "np.linspace(0, 2, 20).reshape(4, 5)"
   ]
  },
  {
   "cell_type": "code",
   "execution_count": 144,
   "id": "c0d932ac",
   "metadata": {
    "ExecuteTime": {
     "end_time": "2024-11-21T06:52:55.390735Z",
     "start_time": "2024-11-21T06:52:55.386747Z"
    }
   },
   "outputs": [],
   "source": [
    "# linspace: 많은 수의 점들을 생성할 때 유용\n",
    "from numpy import linspace, pi\n",
    "x = linspace(0, 2*pi, 100)\n",
    "f = np.sin(x)"
   ]
  },
  {
   "cell_type": "code",
   "execution_count": 145,
   "id": "ca1b44a2",
   "metadata": {
    "ExecuteTime": {
     "end_time": "2024-11-21T06:54:40.923606Z",
     "start_time": "2024-11-21T06:54:40.732109Z"
    }
   },
   "outputs": [
    {
     "data": {
      "image/png": "[encoded data removed]",
      "text/plain": [
       "<Figure size 500x200 with 1 Axes>"
      ]
     },
     "metadata": {},
     "output_type": "display_data"
    }
   ],
   "source": [
    "import matplotlib.pyplot as plt\n",
    "plt.figure(figsize=(5,2))\n",
    "plt.plot(x, f)\n",
    "plt.show()"
   ]
  },
  {
   "cell_type": "markdown",
   "id": "9b07d6ad",
   "metadata": {},
   "source": [
    "## 2.5 배열의 차원 변경하기\n",
    "```\n",
    "    - reshape(행수, 열수): -1이 올 수 있음\n",
    "    - resize( (행수, 열수) ): -1이 불가\n",
    "    - T: 전치행렬로 변환\n",
    "    - transpose(): 전치행렬로 변환\n",
    "    \n",
    "    ※ 실행결과가 출력되면 배열이 수정되지 않고, 실행결과가 없으면 배열이 수정됨\n",
    "```"
   ]
  },
  {
   "cell_type": "code",
   "execution_count": 147,
   "id": "e76711cb",
   "metadata": {
    "ExecuteTime": {
     "end_time": "2024-11-21T06:57:41.033079Z",
     "start_time": "2024-11-21T06:57:41.027095Z"
    }
   },
   "outputs": [
    {
     "data": {
      "text/plain": [
       "array([[0.94317762, 0.22335928, 0.70293978],\n",
       "       [0.49994509, 0.20266072, 0.62936457]])"
      ]
     },
     "execution_count": 147,
     "metadata": {},
     "output_type": "execute_result"
    }
   ],
   "source": [
    "t = np.random.random((2, 3))\n",
    "t"
   ]
  },
  {
   "cell_type": "code",
   "execution_count": 150,
   "id": "14461ba7",
   "metadata": {
    "ExecuteTime": {
     "end_time": "2024-11-21T07:00:31.706788Z",
     "start_time": "2024-11-21T07:00:31.699806Z"
    }
   },
   "outputs": [
    {
     "data": {
      "text/plain": [
       "array([[9., 2., 7.],\n",
       "       [4., 2., 6.]])"
      ]
     },
     "execution_count": 150,
     "metadata": {},
     "output_type": "execute_result"
    }
   ],
   "source": [
    "a = np.floor(t*10)\n",
    "a"
   ]
  },
  {
   "cell_type": "code",
   "execution_count": 154,
   "id": "3228a2b8",
   "metadata": {
    "ExecuteTime": {
     "end_time": "2024-11-21T07:01:23.856388Z",
     "start_time": "2024-11-21T07:01:23.851382Z"
    }
   },
   "outputs": [
    {
     "data": {
      "text/plain": [
       "array([[9, 2, 7],\n",
       "       [4, 2, 6]], dtype=int16)"
      ]
     },
     "execution_count": 154,
     "metadata": {},
     "output_type": "execute_result"
    }
   ],
   "source": [
    "a = a.astype(np.int16)\n",
    "a # 2행 3열 2차원 배열"
   ]
  },
  {
   "cell_type": "code",
   "execution_count": 157,
   "id": "ec4ed23e",
   "metadata": {
    "ExecuteTime": {
     "end_time": "2024-11-21T07:23:01.034187Z",
     "start_time": "2024-11-21T07:23:01.028208Z"
    }
   },
   "outputs": [
    {
     "data": {
      "text/plain": [
       "array([[9, 2],\n",
       "       [7, 4],\n",
       "       [2, 6]], dtype=int16)"
      ]
     },
     "execution_count": 157,
     "metadata": {},
     "output_type": "execute_result"
    }
   ],
   "source": [
    "a = a.reshape(3, 2) # 3행2열로 차원 변경\n",
    "a"
   ]
  },
  {
   "cell_type": "code",
   "execution_count": 158,
   "id": "513de970",
   "metadata": {
    "ExecuteTime": {
     "end_time": "2024-11-21T07:24:19.451531Z",
     "start_time": "2024-11-21T07:24:19.445544Z"
    }
   },
   "outputs": [
    {
     "data": {
      "text/plain": [
       "array([[9, 2, 7],\n",
       "       [4, 2, 6]], dtype=int16)"
      ]
     },
     "execution_count": 158,
     "metadata": {},
     "output_type": "execute_result"
    }
   ],
   "source": [
    "a.reshape(2, -1) # -1이 주어지면 해당 차원의 크기가 자동 계산"
   ]
  },
  {
   "cell_type": "code",
   "execution_count": 159,
   "id": "8f9fbe4c",
   "metadata": {
    "ExecuteTime": {
     "end_time": "2024-11-21T07:24:35.369986Z",
     "start_time": "2024-11-21T07:24:35.364007Z"
    }
   },
   "outputs": [
    {
     "data": {
      "text/plain": [
       "array([[9, 2, 7],\n",
       "       [4, 2, 6]], dtype=int16)"
      ]
     },
     "execution_count": 159,
     "metadata": {},
     "output_type": "execute_result"
    }
   ],
   "source": [
    "a.reshape(-1, 3)"
   ]
  },
  {
   "cell_type": "code",
   "execution_count": 160,
   "id": "07e76307",
   "metadata": {
    "ExecuteTime": {
     "end_time": "2024-11-21T07:24:56.204298Z",
     "start_time": "2024-11-21T07:24:56.197289Z"
    }
   },
   "outputs": [
    {
     "data": {
      "text/plain": [
       "array([[9],\n",
       "       [2],\n",
       "       [7],\n",
       "       [4],\n",
       "       [2],\n",
       "       [6]], dtype=int16)"
      ]
     },
     "execution_count": 160,
     "metadata": {},
     "output_type": "execute_result"
    }
   ],
   "source": [
    "a.reshape(6, -1)"
   ]
  },
  {
   "cell_type": "code",
   "execution_count": 162,
   "id": "96b0575e",
   "metadata": {
    "ExecuteTime": {
     "end_time": "2024-11-21T07:25:45.081612Z",
     "start_time": "2024-11-21T07:25:45.075614Z"
    }
   },
   "outputs": [
    {
     "data": {
      "text/plain": [
       "array([[9, 2, 7],\n",
       "       [4, 2, 6]], dtype=int16)"
      ]
     },
     "execution_count": 162,
     "metadata": {},
     "output_type": "execute_result"
    }
   ],
   "source": [
    "a.resize( (2, 3) )\n",
    "a"
   ]
  },
  {
   "cell_type": "code",
   "execution_count": 163,
   "id": "18ba0364",
   "metadata": {
    "ExecuteTime": {
     "end_time": "2024-11-21T07:26:01.654291Z",
     "start_time": "2024-11-21T07:26:01.636350Z"
    }
   },
   "outputs": [
    {
     "ename": "ValueError",
     "evalue": "negative dimensions not allowed",
     "output_type": "error",
     "traceback": [
      "\u001b[1;31m---------------------------------------------------------------------------\u001b[0m",
      "\u001b[1;31mValueError\u001b[0m                                Traceback (most recent call last)",
      "Cell \u001b[1;32mIn[163], line 1\u001b[0m\n\u001b[1;32m----> 1\u001b[0m \u001b[43ma\u001b[49m\u001b[38;5;241;43m.\u001b[39;49m\u001b[43mresize\u001b[49m\u001b[43m(\u001b[49m\u001b[38;5;241;43m-\u001b[39;49m\u001b[38;5;241;43m1\u001b[39;49m\u001b[43m,\u001b[49m\u001b[43m \u001b[49m\u001b[38;5;241;43m6\u001b[39;49m\u001b[43m)\u001b[49m\n",
      "\u001b[1;31mValueError\u001b[0m: negative dimensions not allowed"
     ]
    }
   ],
   "source": [
    "a.resize(-1, 6) # resize는 -1 사용 불가 # Error"
   ]
  },
  {
   "cell_type": "code",
   "execution_count": 164,
   "id": "fbfa6571",
   "metadata": {
    "ExecuteTime": {
     "end_time": "2024-11-21T07:27:02.106673Z",
     "start_time": "2024-11-21T07:27:02.100690Z"
    }
   },
   "outputs": [
    {
     "data": {
      "text/plain": [
       "array([[9, 2, 7],\n",
       "       [4, 2, 6]], dtype=int16)"
      ]
     },
     "execution_count": 164,
     "metadata": {},
     "output_type": "execute_result"
    }
   ],
   "source": [
    "a"
   ]
  },
  {
   "cell_type": "code",
   "execution_count": 166,
   "id": "40326ad6",
   "metadata": {
    "ExecuteTime": {
     "end_time": "2024-11-21T07:27:13.466310Z",
     "start_time": "2024-11-21T07:27:13.460327Z"
    }
   },
   "outputs": [
    {
     "data": {
      "text/plain": [
       "array([[9, 4],\n",
       "       [2, 2],\n",
       "       [7, 6]], dtype=int16)"
      ]
     },
     "execution_count": 166,
     "metadata": {},
     "output_type": "execute_result"
    }
   ],
   "source": [
    "a.T # a의 전치행렬 (행과 열을 뒤바꾼 행렬)"
   ]
  },
  {
   "cell_type": "code",
   "execution_count": 167,
   "id": "1ab7e03c",
   "metadata": {
    "ExecuteTime": {
     "end_time": "2024-11-21T07:30:12.702131Z",
     "start_time": "2024-11-21T07:30:12.695141Z"
    }
   },
   "outputs": [
    {
     "data": {
      "text/plain": [
       "array([[9, 4],\n",
       "       [2, 2],\n",
       "       [7, 6]], dtype=int16)"
      ]
     },
     "execution_count": 167,
     "metadata": {},
     "output_type": "execute_result"
    }
   ],
   "source": [
    " a.transpose() # a의 전치행렬"
   ]
  },
  {
   "cell_type": "markdown",
   "id": "6d3c6d52",
   "metadata": {},
   "source": [
    "## 2.6 배열 인쇄"
   ]
  },
  {
   "cell_type": "code",
   "execution_count": 172,
   "id": "0a0876bf",
   "metadata": {
    "ExecuteTime": {
     "end_time": "2024-11-21T07:31:45.976762Z",
     "start_time": "2024-11-21T07:31:45.971768Z"
    }
   },
   "outputs": [
    {
     "name": "stdout",
     "output_type": "stream",
     "text": [
      "[   0    1    2 ... 9997 9998 9999]\n"
     ]
    }
   ],
   "source": [
    "# 배열이 커서 출력이 안 될 경우\n",
    "print(np.arange(10000))"
   ]
  },
  {
   "cell_type": "code",
   "execution_count": 174,
   "id": "cf1d55f0",
   "metadata": {
    "ExecuteTime": {
     "end_time": "2024-11-21T07:32:29.571978Z",
     "start_time": "2024-11-21T07:32:29.564997Z"
    }
   },
   "outputs": [
    {
     "data": {
      "text/plain": [
       "array([[   0,    1,    2, ...,   97,   98,   99],\n",
       "       [ 100,  101,  102, ...,  197,  198,  199],\n",
       "       [ 200,  201,  202, ...,  297,  298,  299],\n",
       "       ...,\n",
       "       [9700, 9701, 9702, ..., 9797, 9798, 9799],\n",
       "       [9800, 9801, 9802, ..., 9897, 9898, 9899],\n",
       "       [9900, 9901, 9902, ..., 9997, 9998, 9999]])"
      ]
     },
     "execution_count": 174,
     "metadata": {},
     "output_type": "execute_result"
    }
   ],
   "source": [
    "np.arange(10000).reshape(100,100)"
   ]
  },
  {
   "cell_type": "code",
   "execution_count": 180,
   "id": "c78a70d8",
   "metadata": {
    "ExecuteTime": {
     "end_time": "2024-11-21T07:37:00.227545Z",
     "start_time": "2024-11-21T07:37:00.221549Z"
    }
   },
   "outputs": [],
   "source": [
    "# 배열이 너무 커서 인쇄할 수 없는 경우는 자동으로 건너뛰고 모서리 부분만 출력\n",
    "# numpy의 인쇄 옵션 변경 (인쇄할 사이즈를 최대치)\n",
    "import sys\n",
    "np.set_printoptions(threshold=10000)\n",
    "np.arange(10000).reshape(100,100)\n",
    "np.set_printoptions(threshold=sys.maxsize)\n",
    "np.set_printoptions(threshold=np.inf) # np.inf: 무한대\n",
    "# 커널 재시작 시 다시 옵션 복귀"
   ]
  },
  {
   "cell_type": "code",
   "execution_count": 2,
   "id": "c3562033",
   "metadata": {
    "ExecuteTime": {
     "end_time": "2024-11-21T07:38:07.758989Z",
     "start_time": "2024-11-21T07:38:07.300215Z"
    }
   },
   "outputs": [
    {
     "data": {
      "text/plain": [
       "array([[   0,    1,    2, ...,   97,   98,   99],\n",
       "       [ 100,  101,  102, ...,  197,  198,  199],\n",
       "       [ 200,  201,  202, ...,  297,  298,  299],\n",
       "       ...,\n",
       "       [9700, 9701, 9702, ..., 9797, 9798, 9799],\n",
       "       [9800, 9801, 9802, ..., 9897, 9898, 9899],\n",
       "       [9900, 9901, 9902, ..., 9997, 9998, 9999]])"
      ]
     },
     "execution_count": 2,
     "metadata": {},
     "output_type": "execute_result"
    }
   ],
   "source": [
    "import numpy as np\n",
    "np.arange(10000).reshape(100,100)"
   ]
  },
  {
   "cell_type": "markdown",
   "id": "05695335",
   "metadata": {},
   "source": [
    "## 2.7 기본 연산 동작\n",
    "### 1) 배열의 요소별 연산"
   ]
  },
  {
   "cell_type": "code",
   "execution_count": 6,
   "id": "d2368d12",
   "metadata": {
    "ExecuteTime": {
     "end_time": "2024-11-21T07:42:25.996978Z",
     "start_time": "2024-11-21T07:42:25.989000Z"
    }
   },
   "outputs": [
    {
     "name": "stdout",
     "output_type": "stream",
     "text": [
      "[20 30 40 50]\n",
      "[0 1 2 3]\n"
     ]
    }
   ],
   "source": [
    "a = np.array([20, 30, 40, 50])\n",
    "b = np.arange(4)\n",
    "print(a)\n",
    "print(b)"
   ]
  },
  {
   "cell_type": "code",
   "execution_count": 7,
   "id": "35f9d811",
   "metadata": {
    "ExecuteTime": {
     "end_time": "2024-11-21T07:42:52.827258Z",
     "start_time": "2024-11-21T07:42:52.823258Z"
    }
   },
   "outputs": [
    {
     "data": {
      "text/plain": [
       "array([20, 31, 42, 53])"
      ]
     },
     "execution_count": 7,
     "metadata": {},
     "output_type": "execute_result"
    }
   ],
   "source": [
    "a + b # 요소별 + 연산"
   ]
  },
  {
   "cell_type": "code",
   "execution_count": 8,
   "id": "ba178f56",
   "metadata": {
    "ExecuteTime": {
     "end_time": "2024-11-21T07:43:06.634335Z",
     "start_time": "2024-11-21T07:43:06.628351Z"
    }
   },
   "outputs": [
    {
     "data": {
      "text/plain": [
       "array([     1,     30,   1600, 125000])"
      ]
     },
     "execution_count": 8,
     "metadata": {},
     "output_type": "execute_result"
    }
   ],
   "source": [
    "a ** b"
   ]
  },
  {
   "cell_type": "code",
   "execution_count": 9,
   "id": "507c1a65",
   "metadata": {
    "ExecuteTime": {
     "end_time": "2024-11-21T07:43:34.169387Z",
     "start_time": "2024-11-21T07:43:34.164389Z"
    }
   },
   "outputs": [
    {
     "data": {
      "text/plain": [
       "array([20, 31, 42, 53])"
      ]
     },
     "execution_count": 9,
     "metadata": {},
     "output_type": "execute_result"
    }
   ],
   "source": [
    "a += b # a = a + b\n",
    "a"
   ]
  },
  {
   "cell_type": "code",
   "execution_count": 11,
   "id": "5408a471",
   "metadata": {
    "ExecuteTime": {
     "end_time": "2024-11-21T07:43:55.729734Z",
     "start_time": "2024-11-21T07:43:55.723750Z"
    }
   },
   "outputs": [
    {
     "data": {
      "text/plain": [
       "array([ True,  True, False, False])"
      ]
     },
     "execution_count": 11,
     "metadata": {},
     "output_type": "execute_result"
    }
   ],
   "source": [
    "a < 40"
   ]
  },
  {
   "cell_type": "code",
   "execution_count": 12,
   "id": "9e6e76f0",
   "metadata": {
    "ExecuteTime": {
     "end_time": "2024-11-21T07:45:34.045453Z",
     "start_time": "2024-11-21T07:45:34.038471Z"
    }
   },
   "outputs": [
    {
     "data": {
      "text/plain": [
       "array([20, 31])"
      ]
     },
     "execution_count": 12,
     "metadata": {},
     "output_type": "execute_result"
    }
   ],
   "source": [
    "# a배열에서 40보다 작은 데이터만 추출하려면 인덱스에서 식을 사용\n",
    "a[a<40]"
   ]
  },
  {
   "cell_type": "code",
   "execution_count": 13,
   "id": "25a4ba12",
   "metadata": {
    "ExecuteTime": {
     "end_time": "2024-11-21T07:47:02.283301Z",
     "start_time": "2024-11-21T07:47:02.276321Z"
    }
   },
   "outputs": [
    {
     "data": {
      "text/plain": [
       "array([  0,  31,  84, 159])"
      ]
     },
     "execution_count": 13,
     "metadata": {},
     "output_type": "execute_result"
    }
   ],
   "source": [
    "a * b # 요소별 곱"
   ]
  },
  {
   "cell_type": "markdown",
   "id": "092b7996",
   "metadata": {},
   "source": [
    "### 2) 행렬의 곱(@, dot함수) cf.*(요소별 곱)"
   ]
  },
  {
   "cell_type": "code",
   "execution_count": 14,
   "id": "99bc8c67",
   "metadata": {
    "ExecuteTime": {
     "end_time": "2024-11-21T08:13:50.380451Z",
     "start_time": "2024-11-21T08:13:50.374453Z"
    }
   },
   "outputs": [
    {
     "data": {
      "text/plain": [
       "(array([[1, 1],\n",
       "        [0, 1]]),\n",
       " array([[2, 0],\n",
       "        [3, 4]]))"
      ]
     },
     "execution_count": 14,
     "metadata": {},
     "output_type": "execute_result"
    }
   ],
   "source": [
    "A = np.array([ [1, 1],\n",
    "               [0, 1]])\n",
    "B = np.array([ [2, 0],\n",
    "               [3, 4]])\n",
    "A, B"
   ]
  },
  {
   "cell_type": "code",
   "execution_count": 17,
   "id": "63e07fad",
   "metadata": {
    "ExecuteTime": {
     "end_time": "2024-11-21T08:15:45.371035Z",
     "start_time": "2024-11-21T08:15:45.365029Z"
    }
   },
   "outputs": [
    {
     "name": "stdout",
     "output_type": "stream",
     "text": [
      "요소별 곱 A*B =\n",
      "[[2 0]\n",
      " [0 4]]\n",
      "행렬 곱 A@B =\n",
      "[[5 4]\n",
      " [3 4]]\n",
      "행렬 곱 A.dot(B) =\n",
      "[[5 4]\n",
      " [3 4]]\n"
     ]
    }
   ],
   "source": [
    "print('요소별 곱 A*B =', A*B, sep='\\n')\n",
    "print('행렬 곱 A@B =', A@B, sep='\\n')\n",
    "print('행렬 곱 A.dot(B) =', A.dot(B), sep='\\n')"
   ]
  },
  {
   "cell_type": "code",
   "execution_count": 18,
   "id": "ec9be275",
   "metadata": {
    "ExecuteTime": {
     "end_time": "2024-11-21T08:16:51.106273Z",
     "start_time": "2024-11-21T08:16:51.101292Z"
    }
   },
   "outputs": [],
   "source": [
    "# 단위행렬\n",
    "A = np.array([ [1, 0],\n",
    "               [0, 1]])\n",
    "B = np.array([ [2, 0],\n",
    "               [3, 4]])"
   ]
  },
  {
   "cell_type": "code",
   "execution_count": 20,
   "id": "d2b884d8",
   "metadata": {
    "ExecuteTime": {
     "end_time": "2024-11-21T08:17:26.602375Z",
     "start_time": "2024-11-21T08:17:26.597393Z"
    }
   },
   "outputs": [
    {
     "name": "stdout",
     "output_type": "stream",
     "text": [
      "B@단위행렬 =\n",
      "[[2 0]\n",
      " [3 4]]\n"
     ]
    }
   ],
   "source": [
    "print('B@단위행렬 =', B@A, sep='\\n')"
   ]
  },
  {
   "cell_type": "code",
   "execution_count": 21,
   "id": "00120149",
   "metadata": {
    "ExecuteTime": {
     "end_time": "2024-11-21T08:17:51.281396Z",
     "start_time": "2024-11-21T08:17:51.276430Z"
    }
   },
   "outputs": [
    {
     "name": "stdout",
     "output_type": "stream",
     "text": [
      "단위행렬@B =\n",
      "[[2 0]\n",
      " [3 4]]\n"
     ]
    }
   ],
   "source": [
    "print('단위행렬@B =', A@B, sep='\\n')"
   ]
  },
  {
   "cell_type": "markdown",
   "id": "ccedbb73",
   "metadata": {},
   "source": [
    "### 3) 복합 대입 연산자 사용 (-=, +=, ...)"
   ]
  },
  {
   "cell_type": "code",
   "execution_count": 23,
   "id": "c2efa912",
   "metadata": {
    "ExecuteTime": {
     "end_time": "2024-11-21T08:20:59.387645Z",
     "start_time": "2024-11-21T08:20:59.380659Z"
    }
   },
   "outputs": [
    {
     "data": {
      "text/plain": [
       "array([[1, 1, 1],\n",
       "       [1, 1, 1]])"
      ]
     },
     "execution_count": 23,
     "metadata": {},
     "output_type": "execute_result"
    }
   ],
   "source": [
    "a = np.ones( (2, 3), dtype=int ) # 2행3열짜리 int32 배열\n",
    "a"
   ]
  },
  {
   "cell_type": "code",
   "execution_count": 24,
   "id": "35914271",
   "metadata": {
    "ExecuteTime": {
     "end_time": "2024-11-21T08:21:21.301066Z",
     "start_time": "2024-11-21T08:21:21.293098Z"
    }
   },
   "outputs": [
    {
     "data": {
      "text/plain": [
       "array([[0.89507488, 0.15910002, 0.81208519],\n",
       "       [0.87290445, 0.11100638, 0.9764799 ]])"
      ]
     },
     "execution_count": 24,
     "metadata": {},
     "output_type": "execute_result"
    }
   ],
   "source": [
    "b = np.random.random( (2, 3) ) # 2행3열짜리 float64배열\n",
    "b"
   ]
  },
  {
   "cell_type": "code",
   "execution_count": 27,
   "id": "0440190c",
   "metadata": {
    "ExecuteTime": {
     "end_time": "2024-11-21T08:22:37.122350Z",
     "start_time": "2024-11-21T08:22:37.116365Z"
    }
   },
   "outputs": [
    {
     "data": {
      "text/plain": [
       "array([[7, 7, 7],\n",
       "       [7, 7, 7]])"
      ]
     },
     "execution_count": 27,
     "metadata": {},
     "output_type": "execute_result"
    }
   ],
   "source": [
    "a += 3 # a = a + 3\n",
    "a"
   ]
  },
  {
   "cell_type": "code",
   "execution_count": 29,
   "id": "861e60cf",
   "metadata": {
    "ExecuteTime": {
     "end_time": "2024-11-21T08:23:33.332074Z",
     "start_time": "2024-11-21T08:23:33.326090Z"
    }
   },
   "outputs": [
    {
     "data": {
      "text/plain": [
       "array([[7.89507488, 7.15910002, 7.81208519],\n",
       "       [7.87290445, 7.11100638, 7.9764799 ]])"
      ]
     },
     "execution_count": 29,
     "metadata": {},
     "output_type": "execute_result"
    }
   ],
   "source": [
    "b += a # b = b + a\n",
    "b"
   ]
  },
  {
   "cell_type": "code",
   "execution_count": 31,
   "id": "06dfeb53",
   "metadata": {
    "ExecuteTime": {
     "end_time": "2024-11-21T08:24:12.990048Z",
     "start_time": "2024-11-21T08:24:12.974090Z"
    }
   },
   "outputs": [
    {
     "ename": "UFuncTypeError",
     "evalue": "Cannot cast ufunc 'add' output from dtype('float64') to dtype('int32') with casting rule 'same_kind'",
     "output_type": "error",
     "traceback": [
      "\u001b[1;31m---------------------------------------------------------------------------\u001b[0m",
      "\u001b[1;31mUFuncTypeError\u001b[0m                            Traceback (most recent call last)",
      "Cell \u001b[1;32mIn[31], line 1\u001b[0m\n\u001b[1;32m----> 1\u001b[0m a \u001b[38;5;241m+\u001b[39m\u001b[38;5;241m=\u001b[39m b\n",
      "\u001b[1;31mUFuncTypeError\u001b[0m: Cannot cast ufunc 'add' output from dtype('float64') to dtype('int32') with casting rule 'same_kind'"
     ]
    }
   ],
   "source": [
    "a += b # a = a + b"
   ]
  },
  {
   "cell_type": "markdown",
   "id": "24086b50",
   "metadata": {
    "ExecuteTime": {
     "end_time": "2024-11-21T08:23:45.961309Z",
     "start_time": "2024-11-21T08:23:45.941364Z"
    }
   },
   "source": [
    "### 4) 배열 요소별 집계: \n",
    "```\n",
    "    - sum, min, max, mean, var(분산), std(표준편차)\n",
    "```"
   ]
  },
  {
   "cell_type": "code",
   "execution_count": 32,
   "id": "b7d8aea7",
   "metadata": {
    "ExecuteTime": {
     "end_time": "2024-11-21T08:27:27.957808Z",
     "start_time": "2024-11-21T08:27:27.950827Z"
    }
   },
   "outputs": [
    {
     "data": {
      "text/plain": [
       "array([[2, 2, 2, 3],\n",
       "       [4, 3, 2, 1]])"
      ]
     },
     "execution_count": 32,
     "metadata": {},
     "output_type": "execute_result"
    }
   ],
   "source": [
    "a = np.array([[2, 2, 2, 3],\n",
    "              [4, 3, 2, 1]])\n",
    "a"
   ]
  },
  {
   "cell_type": "code",
   "execution_count": 35,
   "id": "4a7f4057",
   "metadata": {
    "ExecuteTime": {
     "end_time": "2024-11-21T08:31:24.595168Z",
     "start_time": "2024-11-21T08:31:24.589181Z"
    }
   },
   "outputs": [
    {
     "name": "stdout",
     "output_type": "stream",
     "text": [
      "전체 합: 19 19\n",
      "전체 평균: 2.375 2.375\n",
      "전체 최솟값: 1 1\n",
      "전체 최댓값: 4 4\n",
      "전체 분산: 0.734375 0.734375\n",
      "전체 표준편차: 0.8569568250501305 0.8569568250501305\n"
     ]
    }
   ],
   "source": [
    "print('전체 합:', a.sum(), np.sum(a))\n",
    "print('전체 평균:', a.mean(), np.mean(a))\n",
    "print('전체 최솟값:', a.min(), np.min(a))\n",
    "print('전체 최댓값:', a.max(), np.max(a))\n",
    "print('전체 분산:', a.var(), np.var(a))\n",
    "print('전체 표준편차:', a.std(), np.std(a))"
   ]
  },
  {
   "cell_type": "markdown",
   "id": "6385ae96",
   "metadata": {},
   "source": [
    "### 5) 배열 축별 집계\n",
    "```\n",
    "    - 축별 sum, min, max, mean, var(분산), std(표준편차), argmax\n",
    "    * 2차원 행(0축), 열(1축)\n",
    "    * 3차원 면(0축), 행(1축), 열(2축)\n",
    "```"
   ]
  },
  {
   "cell_type": "code",
   "execution_count": 36,
   "id": "cc0f5621",
   "metadata": {
    "ExecuteTime": {
     "end_time": "2024-11-21T08:37:55.629231Z",
     "start_time": "2024-11-21T08:37:55.622249Z"
    }
   },
   "outputs": [
    {
     "data": {
      "text/plain": [
       "array([[2, 2, 2, 3],\n",
       "       [4, 3, 2, 1]])"
      ]
     },
     "execution_count": 36,
     "metadata": {},
     "output_type": "execute_result"
    }
   ],
   "source": [
    "a"
   ]
  },
  {
   "cell_type": "code",
   "execution_count": 40,
   "id": "893f1b62",
   "metadata": {
    "ExecuteTime": {
     "end_time": "2024-11-21T08:47:14.754760Z",
     "start_time": "2024-11-21T08:47:14.749761Z"
    }
   },
   "outputs": [
    {
     "name": "stdout",
     "output_type": "stream",
     "text": [
      "a 행별 합: [ 9 10] [ 9 10]\n"
     ]
    }
   ],
   "source": [
    "# axis=1(1축)들의 합\n",
    "print('a 행별 합:', a.sum(axis=1), np.sum(a, axis=1))"
   ]
  },
  {
   "cell_type": "code",
   "execution_count": 41,
   "id": "cd80ecaa",
   "metadata": {
    "ExecuteTime": {
     "end_time": "2024-11-21T08:47:18.987444Z",
     "start_time": "2024-11-21T08:47:18.982458Z"
    }
   },
   "outputs": [
    {
     "name": "stdout",
     "output_type": "stream",
     "text": [
      "a 열별 합: [6 5 4 4] [6 5 4 4]\n"
     ]
    }
   ],
   "source": [
    "# 열을 고정하고, 0축의 합\n",
    "print('a 열별 합:', a.sum(axis=0), np.sum(a, axis=0))"
   ]
  },
  {
   "cell_type": "code",
   "execution_count": 44,
   "id": "c134f1b9",
   "metadata": {
    "ExecuteTime": {
     "end_time": "2024-11-21T08:49:59.979677Z",
     "start_time": "2024-11-21T08:49:59.973715Z"
    }
   },
   "outputs": [
    {
     "name": "stdout",
     "output_type": "stream",
     "text": [
      "a 행별 최댓값: [3 4] [3 4]\n",
      "a 열별 최댓값: [4 3 2 3] [4 3 2 3]\n"
     ]
    }
   ],
   "source": [
    "print('a 행별 최댓값:', a.max(axis=1), np.max(a, axis=1))\n",
    "print('a 열별 최댓값:', a.max(axis=0), np.max(a, axis=0))"
   ]
  },
  {
   "cell_type": "code",
   "execution_count": 45,
   "id": "18f940aa",
   "metadata": {
    "ExecuteTime": {
     "end_time": "2024-11-21T08:51:13.187956Z",
     "start_time": "2024-11-21T08:51:13.181973Z"
    }
   },
   "outputs": [
    {
     "data": {
      "text/plain": [
       "array([[2, 2, 2, 3],\n",
       "       [4, 3, 2, 1]])"
      ]
     },
     "execution_count": 45,
     "metadata": {},
     "output_type": "execute_result"
    }
   ],
   "source": [
    "a"
   ]
  },
  {
   "cell_type": "code",
   "execution_count": 46,
   "id": "d5396c60",
   "metadata": {
    "ExecuteTime": {
     "end_time": "2024-11-21T08:58:22.179845Z",
     "start_time": "2024-11-21T08:58:22.173861Z"
    }
   },
   "outputs": [
    {
     "name": "stdout",
     "output_type": "stream",
     "text": [
      "a 행별 최댓값 위치: [3 0]\n"
     ]
    }
   ],
   "source": [
    "print('a 행별 최댓값 위치:', a.argmax(axis=1))"
   ]
  },
  {
   "cell_type": "code",
   "execution_count": null,
   "id": "22a45fa5",
   "metadata": {},
   "outputs": [],
   "source": []
  },
  {
   "cell_type": "code",
   "execution_count": null,
   "id": "2d589313",
   "metadata": {},
   "outputs": [],
   "source": []
  },
  {
   "cell_type": "code",
   "execution_count": null,
   "id": "37c603f0",
   "metadata": {},
   "outputs": [],
   "source": []
  },
  {
   "cell_type": "code",
   "execution_count": null,
   "id": "4c275306",
   "metadata": {},
   "outputs": [],
   "source": []
  },
  {
   "cell_type": "code",
   "execution_count": null,
   "id": "259fc67a",
   "metadata": {},
   "outputs": [],
   "source": []
  }
 ],
 "metadata": {
  "kernelspec": {
   "display_name": "Python 3 (ipykernel)",
   "language": "python",
   "name": "python3"
  },
  "language_info": {
   "codemirror_mode": {
    "name": "ipython",
    "version": 3
   },
   "file_extension": ".py",
   "mimetype": "text/x-python",
   "name": "python",
   "nbconvert_exporter": "python",
   "pygments_lexer": "ipython3",
   "version": "3.10.9"
  },
  "toc": {
   "base_numbering": 1,
   "nav_menu": {},
   "number_sections": true,
   "sideBar": true,
   "skip_h1_title": false,
   "title_cell": "Table of Contents",
   "title_sidebar": "Contents",
   "toc_cell": false,
   "toc_position": {
    "height": "calc(100% - 180px)",
    "left": "10px",
    "top": "150px",
    "width": "165px"
   },
   "toc_section_display": true,
   "toc_window_display": true
  }
 },
 "nbformat": 4,
 "nbformat_minor": 5
}
