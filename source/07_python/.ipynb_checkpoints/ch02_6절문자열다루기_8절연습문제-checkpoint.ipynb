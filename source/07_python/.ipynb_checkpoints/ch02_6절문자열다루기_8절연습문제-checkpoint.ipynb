{
 "cells": [
  {
   "cell_type": "code",
   "execution_count": 1,
   "id": "bc45a2e7",
   "metadata": {
    "ExecuteTime": {
     "end_time": "2024-11-05T07:34:37.438994Z",
     "start_time": "2024-11-05T07:34:37.430017Z"
    }
   },
   "outputs": [
    {
     "data": {
      "text/html": [
       "\n",
       "<style>\n",
       "div.container{width:80% !important;}\n",
       "div.CodeMirror {font-family:Consolas; font-size:16pt;}\n",
       "div.output {font-size:16pt; font-weight:bold;}\n",
       "div.input {font-family:Consolas; font-size:16pt;}\n",
       "div.prompt {min-width:70px;}\n",
       "div#toc-header{margin-top:150px;}\n",
       "</style>\n",
       "<style>\n",
       "span.toc-item-num{\n",
       "display:none;\n",
       "}\n",
       "</style>\n"
      ],
      "text/plain": [
       "<IPython.core.display.HTML object>"
      ]
     },
     "metadata": {},
     "output_type": "display_data"
    }
   ],
   "source": [
    "from IPython.display import display, HTML\n",
    "display(HTML(\"\"\"\n",
    "<style>\n",
    "div.container{width:80% !important;}\n",
    "div.CodeMirror {font-family:Consolas; font-size:16pt;}\n",
    "div.output {font-size:16pt; font-weight:bold;}\n",
    "div.input {font-family:Consolas; font-size:16pt;}\n",
    "div.prompt {min-width:70px;}\n",
    "div#toc-header{margin-top:150px;}\n",
    "</style>\n",
    "<style>\n",
    "span.toc-item-num{\n",
    "display:none;\n",
    "}\n",
    "</style>\n",
    "\"\"\"))"
   ]
  },
  {
   "cell_type": "markdown",
   "id": "c35467ce",
   "metadata": {},
   "source": [
    "<b><font size=\"6\" color=\"red\">ch02.자료형과 연산자</font></b>"
   ]
  },
  {
   "cell_type": "markdown",
   "id": "1c065ef5",
   "metadata": {},
   "source": [
    "## 6절. 문자열 다루기\n",
    "- 문자열슬라이싱변수[from:to:by]\n",
    "- len(문자열변수)\n",
    "- 문자변수.upper():                 대문자\n",
    "- 문자변수.lower():                 소문자\n",
    "- 문자변수.title():                 각 어절의 앞글자만 대문자로 \n",
    "- 문자변수.capitalize():            첫문자만 대문자로\n",
    "- 문자변수.count('찾을문자열'):      '찾을문자열'이 몇 개 들어있는지 갯수 반환\n",
    "- 문자변수.find('찾을문자열'):       '찾을문자열'이 왼쪽부터 시작하여 몇 번째에 있는지 index를 반환\n",
    "- 문자변수.rfind('찾을문자열'):      '찾을문자열'이 오른쪽부터 시작하여 몇 번째에 있는지 index를 반환\n",
    "                                   (찾을문자열이 없으면 -1을 반환)\n",
    "cf. 문자변수.index('찾을문자열'):    '찾을문자열'이 왼쪽부터 시작하여 몇 번째에 있는지 index를 반호나\n",
    "                                   (찾을문자열이 없으면 오류)\n",
    "- 문자변수.startswith('특정문자열'): '특정문자열'로 시작하는지 여부 반환\n",
    "- 문자변수.endswith('특정문자열'):   '특정문자열'로 끝나는지 여부 반환\n",
    "- 문자변수.strip():                 좌우공백제거(trim)\n",
    "- 문자변수.rstrip():                오른쪽 공백제거\n",
    "- 문자변수.lstrip():                왼쪽 공백제거\n",
    "- 문자변수.split():                 문자열을 공백이나 다른 문자 기준으로 나누어 리스트로 반환\n",
    "- 문자변수.isdigit():               문자열이 숫자 문자열인지 여부 반환\n",
    "- 문자변수.islower():               문자열이 소문자인지 여부 반환\n",
    "- 문자변수.isupper():               문자열이 대문자인지 여부 반환\n",
    "- 문자변수.replace(oldStr, newStr): oldStr을 newStr로 변경"
   ]
  },
  {
   "cell_type": "code",
   "execution_count": 3,
   "id": "8ee73705",
   "metadata": {
    "ExecuteTime": {
     "end_time": "2024-11-05T07:53:51.331992Z",
     "start_time": "2024-11-05T07:53:51.325014Z"
    }
   },
   "outputs": [
    {
     "data": {
      "text/plain": [
       "('python is easy, python is smart. python', 39)"
      ]
     },
     "execution_count": 3,
     "metadata": {},
     "output_type": "execute_result"
    }
   ],
   "source": [
    "temp = \"python is easy, python is smart. python\"\n",
    "temp, len(temp)"
   ]
  },
  {
   "cell_type": "code",
   "execution_count": 7,
   "id": "1ab88cef",
   "metadata": {
    "ExecuteTime": {
     "end_time": "2024-11-05T07:55:25.562114Z",
     "start_time": "2024-11-05T07:55:25.557669Z"
    }
   },
   "outputs": [
    {
     "name": "stdout",
     "output_type": "stream",
     "text": [
      "첫 번째 글자는 p이고, 마지막 글자는 n입니다\n"
     ]
    }
   ],
   "source": [
    "print('첫 번째 글자는 {}이고, 마지막 글자는 {}입니다'.format(temp[0], temp[-1]))"
   ]
  },
  {
   "cell_type": "code",
   "execution_count": 9,
   "id": "1436ebc1",
   "metadata": {
    "ExecuteTime": {
     "end_time": "2024-11-05T07:56:33.161584Z",
     "start_time": "2024-11-05T07:56:33.156618Z"
    }
   },
   "outputs": [
    {
     "name": "stdout",
     "output_type": "stream",
     "text": [
      "전화번호 끝자리:  2132\n"
     ]
    }
   ],
   "source": [
    "tel = \"010-7894-2132\"\n",
    "print('전화번호 끝자리: ', tel[-4:])"
   ]
  },
  {
   "cell_type": "code",
   "execution_count": 33,
   "id": "3c9b12cc",
   "metadata": {
    "ExecuteTime": {
     "end_time": "2024-11-05T08:24:42.822944Z",
     "start_time": "2024-11-05T08:24:42.813950Z"
    }
   },
   "outputs": [
    {
     "name": "stdout",
     "output_type": "stream",
     "text": [
      "대문자로:       PYTHON IS EASY, PYTHON IS SMART. PYTHON\n",
      "소문자로:       python is easy, python is smart. python\n",
      "title():       Python Is Easy, Python Is Smart. Python\n",
      "capitalize():  Python is easy, python is smart. python\n",
      "python이 몇 번 나오는지:  2 0\n",
      "대소문자 구분없이 python이 몇 번 나오는지:  0\n",
      "대소문자 구분없이 python이 몇 번 나오는지:  3\n",
      "대소문자 구분없이 python이 몇 번 나오는지:  0\n",
      "python이 나오는 첫 index 위치:  0\n",
      "python이 나오는 마지막 index 위치:  33\n",
      "Java가 나오는 첫 index 위치:  -1\n",
      "python이 나오는 첫 index 위치:  0\n",
      "python으로 시작하는 문자열인지:  True\n",
      "python으로 끝나는 문자열인지:  True\n",
      "python대신 R로 변경:  R is easy, R is smart. R\n"
     ]
    }
   ],
   "source": [
    "temp = \"python is easy, pyTHon is smart. python\"\n",
    "#       012324567890123245678901232456789012345678\n",
    "print('대문자로:      ', temp.upper())\n",
    "print('소문자로:      ', temp.lower())\n",
    "print('title():      ', temp.title())\n",
    "print('capitalize(): ', temp.capitalize())\n",
    "print('python이 몇 번 나오는지: ', temp.count('python'), temp.count('Python'))\n",
    "print('대소문자 구분없이 python이 몇 번 나오는지: ', temp.upper().count('python'))\n",
    "print('대소문자 구분없이 python이 몇 번 나오는지: ', temp.lower().count('python'))\n",
    "print('대소문자 구분없이 python이 몇 번 나오는지: ', temp.title().count('python'))\n",
    "print('python이 나오는 첫 index 위치: ', temp.find('python'))\n",
    "print('python이 나오는 마지막 index 위치: ', temp.rfind('python'))\n",
    "print('Java가 나오는 첫 index 위치: ', temp.find('Java'))\n",
    "print('python이 나오는 첫 index 위치: ', temp.index('python'))\n",
    "# print('Java가 나오는 첫 index 위치: ', temp.index('Java'))\n",
    "print('python으로 시작하는 문자열인지: ', temp.startswith('python'))\n",
    "print('python으로 끝나는 문자열인지: ', temp.endswith('python'))\n",
    "print('python대신 R로 변경: ', temp.replace('python', 'R').replace('pyTHon', 'R'))"
   ]
  },
  {
   "cell_type": "code",
   "execution_count": 43,
   "id": "a1c6236d",
   "metadata": {
    "ExecuteTime": {
     "end_time": "2024-11-05T08:32:41.022277Z",
     "start_time": "2024-11-05T08:32:41.006611Z"
    }
   },
   "outputs": [
    {
     "name": "stdout",
     "output_type": "stream",
     "text": [
      "strip(): [python is easy]\n",
      "lstrip(): [python is easy    ]\n",
      "rstrip(): [     python is easy]\n",
      "isdigit(): True\n",
      "대문자인지: False\n",
      "소문자인지: True\n"
     ]
    }
   ],
   "source": [
    "temp = '     python is easy    '\n",
    "notdisit = '1,234'\n",
    "print('strip(): [{}]'.format(temp.strip()) )\n",
    "print('lstrip(): [{}]'.format(temp.lstrip()) )\n",
    "print('rstrip(): [{}]'.format(temp.rstrip()) )\n",
    "print('isdigit(): {}'.format(notdisit.replace(',','').isdigit()) )\n",
    "print('대문자인지: {}'.format(temp.isupper()) )\n",
    "print('소문자인지: {}'.format(temp.islower()) )"
   ]
  },
  {
   "cell_type": "code",
   "execution_count": 44,
   "id": "3ea5b476",
   "metadata": {
    "ExecuteTime": {
     "end_time": "2024-11-05T08:36:19.378435Z",
     "start_time": "2024-11-05T08:36:19.373455Z"
    }
   },
   "outputs": [
    {
     "name": "stdout",
     "output_type": "stream",
     "text": [
      "space 단위로 temp를 분리(list로 반환):  ['홍길동', '김길동', '신길똥', '유길뚱']\n"
     ]
    }
   ],
   "source": [
    "temp = '    홍길동      김길동 신길똥 유길뚱'\n",
    "print('space 단위로 temp를 분리(list로 반환): ', temp.split() )"
   ]
  },
  {
   "cell_type": "code",
   "execution_count": 47,
   "id": "e7e700c5",
   "metadata": {
    "ExecuteTime": {
     "end_time": "2024-11-05T08:40:08.283587Z",
     "start_time": "2024-11-05T08:40:08.277616Z"
    }
   },
   "outputs": [
    {
     "name": "stdout",
     "output_type": "stream",
     "text": [
      "- 단위로 date를 분리(list로 반환)합니다\n",
      "년:  2024\n",
      "월:  11\n",
      "일:  05\n"
     ]
    }
   ],
   "source": [
    "date = '2024-11-05'\n",
    "print('- 단위로 date를 분리(list로 반환)합니다')\n",
    "date_list = date.split('-')\n",
    "date_list\n",
    "print('년: ', date_list[0])\n",
    "print('월: ', date_list[1])\n",
    "print('일: ', date_list[2])"
   ]
  },
  {
   "cell_type": "code",
   "execution_count": 55,
   "id": "11f85c14",
   "metadata": {
    "ExecuteTime": {
     "end_time": "2024-11-05T08:45:48.155714Z",
     "start_time": "2024-11-05T08:45:48.149729Z"
    }
   },
   "outputs": [
    {
     "name": "stdout",
     "output_type": "stream",
     "text": [
      "원 temp:  Java - Oracle - 웹표준 - JSP - PYTHON\n",
      "분리된 temp:  ['Java', 'Oracle', '웹표준', 'JSP', 'PYTHON']\n",
      "joined_temp:  Java/Oracle/웹표준/JSP/PYTHON\n"
     ]
    }
   ],
   "source": [
    "# ' - '을 '/'로 바꾸기\n",
    "temp = 'Java - Oracle - 웹표준 - JSP - PYTHON'\n",
    "print('원 temp: ', temp)\n",
    "splited_temp = temp.split(' - ')\n",
    "print('분리된 temp: ', splited_temp)\n",
    "joined_temp = '/'.join(splited_temp)\n",
    "print('joined_temp: ', joined_temp)"
   ]
  },
  {
   "cell_type": "code",
   "execution_count": 56,
   "id": "0d7312f5",
   "metadata": {
    "ExecuteTime": {
     "end_time": "2024-11-05T08:50:36.908339Z",
     "start_time": "2024-11-05T08:50:36.903355Z"
    }
   },
   "outputs": [
    {
     "name": "stdout",
     "output_type": "stream",
     "text": [
      "A\n",
      "B\n",
      "C\n"
     ]
    }
   ],
   "source": [
    "str_ = 'ABC' # ['A', 'B', 'C']\n",
    "for s in str_:\n",
    "    print(s)"
   ]
  },
  {
   "cell_type": "code",
   "execution_count": 58,
   "id": "b2a7e6c9",
   "metadata": {
    "ExecuteTime": {
     "end_time": "2024-11-05T08:51:55.484803Z",
     "start_time": "2024-11-05T08:51:55.479831Z"
    }
   },
   "outputs": [
    {
     "name": "stdout",
     "output_type": "stream",
     "text": [
      "A\n",
      "B\n",
      "C\n"
     ]
    }
   ],
   "source": [
    "# 동일 결과\n",
    "str_list = ['A', 'B', 'C']\n",
    "for s in str_list:\n",
    "    print(s)"
   ]
  },
  {
   "cell_type": "code",
   "execution_count": 59,
   "id": "08701a5a",
   "metadata": {
    "ExecuteTime": {
     "end_time": "2024-11-05T08:52:15.436749Z",
     "start_time": "2024-11-05T08:52:15.429533Z"
    }
   },
   "outputs": [
    {
     "data": {
      "text/plain": [
       "['__add__',\n",
       " '__class__',\n",
       " '__contains__',\n",
       " '__delattr__',\n",
       " '__dir__',\n",
       " '__doc__',\n",
       " '__eq__',\n",
       " '__format__',\n",
       " '__ge__',\n",
       " '__getattribute__',\n",
       " '__getitem__',\n",
       " '__getnewargs__',\n",
       " '__gt__',\n",
       " '__hash__',\n",
       " '__init__',\n",
       " '__init_subclass__',\n",
       " '__iter__',\n",
       " '__le__',\n",
       " '__len__',\n",
       " '__lt__',\n",
       " '__mod__',\n",
       " '__mul__',\n",
       " '__ne__',\n",
       " '__new__',\n",
       " '__reduce__',\n",
       " '__reduce_ex__',\n",
       " '__repr__',\n",
       " '__rmod__',\n",
       " '__rmul__',\n",
       " '__setattr__',\n",
       " '__sizeof__',\n",
       " '__str__',\n",
       " '__subclasshook__',\n",
       " 'capitalize',\n",
       " 'casefold',\n",
       " 'center',\n",
       " 'count',\n",
       " 'encode',\n",
       " 'endswith',\n",
       " 'expandtabs',\n",
       " 'find',\n",
       " 'format',\n",
       " 'format_map',\n",
       " 'index',\n",
       " 'isalnum',\n",
       " 'isalpha',\n",
       " 'isascii',\n",
       " 'isdecimal',\n",
       " 'isdigit',\n",
       " 'isidentifier',\n",
       " 'islower',\n",
       " 'isnumeric',\n",
       " 'isprintable',\n",
       " 'isspace',\n",
       " 'istitle',\n",
       " 'isupper',\n",
       " 'join',\n",
       " 'ljust',\n",
       " 'lower',\n",
       " 'lstrip',\n",
       " 'maketrans',\n",
       " 'partition',\n",
       " 'removeprefix',\n",
       " 'removesuffix',\n",
       " 'replace',\n",
       " 'rfind',\n",
       " 'rindex',\n",
       " 'rjust',\n",
       " 'rpartition',\n",
       " 'rsplit',\n",
       " 'rstrip',\n",
       " 'split',\n",
       " 'splitlines',\n",
       " 'startswith',\n",
       " 'strip',\n",
       " 'swapcase',\n",
       " 'title',\n",
       " 'translate',\n",
       " 'upper',\n",
       " 'zfill']"
      ]
     },
     "execution_count": 59,
     "metadata": {},
     "output_type": "execute_result"
    }
   ],
   "source": [
    "# 문자열을 다룰 수 있는 함수들 목록\n",
    "dir(str)"
   ]
  },
  {
   "cell_type": "markdown",
   "id": "4dbfc213",
   "metadata": {},
   "source": [
    "# 7절. 시간, 날짜 다루기"
   ]
  },
  {
   "cell_type": "code",
   "execution_count": 12,
   "id": "9174ad8e",
   "metadata": {
    "ExecuteTime": {
     "end_time": "2024-11-06T00:57:20.790990Z",
     "start_time": "2024-11-06T00:57:20.787000Z"
    }
   },
   "outputs": [],
   "source": [
    "# datetime 모듈(~.py) 안의 datetime, date, time을 import\n",
    "from datetime import datetime, date, time"
   ]
  },
  {
   "cell_type": "markdown",
   "id": "35474e0c",
   "metadata": {},
   "source": [
    "## 7.1 시간과 날짜"
   ]
  },
  {
   "cell_type": "code",
   "execution_count": 5,
   "id": "69cc12d6",
   "metadata": {
    "ExecuteTime": {
     "end_time": "2024-11-06T00:48:38.689003Z",
     "start_time": "2024-11-06T00:48:38.681974Z"
    }
   },
   "outputs": [
    {
     "data": {
      "text/plain": [
       "datetime.datetime(2025, 3, 7, 18, 0)"
      ]
     },
     "execution_count": 5,
     "metadata": {},
     "output_type": "execute_result"
    }
   ],
   "source": [
    "# 특정 시점으르 갖는 datetime 객체 생성\n",
    "thatday = datetime(2025, 3, 7, 18, 0)\n",
    "thatday"
   ]
  },
  {
   "cell_type": "code",
   "execution_count": 9,
   "id": "c68d58d6",
   "metadata": {
    "ExecuteTime": {
     "end_time": "2024-11-06T00:50:55.969518Z",
     "start_time": "2024-11-06T00:50:55.964539Z"
    }
   },
   "outputs": [
    {
     "name": "stdout",
     "output_type": "stream",
     "text": [
      "2025-03-07 18:00:00\n",
      "2025년 03월 07일 PM 06시 00분\n",
      "25년03월07일 18시00분00초\n"
     ]
    }
   ],
   "source": [
    "print(thatday)\n",
    "print(thatday.strftime(\"%Y년 %m월 %d일 %p %I시 %M분\"))\n",
    "print(\"{:%y년%m월%d일 %H시%M분%S초}\".format(thatday))"
   ]
  },
  {
   "cell_type": "code",
   "execution_count": 11,
   "id": "85254300",
   "metadata": {
    "ExecuteTime": {
     "end_time": "2024-11-06T00:53:33.519285Z",
     "start_time": "2024-11-06T00:53:33.514279Z"
    }
   },
   "outputs": [
    {
     "name": "stdout",
     "output_type": "stream",
     "text": [
      "Wed Nov  6 09:53:33 2024\n",
      "2024-11-06 09:53:33.516272\n",
      "2024년 11월 06일 AM 09시 53분\n",
      "24년11월06일 09시53분33초\n"
     ]
    }
   ],
   "source": [
    "# 지금을 저장하는 datetime 객체 생성\n",
    "now = datetime.now()\n",
    "print(now.ctime()) # 사람이 읽기 쉬운 형태로 \n",
    "print(now)\n",
    "print(now.strftime(\"%Y년 %m월 %d일 %p %I시 %M분\"))\n",
    "print(\"{:%y년%m월%d일 %H시%M분%S초}\".format(now))"
   ]
  },
  {
   "cell_type": "markdown",
   "id": "15e28e6c",
   "metadata": {},
   "source": [
    "## 7.2 날짜"
   ]
  },
  {
   "cell_type": "code",
   "execution_count": 15,
   "id": "03c6fedc",
   "metadata": {
    "ExecuteTime": {
     "end_time": "2024-11-06T00:58:49.280273Z",
     "start_time": "2024-11-06T00:58:49.274288Z"
    }
   },
   "outputs": [
    {
     "data": {
      "text/plain": [
       "datetime.date(2025, 3, 7)"
      ]
     },
     "execution_count": 15,
     "metadata": {},
     "output_type": "execute_result"
    }
   ],
   "source": [
    "# 특정한 날짜를 갖는 date 객체 생성\n",
    "someday = date(2025, 3, 7)\n",
    "someday"
   ]
  },
  {
   "cell_type": "code",
   "execution_count": 21,
   "id": "e00859ef",
   "metadata": {
    "ExecuteTime": {
     "end_time": "2024-11-06T01:01:13.096326Z",
     "start_time": "2024-11-06T01:01:13.091355Z"
    }
   },
   "outputs": [
    {
     "name": "stdout",
     "output_type": "stream",
     "text": [
      "2025-03-07\n",
      "2025년03월07일 00시00분\n",
      "2025년03월07일 00시00분\n"
     ]
    }
   ],
   "source": [
    "print(someday)\n",
    "print(someday.strftime(\"%Y년%m월%d일 %H시%M분\"))\n",
    "print(\"{:%Y년%m월%d일 %H시%M분}\".format(someday))"
   ]
  },
  {
   "cell_type": "code",
   "execution_count": 23,
   "id": "69472736",
   "metadata": {
    "ExecuteTime": {
     "end_time": "2024-11-06T01:03:03.184740Z",
     "start_time": "2024-11-06T01:03:03.177738Z"
    }
   },
   "outputs": [
    {
     "data": {
      "text/plain": [
       "datetime.date(2024, 11, 6)"
      ]
     },
     "execution_count": 23,
     "metadata": {},
     "output_type": "execute_result"
    }
   ],
   "source": [
    "# 오늘을 갖는 date 객체 생성\n",
    "today = date.today()\n",
    "today "
   ]
  },
  {
   "cell_type": "code",
   "execution_count": 24,
   "id": "abbf4b9f",
   "metadata": {
    "ExecuteTime": {
     "end_time": "2024-11-06T01:03:05.831868Z",
     "start_time": "2024-11-06T01:03:05.826881Z"
    }
   },
   "outputs": [
    {
     "name": "stdout",
     "output_type": "stream",
     "text": [
      "2024-11-06\n",
      "2024년11월06일 00시00분\n",
      "2024년11월06일 00시00분\n"
     ]
    }
   ],
   "source": [
    "print(today)\n",
    "print(today.strftime(\"%Y년%m월%d일 %H시%M분\"))\n",
    "print(\"{:%Y년%m월%d일 %H시%M분}\".format(today))"
   ]
  },
  {
   "cell_type": "markdown",
   "id": "2a899d16",
   "metadata": {},
   "source": [
    "## 7.3 시간"
   ]
  },
  {
   "cell_type": "code",
   "execution_count": 25,
   "id": "c7af1f59",
   "metadata": {
    "ExecuteTime": {
     "end_time": "2024-11-06T01:04:22.024945Z",
     "start_time": "2024-11-06T01:04:22.018961Z"
    }
   },
   "outputs": [
    {
     "data": {
      "text/plain": [
       "datetime.time(13, 12)"
      ]
     },
     "execution_count": 25,
     "metadata": {},
     "output_type": "execute_result"
    }
   ],
   "source": [
    "# 특정한 시간을 저장하는 time 객체 생성\n",
    "t = time(13, 12)\n",
    "t"
   ]
  },
  {
   "cell_type": "code",
   "execution_count": 28,
   "id": "4ff8ec6e",
   "metadata": {
    "ExecuteTime": {
     "end_time": "2024-11-06T01:06:28.495972Z",
     "start_time": "2024-11-06T01:06:28.486115Z"
    }
   },
   "outputs": [
    {
     "name": "stdout",
     "output_type": "stream",
     "text": [
      "13:12:00\n",
      "1900년01월01일 PM 01시12분00초\n",
      "00년01월01일 13시12분00초\n"
     ]
    }
   ],
   "source": [
    "print(t)\n",
    "print(t.strftime(\"%Y년%m월%d일 %p %I시%M분%S초\"))\n",
    "print(\"{:%y년%m월%d일 %H시%M분%S초}\".format(t))"
   ]
  },
  {
   "cell_type": "code",
   "execution_count": 43,
   "id": "3d758806",
   "metadata": {
    "ExecuteTime": {
     "end_time": "2024-11-06T01:09:34.199915Z",
     "start_time": "2024-11-06T01:09:34.188534Z"
    }
   },
   "outputs": [
    {
     "data": {
      "text/plain": [
       "(2024, 11, 6, 10, 9, 34, 188534)"
      ]
     },
     "execution_count": 43,
     "metadata": {},
     "output_type": "execute_result"
    }
   ],
   "source": [
    "# 현재 시간을 저장하는 time 객체 생성\n",
    "now = datetime.now() # 현재 날짜와 현재 시간\n",
    "now.year, now.month, now.day, now.hour, now.minute, now.second, now.microsecond"
   ]
  },
  {
   "cell_type": "code",
   "execution_count": 45,
   "id": "9d27dc69",
   "metadata": {
    "ExecuteTime": {
     "end_time": "2024-11-06T01:11:20.705365Z",
     "start_time": "2024-11-06T01:11:20.699385Z"
    }
   },
   "outputs": [
    {
     "name": "stdout",
     "output_type": "stream",
     "text": [
      "10:09:34.188534\n",
      "1900년01월01일 AM 10시09분34초\n",
      "00년01월01일 10시09분34초\n"
     ]
    }
   ],
   "source": [
    "now_time = time(now.hour, now.minute, now.second, now.microsecond)\n",
    "print(now_time)\n",
    "print(now_time.strftime(\"%Y년%m월%d일 %p %I시%M분%S초\"))\n",
    "print(\"{:%y년%m월%d일 %H시%M분%S초}\".format(now_time))"
   ]
  },
  {
   "cell_type": "markdown",
   "id": "08d32b17",
   "metadata": {},
   "source": [
    "# 8절. 연습문제"
   ]
  },
  {
   "cell_type": "code",
   "execution_count": 2,
   "id": "d9463b30",
   "metadata": {
    "ExecuteTime": {
     "end_time": "2024-11-06T01:28:15.255422Z",
     "start_time": "2024-11-06T01:28:15.250447Z"
    }
   },
   "outputs": [
    {
     "name": "stdout",
     "output_type": "stream",
     "text": [
      "홍길동님의 나이는 23살입니다\n"
     ]
    }
   ],
   "source": [
    "# 1. 이름과 나이 변수를 다음 형식으로 출력하도록 format() 함수를 이용해 형식화하세요\n",
    "# [출력형식 : 홍길동님의 나이는 23살입니다]\n",
    "name = \"홍길동\"\n",
    "age = 23\n",
    "print('{}님의 나이는 {}살입니다'.format(name, age))"
   ]
  },
  {
   "cell_type": "code",
   "execution_count": 1,
   "id": "20b92511",
   "metadata": {
    "ExecuteTime": {
     "end_time": "2024-11-06T01:28:10.891271Z",
     "start_time": "2024-11-06T01:28:06.939528Z"
    }
   },
   "outputs": [
    {
     "name": "stdout",
     "output_type": "stream",
     "text": [
      "첫 번째 정수는?50\n",
      "두 번째 정수는?1\n",
      "51\n",
      "49\n",
      "50\n",
      "50.0\n",
      "50\n",
      "0\n"
     ]
    }
   ],
   "source": [
    "# 두 정수를 입력받아 두 수의 덧셈, 뺄셈, 곱셈, 나눗셈, 몫, 나머지를 출력하세요\n",
    "num1 = int(input('첫 번째 정수는?'))\n",
    "num2 = int(input('두 번째 정수는?'))\n",
    "print(num1 + num2)\n",
    "print(num1 - num2)\n",
    "print(num1 * num2)\n",
    "print(num1 / num2)\n",
    "print(num1 // num2)\n",
    "print(num1 % num2)"
   ]
  },
  {
   "cell_type": "code",
   "execution_count": 15,
   "id": "860a70bd",
   "metadata": {
    "ExecuteTime": {
     "end_time": "2024-11-06T01:36:11.633131Z",
     "start_time": "2024-11-06T01:36:11.626150Z"
    }
   },
   "outputs": [
    {
     "name": "stdout",
     "output_type": "stream",
     "text": [
      "['Hello', 'World']\n",
      "World Hello\n"
     ]
    }
   ],
   "source": [
    "# 3. 문자열의 분리하기와 합치기 기능을 이용하여 ‘Hello World’가 할당된 변수를 이용하여 ‘World Hello’로 출력하세요\n",
    "temp = 'Hello World'\n",
    "splited_temp = temp.split()\n",
    "print(splited_temp)\n",
    "joined_temp1 = ''.join(splited_temp[1])\n",
    "joined_temp2 = ''.join(splited_temp[0])\n",
    "print(joined_temp1, joined_temp2)"
   ]
  },
  {
   "cell_type": "code",
   "execution_count": 17,
   "id": "4a6c6066",
   "metadata": {
    "ExecuteTime": {
     "end_time": "2024-11-06T01:40:26.204784Z",
     "start_time": "2024-11-06T01:40:26.188138Z"
    }
   },
   "outputs": [
    {
     "name": "stdout",
     "output_type": "stream",
     "text": [
      "bcdefa\n"
     ]
    }
   ],
   "source": [
    "# 4. x = 'abcdef＇를 이용하여 ‘bcdefa’로 출력하세요(문자 슬라이싱이용).\n",
    "x = 'abcdef'\n",
    "print(x[1:] + x[0])"
   ]
  },
  {
   "cell_type": "code",
   "execution_count": 21,
   "id": "b21b9c57",
   "metadata": {
    "ExecuteTime": {
     "end_time": "2024-11-06T01:41:21.591652Z",
     "start_time": "2024-11-06T01:41:21.586595Z"
    }
   },
   "outputs": [
    {
     "name": "stdout",
     "output_type": "stream",
     "text": [
      "fedcba\n"
     ]
    }
   ],
   "source": [
    "#  x = ‘abcdef’를 이용하여 ‘fedcba’로 출력하세요\n",
    "print(x[-1::-1])"
   ]
  },
  {
   "cell_type": "code",
   "execution_count": 4,
   "id": "62aed43c",
   "metadata": {
    "ExecuteTime": {
     "end_time": "2024-11-06T02:42:47.580957Z",
     "start_time": "2024-11-06T02:42:45.252679Z"
    }
   },
   "outputs": [
    {
     "name": "stdout",
     "output_type": "stream",
     "text": [
      "오늘의 섭씨온도는?10\n",
      "섭씨 10도는 화씨온도로 바꾸면 50도입니다.\n"
     ]
    }
   ],
   "source": [
    "# 6. 오늘의 온도를 섭씨온도로 입력받아 화씨 온도로 변환하는 프로그램을 작성하세요. \n",
    "# 화씨 온도는 소수점이 있을 경우만 두번째 자리까지 출력되고, 소수점이하 값이 없는 경우\n",
    "# 소수점을 출력하지 않도록 합니다.(다음은 섭씨와 화씨의 변환 공식입니다. C는 섭씨, \n",
    "# F는 화씨)\n",
    "C = int(input('오늘의 섭씨온도는?'))\n",
    "F = (C*1.8) + 32\n",
    "if F == round(F):\n",
    "    print(\"섭씨 {}도는 화씨온도로 바꾸면 {:.0f}도입니다.\".format(C, F))\n",
    "else:\n",
    "    print(\"섭씨 {}도는 화씨온도로 바꾸면 {:.2f}도입니다.\".format(C, F))"
   ]
  },
  {
   "cell_type": "code",
   "execution_count": 3,
   "id": "1c6e19e6",
   "metadata": {
    "ExecuteTime": {
     "end_time": "2024-11-06T02:41:35.477092Z",
     "start_time": "2024-11-06T02:41:32.555706Z"
    }
   },
   "outputs": [
    {
     "name": "stdout",
     "output_type": "stream",
     "text": [
      "오늘의 섭씨온도는?55\n",
      "섭씨 55도는 화씨온도로 바꾸면 131도입니다.\n"
     ]
    }
   ],
   "source": [
    "C = int(input('오늘의 섭씨온도는?'))\n",
    "F = (C*1.8) + 32\n",
    "if F.is_integer():\n",
    "    print(\"섭씨 {}도는 화씨온도로 바꾸면 {:.0f}도입니다.\".format(C, F))\n",
    "else:\n",
    "    print(\"섭씨 {}도는 화씨온도로 바꾸면 {:.2f}도입니다.\".format(C, F))"
   ]
  },
  {
   "cell_type": "code",
   "execution_count": 1,
   "id": "5558629b",
   "metadata": {
    "ExecuteTime": {
     "end_time": "2024-11-06T02:05:27.301955Z",
     "start_time": "2024-11-06T02:05:26.771769Z"
    },
    "collapsed": true
   },
   "outputs": [
    {
     "ename": "TypeError",
     "evalue": "unsupported operand type(s) for +: 'int' and 'str'",
     "output_type": "error",
     "traceback": [
      "\u001b[1;31m---------------------------------------------------------------------------\u001b[0m",
      "\u001b[1;31mTypeError\u001b[0m                                 Traceback (most recent call last)",
      "Cell \u001b[1;32mIn[1], line 3\u001b[0m\n\u001b[0;32m      1\u001b[0m x \u001b[38;5;241m=\u001b[39m\u001b[38;5;241m5\u001b[39m\n\u001b[0;32m      2\u001b[0m y \u001b[38;5;241m=\u001b[39m \u001b[38;5;124m\"\u001b[39m\u001b[38;5;124mHello\u001b[39m\u001b[38;5;124m\"\u001b[39m\n\u001b[1;32m----> 3\u001b[0m \u001b[38;5;28mprint\u001b[39m(\u001b[43mx\u001b[49m\u001b[38;5;241;43m+\u001b[39;49m\u001b[43my\u001b[49m)\n",
      "\u001b[1;31mTypeError\u001b[0m: unsupported operand type(s) for +: 'int' and 'str'"
     ]
    }
   ],
   "source": [
    "x = 5\n",
    "y = \"John\"\n",
    "print(x + y) # Error"
   ]
  },
  {
   "cell_type": "code",
   "execution_count": 9,
   "id": "9c8c4dcd",
   "metadata": {
    "ExecuteTime": {
     "end_time": "2024-11-06T02:07:03.288900Z",
     "start_time": "2024-11-06T02:07:03.282895Z"
    }
   },
   "outputs": [
    {
     "data": {
      "text/plain": [
       "'나라'"
      ]
     },
     "execution_count": 9,
     "metadata": {},
     "output_type": "execute_result"
    }
   ],
   "source": [
    "str_ = \"우리 나라 대한 민국\"\n",
    "str_.split()[1]"
   ]
  }
 ],
 "metadata": {
  "kernelspec": {
   "display_name": "Python 3 (ipykernel)",
   "language": "python",
   "name": "python3"
  },
  "language_info": {
   "codemirror_mode": {
    "name": "ipython",
    "version": 3
   },
   "file_extension": ".py",
   "mimetype": "text/x-python",
   "name": "python",
   "nbconvert_exporter": "python",
   "pygments_lexer": "ipython3",
   "version": "3.10.9"
  },
  "toc": {
   "base_numbering": 1,
   "nav_menu": {},
   "number_sections": true,
   "sideBar": true,
   "skip_h1_title": false,
   "title_cell": "Table of Contents",
   "title_sidebar": "Contents",
   "toc_cell": false,
   "toc_position": {
    "height": "calc(100% - 180px)",
    "left": "10px",
    "top": "150px",
    "width": "204px"
   },
   "toc_section_display": true,
   "toc_window_display": true
  }
 },
 "nbformat": 4,
 "nbformat_minor": 5
}
