{
 "cells": [
  {
   "cell_type": "code",
   "execution_count": null,
   "id": "ce3fcfab",
   "metadata": {},
   "outputs": [],
   "source": [
    "from IPython.display import display, HTML\n",
    "display(HTML(\"\"\"\n",
    "<style>\n",
    "div.container{width:80% !important;}\n",
    "div.CodeMirror {font-family:Consolas; font-size:16pt;}\n",
    "div.output {font-size:16pt; font-weight:bold;}\n",
    "div.input {font-family:Consolas; font-size:16pt;}\n",
    "div.prompt {min-width:70px;}\n",
    "div#toc-header{margin-top:150px;}\n",
    "</style>\n",
    "<style>\n",
    "span.toc-item-num{\n",
    "display:none;\n",
    "}\n",
    "</style>\n",
    "\"\"\"))ㄴ"
   ]
  },
  {
   "cell_type": "markdown",
   "id": "54ae3bee",
   "metadata": {},
   "source": [
    "<b><font color=\"red\" size=\"6\">ch04. 제어문</font></b>\n",
    "- if문, for-in문, while문, 중첩 가능, 중첩 루프 탈출"
   ]
  },
  {
   "cell_type": "markdown",
   "id": "29588962",
   "metadata": {},
   "source": [
    "# 1절. 조건문(if)"
   ]
  },
  {
   "cell_type": "code",
   "execution_count": 2,
   "id": "ee7133dd",
   "metadata": {
    "ExecuteTime": {
     "end_time": "2024-11-07T03:57:01.783440Z",
     "start_time": "2024-11-07T03:56:58.677685Z"
    }
   },
   "outputs": [
    {
     "name": "stdout",
     "output_type": "stream",
     "text": [
      "Enter your score >65\n",
      "분발하실거죠?\n",
      "뭐 그래도 고생했어요\n"
     ]
    }
   ],
   "source": [
    "score = int(input('Enter your score >'))\n",
    "if   score >= 90:\n",
    "    print('참 잘했어요') # 들여쓰기 엄수\n",
    "    print('다음에도 기대할게요')\n",
    "elif score >= 65:\n",
    "    print('분발하실거죠?')\n",
    "    print('뭐 그래도 고생했어요')\n",
    "else:\n",
    "    print('재시험 응시하셔야 합니다')\n",
    "    print('화이팅')"
   ]
  },
  {
   "cell_type": "code",
   "execution_count": 4,
   "id": "7c8eb837",
   "metadata": {
    "ExecuteTime": {
     "end_time": "2024-11-07T04:02:57.926999Z",
     "start_time": "2024-11-07T04:02:56.092612Z"
    }
   },
   "outputs": [
    {
     "name": "stdout",
     "output_type": "stream",
     "text": [
      "Enter your score >78\n",
      "입력하신 점수는 78점이고, C등급입니다.\n"
     ]
    }
   ],
   "source": [
    "# 점수를 입력받아 학점출력(A, B, C, D, F, 유효하지 않은 점수)\n",
    "score = int(input('Enter your score >'))\n",
    "# 파이썬에서는 비교연산자가 삼항 연산이 가능\n",
    "if 90 <= score <= 100: # if (90 <= score) & (score <= 100) 할 필요 없음\n",
    "    grade = 'A'\n",
    "elif 80 <= score < 90:\n",
    "    grade = 'B'\n",
    "elif 70 <= score < 80:\n",
    "    grade = 'C'\n",
    "elif 60 <= score < 70:\n",
    "    grade = 'D'\n",
    "else: \n",
    "    grade = '유효하지 않은 점수'\n",
    "print(\"입력하신 점수는 {}점이고, {}등급입니다.\".format(score, grade))"
   ]
  },
  {
   "cell_type": "markdown",
   "id": "77af7c65",
   "metadata": {},
   "source": [
    "# 2절. 반복문\n",
    "## 2.1 for-in문\n",
    "```\n",
    "for 임시변수 in 나열가능한자료 \n",
    "    반복할 문장1\n",
    "    반복할 문장2\n",
    "else:\n",
    "    나열가능한자료를 모두 소요하여 for블록을 다 수행한 후, 최종 한 번만 실행할 문장\n",
    "    for문안에 break가 있을 경우, else블럭은 수행되지 않음\n",
    "```"
   ]
  },
  {
   "cell_type": "code",
   "execution_count": 7,
   "id": "02bb2386",
   "metadata": {
    "ExecuteTime": {
     "end_time": "2024-11-07T04:09:16.514975Z",
     "start_time": "2024-11-07T04:09:16.509989Z"
    }
   },
   "outputs": [
    {
     "name": "stdout",
     "output_type": "stream",
     "text": [
      "1\t3\t5\t7\t9\t\n",
      "Done\n",
      "END\n"
     ]
    }
   ],
   "source": [
    "for i in range(1, 10, 2):\n",
    "    print(i, end='\\t')\n",
    "else:\n",
    "    print('\\nDone') # else의 필요성?\n",
    "print('END')"
   ]
  },
  {
   "cell_type": "code",
   "execution_count": 9,
   "id": "cb620299",
   "metadata": {
    "ExecuteTime": {
     "end_time": "2024-11-07T04:11:59.825944Z",
     "start_time": "2024-11-07T04:11:59.821888Z"
    }
   },
   "outputs": [
    {
     "name": "stdout",
     "output_type": "stream",
     "text": [
      "1\t3\tEND\n"
     ]
    }
   ],
   "source": [
    "for i in range(1, 10, 2):\n",
    "    if i == 5:\n",
    "        break\n",
    "    print(i, end='\\t')\n",
    "else:\n",
    "    print('\\nDone')\n",
    "print('END')"
   ]
  },
  {
   "cell_type": "code",
   "execution_count": 2,
   "id": "e609acd6",
   "metadata": {
    "ExecuteTime": {
     "end_time": "2024-11-07T05:17:39.660542Z",
     "start_time": "2024-11-07T05:17:39.655534Z"
    }
   },
   "outputs": [
    {
     "name": "stdout",
     "output_type": "stream",
     "text": [
      "1~100까지 짝수의 합은 2550\n"
     ]
    }
   ],
   "source": [
    "# 1~100까지 짝수의 합을 계산하고 출력하시오(for문)\n",
    "sum = 0 # 누적변수\n",
    "for i in range(1, 101):\n",
    "    if i % 2 == 0:\n",
    "        sum += i\n",
    "else:\n",
    "    pass # 아무 기능 없음\n",
    "print('1~100까지 짝수의 합은', sum)"
   ]
  },
  {
   "cell_type": "markdown",
   "id": "11f87dd2",
   "metadata": {},
   "source": [
    "## 2.2 while문\n",
    "```\n",
    "    while 조건:\n",
    "        조건이 참일 경우 반복할 문장1\n",
    "        조건이 참일 경우 반복할 문장1 ...\n",
    "    else:\n",
    "        조건이 거짓일 경우 한 번 실행할 문장(else구문 선택사항)\n",
    "```"
   ]
  },
  {
   "cell_type": "code",
   "execution_count": 3,
   "id": "3ea5bce6",
   "metadata": {
    "ExecuteTime": {
     "end_time": "2024-11-07T05:23:44.221883Z",
     "start_time": "2024-11-07T05:23:44.215918Z"
    }
   },
   "outputs": [
    {
     "name": "stdout",
     "output_type": "stream",
     "text": [
      "1~100까지 짝수의 합은 2550\n"
     ]
    }
   ],
   "source": [
    "# 1~100까지 짝수의 합을 계산하고 출력하시오(while)\n",
    "i = 1\n",
    "sum = 0 # 누적변수\n",
    "while i <= 100:\n",
    "    if i % 2 == 0:\n",
    "        sum += i\n",
    "    i += 1 # ++, -- 증감연산자가 파이썬에서는 없음\n",
    "else:\n",
    "    pass\n",
    "print(\"1~100까지 짝수의 합은\", sum)"
   ]
  },
  {
   "cell_type": "code",
   "execution_count": 5,
   "id": "078c13d6",
   "metadata": {
    "ExecuteTime": {
     "end_time": "2024-11-07T05:38:58.833068Z",
     "start_time": "2024-11-07T05:38:55.476172Z"
    }
   },
   "outputs": [
    {
     "name": "stdout",
     "output_type": "stream",
     "text": [
      "첫 번째 정수는>5\n",
      "두 번째 정수는>3\n",
      "3~5까지 홀수들의 합은 8입니다\n"
     ]
    }
   ],
   "source": [
    "# 사용자에게 두 정수 입력받아, 작은 수부터 큰 수까지 홀수의 합 누적해서 출력\n",
    "first = int(input('첫 번째 정수는>'))\n",
    "second = int(input('두 번째 정수는>'))\n",
    "\n",
    "if first >= second:\n",
    "    max = first\n",
    "    min = second \n",
    "else:\n",
    "    max = second\n",
    "    min = first\n",
    "sum = 0 # 누적변수\n",
    "# 1. for-in문\n",
    "# for i in range(min, max + 1):\n",
    "#     if i % 2 != 0: # (i % 2 == 1) | (i % 2 == -1)\n",
    "#         sum += i\n",
    "# print(\"{}~{}까지 홀수들의 합은 {}입니다\".format(min, max, sum))\n",
    "\n",
    "# while문\n",
    "i = min\n",
    "while i <= max:\n",
    "    if i % 2 != 0:\n",
    "        sum += i\n",
    "    i += 1\n",
    "print(\"{}~{}까지 홀수들의 합은 {}입니다\".format(min, max, sum))\n",
    "        "
   ]
  },
  {
   "cell_type": "code",
   "execution_count": 2,
   "id": "5033c52d",
   "metadata": {
    "ExecuteTime": {
     "end_time": "2024-11-07T06:33:49.311509Z",
     "start_time": "2024-11-07T06:33:49.304527Z"
    }
   },
   "outputs": [
    {
     "name": "stdout",
     "output_type": "stream",
     "text": [
      "6개 로또번호를 위해 랜덤수 8번 추출함\n",
      "정렬 전: {33, 35, 11, 45, 13, 25}\n",
      "정렬 후: [11, 13, 25, 33, 35, 45]\n"
     ]
    }
   ],
   "source": [
    "# ex2. 로또 번호 6개를 추출 후, 정렬하여 출력하시오\n",
    "import random # import 해야 shift + tab / tab 가능\n",
    "# random.seed(7) # seed값이 같으면 랜덤수가 같아짐\n",
    "lotto_set = set()\n",
    "cnt = 0 # 로또 번호 추출 횟수\n",
    "while len(lotto_set) < 6:\n",
    "    lotto_set.add(random.randint(1, 45))\n",
    "    cnt += 1\n",
    "print(\"6개 로또번호를 위해 랜덤수 {}번 추출함\".format(cnt))\n",
    "print(\"정렬 전:\", lotto_set)\n",
    "# 정렬 알고리즘\n",
    "# for i in range(len(lotto_lst) - 1):\n",
    "#     for j in range(i+1, len(lotto_lst)):\n",
    "#         if lotto_lst[i] > lotto_lst[j]:\n",
    "#             lotto_lst[i], lotto_lst[j] = lotto_lst[j], lotto_lst[i] # 값 위치 바꿈(파이썬은 동시에 가능)\n",
    "#         print(\"{}번째까지: {}\".format(i, lotto_lst[:i + 1]\n",
    "print(\"정렬 후:\", sorted(list(lotto_set)))"
   ]
  },
  {
   "cell_type": "code",
   "execution_count": 29,
   "id": "41bd91b2",
   "metadata": {
    "ExecuteTime": {
     "end_time": "2024-11-07T06:36:04.182523Z",
     "start_time": "2024-11-07T06:36:04.175740Z"
    }
   },
   "outputs": [
    {
     "data": {
      "text/plain": [
       "[9, 13, 14, 15, 16, 28]"
      ]
     },
     "execution_count": 29,
     "metadata": {},
     "output_type": "execute_result"
    }
   ],
   "source": [
    "# ex2. 1~45개 중에 6개 뽑기(sample은 중복 X)\n",
    "sorted(random.sample(range(1, 46), 6))"
   ]
  },
  {
   "cell_type": "markdown",
   "id": "87337833",
   "metadata": {
    "ExecuteTime": {
     "end_time": "2024-11-07T06:24:10.582771Z",
     "start_time": "2024-11-07T06:24:10.576785Z"
    }
   },
   "source": [
    "## 2.3 break, continue"
   ]
  },
  {
   "cell_type": "code",
   "execution_count": 34,
   "id": "33abcc04",
   "metadata": {
    "ExecuteTime": {
     "end_time": "2024-11-07T06:39:02.701795Z",
     "start_time": "2024-11-07T06:39:02.695764Z"
    }
   },
   "outputs": [
    {
     "name": "stdout",
     "output_type": "stream",
     "text": [
      "1 2 3 4 6 7 8 9 10 DONE\n"
     ]
    }
   ],
   "source": [
    "num = 0 \n",
    "while num < 10:\n",
    "    num += 1\n",
    "    if num == 5:\n",
    "        # break\n",
    "        continue\n",
    "    print(num, end=' ')\n",
    "print('DONE')"
   ]
  },
  {
   "cell_type": "code",
   "execution_count": 36,
   "id": "998b5948",
   "metadata": {
    "ExecuteTime": {
     "end_time": "2024-11-07T07:00:00.570218Z",
     "start_time": "2024-11-07T06:59:26.407985Z"
    }
   },
   "outputs": [
    {
     "name": "stdout",
     "output_type": "stream",
     "text": [
      "컴퓨터가 발생한 임의의 수: 62\n",
      "1~100 사이의 수를 맞춰 보세요 > 50\n",
      "UP ↑\n",
      "1~100 사이의 수를 맞춰 보세요 > 21\n",
      "UP ↑\n",
      "1~100 사이의 수를 맞춰 보세요 > 80\n",
      "DOWN ↓\n",
      "1~100 사이의 수를 맞춰 보세요 > 54\n",
      "UP ↑\n",
      "1~100 사이의 수를 맞춰 보세요 > 77\n",
      "DOWN ↓\n",
      "1~100 사이의 수를 맞춰 보세요 > 62\n",
      "축하 축하 맞추셨습니다\n",
      "DONE\n"
     ]
    }
   ],
   "source": [
    "# 숫자 찾기 게임\n",
    "'''\n",
    "1~100사이 정수를 맞추는 프로그램\n",
    "(프로그램 안에서 random수가 만들어지고 그 random수 맞추기)\n",
    "1단계: 숫자를 못 맞추면 UP/DOWN을 출력하고, 맞추면 축하 메세지 뿌리고 끝남\n",
    "2단계: 숫자를 못 맞추면 min/max를 조정하고, 맞추면 축하 메세지 뿌리고 끝남\n",
    "3단계: 2단계의 기회를 5회 제한. 5회의 기회가 끝나면 실패 메세지 뿌리고 끝남\n",
    "(2단계와 3단계 연습문제)\n",
    "'''\n",
    "randomNum = random.randint(1, 100) # 1~100 랜덤수\n",
    "print(\"컴퓨터가 발생한 임의의 수:\", randomNum)\n",
    "inputNum = 0 # 사용자가 입력한 수가 저장될 변수\n",
    "# 1. while문 조건: 랜덤 수 != input 받은 수\n",
    "# while randomNum != inputNum: \n",
    "#     inputNum = int(input('1~100 사이의 수를 맞춰 보세요 > ')) # 사용자 input\n",
    "#     # 1~100 범위 초과할 경우\n",
    "#     if (inputNum < 1) | (inputNum > 100): # 괄호 주의\n",
    "#         print('올바른 범위가 아닙니다')\n",
    "#     elif randomNum < inputNum:\n",
    "#         print('DOWN ↓')\n",
    "#     elif randomNum > inputNum:\n",
    "#         print('UP ↑')\n",
    "#     else:\n",
    "#         print('축하 축하 맞추셨습니다')\n",
    "# print('DONE')\n",
    "\n",
    "# 2. while문 조건 True\n",
    "while True: # 조건 True도 무관\n",
    "    inputNum = int(input('1~100 사이의 수를 맞춰 보세요 > ')) # 사용자 input\n",
    "    # 1~100 범위 초과할 경우\n",
    "    if (inputNum < 1) | (inputNum > 100): # 괄호 주의\n",
    "        print('올바른 범위가 아닙니다')\n",
    "    elif randomNum < inputNum:\n",
    "        print('DOWN ↓')\n",
    "    elif randomNum > inputNum:\n",
    "        print('UP ↑')\n",
    "    else:\n",
    "        print('축하 축하 맞추셨습니다')\n",
    "        break\n",
    "print('DONE')"
   ]
  },
  {
   "cell_type": "code",
   "execution_count": null,
   "id": "ad609ad3",
   "metadata": {},
   "outputs": [],
   "source": [
    "# 2단계\n",
    "min = 1\n",
    "max = 100\n",
    "while True: # 조건 True도 무관\n",
    "    inputNum = int(input('1~100 사이의 수를 맞춰 보세요 > ')) # 사용자 input\n",
    "    # 1~100 범위 초과할 경우\n",
    "    if (inputNum < 1) | (inputNum > 100): # 괄호 주의\n",
    "        print('올바른 범위가 아닙니다')\n",
    "    elif randomNum < inputNum:\n",
    "            max = randomNum\n",
    "        print('{}')\n",
    "    elif randomNum > inputNum:\n",
    "        print('UP ↑')\n",
    "    else:\n",
    "        print('축하 축하 맞추셨습니다')\n",
    "        break\n",
    "print('DONE')"
   ]
  },
  {
   "cell_type": "code",
   "execution_count": null,
   "id": "d7649655",
   "metadata": {},
   "outputs": [],
   "source": [
    "# 3단계"
   ]
  },
  {
   "cell_type": "markdown",
   "id": "393f358c",
   "metadata": {},
   "source": [
    "# 3절. 중첩루프\n",
    "(반복문 안 반복문)"
   ]
  },
  {
   "cell_type": "code",
   "execution_count": 57,
   "id": "98a9fb3b",
   "metadata": {
    "ExecuteTime": {
     "end_time": "2024-11-07T07:22:44.555250Z",
     "start_time": "2024-11-07T07:22:44.539598Z"
    }
   },
   "outputs": [
    {
     "name": "stdout",
     "output_type": "stream",
     "text": [
      "  2단  \t  3단  \t  4단  \t  5단  \t  6단  \t  7단  \t  8단  \t  9단  \t\n",
      "2x1= 2\t3x1= 3\t4x1= 4\t5x1= 5\t6x1= 6\t7x1= 7\t8x1= 8\t9x1= 9\t\n",
      "2x2= 4\t3x2= 6\t4x2= 8\t5x2=10\t6x2=12\t7x2=14\t8x2=16\t9x2=18\t\n",
      "2x3= 6\t3x3= 9\t4x3=12\t5x3=15\t6x3=18\t7x3=21\t8x3=24\t9x3=27\t\n",
      "2x4= 8\t3x4=12\t4x4=16\t5x4=20\t6x4=24\t7x4=28\t8x4=32\t9x4=36\t\n",
      "2x5=10\t3x5=15\t4x5=20\t5x5=25\t6x5=30\t7x5=35\t8x5=40\t9x5=45\t\n",
      "2x6=12\t3x6=18\t4x6=24\t5x6=30\t6x6=36\t7x6=42\t8x6=48\t9x6=54\t\n",
      "2x7=14\t3x7=21\t4x7=28\t5x7=35\t6x7=42\t7x7=49\t8x7=56\t9x7=63\t\n",
      "2x8=16\t3x8=24\t4x8=32\t5x8=40\t6x8=48\t7x8=56\t8x8=64\t9x8=72\t\n",
      "2x9=18\t3x9=27\t4x9=36\t5x9=45\t6x9=54\t7x9=63\t8x9=72\t9x9=81\t\n"
     ]
    }
   ],
   "source": [
    "# 2~9단 구구단 출력\n",
    "for i in range(2, 10): # 단수 표시\n",
    "    print(\"{:^6}\".format(str(i) + \"단\"), end='\\t') # ^ 가운데 정렬\n",
    "print() # 개행\n",
    "for i in range(1, 10):\n",
    "    for j in range(2, 10):\n",
    "        print(\"{}x{}={:>2}\".format(j, i, i*j), end='\\t') # > 오른쪽 정렬\n",
    "    print() # 개행"
   ]
  },
  {
   "cell_type": "code",
   "execution_count": 8,
   "id": "a05a4174",
   "metadata": {
    "ExecuteTime": {
     "end_time": "2024-11-07T07:40:27.263820Z",
     "start_time": "2024-11-07T07:40:27.258114Z"
    }
   },
   "outputs": [
    {
     "name": "stdout",
     "output_type": "stream",
     "text": [
      "0:1\t1:2\t2:3\t\n",
      "데이터만 출력\n",
      "1\t2\t3\t"
     ]
    }
   ],
   "source": [
    "# 1차원 리스트\n",
    "lst = [1, 2, 3]\n",
    "# 1차원 리스트 출력\n",
    "# sol 1\n",
    "for i in range(len(lst)):\n",
    "    print(\"{}:{}\".format(i, lst[i]), end='\\t')\n",
    "# sol 2\n",
    "print('\\n데이터만 출력')\n",
    "for l in lst:\n",
    "    print(l, end='\\t')"
   ]
  },
  {
   "cell_type": "code",
   "execution_count": 16,
   "id": "5ab17728",
   "metadata": {
    "ExecuteTime": {
     "end_time": "2024-11-07T07:44:21.800314Z",
     "start_time": "2024-11-07T07:44:21.794323Z"
    }
   },
   "outputs": [
    {
     "name": "stdout",
     "output_type": "stream",
     "text": [
      "0행 0열: 1\t0행 1열: 2\t0행 2열: 3\t0행 3열: 4\t\n",
      "1행 0열: 5\t1행 1열: 6\t1행 2열: 7\t1행 3열: 8\t\n",
      "2행 0열: 1\t2행 1열: 2\t2행 2열: 3\t2행 3열: 4\t\n",
      "데이터만 출력\n",
      "1\t2\t3\t4\t\n",
      "5\t6\t7\t8\t\n",
      "1\t2\t3\t4\t\n"
     ]
    }
   ],
   "source": [
    "# 2차원 리스트\n",
    "lst_2d = [[1, 2, 3, 4],\n",
    "          [5, 6, 7, 8], \n",
    "          [1, 2, 3, 4],] # 논리적으로 3행 4열\n",
    "# 2차원 리스트 출력(for문 2번)\n",
    "# sol 1\n",
    "for i in range(len(lst_2d)):        # i (행)\n",
    "    for j in range(len(lst_2d[i])): # j (열)\n",
    "        print(\"{}행 {}열: {}\".format(i, j, lst_2d[i][j]), end='\\t')\n",
    "    print() # 개행\n",
    "# sol 2\n",
    "print('데이터만 출력')\n",
    "for row in lst_2d:\n",
    "    for data in row:\n",
    "        print(data, end='\\t')\n",
    "    print() # 개행"
   ]
  },
  {
   "cell_type": "code",
   "execution_count": 17,
   "id": "dcac3d70",
   "metadata": {
    "ExecuteTime": {
     "end_time": "2024-11-07T07:46:05.485926Z",
     "start_time": "2024-11-07T07:46:05.474465Z"
    }
   },
   "outputs": [
    {
     "name": "stdout",
     "output_type": "stream",
     "text": [
      "[[[1, 2, 3, 4.0], [5, 6, 7, 8], [1, 2, 3, 4]], [[1, 2, 3, 4], [5, 6, 7, 8], [1, 2, 3, 4]]]\n",
      "[[1, 2, 3, 4.0], [5, 6, 7, 8], [1, 2, 3, 4]]\n",
      "[1, 2, 3, 4.0]\n"
     ]
    },
    {
     "data": {
      "text/plain": [
       "[[1, 2, 3, 4.0], [5, 6, 7, 8], [1, 2, 3, 4]]"
      ]
     },
     "execution_count": 17,
     "metadata": {},
     "output_type": "execute_result"
    }
   ],
   "source": [
    "# 3차원 리스트\n",
    "lst_3d = [\n",
    "    [[1, 2, 3, 4.0],\n",
    "     [5, 6, 7, 8], \n",
    "     [1, 2, 3, 4],],\n",
    "    [[1, 2, 3, 4],\n",
    "     [5, 6, 7, 8], \n",
    "     [1, 2, 3, 4],] # 논리적으로 2면 3행 4열\n",
    "]\n",
    "print(lst_3d)\n",
    "# 3차원 리스트의 0면\n",
    "print(lst_3d[0]) # 2차원 리스트\n",
    "# 3차원 리스트의 0면 0행\n",
    "print(lst_3d[0][0])"
   ]
  },
  {
   "cell_type": "code",
   "execution_count": 32,
   "id": "4b6c6cf9",
   "metadata": {
    "ExecuteTime": {
     "end_time": "2024-11-07T07:56:22.018004Z",
     "start_time": "2024-11-07T07:56:22.011024Z"
    }
   },
   "outputs": [
    {
     "name": "stdout",
     "output_type": "stream",
     "text": [
      "0면0행0열: 1\t0면0행1열: 2\t0면0행2열: 3\t0면0행3열: 4.0\t\n",
      "0면1행0열: 5\t0면1행1열: 6\t0면1행2열: 7\t0면1행3열: 8\t\n",
      "0면2행0열: 1\t0면2행1열: 2\t0면2행2열: 3\t0면2행3열: 4\t\n",
      "----------------------------------------------------------------\n",
      "1면0행0열: 1\t1면0행1열: 2\t1면0행2열: 3\t1면0행3열: 4\t\n",
      "1면1행0열: 5\t1면1행1열: 6\t1면1행2열: 7\t1면1행3열: 8\t\n",
      "1면2행0열: 1\t1면2행1열: 2\t1면2행2열: 3\t1면2행3열: 4\t\n",
      "----------------------------------------------------------------\n"
     ]
    }
   ],
   "source": [
    "# 3차원 리스트 출력\n",
    "# sol 1\n",
    "for i in range(len(lst_3d)):               # i (면 = 2차원 리스트)\n",
    "    for j in range(len(lst_3d[i])):        # j (행)\n",
    "        for k in range(len(lst_3d[i][j])): # k (열)\n",
    "            print(\"{}면{}행{}열: {}\".format(i, j, k, \\\n",
    "                                          lst_3d[i][j][k]), end='\\t')\n",
    "        print() # 개행\n",
    "    print('----------------------------------------------------------------')"
   ]
  },
  {
   "cell_type": "code",
   "execution_count": 30,
   "id": "f847bc82",
   "metadata": {
    "ExecuteTime": {
     "end_time": "2024-11-07T07:54:52.095586Z",
     "start_time": "2024-11-07T07:54:52.090601Z"
    }
   },
   "outputs": [
    {
     "name": "stdout",
     "output_type": "stream",
     "text": [
      "데이터만\n",
      "1\t2\t3\t4.0\t\n",
      "5\t6\t7\t8\t\n",
      "1\t2\t3\t4\t\n",
      "----------------------------------------------------------------\n",
      "1\t2\t3\t4\t\n",
      "5\t6\t7\t8\t\n",
      "1\t2\t3\t4\t\n",
      "----------------------------------------------------------------\n"
     ]
    }
   ],
   "source": [
    "# sol 2\n",
    "print('데이터만')\n",
    "for face in lst_3d:      # 면\n",
    "    for row in face:     # 행\n",
    "        for data in row: # 열\n",
    "            print(data, end='\\t')\n",
    "        print() # 개행\n",
    "    print('----------------------------------------------------------------')"
   ]
  },
  {
   "cell_type": "markdown",
   "id": "9c234701",
   "metadata": {},
   "source": [
    "# 4절. 중첩루프 탈출"
   ]
  },
  {
   "cell_type": "code",
   "execution_count": 46,
   "id": "713004ee",
   "metadata": {
    "ExecuteTime": {
     "end_time": "2024-11-07T08:25:09.960085Z",
     "start_time": "2024-11-07T08:25:09.955099Z"
    }
   },
   "outputs": [
    {
     "name": "stdout",
     "output_type": "stream",
     "text": [
      "0 1\n",
      "0 2\n",
      "DONE\n"
     ]
    }
   ],
   "source": [
    "# 중첩 루프 탈출\n",
    "# sol 1. flag변수 이용(깃발, boolean형 변수)\n",
    "flag = False              # break를 만나면 True\n",
    "for a in range(0, 3):     # a <= 0, 1, 2\n",
    "    for b in range(1, 3): # b <= 1, 2\n",
    "        if a == b:\n",
    "            flag = True\n",
    "            break         # 바깥 for블럭으로 탈출 불가\n",
    "        print(a, b)\n",
    "    if flag: \n",
    "        break\n",
    "print('DONE')"
   ]
  },
  {
   "cell_type": "code",
   "execution_count": 41,
   "id": "5731bcef",
   "metadata": {
    "ExecuteTime": {
     "end_time": "2024-11-07T08:20:42.566029Z",
     "start_time": "2024-11-07T08:20:42.561513Z"
    }
   },
   "outputs": [],
   "source": [
    "# sol 2. Exception을 상속받은 BreakOutLoopException 클래스 생성\n",
    "# 파이썬에서 Exception을 Error라고도 함\n",
    "# 이미지 학습 시 사용\n",
    "class BreakOutLoopException(Exception): # 자바의 extend와 유사 \n",
    "    pass"
   ]
  },
  {
   "cell_type": "code",
   "execution_count": 45,
   "id": "e65df79e",
   "metadata": {
    "ExecuteTime": {
     "end_time": "2024-11-07T08:24:47.689116Z",
     "start_time": "2024-11-07T08:24:47.683104Z"
    }
   },
   "outputs": [
    {
     "name": "stdout",
     "output_type": "stream",
     "text": [
      "0 1\n",
      "0 2\n",
      "DONE\n"
     ]
    }
   ],
   "source": [
    "try:\n",
    "    for a in range(0, 3):     # a <= 0, 1, 2\n",
    "        for b in range(1, 3): # b <= 1, 2\n",
    "            if a == b:\n",
    "                raise BreakOutLoopException # 강제 예외 발생\n",
    "            print(a, b)\n",
    "except BreakOutLoopException:\n",
    "    print('DONE')"
   ]
  },
  {
   "cell_type": "code",
   "execution_count": 23,
   "id": "46e60f53",
   "metadata": {
    "ExecuteTime": {
     "end_time": "2024-11-07T08:54:33.797471Z",
     "start_time": "2024-11-07T08:54:32.059763Z"
    }
   },
   "outputs": [
    {
     "name": "stdout",
     "output_type": "stream",
     "text": [
      "양의 정수를 입력하세요 > 5\n",
      "입력하신 숫자 5은 홀수입니다\n"
     ]
    }
   ],
   "source": [
    "# 1. 양의 정수를 입력 받아 홀수인지 짝수인지를 판별하는 프로그램을 작성하세요. 양의 정수가 아니면 숫자를 다시 입력 받아야 합니다\n",
    "inputNum = 0\n",
    "while inputNum <= 0:\n",
    "        inputNum = int(input('양의 정수를 입력하세요 > '))\n",
    "        if inputNum < 0:\n",
    "            print(\"숫자 범위가 올바르지 않습니다\")\n",
    "if inputNum % 2 == 0:\n",
    "    print(\"입력하신 숫자 {}은 짝수입니다\".format(inputNum))\n",
    "else:\n",
    "    print(\"입력하신 숫자 {}은 홀수입니다\".format(inputNum))"
   ]
  },
  {
   "cell_type": "code",
   "execution_count": 54,
   "id": "ee3b0b5c",
   "metadata": {
    "ExecuteTime": {
     "end_time": "2024-11-07T09:02:57.857716Z",
     "start_time": "2024-11-07T09:02:57.851730Z"
    }
   },
   "outputs": [
    {
     "name": "stdout",
     "output_type": "stream",
     "text": [
      "*****\n",
      "\n",
      "\n",
      "*\n",
      "**\n",
      "***\n",
      "****\n",
      "*****\n",
      "*****\n",
      "\n",
      "\n",
      "*\n",
      "**\n",
      "***\n",
      "****\n",
      "*****\n",
      "*****\n",
      "\n",
      "\n",
      "*\n",
      "**\n",
      "***\n",
      "****\n",
      "*****\n",
      "*****\n",
      "\n",
      "\n",
      "*\n",
      "**\n",
      "***\n",
      "****\n",
      "*****\n",
      "*****\n",
      "\n",
      "\n",
      "*\n",
      "**\n",
      "***\n",
      "****\n",
      "*****\n",
      "*****\n",
      "\n",
      "\n",
      "*\n",
      "**\n",
      "***\n",
      "****\n",
      "*****\n"
     ]
    }
   ],
   "source": [
    "# 2. 중첩 for문을 이용하여 아래 패턴의 별을 출력하는 프로그램을 작성하세요.\n",
    "for i in range(6):\n",
    "    print(\"*\"*5)\n",
    "    print()\n",
    "    for j in range(6):\n",
    "        print('*' * j)\n",
    "        j -= 1\n",
    "        "
   ]
  },
  {
   "cell_type": "code",
   "execution_count": null,
   "id": "d2464639",
   "metadata": {},
   "outputs": [],
   "source": []
  },
  {
   "cell_type": "code",
   "execution_count": null,
   "id": "09bfddf6",
   "metadata": {},
   "outputs": [],
   "source": []
  },
  {
   "cell_type": "code",
   "execution_count": null,
   "id": "2299ab8c",
   "metadata": {},
   "outputs": [],
   "source": []
  }
 ],
 "metadata": {
  "kernelspec": {
   "display_name": "Python 3 (ipykernel)",
   "language": "python",
   "name": "python3"
  },
  "language_info": {
   "codemirror_mode": {
    "name": "ipython",
    "version": 3
   },
   "file_extension": ".py",
   "mimetype": "text/x-python",
   "name": "python",
   "nbconvert_exporter": "python",
   "pygments_lexer": "ipython3",
   "version": "3.10.9"
  },
  "toc": {
   "base_numbering": 1,
   "nav_menu": {},
   "number_sections": true,
   "sideBar": true,
   "skip_h1_title": false,
   "title_cell": "Table of Contents",
   "title_sidebar": "Contents",
   "toc_cell": false,
   "toc_position": {
    "height": "calc(100% - 180px)",
    "left": "10px",
    "top": "150px",
    "width": "165px"
   },
   "toc_section_display": true,
   "toc_window_display": true
  }
 },
 "nbformat": 4,
 "nbformat_minor": 5
}
