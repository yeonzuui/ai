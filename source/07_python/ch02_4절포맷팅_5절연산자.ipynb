{
 "cells": [
  {
   "cell_type": "code",
   "execution_count": 1,
   "id": "70be0f54",
   "metadata": {
    "ExecuteTime": {
     "end_time": "2024-11-05T06:22:55.000275Z",
     "start_time": "2024-11-05T06:22:54.989541Z"
    }
   },
   "outputs": [
    {
     "data": {
      "text/html": [
       "\n",
       "<style>\n",
       "div.container{width:80% !important;}\n",
       "div.CodeMirror {font-family:Consolas; font-size:16pt;}\n",
       "div.output {font-size:16pt; font-weight:bold;}\n",
       "div.input {font-family:Consolas; font-size:16pt;}\n",
       "div.prompt {min-width:70px;}\n",
       "div#toc-header{margin-top:150px;}\n",
       "</style>\n",
       "<style>\n",
       "span.toc-item-num{\n",
       "display:none;\n",
       "}\n",
       "</style>\n"
      ],
      "text/plain": [
       "<IPython.core.display.HTML object>"
      ]
     },
     "metadata": {},
     "output_type": "display_data"
    }
   ],
   "source": [
    "from IPython.display import display, HTML\n",
    "display(HTML(\"\"\"\n",
    "<style>\n",
    "div.container{width:80% !important;}\n",
    "div.CodeMirror {font-family:Consolas; font-size:16pt;}\n",
    "div.output {font-size:16pt; font-weight:bold;}\n",
    "div.input {font-family:Consolas; font-size:16pt;}\n",
    "div.prompt {min-width:70px;}\n",
    "div#toc-header{margin-top:150px;}\n",
    "</style>\n",
    "<style>\n",
    "span.toc-item-num{\n",
    "display:none;\n",
    "}\n",
    "</style>\n",
    "\"\"\"))"
   ]
  },
  {
   "cell_type": "markdown",
   "id": "51e33c09",
   "metadata": {},
   "source": [
    "<b><font size=\"6\" color=\"red\">ch02.자료형과 연산자</font></b>"
   ]
  },
  {
   "cell_type": "markdown",
   "id": "2ba9a88a",
   "metadata": {},
   "source": [
    "# 4절. 포맷팅\n",
    "    - 포맷팅이란, 출력할 문자, 숫자, 날짜 데이터에 형식을 지정하는 것\n",
    "    - 변수와 텍스트를 결합해서 보기 좋은 형식의 새로운 텍스트를 만들 수도 있음"
   ]
  },
  {
   "cell_type": "markdown",
   "id": "c357dca1",
   "metadata": {},
   "source": [
    "## 4.1 문자열에 형식 지정"
   ]
  },
  {
   "cell_type": "code",
   "execution_count": 3,
   "id": "e930271d",
   "metadata": {
    "ExecuteTime": {
     "end_time": "2024-11-05T03:00:09.196328Z",
     "start_time": "2024-11-05T03:00:09.192318Z"
    }
   },
   "outputs": [
    {
     "name": "stdout",
     "output_type": "stream",
     "text": [
      "홍길동 님의 나이는  30 살입니다\n"
     ]
    }
   ],
   "source": [
    "name = \"홍길동\"\n",
    "age  = 30\n",
    "print(name, '님의 나이는 ', age, '살입니다')"
   ]
  },
  {
   "cell_type": "code",
   "execution_count": 5,
   "id": "c86f6675",
   "metadata": {
    "ExecuteTime": {
     "end_time": "2024-11-05T03:04:17.036912Z",
     "start_time": "2024-11-05T03:04:17.031926Z"
    }
   },
   "outputs": [
    {
     "name": "stdout",
     "output_type": "stream",
     "text": [
      "홍길동님의 나이는 30살입니다\n",
      "홍길동님의 나이는 30살입니다\n"
     ]
    }
   ],
   "source": [
    "# %s문자, %d10진수정수, %f실수\n",
    "print(\"%s님의 나이는 %d살입니다\"%(name, age) ) # String\n",
    "print(f\"{name}님의 나이는 {age}살입니다\")"
   ]
  },
  {
   "cell_type": "code",
   "execution_count": 9,
   "id": "6b2a4f2e",
   "metadata": {
    "ExecuteTime": {
     "end_time": "2024-11-05T03:08:20.564993Z",
     "start_time": "2024-11-05T03:08:20.559029Z"
    }
   },
   "outputs": [
    {
     "name": "stdout",
     "output_type": "stream",
     "text": [
      "홍길동님의 나이는 30살입니다\n",
      "홍길동님의 나이는 30살입니다\n",
      "30살 홍길동님 반갑습니다. 홍길동님 어서오세요\n"
     ]
    }
   ],
   "source": [
    "print(\"{}님의 나이는 {}살입니다\".format(name, age))\n",
    "print(\"{0}님의 나이는 {1}살입니다\".format(name, age))\n",
    "print(\"{0}살 {1}님 반갑습니다. {1}님 어서오세요\".format(age, name))"
   ]
  },
  {
   "cell_type": "markdown",
   "id": "38262119",
   "metadata": {},
   "source": [
    "## 4.2 format() 문법"
   ]
  },
  {
   "cell_type": "code",
   "execution_count": null,
   "id": "db84026d",
   "metadata": {},
   "outputs": [],
   "source": [
    "# \"{[인덱스]:[공백대체문자][정렬방법][자릿수][타입]}\".format(변수명)\n",
    "\n",
    "    # 인덱스: format함수 안의 매개변수의 순서\n",
    "    # 정렬방법: <(왼쪽정렬), >(오른쪽정렬), ^(가운데정렬)\n",
    "    # 정수자릿수: 출력할 자릿수. 변수 내용보다 작은 자릿수가 지정되면 자릿수 지정 무시\n",
    "    # 실수자릿수: 전체출력될자리수. 변수중에출력할자리수\n",
    "    # 타입: d(10진수정수), o(8진수), b(2진수), x(16진수), f(실수), s(문자)"
   ]
  },
  {
   "cell_type": "code",
   "execution_count": 11,
   "id": "0495d069",
   "metadata": {
    "ExecuteTime": {
     "end_time": "2024-11-05T03:40:35.273163Z",
     "start_time": "2024-11-05T03:40:31.728610Z"
    }
   },
   "outputs": [
    {
     "name": "stdout",
     "output_type": "stream",
     "text": [
      "이름은?홍길동\n",
      "나이는?20\n",
      "20살 홍길동님 안녕하세요\n",
      "20   살 홍길동_______님 안녕하세요\n"
     ]
    }
   ],
   "source": [
    "name = input('이름은?')\n",
    "age  = int(input('나이는?'))\n",
    "print('{}살 {}님 안녕하세요'.format(age, name))\n",
    "# 공백대체문자를 쓸 경우 정렬방식을 기입해야 함\n",
    "print('{0:<5}살 {1:_<10}님 안녕하세요'.format(age, name))"
   ]
  },
  {
   "cell_type": "code",
   "execution_count": 16,
   "id": "9f471fc4",
   "metadata": {
    "ExecuteTime": {
     "end_time": "2024-11-05T03:45:37.157299Z",
     "start_time": "2024-11-05T03:45:37.152290Z"
    }
   },
   "outputs": [
    {
     "name": "stdout",
     "output_type": "stream",
     "text": [
      "[12345],[     12345], [12345]\n",
      "[Hello],[Hello     ], [Hello]\n"
     ]
    }
   ],
   "source": [
    "# 숫자의 경우 오른쪽 정렬(기본값)\n",
    "# 문자의 경우 왼쪽 정렬(기본값)\n",
    "# 변수보다 작은 자리수를 지정하면 자릿수가 무시되고 다 출력\n",
    "a = 12345\n",
    "s = 'Hello'\n",
    "print(\"[{}],[{:10}], [{:3}]\".format(a, a, a))\n",
    "print(\"[{0}],[{0:10}], [{0:3}]\".format(s, s, s))"
   ]
  },
  {
   "cell_type": "code",
   "execution_count": 20,
   "id": "a9b9cace",
   "metadata": {
    "ExecuteTime": {
     "end_time": "2024-11-05T03:50:50.637605Z",
     "start_time": "2024-11-05T03:50:50.632619Z"
    }
   },
   "outputs": [
    {
     "name": "stdout",
     "output_type": "stream",
     "text": [
      "[10    ], [  20  ], [     3]\n"
     ]
    }
   ],
   "source": [
    "# 정렬방법: < ^ >\n",
    "a, b, c = 10, 20, 3\n",
    "print(\"[{:<6}], [{:^6}], [{:>6}]\".format(a, b, c))"
   ]
  },
  {
   "cell_type": "code",
   "execution_count": 24,
   "id": "8423f81b",
   "metadata": {
    "ExecuteTime": {
     "end_time": "2024-11-05T03:57:28.909851Z",
     "start_time": "2024-11-05T03:57:28.903861Z"
    }
   },
   "outputs": [
    {
     "name": "stdout",
     "output_type": "stream",
     "text": [
      "[$$$$$$$$10], [     10.00], [     123.6], [________He]\n"
     ]
    }
   ],
   "source": [
    "# 실수자릿수\n",
    "a = 10\n",
    "f = 123.56\n",
    "s = 'Hello'\n",
    "print('[{0:$>10}], [{0:10.2f}], [{1:10.1f}], [{2:_>10.2}]'.format(a, f, s))\n",
    "                                             # 2번 매개변수를 10자리 확보하여 변수의 2자리만 출력"
   ]
  },
  {
   "cell_type": "code",
   "execution_count": 2,
   "id": "1d7e24c1",
   "metadata": {
    "ExecuteTime": {
     "end_time": "2024-11-05T05:15:46.927350Z",
     "start_time": "2024-11-05T05:15:46.921344Z"
    }
   },
   "outputs": [
    {
     "name": "stdout",
     "output_type": "stream",
     "text": [
      "[$$$$$$$123]\n"
     ]
    }
   ],
   "source": [
    "# 공백대체문자를 쓸 경우 반드시 정렬방식을 표현\n",
    "print(\"[{:$>10}]\".format(a))\n",
    "# print(\"[{:$10}]\".format(a)) 에러남"
   ]
  },
  {
   "cell_type": "code",
   "execution_count": 1,
   "id": "7726fa02",
   "metadata": {
    "ExecuteTime": {
     "end_time": "2024-11-05T05:15:30.406571Z",
     "start_time": "2024-11-05T05:15:30.397075Z"
    }
   },
   "outputs": [
    {
     "name": "stdout",
     "output_type": "stream",
     "text": [
      "[      -123], [      +123], [       123]\n",
      "[-      123], [       123], [       123]\n",
      "[-      123], [+      123], [       123]\n",
      "[-000000123], [+000000123], [0000000123]\n",
      "[-★★★★★★123], [+☆☆☆☆☆☆123], [※※※123※※※※]\n"
     ]
    }
   ],
   "source": [
    "# 자리수앞에 +를 붙이면 양수의 경우도 부호를 붙여줌\n",
    "# 자리수앞에 =를 붙이면 부호가 자릿수 맨앞에 표시됨(음수의 경우)\n",
    "# 자리수앞에 =+를 붙이면 부호가 자릿수 맨앞에 표시됨(양수, 음수 모두)\n",
    "# 자리수앞에 0을 채우면 빈자리에 0을 채움\n",
    "# 공백대체문자를 쓸 경우 자리수 앞의 0이 무시\n",
    "a, b = 123, -123\n",
    "print(\"[{:+10}], [{:+10}], [{:10}]\".format(b, a, a))\n",
    "print(\"[{:=10}], [{:=10}], [{:10}]\".format(b, a, a))\n",
    "print(\"[{:=+10}], [{:=+10}], [{:10}]\".format(b, a, a))\n",
    "print(\"[{:+010}], [{:+010}], [{:010}]\".format(b, a, a))\n",
    "print(\"[{:★=+010}], [{:☆=+010}], [{:※^10}]\".format(b, a, a))"
   ]
  },
  {
   "cell_type": "code",
   "execution_count": 6,
   "id": "13bfa09f",
   "metadata": {
    "ExecuteTime": {
     "end_time": "2024-11-05T05:17:10.903262Z",
     "start_time": "2024-11-05T05:17:10.898276Z"
    }
   },
   "outputs": [
    {
     "name": "stdout",
     "output_type": "stream",
     "text": [
      "a = [       2.8]\n",
      "s = [he        ]\n"
     ]
    }
   ],
   "source": [
    "# 전체자리수.표현될자리수\n",
    "a = 2.758\n",
    "s = \"hello\"\n",
    "print(\"a = [{:10.2}]\".format(a))\n",
    "print(\"s = [{:10.2}]\".format(s))"
   ]
  },
  {
   "cell_type": "code",
   "execution_count": 8,
   "id": "95266bbc",
   "metadata": {
    "ExecuteTime": {
     "end_time": "2024-11-05T05:17:44.294254Z",
     "start_time": "2024-11-05T05:17:44.290256Z"
    }
   },
   "outputs": [
    {
     "name": "stdout",
     "output_type": "stream",
     "text": [
      "a = [      2.76]\n"
     ]
    }
   ],
   "source": [
    "# 전체자리수.표현될자리수\n",
    "print(\"a = [{:10.2f}]\".format(a))"
   ]
  },
  {
   "cell_type": "code",
   "execution_count": 12,
   "id": "f92f0697",
   "metadata": {
    "ExecuteTime": {
     "end_time": "2024-11-05T05:31:35.990984Z",
     "start_time": "2024-11-05T05:31:35.985984Z"
    }
   },
   "outputs": [
    {
     "name": "stdout",
     "output_type": "stream",
     "text": [
      "10진수: [   15]\n",
      "16진수: [    f]\n",
      "8진수: [   17]\n",
      "2진수: [ 1111]\n"
     ]
    }
   ],
   "source": [
    "# 10진수, 8진수, 16진수, 2진수 출력\n",
    "a = 15\n",
    "print(\"10진수: [{:5d}]\".format(a))\n",
    "print(\"16진수: [{:5x}]\".format(a))\n",
    "print(\"8진수: [{:5o}]\".format(a))\n",
    "print(\"2진수: [{:5b}]\".format(a))"
   ]
  },
  {
   "cell_type": "code",
   "execution_count": 13,
   "id": "db67acf3",
   "metadata": {
    "ExecuteTime": {
     "end_time": "2024-11-05T05:31:59.086722Z",
     "start_time": "2024-11-05T05:31:59.082828Z"
    }
   },
   "outputs": [
    {
     "name": "stdout",
     "output_type": "stream",
     "text": [
      "[     +2.79]\n"
     ]
    }
   ],
   "source": [
    "a = 2.785\n",
    "print(\"[{:+10.3}]\".format(a))"
   ]
  },
  {
   "cell_type": "code",
   "execution_count": 16,
   "id": "9cb7cff3",
   "metadata": {
    "ExecuteTime": {
     "end_time": "2024-11-05T05:36:42.702721Z",
     "start_time": "2024-11-05T05:36:42.697733Z"
    }
   },
   "outputs": [
    {
     "name": "stdout",
     "output_type": "stream",
     "text": [
      "[    +2.785]\n",
      "[    +2.785]\n"
     ]
    }
   ],
   "source": [
    "sign      = '+'\n",
    "width     = 10\n",
    "precision = 4\n",
    "print(\"[{:{sign}{width}.{precision}}]\".format(a,\n",
    "                sign = sign, width = width, precision = precision))\n",
    "print(\"[{:{}{}.{}}]\".format(a, sign, width, precision))"
   ]
  },
  {
   "cell_type": "markdown",
   "id": "a4e467aa",
   "metadata": {},
   "source": [
    "## 4.3 날짜출력"
   ]
  },
  {
   "cell_type": "code",
   "execution_count": 18,
   "id": "4a074207",
   "metadata": {
    "ExecuteTime": {
     "end_time": "2024-11-05T05:44:03.763017Z",
     "start_time": "2024-11-05T05:44:03.755033Z"
    }
   },
   "outputs": [
    {
     "data": {
      "text/plain": [
       "datetime.datetime(2024, 11, 5, 14, 42)"
      ]
     },
     "execution_count": 18,
     "metadata": {},
     "output_type": "execute_result"
    }
   ],
   "source": [
    "# format 이용\n",
    "# from 모듈 import 함수나 변수\n",
    "# from 패키지(폴더) import 모듈(파이썬 파일)\n",
    "# datetime 모듈(파이썬 파일: datetime.py)안에  datetime이라는 함수 가져오기\n",
    "from datetime import datetime\n",
    "thatday = datetime(2024, 11, 5, 14, 42) # 24년 11월 5일 오후 2시 42분 0초\n",
    "thatday"
   ]
  },
  {
   "cell_type": "code",
   "execution_count": 34,
   "id": "c20d7638",
   "metadata": {
    "ExecuteTime": {
     "end_time": "2024-11-05T05:47:13.927604Z",
     "start_time": "2024-11-05T05:47:13.923400Z"
    }
   },
   "outputs": [
    {
     "name": "stdout",
     "output_type": "stream",
     "text": [
      "2024년11월05일 14시 42분 00초\n",
      "2024년11월05일 PM 14시 42분 00초\n"
     ]
    }
   ],
   "source": [
    "print(\"{:%Y년%m월%d일 %H시 %M분 %S초}\".format(thatday))\n",
    "print(\"{:%Y년%m월%d일 %p %H시 %M분 %S초}\".format(thatday))"
   ]
  },
  {
   "cell_type": "code",
   "execution_count": 36,
   "id": "e4cef887",
   "metadata": {
    "ExecuteTime": {
     "end_time": "2024-11-05T05:50:29.851152Z",
     "start_time": "2024-11-05T05:50:29.845168Z"
    }
   },
   "outputs": [
    {
     "data": {
      "text/plain": [
       "'2024년11월05일 PM 02시 50분'"
      ]
     },
     "execution_count": 36,
     "metadata": {},
     "output_type": "execute_result"
    }
   ],
   "source": [
    "# 날짜를 문자열로 전환하는 함수\n",
    "from time import strftime\n",
    "thatdayStr = strftime(\"%Y년%m월%d일 %p %I시 %M분\".format(thatday))\n",
    "thatdayStr"
   ]
  },
  {
   "cell_type": "code",
   "execution_count": 38,
   "id": "ec83effb",
   "metadata": {
    "ExecuteTime": {
     "end_time": "2024-11-05T05:51:30.487090Z",
     "start_time": "2024-11-05T05:51:30.482102Z"
    }
   },
   "outputs": [
    {
     "name": "stdout",
     "output_type": "stream",
     "text": [
      "time.struct_time(tm_year=2024, tm_mon=11, tm_mday=5, tm_hour=14, tm_min=51, tm_sec=30, tm_wday=1, tm_yday=310, tm_isdst=0)\n"
     ]
    }
   ],
   "source": [
    "from time import localtime\n",
    "now = localtime() # 현재의 날짜와 시간\n",
    "print(now)"
   ]
  },
  {
   "cell_type": "code",
   "execution_count": 46,
   "id": "2349c783",
   "metadata": {
    "ExecuteTime": {
     "end_time": "2024-11-05T05:55:15.593399Z",
     "start_time": "2024-11-05T05:55:15.575797Z"
    }
   },
   "outputs": [
    {
     "data": {
      "text/plain": [
       "'2024년 11월 05일 PM 02시 55분 15초'"
      ]
     },
     "execution_count": 46,
     "metadata": {},
     "output_type": "execute_result"
    }
   ],
   "source": [
    "strftime(\"%Y년 %m월 %d일 %p %I시 %M분 %S초\".format(now))"
   ]
  },
  {
   "cell_type": "code",
   "execution_count": 40,
   "id": "c1f19bfb",
   "metadata": {
    "ExecuteTime": {
     "end_time": "2024-11-05T05:53:58.687253Z",
     "start_time": "2024-11-05T05:53:58.654066Z"
    },
    "collapsed": true
   },
   "outputs": [
    {
     "ename": "TypeError",
     "evalue": "unsupported format string passed to time.struct_time.__format__",
     "output_type": "error",
     "traceback": [
      "\u001b[1;31m---------------------------------------------------------------------------\u001b[0m",
      "\u001b[1;31mTypeError\u001b[0m                                 Traceback (most recent call last)",
      "Cell \u001b[1;32mIn[40], line 1\u001b[0m\n\u001b[1;32m----> 1\u001b[0m \u001b[38;5;28mprint\u001b[39m(\u001b[38;5;124;43m\"\u001b[39;49m\u001b[38;5;124;43m{\u001b[39;49m\u001b[38;5;124;43m:\u001b[39;49m\u001b[38;5;124;43m%\u001b[39;49m\u001b[38;5;124;43mY년 \u001b[39;49m\u001b[38;5;124;43m%\u001b[39;49m\u001b[38;5;124;43mm월 \u001b[39;49m\u001b[38;5;132;43;01m%d\u001b[39;49;00m\u001b[38;5;124;43m일 \u001b[39;49m\u001b[38;5;124;43m%\u001b[39;49m\u001b[38;5;124;43mp \u001b[39;49m\u001b[38;5;124;43m%\u001b[39;49m\u001b[38;5;124;43mI시 \u001b[39;49m\u001b[38;5;124;43m%\u001b[39;49m\u001b[38;5;124;43mM분 \u001b[39;49m\u001b[38;5;124;43m%\u001b[39;49m\u001b[38;5;124;43mS초}\u001b[39;49m\u001b[38;5;124;43m\"\u001b[39;49m\u001b[38;5;241;43m.\u001b[39;49m\u001b[43mformat\u001b[49m\u001b[43m(\u001b[49m\u001b[43mnow\u001b[49m\u001b[43m)\u001b[49m)\n",
      "\u001b[1;31mTypeError\u001b[0m: unsupported format string passed to time.struct_time.__format__"
     ]
    }
   ],
   "source": [
    "# print(\"{:%Y년 %m월 %d일 %p %I시 %M분 %S초}\".format(now)) 에러남"
   ]
  },
  {
   "cell_type": "markdown",
   "id": "8d347dc4",
   "metadata": {},
   "source": [
    "# 5절. 연산자"
   ]
  },
  {
   "cell_type": "markdown",
   "id": "e29e8145",
   "metadata": {},
   "source": [
    "## 5.1 산술연산자: + - * / //(몫연산자) %(나머지), **(제곱)"
   ]
  },
  {
   "cell_type": "code",
   "execution_count": 47,
   "id": "e8b105fc",
   "metadata": {
    "ExecuteTime": {
     "end_time": "2024-11-05T05:59:43.648119Z",
     "start_time": "2024-11-05T05:59:43.643131Z"
    }
   },
   "outputs": [
    {
     "name": "stdout",
     "output_type": "stream",
     "text": [
      "100000\n"
     ]
    }
   ],
   "source": [
    "print(10 ** 5) # 10의 5제곱"
   ]
  },
  {
   "cell_type": "markdown",
   "id": "f368eec6",
   "metadata": {},
   "source": [
    "## 5.2 할당연산자: = += -= *= /= //= %="
   ]
  },
  {
   "cell_type": "code",
   "execution_count": 48,
   "id": "d330f383",
   "metadata": {
    "ExecuteTime": {
     "end_time": "2024-11-05T06:08:16.443093Z",
     "start_time": "2024-11-05T06:08:15.259774Z"
    }
   },
   "outputs": [],
   "source": []
  },
  {
   "cell_type": "markdown",
   "id": "f3b07c08",
   "metadata": {},
   "source": [
    "## 5.3 논리연산자: & and | or not "
   ]
  },
  {
   "cell_type": "code",
   "execution_count": 5,
   "id": "e5e042d0",
   "metadata": {
    "ExecuteTime": {
     "end_time": "2024-11-05T06:25:20.449099Z",
     "start_time": "2024-11-05T06:25:20.444109Z"
    }
   },
   "outputs": [
    {
     "name": "stdout",
     "output_type": "stream",
     "text": [
      "True\n",
      "0\n"
     ]
    }
   ],
   "source": [
    "print( (10 > 3) & (10 > 5) )\n",
    "print( 12 & 1) # 비트연산 # 1100 (12)\n",
    "                          # 0001 (1)\n",
    "                          # & 0000(0)"
   ]
  },
  {
   "cell_type": "code",
   "execution_count": 7,
   "id": "4b96c7f0",
   "metadata": {
    "ExecuteTime": {
     "end_time": "2024-11-05T06:26:49.345770Z",
     "start_time": "2024-11-05T06:26:49.339808Z"
    }
   },
   "outputs": [
    {
     "name": "stdout",
     "output_type": "stream",
     "text": [
      "abc\n",
      "0\n",
      "None\n"
     ]
    }
   ],
   "source": [
    "# and: 모든 항이 거짓이면, 첫 번째 항의 결과 반환\n",
    "     # 모든 항이 참이면, 마지막 항의 결과 반환\n",
    "print(True and True and 'abc')\n",
    "print(0 and False)\n",
    "print(True and None)"
   ]
  },
  {
   "cell_type": "code",
   "execution_count": 1,
   "id": "6ce58f7b",
   "metadata": {
    "ExecuteTime": {
     "end_time": "2024-11-05T06:32:11.476863Z",
     "start_time": "2024-11-05T06:32:11.468571Z"
    }
   },
   "outputs": [
    {
     "name": "stdout",
     "output_type": "stream",
     "text": [
      "True\n"
     ]
    }
   ],
   "source": [
    "print( (10 > 5) and (10 > 7) )"
   ]
  },
  {
   "cell_type": "code",
   "execution_count": 2,
   "id": "02dbb8aa",
   "metadata": {
    "ExecuteTime": {
     "end_time": "2024-11-05T06:32:12.833280Z",
     "start_time": "2024-11-05T06:32:12.827294Z"
    }
   },
   "outputs": [
    {
     "name": "stdout",
     "output_type": "stream",
     "text": [
      "논리연산(연산자 앞뒤에 논리형일때) : True\n",
      "비트연산(연산자 앞이나 뒤에 숫자일 때) 3\n"
     ]
    }
   ],
   "source": [
    "# | : 논리연산, 비트연산\n",
    "result = False | True\n",
    "print('논리연산(연산자 앞뒤에 논리형일때) :',result)\n",
    "result = False | 3 # 0000 | 0011\n",
    "print('비트연산(연산자 앞이나 뒤에 숫자일 때)',result)"
   ]
  },
  {
   "cell_type": "code",
   "execution_count": 5,
   "id": "6e863b98",
   "metadata": {
    "ExecuteTime": {
     "end_time": "2024-11-05T06:33:40.721072Z",
     "start_time": "2024-11-05T06:33:40.716085Z"
    }
   },
   "outputs": [
    {
     "name": "stdout",
     "output_type": "stream",
     "text": [
      "[]\n",
      "HONG\n"
     ]
    }
   ],
   "source": [
    "# or : 참으로 판별되는 첫번째 항의 결과 반환\n",
    "    # 모든 항이 참이면, 마지막항의 결과 반환\n",
    "print(False or 0 or '' or None or [])\n",
    "print('HONG' or 0 or False)"
   ]
  },
  {
   "cell_type": "markdown",
   "id": "bf9bb62a",
   "metadata": {},
   "source": [
    "## 5.4 비교연산자: > >= < <= == !="
   ]
  },
  {
   "cell_type": "code",
   "execution_count": 3,
   "id": "d6f1b1fa",
   "metadata": {
    "ExecuteTime": {
     "end_time": "2024-11-05T06:35:58.856261Z",
     "start_time": "2024-11-05T06:35:58.851251Z"
    }
   },
   "outputs": [
    {
     "name": "stdout",
     "output_type": "stream",
     "text": [
      "True\n",
      "False\n"
     ]
    }
   ],
   "source": [
    "print( (10 > 5) & (10 > 7) )\n",
    "print( 10 > 5 & 10 > 7 )"
   ]
  },
  {
   "cell_type": "code",
   "execution_count": 1,
   "id": "65a6a964",
   "metadata": {
    "ExecuteTime": {
     "end_time": "2024-11-05T06:43:11.157248Z",
     "start_time": "2024-11-05T06:43:11.149269Z"
    }
   },
   "outputs": [
    {
     "name": "stdout",
     "output_type": "stream",
     "text": [
      "True\n",
      "True\n",
      "True\n"
     ]
    }
   ],
   "source": [
    "# 비교연산자는 이항, 삼항, ... 다항 연산자\n",
    "x = 5\n",
    "print( (4 < x ) & ( x < 10) )\n",
    "print(4 < x < 10)\n",
    "print(1 < 2 < 4 < x < 10)"
   ]
  },
  {
   "cell_type": "code",
   "execution_count": 3,
   "id": "3844a6f7",
   "metadata": {
    "ExecuteTime": {
     "end_time": "2024-11-05T06:44:32.360347Z",
     "start_time": "2024-11-05T06:44:32.355367Z"
    }
   },
   "outputs": [
    {
     "name": "stdout",
     "output_type": "stream",
     "text": [
      "True\n",
      "False\n",
      "False\n",
      "False\n"
     ]
    }
   ],
   "source": [
    "# 비교연산자의 우선순위가 논리연산의 우선순위보다 낮다\n",
    "print( (10 > 5) & (10 > 7) )\n",
    "print( 10 > 5  &  10 > 7) # 괄호가 없으면 우선순위가 높은 논리연산부터 실행\n",
    "\n",
    "print( 10 > (5 & 10) > 7 )\n",
    "print( 10 > 0 > 7 )\n",
    "# 0101 (5)\n",
    "# 1010 (10)"
   ]
  },
  {
   "cell_type": "code",
   "execution_count": null,
   "id": "c2d8baae",
   "metadata": {},
   "outputs": [],
   "source": [
    "# x = 5\n",
    "print( 4 < x & x < 10 )"
   ]
  },
  {
   "cell_type": "code",
   "execution_count": 9,
   "id": "11e6c127",
   "metadata": {
    "ExecuteTime": {
     "end_time": "2024-11-05T06:51:47.720613Z",
     "start_time": "2024-11-05T06:51:47.716617Z"
    }
   },
   "outputs": [
    {
     "name": "stdout",
     "output_type": "stream",
     "text": [
      "False\n"
     ]
    }
   ],
   "source": [
    "address = '서울'\n",
    "age     = 29\n",
    "print( (address == '서울') & (age >= 30) )  # 우선순위를 보고 괄호를 반드시"
   ]
  },
  {
   "cell_type": "code",
   "execution_count": 4,
   "id": "5f3c178f",
   "metadata": {
    "ExecuteTime": {
     "end_time": "2024-11-05T06:47:28.238478Z",
     "start_time": "2024-11-05T06:47:28.229492Z"
    }
   },
   "outputs": [
    {
     "data": {
      "text/plain": [
       "True"
      ]
     },
     "execution_count": 4,
     "metadata": {},
     "output_type": "execute_result"
    }
   ],
   "source": [
    "# 문자는 ASCII 코드 순으로 비교: 특수문자 < 숫자문자 < 대문자 , 소문자(abc)\n",
    "'scott' < 'tiger'"
   ]
  },
  {
   "cell_type": "code",
   "execution_count": 5,
   "id": "2135a67c",
   "metadata": {
    "ExecuteTime": {
     "end_time": "2024-11-05T06:47:48.811364Z",
     "start_time": "2024-11-05T06:47:48.806375Z"
    }
   },
   "outputs": [
    {
     "data": {
      "text/plain": [
       "True"
      ]
     },
     "execution_count": 5,
     "metadata": {},
     "output_type": "execute_result"
    }
   ],
   "source": [
    "'감우성' < '홍길동'"
   ]
  },
  {
   "cell_type": "markdown",
   "id": "c8691887",
   "metadata": {},
   "source": [
    "## 5.5 비트연산 "
   ]
  },
  {
   "cell_type": "code",
   "execution_count": null,
   "id": "994ac0b2",
   "metadata": {},
   "outputs": [],
   "source": [
    "a = '''\n",
    "x     y     x & y     x|y     x^y(XOR)   ~x\n",
    "0     0       0        0         0        1 \n",
    "0     1       0        1         1        1\n",
    "1     0       0        1         1        0\n",
    "1     1       1        1         0        0 \n",
    "'''"
   ]
  },
  {
   "cell_type": "code",
   "execution_count": 17,
   "id": "12f74a19",
   "metadata": {
    "ExecuteTime": {
     "end_time": "2024-11-05T07:22:24.644006Z",
     "start_time": "2024-11-05T07:22:24.638042Z"
    }
   },
   "outputs": [
    {
     "name": "stdout",
     "output_type": "stream",
     "text": [
      " a     = 15 : 1111\n",
      " b     =  2 : 0010\n",
      " a & b =  2 : 0010\n",
      " a | b = 15 : 1111\n",
      " a ^ b = 13 : 1101\n"
     ]
    }
   ],
   "source": [
    "a = 15\n",
    "b = 2\n",
    "print(\" a     = {0:2} : {0:04b}\".format(a))\n",
    "print(\" b     = {0:2} : {0:04b}\".format(b))\n",
    "print(\" a & b = {0:2} : {0:04b}\".format(a & b))\n",
    "print(\" a | b = {0:2} : {0:04b}\".format(a | b))\n",
    "print(\" a ^ b = {0:2} : {0:04b}\".format(a ^ b))"
   ]
  },
  {
   "cell_type": "markdown",
   "id": "3bbbc3c8",
   "metadata": {},
   "source": [
    "## 5.6 isinstance"
   ]
  },
  {
   "cell_type": "code",
   "execution_count": 19,
   "id": "d12bbbc7",
   "metadata": {
    "ExecuteTime": {
     "end_time": "2024-11-05T07:24:26.235604Z",
     "start_time": "2024-11-05T07:24:26.229611Z"
    }
   },
   "outputs": [
    {
     "data": {
      "text/plain": [
       "False"
      ]
     },
     "execution_count": 19,
     "metadata": {},
     "output_type": "execute_result"
    }
   ],
   "source": [
    "a = 15\n",
    "isinstance(a, float)"
   ]
  }
 ],
 "metadata": {
  "kernelspec": {
   "display_name": "Python 3 (ipykernel)",
   "language": "python",
   "name": "python3"
  },
  "language_info": {
   "codemirror_mode": {
    "name": "ipython",
    "version": 3
   },
   "file_extension": ".py",
   "mimetype": "text/x-python",
   "name": "python",
   "nbconvert_exporter": "python",
   "pygments_lexer": "ipython3",
   "version": "3.10.9"
  },
  "toc": {
   "base_numbering": 1,
   "nav_menu": {},
   "number_sections": true,
   "sideBar": true,
   "skip_h1_title": false,
   "title_cell": "Table of Contents",
   "title_sidebar": "Contents",
   "toc_cell": false,
   "toc_position": {
    "height": "calc(100% - 180px)",
    "left": "10px",
    "top": "150px",
    "width": "229px"
   },
   "toc_section_display": true,
   "toc_window_display": true
  }
 },
 "nbformat": 4,
 "nbformat_minor": 5
}
