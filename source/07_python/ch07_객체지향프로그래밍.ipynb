{
 "cells": [
  {
   "cell_type": "markdown",
   "id": "008aefa3",
   "metadata": {
    "ExecuteTime": {
     "end_time": "2024-11-15T00:38:54.101525Z",
     "start_time": "2024-11-15T00:38:54.086831Z"
    }
   },
   "source": [
    "<b><font size=\"6\" color=\"red\">ch07. 객체지향 프로그래밍</font></b>"
   ]
  },
  {
   "cell_type": "markdown",
   "id": "0274d6d6",
   "metadata": {},
   "source": [
    "# 1절. 객체와 클래스\n",
    "```\n",
    "class 클래스명(상속받을 클래스명):\n",
    "    변수나 함수들\n",
    "```"
   ]
  },
  {
   "cell_type": "code",
   "execution_count": 1,
   "id": "4f97febb",
   "metadata": {
    "ExecuteTime": {
     "end_time": "2024-11-15T05:11:40.342979Z",
     "start_time": "2024-11-15T05:11:40.327287Z"
    }
   },
   "outputs": [],
   "source": [
    "class Person:\n",
    "    \"\"\"\n",
    "    Person 어쩌구 저쩌구 설명하는 독스트링\n",
    "    in Java..\n",
    "    class person{\n",
    "        // public String toString(){}\n",
    "    }\n",
    "    p = new Person()\n",
    "    sysout(p)\n",
    "    \"\"\"\n",
    "    pass # 아무 기능도 없는 함수라면 필수\n",
    "# p 인스턴스 변수 생성, p라는 객체 생성\n",
    "p = Person()"
   ]
  },
  {
   "cell_type": "code",
   "execution_count": 2,
   "id": "f5dec961",
   "metadata": {
    "ExecuteTime": {
     "end_time": "2024-11-15T05:11:40.359595Z",
     "start_time": "2024-11-15T05:11:40.343913Z"
    }
   },
   "outputs": [
    {
     "data": {
      "text/plain": [
       "__main__.Person"
      ]
     },
     "execution_count": 2,
     "metadata": {},
     "output_type": "execute_result"
    }
   ],
   "source": [
    "type(p)"
   ]
  },
  {
   "cell_type": "code",
   "execution_count": 3,
   "id": "e4fe0dd2",
   "metadata": {
    "ExecuteTime": {
     "end_time": "2024-11-15T05:11:40.376300Z",
     "start_time": "2024-11-15T05:11:40.360608Z"
    }
   },
   "outputs": [
    {
     "name": "stdout",
     "output_type": "stream",
     "text": [
      "<__main__.Person object at 0x000001BB87FD6680>\n"
     ]
    }
   ],
   "source": [
    "print(p)"
   ]
  },
  {
   "cell_type": "code",
   "execution_count": 4,
   "id": "0218f0ea",
   "metadata": {
    "ExecuteTime": {
     "end_time": "2024-11-15T05:11:40.387255Z",
     "start_time": "2024-11-15T05:11:40.379276Z"
    }
   },
   "outputs": [
    {
     "data": {
      "text/plain": [
       "True"
      ]
     },
     "execution_count": 4,
     "metadata": {},
     "output_type": "execute_result"
    }
   ],
   "source": [
    "isinstance(p, Person)"
   ]
  },
  {
   "cell_type": "code",
   "execution_count": 5,
   "id": "2269cc28",
   "metadata": {
    "ExecuteTime": {
     "end_time": "2024-11-15T05:11:40.398004Z",
     "start_time": "2024-11-15T05:11:40.392241Z"
    }
   },
   "outputs": [
    {
     "name": "stdout",
     "output_type": "stream",
     "text": [
      "\n",
      "    Person 어쩌구 저쩌구 설명하는 독스트링\n",
      "    in Java..\n",
      "    class person{\n",
      "        // public String toString(){}\n",
      "    }\n",
      "    p = new Person()\n",
      "    sysout(p)\n",
      "    \n"
     ]
    }
   ],
   "source": [
    "print(p.__doc__) # 독스트링"
   ]
  },
  {
   "cell_type": "markdown",
   "id": "2ae5dfae",
   "metadata": {},
   "source": [
    "# 2절. 변수와 메소드\n",
    "- 클래스변수 vs. 인스턴스변수 vs. static 변수\n",
    "- 인스턴스메소드 vs. static메소드 vs 클래스메소드"
   ]
  },
  {
   "cell_type": "code",
   "execution_count": 6,
   "id": "15f76b6a",
   "metadata": {
    "ExecuteTime": {
     "end_time": "2024-11-15T05:11:40.407978Z",
     "start_time": "2024-11-15T05:11:40.400997Z"
    }
   },
   "outputs": [
    {
     "name": "stdout",
     "output_type": "stream",
     "text": [
      "홍길동 남자\n",
      "<class '__main__.Person'>\n"
     ]
    }
   ],
   "source": [
    "# 클래스 변수 추가: class 내부에 선언되며,\n",
    "# 생성된 모든 인스턴스에서 동일한 값 가진다\n",
    "# 클래스명.클래스변수를 수정하면 모든 인스턴스에 반영될 수 있음\n",
    "# 인스턴스.클래스변수로 수정하면 해당 인스턴스에만 반영됨\n",
    "class Person:\n",
    "    name   = '홍길동'\n",
    "    gender = '남자'\n",
    "# 자바의 static 변수와 비슷\n",
    "print(Person.name, Person.gender)\n",
    "print(Person)"
   ]
  },
  {
   "cell_type": "code",
   "execution_count": 7,
   "id": "6efd3134",
   "metadata": {
    "ExecuteTime": {
     "end_time": "2024-11-15T05:11:40.426187Z",
     "start_time": "2024-11-15T05:11:40.410600Z"
    }
   },
   "outputs": [
    {
     "name": "stdout",
     "output_type": "stream",
     "text": [
      "클래스 영역 변수:  홍길동 남자\n",
      "p1객체의 변수:  홍길동 남자\n",
      "p2객체의 변수:  홍길동 남자\n"
     ]
    }
   ],
   "source": [
    "p1 = Person()\n",
    "p2 = Person()\n",
    "print('클래스 영역 변수: ', Person.name, Person.gender)\n",
    "print('p1객체의 변수: ', p1.name, p1.gender)\n",
    "print('p2객체의 변수: ', p2.name, p2.gender)"
   ]
  },
  {
   "cell_type": "code",
   "execution_count": 8,
   "id": "9f9d4be9",
   "metadata": {
    "ExecuteTime": {
     "end_time": "2024-11-15T05:11:40.442926Z",
     "start_time": "2024-11-15T05:11:40.427236Z"
    }
   },
   "outputs": [
    {
     "name": "stdout",
     "output_type": "stream",
     "text": [
      "클래스 영역 변수:  홍길동 남자\n",
      "p1객체의 변수:  이순신 남자\n",
      "p2객체의 변수:  홍길동 남자\n"
     ]
    }
   ],
   "source": [
    "# p1 객체의 변수값 변경\n",
    "# 더 이상 class 참조 X, class 변수값 반영하지 X\n",
    "p1.name = '이순신'\n",
    "print('클래스 영역 변수: ', Person.name, Person.gender)\n",
    "print('p1객체의 변수: ', p1.name, p1.gender)\n",
    "print('p2객체의 변수: ', p2.name, p2.gender)"
   ]
  },
  {
   "cell_type": "code",
   "execution_count": 9,
   "id": "9374e18a",
   "metadata": {
    "ExecuteTime": {
     "end_time": "2024-11-15T05:11:40.452819Z",
     "start_time": "2024-11-15T05:11:40.443895Z"
    }
   },
   "outputs": [
    {
     "name": "stdout",
     "output_type": "stream",
     "text": [
      "클래스 영역 변수:  유관순 여자\n",
      "p1객체의 변수:  이순신 여자\n",
      "p2객체의 변수:  유관순 여자\n"
     ]
    }
   ],
   "source": [
    "# 클래스 변수값 변경\n",
    "Person.name   = '유관순'\n",
    "Person.gender = '여자'\n",
    "print('클래스 영역 변수: ', Person.name, Person.gender)\n",
    "print('p1객체의 변수: ', p1.name, p1.gender)\n",
    "print('p2객체의 변수: ', p2.name, p2.gender)"
   ]
  },
  {
   "cell_type": "code",
   "execution_count": 10,
   "id": "b4d28216",
   "metadata": {
    "ExecuteTime": {
     "end_time": "2024-11-15T05:11:40.462533Z",
     "start_time": "2024-11-15T05:11:40.455812Z"
    }
   },
   "outputs": [],
   "source": [
    "# 메소드 추가\n",
    "class Person:\n",
    "    name   = '홍길동'\n",
    "    gender = '남자'\n",
    "    def print_info():\n",
    "        print('Person 메소드')\n",
    "        print(\"{}(은)는 {}입니다\".format(Person.name, Person.gender)) # 클래스변수 호출"
   ]
  },
  {
   "cell_type": "code",
   "execution_count": 11,
   "id": "2641695d",
   "metadata": {
    "ExecuteTime": {
     "end_time": "2024-11-15T05:11:40.477246Z",
     "start_time": "2024-11-15T05:11:40.463928Z"
    }
   },
   "outputs": [
    {
     "name": "stdout",
     "output_type": "stream",
     "text": [
      "홍길동 남자\n",
      "Person 메소드\n",
      "홍길동(은)는 남자입니다\n"
     ]
    }
   ],
   "source": [
    "print(Person.name, Person.gender)\n",
    "Person.print_info()"
   ]
  },
  {
   "cell_type": "code",
   "execution_count": 12,
   "id": "9955cbd1",
   "metadata": {
    "ExecuteTime": {
     "end_time": "2024-11-15T05:11:41.077711Z",
     "start_time": "2024-11-15T05:11:40.484228Z"
    }
   },
   "outputs": [
    {
     "name": "stdout",
     "output_type": "stream",
     "text": [
      "클래스 변수 영역: 홍길동 남자\n",
      "객체(p1) 영역: 유관순 여자\n"
     ]
    },
    {
     "ename": "TypeError",
     "evalue": "Person.print_info() takes 0 positional arguments but 1 was given",
     "output_type": "error",
     "traceback": [
      "\u001b[1;31m---------------------------------------------------------------------------\u001b[0m",
      "\u001b[1;31mTypeError\u001b[0m                                 Traceback (most recent call last)",
      "Cell \u001b[1;32mIn[12], line 6\u001b[0m\n\u001b[0;32m      4\u001b[0m \u001b[38;5;28mprint\u001b[39m(\u001b[38;5;124m'\u001b[39m\u001b[38;5;124m클래스 변수 영역:\u001b[39m\u001b[38;5;124m'\u001b[39m, Person\u001b[38;5;241m.\u001b[39mname, Person\u001b[38;5;241m.\u001b[39mgender)\n\u001b[0;32m      5\u001b[0m \u001b[38;5;28mprint\u001b[39m(\u001b[38;5;124m'\u001b[39m\u001b[38;5;124m객체(p1) 영역:\u001b[39m\u001b[38;5;124m'\u001b[39m, p1\u001b[38;5;241m.\u001b[39mname, p1\u001b[38;5;241m.\u001b[39mgender) \u001b[38;5;66;03m# 클래스 참조 끊어짐\u001b[39;00m\n\u001b[1;32m----> 6\u001b[0m \u001b[43mp1\u001b[49m\u001b[38;5;241;43m.\u001b[39;49m\u001b[43mprint_info\u001b[49m\u001b[43m(\u001b[49m\u001b[43m)\u001b[49m\n",
      "\u001b[1;31mTypeError\u001b[0m: Person.print_info() takes 0 positional arguments but 1 was given"
     ]
    }
   ],
   "source": [
    "p1 = Person()\n",
    "p1.name   = '유관순'\n",
    "p1.gender = '여자'\n",
    "print('클래스 변수 영역:', Person.name, Person.gender)\n",
    "print('객체(p1) 영역:', p1.name, p1.gender) # 클래스 참조 끊어짐\n",
    "p1.print_info() # Error"
   ]
  },
  {
   "cell_type": "code",
   "execution_count": null,
   "id": "d48d28e9",
   "metadata": {
    "ExecuteTime": {
     "end_time": "2024-11-15T05:11:41.081701Z",
     "start_time": "2024-11-15T05:11:41.081701Z"
    }
   },
   "outputs": [],
   "source": [
    "# Error 이유: 인스턴스 메소드도 아니고, 클래스 메소드도 아니고, static 메소드도 아님\n",
    "# static 메소드처럼 실행은 가능"
   ]
  },
  {
   "cell_type": "markdown",
   "id": "aa7a1aff",
   "metadata": {},
   "source": [
    "※ 인스턴스 메소드 & 클래스 메소드 & static 메소드\n",
    "- 인스턴스 메소드: 첫번째 인자에 self를 꼭 명시. 객체를 통해서만 호출할 메소드 \n",
    "- 클래스 메소드: 메소드 위에 @classmethod 선언한 메소드. 첫번째 인자에 cls(clz) 꼭 명시\n",
    "- static 메소드: 메소드 위에 @staticmethod 선언한 메소드. 디폴트 인자 없음"
   ]
  },
  {
   "cell_type": "code",
   "execution_count": null,
   "id": "cbd3037e",
   "metadata": {
    "ExecuteTime": {
     "end_time": "2024-11-15T05:11:41.083699Z",
     "start_time": "2024-11-15T05:11:41.083699Z"
    }
   },
   "outputs": [],
   "source": [
    "# 인스턴스 메소드(객체가 호출할 수 있는 함수)\n",
    "class Person:\n",
    "    name = \"홍길동\"\n",
    "    gender = \"남자\"\n",
    "    age = 30\n",
    "    # 인스턴스 메소드 선언시 첫번째 인자에 self 넣고 선언.(self라는 객체를 인자로 받음)\n",
    "    # 실제 호출 시에는 매개변수 self 이용 안 함. self의 의미는 자바에서의 this\n",
    "    def print_info(self):\n",
    "        print('인스턴스 변수 정보: {}는 {}살이고, {}입니다'.format(self.name, self.age, self.gender))\n",
    "        print('클래스 정보: {}는 {}살이고, {}입니다'.format(Person.name, Person.age, Person.gender))"
   ]
  },
  {
   "cell_type": "code",
   "execution_count": null,
   "id": "e333b0a2",
   "metadata": {
    "ExecuteTime": {
     "end_time": "2024-11-15T05:11:41.085690Z",
     "start_time": "2024-11-15T05:11:41.085690Z"
    }
   },
   "outputs": [],
   "source": [
    "print(Person.name, Person.gender, Person.age)\n",
    "p1 = Person()\n",
    "p2 = Person()\n",
    "p1.name = \"신사임당\"\n",
    "p1.print_info()"
   ]
  },
  {
   "cell_type": "code",
   "execution_count": null,
   "id": "b673126e",
   "metadata": {
    "ExecuteTime": {
     "end_time": "2024-11-15T05:11:41.087263Z",
     "start_time": "2024-11-15T05:11:41.087263Z"
    }
   },
   "outputs": [],
   "source": [
    "Person.print_info(p1) # 이렇게는 거의 안 써요"
   ]
  },
  {
   "cell_type": "code",
   "execution_count": null,
   "id": "c23ebdbf",
   "metadata": {
    "ExecuteTime": {
     "end_time": "2024-11-15T05:11:41.090234Z",
     "start_time": "2024-11-15T05:11:41.090234Z"
    }
   },
   "outputs": [],
   "source": [
    " p2.print_info()"
   ]
  },
  {
   "cell_type": "code",
   "execution_count": null,
   "id": "25973ba4",
   "metadata": {
    "ExecuteTime": {
     "end_time": "2024-11-15T05:11:41.092228Z",
     "start_time": "2024-11-15T05:11:41.092228Z"
    }
   },
   "outputs": [],
   "source": [
    "# 객체(p1)의 변수를 추가\n",
    "p1.address  = '서울시'\n",
    "p1.nickname = '곰돌이 푸'"
   ]
  },
  {
   "cell_type": "code",
   "execution_count": null,
   "id": "e8b05de8",
   "metadata": {
    "ExecuteTime": {
     "end_time": "2024-11-15T05:11:41.094797Z",
     "start_time": "2024-11-15T05:11:41.094442Z"
    }
   },
   "outputs": [],
   "source": [
    "print(p1.name, p1.gender, p1.age, p1.address, p1.nickname)\n",
    "print(p2.name, p2.gender, p2.age)"
   ]
  },
  {
   "cell_type": "code",
   "execution_count": null,
   "id": "cdca82cd",
   "metadata": {
    "ExecuteTime": {
     "end_time": "2024-11-15T05:11:41.095796Z",
     "start_time": "2024-11-15T05:11:41.095796Z"
    }
   },
   "outputs": [],
   "source": [
    "p1.print_info()"
   ]
  },
  {
   "cell_type": "code",
   "execution_count": null,
   "id": "f4ca0fbb",
   "metadata": {
    "ExecuteTime": {
     "end_time": "2024-11-15T05:11:41.097546Z",
     "start_time": "2024-11-15T05:11:41.097546Z"
    }
   },
   "outputs": [],
   "source": [
    "# 3가지 메소드를 다 사용\n",
    "class Person:\n",
    "    name   = \"홍길동\"\n",
    "    gender = \"남자\"\n",
    "    # 변수.print_info()로 호출\n",
    "    def print_info(self):\n",
    "        print(\"일반(인스턴스=객체) 메소드 - {}은(는) {}입니다\".format(self.name, self.gender))\n",
    "    # 변수.change_info(\"신길숙\", \"여자\")로 호출\n",
    "    def change_info(self, name, gender=\"남자\"):\n",
    "        self.name   = name\n",
    "        self.gender = gender\n",
    "        print(\"일반(인스턴스) 메소드를 통해 {}로 이름 변경 완료\".format(self.name))\n",
    "    @classmethod\n",
    "    def do_(clz): # clz == Person. 클래스 변수를 이용한 로직\n",
    "        clz.name = '신사임당' # 클래스영역의 클래스 변수 수정\n",
    "        clz.gender = '여자'\n",
    "        print(\"클래스 메소드 - {}은(는) {}로 클래스 변수 변경\".format(clz.name, clz.gender))\n",
    "    @staticmethod\n",
    "    def that_(): # 클래스 변수를 이용하는 경우보다는 로직이 우선일 경우\n",
    "        Person.name = \"신길동\"\n",
    "        Person.gender = \"남자\"\n",
    "        print(\"static 메소드 - {}는 {}입니다\".format(Person.name, Person.gender))\n",
    "        "
   ]
  },
  {
   "cell_type": "code",
   "execution_count": null,
   "id": "5422b3e8",
   "metadata": {
    "ExecuteTime": {
     "end_time": "2024-11-15T05:11:41.097546Z",
     "start_time": "2024-11-15T05:11:41.097546Z"
    }
   },
   "outputs": [],
   "source": [
    "p1 = Person()\n",
    "p1.print_info()\n",
    "p1.change_info(\"이순신\", \"남자\")\n",
    "p1.print_info()"
   ]
  },
  {
   "cell_type": "code",
   "execution_count": null,
   "id": "9fd2c85f",
   "metadata": {
    "ExecuteTime": {
     "end_time": "2024-11-15T05:11:41.097546Z",
     "start_time": "2024-11-15T05:11:41.097546Z"
    }
   },
   "outputs": [],
   "source": [
    "# p1객체의 name 변수값 변경(p1.name은 더이상 클래스를 참조하지 않음)\n",
    "p1.name = \"이순신\"\n",
    "p1.print_info()"
   ]
  },
  {
   "cell_type": "code",
   "execution_count": null,
   "id": "5baf8601",
   "metadata": {
    "ExecuteTime": {
     "end_time": "2024-11-15T05:11:41.097546Z",
     "start_time": "2024-11-15T05:11:41.097546Z"
    }
   },
   "outputs": [],
   "source": [
    "Person.do_() # 클래스 변수 수정\n",
    "p1.print_info()"
   ]
  },
  {
   "cell_type": "code",
   "execution_count": null,
   "id": "029a0472",
   "metadata": {
    "ExecuteTime": {
     "end_time": "2024-11-15T05:11:41.097546Z",
     "start_time": "2024-11-15T05:11:41.097546Z"
    }
   },
   "outputs": [],
   "source": [
    "# 바뀐 클래스 변수 적용됨\n",
    "p2 = Person()\n",
    "p2.print_info()"
   ]
  },
  {
   "cell_type": "code",
   "execution_count": null,
   "id": "9202ab95",
   "metadata": {
    "ExecuteTime": {
     "end_time": "2024-11-15T05:11:41.097546Z",
     "start_time": "2024-11-15T05:11:41.097546Z"
    }
   },
   "outputs": [],
   "source": [
    "Person.that_() # 클래스 변수 수정"
   ]
  },
  {
   "cell_type": "code",
   "execution_count": null,
   "id": "22740a8d",
   "metadata": {
    "ExecuteTime": {
     "end_time": "2024-11-15T05:11:41.112230Z",
     "start_time": "2024-11-15T05:11:41.112230Z"
    }
   },
   "outputs": [],
   "source": [
    "p2.print_info()"
   ]
  },
  {
   "cell_type": "code",
   "execution_count": null,
   "id": "a75966fb",
   "metadata": {
    "ExecuteTime": {
     "end_time": "2024-11-15T05:11:41.114220Z",
     "start_time": "2024-11-15T05:11:41.114220Z"
    }
   },
   "outputs": [],
   "source": [
    "p2.age = 30"
   ]
  },
  {
   "cell_type": "code",
   "execution_count": null,
   "id": "d70523a1",
   "metadata": {
    "ExecuteTime": {
     "end_time": "2024-11-15T05:11:41.115217Z",
     "start_time": "2024-11-15T05:11:41.115217Z"
    }
   },
   "outputs": [],
   "source": [
    "p1.print_info()\n",
    "p2.print_info()"
   ]
  },
  {
   "cell_type": "markdown",
   "id": "4e0b3112",
   "metadata": {},
   "source": [
    "# 3절. 생성자(__init__)와 소멸자(__del__)\n",
    "```\n",
    "생성자: __init__(self, 매개변수...) 객체가 생성될 때 자동 실행\n",
    "        생성 시 필요한 코드(인스턴스 변수 초기화)를 포함\n",
    "소멸자: __del__(self): 객체가 소멸될 때 자동 실행\n",
    "        소멸 시 필요한 코드를 포함\n",
    "        인스턴스 객체의 레퍼런스 카운트가 0이 될 때 실행\n",
    "```"
   ]
  },
  {
   "cell_type": "code",
   "execution_count": null,
   "id": "4c481889",
   "metadata": {
    "ExecuteTime": {
     "end_time": "2024-11-15T05:11:41.117212Z",
     "start_time": "2024-11-15T05:11:41.117212Z"
    }
   },
   "outputs": [],
   "source": [
    "class Person:\n",
    "    # 생성자를 이용한 인스턴스 변수 초기화\n",
    "    def __init__(self, name=\"홍길동\", gender=\"남자\"): # 초기값 설정\n",
    "        # 인스턴스 변수\n",
    "        self.name   = name    \n",
    "        self.gender = gender\n",
    "        print('Person 객체를 생성합니다')\n",
    "        \n",
    "    def __del__(self):\n",
    "        print(\"Person 객체를 소멸합니다\")\n",
    "        \n",
    "    def print_info(self):\n",
    "        print(\"{}은(는) {}입니다\".format(self.name, self.gender))\n",
    "    \n",
    "    def __str__(self):\n",
    "        return \"%s은(는) %s\" % (self.name, self.gender) "
   ]
  },
  {
   "cell_type": "code",
   "execution_count": null,
   "id": "1e25b6fd",
   "metadata": {
    "ExecuteTime": {
     "end_time": "2024-11-15T05:11:41.119206Z",
     "start_time": "2024-11-15T05:11:41.119206Z"
    }
   },
   "outputs": [],
   "source": [
    "# p1~p5는 서로 다른 주소를 참조\n",
    "id(p1), id(p2), id(p3), id(p4), id(p5)"
   ]
  },
  {
   "cell_type": "code",
   "execution_count": null,
   "id": "d451ca63",
   "metadata": {
    "ExecuteTime": {
     "end_time": "2024-11-15T05:11:41.121202Z",
     "start_time": "2024-11-15T05:11:41.121202Z"
    }
   },
   "outputs": [],
   "source": [
    "p1 = Person(\"홍길동\", \"남자\")\n",
    "p2 = Person(gender=\"여자\", name=\"홍길숙\")\n",
    "p3 = Person(\"신길동\") # 성별은 기본값 '남자'로 생성\n",
    "p4 = Person(gender=\"여자\") # 이름은 기본값 '홍길동'으로 생성\n",
    "p5 = Person()"
   ]
  },
  {
   "cell_type": "code",
   "execution_count": null,
   "id": "21b83a0b",
   "metadata": {
    "ExecuteTime": {
     "end_time": "2024-11-15T05:11:41.123196Z",
     "start_time": "2024-11-15T05:11:41.123196Z"
    }
   },
   "outputs": [],
   "source": [
    "# 인스턴스 메소드: print_info()\n",
    "p1.print_info()\n",
    "p2.print_info()\n",
    "p3.print_info()\n",
    "p4.print_info()\n",
    "p5.print_info()"
   ]
  },
  {
   "cell_type": "code",
   "execution_count": null,
   "id": "e87edf5f",
   "metadata": {
    "ExecuteTime": {
     "end_time": "2024-11-15T05:11:41.125192Z",
     "start_time": "2024-11-15T05:11:41.125192Z"
    }
   },
   "outputs": [],
   "source": [
    "print('p1 =', p1) # p1.__str__() 자동 호출\n",
    "print('p2 =', p2)\n",
    "print('p3 =', p3)\n",
    "print('p4 =', p4)\n",
    "print('p5 =', p5)"
   ]
  },
  {
   "cell_type": "code",
   "execution_count": null,
   "id": "6cd32328",
   "metadata": {
    "ExecuteTime": {
     "end_time": "2024-11-15T05:11:41.128081Z",
     "start_time": "2024-11-15T05:11:41.128081Z"
    }
   },
   "outputs": [],
   "source": [
    "del p5"
   ]
  },
  {
   "cell_type": "code",
   "execution_count": null,
   "id": "289015a6",
   "metadata": {
    "ExecuteTime": {
     "end_time": "2024-11-15T05:11:41.130078Z",
     "start_time": "2024-11-15T05:11:41.130078Z"
    }
   },
   "outputs": [],
   "source": [
    "del p2, p3, p4"
   ]
  },
  {
   "cell_type": "code",
   "execution_count": null,
   "id": "b0bcdb64",
   "metadata": {
    "ExecuteTime": {
     "end_time": "2024-11-15T05:11:41.132073Z",
     "start_time": "2024-11-15T05:11:41.132073Z"
    }
   },
   "outputs": [],
   "source": [
    "print(p1)"
   ]
  },
  {
   "cell_type": "code",
   "execution_count": null,
   "id": "dc8b8ed9",
   "metadata": {
    "ExecuteTime": {
     "end_time": "2024-11-15T05:11:41.134067Z",
     "start_time": "2024-11-15T05:11:41.134067Z"
    }
   },
   "outputs": [],
   "source": [
    "# p2 변수 생성\n",
    "p2 = p1 "
   ]
  },
  {
   "cell_type": "code",
   "execution_count": null,
   "id": "54373e94",
   "metadata": {
    "ExecuteTime": {
     "end_time": "2024-11-15T05:11:41.136061Z",
     "start_time": "2024-11-15T05:11:41.136061Z"
    }
   },
   "outputs": [],
   "source": [
    "# 하나의 객체를 두 인스턴스 변수가 참조(객체의 레퍼런스 카운트가 2)\n",
    "id(p1), id(p2)"
   ]
  },
  {
   "cell_type": "code",
   "execution_count": null,
   "id": "eda8e48f",
   "metadata": {
    "ExecuteTime": {
     "end_time": "2024-11-15T05:11:41.138057Z",
     "start_time": "2024-11-15T05:11:41.138057Z"
    }
   },
   "outputs": [],
   "source": [
    "del p1 # 객체 레퍼런스 카운트가 1이여서 소멸자 생성 안 함"
   ]
  },
  {
   "cell_type": "code",
   "execution_count": null,
   "id": "12cf7de1",
   "metadata": {
    "ExecuteTime": {
     "end_time": "2024-11-15T05:11:41.140050Z",
     "start_time": "2024-11-15T05:11:41.140050Z"
    }
   },
   "outputs": [],
   "source": [
    "del p2"
   ]
  },
  {
   "cell_type": "markdown",
   "id": "1869c779",
   "metadata": {},
   "source": [
    "# 4절. static 변수\n",
    "- 변수종류:\n",
    "    * 인스턴스변수: 생성자를 통함\n",
    "    * 클래스변수  : 클래스 내 선언\n",
    "    * static 변수: 클래스 내에 선언한 변수 중 변수명 앞에 __(under score 2개)를 붙임 \n",
    "        \n",
    "```\n",
    "        변수명 앞에 __을 붙이면, 클래스명._클래스명__static변수명으로 참조함\n",
    "        클래스 변수는 클래스나 인스턴스에서 바로 접근 가능\n",
    "        반면, __로 시작하는 변수는 바로 접근 불가하고 클래스명._클래스명__static변수명으로\n",
    "        접근해야 하므로 외부에서 실수로 접근하거나 변경하는 것을 방지\n",
    "        static 변수는 클래스 내부에서만 접근하도록 하려는 의도를 전달하는 용도로 씀\n",
    "```"
   ]
  },
  {
   "cell_type": "code",
   "execution_count": null,
   "id": "ba6f02ac",
   "metadata": {
    "ExecuteTime": {
     "end_time": "2024-11-15T05:11:41.142046Z",
     "start_time": "2024-11-15T05:11:41.142046Z"
    }
   },
   "outputs": [],
   "source": [
    "class Person:\n",
    "    name    = '홍길동'\n",
    "    __count = 0 # static 변수\n",
    "p = Person()\n",
    "p.name"
   ]
  },
  {
   "cell_type": "code",
   "execution_count": null,
   "id": "d7bb7d85",
   "metadata": {
    "ExecuteTime": {
     "end_time": "2024-11-15T05:11:41.144594Z",
     "start_time": "2024-11-15T05:11:41.144594Z"
    }
   },
   "outputs": [],
   "source": [
    "# p.__count # 속성 없다고 Error남\n",
    "\n",
    "# 클래스명._클래스명__static변수명으로 access\n",
    "Person._Person__count # "
   ]
  },
  {
   "cell_type": "markdown",
   "id": "1cb2452f",
   "metadata": {},
   "source": [
    "# 5절. 상속과 재정의\n"
   ]
  },
  {
   "cell_type": "code",
   "execution_count": null,
   "id": "927117ed",
   "metadata": {
    "ExecuteTime": {
     "end_time": "2024-11-15T05:11:41.146046Z",
     "start_time": "2024-11-15T05:11:41.146046Z"
    }
   },
   "outputs": [],
   "source": [
    "class Cal:\n",
    "    def __init__(self, num1=1 , num2=2): \n",
    "        print('두 수를 초기화')\n",
    "        self.num1 = num1\n",
    "        self.num2 = num2\n",
    "    def add(self):\n",
    "        return self.num1 + self.num2\n",
    "    def sub(self):\n",
    "        return self.num1 - self.num2 if self.num1 > self.num2 else self.num2 - self.num1\n",
    "#         if self.num1 > self.num2:\n",
    "#             return self.num1 - self.num2\n",
    "#         else:\n",
    "#             return self.num2 - self.num1\n",
    "    def __str__(self):\n",
    "        return 'num1은 %d, num2는 %d' % (self.num1, self.num2)\n",
    "# Cal_inherit은 Cal로부터 상속받은 클래스\n",
    "class Cal_inherit(Cal):\n",
    "    def mul(self):\n",
    "        return self.num1 * self.num2\n",
    "obj = Cal_inherit(2, 2)\n",
    "print(obj)"
   ]
  },
  {
   "cell_type": "code",
   "execution_count": null,
   "id": "1bc24a15",
   "metadata": {
    "ExecuteTime": {
     "end_time": "2024-11-15T05:11:41.148042Z",
     "start_time": "2024-11-15T05:11:41.148042Z"
    }
   },
   "outputs": [],
   "source": [
    "print(obj.add())"
   ]
  },
  {
   "cell_type": "code",
   "execution_count": null,
   "id": "42561a7b",
   "metadata": {
    "ExecuteTime": {
     "end_time": "2024-11-15T05:11:41.150036Z",
     "start_time": "2024-11-15T05:11:41.150036Z"
    }
   },
   "outputs": [],
   "source": [
    "class Person:\n",
    "    'Person은 이름과 성별 멤버변수가 있고, 어쩌구 저쩌구....'\n",
    "    def __init__(self, name, gender):\n",
    "        print('Person 객체 생성')\n",
    "        self.name   = name\n",
    "        self.gender = gender\n",
    "    def __del__(self):\n",
    "        print('Person 객체 소멸됩니다')\n",
    "    def print_info(self):\n",
    "        '객체 이름과 성별을 출력합니다'\n",
    "        print('{}님은 {}입니다'.format(self.name, self.gender))\n",
    "    def __str__(self):\n",
    "        return '{}님은 {}입니다'.format(self.name, self.gender)"
   ]
  },
  {
   "cell_type": "markdown",
   "id": "2b8e9f8e",
   "metadata": {},
   "source": [
    "## super() 이용\n",
    "- super(). 상속받은 상위클래스의"
   ]
  },
  {
   "cell_type": "code",
   "execution_count": null,
   "id": "c730c3f7",
   "metadata": {
    "ExecuteTime": {
     "end_time": "2024-11-15T05:11:41.151033Z",
     "start_time": "2024-11-15T05:11:41.151033Z"
    }
   },
   "outputs": [],
   "source": [
    "# Student 클래스는 Person 클래스로부터 상속\n",
    "class Student(Person):\n",
    "    'name과 gender(상속받음)에 major변수를 갖는 Student 타입'\n",
    "    # 생성자 다시 만들어야 함\n",
    "    def __init__(self, name, gender, major):\n",
    "        # 부모클래스의 생성자를 호출해서 name과 gender 초기화\n",
    "        # Person.__init__(self, name, gender)\n",
    "        super().__init__(name, gender)\n",
    "        self.major = major\n",
    "    # Person 클래스에서 상속받은 __del__은 필요없을 때\n",
    "    def __del__(self):\n",
    "        pass\n",
    "    # 재정의(override)\n",
    "    def print_info(self):\n",
    "#         print(\"{}는 {}입니다\\n 전공은 {}입니다\".format(self.name, self.gender, self.major))\n",
    "        super().print_info() # 상위 클래스 Person의 print_info() 호출\n",
    "        print(\"전공은 {}입니다\". format(self.major))\n",
    "    def __str__(self):\n",
    "        return super().__str__() + \\\n",
    "                \" 그리고 전공은 {}입니다\".format(self.major)"
   ]
  },
  {
   "cell_type": "code",
   "execution_count": null,
   "id": "4c0d8f4b",
   "metadata": {
    "ExecuteTime": {
     "end_time": "2024-11-15T05:11:41.153029Z",
     "start_time": "2024-11-15T05:11:41.153029Z"
    }
   },
   "outputs": [],
   "source": [
    "s1 = Student(\"홍길동\", \"남자\", \"AI 빅데이터\")\n",
    "print(s1)"
   ]
  },
  {
   "cell_type": "code",
   "execution_count": null,
   "id": "55d64319",
   "metadata": {
    "ExecuteTime": {
     "end_time": "2024-11-15T05:11:41.155623Z",
     "start_time": "2024-11-15T05:11:41.155023Z"
    }
   },
   "outputs": [],
   "source": [
    "s1.print_info()"
   ]
  },
  {
   "cell_type": "code",
   "execution_count": null,
   "id": "186a2e67",
   "metadata": {
    "ExecuteTime": {
     "end_time": "2024-11-15T05:11:41.157331Z",
     "start_time": "2024-11-15T05:11:41.157331Z"
    }
   },
   "outputs": [],
   "source": [
    "print(isinstance(s1, Student))\n",
    "print(isinstance(s1, Person))"
   ]
  },
  {
   "cell_type": "markdown",
   "id": "5ed23747",
   "metadata": {},
   "source": [
    "## 상속과 static 변수 활용"
   ]
  },
  {
   "cell_type": "code",
   "execution_count": 7,
   "id": "0a664027",
   "metadata": {
    "ExecuteTime": {
     "end_time": "2024-11-15T05:24:49.514143Z",
     "start_time": "2024-11-15T05:24:49.504173Z"
    }
   },
   "outputs": [],
   "source": [
    "class Person:\n",
    "    'Person = name, gender'\n",
    "    def __init__(self, name, gender):\n",
    "        self.name   = name\n",
    "        self.gender = gender\n",
    "    def print_info(self): # 추상메소드 흉내\n",
    "        raise Exception('이 메소드는 반드시 구현되어야 합니다') # 예외 강제 발생\n",
    "    def __str__(self):\n",
    "        return '{}님은 {}'.format(self.name, self.gender)\n",
    "class Student(Person):\n",
    "    \"\"\"\n",
    "    name과 gender(상속)에 major변수를 갖는 Student 타입\n",
    "    객체 생성마다 몇 번째 객체인지 저장(static 변수 이용)\n",
    "    \"\"\"\n",
    "    __count = 0 # static 변수(객체 갯수가 저장될 변수)\n",
    "    # [클래스명._클래스명__static 변수]로 access\n",
    "    def __init__(self, name, gender, major):\n",
    "        Student._Student__count += 1 # __count로 접근 불가\n",
    "        # Person.__init__(self, name, gender)\n",
    "        super().__init__(name, gender)\n",
    "        self.major = major\n",
    "        \n",
    "    def __del__(self):\n",
    "        Student._Student__count -= 1\n",
    "        # 객체가 생성될 때마다 __count 1 증가\n",
    "        # 객체가 소멸될 때마다 __count 1 감소\n",
    "        \n",
    "    def print_info(self):\n",
    "        print(\"{}님은 {}, 전공은 {}입니다 - 이상 {}번째 인스턴스입니다\".format(\\\n",
    "            self.name, self.gender, self.major, Student._Student__count))\n",
    "        \n",
    "    def __str__(self):\n",
    "        # return Person.__str__(self)\n",
    "        return super().__str__() + '전공은 {}입니다'.format(self.major)\n",
    "    @classmethod\n",
    "    def get_count(cls):\n",
    "        return Student._Student__count\n",
    "#         return cls._Student__count"
   ]
  },
  {
   "cell_type": "code",
   "execution_count": 2,
   "id": "d26555ba",
   "metadata": {
    "ExecuteTime": {
     "end_time": "2024-11-15T05:21:09.894375Z",
     "start_time": "2024-11-15T05:21:09.887362Z"
    }
   },
   "outputs": [
    {
     "name": "stdout",
     "output_type": "stream",
     "text": [
      "홍길동님은 남자\n"
     ]
    }
   ],
   "source": [
    "p = Person(\"홍길동\", \"남자\")\n",
    "print(p)"
   ]
  },
  {
   "cell_type": "code",
   "execution_count": 16,
   "id": "821dc95a",
   "metadata": {
    "ExecuteTime": {
     "end_time": "2024-11-15T05:17:22.237865Z",
     "start_time": "2024-11-15T05:17:22.206671Z"
    },
    "collapsed": true
   },
   "outputs": [
    {
     "ename": "Exception",
     "evalue": "이 메소드는 반드시 구현되어야 합니다",
     "output_type": "error",
     "traceback": [
      "\u001b[1;31m---------------------------------------------------------------------------\u001b[0m",
      "\u001b[1;31mException\u001b[0m                                 Traceback (most recent call last)",
      "Cell \u001b[1;32mIn[16], line 1\u001b[0m\n\u001b[1;32m----> 1\u001b[0m \u001b[43mp\u001b[49m\u001b[38;5;241;43m.\u001b[39;49m\u001b[43mprint_info\u001b[49m\u001b[43m(\u001b[49m\u001b[43m)\u001b[49m\n",
      "Cell \u001b[1;32mIn[13], line 7\u001b[0m, in \u001b[0;36mPerson.print_info\u001b[1;34m(self)\u001b[0m\n\u001b[0;32m      6\u001b[0m \u001b[38;5;28;01mdef\u001b[39;00m \u001b[38;5;21mprint_info\u001b[39m(\u001b[38;5;28mself\u001b[39m): \u001b[38;5;66;03m# 추상메소드 흉내\u001b[39;00m\n\u001b[1;32m----> 7\u001b[0m     \u001b[38;5;28;01mraise\u001b[39;00m \u001b[38;5;167;01mException\u001b[39;00m(\u001b[38;5;124m'\u001b[39m\u001b[38;5;124m이 메소드는 반드시 구현되어야 합니다\u001b[39m\u001b[38;5;124m'\u001b[39m)\n",
      "\u001b[1;31mException\u001b[0m: 이 메소드는 반드시 구현되어야 합니다"
     ]
    }
   ],
   "source": [
    "# p.print_info() # Error\n",
    "# 강제 예외 발생"
   ]
  },
  {
   "cell_type": "code",
   "execution_count": 9,
   "id": "8348914e",
   "metadata": {
    "ExecuteTime": {
     "end_time": "2024-11-15T05:26:20.851132Z",
     "start_time": "2024-11-15T05:26:20.835743Z"
    }
   },
   "outputs": [
    {
     "name": "stdout",
     "output_type": "stream",
     "text": [
      "홍학생님은 남자전공은 AI 빅데이터입니다\n",
      "객체의 갯수: 1\n",
      "객체의 갯수: 1\n"
     ]
    }
   ],
   "source": [
    "s1 = Student(\"홍학생\", \"남자\", \"AI 빅데이터\")\n",
    "print(s1)\n",
    "print('객체의 갯수:', Student.get_count())\n",
    "print('객체의 갯수:', Student._Student__count)"
   ]
  },
  {
   "cell_type": "code",
   "execution_count": 10,
   "id": "20529f4c",
   "metadata": {
    "ExecuteTime": {
     "end_time": "2024-11-15T05:26:23.149836Z",
     "start_time": "2024-11-15T05:26:23.145845Z"
    }
   },
   "outputs": [
    {
     "name": "stdout",
     "output_type": "stream",
     "text": [
      "홍학생님은 남자, 전공은 AI 빅데이터입니다 - 이상 1번째 인스턴스입니다\n"
     ]
    }
   ],
   "source": [
    "s1.print_info()"
   ]
  },
  {
   "cell_type": "code",
   "execution_count": 11,
   "id": "b845db70",
   "metadata": {
    "ExecuteTime": {
     "end_time": "2024-11-15T05:26:25.588789Z",
     "start_time": "2024-11-15T05:26:25.583861Z"
    }
   },
   "outputs": [
    {
     "name": "stdout",
     "output_type": "stream",
     "text": [
      "신길숙님은 여자, 전공은 통계학입니다 - 이상 2번째 인스턴스입니다\n",
      "객체 갯수: 2\n"
     ]
    }
   ],
   "source": [
    "s2 = Student(\"신길숙\", \"여자\", \"통계학\")\n",
    "s2.print_info()\n",
    "print('객체 갯수:', Student.get_count())"
   ]
  },
  {
   "cell_type": "code",
   "execution_count": 12,
   "id": "1d70af55",
   "metadata": {
    "ExecuteTime": {
     "end_time": "2024-11-15T05:26:29.005740Z",
     "start_time": "2024-11-15T05:26:28.985091Z"
    }
   },
   "outputs": [
    {
     "data": {
      "text/plain": [
       "{'name': '신길숙', 'gender': '여자', 'major': '통계학'}"
      ]
     },
     "execution_count": 12,
     "metadata": {},
     "output_type": "execute_result"
    }
   ],
   "source": [
    "s2.__dict__ # 클래스의 멤버 변수들을 딕셔너리 형태로 출력"
   ]
  },
  {
   "cell_type": "code",
   "execution_count": 13,
   "id": "26b9f4bc",
   "metadata": {
    "ExecuteTime": {
     "end_time": "2024-11-15T05:26:30.860041Z",
     "start_time": "2024-11-15T05:26:30.855082Z"
    }
   },
   "outputs": [
    {
     "name": "stdout",
     "output_type": "stream",
     "text": [
      "객체 갯수: 1\n"
     ]
    }
   ],
   "source": [
    "del s1\n",
    "print('객체 갯수:', Student.get_count())"
   ]
  },
  {
   "cell_type": "code",
   "execution_count": 14,
   "id": "e8014c6d",
   "metadata": {
    "ExecuteTime": {
     "end_time": "2024-11-15T05:33:58.461474Z",
     "start_time": "2024-11-15T05:33:58.455490Z"
    }
   },
   "outputs": [],
   "source": [
    "# 객체 생성 시마다 시리얼 넘버 부여\n",
    "class Product:\n",
    "    __count = 100\n",
    "    def __init__(self, name, price):\n",
    "        Product._Product__count += 1\n",
    "        self.serialno = Product._Product__count # 스칼라변수라 가능\n",
    "        self.name     = name\n",
    "        self.price    = price\n",
    "    def __str__(self):\n",
    "        return 'serialNo: {}\\n상품평: {}\\n가격: {}'.format(self.serialno, self.name, self.price)"
   ]
  },
  {
   "cell_type": "code",
   "execution_count": 15,
   "id": "6f3b76d2",
   "metadata": {
    "ExecuteTime": {
     "end_time": "2024-11-15T05:34:00.427649Z",
     "start_time": "2024-11-15T05:34:00.422641Z"
    }
   },
   "outputs": [],
   "source": [
    "p1 = Product('새우깡', 1600)\n",
    "p2 = Product('양파깡', 1800)\n",
    "p3 = Product('페르로쉐', 10000)"
   ]
  },
  {
   "cell_type": "code",
   "execution_count": 16,
   "id": "08f8351f",
   "metadata": {
    "ExecuteTime": {
     "end_time": "2024-11-15T05:34:17.708172Z",
     "start_time": "2024-11-15T05:34:17.703206Z"
    }
   },
   "outputs": [
    {
     "name": "stdout",
     "output_type": "stream",
     "text": [
      "serialNo: 101\n",
      "상품평: 새우깡\n",
      "가격: 1600\n",
      "serialNo: 102\n",
      "상품평: 양파깡\n",
      "가격: 1800\n",
      "serialNo: 103\n",
      "상품평: 페르로쉐\n",
      "가격: 10000\n"
     ]
    }
   ],
   "source": [
    "print(p1)\n",
    "print(p2)\n",
    "print(p3)"
   ]
  },
  {
   "cell_type": "code",
   "execution_count": 17,
   "id": "cd4125e7",
   "metadata": {
    "ExecuteTime": {
     "end_time": "2024-11-15T05:35:05.819630Z",
     "start_time": "2024-11-15T05:35:05.816066Z"
    }
   },
   "outputs": [
    {
     "name": "stdout",
     "output_type": "stream",
     "text": [
      "생성된 최종 시리얼 번호: 103\n"
     ]
    }
   ],
   "source": [
    "print('생성된 최종 시리얼 번호:', Product._Product__count)"
   ]
  },
  {
   "cell_type": "markdown",
   "id": "60ac1a92",
   "metadata": {},
   "source": [
    "# 6절. 연습문제"
   ]
  },
  {
   "cell_type": "code",
   "execution_count": 21,
   "id": "f757c1e3",
   "metadata": {
    "ExecuteTime": {
     "end_time": "2024-11-15T07:18:03.106062Z",
     "start_time": "2024-11-15T07:18:03.097093Z"
    }
   },
   "outputs": [],
   "source": [
    "# 1\n",
    "class Shape:\n",
    "    def __init__(self, x=0, y=0):\n",
    "        self.x = x\n",
    "        self.y = y\n",
    "    def move(self, x, y):\n",
    "        self.x += x\n",
    "        self.y += y\n",
    "    def __str__(self):\n",
    "        return 'x좌표는 {}, y좌표는 {}'.format(self.x, self.y)\n",
    "    def calc_area(self):\n",
    "        raise Exception('이 메소드는 반드시 구현되어야 합니다')\n",
    "    @staticmethod\n",
    "    def five_():\n",
    "        Shape.x = 5\n",
    "        Shape.y = 5\n",
    "        print(\"staticmethod - x좌표는 {}, y좌표는 {}\".format(Shape.x, Shape.y))\n",
    "class Triangle(Shape):\n",
    "    count = 0\n",
    "    def __init__(self, width, height, x=0, y=0):\n",
    "        Triangle.count += 1\n",
    "        super().__init__()\n",
    "        self.width  = width\n",
    "        self.height = height\n",
    "    def __del__(self):\n",
    "        Triangle.count -= 1\n",
    "    def calc_area(self):\n",
    "        return print(\"1/2 * 밑변  * 높이 = 삼각형 넓이 1/2 * {} * {} = {}\".format(\\\n",
    "                        self.width, self.height, (self.width*self.height)/2))\n",
    "    def __str__(self):\n",
    "        return super().__str__() + \"   삼각형 넓이 1/2 * {} * {} = {}\\n현재 Triangle 객체의 개수:{}\".format(\\\n",
    "                        self.width, self.height, self.width*self.height, self.count)\n",
    "        "
   ]
  },
  {
   "cell_type": "code",
   "execution_count": 4,
   "id": "e57062ba",
   "metadata": {
    "ExecuteTime": {
     "end_time": "2024-11-15T06:28:33.269501Z",
     "start_time": "2024-11-15T06:28:33.264516Z"
    }
   },
   "outputs": [
    {
     "name": "stdout",
     "output_type": "stream",
     "text": [
      "x좌표는 2, y좌표는 3\n",
      "staticmethod - x좌표는 5, y좌표는 5\n"
     ]
    }
   ],
   "source": [
    "shape1 = Shape(2, 3)\n",
    "print(shape1.__str__())\n",
    "# shape1.calc_area() # Error 강제 예외 발생\n",
    "Shape.five_()"
   ]
  },
  {
   "cell_type": "code",
   "execution_count": 25,
   "id": "e4d614cd",
   "metadata": {
    "ExecuteTime": {
     "end_time": "2024-11-15T07:18:55.822000Z",
     "start_time": "2024-11-15T07:18:55.817006Z"
    }
   },
   "outputs": [
    {
     "name": "stdout",
     "output_type": "stream",
     "text": [
      "1/2 * 밑변  * 높이 = 삼각형 넓이 1/2 * 5 * 5 = 12.5\n",
      "1/2 * 밑변  * 높이 = 삼각형 넓이 1/2 * 10 * 10 = 50.0\n",
      "x좌표는 0, y좌표는 0   삼각형 넓이 1/2 * 5 * 5 = 25\n",
      "현재 Triangle 객체의 개수:1\n",
      "x좌표는 0, y좌표는 0   삼각형 넓이 1/2 * 10 * 10 = 100\n",
      "현재 Triangle 객체의 개수:0\n"
     ]
    }
   ],
   "source": [
    "tri1 = Triangle(5, 5, 1, 1)\n",
    "tri2 = Triangle(10, 10, 2, 3)\n",
    "tri1.calc_area()\n",
    "tri2.calc_area()\n",
    "print(tri1.__str__())\n",
    "del tri1\n",
    "print(tri2.__str__())"
   ]
  },
  {
   "cell_type": "code",
   "execution_count": null,
   "id": "e28b11ea",
   "metadata": {},
   "outputs": [],
   "source": []
  },
  {
   "cell_type": "code",
   "execution_count": null,
   "id": "aba05d4b",
   "metadata": {},
   "outputs": [],
   "source": []
  },
  {
   "cell_type": "code",
   "execution_count": null,
   "id": "f71611b2",
   "metadata": {},
   "outputs": [],
   "source": []
  },
  {
   "cell_type": "code",
   "execution_count": null,
   "id": "aeb014a8",
   "metadata": {},
   "outputs": [],
   "source": []
  },
  {
   "cell_type": "code",
   "execution_count": null,
   "id": "51037cd6",
   "metadata": {},
   "outputs": [],
   "source": []
  }
 ],
 "metadata": {
  "kernelspec": {
   "display_name": "Python 3 (ipykernel)",
   "language": "python",
   "name": "python3"
  },
  "language_info": {
   "codemirror_mode": {
    "name": "ipython",
    "version": 3
   },
   "file_extension": ".py",
   "mimetype": "text/x-python",
   "name": "python",
   "nbconvert_exporter": "python",
   "pygments_lexer": "ipython3",
   "version": "3.10.9"
  },
  "toc": {
   "base_numbering": 1,
   "nav_menu": {},
   "number_sections": true,
   "sideBar": true,
   "skip_h1_title": false,
   "title_cell": "Table of Contents",
   "title_sidebar": "Contents",
   "toc_cell": false,
   "toc_position": {
    "height": "calc(100% - 180px)",
    "left": "10px",
    "top": "150px",
    "width": "165px"
   },
   "toc_section_display": true,
   "toc_window_display": true
  }
 },
 "nbformat": 4,
 "nbformat_minor": 5
}
