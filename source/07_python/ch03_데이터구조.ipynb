{
 "cells": [
  {
   "cell_type": "code",
   "execution_count": null,
   "id": "8d531554",
   "metadata": {},
   "outputs": [],
   "source": [
    "from IPython.display import display, HTML\n",
    "display(HTML(\"\"\"\n",
    "<style>\n",
    "div.container{width:80% !important;}\n",
    "div.CodeMirror {font-family:Consolas; font-size:16pt;}\n",
    "div.output {font-size:16pt; font-weight:bold;}\n",
    "div.input {font-family:Consolas; font-size:16pt;}\n",
    "div.prompt {min-width:70px;}\n",
    "div#toc-header{margin-top:150px;}\n",
    "</style>\n",
    "<style>\n",
    "span.toc-item-num{\n",
    "display:none;\n",
    "}\n",
    "</style>\n",
    "\"\"\"))"
   ]
  },
  {
   "cell_type": "markdown",
   "id": "b19076bf",
   "metadata": {},
   "source": [
    "<b><font color=\"red\" size=\"6\">ch03. 데이터 구조</font></b>\n",
    "- `리스트[]`, `튜플()`, `딕셔너리(hashMap과 유사)`, `셋`"
   ]
  },
  {
   "cell_type": "markdown",
   "id": "cc638c0c",
   "metadata": {},
   "source": [
    "# 1절. 리스트"
   ]
  },
  {
   "cell_type": "markdown",
   "id": "e98d59a0",
   "metadata": {},
   "source": [
    "## 1.1 리스트 만들기\n",
    "- `[]`를 이용해서 만들며, 여러 개 값을 하나의 변수에 저장/관리할 수 있음\n",
    "- list() 함수 이용도 가능\n",
    "- 인덱스: 각 요소의 위치. 인덱스는 0부터 시작. 맨 마지막 인덱스는 -1\n",
    "- 슬라이싱([from:to:by]): 부분 데이터셋을 추출\n",
    "- 인덱스와 슬라이싱을 이용해서 쓰기와 읽기를 지원"
   ]
  },
  {
   "cell_type": "code",
   "execution_count": 5,
   "id": "fce8f69d",
   "metadata": {
    "ExecuteTime": {
     "end_time": "2024-11-06T03:03:42.081889Z",
     "start_time": "2024-11-06T03:03:42.075396Z"
    }
   },
   "outputs": [
    {
     "data": {
      "text/plain": [
       "list"
      ]
     },
     "execution_count": 5,
     "metadata": {},
     "output_type": "execute_result"
    }
   ],
   "source": [
    "fruits = ['banana', 'apple', 'orange', 'grape']\n",
    "type(fruits)"
   ]
  },
  {
   "cell_type": "code",
   "execution_count": 6,
   "id": "e602f0fc",
   "metadata": {
    "ExecuteTime": {
     "end_time": "2024-11-06T03:03:47.539541Z",
     "start_time": "2024-11-06T03:03:47.532559Z"
    }
   },
   "outputs": [
    {
     "name": "stdout",
     "output_type": "stream",
     "text": [
      "['banana', 'apple', 'orange', 'grape']\n"
     ]
    }
   ],
   "source": [
    "print(fruits)"
   ]
  },
  {
   "cell_type": "code",
   "execution_count": 7,
   "id": "3cedcbee",
   "metadata": {
    "ExecuteTime": {
     "end_time": "2024-11-06T03:04:35.720852Z",
     "start_time": "2024-11-06T03:04:35.715478Z"
    }
   },
   "outputs": [
    {
     "name": "stdout",
     "output_type": "stream",
     "text": [
      "banana\n"
     ]
    }
   ],
   "source": [
    "print(fruits[0])"
   ]
  },
  {
   "cell_type": "code",
   "execution_count": 8,
   "id": "0e25d982",
   "metadata": {
    "ExecuteTime": {
     "end_time": "2024-11-06T03:05:09.576611Z",
     "start_time": "2024-11-06T03:05:09.571645Z"
    }
   },
   "outputs": [
    {
     "name": "stdout",
     "output_type": "stream",
     "text": [
      "['mango', 'apple', 'orange', 'grape']\n"
     ]
    }
   ],
   "source": [
    "fruits[0] = 'mango'\n",
    "print(fruits)"
   ]
  },
  {
   "cell_type": "code",
   "execution_count": 10,
   "id": "e6c37500",
   "metadata": {
    "ExecuteTime": {
     "end_time": "2024-11-06T03:07:20.017738Z",
     "start_time": "2024-11-06T03:07:20.011734Z"
    }
   },
   "outputs": [
    {
     "name": "stdout",
     "output_type": "stream",
     "text": [
      "x = mango\n",
      "y = apple\n",
      "z = orange\n"
     ]
    }
   ],
   "source": [
    "fruits = ['mango', 'apple', 'orange']\n",
    "x, y, z = fruits\n",
    "print(\"x = {}\".format(x))\n",
    "print(\"y = {}\".format(y))\n",
    "print(\"z = {}\".format(z))"
   ]
  },
  {
   "cell_type": "code",
   "execution_count": 11,
   "id": "4c680435",
   "metadata": {
    "ExecuteTime": {
     "end_time": "2024-11-06T03:09:04.954833Z",
     "start_time": "2024-11-06T03:09:04.948731Z"
    }
   },
   "outputs": [
    {
     "data": {
      "text/plain": [
       "range(0, 10)"
      ]
     },
     "execution_count": 11,
     "metadata": {},
     "output_type": "execute_result"
    }
   ],
   "source": [
    "# range(from, to, by): from부터 to앞까지 by씩 증가하면서 지정된 범위의 \n",
    "                    # 숫자를 순차적으로 사용할 수 있게 \n",
    "                    # from 생략 시 0, by 생략 시 1\n",
    "range(10)"
   ]
  },
  {
   "cell_type": "code",
   "execution_count": 12,
   "id": "395dbafa",
   "metadata": {
    "ExecuteTime": {
     "end_time": "2024-11-06T03:09:19.060918Z",
     "start_time": "2024-11-06T03:09:19.053936Z"
    }
   },
   "outputs": [
    {
     "data": {
      "text/plain": [
       "[0, 1, 2, 3, 4, 5, 6, 7, 8, 9]"
      ]
     },
     "execution_count": 12,
     "metadata": {},
     "output_type": "execute_result"
    }
   ],
   "source": [
    "list(range(10))"
   ]
  },
  {
   "cell_type": "code",
   "execution_count": 13,
   "id": "609edac2",
   "metadata": {
    "ExecuteTime": {
     "end_time": "2024-11-06T03:10:27.425888Z",
     "start_time": "2024-11-06T03:10:27.420709Z"
    }
   },
   "outputs": [
    {
     "data": {
      "text/plain": [
       "[0, 2, 4, 6, 8]"
      ]
     },
     "execution_count": 13,
     "metadata": {},
     "output_type": "execute_result"
    }
   ],
   "source": [
    "list(range(0, 10, 2))"
   ]
  },
  {
   "cell_type": "code",
   "execution_count": 16,
   "id": "972a47e1",
   "metadata": {
    "ExecuteTime": {
     "end_time": "2024-11-06T03:11:24.362015Z",
     "start_time": "2024-11-06T03:11:24.355724Z"
    }
   },
   "outputs": [
    {
     "data": {
      "text/plain": [
       "[10, 8, 6, 4, 2, 0]"
      ]
     },
     "execution_count": 16,
     "metadata": {},
     "output_type": "execute_result"
    }
   ],
   "source": [
    "list(range(10, -1, -2))"
   ]
  },
  {
   "cell_type": "code",
   "execution_count": 17,
   "id": "363b7015",
   "metadata": {
    "ExecuteTime": {
     "end_time": "2024-11-06T03:13:32.113379Z",
     "start_time": "2024-11-06T03:13:32.108371Z"
    }
   },
   "outputs": [
    {
     "name": "stdout",
     "output_type": "stream",
     "text": [
      "0\n",
      "1\n",
      "2\n"
     ]
    }
   ],
   "source": [
    "for i in [0, 1, 2]: \n",
    "    print(i)"
   ]
  },
  {
   "cell_type": "code",
   "execution_count": 18,
   "id": "ada4d979",
   "metadata": {
    "ExecuteTime": {
     "end_time": "2024-11-06T03:14:53.282758Z",
     "start_time": "2024-11-06T03:14:53.276760Z"
    }
   },
   "outputs": [
    {
     "name": "stdout",
     "output_type": "stream",
     "text": [
      "0\n",
      "1\n",
      "2\n"
     ]
    }
   ],
   "source": [
    "for i in range(3): \n",
    "    print(i)# 0~2"
   ]
  },
  {
   "cell_type": "code",
   "execution_count": 19,
   "id": "27e40d6d",
   "metadata": {
    "ExecuteTime": {
     "end_time": "2024-11-06T03:15:21.609762Z",
     "start_time": "2024-11-06T03:15:21.604319Z"
    }
   },
   "outputs": [
    {
     "name": "stdout",
     "output_type": "stream",
     "text": [
      "mango\n",
      "apple\n",
      "orange\n"
     ]
    }
   ],
   "source": [
    "# sol 1\n",
    "for fruit in fruits:\n",
    "    print(fruit)"
   ]
  },
  {
   "cell_type": "code",
   "execution_count": 21,
   "id": "a9e2f53b",
   "metadata": {
    "ExecuteTime": {
     "end_time": "2024-11-06T03:32:14.930620Z",
     "start_time": "2024-11-06T03:32:14.926629Z"
    }
   },
   "outputs": [
    {
     "name": "stdout",
     "output_type": "stream",
     "text": [
      "0번째 과일은 mango\n",
      "1번째 과일은 apple\n",
      "2번째 과일은 orange\n",
      "3번째 과일은 banana\n"
     ]
    }
   ],
   "source": [
    "# sol 2\n",
    "fruits = ['mango', 'apple', 'orange', 'banana']\n",
    "for idx in range(len(fruits)):\n",
    "    print(\"{}번째 과일은 {}\".format(idx, fruits[idx]))"
   ]
  },
  {
   "cell_type": "code",
   "execution_count": 23,
   "id": "0e8f2d00",
   "metadata": {
    "ExecuteTime": {
     "end_time": "2024-11-06T03:34:43.149989Z",
     "start_time": "2024-11-06T03:34:43.134366Z"
    }
   },
   "outputs": [
    {
     "data": {
      "text/plain": [
       "[(0, 'mango'), (1, 'apple'), (2, 'orange'), (3, 'banana')]"
      ]
     },
     "execution_count": 23,
     "metadata": {},
     "output_type": "execute_result"
    }
   ],
   "source": [
    "list(enumerate(fruits))"
   ]
  },
  {
   "cell_type": "code",
   "execution_count": 27,
   "id": "a76f315a",
   "metadata": {
    "ExecuteTime": {
     "end_time": "2024-11-06T03:36:45.587270Z",
     "start_time": "2024-11-06T03:36:45.582282Z"
    }
   },
   "outputs": [
    {
     "name": "stdout",
     "output_type": "stream",
     "text": [
      "0번째 과일은 mango\n",
      "1번째 과일은 apple\n",
      "2번째 과일은 orange\n",
      "3번째 과일은 banana\n"
     ]
    }
   ],
   "source": [
    "# sol 3\n",
    "for idx, value in enumerate(fruits):\n",
    "    print(\"{}번째 과일은 {}\".format(idx, value))"
   ]
  },
  {
   "cell_type": "code",
   "execution_count": 28,
   "id": "6d4158a0",
   "metadata": {
    "ExecuteTime": {
     "end_time": "2024-11-06T03:38:39.473740Z",
     "start_time": "2024-11-06T03:38:39.468754Z"
    }
   },
   "outputs": [
    {
     "name": "stdout",
     "output_type": "stream",
     "text": [
      "0 mango\n",
      "1 apple\n",
      "2 orange\n",
      "3 banana\n"
     ]
    }
   ],
   "source": [
    "for idx, value in enumerate(fruits):\n",
    "    print(idx, value)"
   ]
  },
  {
   "cell_type": "code",
   "execution_count": 30,
   "id": "cbc8ed95",
   "metadata": {
    "ExecuteTime": {
     "end_time": "2024-11-06T03:41:25.364291Z",
     "start_time": "2024-11-06T03:41:25.356845Z"
    }
   },
   "outputs": [
    {
     "data": {
      "text/plain": [
       "[1, 2, 3, '4', True, [1, 2, 3]]"
      ]
     },
     "execution_count": 30,
     "metadata": {},
     "output_type": "execute_result"
    }
   ],
   "source": [
    "numbers = [ 1, 2, 3, '4', True, [1, 2, 3] ]\n",
    "numbers"
   ]
  },
  {
   "cell_type": "code",
   "execution_count": 32,
   "id": "b44ce815",
   "metadata": {
    "ExecuteTime": {
     "end_time": "2024-11-06T03:48:15.357663Z",
     "start_time": "2024-11-06T03:48:15.349882Z"
    }
   },
   "outputs": [
    {
     "data": {
      "text/plain": [
       "(3, 5)"
      ]
     },
     "execution_count": 32,
     "metadata": {},
     "output_type": "execute_result"
    }
   ],
   "source": [
    "# 2차원 리스트(list안의 list)\n",
    "numbers_2d = [ [1, 2, 3, 4, 5], \n",
    "               [11, 12, 13, 14, 15],\n",
    "               [91, 92, 93, 94, 95] ]\n",
    "len(numbers_2d), len(numbers_2d[0]) # 리스트 갯수"
   ]
  },
  {
   "cell_type": "code",
   "execution_count": 34,
   "id": "d0ada76c",
   "metadata": {
    "ExecuteTime": {
     "end_time": "2024-11-06T03:49:34.643166Z",
     "start_time": "2024-11-06T03:49:34.636767Z"
    }
   },
   "outputs": [
    {
     "data": {
      "text/plain": [
       "12"
      ]
     },
     "execution_count": 34,
     "metadata": {},
     "output_type": "execute_result"
    }
   ],
   "source": [
    "numbers_2d[1][1]"
   ]
  },
  {
   "cell_type": "code",
   "execution_count": 43,
   "id": "dbf8659c",
   "metadata": {
    "ExecuteTime": {
     "end_time": "2024-11-06T03:54:28.291739Z",
     "start_time": "2024-11-06T03:54:28.285755Z"
    }
   },
   "outputs": [
    {
     "name": "stdout",
     "output_type": "stream",
     "text": [
      "0행0열: 1\t0행1열: 2\t0행2열: 3\t0행3열: 4\t0행4열: 5\t\n",
      "1행0열: 11\t1행1열: 12\t1행2열: 13\t1행3열: 14\t1행4열: 15\t\n",
      "2행0열: 91\t2행1열: 92\t2행2열: 93\t2행3열: 94\t2행4열: 95\t\n"
     ]
    }
   ],
   "source": [
    "for i in range(len(numbers_2d)):\n",
    "    for j in range(len(numbers_2d[i])):\n",
    "        print(\"{}행{}열: {}\".format(i, j, numbers_2d[i][j]), end='\\t')\n",
    "    print() # 개행"
   ]
  },
  {
   "cell_type": "markdown",
   "id": "9f8b4d99",
   "metadata": {},
   "source": [
    "## 1.2 기본 정보 조회"
   ]
  },
  {
   "cell_type": "code",
   "execution_count": 55,
   "id": "06397907",
   "metadata": {
    "ExecuteTime": {
     "end_time": "2024-11-06T04:02:04.074216Z",
     "start_time": "2024-11-06T04:02:04.069071Z"
    }
   },
   "outputs": [],
   "source": [
    "numbers    = [ 1, 12, 3, 4, 5 ]\n",
    "numbers_2d = [ [100, 0, 1, 2, 3],\n",
    "               [9, 100, 110, 102, 130],\n",
    "               [59, 100, 130] ]"
   ]
  },
  {
   "cell_type": "code",
   "execution_count": 56,
   "id": "cd32a75e",
   "metadata": {
    "ExecuteTime": {
     "end_time": "2024-11-06T04:02:05.289751Z",
     "start_time": "2024-11-06T04:02:05.284764Z"
    }
   },
   "outputs": [
    {
     "name": "stdout",
     "output_type": "stream",
     "text": [
      "5 3\n"
     ]
    }
   ],
   "source": [
    "# 요소의 수\n",
    "print(len(numbers), len(numbers_2d))"
   ]
  },
  {
   "cell_type": "code",
   "execution_count": 57,
   "id": "72463569",
   "metadata": {
    "ExecuteTime": {
     "end_time": "2024-11-06T04:02:06.827953Z",
     "start_time": "2024-11-06T04:02:06.820863Z"
    }
   },
   "outputs": [
    {
     "data": {
      "text/plain": [
       "(1, 12)"
      ]
     },
     "execution_count": 57,
     "metadata": {},
     "output_type": "execute_result"
    }
   ],
   "source": [
    "# 최솟값, 최댓값\n",
    "min(numbers), max(numbers)"
   ]
  },
  {
   "cell_type": "code",
   "execution_count": 59,
   "id": "31a5c0f5",
   "metadata": {
    "ExecuteTime": {
     "end_time": "2024-11-06T04:02:46.707064Z",
     "start_time": "2024-11-06T04:02:46.701060Z"
    }
   },
   "outputs": [
    {
     "data": {
      "text/plain": [
       "([9, 100, 110, 102, 130], [100, 0, 1, 2, 3])"
      ]
     },
     "execution_count": 59,
     "metadata": {},
     "output_type": "execute_result"
    }
   ],
   "source": [
    "# 2차원 list의 min(): 부분 리스트 중에서 첫요소가 가장 작은 값\n",
    "#             max(): 부분 리스트 중에서 첫요소가 가장 큰 값\n",
    "min(numbers_2d), max(numbers_2d)"
   ]
  },
  {
   "cell_type": "code",
   "execution_count": 60,
   "id": "b9f7ba69",
   "metadata": {
    "ExecuteTime": {
     "end_time": "2024-11-06T04:03:58.980050Z",
     "start_time": "2024-11-06T04:03:58.973069Z"
    }
   },
   "outputs": [
    {
     "data": {
      "text/plain": [
       "('banana', 'orange')"
      ]
     },
     "execution_count": 60,
     "metadata": {},
     "output_type": "execute_result"
    }
   ],
   "source": [
    "# list의 데이터가 문자일 경우 ascii 코드값으로 min(), max() 적용\n",
    "fruits = ['mango', 'banana', 'orange']\n",
    "min(fruits), max(fruits)"
   ]
  },
  {
   "cell_type": "code",
   "execution_count": 69,
   "id": "d742129c",
   "metadata": {
    "ExecuteTime": {
     "end_time": "2024-11-06T04:08:57.883184Z",
     "start_time": "2024-11-06T04:08:57.877216Z"
    }
   },
   "outputs": [
    {
     "name": "stdout",
     "output_type": "stream",
     "text": [
      "원 리스트    :  [1, 12, 3, 14, 5]\n",
      "오름차순 정렬:  [1, 3, 5, 12, 14]\n",
      "내림차순 정렬:  [14, 12, 5, 3, 1]\n",
      "합          :  35\n",
      "sorted 함수 사용시 리스트 내용이 바뀌지 않음:  [1, 12, 3, 14, 5]\n"
     ]
    }
   ],
   "source": [
    "# 정렬하기\n",
    "numbers = [1, 12, 3, 14, 5]\n",
    "print('원 리스트    : ', numbers)\n",
    "print('오름차순 정렬: ', sorted(numbers))\n",
    "print('내림차순 정렬: ', sorted(numbers, reverse=True))\n",
    "print('합          : ', sum(numbers))\n",
    "print('sorted 함수 사용시 리스트 내용이 바뀌지 않음: ', numbers)"
   ]
  },
  {
   "cell_type": "markdown",
   "id": "9de43072",
   "metadata": {},
   "source": [
    "## 1.3 요소 추가"
   ]
  },
  {
   "cell_type": "code",
   "execution_count": null,
   "id": "5e3dbafb",
   "metadata": {},
   "outputs": [],
   "source": [
    "# +              : 두 리스트 연결\n",
    "# *              : 리스트를 곱한 수만큼 반복\n",
    "# append()       : 요소 맨 뒤에 추가\n",
    "# extend()       : 리스트를 요소별로 맨 뒤에 추가\n",
    "# insert(idx, 값): idx번째 인덱스 위치에 값 추가 "
   ]
  },
  {
   "cell_type": "code",
   "execution_count": 8,
   "id": "b25bbde5",
   "metadata": {
    "ExecuteTime": {
     "end_time": "2024-11-06T05:19:03.940727Z",
     "start_time": "2024-11-06T05:19:03.934759Z"
    }
   },
   "outputs": [
    {
     "data": {
      "text/plain": [
       "[1, 2, 3, 1, 2, 3]"
      ]
     },
     "execution_count": 8,
     "metadata": {},
     "output_type": "execute_result"
    }
   ],
   "source": [
    "numbers = [1, 2, 3]\n",
    "numbers = numbers + numbers # 리스트 연결\n",
    "numbers"
   ]
  },
  {
   "cell_type": "code",
   "execution_count": 9,
   "id": "cb32007b",
   "metadata": {
    "ExecuteTime": {
     "end_time": "2024-11-06T05:19:06.229502Z",
     "start_time": "2024-11-06T05:19:06.223811Z"
    }
   },
   "outputs": [
    {
     "name": "stdout",
     "output_type": "stream",
     "text": [
      "[1, 2, 3, 1, 2, 3, 1, 2, 3]\n",
      "[1, 2, 3, 1, 2, 3, 1, 2, 3]\n"
     ]
    }
   ],
   "source": [
    "numbers = [1, 2, 3]\n",
    "print(3 * numbers) # 곱한 수 만큼 list 반복\n",
    "print(numbers * 3)"
   ]
  },
  {
   "cell_type": "code",
   "execution_count": 10,
   "id": "79813211",
   "metadata": {
    "ExecuteTime": {
     "end_time": "2024-11-06T05:19:08.268555Z",
     "start_time": "2024-11-06T05:19:08.263547Z"
    }
   },
   "outputs": [
    {
     "data": {
      "text/plain": [
       "[1, 2, 3, 4]"
      ]
     },
     "execution_count": 10,
     "metadata": {},
     "output_type": "execute_result"
    }
   ],
   "source": [
    "numbers.append(4)\n",
    "numbers"
   ]
  },
  {
   "cell_type": "code",
   "execution_count": 11,
   "id": "5fbe1807",
   "metadata": {
    "ExecuteTime": {
     "end_time": "2024-11-06T05:19:10.809261Z",
     "start_time": "2024-11-06T05:19:10.795038Z"
    }
   },
   "outputs": [
    {
     "data": {
      "text/plain": [
       "[1, 2, 3, 4, [5, 6, 7]]"
      ]
     },
     "execution_count": 11,
     "metadata": {},
     "output_type": "execute_result"
    }
   ],
   "source": [
    "numbers.append([5, 6, 7]) # 맨 뒤에 요소 추가\n",
    "numbers"
   ]
  },
  {
   "cell_type": "code",
   "execution_count": 14,
   "id": "22e1b3de",
   "metadata": {
    "ExecuteTime": {
     "end_time": "2024-11-06T05:21:47.133786Z",
     "start_time": "2024-11-06T05:21:47.126825Z"
    }
   },
   "outputs": [
    {
     "data": {
      "text/plain": [
       "[1, 2, 3, 4, 5, 6]"
      ]
     },
     "execution_count": 14,
     "metadata": {},
     "output_type": "execute_result"
    }
   ],
   "source": [
    "num = [1, 2, 3]\n",
    "num.extend([4, 5, 6]) # 요소별로 맨뒤에 각기 추가\n",
    "num"
   ]
  },
  {
   "cell_type": "code",
   "execution_count": 15,
   "id": "d9d68800",
   "metadata": {
    "ExecuteTime": {
     "end_time": "2024-11-06T05:24:51.551083Z",
     "start_time": "2024-11-06T05:24:51.543761Z"
    }
   },
   "outputs": [
    {
     "data": {
      "text/plain": [
       "['a', 'b', 'c', 'd']"
      ]
     },
     "execution_count": 15,
     "metadata": {},
     "output_type": "execute_result"
    }
   ],
   "source": [
    "lst = ['a', 'b', 'c']\n",
    "lst.append('d')\n",
    "lst"
   ]
  },
  {
   "cell_type": "code",
   "execution_count": 16,
   "id": "e465de7e",
   "metadata": {
    "ExecuteTime": {
     "end_time": "2024-11-06T05:25:02.205728Z",
     "start_time": "2024-11-06T05:25:02.199743Z"
    }
   },
   "outputs": [
    {
     "data": {
      "text/plain": [
       "['a', 'b', 'c', 'd', 'hello']"
      ]
     },
     "execution_count": 16,
     "metadata": {},
     "output_type": "execute_result"
    }
   ],
   "source": [
    "lst.append('hello')\n",
    "lst"
   ]
  },
  {
   "cell_type": "code",
   "execution_count": 17,
   "id": "97fe4b4a",
   "metadata": {
    "ExecuteTime": {
     "end_time": "2024-11-06T05:25:26.228450Z",
     "start_time": "2024-11-06T05:25:26.222467Z"
    }
   },
   "outputs": [
    {
     "data": {
      "text/plain": [
       "['a', 'b', 'c', 'd', 'hello', 'h', 'e', 'l', 'l', 'o']"
      ]
     },
     "execution_count": 17,
     "metadata": {},
     "output_type": "execute_result"
    }
   ],
   "source": [
    "lst.extend('hello')\n",
    "lst"
   ]
  },
  {
   "cell_type": "code",
   "execution_count": 18,
   "id": "6d03d361",
   "metadata": {
    "ExecuteTime": {
     "end_time": "2024-11-06T05:26:35.990394Z",
     "start_time": "2024-11-06T05:26:35.983082Z"
    }
   },
   "outputs": [
    {
     "data": {
      "text/plain": [
       "[1, 'xx', 2, 3, 4, 5]"
      ]
     },
     "execution_count": 18,
     "metadata": {},
     "output_type": "execute_result"
    }
   ],
   "source": [
    "numbers = [1, 2, 3, 4, 5]\n",
    "numbers.insert(1, 'xx')\n",
    "numbers # 나머지 요소 shift"
   ]
  },
  {
   "cell_type": "markdown",
   "id": "eb504c22",
   "metadata": {},
   "source": [
    "## 1.4 인덱싱과 요소 갯수\n",
    "- `변수[index]`      : 인덱스를 이용한 접근\n",
    "- `index(찾을데이터)`: 해당 찾을 데이터가 있는 요소의 index를 반환\n",
    "- `count(찾을데이터)`: 리스트에서 데이터의 갯수 반환"
   ]
  },
  {
   "cell_type": "code",
   "execution_count": 4,
   "id": "dae30dd6",
   "metadata": {
    "ExecuteTime": {
     "end_time": "2024-11-06T05:36:55.180418Z",
     "start_time": "2024-11-06T05:36:55.175142Z"
    }
   },
   "outputs": [],
   "source": [
    "numbers = [1, 2, 3, [1, 2, 3], 1, 2, 3]"
   ]
  },
  {
   "cell_type": "code",
   "execution_count": 5,
   "id": "bd88e3bc",
   "metadata": {
    "ExecuteTime": {
     "end_time": "2024-11-06T05:36:57.524728Z",
     "start_time": "2024-11-06T05:36:57.519722Z"
    }
   },
   "outputs": [
    {
     "data": {
      "text/plain": [
       "2"
      ]
     },
     "execution_count": 5,
     "metadata": {},
     "output_type": "execute_result"
    }
   ],
   "source": [
    "numbers.count(2)"
   ]
  },
  {
   "cell_type": "code",
   "execution_count": 6,
   "id": "95d9d10e",
   "metadata": {
    "ExecuteTime": {
     "end_time": "2024-11-06T05:36:59.501331Z",
     "start_time": "2024-11-06T05:36:59.495348Z"
    }
   },
   "outputs": [
    {
     "data": {
      "text/plain": [
       "0"
      ]
     },
     "execution_count": 6,
     "metadata": {},
     "output_type": "execute_result"
    }
   ],
   "source": [
    "numbers.count(9)"
   ]
  },
  {
   "cell_type": "code",
   "execution_count": 7,
   "id": "b275f0ce",
   "metadata": {
    "ExecuteTime": {
     "end_time": "2024-11-06T05:37:30.640936Z",
     "start_time": "2024-11-06T05:37:30.634951Z"
    }
   },
   "outputs": [
    {
     "data": {
      "text/plain": [
       "1"
      ]
     },
     "execution_count": 7,
     "metadata": {},
     "output_type": "execute_result"
    }
   ],
   "source": [
    "numbers = [1, 2, 3, [1, 2, 3], 1, 2, 3]\n",
    "numbers.index(2) # 처음(0인덱스)부터 2가 나오는 위치"
   ]
  },
  {
   "cell_type": "code",
   "execution_count": 8,
   "id": "67f6f7ee",
   "metadata": {
    "ExecuteTime": {
     "end_time": "2024-11-06T05:38:33.518132Z",
     "start_time": "2024-11-06T05:38:33.504769Z"
    }
   },
   "outputs": [
    {
     "data": {
      "text/plain": [
       "5"
      ]
     },
     "execution_count": 8,
     "metadata": {},
     "output_type": "execute_result"
    }
   ],
   "source": [
    "numbers.index(2, 2) # 2번째부터 2가 처음나오는 위치"
   ]
  },
  {
   "cell_type": "code",
   "execution_count": 9,
   "id": "4616378e",
   "metadata": {
    "ExecuteTime": {
     "end_time": "2024-11-06T05:39:39.126410Z",
     "start_time": "2024-11-06T05:39:39.118986Z"
    }
   },
   "outputs": [
    {
     "name": "stdout",
     "output_type": "stream",
     "text": [
      "0\n",
      "False\n"
     ]
    }
   ],
   "source": [
    "# 9가 numbers 리스트의 요소에 있는지 여부를 검사\n",
    "print(numbers.count(9))\n",
    "print(9 in numbers)"
   ]
  },
  {
   "cell_type": "code",
   "execution_count": 11,
   "id": "d1215e4d",
   "metadata": {
    "ExecuteTime": {
     "end_time": "2024-11-06T05:41:01.938264Z",
     "start_time": "2024-11-06T05:41:01.919174Z"
    },
    "collapsed": true
   },
   "outputs": [
    {
     "ename": "ValueError",
     "evalue": "9 is not in list",
     "output_type": "error",
     "traceback": [
      "\u001b[1;31m---------------------------------------------------------------------------\u001b[0m",
      "\u001b[1;31mValueError\u001b[0m                                Traceback (most recent call last)",
      "Cell \u001b[1;32mIn[11], line 1\u001b[0m\n\u001b[1;32m----> 1\u001b[0m \u001b[43mnumbers\u001b[49m\u001b[38;5;241;43m.\u001b[39;49m\u001b[43mindex\u001b[49m\u001b[43m(\u001b[49m\u001b[38;5;241;43m9\u001b[39;49m\u001b[43m)\u001b[49m\n",
      "\u001b[1;31mValueError\u001b[0m: 9 is not in list"
     ]
    }
   ],
   "source": [
    "numbers.index(9) # Error"
   ]
  },
  {
   "cell_type": "code",
   "execution_count": 12,
   "id": "6fd57d24",
   "metadata": {
    "ExecuteTime": {
     "end_time": "2024-11-06T05:43:54.430165Z",
     "start_time": "2024-11-06T05:43:54.424182Z"
    }
   },
   "outputs": [
    {
     "name": "stdout",
     "output_type": "stream",
     "text": [
      "9가 요소에 포함되지 않습니다\n"
     ]
    }
   ],
   "source": [
    "if 9 in numbers:\n",
    "    print(numbers.index(9))\n",
    "else:\n",
    "    print('9가 요소에 포함되지 않습니다')"
   ]
  },
  {
   "cell_type": "code",
   "execution_count": 14,
   "id": "93f1a702",
   "metadata": {
    "ExecuteTime": {
     "end_time": "2024-11-06T05:47:43.972561Z",
     "start_time": "2024-11-06T05:47:43.958062Z"
    }
   },
   "outputs": [],
   "source": [
    "# def: 함수 정의하는 예약어\n",
    "# sol 1\n",
    "def safe_index(lst, item):\n",
    "    if item in lst:\n",
    "        return list.index(item)\n",
    "    else:\n",
    "        return -1"
   ]
  },
  {
   "cell_type": "code",
   "execution_count": 15,
   "id": "26e78e40",
   "metadata": {
    "ExecuteTime": {
     "end_time": "2024-11-06T05:47:49.669006Z",
     "start_time": "2024-11-06T05:47:49.663022Z"
    }
   },
   "outputs": [
    {
     "data": {
      "text/plain": [
       "-1"
      ]
     },
     "execution_count": 15,
     "metadata": {},
     "output_type": "execute_result"
    }
   ],
   "source": [
    "safe_index(numbers, 9)"
   ]
  },
  {
   "cell_type": "code",
   "execution_count": 17,
   "id": "d4eed107",
   "metadata": {
    "ExecuteTime": {
     "end_time": "2024-11-06T05:49:39.220460Z",
     "start_time": "2024-11-06T05:49:39.215493Z"
    }
   },
   "outputs": [],
   "source": [
    "# sol 2(짧은 버전)\n",
    "def safe_index(lst, item):\n",
    "    return lst.index(item) if item in lst else -1"
   ]
  },
  {
   "cell_type": "code",
   "execution_count": 18,
   "id": "8ecc4359",
   "metadata": {
    "ExecuteTime": {
     "end_time": "2024-11-06T05:49:44.558292Z",
     "start_time": "2024-11-06T05:49:44.551331Z"
    }
   },
   "outputs": [
    {
     "data": {
      "text/plain": [
       "-1"
      ]
     },
     "execution_count": 18,
     "metadata": {},
     "output_type": "execute_result"
    }
   ],
   "source": [
    "safe_index(numbers, 9)"
   ]
  },
  {
   "cell_type": "code",
   "execution_count": 19,
   "id": "29b32edb",
   "metadata": {
    "ExecuteTime": {
     "end_time": "2024-11-06T05:51:28.777882Z",
     "start_time": "2024-11-06T05:51:28.759747Z"
    }
   },
   "outputs": [
    {
     "ename": "IndexError",
     "evalue": "list index out of range",
     "output_type": "error",
     "traceback": [
      "\u001b[1;31m---------------------------------------------------------------------------\u001b[0m",
      "\u001b[1;31mIndexError\u001b[0m                                Traceback (most recent call last)",
      "Cell \u001b[1;32mIn[19], line 1\u001b[0m\n\u001b[1;32m----> 1\u001b[0m \u001b[43mnumbers\u001b[49m\u001b[43m[\u001b[49m\u001b[38;5;241;43m20\u001b[39;49m\u001b[43m]\u001b[49m\n",
      "\u001b[1;31mIndexError\u001b[0m: list index out of range"
     ]
    }
   ],
   "source": [
    "numbers[20] # 벗어난 인덱싱 시 에러"
   ]
  },
  {
   "cell_type": "markdown",
   "id": "ce9c9175",
   "metadata": {},
   "source": [
    "## 1.5 리스트 슬라이싱\n",
    "1. 리스트 슬라이싱: list에서 원하는 index의 데이터를 추출\n",
    "\n",
    "- `인덱스의 범위를 벗어난 값도 에러나지 않음`\n",
    "- [from:stop:step] from부터 stop 앞까지 step씩 증가하는 index값 추출\n",
    "- `from 생략 시 처음, stop 생략 시 끝, step 생략 시 1. 모두 생략 가능`\n",
    "- 인덱스는 음수 가능\n",
    "\n",
    "2. <font color=\"red\"><b>리스트 컴프리헨션</b></font>: list에서 원하는 데이터 추출\n",
    "\n"
   ]
  },
  {
   "cell_type": "code",
   "execution_count": 22,
   "id": "692fa2b8",
   "metadata": {
    "ExecuteTime": {
     "end_time": "2024-11-06T05:58:55.029518Z",
     "start_time": "2024-11-06T05:58:55.023553Z"
    }
   },
   "outputs": [
    {
     "name": "stdout",
     "output_type": "stream",
     "text": [
      "[20, 19, 18, 13, 12, 10, 9, 5, 3, 1]\n",
      "[1, 5, 10, 13, 19]\n",
      "[1, 3, 5, 9, 10, 12, 13, 18, 19, 20]\n"
     ]
    }
   ],
   "source": [
    "numbers = [1, 3, 5, 9, 10, 12, 13, 18, 19, 20]\n",
    "# 거꾸로 출력\n",
    "print(numbers[::-1])\n",
    "print(numbers[0:10:2])\n",
    "print(numbers[0:100])"
   ]
  },
  {
   "cell_type": "code",
   "execution_count": 25,
   "id": "c28208e0",
   "metadata": {
    "ExecuteTime": {
     "end_time": "2024-11-06T06:17:18.983989Z",
     "start_time": "2024-11-06T06:17:18.976978Z"
    }
   },
   "outputs": [
    {
     "data": {
      "text/plain": [
       "[1, 3, 5, 9, 10, 12, 13, 18, 19, 20]"
      ]
     },
     "execution_count": 25,
     "metadata": {},
     "output_type": "execute_result"
    }
   ],
   "source": [
    "# 리스트 컴프리헨션을 이용해서 list의 원하는 데이터 엑세스\n",
    "numbers = [1, 3, 5, 9, 10, 12, 13, 18, 19, 20]\n",
    "# 모든 데이터 추출\n",
    "# for data in numbers:\n",
    "#     print(data, end='\\t')\n",
    "[data for data in numbers]"
   ]
  },
  {
   "cell_type": "code",
   "execution_count": 26,
   "id": "8294f3bd",
   "metadata": {
    "ExecuteTime": {
     "end_time": "2024-11-06T06:18:47.967109Z",
     "start_time": "2024-11-06T06:18:47.961112Z"
    }
   },
   "outputs": [
    {
     "data": {
      "text/plain": [
       "[10, 12, 18, 20]"
      ]
     },
     "execution_count": 26,
     "metadata": {},
     "output_type": "execute_result"
    }
   ],
   "source": [
    "# 짝수 데이터 추출\n",
    "# for data in numbers:\n",
    "#     if data % 2 == 0:\n",
    "#         print(data, end='\\t')\n",
    "[data for data in numbers if data % 2 == 0]"
   ]
  },
  {
   "cell_type": "code",
   "execution_count": 27,
   "id": "f835c983",
   "metadata": {
    "ExecuteTime": {
     "end_time": "2024-11-06T06:22:22.864700Z",
     "start_time": "2024-11-06T06:22:22.857691Z"
    }
   },
   "outputs": [
    {
     "data": {
      "text/plain": [
       "[10, 12, 13, 18, 19, 20]"
      ]
     },
     "execution_count": 27,
     "metadata": {},
     "output_type": "execute_result"
    }
   ],
   "source": [
    "# numbers에서 10이상 요소만 추출\n",
    "[i for i in numbers if i >= 10]"
   ]
  },
  {
   "cell_type": "code",
   "execution_count": 43,
   "id": "ac21c660",
   "metadata": {
    "ExecuteTime": {
     "end_time": "2024-11-06T06:29:25.576349Z",
     "start_time": "2024-11-06T06:29:25.569383Z"
    }
   },
   "outputs": [
    {
     "data": {
      "text/plain": [
       "['orange', 'apple', 'mango']"
      ]
     },
     "execution_count": 43,
     "metadata": {},
     "output_type": "execute_result"
    }
   ],
   "source": [
    "# ex2. fruits에서 과일의 글자가 5글자 이상인 과일만 추출\n",
    "fruits = ['orange', 'apple', 'mango', 'kiwi']\n",
    "[fruit for fruit in fruits if len(fruit) >= 5]"
   ]
  },
  {
   "cell_type": "code",
   "execution_count": 45,
   "id": "5c1361c3",
   "metadata": {
    "ExecuteTime": {
     "end_time": "2024-11-06T06:31:54.832102Z",
     "start_time": "2024-11-06T06:31:54.825494Z"
    }
   },
   "outputs": [
    {
     "data": {
      "text/plain": [
       "[6, 5, 5, 4]"
      ]
     },
     "execution_count": 45,
     "metadata": {},
     "output_type": "execute_result"
    }
   ],
   "source": [
    "# ex2-1. fruits 리스트의 과일 글자수\n",
    "[len(fruit) for fruit in fruits]"
   ]
  },
  {
   "cell_type": "code",
   "execution_count": 46,
   "id": "0db587dc",
   "metadata": {
    "ExecuteTime": {
     "end_time": "2024-11-06T06:34:09.775405Z",
     "start_time": "2024-11-06T06:34:09.768410Z"
    }
   },
   "outputs": [
    {
     "data": {
      "text/plain": [
       "[9, 16, 25]"
      ]
     },
     "execution_count": 46,
     "metadata": {},
     "output_type": "execute_result"
    }
   ],
   "source": [
    "# ex3. 3이상의 리스트의 값의 제곱을 추출\n",
    "L = [1, 2, 3, 4, 5]\n",
    "[data ** 2 for data in L if data >= 3]"
   ]
  },
  {
   "cell_type": "code",
   "execution_count": 35,
   "id": "646eba59",
   "metadata": {
    "ExecuteTime": {
     "end_time": "2024-11-06T06:24:16.711813Z",
     "start_time": "2024-11-06T06:24:16.705829Z"
    }
   },
   "outputs": [
    {
     "data": {
      "text/plain": [
       "[2, 4, 6, 8, 10]"
      ]
     },
     "execution_count": 35,
     "metadata": {},
     "output_type": "execute_result"
    }
   ],
   "source": [
    "# ex4. 리스트의 값의 두 배로 추출\n",
    "L = [1, 2, 3, 4, 5]\n",
    "[data * 2 for data in L] "
   ]
  },
  {
   "cell_type": "markdown",
   "id": "fcf29ceb",
   "metadata": {},
   "source": [
    "## 1.6 요소 수정하기"
   ]
  },
  {
   "cell_type": "code",
   "execution_count": 47,
   "id": "3fe5c245",
   "metadata": {
    "ExecuteTime": {
     "end_time": "2024-11-06T06:36:21.126595Z",
     "start_time": "2024-11-06T06:36:21.120607Z"
    }
   },
   "outputs": [
    {
     "data": {
      "text/plain": [
       "[0, 1, 222, 3, 4, 5, 6, 7, 8, 9]"
      ]
     },
     "execution_count": 47,
     "metadata": {},
     "output_type": "execute_result"
    }
   ],
   "source": [
    "numbers = [0, 1, 2, 3, 4, 5, 6, 7, 8, 9]\n",
    "numbers[2] = 222\n",
    "numbers"
   ]
  },
  {
   "cell_type": "code",
   "execution_count": 51,
   "id": "b13b7a82",
   "metadata": {
    "ExecuteTime": {
     "end_time": "2024-11-06T06:42:10.598808Z",
     "start_time": "2024-11-06T06:42:10.592814Z"
    }
   },
   "outputs": [
    {
     "name": "stdout",
     "output_type": "stream",
     "text": [
      "수정 전:  [0, 0, 0, 0, 0, 0, 0, 0, 0, 0]\n",
      "수정 후:  [9, 0, 9, 0, 9, 0, 9, 0, 9, 0]\n"
     ]
    }
   ],
   "source": [
    "# 슬라이싱(step부분 미포함)을 이용하여 부분 수정\n",
    "numbers[0:2] = ['xx', 'xx', 'xx', 'xx', 'xx', 'xx', 'xx', 'xx']\n",
    "numbers"
   ]
  },
  {
   "cell_type": "code",
   "execution_count": null,
   "id": "d3fcc79e",
   "metadata": {},
   "outputs": [],
   "source": [
    "# 슬라이싱(step부분 포함)을 이용하여 부분 수정\n",
    "numbers = [0]*10\n",
    "print('수정 전: ', numbers)\n",
    "numbers[::2] = [9, 9, 9, 9, 9]\n",
    "print('수정 후: ', numbers)"
   ]
  },
  {
   "cell_type": "code",
   "execution_count": 52,
   "id": "d81ccaa8",
   "metadata": {
    "ExecuteTime": {
     "end_time": "2024-11-06T06:43:07.332311Z",
     "start_time": "2024-11-06T06:43:07.313356Z"
    }
   },
   "outputs": [
    {
     "ename": "ValueError",
     "evalue": "attempt to assign sequence of size 7 to extended slice of size 5",
     "output_type": "error",
     "traceback": [
      "\u001b[1;31m---------------------------------------------------------------------------\u001b[0m",
      "\u001b[1;31mValueError\u001b[0m                                Traceback (most recent call last)",
      "Cell \u001b[1;32mIn[52], line 1\u001b[0m\n\u001b[1;32m----> 1\u001b[0m numbers[::\u001b[38;5;241m2\u001b[39m] \u001b[38;5;241m=\u001b[39m [\u001b[38;5;241m1\u001b[39m, \u001b[38;5;241m2\u001b[39m, \u001b[38;5;241m3\u001b[39m, \u001b[38;5;241m3\u001b[39m, \u001b[38;5;241m3\u001b[39m, \u001b[38;5;241m3\u001b[39m, \u001b[38;5;241m3\u001b[39m]\n",
      "\u001b[1;31mValueError\u001b[0m: attempt to assign sequence of size 7 to extended slice of size 5"
     ]
    }
   ],
   "source": [
    "# 수정하려는 요소의 갯수가 맞지 않으면 에러\n",
    "numbers[::2] = [1, 2, 3, 3, 3, 3, 3]"
   ]
  },
  {
   "cell_type": "markdown",
   "id": "f2010cc9",
   "metadata": {},
   "source": [
    "## 1.7 요소 삭제\n",
    "- pop()       : 가장 마지막 인덱스의 요소가 반환되고 삭제\n",
    "- pop(idx)    : idx번째 요소가 반환되고 삭제\n",
    "- remove(data): list 안의 data가 삭제\n",
    "- del 리스트변수[idx]: idx번째 요소가 삭제"
   ]
  },
  {
   "cell_type": "code",
   "execution_count": 57,
   "id": "5ac5082d",
   "metadata": {
    "ExecuteTime": {
     "end_time": "2024-11-06T06:49:01.711663Z",
     "start_time": "2024-11-06T06:49:01.704764Z"
    }
   },
   "outputs": [
    {
     "name": "stdout",
     "output_type": "stream",
     "text": [
      "삭제한 데이터: 5\n",
      "삭제한 후 numbers: [1, 2, 3, 4]\n",
      "삭제한 데이터: 4\n",
      "삭제한 후 numbers: [1, 2, 3]\n",
      "삭제한 데이터: 1\n",
      "삭제한 후 numbers: [2, 3]\n"
     ]
    }
   ],
   "source": [
    "numbers = [1, 2, 3, 4, 5]\n",
    "print('삭제한 데이터:', numbers.pop())\n",
    "print('삭제한 후 numbers:', numbers)\n",
    "print('삭제한 데이터:', numbers.pop())\n",
    "print('삭제한 후 numbers:', numbers)\n",
    "print('삭제한 데이터:', numbers.pop(0))\n",
    "print('삭제한 후 numbers:', numbers)"
   ]
  },
  {
   "cell_type": "code",
   "execution_count": 60,
   "id": "27ad8111",
   "metadata": {
    "ExecuteTime": {
     "end_time": "2024-11-06T06:52:27.583083Z",
     "start_time": "2024-11-06T06:52:27.577096Z"
    }
   },
   "outputs": [
    {
     "name": "stdout",
     "output_type": "stream",
     "text": [
      "None\n",
      "[0, 1, 2, 4, 5]\n"
     ]
    }
   ],
   "source": [
    "numbers = [0, 1, 2, 3, 4, 5]\n",
    "print(numbers.remove(3)) # remove()는 반환값이 없고, 해당 데이터 삭제만\n",
    "print(numbers)"
   ]
  },
  {
   "cell_type": "code",
   "execution_count": 62,
   "id": "aac24e99",
   "metadata": {
    "ExecuteTime": {
     "end_time": "2024-11-06T06:52:39.694963Z",
     "start_time": "2024-11-06T06:52:39.689578Z"
    }
   },
   "outputs": [
    {
     "name": "stdout",
     "output_type": "stream",
     "text": [
      "해당 데이터는 없는 데이터입니다\n"
     ]
    }
   ],
   "source": [
    "if 9 in numbers:\n",
    "    numbers.remove(9)\n",
    "else: \n",
    "    print('해당 데이터는 없는 데이터입니다')"
   ]
  },
  {
   "cell_type": "code",
   "execution_count": 63,
   "id": "92c8f977",
   "metadata": {
    "ExecuteTime": {
     "end_time": "2024-11-06T06:53:51.360343Z",
     "start_time": "2024-11-06T06:53:51.355372Z"
    }
   },
   "outputs": [],
   "source": [
    "def safe_remove(lst, remove_item):\n",
    "    if remove_item in lst:\n",
    "        lst.remove(remove_item)\n",
    "    else:\n",
    "        print('해당 데이터는 없는 아이템입니다')"
   ]
  },
  {
   "cell_type": "code",
   "execution_count": 64,
   "id": "0ff0bf33",
   "metadata": {
    "ExecuteTime": {
     "end_time": "2024-11-06T06:54:56.023070Z",
     "start_time": "2024-11-06T06:54:56.018083Z"
    }
   },
   "outputs": [
    {
     "name": "stdout",
     "output_type": "stream",
     "text": [
      "해당 데이터는 없는 아이템입니다\n"
     ]
    }
   ],
   "source": [
    "safe_remove(numbers, 9)"
   ]
  },
  {
   "cell_type": "code",
   "execution_count": 66,
   "id": "ffb45ccc",
   "metadata": {
    "ExecuteTime": {
     "end_time": "2024-11-06T06:55:38.930202Z",
     "start_time": "2024-11-06T06:55:38.925206Z"
    }
   },
   "outputs": [
    {
     "name": "stdout",
     "output_type": "stream",
     "text": [
      "삭제 후:  [0, 1, 3, 4, 5]\n"
     ]
    }
   ],
   "source": [
    "numbers = [0, 1, 2, 3, 4, 5]\n",
    "del numbers[2] # 2번째 index 요소 삭제\n",
    "print('삭제 후: ', numbers)"
   ]
  },
  {
   "cell_type": "code",
   "execution_count": 67,
   "id": "4a65af18",
   "metadata": {
    "ExecuteTime": {
     "end_time": "2024-11-06T06:56:19.479780Z",
     "start_time": "2024-11-06T06:56:19.475792Z"
    }
   },
   "outputs": [],
   "source": [
    "del numbers # 변수 삭제"
   ]
  },
  {
   "cell_type": "code",
   "execution_count": 68,
   "id": "aebc62c6",
   "metadata": {
    "ExecuteTime": {
     "end_time": "2024-11-06T06:56:29.965408Z",
     "start_time": "2024-11-06T06:56:29.945911Z"
    }
   },
   "outputs": [
    {
     "ename": "NameError",
     "evalue": "name 'numbers' is not defined",
     "output_type": "error",
     "traceback": [
      "\u001b[1;31m---------------------------------------------------------------------------\u001b[0m",
      "\u001b[1;31mNameError\u001b[0m                                 Traceback (most recent call last)",
      "Cell \u001b[1;32mIn[68], line 1\u001b[0m\n\u001b[1;32m----> 1\u001b[0m \u001b[43mnumbers\u001b[49m\n",
      "\u001b[1;31mNameError\u001b[0m: name 'numbers' is not defined"
     ]
    }
   ],
   "source": [
    "numbers"
   ]
  },
  {
   "cell_type": "markdown",
   "id": "59ab7660",
   "metadata": {},
   "source": [
    "## 1.8 정렬하기"
   ]
  },
  {
   "cell_type": "code",
   "execution_count": 77,
   "id": "207b37f0",
   "metadata": {
    "ExecuteTime": {
     "end_time": "2024-11-06T07:11:59.056675Z",
     "start_time": "2024-11-06T07:11:59.051691Z"
    }
   },
   "outputs": [
    {
     "data": {
      "text/plain": [
       "[0, 5, 6, 8, 9]"
      ]
     },
     "execution_count": 77,
     "metadata": {},
     "output_type": "execute_result"
    }
   ],
   "source": [
    "numbers = [9, 5, 0, 8, 6]\n",
    "numbers.sort() # numbers 자체가 정렬한 결과로 바뀜(기본정렬은 오름차순)\n",
    "numbers"
   ]
  },
  {
   "cell_type": "code",
   "execution_count": 78,
   "id": "682fb4a1",
   "metadata": {
    "ExecuteTime": {
     "end_time": "2024-11-06T07:12:01.872125Z",
     "start_time": "2024-11-06T07:12:01.866026Z"
    }
   },
   "outputs": [
    {
     "data": {
      "text/plain": [
       "[9, 8, 6, 5, 0]"
      ]
     },
     "execution_count": 78,
     "metadata": {},
     "output_type": "execute_result"
    }
   ],
   "source": [
    "numbers = numbers[::-1] # 오름차순 결과를 내림차순으로\n",
    "numbers"
   ]
  },
  {
   "cell_type": "code",
   "execution_count": 79,
   "id": "e085c3b4",
   "metadata": {
    "ExecuteTime": {
     "end_time": "2024-11-06T07:12:03.886862Z",
     "start_time": "2024-11-06T07:12:03.880595Z"
    }
   },
   "outputs": [
    {
     "data": {
      "text/plain": [
       "[0, 5, 6, 8, 9]"
      ]
     },
     "execution_count": 79,
     "metadata": {},
     "output_type": "execute_result"
    }
   ],
   "source": [
    "numbers.reverse() # 리스트를 역순으로 변경\n",
    "numbers"
   ]
  },
  {
   "cell_type": "code",
   "execution_count": 80,
   "id": "3d40adc6",
   "metadata": {
    "ExecuteTime": {
     "end_time": "2024-11-06T07:12:05.552044Z",
     "start_time": "2024-11-06T07:12:05.533057Z"
    }
   },
   "outputs": [
    {
     "data": {
      "text/plain": [
       "[9, 8, 6, 5, 0]"
      ]
     },
     "execution_count": 80,
     "metadata": {},
     "output_type": "execute_result"
    }
   ],
   "source": [
    "numbers.sort(reverse=True) # 내림차순 정렬\n",
    "numbers"
   ]
  },
  {
   "cell_type": "markdown",
   "id": "be98ae69",
   "metadata": {},
   "source": [
    "## 1.9 리스트 복제"
   ]
  },
  {
   "cell_type": "code",
   "execution_count": 84,
   "id": "2c6bb064",
   "metadata": {
    "ExecuteTime": {
     "end_time": "2024-11-06T07:16:54.775409Z",
     "start_time": "2024-11-06T07:16:54.769425Z"
    }
   },
   "outputs": [
    {
     "name": "stdout",
     "output_type": "stream",
     "text": [
      "원본      :  [1, 5, 6, 9]\n",
      "정렬      :  [1, 5, 6, 9]\n",
      "원본 주소  :  1970324557952\n",
      "정렬본 주소:  1970324557952\n"
     ]
    }
   ],
   "source": [
    "# 얕은 복사\n",
    "numbers = [5, 6, 1, 9]\n",
    "new_numbers = numbers # 얕은 복사\n",
    "new_numbers.sort()\n",
    "print('원본      : ', numbers)\n",
    "print('정렬      : ', new_numbers)\n",
    "print('원본 주소  : ', id(numbers))\n",
    "print('정렬본 주소: ', id(new_numbers))"
   ]
  },
  {
   "cell_type": "code",
   "execution_count": 86,
   "id": "0180560a",
   "metadata": {
    "ExecuteTime": {
     "end_time": "2024-11-06T07:21:10.399592Z",
     "start_time": "2024-11-06T07:21:10.394593Z"
    }
   },
   "outputs": [
    {
     "name": "stdout",
     "output_type": "stream",
     "text": [
      "numberes:  [5, 6, 1, 9]\n",
      "new_numbers:  [9, 6, 5, 1]\n",
      "numbers 주소:  1970324656576\n",
      "new_numbers 주소:  1970325306880\n"
     ]
    }
   ],
   "source": [
    "# 깊은 복사(복제)\n",
    "numbers = [5, 6, 1, 9]\n",
    "new_numbers = numbers.copy() # numbers를 복제(깊은 복사)\n",
    "new_numbers.sort(reverse=True) # 내림차순 정렬\n",
    "print('numberes: ', numbers)\n",
    "print('new_numbers: ', new_numbers)\n",
    "print('numbers 주소: ', id(numbers))\n",
    "print('new_numbers 주소: ', id(new_numbers))"
   ]
  },
  {
   "cell_type": "code",
   "execution_count": 90,
   "id": "9decce6d",
   "metadata": {
    "ExecuteTime": {
     "end_time": "2024-11-06T07:24:48.768399Z",
     "start_time": "2024-11-06T07:24:48.763425Z"
    }
   },
   "outputs": [
    {
     "name": "stdout",
     "output_type": "stream",
     "text": [
      "정렬 전:  서울 부산 대전 대구 인천 광주 제주\n",
      "정렬 후:  광주 대구 대전 부산 서울 인천 제주\n"
     ]
    }
   ],
   "source": [
    "city = ['서울', '부산', '대전', '대구', '인천', '광주', '제주']\n",
    "temp = city.copy()\n",
    "temp.sort()\n",
    "print('정렬 전: ', ' '.join(city))\n",
    "print('정렬 후: ', ' '.join(temp))"
   ]
  },
  {
   "cell_type": "markdown",
   "id": "7cbc6edd",
   "metadata": {},
   "source": [
    "# 2절. 튜플\n",
    "- 리스트 [] 와 유사하지만 읽기 전용. 수정이 필요없는 데이터에서 사용\n",
    "- 수정이 불가하므로 튜플에 데이터 수정, 추가, 삭제 불가\n",
    "- 제공되는 함수도 많지 않음\n",
    "- () 이용해서 생성"
   ]
  },
  {
   "cell_type": "code",
   "execution_count": 91,
   "id": "c154558f",
   "metadata": {
    "ExecuteTime": {
     "end_time": "2024-11-06T07:30:24.368776Z",
     "start_time": "2024-11-06T07:30:24.362811Z"
    }
   },
   "outputs": [
    {
     "name": "stdout",
     "output_type": "stream",
     "text": [
      "<class 'tuple'>\n",
      "('서울', '부산', '인천', '목포')\n"
     ]
    }
   ],
   "source": [
    "city = ('서울', '부산', '인천', '목포')\n",
    "print(type(city))\n",
    "print(city)"
   ]
  },
  {
   "cell_type": "code",
   "execution_count": 92,
   "id": "83e32127",
   "metadata": {
    "ExecuteTime": {
     "end_time": "2024-11-06T07:31:05.913007Z",
     "start_time": "2024-11-06T07:31:05.906928Z"
    }
   },
   "outputs": [
    {
     "data": {
      "text/plain": [
       "'서울, 부산, 인천, 목포'"
      ]
     },
     "execution_count": 92,
     "metadata": {},
     "output_type": "execute_result"
    }
   ],
   "source": [
    "', '.join(city)"
   ]
  },
  {
   "cell_type": "code",
   "execution_count": 98,
   "id": "28b6451d",
   "metadata": {
    "ExecuteTime": {
     "end_time": "2024-11-06T07:32:38.310778Z",
     "start_time": "2024-11-06T07:32:38.305812Z"
    }
   },
   "outputs": [
    {
     "name": "stdout",
     "output_type": "stream",
     "text": [
      "<class 'list'>\n",
      "['서울']\n",
      "1\n"
     ]
    }
   ],
   "source": [
    "l = ['서울'] # 요소가 1개인 리스트\n",
    "print(type(l))\n",
    "print(l)\n",
    "print(len(l))"
   ]
  },
  {
   "cell_type": "code",
   "execution_count": 105,
   "id": "866e052e",
   "metadata": {
    "ExecuteTime": {
     "end_time": "2024-11-06T07:36:58.743979Z",
     "start_time": "2024-11-06T07:36:58.738992Z"
    }
   },
   "outputs": [
    {
     "name": "stdout",
     "output_type": "stream",
     "text": [
      "<class 'str'>\n",
      "서울\n",
      "2\n"
     ]
    }
   ],
   "source": [
    "city = ('서울') # 요소가 하나 있는 튜플(X)\n",
    "print(type(city))\n",
    "print(city)\n",
    "print(len(city))"
   ]
  },
  {
   "cell_type": "code",
   "execution_count": 107,
   "id": "f1fb5ab3",
   "metadata": {
    "ExecuteTime": {
     "end_time": "2024-11-06T07:37:46.287886Z",
     "start_time": "2024-11-06T07:37:46.282896Z"
    }
   },
   "outputs": [
    {
     "name": "stdout",
     "output_type": "stream",
     "text": [
      "<class 'tuple'>\n",
      "('서울',)\n",
      "1\n"
     ]
    }
   ],
   "source": [
    "city = ('서울', ) # 요소가 하나 있는 튜플(O)\n",
    "print(type(city))\n",
    "print(city)\n",
    "print(len(city))"
   ]
  },
  {
   "cell_type": "code",
   "execution_count": 109,
   "id": "88cb4a12",
   "metadata": {
    "ExecuteTime": {
     "end_time": "2024-11-06T07:39:35.949401Z",
     "start_time": "2024-11-06T07:39:35.945413Z"
    }
   },
   "outputs": [],
   "source": [
    "a, b = 10, 20\n",
    "# (a, b) = (10, 20)"
   ]
  },
  {
   "cell_type": "code",
   "execution_count": 115,
   "id": "144293f9",
   "metadata": {
    "ExecuteTime": {
     "end_time": "2024-11-06T07:42:10.959039Z",
     "start_time": "2024-11-06T07:42:10.954053Z"
    }
   },
   "outputs": [
    {
     "name": "stdout",
     "output_type": "stream",
     "text": [
      "<class 'tuple'>\n",
      "(1, 2, 3)\n"
     ]
    }
   ],
   "source": [
    "numbers = 1, 2, 3 # numbers = (1, 2, 3)\n",
    "print(type(numbers))\n",
    "print(numbers)"
   ]
  },
  {
   "cell_type": "code",
   "execution_count": 112,
   "id": "90560d89",
   "metadata": {
    "ExecuteTime": {
     "end_time": "2024-11-06T07:40:44.871208Z",
     "start_time": "2024-11-06T07:40:44.852310Z"
    }
   },
   "outputs": [
    {
     "ename": "ValueError",
     "evalue": "list.remove(x): x not in list",
     "output_type": "error",
     "traceback": [
      "\u001b[1;31m---------------------------------------------------------------------------\u001b[0m",
      "\u001b[1;31mValueError\u001b[0m                                Traceback (most recent call last)",
      "Cell \u001b[1;32mIn[112], line 1\u001b[0m\n\u001b[1;32m----> 1\u001b[0m \u001b[43mnumbers\u001b[49m\u001b[38;5;241;43m.\u001b[39;49m\u001b[43mremove\u001b[49m\u001b[43m(\u001b[49m\u001b[38;5;241;43m3\u001b[39;49m\u001b[43m)\u001b[49m\n",
      "\u001b[1;31mValueError\u001b[0m: list.remove(x): x not in list"
     ]
    }
   ],
   "source": [
    "# numbers.remove(3) 수정하기 위한 함수는 제공되지 않음"
   ]
  },
  {
   "cell_type": "code",
   "execution_count": 116,
   "id": "090f86c3",
   "metadata": {
    "ExecuteTime": {
     "end_time": "2024-11-06T07:42:16.880667Z",
     "start_time": "2024-11-06T07:42:16.874672Z"
    }
   },
   "outputs": [
    {
     "data": {
      "text/plain": [
       "(1, 3, 3)"
      ]
     },
     "execution_count": 116,
     "metadata": {},
     "output_type": "execute_result"
    }
   ],
   "source": [
    "min(numbers), max(numbers), len(numbers)"
   ]
  },
  {
   "cell_type": "code",
   "execution_count": 117,
   "id": "e1a2cc13",
   "metadata": {
    "ExecuteTime": {
     "end_time": "2024-11-06T07:43:01.202610Z",
     "start_time": "2024-11-06T07:43:01.195629Z"
    }
   },
   "outputs": [
    {
     "data": {
      "text/plain": [
       "3"
      ]
     },
     "execution_count": 117,
     "metadata": {},
     "output_type": "execute_result"
    }
   ],
   "source": [
    "numbers = (0, 1, 2, (1, 2), 2, 0, 1, 2)\n",
    "numbers.count(2)"
   ]
  },
  {
   "cell_type": "code",
   "execution_count": 120,
   "id": "217206e1",
   "metadata": {
    "ExecuteTime": {
     "end_time": "2024-11-06T07:44:36.121383Z",
     "start_time": "2024-11-06T07:44:36.114418Z"
    }
   },
   "outputs": [
    {
     "data": {
      "text/plain": [
       "(0, 1, 2)"
      ]
     },
     "execution_count": 120,
     "metadata": {},
     "output_type": "execute_result"
    }
   ],
   "source": [
    "    # 슬라이싱 가능\n",
    "numbers[0:3]"
   ]
  },
  {
   "cell_type": "code",
   "execution_count": 123,
   "id": "80580894",
   "metadata": {
    "ExecuteTime": {
     "end_time": "2024-11-06T07:45:27.690396Z",
     "start_time": "2024-11-06T07:45:27.684412Z"
    }
   },
   "outputs": [
    {
     "data": {
      "text/plain": [
       "2"
      ]
     },
     "execution_count": 123,
     "metadata": {},
     "output_type": "execute_result"
    }
   ],
   "source": [
    "numbers.index(2) # 처음부터 2가 처음 나오는 곳의 index"
   ]
  },
  {
   "cell_type": "code",
   "execution_count": 125,
   "id": "79d3af3b",
   "metadata": {
    "ExecuteTime": {
     "end_time": "2024-11-06T07:45:31.137874Z",
     "start_time": "2024-11-06T07:45:31.130859Z"
    }
   },
   "outputs": [
    {
     "data": {
      "text/plain": [
       "4"
      ]
     },
     "execution_count": 125,
     "metadata": {},
     "output_type": "execute_result"
    }
   ],
   "source": [
    "numbers.index(2, 3) # 3번째부터 2가 나오는 index"
   ]
  },
  {
   "cell_type": "code",
   "execution_count": 132,
   "id": "0fc9b455",
   "metadata": {
    "ExecuteTime": {
     "end_time": "2024-11-06T07:51:30.739542Z",
     "start_time": "2024-11-06T07:51:30.722879Z"
    },
    "collapsed": true
   },
   "outputs": [
    {
     "ename": "ValueError",
     "evalue": "tuple.index(x): x not in tuple",
     "output_type": "error",
     "traceback": [
      "\u001b[1;31m---------------------------------------------------------------------------\u001b[0m",
      "\u001b[1;31mValueError\u001b[0m                                Traceback (most recent call last)",
      "Cell \u001b[1;32mIn[132], line 1\u001b[0m\n\u001b[1;32m----> 1\u001b[0m \u001b[43mnumbers\u001b[49m\u001b[38;5;241;43m.\u001b[39;49m\u001b[43mindex\u001b[49m\u001b[43m(\u001b[49m\u001b[38;5;241;43m9\u001b[39;49m\u001b[43m)\u001b[49m\n",
      "\u001b[1;31mValueError\u001b[0m: tuple.index(x): x not in tuple"
     ]
    }
   ],
   "source": [
    "numbers.index(9) # Error"
   ]
  },
  {
   "cell_type": "code",
   "execution_count": 127,
   "id": "b2bc16bb",
   "metadata": {
    "ExecuteTime": {
     "end_time": "2024-11-06T07:46:26.271733Z",
     "start_time": "2024-11-06T07:46:26.266745Z"
    }
   },
   "outputs": [
    {
     "name": "stdout",
     "output_type": "stream",
     "text": [
      "0\n"
     ]
    }
   ],
   "source": [
    "# numbers 안에 9요소가 있는 여부\n",
    "print(numbers.count(9))\n",
    "print(9 in numbers)"
   ]
  },
  {
   "cell_type": "code",
   "execution_count": 128,
   "id": "609ca31c",
   "metadata": {
    "ExecuteTime": {
     "end_time": "2024-11-06T07:47:14.951177Z",
     "start_time": "2024-11-06T07:47:14.947195Z"
    }
   },
   "outputs": [],
   "source": [
    "# sol 1\n",
    "def safe_index(lst, item):\n",
    "    if item  in lst:\n",
    "        return lst.index(item)\n",
    "    else:\n",
    "        return -1\n",
    "# sol 2  \n",
    "def safe_index(lst, item):\n",
    "    return lst.index(item) if item in lst else -1"
   ]
  },
  {
   "cell_type": "code",
   "execution_count": 129,
   "id": "c84f44c9",
   "metadata": {
    "ExecuteTime": {
     "end_time": "2024-11-06T07:49:32.408421Z",
     "start_time": "2024-11-06T07:49:32.402439Z"
    }
   },
   "outputs": [
    {
     "data": {
      "text/plain": [
       "-1"
      ]
     },
     "execution_count": 129,
     "metadata": {},
     "output_type": "execute_result"
    }
   ],
   "source": [
    "safe_index(numbers, 9)"
   ]
  },
  {
   "cell_type": "code",
   "execution_count": 130,
   "id": "d20beaf0",
   "metadata": {
    "ExecuteTime": {
     "end_time": "2024-11-06T07:49:50.057277Z",
     "start_time": "2024-11-06T07:49:50.050316Z"
    }
   },
   "outputs": [
    {
     "data": {
      "text/plain": [
       "(1, 2, 3, 1, 2, 3)"
      ]
     },
     "execution_count": 130,
     "metadata": {},
     "output_type": "execute_result"
    }
   ],
   "source": [
    "numbers = (1, 2, 3)\n",
    "numbers + numbers # 연결"
   ]
  },
  {
   "cell_type": "code",
   "execution_count": 131,
   "id": "f546fe09",
   "metadata": {
    "ExecuteTime": {
     "end_time": "2024-11-06T07:50:08.170539Z",
     "start_time": "2024-11-06T07:50:08.164554Z"
    }
   },
   "outputs": [
    {
     "data": {
      "text/plain": [
       "(1, 2, 3, 1, 2, 3, 1, 2, 3)"
      ]
     },
     "execution_count": 131,
     "metadata": {},
     "output_type": "execute_result"
    }
   ],
   "source": [
    "numbers * 3 # 반복"
   ]
  },
  {
   "cell_type": "code",
   "execution_count": 133,
   "id": "10d25c96",
   "metadata": {
    "ExecuteTime": {
     "end_time": "2024-11-06T07:53:29.155335Z",
     "start_time": "2024-11-06T07:53:29.148353Z"
    }
   },
   "outputs": [
    {
     "data": {
      "text/plain": [
       "[4, 16, 36]"
      ]
     },
     "execution_count": 133,
     "metadata": {},
     "output_type": "execute_result"
    }
   ],
   "source": [
    "# ex. 짝수 요소들을 추출하여 제곱한 리스트를 출력하시오\n",
    "numbers = (1, 2, 3, 4, 5, 6)\n",
    "# (4, 16, 36)\n",
    "[x**2 for x in numbers if x%2==0 ]"
   ]
  },
  {
   "cell_type": "markdown",
   "id": "ad7bea51",
   "metadata": {},
   "source": [
    "## 3절. 딕셔너리\n",
    "cf. 자바에서의 hashMap\n",
    "- 중괄호 {} 를 이용해서 딕셔너리 생성. 키(key)-값(value)쌍으로 구성된 자료 구조\n",
    "- 키는 유일한 값(중복 허용 안 함). 키에 list는 사용 불가. 키에 tuple은 사용 가능\n",
    "- 값은 중복 가능. 모든 데이터 타입이 가능\n",
    "- 없는 키의 값을 참조하면 에러 발생\n",
    "- 인덱스를 이용한 참조는 지원 안 함"
   ]
  },
  {
   "cell_type": "code",
   "execution_count": 136,
   "id": "d821a91f",
   "metadata": {
    "ExecuteTime": {
     "end_time": "2024-11-06T08:01:41.472068Z",
     "start_time": "2024-11-06T08:01:41.467082Z"
    }
   },
   "outputs": [
    {
     "name": "stdout",
     "output_type": "stream",
     "text": [
      "<class 'dict'>\n",
      "{'name': '홍길동', 1: 22, (1, 2): [1, 2]}\n"
     ]
    }
   ],
   "source": [
    "dic = {'name':'홍길동', 1:22, (1,2):[1,2]}\n",
    "print(type(dic))\n",
    "print(dic)"
   ]
  },
  {
   "cell_type": "code",
   "execution_count": 138,
   "id": "a776af58",
   "metadata": {
    "ExecuteTime": {
     "end_time": "2024-11-06T08:12:29.496809Z",
     "start_time": "2024-11-06T08:12:29.490825Z"
    }
   },
   "outputs": [
    {
     "data": {
      "text/plain": [
       "3"
      ]
     },
     "execution_count": 138,
     "metadata": {},
     "output_type": "execute_result"
    }
   ],
   "source": [
    "len(dic) # 데이터 요소의 갯수"
   ]
  },
  {
   "cell_type": "code",
   "execution_count": 139,
   "id": "6e14cadf",
   "metadata": {
    "ExecuteTime": {
     "end_time": "2024-11-06T08:14:00.881360Z",
     "start_time": "2024-11-06T08:14:00.875366Z"
    }
   },
   "outputs": [
    {
     "data": {
      "text/plain": [
       "{'fruit': 'apple', 'number': 12, 'sport': 'golf'}"
      ]
     },
     "execution_count": 139,
     "metadata": {},
     "output_type": "execute_result"
    }
   ],
   "source": [
    "my_favorite = {'fruit':'apple', 'number':12, 'sport':'golf'}\n",
    "my_favorite"
   ]
  },
  {
   "cell_type": "code",
   "execution_count": 140,
   "id": "a9698211",
   "metadata": {
    "ExecuteTime": {
     "end_time": "2024-11-06T08:14:37.338138Z",
     "start_time": "2024-11-06T08:14:37.332155Z"
    }
   },
   "outputs": [
    {
     "data": {
      "text/plain": [
       "'apple'"
      ]
     },
     "execution_count": 140,
     "metadata": {},
     "output_type": "execute_result"
    }
   ],
   "source": [
    "my_favorite['fruit']"
   ]
  },
  {
   "cell_type": "code",
   "execution_count": 141,
   "id": "e1c92add",
   "metadata": {
    "ExecuteTime": {
     "end_time": "2024-11-06T08:15:33.049123Z",
     "start_time": "2024-11-06T08:15:33.044013Z"
    }
   },
   "outputs": [
    {
     "data": {
      "text/plain": [
       "'apple'"
      ]
     },
     "execution_count": 141,
     "metadata": {},
     "output_type": "execute_result"
    }
   ],
   "source": [
    "my_favorite.get('fruit')"
   ]
  },
  {
   "cell_type": "code",
   "execution_count": 144,
   "id": "fe2be9d9",
   "metadata": {
    "ExecuteTime": {
     "end_time": "2024-11-06T08:16:56.288099Z",
     "start_time": "2024-11-06T08:16:56.284116Z"
    }
   },
   "outputs": [
    {
     "name": "stdout",
     "output_type": "stream",
     "text": [
      "None\n"
     ]
    }
   ],
   "source": [
    "# my_favorite['people'] # 키목록에 없는 데이터를 인덱스로 참조 시 에러\n",
    "print(my_favorite.get('people')) # 없는 키를 get함수로 참조 시 None"
   ]
  },
  {
   "cell_type": "code",
   "execution_count": 152,
   "id": "b5c29f0b",
   "metadata": {
    "ExecuteTime": {
     "end_time": "2024-11-06T08:22:45.658418Z",
     "start_time": "2024-11-06T08:22:45.651346Z"
    }
   },
   "outputs": [
    {
     "name": "stdout",
     "output_type": "stream",
     "text": [
      "fruit 수정 후    : {'fruit': 'mango', 'number': 12, 'sport': 'golf'}\n",
      "people 키 추가 후: {'fruit': 'mango', 'number': 12, 'sport': 'golf', 'people': '홍길동'}\n",
      "데이터 갯수      : 4\n",
      "sport 제거 후    : {'fruit': 'mango', 'number': 12, 'people': '홍길동'}\n"
     ]
    }
   ],
   "source": [
    "# 딕셔너리 수정\n",
    "my_favorite = {'fruit':'apple', 'number':12, 'sport':'golf'}\n",
    "my_favorite['fruit'] = 'mango'\n",
    "print('fruit 수정 후    :', my_favorite)\n",
    "my_favorite['people'] = '홍길동'\n",
    "print('people 키 추가 후:', my_favorite)\n",
    "print('데이터 갯수      :', len(my_favorite))\n",
    "del my_favorite['sport'] # 'sport':'golf' 제거\n",
    "# del(my_favorite['sport']) 함수처럼도 사용 가능\n",
    "print('sport 제거 후    :', my_favorite)"
   ]
  },
  {
   "cell_type": "code",
   "execution_count": 155,
   "id": "e152ae45",
   "metadata": {
    "ExecuteTime": {
     "end_time": "2024-11-06T08:27:20.081166Z",
     "start_time": "2024-11-06T08:27:20.076572Z"
    }
   },
   "outputs": [],
   "source": [
    "my_tuple = ('홍길동', 30, '010-9999-9999')"
   ]
  },
  {
   "cell_type": "code",
   "execution_count": 159,
   "id": "8c2e5107",
   "metadata": {
    "ExecuteTime": {
     "end_time": "2024-11-06T08:32:05.251889Z",
     "start_time": "2024-11-06T08:32:05.245903Z"
    }
   },
   "outputs": [
    {
     "name": "stdout",
     "output_type": "stream",
     "text": [
      "홍길동\t30\t010-9999-9999\t\n",
      "0번째: 홍길동\t1번째: 30\t2번째: 010-9999-9999\t\n",
      "0번째: 홍길동\t1번째: 30\t2번째: 010-9999-9999\t"
     ]
    }
   ],
   "source": [
    "# for를 이용한 튜플 출력\n",
    "for data in my_tuple:\n",
    "    print(data, end='\\t')\n",
    "print()\n",
    "for idx in range(len(my_tuple)):\n",
    "    print(\"{}번째: {}\\t\".format(idx, my_tuple[idx]), end=\"\")\n",
    "print()\n",
    "for idx, value in enumerate(my_tuple):\n",
    "    print(\"{}번째: {}\".format(idx, value), end=\"\\t\")"
   ]
  },
  {
   "cell_type": "code",
   "execution_count": 162,
   "id": "10845bd5",
   "metadata": {
    "ExecuteTime": {
     "end_time": "2024-11-06T08:35:35.784596Z",
     "start_time": "2024-11-06T08:35:35.779630Z"
    }
   },
   "outputs": [],
   "source": [
    "# for문을 이용한 딕셔너리 출력\n",
    "my_dic = {'name':'홍길동', 'age':30, 'tel':'010-9999-9999'}"
   ]
  },
  {
   "cell_type": "code",
   "execution_count": 163,
   "id": "8f7277f0",
   "metadata": {
    "ExecuteTime": {
     "end_time": "2024-11-06T08:35:59.249398Z",
     "start_time": "2024-11-06T08:35:59.244411Z"
    }
   },
   "outputs": [
    {
     "name": "stdout",
     "output_type": "stream",
     "text": [
      "name:홍길동\tage:30\ttel:010-9999-9999\t"
     ]
    }
   ],
   "source": [
    "# key만 출력\n",
    "for key in my_dic:\n",
    "    print(\"{}:{}\".format(key, my_dic[key]), end='\\t')"
   ]
  },
  {
   "cell_type": "code",
   "execution_count": 164,
   "id": "bf13a5fa",
   "metadata": {
    "ExecuteTime": {
     "end_time": "2024-11-06T08:37:28.465672Z",
     "start_time": "2024-11-06T08:37:28.460686Z"
    }
   },
   "outputs": [
    {
     "name": "stdout",
     "output_type": "stream",
     "text": [
      "0 : name\n",
      "1 : age\n",
      "2 : tel\n"
     ]
    }
   ],
   "source": [
    "# 딕셔너리에서는 enumerate 사용에 의미가 없음\n",
    "for idx, value in enumerate(my_dic):\n",
    "    print('{} : {}'.format(idx, value))"
   ]
  },
  {
   "cell_type": "code",
   "execution_count": 165,
   "id": "e635bce6",
   "metadata": {
    "ExecuteTime": {
     "end_time": "2024-11-06T08:39:25.187029Z",
     "start_time": "2024-11-06T08:39:25.182042Z"
    }
   },
   "outputs": [
    {
     "data": {
      "text/plain": [
       "dict_keys(['name', 'age', 'tel'])"
      ]
     },
     "execution_count": 165,
     "metadata": {},
     "output_type": "execute_result"
    }
   ],
   "source": [
    "my_dic.keys() # 키 목록"
   ]
  },
  {
   "cell_type": "code",
   "execution_count": 166,
   "id": "c8e0ddd6",
   "metadata": {
    "ExecuteTime": {
     "end_time": "2024-11-06T08:39:45.435851Z",
     "start_time": "2024-11-06T08:39:45.430870Z"
    }
   },
   "outputs": [
    {
     "data": {
      "text/plain": [
       "dict_values(['홍길동', 30, '010-9999-9999'])"
      ]
     },
     "execution_count": 166,
     "metadata": {},
     "output_type": "execute_result"
    }
   ],
   "source": [
    "my_dic.values() # 값들 목록"
   ]
  },
  {
   "cell_type": "code",
   "execution_count": 167,
   "id": "e6886c9b",
   "metadata": {
    "ExecuteTime": {
     "end_time": "2024-11-06T08:40:08.571505Z",
     "start_time": "2024-11-06T08:40:08.566498Z"
    }
   },
   "outputs": [
    {
     "data": {
      "text/plain": [
       "dict_items([('name', '홍길동'), ('age', 30), ('tel', '010-9999-9999')])"
      ]
     },
     "execution_count": 167,
     "metadata": {},
     "output_type": "execute_result"
    }
   ],
   "source": [
    "my_dic.items() # 키-값의 목록"
   ]
  },
  {
   "cell_type": "code",
   "execution_count": 168,
   "id": "fbce05b3",
   "metadata": {
    "ExecuteTime": {
     "end_time": "2024-11-06T08:42:18.544616Z",
     "start_time": "2024-11-06T08:42:18.540627Z"
    }
   },
   "outputs": [
    {
     "name": "stdout",
     "output_type": "stream",
     "text": [
      "홍길동\t30\t010-9999-9999\t"
     ]
    }
   ],
   "source": [
    "for value in my_dic.values():\n",
    "    print(value, end='\\t')"
   ]
  },
  {
   "cell_type": "code",
   "execution_count": 170,
   "id": "2779db69",
   "metadata": {
    "ExecuteTime": {
     "end_time": "2024-11-06T08:43:47.969634Z",
     "start_time": "2024-11-06T08:43:47.964646Z"
    }
   },
   "outputs": [
    {
     "name": "stdout",
     "output_type": "stream",
     "text": [
      "name : 홍길동\tage : 30\ttel : 010-9999-9999\t"
     ]
    }
   ],
   "source": [
    "for key, value in my_dic.items():\n",
    "    print(\"{} : {}\\t\".format(key, value), end='')"
   ]
  },
  {
   "cell_type": "code",
   "execution_count": 171,
   "id": "ea1c3656",
   "metadata": {
    "ExecuteTime": {
     "end_time": "2024-11-06T08:44:53.490672Z",
     "start_time": "2024-11-06T08:44:53.484698Z"
    }
   },
   "outputs": [
    {
     "data": {
      "text/plain": [
       "True"
      ]
     },
     "execution_count": 171,
     "metadata": {},
     "output_type": "execute_result"
    }
   ],
   "source": [
    "# in 연산자\n",
    "t = (10, 20, 30)\n",
    "30 in t\n",
    "# list, tuple, set에서의 in연산자는 요소가 있는 여부 반환"
   ]
  },
  {
   "cell_type": "code",
   "execution_count": 172,
   "id": "a2ff6fa9",
   "metadata": {
    "ExecuteTime": {
     "end_time": "2024-11-06T08:45:23.706007Z",
     "start_time": "2024-11-06T08:45:23.700020Z"
    }
   },
   "outputs": [
    {
     "data": {
      "text/plain": [
       "True"
      ]
     },
     "execution_count": 172,
     "metadata": {},
     "output_type": "execute_result"
    }
   ],
   "source": [
    "# 딕셔너리에서의 in연산자는 key값으로 작용\n",
    "my_dic = {'name':'홍길동', 'age':30, 'tel':'010-9999-9999'}\n",
    "'name' in my_dic"
   ]
  },
  {
   "cell_type": "code",
   "execution_count": 173,
   "id": "a1e8a31e",
   "metadata": {
    "ExecuteTime": {
     "end_time": "2024-11-06T08:46:02.841798Z",
     "start_time": "2024-11-06T08:46:02.836808Z"
    }
   },
   "outputs": [
    {
     "data": {
      "text/plain": [
       "False"
      ]
     },
     "execution_count": 173,
     "metadata": {},
     "output_type": "execute_result"
    }
   ],
   "source": [
    "'홍길동' in my_dic"
   ]
  },
  {
   "cell_type": "code",
   "execution_count": 176,
   "id": "8c536b90",
   "metadata": {
    "ExecuteTime": {
     "end_time": "2024-11-06T08:49:38.209995Z",
     "start_time": "2024-11-06T08:49:38.205007Z"
    }
   },
   "outputs": [
    {
     "name": "stdout",
     "output_type": "stream",
     "text": [
      "my_favorite의 주소:  1970327297792\n",
      "new_favorite의 주소:  1970327297792\n"
     ]
    }
   ],
   "source": [
    "# 얕은 복사\n",
    "my_favorite = {'fruit':'apple', 'number':12}\n",
    "new_favorite = my_favorite # 얕은 복사(할당)\n",
    "print('my_favorite의 주소: ', id(my_favorite))\n",
    "print('new_favorite의 주소: ', id(new_favorite))"
   ]
  },
  {
   "cell_type": "code",
   "execution_count": 178,
   "id": "fb038ec6",
   "metadata": {
    "ExecuteTime": {
     "end_time": "2024-11-06T08:51:06.352469Z",
     "start_time": "2024-11-06T08:51:06.347759Z"
    }
   },
   "outputs": [
    {
     "name": "stdout",
     "output_type": "stream",
     "text": [
      "원본  :  {'fruit': '과일은 다 좋아. 하나를 어찌 선택해', 'number': 12, 'people': '홍길동'}\n",
      "수정본:  {'fruit': '과일은 다 좋아. 하나를 어찌 선택해', 'number': 12, 'people': '홍길동'}\n"
     ]
    }
   ],
   "source": [
    "new_favorite['fruit'] = '과일은 다 좋아. 하나를 어찌 선택해'\n",
    "new_favorite['people'] = '홍길동'\n",
    "print('원본  : ', my_favorite)\n",
    "print('수정본: ', new_favorite)"
   ]
  },
  {
   "cell_type": "code",
   "execution_count": 182,
   "id": "5900485a",
   "metadata": {
    "ExecuteTime": {
     "end_time": "2024-11-06T08:55:38.402963Z",
     "start_time": "2024-11-06T08:55:38.396986Z"
    }
   },
   "outputs": [
    {
     "name": "stdout",
     "output_type": "stream",
     "text": [
      "my_favorite의 주소:  1970321094784\n",
      "new_favorite의 주소:  1970321089152\n",
      "원본  :  {'fruit': 'apple', 'number': 12}\n",
      "수정본:  {'fruit': '과일은 다 좋아. 하나를 어찌 선택해', 'number': 12, 'people': '홍길동'}\n"
     ]
    }
   ],
   "source": [
    "# 깊은 복사\n",
    "my_favorite = {'fruit':'apple', 'number':12}\n",
    "new_favorite = my_favorite.copy() # 깊은 복사(할당)\n",
    "print('my_favorite의 주소: ', id(my_favorite))\n",
    "print('new_favorite의 주소: ', id(new_favorite))\n",
    "new_favorite['fruit'] = '과일은 다 좋아. 하나를 어찌 선택해'\n",
    "new_favorite['people'] = '홍길동'\n",
    "print('원본  : ', my_favorite)\n",
    "print('수정본: ', new_favorite)"
   ]
  },
  {
   "cell_type": "code",
   "execution_count": null,
   "id": "a349cc07",
   "metadata": {},
   "outputs": [],
   "source": []
  },
  {
   "cell_type": "code",
   "execution_count": null,
   "id": "88be2d01",
   "metadata": {},
   "outputs": [],
   "source": []
  },
  {
   "cell_type": "code",
   "execution_count": null,
   "id": "fc867a04",
   "metadata": {},
   "outputs": [],
   "source": []
  },
  {
   "cell_type": "code",
   "execution_count": null,
   "id": "8d889116",
   "metadata": {},
   "outputs": [],
   "source": []
  }
 ],
 "metadata": {
  "kernelspec": {
   "display_name": "Python 3 (ipykernel)",
   "language": "python",
   "name": "python3"
  },
  "language_info": {
   "codemirror_mode": {
    "name": "ipython",
    "version": 3
   },
   "file_extension": ".py",
   "mimetype": "text/x-python",
   "name": "python",
   "nbconvert_exporter": "python",
   "pygments_lexer": "ipython3",
   "version": "3.10.9"
  },
  "toc": {
   "base_numbering": 1,
   "nav_menu": {},
   "number_sections": true,
   "sideBar": true,
   "skip_h1_title": false,
   "title_cell": "Table of Contents",
   "title_sidebar": "Contents",
   "toc_cell": false,
   "toc_position": {
    "height": "calc(100% - 180px)",
    "left": "10px",
    "top": "150px",
    "width": "217.8px"
   },
   "toc_section_display": true,
   "toc_window_display": true
  }
 },
 "nbformat": 4,
 "nbformat_minor": 5
}
