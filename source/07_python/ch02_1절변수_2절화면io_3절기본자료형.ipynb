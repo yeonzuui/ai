{
 "cells": [
  {
   "cell_type": "code",
   "execution_count": 3,
   "id": "3e7ce52c",
   "metadata": {
    "ExecuteTime": {
     "end_time": "2024-11-05T00:50:02.819590Z",
     "start_time": "2024-11-05T00:50:02.814536Z"
    }
   },
   "outputs": [
    {
     "data": {
      "text/html": [
       "\n",
       "<style>\n",
       "div.container{width:80% !important;}\n",
       "div.CodeMirror {font-family:Consolas; font-size:16pt;}\n",
       "div.output {font-size:16pt; font-weight:bold;}\n",
       "div.input {font-family:Consolas; font-size:16pt;}\n",
       "div.prompt {min-width:70px;}\n",
       "div#toc-header{margin-top:150px;}\n",
       "</style>\n",
       "<style>\n",
       "span.toc-item-num{\n",
       "display:none;\n",
       "}\n",
       "</style>\n"
      ],
      "text/plain": [
       "<IPython.core.display.HTML object>"
      ]
     },
     "metadata": {},
     "output_type": "display_data"
    }
   ],
   "source": [
    "from IPython.display import display, HTML\n",
    "display(HTML(\"\"\"\n",
    "<style>\n",
    "div.container{width:80% !important;}\n",
    "div.CodeMirror {font-family:Consolas; font-size:16pt;}\n",
    "div.output {font-size:16pt; font-weight:bold;}\n",
    "div.input {font-family:Consolas; font-size:16pt;}\n",
    "div.prompt {min-width:70px;}\n",
    "div#toc-header{margin-top:150px;}\n",
    "</style>\n",
    "<style>\n",
    "span.toc-item-num{\n",
    "display:none;\n",
    "}\n",
    "</style>\n",
    "\"\"\"))"
   ]
  },
  {
   "cell_type": "markdown",
   "id": "dae8b750",
   "metadata": {
    "ExecuteTime": {
     "end_time": "2024-11-04T07:27:51.992505Z",
     "start_time": "2024-11-04T07:27:51.985323Z"
    }
   },
   "source": [
    "<b><font size=\"6\" color=\"red\">ch02.자료형과 연산자</font></b>"
   ]
  },
  {
   "cell_type": "markdown",
   "id": "108323d9",
   "metadata": {},
   "source": [
    "# 1절. 변수"
   ]
  },
  {
   "cell_type": "markdown",
   "id": "017cf291",
   "metadata": {},
   "source": [
    "## 1.1 변수 선언\n",
    "- 파이썬은 변수 선언을 위한 타입이 없고, 별도의 선언 과정도 없음"
   ]
  },
  {
   "cell_type": "markdown",
   "id": "c8017cb2",
   "metadata": {},
   "source": [
    "## 1.2 변수 할당\n",
    "- 할당연산자를 이용해서 변수값을 할당하면 타입이 셋팅\n",
    "- 파이썬에서의 모든 변수는 객체"
   ]
  },
  {
   "cell_type": "code",
   "execution_count": 14,
   "id": "a5181cb6",
   "metadata": {
    "ExecuteTime": {
     "end_time": "2024-11-04T07:35:32.916934Z",
     "start_time": "2024-11-04T07:35:32.912951Z"
    }
   },
   "outputs": [
    {
     "name": "stdout",
     "output_type": "stream",
     "text": [
      "계산된 넓이는 78.5\n"
     ]
    }
   ],
   "source": [
    "# 변수 선언\n",
    "r = 5\n",
    "area = 3.14 * r * r\n",
    "print('계산된 넓이는', area) # 스페이스 포함"
   ]
  },
  {
   "cell_type": "code",
   "execution_count": 15,
   "id": "76066905",
   "metadata": {
    "ExecuteTime": {
     "end_time": "2024-11-04T07:35:58.109552Z",
     "start_time": "2024-11-04T07:35:57.970239Z"
    }
   },
   "outputs": [],
   "source": [
    "# numpy라는 패키지(폴더)를 np라는 이름으로 사용\n",
    "import numpy as np "
   ]
  },
  {
   "cell_type": "code",
   "execution_count": 19,
   "id": "1c00536f",
   "metadata": {
    "ExecuteTime": {
     "end_time": "2024-11-04T07:39:17.101524Z",
     "start_time": "2024-11-04T07:39:17.096516Z"
    }
   },
   "outputs": [
    {
     "name": "stdout",
     "output_type": "stream",
     "text": [
      "78.53981633974483\n"
     ]
    }
   ],
   "source": [
    "area = np.pi * r * r\n",
    "print(area)"
   ]
  },
  {
   "cell_type": "code",
   "execution_count": 22,
   "id": "682d44ab",
   "metadata": {
    "ExecuteTime": {
     "end_time": "2024-11-04T07:43:01.670933Z",
     "start_time": "2024-11-04T07:43:01.664940Z"
    }
   },
   "outputs": [
    {
     "name": "stdout",
     "output_type": "stream",
     "text": [
      "area의 주소: 2159059621648\n",
      "area의 타입: <class 'float'>\n"
     ]
    }
   ],
   "source": [
    "# id(area): area변수(객체)의 주소값\n",
    "print('area의 주소:', id(area))\n",
    "print('area의 타입:', type(area))"
   ]
  },
  {
   "cell_type": "code",
   "execution_count": 23,
   "id": "f12e4185",
   "metadata": {
    "ExecuteTime": {
     "end_time": "2024-11-04T07:43:17.839691Z",
     "start_time": "2024-11-04T07:43:17.833699Z"
    }
   },
   "outputs": [
    {
     "data": {
      "text/plain": [
       "False"
      ]
     },
     "execution_count": 23,
     "metadata": {},
     "output_type": "execute_result"
    }
   ],
   "source": [
    "area.is_integer()"
   ]
  },
  {
   "cell_type": "code",
   "execution_count": 24,
   "id": "1cab21fb",
   "metadata": {
    "ExecuteTime": {
     "end_time": "2024-11-04T07:44:45.965359Z",
     "start_time": "2024-11-04T07:44:45.947884Z"
    }
   },
   "outputs": [],
   "source": [
    "area = 10 # 기존 객체 삭제됨"
   ]
  },
  {
   "cell_type": "code",
   "execution_count": 25,
   "id": "820d4a99",
   "metadata": {
    "ExecuteTime": {
     "end_time": "2024-11-04T07:44:48.885313Z",
     "start_time": "2024-11-04T07:44:48.881215Z"
    }
   },
   "outputs": [
    {
     "name": "stdout",
     "output_type": "stream",
     "text": [
      "area의 주소: 2158935081488\n",
      "area의 타입: <class 'int'>\n"
     ]
    }
   ],
   "source": [
    "print('area의 주소:', id(area))\n",
    "print('area의 타입:', type(area))"
   ]
  },
  {
   "cell_type": "code",
   "execution_count": 28,
   "id": "df854cc6",
   "metadata": {
    "ExecuteTime": {
     "end_time": "2024-11-04T07:45:37.549533Z",
     "start_time": "2024-11-04T07:45:37.544545Z"
    }
   },
   "outputs": [
    {
     "name": "stdout",
     "output_type": "stream",
     "text": [
      "area의 주소: 2159056673584\n",
      "area의 타입: <class 'str'>\n"
     ]
    }
   ],
   "source": [
    "area = '파이썬'\n",
    "print('area의 주소:', id(area))\n",
    "print('area의 타입:', type(area))"
   ]
  },
  {
   "cell_type": "markdown",
   "id": "0956ad26",
   "metadata": {},
   "source": [
    "## 1.3 변수 이름 규칙\n",
    "- 문자로 시작\n",
    "- 문자(특수문자는 _제외하고는 불가), 숫자, _로 변수명 작성\n",
    "- 함수명은 변수명으로 가능하나 피한다. 써야한다면 int_식으로 _를 붙여서 사용\n",
    "- 파이썬 예약어(if, while, ...)는 변수명으로 사용 불가\n",
    "- 한글 변수는 꼭 필요시만 사용"
   ]
  },
  {
   "cell_type": "code",
   "execution_count": 29,
   "id": "41f42bf5",
   "metadata": {
    "ExecuteTime": {
     "end_time": "2024-11-04T07:49:46.784719Z",
     "start_time": "2024-11-04T07:49:46.769087Z"
    }
   },
   "outputs": [
    {
     "data": {
      "text/plain": [
       "'홍길동'"
      ]
     },
     "execution_count": 29,
     "metadata": {},
     "output_type": "execute_result"
    }
   ],
   "source": [
    "이름 = \"홍길동\"\n",
    "이름"
   ]
  },
  {
   "cell_type": "code",
   "execution_count": 32,
   "id": "d7c17dc1",
   "metadata": {
    "ExecuteTime": {
     "end_time": "2024-11-04T07:50:31.077930Z",
     "start_time": "2024-11-04T07:50:31.072923Z"
    }
   },
   "outputs": [
    {
     "name": "stdout",
     "output_type": "stream",
     "text": [
      "홍길동\n"
     ]
    }
   ],
   "source": [
    "print(이름)"
   ]
  },
  {
   "cell_type": "code",
   "execution_count": 34,
   "id": "a58804d8",
   "metadata": {
    "ExecuteTime": {
     "end_time": "2024-11-04T07:51:47.255873Z",
     "start_time": "2024-11-04T07:51:47.248892Z"
    },
    "collapsed": true
   },
   "outputs": [
    {
     "ename": "SyntaxError",
     "evalue": "invalid syntax (2630263448.py, line 1)",
     "output_type": "error",
     "traceback": [
      "\u001b[1;36m  Cell \u001b[1;32mIn[34], line 1\u001b[1;36m\u001b[0m\n\u001b[1;33m    if = 5\u001b[0m\n\u001b[1;37m       ^\u001b[0m\n\u001b[1;31mSyntaxError\u001b[0m\u001b[1;31m:\u001b[0m invalid syntax\n"
     ]
    }
   ],
   "source": [
    "if = 5"
   ]
  },
  {
   "cell_type": "code",
   "execution_count": 33,
   "id": "2cfc4e6c",
   "metadata": {
    "ExecuteTime": {
     "end_time": "2024-11-04T07:51:35.340815Z",
     "start_time": "2024-11-04T07:51:35.313965Z"
    }
   },
   "outputs": [
    {
     "ename": "NameError",
     "evalue": "name 'member' is not defined",
     "output_type": "error",
     "traceback": [
      "\u001b[1;31m---------------------------------------------------------------------------\u001b[0m",
      "\u001b[1;31mNameError\u001b[0m                                 Traceback (most recent call last)",
      "Cell \u001b[1;32mIn[33], line 1\u001b[0m\n\u001b[1;32m----> 1\u001b[0m \u001b[43mmember\u001b[49m\u001b[38;5;241m.\u001b[39mname \u001b[38;5;241m=\u001b[39m \u001b[38;5;241m5\u001b[39m\n",
      "\u001b[1;31mNameError\u001b[0m: name 'member' is not defined"
     ]
    }
   ],
   "source": [
    "member.name = 5 #변수에 .은 사용불가(R에서는 .을 변수명에 사용 가능)"
   ]
  },
  {
   "cell_type": "code",
   "execution_count": null,
   "id": "6385649f",
   "metadata": {},
   "outputs": [],
   "source": [
    "member_name = 5 # 스멜표기법\n",
    "memberName = 5  # 카멜표기법"
   ]
  },
  {
   "cell_type": "code",
   "execution_count": 35,
   "id": "c19f6200",
   "metadata": {
    "ExecuteTime": {
     "end_time": "2024-11-04T07:52:29.621873Z",
     "start_time": "2024-11-04T07:52:29.617892Z"
    }
   },
   "outputs": [],
   "source": [
    "print = 5"
   ]
  },
  {
   "cell_type": "code",
   "execution_count": 36,
   "id": "27e9a3cd",
   "metadata": {
    "ExecuteTime": {
     "end_time": "2024-11-04T07:52:42.127336Z",
     "start_time": "2024-11-04T07:52:42.107472Z"
    }
   },
   "outputs": [
    {
     "ename": "TypeError",
     "evalue": "'int' object is not callable",
     "output_type": "error",
     "traceback": [
      "\u001b[1;31m---------------------------------------------------------------------------\u001b[0m",
      "\u001b[1;31mTypeError\u001b[0m                                 Traceback (most recent call last)",
      "Cell \u001b[1;32mIn[36], line 1\u001b[0m\n\u001b[1;32m----> 1\u001b[0m \u001b[38;5;28;43mprint\u001b[39;49m\u001b[43m(\u001b[49m\u001b[43m이름\u001b[49m\u001b[43m)\u001b[49m\n",
      "\u001b[1;31mTypeError\u001b[0m: 'int' object is not callable"
     ]
    }
   ],
   "source": [
    "print(이름)"
   ]
  },
  {
   "cell_type": "code",
   "execution_count": 37,
   "id": "d8333b45",
   "metadata": {
    "ExecuteTime": {
     "end_time": "2024-11-04T07:53:15.721070Z",
     "start_time": "2024-11-04T07:53:15.715108Z"
    }
   },
   "outputs": [
    {
     "name": "stdout",
     "output_type": "stream",
     "text": [
      "홍길동\n"
     ]
    }
   ],
   "source": [
    "del print # print 변수 삭제\n",
    "print_ = 5\n",
    "print(이름)"
   ]
  },
  {
   "cell_type": "code",
   "execution_count": 38,
   "id": "bca50c9b",
   "metadata": {
    "ExecuteTime": {
     "end_time": "2024-11-04T07:56:59.913920Z",
     "start_time": "2024-11-04T07:56:59.907911Z"
    }
   },
   "outputs": [
    {
     "data": {
      "text/plain": [
       "complex"
      ]
     },
     "execution_count": 38,
     "metadata": {},
     "output_type": "execute_result"
    }
   ],
   "source": [
    "# 숫자, 정수, 실수, 복소수\n",
    "i = 3 + 3j # 복소수\n",
    "type(i)"
   ]
  },
  {
   "cell_type": "code",
   "execution_count": 41,
   "id": "f39d131c",
   "metadata": {
    "ExecuteTime": {
     "end_time": "2024-11-04T07:57:43.583440Z",
     "start_time": "2024-11-04T07:57:43.577969Z"
    }
   },
   "outputs": [
    {
     "data": {
      "text/plain": [
       "True"
      ]
     },
     "execution_count": 41,
     "metadata": {},
     "output_type": "execute_result"
    }
   ],
   "source": [
    "isinstance(i, complex) # i 변수(객체)가 complex타입인지 여부"
   ]
  },
  {
   "cell_type": "markdown",
   "id": "3cffe0b5",
   "metadata": {},
   "source": [
    "## 1.4 도움말"
   ]
  },
  {
   "cell_type": "code",
   "execution_count": 42,
   "id": "6cef41c5",
   "metadata": {
    "ExecuteTime": {
     "end_time": "2024-11-04T07:59:01.695320Z",
     "start_time": "2024-11-04T07:59:01.690333Z"
    },
    "collapsed": true
   },
   "outputs": [
    {
     "name": "stdout",
     "output_type": "stream",
     "text": [
      "Help on built-in function print in module builtins:\n",
      "\n",
      "print(...)\n",
      "    print(value, ..., sep=' ', end='\\n', file=sys.stdout, flush=False)\n",
      "    \n",
      "    Prints the values to a stream, or to sys.stdout by default.\n",
      "    Optional keyword arguments:\n",
      "    file:  a file-like object (stream); defaults to the current sys.stdout.\n",
      "    sep:   string inserted between values, default a space.\n",
      "    end:   string appended after the last value, default a newline.\n",
      "    flush: whether to forcibly flush the stream.\n",
      "\n"
     ]
    }
   ],
   "source": [
    "help(print)"
   ]
  },
  {
   "cell_type": "code",
   "execution_count": 44,
   "id": "679b20ee",
   "metadata": {
    "ExecuteTime": {
     "end_time": "2024-11-04T08:00:05.803060Z",
     "start_time": "2024-11-04T07:59:41.065460Z"
    },
    "collapsed": true
   },
   "outputs": [
    {
     "name": "stdout",
     "output_type": "stream",
     "text": [
      "\n",
      "Welcome to Python 3.10's help utility!\n",
      "\n",
      "If this is your first time using Python, you should definitely check out\n",
      "the tutorial on the internet at https://docs.python.org/3.10/tutorial/.\n",
      "\n",
      "Enter the name of any module, keyword, or topic to get help on writing\n",
      "Python programs and using Python modules.  To quit this help utility and\n",
      "return to the interpreter, just type \"quit\".\n",
      "\n",
      "To get a list of available modules, keywords, symbols, or topics, type\n",
      "\"modules\", \"keywords\", \"symbols\", or \"topics\".  Each module also comes\n",
      "with a one-line summary of what it does; to list the modules whose name\n",
      "or summary contain a given string such as \"spam\", type \"modules spam\".\n",
      "\n",
      "help> isinstane\n",
      "No Python documentation found for 'isinstane'.\n",
      "Use help() to get the interactive help utility.\n",
      "Use help(str) for help on the str class.\n",
      "\n",
      "help> help\n",
      "\n",
      "Welcome to Python 3.10's help utility!\n",
      "\n",
      "If this is your first time using Python, you should definitely check out\n",
      "the tutorial on the internet at https://docs.python.org/3.10/tutorial/.\n",
      "\n",
      "Enter the name of any module, keyword, or topic to get help on writing\n",
      "Python programs and using Python modules.  To quit this help utility and\n",
      "return to the interpreter, just type \"quit\".\n",
      "\n",
      "To get a list of available modules, keywords, symbols, or topics, type\n",
      "\"modules\", \"keywords\", \"symbols\", or \"topics\".  Each module also comes\n",
      "with a one-line summary of what it does; to list the modules whose name\n",
      "or summary contain a given string such as \"spam\", type \"modules spam\".\n",
      "help> print\n",
      "Help on built-in function print in module builtins:\n",
      "\n",
      "print(...)\n",
      "    print(value, ..., sep=' ', end='\\n', file=sys.stdout, flush=False)\n",
      "    \n",
      "    Prints the values to a stream, or to sys.stdout by default.\n",
      "    Optional keyword arguments:\n",
      "    file:  a file-like object (stream); defaults to the current sys.stdout.\n",
      "    sep:   string inserted between values, default a space.\n",
      "    end:   string appended after the last value, default a newline.\n",
      "    flush: whether to forcibly flush the stream.\n",
      "\n",
      "help> q\n",
      "\n",
      "You are now leaving help and returning to the Python interpreter.\n",
      "If you want to ask for help on a particular object directly from the\n",
      "interpreter, you can type \"help(object)\".  Executing \"help('string')\"\n",
      "has the same effect as typing a particular string at the help> prompt.\n"
     ]
    }
   ],
   "source": [
    "help()"
   ]
  },
  {
   "cell_type": "code",
   "execution_count": null,
   "id": "9d5f9000",
   "metadata": {},
   "outputs": [],
   "source": [
    "# 도움말 기능: shift + tab 키\n",
    "print()"
   ]
  },
  {
   "cell_type": "code",
   "execution_count": 51,
   "id": "69142d65",
   "metadata": {
    "ExecuteTime": {
     "end_time": "2024-11-04T08:16:17.223159Z",
     "start_time": "2024-11-04T08:16:17.218549Z"
    }
   },
   "outputs": [],
   "source": [
    "def add(x, y=0): \n",
    "    '''\n",
    "    매개변수 2개를 받아 두 자리 숫자로 만들어요\n",
    "    x = 10의 자리수가 됨\n",
    "    y = 1의 자리수가 됨(default값 0)\n",
    "    사용법: add(2, 3) → 23\n",
    "    '''\n",
    "    return x * 10 + y"
   ]
  },
  {
   "cell_type": "code",
   "execution_count": 47,
   "id": "54f52655",
   "metadata": {
    "ExecuteTime": {
     "end_time": "2024-11-04T08:14:58.249447Z",
     "start_time": "2024-11-04T08:14:58.242813Z"
    }
   },
   "outputs": [
    {
     "data": {
      "text/plain": [
       "54"
      ]
     },
     "execution_count": 47,
     "metadata": {},
     "output_type": "execute_result"
    }
   ],
   "source": [
    "add(5, 4)"
   ]
  },
  {
   "cell_type": "code",
   "execution_count": 52,
   "id": "72d08c20",
   "metadata": {
    "ExecuteTime": {
     "end_time": "2024-11-04T08:16:20.959788Z",
     "start_time": "2024-11-04T08:16:20.953802Z"
    }
   },
   "outputs": [
    {
     "data": {
      "text/plain": [
       "50"
      ]
     },
     "execution_count": 52,
     "metadata": {},
     "output_type": "execute_result"
    }
   ],
   "source": [
    "add(5)"
   ]
  },
  {
   "cell_type": "code",
   "execution_count": 54,
   "id": "a07c0bce",
   "metadata": {
    "ExecuteTime": {
     "end_time": "2024-11-04T08:17:01.862623Z",
     "start_time": "2024-11-04T08:17:01.857647Z"
    }
   },
   "outputs": [],
   "source": [
    "a = add # 함수형 언어는 변수에 함수 할당 가능, a랑 add는 같은 함수"
   ]
  },
  {
   "cell_type": "code",
   "execution_count": 56,
   "id": "aac03662",
   "metadata": {
    "ExecuteTime": {
     "end_time": "2024-11-04T08:17:11.822829Z",
     "start_time": "2024-11-04T08:17:11.807194Z"
    }
   },
   "outputs": [
    {
     "data": {
      "text/plain": [
       "54"
      ]
     },
     "execution_count": 56,
     "metadata": {},
     "output_type": "execute_result"
    }
   ],
   "source": [
    "a(5, 4)"
   ]
  },
  {
   "cell_type": "code",
   "execution_count": 57,
   "id": "c580ff8f",
   "metadata": {
    "ExecuteTime": {
     "end_time": "2024-11-04T08:17:17.640746Z",
     "start_time": "2024-11-04T08:17:17.634711Z"
    }
   },
   "outputs": [
    {
     "data": {
      "text/plain": [
       "50"
      ]
     },
     "execution_count": 57,
     "metadata": {},
     "output_type": "execute_result"
    }
   ],
   "source": [
    "a(5)"
   ]
  },
  {
   "cell_type": "markdown",
   "id": "61ad6ed9",
   "metadata": {
    "ExecuteTime": {
     "end_time": "2024-11-04T08:17:55.294187Z",
     "start_time": "2024-11-04T08:17:55.291274Z"
    }
   },
   "source": [
    "## 1.5 다중 변수 선언"
   ]
  },
  {
   "cell_type": "code",
   "execution_count": 59,
   "id": "fc6d5210",
   "metadata": {
    "ExecuteTime": {
     "end_time": "2024-11-04T08:18:12.653372Z",
     "start_time": "2024-11-04T08:18:12.650372Z"
    }
   },
   "outputs": [],
   "source": [
    "a = 10\n",
    "b = 20"
   ]
  },
  {
   "cell_type": "code",
   "execution_count": 60,
   "id": "d82244ab",
   "metadata": {
    "ExecuteTime": {
     "end_time": "2024-11-04T08:18:22.214662Z",
     "start_time": "2024-11-04T08:18:22.210004Z"
    }
   },
   "outputs": [],
   "source": [
    "a, b = (10, 20) # 동시에 다중 변수 선언"
   ]
  },
  {
   "cell_type": "code",
   "execution_count": 61,
   "id": "0b45bbab",
   "metadata": {
    "ExecuteTime": {
     "end_time": "2024-11-04T08:19:01.569140Z",
     "start_time": "2024-11-04T08:19:01.561858Z"
    }
   },
   "outputs": [
    {
     "data": {
      "text/plain": [
       "(10, 20)"
      ]
     },
     "execution_count": 61,
     "metadata": {},
     "output_type": "execute_result"
    }
   ],
   "source": [
    "a, b"
   ]
  },
  {
   "cell_type": "code",
   "execution_count": 62,
   "id": "c1519e8f",
   "metadata": {
    "ExecuteTime": {
     "end_time": "2024-11-04T08:19:25.014408Z",
     "start_time": "2024-11-04T08:19:25.010413Z"
    }
   },
   "outputs": [],
   "source": [
    "a, b = b, a+b # 다중 변수 할당 시 순차적 할당이 아니고 일괄 동시 할당"
   ]
  },
  {
   "cell_type": "code",
   "execution_count": 63,
   "id": "a78e63d5",
   "metadata": {
    "ExecuteTime": {
     "end_time": "2024-11-04T08:19:37.464147Z",
     "start_time": "2024-11-04T08:19:37.458156Z"
    }
   },
   "outputs": [
    {
     "data": {
      "text/plain": [
       "(20, 30)"
      ]
     },
     "execution_count": 63,
     "metadata": {},
     "output_type": "execute_result"
    }
   ],
   "source": [
    "a, b"
   ]
  },
  {
   "cell_type": "markdown",
   "id": "4453a551",
   "metadata": {},
   "source": [
    "# 2절. 화면 i/o"
   ]
  },
  {
   "cell_type": "code",
   "execution_count": 64,
   "id": "8b7e7217",
   "metadata": {
    "ExecuteTime": {
     "end_time": "2024-11-04T08:22:12.043161Z",
     "start_time": "2024-11-04T08:21:58.909059Z"
    }
   },
   "outputs": [
    {
     "name": "stdout",
     "output_type": "stream",
     "text": [
      "10\n"
     ]
    },
    {
     "data": {
      "text/plain": [
       "'10'"
      ]
     },
     "execution_count": 64,
     "metadata": {},
     "output_type": "execute_result"
    }
   ],
   "source": [
    "# input(): 사용자로부터 값을 입력받기 위한 함수. 입력값은 문자열\n",
    "first = input()\n",
    "first"
   ]
  },
  {
   "cell_type": "code",
   "execution_count": 1,
   "id": "7109075f",
   "metadata": {
    "ExecuteTime": {
     "end_time": "2024-11-04T08:25:02.595473Z",
     "start_time": "2024-11-04T08:24:59.290916Z"
    }
   },
   "outputs": [
    {
     "name": "stdout",
     "output_type": "stream",
     "text": [
      "첫 번째 숫자는?10\n",
      "두 번째 숫자는?55\n"
     ]
    }
   ],
   "source": [
    "first  = input('첫 번째 숫자는?')\n",
    "second = input('두 번째 숫자는?')"
   ]
  },
  {
   "cell_type": "code",
   "execution_count": 3,
   "id": "3b0f5fbc",
   "metadata": {
    "ExecuteTime": {
     "end_time": "2024-11-04T08:25:16.394374Z",
     "start_time": "2024-11-04T08:25:16.387372Z"
    }
   },
   "outputs": [
    {
     "name": "stdout",
     "output_type": "stream",
     "text": [
      "두 수의 합은 554\n"
     ]
    }
   ],
   "source": [
    "print('두 수의 합은', first + second)"
   ]
  },
  {
   "cell_type": "code",
   "execution_count": 4,
   "id": "9b388fd3",
   "metadata": {
    "ExecuteTime": {
     "end_time": "2024-11-04T08:25:32.004019Z",
     "start_time": "2024-11-04T08:25:31.995057Z"
    }
   },
   "outputs": [
    {
     "data": {
      "text/plain": [
       "'55'"
      ]
     },
     "execution_count": 4,
     "metadata": {},
     "output_type": "execute_result"
    }
   ],
   "source": [
    "first"
   ]
  },
  {
   "cell_type": "code",
   "execution_count": 6,
   "id": "766194c6",
   "metadata": {
    "ExecuteTime": {
     "end_time": "2024-11-04T08:26:32.975407Z",
     "start_time": "2024-11-04T08:26:32.970441Z"
    }
   },
   "outputs": [],
   "source": [
    "sum = int(first) + int(second)"
   ]
  },
  {
   "cell_type": "code",
   "execution_count": 7,
   "id": "56f3d574",
   "metadata": {
    "ExecuteTime": {
     "end_time": "2024-11-04T08:26:52.455226Z",
     "start_time": "2024-11-04T08:26:52.450238Z"
    }
   },
   "outputs": [
    {
     "name": "stdout",
     "output_type": "stream",
     "text": [
      "합 59\n"
     ]
    }
   ],
   "source": [
    "print('합', sum)"
   ]
  },
  {
   "cell_type": "code",
   "execution_count": 13,
   "id": "78431a4c",
   "metadata": {
    "ExecuteTime": {
     "end_time": "2024-11-04T08:31:19.967989Z",
     "start_time": "2024-11-04T08:31:19.962989Z"
    }
   },
   "outputs": [
    {
     "name": "stdout",
     "output_type": "stream",
     "text": [
      "합 / 59 / Hello / World\t\tHello ~ Python\n"
     ]
    }
   ],
   "source": [
    "print('합', sum, 'Hello', 'World', sep=' / ', end='\\t\\t')\n",
    "print('Hello', 'Python', sep=' ~ ')"
   ]
  },
  {
   "cell_type": "code",
   "execution_count": 16,
   "id": "0f7547dd",
   "metadata": {
    "ExecuteTime": {
     "end_time": "2024-11-04T08:34:38.464131Z",
     "start_time": "2024-11-04T08:34:38.459135Z"
    }
   },
   "outputs": [
    {
     "name": "stdout",
     "output_type": "stream",
     "text": [
      "hello world hello python\n"
     ]
    }
   ],
   "source": [
    "import sys\n",
    "print('hello', 'world', 'hello', 'python', file=sys.stdout)"
   ]
  },
  {
   "cell_type": "markdown",
   "id": "40e2d315",
   "metadata": {},
   "source": [
    "# 3절. 기본 자료형\n",
    "- 프로그래밍 언어들은 변수가 가져야 할 값의 형식, 범위에 따라 값의 유형을 정해놓고 사용.\n",
    "- 자료형에 따라 값의 크기와 저장방식이 달라짐\n",
    "- 자료형에 따라 수행할 수 있는 명령어들이 달라짐\n",
    "\n",
    "    * `숫자` - int, float, complex\n",
    "    * `문자` - str\n",
    "    * `논리` - bool"
   ]
  },
  {
   "cell_type": "markdown",
   "id": "fbe30e78",
   "metadata": {},
   "source": [
    "## 3.1 숫자형"
   ]
  },
  {
   "cell_type": "code",
   "execution_count": 19,
   "id": "de8a2635",
   "metadata": {
    "ExecuteTime": {
     "end_time": "2024-11-04T08:44:15.968217Z",
     "start_time": "2024-11-04T08:44:15.963230Z"
    }
   },
   "outputs": [
    {
     "name": "stdout",
     "output_type": "stream",
     "text": [
      "9223372036854775807\n"
     ]
    }
   ],
   "source": [
    "import sys\n",
    "print(sys.maxsize) # 정수의 최댓값: 2^63-1"
   ]
  },
  {
   "cell_type": "code",
   "execution_count": 24,
   "id": "68d4f82c",
   "metadata": {
    "ExecuteTime": {
     "end_time": "2024-11-04T08:45:43.591952Z",
     "start_time": "2024-11-04T08:45:43.587952Z"
    }
   },
   "outputs": [
    {
     "name": "stdout",
     "output_type": "stream",
     "text": [
      "i값: 9223372036854775907\n",
      "<class 'int'>\n"
     ]
    }
   ],
   "source": [
    "i = sys.maxsize + 100\n",
    "print('i값:', i)\n",
    "print(type(i))"
   ]
  },
  {
   "cell_type": "code",
   "execution_count": 26,
   "id": "dc35b6fb",
   "metadata": {
    "ExecuteTime": {
     "end_time": "2024-11-04T08:46:21.511722Z",
     "start_time": "2024-11-04T08:46:21.506755Z"
    }
   },
   "outputs": [
    {
     "name": "stdout",
     "output_type": "stream",
     "text": [
      "1.5\n"
     ]
    }
   ],
   "source": [
    "f = 3/2 # 정수/정수는 실수\n",
    "print(f)"
   ]
  },
  {
   "cell_type": "code",
   "execution_count": 27,
   "id": "7c17edf0",
   "metadata": {
    "ExecuteTime": {
     "end_time": "2024-11-04T08:46:36.111666Z",
     "start_time": "2024-11-04T08:46:36.107676Z"
    }
   },
   "outputs": [
    {
     "name": "stdout",
     "output_type": "stream",
     "text": [
      "1.0\n"
     ]
    }
   ],
   "source": [
    "f = 3/3\n",
    "print(f)"
   ]
  },
  {
   "cell_type": "code",
   "execution_count": 29,
   "id": "5dac7355",
   "metadata": {
    "ExecuteTime": {
     "end_time": "2024-11-04T08:48:39.112565Z",
     "start_time": "2024-11-04T08:48:39.107943Z"
    }
   },
   "outputs": [
    {
     "name": "stdout",
     "output_type": "stream",
     "text": [
      "1\n",
      "1\n"
     ]
    }
   ],
   "source": [
    "# 자바처럼 정수/정수의 결과를 정수로\n",
    "f = int(3/2) # int(): int로 형변환\n",
    "print(f)\n",
    "f = 3//2 # 몫연산자\n",
    "print(f)"
   ]
  },
  {
   "cell_type": "code",
   "execution_count": 32,
   "id": "3425c541",
   "metadata": {
    "ExecuteTime": {
     "end_time": "2024-11-04T08:49:57.598668Z",
     "start_time": "2024-11-04T08:49:57.594687Z"
    }
   },
   "outputs": [
    {
     "name": "stdout",
     "output_type": "stream",
     "text": [
      "(-1+0j)\n"
     ]
    }
   ],
   "source": [
    "c = 1j # 수학시간 1i\n",
    "print(c**2) # c의 제곱"
   ]
  },
  {
   "cell_type": "code",
   "execution_count": 36,
   "id": "bfb37c90",
   "metadata": {
    "ExecuteTime": {
     "end_time": "2024-11-04T08:52:45.416050Z",
     "start_time": "2024-11-04T08:52:45.411559Z"
    }
   },
   "outputs": [
    {
     "name": "stdout",
     "output_type": "stream",
     "text": [
      "지수형은 실수형으로 저장: 1120000000000.0\n",
      "지수형 표현으로 할 당시 실수형으로 저장: 1.12e-12\n"
     ]
    }
   ],
   "source": [
    "f = 1.12e12 # 1.12*10의 12승 (1120000000000)\n",
    "print('지수형은 실수형으로 저장:', f)\n",
    "f = 1.12e-12 # 1.12*10의 -12승\n",
    "print('지수형 표현으로 할 당시 실수형으로 저장:', f)"
   ]
  },
  {
   "cell_type": "markdown",
   "id": "986c73da",
   "metadata": {},
   "source": [
    "## 3.2 문자형"
   ]
  },
  {
   "cell_type": "code",
   "execution_count": 43,
   "id": "b75ec93a",
   "metadata": {
    "ExecuteTime": {
     "end_time": "2024-11-04T08:55:17.434283Z",
     "start_time": "2024-11-04T08:55:17.429295Z"
    }
   },
   "outputs": [
    {
     "name": "stdout",
     "output_type": "stream",
     "text": [
      "홍길동 '짱'\n",
      "서울시 관악구 '신림'동\n"
     ]
    }
   ],
   "source": [
    "name    = '홍길동 \\'짱\\'' # 홍길동 '짱'\n",
    "address = \"서울시 관악구 '신림'동\"\n",
    "print(name)\n",
    "print(address)"
   ]
  },
  {
   "cell_type": "code",
   "execution_count": 45,
   "id": "afa158db",
   "metadata": {
    "ExecuteTime": {
     "end_time": "2024-11-04T08:56:52.025018Z",
     "start_time": "2024-11-04T08:56:52.020033Z"
    }
   },
   "outputs": [
    {
     "name": "stdout",
     "output_type": "stream",
     "text": [
      "여러 줄짜리 내용을 저장\n",
      " 줄바꿈 문자를 쓰면 당연히 여러줄 \n",
      " 줄바꿈은 가독성 떨어져\n"
     ]
    }
   ],
   "source": [
    "text = '여러 줄짜리 내용을 저장\\n 줄바꿈 문자를 쓰면 당연히 여러줄 \\n 줄바꿈은 가독성 떨어져'\n",
    "print(text)"
   ]
  },
  {
   "cell_type": "code",
   "execution_count": 48,
   "id": "1e57602c",
   "metadata": {
    "ExecuteTime": {
     "end_time": "2024-11-04T08:57:51.543711Z",
     "start_time": "2024-11-04T08:57:51.538725Z"
    }
   },
   "outputs": [
    {
     "name": "stdout",
     "output_type": "stream",
     "text": [
      "여러 줄짜리 내용을 저장\n",
      "줄바꿈문자쓰지 않고 따옴표 3개로 처리\n",
      "이처럼 쓰는 경우가 더 많아요\n",
      "\n"
     ]
    }
   ],
   "source": [
    "text=\"\"\"여러 줄짜리 내용을 저장\n",
    "줄바꿈문자쓰지 않고 따옴표 3개로 처리\n",
    "이처럼 쓰는 경우가 더 많아요\n",
    "\"\"\"\n",
    "print(text)"
   ]
  },
  {
   "cell_type": "markdown",
   "id": "8bff9e1f",
   "metadata": {},
   "source": [
    "### ※ 문자열 연산"
   ]
  },
  {
   "cell_type": "code",
   "execution_count": 2,
   "id": "326a09a7",
   "metadata": {
    "ExecuteTime": {
     "end_time": "2024-11-05T00:49:54.414982Z",
     "start_time": "2024-11-05T00:49:54.406490Z"
    }
   },
   "outputs": [
    {
     "name": "stdout",
     "output_type": "stream",
     "text": [
      "홍길동동해번쩍\n"
     ]
    }
   ],
   "source": [
    "'''\n",
    "    여러줄 주석 용도\n",
    "    2024.11.5 문자열 연산 by 아무개\n",
    "'''\n",
    "name1 = \"홍길동\"\n",
    "name2 = \"동해번쩍\"\n",
    "print(name1 + name2)"
   ]
  },
  {
   "cell_type": "code",
   "execution_count": 4,
   "id": "16b21152",
   "metadata": {
    "ExecuteTime": {
     "end_time": "2024-11-05T00:50:17.554967Z",
     "start_time": "2024-11-05T00:50:17.549967Z"
    }
   },
   "outputs": [
    {
     "name": "stdout",
     "output_type": "stream",
     "text": [
      "홍길동홍길동홍길동\n"
     ]
    }
   ],
   "source": [
    "print(name1 * 3) # 문자열을 곱하면 반복 연산"
   ]
  },
  {
   "cell_type": "markdown",
   "id": "615ad470",
   "metadata": {},
   "source": [
    "### ※ raw Data\n",
    "    - 용도: 정규표현식 이용, 디렉토리 경로를 표현 시 이용"
   ]
  },
  {
   "cell_type": "code",
   "execution_count": 6,
   "id": "2fc80ed0",
   "metadata": {
    "ExecuteTime": {
     "end_time": "2024-11-05T00:52:12.906311Z",
     "start_time": "2024-11-05T00:52:12.901303Z"
    }
   },
   "outputs": [
    {
     "name": "stdout",
     "output_type": "stream",
     "text": [
      "Hello\\nWorld\n"
     ]
    }
   ],
   "source": [
    "# raw 데이터 처리 시 이스케이프문자(\\n, \\t, \\r, \\', \\\")가 그대로 저장\n",
    "print(r'Hello\\nWorld')"
   ]
  },
  {
   "cell_type": "code",
   "execution_count": 1,
   "id": "a1f813de",
   "metadata": {
    "ExecuteTime": {
     "end_time": "2024-12-09T07:53:19.239962Z",
     "start_time": "2024-12-09T07:53:19.230948Z"
    }
   },
   "outputs": [
    {
     "name": "stdout",
     "output_type": "stream",
     "text": [
      "이름: 홍길동, 주소: 서울, 전화: 02-888-8888, 핸드폰: 010-9999-9999, 특징: 동해번쩍 서해번쩍, 혈액형: B\n"
     ]
    }
   ],
   "source": [
    "# 정규표현식 이용\n",
    "import re\n",
    "data = \"이름: 홍길동, 주소: 서울, 전화: 02-888-8888, 핸드폰: 010-9999-9999, 특징: 동해번쩍 서해번쩍, \\\n",
    "혈액형: B\"\n",
    "print(data)"
   ]
  },
  {
   "cell_type": "code",
   "execution_count": 2,
   "id": "3a3ae38b",
   "metadata": {
    "ExecuteTime": {
     "end_time": "2024-12-09T07:53:55.079428Z",
     "start_time": "2024-12-09T07:53:55.065180Z"
    }
   },
   "outputs": [
    {
     "data": {
      "text/plain": [
       "['02-888-8888', '010-9999-9999']"
      ]
     },
     "execution_count": 2,
     "metadata": {},
     "output_type": "execute_result"
    }
   ],
   "source": [
    "# 정규표현식 처리에서는 raw 데이터 처리를 하지 않아도 실행은되나\n",
    "# 실수를 줄이고, 가독성을 높이는 용도로 raw 데이터 처리를 사용\n",
    "tel_pattern = r'\\d{2,3}-\\d{3,4}-\\d{4}'\n",
    "tels = re.findall(tel_pattern, data) # 해당 패턴을 가진 문자열 찾음\n",
    "tels"
   ]
  },
  {
   "cell_type": "code",
   "execution_count": 3,
   "id": "6d025ec8",
   "metadata": {
    "ExecuteTime": {
     "end_time": "2024-12-09T07:54:11.436130Z",
     "start_time": "2024-12-09T07:54:11.430145Z"
    }
   },
   "outputs": [
    {
     "data": {
      "text/plain": [
       "<re.Match object; span=(21, 32), match='02-888-8888'>"
      ]
     },
     "execution_count": 3,
     "metadata": {},
     "output_type": "execute_result"
    }
   ],
   "source": [
    "# 정규표현식 패턴과 처음 match되는 문자 찾음\n",
    "firstTel = re.search(tel_pattern, data)\n",
    "firstTel"
   ]
  },
  {
   "cell_type": "code",
   "execution_count": 16,
   "id": "75cbac31",
   "metadata": {
    "ExecuteTime": {
     "end_time": "2024-11-05T01:12:27.171295Z",
     "start_time": "2024-11-05T01:12:27.165960Z"
    }
   },
   "outputs": [
    {
     "name": "stdout",
     "output_type": "stream",
     "text": [
      "02-888-8888\n",
      "02-888-8888\n"
     ]
    }
   ],
   "source": [
    "print(data[21:32])\n",
    "print(firstTel.group(0))"
   ]
  },
  {
   "cell_type": "code",
   "execution_count": 4,
   "id": "20f495f7",
   "metadata": {
    "ExecuteTime": {
     "end_time": "2024-12-09T07:54:48.812445Z",
     "start_time": "2024-12-09T07:54:48.806439Z"
    }
   },
   "outputs": [
    {
     "data": {
      "text/plain": [
       "<re.Match object; span=(21, 32), match='02-888-8888'>"
      ]
     },
     "execution_count": 4,
     "metadata": {},
     "output_type": "execute_result"
    }
   ],
   "source": [
    "phone_pattern = r'(\\d{2,3})-(\\d{3,4})-(\\d{4})'\n",
    "first_phone = re.search(phone_pattern, data)\n",
    "first_phone"
   ]
  },
  {
   "cell_type": "code",
   "execution_count": 19,
   "id": "f7f5f15f",
   "metadata": {
    "ExecuteTime": {
     "end_time": "2024-11-05T01:20:32.268689Z",
     "start_time": "2024-11-05T01:20:32.263800Z"
    }
   },
   "outputs": [
    {
     "name": "stdout",
     "output_type": "stream",
     "text": [
      "전체 전화번호: 02-888-8888\n",
      "국번: 02\n",
      "중간번호: 888\n",
      "끝번호: 8888\n"
     ]
    }
   ],
   "source": [
    "print('전체 전화번호:', first_phone.group(0))\n",
    "print('국번:', first_phone.group(1))\n",
    "print('중간번호:', first_phone.group(2))\n",
    "print('끝번호:', first_phone.group(3))"
   ]
  },
  {
   "cell_type": "code",
   "execution_count": 20,
   "id": "f025691e",
   "metadata": {
    "ExecuteTime": {
     "end_time": "2024-11-05T01:37:06.131240Z",
     "start_time": "2024-11-05T01:37:06.127249Z"
    }
   },
   "outputs": [],
   "source": [
    "# 파일경로에는 반드시 r을 사용하거나  \\\\로 이용하거나 /를 이용\n",
    "# file_path = 'D:\\\\ai\\\\source\\\\07_python\\\\test.txt'\n",
    "# file_path = 'D/ai/source/07_python/test.txt'\n",
    "file_path = r'D:\\ai\\source\\07_python/test.txt'"
   ]
  },
  {
   "cell_type": "code",
   "execution_count": 23,
   "id": "4b8154c4",
   "metadata": {
    "ExecuteTime": {
     "end_time": "2024-11-05T01:43:28.284875Z",
     "start_time": "2024-11-05T01:43:28.279881Z"
    }
   },
   "outputs": [
    {
     "name": "stdout",
     "output_type": "stream",
     "text": [
      "Hello, World\n",
      "Hello, Python\n"
     ]
    }
   ],
   "source": [
    "file_stream = open(file_path, 'w')\n",
    "print('Hello, World', 'Hello, Python', sep='\\n') # 콘솔 출력\n",
    "print('Hello, World', 'Hello, Python', sep='\\n', file=file_stream) # 파일 출력\n",
    "file_stream.close()"
   ]
  },
  {
   "cell_type": "markdown",
   "id": "62cf7c05",
   "metadata": {},
   "source": [
    "### ※ 문자열 슬라이싱"
   ]
  },
  {
   "cell_type": "code",
   "execution_count": 24,
   "id": "18a174f0",
   "metadata": {
    "ExecuteTime": {
     "end_time": "2024-11-05T01:50:40.478746Z",
     "start_time": "2024-11-05T01:50:40.472763Z"
    }
   },
   "outputs": [
    {
     "data": {
      "text/plain": [
       "'0123456789'"
      ]
     },
     "execution_count": 24,
     "metadata": {},
     "output_type": "execute_result"
    }
   ],
   "source": [
    "str_ = '0123456789'\n",
    "str_"
   ]
  },
  {
   "cell_type": "code",
   "execution_count": 26,
   "id": "739472e7",
   "metadata": {
    "ExecuteTime": {
     "end_time": "2024-11-05T01:52:07.037199Z",
     "start_time": "2024-11-05T01:52:07.031209Z"
    }
   },
   "outputs": [
    {
     "data": {
      "text/plain": [
       "('0', '2', '9')"
      ]
     },
     "execution_count": 26,
     "metadata": {},
     "output_type": "execute_result"
    }
   ],
   "source": [
    "str_[0], str_[2], str_[-1] # 음수인덱싱은 맨 마지막이 -1"
   ]
  },
  {
   "cell_type": "code",
   "execution_count": 27,
   "id": "94a7f6e8",
   "metadata": {
    "ExecuteTime": {
     "end_time": "2024-11-05T01:52:20.786741Z",
     "start_time": "2024-11-05T01:52:20.769233Z"
    },
    "collapsed": true
   },
   "outputs": [
    {
     "ename": "IndexError",
     "evalue": "string index out of range",
     "output_type": "error",
     "traceback": [
      "\u001b[1;31m---------------------------------------------------------------------------\u001b[0m",
      "\u001b[1;31mIndexError\u001b[0m                                Traceback (most recent call last)",
      "Cell \u001b[1;32mIn[27], line 1\u001b[0m\n\u001b[1;32m----> 1\u001b[0m \u001b[43mstr_\u001b[49m\u001b[43m[\u001b[49m\u001b[38;5;241;43m10\u001b[39;49m\u001b[43m]\u001b[49m\n",
      "\u001b[1;31mIndexError\u001b[0m: string index out of range"
     ]
    }
   ],
   "source": [
    "str_[10] # 없는 인덱싱은 에러"
   ]
  },
  {
   "cell_type": "code",
   "execution_count": 28,
   "id": "22350b49",
   "metadata": {
    "ExecuteTime": {
     "end_time": "2024-11-05T01:55:12.422282Z",
     "start_time": "2024-11-05T01:55:12.416206Z"
    }
   },
   "outputs": [
    {
     "data": {
      "text/plain": [
       "'012'"
      ]
     },
     "execution_count": 28,
     "metadata": {},
     "output_type": "execute_result"
    }
   ],
   "source": [
    "'''\n",
    "문자열변수[from:stop]: from부터 stop앞까지 추출\n",
    "문자열변수[from:stop:step]: from부터 stop앞까지 step씩 전진하면서 추출\n",
    "    from 생략 시 처음부터\n",
    "    stop 생략 시 끝까지\n",
    "    step 생략 시 1\n",
    "'''\n",
    "str_[0:3] # 0번째부터 3번째앞까지"
   ]
  },
  {
   "cell_type": "code",
   "execution_count": 29,
   "id": "7ab11263",
   "metadata": {
    "ExecuteTime": {
     "end_time": "2024-11-05T01:55:59.607827Z",
     "start_time": "2024-11-05T01:55:59.602060Z"
    }
   },
   "outputs": [
    {
     "data": {
      "text/plain": [
       "'5678'"
      ]
     },
     "execution_count": 29,
     "metadata": {},
     "output_type": "execute_result"
    }
   ],
   "source": [
    "str_[-5:-1] # -5번째부터 -1번째 앞까지"
   ]
  },
  {
   "cell_type": "code",
   "execution_count": 30,
   "id": "32a21467",
   "metadata": {
    "ExecuteTime": {
     "end_time": "2024-11-05T01:56:58.974709Z",
     "start_time": "2024-11-05T01:56:58.968725Z"
    }
   },
   "outputs": [
    {
     "data": {
      "text/plain": [
       "'56789'"
      ]
     },
     "execution_count": 30,
     "metadata": {},
     "output_type": "execute_result"
    }
   ],
   "source": [
    "# 인덱싱 시 없는 인덱스번호를 사용하면 에러\n",
    "# 슬라이싱 시 인덱스 범위를 벗어나면 끝까지를 의미\n",
    "str_[5:19]"
   ]
  },
  {
   "cell_type": "code",
   "execution_count": 34,
   "id": "32a1dac9",
   "metadata": {
    "ExecuteTime": {
     "end_time": "2024-11-05T01:59:44.436902Z",
     "start_time": "2024-11-05T01:59:44.431902Z"
    }
   },
   "outputs": [
    {
     "name": "stdout",
     "output_type": "stream",
     "text": [
      "0123456789\n",
      "02468\n"
     ]
    }
   ],
   "source": [
    "print(str_[0:10])\n",
    "print(str_[0:10:2])"
   ]
  },
  {
   "cell_type": "code",
   "execution_count": 37,
   "id": "a51c0e66",
   "metadata": {
    "ExecuteTime": {
     "end_time": "2024-11-05T02:02:41.115319Z",
     "start_time": "2024-11-05T02:02:41.099695Z"
    }
   },
   "outputs": [
    {
     "name": "stdout",
     "output_type": "stream",
     "text": [
      "012345\n",
      "56789\n"
     ]
    }
   ],
   "source": [
    "print(str_[:6]) # 처음부터 6번째 앞까지\n",
    "print(str_[5:])  # 5번째부터 끝까지"
   ]
  },
  {
   "cell_type": "code",
   "execution_count": 38,
   "id": "084743dd",
   "metadata": {
    "ExecuteTime": {
     "end_time": "2024-11-05T02:03:29.324541Z",
     "start_time": "2024-11-05T02:03:29.319553Z"
    }
   },
   "outputs": [
    {
     "name": "stdout",
     "output_type": "stream",
     "text": [
      "987654321\n"
     ]
    }
   ],
   "source": [
    "print(str_[9:0:-1]) # 9번째부터 0번째 전까지 -1씩 전진"
   ]
  },
  {
   "cell_type": "code",
   "execution_count": 42,
   "id": "bb6b127b",
   "metadata": {
    "ExecuteTime": {
     "end_time": "2024-11-05T02:06:28.460534Z",
     "start_time": "2024-11-05T02:06:28.454545Z"
    }
   },
   "outputs": [
    {
     "name": "stdout",
     "output_type": "stream",
     "text": [
      "9876543210\n",
      "9876543210\n",
      "9876543210\n",
      "\n"
     ]
    }
   ],
   "source": [
    "# 마지막부터 처음까지 거꾸로 출력\n",
    "print(str_[9::-1])\n",
    "print(str_[::-1])\n",
    "print(str_[-1::-1])"
   ]
  },
  {
   "cell_type": "markdown",
   "id": "5c84051b",
   "metadata": {},
   "source": [
    "## 3.3 논리형(True, False)"
   ]
  },
  {
   "cell_type": "code",
   "execution_count": 45,
   "id": "7d062108",
   "metadata": {
    "ExecuteTime": {
     "end_time": "2024-11-05T02:15:20.222943Z",
     "start_time": "2024-11-05T02:15:20.217958Z"
    }
   },
   "outputs": [
    {
     "name": "stdout",
     "output_type": "stream",
     "text": [
      "True\n",
      "<class 'bool'>\n",
      "True\n"
     ]
    }
   ],
   "source": [
    "a = True\n",
    "print(a)\n",
    "print(type(a)) # 타입\n",
    "print(isinstance(a, bool)) # bool타입인지 여부"
   ]
  },
  {
   "cell_type": "code",
   "execution_count": 46,
   "id": "38232cfc",
   "metadata": {
    "ExecuteTime": {
     "end_time": "2024-11-05T02:15:44.789067Z",
     "start_time": "2024-11-05T02:15:44.784079Z"
    }
   },
   "outputs": [
    {
     "data": {
      "text/plain": [
       "(1, 0)"
      ]
     },
     "execution_count": 46,
     "metadata": {},
     "output_type": "execute_result"
    }
   ],
   "source": [
    "int(True), int(False)"
   ]
  },
  {
   "cell_type": "code",
   "execution_count": null,
   "id": "c0a97832",
   "metadata": {},
   "outputs": [],
   "source": [
    "# False로 간주되는 것: 0, ''-빈스트링, None, []-빈리스트, ()-빈튜플, {}-빈딕셔너리"
   ]
  },
  {
   "cell_type": "code",
   "execution_count": 52,
   "id": "ac7b91c2",
   "metadata": {
    "ExecuteTime": {
     "end_time": "2024-11-05T02:20:41.062590Z",
     "start_time": "2024-11-05T02:20:41.056599Z"
    }
   },
   "outputs": [
    {
     "name": "stdout",
     "output_type": "stream",
     "text": [
      "False다\n"
     ]
    }
   ],
   "source": [
    "if '':\n",
    "    print('True다')\n",
    "else:\n",
    "    print('False다')"
   ]
  },
  {
   "cell_type": "markdown",
   "id": "cd413587",
   "metadata": {},
   "source": [
    "## 3.4 자료형 확인 및 형변환 함수\n",
    "    - type()\n",
    "    - int():   정수형 변환\n",
    "    - float(): 실수형 변환\n",
    "    - str():   문자형 변환\n",
    "    - bool():  논리형 변환"
   ]
  },
  {
   "cell_type": "code",
   "execution_count": 59,
   "id": "a4b89737",
   "metadata": {
    "ExecuteTime": {
     "end_time": "2024-11-05T02:41:36.247943Z",
     "start_time": "2024-11-05T02:41:36.240961Z"
    }
   },
   "outputs": [
    {
     "data": {
      "text/plain": [
       "(123, 1, 0, 123)"
      ]
     },
     "execution_count": 59,
     "metadata": {},
     "output_type": "execute_result"
    }
   ],
   "source": [
    "int('123'), int(True), int(False), int(123.45) # 내림"
   ]
  },
  {
   "cell_type": "code",
   "execution_count": 56,
   "id": "94e5cf72",
   "metadata": {
    "ExecuteTime": {
     "end_time": "2024-11-05T02:39:41.491913Z",
     "start_time": "2024-11-05T02:39:41.472692Z"
    },
    "collapsed": true
   },
   "outputs": [
    {
     "ename": "ValueError",
     "evalue": "invalid literal for int() with base 10: ''",
     "output_type": "error",
     "traceback": [
      "\u001b[1;31m---------------------------------------------------------------------------\u001b[0m",
      "\u001b[1;31mValueError\u001b[0m                                Traceback (most recent call last)",
      "Cell \u001b[1;32mIn[56], line 1\u001b[0m\n\u001b[1;32m----> 1\u001b[0m \u001b[38;5;28;43mint\u001b[39;49m\u001b[43m(\u001b[49m\u001b[38;5;124;43m'\u001b[39;49m\u001b[38;5;124;43m'\u001b[39;49m\u001b[43m)\u001b[49m, \u001b[38;5;28mint\u001b[39m(\u001b[38;5;124m'\u001b[39m\u001b[38;5;124m \u001b[39m\u001b[38;5;124m'\u001b[39m), \u001b[38;5;28mint\u001b[39m(\u001b[38;5;28;01mNone\u001b[39;00m), \u001b[38;5;28mint\u001b[39m(\u001b[38;5;124m'\u001b[39m\u001b[38;5;124m123.45\u001b[39m\u001b[38;5;124m'\u001b[39m), \u001b[38;5;28mint\u001b[39m(\u001b[38;5;124m'\u001b[39m\u001b[38;5;124m1,456\u001b[39m\u001b[38;5;124m'\u001b[39m)\n",
      "\u001b[1;31mValueError\u001b[0m: invalid literal for int() with base 10: ''"
     ]
    }
   ],
   "source": [
    "# Error\n",
    "int(''), int(' '), int(None), int('123.45'), int('1,456') "
   ]
  },
  {
   "cell_type": "code",
   "execution_count": 62,
   "id": "095e6c4e",
   "metadata": {
    "ExecuteTime": {
     "end_time": "2024-11-05T02:42:30.014335Z",
     "start_time": "2024-11-05T02:42:30.007335Z"
    }
   },
   "outputs": [
    {
     "data": {
      "text/plain": [
       "(123.45, 123.0, 0.0, 1.0)"
      ]
     },
     "execution_count": 62,
     "metadata": {},
     "output_type": "execute_result"
    }
   ],
   "source": [
    "float('123.45'), float(123), float(False), float(True), float('123')"
   ]
  },
  {
   "cell_type": "code",
   "execution_count": 64,
   "id": "7a6a0f11",
   "metadata": {
    "ExecuteTime": {
     "end_time": "2024-11-05T02:43:18.099970Z",
     "start_time": "2024-11-05T02:43:18.079569Z"
    },
    "collapsed": true
   },
   "outputs": [
    {
     "ename": "ValueError",
     "evalue": "could not convert string to float: ''",
     "output_type": "error",
     "traceback": [
      "\u001b[1;31m---------------------------------------------------------------------------\u001b[0m",
      "\u001b[1;31mValueError\u001b[0m                                Traceback (most recent call last)",
      "Cell \u001b[1;32mIn[64], line 1\u001b[0m\n\u001b[1;32m----> 1\u001b[0m \u001b[38;5;28;43mfloat\u001b[39;49m\u001b[43m(\u001b[49m\u001b[38;5;124;43m'\u001b[39;49m\u001b[38;5;124;43m'\u001b[39;49m\u001b[43m)\u001b[49m, \u001b[38;5;28mfloat\u001b[39m(\u001b[38;5;124m'\u001b[39m\u001b[38;5;124m \u001b[39m\u001b[38;5;124m'\u001b[39m), \u001b[38;5;28mfloat\u001b[39m(\u001b[38;5;28;01mNone\u001b[39;00m), \u001b[38;5;28mfloat\u001b[39m(\u001b[38;5;124m'\u001b[39m\u001b[38;5;124m1,123\u001b[39m\u001b[38;5;124m'\u001b[39m)\n",
      "\u001b[1;31mValueError\u001b[0m: could not convert string to float: ''"
     ]
    }
   ],
   "source": [
    "# Error\n",
    "float(''), float(' '), float(None), float('1,123')"
   ]
  },
  {
   "cell_type": "code",
   "execution_count": 65,
   "id": "a9f5b908",
   "metadata": {
    "ExecuteTime": {
     "end_time": "2024-11-05T02:44:30.814300Z",
     "start_time": "2024-11-05T02:44:30.807586Z"
    }
   },
   "outputs": [
    {
     "data": {
      "text/plain": [
       "('10', '10.9', '11200000000.0')"
      ]
     },
     "execution_count": 65,
     "metadata": {},
     "output_type": "execute_result"
    }
   ],
   "source": [
    "str(10), str(10.9), str(1.12e10)"
   ]
  },
  {
   "cell_type": "markdown",
   "id": "8fbf8c66",
   "metadata": {},
   "source": [
    "파이썬 기본 자료형(정리)\n",
    "\n",
    "    1. 숫자 - int, float, complex\n",
    "    2. 문자 - str, 문자슬라이싱, raw데이터처리시 이스케이프문자(\\n, \\', \\t, ...), 를 그대로 저장\n",
    "    3. 논리 - False로 판별되는 경우 0, '', None, [], (), {}"
   ]
  }
 ],
 "metadata": {
  "kernelspec": {
   "display_name": "Python 3 (ipykernel)",
   "language": "python",
   "name": "python3"
  },
  "language_info": {
   "codemirror_mode": {
    "name": "ipython",
    "version": 3
   },
   "file_extension": ".py",
   "mimetype": "text/x-python",
   "name": "python",
   "nbconvert_exporter": "python",
   "pygments_lexer": "ipython3",
   "version": "3.10.9"
  },
  "toc": {
   "base_numbering": 1,
   "nav_menu": {},
   "number_sections": true,
   "sideBar": true,
   "skip_h1_title": false,
   "title_cell": "Table of Contents",
   "title_sidebar": "Contents",
   "toc_cell": false,
   "toc_position": {
    "height": "calc(100% - 180px)",
    "left": "10px",
    "top": "150px",
    "width": "308px"
   },
   "toc_section_display": true,
   "toc_window_display": true
  }
 },
 "nbformat": 4,
 "nbformat_minor": 5
}
