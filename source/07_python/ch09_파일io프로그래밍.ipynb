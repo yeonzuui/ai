{
 "cells": [
  {
   "cell_type": "markdown",
   "id": "78872ac1",
   "metadata": {},
   "source": [
    "<b><font size=\"6\" color=\"red\">ch09. 파일 i/o 프로그래밍</font><b>"
   ]
  },
  {
   "cell_type": "markdown",
   "id": "62a9dbb8",
   "metadata": {},
   "source": [
    "# 1절. 파일에 데이터 저장하고 불러오기"
   ]
  },
  {
   "cell_type": "code",
   "execution_count": 3,
   "id": "b2f6d825",
   "metadata": {
    "ExecuteTime": {
     "end_time": "2024-11-18T02:54:37.390073Z",
     "start_time": "2024-11-18T02:54:37.384088Z"
    }
   },
   "outputs": [
    {
     "name": "stdout",
     "output_type": "stream",
     "text": [
      "True\n"
     ]
    }
   ],
   "source": [
    "# 'r' or 'rt'        (default) 기존 파일 있으면 읽기, 파일 없으면 예외 발생 \n",
    "# 'w' or 'wt'        기존 파일 있으면 덮어쓰기, 파일 없으면 생성하여 쓰기\n",
    "# 'a' or 'at'        기존 파일 있으면 append, 파일 없으면 생성하여 쓰기\n",
    "#                    쓰기 모드는 폴더가 없는 경우 예외 발생\n",
    "f = open('data/ch09_sample.txt', 'w')\n",
    "print(f.writable()) # write 가능 여부"
   ]
  },
  {
   "cell_type": "code",
   "execution_count": 5,
   "id": "a9c9030f",
   "metadata": {
    "ExecuteTime": {
     "end_time": "2024-11-18T02:55:46.612641Z",
     "start_time": "2024-11-18T02:55:46.607654Z"
    }
   },
   "outputs": [],
   "source": [
    "f.write('Hello\\nWorld\\nHello\\nPython\\n') # 한글을 write하면 CP949로 저장(win)\n",
    "f.close() # write 시 close해야 반영"
   ]
  },
  {
   "cell_type": "code",
   "execution_count": 6,
   "id": "d0f3aefc",
   "metadata": {
    "ExecuteTime": {
     "end_time": "2024-11-18T02:59:53.294079Z",
     "start_time": "2024-11-18T02:59:53.288096Z"
    }
   },
   "outputs": [
    {
     "name": "stdout",
     "output_type": "stream",
     "text": [
      "write 가능 여부: True\n"
     ]
    }
   ],
   "source": [
    "# with구문을 사용하면 매번 close하는 코드 불필요\n",
    "with open('data/ch09_sample.txt', 'wt') as f: # wt(덮어쓰기)\n",
    "    print('write 가능 여부:', f.writable())\n",
    "    f.write('Python is easy.\\nPython is smart.\\n')"
   ]
  },
  {
   "cell_type": "code",
   "execution_count": 8,
   "id": "792361b9",
   "metadata": {
    "ExecuteTime": {
     "end_time": "2024-11-18T03:02:14.197947Z",
     "start_time": "2024-11-18T03:02:14.190788Z"
    }
   },
   "outputs": [
    {
     "name": "stdout",
     "output_type": "stream",
     "text": [
      "프린트 함수로 파일 쓰기가 가능합니다-콘솔 출력\n"
     ]
    }
   ],
   "source": [
    "with open('data/ch09_sample.txt', 'at') as f: # at(append)\n",
    "    print('프린트 함수로 파일 쓰기가 가능합니다-콘솔 출력')\n",
    "    print('프린트 함수로 파일 쓰기가 가능합니다-파일 출력', file=f)"
   ]
  },
  {
   "cell_type": "markdown",
   "id": "3fce9ba9",
   "metadata": {},
   "source": [
    "    - euc-kr: 한글완성형 (믜 X)\n",
    "    - cp949 : 확장된 한글완성형 (믜 O) - 엑셀에서 \n",
    "    - utf-8 : 한글조합형(초중종성 따로 조합해서 저장) - 주피터노트북에서 "
   ]
  },
  {
   "cell_type": "code",
   "execution_count": 11,
   "id": "16463eaf",
   "metadata": {
    "ExecuteTime": {
     "end_time": "2024-11-18T03:32:43.693403Z",
     "start_time": "2024-11-18T03:32:43.688871Z"
    }
   },
   "outputs": [],
   "source": [
    "# 인코딩 방식 지정: encoding='',\n",
    "with open('data/ch09_sample.txt', 'w', encoding='utf-8') as f: # utf-8 대소문자 무관\n",
    "    f.write('= 여러 줄의 text를 쓰기 =\\n')\n",
    "    f.write('sol 1. Hello\\nWorld\\n')\n",
    "    textlist = ['홍길동,30,서울\\n', '김길동,20,안양\\n']\n",
    "    f.write('sol 2. \\n')\n",
    "    for line in textlist:\n",
    "        f.write(line)\n",
    "    f.write('sol 3. \\n')\n",
    "    f.writelines(textlist)"
   ]
  },
  {
   "cell_type": "code",
   "execution_count": 12,
   "id": "03be6a4c",
   "metadata": {
    "ExecuteTime": {
     "end_time": "2024-11-18T03:36:07.354052Z",
     "start_time": "2024-11-18T03:36:06.839988Z"
    },
    "collapsed": true
   },
   "outputs": [
    {
     "ename": "UnicodeDecodeError",
     "evalue": "'cp949' codec can't decode byte 0xec in position 2: illegal multibyte sequence",
     "output_type": "error",
     "traceback": [
      "\u001b[1;31m---------------------------------------------------------------------------\u001b[0m",
      "\u001b[1;31mUnicodeDecodeError\u001b[0m                        Traceback (most recent call last)",
      "Cell \u001b[1;32mIn[12], line 3\u001b[0m\n\u001b[0;32m      1\u001b[0m \u001b[38;5;66;03m# 파일을 한 줄 읽고 출력, ... 반복\u001b[39;00m\n\u001b[0;32m      2\u001b[0m \u001b[38;5;28;01mwith\u001b[39;00m \u001b[38;5;28mopen\u001b[39m(\u001b[38;5;124m'\u001b[39m\u001b[38;5;124mdata/ch09_sample.txt\u001b[39m\u001b[38;5;124m'\u001b[39m, \u001b[38;5;124m'\u001b[39m\u001b[38;5;124mr\u001b[39m\u001b[38;5;124m'\u001b[39m) \u001b[38;5;28;01mas\u001b[39;00m f:\n\u001b[1;32m----> 3\u001b[0m     line \u001b[38;5;241m=\u001b[39m \u001b[43mf\u001b[49m\u001b[38;5;241;43m.\u001b[39;49m\u001b[43mreadline\u001b[49m\u001b[43m(\u001b[49m\u001b[43m)\u001b[49m\n",
      "\u001b[1;31mUnicodeDecodeError\u001b[0m: 'cp949' codec can't decode byte 0xec in position 2: illegal multibyte sequence"
     ]
    }
   ],
   "source": [
    "# 파일을 한 줄 읽고 출력, ... 반복\n",
    "with open('data/ch09_sample.txt', 'r') as f:\n",
    "    line = f.readline() # UnicodeDecodeError"
   ]
  },
  {
   "cell_type": "code",
   "execution_count": 14,
   "id": "4fc7d802",
   "metadata": {
    "ExecuteTime": {
     "end_time": "2024-11-18T03:39:07.822529Z",
     "start_time": "2024-11-18T03:39:07.816543Z"
    }
   },
   "outputs": [
    {
     "name": "stdout",
     "output_type": "stream",
     "text": [
      "= 여러 줄의 text를 쓰기 =\n",
      "sol 1. Hello\n",
      "World\n",
      "sol 2. \n",
      "홍길동,30,서울\n",
      "김길동,20,안양\n",
      "sol 3. \n",
      "홍길동,30,서울\n",
      "김길동,20,안양\n"
     ]
    }
   ],
   "source": [
    "with open('data/ch09_sample.txt', 'r', encoding='utf-8') as f: # 인코딩 지정\n",
    "    line = f.readline()\n",
    "    while line != '':\n",
    "        print(line, end='') # 파일에 \\n 포함됨, 중복 개행 제거\n",
    "        line = f.readline()"
   ]
  },
  {
   "cell_type": "code",
   "execution_count": 16,
   "id": "4c797717",
   "metadata": {
    "ExecuteTime": {
     "end_time": "2024-11-18T03:41:59.629674Z",
     "start_time": "2024-11-18T03:41:59.623689Z"
    }
   },
   "outputs": [
    {
     "name": "stdout",
     "output_type": "stream",
     "text": [
      "['= 여러 줄의 text를 쓰기 =\\n', 'sol 1. Hello\\n', 'World\\n', 'sol 2. \\n', '홍길동,30,서울\\n', '김길동,20,안양\\n', 'sol 3. \\n', '홍길동,30,서울\\n', '김길동,20,안양\\n']\n"
     ]
    }
   ],
   "source": [
    "# 파일을 한꺼번에 여러줄 읽어 list를 return\n",
    "with open('data/ch09_sample.txt', 'rt', encoding='utf-8') as f:\n",
    "    lines = f.readlines() # list로 return\n",
    "    print(lines)"
   ]
  },
  {
   "cell_type": "code",
   "execution_count": 18,
   "id": "d24ca2ba",
   "metadata": {
    "ExecuteTime": {
     "end_time": "2024-11-18T03:42:25.156470Z",
     "start_time": "2024-11-18T03:42:25.151461Z"
    }
   },
   "outputs": [
    {
     "name": "stdout",
     "output_type": "stream",
     "text": [
      "= 여러 줄의 text를 쓰기 =\n",
      "sol 1. Hello\n",
      "World\n",
      "sol 2. \n",
      "홍길동,30,서울\n",
      "김길동,20,안양\n",
      "sol 3. \n",
      "홍길동,30,서울\n",
      "김길동,20,안양\n"
     ]
    }
   ],
   "source": [
    "for line in lines:\n",
    "    print(line, end='')"
   ]
  },
  {
   "cell_type": "markdown",
   "id": "84d96f28",
   "metadata": {},
   "source": [
    "# 2절. 피클을 이용한 객체 저장 및 불러오기\n",
    "## 2.1 형식이 있는 텍스트 데이터 불러오기"
   ]
  },
  {
   "cell_type": "code",
   "execution_count": 28,
   "id": "6df548d8",
   "metadata": {
    "ExecuteTime": {
     "end_time": "2024-11-18T03:57:55.977587Z",
     "start_time": "2024-11-18T03:57:55.969472Z"
    }
   },
   "outputs": [
    {
     "name": "stdout",
     "output_type": "stream",
     "text": [
      "이름:홍길동, 나이:20, 메일:kildong@hong.com,\t 주소:서울시 관악구\n",
      "이름:홍길숙, 나이:25, 메일:kilsuk@hong.com,\t 주소:서울시 영등포구\n",
      "이름:신길동, 나이:20, 메일:shinkil@sin.com,\t 주소:서울시 동작구\n"
     ]
    }
   ],
   "source": [
    "with open('data/ch09_member.txt', 'r', encoding='utf-8') as f:\n",
    "    lines = f.readlines()\n",
    "#     print(lines)\n",
    "for line in lines:\n",
    "#     print(line)\n",
    "    data = line.strip().split(', ') # strip(): 앞뒤 white space(문자열 및 공백) 제거\n",
    "    name    = data[0]\n",
    "    age     = int(data[1].strip())\n",
    "    email   = data[2].strip()\n",
    "    address = data[3].strip()\n",
    "    print('이름:{}, 나이:{}, 메일:{},\\t 주소:{}'.format(name, age, email, address))"
   ]
  },
  {
   "cell_type": "code",
   "execution_count": 31,
   "id": "6dc5d907",
   "metadata": {
    "ExecuteTime": {
     "end_time": "2024-11-18T04:03:04.471495Z",
     "start_time": "2024-11-18T04:03:04.464534Z"
    }
   },
   "outputs": [],
   "source": [
    "class Member:\n",
    "    def __init__(self, name, age, email, address):\n",
    "        self.name    = name\n",
    "        self.age     = age\n",
    "        self.email   = email\n",
    "        self.address = address\n",
    "    def __str__(self):\n",
    "        return \"이름:{}, 나이:{}, 메일:{},\\t주소:{}\".format(\\\n",
    "                                                   self.name, self.age, self.email, self.address)\n",
    "    def as_dict(self): # 객체를 딕셔너리로 바꿔 return\n",
    "        return {\n",
    "                'name'   : self.name,\n",
    "                'age'    : self.age,\n",
    "                'email'  : self.email,\n",
    "                'address': self.address\n",
    "               }"
   ]
  },
  {
   "cell_type": "code",
   "execution_count": 33,
   "id": "baaa9140",
   "metadata": {
    "ExecuteTime": {
     "end_time": "2024-11-18T04:03:32.997582Z",
     "start_time": "2024-11-18T04:03:32.992216Z"
    }
   },
   "outputs": [
    {
     "name": "stdout",
     "output_type": "stream",
     "text": [
      "이름:홍길동, 나이:22, 메일:hong@hong.com,\t주소:서울\n",
      "{'name': '홍길동', 'age': 22, 'email': 'hong@hong.com', 'address': '서울'}\n"
     ]
    }
   ],
   "source": [
    "user = Member('홍길동', 22, 'hong@hong.com', '서울')\n",
    "print(user)           # __str__ test\n",
    "print(user.as_dict()) # as_dict test"
   ]
  },
  {
   "cell_type": "code",
   "execution_count": 37,
   "id": "adecd72e",
   "metadata": {
    "ExecuteTime": {
     "end_time": "2024-11-18T04:10:27.695345Z",
     "start_time": "2024-11-18T04:10:27.689355Z"
    }
   },
   "outputs": [],
   "source": [
    "# 파일의 내용을 읽어들여 member list나 딕셔너리 list로 읽기\n",
    "user_list = [] # member list\n",
    "user_dict = [] # 딕셔너리 list\n",
    "with open('data/ch09_member.txt', 'r', encoding='utf-8') as f:\n",
    "    lines = f.readlines()\n",
    "for line in lines:\n",
    "    data = line.strip().split(',')\n",
    "    name    = data[0]\n",
    "    age     = int(data[1].strip())\n",
    "    email   = data[2].strip()\n",
    "    address = data[3].strip()\n",
    "    user = Member(name, age, email, address)\n",
    "    user_list.append(user)\n",
    "    user_dict.append(user.as_dict())"
   ]
  },
  {
   "cell_type": "code",
   "execution_count": 38,
   "id": "7c884a15",
   "metadata": {
    "ExecuteTime": {
     "end_time": "2024-11-18T04:10:50.940833Z",
     "start_time": "2024-11-18T04:10:50.936274Z"
    }
   },
   "outputs": [
    {
     "name": "stdout",
     "output_type": "stream",
     "text": [
      "이름:홍길동, 나이:20, 메일:kildong@hong.com,\t주소:서울시 관악구\n",
      "이름:홍길숙, 나이:25, 메일:kilsuk@hong.com,\t주소:서울시 영등포구\n",
      "이름:신길동, 나이:20, 메일:shinkil@sin.com,\t주소:서울시 동작구\n"
     ]
    }
   ],
   "source": [
    "# user_list (객체 list)\n",
    "for user in user_list:\n",
    "    print(user)"
   ]
  },
  {
   "cell_type": "code",
   "execution_count": 39,
   "id": "0b970448",
   "metadata": {
    "ExecuteTime": {
     "end_time": "2024-11-18T04:11:11.896156Z",
     "start_time": "2024-11-18T04:11:11.889631Z"
    }
   },
   "outputs": [
    {
     "data": {
      "text/plain": [
       "[{'name': '홍길동', 'age': 20, 'email': 'kildong@hong.com', 'address': '서울시 관악구'},\n",
       " {'name': '홍길숙', 'age': 25, 'email': 'kilsuk@hong.com', 'address': '서울시 영등포구'},\n",
       " {'name': '신길동', 'age': 20, 'email': 'shinkil@sin.com', 'address': '서울시 동작구'}]"
      ]
     },
     "execution_count": 39,
     "metadata": {},
     "output_type": "execute_result"
    }
   ],
   "source": [
    "# user_dict (딕셔너리 list)\n",
    "user_dict"
   ]
  },
  {
   "cell_type": "markdown",
   "id": "0c3023dc",
   "metadata": {},
   "source": [
    "## 2.2 피클링"
   ]
  },
  {
   "cell_type": "code",
   "execution_count": 55,
   "id": "72f4ee91",
   "metadata": {
    "ExecuteTime": {
     "end_time": "2024-11-18T05:24:55.337701Z",
     "start_time": "2024-11-18T05:24:55.331153Z"
    }
   },
   "outputs": [],
   "source": [
    "class Member:\n",
    "    def __init__(self, name, age, email, address):\n",
    "        self.name    = name\n",
    "        self.age     = age\n",
    "        self.email   = email\n",
    "        self.address = address\n",
    "    def __str__(self):\n",
    "        return \"이름:{}, 나이:{}, 메일:{},\\t주소:{}\".format(\\\n",
    "                                                   self.name, self.age, self.email, self.address)\n",
    "    def __eq__(self, other):\n",
    "        \"\"\"\n",
    "        user1.__eq__(user2) 호출 시 user1과 user2의 속성변수들이 같은지 여부\n",
    "        \"\"\"\n",
    "        if isinstance(other, Member):\n",
    "            return  self.name    == other.name \\\n",
    "                and self.age     == other.age \\\n",
    "                and self.email   == other.email \\\n",
    "                and self.address == other.address \n",
    "        else:\n",
    "            return False\n",
    "    def as_dict(self): # 객체를 딕셔너리로 바꿔 return\n",
    "        return {\n",
    "                'name'   : self.name,\n",
    "                'age'    : self.age,\n",
    "                'email'  : self.email,\n",
    "                'address': self.address\n",
    "               }\n",
    "    "
   ]
  },
  {
   "cell_type": "code",
   "execution_count": 56,
   "id": "a3541760",
   "metadata": {
    "ExecuteTime": {
     "end_time": "2024-11-18T05:24:55.702359Z",
     "start_time": "2024-11-18T05:24:55.697837Z"
    }
   },
   "outputs": [],
   "source": [
    "user1 = Member(\"홍길동\", 20, 'h@h.com', '서울')\n",
    "user2 = Member(\"홍길동\", 20, 'h@h.com', '서울')"
   ]
  },
  {
   "cell_type": "code",
   "execution_count": 57,
   "id": "0772cc5a",
   "metadata": {
    "ExecuteTime": {
     "end_time": "2024-11-18T05:24:56.102360Z",
     "start_time": "2024-11-18T05:24:56.084574Z"
    }
   },
   "outputs": [],
   "source": [
    "# user1 == user2 # False"
   ]
  },
  {
   "cell_type": "code",
   "execution_count": 58,
   "id": "73a1a209",
   "metadata": {
    "ExecuteTime": {
     "end_time": "2024-11-18T05:24:57.270300Z",
     "start_time": "2024-11-18T05:24:57.266302Z"
    }
   },
   "outputs": [
    {
     "name": "stdout",
     "output_type": "stream",
     "text": [
      "True\n",
      "True\n"
     ]
    }
   ],
   "source": [
    "print(user1.__eq__(user2))\n",
    "print(user1 == user2)"
   ]
  },
  {
   "cell_type": "code",
   "execution_count": 42,
   "id": "5791f2ce",
   "metadata": {
    "ExecuteTime": {
     "end_time": "2024-11-18T05:16:57.590919Z",
     "start_time": "2024-11-18T05:16:57.586920Z"
    }
   },
   "outputs": [
    {
     "name": "stdout",
     "output_type": "stream",
     "text": [
      "이름:홍길동, 나이:20, 메일:h@h.com,\t주소:서울\n"
     ]
    }
   ],
   "source": [
    "print(user1)"
   ]
  },
  {
   "cell_type": "code",
   "execution_count": 59,
   "id": "d602f302",
   "metadata": {
    "ExecuteTime": {
     "end_time": "2024-11-18T05:26:59.295891Z",
     "start_time": "2024-11-18T05:26:59.290919Z"
    }
   },
   "outputs": [],
   "source": [
    "user1 = Member(\"홍길동\", 20, 'h@h.com', '서울')\n",
    "user2 = Member(\"김길동\", 20, 'k@k.com', '인천')\n",
    "user3 = Member(\"신길동\", 20, 's@s.com', '포천')\n",
    "user_list = [user1, user2, user3]"
   ]
  },
  {
   "cell_type": "code",
   "execution_count": 60,
   "id": "934fc7ef",
   "metadata": {
    "ExecuteTime": {
     "end_time": "2024-11-18T05:27:22.030643Z",
     "start_time": "2024-11-18T05:27:22.025657Z"
    }
   },
   "outputs": [
    {
     "name": "stdout",
     "output_type": "stream",
     "text": [
      "이름:홍길동, 나이:20, 메일:h@h.com,\t주소:서울\n",
      "이름:김길동, 나이:20, 메일:k@k.com,\t주소:인천\n",
      "이름:신길동, 나이:20, 메일:s@s.com,\t주소:포천\n"
     ]
    }
   ],
   "source": [
    "for user in user_list:\n",
    "    print(user)"
   ]
  },
  {
   "cell_type": "code",
   "execution_count": 61,
   "id": "921c6acc",
   "metadata": {
    "ExecuteTime": {
     "end_time": "2024-11-18T05:30:03.808960Z",
     "start_time": "2024-11-18T05:30:03.802947Z"
    }
   },
   "outputs": [],
   "source": [
    "# 피클링을 이용한 객체를 파일에 저장하기\n",
    "import pickle \n",
    "# wb: write binary 메모장으로 열기 불가능, 숨기고 싶은 데이터\n",
    "# binary로 저장하기 위해 pickle 사용\n",
    "with open('data/ch09_member.data', 'wb') as f: # 확장자 .data\n",
    "    pickle.dump(user_list, f) # dump?"
   ]
  },
  {
   "cell_type": "code",
   "execution_count": 62,
   "id": "88c83b9b",
   "metadata": {
    "ExecuteTime": {
     "end_time": "2024-11-18T05:31:36.479779Z",
     "start_time": "2024-11-18T05:31:36.475788Z"
    }
   },
   "outputs": [],
   "source": [
    "del user1, user2, user3"
   ]
  },
  {
   "cell_type": "code",
   "execution_count": 63,
   "id": "cf9c7fd7",
   "metadata": {
    "ExecuteTime": {
     "end_time": "2024-11-18T05:33:49.015598Z",
     "start_time": "2024-11-18T05:33:48.999960Z"
    }
   },
   "outputs": [],
   "source": [
    "# 피클링을 이용한 파일에서 객체 데이터 읽기\n",
    "with open('data/ch09_member.data', 'rb') as f:\n",
    "    load_user_list = pickle.load(f)"
   ]
  },
  {
   "cell_type": "code",
   "execution_count": 64,
   "id": "ec3b3383",
   "metadata": {
    "ExecuteTime": {
     "end_time": "2024-11-18T05:34:05.216714Z",
     "start_time": "2024-11-18T05:34:05.201091Z"
    }
   },
   "outputs": [
    {
     "name": "stdout",
     "output_type": "stream",
     "text": [
      "이름:홍길동, 나이:20, 메일:h@h.com,\t주소:서울\n",
      "이름:김길동, 나이:20, 메일:k@k.com,\t주소:인천\n",
      "이름:신길동, 나이:20, 메일:s@s.com,\t주소:포천\n"
     ]
    }
   ],
   "source": [
    "for user in load_user_list:\n",
    "    print(user)"
   ]
  },
  {
   "cell_type": "code",
   "execution_count": 67,
   "id": "6f14c82d",
   "metadata": {
    "ExecuteTime": {
     "end_time": "2024-11-18T05:36:41.695616Z",
     "start_time": "2024-11-18T05:36:41.690327Z"
    }
   },
   "outputs": [
    {
     "name": "stdout",
     "output_type": "stream",
     "text": [
      "[True, True, True]\n"
     ]
    }
   ],
   "source": [
    "# user_list와 Load_user_list의 속성변수들이 모두 같은지 여부\n",
    "result = []\n",
    "for idx in range(len(user_list)):\n",
    "    result.append(user_list[idx] == load_user_list[idx])\n",
    "print(result)"
   ]
  },
  {
   "cell_type": "code",
   "execution_count": 68,
   "id": "1d7b3738",
   "metadata": {
    "ExecuteTime": {
     "end_time": "2024-11-18T05:37:38.128845Z",
     "start_time": "2024-11-18T05:37:38.122861Z"
    }
   },
   "outputs": [
    {
     "data": {
      "text/plain": [
       "True"
      ]
     },
     "execution_count": 68,
     "metadata": {},
     "output_type": "execute_result"
    }
   ],
   "source": [
    "all(result) # 모든 요소들이 True인지 여부"
   ]
  },
  {
   "cell_type": "markdown",
   "id": "5bf425f5",
   "metadata": {},
   "source": [
    "# 3절. csv 형식 파일 읽고 쓰기\n",
    "- CSV 파일의 자료를 리스트 데이터로 읽기   3.1과 3.2\n",
    "- CSV 파일의 자료를 딕셔너리 데이터로 읽기 3.3과 3.4\n",
    "## 3.1 reader"
   ]
  },
  {
   "cell_type": "code",
   "execution_count": 72,
   "id": "e4f8f3bd",
   "metadata": {
    "ExecuteTime": {
     "end_time": "2024-11-18T06:00:45.961832Z",
     "start_time": "2024-11-18T06:00:45.955834Z"
    }
   },
   "outputs": [
    {
     "name": "stdout",
     "output_type": "stream",
     "text": [
      "['홍길동', '20', 'kildong@hong.com', '서울시 관악구']\n",
      "['김길동', '20', 'kildong@kim.com', '서울시 영등포구']\n",
      "['신길동', '20', 'kildong@shin.com', '서울시 동작구']\n"
     ]
    }
   ],
   "source": [
    "# utf-8로 인코딩된 csv파일 읽기\n",
    "import csv\n",
    "with open('data/ch09_member1.csv', 'r', encoding=\"UTF-8\") as f:\n",
    "    reader = csv.reader(f) # reader 파일 닫기면 reading 불가능, 변수 생성 필수\n",
    "    # print(list(reader)) # list() 감싸야 보임\n",
    "    for now in reader:\n",
    "        print(now)"
   ]
  },
  {
   "cell_type": "code",
   "execution_count": 77,
   "id": "e0b1a4bb",
   "metadata": {
    "ExecuteTime": {
     "end_time": "2024-11-18T06:21:49.850280Z",
     "start_time": "2024-11-18T06:21:49.844299Z"
    }
   },
   "outputs": [
    {
     "name": "stdout",
     "output_type": "stream",
     "text": [
      "홍길동 - 20 - kildong@hong.com - 서울시 관악구\n",
      "김길동 - 20 - kildong@kim.com - 서울시 영등포구 - 팀장\n",
      "신길동 - 20 - kildong@shin.com - 서울시 동작구\n"
     ]
    }
   ],
   "source": [
    "# CP949로 인코딩된 csv파일 read\n",
    "with open('data/ch09_member1-cp.csv', 'r', encoding='CP949') as f:\n",
    "    reader = csv.reader(f)\n",
    "    result = list(reader)\n",
    "# print(result)\n",
    "for row in result:\n",
    "    print(' - '.join(row))"
   ]
  },
  {
   "cell_type": "code",
   "execution_count": 78,
   "id": "de6a20ab",
   "metadata": {
    "ExecuteTime": {
     "end_time": "2024-11-18T06:25:46.393008Z",
     "start_time": "2024-11-18T06:25:46.388008Z"
    }
   },
   "outputs": [
    {
     "name": "stdout",
     "output_type": "stream",
     "text": [
      "['홍길동', 20.0, 'kildong@hong.com', '서울시 관악구']\n",
      "['김길동', 20.0, 'kildong@kim.com', '서울시 영등포구']\n",
      "['신길동', 20.0, 'kildong@shin.com', '서울시 동작구']\n"
     ]
    }
   ],
   "source": [
    "# \"\"(따옴표)가 없는 데이터는 numeric으로\n",
    "with open('data/ch09_member1.csv', 'r', encoding='UTF-8') as f:\n",
    "    reader = csv.reader(f, quotechar='\"',\n",
    "                       quoting=csv.QUOTE_NONNUMERIC)\n",
    "    for row in reader:\n",
    "        print(row)\n",
    "    # float로 가져옴"
   ]
  },
  {
   "cell_type": "code",
   "execution_count": 79,
   "id": "9b09ae91",
   "metadata": {
    "ExecuteTime": {
     "end_time": "2024-11-18T06:29:59.323179Z",
     "start_time": "2024-11-18T06:29:59.315670Z"
    }
   },
   "outputs": [
    {
     "name": "stdout",
     "output_type": "stream",
     "text": [
      "파일에서 읽어온 딕셔너리 리스트\n",
      "[{'name': '홍길동', 'age': 20.0, 'email': 'kildong@hong.com', 'address': '서울시 관악구'}, {'name': '김길동', 'age': 20.0, 'email': 'kildong@kim.com', 'address': '서울시 영등포구'}, {'name': '신길동', 'age': 20.0, 'email': 'kildong@shin.com', 'address': '서울시 동작구'}]\n"
     ]
    }
   ],
   "source": [
    "# csv 파일의 내용을 딕셔너리 리스트로 가져오기\n",
    "user_dict = []\n",
    "with open('data/ch09_member1.csv', encoding=\"UTF-8\") as f:\n",
    "    reader = csv.reader(f, quotechar='\"',\n",
    "                       quoting=csv.QUOTE_NONNUMERIC)\n",
    "    for row in reader:\n",
    "        user_dict.append({\n",
    "                             'name'   :row[0],\n",
    "                             'age'    :row[1],\n",
    "                             'email'  :row[2],\n",
    "                             'address':row[3]\n",
    "                         })\n",
    "print('파일에서 읽어온 딕셔너리 리스트')\n",
    "print(user_dict)"
   ]
  },
  {
   "cell_type": "markdown",
   "id": "ea72daf7",
   "metadata": {},
   "source": [
    "## 3.2 writer "
   ]
  },
  {
   "cell_type": "code",
   "execution_count": 80,
   "id": "b1237f79",
   "metadata": {
    "ExecuteTime": {
     "end_time": "2024-11-18T06:35:07.858041Z",
     "start_time": "2024-11-18T06:35:07.852592Z"
    }
   },
   "outputs": [],
   "source": [
    "user_list = [['홍길동', 20, 'hong@hong.com', '서울'],\n",
    "             ['신길동', 30, 'shin@shin.com', '인천'],]"
   ]
  },
  {
   "cell_type": "code",
   "execution_count": 83,
   "id": "b6f49afb",
   "metadata": {
    "ExecuteTime": {
     "end_time": "2024-11-18T06:42:14.345697Z",
     "start_time": "2024-11-18T06:42:14.340690Z"
    }
   },
   "outputs": [],
   "source": [
    "# newline='' 옵션을 빼면 개행이 2번\n",
    "# sol 1\n",
    "try:\n",
    "    with open('data/ch09_member2-write-cp.csv', 'w', newline='') as f:\n",
    "        writer = csv.writer(f) # csv 파일 저장\n",
    "        for user in user_list:\n",
    "            writer.writerow(user)\n",
    "except FileNotFoundError as e:\n",
    "    print(e)"
   ]
  },
  {
   "cell_type": "code",
   "execution_count": 88,
   "id": "dbb9ecf5",
   "metadata": {
    "ExecuteTime": {
     "end_time": "2024-11-18T06:47:54.544517Z",
     "start_time": "2024-11-18T06:47:54.540481Z"
    }
   },
   "outputs": [],
   "source": [
    "with open('data/ch09_member2-write.csv', 'w', encoding='UTF-8', newline='') as f:\n",
    "    writer = csv.writer(f, quoting=csv.QUOTE_NONNUMERIC)\n",
    "    writer.writerows(user_list)"
   ]
  },
  {
   "cell_type": "markdown",
   "id": "3d0de1fe",
   "metadata": {},
   "source": [
    "## 3.3 DictReader\n",
    "- csv 파일의 자료를 딕셔너리 데이터 읽기"
   ]
  },
  {
   "cell_type": "code",
   "execution_count": 90,
   "id": "090c78cc",
   "metadata": {
    "ExecuteTime": {
     "end_time": "2024-11-18T07:25:41.610478Z",
     "start_time": "2024-11-18T07:25:41.604973Z"
    }
   },
   "outputs": [
    {
     "name": "stdout",
     "output_type": "stream",
     "text": [
      "[{'name': '홍길동', 'age': '20', 'email': 'h@h.com', 'address': '서울시 관악구', 'job': None}, {'name': '김길동', 'age': '40', 'email': 'k@k.com', 'address': '서울시 영등포구', 'job': '팀장'}, {'name': '신길동', 'age': '30', 'email': 's@s.com', 'address': '서울시 동작구', 'job': None}]\n"
     ]
    }
   ],
   "source": [
    "# header가 있는 csv 파일을 딕셔너리로 읽기(ch09_member3.csv)\n",
    "with open('data/ch09_member3.csv', 'r', encoding='UTF-8') as f:\n",
    "    dict_reader = csv.DictReader(f)\n",
    "    # print(list(dict_reader))\n",
    "    for row in dict_reader:\n",
    "        if row ['job'] is None:\n",
    "            print(row['name'], row['age'], row['email'], row['address'])\n",
    "        else:\n",
    "            print(row['name'], row['age'], row['email'], row['address'], row['job'])"
   ]
  },
  {
   "cell_type": "code",
   "execution_count": 92,
   "id": "46097d4d",
   "metadata": {
    "ExecuteTime": {
     "end_time": "2024-11-18T07:32:32.331673Z",
     "start_time": "2024-11-18T07:32:32.302060Z"
    }
   },
   "outputs": [
    {
     "data": {
      "text/html": [
       "<div>\n",
       "<style scoped>\n",
       "    .dataframe tbody tr th:only-of-type {\n",
       "        vertical-align: middle;\n",
       "    }\n",
       "\n",
       "    .dataframe tbody tr th {\n",
       "        vertical-align: top;\n",
       "    }\n",
       "\n",
       "    .dataframe thead th {\n",
       "        text-align: right;\n",
       "    }\n",
       "</style>\n",
       "<table border=\"1\" class=\"dataframe\">\n",
       "  <thead>\n",
       "    <tr style=\"text-align: right;\">\n",
       "      <th></th>\n",
       "      <th>name</th>\n",
       "      <th>age</th>\n",
       "      <th>email</th>\n",
       "      <th>address</th>\n",
       "      <th>job</th>\n",
       "    </tr>\n",
       "  </thead>\n",
       "  <tbody>\n",
       "    <tr>\n",
       "      <th>0</th>\n",
       "      <td>홍길동</td>\n",
       "      <td>20</td>\n",
       "      <td>h@h.com</td>\n",
       "      <td>서울시 관악구</td>\n",
       "      <td>NaN</td>\n",
       "    </tr>\n",
       "    <tr>\n",
       "      <th>1</th>\n",
       "      <td>김길동</td>\n",
       "      <td>40</td>\n",
       "      <td>k@k.com</td>\n",
       "      <td>서울시 영등포구</td>\n",
       "      <td>팀장</td>\n",
       "    </tr>\n",
       "    <tr>\n",
       "      <th>2</th>\n",
       "      <td>신길동</td>\n",
       "      <td>30</td>\n",
       "      <td>s@s.com</td>\n",
       "      <td>서울시 동작구</td>\n",
       "      <td>NaN</td>\n",
       "    </tr>\n",
       "  </tbody>\n",
       "</table>\n",
       "</div>"
      ],
      "text/plain": [
       "  name  age    email   address  job\n",
       "0  홍길동   20  h@h.com   서울시 관악구  NaN\n",
       "1  김길동   40  k@k.com  서울시 영등포구   팀장\n",
       "2  신길동   30  s@s.com   서울시 동작구  NaN"
      ]
     },
     "execution_count": 92,
     "metadata": {},
     "output_type": "execute_result"
    }
   ],
   "source": [
    "# cf. csv 파일을 데이터프레임으로\n",
    "import pandas as pd\n",
    "member = pd.read_csv('data/ch09_member3.csv', encoding='UTF-8') # encoding='UTF-8'이 기본\n",
    "member"
   ]
  },
  {
   "cell_type": "code",
   "execution_count": 93,
   "id": "cba0eb37",
   "metadata": {
    "ExecuteTime": {
     "end_time": "2024-11-18T07:33:08.403748Z",
     "start_time": "2024-11-18T07:33:08.397833Z"
    }
   },
   "outputs": [
    {
     "data": {
      "text/plain": [
       "pandas.core.frame.DataFrame"
      ]
     },
     "execution_count": 93,
     "metadata": {},
     "output_type": "execute_result"
    }
   ],
   "source": [
    "type(member)"
   ]
  },
  {
   "cell_type": "code",
   "execution_count": 95,
   "id": "b1fd92c5",
   "metadata": {
    "ExecuteTime": {
     "end_time": "2024-11-18T07:40:52.658806Z",
     "start_time": "2024-11-18T07:40:52.652817Z"
    }
   },
   "outputs": [
    {
     "name": "stdout",
     "output_type": "stream",
     "text": [
      "홍길동 20 kildong@hong.com 서울시 관악구\n",
      "김길동 20 kildong@kim.com 서울시 영등포구\n",
      "신길동 20 kildong@shin.com 서울시 동작구\n"
     ]
    }
   ],
   "source": [
    "# header가 없는 csv 파일으르 딕셔너리로 읽기(ch09_member-cp.csv)\n",
    "with open('data/ch09_member1-cp.csv', 'r', encoding='cp949') as f:\n",
    "    dict_reader = csv.DictReader(f, fieldnames=['Name', 'Age', 'Email', 'Address'])\n",
    "    for row in dict_reader:\n",
    "        # print(row)\n",
    "        print(row['Name'], row['Age'], row['Email'], row['Address'])"
   ]
  },
  {
   "cell_type": "code",
   "execution_count": null,
   "id": "52c3b771",
   "metadata": {},
   "outputs": [],
   "source": [
    "# header가 없는 csv 파일으르 딕셔너리로 읽기(ch09_member-cp.csv)\n",
    "with open('data/ch09_member1-cp.csv', 'r', encoding='cp949') as f:\n",
    "    dict_reader = csv.DictReader(f, fieldnames=['Name', 'Age', 'Email', 'Address', 'Job'])\n",
    "    for row in dict_reader:\n",
    "        # print(row)\n",
    "        print(row['Name'], row['Age'], row['Email'], row['Address'], row['Job'])"
   ]
  },
  {
   "cell_type": "code",
   "execution_count": 101,
   "id": "e9416192",
   "metadata": {
    "ExecuteTime": {
     "end_time": "2024-11-18T07:48:00.548566Z",
     "start_time": "2024-11-18T07:48:00.541034Z"
    }
   },
   "outputs": [
    {
     "name": "stdout",
     "output_type": "stream",
     "text": [
      "홍길동 20 kildong@hong.com 서울시 관악구\n",
      "김길동 20 kildong@kim.com 서울시 영등포구 팀장\n",
      "신길동 20 kildong@shin.com 서울시 동작구\n"
     ]
    }
   ],
   "source": [
    "# header가 없는 csv 파일으르 딕셔너리로 읽기(ch09_member-cp.csv)\n",
    "with open('data/ch09_member1-cp.csv', 'r', encoding='cp949') as f:\n",
    "    dict_reader = csv.DictReader(f, fieldnames=['Name', 'Age', 'Email', 'Address'],\n",
    "                                    restkey='Job')\n",
    "    for row in dict_reader:\n",
    "        # print(row)\n",
    "        if row['Job'][0] == '':\n",
    "            print(row['Name'], row['Age'], row['Email'], row['Address'])\n",
    "        else:\n",
    "            print(row['Name'], row['Age'], row['Email'], row['Address'], row['Job'][0])"
   ]
  },
  {
   "cell_type": "code",
   "execution_count": 106,
   "id": "b06bad39",
   "metadata": {
    "ExecuteTime": {
     "end_time": "2024-11-18T08:01:59.470804Z",
     "start_time": "2024-11-18T08:01:59.447122Z"
    }
   },
   "outputs": [
    {
     "data": {
      "text/plain": [
       "[{'name': '홍길동',\n",
       "  'age': '20',\n",
       "  'email': 'kildong@hong.com',\n",
       "  'address': '서울시 관악구',\n",
       "  'job': ''},\n",
       " {'name': '김길동',\n",
       "  'age': '20',\n",
       "  'email': 'kildong@kim.com',\n",
       "  'address': '서울시 영등포구',\n",
       "  'job': '팀장'},\n",
       " {'name': '신길동',\n",
       "  'age': '20',\n",
       "  'email': 'kildong@shin.com',\n",
       "  'address': '서울시 동작구',\n",
       "  'job': ''}]"
      ]
     },
     "execution_count": 106,
     "metadata": {},
     "output_type": "execute_result"
    }
   ],
   "source": [
    "# ch09_member1-cp.csv의 내용을 딕셔너리 list로 받아보세요\n",
    "userlist = [] # 딕셔너리 list\n",
    "# 파일의 내용을 userlist에 담기\n",
    "with open('data/ch09_member1-cp.csv', 'r', encoding='CP949') as f:\n",
    "    dict_reader = csv.DictReader(f, fieldnames=['name','age','email','address','job'])\n",
    "    for row in dict_reader:\n",
    "        userlist.append(row)\n",
    "userlist"
   ]
  },
  {
   "cell_type": "markdown",
   "id": "bc0078f5",
   "metadata": {},
   "source": [
    "## 3.4 Dictwriter\n",
    "- 딕셔너리 리스트를 csv파일로 쓰기"
   ]
  },
  {
   "cell_type": "code",
   "execution_count": 109,
   "id": "d4af5406",
   "metadata": {
    "ExecuteTime": {
     "end_time": "2024-11-18T08:23:22.427879Z",
     "start_time": "2024-11-18T08:23:22.421896Z"
    }
   },
   "outputs": [
    {
     "name": "stdout",
     "output_type": "stream",
     "text": [
      "['name', 'age', 'email', 'address']\n"
     ]
    }
   ],
   "source": [
    "user1 = {'name': '홍길동','age': '20','email': 'h@hong.com','address': '서울'}\n",
    "user2 = {'name': '신길동','age': '25','email': 's@hong.com','address': '부산'}\n",
    "user3 = {'name': '김길동','age': '35','email': 'k@hong.com','address': '인천'}\n",
    "user_list = [user1, user2, user3]\n",
    "fieldnames = list(user1.keys())\n",
    "print(fieldnames)"
   ]
  },
  {
   "cell_type": "markdown",
   "id": "3893c2f9",
   "metadata": {},
   "source": [
    "``` csv 파일 내용\n",
    "name,age,mail,address\n",
    "홍길동,20,h@hong.com,서울\n",
    "```"
   ]
  },
  {
   "cell_type": "code",
   "execution_count": 140,
   "id": "71a36f9d",
   "metadata": {
    "ExecuteTime": {
     "end_time": "2024-11-18T08:38:53.731053Z",
     "start_time": "2024-11-18T08:38:53.727056Z"
    }
   },
   "outputs": [],
   "source": [
    "with open('data/ch09_member4.csv', 'a', encoding='UTF-8', newline='') as f:\n",
    "    dict_writer = csv.DictWriter(f, fieldnames=fieldnames)\n",
    "#     dict_writer.writeheader() # header 한 줄 쓰기\n",
    "#     for user in user_list:\n",
    "#         dict_writer.writerow(user)\n",
    "    dict_writer.writerows(user_list)"
   ]
  },
  {
   "cell_type": "markdown",
   "id": "96ca9be9",
   "metadata": {
    "ExecuteTime": {
     "end_time": "2024-11-18T08:32:21.516644Z",
     "start_time": "2024-11-18T08:32:21.478635Z"
    }
   },
   "source": [
    "# 4절. JSON 파일에 저장하고 불러오기(dump, load)\n",
    "## 4.1 JSON dump(파일에 저장)"
   ]
  },
  {
   "cell_type": "code",
   "execution_count": null,
   "id": "3288368d",
   "metadata": {},
   "outputs": [],
   "source": []
  },
  {
   "cell_type": "code",
   "execution_count": null,
   "id": "a995bb01",
   "metadata": {},
   "outputs": [],
   "source": []
  },
  {
   "cell_type": "code",
   "execution_count": null,
   "id": "79ac4f08",
   "metadata": {},
   "outputs": [],
   "source": []
  },
  {
   "cell_type": "code",
   "execution_count": null,
   "id": "04572940",
   "metadata": {},
   "outputs": [],
   "source": []
  },
  {
   "cell_type": "code",
   "execution_count": null,
   "id": "f8ee8b39",
   "metadata": {},
   "outputs": [],
   "source": []
  },
  {
   "cell_type": "code",
   "execution_count": null,
   "id": "72c444ae",
   "metadata": {},
   "outputs": [],
   "source": []
  },
  {
   "cell_type": "code",
   "execution_count": null,
   "id": "caa22c8c",
   "metadata": {},
   "outputs": [],
   "source": []
  },
  {
   "cell_type": "code",
   "execution_count": null,
   "id": "72466672",
   "metadata": {},
   "outputs": [],
   "source": []
  },
  {
   "cell_type": "code",
   "execution_count": null,
   "id": "926f03a9",
   "metadata": {},
   "outputs": [],
   "source": []
  },
  {
   "cell_type": "code",
   "execution_count": null,
   "id": "22e719c0",
   "metadata": {},
   "outputs": [],
   "source": []
  },
  {
   "cell_type": "code",
   "execution_count": null,
   "id": "712e270e",
   "metadata": {},
   "outputs": [],
   "source": []
  },
  {
   "cell_type": "code",
   "execution_count": null,
   "id": "8108be42",
   "metadata": {},
   "outputs": [],
   "source": []
  },
  {
   "cell_type": "code",
   "execution_count": null,
   "id": "ab1eb2f2",
   "metadata": {},
   "outputs": [],
   "source": []
  }
 ],
 "metadata": {
  "kernelspec": {
   "display_name": "Python 3 (ipykernel)",
   "language": "python",
   "name": "python3"
  },
  "language_info": {
   "codemirror_mode": {
    "name": "ipython",
    "version": 3
   },
   "file_extension": ".py",
   "mimetype": "text/x-python",
   "name": "python",
   "nbconvert_exporter": "python",
   "pygments_lexer": "ipython3",
   "version": "3.10.9"
  },
  "toc": {
   "base_numbering": 1,
   "nav_menu": {},
   "number_sections": true,
   "sideBar": true,
   "skip_h1_title": false,
   "title_cell": "Table of Contents",
   "title_sidebar": "Contents",
   "toc_cell": false,
   "toc_position": {
    "height": "calc(100% - 180px)",
    "left": "10px",
    "top": "150px",
    "width": "165px"
   },
   "toc_section_display": true,
   "toc_window_display": true
  }
 },
 "nbformat": 4,
 "nbformat_minor": 5
}
