{
 "cells": [
  {
   "cell_type": "markdown",
   "id": "abfd8835",
   "metadata": {},
   "source": [
    "<b><font color=\"red\" size=\"6\">ch05. 함수</font></b>\n",
    "- 반복해서 사용할 코드를 묶어놓고, 그것에 이름을 붙인 것.\n",
    "- overroading 불가\n",
    "- 함수의 정의\n",
    "```\n",
    "def 함수명([매개변수1, 매개변수2, ...]):\n",
    "    명령어1\n",
    "    명령어2\n",
    "```"
   ]
  },
  {
   "cell_type": "markdown",
   "id": "f8e633c1",
   "metadata": {},
   "source": [
    "# 1절. 함수의 정의 및 사용"
   ]
  },
  {
   "cell_type": "markdown",
   "id": "500e269a",
   "metadata": {},
   "source": [
    "## 1.1 함수 정의하기"
   ]
  },
  {
   "cell_type": "code",
   "execution_count": 9,
   "id": "2a92c9b5",
   "metadata": {
    "ExecuteTime": {
     "end_time": "2024-11-08T03:32:47.449141Z",
     "start_time": "2024-11-08T03:32:47.443897Z"
    }
   },
   "outputs": [],
   "source": [
    "# 함수 정의\n",
    "# x와 msg는 매개변수(parameter)\n",
    "def my_hello(x, msg): \n",
    "    for i in range(x): # x번 반복\n",
    "        print(i, msg)"
   ]
  },
  {
   "cell_type": "code",
   "execution_count": 4,
   "id": "c9fa7776",
   "metadata": {
    "ExecuteTime": {
     "end_time": "2024-11-08T03:14:32.002450Z",
     "start_time": "2024-11-08T03:14:31.995457Z"
    }
   },
   "outputs": [
    {
     "name": "stdout",
     "output_type": "stream",
     "text": [
      "0 Hello, python\n",
      "1 Hello, python\n",
      "2 Hello, python\n",
      "3 Hello, python\n",
      "4 Hello, python\n"
     ]
    }
   ],
   "source": [
    "# 함수 호출\n",
    "#  5, 'Hello, python'은 인자(argument)\n",
    "my_hello(5, 'Hello, python')"
   ]
  },
  {
   "cell_type": "code",
   "execution_count": 5,
   "id": "4538dfb7",
   "metadata": {
    "ExecuteTime": {
     "end_time": "2024-11-08T03:15:08.420617Z",
     "start_time": "2024-11-08T03:15:08.411641Z"
    }
   },
   "outputs": [
    {
     "data": {
      "text/plain": [
       "function"
      ]
     },
     "execution_count": 5,
     "metadata": {},
     "output_type": "execute_result"
    }
   ],
   "source": [
    "# 함수도 변수\n",
    "type(my_hello)"
   ]
  },
  {
   "cell_type": "code",
   "execution_count": 6,
   "id": "d5a8e224",
   "metadata": {
    "ExecuteTime": {
     "end_time": "2024-11-08T03:16:30.065744Z",
     "start_time": "2024-11-08T03:16:30.060116Z"
    }
   },
   "outputs": [
    {
     "data": {
      "text/plain": [
       "int"
      ]
     },
     "execution_count": 6,
     "metadata": {},
     "output_type": "execute_result"
    }
   ],
   "source": [
    "my_hello = 10 \n",
    "type(my_hello)"
   ]
  },
  {
   "cell_type": "code",
   "execution_count": 7,
   "id": "d840333e",
   "metadata": {
    "ExecuteTime": {
     "end_time": "2024-11-08T03:16:52.182715Z",
     "start_time": "2024-11-08T03:16:52.154718Z"
    },
    "collapsed": true
   },
   "outputs": [
    {
     "ename": "TypeError",
     "evalue": "'int' object is not callable",
     "output_type": "error",
     "traceback": [
      "\u001b[1;31m---------------------------------------------------------------------------\u001b[0m",
      "\u001b[1;31mTypeError\u001b[0m                                 Traceback (most recent call last)",
      "Cell \u001b[1;32mIn[7], line 1\u001b[0m\n\u001b[1;32m----> 1\u001b[0m \u001b[43mmy_hello\u001b[49m\u001b[43m(\u001b[49m\u001b[38;5;241;43m5\u001b[39;49m\u001b[43m,\u001b[49m\u001b[43m \u001b[49m\u001b[38;5;124;43m'\u001b[39;49m\u001b[38;5;124;43mHello, python\u001b[39;49m\u001b[38;5;124;43m'\u001b[39;49m\u001b[43m)\u001b[49m\n",
      "\u001b[1;31mTypeError\u001b[0m: 'int' object is not callable"
     ]
    }
   ],
   "source": [
    "my_hello(5, 'Hello, python') # Error"
   ]
  },
  {
   "cell_type": "code",
   "execution_count": null,
   "id": "3d29fe06",
   "metadata": {},
   "outputs": [],
   "source": [
    "del my_hello\n",
    "# 변수는 삭제해도 함수는 사용불가(파이썬 내장함수만 사용 가능)"
   ]
  },
  {
   "cell_type": "code",
   "execution_count": 8,
   "id": "e5a8967d",
   "metadata": {
    "ExecuteTime": {
     "end_time": "2024-11-08T03:22:37.255237Z",
     "start_time": "2024-11-08T03:22:37.235194Z"
    }
   },
   "outputs": [
    {
     "ename": "TypeError",
     "evalue": "'int' object is not callable",
     "output_type": "error",
     "traceback": [
      "\u001b[1;31m---------------------------------------------------------------------------\u001b[0m",
      "\u001b[1;31mTypeError\u001b[0m                                 Traceback (most recent call last)",
      "Cell \u001b[1;32mIn[8], line 1\u001b[0m\n\u001b[1;32m----> 1\u001b[0m \u001b[43mmy_hello\u001b[49m\u001b[43m(\u001b[49m\u001b[38;5;241;43m2\u001b[39;49m\u001b[43m,\u001b[49m\u001b[43m \u001b[49m\u001b[38;5;124;43m'\u001b[39;49m\u001b[38;5;124;43mmsg\u001b[39;49m\u001b[38;5;124;43m'\u001b[39;49m\u001b[43m)\u001b[49m\n",
      "\u001b[1;31mTypeError\u001b[0m: 'int' object is not callable"
     ]
    }
   ],
   "source": [
    "my_hello(2, 'msg')"
   ]
  },
  {
   "cell_type": "code",
   "execution_count": 10,
   "id": "d3e9a9ac",
   "metadata": {
    "ExecuteTime": {
     "end_time": "2024-11-08T03:36:06.784248Z",
     "start_time": "2024-11-08T03:36:06.779262Z"
    }
   },
   "outputs": [],
   "source": [
    "def my_hello():\n",
    "    print('Hello, Python')\n",
    "    print('Hello, World')"
   ]
  },
  {
   "cell_type": "code",
   "execution_count": 12,
   "id": "9de6ed4d",
   "metadata": {
    "ExecuteTime": {
     "end_time": "2024-11-08T03:36:16.518932Z",
     "start_time": "2024-11-08T03:36:16.514934Z"
    }
   },
   "outputs": [
    {
     "name": "stdout",
     "output_type": "stream",
     "text": [
      "Hello, Python\n",
      "Hello, World\n"
     ]
    }
   ],
   "source": [
    "my_hello()"
   ]
  },
  {
   "cell_type": "code",
   "execution_count": 13,
   "id": "a6f02aad",
   "metadata": {
    "ExecuteTime": {
     "end_time": "2024-11-08T03:36:24.192534Z",
     "start_time": "2024-11-08T03:36:24.187265Z"
    }
   },
   "outputs": [
    {
     "data": {
      "text/plain": [
       "<function __main__.my_hello()>"
      ]
     },
     "execution_count": 13,
     "metadata": {},
     "output_type": "execute_result"
    }
   ],
   "source": [
    "my_hello"
   ]
  },
  {
   "cell_type": "code",
   "execution_count": 16,
   "id": "953578df",
   "metadata": {
    "ExecuteTime": {
     "end_time": "2024-11-08T03:37:42.208866Z",
     "start_time": "2024-11-08T03:37:42.202899Z"
    }
   },
   "outputs": [
    {
     "data": {
      "text/plain": [
       "'__main__'"
      ]
     },
     "execution_count": 16,
     "metadata": {},
     "output_type": "execute_result"
    }
   ],
   "source": [
    "# 현재 모듈의 이름\n",
    "__name__"
   ]
  },
  {
   "cell_type": "code",
   "execution_count": 17,
   "id": "89085a11",
   "metadata": {
    "ExecuteTime": {
     "end_time": "2024-11-08T03:38:58.518390Z",
     "start_time": "2024-11-08T03:38:58.502747Z"
    }
   },
   "outputs": [
    {
     "name": "stdout",
     "output_type": "stream",
     "text": [
      "Hello, Python\n",
      "Hello, World\n"
     ]
    }
   ],
   "source": [
    "if __name__ == '__main__': # 현재 모듈 이름 '__main__'이면\n",
    "    my_hello()             # my_hello() 실행"
   ]
  },
  {
   "cell_type": "code",
   "execution_count": 7,
   "id": "dbf46436",
   "metadata": {
    "ExecuteTime": {
     "end_time": "2024-11-08T04:08:06.684223Z",
     "start_time": "2024-11-08T04:08:06.676558Z"
    }
   },
   "outputs": [
    {
     "name": "stdout",
     "output_type": "stream",
     "text": [
      "__name__= a\n"
     ]
    }
   ],
   "source": [
    "import a # a.py가 해석돼서 메모리에 로드됨"
   ]
  },
  {
   "cell_type": "code",
   "execution_count": 8,
   "id": "f0e2d64c",
   "metadata": {
    "ExecuteTime": {
     "end_time": "2024-11-08T04:08:08.640810Z",
     "start_time": "2024-11-08T04:08:08.636816Z"
    }
   },
   "outputs": [
    {
     "name": "stdout",
     "output_type": "stream",
     "text": [
      "모듈(*.py) 테스트입니다\n",
      "주말 잘 보내세요\n"
     ]
    }
   ],
   "source": [
    "a.test()"
   ]
  },
  {
   "cell_type": "code",
   "execution_count": 4,
   "id": "1f6fa271",
   "metadata": {
    "ExecuteTime": {
     "end_time": "2024-11-08T04:01:13.655138Z",
     "start_time": "2024-11-08T04:01:13.639517Z"
    }
   },
   "outputs": [],
   "source": [
    "# a모듈(a.py) 안의 test만 로드\n",
    "from a import test"
   ]
  },
  {
   "cell_type": "code",
   "execution_count": 5,
   "id": "c8a29343",
   "metadata": {
    "ExecuteTime": {
     "end_time": "2024-11-08T04:01:15.105464Z",
     "start_time": "2024-11-08T04:01:15.100479Z"
    }
   },
   "outputs": [
    {
     "name": "stdout",
     "output_type": "stream",
     "text": [
      "모듈(*.py) 테스트입니다\n",
      "주말 잘 보내세요\n"
     ]
    }
   ],
   "source": [
    "test()"
   ]
  },
  {
   "cell_type": "markdown",
   "id": "f963d432",
   "metadata": {},
   "source": [
    "## 1.2 docstring(\"\"\" \"\"\" or ''' ''')"
   ]
  },
  {
   "cell_type": "code",
   "execution_count": 4,
   "id": "29bee5ab",
   "metadata": {
    "ExecuteTime": {
     "end_time": "2024-11-08T04:05:36.415977Z",
     "start_time": "2024-11-08T04:05:36.411987Z"
    }
   },
   "outputs": [],
   "source": [
    "def my_function():\n",
    "    \"\"\"\n",
    "    함수의 첫 라인에 docstring을 포함할 수 있습니다.\n",
    "    docstring은 함수의 설명서를 달아주는 역할\n",
    "    주석보다 많은 기능을 포함\n",
    "    (함수 호출 시 Shift + Tab으로 doctring을 볼 수 있음)\n",
    "    \"\"\"\n",
    "    pass"
   ]
  },
  {
   "cell_type": "code",
   "execution_count": 6,
   "id": "1ec59f37",
   "metadata": {
    "ExecuteTime": {
     "end_time": "2024-11-08T04:05:47.536413Z",
     "start_time": "2024-11-08T04:05:47.531406Z"
    }
   },
   "outputs": [
    {
     "name": "stdout",
     "output_type": "stream",
     "text": [
      "\n",
      "    함수의 첫 라인에 docstring을 포함할 수 있습니다.\n",
      "    docstring은 함수의 설명서를 달아주는 역할\n",
      "    주석보다 많은 기능을 포함\n",
      "    (함수 호출 시 Shift + Tab으로 doctring을 볼 수 있음)\n",
      "    \n"
     ]
    }
   ],
   "source": [
    "# docstring 보기\n",
    "print(my_function.__doc__)"
   ]
  },
  {
   "cell_type": "code",
   "execution_count": 44,
   "id": "c586eff2",
   "metadata": {
    "ExecuteTime": {
     "end_time": "2024-11-08T06:28:15.768143Z",
     "start_time": "2024-11-08T06:28:15.761529Z"
    }
   },
   "outputs": [],
   "source": [
    "# 피보나치 수열\n",
    "def fibonacci(n):\n",
    "    \"\"\"\n",
    "    매개변수로 들어온 n값 미만의 피보나치 수열을 출력합니다\n",
    "    ex. n = 10: 0, 1, 1, 2, 3, 5, 8   \n",
    "    \"\"\"\n",
    "    a, b = 0, 1\n",
    "    while a < n: # a가 n보다 작을 동안만 반복\n",
    "        print(a, end=' ')\n",
    "        a, b = b, a+b # a에 b를, b에 a+b "
   ]
  },
  {
   "cell_type": "code",
   "execution_count": 9,
   "id": "3a656efa",
   "metadata": {
    "ExecuteTime": {
     "end_time": "2024-11-08T05:15:47.330310Z",
     "start_time": "2024-11-08T05:15:47.325324Z"
    }
   },
   "outputs": [
    {
     "name": "stdout",
     "output_type": "stream",
     "text": [
      "hello\thi\n"
     ]
    }
   ],
   "source": [
    "# print 함수는 \\n이 디폴트\n",
    "# end: 키워드 인수\n",
    "print('hello', end='\\t')\n",
    "print('hi')"
   ]
  },
  {
   "cell_type": "code",
   "execution_count": 12,
   "id": "63d732a0",
   "metadata": {
    "ExecuteTime": {
     "end_time": "2024-11-08T05:19:57.163461Z",
     "start_time": "2024-11-08T05:19:57.147835Z"
    }
   },
   "outputs": [
    {
     "name": "stdout",
     "output_type": "stream",
     "text": [
      "0 1 1 2 3 5 8 13 21 34 55 89 144 233 377 610 987 "
     ]
    }
   ],
   "source": [
    "# n = 1000, a = 987\n",
    "# a가 n보다 작을 때까지만\n",
    "fibonacci(1000)"
   ]
  },
  {
   "cell_type": "markdown",
   "id": "55b01623",
   "metadata": {},
   "source": [
    "## 1.3 지역변수(local var)와 전역변수(global var)\n",
    "- 지역변수: 함수 내에서 만든 변수\n",
    "- 전역변수: 함수 밖에서 만든 변수"
   ]
  },
  {
   "cell_type": "code",
   "execution_count": 13,
   "id": "f4d047d4",
   "metadata": {
    "ExecuteTime": {
     "end_time": "2024-11-08T05:27:30.363777Z",
     "start_time": "2024-11-08T05:27:30.344193Z"
    }
   },
   "outputs": [
    {
     "name": "stdout",
     "output_type": "stream",
     "text": [
      "함수 안: 100\n",
      "함수 밖: 100\n"
     ]
    }
   ],
   "source": [
    "# 전역변수\n",
    "# 어디서든 사용 가능\n",
    "global_var = 100\n",
    "def func1():\n",
    "    print('함수 안:', global_var)\n",
    "func1()\n",
    "print('함수 밖:', global_var)"
   ]
  },
  {
   "cell_type": "code",
   "execution_count": 14,
   "id": "0d36ba31",
   "metadata": {
    "ExecuteTime": {
     "end_time": "2024-11-08T05:29:08.150728Z",
     "start_time": "2024-11-08T05:29:08.118193Z"
    },
    "collapsed": true
   },
   "outputs": [
    {
     "name": "stdout",
     "output_type": "stream",
     "text": [
      "함수 안: 200\n"
     ]
    },
    {
     "ename": "NameError",
     "evalue": "name 'local_var' is not defined",
     "output_type": "error",
     "traceback": [
      "\u001b[1;31m---------------------------------------------------------------------------\u001b[0m",
      "\u001b[1;31mNameError\u001b[0m                                 Traceback (most recent call last)",
      "Cell \u001b[1;32mIn[14], line 7\u001b[0m\n\u001b[0;32m      5\u001b[0m     \u001b[38;5;28mprint\u001b[39m(\u001b[38;5;124m'\u001b[39m\u001b[38;5;124m함수 안:\u001b[39m\u001b[38;5;124m'\u001b[39m, local_var)\n\u001b[0;32m      6\u001b[0m func2()\n\u001b[1;32m----> 7\u001b[0m \u001b[38;5;28mprint\u001b[39m(\u001b[38;5;124m'\u001b[39m\u001b[38;5;124m함수 밖\u001b[39m\u001b[38;5;124m'\u001b[39m, \u001b[43mlocal_var\u001b[49m)\n",
      "\u001b[1;31mNameError\u001b[0m: name 'local_var' is not defined"
     ]
    }
   ],
   "source": [
    "# 지역변수\n",
    "# 함수 내에서만 사용 가능\n",
    "def func2():\n",
    "    local_var = 200\n",
    "    print('함수 안:', local_var)\n",
    "func2()\n",
    "print('함수 밖', local_var) # Error"
   ]
  },
  {
   "cell_type": "code",
   "execution_count": 16,
   "id": "6166c57b",
   "metadata": {
    "ExecuteTime": {
     "end_time": "2024-11-08T05:32:49.778353Z",
     "start_time": "2024-11-08T05:32:49.773355Z"
    }
   },
   "outputs": [
    {
     "name": "stdout",
     "output_type": "stream",
     "text": [
      "지역변수 g_var: 200\n",
      "전역변수 g_var: 100\n"
     ]
    }
   ],
   "source": [
    "g_var = 100 # 전역변수(변수 선언과 할당)\n",
    "def func3():\n",
    "    g_var = 200 # 지역변수(변수 선언과 할당)\n",
    "    print('지역변수 g_var:', g_var)\n",
    "func3()\n",
    "print('전역변수 g_var:', g_var)"
   ]
  },
  {
   "cell_type": "code",
   "execution_count": 21,
   "id": "06e885a4",
   "metadata": {
    "ExecuteTime": {
     "end_time": "2024-11-08T05:41:50.628868Z",
     "start_time": "2024-11-08T05:41:50.622904Z"
    }
   },
   "outputs": [
    {
     "name": "stdout",
     "output_type": "stream",
     "text": [
      "함수 안 g_var: 100\n",
      "함수 밖 g_var: 200\n"
     ]
    }
   ],
   "source": [
    "# 렉시컬(lexical) 특성\n",
    "# 어떤 변수나 함수의 값은 '어디에서 선언했는지' 즉, 렉시컬 환경이 어디인지에 따라서 결정\n",
    "g_var = 100 # 전역변수\n",
    "def func3():\n",
    "    global g_var # func3 함수 내에서의 g_var는 전역변수를 쓴다\n",
    "    print('함수 안 g_var:', g_var)\n",
    "    g_var = 200\n",
    "func3()\n",
    "print('함수 밖 g_var:', g_var)"
   ]
  },
  {
   "cell_type": "markdown",
   "id": "fa77f6dc",
   "metadata": {},
   "source": [
    "## 1.4 값에 의한 호출\n",
    "- 함수에 인수로 전달되는 변수가 스칼라(scalar) 변수(문자, 숫자, 논리형)일 때"
   ]
  },
  {
   "cell_type": "code",
   "execution_count": 22,
   "id": "14a50304",
   "metadata": {
    "ExecuteTime": {
     "end_time": "2024-11-08T05:47:12.688007Z",
     "start_time": "2024-11-08T05:47:12.679012Z"
    }
   },
   "outputs": [
    {
     "data": {
      "text/plain": [
       "1504380151792"
      ]
     },
     "execution_count": 22,
     "metadata": {},
     "output_type": "execute_result"
    }
   ],
   "source": [
    "foo = 'a' # 전역변수\n",
    "id(foo)"
   ]
  },
  {
   "cell_type": "code",
   "execution_count": 39,
   "id": "8c0ad1f1",
   "metadata": {
    "ExecuteTime": {
     "end_time": "2024-11-08T05:53:52.995867Z",
     "start_time": "2024-11-08T05:53:52.989904Z"
    }
   },
   "outputs": [
    {
     "name": "stdout",
     "output_type": "stream",
     "text": [
      "Before: a 의 주소는 1504380151792\n",
      "After: aaa 의 주소는 1504495199024\n"
     ]
    }
   ],
   "source": [
    "def func1(f): # 매개변수는 지역변수(함수 내에서만 유효)\n",
    "    print('Before:', f, '의 주소는', id(f))\n",
    "    f = f * 3 # aaa\n",
    "    print('After:', f, '의 주소는', id(f))\n",
    "    \n",
    "func1(foo) # 함수 호출\n",
    "# 전역변수 foo를 copy한 지역변수 f가 생성됨. \n",
    "# 지역변수 f는 전역변수 foo의 주소를 참조\n",
    "# f의 값이 바뀌면 이전의 f 삭제하고 새로운 f 생성\n",
    "# 새로운 지역변수 f는 참조하는 주소도 바뀜"
   ]
  },
  {
   "cell_type": "code",
   "execution_count": 40,
   "id": "d313fed7",
   "metadata": {
    "ExecuteTime": {
     "end_time": "2024-11-08T05:54:02.522943Z",
     "start_time": "2024-11-08T05:54:02.517976Z"
    }
   },
   "outputs": [
    {
     "name": "stdout",
     "output_type": "stream",
     "text": [
      "foo = a 의 주소는 1504380151792\n"
     ]
    }
   ],
   "source": [
    "# 전역변수 값은 불변\n",
    "print('foo =', foo, '의 주소는', id(foo))"
   ]
  },
  {
   "cell_type": "markdown",
   "id": "4b967a00",
   "metadata": {},
   "source": [
    "## 1.5 참조에 의한 호출\n",
    "- 함수에 인수로 전달되는 변수가 리스트, 튜플, 셋, 딕셔너리, 객체일 경우"
   ]
  },
  {
   "cell_type": "code",
   "execution_count": 41,
   "id": "8c165a48",
   "metadata": {
    "ExecuteTime": {
     "end_time": "2024-11-08T05:57:57.478872Z",
     "start_time": "2024-11-08T05:57:57.463249Z"
    }
   },
   "outputs": [
    {
     "data": {
      "text/plain": [
       "1504494843776"
      ]
     },
     "execution_count": 41,
     "metadata": {},
     "output_type": "execute_result"
    }
   ],
   "source": [
    "L = [1, 2, 3, 4, 5]\n",
    "id(L)"
   ]
  },
  {
   "cell_type": "code",
   "execution_count": 42,
   "id": "38a6f21e",
   "metadata": {
    "ExecuteTime": {
     "end_time": "2024-11-08T05:59:13.851668Z",
     "start_time": "2024-11-08T05:59:13.846099Z"
    }
   },
   "outputs": [
    {
     "name": "stdout",
     "output_type": "stream",
     "text": [
      "Before: [1, 2, 3, 4, 5] 의 주소는 1504494843776\n",
      "After: [1, 2, 3, 4, 5, 6] 의 주소는 1504494843776\n"
     ]
    }
   ],
   "source": [
    "def func2(f): # 매개변수는 지역변수\n",
    "    print('Before:', f, '의 주소는', id(f))\n",
    "    f.append(6)\n",
    "    print('After:', f, '의 주소는', id(f))\n",
    "func2(L) # 함수 호출\n",
    "# 전역변수 L을 copy한 지역변수 f가 생성됨.\n",
    "# 지역변수 f는 전역변수 L의 주소를 참조\n",
    "# f에 append 시, 참조하는 주소는 바뀌지 않으며, 전역변수 L에도 데이터가 append됨"
   ]
  },
  {
   "cell_type": "code",
   "execution_count": 43,
   "id": "5877ff1d",
   "metadata": {
    "ExecuteTime": {
     "end_time": "2024-11-08T06:02:44.540599Z",
     "start_time": "2024-11-08T06:02:44.535612Z"
    }
   },
   "outputs": [
    {
     "name": "stdout",
     "output_type": "stream",
     "text": [
      "L= [1, 2, 3, 4, 5, 6] 의 주소는 1504494843776\n"
     ]
    }
   ],
   "source": [
    "print('L=', L, '의 주소는', id(L))"
   ]
  },
  {
   "cell_type": "markdown",
   "id": "93e9586f",
   "metadata": {},
   "source": [
    "## 1.6 함수의 이름 변경\n",
    "- Python: 함수형 언어, 객체지향언어"
   ]
  },
  {
   "cell_type": "code",
   "execution_count": 45,
   "id": "abcdf7ae",
   "metadata": {
    "ExecuteTime": {
     "end_time": "2024-11-08T06:28:30.811976Z",
     "start_time": "2024-11-08T06:28:30.807009Z"
    }
   },
   "outputs": [
    {
     "name": "stdout",
     "output_type": "stream",
     "text": [
      "0 1 1 2 3 5 8 13 "
     ]
    }
   ],
   "source": [
    "fibonacci(20)"
   ]
  },
  {
   "cell_type": "code",
   "execution_count": 47,
   "id": "e35ca49e",
   "metadata": {
    "ExecuteTime": {
     "end_time": "2024-11-08T06:29:22.827617Z",
     "start_time": "2024-11-08T06:29:22.822630Z"
    }
   },
   "outputs": [],
   "source": [
    "fibo = fibonacci # fibonacci 함수 이름을 fibo로도 사용 가능"
   ]
  },
  {
   "cell_type": "code",
   "execution_count": 48,
   "id": "9fe9a582",
   "metadata": {
    "ExecuteTime": {
     "end_time": "2024-11-08T06:29:23.668409Z",
     "start_time": "2024-11-08T06:29:23.663417Z"
    }
   },
   "outputs": [
    {
     "name": "stdout",
     "output_type": "stream",
     "text": [
      "0 1 1 2 3 5 8 13 "
     ]
    }
   ],
   "source": [
    "fibo(20)"
   ]
  },
  {
   "cell_type": "markdown",
   "id": "1f019299",
   "metadata": {
    "ExecuteTime": {
     "end_time": "2024-11-08T06:30:29.437714Z",
     "start_time": "2024-11-08T06:30:29.430732Z"
    }
   },
   "source": [
    "# 2절. 함수의 실행결과 반환하는 return"
   ]
  },
  {
   "cell_type": "code",
   "execution_count": 70,
   "id": "4d0d49a3",
   "metadata": {
    "ExecuteTime": {
     "end_time": "2024-11-08T06:41:14.901282Z",
     "start_time": "2024-11-08T06:41:14.895356Z"
    }
   },
   "outputs": [],
   "source": [
    "def fibonacci_print(n):\n",
    "    \"\"\"\n",
    "    매개변수로 들어온 n값 미만의 피보나치 수열을 출력합니다\n",
    "    ex. n = 10: 0, 1, 1, 2, 3, 5, 8   \n",
    "    \"\"\"\n",
    "    a, b = 0, 1\n",
    "    while a < n: # a가 n보다 작을 동안만 반복\n",
    "        print(a, end=' ')\n",
    "        a, b = b, a+b # a에 b를, b에 a+b\n",
    "        print()\n",
    "        \n",
    "def fibonacci(n):\n",
    "    \"\"\"\n",
    "    매개변수로 들어온 n값 미만의 피보나치 수열을 리스트로 return\n",
    "    \"\"\"\n",
    "    result = [] # 최악의 조건으로 초기화\n",
    "    a, b = 0, 1\n",
    "    while a < n:\n",
    "        result.append(a)\n",
    "        a, b = b, a+b\n",
    "    return result"
   ]
  },
  {
   "cell_type": "code",
   "execution_count": 69,
   "id": "be334dcc",
   "metadata": {
    "ExecuteTime": {
     "end_time": "2024-11-08T06:41:10.621758Z",
     "start_time": "2024-11-08T06:41:10.615730Z"
    }
   },
   "outputs": [
    {
     "name": "stdout",
     "output_type": "stream",
     "text": [
      "0\t\n",
      "1\t\n",
      "1\t\n",
      "2\t\n",
      "3\t\n",
      "5\t\n",
      "8\t\n",
      "None\n",
      "<class 'NoneType'>\n"
     ]
    }
   ],
   "source": [
    "x = fibonacci_print(10)\n",
    "print(x) # return이 없는 함수를 할당받으면 None\n",
    "print(type(x))"
   ]
  },
  {
   "cell_type": "code",
   "execution_count": 57,
   "id": "f48912b9",
   "metadata": {
    "ExecuteTime": {
     "end_time": "2024-11-08T06:37:07.317645Z",
     "start_time": "2024-11-08T06:37:07.311524Z"
    }
   },
   "outputs": [
    {
     "name": "stdout",
     "output_type": "stream",
     "text": [
      "[0, 1, 1, 2, 3, 5, 8]\n"
     ]
    }
   ],
   "source": [
    "x = fibonacci(10)\n",
    "print(x)"
   ]
  },
  {
   "cell_type": "markdown",
   "id": "54459662",
   "metadata": {},
   "source": [
    "## 여러 개 값 return"
   ]
  },
  {
   "cell_type": "code",
   "execution_count": 63,
   "id": "e904c078",
   "metadata": {
    "ExecuteTime": {
     "end_time": "2024-11-08T06:40:46.836859Z",
     "start_time": "2024-11-08T06:40:46.831861Z"
    }
   },
   "outputs": [],
   "source": [
    "def swap(a, b):\n",
    "    \"\"\"\n",
    "    매개변수의 순서를 바꿔서 return\n",
    "    \"\"\"\n",
    "    return b, a # 튜플 1개, 괄호 생략"
   ]
  },
  {
   "cell_type": "code",
   "execution_count": 64,
   "id": "98fa60f7",
   "metadata": {
    "ExecuteTime": {
     "end_time": "2024-11-08T06:40:48.052567Z",
     "start_time": "2024-11-08T06:40:48.047579Z"
    }
   },
   "outputs": [
    {
     "name": "stdout",
     "output_type": "stream",
     "text": [
      "함수 실행 전 x, y = 5 10\n",
      "함수 실행 후 x, y = 10 5\n"
     ]
    }
   ],
   "source": [
    "x, y = 5, 10\n",
    "print('함수 실행 전 x, y =', x, y)\n",
    "x, y = swap(x, y)\n",
    "print('함수 실행 후 x, y =', x , y)"
   ]
  },
  {
   "cell_type": "code",
   "execution_count": 71,
   "id": "81618ef9",
   "metadata": {
    "ExecuteTime": {
     "end_time": "2024-11-08T06:41:43.762816Z",
     "start_time": "2024-11-08T06:41:43.758838Z"
    }
   },
   "outputs": [
    {
     "name": "stdout",
     "output_type": "stream",
     "text": [
      "<class 'tuple'>\n",
      "(20, 10)\n"
     ]
    }
   ],
   "source": [
    "# swap 변수의 타입은 tuple\n",
    "a = swap(10, 20)\n",
    "print(type(a))\n",
    "print(a)"
   ]
  },
  {
   "cell_type": "markdown",
   "id": "7b2434f5",
   "metadata": {},
   "source": [
    "# 3절. 함수의 매개변수 ★\n",
    "## 3.1 기본값을 갖는 매개변수"
   ]
  },
  {
   "cell_type": "code",
   "execution_count": 73,
   "id": "15103d4a",
   "metadata": {
    "ExecuteTime": {
     "end_time": "2024-11-08T06:46:26.091320Z",
     "start_time": "2024-11-08T06:46:26.087350Z"
    }
   },
   "outputs": [],
   "source": [
    "# 기본값을 갖는 매개변수는 순서인수 뒤에 위치해야 함\n",
    "def make_url(ip, port = 80):\n",
    "    return \"http://{}:{}\".format(ip, port)"
   ]
  },
  {
   "cell_type": "code",
   "execution_count": 76,
   "id": "c401c48c",
   "metadata": {
    "ExecuteTime": {
     "end_time": "2024-11-08T06:50:25.117447Z",
     "start_time": "2024-11-08T06:50:25.111496Z"
    }
   },
   "outputs": [
    {
     "name": "stdout",
     "output_type": "stream",
     "text": [
      "http://localhost:8090\n",
      "http://localhost:80\n",
      "http://www.naver.com:9090\n"
     ]
    }
   ],
   "source": [
    "# 기본값을 갖는 매개변수는 선택적으로 사용\n",
    "print(make_url('localhost', 8090))\n",
    "print(make_url('localhost')) # 두 번째 매개변수 미입력 시 default값\n",
    "\n",
    "# 출력 시 매개변수의 순서가 바뀐다면, [매개변수명=값]의 형태로 호출할 것\n",
    "print(make_url(port=9090, ip=\"www.naver.com\"))"
   ]
  },
  {
   "cell_type": "markdown",
   "id": "438aa3d8",
   "metadata": {},
   "source": [
    "## 3.2 기본 변수를 갖는 매개변수"
   ]
  },
  {
   "cell_type": "markdown",
   "id": "96418bb2",
   "metadata": {},
   "source": [
    "- 매개변수에 기본값이 스칼라(scalar, 문자, 숫자, 논리형) 변수일 경우\n",
    "- 매개변수에 기본값이 리스트, 셋, 딕셔너리 또는 객체일 경우"
   ]
  },
  {
   "cell_type": "code",
   "execution_count": 81,
   "id": "91c3d375",
   "metadata": {
    "ExecuteTime": {
     "end_time": "2024-11-08T06:58:26.076386Z",
     "start_time": "2024-11-08T06:58:26.072396Z"
    }
   },
   "outputs": [],
   "source": [
    "i = 5\n",
    "# 기본변수가 scalar 변수일 때: arg의 기본값은 함수가 정의되는 시점으로 셋팅\n",
    "def func2(arg = i):\n",
    "    print('arg =', arg)"
   ]
  },
  {
   "cell_type": "code",
   "execution_count": 82,
   "id": "af09aa24",
   "metadata": {
    "ExecuteTime": {
     "end_time": "2024-11-08T06:58:27.788388Z",
     "start_time": "2024-11-08T06:58:27.783316Z"
    }
   },
   "outputs": [
    {
     "name": "stdout",
     "output_type": "stream",
     "text": [
      "arg = 10\n"
     ]
    }
   ],
   "source": [
    "# 매개변수에 값 넣었을 때\n",
    "func2(10)"
   ]
  },
  {
   "cell_type": "code",
   "execution_count": 83,
   "id": "3d177276",
   "metadata": {
    "ExecuteTime": {
     "end_time": "2024-11-08T06:58:29.525010Z",
     "start_time": "2024-11-08T06:58:29.520023Z"
    }
   },
   "outputs": [
    {
     "name": "stdout",
     "output_type": "stream",
     "text": [
      "arg = 5\n"
     ]
    }
   ],
   "source": [
    "# 매개변수에 값 넣지 않았을 때, 기본값 i = 5 출력\n",
    "func2()"
   ]
  },
  {
   "cell_type": "code",
   "execution_count": 84,
   "id": "485b4b34",
   "metadata": {
    "ExecuteTime": {
     "end_time": "2024-11-08T06:58:31.491643Z",
     "start_time": "2024-11-08T06:58:31.488642Z"
    }
   },
   "outputs": [
    {
     "name": "stdout",
     "output_type": "stream",
     "text": [
      "arg = 5\n"
     ]
    }
   ],
   "source": [
    "# i값 변경(i = 10)해도, func2() 결과 불변 (i = 5) \n",
    "i = 10  \n",
    "func2()"
   ]
  },
  {
   "cell_type": "code",
   "execution_count": 88,
   "id": "6da672d7",
   "metadata": {
    "ExecuteTime": {
     "end_time": "2024-11-08T07:18:00.046064Z",
     "start_time": "2024-11-08T07:18:00.040415Z"
    }
   },
   "outputs": [
    {
     "name": "stdout",
     "output_type": "stream",
     "text": [
      "[10]\n",
      "list_ : [10]\n"
     ]
    }
   ],
   "source": [
    "# 기본변수가 리스트, 셋, 딕셔너리, 객체일 경우: 실행되는 시점\n",
    "list_ = []\n",
    "def func3(a, L = list_):\n",
    "    L.append(a)\n",
    "    return L\n",
    "print(func3(10))\n",
    "print('list_ :', list_) # 리스트 L값 변화"
   ]
  },
  {
   "cell_type": "code",
   "execution_count": 89,
   "id": "c6ae3ea0",
   "metadata": {
    "ExecuteTime": {
     "end_time": "2024-11-08T07:19:00.478260Z",
     "start_time": "2024-11-08T07:19:00.473294Z"
    }
   },
   "outputs": [
    {
     "name": "stdout",
     "output_type": "stream",
     "text": [
      "[10, 20]\n",
      "list_ : [10, 20]\n"
     ]
    }
   ],
   "source": [
    "print(func3(20)) # 10이 들어있는 리스트 L(실행 시 마다 공유)\n",
    "print('list_ :', list_) "
   ]
  },
  {
   "cell_type": "code",
   "execution_count": 90,
   "id": "43f75cb0",
   "metadata": {
    "ExecuteTime": {
     "end_time": "2024-11-08T07:20:31.526120Z",
     "start_time": "2024-11-08T07:20:31.521055Z"
    }
   },
   "outputs": [
    {
     "name": "stdout",
     "output_type": "stream",
     "text": [
      "[10, 20, 30]\n",
      "list_ : [10, 20, 30]\n"
     ]
    }
   ],
   "source": [
    "print(func3(30)) # 10, 20이 들어있는 리스트 L(실행 시 마다 공유)\n",
    "print('list_ :', list_)"
   ]
  },
  {
   "cell_type": "code",
   "execution_count": 92,
   "id": "86152b4b",
   "metadata": {
    "ExecuteTime": {
     "end_time": "2024-11-08T07:23:02.616279Z",
     "start_time": "2024-11-08T07:23:02.609778Z"
    }
   },
   "outputs": [
    {
     "name": "stdout",
     "output_type": "stream",
     "text": [
      "[40]\n",
      "list_ : [10, 20, 30]\n"
     ]
    }
   ],
   "source": [
    "# 공유하지 않도록 기본값을 가지는 매개변수로 변경\n",
    "def func3(a, L = []):\n",
    "    L.append(a)\n",
    "    return L\n",
    "print(func3(40))\n",
    "print('list_ :', list_) # 리스트 L값 불변"
   ]
  },
  {
   "cell_type": "markdown",
   "id": "81a8ce8b",
   "metadata": {},
   "source": [
    "## 3.3 순서 인수, 키워드 인수\n",
    "- 순서 인수: 함수에 정의된 순서대로 전달하는 방식\n",
    "- 키워드 인수: 인수의 이름을 명시적으로 전달하는 방식\n",
    "- 함수 정의 시 순서인수와 키워드 인수가 같이 올 경우, 반드시 순서인수 → 키워드인수 순으로 입력\n",
    "```\n",
    "def function명(변수명1, 변수명2, ..., 변수명n = 기본값):\n",
    "```\n"
   ]
  },
  {
   "cell_type": "code",
   "execution_count": 96,
   "id": "24b127b2",
   "metadata": {
    "ExecuteTime": {
     "end_time": "2024-11-08T07:25:23.229504Z",
     "start_time": "2024-11-08T07:25:23.224535Z"
    }
   },
   "outputs": [],
   "source": [
    "def fun(a, b):\n",
    "    return a * 10 + b"
   ]
  },
  {
   "cell_type": "code",
   "execution_count": 97,
   "id": "0b785b0c",
   "metadata": {
    "ExecuteTime": {
     "end_time": "2024-11-08T07:26:38.648530Z",
     "start_time": "2024-11-08T07:26:38.640006Z"
    }
   },
   "outputs": [
    {
     "data": {
      "text/plain": [
       "43"
      ]
     },
     "execution_count": 97,
     "metadata": {},
     "output_type": "execute_result"
    }
   ],
   "source": [
    "# 순서 인수\n",
    "fun(3, 4)"
   ]
  },
  {
   "cell_type": "code",
   "execution_count": 98,
   "id": "4c72191d",
   "metadata": {
    "ExecuteTime": {
     "end_time": "2024-11-08T07:26:47.038814Z",
     "start_time": "2024-11-08T07:26:47.033843Z"
    }
   },
   "outputs": [
    {
     "data": {
      "text/plain": [
       "43"
      ]
     },
     "execution_count": 98,
     "metadata": {},
     "output_type": "execute_result"
    }
   ],
   "source": [
    "# 키워드 인수\n",
    "fun(b = 3, a = 4)"
   ]
  },
  {
   "cell_type": "code",
   "execution_count": 100,
   "id": "65415053",
   "metadata": {
    "ExecuteTime": {
     "end_time": "2024-11-08T07:32:25.160553Z",
     "start_time": "2024-11-08T07:32:25.155567Z"
    }
   },
   "outputs": [],
   "source": [
    "# None값 비교\n",
    "# ==      (X) \n",
    "# is None (O)\n",
    "def func4(a, L = None):\n",
    "    if L is None:\n",
    "        L = []\n",
    "    L.append(a)\n",
    "    return L"
   ]
  },
  {
   "cell_type": "code",
   "execution_count": 104,
   "id": "22b76f91",
   "metadata": {
    "ExecuteTime": {
     "end_time": "2024-11-08T07:34:09.014149Z",
     "start_time": "2024-11-08T07:34:09.009175Z"
    }
   },
   "outputs": [
    {
     "name": "stdout",
     "output_type": "stream",
     "text": [
      "[10]\n",
      "[10, 10]\n",
      "[20]\n",
      "[20]\n"
     ]
    }
   ],
   "source": [
    "# 질문: 3, 4번째 결과 같은 이유?\n",
    "lst = []\n",
    "print(func4(10, lst))\n",
    "print(func4(L = lst, a = 10))\n",
    "print(func4(20))\n",
    "print(func4(20, None))"
   ]
  },
  {
   "cell_type": "markdown",
   "id": "3d81db9b",
   "metadata": {},
   "source": [
    "## 3.4 튜플 매개변수를 이용한 가변인수 설정"
   ]
  },
  {
   "cell_type": "code",
   "execution_count": 106,
   "id": "6f467e44",
   "metadata": {
    "ExecuteTime": {
     "end_time": "2024-11-08T07:38:26.972812Z",
     "start_time": "2024-11-08T07:38:26.968117Z"
    }
   },
   "outputs": [],
   "source": [
    "def add(a, b):\n",
    "    return a + b\n",
    "def add(a, b, c): # 덮어씌움\n",
    "    return a + b + c"
   ]
  },
  {
   "cell_type": "code",
   "execution_count": 109,
   "id": "f75226c1",
   "metadata": {
    "ExecuteTime": {
     "end_time": "2024-11-08T07:38:41.687236Z",
     "start_time": "2024-11-08T07:38:41.681242Z"
    }
   },
   "outputs": [
    {
     "data": {
      "text/plain": [
       "6"
      ]
     },
     "execution_count": 109,
     "metadata": {},
     "output_type": "execute_result"
    }
   ],
   "source": [
    "add(1, 2, 3)"
   ]
  },
  {
   "cell_type": "code",
   "execution_count": 110,
   "id": "96bd4c7d",
   "metadata": {
    "ExecuteTime": {
     "end_time": "2024-11-08T07:38:43.162380Z",
     "start_time": "2024-11-08T07:38:43.144508Z"
    },
    "collapsed": true
   },
   "outputs": [
    {
     "ename": "TypeError",
     "evalue": "add() missing 1 required positional argument: 'c'",
     "output_type": "error",
     "traceback": [
      "\u001b[1;31m---------------------------------------------------------------------------\u001b[0m",
      "\u001b[1;31mTypeError\u001b[0m                                 Traceback (most recent call last)",
      "Cell \u001b[1;32mIn[110], line 1\u001b[0m\n\u001b[1;32m----> 1\u001b[0m \u001b[43madd\u001b[49m\u001b[43m(\u001b[49m\u001b[38;5;241;43m1\u001b[39;49m\u001b[43m,\u001b[49m\u001b[43m \u001b[49m\u001b[38;5;241;43m2\u001b[39;49m\u001b[43m)\u001b[49m\n",
      "\u001b[1;31mTypeError\u001b[0m: add() missing 1 required positional argument: 'c'"
     ]
    }
   ],
   "source": [
    "add(1, 2) # Error(c 인자가 없음)"
   ]
  },
  {
   "cell_type": "code",
   "execution_count": 125,
   "id": "53cefaa7",
   "metadata": {
    "ExecuteTime": {
     "end_time": "2024-11-08T07:49:13.958607Z",
     "start_time": "2024-11-08T07:49:13.952611Z"
    }
   },
   "outputs": [],
   "source": [
    "# 가변인자 함수 add\n",
    "# *(아스테리크)args → 매개변수가 튜플로 전달됨\n",
    "def add(*args):\n",
    "    \"\"\"\n",
    "    전달받은 매개변수들의 합을 return\n",
    "    매개변수가 하나도 없을 경우 0을 return\n",
    "    \"\"\"\n",
    "    # print(args)\n",
    "    sum = 0 # 누적변수\n",
    "    for num in args:\n",
    "        sum += num\n",
    "    return sum"
   ]
  },
  {
   "cell_type": "code",
   "execution_count": 129,
   "id": "37c6e465",
   "metadata": {
    "ExecuteTime": {
     "end_time": "2024-11-08T07:52:01.325828Z",
     "start_time": "2024-11-08T07:52:01.321684Z"
    }
   },
   "outputs": [
    {
     "name": "stdout",
     "output_type": "stream",
     "text": [
      "1\n",
      "3\n",
      "28\n",
      "0\n"
     ]
    }
   ],
   "source": [
    "# return값 없는 경우, print()로 출력하면 None 출력됨\n",
    "print(add(1))\n",
    "print(add(1, 2))\n",
    "print(add(1, 2, 3, 4, 5, 6, 7))\n",
    "print(add())"
   ]
  },
  {
   "cell_type": "code",
   "execution_count": 134,
   "id": "48a92105",
   "metadata": {
    "ExecuteTime": {
     "end_time": "2024-11-08T07:54:39.031735Z",
     "start_time": "2024-11-08T07:54:39.025751Z"
    }
   },
   "outputs": [
    {
     "data": {
      "text/plain": [
       "'Java - Oracle - Web - Python'"
      ]
     },
     "execution_count": 134,
     "metadata": {},
     "output_type": "execute_result"
    }
   ],
   "source": [
    "subject = ('Java', 'Oracle', 'Web', 'Python')\n",
    "' - '.join(subject)"
   ]
  },
  {
   "cell_type": "code",
   "execution_count": 141,
   "id": "249a2a8b",
   "metadata": {
    "ExecuteTime": {
     "end_time": "2024-11-08T07:59:35.488195Z",
     "start_time": "2024-11-08T07:59:35.483219Z"
    }
   },
   "outputs": [],
   "source": [
    "def concat(*subject, sep):\n",
    "    return sep.join(subject)"
   ]
  },
  {
   "cell_type": "code",
   "execution_count": 143,
   "id": "bdececee",
   "metadata": {
    "ExecuteTime": {
     "end_time": "2024-11-08T07:59:46.038747Z",
     "start_time": "2024-11-08T07:59:46.017985Z"
    }
   },
   "outputs": [
    {
     "ename": "TypeError",
     "evalue": "concat() missing 1 required keyword-only argument: 'sep'",
     "output_type": "error",
     "traceback": [
      "\u001b[1;31m---------------------------------------------------------------------------\u001b[0m",
      "\u001b[1;31mTypeError\u001b[0m                                 Traceback (most recent call last)",
      "Cell \u001b[1;32mIn[143], line 1\u001b[0m\n\u001b[1;32m----> 1\u001b[0m \u001b[43mconcat\u001b[49m\u001b[43m(\u001b[49m\u001b[38;5;124;43m'\u001b[39;49m\u001b[38;5;124;43mJava\u001b[39;49m\u001b[38;5;124;43m'\u001b[39;49m\u001b[43m,\u001b[49m\u001b[43m \u001b[49m\u001b[38;5;124;43m'\u001b[39;49m\u001b[38;5;124;43mOracle\u001b[39;49m\u001b[38;5;124;43m'\u001b[39;49m\u001b[43m,\u001b[49m\u001b[43m \u001b[49m\u001b[38;5;124;43m'\u001b[39;49m\u001b[38;5;124;43mWeb\u001b[39;49m\u001b[38;5;124;43m'\u001b[39;49m\u001b[43m,\u001b[49m\u001b[43m \u001b[49m\u001b[38;5;124;43m'\u001b[39;49m\u001b[38;5;124;43mPython\u001b[39;49m\u001b[38;5;124;43m'\u001b[39;49m\u001b[43m,\u001b[49m\u001b[43m \u001b[49m\u001b[38;5;124;43m'\u001b[39;49m\u001b[38;5;124;43m  ^____^  \u001b[39;49m\u001b[38;5;124;43m'\u001b[39;49m\u001b[43m)\u001b[49m\n",
      "\u001b[1;31mTypeError\u001b[0m: concat() missing 1 required keyword-only argument: 'sep'"
     ]
    }
   ],
   "source": [
    "concat('Java', 'Oracle', 'Web', 'Python', '  ^____^  ') # Error(sep이 없음)"
   ]
  },
  {
   "cell_type": "code",
   "execution_count": 144,
   "id": "e66282d7",
   "metadata": {
    "ExecuteTime": {
     "end_time": "2024-11-08T08:00:24.239315Z",
     "start_time": "2024-11-08T08:00:24.233345Z"
    }
   },
   "outputs": [
    {
     "data": {
      "text/plain": [
       "'Java  ^____^  Oracle  ^____^  Web  ^____^  Python'"
      ]
     },
     "execution_count": 144,
     "metadata": {},
     "output_type": "execute_result"
    }
   ],
   "source": [
    "# sol 1: 파라미터이름을 지정해서 호출\n",
    "concat('Java', 'Oracle', 'Web', 'Python', sep='  ^____^  ')"
   ]
  },
  {
   "cell_type": "code",
   "execution_count": 6,
   "id": "9239b933",
   "metadata": {
    "ExecuteTime": {
     "end_time": "2024-11-08T08:15:49.758490Z",
     "start_time": "2024-11-08T08:15:49.753494Z"
    }
   },
   "outputs": [],
   "source": [
    "# sol 2: 기본값을 갖는 키워드인수 사용\n",
    "# print()함수와 같은 원리\n",
    "def concat(*subject, sep=' '): # 튜플인수 > 키워드인수\n",
    "    return sep.join(subject)"
   ]
  },
  {
   "cell_type": "code",
   "execution_count": 9,
   "id": "96b19634",
   "metadata": {
    "ExecuteTime": {
     "end_time": "2024-11-08T08:16:30.784534Z",
     "start_time": "2024-11-08T08:16:30.778554Z"
    }
   },
   "outputs": [
    {
     "data": {
      "text/plain": [
       "'Java Oracle Web Python'"
      ]
     },
     "execution_count": 9,
     "metadata": {},
     "output_type": "execute_result"
    }
   ],
   "source": [
    "# 키워드인수의 기본값이 출력됨\n",
    "concat('Java', 'Oracle', 'Web', 'Python')"
   ]
  },
  {
   "cell_type": "code",
   "execution_count": 10,
   "id": "301d2b89",
   "metadata": {
    "ExecuteTime": {
     "end_time": "2024-11-08T08:16:48.246492Z",
     "start_time": "2024-11-08T08:16:48.242498Z"
    }
   },
   "outputs": [
    {
     "data": {
      "text/plain": [
       "'Java Oracle Web Python  ~ '"
      ]
     },
     "execution_count": 10,
     "metadata": {},
     "output_type": "execute_result"
    }
   ],
   "source": [
    "# 키워드인수 선언 안 하면 args로 출력됨\n",
    "concat('Java', 'Oracle', 'Web', 'Python', ' ~ ')"
   ]
  },
  {
   "cell_type": "code",
   "execution_count": 11,
   "id": "0e1f2790",
   "metadata": {
    "ExecuteTime": {
     "end_time": "2024-11-08T08:17:33.777695Z",
     "start_time": "2024-11-08T08:17:33.770319Z"
    }
   },
   "outputs": [
    {
     "data": {
      "text/plain": [
       "'Java ~ Oracle ~ Web ~ Python'"
      ]
     },
     "execution_count": 11,
     "metadata": {},
     "output_type": "execute_result"
    }
   ],
   "source": [
    "concat('Java', 'Oracle', 'Web', 'Python', sep=' ~ ')"
   ]
  },
  {
   "cell_type": "code",
   "execution_count": 12,
   "id": "f2d6d1c8",
   "metadata": {
    "ExecuteTime": {
     "end_time": "2024-11-08T08:19:15.117647Z",
     "start_time": "2024-11-08T08:19:15.113478Z"
    }
   },
   "outputs": [],
   "source": [
    "# sol 3: sep을 순서인수로 앞으로 선언\n",
    "def concat(sep, *subject):\n",
    "    return sep.join(subject)"
   ]
  },
  {
   "cell_type": "code",
   "execution_count": 14,
   "id": "a5f8c896",
   "metadata": {
    "ExecuteTime": {
     "end_time": "2024-11-08T08:19:41.034104Z",
     "start_time": "2024-11-08T08:19:41.019010Z"
    }
   },
   "outputs": [
    {
     "data": {
      "text/plain": [
       "'Java ~ Oracle ~ Web ~ Python'"
      ]
     },
     "execution_count": 14,
     "metadata": {},
     "output_type": "execute_result"
    }
   ],
   "source": [
    "concat(' ~ ', 'Java', 'Oracle', 'Web', 'Python')"
   ]
  },
  {
   "cell_type": "markdown",
   "id": "c60d1741",
   "metadata": {},
   "source": [
    "## 3.5 딕셔너리 매개변수\n",
    "- 딕셔너리 인수: 여러 개의 키워드 인수를 딕셔너리 형태로 받아서 가변 키워드 인수로 처리"
   ]
  },
  {
   "cell_type": "code",
   "execution_count": 29,
   "id": "8f512bd0",
   "metadata": {
    "ExecuteTime": {
     "end_time": "2024-11-08T08:25:48.467873Z",
     "start_time": "2024-11-08T08:25:48.461893Z"
    }
   },
   "outputs": [],
   "source": [
    "# 인수를 받아 딕셔너리를 만드는 함수\n",
    "# **args → 매개변수가 딕셔너리로 전달됨\n",
    "def func5(**args):\n",
    "    print(args)\n",
    "    print(\"인수 타입:\", type(args))\n",
    "    print() # 개행\n",
    "    for key, value in args.items():\n",
    "        print(\"{}:{}\".format(key, value))"
   ]
  },
  {
   "cell_type": "code",
   "execution_count": 30,
   "id": "511559a8",
   "metadata": {
    "ExecuteTime": {
     "end_time": "2024-11-08T08:25:51.254155Z",
     "start_time": "2024-11-08T08:25:51.249168Z"
    }
   },
   "outputs": [
    {
     "name": "stdout",
     "output_type": "stream",
     "text": [
      "{'name': '홍길동', 'age': 33}\n",
      "인수 타입: <class 'dict'>\n",
      "\n",
      "name:홍길동\n",
      "age:33\n"
     ]
    }
   ],
   "source": [
    "func5(name = \"홍길동\", age = 33)"
   ]
  },
  {
   "cell_type": "code",
   "execution_count": 32,
   "id": "bf7bcf56",
   "metadata": {
    "ExecuteTime": {
     "end_time": "2024-11-08T08:26:45.189523Z",
     "start_time": "2024-11-08T08:26:45.185535Z"
    }
   },
   "outputs": [
    {
     "name": "stdout",
     "output_type": "stream",
     "text": [
      "{'name': '김길동', 'address': '서울', 'tel': '010-9999-9999'}\n",
      "인수 타입: <class 'dict'>\n",
      "\n",
      "name:김길동\n",
      "address:서울\n",
      "tel:010-9999-9999\n"
     ]
    }
   ],
   "source": [
    "func5(name = \"김길동\", address=\"서울\", tel=\"010-9999-9999\")"
   ]
  },
  {
   "cell_type": "markdown",
   "id": "43e3faf4",
   "metadata": {},
   "source": [
    "## 3.6 함수 정의 시 매개변수의 순서\n",
    "`순서인수 > 튜플인수(*) > 키워드인수(기본값) > 딕셔너리인수(**)`"
   ]
  },
  {
   "cell_type": "code",
   "execution_count": 34,
   "id": "24c456c8",
   "metadata": {
    "ExecuteTime": {
     "end_time": "2024-11-08T08:31:22.622790Z",
     "start_time": "2024-11-08T08:31:22.618780Z"
    }
   },
   "outputs": [],
   "source": [
    "# 순서인수 > 튜플인수(*) > 딕셔너리인수(**)\n",
    "def func6(a, b, *c, **d):\n",
    "    print('순서인수     a =', a)\n",
    "    print('순서인수     b =', b)\n",
    "    print('튜플인수     c =', c)\n",
    "    print('딕셔너리인수 d =', d)"
   ]
  },
  {
   "cell_type": "code",
   "execution_count": 35,
   "id": "6c94f7c2",
   "metadata": {
    "ExecuteTime": {
     "end_time": "2024-11-08T08:31:23.982758Z",
     "start_time": "2024-11-08T08:31:23.964815Z"
    }
   },
   "outputs": [
    {
     "name": "stdout",
     "output_type": "stream",
     "text": [
      "순서인수     a = 10\n",
      "순서인수     b = 20\n",
      "튜플인수     c = (1, 2, 3, 4, 5, 6, 7)\n",
      "딕셔너리인수 d = {'name': 'kim', 'age': 30}\n"
     ]
    }
   ],
   "source": [
    "func6(10, 20, 1, 2, 3, 4, 5, 6, 7, name = \"kim\", age = 30)"
   ]
  },
  {
   "cell_type": "code",
   "execution_count": 36,
   "id": "a4927759",
   "metadata": {
    "ExecuteTime": {
     "end_time": "2024-11-08T08:34:24.033182Z",
     "start_time": "2024-11-08T08:34:24.027181Z"
    }
   },
   "outputs": [],
   "source": [
    "# 순서인수 > 튜플인수(*) > 키워드인수(기본값) > 딕셔너리인수(**)\n",
    "def func7(a, b, c, *d, e = 10, **f):\n",
    "    print('순서인수     a =', a)\n",
    "    print('순서인수     b =', b)\n",
    "    print('순서인수     c =', c)\n",
    "    print('튜플인수     d =', d)\n",
    "    print('키워드인수   e =', e)\n",
    "    print('딕셔너리인수 f =', f)"
   ]
  },
  {
   "cell_type": "code",
   "execution_count": 38,
   "id": "6af83631",
   "metadata": {
    "ExecuteTime": {
     "end_time": "2024-11-08T08:35:58.542495Z",
     "start_time": "2024-11-08T08:35:58.537509Z"
    }
   },
   "outputs": [
    {
     "name": "stdout",
     "output_type": "stream",
     "text": [
      "순서인수     a = 10\n",
      "순서인수     b = 20\n",
      "순서인수     c = 30\n",
      "튜플인수     d = ()\n",
      "키워드인수   e = 10\n",
      "딕셔너리인수 f = {}\n"
     ]
    }
   ],
   "source": [
    "# 순서인수는 필수입력\n",
    "# 튜플인수는 입력 안 하면 빈 튜플\n",
    "# 키워드인수는 입력 안 하면 기본값\n",
    "# 딕셔너리인수는 입력 안 하면 빈 딕셔너리\n",
    "func7(10, 20, 30)"
   ]
  },
  {
   "cell_type": "code",
   "execution_count": 39,
   "id": "8a23afe8",
   "metadata": {
    "ExecuteTime": {
     "end_time": "2024-11-08T08:37:05.807194Z",
     "start_time": "2024-11-08T08:37:05.802166Z"
    }
   },
   "outputs": [
    {
     "name": "stdout",
     "output_type": "stream",
     "text": [
      "순서인수     a = 10\n",
      "순서인수     b = 20\n",
      "순서인수     c = 30\n",
      "튜플인수     d = ()\n",
      "키워드인수   e = 100\n",
      "딕셔너리인수 f = {}\n"
     ]
    }
   ],
   "source": [
    "func7(10, 20, 30, e = 100)"
   ]
  },
  {
   "cell_type": "code",
   "execution_count": 40,
   "id": "b3cc5cc6",
   "metadata": {
    "ExecuteTime": {
     "end_time": "2024-11-08T08:37:57.839770Z",
     "start_time": "2024-11-08T08:37:57.835034Z"
    }
   },
   "outputs": [
    {
     "name": "stdout",
     "output_type": "stream",
     "text": [
      "순서인수     a = 10\n",
      "순서인수     b = 20\n",
      "순서인수     c = 30\n",
      "튜플인수     d = (1, 2, 3, 4, 5)\n",
      "키워드인수   e = 100\n",
      "딕셔너리인수 f = {'shape': 'rect', 'width': 20, 'height': 30}\n"
     ]
    }
   ],
   "source": [
    "func7(10, 20, 30,\n",
    "      1, 2, 3, 4, 5,\n",
    "      e = 100,\n",
    "      shape = \"rect\", width = 20, height = 30)"
   ]
  },
  {
   "cell_type": "markdown",
   "id": "026da0bb",
   "metadata": {},
   "source": [
    "## 3.7 인수의 언패킹"
   ]
  },
  {
   "cell_type": "markdown",
   "id": "67d76645",
   "metadata": {
    "ExecuteTime": {
     "end_time": "2024-11-08T08:51:06.834861Z",
     "start_time": "2024-11-08T08:51:06.826903Z"
    }
   },
   "source": [
    "### 튜플인수 언패킹"
   ]
  },
  {
   "cell_type": "code",
   "execution_count": 41,
   "id": "8f8ee28e",
   "metadata": {
    "ExecuteTime": {
     "end_time": "2024-11-08T08:44:09.448322Z",
     "start_time": "2024-11-08T08:44:09.443587Z"
    }
   },
   "outputs": [],
   "source": [
    "def add(*args): # ((1, 2, 3, 4, 5),)\n",
    "    sum = 0\n",
    "    for num in args:\n",
    "        sum += num\n",
    "    return sum"
   ]
  },
  {
   "cell_type": "code",
   "execution_count": 42,
   "id": "d24d2008",
   "metadata": {
    "ExecuteTime": {
     "end_time": "2024-11-08T08:44:14.585981Z",
     "start_time": "2024-11-08T08:44:14.579996Z"
    }
   },
   "outputs": [
    {
     "data": {
      "text/plain": [
       "15"
      ]
     },
     "execution_count": 42,
     "metadata": {},
     "output_type": "execute_result"
    }
   ],
   "source": [
    "add(1, 2, 3, 4, 5)"
   ]
  },
  {
   "cell_type": "code",
   "execution_count": 44,
   "id": "17ce5064",
   "metadata": {
    "ExecuteTime": {
     "end_time": "2024-11-08T08:49:37.233689Z",
     "start_time": "2024-11-08T08:49:37.227705Z"
    }
   },
   "outputs": [
    {
     "data": {
      "text/plain": [
       "15"
      ]
     },
     "execution_count": 44,
     "metadata": {},
     "output_type": "execute_result"
    }
   ],
   "source": [
    "numbers = (1, 2, 3, 4, 5) # 언패킹해서 add()함수의 인수로 받고 싶음\n",
    "add(*numbers) # 튜플 언패킹\n",
    "# add(numbers[0], numbers[1], numbers[2], numbers[3], numbers[4]) 위와 동일"
   ]
  },
  {
   "cell_type": "code",
   "execution_count": 45,
   "id": "bcf74594",
   "metadata": {
    "ExecuteTime": {
     "end_time": "2024-11-08T08:50:10.976969Z",
     "start_time": "2024-11-08T08:50:10.970985Z"
    }
   },
   "outputs": [
    {
     "data": {
      "text/plain": [
       "6"
      ]
     },
     "execution_count": 45,
     "metadata": {},
     "output_type": "execute_result"
    }
   ],
   "source": [
    "# 리스트도 동일 방법으로 가능\n",
    "num_lst = [1, 2, 3]\n",
    "add(*num_lst)"
   ]
  },
  {
   "cell_type": "markdown",
   "id": "6481eb7d",
   "metadata": {},
   "source": [
    "### 딕셔너리 인수 언패킹"
   ]
  },
  {
   "cell_type": "code",
   "execution_count": 48,
   "id": "9a440334",
   "metadata": {
    "ExecuteTime": {
     "end_time": "2024-11-08T08:53:04.392101Z",
     "start_time": "2024-11-08T08:53:04.386137Z"
    }
   },
   "outputs": [
    {
     "name": "stdout",
     "output_type": "stream",
     "text": [
      "('shape', 'rect')\n",
      "('height', 30)\n",
      "('width', 40)\n"
     ]
    }
   ],
   "source": [
    "def func8(**data):\n",
    "    for item in data.items():\n",
    "        print(item)\n",
    "func8('shape': \"rect\",\n",
    "      'height': 30,\n",
    "      'width' : 40)"
   ]
  },
  {
   "cell_type": "code",
   "execution_count": 51,
   "id": "6c1c9eef",
   "metadata": {
    "ExecuteTime": {
     "end_time": "2024-11-08T08:54:45.201529Z",
     "start_time": "2024-11-08T08:54:45.194527Z"
    }
   },
   "outputs": [
    {
     "data": {
      "text/plain": [
       "{'shape': 'triangle', 'height': 40, 'width': 30}"
      ]
     },
     "execution_count": 51,
     "metadata": {},
     "output_type": "execute_result"
    }
   ],
   "source": [
    "info = {'shape':'triangle', 'height': 40, 'width' : 30}\n",
    "info"
   ]
  },
  {
   "cell_type": "code",
   "execution_count": 52,
   "id": "e20c436e",
   "metadata": {
    "ExecuteTime": {
     "end_time": "2024-11-08T08:55:40.241316Z",
     "start_time": "2024-11-08T08:55:40.237397Z"
    }
   },
   "outputs": [
    {
     "name": "stdout",
     "output_type": "stream",
     "text": [
      "('shape', 'triangle')\n",
      "('height', 40)\n",
      "('width', 30)\n"
     ]
    }
   ],
   "source": [
    "func8(**info) ## 딕셔너리 언패킹"
   ]
  },
  {
   "cell_type": "markdown",
   "id": "0d8f82be",
   "metadata": {},
   "source": [
    "# 4절. 람다식\n",
    "- return 한 줄짜리 작은 익명함수\n",
    "## 4.1 람다식 연습"
   ]
  },
  {
   "cell_type": "code",
   "execution_count": 2,
   "id": "1fea70fc",
   "metadata": {
    "ExecuteTime": {
     "end_time": "2024-11-11T00:36:43.050328Z",
     "start_time": "2024-11-11T00:36:43.042335Z"
    }
   },
   "outputs": [
    {
     "data": {
      "text/plain": [
       "8"
      ]
     },
     "execution_count": 2,
     "metadata": {},
     "output_type": "execute_result"
    }
   ],
   "source": [
    "def add(a, b):\n",
    "    return a + b\n",
    "add(3, 5)"
   ]
  },
  {
   "cell_type": "code",
   "execution_count": 6,
   "id": "b5c8eb3d",
   "metadata": {
    "ExecuteTime": {
     "end_time": "2024-11-11T00:38:31.039731Z",
     "start_time": "2024-11-11T00:38:31.034746Z"
    },
    "scrolled": true
   },
   "outputs": [
    {
     "data": {
      "text/plain": [
       "30"
      ]
     },
     "execution_count": 6,
     "metadata": {},
     "output_type": "execute_result"
    }
   ],
   "source": [
    "# lambda 매개변수1, 매개변수2: return값\n",
    "# return 1줄(python에서는 자바와 달리 return type이 따로 없음)\n",
    "add2 = lambda a, b: a + b\n",
    "add2(10, 20)"
   ]
  },
  {
   "cell_type": "code",
   "execution_count": 7,
   "id": "ef7360eb",
   "metadata": {
    "ExecuteTime": {
     "end_time": "2024-11-11T00:39:53.641006Z",
     "start_time": "2024-11-11T00:39:53.626190Z"
    }
   },
   "outputs": [
    {
     "name": "stdout",
     "output_type": "stream",
     "text": [
      "<class 'function'> <class 'function'>\n"
     ]
    }
   ],
   "source": [
    "# lambda 함수도 함수 타입\n",
    "print(type(add), type(add2))"
   ]
  },
  {
   "cell_type": "code",
   "execution_count": 8,
   "id": "ed50c558",
   "metadata": {
    "ExecuteTime": {
     "end_time": "2024-11-11T00:41:29.504961Z",
     "start_time": "2024-11-11T00:41:29.498001Z"
    }
   },
   "outputs": [
    {
     "data": {
      "text/plain": [
       "8"
      ]
     },
     "execution_count": 8,
     "metadata": {},
     "output_type": "execute_result"
    }
   ],
   "source": [
    "# 익명 함수, 바로 호출 가능\n",
    "(lambda a, b: a + b)(3, 5)"
   ]
  },
  {
   "cell_type": "code",
   "execution_count": 10,
   "id": "ee86442b",
   "metadata": {
    "ExecuteTime": {
     "end_time": "2024-11-11T00:46:42.455286Z",
     "start_time": "2024-11-11T00:46:42.450321Z"
    }
   },
   "outputs": [],
   "source": [
    "# if문 사용한 lambda함수\n",
    "# a와 b의 차이를 return \n",
    "def diff(a, b):\n",
    "    if a >= b:\n",
    "        return a - b\n",
    "    else:\n",
    "        return b - a "
   ]
  },
  {
   "cell_type": "code",
   "execution_count": 9,
   "id": "86e089c7",
   "metadata": {
    "ExecuteTime": {
     "end_time": "2024-11-11T00:46:40.928482Z",
     "start_time": "2024-11-11T00:46:40.923495Z"
    }
   },
   "outputs": [],
   "source": [
    "# 아래 format에 익숙해지자\n",
    "diff2 = lambda a, b: a - b if a >= b else b - a # elif 불가"
   ]
  },
  {
   "cell_type": "code",
   "execution_count": 12,
   "id": "c09b9ec6",
   "metadata": {
    "ExecuteTime": {
     "end_time": "2024-11-11T00:47:29.398892Z",
     "start_time": "2024-11-11T00:47:29.394897Z"
    }
   },
   "outputs": [
    {
     "name": "stdout",
     "output_type": "stream",
     "text": [
      "2 2 2 2\n",
      "<class 'function'> <class 'function'>\n"
     ]
    }
   ],
   "source": [
    "print(diff(3, 5), diff(5, 3), diff2(3, 5), diff2(5, 3))\n",
    "print(type(diff), type(diff2))"
   ]
  },
  {
   "cell_type": "code",
   "execution_count": 13,
   "id": "6eb0ba64",
   "metadata": {
    "ExecuteTime": {
     "end_time": "2024-11-11T00:50:09.902291Z",
     "start_time": "2024-11-11T00:50:09.898285Z"
    }
   },
   "outputs": [],
   "source": [
    "# 매개변수로 잔액을 받아 잔액이 음수면 'negative'라고 출력, 양수면 잔액을 출력\n",
    "def get_balance(balance):\n",
    "    if balance >= 0:\n",
    "        return balance\n",
    "    else:\n",
    "        return 'negative'"
   ]
  },
  {
   "cell_type": "code",
   "execution_count": 15,
   "id": "c21a3154",
   "metadata": {
    "ExecuteTime": {
     "end_time": "2024-11-11T00:52:07.743115Z",
     "start_time": "2024-11-11T00:52:07.738149Z"
    }
   },
   "outputs": [],
   "source": [
    "# 람다식으로 변환\n",
    "get_balance = lambda balance: balance if balance >= 0 else 'negative' "
   ]
  },
  {
   "cell_type": "code",
   "execution_count": 16,
   "id": "a8173357",
   "metadata": {
    "ExecuteTime": {
     "end_time": "2024-11-11T00:52:14.064195Z",
     "start_time": "2024-11-11T00:52:14.058232Z"
    }
   },
   "outputs": [
    {
     "data": {
      "text/plain": [
       "100"
      ]
     },
     "execution_count": 16,
     "metadata": {},
     "output_type": "execute_result"
    }
   ],
   "source": [
    "get_balance(100)"
   ]
  },
  {
   "cell_type": "code",
   "execution_count": 18,
   "id": "e4531922",
   "metadata": {
    "ExecuteTime": {
     "end_time": "2024-11-11T00:55:10.112277Z",
     "start_time": "2024-11-11T00:55:10.106284Z"
    }
   },
   "outputs": [
    {
     "data": {
      "text/plain": [
       "'negative'"
      ]
     },
     "execution_count": 18,
     "metadata": {},
     "output_type": "execute_result"
    }
   ],
   "source": [
    "# result를 반환하는 함수\n",
    "balance = -500\n",
    "if balance >= 0:\n",
    "    result = balance\n",
    "else:\n",
    "    result = 'negative'\n",
    "result"
   ]
  },
  {
   "cell_type": "code",
   "execution_count": 25,
   "id": "1cc2ae47",
   "metadata": {
    "ExecuteTime": {
     "end_time": "2024-11-11T00:57:34.928230Z",
     "start_time": "2024-11-11T00:57:34.922405Z"
    }
   },
   "outputs": [
    {
     "data": {
      "text/plain": [
       "'negative'"
      ]
     },
     "execution_count": 25,
     "metadata": {},
     "output_type": "execute_result"
    }
   ],
   "source": [
    "# 조건식\n",
    "# 자바의 3항연산자와 유사 \n",
    "balance = -500\n",
    "balance if balance >= 0 else 'negative'\n",
    "#        balance >= 0 ? balance : 'negative'"
   ]
  },
  {
   "cell_type": "code",
   "execution_count": 33,
   "id": "2839f9da",
   "metadata": {
    "ExecuteTime": {
     "end_time": "2024-11-11T01:02:45.177240Z",
     "start_time": "2024-11-11T01:02:45.170260Z"
    }
   },
   "outputs": [
    {
     "data": {
      "text/plain": [
       "(0, -1)"
      ]
     },
     "execution_count": 33,
     "metadata": {},
     "output_type": "execute_result"
    }
   ],
   "source": [
    "# 아래의 함수도 람다식으로 바꿀 수 있음\n",
    "v = [1, 2, 3]\n",
    "# v.index(4) # ValueError: 4 is not in list\n",
    "# sol 1\n",
    "def safe_index(vector, item):\n",
    "    if item in vector:\n",
    "        return vector.index(item)\n",
    "    else:\n",
    "        return -1\n",
    "safe_index(v, 1), safe_index(v, 4)"
   ]
  },
  {
   "cell_type": "code",
   "execution_count": 35,
   "id": "fc42f1ba",
   "metadata": {
    "ExecuteTime": {
     "end_time": "2024-11-11T01:04:32.543572Z",
     "start_time": "2024-11-11T01:04:32.538586Z"
    }
   },
   "outputs": [],
   "source": [
    "# sol 2\n",
    "def safe_index(vector, item):\n",
    "    return vector.index(item) if item in vector else -1"
   ]
  },
  {
   "cell_type": "code",
   "execution_count": 43,
   "id": "1da90773",
   "metadata": {
    "ExecuteTime": {
     "end_time": "2024-11-11T01:08:15.803362Z",
     "start_time": "2024-11-11T01:08:15.795551Z"
    }
   },
   "outputs": [
    {
     "data": {
      "text/plain": [
       "(0, -1)"
      ]
     },
     "execution_count": 43,
     "metadata": {},
     "output_type": "execute_result"
    }
   ],
   "source": [
    "# sol 3(lambda식)\n",
    "safe_index = lambda vector, item: vector.index(item) \\\n",
    "                                if item in vector else -1\n",
    "# vector: 여러 개의 값 넣을 수 있음 (list, tuple, array, etc..)\n",
    "safe_index([1, 2, 3, 4], 1), safe_index((1, 2, 3), 5)"
   ]
  },
  {
   "cell_type": "code",
   "execution_count": 44,
   "id": "6f2954bd",
   "metadata": {
    "ExecuteTime": {
     "end_time": "2024-11-11T01:10:58.393513Z",
     "start_time": "2024-11-11T01:10:58.378646Z"
    }
   },
   "outputs": [],
   "source": [
    "# 매개변수로 들어온 값이 짝수면 '짝수'를, '홀수'면 '홀수'를 return하는 lambda식\n",
    "even_odd_chk = lambda num: '짝수' if num % 2 == 0 else '홀수'\n",
    "even_odd_chk(7), even_odd_chk(-8)"
   ]
  },
  {
   "cell_type": "code",
   "execution_count": 50,
   "id": "321ecc11",
   "metadata": {
    "ExecuteTime": {
     "end_time": "2024-11-11T01:15:29.494561Z",
     "start_time": "2024-11-11T01:15:29.477949Z"
    }
   },
   "outputs": [
    {
     "data": {
      "text/plain": [
       "('B등급', '재시험')"
      ]
     },
     "execution_count": 50,
     "metadata": {},
     "output_type": "execute_result"
    }
   ],
   "source": [
    "# 조건 여러 개일 때 lambda식\n",
    "def levelChk(score):\n",
    "    if score >= 80:\n",
    "        return 'A등급'\n",
    "    elif score >= 60:\n",
    "        return 'B등급'\n",
    "    else:\n",
    "        return '재시험'\n",
    "levelChk(65), levelChk(-9)"
   ]
  },
  {
   "cell_type": "code",
   "execution_count": 51,
   "id": "80ec0bcb",
   "metadata": {
    "ExecuteTime": {
     "end_time": "2024-11-11T01:19:27.513000Z",
     "start_time": "2024-11-11T01:19:27.506975Z"
    }
   },
   "outputs": [
    {
     "data": {
      "text/plain": [
       "('A등급', '재시험')"
      ]
     },
     "execution_count": 51,
     "metadata": {},
     "output_type": "execute_result"
    }
   ],
   "source": [
    "# else문 안에 조건식 삽입(elif 사용 불가)\n",
    "# 자바에서 3항 연산자 이어붙이는 원리와 동일\n",
    "levelChk = lambda score: 'A등급' if score >= 80 \\\n",
    "                        else ('B등급' if score >= 60 else '재시험')\n",
    "levelChk(90), levelChk(55)"
   ]
  },
  {
   "cell_type": "code",
   "execution_count": null,
   "id": "6851c96e",
   "metadata": {},
   "outputs": [],
   "source": [
    "# 조건 여러 개일 때 람다식\n",
    "def score_grade(score):\n",
    "    if 90 <= score <= 100:\n",
    "        return 'A'\n",
    "    elif 80 <= score < 90:\n",
    "        return 'B'\n",
    "    elif 70 <= score < 80:\n",
    "        return 'C'\n",
    "    elif 60 <= score < 70:\n",
    "        return 'D'\n",
    "    elif 0 <= score < 60:\n",
    "        return 'F'\n",
    "    else:\n",
    "        return '유효하지 않은 점수 등급'"
   ]
  },
  {
   "cell_type": "code",
   "execution_count": 59,
   "id": "48770bca",
   "metadata": {
    "ExecuteTime": {
     "end_time": "2024-11-11T02:04:41.304676Z",
     "start_time": "2024-11-11T02:04:41.287052Z"
    }
   },
   "outputs": [],
   "source": [
    "score_grade = lambda score: 'A' if 90 <= score <= 100 else \\\n",
    "                            'B' if 80 <= score < 90 else \\\n",
    "                            'C' if 70 <= score < 80 else \\\n",
    "                            'D' if 60 <= score < 70 else \\\n",
    "                            'F' if 0 <= score < 60 else '유효하지 않은 점수 등급'"
   ]
  },
  {
   "cell_type": "code",
   "execution_count": 78,
   "id": "b387775a",
   "metadata": {
    "ExecuteTime": {
     "end_time": "2024-11-11T02:33:36.653919Z",
     "start_time": "2024-11-11T02:33:36.645439Z"
    }
   },
   "outputs": [
    {
     "name": "stdout",
     "output_type": "stream",
     "text": [
      "[12, 8, 20, 5.0, 100] [<function <lambda> at 0x000002289B4AA560>, <function <lambda> at 0x000002289B4A9EA0>]\n"
     ]
    }
   ],
   "source": [
    "# 사칙연산 lambda식\n",
    "add = lambda a, b: a + b\n",
    "sub = lambda a, b: a - b\n",
    "mul = lambda a, b: a * b\n",
    "div = lambda a, b: a / b if b != 0 else '두 번째 인자가 0이면 나눌 수 없습니다'\n",
    "add(3, 0), div(3, 0)\n",
    "\n",
    "i = 10\n",
    "j = 20\n",
    "lst = [i, j]\n",
    "lst\n",
    "\n",
    "# 리스트(operations)에 람다식 삽입\n",
    "operations = [add, sub, mul, div]\n",
    "# 매개변수로 함수 list가 옴(for문 출력 가능)\n",
    "# 함수명과 변수명은 같을 수 없음\n",
    "def act_operations(a, b, operations = operations):\n",
    "    result = []\n",
    "    for op in operations:\n",
    "        result.append(op(a, b))\n",
    "    return result\n",
    "# def pow(a, b):\n",
    "#     return a ** b\n",
    "# 제곱을 return하는 람다식을 list에 추가\n",
    "operations.append(lambda a, b: a ** b)\n",
    "print(act_operations(10, 2), [lambda a, b: a**b, lambda a, b: a * 10 + b]) # 매개변수 vector일 때, 호출 당시의 값 반영"
   ]
  },
  {
   "cell_type": "code",
   "execution_count": 74,
   "id": "2373a814",
   "metadata": {
    "ExecuteTime": {
     "end_time": "2024-11-11T02:15:51.233582Z",
     "start_time": "2024-11-11T02:15:51.227870Z"
    }
   },
   "outputs": [
    {
     "data": {
      "text/plain": [
       "[30, -10, 200, 0.5]"
      ]
     },
     "execution_count": 74,
     "metadata": {},
     "output_type": "execute_result"
    }
   ],
   "source": [
    "# 리스트 컴프리헨션\n",
    "lst = [1, 2, 3]\n",
    "print([l ** 2 for l in lst])\n",
    "print([l for l in lst if l % 2 == 0])"
   ]
  },
  {
   "cell_type": "code",
   "execution_count": 88,
   "id": "45e7a675",
   "metadata": {
    "ExecuteTime": {
     "end_time": "2024-11-11T02:43:43.923693Z",
     "start_time": "2024-11-11T02:43:43.916873Z"
    }
   },
   "outputs": [
    {
     "name": "stdout",
     "output_type": "stream",
     "text": [
      "[7, 25]\n",
      "[7, 3, 10, 2.5, 25]\n"
     ]
    }
   ],
   "source": [
    "# act_operations의 함수를 리스트 컴프리헨션을 이용하여 람다식으로 구현\n",
    "operations = [add, sub, mul, div]\n",
    "def act_operations(a, b, operations = operations):\n",
    "    return [op(a, b) for op in operations]\n",
    "\n",
    "act_operations = lambda a, b, operations = operations: \\\n",
    "                    [op(a, b) for op in operations]\n",
    "\n",
    "print(act_operations(5, 2, [lambda a, b : a + b, lambda a, b: a ** b])) # 람다식 2개인 list가 매개변수\n",
    "operations.append(lambda a, b: a ** b) # 제곱 연산 람다식 operations list에 추가\n",
    "print(act_operations(5, 2))"
   ]
  },
  {
   "cell_type": "markdown",
   "id": "bdb54095",
   "metadata": {},
   "source": [
    "## 4.2 함수의 매개변수(인수)에 람다식 사용"
   ]
  },
  {
   "cell_type": "code",
   "execution_count": 102,
   "id": "e24c2ff4",
   "metadata": {
    "ExecuteTime": {
     "end_time": "2024-11-11T02:59:56.976634Z",
     "start_time": "2024-11-11T02:59:56.972631Z"
    }
   },
   "outputs": [],
   "source": [
    "map_tamplate = lambda func, L = []: [func(l) for l in L]"
   ]
  },
  {
   "cell_type": "code",
   "execution_count": 104,
   "id": "daec9321",
   "metadata": {
    "ExecuteTime": {
     "end_time": "2024-11-11T03:00:01.338184Z",
     "start_time": "2024-11-11T03:00:01.332684Z"
    }
   },
   "outputs": [],
   "source": [
    "# list를 리턴하는 map 함수 만들기\n",
    "# map(): 리스트의 원소마다 특정한 함수를 적용\n",
    "# ex. 웹크롤링하여 반복적으로 동일한 작업 처리\n",
    "def map_tamplate(func, L = []): # list의 모든 인덱스에 함수 적용\n",
    "    result = []\n",
    "    for item in L:\n",
    "        result.append(func(item)) # return할 list에 함수 적용 결과를 append\n",
    "    return result"
   ]
  },
  {
   "cell_type": "code",
   "execution_count": 106,
   "id": "b2bb3132",
   "metadata": {
    "ExecuteTime": {
     "end_time": "2024-11-11T03:00:10.283747Z",
     "start_time": "2024-11-11T03:00:10.276755Z"
    }
   },
   "outputs": [
    {
     "data": {
      "text/plain": [
       "[2, 4, 6, 8, 10, 12, 14, 16]"
      ]
     },
     "execution_count": 106,
     "metadata": {},
     "output_type": "execute_result"
    }
   ],
   "source": [
    "# 함수 미리 생성하지 않음\n",
    "# list_data = [1, 2, 3, 4, 5, 6, 7, 8]\n",
    "# def x_2(x):\n",
    "#     return x * 2\n",
    "# map_tamplate(x_2, list_data)\n",
    "\n",
    "# 매개변수에 람다식 삽입\n",
    "map_tamplate(lambda x: x * 2, list_data)"
   ]
  },
  {
   "cell_type": "code",
   "execution_count": 108,
   "id": "4606fa41",
   "metadata": {
    "ExecuteTime": {
     "end_time": "2024-11-11T03:01:47.859776Z",
     "start_time": "2024-11-11T03:01:47.853901Z"
    }
   },
   "outputs": [
    {
     "data": {
      "text/plain": [
       "[2, 4, 6, 8, 10, 12, 14, 16]"
      ]
     },
     "execution_count": 108,
     "metadata": {},
     "output_type": "execute_result"
    }
   ],
   "source": [
    "# 리스트 컴프리헨션\n",
    "[x*2 for x in list_data]"
   ]
  },
  {
   "cell_type": "code",
   "execution_count": 110,
   "id": "486b686b",
   "metadata": {
    "ExecuteTime": {
     "end_time": "2024-11-11T03:03:24.498986Z",
     "start_time": "2024-11-11T03:03:24.493010Z"
    }
   },
   "outputs": [
    {
     "data": {
      "text/plain": [
       "[2, 4, 6, 8, 10, 12, 14, 16]"
      ]
     },
     "execution_count": 110,
     "metadata": {},
     "output_type": "execute_result"
    }
   ],
   "source": [
    "# map 함수는 map 객체를 return\n",
    "# for문 사용 가능한 vector 객체\n",
    "# 내부적으로 list의 형태를 가짐\n",
    "# enumerate도 유사\n",
    "list(map(lambda x: x*2, list_data))"
   ]
  },
  {
   "cell_type": "code",
   "execution_count": 114,
   "id": "68aeb8e6",
   "metadata": {
    "ExecuteTime": {
     "end_time": "2024-11-11T03:05:29.993879Z",
     "start_time": "2024-11-11T03:05:29.988867Z"
    }
   },
   "outputs": [
    {
     "name": "stdout",
     "output_type": "stream",
     "text": [
      "2 4 6 8 10 12 14 16 "
     ]
    }
   ],
   "source": [
    "for x in map(lambda x: x * 2, list_data):\n",
    "    print(x, end=' ')"
   ]
  },
  {
   "cell_type": "code",
   "execution_count": 115,
   "id": "ef083c0e",
   "metadata": {
    "ExecuteTime": {
     "end_time": "2024-11-11T03:10:31.562467Z",
     "start_time": "2024-11-11T03:10:31.544010Z"
    }
   },
   "outputs": [],
   "source": [
    "# filter 함수 만들기\n",
    "def filter_template(func, L = []):\n",
    "    result = []\n",
    "    for item in L:\n",
    "        if func(item):\n",
    "            result.append(item)\n",
    "    return result"
   ]
  },
  {
   "cell_type": "code",
   "execution_count": 118,
   "id": "7257ca66",
   "metadata": {
    "ExecuteTime": {
     "end_time": "2024-11-11T03:14:04.332312Z",
     "start_time": "2024-11-11T03:14:04.325330Z"
    }
   },
   "outputs": [
    {
     "data": {
      "text/plain": [
       "[2, 4, 6, 8]"
      ]
     },
     "execution_count": 118,
     "metadata": {},
     "output_type": "execute_result"
    }
   ],
   "source": [
    "def evenChk(value):\n",
    "    return value % 2 == 0\n",
    "#     if value % 2 == 0:\n",
    "#         return True\n",
    "#     else:\n",
    "#         return False\n",
    "list_data = [1, 2, 3, 4, 5, 6, 7, 8]\n",
    "filter_template(lambda x: x % 2 == 0, L = list_data)"
   ]
  },
  {
   "cell_type": "code",
   "execution_count": 119,
   "id": "9a69c06d",
   "metadata": {
    "ExecuteTime": {
     "end_time": "2024-11-11T03:15:31.908325Z",
     "start_time": "2024-11-11T03:15:31.903339Z"
    }
   },
   "outputs": [
    {
     "name": "stdout",
     "output_type": "stream",
     "text": [
      "2 4 6 8 "
     ]
    }
   ],
   "source": [
    "# filter(): 조건에 맞는 리스트 요소만 반환, bool(True/False)에 따라 필터링\n",
    "# map과 함께 대표적인 내장함수: for문 이용 or list 형변환하여 출력\n",
    "for item in filter(lambda x: x % 2 == 0, list_data):\n",
    "    print(item, end=' ')"
   ]
  },
  {
   "cell_type": "code",
   "execution_count": 121,
   "id": "bf917a2e",
   "metadata": {
    "ExecuteTime": {
     "end_time": "2024-11-11T03:18:15.156444Z",
     "start_time": "2024-11-11T03:18:15.140823Z"
    }
   },
   "outputs": [
    {
     "data": {
      "text/plain": [
       "[2, 4, 6, 8]"
      ]
     },
     "execution_count": 121,
     "metadata": {},
     "output_type": "execute_result"
    }
   ],
   "source": [
    "# 리스트 컴프리헨션 이용\n",
    "[x for x in list_data if x % 2 == 0]"
   ]
  },
  {
   "cell_type": "code",
   "execution_count": 130,
   "id": "e56f550f",
   "metadata": {
    "ExecuteTime": {
     "end_time": "2024-11-11T03:37:42.507474Z",
     "start_time": "2024-11-11T03:37:42.502488Z"
    }
   },
   "outputs": [
    {
     "name": "stdout",
     "output_type": "stream",
     "text": [
      "True\n",
      "True\n",
      "True\n"
     ]
    }
   ],
   "source": [
    "# 예제1. 다음 리스트에서 소수점 이하가 0인 수만 출력하시오\n",
    "# filter 함수, 람다식이용 / filter_template / 리스트 컴프리헨션\n",
    "L = [1, 1.2, 1.5, 2, 3.0, 10.5, 100]\n",
    "# [1, 2, 3.0, 100]\n",
    "x = 2.0\n",
    "# print(x.is_integer())\n",
    "print(x % 1.0 == 0)\n",
    "print(x == round(x))\n",
    "print(x == x // 1)"
   ]
  },
  {
   "cell_type": "code",
   "execution_count": 136,
   "id": "ba225b28",
   "metadata": {
    "ExecuteTime": {
     "end_time": "2024-11-11T03:39:56.397512Z",
     "start_time": "2024-11-11T03:39:56.391844Z"
    }
   },
   "outputs": [
    {
     "name": "stdout",
     "output_type": "stream",
     "text": [
      "[1, 2, 3.0, 100]\n",
      "[1, 2, 3.0, 100]\n",
      "[1, 2, 3.0, 100]\n",
      "[1, 2, 3.0, 100]\n",
      "[1, 2, 3.0, 100]\n"
     ]
    }
   ],
   "source": [
    "# 1. filter 함수 이용\n",
    "print(list(filter(lambda x: x % 1.0 == 0, L)))\n",
    "print(list(filter(lambda x: x == round(x), L)))\n",
    "print(list(filter(lambda x: x == x // 1, L)))\n",
    "\n",
    "# 2. filter_template 함수 이용\n",
    "print(filter_template(lambda x: x == round(x), L))\n",
    "\n",
    "# 3. 리스트 컴프리헨션 이용\n",
    "print([x for x in L if x == round(x)])"
   ]
  },
  {
   "cell_type": "markdown",
   "id": "b8a280cc",
   "metadata": {},
   "source": [
    "**람다식은 함수가 실행할 문장이 한 문장의 return문일 경우만 사용**<br>\n",
    "**람다식이 가장 많이 사용되는 곳은 함수의 인수로 전달될 때** 나 함수를 return할 때"
   ]
  },
  {
   "cell_type": "code",
   "execution_count": 139,
   "id": "b5994dd8",
   "metadata": {
    "ExecuteTime": {
     "end_time": "2024-11-11T03:44:23.803069Z",
     "start_time": "2024-11-11T03:44:23.798051Z"
    }
   },
   "outputs": [
    {
     "name": "stdout",
     "output_type": "stream",
     "text": [
      "[10, 6, 3, 1]\n"
     ]
    }
   ],
   "source": [
    "# 예제 2. 베스트셀러 list(딕셔너리 list)를 가격순으로 sort\n",
    "p = [10, 3, 6, 1]\n",
    "p.sort(reverse=True) # 내림차순 정렬\n",
    "print(p)"
   ]
  },
  {
   "cell_type": "code",
   "execution_count": 142,
   "id": "12b34844",
   "metadata": {
    "ExecuteTime": {
     "end_time": "2024-11-11T03:46:01.892461Z",
     "start_time": "2024-11-11T03:46:01.885446Z"
    }
   },
   "outputs": [
    {
     "data": {
      "text/plain": [
       "[(1, 'one'), (2, 'two'), (3, 'three'), (4, 'four')]"
      ]
     },
     "execution_count": 142,
     "metadata": {},
     "output_type": "execute_result"
    }
   ],
   "source": [
    "# 튜플 list\n",
    "pairs = [(2, 'two'), (1, 'one'), (4, 'four'), (3, 'three')]\n",
    "pairs.sort()\n",
    "pairs"
   ]
  },
  {
   "cell_type": "code",
   "execution_count": 145,
   "id": "eba1af6f",
   "metadata": {
    "ExecuteTime": {
     "end_time": "2024-11-11T03:48:06.797549Z",
     "start_time": "2024-11-11T03:48:06.790546Z"
    }
   },
   "outputs": [
    {
     "data": {
      "text/plain": [
       "[(2, 'two'), (3, 'three'), (1, 'one'), (4, 'four')]"
      ]
     },
     "execution_count": 145,
     "metadata": {},
     "output_type": "execute_result"
    }
   ],
   "source": [
    "# sort 기준인 key를 lambda식으로 설정\n",
    "pairs.sort(key = lambda pair: pair[1], reverse=True)\n",
    "pairs"
   ]
  },
  {
   "cell_type": "code",
   "execution_count": 148,
   "id": "a0b2e11b",
   "metadata": {
    "ExecuteTime": {
     "end_time": "2024-11-11T03:51:17.618424Z",
     "start_time": "2024-11-11T03:51:17.602772Z"
    }
   },
   "outputs": [],
   "source": [
    "students = [{'name': '홍', 'score':99},\n",
    "            {'name': '이', 'score':22},\n",
    "            {'name': '김', 'score':77},\n",
    "            {'name': '박', 'score':66},]"
   ]
  },
  {
   "cell_type": "code",
   "execution_count": 162,
   "id": "73dd26fd",
   "metadata": {
    "ExecuteTime": {
     "end_time": "2024-11-11T03:56:31.813596Z",
     "start_time": "2024-11-11T03:56:31.806614Z"
    }
   },
   "outputs": [
    {
     "data": {
      "text/plain": [
       "[{'name': '김', 'score': 77},\n",
       " {'name': '박', 'score': 66},\n",
       " {'name': '이', 'score': 22},\n",
       " {'name': '홍', 'score': 99}]"
      ]
     },
     "execution_count": 162,
     "metadata": {},
     "output_type": "execute_result"
    }
   ],
   "source": [
    "# students를 이름, ㄱ, ㄴ, ㄷ 순 정렬\n",
    "students.sort(key = lambda student: student.get('name')) # 결측치 있을 경우를 고려하여 get() 이용\n",
    "students"
   ]
  },
  {
   "cell_type": "code",
   "execution_count": 163,
   "id": "0b76a559",
   "metadata": {
    "ExecuteTime": {
     "end_time": "2024-11-11T03:57:07.070485Z",
     "start_time": "2024-11-11T03:57:07.063502Z"
    }
   },
   "outputs": [
    {
     "data": {
      "text/plain": [
       "[{'name': '이', 'score': 22},\n",
       " {'name': '박', 'score': 66},\n",
       " {'name': '김', 'score': 77},\n",
       " {'name': '홍', 'score': 99}]"
      ]
     },
     "execution_count": 163,
     "metadata": {},
     "output_type": "execute_result"
    }
   ],
   "source": [
    "# students를 score순으로 오름차순 정렬\n",
    "students.sort(key = lambda student: student.get('score'))\n",
    "students"
   ]
  },
  {
   "cell_type": "code",
   "execution_count": 160,
   "id": "95db8951",
   "metadata": {
    "ExecuteTime": {
     "end_time": "2024-11-11T03:56:15.871191Z",
     "start_time": "2024-11-11T03:56:15.855544Z"
    }
   },
   "outputs": [
    {
     "data": {
      "text/plain": [
       "[{'name': '홍', 'score': 99},\n",
       " {'name': '김', 'score': 77},\n",
       " {'name': '박', 'score': 66},\n",
       " {'name': '이', 'score': 22}]"
      ]
     },
     "execution_count": 160,
     "metadata": {},
     "output_type": "execute_result"
    }
   ],
   "source": [
    "# students를 score순으로 내림차순 정렬\n",
    "students.sort(key = lambda student: student['score'], reverse=True)\n",
    "students"
   ]
  },
  {
   "cell_type": "code",
   "execution_count": 179,
   "id": "bab35b6e",
   "metadata": {
    "ExecuteTime": {
     "end_time": "2024-11-11T04:10:01.373197Z",
     "start_time": "2024-11-11T04:10:01.368204Z"
    }
   },
   "outputs": [],
   "source": [
    "# 도서 정보가 담긴 딕셔너리 list를 sort\n",
    "books = \\\n",
    "    [{'no':1, 'title':'소년이 온다', 'writer':'한강', 'price': '13,500'},\n",
    "     {'no':3, 'title':'트럼프2.0시대', 'writer':'박종훈', 'price': '18,000'},\n",
    "     {'no':2, 'title':'트렌드코리아2025', 'writer':'김난도', 'price': '9,100'},\n",
    "     {'no':4, 'title':'가격잘못', 'writer':'홍길동', 'price': 'ㅁ'},\n",
    "     {'no':5, 'title':'가격없음', 'writer':'신길동', 'price': 'None예정'},]"
   ]
  },
  {
   "cell_type": "code",
   "execution_count": 173,
   "id": "462d5f81",
   "metadata": {
    "ExecuteTime": {
     "end_time": "2024-11-11T04:08:39.246515Z",
     "start_time": "2024-11-11T04:08:39.239505Z"
    }
   },
   "outputs": [
    {
     "data": {
      "text/plain": [
       "[{'no': 1, 'title': '소년이 온다', 'writer': '한강', 'price': '13,500'},\n",
       " {'no': 2, 'title': '트렌드코리아2025', 'writer': '김난도', 'price': '18,100'},\n",
       " {'no': 3, 'title': '트럼프2.0시대', 'writer': '박종훈', 'price': '18,000'},\n",
       " {'no': 4, 'title': '가격잘못', 'writer': '홍길동', 'price': 'ㅁ'},\n",
       " {'no': 5, 'title': '가격없음', 'writer': '신길동', 'price': 'None예정'}]"
      ]
     },
     "execution_count": 173,
     "metadata": {},
     "output_type": "execute_result"
    }
   ],
   "source": [
    "books.sort(key = lambda book: book['no'])\n",
    "books"
   ]
  },
  {
   "cell_type": "code",
   "execution_count": 176,
   "id": "21a23564",
   "metadata": {
    "ExecuteTime": {
     "end_time": "2024-11-11T04:09:45.358244Z",
     "start_time": "2024-11-11T04:09:45.351374Z"
    }
   },
   "outputs": [
    {
     "data": {
      "text/plain": [
       "[{'no': 5, 'title': '가격없음', 'writer': '신길동'},\n",
       " {'no': 4, 'title': '가격잘못', 'writer': '홍길동', 'price': 'ㅁ'},\n",
       " {'no': 1, 'title': '소년이 온다', 'writer': '한강', 'price': '13,500'},\n",
       " {'no': 3, 'title': '트럼프2.0시대', 'writer': '박종훈', 'price': '18,000'},\n",
       " {'no': 2, 'title': '트렌드코리아2025', 'writer': '김난도', 'price': '9,100'}]"
      ]
     },
     "execution_count": 176,
     "metadata": {},
     "output_type": "execute_result"
    }
   ],
   "source": [
    "books.sort(key = lambda book: book['title'])\n",
    "books"
   ]
  },
  {
   "cell_type": "code",
   "execution_count": 180,
   "id": "2c1f196f",
   "metadata": {
    "ExecuteTime": {
     "end_time": "2024-11-11T04:10:03.707087Z",
     "start_time": "2024-11-11T04:10:03.699104Z"
    }
   },
   "outputs": [
    {
     "data": {
      "text/plain": [
       "[{'no': 4, 'title': '가격잘못', 'writer': '홍길동', 'price': 'ㅁ'},\n",
       " {'no': 5, 'title': '가격없음', 'writer': '신길동', 'price': 'None예정'},\n",
       " {'no': 2, 'title': '트렌드코리아2025', 'writer': '김난도', 'price': '9,100'},\n",
       " {'no': 3, 'title': '트럼프2.0시대', 'writer': '박종훈', 'price': '18,000'},\n",
       " {'no': 1, 'title': '소년이 온다', 'writer': '한강', 'price': '13,500'}]"
      ]
     },
     "execution_count": 180,
     "metadata": {},
     "output_type": "execute_result"
    }
   ],
   "source": [
    "books.sort(key = lambda book: book['price'], reverse=True)\n",
    "books"
   ]
  },
  {
   "cell_type": "code",
   "execution_count": 242,
   "id": "4ca37a77",
   "metadata": {
    "ExecuteTime": {
     "end_time": "2024-11-11T06:11:54.137922Z",
     "start_time": "2024-11-11T06:11:54.131424Z"
    }
   },
   "outputs": [],
   "source": [
    "# 가격 결측치로 변경\n",
    "books = \\\n",
    "    [{'no':1, 'title':'소년이 온다', 'writer':'한강', 'price': '13,500'},\n",
    "     {'no':3, 'title':'트럼프2.0시대', 'writer':'박종훈', 'price': '18,000'},\n",
    "     {'no':2, 'title':'트렌드코리아2025', 'writer':'김난도', 'price': '9,100'},\n",
    "     {'no':4, 'title':'가격잘못', 'writer':'홍길동', 'price': 'ㅁ'},\n",
    "     {'no':4, 'title':'가격숫자', 'writer':'신길동', 'price': 9200},\n",
    "     {'no':5, 'title':'가격없음', 'writer':'이길동'},] # price 데이터: 'None' type"
   ]
  },
  {
   "cell_type": "code",
   "execution_count": 209,
   "id": "2b54d127",
   "metadata": {
    "ExecuteTime": {
     "end_time": "2024-11-11T05:35:20.699479Z",
     "start_time": "2024-11-11T05:35:20.681552Z"
    }
   },
   "outputs": [
    {
     "ename": "TypeError",
     "evalue": "'<' not supported between instances of 'int' and 'str'",
     "output_type": "error",
     "traceback": [
      "\u001b[1;31m---------------------------------------------------------------------------\u001b[0m",
      "\u001b[1;31mTypeError\u001b[0m                                 Traceback (most recent call last)",
      "Cell \u001b[1;32mIn[209], line 2\u001b[0m\n\u001b[0;32m      1\u001b[0m \u001b[38;5;66;03m# get() 사용하더라도 type이 str로 통일되지 않아서(None 포함) Error\u001b[39;00m\n\u001b[1;32m----> 2\u001b[0m \u001b[43mbooks\u001b[49m\u001b[38;5;241;43m.\u001b[39;49m\u001b[43msort\u001b[49m\u001b[43m(\u001b[49m\u001b[43mkey\u001b[49m\u001b[43m \u001b[49m\u001b[38;5;241;43m=\u001b[39;49m\u001b[43m \u001b[49m\u001b[38;5;28;43;01mlambda\u001b[39;49;00m\u001b[43m \u001b[49m\u001b[43mbook\u001b[49m\u001b[43m:\u001b[49m\u001b[43m \u001b[49m\u001b[43mbook\u001b[49m\u001b[38;5;241;43m.\u001b[39;49m\u001b[43mget\u001b[49m\u001b[43m(\u001b[49m\u001b[38;5;124;43m'\u001b[39;49m\u001b[38;5;124;43mprice\u001b[39;49m\u001b[38;5;124;43m'\u001b[39;49m\u001b[43m)\u001b[49m\u001b[43m)\u001b[49m\n\u001b[0;32m      3\u001b[0m books\n",
      "\u001b[1;31mTypeError\u001b[0m: '<' not supported between instances of 'int' and 'str'"
     ]
    }
   ],
   "source": [
    "# get() 사용하더라도 type이 str로 통일되지 않아서(None 포함) Error\n",
    "books.sort(key = lambda book: book.get('price'))\n",
    "books"
   ]
  },
  {
   "cell_type": "code",
   "execution_count": 206,
   "id": "3dcdfdae",
   "metadata": {
    "ExecuteTime": {
     "end_time": "2024-11-11T05:35:00.158667Z",
     "start_time": "2024-11-11T05:35:00.152458Z"
    }
   },
   "outputs": [],
   "source": [
    "# 문자에서 [,]을 ''로 바꾸고, int로 형변환하는 함수\n",
    "# 데이터가 int / int변환 불가능한 str / NoneType일 경우를 고려\n",
    "# &  : 논리연산, 비트연산(숫자), 집합연산(set)이 모두 가능하므로, 좌항이 False여도,\n",
    "#      우항이 숫자면 비트연산을 수행해야 하므로 우항을 수행\n",
    "# and: 논리연산의 역할만 하므로, 좌항이 False면 우항 수행 안 함\n",
    "def parse_int(price):\n",
    "    # print(type(price))\n",
    "    if isinstance(price, str) and price.replace(',', '').isdigit(): # price가 str고, comma 제거한 str이 숫자형태일 때\n",
    "        print(price)\n",
    "    elif isinstance(price, int): # price가 int일 때\n",
    "        return price \n",
    "    else:\n",
    "        return 0"
   ]
  },
  {
   "cell_type": "code",
   "execution_count": 207,
   "id": "be4007db",
   "metadata": {
    "ExecuteTime": {
     "end_time": "2024-11-11T05:35:02.051468Z",
     "start_time": "2024-11-11T05:35:02.046483Z"
    }
   },
   "outputs": [
    {
     "name": "stdout",
     "output_type": "stream",
     "text": [
      "0\n",
      "0\n",
      "9200\n",
      "13,500\n",
      "None\n"
     ]
    }
   ],
   "source": [
    "print(parse_int('ㅁ'))     # 0\n",
    "print(parse_int(None))     # 0\n",
    "print(parse_int(9200))     # 9200 \n",
    "print(parse_int('13,500')) # 13,500"
   ]
  },
  {
   "cell_type": "code",
   "execution_count": 231,
   "id": "58400bbd",
   "metadata": {
    "ExecuteTime": {
     "end_time": "2024-11-11T05:49:03.497859Z",
     "start_time": "2024-11-11T05:49:03.489497Z"
    }
   },
   "outputs": [
    {
     "data": {
      "text/plain": [
       "[13500, 18000, 9100, 0, 9200, 0]"
      ]
     },
     "execution_count": 231,
     "metadata": {},
     "output_type": "execute_result"
    }
   ],
   "source": [
    "# book의 price에서 [,]를 빈스트링으로 변환, int 변환한 것을 return\n",
    "# price가 str일 경우 and\n",
    "# [,]를 빈스트링으로 변환한 값이 숫자 형태일 경우만\n",
    "# book의 price를 return\n",
    "# price가 int일 경우\n",
    "# 둘 다 아니면 0 return\n",
    "testFunc = lambda book: int(book.get('price').replace(',', '')) \\\n",
    "            if isinstance(book.get('price'), str) and \\\n",
    "                book.get('price').replace(',', '').isdigit()\\\n",
    "            else book.get('price') if isinstance(book.get('price'), int) \\\n",
    "                else 0\n",
    "[testFunc(book) for book in books]"
   ]
  },
  {
   "cell_type": "code",
   "execution_count": 243,
   "id": "ff2e291f",
   "metadata": {
    "ExecuteTime": {
     "end_time": "2024-11-11T06:11:57.617084Z",
     "start_time": "2024-11-11T06:11:57.610093Z"
    }
   },
   "outputs": [
    {
     "data": {
      "text/plain": [
       "[{'no': 3, 'title': '트럼프2.0시대', 'writer': '박종훈', 'price': '18,000'},\n",
       " {'no': 1, 'title': '소년이 온다', 'writer': '한강', 'price': '13,500'},\n",
       " {'no': 4, 'title': '가격숫자', 'writer': '신길동', 'price': 9200},\n",
       " {'no': 2, 'title': '트렌드코리아2025', 'writer': '김난도', 'price': '9,100'},\n",
       " {'no': 4, 'title': '가격잘못', 'writer': '홍길동', 'price': 'ㅁ'},\n",
       " {'no': 5, 'title': '가격없음', 'writer': '이길동'}]"
      ]
     },
     "execution_count": 243,
     "metadata": {},
     "output_type": "execute_result"
    }
   ],
   "source": [
    "# 람다식으로 변환\n",
    "# copyBooks = books.copy()\n",
    "books.sort(key = lambda book: int(book.get('price').replace(',', '')) \\\n",
    "               if isinstance(book.get('price'), str) \\\n",
    "                   and book.get('price').replace(',', '').isdigit() \\\n",
    "               else (book.get('price') if isinstance(book.get('price'), int) else 0),\n",
    "               reverse=True # 내림차순 정렬\n",
    "              )\n",
    "books # 원본 바뀜"
   ]
  },
  {
   "cell_type": "code",
   "execution_count": 244,
   "id": "4d85a66e",
   "metadata": {
    "ExecuteTime": {
     "end_time": "2024-11-11T06:14:43.591964Z",
     "start_time": "2024-11-11T06:14:43.586977Z"
    }
   },
   "outputs": [],
   "source": [
    "# map() 함수를 이용하여 [,]를 빈스트링으로, int 변환한 price를 return\n",
    "# map(func, books)\n",
    "\"\"\"\n",
    "{'no': 3, 'title': '트럼프2.0시대', 'writer': '박종훈', 'price': '8,000'}를 매개변수로\n",
    "받아 {'no': 3, 'title': '트럼프2.0시대', 'writer': '박종훈', 'price': 8000}로 return\n",
    "\"\"\""
   ]
  },
  {
   "cell_type": "code",
   "execution_count": 250,
   "id": "c6194813",
   "metadata": {
    "ExecuteTime": {
     "end_time": "2024-11-11T06:25:58.151131Z",
     "start_time": "2024-11-11T06:25:58.145126Z"
    }
   },
   "outputs": [],
   "source": [
    "def price_parse_int(book):\n",
    "    # sol 1. book.get('price')를 정수 가격으로\n",
    "    if isinstance(book.get('price'), str) \\\n",
    "        and book.get('price').replace(',', '').isdigit():\n",
    "            book['price'] = int(book['price'].replace(','), '')\n",
    "    elif isinstance(book.get('price'), int):\n",
    "        pass\n",
    "    else:\n",
    "        book['price'] = 0\n",
    "    return book"
   ]
  },
  {
   "cell_type": "code",
   "execution_count": 265,
   "id": "0b403675",
   "metadata": {
    "ExecuteTime": {
     "end_time": "2024-11-11T06:38:47.225649Z",
     "start_time": "2024-11-11T06:38:47.219664Z"
    }
   },
   "outputs": [
    {
     "data": {
      "text/plain": [
       "{'no': 3, 'title': '트럼프', 'writer': '박', 'price': 0}"
      ]
     },
     "execution_count": 265,
     "metadata": {},
     "output_type": "execute_result"
    }
   ],
   "source": [
    "# price가 NoneType인 경우 else문 실행\n",
    "bookTemp = {'no' : 3, \n",
    "            'title': '트럼프', \n",
    "            'writer': '박'}\n",
    "price_parse_int(bookTemp)"
   ]
  },
  {
   "cell_type": "code",
   "execution_count": 266,
   "id": "067ae5e1",
   "metadata": {
    "ExecuteTime": {
     "end_time": "2024-11-11T06:42:36.137649Z",
     "start_time": "2024-11-11T06:42:36.130638Z"
    }
   },
   "outputs": [
    {
     "data": {
      "text/plain": [
       "{'no': 3, 'title': '트럼프', 'writer': '박', 'price': 0}"
      ]
     },
     "execution_count": 266,
     "metadata": {},
     "output_type": "execute_result"
    }
   ],
   "source": [
    "# sol 2-1. book2 복사본을 만들어 books.get('price')를 정수 가격으로\n",
    "bookTemp = {'no' : 3, \n",
    "            'title': '트럼프', \n",
    "            'writer': '박'}\n",
    "returnBook = price_parse_int(bookTemp)\n",
    "returnBook"
   ]
  },
  {
   "cell_type": "code",
   "execution_count": 267,
   "id": "a2e3607e",
   "metadata": {
    "ExecuteTime": {
     "end_time": "2024-11-11T06:43:11.887626Z",
     "start_time": "2024-11-11T06:43:11.882639Z"
    }
   },
   "outputs": [
    {
     "data": {
      "text/plain": [
       "{'no': 3, 'title': '트럼프', 'writer': '박'}"
      ]
     },
     "execution_count": 267,
     "metadata": {},
     "output_type": "execute_result"
    }
   ],
   "source": [
    "bookTemp # vector 변수 불변"
   ]
  },
  {
   "cell_type": "code",
   "execution_count": 262,
   "id": "c894ac30",
   "metadata": {
    "ExecuteTime": {
     "end_time": "2024-11-11T06:38:14.931087Z",
     "start_time": "2024-11-11T06:38:14.924075Z"
    }
   },
   "outputs": [],
   "source": [
    "# sol 2-2. 람다식으로 변경\n",
    "def price_parse_int(book):\n",
    "    return {'no': book.get('no'),\n",
    "            'title': book.get('title'),\n",
    "            'writer': book.get('writer'),\n",
    "            'price': int(book['price'].replace(',', '')) \\\n",
    "                    if isinstance(book.get('price'), str) and \\\n",
    "                           book.get('price').replace(',', '').isdigit() \\\n",
    "                    else (book.get('price') \\\n",
    "                          if isinstance(book.get('price'), int) else 0)\n",
    "            }"
   ]
  },
  {
   "cell_type": "code",
   "execution_count": 268,
   "id": "d604e421",
   "metadata": {
    "ExecuteTime": {
     "end_time": "2024-11-11T06:45:56.672642Z",
     "start_time": "2024-11-11T06:45:56.665343Z"
    }
   },
   "outputs": [
    {
     "data": {
      "text/plain": [
       "{'no': 3, 'title': '트럼프', 'writer': '박', 'price': 0}"
      ]
     },
     "execution_count": 268,
     "metadata": {},
     "output_type": "execute_result"
    }
   ],
   "source": [
    "# 실행\n",
    "bookTemp = {'no' : 3, \n",
    "            'title': '트럼프', \n",
    "            'writer': '박'}\n",
    "price_parse_int(bookTemp)"
   ]
  },
  {
   "cell_type": "code",
   "execution_count": 269,
   "id": "0218ae0d",
   "metadata": {
    "ExecuteTime": {
     "end_time": "2024-11-11T06:45:58.231522Z",
     "start_time": "2024-11-11T06:45:58.225511Z"
    }
   },
   "outputs": [],
   "source": [
    "price_parse_int = lambda book: {'no': book.get('no'),\n",
    "            'title': book.get('title'),\n",
    "            'writer': book.get('writer'),\n",
    "            'price': int(book['price'].replace(',', '')) \\\n",
    "                    if isinstance(book.get('price'), str) and \\\n",
    "                           book.get('price').replace(',', '').isdigit() \\\n",
    "                    else (book.get('price') \\\n",
    "                          if isinstance(book.get('price'), int) else 0)\n",
    "            }"
   ]
  },
  {
   "cell_type": "code",
   "execution_count": 272,
   "id": "65637839",
   "metadata": {
    "ExecuteTime": {
     "end_time": "2024-11-11T06:47:24.981417Z",
     "start_time": "2024-11-11T06:47:24.971652Z"
    }
   },
   "outputs": [
    {
     "data": {
      "text/plain": [
       "[{'no': 3, 'title': '트럼프2.0시대', 'writer': '박종훈', 'price': 18000},\n",
       " {'no': 1, 'title': '소년이 온다', 'writer': '한강', 'price': 13500},\n",
       " {'no': 4, 'title': '가격숫자', 'writer': '신길동', 'price': 9200},\n",
       " {'no': 2, 'title': '트렌드코리아2025', 'writer': '김난도', 'price': 9100},\n",
       " {'no': 4, 'title': '가격잘못', 'writer': '홍길동', 'price': 0},\n",
       " {'no': 5, 'title': '가격없음', 'writer': '이길동', 'price': 0}]"
      ]
     },
     "execution_count": 272,
     "metadata": {},
     "output_type": "execute_result"
    }
   ],
   "source": [
    "# map() 매개변수에 람다식 삽입\n",
    "newBooks = list(map(lambda book: {'no': book.get('no'),\n",
    "            'title': book.get('title'),\n",
    "            'writer': book.get('writer'),\n",
    "            'price': int(book['price'].replace(',', '')) \\\n",
    "                    if isinstance(book.get('price'), str) and \\\n",
    "                           book.get('price').replace(',', '').isdigit() \\\n",
    "                    else (book.get('price') \\\n",
    "                          if isinstance(book.get('price'), int) else 0)\n",
    "            },\n",
    "            books\n",
    "        ))\n",
    "newBooks"
   ]
  },
  {
   "cell_type": "code",
   "execution_count": null,
   "id": "8c09ebea",
   "metadata": {},
   "outputs": [],
   "source": [
    "# 예제 3. \n",
    "\"\"\"\n",
    "예제 3. members = [{'name':'홍길동', 'birth':'2000-01-01'},\n",
    "                   {'name':'신길동', 'birth':'1995-12-18'}]를\n",
    "        members = [{'name':'홍길동', 'birth':'2000-01-01', 'year':2000, 'month':1, 'day':1},\n",
    "                   {'name':'신길동', 'birth':'1995-12-18', 'year':1995, 'month':12, 'day':18},]\n",
    "        로 바꿉니다\n",
    "\"\"\""
   ]
  },
  {
   "cell_type": "code",
   "execution_count": 355,
   "id": "7aaaad86",
   "metadata": {
    "ExecuteTime": {
     "end_time": "2024-11-11T08:12:31.120747Z",
     "start_time": "2024-11-11T08:12:31.112740Z"
    }
   },
   "outputs": [
    {
     "data": {
      "text/plain": [
       "{'year': 2001, 'month': 1, 'day': 8}"
      ]
     },
     "execution_count": 355,
     "metadata": {},
     "output_type": "execute_result"
    }
   ],
   "source": [
    "# '1995-01-01'을 받아 {'year':1995, 'month':1, 'day':1}을 return하는 함수\n",
    "members1= [{'name':'홍길동', 'birth':'2000-01-01'},\n",
    "           {'name':'신길동', 'birth':'1995-12-18'}]\n",
    "\n",
    "def split_date(date):\n",
    "    split_data = date.split('-')\n",
    "    return {\n",
    "        'year' : int(split_data[0]),\n",
    "        'month': int(split_data[1]),\n",
    "        'day'  : int(split_data[2])\n",
    "    }\n",
    "    \n",
    "split_date('2001-01-08')"
   ]
  },
  {
   "cell_type": "code",
   "execution_count": 304,
   "id": "c84b10fc",
   "metadata": {
    "ExecuteTime": {
     "end_time": "2024-11-11T07:33:56.167860Z",
     "start_time": "2024-11-11T07:33:56.162871Z"
    }
   },
   "outputs": [],
   "source": [
    "def split_birth(member): # 'name':'birth'\n",
    "    return {\n",
    "        'name': member.get('name'),\n",
    "        'year': int(member.get('birth').split('-')[0]),\n",
    "        'month': int(member.get('birth').split('-')[1]),\n",
    "        'day': int(member.get('birth').split('-')[2])\n",
    "    }"
   ]
  },
  {
   "cell_type": "code",
   "execution_count": 305,
   "id": "e4914c8f",
   "metadata": {
    "ExecuteTime": {
     "end_time": "2024-11-11T07:34:27.008644Z",
     "start_time": "2024-11-11T07:34:27.003040Z"
    }
   },
   "outputs": [
    {
     "data": {
      "text/plain": [
       "{'name': '홍길동', 'year': 1999, 'month': 12, 'day': 16}"
      ]
     },
     "execution_count": 305,
     "metadata": {},
     "output_type": "execute_result"
    }
   ],
   "source": [
    "split_birth({'name':'홍길동', 'birth':'1999-12-16'})"
   ]
  },
  {
   "cell_type": "code",
   "execution_count": 341,
   "id": "d34aea99",
   "metadata": {
    "ExecuteTime": {
     "end_time": "2024-11-11T07:55:49.402079Z",
     "start_time": "2024-11-11T07:55:49.398079Z"
    }
   },
   "outputs": [],
   "source": [
    "split_birth = lambda member : {\n",
    "                    'name' :member.get('name'),\n",
    "                    'year' :int(member.get('birth').split('-')[0]),\n",
    "                    'month':int(member.get('birth').split('-')[1]),\n",
    "                    'day'  :int(member.get('birth').split('-')[2]),\n",
    "                }"
   ]
  },
  {
   "cell_type": "code",
   "execution_count": 342,
   "id": "62042602",
   "metadata": {
    "ExecuteTime": {
     "end_time": "2024-11-11T07:55:49.698479Z",
     "start_time": "2024-11-11T07:55:49.693504Z"
    }
   },
   "outputs": [
    {
     "data": {
      "text/plain": [
       "{'name': '홍길동', 'year': 1999, 'month': 12, 'day': 16}"
      ]
     },
     "execution_count": 342,
     "metadata": {},
     "output_type": "execute_result"
    }
   ],
   "source": [
    "split_birth({'name':'홍길동', 'birth':'1999-12-16'})"
   ]
  },
  {
   "cell_type": "code",
   "execution_count": 352,
   "id": "c244606a",
   "metadata": {
    "ExecuteTime": {
     "end_time": "2024-11-11T08:12:12.716544Z",
     "start_time": "2024-11-11T08:12:12.710552Z"
    }
   },
   "outputs": [
    {
     "data": {
      "text/plain": [
       "[{'name': '홍길동', 'birth': '2000-01-01'},\n",
       " {'name': '신길동', 'birth': '1995-12-18'}]"
      ]
     },
     "execution_count": 352,
     "metadata": {},
     "output_type": "execute_result"
    }
   ],
   "source": [
    "members"
   ]
  },
  {
   "cell_type": "code",
   "execution_count": 356,
   "id": "5607bb00",
   "metadata": {
    "ExecuteTime": {
     "end_time": "2024-11-11T08:12:33.755164Z",
     "start_time": "2024-11-11T08:12:33.738341Z"
    }
   },
   "outputs": [
    {
     "data": {
      "text/plain": [
       "[{'name': '홍길동', 'year': 2000, 'month': 1, 'day': 1},\n",
       " {'name': '신길동', 'year': 1995, 'month': 12, 'day': 18}]"
      ]
     },
     "execution_count": 356,
     "metadata": {},
     "output_type": "execute_result"
    }
   ],
   "source": [
    "members2 = list(map(lambda member : {\n",
    "                    'name' :member.get('name'),\n",
    "                    'year' :int(member.get('birth').split('-')[0]),\n",
    "                    'month':int(member.get('birth').split('-')[1]),\n",
    "                    'day'  :int(member.get('birth').split('-')[2]),\n",
    "                }, members1))\n",
    "members2"
   ]
  },
  {
   "cell_type": "code",
   "execution_count": 326,
   "id": "84f6268b",
   "metadata": {
    "ExecuteTime": {
     "end_time": "2024-11-11T07:46:28.056446Z",
     "start_time": "2024-11-11T07:46:28.052481Z"
    }
   },
   "outputs": [],
   "source": [
    "def join_date(date): # {year': 1995, 'month': 12, 'day': 18} => \"1995-12-18\"\n",
    "    return '{year}-{month:02}-{day:02}'.format(**date) # 딕셔너리 언패킹\n",
    "# 포맷팅 마지막 예제 참고"
   ]
  },
  {
   "cell_type": "code",
   "execution_count": 327,
   "id": "bad231f7",
   "metadata": {
    "ExecuteTime": {
     "end_time": "2024-11-11T07:46:29.920175Z",
     "start_time": "2024-11-11T07:46:29.914244Z"
    }
   },
   "outputs": [
    {
     "data": {
      "text/plain": [
       "'1995-01-01'"
      ]
     },
     "execution_count": 327,
     "metadata": {},
     "output_type": "execute_result"
    }
   ],
   "source": [
    "join_date({'year':1995, 'month': 1, 'day': 1})"
   ]
  },
  {
   "cell_type": "code",
   "execution_count": 350,
   "id": "5c85af20",
   "metadata": {
    "ExecuteTime": {
     "end_time": "2024-11-11T07:57:41.306370Z",
     "start_time": "2024-11-11T07:57:41.301393Z"
    }
   },
   "outputs": [],
   "source": [
    "def join_birth(member):\n",
    "    name = member['name']\n",
    "    join_date = '{year}-{month:02}-{day:02}'.format(**member)\n",
    "    return {\n",
    "        'name': name,\n",
    "        'birth': join_date\n",
    "    }"
   ]
  },
  {
   "cell_type": "code",
   "execution_count": 331,
   "id": "90944661",
   "metadata": {
    "ExecuteTime": {
     "end_time": "2024-11-11T07:51:46.235016Z",
     "start_time": "2024-11-11T07:51:46.228055Z"
    }
   },
   "outputs": [
    {
     "name": "stdout",
     "output_type": "stream",
     "text": [
      "{'year': 1995, 'month': 1, 'day': 2}\n"
     ]
    },
    {
     "data": {
      "text/plain": [
       "{'name': 'kim', 'birth': '1995-01-02'}"
      ]
     },
     "execution_count": 331,
     "metadata": {},
     "output_type": "execute_result"
    }
   ],
   "source": [
    "join_birth({'name':'kim', 'year':1995, 'month':1, 'day':2})"
   ]
  },
  {
   "cell_type": "code",
   "execution_count": 358,
   "id": "a3142dd5",
   "metadata": {
    "ExecuteTime": {
     "end_time": "2024-11-11T08:12:53.626029Z",
     "start_time": "2024-11-11T08:12:53.619695Z"
    }
   },
   "outputs": [
    {
     "data": {
      "text/plain": [
       "[{'name': '홍길동', 'year': 2000, 'month': 1, 'day': 1},\n",
       " {'name': '신길동', 'year': 1995, 'month': 12, 'day': 18}]"
      ]
     },
     "execution_count": 358,
     "metadata": {},
     "output_type": "execute_result"
    }
   ],
   "source": [
    "members2"
   ]
  },
  {
   "cell_type": "code",
   "execution_count": 360,
   "id": "43775b88",
   "metadata": {
    "ExecuteTime": {
     "end_time": "2024-11-11T08:13:03.922721Z",
     "start_time": "2024-11-11T08:13:03.916732Z"
    }
   },
   "outputs": [
    {
     "data": {
      "text/plain": [
       "[{'name': '홍길동', 'birth': '2000-01-01'},\n",
       " {'name': '신길동', 'birth': '1995-12-18'}]"
      ]
     },
     "execution_count": 360,
     "metadata": {},
     "output_type": "execute_result"
    }
   ],
   "source": [
    "members1 = list(map(join_birth, members2))\n",
    "members1"
   ]
  },
  {
   "cell_type": "markdown",
   "id": "63366675",
   "metadata": {},
   "source": [
    "## 4.3  return문에 람다식 사용"
   ]
  },
  {
   "cell_type": "code",
   "execution_count": 366,
   "id": "ee995291",
   "metadata": {
    "ExecuteTime": {
     "end_time": "2024-11-11T08:17:24.275279Z",
     "start_time": "2024-11-11T08:17:24.268268Z"
    }
   },
   "outputs": [
    {
     "data": {
      "text/plain": [
       "1"
      ]
     },
     "execution_count": 366,
     "metadata": {},
     "output_type": "execute_result"
    }
   ],
   "source": [
    "# 매개변수에 함수를 사용\n",
    "# apply() 함수\n",
    "def apply(data, func = None):\n",
    "    # if func == None:\n",
    "    if func is None:\n",
    "        return data\n",
    "    else:\n",
    "        return func(data)"
   ]
  },
  {
   "cell_type": "code",
   "execution_count": 367,
   "id": "1e2c1690",
   "metadata": {
    "ExecuteTime": {
     "end_time": "2024-11-11T08:18:14.433354Z",
     "start_time": "2024-11-11T08:18:14.428348Z"
    }
   },
   "outputs": [
    {
     "name": "stdout",
     "output_type": "stream",
     "text": [
      "2\n",
      "8\n"
     ]
    }
   ],
   "source": [
    "print(apply(2))\n",
    "print(apply(2, lambda x: x ** 3))"
   ]
  },
  {
   "cell_type": "code",
   "execution_count": null,
   "id": "9d3570f1",
   "metadata": {},
   "outputs": [],
   "source": [
    "# 함수를 return\n",
    "\"\"\"\n",
    "리스트, 튜플 둘 다 무관\n",
    "make_box([2, 3]) => 2차원 2행 3열짜리 list를 만드는 함수를 return\n",
    "    fun = make_box([2, 3])\n",
    "    fun(5) => [[5, 5, 5],\n",
    "               [5, 5, 5]]\n",
    "make_box((2, ))  => 1차원 2열짜리 list를 만드는 함수를 return\n",
    "    fun = make_box([2])\n",
    "    fun(7) => [7, 7]\n",
    "\"\"\""
   ]
  },
  {
   "cell_type": "code",
   "execution_count": 368,
   "id": "2446ceab",
   "metadata": {
    "ExecuteTime": {
     "end_time": "2024-11-11T08:28:14.963656Z",
     "start_time": "2024-11-11T08:28:14.956676Z"
    }
   },
   "outputs": [],
   "source": [
    "def make_box(shape): # [x], [x, y]\n",
    "    def box(init_value):                              # 함수 내에 함수 생성\n",
    "        if len(shape) == 1:                           # 매개변수 길이 1이면\n",
    "            return [init_value]*shape[0]              # 1차원 list 반환\n",
    "        elif len(shape) == 2:                         # 매개변수 길이 2면\n",
    "            return [ [init_value]*shape[1] ]*shape[0] # 2차원 list 반환\n",
    "    return box                                        # box() 함수를 return "
   ]
  },
  {
   "cell_type": "code",
   "execution_count": 374,
   "id": "499b1415",
   "metadata": {
    "ExecuteTime": {
     "end_time": "2024-11-11T08:34:32.881656Z",
     "start_time": "2024-11-11T08:34:32.876682Z"
    }
   },
   "outputs": [],
   "source": [
    "# return하는 함수를 람다식으로 변환\n",
    "def make_box(shape):\n",
    "    if len(shape) == 1:\n",
    "        return lambda init_value: [init_value]*shape[0]\n",
    "    elif len(shape) == 2:\n",
    "        return lambda init_value: [ [init_value]*shape[1] ] * shape[0]"
   ]
  },
  {
   "cell_type": "code",
   "execution_count": 375,
   "id": "a491a791",
   "metadata": {
    "ExecuteTime": {
     "end_time": "2024-11-11T08:34:34.412476Z",
     "start_time": "2024-11-11T08:34:34.406266Z"
    }
   },
   "outputs": [
    {
     "data": {
      "text/plain": [
       "[5, 5, 5]"
      ]
     },
     "execution_count": 375,
     "metadata": {},
     "output_type": "execute_result"
    }
   ],
   "source": [
    "line_fun = make_box((3, ))\n",
    "line_fun(5) # 5로 이루어진 3열짜리 list"
   ]
  },
  {
   "cell_type": "code",
   "execution_count": 376,
   "id": "14ee7f7c",
   "metadata": {
    "ExecuteTime": {
     "end_time": "2024-11-11T08:34:36.007522Z",
     "start_time": "2024-11-11T08:34:35.996928Z"
    }
   },
   "outputs": [
    {
     "data": {
      "text/plain": [
       "[[5, 5, 5], [5, 5, 5], [5, 5, 5], [5, 5, 5]]"
      ]
     },
     "execution_count": 376,
     "metadata": {},
     "output_type": "execute_result"
    }
   ],
   "source": [
    "box2d_fun = make_box((4, 3))\n",
    "box2d_fun(5) # 5로 이루어진 2차원 4행 3열짜리 list"
   ]
  },
  {
   "cell_type": "markdown",
   "id": "e7e82ba2",
   "metadata": {},
   "source": [
    "# 5절. 파이썬 내장함수\n",
    "- import하지 않고 바로 사용 가능한 함수\n",
    "- 키워드처럼 간주되므로, 식별자로 사용하는 것을 피한다"
   ]
  },
  {
   "cell_type": "code",
   "execution_count": 380,
   "id": "5e830e95",
   "metadata": {
    "ExecuteTime": {
     "end_time": "2024-11-11T08:39:28.450272Z",
     "start_time": "2024-11-11T08:39:28.444287Z"
    }
   },
   "outputs": [
    {
     "data": {
      "text/plain": [
       "6"
      ]
     },
     "execution_count": 380,
     "metadata": {},
     "output_type": "execute_result"
    }
   ],
   "source": [
    "int('6')\n",
    "# float나 ''는 int로 형변환 불가"
   ]
  },
  {
   "cell_type": "code",
   "execution_count": 383,
   "id": "ec93305a",
   "metadata": {
    "ExecuteTime": {
     "end_time": "2024-11-11T08:40:28.614169Z",
     "start_time": "2024-11-11T08:40:28.495287Z"
    }
   },
   "outputs": [
    {
     "data": {
      "text/plain": [
       "{'__name__': '__main__',\n",
       " '__doc__': 'Automatically created module for IPython interactive environment',\n",
       " '__package__': None,\n",
       " '__loader__': None,\n",
       " '__spec__': None,\n",
       " '__builtin__': <module 'builtins' (built-in)>,\n",
       " '__builtins__': <module 'builtins' (built-in)>,\n",
       " '_ih': ['',\n",
       "  'def add(a, b):\\n    return a + b',\n",
       "  'def add(a, b):\\n    return a + b\\nadd(3, 5)',\n",
       "  'add2 = add',\n",
       "  'add2 = add\\nadd2(10, 20)',\n",
       "  'add2 = lambda a, b\\nadd2(10, 20)',\n",
       "  'add2 = lambda a, b: a + b\\nadd2(10, 20)',\n",
       "  'print(type(add), type(add2))',\n",
       "  '# 익명 함수, 바로 호출 가능\\n(lambda a, b: a + b)(3, 5)',\n",
       "  '# 아래 형식에 익숙해지자\\ndiff2 = lambda a, b: a - b if a >= b else b - a ',\n",
       "  '# if문 사용한 lambda함수\\n# a와 b의 차이를 return \\ndef diff(a, b):\\n    if a >= b:\\n        return a - b\\n    else:\\n        return b - a ',\n",
       "  'print(diff(3, 5), diff(5, 3), diff2(3, 5), diff2(5, 3))',\n",
       "  'print(diff(3, 5), diff(5, 3), diff2(3, 5), diff2(5, 3))\\nprint(type(diff), type(diff2))',\n",
       "  \"# 매개변수로 잔액을 받아 잔액이 음수면 'negative'라고 출력, 양수면 잔액을 출력\\ndef get_balance(balance):\\n    if balance >= 0:\\n        return balance\\n    else:\\n        return 'negative'\",\n",
       "  'get_balance(100)',\n",
       "  \"get_balance = lambda balance: balance if balance >= 0 else 'negative' \",\n",
       "  'get_balance(100)',\n",
       "  \"balance = -500\\nif balance >= 0::\\n    result = balance\\nelse:\\n    result = 'negative'\\nresult\",\n",
       "  \"balance = -500\\nif balance >= 0:\\n    result = balance\\nelse:\\n    result = 'negative'\\nresult\",\n",
       "  \"# 자바의 3항연산자와 유사 \\nresult = balance if balance >= 0 else 'negative'\\n#        balance >= 0 ? balance : 'negative'\",\n",
       "  \"# 자바의 3항연산자와 유사 \\nresult = balance if balance >= 0 else 'negative'\\n#        balance >= 0 ? balance : 'negative'\",\n",
       "  \"# 자바의 3항연산자와 유사 \\nbalance = -500\\nbalance if balance >= 0 else 'negative'\\n#        balance >= 0 ? balance : 'negative'\",\n",
       "  \"# 자바의 3항연산자와 유사 \\n\\nbalance if balance >= 0 else 'negative'\\n#        balance >= 0 ? balance : 'negative'\",\n",
       "  \"# 자바의 3항연산자와 유사 \\nbalance = -500\\nbalance if balance >= 0 else 'negative'\\n#        balance >= 0 ? balance : 'negative'\",\n",
       "  \"# 자바의 3항연산자와 유사 \\nbalance = 500\\nbalance if balance >= 0 else 'negative'\\n#        balance >= 0 ? balance : 'negative'\",\n",
       "  \"# 자바의 3항연산자와 유사 \\nbalance = -500\\nbalance if balance >= 0 else 'negative'\\n#        balance >= 0 ? balance : 'negative'\",\n",
       "  '# 아래의 함수도 람다식으로 바꿀 수 있음\\nlst = [1, 2, 3]\\nlst.index(1)',\n",
       "  '# 아래의 함수도 람다식으로 바꿀 수 있음\\nlst = [1, 2, 3]\\nlst.index(4)',\n",
       "  '# 아래의 함수도 람다식으로 바꿀 수 있음\\nv = [1, 2, 3]\\nv.index(1)\\ndef safe_index(vector, item)',\n",
       "  '# 아래의 함수도 람다식으로 바꿀 수 있음\\nv = [1, 2, 3]\\nv.index(1)\\n# def safe_index(v, item)',\n",
       "  '# 아래의 함수도 람다식으로 바꿀 수 있음\\nv = [1, 2, 3]\\nv.index(4)\\n# def safe_index(v, item)',\n",
       "  '# 아래의 함수도 람다식으로 바꿀 수 있음\\nv = [1, 2, 3]\\nv.index(4) # ValueError: 4 is not in list\\ndef safe_index(vector, item):\\n    if item in vector:\\n        return vector.index(item)\\n    else:\\n        return -1\\nsafe_index(v, 4)',\n",
       "  '# 아래의 함수도 람다식으로 바꿀 수 있음\\nv = [1, 2, 3]\\n# v.index(4) # ValueError: 4 is not in list\\ndef safe_index(vector, item):\\n    if item in vector:\\n        return vector.index(item)\\n    else:\\n        return -1\\nsafe_index(v, 4)',\n",
       "  '# 아래의 함수도 람다식으로 바꿀 수 있음\\nv = [1, 2, 3]\\n# v.index(4) # ValueError: 4 is not in list\\ndef safe_index(vector, item):\\n    if item in vector:\\n        return vector.index(item)\\n    else:\\n        return -1\\nsafe_index(v, 1), safe_index(v, 4)',\n",
       "  'lambda vector, item: vector.index(item) if item in vector else -1',\n",
       "  'def safe_index(vector, item):\\n    return vector.index(item) if item in vector else -1',\n",
       "  '# sol 3(lambda식)\\nsafe_index = lambda vector, item: vector.index(item) if item in vector else -1',\n",
       "  '# sol 3(lambda식)\\nsafe_index = lambda vector, item: vector.index(item) if item in vector else -1\\nsafe_index(v, 3)',\n",
       "  '# sol 3(lambda식)\\nsafe_index = lambda vector, item: vector.index(item) if item in vector else -1\\nsafe_index(v, 4)',\n",
       "  '# sol 3(lambda식)\\nsafe_index = lambda vector, item: vector.index(item) if item in vector else -1\\nsafe_index(v, 999)',\n",
       "  '# sol 3(lambda식)\\nsafe_index = lambda vector, item: vector.index(item) \\\\\\n                                if item in vector else -1\\nsafe_index(v, 999)',\n",
       "  '# sol 3(lambda식)\\nsafe_index = lambda vector, item: vector.index(item) \\\\\\n                                if item in vector else -1\\nsafe_index([1, 2, 3, 4], 1)',\n",
       "  '# sol 3(lambda식)\\nsafe_index = lambda vector, item: vector.index(item) \\\\\\n                                if item in vector else -1\\nsafe_index([1, 2, 3, 4], 1)',\n",
       "  '# sol 3(lambda식)\\nsafe_index = lambda vector, item: vector.index(item) \\\\\\n                                if item in vector else -1\\nsafe_index([1, 2, 3, 4], 1), safe_index((1, 2, 3), 5)',\n",
       "  \"# 매개변수로 들어온 값이 짝수면 '짝수'를, '홀수'면 '홀수'를 return하는 lambda식\\neven_odd_chk = lambda num: '짝수' if num % 2 == 0 else '홀수'\",\n",
       "  'even_odd_chk(4)',\n",
       "  'even_odd_chk(7)',\n",
       "  'even_odd_chk(7), even_odd_chk(-8)',\n",
       "  \"# 조건 여러 개일 때 lambda식\\ndef levelChk(score):\\n    if score >= 80:\\n        return 'A등급'\\n    elif score >= 60:\\n        return 'B등급'\\n    else:\\n        return '재시험'\",\n",
       "  \"# 조건 여러 개일 때 lambda식\\ndef levelChk(score):\\n    if score >= 80:\\n        return 'A등급'\\n    elif score >= 60:\\n        return 'B등급'\\n    else:\\n        return '재시험'\\nlevelChk(65)\",\n",
       "  \"# 조건 여러 개일 때 lambda식\\ndef levelChk(score):\\n    if score >= 80:\\n        return 'A등급'\\n    elif score >= 60:\\n        return 'B등급'\\n    else:\\n        return '재시험'\\nlevelChk(65), levelChk(-9)\",\n",
       "  \"# else문 안에 조건식 삽입\\nlevelChk = lambda score: 'A등급' if score >= 80 \\\\\\n                        else ('B등급' if score >= 60 else '재시험')\\nlevelChk(90), levelChk(55)\",\n",
       "  \"score_grade = lambda score 'A' if 90 <= score <= 100 \\\\\\n                            else ('B' if 80 <= score < 90 \\\\ \\n                            else ('C' if 70 <= score < 80 \\\\\\n                            else ('D' if 60 <= score < 70 \\\\\\n                            else ('F' if 0 <= score < 60 else ('유효하지 않은 점수 등급')))))\",\n",
       "  \"score_grade = lambda score: 'A' if 90 <= score <= 100 \\\\\\n                            else ('B' if 80 <= score < 90 \\\\ \\n                            else ('C' if 70 <= score < 80 \\\\\\n                            else ('D' if 60 <= score < 70 \\\\\\n                            else ('F' if 0 <= score < 60 else ('유효하지 않은 점수 등급')))))\",\n",
       "  \"score_grade = lambda score: 'A' if 90 <= score <= 100 else\\\\\\n                             ('B' if 80 <= score < 90 else\\\\ \\n                             ('C' if 70 <= score < 80 else\\\\\\n                             ('D' if 60 <= score < 70 else\\\\\\n                             ('F' if 0 <= score < 60 else ('유효하지 않은 점수 등급'))))\",\n",
       "  \"score_grade = lambda score: 'A' if 90 <= score <= 100 else\\\\\\n                             'B' if 80 <= score < 90 else\\\\ \\n                             'C' if 70 <= score < 80 else\\\\\\n                             'D' if 60 <= score < 70 else\\\\\\n                             'F' if 0 <= score < 60 else '유효하지 않은 점수 등급'\",\n",
       "  \"score_grade = lambda score: 'A' if 90 <= score <= 100 else \\\\\\n                             'B' if 80 <= score < 90 else \\\\ \\n                             'C' if 70 <= score < 80 else \\\\\\n                             'D' if 60 <= score < 70 else \\\\\\n                             'F' if 0 <= score < 60 else '유효하지 않은 점수 등급'\",\n",
       "  \"score_grade = lambda score: 'A' if 90 <= score <= 100 else \\\\\\n                             'B' if 80 <= score < 90 else \\\\\\n                             'C' if 70 <= score < 80 else \\\\\\n                             'D' if 60 <= score < 70 else \\\\\\n                             'F' if 0 <= score < 60 else '유효하지 않은 점수 등급'\",\n",
       "  \"score_grade = lambda score: 'A' if 90 <= score <= 100 else \\\\\\n                             'B' if 80 <= score < 90 else \\\\\\n                             'C' if 70 <= score < 80 else \\\\\\n                             'D' if 60 <= score < 70 else \\\\\\n                             'F' if 0 <= score < 60 else '유효하지 않은 점수 등급'\",\n",
       "  \"score_grade = lambda score: 'A' if 90 <= score <= 100 else \\\\\\n                            'B' if 80 <= score < 90 else \\\\\\n                            'C' if 70 <= score < 80 else \\\\\\n                            'D' if 60 <= score < 70 else \\\\\\n                            'F' if 0 <= score < 60 else '유효하지 않은 점수 등급'\",\n",
       "  'add = lambda a, b: a + b\\nsub = lambda a, b: a - b\\nmul = lambda a, b: a * b\\ndiv = lambda a, b: a / b\\nadd(3, 0)',\n",
       "  'add = lambda a, b: a + b\\nsub = lambda a, b: a - b\\nmul = lambda a, b: a * b\\ndiv = lambda a, b: a / b\\nadd(3, 0), div(3, 0)',\n",
       "  \"add = lambda a, b: a + b\\nsub = lambda a, b: a - b\\nmul = lambda a, b: a * b\\ndiv = lambda a, b: a / b if b != 0 else '두 번째 인자가 0이면 나눌 수 없습니다'\\nadd(3, 0), div(3, 0)\",\n",
       "  \"add = lambda a, b: a + b\\nsub = lambda a, b: a - b\\nmul = lambda a, b: a * b\\ndiv = lambda a, b: a / b if b != 0 else '두 번째 인자가 0이면 나눌 수 없습니다'\\nadd(3, 0), div(3, 0)\\n\\ni = 10\\nj = 20\\nlst[i, j]\\nlst\",\n",
       "  \"add = lambda a, b: a + b\\nsub = lambda a, b: a - b\\nmul = lambda a, b: a * b\\ndiv = lambda a, b: a / b if b != 0 else '두 번째 인자가 0이면 나눌 수 없습니다'\\nadd(3, 0), div(3, 0)\\n\\ni = 10\\nj = 20\\nlst =  [i, j]\\nlst\",\n",
       "  \"add = lambda a, b: a + b\\nsub = lambda a, b: a - b\\nmul = lambda a, b: a * b\\ndiv = lambda a, b: a / b if b != 0 else '두 번째 인자가 0이면 나눌 수 없습니다'\\nadd(3, 0), div(3, 0)\\n\\ni = 10\\nj = 20\\nlst = [i, j]\\nlst\",\n",
       "  \"add = lambda a, b: a + b\\nsub = lambda a, b: a - b\\nmul = lambda a, b: a * b\\ndiv = lambda a, b: a / b if b != 0 else '두 번째 인자가 0이면 나눌 수 없습니다'\\nadd(3, 0), div(3, 0)\\n\\ni = 10\\nj = 20\\nlst = [i, j]\\nlst\\n\\n# 리스트(operations)에 람다식 삽입\\noperations = [add = lambda a, b: a + b,\\n              sub = lambda a, b: a - b,\\n              mul = lambda a, b: a * b,\\n              div = lambda a, b: a / b if b != 0 else '두 번째 인자가 0이면 나눌 수 없습니다']\",\n",
       "  \"add = lambda a, b: a + b\\nsub = lambda a, b: a - b\\nmul = lambda a, b: a * b\\ndiv = lambda a, b: a / b if b != 0 else '두 번째 인자가 0이면 나눌 수 없습니다'\\nadd(3, 0), div(3, 0)\\n\\ni = 10\\nj = 20\\nlst = [i, j]\\nlst\\n\\n# 리스트(operations)에 람다식 삽입\\noperations = [lambda a, b: a + b,\\n              lambda a, b: a - b,\\n              lambda a, b: a * b,\\n              lambda a, b: a / b if b != 0 else '두 번째 인자가 0이면 나눌 수 없습니다']\",\n",
       "  \"add = lambda a, b: a + b\\nsub = lambda a, b: a - b\\nmul = lambda a, b: a * b\\ndiv = lambda a, b: a / b if b != 0 else '두 번째 인자가 0이면 나눌 수 없습니다'\\nadd(3, 0), div(3, 0)\\n\\ni = 10\\nj = 20\\nlst = [i, j]\\nlst\\n\\n# 리스트(operations)에 람다식 삽입\\noperations = [add, sub, mul, div]\",\n",
       "  \"add = lambda a, b: a + b\\nsub = lambda a, b: a - b\\nmul = lambda a, b: a * b\\ndiv = lambda a, b: a / b if b != 0 else '두 번째 인자가 0이면 나눌 수 없습니다'\\nadd(3, 0), div(3, 0)\\n\\ni = 10\\nj = 20\\nlst = [i, j]\\nlst\\n\\n# 리스트(operations)에 람다식 삽입\\noperations = [add, sub, mul, div]\\n# 매개변수로 함수 list가 옴\\n# 함수명과 변수명은 같을 수 없음\\ndef act_operations(a, b, operations = operations):\\n    \",\n",
       "  'act_operations(10, 20)',\n",
       "  \"add = lambda a, b: a + b\\nsub = lambda a, b: a - b\\nmul = lambda a, b: a * b\\ndiv = lambda a, b: a / b if b != 0 else '두 번째 인자가 0이면 나눌 수 없습니다'\\nadd(3, 0), div(3, 0)\\n\\ni = 10\\nj = 20\\nlst = [i, j]\\nlst\\n\\n# 리스트(operations)에 람다식 삽입\\noperations = [add, sub, mul, div]\\n# 매개변수로 함수 list가 옴\\n# 함수명과 변수명은 같을 수 없음\\ndef act_operations(a, b, operations = operations):\\n    return [a + b, a - b, a * b, a / b]\",\n",
       "  'act_operations(10, 20)',\n",
       "  \"add = lambda a, b: a + b\\nsub = lambda a, b: a - b\\nmul = lambda a, b: a * b\\ndiv = lambda a, b: a / b if b != 0 else '두 번째 인자가 0이면 나눌 수 없습니다'\\nadd(3, 0), div(3, 0)\\n\\ni = 10\\nj = 20\\nlst = [i, j]\\nlst\\n\\n# 리스트(operations)에 람다식 삽입\\noperations = [add, sub, mul, div]\\n# 매개변수로 함수 list가 옴(for문 출력 가능)\\n# 함수명과 변수명은 같을 수 없음\\ndef act_operations(a, b, operations = operations):\\n    result = []\\n    for op in operations:\\n        result.append(op(a, b))\\n    return result\",\n",
       "  'act_operations(10, 20)',\n",
       "  \"# 사칙연산 lambda식\\nadd = lambda a, b: a + b\\nsub = lambda a, b: a - b\\nmul = lambda a, b: a * b\\ndiv = lambda a, b: a / b if b != 0 else '두 번째 인자가 0이면 나눌 수 없습니다'\\nadd(3, 0), div(3, 0)\\n\\ni = 10\\nj = 20\\nlst = [i, j]\\nlst\\n\\n# 리스트(operations)에 람다식 삽입\\noperations = [add, sub, mul, div]\\n# 매개변수로 함수 list가 옴(for문 출력 가능)\\n# 함수명과 변수명은 같을 수 없음\\ndef act_operations(a, b, operations = operations):\\n    result = []\\n    for op in operations:\\n        result.append(op(a, b))\\n    return result\\n# def pow(a, b):\\n#     return a ** b\\n# 제곱을 return하는 람다식을 list에 추가\\noperations.appen(lambda a, b: a ** b)\\nprint(act_operations(10,2))\",\n",
       "  \"# 사칙연산 lambda식\\nadd = lambda a, b: a + b\\nsub = lambda a, b: a - b\\nmul = lambda a, b: a * b\\ndiv = lambda a, b: a / b if b != 0 else '두 번째 인자가 0이면 나눌 수 없습니다'\\nadd(3, 0), div(3, 0)\\n\\ni = 10\\nj = 20\\nlst = [i, j]\\nlst\\n\\n# 리스트(operations)에 람다식 삽입\\noperations = [add, sub, mul, div]\\n# 매개변수로 함수 list가 옴(for문 출력 가능)\\n# 함수명과 변수명은 같을 수 없음\\ndef act_operations(a, b, operations = operations):\\n    result = []\\n    for op in operations:\\n        result.append(op(a, b))\\n    return result\\n# def pow(a, b):\\n#     return a ** b\\n# 제곱을 return하는 람다식을 list에 추가\\noperations.appen(lambda a, b: a ** b)\\nprint(act_operations(10, 2))\",\n",
       "  \"# 사칙연산 lambda식\\nadd = lambda a, b: a + b\\nsub = lambda a, b: a - b\\nmul = lambda a, b: a * b\\ndiv = lambda a, b: a / b if b != 0 else '두 번째 인자가 0이면 나눌 수 없습니다'\\nadd(3, 0), div(3, 0)\\n\\ni = 10\\nj = 20\\nlst = [i, j]\\nlst\\n\\n# 리스트(operations)에 람다식 삽입\\noperations = [add, sub, mul, div]\\n# 매개변수로 함수 list가 옴(for문 출력 가능)\\n# 함수명과 변수명은 같을 수 없음\\ndef act_operations(a, b, operations = operations):\\n    result = []\\n    for op in operations:\\n        result.append(op(a, b))\\n    return result\\n# def pow(a, b):\\n#     return a ** b\\n# 제곱을 return하는 람다식을 list에 추가\\noperations.append(lambda a, b: a ** b)\\nprint(act_operations(10, 2))\",\n",
       "  \"# 사칙연산 lambda식\\nadd = lambda a, b: a + b\\nsub = lambda a, b: a - b\\nmul = lambda a, b: a * b\\ndiv = lambda a, b: a / b if b != 0 else '두 번째 인자가 0이면 나눌 수 없습니다'\\nadd(3, 0), div(3, 0)\\n\\ni = 10\\nj = 20\\nlst = [i, j]\\nlst\\n\\n# 리스트(operations)에 람다식 삽입\\noperations = [add, sub, mul, div]\\n# 매개변수로 함수 list가 옴(for문 출력 가능)\\n# 함수명과 변수명은 같을 수 없음\\ndef act_operations(a, b, operations = operations):\\n    result = []\\n    for op in operations:\\n        result.append(op(a, b))\\n    return result\\n# def pow(a, b):\\n#     return a ** b\\n# 제곱을 return하는 람다식을 list에 추가\\noperations.append(lambda a, b: a ** b)\\nprint(act_operations(10, 2), [lambda a, b: a**b, lambda a, b: a * 10 + b]) # 매개변수 vector일 때, 호출 당시의 값 반영\",\n",
       "  '# act_operations의 함수를 리스트 컴프리헨션을 이용하여 람다식으로 구현\\nact_operations = lambda a, b, operations = operations:\\n    [op(a, b) for op operations in operations]',\n",
       "  '# act_operations의 함수를 리스트 컴프리헨션을 이용하여 람다식으로 구현\\nact_operations = lambda a, b, operations = operations:\\n    result = [op(a, b) for op in operations]\\n    return result',\n",
       "  '# act_operations의 함수를 리스트 컴프리헨션을 이용하여 람다식으로 구현\\ndef act_operations = lambda a, b, operations = operations:\\n    return [op(a, b) for op in operations]',\n",
       "  '# act_operations의 함수를 리스트 컴프리헨션을 이용하여 람다식으로 구현\\ndef act_operations(a, b, operations = operations):\\n    return [op(a, b) for op in operations]',\n",
       "  '# act_operations의 함수를 리스트 컴프리헨션을 이용하여 람다식으로 구현\\noperations = [add, sub, mul, div]\\ndef act_operations(a, b, operations = operations):\\n    return [op(a, b) for op in operations]\\n\\nact_operations = lambda a, b, operations = operations: \\\\\\n                    [op(a, b) for op in operations]\\nact_operations(5, 2, [lambda a, b : a + b, lambda a, b: a ** b])',\n",
       "  '# act_operations의 함수를 리스트 컴프리헨션을 이용하여 람다식으로 구현\\noperations = [add, sub, mul, div]\\ndef act_operations(a, b, operations = operations):\\n    return [op(a, b) for op in operations]\\n\\nact_operations = lambda a, b, operations = operations: \\\\\\n                    [op(a, b) for op in operations]\\nprint(act_operations(5, 2, [lambda a, b : a + b, lambda a, b: a ** b]))\\nprint(act_operations(5, 2))',\n",
       "  '# act_operations의 함수를 리스트 컴프리헨션을 이용하여 람다식으로 구현\\noperations = [add, sub, mul, div]\\ndef act_operations(a, b, operations = operations):\\n    return [op(a, b) for op in operations]\\n\\nact_operations = lambda a, b, operations = operations: \\\\\\n                    [op(a, b) for op in operations]\\nprint(act_operations(5, 2, [lambda a, b : a + b, lambda a, b: a ** b]))\\nact_operations.append(lambda a, b: a + b)\\nprint(act_operations(5, 2))',\n",
       "  '# act_operations의 함수를 리스트 컴프리헨션을 이용하여 람다식으로 구현\\noperations = [add, sub, mul, div]\\ndef act_operations(a, b, operations = operations):\\n    return [op(a, b) for op in operations]\\n\\nact_operations = lambda a, b, operations = operations: \\\\\\n                    [op(a, b) for op in operations]\\nprint(act_operations(5, 2, [lambda a, b : a + b, lambda a, b: a ** b]))\\nact_operations.append(lambda a, b: a ** b)\\nprint(act_operations(5, 2))',\n",
       "  '# act_operations의 함수를 리스트 컴프리헨션을 이용하여 람다식으로 구현\\noperations = [add, sub, mul, div]\\ndef act_operations(a, b, operations = operations):\\n    return [op(a, b) for op in operations]\\n\\nact_operations = lambda a, b, operations = operations: \\\\\\n                    [op(a, b) for op in operations]\\nprint(act_operations(5, 2, [lambda a, b : a + b, lambda a, b: a ** b]))\\noperations.append(lambda a, b: a ** b)\\nprint(act_operations(5, 2))',\n",
       "  '# act_operations의 함수를 리스트 컴프리헨션을 이용하여 람다식으로 구현\\noperations = [add, sub, mul, div]\\ndef act_operations(a, b, operations = operations):\\n    return [op(a, b) for op in operations]\\n\\nact_operations = lambda a, b, operations = operations: \\\\\\n                    [op(a, b) for op in operations]\\n\\nprint(act_operations(5, 2, [lambda a, b : a + b, lambda a, b: a ** b])) # 람다식 2개인 list가 매개변수\\noperations.append(lambda a, b: a ** b) # 제곱 연산 람다식 operations list에 추가\\nprint(act_operations(5, 2))',\n",
       "  '# map 함수 만들기\\n# map 작업: 웹크롤링, 리스트에 반복적으로 동일한 작업 처리\\ndef map_tamplate(func, L = []): # list의 모든 인덱스에 함수 적용\\n    result = []\\n    for item in L:\\n        result.append(func(item)) # return할 list에 함수 적용 결과를 append\\n    return result\\n    ',\n",
       "  'map_tamplate = lambda func, L = []: [func(1) for l in L]',\n",
       "  'list_data = [1, 2, 3, 4, 5, 6, 7, 8]\\ndef x_2(x):\\n    return x * 2',\n",
       "  'list_data = [1, 2, 3, 4, 5, 6, 7, 8]\\ndef x_2(x):\\n    return x * 2\\n# 함수 미리 생성하지 않음\\nmap_tamplate(x_2, list_data)',\n",
       "  'list_data = [1, 2, 3, 4, 5, 6, 7, 8]\\ndef x_2(x):\\n    return x * 2\\n# 함수 미리 생성하지 않음\\nmap_tamplate(x_2, list_data)',\n",
       "  'list_data = [1, 2, 3, 4, 5, 6, 7, 8]\\ndef x_2(x):\\n    return x*2\\n# 함수 미리 생성하지 않음\\nmap_tamplate(x_2, list_data)',\n",
       "  'list_data = [1, 2, 3, 4, 5, 6, 7, 8]\\ndef x_2(x):\\n    return x*2\\n# 함수 미리 생성하지 않음\\nmap_tamplate(x_2, list_data)',\n",
       "  'list_data = [1, 2, 3, 4, 5, 6, 7, 8]\\ndef x_2(x):\\n    return x*2\\n# 함수 미리 생성하지 않음\\nmap_tamplate(x_2, list_data)',\n",
       "  '# map 함수 만들기\\n# map 작업: 웹크롤링, 리스트에 반복적으로 동일한 작업 처리\\ndef map_tamplate(func, L = []): # list의 모든 인덱스에 함수 적용\\n    result = []\\n    for item in L:\\n        result.append(func(item)) # return할 list에 함수 적용 결과를 append\\n    return result\\n    ',\n",
       "  'list_data = [1, 2, 3, 4, 5, 6, 7, 8]\\ndef x_2(x):\\n    return x*2\\n# 함수 미리 생성하지 않음\\nmap_tamplate(x_2, list_data)',\n",
       "  'map_tamplate = lambda func, L = []: [func(l) for l in L]',\n",
       "  'list_data = [1, 2, 3, 4, 5, 6, 7, 8]\\ndef x_2(x):\\n    return x*2\\n# 함수 미리 생성하지 않음\\nmap_tamplate(x_2, list_data)',\n",
       "  '# 함수 미리 생성하지 않음\\n# list_data = [1, 2, 3, 4, 5, 6, 7, 8]\\n# def x_2(x):\\n#     return x * 2\\n# map_tamplate(x_2, list_data)\\n\\nmap_template(lambda x: x * 2, list_data)',\n",
       "  'map_tamplate = lambda func, L = []: [func(l) for l in L]',\n",
       "  '# 함수 미리 생성하지 않음\\n# list_data = [1, 2, 3, 4, 5, 6, 7, 8]\\n# def x_2(x):\\n#     return x * 2\\n# map_tamplate(x_2, list_data)\\n\\nmap_template(lambda x: x * 2, list_data)',\n",
       "  '# map 함수 만들기\\n# map 작업: 웹크롤링, 리스트에 반복적으로 동일한 작업 처리\\ndef map_tamplate(func, L = []): # list의 모든 인덱스에 함수 적용\\n    result = []\\n    for item in L:\\n        result.append(func(item)) # return할 list에 함수 적용 결과를 append\\n    return result',\n",
       "  '# 함수 미리 생성하지 않음\\n# list_data = [1, 2, 3, 4, 5, 6, 7, 8]\\n# def x_2(x):\\n#     return x * 2\\n# map_tamplate(x_2, list_data)\\n\\nmap_template(lambda x: x * 2, list_data)',\n",
       "  '# 함수 미리 생성하지 않음\\n# list_data = [1, 2, 3, 4, 5, 6, 7, 8]\\n# def x_2(x):\\n#     return x * 2\\n# map_tamplate(x_2, list_data)\\n\\nmap_tamplate(lambda x: x * 2, list_data)',\n",
       "  '# 리스트 컴프리헨션\\n[l*2 for l in list_data]',\n",
       "  '# 리스트 컴프리헨션\\n[x*2 for x in list_data]',\n",
       "  '# map 함수: map 객체를 return\\nmap(lambda x: x*2, list_data)',\n",
       "  '# map 함수는 map 객체를 return\\nlist(map(lambda x: x*2, list_data))',\n",
       "  'enumerate(list_data)',\n",
       "  'list(enumerate(list_data))',\n",
       "  \"# enumerate도 유사\\nfor x in map(lambda x: x * 2, list_data):\\n    print(x, end='')\",\n",
       "  \"# enumerate도 유사\\nfor x in map(lambda x: x * 2, list_data):\\n    print(x, end=' ')\",\n",
       "  'def filter_template(func, L = []):\\n    result = []\\n    for item in L:\\n        if func(item):\\n            result.append(item)\\n    return result',\n",
       "  'def evenChk(value):\\n    return value % 2 == 0\\n#     if value % 2 == 0:\\n#         return True\\n#     else:\\n#         return False\\nlist_data = [1, 2, ,3, 4, 5, 6, 7, 8]\\nfilter_template(evenChk = lambda x: x % 2 == 0, L = list_data )',\n",
       "  'def evenChk(value):\\n    return value % 2 == 0\\n#     if value % 2 == 0:\\n#         return True\\n#     else:\\n#         return False\\nlist_data = [1, 2, 3, 4, 5, 6, 7, 8]\\nfilter_template(evenChk = lambda x: x % 2 == 0, L = list_data )',\n",
       "  'def evenChk(value):\\n    return value % 2 == 0\\n#     if value % 2 == 0:\\n#         return True\\n#     else:\\n#         return False\\nlist_data = [1, 2, 3, 4, 5, 6, 7, 8]\\nfilter_template(lambda x: x % 2 == 0, L = list_data)',\n",
       "  \"# filter(): 조건에 맞는 리스트 요소만 반환\\nfor item in filter(lambda x: x % 2 == 0, list_data):\\n    print(item, end=' ')\",\n",
       "  'filter(lambda x: x % 2 == 0, list_data)',\n",
       "  '# 리스트 컴프리헨션 이용\\n[x for x in list_data if x % 2 == 0]',\n",
       "  'list(filter(lambda x: x % 2 == 0, list_data))',\n",
       "  '# quiz: 다음 리스트에서 소수점 이하가 0인 수만 출력하시오\\n# filter 함수, 람다식이용/filter_template / 리스트 컴프리헨션\\nL = [1, 1.2, 1.5, 2, 3.0, 10.5, 100]\\n# [1, 2, 3.0, 100]',\n",
       "  '# quiz: 다음 리스트에서 소수점 이하가 0인 수만 출력하시오\\n# filter 함수, 람다식이용 / filter_template / 리스트 컴프리헨션\\nL = [1, 1.2, 1.5, 2, 3.0, 10.5, 100]\\n# [1, 2, 3.0, 100]\\nx = 2.0\\nprint(x.is_integer())\\n# 1. filter 함수\\nlist(filter(lambda x:  ): )',\n",
       "  '# quiz: 다음 리스트에서 소수점 이하가 0인 수만 출력하시오\\n# filter 함수, 람다식이용 / filter_template / 리스트 컴프리헨션\\nL = [1, 1.2, 1.5, 2, 3.0, 10.5, 100]\\n# [1, 2, 3.0, 100]\\nx = 2.0\\nprint(x.is_integer())\\n# 1. filter 함수\\n# list(filter(lambda x:  ): )',\n",
       "  '# quiz: 다음 리스트에서 소수점 이하가 0인 수만 출력하시오\\n# filter 함수, 람다식이용 / filter_template / 리스트 컴프리헨션\\nL = [1, 1.2, 1.5, 2, 3.0, 10.5, 100]\\n# [1, 2, 3.0, 100]\\nx = 2.0\\n# print(x.is_integer())\\nprint(x % 1.0 == 0)\\nprint(x == round(x))\\nprint(x == x // 1)\\n# 1. filter 함수\\nlist(filter(lambda x: x % 1.0 == 0): L = [])',\n",
       "  '# quiz: 다음 리스트에서 소수점 이하가 0인 수만 출력하시오\\n# filter 함수, 람다식이용 / filter_template / 리스트 컴프리헨션\\nL = [1, 1.2, 1.5, 2, 3.0, 10.5, 100]\\n# [1, 2, 3.0, 100]\\nx = 2.0\\n# print(x.is_integer())\\nprint(x % 1.0 == 0)\\nprint(x == round(x))\\nprint(x == x // 1)\\n# 1. filter 함수\\nlist(filter(lambda x: x % 1.0 == 0), L = [])',\n",
       "  '# quiz: 다음 리스트에서 소수점 이하가 0인 수만 출력하시오\\n# filter 함수, 람다식이용 / filter_template / 리스트 컴프리헨션\\nL = [1, 1.2, 1.5, 2, 3.0, 10.5, 100]\\n# [1, 2, 3.0, 100]\\nx = 2.0\\n# print(x.is_integer())\\nprint(x % 1.0 == 0)\\nprint(x == round(x))\\nprint(x == x // 1)\\n# 1. filter 함수\\nlist(filter(lambda item: item % 1.0 == 0), L = [])',\n",
       "  '# quiz: 다음 리스트에서 소수점 이하가 0인 수만 출력하시오\\n# filter 함수, 람다식이용 / filter_template / 리스트 컴프리헨션\\nL = [1, 1.2, 1.5, 2, 3.0, 10.5, 100]\\n# [1, 2, 3.0, 100]\\nx = 2.0\\n# print(x.is_integer())\\nprint(x % 1.0 == 0)\\nprint(x == round(x))\\nprint(x == x // 1)\\n# 1. filter 함수\\nlist(filter(lambda item: item % 1.0 == 0), L)',\n",
       "  '# quiz: 다음 리스트에서 소수점 이하가 0인 수만 출력하시오\\n# filter 함수, 람다식이용 / filter_template / 리스트 컴프리헨션\\nL = [1, 1.2, 1.5, 2, 3.0, 10.5, 100]\\n# [1, 2, 3.0, 100]\\nx = 2.0\\n# print(x.is_integer())\\nprint(x % 1.0 == 0)\\nprint(x == round(x))\\nprint(x == x // 1)',\n",
       "  '# 1. filter 함수 dlyd\\nlist(filter(lambda x: x % 1.0 == 0), L))',\n",
       "  '# 1. filter 함수 dlyd\\nprint(list(filter(lambda x: x % 1.0 == 0, , L)))',\n",
       "  '# 1. filter 함수 dlyd\\nprint(list(filter(lambda x: x % 1.0 == 0, L)))',\n",
       "  '# 1. filter 함수 dlyd\\nprint(list(filter(lambda x: x % 1.0 == 0, L)))\\nprint(list(filter(lambda x: x == round(x), L)))\\nprint(list(filter(lambda x: x == x // 1, L)))',\n",
       "  '# 1. filter 함수 이용\\nprint(list(filter(lambda x: x % 1.0 == 0, L)))\\nprint(list(filter(lambda x: x == round(x), L)))\\nprint(list(filter(lambda x: x == x // 1, L)))\\n\\n# 2. filter_template 함수 이용\\nprint(filter_template(lambda x: x == round(x), L))',\n",
       "  '# 1. filter 함수 이용\\nprint(list(filter(lambda x: x % 1.0 == 0, L)))\\nprint(list(filter(lambda x: x == round(x), L)))\\nprint(list(filter(lambda x: x == x // 1, L)))\\n\\n# 2. filter_template 함수 이용\\nprint(filter_template(lambda x: x == round(x), L))\\n\\n# 3. 리스트 컴프리헨션 이용\\nprint([x for x in L if x == round(x)])',\n",
       "  '# 예제 2. 베스트셀러 list(딕셔너리 list)를 가격순으로 sort\\np = [10, 3, 6, 1]\\np.sort()',\n",
       "  '# 예제 2. 베스트셀러 list(딕셔너리 list)를 가격순으로 sort\\np = [10, 3, 6, 1]\\np.sort()\\nprint(p)',\n",
       "  '# 예제 2. 베스트셀러 list(딕셔너리 list)를 가격순으로 sort\\np = [10, 3, 6, 1]\\np.sort(reverse=True)\\nprint(p)',\n",
       "  \"pairs = [(2, 'two'), (1, 'one'), (4, 'four'), (3, 'three')]\",\n",
       "  \"# 튜플 list\\npairs = [(2, 'two'), (1, 'one'), (4, 'four'), (3, 'three')]\\npairs.sort()\\npairs\",\n",
       "  \"# 튜플 list\\npairs = [(2, 'two'), (1, 'one'), (4, 'four'), (3, 'three')]\\npairs.sort()\\npairs\",\n",
       "  'pairs.sort(key = lambda pair: pairp[1])',\n",
       "  'pairs.sort(key = lambda pair: pair[1])',\n",
       "  'pairs.sort(key = lambda pair: pair[1], reverse=True)\\npairs',\n",
       "  '# students를 이름, ㄱ, ㄴ, ㄷ 순 정렬\\nstudent.sort(key = lambda student: student[0])',\n",
       "  '# students를 이름, ㄱ, ㄴ, ㄷ 순 정렬\\nstudents.sort(key = lambda student: student[0])',\n",
       "  \"students = [{'name': '홍', 'score':99},\\n            {'name': '이', 'score':22},\\n            {'name': '김', 'score':77},\\n            {'name': '박', 'score':66},]\",\n",
       "  '# students를 이름, ㄱ, ㄴ, ㄷ 순 정렬\\nstudents.sort(key = lambda student: student[0])',\n",
       "  '# students를 이름, ㄱ, ㄴ, ㄷ 순 정렬\\nstudents.sort(key = lambda student: student[0][0])',\n",
       "  '# students를 이름, ㄱ, ㄴ, ㄷ 순 정렬\\nstudents.sorted(key = lambda student: student[0][0])',\n",
       "  '# students를 이름, ㄱ, ㄴ, ㄷ 순 정렬\\nstudents.sort(key = lambda student: student[0][0])',\n",
       "  '# students를 이름, ㄱ, ㄴ, ㄷ 순 정렬\\nstudents.sort(key = lambda students: students[0][0])',\n",
       "  '# students를 이름, ㄱ, ㄴ, ㄷ 순 정렬\\nstudents.sort(key = lambda students: students[0])',\n",
       "  '# students를 이름, ㄱ, ㄴ, ㄷ 순 정렬\\nstudents.sort(key = lambda students: students[1])',\n",
       "  \"# students를 이름, ㄱ, ㄴ, ㄷ 순 정렬\\nstudents.sort(key = lambda student: student['name'])\",\n",
       "  \"# students를 이름, ㄱ, ㄴ, ㄷ 순 정렬\\nstudents.sort(key = lambda student: student['name'])\\nstudents\",\n",
       "  \"# students를 score순으로 오름차순 정렬\\nstudents.sort(key = lambda student: student['score'])\\nstudents\",\n",
       "  \"# students를 score순으로 내림차순 정렬\\nstudents.sort(key = lambda student: student['score'], reverse=True)\",\n",
       "  \"# students를 score순으로 내림차순 정렬\\nstudents.sort(key = lambda student: student['score'], reverse=True)\\nstudents\",\n",
       "  \"# students를 이름, ㄱ, ㄴ, ㄷ 순 정렬\\nstudents.sort(key = lambda student: student.get('name')\\nstudents\",\n",
       "  \"# students를 이름, ㄱ, ㄴ, ㄷ 순 정렬\\nstudents.sort(key = lambda student: student.get('name'))\\nstudents\",\n",
       "  \"# students를 score순으로 오름차순 정렬\\nstudents.sort(key = lambda student: student.get('score'))\\nstudents\",\n",
       "  \"# 도서 정보가 담긴 딕셔너리 list를 sort\\nbooks = \\\\\\n    [{'no':1, 'title':'소년이 온다', 'writer':'한강', 'price': '13,500'},\\n     {'no':3, 'title':'트럼프2.0시대', 'writer':'박종훈', 'price': '18,000'},\\n     {'no':2, 'title':'트렌드코리아2025', 'writer':'김난도', 'price': '18,100'},\\n     {'no':4, 'title':'가격잘못', 'writer':'홍길동', 'price': 'ㅁ'},\\n     {'no':5, 'title':'가격없음', 'writer':'신길동', 'price': 'None예정'},]\",\n",
       "  \"books.sort(key = lambda book: book.get('no'))\",\n",
       "  \"books.sort(key = lambda book: book.get('no'))\\nbooks\",\n",
       "  \"books.sort(key = lambda book: book.get('no'))\\nprint(books)\\nbooks.sort(key = lambda book: book.get('title'))\\nprint(books)\",\n",
       "  \"books.sort(key = lambda book: book.get('no'))\\nprint(books)\\nprint() # 개행\\nbooks.sort(key = lambda book: book.get('title'))\\nprint(books)\",\n",
       "  \"books.sort(key = lambda book: book.get('title'))\\nprint(books)\",\n",
       "  \"books.sort(key = lambda book: book.get('no'))\\nprint(books)\",\n",
       "  \"books.sort(key = lambda book: book.get('title'))\\nbooks\",\n",
       "  \"books.sort(key = lambda book: book.get('no'))\\nbooks\",\n",
       "  \"books.sort(key = lambda book: book['no'])\\nbooks\",\n",
       "  \"books.sort(key = lambda book: book['title'])\\nbooks\",\n",
       "  \"# 가격 결측치로 변경\\nbooks = \\\\\\n    [{'no':1, 'title':'소년이 온다', 'writer':'한강', 'price': '13,500'},\\n     {'no':3, 'title':'트럼프2.0시대', 'writer':'박종훈', 'price': '18,000'},\\n     {'no':2, 'title':'트렌드코리아2025', 'writer':'김난도', 'price': '9,100'},\\n     {'no':4, 'title':'가격잘못', 'writer':'홍길동', 'price': 'ㅁ'},\\n     {'no':5, 'title':'가격없음', 'writer':'신길동'},]\",\n",
       "  \"books.sort(key = lambda book: book['title'])\\nbooks\",\n",
       "  \"books.sort(key = lambda book: book['price'], reverse=True)\",\n",
       "  \"books.sort(key = lambda book: book['price'], reverse=True)\\nbooks\",\n",
       "  \"# 도서 정보가 담긴 딕셔너리 list를 sort\\nbooks = \\\\\\n    [{'no':1, 'title':'소년이 온다', 'writer':'한강', 'price': '13,500'},\\n     {'no':3, 'title':'트럼프2.0시대', 'writer':'박종훈', 'price': '18,000'},\\n     {'no':2, 'title':'트렌드코리아2025', 'writer':'김난도', 'price': '9,100'},\\n     {'no':4, 'title':'가격잘못', 'writer':'홍길동', 'price': 'ㅁ'},\\n     {'no':5, 'title':'가격없음', 'writer':'신길동', 'price': 'None예정'},]\",\n",
       "  \"books.sort(key = lambda book: book['price'], reverse=True)\\nbooks\",\n",
       "  \"# get() 사용해도, type이 string으로 통일되지 않아서 Error\\nbooks.sort(key = lambda book: book.get('price'))\\nbooks\",\n",
       "  \"# 가격 결측치로 변경\\nbooks = \\\\\\n    [{'no':1, 'title':'소년이 온다', 'writer':'한강', 'price': '13,500'},\\n     {'no':3, 'title':'트럼프2.0시대', 'writer':'박종훈', 'price': '18,000'},\\n     {'no':2, 'title':'트렌드코리아2025', 'writer':'김난도', 'price': '9,100'},\\n     {'no':4, 'title':'가격잘못', 'writer':'홍길동', 'price': 'ㅁ'},\\n     {'no':5, 'title':'가격없음', 'writer':'신길동'},]\",\n",
       "  \"# get() 사용해도, type이 string으로 통일되지 않아서 Error\\nbooks.sort(key = lambda book: book.get('price'))\\nbooks\",\n",
       "  \"# get() 사용하더라도 type이 str로 통일되지 않아서(None 포함) Error\\nbooks.sort(key = lambda book: book.get('price'))\\nbooks\",\n",
       "  \"# 가격 결측치로 변경\\nbooks = \\\\\\n    [{'no':1, 'title':'소년이 온다', 'writer':'한강', 'price': '13,500'},\\n     {'no':3, 'title':'트럼프2.0시대', 'writer':'박종훈', 'price': '18,000'},\\n     {'no':2, 'title':'트렌드코리아2025', 'writer':'김난도', 'price': '9,100'},\\n     {'no':4, 'title':'가격잘못', 'writer':'홍길동', 'price': 0},\\n     {'no':4, 'title':'가격숫자', 'writer':'신길동', 'price': 9200},\\n     {'no':5, 'title':'가격없음', 'writer':'이길동'},] # price 데이터: 'None' type\",\n",
       "  \"# get() 사용하더라도 type이 str로 통일되지 않아서(None 포함) Error\\nbooks.sort(key = lambda book: book.get('price'))\\nbooks\",\n",
       "  \"# 문자에서 [,]을 ''로 바꾸고, int로 형변환하는 함수\\ndef parse_int(price):\\n    return int(price.replace(',', ''))\\nparse_int('13,500')\",\n",
       "  \"# 문자에서 [,]을 ''로 바꾸고, int로 형변환하는 함수\\ndef parse_int(price):\\n    return int(price.replace(',', ''))\\nparse_int('13,500')\\nparse_int(9200)\",\n",
       "  \"# 문자에서 [,]을 ''로 바꾸고, int로 형변환하는 함수\\ndef parse_int(price):\\n    return int(price.replace(',', ''))\\nparse_int('13,500')\\nparse_int(9200)\\nparse_int('ㅁ')\\nparse_int(None)\",\n",
       "  \"# 문자에서 [,]을 ''로 바꾸고, int로 형변환하는 함수\\n# 숫자 / 문자 / None 제외\\ndef parse_int(price):\\n    print(type(price))\\n        return int(price.replace(',', ''))\",\n",
       "  \"# 문자에서 [,]을 ''로 바꾸고, int로 형변환하는 함수\\n# 숫자 / 문자 / None 제외\\ndef parse_int(price):\\n    print(type(price))\",\n",
       "  \"parse_int('ㅁ'), parse_int(None), parse_int(9200), parse_int('13,500')\\n# 0,             0,               9200,            13,500\",\n",
       "  \"# 문자에서 [,]을 ''로 바꾸고, int로 형변환하는 함수\\n# 데이터가 int / int변환 불가능한 str / NoneType일 경우를 고려\\n# &  : 논리연산, 비트연산, 집합연산\\n# and: 논리연산\\ndef parse_int(price):\\n    # print(type(price))\\n    if isinstance(price, str) & price.replace(',', '').isdigit() :\\n        print(price)\",\n",
       "  \"parse_int('ㅁ'), parse_int(None), parse_int(9200), parse_int('13,500')\\n# 0,             0,               9200,            13,500\",\n",
       "  \"# 문자에서 [,]을 ''로 바꾸고, int로 형변환하는 함수\\n# 데이터가 int / int변환 불가능한 str / NoneType일 경우를 고려\\n# &  : 논리연산, 비트연산, 집합연산\\n# and: 논리연산\\ndef parse_int(price):\\n    # print(type(price))\\n    if isinstance(price, str) & price.replace(',', '').isdigit():\\n        print(price)\",\n",
       "  \"parse_int('ㅁ'), parse_int(None), parse_int(9200), parse_int('13,500')\\n# 0,             0,               9200,            13,500\",\n",
       "  \"# 문자에서 [,]을 ''로 바꾸고, int로 형변환하는 함수\\n# 데이터가 int / int변환 불가능한 str / NoneType일 경우를 고려\\n# &  : 논리연산, 비트연산, 집합연산\\n# and: 논리연산\\ndef parse_int(price):\\n    # print(type(price))\\n    if isinstance(price, str) and price.replace(',', '').isdigit():\\n        print(price)\",\n",
       "  \"parse_int('ㅁ'), parse_int(None), parse_int(9200), parse_int('13,500')\\n# 0,             0,               9200,            13,500\",\n",
       "  \"# 문자에서 [,]을 ''로 바꾸고, int로 형변환하는 함수\\n# 데이터가 int / int변환 불가능한 str / NoneType일 경우를 고려\\n# &  : 논리연산, 비트연산, 집합연산\\n# and: 논리연산\\ndef parse_int(price):\\n    # print(type(price))\\n    if isinstance(price, str) & price.replace(',', '').isdigit():\\n        print(price)\",\n",
       "  \"parse_int('ㅁ'), parse_int(None), parse_int(9200), parse_int('13,500')\\n# 0,             0,               9200,            13,500\",\n",
       "  \"# 문자에서 [,]을 ''로 바꾸고, int로 형변환하는 함수\\n# 데이터가 int / int변환 불가능한 str / NoneType일 경우를 고려\\n# &  : 논리연산, 비트연산(숫자), 집합연산(set)이 모두 가능하므로, 좌항이 False여도,\\n#      우항이 숫자면 비트연산을 수행해야 하므로 우항을 수행\\n# and: 논리연산의 역할만 하므로, 좌항이 False면 우항 수행 안 함\\ndef parse_int(price):\\n    # print(type(price))\\n    if isinstance(price, str) and price.replace(',', '').isdigit(): # price가 str고, comma 제거한 str이 숫자형태일 때\\n        print(price)\\n    elif isinstance(price, int): # price가 int일 때\\n        return price \\n    else:\\n        return 0\",\n",
       "  \"parse_int('ㅁ')     # 0\\nparse_int(None)     # 0\\nparse_int(9200)     # 9200 \\nparse_int('13,500') # 13,500\",\n",
       "  \"print(parse_int('ㅁ'))     # 0\\nprint(parse_int(None))     # 0\\nprint(parse_int(9200))     # 9200 \\nprint(parse_int('13,500')) # 13,500\",\n",
       "  \"print(parse_int('ㅁ'))     # 0\\nprint(parse_int(None))     # 0\\nprint(parse_int(9200))     # 9200 \\nprint(parse_int('13,500')) # 13,500\",\n",
       "  \"# get() 사용하더라도 type이 str로 통일되지 않아서(None 포함) Error\\nbooks.sort(key = lambda book: book.get('price'))\\nbooks\",\n",
       "  \"# 문자에서 [,]을 ''로 바꾸고, int로 형변환하는 함수\\n# 데이터가 int / int변환 불가능한 str / NoneType일 경우를 고려\\n# &  : 논리연산, 비트연산(숫자), 집합연산(set)이 모두 가능하므로, 좌항이 False여도,\\n#      우항이 숫자면 비트연산을 수행해야 하므로 우항을 수행\\n# and: 논리연산의 역할만 하므로, 좌항이 False면 우항 수행 안 함\\ndef parse_int(price):\\n    # print(type(price))\\n    if isinstance(price, str) and price.replace(',', '').isdigit(): # price가 str고, comma 제거한 str이 숫자형태일 때\\n        print(price)\\n    elif isinstance(price, int): # price가 int일 때\\n        return price \\n    else:\\n        return 0\",\n",
       "  \"print(parse_int('ㅁ'))     # 0\\nprint(parse_int(None))     # 0\\nprint(parse_int(9200))     # 9200 \\nprint(parse_int('13,500')) # 13,500\",\n",
       "  \"# 가격 결측치로 변경\\nbooks = \\\\\\n    [{'no':1, 'title':'소년이 온다', 'writer':'한강', 'price': '13,500'},\\n     {'no':3, 'title':'트럼프2.0시대', 'writer':'박종훈', 'price': '18,000'},\\n     {'no':2, 'title':'트렌드코리아2025', 'writer':'김난도', 'price': '9,100'},\\n     {'no':4, 'title':'가격잘못', 'writer':'홍길동', 'price': 0},\\n     {'no':4, 'title':'가격숫자', 'writer':'신길동', 'price': 9200},\\n     {'no':5, 'title':'가격없음', 'writer':'이길동'},] # price 데이터: 'None' type\",\n",
       "  \"# get() 사용하더라도 type이 str로 통일되지 않아서(None 포함) Error\\nbooks.sort(key = lambda book: book.get('price'))\\nbooks\",\n",
       "  \"testFunc = lambda book: book.get('price')\\n\\n[testFunc(book) for book in books]\",\n",
       "  \"testFunc = lambda book: int(book.get('price').replace(',', '')) \\\\ \\n                if isinstance(price, str) and \\\\\\n                    book.get('price').replace(',', '').isdigit() \\\\\\n                else (price if isinstance(book.get('price'), int) else 0)\\n\\n[testFunc(book) for book in books]\",\n",
       "  \"testFunc = lambda book: int(book.get('price').replace(',', '')) \\\\\\n                if isinstance(price, str) and \\\\\\n                    book.get('price').replace(',', '').isdigit() \\\\\\n                else (price if isinstance(book.get('price'), int) else 0)\\n\\n[testFunc(book) for book in books]\",\n",
       "  \"testFunc = lambda book: int(book.get('price').replace(',', '')) \\\\\\n                if isinstance(price, str) and \\\\\\n                    book.get('price').replace(',', '').isdigit() \\\\\\n                else (book.get('price') if isinstance(book.get('price'), int) else 0)\\n\\n[testFunc(book) for book in books]\",\n",
       "  \"# 가격 결측치로 변경\\nbooks = \\\\\\n    [{'no':1, 'title':'소년이 온다', 'writer':'한강', 'price': '13,500'},\\n     {'no':3, 'title':'트럼프2.0시대', 'writer':'박종훈', 'price': '18,000'},\\n     {'no':2, 'title':'트렌드코리아2025', 'writer':'김난도', 'price': '9,100'},\\n     {'no':4, 'title':'가격잘못', 'writer':'홍길동', 'price': 0},\\n     {'no':4, 'title':'가격숫자', 'writer':'신길동', 'price': 9200},\\n     {'no':5, 'title':'가격없음', 'writer':'이길동'},] # price 데이터: 'None' type\",\n",
       "  \"testFunc = lambda book: int(book.get('price').replace(',', '')) \\\\\\n                if isinstance(price, str) and \\\\\\n                    book.get('price').replace(',', '').isdigit() \\\\\\n                else (book.get('price') if isinstance(book.get('price'), int) else 0)\\n\\n[testFunc(book) for book in books]\",\n",
       "  \"testFunc = lambda book: int(book.get('price').replace(',', '')) \\\\\\n                if isinstance(price, str) and \\\\\\n                    book.get('price').replace(',', '').isdigit() \\\\\\n                else (price if isinstance(book.get('price'), int) else 0)\\n\\n[testFunc(book) for book in books]\",\n",
       "  \"testFunc = lambda book: int(book.get('price').replace(',', '')) \\\\\\n                if isinstance(book.get('price'), str) and \\\\\\n                    book.get('price').replace(',', '').isdigit() \\\\\\n                else (price if isinstance(book.get('price'), int) else 0)\\n\\n[testFunc(book) for book in books]\",\n",
       "  \"testFunc = lambda book: int(book.get('price').replace(',', '')) \\\\\\n                if isinstance(book.get('price'), str) and \\\\\\n                    book.get('price').replace(',', '').isdigit() else 0\\n\\n[testFunc(book) for book in books]\",\n",
       "  \"testFunc = lambda book: int(book.get('price').replace(',', '')) \\\\ # book의 price에서 [,]를 빈스트링으로 변환, int 변환\\n                if isinstance(book.get('price'), str) and \\\\       # price가 str일 경우 and\\n                    book.get('price').replace(',', '').isdigit() \\\\ # [,]를 빈스트링으로 변환한 값이 숫자 형태일 경우만\\n                else (book.get('price') if isinstance(book.get('price'), int)) \\\\\\n                     else 0\\n[testFunc(book) for book in books]\",\n",
       "  \"testFunc = lambda book: int(book.get('price').replace(',', '')) \\\\ # book의 price에서 [,]를 빈스트링으로 변환, int 변환\\n                if isinstance(book.get('price'), str) and \\\\       # price가 str일 경우 and\\n                    book.get('price').replace(',', '').isdigit() \\\\ # [,]를 빈스트링으로 변환한 값이 숫자 형태일 경우만\\n                else (book.get('price') if isinstance(book.get('price'), int) \\\\\\n                     else 0)\\n[testFunc(book) for book in books]\",\n",
       "  \"testFunc = lambda book: int(book.get('price').replace(',', '')) \\\\ # book의 price에서 [,]를 빈스트링으로 변환, int 변환\\n                if isinstance(book.get('price'), str) and \\\\       # price가 str일 경우 and\\n                    book.get('price').replace(',', '').isdigit() \\\\# [,]를 빈스트링으로 변환한 값이 숫자 형태일 경우만\\n                else (book.get('price') if isinstance(book.get('price'), int) \\\\\\n                     else 0)\\n[testFunc(book) for book in books]\",\n",
       "  \"testFunc = lambda book: int(book.get('price').replace(',', '')) \\\\ # book의 price에서 [,]를 빈스트링으로 변환, int 변환\\n                if isinstance(book.get('price'), str) and \\\\       # price가 str일 경우 and\\n                    book.get('price').replace(',', '').isdigit()\\\\# [,]를 빈스트링으로 변환한 값이 숫자 형태일 경우만\\n                else (book.get('price') if isinstance(book.get('price'), int) \\\\\\n                     else 0)\\n[testFunc(book) for book in books]\",\n",
       "  \"testFunc = lambda book: int(book.get('price').replace(',', '')) \\\\# book의 price에서 [,]를 빈스트링으로 변환, int 변환\\n                if isinstance(book.get('price'), str) and \\\\       # price가 str일 경우 and\\n                    book.get('price').replace(',', '').isdigit()\\\\# [,]를 빈스트링으로 변환한 값이 숫자 형태일 경우만\\n                else (book.get('price') if isinstance(book.get('price'), int) \\\\\\n                     else 0)\\n[testFunc(book) for book in books]\",\n",
       "  \"testFunc = lambda book: int(book.get('price').replace(',', ''))\\\\# book의 price에서 [,]를 빈스트링으로 변환, int 변환\\n                if isinstance(book.get('price'), str) and \\\\       # price가 str일 경우 and\\n                    book.get('price').replace(',', '').isdigit()\\\\# [,]를 빈스트링으로 변환한 값이 숫자 형태일 경우만\\n                else (book.get('price') if isinstance(book.get('price'), int) \\\\\\n                     else 0)\\n[testFunc(book) for book in books]\",\n",
       "  \"# book의 price에서 [,]를 빈스트링으로 변환, int 변환\\n# price가 str일 경우 and\\n# [,]를 빈스트링으로 변환한 값이 숫자 형태일 경우만\\ntestFunc = lambda book: int(book.get('price').replace(',', ''))\\\\\\n                if isinstance(book.get('price'), str) and \\\\       \\n                    book.get('price').replace(',', '').isdigit()\\\\\\n                else (book.get('price') if isinstance(book.get('price'), int) \\\\\\n                     else 0)\\n[testFunc(book) for book in books]\",\n",
       "  \"# book의 price에서 [,]를 빈스트링으로 변환, int 변환\\n# price가 str일 경우 and\\n# [,]를 빈스트링으로 변환한 값이 숫자 형태일 경우만\\ntestFunc = lambda book: int(book.get('price').replace(',', ''))\\\\\\n                if isinstance(book.get('price'), str) and \\\\     \\n                    book.get('price').replace(',', '').isdigit()\\\\\\n                else (book.get('price') if isinstance(book.get('price'), int) \\\\\\n                     else 0)\\n[testFunc(book) for book in books]\",\n",
       "  \"# book의 price에서 [,]를 빈스트링으로 변환, int 변환\\n# price가 str일 경우 and\\n# [,]를 빈스트링으로 변환한 값이 숫자 형태일 경우만\\ntestFunc = lambda book: int(book.get('price').replace(',', ''))\\\\\\n                if isinstance(book.get('price'), str) and \\\\     \\n                    book.get('price').replace(',', '').isdigit()\\\\\\n                else book.get('price') if isinstance(book.get('price'), int) \\\\\\n                     else 0\\n[testFunc(book) for book in books]\",\n",
       "  \"# book의 price에서 [,]를 빈스트링으로 변환, int 변환\\n# price가 str일 경우 and\\n# [,]를 빈스트링으로 변환한 값이 숫자 형태일 경우만\\ntestFunc = lambda book: int(book.get('price').replace(',', ''))\\\\\\n            if isinstance(book.get('price'), str) and \\\\     \\n                book.get('price').replace(',', '').isdigit()\\\\\\n            else book.get('price') if isinstance(book.get('price'), int) \\\\\\n                else 0\\n[testFunc(book) for book in books]\",\n",
       "  \"# book의 price에서 [,]를 빈스트링으로 변환, int 변환\\n# price가 str일 경우 and\\n# [,]를 빈스트링으로 변환한 값이 숫자 형태일 경우만\\ntestFunc = lambda book: int(book.get('price').replace(',', '')) \\\\\\n            if isinstance(book.get('price'), str) and \\\\    \\n                book.get('price').replace(',', '').isdigit()\\\\\\n            else book.get('price') if isinstance(book.get('price'), int) \\\\\\n                else 0\\n[testFunc(book) for book in books]\",\n",
       "  \"# book의 price에서 [,]를 빈스트링으로 변환, int 변환\\n# price가 str일 경우 and\\n# [,]를 빈스트링으로 변환한 값이 숫자 형태일 경우만\\ntestFunc = lambda book: int(book.get('price').replace(',', '')) \\\\\\n            if isinstance(book.get('price'), str) and \\\\\\n                book.get('price').replace(',', '').isdigit()\\\\\\n            else book.get('price') if isinstance(book.get('price'), int) \\\\\\n                else 0\\n[testFunc(book) for book in books]\",\n",
       "  \"# book의 price에서 [,]를 빈스트링으로 변환, int 변환한 것을 return\\n# price가 str일 경우 and\\n# [,]를 빈스트링으로 변환한 값이 숫자 형태일 경우만\\n# book의 price를 return\\n# price가 int일 경우\\n# 둘 다 아니면 0 return\\ntestFunc = lambda book: int(book.get('price').replace(',', '')) \\\\\\n            if isinstance(book.get('price'), str) and \\\\\\n                book.get('price').replace(',', '').isdigit()\\\\\\n            else book.get('price') if isinstance(book.get('price'), int) \\\\\\n                else 0\\n[testFunc(book) for book in books]\",\n",
       "  'copyBook = books.copy()',\n",
       "  \"# 람다식으로 변환\\ncopyBooks = books.copy()\\ncopyBooks.sort(key = lambda book: int(book.get(price).replace(',', '')) \\\\\\n               if isinstance(book.get('price'), str) \\\\\\n                   and book.get('price').replace(',', '').isdigit() \\\\\\n               else (price if isinstance(book.get('price'), int) else 0)\\n              )\",\n",
       "  \"# 람다식으로 변환\\ncopyBooks = books.copy()\\ncopyBooks.sort(key = lambda book: int(book.get(price).replace(',', '')) \\\\\\n               if isinstance(book.get('price'), str) \\\\\\n                   and book.get('price').replace(',', '').isdigit() \\\\\\n               else (price if isinstance(book.get('price'), int) else 0)\\n              )\\ncopyBooks\",\n",
       "  \"# 람다식으로 변환\\ncopyBooks = books.copy()\\ncopyBooks.sort(key = lambda book: int(book.get(price).replace(',', '')) \\\\\\n               if isinstance(book.get('price'), str) \\\\\\n                   and book.get('price').replace(',', '').isdigit() \\\\\\n               else (book.get('price') if isinstance(book.get('price'), int) else 0)\\n              )\\ncopyBooks\",\n",
       "  \"# 람다식으로 변환\\ncopyBooks = books.copy()\\ncopyBooks.sort(key = lambda book: int(book.get(price).replace(',', '')) \\\\\\n               if isinstance(book.get('price'), str) \\\\\\n                   and book.get('price').replace(',', '').isdigit() \\\\\\n               else (book.get('price') if isinstance(book.get('price'), int) else 0)\\n              )\\ncopyBooks\",\n",
       "  \"# 람다식으로 변환\\ncopyBooks = books.copy()\\ncopyBooks.sort(key = lambda book: int(book.get('price').replace(',', '')) \\\\\\n               if isinstance(book.get('price'), str) \\\\\\n                   and book.get('price').replace(',', '').isdigit() \\\\\\n               else (book.get('price') if isinstance(book.get('price'), int) else 0)\\n              )\\ncopyBooks\",\n",
       "  \"# 람다식으로 변환\\ncopyBooks = books.copy()\\ncopyBooks.sort(key = lambda book: int(book.get('price').replace(',', '')) \\\\\\n               if isinstance(book.get('price'), str) \\\\\\n                   and book.get('price').replace(',', '').isdigit() \\\\\\n               else (book.get('price') if isinstance(book.get('price'), int) else 0),\\n               reverse=True\\n              )\\ncopyBooks\",\n",
       "  \"# 람다식으로 변환\\ncopyBooks = books.copy()\\ncopyBooks.sort(key = lambda book: int(book.get('price').replace(',', '')) \\\\\\n               if isinstance(book.get('price'), str) \\\\\\n                   and book.get('price').replace(',', '').isdigit() \\\\\\n               else (book.get('price') if isinstance(book.get('price'), int) else 0),\\n               reverse=True # 내림차순\\n              )\\ncopyBooks\",\n",
       "  \"# 람다식으로 변환\\n# copyBooks = books.copy()\\nbooks.sort(key = lambda book: int(book.get('price').replace(',', '')) \\\\\\n               if isinstance(book.get('price'), str) \\\\\\n                   and book.get('price').replace(',', '').isdigit() \\\\\\n               else (book.get('price') if isinstance(book.get('price'), int) else 0),\\n               reverse=True # 내림차순 정렬\\n              )\\nbooks\",\n",
       "  \"# 가격 결측치로 변경\\nbooks = \\\\\\n    [{'no':1, 'title':'소년이 온다', 'writer':'한강', 'price': '13,500'},\\n     {'no':3, 'title':'트럼프2.0시대', 'writer':'박종훈', 'price': '18,000'},\\n     {'no':2, 'title':'트렌드코리아2025', 'writer':'김난도', 'price': '9,100'},\\n     {'no':4, 'title':'가격잘못', 'writer':'홍길동', 'price': 'a'},\\n     {'no':4, 'title':'가격숫자', 'writer':'신길동', 'price': 9200},\\n     {'no':5, 'title':'가격없음', 'writer':'이길동'},] # price 데이터: 'None' type\",\n",
       "  \"# 가격 결측치로 변경\\nbooks = \\\\\\n    [{'no':1, 'title':'소년이 온다', 'writer':'한강', 'price': '13,500'},\\n     {'no':3, 'title':'트럼프2.0시대', 'writer':'박종훈', 'price': '18,000'},\\n     {'no':2, 'title':'트렌드코리아2025', 'writer':'김난도', 'price': '9,100'},\\n     {'no':4, 'title':'가격잘못', 'writer':'홍길동', 'price': 'ㅁ'},\\n     {'no':4, 'title':'가격숫자', 'writer':'신길동', 'price': 9200},\\n     {'no':5, 'title':'가격없음', 'writer':'이길동'},] # price 데이터: 'None' type\",\n",
       "  \"# 람다식으로 변환\\n# copyBooks = books.copy()\\nbooks.sort(key = lambda book: int(book.get('price').replace(',', '')) \\\\\\n               if isinstance(book.get('price'), str) \\\\\\n                   and book.get('price').replace(',', '').isdigit() \\\\\\n               else (book.get('price') if isinstance(book.get('price'), int) else 0),\\n               reverse=True # 내림차순 정렬\\n              )\\nbooks\",\n",
       "  '# map',\n",
       "  \"def price_parse_int(book):\\n    # sol 1. book.get('price')를 정수 가격으로\\n    if isinstance(book.get('price'), str) \\n            and book.get('price').replace(',', '').isdigit():\\n        book['price'] = int(book['price'].replace(','), '')\\n    return book\\n    # sol 2. book2 복사본을 만들어 books.get('price')를 정수 가격으로\\n    # return book2\",\n",
       "  \"def price_parse_int(book):\\n    # sol 1. book.get('price')를 정수 가격으로\\n    if isinstance(book.get('price'), str) \\n            and book.get('price').replace(',', '').isdigit():\\n        book['price'] = int(book['price'].replace(','), '')\\n    elif isinstance(book.get('price'), int):\\n        pass\\n    else:\\n        book['price'] = 0\\n    return book\\n    # sol 2. book2 복사본을 만들어 books.get('price')를 정수 가격으로\\n    # return book2\",\n",
       "  \"def price_parse_int(book):\\n    # sol 1. book.get('price')를 정수 가격으로\\n    if isinstance(book.get('price'), str) \\n        and book.get('price').replace(',', '').isdigit():\\n            book['price'] = int(book['price'].replace(','), '')\\n    elif isinstance(book.get('price'), int):\\n        pass\\n    else:\\n        book['price'] = 0\\n    return book\\n    # sol 2. book2 복사본을 만들어 books.get('price')를 정수 가격으로\\n    # return book2\",\n",
       "  \"def price_parse_int(book):\\n    # sol 1. book.get('price')를 정수 가격으로\\n    if isinstance(book.get('price'), str) \\\\\\n        and book.get('price').replace(',', '').isdigit():\\n            book['price'] = int(book['price'].replace(','), '')\\n    elif isinstance(book.get('price'), int):\\n        pass\\n    else:\\n        book['price'] = 0\\n    return book\\n    # sol 2. book2 복사본을 만들어 books.get('price')를 정수 가격으로\\n    # return book2\",\n",
       "  \"price_parse_int('no':3, \\n                'title': '트럼프2.0시대', \\n                'writer': '박종훈', \\n                'price': '8,000')\",\n",
       "  \"price_parse_int('no': 3, \\n                'title': '트럼프2.0시대', \\n                'writer': '박종훈', \\n                'price': '8,000')\",\n",
       "  \"price_parse_int('no' : 3, \\n                'title': '트럼프2.0시대', \\n                'writer': '박종훈', \\n                'price': '8,000')\",\n",
       "  \"price_parse_int('no' : 3, \\n                'title': '트럼프2.0시대', \\n                'writer': '박'})\",\n",
       "  \"price_parse_int({'no' : 3, \\n                'title': '트럼프', \\n                'writer': '박'})\",\n",
       "  \"# price가 NoneType인 경우 else문 실행\\nbookTemp = {'no' : 3, \\n                 'title': '트럼프', \\n                 'writer': '박'}\\nprice_parse_int(bookTemp)\",\n",
       "  'bookTemp',\n",
       "  \"# price가 NoneType인 경우 else문 실행\\nbookTemp = {'no' : 3, \\n            'title': '트럼프', \\n            'writer': '박'}\\nprice_parse_int(bookTemp)\",\n",
       "  \"def price_parse_int(book):\\n    # sol 1. book.get('price')를 정수 가격으로\\n    if isinstance(book.get('price'), str) \\\\\\n        and book.get('price').replace(',', '').isdigit():\\n            book['price'] = int(book['price'].replace(','), '')\\n    elif isinstance(book.get('price'), int):\\n        pass\\n    else:\\n        book['price'] = 0\\n    return {'no': book.get('no'),\\n            'title': book.get('title'),\\n            'writer': book.get('writer'),\\n            'price': int(book['price'].replace(',', '')) \\\\\\n                    if isinstance(book.get('price'), str) and \\\\\\n                           book.get('price').replace(',', '').isdigit() else()\\n            }\\n    # sol 2. book2 복사본을 만들어 books.get('price')를 정수 가격으로\\n    # return book2\",\n",
       "  \"def price_parse_int(book):\\n    # sol 1. book.get('price')를 정수 가격으로\\n    return {'no': book.get('no'),\\n            'title': book.get('title'),\\n            'writer': book.get('writer'),\\n            'price': int(book['price'].replace(',', '')) \\\\\\n                    if isinstance(book.get('price'), str) and \\\\\\n                           book.get('price').replace(',', '').isdigit() \\\\\\n                    else (book.get('price') \\\\\\n                          if isinstance(book.get('price'), int) else 0)\\n            }\\n    # sol 2. book2 복사본을 만들어 books.get('price')를 정수 가격으로\\n    # return book2\",\n",
       "  '# 람다식으로 변경\\nprice_parse_int = lambda book: ',\n",
       "  \"def price_parse_int(book):\\n    # sol 1. book.get('price')를 정수 가격으로\\n    return {'no': book.get('no'),\\n            'title': book.get('title'),\\n            'writer': book.get('writer'),\\n            'price': int(book['price'].replace(',', '')) \\\\\\n                    if isinstance(book.get('price'), str) and \\\\\\n                           book.get('price').replace(',', '').isdigit() \\\\\\n                    else (book.get('price') \\\\\\n                          if isinstance(book.get('price'), int) else 0)\\n            }\\n    # sol 2. book2 복사본을 만들어 books.get('price')를 정수 가격으로\\n    # return book2\",\n",
       "  \"# price가 NoneType인 경우 else문 실행\\nbookTemp = {'no' : 3, \\n            'title': '트럼프', \\n            'writer': '박'}\\nprice_parse_int(bookTemp)\",\n",
       "  \"# price가 NoneType인 경우 else문 실행\\nbookTemp = {'no' : 3, \\n            'title': '트럼프', \\n            'writer': '이'}\\nprice_parse_int(bookTemp)\",\n",
       "  \"# price가 NoneType인 경우 else문 실행\\nbookTemp = {'no' : 3, \\n            'title': '트럼프', \\n            'writer': '박'}\\nprice_parse_int(bookTemp)\",\n",
       "  \"bookTemp = {'no' : 3, \\n            'title': '트럼프', \\n            'writer': '박'}\\nreturnBook = price_parse_int(bookTemp)\\nreturnBook\",\n",
       "  'bookTemp # vector변수 바뀜',\n",
       "  \"# 실행\\nbookTemp = {'no' : 3, \\n            'title': '트럼프', \\n            'writer': '박'}\\nprice_parse_int(bookTemp)\",\n",
       "  \"price_parse_int = lambda book: {'no': book.get('no'),\\n            'title': book.get('title'),\\n            'writer': book.get('writer'),\\n            'price': int(book['price'].replace(',', '')) \\\\\\n                    if isinstance(book.get('price'), str) and \\\\\\n                           book.get('price').replace(',', '').isdigit() \\\\\\n                    else (book.get('price') \\\\\\n                          if isinstance(book.get('price'), int) else 0)\\n            }\",\n",
       "  \"# map() 매개변수에 람다식 삽입\\nlist(map(lambda book: {'no': book.get('no'),\\n            'title': book.get('title'),\\n            'writer': book.get('writer'),\\n            'price': int(book['price'].replace(',', '')) \\\\\\n                    if isinstance(book.get('price'), str) and \\\\\\n                           book.get('price').replace(',', '').isdigit() \\\\\\n                    else (book.get('price') \\\\\\n                          if isinstance(book.get('price'), int) else 0)\\n            },\\n            books\\n        ))\",\n",
       "  \"# map() 매개변수에 람다식 삽입\\nnewBooks = list(map(lambda book: {'no': book.get('no'),\\n            'title': book.get('title'),\\n            'writer': book.get('writer'),\\n            'price': int(book['price'].replace(',', '')) \\\\\\n                    if isinstance(book.get('price'), str) and \\\\\\n                           book.get('price').replace(',', '').isdigit() \\\\\\n                    else (book.get('price') \\\\\\n                          if isinstance(book.get('price'), int) else 0)\\n            },\\n            books\\n        ))\",\n",
       "  \"# map() 매개변수에 람다식 삽입\\nnewBooks = list(map(lambda book: {'no': book.get('no'),\\n            'title': book.get('title'),\\n            'writer': book.get('writer'),\\n            'price': int(book['price'].replace(',', '')) \\\\\\n                    if isinstance(book.get('price'), str) and \\\\\\n                           book.get('price').replace(',', '').isdigit() \\\\\\n                    else (book.get('price') \\\\\\n                          if isinstance(book.get('price'), int) else 0)\\n            },\\n            books\\n        ))\\nnewBooks\",\n",
       "  \"# 생일 쪼개는 함수 만들기\\ndef birth_split(birth):\\n    if isinstance(members.get('birth'), str)\\n        and members.['birth'].replace('-', ''):\\n            members['birth'].replace('-', '').split()\\n    print(members['birth'])\",\n",
       "  \"# 생일 쪼개는 함수 만들기\\ndef birth_split(birth):\\n    if isinstance(members.get('birth'), str):\\n        and members.['birth'].replace('-', ''):\\n            members['birth'].replace('-', '').split()\\n    print(members['birth'])\",\n",
       "  \"# 생일 쪼개는 함수 만들기\\ndef birth_split(birth):\\n    if isinstance(members.get('birth'), str) \\\\\\n        and members.['birth'].replace('-', ''):\\n            members['birth'].replace('-', '').split()\\n    print(members['birth'])\",\n",
       "  \"# 생일 쪼개는 함수 만들기\\ndef birth_split(birth):\\n    if isinstance(members.get('birth'), str) \\\\\\n        and members['birth'].replace('-', ''):\\n            members['birth'].replace('-', '').split()\\n    print(members['birth'])\",\n",
       "  \"# 생일 쪼개는 함수 만들기\\ndef birth_split(birth):\\n    if isinstance(members.get('birth'), str) \\\\\\n        and members['birth'].replace('-', ''):\\n            members['birth'].replace('-', '').split()\\n\\nbirth_split('2001-01-01')\",\n",
       "  \"# 생일 쪼개는 함수 만들기\\ndef birth_split(birth):\\n    if isinstance(members.get('birth'), str) \\\\\\n        and members['birth'].replace('-', ''):\\n            members['birth'].replace('-', '').split()\\nmembers = [{'name':'홍길동', 'birth':'2000-01-01'},\\n                   {'name':'신길동', 'birth':'1995-12-18'}]\",\n",
       "  \"# 생일 쪼개는 함수 만들기\\ndef birth_split(birth):\\n    if isinstance(members.get('birth'), str) \\\\\\n        and members['birth'].replace('-', ''):\\n            members['birth'].replace('-', '').split()\\nmembers = [{'name':'홍길동', 'birth':'2000-01-01'},\\n                   {'name':'신길동', 'birth':'1995-12-18'}]\\nprint(members.get('birth'))\",\n",
       "  \"# 생일 쪼개는 함수 만들기\\ndef birth_split(birth):\\n    if isinstance(members.get('birth'), str) \\\\\\n        and members['birth'].replace('-', ''):\\n            members['birth'].replace('-', '').split()\\nmembers = [{'name':'홍길동', 'birth':'2000-01-01'},\\n           {'name':'신길동', 'birth':'1995-12-18'}]\\nprint(members.get('birth'))\",\n",
       "  \"# 생일 쪼개는 함수 만들기\\ndef birth_split(member):\\n    if isinstance(member.get('birth'), str) \\\\\\n        and member['birth'].replace('-', ''):\\n            member['birth'].replace('-', '').split()\\n    elif isinstance(member.get('price'), int):\\n        member['birth'].split()\\n    else:\\n        member['birth'] = 0\\nmembers = [{'name':'홍길동', 'birth':'2000-01-01'},\\n           {'name':'신길동', 'birth':'1995-12-18'}]\\nprint(members.get('birth'))\\n# isinstance(book.get('price'), int):\",\n",
       "  \"# 생일 쪼개는 함수 만들기\\ndef birth_split(member):\\n    if isinstance(member.get('birth'), str) \\\\\\n        and member['birth'].replace('-', ''):\\n            member['birth'].replace('-', '').split()\\n    elif isinstance(member.get('price'), int):\\n        member['birth'].split()\\n    else:\\n        member['birth'] = 0\\nmembers = [{'name':'홍길동', 'birth':'2000-01-01'},\\n           {'name':'신길동', 'birth':'1995-12-18'}]\\nprint(members)\",\n",
       "  \"# 생일 쪼개는 함수 만들기\\ndef birth_split(member):\\n    if isinstance(member.get('birth'), str) \\\\\\n        and member['birth'].replace('-', ''):\\n            split_temp = member['birth'].replace('-', '').split()\\n            member['year'] = split_temp[0]\\n            member['month'] = split_temp[1]\\n            member['day'] = split_temp[2]\\n    elif isinstance(member.get('price'), int):\\n        member['birth'].split()\\n    else:\\n        member['birth'] = 0\\nmembers = [{'name':'홍길동', 'birth':'2000-01-01'},\\n           {'name':'신길동', 'birth':'1995-12-18'}]\\nprint(members)\",\n",
       "  \"# 생일 쪼개는 함수 만들기\\ndef birth_split(member):\\n    if isinstance(member.get('birth'), str) \\\\\\n        and member['birth'].replace('-', ''):\\n            split_temp = member['birth'].replace('-', '').split()\\n            member['year'] = split_temp[0]\\n            member['month'] = split_temp[1]\\n            member['day'] = split_temp[2]\\n    elif isinstance(member.get('price'), int):\\n        member['birth'].split()\\n    else:\\n        member['birth'] = 0\\nmembers = [{'name':'홍길동', 'birth':'2000-01-01'},\\n           {'name':'신길동', 'birth':'1995-12-18'}]\\nprint(members)\",\n",
       "  \"# 생일 쪼개는 함수 만들기\\ndef birth_split(member):\\n    if isinstance(member.get('birth'), str) \\\\\\n        and member['birth'].replace('-', ''):\\n            split_temp = member['birth'].replace('-', '').isdigit()\\n            member['year'] = split_temp[0]\\n            member['month'] = split_temp[1]\\n            member['day'] = split_temp[2]\\n    elif isinstance(member.get('price'), int):\\n        split_temp = member['birth'].split()\\n        member['year'] = split_temp[0]\\n            member['month'] = split_temp[1]\\n            member['day'] = split_temp[2]\\n    else:\\n        member['birth'] = 0\\nmembers = [{'name':'홍길동', 'birth':'2000-01-01'},\\n           {'name':'신길동', 'birth':'1995-12-18'}]\\nprint(members)\",\n",
       "  \"# 생일 쪼개는 함수 만들기\\ndef birth_split(member):\\n    if isinstance(member.get('birth'), str) \\\\\\n        and member['birth'].replace('-', ''):\\n            split_temp = member['birth'].replace('-', '').isdigit()\\n            member['year'] = split_temp[0]\\n            member['month'] = split_temp[1]\\n            member['day'] = split_temp[2]\\n    elif isinstance(member.get('price'), int):\\n        split_temp = member['birth'].split()\\n        member['year'] = split_temp[0]\\n            member['month'] = split_temp[1]\\n            member['day'] = split_temp[2]\\n    else:\\n        member['birth'] = 0\\nmembers = [{'name':'홍길동', 'birth':'2000-01-01'},\\n           {'name':'신길동', 'birth':'1995-12-18'}]\\nprint(members)\",\n",
       "  \"# 생일 쪼개는 함수 만들기\\ndef birth_split(member):\\n    if isinstance(member.get('birth'), str) \\\\\\n        and member['birth'].replace('-', ''):\\n            split_temp = member['birth'].replace('-', '').isdigit()\\n            member['year'] = split_temp[0]\\n            member['month'] = split_temp[1]\\n            member['day'] = split_temp[2]\\n    elif isinstance(member.get('price'), int):\\n        split_temp = member['birth'].split()\\n        member['year'] = split_temp[0]\\n        member['month'] = split_temp[1]\\n        member['day'] = split_temp[2]\\n    else:\\n        member['birth'] = 0\\nmembers = [{'name':'홍길동', 'birth':'2000-01-01'},\\n           {'name':'신길동', 'birth':'1995-12-18'}]\\nprint(members)\",\n",
       "  \"# 생일 쪼개는 함수 만들기\\ndef birth_split(member):\\n    if isinstance(member.get('birth'), str) \\\\\\n        and member['birth'].replace('-', ''):\\n            split_temp = member['birth'].replace('-', '').isdigit()\\n            member['year'] = split_temp[0]\\n            member['month'] = split_temp[1]\\n            member['day'] = split_temp[2]\\n    else:\\n        member['birth'] = 0\\nmembers = [{'name':'홍길동', 'birth':'2000-01-01'},\\n           {'name':'신길동', 'birth':'1995-12-18'}]\\nprint(members)\",\n",
       "  \"# 생일 쪼개는 함수 만들기\\ndef birth_split(member):\\n    if isinstance(member.get('birth'), str) \\\\\\n        and member['birth'].replace('-', ''):\\n            split_temp = member['birth'].replace('-', '').isdigit().split()\\n            member['year'] = split_temp[0]\\n            member['month'] = split_temp[1]\\n            member['day'] = split_temp[2]\\n    else:\\n        member['birth'] = 0\\nmembers = [{'name':'홍길동', 'birth':'2000-01-01'},\\n           {'name':'신길동', 'birth':'1995-12-18'}]\\nprint(members)\",\n",
       "  \"# 생일 쪼개는 함수 만들기\\ndef birth_split(member):\\n    split_temp = member['birth'].split('-')\\n    member['year'] = split_temp[0]\\n    member['month'] = split_temp[1]\\n    member['day'] = split_temp[2]\\nmembers = [{'name':'홍길동', 'birth':'2000-01-01'},\\n           {'name':'신길동', 'birth':'1995-12-18'}]\\nprint(members)\",\n",
       "  \"# 생일 쪼개는 함수 만들기\\ndef birth_split(member):\\n    split_temp = member['birth'].split('-')\\n    member['year'] = split_temp[0]\\n    member['month'] = split_temp[1]\\n    member['day'] = split_temp[2]\\nmembers = [{'name':'홍길동', 'birth':'2000-01-01'},\\n           {'name':'신길동', 'birth':'1995-12-18'}]\\nprint(members)\",\n",
       "  \"# 생일 쪼개는 함수 만들기\\ndef birth_split(member):\\n    split_temp = member['birth'].split('-')\\n    member['year'] = split_temp[0]\\n    member['month'] = split_temp[1]\\n    member['day'] = split_temp[2]\\nmembers = [{'name':'홍길동', 'birth':'2000-01-01'},\\n           {'name':'신길동', 'birth':'1995-12-18'}]\\nnew_member = print(members)\",\n",
       "  \"# 생일 쪼개는 함수 만들기\\ndef birth_split(member):\\n    split_temp = member['birth'].split('-')\\n    member['year'] = split_temp[0]\\n    member['month'] = split_temp[1]\\n    member['day'] = split_temp[2]\\nmembers = [{'name':'홍길동', 'birth':'2000-01-01'},\\n           {'name':'신길동', 'birth':'1995-12-18'}]\\nnew_member = print(members)\\nnew_member\",\n",
       "  \"# 생일 쪼개는 함수 만들기\\ndef birth_split(member):\\n    split_temp = member['birth'].split('-')\\n    member['year'] = split_temp[0]\\n    member['month'] = split_temp[1]\\n    member['day'] = split_temp[2]\\nprint(birth_split)\\nmembers = [{'name':'홍길동', 'birth':'2000-01-01'},\\n           {'name':'신길동', 'birth':'1995-12-18'}]\\nprint(members)\",\n",
       "  \"# 생일 쪼개는 함수 만들기\\ndef birth_split(member):\\n    split_temp = member['birth'].split('-')\\n#     member['year'] = split_temp[0]\\n#     member['month'] = split_temp[1]\\n#     member['day'] = split_temp[2]\\n    \\nmembers = [{'name':'홍길동', 'birth':'2000-01-01'},\\n           {'name':'신길동', 'birth':'1995-12-18'}]\\nprint(members)\",\n",
       "  \"# 생일 쪼개는 함수 만들기\\ndef birth_split(member):\\n    split_temp = member['birth'].split('-')\\n    member['year']  = split_temp[0]\\n    member['month'] = split_temp[1]\\n    member['day']   = split_temp[2]\\n    \\nmembers = [{'name':'홍길동', 'birth':'2000-01-01'},\\n           {'name':'신길동', 'birth':'1995-12-18'}]\\nprint(members)\",\n",
       "  \"# '1995-01-01'을 받아 {'year':1995, 'month':1, 'day':1}을 return하는 함수\\nmembers = [{'name':'홍길동', 'birth':'2000-01-01'},\\n           {'name':'신길동', 'birth':'1995-12-18'}]\\n\\ndef split_date(date):\\n    split_data = date.split('-')\\n    return \\n    {del member['birth']\\n    'year'  = int(split_temp[0]),\\n    'month' = int(split_temp[1]),\\n    'day'   = int(split_temp[2]),}\\n    \\nsplit_date('2001-01-08')\",\n",
       "  \"# '1995-01-01'을 받아 {'year':1995, 'month':1, 'day':1}을 return하는 함수\\nmembers = [{'name':'홍길동', 'birth':'2000-01-01'},\\n           {'name':'신길동', 'birth':'1995-12-18'}]\\n\\ndef split_date(date):\\n    split_data = date.split('-')\\n    return \\n    {'year'  = int(split_temp[0]),\\n    'month' = int(split_temp[1]),\\n    'day'   = int(split_temp[2]),}\\n    \\nsplit_date('2001-01-08')\",\n",
       "  \"# '1995-01-01'을 받아 {'year':1995, 'month':1, 'day':1}을 return하는 함수\\nmembers = [{'name':'홍길동', 'birth':'2000-01-01'},\\n           {'name':'신길동', 'birth':'1995-12-18'}]\\n\\ndef split_date(date):\\n    split_data = date.split('-')\\n    return \\n    {'year': int(split_temp[0]),\\n    'month': int(split_temp[1]),\\n    'day'  :int(split_temp[2]),}\\n    \\nsplit_date('2001-01-08')\",\n",
       "  \"# '1995-01-01'을 받아 {'year':1995, 'month':1, 'day':1}을 return하는 함수\\nmembers = [{'name':'홍길동', 'birth':'2000-01-01'},\\n           {'name':'신길동', 'birth':'1995-12-18'}]\\n\\ndef split_date(date):\\n    split_data = date.split('-')\\n    return \\n    {'year': int(split_temp[0]),\\n    'month': int(split_temp[1]),\\n    'day'  : int(split_temp[2]),}\\n    \\nsplit_date('2001-01-08')\",\n",
       "  \"# '1995-01-01'을 받아 {'year':1995, 'month':1, 'day':1}을 return하는 함수\\nmembers = [{'name':'홍길동', 'birth':'2000-01-01'},\\n           {'name':'신길동', 'birth':'1995-12-18'}]\\n\\ndef split_date(date):\\n    split_data = date.split('-')\\n    return \\n    {'year': int(split_temp[0]),\\n    'month': int(split_temp[1]),\\n    'day'  : int(split_temp[2])}\\n    \\nsplit_date('2001-01-08')\",\n",
       "  \"# '1995-01-01'을 받아 {'year':1995, 'month':1, 'day':1}을 return하는 함수\\nmembers = [{'name':'홍길동', 'birth':'2000-01-01'},\\n           {'name':'신길동', 'birth':'1995-12-18'}]\\n\\ndef split_date(date):\\n    split_data = date.split('-')\\n    return \\n    {'year': int(split_data[0]),\\n    'month': int(split_data[1]),\\n    'day'  : int(split_data[2])}\\n    \\nsplit_date('2001-01-08')\",\n",
       "  \"# '1995-01-01'을 받아 {'year':1995, 'month':1, 'day':1}을 return하는 함수\\nmembers = [{'name':'홍길동', 'birth':'2000-01-01'},\\n           {'name':'신길동', 'birth':'1995-12-18'}]\\n\\ndef split_date(date):\\n    split_data = date.split('-')\\n    return {\\n        'year': int(split_data[0]),\\n        'month': int(split_data[1]),\\n        'day'  : int(split_data[2])\\n    }\\n    \\nsplit_date('2001-01-08')\",\n",
       "  \"def split_birth(member): # 'name':'birth'\\n    return {\\n        'name': member.get('name'),\\n        'year': int(member.get('birth').split('-')[0]),\\n        'month': int(member.get('birth').split('-')[1]),\\n        'day': int(member.get('birth').split('-')[2])\\n    }\",\n",
       "  \"split_birth({'name':'홍길동', 'birth':'1999-12-16'})\",\n",
       "  \"split_birth = lambda member : {\\n                    'name':member.get('name'),\\n                    'year':int(member.get('birth').split('-')[0]),\\n                    'month':int(member.get('birth').split('-')[1]),\\n                    'day':int(member.get('birth').split('-')[2]),\\n                }\",\n",
       "  \"split_birth({'name':'홍길동', 'birth':'1999-12-16'})\",\n",
       "  \"members = list(map(lambda member : {\\n                    'name':member.get('name'),\\n                    'year':int(member.get('birth').split('-')[0]),\\n                    'month':int(member.get('birth').split('-')[1]),\\n                    'day':int(member.get('birth').split('-')[2]),\\n                }, members))\\nmembers\",\n",
       "  'def join_date(date): # {year\\': 1995, \\'month\\': 12, \\'day\\': 18} => \"1995-12-18\"\\n    \\'-\\'.join(date)',\n",
       "  \"join_date({'year':1995, 'month': 12, 'day': 18 })\",\n",
       "  \"join_date({'year':1995, 'month': 12, 'day': 18})\",\n",
       "  'def join_date(date): # {year\\': 1995, \\'month\\': 12, \\'day\\': 18} => \"1995-12-18\"\\n    \\'-\\'.join(date)',\n",
       "  \"join_date({'year':1995, 'month': 12, 'day': 18})\",\n",
       "  'def join_date(date): # {year\\': 1995, \\'month\\': 12, \\'day\\': 18} => \"1995-12-18\"\\n    return \\'-\\'.join(date)',\n",
       "  \"join_date({'year':1995, 'month': 12, 'day': 18})\",\n",
       "  'def join_date(date): # {year\\': 1995, \\'month\\': 12, \\'day\\': 18} => \"1995-12-18\"\\n    return \\'-\\'.join(date.values())',\n",
       "  \"join_date({'year':1995, 'month': 12, 'day': 18})\",\n",
       "  \"# join_date({'year':1995, 'month': 12, 'day': 18})\",\n",
       "  'def join_date(date): # {year\\': 1995, \\'month\\': 12, \\'day\\': 18} => \"1995-12-18\"\\n    return \\'{}-{}-{}\\'.format(date[\\'year\\'], date[\\'month\\'], date[\\'day\\'])',\n",
       "  \"join_date({'year':1995, 'month': 12, 'day': 18})\",\n",
       "  \"join_date({'year':1995, 'month': 1, 'day': 1})\",\n",
       "  'def join_date(date): # {year\\': 1995, \\'month\\': 12, \\'day\\': 18} => \"1995-12-18\"\\n    return \\'{}-{:02}-{:02}\\'.format(date[\\'year\\'], date[\\'month\\'], date[\\'day\\'])',\n",
       "  \"join_date({'year':1995, 'month': 1, 'day': 1})\",\n",
       "  'def join_date(date): # {year\\': 1995, \\'month\\': 12, \\'day\\': 18} => \"1995-12-18\"\\n    return \\'{year}-{month:02}-{day:02}\\'.format(\\n                            year  = date[\\'year\\'], \\n                            month = date[\\'month\\'], \\n                            day   = date[\\'day\\'])',\n",
       "  \"join_date({'year':1995, 'month': 1, 'day': 1})\",\n",
       "  'def join_date(date): # {year\\': 1995, \\'month\\': 12, \\'day\\': 18} => \"1995-12-18\"\\n    return \\'{year}-{month:02}-{day:02}\\'.format(**date)',\n",
       "  \"join_date({'year':1995, 'month': 1, 'day': 1})\",\n",
       "  \"def join_birth(member):\\n    name = member['name']\\n    del member['name']\\n    print(member)\",\n",
       "  \"join_birth({'name':'kim', 'year':1995, 'month':1, 'day':2})\",\n",
       "  \"def join_birth(member):\\n    name = member['name']\\n    del member['name']\\n    print(member)\\n    join_date = '{year}-{month:02}-{day:02}'.format(**member)\\n    return {\\n        'name': name,\\n        'birth': join_date\\n    }\",\n",
       "  \"join_birth({'name':'kim', 'year':1995, 'month':1, 'day':2})\",\n",
       "  'members = list(map(join_birth, members))',\n",
       "  'members = list(map(join_birth, members))\\nmembers',\n",
       "  'members = list(map(join_birth, members))\\nmembers',\n",
       "  'members',\n",
       "  \"# '1995-01-01'을 받아 {'year':1995, 'month':1, 'day':1}을 return하는 함수\\nmembers = [{'name':'홍길동', 'birth':'2000-01-01'},\\n           {'name':'신길동', 'birth':'1995-12-18'}]\\n\\ndef split_date(date):\\n    split_data = date.split('-')\\n    return {\\n        'year' : int(split_data[0]),\\n        'month': int(split_data[1]),\\n        'day'  : int(split_data[2])\\n    }\\n    \\nsplit_date('2001-01-08')\",\n",
       "  \"members = list(map(lambda member : {\\n                    'name' :member.get('name'),\\n                    'year' :int(member.get('birth').split('-')[0]),\\n                    'month':int(member.get('birth').split('-')[1]),\\n                    'day'  :int(member.get('birth').split('-')[2]),\\n                }, members))\\nmembers\",\n",
       "  \"members = list(map(lambda member : {\\n                    'name' :member.get('name'),\\n                    'year' :int(member.get('birth').split('-')[0]),\\n                    'month':int(member.get('birth').split('-')[1]),\\n                    'day'  :int(member.get('birth').split('-')[2]),\\n                }, members))\\nmembers\",\n",
       "  \"members = list(map(lambda member : {\\n                    'name' :member.get('name'),\\n                    'year' :int(member.get('birth').split('-')[0]),\\n                    'month':int(member.get('birth').split('-')[1]),\\n                    'day'  :int(member.get('birth').split('-')[2]),\\n                }, members))\\nmembers\",\n",
       "  \"split_birth = lambda member : {\\n                    'name' :member.get('name'),\\n                    'year' :int(member.get('birth').split('-')[0]),\\n                    'month':int(member.get('birth').split('-')[1]),\\n                    'day'  :int(member.get('birth').split('-')[2]),\\n                }\",\n",
       "  \"split_birth = lambda member : {\\n                    'name' :member.get('name'),\\n                    'year' :int(member.get('birth').split('-')[0]),\\n                    'month':int(member.get('birth').split('-')[1]),\\n                    'day'  :int(member.get('birth').split('-')[2]),\\n                }\",\n",
       "  \"split_birth({'name':'홍길동', 'birth':'1999-12-16'})\",\n",
       "  \"members = list(map(lambda member : {\\n                    'name' :member.get('name'),\\n                    'year' :int(member.get('birth').split('-')[0]),\\n                    'month':int(member.get('birth').split('-')[1]),\\n                    'day'  :int(member.get('birth').split('-')[2]),\\n                }, members))\\nmembers\",\n",
       "  'members',\n",
       "  \"# '1995-01-01'을 받아 {'year':1995, 'month':1, 'day':1}을 return하는 함수\\nmembers = [{'name':'홍길동', 'birth':'2000-01-01'},\\n           {'name':'신길동', 'birth':'1995-12-18'}]\\n\\ndef split_date(date):\\n    split_data = date.split('-')\\n    return {\\n        'year' : int(split_data[0]),\\n        'month': int(split_data[1]),\\n        'day'  : int(split_data[2])\\n    }\\n    \\nsplit_date('2001-01-08')\",\n",
       "  'members',\n",
       "  \"members = list(map(lambda member : {\\n                    'name' :member.get('name'),\\n                    'year' :int(member.get('birth').split('-')[0]),\\n                    'month':int(member.get('birth').split('-')[1]),\\n                    'day'  :int(member.get('birth').split('-')[2]),\\n                }, members))\\nmembers\",\n",
       "  'members',\n",
       "  'members = list(map(join_birth, members))\\nmembers',\n",
       "  \"def join_birth(member):\\n    name = member['name']\\n    join_date = '{year}-{month:02}-{day:02}'.format(**member)\\n    return {\\n        'name': name,\\n        'birth': join_date\\n    }\",\n",
       "  'members1',\n",
       "  'members',\n",
       "  \"members2 = list(map(lambda member : {\\n                    'name' :member.get('name'),\\n                    'year' :int(member.get('birth').split('-')[0]),\\n                    'month':int(member.get('birth').split('-')[1]),\\n                    'day'  :int(member.get('birth').split('-')[2]),\\n                }, members1))\\nmembers\",\n",
       "  \"members2 = list(map(lambda member : {\\n                    'name' :member.get('name'),\\n                    'year' :int(member.get('birth').split('-')[0]),\\n                    'month':int(member.get('birth').split('-')[1]),\\n                    'day'  :int(member.get('birth').split('-')[2]),\\n                }, members1))\\nmembers2\",\n",
       "  \"# '1995-01-01'을 받아 {'year':1995, 'month':1, 'day':1}을 return하는 함수\\nmembers1= [{'name':'홍길동', 'birth':'2000-01-01'},\\n           {'name':'신길동', 'birth':'1995-12-18'}]\\n\\ndef split_date(date):\\n    split_data = date.split('-')\\n    return {\\n        'year' : int(split_data[0]),\\n        'month': int(split_data[1]),\\n        'day'  : int(split_data[2])\\n    }\\n    \\nsplit_date('2001-01-08')\",\n",
       "  \"members2 = list(map(lambda member : {\\n                    'name' :member.get('name'),\\n                    'year' :int(member.get('birth').split('-')[0]),\\n                    'month':int(member.get('birth').split('-')[1]),\\n                    'day'  :int(member.get('birth').split('-')[2]),\\n                }, members1))\\nmembers2\",\n",
       "  'members1',\n",
       "  'members2',\n",
       "  'members1 = list(map(join_birth, members))\\nmembers1',\n",
       "  'members1 = list(map(join_birth, members2))\\nmembers1',\n",
       "  \"# apply() 함수\\ndef apply(data, func = None):\\n    if func == None:\\n        print(func)\\n    else:\\n        print('func가 None아님')\",\n",
       "  \"# apply() 함수\\ndef apply(data, func = None):\\n    if func == None:\\n        print('func가 None')\\n    else:\\n        print('func가 None아님')\\napply\",\n",
       "  \"# apply() 함수\\ndef apply(data, func = None):\\n    if func == None:\\n        print('func가 None')\\n    else:\\n        print('func가 None아님')\\napply(!)\",\n",
       "  \"# apply() 함수\\ndef apply(data, func = None):\\n    if func == None:\\n        print('func가 None')\\n    else:\\n        print('func가 None아님')\\napply(1)\",\n",
       "  \"# apply() 함수\\ndef apply(data, func = None):\\n    # if func == None:\\n    if func is None:\\n        print('func가 None')\\n    else:\\n        print('func가 None아님')\\napply(1)\",\n",
       "  '# apply() 함수\\ndef apply(data, func = None):\\n    # if func == None:\\n    if func is None:\\n        return data\\n    else:\\n        return func(data)\\napply(1)',\n",
       "  'print(apply(2))\\nprint(apply(2, lambda x: x ** 3))',\n",
       "  'def make_box(shape): # [x], [x, y]\\n    def box(init_value):                 # 함수 내에 함수 생성하여 그 함수를 return \\n        if len(shape) == 1:              # 매개변수 길이 1이면\\n            return [init_value]*shape[0] # 1차원 list 반환\\n        elif len(shape) == 2:            # 매개변수 길이 2면\\n            return [ [init_value]*shape[1] ]*shape[0]\\n    return box\\n    ',\n",
       "  'line_fun = make_box((3, ))\\nline_fun',\n",
       "  'line_fun = make_box((3, ))\\nline_fun(5)',\n",
       "  'box2d_fun = make_box((4, 3))',\n",
       "  'box2d_fun = make_box((4, 3))\\nbox2d_fun(5)',\n",
       "  'line_fun = make_box((3, ))\\nline_fun(5) # 5로 이루어진 3열짜리 list',\n",
       "  '# return하는 함수를 람다식으로 변환\\ndef make_box(shape):\\n    if len(shape) == 1:\\n        return lambda init_value: [init_value]*shape[0]\\n    elif len(shape) == 2:\\n        return lambda init_value: [ [init_value]*shape[1] ] * shape[0]',\n",
       "  'line_fun = make_box((3, ))\\nline_fun(5) # 5로 이루어진 3열짜리 list',\n",
       "  'box2d_fun = make_box((4, 3))\\nbox2d_fun(5) # 5로 이루어진 2차원 4행 3열짜리 list',\n",
       "  \"int('6')\",\n",
       "  \"int('6.3')\",\n",
       "  \"int('')\",\n",
       "  \"int('6')\",\n",
       "  'gloabals()',\n",
       "  'globals()',\n",
       "  'globals() # 전역변수 리스트'],\n",
       " '_oh': {2: 8,\n",
       "  4: 30,\n",
       "  6: 30,\n",
       "  8: 8,\n",
       "  14: 100,\n",
       "  16: 100,\n",
       "  18: 'negative',\n",
       "  21: 'negative',\n",
       "  22: 'negative',\n",
       "  23: 'negative',\n",
       "  24: 500,\n",
       "  25: 'negative',\n",
       "  26: 0,\n",
       "  29: 0,\n",
       "  32: -1,\n",
       "  33: (0, -1),\n",
       "  34: <function __main__.<lambda>(vector, item)>,\n",
       "  37: 2,\n",
       "  38: -1,\n",
       "  39: -1,\n",
       "  40: -1,\n",
       "  41: 0,\n",
       "  42: 0,\n",
       "  43: (0, -1),\n",
       "  45: '짝수',\n",
       "  46: '홀수',\n",
       "  47: ('홀수', '짝수'),\n",
       "  49: 'B등급',\n",
       "  50: ('B등급', '재시험'),\n",
       "  51: ('A등급', '재시험'),\n",
       "  60: 3,\n",
       "  62: (3, '두 번째 인자가 0이면 나눌 수 없습니다'),\n",
       "  64: [10, 20],\n",
       "  65: [10, 20],\n",
       "  72: [30, -10, 200, 0.5],\n",
       "  74: [30, -10, 200, 0.5],\n",
       "  83: [7, 25],\n",
       "  92: [2, 2, 2, 2, 2, 2, 2, 2],\n",
       "  93: [2, 2, 2, 2, 2, 2, 2, 2],\n",
       "  94: [2, 2, 2, 2, 2, 2, 2, 2],\n",
       "  95: [2, 2, 2, 2, 2, 2, 2, 2],\n",
       "  96: [2, 2, 2, 2, 2, 2, 2, 2],\n",
       "  98: [2, 4, 6, 8, 10, 12, 14, 16],\n",
       "  100: [2, 4, 6, 8, 10, 12, 14, 16],\n",
       "  106: [2, 4, 6, 8, 10, 12, 14, 16],\n",
       "  107: [2, 4, 6, 8, 10, 12, 14, 16],\n",
       "  108: [2, 4, 6, 8, 10, 12, 14, 16],\n",
       "  109: <map at 0x2289929f0a0>,\n",
       "  110: [2, 4, 6, 8, 10, 12, 14, 16],\n",
       "  111: <enumerate at 0x2289b52efc0>,\n",
       "  112: [(0, 1), (1, 2), (2, 3), (3, 4), (4, 5), (5, 6), (6, 7), (7, 8)],\n",
       "  118: [2, 4, 6, 8],\n",
       "  120: <filter at 0x22899281750>,\n",
       "  121: [2, 4, 6, 8],\n",
       "  122: [2, 4, 6, 8],\n",
       "  141: [(1, 'one'), (2, 'two'), (3, 'three'), (4, 'four')],\n",
       "  142: [(2, 'two'), (3, 'three'), (1, 'one'), (4, 'four')],\n",
       "  145: [(2, 'two'), (3, 'three'), (1, 'one'), (4, 'four')],\n",
       "  157: [{'name': '이', 'score': 22},\n",
       "   {'name': '박', 'score': 66},\n",
       "   {'name': '김', 'score': 77},\n",
       "   {'name': '홍', 'score': 99}],\n",
       "  158: [{'name': '이', 'score': 22},\n",
       "   {'name': '박', 'score': 66},\n",
       "   {'name': '김', 'score': 77},\n",
       "   {'name': '홍', 'score': 99}],\n",
       "  160: [{'name': '이', 'score': 22},\n",
       "   {'name': '박', 'score': 66},\n",
       "   {'name': '김', 'score': 77},\n",
       "   {'name': '홍', 'score': 99}],\n",
       "  162: [{'name': '이', 'score': 22},\n",
       "   {'name': '박', 'score': 66},\n",
       "   {'name': '김', 'score': 77},\n",
       "   {'name': '홍', 'score': 99}],\n",
       "  163: [{'name': '이', 'score': 22},\n",
       "   {'name': '박', 'score': 66},\n",
       "   {'name': '김', 'score': 77},\n",
       "   {'name': '홍', 'score': 99}],\n",
       "  166: [{'no': 5, 'title': '가격없음', 'writer': '신길동', 'price': 'None예정'},\n",
       "   {'no': 4, 'title': '가격잘못', 'writer': '홍길동', 'price': 'ㅁ'},\n",
       "   {'no': 1, 'title': '소년이 온다', 'writer': '한강', 'price': '13,500'},\n",
       "   {'no': 3, 'title': '트럼프2.0시대', 'writer': '박종훈', 'price': '18,000'},\n",
       "   {'no': 2, 'title': '트렌드코리아2025', 'writer': '김난도', 'price': '18,100'}],\n",
       "  171: [{'no': 5, 'title': '가격없음', 'writer': '신길동', 'price': 'None예정'},\n",
       "   {'no': 4, 'title': '가격잘못', 'writer': '홍길동', 'price': 'ㅁ'},\n",
       "   {'no': 1, 'title': '소년이 온다', 'writer': '한강', 'price': '13,500'},\n",
       "   {'no': 3, 'title': '트럼프2.0시대', 'writer': '박종훈', 'price': '18,000'},\n",
       "   {'no': 2, 'title': '트렌드코리아2025', 'writer': '김난도', 'price': '18,100'}],\n",
       "  172: [{'no': 5, 'title': '가격없음', 'writer': '신길동', 'price': 'None예정'},\n",
       "   {'no': 4, 'title': '가격잘못', 'writer': '홍길동', 'price': 'ㅁ'},\n",
       "   {'no': 1, 'title': '소년이 온다', 'writer': '한강', 'price': '13,500'},\n",
       "   {'no': 3, 'title': '트럼프2.0시대', 'writer': '박종훈', 'price': '18,000'},\n",
       "   {'no': 2, 'title': '트렌드코리아2025', 'writer': '김난도', 'price': '18,100'}],\n",
       "  173: [{'no': 5, 'title': '가격없음', 'writer': '신길동', 'price': 'None예정'},\n",
       "   {'no': 4, 'title': '가격잘못', 'writer': '홍길동', 'price': 'ㅁ'},\n",
       "   {'no': 1, 'title': '소년이 온다', 'writer': '한강', 'price': '13,500'},\n",
       "   {'no': 3, 'title': '트럼프2.0시대', 'writer': '박종훈', 'price': '18,000'},\n",
       "   {'no': 2, 'title': '트렌드코리아2025', 'writer': '김난도', 'price': '18,100'}],\n",
       "  174: [{'no': 5, 'title': '가격없음', 'writer': '신길동', 'price': 'None예정'},\n",
       "   {'no': 4, 'title': '가격잘못', 'writer': '홍길동', 'price': 'ㅁ'},\n",
       "   {'no': 1, 'title': '소년이 온다', 'writer': '한강', 'price': '13,500'},\n",
       "   {'no': 3, 'title': '트럼프2.0시대', 'writer': '박종훈', 'price': '18,000'},\n",
       "   {'no': 2, 'title': '트렌드코리아2025', 'writer': '김난도', 'price': '18,100'}],\n",
       "  176: [{'no': 5, 'title': '가격없음', 'writer': '신길동'},\n",
       "   {'no': 4, 'title': '가격잘못', 'writer': '홍길동', 'price': 'ㅁ'},\n",
       "   {'no': 1, 'title': '소년이 온다', 'writer': '한강', 'price': '13,500'},\n",
       "   {'no': 3, 'title': '트럼프2.0시대', 'writer': '박종훈', 'price': '18,000'},\n",
       "   {'no': 2, 'title': '트렌드코리아2025', 'writer': '김난도', 'price': '9,100'}],\n",
       "  180: [{'no': 1, 'title': '소년이 온다', 'writer': '한강', 'price': '13,500'},\n",
       "   {'no': 3, 'title': '트럼프2.0시대', 'writer': '박종훈', 'price': '18,000'},\n",
       "   {'no': 2, 'title': '트렌드코리아2025', 'writer': '김난도', 'price': '9,100'},\n",
       "   {'no': 5, 'title': '가격없음', 'writer': '신길동', 'price': 'None예정'},\n",
       "   {'no': 4, 'title': '가격잘못', 'writer': '홍길동', 'price': 'ㅁ'}],\n",
       "  181: [{'no': 1, 'title': '소년이 온다', 'writer': '한강', 'price': '13,500'},\n",
       "   {'no': 3, 'title': '트럼프2.0시대', 'writer': '박종훈', 'price': '18,000'},\n",
       "   {'no': 2, 'title': '트렌드코리아2025', 'writer': '김난도', 'price': '9,100'},\n",
       "   {'no': 5, 'title': '가격없음', 'writer': '신길동', 'price': 'None예정'},\n",
       "   {'no': 4, 'title': '가격잘못', 'writer': '홍길동', 'price': 'ㅁ'}],\n",
       "  187: 13500,\n",
       "  192: (None, None, None, None),\n",
       "  198: (None, None, None, None),\n",
       "  210: ['13,500', '18,000', '9,100', 0, 9200, None],\n",
       "  218: [13500, 18000, 9100, 0, 0, 0],\n",
       "  230: [13500, 18000, 9100, 0, 9200, 0],\n",
       "  231: [13500, 18000, 9100, 0, 9200, 0],\n",
       "  237: [{'no': 4, 'title': '가격잘못', 'writer': '홍길동', 'price': 0},\n",
       "   {'no': 5, 'title': '가격없음', 'writer': '이길동'},\n",
       "   {'no': 2, 'title': '트렌드코리아2025', 'writer': '김난도', 'price': '9,100'},\n",
       "   {'no': 4, 'title': '가격숫자', 'writer': '신길동', 'price': 9200},\n",
       "   {'no': 1, 'title': '소년이 온다', 'writer': '한강', 'price': '13,500'},\n",
       "   {'no': 3, 'title': '트럼프2.0시대', 'writer': '박종훈', 'price': '18,000'}],\n",
       "  238: [{'no': 3, 'title': '트럼프2.0시대', 'writer': '박종훈', 'price': '18,000'},\n",
       "   {'no': 1, 'title': '소년이 온다', 'writer': '한강', 'price': '13,500'},\n",
       "   {'no': 4, 'title': '가격숫자', 'writer': '신길동', 'price': 9200},\n",
       "   {'no': 2, 'title': '트렌드코리아2025', 'writer': '김난도', 'price': '9,100'},\n",
       "   {'no': 4, 'title': '가격잘못', 'writer': '홍길동', 'price': 0},\n",
       "   {'no': 5, 'title': '가격없음', 'writer': '이길동'}],\n",
       "  239: [{'no': 3, 'title': '트럼프2.0시대', 'writer': '박종훈', 'price': '18,000'},\n",
       "   {'no': 1, 'title': '소년이 온다', 'writer': '한강', 'price': '13,500'},\n",
       "   {'no': 4, 'title': '가격숫자', 'writer': '신길동', 'price': 9200},\n",
       "   {'no': 2, 'title': '트렌드코리아2025', 'writer': '김난도', 'price': '9,100'},\n",
       "   {'no': 4, 'title': '가격잘못', 'writer': '홍길동', 'price': 0},\n",
       "   {'no': 5, 'title': '가격없음', 'writer': '이길동'}],\n",
       "  240: [{'no': 3, 'title': '트럼프2.0시대', 'writer': '박종훈', 'price': '18,000'},\n",
       "   {'no': 1, 'title': '소년이 온다', 'writer': '한강', 'price': '13,500'},\n",
       "   {'no': 4, 'title': '가격숫자', 'writer': '신길동', 'price': 9200},\n",
       "   {'no': 2, 'title': '트렌드코리아2025', 'writer': '김난도', 'price': '9,100'},\n",
       "   {'no': 4, 'title': '가격잘못', 'writer': '홍길동', 'price': 0},\n",
       "   {'no': 5, 'title': '가격없음', 'writer': '이길동'}],\n",
       "  243: [{'no': 3, 'title': '트럼프2.0시대', 'writer': '박종훈', 'price': '18,000'},\n",
       "   {'no': 1, 'title': '소년이 온다', 'writer': '한강', 'price': '13,500'},\n",
       "   {'no': 4, 'title': '가격숫자', 'writer': '신길동', 'price': 9200},\n",
       "   {'no': 2, 'title': '트렌드코리아2025', 'writer': '김난도', 'price': '9,100'},\n",
       "   {'no': 4, 'title': '가격잘못', 'writer': '홍길동', 'price': 'ㅁ'},\n",
       "   {'no': 5, 'title': '가격없음', 'writer': '이길동'}],\n",
       "  255: {'no': 3, 'title': '트럼프', 'writer': '박', 'price': 0},\n",
       "  256: {'no': 3, 'title': '트럼프', 'writer': '박', 'price': 0},\n",
       "  257: {'no': 3, 'title': '트럼프', 'writer': '박', 'price': 0},\n",
       "  258: {'no': 3, 'title': '트럼프', 'writer': '박', 'price': 0},\n",
       "  263: {'no': 3, 'title': '트럼프', 'writer': '박', 'price': 0},\n",
       "  264: {'no': 3, 'title': '트럼프', 'writer': '이', 'price': 0},\n",
       "  265: {'no': 3, 'title': '트럼프', 'writer': '박', 'price': 0},\n",
       "  266: {'no': 3, 'title': '트럼프', 'writer': '박', 'price': 0},\n",
       "  267: {'no': 3, 'title': '트럼프', 'writer': '박'},\n",
       "  268: {'no': 3, 'title': '트럼프', 'writer': '박', 'price': 0},\n",
       "  270: [{'no': 3, 'title': '트럼프2.0시대', 'writer': '박종훈', 'price': 18000},\n",
       "   {'no': 1, 'title': '소년이 온다', 'writer': '한강', 'price': 13500},\n",
       "   {'no': 4, 'title': '가격숫자', 'writer': '신길동', 'price': 9200},\n",
       "   {'no': 2, 'title': '트렌드코리아2025', 'writer': '김난도', 'price': 9100},\n",
       "   {'no': 4, 'title': '가격잘못', 'writer': '홍길동', 'price': 0},\n",
       "   {'no': 5, 'title': '가격없음', 'writer': '이길동', 'price': 0}],\n",
       "  272: [{'no': 3, 'title': '트럼프2.0시대', 'writer': '박종훈', 'price': 18000},\n",
       "   {'no': 1, 'title': '소년이 온다', 'writer': '한강', 'price': 13500},\n",
       "   {'no': 4, 'title': '가격숫자', 'writer': '신길동', 'price': 9200},\n",
       "   {'no': 2, 'title': '트렌드코리아2025', 'writer': '김난도', 'price': 9100},\n",
       "   {'no': 4, 'title': '가격잘못', 'writer': '홍길동', 'price': 0},\n",
       "   {'no': 5, 'title': '가격없음', 'writer': '이길동', 'price': 0}],\n",
       "  303: {'year': 2001, 'month': 1, 'day': 8},\n",
       "  305: {'name': '홍길동', 'year': 1999, 'month': 12, 'day': 16},\n",
       "  307: {'name': '홍길동', 'year': 1999, 'month': 12, 'day': 16},\n",
       "  308: [{'year': 2000, 'month': 1, 'day': 1},\n",
       "   {'year': 1995, 'month': 12, 'day': 18}],\n",
       "  315: 'year-month-day',\n",
       "  320: '1995-12-18',\n",
       "  321: '1995-1-1',\n",
       "  323: '1995-01-01',\n",
       "  325: '1995-01-01',\n",
       "  327: '1995-01-01',\n",
       "  331: {'name': 'kim', 'birth': '1995-01-02'},\n",
       "  335: [{'birth': '2000-01-01'}, {'name': '신길동', 'birth': '1995-12-18'}],\n",
       "  336: {'year': 2001, 'month': 1, 'day': 8},\n",
       "  337: [{'name': '홍길동', 'year': 2000, 'month': 1, 'day': 1},\n",
       "   {'name': '신길동', 'year': 1995, 'month': 12, 'day': 18}],\n",
       "  342: {'name': '홍길동', 'year': 1999, 'month': 12, 'day': 16},\n",
       "  344: [{'name': '홍길동', 'year': 2000, 'month': 1, 'day': 1},\n",
       "   {'name': '신길동', 'year': 1995, 'month': 12, 'day': 18}],\n",
       "  345: {'year': 2001, 'month': 1, 'day': 8},\n",
       "  346: [{'name': '홍길동', 'birth': '2000-01-01'},\n",
       "   {'name': '신길동', 'birth': '1995-12-18'}],\n",
       "  347: [{'year': 2000, 'month': 1, 'day': 1},\n",
       "   {'year': 1995, 'month': 12, 'day': 18}],\n",
       "  348: [{'year': 2000, 'month': 1, 'day': 1},\n",
       "   {'year': 1995, 'month': 12, 'day': 18}],\n",
       "  349: [{'name': '홍길동', 'birth': '2000-01-01'},\n",
       "   {'name': '신길동', 'birth': '1995-12-18'}],\n",
       "  352: [{'name': '홍길동', 'birth': '2000-01-01'},\n",
       "   {'name': '신길동', 'birth': '1995-12-18'}],\n",
       "  355: {'year': 2001, 'month': 1, 'day': 8},\n",
       "  356: [{'name': '홍길동', 'year': 2000, 'month': 1, 'day': 1},\n",
       "   {'name': '신길동', 'year': 1995, 'month': 12, 'day': 18}],\n",
       "  357: [{'name': '홍길동', 'birth': '2000-01-01'},\n",
       "   {'name': '신길동', 'birth': '1995-12-18'}],\n",
       "  358: [{'name': '홍길동', 'year': 2000, 'month': 1, 'day': 1},\n",
       "   {'name': '신길동', 'year': 1995, 'month': 12, 'day': 18}],\n",
       "  360: [{'name': '홍길동', 'birth': '2000-01-01'},\n",
       "   {'name': '신길동', 'birth': '1995-12-18'}],\n",
       "  362: <function __main__.apply(data, func=None)>,\n",
       "  366: 1,\n",
       "  369: <function __main__.make_box.<locals>.box(init_value)>,\n",
       "  370: [5, 5, 5],\n",
       "  372: [[5, 5, 5], [5, 5, 5], [5, 5, 5], [5, 5, 5]],\n",
       "  373: [5, 5, 5],\n",
       "  375: [5, 5, 5],\n",
       "  376: [[5, 5, 5], [5, 5, 5], [5, 5, 5], [5, 5, 5]],\n",
       "  377: 6,\n",
       "  380: 6,\n",
       "  382: {...}},\n",
       " '_dh': [WindowsPath('D:/ai/source/07_python')],\n",
       " 'In': ['',\n",
       "  'def add(a, b):\\n    return a + b',\n",
       "  'def add(a, b):\\n    return a + b\\nadd(3, 5)',\n",
       "  'add2 = add',\n",
       "  'add2 = add\\nadd2(10, 20)',\n",
       "  'add2 = lambda a, b\\nadd2(10, 20)',\n",
       "  'add2 = lambda a, b: a + b\\nadd2(10, 20)',\n",
       "  'print(type(add), type(add2))',\n",
       "  '# 익명 함수, 바로 호출 가능\\n(lambda a, b: a + b)(3, 5)',\n",
       "  '# 아래 형식에 익숙해지자\\ndiff2 = lambda a, b: a - b if a >= b else b - a ',\n",
       "  '# if문 사용한 lambda함수\\n# a와 b의 차이를 return \\ndef diff(a, b):\\n    if a >= b:\\n        return a - b\\n    else:\\n        return b - a ',\n",
       "  'print(diff(3, 5), diff(5, 3), diff2(3, 5), diff2(5, 3))',\n",
       "  'print(diff(3, 5), diff(5, 3), diff2(3, 5), diff2(5, 3))\\nprint(type(diff), type(diff2))',\n",
       "  \"# 매개변수로 잔액을 받아 잔액이 음수면 'negative'라고 출력, 양수면 잔액을 출력\\ndef get_balance(balance):\\n    if balance >= 0:\\n        return balance\\n    else:\\n        return 'negative'\",\n",
       "  'get_balance(100)',\n",
       "  \"get_balance = lambda balance: balance if balance >= 0 else 'negative' \",\n",
       "  'get_balance(100)',\n",
       "  \"balance = -500\\nif balance >= 0::\\n    result = balance\\nelse:\\n    result = 'negative'\\nresult\",\n",
       "  \"balance = -500\\nif balance >= 0:\\n    result = balance\\nelse:\\n    result = 'negative'\\nresult\",\n",
       "  \"# 자바의 3항연산자와 유사 \\nresult = balance if balance >= 0 else 'negative'\\n#        balance >= 0 ? balance : 'negative'\",\n",
       "  \"# 자바의 3항연산자와 유사 \\nresult = balance if balance >= 0 else 'negative'\\n#        balance >= 0 ? balance : 'negative'\",\n",
       "  \"# 자바의 3항연산자와 유사 \\nbalance = -500\\nbalance if balance >= 0 else 'negative'\\n#        balance >= 0 ? balance : 'negative'\",\n",
       "  \"# 자바의 3항연산자와 유사 \\n\\nbalance if balance >= 0 else 'negative'\\n#        balance >= 0 ? balance : 'negative'\",\n",
       "  \"# 자바의 3항연산자와 유사 \\nbalance = -500\\nbalance if balance >= 0 else 'negative'\\n#        balance >= 0 ? balance : 'negative'\",\n",
       "  \"# 자바의 3항연산자와 유사 \\nbalance = 500\\nbalance if balance >= 0 else 'negative'\\n#        balance >= 0 ? balance : 'negative'\",\n",
       "  \"# 자바의 3항연산자와 유사 \\nbalance = -500\\nbalance if balance >= 0 else 'negative'\\n#        balance >= 0 ? balance : 'negative'\",\n",
       "  '# 아래의 함수도 람다식으로 바꿀 수 있음\\nlst = [1, 2, 3]\\nlst.index(1)',\n",
       "  '# 아래의 함수도 람다식으로 바꿀 수 있음\\nlst = [1, 2, 3]\\nlst.index(4)',\n",
       "  '# 아래의 함수도 람다식으로 바꿀 수 있음\\nv = [1, 2, 3]\\nv.index(1)\\ndef safe_index(vector, item)',\n",
       "  '# 아래의 함수도 람다식으로 바꿀 수 있음\\nv = [1, 2, 3]\\nv.index(1)\\n# def safe_index(v, item)',\n",
       "  '# 아래의 함수도 람다식으로 바꿀 수 있음\\nv = [1, 2, 3]\\nv.index(4)\\n# def safe_index(v, item)',\n",
       "  '# 아래의 함수도 람다식으로 바꿀 수 있음\\nv = [1, 2, 3]\\nv.index(4) # ValueError: 4 is not in list\\ndef safe_index(vector, item):\\n    if item in vector:\\n        return vector.index(item)\\n    else:\\n        return -1\\nsafe_index(v, 4)',\n",
       "  '# 아래의 함수도 람다식으로 바꿀 수 있음\\nv = [1, 2, 3]\\n# v.index(4) # ValueError: 4 is not in list\\ndef safe_index(vector, item):\\n    if item in vector:\\n        return vector.index(item)\\n    else:\\n        return -1\\nsafe_index(v, 4)',\n",
       "  '# 아래의 함수도 람다식으로 바꿀 수 있음\\nv = [1, 2, 3]\\n# v.index(4) # ValueError: 4 is not in list\\ndef safe_index(vector, item):\\n    if item in vector:\\n        return vector.index(item)\\n    else:\\n        return -1\\nsafe_index(v, 1), safe_index(v, 4)',\n",
       "  'lambda vector, item: vector.index(item) if item in vector else -1',\n",
       "  'def safe_index(vector, item):\\n    return vector.index(item) if item in vector else -1',\n",
       "  '# sol 3(lambda식)\\nsafe_index = lambda vector, item: vector.index(item) if item in vector else -1',\n",
       "  '# sol 3(lambda식)\\nsafe_index = lambda vector, item: vector.index(item) if item in vector else -1\\nsafe_index(v, 3)',\n",
       "  '# sol 3(lambda식)\\nsafe_index = lambda vector, item: vector.index(item) if item in vector else -1\\nsafe_index(v, 4)',\n",
       "  '# sol 3(lambda식)\\nsafe_index = lambda vector, item: vector.index(item) if item in vector else -1\\nsafe_index(v, 999)',\n",
       "  '# sol 3(lambda식)\\nsafe_index = lambda vector, item: vector.index(item) \\\\\\n                                if item in vector else -1\\nsafe_index(v, 999)',\n",
       "  '# sol 3(lambda식)\\nsafe_index = lambda vector, item: vector.index(item) \\\\\\n                                if item in vector else -1\\nsafe_index([1, 2, 3, 4], 1)',\n",
       "  '# sol 3(lambda식)\\nsafe_index = lambda vector, item: vector.index(item) \\\\\\n                                if item in vector else -1\\nsafe_index([1, 2, 3, 4], 1)',\n",
       "  '# sol 3(lambda식)\\nsafe_index = lambda vector, item: vector.index(item) \\\\\\n                                if item in vector else -1\\nsafe_index([1, 2, 3, 4], 1), safe_index((1, 2, 3), 5)',\n",
       "  \"# 매개변수로 들어온 값이 짝수면 '짝수'를, '홀수'면 '홀수'를 return하는 lambda식\\neven_odd_chk = lambda num: '짝수' if num % 2 == 0 else '홀수'\",\n",
       "  'even_odd_chk(4)',\n",
       "  'even_odd_chk(7)',\n",
       "  'even_odd_chk(7), even_odd_chk(-8)',\n",
       "  \"# 조건 여러 개일 때 lambda식\\ndef levelChk(score):\\n    if score >= 80:\\n        return 'A등급'\\n    elif score >= 60:\\n        return 'B등급'\\n    else:\\n        return '재시험'\",\n",
       "  \"# 조건 여러 개일 때 lambda식\\ndef levelChk(score):\\n    if score >= 80:\\n        return 'A등급'\\n    elif score >= 60:\\n        return 'B등급'\\n    else:\\n        return '재시험'\\nlevelChk(65)\",\n",
       "  \"# 조건 여러 개일 때 lambda식\\ndef levelChk(score):\\n    if score >= 80:\\n        return 'A등급'\\n    elif score >= 60:\\n        return 'B등급'\\n    else:\\n        return '재시험'\\nlevelChk(65), levelChk(-9)\",\n",
       "  \"# else문 안에 조건식 삽입\\nlevelChk = lambda score: 'A등급' if score >= 80 \\\\\\n                        else ('B등급' if score >= 60 else '재시험')\\nlevelChk(90), levelChk(55)\",\n",
       "  \"score_grade = lambda score 'A' if 90 <= score <= 100 \\\\\\n                            else ('B' if 80 <= score < 90 \\\\ \\n                            else ('C' if 70 <= score < 80 \\\\\\n                            else ('D' if 60 <= score < 70 \\\\\\n                            else ('F' if 0 <= score < 60 else ('유효하지 않은 점수 등급')))))\",\n",
       "  \"score_grade = lambda score: 'A' if 90 <= score <= 100 \\\\\\n                            else ('B' if 80 <= score < 90 \\\\ \\n                            else ('C' if 70 <= score < 80 \\\\\\n                            else ('D' if 60 <= score < 70 \\\\\\n                            else ('F' if 0 <= score < 60 else ('유효하지 않은 점수 등급')))))\",\n",
       "  \"score_grade = lambda score: 'A' if 90 <= score <= 100 else\\\\\\n                             ('B' if 80 <= score < 90 else\\\\ \\n                             ('C' if 70 <= score < 80 else\\\\\\n                             ('D' if 60 <= score < 70 else\\\\\\n                             ('F' if 0 <= score < 60 else ('유효하지 않은 점수 등급'))))\",\n",
       "  \"score_grade = lambda score: 'A' if 90 <= score <= 100 else\\\\\\n                             'B' if 80 <= score < 90 else\\\\ \\n                             'C' if 70 <= score < 80 else\\\\\\n                             'D' if 60 <= score < 70 else\\\\\\n                             'F' if 0 <= score < 60 else '유효하지 않은 점수 등급'\",\n",
       "  \"score_grade = lambda score: 'A' if 90 <= score <= 100 else \\\\\\n                             'B' if 80 <= score < 90 else \\\\ \\n                             'C' if 70 <= score < 80 else \\\\\\n                             'D' if 60 <= score < 70 else \\\\\\n                             'F' if 0 <= score < 60 else '유효하지 않은 점수 등급'\",\n",
       "  \"score_grade = lambda score: 'A' if 90 <= score <= 100 else \\\\\\n                             'B' if 80 <= score < 90 else \\\\\\n                             'C' if 70 <= score < 80 else \\\\\\n                             'D' if 60 <= score < 70 else \\\\\\n                             'F' if 0 <= score < 60 else '유효하지 않은 점수 등급'\",\n",
       "  \"score_grade = lambda score: 'A' if 90 <= score <= 100 else \\\\\\n                             'B' if 80 <= score < 90 else \\\\\\n                             'C' if 70 <= score < 80 else \\\\\\n                             'D' if 60 <= score < 70 else \\\\\\n                             'F' if 0 <= score < 60 else '유효하지 않은 점수 등급'\",\n",
       "  \"score_grade = lambda score: 'A' if 90 <= score <= 100 else \\\\\\n                            'B' if 80 <= score < 90 else \\\\\\n                            'C' if 70 <= score < 80 else \\\\\\n                            'D' if 60 <= score < 70 else \\\\\\n                            'F' if 0 <= score < 60 else '유효하지 않은 점수 등급'\",\n",
       "  'add = lambda a, b: a + b\\nsub = lambda a, b: a - b\\nmul = lambda a, b: a * b\\ndiv = lambda a, b: a / b\\nadd(3, 0)',\n",
       "  'add = lambda a, b: a + b\\nsub = lambda a, b: a - b\\nmul = lambda a, b: a * b\\ndiv = lambda a, b: a / b\\nadd(3, 0), div(3, 0)',\n",
       "  \"add = lambda a, b: a + b\\nsub = lambda a, b: a - b\\nmul = lambda a, b: a * b\\ndiv = lambda a, b: a / b if b != 0 else '두 번째 인자가 0이면 나눌 수 없습니다'\\nadd(3, 0), div(3, 0)\",\n",
       "  \"add = lambda a, b: a + b\\nsub = lambda a, b: a - b\\nmul = lambda a, b: a * b\\ndiv = lambda a, b: a / b if b != 0 else '두 번째 인자가 0이면 나눌 수 없습니다'\\nadd(3, 0), div(3, 0)\\n\\ni = 10\\nj = 20\\nlst[i, j]\\nlst\",\n",
       "  \"add = lambda a, b: a + b\\nsub = lambda a, b: a - b\\nmul = lambda a, b: a * b\\ndiv = lambda a, b: a / b if b != 0 else '두 번째 인자가 0이면 나눌 수 없습니다'\\nadd(3, 0), div(3, 0)\\n\\ni = 10\\nj = 20\\nlst =  [i, j]\\nlst\",\n",
       "  \"add = lambda a, b: a + b\\nsub = lambda a, b: a - b\\nmul = lambda a, b: a * b\\ndiv = lambda a, b: a / b if b != 0 else '두 번째 인자가 0이면 나눌 수 없습니다'\\nadd(3, 0), div(3, 0)\\n\\ni = 10\\nj = 20\\nlst = [i, j]\\nlst\",\n",
       "  \"add = lambda a, b: a + b\\nsub = lambda a, b: a - b\\nmul = lambda a, b: a * b\\ndiv = lambda a, b: a / b if b != 0 else '두 번째 인자가 0이면 나눌 수 없습니다'\\nadd(3, 0), div(3, 0)\\n\\ni = 10\\nj = 20\\nlst = [i, j]\\nlst\\n\\n# 리스트(operations)에 람다식 삽입\\noperations = [add = lambda a, b: a + b,\\n              sub = lambda a, b: a - b,\\n              mul = lambda a, b: a * b,\\n              div = lambda a, b: a / b if b != 0 else '두 번째 인자가 0이면 나눌 수 없습니다']\",\n",
       "  \"add = lambda a, b: a + b\\nsub = lambda a, b: a - b\\nmul = lambda a, b: a * b\\ndiv = lambda a, b: a / b if b != 0 else '두 번째 인자가 0이면 나눌 수 없습니다'\\nadd(3, 0), div(3, 0)\\n\\ni = 10\\nj = 20\\nlst = [i, j]\\nlst\\n\\n# 리스트(operations)에 람다식 삽입\\noperations = [lambda a, b: a + b,\\n              lambda a, b: a - b,\\n              lambda a, b: a * b,\\n              lambda a, b: a / b if b != 0 else '두 번째 인자가 0이면 나눌 수 없습니다']\",\n",
       "  \"add = lambda a, b: a + b\\nsub = lambda a, b: a - b\\nmul = lambda a, b: a * b\\ndiv = lambda a, b: a / b if b != 0 else '두 번째 인자가 0이면 나눌 수 없습니다'\\nadd(3, 0), div(3, 0)\\n\\ni = 10\\nj = 20\\nlst = [i, j]\\nlst\\n\\n# 리스트(operations)에 람다식 삽입\\noperations = [add, sub, mul, div]\",\n",
       "  \"add = lambda a, b: a + b\\nsub = lambda a, b: a - b\\nmul = lambda a, b: a * b\\ndiv = lambda a, b: a / b if b != 0 else '두 번째 인자가 0이면 나눌 수 없습니다'\\nadd(3, 0), div(3, 0)\\n\\ni = 10\\nj = 20\\nlst = [i, j]\\nlst\\n\\n# 리스트(operations)에 람다식 삽입\\noperations = [add, sub, mul, div]\\n# 매개변수로 함수 list가 옴\\n# 함수명과 변수명은 같을 수 없음\\ndef act_operations(a, b, operations = operations):\\n    \",\n",
       "  'act_operations(10, 20)',\n",
       "  \"add = lambda a, b: a + b\\nsub = lambda a, b: a - b\\nmul = lambda a, b: a * b\\ndiv = lambda a, b: a / b if b != 0 else '두 번째 인자가 0이면 나눌 수 없습니다'\\nadd(3, 0), div(3, 0)\\n\\ni = 10\\nj = 20\\nlst = [i, j]\\nlst\\n\\n# 리스트(operations)에 람다식 삽입\\noperations = [add, sub, mul, div]\\n# 매개변수로 함수 list가 옴\\n# 함수명과 변수명은 같을 수 없음\\ndef act_operations(a, b, operations = operations):\\n    return [a + b, a - b, a * b, a / b]\",\n",
       "  'act_operations(10, 20)',\n",
       "  \"add = lambda a, b: a + b\\nsub = lambda a, b: a - b\\nmul = lambda a, b: a * b\\ndiv = lambda a, b: a / b if b != 0 else '두 번째 인자가 0이면 나눌 수 없습니다'\\nadd(3, 0), div(3, 0)\\n\\ni = 10\\nj = 20\\nlst = [i, j]\\nlst\\n\\n# 리스트(operations)에 람다식 삽입\\noperations = [add, sub, mul, div]\\n# 매개변수로 함수 list가 옴(for문 출력 가능)\\n# 함수명과 변수명은 같을 수 없음\\ndef act_operations(a, b, operations = operations):\\n    result = []\\n    for op in operations:\\n        result.append(op(a, b))\\n    return result\",\n",
       "  'act_operations(10, 20)',\n",
       "  \"# 사칙연산 lambda식\\nadd = lambda a, b: a + b\\nsub = lambda a, b: a - b\\nmul = lambda a, b: a * b\\ndiv = lambda a, b: a / b if b != 0 else '두 번째 인자가 0이면 나눌 수 없습니다'\\nadd(3, 0), div(3, 0)\\n\\ni = 10\\nj = 20\\nlst = [i, j]\\nlst\\n\\n# 리스트(operations)에 람다식 삽입\\noperations = [add, sub, mul, div]\\n# 매개변수로 함수 list가 옴(for문 출력 가능)\\n# 함수명과 변수명은 같을 수 없음\\ndef act_operations(a, b, operations = operations):\\n    result = []\\n    for op in operations:\\n        result.append(op(a, b))\\n    return result\\n# def pow(a, b):\\n#     return a ** b\\n# 제곱을 return하는 람다식을 list에 추가\\noperations.appen(lambda a, b: a ** b)\\nprint(act_operations(10,2))\",\n",
       "  \"# 사칙연산 lambda식\\nadd = lambda a, b: a + b\\nsub = lambda a, b: a - b\\nmul = lambda a, b: a * b\\ndiv = lambda a, b: a / b if b != 0 else '두 번째 인자가 0이면 나눌 수 없습니다'\\nadd(3, 0), div(3, 0)\\n\\ni = 10\\nj = 20\\nlst = [i, j]\\nlst\\n\\n# 리스트(operations)에 람다식 삽입\\noperations = [add, sub, mul, div]\\n# 매개변수로 함수 list가 옴(for문 출력 가능)\\n# 함수명과 변수명은 같을 수 없음\\ndef act_operations(a, b, operations = operations):\\n    result = []\\n    for op in operations:\\n        result.append(op(a, b))\\n    return result\\n# def pow(a, b):\\n#     return a ** b\\n# 제곱을 return하는 람다식을 list에 추가\\noperations.appen(lambda a, b: a ** b)\\nprint(act_operations(10, 2))\",\n",
       "  \"# 사칙연산 lambda식\\nadd = lambda a, b: a + b\\nsub = lambda a, b: a - b\\nmul = lambda a, b: a * b\\ndiv = lambda a, b: a / b if b != 0 else '두 번째 인자가 0이면 나눌 수 없습니다'\\nadd(3, 0), div(3, 0)\\n\\ni = 10\\nj = 20\\nlst = [i, j]\\nlst\\n\\n# 리스트(operations)에 람다식 삽입\\noperations = [add, sub, mul, div]\\n# 매개변수로 함수 list가 옴(for문 출력 가능)\\n# 함수명과 변수명은 같을 수 없음\\ndef act_operations(a, b, operations = operations):\\n    result = []\\n    for op in operations:\\n        result.append(op(a, b))\\n    return result\\n# def pow(a, b):\\n#     return a ** b\\n# 제곱을 return하는 람다식을 list에 추가\\noperations.append(lambda a, b: a ** b)\\nprint(act_operations(10, 2))\",\n",
       "  \"# 사칙연산 lambda식\\nadd = lambda a, b: a + b\\nsub = lambda a, b: a - b\\nmul = lambda a, b: a * b\\ndiv = lambda a, b: a / b if b != 0 else '두 번째 인자가 0이면 나눌 수 없습니다'\\nadd(3, 0), div(3, 0)\\n\\ni = 10\\nj = 20\\nlst = [i, j]\\nlst\\n\\n# 리스트(operations)에 람다식 삽입\\noperations = [add, sub, mul, div]\\n# 매개변수로 함수 list가 옴(for문 출력 가능)\\n# 함수명과 변수명은 같을 수 없음\\ndef act_operations(a, b, operations = operations):\\n    result = []\\n    for op in operations:\\n        result.append(op(a, b))\\n    return result\\n# def pow(a, b):\\n#     return a ** b\\n# 제곱을 return하는 람다식을 list에 추가\\noperations.append(lambda a, b: a ** b)\\nprint(act_operations(10, 2), [lambda a, b: a**b, lambda a, b: a * 10 + b]) # 매개변수 vector일 때, 호출 당시의 값 반영\",\n",
       "  '# act_operations의 함수를 리스트 컴프리헨션을 이용하여 람다식으로 구현\\nact_operations = lambda a, b, operations = operations:\\n    [op(a, b) for op operations in operations]',\n",
       "  '# act_operations의 함수를 리스트 컴프리헨션을 이용하여 람다식으로 구현\\nact_operations = lambda a, b, operations = operations:\\n    result = [op(a, b) for op in operations]\\n    return result',\n",
       "  '# act_operations의 함수를 리스트 컴프리헨션을 이용하여 람다식으로 구현\\ndef act_operations = lambda a, b, operations = operations:\\n    return [op(a, b) for op in operations]',\n",
       "  '# act_operations의 함수를 리스트 컴프리헨션을 이용하여 람다식으로 구현\\ndef act_operations(a, b, operations = operations):\\n    return [op(a, b) for op in operations]',\n",
       "  '# act_operations의 함수를 리스트 컴프리헨션을 이용하여 람다식으로 구현\\noperations = [add, sub, mul, div]\\ndef act_operations(a, b, operations = operations):\\n    return [op(a, b) for op in operations]\\n\\nact_operations = lambda a, b, operations = operations: \\\\\\n                    [op(a, b) for op in operations]\\nact_operations(5, 2, [lambda a, b : a + b, lambda a, b: a ** b])',\n",
       "  '# act_operations의 함수를 리스트 컴프리헨션을 이용하여 람다식으로 구현\\noperations = [add, sub, mul, div]\\ndef act_operations(a, b, operations = operations):\\n    return [op(a, b) for op in operations]\\n\\nact_operations = lambda a, b, operations = operations: \\\\\\n                    [op(a, b) for op in operations]\\nprint(act_operations(5, 2, [lambda a, b : a + b, lambda a, b: a ** b]))\\nprint(act_operations(5, 2))',\n",
       "  '# act_operations의 함수를 리스트 컴프리헨션을 이용하여 람다식으로 구현\\noperations = [add, sub, mul, div]\\ndef act_operations(a, b, operations = operations):\\n    return [op(a, b) for op in operations]\\n\\nact_operations = lambda a, b, operations = operations: \\\\\\n                    [op(a, b) for op in operations]\\nprint(act_operations(5, 2, [lambda a, b : a + b, lambda a, b: a ** b]))\\nact_operations.append(lambda a, b: a + b)\\nprint(act_operations(5, 2))',\n",
       "  '# act_operations의 함수를 리스트 컴프리헨션을 이용하여 람다식으로 구현\\noperations = [add, sub, mul, div]\\ndef act_operations(a, b, operations = operations):\\n    return [op(a, b) for op in operations]\\n\\nact_operations = lambda a, b, operations = operations: \\\\\\n                    [op(a, b) for op in operations]\\nprint(act_operations(5, 2, [lambda a, b : a + b, lambda a, b: a ** b]))\\nact_operations.append(lambda a, b: a ** b)\\nprint(act_operations(5, 2))',\n",
       "  '# act_operations의 함수를 리스트 컴프리헨션을 이용하여 람다식으로 구현\\noperations = [add, sub, mul, div]\\ndef act_operations(a, b, operations = operations):\\n    return [op(a, b) for op in operations]\\n\\nact_operations = lambda a, b, operations = operations: \\\\\\n                    [op(a, b) for op in operations]\\nprint(act_operations(5, 2, [lambda a, b : a + b, lambda a, b: a ** b]))\\noperations.append(lambda a, b: a ** b)\\nprint(act_operations(5, 2))',\n",
       "  '# act_operations의 함수를 리스트 컴프리헨션을 이용하여 람다식으로 구현\\noperations = [add, sub, mul, div]\\ndef act_operations(a, b, operations = operations):\\n    return [op(a, b) for op in operations]\\n\\nact_operations = lambda a, b, operations = operations: \\\\\\n                    [op(a, b) for op in operations]\\n\\nprint(act_operations(5, 2, [lambda a, b : a + b, lambda a, b: a ** b])) # 람다식 2개인 list가 매개변수\\noperations.append(lambda a, b: a ** b) # 제곱 연산 람다식 operations list에 추가\\nprint(act_operations(5, 2))',\n",
       "  '# map 함수 만들기\\n# map 작업: 웹크롤링, 리스트에 반복적으로 동일한 작업 처리\\ndef map_tamplate(func, L = []): # list의 모든 인덱스에 함수 적용\\n    result = []\\n    for item in L:\\n        result.append(func(item)) # return할 list에 함수 적용 결과를 append\\n    return result\\n    ',\n",
       "  'map_tamplate = lambda func, L = []: [func(1) for l in L]',\n",
       "  'list_data = [1, 2, 3, 4, 5, 6, 7, 8]\\ndef x_2(x):\\n    return x * 2',\n",
       "  'list_data = [1, 2, 3, 4, 5, 6, 7, 8]\\ndef x_2(x):\\n    return x * 2\\n# 함수 미리 생성하지 않음\\nmap_tamplate(x_2, list_data)',\n",
       "  'list_data = [1, 2, 3, 4, 5, 6, 7, 8]\\ndef x_2(x):\\n    return x * 2\\n# 함수 미리 생성하지 않음\\nmap_tamplate(x_2, list_data)',\n",
       "  'list_data = [1, 2, 3, 4, 5, 6, 7, 8]\\ndef x_2(x):\\n    return x*2\\n# 함수 미리 생성하지 않음\\nmap_tamplate(x_2, list_data)',\n",
       "  'list_data = [1, 2, 3, 4, 5, 6, 7, 8]\\ndef x_2(x):\\n    return x*2\\n# 함수 미리 생성하지 않음\\nmap_tamplate(x_2, list_data)',\n",
       "  'list_data = [1, 2, 3, 4, 5, 6, 7, 8]\\ndef x_2(x):\\n    return x*2\\n# 함수 미리 생성하지 않음\\nmap_tamplate(x_2, list_data)',\n",
       "  '# map 함수 만들기\\n# map 작업: 웹크롤링, 리스트에 반복적으로 동일한 작업 처리\\ndef map_tamplate(func, L = []): # list의 모든 인덱스에 함수 적용\\n    result = []\\n    for item in L:\\n        result.append(func(item)) # return할 list에 함수 적용 결과를 append\\n    return result\\n    ',\n",
       "  'list_data = [1, 2, 3, 4, 5, 6, 7, 8]\\ndef x_2(x):\\n    return x*2\\n# 함수 미리 생성하지 않음\\nmap_tamplate(x_2, list_data)',\n",
       "  'map_tamplate = lambda func, L = []: [func(l) for l in L]',\n",
       "  'list_data = [1, 2, 3, 4, 5, 6, 7, 8]\\ndef x_2(x):\\n    return x*2\\n# 함수 미리 생성하지 않음\\nmap_tamplate(x_2, list_data)',\n",
       "  '# 함수 미리 생성하지 않음\\n# list_data = [1, 2, 3, 4, 5, 6, 7, 8]\\n# def x_2(x):\\n#     return x * 2\\n# map_tamplate(x_2, list_data)\\n\\nmap_template(lambda x: x * 2, list_data)',\n",
       "  'map_tamplate = lambda func, L = []: [func(l) for l in L]',\n",
       "  '# 함수 미리 생성하지 않음\\n# list_data = [1, 2, 3, 4, 5, 6, 7, 8]\\n# def x_2(x):\\n#     return x * 2\\n# map_tamplate(x_2, list_data)\\n\\nmap_template(lambda x: x * 2, list_data)',\n",
       "  '# map 함수 만들기\\n# map 작업: 웹크롤링, 리스트에 반복적으로 동일한 작업 처리\\ndef map_tamplate(func, L = []): # list의 모든 인덱스에 함수 적용\\n    result = []\\n    for item in L:\\n        result.append(func(item)) # return할 list에 함수 적용 결과를 append\\n    return result',\n",
       "  '# 함수 미리 생성하지 않음\\n# list_data = [1, 2, 3, 4, 5, 6, 7, 8]\\n# def x_2(x):\\n#     return x * 2\\n# map_tamplate(x_2, list_data)\\n\\nmap_template(lambda x: x * 2, list_data)',\n",
       "  '# 함수 미리 생성하지 않음\\n# list_data = [1, 2, 3, 4, 5, 6, 7, 8]\\n# def x_2(x):\\n#     return x * 2\\n# map_tamplate(x_2, list_data)\\n\\nmap_tamplate(lambda x: x * 2, list_data)',\n",
       "  '# 리스트 컴프리헨션\\n[l*2 for l in list_data]',\n",
       "  '# 리스트 컴프리헨션\\n[x*2 for x in list_data]',\n",
       "  '# map 함수: map 객체를 return\\nmap(lambda x: x*2, list_data)',\n",
       "  '# map 함수는 map 객체를 return\\nlist(map(lambda x: x*2, list_data))',\n",
       "  'enumerate(list_data)',\n",
       "  'list(enumerate(list_data))',\n",
       "  \"# enumerate도 유사\\nfor x in map(lambda x: x * 2, list_data):\\n    print(x, end='')\",\n",
       "  \"# enumerate도 유사\\nfor x in map(lambda x: x * 2, list_data):\\n    print(x, end=' ')\",\n",
       "  'def filter_template(func, L = []):\\n    result = []\\n    for item in L:\\n        if func(item):\\n            result.append(item)\\n    return result',\n",
       "  'def evenChk(value):\\n    return value % 2 == 0\\n#     if value % 2 == 0:\\n#         return True\\n#     else:\\n#         return False\\nlist_data = [1, 2, ,3, 4, 5, 6, 7, 8]\\nfilter_template(evenChk = lambda x: x % 2 == 0, L = list_data )',\n",
       "  'def evenChk(value):\\n    return value % 2 == 0\\n#     if value % 2 == 0:\\n#         return True\\n#     else:\\n#         return False\\nlist_data = [1, 2, 3, 4, 5, 6, 7, 8]\\nfilter_template(evenChk = lambda x: x % 2 == 0, L = list_data )',\n",
       "  'def evenChk(value):\\n    return value % 2 == 0\\n#     if value % 2 == 0:\\n#         return True\\n#     else:\\n#         return False\\nlist_data = [1, 2, 3, 4, 5, 6, 7, 8]\\nfilter_template(lambda x: x % 2 == 0, L = list_data)',\n",
       "  \"# filter(): 조건에 맞는 리스트 요소만 반환\\nfor item in filter(lambda x: x % 2 == 0, list_data):\\n    print(item, end=' ')\",\n",
       "  'filter(lambda x: x % 2 == 0, list_data)',\n",
       "  '# 리스트 컴프리헨션 이용\\n[x for x in list_data if x % 2 == 0]',\n",
       "  'list(filter(lambda x: x % 2 == 0, list_data))',\n",
       "  '# quiz: 다음 리스트에서 소수점 이하가 0인 수만 출력하시오\\n# filter 함수, 람다식이용/filter_template / 리스트 컴프리헨션\\nL = [1, 1.2, 1.5, 2, 3.0, 10.5, 100]\\n# [1, 2, 3.0, 100]',\n",
       "  '# quiz: 다음 리스트에서 소수점 이하가 0인 수만 출력하시오\\n# filter 함수, 람다식이용 / filter_template / 리스트 컴프리헨션\\nL = [1, 1.2, 1.5, 2, 3.0, 10.5, 100]\\n# [1, 2, 3.0, 100]\\nx = 2.0\\nprint(x.is_integer())\\n# 1. filter 함수\\nlist(filter(lambda x:  ): )',\n",
       "  '# quiz: 다음 리스트에서 소수점 이하가 0인 수만 출력하시오\\n# filter 함수, 람다식이용 / filter_template / 리스트 컴프리헨션\\nL = [1, 1.2, 1.5, 2, 3.0, 10.5, 100]\\n# [1, 2, 3.0, 100]\\nx = 2.0\\nprint(x.is_integer())\\n# 1. filter 함수\\n# list(filter(lambda x:  ): )',\n",
       "  '# quiz: 다음 리스트에서 소수점 이하가 0인 수만 출력하시오\\n# filter 함수, 람다식이용 / filter_template / 리스트 컴프리헨션\\nL = [1, 1.2, 1.5, 2, 3.0, 10.5, 100]\\n# [1, 2, 3.0, 100]\\nx = 2.0\\n# print(x.is_integer())\\nprint(x % 1.0 == 0)\\nprint(x == round(x))\\nprint(x == x // 1)\\n# 1. filter 함수\\nlist(filter(lambda x: x % 1.0 == 0): L = [])',\n",
       "  '# quiz: 다음 리스트에서 소수점 이하가 0인 수만 출력하시오\\n# filter 함수, 람다식이용 / filter_template / 리스트 컴프리헨션\\nL = [1, 1.2, 1.5, 2, 3.0, 10.5, 100]\\n# [1, 2, 3.0, 100]\\nx = 2.0\\n# print(x.is_integer())\\nprint(x % 1.0 == 0)\\nprint(x == round(x))\\nprint(x == x // 1)\\n# 1. filter 함수\\nlist(filter(lambda x: x % 1.0 == 0), L = [])',\n",
       "  '# quiz: 다음 리스트에서 소수점 이하가 0인 수만 출력하시오\\n# filter 함수, 람다식이용 / filter_template / 리스트 컴프리헨션\\nL = [1, 1.2, 1.5, 2, 3.0, 10.5, 100]\\n# [1, 2, 3.0, 100]\\nx = 2.0\\n# print(x.is_integer())\\nprint(x % 1.0 == 0)\\nprint(x == round(x))\\nprint(x == x // 1)\\n# 1. filter 함수\\nlist(filter(lambda item: item % 1.0 == 0), L = [])',\n",
       "  '# quiz: 다음 리스트에서 소수점 이하가 0인 수만 출력하시오\\n# filter 함수, 람다식이용 / filter_template / 리스트 컴프리헨션\\nL = [1, 1.2, 1.5, 2, 3.0, 10.5, 100]\\n# [1, 2, 3.0, 100]\\nx = 2.0\\n# print(x.is_integer())\\nprint(x % 1.0 == 0)\\nprint(x == round(x))\\nprint(x == x // 1)\\n# 1. filter 함수\\nlist(filter(lambda item: item % 1.0 == 0), L)',\n",
       "  '# quiz: 다음 리스트에서 소수점 이하가 0인 수만 출력하시오\\n# filter 함수, 람다식이용 / filter_template / 리스트 컴프리헨션\\nL = [1, 1.2, 1.5, 2, 3.0, 10.5, 100]\\n# [1, 2, 3.0, 100]\\nx = 2.0\\n# print(x.is_integer())\\nprint(x % 1.0 == 0)\\nprint(x == round(x))\\nprint(x == x // 1)',\n",
       "  '# 1. filter 함수 dlyd\\nlist(filter(lambda x: x % 1.0 == 0), L))',\n",
       "  '# 1. filter 함수 dlyd\\nprint(list(filter(lambda x: x % 1.0 == 0, , L)))',\n",
       "  '# 1. filter 함수 dlyd\\nprint(list(filter(lambda x: x % 1.0 == 0, L)))',\n",
       "  '# 1. filter 함수 dlyd\\nprint(list(filter(lambda x: x % 1.0 == 0, L)))\\nprint(list(filter(lambda x: x == round(x), L)))\\nprint(list(filter(lambda x: x == x // 1, L)))',\n",
       "  '# 1. filter 함수 이용\\nprint(list(filter(lambda x: x % 1.0 == 0, L)))\\nprint(list(filter(lambda x: x == round(x), L)))\\nprint(list(filter(lambda x: x == x // 1, L)))\\n\\n# 2. filter_template 함수 이용\\nprint(filter_template(lambda x: x == round(x), L))',\n",
       "  '# 1. filter 함수 이용\\nprint(list(filter(lambda x: x % 1.0 == 0, L)))\\nprint(list(filter(lambda x: x == round(x), L)))\\nprint(list(filter(lambda x: x == x // 1, L)))\\n\\n# 2. filter_template 함수 이용\\nprint(filter_template(lambda x: x == round(x), L))\\n\\n# 3. 리스트 컴프리헨션 이용\\nprint([x for x in L if x == round(x)])',\n",
       "  '# 예제 2. 베스트셀러 list(딕셔너리 list)를 가격순으로 sort\\np = [10, 3, 6, 1]\\np.sort()',\n",
       "  '# 예제 2. 베스트셀러 list(딕셔너리 list)를 가격순으로 sort\\np = [10, 3, 6, 1]\\np.sort()\\nprint(p)',\n",
       "  '# 예제 2. 베스트셀러 list(딕셔너리 list)를 가격순으로 sort\\np = [10, 3, 6, 1]\\np.sort(reverse=True)\\nprint(p)',\n",
       "  \"pairs = [(2, 'two'), (1, 'one'), (4, 'four'), (3, 'three')]\",\n",
       "  \"# 튜플 list\\npairs = [(2, 'two'), (1, 'one'), (4, 'four'), (3, 'three')]\\npairs.sort()\\npairs\",\n",
       "  \"# 튜플 list\\npairs = [(2, 'two'), (1, 'one'), (4, 'four'), (3, 'three')]\\npairs.sort()\\npairs\",\n",
       "  'pairs.sort(key = lambda pair: pairp[1])',\n",
       "  'pairs.sort(key = lambda pair: pair[1])',\n",
       "  'pairs.sort(key = lambda pair: pair[1], reverse=True)\\npairs',\n",
       "  '# students를 이름, ㄱ, ㄴ, ㄷ 순 정렬\\nstudent.sort(key = lambda student: student[0])',\n",
       "  '# students를 이름, ㄱ, ㄴ, ㄷ 순 정렬\\nstudents.sort(key = lambda student: student[0])',\n",
       "  \"students = [{'name': '홍', 'score':99},\\n            {'name': '이', 'score':22},\\n            {'name': '김', 'score':77},\\n            {'name': '박', 'score':66},]\",\n",
       "  '# students를 이름, ㄱ, ㄴ, ㄷ 순 정렬\\nstudents.sort(key = lambda student: student[0])',\n",
       "  '# students를 이름, ㄱ, ㄴ, ㄷ 순 정렬\\nstudents.sort(key = lambda student: student[0][0])',\n",
       "  '# students를 이름, ㄱ, ㄴ, ㄷ 순 정렬\\nstudents.sorted(key = lambda student: student[0][0])',\n",
       "  '# students를 이름, ㄱ, ㄴ, ㄷ 순 정렬\\nstudents.sort(key = lambda student: student[0][0])',\n",
       "  '# students를 이름, ㄱ, ㄴ, ㄷ 순 정렬\\nstudents.sort(key = lambda students: students[0][0])',\n",
       "  '# students를 이름, ㄱ, ㄴ, ㄷ 순 정렬\\nstudents.sort(key = lambda students: students[0])',\n",
       "  '# students를 이름, ㄱ, ㄴ, ㄷ 순 정렬\\nstudents.sort(key = lambda students: students[1])',\n",
       "  \"# students를 이름, ㄱ, ㄴ, ㄷ 순 정렬\\nstudents.sort(key = lambda student: student['name'])\",\n",
       "  \"# students를 이름, ㄱ, ㄴ, ㄷ 순 정렬\\nstudents.sort(key = lambda student: student['name'])\\nstudents\",\n",
       "  \"# students를 score순으로 오름차순 정렬\\nstudents.sort(key = lambda student: student['score'])\\nstudents\",\n",
       "  \"# students를 score순으로 내림차순 정렬\\nstudents.sort(key = lambda student: student['score'], reverse=True)\",\n",
       "  \"# students를 score순으로 내림차순 정렬\\nstudents.sort(key = lambda student: student['score'], reverse=True)\\nstudents\",\n",
       "  \"# students를 이름, ㄱ, ㄴ, ㄷ 순 정렬\\nstudents.sort(key = lambda student: student.get('name')\\nstudents\",\n",
       "  \"# students를 이름, ㄱ, ㄴ, ㄷ 순 정렬\\nstudents.sort(key = lambda student: student.get('name'))\\nstudents\",\n",
       "  \"# students를 score순으로 오름차순 정렬\\nstudents.sort(key = lambda student: student.get('score'))\\nstudents\",\n",
       "  \"# 도서 정보가 담긴 딕셔너리 list를 sort\\nbooks = \\\\\\n    [{'no':1, 'title':'소년이 온다', 'writer':'한강', 'price': '13,500'},\\n     {'no':3, 'title':'트럼프2.0시대', 'writer':'박종훈', 'price': '18,000'},\\n     {'no':2, 'title':'트렌드코리아2025', 'writer':'김난도', 'price': '18,100'},\\n     {'no':4, 'title':'가격잘못', 'writer':'홍길동', 'price': 'ㅁ'},\\n     {'no':5, 'title':'가격없음', 'writer':'신길동', 'price': 'None예정'},]\",\n",
       "  \"books.sort(key = lambda book: book.get('no'))\",\n",
       "  \"books.sort(key = lambda book: book.get('no'))\\nbooks\",\n",
       "  \"books.sort(key = lambda book: book.get('no'))\\nprint(books)\\nbooks.sort(key = lambda book: book.get('title'))\\nprint(books)\",\n",
       "  \"books.sort(key = lambda book: book.get('no'))\\nprint(books)\\nprint() # 개행\\nbooks.sort(key = lambda book: book.get('title'))\\nprint(books)\",\n",
       "  \"books.sort(key = lambda book: book.get('title'))\\nprint(books)\",\n",
       "  \"books.sort(key = lambda book: book.get('no'))\\nprint(books)\",\n",
       "  \"books.sort(key = lambda book: book.get('title'))\\nbooks\",\n",
       "  \"books.sort(key = lambda book: book.get('no'))\\nbooks\",\n",
       "  \"books.sort(key = lambda book: book['no'])\\nbooks\",\n",
       "  \"books.sort(key = lambda book: book['title'])\\nbooks\",\n",
       "  \"# 가격 결측치로 변경\\nbooks = \\\\\\n    [{'no':1, 'title':'소년이 온다', 'writer':'한강', 'price': '13,500'},\\n     {'no':3, 'title':'트럼프2.0시대', 'writer':'박종훈', 'price': '18,000'},\\n     {'no':2, 'title':'트렌드코리아2025', 'writer':'김난도', 'price': '9,100'},\\n     {'no':4, 'title':'가격잘못', 'writer':'홍길동', 'price': 'ㅁ'},\\n     {'no':5, 'title':'가격없음', 'writer':'신길동'},]\",\n",
       "  \"books.sort(key = lambda book: book['title'])\\nbooks\",\n",
       "  \"books.sort(key = lambda book: book['price'], reverse=True)\",\n",
       "  \"books.sort(key = lambda book: book['price'], reverse=True)\\nbooks\",\n",
       "  \"# 도서 정보가 담긴 딕셔너리 list를 sort\\nbooks = \\\\\\n    [{'no':1, 'title':'소년이 온다', 'writer':'한강', 'price': '13,500'},\\n     {'no':3, 'title':'트럼프2.0시대', 'writer':'박종훈', 'price': '18,000'},\\n     {'no':2, 'title':'트렌드코리아2025', 'writer':'김난도', 'price': '9,100'},\\n     {'no':4, 'title':'가격잘못', 'writer':'홍길동', 'price': 'ㅁ'},\\n     {'no':5, 'title':'가격없음', 'writer':'신길동', 'price': 'None예정'},]\",\n",
       "  \"books.sort(key = lambda book: book['price'], reverse=True)\\nbooks\",\n",
       "  \"# get() 사용해도, type이 string으로 통일되지 않아서 Error\\nbooks.sort(key = lambda book: book.get('price'))\\nbooks\",\n",
       "  \"# 가격 결측치로 변경\\nbooks = \\\\\\n    [{'no':1, 'title':'소년이 온다', 'writer':'한강', 'price': '13,500'},\\n     {'no':3, 'title':'트럼프2.0시대', 'writer':'박종훈', 'price': '18,000'},\\n     {'no':2, 'title':'트렌드코리아2025', 'writer':'김난도', 'price': '9,100'},\\n     {'no':4, 'title':'가격잘못', 'writer':'홍길동', 'price': 'ㅁ'},\\n     {'no':5, 'title':'가격없음', 'writer':'신길동'},]\",\n",
       "  \"# get() 사용해도, type이 string으로 통일되지 않아서 Error\\nbooks.sort(key = lambda book: book.get('price'))\\nbooks\",\n",
       "  \"# get() 사용하더라도 type이 str로 통일되지 않아서(None 포함) Error\\nbooks.sort(key = lambda book: book.get('price'))\\nbooks\",\n",
       "  \"# 가격 결측치로 변경\\nbooks = \\\\\\n    [{'no':1, 'title':'소년이 온다', 'writer':'한강', 'price': '13,500'},\\n     {'no':3, 'title':'트럼프2.0시대', 'writer':'박종훈', 'price': '18,000'},\\n     {'no':2, 'title':'트렌드코리아2025', 'writer':'김난도', 'price': '9,100'},\\n     {'no':4, 'title':'가격잘못', 'writer':'홍길동', 'price': 0},\\n     {'no':4, 'title':'가격숫자', 'writer':'신길동', 'price': 9200},\\n     {'no':5, 'title':'가격없음', 'writer':'이길동'},] # price 데이터: 'None' type\",\n",
       "  \"# get() 사용하더라도 type이 str로 통일되지 않아서(None 포함) Error\\nbooks.sort(key = lambda book: book.get('price'))\\nbooks\",\n",
       "  \"# 문자에서 [,]을 ''로 바꾸고, int로 형변환하는 함수\\ndef parse_int(price):\\n    return int(price.replace(',', ''))\\nparse_int('13,500')\",\n",
       "  \"# 문자에서 [,]을 ''로 바꾸고, int로 형변환하는 함수\\ndef parse_int(price):\\n    return int(price.replace(',', ''))\\nparse_int('13,500')\\nparse_int(9200)\",\n",
       "  \"# 문자에서 [,]을 ''로 바꾸고, int로 형변환하는 함수\\ndef parse_int(price):\\n    return int(price.replace(',', ''))\\nparse_int('13,500')\\nparse_int(9200)\\nparse_int('ㅁ')\\nparse_int(None)\",\n",
       "  \"# 문자에서 [,]을 ''로 바꾸고, int로 형변환하는 함수\\n# 숫자 / 문자 / None 제외\\ndef parse_int(price):\\n    print(type(price))\\n        return int(price.replace(',', ''))\",\n",
       "  \"# 문자에서 [,]을 ''로 바꾸고, int로 형변환하는 함수\\n# 숫자 / 문자 / None 제외\\ndef parse_int(price):\\n    print(type(price))\",\n",
       "  \"parse_int('ㅁ'), parse_int(None), parse_int(9200), parse_int('13,500')\\n# 0,             0,               9200,            13,500\",\n",
       "  \"# 문자에서 [,]을 ''로 바꾸고, int로 형변환하는 함수\\n# 데이터가 int / int변환 불가능한 str / NoneType일 경우를 고려\\n# &  : 논리연산, 비트연산, 집합연산\\n# and: 논리연산\\ndef parse_int(price):\\n    # print(type(price))\\n    if isinstance(price, str) & price.replace(',', '').isdigit() :\\n        print(price)\",\n",
       "  \"parse_int('ㅁ'), parse_int(None), parse_int(9200), parse_int('13,500')\\n# 0,             0,               9200,            13,500\",\n",
       "  \"# 문자에서 [,]을 ''로 바꾸고, int로 형변환하는 함수\\n# 데이터가 int / int변환 불가능한 str / NoneType일 경우를 고려\\n# &  : 논리연산, 비트연산, 집합연산\\n# and: 논리연산\\ndef parse_int(price):\\n    # print(type(price))\\n    if isinstance(price, str) & price.replace(',', '').isdigit():\\n        print(price)\",\n",
       "  \"parse_int('ㅁ'), parse_int(None), parse_int(9200), parse_int('13,500')\\n# 0,             0,               9200,            13,500\",\n",
       "  \"# 문자에서 [,]을 ''로 바꾸고, int로 형변환하는 함수\\n# 데이터가 int / int변환 불가능한 str / NoneType일 경우를 고려\\n# &  : 논리연산, 비트연산, 집합연산\\n# and: 논리연산\\ndef parse_int(price):\\n    # print(type(price))\\n    if isinstance(price, str) and price.replace(',', '').isdigit():\\n        print(price)\",\n",
       "  \"parse_int('ㅁ'), parse_int(None), parse_int(9200), parse_int('13,500')\\n# 0,             0,               9200,            13,500\",\n",
       "  \"# 문자에서 [,]을 ''로 바꾸고, int로 형변환하는 함수\\n# 데이터가 int / int변환 불가능한 str / NoneType일 경우를 고려\\n# &  : 논리연산, 비트연산, 집합연산\\n# and: 논리연산\\ndef parse_int(price):\\n    # print(type(price))\\n    if isinstance(price, str) & price.replace(',', '').isdigit():\\n        print(price)\",\n",
       "  \"parse_int('ㅁ'), parse_int(None), parse_int(9200), parse_int('13,500')\\n# 0,             0,               9200,            13,500\",\n",
       "  \"# 문자에서 [,]을 ''로 바꾸고, int로 형변환하는 함수\\n# 데이터가 int / int변환 불가능한 str / NoneType일 경우를 고려\\n# &  : 논리연산, 비트연산(숫자), 집합연산(set)이 모두 가능하므로, 좌항이 False여도,\\n#      우항이 숫자면 비트연산을 수행해야 하므로 우항을 수행\\n# and: 논리연산의 역할만 하므로, 좌항이 False면 우항 수행 안 함\\ndef parse_int(price):\\n    # print(type(price))\\n    if isinstance(price, str) and price.replace(',', '').isdigit(): # price가 str고, comma 제거한 str이 숫자형태일 때\\n        print(price)\\n    elif isinstance(price, int): # price가 int일 때\\n        return price \\n    else:\\n        return 0\",\n",
       "  \"parse_int('ㅁ')     # 0\\nparse_int(None)     # 0\\nparse_int(9200)     # 9200 \\nparse_int('13,500') # 13,500\",\n",
       "  \"print(parse_int('ㅁ'))     # 0\\nprint(parse_int(None))     # 0\\nprint(parse_int(9200))     # 9200 \\nprint(parse_int('13,500')) # 13,500\",\n",
       "  \"print(parse_int('ㅁ'))     # 0\\nprint(parse_int(None))     # 0\\nprint(parse_int(9200))     # 9200 \\nprint(parse_int('13,500')) # 13,500\",\n",
       "  \"# get() 사용하더라도 type이 str로 통일되지 않아서(None 포함) Error\\nbooks.sort(key = lambda book: book.get('price'))\\nbooks\",\n",
       "  \"# 문자에서 [,]을 ''로 바꾸고, int로 형변환하는 함수\\n# 데이터가 int / int변환 불가능한 str / NoneType일 경우를 고려\\n# &  : 논리연산, 비트연산(숫자), 집합연산(set)이 모두 가능하므로, 좌항이 False여도,\\n#      우항이 숫자면 비트연산을 수행해야 하므로 우항을 수행\\n# and: 논리연산의 역할만 하므로, 좌항이 False면 우항 수행 안 함\\ndef parse_int(price):\\n    # print(type(price))\\n    if isinstance(price, str) and price.replace(',', '').isdigit(): # price가 str고, comma 제거한 str이 숫자형태일 때\\n        print(price)\\n    elif isinstance(price, int): # price가 int일 때\\n        return price \\n    else:\\n        return 0\",\n",
       "  \"print(parse_int('ㅁ'))     # 0\\nprint(parse_int(None))     # 0\\nprint(parse_int(9200))     # 9200 \\nprint(parse_int('13,500')) # 13,500\",\n",
       "  \"# 가격 결측치로 변경\\nbooks = \\\\\\n    [{'no':1, 'title':'소년이 온다', 'writer':'한강', 'price': '13,500'},\\n     {'no':3, 'title':'트럼프2.0시대', 'writer':'박종훈', 'price': '18,000'},\\n     {'no':2, 'title':'트렌드코리아2025', 'writer':'김난도', 'price': '9,100'},\\n     {'no':4, 'title':'가격잘못', 'writer':'홍길동', 'price': 0},\\n     {'no':4, 'title':'가격숫자', 'writer':'신길동', 'price': 9200},\\n     {'no':5, 'title':'가격없음', 'writer':'이길동'},] # price 데이터: 'None' type\",\n",
       "  \"# get() 사용하더라도 type이 str로 통일되지 않아서(None 포함) Error\\nbooks.sort(key = lambda book: book.get('price'))\\nbooks\",\n",
       "  \"testFunc = lambda book: book.get('price')\\n\\n[testFunc(book) for book in books]\",\n",
       "  \"testFunc = lambda book: int(book.get('price').replace(',', '')) \\\\ \\n                if isinstance(price, str) and \\\\\\n                    book.get('price').replace(',', '').isdigit() \\\\\\n                else (price if isinstance(book.get('price'), int) else 0)\\n\\n[testFunc(book) for book in books]\",\n",
       "  \"testFunc = lambda book: int(book.get('price').replace(',', '')) \\\\\\n                if isinstance(price, str) and \\\\\\n                    book.get('price').replace(',', '').isdigit() \\\\\\n                else (price if isinstance(book.get('price'), int) else 0)\\n\\n[testFunc(book) for book in books]\",\n",
       "  \"testFunc = lambda book: int(book.get('price').replace(',', '')) \\\\\\n                if isinstance(price, str) and \\\\\\n                    book.get('price').replace(',', '').isdigit() \\\\\\n                else (book.get('price') if isinstance(book.get('price'), int) else 0)\\n\\n[testFunc(book) for book in books]\",\n",
       "  \"# 가격 결측치로 변경\\nbooks = \\\\\\n    [{'no':1, 'title':'소년이 온다', 'writer':'한강', 'price': '13,500'},\\n     {'no':3, 'title':'트럼프2.0시대', 'writer':'박종훈', 'price': '18,000'},\\n     {'no':2, 'title':'트렌드코리아2025', 'writer':'김난도', 'price': '9,100'},\\n     {'no':4, 'title':'가격잘못', 'writer':'홍길동', 'price': 0},\\n     {'no':4, 'title':'가격숫자', 'writer':'신길동', 'price': 9200},\\n     {'no':5, 'title':'가격없음', 'writer':'이길동'},] # price 데이터: 'None' type\",\n",
       "  \"testFunc = lambda book: int(book.get('price').replace(',', '')) \\\\\\n                if isinstance(price, str) and \\\\\\n                    book.get('price').replace(',', '').isdigit() \\\\\\n                else (book.get('price') if isinstance(book.get('price'), int) else 0)\\n\\n[testFunc(book) for book in books]\",\n",
       "  \"testFunc = lambda book: int(book.get('price').replace(',', '')) \\\\\\n                if isinstance(price, str) and \\\\\\n                    book.get('price').replace(',', '').isdigit() \\\\\\n                else (price if isinstance(book.get('price'), int) else 0)\\n\\n[testFunc(book) for book in books]\",\n",
       "  \"testFunc = lambda book: int(book.get('price').replace(',', '')) \\\\\\n                if isinstance(book.get('price'), str) and \\\\\\n                    book.get('price').replace(',', '').isdigit() \\\\\\n                else (price if isinstance(book.get('price'), int) else 0)\\n\\n[testFunc(book) for book in books]\",\n",
       "  \"testFunc = lambda book: int(book.get('price').replace(',', '')) \\\\\\n                if isinstance(book.get('price'), str) and \\\\\\n                    book.get('price').replace(',', '').isdigit() else 0\\n\\n[testFunc(book) for book in books]\",\n",
       "  \"testFunc = lambda book: int(book.get('price').replace(',', '')) \\\\ # book의 price에서 [,]를 빈스트링으로 변환, int 변환\\n                if isinstance(book.get('price'), str) and \\\\       # price가 str일 경우 and\\n                    book.get('price').replace(',', '').isdigit() \\\\ # [,]를 빈스트링으로 변환한 값이 숫자 형태일 경우만\\n                else (book.get('price') if isinstance(book.get('price'), int)) \\\\\\n                     else 0\\n[testFunc(book) for book in books]\",\n",
       "  \"testFunc = lambda book: int(book.get('price').replace(',', '')) \\\\ # book의 price에서 [,]를 빈스트링으로 변환, int 변환\\n                if isinstance(book.get('price'), str) and \\\\       # price가 str일 경우 and\\n                    book.get('price').replace(',', '').isdigit() \\\\ # [,]를 빈스트링으로 변환한 값이 숫자 형태일 경우만\\n                else (book.get('price') if isinstance(book.get('price'), int) \\\\\\n                     else 0)\\n[testFunc(book) for book in books]\",\n",
       "  \"testFunc = lambda book: int(book.get('price').replace(',', '')) \\\\ # book의 price에서 [,]를 빈스트링으로 변환, int 변환\\n                if isinstance(book.get('price'), str) and \\\\       # price가 str일 경우 and\\n                    book.get('price').replace(',', '').isdigit() \\\\# [,]를 빈스트링으로 변환한 값이 숫자 형태일 경우만\\n                else (book.get('price') if isinstance(book.get('price'), int) \\\\\\n                     else 0)\\n[testFunc(book) for book in books]\",\n",
       "  \"testFunc = lambda book: int(book.get('price').replace(',', '')) \\\\ # book의 price에서 [,]를 빈스트링으로 변환, int 변환\\n                if isinstance(book.get('price'), str) and \\\\       # price가 str일 경우 and\\n                    book.get('price').replace(',', '').isdigit()\\\\# [,]를 빈스트링으로 변환한 값이 숫자 형태일 경우만\\n                else (book.get('price') if isinstance(book.get('price'), int) \\\\\\n                     else 0)\\n[testFunc(book) for book in books]\",\n",
       "  \"testFunc = lambda book: int(book.get('price').replace(',', '')) \\\\# book의 price에서 [,]를 빈스트링으로 변환, int 변환\\n                if isinstance(book.get('price'), str) and \\\\       # price가 str일 경우 and\\n                    book.get('price').replace(',', '').isdigit()\\\\# [,]를 빈스트링으로 변환한 값이 숫자 형태일 경우만\\n                else (book.get('price') if isinstance(book.get('price'), int) \\\\\\n                     else 0)\\n[testFunc(book) for book in books]\",\n",
       "  \"testFunc = lambda book: int(book.get('price').replace(',', ''))\\\\# book의 price에서 [,]를 빈스트링으로 변환, int 변환\\n                if isinstance(book.get('price'), str) and \\\\       # price가 str일 경우 and\\n                    book.get('price').replace(',', '').isdigit()\\\\# [,]를 빈스트링으로 변환한 값이 숫자 형태일 경우만\\n                else (book.get('price') if isinstance(book.get('price'), int) \\\\\\n                     else 0)\\n[testFunc(book) for book in books]\",\n",
       "  \"# book의 price에서 [,]를 빈스트링으로 변환, int 변환\\n# price가 str일 경우 and\\n# [,]를 빈스트링으로 변환한 값이 숫자 형태일 경우만\\ntestFunc = lambda book: int(book.get('price').replace(',', ''))\\\\\\n                if isinstance(book.get('price'), str) and \\\\       \\n                    book.get('price').replace(',', '').isdigit()\\\\\\n                else (book.get('price') if isinstance(book.get('price'), int) \\\\\\n                     else 0)\\n[testFunc(book) for book in books]\",\n",
       "  \"# book의 price에서 [,]를 빈스트링으로 변환, int 변환\\n# price가 str일 경우 and\\n# [,]를 빈스트링으로 변환한 값이 숫자 형태일 경우만\\ntestFunc = lambda book: int(book.get('price').replace(',', ''))\\\\\\n                if isinstance(book.get('price'), str) and \\\\     \\n                    book.get('price').replace(',', '').isdigit()\\\\\\n                else (book.get('price') if isinstance(book.get('price'), int) \\\\\\n                     else 0)\\n[testFunc(book) for book in books]\",\n",
       "  \"# book의 price에서 [,]를 빈스트링으로 변환, int 변환\\n# price가 str일 경우 and\\n# [,]를 빈스트링으로 변환한 값이 숫자 형태일 경우만\\ntestFunc = lambda book: int(book.get('price').replace(',', ''))\\\\\\n                if isinstance(book.get('price'), str) and \\\\     \\n                    book.get('price').replace(',', '').isdigit()\\\\\\n                else book.get('price') if isinstance(book.get('price'), int) \\\\\\n                     else 0\\n[testFunc(book) for book in books]\",\n",
       "  \"# book의 price에서 [,]를 빈스트링으로 변환, int 변환\\n# price가 str일 경우 and\\n# [,]를 빈스트링으로 변환한 값이 숫자 형태일 경우만\\ntestFunc = lambda book: int(book.get('price').replace(',', ''))\\\\\\n            if isinstance(book.get('price'), str) and \\\\     \\n                book.get('price').replace(',', '').isdigit()\\\\\\n            else book.get('price') if isinstance(book.get('price'), int) \\\\\\n                else 0\\n[testFunc(book) for book in books]\",\n",
       "  \"# book의 price에서 [,]를 빈스트링으로 변환, int 변환\\n# price가 str일 경우 and\\n# [,]를 빈스트링으로 변환한 값이 숫자 형태일 경우만\\ntestFunc = lambda book: int(book.get('price').replace(',', '')) \\\\\\n            if isinstance(book.get('price'), str) and \\\\    \\n                book.get('price').replace(',', '').isdigit()\\\\\\n            else book.get('price') if isinstance(book.get('price'), int) \\\\\\n                else 0\\n[testFunc(book) for book in books]\",\n",
       "  \"# book의 price에서 [,]를 빈스트링으로 변환, int 변환\\n# price가 str일 경우 and\\n# [,]를 빈스트링으로 변환한 값이 숫자 형태일 경우만\\ntestFunc = lambda book: int(book.get('price').replace(',', '')) \\\\\\n            if isinstance(book.get('price'), str) and \\\\\\n                book.get('price').replace(',', '').isdigit()\\\\\\n            else book.get('price') if isinstance(book.get('price'), int) \\\\\\n                else 0\\n[testFunc(book) for book in books]\",\n",
       "  \"# book의 price에서 [,]를 빈스트링으로 변환, int 변환한 것을 return\\n# price가 str일 경우 and\\n# [,]를 빈스트링으로 변환한 값이 숫자 형태일 경우만\\n# book의 price를 return\\n# price가 int일 경우\\n# 둘 다 아니면 0 return\\ntestFunc = lambda book: int(book.get('price').replace(',', '')) \\\\\\n            if isinstance(book.get('price'), str) and \\\\\\n                book.get('price').replace(',', '').isdigit()\\\\\\n            else book.get('price') if isinstance(book.get('price'), int) \\\\\\n                else 0\\n[testFunc(book) for book in books]\",\n",
       "  'copyBook = books.copy()',\n",
       "  \"# 람다식으로 변환\\ncopyBooks = books.copy()\\ncopyBooks.sort(key = lambda book: int(book.get(price).replace(',', '')) \\\\\\n               if isinstance(book.get('price'), str) \\\\\\n                   and book.get('price').replace(',', '').isdigit() \\\\\\n               else (price if isinstance(book.get('price'), int) else 0)\\n              )\",\n",
       "  \"# 람다식으로 변환\\ncopyBooks = books.copy()\\ncopyBooks.sort(key = lambda book: int(book.get(price).replace(',', '')) \\\\\\n               if isinstance(book.get('price'), str) \\\\\\n                   and book.get('price').replace(',', '').isdigit() \\\\\\n               else (price if isinstance(book.get('price'), int) else 0)\\n              )\\ncopyBooks\",\n",
       "  \"# 람다식으로 변환\\ncopyBooks = books.copy()\\ncopyBooks.sort(key = lambda book: int(book.get(price).replace(',', '')) \\\\\\n               if isinstance(book.get('price'), str) \\\\\\n                   and book.get('price').replace(',', '').isdigit() \\\\\\n               else (book.get('price') if isinstance(book.get('price'), int) else 0)\\n              )\\ncopyBooks\",\n",
       "  \"# 람다식으로 변환\\ncopyBooks = books.copy()\\ncopyBooks.sort(key = lambda book: int(book.get(price).replace(',', '')) \\\\\\n               if isinstance(book.get('price'), str) \\\\\\n                   and book.get('price').replace(',', '').isdigit() \\\\\\n               else (book.get('price') if isinstance(book.get('price'), int) else 0)\\n              )\\ncopyBooks\",\n",
       "  \"# 람다식으로 변환\\ncopyBooks = books.copy()\\ncopyBooks.sort(key = lambda book: int(book.get('price').replace(',', '')) \\\\\\n               if isinstance(book.get('price'), str) \\\\\\n                   and book.get('price').replace(',', '').isdigit() \\\\\\n               else (book.get('price') if isinstance(book.get('price'), int) else 0)\\n              )\\ncopyBooks\",\n",
       "  \"# 람다식으로 변환\\ncopyBooks = books.copy()\\ncopyBooks.sort(key = lambda book: int(book.get('price').replace(',', '')) \\\\\\n               if isinstance(book.get('price'), str) \\\\\\n                   and book.get('price').replace(',', '').isdigit() \\\\\\n               else (book.get('price') if isinstance(book.get('price'), int) else 0),\\n               reverse=True\\n              )\\ncopyBooks\",\n",
       "  \"# 람다식으로 변환\\ncopyBooks = books.copy()\\ncopyBooks.sort(key = lambda book: int(book.get('price').replace(',', '')) \\\\\\n               if isinstance(book.get('price'), str) \\\\\\n                   and book.get('price').replace(',', '').isdigit() \\\\\\n               else (book.get('price') if isinstance(book.get('price'), int) else 0),\\n               reverse=True # 내림차순\\n              )\\ncopyBooks\",\n",
       "  \"# 람다식으로 변환\\n# copyBooks = books.copy()\\nbooks.sort(key = lambda book: int(book.get('price').replace(',', '')) \\\\\\n               if isinstance(book.get('price'), str) \\\\\\n                   and book.get('price').replace(',', '').isdigit() \\\\\\n               else (book.get('price') if isinstance(book.get('price'), int) else 0),\\n               reverse=True # 내림차순 정렬\\n              )\\nbooks\",\n",
       "  \"# 가격 결측치로 변경\\nbooks = \\\\\\n    [{'no':1, 'title':'소년이 온다', 'writer':'한강', 'price': '13,500'},\\n     {'no':3, 'title':'트럼프2.0시대', 'writer':'박종훈', 'price': '18,000'},\\n     {'no':2, 'title':'트렌드코리아2025', 'writer':'김난도', 'price': '9,100'},\\n     {'no':4, 'title':'가격잘못', 'writer':'홍길동', 'price': 'a'},\\n     {'no':4, 'title':'가격숫자', 'writer':'신길동', 'price': 9200},\\n     {'no':5, 'title':'가격없음', 'writer':'이길동'},] # price 데이터: 'None' type\",\n",
       "  \"# 가격 결측치로 변경\\nbooks = \\\\\\n    [{'no':1, 'title':'소년이 온다', 'writer':'한강', 'price': '13,500'},\\n     {'no':3, 'title':'트럼프2.0시대', 'writer':'박종훈', 'price': '18,000'},\\n     {'no':2, 'title':'트렌드코리아2025', 'writer':'김난도', 'price': '9,100'},\\n     {'no':4, 'title':'가격잘못', 'writer':'홍길동', 'price': 'ㅁ'},\\n     {'no':4, 'title':'가격숫자', 'writer':'신길동', 'price': 9200},\\n     {'no':5, 'title':'가격없음', 'writer':'이길동'},] # price 데이터: 'None' type\",\n",
       "  \"# 람다식으로 변환\\n# copyBooks = books.copy()\\nbooks.sort(key = lambda book: int(book.get('price').replace(',', '')) \\\\\\n               if isinstance(book.get('price'), str) \\\\\\n                   and book.get('price').replace(',', '').isdigit() \\\\\\n               else (book.get('price') if isinstance(book.get('price'), int) else 0),\\n               reverse=True # 내림차순 정렬\\n              )\\nbooks\",\n",
       "  '# map',\n",
       "  \"def price_parse_int(book):\\n    # sol 1. book.get('price')를 정수 가격으로\\n    if isinstance(book.get('price'), str) \\n            and book.get('price').replace(',', '').isdigit():\\n        book['price'] = int(book['price'].replace(','), '')\\n    return book\\n    # sol 2. book2 복사본을 만들어 books.get('price')를 정수 가격으로\\n    # return book2\",\n",
       "  \"def price_parse_int(book):\\n    # sol 1. book.get('price')를 정수 가격으로\\n    if isinstance(book.get('price'), str) \\n            and book.get('price').replace(',', '').isdigit():\\n        book['price'] = int(book['price'].replace(','), '')\\n    elif isinstance(book.get('price'), int):\\n        pass\\n    else:\\n        book['price'] = 0\\n    return book\\n    # sol 2. book2 복사본을 만들어 books.get('price')를 정수 가격으로\\n    # return book2\",\n",
       "  \"def price_parse_int(book):\\n    # sol 1. book.get('price')를 정수 가격으로\\n    if isinstance(book.get('price'), str) \\n        and book.get('price').replace(',', '').isdigit():\\n            book['price'] = int(book['price'].replace(','), '')\\n    elif isinstance(book.get('price'), int):\\n        pass\\n    else:\\n        book['price'] = 0\\n    return book\\n    # sol 2. book2 복사본을 만들어 books.get('price')를 정수 가격으로\\n    # return book2\",\n",
       "  \"def price_parse_int(book):\\n    # sol 1. book.get('price')를 정수 가격으로\\n    if isinstance(book.get('price'), str) \\\\\\n        and book.get('price').replace(',', '').isdigit():\\n            book['price'] = int(book['price'].replace(','), '')\\n    elif isinstance(book.get('price'), int):\\n        pass\\n    else:\\n        book['price'] = 0\\n    return book\\n    # sol 2. book2 복사본을 만들어 books.get('price')를 정수 가격으로\\n    # return book2\",\n",
       "  \"price_parse_int('no':3, \\n                'title': '트럼프2.0시대', \\n                'writer': '박종훈', \\n                'price': '8,000')\",\n",
       "  \"price_parse_int('no': 3, \\n                'title': '트럼프2.0시대', \\n                'writer': '박종훈', \\n                'price': '8,000')\",\n",
       "  \"price_parse_int('no' : 3, \\n                'title': '트럼프2.0시대', \\n                'writer': '박종훈', \\n                'price': '8,000')\",\n",
       "  \"price_parse_int('no' : 3, \\n                'title': '트럼프2.0시대', \\n                'writer': '박'})\",\n",
       "  \"price_parse_int({'no' : 3, \\n                'title': '트럼프', \\n                'writer': '박'})\",\n",
       "  \"# price가 NoneType인 경우 else문 실행\\nbookTemp = {'no' : 3, \\n                 'title': '트럼프', \\n                 'writer': '박'}\\nprice_parse_int(bookTemp)\",\n",
       "  'bookTemp',\n",
       "  \"# price가 NoneType인 경우 else문 실행\\nbookTemp = {'no' : 3, \\n            'title': '트럼프', \\n            'writer': '박'}\\nprice_parse_int(bookTemp)\",\n",
       "  \"def price_parse_int(book):\\n    # sol 1. book.get('price')를 정수 가격으로\\n    if isinstance(book.get('price'), str) \\\\\\n        and book.get('price').replace(',', '').isdigit():\\n            book['price'] = int(book['price'].replace(','), '')\\n    elif isinstance(book.get('price'), int):\\n        pass\\n    else:\\n        book['price'] = 0\\n    return {'no': book.get('no'),\\n            'title': book.get('title'),\\n            'writer': book.get('writer'),\\n            'price': int(book['price'].replace(',', '')) \\\\\\n                    if isinstance(book.get('price'), str) and \\\\\\n                           book.get('price').replace(',', '').isdigit() else()\\n            }\\n    # sol 2. book2 복사본을 만들어 books.get('price')를 정수 가격으로\\n    # return book2\",\n",
       "  \"def price_parse_int(book):\\n    # sol 1. book.get('price')를 정수 가격으로\\n    return {'no': book.get('no'),\\n            'title': book.get('title'),\\n            'writer': book.get('writer'),\\n            'price': int(book['price'].replace(',', '')) \\\\\\n                    if isinstance(book.get('price'), str) and \\\\\\n                           book.get('price').replace(',', '').isdigit() \\\\\\n                    else (book.get('price') \\\\\\n                          if isinstance(book.get('price'), int) else 0)\\n            }\\n    # sol 2. book2 복사본을 만들어 books.get('price')를 정수 가격으로\\n    # return book2\",\n",
       "  '# 람다식으로 변경\\nprice_parse_int = lambda book: ',\n",
       "  \"def price_parse_int(book):\\n    # sol 1. book.get('price')를 정수 가격으로\\n    return {'no': book.get('no'),\\n            'title': book.get('title'),\\n            'writer': book.get('writer'),\\n            'price': int(book['price'].replace(',', '')) \\\\\\n                    if isinstance(book.get('price'), str) and \\\\\\n                           book.get('price').replace(',', '').isdigit() \\\\\\n                    else (book.get('price') \\\\\\n                          if isinstance(book.get('price'), int) else 0)\\n            }\\n    # sol 2. book2 복사본을 만들어 books.get('price')를 정수 가격으로\\n    # return book2\",\n",
       "  \"# price가 NoneType인 경우 else문 실행\\nbookTemp = {'no' : 3, \\n            'title': '트럼프', \\n            'writer': '박'}\\nprice_parse_int(bookTemp)\",\n",
       "  \"# price가 NoneType인 경우 else문 실행\\nbookTemp = {'no' : 3, \\n            'title': '트럼프', \\n            'writer': '이'}\\nprice_parse_int(bookTemp)\",\n",
       "  \"# price가 NoneType인 경우 else문 실행\\nbookTemp = {'no' : 3, \\n            'title': '트럼프', \\n            'writer': '박'}\\nprice_parse_int(bookTemp)\",\n",
       "  \"bookTemp = {'no' : 3, \\n            'title': '트럼프', \\n            'writer': '박'}\\nreturnBook = price_parse_int(bookTemp)\\nreturnBook\",\n",
       "  'bookTemp # vector변수 바뀜',\n",
       "  \"# 실행\\nbookTemp = {'no' : 3, \\n            'title': '트럼프', \\n            'writer': '박'}\\nprice_parse_int(bookTemp)\",\n",
       "  \"price_parse_int = lambda book: {'no': book.get('no'),\\n            'title': book.get('title'),\\n            'writer': book.get('writer'),\\n            'price': int(book['price'].replace(',', '')) \\\\\\n                    if isinstance(book.get('price'), str) and \\\\\\n                           book.get('price').replace(',', '').isdigit() \\\\\\n                    else (book.get('price') \\\\\\n                          if isinstance(book.get('price'), int) else 0)\\n            }\",\n",
       "  \"# map() 매개변수에 람다식 삽입\\nlist(map(lambda book: {'no': book.get('no'),\\n            'title': book.get('title'),\\n            'writer': book.get('writer'),\\n            'price': int(book['price'].replace(',', '')) \\\\\\n                    if isinstance(book.get('price'), str) and \\\\\\n                           book.get('price').replace(',', '').isdigit() \\\\\\n                    else (book.get('price') \\\\\\n                          if isinstance(book.get('price'), int) else 0)\\n            },\\n            books\\n        ))\",\n",
       "  \"# map() 매개변수에 람다식 삽입\\nnewBooks = list(map(lambda book: {'no': book.get('no'),\\n            'title': book.get('title'),\\n            'writer': book.get('writer'),\\n            'price': int(book['price'].replace(',', '')) \\\\\\n                    if isinstance(book.get('price'), str) and \\\\\\n                           book.get('price').replace(',', '').isdigit() \\\\\\n                    else (book.get('price') \\\\\\n                          if isinstance(book.get('price'), int) else 0)\\n            },\\n            books\\n        ))\",\n",
       "  \"# map() 매개변수에 람다식 삽입\\nnewBooks = list(map(lambda book: {'no': book.get('no'),\\n            'title': book.get('title'),\\n            'writer': book.get('writer'),\\n            'price': int(book['price'].replace(',', '')) \\\\\\n                    if isinstance(book.get('price'), str) and \\\\\\n                           book.get('price').replace(',', '').isdigit() \\\\\\n                    else (book.get('price') \\\\\\n                          if isinstance(book.get('price'), int) else 0)\\n            },\\n            books\\n        ))\\nnewBooks\",\n",
       "  \"# 생일 쪼개는 함수 만들기\\ndef birth_split(birth):\\n    if isinstance(members.get('birth'), str)\\n        and members.['birth'].replace('-', ''):\\n            members['birth'].replace('-', '').split()\\n    print(members['birth'])\",\n",
       "  \"# 생일 쪼개는 함수 만들기\\ndef birth_split(birth):\\n    if isinstance(members.get('birth'), str):\\n        and members.['birth'].replace('-', ''):\\n            members['birth'].replace('-', '').split()\\n    print(members['birth'])\",\n",
       "  \"# 생일 쪼개는 함수 만들기\\ndef birth_split(birth):\\n    if isinstance(members.get('birth'), str) \\\\\\n        and members.['birth'].replace('-', ''):\\n            members['birth'].replace('-', '').split()\\n    print(members['birth'])\",\n",
       "  \"# 생일 쪼개는 함수 만들기\\ndef birth_split(birth):\\n    if isinstance(members.get('birth'), str) \\\\\\n        and members['birth'].replace('-', ''):\\n            members['birth'].replace('-', '').split()\\n    print(members['birth'])\",\n",
       "  \"# 생일 쪼개는 함수 만들기\\ndef birth_split(birth):\\n    if isinstance(members.get('birth'), str) \\\\\\n        and members['birth'].replace('-', ''):\\n            members['birth'].replace('-', '').split()\\n\\nbirth_split('2001-01-01')\",\n",
       "  \"# 생일 쪼개는 함수 만들기\\ndef birth_split(birth):\\n    if isinstance(members.get('birth'), str) \\\\\\n        and members['birth'].replace('-', ''):\\n            members['birth'].replace('-', '').split()\\nmembers = [{'name':'홍길동', 'birth':'2000-01-01'},\\n                   {'name':'신길동', 'birth':'1995-12-18'}]\",\n",
       "  \"# 생일 쪼개는 함수 만들기\\ndef birth_split(birth):\\n    if isinstance(members.get('birth'), str) \\\\\\n        and members['birth'].replace('-', ''):\\n            members['birth'].replace('-', '').split()\\nmembers = [{'name':'홍길동', 'birth':'2000-01-01'},\\n                   {'name':'신길동', 'birth':'1995-12-18'}]\\nprint(members.get('birth'))\",\n",
       "  \"# 생일 쪼개는 함수 만들기\\ndef birth_split(birth):\\n    if isinstance(members.get('birth'), str) \\\\\\n        and members['birth'].replace('-', ''):\\n            members['birth'].replace('-', '').split()\\nmembers = [{'name':'홍길동', 'birth':'2000-01-01'},\\n           {'name':'신길동', 'birth':'1995-12-18'}]\\nprint(members.get('birth'))\",\n",
       "  \"# 생일 쪼개는 함수 만들기\\ndef birth_split(member):\\n    if isinstance(member.get('birth'), str) \\\\\\n        and member['birth'].replace('-', ''):\\n            member['birth'].replace('-', '').split()\\n    elif isinstance(member.get('price'), int):\\n        member['birth'].split()\\n    else:\\n        member['birth'] = 0\\nmembers = [{'name':'홍길동', 'birth':'2000-01-01'},\\n           {'name':'신길동', 'birth':'1995-12-18'}]\\nprint(members.get('birth'))\\n# isinstance(book.get('price'), int):\",\n",
       "  \"# 생일 쪼개는 함수 만들기\\ndef birth_split(member):\\n    if isinstance(member.get('birth'), str) \\\\\\n        and member['birth'].replace('-', ''):\\n            member['birth'].replace('-', '').split()\\n    elif isinstance(member.get('price'), int):\\n        member['birth'].split()\\n    else:\\n        member['birth'] = 0\\nmembers = [{'name':'홍길동', 'birth':'2000-01-01'},\\n           {'name':'신길동', 'birth':'1995-12-18'}]\\nprint(members)\",\n",
       "  \"# 생일 쪼개는 함수 만들기\\ndef birth_split(member):\\n    if isinstance(member.get('birth'), str) \\\\\\n        and member['birth'].replace('-', ''):\\n            split_temp = member['birth'].replace('-', '').split()\\n            member['year'] = split_temp[0]\\n            member['month'] = split_temp[1]\\n            member['day'] = split_temp[2]\\n    elif isinstance(member.get('price'), int):\\n        member['birth'].split()\\n    else:\\n        member['birth'] = 0\\nmembers = [{'name':'홍길동', 'birth':'2000-01-01'},\\n           {'name':'신길동', 'birth':'1995-12-18'}]\\nprint(members)\",\n",
       "  \"# 생일 쪼개는 함수 만들기\\ndef birth_split(member):\\n    if isinstance(member.get('birth'), str) \\\\\\n        and member['birth'].replace('-', ''):\\n            split_temp = member['birth'].replace('-', '').split()\\n            member['year'] = split_temp[0]\\n            member['month'] = split_temp[1]\\n            member['day'] = split_temp[2]\\n    elif isinstance(member.get('price'), int):\\n        member['birth'].split()\\n    else:\\n        member['birth'] = 0\\nmembers = [{'name':'홍길동', 'birth':'2000-01-01'},\\n           {'name':'신길동', 'birth':'1995-12-18'}]\\nprint(members)\",\n",
       "  \"# 생일 쪼개는 함수 만들기\\ndef birth_split(member):\\n    if isinstance(member.get('birth'), str) \\\\\\n        and member['birth'].replace('-', ''):\\n            split_temp = member['birth'].replace('-', '').isdigit()\\n            member['year'] = split_temp[0]\\n            member['month'] = split_temp[1]\\n            member['day'] = split_temp[2]\\n    elif isinstance(member.get('price'), int):\\n        split_temp = member['birth'].split()\\n        member['year'] = split_temp[0]\\n            member['month'] = split_temp[1]\\n            member['day'] = split_temp[2]\\n    else:\\n        member['birth'] = 0\\nmembers = [{'name':'홍길동', 'birth':'2000-01-01'},\\n           {'name':'신길동', 'birth':'1995-12-18'}]\\nprint(members)\",\n",
       "  \"# 생일 쪼개는 함수 만들기\\ndef birth_split(member):\\n    if isinstance(member.get('birth'), str) \\\\\\n        and member['birth'].replace('-', ''):\\n            split_temp = member['birth'].replace('-', '').isdigit()\\n            member['year'] = split_temp[0]\\n            member['month'] = split_temp[1]\\n            member['day'] = split_temp[2]\\n    elif isinstance(member.get('price'), int):\\n        split_temp = member['birth'].split()\\n        member['year'] = split_temp[0]\\n            member['month'] = split_temp[1]\\n            member['day'] = split_temp[2]\\n    else:\\n        member['birth'] = 0\\nmembers = [{'name':'홍길동', 'birth':'2000-01-01'},\\n           {'name':'신길동', 'birth':'1995-12-18'}]\\nprint(members)\",\n",
       "  \"# 생일 쪼개는 함수 만들기\\ndef birth_split(member):\\n    if isinstance(member.get('birth'), str) \\\\\\n        and member['birth'].replace('-', ''):\\n            split_temp = member['birth'].replace('-', '').isdigit()\\n            member['year'] = split_temp[0]\\n            member['month'] = split_temp[1]\\n            member['day'] = split_temp[2]\\n    elif isinstance(member.get('price'), int):\\n        split_temp = member['birth'].split()\\n        member['year'] = split_temp[0]\\n        member['month'] = split_temp[1]\\n        member['day'] = split_temp[2]\\n    else:\\n        member['birth'] = 0\\nmembers = [{'name':'홍길동', 'birth':'2000-01-01'},\\n           {'name':'신길동', 'birth':'1995-12-18'}]\\nprint(members)\",\n",
       "  \"# 생일 쪼개는 함수 만들기\\ndef birth_split(member):\\n    if isinstance(member.get('birth'), str) \\\\\\n        and member['birth'].replace('-', ''):\\n            split_temp = member['birth'].replace('-', '').isdigit()\\n            member['year'] = split_temp[0]\\n            member['month'] = split_temp[1]\\n            member['day'] = split_temp[2]\\n    else:\\n        member['birth'] = 0\\nmembers = [{'name':'홍길동', 'birth':'2000-01-01'},\\n           {'name':'신길동', 'birth':'1995-12-18'}]\\nprint(members)\",\n",
       "  \"# 생일 쪼개는 함수 만들기\\ndef birth_split(member):\\n    if isinstance(member.get('birth'), str) \\\\\\n        and member['birth'].replace('-', ''):\\n            split_temp = member['birth'].replace('-', '').isdigit().split()\\n            member['year'] = split_temp[0]\\n            member['month'] = split_temp[1]\\n            member['day'] = split_temp[2]\\n    else:\\n        member['birth'] = 0\\nmembers = [{'name':'홍길동', 'birth':'2000-01-01'},\\n           {'name':'신길동', 'birth':'1995-12-18'}]\\nprint(members)\",\n",
       "  \"# 생일 쪼개는 함수 만들기\\ndef birth_split(member):\\n    split_temp = member['birth'].split('-')\\n    member['year'] = split_temp[0]\\n    member['month'] = split_temp[1]\\n    member['day'] = split_temp[2]\\nmembers = [{'name':'홍길동', 'birth':'2000-01-01'},\\n           {'name':'신길동', 'birth':'1995-12-18'}]\\nprint(members)\",\n",
       "  \"# 생일 쪼개는 함수 만들기\\ndef birth_split(member):\\n    split_temp = member['birth'].split('-')\\n    member['year'] = split_temp[0]\\n    member['month'] = split_temp[1]\\n    member['day'] = split_temp[2]\\nmembers = [{'name':'홍길동', 'birth':'2000-01-01'},\\n           {'name':'신길동', 'birth':'1995-12-18'}]\\nprint(members)\",\n",
       "  \"# 생일 쪼개는 함수 만들기\\ndef birth_split(member):\\n    split_temp = member['birth'].split('-')\\n    member['year'] = split_temp[0]\\n    member['month'] = split_temp[1]\\n    member['day'] = split_temp[2]\\nmembers = [{'name':'홍길동', 'birth':'2000-01-01'},\\n           {'name':'신길동', 'birth':'1995-12-18'}]\\nnew_member = print(members)\",\n",
       "  \"# 생일 쪼개는 함수 만들기\\ndef birth_split(member):\\n    split_temp = member['birth'].split('-')\\n    member['year'] = split_temp[0]\\n    member['month'] = split_temp[1]\\n    member['day'] = split_temp[2]\\nmembers = [{'name':'홍길동', 'birth':'2000-01-01'},\\n           {'name':'신길동', 'birth':'1995-12-18'}]\\nnew_member = print(members)\\nnew_member\",\n",
       "  \"# 생일 쪼개는 함수 만들기\\ndef birth_split(member):\\n    split_temp = member['birth'].split('-')\\n    member['year'] = split_temp[0]\\n    member['month'] = split_temp[1]\\n    member['day'] = split_temp[2]\\nprint(birth_split)\\nmembers = [{'name':'홍길동', 'birth':'2000-01-01'},\\n           {'name':'신길동', 'birth':'1995-12-18'}]\\nprint(members)\",\n",
       "  \"# 생일 쪼개는 함수 만들기\\ndef birth_split(member):\\n    split_temp = member['birth'].split('-')\\n#     member['year'] = split_temp[0]\\n#     member['month'] = split_temp[1]\\n#     member['day'] = split_temp[2]\\n    \\nmembers = [{'name':'홍길동', 'birth':'2000-01-01'},\\n           {'name':'신길동', 'birth':'1995-12-18'}]\\nprint(members)\",\n",
       "  \"# 생일 쪼개는 함수 만들기\\ndef birth_split(member):\\n    split_temp = member['birth'].split('-')\\n    member['year']  = split_temp[0]\\n    member['month'] = split_temp[1]\\n    member['day']   = split_temp[2]\\n    \\nmembers = [{'name':'홍길동', 'birth':'2000-01-01'},\\n           {'name':'신길동', 'birth':'1995-12-18'}]\\nprint(members)\",\n",
       "  \"# '1995-01-01'을 받아 {'year':1995, 'month':1, 'day':1}을 return하는 함수\\nmembers = [{'name':'홍길동', 'birth':'2000-01-01'},\\n           {'name':'신길동', 'birth':'1995-12-18'}]\\n\\ndef split_date(date):\\n    split_data = date.split('-')\\n    return \\n    {del member['birth']\\n    'year'  = int(split_temp[0]),\\n    'month' = int(split_temp[1]),\\n    'day'   = int(split_temp[2]),}\\n    \\nsplit_date('2001-01-08')\",\n",
       "  \"# '1995-01-01'을 받아 {'year':1995, 'month':1, 'day':1}을 return하는 함수\\nmembers = [{'name':'홍길동', 'birth':'2000-01-01'},\\n           {'name':'신길동', 'birth':'1995-12-18'}]\\n\\ndef split_date(date):\\n    split_data = date.split('-')\\n    return \\n    {'year'  = int(split_temp[0]),\\n    'month' = int(split_temp[1]),\\n    'day'   = int(split_temp[2]),}\\n    \\nsplit_date('2001-01-08')\",\n",
       "  \"# '1995-01-01'을 받아 {'year':1995, 'month':1, 'day':1}을 return하는 함수\\nmembers = [{'name':'홍길동', 'birth':'2000-01-01'},\\n           {'name':'신길동', 'birth':'1995-12-18'}]\\n\\ndef split_date(date):\\n    split_data = date.split('-')\\n    return \\n    {'year': int(split_temp[0]),\\n    'month': int(split_temp[1]),\\n    'day'  :int(split_temp[2]),}\\n    \\nsplit_date('2001-01-08')\",\n",
       "  \"# '1995-01-01'을 받아 {'year':1995, 'month':1, 'day':1}을 return하는 함수\\nmembers = [{'name':'홍길동', 'birth':'2000-01-01'},\\n           {'name':'신길동', 'birth':'1995-12-18'}]\\n\\ndef split_date(date):\\n    split_data = date.split('-')\\n    return \\n    {'year': int(split_temp[0]),\\n    'month': int(split_temp[1]),\\n    'day'  : int(split_temp[2]),}\\n    \\nsplit_date('2001-01-08')\",\n",
       "  \"# '1995-01-01'을 받아 {'year':1995, 'month':1, 'day':1}을 return하는 함수\\nmembers = [{'name':'홍길동', 'birth':'2000-01-01'},\\n           {'name':'신길동', 'birth':'1995-12-18'}]\\n\\ndef split_date(date):\\n    split_data = date.split('-')\\n    return \\n    {'year': int(split_temp[0]),\\n    'month': int(split_temp[1]),\\n    'day'  : int(split_temp[2])}\\n    \\nsplit_date('2001-01-08')\",\n",
       "  \"# '1995-01-01'을 받아 {'year':1995, 'month':1, 'day':1}을 return하는 함수\\nmembers = [{'name':'홍길동', 'birth':'2000-01-01'},\\n           {'name':'신길동', 'birth':'1995-12-18'}]\\n\\ndef split_date(date):\\n    split_data = date.split('-')\\n    return \\n    {'year': int(split_data[0]),\\n    'month': int(split_data[1]),\\n    'day'  : int(split_data[2])}\\n    \\nsplit_date('2001-01-08')\",\n",
       "  \"# '1995-01-01'을 받아 {'year':1995, 'month':1, 'day':1}을 return하는 함수\\nmembers = [{'name':'홍길동', 'birth':'2000-01-01'},\\n           {'name':'신길동', 'birth':'1995-12-18'}]\\n\\ndef split_date(date):\\n    split_data = date.split('-')\\n    return {\\n        'year': int(split_data[0]),\\n        'month': int(split_data[1]),\\n        'day'  : int(split_data[2])\\n    }\\n    \\nsplit_date('2001-01-08')\",\n",
       "  \"def split_birth(member): # 'name':'birth'\\n    return {\\n        'name': member.get('name'),\\n        'year': int(member.get('birth').split('-')[0]),\\n        'month': int(member.get('birth').split('-')[1]),\\n        'day': int(member.get('birth').split('-')[2])\\n    }\",\n",
       "  \"split_birth({'name':'홍길동', 'birth':'1999-12-16'})\",\n",
       "  \"split_birth = lambda member : {\\n                    'name':member.get('name'),\\n                    'year':int(member.get('birth').split('-')[0]),\\n                    'month':int(member.get('birth').split('-')[1]),\\n                    'day':int(member.get('birth').split('-')[2]),\\n                }\",\n",
       "  \"split_birth({'name':'홍길동', 'birth':'1999-12-16'})\",\n",
       "  \"members = list(map(lambda member : {\\n                    'name':member.get('name'),\\n                    'year':int(member.get('birth').split('-')[0]),\\n                    'month':int(member.get('birth').split('-')[1]),\\n                    'day':int(member.get('birth').split('-')[2]),\\n                }, members))\\nmembers\",\n",
       "  'def join_date(date): # {year\\': 1995, \\'month\\': 12, \\'day\\': 18} => \"1995-12-18\"\\n    \\'-\\'.join(date)',\n",
       "  \"join_date({'year':1995, 'month': 12, 'day': 18 })\",\n",
       "  \"join_date({'year':1995, 'month': 12, 'day': 18})\",\n",
       "  'def join_date(date): # {year\\': 1995, \\'month\\': 12, \\'day\\': 18} => \"1995-12-18\"\\n    \\'-\\'.join(date)',\n",
       "  \"join_date({'year':1995, 'month': 12, 'day': 18})\",\n",
       "  'def join_date(date): # {year\\': 1995, \\'month\\': 12, \\'day\\': 18} => \"1995-12-18\"\\n    return \\'-\\'.join(date)',\n",
       "  \"join_date({'year':1995, 'month': 12, 'day': 18})\",\n",
       "  'def join_date(date): # {year\\': 1995, \\'month\\': 12, \\'day\\': 18} => \"1995-12-18\"\\n    return \\'-\\'.join(date.values())',\n",
       "  \"join_date({'year':1995, 'month': 12, 'day': 18})\",\n",
       "  \"# join_date({'year':1995, 'month': 12, 'day': 18})\",\n",
       "  'def join_date(date): # {year\\': 1995, \\'month\\': 12, \\'day\\': 18} => \"1995-12-18\"\\n    return \\'{}-{}-{}\\'.format(date[\\'year\\'], date[\\'month\\'], date[\\'day\\'])',\n",
       "  \"join_date({'year':1995, 'month': 12, 'day': 18})\",\n",
       "  \"join_date({'year':1995, 'month': 1, 'day': 1})\",\n",
       "  'def join_date(date): # {year\\': 1995, \\'month\\': 12, \\'day\\': 18} => \"1995-12-18\"\\n    return \\'{}-{:02}-{:02}\\'.format(date[\\'year\\'], date[\\'month\\'], date[\\'day\\'])',\n",
       "  \"join_date({'year':1995, 'month': 1, 'day': 1})\",\n",
       "  'def join_date(date): # {year\\': 1995, \\'month\\': 12, \\'day\\': 18} => \"1995-12-18\"\\n    return \\'{year}-{month:02}-{day:02}\\'.format(\\n                            year  = date[\\'year\\'], \\n                            month = date[\\'month\\'], \\n                            day   = date[\\'day\\'])',\n",
       "  \"join_date({'year':1995, 'month': 1, 'day': 1})\",\n",
       "  'def join_date(date): # {year\\': 1995, \\'month\\': 12, \\'day\\': 18} => \"1995-12-18\"\\n    return \\'{year}-{month:02}-{day:02}\\'.format(**date)',\n",
       "  \"join_date({'year':1995, 'month': 1, 'day': 1})\",\n",
       "  \"def join_birth(member):\\n    name = member['name']\\n    del member['name']\\n    print(member)\",\n",
       "  \"join_birth({'name':'kim', 'year':1995, 'month':1, 'day':2})\",\n",
       "  \"def join_birth(member):\\n    name = member['name']\\n    del member['name']\\n    print(member)\\n    join_date = '{year}-{month:02}-{day:02}'.format(**member)\\n    return {\\n        'name': name,\\n        'birth': join_date\\n    }\",\n",
       "  \"join_birth({'name':'kim', 'year':1995, 'month':1, 'day':2})\",\n",
       "  'members = list(map(join_birth, members))',\n",
       "  'members = list(map(join_birth, members))\\nmembers',\n",
       "  'members = list(map(join_birth, members))\\nmembers',\n",
       "  'members',\n",
       "  \"# '1995-01-01'을 받아 {'year':1995, 'month':1, 'day':1}을 return하는 함수\\nmembers = [{'name':'홍길동', 'birth':'2000-01-01'},\\n           {'name':'신길동', 'birth':'1995-12-18'}]\\n\\ndef split_date(date):\\n    split_data = date.split('-')\\n    return {\\n        'year' : int(split_data[0]),\\n        'month': int(split_data[1]),\\n        'day'  : int(split_data[2])\\n    }\\n    \\nsplit_date('2001-01-08')\",\n",
       "  \"members = list(map(lambda member : {\\n                    'name' :member.get('name'),\\n                    'year' :int(member.get('birth').split('-')[0]),\\n                    'month':int(member.get('birth').split('-')[1]),\\n                    'day'  :int(member.get('birth').split('-')[2]),\\n                }, members))\\nmembers\",\n",
       "  \"members = list(map(lambda member : {\\n                    'name' :member.get('name'),\\n                    'year' :int(member.get('birth').split('-')[0]),\\n                    'month':int(member.get('birth').split('-')[1]),\\n                    'day'  :int(member.get('birth').split('-')[2]),\\n                }, members))\\nmembers\",\n",
       "  \"members = list(map(lambda member : {\\n                    'name' :member.get('name'),\\n                    'year' :int(member.get('birth').split('-')[0]),\\n                    'month':int(member.get('birth').split('-')[1]),\\n                    'day'  :int(member.get('birth').split('-')[2]),\\n                }, members))\\nmembers\",\n",
       "  \"split_birth = lambda member : {\\n                    'name' :member.get('name'),\\n                    'year' :int(member.get('birth').split('-')[0]),\\n                    'month':int(member.get('birth').split('-')[1]),\\n                    'day'  :int(member.get('birth').split('-')[2]),\\n                }\",\n",
       "  \"split_birth = lambda member : {\\n                    'name' :member.get('name'),\\n                    'year' :int(member.get('birth').split('-')[0]),\\n                    'month':int(member.get('birth').split('-')[1]),\\n                    'day'  :int(member.get('birth').split('-')[2]),\\n                }\",\n",
       "  \"split_birth({'name':'홍길동', 'birth':'1999-12-16'})\",\n",
       "  \"members = list(map(lambda member : {\\n                    'name' :member.get('name'),\\n                    'year' :int(member.get('birth').split('-')[0]),\\n                    'month':int(member.get('birth').split('-')[1]),\\n                    'day'  :int(member.get('birth').split('-')[2]),\\n                }, members))\\nmembers\",\n",
       "  'members',\n",
       "  \"# '1995-01-01'을 받아 {'year':1995, 'month':1, 'day':1}을 return하는 함수\\nmembers = [{'name':'홍길동', 'birth':'2000-01-01'},\\n           {'name':'신길동', 'birth':'1995-12-18'}]\\n\\ndef split_date(date):\\n    split_data = date.split('-')\\n    return {\\n        'year' : int(split_data[0]),\\n        'month': int(split_data[1]),\\n        'day'  : int(split_data[2])\\n    }\\n    \\nsplit_date('2001-01-08')\",\n",
       "  'members',\n",
       "  \"members = list(map(lambda member : {\\n                    'name' :member.get('name'),\\n                    'year' :int(member.get('birth').split('-')[0]),\\n                    'month':int(member.get('birth').split('-')[1]),\\n                    'day'  :int(member.get('birth').split('-')[2]),\\n                }, members))\\nmembers\",\n",
       "  'members',\n",
       "  'members = list(map(join_birth, members))\\nmembers',\n",
       "  \"def join_birth(member):\\n    name = member['name']\\n    join_date = '{year}-{month:02}-{day:02}'.format(**member)\\n    return {\\n        'name': name,\\n        'birth': join_date\\n    }\",\n",
       "  'members1',\n",
       "  'members',\n",
       "  \"members2 = list(map(lambda member : {\\n                    'name' :member.get('name'),\\n                    'year' :int(member.get('birth').split('-')[0]),\\n                    'month':int(member.get('birth').split('-')[1]),\\n                    'day'  :int(member.get('birth').split('-')[2]),\\n                }, members1))\\nmembers\",\n",
       "  \"members2 = list(map(lambda member : {\\n                    'name' :member.get('name'),\\n                    'year' :int(member.get('birth').split('-')[0]),\\n                    'month':int(member.get('birth').split('-')[1]),\\n                    'day'  :int(member.get('birth').split('-')[2]),\\n                }, members1))\\nmembers2\",\n",
       "  \"# '1995-01-01'을 받아 {'year':1995, 'month':1, 'day':1}을 return하는 함수\\nmembers1= [{'name':'홍길동', 'birth':'2000-01-01'},\\n           {'name':'신길동', 'birth':'1995-12-18'}]\\n\\ndef split_date(date):\\n    split_data = date.split('-')\\n    return {\\n        'year' : int(split_data[0]),\\n        'month': int(split_data[1]),\\n        'day'  : int(split_data[2])\\n    }\\n    \\nsplit_date('2001-01-08')\",\n",
       "  \"members2 = list(map(lambda member : {\\n                    'name' :member.get('name'),\\n                    'year' :int(member.get('birth').split('-')[0]),\\n                    'month':int(member.get('birth').split('-')[1]),\\n                    'day'  :int(member.get('birth').split('-')[2]),\\n                }, members1))\\nmembers2\",\n",
       "  'members1',\n",
       "  'members2',\n",
       "  'members1 = list(map(join_birth, members))\\nmembers1',\n",
       "  'members1 = list(map(join_birth, members2))\\nmembers1',\n",
       "  \"# apply() 함수\\ndef apply(data, func = None):\\n    if func == None:\\n        print(func)\\n    else:\\n        print('func가 None아님')\",\n",
       "  \"# apply() 함수\\ndef apply(data, func = None):\\n    if func == None:\\n        print('func가 None')\\n    else:\\n        print('func가 None아님')\\napply\",\n",
       "  \"# apply() 함수\\ndef apply(data, func = None):\\n    if func == None:\\n        print('func가 None')\\n    else:\\n        print('func가 None아님')\\napply(!)\",\n",
       "  \"# apply() 함수\\ndef apply(data, func = None):\\n    if func == None:\\n        print('func가 None')\\n    else:\\n        print('func가 None아님')\\napply(1)\",\n",
       "  \"# apply() 함수\\ndef apply(data, func = None):\\n    # if func == None:\\n    if func is None:\\n        print('func가 None')\\n    else:\\n        print('func가 None아님')\\napply(1)\",\n",
       "  '# apply() 함수\\ndef apply(data, func = None):\\n    # if func == None:\\n    if func is None:\\n        return data\\n    else:\\n        return func(data)\\napply(1)',\n",
       "  'print(apply(2))\\nprint(apply(2, lambda x: x ** 3))',\n",
       "  'def make_box(shape): # [x], [x, y]\\n    def box(init_value):                 # 함수 내에 함수 생성하여 그 함수를 return \\n        if len(shape) == 1:              # 매개변수 길이 1이면\\n            return [init_value]*shape[0] # 1차원 list 반환\\n        elif len(shape) == 2:            # 매개변수 길이 2면\\n            return [ [init_value]*shape[1] ]*shape[0]\\n    return box\\n    ',\n",
       "  'line_fun = make_box((3, ))\\nline_fun',\n",
       "  'line_fun = make_box((3, ))\\nline_fun(5)',\n",
       "  'box2d_fun = make_box((4, 3))',\n",
       "  'box2d_fun = make_box((4, 3))\\nbox2d_fun(5)',\n",
       "  'line_fun = make_box((3, ))\\nline_fun(5) # 5로 이루어진 3열짜리 list',\n",
       "  '# return하는 함수를 람다식으로 변환\\ndef make_box(shape):\\n    if len(shape) == 1:\\n        return lambda init_value: [init_value]*shape[0]\\n    elif len(shape) == 2:\\n        return lambda init_value: [ [init_value]*shape[1] ] * shape[0]',\n",
       "  'line_fun = make_box((3, ))\\nline_fun(5) # 5로 이루어진 3열짜리 list',\n",
       "  'box2d_fun = make_box((4, 3))\\nbox2d_fun(5) # 5로 이루어진 2차원 4행 3열짜리 list',\n",
       "  \"int('6')\",\n",
       "  \"int('6.3')\",\n",
       "  \"int('')\",\n",
       "  \"int('6')\",\n",
       "  'gloabals()',\n",
       "  'globals()',\n",
       "  'globals() # 전역변수 리스트'],\n",
       " 'Out': {2: 8,\n",
       "  4: 30,\n",
       "  6: 30,\n",
       "  8: 8,\n",
       "  14: 100,\n",
       "  16: 100,\n",
       "  18: 'negative',\n",
       "  21: 'negative',\n",
       "  22: 'negative',\n",
       "  23: 'negative',\n",
       "  24: 500,\n",
       "  25: 'negative',\n",
       "  26: 0,\n",
       "  29: 0,\n",
       "  32: -1,\n",
       "  33: (0, -1),\n",
       "  34: <function __main__.<lambda>(vector, item)>,\n",
       "  37: 2,\n",
       "  38: -1,\n",
       "  39: -1,\n",
       "  40: -1,\n",
       "  41: 0,\n",
       "  42: 0,\n",
       "  43: (0, -1),\n",
       "  45: '짝수',\n",
       "  46: '홀수',\n",
       "  47: ('홀수', '짝수'),\n",
       "  49: 'B등급',\n",
       "  50: ('B등급', '재시험'),\n",
       "  51: ('A등급', '재시험'),\n",
       "  60: 3,\n",
       "  62: (3, '두 번째 인자가 0이면 나눌 수 없습니다'),\n",
       "  64: [10, 20],\n",
       "  65: [10, 20],\n",
       "  72: [30, -10, 200, 0.5],\n",
       "  74: [30, -10, 200, 0.5],\n",
       "  83: [7, 25],\n",
       "  92: [2, 2, 2, 2, 2, 2, 2, 2],\n",
       "  93: [2, 2, 2, 2, 2, 2, 2, 2],\n",
       "  94: [2, 2, 2, 2, 2, 2, 2, 2],\n",
       "  95: [2, 2, 2, 2, 2, 2, 2, 2],\n",
       "  96: [2, 2, 2, 2, 2, 2, 2, 2],\n",
       "  98: [2, 4, 6, 8, 10, 12, 14, 16],\n",
       "  100: [2, 4, 6, 8, 10, 12, 14, 16],\n",
       "  106: [2, 4, 6, 8, 10, 12, 14, 16],\n",
       "  107: [2, 4, 6, 8, 10, 12, 14, 16],\n",
       "  108: [2, 4, 6, 8, 10, 12, 14, 16],\n",
       "  109: <map at 0x2289929f0a0>,\n",
       "  110: [2, 4, 6, 8, 10, 12, 14, 16],\n",
       "  111: <enumerate at 0x2289b52efc0>,\n",
       "  112: [(0, 1), (1, 2), (2, 3), (3, 4), (4, 5), (5, 6), (6, 7), (7, 8)],\n",
       "  118: [2, 4, 6, 8],\n",
       "  120: <filter at 0x22899281750>,\n",
       "  121: [2, 4, 6, 8],\n",
       "  122: [2, 4, 6, 8],\n",
       "  141: [(1, 'one'), (2, 'two'), (3, 'three'), (4, 'four')],\n",
       "  142: [(2, 'two'), (3, 'three'), (1, 'one'), (4, 'four')],\n",
       "  145: [(2, 'two'), (3, 'three'), (1, 'one'), (4, 'four')],\n",
       "  157: [{'name': '이', 'score': 22},\n",
       "   {'name': '박', 'score': 66},\n",
       "   {'name': '김', 'score': 77},\n",
       "   {'name': '홍', 'score': 99}],\n",
       "  158: [{'name': '이', 'score': 22},\n",
       "   {'name': '박', 'score': 66},\n",
       "   {'name': '김', 'score': 77},\n",
       "   {'name': '홍', 'score': 99}],\n",
       "  160: [{'name': '이', 'score': 22},\n",
       "   {'name': '박', 'score': 66},\n",
       "   {'name': '김', 'score': 77},\n",
       "   {'name': '홍', 'score': 99}],\n",
       "  162: [{'name': '이', 'score': 22},\n",
       "   {'name': '박', 'score': 66},\n",
       "   {'name': '김', 'score': 77},\n",
       "   {'name': '홍', 'score': 99}],\n",
       "  163: [{'name': '이', 'score': 22},\n",
       "   {'name': '박', 'score': 66},\n",
       "   {'name': '김', 'score': 77},\n",
       "   {'name': '홍', 'score': 99}],\n",
       "  166: [{'no': 5, 'title': '가격없음', 'writer': '신길동', 'price': 'None예정'},\n",
       "   {'no': 4, 'title': '가격잘못', 'writer': '홍길동', 'price': 'ㅁ'},\n",
       "   {'no': 1, 'title': '소년이 온다', 'writer': '한강', 'price': '13,500'},\n",
       "   {'no': 3, 'title': '트럼프2.0시대', 'writer': '박종훈', 'price': '18,000'},\n",
       "   {'no': 2, 'title': '트렌드코리아2025', 'writer': '김난도', 'price': '18,100'}],\n",
       "  171: [{'no': 5, 'title': '가격없음', 'writer': '신길동', 'price': 'None예정'},\n",
       "   {'no': 4, 'title': '가격잘못', 'writer': '홍길동', 'price': 'ㅁ'},\n",
       "   {'no': 1, 'title': '소년이 온다', 'writer': '한강', 'price': '13,500'},\n",
       "   {'no': 3, 'title': '트럼프2.0시대', 'writer': '박종훈', 'price': '18,000'},\n",
       "   {'no': 2, 'title': '트렌드코리아2025', 'writer': '김난도', 'price': '18,100'}],\n",
       "  172: [{'no': 5, 'title': '가격없음', 'writer': '신길동', 'price': 'None예정'},\n",
       "   {'no': 4, 'title': '가격잘못', 'writer': '홍길동', 'price': 'ㅁ'},\n",
       "   {'no': 1, 'title': '소년이 온다', 'writer': '한강', 'price': '13,500'},\n",
       "   {'no': 3, 'title': '트럼프2.0시대', 'writer': '박종훈', 'price': '18,000'},\n",
       "   {'no': 2, 'title': '트렌드코리아2025', 'writer': '김난도', 'price': '18,100'}],\n",
       "  173: [{'no': 5, 'title': '가격없음', 'writer': '신길동', 'price': 'None예정'},\n",
       "   {'no': 4, 'title': '가격잘못', 'writer': '홍길동', 'price': 'ㅁ'},\n",
       "   {'no': 1, 'title': '소년이 온다', 'writer': '한강', 'price': '13,500'},\n",
       "   {'no': 3, 'title': '트럼프2.0시대', 'writer': '박종훈', 'price': '18,000'},\n",
       "   {'no': 2, 'title': '트렌드코리아2025', 'writer': '김난도', 'price': '18,100'}],\n",
       "  174: [{'no': 5, 'title': '가격없음', 'writer': '신길동', 'price': 'None예정'},\n",
       "   {'no': 4, 'title': '가격잘못', 'writer': '홍길동', 'price': 'ㅁ'},\n",
       "   {'no': 1, 'title': '소년이 온다', 'writer': '한강', 'price': '13,500'},\n",
       "   {'no': 3, 'title': '트럼프2.0시대', 'writer': '박종훈', 'price': '18,000'},\n",
       "   {'no': 2, 'title': '트렌드코리아2025', 'writer': '김난도', 'price': '18,100'}],\n",
       "  176: [{'no': 5, 'title': '가격없음', 'writer': '신길동'},\n",
       "   {'no': 4, 'title': '가격잘못', 'writer': '홍길동', 'price': 'ㅁ'},\n",
       "   {'no': 1, 'title': '소년이 온다', 'writer': '한강', 'price': '13,500'},\n",
       "   {'no': 3, 'title': '트럼프2.0시대', 'writer': '박종훈', 'price': '18,000'},\n",
       "   {'no': 2, 'title': '트렌드코리아2025', 'writer': '김난도', 'price': '9,100'}],\n",
       "  180: [{'no': 1, 'title': '소년이 온다', 'writer': '한강', 'price': '13,500'},\n",
       "   {'no': 3, 'title': '트럼프2.0시대', 'writer': '박종훈', 'price': '18,000'},\n",
       "   {'no': 2, 'title': '트렌드코리아2025', 'writer': '김난도', 'price': '9,100'},\n",
       "   {'no': 5, 'title': '가격없음', 'writer': '신길동', 'price': 'None예정'},\n",
       "   {'no': 4, 'title': '가격잘못', 'writer': '홍길동', 'price': 'ㅁ'}],\n",
       "  181: [{'no': 1, 'title': '소년이 온다', 'writer': '한강', 'price': '13,500'},\n",
       "   {'no': 3, 'title': '트럼프2.0시대', 'writer': '박종훈', 'price': '18,000'},\n",
       "   {'no': 2, 'title': '트렌드코리아2025', 'writer': '김난도', 'price': '9,100'},\n",
       "   {'no': 5, 'title': '가격없음', 'writer': '신길동', 'price': 'None예정'},\n",
       "   {'no': 4, 'title': '가격잘못', 'writer': '홍길동', 'price': 'ㅁ'}],\n",
       "  187: 13500,\n",
       "  192: (None, None, None, None),\n",
       "  198: (None, None, None, None),\n",
       "  210: ['13,500', '18,000', '9,100', 0, 9200, None],\n",
       "  218: [13500, 18000, 9100, 0, 0, 0],\n",
       "  230: [13500, 18000, 9100, 0, 9200, 0],\n",
       "  231: [13500, 18000, 9100, 0, 9200, 0],\n",
       "  237: [{'no': 4, 'title': '가격잘못', 'writer': '홍길동', 'price': 0},\n",
       "   {'no': 5, 'title': '가격없음', 'writer': '이길동'},\n",
       "   {'no': 2, 'title': '트렌드코리아2025', 'writer': '김난도', 'price': '9,100'},\n",
       "   {'no': 4, 'title': '가격숫자', 'writer': '신길동', 'price': 9200},\n",
       "   {'no': 1, 'title': '소년이 온다', 'writer': '한강', 'price': '13,500'},\n",
       "   {'no': 3, 'title': '트럼프2.0시대', 'writer': '박종훈', 'price': '18,000'}],\n",
       "  238: [{'no': 3, 'title': '트럼프2.0시대', 'writer': '박종훈', 'price': '18,000'},\n",
       "   {'no': 1, 'title': '소년이 온다', 'writer': '한강', 'price': '13,500'},\n",
       "   {'no': 4, 'title': '가격숫자', 'writer': '신길동', 'price': 9200},\n",
       "   {'no': 2, 'title': '트렌드코리아2025', 'writer': '김난도', 'price': '9,100'},\n",
       "   {'no': 4, 'title': '가격잘못', 'writer': '홍길동', 'price': 0},\n",
       "   {'no': 5, 'title': '가격없음', 'writer': '이길동'}],\n",
       "  239: [{'no': 3, 'title': '트럼프2.0시대', 'writer': '박종훈', 'price': '18,000'},\n",
       "   {'no': 1, 'title': '소년이 온다', 'writer': '한강', 'price': '13,500'},\n",
       "   {'no': 4, 'title': '가격숫자', 'writer': '신길동', 'price': 9200},\n",
       "   {'no': 2, 'title': '트렌드코리아2025', 'writer': '김난도', 'price': '9,100'},\n",
       "   {'no': 4, 'title': '가격잘못', 'writer': '홍길동', 'price': 0},\n",
       "   {'no': 5, 'title': '가격없음', 'writer': '이길동'}],\n",
       "  240: [{'no': 3, 'title': '트럼프2.0시대', 'writer': '박종훈', 'price': '18,000'},\n",
       "   {'no': 1, 'title': '소년이 온다', 'writer': '한강', 'price': '13,500'},\n",
       "   {'no': 4, 'title': '가격숫자', 'writer': '신길동', 'price': 9200},\n",
       "   {'no': 2, 'title': '트렌드코리아2025', 'writer': '김난도', 'price': '9,100'},\n",
       "   {'no': 4, 'title': '가격잘못', 'writer': '홍길동', 'price': 0},\n",
       "   {'no': 5, 'title': '가격없음', 'writer': '이길동'}],\n",
       "  243: [{'no': 3, 'title': '트럼프2.0시대', 'writer': '박종훈', 'price': '18,000'},\n",
       "   {'no': 1, 'title': '소년이 온다', 'writer': '한강', 'price': '13,500'},\n",
       "   {'no': 4, 'title': '가격숫자', 'writer': '신길동', 'price': 9200},\n",
       "   {'no': 2, 'title': '트렌드코리아2025', 'writer': '김난도', 'price': '9,100'},\n",
       "   {'no': 4, 'title': '가격잘못', 'writer': '홍길동', 'price': 'ㅁ'},\n",
       "   {'no': 5, 'title': '가격없음', 'writer': '이길동'}],\n",
       "  255: {'no': 3, 'title': '트럼프', 'writer': '박', 'price': 0},\n",
       "  256: {'no': 3, 'title': '트럼프', 'writer': '박', 'price': 0},\n",
       "  257: {'no': 3, 'title': '트럼프', 'writer': '박', 'price': 0},\n",
       "  258: {'no': 3, 'title': '트럼프', 'writer': '박', 'price': 0},\n",
       "  263: {'no': 3, 'title': '트럼프', 'writer': '박', 'price': 0},\n",
       "  264: {'no': 3, 'title': '트럼프', 'writer': '이', 'price': 0},\n",
       "  265: {'no': 3, 'title': '트럼프', 'writer': '박', 'price': 0},\n",
       "  266: {'no': 3, 'title': '트럼프', 'writer': '박', 'price': 0},\n",
       "  267: {'no': 3, 'title': '트럼프', 'writer': '박'},\n",
       "  268: {'no': 3, 'title': '트럼프', 'writer': '박', 'price': 0},\n",
       "  270: [{'no': 3, 'title': '트럼프2.0시대', 'writer': '박종훈', 'price': 18000},\n",
       "   {'no': 1, 'title': '소년이 온다', 'writer': '한강', 'price': 13500},\n",
       "   {'no': 4, 'title': '가격숫자', 'writer': '신길동', 'price': 9200},\n",
       "   {'no': 2, 'title': '트렌드코리아2025', 'writer': '김난도', 'price': 9100},\n",
       "   {'no': 4, 'title': '가격잘못', 'writer': '홍길동', 'price': 0},\n",
       "   {'no': 5, 'title': '가격없음', 'writer': '이길동', 'price': 0}],\n",
       "  272: [{'no': 3, 'title': '트럼프2.0시대', 'writer': '박종훈', 'price': 18000},\n",
       "   {'no': 1, 'title': '소년이 온다', 'writer': '한강', 'price': 13500},\n",
       "   {'no': 4, 'title': '가격숫자', 'writer': '신길동', 'price': 9200},\n",
       "   {'no': 2, 'title': '트렌드코리아2025', 'writer': '김난도', 'price': 9100},\n",
       "   {'no': 4, 'title': '가격잘못', 'writer': '홍길동', 'price': 0},\n",
       "   {'no': 5, 'title': '가격없음', 'writer': '이길동', 'price': 0}],\n",
       "  303: {'year': 2001, 'month': 1, 'day': 8},\n",
       "  305: {'name': '홍길동', 'year': 1999, 'month': 12, 'day': 16},\n",
       "  307: {'name': '홍길동', 'year': 1999, 'month': 12, 'day': 16},\n",
       "  308: [{'year': 2000, 'month': 1, 'day': 1},\n",
       "   {'year': 1995, 'month': 12, 'day': 18}],\n",
       "  315: 'year-month-day',\n",
       "  320: '1995-12-18',\n",
       "  321: '1995-1-1',\n",
       "  323: '1995-01-01',\n",
       "  325: '1995-01-01',\n",
       "  327: '1995-01-01',\n",
       "  331: {'name': 'kim', 'birth': '1995-01-02'},\n",
       "  335: [{'birth': '2000-01-01'}, {'name': '신길동', 'birth': '1995-12-18'}],\n",
       "  336: {'year': 2001, 'month': 1, 'day': 8},\n",
       "  337: [{'name': '홍길동', 'year': 2000, 'month': 1, 'day': 1},\n",
       "   {'name': '신길동', 'year': 1995, 'month': 12, 'day': 18}],\n",
       "  342: {'name': '홍길동', 'year': 1999, 'month': 12, 'day': 16},\n",
       "  344: [{'name': '홍길동', 'year': 2000, 'month': 1, 'day': 1},\n",
       "   {'name': '신길동', 'year': 1995, 'month': 12, 'day': 18}],\n",
       "  345: {'year': 2001, 'month': 1, 'day': 8},\n",
       "  346: [{'name': '홍길동', 'birth': '2000-01-01'},\n",
       "   {'name': '신길동', 'birth': '1995-12-18'}],\n",
       "  347: [{'year': 2000, 'month': 1, 'day': 1},\n",
       "   {'year': 1995, 'month': 12, 'day': 18}],\n",
       "  348: [{'year': 2000, 'month': 1, 'day': 1},\n",
       "   {'year': 1995, 'month': 12, 'day': 18}],\n",
       "  349: [{'name': '홍길동', 'birth': '2000-01-01'},\n",
       "   {'name': '신길동', 'birth': '1995-12-18'}],\n",
       "  352: [{'name': '홍길동', 'birth': '2000-01-01'},\n",
       "   {'name': '신길동', 'birth': '1995-12-18'}],\n",
       "  355: {'year': 2001, 'month': 1, 'day': 8},\n",
       "  356: [{'name': '홍길동', 'year': 2000, 'month': 1, 'day': 1},\n",
       "   {'name': '신길동', 'year': 1995, 'month': 12, 'day': 18}],\n",
       "  357: [{'name': '홍길동', 'birth': '2000-01-01'},\n",
       "   {'name': '신길동', 'birth': '1995-12-18'}],\n",
       "  358: [{'name': '홍길동', 'year': 2000, 'month': 1, 'day': 1},\n",
       "   {'name': '신길동', 'year': 1995, 'month': 12, 'day': 18}],\n",
       "  360: [{'name': '홍길동', 'birth': '2000-01-01'},\n",
       "   {'name': '신길동', 'birth': '1995-12-18'}],\n",
       "  362: <function __main__.apply(data, func=None)>,\n",
       "  366: 1,\n",
       "  369: <function __main__.make_box.<locals>.box(init_value)>,\n",
       "  370: [5, 5, 5],\n",
       "  372: [[5, 5, 5], [5, 5, 5], [5, 5, 5], [5, 5, 5]],\n",
       "  373: [5, 5, 5],\n",
       "  375: [5, 5, 5],\n",
       "  376: [[5, 5, 5], [5, 5, 5], [5, 5, 5], [5, 5, 5]],\n",
       "  377: 6,\n",
       "  380: 6,\n",
       "  382: {...}},\n",
       " 'get_ipython': <bound method InteractiveShell.get_ipython of <ipykernel.zmqshell.ZMQInteractiveShell object at 0x0000022898640CD0>>,\n",
       " 'exit': <IPython.core.autocall.ZMQExitAutocall at 0x22898643160>,\n",
       " 'quit': <IPython.core.autocall.ZMQExitAutocall at 0x22898643160>,\n",
       " 'open': <function io.open(file, mode='r', buffering=-1, encoding=None, errors=None, newline=None, closefd=True, opener=None)>,\n",
       " '_': {...},\n",
       " '__': 6,\n",
       " '___': 6,\n",
       " 'json': <module 'json' from 'C:\\\\Users\\\\4545\\\\anaconda3\\\\lib\\\\json\\\\__init__.py'>,\n",
       " 'yapf_reformat': <function __main__.yapf_reformat(cell_text)>,\n",
       " 'autopep8': <module 'autopep8' from 'C:\\\\Users\\\\4545\\\\anaconda3\\\\lib\\\\site-packages\\\\autopep8.py'>,\n",
       " '_i': 'globals()',\n",
       " '_ii': 'gloabals()',\n",
       " '_iii': \"int('6')\",\n",
       " '_i1': 'def add(a, b):\\n    return a + b',\n",
       " 'add': <function __main__.<lambda>(a, b)>,\n",
       " '_i2': 'def add(a, b):\\n    return a + b\\nadd(3, 5)',\n",
       " '_2': 8,\n",
       " '_i3': 'add2 = add',\n",
       " 'add2': <function __main__.<lambda>(a, b)>,\n",
       " '_i4': 'add2 = add\\nadd2(10, 20)',\n",
       " '_4': 30,\n",
       " '_i5': 'add2 = lambda a, b\\nadd2(10, 20)',\n",
       " '_i6': 'add2 = lambda a, b: a + b\\nadd2(10, 20)',\n",
       " '_6': 30,\n",
       " '_i7': 'print(type(add), type(add2))',\n",
       " '_i8': '# 익명 함수, 바로 호출 가능\\n(lambda a, b: a + b)(3, 5)',\n",
       " '_8': 8,\n",
       " '_i9': '# 아래 형식에 익숙해지자\\ndiff2 = lambda a, b: a - b if a >= b else b - a ',\n",
       " 'diff2': <function __main__.<lambda>(a, b)>,\n",
       " '_i10': '# if문 사용한 lambda함수\\n# a와 b의 차이를 return \\ndef diff(a, b):\\n    if a >= b:\\n        return a - b\\n    else:\\n        return b - a ',\n",
       " 'diff': <function __main__.diff(a, b)>,\n",
       " '_i11': 'print(diff(3, 5), diff(5, 3), diff2(3, 5), diff2(5, 3))',\n",
       " '_i12': 'print(diff(3, 5), diff(5, 3), diff2(3, 5), diff2(5, 3))\\nprint(type(diff), type(diff2))',\n",
       " '_i13': \"# 매개변수로 잔액을 받아 잔액이 음수면 'negative'라고 출력, 양수면 잔액을 출력\\ndef get_balance(balance):\\n    if balance >= 0:\\n        return balance\\n    else:\\n        return 'negative'\",\n",
       " 'get_balance': <function __main__.<lambda>(balance)>,\n",
       " '_i14': 'get_balance(100)',\n",
       " '_14': 100,\n",
       " '_i15': \"get_balance = lambda balance: balance if balance >= 0 else 'negative' \",\n",
       " '_i16': 'get_balance(100)',\n",
       " '_16': 100,\n",
       " '_i17': \"balance = -500\\nif balance >= 0::\\n    result = balance\\nelse:\\n    result = 'negative'\\nresult\",\n",
       " '_i18': \"balance = -500\\nif balance >= 0:\\n    result = balance\\nelse:\\n    result = 'negative'\\nresult\",\n",
       " 'balance': -500,\n",
       " 'result': 'negative',\n",
       " '_18': 'negative',\n",
       " '_i19': \"# 자바의 3항연산자와 유사 \\nresult = balance if balance >= 0 else 'negative'\\n#        balance >= 0 ? balance : 'negative'\",\n",
       " '_i20': \"# 자바의 3항연산자와 유사 \\nresult = balance if balance >= 0 else 'negative'\\n#        balance >= 0 ? balance : 'negative'\",\n",
       " '_i21': \"# 자바의 3항연산자와 유사 \\nbalance = -500\\nbalance if balance >= 0 else 'negative'\\n#        balance >= 0 ? balance : 'negative'\",\n",
       " '_21': 'negative',\n",
       " '_i22': \"# 자바의 3항연산자와 유사 \\n\\nbalance if balance >= 0 else 'negative'\\n#        balance >= 0 ? balance : 'negative'\",\n",
       " '_22': 'negative',\n",
       " '_i23': \"# 자바의 3항연산자와 유사 \\nbalance = -500\\nbalance if balance >= 0 else 'negative'\\n#        balance >= 0 ? balance : 'negative'\",\n",
       " '_23': 'negative',\n",
       " '_i24': \"# 자바의 3항연산자와 유사 \\nbalance = 500\\nbalance if balance >= 0 else 'negative'\\n#        balance >= 0 ? balance : 'negative'\",\n",
       " '_24': 500,\n",
       " '_i25': \"# 자바의 3항연산자와 유사 \\nbalance = -500\\nbalance if balance >= 0 else 'negative'\\n#        balance >= 0 ? balance : 'negative'\",\n",
       " '_25': 'negative',\n",
       " '_i26': '# 아래의 함수도 람다식으로 바꿀 수 있음\\nlst = [1, 2, 3]\\nlst.index(1)',\n",
       " 'lst': [10, 20],\n",
       " '_26': 0,\n",
       " '_i27': '# 아래의 함수도 람다식으로 바꿀 수 있음\\nlst = [1, 2, 3]\\nlst.index(4)',\n",
       " '_i28': '# 아래의 함수도 람다식으로 바꿀 수 있음\\nv = [1, 2, 3]\\nv.index(1)\\ndef safe_index(vector, item)',\n",
       " '_i29': '# 아래의 함수도 람다식으로 바꿀 수 있음\\nv = [1, 2, 3]\\nv.index(1)\\n# def safe_index(v, item)',\n",
       " 'v': [1, 2, 3],\n",
       " '_29': 0,\n",
       " '_i30': '# 아래의 함수도 람다식으로 바꿀 수 있음\\nv = [1, 2, 3]\\nv.index(4)\\n# def safe_index(v, item)',\n",
       " '_i31': '# 아래의 함수도 람다식으로 바꿀 수 있음\\nv = [1, 2, 3]\\nv.index(4) # ValueError: 4 is not in list\\ndef safe_index(vector, item):\\n    if item in vector:\\n        return vector.index(item)\\n    else:\\n        return -1\\nsafe_index(v, 4)',\n",
       " '_i32': '# 아래의 함수도 람다식으로 바꿀 수 있음\\nv = [1, 2, 3]\\n# v.index(4) # ValueError: 4 is not in list\\ndef safe_index(vector, item):\\n    if item in vector:\\n        return vector.index(item)\\n    else:\\n        return -1\\nsafe_index(v, 4)',\n",
       " 'safe_index': <function __main__.<lambda>(vector, item)>,\n",
       " '_32': -1,\n",
       " '_i33': '# 아래의 함수도 람다식으로 바꿀 수 있음\\nv = [1, 2, 3]\\n# v.index(4) # ValueError: 4 is not in list\\ndef safe_index(vector, item):\\n    if item in vector:\\n        return vector.index(item)\\n    else:\\n        return -1\\nsafe_index(v, 1), safe_index(v, 4)',\n",
       " '_33': (0, -1),\n",
       " '_i34': 'lambda vector, item: vector.index(item) if item in vector else -1',\n",
       " '_34': <function __main__.<lambda>(vector, item)>,\n",
       " '_i35': 'def safe_index(vector, item):\\n    return vector.index(item) if item in vector else -1',\n",
       " '_i36': '# sol 3(lambda식)\\nsafe_index = lambda vector, item: vector.index(item) if item in vector else -1',\n",
       " '_i37': '# sol 3(lambda식)\\nsafe_index = lambda vector, item: vector.index(item) if item in vector else -1\\nsafe_index(v, 3)',\n",
       " '_37': 2,\n",
       " '_i38': '# sol 3(lambda식)\\nsafe_index = lambda vector, item: vector.index(item) if item in vector else -1\\nsafe_index(v, 4)',\n",
       " '_38': -1,\n",
       " '_i39': '# sol 3(lambda식)\\nsafe_index = lambda vector, item: vector.index(item) if item in vector else -1\\nsafe_index(v, 999)',\n",
       " '_39': -1,\n",
       " '_i40': '# sol 3(lambda식)\\nsafe_index = lambda vector, item: vector.index(item) \\\\\\n                                if item in vector else -1\\nsafe_index(v, 999)',\n",
       " '_40': -1,\n",
       " '_i41': '# sol 3(lambda식)\\nsafe_index = lambda vector, item: vector.index(item) \\\\\\n                                if item in vector else -1\\nsafe_index([1, 2, 3, 4], 1)',\n",
       " '_41': 0,\n",
       " '_i42': '# sol 3(lambda식)\\nsafe_index = lambda vector, item: vector.index(item) \\\\\\n                                if item in vector else -1\\nsafe_index([1, 2, 3, 4], 1)',\n",
       " '_42': 0,\n",
       " '_i43': '# sol 3(lambda식)\\nsafe_index = lambda vector, item: vector.index(item) \\\\\\n                                if item in vector else -1\\nsafe_index([1, 2, 3, 4], 1), safe_index((1, 2, 3), 5)',\n",
       " '_43': (0, -1),\n",
       " '_i44': \"# 매개변수로 들어온 값이 짝수면 '짝수'를, '홀수'면 '홀수'를 return하는 lambda식\\neven_odd_chk = lambda num: '짝수' if num % 2 == 0 else '홀수'\",\n",
       " 'even_odd_chk': <function __main__.<lambda>(num)>,\n",
       " '_i45': 'even_odd_chk(4)',\n",
       " '_45': '짝수',\n",
       " '_i46': 'even_odd_chk(7)',\n",
       " '_46': '홀수',\n",
       " '_i47': 'even_odd_chk(7), even_odd_chk(-8)',\n",
       " '_47': ('홀수', '짝수'),\n",
       " '_i48': \"# 조건 여러 개일 때 lambda식\\ndef levelChk(score):\\n    if score >= 80:\\n        return 'A등급'\\n    elif score >= 60:\\n        return 'B등급'\\n    else:\\n        return '재시험'\",\n",
       " 'levelChk': <function __main__.<lambda>(score)>,\n",
       " '_i49': \"# 조건 여러 개일 때 lambda식\\ndef levelChk(score):\\n    if score >= 80:\\n        return 'A등급'\\n    elif score >= 60:\\n        return 'B등급'\\n    else:\\n        return '재시험'\\nlevelChk(65)\",\n",
       " '_49': 'B등급',\n",
       " '_i50': \"# 조건 여러 개일 때 lambda식\\ndef levelChk(score):\\n    if score >= 80:\\n        return 'A등급'\\n    elif score >= 60:\\n        return 'B등급'\\n    else:\\n        return '재시험'\\nlevelChk(65), levelChk(-9)\",\n",
       " '_50': ('B등급', '재시험'),\n",
       " '_i51': \"# else문 안에 조건식 삽입\\nlevelChk = lambda score: 'A등급' if score >= 80 \\\\\\n                        else ('B등급' if score >= 60 else '재시험')\\nlevelChk(90), levelChk(55)\",\n",
       " '_51': ('A등급', '재시험'),\n",
       " '_i52': \"score_grade = lambda score 'A' if 90 <= score <= 100 \\\\\\n                            else ('B' if 80 <= score < 90 \\\\ \\n                            else ('C' if 70 <= score < 80 \\\\\\n                            else ('D' if 60 <= score < 70 \\\\\\n                            else ('F' if 0 <= score < 60 else ('유효하지 않은 점수 등급')))))\",\n",
       " '_i53': \"score_grade = lambda score: 'A' if 90 <= score <= 100 \\\\\\n                            else ('B' if 80 <= score < 90 \\\\ \\n                            else ('C' if 70 <= score < 80 \\\\\\n                            else ('D' if 60 <= score < 70 \\\\\\n                            else ('F' if 0 <= score < 60 else ('유효하지 않은 점수 등급')))))\",\n",
       " '_i54': \"score_grade = lambda score: 'A' if 90 <= score <= 100 else\\\\\\n                             ('B' if 80 <= score < 90 else\\\\ \\n                             ('C' if 70 <= score < 80 else\\\\\\n                             ('D' if 60 <= score < 70 else\\\\\\n                             ('F' if 0 <= score < 60 else ('유효하지 않은 점수 등급'))))\",\n",
       " '_i55': \"score_grade = lambda score: 'A' if 90 <= score <= 100 else\\\\\\n                             'B' if 80 <= score < 90 else\\\\ \\n                             'C' if 70 <= score < 80 else\\\\\\n                             'D' if 60 <= score < 70 else\\\\\\n                             'F' if 0 <= score < 60 else '유효하지 않은 점수 등급'\",\n",
       " '_i56': \"score_grade = lambda score: 'A' if 90 <= score <= 100 else \\\\\\n                             'B' if 80 <= score < 90 else \\\\ \\n                             'C' if 70 <= score < 80 else \\\\\\n                             'D' if 60 <= score < 70 else \\\\\\n                             'F' if 0 <= score < 60 else '유효하지 않은 점수 등급'\",\n",
       " '_i57': \"score_grade = lambda score: 'A' if 90 <= score <= 100 else \\\\\\n                             'B' if 80 <= score < 90 else \\\\\\n                             'C' if 70 <= score < 80 else \\\\\\n                             'D' if 60 <= score < 70 else \\\\\\n                             'F' if 0 <= score < 60 else '유효하지 않은 점수 등급'\",\n",
       " 'score_grade': <function __main__.<lambda>(score)>,\n",
       " '_i58': \"score_grade = lambda score: 'A' if 90 <= score <= 100 else \\\\\\n                             'B' if 80 <= score < 90 else \\\\\\n                             'C' if 70 <= score < 80 else \\\\\\n                             'D' if 60 <= score < 70 else \\\\\\n                             'F' if 0 <= score < 60 else '유효하지 않은 점수 등급'\",\n",
       " '_i59': \"score_grade = lambda score: 'A' if 90 <= score <= 100 else \\\\\\n                            'B' if 80 <= score < 90 else \\\\\\n                            'C' if 70 <= score < 80 else \\\\\\n                            'D' if 60 <= score < 70 else \\\\\\n                            'F' if 0 <= score < 60 else '유효하지 않은 점수 등급'\",\n",
       " '_i60': 'add = lambda a, b: a + b\\nsub = lambda a, b: a - b\\nmul = lambda a, b: a * b\\ndiv = lambda a, b: a / b\\nadd(3, 0)',\n",
       " 'sub': <function __main__.<lambda>(a, b)>,\n",
       " 'mul': <function __main__.<lambda>(a, b)>,\n",
       " 'div': <function __main__.<lambda>(a, b)>,\n",
       " '_60': 3,\n",
       " '_i61': 'add = lambda a, b: a + b\\nsub = lambda a, b: a - b\\nmul = lambda a, b: a * b\\ndiv = lambda a, b: a / b\\nadd(3, 0), div(3, 0)',\n",
       " '_i62': \"add = lambda a, b: a + b\\nsub = lambda a, b: a - b\\nmul = lambda a, b: a * b\\ndiv = lambda a, b: a / b if b != 0 else '두 번째 인자가 0이면 나눌 수 없습니다'\\nadd(3, 0), div(3, 0)\",\n",
       " '_62': (3, '두 번째 인자가 0이면 나눌 수 없습니다'),\n",
       " '_i63': \"add = lambda a, b: a + b\\nsub = lambda a, b: a - b\\nmul = lambda a, b: a * b\\ndiv = lambda a, b: a / b if b != 0 else '두 번째 인자가 0이면 나눌 수 없습니다'\\nadd(3, 0), div(3, 0)\\n\\ni = 10\\nj = 20\\nlst[i, j]\\nlst\",\n",
       " 'i': 10,\n",
       " 'j': 20,\n",
       " '_i64': \"add = lambda a, b: a + b\\nsub = lambda a, b: a - b\\nmul = lambda a, b: a * b\\ndiv = lambda a, b: a / b if b != 0 else '두 번째 인자가 0이면 나눌 수 없습니다'\\nadd(3, 0), div(3, 0)\\n\\ni = 10\\nj = 20\\nlst =  [i, j]\\nlst\",\n",
       " '_64': [10, 20],\n",
       " '_i65': \"add = lambda a, b: a + b\\nsub = lambda a, b: a - b\\nmul = lambda a, b: a * b\\ndiv = lambda a, b: a / b if b != 0 else '두 번째 인자가 0이면 나눌 수 없습니다'\\nadd(3, 0), div(3, 0)\\n\\ni = 10\\nj = 20\\nlst = [i, j]\\nlst\",\n",
       " '_65': [10, 20],\n",
       " '_i66': \"add = lambda a, b: a + b\\nsub = lambda a, b: a - b\\nmul = lambda a, b: a * b\\ndiv = lambda a, b: a / b if b != 0 else '두 번째 인자가 0이면 나눌 수 없습니다'\\nadd(3, 0), div(3, 0)\\n\\ni = 10\\nj = 20\\nlst = [i, j]\\nlst\\n\\n# 리스트(operations)에 람다식 삽입\\noperations = [add = lambda a, b: a + b,\\n              sub = lambda a, b: a - b,\\n              mul = lambda a, b: a * b,\\n              div = lambda a, b: a / b if b != 0 else '두 번째 인자가 0이면 나눌 수 없습니다']\",\n",
       " '_i67': \"add = lambda a, b: a + b\\nsub = lambda a, b: a - b\\nmul = lambda a, b: a * b\\ndiv = lambda a, b: a / b if b != 0 else '두 번째 인자가 0이면 나눌 수 없습니다'\\nadd(3, 0), div(3, 0)\\n\\ni = 10\\nj = 20\\nlst = [i, j]\\nlst\\n\\n# 리스트(operations)에 람다식 삽입\\noperations = [lambda a, b: a + b,\\n              lambda a, b: a - b,\\n              lambda a, b: a * b,\\n              lambda a, b: a / b if b != 0 else '두 번째 인자가 0이면 나눌 수 없습니다']\",\n",
       " 'operations': [<function __main__.<lambda>(a, b)>,\n",
       "  <function __main__.<lambda>(a, b)>,\n",
       "  <function __main__.<lambda>(a, b)>,\n",
       "  <function __main__.<lambda>(a, b)>,\n",
       "  <function __main__.<lambda>(a, b)>],\n",
       " '_i68': \"add = lambda a, b: a + b\\nsub = lambda a, b: a - b\\nmul = lambda a, b: a * b\\ndiv = lambda a, b: a / b if b != 0 else '두 번째 인자가 0이면 나눌 수 없습니다'\\nadd(3, 0), div(3, 0)\\n\\ni = 10\\nj = 20\\nlst = [i, j]\\nlst\\n\\n# 리스트(operations)에 람다식 삽입\\noperations = [add, sub, mul, div]\",\n",
       " '_i69': \"add = lambda a, b: a + b\\nsub = lambda a, b: a - b\\nmul = lambda a, b: a * b\\ndiv = lambda a, b: a / b if b != 0 else '두 번째 인자가 0이면 나눌 수 없습니다'\\nadd(3, 0), div(3, 0)\\n\\ni = 10\\nj = 20\\nlst = [i, j]\\nlst\\n\\n# 리스트(operations)에 람다식 삽입\\noperations = [add, sub, mul, div]\\n# 매개변수로 함수 list가 옴\\n# 함수명과 변수명은 같을 수 없음\\ndef act_operations(a, b, operations = operations):\\n    \",\n",
       " '_i70': 'act_operations(10, 20)',\n",
       " '_i71': \"add = lambda a, b: a + b\\nsub = lambda a, b: a - b\\nmul = lambda a, b: a * b\\ndiv = lambda a, b: a / b if b != 0 else '두 번째 인자가 0이면 나눌 수 없습니다'\\nadd(3, 0), div(3, 0)\\n\\ni = 10\\nj = 20\\nlst = [i, j]\\nlst\\n\\n# 리스트(operations)에 람다식 삽입\\noperations = [add, sub, mul, div]\\n# 매개변수로 함수 list가 옴\\n# 함수명과 변수명은 같을 수 없음\\ndef act_operations(a, b, operations = operations):\\n    return [a + b, a - b, a * b, a / b]\",\n",
       " 'act_operations': <function __main__.<lambda>(a, b, operations=[<function <lambda> at 0x000002289B406EF0>, <function <lambda> at 0x000002289B406A70>, <function <lambda> at 0x000002289B405A20>, <function <lambda> at 0x000002289B405750>, <function <lambda> at 0x000002289B4AB400>])>,\n",
       " '_i72': 'act_operations(10, 20)',\n",
       " '_72': [30, -10, 200, 0.5],\n",
       " '_i73': \"add = lambda a, b: a + b\\nsub = lambda a, b: a - b\\nmul = lambda a, b: a * b\\ndiv = lambda a, b: a / b if b != 0 else '두 번째 인자가 0이면 나눌 수 없습니다'\\nadd(3, 0), div(3, 0)\\n\\ni = 10\\nj = 20\\nlst = [i, j]\\nlst\\n\\n# 리스트(operations)에 람다식 삽입\\noperations = [add, sub, mul, div]\\n# 매개변수로 함수 list가 옴(for문 출력 가능)\\n# 함수명과 변수명은 같을 수 없음\\ndef act_operations(a, b, operations = operations):\\n    result = []\\n    for op in operations:\\n        result.append(op(a, b))\\n    return result\",\n",
       " '_i74': 'act_operations(10, 20)',\n",
       " '_74': [30, -10, 200, 0.5],\n",
       " '_i75': \"# 사칙연산 lambda식\\nadd = lambda a, b: a + b\\nsub = lambda a, b: a - b\\nmul = lambda a, b: a * b\\ndiv = lambda a, b: a / b if b != 0 else '두 번째 인자가 0이면 나눌 수 없습니다'\\nadd(3, 0), div(3, 0)\\n\\ni = 10\\nj = 20\\nlst = [i, j]\\nlst\\n\\n# 리스트(operations)에 람다식 삽입\\noperations = [add, sub, mul, div]\\n# 매개변수로 함수 list가 옴(for문 출력 가능)\\n# 함수명과 변수명은 같을 수 없음\\ndef act_operations(a, b, operations = operations):\\n    result = []\\n    for op in operations:\\n        result.append(op(a, b))\\n    return result\\n# def pow(a, b):\\n#     return a ** b\\n# 제곱을 return하는 람다식을 list에 추가\\noperations.appen(lambda a, b: a ** b)\\nprint(act_operations(10,2))\",\n",
       " '_i76': \"# 사칙연산 lambda식\\nadd = lambda a, b: a + b\\nsub = lambda a, b: a - b\\nmul = lambda a, b: a * b\\ndiv = lambda a, b: a / b if b != 0 else '두 번째 인자가 0이면 나눌 수 없습니다'\\nadd(3, 0), div(3, 0)\\n\\ni = 10\\nj = 20\\nlst = [i, j]\\nlst\\n\\n# 리스트(operations)에 람다식 삽입\\noperations = [add, sub, mul, div]\\n# 매개변수로 함수 list가 옴(for문 출력 가능)\\n# 함수명과 변수명은 같을 수 없음\\ndef act_operations(a, b, operations = operations):\\n    result = []\\n    for op in operations:\\n        result.append(op(a, b))\\n    return result\\n# def pow(a, b):\\n#     return a ** b\\n# 제곱을 return하는 람다식을 list에 추가\\noperations.appen(lambda a, b: a ** b)\\nprint(act_operations(10, 2))\",\n",
       " '_i77': \"# 사칙연산 lambda식\\nadd = lambda a, b: a + b\\nsub = lambda a, b: a - b\\nmul = lambda a, b: a * b\\ndiv = lambda a, b: a / b if b != 0 else '두 번째 인자가 0이면 나눌 수 없습니다'\\nadd(3, 0), div(3, 0)\\n\\ni = 10\\nj = 20\\nlst = [i, j]\\nlst\\n\\n# 리스트(operations)에 람다식 삽입\\noperations = [add, sub, mul, div]\\n# 매개변수로 함수 list가 옴(for문 출력 가능)\\n# 함수명과 변수명은 같을 수 없음\\ndef act_operations(a, b, operations = operations):\\n    result = []\\n    for op in operations:\\n        result.append(op(a, b))\\n    return result\\n# def pow(a, b):\\n#     return a ** b\\n# 제곱을 return하는 람다식을 list에 추가\\noperations.append(lambda a, b: a ** b)\\nprint(act_operations(10, 2))\",\n",
       " '_i78': \"# 사칙연산 lambda식\\nadd = lambda a, b: a + b\\nsub = lambda a, b: a - b\\nmul = lambda a, b: a * b\\ndiv = lambda a, b: a / b if b != 0 else '두 번째 인자가 0이면 나눌 수 없습니다'\\nadd(3, 0), div(3, 0)\\n\\ni = 10\\nj = 20\\nlst = [i, j]\\nlst\\n\\n# 리스트(operations)에 람다식 삽입\\noperations = [add, sub, mul, div]\\n# 매개변수로 함수 list가 옴(for문 출력 가능)\\n# 함수명과 변수명은 같을 수 없음\\ndef act_operations(a, b, operations = operations):\\n    result = []\\n    for op in operations:\\n        result.append(op(a, b))\\n    return result\\n# def pow(a, b):\\n#     return a ** b\\n# 제곱을 return하는 람다식을 list에 추가\\noperations.append(lambda a, b: a ** b)\\nprint(act_operations(10, 2), [lambda a, b: a**b, lambda a, b: a * 10 + b]) # 매개변수 vector일 때, 호출 당시의 값 반영\",\n",
       " '_i79': '# act_operations의 함수를 리스트 컴프리헨션을 이용하여 람다식으로 구현\\nact_operations = lambda a, b, operations = operations:\\n    [op(a, b) for op operations in operations]',\n",
       " '_i80': '# act_operations의 함수를 리스트 컴프리헨션을 이용하여 람다식으로 구현\\nact_operations = lambda a, b, operations = operations:\\n    result = [op(a, b) for op in operations]\\n    return result',\n",
       " '_i81': '# act_operations의 함수를 리스트 컴프리헨션을 이용하여 람다식으로 구현\\ndef act_operations = lambda a, b, operations = operations:\\n    return [op(a, b) for op in operations]',\n",
       " '_i82': '# act_operations의 함수를 리스트 컴프리헨션을 이용하여 람다식으로 구현\\ndef act_operations(a, b, operations = operations):\\n    return [op(a, b) for op in operations]',\n",
       " '_i83': '# act_operations의 함수를 리스트 컴프리헨션을 이용하여 람다식으로 구현\\noperations = [add, sub, mul, div]\\ndef act_operations(a, b, operations = operations):\\n    return [op(a, b) for op in operations]\\n\\nact_operations = lambda a, b, operations = operations: \\\\\\n                    [op(a, b) for op in operations]\\nact_operations(5, 2, [lambda a, b : a + b, lambda a, b: a ** b])',\n",
       " '_83': [7, 25],\n",
       " '_i84': '# act_operations의 함수를 리스트 컴프리헨션을 이용하여 람다식으로 구현\\noperations = [add, sub, mul, div]\\ndef act_operations(a, b, operations = operations):\\n    return [op(a, b) for op in operations]\\n\\nact_operations = lambda a, b, operations = operations: \\\\\\n                    [op(a, b) for op in operations]\\nprint(act_operations(5, 2, [lambda a, b : a + b, lambda a, b: a ** b]))\\nprint(act_operations(5, 2))',\n",
       " '_i85': '# act_operations의 함수를 리스트 컴프리헨션을 이용하여 람다식으로 구현\\noperations = [add, sub, mul, div]\\ndef act_operations(a, b, operations = operations):\\n    return [op(a, b) for op in operations]\\n\\nact_operations = lambda a, b, operations = operations: \\\\\\n                    [op(a, b) for op in operations]\\nprint(act_operations(5, 2, [lambda a, b : a + b, lambda a, b: a ** b]))\\nact_operations.append(lambda a, b: a + b)\\nprint(act_operations(5, 2))',\n",
       " '_i86': '# act_operations의 함수를 리스트 컴프리헨션을 이용하여 람다식으로 구현\\noperations = [add, sub, mul, div]\\ndef act_operations(a, b, operations = operations):\\n    return [op(a, b) for op in operations]\\n\\nact_operations = lambda a, b, operations = operations: \\\\\\n                    [op(a, b) for op in operations]\\nprint(act_operations(5, 2, [lambda a, b : a + b, lambda a, b: a ** b]))\\nact_operations.append(lambda a, b: a ** b)\\nprint(act_operations(5, 2))',\n",
       " '_i87': '# act_operations의 함수를 리스트 컴프리헨션을 이용하여 람다식으로 구현\\noperations = [add, sub, mul, div]\\ndef act_operations(a, b, operations = operations):\\n    return [op(a, b) for op in operations]\\n\\nact_operations = lambda a, b, operations = operations: \\\\\\n                    [op(a, b) for op in operations]\\nprint(act_operations(5, 2, [lambda a, b : a + b, lambda a, b: a ** b]))\\noperations.append(lambda a, b: a ** b)\\nprint(act_operations(5, 2))',\n",
       " '_i88': '# act_operations의 함수를 리스트 컴프리헨션을 이용하여 람다식으로 구현\\noperations = [add, sub, mul, div]\\ndef act_operations(a, b, operations = operations):\\n    return [op(a, b) for op in operations]\\n\\nact_operations = lambda a, b, operations = operations: \\\\\\n                    [op(a, b) for op in operations]\\n\\nprint(act_operations(5, 2, [lambda a, b : a + b, lambda a, b: a ** b])) # 람다식 2개인 list가 매개변수\\noperations.append(lambda a, b: a ** b) # 제곱 연산 람다식 operations list에 추가\\nprint(act_operations(5, 2))',\n",
       " '_i89': '# map 함수 만들기\\n# map 작업: 웹크롤링, 리스트에 반복적으로 동일한 작업 처리\\ndef map_tamplate(func, L = []): # list의 모든 인덱스에 함수 적용\\n    result = []\\n    for item in L:\\n        result.append(func(item)) # return할 list에 함수 적용 결과를 append\\n    return result\\n    ',\n",
       " 'map_tamplate': <function __main__.map_tamplate(func, L=[])>,\n",
       " '_i90': 'map_tamplate = lambda func, L = []: [func(1) for l in L]',\n",
       " '_i91': 'list_data = [1, 2, 3, 4, 5, 6, 7, 8]\\ndef x_2(x):\\n    return x * 2',\n",
       " 'list_data': [1, 2, 3, 4, 5, 6, 7, 8],\n",
       " 'x_2': <function __main__.x_2(x)>,\n",
       " '_i92': 'list_data = [1, 2, 3, 4, 5, 6, 7, 8]\\ndef x_2(x):\\n    return x * 2\\n# 함수 미리 생성하지 않음\\nmap_tamplate(x_2, list_data)',\n",
       " '_92': [2, 2, 2, 2, 2, 2, 2, 2],\n",
       " '_i93': 'list_data = [1, 2, 3, 4, 5, 6, 7, 8]\\ndef x_2(x):\\n    return x * 2\\n# 함수 미리 생성하지 않음\\nmap_tamplate(x_2, list_data)',\n",
       " '_93': [2, 2, 2, 2, 2, 2, 2, 2],\n",
       " '_i94': 'list_data = [1, 2, 3, 4, 5, 6, 7, 8]\\ndef x_2(x):\\n    return x*2\\n# 함수 미리 생성하지 않음\\nmap_tamplate(x_2, list_data)',\n",
       " '_94': [2, 2, 2, 2, 2, 2, 2, 2],\n",
       " '_i95': 'list_data = [1, 2, 3, 4, 5, 6, 7, 8]\\ndef x_2(x):\\n    return x*2\\n# 함수 미리 생성하지 않음\\nmap_tamplate(x_2, list_data)',\n",
       " '_95': [2, 2, 2, 2, 2, 2, 2, 2],\n",
       " '_i96': 'list_data = [1, 2, 3, 4, 5, 6, 7, 8]\\ndef x_2(x):\\n    return x*2\\n# 함수 미리 생성하지 않음\\nmap_tamplate(x_2, list_data)',\n",
       " '_96': [2, 2, 2, 2, 2, 2, 2, 2],\n",
       " '_i97': '# map 함수 만들기\\n# map 작업: 웹크롤링, 리스트에 반복적으로 동일한 작업 처리\\ndef map_tamplate(func, L = []): # list의 모든 인덱스에 함수 적용\\n    result = []\\n    for item in L:\\n        result.append(func(item)) # return할 list에 함수 적용 결과를 append\\n    return result\\n    ',\n",
       " '_i98': 'list_data = [1, 2, 3, 4, 5, 6, 7, 8]\\ndef x_2(x):\\n    return x*2\\n# 함수 미리 생성하지 않음\\nmap_tamplate(x_2, list_data)',\n",
       " '_98': [2, 4, 6, 8, 10, 12, 14, 16],\n",
       " '_i99': 'map_tamplate = lambda func, L = []: [func(l) for l in L]',\n",
       " '_i100': 'list_data = [1, 2, 3, 4, 5, 6, 7, 8]\\ndef x_2(x):\\n    return x*2\\n# 함수 미리 생성하지 않음\\nmap_tamplate(x_2, list_data)',\n",
       " '_100': [2, 4, 6, 8, 10, 12, 14, 16],\n",
       " '_i101': '# 함수 미리 생성하지 않음\\n# list_data = [1, 2, 3, 4, 5, 6, 7, 8]\\n# def x_2(x):\\n#     return x * 2\\n# map_tamplate(x_2, list_data)\\n\\nmap_template(lambda x: x * 2, list_data)',\n",
       " '_i102': 'map_tamplate = lambda func, L = []: [func(l) for l in L]',\n",
       " '_i103': '# 함수 미리 생성하지 않음\\n# list_data = [1, 2, 3, 4, 5, 6, 7, 8]\\n# def x_2(x):\\n#     return x * 2\\n# map_tamplate(x_2, list_data)\\n\\nmap_template(lambda x: x * 2, list_data)',\n",
       " '_i104': '# map 함수 만들기\\n# map 작업: 웹크롤링, 리스트에 반복적으로 동일한 작업 처리\\ndef map_tamplate(func, L = []): # list의 모든 인덱스에 함수 적용\\n    result = []\\n    for item in L:\\n        result.append(func(item)) # return할 list에 함수 적용 결과를 append\\n    return result',\n",
       " '_i105': '# 함수 미리 생성하지 않음\\n# list_data = [1, 2, 3, 4, 5, 6, 7, 8]\\n# def x_2(x):\\n#     return x * 2\\n# map_tamplate(x_2, list_data)\\n\\nmap_template(lambda x: x * 2, list_data)',\n",
       " '_i106': '# 함수 미리 생성하지 않음\\n# list_data = [1, 2, 3, 4, 5, 6, 7, 8]\\n# def x_2(x):\\n#     return x * 2\\n# map_tamplate(x_2, list_data)\\n\\nmap_tamplate(lambda x: x * 2, list_data)',\n",
       " '_106': [2, 4, 6, 8, 10, 12, 14, 16],\n",
       " '_i107': '# 리스트 컴프리헨션\\n[l*2 for l in list_data]',\n",
       " '_107': [2, 4, 6, 8, 10, 12, 14, 16],\n",
       " '_i108': '# 리스트 컴프리헨션\\n[x*2 for x in list_data]',\n",
       " '_108': [2, 4, 6, 8, 10, 12, 14, 16],\n",
       " '_i109': '# map 함수: map 객체를 return\\nmap(lambda x: x*2, list_data)',\n",
       " '_109': <map at 0x2289929f0a0>,\n",
       " '_i110': '# map 함수는 map 객체를 return\\nlist(map(lambda x: x*2, list_data))',\n",
       " '_110': [2, 4, 6, 8, 10, 12, 14, 16],\n",
       " '_i111': 'enumerate(list_data)',\n",
       " '_111': <enumerate at 0x2289b52efc0>,\n",
       " '_i112': 'list(enumerate(list_data))',\n",
       " '_112': [(0, 1), (1, 2), (2, 3), (3, 4), (4, 5), (5, 6), (6, 7), (7, 8)],\n",
       " '_i113': \"# enumerate도 유사\\nfor x in map(lambda x: x * 2, list_data):\\n    print(x, end='')\",\n",
       " 'x': 2.0,\n",
       " '_i114': \"# enumerate도 유사\\nfor x in map(lambda x: x * 2, list_data):\\n    print(x, end=' ')\",\n",
       " '_i115': 'def filter_template(func, L = []):\\n    result = []\\n    for item in L:\\n        if func(item):\\n            result.append(item)\\n    return result',\n",
       " 'filter_template': <function __main__.filter_template(func, L=[])>,\n",
       " '_i116': 'def evenChk(value):\\n    return value % 2 == 0\\n#     if value % 2 == 0:\\n#         return True\\n#     else:\\n#         return False\\nlist_data = [1, 2, ,3, 4, 5, 6, 7, 8]\\nfilter_template(evenChk = lambda x: x % 2 == 0, L = list_data )',\n",
       " '_i117': 'def evenChk(value):\\n    return value % 2 == 0\\n#     if value % 2 == 0:\\n#         return True\\n#     else:\\n#         return False\\nlist_data = [1, 2, 3, 4, 5, 6, 7, 8]\\nfilter_template(evenChk = lambda x: x % 2 == 0, L = list_data )',\n",
       " 'evenChk': <function __main__.evenChk(value)>,\n",
       " '_i118': 'def evenChk(value):\\n    return value % 2 == 0\\n#     if value % 2 == 0:\\n#         return True\\n#     else:\\n#         return False\\nlist_data = [1, 2, 3, 4, 5, 6, 7, 8]\\nfilter_template(lambda x: x % 2 == 0, L = list_data)',\n",
       " '_118': [2, 4, 6, 8],\n",
       " '_i119': \"# filter(): 조건에 맞는 리스트 요소만 반환\\nfor item in filter(lambda x: x % 2 == 0, list_data):\\n    print(item, end=' ')\",\n",
       " 'item': 8,\n",
       " '_i120': 'filter(lambda x: x % 2 == 0, list_data)',\n",
       " '_120': <filter at 0x22899281750>,\n",
       " '_i121': '# 리스트 컴프리헨션 이용\\n[x for x in list_data if x % 2 == 0]',\n",
       " '_121': [2, 4, 6, 8],\n",
       " '_i122': 'list(filter(lambda x: x % 2 == 0, list_data))',\n",
       " '_122': [2, 4, 6, 8],\n",
       " '_i123': '# quiz: 다음 리스트에서 소수점 이하가 0인 수만 출력하시오\\n# filter 함수, 람다식이용/filter_template / 리스트 컴프리헨션\\nL = [1, 1.2, 1.5, 2, 3.0, 10.5, 100]\\n# [1, 2, 3.0, 100]',\n",
       " 'L': [1, 1.2, 1.5, 2, 3.0, 10.5, 100],\n",
       " '_i124': '# quiz: 다음 리스트에서 소수점 이하가 0인 수만 출력하시오\\n# filter 함수, 람다식이용 / filter_template / 리스트 컴프리헨션\\nL = [1, 1.2, 1.5, 2, 3.0, 10.5, 100]\\n# [1, 2, 3.0, 100]\\nx = 2.0\\nprint(x.is_integer())\\n# 1. filter 함수\\nlist(filter(lambda x:  ): )',\n",
       " '_i125': '# quiz: 다음 리스트에서 소수점 이하가 0인 수만 출력하시오\\n# filter 함수, 람다식이용 / filter_template / 리스트 컴프리헨션\\nL = [1, 1.2, 1.5, 2, 3.0, 10.5, 100]\\n# [1, 2, 3.0, 100]\\nx = 2.0\\nprint(x.is_integer())\\n# 1. filter 함수\\n# list(filter(lambda x:  ): )',\n",
       " '_i126': '# quiz: 다음 리스트에서 소수점 이하가 0인 수만 출력하시오\\n# filter 함수, 람다식이용 / filter_template / 리스트 컴프리헨션\\nL = [1, 1.2, 1.5, 2, 3.0, 10.5, 100]\\n# [1, 2, 3.0, 100]\\nx = 2.0\\n# print(x.is_integer())\\nprint(x % 1.0 == 0)\\nprint(x == round(x))\\nprint(x == x // 1)\\n# 1. filter 함수\\nlist(filter(lambda x: x % 1.0 == 0): L = [])',\n",
       " '_i127': '# quiz: 다음 리스트에서 소수점 이하가 0인 수만 출력하시오\\n# filter 함수, 람다식이용 / filter_template / 리스트 컴프리헨션\\nL = [1, 1.2, 1.5, 2, 3.0, 10.5, 100]\\n# [1, 2, 3.0, 100]\\nx = 2.0\\n# print(x.is_integer())\\nprint(x % 1.0 == 0)\\nprint(x == round(x))\\nprint(x == x // 1)\\n# 1. filter 함수\\nlist(filter(lambda x: x % 1.0 == 0), L = [])',\n",
       " '_i128': '# quiz: 다음 리스트에서 소수점 이하가 0인 수만 출력하시오\\n# filter 함수, 람다식이용 / filter_template / 리스트 컴프리헨션\\nL = [1, 1.2, 1.5, 2, 3.0, 10.5, 100]\\n# [1, 2, 3.0, 100]\\nx = 2.0\\n# print(x.is_integer())\\nprint(x % 1.0 == 0)\\nprint(x == round(x))\\nprint(x == x // 1)\\n# 1. filter 함수\\nlist(filter(lambda item: item % 1.0 == 0), L = [])',\n",
       " '_i129': '# quiz: 다음 리스트에서 소수점 이하가 0인 수만 출력하시오\\n# filter 함수, 람다식이용 / filter_template / 리스트 컴프리헨션\\nL = [1, 1.2, 1.5, 2, 3.0, 10.5, 100]\\n# [1, 2, 3.0, 100]\\nx = 2.0\\n# print(x.is_integer())\\nprint(x % 1.0 == 0)\\nprint(x == round(x))\\nprint(x == x // 1)\\n# 1. filter 함수\\nlist(filter(lambda item: item % 1.0 == 0), L)',\n",
       " '_i130': '# quiz: 다음 리스트에서 소수점 이하가 0인 수만 출력하시오\\n# filter 함수, 람다식이용 / filter_template / 리스트 컴프리헨션\\nL = [1, 1.2, 1.5, 2, 3.0, 10.5, 100]\\n# [1, 2, 3.0, 100]\\nx = 2.0\\n# print(x.is_integer())\\nprint(x % 1.0 == 0)\\nprint(x == round(x))\\nprint(x == x // 1)',\n",
       " '_i131': '# 1. filter 함수 dlyd\\nlist(filter(lambda x: x % 1.0 == 0), L))',\n",
       " '_i132': '# 1. filter 함수 dlyd\\nprint(list(filter(lambda x: x % 1.0 == 0, , L)))',\n",
       " '_i133': '# 1. filter 함수 dlyd\\nprint(list(filter(lambda x: x % 1.0 == 0, L)))',\n",
       " '_i134': '# 1. filter 함수 dlyd\\nprint(list(filter(lambda x: x % 1.0 == 0, L)))\\nprint(list(filter(lambda x: x == round(x), L)))\\nprint(list(filter(lambda x: x == x // 1, L)))',\n",
       " '_i135': '# 1. filter 함수 이용\\nprint(list(filter(lambda x: x % 1.0 == 0, L)))\\nprint(list(filter(lambda x: x == round(x), L)))\\nprint(list(filter(lambda x: x == x // 1, L)))\\n\\n# 2. filter_template 함수 이용\\nprint(filter_template(lambda x: x == round(x), L))',\n",
       " '_i136': '# 1. filter 함수 이용\\nprint(list(filter(lambda x: x % 1.0 == 0, L)))\\nprint(list(filter(lambda x: x == round(x), L)))\\nprint(list(filter(lambda x: x == x // 1, L)))\\n\\n# 2. filter_template 함수 이용\\nprint(filter_template(lambda x: x == round(x), L))\\n\\n# 3. 리스트 컴프리헨션 이용\\nprint([x for x in L if x == round(x)])',\n",
       " '_i137': '# 예제 2. 베스트셀러 list(딕셔너리 list)를 가격순으로 sort\\np = [10, 3, 6, 1]\\np.sort()',\n",
       " 'p': [10, 6, 3, 1],\n",
       " '_i138': '# 예제 2. 베스트셀러 list(딕셔너리 list)를 가격순으로 sort\\np = [10, 3, 6, 1]\\np.sort()\\nprint(p)',\n",
       " '_i139': '# 예제 2. 베스트셀러 list(딕셔너리 list)를 가격순으로 sort\\np = [10, 3, 6, 1]\\np.sort(reverse=True)\\nprint(p)',\n",
       " '_i140': \"pairs = [(2, 'two'), (1, 'one'), (4, 'four'), (3, 'three')]\",\n",
       " 'pairs': [(2, 'two'), (3, 'three'), (1, 'one'), (4, 'four')],\n",
       " '_i141': \"# 튜플 list\\npairs = [(2, 'two'), (1, 'one'), (4, 'four'), (3, 'three')]\\npairs.sort()\\npairs\",\n",
       " '_141': [(1, 'one'), (2, 'two'), (3, 'three'), (4, 'four')],\n",
       " '_i142': \"# 튜플 list\\npairs = [(2, 'two'), (1, 'one'), (4, 'four'), (3, 'three')]\\npairs.sort()\\npairs\",\n",
       " '_142': [(2, 'two'), (3, 'three'), (1, 'one'), (4, 'four')],\n",
       " '_i143': 'pairs.sort(key = lambda pair: pairp[1])',\n",
       " '_i144': 'pairs.sort(key = lambda pair: pair[1])',\n",
       " '_i145': 'pairs.sort(key = lambda pair: pair[1], reverse=True)\\npairs',\n",
       " '_145': [(2, 'two'), (3, 'three'), (1, 'one'), (4, 'four')],\n",
       " '_i146': '# students를 이름, ㄱ, ㄴ, ㄷ 순 정렬\\nstudent.sort(key = lambda student: student[0])',\n",
       " '_i147': '# students를 이름, ㄱ, ㄴ, ㄷ 순 정렬\\nstudents.sort(key = lambda student: student[0])',\n",
       " '_i148': \"students = [{'name': '홍', 'score':99},\\n            {'name': '이', 'score':22},\\n            {'name': '김', 'score':77},\\n            {'name': '박', 'score':66},]\",\n",
       " 'students': [{'name': '이', 'score': 22},\n",
       "  {'name': '박', 'score': 66},\n",
       "  {'name': '김', 'score': 77},\n",
       "  {'name': '홍', 'score': 99}],\n",
       " '_i149': '# students를 이름, ㄱ, ㄴ, ㄷ 순 정렬\\nstudents.sort(key = lambda student: student[0])',\n",
       " '_i150': '# students를 이름, ㄱ, ㄴ, ㄷ 순 정렬\\nstudents.sort(key = lambda student: student[0][0])',\n",
       " '_i151': '# students를 이름, ㄱ, ㄴ, ㄷ 순 정렬\\nstudents.sorted(key = lambda student: student[0][0])',\n",
       " '_i152': '# students를 이름, ㄱ, ㄴ, ㄷ 순 정렬\\nstudents.sort(key = lambda student: student[0][0])',\n",
       " '_i153': '# students를 이름, ㄱ, ㄴ, ㄷ 순 정렬\\nstudents.sort(key = lambda students: students[0][0])',\n",
       " '_i154': '# students를 이름, ㄱ, ㄴ, ㄷ 순 정렬\\nstudents.sort(key = lambda students: students[0])',\n",
       " '_i155': '# students를 이름, ㄱ, ㄴ, ㄷ 순 정렬\\nstudents.sort(key = lambda students: students[1])',\n",
       " '_i156': \"# students를 이름, ㄱ, ㄴ, ㄷ 순 정렬\\nstudents.sort(key = lambda student: student['name'])\",\n",
       " '_i157': \"# students를 이름, ㄱ, ㄴ, ㄷ 순 정렬\\nstudents.sort(key = lambda student: student['name'])\\nstudents\",\n",
       " '_157': [{'name': '이', 'score': 22},\n",
       "  {'name': '박', 'score': 66},\n",
       "  {'name': '김', 'score': 77},\n",
       "  {'name': '홍', 'score': 99}],\n",
       " '_i158': \"# students를 score순으로 오름차순 정렬\\nstudents.sort(key = lambda student: student['score'])\\nstudents\",\n",
       " '_158': [{'name': '이', 'score': 22},\n",
       "  {'name': '박', 'score': 66},\n",
       "  {'name': '김', 'score': 77},\n",
       "  {'name': '홍', 'score': 99}],\n",
       " '_i159': \"# students를 score순으로 내림차순 정렬\\nstudents.sort(key = lambda student: student['score'], reverse=True)\",\n",
       " '_i160': \"# students를 score순으로 내림차순 정렬\\nstudents.sort(key = lambda student: student['score'], reverse=True)\\nstudents\",\n",
       " '_160': [{'name': '이', 'score': 22},\n",
       "  {'name': '박', 'score': 66},\n",
       "  {'name': '김', 'score': 77},\n",
       "  {'name': '홍', 'score': 99}],\n",
       " '_i161': \"# students를 이름, ㄱ, ㄴ, ㄷ 순 정렬\\nstudents.sort(key = lambda student: student.get('name')\\nstudents\",\n",
       " '_i162': \"# students를 이름, ㄱ, ㄴ, ㄷ 순 정렬\\nstudents.sort(key = lambda student: student.get('name'))\\nstudents\",\n",
       " '_162': [{'name': '이', 'score': 22},\n",
       "  {'name': '박', 'score': 66},\n",
       "  {'name': '김', 'score': 77},\n",
       "  {'name': '홍', 'score': 99}],\n",
       " '_i163': \"# students를 score순으로 오름차순 정렬\\nstudents.sort(key = lambda student: student.get('score'))\\nstudents\",\n",
       " '_163': [{'name': '이', 'score': 22},\n",
       "  {'name': '박', 'score': 66},\n",
       "  {'name': '김', 'score': 77},\n",
       "  {'name': '홍', 'score': 99}],\n",
       " '_i164': \"# 도서 정보가 담긴 딕셔너리 list를 sort\\nbooks = \\\\\\n    [{'no':1, 'title':'소년이 온다', 'writer':'한강', 'price': '13,500'},\\n     {'no':3, 'title':'트럼프2.0시대', 'writer':'박종훈', 'price': '18,000'},\\n     {'no':2, 'title':'트렌드코리아2025', 'writer':'김난도', 'price': '18,100'},\\n     {'no':4, 'title':'가격잘못', 'writer':'홍길동', 'price': 'ㅁ'},\\n     {'no':5, 'title':'가격없음', 'writer':'신길동', 'price': 'None예정'},]\",\n",
       " 'books': [{'no': 3, 'title': '트럼프2.0시대', 'writer': '박종훈', 'price': '18,000'},\n",
       "  {'no': 1, 'title': '소년이 온다', 'writer': '한강', 'price': '13,500'},\n",
       "  {'no': 4, 'title': '가격숫자', 'writer': '신길동', 'price': 9200},\n",
       "  {'no': 2, 'title': '트렌드코리아2025', 'writer': '김난도', 'price': '9,100'},\n",
       "  {'no': 4, 'title': '가격잘못', 'writer': '홍길동', 'price': 'ㅁ'},\n",
       "  {'no': 5, 'title': '가격없음', 'writer': '이길동'}],\n",
       " '_i165': \"books.sort(key = lambda book: book.get('no'))\",\n",
       " '_i166': \"books.sort(key = lambda book: book.get('no'))\\nbooks\",\n",
       " '_166': [{'no': 5, 'title': '가격없음', 'writer': '신길동', 'price': 'None예정'},\n",
       "  {'no': 4, 'title': '가격잘못', 'writer': '홍길동', 'price': 'ㅁ'},\n",
       "  {'no': 1, 'title': '소년이 온다', 'writer': '한강', 'price': '13,500'},\n",
       "  {'no': 3, 'title': '트럼프2.0시대', 'writer': '박종훈', 'price': '18,000'},\n",
       "  {'no': 2, 'title': '트렌드코리아2025', 'writer': '김난도', 'price': '18,100'}],\n",
       " '_i167': \"books.sort(key = lambda book: book.get('no'))\\nprint(books)\\nbooks.sort(key = lambda book: book.get('title'))\\nprint(books)\",\n",
       " '_i168': \"books.sort(key = lambda book: book.get('no'))\\nprint(books)\\nprint() # 개행\\nbooks.sort(key = lambda book: book.get('title'))\\nprint(books)\",\n",
       " '_i169': \"books.sort(key = lambda book: book.get('title'))\\nprint(books)\",\n",
       " '_i170': \"books.sort(key = lambda book: book.get('no'))\\nprint(books)\",\n",
       " '_i171': \"books.sort(key = lambda book: book.get('title'))\\nbooks\",\n",
       " '_171': [{'no': 5, 'title': '가격없음', 'writer': '신길동', 'price': 'None예정'},\n",
       "  {'no': 4, 'title': '가격잘못', 'writer': '홍길동', 'price': 'ㅁ'},\n",
       "  {'no': 1, 'title': '소년이 온다', 'writer': '한강', 'price': '13,500'},\n",
       "  {'no': 3, 'title': '트럼프2.0시대', 'writer': '박종훈', 'price': '18,000'},\n",
       "  {'no': 2, 'title': '트렌드코리아2025', 'writer': '김난도', 'price': '18,100'}],\n",
       " '_i172': \"books.sort(key = lambda book: book.get('no'))\\nbooks\",\n",
       " '_172': [{'no': 5, 'title': '가격없음', 'writer': '신길동', 'price': 'None예정'},\n",
       "  {'no': 4, 'title': '가격잘못', 'writer': '홍길동', 'price': 'ㅁ'},\n",
       "  {'no': 1, 'title': '소년이 온다', 'writer': '한강', 'price': '13,500'},\n",
       "  {'no': 3, 'title': '트럼프2.0시대', 'writer': '박종훈', 'price': '18,000'},\n",
       "  {'no': 2, 'title': '트렌드코리아2025', 'writer': '김난도', 'price': '18,100'}],\n",
       " '_i173': \"books.sort(key = lambda book: book['no'])\\nbooks\",\n",
       " '_173': [{'no': 5, 'title': '가격없음', 'writer': '신길동', 'price': 'None예정'},\n",
       "  {'no': 4, 'title': '가격잘못', 'writer': '홍길동', 'price': 'ㅁ'},\n",
       "  {'no': 1, 'title': '소년이 온다', 'writer': '한강', 'price': '13,500'},\n",
       "  {'no': 3, 'title': '트럼프2.0시대', 'writer': '박종훈', 'price': '18,000'},\n",
       "  {'no': 2, 'title': '트렌드코리아2025', 'writer': '김난도', 'price': '18,100'}],\n",
       " '_i174': \"books.sort(key = lambda book: book['title'])\\nbooks\",\n",
       " '_174': [{'no': 5, 'title': '가격없음', 'writer': '신길동', 'price': 'None예정'},\n",
       "  {'no': 4, 'title': '가격잘못', 'writer': '홍길동', 'price': 'ㅁ'},\n",
       "  {'no': 1, 'title': '소년이 온다', 'writer': '한강', 'price': '13,500'},\n",
       "  {'no': 3, 'title': '트럼프2.0시대', 'writer': '박종훈', 'price': '18,000'},\n",
       "  {'no': 2, 'title': '트렌드코리아2025', 'writer': '김난도', 'price': '18,100'}],\n",
       " '_i175': \"# 가격 결측치로 변경\\nbooks = \\\\\\n    [{'no':1, 'title':'소년이 온다', 'writer':'한강', 'price': '13,500'},\\n     {'no':3, 'title':'트럼프2.0시대', 'writer':'박종훈', 'price': '18,000'},\\n     {'no':2, 'title':'트렌드코리아2025', 'writer':'김난도', 'price': '9,100'},\\n     {'no':4, 'title':'가격잘못', 'writer':'홍길동', 'price': 'ㅁ'},\\n     {'no':5, 'title':'가격없음', 'writer':'신길동'},]\",\n",
       " '_i176': \"books.sort(key = lambda book: book['title'])\\nbooks\",\n",
       " '_176': [{'no': 5, 'title': '가격없음', 'writer': '신길동'},\n",
       "  {'no': 4, 'title': '가격잘못', 'writer': '홍길동', 'price': 'ㅁ'},\n",
       "  {'no': 1, 'title': '소년이 온다', 'writer': '한강', 'price': '13,500'},\n",
       "  {'no': 3, 'title': '트럼프2.0시대', 'writer': '박종훈', 'price': '18,000'},\n",
       "  {'no': 2, 'title': '트렌드코리아2025', 'writer': '김난도', 'price': '9,100'}],\n",
       " '_i177': \"books.sort(key = lambda book: book['price'], reverse=True)\",\n",
       " '_i178': \"books.sort(key = lambda book: book['price'], reverse=True)\\nbooks\",\n",
       " '_i179': \"# 도서 정보가 담긴 딕셔너리 list를 sort\\nbooks = \\\\\\n    [{'no':1, 'title':'소년이 온다', 'writer':'한강', 'price': '13,500'},\\n     {'no':3, 'title':'트럼프2.0시대', 'writer':'박종훈', 'price': '18,000'},\\n     {'no':2, 'title':'트렌드코리아2025', 'writer':'김난도', 'price': '9,100'},\\n     {'no':4, 'title':'가격잘못', 'writer':'홍길동', 'price': 'ㅁ'},\\n     {'no':5, 'title':'가격없음', 'writer':'신길동', 'price': 'None예정'},]\",\n",
       " '_i180': \"books.sort(key = lambda book: book['price'], reverse=True)\\nbooks\",\n",
       " '_180': [{'no': 1, 'title': '소년이 온다', 'writer': '한강', 'price': '13,500'},\n",
       "  {'no': 3, 'title': '트럼프2.0시대', 'writer': '박종훈', 'price': '18,000'},\n",
       "  {'no': 2, 'title': '트렌드코리아2025', 'writer': '김난도', 'price': '9,100'},\n",
       "  {'no': 5, 'title': '가격없음', 'writer': '신길동', 'price': 'None예정'},\n",
       "  {'no': 4, 'title': '가격잘못', 'writer': '홍길동', 'price': 'ㅁ'}],\n",
       " '_i181': \"# get() 사용해도, type이 string으로 통일되지 않아서 Error\\nbooks.sort(key = lambda book: book.get('price'))\\nbooks\",\n",
       " '_181': [{'no': 1, 'title': '소년이 온다', 'writer': '한강', 'price': '13,500'},\n",
       "  {'no': 3, 'title': '트럼프2.0시대', 'writer': '박종훈', 'price': '18,000'},\n",
       "  {'no': 2, 'title': '트렌드코리아2025', 'writer': '김난도', 'price': '9,100'},\n",
       "  {'no': 5, 'title': '가격없음', 'writer': '신길동', 'price': 'None예정'},\n",
       "  {'no': 4, 'title': '가격잘못', 'writer': '홍길동', 'price': 'ㅁ'}],\n",
       " '_i182': \"# 가격 결측치로 변경\\nbooks = \\\\\\n    [{'no':1, 'title':'소년이 온다', 'writer':'한강', 'price': '13,500'},\\n     {'no':3, 'title':'트럼프2.0시대', 'writer':'박종훈', 'price': '18,000'},\\n     {'no':2, 'title':'트렌드코리아2025', 'writer':'김난도', 'price': '9,100'},\\n     {'no':4, 'title':'가격잘못', 'writer':'홍길동', 'price': 'ㅁ'},\\n     {'no':5, 'title':'가격없음', 'writer':'신길동'},]\",\n",
       " '_i183': \"# get() 사용해도, type이 string으로 통일되지 않아서 Error\\nbooks.sort(key = lambda book: book.get('price'))\\nbooks\",\n",
       " '_i184': \"# get() 사용하더라도 type이 str로 통일되지 않아서(None 포함) Error\\nbooks.sort(key = lambda book: book.get('price'))\\nbooks\",\n",
       " '_i185': \"# 가격 결측치로 변경\\nbooks = \\\\\\n    [{'no':1, 'title':'소년이 온다', 'writer':'한강', 'price': '13,500'},\\n     {'no':3, 'title':'트럼프2.0시대', 'writer':'박종훈', 'price': '18,000'},\\n     {'no':2, 'title':'트렌드코리아2025', 'writer':'김난도', 'price': '9,100'},\\n     {'no':4, 'title':'가격잘못', 'writer':'홍길동', 'price': 0},\\n     {'no':4, 'title':'가격숫자', 'writer':'신길동', 'price': 9200},\\n     {'no':5, 'title':'가격없음', 'writer':'이길동'},] # price 데이터: 'None' type\",\n",
       " '_i186': \"# get() 사용하더라도 type이 str로 통일되지 않아서(None 포함) Error\\nbooks.sort(key = lambda book: book.get('price'))\\nbooks\",\n",
       " '_i187': \"# 문자에서 [,]을 ''로 바꾸고, int로 형변환하는 함수\\ndef parse_int(price):\\n    return int(price.replace(',', ''))\\nparse_int('13,500')\",\n",
       " 'parse_int': <function __main__.parse_int(price)>,\n",
       " '_187': 13500,\n",
       " '_i188': \"# 문자에서 [,]을 ''로 바꾸고, int로 형변환하는 함수\\ndef parse_int(price):\\n    return int(price.replace(',', ''))\\nparse_int('13,500')\\nparse_int(9200)\",\n",
       " '_i189': \"# 문자에서 [,]을 ''로 바꾸고, int로 형변환하는 함수\\ndef parse_int(price):\\n    return int(price.replace(',', ''))\\nparse_int('13,500')\\nparse_int(9200)\\nparse_int('ㅁ')\\nparse_int(None)\",\n",
       " '_i190': \"# 문자에서 [,]을 ''로 바꾸고, int로 형변환하는 함수\\n# 숫자 / 문자 / None 제외\\ndef parse_int(price):\\n    print(type(price))\\n        return int(price.replace(',', ''))\",\n",
       " '_i191': \"# 문자에서 [,]을 ''로 바꾸고, int로 형변환하는 함수\\n# 숫자 / 문자 / None 제외\\ndef parse_int(price):\\n    print(type(price))\",\n",
       " '_i192': \"parse_int('ㅁ'), parse_int(None), parse_int(9200), parse_int('13,500')\\n# 0,             0,               9200,            13,500\",\n",
       " '_192': (None, None, None, None),\n",
       " '_i193': \"# 문자에서 [,]을 ''로 바꾸고, int로 형변환하는 함수\\n# 데이터가 int / int변환 불가능한 str / NoneType일 경우를 고려\\n# &  : 논리연산, 비트연산, 집합연산\\n# and: 논리연산\\ndef parse_int(price):\\n    # print(type(price))\\n    if isinstance(price, str) & price.replace(',', '').isdigit() :\\n        print(price)\",\n",
       " '_i194': \"parse_int('ㅁ'), parse_int(None), parse_int(9200), parse_int('13,500')\\n# 0,             0,               9200,            13,500\",\n",
       " '_i195': \"# 문자에서 [,]을 ''로 바꾸고, int로 형변환하는 함수\\n# 데이터가 int / int변환 불가능한 str / NoneType일 경우를 고려\\n# &  : 논리연산, 비트연산, 집합연산\\n# and: 논리연산\\ndef parse_int(price):\\n    # print(type(price))\\n    if isinstance(price, str) & price.replace(',', '').isdigit():\\n        print(price)\",\n",
       " '_i196': \"parse_int('ㅁ'), parse_int(None), parse_int(9200), parse_int('13,500')\\n# 0,             0,               9200,            13,500\",\n",
       " '_i197': \"# 문자에서 [,]을 ''로 바꾸고, int로 형변환하는 함수\\n# 데이터가 int / int변환 불가능한 str / NoneType일 경우를 고려\\n# &  : 논리연산, 비트연산, 집합연산\\n# and: 논리연산\\ndef parse_int(price):\\n    # print(type(price))\\n    if isinstance(price, str) and price.replace(',', '').isdigit():\\n        print(price)\",\n",
       " '_i198': \"parse_int('ㅁ'), parse_int(None), parse_int(9200), parse_int('13,500')\\n# 0,             0,               9200,            13,500\",\n",
       " '_198': (None, None, None, None),\n",
       " '_i199': \"# 문자에서 [,]을 ''로 바꾸고, int로 형변환하는 함수\\n# 데이터가 int / int변환 불가능한 str / NoneType일 경우를 고려\\n# &  : 논리연산, 비트연산, 집합연산\\n# and: 논리연산\\ndef parse_int(price):\\n    # print(type(price))\\n    if isinstance(price, str) & price.replace(',', '').isdigit():\\n        print(price)\",\n",
       " '_i200': \"parse_int('ㅁ'), parse_int(None), parse_int(9200), parse_int('13,500')\\n# 0,             0,               9200,            13,500\",\n",
       " '_i201': \"# 문자에서 [,]을 ''로 바꾸고, int로 형변환하는 함수\\n# 데이터가 int / int변환 불가능한 str / NoneType일 경우를 고려\\n# &  : 논리연산, 비트연산(숫자), 집합연산(set)이 모두 가능하므로, 좌항이 False여도,\\n#      우항이 숫자면 비트연산을 수행해야 하므로 우항을 수행\\n# and: 논리연산의 역할만 하므로, 좌항이 False면 우항 수행 안 함\\ndef parse_int(price):\\n    # print(type(price))\\n    if isinstance(price, str) and price.replace(',', '').isdigit(): # price가 str고, comma 제거한 str이 숫자형태일 때\\n        print(price)\\n    elif isinstance(price, int): # price가 int일 때\\n        return price \\n    else:\\n        return 0\",\n",
       " '_i202': \"parse_int('ㅁ')     # 0\\nparse_int(None)     # 0\\nparse_int(9200)     # 9200 \\nparse_int('13,500') # 13,500\",\n",
       " '_i203': \"print(parse_int('ㅁ'))     # 0\\nprint(parse_int(None))     # 0\\nprint(parse_int(9200))     # 9200 \\nprint(parse_int('13,500')) # 13,500\",\n",
       " '_i204': \"print(parse_int('ㅁ'))     # 0\\nprint(parse_int(None))     # 0\\nprint(parse_int(9200))     # 9200 \\nprint(parse_int('13,500')) # 13,500\",\n",
       " '_i205': \"# get() 사용하더라도 type이 str로 통일되지 않아서(None 포함) Error\\nbooks.sort(key = lambda book: book.get('price'))\\nbooks\",\n",
       " '_i206': \"# 문자에서 [,]을 ''로 바꾸고, int로 형변환하는 함수\\n# 데이터가 int / int변환 불가능한 str / NoneType일 경우를 고려\\n# &  : 논리연산, 비트연산(숫자), 집합연산(set)이 모두 가능하므로, 좌항이 False여도,\\n#      우항이 숫자면 비트연산을 수행해야 하므로 우항을 수행\\n# and: 논리연산의 역할만 하므로, 좌항이 False면 우항 수행 안 함\\ndef parse_int(price):\\n    # print(type(price))\\n    if isinstance(price, str) and price.replace(',', '').isdigit(): # price가 str고, comma 제거한 str이 숫자형태일 때\\n        print(price)\\n    elif isinstance(price, int): # price가 int일 때\\n        return price \\n    else:\\n        return 0\",\n",
       " '_i207': \"print(parse_int('ㅁ'))     # 0\\nprint(parse_int(None))     # 0\\nprint(parse_int(9200))     # 9200 \\nprint(parse_int('13,500')) # 13,500\",\n",
       " '_i208': \"# 가격 결측치로 변경\\nbooks = \\\\\\n    [{'no':1, 'title':'소년이 온다', 'writer':'한강', 'price': '13,500'},\\n     {'no':3, 'title':'트럼프2.0시대', 'writer':'박종훈', 'price': '18,000'},\\n     {'no':2, 'title':'트렌드코리아2025', 'writer':'김난도', 'price': '9,100'},\\n     {'no':4, 'title':'가격잘못', 'writer':'홍길동', 'price': 0},\\n     {'no':4, 'title':'가격숫자', 'writer':'신길동', 'price': 9200},\\n     {'no':5, 'title':'가격없음', 'writer':'이길동'},] # price 데이터: 'None' type\",\n",
       " '_i209': \"# get() 사용하더라도 type이 str로 통일되지 않아서(None 포함) Error\\nbooks.sort(key = lambda book: book.get('price'))\\nbooks\",\n",
       " '_i210': \"testFunc = lambda book: book.get('price')\\n\\n[testFunc(book) for book in books]\",\n",
       " 'testFunc': <function __main__.<lambda>(book)>,\n",
       " '_210': ['13,500', '18,000', '9,100', 0, 9200, None],\n",
       " '_i211': \"testFunc = lambda book: int(book.get('price').replace(',', '')) \\\\ \\n                if isinstance(price, str) and \\\\\\n                    book.get('price').replace(',', '').isdigit() \\\\\\n                else (price if isinstance(book.get('price'), int) else 0)\\n\\n[testFunc(book) for book in books]\",\n",
       " '_i212': \"testFunc = lambda book: int(book.get('price').replace(',', '')) \\\\\\n                if isinstance(price, str) and \\\\\\n                    book.get('price').replace(',', '').isdigit() \\\\\\n                else (price if isinstance(book.get('price'), int) else 0)\\n\\n[testFunc(book) for book in books]\",\n",
       " '_i213': \"testFunc = lambda book: int(book.get('price').replace(',', '')) \\\\\\n                if isinstance(price, str) and \\\\\\n                    book.get('price').replace(',', '').isdigit() \\\\\\n                else (book.get('price') if isinstance(book.get('price'), int) else 0)\\n\\n[testFunc(book) for book in books]\",\n",
       " '_i214': \"# 가격 결측치로 변경\\nbooks = \\\\\\n    [{'no':1, 'title':'소년이 온다', 'writer':'한강', 'price': '13,500'},\\n     {'no':3, 'title':'트럼프2.0시대', 'writer':'박종훈', 'price': '18,000'},\\n     {'no':2, 'title':'트렌드코리아2025', 'writer':'김난도', 'price': '9,100'},\\n     {'no':4, 'title':'가격잘못', 'writer':'홍길동', 'price': 0},\\n     {'no':4, 'title':'가격숫자', 'writer':'신길동', 'price': 9200},\\n     {'no':5, 'title':'가격없음', 'writer':'이길동'},] # price 데이터: 'None' type\",\n",
       " '_i215': \"testFunc = lambda book: int(book.get('price').replace(',', '')) \\\\\\n                if isinstance(price, str) and \\\\\\n                    book.get('price').replace(',', '').isdigit() \\\\\\n                else (book.get('price') if isinstance(book.get('price'), int) else 0)\\n\\n[testFunc(book) for book in books]\",\n",
       " '_i216': \"testFunc = lambda book: int(book.get('price').replace(',', '')) \\\\\\n                if isinstance(price, str) and \\\\\\n                    book.get('price').replace(',', '').isdigit() \\\\\\n                else (price if isinstance(book.get('price'), int) else 0)\\n\\n[testFunc(book) for book in books]\",\n",
       " '_i217': \"testFunc = lambda book: int(book.get('price').replace(',', '')) \\\\\\n                if isinstance(book.get('price'), str) and \\\\\\n                    book.get('price').replace(',', '').isdigit() \\\\\\n                else (price if isinstance(book.get('price'), int) else 0)\\n\\n[testFunc(book) for book in books]\",\n",
       " '_i218': \"testFunc = lambda book: int(book.get('price').replace(',', '')) \\\\\\n                if isinstance(book.get('price'), str) and \\\\\\n                    book.get('price').replace(',', '').isdigit() else 0\\n\\n[testFunc(book) for book in books]\",\n",
       " '_218': [13500, 18000, 9100, 0, 0, 0],\n",
       " '_i219': \"testFunc = lambda book: int(book.get('price').replace(',', '')) \\\\ # book의 price에서 [,]를 빈스트링으로 변환, int 변환\\n                if isinstance(book.get('price'), str) and \\\\       # price가 str일 경우 and\\n                    book.get('price').replace(',', '').isdigit() \\\\ # [,]를 빈스트링으로 변환한 값이 숫자 형태일 경우만\\n                else (book.get('price') if isinstance(book.get('price'), int)) \\\\\\n                     else 0\\n[testFunc(book) for book in books]\",\n",
       " '_i220': \"testFunc = lambda book: int(book.get('price').replace(',', '')) \\\\ # book의 price에서 [,]를 빈스트링으로 변환, int 변환\\n                if isinstance(book.get('price'), str) and \\\\       # price가 str일 경우 and\\n                    book.get('price').replace(',', '').isdigit() \\\\ # [,]를 빈스트링으로 변환한 값이 숫자 형태일 경우만\\n                else (book.get('price') if isinstance(book.get('price'), int) \\\\\\n                     else 0)\\n[testFunc(book) for book in books]\",\n",
       " '_i221': \"testFunc = lambda book: int(book.get('price').replace(',', '')) \\\\ # book의 price에서 [,]를 빈스트링으로 변환, int 변환\\n                if isinstance(book.get('price'), str) and \\\\       # price가 str일 경우 and\\n                    book.get('price').replace(',', '').isdigit() \\\\# [,]를 빈스트링으로 변환한 값이 숫자 형태일 경우만\\n                else (book.get('price') if isinstance(book.get('price'), int) \\\\\\n                     else 0)\\n[testFunc(book) for book in books]\",\n",
       " '_i222': \"testFunc = lambda book: int(book.get('price').replace(',', '')) \\\\ # book의 price에서 [,]를 빈스트링으로 변환, int 변환\\n                if isinstance(book.get('price'), str) and \\\\       # price가 str일 경우 and\\n                    book.get('price').replace(',', '').isdigit()\\\\# [,]를 빈스트링으로 변환한 값이 숫자 형태일 경우만\\n                else (book.get('price') if isinstance(book.get('price'), int) \\\\\\n                     else 0)\\n[testFunc(book) for book in books]\",\n",
       " '_i223': \"testFunc = lambda book: int(book.get('price').replace(',', '')) \\\\# book의 price에서 [,]를 빈스트링으로 변환, int 변환\\n                if isinstance(book.get('price'), str) and \\\\       # price가 str일 경우 and\\n                    book.get('price').replace(',', '').isdigit()\\\\# [,]를 빈스트링으로 변환한 값이 숫자 형태일 경우만\\n                else (book.get('price') if isinstance(book.get('price'), int) \\\\\\n                     else 0)\\n[testFunc(book) for book in books]\",\n",
       " '_i224': \"testFunc = lambda book: int(book.get('price').replace(',', ''))\\\\# book의 price에서 [,]를 빈스트링으로 변환, int 변환\\n                if isinstance(book.get('price'), str) and \\\\       # price가 str일 경우 and\\n                    book.get('price').replace(',', '').isdigit()\\\\# [,]를 빈스트링으로 변환한 값이 숫자 형태일 경우만\\n                else (book.get('price') if isinstance(book.get('price'), int) \\\\\\n                     else 0)\\n[testFunc(book) for book in books]\",\n",
       " '_i225': \"# book의 price에서 [,]를 빈스트링으로 변환, int 변환\\n# price가 str일 경우 and\\n# [,]를 빈스트링으로 변환한 값이 숫자 형태일 경우만\\ntestFunc = lambda book: int(book.get('price').replace(',', ''))\\\\\\n                if isinstance(book.get('price'), str) and \\\\       \\n                    book.get('price').replace(',', '').isdigit()\\\\\\n                else (book.get('price') if isinstance(book.get('price'), int) \\\\\\n                     else 0)\\n[testFunc(book) for book in books]\",\n",
       " '_i226': \"# book의 price에서 [,]를 빈스트링으로 변환, int 변환\\n# price가 str일 경우 and\\n# [,]를 빈스트링으로 변환한 값이 숫자 형태일 경우만\\ntestFunc = lambda book: int(book.get('price').replace(',', ''))\\\\\\n                if isinstance(book.get('price'), str) and \\\\     \\n                    book.get('price').replace(',', '').isdigit()\\\\\\n                else (book.get('price') if isinstance(book.get('price'), int) \\\\\\n                     else 0)\\n[testFunc(book) for book in books]\",\n",
       " '_i227': \"# book의 price에서 [,]를 빈스트링으로 변환, int 변환\\n# price가 str일 경우 and\\n# [,]를 빈스트링으로 변환한 값이 숫자 형태일 경우만\\ntestFunc = lambda book: int(book.get('price').replace(',', ''))\\\\\\n                if isinstance(book.get('price'), str) and \\\\     \\n                    book.get('price').replace(',', '').isdigit()\\\\\\n                else book.get('price') if isinstance(book.get('price'), int) \\\\\\n                     else 0\\n[testFunc(book) for book in books]\",\n",
       " '_i228': \"# book의 price에서 [,]를 빈스트링으로 변환, int 변환\\n# price가 str일 경우 and\\n# [,]를 빈스트링으로 변환한 값이 숫자 형태일 경우만\\ntestFunc = lambda book: int(book.get('price').replace(',', ''))\\\\\\n            if isinstance(book.get('price'), str) and \\\\     \\n                book.get('price').replace(',', '').isdigit()\\\\\\n            else book.get('price') if isinstance(book.get('price'), int) \\\\\\n                else 0\\n[testFunc(book) for book in books]\",\n",
       " '_i229': \"# book의 price에서 [,]를 빈스트링으로 변환, int 변환\\n# price가 str일 경우 and\\n# [,]를 빈스트링으로 변환한 값이 숫자 형태일 경우만\\ntestFunc = lambda book: int(book.get('price').replace(',', '')) \\\\\\n            if isinstance(book.get('price'), str) and \\\\    \\n                book.get('price').replace(',', '').isdigit()\\\\\\n            else book.get('price') if isinstance(book.get('price'), int) \\\\\\n                else 0\\n[testFunc(book) for book in books]\",\n",
       " '_i230': \"# book의 price에서 [,]를 빈스트링으로 변환, int 변환\\n# price가 str일 경우 and\\n# [,]를 빈스트링으로 변환한 값이 숫자 형태일 경우만\\ntestFunc = lambda book: int(book.get('price').replace(',', '')) \\\\\\n            if isinstance(book.get('price'), str) and \\\\\\n                book.get('price').replace(',', '').isdigit()\\\\\\n            else book.get('price') if isinstance(book.get('price'), int) \\\\\\n                else 0\\n[testFunc(book) for book in books]\",\n",
       " '_230': [13500, 18000, 9100, 0, 9200, 0],\n",
       " '_i231': \"# book의 price에서 [,]를 빈스트링으로 변환, int 변환한 것을 return\\n# price가 str일 경우 and\\n# [,]를 빈스트링으로 변환한 값이 숫자 형태일 경우만\\n# book의 price를 return\\n# price가 int일 경우\\n# 둘 다 아니면 0 return\\ntestFunc = lambda book: int(book.get('price').replace(',', '')) \\\\\\n            if isinstance(book.get('price'), str) and \\\\\\n                book.get('price').replace(',', '').isdigit()\\\\\\n            else book.get('price') if isinstance(book.get('price'), int) \\\\\\n                else 0\\n[testFunc(book) for book in books]\",\n",
       " '_231': [13500, 18000, 9100, 0, 9200, 0],\n",
       " '_i232': 'copyBook = books.copy()',\n",
       " 'copyBook': [{'no': 1, 'title': '소년이 온다', 'writer': '한강', 'price': '13,500'},\n",
       "  {'no': 3, 'title': '트럼프2.0시대', 'writer': '박종훈', 'price': '18,000'},\n",
       "  {'no': 2, 'title': '트렌드코리아2025', 'writer': '김난도', 'price': '9,100'},\n",
       "  {'no': 4, 'title': '가격잘못', 'writer': '홍길동', 'price': 0},\n",
       "  {'no': 4, 'title': '가격숫자', 'writer': '신길동', 'price': 9200},\n",
       "  {'no': 5, 'title': '가격없음', 'writer': '이길동'}],\n",
       " '_i233': \"# 람다식으로 변환\\ncopyBooks = books.copy()\\ncopyBooks.sort(key = lambda book: int(book.get(price).replace(',', '')) \\\\\\n               if isinstance(book.get('price'), str) \\\\\\n                   and book.get('price').replace(',', '').isdigit() \\\\\\n               else (price if isinstance(book.get('price'), int) else 0)\\n              )\",\n",
       " 'copyBooks': [{'no': 3,\n",
       "   'title': '트럼프2.0시대',\n",
       "   'writer': '박종훈',\n",
       "   'price': '18,000'},\n",
       "  {'no': 1, 'title': '소년이 온다', 'writer': '한강', 'price': '13,500'},\n",
       "  {'no': 4, 'title': '가격숫자', 'writer': '신길동', 'price': 9200},\n",
       "  {'no': 2, 'title': '트렌드코리아2025', 'writer': '김난도', 'price': '9,100'},\n",
       "  {'no': 4, 'title': '가격잘못', 'writer': '홍길동', 'price': 0},\n",
       "  {'no': 5, 'title': '가격없음', 'writer': '이길동'}],\n",
       " '_i234': \"# 람다식으로 변환\\ncopyBooks = books.copy()\\ncopyBooks.sort(key = lambda book: int(book.get(price).replace(',', '')) \\\\\\n               if isinstance(book.get('price'), str) \\\\\\n                   and book.get('price').replace(',', '').isdigit() \\\\\\n               else (price if isinstance(book.get('price'), int) else 0)\\n              )\\ncopyBooks\",\n",
       " '_i235': \"# 람다식으로 변환\\ncopyBooks = books.copy()\\ncopyBooks.sort(key = lambda book: int(book.get(price).replace(',', '')) \\\\\\n               if isinstance(book.get('price'), str) \\\\\\n                   and book.get('price').replace(',', '').isdigit() \\\\\\n               else (book.get('price') if isinstance(book.get('price'), int) else 0)\\n              )\\ncopyBooks\",\n",
       " '_i236': \"# 람다식으로 변환\\ncopyBooks = books.copy()\\ncopyBooks.sort(key = lambda book: int(book.get(price).replace(',', '')) \\\\\\n               if isinstance(book.get('price'), str) \\\\\\n                   and book.get('price').replace(',', '').isdigit() \\\\\\n               else (book.get('price') if isinstance(book.get('price'), int) else 0)\\n              )\\ncopyBooks\",\n",
       " '_i237': \"# 람다식으로 변환\\ncopyBooks = books.copy()\\ncopyBooks.sort(key = lambda book: int(book.get('price').replace(',', '')) \\\\\\n               if isinstance(book.get('price'), str) \\\\\\n                   and book.get('price').replace(',', '').isdigit() \\\\\\n               else (book.get('price') if isinstance(book.get('price'), int) else 0)\\n              )\\ncopyBooks\",\n",
       " '_237': [{'no': 4, 'title': '가격잘못', 'writer': '홍길동', 'price': 0},\n",
       "  {'no': 5, 'title': '가격없음', 'writer': '이길동'},\n",
       "  {'no': 2, 'title': '트렌드코리아2025', 'writer': '김난도', 'price': '9,100'},\n",
       "  {'no': 4, 'title': '가격숫자', 'writer': '신길동', 'price': 9200},\n",
       "  {'no': 1, 'title': '소년이 온다', 'writer': '한강', 'price': '13,500'},\n",
       "  {'no': 3, 'title': '트럼프2.0시대', 'writer': '박종훈', 'price': '18,000'}],\n",
       " '_i238': \"# 람다식으로 변환\\ncopyBooks = books.copy()\\ncopyBooks.sort(key = lambda book: int(book.get('price').replace(',', '')) \\\\\\n               if isinstance(book.get('price'), str) \\\\\\n                   and book.get('price').replace(',', '').isdigit() \\\\\\n               else (book.get('price') if isinstance(book.get('price'), int) else 0),\\n               reverse=True\\n              )\\ncopyBooks\",\n",
       " '_238': [{'no': 3, 'title': '트럼프2.0시대', 'writer': '박종훈', 'price': '18,000'},\n",
       "  {'no': 1, 'title': '소년이 온다', 'writer': '한강', 'price': '13,500'},\n",
       "  {'no': 4, 'title': '가격숫자', 'writer': '신길동', 'price': 9200},\n",
       "  {'no': 2, 'title': '트렌드코리아2025', 'writer': '김난도', 'price': '9,100'},\n",
       "  {'no': 4, 'title': '가격잘못', 'writer': '홍길동', 'price': 0},\n",
       "  {'no': 5, 'title': '가격없음', 'writer': '이길동'}],\n",
       " '_i239': \"# 람다식으로 변환\\ncopyBooks = books.copy()\\ncopyBooks.sort(key = lambda book: int(book.get('price').replace(',', '')) \\\\\\n               if isinstance(book.get('price'), str) \\\\\\n                   and book.get('price').replace(',', '').isdigit() \\\\\\n               else (book.get('price') if isinstance(book.get('price'), int) else 0),\\n               reverse=True # 내림차순\\n              )\\ncopyBooks\",\n",
       " '_239': [{'no': 3, 'title': '트럼프2.0시대', 'writer': '박종훈', 'price': '18,000'},\n",
       "  {'no': 1, 'title': '소년이 온다', 'writer': '한강', 'price': '13,500'},\n",
       "  {'no': 4, 'title': '가격숫자', 'writer': '신길동', 'price': 9200},\n",
       "  {'no': 2, 'title': '트렌드코리아2025', 'writer': '김난도', 'price': '9,100'},\n",
       "  {'no': 4, 'title': '가격잘못', 'writer': '홍길동', 'price': 0},\n",
       "  {'no': 5, 'title': '가격없음', 'writer': '이길동'}],\n",
       " '_i240': \"# 람다식으로 변환\\n# copyBooks = books.copy()\\nbooks.sort(key = lambda book: int(book.get('price').replace(',', '')) \\\\\\n               if isinstance(book.get('price'), str) \\\\\\n                   and book.get('price').replace(',', '').isdigit() \\\\\\n               else (book.get('price') if isinstance(book.get('price'), int) else 0),\\n               reverse=True # 내림차순 정렬\\n              )\\nbooks\",\n",
       " '_240': [{'no': 3, 'title': '트럼프2.0시대', 'writer': '박종훈', 'price': '18,000'},\n",
       "  {'no': 1, 'title': '소년이 온다', 'writer': '한강', 'price': '13,500'},\n",
       "  {'no': 4, 'title': '가격숫자', 'writer': '신길동', 'price': 9200},\n",
       "  {'no': 2, 'title': '트렌드코리아2025', 'writer': '김난도', 'price': '9,100'},\n",
       "  {'no': 4, 'title': '가격잘못', 'writer': '홍길동', 'price': 0},\n",
       "  {'no': 5, 'title': '가격없음', 'writer': '이길동'}],\n",
       " '_i241': \"# 가격 결측치로 변경\\nbooks = \\\\\\n    [{'no':1, 'title':'소년이 온다', 'writer':'한강', 'price': '13,500'},\\n     {'no':3, 'title':'트럼프2.0시대', 'writer':'박종훈', 'price': '18,000'},\\n     {'no':2, 'title':'트렌드코리아2025', 'writer':'김난도', 'price': '9,100'},\\n     {'no':4, 'title':'가격잘못', 'writer':'홍길동', 'price': 'a'},\\n     {'no':4, 'title':'가격숫자', 'writer':'신길동', 'price': 9200},\\n     {'no':5, 'title':'가격없음', 'writer':'이길동'},] # price 데이터: 'None' type\",\n",
       " '_i242': \"# 가격 결측치로 변경\\nbooks = \\\\\\n    [{'no':1, 'title':'소년이 온다', 'writer':'한강', 'price': '13,500'},\\n     {'no':3, 'title':'트럼프2.0시대', 'writer':'박종훈', 'price': '18,000'},\\n     {'no':2, 'title':'트렌드코리아2025', 'writer':'김난도', 'price': '9,100'},\\n     {'no':4, 'title':'가격잘못', 'writer':'홍길동', 'price': 'ㅁ'},\\n     {'no':4, 'title':'가격숫자', 'writer':'신길동', 'price': 9200},\\n     {'no':5, 'title':'가격없음', 'writer':'이길동'},] # price 데이터: 'None' type\",\n",
       " '_i243': \"# 람다식으로 변환\\n# copyBooks = books.copy()\\nbooks.sort(key = lambda book: int(book.get('price').replace(',', '')) \\\\\\n               if isinstance(book.get('price'), str) \\\\\\n                   and book.get('price').replace(',', '').isdigit() \\\\\\n               else (book.get('price') if isinstance(book.get('price'), int) else 0),\\n               reverse=True # 내림차순 정렬\\n              )\\nbooks\",\n",
       " '_243': [{'no': 3, 'title': '트럼프2.0시대', 'writer': '박종훈', 'price': '18,000'},\n",
       "  {'no': 1, 'title': '소년이 온다', 'writer': '한강', 'price': '13,500'},\n",
       "  {'no': 4, 'title': '가격숫자', 'writer': '신길동', 'price': 9200},\n",
       "  {'no': 2, 'title': '트렌드코리아2025', 'writer': '김난도', 'price': '9,100'},\n",
       "  {'no': 4, 'title': '가격잘못', 'writer': '홍길동', 'price': 'ㅁ'},\n",
       "  {'no': 5, 'title': '가격없음', 'writer': '이길동'}],\n",
       " '_i244': '# map',\n",
       " '_i245': \"def price_parse_int(book):\\n    # sol 1. book.get('price')를 정수 가격으로\\n    if isinstance(book.get('price'), str) \\n            and book.get('price').replace(',', '').isdigit():\\n        book['price'] = int(book['price'].replace(','), '')\\n    return book\\n    # sol 2. book2 복사본을 만들어 books.get('price')를 정수 가격으로\\n    # return book2\",\n",
       " '_i247': \"def price_parse_int(book):\\n    # sol 1. book.get('price')를 정수 가격으로\\n    if isinstance(book.get('price'), str) \\n            and book.get('price').replace(',', '').isdigit():\\n        book['price'] = int(book['price'].replace(','), '')\\n    elif isinstance(book.get('price'), int):\\n        pass\\n    else:\\n        book['price'] = 0\\n    return book\\n    # sol 2. book2 복사본을 만들어 books.get('price')를 정수 가격으로\\n    # return book2\",\n",
       " '_i249': \"def price_parse_int(book):\\n    # sol 1. book.get('price')를 정수 가격으로\\n    if isinstance(book.get('price'), str) \\n        and book.get('price').replace(',', '').isdigit():\\n            book['price'] = int(book['price'].replace(','), '')\\n    elif isinstance(book.get('price'), int):\\n        pass\\n    else:\\n        book['price'] = 0\\n    return book\\n    # sol 2. book2 복사본을 만들어 books.get('price')를 정수 가격으로\\n    # return book2\",\n",
       " '_i250': \"def price_parse_int(book):\\n    # sol 1. book.get('price')를 정수 가격으로\\n    if isinstance(book.get('price'), str) \\\\\\n        and book.get('price').replace(',', '').isdigit():\\n            book['price'] = int(book['price'].replace(','), '')\\n    elif isinstance(book.get('price'), int):\\n        pass\\n    else:\\n        book['price'] = 0\\n    return book\\n    # sol 2. book2 복사본을 만들어 books.get('price')를 정수 가격으로\\n    # return book2\",\n",
       " 'price_parse_int': <function __main__.<lambda>(book)>,\n",
       " '_i251': \"price_parse_int('no':3, \\n                'title': '트럼프2.0시대', \\n                'writer': '박종훈', \\n                'price': '8,000')\",\n",
       " '_i252': \"price_parse_int('no': 3, \\n                'title': '트럼프2.0시대', \\n                'writer': '박종훈', \\n                'price': '8,000')\",\n",
       " '_i253': \"price_parse_int('no' : 3, \\n                'title': '트럼프2.0시대', \\n                'writer': '박종훈', \\n                'price': '8,000')\",\n",
       " '_i254': \"price_parse_int('no' : 3, \\n                'title': '트럼프2.0시대', \\n                'writer': '박'})\",\n",
       " '_i255': \"price_parse_int({'no' : 3, \\n                'title': '트럼프', \\n                'writer': '박'})\",\n",
       " '_255': {'no': 3, 'title': '트럼프', 'writer': '박', 'price': 0},\n",
       " '_i256': \"# price가 NoneType인 경우 else문 실행\\nbookTemp = {'no' : 3, \\n                 'title': '트럼프', \\n                 'writer': '박'}\\nprice_parse_int(bookTemp)\",\n",
       " 'bookTemp': {'no': 3, 'title': '트럼프', 'writer': '박'},\n",
       " '_256': {'no': 3, 'title': '트럼프', 'writer': '박', 'price': 0},\n",
       " '_i257': 'bookTemp',\n",
       " '_257': {'no': 3, 'title': '트럼프', 'writer': '박', 'price': 0},\n",
       " '_i258': \"# price가 NoneType인 경우 else문 실행\\nbookTemp = {'no' : 3, \\n            'title': '트럼프', \\n            'writer': '박'}\\nprice_parse_int(bookTemp)\",\n",
       " '_258': {'no': 3, 'title': '트럼프', 'writer': '박', 'price': 0},\n",
       " '_i259': \"def price_parse_int(book):\\n    # sol 1. book.get('price')를 정수 가격으로\\n    if isinstance(book.get('price'), str) \\\\\\n        and book.get('price').replace(',', '').isdigit():\\n            book['price'] = int(book['price'].replace(','), '')\\n    elif isinstance(book.get('price'), int):\\n        pass\\n    else:\\n        book['price'] = 0\\n    return {'no': book.get('no'),\\n            'title': book.get('title'),\\n            'writer': book.get('writer'),\\n            'price': int(book['price'].replace(',', '')) \\\\\\n                    if isinstance(book.get('price'), str) and \\\\\\n                           book.get('price').replace(',', '').isdigit() else()\\n            }\\n    # sol 2. book2 복사본을 만들어 books.get('price')를 정수 가격으로\\n    # return book2\",\n",
       " '_i260': \"def price_parse_int(book):\\n    # sol 1. book.get('price')를 정수 가격으로\\n    return {'no': book.get('no'),\\n            'title': book.get('title'),\\n            'writer': book.get('writer'),\\n            'price': int(book['price'].replace(',', '')) \\\\\\n                    if isinstance(book.get('price'), str) and \\\\\\n                           book.get('price').replace(',', '').isdigit() \\\\\\n                    else (book.get('price') \\\\\\n                          if isinstance(book.get('price'), int) else 0)\\n            }\\n    # sol 2. book2 복사본을 만들어 books.get('price')를 정수 가격으로\\n    # return book2\",\n",
       " '_i261': '# 람다식으로 변경\\nprice_parse_int = lambda book: ',\n",
       " '_i262': \"def price_parse_int(book):\\n    # sol 1. book.get('price')를 정수 가격으로\\n    return {'no': book.get('no'),\\n            'title': book.get('title'),\\n            'writer': book.get('writer'),\\n            'price': int(book['price'].replace(',', '')) \\\\\\n                    if isinstance(book.get('price'), str) and \\\\\\n                           book.get('price').replace(',', '').isdigit() \\\\\\n                    else (book.get('price') \\\\\\n                          if isinstance(book.get('price'), int) else 0)\\n            }\\n    # sol 2. book2 복사본을 만들어 books.get('price')를 정수 가격으로\\n    # return book2\",\n",
       " '_i263': \"# price가 NoneType인 경우 else문 실행\\nbookTemp = {'no' : 3, \\n            'title': '트럼프', \\n            'writer': '박'}\\nprice_parse_int(bookTemp)\",\n",
       " '_263': {'no': 3, 'title': '트럼프', 'writer': '박', 'price': 0},\n",
       " '_i264': \"# price가 NoneType인 경우 else문 실행\\nbookTemp = {'no' : 3, \\n            'title': '트럼프', \\n            'writer': '이'}\\nprice_parse_int(bookTemp)\",\n",
       " '_264': {'no': 3, 'title': '트럼프', 'writer': '이', 'price': 0},\n",
       " '_i265': \"# price가 NoneType인 경우 else문 실행\\nbookTemp = {'no' : 3, \\n            'title': '트럼프', \\n            'writer': '박'}\\nprice_parse_int(bookTemp)\",\n",
       " '_265': {'no': 3, 'title': '트럼프', 'writer': '박', 'price': 0},\n",
       " '_i266': \"bookTemp = {'no' : 3, \\n            'title': '트럼프', \\n            'writer': '박'}\\nreturnBook = price_parse_int(bookTemp)\\nreturnBook\",\n",
       " 'returnBook': {'no': 3, 'title': '트럼프', 'writer': '박', 'price': 0},\n",
       " '_266': {'no': 3, 'title': '트럼프', 'writer': '박', 'price': 0},\n",
       " '_i267': 'bookTemp # vector변수 바뀜',\n",
       " '_267': {'no': 3, 'title': '트럼프', 'writer': '박'},\n",
       " '_i268': \"# 실행\\nbookTemp = {'no' : 3, \\n            'title': '트럼프', \\n            'writer': '박'}\\nprice_parse_int(bookTemp)\",\n",
       " '_268': {'no': 3, 'title': '트럼프', 'writer': '박', 'price': 0},\n",
       " '_i269': \"price_parse_int = lambda book: {'no': book.get('no'),\\n            'title': book.get('title'),\\n            'writer': book.get('writer'),\\n            'price': int(book['price'].replace(',', '')) \\\\\\n                    if isinstance(book.get('price'), str) and \\\\\\n                           book.get('price').replace(',', '').isdigit() \\\\\\n                    else (book.get('price') \\\\\\n                          if isinstance(book.get('price'), int) else 0)\\n            }\",\n",
       " '_i270': \"# map() 매개변수에 람다식 삽입\\nlist(map(lambda book: {'no': book.get('no'),\\n            'title': book.get('title'),\\n            'writer': book.get('writer'),\\n            'price': int(book['price'].replace(',', '')) \\\\\\n                    if isinstance(book.get('price'), str) and \\\\\\n                           book.get('price').replace(',', '').isdigit() \\\\\\n                    else (book.get('price') \\\\\\n                          if isinstance(book.get('price'), int) else 0)\\n            },\\n            books\\n        ))\",\n",
       " '_270': [{'no': 3, 'title': '트럼프2.0시대', 'writer': '박종훈', 'price': 18000},\n",
       "  {'no': 1, 'title': '소년이 온다', 'writer': '한강', 'price': 13500},\n",
       "  {'no': 4, 'title': '가격숫자', 'writer': '신길동', 'price': 9200},\n",
       "  {'no': 2, 'title': '트렌드코리아2025', 'writer': '김난도', 'price': 9100},\n",
       "  {'no': 4, 'title': '가격잘못', 'writer': '홍길동', 'price': 0},\n",
       "  {'no': 5, 'title': '가격없음', 'writer': '이길동', 'price': 0}],\n",
       " '_i271': \"# map() 매개변수에 람다식 삽입\\nnewBooks = list(map(lambda book: {'no': book.get('no'),\\n            'title': book.get('title'),\\n            'writer': book.get('writer'),\\n            'price': int(book['price'].replace(',', '')) \\\\\\n                    if isinstance(book.get('price'), str) and \\\\\\n                           book.get('price').replace(',', '').isdigit() \\\\\\n                    else (book.get('price') \\\\\\n                          if isinstance(book.get('price'), int) else 0)\\n            },\\n            books\\n        ))\",\n",
       " 'newBooks': [{'no': 3, 'title': '트럼프2.0시대', 'writer': '박종훈', 'price': 18000},\n",
       "  {'no': 1, 'title': '소년이 온다', 'writer': '한강', 'price': 13500},\n",
       "  {'no': 4, 'title': '가격숫자', 'writer': '신길동', 'price': 9200},\n",
       "  {'no': 2, 'title': '트렌드코리아2025', 'writer': '김난도', 'price': 9100},\n",
       "  {'no': 4, 'title': '가격잘못', 'writer': '홍길동', 'price': 0},\n",
       "  {'no': 5, 'title': '가격없음', 'writer': '이길동', 'price': 0}],\n",
       " '_i272': \"# map() 매개변수에 람다식 삽입\\nnewBooks = list(map(lambda book: {'no': book.get('no'),\\n            'title': book.get('title'),\\n            'writer': book.get('writer'),\\n            'price': int(book['price'].replace(',', '')) \\\\\\n                    if isinstance(book.get('price'), str) and \\\\\\n                           book.get('price').replace(',', '').isdigit() \\\\\\n                    else (book.get('price') \\\\\\n                          if isinstance(book.get('price'), int) else 0)\\n            },\\n            books\\n        ))\\nnewBooks\",\n",
       " '_272': [{'no': 3, 'title': '트럼프2.0시대', 'writer': '박종훈', 'price': 18000},\n",
       "  {'no': 1, 'title': '소년이 온다', 'writer': '한강', 'price': 13500},\n",
       "  {'no': 4, 'title': '가격숫자', 'writer': '신길동', 'price': 9200},\n",
       "  {'no': 2, 'title': '트렌드코리아2025', 'writer': '김난도', 'price': 9100},\n",
       "  {'no': 4, 'title': '가격잘못', 'writer': '홍길동', 'price': 0},\n",
       "  {'no': 5, 'title': '가격없음', 'writer': '이길동', 'price': 0}],\n",
       " '_i273': \"# 생일 쪼개는 함수 만들기\\ndef birth_split(birth):\\n    if isinstance(members.get('birth'), str)\\n        and members.['birth'].replace('-', ''):\\n            members['birth'].replace('-', '').split()\\n    print(members['birth'])\",\n",
       " '_i274': \"# 생일 쪼개는 함수 만들기\\ndef birth_split(birth):\\n    if isinstance(members.get('birth'), str):\\n        and members.['birth'].replace('-', ''):\\n            members['birth'].replace('-', '').split()\\n    print(members['birth'])\",\n",
       " '_i275': \"# 생일 쪼개는 함수 만들기\\ndef birth_split(birth):\\n    if isinstance(members.get('birth'), str) \\\\\\n        and members.['birth'].replace('-', ''):\\n            members['birth'].replace('-', '').split()\\n    print(members['birth'])\",\n",
       " '_i276': \"# 생일 쪼개는 함수 만들기\\ndef birth_split(birth):\\n    if isinstance(members.get('birth'), str) \\\\\\n        and members['birth'].replace('-', ''):\\n            members['birth'].replace('-', '').split()\\n    print(members['birth'])\",\n",
       " 'birth_split': <function __main__.birth_split(member)>,\n",
       " '_i277': \"# 생일 쪼개는 함수 만들기\\ndef birth_split(birth):\\n    if isinstance(members.get('birth'), str) \\\\\\n        and members['birth'].replace('-', ''):\\n            members['birth'].replace('-', '').split()\\n\\nbirth_split('2001-01-01')\",\n",
       " '_i278': \"# 생일 쪼개는 함수 만들기\\ndef birth_split(birth):\\n    if isinstance(members.get('birth'), str) \\\\\\n        and members['birth'].replace('-', ''):\\n            members['birth'].replace('-', '').split()\\nmembers = [{'name':'홍길동', 'birth':'2000-01-01'},\\n                   {'name':'신길동', 'birth':'1995-12-18'}]\",\n",
       " 'members': [{'name': '홍길동', 'birth': '2000-01-01'},\n",
       "  {'name': '신길동', 'birth': '1995-12-18'}],\n",
       " '_i279': \"# 생일 쪼개는 함수 만들기\\ndef birth_split(birth):\\n    if isinstance(members.get('birth'), str) \\\\\\n        and members['birth'].replace('-', ''):\\n            members['birth'].replace('-', '').split()\\nmembers = [{'name':'홍길동', 'birth':'2000-01-01'},\\n                   {'name':'신길동', 'birth':'1995-12-18'}]\\nprint(members.get('birth'))\",\n",
       " '_i280': \"# 생일 쪼개는 함수 만들기\\ndef birth_split(birth):\\n    if isinstance(members.get('birth'), str) \\\\\\n        and members['birth'].replace('-', ''):\\n            members['birth'].replace('-', '').split()\\nmembers = [{'name':'홍길동', 'birth':'2000-01-01'},\\n           {'name':'신길동', 'birth':'1995-12-18'}]\\nprint(members.get('birth'))\",\n",
       " '_i281': \"# 생일 쪼개는 함수 만들기\\ndef birth_split(member):\\n    if isinstance(member.get('birth'), str) \\\\\\n        and member['birth'].replace('-', ''):\\n            member['birth'].replace('-', '').split()\\n    elif isinstance(member.get('price'), int):\\n        member['birth'].split()\\n    else:\\n        member['birth'] = 0\\nmembers = [{'name':'홍길동', 'birth':'2000-01-01'},\\n           {'name':'신길동', 'birth':'1995-12-18'}]\\nprint(members.get('birth'))\\n# isinstance(book.get('price'), int):\",\n",
       " '_i282': \"# 생일 쪼개는 함수 만들기\\ndef birth_split(member):\\n    if isinstance(member.get('birth'), str) \\\\\\n        and member['birth'].replace('-', ''):\\n            member['birth'].replace('-', '').split()\\n    elif isinstance(member.get('price'), int):\\n        member['birth'].split()\\n    else:\\n        member['birth'] = 0\\nmembers = [{'name':'홍길동', 'birth':'2000-01-01'},\\n           {'name':'신길동', 'birth':'1995-12-18'}]\\nprint(members)\",\n",
       " '_i283': \"# 생일 쪼개는 함수 만들기\\ndef birth_split(member):\\n    if isinstance(member.get('birth'), str) \\\\\\n        and member['birth'].replace('-', ''):\\n            split_temp = member['birth'].replace('-', '').split()\\n            member['year'] = split_temp[0]\\n            member['month'] = split_temp[1]\\n            member['day'] = split_temp[2]\\n    elif isinstance(member.get('price'), int):\\n        member['birth'].split()\\n    else:\\n        member['birth'] = 0\\nmembers = [{'name':'홍길동', 'birth':'2000-01-01'},\\n           {'name':'신길동', 'birth':'1995-12-18'}]\\nprint(members)\",\n",
       " '_i284': \"# 생일 쪼개는 함수 만들기\\ndef birth_split(member):\\n    if isinstance(member.get('birth'), str) \\\\\\n        and member['birth'].replace('-', ''):\\n            split_temp = member['birth'].replace('-', '').split()\\n            member['year'] = split_temp[0]\\n            member['month'] = split_temp[1]\\n            member['day'] = split_temp[2]\\n    elif isinstance(member.get('price'), int):\\n        member['birth'].split()\\n    else:\\n        member['birth'] = 0\\nmembers = [{'name':'홍길동', 'birth':'2000-01-01'},\\n           {'name':'신길동', 'birth':'1995-12-18'}]\\nprint(members)\",\n",
       " '_i285': \"# 생일 쪼개는 함수 만들기\\ndef birth_split(member):\\n    if isinstance(member.get('birth'), str) \\\\\\n        and member['birth'].replace('-', ''):\\n            split_temp = member['birth'].replace('-', '').isdigit()\\n            member['year'] = split_temp[0]\\n            member['month'] = split_temp[1]\\n            member['day'] = split_temp[2]\\n    elif isinstance(member.get('price'), int):\\n        split_temp = member['birth'].split()\\n        member['year'] = split_temp[0]\\n            member['month'] = split_temp[1]\\n            member['day'] = split_temp[2]\\n    else:\\n        member['birth'] = 0\\nmembers = [{'name':'홍길동', 'birth':'2000-01-01'},\\n           {'name':'신길동', 'birth':'1995-12-18'}]\\nprint(members)\",\n",
       " '_i286': \"# 생일 쪼개는 함수 만들기\\ndef birth_split(member):\\n    if isinstance(member.get('birth'), str) \\\\\\n        and member['birth'].replace('-', ''):\\n            split_temp = member['birth'].replace('-', '').isdigit()\\n            member['year'] = split_temp[0]\\n            member['month'] = split_temp[1]\\n            member['day'] = split_temp[2]\\n    elif isinstance(member.get('price'), int):\\n        split_temp = member['birth'].split()\\n        member['year'] = split_temp[0]\\n            member['month'] = split_temp[1]\\n            member['day'] = split_temp[2]\\n    else:\\n        member['birth'] = 0\\nmembers = [{'name':'홍길동', 'birth':'2000-01-01'},\\n           {'name':'신길동', 'birth':'1995-12-18'}]\\nprint(members)\",\n",
       " '_i287': \"# 생일 쪼개는 함수 만들기\\ndef birth_split(member):\\n    if isinstance(member.get('birth'), str) \\\\\\n        and member['birth'].replace('-', ''):\\n            split_temp = member['birth'].replace('-', '').isdigit()\\n            member['year'] = split_temp[0]\\n            member['month'] = split_temp[1]\\n            member['day'] = split_temp[2]\\n    elif isinstance(member.get('price'), int):\\n        split_temp = member['birth'].split()\\n        member['year'] = split_temp[0]\\n        member['month'] = split_temp[1]\\n        member['day'] = split_temp[2]\\n    else:\\n        member['birth'] = 0\\nmembers = [{'name':'홍길동', 'birth':'2000-01-01'},\\n           {'name':'신길동', 'birth':'1995-12-18'}]\\nprint(members)\",\n",
       " '_i288': \"# 생일 쪼개는 함수 만들기\\ndef birth_split(member):\\n    if isinstance(member.get('birth'), str) \\\\\\n        and member['birth'].replace('-', ''):\\n            split_temp = member['birth'].replace('-', '').isdigit()\\n            member['year'] = split_temp[0]\\n            member['month'] = split_temp[1]\\n            member['day'] = split_temp[2]\\n    else:\\n        member['birth'] = 0\\nmembers = [{'name':'홍길동', 'birth':'2000-01-01'},\\n           {'name':'신길동', 'birth':'1995-12-18'}]\\nprint(members)\",\n",
       " '_i289': \"# 생일 쪼개는 함수 만들기\\ndef birth_split(member):\\n    if isinstance(member.get('birth'), str) \\\\\\n        and member['birth'].replace('-', ''):\\n            split_temp = member['birth'].replace('-', '').isdigit().split()\\n            member['year'] = split_temp[0]\\n            member['month'] = split_temp[1]\\n            member['day'] = split_temp[2]\\n    else:\\n        member['birth'] = 0\\nmembers = [{'name':'홍길동', 'birth':'2000-01-01'},\\n           {'name':'신길동', 'birth':'1995-12-18'}]\\nprint(members)\",\n",
       " '_i290': \"# 생일 쪼개는 함수 만들기\\ndef birth_split(member):\\n    split_temp = member['birth'].split('-')\\n    member['year'] = split_temp[0]\\n    member['month'] = split_temp[1]\\n    member['day'] = split_temp[2]\\nmembers = [{'name':'홍길동', 'birth':'2000-01-01'},\\n           {'name':'신길동', 'birth':'1995-12-18'}]\\nprint(members)\",\n",
       " '_i291': \"# 생일 쪼개는 함수 만들기\\ndef birth_split(member):\\n    split_temp = member['birth'].split('-')\\n    member['year'] = split_temp[0]\\n    member['month'] = split_temp[1]\\n    member['day'] = split_temp[2]\\nmembers = [{'name':'홍길동', 'birth':'2000-01-01'},\\n           {'name':'신길동', 'birth':'1995-12-18'}]\\nprint(members)\",\n",
       " '_i292': \"# 생일 쪼개는 함수 만들기\\ndef birth_split(member):\\n    split_temp = member['birth'].split('-')\\n    member['year'] = split_temp[0]\\n    member['month'] = split_temp[1]\\n    member['day'] = split_temp[2]\\nmembers = [{'name':'홍길동', 'birth':'2000-01-01'},\\n           {'name':'신길동', 'birth':'1995-12-18'}]\\nnew_member = print(members)\",\n",
       " 'new_member': None,\n",
       " '_i293': \"# 생일 쪼개는 함수 만들기\\ndef birth_split(member):\\n    split_temp = member['birth'].split('-')\\n    member['year'] = split_temp[0]\\n    member['month'] = split_temp[1]\\n    member['day'] = split_temp[2]\\nmembers = [{'name':'홍길동', 'birth':'2000-01-01'},\\n           {'name':'신길동', 'birth':'1995-12-18'}]\\nnew_member = print(members)\\nnew_member\",\n",
       " '_i294': \"# 생일 쪼개는 함수 만들기\\ndef birth_split(member):\\n    split_temp = member['birth'].split('-')\\n    member['year'] = split_temp[0]\\n    member['month'] = split_temp[1]\\n    member['day'] = split_temp[2]\\nprint(birth_split)\\nmembers = [{'name':'홍길동', 'birth':'2000-01-01'},\\n           {'name':'신길동', 'birth':'1995-12-18'}]\\nprint(members)\",\n",
       " '_i295': \"# 생일 쪼개는 함수 만들기\\ndef birth_split(member):\\n    split_temp = member['birth'].split('-')\\n#     member['year'] = split_temp[0]\\n#     member['month'] = split_temp[1]\\n#     member['day'] = split_temp[2]\\n    \\nmembers = [{'name':'홍길동', 'birth':'2000-01-01'},\\n           {'name':'신길동', 'birth':'1995-12-18'}]\\nprint(members)\",\n",
       " '_i296': \"# 생일 쪼개는 함수 만들기\\ndef birth_split(member):\\n    split_temp = member['birth'].split('-')\\n    member['year']  = split_temp[0]\\n    member['month'] = split_temp[1]\\n    member['day']   = split_temp[2]\\n    \\nmembers = [{'name':'홍길동', 'birth':'2000-01-01'},\\n           {'name':'신길동', 'birth':'1995-12-18'}]\\nprint(members)\",\n",
       " '_i297': \"# '1995-01-01'을 받아 {'year':1995, 'month':1, 'day':1}을 return하는 함수\\nmembers = [{'name':'홍길동', 'birth':'2000-01-01'},\\n           {'name':'신길동', 'birth':'1995-12-18'}]\\n\\ndef split_date(date):\\n    split_data = date.split('-')\\n    return \\n    {del member['birth']\\n    'year'  = int(split_temp[0]),\\n    'month' = int(split_temp[1]),\\n    'day'   = int(split_temp[2]),}\\n    \\nsplit_date('2001-01-08')\",\n",
       " '_i298': \"# '1995-01-01'을 받아 {'year':1995, 'month':1, 'day':1}을 return하는 함수\\nmembers = [{'name':'홍길동', 'birth':'2000-01-01'},\\n           {'name':'신길동', 'birth':'1995-12-18'}]\\n\\ndef split_date(date):\\n    split_data = date.split('-')\\n    return \\n    {'year'  = int(split_temp[0]),\\n    'month' = int(split_temp[1]),\\n    'day'   = int(split_temp[2]),}\\n    \\nsplit_date('2001-01-08')\",\n",
       " '_i299': \"# '1995-01-01'을 받아 {'year':1995, 'month':1, 'day':1}을 return하는 함수\\nmembers = [{'name':'홍길동', 'birth':'2000-01-01'},\\n           {'name':'신길동', 'birth':'1995-12-18'}]\\n\\ndef split_date(date):\\n    split_data = date.split('-')\\n    return \\n    {'year': int(split_temp[0]),\\n    'month': int(split_temp[1]),\\n    'day'  :int(split_temp[2]),}\\n    \\nsplit_date('2001-01-08')\",\n",
       " 'split_date': <function __main__.split_date(date)>,\n",
       " '_i300': \"# '1995-01-01'을 받아 {'year':1995, 'month':1, 'day':1}을 return하는 함수\\nmembers = [{'name':'홍길동', 'birth':'2000-01-01'},\\n           {'name':'신길동', 'birth':'1995-12-18'}]\\n\\ndef split_date(date):\\n    split_data = date.split('-')\\n    return \\n    {'year': int(split_temp[0]),\\n    'month': int(split_temp[1]),\\n    'day'  : int(split_temp[2]),}\\n    \\nsplit_date('2001-01-08')\",\n",
       " '_i301': \"# '1995-01-01'을 받아 {'year':1995, 'month':1, 'day':1}을 return하는 함수\\nmembers = [{'name':'홍길동', 'birth':'2000-01-01'},\\n           {'name':'신길동', 'birth':'1995-12-18'}]\\n\\ndef split_date(date):\\n    split_data = date.split('-')\\n    return \\n    {'year': int(split_temp[0]),\\n    'month': int(split_temp[1]),\\n    'day'  : int(split_temp[2])}\\n    \\nsplit_date('2001-01-08')\",\n",
       " '_i302': \"# '1995-01-01'을 받아 {'year':1995, 'month':1, 'day':1}을 return하는 함수\\nmembers = [{'name':'홍길동', 'birth':'2000-01-01'},\\n           {'name':'신길동', 'birth':'1995-12-18'}]\\n\\ndef split_date(date):\\n    split_data = date.split('-')\\n    return \\n    {'year': int(split_data[0]),\\n    'month': int(split_data[1]),\\n    'day'  : int(split_data[2])}\\n    \\nsplit_date('2001-01-08')\",\n",
       " '_i303': \"# '1995-01-01'을 받아 {'year':1995, 'month':1, 'day':1}을 return하는 함수\\nmembers = [{'name':'홍길동', 'birth':'2000-01-01'},\\n           {'name':'신길동', 'birth':'1995-12-18'}]\\n\\ndef split_date(date):\\n    split_data = date.split('-')\\n    return {\\n        'year': int(split_data[0]),\\n        'month': int(split_data[1]),\\n        'day'  : int(split_data[2])\\n    }\\n    \\nsplit_date('2001-01-08')\",\n",
       " '_303': {'year': 2001, 'month': 1, 'day': 8},\n",
       " '_i304': \"def split_birth(member): # 'name':'birth'\\n    return {\\n        'name': member.get('name'),\\n        'year': int(member.get('birth').split('-')[0]),\\n        'month': int(member.get('birth').split('-')[1]),\\n        'day': int(member.get('birth').split('-')[2])\\n    }\",\n",
       " 'split_birth': <function __main__.<lambda>(member)>,\n",
       " '_i305': \"split_birth({'name':'홍길동', 'birth':'1999-12-16'})\",\n",
       " '_305': {'name': '홍길동', 'year': 1999, 'month': 12, 'day': 16},\n",
       " '_i306': \"split_birth = lambda member : {\\n                    'name':member.get('name'),\\n                    'year':int(member.get('birth').split('-')[0]),\\n                    'month':int(member.get('birth').split('-')[1]),\\n                    'day':int(member.get('birth').split('-')[2]),\\n                }\",\n",
       " '_i307': \"split_birth({'name':'홍길동', 'birth':'1999-12-16'})\",\n",
       " '_307': {'name': '홍길동', 'year': 1999, 'month': 12, 'day': 16},\n",
       " '_i308': \"members = list(map(lambda member : {\\n                    'name':member.get('name'),\\n                    'year':int(member.get('birth').split('-')[0]),\\n                    'month':int(member.get('birth').split('-')[1]),\\n                    'day':int(member.get('birth').split('-')[2]),\\n                }, members))\\nmembers\",\n",
       " '_308': [{'year': 2000, 'month': 1, 'day': 1},\n",
       "  {'year': 1995, 'month': 12, 'day': 18}],\n",
       " '_i309': 'def join_date(date): # {year\\': 1995, \\'month\\': 12, \\'day\\': 18} => \"1995-12-18\"\\n    \\'-\\'.join(date)',\n",
       " 'join_date': <function __main__.join_date(date)>,\n",
       " '_i310': \"join_date({'year':1995, 'month': 12, 'day': 18 })\",\n",
       " '_i311': \"join_date({'year':1995, 'month': 12, 'day': 18})\",\n",
       " '_i312': 'def join_date(date): # {year\\': 1995, \\'month\\': 12, \\'day\\': 18} => \"1995-12-18\"\\n    \\'-\\'.join(date)',\n",
       " '_i313': \"join_date({'year':1995, 'month': 12, 'day': 18})\",\n",
       " '_i314': 'def join_date(date): # {year\\': 1995, \\'month\\': 12, \\'day\\': 18} => \"1995-12-18\"\\n    return \\'-\\'.join(date)',\n",
       " '_i315': \"join_date({'year':1995, 'month': 12, 'day': 18})\",\n",
       " '_315': 'year-month-day',\n",
       " '_i316': 'def join_date(date): # {year\\': 1995, \\'month\\': 12, \\'day\\': 18} => \"1995-12-18\"\\n    return \\'-\\'.join(date.values())',\n",
       " '_i317': \"join_date({'year':1995, 'month': 12, 'day': 18})\",\n",
       " '_i318': \"# join_date({'year':1995, 'month': 12, 'day': 18})\",\n",
       " '_i319': 'def join_date(date): # {year\\': 1995, \\'month\\': 12, \\'day\\': 18} => \"1995-12-18\"\\n    return \\'{}-{}-{}\\'.format(date[\\'year\\'], date[\\'month\\'], date[\\'day\\'])',\n",
       " '_i320': \"join_date({'year':1995, 'month': 12, 'day': 18})\",\n",
       " '_320': '1995-12-18',\n",
       " '_i321': \"join_date({'year':1995, 'month': 1, 'day': 1})\",\n",
       " '_321': '1995-1-1',\n",
       " '_i322': 'def join_date(date): # {year\\': 1995, \\'month\\': 12, \\'day\\': 18} => \"1995-12-18\"\\n    return \\'{}-{:02}-{:02}\\'.format(date[\\'year\\'], date[\\'month\\'], date[\\'day\\'])',\n",
       " '_i323': \"join_date({'year':1995, 'month': 1, 'day': 1})\",\n",
       " '_323': '1995-01-01',\n",
       " '_i324': 'def join_date(date): # {year\\': 1995, \\'month\\': 12, \\'day\\': 18} => \"1995-12-18\"\\n    return \\'{year}-{month:02}-{day:02}\\'.format(\\n                            year  = date[\\'year\\'], \\n                            month = date[\\'month\\'], \\n                            day   = date[\\'day\\'])',\n",
       " '_i325': \"join_date({'year':1995, 'month': 1, 'day': 1})\",\n",
       " '_325': '1995-01-01',\n",
       " '_i326': 'def join_date(date): # {year\\': 1995, \\'month\\': 12, \\'day\\': 18} => \"1995-12-18\"\\n    return \\'{year}-{month:02}-{day:02}\\'.format(**date)',\n",
       " '_i327': \"join_date({'year':1995, 'month': 1, 'day': 1})\",\n",
       " '_327': '1995-01-01',\n",
       " '_i328': \"def join_birth(member):\\n    name = member['name']\\n    del member['name']\\n    print(member)\",\n",
       " 'join_birth': <function __main__.join_birth(member)>,\n",
       " '_i329': \"join_birth({'name':'kim', 'year':1995, 'month':1, 'day':2})\",\n",
       " '_i330': \"def join_birth(member):\\n    name = member['name']\\n    del member['name']\\n    print(member)\\n    join_date = '{year}-{month:02}-{day:02}'.format(**member)\\n    return {\\n        'name': name,\\n        'birth': join_date\\n    }\",\n",
       " '_i331': \"join_birth({'name':'kim', 'year':1995, 'month':1, 'day':2})\",\n",
       " '_331': {'name': 'kim', 'birth': '1995-01-02'},\n",
       " '_i332': 'members = list(map(join_birth, members))',\n",
       " '_i333': 'members = list(map(join_birth, members))\\nmembers',\n",
       " '_i334': 'members = list(map(join_birth, members))\\nmembers',\n",
       " '_i335': 'members',\n",
       " '_335': [{'birth': '2000-01-01'}, {'name': '신길동', 'birth': '1995-12-18'}],\n",
       " '_i336': \"# '1995-01-01'을 받아 {'year':1995, 'month':1, 'day':1}을 return하는 함수\\nmembers = [{'name':'홍길동', 'birth':'2000-01-01'},\\n           {'name':'신길동', 'birth':'1995-12-18'}]\\n\\ndef split_date(date):\\n    split_data = date.split('-')\\n    return {\\n        'year' : int(split_data[0]),\\n        'month': int(split_data[1]),\\n        'day'  : int(split_data[2])\\n    }\\n    \\nsplit_date('2001-01-08')\",\n",
       " '_336': {'year': 2001, 'month': 1, 'day': 8},\n",
       " '_i337': \"members = list(map(lambda member : {\\n                    'name' :member.get('name'),\\n                    'year' :int(member.get('birth').split('-')[0]),\\n                    'month':int(member.get('birth').split('-')[1]),\\n                    'day'  :int(member.get('birth').split('-')[2]),\\n                }, members))\\nmembers\",\n",
       " '_337': [{'name': '홍길동', 'year': 2000, 'month': 1, 'day': 1},\n",
       "  {'name': '신길동', 'year': 1995, 'month': 12, 'day': 18}],\n",
       " '_i338': \"members = list(map(lambda member : {\\n                    'name' :member.get('name'),\\n                    'year' :int(member.get('birth').split('-')[0]),\\n                    'month':int(member.get('birth').split('-')[1]),\\n                    'day'  :int(member.get('birth').split('-')[2]),\\n                }, members))\\nmembers\",\n",
       " '_i339': \"members = list(map(lambda member : {\\n                    'name' :member.get('name'),\\n                    'year' :int(member.get('birth').split('-')[0]),\\n                    'month':int(member.get('birth').split('-')[1]),\\n                    'day'  :int(member.get('birth').split('-')[2]),\\n                }, members))\\nmembers\",\n",
       " '_i340': \"split_birth = lambda member : {\\n                    'name' :member.get('name'),\\n                    'year' :int(member.get('birth').split('-')[0]),\\n                    'month':int(member.get('birth').split('-')[1]),\\n                    'day'  :int(member.get('birth').split('-')[2]),\\n                }\",\n",
       " '_i341': \"split_birth = lambda member : {\\n                    'name' :member.get('name'),\\n                    'year' :int(member.get('birth').split('-')[0]),\\n                    'month':int(member.get('birth').split('-')[1]),\\n                    'day'  :int(member.get('birth').split('-')[2]),\\n                }\",\n",
       " '_i342': \"split_birth({'name':'홍길동', 'birth':'1999-12-16'})\",\n",
       " '_342': {'name': '홍길동', 'year': 1999, 'month': 12, 'day': 16},\n",
       " '_i343': \"members = list(map(lambda member : {\\n                    'name' :member.get('name'),\\n                    'year' :int(member.get('birth').split('-')[0]),\\n                    'month':int(member.get('birth').split('-')[1]),\\n                    'day'  :int(member.get('birth').split('-')[2]),\\n                }, members))\\nmembers\",\n",
       " '_i344': 'members',\n",
       " '_344': [{'name': '홍길동', 'year': 2000, 'month': 1, 'day': 1},\n",
       "  {'name': '신길동', 'year': 1995, 'month': 12, 'day': 18}],\n",
       " '_i345': \"# '1995-01-01'을 받아 {'year':1995, 'month':1, 'day':1}을 return하는 함수\\nmembers = [{'name':'홍길동', 'birth':'2000-01-01'},\\n           {'name':'신길동', 'birth':'1995-12-18'}]\\n\\ndef split_date(date):\\n    split_data = date.split('-')\\n    return {\\n        'year' : int(split_data[0]),\\n        'month': int(split_data[1]),\\n        'day'  : int(split_data[2])\\n    }\\n    \\nsplit_date('2001-01-08')\",\n",
       " '_345': {'year': 2001, 'month': 1, 'day': 8},\n",
       " '_i346': 'members',\n",
       " '_346': [{'name': '홍길동', 'birth': '2000-01-01'},\n",
       "  {'name': '신길동', 'birth': '1995-12-18'}],\n",
       " '_i347': \"members = list(map(lambda member : {\\n                    'name' :member.get('name'),\\n                    'year' :int(member.get('birth').split('-')[0]),\\n                    'month':int(member.get('birth').split('-')[1]),\\n                    'day'  :int(member.get('birth').split('-')[2]),\\n                }, members))\\nmembers\",\n",
       " '_347': [{'year': 2000, 'month': 1, 'day': 1},\n",
       "  {'year': 1995, 'month': 12, 'day': 18}],\n",
       " '_i348': 'members',\n",
       " '_348': [{'year': 2000, 'month': 1, 'day': 1},\n",
       "  {'year': 1995, 'month': 12, 'day': 18}],\n",
       " '_i349': 'members = list(map(join_birth, members))\\nmembers',\n",
       " '_349': [{'name': '홍길동', 'birth': '2000-01-01'},\n",
       "  {'name': '신길동', 'birth': '1995-12-18'}],\n",
       " '_i350': \"def join_birth(member):\\n    name = member['name']\\n    join_date = '{year}-{month:02}-{day:02}'.format(**member)\\n    return {\\n        'name': name,\\n        'birth': join_date\\n    }\",\n",
       " '_i351': 'members1',\n",
       " '_i352': 'members',\n",
       " '_352': [{'name': '홍길동', 'birth': '2000-01-01'},\n",
       "  {'name': '신길동', 'birth': '1995-12-18'}],\n",
       " '_i353': \"members2 = list(map(lambda member : {\\n                    'name' :member.get('name'),\\n                    'year' :int(member.get('birth').split('-')[0]),\\n                    'month':int(member.get('birth').split('-')[1]),\\n                    'day'  :int(member.get('birth').split('-')[2]),\\n                }, members1))\\nmembers\",\n",
       " '_i354': \"members2 = list(map(lambda member : {\\n                    'name' :member.get('name'),\\n                    'year' :int(member.get('birth').split('-')[0]),\\n                    'month':int(member.get('birth').split('-')[1]),\\n                    'day'  :int(member.get('birth').split('-')[2]),\\n                }, members1))\\nmembers2\",\n",
       " '_i355': \"# '1995-01-01'을 받아 {'year':1995, 'month':1, 'day':1}을 return하는 함수\\nmembers1= [{'name':'홍길동', 'birth':'2000-01-01'},\\n           {'name':'신길동', 'birth':'1995-12-18'}]\\n\\ndef split_date(date):\\n    split_data = date.split('-')\\n    return {\\n        'year' : int(split_data[0]),\\n        'month': int(split_data[1]),\\n        'day'  : int(split_data[2])\\n    }\\n    \\nsplit_date('2001-01-08')\",\n",
       " 'members1': [{'name': '홍길동', 'birth': '2000-01-01'},\n",
       "  {'name': '신길동', 'birth': '1995-12-18'}],\n",
       " '_355': {'year': 2001, 'month': 1, 'day': 8},\n",
       " '_i356': \"members2 = list(map(lambda member : {\\n                    'name' :member.get('name'),\\n                    'year' :int(member.get('birth').split('-')[0]),\\n                    'month':int(member.get('birth').split('-')[1]),\\n                    'day'  :int(member.get('birth').split('-')[2]),\\n                }, members1))\\nmembers2\",\n",
       " 'members2': [{'name': '홍길동', 'year': 2000, 'month': 1, 'day': 1},\n",
       "  {'name': '신길동', 'year': 1995, 'month': 12, 'day': 18}],\n",
       " '_356': [{'name': '홍길동', 'year': 2000, 'month': 1, 'day': 1},\n",
       "  {'name': '신길동', 'year': 1995, 'month': 12, 'day': 18}],\n",
       " '_i357': 'members1',\n",
       " '_357': [{'name': '홍길동', 'birth': '2000-01-01'},\n",
       "  {'name': '신길동', 'birth': '1995-12-18'}],\n",
       " '_i358': 'members2',\n",
       " '_358': [{'name': '홍길동', 'year': 2000, 'month': 1, 'day': 1},\n",
       "  {'name': '신길동', 'year': 1995, 'month': 12, 'day': 18}],\n",
       " '_i359': 'members1 = list(map(join_birth, members))\\nmembers1',\n",
       " '_i360': 'members1 = list(map(join_birth, members2))\\nmembers1',\n",
       " '_360': [{'name': '홍길동', 'birth': '2000-01-01'},\n",
       "  {'name': '신길동', 'birth': '1995-12-18'}],\n",
       " '_i361': \"# apply() 함수\\ndef apply(data, func = None):\\n    if func == None:\\n        print(func)\\n    else:\\n        print('func가 None아님')\",\n",
       " 'apply': <function __main__.apply(data, func=None)>,\n",
       " '_i362': \"# apply() 함수\\ndef apply(data, func = None):\\n    if func == None:\\n        print('func가 None')\\n    else:\\n        print('func가 None아님')\\napply\",\n",
       " '_362': <function __main__.apply(data, func=None)>,\n",
       " '_i363': \"# apply() 함수\\ndef apply(data, func = None):\\n    if func == None:\\n        print('func가 None')\\n    else:\\n        print('func가 None아님')\\napply(!)\",\n",
       " '_i364': \"# apply() 함수\\ndef apply(data, func = None):\\n    if func == None:\\n        print('func가 None')\\n    else:\\n        print('func가 None아님')\\napply(1)\",\n",
       " '_i365': \"# apply() 함수\\ndef apply(data, func = None):\\n    # if func == None:\\n    if func is None:\\n        print('func가 None')\\n    else:\\n        print('func가 None아님')\\napply(1)\",\n",
       " '_i366': '# apply() 함수\\ndef apply(data, func = None):\\n    # if func == None:\\n    if func is None:\\n        return data\\n    else:\\n        return func(data)\\napply(1)',\n",
       " '_366': 1,\n",
       " '_i367': 'print(apply(2))\\nprint(apply(2, lambda x: x ** 3))',\n",
       " '_i368': 'def make_box(shape): # [x], [x, y]\\n    def box(init_value):                 # 함수 내에 함수 생성하여 그 함수를 return \\n        if len(shape) == 1:              # 매개변수 길이 1이면\\n            return [init_value]*shape[0] # 1차원 list 반환\\n        elif len(shape) == 2:            # 매개변수 길이 2면\\n            return [ [init_value]*shape[1] ]*shape[0]\\n    return box\\n    ',\n",
       " 'make_box': <function __main__.make_box(shape)>,\n",
       " '_i369': 'line_fun = make_box((3, ))\\nline_fun',\n",
       " 'line_fun': <function __main__.make_box.<locals>.<lambda>(init_value)>,\n",
       " '_369': <function __main__.make_box.<locals>.box(init_value)>,\n",
       " '_i370': 'line_fun = make_box((3, ))\\nline_fun(5)',\n",
       " '_370': [5, 5, 5],\n",
       " '_i371': 'box2d_fun = make_box((4, 3))',\n",
       " 'box2d_fun': <function __main__.make_box.<locals>.<lambda>(init_value)>,\n",
       " '_i372': 'box2d_fun = make_box((4, 3))\\nbox2d_fun(5)',\n",
       " '_372': [[5, 5, 5], [5, 5, 5], [5, 5, 5], [5, 5, 5]],\n",
       " '_i373': 'line_fun = make_box((3, ))\\nline_fun(5) # 5로 이루어진 3열짜리 list',\n",
       " '_373': [5, 5, 5],\n",
       " '_i374': '# return하는 함수를 람다식으로 변환\\ndef make_box(shape):\\n    if len(shape) == 1:\\n        return lambda init_value: [init_value]*shape[0]\\n    elif len(shape) == 2:\\n        return lambda init_value: [ [init_value]*shape[1] ] * shape[0]',\n",
       " '_i375': 'line_fun = make_box((3, ))\\nline_fun(5) # 5로 이루어진 3열짜리 list',\n",
       " '_375': [5, 5, 5],\n",
       " '_i376': 'box2d_fun = make_box((4, 3))\\nbox2d_fun(5) # 5로 이루어진 2차원 4행 3열짜리 list',\n",
       " '_376': [[5, 5, 5], [5, 5, 5], [5, 5, 5], [5, 5, 5]],\n",
       " '_i377': \"int('6')\",\n",
       " '_377': 6,\n",
       " '_i378': \"int('6.3')\",\n",
       " '_i379': \"int('')\",\n",
       " '_i380': \"int('6')\",\n",
       " '_380': 6,\n",
       " '_i381': 'gloabals()',\n",
       " '_i382': 'globals()',\n",
       " '_382': {...},\n",
       " '_i383': 'globals() # 전역변수 리스트'}"
      ]
     },
     "execution_count": 383,
     "metadata": {},
     "output_type": "execute_result"
    }
   ],
   "source": [
    "globals() # 전역변수 리스트"
   ]
  },
  {
   "cell_type": "code",
   "execution_count": 1,
   "id": "f43235c3",
   "metadata": {
    "ExecuteTime": {
     "end_time": "2024-11-11T08:43:10.146954Z",
     "start_time": "2024-11-11T08:43:10.141974Z"
    }
   },
   "outputs": [],
   "source": [
    "# abc(7) => [0, 1, 2, 3, 4, 5, 6]\n",
    "def abc(n):\n",
    "    L = []\n",
    "    for i in range(n):\n",
    "        L.append(i)\n",
    "    print(locals()) # 지역변수들(n, L, i)을 출력\n",
    "    return L"
   ]
  },
  {
   "cell_type": "code",
   "execution_count": 3,
   "id": "6c3a143a",
   "metadata": {
    "ExecuteTime": {
     "end_time": "2024-11-11T08:43:25.483421Z",
     "start_time": "2024-11-11T08:43:25.477438Z"
    }
   },
   "outputs": [
    {
     "name": "stdout",
     "output_type": "stream",
     "text": [
      "{'n': 7, 'L': [0, 1, 2, 3, 4, 5, 6], 'i': 6}\n"
     ]
    },
    {
     "data": {
      "text/plain": [
       "[0, 1, 2, 3, 4, 5, 6]"
      ]
     },
     "execution_count": 3,
     "metadata": {},
     "output_type": "execute_result"
    }
   ],
   "source": [
    "abc(7)"
   ]
  },
  {
   "cell_type": "code",
   "execution_count": 4,
   "id": "bae3f90a",
   "metadata": {
    "ExecuteTime": {
     "end_time": "2024-11-11T08:44:02.323307Z",
     "start_time": "2024-11-11T08:44:02.317303Z"
    }
   },
   "outputs": [
    {
     "data": {
      "text/plain": [
       "True"
      ]
     },
     "execution_count": 4,
     "metadata": {},
     "output_type": "execute_result"
    }
   ],
   "source": [
    "isinstance(3.5, float)"
   ]
  },
  {
   "cell_type": "code",
   "execution_count": 6,
   "id": "cfe23401",
   "metadata": {
    "ExecuteTime": {
     "end_time": "2024-11-11T08:51:25.619601Z",
     "start_time": "2024-11-11T08:51:25.614630Z"
    }
   },
   "outputs": [],
   "source": [
    "# Person 클래스 생성\n",
    "class Person:\n",
    "    # 생성자함수: __init__(self, param1, param2)\n",
    "    def __init__(self, name, age):\n",
    "        self.name = name\n",
    "        self.age  = age\n",
    "    # print_info(): 객체의 정보를 출력\n",
    "    def print_info(self):\n",
    "        print(\"이름은 {}, 나이는 {}살\".format(self.name, self.age))"
   ]
  },
  {
   "cell_type": "code",
   "execution_count": 8,
   "id": "4315c286",
   "metadata": {
    "ExecuteTime": {
     "end_time": "2024-11-11T08:51:37.140044Z",
     "start_time": "2024-11-11T08:51:37.124397Z"
    }
   },
   "outputs": [
    {
     "name": "stdout",
     "output_type": "stream",
     "text": [
      "이름은 홍길동, 나이는 30살\n"
     ]
    }
   ],
   "source": [
    "p = Person('홍길동', 30)\n",
    "p.print_info()"
   ]
  },
  {
   "cell_type": "code",
   "execution_count": 9,
   "id": "c308d5f7",
   "metadata": {
    "ExecuteTime": {
     "end_time": "2024-11-11T08:52:15.963681Z",
     "start_time": "2024-11-11T08:52:15.957775Z"
    }
   },
   "outputs": [
    {
     "data": {
      "text/plain": [
       "('홍길동', 30)"
      ]
     },
     "execution_count": 9,
     "metadata": {},
     "output_type": "execute_result"
    }
   ],
   "source": [
    "# 파이썬에는 private 없음\n",
    "p.name, p.age"
   ]
  },
  {
   "cell_type": "code",
   "execution_count": 10,
   "id": "372a2049",
   "metadata": {
    "ExecuteTime": {
     "end_time": "2024-11-11T08:52:42.923874Z",
     "start_time": "2024-11-11T08:52:42.917871Z"
    }
   },
   "outputs": [
    {
     "data": {
      "text/plain": [
       "True"
      ]
     },
     "execution_count": 10,
     "metadata": {},
     "output_type": "execute_result"
    }
   ],
   "source": [
    "isinstance(p, Person)"
   ]
  },
  {
   "cell_type": "code",
   "execution_count": 11,
   "id": "d2d9f83c",
   "metadata": {
    "ExecuteTime": {
     "end_time": "2024-11-11T08:53:02.300940Z",
     "start_time": "2024-11-11T08:53:02.294013Z"
    }
   },
   "outputs": [
    {
     "data": {
      "text/plain": [
       "['__annotations__',\n",
       " '__class__',\n",
       " '__delattr__',\n",
       " '__dict__',\n",
       " '__dir__',\n",
       " '__doc__',\n",
       " '__eq__',\n",
       " '__format__',\n",
       " '__ge__',\n",
       " '__getattribute__',\n",
       " '__gt__',\n",
       " '__hash__',\n",
       " '__init__',\n",
       " '__init_subclass__',\n",
       " '__le__',\n",
       " '__lt__',\n",
       " '__module__',\n",
       " '__ne__',\n",
       " '__new__',\n",
       " '__reduce__',\n",
       " '__reduce_ex__',\n",
       " '__repr__',\n",
       " '__setattr__',\n",
       " '__sizeof__',\n",
       " '__str__',\n",
       " '__subclasshook__',\n",
       " '__weakref__',\n",
       " 'print_info']"
      ]
     },
     "execution_count": 11,
     "metadata": {},
     "output_type": "execute_result"
    }
   ],
   "source": [
    "dir(Person)"
   ]
  },
  {
   "cell_type": "code",
   "execution_count": 12,
   "id": "953d06a3",
   "metadata": {
    "ExecuteTime": {
     "end_time": "2024-11-11T08:53:37.484587Z",
     "start_time": "2024-11-11T08:53:37.476838Z"
    }
   },
   "outputs": [
    {
     "data": {
      "text/plain": [
       "['__add__',\n",
       " '__class__',\n",
       " '__contains__',\n",
       " '__delattr__',\n",
       " '__dir__',\n",
       " '__doc__',\n",
       " '__eq__',\n",
       " '__format__',\n",
       " '__ge__',\n",
       " '__getattribute__',\n",
       " '__getitem__',\n",
       " '__getnewargs__',\n",
       " '__gt__',\n",
       " '__hash__',\n",
       " '__init__',\n",
       " '__init_subclass__',\n",
       " '__iter__',\n",
       " '__le__',\n",
       " '__len__',\n",
       " '__lt__',\n",
       " '__mod__',\n",
       " '__mul__',\n",
       " '__ne__',\n",
       " '__new__',\n",
       " '__reduce__',\n",
       " '__reduce_ex__',\n",
       " '__repr__',\n",
       " '__rmod__',\n",
       " '__rmul__',\n",
       " '__setattr__',\n",
       " '__sizeof__',\n",
       " '__str__',\n",
       " '__subclasshook__',\n",
       " 'capitalize',\n",
       " 'casefold',\n",
       " 'center',\n",
       " 'count',\n",
       " 'encode',\n",
       " 'endswith',\n",
       " 'expandtabs',\n",
       " 'find',\n",
       " 'format',\n",
       " 'format_map',\n",
       " 'index',\n",
       " 'isalnum',\n",
       " 'isalpha',\n",
       " 'isascii',\n",
       " 'isdecimal',\n",
       " 'isdigit',\n",
       " 'isidentifier',\n",
       " 'islower',\n",
       " 'isnumeric',\n",
       " 'isprintable',\n",
       " 'isspace',\n",
       " 'istitle',\n",
       " 'isupper',\n",
       " 'join',\n",
       " 'ljust',\n",
       " 'lower',\n",
       " 'lstrip',\n",
       " 'maketrans',\n",
       " 'partition',\n",
       " 'removeprefix',\n",
       " 'removesuffix',\n",
       " 'replace',\n",
       " 'rfind',\n",
       " 'rindex',\n",
       " 'rjust',\n",
       " 'rpartition',\n",
       " 'rsplit',\n",
       " 'rstrip',\n",
       " 'split',\n",
       " 'splitlines',\n",
       " 'startswith',\n",
       " 'strip',\n",
       " 'swapcase',\n",
       " 'title',\n",
       " 'translate',\n",
       " 'upper',\n",
       " 'zfill']"
      ]
     },
     "execution_count": 12,
     "metadata": {},
     "output_type": "execute_result"
    }
   ],
   "source": [
    "dir(str)"
   ]
  },
  {
   "cell_type": "code",
   "execution_count": 13,
   "id": "80ec8193",
   "metadata": {
    "ExecuteTime": {
     "end_time": "2024-11-11T08:54:51.963766Z",
     "start_time": "2024-11-11T08:54:51.956749Z"
    }
   },
   "outputs": [
    {
     "data": {
      "text/plain": [
       "False"
      ]
     },
     "execution_count": 13,
     "metadata": {},
     "output_type": "execute_result"
    }
   ],
   "source": [
    "# all(): 모든 요소가 True인지 여부\n",
    "all([True, True, True, False]) "
   ]
  },
  {
   "cell_type": "code",
   "execution_count": 15,
   "id": "fedb48eb",
   "metadata": {
    "ExecuteTime": {
     "end_time": "2024-11-11T08:55:24.337771Z",
     "start_time": "2024-11-11T08:55:24.322621Z"
    }
   },
   "outputs": [
    {
     "data": {
      "text/plain": [
       "4"
      ]
     },
     "execution_count": 15,
     "metadata": {},
     "output_type": "execute_result"
    }
   ],
   "source": [
    "round(3.5)"
   ]
  },
  {
   "cell_type": "code",
   "execution_count": 17,
   "id": "1aea885c",
   "metadata": {
    "ExecuteTime": {
     "end_time": "2024-11-11T08:56:21.866042Z",
     "start_time": "2024-11-11T08:56:21.861056Z"
    }
   },
   "outputs": [
    {
     "data": {
      "text/plain": [
       "(4.0, 4.0, 3.0)"
      ]
     },
     "execution_count": 17,
     "metadata": {},
     "output_type": "execute_result"
    }
   ],
   "source": [
    "import numpy\n",
    "numpy.round(3.5), numpy.ceil(3.1), numpy.floor(3.1) # 반올림, 올림, 내림"
   ]
  },
  {
   "cell_type": "markdown",
   "id": "91e92ceb",
   "metadata": {},
   "source": [
    "# 6절. 연습문제"
   ]
  },
  {
   "cell_type": "markdown",
   "id": "b78cda85",
   "metadata": {},
   "source": [
    "## 실습형"
   ]
  },
  {
   "cell_type": "code",
   "execution_count": 130,
   "id": "ce037df6",
   "metadata": {
    "ExecuteTime": {
     "end_time": "2024-11-12T03:08:30.900626Z",
     "start_time": "2024-11-12T03:08:30.883888Z"
    }
   },
   "outputs": [
    {
     "data": {
      "text/plain": [
       "(7, 1)"
      ]
     },
     "execution_count": 130,
     "metadata": {},
     "output_type": "execute_result"
    }
   ],
   "source": [
    "# 1\n",
    "data_list = [1, 2, 3, 4, 5, 6, 7]\n",
    "def get_max_min(data_list):\n",
    "    return max(data_list), min(data_list)\n",
    "get_max_min(data_list) # 출력"
   ]
  },
  {
   "cell_type": "code",
   "execution_count": 133,
   "id": "3e3709d4",
   "metadata": {
    "ExecuteTime": {
     "end_time": "2024-11-12T03:11:22.194583Z",
     "start_time": "2024-11-12T03:11:22.187589Z"
    }
   },
   "outputs": [
    {
     "data": {
      "text/plain": [
       "'표준'"
      ]
     },
     "execution_count": 133,
     "metadata": {},
     "output_type": "execute_result"
    }
   ],
   "source": [
    "# 2-1\n",
    "bmi_state = lambda weight, height: '마른체형' if 0 < weight/height**2 < 18.5 \\\n",
    "                            else '표준' if 18.5 <= weight/height**2 < 25 \\\n",
    "                            else '비만' if 25 <= weight/height**2 < 30 \\\n",
    "                            else '고도비만' if weight/height**2 >= 30 else 0\n",
    "bmi_state(70,1.75)"
   ]
  },
  {
   "cell_type": "code",
   "execution_count": 132,
   "id": "7616d79b",
   "metadata": {
    "ExecuteTime": {
     "end_time": "2024-11-12T03:10:58.122969Z",
     "start_time": "2024-11-12T03:10:58.116972Z"
    }
   },
   "outputs": [
    {
     "name": "stdout",
     "output_type": "stream",
     "text": [
      "표준\n"
     ]
    }
   ],
   "source": [
    "# 2-2\n",
    "def getBMI(kg, m):\n",
    "    bmi = kg / (m*m)\n",
    "    if bmi<18.5:\n",
    "        print('마른체형')\n",
    "    elif 18.5 <= bmi < 25.0:\n",
    "        print('표준')\n",
    "    elif 25.0 <= bmi < 30.0:\n",
    "        print('비만')\n",
    "    else:\n",
    "        print('고도비만')\n",
    "\n",
    "getBMI(70,1.75)"
   ]
  },
  {
   "cell_type": "code",
   "execution_count": 41,
   "id": "ffb08eb5",
   "metadata": {
    "ExecuteTime": {
     "end_time": "2024-11-12T01:16:59.423446Z",
     "start_time": "2024-11-12T01:16:59.418461Z"
    }
   },
   "outputs": [],
   "source": [
    "# 3\n",
    "import math\n",
    "def get_triangle(width, height):\n",
    "    return round(width * height * 1/2),  round(math.sqrt(width**2 + height**2))"
   ]
  },
  {
   "cell_type": "code",
   "execution_count": 42,
   "id": "83179177",
   "metadata": {
    "ExecuteTime": {
     "end_time": "2024-11-12T01:17:00.959160Z",
     "start_time": "2024-11-12T01:17:00.953177Z"
    }
   },
   "outputs": [
    {
     "data": {
      "text/plain": [
       "(6, 5)"
      ]
     },
     "execution_count": 42,
     "metadata": {},
     "output_type": "execute_result"
    }
   ],
   "source": [
    "get_triangle(3, 4)"
   ]
  },
  {
   "cell_type": "code",
   "execution_count": 134,
   "id": "6271d264",
   "metadata": {
    "ExecuteTime": {
     "end_time": "2024-11-12T03:11:56.594398Z",
     "start_time": "2024-11-12T03:11:56.587422Z"
    }
   },
   "outputs": [
    {
     "data": {
      "text/plain": [
       "171"
      ]
     },
     "execution_count": 134,
     "metadata": {},
     "output_type": "execute_result"
    }
   ],
   "source": [
    "# 4\n",
    "def mysum(frOm, end):\n",
    "    sum = 0\n",
    "    for i in range(frOm, end+1):\n",
    "        sum += i\n",
    "    return sum\n",
    "mysum(1, 18) # 1부터 18까지"
   ]
  },
  {
   "cell_type": "code",
   "execution_count": 95,
   "id": "f8821b7b",
   "metadata": {
    "ExecuteTime": {
     "end_time": "2024-11-12T01:59:54.387365Z",
     "start_time": "2024-11-12T01:59:54.380916Z"
    }
   },
   "outputs": [
    {
     "data": {
      "text/plain": [
       "['SeO', 'Dae', 'Kwa', 'Jej']"
      ]
     },
     "execution_count": 95,
     "metadata": {},
     "output_type": "execute_result"
    }
   ],
   "source": [
    "# 5\n",
    "temp_list = ['SeOul', 'Daegu', 'Kwangju', 'Jeju']\n",
    "def get_abbrs(list):\n",
    "#     result = []\n",
    "#     for city in list:\n",
    "#         result.append(city[:3]) \n",
    "#     return result  \n",
    "    return [city[:3] for city in list]\n",
    "get_abbrs(temp_list)"
   ]
  },
  {
   "cell_type": "code",
   "execution_count": 56,
   "id": "91f4fd6d",
   "metadata": {
    "ExecuteTime": {
     "end_time": "2024-11-12T01:36:13.404540Z",
     "start_time": "2024-11-12T01:36:13.398558Z"
    }
   },
   "outputs": [
    {
     "data": {
      "text/plain": [
       "'l'"
      ]
     },
     "execution_count": 56,
     "metadata": {},
     "output_type": "execute_result"
    }
   ],
   "source": [
    "get_abbrs(temp_list)"
   ]
  },
  {
   "cell_type": "code",
   "execution_count": 60,
   "id": "bacb4030",
   "metadata": {
    "ExecuteTime": {
     "end_time": "2024-11-12T01:37:23.087363Z",
     "start_time": "2024-11-12T01:37:23.081359Z"
    }
   },
   "outputs": [
    {
     "data": {
      "text/plain": [
       "8"
      ]
     },
     "execution_count": 60,
     "metadata": {},
     "output_type": "execute_result"
    }
   ],
   "source": [
    "# 6\n",
    "def f(x, y):\n",
    "    return x ** y\n",
    "f(2, 3)"
   ]
  },
  {
   "cell_type": "code",
   "execution_count": 61,
   "id": "177331ab",
   "metadata": {
    "ExecuteTime": {
     "end_time": "2024-11-12T01:37:29.296309Z",
     "start_time": "2024-11-12T01:37:29.290215Z"
    }
   },
   "outputs": [
    {
     "data": {
      "text/plain": [
       "8"
      ]
     },
     "execution_count": 61,
     "metadata": {},
     "output_type": "execute_result"
    }
   ],
   "source": [
    "f = lambda x, y: x ** y\n",
    "f(2, 3)"
   ]
  },
  {
   "cell_type": "code",
   "execution_count": 71,
   "id": "0a81c68d",
   "metadata": {
    "ExecuteTime": {
     "end_time": "2024-11-12T01:43:18.296719Z",
     "start_time": "2024-11-12T01:43:18.289757Z"
    }
   },
   "outputs": [
    {
     "data": {
      "text/plain": [
       "[1, 4, 9, 16, 25]"
      ]
     },
     "execution_count": 71,
     "metadata": {},
     "output_type": "execute_result"
    }
   ],
   "source": [
    "# 7-1\n",
    "ex = [1, 2, 3, 4, 5]\n",
    "list(map(lambda x: x**2, ex))"
   ]
  },
  {
   "cell_type": "code",
   "execution_count": 73,
   "id": "5fb7caac",
   "metadata": {
    "ExecuteTime": {
     "end_time": "2024-11-12T01:43:20.219013Z",
     "start_time": "2024-11-12T01:43:20.186371Z"
    }
   },
   "outputs": [
    {
     "data": {
      "text/plain": [
       "[1, 4, 9, 16, 25]"
      ]
     },
     "execution_count": 73,
     "metadata": {},
     "output_type": "execute_result"
    }
   ],
   "source": [
    "# 7-2\n",
    "ex = [1, 2, 3, 4, 5]\n",
    "[x**2 for x in ex]"
   ]
  },
  {
   "cell_type": "code",
   "execution_count": 76,
   "id": "aa4e709c",
   "metadata": {
    "ExecuteTime": {
     "end_time": "2024-11-12T01:44:27.447043Z",
     "start_time": "2024-11-12T01:44:27.442076Z"
    }
   },
   "outputs": [
    {
     "name": "stdout",
     "output_type": "stream",
     "text": [
      "1 2 3\n",
      "[1, 2, 3]\n"
     ]
    }
   ],
   "source": [
    "# 8\n",
    "a = [1, 2, 3]\n",
    "print(*a) # 리스트 언패킹\n",
    "print(a)"
   ]
  },
  {
   "cell_type": "code",
   "execution_count": 139,
   "id": "17e05be6",
   "metadata": {
    "ExecuteTime": {
     "end_time": "2024-11-12T03:13:42.670919Z",
     "start_time": "2024-11-12T03:13:42.665412Z"
    }
   },
   "outputs": [
    {
     "data": {
      "text/plain": [
       "'2019-09-06'"
      ]
     },
     "execution_count": 139,
     "metadata": {},
     "output_type": "execute_result"
    }
   ],
   "source": [
    "# 9\n",
    "date_info = {'year':\"2019\", 'month':\"9\", 'day':\"6\"}\n",
    "result = \"{year}-{month:>02}-{day:>02}\".format(**date_info)\n",
    "result"
   ]
  },
  {
   "cell_type": "code",
   "execution_count": 141,
   "id": "8989f269",
   "metadata": {
    "ExecuteTime": {
     "end_time": "2024-11-12T03:16:09.738503Z",
     "start_time": "2024-11-12T03:16:09.731521Z"
    }
   },
   "outputs": [
    {
     "data": {
      "text/plain": [
       "[2, 2, 1]"
      ]
     },
     "execution_count": 141,
     "metadata": {},
     "output_type": "execute_result"
    }
   ],
   "source": [
    "# 10. 입력받은 n개의 벡터 크기\n",
    "def vector_size_check(*vector_var):\n",
    "#     result = []\n",
    "#     for vec in vector_var:\n",
    "#         result.append(len(vec))\n",
    "#     return result\n",
    "    return [len(vec) for vec in vector_var]\n",
    "# 람다식 변경\n",
    "vector_size_check =  lambda *vector_var : [len(vector) for vector in vector_var]\n",
    "vector_size_check([1,2], (3,4), {'name':'홍'})"
   ]
  },
  {
   "cell_type": "code",
   "execution_count": 142,
   "id": "658e9e0f",
   "metadata": {
    "ExecuteTime": {
     "end_time": "2024-11-12T03:18:21.549761Z",
     "start_time": "2024-11-12T03:18:21.540757Z"
    }
   },
   "outputs": [
    {
     "data": {
      "text/plain": [
       "False"
      ]
     },
     "execution_count": 142,
     "metadata": {},
     "output_type": "execute_result"
    }
   ],
   "source": [
    "# 10 변형. 입력받은 n개의 벡터 크기가 같은지 return\n",
    "# 중복불가 set으로 형변환, 벡터 길이 len == 1인지 \n",
    "def vector_size_check(*vector_var):\n",
    "    result = []\n",
    "    for vec in vector_var:\n",
    "        result.append(len(vec))\n",
    "    return len(set(result)) == 1\n",
    "\n",
    "def vector_size_check(*vector_var):\n",
    "    return len(set([len(vec) for vec in vector_var])) == 1\n",
    "# 람다식 변경\n",
    "vector_size_check =  lambda *vector_var : len(set([len(vector) for vector in vector_var])) == 1\n",
    "vector_size_check([1,2], (3,4), {'name':'홍'})"
   ]
  },
  {
   "cell_type": "code",
   "execution_count": 92,
   "id": "7d5caea4",
   "metadata": {
    "ExecuteTime": {
     "end_time": "2024-11-12T01:57:36.593262Z",
     "start_time": "2024-11-12T01:57:36.586758Z"
    }
   },
   "outputs": [
    {
     "data": {
      "text/plain": [
       "[2, 4, 6]"
      ]
     },
     "execution_count": 92,
     "metadata": {},
     "output_type": "execute_result"
    }
   ],
   "source": [
    "# 11\n",
    "scalar_vector_product = lambda num, V: \\\n",
    "        [x*num for x in V]\n",
    "scalar_vector_product(2, [1, 2, 3])"
   ]
  },
  {
   "cell_type": "markdown",
   "id": "0c488f63",
   "metadata": {},
   "source": [
    "## 서술형"
   ]
  },
  {
   "cell_type": "code",
   "execution_count": 124,
   "id": "edc7357c",
   "metadata": {
    "ExecuteTime": {
     "end_time": "2024-11-12T02:47:04.322121Z",
     "start_time": "2024-11-12T02:47:04.315932Z"
    }
   },
   "outputs": [
    {
     "name": "stdout",
     "output_type": "stream",
     "text": [
      "902"
     ]
    }
   ],
   "source": [
    "# 1\n",
    "def mapping(addr):\n",
    "    table = [1, 2, 5, 9, 6, 4, 0, 3, 8, 7]\n",
    "    return table [addr//SIZE] # 20으로 나눈 나머지가 table의 인덱스\n",
    "SIZE = 20\n",
    "\n",
    "group = [9, 8, 7, 6, 5, 4, 3, 2, 1, 0]\n",
    "loc = [127, 64, 188]\n",
    "\n",
    "# table idx에 해당하는 value가 group의 인덱스\n",
    "for a, b in enumerate(loc):\n",
    "    print(group[mapping(loc[a])], end='') "
   ]
  },
  {
   "cell_type": "code",
   "execution_count": 127,
   "id": "7819bb6b",
   "metadata": {
    "ExecuteTime": {
     "end_time": "2024-11-12T02:50:40.105669Z",
     "start_time": "2024-11-12T02:50:40.099688Z"
    }
   },
   "outputs": [
    {
     "name": "stdout",
     "output_type": "stream",
     "text": [
      "611611"
     ]
    }
   ],
   "source": [
    "# 2\n",
    "# a = 10\n",
    "def sub():\n",
    "    a = 10\n",
    "    a += 1\n",
    "    print(a, end='') # 11\n",
    "\n",
    "def func():\n",
    "    for i in range(2): # i는 0, 1 2회 반복\n",
    "        a = 5\n",
    "        a += 1\n",
    "        print(a, end='')\n",
    "        sub()        # 6\n",
    "a += 1\n",
    "func()"
   ]
  },
  {
   "cell_type": "code",
   "execution_count": 114,
   "id": "9e17b75f",
   "metadata": {
    "ExecuteTime": {
     "end_time": "2024-11-12T02:17:28.567258Z",
     "start_time": "2024-11-12T02:17:28.562285Z"
    }
   },
   "outputs": [
    {
     "name": "stdout",
     "output_type": "stream",
     "text": [
      "100\n"
     ]
    }
   ],
   "source": [
    "# 3\n",
    "var = 100\n",
    "def func(var):\n",
    "    var = 200 # 지역변수 var에 200 할당됨\n",
    "func(var)\n",
    "print(var) # 전역변수 var의 값은 불변"
   ]
  },
  {
   "cell_type": "code",
   "execution_count": 116,
   "id": "4bef74b3",
   "metadata": {
    "ExecuteTime": {
     "end_time": "2024-11-12T02:18:52.639867Z",
     "start_time": "2024-11-12T02:18:52.633886Z"
    }
   },
   "outputs": [
    {
     "data": {
      "text/plain": [
       "5"
      ]
     },
     "execution_count": 116,
     "metadata": {},
     "output_type": "execute_result"
    }
   ],
   "source": [
    "# 4\n",
    "def my_func(func, *args): # 함수, 인자 매개변수로 받아, 인자에 함수 적용\n",
    "    return func(*args)\n",
    "import numpy as np # numpy 라이브러리 import\n",
    "my_func(np.add, 2, 3) # 3 + 2 "
   ]
  },
  {
   "cell_type": "code",
   "execution_count": 117,
   "id": "ef62c814",
   "metadata": {
    "ExecuteTime": {
     "end_time": "2024-11-12T02:19:39.897736Z",
     "start_time": "2024-11-12T02:19:39.891967Z"
    }
   },
   "outputs": [
    {
     "data": {
      "text/plain": [
       "9"
      ]
     },
     "execution_count": 117,
     "metadata": {},
     "output_type": "execute_result"
    }
   ],
   "source": [
    "# 5\n",
    "def my_func(func, *args):\n",
    "    return func(*args)\n",
    "my_func(lambda a, b : a**b, 3, 2) # 3 ** 2"
   ]
  },
  {
   "cell_type": "code",
   "execution_count": 119,
   "id": "11f02b97",
   "metadata": {
    "ExecuteTime": {
     "end_time": "2024-11-12T02:36:36.730444Z",
     "start_time": "2024-11-12T02:36:36.724067Z"
    }
   },
   "outputs": [
    {
     "data": {
      "text/plain": [
       "[(4, 'a'), (3, 'b'), (2, 'c'), ('1', 'd')]"
      ]
     },
     "execution_count": 119,
     "metadata": {},
     "output_type": "execute_result"
    }
   ],
   "source": [
    "# 9\n",
    "pairs = [('1', 'd'), (2, 'c'), (3, 'b'), (4, 'a')]\n",
    "pairs.sort(key = lambda pair:pair[1])\n",
    "pairs"
   ]
  },
  {
   "cell_type": "code",
   "execution_count": null,
   "id": "acc20d2e",
   "metadata": {},
   "outputs": [],
   "source": []
  }
 ],
 "metadata": {
  "kernelspec": {
   "display_name": "Python 3 (ipykernel)",
   "language": "python",
   "name": "python3"
  },
  "language_info": {
   "codemirror_mode": {
    "name": "ipython",
    "version": 3
   },
   "file_extension": ".py",
   "mimetype": "text/x-python",
   "name": "python",
   "nbconvert_exporter": "python",
   "pygments_lexer": "ipython3",
   "version": "3.10.9"
  },
  "toc": {
   "base_numbering": 1,
   "nav_menu": {},
   "number_sections": true,
   "sideBar": true,
   "skip_h1_title": false,
   "title_cell": "Table of Contents",
   "title_sidebar": "Contents",
   "toc_cell": false,
   "toc_position": {
    "height": "calc(100% - 180px)",
    "left": "10px",
    "top": "150px",
    "width": "301px"
   },
   "toc_section_display": true,
   "toc_window_display": false
  }
 },
 "nbformat": 4,
 "nbformat_minor": 5
}
