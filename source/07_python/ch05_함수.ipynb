{
 "cells": [
  {
   "cell_type": "markdown",
   "id": "abfd8835",
   "metadata": {},
   "source": [
    "<b><font color=\"red\" size=\"6\">ch05. 함수</font></b>\n",
    "- 반복해서 사용할 코드를 묶어놓고, 그것에 이름을 붙인 것.\n",
    "- overroading 불가\n",
    "- 함수의 정의\n",
    "```\n",
    "def 함수명([매개변수1, 매개변수2, ...]):\n",
    "    명령어1\n",
    "    명령어2\n",
    "```"
   ]
  },
  {
   "cell_type": "markdown",
   "id": "f8e633c1",
   "metadata": {},
   "source": [
    "# 1절. 함수의 정의 및 사용"
   ]
  },
  {
   "cell_type": "markdown",
   "id": "500e269a",
   "metadata": {},
   "source": [
    "## 1.1 함수 정의하기"
   ]
  },
  {
   "cell_type": "code",
   "execution_count": 9,
   "id": "2a92c9b5",
   "metadata": {
    "ExecuteTime": {
     "end_time": "2024-11-08T03:32:47.449141Z",
     "start_time": "2024-11-08T03:32:47.443897Z"
    }
   },
   "outputs": [],
   "source": [
    "# 함수 정의\n",
    "# x와 msg는 매개변수(parameter)\n",
    "def my_hello(x, msg): \n",
    "    for i in range(x): # x번 반복\n",
    "        print(i, msg)"
   ]
  },
  {
   "cell_type": "code",
   "execution_count": 4,
   "id": "c9fa7776",
   "metadata": {
    "ExecuteTime": {
     "end_time": "2024-11-08T03:14:32.002450Z",
     "start_time": "2024-11-08T03:14:31.995457Z"
    }
   },
   "outputs": [
    {
     "name": "stdout",
     "output_type": "stream",
     "text": [
      "0 Hello, python\n",
      "1 Hello, python\n",
      "2 Hello, python\n",
      "3 Hello, python\n",
      "4 Hello, python\n"
     ]
    }
   ],
   "source": [
    "# 함수 호출\n",
    "#  5, 'Hello, python'은 인자(argument)\n",
    "my_hello(5, 'Hello, python')"
   ]
  },
  {
   "cell_type": "code",
   "execution_count": 5,
   "id": "4538dfb7",
   "metadata": {
    "ExecuteTime": {
     "end_time": "2024-11-08T03:15:08.420617Z",
     "start_time": "2024-11-08T03:15:08.411641Z"
    }
   },
   "outputs": [
    {
     "data": {
      "text/plain": [
       "function"
      ]
     },
     "execution_count": 5,
     "metadata": {},
     "output_type": "execute_result"
    }
   ],
   "source": [
    "# 함수도 변수\n",
    "type(my_hello)"
   ]
  },
  {
   "cell_type": "code",
   "execution_count": 6,
   "id": "d5a8e224",
   "metadata": {
    "ExecuteTime": {
     "end_time": "2024-11-08T03:16:30.065744Z",
     "start_time": "2024-11-08T03:16:30.060116Z"
    }
   },
   "outputs": [
    {
     "data": {
      "text/plain": [
       "int"
      ]
     },
     "execution_count": 6,
     "metadata": {},
     "output_type": "execute_result"
    }
   ],
   "source": [
    "my_hello = 10 \n",
    "type(my_hello)"
   ]
  },
  {
   "cell_type": "code",
   "execution_count": 7,
   "id": "d840333e",
   "metadata": {
    "ExecuteTime": {
     "end_time": "2024-11-08T03:16:52.182715Z",
     "start_time": "2024-11-08T03:16:52.154718Z"
    },
    "collapsed": true
   },
   "outputs": [
    {
     "ename": "TypeError",
     "evalue": "'int' object is not callable",
     "output_type": "error",
     "traceback": [
      "\u001b[1;31m---------------------------------------------------------------------------\u001b[0m",
      "\u001b[1;31mTypeError\u001b[0m                                 Traceback (most recent call last)",
      "Cell \u001b[1;32mIn[7], line 1\u001b[0m\n\u001b[1;32m----> 1\u001b[0m \u001b[43mmy_hello\u001b[49m\u001b[43m(\u001b[49m\u001b[38;5;241;43m5\u001b[39;49m\u001b[43m,\u001b[49m\u001b[43m \u001b[49m\u001b[38;5;124;43m'\u001b[39;49m\u001b[38;5;124;43mHello, python\u001b[39;49m\u001b[38;5;124;43m'\u001b[39;49m\u001b[43m)\u001b[49m\n",
      "\u001b[1;31mTypeError\u001b[0m: 'int' object is not callable"
     ]
    }
   ],
   "source": [
    "my_hello(5, 'Hello, python') # Error"
   ]
  },
  {
   "cell_type": "code",
   "execution_count": null,
   "id": "3d29fe06",
   "metadata": {},
   "outputs": [],
   "source": [
    "del my_hello\n",
    "# 변수는 삭제해도 함수는 사용불가(파이썬 내장함수만 사용 가능)"
   ]
  },
  {
   "cell_type": "code",
   "execution_count": 8,
   "id": "e5a8967d",
   "metadata": {
    "ExecuteTime": {
     "end_time": "2024-11-08T03:22:37.255237Z",
     "start_time": "2024-11-08T03:22:37.235194Z"
    }
   },
   "outputs": [
    {
     "ename": "TypeError",
     "evalue": "'int' object is not callable",
     "output_type": "error",
     "traceback": [
      "\u001b[1;31m---------------------------------------------------------------------------\u001b[0m",
      "\u001b[1;31mTypeError\u001b[0m                                 Traceback (most recent call last)",
      "Cell \u001b[1;32mIn[8], line 1\u001b[0m\n\u001b[1;32m----> 1\u001b[0m \u001b[43mmy_hello\u001b[49m\u001b[43m(\u001b[49m\u001b[38;5;241;43m2\u001b[39;49m\u001b[43m,\u001b[49m\u001b[43m \u001b[49m\u001b[38;5;124;43m'\u001b[39;49m\u001b[38;5;124;43mmsg\u001b[39;49m\u001b[38;5;124;43m'\u001b[39;49m\u001b[43m)\u001b[49m\n",
      "\u001b[1;31mTypeError\u001b[0m: 'int' object is not callable"
     ]
    }
   ],
   "source": [
    "my_hello(2, 'msg')"
   ]
  },
  {
   "cell_type": "code",
   "execution_count": 10,
   "id": "d3e9a9ac",
   "metadata": {
    "ExecuteTime": {
     "end_time": "2024-11-08T03:36:06.784248Z",
     "start_time": "2024-11-08T03:36:06.779262Z"
    }
   },
   "outputs": [],
   "source": [
    "def my_hello():\n",
    "    print('Hello, Python')\n",
    "    print('Hello, World')"
   ]
  },
  {
   "cell_type": "code",
   "execution_count": 12,
   "id": "9de6ed4d",
   "metadata": {
    "ExecuteTime": {
     "end_time": "2024-11-08T03:36:16.518932Z",
     "start_time": "2024-11-08T03:36:16.514934Z"
    }
   },
   "outputs": [
    {
     "name": "stdout",
     "output_type": "stream",
     "text": [
      "Hello, Python\n",
      "Hello, World\n"
     ]
    }
   ],
   "source": [
    "my_hello()"
   ]
  },
  {
   "cell_type": "code",
   "execution_count": 13,
   "id": "a6f02aad",
   "metadata": {
    "ExecuteTime": {
     "end_time": "2024-11-08T03:36:24.192534Z",
     "start_time": "2024-11-08T03:36:24.187265Z"
    }
   },
   "outputs": [
    {
     "data": {
      "text/plain": [
       "<function __main__.my_hello()>"
      ]
     },
     "execution_count": 13,
     "metadata": {},
     "output_type": "execute_result"
    }
   ],
   "source": [
    "my_hello"
   ]
  },
  {
   "cell_type": "code",
   "execution_count": 16,
   "id": "953578df",
   "metadata": {
    "ExecuteTime": {
     "end_time": "2024-11-08T03:37:42.208866Z",
     "start_time": "2024-11-08T03:37:42.202899Z"
    }
   },
   "outputs": [
    {
     "data": {
      "text/plain": [
       "'__main__'"
      ]
     },
     "execution_count": 16,
     "metadata": {},
     "output_type": "execute_result"
    }
   ],
   "source": [
    "# 현재 모듈의 이름\n",
    "__name__"
   ]
  },
  {
   "cell_type": "code",
   "execution_count": 17,
   "id": "89085a11",
   "metadata": {
    "ExecuteTime": {
     "end_time": "2024-11-08T03:38:58.518390Z",
     "start_time": "2024-11-08T03:38:58.502747Z"
    }
   },
   "outputs": [
    {
     "name": "stdout",
     "output_type": "stream",
     "text": [
      "Hello, Python\n",
      "Hello, World\n"
     ]
    }
   ],
   "source": [
    "if __name__ == '__main__': # 현재 모듈 이름 '__main__'이면\n",
    "    my_hello()             # my_hello() 실행"
   ]
  },
  {
   "cell_type": "code",
   "execution_count": 7,
   "id": "dbf46436",
   "metadata": {
    "ExecuteTime": {
     "end_time": "2024-11-08T04:08:06.684223Z",
     "start_time": "2024-11-08T04:08:06.676558Z"
    }
   },
   "outputs": [
    {
     "name": "stdout",
     "output_type": "stream",
     "text": [
      "__name__= a\n"
     ]
    }
   ],
   "source": [
    "import a # a.py가 해석돼서 메모리에 로드됨"
   ]
  },
  {
   "cell_type": "code",
   "execution_count": 8,
   "id": "f0e2d64c",
   "metadata": {
    "ExecuteTime": {
     "end_time": "2024-11-08T04:08:08.640810Z",
     "start_time": "2024-11-08T04:08:08.636816Z"
    }
   },
   "outputs": [
    {
     "name": "stdout",
     "output_type": "stream",
     "text": [
      "모듈(*.py) 테스트입니다\n",
      "주말 잘 보내세요\n"
     ]
    }
   ],
   "source": [
    "a.test()"
   ]
  },
  {
   "cell_type": "code",
   "execution_count": 4,
   "id": "1f6fa271",
   "metadata": {
    "ExecuteTime": {
     "end_time": "2024-11-08T04:01:13.655138Z",
     "start_time": "2024-11-08T04:01:13.639517Z"
    }
   },
   "outputs": [],
   "source": [
    "# a모듈(a.py) 안의 test만 로드\n",
    "from a import test"
   ]
  },
  {
   "cell_type": "code",
   "execution_count": 5,
   "id": "c8a29343",
   "metadata": {
    "ExecuteTime": {
     "end_time": "2024-11-08T04:01:15.105464Z",
     "start_time": "2024-11-08T04:01:15.100479Z"
    }
   },
   "outputs": [
    {
     "name": "stdout",
     "output_type": "stream",
     "text": [
      "모듈(*.py) 테스트입니다\n",
      "주말 잘 보내세요\n"
     ]
    }
   ],
   "source": [
    "test()"
   ]
  },
  {
   "cell_type": "markdown",
   "id": "f963d432",
   "metadata": {},
   "source": [
    "## 1.2 docstring(\"\"\" \"\"\" or ''' ''')"
   ]
  },
  {
   "cell_type": "code",
   "execution_count": 4,
   "id": "29bee5ab",
   "metadata": {
    "ExecuteTime": {
     "end_time": "2024-11-08T04:05:36.415977Z",
     "start_time": "2024-11-08T04:05:36.411987Z"
    }
   },
   "outputs": [],
   "source": [
    "def my_function():\n",
    "    \"\"\"\n",
    "    함수의 첫 라인에 docstring을 포함할 수 있습니다.\n",
    "    docstring은 함수의 설명서를 달아주는 역할\n",
    "    주석보다 많은 기능을 포함\n",
    "    (함수 호출 시 Shift + Tab으로 doctring을 볼 수 있음)\n",
    "    \"\"\"\n",
    "    pass"
   ]
  },
  {
   "cell_type": "code",
   "execution_count": 6,
   "id": "1ec59f37",
   "metadata": {
    "ExecuteTime": {
     "end_time": "2024-11-08T04:05:47.536413Z",
     "start_time": "2024-11-08T04:05:47.531406Z"
    }
   },
   "outputs": [
    {
     "name": "stdout",
     "output_type": "stream",
     "text": [
      "\n",
      "    함수의 첫 라인에 docstring을 포함할 수 있습니다.\n",
      "    docstring은 함수의 설명서를 달아주는 역할\n",
      "    주석보다 많은 기능을 포함\n",
      "    (함수 호출 시 Shift + Tab으로 doctring을 볼 수 있음)\n",
      "    \n"
     ]
    }
   ],
   "source": [
    "# docstring 보기\n",
    "print(my_function.__doc__)"
   ]
  },
  {
   "cell_type": "code",
   "execution_count": 44,
   "id": "c586eff2",
   "metadata": {
    "ExecuteTime": {
     "end_time": "2024-11-08T06:28:15.768143Z",
     "start_time": "2024-11-08T06:28:15.761529Z"
    }
   },
   "outputs": [],
   "source": [
    "# 피보나치 수열\n",
    "def fibonacci(n):\n",
    "    \"\"\"\n",
    "    매개변수로 들어온 n값 미만의 피보나치 수열을 출력합니다\n",
    "    ex. n = 10: 0, 1, 1, 2, 3, 5, 8   \n",
    "    \"\"\"\n",
    "    a, b = 0, 1\n",
    "    while a < n: # a가 n보다 작을 동안만 반복\n",
    "        print(a, end=' ')\n",
    "        a, b = b, a+b # a에 b를, b에 a+b "
   ]
  },
  {
   "cell_type": "code",
   "execution_count": 9,
   "id": "3a656efa",
   "metadata": {
    "ExecuteTime": {
     "end_time": "2024-11-08T05:15:47.330310Z",
     "start_time": "2024-11-08T05:15:47.325324Z"
    }
   },
   "outputs": [
    {
     "name": "stdout",
     "output_type": "stream",
     "text": [
      "hello\thi\n"
     ]
    }
   ],
   "source": [
    "# print 함수는 \\n이 디폴트\n",
    "# end: 키워드 인수\n",
    "print('hello', end='\\t')\n",
    "print('hi')"
   ]
  },
  {
   "cell_type": "code",
   "execution_count": 12,
   "id": "63d732a0",
   "metadata": {
    "ExecuteTime": {
     "end_time": "2024-11-08T05:19:57.163461Z",
     "start_time": "2024-11-08T05:19:57.147835Z"
    }
   },
   "outputs": [
    {
     "name": "stdout",
     "output_type": "stream",
     "text": [
      "0 1 1 2 3 5 8 13 21 34 55 89 144 233 377 610 987 "
     ]
    }
   ],
   "source": [
    "# n = 1000, a = 987\n",
    "# a가 n보다 작을 때까지만\n",
    "fibonacci(1000)"
   ]
  },
  {
   "cell_type": "markdown",
   "id": "55b01623",
   "metadata": {},
   "source": [
    "## 1.3 지역변수(local var)와 전역변수(global var)\n",
    "- 지역변수: 함수 내에서 만든 변수\n",
    "- 전역변수: 함수 밖에서 만든 변수"
   ]
  },
  {
   "cell_type": "code",
   "execution_count": 13,
   "id": "f4d047d4",
   "metadata": {
    "ExecuteTime": {
     "end_time": "2024-11-08T05:27:30.363777Z",
     "start_time": "2024-11-08T05:27:30.344193Z"
    }
   },
   "outputs": [
    {
     "name": "stdout",
     "output_type": "stream",
     "text": [
      "함수 안: 100\n",
      "함수 밖: 100\n"
     ]
    }
   ],
   "source": [
    "# 전역변수\n",
    "# 어디서든 사용 가능\n",
    "global_var = 100\n",
    "def func1():\n",
    "    print('함수 안:', global_var)\n",
    "func1()\n",
    "print('함수 밖:', global_var)"
   ]
  },
  {
   "cell_type": "code",
   "execution_count": 14,
   "id": "0d36ba31",
   "metadata": {
    "ExecuteTime": {
     "end_time": "2024-11-08T05:29:08.150728Z",
     "start_time": "2024-11-08T05:29:08.118193Z"
    },
    "collapsed": true
   },
   "outputs": [
    {
     "name": "stdout",
     "output_type": "stream",
     "text": [
      "함수 안: 200\n"
     ]
    },
    {
     "ename": "NameError",
     "evalue": "name 'local_var' is not defined",
     "output_type": "error",
     "traceback": [
      "\u001b[1;31m---------------------------------------------------------------------------\u001b[0m",
      "\u001b[1;31mNameError\u001b[0m                                 Traceback (most recent call last)",
      "Cell \u001b[1;32mIn[14], line 7\u001b[0m\n\u001b[0;32m      5\u001b[0m     \u001b[38;5;28mprint\u001b[39m(\u001b[38;5;124m'\u001b[39m\u001b[38;5;124m함수 안:\u001b[39m\u001b[38;5;124m'\u001b[39m, local_var)\n\u001b[0;32m      6\u001b[0m func2()\n\u001b[1;32m----> 7\u001b[0m \u001b[38;5;28mprint\u001b[39m(\u001b[38;5;124m'\u001b[39m\u001b[38;5;124m함수 밖\u001b[39m\u001b[38;5;124m'\u001b[39m, \u001b[43mlocal_var\u001b[49m)\n",
      "\u001b[1;31mNameError\u001b[0m: name 'local_var' is not defined"
     ]
    }
   ],
   "source": [
    "# 지역변수\n",
    "# 함수 내에서만 사용 가능\n",
    "def func2():\n",
    "    local_var = 200\n",
    "    print('함수 안:', local_var)\n",
    "func2()\n",
    "print('함수 밖', local_var) # Error"
   ]
  },
  {
   "cell_type": "code",
   "execution_count": 16,
   "id": "6166c57b",
   "metadata": {
    "ExecuteTime": {
     "end_time": "2024-11-08T05:32:49.778353Z",
     "start_time": "2024-11-08T05:32:49.773355Z"
    }
   },
   "outputs": [
    {
     "name": "stdout",
     "output_type": "stream",
     "text": [
      "지역변수 g_var: 200\n",
      "전역변수 g_var: 100\n"
     ]
    }
   ],
   "source": [
    "g_var = 100 # 전역변수(변수 선언과 할당)\n",
    "def func3():\n",
    "    g_var = 200 # 지역변수(변수 선언과 할당)\n",
    "    print('지역변수 g_var:', g_var)\n",
    "func3()\n",
    "print('전역변수 g_var:', g_var)"
   ]
  },
  {
   "cell_type": "code",
   "execution_count": 21,
   "id": "06e885a4",
   "metadata": {
    "ExecuteTime": {
     "end_time": "2024-11-08T05:41:50.628868Z",
     "start_time": "2024-11-08T05:41:50.622904Z"
    }
   },
   "outputs": [
    {
     "name": "stdout",
     "output_type": "stream",
     "text": [
      "함수 안 g_var: 100\n",
      "함수 밖 g_var: 200\n"
     ]
    }
   ],
   "source": [
    "# 렉시컬(lexical) 특성\n",
    "# 어떤 변수나 함수의 값은 '어디에서 선언했는지' 즉, 렉시컬 환경이 어디인지에 따라서 결정\n",
    "g_var = 100 # 전역변수\n",
    "def func3():\n",
    "    global g_var # func3 함수 내에서의 g_var는 전역변수를 쓴다\n",
    "    print('함수 안 g_var:', g_var)\n",
    "    g_var = 200\n",
    "func3()\n",
    "print('함수 밖 g_var:', g_var)"
   ]
  },
  {
   "cell_type": "markdown",
   "id": "fa77f6dc",
   "metadata": {},
   "source": [
    "## 1.4 값에 의한 호출\n",
    "- 함수에 인수로 전달되는 변수가 스칼라(scalar) 변수(문자, 숫자, 논리형)일 때"
   ]
  },
  {
   "cell_type": "code",
   "execution_count": 22,
   "id": "14a50304",
   "metadata": {
    "ExecuteTime": {
     "end_time": "2024-11-08T05:47:12.688007Z",
     "start_time": "2024-11-08T05:47:12.679012Z"
    }
   },
   "outputs": [
    {
     "data": {
      "text/plain": [
       "1504380151792"
      ]
     },
     "execution_count": 22,
     "metadata": {},
     "output_type": "execute_result"
    }
   ],
   "source": [
    "foo = 'a' # 전역변수\n",
    "id(foo)"
   ]
  },
  {
   "cell_type": "code",
   "execution_count": 39,
   "id": "8c0ad1f1",
   "metadata": {
    "ExecuteTime": {
     "end_time": "2024-11-08T05:53:52.995867Z",
     "start_time": "2024-11-08T05:53:52.989904Z"
    }
   },
   "outputs": [
    {
     "name": "stdout",
     "output_type": "stream",
     "text": [
      "Before: a 의 주소는 1504380151792\n",
      "After: aaa 의 주소는 1504495199024\n"
     ]
    }
   ],
   "source": [
    "def func1(f): # 매개변수는 지역변수(함수 내에서만 유효)\n",
    "    print('Before:', f, '의 주소는', id(f))\n",
    "    f = f * 3 # aaa\n",
    "    print('After:', f, '의 주소는', id(f))\n",
    "    \n",
    "func1(foo) # 함수 호출\n",
    "# 전역변수 foo를 copy한 지역변수 f가 생성됨. \n",
    "# 지역변수 f는 전역변수 foo의 주소를 참조\n",
    "# f의 값이 바뀌면 이전의 f 삭제하고 새로운 f 생성\n",
    "# 새로운 지역변수 f는 참조하는 주소도 바뀜"
   ]
  },
  {
   "cell_type": "code",
   "execution_count": 40,
   "id": "d313fed7",
   "metadata": {
    "ExecuteTime": {
     "end_time": "2024-11-08T05:54:02.522943Z",
     "start_time": "2024-11-08T05:54:02.517976Z"
    }
   },
   "outputs": [
    {
     "name": "stdout",
     "output_type": "stream",
     "text": [
      "foo = a 의 주소는 1504380151792\n"
     ]
    }
   ],
   "source": [
    "# 전역변수 값은 불변\n",
    "print('foo =', foo, '의 주소는', id(foo))"
   ]
  },
  {
   "cell_type": "markdown",
   "id": "4b967a00",
   "metadata": {},
   "source": [
    "## 1.5 참조에 의한 호출\n",
    "- 함수에 인수로 전달되는 변수가 리스트, 튜플, 셋, 딕셔너리, 객체일 경우"
   ]
  },
  {
   "cell_type": "code",
   "execution_count": 41,
   "id": "8c165a48",
   "metadata": {
    "ExecuteTime": {
     "end_time": "2024-11-08T05:57:57.478872Z",
     "start_time": "2024-11-08T05:57:57.463249Z"
    }
   },
   "outputs": [
    {
     "data": {
      "text/plain": [
       "1504494843776"
      ]
     },
     "execution_count": 41,
     "metadata": {},
     "output_type": "execute_result"
    }
   ],
   "source": [
    "L = [1, 2, 3, 4, 5]\n",
    "id(L)"
   ]
  },
  {
   "cell_type": "code",
   "execution_count": 42,
   "id": "38a6f21e",
   "metadata": {
    "ExecuteTime": {
     "end_time": "2024-11-08T05:59:13.851668Z",
     "start_time": "2024-11-08T05:59:13.846099Z"
    }
   },
   "outputs": [
    {
     "name": "stdout",
     "output_type": "stream",
     "text": [
      "Before: [1, 2, 3, 4, 5] 의 주소는 1504494843776\n",
      "After: [1, 2, 3, 4, 5, 6] 의 주소는 1504494843776\n"
     ]
    }
   ],
   "source": [
    "def func2(f): # 매개변수는 지역변수\n",
    "    print('Before:', f, '의 주소는', id(f))\n",
    "    f.append(6)\n",
    "    print('After:', f, '의 주소는', id(f))\n",
    "func2(L) # 함수 호출\n",
    "# 전역변수 L을 copy한 지역변수 f가 생성됨.\n",
    "# 지역변수 f는 전역변수 L의 주소를 참조\n",
    "# f에 append 시, 참조하는 주소는 바뀌지 않으며, 전역변수 L에도 데이터가 append됨"
   ]
  },
  {
   "cell_type": "code",
   "execution_count": 43,
   "id": "5877ff1d",
   "metadata": {
    "ExecuteTime": {
     "end_time": "2024-11-08T06:02:44.540599Z",
     "start_time": "2024-11-08T06:02:44.535612Z"
    }
   },
   "outputs": [
    {
     "name": "stdout",
     "output_type": "stream",
     "text": [
      "L= [1, 2, 3, 4, 5, 6] 의 주소는 1504494843776\n"
     ]
    }
   ],
   "source": [
    "print('L=', L, '의 주소는', id(L))"
   ]
  },
  {
   "cell_type": "markdown",
   "id": "93e9586f",
   "metadata": {},
   "source": [
    "## 1.6 함수의 이름 변경\n",
    "- Python: 함수형 언어, 객체지향언어"
   ]
  },
  {
   "cell_type": "code",
   "execution_count": 45,
   "id": "abcdf7ae",
   "metadata": {
    "ExecuteTime": {
     "end_time": "2024-11-08T06:28:30.811976Z",
     "start_time": "2024-11-08T06:28:30.807009Z"
    }
   },
   "outputs": [
    {
     "name": "stdout",
     "output_type": "stream",
     "text": [
      "0 1 1 2 3 5 8 13 "
     ]
    }
   ],
   "source": [
    "fibonacci(20)"
   ]
  },
  {
   "cell_type": "code",
   "execution_count": 47,
   "id": "e35ca49e",
   "metadata": {
    "ExecuteTime": {
     "end_time": "2024-11-08T06:29:22.827617Z",
     "start_time": "2024-11-08T06:29:22.822630Z"
    }
   },
   "outputs": [],
   "source": [
    "fibo = fibonacci # fibonacci 함수 이름을 fibo로도 사용 가능"
   ]
  },
  {
   "cell_type": "code",
   "execution_count": 48,
   "id": "9fe9a582",
   "metadata": {
    "ExecuteTime": {
     "end_time": "2024-11-08T06:29:23.668409Z",
     "start_time": "2024-11-08T06:29:23.663417Z"
    }
   },
   "outputs": [
    {
     "name": "stdout",
     "output_type": "stream",
     "text": [
      "0 1 1 2 3 5 8 13 "
     ]
    }
   ],
   "source": [
    "fibo(20)"
   ]
  },
  {
   "cell_type": "markdown",
   "id": "1f019299",
   "metadata": {
    "ExecuteTime": {
     "end_time": "2024-11-08T06:30:29.437714Z",
     "start_time": "2024-11-08T06:30:29.430732Z"
    }
   },
   "source": [
    "# 2절. 함수의 실행결과 반환하는 return"
   ]
  },
  {
   "cell_type": "code",
   "execution_count": 70,
   "id": "4d0d49a3",
   "metadata": {
    "ExecuteTime": {
     "end_time": "2024-11-08T06:41:14.901282Z",
     "start_time": "2024-11-08T06:41:14.895356Z"
    }
   },
   "outputs": [],
   "source": [
    "def fibonacci_print(n):\n",
    "    \"\"\"\n",
    "    매개변수로 들어온 n값 미만의 피보나치 수열을 출력합니다\n",
    "    ex. n = 10: 0, 1, 1, 2, 3, 5, 8   \n",
    "    \"\"\"\n",
    "    a, b = 0, 1\n",
    "    while a < n: # a가 n보다 작을 동안만 반복\n",
    "        print(a, end=' ')\n",
    "        a, b = b, a+b # a에 b를, b에 a+b\n",
    "        print()\n",
    "        \n",
    "def fibonacci(n):\n",
    "    \"\"\"\n",
    "    매개변수로 들어온 n값 미만의 피보나치 수열을 리스트로 return\n",
    "    \"\"\"\n",
    "    result = [] # 최악의 조건으로 초기화\n",
    "    a, b = 0, 1\n",
    "    while a < n:\n",
    "        result.append(a)\n",
    "        a, b = b, a+b\n",
    "    return result"
   ]
  },
  {
   "cell_type": "code",
   "execution_count": 69,
   "id": "be334dcc",
   "metadata": {
    "ExecuteTime": {
     "end_time": "2024-11-08T06:41:10.621758Z",
     "start_time": "2024-11-08T06:41:10.615730Z"
    }
   },
   "outputs": [
    {
     "name": "stdout",
     "output_type": "stream",
     "text": [
      "0\t\n",
      "1\t\n",
      "1\t\n",
      "2\t\n",
      "3\t\n",
      "5\t\n",
      "8\t\n",
      "None\n",
      "<class 'NoneType'>\n"
     ]
    }
   ],
   "source": [
    "x = fibonacci_print(10)\n",
    "print(x) # return이 없는 함수를 할당받으면 None\n",
    "print(type(x))"
   ]
  },
  {
   "cell_type": "code",
   "execution_count": 57,
   "id": "f48912b9",
   "metadata": {
    "ExecuteTime": {
     "end_time": "2024-11-08T06:37:07.317645Z",
     "start_time": "2024-11-08T06:37:07.311524Z"
    }
   },
   "outputs": [
    {
     "name": "stdout",
     "output_type": "stream",
     "text": [
      "[0, 1, 1, 2, 3, 5, 8]\n"
     ]
    }
   ],
   "source": [
    "x = fibonacci(10)\n",
    "print(x)"
   ]
  },
  {
   "cell_type": "markdown",
   "id": "54459662",
   "metadata": {},
   "source": [
    "## 여러 개 값 return"
   ]
  },
  {
   "cell_type": "code",
   "execution_count": 63,
   "id": "e904c078",
   "metadata": {
    "ExecuteTime": {
     "end_time": "2024-11-08T06:40:46.836859Z",
     "start_time": "2024-11-08T06:40:46.831861Z"
    }
   },
   "outputs": [],
   "source": [
    "def swap(a, b):\n",
    "    \"\"\"\n",
    "    매개변수의 순서를 바꿔서 return\n",
    "    \"\"\"\n",
    "    return b, a # 튜플 1개, 괄호 생략"
   ]
  },
  {
   "cell_type": "code",
   "execution_count": 64,
   "id": "98fa60f7",
   "metadata": {
    "ExecuteTime": {
     "end_time": "2024-11-08T06:40:48.052567Z",
     "start_time": "2024-11-08T06:40:48.047579Z"
    }
   },
   "outputs": [
    {
     "name": "stdout",
     "output_type": "stream",
     "text": [
      "함수 실행 전 x, y = 5 10\n",
      "함수 실행 후 x, y = 10 5\n"
     ]
    }
   ],
   "source": [
    "x, y = 5, 10\n",
    "print('함수 실행 전 x, y =', x, y)\n",
    "x, y = swap(x, y)\n",
    "print('함수 실행 후 x, y =', x , y)"
   ]
  },
  {
   "cell_type": "code",
   "execution_count": 71,
   "id": "81618ef9",
   "metadata": {
    "ExecuteTime": {
     "end_time": "2024-11-08T06:41:43.762816Z",
     "start_time": "2024-11-08T06:41:43.758838Z"
    }
   },
   "outputs": [
    {
     "name": "stdout",
     "output_type": "stream",
     "text": [
      "<class 'tuple'>\n",
      "(20, 10)\n"
     ]
    }
   ],
   "source": [
    "# swap 변수의 타입은 tuple\n",
    "a = swap(10, 20)\n",
    "print(type(a))\n",
    "print(a)"
   ]
  },
  {
   "cell_type": "markdown",
   "id": "7b2434f5",
   "metadata": {},
   "source": [
    "# 3절. 함수의 매개변수 ★\n",
    "## 3.1 기본값을 갖는 매개변수"
   ]
  },
  {
   "cell_type": "code",
   "execution_count": 73,
   "id": "15103d4a",
   "metadata": {
    "ExecuteTime": {
     "end_time": "2024-11-08T06:46:26.091320Z",
     "start_time": "2024-11-08T06:46:26.087350Z"
    }
   },
   "outputs": [],
   "source": [
    "# 기본값을 갖는 매개변수는 순서인수 뒤에 위치해야 함\n",
    "def make_url(ip, port = 80):\n",
    "    return \"http://{}:{}\".format(ip, port)"
   ]
  },
  {
   "cell_type": "code",
   "execution_count": 76,
   "id": "c401c48c",
   "metadata": {
    "ExecuteTime": {
     "end_time": "2024-11-08T06:50:25.117447Z",
     "start_time": "2024-11-08T06:50:25.111496Z"
    }
   },
   "outputs": [
    {
     "name": "stdout",
     "output_type": "stream",
     "text": [
      "http://localhost:8090\n",
      "http://localhost:80\n",
      "http://www.naver.com:9090\n"
     ]
    }
   ],
   "source": [
    "# 기본값을 갖는 매개변수는 선택적으로 사용\n",
    "print(make_url('localhost', 8090))\n",
    "print(make_url('localhost')) # 두 번째 매개변수 미입력 시 default값\n",
    "\n",
    "# 출력 시 매개변수의 순서가 바뀐다면, [매개변수명=값]의 형태로 호출할 것\n",
    "print(make_url(port=9090, ip=\"www.naver.com\"))"
   ]
  },
  {
   "cell_type": "markdown",
   "id": "438aa3d8",
   "metadata": {},
   "source": [
    "## 3.2 기본 변수를 갖는 매개변수"
   ]
  },
  {
   "cell_type": "markdown",
   "id": "96418bb2",
   "metadata": {},
   "source": [
    "- 매개변수에 기본값이 스칼라(scalar, 문자, 숫자, 논리형) 변수일 경우\n",
    "- 매개변수에 기본값이 리스트, 셋, 딕셔너리 또는 객체일 경우"
   ]
  },
  {
   "cell_type": "code",
   "execution_count": 81,
   "id": "91c3d375",
   "metadata": {
    "ExecuteTime": {
     "end_time": "2024-11-08T06:58:26.076386Z",
     "start_time": "2024-11-08T06:58:26.072396Z"
    }
   },
   "outputs": [],
   "source": [
    "i = 5\n",
    "# 기본변수가 scalar 변수일 때: arg의 기본값은 함수가 정의되는 시점으로 셋팅\n",
    "def func2(arg = i):\n",
    "    print('arg =', arg)"
   ]
  },
  {
   "cell_type": "code",
   "execution_count": 82,
   "id": "af09aa24",
   "metadata": {
    "ExecuteTime": {
     "end_time": "2024-11-08T06:58:27.788388Z",
     "start_time": "2024-11-08T06:58:27.783316Z"
    }
   },
   "outputs": [
    {
     "name": "stdout",
     "output_type": "stream",
     "text": [
      "arg = 10\n"
     ]
    }
   ],
   "source": [
    "# 매개변수에 값 넣었을 때\n",
    "func2(10)"
   ]
  },
  {
   "cell_type": "code",
   "execution_count": 83,
   "id": "3d177276",
   "metadata": {
    "ExecuteTime": {
     "end_time": "2024-11-08T06:58:29.525010Z",
     "start_time": "2024-11-08T06:58:29.520023Z"
    }
   },
   "outputs": [
    {
     "name": "stdout",
     "output_type": "stream",
     "text": [
      "arg = 5\n"
     ]
    }
   ],
   "source": [
    "# 매개변수에 값 넣지 않았을 때, 기본값 i = 5 출력\n",
    "func2()"
   ]
  },
  {
   "cell_type": "code",
   "execution_count": 84,
   "id": "485b4b34",
   "metadata": {
    "ExecuteTime": {
     "end_time": "2024-11-08T06:58:31.491643Z",
     "start_time": "2024-11-08T06:58:31.488642Z"
    }
   },
   "outputs": [
    {
     "name": "stdout",
     "output_type": "stream",
     "text": [
      "arg = 5\n"
     ]
    }
   ],
   "source": [
    "# i값 변경(i = 10)해도, func2() 결과 불변 (i = 5) \n",
    "i = 10  \n",
    "func2()"
   ]
  },
  {
   "cell_type": "code",
   "execution_count": 88,
   "id": "6da672d7",
   "metadata": {
    "ExecuteTime": {
     "end_time": "2024-11-08T07:18:00.046064Z",
     "start_time": "2024-11-08T07:18:00.040415Z"
    }
   },
   "outputs": [
    {
     "name": "stdout",
     "output_type": "stream",
     "text": [
      "[10]\n",
      "list_ : [10]\n"
     ]
    }
   ],
   "source": [
    "# 기본변수가 리스트, 셋, 딕셔너리, 객체일 경우: 실행되는 시점\n",
    "list_ = []\n",
    "def func3(a, L = list_):\n",
    "    L.append(a)\n",
    "    return L\n",
    "print(func3(10))\n",
    "print('list_ :', list_) # 리스트 L값 변화"
   ]
  },
  {
   "cell_type": "code",
   "execution_count": 89,
   "id": "c6ae3ea0",
   "metadata": {
    "ExecuteTime": {
     "end_time": "2024-11-08T07:19:00.478260Z",
     "start_time": "2024-11-08T07:19:00.473294Z"
    }
   },
   "outputs": [
    {
     "name": "stdout",
     "output_type": "stream",
     "text": [
      "[10, 20]\n",
      "list_ : [10, 20]\n"
     ]
    }
   ],
   "source": [
    "print(func3(20)) # 10이 들어있는 리스트 L(실행 시 마다 공유)\n",
    "print('list_ :', list_) "
   ]
  },
  {
   "cell_type": "code",
   "execution_count": 90,
   "id": "43f75cb0",
   "metadata": {
    "ExecuteTime": {
     "end_time": "2024-11-08T07:20:31.526120Z",
     "start_time": "2024-11-08T07:20:31.521055Z"
    }
   },
   "outputs": [
    {
     "name": "stdout",
     "output_type": "stream",
     "text": [
      "[10, 20, 30]\n",
      "list_ : [10, 20, 30]\n"
     ]
    }
   ],
   "source": [
    "print(func3(30)) # 10, 20이 들어있는 리스트 L(실행 시 마다 공유)\n",
    "print('list_ :', list_)"
   ]
  },
  {
   "cell_type": "code",
   "execution_count": 92,
   "id": "86152b4b",
   "metadata": {
    "ExecuteTime": {
     "end_time": "2024-11-08T07:23:02.616279Z",
     "start_time": "2024-11-08T07:23:02.609778Z"
    }
   },
   "outputs": [
    {
     "name": "stdout",
     "output_type": "stream",
     "text": [
      "[40]\n",
      "list_ : [10, 20, 30]\n"
     ]
    }
   ],
   "source": [
    "# 공유하지 않도록 기본값을 가지는 매개변수로 변경\n",
    "def func3(a, L = []):\n",
    "    L.append(a)\n",
    "    return L\n",
    "print(func3(40))\n",
    "print('list_ :', list_) # 리스트 L값 불변"
   ]
  },
  {
   "cell_type": "markdown",
   "id": "81a8ce8b",
   "metadata": {},
   "source": [
    "## 3.3 순서 인수, 키워드 인수\n",
    "- 순서 인수: 함수에 정의된 순서대로 전달하는 방식\n",
    "- 키워드 인수: 인수의 이름을 명시적으로 전달하는 방식\n",
    "- 함수 정의 시 순서인수와 키워드 인수가 같이 올 경우, 반드시 순서인수 → 키워드인수 순으로 입력\n",
    "```\n",
    "def function명(변수명1, 변수명2, ..., 변수명n = 기본값):\n",
    "```\n"
   ]
  },
  {
   "cell_type": "code",
   "execution_count": 96,
   "id": "24b127b2",
   "metadata": {
    "ExecuteTime": {
     "end_time": "2024-11-08T07:25:23.229504Z",
     "start_time": "2024-11-08T07:25:23.224535Z"
    }
   },
   "outputs": [],
   "source": [
    "def fun(a, b):\n",
    "    return a * 10 + b"
   ]
  },
  {
   "cell_type": "code",
   "execution_count": 97,
   "id": "0b785b0c",
   "metadata": {
    "ExecuteTime": {
     "end_time": "2024-11-08T07:26:38.648530Z",
     "start_time": "2024-11-08T07:26:38.640006Z"
    }
   },
   "outputs": [
    {
     "data": {
      "text/plain": [
       "43"
      ]
     },
     "execution_count": 97,
     "metadata": {},
     "output_type": "execute_result"
    }
   ],
   "source": [
    "# 순서 인수\n",
    "fun(3, 4)"
   ]
  },
  {
   "cell_type": "code",
   "execution_count": 98,
   "id": "4c72191d",
   "metadata": {
    "ExecuteTime": {
     "end_time": "2024-11-08T07:26:47.038814Z",
     "start_time": "2024-11-08T07:26:47.033843Z"
    }
   },
   "outputs": [
    {
     "data": {
      "text/plain": [
       "43"
      ]
     },
     "execution_count": 98,
     "metadata": {},
     "output_type": "execute_result"
    }
   ],
   "source": [
    "# 키워드 인수\n",
    "fun(b = 3, a = 4)"
   ]
  },
  {
   "cell_type": "code",
   "execution_count": 100,
   "id": "65415053",
   "metadata": {
    "ExecuteTime": {
     "end_time": "2024-11-08T07:32:25.160553Z",
     "start_time": "2024-11-08T07:32:25.155567Z"
    }
   },
   "outputs": [],
   "source": [
    "# None값 비교\n",
    "# ==      (X) \n",
    "# is None (O)\n",
    "def func4(a, L = None):\n",
    "    if L is None:\n",
    "        L = []\n",
    "    L.append(a)\n",
    "    return L"
   ]
  },
  {
   "cell_type": "code",
   "execution_count": 104,
   "id": "22b76f91",
   "metadata": {
    "ExecuteTime": {
     "end_time": "2024-11-08T07:34:09.014149Z",
     "start_time": "2024-11-08T07:34:09.009175Z"
    }
   },
   "outputs": [
    {
     "name": "stdout",
     "output_type": "stream",
     "text": [
      "[10]\n",
      "[10, 10]\n",
      "[20]\n",
      "[20]\n"
     ]
    }
   ],
   "source": [
    "# 질문: 3, 4번째 결과 같은 이유?\n",
    "lst = []\n",
    "print(func4(10, lst))\n",
    "print(func4(L = lst, a = 10))\n",
    "print(func4(20))\n",
    "print(func4(20, None))"
   ]
  },
  {
   "cell_type": "markdown",
   "id": "3d81db9b",
   "metadata": {},
   "source": [
    "## 3.4 튜플 매개변수를 이용한 가변인수 설정"
   ]
  },
  {
   "cell_type": "code",
   "execution_count": 106,
   "id": "6f467e44",
   "metadata": {
    "ExecuteTime": {
     "end_time": "2024-11-08T07:38:26.972812Z",
     "start_time": "2024-11-08T07:38:26.968117Z"
    }
   },
   "outputs": [],
   "source": [
    "def add(a, b):\n",
    "    return a + b\n",
    "def add(a, b, c): # 덮어씌움\n",
    "    return a + b + c"
   ]
  },
  {
   "cell_type": "code",
   "execution_count": 109,
   "id": "f75226c1",
   "metadata": {
    "ExecuteTime": {
     "end_time": "2024-11-08T07:38:41.687236Z",
     "start_time": "2024-11-08T07:38:41.681242Z"
    }
   },
   "outputs": [
    {
     "data": {
      "text/plain": [
       "6"
      ]
     },
     "execution_count": 109,
     "metadata": {},
     "output_type": "execute_result"
    }
   ],
   "source": [
    "add(1, 2, 3)"
   ]
  },
  {
   "cell_type": "code",
   "execution_count": 110,
   "id": "96bd4c7d",
   "metadata": {
    "ExecuteTime": {
     "end_time": "2024-11-08T07:38:43.162380Z",
     "start_time": "2024-11-08T07:38:43.144508Z"
    },
    "collapsed": true
   },
   "outputs": [
    {
     "ename": "TypeError",
     "evalue": "add() missing 1 required positional argument: 'c'",
     "output_type": "error",
     "traceback": [
      "\u001b[1;31m---------------------------------------------------------------------------\u001b[0m",
      "\u001b[1;31mTypeError\u001b[0m                                 Traceback (most recent call last)",
      "Cell \u001b[1;32mIn[110], line 1\u001b[0m\n\u001b[1;32m----> 1\u001b[0m \u001b[43madd\u001b[49m\u001b[43m(\u001b[49m\u001b[38;5;241;43m1\u001b[39;49m\u001b[43m,\u001b[49m\u001b[43m \u001b[49m\u001b[38;5;241;43m2\u001b[39;49m\u001b[43m)\u001b[49m\n",
      "\u001b[1;31mTypeError\u001b[0m: add() missing 1 required positional argument: 'c'"
     ]
    }
   ],
   "source": [
    "add(1, 2) # Error(c 인자가 없음)"
   ]
  },
  {
   "cell_type": "code",
   "execution_count": 125,
   "id": "53cefaa7",
   "metadata": {
    "ExecuteTime": {
     "end_time": "2024-11-08T07:49:13.958607Z",
     "start_time": "2024-11-08T07:49:13.952611Z"
    }
   },
   "outputs": [],
   "source": [
    "# 가변인자 함수 add\n",
    "# *(아스테리크)args → 매개변수가 튜플로 전달됨\n",
    "def add(*args):\n",
    "    \"\"\"\n",
    "    전달받은 매개변수들의 합을 return\n",
    "    매개변수가 하나도 없을 경우 0을 return\n",
    "    \"\"\"\n",
    "    # print(args)\n",
    "    sum = 0 # 누적변수\n",
    "    for num in args:\n",
    "        sum += num\n",
    "    return sum"
   ]
  },
  {
   "cell_type": "code",
   "execution_count": 129,
   "id": "37c6e465",
   "metadata": {
    "ExecuteTime": {
     "end_time": "2024-11-08T07:52:01.325828Z",
     "start_time": "2024-11-08T07:52:01.321684Z"
    }
   },
   "outputs": [
    {
     "name": "stdout",
     "output_type": "stream",
     "text": [
      "1\n",
      "3\n",
      "28\n",
      "0\n"
     ]
    }
   ],
   "source": [
    "# return값 없는 경우, print()로 출력하면 None 출력됨\n",
    "print(add(1))\n",
    "print(add(1, 2))\n",
    "print(add(1, 2, 3, 4, 5, 6, 7))\n",
    "print(add())"
   ]
  },
  {
   "cell_type": "code",
   "execution_count": 134,
   "id": "48a92105",
   "metadata": {
    "ExecuteTime": {
     "end_time": "2024-11-08T07:54:39.031735Z",
     "start_time": "2024-11-08T07:54:39.025751Z"
    }
   },
   "outputs": [
    {
     "data": {
      "text/plain": [
       "'Java - Oracle - Web - Python'"
      ]
     },
     "execution_count": 134,
     "metadata": {},
     "output_type": "execute_result"
    }
   ],
   "source": [
    "subject = ('Java', 'Oracle', 'Web', 'Python')\n",
    "' - '.join(subject)"
   ]
  },
  {
   "cell_type": "code",
   "execution_count": 141,
   "id": "249a2a8b",
   "metadata": {
    "ExecuteTime": {
     "end_time": "2024-11-08T07:59:35.488195Z",
     "start_time": "2024-11-08T07:59:35.483219Z"
    }
   },
   "outputs": [],
   "source": [
    "def concat(*subject, sep):\n",
    "    return sep.join(subject)"
   ]
  },
  {
   "cell_type": "code",
   "execution_count": 143,
   "id": "bdececee",
   "metadata": {
    "ExecuteTime": {
     "end_time": "2024-11-08T07:59:46.038747Z",
     "start_time": "2024-11-08T07:59:46.017985Z"
    }
   },
   "outputs": [
    {
     "ename": "TypeError",
     "evalue": "concat() missing 1 required keyword-only argument: 'sep'",
     "output_type": "error",
     "traceback": [
      "\u001b[1;31m---------------------------------------------------------------------------\u001b[0m",
      "\u001b[1;31mTypeError\u001b[0m                                 Traceback (most recent call last)",
      "Cell \u001b[1;32mIn[143], line 1\u001b[0m\n\u001b[1;32m----> 1\u001b[0m \u001b[43mconcat\u001b[49m\u001b[43m(\u001b[49m\u001b[38;5;124;43m'\u001b[39;49m\u001b[38;5;124;43mJava\u001b[39;49m\u001b[38;5;124;43m'\u001b[39;49m\u001b[43m,\u001b[49m\u001b[43m \u001b[49m\u001b[38;5;124;43m'\u001b[39;49m\u001b[38;5;124;43mOracle\u001b[39;49m\u001b[38;5;124;43m'\u001b[39;49m\u001b[43m,\u001b[49m\u001b[43m \u001b[49m\u001b[38;5;124;43m'\u001b[39;49m\u001b[38;5;124;43mWeb\u001b[39;49m\u001b[38;5;124;43m'\u001b[39;49m\u001b[43m,\u001b[49m\u001b[43m \u001b[49m\u001b[38;5;124;43m'\u001b[39;49m\u001b[38;5;124;43mPython\u001b[39;49m\u001b[38;5;124;43m'\u001b[39;49m\u001b[43m,\u001b[49m\u001b[43m \u001b[49m\u001b[38;5;124;43m'\u001b[39;49m\u001b[38;5;124;43m  ^____^  \u001b[39;49m\u001b[38;5;124;43m'\u001b[39;49m\u001b[43m)\u001b[49m\n",
      "\u001b[1;31mTypeError\u001b[0m: concat() missing 1 required keyword-only argument: 'sep'"
     ]
    }
   ],
   "source": [
    "concat('Java', 'Oracle', 'Web', 'Python', '  ^____^  ') # Error(sep이 없음)"
   ]
  },
  {
   "cell_type": "code",
   "execution_count": 144,
   "id": "e66282d7",
   "metadata": {
    "ExecuteTime": {
     "end_time": "2024-11-08T08:00:24.239315Z",
     "start_time": "2024-11-08T08:00:24.233345Z"
    }
   },
   "outputs": [
    {
     "data": {
      "text/plain": [
       "'Java  ^____^  Oracle  ^____^  Web  ^____^  Python'"
      ]
     },
     "execution_count": 144,
     "metadata": {},
     "output_type": "execute_result"
    }
   ],
   "source": [
    "# sol 1: 파라미터이름을 지정해서 호출\n",
    "concat('Java', 'Oracle', 'Web', 'Python', sep='  ^____^  ')"
   ]
  },
  {
   "cell_type": "code",
   "execution_count": 6,
   "id": "9239b933",
   "metadata": {
    "ExecuteTime": {
     "end_time": "2024-11-08T08:15:49.758490Z",
     "start_time": "2024-11-08T08:15:49.753494Z"
    }
   },
   "outputs": [],
   "source": [
    "# sol 2: 기본값을 갖는 키워드인수 사용\n",
    "# print()함수와 같은 원리\n",
    "def concat(*subject, sep=' '): # 튜플인수 > 키워드인수\n",
    "    return sep.join(subject)"
   ]
  },
  {
   "cell_type": "code",
   "execution_count": 9,
   "id": "96b19634",
   "metadata": {
    "ExecuteTime": {
     "end_time": "2024-11-08T08:16:30.784534Z",
     "start_time": "2024-11-08T08:16:30.778554Z"
    }
   },
   "outputs": [
    {
     "data": {
      "text/plain": [
       "'Java Oracle Web Python'"
      ]
     },
     "execution_count": 9,
     "metadata": {},
     "output_type": "execute_result"
    }
   ],
   "source": [
    "# 키워드인수의 기본값이 출력됨\n",
    "concat('Java', 'Oracle', 'Web', 'Python')"
   ]
  },
  {
   "cell_type": "code",
   "execution_count": 10,
   "id": "301d2b89",
   "metadata": {
    "ExecuteTime": {
     "end_time": "2024-11-08T08:16:48.246492Z",
     "start_time": "2024-11-08T08:16:48.242498Z"
    }
   },
   "outputs": [
    {
     "data": {
      "text/plain": [
       "'Java Oracle Web Python  ~ '"
      ]
     },
     "execution_count": 10,
     "metadata": {},
     "output_type": "execute_result"
    }
   ],
   "source": [
    "# 키워드인수 선언 안 하면 args로 출력됨\n",
    "concat('Java', 'Oracle', 'Web', 'Python', ' ~ ')"
   ]
  },
  {
   "cell_type": "code",
   "execution_count": 11,
   "id": "0e1f2790",
   "metadata": {
    "ExecuteTime": {
     "end_time": "2024-11-08T08:17:33.777695Z",
     "start_time": "2024-11-08T08:17:33.770319Z"
    }
   },
   "outputs": [
    {
     "data": {
      "text/plain": [
       "'Java ~ Oracle ~ Web ~ Python'"
      ]
     },
     "execution_count": 11,
     "metadata": {},
     "output_type": "execute_result"
    }
   ],
   "source": [
    "concat('Java', 'Oracle', 'Web', 'Python', sep=' ~ ')"
   ]
  },
  {
   "cell_type": "code",
   "execution_count": 12,
   "id": "f2d6d1c8",
   "metadata": {
    "ExecuteTime": {
     "end_time": "2024-11-08T08:19:15.117647Z",
     "start_time": "2024-11-08T08:19:15.113478Z"
    }
   },
   "outputs": [],
   "source": [
    "# sol 3: sep을 순서인수로 앞으로 선언\n",
    "def concat(sep, *subject):\n",
    "    return sep.join(subject)"
   ]
  },
  {
   "cell_type": "code",
   "execution_count": 14,
   "id": "a5f8c896",
   "metadata": {
    "ExecuteTime": {
     "end_time": "2024-11-08T08:19:41.034104Z",
     "start_time": "2024-11-08T08:19:41.019010Z"
    }
   },
   "outputs": [
    {
     "data": {
      "text/plain": [
       "'Java ~ Oracle ~ Web ~ Python'"
      ]
     },
     "execution_count": 14,
     "metadata": {},
     "output_type": "execute_result"
    }
   ],
   "source": [
    "concat(' ~ ', 'Java', 'Oracle', 'Web', 'Python')"
   ]
  },
  {
   "cell_type": "markdown",
   "id": "c60d1741",
   "metadata": {},
   "source": [
    "## 3.5 딕셔너리 매개변수\n",
    "- 딕셔너리 인수: 여러 개의 키워드 인수를 딕셔너리 형태로 받아서 가변 키워드 인수로 처리"
   ]
  },
  {
   "cell_type": "code",
   "execution_count": 29,
   "id": "8f512bd0",
   "metadata": {
    "ExecuteTime": {
     "end_time": "2024-11-08T08:25:48.467873Z",
     "start_time": "2024-11-08T08:25:48.461893Z"
    }
   },
   "outputs": [],
   "source": [
    "# 인수를 받아 딕셔너리를 만드는 함수\n",
    "# **args → 매개변수가 딕셔너리로 전달됨\n",
    "def func5(**args):\n",
    "    print(args)\n",
    "    print(\"인수 타입:\", type(args))\n",
    "    print() # 개행\n",
    "    for key, value in args.items():\n",
    "        print(\"{}:{}\".format(key, value))"
   ]
  },
  {
   "cell_type": "code",
   "execution_count": 30,
   "id": "511559a8",
   "metadata": {
    "ExecuteTime": {
     "end_time": "2024-11-08T08:25:51.254155Z",
     "start_time": "2024-11-08T08:25:51.249168Z"
    }
   },
   "outputs": [
    {
     "name": "stdout",
     "output_type": "stream",
     "text": [
      "{'name': '홍길동', 'age': 33}\n",
      "인수 타입: <class 'dict'>\n",
      "\n",
      "name:홍길동\n",
      "age:33\n"
     ]
    }
   ],
   "source": [
    "func5(name = \"홍길동\", age = 33)"
   ]
  },
  {
   "cell_type": "code",
   "execution_count": 32,
   "id": "bf7bcf56",
   "metadata": {
    "ExecuteTime": {
     "end_time": "2024-11-08T08:26:45.189523Z",
     "start_time": "2024-11-08T08:26:45.185535Z"
    }
   },
   "outputs": [
    {
     "name": "stdout",
     "output_type": "stream",
     "text": [
      "{'name': '김길동', 'address': '서울', 'tel': '010-9999-9999'}\n",
      "인수 타입: <class 'dict'>\n",
      "\n",
      "name:김길동\n",
      "address:서울\n",
      "tel:010-9999-9999\n"
     ]
    }
   ],
   "source": [
    "func5(name = \"김길동\", address=\"서울\", tel=\"010-9999-9999\")"
   ]
  },
  {
   "cell_type": "markdown",
   "id": "43e3faf4",
   "metadata": {},
   "source": [
    "## 3.6 함수 정의 시 매개변수의 순서\n",
    "`순서인수 > 튜플인수(*) > 키워드인수(기본값) > 딕셔너리인수(**)`"
   ]
  },
  {
   "cell_type": "code",
   "execution_count": 34,
   "id": "24c456c8",
   "metadata": {
    "ExecuteTime": {
     "end_time": "2024-11-08T08:31:22.622790Z",
     "start_time": "2024-11-08T08:31:22.618780Z"
    }
   },
   "outputs": [],
   "source": [
    "# 순서인수 > 튜플인수(*) > 딕셔너리인수(**)\n",
    "def func6(a, b, *c, **d):\n",
    "    print('순서인수     a =', a)\n",
    "    print('순서인수     b =', b)\n",
    "    print('튜플인수     c =', c)\n",
    "    print('딕셔너리인수 d =', d)"
   ]
  },
  {
   "cell_type": "code",
   "execution_count": 35,
   "id": "6c94f7c2",
   "metadata": {
    "ExecuteTime": {
     "end_time": "2024-11-08T08:31:23.982758Z",
     "start_time": "2024-11-08T08:31:23.964815Z"
    }
   },
   "outputs": [
    {
     "name": "stdout",
     "output_type": "stream",
     "text": [
      "순서인수     a = 10\n",
      "순서인수     b = 20\n",
      "튜플인수     c = (1, 2, 3, 4, 5, 6, 7)\n",
      "딕셔너리인수 d = {'name': 'kim', 'age': 30}\n"
     ]
    }
   ],
   "source": [
    "func6(10, 20, 1, 2, 3, 4, 5, 6, 7, name = \"kim\", age = 30)"
   ]
  },
  {
   "cell_type": "code",
   "execution_count": 36,
   "id": "a4927759",
   "metadata": {
    "ExecuteTime": {
     "end_time": "2024-11-08T08:34:24.033182Z",
     "start_time": "2024-11-08T08:34:24.027181Z"
    }
   },
   "outputs": [],
   "source": [
    "# 순서인수 > 튜플인수(*) > 키워드인수(기본값) > 딕셔너리인수(**)\n",
    "def func7(a, b, c, *d, e = 10, **f):\n",
    "    print('순서인수     a =', a)\n",
    "    print('순서인수     b =', b)\n",
    "    print('순서인수     c =', c)\n",
    "    print('튜플인수     d =', d)\n",
    "    print('키워드인수   e =', e)\n",
    "    print('딕셔너리인수 f =', f)"
   ]
  },
  {
   "cell_type": "code",
   "execution_count": 38,
   "id": "6af83631",
   "metadata": {
    "ExecuteTime": {
     "end_time": "2024-11-08T08:35:58.542495Z",
     "start_time": "2024-11-08T08:35:58.537509Z"
    }
   },
   "outputs": [
    {
     "name": "stdout",
     "output_type": "stream",
     "text": [
      "순서인수     a = 10\n",
      "순서인수     b = 20\n",
      "순서인수     c = 30\n",
      "튜플인수     d = ()\n",
      "키워드인수   e = 10\n",
      "딕셔너리인수 f = {}\n"
     ]
    }
   ],
   "source": [
    "# 순서인수는 필수입력\n",
    "# 튜플인수는 입력 안 하면 빈 튜플\n",
    "# 키워드인수는 입력 안 하면 기본값\n",
    "# 딕셔너리인수는 입력 안 하면 빈 딕셔너리\n",
    "func7(10, 20, 30)"
   ]
  },
  {
   "cell_type": "code",
   "execution_count": 39,
   "id": "8a23afe8",
   "metadata": {
    "ExecuteTime": {
     "end_time": "2024-11-08T08:37:05.807194Z",
     "start_time": "2024-11-08T08:37:05.802166Z"
    }
   },
   "outputs": [
    {
     "name": "stdout",
     "output_type": "stream",
     "text": [
      "순서인수     a = 10\n",
      "순서인수     b = 20\n",
      "순서인수     c = 30\n",
      "튜플인수     d = ()\n",
      "키워드인수   e = 100\n",
      "딕셔너리인수 f = {}\n"
     ]
    }
   ],
   "source": [
    "func7(10, 20, 30, e = 100)"
   ]
  },
  {
   "cell_type": "code",
   "execution_count": 40,
   "id": "b3cc5cc6",
   "metadata": {
    "ExecuteTime": {
     "end_time": "2024-11-08T08:37:57.839770Z",
     "start_time": "2024-11-08T08:37:57.835034Z"
    }
   },
   "outputs": [
    {
     "name": "stdout",
     "output_type": "stream",
     "text": [
      "순서인수     a = 10\n",
      "순서인수     b = 20\n",
      "순서인수     c = 30\n",
      "튜플인수     d = (1, 2, 3, 4, 5)\n",
      "키워드인수   e = 100\n",
      "딕셔너리인수 f = {'shape': 'rect', 'width': 20, 'height': 30}\n"
     ]
    }
   ],
   "source": [
    "func7(10, 20, 30,\n",
    "      1, 2, 3, 4, 5,\n",
    "      e = 100,\n",
    "      shape = \"rect\", width = 20, height = 30)"
   ]
  },
  {
   "cell_type": "markdown",
   "id": "026da0bb",
   "metadata": {},
   "source": [
    "## 3.7 인수의 언패킹"
   ]
  },
  {
   "cell_type": "markdown",
   "id": "67d76645",
   "metadata": {
    "ExecuteTime": {
     "end_time": "2024-11-08T08:51:06.834861Z",
     "start_time": "2024-11-08T08:51:06.826903Z"
    }
   },
   "source": [
    "### 튜플인수 언패킹"
   ]
  },
  {
   "cell_type": "code",
   "execution_count": 41,
   "id": "8f8ee28e",
   "metadata": {
    "ExecuteTime": {
     "end_time": "2024-11-08T08:44:09.448322Z",
     "start_time": "2024-11-08T08:44:09.443587Z"
    }
   },
   "outputs": [],
   "source": [
    "def add(*args): # ((1, 2, 3, 4, 5),)\n",
    "    sum = 0\n",
    "    for num in args:\n",
    "        sum += num\n",
    "    return sum"
   ]
  },
  {
   "cell_type": "code",
   "execution_count": 42,
   "id": "d24d2008",
   "metadata": {
    "ExecuteTime": {
     "end_time": "2024-11-08T08:44:14.585981Z",
     "start_time": "2024-11-08T08:44:14.579996Z"
    }
   },
   "outputs": [
    {
     "data": {
      "text/plain": [
       "15"
      ]
     },
     "execution_count": 42,
     "metadata": {},
     "output_type": "execute_result"
    }
   ],
   "source": [
    "add(1, 2, 3, 4, 5)"
   ]
  },
  {
   "cell_type": "code",
   "execution_count": 44,
   "id": "17ce5064",
   "metadata": {
    "ExecuteTime": {
     "end_time": "2024-11-08T08:49:37.233689Z",
     "start_time": "2024-11-08T08:49:37.227705Z"
    }
   },
   "outputs": [
    {
     "data": {
      "text/plain": [
       "15"
      ]
     },
     "execution_count": 44,
     "metadata": {},
     "output_type": "execute_result"
    }
   ],
   "source": [
    "numbers = (1, 2, 3, 4, 5) # 언패킹해서 add()함수의 인수로 받고 싶음\n",
    "add(*numbers) # 튜플 언패킹\n",
    "# add(numbers[0], numbers[1], numbers[2], numbers[3], numbers[4]) 위와 동일"
   ]
  },
  {
   "cell_type": "code",
   "execution_count": 45,
   "id": "bcf74594",
   "metadata": {
    "ExecuteTime": {
     "end_time": "2024-11-08T08:50:10.976969Z",
     "start_time": "2024-11-08T08:50:10.970985Z"
    }
   },
   "outputs": [
    {
     "data": {
      "text/plain": [
       "6"
      ]
     },
     "execution_count": 45,
     "metadata": {},
     "output_type": "execute_result"
    }
   ],
   "source": [
    "# 리스트도 동일 방법으로 가능\n",
    "num_lst = [1, 2, 3]\n",
    "add(*num_lst)"
   ]
  },
  {
   "cell_type": "markdown",
   "id": "6481eb7d",
   "metadata": {},
   "source": [
    "### 딕셔너리 인수 언패킹"
   ]
  },
  {
   "cell_type": "code",
   "execution_count": 48,
   "id": "9a440334",
   "metadata": {
    "ExecuteTime": {
     "end_time": "2024-11-08T08:53:04.392101Z",
     "start_time": "2024-11-08T08:53:04.386137Z"
    }
   },
   "outputs": [
    {
     "name": "stdout",
     "output_type": "stream",
     "text": [
      "('shape', 'rect')\n",
      "('height', 30)\n",
      "('width', 40)\n"
     ]
    }
   ],
   "source": [
    "def func8(**data):\n",
    "    for item in data.items():\n",
    "        print(item)\n",
    "func8('shape': \"rect\",\n",
    "      'height': 30,\n",
    "      'width' : 40)"
   ]
  },
  {
   "cell_type": "code",
   "execution_count": 51,
   "id": "6c1c9eef",
   "metadata": {
    "ExecuteTime": {
     "end_time": "2024-11-08T08:54:45.201529Z",
     "start_time": "2024-11-08T08:54:45.194527Z"
    }
   },
   "outputs": [
    {
     "data": {
      "text/plain": [
       "{'shape': 'triangle', 'height': 40, 'width': 30}"
      ]
     },
     "execution_count": 51,
     "metadata": {},
     "output_type": "execute_result"
    }
   ],
   "source": [
    "info = {'shape':'triangle', 'height': 40, 'width' : 30}\n",
    "info"
   ]
  },
  {
   "cell_type": "code",
   "execution_count": 52,
   "id": "e20c436e",
   "metadata": {
    "ExecuteTime": {
     "end_time": "2024-11-08T08:55:40.241316Z",
     "start_time": "2024-11-08T08:55:40.237397Z"
    }
   },
   "outputs": [
    {
     "name": "stdout",
     "output_type": "stream",
     "text": [
      "('shape', 'triangle')\n",
      "('height', 40)\n",
      "('width', 30)\n"
     ]
    }
   ],
   "source": [
    "func8(**info) ## 딕셔너리 언패킹"
   ]
  },
  {
   "cell_type": "code",
   "execution_count": null,
   "id": "1acfd076",
   "metadata": {},
   "outputs": [],
   "source": []
  },
  {
   "cell_type": "code",
   "execution_count": null,
   "id": "0b76a559",
   "metadata": {},
   "outputs": [],
   "source": []
  },
  {
   "cell_type": "code",
   "execution_count": null,
   "id": "95db8951",
   "metadata": {},
   "outputs": [],
   "source": []
  },
  {
   "cell_type": "code",
   "execution_count": null,
   "id": "bab35b6e",
   "metadata": {},
   "outputs": [],
   "source": []
  },
  {
   "cell_type": "code",
   "execution_count": null,
   "id": "462d5f81",
   "metadata": {},
   "outputs": [],
   "source": []
  }
 ],
 "metadata": {
  "kernelspec": {
   "display_name": "Python 3 (ipykernel)",
   "language": "python",
   "name": "python3"
  },
  "language_info": {
   "codemirror_mode": {
    "name": "ipython",
    "version": 3
   },
   "file_extension": ".py",
   "mimetype": "text/x-python",
   "name": "python",
   "nbconvert_exporter": "python",
   "pygments_lexer": "ipython3",
   "version": "3.10.9"
  },
  "toc": {
   "base_numbering": 1,
   "nav_menu": {},
   "number_sections": true,
   "sideBar": true,
   "skip_h1_title": false,
   "title_cell": "Table of Contents",
   "title_sidebar": "Contents",
   "toc_cell": false,
   "toc_position": {
    "height": "calc(100% - 180px)",
    "left": "10px",
    "top": "150px",
    "width": "301px"
   },
   "toc_section_display": true,
   "toc_window_display": true
  }
 },
 "nbformat": 4,
 "nbformat_minor": 5
}
