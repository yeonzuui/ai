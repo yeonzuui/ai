{
 "cells": [
  {
   "cell_type": "code",
   "execution_count": 1,
   "id": "9b59b236",
   "metadata": {
    "ExecuteTime": {
     "end_time": "2024-12-17T07:35:32.502968Z",
     "start_time": "2024-12-17T07:35:22.364946Z"
    }
   },
   "outputs": [],
   "source": [
    "import numpy as np\n",
    "import pandas as pd\n",
    "import sys\n",
    "from tensorflow.keras.utils import to_categorical # utils.to_categorical\n",
    "from tensorflow.keras.models import Sequential # 모델생성\n",
    "from tensorflow .keras.layers import Dense, Input\n",
    "import matplotlib.pyplot as plt"
   ]
  },
  {
   "cell_type": "markdown",
   "id": "db5b45ca",
   "metadata": {},
   "source": [
    "# Logistic Regression (binary classification)\n",
    "## 1. Dataset 생성 & 전처리"
   ]
  },
  {
   "cell_type": "code",
   "execution_count": 2,
   "id": "b02ea60e",
   "metadata": {
    "ExecuteTime": {
     "end_time": "2024-12-17T07:35:32.524263Z",
     "start_time": "2024-12-17T07:35:32.502968Z"
    }
   },
   "outputs": [
    {
     "data": {
      "text/plain": [
       "array([[  6.   , 148.   ,  72.   ,  35.   ,   0.   ,  33.6  ,   0.627,\n",
       "         50.   ,   1.   ],\n",
       "       [  1.   ,  85.   ,  66.   ,  29.   ,   0.   ,  26.6  ,   0.351,\n",
       "         31.   ,   0.   ]])"
      ]
     },
     "execution_count": 2,
     "metadata": {},
     "output_type": "execute_result"
    }
   ],
   "source": [
    "df = pd.read_csv('data/pima-indians-diabetes.csv', comment = '#', header = None)\n",
    "df.values[:2]\n",
    "# 결측치 없으므로, csv파일을 바로 넘파이 배열로 읽어올 예정"
   ]
  },
  {
   "cell_type": "code",
   "execution_count": 3,
   "id": "7dce6224",
   "metadata": {
    "ExecuteTime": {
     "end_time": "2024-12-17T07:35:32.536431Z",
     "start_time": "2024-12-17T07:35:32.525144Z"
    }
   },
   "outputs": [],
   "source": [
    "# np.set_printoptions(threshold = sys.maxsize)"
   ]
  },
  {
   "cell_type": "code",
   "execution_count": 4,
   "id": "62334e3c",
   "metadata": {
    "ExecuteTime": {
     "end_time": "2024-12-17T07:35:32.544445Z",
     "start_time": "2024-12-17T07:35:32.540231Z"
    }
   },
   "outputs": [],
   "source": [
    "# 1. 임신횟수\n",
    "# 2. 2시간내 포도당 농도\n",
    "# 3. 혈압\n",
    "# 4. 피부접힘 두께\n",
    "# 5. 인슐린수치\n",
    "# 6. BMI체질량지수\n",
    "# 7. 가족력\n",
    "# 8. 나이\n",
    "# 9. 당뇨병발병여부"
   ]
  },
  {
   "cell_type": "code",
   "execution_count": 5,
   "id": "21d2e985",
   "metadata": {
    "ExecuteTime": {
     "end_time": "2024-12-17T07:35:32.568491Z",
     "start_time": "2024-12-17T07:35:32.548211Z"
    }
   },
   "outputs": [
    {
     "data": {
      "text/plain": [
       "(768, 9)"
      ]
     },
     "execution_count": 5,
     "metadata": {},
     "output_type": "execute_result"
    }
   ],
   "source": [
    "# csv파일을 numpy 배열로 읽어오기 \n",
    "# np.loadtxt(), np.genfromtxt() \n",
    "# 이 있는 행은 제외하고 읽어옴\n",
    "# delimiter: 구분문자\n",
    "dataset = np.loadtxt('data/pima-indians-diabetes.csv', delimiter = ',') \n",
    "dataset.shape"
   ]
  },
  {
   "cell_type": "code",
   "execution_count": 6,
   "id": "2eb619b2",
   "metadata": {
    "ExecuteTime": {
     "end_time": "2024-12-17T07:35:32.584990Z",
     "start_time": "2024-12-17T07:35:32.572502Z"
    }
   },
   "outputs": [
    {
     "data": {
      "text/plain": [
       "((700, 8), (700,), (68, 8), (68,))"
      ]
     },
     "execution_count": 6,
     "metadata": {},
     "output_type": "execute_result"
    }
   ],
   "source": [
    "# 학습데이터셋(학습용 데이터: train dataset): 모델 학습 시 사용\n",
    "X_train = dataset[:700, :-1]\n",
    "y_train = dataset[:700, -1]\n",
    "# 테스트데이터셋(시험용 데이터: test dataset): 모델 평가 시 사용\n",
    "X_test = dataset[700:, :-1]\n",
    "y_test = dataset[700:, -1]\n",
    "X_train.shape, y_train.shape, X_test.shape, y_test.shape"
   ]
  },
  {
   "cell_type": "markdown",
   "id": "de47b5ce",
   "metadata": {},
   "source": [
    "## 2. Model 구성"
   ]
  },
  {
   "cell_type": "code",
   "execution_count": 7,
   "id": "d1dfde4a",
   "metadata": {
    "ExecuteTime": {
     "end_time": "2024-12-17T07:35:33.535057Z",
     "start_time": "2024-12-17T07:35:32.588979Z"
    }
   },
   "outputs": [
    {
     "name": "stdout",
     "output_type": "stream",
     "text": [
      "Model: \"sequential\"\n",
      "_________________________________________________________________\n",
      " Layer (type)                Output Shape              Param #   \n",
      "=================================================================\n",
      " dense (Dense)               (None, 12)                108       \n",
      "                                                                 \n",
      " dense_1 (Dense)             (None, 8)                 104       \n",
      "                                                                 \n",
      " dense_2 (Dense)             (None, 1)                 9         \n",
      "                                                                 \n",
      "=================================================================\n",
      "Total params: 221\n",
      "Trainable params: 221\n",
      "Non-trainable params: 0\n",
      "_________________________________________________________________\n"
     ]
    }
   ],
   "source": [
    "model = Sequential()\n",
    "model.add(Input(shape = (8, )))\n",
    "model.add(Dense(units = 12, \n",
    "                activation = 'relu'))\n",
    "model.add(Dense(units = 8, \n",
    "                activation = 'relu'))\n",
    "model.add(Dense(units = 1,\n",
    "                activation = 'sigmoid'))\n",
    "model.summary()"
   ]
  },
  {
   "cell_type": "markdown",
   "id": "e65cf77d",
   "metadata": {},
   "source": [
    "## 3. Training Process 설정"
   ]
  },
  {
   "cell_type": "code",
   "execution_count": 8,
   "id": "2191b9fe",
   "metadata": {
    "ExecuteTime": {
     "end_time": "2024-12-17T07:35:33.555951Z",
     "start_time": "2024-12-17T07:35:33.537052Z"
    }
   },
   "outputs": [],
   "source": [
    "# model.compile(loss = 'binary_crossentropy',\n",
    "#               optimizer = 'adam',\n",
    "#               metrics = ['accuracy'])\n",
    "model.compile(loss      = 'binary_crossentropy',\n",
    "              optimizer = 'adam',\n",
    "              metrics   = ['binary_accuracy'])"
   ]
  },
  {
   "cell_type": "markdown",
   "id": "7966041f",
   "metadata": {},
   "source": [
    "## 4. Training"
   ]
  },
  {
   "cell_type": "code",
   "execution_count": 9,
   "id": "1b4c5b9f",
   "metadata": {
    "ExecuteTime": {
     "end_time": "2024-12-17T07:35:58.603368Z",
     "start_time": "2024-12-17T07:35:33.557907Z"
    }
   },
   "outputs": [
    {
     "name": "stdout",
     "output_type": "stream",
     "text": [
      "Epoch 1/200\n",
      "22/22 [==============================] - 1s 6ms/step - loss: 3.7890 - binary_accuracy: 0.5429\n",
      "Epoch 2/200\n",
      "22/22 [==============================] - 0s 5ms/step - loss: 1.9142 - binary_accuracy: 0.5114\n",
      "Epoch 3/200\n",
      "22/22 [==============================] - 0s 5ms/step - loss: 1.3404 - binary_accuracy: 0.5157\n",
      "Epoch 4/200\n",
      "22/22 [==============================] - 0s 5ms/step - loss: 1.1405 - binary_accuracy: 0.5229\n",
      "Epoch 5/200\n",
      "22/22 [==============================] - 0s 4ms/step - loss: 0.9983 - binary_accuracy: 0.5643\n",
      "Epoch 6/200\n",
      "22/22 [==============================] - 0s 5ms/step - loss: 0.9021 - binary_accuracy: 0.6057\n",
      "Epoch 7/200\n",
      "22/22 [==============================] - 0s 5ms/step - loss: 0.8675 - binary_accuracy: 0.6014\n",
      "Epoch 8/200\n",
      "22/22 [==============================] - 0s 4ms/step - loss: 0.7912 - binary_accuracy: 0.6043\n",
      "Epoch 9/200\n",
      "22/22 [==============================] - 0s 5ms/step - loss: 0.7670 - binary_accuracy: 0.6171\n",
      "Epoch 10/200\n",
      "22/22 [==============================] - 0s 4ms/step - loss: 0.7603 - binary_accuracy: 0.6286\n",
      "Epoch 11/200\n",
      "22/22 [==============================] - 0s 4ms/step - loss: 0.7092 - binary_accuracy: 0.6457\n",
      "Epoch 12/200\n",
      "22/22 [==============================] - 0s 4ms/step - loss: 0.7134 - binary_accuracy: 0.6529\n",
      "Epoch 13/200\n",
      "22/22 [==============================] - 0s 5ms/step - loss: 0.7102 - binary_accuracy: 0.6443\n",
      "Epoch 14/200\n",
      "22/22 [==============================] - 0s 5ms/step - loss: 0.6973 - binary_accuracy: 0.6414\n",
      "Epoch 15/200\n",
      "22/22 [==============================] - 0s 5ms/step - loss: 0.6610 - binary_accuracy: 0.6614\n",
      "Epoch 16/200\n",
      "22/22 [==============================] - 0s 5ms/step - loss: 0.6662 - binary_accuracy: 0.6571\n",
      "Epoch 17/200\n",
      "22/22 [==============================] - 0s 5ms/step - loss: 0.6462 - binary_accuracy: 0.6600\n",
      "Epoch 18/200\n",
      "22/22 [==============================] - 0s 6ms/step - loss: 0.6431 - binary_accuracy: 0.6557\n",
      "Epoch 19/200\n",
      "22/22 [==============================] - 0s 5ms/step - loss: 0.6365 - binary_accuracy: 0.6771\n",
      "Epoch 20/200\n",
      "22/22 [==============================] - 0s 5ms/step - loss: 0.6391 - binary_accuracy: 0.6543\n",
      "Epoch 21/200\n",
      "22/22 [==============================] - 0s 5ms/step - loss: 0.6320 - binary_accuracy: 0.6700\n",
      "Epoch 22/200\n",
      "22/22 [==============================] - 0s 5ms/step - loss: 0.6209 - binary_accuracy: 0.6786\n",
      "Epoch 23/200\n",
      "22/22 [==============================] - 0s 5ms/step - loss: 0.6162 - binary_accuracy: 0.6743\n",
      "Epoch 24/200\n",
      "22/22 [==============================] - 0s 5ms/step - loss: 0.6234 - binary_accuracy: 0.6814\n",
      "Epoch 25/200\n",
      "22/22 [==============================] - 0s 5ms/step - loss: 0.6105 - binary_accuracy: 0.6843\n",
      "Epoch 26/200\n",
      "22/22 [==============================] - 0s 5ms/step - loss: 0.6113 - binary_accuracy: 0.6757\n",
      "Epoch 27/200\n",
      "22/22 [==============================] - 0s 5ms/step - loss: 0.6202 - binary_accuracy: 0.6786\n",
      "Epoch 28/200\n",
      "22/22 [==============================] - 0s 5ms/step - loss: 0.6205 - binary_accuracy: 0.6957\n",
      "Epoch 29/200\n",
      "22/22 [==============================] - 0s 5ms/step - loss: 0.6159 - binary_accuracy: 0.7100\n",
      "Epoch 30/200\n",
      "22/22 [==============================] - 0s 6ms/step - loss: 0.5938 - binary_accuracy: 0.6986\n",
      "Epoch 31/200\n",
      "22/22 [==============================] - 0s 5ms/step - loss: 0.6102 - binary_accuracy: 0.6886\n",
      "Epoch 32/200\n",
      "22/22 [==============================] - 0s 5ms/step - loss: 0.5861 - binary_accuracy: 0.7000\n",
      "Epoch 33/200\n",
      "22/22 [==============================] - 0s 5ms/step - loss: 0.6033 - binary_accuracy: 0.6943\n",
      "Epoch 34/200\n",
      "22/22 [==============================] - 0s 5ms/step - loss: 0.6010 - binary_accuracy: 0.6943\n",
      "Epoch 35/200\n",
      "22/22 [==============================] - 0s 5ms/step - loss: 0.5899 - binary_accuracy: 0.6957\n",
      "Epoch 36/200\n",
      "22/22 [==============================] - 0s 5ms/step - loss: 0.5990 - binary_accuracy: 0.6986\n",
      "Epoch 37/200\n",
      "22/22 [==============================] - 0s 4ms/step - loss: 0.5985 - binary_accuracy: 0.6886\n",
      "Epoch 38/200\n",
      "22/22 [==============================] - 0s 5ms/step - loss: 0.5786 - binary_accuracy: 0.7143\n",
      "Epoch 39/200\n",
      "22/22 [==============================] - 0s 6ms/step - loss: 0.5898 - binary_accuracy: 0.7029\n",
      "Epoch 40/200\n",
      "22/22 [==============================] - 0s 5ms/step - loss: 0.5851 - binary_accuracy: 0.7100\n",
      "Epoch 41/200\n",
      "22/22 [==============================] - 0s 4ms/step - loss: 0.5888 - binary_accuracy: 0.7100\n",
      "Epoch 42/200\n",
      "22/22 [==============================] - 0s 5ms/step - loss: 0.5910 - binary_accuracy: 0.6943\n",
      "Epoch 43/200\n",
      "22/22 [==============================] - 0s 5ms/step - loss: 0.5912 - binary_accuracy: 0.7071\n",
      "Epoch 44/200\n",
      "22/22 [==============================] - 0s 4ms/step - loss: 0.6152 - binary_accuracy: 0.6900\n",
      "Epoch 45/200\n",
      "22/22 [==============================] - 0s 5ms/step - loss: 0.6281 - binary_accuracy: 0.6871\n",
      "Epoch 46/200\n",
      "22/22 [==============================] - 0s 5ms/step - loss: 0.5915 - binary_accuracy: 0.6986\n",
      "Epoch 47/200\n",
      "22/22 [==============================] - 0s 5ms/step - loss: 0.5681 - binary_accuracy: 0.7086\n",
      "Epoch 48/200\n",
      "22/22 [==============================] - 0s 5ms/step - loss: 0.5764 - binary_accuracy: 0.7157\n",
      "Epoch 49/200\n",
      "22/22 [==============================] - 0s 5ms/step - loss: 0.5734 - binary_accuracy: 0.7071\n",
      "Epoch 50/200\n",
      "22/22 [==============================] - 0s 5ms/step - loss: 0.5733 - binary_accuracy: 0.7186\n",
      "Epoch 51/200\n",
      "22/22 [==============================] - 0s 5ms/step - loss: 0.5786 - binary_accuracy: 0.6900\n",
      "Epoch 52/200\n",
      "22/22 [==============================] - 0s 4ms/step - loss: 0.5851 - binary_accuracy: 0.7086\n",
      "Epoch 53/200\n",
      "22/22 [==============================] - 0s 5ms/step - loss: 0.5615 - binary_accuracy: 0.7257\n",
      "Epoch 54/200\n",
      "22/22 [==============================] - 0s 6ms/step - loss: 0.5741 - binary_accuracy: 0.7114\n",
      "Epoch 55/200\n",
      "22/22 [==============================] - 0s 5ms/step - loss: 0.5682 - binary_accuracy: 0.7271\n",
      "Epoch 56/200\n",
      "22/22 [==============================] - 0s 5ms/step - loss: 0.5683 - binary_accuracy: 0.7271\n",
      "Epoch 57/200\n",
      "22/22 [==============================] - 0s 6ms/step - loss: 0.5671 - binary_accuracy: 0.7100\n",
      "Epoch 58/200\n",
      "22/22 [==============================] - 0s 6ms/step - loss: 0.5631 - binary_accuracy: 0.7214\n",
      "Epoch 59/200\n",
      "22/22 [==============================] - 0s 5ms/step - loss: 0.5686 - binary_accuracy: 0.7214\n",
      "Epoch 60/200\n",
      "22/22 [==============================] - 0s 5ms/step - loss: 0.5660 - binary_accuracy: 0.7171\n",
      "Epoch 61/200\n",
      "22/22 [==============================] - 0s 5ms/step - loss: 0.5612 - binary_accuracy: 0.7157\n",
      "Epoch 62/200\n",
      "22/22 [==============================] - 0s 5ms/step - loss: 0.5678 - binary_accuracy: 0.7171\n",
      "Epoch 63/200\n",
      "22/22 [==============================] - 0s 5ms/step - loss: 0.5907 - binary_accuracy: 0.6971\n",
      "Epoch 64/200\n",
      "22/22 [==============================] - 0s 5ms/step - loss: 0.5764 - binary_accuracy: 0.7043\n",
      "Epoch 65/200\n",
      "22/22 [==============================] - 0s 5ms/step - loss: 0.5609 - binary_accuracy: 0.7014\n",
      "Epoch 66/200\n",
      "22/22 [==============================] - 0s 5ms/step - loss: 0.5660 - binary_accuracy: 0.7314\n",
      "Epoch 67/200\n",
      "22/22 [==============================] - 0s 5ms/step - loss: 0.5669 - binary_accuracy: 0.7186\n",
      "Epoch 68/200\n",
      "22/22 [==============================] - 0s 4ms/step - loss: 0.5492 - binary_accuracy: 0.7314\n",
      "Epoch 69/200\n",
      "22/22 [==============================] - 0s 5ms/step - loss: 0.5687 - binary_accuracy: 0.7171\n",
      "Epoch 70/200\n",
      "22/22 [==============================] - 0s 5ms/step - loss: 0.5655 - binary_accuracy: 0.7229\n",
      "Epoch 71/200\n",
      "22/22 [==============================] - 0s 6ms/step - loss: 0.5605 - binary_accuracy: 0.7229\n",
      "Epoch 72/200\n",
      "22/22 [==============================] - 0s 5ms/step - loss: 0.5666 - binary_accuracy: 0.7171\n",
      "Epoch 73/200\n",
      "22/22 [==============================] - 0s 6ms/step - loss: 0.5697 - binary_accuracy: 0.7186\n",
      "Epoch 74/200\n",
      "22/22 [==============================] - 0s 5ms/step - loss: 0.5793 - binary_accuracy: 0.7100\n",
      "Epoch 75/200\n",
      "22/22 [==============================] - 0s 6ms/step - loss: 0.5621 - binary_accuracy: 0.7200\n",
      "Epoch 76/200\n",
      "22/22 [==============================] - 0s 5ms/step - loss: 0.5526 - binary_accuracy: 0.7286\n",
      "Epoch 77/200\n",
      "22/22 [==============================] - 0s 5ms/step - loss: 0.5516 - binary_accuracy: 0.7400\n",
      "Epoch 78/200\n",
      "22/22 [==============================] - 0s 5ms/step - loss: 0.5459 - binary_accuracy: 0.7300\n",
      "Epoch 79/200\n",
      "22/22 [==============================] - 0s 4ms/step - loss: 0.5596 - binary_accuracy: 0.7114\n",
      "Epoch 80/200\n",
      "22/22 [==============================] - 0s 6ms/step - loss: 0.5548 - binary_accuracy: 0.7200\n",
      "Epoch 81/200\n",
      "22/22 [==============================] - 0s 5ms/step - loss: 0.5545 - binary_accuracy: 0.7286\n",
      "Epoch 82/200\n",
      "22/22 [==============================] - 0s 6ms/step - loss: 0.5527 - binary_accuracy: 0.7200\n",
      "Epoch 83/200\n",
      "22/22 [==============================] - 0s 5ms/step - loss: 0.5504 - binary_accuracy: 0.7214\n",
      "Epoch 84/200\n",
      "22/22 [==============================] - 0s 5ms/step - loss: 0.5582 - binary_accuracy: 0.7286\n",
      "Epoch 85/200\n",
      "22/22 [==============================] - 0s 5ms/step - loss: 0.5466 - binary_accuracy: 0.7414\n",
      "Epoch 86/200\n",
      "22/22 [==============================] - 0s 5ms/step - loss: 0.5441 - binary_accuracy: 0.7286\n",
      "Epoch 87/200\n",
      "22/22 [==============================] - 0s 5ms/step - loss: 0.5459 - binary_accuracy: 0.7229\n",
      "Epoch 88/200\n",
      "22/22 [==============================] - 0s 5ms/step - loss: 0.5625 - binary_accuracy: 0.7271\n",
      "Epoch 89/200\n",
      "22/22 [==============================] - 0s 5ms/step - loss: 0.5485 - binary_accuracy: 0.7271\n",
      "Epoch 90/200\n",
      "22/22 [==============================] - 0s 5ms/step - loss: 0.5560 - binary_accuracy: 0.7343\n",
      "Epoch 91/200\n",
      "22/22 [==============================] - 0s 6ms/step - loss: 0.5525 - binary_accuracy: 0.7400\n",
      "Epoch 92/200\n",
      "22/22 [==============================] - 0s 6ms/step - loss: 0.5473 - binary_accuracy: 0.7300\n",
      "Epoch 93/200\n",
      "22/22 [==============================] - 0s 6ms/step - loss: 0.5434 - binary_accuracy: 0.7243\n",
      "Epoch 94/200\n",
      "22/22 [==============================] - 0s 5ms/step - loss: 0.5772 - binary_accuracy: 0.7186\n",
      "Epoch 95/200\n",
      "22/22 [==============================] - 0s 5ms/step - loss: 0.5919 - binary_accuracy: 0.6914\n",
      "Epoch 96/200\n",
      "22/22 [==============================] - 0s 6ms/step - loss: 0.5545 - binary_accuracy: 0.7257\n",
      "Epoch 97/200\n",
      "22/22 [==============================] - 0s 5ms/step - loss: 0.5341 - binary_accuracy: 0.7286\n",
      "Epoch 98/200\n",
      "22/22 [==============================] - 0s 6ms/step - loss: 0.5421 - binary_accuracy: 0.7457\n",
      "Epoch 99/200\n",
      "22/22 [==============================] - 0s 6ms/step - loss: 0.5430 - binary_accuracy: 0.7371\n",
      "Epoch 100/200\n",
      "22/22 [==============================] - 0s 5ms/step - loss: 0.5942 - binary_accuracy: 0.7129\n",
      "Epoch 101/200\n",
      "22/22 [==============================] - 0s 5ms/step - loss: 0.5627 - binary_accuracy: 0.7343\n",
      "Epoch 102/200\n",
      "22/22 [==============================] - 0s 6ms/step - loss: 0.5581 - binary_accuracy: 0.7357\n",
      "Epoch 103/200\n",
      "22/22 [==============================] - 0s 5ms/step - loss: 0.5369 - binary_accuracy: 0.7343\n",
      "Epoch 104/200\n",
      "22/22 [==============================] - 0s 6ms/step - loss: 0.5372 - binary_accuracy: 0.7429\n",
      "Epoch 105/200\n",
      "22/22 [==============================] - 0s 5ms/step - loss: 0.5599 - binary_accuracy: 0.7329\n",
      "Epoch 106/200\n",
      "22/22 [==============================] - 0s 6ms/step - loss: 0.5585 - binary_accuracy: 0.7229\n",
      "Epoch 107/200\n",
      "22/22 [==============================] - 0s 6ms/step - loss: 0.5383 - binary_accuracy: 0.7386\n",
      "Epoch 108/200\n",
      "22/22 [==============================] - 0s 5ms/step - loss: 0.5406 - binary_accuracy: 0.7257\n",
      "Epoch 109/200\n",
      "22/22 [==============================] - 0s 6ms/step - loss: 0.5391 - binary_accuracy: 0.7214\n",
      "Epoch 110/200\n",
      "22/22 [==============================] - 0s 6ms/step - loss: 0.5340 - binary_accuracy: 0.7429\n",
      "Epoch 111/200\n",
      "22/22 [==============================] - 0s 5ms/step - loss: 0.5358 - binary_accuracy: 0.7314\n",
      "Epoch 112/200\n",
      "22/22 [==============================] - 0s 5ms/step - loss: 0.5348 - binary_accuracy: 0.7386\n",
      "Epoch 113/200\n",
      "22/22 [==============================] - 0s 5ms/step - loss: 0.5401 - binary_accuracy: 0.7371\n",
      "Epoch 114/200\n",
      "22/22 [==============================] - 0s 5ms/step - loss: 0.5330 - binary_accuracy: 0.7400\n",
      "Epoch 115/200\n",
      "22/22 [==============================] - 0s 5ms/step - loss: 0.5296 - binary_accuracy: 0.7271\n",
      "Epoch 116/200\n",
      "22/22 [==============================] - 0s 6ms/step - loss: 0.5315 - binary_accuracy: 0.7300\n",
      "Epoch 117/200\n",
      "22/22 [==============================] - 0s 6ms/step - loss: 0.5291 - binary_accuracy: 0.7357\n",
      "Epoch 118/200\n",
      "22/22 [==============================] - 0s 6ms/step - loss: 0.5400 - binary_accuracy: 0.7314\n",
      "Epoch 119/200\n",
      "22/22 [==============================] - 0s 5ms/step - loss: 0.5477 - binary_accuracy: 0.7200\n",
      "Epoch 120/200\n",
      "22/22 [==============================] - 0s 6ms/step - loss: 0.5359 - binary_accuracy: 0.7329\n",
      "Epoch 121/200\n",
      "22/22 [==============================] - 0s 5ms/step - loss: 0.5335 - binary_accuracy: 0.7371\n",
      "Epoch 122/200\n",
      "22/22 [==============================] - 0s 5ms/step - loss: 0.5775 - binary_accuracy: 0.7129\n",
      "Epoch 123/200\n",
      "22/22 [==============================] - 0s 5ms/step - loss: 0.5534 - binary_accuracy: 0.7386\n",
      "Epoch 124/200\n",
      "22/22 [==============================] - 0s 6ms/step - loss: 0.5477 - binary_accuracy: 0.7414\n",
      "Epoch 125/200\n",
      "22/22 [==============================] - 0s 6ms/step - loss: 0.5178 - binary_accuracy: 0.7514\n",
      "Epoch 126/200\n",
      "22/22 [==============================] - 0s 5ms/step - loss: 0.5373 - binary_accuracy: 0.7200\n",
      "Epoch 127/200\n",
      "22/22 [==============================] - 0s 5ms/step - loss: 0.5243 - binary_accuracy: 0.7529\n",
      "Epoch 128/200\n",
      "22/22 [==============================] - 0s 6ms/step - loss: 0.5326 - binary_accuracy: 0.7386\n",
      "Epoch 129/200\n",
      "22/22 [==============================] - 0s 6ms/step - loss: 0.5305 - binary_accuracy: 0.7471\n",
      "Epoch 130/200\n",
      "22/22 [==============================] - 0s 5ms/step - loss: 0.5282 - binary_accuracy: 0.7429\n",
      "Epoch 131/200\n",
      "22/22 [==============================] - 0s 6ms/step - loss: 0.5484 - binary_accuracy: 0.7186\n",
      "Epoch 132/200\n",
      "22/22 [==============================] - 0s 6ms/step - loss: 0.5484 - binary_accuracy: 0.7257\n",
      "Epoch 133/200\n",
      "22/22 [==============================] - 0s 6ms/step - loss: 0.5347 - binary_accuracy: 0.7371\n",
      "Epoch 134/200\n",
      "22/22 [==============================] - 0s 5ms/step - loss: 0.5240 - binary_accuracy: 0.7400\n",
      "Epoch 135/200\n",
      "22/22 [==============================] - 0s 6ms/step - loss: 0.5299 - binary_accuracy: 0.7429\n",
      "Epoch 136/200\n",
      "22/22 [==============================] - 0s 5ms/step - loss: 0.5356 - binary_accuracy: 0.7386\n",
      "Epoch 137/200\n",
      "22/22 [==============================] - 0s 5ms/step - loss: 0.5286 - binary_accuracy: 0.7414\n",
      "Epoch 138/200\n",
      "22/22 [==============================] - 0s 5ms/step - loss: 0.5241 - binary_accuracy: 0.7471\n",
      "Epoch 139/200\n",
      "22/22 [==============================] - 0s 5ms/step - loss: 0.5320 - binary_accuracy: 0.7443\n",
      "Epoch 140/200\n",
      "22/22 [==============================] - 0s 6ms/step - loss: 0.5265 - binary_accuracy: 0.7300\n",
      "Epoch 141/200\n",
      "22/22 [==============================] - 0s 5ms/step - loss: 0.5349 - binary_accuracy: 0.7486\n",
      "Epoch 142/200\n",
      "22/22 [==============================] - 0s 7ms/step - loss: 0.5264 - binary_accuracy: 0.7429\n",
      "Epoch 143/200\n",
      "22/22 [==============================] - 0s 5ms/step - loss: 0.5426 - binary_accuracy: 0.7443\n",
      "Epoch 144/200\n",
      "22/22 [==============================] - 0s 6ms/step - loss: 0.5508 - binary_accuracy: 0.7329\n",
      "Epoch 145/200\n",
      "22/22 [==============================] - 0s 6ms/step - loss: 0.5187 - binary_accuracy: 0.7400\n",
      "Epoch 146/200\n",
      "22/22 [==============================] - 0s 5ms/step - loss: 0.5235 - binary_accuracy: 0.7443\n",
      "Epoch 147/200\n",
      "22/22 [==============================] - 0s 6ms/step - loss: 0.5341 - binary_accuracy: 0.7314\n",
      "Epoch 148/200\n",
      "22/22 [==============================] - 0s 6ms/step - loss: 0.5251 - binary_accuracy: 0.7457\n",
      "Epoch 149/200\n",
      "22/22 [==============================] - 0s 5ms/step - loss: 0.5257 - binary_accuracy: 0.7371\n",
      "Epoch 150/200\n",
      "22/22 [==============================] - 0s 6ms/step - loss: 0.5265 - binary_accuracy: 0.7486\n",
      "Epoch 151/200\n",
      "22/22 [==============================] - 0s 5ms/step - loss: 0.5340 - binary_accuracy: 0.7614\n",
      "Epoch 152/200\n",
      "22/22 [==============================] - 0s 6ms/step - loss: 0.5346 - binary_accuracy: 0.7543\n",
      "Epoch 153/200\n"
     ]
    },
    {
     "name": "stdout",
     "output_type": "stream",
     "text": [
      "22/22 [==============================] - 0s 6ms/step - loss: 0.5353 - binary_accuracy: 0.7400\n",
      "Epoch 154/200\n",
      "22/22 [==============================] - 0s 6ms/step - loss: 0.5165 - binary_accuracy: 0.7557\n",
      "Epoch 155/200\n",
      "22/22 [==============================] - 0s 6ms/step - loss: 0.5202 - binary_accuracy: 0.7471\n",
      "Epoch 156/200\n",
      "22/22 [==============================] - 0s 5ms/step - loss: 0.5106 - binary_accuracy: 0.7514\n",
      "Epoch 157/200\n",
      "22/22 [==============================] - 0s 6ms/step - loss: 0.5206 - binary_accuracy: 0.7471\n",
      "Epoch 158/200\n",
      "22/22 [==============================] - 0s 6ms/step - loss: 0.5212 - binary_accuracy: 0.7543\n",
      "Epoch 159/200\n",
      "22/22 [==============================] - 0s 5ms/step - loss: 0.5176 - binary_accuracy: 0.7571\n",
      "Epoch 160/200\n",
      "22/22 [==============================] - 0s 5ms/step - loss: 0.5138 - binary_accuracy: 0.7571\n",
      "Epoch 161/200\n",
      "22/22 [==============================] - 0s 5ms/step - loss: 0.5247 - binary_accuracy: 0.7300\n",
      "Epoch 162/200\n",
      "22/22 [==============================] - 0s 6ms/step - loss: 0.5323 - binary_accuracy: 0.7371\n",
      "Epoch 163/200\n",
      "22/22 [==============================] - 0s 6ms/step - loss: 0.5185 - binary_accuracy: 0.7457\n",
      "Epoch 164/200\n",
      "22/22 [==============================] - 0s 5ms/step - loss: 0.5197 - binary_accuracy: 0.7586\n",
      "Epoch 165/200\n",
      "22/22 [==============================] - 0s 5ms/step - loss: 0.5137 - binary_accuracy: 0.7529\n",
      "Epoch 166/200\n",
      "22/22 [==============================] - 0s 6ms/step - loss: 0.5114 - binary_accuracy: 0.7557\n",
      "Epoch 167/200\n",
      "22/22 [==============================] - 0s 6ms/step - loss: 0.5125 - binary_accuracy: 0.7543\n",
      "Epoch 168/200\n",
      "22/22 [==============================] - 0s 5ms/step - loss: 0.5296 - binary_accuracy: 0.7386\n",
      "Epoch 169/200\n",
      "22/22 [==============================] - 0s 5ms/step - loss: 0.5195 - binary_accuracy: 0.7429\n",
      "Epoch 170/200\n",
      "22/22 [==============================] - 0s 5ms/step - loss: 0.5171 - binary_accuracy: 0.7614\n",
      "Epoch 171/200\n",
      "22/22 [==============================] - 0s 6ms/step - loss: 0.5220 - binary_accuracy: 0.7543\n",
      "Epoch 172/200\n",
      "22/22 [==============================] - 0s 5ms/step - loss: 0.5243 - binary_accuracy: 0.7543\n",
      "Epoch 173/200\n",
      "22/22 [==============================] - 0s 6ms/step - loss: 0.5445 - binary_accuracy: 0.7214\n",
      "Epoch 174/200\n",
      "22/22 [==============================] - 0s 6ms/step - loss: 0.5168 - binary_accuracy: 0.7514\n",
      "Epoch 175/200\n",
      "22/22 [==============================] - 0s 6ms/step - loss: 0.5364 - binary_accuracy: 0.7414\n",
      "Epoch 176/200\n",
      "22/22 [==============================] - 0s 5ms/step - loss: 0.5321 - binary_accuracy: 0.7357\n",
      "Epoch 177/200\n",
      "22/22 [==============================] - 0s 5ms/step - loss: 0.5116 - binary_accuracy: 0.7643\n",
      "Epoch 178/200\n",
      "22/22 [==============================] - 0s 5ms/step - loss: 0.5092 - binary_accuracy: 0.7586\n",
      "Epoch 179/200\n",
      "22/22 [==============================] - 0s 5ms/step - loss: 0.5206 - binary_accuracy: 0.7457\n",
      "Epoch 180/200\n",
      "22/22 [==============================] - 0s 5ms/step - loss: 0.5137 - binary_accuracy: 0.7457\n",
      "Epoch 181/200\n",
      "22/22 [==============================] - 0s 6ms/step - loss: 0.5436 - binary_accuracy: 0.7314\n",
      "Epoch 182/200\n",
      "22/22 [==============================] - 0s 5ms/step - loss: 0.5222 - binary_accuracy: 0.7443\n",
      "Epoch 183/200\n",
      "22/22 [==============================] - 0s 5ms/step - loss: 0.5168 - binary_accuracy: 0.7529\n",
      "Epoch 184/200\n",
      "22/22 [==============================] - 0s 5ms/step - loss: 0.5268 - binary_accuracy: 0.7543\n",
      "Epoch 185/200\n",
      "22/22 [==============================] - 0s 6ms/step - loss: 0.5178 - binary_accuracy: 0.7429\n",
      "Epoch 186/200\n",
      "22/22 [==============================] - 0s 5ms/step - loss: 0.5005 - binary_accuracy: 0.7700\n",
      "Epoch 187/200\n",
      "22/22 [==============================] - 0s 6ms/step - loss: 0.5334 - binary_accuracy: 0.7414\n",
      "Epoch 188/200\n",
      "22/22 [==============================] - 0s 5ms/step - loss: 0.5106 - binary_accuracy: 0.7557\n",
      "Epoch 189/200\n",
      "22/22 [==============================] - 0s 6ms/step - loss: 0.5198 - binary_accuracy: 0.7414\n",
      "Epoch 190/200\n",
      "22/22 [==============================] - 0s 6ms/step - loss: 0.5106 - binary_accuracy: 0.7657\n",
      "Epoch 191/200\n",
      "22/22 [==============================] - 0s 5ms/step - loss: 0.5009 - binary_accuracy: 0.7529\n",
      "Epoch 192/200\n",
      "22/22 [==============================] - 0s 5ms/step - loss: 0.5108 - binary_accuracy: 0.7529\n",
      "Epoch 193/200\n",
      "22/22 [==============================] - 0s 5ms/step - loss: 0.5158 - binary_accuracy: 0.7357\n",
      "Epoch 194/200\n",
      "22/22 [==============================] - 0s 6ms/step - loss: 0.5181 - binary_accuracy: 0.7543\n",
      "Epoch 195/200\n",
      "22/22 [==============================] - 0s 6ms/step - loss: 0.5532 - binary_accuracy: 0.7429\n",
      "Epoch 196/200\n",
      "22/22 [==============================] - 0s 7ms/step - loss: 0.5126 - binary_accuracy: 0.7386\n",
      "Epoch 197/200\n",
      "22/22 [==============================] - 0s 6ms/step - loss: 0.5239 - binary_accuracy: 0.7371\n",
      "Epoch 198/200\n",
      "22/22 [==============================] - 0s 6ms/step - loss: 0.5098 - binary_accuracy: 0.7614\n",
      "Epoch 199/200\n",
      "22/22 [==============================] - 0s 5ms/step - loss: 0.5089 - binary_accuracy: 0.7571\n",
      "Epoch 200/200\n",
      "22/22 [==============================] - 0s 6ms/step - loss: 0.5041 - binary_accuracy: 0.7657\n"
     ]
    }
   ],
   "source": [
    "hist = model.fit(X_train, y_train, # train dataset\n",
    "                 epochs = 200,\n",
    "                 # batch_size = 350,\n",
    "                 # validation_split = 0.2, # 검증 데이터 비율(훈련데이터셋 중 20%를 검증용 데이터로)\n",
    "                 verbose = 1\n",
    "                )"
   ]
  },
  {
   "cell_type": "markdown",
   "id": "6b309bc4",
   "metadata": {},
   "source": [
    "## 5. Model 평가(학습과정 보기, 평가)"
   ]
  },
  {
   "cell_type": "code",
   "execution_count": 10,
   "id": "99753e1d",
   "metadata": {
    "ExecuteTime": {
     "end_time": "2024-12-17T07:35:58.620008Z",
     "start_time": "2024-12-17T07:35:58.606360Z"
    }
   },
   "outputs": [
    {
     "data": {
      "text/plain": [
       "dict_keys(['loss', 'binary_accuracy'])"
      ]
     },
     "execution_count": 10,
     "metadata": {},
     "output_type": "execute_result"
    }
   ],
   "source": [
    "hist.history.keys()"
   ]
  },
  {
   "cell_type": "code",
   "execution_count": 11,
   "id": "6a7939ec",
   "metadata": {
    "ExecuteTime": {
     "end_time": "2024-12-17T07:35:58.971319Z",
     "start_time": "2024-12-17T07:35:58.622999Z"
    }
   },
   "outputs": [
    {
     "data": {
      "image/png": "[encoded data removed]",
      "text/plain": [
       "<Figure size 1000x500 with 2 Axes>"
      ]
     },
     "metadata": {},
     "output_type": "display_data"
    }
   ],
   "source": [
    "# 학습과정 표시하기(validation dataset 없는 경우)\n",
    "fig, loss_ax = plt.subplots(figsize = (10, 5))\n",
    "loss_ax.plot(hist.history['loss'], 'r', label = 'train loss')\n",
    "loss_ax.set_xlabel('epoch')\n",
    "loss_ax.set_ylabel('loss')\n",
    "acc_ax = loss_ax.twinx()\n",
    "acc_ax.plot(hist.history['binary_accuracy'], 'b', label = 'train accuarcy')\n",
    "acc_ax.set_ylabel('accuracy')\n",
    "loss_ax.legend(loc = 'center right')\n",
    "acc_ax.legend(bbox_to_anchor = (0.999, 0.65))\n",
    "plt.show()"
   ]
  },
  {
   "cell_type": "code",
   "execution_count": 20,
   "id": "a903f88f",
   "metadata": {
    "ExecuteTime": {
     "end_time": "2024-12-17T07:44:14.490795Z",
     "start_time": "2024-12-17T07:44:14.323279Z"
    }
   },
   "outputs": [
    {
     "name": "stdout",
     "output_type": "stream",
     "text": [
      "22/22 [==============================] - 0s 5ms/step - loss: 0.4954 - binary_accuracy: 0.7614\n"
     ]
    },
    {
     "data": {
      "text/plain": [
       "[0.4953654706478119, 0.7614285945892334]"
      ]
     },
     "execution_count": 20,
     "metadata": {},
     "output_type": "execute_result"
    }
   ],
   "source": [
    "# 모델 평가(X) \n",
    "model.evaluate(X_train, y_train)"
   ]
  },
  {
   "cell_type": "code",
   "execution_count": 21,
   "id": "4f8ae644",
   "metadata": {
    "ExecuteTime": {
     "end_time": "2024-12-17T07:44:19.317289Z",
     "start_time": "2024-12-17T07:44:19.218557Z"
    }
   },
   "outputs": [
    {
     "name": "stdout",
     "output_type": "stream",
     "text": [
      "3/3 [==============================] - 0s 8ms/step - loss: 0.6197 - binary_accuracy: 0.6765\n",
      "loss: 0.6197272539138794, accuracy:67.64705777168274%\n"
     ]
    }
   ],
   "source": [
    "# 모델 평가(o)\n",
    "score = model.evaluate(X_test, y_test)\n",
    "print('loss: {}, accuracy:{}%'.format(score[0], score[1]*100))"
   ]
  },
  {
   "cell_type": "markdown",
   "id": "45f268f9",
   "metadata": {},
   "source": [
    "## 6. Model 사용하기"
   ]
  },
  {
   "cell_type": "code",
   "execution_count": 35,
   "id": "0d18c8a0",
   "metadata": {
    "ExecuteTime": {
     "end_time": "2024-12-17T07:45:14.297777Z",
     "start_time": "2024-12-17T07:45:14.290817Z"
    }
   },
   "outputs": [
    {
     "data": {
      "text/plain": [
       "(array([  4.   , 110.   ,  92.   ,   0.   ,   0.   ,  37.6  ,   0.191,\n",
       "         30.   ]),\n",
       " 0.0)"
      ]
     },
     "execution_count": 35,
     "metadata": {},
     "output_type": "execute_result"
    }
   ],
   "source": [
    "X_train[10], y_train[10]"
   ]
  },
  {
   "cell_type": "code",
   "execution_count": 36,
   "id": "33af2c59",
   "metadata": {
    "ExecuteTime": {
     "end_time": "2024-12-17T07:45:38.092223Z",
     "start_time": "2024-12-17T07:45:37.994827Z"
    }
   },
   "outputs": [
    {
     "name": "stdout",
     "output_type": "stream",
     "text": [
      "1/1 [==============================] - 0s 49ms/step\n"
     ]
    },
    {
     "data": {
      "text/plain": [
       "array([[0.21552609]], dtype=float32)"
      ]
     },
     "execution_count": 36,
     "metadata": {},
     "output_type": "execute_result"
    }
   ],
   "source": [
    "model.predict([[4, 110, 92, 0, 0, 37.6, 0.191, 30]])"
   ]
  },
  {
   "cell_type": "code",
   "execution_count": 37,
   "id": "76650a26",
   "metadata": {
    "ExecuteTime": {
     "end_time": "2024-12-17T07:46:32.004928Z",
     "start_time": "2024-12-17T07:46:31.898683Z"
    }
   },
   "outputs": [
    {
     "name": "stdout",
     "output_type": "stream",
     "text": [
      "1/1 [==============================] - 0s 52ms/step\n"
     ]
    },
    {
     "data": {
      "text/plain": [
       "array([[0],\n",
       "       [0]])"
      ]
     },
     "execution_count": 37,
     "metadata": {},
     "output_type": "execute_result"
    }
   ],
   "source": [
    "(model.predict([[4, 110, 92, 0, 0, 37.6, 0.191, 30],\n",
    "               [6, 148, 72, 35, 0, 33.6, 0.6, 50]]) > 0.5).astype(int)"
   ]
  },
  {
   "cell_type": "markdown",
   "id": "3ff22863",
   "metadata": {},
   "source": [
    "## 7. Cross-Tabulation 교차표\n",
    "- test dataset 의 실제값(y_test)와 예측값"
   ]
  },
  {
   "cell_type": "code",
   "execution_count": 45,
   "id": "9c16dcc6",
   "metadata": {
    "ExecuteTime": {
     "end_time": "2024-12-17T07:58:18.540611Z",
     "start_time": "2024-12-17T07:58:18.451885Z"
    }
   },
   "outputs": [
    {
     "name": "stdout",
     "output_type": "stream",
     "text": [
      "3/3 [==============================] - 0s 3ms/step\n",
      "10 17\n",
      "5 36\n"
     ]
    }
   ],
   "source": [
    "y_hat = (model.predict(X_test) > 0.5).astype(float)\n",
    "cnt1 = 0; cnt2 = 0; cnt3 = 0; cnt4 = 0\n",
    "# y_hat.shape, y_test.shape\n",
    "for h, y in zip(y_hat.reshape(-1), y_test.reshape(-1)):\n",
    "    if h == 1.0 and y == 1.0:\n",
    "        cnt1 += 1\n",
    "    elif y == 1.0 and h == 0.0:\n",
    "        cnt2 += 1\n",
    "    elif y == 0.0 and h == 1.0:\n",
    "        cnt3 += 1\n",
    "    else:\n",
    "        cnt4 += 1\n",
    "print(cnt1, cnt2)\n",
    "print(cnt3, cnt4)"
   ]
  },
  {
   "cell_type": "code",
   "execution_count": 49,
   "id": "45a7118b",
   "metadata": {
    "ExecuteTime": {
     "end_time": "2024-12-17T08:01:58.521763Z",
     "start_time": "2024-12-17T08:01:58.490518Z"
    }
   },
   "outputs": [
    {
     "data": {
      "text/html": [
       "<div>\n",
       "<style scoped>\n",
       "    .dataframe tbody tr th:only-of-type {\n",
       "        vertical-align: middle;\n",
       "    }\n",
       "\n",
       "    .dataframe tbody tr th {\n",
       "        vertical-align: top;\n",
       "    }\n",
       "\n",
       "    .dataframe thead th {\n",
       "        text-align: right;\n",
       "    }\n",
       "</style>\n",
       "<table border=\"1\" class=\"dataframe\">\n",
       "  <thead>\n",
       "    <tr style=\"text-align: right;\">\n",
       "      <th>y_hat</th>\n",
       "      <th>0.0</th>\n",
       "      <th>1.0</th>\n",
       "    </tr>\n",
       "    <tr>\n",
       "      <th>y</th>\n",
       "      <th></th>\n",
       "      <th></th>\n",
       "    </tr>\n",
       "  </thead>\n",
       "  <tbody>\n",
       "    <tr>\n",
       "      <th>0.0</th>\n",
       "      <td>36</td>\n",
       "      <td>5</td>\n",
       "    </tr>\n",
       "    <tr>\n",
       "      <th>1.0</th>\n",
       "      <td>17</td>\n",
       "      <td>10</td>\n",
       "    </tr>\n",
       "  </tbody>\n",
       "</table>\n",
       "</div>"
      ],
      "text/plain": [
       "y_hat  0.0  1.0\n",
       "y              \n",
       "0.0     36    5\n",
       "1.0     17   10"
      ]
     },
     "execution_count": 49,
     "metadata": {},
     "output_type": "execute_result"
    }
   ],
   "source": [
    "ctab = pd.crosstab(y_test, y_hat.reshape(-1))\n",
    "ctab.index.name = 'y'\n",
    "ctab.columns.name = 'y_hat'\n",
    "ctab"
   ]
  },
  {
   "cell_type": "markdown",
   "id": "5bc8745a",
   "metadata": {},
   "source": [
    "# Multinomial Classification, 분류분석\n",
    "```\n",
    "1. Dataset (train 600 / validation 100 / test 68으로 분리), 종속변수의 One-Hot Encoding\n",
    "2. Model 생성 (input 8, target 2): 출력층에서의 activation function은 'softmax'\n",
    "3. Training Process 설정 (loss = 'categorical_crossentropy', metrics = ['accuracy'])\n",
    "4. Training: validation_data = [X_val, Y_val] 추가\n",
    "5. Model 평가: 그래프(hist.history.keys()를 확인 후 4가지)\n",
    "               평가(X_test, Y_test)\n",
    "               Cross-Tablulation 교차표(pd.crosstab 이용)\n",
    "6. 모델 사용하기 - 예측\n",
    "                  0       1\n",
    "                  0.9912  0.00124\n",
    "```"
   ]
  },
  {
   "cell_type": "code",
   "execution_count": 17,
   "id": "713dbd2c",
   "metadata": {
    "ExecuteTime": {
     "end_time": "2024-12-18T00:54:13.827845Z",
     "start_time": "2024-12-18T00:54:13.821861Z"
    }
   },
   "outputs": [],
   "source": [
    "import numpy as np\n",
    "import pandas as pd\n",
    "import sys\n",
    "from tensorflow.keras.utils import to_categorical # utils.to_categorical\n",
    "from tensorflow.keras.models import Sequential # 모델생성\n",
    "from tensorflow .keras.layers import Dense, Input\n",
    "import matplotlib.pyplot as plt\n",
    "from tensorflow.keras.utils import to_categorical"
   ]
  },
  {
   "cell_type": "markdown",
   "id": "01eeca03",
   "metadata": {},
   "source": [
    "### dataset"
   ]
  },
  {
   "cell_type": "code",
   "execution_count": 18,
   "id": "8f1a10b6",
   "metadata": {
    "ExecuteTime": {
     "end_time": "2024-12-18T00:54:17.544256Z",
     "start_time": "2024-12-18T00:54:17.525617Z"
    }
   },
   "outputs": [
    {
     "data": {
      "text/plain": [
       "array([[  6.   , 148.   ,  72.   ,  35.   ,   0.   ,  33.6  ,   0.627,\n",
       "         50.   ,   1.   ],\n",
       "       [  1.   ,  85.   ,  66.   ,  29.   ,   0.   ,  26.6  ,   0.351,\n",
       "         31.   ,   0.   ]])"
      ]
     },
     "execution_count": 18,
     "metadata": {},
     "output_type": "execute_result"
    }
   ],
   "source": [
    "dataset = np.loadtxt('data/pima-indians-diabetes.csv', delimiter = ',')\n",
    "dataset[:2]"
   ]
  },
  {
   "cell_type": "code",
   "execution_count": 19,
   "id": "df304de0",
   "metadata": {
    "ExecuteTime": {
     "end_time": "2024-12-18T00:54:18.238416Z",
     "start_time": "2024-12-18T00:54:18.230438Z"
    }
   },
   "outputs": [
    {
     "data": {
      "text/plain": [
       "((600, 8), (600, 2), (100, 8), (100, 2), (68, 8), (68, 2))"
      ]
     },
     "execution_count": 19,
     "metadata": {},
     "output_type": "execute_result"
    }
   ],
   "source": [
    "# train dataset\n",
    "X_train = dataset[:600, :-1]\n",
    "y_train = dataset[:600, -1]\n",
    "# validation dataset\n",
    "X_val = dataset[600:700, :-1]\n",
    "y_val = dataset[600:700, -1]\n",
    "# test dataset\n",
    "X_test = dataset[700:, :-1]\n",
    "y_test = dataset[700:, -1]\n",
    "X_train.shape, Y_train.shape, X_val.shape, Y_val.shape, X_test.shape, Y_test.shape"
   ]
  },
  {
   "cell_type": "markdown",
   "id": "fb73a67d",
   "metadata": {},
   "source": [
    "### one-hot encoding"
   ]
  },
  {
   "cell_type": "code",
   "execution_count": 20,
   "id": "9e91b462",
   "metadata": {
    "ExecuteTime": {
     "end_time": "2024-12-18T00:54:19.606179Z",
     "start_time": "2024-12-18T00:54:19.598173Z"
    }
   },
   "outputs": [
    {
     "data": {
      "text/plain": [
       "(array([[0., 1.],\n",
       "        [1., 0.]], dtype=float32),\n",
       " array([[1., 0.],\n",
       "        [1., 0.]], dtype=float32),\n",
       " array([[1., 0.],\n",
       "        [0., 1.]], dtype=float32))"
      ]
     },
     "execution_count": 20,
     "metadata": {},
     "output_type": "execute_result"
    }
   ],
   "source": [
    "# One-Hot Encoding\n",
    "Y_train = to_categorical(y_train)\n",
    "Y_val = to_categorical(y_val)\n",
    "Y_test = to_categorical(y_test)\n",
    "Y_train[:2], Y_val[:2], Y_test[:2]"
   ]
  },
  {
   "cell_type": "markdown",
   "id": "519f1a7f",
   "metadata": {},
   "source": [
    "### model 생성"
   ]
  },
  {
   "cell_type": "code",
   "execution_count": 29,
   "id": "160ec221",
   "metadata": {
    "ExecuteTime": {
     "end_time": "2024-12-18T00:57:36.305672Z",
     "start_time": "2024-12-18T00:57:36.222988Z"
    }
   },
   "outputs": [
    {
     "name": "stdout",
     "output_type": "stream",
     "text": [
      "Model: \"sequential_2\"\n",
      "_________________________________________________________________\n",
      " Layer (type)                Output Shape              Param #   \n",
      "=================================================================\n",
      " dense_8 (Dense)             (None, 12)                108       \n",
      "                                                                 \n",
      " dense_9 (Dense)             (None, 8)                 104       \n",
      "                                                                 \n",
      " dense_10 (Dense)            (None, 2)                 18        \n",
      "                                                                 \n",
      "=================================================================\n",
      "Total params: 230\n",
      "Trainable params: 230\n",
      "Non-trainable params: 0\n",
      "_________________________________________________________________\n"
     ]
    }
   ],
   "source": [
    "# Model 생성\n",
    "model = Sequential()\n",
    "model.add(Input(shape = (8)))\n",
    "model.add(Dense(units = 12,\n",
    "                activation = 'relu'))\n",
    "model.add(Dense(units = 8,\n",
    "                activation = 'relu'))\n",
    "model.add(Dense(units = 2,\n",
    "                activation = 'softmax'))\n",
    "model.summary()"
   ]
  },
  {
   "cell_type": "markdown",
   "id": "ed2d6859",
   "metadata": {},
   "source": [
    "### training process setting"
   ]
  },
  {
   "cell_type": "code",
   "execution_count": 30,
   "id": "d4a04eea",
   "metadata": {
    "ExecuteTime": {
     "end_time": "2024-12-18T00:57:41.177390Z",
     "start_time": "2024-12-18T00:57:41.165845Z"
    }
   },
   "outputs": [],
   "source": [
    "model.compile(loss = 'categorical_crossentropy',\n",
    "              optimizer = 'nadam',\n",
    "              metrics = ['accuracy'])"
   ]
  },
  {
   "cell_type": "markdown",
   "id": "40d76e81",
   "metadata": {},
   "source": [
    "### training"
   ]
  },
  {
   "cell_type": "code",
   "execution_count": 31,
   "id": "62b4cb12",
   "metadata": {
    "ExecuteTime": {
     "end_time": "2024-12-18T00:58:48.874404Z",
     "start_time": "2024-12-18T00:57:42.790243Z"
    }
   },
   "outputs": [
    {
     "name": "stdout",
     "output_type": "stream",
     "text": [
      "Epoch 1/300\n",
      "19/19 [==============================] - 1s 22ms/step - loss: 4.2844 - accuracy: 0.5150 - val_loss: 2.4865 - val_accuracy: 0.5800\n",
      "Epoch 2/300\n",
      "19/19 [==============================] - 0s 13ms/step - loss: 2.4652 - accuracy: 0.5467 - val_loss: 1.2916 - val_accuracy: 0.6100\n",
      "Epoch 3/300\n",
      "19/19 [==============================] - 0s 12ms/step - loss: 1.5426 - accuracy: 0.5050 - val_loss: 0.9496 - val_accuracy: 0.6100\n",
      "Epoch 4/300\n",
      "19/19 [==============================] - 0s 11ms/step - loss: 1.1003 - accuracy: 0.4833 - val_loss: 0.8325 - val_accuracy: 0.5700\n",
      "Epoch 5/300\n",
      "19/19 [==============================] - 0s 12ms/step - loss: 0.9212 - accuracy: 0.5150 - val_loss: 0.7615 - val_accuracy: 0.6200\n",
      "Epoch 6/300\n",
      "19/19 [==============================] - 0s 12ms/step - loss: 0.8309 - accuracy: 0.5383 - val_loss: 0.7224 - val_accuracy: 0.6100\n",
      "Epoch 7/300\n",
      "19/19 [==============================] - 0s 11ms/step - loss: 0.7764 - accuracy: 0.5950 - val_loss: 0.6853 - val_accuracy: 0.6100\n",
      "Epoch 8/300\n",
      "19/19 [==============================] - 0s 11ms/step - loss: 0.7309 - accuracy: 0.6433 - val_loss: 0.6585 - val_accuracy: 0.6400\n",
      "Epoch 9/300\n",
      "19/19 [==============================] - 0s 12ms/step - loss: 0.7149 - accuracy: 0.6500 - val_loss: 0.6440 - val_accuracy: 0.6600\n",
      "Epoch 10/300\n",
      "19/19 [==============================] - 0s 12ms/step - loss: 0.7054 - accuracy: 0.6617 - val_loss: 0.6359 - val_accuracy: 0.7000\n",
      "Epoch 11/300\n",
      "19/19 [==============================] - 0s 12ms/step - loss: 0.6979 - accuracy: 0.6600 - val_loss: 0.6319 - val_accuracy: 0.7100\n",
      "Epoch 12/300\n",
      "19/19 [==============================] - 0s 12ms/step - loss: 0.6905 - accuracy: 0.6650 - val_loss: 0.6266 - val_accuracy: 0.7000\n",
      "Epoch 13/300\n",
      "19/19 [==============================] - 0s 12ms/step - loss: 0.6829 - accuracy: 0.6600 - val_loss: 0.6236 - val_accuracy: 0.7100\n",
      "Epoch 14/300\n",
      "19/19 [==============================] - 0s 10ms/step - loss: 0.6782 - accuracy: 0.6550 - val_loss: 0.6222 - val_accuracy: 0.7000\n",
      "Epoch 15/300\n",
      "19/19 [==============================] - 0s 12ms/step - loss: 0.6708 - accuracy: 0.6733 - val_loss: 0.6190 - val_accuracy: 0.7000\n",
      "Epoch 16/300\n",
      "19/19 [==============================] - 0s 12ms/step - loss: 0.6640 - accuracy: 0.6667 - val_loss: 0.6174 - val_accuracy: 0.7000\n",
      "Epoch 17/300\n",
      "19/19 [==============================] - 0s 13ms/step - loss: 0.6562 - accuracy: 0.6633 - val_loss: 0.6173 - val_accuracy: 0.7100\n",
      "Epoch 18/300\n",
      "19/19 [==============================] - 0s 12ms/step - loss: 0.6523 - accuracy: 0.6767 - val_loss: 0.6101 - val_accuracy: 0.7200\n",
      "Epoch 19/300\n",
      "19/19 [==============================] - 0s 12ms/step - loss: 0.6485 - accuracy: 0.6783 - val_loss: 0.6087 - val_accuracy: 0.7100\n",
      "Epoch 20/300\n",
      "19/19 [==============================] - 0s 11ms/step - loss: 0.6416 - accuracy: 0.6650 - val_loss: 0.6107 - val_accuracy: 0.7200\n",
      "Epoch 21/300\n",
      "19/19 [==============================] - 0s 12ms/step - loss: 0.6385 - accuracy: 0.6733 - val_loss: 0.6068 - val_accuracy: 0.7300\n",
      "Epoch 22/300\n",
      "19/19 [==============================] - 0s 13ms/step - loss: 0.6352 - accuracy: 0.6717 - val_loss: 0.6067 - val_accuracy: 0.7200\n",
      "Epoch 23/300\n",
      "19/19 [==============================] - 0s 10ms/step - loss: 0.6303 - accuracy: 0.6667 - val_loss: 0.6041 - val_accuracy: 0.7100\n",
      "Epoch 24/300\n",
      "19/19 [==============================] - 0s 11ms/step - loss: 0.6268 - accuracy: 0.6717 - val_loss: 0.6046 - val_accuracy: 0.7200\n",
      "Epoch 25/300\n",
      "19/19 [==============================] - 0s 11ms/step - loss: 0.6232 - accuracy: 0.6767 - val_loss: 0.6025 - val_accuracy: 0.7300\n",
      "Epoch 26/300\n",
      "19/19 [==============================] - 0s 11ms/step - loss: 0.6211 - accuracy: 0.6717 - val_loss: 0.6009 - val_accuracy: 0.7200\n",
      "Epoch 27/300\n",
      "19/19 [==============================] - 0s 12ms/step - loss: 0.6174 - accuracy: 0.6833 - val_loss: 0.6050 - val_accuracy: 0.7300\n",
      "Epoch 28/300\n",
      "19/19 [==============================] - 0s 12ms/step - loss: 0.6165 - accuracy: 0.6883 - val_loss: 0.6001 - val_accuracy: 0.7200\n",
      "Epoch 29/300\n",
      "19/19 [==============================] - 0s 12ms/step - loss: 0.6137 - accuracy: 0.6900 - val_loss: 0.5997 - val_accuracy: 0.7100\n",
      "Epoch 30/300\n",
      "19/19 [==============================] - 0s 11ms/step - loss: 0.6102 - accuracy: 0.6817 - val_loss: 0.5983 - val_accuracy: 0.7200\n",
      "Epoch 31/300\n",
      "19/19 [==============================] - 0s 13ms/step - loss: 0.6102 - accuracy: 0.6800 - val_loss: 0.6012 - val_accuracy: 0.6900\n",
      "Epoch 32/300\n",
      "19/19 [==============================] - 0s 11ms/step - loss: 0.6070 - accuracy: 0.6783 - val_loss: 0.5952 - val_accuracy: 0.7300\n",
      "Epoch 33/300\n",
      "19/19 [==============================] - 0s 10ms/step - loss: 0.6070 - accuracy: 0.6867 - val_loss: 0.5968 - val_accuracy: 0.7200\n",
      "Epoch 34/300\n",
      "19/19 [==============================] - 0s 12ms/step - loss: 0.6032 - accuracy: 0.6933 - val_loss: 0.5956 - val_accuracy: 0.7300\n",
      "Epoch 35/300\n",
      "19/19 [==============================] - 0s 12ms/step - loss: 0.6007 - accuracy: 0.6833 - val_loss: 0.5976 - val_accuracy: 0.7000\n",
      "Epoch 36/300\n",
      "19/19 [==============================] - 0s 12ms/step - loss: 0.5992 - accuracy: 0.6900 - val_loss: 0.5936 - val_accuracy: 0.7200\n",
      "Epoch 37/300\n",
      "19/19 [==============================] - 0s 11ms/step - loss: 0.5978 - accuracy: 0.6983 - val_loss: 0.5912 - val_accuracy: 0.7200\n",
      "Epoch 38/300\n",
      "19/19 [==============================] - 0s 11ms/step - loss: 0.5948 - accuracy: 0.6850 - val_loss: 0.5923 - val_accuracy: 0.7100\n",
      "Epoch 39/300\n",
      "19/19 [==============================] - 0s 11ms/step - loss: 0.5932 - accuracy: 0.6950 - val_loss: 0.5913 - val_accuracy: 0.7100\n",
      "Epoch 40/300\n",
      "19/19 [==============================] - 0s 11ms/step - loss: 0.5917 - accuracy: 0.6967 - val_loss: 0.5882 - val_accuracy: 0.7200\n",
      "Epoch 41/300\n",
      "19/19 [==============================] - 0s 11ms/step - loss: 0.5883 - accuracy: 0.6983 - val_loss: 0.5886 - val_accuracy: 0.7100\n",
      "Epoch 42/300\n",
      "19/19 [==============================] - 0s 11ms/step - loss: 0.5878 - accuracy: 0.7000 - val_loss: 0.5832 - val_accuracy: 0.7300\n",
      "Epoch 43/300\n",
      "19/19 [==============================] - 0s 11ms/step - loss: 0.5850 - accuracy: 0.7050 - val_loss: 0.5855 - val_accuracy: 0.7200\n",
      "Epoch 44/300\n",
      "19/19 [==============================] - 0s 11ms/step - loss: 0.5831 - accuracy: 0.7083 - val_loss: 0.5833 - val_accuracy: 0.7200\n",
      "Epoch 45/300\n",
      "19/19 [==============================] - 0s 11ms/step - loss: 0.5829 - accuracy: 0.7067 - val_loss: 0.5832 - val_accuracy: 0.7200\n",
      "Epoch 46/300\n",
      "19/19 [==============================] - 0s 11ms/step - loss: 0.5804 - accuracy: 0.7000 - val_loss: 0.5837 - val_accuracy: 0.7200\n",
      "Epoch 47/300\n",
      "19/19 [==============================] - 0s 12ms/step - loss: 0.5776 - accuracy: 0.7067 - val_loss: 0.5813 - val_accuracy: 0.7200\n",
      "Epoch 48/300\n",
      "19/19 [==============================] - 0s 11ms/step - loss: 0.5764 - accuracy: 0.7067 - val_loss: 0.5815 - val_accuracy: 0.7200\n",
      "Epoch 49/300\n",
      "19/19 [==============================] - 0s 10ms/step - loss: 0.5750 - accuracy: 0.7067 - val_loss: 0.5802 - val_accuracy: 0.7300\n",
      "Epoch 50/300\n",
      "19/19 [==============================] - 0s 12ms/step - loss: 0.5724 - accuracy: 0.7117 - val_loss: 0.5799 - val_accuracy: 0.7200\n",
      "Epoch 51/300\n",
      "19/19 [==============================] - 0s 10ms/step - loss: 0.5704 - accuracy: 0.7117 - val_loss: 0.5760 - val_accuracy: 0.7300\n",
      "Epoch 52/300\n",
      "19/19 [==============================] - 0s 11ms/step - loss: 0.5696 - accuracy: 0.7150 - val_loss: 0.5764 - val_accuracy: 0.7400\n",
      "Epoch 53/300\n",
      "19/19 [==============================] - 0s 11ms/step - loss: 0.5684 - accuracy: 0.7050 - val_loss: 0.5756 - val_accuracy: 0.7200\n",
      "Epoch 54/300\n",
      "19/19 [==============================] - 0s 12ms/step - loss: 0.5676 - accuracy: 0.7117 - val_loss: 0.5715 - val_accuracy: 0.7300\n",
      "Epoch 55/300\n",
      "19/19 [==============================] - 0s 12ms/step - loss: 0.5660 - accuracy: 0.7067 - val_loss: 0.5705 - val_accuracy: 0.7300\n",
      "Epoch 56/300\n",
      "19/19 [==============================] - 0s 12ms/step - loss: 0.5615 - accuracy: 0.7017 - val_loss: 0.5693 - val_accuracy: 0.7300\n",
      "Epoch 57/300\n",
      "19/19 [==============================] - 0s 12ms/step - loss: 0.5628 - accuracy: 0.7200 - val_loss: 0.5721 - val_accuracy: 0.7100\n",
      "Epoch 58/300\n"
     ]
    },
    {
     "name": "stdout",
     "output_type": "stream",
     "text": [
      "19/19 [==============================] - 0s 12ms/step - loss: 0.5591 - accuracy: 0.7133 - val_loss: 0.5686 - val_accuracy: 0.7300\n",
      "Epoch 59/300\n",
      "19/19 [==============================] - 0s 11ms/step - loss: 0.5581 - accuracy: 0.7167 - val_loss: 0.5667 - val_accuracy: 0.7200\n",
      "Epoch 60/300\n",
      "19/19 [==============================] - 0s 9ms/step - loss: 0.5548 - accuracy: 0.7233 - val_loss: 0.5706 - val_accuracy: 0.6800\n",
      "Epoch 61/300\n",
      "19/19 [==============================] - 0s 11ms/step - loss: 0.5558 - accuracy: 0.7267 - val_loss: 0.5694 - val_accuracy: 0.7100\n",
      "Epoch 62/300\n",
      "19/19 [==============================] - 0s 10ms/step - loss: 0.5521 - accuracy: 0.7183 - val_loss: 0.5684 - val_accuracy: 0.7000\n",
      "Epoch 63/300\n",
      "19/19 [==============================] - 0s 10ms/step - loss: 0.5511 - accuracy: 0.7250 - val_loss: 0.5706 - val_accuracy: 0.7000\n",
      "Epoch 64/300\n",
      "19/19 [==============================] - 0s 10ms/step - loss: 0.5487 - accuracy: 0.7217 - val_loss: 0.5663 - val_accuracy: 0.7000\n",
      "Epoch 65/300\n",
      "19/19 [==============================] - 0s 10ms/step - loss: 0.5466 - accuracy: 0.7267 - val_loss: 0.5673 - val_accuracy: 0.7100\n",
      "Epoch 66/300\n",
      "19/19 [==============================] - 0s 10ms/step - loss: 0.5455 - accuracy: 0.7300 - val_loss: 0.5634 - val_accuracy: 0.6800\n",
      "Epoch 67/300\n",
      "19/19 [==============================] - 0s 10ms/step - loss: 0.5448 - accuracy: 0.7250 - val_loss: 0.5645 - val_accuracy: 0.6700\n",
      "Epoch 68/300\n",
      "19/19 [==============================] - 0s 10ms/step - loss: 0.5442 - accuracy: 0.7150 - val_loss: 0.5649 - val_accuracy: 0.7500\n",
      "Epoch 69/300\n",
      "19/19 [==============================] - 0s 10ms/step - loss: 0.5411 - accuracy: 0.7333 - val_loss: 0.5639 - val_accuracy: 0.7300\n",
      "Epoch 70/300\n",
      "19/19 [==============================] - 0s 9ms/step - loss: 0.5396 - accuracy: 0.7200 - val_loss: 0.5626 - val_accuracy: 0.7000\n",
      "Epoch 71/300\n",
      "19/19 [==============================] - 0s 10ms/step - loss: 0.5463 - accuracy: 0.7133 - val_loss: 0.5588 - val_accuracy: 0.6900\n",
      "Epoch 72/300\n",
      "19/19 [==============================] - 0s 10ms/step - loss: 0.5410 - accuracy: 0.7350 - val_loss: 0.5625 - val_accuracy: 0.7300\n",
      "Epoch 73/300\n",
      "19/19 [==============================] - 0s 11ms/step - loss: 0.5354 - accuracy: 0.7267 - val_loss: 0.5556 - val_accuracy: 0.7300\n",
      "Epoch 74/300\n",
      "19/19 [==============================] - 0s 11ms/step - loss: 0.5409 - accuracy: 0.7217 - val_loss: 0.5614 - val_accuracy: 0.7100\n",
      "Epoch 75/300\n",
      "19/19 [==============================] - 0s 10ms/step - loss: 0.5390 - accuracy: 0.7350 - val_loss: 0.5571 - val_accuracy: 0.7200\n",
      "Epoch 76/300\n",
      "19/19 [==============================] - 0s 11ms/step - loss: 0.5368 - accuracy: 0.7317 - val_loss: 0.5608 - val_accuracy: 0.7500\n",
      "Epoch 77/300\n",
      "19/19 [==============================] - 0s 10ms/step - loss: 0.5380 - accuracy: 0.7117 - val_loss: 0.5561 - val_accuracy: 0.7000\n",
      "Epoch 78/300\n",
      "19/19 [==============================] - 0s 11ms/step - loss: 0.5318 - accuracy: 0.7367 - val_loss: 0.5651 - val_accuracy: 0.7400\n",
      "Epoch 79/300\n",
      "19/19 [==============================] - 0s 10ms/step - loss: 0.5366 - accuracy: 0.7233 - val_loss: 0.5619 - val_accuracy: 0.7800\n",
      "Epoch 80/300\n",
      "19/19 [==============================] - 0s 10ms/step - loss: 0.5368 - accuracy: 0.7267 - val_loss: 0.5546 - val_accuracy: 0.7200\n",
      "Epoch 81/300\n",
      "19/19 [==============================] - 0s 11ms/step - loss: 0.5327 - accuracy: 0.7167 - val_loss: 0.5536 - val_accuracy: 0.7000\n",
      "Epoch 82/300\n",
      "19/19 [==============================] - 0s 12ms/step - loss: 0.5308 - accuracy: 0.7333 - val_loss: 0.5545 - val_accuracy: 0.7700\n",
      "Epoch 83/300\n",
      "19/19 [==============================] - 0s 11ms/step - loss: 0.5318 - accuracy: 0.7267 - val_loss: 0.5566 - val_accuracy: 0.7700\n",
      "Epoch 84/300\n",
      "19/19 [==============================] - 0s 11ms/step - loss: 0.5291 - accuracy: 0.7250 - val_loss: 0.5556 - val_accuracy: 0.7200\n",
      "Epoch 85/300\n",
      "19/19 [==============================] - 0s 12ms/step - loss: 0.5317 - accuracy: 0.7200 - val_loss: 0.5502 - val_accuracy: 0.7500\n",
      "Epoch 86/300\n",
      "19/19 [==============================] - 0s 12ms/step - loss: 0.5297 - accuracy: 0.7233 - val_loss: 0.5532 - val_accuracy: 0.7300\n",
      "Epoch 87/300\n",
      "19/19 [==============================] - 0s 12ms/step - loss: 0.5319 - accuracy: 0.7233 - val_loss: 0.5516 - val_accuracy: 0.7500\n",
      "Epoch 88/300\n",
      "19/19 [==============================] - 0s 12ms/step - loss: 0.5297 - accuracy: 0.7267 - val_loss: 0.5572 - val_accuracy: 0.7500\n",
      "Epoch 89/300\n",
      "19/19 [==============================] - 0s 11ms/step - loss: 0.5299 - accuracy: 0.7200 - val_loss: 0.5531 - val_accuracy: 0.7600\n",
      "Epoch 90/300\n",
      "19/19 [==============================] - 0s 12ms/step - loss: 0.5267 - accuracy: 0.7283 - val_loss: 0.5394 - val_accuracy: 0.7800\n",
      "Epoch 91/300\n",
      "19/19 [==============================] - 0s 11ms/step - loss: 0.5257 - accuracy: 0.7217 - val_loss: 0.5421 - val_accuracy: 0.7800\n",
      "Epoch 92/300\n",
      "19/19 [==============================] - 0s 13ms/step - loss: 0.5222 - accuracy: 0.7333 - val_loss: 0.5739 - val_accuracy: 0.7200\n",
      "Epoch 93/300\n",
      "19/19 [==============================] - 0s 12ms/step - loss: 0.5283 - accuracy: 0.7250 - val_loss: 0.5534 - val_accuracy: 0.7300\n",
      "Epoch 94/300\n",
      "19/19 [==============================] - 0s 11ms/step - loss: 0.5250 - accuracy: 0.7283 - val_loss: 0.5550 - val_accuracy: 0.7400\n",
      "Epoch 95/300\n",
      "19/19 [==============================] - 0s 11ms/step - loss: 0.5229 - accuracy: 0.7300 - val_loss: 0.5518 - val_accuracy: 0.7300\n",
      "Epoch 96/300\n",
      "19/19 [==============================] - 0s 12ms/step - loss: 0.5221 - accuracy: 0.7300 - val_loss: 0.5491 - val_accuracy: 0.7400\n",
      "Epoch 97/300\n",
      "19/19 [==============================] - 0s 12ms/step - loss: 0.5251 - accuracy: 0.7317 - val_loss: 0.5609 - val_accuracy: 0.7700\n",
      "Epoch 98/300\n",
      "19/19 [==============================] - 0s 10ms/step - loss: 0.5301 - accuracy: 0.7250 - val_loss: 0.5510 - val_accuracy: 0.7600\n",
      "Epoch 99/300\n",
      "19/19 [==============================] - 0s 11ms/step - loss: 0.5239 - accuracy: 0.7383 - val_loss: 0.5537 - val_accuracy: 0.7200\n",
      "Epoch 100/300\n",
      "19/19 [==============================] - 0s 11ms/step - loss: 0.5212 - accuracy: 0.7383 - val_loss: 0.5539 - val_accuracy: 0.7500\n",
      "Epoch 101/300\n",
      "19/19 [==============================] - 0s 11ms/step - loss: 0.5209 - accuracy: 0.7367 - val_loss: 0.5421 - val_accuracy: 0.7200\n",
      "Epoch 102/300\n",
      "19/19 [==============================] - 0s 11ms/step - loss: 0.5245 - accuracy: 0.7233 - val_loss: 0.5491 - val_accuracy: 0.7500\n",
      "Epoch 103/300\n",
      "19/19 [==============================] - 0s 11ms/step - loss: 0.5184 - accuracy: 0.7283 - val_loss: 0.5362 - val_accuracy: 0.7900\n",
      "Epoch 104/300\n",
      "19/19 [==============================] - 0s 11ms/step - loss: 0.5194 - accuracy: 0.7350 - val_loss: 0.5433 - val_accuracy: 0.7600\n",
      "Epoch 105/300\n",
      "19/19 [==============================] - 0s 12ms/step - loss: 0.5177 - accuracy: 0.7300 - val_loss: 0.5400 - val_accuracy: 0.7800\n",
      "Epoch 106/300\n",
      "19/19 [==============================] - 0s 13ms/step - loss: 0.5248 - accuracy: 0.7283 - val_loss: 0.5607 - val_accuracy: 0.7800\n",
      "Epoch 107/300\n",
      "19/19 [==============================] - 0s 12ms/step - loss: 0.5211 - accuracy: 0.7400 - val_loss: 0.5501 - val_accuracy: 0.7500\n",
      "Epoch 108/300\n",
      "19/19 [==============================] - 0s 11ms/step - loss: 0.5181 - accuracy: 0.7283 - val_loss: 0.5577 - val_accuracy: 0.7500\n",
      "Epoch 109/300\n",
      "19/19 [==============================] - 0s 11ms/step - loss: 0.5193 - accuracy: 0.7367 - val_loss: 0.5429 - val_accuracy: 0.7600\n",
      "Epoch 110/300\n",
      "19/19 [==============================] - 0s 11ms/step - loss: 0.5181 - accuracy: 0.7417 - val_loss: 0.5298 - val_accuracy: 0.7800\n",
      "Epoch 111/300\n",
      "19/19 [==============================] - 0s 11ms/step - loss: 0.5206 - accuracy: 0.7350 - val_loss: 0.5365 - val_accuracy: 0.7600\n",
      "Epoch 112/300\n",
      "19/19 [==============================] - 0s 12ms/step - loss: 0.5175 - accuracy: 0.7383 - val_loss: 0.5553 - val_accuracy: 0.7500\n",
      "Epoch 113/300\n",
      "19/19 [==============================] - 0s 11ms/step - loss: 0.5149 - accuracy: 0.7383 - val_loss: 0.5418 - val_accuracy: 0.7700\n",
      "Epoch 114/300\n",
      "19/19 [==============================] - 0s 12ms/step - loss: 0.5191 - accuracy: 0.7333 - val_loss: 0.5476 - val_accuracy: 0.7500\n",
      "Epoch 115/300\n"
     ]
    },
    {
     "name": "stdout",
     "output_type": "stream",
     "text": [
      "19/19 [==============================] - 0s 11ms/step - loss: 0.5148 - accuracy: 0.7383 - val_loss: 0.5535 - val_accuracy: 0.7600\n",
      "Epoch 116/300\n",
      "19/19 [==============================] - 0s 10ms/step - loss: 0.5150 - accuracy: 0.7550 - val_loss: 0.5448 - val_accuracy: 0.7600\n",
      "Epoch 117/300\n",
      "19/19 [==============================] - 0s 11ms/step - loss: 0.5137 - accuracy: 0.7267 - val_loss: 0.5453 - val_accuracy: 0.7500\n",
      "Epoch 118/300\n",
      "19/19 [==============================] - 0s 11ms/step - loss: 0.5127 - accuracy: 0.7450 - val_loss: 0.5428 - val_accuracy: 0.7800\n",
      "Epoch 119/300\n",
      "19/19 [==============================] - 0s 11ms/step - loss: 0.5130 - accuracy: 0.7350 - val_loss: 0.5467 - val_accuracy: 0.7600\n",
      "Epoch 120/300\n",
      "19/19 [==============================] - 0s 11ms/step - loss: 0.5095 - accuracy: 0.7533 - val_loss: 0.5390 - val_accuracy: 0.7300\n",
      "Epoch 121/300\n",
      "19/19 [==============================] - 0s 12ms/step - loss: 0.5125 - accuracy: 0.7350 - val_loss: 0.5570 - val_accuracy: 0.7500\n",
      "Epoch 122/300\n",
      "19/19 [==============================] - 0s 12ms/step - loss: 0.5134 - accuracy: 0.7450 - val_loss: 0.5368 - val_accuracy: 0.7400\n",
      "Epoch 123/300\n",
      "19/19 [==============================] - 0s 12ms/step - loss: 0.5111 - accuracy: 0.7433 - val_loss: 0.5374 - val_accuracy: 0.7800\n",
      "Epoch 124/300\n",
      "19/19 [==============================] - 0s 13ms/step - loss: 0.5112 - accuracy: 0.7383 - val_loss: 0.5372 - val_accuracy: 0.7900\n",
      "Epoch 125/300\n",
      "19/19 [==============================] - 0s 11ms/step - loss: 0.5144 - accuracy: 0.7367 - val_loss: 0.5471 - val_accuracy: 0.7600\n",
      "Epoch 126/300\n",
      "19/19 [==============================] - 0s 11ms/step - loss: 0.5076 - accuracy: 0.7450 - val_loss: 0.5368 - val_accuracy: 0.7400\n",
      "Epoch 127/300\n",
      "19/19 [==============================] - 0s 12ms/step - loss: 0.5112 - accuracy: 0.7400 - val_loss: 0.5456 - val_accuracy: 0.7500\n",
      "Epoch 128/300\n",
      "19/19 [==============================] - 0s 12ms/step - loss: 0.5091 - accuracy: 0.7467 - val_loss: 0.5461 - val_accuracy: 0.7500\n",
      "Epoch 129/300\n",
      "19/19 [==============================] - 0s 11ms/step - loss: 0.5128 - accuracy: 0.7400 - val_loss: 0.5467 - val_accuracy: 0.7300\n",
      "Epoch 130/300\n",
      "19/19 [==============================] - 0s 11ms/step - loss: 0.5130 - accuracy: 0.7383 - val_loss: 0.5585 - val_accuracy: 0.7300\n",
      "Epoch 131/300\n",
      "19/19 [==============================] - 0s 11ms/step - loss: 0.5133 - accuracy: 0.7450 - val_loss: 0.5328 - val_accuracy: 0.7900\n",
      "Epoch 132/300\n",
      "19/19 [==============================] - 0s 11ms/step - loss: 0.5097 - accuracy: 0.7350 - val_loss: 0.5471 - val_accuracy: 0.7500\n",
      "Epoch 133/300\n",
      "19/19 [==============================] - 0s 11ms/step - loss: 0.5068 - accuracy: 0.7567 - val_loss: 0.5359 - val_accuracy: 0.7700\n",
      "Epoch 134/300\n",
      "19/19 [==============================] - 0s 11ms/step - loss: 0.5117 - accuracy: 0.7400 - val_loss: 0.5397 - val_accuracy: 0.7600\n",
      "Epoch 135/300\n",
      "19/19 [==============================] - 0s 10ms/step - loss: 0.5131 - accuracy: 0.7450 - val_loss: 0.5325 - val_accuracy: 0.7800\n",
      "Epoch 136/300\n",
      "19/19 [==============================] - 0s 12ms/step - loss: 0.5075 - accuracy: 0.7383 - val_loss: 0.5366 - val_accuracy: 0.7400\n",
      "Epoch 137/300\n",
      "19/19 [==============================] - 0s 12ms/step - loss: 0.5137 - accuracy: 0.7467 - val_loss: 0.5458 - val_accuracy: 0.7600\n",
      "Epoch 138/300\n",
      "19/19 [==============================] - 0s 12ms/step - loss: 0.5095 - accuracy: 0.7450 - val_loss: 0.5546 - val_accuracy: 0.7500\n",
      "Epoch 139/300\n",
      "19/19 [==============================] - 0s 11ms/step - loss: 0.5090 - accuracy: 0.7417 - val_loss: 0.5588 - val_accuracy: 0.7600\n",
      "Epoch 140/300\n",
      "19/19 [==============================] - 0s 11ms/step - loss: 0.5085 - accuracy: 0.7467 - val_loss: 0.5331 - val_accuracy: 0.7900\n",
      "Epoch 141/300\n",
      "19/19 [==============================] - 0s 11ms/step - loss: 0.5094 - accuracy: 0.7383 - val_loss: 0.5437 - val_accuracy: 0.7500\n",
      "Epoch 142/300\n",
      "19/19 [==============================] - 0s 11ms/step - loss: 0.5055 - accuracy: 0.7467 - val_loss: 0.5546 - val_accuracy: 0.7500\n",
      "Epoch 143/300\n",
      "19/19 [==============================] - 0s 11ms/step - loss: 0.5077 - accuracy: 0.7467 - val_loss: 0.5376 - val_accuracy: 0.7900\n",
      "Epoch 144/300\n",
      "19/19 [==============================] - 0s 11ms/step - loss: 0.5051 - accuracy: 0.7433 - val_loss: 0.5546 - val_accuracy: 0.7500\n",
      "Epoch 145/300\n",
      "19/19 [==============================] - 0s 12ms/step - loss: 0.5052 - accuracy: 0.7500 - val_loss: 0.5532 - val_accuracy: 0.7600\n",
      "Epoch 146/300\n",
      "19/19 [==============================] - 0s 12ms/step - loss: 0.5068 - accuracy: 0.7467 - val_loss: 0.5398 - val_accuracy: 0.7700\n",
      "Epoch 147/300\n",
      "19/19 [==============================] - 0s 11ms/step - loss: 0.5040 - accuracy: 0.7433 - val_loss: 0.5526 - val_accuracy: 0.7600\n",
      "Epoch 148/300\n",
      "19/19 [==============================] - 0s 12ms/step - loss: 0.5062 - accuracy: 0.7550 - val_loss: 0.5405 - val_accuracy: 0.7600\n",
      "Epoch 149/300\n",
      "19/19 [==============================] - 0s 12ms/step - loss: 0.5047 - accuracy: 0.7517 - val_loss: 0.5387 - val_accuracy: 0.7400\n",
      "Epoch 150/300\n",
      "19/19 [==============================] - 0s 11ms/step - loss: 0.5044 - accuracy: 0.7367 - val_loss: 0.5373 - val_accuracy: 0.7600\n",
      "Epoch 151/300\n",
      "19/19 [==============================] - 0s 12ms/step - loss: 0.5001 - accuracy: 0.7500 - val_loss: 0.5422 - val_accuracy: 0.7600\n",
      "Epoch 152/300\n",
      "19/19 [==============================] - 0s 10ms/step - loss: 0.5034 - accuracy: 0.7517 - val_loss: 0.5391 - val_accuracy: 0.7600\n",
      "Epoch 153/300\n",
      "19/19 [==============================] - 0s 11ms/step - loss: 0.5012 - accuracy: 0.7350 - val_loss: 0.5448 - val_accuracy: 0.7500\n",
      "Epoch 154/300\n",
      "19/19 [==============================] - 0s 11ms/step - loss: 0.5051 - accuracy: 0.7500 - val_loss: 0.5408 - val_accuracy: 0.7700\n",
      "Epoch 155/300\n",
      "19/19 [==============================] - 0s 11ms/step - loss: 0.4994 - accuracy: 0.7567 - val_loss: 0.5342 - val_accuracy: 0.7600\n",
      "Epoch 156/300\n",
      "19/19 [==============================] - 0s 11ms/step - loss: 0.5047 - accuracy: 0.7450 - val_loss: 0.5392 - val_accuracy: 0.7500\n",
      "Epoch 157/300\n",
      "19/19 [==============================] - 0s 12ms/step - loss: 0.5019 - accuracy: 0.7500 - val_loss: 0.5440 - val_accuracy: 0.7600\n",
      "Epoch 158/300\n",
      "19/19 [==============================] - 0s 11ms/step - loss: 0.5005 - accuracy: 0.7400 - val_loss: 0.5540 - val_accuracy: 0.7800\n",
      "Epoch 159/300\n",
      "19/19 [==============================] - 0s 11ms/step - loss: 0.4996 - accuracy: 0.7583 - val_loss: 0.5371 - val_accuracy: 0.7800\n",
      "Epoch 160/300\n",
      "19/19 [==============================] - 0s 11ms/step - loss: 0.4988 - accuracy: 0.7533 - val_loss: 0.5389 - val_accuracy: 0.7600\n",
      "Epoch 161/300\n",
      "19/19 [==============================] - 0s 11ms/step - loss: 0.4963 - accuracy: 0.7467 - val_loss: 0.5496 - val_accuracy: 0.7700\n",
      "Epoch 162/300\n",
      "19/19 [==============================] - 0s 10ms/step - loss: 0.4989 - accuracy: 0.7500 - val_loss: 0.5488 - val_accuracy: 0.7800\n",
      "Epoch 163/300\n",
      "19/19 [==============================] - 0s 13ms/step - loss: 0.5011 - accuracy: 0.7567 - val_loss: 0.5370 - val_accuracy: 0.7700\n",
      "Epoch 164/300\n",
      "19/19 [==============================] - 0s 12ms/step - loss: 0.4991 - accuracy: 0.7333 - val_loss: 0.5378 - val_accuracy: 0.7400\n",
      "Epoch 165/300\n",
      "19/19 [==============================] - 0s 12ms/step - loss: 0.5001 - accuracy: 0.7517 - val_loss: 0.5329 - val_accuracy: 0.7900\n",
      "Epoch 166/300\n",
      "19/19 [==============================] - 0s 12ms/step - loss: 0.4962 - accuracy: 0.7517 - val_loss: 0.5286 - val_accuracy: 0.7800\n",
      "Epoch 167/300\n",
      "19/19 [==============================] - 0s 12ms/step - loss: 0.4994 - accuracy: 0.7483 - val_loss: 0.5379 - val_accuracy: 0.7600\n",
      "Epoch 168/300\n",
      "19/19 [==============================] - 0s 12ms/step - loss: 0.4916 - accuracy: 0.7600 - val_loss: 0.5258 - val_accuracy: 0.7900\n",
      "Epoch 169/300\n",
      "19/19 [==============================] - 0s 12ms/step - loss: 0.4998 - accuracy: 0.7450 - val_loss: 0.5301 - val_accuracy: 0.7800\n",
      "Epoch 170/300\n",
      "19/19 [==============================] - 0s 10ms/step - loss: 0.4988 - accuracy: 0.7417 - val_loss: 0.5356 - val_accuracy: 0.7600\n",
      "Epoch 171/300\n",
      "19/19 [==============================] - 0s 11ms/step - loss: 0.4969 - accuracy: 0.7517 - val_loss: 0.5405 - val_accuracy: 0.7700\n"
     ]
    },
    {
     "name": "stdout",
     "output_type": "stream",
     "text": [
      "Epoch 172/300\n",
      "19/19 [==============================] - 0s 12ms/step - loss: 0.4947 - accuracy: 0.7500 - val_loss: 0.5397 - val_accuracy: 0.7700\n",
      "Epoch 173/300\n",
      "19/19 [==============================] - 0s 11ms/step - loss: 0.4985 - accuracy: 0.7500 - val_loss: 0.5407 - val_accuracy: 0.7300\n",
      "Epoch 174/300\n",
      "19/19 [==============================] - 0s 11ms/step - loss: 0.4953 - accuracy: 0.7500 - val_loss: 0.5312 - val_accuracy: 0.8000\n",
      "Epoch 175/300\n",
      "19/19 [==============================] - 0s 11ms/step - loss: 0.4929 - accuracy: 0.7450 - val_loss: 0.5338 - val_accuracy: 0.7900\n",
      "Epoch 176/300\n",
      "19/19 [==============================] - 0s 11ms/step - loss: 0.4941 - accuracy: 0.7450 - val_loss: 0.5389 - val_accuracy: 0.7600\n",
      "Epoch 177/300\n",
      "19/19 [==============================] - 0s 11ms/step - loss: 0.4938 - accuracy: 0.7500 - val_loss: 0.5414 - val_accuracy: 0.7800\n",
      "Epoch 178/300\n",
      "19/19 [==============================] - 0s 12ms/step - loss: 0.4928 - accuracy: 0.7517 - val_loss: 0.5504 - val_accuracy: 0.7700\n",
      "Epoch 179/300\n",
      "19/19 [==============================] - 0s 12ms/step - loss: 0.4936 - accuracy: 0.7450 - val_loss: 0.5327 - val_accuracy: 0.7800\n",
      "Epoch 180/300\n",
      "19/19 [==============================] - 0s 12ms/step - loss: 0.4954 - accuracy: 0.7433 - val_loss: 0.5337 - val_accuracy: 0.7600\n",
      "Epoch 181/300\n",
      "19/19 [==============================] - 0s 11ms/step - loss: 0.4926 - accuracy: 0.7567 - val_loss: 0.5356 - val_accuracy: 0.7500\n",
      "Epoch 182/300\n",
      "19/19 [==============================] - 0s 11ms/step - loss: 0.4979 - accuracy: 0.7350 - val_loss: 0.5488 - val_accuracy: 0.7700\n",
      "Epoch 183/300\n",
      "19/19 [==============================] - 0s 12ms/step - loss: 0.4927 - accuracy: 0.7567 - val_loss: 0.5427 - val_accuracy: 0.7600\n",
      "Epoch 184/300\n",
      "19/19 [==============================] - 0s 11ms/step - loss: 0.4927 - accuracy: 0.7617 - val_loss: 0.5349 - val_accuracy: 0.7600\n",
      "Epoch 185/300\n",
      "19/19 [==============================] - 0s 12ms/step - loss: 0.4913 - accuracy: 0.7433 - val_loss: 0.5411 - val_accuracy: 0.7800\n",
      "Epoch 186/300\n",
      "19/19 [==============================] - 0s 12ms/step - loss: 0.4867 - accuracy: 0.7617 - val_loss: 0.5368 - val_accuracy: 0.7300\n",
      "Epoch 187/300\n",
      "19/19 [==============================] - 0s 11ms/step - loss: 0.4922 - accuracy: 0.7717 - val_loss: 0.5417 - val_accuracy: 0.7700\n",
      "Epoch 188/300\n",
      "19/19 [==============================] - 0s 11ms/step - loss: 0.4894 - accuracy: 0.7500 - val_loss: 0.5417 - val_accuracy: 0.7700\n",
      "Epoch 189/300\n",
      "19/19 [==============================] - 0s 10ms/step - loss: 0.4877 - accuracy: 0.7550 - val_loss: 0.5487 - val_accuracy: 0.7800\n",
      "Epoch 190/300\n",
      "19/19 [==============================] - 0s 11ms/step - loss: 0.4913 - accuracy: 0.7583 - val_loss: 0.5358 - val_accuracy: 0.7700\n",
      "Epoch 191/300\n",
      "19/19 [==============================] - 0s 11ms/step - loss: 0.4915 - accuracy: 0.7683 - val_loss: 0.5493 - val_accuracy: 0.7800\n",
      "Epoch 192/300\n",
      "19/19 [==============================] - 0s 11ms/step - loss: 0.4918 - accuracy: 0.7483 - val_loss: 0.5319 - val_accuracy: 0.7500\n",
      "Epoch 193/300\n",
      "19/19 [==============================] - 0s 12ms/step - loss: 0.4891 - accuracy: 0.7583 - val_loss: 0.5387 - val_accuracy: 0.7700\n",
      "Epoch 194/300\n",
      "19/19 [==============================] - 0s 12ms/step - loss: 0.4893 - accuracy: 0.7717 - val_loss: 0.5370 - val_accuracy: 0.7300\n",
      "Epoch 195/300\n",
      "19/19 [==============================] - 0s 12ms/step - loss: 0.4907 - accuracy: 0.7600 - val_loss: 0.5414 - val_accuracy: 0.7800\n",
      "Epoch 196/300\n",
      "19/19 [==============================] - 0s 11ms/step - loss: 0.4887 - accuracy: 0.7583 - val_loss: 0.5363 - val_accuracy: 0.7800\n",
      "Epoch 197/300\n",
      "19/19 [==============================] - 0s 11ms/step - loss: 0.4880 - accuracy: 0.7667 - val_loss: 0.5372 - val_accuracy: 0.7900\n",
      "Epoch 198/300\n",
      "19/19 [==============================] - 0s 11ms/step - loss: 0.4864 - accuracy: 0.7533 - val_loss: 0.5318 - val_accuracy: 0.7900\n",
      "Epoch 199/300\n",
      "19/19 [==============================] - 0s 11ms/step - loss: 0.4878 - accuracy: 0.7517 - val_loss: 0.5360 - val_accuracy: 0.7800\n",
      "Epoch 200/300\n",
      "19/19 [==============================] - 0s 11ms/step - loss: 0.4880 - accuracy: 0.7533 - val_loss: 0.5431 - val_accuracy: 0.7600\n",
      "Epoch 201/300\n",
      "19/19 [==============================] - 0s 12ms/step - loss: 0.4845 - accuracy: 0.7600 - val_loss: 0.5406 - val_accuracy: 0.7800\n",
      "Epoch 202/300\n",
      "19/19 [==============================] - 0s 12ms/step - loss: 0.4876 - accuracy: 0.7633 - val_loss: 0.5363 - val_accuracy: 0.7600\n",
      "Epoch 203/300\n",
      "19/19 [==============================] - 0s 12ms/step - loss: 0.4850 - accuracy: 0.7583 - val_loss: 0.5447 - val_accuracy: 0.7800\n",
      "Epoch 204/300\n",
      "19/19 [==============================] - 0s 12ms/step - loss: 0.4866 - accuracy: 0.7583 - val_loss: 0.5490 - val_accuracy: 0.7700\n",
      "Epoch 205/300\n",
      "19/19 [==============================] - 0s 11ms/step - loss: 0.4850 - accuracy: 0.7600 - val_loss: 0.5498 - val_accuracy: 0.7800\n",
      "Epoch 206/300\n",
      "19/19 [==============================] - 0s 11ms/step - loss: 0.4885 - accuracy: 0.7550 - val_loss: 0.5370 - val_accuracy: 0.7600\n",
      "Epoch 207/300\n",
      "19/19 [==============================] - 0s 11ms/step - loss: 0.4844 - accuracy: 0.7633 - val_loss: 0.5400 - val_accuracy: 0.7600\n",
      "Epoch 208/300\n",
      "19/19 [==============================] - 0s 11ms/step - loss: 0.4885 - accuracy: 0.7600 - val_loss: 0.5354 - val_accuracy: 0.7800\n",
      "Epoch 209/300\n",
      "19/19 [==============================] - 0s 12ms/step - loss: 0.4805 - accuracy: 0.7650 - val_loss: 0.5389 - val_accuracy: 0.7700\n",
      "Epoch 210/300\n",
      "19/19 [==============================] - 0s 11ms/step - loss: 0.4869 - accuracy: 0.7567 - val_loss: 0.5416 - val_accuracy: 0.7700\n",
      "Epoch 211/300\n",
      "19/19 [==============================] - 0s 13ms/step - loss: 0.4828 - accuracy: 0.7717 - val_loss: 0.5351 - val_accuracy: 0.7700\n",
      "Epoch 212/300\n",
      "19/19 [==============================] - 0s 11ms/step - loss: 0.4832 - accuracy: 0.7700 - val_loss: 0.5348 - val_accuracy: 0.7800\n",
      "Epoch 213/300\n",
      "19/19 [==============================] - 0s 12ms/step - loss: 0.4836 - accuracy: 0.7567 - val_loss: 0.5419 - val_accuracy: 0.7700\n",
      "Epoch 214/300\n",
      "19/19 [==============================] - 0s 11ms/step - loss: 0.4848 - accuracy: 0.7600 - val_loss: 0.5420 - val_accuracy: 0.7700\n",
      "Epoch 215/300\n",
      "19/19 [==============================] - 0s 11ms/step - loss: 0.4841 - accuracy: 0.7583 - val_loss: 0.5320 - val_accuracy: 0.7700\n",
      "Epoch 216/300\n",
      "19/19 [==============================] - 0s 11ms/step - loss: 0.4790 - accuracy: 0.7683 - val_loss: 0.5368 - val_accuracy: 0.7900\n",
      "Epoch 217/300\n",
      "19/19 [==============================] - 0s 12ms/step - loss: 0.4832 - accuracy: 0.7600 - val_loss: 0.5397 - val_accuracy: 0.7700\n",
      "Epoch 218/300\n",
      "19/19 [==============================] - 0s 12ms/step - loss: 0.4833 - accuracy: 0.7700 - val_loss: 0.5404 - val_accuracy: 0.7700\n",
      "Epoch 219/300\n",
      "19/19 [==============================] - 0s 11ms/step - loss: 0.4799 - accuracy: 0.7750 - val_loss: 0.5300 - val_accuracy: 0.7700\n",
      "Epoch 220/300\n",
      "19/19 [==============================] - 0s 11ms/step - loss: 0.4820 - accuracy: 0.7617 - val_loss: 0.5277 - val_accuracy: 0.7800\n",
      "Epoch 221/300\n",
      "19/19 [==============================] - 0s 12ms/step - loss: 0.4814 - accuracy: 0.7533 - val_loss: 0.5359 - val_accuracy: 0.7600\n",
      "Epoch 222/300\n",
      "19/19 [==============================] - 0s 12ms/step - loss: 0.4804 - accuracy: 0.7600 - val_loss: 0.5327 - val_accuracy: 0.7900\n",
      "Epoch 223/300\n",
      "19/19 [==============================] - 0s 11ms/step - loss: 0.4844 - accuracy: 0.7667 - val_loss: 0.5430 - val_accuracy: 0.7700\n",
      "Epoch 224/300\n",
      "19/19 [==============================] - 0s 12ms/step - loss: 0.4811 - accuracy: 0.7650 - val_loss: 0.5322 - val_accuracy: 0.7700\n",
      "Epoch 225/300\n",
      "19/19 [==============================] - 0s 11ms/step - loss: 0.4804 - accuracy: 0.7617 - val_loss: 0.5316 - val_accuracy: 0.7800\n",
      "Epoch 226/300\n",
      "19/19 [==============================] - 0s 11ms/step - loss: 0.4751 - accuracy: 0.7633 - val_loss: 0.5294 - val_accuracy: 0.7800\n",
      "Epoch 227/300\n",
      "19/19 [==============================] - 0s 11ms/step - loss: 0.4836 - accuracy: 0.7517 - val_loss: 0.5459 - val_accuracy: 0.7600\n",
      "Epoch 228/300\n",
      "19/19 [==============================] - 0s 11ms/step - loss: 0.4776 - accuracy: 0.7733 - val_loss: 0.5419 - val_accuracy: 0.7600\n"
     ]
    },
    {
     "name": "stdout",
     "output_type": "stream",
     "text": [
      "Epoch 229/300\n",
      "19/19 [==============================] - 0s 13ms/step - loss: 0.4790 - accuracy: 0.7583 - val_loss: 0.5372 - val_accuracy: 0.7800\n",
      "Epoch 230/300\n",
      "19/19 [==============================] - 0s 13ms/step - loss: 0.4756 - accuracy: 0.7700 - val_loss: 0.5387 - val_accuracy: 0.7800\n",
      "Epoch 231/300\n",
      "19/19 [==============================] - 0s 13ms/step - loss: 0.4781 - accuracy: 0.7517 - val_loss: 0.5401 - val_accuracy: 0.8000\n",
      "Epoch 232/300\n",
      "19/19 [==============================] - 0s 12ms/step - loss: 0.4786 - accuracy: 0.7650 - val_loss: 0.5308 - val_accuracy: 0.7800\n",
      "Epoch 233/300\n",
      "19/19 [==============================] - 0s 12ms/step - loss: 0.4782 - accuracy: 0.7683 - val_loss: 0.5388 - val_accuracy: 0.7800\n",
      "Epoch 234/300\n",
      "19/19 [==============================] - 0s 13ms/step - loss: 0.4756 - accuracy: 0.7633 - val_loss: 0.5391 - val_accuracy: 0.7700\n",
      "Epoch 235/300\n",
      "19/19 [==============================] - 0s 11ms/step - loss: 0.4716 - accuracy: 0.7767 - val_loss: 0.5408 - val_accuracy: 0.7400\n",
      "Epoch 236/300\n",
      "19/19 [==============================] - 0s 12ms/step - loss: 0.4839 - accuracy: 0.7700 - val_loss: 0.5438 - val_accuracy: 0.7800\n",
      "Epoch 237/300\n",
      "19/19 [==============================] - 0s 12ms/step - loss: 0.4744 - accuracy: 0.7750 - val_loss: 0.5388 - val_accuracy: 0.7700\n",
      "Epoch 238/300\n",
      "19/19 [==============================] - 0s 11ms/step - loss: 0.4740 - accuracy: 0.7767 - val_loss: 0.5369 - val_accuracy: 0.7600\n",
      "Epoch 239/300\n",
      "19/19 [==============================] - 0s 12ms/step - loss: 0.4752 - accuracy: 0.7817 - val_loss: 0.5406 - val_accuracy: 0.7700\n",
      "Epoch 240/300\n",
      "19/19 [==============================] - 0s 12ms/step - loss: 0.4747 - accuracy: 0.7683 - val_loss: 0.5339 - val_accuracy: 0.7700\n",
      "Epoch 241/300\n",
      "19/19 [==============================] - 0s 11ms/step - loss: 0.4753 - accuracy: 0.7750 - val_loss: 0.5307 - val_accuracy: 0.7700\n",
      "Epoch 242/300\n",
      "19/19 [==============================] - 0s 11ms/step - loss: 0.4717 - accuracy: 0.7700 - val_loss: 0.5327 - val_accuracy: 0.8000\n",
      "Epoch 243/300\n",
      "19/19 [==============================] - 0s 12ms/step - loss: 0.4730 - accuracy: 0.7667 - val_loss: 0.5430 - val_accuracy: 0.8000\n",
      "Epoch 244/300\n",
      "19/19 [==============================] - 0s 10ms/step - loss: 0.4706 - accuracy: 0.7817 - val_loss: 0.5345 - val_accuracy: 0.7900\n",
      "Epoch 245/300\n",
      "19/19 [==============================] - 0s 10ms/step - loss: 0.4729 - accuracy: 0.7633 - val_loss: 0.5362 - val_accuracy: 0.7600\n",
      "Epoch 246/300\n",
      "19/19 [==============================] - 0s 12ms/step - loss: 0.4651 - accuracy: 0.7817 - val_loss: 0.5288 - val_accuracy: 0.8000\n",
      "Epoch 247/300\n",
      "19/19 [==============================] - 0s 11ms/step - loss: 0.4752 - accuracy: 0.7550 - val_loss: 0.5317 - val_accuracy: 0.8000\n",
      "Epoch 248/300\n",
      "19/19 [==============================] - 0s 11ms/step - loss: 0.4805 - accuracy: 0.7450 - val_loss: 0.5301 - val_accuracy: 0.7700\n",
      "Epoch 249/300\n",
      "19/19 [==============================] - 0s 10ms/step - loss: 0.4695 - accuracy: 0.7583 - val_loss: 0.5247 - val_accuracy: 0.7600\n",
      "Epoch 250/300\n",
      "19/19 [==============================] - 0s 11ms/step - loss: 0.4700 - accuracy: 0.7733 - val_loss: 0.5333 - val_accuracy: 0.7900\n",
      "Epoch 251/300\n",
      "19/19 [==============================] - 0s 11ms/step - loss: 0.4693 - accuracy: 0.7783 - val_loss: 0.5406 - val_accuracy: 0.7800\n",
      "Epoch 252/300\n",
      "19/19 [==============================] - 0s 11ms/step - loss: 0.4690 - accuracy: 0.7667 - val_loss: 0.5339 - val_accuracy: 0.8000\n",
      "Epoch 253/300\n",
      "19/19 [==============================] - 0s 9ms/step - loss: 0.4700 - accuracy: 0.7733 - val_loss: 0.5347 - val_accuracy: 0.7700\n",
      "Epoch 254/300\n",
      "19/19 [==============================] - 0s 11ms/step - loss: 0.4694 - accuracy: 0.7717 - val_loss: 0.5302 - val_accuracy: 0.7800\n",
      "Epoch 255/300\n",
      "19/19 [==============================] - 0s 11ms/step - loss: 0.4701 - accuracy: 0.7817 - val_loss: 0.5290 - val_accuracy: 0.7700\n",
      "Epoch 256/300\n",
      "19/19 [==============================] - 0s 11ms/step - loss: 0.4676 - accuracy: 0.7717 - val_loss: 0.5294 - val_accuracy: 0.7800\n",
      "Epoch 257/300\n",
      "19/19 [==============================] - 0s 11ms/step - loss: 0.4668 - accuracy: 0.7767 - val_loss: 0.5213 - val_accuracy: 0.7900\n",
      "Epoch 258/300\n",
      "19/19 [==============================] - 0s 10ms/step - loss: 0.4698 - accuracy: 0.7783 - val_loss: 0.5263 - val_accuracy: 0.7700\n",
      "Epoch 259/300\n",
      "19/19 [==============================] - 0s 12ms/step - loss: 0.4670 - accuracy: 0.7683 - val_loss: 0.5366 - val_accuracy: 0.7800\n",
      "Epoch 260/300\n",
      "19/19 [==============================] - 0s 11ms/step - loss: 0.4709 - accuracy: 0.7733 - val_loss: 0.5252 - val_accuracy: 0.7900\n",
      "Epoch 261/300\n",
      "19/19 [==============================] - 0s 12ms/step - loss: 0.4671 - accuracy: 0.7783 - val_loss: 0.5262 - val_accuracy: 0.8100\n",
      "Epoch 262/300\n",
      "19/19 [==============================] - 0s 10ms/step - loss: 0.4673 - accuracy: 0.7650 - val_loss: 0.5313 - val_accuracy: 0.7700\n",
      "Epoch 263/300\n",
      "19/19 [==============================] - 0s 10ms/step - loss: 0.4703 - accuracy: 0.7733 - val_loss: 0.5286 - val_accuracy: 0.7800\n",
      "Epoch 264/300\n",
      "19/19 [==============================] - 0s 10ms/step - loss: 0.4671 - accuracy: 0.7683 - val_loss: 0.5267 - val_accuracy: 0.7800\n",
      "Epoch 265/300\n",
      "19/19 [==============================] - 0s 10ms/step - loss: 0.4640 - accuracy: 0.7717 - val_loss: 0.5246 - val_accuracy: 0.8000\n",
      "Epoch 266/300\n",
      "19/19 [==============================] - 0s 11ms/step - loss: 0.4679 - accuracy: 0.7667 - val_loss: 0.5251 - val_accuracy: 0.7800\n",
      "Epoch 267/300\n",
      "19/19 [==============================] - 0s 11ms/step - loss: 0.4678 - accuracy: 0.7700 - val_loss: 0.5252 - val_accuracy: 0.7900\n",
      "Epoch 268/300\n",
      "19/19 [==============================] - 0s 11ms/step - loss: 0.4679 - accuracy: 0.7767 - val_loss: 0.5260 - val_accuracy: 0.7900\n",
      "Epoch 269/300\n",
      "19/19 [==============================] - 0s 13ms/step - loss: 0.4651 - accuracy: 0.7733 - val_loss: 0.5327 - val_accuracy: 0.7900\n",
      "Epoch 270/300\n",
      "19/19 [==============================] - 0s 10ms/step - loss: 0.4651 - accuracy: 0.7767 - val_loss: 0.5174 - val_accuracy: 0.8100\n",
      "Epoch 271/300\n",
      "19/19 [==============================] - 0s 11ms/step - loss: 0.4667 - accuracy: 0.7717 - val_loss: 0.5182 - val_accuracy: 0.7900\n",
      "Epoch 272/300\n",
      "19/19 [==============================] - 0s 10ms/step - loss: 0.4645 - accuracy: 0.7700 - val_loss: 0.5209 - val_accuracy: 0.7900\n",
      "Epoch 273/300\n",
      "19/19 [==============================] - 0s 11ms/step - loss: 0.4667 - accuracy: 0.7650 - val_loss: 0.5262 - val_accuracy: 0.7800\n",
      "Epoch 274/300\n",
      "19/19 [==============================] - 0s 10ms/step - loss: 0.4651 - accuracy: 0.7800 - val_loss: 0.5270 - val_accuracy: 0.7900\n",
      "Epoch 275/300\n",
      "19/19 [==============================] - 0s 12ms/step - loss: 0.4624 - accuracy: 0.7767 - val_loss: 0.5185 - val_accuracy: 0.7900\n",
      "Epoch 276/300\n",
      "19/19 [==============================] - 0s 11ms/step - loss: 0.4648 - accuracy: 0.7633 - val_loss: 0.5241 - val_accuracy: 0.7900\n",
      "Epoch 277/300\n",
      "19/19 [==============================] - 0s 11ms/step - loss: 0.4627 - accuracy: 0.7800 - val_loss: 0.5229 - val_accuracy: 0.8000\n",
      "Epoch 278/300\n",
      "19/19 [==============================] - 0s 10ms/step - loss: 0.4618 - accuracy: 0.7767 - val_loss: 0.5219 - val_accuracy: 0.7800\n",
      "Epoch 279/300\n",
      "19/19 [==============================] - 0s 11ms/step - loss: 0.4618 - accuracy: 0.7700 - val_loss: 0.5325 - val_accuracy: 0.8000\n",
      "Epoch 280/300\n",
      "19/19 [==============================] - 0s 11ms/step - loss: 0.4659 - accuracy: 0.7767 - val_loss: 0.5342 - val_accuracy: 0.7700\n",
      "Epoch 281/300\n",
      "19/19 [==============================] - 0s 11ms/step - loss: 0.4615 - accuracy: 0.7867 - val_loss: 0.5175 - val_accuracy: 0.8200\n",
      "Epoch 282/300\n",
      "19/19 [==============================] - 0s 10ms/step - loss: 0.4609 - accuracy: 0.7800 - val_loss: 0.5269 - val_accuracy: 0.8000\n",
      "Epoch 283/300\n",
      "19/19 [==============================] - 0s 12ms/step - loss: 0.4619 - accuracy: 0.7733 - val_loss: 0.5313 - val_accuracy: 0.8000\n",
      "Epoch 284/300\n",
      "19/19 [==============================] - 0s 11ms/step - loss: 0.4645 - accuracy: 0.7800 - val_loss: 0.5240 - val_accuracy: 0.8000\n",
      "Epoch 285/300\n",
      "19/19 [==============================] - 0s 11ms/step - loss: 0.4648 - accuracy: 0.7717 - val_loss: 0.5313 - val_accuracy: 0.8000\n"
     ]
    },
    {
     "name": "stdout",
     "output_type": "stream",
     "text": [
      "Epoch 286/300\n",
      "19/19 [==============================] - 0s 11ms/step - loss: 0.4641 - accuracy: 0.7767 - val_loss: 0.5204 - val_accuracy: 0.8000\n",
      "Epoch 287/300\n",
      "19/19 [==============================] - 0s 10ms/step - loss: 0.4616 - accuracy: 0.7883 - val_loss: 0.5237 - val_accuracy: 0.7700\n",
      "Epoch 288/300\n",
      "19/19 [==============================] - 0s 11ms/step - loss: 0.4630 - accuracy: 0.7717 - val_loss: 0.5216 - val_accuracy: 0.8000\n",
      "Epoch 289/300\n",
      "19/19 [==============================] - 0s 11ms/step - loss: 0.4605 - accuracy: 0.7783 - val_loss: 0.5249 - val_accuracy: 0.8000\n",
      "Epoch 290/300\n",
      "19/19 [==============================] - 0s 10ms/step - loss: 0.4683 - accuracy: 0.7800 - val_loss: 0.5162 - val_accuracy: 0.8000\n",
      "Epoch 291/300\n",
      "19/19 [==============================] - 0s 9ms/step - loss: 0.4603 - accuracy: 0.7833 - val_loss: 0.5331 - val_accuracy: 0.7800\n",
      "Epoch 292/300\n",
      "19/19 [==============================] - 0s 10ms/step - loss: 0.4619 - accuracy: 0.7750 - val_loss: 0.5338 - val_accuracy: 0.7800\n",
      "Epoch 293/300\n",
      "19/19 [==============================] - 0s 11ms/step - loss: 0.4595 - accuracy: 0.7783 - val_loss: 0.5215 - val_accuracy: 0.8200\n",
      "Epoch 294/300\n",
      "19/19 [==============================] - 0s 11ms/step - loss: 0.4577 - accuracy: 0.7817 - val_loss: 0.5364 - val_accuracy: 0.7900\n",
      "Epoch 295/300\n",
      "19/19 [==============================] - 0s 11ms/step - loss: 0.4601 - accuracy: 0.7733 - val_loss: 0.5227 - val_accuracy: 0.7800\n",
      "Epoch 296/300\n",
      "19/19 [==============================] - 0s 10ms/step - loss: 0.4563 - accuracy: 0.7850 - val_loss: 0.5231 - val_accuracy: 0.8100\n",
      "Epoch 297/300\n",
      "19/19 [==============================] - 0s 10ms/step - loss: 0.4551 - accuracy: 0.7833 - val_loss: 0.5470 - val_accuracy: 0.8000\n",
      "Epoch 298/300\n",
      "19/19 [==============================] - 0s 11ms/step - loss: 0.4656 - accuracy: 0.7767 - val_loss: 0.5317 - val_accuracy: 0.8000\n",
      "Epoch 299/300\n",
      "19/19 [==============================] - 0s 11ms/step - loss: 0.4594 - accuracy: 0.7867 - val_loss: 0.5220 - val_accuracy: 0.8000\n",
      "Epoch 300/300\n",
      "19/19 [==============================] - 0s 11ms/step - loss: 0.4603 - accuracy: 0.7750 - val_loss: 0.5238 - val_accuracy: 0.7900\n"
     ]
    }
   ],
   "source": [
    "hist = model.fit(X_train, Y_train, \n",
    "                 epochs = 300, \n",
    "                 verbose = 1, \n",
    "                 validation_data = [X_val, Y_val]\n",
    "                )"
   ]
  },
  {
   "cell_type": "markdown",
   "id": "b47e472f",
   "metadata": {},
   "source": [
    "### Model 평가"
   ]
  },
  {
   "cell_type": "code",
   "execution_count": 32,
   "id": "62d209bd",
   "metadata": {
    "ExecuteTime": {
     "end_time": "2024-12-18T00:58:53.245090Z",
     "start_time": "2024-12-18T00:58:53.238120Z"
    }
   },
   "outputs": [
    {
     "data": {
      "text/plain": [
       "dict_keys(['loss', 'accuracy', 'val_loss', 'val_accuracy'])"
      ]
     },
     "execution_count": 32,
     "metadata": {},
     "output_type": "execute_result"
    }
   ],
   "source": [
    "hist.history.keys()"
   ]
  },
  {
   "cell_type": "code",
   "execution_count": 33,
   "id": "75788bba",
   "metadata": {
    "ExecuteTime": {
     "end_time": "2024-12-18T00:58:54.710623Z",
     "start_time": "2024-12-18T00:58:54.398536Z"
    }
   },
   "outputs": [
    {
     "data": {
      "image/png": "[encoded data removed]",
      "text/plain": [
       "<Figure size 1000x500 with 2 Axes>"
      ]
     },
     "metadata": {},
     "output_type": "display_data"
    }
   ],
   "source": [
    "# 학습과정 표시하기\n",
    "fig, loss_ax = plt.subplots(figsize=(10,5))\n",
    "loss_ax.plot(hist.history['loss'], 'r', label='train loss')\n",
    "loss_ax.plot(hist.history['val_loss'], 'y', label='validation loss')\n",
    "loss_ax.set_xlabel('epoch')\n",
    "loss_ax.set_ylabel('loss')\n",
    "acc_ax = loss_ax.twinx()\n",
    "acc_ax.plot(hist.history['accuracy'], 'b', label='train accuracy')\n",
    "acc_ax.plot(hist.history['val_accuracy'], 'g', label='train accuracy')\n",
    "acc_ax.set_ylabel('accuracy')\n",
    "loss_ax.legend(loc='center right')\n",
    "acc_ax.legend(bbox_to_anchor=(0.999, 0.7))\n",
    "plt.show()"
   ]
  },
  {
   "cell_type": "code",
   "execution_count": 34,
   "id": "814e10ca",
   "metadata": {
    "ExecuteTime": {
     "end_time": "2024-12-18T00:59:04.028217Z",
     "start_time": "2024-12-18T00:59:03.934775Z"
    }
   },
   "outputs": [
    {
     "name": "stdout",
     "output_type": "stream",
     "text": [
      "3/3 [==============================] - 0s 1ms/step - loss: 0.5840 - accuracy: 0.8088\n",
      "Test Dataset loss: 0.5840337872505188, accuracy: 0.8088235259056091\n"
     ]
    }
   ],
   "source": [
    "# test dataset으로 Model 평가하기\n",
    "score = model.evaluate(X_test, Y_test)\n",
    "print(\"Test Dataset loss: {}, accuracy: {}\".format(score[0], score[1]))"
   ]
  },
  {
   "cell_type": "code",
   "execution_count": 35,
   "id": "a4315a1b",
   "metadata": {
    "ExecuteTime": {
     "end_time": "2024-12-18T00:59:11.652014Z",
     "start_time": "2024-12-18T00:59:11.646018Z"
    }
   },
   "outputs": [
    {
     "data": {
      "text/plain": [
       "[0.5840337872505188, 0.8088235259056091]"
      ]
     },
     "execution_count": 35,
     "metadata": {},
     "output_type": "execute_result"
    }
   ],
   "source": [
    "score # loss와 compile에서 metrics = ['accuracy']지정으로 accuracy가 저장"
   ]
  },
  {
   "cell_type": "code",
   "execution_count": 57,
   "id": "c6315852",
   "metadata": {
    "ExecuteTime": {
     "end_time": "2024-12-18T01:11:05.331327Z",
     "start_time": "2024-12-18T01:11:05.326350Z"
    }
   },
   "outputs": [
    {
     "name": "stdout",
     "output_type": "stream",
     "text": [
      "[[1. 0.]] [0.]\n"
     ]
    }
   ],
   "source": [
    "# Cross-Tablulation, 교차표 (One-Hot Encoding을 통한 분류분석)\n",
    "# pd.crosstab(실제값1차원, 예측값1차원)\n",
    "all(Y_test.argmax(axis = 1) == y_test)\n",
    "print(Y_test[:1], y_test[:1]) # argmax: 최댓값의 index를 반환"
   ]
  },
  {
   "cell_type": "code",
   "execution_count": 60,
   "id": "f971f751",
   "metadata": {
    "ExecuteTime": {
     "end_time": "2024-12-18T01:12:11.880094Z",
     "start_time": "2024-12-18T01:12:11.798522Z"
    }
   },
   "outputs": [
    {
     "name": "stdout",
     "output_type": "stream",
     "text": [
      "3/3 [==============================] - 0s 1ms/step\n"
     ]
    },
    {
     "data": {
      "text/plain": [
       "(array([[0.59773445, 0.40226555],\n",
       "        [0.62008256, 0.3799174 ]], dtype=float32),\n",
       " array([0, 0], dtype=int64))"
      ]
     },
     "execution_count": 60,
     "metadata": {},
     "output_type": "execute_result"
    }
   ],
   "source": [
    "# 예측값\n",
    "Y_hat = model.predict(X_test)\n",
    "y_hat = Y_hat.argmax(axis = 1)\n",
    "y_hat = np.argmax(Y_hat, axis = 1)\n",
    "Y_hat[:2], y_hat[:2]"
   ]
  },
  {
   "cell_type": "code",
   "execution_count": 61,
   "id": "510c4bd4",
   "metadata": {
    "ExecuteTime": {
     "end_time": "2024-12-18T01:13:29.017524Z",
     "start_time": "2024-12-18T01:13:28.965361Z"
    }
   },
   "outputs": [
    {
     "data": {
      "text/html": [
       "<div>\n",
       "<style scoped>\n",
       "    .dataframe tbody tr th:only-of-type {\n",
       "        vertical-align: middle;\n",
       "    }\n",
       "\n",
       "    .dataframe tbody tr th {\n",
       "        vertical-align: top;\n",
       "    }\n",
       "\n",
       "    .dataframe thead th {\n",
       "        text-align: right;\n",
       "    }\n",
       "</style>\n",
       "<table border=\"1\" class=\"dataframe\">\n",
       "  <thead>\n",
       "    <tr style=\"text-align: right;\">\n",
       "      <th>예측</th>\n",
       "      <th>0</th>\n",
       "      <th>1</th>\n",
       "    </tr>\n",
       "    <tr>\n",
       "      <th>실제</th>\n",
       "      <th></th>\n",
       "      <th></th>\n",
       "    </tr>\n",
       "  </thead>\n",
       "  <tbody>\n",
       "    <tr>\n",
       "      <th>0.0</th>\n",
       "      <td>38</td>\n",
       "      <td>3</td>\n",
       "    </tr>\n",
       "    <tr>\n",
       "      <th>1.0</th>\n",
       "      <td>10</td>\n",
       "      <td>17</td>\n",
       "    </tr>\n",
       "  </tbody>\n",
       "</table>\n",
       "</div>"
      ],
      "text/plain": [
       "예측    0   1\n",
       "실제         \n",
       "0.0  38   3\n",
       "1.0  10  17"
      ]
     },
     "execution_count": 61,
     "metadata": {},
     "output_type": "execute_result"
    }
   ],
   "source": [
    "ctab = pd.crosstab(y_test, y_hat)\n",
    "ctab.index.name = '실제'\n",
    "ctab.columns.name = '예측'\n",
    "ctab"
   ]
  },
  {
   "cell_type": "markdown",
   "id": "fbbc6442",
   "metadata": {},
   "source": [
    "### Model 사용"
   ]
  },
  {
   "cell_type": "code",
   "execution_count": 63,
   "id": "cf2c6ac9",
   "metadata": {
    "ExecuteTime": {
     "end_time": "2024-12-18T01:18:05.132616Z",
     "start_time": "2024-12-18T01:18:05.125640Z"
    }
   },
   "outputs": [
    {
     "data": {
      "text/plain": [
       "(array([  2.   , 122.   ,  76.   ,  27.   , 200.   ,  35.9  ,   0.483,\n",
       "         26.   ]),\n",
       " 0.0)"
      ]
     },
     "execution_count": 63,
     "metadata": {},
     "output_type": "execute_result"
    }
   ],
   "source": [
    "X_test[0], y_test[0]"
   ]
  },
  {
   "cell_type": "code",
   "execution_count": 67,
   "id": "5eb635b4",
   "metadata": {
    "ExecuteTime": {
     "end_time": "2024-12-18T01:21:00.264416Z",
     "start_time": "2024-12-18T01:21:00.070096Z"
    }
   },
   "outputs": [
    {
     "name": "stdout",
     "output_type": "stream",
     "text": [
      "1/1 [==============================] - 0s 24ms/step\n",
      "1/1 [==============================] - 0s 46ms/step\n"
     ]
    },
    {
     "data": {
      "text/plain": [
       "array([[0.59773445, 0.40226555],\n",
       "       [0.59773445, 0.40226555]], dtype=float32)"
      ]
     },
     "execution_count": 67,
     "metadata": {},
     "output_type": "execute_result"
    }
   ],
   "source": [
    "# predict에는 2차원 데이터\n",
    "predict = model.predict(np.array([[2., 122., 76., 27., 200., 35.9, 0.483, 26.]]))\n",
    "predict = model.predict([[2., 122., 76., 27., 200., 35.9, 0.483, 26.],\n",
    "                         [2., 122., 76., 27., 200., 35.9, 0.483, 26.]])\n",
    "predict"
   ]
  },
  {
   "cell_type": "code",
   "execution_count": 69,
   "id": "c6a2620c",
   "metadata": {
    "ExecuteTime": {
     "end_time": "2024-12-18T01:32:43.220385Z",
     "start_time": "2024-12-18T01:32:43.214546Z"
    }
   },
   "outputs": [
    {
     "data": {
      "text/plain": [
       "array([0, 0], dtype=int64)"
      ]
     },
     "execution_count": 69,
     "metadata": {},
     "output_type": "execute_result"
    }
   ],
   "source": [
    "predict.argmax(axis = 1)\n",
    "np.argmax(predict, axis = 1)"
   ]
  }
 ],
 "metadata": {
  "kernelspec": {
   "display_name": "Python 3 (ipykernel)",
   "language": "python",
   "name": "python3"
  },
  "language_info": {
   "codemirror_mode": {
    "name": "ipython",
    "version": 3
   },
   "file_extension": ".py",
   "mimetype": "text/x-python",
   "name": "python",
   "nbconvert_exporter": "python",
   "pygments_lexer": "ipython3",
   "version": "3.10.9"
  },
  "toc": {
   "base_numbering": 1,
   "nav_menu": {},
   "number_sections": true,
   "sideBar": true,
   "skip_h1_title": false,
   "title_cell": "Table of Contents",
   "title_sidebar": "Contents",
   "toc_cell": false,
   "toc_position": {
    "height": "calc(100% - 180px)",
    "left": "10px",
    "top": "150px",
    "width": "169px"
   },
   "toc_section_display": true,
   "toc_window_display": true
  }
 },
 "nbformat": 4,
 "nbformat_minor": 5
}
