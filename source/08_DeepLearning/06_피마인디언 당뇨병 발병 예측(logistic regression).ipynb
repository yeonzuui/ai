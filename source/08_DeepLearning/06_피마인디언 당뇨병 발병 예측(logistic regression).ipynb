{
 "cells": [
  {
   "cell_type": "code",
   "execution_count": 1,
   "id": "9b59b236",
   "metadata": {
    "ExecuteTime": {
     "end_time": "2024-12-17T07:35:32.502968Z",
     "start_time": "2024-12-17T07:35:22.364946Z"
    }
   },
   "outputs": [],
   "source": [
    "import numpy as np\n",
    "import pandas as pd\n",
    "import sys\n",
    "from tensorflow.keras.utils import to_categorical # utils.to_categorical\n",
    "from tensorflow.keras.models import Sequential # 모델생성\n",
    "from tensorflow .keras.layers import Dense, Input\n",
    "import matplotlib.pyplot as plt"
   ]
  },
  {
   "cell_type": "markdown",
   "id": "db5b45ca",
   "metadata": {},
   "source": [
    "# Logistic Regression (binary classification)\n",
    "## 1. Dataset 생성 & 전처리"
   ]
  },
  {
   "cell_type": "code",
   "execution_count": 2,
   "id": "b02ea60e",
   "metadata": {
    "ExecuteTime": {
     "end_time": "2024-12-17T07:35:32.524263Z",
     "start_time": "2024-12-17T07:35:32.502968Z"
    }
   },
   "outputs": [
    {
     "data": {
      "text/plain": [
       "array([[  6.   , 148.   ,  72.   ,  35.   ,   0.   ,  33.6  ,   0.627,\n",
       "         50.   ,   1.   ],\n",
       "       [  1.   ,  85.   ,  66.   ,  29.   ,   0.   ,  26.6  ,   0.351,\n",
       "         31.   ,   0.   ]])"
      ]
     },
     "execution_count": 2,
     "metadata": {},
     "output_type": "execute_result"
    }
   ],
   "source": [
    "df = pd.read_csv('data/pima-indians-diabetes.csv', comment = '#', header = None)\n",
    "df.values[:2]\n",
    "# 결측치 없으므로, csv파일을 바로 넘파이 배열로 읽어올 예정"
   ]
  },
  {
   "cell_type": "code",
   "execution_count": 3,
   "id": "7dce6224",
   "metadata": {
    "ExecuteTime": {
     "end_time": "2024-12-17T07:35:32.536431Z",
     "start_time": "2024-12-17T07:35:32.525144Z"
    }
   },
   "outputs": [],
   "source": [
    "# np.set_printoptions(threshold = sys.maxsize)"
   ]
  },
  {
   "cell_type": "code",
   "execution_count": 4,
   "id": "62334e3c",
   "metadata": {
    "ExecuteTime": {
     "end_time": "2024-12-17T07:35:32.544445Z",
     "start_time": "2024-12-17T07:35:32.540231Z"
    }
   },
   "outputs": [],
   "source": [
    "# 1. 임신횟수\n",
    "# 2. 2시간내 포도당 농도\n",
    "# 3. 혈압\n",
    "# 4. 피부접힘 두께\n",
    "# 5. 인슐린수치\n",
    "# 6. BMI체질량지수\n",
    "# 7. 가족력\n",
    "# 8. 나이\n",
    "# 9. 당뇨병발병여부"
   ]
  },
  {
   "cell_type": "code",
   "execution_count": 5,
   "id": "21d2e985",
   "metadata": {
    "ExecuteTime": {
     "end_time": "2024-12-17T07:35:32.568491Z",
     "start_time": "2024-12-17T07:35:32.548211Z"
    }
   },
   "outputs": [
    {
     "data": {
      "text/plain": [
       "(768, 9)"
      ]
     },
     "execution_count": 5,
     "metadata": {},
     "output_type": "execute_result"
    }
   ],
   "source": [
    "# csv파일을 numpy 배열로 읽어오기 \n",
    "# np.loadtxt(), np.genfromtxt() \n",
    "# 이 있는 행은 제외하고 읽어옴\n",
    "# delimiter: 구분문자\n",
    "dataset = np.loadtxt('data/pima-indians-diabetes.csv', delimiter = ',') \n",
    "dataset.shape"
   ]
  },
  {
   "cell_type": "code",
   "execution_count": 6,
   "id": "2eb619b2",
   "metadata": {
    "ExecuteTime": {
     "end_time": "2024-12-17T07:35:32.584990Z",
     "start_time": "2024-12-17T07:35:32.572502Z"
    }
   },
   "outputs": [
    {
     "data": {
      "text/plain": [
       "((700, 8), (700,), (68, 8), (68,))"
      ]
     },
     "execution_count": 6,
     "metadata": {},
     "output_type": "execute_result"
    }
   ],
   "source": [
    "# 학습데이터셋(학습용 데이터: train dataset): 모델 학습 시 사용\n",
    "X_train = dataset[:700, :-1]\n",
    "y_train = dataset[:700, -1]\n",
    "# 테스트데이터셋(시험용 데이터: test dataset): 모델 평가 시 사용\n",
    "X_test = dataset[700:, :-1]\n",
    "y_test = dataset[700:, -1]\n",
    "X_train.shape, y_train.shape, X_test.shape, y_test.shape"
   ]
  },
  {
   "cell_type": "markdown",
   "id": "de47b5ce",
   "metadata": {},
   "source": [
    "## 2. Model 구성"
   ]
  },
  {
   "cell_type": "code",
   "execution_count": 7,
   "id": "d1dfde4a",
   "metadata": {
    "ExecuteTime": {
     "end_time": "2024-12-17T07:35:33.535057Z",
     "start_time": "2024-12-17T07:35:32.588979Z"
    }
   },
   "outputs": [
    {
     "name": "stdout",
     "output_type": "stream",
     "text": [
      "Model: \"sequential\"\n",
      "_________________________________________________________________\n",
      " Layer (type)                Output Shape              Param #   \n",
      "=================================================================\n",
      " dense (Dense)               (None, 12)                108       \n",
      "                                                                 \n",
      " dense_1 (Dense)             (None, 8)                 104       \n",
      "                                                                 \n",
      " dense_2 (Dense)             (None, 1)                 9         \n",
      "                                                                 \n",
      "=================================================================\n",
      "Total params: 221\n",
      "Trainable params: 221\n",
      "Non-trainable params: 0\n",
      "_________________________________________________________________\n"
     ]
    }
   ],
   "source": [
    "model = Sequential()\n",
    "model.add(Input(shape = (8, )))\n",
    "model.add(Dense(units = 12, \n",
    "                activation = 'relu'))\n",
    "model.add(Dense(units = 8, \n",
    "                activation = 'relu'))\n",
    "model.add(Dense(units = 1,\n",
    "                activation = 'sigmoid'))\n",
    "model.summary()"
   ]
  },
  {
   "cell_type": "markdown",
   "id": "e65cf77d",
   "metadata": {},
   "source": [
    "## 3. Training Process 설정"
   ]
  },
  {
   "cell_type": "code",
   "execution_count": 8,
   "id": "2191b9fe",
   "metadata": {
    "ExecuteTime": {
     "end_time": "2024-12-17T07:35:33.555951Z",
     "start_time": "2024-12-17T07:35:33.537052Z"
    }
   },
   "outputs": [],
   "source": [
    "# model.compile(loss = 'binary_crossentropy',\n",
    "#               optimizer = 'adam',\n",
    "#               metrics = ['accuracy'])\n",
    "model.compile(loss      = 'binary_crossentropy',\n",
    "              optimizer = 'adam',\n",
    "              metrics   = ['binary_accuracy'])"
   ]
  },
  {
   "cell_type": "markdown",
   "id": "7966041f",
   "metadata": {},
   "source": [
    "## 4. Training"
   ]
  },
  {
   "cell_type": "code",
   "execution_count": 9,
   "id": "1b4c5b9f",
   "metadata": {
    "ExecuteTime": {
     "end_time": "2024-12-17T07:35:58.603368Z",
     "start_time": "2024-12-17T07:35:33.557907Z"
    }
   },
   "outputs": [
    {
     "name": "stdout",
     "output_type": "stream",
     "text": [
      "Epoch 1/200\n",
      "22/22 [==============================] - 1s 6ms/step - loss: 3.7890 - binary_accuracy: 0.5429\n",
      "Epoch 2/200\n",
      "22/22 [==============================] - 0s 5ms/step - loss: 1.9142 - binary_accuracy: 0.5114\n",
      "Epoch 3/200\n",
      "22/22 [==============================] - 0s 5ms/step - loss: 1.3404 - binary_accuracy: 0.5157\n",
      "Epoch 4/200\n",
      "22/22 [==============================] - 0s 5ms/step - loss: 1.1405 - binary_accuracy: 0.5229\n",
      "Epoch 5/200\n",
      "22/22 [==============================] - 0s 4ms/step - loss: 0.9983 - binary_accuracy: 0.5643\n",
      "Epoch 6/200\n",
      "22/22 [==============================] - 0s 5ms/step - loss: 0.9021 - binary_accuracy: 0.6057\n",
      "Epoch 7/200\n",
      "22/22 [==============================] - 0s 5ms/step - loss: 0.8675 - binary_accuracy: 0.6014\n",
      "Epoch 8/200\n",
      "22/22 [==============================] - 0s 4ms/step - loss: 0.7912 - binary_accuracy: 0.6043\n",
      "Epoch 9/200\n",
      "22/22 [==============================] - 0s 5ms/step - loss: 0.7670 - binary_accuracy: 0.6171\n",
      "Epoch 10/200\n",
      "22/22 [==============================] - 0s 4ms/step - loss: 0.7603 - binary_accuracy: 0.6286\n",
      "Epoch 11/200\n",
      "22/22 [==============================] - 0s 4ms/step - loss: 0.7092 - binary_accuracy: 0.6457\n",
      "Epoch 12/200\n",
      "22/22 [==============================] - 0s 4ms/step - loss: 0.7134 - binary_accuracy: 0.6529\n",
      "Epoch 13/200\n",
      "22/22 [==============================] - 0s 5ms/step - loss: 0.7102 - binary_accuracy: 0.6443\n",
      "Epoch 14/200\n",
      "22/22 [==============================] - 0s 5ms/step - loss: 0.6973 - binary_accuracy: 0.6414\n",
      "Epoch 15/200\n",
      "22/22 [==============================] - 0s 5ms/step - loss: 0.6610 - binary_accuracy: 0.6614\n",
      "Epoch 16/200\n",
      "22/22 [==============================] - 0s 5ms/step - loss: 0.6662 - binary_accuracy: 0.6571\n",
      "Epoch 17/200\n",
      "22/22 [==============================] - 0s 5ms/step - loss: 0.6462 - binary_accuracy: 0.6600\n",
      "Epoch 18/200\n",
      "22/22 [==============================] - 0s 6ms/step - loss: 0.6431 - binary_accuracy: 0.6557\n",
      "Epoch 19/200\n",
      "22/22 [==============================] - 0s 5ms/step - loss: 0.6365 - binary_accuracy: 0.6771\n",
      "Epoch 20/200\n",
      "22/22 [==============================] - 0s 5ms/step - loss: 0.6391 - binary_accuracy: 0.6543\n",
      "Epoch 21/200\n",
      "22/22 [==============================] - 0s 5ms/step - loss: 0.6320 - binary_accuracy: 0.6700\n",
      "Epoch 22/200\n",
      "22/22 [==============================] - 0s 5ms/step - loss: 0.6209 - binary_accuracy: 0.6786\n",
      "Epoch 23/200\n",
      "22/22 [==============================] - 0s 5ms/step - loss: 0.6162 - binary_accuracy: 0.6743\n",
      "Epoch 24/200\n",
      "22/22 [==============================] - 0s 5ms/step - loss: 0.6234 - binary_accuracy: 0.6814\n",
      "Epoch 25/200\n",
      "22/22 [==============================] - 0s 5ms/step - loss: 0.6105 - binary_accuracy: 0.6843\n",
      "Epoch 26/200\n",
      "22/22 [==============================] - 0s 5ms/step - loss: 0.6113 - binary_accuracy: 0.6757\n",
      "Epoch 27/200\n",
      "22/22 [==============================] - 0s 5ms/step - loss: 0.6202 - binary_accuracy: 0.6786\n",
      "Epoch 28/200\n",
      "22/22 [==============================] - 0s 5ms/step - loss: 0.6205 - binary_accuracy: 0.6957\n",
      "Epoch 29/200\n",
      "22/22 [==============================] - 0s 5ms/step - loss: 0.6159 - binary_accuracy: 0.7100\n",
      "Epoch 30/200\n",
      "22/22 [==============================] - 0s 6ms/step - loss: 0.5938 - binary_accuracy: 0.6986\n",
      "Epoch 31/200\n",
      "22/22 [==============================] - 0s 5ms/step - loss: 0.6102 - binary_accuracy: 0.6886\n",
      "Epoch 32/200\n",
      "22/22 [==============================] - 0s 5ms/step - loss: 0.5861 - binary_accuracy: 0.7000\n",
      "Epoch 33/200\n",
      "22/22 [==============================] - 0s 5ms/step - loss: 0.6033 - binary_accuracy: 0.6943\n",
      "Epoch 34/200\n",
      "22/22 [==============================] - 0s 5ms/step - loss: 0.6010 - binary_accuracy: 0.6943\n",
      "Epoch 35/200\n",
      "22/22 [==============================] - 0s 5ms/step - loss: 0.5899 - binary_accuracy: 0.6957\n",
      "Epoch 36/200\n",
      "22/22 [==============================] - 0s 5ms/step - loss: 0.5990 - binary_accuracy: 0.6986\n",
      "Epoch 37/200\n",
      "22/22 [==============================] - 0s 4ms/step - loss: 0.5985 - binary_accuracy: 0.6886\n",
      "Epoch 38/200\n",
      "22/22 [==============================] - 0s 5ms/step - loss: 0.5786 - binary_accuracy: 0.7143\n",
      "Epoch 39/200\n",
      "22/22 [==============================] - 0s 6ms/step - loss: 0.5898 - binary_accuracy: 0.7029\n",
      "Epoch 40/200\n",
      "22/22 [==============================] - 0s 5ms/step - loss: 0.5851 - binary_accuracy: 0.7100\n",
      "Epoch 41/200\n",
      "22/22 [==============================] - 0s 4ms/step - loss: 0.5888 - binary_accuracy: 0.7100\n",
      "Epoch 42/200\n",
      "22/22 [==============================] - 0s 5ms/step - loss: 0.5910 - binary_accuracy: 0.6943\n",
      "Epoch 43/200\n",
      "22/22 [==============================] - 0s 5ms/step - loss: 0.5912 - binary_accuracy: 0.7071\n",
      "Epoch 44/200\n",
      "22/22 [==============================] - 0s 4ms/step - loss: 0.6152 - binary_accuracy: 0.6900\n",
      "Epoch 45/200\n",
      "22/22 [==============================] - 0s 5ms/step - loss: 0.6281 - binary_accuracy: 0.6871\n",
      "Epoch 46/200\n",
      "22/22 [==============================] - 0s 5ms/step - loss: 0.5915 - binary_accuracy: 0.6986\n",
      "Epoch 47/200\n",
      "22/22 [==============================] - 0s 5ms/step - loss: 0.5681 - binary_accuracy: 0.7086\n",
      "Epoch 48/200\n",
      "22/22 [==============================] - 0s 5ms/step - loss: 0.5764 - binary_accuracy: 0.7157\n",
      "Epoch 49/200\n",
      "22/22 [==============================] - 0s 5ms/step - loss: 0.5734 - binary_accuracy: 0.7071\n",
      "Epoch 50/200\n",
      "22/22 [==============================] - 0s 5ms/step - loss: 0.5733 - binary_accuracy: 0.7186\n",
      "Epoch 51/200\n",
      "22/22 [==============================] - 0s 5ms/step - loss: 0.5786 - binary_accuracy: 0.6900\n",
      "Epoch 52/200\n",
      "22/22 [==============================] - 0s 4ms/step - loss: 0.5851 - binary_accuracy: 0.7086\n",
      "Epoch 53/200\n",
      "22/22 [==============================] - 0s 5ms/step - loss: 0.5615 - binary_accuracy: 0.7257\n",
      "Epoch 54/200\n",
      "22/22 [==============================] - 0s 6ms/step - loss: 0.5741 - binary_accuracy: 0.7114\n",
      "Epoch 55/200\n",
      "22/22 [==============================] - 0s 5ms/step - loss: 0.5682 - binary_accuracy: 0.7271\n",
      "Epoch 56/200\n",
      "22/22 [==============================] - 0s 5ms/step - loss: 0.5683 - binary_accuracy: 0.7271\n",
      "Epoch 57/200\n",
      "22/22 [==============================] - 0s 6ms/step - loss: 0.5671 - binary_accuracy: 0.7100\n",
      "Epoch 58/200\n",
      "22/22 [==============================] - 0s 6ms/step - loss: 0.5631 - binary_accuracy: 0.7214\n",
      "Epoch 59/200\n",
      "22/22 [==============================] - 0s 5ms/step - loss: 0.5686 - binary_accuracy: 0.7214\n",
      "Epoch 60/200\n",
      "22/22 [==============================] - 0s 5ms/step - loss: 0.5660 - binary_accuracy: 0.7171\n",
      "Epoch 61/200\n",
      "22/22 [==============================] - 0s 5ms/step - loss: 0.5612 - binary_accuracy: 0.7157\n",
      "Epoch 62/200\n",
      "22/22 [==============================] - 0s 5ms/step - loss: 0.5678 - binary_accuracy: 0.7171\n",
      "Epoch 63/200\n",
      "22/22 [==============================] - 0s 5ms/step - loss: 0.5907 - binary_accuracy: 0.6971\n",
      "Epoch 64/200\n",
      "22/22 [==============================] - 0s 5ms/step - loss: 0.5764 - binary_accuracy: 0.7043\n",
      "Epoch 65/200\n",
      "22/22 [==============================] - 0s 5ms/step - loss: 0.5609 - binary_accuracy: 0.7014\n",
      "Epoch 66/200\n",
      "22/22 [==============================] - 0s 5ms/step - loss: 0.5660 - binary_accuracy: 0.7314\n",
      "Epoch 67/200\n",
      "22/22 [==============================] - 0s 5ms/step - loss: 0.5669 - binary_accuracy: 0.7186\n",
      "Epoch 68/200\n",
      "22/22 [==============================] - 0s 4ms/step - loss: 0.5492 - binary_accuracy: 0.7314\n",
      "Epoch 69/200\n",
      "22/22 [==============================] - 0s 5ms/step - loss: 0.5687 - binary_accuracy: 0.7171\n",
      "Epoch 70/200\n",
      "22/22 [==============================] - 0s 5ms/step - loss: 0.5655 - binary_accuracy: 0.7229\n",
      "Epoch 71/200\n",
      "22/22 [==============================] - 0s 6ms/step - loss: 0.5605 - binary_accuracy: 0.7229\n",
      "Epoch 72/200\n",
      "22/22 [==============================] - 0s 5ms/step - loss: 0.5666 - binary_accuracy: 0.7171\n",
      "Epoch 73/200\n",
      "22/22 [==============================] - 0s 6ms/step - loss: 0.5697 - binary_accuracy: 0.7186\n",
      "Epoch 74/200\n",
      "22/22 [==============================] - 0s 5ms/step - loss: 0.5793 - binary_accuracy: 0.7100\n",
      "Epoch 75/200\n",
      "22/22 [==============================] - 0s 6ms/step - loss: 0.5621 - binary_accuracy: 0.7200\n",
      "Epoch 76/200\n",
      "22/22 [==============================] - 0s 5ms/step - loss: 0.5526 - binary_accuracy: 0.7286\n",
      "Epoch 77/200\n"
     ]
    },
    {
     "name": "stdout",
     "output_type": "stream",
     "text": [
      "22/22 [==============================] - 0s 5ms/step - loss: 0.5516 - binary_accuracy: 0.7400\n",
      "Epoch 78/200\n",
      "22/22 [==============================] - 0s 5ms/step - loss: 0.5459 - binary_accuracy: 0.7300\n",
      "Epoch 79/200\n",
      "22/22 [==============================] - 0s 4ms/step - loss: 0.5596 - binary_accuracy: 0.7114\n",
      "Epoch 80/200\n",
      "22/22 [==============================] - 0s 6ms/step - loss: 0.5548 - binary_accuracy: 0.7200\n",
      "Epoch 81/200\n",
      "22/22 [==============================] - 0s 5ms/step - loss: 0.5545 - binary_accuracy: 0.7286\n",
      "Epoch 82/200\n",
      "22/22 [==============================] - 0s 6ms/step - loss: 0.5527 - binary_accuracy: 0.7200\n",
      "Epoch 83/200\n",
      "22/22 [==============================] - 0s 5ms/step - loss: 0.5504 - binary_accuracy: 0.7214\n",
      "Epoch 84/200\n",
      "22/22 [==============================] - 0s 5ms/step - loss: 0.5582 - binary_accuracy: 0.7286\n",
      "Epoch 85/200\n",
      "22/22 [==============================] - 0s 5ms/step - loss: 0.5466 - binary_accuracy: 0.7414\n",
      "Epoch 86/200\n",
      "22/22 [==============================] - 0s 5ms/step - loss: 0.5441 - binary_accuracy: 0.7286\n",
      "Epoch 87/200\n",
      "22/22 [==============================] - 0s 5ms/step - loss: 0.5459 - binary_accuracy: 0.7229\n",
      "Epoch 88/200\n",
      "22/22 [==============================] - 0s 5ms/step - loss: 0.5625 - binary_accuracy: 0.7271\n",
      "Epoch 89/200\n",
      "22/22 [==============================] - 0s 5ms/step - loss: 0.5485 - binary_accuracy: 0.7271\n",
      "Epoch 90/200\n",
      "22/22 [==============================] - 0s 5ms/step - loss: 0.5560 - binary_accuracy: 0.7343\n",
      "Epoch 91/200\n",
      "22/22 [==============================] - 0s 6ms/step - loss: 0.5525 - binary_accuracy: 0.7400\n",
      "Epoch 92/200\n",
      "22/22 [==============================] - 0s 6ms/step - loss: 0.5473 - binary_accuracy: 0.7300\n",
      "Epoch 93/200\n",
      "22/22 [==============================] - 0s 6ms/step - loss: 0.5434 - binary_accuracy: 0.7243\n",
      "Epoch 94/200\n",
      "22/22 [==============================] - 0s 5ms/step - loss: 0.5772 - binary_accuracy: 0.7186\n",
      "Epoch 95/200\n",
      "22/22 [==============================] - 0s 5ms/step - loss: 0.5919 - binary_accuracy: 0.6914\n",
      "Epoch 96/200\n",
      "22/22 [==============================] - 0s 6ms/step - loss: 0.5545 - binary_accuracy: 0.7257\n",
      "Epoch 97/200\n",
      "22/22 [==============================] - 0s 5ms/step - loss: 0.5341 - binary_accuracy: 0.7286\n",
      "Epoch 98/200\n",
      "22/22 [==============================] - 0s 6ms/step - loss: 0.5421 - binary_accuracy: 0.7457\n",
      "Epoch 99/200\n",
      "22/22 [==============================] - 0s 6ms/step - loss: 0.5430 - binary_accuracy: 0.7371\n",
      "Epoch 100/200\n",
      "22/22 [==============================] - 0s 5ms/step - loss: 0.5942 - binary_accuracy: 0.7129\n",
      "Epoch 101/200\n",
      "22/22 [==============================] - 0s 5ms/step - loss: 0.5627 - binary_accuracy: 0.7343\n",
      "Epoch 102/200\n",
      "22/22 [==============================] - 0s 6ms/step - loss: 0.5581 - binary_accuracy: 0.7357\n",
      "Epoch 103/200\n",
      "22/22 [==============================] - 0s 5ms/step - loss: 0.5369 - binary_accuracy: 0.7343\n",
      "Epoch 104/200\n",
      "22/22 [==============================] - 0s 6ms/step - loss: 0.5372 - binary_accuracy: 0.7429\n",
      "Epoch 105/200\n",
      "22/22 [==============================] - 0s 5ms/step - loss: 0.5599 - binary_accuracy: 0.7329\n",
      "Epoch 106/200\n",
      "22/22 [==============================] - 0s 6ms/step - loss: 0.5585 - binary_accuracy: 0.7229\n",
      "Epoch 107/200\n",
      "22/22 [==============================] - 0s 6ms/step - loss: 0.5383 - binary_accuracy: 0.7386\n",
      "Epoch 108/200\n",
      "22/22 [==============================] - 0s 5ms/step - loss: 0.5406 - binary_accuracy: 0.7257\n",
      "Epoch 109/200\n",
      "22/22 [==============================] - 0s 6ms/step - loss: 0.5391 - binary_accuracy: 0.7214\n",
      "Epoch 110/200\n",
      "22/22 [==============================] - 0s 6ms/step - loss: 0.5340 - binary_accuracy: 0.7429\n",
      "Epoch 111/200\n",
      "22/22 [==============================] - 0s 5ms/step - loss: 0.5358 - binary_accuracy: 0.7314\n",
      "Epoch 112/200\n",
      "22/22 [==============================] - 0s 5ms/step - loss: 0.5348 - binary_accuracy: 0.7386\n",
      "Epoch 113/200\n",
      "22/22 [==============================] - 0s 5ms/step - loss: 0.5401 - binary_accuracy: 0.7371\n",
      "Epoch 114/200\n",
      "22/22 [==============================] - 0s 5ms/step - loss: 0.5330 - binary_accuracy: 0.7400\n",
      "Epoch 115/200\n",
      "22/22 [==============================] - 0s 5ms/step - loss: 0.5296 - binary_accuracy: 0.7271\n",
      "Epoch 116/200\n",
      "22/22 [==============================] - 0s 6ms/step - loss: 0.5315 - binary_accuracy: 0.7300\n",
      "Epoch 117/200\n",
      "22/22 [==============================] - 0s 6ms/step - loss: 0.5291 - binary_accuracy: 0.7357\n",
      "Epoch 118/200\n",
      "22/22 [==============================] - 0s 6ms/step - loss: 0.5400 - binary_accuracy: 0.7314\n",
      "Epoch 119/200\n",
      "22/22 [==============================] - 0s 5ms/step - loss: 0.5477 - binary_accuracy: 0.7200\n",
      "Epoch 120/200\n",
      "22/22 [==============================] - 0s 6ms/step - loss: 0.5359 - binary_accuracy: 0.7329\n",
      "Epoch 121/200\n",
      "22/22 [==============================] - 0s 5ms/step - loss: 0.5335 - binary_accuracy: 0.7371\n",
      "Epoch 122/200\n",
      "22/22 [==============================] - 0s 5ms/step - loss: 0.5775 - binary_accuracy: 0.7129\n",
      "Epoch 123/200\n",
      "22/22 [==============================] - 0s 5ms/step - loss: 0.5534 - binary_accuracy: 0.7386\n",
      "Epoch 124/200\n",
      "22/22 [==============================] - 0s 6ms/step - loss: 0.5477 - binary_accuracy: 0.7414\n",
      "Epoch 125/200\n",
      "22/22 [==============================] - 0s 6ms/step - loss: 0.5178 - binary_accuracy: 0.7514\n",
      "Epoch 126/200\n",
      "22/22 [==============================] - 0s 5ms/step - loss: 0.5373 - binary_accuracy: 0.7200\n",
      "Epoch 127/200\n",
      "22/22 [==============================] - 0s 5ms/step - loss: 0.5243 - binary_accuracy: 0.7529\n",
      "Epoch 128/200\n",
      "22/22 [==============================] - 0s 6ms/step - loss: 0.5326 - binary_accuracy: 0.7386\n",
      "Epoch 129/200\n",
      "22/22 [==============================] - 0s 6ms/step - loss: 0.5305 - binary_accuracy: 0.7471\n",
      "Epoch 130/200\n",
      "22/22 [==============================] - 0s 5ms/step - loss: 0.5282 - binary_accuracy: 0.7429\n",
      "Epoch 131/200\n",
      "22/22 [==============================] - 0s 6ms/step - loss: 0.5484 - binary_accuracy: 0.7186\n",
      "Epoch 132/200\n",
      "22/22 [==============================] - 0s 6ms/step - loss: 0.5484 - binary_accuracy: 0.7257\n",
      "Epoch 133/200\n",
      "22/22 [==============================] - 0s 6ms/step - loss: 0.5347 - binary_accuracy: 0.7371\n",
      "Epoch 134/200\n",
      "22/22 [==============================] - 0s 5ms/step - loss: 0.5240 - binary_accuracy: 0.7400\n",
      "Epoch 135/200\n",
      "22/22 [==============================] - 0s 6ms/step - loss: 0.5299 - binary_accuracy: 0.7429\n",
      "Epoch 136/200\n",
      "22/22 [==============================] - 0s 5ms/step - loss: 0.5356 - binary_accuracy: 0.7386\n",
      "Epoch 137/200\n",
      "22/22 [==============================] - 0s 5ms/step - loss: 0.5286 - binary_accuracy: 0.7414\n",
      "Epoch 138/200\n",
      "22/22 [==============================] - 0s 5ms/step - loss: 0.5241 - binary_accuracy: 0.7471\n",
      "Epoch 139/200\n",
      "22/22 [==============================] - 0s 5ms/step - loss: 0.5320 - binary_accuracy: 0.7443\n",
      "Epoch 140/200\n",
      "22/22 [==============================] - 0s 6ms/step - loss: 0.5265 - binary_accuracy: 0.7300\n",
      "Epoch 141/200\n",
      "22/22 [==============================] - 0s 5ms/step - loss: 0.5349 - binary_accuracy: 0.7486\n",
      "Epoch 142/200\n",
      "22/22 [==============================] - 0s 7ms/step - loss: 0.5264 - binary_accuracy: 0.7429\n",
      "Epoch 143/200\n",
      "22/22 [==============================] - 0s 5ms/step - loss: 0.5426 - binary_accuracy: 0.7443\n",
      "Epoch 144/200\n",
      "22/22 [==============================] - 0s 6ms/step - loss: 0.5508 - binary_accuracy: 0.7329\n",
      "Epoch 145/200\n",
      "22/22 [==============================] - 0s 6ms/step - loss: 0.5187 - binary_accuracy: 0.7400\n",
      "Epoch 146/200\n",
      "22/22 [==============================] - 0s 5ms/step - loss: 0.5235 - binary_accuracy: 0.7443\n",
      "Epoch 147/200\n",
      "22/22 [==============================] - 0s 6ms/step - loss: 0.5341 - binary_accuracy: 0.7314\n",
      "Epoch 148/200\n",
      "22/22 [==============================] - 0s 6ms/step - loss: 0.5251 - binary_accuracy: 0.7457\n",
      "Epoch 149/200\n",
      "22/22 [==============================] - 0s 5ms/step - loss: 0.5257 - binary_accuracy: 0.7371\n",
      "Epoch 150/200\n",
      "22/22 [==============================] - 0s 6ms/step - loss: 0.5265 - binary_accuracy: 0.7486\n",
      "Epoch 151/200\n",
      "22/22 [==============================] - 0s 5ms/step - loss: 0.5340 - binary_accuracy: 0.7614\n",
      "Epoch 152/200\n",
      "22/22 [==============================] - 0s 6ms/step - loss: 0.5346 - binary_accuracy: 0.7543\n",
      "Epoch 153/200\n"
     ]
    },
    {
     "name": "stdout",
     "output_type": "stream",
     "text": [
      "22/22 [==============================] - 0s 6ms/step - loss: 0.5353 - binary_accuracy: 0.7400\n",
      "Epoch 154/200\n",
      "22/22 [==============================] - 0s 6ms/step - loss: 0.5165 - binary_accuracy: 0.7557\n",
      "Epoch 155/200\n",
      "22/22 [==============================] - 0s 6ms/step - loss: 0.5202 - binary_accuracy: 0.7471\n",
      "Epoch 156/200\n",
      "22/22 [==============================] - 0s 5ms/step - loss: 0.5106 - binary_accuracy: 0.7514\n",
      "Epoch 157/200\n",
      "22/22 [==============================] - 0s 6ms/step - loss: 0.5206 - binary_accuracy: 0.7471\n",
      "Epoch 158/200\n",
      "22/22 [==============================] - 0s 6ms/step - loss: 0.5212 - binary_accuracy: 0.7543\n",
      "Epoch 159/200\n",
      "22/22 [==============================] - 0s 5ms/step - loss: 0.5176 - binary_accuracy: 0.7571\n",
      "Epoch 160/200\n",
      "22/22 [==============================] - 0s 5ms/step - loss: 0.5138 - binary_accuracy: 0.7571\n",
      "Epoch 161/200\n",
      "22/22 [==============================] - 0s 5ms/step - loss: 0.5247 - binary_accuracy: 0.7300\n",
      "Epoch 162/200\n",
      "22/22 [==============================] - 0s 6ms/step - loss: 0.5323 - binary_accuracy: 0.7371\n",
      "Epoch 163/200\n",
      "22/22 [==============================] - 0s 6ms/step - loss: 0.5185 - binary_accuracy: 0.7457\n",
      "Epoch 164/200\n",
      "22/22 [==============================] - 0s 5ms/step - loss: 0.5197 - binary_accuracy: 0.7586\n",
      "Epoch 165/200\n",
      "22/22 [==============================] - 0s 5ms/step - loss: 0.5137 - binary_accuracy: 0.7529\n",
      "Epoch 166/200\n",
      "22/22 [==============================] - 0s 6ms/step - loss: 0.5114 - binary_accuracy: 0.7557\n",
      "Epoch 167/200\n",
      "22/22 [==============================] - 0s 6ms/step - loss: 0.5125 - binary_accuracy: 0.7543\n",
      "Epoch 168/200\n",
      "22/22 [==============================] - 0s 5ms/step - loss: 0.5296 - binary_accuracy: 0.7386\n",
      "Epoch 169/200\n",
      "22/22 [==============================] - 0s 5ms/step - loss: 0.5195 - binary_accuracy: 0.7429\n",
      "Epoch 170/200\n",
      "22/22 [==============================] - 0s 5ms/step - loss: 0.5171 - binary_accuracy: 0.7614\n",
      "Epoch 171/200\n",
      "22/22 [==============================] - 0s 6ms/step - loss: 0.5220 - binary_accuracy: 0.7543\n",
      "Epoch 172/200\n",
      "22/22 [==============================] - 0s 5ms/step - loss: 0.5243 - binary_accuracy: 0.7543\n",
      "Epoch 173/200\n",
      "22/22 [==============================] - 0s 6ms/step - loss: 0.5445 - binary_accuracy: 0.7214\n",
      "Epoch 174/200\n",
      "22/22 [==============================] - 0s 6ms/step - loss: 0.5168 - binary_accuracy: 0.7514\n",
      "Epoch 175/200\n",
      "22/22 [==============================] - 0s 6ms/step - loss: 0.5364 - binary_accuracy: 0.7414\n",
      "Epoch 176/200\n",
      "22/22 [==============================] - 0s 5ms/step - loss: 0.5321 - binary_accuracy: 0.7357\n",
      "Epoch 177/200\n",
      "22/22 [==============================] - 0s 5ms/step - loss: 0.5116 - binary_accuracy: 0.7643\n",
      "Epoch 178/200\n",
      "22/22 [==============================] - 0s 5ms/step - loss: 0.5092 - binary_accuracy: 0.7586\n",
      "Epoch 179/200\n",
      "22/22 [==============================] - 0s 5ms/step - loss: 0.5206 - binary_accuracy: 0.7457\n",
      "Epoch 180/200\n",
      "22/22 [==============================] - 0s 5ms/step - loss: 0.5137 - binary_accuracy: 0.7457\n",
      "Epoch 181/200\n",
      "22/22 [==============================] - 0s 6ms/step - loss: 0.5436 - binary_accuracy: 0.7314\n",
      "Epoch 182/200\n",
      "22/22 [==============================] - 0s 5ms/step - loss: 0.5222 - binary_accuracy: 0.7443\n",
      "Epoch 183/200\n",
      "22/22 [==============================] - 0s 5ms/step - loss: 0.5168 - binary_accuracy: 0.7529\n",
      "Epoch 184/200\n",
      "22/22 [==============================] - 0s 5ms/step - loss: 0.5268 - binary_accuracy: 0.7543\n",
      "Epoch 185/200\n",
      "22/22 [==============================] - 0s 6ms/step - loss: 0.5178 - binary_accuracy: 0.7429\n",
      "Epoch 186/200\n",
      "22/22 [==============================] - 0s 5ms/step - loss: 0.5005 - binary_accuracy: 0.7700\n",
      "Epoch 187/200\n",
      "22/22 [==============================] - 0s 6ms/step - loss: 0.5334 - binary_accuracy: 0.7414\n",
      "Epoch 188/200\n",
      "22/22 [==============================] - 0s 5ms/step - loss: 0.5106 - binary_accuracy: 0.7557\n",
      "Epoch 189/200\n",
      "22/22 [==============================] - 0s 6ms/step - loss: 0.5198 - binary_accuracy: 0.7414\n",
      "Epoch 190/200\n",
      "22/22 [==============================] - 0s 6ms/step - loss: 0.5106 - binary_accuracy: 0.7657\n",
      "Epoch 191/200\n",
      "22/22 [==============================] - 0s 5ms/step - loss: 0.5009 - binary_accuracy: 0.7529\n",
      "Epoch 192/200\n",
      "22/22 [==============================] - 0s 5ms/step - loss: 0.5108 - binary_accuracy: 0.7529\n",
      "Epoch 193/200\n",
      "22/22 [==============================] - 0s 5ms/step - loss: 0.5158 - binary_accuracy: 0.7357\n",
      "Epoch 194/200\n",
      "22/22 [==============================] - 0s 6ms/step - loss: 0.5181 - binary_accuracy: 0.7543\n",
      "Epoch 195/200\n",
      "22/22 [==============================] - 0s 6ms/step - loss: 0.5532 - binary_accuracy: 0.7429\n",
      "Epoch 196/200\n",
      "22/22 [==============================] - 0s 7ms/step - loss: 0.5126 - binary_accuracy: 0.7386\n",
      "Epoch 197/200\n",
      "22/22 [==============================] - 0s 6ms/step - loss: 0.5239 - binary_accuracy: 0.7371\n",
      "Epoch 198/200\n",
      "22/22 [==============================] - 0s 6ms/step - loss: 0.5098 - binary_accuracy: 0.7614\n",
      "Epoch 199/200\n",
      "22/22 [==============================] - 0s 5ms/step - loss: 0.5089 - binary_accuracy: 0.7571\n",
      "Epoch 200/200\n",
      "22/22 [==============================] - 0s 6ms/step - loss: 0.5041 - binary_accuracy: 0.7657\n"
     ]
    }
   ],
   "source": [
    "hist = model.fit(X_train, y_train, # train dataset\n",
    "                 epochs = 200,\n",
    "                 # batch_size = 350,\n",
    "                 # validation_split = 0.2, # 검증 데이터 비율(훈련데이터셋 중 20%를 검증용 데이터로)\n",
    "                 verbose = 1\n",
    "                )"
   ]
  },
  {
   "cell_type": "markdown",
   "id": "6b309bc4",
   "metadata": {},
   "source": [
    "## 5. Model 평가(학습과정 보기, 평가)"
   ]
  },
  {
   "cell_type": "code",
   "execution_count": 10,
   "id": "99753e1d",
   "metadata": {
    "ExecuteTime": {
     "end_time": "2024-12-17T07:35:58.620008Z",
     "start_time": "2024-12-17T07:35:58.606360Z"
    }
   },
   "outputs": [
    {
     "data": {
      "text/plain": [
       "dict_keys(['loss', 'binary_accuracy'])"
      ]
     },
     "execution_count": 10,
     "metadata": {},
     "output_type": "execute_result"
    }
   ],
   "source": [
    "hist.history.keys()"
   ]
  },
  {
   "cell_type": "code",
   "execution_count": 11,
   "id": "6a7939ec",
   "metadata": {
    "ExecuteTime": {
     "end_time": "2024-12-17T07:35:58.971319Z",
     "start_time": "2024-12-17T07:35:58.622999Z"
    }
   },
   "outputs": [
    {
     "data": {
      "image/png": "[encoded data removed]",
      "text/plain": [
       "<Figure size 1000x500 with 2 Axes>"
      ]
     },
     "metadata": {},
     "output_type": "display_data"
    }
   ],
   "source": [
    "# 학습과정 표시하기(validation dataset 없는 경우)\n",
    "fig, loss_ax = plt.subplots(figsize = (10, 5))\n",
    "loss_ax.plot(hist.history['loss'], 'r', label = 'train loss')\n",
    "loss_ax.set_xlabel('epoch')\n",
    "loss_ax.set_ylabel('loss')\n",
    "acc_ax = loss_ax.twinx()\n",
    "acc_ax.plot(hist.history['binary_accuracy'], 'b', label = 'train accuarcy')\n",
    "acc_ax.set_ylabel('accuracy')\n",
    "loss_ax.legend(loc = 'center right')\n",
    "acc_ax.legend(bbox_to_anchor = (0.999, 0.65))\n",
    "plt.show()"
   ]
  },
  {
   "cell_type": "code",
   "execution_count": 20,
   "id": "a903f88f",
   "metadata": {
    "ExecuteTime": {
     "end_time": "2024-12-17T07:44:14.490795Z",
     "start_time": "2024-12-17T07:44:14.323279Z"
    }
   },
   "outputs": [
    {
     "name": "stdout",
     "output_type": "stream",
     "text": [
      "22/22 [==============================] - 0s 5ms/step - loss: 0.4954 - binary_accuracy: 0.7614\n"
     ]
    },
    {
     "data": {
      "text/plain": [
       "[0.4953654706478119, 0.7614285945892334]"
      ]
     },
     "execution_count": 20,
     "metadata": {},
     "output_type": "execute_result"
    }
   ],
   "source": [
    "# 모델 평가(X) \n",
    "model.evaluate(X_train, y_train)"
   ]
  },
  {
   "cell_type": "code",
   "execution_count": 21,
   "id": "4f8ae644",
   "metadata": {
    "ExecuteTime": {
     "end_time": "2024-12-17T07:44:19.317289Z",
     "start_time": "2024-12-17T07:44:19.218557Z"
    }
   },
   "outputs": [
    {
     "name": "stdout",
     "output_type": "stream",
     "text": [
      "3/3 [==============================] - 0s 8ms/step - loss: 0.6197 - binary_accuracy: 0.6765\n",
      "loss: 0.6197272539138794, accuracy:67.64705777168274%\n"
     ]
    }
   ],
   "source": [
    "# 모델 평가(o)\n",
    "score = model.evaluate(X_test, y_test)\n",
    "print('loss: {}, accuracy:{}%'.format(score[0], score[1]*100))"
   ]
  },
  {
   "cell_type": "markdown",
   "id": "45f268f9",
   "metadata": {},
   "source": [
    "## 6. Model 사용하기"
   ]
  },
  {
   "cell_type": "code",
   "execution_count": 35,
   "id": "0d18c8a0",
   "metadata": {
    "ExecuteTime": {
     "end_time": "2024-12-17T07:45:14.297777Z",
     "start_time": "2024-12-17T07:45:14.290817Z"
    }
   },
   "outputs": [
    {
     "data": {
      "text/plain": [
       "(array([  4.   , 110.   ,  92.   ,   0.   ,   0.   ,  37.6  ,   0.191,\n",
       "         30.   ]),\n",
       " 0.0)"
      ]
     },
     "execution_count": 35,
     "metadata": {},
     "output_type": "execute_result"
    }
   ],
   "source": [
    "X_train[10], y_train[10]"
   ]
  },
  {
   "cell_type": "code",
   "execution_count": 36,
   "id": "33af2c59",
   "metadata": {
    "ExecuteTime": {
     "end_time": "2024-12-17T07:45:38.092223Z",
     "start_time": "2024-12-17T07:45:37.994827Z"
    }
   },
   "outputs": [
    {
     "name": "stdout",
     "output_type": "stream",
     "text": [
      "1/1 [==============================] - 0s 49ms/step\n"
     ]
    },
    {
     "data": {
      "text/plain": [
       "array([[0.21552609]], dtype=float32)"
      ]
     },
     "execution_count": 36,
     "metadata": {},
     "output_type": "execute_result"
    }
   ],
   "source": [
    "model.predict([[4, 110, 92, 0, 0, 37.6, 0.191, 30]])"
   ]
  },
  {
   "cell_type": "code",
   "execution_count": 37,
   "id": "76650a26",
   "metadata": {
    "ExecuteTime": {
     "end_time": "2024-12-17T07:46:32.004928Z",
     "start_time": "2024-12-17T07:46:31.898683Z"
    }
   },
   "outputs": [
    {
     "name": "stdout",
     "output_type": "stream",
     "text": [
      "1/1 [==============================] - 0s 52ms/step\n"
     ]
    },
    {
     "data": {
      "text/plain": [
       "array([[0],\n",
       "       [0]])"
      ]
     },
     "execution_count": 37,
     "metadata": {},
     "output_type": "execute_result"
    }
   ],
   "source": [
    "(model.predict([[4, 110, 92, 0, 0, 37.6, 0.191, 30],\n",
    "               [6, 148, 72, 35, 0, 33.6, 0.6, 50]]) > 0.5).astype(int)"
   ]
  },
  {
   "cell_type": "markdown",
   "id": "3ff22863",
   "metadata": {},
   "source": [
    "## 7. Cross-Tabulation 교차표\n",
    "- test dataset 의 실제값(y_test)와 예측값"
   ]
  },
  {
   "cell_type": "code",
   "execution_count": 45,
   "id": "9c16dcc6",
   "metadata": {
    "ExecuteTime": {
     "end_time": "2024-12-17T07:58:18.540611Z",
     "start_time": "2024-12-17T07:58:18.451885Z"
    }
   },
   "outputs": [
    {
     "name": "stdout",
     "output_type": "stream",
     "text": [
      "3/3 [==============================] - 0s 3ms/step\n",
      "10 17\n",
      "5 36\n"
     ]
    }
   ],
   "source": [
    "y_hat = (model.predict(X_test) > 0.5).astype(float)\n",
    "cnt1 = 0; cnt2 = 0; cnt3 = 0; cnt4 = 0\n",
    "# y_hat.shape, y_test.shape\n",
    "for h, y in zip(y_hat.reshape(-1), y_test.reshape(-1)):\n",
    "    if h == 1.0 and y == 1.0:\n",
    "        cnt1 += 1\n",
    "    elif y == 1.0 and h == 0.0:\n",
    "        cnt2 += 1\n",
    "    elif y == 0.0 and h == 1.0:\n",
    "        cnt3 += 1\n",
    "    else:\n",
    "        cnt4 += 1\n",
    "print(cnt1, cnt2)\n",
    "print(cnt3, cnt4)"
   ]
  },
  {
   "cell_type": "code",
   "execution_count": 49,
   "id": "45a7118b",
   "metadata": {
    "ExecuteTime": {
     "end_time": "2024-12-17T08:01:58.521763Z",
     "start_time": "2024-12-17T08:01:58.490518Z"
    }
   },
   "outputs": [
    {
     "data": {
      "text/html": [
       "<div>\n",
       "<style scoped>\n",
       "    .dataframe tbody tr th:only-of-type {\n",
       "        vertical-align: middle;\n",
       "    }\n",
       "\n",
       "    .dataframe tbody tr th {\n",
       "        vertical-align: top;\n",
       "    }\n",
       "\n",
       "    .dataframe thead th {\n",
       "        text-align: right;\n",
       "    }\n",
       "</style>\n",
       "<table border=\"1\" class=\"dataframe\">\n",
       "  <thead>\n",
       "    <tr style=\"text-align: right;\">\n",
       "      <th>y_hat</th>\n",
       "      <th>0.0</th>\n",
       "      <th>1.0</th>\n",
       "    </tr>\n",
       "    <tr>\n",
       "      <th>y</th>\n",
       "      <th></th>\n",
       "      <th></th>\n",
       "    </tr>\n",
       "  </thead>\n",
       "  <tbody>\n",
       "    <tr>\n",
       "      <th>0.0</th>\n",
       "      <td>36</td>\n",
       "      <td>5</td>\n",
       "    </tr>\n",
       "    <tr>\n",
       "      <th>1.0</th>\n",
       "      <td>17</td>\n",
       "      <td>10</td>\n",
       "    </tr>\n",
       "  </tbody>\n",
       "</table>\n",
       "</div>"
      ],
      "text/plain": [
       "y_hat  0.0  1.0\n",
       "y              \n",
       "0.0     36    5\n",
       "1.0     17   10"
      ]
     },
     "execution_count": 49,
     "metadata": {},
     "output_type": "execute_result"
    }
   ],
   "source": [
    "ctab = pd.crosstab(y_test, y_hat.reshape(-1))\n",
    "ctab.index.name = 'y'\n",
    "ctab.columns.name = 'y_hat'\n",
    "ctab"
   ]
  },
  {
   "cell_type": "markdown",
   "id": "5bc8745a",
   "metadata": {},
   "source": [
    "# Multinomial Classification, 분류분석\n",
    "```\n",
    "1. Dataset (train 600 / validation 100 / test 68으로 분리), 종속변수의 One-Hot Encoding\n",
    "2. Model 생성 (input 8, target 2): 출력층에서의 activation function은 'softmax'\n",
    "3. Training Process 설정 (loss = 'categorical_crossentropy', metrics = ['accuracy'])\n",
    "4. Training: validation_data = [X_val, Y_val] 추가\n",
    "5. Model 평가: 그래프(hist.history.keys()를 확인 후 4가지)\n",
    "               평가(X_test, Y_test)\n",
    "               Cross-Tablulation 교차표(pd.crosstab 이용)\n",
    "6. 모델 사용하기 - 예측\n",
    "                  0       1\n",
    "                  0.9912  0.00124\n",
    "```"
   ]
  },
  {
   "cell_type": "code",
   "execution_count": 59,
   "id": "713dbd2c",
   "metadata": {
    "ExecuteTime": {
     "end_time": "2024-12-17T08:53:00.359780Z",
     "start_time": "2024-12-17T08:53:00.354793Z"
    }
   },
   "outputs": [],
   "source": [
    "import numpy as np\n",
    "import pandas as pd\n",
    "import sys\n",
    "from tensorflow.keras.utils import to_categorical # utils.to_categorical\n",
    "from tensorflow.keras.models import Sequential # 모델생성\n",
    "from tensorflow .keras.layers import Dense, Input\n",
    "import matplotlib.pyplot as plt\n",
    "from tensorflow.keras.utils import to_categorical"
   ]
  },
  {
   "cell_type": "markdown",
   "id": "01eeca03",
   "metadata": {},
   "source": [
    "### dataset"
   ]
  },
  {
   "cell_type": "code",
   "execution_count": 60,
   "id": "8f1a10b6",
   "metadata": {
    "ExecuteTime": {
     "end_time": "2024-12-17T08:53:02.236637Z",
     "start_time": "2024-12-17T08:53:02.226663Z"
    }
   },
   "outputs": [
    {
     "data": {
      "text/plain": [
       "array([[  6.   , 148.   ,  72.   ,  35.   ,   0.   ,  33.6  ,   0.627,\n",
       "         50.   ,   1.   ],\n",
       "       [  1.   ,  85.   ,  66.   ,  29.   ,   0.   ,  26.6  ,   0.351,\n",
       "         31.   ,   0.   ]])"
      ]
     },
     "execution_count": 60,
     "metadata": {},
     "output_type": "execute_result"
    }
   ],
   "source": [
    "dataset = np.loadtxt('data/pima-indians-diabetes.csv', delimiter = ',')\n",
    "dataset[:2]"
   ]
  },
  {
   "cell_type": "code",
   "execution_count": 61,
   "id": "df304de0",
   "metadata": {
    "ExecuteTime": {
     "end_time": "2024-12-17T08:53:03.922670Z",
     "start_time": "2024-12-17T08:53:03.913876Z"
    }
   },
   "outputs": [
    {
     "data": {
      "text/plain": [
       "((600, 8), (600,), (100, 8), (100,), (68, 8), (68,))"
      ]
     },
     "execution_count": 61,
     "metadata": {},
     "output_type": "execute_result"
    }
   ],
   "source": [
    "# train dataset\n",
    "X_train = dataset[:600, :-1]\n",
    "Y_train = dataset[:600, -1]\n",
    "# validation dataset\n",
    "X_val = dataset[600:700, :-1]\n",
    "Y_val = dataset[600:700, -1]\n",
    "# test dataset\n",
    "X_test = dataset[700:, :-1]\n",
    "Y_test = dataset[700:, -1]\n",
    "X_train.shape, Y_train.shape, X_val.shape, Y_val.shape, X_test.shape, Y_test.shape"
   ]
  },
  {
   "cell_type": "markdown",
   "id": "fb73a67d",
   "metadata": {},
   "source": [
    "### one-hot encoding"
   ]
  },
  {
   "cell_type": "code",
   "execution_count": 66,
   "id": "9e91b462",
   "metadata": {
    "ExecuteTime": {
     "end_time": "2024-12-17T08:53:38.947837Z",
     "start_time": "2024-12-17T08:53:38.939015Z"
    }
   },
   "outputs": [
    {
     "data": {
      "text/plain": [
       "(array([[0., 1.],\n",
       "        [1., 0.]], dtype=float32),\n",
       " array([[1., 0.],\n",
       "        [1., 0.]], dtype=float32),\n",
       " array([[1., 0.],\n",
       "        [0., 1.]], dtype=float32))"
      ]
     },
     "execution_count": 66,
     "metadata": {},
     "output_type": "execute_result"
    }
   ],
   "source": [
    "# One-Hot Encoding\n",
    "onehot_Y_train = to_categorical(Y_train)\n",
    "onehot_Y_val = to_categorical(Y_val)\n",
    "onehot_Y_test = to_categorical(Y_test)\n",
    "onehot_Y_train[:2], onehot_Y_val[:2], onehot_Y_test[:2]"
   ]
  },
  {
   "cell_type": "markdown",
   "id": "519f1a7f",
   "metadata": {},
   "source": [
    "### model 생성"
   ]
  },
  {
   "cell_type": "code",
   "execution_count": 67,
   "id": "160ec221",
   "metadata": {
    "ExecuteTime": {
     "end_time": "2024-12-17T08:53:40.541152Z",
     "start_time": "2024-12-17T08:53:40.457478Z"
    }
   },
   "outputs": [
    {
     "name": "stdout",
     "output_type": "stream",
     "text": [
      "Model: \"sequential_12\"\n",
      "_________________________________________________________________\n",
      " Layer (type)                Output Shape              Param #   \n",
      "=================================================================\n",
      " dense_46 (Dense)            (None, 16)                144       \n",
      "                                                                 \n",
      " dense_47 (Dense)            (None, 128)               2176      \n",
      "                                                                 \n",
      " dense_48 (Dense)            (None, 64)                8256      \n",
      "                                                                 \n",
      " dense_49 (Dense)            (None, 2)                 130       \n",
      "                                                                 \n",
      "=================================================================\n",
      "Total params: 10,706\n",
      "Trainable params: 10,706\n",
      "Non-trainable params: 0\n",
      "_________________________________________________________________\n"
     ]
    }
   ],
   "source": [
    "# Model 생성\n",
    "model = Sequential()\n",
    "model.add(Input(shape = (8)))\n",
    "model.add(Dense(units = 16,\n",
    "                activation = 'relu'))\n",
    "model.add(Dense(units = 128,\n",
    "                activation = 'relu'))\n",
    "model.add(Dense(units = 64,\n",
    "                activation = 'relu'))\n",
    "model.add(Dense(units = 2,\n",
    "                activation = 'softmax'))\n",
    "model.summary()"
   ]
  },
  {
   "cell_type": "markdown",
   "id": "ed2d6859",
   "metadata": {},
   "source": [
    "### training process setting"
   ]
  },
  {
   "cell_type": "code",
   "execution_count": 68,
   "id": "d4a04eea",
   "metadata": {
    "ExecuteTime": {
     "end_time": "2024-12-17T08:53:43.678460Z",
     "start_time": "2024-12-17T08:53:43.666305Z"
    }
   },
   "outputs": [],
   "source": [
    "model.compile(loss = 'categorical_crossentropy',\n",
    "              optimizer = 'nadam',\n",
    "              metrics = ['accuracy'])"
   ]
  },
  {
   "cell_type": "markdown",
   "id": "40d76e81",
   "metadata": {},
   "source": [
    "### training"
   ]
  },
  {
   "cell_type": "code",
   "execution_count": 69,
   "id": "62b4cb12",
   "metadata": {
    "ExecuteTime": {
     "end_time": "2024-12-17T08:54:45.111669Z",
     "start_time": "2024-12-17T08:53:52.842574Z"
    }
   },
   "outputs": [
    {
     "name": "stdout",
     "output_type": "stream",
     "text": [
      "Epoch 1/200\n",
      "19/19 [==============================] - 1s 22ms/step - loss: 2.8550 - accuracy: 0.5150 - val_loss: 0.7441 - val_accuracy: 0.6800\n",
      "Epoch 2/200\n",
      "19/19 [==============================] - 0s 13ms/step - loss: 1.2939 - accuracy: 0.5667 - val_loss: 0.6636 - val_accuracy: 0.6500\n",
      "Epoch 3/200\n",
      "19/19 [==============================] - 0s 14ms/step - loss: 1.1853 - accuracy: 0.5750 - val_loss: 0.8310 - val_accuracy: 0.5200\n",
      "Epoch 4/200\n",
      "19/19 [==============================] - 0s 14ms/step - loss: 1.0123 - accuracy: 0.6333 - val_loss: 0.6811 - val_accuracy: 0.6000\n",
      "Epoch 5/200\n",
      "19/19 [==============================] - 0s 12ms/step - loss: 1.0391 - accuracy: 0.6067 - val_loss: 0.7915 - val_accuracy: 0.5500\n",
      "Epoch 6/200\n",
      "19/19 [==============================] - 0s 14ms/step - loss: 0.9970 - accuracy: 0.5933 - val_loss: 0.9735 - val_accuracy: 0.6600\n",
      "Epoch 7/200\n",
      "19/19 [==============================] - 0s 13ms/step - loss: 1.0017 - accuracy: 0.6117 - val_loss: 0.9585 - val_accuracy: 0.6700\n",
      "Epoch 8/200\n",
      "19/19 [==============================] - 0s 14ms/step - loss: 0.7801 - accuracy: 0.6683 - val_loss: 0.6714 - val_accuracy: 0.6200\n",
      "Epoch 9/200\n",
      "19/19 [==============================] - 0s 16ms/step - loss: 0.7249 - accuracy: 0.6717 - val_loss: 0.8055 - val_accuracy: 0.5400\n",
      "Epoch 10/200\n",
      "19/19 [==============================] - 0s 14ms/step - loss: 0.8535 - accuracy: 0.6450 - val_loss: 0.9572 - val_accuracy: 0.6600\n",
      "Epoch 11/200\n",
      "19/19 [==============================] - 0s 13ms/step - loss: 0.9852 - accuracy: 0.6250 - val_loss: 0.8953 - val_accuracy: 0.6600\n",
      "Epoch 12/200\n",
      "19/19 [==============================] - 0s 13ms/step - loss: 0.7812 - accuracy: 0.6783 - val_loss: 0.6077 - val_accuracy: 0.6600\n",
      "Epoch 13/200\n",
      "19/19 [==============================] - 0s 13ms/step - loss: 0.7073 - accuracy: 0.6833 - val_loss: 0.6294 - val_accuracy: 0.6200\n",
      "Epoch 14/200\n",
      "19/19 [==============================] - 0s 13ms/step - loss: 0.8625 - accuracy: 0.6367 - val_loss: 0.7463 - val_accuracy: 0.6700\n",
      "Epoch 15/200\n",
      "19/19 [==============================] - 0s 15ms/step - loss: 0.7398 - accuracy: 0.6800 - val_loss: 0.6948 - val_accuracy: 0.6800\n",
      "Epoch 16/200\n",
      "19/19 [==============================] - 0s 15ms/step - loss: 0.8633 - accuracy: 0.6350 - val_loss: 0.6707 - val_accuracy: 0.6500\n",
      "Epoch 17/200\n",
      "19/19 [==============================] - 0s 14ms/step - loss: 0.7988 - accuracy: 0.6583 - val_loss: 1.3639 - val_accuracy: 0.4300\n",
      "Epoch 18/200\n",
      "19/19 [==============================] - 0s 15ms/step - loss: 0.7340 - accuracy: 0.6800 - val_loss: 0.7440 - val_accuracy: 0.5400\n",
      "Epoch 19/200\n",
      "19/19 [==============================] - 0s 13ms/step - loss: 0.7026 - accuracy: 0.6583 - val_loss: 0.9950 - val_accuracy: 0.4700\n",
      "Epoch 20/200\n",
      "19/19 [==============================] - 0s 12ms/step - loss: 0.6850 - accuracy: 0.6633 - val_loss: 0.6652 - val_accuracy: 0.6600\n",
      "Epoch 21/200\n",
      "19/19 [==============================] - 0s 13ms/step - loss: 0.6228 - accuracy: 0.6800 - val_loss: 0.6741 - val_accuracy: 0.6100\n",
      "Epoch 22/200\n",
      "19/19 [==============================] - 0s 14ms/step - loss: 0.6728 - accuracy: 0.6883 - val_loss: 0.5930 - val_accuracy: 0.6700\n",
      "Epoch 23/200\n",
      "19/19 [==============================] - 0s 13ms/step - loss: 0.7315 - accuracy: 0.6817 - val_loss: 0.6622 - val_accuracy: 0.6200\n",
      "Epoch 24/200\n",
      "19/19 [==============================] - 0s 14ms/step - loss: 0.7454 - accuracy: 0.6433 - val_loss: 1.1927 - val_accuracy: 0.6900\n",
      "Epoch 25/200\n",
      "19/19 [==============================] - 0s 13ms/step - loss: 0.5944 - accuracy: 0.7100 - val_loss: 0.8086 - val_accuracy: 0.5000\n",
      "Epoch 26/200\n",
      "19/19 [==============================] - 0s 15ms/step - loss: 0.6688 - accuracy: 0.6917 - val_loss: 0.6049 - val_accuracy: 0.6500\n",
      "Epoch 27/200\n",
      "19/19 [==============================] - 0s 13ms/step - loss: 0.5962 - accuracy: 0.7000 - val_loss: 0.8397 - val_accuracy: 0.6800\n",
      "Epoch 28/200\n",
      "19/19 [==============================] - 0s 13ms/step - loss: 0.6202 - accuracy: 0.7100 - val_loss: 0.5736 - val_accuracy: 0.7200\n",
      "Epoch 29/200\n",
      "19/19 [==============================] - 0s 13ms/step - loss: 0.6187 - accuracy: 0.6933 - val_loss: 0.6444 - val_accuracy: 0.6900\n",
      "Epoch 30/200\n",
      "19/19 [==============================] - 0s 14ms/step - loss: 0.6004 - accuracy: 0.6917 - val_loss: 0.6762 - val_accuracy: 0.7000\n",
      "Epoch 31/200\n",
      "19/19 [==============================] - 0s 12ms/step - loss: 0.5912 - accuracy: 0.7067 - val_loss: 0.5909 - val_accuracy: 0.6400\n",
      "Epoch 32/200\n",
      "19/19 [==============================] - 0s 14ms/step - loss: 0.5722 - accuracy: 0.7250 - val_loss: 0.6190 - val_accuracy: 0.6400\n",
      "Epoch 33/200\n",
      "19/19 [==============================] - 0s 13ms/step - loss: 0.5893 - accuracy: 0.7217 - val_loss: 0.7890 - val_accuracy: 0.5900\n",
      "Epoch 34/200\n",
      "19/19 [==============================] - 0s 14ms/step - loss: 0.6173 - accuracy: 0.7217 - val_loss: 0.6002 - val_accuracy: 0.7400\n",
      "Epoch 35/200\n",
      "19/19 [==============================] - 0s 14ms/step - loss: 0.5961 - accuracy: 0.7033 - val_loss: 0.6847 - val_accuracy: 0.6100\n",
      "Epoch 36/200\n",
      "19/19 [==============================] - 0s 12ms/step - loss: 0.5862 - accuracy: 0.7150 - val_loss: 1.0217 - val_accuracy: 0.7100\n",
      "Epoch 37/200\n",
      "19/19 [==============================] - 0s 13ms/step - loss: 0.6024 - accuracy: 0.7167 - val_loss: 0.7628 - val_accuracy: 0.5100\n",
      "Epoch 38/200\n",
      "19/19 [==============================] - 0s 12ms/step - loss: 0.5391 - accuracy: 0.7350 - val_loss: 0.6074 - val_accuracy: 0.7000\n",
      "Epoch 39/200\n",
      "19/19 [==============================] - 0s 13ms/step - loss: 0.5418 - accuracy: 0.7267 - val_loss: 0.5996 - val_accuracy: 0.7300\n",
      "Epoch 40/200\n",
      "19/19 [==============================] - 0s 13ms/step - loss: 0.5829 - accuracy: 0.7150 - val_loss: 0.6157 - val_accuracy: 0.7100\n",
      "Epoch 41/200\n",
      "19/19 [==============================] - 0s 12ms/step - loss: 0.6147 - accuracy: 0.6933 - val_loss: 0.6424 - val_accuracy: 0.6900\n",
      "Epoch 42/200\n",
      "19/19 [==============================] - 0s 13ms/step - loss: 0.5580 - accuracy: 0.7267 - val_loss: 0.7174 - val_accuracy: 0.5700\n",
      "Epoch 43/200\n",
      "19/19 [==============================] - 0s 13ms/step - loss: 0.5481 - accuracy: 0.7267 - val_loss: 0.5925 - val_accuracy: 0.6600\n",
      "Epoch 44/200\n",
      "19/19 [==============================] - 0s 12ms/step - loss: 0.5555 - accuracy: 0.7233 - val_loss: 0.6258 - val_accuracy: 0.6800\n",
      "Epoch 45/200\n",
      "19/19 [==============================] - 0s 15ms/step - loss: 0.5470 - accuracy: 0.7200 - val_loss: 0.6332 - val_accuracy: 0.6700\n",
      "Epoch 46/200\n",
      "19/19 [==============================] - 0s 13ms/step - loss: 0.5484 - accuracy: 0.7167 - val_loss: 0.6460 - val_accuracy: 0.6700\n",
      "Epoch 47/200\n",
      "19/19 [==============================] - 0s 14ms/step - loss: 0.5450 - accuracy: 0.7367 - val_loss: 0.5957 - val_accuracy: 0.6900\n",
      "Epoch 48/200\n",
      "19/19 [==============================] - 0s 15ms/step - loss: 0.5642 - accuracy: 0.7217 - val_loss: 0.6175 - val_accuracy: 0.7000\n",
      "Epoch 49/200\n",
      "19/19 [==============================] - 0s 13ms/step - loss: 0.5331 - accuracy: 0.7450 - val_loss: 0.6524 - val_accuracy: 0.6500\n",
      "Epoch 50/200\n",
      "19/19 [==============================] - 0s 13ms/step - loss: 0.5024 - accuracy: 0.7433 - val_loss: 0.6156 - val_accuracy: 0.6800\n",
      "Epoch 51/200\n",
      "19/19 [==============================] - 0s 12ms/step - loss: 0.4975 - accuracy: 0.7500 - val_loss: 0.9850 - val_accuracy: 0.6900\n",
      "Epoch 52/200\n",
      "19/19 [==============================] - 0s 13ms/step - loss: 0.5640 - accuracy: 0.7133 - val_loss: 0.5919 - val_accuracy: 0.7100\n",
      "Epoch 53/200\n",
      "19/19 [==============================] - 0s 13ms/step - loss: 0.5422 - accuracy: 0.7300 - val_loss: 0.6063 - val_accuracy: 0.6900\n",
      "Epoch 54/200\n",
      "19/19 [==============================] - 0s 13ms/step - loss: 0.5249 - accuracy: 0.7350 - val_loss: 0.6061 - val_accuracy: 0.7100\n",
      "Epoch 55/200\n",
      "19/19 [==============================] - 0s 14ms/step - loss: 0.5655 - accuracy: 0.7267 - val_loss: 0.5900 - val_accuracy: 0.6900\n",
      "Epoch 56/200\n",
      "19/19 [==============================] - 0s 14ms/step - loss: 0.6093 - accuracy: 0.6983 - val_loss: 0.6733 - val_accuracy: 0.6600\n",
      "Epoch 57/200\n",
      "19/19 [==============================] - 0s 13ms/step - loss: 0.4861 - accuracy: 0.7467 - val_loss: 0.6204 - val_accuracy: 0.6700\n",
      "Epoch 58/200\n"
     ]
    },
    {
     "name": "stdout",
     "output_type": "stream",
     "text": [
      "19/19 [==============================] - 0s 13ms/step - loss: 0.5257 - accuracy: 0.7300 - val_loss: 0.6094 - val_accuracy: 0.7100\n",
      "Epoch 59/200\n",
      "19/19 [==============================] - 0s 12ms/step - loss: 0.4970 - accuracy: 0.7400 - val_loss: 0.5956 - val_accuracy: 0.7300\n",
      "Epoch 60/200\n",
      "19/19 [==============================] - 0s 11ms/step - loss: 0.5037 - accuracy: 0.7500 - val_loss: 0.5947 - val_accuracy: 0.7400\n",
      "Epoch 61/200\n",
      "19/19 [==============================] - 0s 13ms/step - loss: 0.5219 - accuracy: 0.7417 - val_loss: 0.7830 - val_accuracy: 0.5500\n",
      "Epoch 62/200\n",
      "19/19 [==============================] - 0s 13ms/step - loss: 0.5510 - accuracy: 0.7033 - val_loss: 0.9019 - val_accuracy: 0.5600\n",
      "Epoch 63/200\n",
      "19/19 [==============================] - 0s 12ms/step - loss: 0.5510 - accuracy: 0.7233 - val_loss: 0.6128 - val_accuracy: 0.7100\n",
      "Epoch 64/200\n",
      "19/19 [==============================] - 0s 12ms/step - loss: 0.5290 - accuracy: 0.7400 - val_loss: 0.5971 - val_accuracy: 0.7200\n",
      "Epoch 65/200\n",
      "19/19 [==============================] - 0s 12ms/step - loss: 0.4836 - accuracy: 0.7683 - val_loss: 0.5753 - val_accuracy: 0.7200\n",
      "Epoch 66/200\n",
      "19/19 [==============================] - 0s 13ms/step - loss: 0.5029 - accuracy: 0.7517 - val_loss: 0.8217 - val_accuracy: 0.6800\n",
      "Epoch 67/200\n",
      "19/19 [==============================] - 0s 12ms/step - loss: 0.4854 - accuracy: 0.7700 - val_loss: 0.8597 - val_accuracy: 0.5500\n",
      "Epoch 68/200\n",
      "19/19 [==============================] - 0s 11ms/step - loss: 0.5248 - accuracy: 0.7433 - val_loss: 0.6317 - val_accuracy: 0.7000\n",
      "Epoch 69/200\n",
      "19/19 [==============================] - 0s 13ms/step - loss: 0.5290 - accuracy: 0.7583 - val_loss: 0.6357 - val_accuracy: 0.7200\n",
      "Epoch 70/200\n",
      "19/19 [==============================] - 0s 12ms/step - loss: 0.4969 - accuracy: 0.7650 - val_loss: 0.6244 - val_accuracy: 0.6800\n",
      "Epoch 71/200\n",
      "19/19 [==============================] - 0s 12ms/step - loss: 0.4941 - accuracy: 0.7483 - val_loss: 0.6254 - val_accuracy: 0.7200\n",
      "Epoch 72/200\n",
      "19/19 [==============================] - 0s 12ms/step - loss: 0.5067 - accuracy: 0.7450 - val_loss: 0.7289 - val_accuracy: 0.5700\n",
      "Epoch 73/200\n",
      "19/19 [==============================] - 0s 13ms/step - loss: 0.4857 - accuracy: 0.7467 - val_loss: 0.6092 - val_accuracy: 0.7200\n",
      "Epoch 74/200\n",
      "19/19 [==============================] - 0s 13ms/step - loss: 0.4910 - accuracy: 0.7500 - val_loss: 0.6505 - val_accuracy: 0.6700\n",
      "Epoch 75/200\n",
      "19/19 [==============================] - 0s 13ms/step - loss: 0.4768 - accuracy: 0.7633 - val_loss: 0.6900 - val_accuracy: 0.6800\n",
      "Epoch 76/200\n",
      "19/19 [==============================] - 0s 11ms/step - loss: 0.5071 - accuracy: 0.7583 - val_loss: 0.6742 - val_accuracy: 0.6700\n",
      "Epoch 77/200\n",
      "19/19 [==============================] - 0s 12ms/step - loss: 0.4749 - accuracy: 0.7667 - val_loss: 0.6613 - val_accuracy: 0.6900\n",
      "Epoch 78/200\n",
      "19/19 [==============================] - 0s 13ms/step - loss: 0.4624 - accuracy: 0.7700 - val_loss: 0.6766 - val_accuracy: 0.6700\n",
      "Epoch 79/200\n",
      "19/19 [==============================] - 0s 13ms/step - loss: 0.5023 - accuracy: 0.7517 - val_loss: 0.6014 - val_accuracy: 0.7500\n",
      "Epoch 80/200\n",
      "19/19 [==============================] - 0s 12ms/step - loss: 0.4861 - accuracy: 0.7467 - val_loss: 0.6414 - val_accuracy: 0.6800\n",
      "Epoch 81/200\n",
      "19/19 [==============================] - 0s 14ms/step - loss: 0.4887 - accuracy: 0.7633 - val_loss: 0.5693 - val_accuracy: 0.7100\n",
      "Epoch 82/200\n",
      "19/19 [==============================] - 0s 12ms/step - loss: 0.4761 - accuracy: 0.7550 - val_loss: 0.5785 - val_accuracy: 0.7300\n",
      "Epoch 83/200\n",
      "19/19 [==============================] - 0s 14ms/step - loss: 0.4637 - accuracy: 0.7667 - val_loss: 0.6790 - val_accuracy: 0.6500\n",
      "Epoch 84/200\n",
      "19/19 [==============================] - 0s 13ms/step - loss: 0.5426 - accuracy: 0.7250 - val_loss: 0.8086 - val_accuracy: 0.6900\n",
      "Epoch 85/200\n",
      "19/19 [==============================] - 0s 13ms/step - loss: 0.5012 - accuracy: 0.7583 - val_loss: 0.7787 - val_accuracy: 0.5700\n",
      "Epoch 86/200\n",
      "19/19 [==============================] - 0s 13ms/step - loss: 0.4770 - accuracy: 0.7700 - val_loss: 0.6153 - val_accuracy: 0.6800\n",
      "Epoch 87/200\n",
      "19/19 [==============================] - 0s 13ms/step - loss: 0.4500 - accuracy: 0.7700 - val_loss: 0.6530 - val_accuracy: 0.6700\n",
      "Epoch 88/200\n",
      "19/19 [==============================] - 0s 14ms/step - loss: 0.4576 - accuracy: 0.7800 - val_loss: 0.9197 - val_accuracy: 0.5400\n",
      "Epoch 89/200\n",
      "19/19 [==============================] - 0s 14ms/step - loss: 0.5002 - accuracy: 0.7633 - val_loss: 0.6375 - val_accuracy: 0.6900\n",
      "Epoch 90/200\n",
      "19/19 [==============================] - 0s 14ms/step - loss: 0.4799 - accuracy: 0.7633 - val_loss: 0.6124 - val_accuracy: 0.7100\n",
      "Epoch 91/200\n",
      "19/19 [==============================] - 0s 13ms/step - loss: 0.4506 - accuracy: 0.7817 - val_loss: 0.6554 - val_accuracy: 0.6700\n",
      "Epoch 92/200\n",
      "19/19 [==============================] - 0s 13ms/step - loss: 0.4765 - accuracy: 0.7500 - val_loss: 0.7551 - val_accuracy: 0.6900\n",
      "Epoch 93/200\n",
      "19/19 [==============================] - 0s 13ms/step - loss: 0.4883 - accuracy: 0.7483 - val_loss: 0.6443 - val_accuracy: 0.7300\n",
      "Epoch 94/200\n",
      "19/19 [==============================] - 0s 15ms/step - loss: 0.4432 - accuracy: 0.7900 - val_loss: 0.6552 - val_accuracy: 0.7000\n",
      "Epoch 95/200\n",
      "19/19 [==============================] - 0s 14ms/step - loss: 0.4843 - accuracy: 0.7483 - val_loss: 0.6201 - val_accuracy: 0.6800\n",
      "Epoch 96/200\n",
      "19/19 [==============================] - 0s 14ms/step - loss: 0.4491 - accuracy: 0.7783 - val_loss: 0.6059 - val_accuracy: 0.7000\n",
      "Epoch 97/200\n",
      "19/19 [==============================] - 0s 13ms/step - loss: 0.4731 - accuracy: 0.7650 - val_loss: 0.5820 - val_accuracy: 0.7200\n",
      "Epoch 98/200\n",
      "19/19 [==============================] - 0s 13ms/step - loss: 0.4686 - accuracy: 0.7750 - val_loss: 0.5846 - val_accuracy: 0.7000\n",
      "Epoch 99/200\n",
      "19/19 [==============================] - 0s 14ms/step - loss: 0.4575 - accuracy: 0.7683 - val_loss: 0.6534 - val_accuracy: 0.7200\n",
      "Epoch 100/200\n",
      "19/19 [==============================] - 0s 13ms/step - loss: 0.4489 - accuracy: 0.7650 - val_loss: 0.7722 - val_accuracy: 0.5500\n",
      "Epoch 101/200\n",
      "19/19 [==============================] - 0s 15ms/step - loss: 0.4572 - accuracy: 0.7800 - val_loss: 0.6136 - val_accuracy: 0.7200\n",
      "Epoch 102/200\n",
      "19/19 [==============================] - 0s 14ms/step - loss: 0.4421 - accuracy: 0.7683 - val_loss: 0.5796 - val_accuracy: 0.7100\n",
      "Epoch 103/200\n",
      "19/19 [==============================] - 0s 13ms/step - loss: 0.4521 - accuracy: 0.7867 - val_loss: 0.7708 - val_accuracy: 0.6200\n",
      "Epoch 104/200\n",
      "19/19 [==============================] - 0s 13ms/step - loss: 0.4846 - accuracy: 0.7700 - val_loss: 0.6426 - val_accuracy: 0.6700\n",
      "Epoch 105/200\n",
      "19/19 [==============================] - 0s 13ms/step - loss: 0.4964 - accuracy: 0.7617 - val_loss: 0.6050 - val_accuracy: 0.7100\n",
      "Epoch 106/200\n",
      "19/19 [==============================] - 0s 14ms/step - loss: 0.4893 - accuracy: 0.7400 - val_loss: 0.6495 - val_accuracy: 0.7100\n",
      "Epoch 107/200\n",
      "19/19 [==============================] - 0s 13ms/step - loss: 0.4440 - accuracy: 0.7850 - val_loss: 0.6064 - val_accuracy: 0.7400\n",
      "Epoch 108/200\n",
      "19/19 [==============================] - 0s 14ms/step - loss: 0.4454 - accuracy: 0.7733 - val_loss: 0.6430 - val_accuracy: 0.6900\n",
      "Epoch 109/200\n",
      "19/19 [==============================] - 0s 14ms/step - loss: 0.4521 - accuracy: 0.7667 - val_loss: 0.7310 - val_accuracy: 0.6700\n",
      "Epoch 110/200\n",
      "19/19 [==============================] - 0s 13ms/step - loss: 0.4358 - accuracy: 0.7617 - val_loss: 0.6206 - val_accuracy: 0.7200\n",
      "Epoch 111/200\n",
      "19/19 [==============================] - 0s 14ms/step - loss: 0.4603 - accuracy: 0.7717 - val_loss: 0.6744 - val_accuracy: 0.6200\n",
      "Epoch 112/200\n",
      "19/19 [==============================] - 0s 14ms/step - loss: 0.4526 - accuracy: 0.7833 - val_loss: 0.6011 - val_accuracy: 0.7500\n",
      "Epoch 113/200\n",
      "19/19 [==============================] - 0s 15ms/step - loss: 0.4553 - accuracy: 0.7750 - val_loss: 0.5885 - val_accuracy: 0.7200\n",
      "Epoch 114/200\n",
      "19/19 [==============================] - 0s 14ms/step - loss: 0.4332 - accuracy: 0.7883 - val_loss: 0.6307 - val_accuracy: 0.7300\n",
      "Epoch 115/200\n"
     ]
    },
    {
     "name": "stdout",
     "output_type": "stream",
     "text": [
      "19/19 [==============================] - 0s 13ms/step - loss: 0.4264 - accuracy: 0.7933 - val_loss: 0.6438 - val_accuracy: 0.7100\n",
      "Epoch 116/200\n",
      "19/19 [==============================] - 0s 14ms/step - loss: 0.4428 - accuracy: 0.7800 - val_loss: 0.5774 - val_accuracy: 0.7300\n",
      "Epoch 117/200\n",
      "19/19 [==============================] - 0s 13ms/step - loss: 0.4407 - accuracy: 0.7817 - val_loss: 0.5786 - val_accuracy: 0.7000\n",
      "Epoch 118/200\n",
      "19/19 [==============================] - 0s 14ms/step - loss: 0.4168 - accuracy: 0.8000 - val_loss: 0.6517 - val_accuracy: 0.7100\n",
      "Epoch 119/200\n",
      "19/19 [==============================] - 0s 15ms/step - loss: 0.4564 - accuracy: 0.7900 - val_loss: 0.6293 - val_accuracy: 0.7000\n",
      "Epoch 120/200\n",
      "19/19 [==============================] - 0s 14ms/step - loss: 0.4724 - accuracy: 0.7817 - val_loss: 0.6080 - val_accuracy: 0.6900\n",
      "Epoch 121/200\n",
      "19/19 [==============================] - 0s 14ms/step - loss: 0.4186 - accuracy: 0.7817 - val_loss: 0.6062 - val_accuracy: 0.7200\n",
      "Epoch 122/200\n",
      "19/19 [==============================] - 0s 13ms/step - loss: 0.4194 - accuracy: 0.7967 - val_loss: 0.5980 - val_accuracy: 0.7100\n",
      "Epoch 123/200\n",
      "19/19 [==============================] - 0s 14ms/step - loss: 0.4325 - accuracy: 0.7917 - val_loss: 0.6844 - val_accuracy: 0.6200\n",
      "Epoch 124/200\n",
      "19/19 [==============================] - 0s 13ms/step - loss: 0.4274 - accuracy: 0.8050 - val_loss: 0.5973 - val_accuracy: 0.7000\n",
      "Epoch 125/200\n",
      "19/19 [==============================] - 0s 14ms/step - loss: 0.4230 - accuracy: 0.7933 - val_loss: 0.6107 - val_accuracy: 0.7600\n",
      "Epoch 126/200\n",
      "19/19 [==============================] - 0s 14ms/step - loss: 0.4470 - accuracy: 0.7717 - val_loss: 0.5811 - val_accuracy: 0.7300\n",
      "Epoch 127/200\n",
      "19/19 [==============================] - 0s 15ms/step - loss: 0.4316 - accuracy: 0.7933 - val_loss: 0.7273 - val_accuracy: 0.6200\n",
      "Epoch 128/200\n",
      "19/19 [==============================] - 0s 14ms/step - loss: 0.4241 - accuracy: 0.8017 - val_loss: 0.5674 - val_accuracy: 0.6900\n",
      "Epoch 129/200\n",
      "19/19 [==============================] - 0s 14ms/step - loss: 0.4123 - accuracy: 0.7967 - val_loss: 0.5772 - val_accuracy: 0.7300\n",
      "Epoch 130/200\n",
      "19/19 [==============================] - 0s 13ms/step - loss: 0.4343 - accuracy: 0.7833 - val_loss: 0.7095 - val_accuracy: 0.6900\n",
      "Epoch 131/200\n",
      "19/19 [==============================] - 0s 13ms/step - loss: 0.4352 - accuracy: 0.7917 - val_loss: 0.6450 - val_accuracy: 0.6700\n",
      "Epoch 132/200\n",
      "19/19 [==============================] - 0s 13ms/step - loss: 0.4194 - accuracy: 0.8033 - val_loss: 0.6405 - val_accuracy: 0.7100\n",
      "Epoch 133/200\n",
      "19/19 [==============================] - 0s 14ms/step - loss: 0.4237 - accuracy: 0.7767 - val_loss: 0.5696 - val_accuracy: 0.7100\n",
      "Epoch 134/200\n",
      "19/19 [==============================] - 0s 14ms/step - loss: 0.4112 - accuracy: 0.8000 - val_loss: 0.6374 - val_accuracy: 0.6700\n",
      "Epoch 135/200\n",
      "19/19 [==============================] - 0s 14ms/step - loss: 0.4081 - accuracy: 0.8000 - val_loss: 0.6985 - val_accuracy: 0.6600\n",
      "Epoch 136/200\n",
      "19/19 [==============================] - 0s 13ms/step - loss: 0.4107 - accuracy: 0.7883 - val_loss: 0.6600 - val_accuracy: 0.6700\n",
      "Epoch 137/200\n",
      "19/19 [==============================] - 0s 14ms/step - loss: 0.4276 - accuracy: 0.7967 - val_loss: 0.6505 - val_accuracy: 0.6700\n",
      "Epoch 138/200\n",
      "19/19 [==============================] - 0s 12ms/step - loss: 0.4123 - accuracy: 0.8050 - val_loss: 0.5879 - val_accuracy: 0.7300\n",
      "Epoch 139/200\n",
      "19/19 [==============================] - 0s 15ms/step - loss: 0.4124 - accuracy: 0.8000 - val_loss: 0.6372 - val_accuracy: 0.6700\n",
      "Epoch 140/200\n",
      "19/19 [==============================] - 0s 14ms/step - loss: 0.4076 - accuracy: 0.7917 - val_loss: 0.5929 - val_accuracy: 0.7300\n",
      "Epoch 141/200\n",
      "19/19 [==============================] - 0s 14ms/step - loss: 0.4045 - accuracy: 0.7967 - val_loss: 0.6255 - val_accuracy: 0.6300\n",
      "Epoch 142/200\n",
      "19/19 [==============================] - 0s 14ms/step - loss: 0.4042 - accuracy: 0.7983 - val_loss: 0.6047 - val_accuracy: 0.7600\n",
      "Epoch 143/200\n",
      "19/19 [==============================] - 0s 14ms/step - loss: 0.4273 - accuracy: 0.7867 - val_loss: 0.6191 - val_accuracy: 0.7500\n",
      "Epoch 144/200\n",
      "19/19 [==============================] - 0s 13ms/step - loss: 0.4077 - accuracy: 0.8133 - val_loss: 0.7055 - val_accuracy: 0.6500\n",
      "Epoch 145/200\n",
      "19/19 [==============================] - 0s 15ms/step - loss: 0.3869 - accuracy: 0.8167 - val_loss: 0.6154 - val_accuracy: 0.6800\n",
      "Epoch 146/200\n",
      "19/19 [==============================] - 0s 13ms/step - loss: 0.3984 - accuracy: 0.8100 - val_loss: 0.6749 - val_accuracy: 0.7000\n",
      "Epoch 147/200\n",
      "19/19 [==============================] - 0s 14ms/step - loss: 0.4157 - accuracy: 0.7983 - val_loss: 0.6169 - val_accuracy: 0.7300\n",
      "Epoch 148/200\n",
      "19/19 [==============================] - 0s 13ms/step - loss: 0.3968 - accuracy: 0.8133 - val_loss: 0.6360 - val_accuracy: 0.7400\n",
      "Epoch 149/200\n",
      "19/19 [==============================] - 0s 14ms/step - loss: 0.4283 - accuracy: 0.7917 - val_loss: 0.6832 - val_accuracy: 0.6600\n",
      "Epoch 150/200\n",
      "19/19 [==============================] - 0s 13ms/step - loss: 0.4028 - accuracy: 0.8050 - val_loss: 0.6099 - val_accuracy: 0.7400\n",
      "Epoch 151/200\n",
      "19/19 [==============================] - 0s 14ms/step - loss: 0.4163 - accuracy: 0.7867 - val_loss: 0.6775 - val_accuracy: 0.6600\n",
      "Epoch 152/200\n",
      "19/19 [==============================] - 0s 15ms/step - loss: 0.3959 - accuracy: 0.7983 - val_loss: 0.6134 - val_accuracy: 0.7800\n",
      "Epoch 153/200\n",
      "19/19 [==============================] - 0s 12ms/step - loss: 0.3870 - accuracy: 0.8167 - val_loss: 0.8041 - val_accuracy: 0.7200\n",
      "Epoch 154/200\n",
      "19/19 [==============================] - 0s 14ms/step - loss: 0.3906 - accuracy: 0.8083 - val_loss: 0.6385 - val_accuracy: 0.6900\n",
      "Epoch 155/200\n",
      "19/19 [==============================] - 0s 14ms/step - loss: 0.4102 - accuracy: 0.8017 - val_loss: 0.6818 - val_accuracy: 0.7000\n",
      "Epoch 156/200\n",
      "19/19 [==============================] - 0s 13ms/step - loss: 0.4064 - accuracy: 0.8133 - val_loss: 0.6265 - val_accuracy: 0.7500\n",
      "Epoch 157/200\n",
      "19/19 [==============================] - 0s 13ms/step - loss: 0.3967 - accuracy: 0.8117 - val_loss: 0.6466 - val_accuracy: 0.7300\n",
      "Epoch 158/200\n",
      "19/19 [==============================] - 0s 13ms/step - loss: 0.3837 - accuracy: 0.8133 - val_loss: 0.6872 - val_accuracy: 0.7100\n",
      "Epoch 159/200\n",
      "19/19 [==============================] - 0s 14ms/step - loss: 0.4147 - accuracy: 0.7983 - val_loss: 0.6159 - val_accuracy: 0.7300\n",
      "Epoch 160/200\n",
      "19/19 [==============================] - 0s 13ms/step - loss: 0.3740 - accuracy: 0.8333 - val_loss: 0.7738 - val_accuracy: 0.6000\n",
      "Epoch 161/200\n",
      "19/19 [==============================] - 0s 13ms/step - loss: 0.4111 - accuracy: 0.8050 - val_loss: 0.6529 - val_accuracy: 0.7300\n",
      "Epoch 162/200\n",
      "19/19 [==============================] - 0s 14ms/step - loss: 0.3887 - accuracy: 0.8067 - val_loss: 0.6495 - val_accuracy: 0.6800\n",
      "Epoch 163/200\n",
      "19/19 [==============================] - 0s 15ms/step - loss: 0.4189 - accuracy: 0.7983 - val_loss: 0.6593 - val_accuracy: 0.6800\n",
      "Epoch 164/200\n",
      "19/19 [==============================] - 0s 14ms/step - loss: 0.3816 - accuracy: 0.8200 - val_loss: 0.6169 - val_accuracy: 0.7500\n",
      "Epoch 165/200\n",
      "19/19 [==============================] - 0s 13ms/step - loss: 0.3884 - accuracy: 0.8083 - val_loss: 0.6470 - val_accuracy: 0.6800\n",
      "Epoch 166/200\n",
      "19/19 [==============================] - 0s 13ms/step - loss: 0.3939 - accuracy: 0.8067 - val_loss: 0.6249 - val_accuracy: 0.7300\n",
      "Epoch 167/200\n",
      "19/19 [==============================] - 0s 14ms/step - loss: 0.3877 - accuracy: 0.8083 - val_loss: 0.6099 - val_accuracy: 0.7400\n",
      "Epoch 168/200\n",
      "19/19 [==============================] - 0s 12ms/step - loss: 0.4029 - accuracy: 0.8083 - val_loss: 0.6249 - val_accuracy: 0.7600\n",
      "Epoch 169/200\n",
      "19/19 [==============================] - 0s 12ms/step - loss: 0.3840 - accuracy: 0.8167 - val_loss: 0.6685 - val_accuracy: 0.7400\n",
      "Epoch 170/200\n",
      "19/19 [==============================] - 0s 14ms/step - loss: 0.3787 - accuracy: 0.8117 - val_loss: 0.6487 - val_accuracy: 0.6700\n",
      "Epoch 171/200\n",
      "19/19 [==============================] - 0s 13ms/step - loss: 0.3818 - accuracy: 0.8150 - val_loss: 0.6860 - val_accuracy: 0.7100\n"
     ]
    },
    {
     "name": "stdout",
     "output_type": "stream",
     "text": [
      "Epoch 172/200\n",
      "19/19 [==============================] - 0s 14ms/step - loss: 0.3763 - accuracy: 0.8300 - val_loss: 0.6197 - val_accuracy: 0.7500\n",
      "Epoch 173/200\n",
      "19/19 [==============================] - 0s 13ms/step - loss: 0.3688 - accuracy: 0.8167 - val_loss: 0.6466 - val_accuracy: 0.7500\n",
      "Epoch 174/200\n",
      "19/19 [==============================] - 0s 14ms/step - loss: 0.3738 - accuracy: 0.8083 - val_loss: 0.6439 - val_accuracy: 0.7100\n",
      "Epoch 175/200\n",
      "19/19 [==============================] - 0s 14ms/step - loss: 0.3639 - accuracy: 0.8283 - val_loss: 0.6655 - val_accuracy: 0.7200\n",
      "Epoch 176/200\n",
      "19/19 [==============================] - 0s 13ms/step - loss: 0.4218 - accuracy: 0.7883 - val_loss: 0.7038 - val_accuracy: 0.6800\n",
      "Epoch 177/200\n",
      "19/19 [==============================] - 0s 13ms/step - loss: 0.3568 - accuracy: 0.8267 - val_loss: 0.6837 - val_accuracy: 0.6600\n",
      "Epoch 178/200\n",
      "19/19 [==============================] - 0s 14ms/step - loss: 0.3821 - accuracy: 0.8283 - val_loss: 0.6439 - val_accuracy: 0.6800\n",
      "Epoch 179/200\n",
      "19/19 [==============================] - 0s 14ms/step - loss: 0.3896 - accuracy: 0.8000 - val_loss: 0.6835 - val_accuracy: 0.6800\n",
      "Epoch 180/200\n",
      "19/19 [==============================] - 0s 13ms/step - loss: 0.3749 - accuracy: 0.8200 - val_loss: 0.6173 - val_accuracy: 0.7400\n",
      "Epoch 181/200\n",
      "19/19 [==============================] - 0s 14ms/step - loss: 0.3727 - accuracy: 0.8200 - val_loss: 0.6706 - val_accuracy: 0.7000\n",
      "Epoch 182/200\n",
      "19/19 [==============================] - 0s 13ms/step - loss: 0.3658 - accuracy: 0.8167 - val_loss: 0.6486 - val_accuracy: 0.7300\n",
      "Epoch 183/200\n",
      "19/19 [==============================] - 0s 13ms/step - loss: 0.3456 - accuracy: 0.8467 - val_loss: 0.7220 - val_accuracy: 0.6600\n",
      "Epoch 184/200\n",
      "19/19 [==============================] - 0s 12ms/step - loss: 0.3700 - accuracy: 0.8183 - val_loss: 0.6708 - val_accuracy: 0.7000\n",
      "Epoch 185/200\n",
      "19/19 [==============================] - 0s 12ms/step - loss: 0.3743 - accuracy: 0.8233 - val_loss: 0.6829 - val_accuracy: 0.6600\n",
      "Epoch 186/200\n",
      "19/19 [==============================] - 0s 14ms/step - loss: 0.3649 - accuracy: 0.8350 - val_loss: 0.6614 - val_accuracy: 0.7000\n",
      "Epoch 187/200\n",
      "19/19 [==============================] - 0s 13ms/step - loss: 0.3717 - accuracy: 0.8400 - val_loss: 0.6414 - val_accuracy: 0.7600\n",
      "Epoch 188/200\n",
      "19/19 [==============================] - 0s 13ms/step - loss: 0.3641 - accuracy: 0.8333 - val_loss: 0.6663 - val_accuracy: 0.7300\n",
      "Epoch 189/200\n",
      "19/19 [==============================] - 0s 13ms/step - loss: 0.3666 - accuracy: 0.8317 - val_loss: 0.6480 - val_accuracy: 0.7100\n",
      "Epoch 190/200\n",
      "19/19 [==============================] - 0s 13ms/step - loss: 0.3670 - accuracy: 0.8283 - val_loss: 0.6416 - val_accuracy: 0.7300\n",
      "Epoch 191/200\n",
      "19/19 [==============================] - 0s 14ms/step - loss: 0.3552 - accuracy: 0.8300 - val_loss: 0.6757 - val_accuracy: 0.6900\n",
      "Epoch 192/200\n",
      "19/19 [==============================] - 0s 13ms/step - loss: 0.3409 - accuracy: 0.8383 - val_loss: 0.6012 - val_accuracy: 0.7600\n",
      "Epoch 193/200\n",
      "19/19 [==============================] - 0s 12ms/step - loss: 0.3597 - accuracy: 0.8283 - val_loss: 0.6771 - val_accuracy: 0.6700\n",
      "Epoch 194/200\n",
      "19/19 [==============================] - 0s 14ms/step - loss: 0.3510 - accuracy: 0.8367 - val_loss: 0.6486 - val_accuracy: 0.7300\n",
      "Epoch 195/200\n",
      "19/19 [==============================] - 0s 15ms/step - loss: 0.3564 - accuracy: 0.8533 - val_loss: 0.6555 - val_accuracy: 0.6600\n",
      "Epoch 196/200\n",
      "19/19 [==============================] - 0s 13ms/step - loss: 0.3536 - accuracy: 0.8300 - val_loss: 0.6260 - val_accuracy: 0.7600\n",
      "Epoch 197/200\n",
      "19/19 [==============================] - 0s 13ms/step - loss: 0.3653 - accuracy: 0.8117 - val_loss: 0.6749 - val_accuracy: 0.7600\n",
      "Epoch 198/200\n",
      "19/19 [==============================] - 0s 14ms/step - loss: 0.3542 - accuracy: 0.8417 - val_loss: 0.6837 - val_accuracy: 0.7600\n",
      "Epoch 199/200\n",
      "19/19 [==============================] - 0s 14ms/step - loss: 0.3378 - accuracy: 0.8433 - val_loss: 0.7870 - val_accuracy: 0.6400\n",
      "Epoch 200/200\n",
      "19/19 [==============================] - 0s 15ms/step - loss: 0.3697 - accuracy: 0.8333 - val_loss: 0.6286 - val_accuracy: 0.7600\n"
     ]
    }
   ],
   "source": [
    "hist = model.fit(X_train, onehot_Y_train, \n",
    "                 epochs = 200, \n",
    "                 verbose = 1, \n",
    "                 validation_data = [X_val, onehot_Y_val]\n",
    "                )"
   ]
  },
  {
   "cell_type": "markdown",
   "id": "b47e472f",
   "metadata": {},
   "source": [
    "### Model 평가"
   ]
  },
  {
   "cell_type": "code",
   "execution_count": 70,
   "id": "62d209bd",
   "metadata": {
    "ExecuteTime": {
     "end_time": "2024-12-17T08:55:09.207593Z",
     "start_time": "2024-12-17T08:55:09.202609Z"
    }
   },
   "outputs": [
    {
     "data": {
      "text/plain": [
       "dict_keys(['loss', 'accuracy', 'val_loss', 'val_accuracy'])"
      ]
     },
     "execution_count": 70,
     "metadata": {},
     "output_type": "execute_result"
    }
   ],
   "source": [
    "hist.history.keys()"
   ]
  },
  {
   "cell_type": "code",
   "execution_count": 72,
   "id": "75788bba",
   "metadata": {
    "ExecuteTime": {
     "end_time": "2024-12-17T08:57:42.557133Z",
     "start_time": "2024-12-17T08:57:42.195233Z"
    }
   },
   "outputs": [
    {
     "data": {
      "image/png": "[encoded data removed]",
      "text/plain": [
       "<Figure size 1000x500 with 2 Axes>"
      ]
     },
     "metadata": {},
     "output_type": "display_data"
    }
   ],
   "source": [
    "# 학습과정 표시하기\n",
    "fig, loss_ax = plt.subplots(figsize = (10, 5))\n",
    "loss_ax.plot(hist.history['loss'], 'r', label = 'train loss')\n",
    "loss_ax.plot(hist.history['val_loss'], 'y', label = 'validation loss')\n",
    "loss_ax.set_xlabel('epoch')\n",
    "loss_ax.set_ylabel('loss')\n",
    "acc_ax = loss_ax.twinx()\n",
    "acc_ax.plot(hist.history['accuracy'], 'b', label = 'train accuarcy')\n",
    "acc_ax.plot(hist.history['val_accuracy'], 'g', label = 'validation accuarcy')\n",
    "acc_ax.set_ylabel('accuracy')\n",
    "loss_ax.legend(loc = 'center right')\n",
    "acc_ax.legend(bbox_to_anchor = (0.999, 0.65))\n",
    "plt.show()"
   ]
  },
  {
   "cell_type": "code",
   "execution_count": null,
   "id": "814e10ca",
   "metadata": {},
   "outputs": [],
   "source": []
  },
  {
   "cell_type": "code",
   "execution_count": null,
   "id": "a4315a1b",
   "metadata": {},
   "outputs": [],
   "source": []
  },
  {
   "cell_type": "code",
   "execution_count": null,
   "id": "c6315852",
   "metadata": {},
   "outputs": [],
   "source": []
  },
  {
   "cell_type": "code",
   "execution_count": null,
   "id": "c6a2620c",
   "metadata": {},
   "outputs": [],
   "source": []
  }
 ],
 "metadata": {
  "kernelspec": {
   "display_name": "Python 3 (ipykernel)",
   "language": "python",
   "name": "python3"
  },
  "language_info": {
   "codemirror_mode": {
    "name": "ipython",
    "version": 3
   },
   "file_extension": ".py",
   "mimetype": "text/x-python",
   "name": "python",
   "nbconvert_exporter": "python",
   "pygments_lexer": "ipython3",
   "version": "3.10.9"
  },
  "toc": {
   "base_numbering": 1,
   "nav_menu": {},
   "number_sections": true,
   "sideBar": true,
   "skip_h1_title": false,
   "title_cell": "Table of Contents",
   "title_sidebar": "Contents",
   "toc_cell": false,
   "toc_position": {
    "height": "calc(100% - 180px)",
    "left": "10px",
    "top": "150px",
    "width": "169px"
   },
   "toc_section_display": true,
   "toc_window_display": true
  }
 },
 "nbformat": 4,
 "nbformat_minor": 5
}
