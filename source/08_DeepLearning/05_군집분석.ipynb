{
 "cells": [
  {
   "cell_type": "markdown",
   "id": "793bbbf3",
   "metadata": {},
   "source": [
    "# 1. 데이터 생성\n",
    " - 남자, 여자 데이터 생성 군집화"
   ]
  },
  {
   "cell_type": "code",
   "execution_count": 1,
   "id": "d0bb6e5e",
   "metadata": {
    "ExecuteTime": {
     "end_time": "2024-12-17T02:18:40.245590Z",
     "start_time": "2024-12-17T02:18:39.851375Z"
    }
   },
   "outputs": [],
   "source": [
    "import random\n",
    "import numpy as np\n",
    "import matplotlib.pyplot as plt"
   ]
  },
  {
   "cell_type": "code",
   "execution_count": 2,
   "id": "f696cd06",
   "metadata": {
    "ExecuteTime": {
     "end_time": "2024-12-17T02:19:35.938787Z",
     "start_time": "2024-12-17T02:19:35.929993Z"
    }
   },
   "outputs": [
    {
     "data": {
      "text/plain": [
       "54"
      ]
     },
     "execution_count": 2,
     "metadata": {},
     "output_type": "execute_result"
    }
   ],
   "source": [
    "random.randint(40, 70) # 40~70 중 난수 1개"
   ]
  },
  {
   "cell_type": "code",
   "execution_count": 20,
   "id": "558542ba",
   "metadata": {
    "ExecuteTime": {
     "end_time": "2024-12-17T02:52:40.496991Z",
     "start_time": "2024-12-17T02:52:40.481994Z"
    }
   },
   "outputs": [
    {
     "data": {
      "text/plain": [
       "[[58, 140],\n",
       " [63, 180],\n",
       " [57, 161],\n",
       " [94, 186],\n",
       " [70, 141],\n",
       " [94, 175],\n",
       " [60, 141],\n",
       " [71, 182],\n",
       " [66, 162],\n",
       " [88, 172],\n",
       " [58, 161],\n",
       " [74, 171],\n",
       " [52, 172],\n",
       " [70, 180],\n",
       " [43, 174],\n",
       " [103, 197],\n",
       " [63, 168],\n",
       " [70, 180],\n",
       " [64, 174],\n",
       " [61, 185],\n",
       " [52, 162],\n",
       " [91, 191],\n",
       " [49, 141],\n",
       " [95, 179],\n",
       " [63, 165],\n",
       " [65, 184],\n",
       " [51, 165],\n",
       " [99, 196],\n",
       " [69, 171],\n",
       " [104, 194],\n",
       " [64, 166],\n",
       " [68, 172],\n",
       " [66, 172],\n",
       " [84, 179],\n",
       " [67, 140],\n",
       " [64, 190],\n",
       " [64, 151],\n",
       " [63, 190],\n",
       " [45, 156],\n",
       " [81, 186],\n",
       " [68, 164],\n",
       " [110, 175],\n",
       " [44, 144],\n",
       " [62, 186],\n",
       " [65, 152],\n",
       " [60, 195],\n",
       " [59, 168],\n",
       " [77, 182],\n",
       " [56, 141],\n",
       " [84, 195],\n",
       " [60, 153],\n",
       " [87, 184],\n",
       " [48, 171],\n",
       " [70, 191],\n",
       " [66, 170],\n",
       " [79, 192],\n",
       " [70, 171],\n",
       " [69, 185],\n",
       " [48, 170],\n",
       " [69, 199],\n",
       " [52, 162],\n",
       " [86, 194],\n",
       " [54, 156],\n",
       " [93, 180],\n",
       " [43, 168],\n",
       " [98, 192],\n",
       " [58, 158],\n",
       " [79, 180],\n",
       " [40, 146],\n",
       " [99, 170],\n",
       " [44, 149],\n",
       " [64, 197],\n",
       " [61, 172],\n",
       " [99, 194],\n",
       " [43, 169],\n",
       " [106, 197],\n",
       " [41, 145],\n",
       " [90, 187],\n",
       " [43, 174],\n",
       " [63, 199],\n",
       " [47, 150],\n",
       " [89, 192],\n",
       " [64, 174],\n",
       " [85, 188],\n",
       " [48, 158],\n",
       " [80, 170],\n",
       " [63, 142],\n",
       " [60, 185],\n",
       " [43, 171],\n",
       " [100, 188],\n",
       " [57, 147],\n",
       " [65, 198],\n",
       " [57, 172],\n",
       " [81, 192],\n",
       " [61, 148],\n",
       " [73, 192],\n",
       " [61, 157],\n",
       " [62, 197],\n",
       " [70, 149],\n",
       " [88, 198]]"
      ]
     },
     "execution_count": 20,
     "metadata": {},
     "output_type": "execute_result"
    }
   ],
   "source": [
    "data = []\n",
    "for i in range(50):\n",
    "    data.append([random.randint(40, 70), random.randint(140, 175)]) # 여자\n",
    "    data.append([random.randint(60, 110), random.randint(170, 200)]) # 남자\n",
    "data"
   ]
  },
  {
   "cell_type": "code",
   "execution_count": 21,
   "id": "08804dc5",
   "metadata": {
    "ExecuteTime": {
     "end_time": "2024-12-17T02:52:42.894674Z",
     "start_time": "2024-12-17T02:52:42.879045Z"
    }
   },
   "outputs": [
    {
     "name": "stdout",
     "output_type": "stream",
     "text": [
      "[58, 140]  [57, 161]  [70, 141]  [60, 141]  [66, 162]  [58, 161]  [52, 172]  [43, 174]  [63, 168]  [64, 174]  [52, 162]  [49, 141]  [63, 165]  [51, 165]  [69, 171]  [64, 166]  [66, 172]  [67, 140]  [64, 151]  [45, 156]  [68, 164]  [44, 144]  [65, 152]  [59, 168]  [56, 141]  [60, 153]  [48, 171]  [66, 170]  [70, 171]  [48, 170]  [52, 162]  [54, 156]  [43, 168]  [58, 158]  [40, 146]  [44, 149]  [61, 172]  [43, 169]  [41, 145]  [43, 174]  [47, 150]  [64, 174]  [48, 158]  [63, 142]  [43, 171]  [57, 147]  [57, 172]  [61, 148]  [61, 157]  [70, 149]  \n",
      "-----------------------------------------------------------------------------------------------------------------\n",
      "[63, 180]  [94, 186]  [94, 175]  [71, 182]  [88, 172]  [74, 171]  [70, 180]  [103, 197]  [70, 180]  [61, 185]  [91, 191]  [95, 179]  [65, 184]  [99, 196]  [104, 194]  [68, 172]  [84, 179]  [64, 190]  [63, 190]  [81, 186]  [110, 175]  [62, 186]  [60, 195]  [77, 182]  [84, 195]  [87, 184]  [70, 191]  [79, 192]  [69, 185]  [69, 199]  [86, 194]  [93, 180]  [98, 192]  [79, 180]  [99, 170]  [64, 197]  [99, 194]  [106, 197]  [90, 187]  [63, 199]  [89, 192]  [85, 188]  [80, 170]  [60, 185]  [100, 188]  [65, 198]  [81, 192]  [73, 192]  [62, 197]  [88, 198]  "
     ]
    }
   ],
   "source": [
    "# 여자\n",
    "for female in data[:100:2]:\n",
    "    print(female, end = '  ')\n",
    "print()\n",
    "print('-----------------------------------------------------------------------------------------------------------------')\n",
    "for male in data[1:100:2]:\n",
    "    print(male, end = '  ')"
   ]
  },
  {
   "cell_type": "code",
   "execution_count": 22,
   "id": "4983a602",
   "metadata": {
    "ExecuteTime": {
     "end_time": "2024-12-17T02:52:45.345937Z",
     "start_time": "2024-12-17T02:52:45.185767Z"
    }
   },
   "outputs": [
    {
     "data": {
      "image/png": "[encoded data removed]",
      "text/plain": [
       "<Figure size 640x480 with 1 Axes>"
      ]
     },
     "metadata": {},
     "output_type": "display_data"
    }
   ],
   "source": [
    "# x:몸무게, y:키\n",
    "# print('여자 몸무게(x):', [d[0] for d in data[:100:2]])\n",
    "# print('여자 신장(y):', [d[1] for d in data[:100:2]])\n",
    "# print('남자 몸무게(x):', [d[0] for d in data[1:100:2]])\n",
    "# print('남자 신장(y):', [d[1] for d in data[1:100:2]])\n",
    "plt.plot([d[0] for d in data[:100:2]],\n",
    "         [d[1] for d in data[:100:2]], 'o', color = 'r')\n",
    "plt.plot([d[0] for d in data[1:100:2]],\n",
    "         [d[1] for d in data[1:100:2]], '^', color = 'b')\n",
    "plt.show()"
   ]
  },
  {
   "cell_type": "markdown",
   "id": "12e196dc",
   "metadata": {},
   "source": [
    "# 2. 군집화 로직"
   ]
  },
  {
   "cell_type": "code",
   "execution_count": 46,
   "id": "c3989bdb",
   "metadata": {
    "ExecuteTime": {
     "end_time": "2024-12-17T03:11:01.535002Z",
     "start_time": "2024-12-17T03:11:01.529177Z"
    }
   },
   "outputs": [
    {
     "name": "stdout",
     "output_type": "stream",
     "text": [
      "초기 랜덤 기준점: [[80, 148], [59, 182]]\n"
     ]
    }
   ],
   "source": [
    "# 초기 랜덤 지점 2개 (40~110, 140~200)\n",
    "random_points = [[random.randint(40, 110), random.randint(140, 200)],\n",
    "                 [random.randint(40, 110), random.randint(140, 200)]]\n",
    "print('초기 랜덤 기준점:', random_points)"
   ]
  },
  {
   "cell_type": "code",
   "execution_count": 56,
   "id": "4dfaaf5d",
   "metadata": {
    "ExecuteTime": {
     "end_time": "2024-12-17T03:34:51.710544Z",
     "start_time": "2024-12-17T03:34:51.433471Z"
    }
   },
   "outputs": [
    {
     "data": {
      "image/png": "[encoded data removed]",
      "text/plain": [
       "<Figure size 640x480 with 1 Axes>"
      ]
     },
     "metadata": {},
     "output_type": "display_data"
    }
   ],
   "source": [
    "# plt.plot([d[0] for d in data], \n",
    "#          [d[1] for d in data], \n",
    "#          marker = 'o', \n",
    "#          color = 'k')\n",
    "for x in data:\n",
    "    plt.plot(x[0], x[1], 'ko')\n",
    "plt.plot(random_points[0][0], random_points[0][1], 'bx', markersize = 20)\n",
    "plt.plot(random_points[1][0], random_points[1][1], 'rx', markersize = 20)\n",
    "plt.show()"
   ]
  },
  {
   "cell_type": "code",
   "execution_count": 49,
   "id": "fa833ff7",
   "metadata": {
    "ExecuteTime": {
     "end_time": "2024-12-17T03:14:28.377800Z",
     "start_time": "2024-12-17T03:14:28.369821Z"
    }
   },
   "outputs": [
    {
     "data": {
      "text/plain": [
       "5.0"
      ]
     },
     "execution_count": 49,
     "metadata": {},
     "output_type": "execute_result"
    }
   ],
   "source": [
    "# 두 점 사이의 거리를 return하는 함수  a = [0, 0] ~ b = [3, 4]\n",
    "def dist(a, b):\n",
    "    return np.sqrt((a[0] - b[0])**2 + (a[1] - b[1])**2)\n",
    "dist([1, 1], [4, 5])"
   ]
  },
  {
   "cell_type": "code",
   "execution_count": 50,
   "id": "84f3d41d",
   "metadata": {
    "ExecuteTime": {
     "end_time": "2024-12-17T03:15:35.119818Z",
     "start_time": "2024-12-17T03:15:35.113651Z"
    }
   },
   "outputs": [
    {
     "data": {
      "text/plain": [
       "5.0"
      ]
     },
     "execution_count": 50,
     "metadata": {},
     "output_type": "execute_result"
    }
   ],
   "source": [
    "dist(np.array([1, 1]), [4, 5])"
   ]
  },
  {
   "cell_type": "code",
   "execution_count": 51,
   "id": "ae8495e5",
   "metadata": {
    "ExecuteTime": {
     "end_time": "2024-12-17T03:16:29.697839Z",
     "start_time": "2024-12-17T03:16:29.690873Z"
    }
   },
   "outputs": [
    {
     "data": {
      "text/plain": [
       "39.96248240537617"
      ]
     },
     "execution_count": 51,
     "metadata": {},
     "output_type": "execute_result"
    }
   ],
   "source": [
    "dist(random_points[0], random_points[1])"
   ]
  },
  {
   "cell_type": "code",
   "execution_count": 52,
   "id": "95f73076",
   "metadata": {
    "ExecuteTime": {
     "end_time": "2024-12-17T03:19:44.930415Z",
     "start_time": "2024-12-17T03:19:44.921459Z"
    }
   },
   "outputs": [
    {
     "data": {
      "text/plain": [
       "(27, 73)"
      ]
     },
     "execution_count": 52,
     "metadata": {},
     "output_type": "execute_result"
    }
   ],
   "source": [
    "# random_points[0]과 random_points[1]을 기준으로 두 영역을 나눔\n",
    "group0 = [] # random_points[0]이 더 가까운 group\n",
    "group1 = [] # random_points[1]이 더 가까운 group\n",
    "for d in data:\n",
    "    if dist(random_points[0], d) <= dist(random_points[1], d):\n",
    "        group0.append(d)\n",
    "    else:\n",
    "        group1.append(d)\n",
    "len(group0), len(group1)"
   ]
  },
  {
   "cell_type": "code",
   "execution_count": 55,
   "id": "bebc38c2",
   "metadata": {
    "ExecuteTime": {
     "end_time": "2024-12-17T03:34:41.457186Z",
     "start_time": "2024-12-17T03:34:41.257432Z"
    }
   },
   "outputs": [
    {
     "data": {
      "text/plain": [
       "[<matplotlib.lines.Line2D at 0x1ffb4558040>]"
      ]
     },
     "execution_count": 55,
     "metadata": {},
     "output_type": "execute_result"
    },
    {
     "data": {
      "image/png": "[encoded data removed]",
      "text/plain": [
       "<Figure size 640x480 with 1 Axes>"
      ]
     },
     "metadata": {},
     "output_type": "display_data"
    }
   ],
   "source": [
    "plt.plot(random_points[0][0], \n",
    "         random_points[0][1], \n",
    "         'bx', \n",
    "         markersize = 20)\n",
    "plt.plot(random_points[1][0], \n",
    "         random_points[1][1], \n",
    "         'rx', \n",
    "         markersize = 20)\n",
    "plt.plot([d[0] for d in group0], \n",
    "         [d[1] for d in group0], \n",
    "         'bo')\n",
    "plt.plot([d[0] for d in group1], \n",
    "         [d[1] for d in group1], \n",
    "         'ro')"
   ]
  },
  {
   "cell_type": "code",
   "execution_count": 59,
   "id": "3ca94ad5",
   "metadata": {
    "ExecuteTime": {
     "end_time": "2024-12-17T03:43:23.163643Z",
     "start_time": "2024-12-17T03:43:23.155819Z"
    }
   },
   "outputs": [
    {
     "name": "stdout",
     "output_type": "stream",
     "text": [
      "초기 랜덤 지점: [[80, 148], [59, 182]]\n",
      "[58, 70, 94, 60, 66, 88, 49, 95, 67, 64, 68, 110, 44, 65, 56, 60, 40, 99, 44, 41, 47, 80, 63, 57, 61, 61, 70]\n",
      "새로운 기준점: [[65.81481481481481, 153.4814814814815], [69.41095890410959, 180.17808219178082]]\n"
     ]
    }
   ],
   "source": [
    "print('초기 랜덤 지점:', random_points)\n",
    "# group0의 중심점과 group1의 중심점으로 만들어진 new_points 할당\n",
    "sumX = 0; sumY = 0\n",
    "for g in group0:\n",
    "    sumX += g[0] # x축값 누적\n",
    "    sumY += g[1]\n",
    "new_points = [] # 새로운 기준점\n",
    "new_points.append([sumX/len(group0), sumY/len(group0)]) # group0의 중간 지점\n",
    "sumX = 0; sumY = 0\n",
    "for g in group1:\n",
    "    sumX += g[0]\n",
    "    sumY += g[1]\n",
    "new_points.append([sumX/len(group1), sumY/len(group1)]) # group1의 중간 지점\n",
    "print([d[0] for d in group0])\n",
    "print('새로운 기준점:', new_points)"
   ]
  },
  {
   "cell_type": "code",
   "execution_count": 65,
   "id": "ad821204",
   "metadata": {
    "ExecuteTime": {
     "end_time": "2024-12-17T03:47:43.143653Z",
     "start_time": "2024-12-17T03:47:42.897488Z"
    }
   },
   "outputs": [
    {
     "data": {
      "text/plain": [
       "[<matplotlib.lines.Line2D at 0x1ffb8d4e320>]"
      ]
     },
     "execution_count": 65,
     "metadata": {},
     "output_type": "execute_result"
    },
    {
     "data": {
      "image/png": "[encoded data removed]",
      "text/plain": [
       "<Figure size 640x480 with 1 Axes>"
      ]
     },
     "metadata": {},
     "output_type": "display_data"
    }
   ],
   "source": [
    "plt.plot(random_points[0][0], \n",
    "         random_points[0][1], \n",
    "         'bx', \n",
    "         markersize = 20)\n",
    "plt.plot(random_points[1][0], \n",
    "         random_points[1][1], \n",
    "         'rx', \n",
    "         markersize = 20)\n",
    "plt.plot([d[0] for d in group0], \n",
    "         [d[1] for d in group0], \n",
    "         'bo')\n",
    "plt.plot([d[0] for d in group1], \n",
    "         [d[1] for d in group1], \n",
    "         'ro')\n",
    "plt.plot(new_points[0][0], \n",
    "         new_points[0][1],\n",
    "         'b^',\n",
    "         markersize = 30)\n",
    "plt.plot(new_points[1][0],\n",
    "         new_points[1][1],\n",
    "         'r^',\n",
    "         markersize = 30)"
   ]
  },
  {
   "cell_type": "code",
   "execution_count": 67,
   "id": "6362f662",
   "metadata": {
    "ExecuteTime": {
     "end_time": "2024-12-17T03:50:34.433678Z",
     "start_time": "2024-12-17T03:50:34.425672Z"
    }
   },
   "outputs": [
    {
     "data": {
      "text/plain": [
       "(34, 66)"
      ]
     },
     "execution_count": 67,
     "metadata": {},
     "output_type": "execute_result"
    }
   ],
   "source": [
    "# new_points[0]과 new_points[1] 두 영역을 나눔\n",
    "group0 = []\n",
    "group1 = []\n",
    "for d in data:\n",
    "    if dist(new_points[0], d) <= dist(new_points[1], d):\n",
    "        group0.append(d)\n",
    "    else:\n",
    "        group1.append(d)\n",
    "len(group0), len(group1)"
   ]
  },
  {
   "cell_type": "code",
   "execution_count": 69,
   "id": "457fc6fe",
   "metadata": {
    "ExecuteTime": {
     "end_time": "2024-12-17T03:54:13.186343Z",
     "start_time": "2024-12-17T03:54:12.985819Z"
    }
   },
   "outputs": [
    {
     "data": {
      "text/plain": [
       "[<matplotlib.lines.Line2D at 0x1ffb8ecf400>]"
      ]
     },
     "execution_count": 69,
     "metadata": {},
     "output_type": "execute_result"
    },
    {
     "data": {
      "image/png": "[encoded data removed]",
      "text/plain": [
       "<Figure size 640x480 with 1 Axes>"
      ]
     },
     "metadata": {},
     "output_type": "display_data"
    }
   ],
   "source": [
    "plt.plot([d[0] for d in group0], \n",
    "         [d[1] for d in group0], \n",
    "         'bo')\n",
    "plt.plot([d[0] for d in group1], \n",
    "         [d[1] for d in group1], \n",
    "         'ro')\n",
    "plt.plot(new_points[0][0], \n",
    "         new_points[0][1], \n",
    "         'b^',\n",
    "         markersize = 20)\n",
    "plt.plot(new_points[1][0], \n",
    "         new_points[1][1], \n",
    "         'r^',\n",
    "         markersize = 20)"
   ]
  },
  {
   "cell_type": "markdown",
   "id": "7dba2dea",
   "metadata": {},
   "source": [
    "# 3. 전체 코드(for문 사용)"
   ]
  },
  {
   "cell_type": "code",
   "execution_count": 86,
   "id": "43dc8f96",
   "metadata": {
    "ExecuteTime": {
     "end_time": "2024-12-17T05:23:06.848580Z",
     "start_time": "2024-12-17T05:23:06.650039Z"
    }
   },
   "outputs": [
    {
     "name": "stdout",
     "output_type": "stream",
     "text": [
      "1 번째 기준점 [[64, 186], [41, 174]]\n",
      "2 번째 기준점 [[81.203125, 180.765625], [51.27777777777778, 156.58333333333334]]\n",
      "3 번째 기준점 [[83.96296296296296, 184.24074074074073], [54.54347826086956, 157.7608695652174]]\n",
      "4 번째 기준점 [[86.39583333333333, 185.4375], [55.69230769230769, 159.71153846153845]]\n",
      "5 번째 기준점 [[87.21739130434783, 185.8913043478261], [56.129629629629626, 160.27777777777777]]\n",
      "6 번째 기준점 [[88.3409090909091, 186.02272727272728], [56.357142857142854, 161.08928571428572]]\n",
      "7 번째 기준점 [[88.3409090909091, 186.02272727272728], [56.357142857142854, 161.08928571428572]]\n",
      "8 번째 기준점 [[88.3409090909091, 186.02272727272728], [56.357142857142854, 161.08928571428572]]\n",
      "9 번째 기준점 [[88.3409090909091, 186.02272727272728], [56.357142857142854, 161.08928571428572]]\n",
      "10 번째 기준점 [[88.3409090909091, 186.02272727272728], [56.357142857142854, 161.08928571428572]]\n"
     ]
    },
    {
     "data": {
      "image/png": "[encoded data removed]",
      "text/plain": [
       "<Figure size 640x480 with 1 Axes>"
      ]
     },
     "metadata": {},
     "output_type": "display_data"
    }
   ],
   "source": [
    "# 두 점 사이의 거리를 return하는 함수  a = [0, 0] ~ b = [3, 4]\n",
    "def dist(a, b):\n",
    "    return np.sqrt((a[0] - b[0])**2 + (a[1] - b[1])**2)\n",
    "\n",
    "data = []\n",
    "for i in range(50):\n",
    "    data.append([random.randint(40, 70), random.randint(140, 175)])  # 여자\n",
    "    data.append([random.randint(60, 110), random.randint(170, 200)]) # 남자\n",
    "    \n",
    "points = [[random.randint(40, 110), random.randint(140, 200)],\n",
    "          [random.randint(40, 110), random.randint(140, 200)]]\n",
    "plt.plot(points[0][0], \n",
    "         points[0][1],\n",
    "         'bx',\n",
    "         markersize = 15)\n",
    "plt.plot(points[1][0],\n",
    "         points[1][1],\n",
    "         'rx',\n",
    "         markersize = 15)\n",
    "\n",
    "for i in range(1, 11):\n",
    "    print(i, '번째 기준점', points)\n",
    "    group0 = []\n",
    "    group1 = []\n",
    "    for d in data:\n",
    "        if dist(points[0], d) <= dist(points[1], d):\n",
    "            group0.append(d)\n",
    "        else:\n",
    "            group1.append(d)\n",
    "    sumX = 0; sumY = 0\n",
    "    points = []\n",
    "    for g in group0:\n",
    "        sumX += g[0]\n",
    "        sumY += g[1]\n",
    "    points.append([sumX/len(group0), sumY/len(group0)]) # group0들의 중심점\n",
    "    sumX = 0; sumY = 0\n",
    "    for g in group1:\n",
    "        sumX += g[0]\n",
    "        sumY += g[1]\n",
    "    points.append([sumX/len(group1), sumY/len(group1)]) # group1들의 중심점\n",
    "plt.plot([d[0] for d in group0], [d[1] for d in group0], 'bo')\n",
    "plt.plot([d[0] for d in group1], [d[1] for d in group1], 'ro')\n",
    "plt.plot(points[0][0], points[0][1], 'b^', markersize = 15)\n",
    "plt.plot(points[1][0], points[1][1], 'r^', markersize = 15)\n",
    "plt.show()"
   ]
  },
  {
   "cell_type": "code",
   "execution_count": 87,
   "id": "6bea8423",
   "metadata": {
    "ExecuteTime": {
     "end_time": "2024-12-17T05:23:22.215175Z",
     "start_time": "2024-12-17T05:23:22.034330Z"
    }
   },
   "outputs": [
    {
     "data": {
      "image/png": "[encoded data removed]",
      "text/plain": [
       "<Figure size 640x480 with 1 Axes>"
      ]
     },
     "metadata": {},
     "output_type": "display_data"
    }
   ],
   "source": [
    "plt.plot([d[0] for d in data[:100:2]], \n",
    "         [d[1] for d in data[:100:2]], \n",
    "         'ro')\n",
    "plt.plot([d[0] for d in data[1:100:2]], \n",
    "         [d[1] for d in data[1:100:2]], \n",
    "         'bo')\n",
    "plt.show()"
   ]
  },
  {
   "cell_type": "markdown",
   "id": "6a9eef10",
   "metadata": {},
   "source": [
    "# 4. API(sklearn)를 이용한 군집분석\n",
    "- sklearn: 머신러닝 패키지"
   ]
  },
  {
   "cell_type": "code",
   "execution_count": 89,
   "id": "ba8a4fe5",
   "metadata": {
    "ExecuteTime": {
     "end_time": "2024-12-17T05:29:43.408952Z",
     "start_time": "2024-12-17T05:29:42.802647Z"
    }
   },
   "outputs": [
    {
     "name": "stderr",
     "output_type": "stream",
     "text": [
      "C:\\Users\\4545\\anaconda3\\lib\\site-packages\\sklearn\\cluster\\_kmeans.py:1382: UserWarning: KMeans is known to have a memory leak on Windows with MKL, when there are less chunks than available threads. You can avoid it by setting the environment variable OMP_NUM_THREADS=1.\n",
      "  warnings.warn(\n"
     ]
    },
    {
     "data": {
      "text/html": [
       "<style>#sk-container-id-1 {color: black;background-color: white;}#sk-container-id-1 pre{padding: 0;}#sk-container-id-1 div.sk-toggleable {background-color: white;}#sk-container-id-1 label.sk-toggleable__label {cursor: pointer;display: block;width: 100%;margin-bottom: 0;padding: 0.3em;box-sizing: border-box;text-align: center;}#sk-container-id-1 label.sk-toggleable__label-arrow:before {content: \"▸\";float: left;margin-right: 0.25em;color: #696969;}#sk-container-id-1 label.sk-toggleable__label-arrow:hover:before {color: black;}#sk-container-id-1 div.sk-estimator:hover label.sk-toggleable__label-arrow:before {color: black;}#sk-container-id-1 div.sk-toggleable__content {max-height: 0;max-width: 0;overflow: hidden;text-align: left;background-color: #f0f8ff;}#sk-container-id-1 div.sk-toggleable__content pre {margin: 0.2em;color: black;border-radius: 0.25em;background-color: #f0f8ff;}#sk-container-id-1 input.sk-toggleable__control:checked~div.sk-toggleable__content {max-height: 200px;max-width: 100%;overflow: auto;}#sk-container-id-1 input.sk-toggleable__control:checked~label.sk-toggleable__label-arrow:before {content: \"▾\";}#sk-container-id-1 div.sk-estimator input.sk-toggleable__control:checked~label.sk-toggleable__label {background-color: #d4ebff;}#sk-container-id-1 div.sk-label input.sk-toggleable__control:checked~label.sk-toggleable__label {background-color: #d4ebff;}#sk-container-id-1 input.sk-hidden--visually {border: 0;clip: rect(1px 1px 1px 1px);clip: rect(1px, 1px, 1px, 1px);height: 1px;margin: -1px;overflow: hidden;padding: 0;position: absolute;width: 1px;}#sk-container-id-1 div.sk-estimator {font-family: monospace;background-color: #f0f8ff;border: 1px dotted black;border-radius: 0.25em;box-sizing: border-box;margin-bottom: 0.5em;}#sk-container-id-1 div.sk-estimator:hover {background-color: #d4ebff;}#sk-container-id-1 div.sk-parallel-item::after {content: \"\";width: 100%;border-bottom: 1px solid gray;flex-grow: 1;}#sk-container-id-1 div.sk-label:hover label.sk-toggleable__label {background-color: #d4ebff;}#sk-container-id-1 div.sk-serial::before {content: \"\";position: absolute;border-left: 1px solid gray;box-sizing: border-box;top: 0;bottom: 0;left: 50%;z-index: 0;}#sk-container-id-1 div.sk-serial {display: flex;flex-direction: column;align-items: center;background-color: white;padding-right: 0.2em;padding-left: 0.2em;position: relative;}#sk-container-id-1 div.sk-item {position: relative;z-index: 1;}#sk-container-id-1 div.sk-parallel {display: flex;align-items: stretch;justify-content: center;background-color: white;position: relative;}#sk-container-id-1 div.sk-item::before, #sk-container-id-1 div.sk-parallel-item::before {content: \"\";position: absolute;border-left: 1px solid gray;box-sizing: border-box;top: 0;bottom: 0;left: 50%;z-index: -1;}#sk-container-id-1 div.sk-parallel-item {display: flex;flex-direction: column;z-index: 1;position: relative;background-color: white;}#sk-container-id-1 div.sk-parallel-item:first-child::after {align-self: flex-end;width: 50%;}#sk-container-id-1 div.sk-parallel-item:last-child::after {align-self: flex-start;width: 50%;}#sk-container-id-1 div.sk-parallel-item:only-child::after {width: 0;}#sk-container-id-1 div.sk-dashed-wrapped {border: 1px dashed gray;margin: 0 0.4em 0.5em 0.4em;box-sizing: border-box;padding-bottom: 0.4em;background-color: white;}#sk-container-id-1 div.sk-label label {font-family: monospace;font-weight: bold;display: inline-block;line-height: 1.2em;}#sk-container-id-1 div.sk-label-container {text-align: center;}#sk-container-id-1 div.sk-container {/* jupyter's `normalize.less` sets `[hidden] { display: none; }` but bootstrap.min.css set `[hidden] { display: none !important; }` so we also need the `!important` here to be able to override the default hidden behavior on the sphinx rendered scikit-learn.org. See: https://github.com/scikit-learn/scikit-learn/issues/21755 */display: inline-block !important;position: relative;}#sk-container-id-1 div.sk-text-repr-fallback {display: none;}</style><div id=\"sk-container-id-1\" class=\"sk-top-container\"><div class=\"sk-text-repr-fallback\"><pre>KMeans(init=&#x27;random&#x27;, n_clusters=2, n_init=10, random_state=42)</pre><b>In a Jupyter environment, please rerun this cell to show the HTML representation or trust the notebook. <br />On GitHub, the HTML representation is unable to render, please try loading this page with nbviewer.org.</b></div><div class=\"sk-container\" hidden><div class=\"sk-item\"><div class=\"sk-estimator sk-toggleable\"><input class=\"sk-toggleable__control sk-hidden--visually\" id=\"sk-estimator-id-1\" type=\"checkbox\" checked><label for=\"sk-estimator-id-1\" class=\"sk-toggleable__label sk-toggleable__label-arrow\">KMeans</label><div class=\"sk-toggleable__content\"><pre>KMeans(init=&#x27;random&#x27;, n_clusters=2, n_init=10, random_state=42)</pre></div></div></div></div></div>"
      ],
      "text/plain": [
       "KMeans(init='random', n_clusters=2, n_init=10, random_state=42)"
      ]
     },
     "execution_count": 89,
     "metadata": {},
     "output_type": "execute_result"
    }
   ],
   "source": [
    "from sklearn.cluster import KMeans\n",
    "data = np.array(data)\n",
    "model = KMeans(n_clusters = 2,    # 2개 group으로 군집분석\n",
    "               init = 'random',   # 군집화 초기화 방법\n",
    "               n_init = 10,       # 군집화를 반복 수행할 횟수\n",
    "               random_state = 42) # seed값\n",
    "model.fit(data)"
   ]
  },
  {
   "cell_type": "code",
   "execution_count": 90,
   "id": "37cfc480",
   "metadata": {
    "ExecuteTime": {
     "end_time": "2024-12-17T05:30:30.676542Z",
     "start_time": "2024-12-17T05:30:30.669566Z"
    }
   },
   "outputs": [
    {
     "data": {
      "text/plain": [
       "array([[ 88.34090909, 186.02272727],\n",
       "       [ 56.35714286, 161.08928571]])"
      ]
     },
     "execution_count": 90,
     "metadata": {},
     "output_type": "execute_result"
    }
   ],
   "source": [
    "model.cluster_centers_ # 최종 중심점"
   ]
  },
  {
   "cell_type": "code",
   "execution_count": 91,
   "id": "274044f8",
   "metadata": {
    "ExecuteTime": {
     "end_time": "2024-12-17T05:31:44.793510Z",
     "start_time": "2024-12-17T05:31:44.786530Z"
    }
   },
   "outputs": [
    {
     "data": {
      "text/plain": [
       "array([1, 0, 1, 0, 1, 0, 1, 0, 1, 0, 1, 0, 1, 0, 1, 0, 1, 0, 1, 0, 1, 0,\n",
       "       1, 0, 1, 0, 1, 0, 1, 1, 1, 0, 1, 0, 1, 0, 1, 0, 1, 0, 1, 0, 1, 0,\n",
       "       1, 0, 1, 0, 1, 1, 1, 1, 1, 1, 1, 0, 1, 0, 1, 0, 1, 1, 1, 0, 1, 0,\n",
       "       1, 0, 1, 0, 1, 0, 1, 0, 1, 0, 1, 0, 1, 0, 1, 0, 1, 0, 1, 1, 1, 0,\n",
       "       1, 0, 1, 0, 1, 0, 1, 0, 1, 0, 1, 0])"
      ]
     },
     "execution_count": 91,
     "metadata": {},
     "output_type": "execute_result"
    }
   ],
   "source": [
    "model.labels_"
   ]
  },
  {
   "cell_type": "code",
   "execution_count": 99,
   "id": "620428a2",
   "metadata": {
    "ExecuteTime": {
     "end_time": "2024-12-17T05:34:28.609246Z",
     "start_time": "2024-12-17T05:34:28.554217Z"
    }
   },
   "outputs": [
    {
     "data": {
      "text/plain": [
       "array([0, 1])"
      ]
     },
     "execution_count": 99,
     "metadata": {},
     "output_type": "execute_result"
    }
   ],
   "source": [
    "model.predict(np.array([[99, 199],\n",
    "                        [50, 160]]))"
   ]
  },
  {
   "cell_type": "code",
   "execution_count": 111,
   "id": "772541b2",
   "metadata": {
    "ExecuteTime": {
     "end_time": "2024-12-17T05:41:23.654757Z",
     "start_time": "2024-12-17T05:41:23.473096Z"
    }
   },
   "outputs": [
    {
     "data": {
      "image/png": "[encoded data removed]",
      "text/plain": [
       "<Figure size 640x480 with 1 Axes>"
      ]
     },
     "metadata": {},
     "output_type": "display_data"
    }
   ],
   "source": [
    "# print('모델의 1번 group의 x값:\\n', data[model.labels_ == 1, 0])\n",
    "# print('모델의 1번 group의 y값:\\n', data[model.labels_ == 1, 1])\n",
    "# print('모델의 0번 group의 x값:\\n', data[model.labels_ == 0, 0])\n",
    "# print('모델의 0번 group의 y값:\\n', data[model.labels_ == 0, 1])\n",
    "plt.plot(data[model.labels_ == 1, 0],\n",
    "         data[model.labels_ == 1, 1], 'ro')\n",
    "plt.plot(data[model.labels_ == 0, 0],\n",
    "         data[model.labels_ == 0, 1], 'bo')\n",
    "plt.plot(model.cluster_centers_[0][0],\n",
    "         model.cluster_centers_[0][1], 'kx')\n",
    "plt.plot(model.cluster_centers_[1][0],\n",
    "         model.cluster_centers_[1][1], 'kx')\n",
    "plt.show()"
   ]
  },
  {
   "cell_type": "code",
   "execution_count": null,
   "id": "66cbac87",
   "metadata": {},
   "outputs": [],
   "source": []
  },
  {
   "cell_type": "code",
   "execution_count": null,
   "id": "b8265d32",
   "metadata": {},
   "outputs": [],
   "source": []
  },
  {
   "cell_type": "code",
   "execution_count": null,
   "id": "d9481f83",
   "metadata": {},
   "outputs": [],
   "source": []
  },
  {
   "cell_type": "code",
   "execution_count": null,
   "id": "d74ae548",
   "metadata": {},
   "outputs": [],
   "source": []
  },
  {
   "cell_type": "code",
   "execution_count": null,
   "id": "e340a00a",
   "metadata": {},
   "outputs": [],
   "source": []
  },
  {
   "cell_type": "code",
   "execution_count": null,
   "id": "a1476d80",
   "metadata": {},
   "outputs": [],
   "source": []
  },
  {
   "cell_type": "code",
   "execution_count": null,
   "id": "0104164c",
   "metadata": {},
   "outputs": [],
   "source": []
  }
 ],
 "metadata": {
  "kernelspec": {
   "display_name": "Python 3 (ipykernel)",
   "language": "python",
   "name": "python3"
  },
  "language_info": {
   "codemirror_mode": {
    "name": "ipython",
    "version": 3
   },
   "file_extension": ".py",
   "mimetype": "text/x-python",
   "name": "python",
   "nbconvert_exporter": "python",
   "pygments_lexer": "ipython3",
   "version": "3.10.9"
  },
  "toc": {
   "base_numbering": 1,
   "nav_menu": {},
   "number_sections": true,
   "sideBar": true,
   "skip_h1_title": false,
   "title_cell": "Table of Contents",
   "title_sidebar": "Contents",
   "toc_cell": false,
   "toc_position": {
    "height": "calc(100% - 180px)",
    "left": "10px",
    "top": "150px",
    "width": "165px"
   },
   "toc_section_display": true,
   "toc_window_display": true
  }
 },
 "nbformat": 4,
 "nbformat_minor": 5
}
