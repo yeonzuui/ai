{
 "cells": [
  {
   "cell_type": "code",
   "execution_count": 212,
   "id": "93314127",
   "metadata": {
    "ExecuteTime": {
     "end_time": "2024-12-19T06:25:48.636195Z",
     "start_time": "2024-12-19T06:25:48.628207Z"
    }
   },
   "outputs": [],
   "source": [
    "import numpy as np\n",
    "import pandas as pd # read_csv, get_dummies(One-Hot Encoding)\n",
    "from sklearn.preprocessing import StandardScaler\n",
    "from sklearn.model_selection import train_test_split # train/test Dataset 분리\n",
    "from tensorflow.keras.models import Sequential\n",
    "from tensorflow.keras.layers import Dense, Input, Dropout\n",
    "from tensorflow.keras.callbacks import EarlyStopping, Callback\n",
    "from tensorflow.keras.activations import relu, softmax # activation = 'relu' 대신 사용\n",
    "from tensorflow.keras import metrics # metrics = ['accuracy']\n",
    "import matplotlib.pyplot as plt"
   ]
  },
  {
   "cell_type": "markdown",
   "id": "16e06b89",
   "metadata": {},
   "source": [
    "- Red Wine 품질 등급 예측\n",
    "\n",
    "```\n",
    "1. Dataset 확보 & 전처리\n",
    "    독립변수, 종속변수 분리 → 독립변수 Scale 조정(StandardScaler)\n",
    "    → 종속변수 One-Hot Encoding(get_dummies) → train/test Dataset(train_test_split) 분리\n",
    "2. Model 구성(입력11, 출력6) layer 4개\n",
    "3. Training Process Setting(다중분류에 맞는 설정)\n",
    "4. Training (callbacks 이용)\n",
    "5. Model 평가 - 그래프, evaluate(Test), crosstab\n",
    "6. Model 저장 및 사용하기\n",
    "```"
   ]
  },
  {
   "cell_type": "markdown",
   "id": "57545ab0",
   "metadata": {},
   "source": [
    "## Dataset 확보 & 전처리\n",
    "독립변수, 종속변수 분리 -> 독립변수 스케일조정(StandardScaler), 종속변수 원핫인코딩(get_dummies) ->\n",
    " 훈련셋과 테스트셋 분리(train_test_split)"
   ]
  },
  {
   "cell_type": "code",
   "execution_count": 205,
   "id": "6dcd1b48",
   "metadata": {
    "ExecuteTime": {
     "end_time": "2024-12-19T06:18:34.297062Z",
     "start_time": "2024-12-19T06:18:34.284105Z"
    }
   },
   "outputs": [
    {
     "data": {
      "text/plain": [
       "array([[ 7.4   ,  0.7   ,  0.    ,  1.9   ,  0.076 , 11.    , 34.    ,\n",
       "         0.9978,  3.51  ,  0.56  ,  9.4   ,  5.    ],\n",
       "       [ 7.8   ,  0.88  ,  0.    ,  2.6   ,  0.098 , 25.    , 67.    ,\n",
       "         0.9968,  3.2   ,  0.68  ,  9.8   ,  5.    ]])"
      ]
     },
     "execution_count": 205,
     "metadata": {},
     "output_type": "execute_result"
    }
   ],
   "source": [
    "# 데이터 읽어오기\n",
    "\n",
    "# np.genfromtxt('data/winequality-red.csv', delimiter=';', skip_header=1)\n",
    "redwine = np.loadtxt('./data/winequality-red.csv', delimiter = ';', skiprows = 1)\n",
    "redwine[:2]\n",
    "\n",
    "# redwine = pd.read_csv('./data/winequality-red.csv', sep=';')\n",
    "# redwine.head()\n",
    "\n",
    "# fixed acidity : 고정 산도\n",
    "# volatile acidity : 휘발성 산도\n",
    "# citric acid : 시트르산\n",
    "# residual sugar : 잔류 당분\n",
    "# chlorides : 염화물\n",
    "# free sulfur dioxide : 자유 이산화황\n",
    "# total sulfur dioxide : 총 이산화황\n",
    "# density : 밀도\n",
    "# pH\n",
    "# sulphates : 황산염\n",
    "# alcohol\n",
    "# quality : 0 ~ 10(높을 수록 좋은 품질)"
   ]
  },
  {
   "cell_type": "code",
   "execution_count": 206,
   "id": "2dd9ee69",
   "metadata": {
    "ExecuteTime": {
     "end_time": "2024-12-19T06:18:41.072808Z",
     "start_time": "2024-12-19T06:18:41.066797Z"
    }
   },
   "outputs": [
    {
     "data": {
      "text/plain": [
       "((1599, 11), (1599,))"
      ]
     },
     "execution_count": 206,
     "metadata": {},
     "output_type": "execute_result"
    }
   ],
   "source": [
    "# 독립변수, 종속변수 분리\n",
    "\n",
    "X_data = redwine[:,:-1]\n",
    "y_data = redwine[:, -1]\n",
    "X_data.shape, y_data.shape\n",
    "\n",
    "# X_redwine = redwine.iloc[:,:-1]\n",
    "# y_redwine = redwine.iloc[:,-1]\n",
    "# X_redwine.shape, y_redwine.shape"
   ]
  },
  {
   "cell_type": "code",
   "execution_count": 207,
   "id": "36ae91ef",
   "metadata": {
    "ExecuteTime": {
     "end_time": "2024-12-19T06:18:44.310002Z",
     "start_time": "2024-12-19T06:18:44.307004Z"
    }
   },
   "outputs": [],
   "source": [
    "# X_redwine.sample()"
   ]
  },
  {
   "cell_type": "code",
   "execution_count": 208,
   "id": "c6c740de",
   "metadata": {
    "ExecuteTime": {
     "end_time": "2024-12-19T06:18:51.278052Z",
     "start_time": "2024-12-19T06:18:51.274038Z"
    }
   },
   "outputs": [],
   "source": [
    "# y_redwine"
   ]
  },
  {
   "cell_type": "code",
   "execution_count": 209,
   "id": "e9d4b740",
   "metadata": {
    "ExecuteTime": {
     "end_time": "2024-12-19T06:18:53.244279Z",
     "start_time": "2024-12-19T06:18:53.234316Z"
    }
   },
   "outputs": [
    {
     "data": {
      "text/plain": [
       "(1599,\n",
       " array([[-0.52835961,  0.96187667, -1.39147228, ...,  1.28864292,\n",
       "         -0.57920652, -0.96024611],\n",
       "        [-0.29854743,  1.96744245, -1.39147228, ..., -0.7199333 ,\n",
       "          0.1289504 , -0.58477711],\n",
       "        [-0.29854743,  1.29706527, -1.18607043, ..., -0.33117661,\n",
       "         -0.04808883, -0.58477711],\n",
       "        ...,\n",
       "        [-1.1603431 , -0.09955388, -0.72391627, ...,  0.70550789,\n",
       "          0.54204194,  0.54162988],\n",
       "        [-1.39015528,  0.65462046, -0.77526673, ...,  1.6773996 ,\n",
       "          0.30598963, -0.20930812],\n",
       "        [-1.33270223, -1.21684919,  1.02199944, ...,  0.51112954,\n",
       "          0.01092425,  0.54162988]]))"
      ]
     },
     "execution_count": 209,
     "metadata": {},
     "output_type": "execute_result"
    }
   ],
   "source": [
    "# 독립변수 Scale 조정(StandardScaler)\n",
    "scaler = StandardScaler()\n",
    "X_data = scaler.fit_transform(X_data)\n",
    "len(X_data), X_data"
   ]
  },
  {
   "cell_type": "code",
   "execution_count": 210,
   "id": "2a7dd863",
   "metadata": {
    "ExecuteTime": {
     "end_time": "2024-12-19T06:18:56.210686Z",
     "start_time": "2024-12-19T06:18:56.195033Z"
    }
   },
   "outputs": [
    {
     "data": {
      "text/html": [
       "<div>\n",
       "<style scoped>\n",
       "    .dataframe tbody tr th:only-of-type {\n",
       "        vertical-align: middle;\n",
       "    }\n",
       "\n",
       "    .dataframe tbody tr th {\n",
       "        vertical-align: top;\n",
       "    }\n",
       "\n",
       "    .dataframe thead th {\n",
       "        text-align: right;\n",
       "    }\n",
       "</style>\n",
       "<table border=\"1\" class=\"dataframe\">\n",
       "  <thead>\n",
       "    <tr style=\"text-align: right;\">\n",
       "      <th></th>\n",
       "      <th>3.0</th>\n",
       "      <th>4.0</th>\n",
       "      <th>5.0</th>\n",
       "      <th>6.0</th>\n",
       "      <th>7.0</th>\n",
       "      <th>8.0</th>\n",
       "    </tr>\n",
       "  </thead>\n",
       "  <tbody>\n",
       "    <tr>\n",
       "      <th>0</th>\n",
       "      <td>0</td>\n",
       "      <td>0</td>\n",
       "      <td>1</td>\n",
       "      <td>0</td>\n",
       "      <td>0</td>\n",
       "      <td>0</td>\n",
       "    </tr>\n",
       "    <tr>\n",
       "      <th>1</th>\n",
       "      <td>0</td>\n",
       "      <td>0</td>\n",
       "      <td>1</td>\n",
       "      <td>0</td>\n",
       "      <td>0</td>\n",
       "      <td>0</td>\n",
       "    </tr>\n",
       "    <tr>\n",
       "      <th>2</th>\n",
       "      <td>0</td>\n",
       "      <td>0</td>\n",
       "      <td>1</td>\n",
       "      <td>0</td>\n",
       "      <td>0</td>\n",
       "      <td>0</td>\n",
       "    </tr>\n",
       "    <tr>\n",
       "      <th>3</th>\n",
       "      <td>0</td>\n",
       "      <td>0</td>\n",
       "      <td>0</td>\n",
       "      <td>1</td>\n",
       "      <td>0</td>\n",
       "      <td>0</td>\n",
       "    </tr>\n",
       "    <tr>\n",
       "      <th>4</th>\n",
       "      <td>0</td>\n",
       "      <td>0</td>\n",
       "      <td>1</td>\n",
       "      <td>0</td>\n",
       "      <td>0</td>\n",
       "      <td>0</td>\n",
       "    </tr>\n",
       "    <tr>\n",
       "      <th>...</th>\n",
       "      <td>...</td>\n",
       "      <td>...</td>\n",
       "      <td>...</td>\n",
       "      <td>...</td>\n",
       "      <td>...</td>\n",
       "      <td>...</td>\n",
       "    </tr>\n",
       "    <tr>\n",
       "      <th>1594</th>\n",
       "      <td>0</td>\n",
       "      <td>0</td>\n",
       "      <td>1</td>\n",
       "      <td>0</td>\n",
       "      <td>0</td>\n",
       "      <td>0</td>\n",
       "    </tr>\n",
       "    <tr>\n",
       "      <th>1595</th>\n",
       "      <td>0</td>\n",
       "      <td>0</td>\n",
       "      <td>0</td>\n",
       "      <td>1</td>\n",
       "      <td>0</td>\n",
       "      <td>0</td>\n",
       "    </tr>\n",
       "    <tr>\n",
       "      <th>1596</th>\n",
       "      <td>0</td>\n",
       "      <td>0</td>\n",
       "      <td>0</td>\n",
       "      <td>1</td>\n",
       "      <td>0</td>\n",
       "      <td>0</td>\n",
       "    </tr>\n",
       "    <tr>\n",
       "      <th>1597</th>\n",
       "      <td>0</td>\n",
       "      <td>0</td>\n",
       "      <td>1</td>\n",
       "      <td>0</td>\n",
       "      <td>0</td>\n",
       "      <td>0</td>\n",
       "    </tr>\n",
       "    <tr>\n",
       "      <th>1598</th>\n",
       "      <td>0</td>\n",
       "      <td>0</td>\n",
       "      <td>0</td>\n",
       "      <td>1</td>\n",
       "      <td>0</td>\n",
       "      <td>0</td>\n",
       "    </tr>\n",
       "  </tbody>\n",
       "</table>\n",
       "<p>1599 rows × 6 columns</p>\n",
       "</div>"
      ],
      "text/plain": [
       "      3.0  4.0  5.0  6.0  7.0  8.0\n",
       "0       0    0    1    0    0    0\n",
       "1       0    0    1    0    0    0\n",
       "2       0    0    1    0    0    0\n",
       "3       0    0    0    1    0    0\n",
       "4       0    0    1    0    0    0\n",
       "...   ...  ...  ...  ...  ...  ...\n",
       "1594    0    0    1    0    0    0\n",
       "1595    0    0    0    1    0    0\n",
       "1596    0    0    0    1    0    0\n",
       "1597    0    0    1    0    0    0\n",
       "1598    0    0    0    1    0    0\n",
       "\n",
       "[1599 rows x 6 columns]"
      ]
     },
     "execution_count": 210,
     "metadata": {},
     "output_type": "execute_result"
    }
   ],
   "source": [
    "# 종속변수 One-Hot Encoding(get_dummies)\n",
    "Y_data = pd.get_dummies(y_data)\n",
    "Y_data"
   ]
  },
  {
   "cell_type": "code",
   "execution_count": 211,
   "id": "43e55b4d",
   "metadata": {
    "ExecuteTime": {
     "end_time": "2024-12-19T06:20:19.674359Z",
     "start_time": "2024-12-19T06:20:19.643025Z"
    }
   },
   "outputs": [
    {
     "data": {
      "text/plain": [
       "((1119, 11), (1119, 6), (480, 11), (480, 6))"
      ]
     },
     "execution_count": 211,
     "metadata": {},
     "output_type": "execute_result"
    }
   ],
   "source": [
    "# train/test Dataset(train_test_split) 분리\n",
    "X_train, X_test, Y_train, Y_test =  train_test_split(X_data,            # 독립변수\n",
    "                                                     Y_data,            # 종속변수\n",
    "                                                     test_size = 0.3,   # train_size는 자동 지정\n",
    "                                                     random_state = 42, # seed값\n",
    "                                                     stratify = Y_data  # 층화추출(등급별 7:3으로 추출)\n",
    "                                                    )\n",
    "X_train.shape, Y_train.shape, X_test.shape, Y_test.shape"
   ]
  },
  {
   "cell_type": "markdown",
   "id": "9f7d27ea",
   "metadata": {},
   "source": [
    "##  Model 구성(입력11, 출력6) layer 4개"
   ]
  },
  {
   "cell_type": "code",
   "execution_count": 124,
   "id": "b6796cbd",
   "metadata": {
    "ExecuteTime": {
     "end_time": "2024-12-19T05:24:34.396892Z",
     "start_time": "2024-12-19T05:24:34.276889Z"
    }
   },
   "outputs": [
    {
     "name": "stdout",
     "output_type": "stream",
     "text": [
      "Model: \"sequential_14\"\n",
      "_________________________________________________________________\n",
      " Layer (type)                Output Shape              Param #   \n",
      "=================================================================\n",
      " dense_53 (Dense)            (None, 64)                768       \n",
      "                                                                 \n",
      " dropout_31 (Dropout)        (None, 64)                0         \n",
      "                                                                 \n",
      " dense_54 (Dense)            (None, 128)               8320      \n",
      "                                                                 \n",
      " dropout_32 (Dropout)        (None, 128)               0         \n",
      "                                                                 \n",
      " dense_55 (Dense)            (None, 32)                4128      \n",
      "                                                                 \n",
      " dropout_33 (Dropout)        (None, 32)                0         \n",
      "                                                                 \n",
      " dense_56 (Dense)            (None, 6)                 198       \n",
      "                                                                 \n",
      "=================================================================\n",
      "Total params: 13,414\n",
      "Trainable params: 13,414\n",
      "Non-trainable params: 0\n",
      "_________________________________________________________________\n"
     ]
    }
   ],
   "source": [
    "model = Sequential()\n",
    "model.add(Input(shape = (11, )))\n",
    "# 과적합을 해결하고자 dropout\n",
    "model.add(Dense(units = 64,\n",
    "                activation = relu))\n",
    "model.add(Dropout(0.1))\n",
    "model.add(Dense(units = 128,\n",
    "                activation = 'relu'))\n",
    "model.add(Dropout(0.1))\n",
    "model.add(Dense(units = 32,\n",
    "                activation = 'relu'))\n",
    "model.add(Dropout(0.1))\n",
    "model.add(Dense(units = 6,\n",
    "                activation = 'softmax'))\n",
    "model.summary()"
   ]
  },
  {
   "cell_type": "markdown",
   "id": "30fe5fa3",
   "metadata": {},
   "source": [
    "## Training Process Setting(다중분류에 맞는 설정)"
   ]
  },
  {
   "cell_type": "code",
   "execution_count": 125,
   "id": "ac6910ec",
   "metadata": {
    "ExecuteTime": {
     "end_time": "2024-12-19T05:24:37.061166Z",
     "start_time": "2024-12-19T05:24:37.049603Z"
    }
   },
   "outputs": [],
   "source": [
    "model.compile(loss = 'categorical_crossentropy',\n",
    "              optimizer = 'nadam',\n",
    "              metrics = ['accuracy'])"
   ]
  },
  {
   "cell_type": "markdown",
   "id": "841ab53d",
   "metadata": {},
   "source": [
    "## Training (callbacks 이용)"
   ]
  },
  {
   "cell_type": "code",
   "execution_count": 126,
   "id": "4c9d8b6d",
   "metadata": {
    "ExecuteTime": {
     "end_time": "2024-12-19T05:24:48.287674Z",
     "start_time": "2024-12-19T05:24:38.715454Z"
    }
   },
   "outputs": [
    {
     "name": "stdout",
     "output_type": "stream",
     "text": [
      "epoch: 5\n",
      "loss: 1.0877562761306763\n",
      "acc: 0.5709497332572937\n",
      "val_loss:0.9602667093276978\n",
      "val_acc: 0.6383928656578064\n",
      "\n",
      "epoch: 10\n",
      "loss: 0.9954090118408203\n",
      "acc: 0.5899441242218018\n",
      "val_loss:0.9023423194885254\n",
      "val_acc: 0.6741071343421936\n",
      "\n",
      "epoch: 15\n",
      "loss: 0.959528923034668\n",
      "acc: 0.624580979347229\n",
      "val_loss:0.8727526664733887\n",
      "val_acc: 0.6741071343421936\n",
      "\n",
      "epoch: 20\n",
      "loss: 0.9323667287826538\n",
      "acc: 0.6301676034927368\n",
      "val_loss:0.8619190454483032\n",
      "val_acc: 0.6875\n",
      "\n",
      "epoch: 25\n",
      "loss: 0.9005262851715088\n",
      "acc: 0.632402241230011\n",
      "val_loss:0.8371132016181946\n",
      "val_acc: 0.6696428656578064\n",
      "\n",
      "epoch: 30\n",
      "loss: 0.8740997314453125\n",
      "acc: 0.6312848925590515\n",
      "val_loss:0.8662301301956177\n",
      "val_acc: 0.6607142686843872\n",
      "\n",
      "epoch: 35\n",
      "loss: 0.8386238217353821\n",
      "acc: 0.6435754299163818\n",
      "val_loss:0.8521784543991089\n",
      "val_acc: 0.6473214030265808\n",
      "\n",
      "epoch: 40\n",
      "loss: 0.831987202167511\n",
      "acc: 0.6603351831436157\n",
      "val_loss:0.8350674510002136\n",
      "val_acc: 0.6696428656578064\n",
      "\n",
      "epoch: 45\n",
      "loss: 0.8075809478759766\n",
      "acc: 0.6581005454063416\n",
      "val_loss:0.8409037590026855\n",
      "val_acc: 0.65625\n",
      "\n",
      "epoch: 50\n",
      "loss: 0.8013257384300232\n",
      "acc: 0.6681564450263977\n",
      "val_loss:0.8458872437477112\n",
      "val_acc: 0.65625\n",
      "\n",
      "epoch: 55\n",
      "loss: 0.7517169713973999\n",
      "acc: 0.6972066760063171\n",
      "val_loss:0.8482679128646851\n",
      "val_acc: 0.6607142686843872\n",
      "\n",
      "epoch: 60\n",
      "loss: 0.7516672611236572\n",
      "acc: 0.6871508359909058\n",
      "val_loss:0.8630860447883606\n",
      "val_acc: 0.6383928656578064\n",
      "\n"
     ]
    }
   ],
   "source": [
    "class CustomHistory(Callback): # on_epoch_end()는 각 epoch 종료 시 자동 호출\n",
    "    def __init__(self): # 생성자 함수\n",
    "        self.epoch = 0\n",
    "    def on_epoch_end(self, batch, logs = {}):\n",
    "        self.epoch += 1\n",
    "        if self.epoch % 5 == 0:\n",
    "            print('epoch: {}\\nloss: {}\\nacc: {}\\nval_loss:{}\\nval_acc: {}\\n'.\\\n",
    "                 format(self.epoch, \n",
    "                        logs.get('loss'), \n",
    "                        logs.get('accuracy'),\n",
    "                        logs.get('val_loss'),\n",
    "                        logs.get('val_accuracy'),\n",
    "                       ))\n",
    "            \n",
    "customHistory = CustomHistory() # 객체 생성\n",
    "earlyStopping = EarlyStopping(patience = 20)\n",
    "            \n",
    "hist = model.fit(X_train, Y_train, \n",
    "                 epochs = 1200, \n",
    "                 batch_size = 100,\n",
    "                 validation_split = 0.2,\n",
    "                 verbose = 0,\n",
    "                 callbacks = [earlyStopping, customHistory]\n",
    "                )"
   ]
  },
  {
   "cell_type": "markdown",
   "id": "f06423f4",
   "metadata": {},
   "source": [
    "## Model 평가 - 그래프, evaluate(Test), crosstab"
   ]
  },
  {
   "cell_type": "code",
   "execution_count": 132,
   "id": "ab3a9310",
   "metadata": {
    "ExecuteTime": {
     "end_time": "2024-12-19T05:28:16.778906Z",
     "start_time": "2024-12-19T05:28:16.770889Z"
    }
   },
   "outputs": [
    {
     "data": {
      "text/plain": [
       "dict_keys(['loss', 'accuracy', 'val_loss', 'val_accuracy'])"
      ]
     },
     "execution_count": 132,
     "metadata": {},
     "output_type": "execute_result"
    }
   ],
   "source": [
    "hist.history.keys()"
   ]
  },
  {
   "cell_type": "code",
   "execution_count": 130,
   "id": "c7e3e1f5",
   "metadata": {
    "ExecuteTime": {
     "end_time": "2024-12-19T05:25:30.422533Z",
     "start_time": "2024-12-19T05:25:30.090769Z"
    }
   },
   "outputs": [
    {
     "data": {
      "image/png": "[encoded data removed]",
      "text/plain": [
       "<Figure size 1000x500 with 2 Axes>"
      ]
     },
     "metadata": {},
     "output_type": "display_data"
    }
   ],
   "source": [
    "# 학습과정 표시하기\n",
    "fig, loss_ax = plt.subplots(figsize = (10, 5))\n",
    "loss_ax.plot(hist.history['loss'], \n",
    "             'r', \n",
    "             label = 'train loss')\n",
    "loss_ax.plot(hist.history['val_loss'], \n",
    "             'y', \n",
    "             label = 'validation loss')\n",
    "loss_ax.set_xlabel('epoch')\n",
    "loss_ax.set_ylabel('loss')\n",
    "\n",
    "acc_ax = loss_ax.twinx()\n",
    "acc_ax.plot(hist.history['accuracy'], \n",
    "            'b', \n",
    "            label = 'train accuracy')\n",
    "acc_ax.plot(hist.history['val_accuracy'], \n",
    "            'g', \n",
    "            label = 'validation accuracy')\n",
    "acc_ax.set_ylabel('accuracy')\n",
    "\n",
    "loss_ax.legend(loc = 'center right')\n",
    "acc_ax.legend(bbox_to_anchor = (0.999, 0.7))\n",
    "plt.show()"
   ]
  },
  {
   "cell_type": "code",
   "execution_count": 134,
   "id": "f543dc88",
   "metadata": {
    "ExecuteTime": {
     "end_time": "2024-12-19T05:29:44.540406Z",
     "start_time": "2024-12-19T05:29:44.371138Z"
    }
   },
   "outputs": [
    {
     "name": "stdout",
     "output_type": "stream",
     "text": [
      "15/15 [==============================] - 0s 4ms/step - loss: 0.9259 - accuracy: 0.5979\n",
      "loss: 0.9259458184242249\n",
      "accuracy: 0.5979166626930237\n"
     ]
    }
   ],
   "source": [
    "loss_and_acc = model.evaluate(X_test, Y_test)\n",
    "print('loss:', loss_and_acc[0])\n",
    "print('accuracy:', loss_and_acc[1])"
   ]
  },
  {
   "cell_type": "markdown",
   "id": "d0e70ea3",
   "metadata": {},
   "source": [
    "### cross tabulation"
   ]
  },
  {
   "cell_type": "code",
   "execution_count": 183,
   "id": "1bcb3bce",
   "metadata": {
    "ExecuteTime": {
     "end_time": "2024-12-19T05:48:48.614373Z",
     "start_time": "2024-12-19T05:48:48.498822Z"
    }
   },
   "outputs": [
    {
     "name": "stdout",
     "output_type": "stream",
     "text": [
      "15/15 [==============================] - 0s 3ms/step\n"
     ]
    }
   ],
   "source": [
    "Y_hat = (model.predict(X_test).argmax(axis = 1) + 3)\n",
    "Y_test_2 = Y_test.to_numpy().argmax(axis=1) + 3"
   ]
  },
  {
   "cell_type": "code",
   "execution_count": 186,
   "id": "7b8ae55e",
   "metadata": {
    "ExecuteTime": {
     "end_time": "2024-12-19T05:49:26.316829Z",
     "start_time": "2024-12-19T05:49:26.290190Z"
    }
   },
   "outputs": [
    {
     "data": {
      "text/html": [
       "<div>\n",
       "<style scoped>\n",
       "    .dataframe tbody tr th:only-of-type {\n",
       "        vertical-align: middle;\n",
       "    }\n",
       "\n",
       "    .dataframe tbody tr th {\n",
       "        vertical-align: top;\n",
       "    }\n",
       "\n",
       "    .dataframe thead th {\n",
       "        text-align: right;\n",
       "    }\n",
       "</style>\n",
       "<table border=\"1\" class=\"dataframe\">\n",
       "  <thead>\n",
       "    <tr style=\"text-align: right;\">\n",
       "      <th>예측</th>\n",
       "      <th>4</th>\n",
       "      <th>5</th>\n",
       "      <th>6</th>\n",
       "      <th>7</th>\n",
       "    </tr>\n",
       "    <tr>\n",
       "      <th>실제</th>\n",
       "      <th></th>\n",
       "      <th></th>\n",
       "      <th></th>\n",
       "      <th></th>\n",
       "    </tr>\n",
       "  </thead>\n",
       "  <tbody>\n",
       "    <tr>\n",
       "      <th>3</th>\n",
       "      <td>0</td>\n",
       "      <td>1</td>\n",
       "      <td>0</td>\n",
       "      <td>0</td>\n",
       "    </tr>\n",
       "    <tr>\n",
       "      <th>4</th>\n",
       "      <td>0</td>\n",
       "      <td>12</td>\n",
       "      <td>5</td>\n",
       "      <td>0</td>\n",
       "    </tr>\n",
       "    <tr>\n",
       "      <th>5</th>\n",
       "      <td>1</td>\n",
       "      <td>152</td>\n",
       "      <td>37</td>\n",
       "      <td>5</td>\n",
       "    </tr>\n",
       "    <tr>\n",
       "      <th>6</th>\n",
       "      <td>0</td>\n",
       "      <td>69</td>\n",
       "      <td>111</td>\n",
       "      <td>20</td>\n",
       "    </tr>\n",
       "    <tr>\n",
       "      <th>7</th>\n",
       "      <td>0</td>\n",
       "      <td>1</td>\n",
       "      <td>36</td>\n",
       "      <td>24</td>\n",
       "    </tr>\n",
       "    <tr>\n",
       "      <th>8</th>\n",
       "      <td>0</td>\n",
       "      <td>0</td>\n",
       "      <td>3</td>\n",
       "      <td>3</td>\n",
       "    </tr>\n",
       "  </tbody>\n",
       "</table>\n",
       "</div>"
      ],
      "text/plain": [
       "예측  4    5    6   7\n",
       "실제                 \n",
       "3   0    1    0   0\n",
       "4   0   12    5   0\n",
       "5   1  152   37   5\n",
       "6   0   69  111  20\n",
       "7   0    1   36  24\n",
       "8   0    0    3   3"
      ]
     },
     "execution_count": 186,
     "metadata": {},
     "output_type": "execute_result"
    }
   ],
   "source": [
    "ctab = pd.crosstab(Y_test_2, Y_hat)\n",
    "ctab.index.name = '실제'\n",
    "ctab.columns.name = '예측'\n",
    "ctab"
   ]
  },
  {
   "cell_type": "markdown",
   "id": "8eaae664",
   "metadata": {},
   "source": [
    "## Model 저장(1)"
   ]
  },
  {
   "cell_type": "code",
   "execution_count": 187,
   "id": "531280a5",
   "metadata": {
    "ExecuteTime": {
     "end_time": "2024-12-19T05:50:53.098381Z",
     "start_time": "2024-12-19T05:50:53.042604Z"
    }
   },
   "outputs": [],
   "source": [
    "# 학습된 모델 저장\n",
    "model.save('model/wine.h5')"
   ]
  },
  {
   "cell_type": "code",
   "execution_count": 189,
   "id": "c2722c00",
   "metadata": {
    "ExecuteTime": {
     "end_time": "2024-12-19T05:51:51.646630Z",
     "start_time": "2024-12-19T05:51:51.482738Z"
    }
   },
   "outputs": [
    {
     "name": "stdout",
     "output_type": "stream",
     "text": [
      "Model: \"sequential_14\"\n",
      "_________________________________________________________________\n",
      " Layer (type)                Output Shape              Param #   \n",
      "=================================================================\n",
      " dense_53 (Dense)            (None, 64)                768       \n",
      "                                                                 \n",
      " dropout_31 (Dropout)        (None, 64)                0         \n",
      "                                                                 \n",
      " dense_54 (Dense)            (None, 128)               8320      \n",
      "                                                                 \n",
      " dropout_32 (Dropout)        (None, 128)               0         \n",
      "                                                                 \n",
      " dense_55 (Dense)            (None, 32)                4128      \n",
      "                                                                 \n",
      " dropout_33 (Dropout)        (None, 32)                0         \n",
      "                                                                 \n",
      " dense_56 (Dense)            (None, 6)                 198       \n",
      "                                                                 \n",
      "=================================================================\n",
      "Total params: 13,414\n",
      "Trainable params: 13,414\n",
      "Non-trainable params: 0\n",
      "_________________________________________________________________\n"
     ]
    }
   ],
   "source": [
    "# 학습된 모델 load\n",
    "from tensorflow.keras.models import load_model\n",
    "model2 = load_model('model/wine.h5')\n",
    "model2.summary()"
   ]
  },
  {
   "cell_type": "markdown",
   "id": "6c044f7d",
   "metadata": {},
   "source": [
    "## Model 저장(2) \n",
    "- 구조만 저장"
   ]
  },
  {
   "cell_type": "code",
   "execution_count": 190,
   "id": "4346ed8f",
   "metadata": {
    "ExecuteTime": {
     "end_time": "2024-12-19T05:54:23.669583Z",
     "start_time": "2024-12-19T05:54:23.653961Z"
    }
   },
   "outputs": [],
   "source": [
    "model_json = model.to_json()\n",
    "with open('model/wine.json', 'w') as f:\n",
    "    f.write(model_json)"
   ]
  },
  {
   "cell_type": "code",
   "execution_count": 191,
   "id": "71253d03",
   "metadata": {
    "ExecuteTime": {
     "end_time": "2024-12-19T05:55:05.408583Z",
     "start_time": "2024-12-19T05:55:05.403328Z"
    }
   },
   "outputs": [],
   "source": [
    "# 저장된 Model 구성 load\n",
    "with open('model/wine.json', 'r') as f:\n",
    "    model_json2 = f.read()"
   ]
  },
  {
   "cell_type": "code",
   "execution_count": 193,
   "id": "693925a0",
   "metadata": {
    "ExecuteTime": {
     "end_time": "2024-12-19T05:57:52.033887Z",
     "start_time": "2024-12-19T05:57:51.922750Z"
    }
   },
   "outputs": [
    {
     "name": "stdout",
     "output_type": "stream",
     "text": [
      "Model: \"sequential_14\"\n",
      "_________________________________________________________________\n",
      " Layer (type)                Output Shape              Param #   \n",
      "=================================================================\n",
      " dense_53 (Dense)            (None, 64)                768       \n",
      "                                                                 \n",
      " dropout_31 (Dropout)        (None, 64)                0         \n",
      "                                                                 \n",
      " dense_54 (Dense)            (None, 128)               8320      \n",
      "                                                                 \n",
      " dropout_32 (Dropout)        (None, 128)               0         \n",
      "                                                                 \n",
      " dense_55 (Dense)            (None, 32)                4128      \n",
      "                                                                 \n",
      " dropout_33 (Dropout)        (None, 32)                0         \n",
      "                                                                 \n",
      " dense_56 (Dense)            (None, 6)                 198       \n",
      "                                                                 \n",
      "=================================================================\n",
      "Total params: 13,414\n",
      "Trainable params: 13,414\n",
      "Non-trainable params: 0\n",
      "_________________________________________________________________\n"
     ]
    }
   ],
   "source": [
    "from tensorflow.keras.models import model_from_json\n",
    "model3 = model_from_json(model_json2)\n",
    "model3.summary()"
   ]
  },
  {
   "cell_type": "code",
   "execution_count": 194,
   "id": "c282e3ee",
   "metadata": {
    "ExecuteTime": {
     "end_time": "2024-12-19T05:58:04.000638Z",
     "start_time": "2024-12-19T05:58:03.567327Z"
    }
   },
   "outputs": [
    {
     "name": "stdout",
     "output_type": "stream",
     "text": [
      "15/15 [==============================] - 0s 4ms/step - loss: 1.8964 - accuracy: 0.1000\n"
     ]
    },
    {
     "data": {
      "text/plain": [
       "[1.8964221477508545, 0.10000000149011612]"
      ]
     },
     "execution_count": 194,
     "metadata": {},
     "output_type": "execute_result"
    }
   ],
   "source": [
    "model3.compile(loss = 'categorical_crossentropy',\n",
    "               optimizer = 'nadam',\n",
    "               metrics = ['accuracy'])\n",
    "model3.evaluate(X_test, Y_test)"
   ]
  },
  {
   "cell_type": "code",
   "execution_count": 197,
   "id": "801338a6",
   "metadata": {
    "ExecuteTime": {
     "end_time": "2024-12-19T06:10:12.097141Z",
     "start_time": "2024-12-19T06:10:09.995056Z"
    }
   },
   "outputs": [
    {
     "name": "stdout",
     "output_type": "stream",
     "text": [
      "epoch: 65\n",
      "loss: 0.8180148601531982\n",
      "acc: 0.6715083718299866\n",
      "val_loss:0.8511492609977722\n",
      "val_acc: 0.6741071343421936\n",
      "\n",
      "epoch: 70\n",
      "loss: 0.8084040284156799\n",
      "acc: 0.6793296337127686\n",
      "val_loss:0.8465938568115234\n",
      "val_acc: 0.6651785969734192\n",
      "\n",
      "epoch: 75\n",
      "loss: 0.7937471866607666\n",
      "acc: 0.6849161982536316\n",
      "val_loss:0.8298997282981873\n",
      "val_acc: 0.6830357313156128\n",
      "\n",
      "epoch: 80\n",
      "loss: 0.7859137058258057\n",
      "acc: 0.6826815605163574\n",
      "val_loss:0.8380847573280334\n",
      "val_acc: 0.6875\n",
      "\n",
      "epoch: 85\n",
      "loss: 0.7915108799934387\n",
      "acc: 0.6659218072891235\n",
      "val_loss:0.8394006490707397\n",
      "val_acc: 0.6830357313156128\n",
      "\n",
      "epoch: 90\n",
      "loss: 0.7827069163322449\n",
      "acc: 0.6648044586181641\n",
      "val_loss:0.8442358374595642\n",
      "val_acc: 0.6607142686843872\n",
      "\n",
      "epoch: 95\n",
      "loss: 0.7669351696968079\n",
      "acc: 0.6793296337127686\n",
      "val_loss:0.8380884528160095\n",
      "val_acc: 0.6785714030265808\n",
      "\n"
     ]
    },
    {
     "data": {
      "text/plain": [
       "<keras.callbacks.History at 0x1f35259a230>"
      ]
     },
     "execution_count": 197,
     "metadata": {},
     "output_type": "execute_result"
    }
   ],
   "source": [
    "model3.fit(X_train, Y_train,\n",
    "           epochs = 100, \n",
    "           batch_size = 500,\n",
    "           validation_split = 0.2,\n",
    "           callbacks = [earlyStopping, customHistory],\n",
    "           verbose = 0)"
   ]
  },
  {
   "cell_type": "code",
   "execution_count": 198,
   "id": "c96981af",
   "metadata": {
    "ExecuteTime": {
     "end_time": "2024-12-19T06:10:41.881051Z",
     "start_time": "2024-12-19T06:10:41.716969Z"
    }
   },
   "outputs": [
    {
     "name": "stdout",
     "output_type": "stream",
     "text": [
      "15/15 [==============================] - 0s 6ms/step - loss: 0.9259 - accuracy: 0.5979\n",
      "loss: 0.9259458184242249\n",
      "accuracy: 0.5979166626930237\n"
     ]
    }
   ],
   "source": [
    "loss_and_acc = model.evaluate(X_test, Y_test)\n",
    "print('loss:', loss_and_acc[0])\n",
    "print('accuracy:', loss_and_acc[1])"
   ]
  }
 ],
 "metadata": {
  "kernelspec": {
   "display_name": "Python 3 (ipykernel)",
   "language": "python",
   "name": "python3"
  },
  "language_info": {
   "codemirror_mode": {
    "name": "ipython",
    "version": 3
   },
   "file_extension": ".py",
   "mimetype": "text/x-python",
   "name": "python",
   "nbconvert_exporter": "python",
   "pygments_lexer": "ipython3",
   "version": "3.10.9"
  },
  "toc": {
   "base_numbering": 1,
   "nav_menu": {},
   "number_sections": true,
   "sideBar": true,
   "skip_h1_title": false,
   "title_cell": "Table of Contents",
   "title_sidebar": "Contents",
   "toc_cell": false,
   "toc_position": {
    "height": "calc(100% - 180px)",
    "left": "10px",
    "top": "150px",
    "width": "165px"
   },
   "toc_section_display": true,
   "toc_window_display": true
  }
 },
 "nbformat": 4,
 "nbformat_minor": 5
}
