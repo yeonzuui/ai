{
 "cells": [
  {
   "cell_type": "markdown",
   "id": "f58729bf",
   "metadata": {},
   "source": [
    "# 1. tensorflow v2.xx에서 v1사용하기"
   ]
  },
  {
   "cell_type": "code",
   "execution_count": 1,
   "id": "5c40861f",
   "metadata": {
    "ExecuteTime": {
     "end_time": "2024-12-13T05:36:06.073678Z",
     "start_time": "2024-12-13T05:36:01.584382Z"
    }
   },
   "outputs": [
    {
     "name": "stdout",
     "output_type": "stream",
     "text": [
      "WARNING:tensorflow:From C:\\Users\\4545\\anaconda3\\lib\\site-packages\\tensorflow\\python\\compat\\v2_compat.py:107: disable_resource_variables (from tensorflow.python.ops.variable_scope) is deprecated and will be removed in a future version.\n",
      "Instructions for updating:\n",
      "non-resource variables are not supported in the long term\n"
     ]
    }
   ],
   "source": [
    "import tensorflow.compat.v1 as tf\n",
    "tf.disable_v2_behavior() # v2 비활성화하고 v1을 활성화"
   ]
  },
  {
   "cell_type": "markdown",
   "id": "40c6192e",
   "metadata": {},
   "source": [
    "## Tensorflow\n",
    "- 그래프 정의 (tensor 객체의 흐름)\n",
    "- sess = tf.Session()을 실행\n",
    "- sess.run()을 통해 변수값을 확인할 수 있음"
   ]
  },
  {
   "cell_type": "code",
   "execution_count": 2,
   "id": "9b6cdc25",
   "metadata": {
    "ExecuteTime": {
     "end_time": "2024-12-13T05:36:06.889290Z",
     "start_time": "2024-12-13T05:36:06.077639Z"
    }
   },
   "outputs": [
    {
     "name": "stdout",
     "output_type": "stream",
     "text": [
      "b'Hello, Tensorflow'\n",
      "Hello, Tensorflow\n"
     ]
    }
   ],
   "source": [
    "# tensor = data(상수, 변수)와 연산\n",
    "node1 = tf.constant('Hello, Tensorflow')\n",
    "sess = tf.Session()\n",
    "print(sess.run(node1))\n",
    "print(sess.run(node1).decode())"
   ]
  },
  {
   "cell_type": "code",
   "execution_count": 3,
   "id": "ebcb61af",
   "metadata": {
    "ExecuteTime": {
     "end_time": "2024-12-13T05:36:07.022633Z",
     "start_time": "2024-12-13T05:36:06.896793Z"
    }
   },
   "outputs": [
    {
     "name": "stdout",
     "output_type": "stream",
     "text": [
      "[10.0, 20.0, 30.0]\n"
     ]
    }
   ],
   "source": [
    "# 간단한 수학 연산 tensor 그래프\n",
    "node1 = tf.constant(10, \n",
    "                    dtype = tf.float16)\n",
    "node2 = tf.constant(20,\n",
    "                    dtype = tf.float16)\n",
    "node3 = tf.add(node1, node2)\n",
    "\n",
    "sess = tf.Session() # 활성화\n",
    "print(sess.run([node1, node2, node3]))"
   ]
  },
  {
   "cell_type": "code",
   "execution_count": 4,
   "id": "1906f738",
   "metadata": {
    "ExecuteTime": {
     "end_time": "2024-12-13T05:36:07.055917Z",
     "start_time": "2024-12-13T05:36:07.025643Z"
    }
   },
   "outputs": [
    {
     "name": "stdout",
     "output_type": "stream",
     "text": [
      "[array([1, 2, 3], dtype=int16), array([1., 2., 3.], dtype=float32)]\n"
     ]
    }
   ],
   "source": [
    "# 타입 변경\n",
    "import numpy as np\n",
    "node1 = tf.constant(np.array([1, 2, 3]),\n",
    "                    dtype = tf.int16)\n",
    "node2 = tf.cast(node1, dtype = tf.float32) # 형변환\n",
    "sess = tf.Session()\n",
    "print(sess.run([node1, node2]))"
   ]
  },
  {
   "cell_type": "code",
   "execution_count": 5,
   "id": "ffe58a6e",
   "metadata": {
    "ExecuteTime": {
     "end_time": "2024-12-13T05:36:07.089286Z",
     "start_time": "2024-12-13T05:36:07.058928Z"
    }
   },
   "outputs": [
    {
     "data": {
      "text/plain": [
       "2.5"
      ]
     },
     "execution_count": 5,
     "metadata": {},
     "output_type": "execute_result"
    }
   ],
   "source": [
    "# 평균값 계산: tf.reduce_mean()\n",
    "data = np.array([1., 2., 3., 4.])\n",
    "m = tf.reduce_mean(data) # 실수\n",
    "sess = tf.Session()\n",
    "sess.run(m)"
   ]
  },
  {
   "cell_type": "code",
   "execution_count": 6,
   "id": "81e33eef",
   "metadata": {
    "ExecuteTime": {
     "end_time": "2024-12-13T05:36:07.872837Z",
     "start_time": "2024-12-13T05:36:07.092277Z"
    }
   },
   "outputs": [
    {
     "data": {
      "image/png": "[encoded data removed]",
      "text/plain": [
       "<Figure size 640x480 with 1 Axes>"
      ]
     },
     "metadata": {},
     "output_type": "display_data"
    }
   ],
   "source": [
    "# tf.random_normal([size]): 평균 0, 표준편차 1인 난수 size개 발생. \n",
    "# 난수개수: 독립변수개수\n",
    "import matplotlib.pyplot as plt\n",
    "tensor = tf.random_normal([1000]) # 평균 0, 표준편차 1인 난수 2개 (정규분포)\n",
    "sess = tf.Session()\n",
    "plt.hist(sess.run(tensor))\n",
    "plt.show()"
   ]
  },
  {
   "cell_type": "markdown",
   "id": "1b9562d0",
   "metadata": {},
   "source": [
    "# 2. tensorflow v1을 이용한 linear regression을 구현\n",
    "## 2.1 독립변수 x가 1개, 종속변수 y가 1개"
   ]
  },
  {
   "cell_type": "code",
   "execution_count": 7,
   "id": "8d9dc0db",
   "metadata": {
    "ExecuteTime": {
     "end_time": "2024-12-13T05:36:12.955762Z",
     "start_time": "2024-12-13T05:36:07.876826Z"
    }
   },
   "outputs": [
    {
     "name": "stdout",
     "output_type": "stream",
     "text": [
      "300번째 cost:4.793915309164731e-08, W:[0.9997457], b:[0.00057798]\n",
      "600번째 cost:3.7930010017171376e-14, W:[0.99999976], b:[4.827022e-07]\n",
      "900번째 cost:1.5000347020283425e-14, W:[0.9999998], b:[3.377597e-07]\n",
      "1200번째 cost:1.5000347020283425e-14, W:[0.9999998], b:[3.377597e-07]\n",
      "1500번째 cost:1.5000347020283425e-14, W:[0.9999998], b:[3.377597e-07]\n",
      "1800번째 cost:1.5000347020283425e-14, W:[0.9999998], b:[3.377597e-07]\n",
      "2100번째 cost:1.5000347020283425e-14, W:[0.9999998], b:[3.377597e-07]\n",
      "2400번째 cost:1.5000347020283425e-14, W:[0.9999998], b:[3.377597e-07]\n",
      "2700번째 cost:1.5000347020283425e-14, W:[0.9999998], b:[3.377597e-07]\n",
      "3000번째 cost:1.5000347020283425e-14, W:[0.9999998], b:[3.377597e-07]\n",
      "3300번째 cost:1.5000347020283425e-14, W:[0.9999998], b:[3.377597e-07]\n",
      "3600번째 cost:1.5000347020283425e-14, W:[0.9999998], b:[3.377597e-07]\n",
      "3900번째 cost:1.5000347020283425e-14, W:[0.9999998], b:[3.377597e-07]\n",
      "4200번째 cost:1.5000347020283425e-14, W:[0.9999998], b:[3.377597e-07]\n",
      "4500번째 cost:1.5000347020283425e-14, W:[0.9999998], b:[3.377597e-07]\n",
      "4800번째 cost:1.5000347020283425e-14, W:[0.9999998], b:[3.377597e-07]\n",
      "5100번째 cost:1.5000347020283425e-14, W:[0.9999998], b:[3.377597e-07]\n",
      "5400번째 cost:1.5000347020283425e-14, W:[0.9999998], b:[3.377597e-07]\n",
      "5700번째 cost:1.5000347020283425e-14, W:[0.9999998], b:[3.377597e-07]\n"
     ]
    }
   ],
   "source": [
    "# tensor 그래프(객체 흐름) 정의\n",
    "# data set(x, y)\n",
    "x = np.array([1, 2, 3])\n",
    "y = np.array([1, 2, 3]) # y = 1*x + 0\n",
    "\n",
    "# weight와 bias (처음에는 랜덤값으로 셋팅했다가, 학습과정에서 변경)\n",
    "W = tf.Variable(tf.random.normal([1]),\n",
    "                name = 'weight')\n",
    "b = tf.Variable(tf.random_normal([1]),\n",
    "                name = 'bias')\n",
    "\n",
    "# Hypothesis: 결과는 Numpy array\n",
    "H = W*x + b\n",
    "\n",
    "# cost function (손실함수 = mse: 최소제곱법)\n",
    "cost = tf.reduce_mean(tf.square(H-y))\n",
    "\n",
    "'''\n",
    "학습 목적: cost가 최소가 되는 W, b를 찾는 것\n",
    "cost 함수는 2차함수이므로 곡선 그래프. 곡선 위 미분값이 줄어드는 방향으로 학습(경사하강법)\n",
    "'''\n",
    "optimizer = tf.train.GradientDescentOptimizer(learning_rate = 0.1)\n",
    "train = optimizer.minimize(cost)\n",
    "\n",
    "# Session 생성\n",
    "sess = tf.Session()\n",
    "# tf.Variable 변수 노드(W, b) 초기화\n",
    "sess.run(tf.global_variables_initializer())\n",
    "sess.run([W, b])\n",
    "\n",
    "# 6000번 학습 (v2에서의 fit함수)\n",
    "for step in range(1, 6000):\n",
    "    _, cost_val, W_val, b_val, = sess.run([train, cost, W, b])\n",
    "    if step % 300 == 0:\n",
    "        print(\"{}번째 cost:{}, W:{}, b:{}\".format(step, \n",
    "                                                 cost_val, \n",
    "                                                 W_val,\n",
    "                                                 b_val))"
   ]
  },
  {
   "cell_type": "code",
   "execution_count": 8,
   "id": "59c9dd90",
   "metadata": {
    "ExecuteTime": {
     "end_time": "2024-12-13T05:36:12.972215Z",
     "start_time": "2024-12-13T05:36:12.956593Z"
    }
   },
   "outputs": [
    {
     "data": {
      "text/plain": [
       "[array([0.9999998], dtype=float32), array([3.377597e-07], dtype=float32)]"
      ]
     },
     "execution_count": 8,
     "metadata": {},
     "output_type": "execute_result"
    }
   ],
   "source": [
    "# 최종적으로 나온 회귀식 H = W*x + b\n",
    "sess.run([W, b])"
   ]
  },
  {
   "cell_type": "code",
   "execution_count": 9,
   "id": "dcb0b827",
   "metadata": {
    "ExecuteTime": {
     "end_time": "2024-12-13T05:36:12.983973Z",
     "start_time": "2024-12-13T05:36:12.975986Z"
    }
   },
   "outputs": [
    {
     "data": {
      "text/plain": [
       "(array([0.9999998], dtype=float32), array([3.377597e-07], dtype=float32))"
      ]
     },
     "execution_count": 9,
     "metadata": {},
     "output_type": "execute_result"
    }
   ],
   "source": [
    "W_, b_ = sess.run([W, b])\n",
    "W_, b_"
   ]
  },
  {
   "cell_type": "code",
   "execution_count": 10,
   "id": "ef6e1c61",
   "metadata": {
    "ExecuteTime": {
     "end_time": "2024-12-13T05:36:12.994631Z",
     "start_time": "2024-12-13T05:36:12.985943Z"
    }
   },
   "outputs": [
    {
     "name": "stdout",
     "output_type": "stream",
     "text": [
      "최종회귀식: H = 0.9999998211860657*x + 3.3775970109672926e-07\n"
     ]
    }
   ],
   "source": [
    "print('최종회귀식: H = {}*x + {}'.format(W_[0], b_[0]))"
   ]
  },
  {
   "cell_type": "code",
   "execution_count": 11,
   "id": "517eec61",
   "metadata": {
    "ExecuteTime": {
     "end_time": "2024-12-13T05:36:13.002600Z",
     "start_time": "2024-12-13T05:36:12.997614Z"
    }
   },
   "outputs": [],
   "source": [
    "def to_predict(x):\n",
    "    return W_[0]*x + b_[0]"
   ]
  },
  {
   "cell_type": "code",
   "execution_count": 12,
   "id": "032bfbb6",
   "metadata": {
    "ExecuteTime": {
     "end_time": "2024-12-13T05:36:13.022999Z",
     "start_time": "2024-12-13T05:36:13.008080Z"
    }
   },
   "outputs": [
    {
     "data": {
      "text/plain": [
       "2.999999801317898"
      ]
     },
     "execution_count": 12,
     "metadata": {},
     "output_type": "execute_result"
    }
   ],
   "source": [
    "to_predict(3)"
   ]
  },
  {
   "cell_type": "markdown",
   "id": "1074dc13",
   "metadata": {},
   "source": [
    "## 2.2 predict을 하기 위한 placeholder 이용\n",
    "- placeholder: 외부에서 데이터를 입력받을 수 있는 노드"
   ]
  },
  {
   "cell_type": "code",
   "execution_count": 13,
   "id": "bf92e758",
   "metadata": {
    "ExecuteTime": {
     "end_time": "2024-12-13T05:36:13.060250Z",
     "start_time": "2024-12-13T05:36:13.024596Z"
    }
   },
   "outputs": [
    {
     "data": {
      "text/plain": [
       "[array(10., dtype=float16), array(20., dtype=float16), 30.0]"
      ]
     },
     "execution_count": 13,
     "metadata": {},
     "output_type": "execute_result"
    }
   ],
   "source": [
    "a = tf.placeholder(tf.float16)\n",
    "b = tf.placeholder(tf.float16)\n",
    "ab = tf.add(a, b)\n",
    "sess = tf.Session()\n",
    "sess.run([a, b, ab], feed_dict = {a:10, \n",
    "                                  b:20})"
   ]
  },
  {
   "cell_type": "code",
   "execution_count": 14,
   "id": "3ef8e718",
   "metadata": {
    "ExecuteTime": {
     "end_time": "2024-12-13T05:36:13.071221Z",
     "start_time": "2024-12-13T05:36:13.062244Z"
    }
   },
   "outputs": [
    {
     "data": {
      "text/plain": [
       "array([2., 4., 6.], dtype=float16)"
      ]
     },
     "execution_count": 14,
     "metadata": {},
     "output_type": "execute_result"
    }
   ],
   "source": [
    "sess.run(ab, feed_dict = {a:np.array([1, 2, 3]),\n",
    "                          b:np.array([1, 2, 3])} )"
   ]
  },
  {
   "cell_type": "code",
   "execution_count": 15,
   "id": "de54af1e",
   "metadata": {
    "ExecuteTime": {
     "end_time": "2024-12-13T05:36:32.373703Z",
     "start_time": "2024-12-13T05:36:13.074213Z"
    }
   },
   "outputs": [
    {
     "name": "stdout",
     "output_type": "stream",
     "text": [
      "1/6000번째 cost:24.80381965637207, W:[1.3966986], b:[-1.4573755]\n",
      "301/6000번째 cost:1.085059404373169, W:[2.3563015], b:[-0.9044387]\n",
      "601/6000번째 cost:0.7669531106948853, W:[2.2995558], b:[-0.6011225]\n",
      "901/6000번째 cost:0.5421057939529419, W:[2.2518466], b:[-0.3461152]\n",
      "1201/6000번째 cost:0.38317692279815674, W:[2.2117352], b:[-0.13172264]\n",
      "1501/6000번째 cost:0.27084141969680786, W:[2.178013], b:[0.0485243]\n",
      "1801/6000번째 cost:0.19143900275230408, W:[2.149661], b:[0.20006365]\n",
      "2101/6000번째 cost:0.1353149712085724, W:[2.125825], b:[0.32746765]\n",
      "2401/6000번째 cost:0.09564483910799026, W:[2.1057851], b:[0.4345802]\n",
      "2701/6000번째 cost:0.06760473549365997, W:[2.088937], b:[0.5246333]\n",
      "3001/6000번째 cost:0.047785162925720215, W:[2.0747724], b:[0.6003437]\n",
      "3301/6000번째 cost:0.033776070922613144, W:[2.0628633], b:[0.66399574]\n",
      "3601/6000번째 cost:0.02387402579188347, W:[2.0528517], b:[0.71751004]\n",
      "3901/6000번째 cost:0.01687495969235897, W:[2.0444343], b:[0.76250106]\n",
      "4201/6000번째 cost:0.011927863582968712, W:[2.0373573], b:[0.80032635]\n",
      "4501/6000번째 cost:0.00843109656125307, W:[2.031408], b:[0.8321266]\n",
      "4801/6000번째 cost:0.005959390662610531, W:[2.0264063], b:[0.85886264]\n",
      "5101/6000번째 cost:0.004212394822388887, W:[2.022201], b:[0.88134]\n",
      "5401/6000번째 cost:0.002977520925924182, W:[2.0186653], b:[0.90023774]\n",
      "5701/6000번째 cost:0.002104673068970442, W:[2.0156934], b:[0.91612506]\n",
      "6001/6000번째 cost:0.0014877348439767957, W:[2.0131948], b:[0.92948174]\n",
      "6301/6000번째 cost:0.001051663071848452, W:[2.011094], b:[0.940711]\n",
      "6601/6000번째 cost:0.0007434042636305094, W:[2.0093267], b:[0.9501516]\n",
      "6901/6000번째 cost:0.0005255216965451837, W:[2.0078433], b:[0.9580884]\n",
      "7201/6000번째 cost:0.0003715108905453235, W:[2.006595], b:[0.9647613]\n",
      "7501/6000번째 cost:0.0002626306377351284, W:[2.0055435], b:[0.9703714]\n",
      "7801/6000번째 cost:0.00018566794460639358, W:[2.0046618], b:[0.97508806]\n",
      "8101/6000번째 cost:0.0001312623207923025, W:[2.003919], b:[0.97905356]\n",
      "8401/6000번째 cost:9.28127919905819e-05, W:[2.0032976], b:[0.9823872]\n",
      "8701/6000번째 cost:6.56177508062683e-05, W:[2.0027707], b:[0.98518986]\n",
      "9001/6000번째 cost:4.63962132926099e-05, W:[2.002329], b:[0.9875467]\n",
      "9301/6000번째 cost:3.281130193499848e-05, W:[2.0019588], b:[0.9895277]\n",
      "9601/6000번째 cost:2.320284147572238e-05, W:[2.00165], b:[0.9911938]\n",
      "9901/6000번째 cost:1.640146001591347e-05, W:[2.001386], b:[0.9925958]\n"
     ]
    }
   ],
   "source": [
    "# data set (H = 2x + 1)\n",
    "x_data = np.array([1, 2, 3, 5, 8])\n",
    "y_data = np.array([3, 5, 7, 11, 17])\n",
    "\n",
    "# placeholder 설정(X, y)\n",
    "x = tf.placeholder(dtype = tf.float32)\n",
    "y = tf.placeholder(dtype = tf.float32)\n",
    "\n",
    "# weight & bias\n",
    "W = tf.Variable(tf.random.normal([1]),\n",
    "                name = 'weight')\n",
    "b = tf.Variable(tf.random_normal([1]),\n",
    "                name = 'bias')\n",
    "\n",
    "# Hypothesis\n",
    "H = W*x + b\n",
    "\n",
    "# cost function == loss function \n",
    "cost = tf.reduce_mean(tf.square(H - y))\n",
    "# 경사하강법\n",
    "train = tf.train.GradientDescentOptimizer(learning_rate = 0.001).minimize(cost)\n",
    "\n",
    "# session 생성 & 변수 초기화\n",
    "sess = tf.Session()\n",
    "sess.run(tf.global_variables_initializer())\n",
    "# 학습 6000번\n",
    "for step in range(10000):\n",
    "    _, cost_, W_val, b_val = sess.run([train, cost, W, b], \n",
    "                                      feed_dict = {x:x_data,\n",
    "                                                   y:y_data})\n",
    "    if step % 300 == 0:\n",
    "        print(\"{}/6000번째 cost:{}, W:{}, b:{}\".format(step + 1,\n",
    "                                                      cost_,\n",
    "                                                      W_val, \n",
    "                                                      b_val))"
   ]
  },
  {
   "cell_type": "code",
   "execution_count": 16,
   "id": "9a43fd70",
   "metadata": {
    "ExecuteTime": {
     "end_time": "2024-12-13T05:36:32.390899Z",
     "start_time": "2024-12-13T05:36:32.377228Z"
    }
   },
   "outputs": [
    {
     "data": {
      "text/plain": [
       "[array([2.0013094], dtype=float32), array([0.9930109], dtype=float32)]"
      ]
     },
     "execution_count": 16,
     "metadata": {},
     "output_type": "execute_result"
    }
   ],
   "source": [
    "# 최종 W, b\n",
    "sess.run([W, b])"
   ]
  },
  {
   "cell_type": "code",
   "execution_count": 17,
   "id": "b4c1bae7",
   "metadata": {
    "ExecuteTime": {
     "end_time": "2024-12-13T05:36:32.407595Z",
     "start_time": "2024-12-13T05:36:32.392894Z"
    }
   },
   "outputs": [
    {
     "data": {
      "text/plain": [
       "array([10.9995575], dtype=float32)"
      ]
     },
     "execution_count": 17,
     "metadata": {},
     "output_type": "execute_result"
    }
   ],
   "source": [
    "# 예측하기\n",
    "sess.run(H, feed_dict = {x:5})"
   ]
  },
  {
   "cell_type": "code",
   "execution_count": 18,
   "id": "b3ea6fc2",
   "metadata": {
    "ExecuteTime": {
     "end_time": "2024-12-13T05:36:32.421557Z",
     "start_time": "2024-12-13T05:36:32.410588Z"
    }
   },
   "outputs": [
    {
     "data": {
      "text/plain": [
       "array([10.9995575, 13.000867 , 15.002176 ], dtype=float32)"
      ]
     },
     "execution_count": 18,
     "metadata": {},
     "output_type": "execute_result"
    }
   ],
   "source": [
    "sess.run(H, feed_dict = {x:np.array([5, 6, 7])})"
   ]
  },
  {
   "cell_type": "markdown",
   "id": "7de97e12",
   "metadata": {},
   "source": [
    "## 2.3 scale이 다른 데이터들의 linear regression 구현(scale 조정 X)"
   ]
  },
  {
   "cell_type": "code",
   "execution_count": 19,
   "id": "58794da1",
   "metadata": {
    "ExecuteTime": {
     "end_time": "2024-12-13T05:36:44.841204Z",
     "start_time": "2024-12-13T05:36:32.425221Z"
    }
   },
   "outputs": [
    {
     "name": "stdout",
     "output_type": "stream",
     "text": [
      "1/6000번째 cost:4408.1328125, W:[-0.590837], b:[1.176464]\n",
      "301/6000번째 cost:79.20587921142578, W:[10.096634], b:[0.23687983]\n",
      "601/6000번째 cost:79.14129638671875, W:[10.149323], b:[-0.1532479]\n",
      "901/6000번째 cost:79.13948822021484, W:[10.158107], b:[-0.21828184]\n",
      "1201/6000번째 cost:79.13945007324219, W:[10.159571], b:[-0.22912295]\n",
      "1501/6000번째 cost:79.13945007324219, W:[10.159815], b:[-0.23093046]\n",
      "1801/6000번째 cost:79.13945770263672, W:[10.159856], b:[-0.23123084]\n",
      "2101/6000번째 cost:79.13945007324219, W:[10.159862], b:[-0.23127861]\n",
      "2401/6000번째 cost:79.13945770263672, W:[10.1598625], b:[-0.23128414]\n",
      "2701/6000번째 cost:79.13945770263672, W:[10.1598625], b:[-0.23128414]\n",
      "3001/6000번째 cost:79.13945770263672, W:[10.1598625], b:[-0.23128414]\n",
      "3301/6000번째 cost:79.13945770263672, W:[10.1598625], b:[-0.23128414]\n",
      "3601/6000번째 cost:79.13945770263672, W:[10.1598625], b:[-0.23128414]\n",
      "3901/6000번째 cost:79.13945770263672, W:[10.1598625], b:[-0.23128414]\n",
      "4201/6000번째 cost:79.13945770263672, W:[10.1598625], b:[-0.23128414]\n",
      "4501/6000번째 cost:79.13945770263672, W:[10.1598625], b:[-0.23128414]\n",
      "4801/6000번째 cost:79.13945770263672, W:[10.1598625], b:[-0.23128414]\n",
      "5101/6000번째 cost:79.13945770263672, W:[10.1598625], b:[-0.23128414]\n",
      "5401/6000번째 cost:79.13945770263672, W:[10.1598625], b:[-0.23128414]\n",
      "5701/6000번째 cost:79.13945770263672, W:[10.1598625], b:[-0.23128414]\n"
     ]
    }
   ],
   "source": [
    "x_data = np.array([1, 2, 5, 8, 10])\n",
    "y_data = np.array([5, 15, 68, 80, 95])\n",
    "\n",
    "# placeholder 설정\n",
    "x = tf.placeholder(dtype = tf.float32)\n",
    "y = tf.placeholder(dtype = tf.float32)\n",
    "\n",
    "# weight & bias\n",
    "W = tf.Variable(tf.random.normal([1]),\n",
    "                name = 'weight')\n",
    "b = tf.Variable(tf.random.normal([1]),\n",
    "                name = 'bias')\n",
    "\n",
    "# Hypothesis\n",
    "H = W*x + b\n",
    "\n",
    "# cost function(loss fucntion; 손실함수)\n",
    "cost = tf.reduce_mean(tf.square(H - y))\n",
    "\n",
    "# 경사하강법\n",
    "optimizer = tf.train.GradientDescentOptimizer(learning_rate = 0.01)\n",
    "train = optimizer.minimize(cost)\n",
    "\n",
    "# Session & Variable 초기화\n",
    "sess = tf.Session()\n",
    "sess.run(tf.global_variables_initializer())\n",
    "\n",
    "# 학습\n",
    "for step in range(1, 6001):\n",
    "    _, cost_val, W_val, b_val = sess.run([train, cost, W, b], feed_dict = {x:x_data,\n",
    "                                                                           y:y_data})\n",
    "    if step % 300 == 1:\n",
    "        print('{}/6000번째 cost:{}, W:{}, b:{}'.format(step,\n",
    "                                                       cost_val,\n",
    "                                                       W_val,\n",
    "                                                       b_val))"
   ]
  },
  {
   "cell_type": "code",
   "execution_count": 20,
   "id": "84d105d1",
   "metadata": {
    "ExecuteTime": {
     "end_time": "2024-12-13T05:36:44.859450Z",
     "start_time": "2024-12-13T05:36:44.841957Z"
    }
   },
   "outputs": [
    {
     "data": {
      "text/plain": [
       "array([50.568027], dtype=float32)"
      ]
     },
     "execution_count": 20,
     "metadata": {},
     "output_type": "execute_result"
    }
   ],
   "source": [
    "# 예측\n",
    "sess.run(H, feed_dict = {x:5})"
   ]
  },
  {
   "cell_type": "code",
   "execution_count": 21,
   "id": "808a1b31",
   "metadata": {
    "ExecuteTime": {
     "end_time": "2024-12-13T05:36:44.866430Z",
     "start_time": "2024-12-13T05:36:44.861443Z"
    }
   },
   "outputs": [],
   "source": [
    "# cost값이 멈춤: local 최솟값"
   ]
  },
  {
   "cell_type": "markdown",
   "id": "1515d366",
   "metadata": {},
   "source": [
    "## 2.4 scale이 다른 데이터들의 linear regression 구현(scale 조정 O)\n",
    "### scale 맞추기: 모든 데이터를 일정 범위 내로 조정\n",
    "- normalization(정규화): 데이터의 최댓값을 1, 최솟값을 0으로 변환\n",
    "```\n",
    "                         x - Xmin\n",
    "    normalization =  ───────────────\n",
    "                       Xmax - Xmin\n",
    "```\n",
    "    * 위의 식을 써도 되지만 라이브러리를 주로 씀(sklearn.preprocessing.MinMaxScaler이용)\n",
    "- standardization(표준화): 데이터의 평균을 0, 표준편차를 1로 조정\n",
    "```\n",
    "                         x - Xmean(평균)\n",
    "    standardization = ────────────────────\n",
    "                          Xstd(표준편차)\n",
    "```\n",
    "   * 위의 식을 써도 되지만 라이브러리를 주로 씀(sklearn.preprocessing.StandardScaler이용)"
   ]
  },
  {
   "cell_type": "code",
   "execution_count": 24,
   "id": "88188636",
   "metadata": {
    "ExecuteTime": {
     "end_time": "2024-12-13T05:37:19.800185Z",
     "start_time": "2024-12-13T05:37:19.794183Z"
    }
   },
   "outputs": [
    {
     "name": "stdout",
     "output_type": "stream",
     "text": [
      "[0.         0.11111111 0.44444444 0.77777778 1.        ]\n",
      "[0.         0.1        0.7        0.83333333 1.        ]\n"
     ]
    }
   ],
   "source": [
    "# 라이브러리를 쓰지 않고 정규화: 예측할 경우 x데이터를 스케일 변환하고, 스케일된 예측값을 변환이 번거로워\n",
    "x_data = np.array([1, 2, 5, 8, 10])\n",
    "y_data = np.array([5, 15, 68, 80, 95])\n",
    "\n",
    "scaled_x_data = (x_data - x_data.min()) / (x_data.max() - x_data.min())\n",
    "scaled_y_data = (y_data - y_data.min()) / (y_data.max() - y_data.min())\n",
    "print(scaled_x_data), \n",
    "print(scaled_y_data)"
   ]
  },
  {
   "cell_type": "code",
   "execution_count": 27,
   "id": "c08a0e34",
   "metadata": {
    "ExecuteTime": {
     "end_time": "2024-12-13T05:38:43.016097Z",
     "start_time": "2024-12-13T05:38:43.009645Z"
    }
   },
   "outputs": [
    {
     "data": {
      "text/plain": [
       "0.4444444444444444"
      ]
     },
     "execution_count": 27,
     "metadata": {},
     "output_type": "execute_result"
    }
   ],
   "source": [
    "x = (5 - x_data.min()) / (x_data.max() - x_data.min())\n",
    "x"
   ]
  },
  {
   "cell_type": "code",
   "execution_count": 29,
   "id": "aec3bf44",
   "metadata": {
    "ExecuteTime": {
     "end_time": "2024-12-13T05:39:42.280547Z",
     "start_time": "2024-12-13T05:39:42.273582Z"
    }
   },
   "outputs": [
    {
     "data": {
      "text/plain": [
       "68.0"
      ]
     },
     "execution_count": 29,
     "metadata": {},
     "output_type": "execute_result"
    }
   ],
   "source": [
    "0.7 * (y_data.max() - y_data.min())+y_data.min()"
   ]
  },
  {
   "cell_type": "code",
   "execution_count": 36,
   "id": "3b2e21a0",
   "metadata": {
    "ExecuteTime": {
     "end_time": "2024-12-13T05:49:25.717106Z",
     "start_time": "2024-12-13T05:49:25.706102Z"
    }
   },
   "outputs": [
    {
     "data": {
      "text/plain": [
       "array([[ 1.        ,  0.        ,  5.        ,  0.        ],\n",
       "       [ 2.        ,  0.11111111, 14.        ,  0.1       ],\n",
       "       [ 5.        ,  0.44444444, 68.        ,  0.7       ],\n",
       "       [ 8.        ,  0.77777778, 80.        ,  0.83333333],\n",
       "       [10.        ,  1.        , 95.        ,  1.        ]])"
      ]
     },
     "execution_count": 36,
     "metadata": {},
     "output_type": "execute_result"
    }
   ],
   "source": [
    "# 라이브러리를 쓰지 않고 정규화\n",
    "x_data = np.array([1, 2, 5, 8, 10]).reshape(-1, 1)\n",
    "y_data = np.array([5, 15, 68, 80, 95]).reshape(-1, 1)\n",
    "\n",
    "from sklearn.preprocessing import MinMaxScaler\n",
    "scaler_x = MinMaxScaler() # x_data를 표준화시킬 객체\n",
    "scaler_x.fit(x_data)\n",
    "scaled_x_data = scaler_x.transform(x_data)\n",
    "\n",
    "scaler_y = MinMaxScaler() # y_data를 표준화시킬 객체\n",
    "scaler_y.fit(y_data)\n",
    "scaled_y_data = scaler_y.transform(y_data)\n",
    "\n",
    "np.column_stack([x_data, scaled_x_data, y_data, scaled_y_data])"
   ]
  },
  {
   "cell_type": "code",
   "execution_count": 39,
   "id": "fdad8f01",
   "metadata": {
    "ExecuteTime": {
     "end_time": "2024-12-13T05:52:39.720625Z",
     "start_time": "2024-12-13T05:52:20.286186Z"
    }
   },
   "outputs": [
    {
     "name": "stdout",
     "output_type": "stream",
     "text": [
      "1/6000번째 cost:0.6505422592163086, W:[0.7183061], b:[-0.60048044]\n",
      "301/6000번째 cost:0.15338514745235443, W:[0.89261144], b:[-0.2653037]\n",
      "601/6000번째 cost:0.042181190103292465, W:[0.9740627], b:[-0.10627314]\n",
      "901/6000번째 cost:0.017298921942710876, W:[1.0116688], b:[-0.03058098]\n",
      "1201/6000번째 cost:0.011724498122930527, W:[1.0285989], b:[0.00566603]\n",
      "1501/6000번째 cost:0.010469479486346245, W:[1.03581], b:[0.02322836]\n",
      "1801/6000번째 cost:0.010181603953242302, W:[1.0384789], b:[0.03192583]\n",
      "2101/6000번째 cost:0.010110976174473763, W:[1.0390487], b:[0.03640451]\n",
      "2401/6000번째 cost:0.010089753195643425, W:[1.038673], b:[0.03886336]\n",
      "2701/6000번째 cost:0.010080283507704735, W:[1.0378939], b:[0.04034399]\n",
      "3001/6000번째 cost:0.010074061341583729, W:[1.0369626], b:[0.04134055]\n",
      "3301/6000번째 cost:0.010069089010357857, W:[1.035997], b:[0.04208881]\n",
      "3601/6000번째 cost:0.010064876638352871, W:[1.035055], b:[0.04270076]\n",
      "3901/6000번째 cost:0.010061236098408699, W:[1.0341524], b:[0.04323026]\n",
      "4201/6000번째 cost:0.010058080777525902, W:[1.0333058], b:[0.04370453]\n",
      "4501/6000번째 cost:0.010055333375930786, W:[1.0325063], b:[0.04413757]\n",
      "4801/6000번째 cost:0.01005294919013977, W:[1.0317631], b:[0.0445371]\n",
      "5101/6000번째 cost:0.010050873272120953, W:[1.0310667], b:[0.04490747]\n",
      "5401/6000번째 cost:0.010049068368971348, W:[1.0304145], b:[0.04525198]\n",
      "5701/6000번째 cost:0.010047497227787971, W:[1.0298095], b:[0.0455728]\n",
      "6001/6000번째 cost:0.010046135634183884, W:[1.0292453], b:[0.04587168]\n",
      "6301/6000번째 cost:0.010044949129223824, W:[1.0287185], b:[0.04615025]\n",
      "6601/6000번째 cost:0.010043921880424023, W:[1.0282266], b:[0.04640996]\n",
      "6901/6000번째 cost:0.010043022222816944, W:[1.027767], b:[0.04665211]\n",
      "7201/6000번째 cost:0.010042238049209118, W:[1.0273378], b:[0.04687774]\n",
      "7501/6000번째 cost:0.01004156842827797, W:[1.0269428], b:[0.04708812]\n",
      "7801/6000번째 cost:0.010040976107120514, W:[1.026573], b:[0.04728451]\n",
      "8101/6000번째 cost:0.0100404629483819, W:[1.0262234], b:[0.04746769]\n",
      "8401/6000번째 cost:0.010040017776191235, W:[1.0259016], b:[0.04763793]\n",
      "8701/6000번째 cost:0.01003962941467762, W:[1.0256026], b:[0.0477973]\n",
      "9001/6000번째 cost:0.010039287619292736, W:[1.0253165], b:[0.04794539]\n",
      "9301/6000번째 cost:0.010038997046649456, W:[1.0250609], b:[0.04808382]\n",
      "9601/6000번째 cost:0.010038739070296288, W:[1.0248106], b:[0.04821254]\n",
      "9901/6000번째 cost:0.010038523934781551, W:[1.0245893], b:[0.04833308]\n"
     ]
    }
   ],
   "source": [
    "# placeholder 설정\n",
    "x = tf.placeholder(dtype = tf.float32)\n",
    "y = tf.placeholder(dtype = tf.float32)\n",
    "\n",
    "# weight & bias\n",
    "W = tf.Variable(tf.random.normal([1]),\n",
    "                name = 'weight')\n",
    "b = tf.Variable(tf.random.normal([1]),\n",
    "                name = 'bias')\n",
    "\n",
    "# Hypothesis\n",
    "H = W*x + b\n",
    "\n",
    "# cost function(loss fucntion; 손실함수)\n",
    "cost = tf.reduce_mean(tf.square(H - y))\n",
    "\n",
    "# 경사하강법\n",
    "optimizer = tf.train.GradientDescentOptimizer(learning_rate = 0.001)\n",
    "train = optimizer.minimize(cost)\n",
    "\n",
    "# Session & Variable 초기화\n",
    "sess = tf.Session()\n",
    "sess.run(tf.global_variables_initializer())\n",
    "\n",
    "# 학습\n",
    "for step in range(1, 10001):\n",
    "    _, cost_val, W_val, b_val = sess.run([train, cost, W, b], feed_dict = {x:scaled_x_data,\n",
    "                                                                           y:scaled_y_data})\n",
    "    if step % 300 == 1:\n",
    "        print('{}/6000번째 cost:{}, W:{}, b:{}'.format(step,\n",
    "                                                       cost_val,\n",
    "                                                       W_val,\n",
    "                                                       b_val))"
   ]
  },
  {
   "cell_type": "code",
   "execution_count": 40,
   "id": "32956bde",
   "metadata": {
    "ExecuteTime": {
     "end_time": "2024-12-13T05:58:56.606261Z",
     "start_time": "2024-12-13T05:58:56.585360Z"
    }
   },
   "outputs": [
    {
     "name": "stdout",
     "output_type": "stream",
     "text": [
      "2를 스케일 조정된 값: [[0.11111111]]\n",
      "예측값: [[19.598568]]\n"
     ]
    }
   ],
   "source": [
    "# 예측\n",
    "scaled_input = scaler_x.transform(np.array([[2]]))\n",
    "print(\"2를 스케일 조정된 값:\", scaled_input)\n",
    "scaled_output = sess.run(H, feed_dict = {x:scaled_input})\n",
    "print('예측값:', scaler_y.inverse_transform(scaled_output))"
   ]
  },
  {
   "cell_type": "code",
   "execution_count": 47,
   "id": "16f18cd4",
   "metadata": {
    "ExecuteTime": {
     "end_time": "2024-12-13T06:16:20.970236Z",
     "start_time": "2024-12-13T06:16:20.946774Z"
    }
   },
   "outputs": [
    {
     "data": {
      "text/plain": [
       "array([[  5.        ,   9.35339069],\n",
       "       [ 14.        ,  19.59856796],\n",
       "       [ 68.        ,  50.33410263],\n",
       "       [ 80.        ,  81.06964111],\n",
       "       [ 95.        , 101.55998993]])"
      ]
     },
     "execution_count": 47,
     "metadata": {},
     "output_type": "execute_result"
    }
   ],
   "source": [
    "# x_data들의 예측값\n",
    "scaled_y_hat = sess.run(H, feed_dict = {x:scaled_x_data})\n",
    "y_hat = scaler_y.inverse_transform(scaled_y_hat)\n",
    "y_hat\n",
    "np.column_stack([y_data, y_hat])"
   ]
  },
  {
   "cell_type": "code",
   "execution_count": 50,
   "id": "3eaa2a6c",
   "metadata": {
    "ExecuteTime": {
     "end_time": "2024-12-13T06:18:57.672356Z",
     "start_time": "2024-12-13T06:18:57.505978Z"
    }
   },
   "outputs": [
    {
     "data": {
      "image/png": "[encoded data removed]",
      "text/plain": [
       "<Figure size 640x480 with 1 Axes>"
      ]
     },
     "metadata": {},
     "output_type": "display_data"
    }
   ],
   "source": [
    "import matplotlib.pyplot as plt\n",
    "plt.plot(x_data, y_data)\n",
    "plt.plot(x_data, y_hat)\n",
    "plt.show()"
   ]
  },
  {
   "cell_type": "code",
   "execution_count": 63,
   "id": "ac72ff44",
   "metadata": {
    "ExecuteTime": {
     "end_time": "2024-12-13T06:28:04.186278Z",
     "start_time": "2024-12-13T06:28:04.179308Z"
    }
   },
   "outputs": [
    {
     "data": {
      "text/plain": [
       "(array([[ 1],\n",
       "        [ 2],\n",
       "        [ 5],\n",
       "        [ 8],\n",
       "        [10]]),\n",
       " array([ 1,  2,  5,  8, 10]),\n",
       " array([ 1,  2,  5,  8, 10]),\n",
       " array([ 1,  2,  5,  8, 10]))"
      ]
     },
     "execution_count": 63,
     "metadata": {},
     "output_type": "execute_result"
    }
   ],
   "source": [
    "x_data, x_data.ravel(), x_data[:, 0], x_data.flatten()"
   ]
  },
  {
   "cell_type": "code",
   "execution_count": 61,
   "id": "8ec133f3",
   "metadata": {
    "ExecuteTime": {
     "end_time": "2024-12-13T06:24:28.661550Z",
     "start_time": "2024-12-13T06:24:28.394108Z"
    }
   },
   "outputs": [
    {
     "data": {
      "image/png": "[encoded data removed]",
      "text/plain": [
       "<Figure size 640x480 with 1 Axes>"
      ]
     },
     "metadata": {},
     "output_type": "display_data"
    }
   ],
   "source": [
    "import seaborn as sns\n",
    "import pandas as pd\n",
    "df = pd.DataFrame({'x':x_data[:, 0],\n",
    "                   'y':y_data.ravel()})\n",
    "sns.regplot(data = df,\n",
    "            x = 'x', \n",
    "            y = 'y')\n",
    "plt.show()"
   ]
  },
  {
   "cell_type": "code",
   "execution_count": 67,
   "id": "6cd20f6b",
   "metadata": {
    "ExecuteTime": {
     "end_time": "2024-12-13T06:37:52.553346Z",
     "start_time": "2024-12-13T06:37:52.545053Z"
    }
   },
   "outputs": [
    {
     "name": "stdout",
     "output_type": "stream",
     "text": [
      "[-1.22474487 -0.93313895 -0.05832118  0.81649658  1.39970842] [-1.31049277 -1.06166503  0.43130142  0.76307174  1.17778464]\n"
     ]
    }
   ],
   "source": [
    "# 라이브러리를 쓰지 않고 표준화\n",
    "x_data = np.array([1, 2, 5, 8, 10])\n",
    "y_data = np.array([5, 15, 68, 80, 95])\n",
    "scaled_x_data = (x_data - x_data.mean()) / x_data.std()\n",
    "scaled_y_data = (y_data - y_data.mean()) / y_data.std()\n",
    "print(scaled_x_data, scaled_y_data)"
   ]
  },
  {
   "cell_type": "code",
   "execution_count": 88,
   "id": "1fd63aae",
   "metadata": {
    "ExecuteTime": {
     "end_time": "2024-12-13T07:06:53.942378Z",
     "start_time": "2024-12-13T07:06:53.931417Z"
    }
   },
   "outputs": [
    {
     "name": "stdout",
     "output_type": "stream",
     "text": [
      "[[ 1.         -1.22474487]\n",
      " [ 2.         -0.93313895]\n",
      " [ 5.         -0.05832118]\n",
      " [ 8.          0.81649658]\n",
      " [10.          1.39970842]]\n",
      "[[ 5.         -1.32373476]\n",
      " [15.         -1.04563922]\n",
      " [68.          0.42826713]\n",
      " [80.          0.76198177]\n",
      " [95.          1.17912508]]\n"
     ]
    }
   ],
   "source": [
    "# 라이브러리를 써서 표준화\n",
    "x_data = np.array([1, 2, 5, 8, 10]).reshape(-1, 1)\n",
    "y_data = np.array([5, 15, 68, 80, 95]).reshape(-1, 1)\n",
    "\n",
    "from sklearn.preprocessing import StandardScaler\n",
    "scaler_x = StandardScaler() # x_data를 표준화할 객체\n",
    "scaler_x.fit(x_data)\n",
    "scaled_x_data = scaler_x.transform(x_data)\n",
    "scaler_y = StandardScaler() # y_data를 표준화할 객체\n",
    "scaler_y.fit(y_data)\n",
    "scaled_y_data = scaler_y.transform(y_data)\n",
    "\n",
    "print(np.column_stack([x_data, scaled_x_data]))\n",
    "print(np.column_stack([y_data, scaled_y_data]))"
   ]
  },
  {
   "cell_type": "code",
   "execution_count": 89,
   "id": "7299cc89",
   "metadata": {
    "ExecuteTime": {
     "end_time": "2024-12-13T07:07:24.329185Z",
     "start_time": "2024-12-13T07:07:04.986002Z"
    }
   },
   "outputs": [
    {
     "name": "stdout",
     "output_type": "stream",
     "text": [
      "1/6000번째 cost:2.6605920791625977, W:[0.19951056], b:[1.4168292]\n",
      "1001/6000번째 cost:0.10862330347299576, W:[0.8649956], b:[0.19136333]\n",
      "2001/6000번째 cost:0.06206921488046646, W:[0.95487875], b:[0.02584639]\n",
      "3001/6000번째 cost:0.0612199604511261, W:[0.96701896], b:[0.00349093]\n",
      "4001/6000번째 cost:0.0612044632434845, W:[0.96865875], b:[0.0004715]\n",
      "5001/6000번째 cost:0.061204176396131516, W:[0.96887827], b:[6.3683685e-05]\n",
      "6001/6000번째 cost:0.06120417267084122, W:[0.9688999], b:[8.607878e-06]\n",
      "7001/6000번째 cost:0.06120418384671211, W:[0.9688999], b:[1.1696594e-06]\n",
      "8001/6000번째 cost:0.06120417267084122, W:[0.9688999], b:[1.6552718e-07]\n",
      "9001/6000번째 cost:0.061204176396131516, W:[0.9688999], b:[4.1249795e-08]\n"
     ]
    }
   ],
   "source": [
    "# placeholder 설정\n",
    "x = tf.placeholder(dtype = tf.float32)\n",
    "y = tf.placeholder(dtype = tf.float32)\n",
    "\n",
    "# weight & bias\n",
    "W = tf.Variable(tf.random.normal([1]),\n",
    "                name = 'weight')\n",
    "b = tf.Variable(tf.random.normal([1]),\n",
    "                name = 'bias')\n",
    "\n",
    "# Hypothesis\n",
    "H = W*x + b\n",
    "\n",
    "# cost function(loss fucntion; 손실함수)\n",
    "cost = tf.reduce_mean(tf.square(H - y))\n",
    "\n",
    "# 경사하강법\n",
    "optimizer = tf.train.GradientDescentOptimizer(learning_rate = 0.001)\n",
    "train = optimizer.minimize(cost)\n",
    "\n",
    "# Session & Variable 초기화\n",
    "sess = tf.Session()\n",
    "sess.run(tf.global_variables_initializer())\n",
    "\n",
    "# 학습\n",
    "for step in range(1, 10001):\n",
    "    _, cost_val, W_val, b_val = sess.run([train, cost, W, b], feed_dict = {x:scaled_x_data,\n",
    "                                                                           y:scaled_y_data})\n",
    "    if step % 1000 == 1:\n",
    "        print('{}/6000번째 cost:{}, W:{}, b:{}'.format(step,\n",
    "                                                       cost_val,\n",
    "                                                       W_val,\n",
    "                                                       b_val))"
   ]
  },
  {
   "cell_type": "markdown",
   "id": "d2e435a0",
   "metadata": {},
   "source": [
    "## 2.5 독립변수 x가 여러개인 linear Regression"
   ]
  },
  {
   "cell_type": "code",
   "execution_count": null,
   "id": "d14fd2de",
   "metadata": {},
   "outputs": [],
   "source": []
  },
  {
   "cell_type": "code",
   "execution_count": 93,
   "id": "e9903f86",
   "metadata": {
    "ExecuteTime": {
     "end_time": "2024-12-13T08:43:13.686562Z",
     "start_time": "2024-12-13T08:43:13.090426Z"
    }
   },
   "outputs": [],
   "source": []
  },
  {
   "cell_type": "code",
   "execution_count": null,
   "id": "5925fcdd",
   "metadata": {},
   "outputs": [],
   "source": []
  },
  {
   "cell_type": "code",
   "execution_count": null,
   "id": "ae202ba9",
   "metadata": {},
   "outputs": [],
   "source": []
  },
  {
   "cell_type": "markdown",
   "id": "9733b2e4",
   "metadata": {},
   "source": [
    "## csv를 array로 읽어오기"
   ]
  },
  {
   "cell_type": "code",
   "execution_count": 99,
   "id": "9f9b2e73",
   "metadata": {
    "ExecuteTime": {
     "end_time": "2024-12-13T08:53:59.408311Z",
     "start_time": "2024-12-13T08:53:59.396213Z"
    }
   },
   "outputs": [
    {
     "data": {
      "text/plain": [
       "((111, 3), (111,))"
      ]
     },
     "execution_count": 99,
     "metadata": {},
     "output_type": "execute_result"
    }
   ],
   "source": [
    "# sol 1\n",
    "# 1. csv를 dataFrame 읽어와\n",
    "data = pd.read_csv('data/ozone.csv')\n",
    "# 2. 결측치 대체 or 삭제\n",
    "# data.fillna(value = data.mean(), inplace = True)\n",
    "data.dropna(how = 'any', axis = 0, inplace = True)\n",
    "X = data[['Solar.R', 'Wind', 'Temp']].values\n",
    "y = data['Ozone'].values\n",
    "X.shape, y.shape"
   ]
  },
  {
   "cell_type": "code",
   "execution_count": 103,
   "id": "3990d28f",
   "metadata": {
    "ExecuteTime": {
     "end_time": "2024-12-13T08:57:48.012489Z",
     "start_time": "2024-12-13T08:57:47.995778Z"
    }
   },
   "outputs": [
    {
     "data": {
      "text/plain": [
       "array([[ 41. , 190. ,   7.4,  67. ,   5. ,   1. ],\n",
       "       [ 36. , 118. ,   8. ,  72. ,   5. ,   2. ],\n",
       "       [ 12. , 149. ,  12.6,  74. ,   5. ,   3. ],\n",
       "       [ 18. , 313. ,  11.5,  62. ,   5. ,   4. ],\n",
       "       [  nan,   nan,  14.3,  56. ,   5. ,   5. ],\n",
       "       [ 28. ,   nan,  14.9,  66. ,   5. ,   6. ],\n",
       "       [ 23. , 299. ,   8.6,  65. ,   5. ,   7. ],\n",
       "       [ 19. ,  99. ,  13.8,  59. ,   5. ,   8. ],\n",
       "       [  8. ,  19. ,  20.1,  61. ,   5. ,   9. ],\n",
       "       [  nan, 194. ,   8.6,  69. ,   5. ,  10. ],\n",
       "       [  7. ,   nan,   6.9,  74. ,   5. ,  11. ],\n",
       "       [ 16. , 256. ,   9.7,  69. ,   5. ,  12. ],\n",
       "       [ 11. , 290. ,   9.2,  66. ,   5. ,  13. ],\n",
       "       [ 14. , 274. ,  10.9,  68. ,   5. ,  14. ],\n",
       "       [ 18. ,  65. ,  13.2,  58. ,   5. ,  15. ],\n",
       "       [ 14. , 334. ,  11.5,  64. ,   5. ,  16. ],\n",
       "       [ 34. , 307. ,  12. ,  66. ,   5. ,  17. ],\n",
       "       [  6. ,  78. ,  18.4,  57. ,   5. ,  18. ],\n",
       "       [ 30. , 322. ,  11.5,  68. ,   5. ,  19. ],\n",
       "       [ 11. ,  44. ,   9.7,  62. ,   5. ,  20. ],\n",
       "       [  1. ,   8. ,   9.7,  59. ,   5. ,  21. ],\n",
       "       [ 11. , 320. ,  16.6,  73. ,   5. ,  22. ],\n",
       "       [  4. ,  25. ,   9.7,  61. ,   5. ,  23. ],\n",
       "       [ 32. ,  92. ,  12. ,  61. ,   5. ,  24. ],\n",
       "       [  nan,  66. ,  16.6,  57. ,   5. ,  25. ],\n",
       "       [  nan, 266. ,  14.9,  58. ,   5. ,  26. ],\n",
       "       [  nan,   nan,   8. ,  57. ,   5. ,  27. ],\n",
       "       [ 23. ,  13. ,  12. ,  67. ,   5. ,  28. ],\n",
       "       [ 45. , 252. ,  14.9,  81. ,   5. ,  29. ],\n",
       "       [115. , 223. ,   5.7,  79. ,   5. ,  30. ],\n",
       "       [ 37. , 279. ,   7.4,  76. ,   5. ,  31. ],\n",
       "       [  nan, 286. ,   8.6,  78. ,   6. ,   1. ],\n",
       "       [  nan, 287. ,   9.7,  74. ,   6. ,   2. ],\n",
       "       [  nan, 242. ,  16.1,  67. ,   6. ,   3. ],\n",
       "       [  nan, 186. ,   9.2,  84. ,   6. ,   4. ],\n",
       "       [  nan, 220. ,   8.6,  85. ,   6. ,   5. ],\n",
       "       [  nan, 264. ,  14.3,  79. ,   6. ,   6. ],\n",
       "       [ 29. , 127. ,   9.7,  82. ,   6. ,   7. ],\n",
       "       [  nan, 273. ,   6.9,  87. ,   6. ,   8. ],\n",
       "       [ 71. , 291. ,  13.8,  90. ,   6. ,   9. ],\n",
       "       [ 39. , 323. ,  11.5,  87. ,   6. ,  10. ],\n",
       "       [  nan, 259. ,  10.9,  93. ,   6. ,  11. ],\n",
       "       [  nan, 250. ,   9.2,  92. ,   6. ,  12. ],\n",
       "       [ 23. , 148. ,   8. ,  82. ,   6. ,  13. ],\n",
       "       [  nan, 332. ,  13.8,  80. ,   6. ,  14. ],\n",
       "       [  nan, 322. ,  11.5,  79. ,   6. ,  15. ],\n",
       "       [ 21. , 191. ,  14.9,  77. ,   6. ,  16. ],\n",
       "       [ 37. , 284. ,  20.7,  72. ,   6. ,  17. ],\n",
       "       [ 20. ,  37. ,   9.2,  65. ,   6. ,  18. ],\n",
       "       [ 12. , 120. ,  11.5,  73. ,   6. ,  19. ],\n",
       "       [ 13. , 137. ,  10.3,  76. ,   6. ,  20. ],\n",
       "       [  nan, 150. ,   6.3,  77. ,   6. ,  21. ],\n",
       "       [  nan,  59. ,   1.7,  76. ,   6. ,  22. ],\n",
       "       [  nan,  91. ,   4.6,  76. ,   6. ,  23. ],\n",
       "       [  nan, 250. ,   6.3,  76. ,   6. ,  24. ],\n",
       "       [  nan, 135. ,   8. ,  75. ,   6. ,  25. ],\n",
       "       [  nan, 127. ,   8. ,  78. ,   6. ,  26. ],\n",
       "       [  nan,  47. ,  10.3,  73. ,   6. ,  27. ],\n",
       "       [  nan,  98. ,  11.5,  80. ,   6. ,  28. ],\n",
       "       [  nan,  31. ,  14.9,  77. ,   6. ,  29. ],\n",
       "       [  nan, 138. ,   8. ,  83. ,   6. ,  30. ],\n",
       "       [135. , 269. ,   4.1,  84. ,   7. ,   1. ],\n",
       "       [ 49. , 248. ,   9.2,  85. ,   7. ,   2. ],\n",
       "       [ 32. , 236. ,   9.2,  81. ,   7. ,   3. ],\n",
       "       [  nan, 101. ,  10.9,  84. ,   7. ,   4. ],\n",
       "       [ 64. , 175. ,   4.6,  83. ,   7. ,   5. ],\n",
       "       [ 40. , 314. ,  10.9,  83. ,   7. ,   6. ],\n",
       "       [ 77. , 276. ,   5.1,  88. ,   7. ,   7. ],\n",
       "       [ 97. , 267. ,   6.3,  92. ,   7. ,   8. ],\n",
       "       [ 97. , 272. ,   5.7,  92. ,   7. ,   9. ],\n",
       "       [ 85. , 175. ,   7.4,  89. ,   7. ,  10. ],\n",
       "       [  nan, 139. ,   8.6,  82. ,   7. ,  11. ],\n",
       "       [ 10. , 264. ,  14.3,  73. ,   7. ,  12. ],\n",
       "       [ 27. , 175. ,  14.9,  81. ,   7. ,  13. ],\n",
       "       [  nan, 291. ,  14.9,  91. ,   7. ,  14. ],\n",
       "       [  7. ,  48. ,  14.3,  80. ,   7. ,  15. ],\n",
       "       [ 48. , 260. ,   6.9,  81. ,   7. ,  16. ],\n",
       "       [ 35. , 274. ,  10.3,  82. ,   7. ,  17. ],\n",
       "       [ 61. , 285. ,   6.3,  84. ,   7. ,  18. ],\n",
       "       [ 79. , 187. ,   5.1,  87. ,   7. ,  19. ],\n",
       "       [ 63. , 220. ,  11.5,  85. ,   7. ,  20. ],\n",
       "       [ 16. ,   7. ,   6.9,  74. ,   7. ,  21. ],\n",
       "       [  nan, 258. ,   9.7,  81. ,   7. ,  22. ],\n",
       "       [  nan, 295. ,  11.5,  82. ,   7. ,  23. ],\n",
       "       [ 80. , 294. ,   8.6,  86. ,   7. ,  24. ],\n",
       "       [108. , 223. ,   8. ,  85. ,   7. ,  25. ],\n",
       "       [ 20. ,  81. ,   8.6,  82. ,   7. ,  26. ],\n",
       "       [ 52. ,  82. ,  12. ,  86. ,   7. ,  27. ],\n",
       "       [ 82. , 213. ,   7.4,  88. ,   7. ,  28. ],\n",
       "       [ 50. , 275. ,   7.4,  86. ,   7. ,  29. ],\n",
       "       [ 64. , 253. ,   7.4,  83. ,   7. ,  30. ],\n",
       "       [ 59. , 254. ,   9.2,  81. ,   7. ,  31. ],\n",
       "       [ 39. ,  83. ,   6.9,  81. ,   8. ,   1. ],\n",
       "       [  9. ,  24. ,  13.8,  81. ,   8. ,   2. ],\n",
       "       [ 16. ,  77. ,   7.4,  82. ,   8. ,   3. ],\n",
       "       [ 78. ,   nan,   6.9,  86. ,   8. ,   4. ],\n",
       "       [ 35. ,   nan,   7.4,  85. ,   8. ,   5. ],\n",
       "       [ 66. ,   nan,   4.6,  87. ,   8. ,   6. ],\n",
       "       [122. , 255. ,   4. ,  89. ,   8. ,   7. ],\n",
       "       [ 89. , 229. ,  10.3,  90. ,   8. ,   8. ],\n",
       "       [110. , 207. ,   8. ,  90. ,   8. ,   9. ],\n",
       "       [  nan, 222. ,   8.6,  92. ,   8. ,  10. ],\n",
       "       [  nan, 137. ,  11.5,  86. ,   8. ,  11. ],\n",
       "       [ 44. , 192. ,  11.5,  86. ,   8. ,  12. ],\n",
       "       [ 28. , 273. ,  11.5,  82. ,   8. ,  13. ],\n",
       "       [ 65. , 157. ,   9.7,  80. ,   8. ,  14. ],\n",
       "       [  nan,  64. ,  11.5,  79. ,   8. ,  15. ],\n",
       "       [ 22. ,  71. ,  10.3,  77. ,   8. ,  16. ],\n",
       "       [ 59. ,  51. ,   6.3,  79. ,   8. ,  17. ],\n",
       "       [ 23. , 115. ,   7.4,  76. ,   8. ,  18. ],\n",
       "       [ 31. , 244. ,  10.9,  78. ,   8. ,  19. ],\n",
       "       [ 44. , 190. ,  10.3,  78. ,   8. ,  20. ],\n",
       "       [ 21. , 259. ,  15.5,  77. ,   8. ,  21. ],\n",
       "       [  9. ,  36. ,  14.3,  72. ,   8. ,  22. ],\n",
       "       [  nan, 255. ,  12.6,  75. ,   8. ,  23. ],\n",
       "       [ 45. , 212. ,   9.7,  79. ,   8. ,  24. ],\n",
       "       [168. , 238. ,   3.4,  81. ,   8. ,  25. ],\n",
       "       [ 73. , 215. ,   8. ,  86. ,   8. ,  26. ],\n",
       "       [  nan, 153. ,   5.7,  88. ,   8. ,  27. ],\n",
       "       [ 76. , 203. ,   9.7,  97. ,   8. ,  28. ],\n",
       "       [118. , 225. ,   2.3,  94. ,   8. ,  29. ],\n",
       "       [ 84. , 237. ,   6.3,  96. ,   8. ,  30. ],\n",
       "       [ 85. , 188. ,   6.3,  94. ,   8. ,  31. ],\n",
       "       [ 96. , 167. ,   6.9,  91. ,   9. ,   1. ],\n",
       "       [ 78. , 197. ,   5.1,  92. ,   9. ,   2. ],\n",
       "       [ 73. , 183. ,   2.8,  93. ,   9. ,   3. ],\n",
       "       [ 91. , 189. ,   4.6,  93. ,   9. ,   4. ],\n",
       "       [ 47. ,  95. ,   7.4,  87. ,   9. ,   5. ],\n",
       "       [ 32. ,  92. ,  15.5,  84. ,   9. ,   6. ],\n",
       "       [ 20. , 252. ,  10.9,  80. ,   9. ,   7. ],\n",
       "       [ 23. , 220. ,  10.3,  78. ,   9. ,   8. ],\n",
       "       [ 21. , 230. ,  10.9,  75. ,   9. ,   9. ],\n",
       "       [ 24. , 259. ,   9.7,  73. ,   9. ,  10. ],\n",
       "       [ 44. , 236. ,  14.9,  81. ,   9. ,  11. ],\n",
       "       [ 21. , 259. ,  15.5,  76. ,   9. ,  12. ],\n",
       "       [ 28. , 238. ,   6.3,  77. ,   9. ,  13. ],\n",
       "       [  9. ,  24. ,  10.9,  71. ,   9. ,  14. ],\n",
       "       [ 13. , 112. ,  11.5,  71. ,   9. ,  15. ],\n",
       "       [ 46. , 237. ,   6.9,  78. ,   9. ,  16. ],\n",
       "       [ 18. , 224. ,  13.8,  67. ,   9. ,  17. ],\n",
       "       [ 13. ,  27. ,  10.3,  76. ,   9. ,  18. ],\n",
       "       [ 24. , 238. ,  10.3,  68. ,   9. ,  19. ],\n",
       "       [ 16. , 201. ,   8. ,  82. ,   9. ,  20. ],\n",
       "       [ 13. , 238. ,  12.6,  64. ,   9. ,  21. ],\n",
       "       [ 23. ,  14. ,   9.2,  71. ,   9. ,  22. ],\n",
       "       [ 36. , 139. ,  10.3,  81. ,   9. ,  23. ],\n",
       "       [  7. ,  49. ,  10.3,  69. ,   9. ,  24. ],\n",
       "       [ 14. ,  20. ,  16.6,  63. ,   9. ,  25. ],\n",
       "       [ 30. , 193. ,   6.9,  70. ,   9. ,  26. ],\n",
       "       [  nan, 145. ,  13.2,  77. ,   9. ,  27. ],\n",
       "       [ 14. , 191. ,  14.3,  75. ,   9. ,  28. ],\n",
       "       [ 18. , 131. ,   8. ,  76. ,   9. ,  29. ],\n",
       "       [ 20. , 223. ,  11.5,  68. ,   9. ,  30. ]])"
      ]
     },
     "execution_count": 103,
     "metadata": {},
     "output_type": "execute_result"
    }
   ],
   "source": [
    "# sol 2\n",
    "# data = np.loadtxt('data/ozone_nonan.csv', delimiter = ',') # NAN 없어야 함\n",
    "data = np.genfromtxt('data/ozone.csv', \n",
    "                     delimiter = ',',\n",
    "                     skip_header = 1,\n",
    "                     missing_values = 'NA',\n",
    "                     filling_values = np.nan)\n",
    "data"
   ]
  },
  {
   "cell_type": "code",
   "execution_count": null,
   "id": "18dfa8a4",
   "metadata": {},
   "outputs": [],
   "source": []
  },
  {
   "cell_type": "code",
   "execution_count": null,
   "id": "6df87672",
   "metadata": {},
   "outputs": [],
   "source": []
  }
 ],
 "metadata": {
  "kernelspec": {
   "display_name": "Python 3 (ipykernel)",
   "language": "python",
   "name": "python3"
  },
  "language_info": {
   "codemirror_mode": {
    "name": "ipython",
    "version": 3
   },
   "file_extension": ".py",
   "mimetype": "text/x-python",
   "name": "python",
   "nbconvert_exporter": "python",
   "pygments_lexer": "ipython3",
   "version": "3.10.9"
  },
  "toc": {
   "base_numbering": 1,
   "nav_menu": {},
   "number_sections": true,
   "sideBar": true,
   "skip_h1_title": false,
   "title_cell": "Table of Contents",
   "title_sidebar": "Contents",
   "toc_cell": false,
   "toc_position": {
    "height": "calc(100% - 180px)",
    "left": "10px",
    "top": "150px",
    "width": "165px"
   },
   "toc_section_display": true,
   "toc_window_display": true
  }
 },
 "nbformat": 4,
 "nbformat_minor": 5
}
