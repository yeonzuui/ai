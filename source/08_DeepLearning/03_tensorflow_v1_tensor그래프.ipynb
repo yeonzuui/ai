{
 "cells": [
  {
   "cell_type": "markdown",
   "id": "f58729bf",
   "metadata": {},
   "source": [
    "# 1. tensorflow v2.xx에서 v1사용하기"
   ]
  },
  {
   "cell_type": "code",
   "execution_count": 40,
   "id": "5c40861f",
   "metadata": {
    "ExecuteTime": {
     "end_time": "2024-12-16T01:52:19.487670Z",
     "start_time": "2024-12-16T01:52:19.473477Z"
    }
   },
   "outputs": [],
   "source": [
    "import tensorflow.compat.v1 as tf\n",
    "tf.disable_v2_behavior() # v2 비활성화하고 v1을 활성화\n",
    "import numpy as np\n",
    "import pandas as pd"
   ]
  },
  {
   "cell_type": "markdown",
   "id": "40c6192e",
   "metadata": {},
   "source": [
    "## Tensorflow\n",
    "- 그래프 정의 (tensor 객체의 흐름)\n",
    "- sess = tf.Session()을 실행\n",
    "- sess.run()을 통해 변수값을 확인할 수 있음"
   ]
  },
  {
   "cell_type": "code",
   "execution_count": 2,
   "id": "9b6cdc25",
   "metadata": {
    "ExecuteTime": {
     "end_time": "2024-12-16T01:46:03.380403Z",
     "start_time": "2024-12-16T01:46:02.601597Z"
    }
   },
   "outputs": [
    {
     "name": "stdout",
     "output_type": "stream",
     "text": [
      "b'Hello, Tensorflow'\n",
      "Hello, Tensorflow\n"
     ]
    }
   ],
   "source": [
    "# tensor = data(상수, 변수)와 연산\n",
    "node1 = tf.constant('Hello, Tensorflow')\n",
    "sess = tf.Session()\n",
    "print(sess.run(node1))\n",
    "print(sess.run(node1).decode())"
   ]
  },
  {
   "cell_type": "code",
   "execution_count": 3,
   "id": "ebcb61af",
   "metadata": {
    "ExecuteTime": {
     "end_time": "2024-12-16T01:46:03.496285Z",
     "start_time": "2024-12-16T01:46:03.383394Z"
    }
   },
   "outputs": [
    {
     "name": "stdout",
     "output_type": "stream",
     "text": [
      "[10.0, 20.0, 30.0]\n"
     ]
    }
   ],
   "source": [
    "# 간단한 수학 연산 tensor 그래프\n",
    "node1 = tf.constant(10, \n",
    "                    dtype = tf.float16)\n",
    "node2 = tf.constant(20,\n",
    "                    dtype = tf.float16)\n",
    "node3 = tf.add(node1, node2)\n",
    "\n",
    "sess = tf.Session() # 활성화\n",
    "print(sess.run([node1, node2, node3]))"
   ]
  },
  {
   "cell_type": "code",
   "execution_count": 4,
   "id": "1906f738",
   "metadata": {
    "ExecuteTime": {
     "end_time": "2024-12-16T01:46:03.534856Z",
     "start_time": "2024-12-16T01:46:03.499329Z"
    }
   },
   "outputs": [
    {
     "name": "stdout",
     "output_type": "stream",
     "text": [
      "[array([1, 2, 3], dtype=int16), array([1., 2., 3.], dtype=float32)]\n"
     ]
    }
   ],
   "source": [
    "# 타입 변경\n",
    "import numpy as np\n",
    "node1 = tf.constant(np.array([1, 2, 3]),\n",
    "                    dtype = tf.int16)\n",
    "node2 = tf.cast(node1, dtype = tf.float32) # 형변환\n",
    "sess = tf.Session()\n",
    "print(sess.run([node1, node2]))"
   ]
  },
  {
   "cell_type": "code",
   "execution_count": 5,
   "id": "ffe58a6e",
   "metadata": {
    "ExecuteTime": {
     "end_time": "2024-12-16T01:46:03.572580Z",
     "start_time": "2024-12-16T01:46:03.534856Z"
    }
   },
   "outputs": [
    {
     "data": {
      "text/plain": [
       "2.5"
      ]
     },
     "execution_count": 5,
     "metadata": {},
     "output_type": "execute_result"
    }
   ],
   "source": [
    "# 평균값 계산: tf.reduce_mean()\n",
    "data = np.array([1., 2., 3., 4.])\n",
    "m = tf.reduce_mean(data) # 실수\n",
    "sess = tf.Session()\n",
    "sess.run(m)"
   ]
  },
  {
   "cell_type": "code",
   "execution_count": 6,
   "id": "81e33eef",
   "metadata": {
    "ExecuteTime": {
     "end_time": "2024-12-16T01:46:05.062252Z",
     "start_time": "2024-12-16T01:46:03.575574Z"
    }
   },
   "outputs": [
    {
     "data": {
      "image/png": "[encoded data removed]",
      "text/plain": [
       "<Figure size 640x480 with 1 Axes>"
      ]
     },
     "metadata": {},
     "output_type": "display_data"
    }
   ],
   "source": [
    "# tf.random_normal([size]): 평균 0, 표준편차 1인 난수 size개 발생. \n",
    "# 난수개수: 독립변수개수\n",
    "import matplotlib.pyplot as plt\n",
    "tensor = tf.random_normal([1000]) # 평균 0, 표준편차 1인 난수 2개 (정규분포)\n",
    "sess = tf.Session()\n",
    "plt.hist(sess.run(tensor))\n",
    "plt.show()"
   ]
  },
  {
   "cell_type": "markdown",
   "id": "1b9562d0",
   "metadata": {},
   "source": [
    "# 2. tensorflow v1을 이용한 linear regression을 구현\n",
    "## 2.1 독립변수 x가 1개, 종속변수 y가 1개"
   ]
  },
  {
   "cell_type": "code",
   "execution_count": 7,
   "id": "8d9dc0db",
   "metadata": {
    "ExecuteTime": {
     "end_time": "2024-12-16T01:46:10.212703Z",
     "start_time": "2024-12-16T01:46:05.066690Z"
    }
   },
   "outputs": [
    {
     "name": "stdout",
     "output_type": "stream",
     "text": [
      "300번째 cost:1.5337685566052528e-09, W:[0.9999546], b:[0.00010332]\n",
      "600번째 cost:1.5000347020283425e-14, W:[0.9999998], b:[3.377597e-07]\n",
      "900번째 cost:1.5000347020283425e-14, W:[0.9999998], b:[3.377597e-07]\n",
      "1200번째 cost:1.5000347020283425e-14, W:[0.9999998], b:[3.377597e-07]\n",
      "1500번째 cost:1.5000347020283425e-14, W:[0.9999998], b:[3.377597e-07]\n",
      "1800번째 cost:1.5000347020283425e-14, W:[0.9999998], b:[3.377597e-07]\n",
      "2100번째 cost:1.5000347020283425e-14, W:[0.9999998], b:[3.377597e-07]\n",
      "2400번째 cost:1.5000347020283425e-14, W:[0.9999998], b:[3.377597e-07]\n",
      "2700번째 cost:1.5000347020283425e-14, W:[0.9999998], b:[3.377597e-07]\n",
      "3000번째 cost:1.5000347020283425e-14, W:[0.9999998], b:[3.377597e-07]\n",
      "3300번째 cost:1.5000347020283425e-14, W:[0.9999998], b:[3.377597e-07]\n",
      "3600번째 cost:1.5000347020283425e-14, W:[0.9999998], b:[3.377597e-07]\n",
      "3900번째 cost:1.5000347020283425e-14, W:[0.9999998], b:[3.377597e-07]\n",
      "4200번째 cost:1.5000347020283425e-14, W:[0.9999998], b:[3.377597e-07]\n",
      "4500번째 cost:1.5000347020283425e-14, W:[0.9999998], b:[3.377597e-07]\n",
      "4800번째 cost:1.5000347020283425e-14, W:[0.9999998], b:[3.377597e-07]\n",
      "5100번째 cost:1.5000347020283425e-14, W:[0.9999998], b:[3.377597e-07]\n",
      "5400번째 cost:1.5000347020283425e-14, W:[0.9999998], b:[3.377597e-07]\n",
      "5700번째 cost:1.5000347020283425e-14, W:[0.9999998], b:[3.377597e-07]\n"
     ]
    }
   ],
   "source": [
    "# tensor 그래프(객체 흐름) 정의\n",
    "# data set(x, y)\n",
    "x = np.array([1, 2, 3])\n",
    "y = np.array([1, 2, 3]) # y = 1*x + 0\n",
    "\n",
    "# weight와 bias (처음에는 랜덤값으로 셋팅했다가, 학습과정에서 변경)\n",
    "W = tf.Variable(tf.random.normal([1]),\n",
    "                name = 'weight')\n",
    "b = tf.Variable(tf.random_normal([1]),\n",
    "                name = 'bias')\n",
    "\n",
    "# Hypothesis: 결과는 Numpy array\n",
    "H = W*x + b\n",
    "\n",
    "# cost function (손실함수 = mse: 최소제곱법)\n",
    "cost = tf.reduce_mean(tf.square(H-y))\n",
    "\n",
    "'''\n",
    "학습 목적: cost가 최소가 되는 W, b를 찾는 것\n",
    "cost 함수는 2차함수이므로 곡선 그래프. 곡선 위 미분값이 줄어드는 방향으로 학습(경사하강법)\n",
    "'''\n",
    "optimizer = tf.train.GradientDescentOptimizer(learning_rate = 0.1)\n",
    "train = optimizer.minimize(cost)\n",
    "\n",
    "# Session 생성\n",
    "sess = tf.Session()\n",
    "# tf.Variable 변수 노드(W, b) 초기화\n",
    "sess.run(tf.global_variables_initializer())\n",
    "sess.run([W, b])\n",
    "\n",
    "# 6000번 학습 (v2에서의 fit함수)\n",
    "for step in range(1, 6000):\n",
    "    _, cost_val, W_val, b_val, = sess.run([train, cost, W, b])\n",
    "    if step % 300 == 0:\n",
    "        print(\"{}번째 cost:{}, W:{}, b:{}\".format(step, \n",
    "                                                 cost_val, \n",
    "                                                 W_val,\n",
    "                                                 b_val))"
   ]
  },
  {
   "cell_type": "code",
   "execution_count": 8,
   "id": "59c9dd90",
   "metadata": {
    "ExecuteTime": {
     "end_time": "2024-12-16T01:46:10.229869Z",
     "start_time": "2024-12-16T01:46:10.214022Z"
    }
   },
   "outputs": [
    {
     "data": {
      "text/plain": [
       "[array([0.9999998], dtype=float32), array([3.377597e-07], dtype=float32)]"
      ]
     },
     "execution_count": 8,
     "metadata": {},
     "output_type": "execute_result"
    }
   ],
   "source": [
    "# 최종적으로 나온 회귀식 H = W*x + b\n",
    "sess.run([W, b])"
   ]
  },
  {
   "cell_type": "code",
   "execution_count": 9,
   "id": "dcb0b827",
   "metadata": {
    "ExecuteTime": {
     "end_time": "2024-12-16T01:46:10.239844Z",
     "start_time": "2024-12-16T01:46:10.231878Z"
    }
   },
   "outputs": [
    {
     "data": {
      "text/plain": [
       "(array([0.9999998], dtype=float32), array([3.377597e-07], dtype=float32))"
      ]
     },
     "execution_count": 9,
     "metadata": {},
     "output_type": "execute_result"
    }
   ],
   "source": [
    "W_, b_ = sess.run([W, b])\n",
    "W_, b_"
   ]
  },
  {
   "cell_type": "code",
   "execution_count": 10,
   "id": "ef6e1c61",
   "metadata": {
    "ExecuteTime": {
     "end_time": "2024-12-16T01:46:10.247809Z",
     "start_time": "2024-12-16T01:46:10.241837Z"
    }
   },
   "outputs": [
    {
     "name": "stdout",
     "output_type": "stream",
     "text": [
      "최종회귀식: H = 0.9999998211860657*x + 3.3775970109672926e-07\n"
     ]
    }
   ],
   "source": [
    "print('최종회귀식: H = {}*x + {}'.format(W_[0], b_[0]))"
   ]
  },
  {
   "cell_type": "code",
   "execution_count": 11,
   "id": "517eec61",
   "metadata": {
    "ExecuteTime": {
     "end_time": "2024-12-16T01:46:10.263133Z",
     "start_time": "2024-12-16T01:46:10.249929Z"
    }
   },
   "outputs": [],
   "source": [
    "def to_predict(x):\n",
    "    return W_[0]*x + b_[0]"
   ]
  },
  {
   "cell_type": "code",
   "execution_count": 12,
   "id": "032bfbb6",
   "metadata": {
    "ExecuteTime": {
     "end_time": "2024-12-16T01:46:10.279036Z",
     "start_time": "2024-12-16T01:46:10.263528Z"
    }
   },
   "outputs": [
    {
     "data": {
      "text/plain": [
       "2.999999801317898"
      ]
     },
     "execution_count": 12,
     "metadata": {},
     "output_type": "execute_result"
    }
   ],
   "source": [
    "to_predict(3)"
   ]
  },
  {
   "cell_type": "markdown",
   "id": "1074dc13",
   "metadata": {},
   "source": [
    "## 2.2 predict을 하기 위한 placeholder 이용\n",
    "- placeholder: 외부에서 데이터를 입력받을 수 있는 노드"
   ]
  },
  {
   "cell_type": "code",
   "execution_count": 13,
   "id": "bf92e758",
   "metadata": {
    "ExecuteTime": {
     "end_time": "2024-12-16T01:46:10.311774Z",
     "start_time": "2024-12-16T01:46:10.281508Z"
    }
   },
   "outputs": [
    {
     "data": {
      "text/plain": [
       "[array(10., dtype=float16), array(20., dtype=float16), 30.0]"
      ]
     },
     "execution_count": 13,
     "metadata": {},
     "output_type": "execute_result"
    }
   ],
   "source": [
    "a = tf.placeholder(tf.float16)\n",
    "b = tf.placeholder(tf.float16)\n",
    "ab = tf.add(a, b)\n",
    "sess = tf.Session()\n",
    "sess.run([a, b, ab], feed_dict = {a:10, \n",
    "                                  b:20})"
   ]
  },
  {
   "cell_type": "code",
   "execution_count": 14,
   "id": "3ef8e718",
   "metadata": {
    "ExecuteTime": {
     "end_time": "2024-12-16T01:46:10.329823Z",
     "start_time": "2024-12-16T01:46:10.314218Z"
    }
   },
   "outputs": [
    {
     "data": {
      "text/plain": [
       "array([2., 4., 6.], dtype=float16)"
      ]
     },
     "execution_count": 14,
     "metadata": {},
     "output_type": "execute_result"
    }
   ],
   "source": [
    "sess.run(ab, feed_dict = {a:np.array([1, 2, 3]),\n",
    "                          b:np.array([1, 2, 3])} )"
   ]
  },
  {
   "cell_type": "code",
   "execution_count": 15,
   "id": "de54af1e",
   "metadata": {
    "ExecuteTime": {
     "end_time": "2024-12-16T01:46:30.180982Z",
     "start_time": "2024-12-16T01:46:10.333095Z"
    }
   },
   "outputs": [
    {
     "name": "stdout",
     "output_type": "stream",
     "text": [
      "1/6000번째 cost:89.40564727783203, W:[-0.10033521], b:[1.092588]\n",
      "301/6000번째 cost:0.046537935733795166, W:[1.9262059], b:[1.3944054]\n",
      "601/6000번째 cost:0.0328940823674202, W:[1.9379628], b:[1.3315883]\n",
      "901/6000번째 cost:0.023250605911016464, W:[1.9478433], b:[1.278777]\n",
      "1201/6000번째 cost:0.016434216871857643, W:[1.9561502], b:[1.2343765]\n",
      "1501/6000번째 cost:0.011616216972470284, W:[1.9631338], b:[1.1970483]\n",
      "1801/6000번째 cost:0.008210698142647743, W:[1.9690055], b:[1.1656646]\n",
      "2101/6000번째 cost:0.0058036018162965775, W:[1.9739419], b:[1.1392798]\n",
      "2401/6000번째 cost:0.004102170001715422, W:[1.978092], b:[1.1170975]\n",
      "2701/6000번째 cost:0.0028995482716709375, W:[1.9815811], b:[1.0984479]\n",
      "3001/6000번째 cost:0.0020495334174484015, W:[1.9845144], b:[1.0827688]\n",
      "3301/6000번째 cost:0.0014486790169030428, W:[1.9869806], b:[1.0695866]\n",
      "3601/6000번째 cost:0.0010239867260679603, W:[1.989054], b:[1.0585041]\n",
      "3901/6000번째 cost:0.0007237899117171764, W:[1.9907974], b:[1.0491868]\n",
      "4201/6000번째 cost:0.0005116046522744, W:[1.9922632], b:[1.0413535]\n",
      "4501/6000번째 cost:0.00036164914490655065, W:[1.9934951], b:[1.0347682]\n",
      "4801/6000번째 cost:0.0002556343097239733, W:[1.9945312], b:[1.0292317]\n",
      "5101/6000번째 cost:0.00018070721125695854, W:[1.9954015], b:[1.0245769]\n",
      "5401/6000번째 cost:0.00012774733477272093, W:[1.9961334], b:[1.0206637]\n",
      "5701/6000번째 cost:9.030663932207972e-05, W:[1.9967489], b:[1.0173738]\n",
      "6001/6000번째 cost:6.384012522175908e-05, W:[1.9972664], b:[1.0146077]\n",
      "6301/6000번째 cost:4.512878513196483e-05, W:[1.9977013], b:[1.0122819]\n",
      "6601/6000번째 cost:3.1907333323033527e-05, W:[1.9980675], b:[1.0103271]\n",
      "6901/6000번째 cost:2.2560154320672154e-05, W:[1.9983746], b:[1.0086836]\n",
      "7201/6000번째 cost:1.5948544387356378e-05, W:[1.9986345], b:[1.0073011]\n",
      "7501/6000번째 cost:1.127688301494345e-05, W:[1.9988515], b:[1.0061396]\n",
      "7801/6000번째 cost:7.974814252520446e-06, W:[1.9990345], b:[1.0051633]\n",
      "8101/6000번째 cost:5.641081770590972e-06, W:[1.9991868], b:[1.0043423]\n",
      "8401/6000번째 cost:3.987598120147595e-06, W:[1.9993166], b:[1.0036505]\n",
      "8701/6000번째 cost:2.822205942720757e-06, W:[1.9994261], b:[1.0030718]\n",
      "9001/6000번째 cost:1.9928193069063127e-06, W:[1.9995167], b:[1.0025808]\n",
      "9301/6000번째 cost:1.4116794773144647e-06, W:[1.9995924], b:[1.0021719]\n",
      "9601/6000번째 cost:9.990737908083247e-07, W:[1.9996585], b:[1.0018277]\n",
      "9901/6000번째 cost:7.047746066746186e-07, W:[1.9997125], b:[1.0015349]\n"
     ]
    }
   ],
   "source": [
    "# data set (H = 2x + 1)\n",
    "x_data = np.array([1, 2, 3, 5, 8])\n",
    "y_data = np.array([3, 5, 7, 11, 17])\n",
    "\n",
    "# placeholder 설정(x, y)\n",
    "x = tf.placeholder(dtype = tf.float32)\n",
    "y = tf.placeholder(dtype = tf.float32)\n",
    "\n",
    "# weight & bias\n",
    "W = tf.Variable(tf.random.normal([1]),\n",
    "                name = 'weight')\n",
    "b = tf.Variable(tf.random_normal([1]),\n",
    "                name = 'bias')\n",
    "\n",
    "# Hypothesis\n",
    "H = W*x + b\n",
    "\n",
    "# cost function == loss function \n",
    "cost = tf.reduce_mean(tf.square(H - y))\n",
    "# 경사하강법\n",
    "train = tf.train.GradientDescentOptimizer(learning_rate = 0.001).minimize(cost)\n",
    "\n",
    "# session 생성 & 변수 초기화\n",
    "sess = tf.Session()\n",
    "sess.run(tf.global_variables_initializer())\n",
    "# 학습 6000번\n",
    "for step in range(10000):\n",
    "    _, cost_, W_val, b_val = sess.run([train, cost, W, b], \n",
    "                                      feed_dict = {x:x_data,\n",
    "                                                   y:y_data})\n",
    "    if step % 300 == 0:\n",
    "        print(\"{}/6000번째 cost:{}, W:{}, b:{}\".format(step + 1,\n",
    "                                                      cost_,\n",
    "                                                      W_val, \n",
    "                                                      b_val))"
   ]
  },
  {
   "cell_type": "code",
   "execution_count": 16,
   "id": "9a43fd70",
   "metadata": {
    "ExecuteTime": {
     "end_time": "2024-12-16T01:46:30.195163Z",
     "start_time": "2024-12-16T01:46:30.183826Z"
    }
   },
   "outputs": [
    {
     "data": {
      "text/plain": [
       "[array([1.999728], dtype=float32), array([1.0014515], dtype=float32)]"
      ]
     },
     "execution_count": 16,
     "metadata": {},
     "output_type": "execute_result"
    }
   ],
   "source": [
    "# 최종 W, b\n",
    "sess.run([W, b])"
   ]
  },
  {
   "cell_type": "code",
   "execution_count": 17,
   "id": "b4c1bae7",
   "metadata": {
    "ExecuteTime": {
     "end_time": "2024-12-16T01:46:30.214775Z",
     "start_time": "2024-12-16T01:46:30.198157Z"
    }
   },
   "outputs": [
    {
     "data": {
      "text/plain": [
       "array([11.000092], dtype=float32)"
      ]
     },
     "execution_count": 17,
     "metadata": {},
     "output_type": "execute_result"
    }
   ],
   "source": [
    "# 예측하기\n",
    "sess.run(H, feed_dict = {x:5})"
   ]
  },
  {
   "cell_type": "code",
   "execution_count": 18,
   "id": "b3ea6fc2",
   "metadata": {
    "ExecuteTime": {
     "end_time": "2024-12-16T01:46:30.231365Z",
     "start_time": "2024-12-16T01:46:30.217768Z"
    }
   },
   "outputs": [
    {
     "data": {
      "text/plain": [
       "array([11.000092, 12.999819, 14.999547], dtype=float32)"
      ]
     },
     "execution_count": 18,
     "metadata": {},
     "output_type": "execute_result"
    }
   ],
   "source": [
    "sess.run(H, feed_dict = {x:np.array([5, 6, 7])})"
   ]
  },
  {
   "cell_type": "markdown",
   "id": "7de97e12",
   "metadata": {},
   "source": [
    "## 2.3 scale이 다른 데이터들의 linear regression 구현(scale 조정 X)"
   ]
  },
  {
   "cell_type": "code",
   "execution_count": 19,
   "id": "58794da1",
   "metadata": {
    "ExecuteTime": {
     "end_time": "2024-12-16T01:46:42.849351Z",
     "start_time": "2024-12-16T01:46:30.235355Z"
    }
   },
   "outputs": [
    {
     "name": "stdout",
     "output_type": "stream",
     "text": [
      "1/6000번째 cost:4731.59765625, W:[-0.5749534], b:[-1.8321841]\n",
      "301/6000번째 cost:79.13964080810547, W:[10.163204], b:[-0.25602698]\n",
      "601/6000번째 cost:79.13947296142578, W:[10.160421], b:[-0.23541528]\n",
      "901/6000번째 cost:79.13945770263672, W:[10.159957], b:[-0.23197973]\n",
      "1201/6000번째 cost:79.13944244384766, W:[10.15988], b:[-0.23140821]\n",
      "1501/6000번째 cost:79.13944244384766, W:[10.159867], b:[-0.23131348]\n",
      "1801/6000번째 cost:79.13944244384766, W:[10.159865], b:[-0.23130178]\n",
      "2101/6000번째 cost:79.13944244384766, W:[10.159865], b:[-0.23130178]\n",
      "2401/6000번째 cost:79.13944244384766, W:[10.159865], b:[-0.23130178]\n",
      "2701/6000번째 cost:79.13944244384766, W:[10.159865], b:[-0.23130178]\n",
      "3001/6000번째 cost:79.13944244384766, W:[10.159865], b:[-0.23130178]\n",
      "3301/6000번째 cost:79.13944244384766, W:[10.159865], b:[-0.23130178]\n",
      "3601/6000번째 cost:79.13944244384766, W:[10.159865], b:[-0.23130178]\n",
      "3901/6000번째 cost:79.13944244384766, W:[10.159865], b:[-0.23130178]\n",
      "4201/6000번째 cost:79.13944244384766, W:[10.159865], b:[-0.23130178]\n",
      "4501/6000번째 cost:79.13944244384766, W:[10.159865], b:[-0.23130178]\n",
      "4801/6000번째 cost:79.13944244384766, W:[10.159865], b:[-0.23130178]\n",
      "5101/6000번째 cost:79.13944244384766, W:[10.159865], b:[-0.23130178]\n",
      "5401/6000번째 cost:79.13944244384766, W:[10.159865], b:[-0.23130178]\n",
      "5701/6000번째 cost:79.13944244384766, W:[10.159865], b:[-0.23130178]\n"
     ]
    }
   ],
   "source": [
    "x_data = np.array([1, 2, 5, 8, 10])\n",
    "y_data = np.array([5, 15, 68, 80, 95])\n",
    "\n",
    "# placeholder 설정\n",
    "x = tf.placeholder(dtype = tf.float32)\n",
    "y = tf.placeholder(dtype = tf.float32)\n",
    "\n",
    "# weight & bias\n",
    "W = tf.Variable(tf.random.normal([1]),\n",
    "                name = 'weight')\n",
    "b = tf.Variable(tf.random.normal([1]),\n",
    "                name = 'bias')\n",
    "\n",
    "# Hypothesis\n",
    "H = W*x + b\n",
    "\n",
    "# cost function(loss fucntion; 손실함수)\n",
    "cost = tf.reduce_mean(tf.square(H - y))\n",
    "\n",
    "# 경사하강법\n",
    "optimizer = tf.train.GradientDescentOptimizer(learning_rate = 0.01)\n",
    "train = optimizer.minimize(cost)\n",
    "\n",
    "# Session & Variable 초기화\n",
    "sess = tf.Session()\n",
    "sess.run(tf.global_variables_initializer())\n",
    "\n",
    "# 학습\n",
    "for step in range(1, 6001):\n",
    "    _, cost_val, W_val, b_val = sess.run([train, cost, W, b], feed_dict = {x:x_data,\n",
    "                                                                           y:y_data})\n",
    "    if step % 300 == 1:\n",
    "        print('{}/6000번째 cost:{}, W:{}, b:{}'.format(step,\n",
    "                                                       cost_val,\n",
    "                                                       W_val,\n",
    "                                                       b_val))"
   ]
  },
  {
   "cell_type": "code",
   "execution_count": 20,
   "id": "84d105d1",
   "metadata": {
    "ExecuteTime": {
     "end_time": "2024-12-16T01:46:42.867598Z",
     "start_time": "2024-12-16T01:46:42.852344Z"
    }
   },
   "outputs": [
    {
     "data": {
      "text/plain": [
       "array([50.568027], dtype=float32)"
      ]
     },
     "execution_count": 20,
     "metadata": {},
     "output_type": "execute_result"
    }
   ],
   "source": [
    "# 예측\n",
    "sess.run(H, feed_dict = {x:5})"
   ]
  },
  {
   "cell_type": "code",
   "execution_count": 21,
   "id": "808a1b31",
   "metadata": {
    "ExecuteTime": {
     "end_time": "2024-12-16T01:46:42.882238Z",
     "start_time": "2024-12-16T01:46:42.869592Z"
    }
   },
   "outputs": [],
   "source": [
    "# cost값이 멈춤: local 최솟값"
   ]
  },
  {
   "cell_type": "markdown",
   "id": "1515d366",
   "metadata": {},
   "source": [
    "## 2.4 scale이 다른 데이터들의 linear regression 구현(scale 조정 O)\n",
    "### scale 맞추기: 모든 데이터를 일정 범위 내로 조정\n",
    "- normalization(정규화): 데이터의 최댓값을 1, 최솟값을 0으로 변환\n",
    "```\n",
    "                         x - Xmin\n",
    "    normalization =  ───────────────\n",
    "                       Xmax - Xmin\n",
    "```\n",
    "    * 위의 식을 써도 되지만 라이브러리를 주로 씀(sklearn.preprocessing.MinMaxScaler이용)\n",
    "- standardization(표준화): 데이터의 평균을 0, 표준편차를 1로 조정\n",
    "```\n",
    "                         x - Xmean(평균)\n",
    "    standardization = ────────────────────\n",
    "                          Xstd(표준편차)\n",
    "```\n",
    "   * 위의 식을 써도 되지만 라이브러리를 주로 씀(sklearn.preprocessing.StandardScaler이용)"
   ]
  },
  {
   "cell_type": "code",
   "execution_count": 22,
   "id": "88188636",
   "metadata": {
    "ExecuteTime": {
     "end_time": "2024-12-16T01:46:42.891816Z",
     "start_time": "2024-12-16T01:46:42.885231Z"
    }
   },
   "outputs": [
    {
     "name": "stdout",
     "output_type": "stream",
     "text": [
      "[0.         0.11111111 0.44444444 0.77777778 1.        ]\n",
      "[0.         0.11111111 0.7        0.83333333 1.        ]\n"
     ]
    }
   ],
   "source": [
    "# 라이브러리를 쓰지 않고 정규화: 예측할 경우 x데이터를 스케일 변환하고, 스케일된 예측값을 변환이 번거로워\n",
    "x_data = np.array([1, 2, 5, 8, 10])\n",
    "y_data = np.array([5, 15, 68, 80, 95])\n",
    "\n",
    "scaled_x_data = (x_data - x_data.min()) / (x_data.max() - x_data.min())\n",
    "scaled_y_data = (y_data - y_data.min()) / (y_data.max() - y_data.min())\n",
    "print(scaled_x_data), \n",
    "print(scaled_y_data)"
   ]
  },
  {
   "cell_type": "code",
   "execution_count": 23,
   "id": "c08a0e34",
   "metadata": {
    "ExecuteTime": {
     "end_time": "2024-12-16T01:46:42.903780Z",
     "start_time": "2024-12-16T01:46:42.892846Z"
    }
   },
   "outputs": [
    {
     "data": {
      "text/plain": [
       "0.4444444444444444"
      ]
     },
     "execution_count": 23,
     "metadata": {},
     "output_type": "execute_result"
    }
   ],
   "source": [
    "x = (5 - x_data.min()) / (x_data.max() - x_data.min())\n",
    "x"
   ]
  },
  {
   "cell_type": "code",
   "execution_count": 24,
   "id": "aec3bf44",
   "metadata": {
    "ExecuteTime": {
     "end_time": "2024-12-16T01:46:42.914219Z",
     "start_time": "2024-12-16T01:46:42.906768Z"
    }
   },
   "outputs": [
    {
     "data": {
      "text/plain": [
       "68.0"
      ]
     },
     "execution_count": 24,
     "metadata": {},
     "output_type": "execute_result"
    }
   ],
   "source": [
    "0.7 * (y_data.max() - y_data.min())+y_data.min()"
   ]
  },
  {
   "cell_type": "code",
   "execution_count": 25,
   "id": "3b2e21a0",
   "metadata": {
    "ExecuteTime": {
     "end_time": "2024-12-16T01:46:43.482925Z",
     "start_time": "2024-12-16T01:46:42.917917Z"
    }
   },
   "outputs": [
    {
     "data": {
      "text/plain": [
       "array([[ 1.        ,  0.        ,  5.        ,  0.        ],\n",
       "       [ 2.        ,  0.11111111, 15.        ,  0.11111111],\n",
       "       [ 5.        ,  0.44444444, 68.        ,  0.7       ],\n",
       "       [ 8.        ,  0.77777778, 80.        ,  0.83333333],\n",
       "       [10.        ,  1.        , 95.        ,  1.        ]])"
      ]
     },
     "execution_count": 25,
     "metadata": {},
     "output_type": "execute_result"
    }
   ],
   "source": [
    "# 라이브러리를 쓰지 않고 정규화\n",
    "x_data = np.array([1, 2, 5, 8, 10]).reshape(-1, 1)\n",
    "y_data = np.array([5, 15, 68, 80, 95]).reshape(-1, 1)\n",
    "\n",
    "from sklearn.preprocessing import MinMaxScaler\n",
    "scaler_x = MinMaxScaler() # x_data를 표준화시킬 객체\n",
    "scaler_x.fit(x_data)\n",
    "scaled_x_data = scaler_x.transform(x_data)\n",
    "\n",
    "scaler_y = MinMaxScaler() # y_data를 표준화시킬 객체\n",
    "scaler_y.fit(y_data)\n",
    "scaled_y_data = scaler_y.transform(y_data)\n",
    "\n",
    "np.column_stack([x_data, scaled_x_data, y_data, scaled_y_data])"
   ]
  },
  {
   "cell_type": "code",
   "execution_count": 26,
   "id": "fdad8f01",
   "metadata": {
    "ExecuteTime": {
     "end_time": "2024-12-16T01:47:03.866396Z",
     "start_time": "2024-12-16T01:46:43.489934Z"
    }
   },
   "outputs": [
    {
     "name": "stdout",
     "output_type": "stream",
     "text": [
      "1/6000번째 cost:0.09338370710611343, W:[1.7619184], b:[-0.34653974]\n",
      "301/6000번째 cost:0.08244216442108154, W:[1.7129502], b:[-0.31682256]\n",
      "601/6000번째 cost:0.07295407354831696, W:[1.6665561], b:[-0.29049608]\n",
      "901/6000번째 cost:0.06470969319343567, W:[1.6229488], b:[-0.26660132]\n",
      "1201/6000번째 cost:0.05754215270280838, W:[1.5821217], b:[-0.24462922]\n",
      "1501/6000번째 cost:0.05130995437502861, W:[1.5439733], b:[-0.22428703]\n",
      "1801/6000번째 cost:0.04589081555604935, W:[1.5083634], b:[-0.20538715]\n",
      "2101/6000번째 cost:0.04117865860462189, W:[1.4751402], b:[-0.18779595]\n",
      "2401/6000번째 cost:0.037081278860569, W:[1.4441519], b:[-0.17140779]\n",
      "2701/6000번째 cost:0.03351838141679764, W:[1.4152511], b:[-0.1561333]\n",
      "3001/6000번째 cost:0.03042028285562992, W:[1.3882996], b:[-0.1418933]\n",
      "3301/6000번째 cost:0.027726387605071068, W:[1.3631669], b:[-0.12861638]\n",
      "3601/6000번째 cost:0.025383900851011276, W:[1.3397303], b:[-0.11623648]\n",
      "3901/6000번째 cost:0.023347031325101852, W:[1.3178759], b:[-0.10469263]\n",
      "4201/6000번째 cost:0.02157585322856903, W:[1.2974962], b:[-0.09392825]\n",
      "4501/6000번째 cost:0.020035753026604652, W:[1.2784927], b:[-0.08389065]\n",
      "4801/6000번째 cost:0.018696561455726624, W:[1.2607716], b:[-0.07453065]\n",
      "5101/6000번째 cost:0.017532076686620712, W:[1.2442472], b:[-0.06580252]\n",
      "5401/6000번째 cost:0.01651950180530548, W:[1.228838], b:[-0.05766362]\n",
      "5701/6000번째 cost:0.015639042481780052, W:[1.2144693], b:[-0.05007415]\n",
      "6001/6000번째 cost:0.014873418025672436, W:[1.2010702], b:[-0.04299701]\n",
      "6301/6000번째 cost:0.014207686297595501, W:[1.1885759], b:[-0.03639765]\n",
      "6601/6000번째 cost:0.013628801330924034, W:[1.1769248], b:[-0.03024381]\n",
      "6901/6000번째 cost:0.013125446625053883, W:[1.1660607], b:[-0.02450538]\n",
      "7201/6000번째 cost:0.012687737122178078, W:[1.1559293], b:[-0.01915432]\n",
      "7501/6000번째 cost:0.012307152152061462, W:[1.1464826], b:[-0.0141645]\n",
      "7801/6000번째 cost:0.011976202949881554, W:[1.1376731], b:[-0.00951152]\n",
      "8101/6000번째 cost:0.011688423343002796, W:[1.1294584], b:[-0.00517261]\n",
      "8401/6000번째 cost:0.011438196524977684, W:[1.1217984], b:[-0.00112663]\n",
      "8701/6000번째 cost:0.01122061163187027, W:[1.1146555], b:[0.00264621]\n",
      "9001/6000번째 cost:0.011031413450837135, W:[1.1079948], b:[0.00616433]\n",
      "9301/6000번째 cost:0.010866889730095863, W:[1.1017835], b:[0.00944497]\n",
      "9601/6000번째 cost:0.010723831132054329, W:[1.0959915], b:[0.01250415]\n",
      "9901/6000번째 cost:0.010599443688988686, W:[1.0905908], b:[0.01535683]\n"
     ]
    }
   ],
   "source": [
    "# placeholder 설정\n",
    "x = tf.placeholder(dtype = tf.float32)\n",
    "y = tf.placeholder(dtype = tf.float32)\n",
    "\n",
    "# weight & bias\n",
    "W = tf.Variable(tf.random.normal([1]),\n",
    "                name = 'weight')\n",
    "b = tf.Variable(tf.random.normal([1]),\n",
    "                name = 'bias')\n",
    "\n",
    "# Hypothesis\n",
    "H = W*x + b\n",
    "\n",
    "# cost function(loss fucntion; 손실함수)\n",
    "cost = tf.reduce_mean(tf.square(H - y))\n",
    "\n",
    "# 경사하강법\n",
    "optimizer = tf.train.GradientDescentOptimizer(learning_rate = 0.001)\n",
    "train = optimizer.minimize(cost)\n",
    "\n",
    "# Session & Variable 초기화\n",
    "sess = tf.Session()\n",
    "sess.run(tf.global_variables_initializer())\n",
    "\n",
    "# 학습\n",
    "for step in range(1, 10001):\n",
    "    _, cost_val, W_val, b_val = sess.run([train, cost, W, b], feed_dict = {x:scaled_x_data,\n",
    "                                                                           y:scaled_y_data})\n",
    "    if step % 300 == 1:\n",
    "        print('{}/6000번째 cost:{}, W:{}, b:{}'.format(step,\n",
    "                                                       cost_val,\n",
    "                                                       W_val,\n",
    "                                                       b_val))"
   ]
  },
  {
   "cell_type": "code",
   "execution_count": 27,
   "id": "32956bde",
   "metadata": {
    "ExecuteTime": {
     "end_time": "2024-12-16T01:47:03.887304Z",
     "start_time": "2024-12-16T01:47:03.869453Z"
    }
   },
   "outputs": [
    {
     "name": "stdout",
     "output_type": "stream",
     "text": [
      "2를 스케일 조정된 값: [[0.11111111]]\n",
      "예측값: [[17.35251]]\n"
     ]
    }
   ],
   "source": [
    "# 예측\n",
    "scaled_input = scaler_x.transform(np.array([[2]]))\n",
    "print(\"2를 스케일 조정된 값:\", scaled_input)\n",
    "scaled_output = sess.run(H, feed_dict = {x:scaled_input})\n",
    "print('예측값:', scaler_y.inverse_transform(scaled_output))"
   ]
  },
  {
   "cell_type": "code",
   "execution_count": 28,
   "id": "16f18cd4",
   "metadata": {
    "ExecuteTime": {
     "end_time": "2024-12-16T01:47:03.915926Z",
     "start_time": "2024-12-16T01:47:03.890553Z"
    }
   },
   "outputs": [
    {
     "data": {
      "text/plain": [
       "array([[  5.        ,   6.46378374],\n",
       "       [ 15.        ,  17.35251045],\n",
       "       [ 68.        ,  50.01869202],\n",
       "       [ 80.        ,  82.68486786],\n",
       "       [ 95.        , 104.46231842]])"
      ]
     },
     "execution_count": 28,
     "metadata": {},
     "output_type": "execute_result"
    }
   ],
   "source": [
    "# x_data들의 예측값\n",
    "scaled_y_hat = sess.run(H, feed_dict = {x:scaled_x_data})\n",
    "y_hat = scaler_y.inverse_transform(scaled_y_hat)\n",
    "y_hat\n",
    "np.column_stack([y_data, y_hat])"
   ]
  },
  {
   "cell_type": "code",
   "execution_count": 29,
   "id": "3eaa2a6c",
   "metadata": {
    "ExecuteTime": {
     "end_time": "2024-12-16T01:47:04.067049Z",
     "start_time": "2024-12-16T01:47:03.919646Z"
    }
   },
   "outputs": [
    {
     "data": {
      "image/png": "[encoded data removed]",
      "text/plain": [
       "<Figure size 640x480 with 1 Axes>"
      ]
     },
     "metadata": {},
     "output_type": "display_data"
    }
   ],
   "source": [
    "import matplotlib.pyplot as plt\n",
    "plt.plot(x_data, y_data)\n",
    "plt.plot(x_data, y_hat)\n",
    "plt.show()"
   ]
  },
  {
   "cell_type": "code",
   "execution_count": 30,
   "id": "ac72ff44",
   "metadata": {
    "ExecuteTime": {
     "end_time": "2024-12-16T01:47:04.079263Z",
     "start_time": "2024-12-16T01:47:04.069891Z"
    }
   },
   "outputs": [
    {
     "data": {
      "text/plain": [
       "(array([[ 1],\n",
       "        [ 2],\n",
       "        [ 5],\n",
       "        [ 8],\n",
       "        [10]]),\n",
       " array([ 1,  2,  5,  8, 10]),\n",
       " array([ 1,  2,  5,  8, 10]),\n",
       " array([ 1,  2,  5,  8, 10]))"
      ]
     },
     "execution_count": 30,
     "metadata": {},
     "output_type": "execute_result"
    }
   ],
   "source": [
    "x_data, x_data.ravel(), x_data[:, 0], x_data.flatten()"
   ]
  },
  {
   "cell_type": "code",
   "execution_count": 31,
   "id": "8ec133f3",
   "metadata": {
    "ExecuteTime": {
     "end_time": "2024-12-16T01:47:04.716702Z",
     "start_time": "2024-12-16T01:47:04.081945Z"
    }
   },
   "outputs": [
    {
     "data": {
      "image/png": "[encoded data removed]",
      "text/plain": [
       "<Figure size 640x480 with 1 Axes>"
      ]
     },
     "metadata": {},
     "output_type": "display_data"
    }
   ],
   "source": [
    "import seaborn as sns\n",
    "import pandas as pd\n",
    "df = pd.DataFrame({'x':x_data[:, 0],\n",
    "                   'y':y_data.ravel()})\n",
    "sns.regplot(data = df,\n",
    "            x = 'x', \n",
    "            y = 'y')\n",
    "plt.show()"
   ]
  },
  {
   "cell_type": "code",
   "execution_count": 32,
   "id": "6cd20f6b",
   "metadata": {
    "ExecuteTime": {
     "end_time": "2024-12-16T01:47:04.725677Z",
     "start_time": "2024-12-16T01:47:04.718697Z"
    }
   },
   "outputs": [
    {
     "name": "stdout",
     "output_type": "stream",
     "text": [
      "[-1.22474487 -0.93313895 -0.05832118  0.81649658  1.39970842] [-1.32373476 -1.04563922  0.42826713  0.76198177  1.17912508]\n"
     ]
    }
   ],
   "source": [
    "# 라이브러리를 쓰지 않고 표준화\n",
    "x_data = np.array([1, 2, 5, 8, 10])\n",
    "y_data = np.array([5, 15, 68, 80, 95])\n",
    "scaled_x_data = (x_data - x_data.mean()) / x_data.std()\n",
    "scaled_y_data = (y_data - y_data.mean()) / y_data.std()\n",
    "print(scaled_x_data, scaled_y_data)"
   ]
  },
  {
   "cell_type": "code",
   "execution_count": 33,
   "id": "1fd63aae",
   "metadata": {
    "ExecuteTime": {
     "end_time": "2024-12-16T01:47:04.739928Z",
     "start_time": "2024-12-16T01:47:04.728671Z"
    }
   },
   "outputs": [
    {
     "name": "stdout",
     "output_type": "stream",
     "text": [
      "[[ 1.         -1.22474487]\n",
      " [ 2.         -0.93313895]\n",
      " [ 5.         -0.05832118]\n",
      " [ 8.          0.81649658]\n",
      " [10.          1.39970842]]\n",
      "[[ 5.         -1.32373476]\n",
      " [15.         -1.04563922]\n",
      " [68.          0.42826713]\n",
      " [80.          0.76198177]\n",
      " [95.          1.17912508]]\n"
     ]
    }
   ],
   "source": [
    "# 라이브러리를 써서 표준화\n",
    "x_data = np.array([1, 2, 5, 8, 10]).reshape(-1, 1)\n",
    "y_data = np.array([5, 15, 68, 80, 95]).reshape(-1, 1)\n",
    "\n",
    "from sklearn.preprocessing import StandardScaler\n",
    "scaler_x = StandardScaler() # x_data를 표준화할 객체\n",
    "scaler_x.fit(x_data)\n",
    "scaled_x_data = scaler_x.transform(x_data)\n",
    "scaler_y = StandardScaler() # y_data를 표준화할 객체\n",
    "scaler_y.fit(y_data)\n",
    "scaled_y_data = scaler_y.transform(y_data)\n",
    "\n",
    "print(np.column_stack([x_data, scaled_x_data]))\n",
    "print(np.column_stack([y_data, scaled_y_data]))"
   ]
  },
  {
   "cell_type": "code",
   "execution_count": 34,
   "id": "7299cc89",
   "metadata": {
    "ExecuteTime": {
     "end_time": "2024-12-16T01:47:25.152094Z",
     "start_time": "2024-12-16T01:47:04.741924Z"
    }
   },
   "outputs": [
    {
     "name": "stdout",
     "output_type": "stream",
     "text": [
      "1/6000번째 cost:2.3374886512756348, W:[0.95500743], b:[-1.5086719]\n",
      "1001/6000번째 cost:0.10272903740406036, W:[0.9670364], b:[-0.20376785]\n",
      "2001/6000번째 cost:0.061961688101291656, W:[0.9686612], b:[-0.02752181]\n",
      "3001/6000번째 cost:0.0612180121243, W:[0.9688785], b:[-0.00371722]\n",
      "4001/6000번째 cost:0.06120442599058151, W:[0.9688999], b:[-0.00050206]\n",
      "5001/6000번째 cost:0.061204176396131516, W:[0.9688999], b:[-6.78028e-05]\n",
      "6001/6000번째 cost:0.06120417267084122, W:[0.9688999], b:[-9.15089e-06]\n",
      "7001/6000번째 cost:0.06120418384671211, W:[0.9688999], b:[-1.228805e-06]\n",
      "8001/6000번째 cost:0.06120418384671211, W:[0.9688999], b:[-1.601514e-07]\n",
      "9001/6000번째 cost:0.06120418384671211, W:[0.9688999], b:[-2.8290865e-08]\n"
     ]
    }
   ],
   "source": [
    "# placeholder 설정\n",
    "x = tf.placeholder(dtype = tf.float32)\n",
    "y = tf.placeholder(dtype = tf.float32)\n",
    "\n",
    "# weight & bias\n",
    "W = tf.Variable(tf.random.normal([1]),\n",
    "                name = 'weight')\n",
    "b = tf.Variable(tf.random.normal([1]),\n",
    "                name = 'bias')\n",
    "\n",
    "# Hypothesis\n",
    "H = W*x + b\n",
    "\n",
    "# cost function(loss fucntion; 손실함수)\n",
    "cost = tf.reduce_mean(tf.square(H - y))\n",
    "\n",
    "# 경사하강법\n",
    "optimizer = tf.train.GradientDescentOptimizer(learning_rate = 0.001)\n",
    "train = optimizer.minimize(cost)\n",
    "\n",
    "# Session & Variable 초기화\n",
    "sess = tf.Session()\n",
    "sess.run(tf.global_variables_initializer())\n",
    "\n",
    "# 학습\n",
    "for step in range(1, 10001):\n",
    "    _, cost_val, W_val, b_val = sess.run([train, cost, W, b], feed_dict = {x:scaled_x_data,\n",
    "                                                                           y:scaled_y_data})\n",
    "    if step % 1000 == 1:\n",
    "        print('{}/6000번째 cost:{}, W:{}, b:{}'.format(step,\n",
    "                                                       cost_val,\n",
    "                                                       W_val,\n",
    "                                                       b_val))"
   ]
  },
  {
   "cell_type": "markdown",
   "id": "d2e435a0",
   "metadata": {},
   "source": [
    "## 2.5 독립변수 x가 여러개인 linear Regression"
   ]
  },
  {
   "cell_type": "code",
   "execution_count": 44,
   "id": "d14fd2de",
   "metadata": {
    "ExecuteTime": {
     "end_time": "2024-12-16T01:57:14.289177Z",
     "start_time": "2024-12-16T01:56:11.659880Z"
    }
   },
   "outputs": [
    {
     "name": "stdout",
     "output_type": "stream",
     "text": [
      "1번째 cost:46654.71875\n",
      "5001번째 cost:4.571014881134033\n",
      "10001번째 cost:0.6586899757385254\n",
      "15001번째 cost:0.3586111068725586\n",
      "20001번째 cost:0.30745598673820496\n",
      "25001번째 cost:0.279572457075119\n",
      "30001번째 cost:0.25851041078567505\n",
      "35001번째 cost:0.24202711880207062\n",
      "최종 cost:0.22908298671245575\n"
     ]
    }
   ],
   "source": [
    "# data set\n",
    "x_data = np.array([[73, 80, 75],\n",
    "                   [93, 88, 93],\n",
    "                   [89, 91, 90],\n",
    "                   [96, 98, 100],\n",
    "                   [73, 66, 70]])\n",
    "y_data = np.array([[152], \n",
    "                   [185], \n",
    "                   [180], \n",
    "                   [196], \n",
    "                   [142]])\n",
    "# tensor graph 정의\n",
    "# placeholder(변수 공간) 설정\n",
    "# shape = [None, 3]: x_data([5, 3])도 받고, 예측할 때는 [1, 3]. 3열만 고정\n",
    "X = tf.placeholder(shape = [None, 3],\n",
    "                   dtype = tf.float32)\n",
    "Y = tf.placeholder(shape = [None, 1],\n",
    "                   dtype = tf.float32)\n",
    "\n",
    "# weight & bias (weight 3개, bias 1개)\n",
    "W = tf.Variable(tf.random_normal([3, 1]), # 3행 1열 행렬\n",
    "                name = 'weight')\n",
    "b = tf.Variable(tf.random_normal([1]),\n",
    "                name = 'bias')\n",
    "\n",
    "# Hypothesis\n",
    "# H = X@W + b; tf.matmul(X, W) - 행렬곱\n",
    "H = tf.matmul(X, W) + b\n",
    "# cost\n",
    "cost = tf.reduce_mean(tf.square(H - Y))\n",
    "# train\n",
    "train = tf.train.GradientDescentOptimizer(learning_rate = 1e-5).minimize(cost)\n",
    "# session 생성과 Variable 초기화\n",
    "sess = tf.Session()\n",
    "sess.run(tf.global_variables_initializer())\n",
    "# sess.run([W, b])\n",
    "# 학습\n",
    "for step in range(1, 40001):\n",
    "    _, cost_val = sess.run([train, cost],\n",
    "                           feed_dict = {X:x_data,\n",
    "                                        Y:y_data})\n",
    "    if step % 5000 == 1:\n",
    "        print(\"{}번째 cost:{}\".format(step, cost_val))\n",
    "print(\"최종 cost:{}\".format(cost_val))"
   ]
  },
  {
   "cell_type": "code",
   "execution_count": 47,
   "id": "e9903f86",
   "metadata": {
    "ExecuteTime": {
     "end_time": "2024-12-16T01:57:29.012553Z",
     "start_time": "2024-12-16T01:57:29.002473Z"
    }
   },
   "outputs": [
    {
     "data": {
      "text/plain": [
       "array([[152.41202],\n",
       "       [149.66394]], dtype=float32)"
      ]
     },
     "execution_count": 47,
     "metadata": {},
     "output_type": "execute_result"
    }
   ],
   "source": [
    "# 예측\n",
    "sess.run(H, feed_dict = {X: np.array([[73, 80, 77],\n",
    "                                      [73, 80, 72]])})"
   ]
  },
  {
   "cell_type": "markdown",
   "id": "9733b2e4",
   "metadata": {},
   "source": [
    "## csv를 array로 읽어오기"
   ]
  },
  {
   "cell_type": "code",
   "execution_count": 36,
   "id": "9f9b2e73",
   "metadata": {
    "ExecuteTime": {
     "end_time": "2024-12-16T01:48:27.040808Z",
     "start_time": "2024-12-16T01:48:27.008214Z"
    }
   },
   "outputs": [
    {
     "data": {
      "text/plain": [
       "((111, 3), (111,))"
      ]
     },
     "execution_count": 36,
     "metadata": {},
     "output_type": "execute_result"
    }
   ],
   "source": [
    "# sol 1. csv -> 데이터프레임 -> 넘파이 배열\n",
    "# 1. csv를 dataFrame 읽어와\n",
    "data = pd.read_csv('data/ozone.csv')\n",
    "# 2. 결측치 대체 or 삭제\n",
    "# data.fillna(value = data.mean(), inplace = True)\n",
    "data.dropna(how = 'any', axis = 0, inplace = True)\n",
    "X = data[['Solar.R', 'Wind', 'Temp']].values\n",
    "y = data['Ozone'].values\n",
    "X.shape, y.shape"
   ]
  },
  {
   "cell_type": "code",
   "execution_count": 37,
   "id": "3990d28f",
   "metadata": {
    "ExecuteTime": {
     "end_time": "2024-12-16T01:48:27.059649Z",
     "start_time": "2024-12-16T01:48:27.043602Z"
    }
   },
   "outputs": [
    {
     "data": {
      "text/plain": [
       "array([[ 41. , 190. ,   7.4,  67. ,   5. ,   1. ],\n",
       "       [ 36. , 118. ,   8. ,  72. ,   5. ,   2. ],\n",
       "       [ 12. , 149. ,  12.6,  74. ,   5. ,   3. ],\n",
       "       [ 18. , 313. ,  11.5,  62. ,   5. ,   4. ],\n",
       "       [  nan,   nan,  14.3,  56. ,   5. ,   5. ],\n",
       "       [ 28. ,   nan,  14.9,  66. ,   5. ,   6. ],\n",
       "       [ 23. , 299. ,   8.6,  65. ,   5. ,   7. ],\n",
       "       [ 19. ,  99. ,  13.8,  59. ,   5. ,   8. ],\n",
       "       [  8. ,  19. ,  20.1,  61. ,   5. ,   9. ],\n",
       "       [  nan, 194. ,   8.6,  69. ,   5. ,  10. ],\n",
       "       [  7. ,   nan,   6.9,  74. ,   5. ,  11. ],\n",
       "       [ 16. , 256. ,   9.7,  69. ,   5. ,  12. ],\n",
       "       [ 11. , 290. ,   9.2,  66. ,   5. ,  13. ],\n",
       "       [ 14. , 274. ,  10.9,  68. ,   5. ,  14. ],\n",
       "       [ 18. ,  65. ,  13.2,  58. ,   5. ,  15. ],\n",
       "       [ 14. , 334. ,  11.5,  64. ,   5. ,  16. ],\n",
       "       [ 34. , 307. ,  12. ,  66. ,   5. ,  17. ],\n",
       "       [  6. ,  78. ,  18.4,  57. ,   5. ,  18. ],\n",
       "       [ 30. , 322. ,  11.5,  68. ,   5. ,  19. ],\n",
       "       [ 11. ,  44. ,   9.7,  62. ,   5. ,  20. ],\n",
       "       [  1. ,   8. ,   9.7,  59. ,   5. ,  21. ],\n",
       "       [ 11. , 320. ,  16.6,  73. ,   5. ,  22. ],\n",
       "       [  4. ,  25. ,   9.7,  61. ,   5. ,  23. ],\n",
       "       [ 32. ,  92. ,  12. ,  61. ,   5. ,  24. ],\n",
       "       [  nan,  66. ,  16.6,  57. ,   5. ,  25. ],\n",
       "       [  nan, 266. ,  14.9,  58. ,   5. ,  26. ],\n",
       "       [  nan,   nan,   8. ,  57. ,   5. ,  27. ],\n",
       "       [ 23. ,  13. ,  12. ,  67. ,   5. ,  28. ],\n",
       "       [ 45. , 252. ,  14.9,  81. ,   5. ,  29. ],\n",
       "       [115. , 223. ,   5.7,  79. ,   5. ,  30. ],\n",
       "       [ 37. , 279. ,   7.4,  76. ,   5. ,  31. ],\n",
       "       [  nan, 286. ,   8.6,  78. ,   6. ,   1. ],\n",
       "       [  nan, 287. ,   9.7,  74. ,   6. ,   2. ],\n",
       "       [  nan, 242. ,  16.1,  67. ,   6. ,   3. ],\n",
       "       [  nan, 186. ,   9.2,  84. ,   6. ,   4. ],\n",
       "       [  nan, 220. ,   8.6,  85. ,   6. ,   5. ],\n",
       "       [  nan, 264. ,  14.3,  79. ,   6. ,   6. ],\n",
       "       [ 29. , 127. ,   9.7,  82. ,   6. ,   7. ],\n",
       "       [  nan, 273. ,   6.9,  87. ,   6. ,   8. ],\n",
       "       [ 71. , 291. ,  13.8,  90. ,   6. ,   9. ],\n",
       "       [ 39. , 323. ,  11.5,  87. ,   6. ,  10. ],\n",
       "       [  nan, 259. ,  10.9,  93. ,   6. ,  11. ],\n",
       "       [  nan, 250. ,   9.2,  92. ,   6. ,  12. ],\n",
       "       [ 23. , 148. ,   8. ,  82. ,   6. ,  13. ],\n",
       "       [  nan, 332. ,  13.8,  80. ,   6. ,  14. ],\n",
       "       [  nan, 322. ,  11.5,  79. ,   6. ,  15. ],\n",
       "       [ 21. , 191. ,  14.9,  77. ,   6. ,  16. ],\n",
       "       [ 37. , 284. ,  20.7,  72. ,   6. ,  17. ],\n",
       "       [ 20. ,  37. ,   9.2,  65. ,   6. ,  18. ],\n",
       "       [ 12. , 120. ,  11.5,  73. ,   6. ,  19. ],\n",
       "       [ 13. , 137. ,  10.3,  76. ,   6. ,  20. ],\n",
       "       [  nan, 150. ,   6.3,  77. ,   6. ,  21. ],\n",
       "       [  nan,  59. ,   1.7,  76. ,   6. ,  22. ],\n",
       "       [  nan,  91. ,   4.6,  76. ,   6. ,  23. ],\n",
       "       [  nan, 250. ,   6.3,  76. ,   6. ,  24. ],\n",
       "       [  nan, 135. ,   8. ,  75. ,   6. ,  25. ],\n",
       "       [  nan, 127. ,   8. ,  78. ,   6. ,  26. ],\n",
       "       [  nan,  47. ,  10.3,  73. ,   6. ,  27. ],\n",
       "       [  nan,  98. ,  11.5,  80. ,   6. ,  28. ],\n",
       "       [  nan,  31. ,  14.9,  77. ,   6. ,  29. ],\n",
       "       [  nan, 138. ,   8. ,  83. ,   6. ,  30. ],\n",
       "       [135. , 269. ,   4.1,  84. ,   7. ,   1. ],\n",
       "       [ 49. , 248. ,   9.2,  85. ,   7. ,   2. ],\n",
       "       [ 32. , 236. ,   9.2,  81. ,   7. ,   3. ],\n",
       "       [  nan, 101. ,  10.9,  84. ,   7. ,   4. ],\n",
       "       [ 64. , 175. ,   4.6,  83. ,   7. ,   5. ],\n",
       "       [ 40. , 314. ,  10.9,  83. ,   7. ,   6. ],\n",
       "       [ 77. , 276. ,   5.1,  88. ,   7. ,   7. ],\n",
       "       [ 97. , 267. ,   6.3,  92. ,   7. ,   8. ],\n",
       "       [ 97. , 272. ,   5.7,  92. ,   7. ,   9. ],\n",
       "       [ 85. , 175. ,   7.4,  89. ,   7. ,  10. ],\n",
       "       [  nan, 139. ,   8.6,  82. ,   7. ,  11. ],\n",
       "       [ 10. , 264. ,  14.3,  73. ,   7. ,  12. ],\n",
       "       [ 27. , 175. ,  14.9,  81. ,   7. ,  13. ],\n",
       "       [  nan, 291. ,  14.9,  91. ,   7. ,  14. ],\n",
       "       [  7. ,  48. ,  14.3,  80. ,   7. ,  15. ],\n",
       "       [ 48. , 260. ,   6.9,  81. ,   7. ,  16. ],\n",
       "       [ 35. , 274. ,  10.3,  82. ,   7. ,  17. ],\n",
       "       [ 61. , 285. ,   6.3,  84. ,   7. ,  18. ],\n",
       "       [ 79. , 187. ,   5.1,  87. ,   7. ,  19. ],\n",
       "       [ 63. , 220. ,  11.5,  85. ,   7. ,  20. ],\n",
       "       [ 16. ,   7. ,   6.9,  74. ,   7. ,  21. ],\n",
       "       [  nan, 258. ,   9.7,  81. ,   7. ,  22. ],\n",
       "       [  nan, 295. ,  11.5,  82. ,   7. ,  23. ],\n",
       "       [ 80. , 294. ,   8.6,  86. ,   7. ,  24. ],\n",
       "       [108. , 223. ,   8. ,  85. ,   7. ,  25. ],\n",
       "       [ 20. ,  81. ,   8.6,  82. ,   7. ,  26. ],\n",
       "       [ 52. ,  82. ,  12. ,  86. ,   7. ,  27. ],\n",
       "       [ 82. , 213. ,   7.4,  88. ,   7. ,  28. ],\n",
       "       [ 50. , 275. ,   7.4,  86. ,   7. ,  29. ],\n",
       "       [ 64. , 253. ,   7.4,  83. ,   7. ,  30. ],\n",
       "       [ 59. , 254. ,   9.2,  81. ,   7. ,  31. ],\n",
       "       [ 39. ,  83. ,   6.9,  81. ,   8. ,   1. ],\n",
       "       [  9. ,  24. ,  13.8,  81. ,   8. ,   2. ],\n",
       "       [ 16. ,  77. ,   7.4,  82. ,   8. ,   3. ],\n",
       "       [ 78. ,   nan,   6.9,  86. ,   8. ,   4. ],\n",
       "       [ 35. ,   nan,   7.4,  85. ,   8. ,   5. ],\n",
       "       [ 66. ,   nan,   4.6,  87. ,   8. ,   6. ],\n",
       "       [122. , 255. ,   4. ,  89. ,   8. ,   7. ],\n",
       "       [ 89. , 229. ,  10.3,  90. ,   8. ,   8. ],\n",
       "       [110. , 207. ,   8. ,  90. ,   8. ,   9. ],\n",
       "       [  nan, 222. ,   8.6,  92. ,   8. ,  10. ],\n",
       "       [  nan, 137. ,  11.5,  86. ,   8. ,  11. ],\n",
       "       [ 44. , 192. ,  11.5,  86. ,   8. ,  12. ],\n",
       "       [ 28. , 273. ,  11.5,  82. ,   8. ,  13. ],\n",
       "       [ 65. , 157. ,   9.7,  80. ,   8. ,  14. ],\n",
       "       [  nan,  64. ,  11.5,  79. ,   8. ,  15. ],\n",
       "       [ 22. ,  71. ,  10.3,  77. ,   8. ,  16. ],\n",
       "       [ 59. ,  51. ,   6.3,  79. ,   8. ,  17. ],\n",
       "       [ 23. , 115. ,   7.4,  76. ,   8. ,  18. ],\n",
       "       [ 31. , 244. ,  10.9,  78. ,   8. ,  19. ],\n",
       "       [ 44. , 190. ,  10.3,  78. ,   8. ,  20. ],\n",
       "       [ 21. , 259. ,  15.5,  77. ,   8. ,  21. ],\n",
       "       [  9. ,  36. ,  14.3,  72. ,   8. ,  22. ],\n",
       "       [  nan, 255. ,  12.6,  75. ,   8. ,  23. ],\n",
       "       [ 45. , 212. ,   9.7,  79. ,   8. ,  24. ],\n",
       "       [168. , 238. ,   3.4,  81. ,   8. ,  25. ],\n",
       "       [ 73. , 215. ,   8. ,  86. ,   8. ,  26. ],\n",
       "       [  nan, 153. ,   5.7,  88. ,   8. ,  27. ],\n",
       "       [ 76. , 203. ,   9.7,  97. ,   8. ,  28. ],\n",
       "       [118. , 225. ,   2.3,  94. ,   8. ,  29. ],\n",
       "       [ 84. , 237. ,   6.3,  96. ,   8. ,  30. ],\n",
       "       [ 85. , 188. ,   6.3,  94. ,   8. ,  31. ],\n",
       "       [ 96. , 167. ,   6.9,  91. ,   9. ,   1. ],\n",
       "       [ 78. , 197. ,   5.1,  92. ,   9. ,   2. ],\n",
       "       [ 73. , 183. ,   2.8,  93. ,   9. ,   3. ],\n",
       "       [ 91. , 189. ,   4.6,  93. ,   9. ,   4. ],\n",
       "       [ 47. ,  95. ,   7.4,  87. ,   9. ,   5. ],\n",
       "       [ 32. ,  92. ,  15.5,  84. ,   9. ,   6. ],\n",
       "       [ 20. , 252. ,  10.9,  80. ,   9. ,   7. ],\n",
       "       [ 23. , 220. ,  10.3,  78. ,   9. ,   8. ],\n",
       "       [ 21. , 230. ,  10.9,  75. ,   9. ,   9. ],\n",
       "       [ 24. , 259. ,   9.7,  73. ,   9. ,  10. ],\n",
       "       [ 44. , 236. ,  14.9,  81. ,   9. ,  11. ],\n",
       "       [ 21. , 259. ,  15.5,  76. ,   9. ,  12. ],\n",
       "       [ 28. , 238. ,   6.3,  77. ,   9. ,  13. ],\n",
       "       [  9. ,  24. ,  10.9,  71. ,   9. ,  14. ],\n",
       "       [ 13. , 112. ,  11.5,  71. ,   9. ,  15. ],\n",
       "       [ 46. , 237. ,   6.9,  78. ,   9. ,  16. ],\n",
       "       [ 18. , 224. ,  13.8,  67. ,   9. ,  17. ],\n",
       "       [ 13. ,  27. ,  10.3,  76. ,   9. ,  18. ],\n",
       "       [ 24. , 238. ,  10.3,  68. ,   9. ,  19. ],\n",
       "       [ 16. , 201. ,   8. ,  82. ,   9. ,  20. ],\n",
       "       [ 13. , 238. ,  12.6,  64. ,   9. ,  21. ],\n",
       "       [ 23. ,  14. ,   9.2,  71. ,   9. ,  22. ],\n",
       "       [ 36. , 139. ,  10.3,  81. ,   9. ,  23. ],\n",
       "       [  7. ,  49. ,  10.3,  69. ,   9. ,  24. ],\n",
       "       [ 14. ,  20. ,  16.6,  63. ,   9. ,  25. ],\n",
       "       [ 30. , 193. ,   6.9,  70. ,   9. ,  26. ],\n",
       "       [  nan, 145. ,  13.2,  77. ,   9. ,  27. ],\n",
       "       [ 14. , 191. ,  14.3,  75. ,   9. ,  28. ],\n",
       "       [ 18. , 131. ,   8. ,  76. ,   9. ,  29. ],\n",
       "       [ 20. , 223. ,  11.5,  68. ,   9. ,  30. ]])"
      ]
     },
     "execution_count": 37,
     "metadata": {},
     "output_type": "execute_result"
    }
   ],
   "source": [
    "# sol 2. csv -> 넘파이 배열\n",
    "# data = np.loadtxt('data/ozone_nonan.csv', delimiter = ',') # NAN 없어야 함\n",
    "data = np.genfromtxt('data/ozone.csv', \n",
    "                     delimiter = ',',\n",
    "                     skip_header = 1,\n",
    "                     missing_values = 'NA',\n",
    "                     filling_values = np.nan)\n",
    "data[:5]"
   ]
  },
  {
   "cell_type": "code",
   "execution_count": 48,
   "id": "18dfa8a4",
   "metadata": {
    "ExecuteTime": {
     "end_time": "2024-12-16T01:58:57.886393Z",
     "start_time": "2024-12-16T01:58:57.867054Z"
    }
   },
   "outputs": [
    {
     "name": "stdout",
     "output_type": "stream",
     "text": [
      "<class 'pandas.core.frame.DataFrame'>\n",
      "RangeIndex: 153 entries, 0 to 152\n",
      "Data columns (total 6 columns):\n",
      " #   Column   Non-Null Count  Dtype  \n",
      "---  ------   --------------  -----  \n",
      " 0   Ozone    116 non-null    float64\n",
      " 1   Solar.R  146 non-null    float64\n",
      " 2   Wind     153 non-null    float64\n",
      " 3   Temp     153 non-null    int64  \n",
      " 4   Month    153 non-null    int64  \n",
      " 5   Day      153 non-null    int64  \n",
      "dtypes: float64(3), int64(3)\n",
      "memory usage: 7.3 KB\n"
     ]
    }
   ],
   "source": [
    "# csv 파일 -> 데이터프레임 -> 결측치 -> 넘파이 배열 -> 머신러닝\n",
    "# import statsmodels.api as sm\n",
    "# sm.datasets.get_rdataset('airquality').data와 동일\n",
    "data = pd.read_csv('data/ozone.csv')\n",
    "data.info() # 결측치 처리 필수"
   ]
  },
  {
   "cell_type": "code",
   "execution_count": 53,
   "id": "466ce65e",
   "metadata": {
    "ExecuteTime": {
     "end_time": "2024-12-16T02:06:38.597317Z",
     "start_time": "2024-12-16T02:06:38.587621Z"
    }
   },
   "outputs": [
    {
     "data": {
      "text/plain": [
       "Ozone       42.129310\n",
       "Solar.R    185.931507\n",
       "Wind         9.957516\n",
       "Temp        77.882353\n",
       "Month        6.993464\n",
       "Day         15.803922\n",
       "dtype: float64"
      ]
     },
     "execution_count": 53,
     "metadata": {},
     "output_type": "execute_result"
    }
   ],
   "source": [
    "data.mean(axis = 0) # 열별 평균"
   ]
  },
  {
   "cell_type": "code",
   "execution_count": 79,
   "id": "5531ed32",
   "metadata": {
    "ExecuteTime": {
     "end_time": "2024-12-16T02:33:21.589266Z",
     "start_time": "2024-12-16T02:33:21.579621Z"
    }
   },
   "outputs": [
    {
     "data": {
      "text/plain": [
       "23.615384615384617"
      ]
     },
     "execution_count": 79,
     "metadata": {},
     "output_type": "execute_result"
    }
   ],
   "source": [
    "# 결측치 처리 \n",
    "# sol 1: 결측치 행을 제거\n",
    "# data.dropna(how = 'any', axis = 0) # axis = 0: 기본값 생략가능. 결측치가 한 열이라도 있는 행 삭제\n",
    "\n",
    "# sol 2: 열별 평균값으로 대체\n",
    "# data.fillna(value = data.mean())\n",
    "\n",
    "# sol 3: 열별 월별 평균값으로 대체\n",
    "mean_data = data.groupby('Month')[['Ozone', 'Solar.R']].mean()\n",
    "mean_data.loc[5, 'Ozone']"
   ]
  },
  {
   "cell_type": "code",
   "execution_count": 90,
   "id": "6df87672",
   "metadata": {
    "ExecuteTime": {
     "end_time": "2024-12-16T02:40:38.520681Z",
     "start_time": "2024-12-16T02:40:38.475266Z"
    }
   },
   "outputs": [],
   "source": [
    "def fill_nan(row):\n",
    "    \"row['Ozone']과 row['Solar.R']값이 결측치면 mean_data.loc[월, 열이름]으로 대체\"\n",
    "    # row = row.copy()\n",
    "    pd.options.mode.copy_on_write = True\n",
    "    if row.isna()['Ozone']:\n",
    "        row['Ozone'] = mean_data.loc[row.Month, 'Ozone']\n",
    "    if row.isna()['Solar.R']:\n",
    "        row['Solar.R'] = mean_data.loc[row.Month, 'Solar.R']\n",
    "    return row\n",
    "# data.loc[4], fill_nan(data.loc[4])\n",
    "data = data.apply(fill_nan, axis = 1)\n",
    "data = data[['Ozone', 'Solar.R', 'Wind', 'Temp']]"
   ]
  },
  {
   "cell_type": "code",
   "execution_count": 101,
   "id": "ae202ba9",
   "metadata": {
    "ExecuteTime": {
     "end_time": "2024-12-16T03:07:24.231764Z",
     "start_time": "2024-12-16T03:07:01.122787Z"
    }
   },
   "outputs": [
    {
     "name": "stdout",
     "output_type": "stream",
     "text": [
      "1번째 cost: 4595.4814453125\n",
      "2001번째 cost: 496.7695007324219\n",
      "4001번째 cost: 470.7384033203125\n",
      "6001번째 cost: 464.1844787597656\n",
      "8001번째 cost: 462.5245056152344\n",
      "10001번째 cost: 462.0943603515625\n",
      "12001번째 cost: 461.9730529785156\n",
      "14001번째 cost: 461.9294738769531\n",
      "최종 cost: 461.9163513183594,\n",
      "W:\n",
      "[[ 0.05532543]\n",
      " [-3.5694723 ]\n",
      " [ 0.8612244 ]]\n",
      "b:[-0.47158995]\n"
     ]
    }
   ],
   "source": [
    "# 독립변수 & 종속변수 (values: 판다스 데이터를 넘파이배열로)\n",
    "x_data = data[['Solar.R', 'Wind', 'Temp']].values\n",
    "x_data = data.iloc[:, 1:].values\n",
    "y_data = data['Ozone'].values.reshape(-1, 1)\n",
    "y_data = data[['Ozone']].values\n",
    "x_data.shape, y_data.shape\n",
    "\n",
    "# tensorflow 구현\n",
    "# 1. X, y\n",
    "X = tf.placeholder(shape = [None, 3],\n",
    "                   dtype = tf.float32)\n",
    "y = tf.placeholder(shape = [None, 1],\n",
    "                   dtype = tf.float32)\n",
    "# 2. 독립변수 3개, 종속변수 1개인 모델의 weight, bias\n",
    "W = tf.Variable(tf.random_normal([3, 1]))\n",
    "b = tf.Variable(tf.random_normal([1]))\n",
    "# 3. Hypothesis\n",
    "H = tf.matmul(X, W) + b # Matrix를 사용할 경우 관용적으로 대문자 사용, X를 앞에 위치\n",
    "# 4. cost함수 = loss함수 = 손실함수\n",
    "cost = tf.reduce_mean(tf.square(H - y))\n",
    "# 5. train\n",
    "train = tf.train.GradientDescentOptimizer(learning_rate = 1e-5).minimize(cost)\n",
    "# sess 객체 생성 & W, b 변수 초기화\n",
    "sess = tf.Session()\n",
    "sess.run(tf.global_variables_initializer())\n",
    "# 학습\n",
    "for step in range(1, 15001):\n",
    "    _, cost_val = sess.run([train, cost], feed_dict = {X : x_data,\n",
    "                                                       y : y_data})\n",
    "    if step % 2000 == 1:\n",
    "        print(\"{}번째 cost: {}\".format(step, cost_val))\n",
    "print(\"최종 cost: {},\\nW:\\n{}\\nb:{}\".format(cost_val, sess.run(W), sess.run(b)))"
   ]
  },
  {
   "cell_type": "code",
   "execution_count": 115,
   "id": "dc3706dc",
   "metadata": {
    "ExecuteTime": {
     "end_time": "2024-12-16T03:40:53.153370Z",
     "start_time": "2024-12-16T03:40:53.141817Z"
    }
   },
   "outputs": [
    {
     "data": {
      "text/plain": [
       "array([[10.581866]], dtype=float32)"
      ]
     },
     "execution_count": 115,
     "metadata": {},
     "output_type": "execute_result"
    }
   ],
   "source": [
    "# 예측하기 (독립변수 118, 8, 72면 종속변수는 얼마?)\n",
    "input_data = np.array([[118, 8, 72]])\n",
    "sess.run(H, feed_dict = {X: input_data})"
   ]
  },
  {
   "cell_type": "code",
   "execution_count": 125,
   "id": "9a153ecb",
   "metadata": {
    "ExecuteTime": {
     "end_time": "2024-12-16T03:46:52.585944Z",
     "start_time": "2024-12-16T03:46:52.507008Z"
    }
   },
   "outputs": [
    {
     "data": {
      "text/plain": [
       "((153, 3), (153, 1))"
      ]
     },
     "execution_count": 125,
     "metadata": {},
     "output_type": "execute_result"
    }
   ],
   "source": [
    "# MinMaxScaler, StandardScaler을 이용하여 스케일 조정 후 tensorflow 수행\n",
    "# 주로 0~1사이   주로 0근처\n",
    "data = pd.read_csv('data/ozone.csv')\n",
    "# 결측치 처리\n",
    "mean_data = data.groupby('Month')[['Ozone', 'Solar.R']].mean()\n",
    "def fill_nan(row):\n",
    "    \"row['Ozone']과 row['Solar.R']값이 결측치면 mean_data.loc[월, 열이름]으로 대체\"\n",
    "    # row = row.copy()\n",
    "    pd.options.mode.copy_on_write = True\n",
    "    if row.isna()['Ozone']:\n",
    "        row['Ozone'] = mean_data.loc[row.Month, 'Ozone']\n",
    "    if row.isna()['Solar.R']:\n",
    "        row['Solar.R'] = mean_data.loc[row.Month, 'Solar.R']\n",
    "    return row\n",
    "# data.loc[4], fill_nan(data.loc[4])\n",
    "data = data.apply(fill_nan, axis = 1)\n",
    "data = data[['Ozone', 'Solar.R', 'Wind', 'Temp']]\n",
    "# 독립변수 & 종속변수 (values: 판다스 데이터를 넘파이배열로)\n",
    "x_data = data.iloc[:, 1:].values\n",
    "y_data = data[['Ozone']].values\n",
    "# 독립변수와 종속변수의 scale 조정\n",
    "from sklearn.preprocessing import StandardScaler\n",
    "scaler_x = StandardScaler()\n",
    "scaled_x_data = scaler_x.fit_transform(x_data)\n",
    "scaler_y = StandardScaler()\n",
    "scaled_y_data = scaler_y.fit_transform(y_data)\n",
    "scaled_x_data.shape, scaled_y_data.shape"
   ]
  },
  {
   "cell_type": "code",
   "execution_count": 126,
   "id": "253b5493",
   "metadata": {
    "ExecuteTime": {
     "end_time": "2024-12-16T03:46:55.201550Z",
     "start_time": "2024-12-16T03:46:55.194591Z"
    }
   },
   "outputs": [
    {
     "data": {
      "text/plain": [
       "array([[ 0.05092139, -0.72833223, -1.15348973,  0.00504225],\n",
       "       [-0.77008922, -0.55746359, -0.62350796, -0.1644592 ]])"
      ]
     },
     "execution_count": 126,
     "metadata": {},
     "output_type": "execute_result"
    }
   ],
   "source": [
    "# 확인용\n",
    "np.column_stack([x_data[:2], y_data[:2]])\n",
    "np.column_stack([scaled_x_data[:2], scaled_y_data[:2]])"
   ]
  },
  {
   "cell_type": "code",
   "execution_count": 131,
   "id": "56a7bef1",
   "metadata": {
    "ExecuteTime": {
     "end_time": "2024-12-16T03:50:29.351632Z",
     "start_time": "2024-12-16T03:49:27.066270Z"
    }
   },
   "outputs": [
    {
     "name": "stdout",
     "output_type": "stream",
     "text": [
      "1번째 cost: 3.285945415496826\n",
      "3001번째 cost: 2.872702121734619\n",
      "6001번째 cost: 2.525599479675293\n",
      "9001번째 cost: 2.2337067127227783\n",
      "12001번째 cost: 1.9879333972930908\n",
      "15001번째 cost: 1.7806745767593384\n",
      "18001번째 cost: 1.6056276559829712\n",
      "21001번째 cost: 1.4575402736663818\n",
      "24001번째 cost: 1.3320198059082031\n",
      "27001번째 cost: 1.225414752960205\n",
      "30001번째 cost: 1.1346830129623413\n",
      "33001번째 cost: 1.0572785139083862\n",
      "36001번째 cost: 0.9910817742347717\n",
      "39001번째 cost: 0.934321403503418\n",
      "최종 cost: 0.9172532558441162\n"
     ]
    }
   ],
   "source": [
    "# tensorflow 구현\n",
    "# 1. X, y\n",
    "X = tf.placeholder(shape = [None, 3],\n",
    "                   dtype = tf.float32)\n",
    "y = tf.placeholder(shape = [None, 1],\n",
    "                   dtype = tf.float32)\n",
    "# 2. 독립변수 3개, 종속변수 1개인 모델의 weight, bias\n",
    "W = tf.Variable(tf.random_normal([3, 1]))\n",
    "b = tf.Variable(tf.random_normal([1]))\n",
    "# 3. Hypothesis\n",
    "H = tf.matmul(X, W) + b # Matrix를 사용할 경우 관용적으로 대문자 사용, X를 앞에 위치\n",
    "# 4. cost함수 = loss함수 = 손실함수\n",
    "cost = tf.reduce_mean(tf.square(H - y))\n",
    "# 5. train\n",
    "train = tf.train.GradientDescentOptimizer(learning_rate = 1e-5).minimize(cost)\n",
    "# sess 객체 생성 & W, b 변수 초기화\n",
    "sess = tf.Session()\n",
    "sess.run(tf.global_variables_initializer())\n",
    "# 학습\n",
    "for step in range(1, 40001):\n",
    "    _, cost_val = sess.run([train, cost], feed_dict = {X : scaled_x_data,\n",
    "                                                       y : scaled_y_data})\n",
    "    if step % 3000 == 1:\n",
    "        print(\"{}번째 cost: {}\".format(step, cost_val))\n",
    "print(\"최종 cost: {}\".format(cost_val))"
   ]
  },
  {
   "cell_type": "code",
   "execution_count": 132,
   "id": "358a55d9",
   "metadata": {
    "ExecuteTime": {
     "end_time": "2024-12-16T03:50:34.527530Z",
     "start_time": "2024-12-16T03:50:34.499102Z"
    }
   },
   "outputs": [
    {
     "data": {
      "text/plain": [
       "array([[36.782513]], dtype=float32)"
      ]
     },
     "execution_count": 132,
     "metadata": {},
     "output_type": "execute_result"
    }
   ],
   "source": [
    "# 예측하기 (독립변수 118, 8, 72면 종속변수는 얼마?)\n",
    "input_data = np.array([[118, 8, 72]])\n",
    "predict_data = sess.run(H, feed_dict = {X: scaler_x.transform(input_data)})\n",
    "scaler_y.inverse_transform(predict_data)"
   ]
  },
  {
   "cell_type": "markdown",
   "id": "ac3f2d11",
   "metadata": {},
   "source": [
    "# 3. logistic Regression = Binary classification(binary 분석)\n",
    "- logistic 회귀분석 vs 회귀분석: 기존의 회귀분석과는 다른 cost 계산 방식 필요"
   ]
  },
  {
   "cell_type": "code",
   "execution_count": 141,
   "id": "53d27374",
   "metadata": {
    "ExecuteTime": {
     "end_time": "2024-12-16T04:06:23.547363Z",
     "start_time": "2024-12-16T04:06:23.318071Z"
    }
   },
   "outputs": [
    {
     "data": {
      "image/png": "[encoded data removed]",
      "text/plain": [
       "<Figure size 500x200 with 1 Axes>"
      ]
     },
     "metadata": {},
     "output_type": "display_data"
    }
   ],
   "source": [
    "from scipy import stats\n",
    "import matplotlib.pyplot as plt\n",
    "plt.figure(figsize = (5, 2))\n",
    "x = np.array([1, 2, 5, 8, 40])\n",
    "y = np.array([0, 0, 0, 1, 1]) # 실제값\n",
    "lm = stats.linregress(x, y)\n",
    "list(lm)\n",
    "H = lm[0]*x + lm[1] # 예측값\n",
    "plt.scatter(x, y)\n",
    "plt.plot(x, H, 'r')\n",
    "plt.show()"
   ]
  },
  {
   "cell_type": "markdown",
   "id": "f242cbf8",
   "metadata": {},
   "source": [
    "![sigmoid](https://mlnotebook.github.io/img/transferFunctions/sigmoid.png)"
   ]
  },
  {
   "cell_type": "code",
   "execution_count": 150,
   "id": "3fb1e0b2",
   "metadata": {
    "ExecuteTime": {
     "end_time": "2024-12-16T05:41:33.655051Z",
     "start_time": "2024-12-16T05:41:10.404693Z"
    }
   },
   "outputs": [
    {
     "name": "stdout",
     "output_type": "stream",
     "text": [
      "1번째 cost:4.153297424316406\n",
      "1001번째 cost:0.19090811908245087\n",
      "2001번째 cost:0.1490849107503891\n",
      "3001번째 cost:0.12370074540376663\n",
      "4001번째 cost:0.10554548352956772\n",
      "5001번째 cost:0.09179357439279556\n",
      "6001번째 cost:0.08103112131357193\n",
      "7001번째 cost:0.07240509986877441\n",
      "8001번째 cost:0.06535682082176208\n",
      "9001번째 cost:0.05950324982404709\n",
      "최종 cost:0.054577890783548355\n"
     ]
    }
   ],
   "source": [
    "# 교안 p50\n",
    "x_data = np.array([[10, 0],\n",
    "                   [8, 1],\n",
    "                   [3, 3],\n",
    "                   [2, 3],\n",
    "                   [5, 1],\n",
    "                   [2, 0],\n",
    "                   [1, 0]])\n",
    "y_data = np.array([[1],\n",
    "                   [1],\n",
    "                   [1],\n",
    "                   [1],\n",
    "                   [0],\n",
    "                   [0],\n",
    "                   [0]])\n",
    "# X, y\n",
    "X = tf.placeholder(shape = [None, 2],\n",
    "                   dtype = tf.float32)\n",
    "y = tf.placeholder(shape = [None, 1],\n",
    "                   dtype = tf.float32)\n",
    "# 독립변수가 2개, 종속변수가 1개인 weight & bias\n",
    "W = tf.Variable(tf.random_normal([2, 1]))\n",
    "b = tf.Variable(tf.random_normal([1]))\n",
    "# Hypothesis\n",
    "logits = tf.matmul(X, W) + b\n",
    "H      = tf.sigmoid(logits)\n",
    "# cost 함수\n",
    "# cost = tf.reduce_mean(tf.square(H - y))\n",
    "cost = tf.reduce_mean(tf.nn.sigmoid_cross_entropy_with_logits(logits = logits,\n",
    "                                                              labels = y))\n",
    "\n",
    "# train\n",
    "train = tf.train.GradientDescentOptimizer(learning_rate = .1).minimize(cost)\n",
    "# sess & 초기화\n",
    "sess = tf.Session()\n",
    "sess.run(tf.global_variables_initializer())\n",
    "# 학습\n",
    "for step in range(1, 10001):\n",
    "    _, cost_val = sess.run([train, cost], feed_dict = {X:x_data,\n",
    "                                                       y:y_data})\n",
    "    if step % 1000 == 1:\n",
    "        print('{}번째 cost:{}'.format(step, cost_val))\n",
    "print('최종 cost:{}'.format(cost_val))"
   ]
  },
  {
   "cell_type": "code",
   "execution_count": 160,
   "id": "786fded2",
   "metadata": {
    "ExecuteTime": {
     "end_time": "2024-12-16T05:46:36.439009Z",
     "start_time": "2024-12-16T05:46:36.292628Z"
    }
   },
   "outputs": [
    {
     "name": "stdout",
     "output_type": "stream",
     "text": [
      "모델의 정확도: 100.0 %\n"
     ]
    }
   ],
   "source": [
    "# accuracy\n",
    "# sess.run(H > .5, feed_dict = {X:x_data})\n",
    "# cast() 형변환\n",
    "predict = tf.cast(H >= .5, \n",
    "                  dtype = tf.float32)\n",
    "# sess.run(predict, feed_dict = {X:x_data})\n",
    "correct = tf.equal(predict, y)\n",
    "sess.run(correct, feed_dict = {X : x_data,\n",
    "                               y : y_data})\n",
    "accuracy = tf.reduce_mean(tf.cast(correct, dtype = tf.float32))\n",
    "print('모델의 정확도:', sess.run(accuracy, feed_dict = {X : x_data,\n",
    "                                                       y : y_data})*100, '%')"
   ]
  },
  {
   "cell_type": "code",
   "execution_count": 161,
   "id": "62ee6f27",
   "metadata": {
    "ExecuteTime": {
     "end_time": "2024-12-16T05:48:40.294906Z",
     "start_time": "2024-12-16T05:48:40.260705Z"
    }
   },
   "outputs": [
    {
     "data": {
      "text/plain": [
       "array([[1.]], dtype=float32)"
      ]
     },
     "execution_count": 161,
     "metadata": {},
     "output_type": "execute_result"
    }
   ],
   "source": [
    "# 모델 사용하기 == 예측하기\n",
    "input_data = np.array([[10, 3]])\n",
    "sess.run(predict, feed_dict = {X:input_data})"
   ]
  },
  {
   "cell_type": "markdown",
   "id": "d631d649",
   "metadata": {},
   "source": [
    "# 4. 분류분석\n",
    "- 종속변수가 2개 이상\n",
    "- 교안 p54"
   ]
  },
  {
   "cell_type": "code",
   "execution_count": 192,
   "id": "b440d342",
   "metadata": {
    "ExecuteTime": {
     "end_time": "2024-12-16T06:27:30.637782Z",
     "start_time": "2024-12-16T06:27:30.621159Z"
    }
   },
   "outputs": [
    {
     "name": "stdout",
     "output_type": "stream",
     "text": [
      "sol 1:\n",
      " [[1. 0. 0.]\n",
      " [1. 0. 0.]\n",
      " [0. 1. 0.]\n",
      " [0. 1. 0.]\n",
      " [0. 1. 0.]\n",
      " [0. 0. 1.]\n",
      " [0. 0. 1.]]\n",
      "sol 2:\n",
      " [[1 0 0]\n",
      " [1 0 0]\n",
      " [0 1 0]\n",
      " [0 1 0]\n",
      " [0 1 0]\n",
      " [0 0 1]\n",
      " [0 0 1]]\n",
      "sol 3:\n",
      " [[1 0 0]\n",
      " [1 0 0]\n",
      " [0 1 0]\n",
      " [0 1 0]\n",
      " [0 1 0]\n",
      " [0 0 1]\n",
      " [0 0 1]]\n"
     ]
    },
    {
     "data": {
      "text/plain": [
       "((7, 4), (7, 3))"
      ]
     },
     "execution_count": 192,
     "metadata": {},
     "output_type": "execute_result"
    }
   ],
   "source": [
    "x_data = np.array([[10 ,7, 8, 5],\n",
    "                   [8, 8, 9, 4],\n",
    "                   [7, 8, 2, 3],\n",
    "                   [6, 3, 9, 3],\n",
    "                   [7, 5, 7, 4],\n",
    "                   [3, 5, 6, 2],\n",
    "                   [2, 4, 3, 1]])\n",
    "y_data = np.array([[\"A\"],\n",
    "                   [\"A\"],\n",
    "                   [\"B\"],\n",
    "                   [\"B\"],\n",
    "                   [\"B\"],\n",
    "                   [\"C\"],\n",
    "                   [\"C\"]])\n",
    "# 종속변수가 다중분류면 One-Hot Encoding (교안 p58)\n",
    "# sol 1\n",
    "from sklearn.preprocessing import LabelEncoder\n",
    "from tensorflow.keras.utils import to_categorical\n",
    "# to_categorical(y_data) # Error\n",
    "\n",
    "encoder = LabelEncoder()\n",
    "labeled_y_data = encoder.fit_transform(y_data.ravel())\n",
    "onehot_y_data = to_categorical(labeled_y_data)\n",
    "print('sol 1:\\n', onehot_y_data)\n",
    "\n",
    "# sol 2\n",
    "from sklearn.preprocessing import LabelEncoder\n",
    "import pandas as pd\n",
    "encoder = LabelEncoder()\n",
    "labeled_y_data = encoder.fit_transform(y_data.ravel())\n",
    "onehot_y_data = pd.get_dummies(labeled_y_data).values # pd.get_dummies의 결과 데이터프레임\n",
    "print('sol 2:\\n', onehot_y_data)\n",
    "\n",
    "# sol 3\n",
    "# pd.get_dummies(pd.DataFrame(y_data))\n",
    "onehot_y_data = pd.get_dummies(y_data.ravel()).values\n",
    "print('sol 3:\\n', onehot_y_data)\n",
    "x_data.shape, onehot_y_data.shape"
   ]
  },
  {
   "cell_type": "code",
   "execution_count": 193,
   "id": "8d171db6",
   "metadata": {
    "ExecuteTime": {
     "end_time": "2024-12-16T06:29:07.760839Z",
     "start_time": "2024-12-16T06:29:07.753041Z"
    }
   },
   "outputs": [
    {
     "data": {
      "text/plain": [
       "array([[10,  7,  8,  5],\n",
       "       [ 8,  8,  9,  4],\n",
       "       [ 7,  8,  2,  3],\n",
       "       [ 6,  3,  9,  3],\n",
       "       [ 7,  5,  7,  4],\n",
       "       [ 3,  5,  6,  2],\n",
       "       [ 2,  4,  3,  1]])"
      ]
     },
     "execution_count": 193,
     "metadata": {},
     "output_type": "execute_result"
    }
   ],
   "source": [
    "x_data # 독립변수"
   ]
  },
  {
   "cell_type": "code",
   "execution_count": 194,
   "id": "8b834035",
   "metadata": {
    "ExecuteTime": {
     "end_time": "2024-12-16T06:29:16.812107Z",
     "start_time": "2024-12-16T06:29:16.805273Z"
    }
   },
   "outputs": [
    {
     "data": {
      "text/plain": [
       "array([[1, 0, 0],\n",
       "       [1, 0, 0],\n",
       "       [0, 1, 0],\n",
       "       [0, 1, 0],\n",
       "       [0, 1, 0],\n",
       "       [0, 0, 1],\n",
       "       [0, 0, 1]], dtype=uint8)"
      ]
     },
     "execution_count": 194,
     "metadata": {},
     "output_type": "execute_result"
    }
   ],
   "source": [
    "onehot_y_data # 종속변수"
   ]
  },
  {
   "cell_type": "code",
   "execution_count": 202,
   "id": "782ce7c6",
   "metadata": {
    "ExecuteTime": {
     "end_time": "2024-12-16T06:53:11.886860Z",
     "start_time": "2024-12-16T06:52:52.747727Z"
    }
   },
   "outputs": [
    {
     "name": "stdout",
     "output_type": "stream",
     "text": [
      "1번째 cost:4.583333492279053\n",
      "1001번째 cost:1.2144931554794312\n",
      "2001번째 cost:0.051496472209692\n",
      "3001번째 cost:0.03915766254067421\n",
      "4001번째 cost:0.03289083018898964\n",
      "5001번째 cost:0.028557905927300453\n",
      "6001번째 cost:0.025279883295297623\n",
      "7001번째 cost:0.022688711062073708\n",
      "8001번째 cost:0.020581791177392006\n",
      "9001번째 cost:0.018832718953490257\n",
      "최종 cost:0.01735799014568329\n"
     ]
    }
   ],
   "source": [
    "# X, y\n",
    "X = tf.placeholder(shape = [None, 4],\n",
    "                   dtype = tf.float32)\n",
    "Y = tf.placeholder(shape = [None, 3],\n",
    "                   dtype = tf.float32)\n",
    "# 독립변수가 4개, 종속변수가 3개인 weight & bias\n",
    "W = tf.Variable(tf.random_normal([4, 3]))\n",
    "b = tf.Variable(tf.random_normal([3]))\n",
    "# Hypothesis\n",
    "logits = tf.matmul(X, W) + b\n",
    "H      = tf.nn.softmax(logits) # softmax: 종속변수들의 합이 1\n",
    "# H      = tf.sigmoid(logits) # binary classification(이진분류)일 경우\n",
    "\n",
    "# cost 함수\n",
    "# cost = tf.reduce_mean(tf.square(H - y))\n",
    "cost = tf.reduce_mean(tf.nn.softmax_cross_entropy_with_logits_v2(logits = logits,\n",
    "                                                                 labels = Y))\n",
    "\n",
    "# train\n",
    "train = tf.train.GradientDescentOptimizer(learning_rate = .1).minimize(cost)\n",
    "# sess & 초기화\n",
    "sess = tf.Session()\n",
    "sess.run(tf.global_variables_initializer())\n",
    "# 학습\n",
    "for step in range(1, 10001):\n",
    "    _, cost_val = sess.run([train, cost], feed_dict = {X:x_data,\n",
    "                                                       Y:onehot_y_data})\n",
    "    if step % 1000 == 1:\n",
    "        print('{}번째 cost:{}'.format(step, cost_val))\n",
    "print('최종 cost:{}'.format(cost_val))"
   ]
  },
  {
   "cell_type": "code",
   "execution_count": 198,
   "id": "1fb2e44c",
   "metadata": {
    "ExecuteTime": {
     "end_time": "2024-12-16T06:45:50.694668Z",
     "start_time": "2024-12-16T06:45:50.684526Z"
    }
   },
   "outputs": [
    {
     "name": "stdout",
     "output_type": "stream",
     "text": [
      "[[9.6799588e-01 3.2004073e-02 2.8224881e-12]]\n",
      "[0]\n"
     ]
    }
   ],
   "source": [
    "# 예측하기\n",
    "input_data = np.array([[10, 7, 8, 5]])\n",
    "y_hat = sess.run(H, feed_dict = {X:input_data})\n",
    "print(y_hat)\n",
    "print(y_hat.argmax(axis = 1)) # argmax(axis = 1): 행별 최댓값이 있는 index"
   ]
  },
  {
   "cell_type": "code",
   "execution_count": 212,
   "id": "f4904772",
   "metadata": {
    "ExecuteTime": {
     "end_time": "2024-12-16T06:56:14.060092Z",
     "start_time": "2024-12-16T06:56:13.972447Z"
    }
   },
   "outputs": [
    {
     "name": "stdout",
     "output_type": "stream",
     "text": [
      "100.0 %\n"
     ]
    }
   ],
   "source": [
    "# accuracy 측정\n",
    "# H(예측값): 0.99, 0.005, 0.005 -> H.argmax -> 0\n",
    "# y(실제값):   1      0      0  -> Y.argmax -> 0\n",
    "predict = tf.argmax(H, axis = 1)\n",
    "# sess.run(predict, feed_dict = {X:x_data})\n",
    "correct = tf.equal(predict, tf.argmax(Y, axis = 1))\n",
    "# sess.run(correct, feed_dict = {X:x_data,\n",
    "#                                Y:onehot_y_data})\n",
    "accuracy = tf.reduce_mean(tf.cast(correct, dtype = tf.float32))\n",
    "print(sess.run(accuracy, feed_dict = {X:x_data,\n",
    "                                      Y:onehot_y_data})*100, '%')"
   ]
  },
  {
   "cell_type": "markdown",
   "id": "d8860b3b",
   "metadata": {},
   "source": [
    "# 5. XOR(교안 p77)"
   ]
  },
  {
   "cell_type": "code",
   "execution_count": 216,
   "id": "fbc52102",
   "metadata": {
    "ExecuteTime": {
     "end_time": "2024-12-16T07:29:29.305638Z",
     "start_time": "2024-12-16T07:29:29.299655Z"
    }
   },
   "outputs": [],
   "source": [
    "# dataset\n",
    "x_data = np.array([[0, 0],\n",
    "                   [0, 1],\n",
    "                   [1, 0],\n",
    "                   [1, 1]])\n",
    "y_data = np.array([[0],\n",
    "                   [1],\n",
    "                   [1],\n",
    "                   [0]])"
   ]
  },
  {
   "cell_type": "code",
   "execution_count": 223,
   "id": "a067d901",
   "metadata": {
    "ExecuteTime": {
     "end_time": "2024-12-16T07:34:12.046106Z",
     "start_time": "2024-12-16T07:33:49.504094Z"
    }
   },
   "outputs": [
    {
     "name": "stdout",
     "output_type": "stream",
     "text": [
      "1번째 cost:0.739063024520874\n",
      "1001번째 cost:0.6977313756942749\n",
      "2001번째 cost:0.6952003240585327\n",
      "3001번째 cost:0.6940739154815674\n",
      "4001번째 cost:0.6935669183731079\n",
      "5001번째 cost:0.6933377981185913\n",
      "6001번째 cost:0.6932339072227478\n",
      "7001번째 cost:0.6931866407394409\n",
      "8001번째 cost:0.6931651830673218\n",
      "9001번째 cost:0.6931554079055786\n",
      "최종 cost:0.6931509375572205\n"
     ]
    }
   ],
   "source": [
    "# X, y\n",
    "X = tf.placeholder(shape = [None, 2],\n",
    "                   dtype = tf.float32)\n",
    "y = tf.placeholder(shape = [None, 1],\n",
    "                   dtype = tf.float32)\n",
    "# 독립변수가 2개, 종속변수가 1개인 weight & bias\n",
    "W = tf.Variable(tf.random_normal([2, 1]))\n",
    "b = tf.Variable(tf.random_normal([1]))\n",
    "# Hypothesis\n",
    "logits = tf.matmul(X, W) + b\n",
    "H      = tf.sigmoid(logits)\n",
    "# cost 함수\n",
    "# cost = tf.reduce_mean(tf.square(H - y))\n",
    "cost = tf.reduce_mean(tf.nn.sigmoid_cross_entropy_with_logits(logits = logits,\n",
    "                                                              labels = y))\n",
    "\n",
    "# train\n",
    "train = tf.train.GradientDescentOptimizer(learning_rate = .01).minimize(cost)\n",
    "# sess & 초기화\n",
    "sess = tf.Session()\n",
    "sess.run(tf.global_variables_initializer())\n",
    "# 학습\n",
    "for step in range(1, 10001):\n",
    "    _, cost_val = sess.run([train, cost], feed_dict = {X:x_data,\n",
    "                                                       y:y_data})\n",
    "    if step % 1000 == 1:\n",
    "        print('{}번째 cost:{}'.format(step, cost_val))\n",
    "print('최종 cost:{}'.format(cost_val))"
   ]
  },
  {
   "cell_type": "code",
   "execution_count": 227,
   "id": "02d0b99e",
   "metadata": {
    "ExecuteTime": {
     "end_time": "2024-12-16T07:39:40.752328Z",
     "start_time": "2024-12-16T07:39:40.533662Z"
    }
   },
   "outputs": [
    {
     "data": {
      "text/plain": [
       "0.75"
      ]
     },
     "execution_count": 227,
     "metadata": {},
     "output_type": "execute_result"
    }
   ],
   "source": [
    "# accuracy 측정\n",
    "predict = tf.cast(H >= .5, dtype = tf.float32)\n",
    "sess.run(predict, feed_dict = {X:x_data})\n",
    "correct = tf.equal(predict, y)\n",
    "# sess.run(correct, feed_dict = {X:x_data, \n",
    "#                                y:y_data})\n",
    "accuracy = tf.reduce_mean(tf.cast(correct, dtype = tf.float32))\n",
    "sess.run(accuracy, feed_dict = {X:x_data,\n",
    "                                y:y_data})"
   ]
  },
  {
   "cell_type": "markdown",
   "id": "c803bb32",
   "metadata": {},
   "source": [
    "# 6. Deep Learning XOR 예제"
   ]
  },
  {
   "attachments": {
    "image.png": {
     "image/png": "[encoded data removed]"
    }
   },
   "cell_type": "markdown",
   "id": "5e0dc75a",
   "metadata": {},
   "source": [
    "![relu, sigmoid](attachment:image.png))"
   ]
  },
  {
   "cell_type": "code",
   "execution_count": 231,
   "id": "57dac6ca",
   "metadata": {
    "ExecuteTime": {
     "end_time": "2024-12-16T08:19:57.594004Z",
     "start_time": "2024-12-16T08:19:30.245090Z"
    }
   },
   "outputs": [
    {
     "name": "stdout",
     "output_type": "stream",
     "text": [
      "1번째 cost:1.017961025238037\n",
      "1001번째 cost:0.20663803815841675\n",
      "2001번째 cost:0.10935445874929428\n",
      "3001번째 cost:0.07246419787406921\n",
      "4001번째 cost:0.05353953689336777\n",
      "5001번째 cost:0.04206955432891846\n",
      "6001번째 cost:0.03443976491689682\n",
      "7001번째 cost:0.02901759371161461\n",
      "8001번째 cost:0.02498917654156685\n",
      "9001번째 cost:0.02188677154481411\n",
      "최종 cost:0.019435055553913116\n"
     ]
    }
   ],
   "source": [
    "# dataset\n",
    "x_data = np.array([[0, 0],\n",
    "                   [0, 1],\n",
    "                   [1, 0],\n",
    "                   [1, 1]])\n",
    "y_data = np.array([[0],\n",
    "                   [1],\n",
    "                   [1],\n",
    "                   [0]])\n",
    "# X, y\n",
    "X = tf.placeholder(shape = [None, 2],\n",
    "                   dtype = tf.float32)\n",
    "y = tf.placeholder(shape = [None, 1],\n",
    "                   dtype = tf.float32)\n",
    "\n",
    "# layer1의 weight & bias (layer1 = 입력2, 출력4)\n",
    "W1 = tf.Variable(tf.random_normal([2, 4]),\n",
    "                 name = 'weight1')\n",
    "b1 = tf.Variable(tf.random_normal([4]),\n",
    "                 name = 'bias1')\n",
    "# logits = tf.matmul(X, W1) + b1\n",
    "# H1 = tf.sigmoid(logits)\n",
    "layer1 = tf.nn.relu(tf.matmul(X, W1) + b1)\n",
    "\n",
    "# layer2의 weight & bias (layer2 = 입력4, 출력1): 마지막 출력층\n",
    "W2 = tf.Variable(tf.random_normal([4, 1]),\n",
    "                 name = 'weight2')\n",
    "b2 = tf.Variable(tf.random_normal([1]),\n",
    "                 name = 'bias2')\n",
    "# hypothesis\n",
    "logits = tf.matmul(layer1, W2) + b2\n",
    "H = tf.sigmoid(logits)\n",
    "\n",
    "# cost 함수\n",
    "# cost = tf.reduce_mean(tf.square(H - y))\n",
    "cost = tf.reduce_mean(tf.nn.sigmoid_cross_entropy_with_logits(logits = logits,\n",
    "                                                              labels = y))\n",
    "\n",
    "# train\n",
    "train = tf.train.GradientDescentOptimizer(learning_rate = .01).minimize(cost)\n",
    "# sess & 초기화\n",
    "sess = tf.Session()\n",
    "sess.run(tf.global_variables_initializer())\n",
    "# 학습\n",
    "for step in range(1, 10001):\n",
    "    _, cost_val = sess.run([train, cost], feed_dict = {X:x_data,\n",
    "                                                       y:y_data})\n",
    "    if step % 1000 == 1:\n",
    "        print('{}번째 cost:{}'.format(step, cost_val))\n",
    "print('최종 cost:{}'.format(cost_val))"
   ]
  },
  {
   "cell_type": "code",
   "execution_count": 233,
   "id": "7d3a7b32",
   "metadata": {
    "ExecuteTime": {
     "end_time": "2024-12-16T08:20:01.810767Z",
     "start_time": "2024-12-16T08:20:01.597645Z"
    }
   },
   "outputs": [
    {
     "data": {
      "text/plain": [
       "1.0"
      ]
     },
     "execution_count": 233,
     "metadata": {},
     "output_type": "execute_result"
    }
   ],
   "source": [
    "# accuracy 측정\n",
    "predict = tf.cast(H >= .5, dtype = tf.float32)\n",
    "sess.run(predict, feed_dict = {X:x_data})\n",
    "correct = tf.equal(predict, y)\n",
    "# sess.run(correct, feed_dict = {X:x_data, \n",
    "#                                y:y_data})\n",
    "accuracy = tf.reduce_mean(tf.cast(correct, dtype = tf.float32))\n",
    "sess.run(accuracy, feed_dict = {X:x_data,\n",
    "                                y:y_data})"
   ]
  },
  {
   "cell_type": "markdown",
   "id": "bc242530",
   "metadata": {},
   "source": [
    "## layer층을 X2 -> 10 -> 20 -> 10 -> y1\n",
    "              입력층      hidden layer      출력층"
   ]
  },
  {
   "cell_type": "code",
   "execution_count": 235,
   "id": "15010cf7",
   "metadata": {
    "ExecuteTime": {
     "end_time": "2024-12-16T08:32:24.540815Z",
     "start_time": "2024-12-16T08:31:50.037231Z"
    }
   },
   "outputs": [
    {
     "name": "stdout",
     "output_type": "stream",
     "text": [
      "1번째 cost:1.9564439058303833\n",
      "1001번째 cost:0.0022885329090058804\n",
      "2001번째 cost:0.0010960799409076571\n",
      "3001번째 cost:0.0006980833131819963\n",
      "4001번째 cost:0.0005047866725362837\n",
      "5001번째 cost:0.0003878595307469368\n",
      "6001번째 cost:0.0003010293876286596\n",
      "7001번째 cost:0.00024340210075024515\n",
      "8001번째 cost:0.00020415364997461438\n",
      "9001번째 cost:0.00017904416017699987\n",
      "최종 cost:0.00015927833737805486\n"
     ]
    }
   ],
   "source": [
    "# dataset\n",
    "x_data = np.array([[0, 0],\n",
    "                   [0, 1],\n",
    "                   [1, 0],\n",
    "                   [1, 1]])\n",
    "y_data = np.array([[0],\n",
    "                   [1],\n",
    "                   [1],\n",
    "                   [0]])\n",
    "# X, y\n",
    "X = tf.placeholder(shape = [None, 2],\n",
    "                   dtype = tf.float32)\n",
    "y = tf.placeholder(shape = [None, 1],\n",
    "                   dtype = tf.float32)\n",
    "\n",
    "# layer1의 weight & bias (layer1 = 입력2, 출력10)\n",
    "W1 = tf.Variable(tf.random_normal([2, 10]),\n",
    "                 name = 'weight1')\n",
    "b1 = tf.Variable(tf.random_normal([10]),\n",
    "                 name = 'bias1')\n",
    "layer1 = tf.nn.relu(tf.matmul(X, W1) + b1)\n",
    "\n",
    "# layer2의 weight & bias (layer2 = 입력10, 출력20)\n",
    "W2 = tf.Variable(tf.random_normal([10, 20]),\n",
    "                 name = 'weight2')\n",
    "b2 = tf.Variable(tf.random_normal([20]),\n",
    "                 name = 'bias2')\n",
    "layer2 = tf.nn.relu(tf.matmul(layer1, W2) + b2)\n",
    "\n",
    "# layer3의 weight & bias (layer3 = 입력20, 출력10)\n",
    "W3 = tf.Variable(tf.random_normal([20, 10]),\n",
    "                 name = 'weight3')\n",
    "b3 = tf.Variable(tf.random_normal([10]),\n",
    "                 name = 'bias3')\n",
    "layer3 = tf.nn.relu(tf.matmul(layer2, W3) + b3)\n",
    "\n",
    "# layer4의 weight & bias (마지막 출력층 = 입력10, 출력1): \n",
    "W4 = tf.Variable(tf.random_normal([10, 1]))\n",
    "b4 = tf.Variable(tf.random_normal([1]))\n",
    "\n",
    "# hypothesis\n",
    "logits = tf.matmul(layer3, W4) + b4\n",
    "H = tf.sigmoid(logits)\n",
    "\n",
    "# cost 함수\n",
    "# cost = tf.reduce_mean(tf.square(H - y))\n",
    "cost = tf.reduce_mean(tf.nn.sigmoid_cross_entropy_with_logits(logits = logits,\n",
    "                                                              labels = y))\n",
    "\n",
    "# train\n",
    "train = tf.train.GradientDescentOptimizer(learning_rate = .01).minimize(cost)\n",
    "# sess & 초기화\n",
    "sess = tf.Session()\n",
    "sess.run(tf.global_variables_initializer())\n",
    "# 학습\n",
    "for step in range(1, 10001):\n",
    "    _, cost_val = sess.run([train, cost], feed_dict = {X:x_data,\n",
    "                                                       y:y_data})\n",
    "    if step % 1000 == 1:\n",
    "        print('{}번째 cost:{}'.format(step, cost_val))\n",
    "print('최종 cost:{}'.format(cost_val))"
   ]
  },
  {
   "cell_type": "code",
   "execution_count": 239,
   "id": "aee26d04",
   "metadata": {
    "ExecuteTime": {
     "end_time": "2024-12-16T08:34:42.874322Z",
     "start_time": "2024-12-16T08:34:42.628891Z"
    }
   },
   "outputs": [
    {
     "name": "stdout",
     "output_type": "stream",
     "text": [
      "100.0 %\n"
     ]
    }
   ],
   "source": [
    "# accuracy 측정\n",
    "predict = tf.cast(H >= .5, dtype = tf.float32)\n",
    "sess.run(predict, feed_dict = {X:x_data})\n",
    "correct = tf.equal(predict, y)\n",
    "# sess.run(correct, feed_dict = {X:x_data, \n",
    "#                                y:y_data})\n",
    "accuracy = tf.reduce_mean(tf.cast(correct, dtype = tf.float32))\n",
    "print(sess.run(accuracy, feed_dict = {X:x_data,\n",
    "                                      y:y_data})*100, '%')"
   ]
  },
  {
   "cell_type": "code",
   "execution_count": null,
   "id": "b9436b52",
   "metadata": {},
   "outputs": [],
   "source": []
  },
  {
   "cell_type": "code",
   "execution_count": null,
   "id": "a3ed7090",
   "metadata": {},
   "outputs": [],
   "source": []
  },
  {
   "cell_type": "code",
   "execution_count": null,
   "id": "4dee1cbc",
   "metadata": {},
   "outputs": [],
   "source": []
  },
  {
   "cell_type": "code",
   "execution_count": null,
   "id": "b9cd632e",
   "metadata": {},
   "outputs": [],
   "source": []
  }
 ],
 "metadata": {
  "kernelspec": {
   "display_name": "Python 3 (ipykernel)",
   "language": "python",
   "name": "python3"
  },
  "language_info": {
   "codemirror_mode": {
    "name": "ipython",
    "version": 3
   },
   "file_extension": ".py",
   "mimetype": "text/x-python",
   "name": "python",
   "nbconvert_exporter": "python",
   "pygments_lexer": "ipython3",
   "version": "3.10.9"
  },
  "toc": {
   "base_numbering": 1,
   "nav_menu": {},
   "number_sections": true,
   "sideBar": true,
   "skip_h1_title": false,
   "title_cell": "Table of Contents",
   "title_sidebar": "Contents",
   "toc_cell": false,
   "toc_position": {
    "height": "calc(100% - 180px)",
    "left": "10px",
    "top": "150px",
    "width": "165px"
   },
   "toc_section_display": true,
   "toc_window_display": true
  }
 },
 "nbformat": 4,
 "nbformat_minor": 5
}
