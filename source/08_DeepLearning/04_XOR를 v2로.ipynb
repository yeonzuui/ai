{
 "cells": [
  {
   "cell_type": "code",
   "execution_count": 4,
   "id": "3cb717f2",
   "metadata": {
    "ExecuteTime": {
     "end_time": "2024-12-16T08:41:50.946246Z",
     "start_time": "2024-12-16T08:41:50.035973Z"
    }
   },
   "outputs": [],
   "source": [
    "import numpy as np\n",
    "from tensorflow.keras.models import Sequential   # 모델 객체 생성\n",
    "from tensorflow.keras.layers import Dense, Input # 모델 layer 쌓을 때 필요한 함수\n",
    "import matplotlib.pyplot as plt"
   ]
  },
  {
   "cell_type": "code",
   "execution_count": 10,
   "id": "2ccb6693",
   "metadata": {
    "ExecuteTime": {
     "end_time": "2024-12-16T09:00:49.236096Z",
     "start_time": "2024-12-16T09:00:49.133830Z"
    }
   },
   "outputs": [
    {
     "name": "stdout",
     "output_type": "stream",
     "text": [
      "Model: \"sequential_4\"\n",
      "_________________________________________________________________\n",
      " Layer (type)                Output Shape              Param #   \n",
      "=================================================================\n",
      " dense_10 (Dense)            (None, 10)                30        \n",
      "                                                                 \n",
      " dense_11 (Dense)            (None, 20)                220       \n",
      "                                                                 \n",
      " dense_12 (Dense)            (None, 10)                210       \n",
      "                                                                 \n",
      " dense_13 (Dense)            (None, 1)                 11        \n",
      "                                                                 \n",
      "=================================================================\n",
      "Total params: 471\n",
      "Trainable params: 471\n",
      "Non-trainable params: 0\n",
      "_________________________________________________________________\n",
      "None\n"
     ]
    }
   ],
   "source": [
    "# 1. dataset\n",
    "x_data = np.array([[0, 0], \n",
    "                   [0, 1],\n",
    "                   [1, 0],\n",
    "                   [1, 1]])\n",
    "y_data = np.array([[0], \n",
    "                   [1], \n",
    "                   [1], \n",
    "                   [0]])\n",
    "# 2. 모델 구성\n",
    "model = Sequential()\n",
    "# model.add(Input(shape = 2))\n",
    "model.add(Dense(units = 10,\n",
    "                input_shape = (2,), # input_dim = 2,\n",
    "                activation = 'relu'))\n",
    "model.add(Dense(units = 20,\n",
    "                activation = 'relu')) # 은닉층(hidden layer)에서는 input_shape을 X\n",
    "model.add(Dense(units = 10,\n",
    "                activation = 'relu'))\n",
    "model.add(Dense(units = 1,\n",
    "                activation = 'sigmoid'))\n",
    "print(model.summary())\n",
    "# 3. 모델 학습과정 설정\n",
    "# model.compile(loss = 'mse',\n",
    "#               optimizer = 'adam',\n",
    "#               metrics = ['mae']) # 회귀식에서 학습과정 설정\n",
    "model.compile(loss = 'binary_crossentropy',\n",
    "              optimizer = 'adam',\n",
    "              metrics = ['binary_accuracy']) # 2진분류\n",
    "# model.compile(loss = 'categorical_crossentropy',\n",
    "#               optimizer = 'adam',\n",
    "#               metrics = ['accuracy']) # 다중분류\n",
    "# 4. 학습\n"
   ]
  },
  {
   "cell_type": "code",
   "execution_count": null,
   "id": "15a841fa",
   "metadata": {},
   "outputs": [],
   "source": []
  },
  {
   "cell_type": "code",
   "execution_count": null,
   "id": "d6beddc3",
   "metadata": {},
   "outputs": [],
   "source": []
  },
  {
   "cell_type": "code",
   "execution_count": null,
   "id": "a5fb8fca",
   "metadata": {},
   "outputs": [],
   "source": []
  },
  {
   "cell_type": "code",
   "execution_count": null,
   "id": "fb8357f1",
   "metadata": {},
   "outputs": [],
   "source": []
  },
  {
   "cell_type": "code",
   "execution_count": null,
   "id": "0048e414",
   "metadata": {},
   "outputs": [],
   "source": []
  },
  {
   "cell_type": "code",
   "execution_count": null,
   "id": "8ffc9689",
   "metadata": {},
   "outputs": [],
   "source": []
  },
  {
   "cell_type": "code",
   "execution_count": null,
   "id": "9a47d8d8",
   "metadata": {},
   "outputs": [],
   "source": []
  },
  {
   "cell_type": "code",
   "execution_count": null,
   "id": "695041e4",
   "metadata": {},
   "outputs": [],
   "source": []
  },
  {
   "cell_type": "code",
   "execution_count": null,
   "id": "07b6e5f3",
   "metadata": {},
   "outputs": [],
   "source": []
  }
 ],
 "metadata": {
  "kernelspec": {
   "display_name": "Python 3 (ipykernel)",
   "language": "python",
   "name": "python3"
  },
  "language_info": {
   "codemirror_mode": {
    "name": "ipython",
    "version": 3
   },
   "file_extension": ".py",
   "mimetype": "text/x-python",
   "name": "python",
   "nbconvert_exporter": "python",
   "pygments_lexer": "ipython3",
   "version": "3.10.9"
  },
  "toc": {
   "base_numbering": 1,
   "nav_menu": {},
   "number_sections": true,
   "sideBar": true,
   "skip_h1_title": false,
   "title_cell": "Table of Contents",
   "title_sidebar": "Contents",
   "toc_cell": false,
   "toc_position": {},
   "toc_section_display": true,
   "toc_window_display": false
  }
 },
 "nbformat": 4,
 "nbformat_minor": 5
}
