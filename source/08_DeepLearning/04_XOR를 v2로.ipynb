{
 "cells": [
  {
   "cell_type": "code",
   "execution_count": 2,
   "id": "3cb717f2",
   "metadata": {
    "ExecuteTime": {
     "end_time": "2024-12-17T00:34:54.526690Z",
     "start_time": "2024-12-17T00:34:54.521704Z"
    }
   },
   "outputs": [],
   "source": [
    "import numpy as np\n",
    "from tensorflow.keras.models import Sequential   # 모델 객체 생성\n",
    "from tensorflow.keras.layers import Dense, Input # 모델 layer 쌓을 때 필요한 함수\n",
    "import matplotlib.pyplot as plt"
   ]
  },
  {
   "cell_type": "code",
   "execution_count": 4,
   "id": "2ccb6693",
   "metadata": {
    "ExecuteTime": {
     "end_time": "2024-12-17T00:46:47.550817Z",
     "start_time": "2024-12-17T00:46:47.446273Z"
    }
   },
   "outputs": [
    {
     "name": "stdout",
     "output_type": "stream",
     "text": [
      "Model: \"sequential_1\"\n",
      "_________________________________________________________________\n",
      " Layer (type)                Output Shape              Param #   \n",
      "=================================================================\n",
      " dense_4 (Dense)             (None, 10)                30        \n",
      "                                                                 \n",
      " dense_5 (Dense)             (None, 20)                220       \n",
      "                                                                 \n",
      " dense_6 (Dense)             (None, 10)                210       \n",
      "                                                                 \n",
      " dense_7 (Dense)             (None, 1)                 11        \n",
      "                                                                 \n",
      "=================================================================\n",
      "Total params: 471\n",
      "Trainable params: 471\n",
      "Non-trainable params: 0\n",
      "_________________________________________________________________\n",
      "None\n"
     ]
    }
   ],
   "source": [
    "# 1. dataset\n",
    "x_data = np.array([[0, 0], \n",
    "                   [0, 1],\n",
    "                   [1, 0],\n",
    "                   [1, 1]])\n",
    "y_data = np.array([[0], \n",
    "                   [1], \n",
    "                   [1], \n",
    "                   [0]])\n",
    "# 2. 모델 구성\n",
    "model = Sequential()\n",
    "# model.add(Input(shape = 2))\n",
    "model.add(Dense(units = 10,\n",
    "                input_shape = (2,), # input_dim = 2,\n",
    "                activation = 'relu'))\n",
    "model.add(Dense(units = 20,\n",
    "                activation = 'relu')) # 은닉층(hidden layer)에서는 input_shape을 X\n",
    "model.add(Dense(units = 10,\n",
    "                activation = 'relu'))\n",
    "model.add(Dense(units = 1,\n",
    "                activation = 'sigmoid'))\n",
    "print(model.summary())\n",
    "# 3. 모델 학습과정 설정\n",
    "# model.compile(loss = 'mse',\n",
    "#               optimizer = 'adam',\n",
    "#               metrics = ['mae']) # 회귀식에서 학습과정 설정\n",
    "model.compile(loss = 'binary_crossentropy',\n",
    "              optimizer = 'adam',\n",
    "              metrics = ['binary_accuracy']) # 2진분류\n",
    "# model.compile(loss = 'categorical_crossentropy',\n",
    "#               optimizer = 'adam',\n",
    "#               metrics = ['accuracy']) # 다중분류"
   ]
  },
  {
   "cell_type": "code",
   "execution_count": 5,
   "id": "15a841fa",
   "metadata": {
    "ExecuteTime": {
     "end_time": "2024-12-17T00:46:56.317502Z",
     "start_time": "2024-12-17T00:46:54.472592Z"
    }
   },
   "outputs": [
    {
     "name": "stdout",
     "output_type": "stream",
     "text": [
      "Epoch 1/100\n",
      "1/1 - 0s - loss: 0.7324 - binary_accuracy: 0.5000 - 479ms/epoch - 479ms/step\n",
      "Epoch 2/100\n",
      "1/1 - 0s - loss: 0.7301 - binary_accuracy: 0.2500 - 0s/epoch - 0s/step\n",
      "Epoch 3/100\n",
      "1/1 - 0s - loss: 0.7278 - binary_accuracy: 0.2500 - 3ms/epoch - 3ms/step\n",
      "Epoch 4/100\n",
      "1/1 - 0s - loss: 0.7255 - binary_accuracy: 0.2500 - 2ms/epoch - 2ms/step\n",
      "Epoch 5/100\n",
      "1/1 - 0s - loss: 0.7233 - binary_accuracy: 0.2500 - 10ms/epoch - 10ms/step\n",
      "Epoch 6/100\n",
      "1/1 - 0s - loss: 0.7213 - binary_accuracy: 0.2500 - 3ms/epoch - 3ms/step\n",
      "Epoch 7/100\n",
      "1/1 - 0s - loss: 0.7194 - binary_accuracy: 0.2500 - 4ms/epoch - 4ms/step\n",
      "Epoch 8/100\n",
      "1/1 - 0s - loss: 0.7176 - binary_accuracy: 0.2500 - 15ms/epoch - 15ms/step\n",
      "Epoch 9/100\n",
      "1/1 - 0s - loss: 0.7158 - binary_accuracy: 0.2500 - 16ms/epoch - 16ms/step\n",
      "Epoch 10/100\n",
      "1/1 - 0s - loss: 0.7140 - binary_accuracy: 0.2500 - 17ms/epoch - 17ms/step\n",
      "Epoch 11/100\n",
      "1/1 - 0s - loss: 0.7123 - binary_accuracy: 0.2500 - 16ms/epoch - 16ms/step\n",
      "Epoch 12/100\n",
      "1/1 - 0s - loss: 0.7108 - binary_accuracy: 0.2500 - 11ms/epoch - 11ms/step\n",
      "Epoch 13/100\n",
      "1/1 - 0s - loss: 0.7093 - binary_accuracy: 0.2500 - 17ms/epoch - 17ms/step\n",
      "Epoch 14/100\n",
      "1/1 - 0s - loss: 0.7078 - binary_accuracy: 0.2500 - 17ms/epoch - 17ms/step\n",
      "Epoch 15/100\n",
      "1/1 - 0s - loss: 0.7062 - binary_accuracy: 0.2500 - 18ms/epoch - 18ms/step\n",
      "Epoch 16/100\n",
      "1/1 - 0s - loss: 0.7046 - binary_accuracy: 0.2500 - 15ms/epoch - 15ms/step\n",
      "Epoch 17/100\n",
      "1/1 - 0s - loss: 0.7030 - binary_accuracy: 0.2500 - 0s/epoch - 0s/step\n",
      "Epoch 18/100\n",
      "1/1 - 0s - loss: 0.7014 - binary_accuracy: 0.2500 - 6ms/epoch - 6ms/step\n",
      "Epoch 19/100\n",
      "1/1 - 0s - loss: 0.7001 - binary_accuracy: 0.2500 - 2ms/epoch - 2ms/step\n",
      "Epoch 20/100\n",
      "1/1 - 0s - loss: 0.6987 - binary_accuracy: 0.2500 - 19ms/epoch - 19ms/step\n",
      "Epoch 21/100\n",
      "1/1 - 0s - loss: 0.6973 - binary_accuracy: 0.2500 - 12ms/epoch - 12ms/step\n",
      "Epoch 22/100\n",
      "1/1 - 0s - loss: 0.6959 - binary_accuracy: 0.2500 - 0s/epoch - 0s/step\n",
      "Epoch 23/100\n",
      "1/1 - 0s - loss: 0.6945 - binary_accuracy: 0.2500 - 18ms/epoch - 18ms/step\n",
      "Epoch 24/100\n",
      "1/1 - 0s - loss: 0.6931 - binary_accuracy: 0.2500 - 16ms/epoch - 16ms/step\n",
      "Epoch 25/100\n",
      "1/1 - 0s - loss: 0.6917 - binary_accuracy: 0.2500 - 0s/epoch - 0s/step\n",
      "Epoch 26/100\n",
      "1/1 - 0s - loss: 0.6903 - binary_accuracy: 0.2500 - 7ms/epoch - 7ms/step\n",
      "Epoch 27/100\n",
      "1/1 - 0s - loss: 0.6888 - binary_accuracy: 0.2500 - 12ms/epoch - 12ms/step\n",
      "Epoch 28/100\n",
      "1/1 - 0s - loss: 0.6873 - binary_accuracy: 0.5000 - 0s/epoch - 0s/step\n",
      "Epoch 29/100\n",
      "1/1 - 0s - loss: 0.6859 - binary_accuracy: 0.5000 - 0s/epoch - 0s/step\n",
      "Epoch 30/100\n",
      "1/1 - 0s - loss: 0.6845 - binary_accuracy: 0.5000 - 18ms/epoch - 18ms/step\n",
      "Epoch 31/100\n",
      "1/1 - 0s - loss: 0.6830 - binary_accuracy: 0.5000 - 16ms/epoch - 16ms/step\n",
      "Epoch 32/100\n",
      "1/1 - 0s - loss: 0.6815 - binary_accuracy: 0.5000 - 0s/epoch - 0s/step\n",
      "Epoch 33/100\n",
      "1/1 - 0s - loss: 0.6801 - binary_accuracy: 0.5000 - 0s/epoch - 0s/step\n",
      "Epoch 34/100\n",
      "1/1 - 0s - loss: 0.6787 - binary_accuracy: 0.5000 - 19ms/epoch - 19ms/step\n",
      "Epoch 35/100\n",
      "1/1 - 0s - loss: 0.6774 - binary_accuracy: 0.5000 - 11ms/epoch - 11ms/step\n",
      "Epoch 36/100\n",
      "1/1 - 0s - loss: 0.6762 - binary_accuracy: 0.5000 - 18ms/epoch - 18ms/step\n",
      "Epoch 37/100\n",
      "1/1 - 0s - loss: 0.6751 - binary_accuracy: 0.5000 - 5ms/epoch - 5ms/step\n",
      "Epoch 38/100\n",
      "1/1 - 0s - loss: 0.6740 - binary_accuracy: 0.5000 - 16ms/epoch - 16ms/step\n",
      "Epoch 39/100\n",
      "1/1 - 0s - loss: 0.6728 - binary_accuracy: 0.5000 - 0s/epoch - 0s/step\n",
      "Epoch 40/100\n",
      "1/1 - 0s - loss: 0.6717 - binary_accuracy: 0.7500 - 0s/epoch - 0s/step\n",
      "Epoch 41/100\n",
      "1/1 - 0s - loss: 0.6707 - binary_accuracy: 0.7500 - 17ms/epoch - 17ms/step\n",
      "Epoch 42/100\n",
      "1/1 - 0s - loss: 0.6696 - binary_accuracy: 0.7500 - 7ms/epoch - 7ms/step\n",
      "Epoch 43/100\n",
      "1/1 - 0s - loss: 0.6686 - binary_accuracy: 0.7500 - 0s/epoch - 0s/step\n",
      "Epoch 44/100\n",
      "1/1 - 0s - loss: 0.6677 - binary_accuracy: 0.7500 - 0s/epoch - 0s/step\n",
      "Epoch 45/100\n",
      "1/1 - 0s - loss: 0.6667 - binary_accuracy: 0.7500 - 17ms/epoch - 17ms/step\n",
      "Epoch 46/100\n",
      "1/1 - 0s - loss: 0.6657 - binary_accuracy: 0.7500 - 0s/epoch - 0s/step\n",
      "Epoch 47/100\n",
      "1/1 - 0s - loss: 0.6648 - binary_accuracy: 0.7500 - 4ms/epoch - 4ms/step\n",
      "Epoch 48/100\n",
      "1/1 - 0s - loss: 0.6637 - binary_accuracy: 0.7500 - 15ms/epoch - 15ms/step\n",
      "Epoch 49/100\n",
      "1/1 - 0s - loss: 0.6627 - binary_accuracy: 0.7500 - 9ms/epoch - 9ms/step\n",
      "Epoch 50/100\n",
      "1/1 - 0s - loss: 0.6616 - binary_accuracy: 0.7500 - 16ms/epoch - 16ms/step\n",
      "Epoch 51/100\n",
      "1/1 - 0s - loss: 0.6604 - binary_accuracy: 0.7500 - 3ms/epoch - 3ms/step\n",
      "Epoch 52/100\n",
      "1/1 - 0s - loss: 0.6594 - binary_accuracy: 0.7500 - 17ms/epoch - 17ms/step\n",
      "Epoch 53/100\n",
      "1/1 - 0s - loss: 0.6583 - binary_accuracy: 0.7500 - 18ms/epoch - 18ms/step\n",
      "Epoch 54/100\n",
      "1/1 - 0s - loss: 0.6571 - binary_accuracy: 0.7500 - 9ms/epoch - 9ms/step\n",
      "Epoch 55/100\n",
      "1/1 - 0s - loss: 0.6558 - binary_accuracy: 0.7500 - 12ms/epoch - 12ms/step\n",
      "Epoch 56/100\n",
      "1/1 - 0s - loss: 0.6544 - binary_accuracy: 0.7500 - 1ms/epoch - 1ms/step\n",
      "Epoch 57/100\n",
      "1/1 - 0s - loss: 0.6530 - binary_accuracy: 0.7500 - 8ms/epoch - 8ms/step\n",
      "Epoch 58/100\n",
      "1/1 - 0s - loss: 0.6516 - binary_accuracy: 0.7500 - 12ms/epoch - 12ms/step\n",
      "Epoch 59/100\n",
      "1/1 - 0s - loss: 0.6503 - binary_accuracy: 0.7500 - 13ms/epoch - 13ms/step\n",
      "Epoch 60/100\n",
      "1/1 - 0s - loss: 0.6490 - binary_accuracy: 0.7500 - 0s/epoch - 0s/step\n",
      "Epoch 61/100\n",
      "1/1 - 0s - loss: 0.6476 - binary_accuracy: 0.7500 - 3ms/epoch - 3ms/step\n",
      "Epoch 62/100\n",
      "1/1 - 0s - loss: 0.6462 - binary_accuracy: 0.7500 - 4ms/epoch - 4ms/step\n",
      "Epoch 63/100\n",
      "1/1 - 0s - loss: 0.6448 - binary_accuracy: 0.7500 - 17ms/epoch - 17ms/step\n",
      "Epoch 64/100\n",
      "1/1 - 0s - loss: 0.6434 - binary_accuracy: 0.7500 - 12ms/epoch - 12ms/step\n",
      "Epoch 65/100\n",
      "1/1 - 0s - loss: 0.6420 - binary_accuracy: 0.7500 - 4ms/epoch - 4ms/step\n",
      "Epoch 66/100\n",
      "1/1 - 0s - loss: 0.6406 - binary_accuracy: 0.7500 - 6ms/epoch - 6ms/step\n",
      "Epoch 67/100\n",
      "1/1 - 0s - loss: 0.6391 - binary_accuracy: 0.7500 - 15ms/epoch - 15ms/step\n",
      "Epoch 68/100\n",
      "1/1 - 0s - loss: 0.6376 - binary_accuracy: 0.7500 - 0s/epoch - 0s/step\n",
      "Epoch 69/100\n",
      "1/1 - 0s - loss: 0.6360 - binary_accuracy: 0.7500 - 590us/epoch - 590us/step\n",
      "Epoch 70/100\n",
      "1/1 - 0s - loss: 0.6345 - binary_accuracy: 1.0000 - 5ms/epoch - 5ms/step\n",
      "Epoch 71/100\n",
      "1/1 - 0s - loss: 0.6329 - binary_accuracy: 1.0000 - 15ms/epoch - 15ms/step\n",
      "Epoch 72/100\n",
      "1/1 - 0s - loss: 0.6314 - binary_accuracy: 1.0000 - 10ms/epoch - 10ms/step\n",
      "Epoch 73/100\n",
      "1/1 - 0s - loss: 0.6300 - binary_accuracy: 1.0000 - 7ms/epoch - 7ms/step\n",
      "Epoch 74/100\n",
      "1/1 - 0s - loss: 0.6286 - binary_accuracy: 1.0000 - 4ms/epoch - 4ms/step\n",
      "Epoch 75/100\n",
      "1/1 - 0s - loss: 0.6272 - binary_accuracy: 1.0000 - 15ms/epoch - 15ms/step\n",
      "Epoch 76/100\n",
      "1/1 - 0s - loss: 0.6258 - binary_accuracy: 1.0000 - 1ms/epoch - 1ms/step\n",
      "Epoch 77/100\n",
      "1/1 - 0s - loss: 0.6242 - binary_accuracy: 1.0000 - 4ms/epoch - 4ms/step\n",
      "Epoch 78/100\n",
      "1/1 - 0s - loss: 0.6227 - binary_accuracy: 1.0000 - 15ms/epoch - 15ms/step\n",
      "Epoch 79/100\n",
      "1/1 - 0s - loss: 0.6211 - binary_accuracy: 1.0000 - 11ms/epoch - 11ms/step\n",
      "Epoch 80/100\n",
      "1/1 - 0s - loss: 0.6195 - binary_accuracy: 1.0000 - 2ms/epoch - 2ms/step\n",
      "Epoch 81/100\n",
      "1/1 - 0s - loss: 0.6179 - binary_accuracy: 1.0000 - 5ms/epoch - 5ms/step\n",
      "Epoch 82/100\n",
      "1/1 - 0s - loss: 0.6163 - binary_accuracy: 1.0000 - 10ms/epoch - 10ms/step\n",
      "Epoch 83/100\n",
      "1/1 - 0s - loss: 0.6147 - binary_accuracy: 1.0000 - 0s/epoch - 0s/step\n",
      "Epoch 84/100\n",
      "1/1 - 0s - loss: 0.6131 - binary_accuracy: 1.0000 - 4ms/epoch - 4ms/step\n",
      "Epoch 85/100\n",
      "1/1 - 0s - loss: 0.6114 - binary_accuracy: 1.0000 - 15ms/epoch - 15ms/step\n",
      "Epoch 86/100\n",
      "1/1 - 0s - loss: 0.6097 - binary_accuracy: 1.0000 - 0s/epoch - 0s/step\n",
      "Epoch 87/100\n",
      "1/1 - 0s - loss: 0.6081 - binary_accuracy: 1.0000 - 5ms/epoch - 5ms/step\n",
      "Epoch 88/100\n",
      "1/1 - 0s - loss: 0.6064 - binary_accuracy: 1.0000 - 15ms/epoch - 15ms/step\n",
      "Epoch 89/100\n",
      "1/1 - 0s - loss: 0.6046 - binary_accuracy: 1.0000 - 0s/epoch - 0s/step\n",
      "Epoch 90/100\n",
      "1/1 - 0s - loss: 0.6029 - binary_accuracy: 1.0000 - 6ms/epoch - 6ms/step\n",
      "Epoch 91/100\n",
      "1/1 - 0s - loss: 0.6010 - binary_accuracy: 1.0000 - 6ms/epoch - 6ms/step\n",
      "Epoch 92/100\n",
      "1/1 - 0s - loss: 0.5991 - binary_accuracy: 1.0000 - 13ms/epoch - 13ms/step\n",
      "Epoch 93/100\n",
      "1/1 - 0s - loss: 0.5972 - binary_accuracy: 1.0000 - 0s/epoch - 0s/step\n",
      "Epoch 94/100\n",
      "1/1 - 0s - loss: 0.5954 - binary_accuracy: 1.0000 - 16ms/epoch - 16ms/step\n",
      "Epoch 95/100\n",
      "1/1 - 0s - loss: 0.5934 - binary_accuracy: 1.0000 - 0s/epoch - 0s/step\n"
     ]
    },
    {
     "name": "stdout",
     "output_type": "stream",
     "text": [
      "Epoch 96/100\n",
      "1/1 - 0s - loss: 0.5914 - binary_accuracy: 1.0000 - 0s/epoch - 0s/step\n",
      "Epoch 97/100\n",
      "1/1 - 0s - loss: 0.5894 - binary_accuracy: 1.0000 - 17ms/epoch - 17ms/step\n",
      "Epoch 98/100\n",
      "1/1 - 0s - loss: 0.5874 - binary_accuracy: 1.0000 - 11ms/epoch - 11ms/step\n",
      "Epoch 99/100\n",
      "1/1 - 0s - loss: 0.5854 - binary_accuracy: 1.0000 - 0s/epoch - 0s/step\n",
      "Epoch 100/100\n",
      "1/1 - 0s - loss: 0.5833 - binary_accuracy: 1.0000 - 17ms/epoch - 17ms/step\n"
     ]
    }
   ],
   "source": [
    "# 4. 학습\n",
    "hist = model.fit(x_data, y_data,\n",
    "                 epochs = 100,\n",
    "                 verbose = 2)"
   ]
  },
  {
   "cell_type": "code",
   "execution_count": 7,
   "id": "28dd97af",
   "metadata": {
    "ExecuteTime": {
     "end_time": "2024-12-17T00:51:18.423201Z",
     "start_time": "2024-12-17T00:51:18.407113Z"
    }
   },
   "outputs": [
    {
     "data": {
      "text/plain": [
       "dict_keys(['loss', 'binary_accuracy'])"
      ]
     },
     "execution_count": 7,
     "metadata": {},
     "output_type": "execute_result"
    }
   ],
   "source": [
    "# 5. 학습과정 보기 및 평가\n",
    "hist.history.keys()"
   ]
  },
  {
   "cell_type": "code",
   "execution_count": 16,
   "id": "a5fb8fca",
   "metadata": {
    "ExecuteTime": {
     "end_time": "2024-12-17T00:59:26.717666Z",
     "start_time": "2024-12-17T00:59:26.424978Z"
    }
   },
   "outputs": [
    {
     "data": {
      "image/png": "[encoded data removed]",
      "text/plain": [
       "<Figure size 1000x500 with 2 Axes>"
      ]
     },
     "metadata": {},
     "output_type": "display_data"
    }
   ],
   "source": [
    "fig, loss_ax = plt.subplots(figsize = (10, 5))\n",
    "loss_ax.plot(hist.history['loss'],'b', label = 'loss')\n",
    "acc_ax = loss_ax.twinx() # loss_ax와 x축을 공유하는 acc_ax\n",
    "acc_ax.plot(hist.history['binary_accuracy'], 'r', label = 'binary_accuracy')\n",
    "\n",
    "loss_ax.set_xlabel('epoch')\n",
    "loss_ax.set_ylabel('loss')\n",
    "acc_ax.set_ylabel('binary_accuracy')\n",
    "\n",
    "loss_ax.legend(loc = 'center right')\n",
    "acc_ax.legend(bbox_to_anchor = (0.999, 0.65))\n",
    "plt.show()"
   ]
  },
  {
   "cell_type": "code",
   "execution_count": 18,
   "id": "fb8357f1",
   "metadata": {
    "ExecuteTime": {
     "end_time": "2024-12-17T01:01:49.793359Z",
     "start_time": "2024-12-17T01:01:49.697311Z"
    }
   },
   "outputs": [
    {
     "name": "stdout",
     "output_type": "stream",
     "text": [
      "1/1 [==============================] - 0s 25ms/step - loss: 0.5812 - binary_accuracy: 1.0000\n",
      "loss: 0.5811936855316162\n",
      "accuracy: 1.0\n"
     ]
    }
   ],
   "source": [
    "# 모델 평가하기\n",
    "score = model.evaluate(x_data, y_data)\n",
    "print('loss:', score[0])\n",
    "print('accuracy:', score[1])"
   ]
  },
  {
   "cell_type": "code",
   "execution_count": 21,
   "id": "0048e414",
   "metadata": {
    "ExecuteTime": {
     "end_time": "2024-12-17T01:03:21.315395Z",
     "start_time": "2024-12-17T01:03:21.224785Z"
    }
   },
   "outputs": [
    {
     "name": "stdout",
     "output_type": "stream",
     "text": [
      "1/1 [==============================] - 0s 41ms/step\n"
     ]
    },
    {
     "data": {
      "text/plain": [
       "1"
      ]
     },
     "execution_count": 21,
     "metadata": {},
     "output_type": "execute_result"
    }
   ],
   "source": [
    "# 예측\n",
    "int(model.predict(np.array([[0, 1]])).round())"
   ]
  },
  {
   "cell_type": "code",
   "execution_count": 29,
   "id": "4bac4774",
   "metadata": {
    "ExecuteTime": {
     "end_time": "2024-12-17T01:18:33.584288Z",
     "start_time": "2024-12-17T01:18:33.577298Z"
    }
   },
   "outputs": [
    {
     "data": {
      "text/plain": [
       "False"
      ]
     },
     "execution_count": 29,
     "metadata": {},
     "output_type": "execute_result"
    }
   ],
   "source": [
    "9 in [1, 2, 3, 4, 5] # 나열가능한 자료"
   ]
  },
  {
   "cell_type": "code",
   "execution_count": 32,
   "id": "ee038ccb",
   "metadata": {
    "ExecuteTime": {
     "end_time": "2024-12-17T01:19:34.094986Z",
     "start_time": "2024-12-17T01:19:34.089992Z"
    }
   },
   "outputs": [
    {
     "name": "stdout",
     "output_type": "stream",
     "text": [
      "False\n",
      "False\n"
     ]
    }
   ],
   "source": [
    "# 리스트에 0과 1만 들어있는지 여부\n",
    "temp = [0, 1, 2]\n",
    "print(all([x in (0, 1) for x in temp]))\n",
    "print(all(x in (0, 1) for x in temp))"
   ]
  },
  {
   "cell_type": "code",
   "execution_count": 44,
   "id": "8ffc9689",
   "metadata": {
    "ExecuteTime": {
     "end_time": "2024-12-17T01:42:55.259041Z",
     "start_time": "2024-12-17T01:41:52.722405Z"
    }
   },
   "outputs": [
    {
     "name": "stdout",
     "output_type": "stream",
     "text": [
      "space로 분리해서 0또는 1을 2개 입력(한개만 입력하면 종료됩니다)0 10\n",
      "0과 1만 입력하셔야 예측값을 볼 수 있습니다\n",
      "space로 분리해서 0또는 1을 2개 입력(한개만 입력하면 종료됩니다)10 10\n",
      "0과 1만 입력하셔야 예측값을 볼 수 있습니다\n",
      "space로 분리해서 0또는 1을 2개 입력(한개만 입력하면 종료됩니다)0 1\n",
      "입력값: 0 1\n",
      "1/1 [==============================] - 0s 16ms/step\n",
      "예측값: 1\n",
      "space로 분리해서 0또는 1을 2개 입력(한개만 입력하면 종료됩니다)1\n",
      "데이터를 하나만 입력할 경우 종료됩니다. Bye~\n"
     ]
    }
   ],
   "source": [
    "# 독립변수 2개(0 0, 0 1, 1 0, 1 1)를 입력받아 예측값을 출력(종료는 수를 1개만 입력할 때)\n",
    "while True:\n",
    "    input_str = input('space로 분리해서 0또는 1을 2개 입력(한개만 입력하면 종료됩니다)') \n",
    "    # ' 0  1 ' => '0  1' => '0','1'\n",
    "    input_list = input_str.strip().split()\n",
    "    input_nums = list(map(int, input_list)) # [0, 1]\n",
    "    if len(input_nums) == 1:\n",
    "        print('데이터를 하나만 입력할 경우 종료됩니다. Bye~')\n",
    "        break\n",
    "    if all(x in [0, 1] for x in input_nums): # 0과 1만 입력한 경우\n",
    "        input_data = np.array(input_nums[:2]).reshape(-1, 2)\n",
    "        print('입력값:', input_nums[0], input_nums[1])\n",
    "        print('예측값:', int(model.predict(input_data).round()))\n",
    "    else:\n",
    "        print('0과 1만 입력하셔야 예측값을 볼 수 있습니다')"
   ]
  },
  {
   "cell_type": "markdown",
   "id": "a1167731",
   "metadata": {},
   "source": [
    "# 2. AND"
   ]
  },
  {
   "cell_type": "code",
   "execution_count": 45,
   "id": "23a378c0",
   "metadata": {
    "ExecuteTime": {
     "end_time": "2024-12-17T01:48:17.590036Z",
     "start_time": "2024-12-17T01:48:17.585059Z"
    }
   },
   "outputs": [],
   "source": [
    "import numpy as np\n",
    "from tensorflow.keras.models import Sequential "
   ]
  },
  {
   "cell_type": "code",
   "execution_count": 66,
   "id": "695041e4",
   "metadata": {
    "ExecuteTime": {
     "end_time": "2024-12-17T02:09:55.661262Z",
     "start_time": "2024-12-17T02:09:52.489268Z"
    }
   },
   "outputs": [
    {
     "name": "stdout",
     "output_type": "stream",
     "text": [
      "Model: \"sequential_21\"\n",
      "_________________________________________________________________\n",
      " Layer (type)                Output Shape              Param #   \n",
      "=================================================================\n",
      " dense_62 (Dense)            (None, 50000)             150000    \n",
      "                                                                 \n",
      " dense_63 (Dense)            (None, 20)                1000020   \n",
      "                                                                 \n",
      " dense_64 (Dense)            (None, 1)                 21        \n",
      "                                                                 \n",
      "=================================================================\n",
      "Total params: 1,150,041\n",
      "Trainable params: 1,150,041\n",
      "Non-trainable params: 0\n",
      "_________________________________________________________________\n",
      "None\n",
      "Epoch 1/100\n",
      "1/1 [==============================] - 1s 617ms/step - loss: 0.6924 - binary_accuracy: 0.7500\n",
      "Epoch 2/100\n",
      "1/1 [==============================] - 0s 39ms/step - loss: 0.5755 - binary_accuracy: 0.7500\n",
      "Epoch 3/100\n",
      "1/1 [==============================] - 0s 28ms/step - loss: 0.4975 - binary_accuracy: 0.7500\n",
      "Epoch 4/100\n",
      "1/1 [==============================] - 0s 38ms/step - loss: 0.5818 - binary_accuracy: 0.5000\n",
      "Epoch 5/100\n",
      "1/1 [==============================] - 0s 28ms/step - loss: 0.3786 - binary_accuracy: 0.7500\n",
      "Epoch 6/100\n",
      "1/1 [==============================] - 0s 20ms/step - loss: 0.2088 - binary_accuracy: 1.0000\n",
      "Epoch 7/100\n",
      "1/1 [==============================] - 0s 12ms/step - loss: 0.1344 - binary_accuracy: 1.0000\n",
      "Epoch 8/100\n",
      "1/1 [==============================] - 0s 12ms/step - loss: 0.0971 - binary_accuracy: 1.0000\n",
      "Epoch 9/100\n",
      "1/1 [==============================] - 0s 16ms/step - loss: 0.0713 - binary_accuracy: 1.0000\n",
      "Epoch 10/100\n",
      "1/1 [==============================] - 0s 5ms/step - loss: 0.0576 - binary_accuracy: 1.0000\n",
      "Epoch 11/100\n",
      "1/1 [==============================] - 0s 18ms/step - loss: 0.0475 - binary_accuracy: 1.0000\n",
      "Epoch 12/100\n",
      "1/1 [==============================] - 0s 13ms/step - loss: 0.0388 - binary_accuracy: 1.0000\n",
      "Epoch 13/100\n",
      "1/1 [==============================] - 0s 10ms/step - loss: 0.0337 - binary_accuracy: 1.0000\n",
      "Epoch 14/100\n",
      "1/1 [==============================] - 0s 2ms/step - loss: 0.0275 - binary_accuracy: 1.0000\n",
      "Epoch 15/100\n",
      "1/1 [==============================] - 0s 6ms/step - loss: 0.0235 - binary_accuracy: 1.0000\n",
      "Epoch 16/100\n",
      "1/1 [==============================] - 0s 16ms/step - loss: 0.0209 - binary_accuracy: 1.0000\n",
      "Epoch 17/100\n",
      "1/1 [==============================] - 0s 13ms/step - loss: 0.0180 - binary_accuracy: 1.0000\n",
      "Epoch 18/100\n",
      "1/1 [==============================] - 0s 9ms/step - loss: 0.0162 - binary_accuracy: 1.0000\n",
      "Epoch 19/100\n",
      "1/1 [==============================] - 0s 2ms/step - loss: 0.0137 - binary_accuracy: 1.0000\n",
      "Epoch 20/100\n",
      "1/1 [==============================] - 0s 6ms/step - loss: 0.0122 - binary_accuracy: 1.0000\n",
      "Epoch 21/100\n",
      "1/1 [==============================] - 0s 16ms/step - loss: 0.0109 - binary_accuracy: 1.0000\n",
      "Epoch 22/100\n",
      "1/1 [==============================] - 0s 13ms/step - loss: 0.0098 - binary_accuracy: 1.0000\n",
      "Epoch 23/100\n",
      "1/1 [==============================] - 0s 11ms/step - loss: 0.0092 - binary_accuracy: 1.0000\n",
      "Epoch 24/100\n",
      "1/1 [==============================] - 0s 3ms/step - loss: 0.0078 - binary_accuracy: 1.0000\n",
      "Epoch 25/100\n",
      "1/1 [==============================] - 0s 7ms/step - loss: 0.0072 - binary_accuracy: 1.0000\n",
      "Epoch 26/100\n",
      "1/1 [==============================] - 0s 14ms/step - loss: 0.0068 - binary_accuracy: 1.0000\n",
      "Epoch 27/100\n",
      "1/1 [==============================] - 0s 12ms/step - loss: 0.0059 - binary_accuracy: 1.0000\n",
      "Epoch 28/100\n",
      "1/1 [==============================] - 0s 10ms/step - loss: 0.0054 - binary_accuracy: 1.0000\n",
      "Epoch 29/100\n",
      "1/1 [==============================] - 0s 4ms/step - loss: 0.0048 - binary_accuracy: 1.0000\n",
      "Epoch 30/100\n",
      "1/1 [==============================] - 0s 18ms/step - loss: 0.0045 - binary_accuracy: 1.0000\n",
      "Epoch 31/100\n",
      "1/1 [==============================] - 0s 15ms/step - loss: 0.0040 - binary_accuracy: 1.0000\n",
      "Epoch 32/100\n",
      "1/1 [==============================] - 0s 11ms/step - loss: 0.0037 - binary_accuracy: 1.0000\n",
      "Epoch 33/100\n",
      "1/1 [==============================] - 0s 3ms/step - loss: 0.0035 - binary_accuracy: 1.0000\n",
      "Epoch 34/100\n",
      "1/1 [==============================] - 0s 0s/step - loss: 0.0032 - binary_accuracy: 1.0000\n",
      "Epoch 35/100\n",
      "1/1 [==============================] - 0s 9ms/step - loss: 0.0029 - binary_accuracy: 1.0000\n",
      "Epoch 36/100\n",
      "1/1 [==============================] - 0s 8ms/step - loss: 0.0027 - binary_accuracy: 1.0000\n",
      "Epoch 37/100\n",
      "1/1 [==============================] - 0s 13ms/step - loss: 0.0025 - binary_accuracy: 1.0000\n",
      "Epoch 38/100\n",
      "1/1 [==============================] - 0s 0s/step - loss: 0.0023 - binary_accuracy: 1.0000\n",
      "Epoch 39/100\n",
      "1/1 [==============================] - 0s 4ms/step - loss: 0.0021 - binary_accuracy: 1.0000\n",
      "Epoch 40/100\n",
      "1/1 [==============================] - 0s 16ms/step - loss: 0.0020 - binary_accuracy: 1.0000\n",
      "Epoch 41/100\n",
      "1/1 [==============================] - 0s 11ms/step - loss: 0.0018 - binary_accuracy: 1.0000\n",
      "Epoch 42/100\n",
      "1/1 [==============================] - 0s 0s/step - loss: 0.0017 - binary_accuracy: 1.0000\n",
      "Epoch 43/100\n",
      "1/1 [==============================] - 0s 4ms/step - loss: 0.0016 - binary_accuracy: 1.0000\n",
      "Epoch 44/100\n",
      "1/1 [==============================] - 0s 19ms/step - loss: 0.0015 - binary_accuracy: 1.0000\n",
      "Epoch 45/100\n",
      "1/1 [==============================] - 0s 12ms/step - loss: 0.0013 - binary_accuracy: 1.0000\n",
      "Epoch 46/100\n",
      "1/1 [==============================] - 0s 2ms/step - loss: 0.0013 - binary_accuracy: 1.0000\n",
      "Epoch 47/100\n",
      "1/1 [==============================] - 0s 4ms/step - loss: 0.0012 - binary_accuracy: 1.0000\n",
      "Epoch 48/100\n",
      "1/1 [==============================] - 0s 17ms/step - loss: 0.0011 - binary_accuracy: 1.0000\n",
      "Epoch 49/100\n",
      "1/1 [==============================] - 0s 14ms/step - loss: 0.0010 - binary_accuracy: 1.0000\n",
      "Epoch 50/100\n",
      "1/1 [==============================] - 0s 10ms/step - loss: 9.3567e-04 - binary_accuracy: 1.0000\n",
      "Epoch 51/100\n",
      "1/1 [==============================] - 0s 2ms/step - loss: 8.7909e-04 - binary_accuracy: 1.0000\n",
      "Epoch 52/100\n",
      "1/1 [==============================] - 0s 5ms/step - loss: 8.3893e-04 - binary_accuracy: 1.0000\n",
      "Epoch 53/100\n",
      "1/1 [==============================] - 0s 17ms/step - loss: 7.5905e-04 - binary_accuracy: 1.0000\n",
      "Epoch 54/100\n",
      "1/1 [==============================] - 0s 17ms/step - loss: 7.1852e-04 - binary_accuracy: 1.0000\n",
      "Epoch 55/100\n",
      "1/1 [==============================] - 0s 4ms/step - loss: 6.7777e-04 - binary_accuracy: 1.0000\n",
      "Epoch 56/100\n",
      "1/1 [==============================] - 0s 5ms/step - loss: 6.2039e-04 - binary_accuracy: 1.0000\n",
      "Epoch 57/100\n",
      "1/1 [==============================] - 0s 18ms/step - loss: 5.8593e-04 - binary_accuracy: 1.0000\n",
      "Epoch 58/100\n",
      "1/1 [==============================] - 0s 12ms/step - loss: 5.5208e-04 - binary_accuracy: 1.0000\n",
      "Epoch 59/100\n",
      "1/1 [==============================] - 0s 11ms/step - loss: 5.1312e-04 - binary_accuracy: 1.0000\n",
      "Epoch 60/100\n",
      "1/1 [==============================] - 0s 4ms/step - loss: 4.9692e-04 - binary_accuracy: 1.0000\n",
      "Epoch 61/100\n",
      "1/1 [==============================] - 0s 15ms/step - loss: 4.4988e-04 - binary_accuracy: 1.0000\n",
      "Epoch 62/100\n",
      "1/1 [==============================] - 0s 15ms/step - loss: 4.1571e-04 - binary_accuracy: 1.0000\n",
      "Epoch 63/100\n",
      "1/1 [==============================] - 0s 10ms/step - loss: 3.9166e-04 - binary_accuracy: 1.0000\n",
      "Epoch 64/100\n",
      "1/1 [==============================] - 0s 2ms/step - loss: 3.7151e-04 - binary_accuracy: 1.0000\n",
      "Epoch 65/100\n",
      "1/1 [==============================] - 0s 8ms/step - loss: 3.4091e-04 - binary_accuracy: 1.0000\n",
      "Epoch 66/100\n",
      "1/1 [==============================] - 0s 13ms/step - loss: 3.2312e-04 - binary_accuracy: 1.0000\n",
      "Epoch 67/100\n",
      "1/1 [==============================] - 0s 11ms/step - loss: 3.0453e-04 - binary_accuracy: 1.0000\n",
      "Epoch 68/100\n",
      "1/1 [==============================] - 0s 1ms/step - loss: 2.8095e-04 - binary_accuracy: 1.0000\n",
      "Epoch 69/100\n",
      "1/1 [==============================] - 0s 8ms/step - loss: 2.6604e-04 - binary_accuracy: 1.0000\n",
      "Epoch 70/100\n"
     ]
    },
    {
     "name": "stdout",
     "output_type": "stream",
     "text": [
      "1/1 [==============================] - 0s 14ms/step - loss: 2.4955e-04 - binary_accuracy: 1.0000\n",
      "Epoch 71/100\n",
      "1/1 [==============================] - 0s 11ms/step - loss: 2.3218e-04 - binary_accuracy: 1.0000\n",
      "Epoch 72/100\n",
      "1/1 [==============================] - 0s 2ms/step - loss: 2.2200e-04 - binary_accuracy: 1.0000\n",
      "Epoch 73/100\n",
      "1/1 [==============================] - 0s 6ms/step - loss: 2.0372e-04 - binary_accuracy: 1.0000\n",
      "Epoch 74/100\n",
      "1/1 [==============================] - 0s 16ms/step - loss: 1.9596e-04 - binary_accuracy: 1.0000\n",
      "Epoch 75/100\n",
      "1/1 [==============================] - 0s 13ms/step - loss: 1.8931e-04 - binary_accuracy: 1.0000\n",
      "Epoch 76/100\n",
      "1/1 [==============================] - 0s 10ms/step - loss: 1.7253e-04 - binary_accuracy: 1.0000\n",
      "Epoch 77/100\n",
      "1/1 [==============================] - 0s 4ms/step - loss: 1.6016e-04 - binary_accuracy: 1.0000\n",
      "Epoch 78/100\n",
      "1/1 [==============================] - 0s 17ms/step - loss: 1.5070e-04 - binary_accuracy: 1.0000\n",
      "Epoch 79/100\n",
      "1/1 [==============================] - 0s 13ms/step - loss: 1.4642e-04 - binary_accuracy: 1.0000\n",
      "Epoch 80/100\n",
      "1/1 [==============================] - 0s 10ms/step - loss: 1.3334e-04 - binary_accuracy: 1.0000\n",
      "Epoch 81/100\n",
      "1/1 [==============================] - 0s 5ms/step - loss: 1.2554e-04 - binary_accuracy: 1.0000\n",
      "Epoch 82/100\n",
      "1/1 [==============================] - 0s 6ms/step - loss: 1.1682e-04 - binary_accuracy: 1.0000\n",
      "Epoch 83/100\n",
      "1/1 [==============================] - 0s 14ms/step - loss: 1.1331e-04 - binary_accuracy: 1.0000\n",
      "Epoch 84/100\n",
      "1/1 [==============================] - 0s 10ms/step - loss: 1.0273e-04 - binary_accuracy: 1.0000\n",
      "Epoch 85/100\n",
      "1/1 [==============================] - 0s 4ms/step - loss: 9.7320e-05 - binary_accuracy: 1.0000\n",
      "Epoch 86/100\n",
      "1/1 [==============================] - 0s 16ms/step - loss: 9.3675e-05 - binary_accuracy: 1.0000\n",
      "Epoch 87/100\n",
      "1/1 [==============================] - 0s 9ms/step - loss: 8.6193e-05 - binary_accuracy: 1.0000\n",
      "Epoch 88/100\n",
      "1/1 [==============================] - 0s 17ms/step - loss: 8.1228e-05 - binary_accuracy: 1.0000\n",
      "Epoch 89/100\n",
      "1/1 [==============================] - 0s 0s/step - loss: 7.5762e-05 - binary_accuracy: 1.0000\n",
      "Epoch 90/100\n",
      "1/1 [==============================] - 0s 0s/step - loss: 7.2745e-05 - binary_accuracy: 1.0000\n",
      "Epoch 91/100\n",
      "1/1 [==============================] - 0s 17ms/step - loss: 6.6821e-05 - binary_accuracy: 1.0000\n",
      "Epoch 92/100\n",
      "1/1 [==============================] - 0s 16ms/step - loss: 6.3725e-05 - binary_accuracy: 1.0000\n",
      "Epoch 93/100\n",
      "1/1 [==============================] - 0s 0s/step - loss: 5.9778e-05 - binary_accuracy: 1.0000\n",
      "Epoch 94/100\n",
      "1/1 [==============================] - 0s 7ms/step - loss: 5.6790e-05 - binary_accuracy: 1.0000\n",
      "Epoch 95/100\n",
      "1/1 [==============================] - 0s 10ms/step - loss: 5.5992e-05 - binary_accuracy: 1.0000\n",
      "Epoch 96/100\n",
      "1/1 [==============================] - 0s 17ms/step - loss: 5.0762e-05 - binary_accuracy: 1.0000\n",
      "Epoch 97/100\n",
      "1/1 [==============================] - 0s 0s/step - loss: 4.6716e-05 - binary_accuracy: 1.0000\n",
      "Epoch 98/100\n",
      "1/1 [==============================] - 0s 0s/step - loss: 4.4633e-05 - binary_accuracy: 1.0000\n",
      "Epoch 99/100\n",
      "1/1 [==============================] - 0s 17ms/step - loss: 4.4073e-05 - binary_accuracy: 1.0000\n",
      "Epoch 100/100\n",
      "1/1 [==============================] - 0s 17ms/step - loss: 3.9733e-05 - binary_accuracy: 1.0000\n",
      "dict_keys(['loss', 'binary_accuracy'])\n"
     ]
    },
    {
     "data": {
      "image/png": "[encoded data removed]",
      "text/plain": [
       "<Figure size 1000x500 with 2 Axes>"
      ]
     },
     "metadata": {},
     "output_type": "display_data"
    },
    {
     "name": "stdout",
     "output_type": "stream",
     "text": [
      "1/1 [==============================] - 0s 134ms/step - loss: 3.6702e-05 - binary_accuracy: 1.0000\n",
      "loss: 3.670234582386911e-05\n",
      "accuracy: 1.0\n",
      "1/1 [==============================] - 0s 66ms/step\n"
     ]
    },
    {
     "data": {
      "text/plain": [
       "1"
      ]
     },
     "execution_count": 66,
     "metadata": {},
     "output_type": "execute_result"
    }
   ],
   "source": [
    "# 1. dataset\n",
    "x_data = np.array([[0, 0], \n",
    "                   [0, 1],\n",
    "                   [1, 0],\n",
    "                   [1, 1]])\n",
    "y_data = np.array([[0], \n",
    "                   [0], \n",
    "                   [0], \n",
    "                   [1]])\n",
    "# 2. model 구성\n",
    "model = Sequential()\n",
    "model.add(Dense(units = 50000,\n",
    "                input_shape = (2, ), \n",
    "                activation = 'relu'))\n",
    "model.add(Dense(units = 20,\n",
    "                activation = 'relu'))\n",
    "model.add(Dense(units = 1,\n",
    "                activation = 'sigmoid'))\n",
    "print(model.summary())\n",
    "# 3. model 학습과정(이진분류)\n",
    "model.compile(loss = 'binary_crossentropy',\n",
    "              optimizer = 'rmsprop',\n",
    "              metrics = ['binary_accuracy'])\n",
    "# 4. training\n",
    "hist = model.fit(x_data, y_data,\n",
    "                 epochs = 100,\n",
    "                 verbose = 1)\n",
    "# 5. 학습과정 살펴보기 및 평가(evaluate)\n",
    "print(hist.history.keys())\n",
    "fig, loss_ax = plt.subplots(figsize = (10, 5))\n",
    "loss_ax.plot(hist.history['loss'], 'b', label = 'loss')\n",
    "acc_ax = loss_ax.twinx()\n",
    "acc_ax.plot(hist.history['binary_accuracy'], 'r', label = 'binary_accuracy')\n",
    "loss_ax.set_xlabel('epoch')\n",
    "loss_ax.set_ylabel('loss')\n",
    "acc_ax.set_ylabel('binary_accuracy')\n",
    "\n",
    "loss_ax.legend(loc = 'center right')\n",
    "acc_ax.legend(bbox_to_anchor = (0.999, 0.65))\n",
    "plt.show()\n",
    "\n",
    "# 6. 예측하기: np.array([[0,1]])를 예측하기\n",
    "score = model.evaluate(x_data, y_data)\n",
    "print('loss:', score[0])\n",
    "print('accuracy:', score[1])\n",
    "int(model.predict(np.array([[1, 1]])).round())"
   ]
  },
  {
   "cell_type": "code",
   "execution_count": null,
   "id": "07b6e5f3",
   "metadata": {
    "ExecuteTime": {
     "end_time": "2024-12-17T02:04:59.104788Z",
     "start_time": "2024-12-17T02:04:59.097810Z"
    }
   },
   "outputs": [],
   "source": []
  },
  {
   "cell_type": "code",
   "execution_count": null,
   "id": "e3cd1701",
   "metadata": {},
   "outputs": [],
   "source": []
  },
  {
   "cell_type": "code",
   "execution_count": null,
   "id": "5a00c340",
   "metadata": {},
   "outputs": [],
   "source": []
  },
  {
   "cell_type": "code",
   "execution_count": null,
   "id": "d7eb9915",
   "metadata": {},
   "outputs": [],
   "source": []
  },
  {
   "cell_type": "code",
   "execution_count": null,
   "id": "b9880a9e",
   "metadata": {},
   "outputs": [],
   "source": []
  },
  {
   "cell_type": "code",
   "execution_count": null,
   "id": "3a491c7e",
   "metadata": {},
   "outputs": [],
   "source": []
  },
  {
   "cell_type": "code",
   "execution_count": null,
   "id": "c100b1af",
   "metadata": {},
   "outputs": [],
   "source": []
  },
  {
   "cell_type": "code",
   "execution_count": null,
   "id": "1b517345",
   "metadata": {},
   "outputs": [],
   "source": []
  },
  {
   "cell_type": "code",
   "execution_count": null,
   "id": "9111ecca",
   "metadata": {},
   "outputs": [],
   "source": []
  },
  {
   "cell_type": "code",
   "execution_count": null,
   "id": "0b6d1eb8",
   "metadata": {},
   "outputs": [],
   "source": []
  },
  {
   "cell_type": "code",
   "execution_count": null,
   "id": "e2cd2e3a",
   "metadata": {},
   "outputs": [],
   "source": []
  }
 ],
 "metadata": {
  "kernelspec": {
   "display_name": "Python 3 (ipykernel)",
   "language": "python",
   "name": "python3"
  },
  "language_info": {
   "codemirror_mode": {
    "name": "ipython",
    "version": 3
   },
   "file_extension": ".py",
   "mimetype": "text/x-python",
   "name": "python",
   "nbconvert_exporter": "python",
   "pygments_lexer": "ipython3",
   "version": "3.10.9"
  },
  "toc": {
   "base_numbering": 1,
   "nav_menu": {},
   "number_sections": true,
   "sideBar": true,
   "skip_h1_title": false,
   "title_cell": "Table of Contents",
   "title_sidebar": "Contents",
   "toc_cell": false,
   "toc_position": {},
   "toc_section_display": true,
   "toc_window_display": false
  }
 },
 "nbformat": 4,
 "nbformat_minor": 5
}
