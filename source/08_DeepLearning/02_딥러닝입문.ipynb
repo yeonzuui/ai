{
 "cells": [
  {
   "cell_type": "code",
   "execution_count": 1,
   "id": "d38b2753",
   "metadata": {
    "ExecuteTime": {
     "end_time": "2024-12-12T08:17:02.837218Z",
     "start_time": "2024-12-12T08:16:53.360568Z"
    }
   },
   "outputs": [
    {
     "name": "stdout",
     "output_type": "stream",
     "text": [
      "2.10.0\n"
     ]
    },
    {
     "data": {
      "text/plain": [
       "[PhysicalDevice(name='/physical_device:GPU:0', device_type='GPU')]"
      ]
     },
     "execution_count": 1,
     "metadata": {},
     "output_type": "execute_result"
    }
   ],
   "source": [
    "# GPU 사용 여부 확인\n",
    "import tensorflow as tf\n",
    "print(tf.__version__)\n",
    "tf.config.list_physical_devices('GPU')"
   ]
  },
  {
   "cell_type": "markdown",
   "id": "df0418d3",
   "metadata": {},
   "source": [
    "# 머신러닝/딥러닝: 데이터의 법칙성을 추출\n",
    "    - 다양한 분야에서 응용: 글씨인식, 문장분류, 질병진단, 얼굴식별, etc, ...\n",
    "    - 지도학습(회귀, 분류) vs 비지도학습(군집), 강화학습(게임)\n",
    "- 데이터 확보 및 생성(inputdata, outputdata)\n",
    "- 데이터 전처리 (결측치, 스케일조정, 훈련데이터셋과 검증데이터셋, 시험데이터셋으로 분류 ...)\n",
    "- 모델 구성\n",
    "- 모델 학습 과정 설정(손실 함수, 옵티마이저, 평가지표)\n",
    "- 모델 학습시키기\n",
    "- 모델 평가(시험데이터셋으로)\n",
    "- 모델 사용(모델 저장 후, 저장된 모델을 이용하여 입력값이 주어지면 예측값 받기)"
   ]
  },
  {
   "cell_type": "markdown",
   "id": "f61bb839",
   "metadata": {},
   "source": [
    "# 1. 데이터 셋 생성\n",
    "# 2. 데이터 전처리"
   ]
  },
  {
   "cell_type": "code",
   "execution_count": 2,
   "id": "f4896f66",
   "metadata": {
    "ExecuteTime": {
     "end_time": "2024-12-12T08:17:02.848189Z",
     "start_time": "2024-12-12T08:17:02.840210Z"
    }
   },
   "outputs": [],
   "source": [
    "import numpy as np\n",
    "from tensorflow.keras.utils import to_categorical # 분류분석시 원핫인코딩\n",
    "from tensorflow.keras.models import Sequential # 모델 생성\n",
    "from tensorflow.keras.layers import Dense, Input # 모델에 레이어 추가시"
   ]
  },
  {
   "cell_type": "code",
   "execution_count": 3,
   "id": "13a5a36c",
   "metadata": {
    "ExecuteTime": {
     "end_time": "2024-12-12T08:17:02.857164Z",
     "start_time": "2024-12-12T08:17:02.850184Z"
    }
   },
   "outputs": [],
   "source": [
    "# 학습데이터 == 훈련데이터\n",
    "X_train = np.array([1, 2, 3, 4, 5, 6, 7, 8, 9]*10)\n",
    "Y_train = np.array([2, 4, 6, 8, 10, 12, 14, 16, 18]*10)\n",
    "# 검증데이터\n",
    "X_val = np.array([1, 2, 3, 4, 5, 6, 7, 8, 9])\n",
    "Y_val = np.array([2, 4, 6, 8, 10, 12, 14, 16, 18])"
   ]
  },
  {
   "cell_type": "code",
   "execution_count": 4,
   "id": "b86738fa",
   "metadata": {
    "ExecuteTime": {
     "end_time": "2024-12-12T08:17:04.057965Z",
     "start_time": "2024-12-12T08:17:02.860158Z"
    }
   },
   "outputs": [
    {
     "name": "stdout",
     "output_type": "stream",
     "text": [
      "1. 원 데이터: ['a' 'b' 'b' 'b' 'c']\n",
      "2. 라벨인코딩된 데이터: [0 1 1 1 2]\n",
      "3. 원핫인코딩된 데이터(keras)\n",
      " [[1. 0. 0.]\n",
      " [0. 1. 0.]\n",
      " [0. 1. 0.]\n",
      " [0. 1. 0.]\n",
      " [0. 0. 1.]]\n"
     ]
    }
   ],
   "source": [
    "# 분류분석을 위한 인코딩 종류\n",
    "data = np.array(['a', 'b', 'b', 'b', 'c'])\n",
    "print('1. 원 데이터:', data)\n",
    "from sklearn.preprocessing import LabelEncoder\n",
    "le = LabelEncoder()\n",
    "labeling_data = le.fit_transform(data)\n",
    "print('2. 라벨인코딩된 데이터:', labeling_data)\n",
    "one_hot_encoding_data = to_categorical(labeling_data)\n",
    "print('3. 원핫인코딩된 데이터(keras)\\n', one_hot_encoding_data)"
   ]
  },
  {
   "cell_type": "code",
   "execution_count": 5,
   "id": "59b047bd",
   "metadata": {
    "ExecuteTime": {
     "end_time": "2024-12-12T08:17:04.086878Z",
     "start_time": "2024-12-12T08:17:04.060946Z"
    }
   },
   "outputs": [
    {
     "name": "stdout",
     "output_type": "stream",
     "text": [
      "원 데이터: [1 2 2 4 2]\n",
      "to_categorical을 이용한 원 핫 인코딩:\n",
      " [[0. 1. 0. 0. 0.]\n",
      " [0. 0. 1. 0. 0.]\n",
      " [0. 0. 1. 0. 0.]\n",
      " [0. 0. 0. 0. 1.]\n",
      " [0. 0. 1. 0. 0.]]\n"
     ]
    },
    {
     "data": {
      "text/plain": [
       "'get_dummies를 이용한 원 핫 인코딩(데이터프레임):\\n'"
      ]
     },
     "metadata": {},
     "output_type": "display_data"
    },
    {
     "data": {
      "text/html": [
       "<div>\n",
       "<style scoped>\n",
       "    .dataframe tbody tr th:only-of-type {\n",
       "        vertical-align: middle;\n",
       "    }\n",
       "\n",
       "    .dataframe tbody tr th {\n",
       "        vertical-align: top;\n",
       "    }\n",
       "\n",
       "    .dataframe thead th {\n",
       "        text-align: right;\n",
       "    }\n",
       "</style>\n",
       "<table border=\"1\" class=\"dataframe\">\n",
       "  <thead>\n",
       "    <tr style=\"text-align: right;\">\n",
       "      <th></th>\n",
       "      <th>1</th>\n",
       "      <th>2</th>\n",
       "      <th>4</th>\n",
       "    </tr>\n",
       "  </thead>\n",
       "  <tbody>\n",
       "    <tr>\n",
       "      <th>0</th>\n",
       "      <td>1</td>\n",
       "      <td>0</td>\n",
       "      <td>0</td>\n",
       "    </tr>\n",
       "    <tr>\n",
       "      <th>1</th>\n",
       "      <td>0</td>\n",
       "      <td>1</td>\n",
       "      <td>0</td>\n",
       "    </tr>\n",
       "    <tr>\n",
       "      <th>2</th>\n",
       "      <td>0</td>\n",
       "      <td>1</td>\n",
       "      <td>0</td>\n",
       "    </tr>\n",
       "    <tr>\n",
       "      <th>3</th>\n",
       "      <td>0</td>\n",
       "      <td>0</td>\n",
       "      <td>1</td>\n",
       "    </tr>\n",
       "    <tr>\n",
       "      <th>4</th>\n",
       "      <td>0</td>\n",
       "      <td>1</td>\n",
       "      <td>0</td>\n",
       "    </tr>\n",
       "  </tbody>\n",
       "</table>\n",
       "</div>"
      ],
      "text/plain": [
       "   1  2  4\n",
       "0  1  0  0\n",
       "1  0  1  0\n",
       "2  0  1  0\n",
       "3  0  0  1\n",
       "4  0  1  0"
      ]
     },
     "metadata": {},
     "output_type": "display_data"
    }
   ],
   "source": [
    "# 분류분석을 위한 원핫인코딩 방법\n",
    "data = np.array([1, 2, 2, 4, 2])\n",
    "print('원 데이터:', data)\n",
    "categorical_one_hot = to_categorical(data)\n",
    "print('to_categorical을 이용한 원 핫 인코딩:\\n', categorical_one_hot) # 0 ~ 가장 큰 숫자까지 Group 생성\n",
    "import pandas as pd\n",
    "display('get_dummies를 이용한 원 핫 인코딩(데이터프레임):\\n', pd.get_dummies(data))"
   ]
  },
  {
   "cell_type": "code",
   "execution_count": 6,
   "id": "818eee43",
   "metadata": {
    "ExecuteTime": {
     "end_time": "2024-12-12T08:17:04.100840Z",
     "start_time": "2024-12-12T08:17:04.091865Z"
    }
   },
   "outputs": [
    {
     "data": {
      "text/plain": [
       "(array([2, 4]), array([2, 4]))"
      ]
     },
     "execution_count": 6,
     "metadata": {},
     "output_type": "execute_result"
    }
   ],
   "source": [
    "Y_train[:2], Y_val[:2]"
   ]
  },
  {
   "cell_type": "code",
   "execution_count": 7,
   "id": "fa8b48f7",
   "metadata": {
    "ExecuteTime": {
     "end_time": "2024-12-12T08:17:04.109815Z",
     "start_time": "2024-12-12T08:17:04.103832Z"
    }
   },
   "outputs": [],
   "source": [
    "# 분류분석을 위해 종속변수(target 변수)를 원핫인코딩\n",
    "Y_train = to_categorical(Y_train, 19) # 숫자 범위 0 ~ 18만큼 Group 생성\n",
    "Y_val = to_categorical(Y_val)"
   ]
  },
  {
   "cell_type": "code",
   "execution_count": 8,
   "id": "d2c1ef74",
   "metadata": {
    "ExecuteTime": {
     "end_time": "2024-12-12T08:17:07.949550Z",
     "start_time": "2024-12-12T08:17:07.942567Z"
    }
   },
   "outputs": [
    {
     "data": {
      "text/plain": [
       "array([[0., 0., 1., 0., 0., 0., 0., 0., 0., 0., 0., 0., 0., 0., 0., 0.,\n",
       "        0., 0., 0.],\n",
       "       [0., 0., 0., 0., 1., 0., 0., 0., 0., 0., 0., 0., 0., 0., 0., 0.,\n",
       "        0., 0., 0.]], dtype=float32)"
      ]
     },
     "execution_count": 8,
     "metadata": {},
     "output_type": "execute_result"
    }
   ],
   "source": [
    "Y_train[:2]"
   ]
  },
  {
   "cell_type": "code",
   "execution_count": 9,
   "id": "e6d2a9b6",
   "metadata": {
    "ExecuteTime": {
     "end_time": "2024-12-12T08:17:08.589837Z",
     "start_time": "2024-12-12T08:17:08.582865Z"
    }
   },
   "outputs": [
    {
     "data": {
      "text/plain": [
       "((90,), (90, 19), (9,), (9, 19))"
      ]
     },
     "execution_count": 9,
     "metadata": {},
     "output_type": "execute_result"
    }
   ],
   "source": [
    "X_train.shape, Y_train.shape, X_val.shape, Y_val.shape"
   ]
  },
  {
   "cell_type": "code",
   "execution_count": 10,
   "id": "1403b0ec",
   "metadata": {
    "ExecuteTime": {
     "end_time": "2024-12-12T08:17:09.053628Z",
     "start_time": "2024-12-12T08:17:09.047630Z"
    }
   },
   "outputs": [
    {
     "data": {
      "text/plain": [
       "array([1, 2])"
      ]
     },
     "execution_count": 10,
     "metadata": {},
     "output_type": "execute_result"
    }
   ],
   "source": [
    "X_train[:2]"
   ]
  },
  {
   "cell_type": "code",
   "execution_count": 11,
   "id": "d657ba60",
   "metadata": {
    "ExecuteTime": {
     "end_time": "2024-12-12T08:17:09.501400Z",
     "start_time": "2024-12-12T08:17:09.495416Z"
    }
   },
   "outputs": [
    {
     "data": {
      "text/plain": [
       "array([[0., 0., 1., 0., 0., 0., 0., 0., 0., 0., 0., 0., 0., 0., 0., 0.,\n",
       "        0., 0., 0.],\n",
       "       [0., 0., 0., 0., 1., 0., 0., 0., 0., 0., 0., 0., 0., 0., 0., 0.,\n",
       "        0., 0., 0.]], dtype=float32)"
      ]
     },
     "execution_count": 11,
     "metadata": {},
     "output_type": "execute_result"
    }
   ],
   "source": [
    "Y_train[:2]"
   ]
  },
  {
   "cell_type": "markdown",
   "id": "67aa75ff",
   "metadata": {},
   "source": [
    "# 3. 모델 구성"
   ]
  },
  {
   "cell_type": "code",
   "execution_count": 12,
   "id": "da8339d5",
   "metadata": {
    "ExecuteTime": {
     "end_time": "2024-12-12T08:17:10.836831Z",
     "start_time": "2024-12-12T08:17:09.992087Z"
    }
   },
   "outputs": [
    {
     "name": "stdout",
     "output_type": "stream",
     "text": [
      "Model: \"sequential\"\n",
      "_________________________________________________________________\n",
      " Layer (type)                Output Shape              Param #   \n",
      "=================================================================\n",
      " dense (Dense)               (None, 38)                76        \n",
      "                                                                 \n",
      " dense_1 (Dense)             (None, 64)                2496      \n",
      "                                                                 \n",
      " dense_2 (Dense)             (None, 32)                2080      \n",
      "                                                                 \n",
      " dense_3 (Dense)             (None, 19)                627       \n",
      "                                                                 \n",
      "=================================================================\n",
      "Total params: 5,279\n",
      "Trainable params: 5,279\n",
      "Non-trainable params: 0\n",
      "_________________________________________________________________\n",
      "None\n"
     ]
    }
   ],
   "source": [
    "model = Sequential()\n",
    "model.add(Input(shape = (1, )))\n",
    "# units: 출력수, activation: 활성화 함수\n",
    "model.add(Dense(units = 38,             \n",
    "                activation = 'sigmoid')) # 2 X 38\n",
    "model.add(Dense(units = 64,\n",
    "                activation = 'elu'))     # 39 X 64\n",
    "model.add(Dense(units = 32,\n",
    "                activation = 'elu'))     # 65 X 32\n",
    "model.add(Dense(units = 19,\n",
    "                activation = 'softmax')) # 33 X 19\n",
    "# activation = 'softmax': 모든 출력의 합이 1, 분류분석의 마지막 layer에서 activation 함수로 사용\n",
    "print(model.summary())"
   ]
  },
  {
   "cell_type": "markdown",
   "id": "00de4ec7",
   "metadata": {},
   "source": [
    "# 4. 모델 학습과정 설정\n",
    "- 손실함수, 옵티마이저, 평가지표\n",
    "    * loss = 'categorical_crossentropy': 딥러닝 훈련 시 다중분류분석에서의 손실함수\n",
    "        * 모델의 예측 확률분포와 실제값의 확률분포가 얼마나 다른지 계산\n",
    "    * metrics = ['accuracy']: 정확도"
   ]
  },
  {
   "cell_type": "code",
   "execution_count": 13,
   "id": "d2d778d5",
   "metadata": {
    "ExecuteTime": {
     "end_time": "2024-12-12T08:17:12.436554Z",
     "start_time": "2024-12-12T08:17:12.415608Z"
    }
   },
   "outputs": [],
   "source": [
    "model.compile(loss = 'categorical_crossentropy', \n",
    "              optimizer = 'adam',\n",
    "              metrics   = ['accuracy'])"
   ]
  },
  {
   "cell_type": "markdown",
   "id": "4b3d5e05",
   "metadata": {},
   "source": [
    "# 5. 모델 학습시키기"
   ]
  },
  {
   "cell_type": "code",
   "execution_count": 14,
   "id": "602a77a0",
   "metadata": {
    "ExecuteTime": {
     "end_time": "2024-12-12T08:17:38.239564Z",
     "start_time": "2024-12-12T08:17:14.768345Z"
    },
    "scrolled": false
   },
   "outputs": [
    {
     "name": "stdout",
     "output_type": "stream",
     "text": [
      "Epoch 1/300\n",
      "9/9 - 1s - loss: 2.9531 - accuracy: 0.1222 - val_loss: 2.7356 - val_accuracy: 0.1111 - 1s/epoch - 139ms/step\n",
      "Epoch 2/300\n",
      "9/9 - 0s - loss: 2.6492 - accuracy: 0.1444 - val_loss: 2.5444 - val_accuracy: 0.2222 - 66ms/epoch - 7ms/step\n",
      "Epoch 3/300\n",
      "9/9 - 0s - loss: 2.4896 - accuracy: 0.2222 - val_loss: 2.3937 - val_accuracy: 0.2222 - 64ms/epoch - 7ms/step\n",
      "Epoch 4/300\n",
      "9/9 - 0s - loss: 2.3453 - accuracy: 0.2222 - val_loss: 2.2689 - val_accuracy: 0.2222 - 62ms/epoch - 7ms/step\n",
      "Epoch 5/300\n",
      "9/9 - 0s - loss: 2.2282 - accuracy: 0.2222 - val_loss: 2.1601 - val_accuracy: 0.2222 - 59ms/epoch - 7ms/step\n",
      "Epoch 6/300\n",
      "9/9 - 0s - loss: 2.1276 - accuracy: 0.2222 - val_loss: 2.0639 - val_accuracy: 0.2222 - 59ms/epoch - 7ms/step\n",
      "Epoch 7/300\n",
      "9/9 - 0s - loss: 2.0316 - accuracy: 0.2222 - val_loss: 1.9787 - val_accuracy: 0.2222 - 61ms/epoch - 7ms/step\n",
      "Epoch 8/300\n",
      "9/9 - 0s - loss: 1.9499 - accuracy: 0.2222 - val_loss: 1.9003 - val_accuracy: 0.2222 - 62ms/epoch - 7ms/step\n",
      "Epoch 9/300\n",
      "9/9 - 0s - loss: 1.8739 - accuracy: 0.1667 - val_loss: 1.8256 - val_accuracy: 0.2222 - 62ms/epoch - 7ms/step\n",
      "Epoch 10/300\n",
      "9/9 - 0s - loss: 1.8001 - accuracy: 0.1889 - val_loss: 1.7567 - val_accuracy: 0.2222 - 58ms/epoch - 6ms/step\n",
      "Epoch 11/300\n",
      "9/9 - 0s - loss: 1.7381 - accuracy: 0.2778 - val_loss: 1.6918 - val_accuracy: 0.3333 - 60ms/epoch - 7ms/step\n",
      "Epoch 12/300\n",
      "9/9 - 0s - loss: 1.6745 - accuracy: 0.2778 - val_loss: 1.6329 - val_accuracy: 0.2222 - 58ms/epoch - 6ms/step\n",
      "Epoch 13/300\n",
      "9/9 - 0s - loss: 1.6130 - accuracy: 0.2222 - val_loss: 1.5743 - val_accuracy: 0.2222 - 62ms/epoch - 7ms/step\n",
      "Epoch 14/300\n",
      "9/9 - 0s - loss: 1.5747 - accuracy: 0.3556 - val_loss: 1.5241 - val_accuracy: 0.4444 - 60ms/epoch - 7ms/step\n",
      "Epoch 15/300\n",
      "9/9 - 0s - loss: 1.5105 - accuracy: 0.4444 - val_loss: 1.4750 - val_accuracy: 0.3333 - 63ms/epoch - 7ms/step\n",
      "Epoch 16/300\n",
      "9/9 - 0s - loss: 1.4621 - accuracy: 0.2889 - val_loss: 1.4281 - val_accuracy: 0.4444 - 66ms/epoch - 7ms/step\n",
      "Epoch 17/300\n",
      "9/9 - 0s - loss: 1.4204 - accuracy: 0.3556 - val_loss: 1.3857 - val_accuracy: 0.4444 - 63ms/epoch - 7ms/step\n",
      "Epoch 18/300\n",
      "9/9 - 0s - loss: 1.3781 - accuracy: 0.5556 - val_loss: 1.3470 - val_accuracy: 0.6667 - 61ms/epoch - 7ms/step\n",
      "Epoch 19/300\n",
      "9/9 - 0s - loss: 1.3384 - accuracy: 0.6111 - val_loss: 1.3090 - val_accuracy: 0.5556 - 62ms/epoch - 7ms/step\n",
      "Epoch 20/300\n",
      "9/9 - 0s - loss: 1.2977 - accuracy: 0.5778 - val_loss: 1.2709 - val_accuracy: 0.6667 - 63ms/epoch - 7ms/step\n",
      "Epoch 21/300\n",
      "9/9 - 0s - loss: 1.2642 - accuracy: 0.7333 - val_loss: 1.2349 - val_accuracy: 0.7778 - 62ms/epoch - 7ms/step\n",
      "Epoch 22/300\n",
      "9/9 - 0s - loss: 1.2300 - accuracy: 0.6667 - val_loss: 1.2007 - val_accuracy: 0.7778 - 62ms/epoch - 7ms/step\n",
      "Epoch 23/300\n",
      "9/9 - 0s - loss: 1.1951 - accuracy: 0.8222 - val_loss: 1.1668 - val_accuracy: 0.8889 - 64ms/epoch - 7ms/step\n",
      "Epoch 24/300\n",
      "9/9 - 0s - loss: 1.1669 - accuracy: 0.8333 - val_loss: 1.1374 - val_accuracy: 0.7778 - 64ms/epoch - 7ms/step\n",
      "Epoch 25/300\n",
      "9/9 - 0s - loss: 1.1323 - accuracy: 0.9222 - val_loss: 1.1046 - val_accuracy: 0.7778 - 61ms/epoch - 7ms/step\n",
      "Epoch 26/300\n",
      "9/9 - 0s - loss: 1.1008 - accuracy: 0.7778 - val_loss: 1.0763 - val_accuracy: 0.7778 - 84ms/epoch - 9ms/step\n",
      "Epoch 27/300\n",
      "9/9 - 0s - loss: 1.0700 - accuracy: 0.8111 - val_loss: 1.0462 - val_accuracy: 0.8889 - 60ms/epoch - 7ms/step\n",
      "Epoch 28/300\n",
      "9/9 - 0s - loss: 1.0391 - accuracy: 0.8000 - val_loss: 1.0173 - val_accuracy: 0.8889 - 62ms/epoch - 7ms/step\n",
      "Epoch 29/300\n",
      "9/9 - 0s - loss: 1.0174 - accuracy: 0.8444 - val_loss: 0.9902 - val_accuracy: 0.8889 - 66ms/epoch - 7ms/step\n",
      "Epoch 30/300\n",
      "9/9 - 0s - loss: 0.9897 - accuracy: 0.9444 - val_loss: 0.9646 - val_accuracy: 0.8889 - 64ms/epoch - 7ms/step\n",
      "Epoch 31/300\n",
      "9/9 - 0s - loss: 0.9610 - accuracy: 0.9333 - val_loss: 0.9393 - val_accuracy: 0.8889 - 66ms/epoch - 7ms/step\n",
      "Epoch 32/300\n",
      "9/9 - 0s - loss: 0.9393 - accuracy: 0.9111 - val_loss: 0.9154 - val_accuracy: 0.8889 - 66ms/epoch - 7ms/step\n",
      "Epoch 33/300\n",
      "9/9 - 0s - loss: 0.9154 - accuracy: 0.8889 - val_loss: 0.8907 - val_accuracy: 0.8889 - 77ms/epoch - 9ms/step\n",
      "Epoch 34/300\n",
      "9/9 - 0s - loss: 0.8878 - accuracy: 0.8889 - val_loss: 0.8662 - val_accuracy: 0.8889 - 81ms/epoch - 9ms/step\n",
      "Epoch 35/300\n",
      "9/9 - 0s - loss: 0.8729 - accuracy: 0.8111 - val_loss: 0.8422 - val_accuracy: 1.0000 - 74ms/epoch - 8ms/step\n",
      "Epoch 36/300\n",
      "9/9 - 0s - loss: 0.8510 - accuracy: 1.0000 - val_loss: 0.8233 - val_accuracy: 1.0000 - 81ms/epoch - 9ms/step\n",
      "Epoch 37/300\n",
      "9/9 - 0s - loss: 0.8363 - accuracy: 0.9222 - val_loss: 0.8000 - val_accuracy: 0.8889 - 70ms/epoch - 8ms/step\n",
      "Epoch 38/300\n",
      "9/9 - 0s - loss: 0.8078 - accuracy: 0.9556 - val_loss: 0.7770 - val_accuracy: 0.8889 - 78ms/epoch - 9ms/step\n",
      "Epoch 39/300\n",
      "9/9 - 0s - loss: 0.7872 - accuracy: 0.8444 - val_loss: 0.7546 - val_accuracy: 1.0000 - 68ms/epoch - 8ms/step\n",
      "Epoch 40/300\n",
      "9/9 - 0s - loss: 0.7609 - accuracy: 0.9889 - val_loss: 0.7344 - val_accuracy: 0.8889 - 79ms/epoch - 9ms/step\n",
      "Epoch 41/300\n",
      "9/9 - 0s - loss: 0.7422 - accuracy: 0.8889 - val_loss: 0.7136 - val_accuracy: 1.0000 - 79ms/epoch - 9ms/step\n",
      "Epoch 42/300\n",
      "9/9 - 0s - loss: 0.7505 - accuracy: 0.8333 - val_loss: 0.7021 - val_accuracy: 0.8889 - 65ms/epoch - 7ms/step\n",
      "Epoch 43/300\n",
      "9/9 - 0s - loss: 0.6911 - accuracy: 0.9556 - val_loss: 0.6723 - val_accuracy: 1.0000 - 62ms/epoch - 7ms/step\n",
      "Epoch 44/300\n",
      "9/9 - 0s - loss: 0.6719 - accuracy: 1.0000 - val_loss: 0.6536 - val_accuracy: 1.0000 - 62ms/epoch - 7ms/step\n",
      "Epoch 45/300\n",
      "9/9 - 0s - loss: 0.6551 - accuracy: 1.0000 - val_loss: 0.6314 - val_accuracy: 1.0000 - 64ms/epoch - 7ms/step\n",
      "Epoch 46/300\n",
      "9/9 - 0s - loss: 0.6312 - accuracy: 1.0000 - val_loss: 0.6140 - val_accuracy: 1.0000 - 64ms/epoch - 7ms/step\n",
      "Epoch 47/300\n",
      "9/9 - 0s - loss: 0.6083 - accuracy: 0.8889 - val_loss: 0.5936 - val_accuracy: 1.0000 - 59ms/epoch - 7ms/step\n",
      "Epoch 48/300\n",
      "9/9 - 0s - loss: 0.5969 - accuracy: 1.0000 - val_loss: 0.5791 - val_accuracy: 1.0000 - 64ms/epoch - 7ms/step\n",
      "Epoch 49/300\n",
      "9/9 - 0s - loss: 0.5822 - accuracy: 1.0000 - val_loss: 0.5615 - val_accuracy: 1.0000 - 58ms/epoch - 6ms/step\n",
      "Epoch 50/300\n",
      "9/9 - 0s - loss: 0.5811 - accuracy: 0.9778 - val_loss: 0.5494 - val_accuracy: 1.0000 - 61ms/epoch - 7ms/step\n",
      "Epoch 51/300\n",
      "9/9 - 0s - loss: 0.5459 - accuracy: 1.0000 - val_loss: 0.5276 - val_accuracy: 1.0000 - 59ms/epoch - 7ms/step\n",
      "Epoch 52/300\n",
      "9/9 - 0s - loss: 0.5388 - accuracy: 1.0000 - val_loss: 0.5092 - val_accuracy: 1.0000 - 64ms/epoch - 7ms/step\n",
      "Epoch 53/300\n",
      "9/9 - 0s - loss: 0.5039 - accuracy: 1.0000 - val_loss: 0.4929 - val_accuracy: 1.0000 - 63ms/epoch - 7ms/step\n",
      "Epoch 54/300\n",
      "9/9 - 0s - loss: 0.4986 - accuracy: 1.0000 - val_loss: 0.4789 - val_accuracy: 1.0000 - 62ms/epoch - 7ms/step\n",
      "Epoch 55/300\n",
      "9/9 - 0s - loss: 0.4770 - accuracy: 1.0000 - val_loss: 0.4639 - val_accuracy: 1.0000 - 62ms/epoch - 7ms/step\n",
      "Epoch 56/300\n",
      "9/9 - 0s - loss: 0.4632 - accuracy: 1.0000 - val_loss: 0.4479 - val_accuracy: 1.0000 - 68ms/epoch - 8ms/step\n",
      "Epoch 57/300\n",
      "9/9 - 0s - loss: 0.4520 - accuracy: 1.0000 - val_loss: 0.4327 - val_accuracy: 1.0000 - 70ms/epoch - 8ms/step\n",
      "Epoch 58/300\n",
      "9/9 - 0s - loss: 0.4412 - accuracy: 0.9333 - val_loss: 0.4224 - val_accuracy: 1.0000 - 73ms/epoch - 8ms/step\n",
      "Epoch 59/300\n",
      "9/9 - 0s - loss: 0.4168 - accuracy: 1.0000 - val_loss: 0.4058 - val_accuracy: 1.0000 - 81ms/epoch - 9ms/step\n",
      "Epoch 60/300\n",
      "9/9 - 0s - loss: 0.4094 - accuracy: 1.0000 - val_loss: 0.3922 - val_accuracy: 1.0000 - 61ms/epoch - 7ms/step\n",
      "Epoch 61/300\n",
      "9/9 - 0s - loss: 0.3938 - accuracy: 1.0000 - val_loss: 0.3760 - val_accuracy: 1.0000 - 61ms/epoch - 7ms/step\n",
      "Epoch 62/300\n",
      "9/9 - 0s - loss: 0.3744 - accuracy: 1.0000 - val_loss: 0.3657 - val_accuracy: 1.0000 - 65ms/epoch - 7ms/step\n",
      "Epoch 63/300\n",
      "9/9 - 0s - loss: 0.3696 - accuracy: 1.0000 - val_loss: 0.3490 - val_accuracy: 1.0000 - 70ms/epoch - 8ms/step\n",
      "Epoch 64/300\n",
      "9/9 - 0s - loss: 0.3496 - accuracy: 1.0000 - val_loss: 0.3394 - val_accuracy: 1.0000 - 67ms/epoch - 7ms/step\n",
      "Epoch 65/300\n",
      "9/9 - 0s - loss: 0.3393 - accuracy: 1.0000 - val_loss: 0.3265 - val_accuracy: 1.0000 - 69ms/epoch - 8ms/step\n",
      "Epoch 66/300\n",
      "9/9 - 0s - loss: 0.3320 - accuracy: 1.0000 - val_loss: 0.3161 - val_accuracy: 1.0000 - 65ms/epoch - 7ms/step\n",
      "Epoch 67/300\n",
      "9/9 - 0s - loss: 0.3124 - accuracy: 1.0000 - val_loss: 0.3028 - val_accuracy: 1.0000 - 63ms/epoch - 7ms/step\n",
      "Epoch 68/300\n",
      "9/9 - 0s - loss: 0.3070 - accuracy: 1.0000 - val_loss: 0.2916 - val_accuracy: 1.0000 - 64ms/epoch - 7ms/step\n"
     ]
    },
    {
     "name": "stdout",
     "output_type": "stream",
     "text": [
      "Epoch 69/300\n",
      "9/9 - 0s - loss: 0.2914 - accuracy: 1.0000 - val_loss: 0.2813 - val_accuracy: 1.0000 - 62ms/epoch - 7ms/step\n",
      "Epoch 70/300\n",
      "9/9 - 0s - loss: 0.2910 - accuracy: 1.0000 - val_loss: 0.2756 - val_accuracy: 1.0000 - 64ms/epoch - 7ms/step\n",
      "Epoch 71/300\n",
      "9/9 - 0s - loss: 0.2706 - accuracy: 1.0000 - val_loss: 0.2631 - val_accuracy: 1.0000 - 59ms/epoch - 7ms/step\n",
      "Epoch 72/300\n",
      "9/9 - 0s - loss: 0.2780 - accuracy: 1.0000 - val_loss: 0.2603 - val_accuracy: 1.0000 - 59ms/epoch - 7ms/step\n",
      "Epoch 73/300\n",
      "9/9 - 0s - loss: 0.2703 - accuracy: 1.0000 - val_loss: 0.2572 - val_accuracy: 1.0000 - 64ms/epoch - 7ms/step\n",
      "Epoch 74/300\n",
      "9/9 - 0s - loss: 0.2464 - accuracy: 1.0000 - val_loss: 0.2403 - val_accuracy: 1.0000 - 64ms/epoch - 7ms/step\n",
      "Epoch 75/300\n",
      "9/9 - 0s - loss: 0.2393 - accuracy: 1.0000 - val_loss: 0.2348 - val_accuracy: 1.0000 - 64ms/epoch - 7ms/step\n",
      "Epoch 76/300\n",
      "9/9 - 0s - loss: 0.2313 - accuracy: 1.0000 - val_loss: 0.2170 - val_accuracy: 1.0000 - 63ms/epoch - 7ms/step\n",
      "Epoch 77/300\n",
      "9/9 - 0s - loss: 0.2155 - accuracy: 1.0000 - val_loss: 0.2080 - val_accuracy: 1.0000 - 61ms/epoch - 7ms/step\n",
      "Epoch 78/300\n",
      "9/9 - 0s - loss: 0.2077 - accuracy: 1.0000 - val_loss: 0.2009 - val_accuracy: 1.0000 - 64ms/epoch - 7ms/step\n",
      "Epoch 79/300\n",
      "9/9 - 0s - loss: 0.2034 - accuracy: 1.0000 - val_loss: 0.1927 - val_accuracy: 1.0000 - 62ms/epoch - 7ms/step\n",
      "Epoch 80/300\n",
      "9/9 - 0s - loss: 0.1937 - accuracy: 1.0000 - val_loss: 0.1862 - val_accuracy: 1.0000 - 66ms/epoch - 7ms/step\n",
      "Epoch 81/300\n",
      "9/9 - 0s - loss: 0.1914 - accuracy: 1.0000 - val_loss: 0.1797 - val_accuracy: 1.0000 - 67ms/epoch - 7ms/step\n",
      "Epoch 82/300\n",
      "9/9 - 0s - loss: 0.1825 - accuracy: 1.0000 - val_loss: 0.1740 - val_accuracy: 1.0000 - 62ms/epoch - 7ms/step\n",
      "Epoch 83/300\n",
      "9/9 - 0s - loss: 0.1735 - accuracy: 1.0000 - val_loss: 0.1671 - val_accuracy: 1.0000 - 63ms/epoch - 7ms/step\n",
      "Epoch 84/300\n",
      "9/9 - 0s - loss: 0.1679 - accuracy: 1.0000 - val_loss: 0.1600 - val_accuracy: 1.0000 - 62ms/epoch - 7ms/step\n",
      "Epoch 85/300\n",
      "9/9 - 0s - loss: 0.1623 - accuracy: 1.0000 - val_loss: 0.1542 - val_accuracy: 1.0000 - 60ms/epoch - 7ms/step\n",
      "Epoch 86/300\n",
      "9/9 - 0s - loss: 0.1560 - accuracy: 1.0000 - val_loss: 0.1516 - val_accuracy: 1.0000 - 62ms/epoch - 7ms/step\n",
      "Epoch 87/300\n",
      "9/9 - 0s - loss: 0.1501 - accuracy: 1.0000 - val_loss: 0.1439 - val_accuracy: 1.0000 - 71ms/epoch - 8ms/step\n",
      "Epoch 88/300\n",
      "9/9 - 0s - loss: 0.1467 - accuracy: 1.0000 - val_loss: 0.1371 - val_accuracy: 1.0000 - 68ms/epoch - 8ms/step\n",
      "Epoch 89/300\n",
      "9/9 - 0s - loss: 0.1373 - accuracy: 1.0000 - val_loss: 0.1347 - val_accuracy: 1.0000 - 69ms/epoch - 8ms/step\n",
      "Epoch 90/300\n",
      "9/9 - 0s - loss: 0.1356 - accuracy: 1.0000 - val_loss: 0.1271 - val_accuracy: 1.0000 - 70ms/epoch - 8ms/step\n",
      "Epoch 91/300\n",
      "9/9 - 0s - loss: 0.1311 - accuracy: 1.0000 - val_loss: 0.1234 - val_accuracy: 1.0000 - 70ms/epoch - 8ms/step\n",
      "Epoch 92/300\n",
      "9/9 - 0s - loss: 0.1234 - accuracy: 1.0000 - val_loss: 0.1184 - val_accuracy: 1.0000 - 73ms/epoch - 8ms/step\n",
      "Epoch 93/300\n",
      "9/9 - 0s - loss: 0.1172 - accuracy: 1.0000 - val_loss: 0.1134 - val_accuracy: 1.0000 - 70ms/epoch - 8ms/step\n",
      "Epoch 94/300\n",
      "9/9 - 0s - loss: 0.1161 - accuracy: 1.0000 - val_loss: 0.1090 - val_accuracy: 1.0000 - 74ms/epoch - 8ms/step\n",
      "Epoch 95/300\n",
      "9/9 - 0s - loss: 0.1091 - accuracy: 1.0000 - val_loss: 0.1072 - val_accuracy: 1.0000 - 75ms/epoch - 8ms/step\n",
      "Epoch 96/300\n",
      "9/9 - 0s - loss: 0.1043 - accuracy: 1.0000 - val_loss: 0.1002 - val_accuracy: 1.0000 - 67ms/epoch - 7ms/step\n",
      "Epoch 97/300\n",
      "9/9 - 0s - loss: 0.1026 - accuracy: 1.0000 - val_loss: 0.0983 - val_accuracy: 1.0000 - 61ms/epoch - 7ms/step\n",
      "Epoch 98/300\n",
      "9/9 - 0s - loss: 0.0955 - accuracy: 1.0000 - val_loss: 0.0938 - val_accuracy: 1.0000 - 63ms/epoch - 7ms/step\n",
      "Epoch 99/300\n",
      "9/9 - 0s - loss: 0.0945 - accuracy: 1.0000 - val_loss: 0.0914 - val_accuracy: 1.0000 - 66ms/epoch - 7ms/step\n",
      "Epoch 100/300\n",
      "9/9 - 0s - loss: 0.0922 - accuracy: 1.0000 - val_loss: 0.0882 - val_accuracy: 1.0000 - 68ms/epoch - 8ms/step\n",
      "Epoch 101/300\n",
      "9/9 - 0s - loss: 0.0890 - accuracy: 1.0000 - val_loss: 0.0849 - val_accuracy: 1.0000 - 66ms/epoch - 7ms/step\n",
      "Epoch 102/300\n",
      "9/9 - 0s - loss: 0.0832 - accuracy: 1.0000 - val_loss: 0.0801 - val_accuracy: 1.0000 - 65ms/epoch - 7ms/step\n",
      "Epoch 103/300\n",
      "9/9 - 0s - loss: 0.0800 - accuracy: 1.0000 - val_loss: 0.0775 - val_accuracy: 1.0000 - 69ms/epoch - 8ms/step\n",
      "Epoch 104/300\n",
      "9/9 - 0s - loss: 0.0766 - accuracy: 1.0000 - val_loss: 0.0746 - val_accuracy: 1.0000 - 65ms/epoch - 7ms/step\n",
      "Epoch 105/300\n",
      "9/9 - 0s - loss: 0.0758 - accuracy: 1.0000 - val_loss: 0.0725 - val_accuracy: 1.0000 - 73ms/epoch - 8ms/step\n",
      "Epoch 106/300\n",
      "9/9 - 0s - loss: 0.0719 - accuracy: 1.0000 - val_loss: 0.0708 - val_accuracy: 1.0000 - 70ms/epoch - 8ms/step\n",
      "Epoch 107/300\n",
      "9/9 - 0s - loss: 0.0709 - accuracy: 1.0000 - val_loss: 0.0669 - val_accuracy: 1.0000 - 83ms/epoch - 9ms/step\n",
      "Epoch 108/300\n",
      "9/9 - 0s - loss: 0.0671 - accuracy: 1.0000 - val_loss: 0.0652 - val_accuracy: 1.0000 - 71ms/epoch - 8ms/step\n",
      "Epoch 109/300\n",
      "9/9 - 0s - loss: 0.0639 - accuracy: 1.0000 - val_loss: 0.0627 - val_accuracy: 1.0000 - 77ms/epoch - 9ms/step\n",
      "Epoch 110/300\n",
      "9/9 - 0s - loss: 0.0633 - accuracy: 1.0000 - val_loss: 0.0603 - val_accuracy: 1.0000 - 74ms/epoch - 8ms/step\n",
      "Epoch 111/300\n",
      "9/9 - 0s - loss: 0.0605 - accuracy: 1.0000 - val_loss: 0.0584 - val_accuracy: 1.0000 - 76ms/epoch - 8ms/step\n",
      "Epoch 112/300\n",
      "9/9 - 0s - loss: 0.0584 - accuracy: 1.0000 - val_loss: 0.0567 - val_accuracy: 1.0000 - 66ms/epoch - 7ms/step\n",
      "Epoch 113/300\n",
      "9/9 - 0s - loss: 0.0562 - accuracy: 1.0000 - val_loss: 0.0545 - val_accuracy: 1.0000 - 71ms/epoch - 8ms/step\n",
      "Epoch 114/300\n",
      "9/9 - 0s - loss: 0.0540 - accuracy: 1.0000 - val_loss: 0.0526 - val_accuracy: 1.0000 - 70ms/epoch - 8ms/step\n",
      "Epoch 115/300\n",
      "9/9 - 0s - loss: 0.0534 - accuracy: 1.0000 - val_loss: 0.0512 - val_accuracy: 1.0000 - 72ms/epoch - 8ms/step\n",
      "Epoch 116/300\n",
      "9/9 - 0s - loss: 0.0506 - accuracy: 1.0000 - val_loss: 0.0494 - val_accuracy: 1.0000 - 70ms/epoch - 8ms/step\n",
      "Epoch 117/300\n",
      "9/9 - 0s - loss: 0.0506 - accuracy: 1.0000 - val_loss: 0.0478 - val_accuracy: 1.0000 - 74ms/epoch - 8ms/step\n",
      "Epoch 118/300\n",
      "9/9 - 0s - loss: 0.0475 - accuracy: 1.0000 - val_loss: 0.0462 - val_accuracy: 1.0000 - 82ms/epoch - 9ms/step\n",
      "Epoch 119/300\n",
      "9/9 - 0s - loss: 0.0473 - accuracy: 1.0000 - val_loss: 0.0453 - val_accuracy: 1.0000 - 71ms/epoch - 8ms/step\n",
      "Epoch 120/300\n",
      "9/9 - 0s - loss: 0.0456 - accuracy: 1.0000 - val_loss: 0.0438 - val_accuracy: 1.0000 - 71ms/epoch - 8ms/step\n",
      "Epoch 121/300\n",
      "9/9 - 0s - loss: 0.0439 - accuracy: 1.0000 - val_loss: 0.0421 - val_accuracy: 1.0000 - 76ms/epoch - 8ms/step\n",
      "Epoch 122/300\n",
      "9/9 - 0s - loss: 0.0423 - accuracy: 1.0000 - val_loss: 0.0409 - val_accuracy: 1.0000 - 73ms/epoch - 8ms/step\n",
      "Epoch 123/300\n",
      "9/9 - 0s - loss: 0.0408 - accuracy: 1.0000 - val_loss: 0.0399 - val_accuracy: 1.0000 - 66ms/epoch - 7ms/step\n",
      "Epoch 124/300\n",
      "9/9 - 0s - loss: 0.0401 - accuracy: 1.0000 - val_loss: 0.0385 - val_accuracy: 1.0000 - 73ms/epoch - 8ms/step\n",
      "Epoch 125/300\n",
      "9/9 - 0s - loss: 0.0389 - accuracy: 1.0000 - val_loss: 0.0371 - val_accuracy: 1.0000 - 65ms/epoch - 7ms/step\n",
      "Epoch 126/300\n",
      "9/9 - 0s - loss: 0.0373 - accuracy: 1.0000 - val_loss: 0.0362 - val_accuracy: 1.0000 - 64ms/epoch - 7ms/step\n",
      "Epoch 127/300\n",
      "9/9 - 0s - loss: 0.0359 - accuracy: 1.0000 - val_loss: 0.0349 - val_accuracy: 1.0000 - 61ms/epoch - 7ms/step\n",
      "Epoch 128/300\n",
      "9/9 - 0s - loss: 0.0352 - accuracy: 1.0000 - val_loss: 0.0339 - val_accuracy: 1.0000 - 66ms/epoch - 7ms/step\n",
      "Epoch 129/300\n",
      "9/9 - 0s - loss: 0.0341 - accuracy: 1.0000 - val_loss: 0.0330 - val_accuracy: 1.0000 - 73ms/epoch - 8ms/step\n",
      "Epoch 130/300\n",
      "9/9 - 0s - loss: 0.0330 - accuracy: 1.0000 - val_loss: 0.0320 - val_accuracy: 1.0000 - 66ms/epoch - 7ms/step\n",
      "Epoch 131/300\n",
      "9/9 - 0s - loss: 0.0320 - accuracy: 1.0000 - val_loss: 0.0311 - val_accuracy: 1.0000 - 72ms/epoch - 8ms/step\n",
      "Epoch 132/300\n",
      "9/9 - 0s - loss: 0.0312 - accuracy: 1.0000 - val_loss: 0.0303 - val_accuracy: 1.0000 - 69ms/epoch - 8ms/step\n",
      "Epoch 133/300\n",
      "9/9 - 0s - loss: 0.0301 - accuracy: 1.0000 - val_loss: 0.0294 - val_accuracy: 1.0000 - 71ms/epoch - 8ms/step\n",
      "Epoch 134/300\n",
      "9/9 - 0s - loss: 0.0295 - accuracy: 1.0000 - val_loss: 0.0287 - val_accuracy: 1.0000 - 79ms/epoch - 9ms/step\n",
      "Epoch 135/300\n",
      "9/9 - 0s - loss: 0.0286 - accuracy: 1.0000 - val_loss: 0.0278 - val_accuracy: 1.0000 - 82ms/epoch - 9ms/step\n"
     ]
    },
    {
     "name": "stdout",
     "output_type": "stream",
     "text": [
      "Epoch 136/300\n",
      "9/9 - 0s - loss: 0.0278 - accuracy: 1.0000 - val_loss: 0.0271 - val_accuracy: 1.0000 - 83ms/epoch - 9ms/step\n",
      "Epoch 137/300\n",
      "9/9 - 0s - loss: 0.0271 - accuracy: 1.0000 - val_loss: 0.0264 - val_accuracy: 1.0000 - 76ms/epoch - 8ms/step\n",
      "Epoch 138/300\n",
      "9/9 - 0s - loss: 0.0266 - accuracy: 1.0000 - val_loss: 0.0257 - val_accuracy: 1.0000 - 76ms/epoch - 8ms/step\n",
      "Epoch 139/300\n",
      "9/9 - 0s - loss: 0.0261 - accuracy: 1.0000 - val_loss: 0.0251 - val_accuracy: 1.0000 - 78ms/epoch - 9ms/step\n",
      "Epoch 140/300\n",
      "9/9 - 0s - loss: 0.0252 - accuracy: 1.0000 - val_loss: 0.0246 - val_accuracy: 1.0000 - 73ms/epoch - 8ms/step\n",
      "Epoch 141/300\n",
      "9/9 - 0s - loss: 0.0247 - accuracy: 1.0000 - val_loss: 0.0238 - val_accuracy: 1.0000 - 73ms/epoch - 8ms/step\n",
      "Epoch 142/300\n",
      "9/9 - 0s - loss: 0.0238 - accuracy: 1.0000 - val_loss: 0.0231 - val_accuracy: 1.0000 - 83ms/epoch - 9ms/step\n",
      "Epoch 143/300\n",
      "9/9 - 0s - loss: 0.0231 - accuracy: 1.0000 - val_loss: 0.0225 - val_accuracy: 1.0000 - 78ms/epoch - 9ms/step\n",
      "Epoch 144/300\n",
      "9/9 - 0s - loss: 0.0224 - accuracy: 1.0000 - val_loss: 0.0218 - val_accuracy: 1.0000 - 74ms/epoch - 8ms/step\n",
      "Epoch 145/300\n",
      "9/9 - 0s - loss: 0.0221 - accuracy: 1.0000 - val_loss: 0.0213 - val_accuracy: 1.0000 - 68ms/epoch - 8ms/step\n",
      "Epoch 146/300\n",
      "9/9 - 0s - loss: 0.0213 - accuracy: 1.0000 - val_loss: 0.0208 - val_accuracy: 1.0000 - 72ms/epoch - 8ms/step\n",
      "Epoch 147/300\n",
      "9/9 - 0s - loss: 0.0209 - accuracy: 1.0000 - val_loss: 0.0203 - val_accuracy: 1.0000 - 67ms/epoch - 7ms/step\n",
      "Epoch 148/300\n",
      "9/9 - 0s - loss: 0.0207 - accuracy: 1.0000 - val_loss: 0.0198 - val_accuracy: 1.0000 - 68ms/epoch - 8ms/step\n",
      "Epoch 149/300\n",
      "9/9 - 0s - loss: 0.0198 - accuracy: 1.0000 - val_loss: 0.0195 - val_accuracy: 1.0000 - 78ms/epoch - 9ms/step\n",
      "Epoch 150/300\n",
      "9/9 - 0s - loss: 0.0198 - accuracy: 1.0000 - val_loss: 0.0189 - val_accuracy: 1.0000 - 74ms/epoch - 8ms/step\n",
      "Epoch 151/300\n",
      "9/9 - 0s - loss: 0.0189 - accuracy: 1.0000 - val_loss: 0.0185 - val_accuracy: 1.0000 - 68ms/epoch - 8ms/step\n",
      "Epoch 152/300\n",
      "9/9 - 0s - loss: 0.0184 - accuracy: 1.0000 - val_loss: 0.0181 - val_accuracy: 1.0000 - 63ms/epoch - 7ms/step\n",
      "Epoch 153/300\n",
      "9/9 - 0s - loss: 0.0181 - accuracy: 1.0000 - val_loss: 0.0176 - val_accuracy: 1.0000 - 67ms/epoch - 7ms/step\n",
      "Epoch 154/300\n",
      "9/9 - 0s - loss: 0.0178 - accuracy: 1.0000 - val_loss: 0.0172 - val_accuracy: 1.0000 - 69ms/epoch - 8ms/step\n",
      "Epoch 155/300\n",
      "9/9 - 0s - loss: 0.0175 - accuracy: 1.0000 - val_loss: 0.0169 - val_accuracy: 1.0000 - 75ms/epoch - 8ms/step\n",
      "Epoch 156/300\n",
      "9/9 - 0s - loss: 0.0170 - accuracy: 1.0000 - val_loss: 0.0166 - val_accuracy: 1.0000 - 68ms/epoch - 8ms/step\n",
      "Epoch 157/300\n",
      "9/9 - 0s - loss: 0.0166 - accuracy: 1.0000 - val_loss: 0.0162 - val_accuracy: 1.0000 - 76ms/epoch - 8ms/step\n",
      "Epoch 158/300\n",
      "9/9 - 0s - loss: 0.0161 - accuracy: 1.0000 - val_loss: 0.0158 - val_accuracy: 1.0000 - 67ms/epoch - 7ms/step\n",
      "Epoch 159/300\n",
      "9/9 - 0s - loss: 0.0158 - accuracy: 1.0000 - val_loss: 0.0154 - val_accuracy: 1.0000 - 72ms/epoch - 8ms/step\n",
      "Epoch 160/300\n",
      "9/9 - 0s - loss: 0.0154 - accuracy: 1.0000 - val_loss: 0.0151 - val_accuracy: 1.0000 - 69ms/epoch - 8ms/step\n",
      "Epoch 161/300\n",
      "9/9 - 0s - loss: 0.0151 - accuracy: 1.0000 - val_loss: 0.0147 - val_accuracy: 1.0000 - 68ms/epoch - 8ms/step\n",
      "Epoch 162/300\n",
      "9/9 - 0s - loss: 0.0147 - accuracy: 1.0000 - val_loss: 0.0144 - val_accuracy: 1.0000 - 70ms/epoch - 8ms/step\n",
      "Epoch 163/300\n",
      "9/9 - 0s - loss: 0.0144 - accuracy: 1.0000 - val_loss: 0.0142 - val_accuracy: 1.0000 - 72ms/epoch - 8ms/step\n",
      "Epoch 164/300\n",
      "9/9 - 0s - loss: 0.0143 - accuracy: 1.0000 - val_loss: 0.0139 - val_accuracy: 1.0000 - 73ms/epoch - 8ms/step\n",
      "Epoch 165/300\n",
      "9/9 - 0s - loss: 0.0139 - accuracy: 1.0000 - val_loss: 0.0136 - val_accuracy: 1.0000 - 68ms/epoch - 8ms/step\n",
      "Epoch 166/300\n",
      "9/9 - 0s - loss: 0.0136 - accuracy: 1.0000 - val_loss: 0.0133 - val_accuracy: 1.0000 - 67ms/epoch - 7ms/step\n",
      "Epoch 167/300\n",
      "9/9 - 0s - loss: 0.0132 - accuracy: 1.0000 - val_loss: 0.0131 - val_accuracy: 1.0000 - 76ms/epoch - 8ms/step\n",
      "Epoch 168/300\n",
      "9/9 - 0s - loss: 0.0131 - accuracy: 1.0000 - val_loss: 0.0128 - val_accuracy: 1.0000 - 69ms/epoch - 8ms/step\n",
      "Epoch 169/300\n",
      "9/9 - 0s - loss: 0.0129 - accuracy: 1.0000 - val_loss: 0.0126 - val_accuracy: 1.0000 - 76ms/epoch - 8ms/step\n",
      "Epoch 170/300\n",
      "9/9 - 0s - loss: 0.0125 - accuracy: 1.0000 - val_loss: 0.0123 - val_accuracy: 1.0000 - 69ms/epoch - 8ms/step\n",
      "Epoch 171/300\n",
      "9/9 - 0s - loss: 0.0123 - accuracy: 1.0000 - val_loss: 0.0121 - val_accuracy: 1.0000 - 73ms/epoch - 8ms/step\n",
      "Epoch 172/300\n",
      "9/9 - 0s - loss: 0.0120 - accuracy: 1.0000 - val_loss: 0.0118 - val_accuracy: 1.0000 - 70ms/epoch - 8ms/step\n",
      "Epoch 173/300\n",
      "9/9 - 0s - loss: 0.0119 - accuracy: 1.0000 - val_loss: 0.0116 - val_accuracy: 1.0000 - 69ms/epoch - 8ms/step\n",
      "Epoch 174/300\n",
      "9/9 - 0s - loss: 0.0116 - accuracy: 1.0000 - val_loss: 0.0114 - val_accuracy: 1.0000 - 71ms/epoch - 8ms/step\n",
      "Epoch 175/300\n",
      "9/9 - 0s - loss: 0.0115 - accuracy: 1.0000 - val_loss: 0.0112 - val_accuracy: 1.0000 - 68ms/epoch - 8ms/step\n",
      "Epoch 176/300\n",
      "9/9 - 0s - loss: 0.0113 - accuracy: 1.0000 - val_loss: 0.0110 - val_accuracy: 1.0000 - 75ms/epoch - 8ms/step\n",
      "Epoch 177/300\n",
      "9/9 - 0s - loss: 0.0109 - accuracy: 1.0000 - val_loss: 0.0108 - val_accuracy: 1.0000 - 70ms/epoch - 8ms/step\n",
      "Epoch 178/300\n",
      "9/9 - 0s - loss: 0.0107 - accuracy: 1.0000 - val_loss: 0.0105 - val_accuracy: 1.0000 - 72ms/epoch - 8ms/step\n",
      "Epoch 179/300\n",
      "9/9 - 0s - loss: 0.0106 - accuracy: 1.0000 - val_loss: 0.0104 - val_accuracy: 1.0000 - 68ms/epoch - 8ms/step\n",
      "Epoch 180/300\n",
      "9/9 - 0s - loss: 0.0103 - accuracy: 1.0000 - val_loss: 0.0102 - val_accuracy: 1.0000 - 64ms/epoch - 7ms/step\n",
      "Epoch 181/300\n",
      "9/9 - 0s - loss: 0.0102 - accuracy: 1.0000 - val_loss: 0.0100 - val_accuracy: 1.0000 - 67ms/epoch - 7ms/step\n",
      "Epoch 182/300\n",
      "9/9 - 0s - loss: 0.0099 - accuracy: 1.0000 - val_loss: 0.0098 - val_accuracy: 1.0000 - 92ms/epoch - 10ms/step\n",
      "Epoch 183/300\n",
      "9/9 - 0s - loss: 0.0098 - accuracy: 1.0000 - val_loss: 0.0096 - val_accuracy: 1.0000 - 70ms/epoch - 8ms/step\n",
      "Epoch 184/300\n",
      "9/9 - 0s - loss: 0.0096 - accuracy: 1.0000 - val_loss: 0.0095 - val_accuracy: 1.0000 - 76ms/epoch - 8ms/step\n",
      "Epoch 185/300\n",
      "9/9 - 0s - loss: 0.0095 - accuracy: 1.0000 - val_loss: 0.0093 - val_accuracy: 1.0000 - 82ms/epoch - 9ms/step\n",
      "Epoch 186/300\n",
      "9/9 - 0s - loss: 0.0093 - accuracy: 1.0000 - val_loss: 0.0091 - val_accuracy: 1.0000 - 79ms/epoch - 9ms/step\n",
      "Epoch 187/300\n",
      "9/9 - 0s - loss: 0.0091 - accuracy: 1.0000 - val_loss: 0.0090 - val_accuracy: 1.0000 - 82ms/epoch - 9ms/step\n",
      "Epoch 188/300\n",
      "9/9 - 0s - loss: 0.0090 - accuracy: 1.0000 - val_loss: 0.0088 - val_accuracy: 1.0000 - 77ms/epoch - 9ms/step\n",
      "Epoch 189/300\n",
      "9/9 - 0s - loss: 0.0088 - accuracy: 1.0000 - val_loss: 0.0087 - val_accuracy: 1.0000 - 76ms/epoch - 8ms/step\n",
      "Epoch 190/300\n",
      "9/9 - 0s - loss: 0.0086 - accuracy: 1.0000 - val_loss: 0.0085 - val_accuracy: 1.0000 - 72ms/epoch - 8ms/step\n",
      "Epoch 191/300\n",
      "9/9 - 0s - loss: 0.0085 - accuracy: 1.0000 - val_loss: 0.0084 - val_accuracy: 1.0000 - 77ms/epoch - 9ms/step\n",
      "Epoch 192/300\n",
      "9/9 - 0s - loss: 0.0084 - accuracy: 1.0000 - val_loss: 0.0082 - val_accuracy: 1.0000 - 78ms/epoch - 9ms/step\n",
      "Epoch 193/300\n",
      "9/9 - 0s - loss: 0.0083 - accuracy: 1.0000 - val_loss: 0.0081 - val_accuracy: 1.0000 - 72ms/epoch - 8ms/step\n",
      "Epoch 194/300\n",
      "9/9 - 0s - loss: 0.0081 - accuracy: 1.0000 - val_loss: 0.0080 - val_accuracy: 1.0000 - 67ms/epoch - 7ms/step\n",
      "Epoch 195/300\n",
      "9/9 - 0s - loss: 0.0079 - accuracy: 1.0000 - val_loss: 0.0078 - val_accuracy: 1.0000 - 73ms/epoch - 8ms/step\n",
      "Epoch 196/300\n",
      "9/9 - 0s - loss: 0.0078 - accuracy: 1.0000 - val_loss: 0.0077 - val_accuracy: 1.0000 - 71ms/epoch - 8ms/step\n",
      "Epoch 197/300\n",
      "9/9 - 0s - loss: 0.0077 - accuracy: 1.0000 - val_loss: 0.0076 - val_accuracy: 1.0000 - 67ms/epoch - 7ms/step\n",
      "Epoch 198/300\n",
      "9/9 - 0s - loss: 0.0076 - accuracy: 1.0000 - val_loss: 0.0075 - val_accuracy: 1.0000 - 74ms/epoch - 8ms/step\n",
      "Epoch 199/300\n",
      "9/9 - 0s - loss: 0.0075 - accuracy: 1.0000 - val_loss: 0.0073 - val_accuracy: 1.0000 - 70ms/epoch - 8ms/step\n",
      "Epoch 200/300\n",
      "9/9 - 0s - loss: 0.0074 - accuracy: 1.0000 - val_loss: 0.0072 - val_accuracy: 1.0000 - 71ms/epoch - 8ms/step\n",
      "Epoch 201/300\n",
      "9/9 - 0s - loss: 0.0072 - accuracy: 1.0000 - val_loss: 0.0072 - val_accuracy: 1.0000 - 69ms/epoch - 8ms/step\n",
      "Epoch 202/300\n",
      "9/9 - 0s - loss: 0.0071 - accuracy: 1.0000 - val_loss: 0.0070 - val_accuracy: 1.0000 - 69ms/epoch - 8ms/step\n"
     ]
    },
    {
     "name": "stdout",
     "output_type": "stream",
     "text": [
      "Epoch 203/300\n",
      "9/9 - 0s - loss: 0.0070 - accuracy: 1.0000 - val_loss: 0.0069 - val_accuracy: 1.0000 - 76ms/epoch - 8ms/step\n",
      "Epoch 204/300\n",
      "9/9 - 0s - loss: 0.0069 - accuracy: 1.0000 - val_loss: 0.0068 - val_accuracy: 1.0000 - 65ms/epoch - 7ms/step\n",
      "Epoch 205/300\n",
      "9/9 - 0s - loss: 0.0068 - accuracy: 1.0000 - val_loss: 0.0067 - val_accuracy: 1.0000 - 71ms/epoch - 8ms/step\n",
      "Epoch 206/300\n",
      "9/9 - 0s - loss: 0.0067 - accuracy: 1.0000 - val_loss: 0.0066 - val_accuracy: 1.0000 - 68ms/epoch - 8ms/step\n",
      "Epoch 207/300\n",
      "9/9 - 0s - loss: 0.0066 - accuracy: 1.0000 - val_loss: 0.0065 - val_accuracy: 1.0000 - 67ms/epoch - 7ms/step\n",
      "Epoch 208/300\n",
      "9/9 - 0s - loss: 0.0065 - accuracy: 1.0000 - val_loss: 0.0064 - val_accuracy: 1.0000 - 70ms/epoch - 8ms/step\n",
      "Epoch 209/300\n",
      "9/9 - 0s - loss: 0.0063 - accuracy: 1.0000 - val_loss: 0.0063 - val_accuracy: 1.0000 - 76ms/epoch - 8ms/step\n",
      "Epoch 210/300\n",
      "9/9 - 0s - loss: 0.0063 - accuracy: 1.0000 - val_loss: 0.0062 - val_accuracy: 1.0000 - 76ms/epoch - 8ms/step\n",
      "Epoch 211/300\n",
      "9/9 - 0s - loss: 0.0062 - accuracy: 1.0000 - val_loss: 0.0061 - val_accuracy: 1.0000 - 71ms/epoch - 8ms/step\n",
      "Epoch 212/300\n",
      "9/9 - 0s - loss: 0.0061 - accuracy: 1.0000 - val_loss: 0.0060 - val_accuracy: 1.0000 - 74ms/epoch - 8ms/step\n",
      "Epoch 213/300\n",
      "9/9 - 0s - loss: 0.0060 - accuracy: 1.0000 - val_loss: 0.0059 - val_accuracy: 1.0000 - 72ms/epoch - 8ms/step\n",
      "Epoch 214/300\n",
      "9/9 - 0s - loss: 0.0059 - accuracy: 1.0000 - val_loss: 0.0058 - val_accuracy: 1.0000 - 75ms/epoch - 8ms/step\n",
      "Epoch 215/300\n",
      "9/9 - 0s - loss: 0.0058 - accuracy: 1.0000 - val_loss: 0.0057 - val_accuracy: 1.0000 - 75ms/epoch - 8ms/step\n",
      "Epoch 216/300\n",
      "9/9 - 0s - loss: 0.0057 - accuracy: 1.0000 - val_loss: 0.0057 - val_accuracy: 1.0000 - 73ms/epoch - 8ms/step\n",
      "Epoch 217/300\n",
      "9/9 - 0s - loss: 0.0056 - accuracy: 1.0000 - val_loss: 0.0056 - val_accuracy: 1.0000 - 77ms/epoch - 9ms/step\n",
      "Epoch 218/300\n",
      "9/9 - 0s - loss: 0.0056 - accuracy: 1.0000 - val_loss: 0.0055 - val_accuracy: 1.0000 - 71ms/epoch - 8ms/step\n",
      "Epoch 219/300\n",
      "9/9 - 0s - loss: 0.0055 - accuracy: 1.0000 - val_loss: 0.0054 - val_accuracy: 1.0000 - 71ms/epoch - 8ms/step\n",
      "Epoch 220/300\n",
      "9/9 - 0s - loss: 0.0054 - accuracy: 1.0000 - val_loss: 0.0053 - val_accuracy: 1.0000 - 70ms/epoch - 8ms/step\n",
      "Epoch 221/300\n",
      "9/9 - 0s - loss: 0.0053 - accuracy: 1.0000 - val_loss: 0.0053 - val_accuracy: 1.0000 - 76ms/epoch - 8ms/step\n",
      "Epoch 222/300\n",
      "9/9 - 0s - loss: 0.0053 - accuracy: 1.0000 - val_loss: 0.0052 - val_accuracy: 1.0000 - 69ms/epoch - 8ms/step\n",
      "Epoch 223/300\n",
      "9/9 - 0s - loss: 0.0052 - accuracy: 1.0000 - val_loss: 0.0051 - val_accuracy: 1.0000 - 74ms/epoch - 8ms/step\n",
      "Epoch 224/300\n",
      "9/9 - 0s - loss: 0.0051 - accuracy: 1.0000 - val_loss: 0.0050 - val_accuracy: 1.0000 - 69ms/epoch - 8ms/step\n",
      "Epoch 225/300\n",
      "9/9 - 0s - loss: 0.0050 - accuracy: 1.0000 - val_loss: 0.0050 - val_accuracy: 1.0000 - 77ms/epoch - 9ms/step\n",
      "Epoch 226/300\n",
      "9/9 - 0s - loss: 0.0050 - accuracy: 1.0000 - val_loss: 0.0049 - val_accuracy: 1.0000 - 74ms/epoch - 8ms/step\n",
      "Epoch 227/300\n",
      "9/9 - 0s - loss: 0.0049 - accuracy: 1.0000 - val_loss: 0.0048 - val_accuracy: 1.0000 - 69ms/epoch - 8ms/step\n",
      "Epoch 228/300\n",
      "9/9 - 0s - loss: 0.0048 - accuracy: 1.0000 - val_loss: 0.0048 - val_accuracy: 1.0000 - 68ms/epoch - 8ms/step\n",
      "Epoch 229/300\n",
      "9/9 - 0s - loss: 0.0048 - accuracy: 1.0000 - val_loss: 0.0047 - val_accuracy: 1.0000 - 80ms/epoch - 9ms/step\n",
      "Epoch 230/300\n",
      "9/9 - 0s - loss: 0.0047 - accuracy: 1.0000 - val_loss: 0.0046 - val_accuracy: 1.0000 - 75ms/epoch - 8ms/step\n",
      "Epoch 231/300\n",
      "9/9 - 0s - loss: 0.0046 - accuracy: 1.0000 - val_loss: 0.0046 - val_accuracy: 1.0000 - 69ms/epoch - 8ms/step\n",
      "Epoch 232/300\n",
      "9/9 - 0s - loss: 0.0046 - accuracy: 1.0000 - val_loss: 0.0045 - val_accuracy: 1.0000 - 67ms/epoch - 7ms/step\n",
      "Epoch 233/300\n",
      "9/9 - 0s - loss: 0.0045 - accuracy: 1.0000 - val_loss: 0.0045 - val_accuracy: 1.0000 - 79ms/epoch - 9ms/step\n",
      "Epoch 234/300\n",
      "9/9 - 0s - loss: 0.0045 - accuracy: 1.0000 - val_loss: 0.0044 - val_accuracy: 1.0000 - 98ms/epoch - 11ms/step\n",
      "Epoch 235/300\n",
      "9/9 - 0s - loss: 0.0044 - accuracy: 1.0000 - val_loss: 0.0043 - val_accuracy: 1.0000 - 86ms/epoch - 10ms/step\n",
      "Epoch 236/300\n",
      "9/9 - 0s - loss: 0.0043 - accuracy: 1.0000 - val_loss: 0.0043 - val_accuracy: 1.0000 - 85ms/epoch - 9ms/step\n",
      "Epoch 237/300\n",
      "9/9 - 0s - loss: 0.0043 - accuracy: 1.0000 - val_loss: 0.0042 - val_accuracy: 1.0000 - 81ms/epoch - 9ms/step\n",
      "Epoch 238/300\n",
      "9/9 - 0s - loss: 0.0043 - accuracy: 1.0000 - val_loss: 0.0042 - val_accuracy: 1.0000 - 77ms/epoch - 9ms/step\n",
      "Epoch 239/300\n",
      "9/9 - 0s - loss: 0.0042 - accuracy: 1.0000 - val_loss: 0.0041 - val_accuracy: 1.0000 - 73ms/epoch - 8ms/step\n",
      "Epoch 240/300\n",
      "9/9 - 0s - loss: 0.0041 - accuracy: 1.0000 - val_loss: 0.0041 - val_accuracy: 1.0000 - 79ms/epoch - 9ms/step\n",
      "Epoch 241/300\n",
      "9/9 - 0s - loss: 0.0041 - accuracy: 1.0000 - val_loss: 0.0040 - val_accuracy: 1.0000 - 72ms/epoch - 8ms/step\n",
      "Epoch 242/300\n",
      "9/9 - 0s - loss: 0.0040 - accuracy: 1.0000 - val_loss: 0.0040 - val_accuracy: 1.0000 - 72ms/epoch - 8ms/step\n",
      "Epoch 243/300\n",
      "9/9 - 0s - loss: 0.0040 - accuracy: 1.0000 - val_loss: 0.0039 - val_accuracy: 1.0000 - 69ms/epoch - 8ms/step\n",
      "Epoch 244/300\n",
      "9/9 - 0s - loss: 0.0039 - accuracy: 1.0000 - val_loss: 0.0039 - val_accuracy: 1.0000 - 75ms/epoch - 8ms/step\n",
      "Epoch 245/300\n",
      "9/9 - 0s - loss: 0.0039 - accuracy: 1.0000 - val_loss: 0.0038 - val_accuracy: 1.0000 - 70ms/epoch - 8ms/step\n",
      "Epoch 246/300\n",
      "9/9 - 0s - loss: 0.0038 - accuracy: 1.0000 - val_loss: 0.0038 - val_accuracy: 1.0000 - 74ms/epoch - 8ms/step\n",
      "Epoch 247/300\n",
      "9/9 - 0s - loss: 0.0038 - accuracy: 1.0000 - val_loss: 0.0037 - val_accuracy: 1.0000 - 76ms/epoch - 8ms/step\n",
      "Epoch 248/300\n",
      "9/9 - 0s - loss: 0.0037 - accuracy: 1.0000 - val_loss: 0.0037 - val_accuracy: 1.0000 - 75ms/epoch - 8ms/step\n",
      "Epoch 249/300\n",
      "9/9 - 0s - loss: 0.0037 - accuracy: 1.0000 - val_loss: 0.0036 - val_accuracy: 1.0000 - 80ms/epoch - 9ms/step\n",
      "Epoch 250/300\n",
      "9/9 - 0s - loss: 0.0036 - accuracy: 1.0000 - val_loss: 0.0036 - val_accuracy: 1.0000 - 74ms/epoch - 8ms/step\n",
      "Epoch 251/300\n",
      "9/9 - 0s - loss: 0.0036 - accuracy: 1.0000 - val_loss: 0.0035 - val_accuracy: 1.0000 - 72ms/epoch - 8ms/step\n",
      "Epoch 252/300\n",
      "9/9 - 0s - loss: 0.0035 - accuracy: 1.0000 - val_loss: 0.0035 - val_accuracy: 1.0000 - 80ms/epoch - 9ms/step\n",
      "Epoch 253/300\n",
      "9/9 - 0s - loss: 0.0035 - accuracy: 1.0000 - val_loss: 0.0035 - val_accuracy: 1.0000 - 79ms/epoch - 9ms/step\n",
      "Epoch 254/300\n",
      "9/9 - 0s - loss: 0.0035 - accuracy: 1.0000 - val_loss: 0.0034 - val_accuracy: 1.0000 - 80ms/epoch - 9ms/step\n",
      "Epoch 255/300\n",
      "9/9 - 0s - loss: 0.0034 - accuracy: 1.0000 - val_loss: 0.0034 - val_accuracy: 1.0000 - 75ms/epoch - 8ms/step\n",
      "Epoch 256/300\n",
      "9/9 - 0s - loss: 0.0034 - accuracy: 1.0000 - val_loss: 0.0033 - val_accuracy: 1.0000 - 74ms/epoch - 8ms/step\n",
      "Epoch 257/300\n",
      "9/9 - 0s - loss: 0.0033 - accuracy: 1.0000 - val_loss: 0.0033 - val_accuracy: 1.0000 - 81ms/epoch - 9ms/step\n",
      "Epoch 258/300\n",
      "9/9 - 0s - loss: 0.0033 - accuracy: 1.0000 - val_loss: 0.0033 - val_accuracy: 1.0000 - 73ms/epoch - 8ms/step\n",
      "Epoch 259/300\n",
      "9/9 - 0s - loss: 0.0033 - accuracy: 1.0000 - val_loss: 0.0032 - val_accuracy: 1.0000 - 72ms/epoch - 8ms/step\n",
      "Epoch 260/300\n",
      "9/9 - 0s - loss: 0.0032 - accuracy: 1.0000 - val_loss: 0.0032 - val_accuracy: 1.0000 - 76ms/epoch - 8ms/step\n",
      "Epoch 261/300\n",
      "9/9 - 0s - loss: 0.0032 - accuracy: 1.0000 - val_loss: 0.0031 - val_accuracy: 1.0000 - 74ms/epoch - 8ms/step\n",
      "Epoch 262/300\n",
      "9/9 - 0s - loss: 0.0031 - accuracy: 1.0000 - val_loss: 0.0031 - val_accuracy: 1.0000 - 72ms/epoch - 8ms/step\n",
      "Epoch 263/300\n",
      "9/9 - 0s - loss: 0.0031 - accuracy: 1.0000 - val_loss: 0.0031 - val_accuracy: 1.0000 - 80ms/epoch - 9ms/step\n",
      "Epoch 264/300\n",
      "9/9 - 0s - loss: 0.0031 - accuracy: 1.0000 - val_loss: 0.0030 - val_accuracy: 1.0000 - 78ms/epoch - 9ms/step\n",
      "Epoch 265/300\n",
      "9/9 - 0s - loss: 0.0030 - accuracy: 1.0000 - val_loss: 0.0030 - val_accuracy: 1.0000 - 68ms/epoch - 8ms/step\n",
      "Epoch 266/300\n",
      "9/9 - 0s - loss: 0.0030 - accuracy: 1.0000 - val_loss: 0.0030 - val_accuracy: 1.0000 - 76ms/epoch - 8ms/step\n",
      "Epoch 267/300\n",
      "9/9 - 0s - loss: 0.0030 - accuracy: 1.0000 - val_loss: 0.0029 - val_accuracy: 1.0000 - 78ms/epoch - 9ms/step\n",
      "Epoch 268/300\n",
      "9/9 - 0s - loss: 0.0029 - accuracy: 1.0000 - val_loss: 0.0029 - val_accuracy: 1.0000 - 77ms/epoch - 9ms/step\n",
      "Epoch 269/300\n",
      "9/9 - 0s - loss: 0.0029 - accuracy: 1.0000 - val_loss: 0.0029 - val_accuracy: 1.0000 - 85ms/epoch - 9ms/step\n"
     ]
    },
    {
     "name": "stdout",
     "output_type": "stream",
     "text": [
      "Epoch 270/300\n",
      "9/9 - 0s - loss: 0.0029 - accuracy: 1.0000 - val_loss: 0.0028 - val_accuracy: 1.0000 - 70ms/epoch - 8ms/step\n",
      "Epoch 271/300\n",
      "9/9 - 0s - loss: 0.0028 - accuracy: 1.0000 - val_loss: 0.0028 - val_accuracy: 1.0000 - 73ms/epoch - 8ms/step\n",
      "Epoch 272/300\n",
      "9/9 - 0s - loss: 0.0028 - accuracy: 1.0000 - val_loss: 0.0028 - val_accuracy: 1.0000 - 76ms/epoch - 8ms/step\n",
      "Epoch 273/300\n",
      "9/9 - 0s - loss: 0.0028 - accuracy: 1.0000 - val_loss: 0.0027 - val_accuracy: 1.0000 - 74ms/epoch - 8ms/step\n",
      "Epoch 274/300\n",
      "9/9 - 0s - loss: 0.0027 - accuracy: 1.0000 - val_loss: 0.0027 - val_accuracy: 1.0000 - 72ms/epoch - 8ms/step\n",
      "Epoch 275/300\n",
      "9/9 - 0s - loss: 0.0027 - accuracy: 1.0000 - val_loss: 0.0027 - val_accuracy: 1.0000 - 79ms/epoch - 9ms/step\n",
      "Epoch 276/300\n",
      "9/9 - 0s - loss: 0.0027 - accuracy: 1.0000 - val_loss: 0.0026 - val_accuracy: 1.0000 - 72ms/epoch - 8ms/step\n",
      "Epoch 277/300\n",
      "9/9 - 0s - loss: 0.0026 - accuracy: 1.0000 - val_loss: 0.0026 - val_accuracy: 1.0000 - 74ms/epoch - 8ms/step\n",
      "Epoch 278/300\n",
      "9/9 - 0s - loss: 0.0026 - accuracy: 1.0000 - val_loss: 0.0026 - val_accuracy: 1.0000 - 74ms/epoch - 8ms/step\n",
      "Epoch 279/300\n",
      "9/9 - 0s - loss: 0.0026 - accuracy: 1.0000 - val_loss: 0.0026 - val_accuracy: 1.0000 - 72ms/epoch - 8ms/step\n",
      "Epoch 280/300\n",
      "9/9 - 0s - loss: 0.0026 - accuracy: 1.0000 - val_loss: 0.0025 - val_accuracy: 1.0000 - 84ms/epoch - 9ms/step\n",
      "Epoch 281/300\n",
      "9/9 - 0s - loss: 0.0025 - accuracy: 1.0000 - val_loss: 0.0025 - val_accuracy: 1.0000 - 83ms/epoch - 9ms/step\n",
      "Epoch 282/300\n",
      "9/9 - 0s - loss: 0.0025 - accuracy: 1.0000 - val_loss: 0.0025 - val_accuracy: 1.0000 - 79ms/epoch - 9ms/step\n",
      "Epoch 283/300\n",
      "9/9 - 0s - loss: 0.0025 - accuracy: 1.0000 - val_loss: 0.0024 - val_accuracy: 1.0000 - 73ms/epoch - 8ms/step\n",
      "Epoch 284/300\n",
      "9/9 - 0s - loss: 0.0024 - accuracy: 1.0000 - val_loss: 0.0024 - val_accuracy: 1.0000 - 75ms/epoch - 8ms/step\n",
      "Epoch 285/300\n",
      "9/9 - 0s - loss: 0.0024 - accuracy: 1.0000 - val_loss: 0.0024 - val_accuracy: 1.0000 - 82ms/epoch - 9ms/step\n",
      "Epoch 286/300\n",
      "9/9 - 0s - loss: 0.0024 - accuracy: 1.0000 - val_loss: 0.0024 - val_accuracy: 1.0000 - 83ms/epoch - 9ms/step\n",
      "Epoch 287/300\n",
      "9/9 - 0s - loss: 0.0024 - accuracy: 1.0000 - val_loss: 0.0023 - val_accuracy: 1.0000 - 81ms/epoch - 9ms/step\n",
      "Epoch 288/300\n",
      "9/9 - 0s - loss: 0.0023 - accuracy: 1.0000 - val_loss: 0.0023 - val_accuracy: 1.0000 - 71ms/epoch - 8ms/step\n",
      "Epoch 289/300\n",
      "9/9 - 0s - loss: 0.0023 - accuracy: 1.0000 - val_loss: 0.0023 - val_accuracy: 1.0000 - 70ms/epoch - 8ms/step\n",
      "Epoch 290/300\n",
      "9/9 - 0s - loss: 0.0023 - accuracy: 1.0000 - val_loss: 0.0023 - val_accuracy: 1.0000 - 74ms/epoch - 8ms/step\n",
      "Epoch 291/300\n",
      "9/9 - 0s - loss: 0.0023 - accuracy: 1.0000 - val_loss: 0.0022 - val_accuracy: 1.0000 - 75ms/epoch - 8ms/step\n",
      "Epoch 292/300\n",
      "9/9 - 0s - loss: 0.0022 - accuracy: 1.0000 - val_loss: 0.0022 - val_accuracy: 1.0000 - 75ms/epoch - 8ms/step\n",
      "Epoch 293/300\n",
      "9/9 - 0s - loss: 0.0022 - accuracy: 1.0000 - val_loss: 0.0022 - val_accuracy: 1.0000 - 75ms/epoch - 8ms/step\n",
      "Epoch 294/300\n",
      "9/9 - 0s - loss: 0.0022 - accuracy: 1.0000 - val_loss: 0.0022 - val_accuracy: 1.0000 - 71ms/epoch - 8ms/step\n",
      "Epoch 295/300\n",
      "9/9 - 0s - loss: 0.0022 - accuracy: 1.0000 - val_loss: 0.0022 - val_accuracy: 1.0000 - 72ms/epoch - 8ms/step\n",
      "Epoch 296/300\n",
      "9/9 - 0s - loss: 0.0022 - accuracy: 1.0000 - val_loss: 0.0021 - val_accuracy: 1.0000 - 70ms/epoch - 8ms/step\n",
      "Epoch 297/300\n",
      "9/9 - 0s - loss: 0.0021 - accuracy: 1.0000 - val_loss: 0.0021 - val_accuracy: 1.0000 - 73ms/epoch - 8ms/step\n",
      "Epoch 298/300\n",
      "9/9 - 0s - loss: 0.0021 - accuracy: 1.0000 - val_loss: 0.0021 - val_accuracy: 1.0000 - 72ms/epoch - 8ms/step\n",
      "Epoch 299/300\n",
      "9/9 - 0s - loss: 0.0021 - accuracy: 1.0000 - val_loss: 0.0021 - val_accuracy: 1.0000 - 75ms/epoch - 8ms/step\n",
      "Epoch 300/300\n",
      "9/9 - 0s - loss: 0.0021 - accuracy: 1.0000 - val_loss: 0.0020 - val_accuracy: 1.0000 - 76ms/epoch - 8ms/step\n"
     ]
    }
   ],
   "source": [
    "hist = model.fit(X_train, Y_train, # 훈련(학습)데이터 \n",
    "                 epochs     = 300, # 학습 횟수\n",
    "                 batch_size = 10,  # 가중치를 조정하는 단위\n",
    "                 verbose    = 2,   # 0: 출력없음, 1: 진행상황만 출력, 2:epoch별 로그메세지\n",
    "                 validation_data = (X_val, Y_val), # 검증 데이터셋\n",
    "                )"
   ]
  },
  {
   "cell_type": "markdown",
   "id": "fda974d1",
   "metadata": {},
   "source": [
    "# 6. 모델과정 평가하기\n",
    "- 학습과정 중 loss와 평가지표(accuracy) 살펴보기, evaluate함수)"
   ]
  },
  {
   "cell_type": "code",
   "execution_count": 15,
   "id": "d1f5a046",
   "metadata": {
    "ExecuteTime": {
     "end_time": "2024-12-12T08:17:49.197299Z",
     "start_time": "2024-12-12T08:17:49.192277Z"
    }
   },
   "outputs": [
    {
     "data": {
      "text/plain": [
       "dict_keys(['loss', 'accuracy', 'val_loss', 'val_accuracy'])"
      ]
     },
     "execution_count": 15,
     "metadata": {},
     "output_type": "execute_result"
    }
   ],
   "source": [
    "hist.history.keys()"
   ]
  },
  {
   "cell_type": "code",
   "execution_count": 17,
   "id": "f7bc78ed",
   "metadata": {
    "ExecuteTime": {
     "end_time": "2024-12-12T08:18:26.867575Z",
     "start_time": "2024-12-12T08:18:26.576350Z"
    }
   },
   "outputs": [
    {
     "data": {
      "image/png": "[encoded data removed]",
      "text/plain": [
       "<Figure size 1000x400 with 2 Axes>"
      ]
     },
     "metadata": {},
     "output_type": "display_data"
    }
   ],
   "source": [
    "# 학습과정 중의 loss와 accuracy\n",
    "import matplotlib.pyplot as plt\n",
    "fig, loss_ax = plt.subplots(figsize = (10, 4))\n",
    "loss_ax.plot(hist.history['loss'], \n",
    "             'y--', \n",
    "             label = 'train loss')\n",
    "loss_ax.plot(hist.history['val_loss'], \n",
    "             'r:', \n",
    "             label = 'val loss')\n",
    "\n",
    "acc_ax = loss_ax.twinx() # loss_ax와 x축을 공유하는 acc_ax 생성\n",
    "\n",
    "acc_ax.plot(hist.history['accuracy'], \n",
    "            'y',\n",
    "            label = 'train accuracy')\n",
    "acc_ax.plot(hist.history['val_accuracy'],\n",
    "            'b',\n",
    "            label = 'val accuracy')\n",
    "\n",
    "loss_ax.set_xlabel('epoch')\n",
    "loss_ax.set_ylabel('loss')\n",
    "loss_ax.plot(hist.history['accuracy'])\n",
    "loss_ax.legend(loc = 'center')\n",
    "acc_ax.legend(loc = 'center right')\n",
    "plt.show()"
   ]
  },
  {
   "cell_type": "code",
   "execution_count": 19,
   "id": "c57e2c96",
   "metadata": {
    "ExecuteTime": {
     "end_time": "2024-12-12T08:22:02.063781Z",
     "start_time": "2024-12-12T08:22:01.953046Z"
    }
   },
   "outputs": [
    {
     "name": "stdout",
     "output_type": "stream",
     "text": [
      "3/3 [==============================] - 0s 5ms/step - loss: 0.0020 - accuracy: 1.0000\n"
     ]
    }
   ],
   "source": [
    "# 모델 평가하기\n",
    "score = model.evaluate(X_val, Y_val,\n",
    "                       batch_size = 3)"
   ]
  },
  {
   "cell_type": "code",
   "execution_count": 20,
   "id": "d338e768",
   "metadata": {
    "ExecuteTime": {
     "end_time": "2024-12-12T08:22:34.222976Z",
     "start_time": "2024-12-12T08:22:34.216992Z"
    }
   },
   "outputs": [
    {
     "data": {
      "text/plain": [
       "[0.0020434323232620955, 1.0]"
      ]
     },
     "execution_count": 20,
     "metadata": {},
     "output_type": "execute_result"
    }
   ],
   "source": [
    "score"
   ]
  },
  {
   "cell_type": "code",
   "execution_count": 24,
   "id": "d869f79e",
   "metadata": {
    "ExecuteTime": {
     "end_time": "2024-12-12T08:26:20.823568Z",
     "start_time": "2024-12-12T08:26:20.818581Z"
    }
   },
   "outputs": [
    {
     "name": "stdout",
     "output_type": "stream",
     "text": [
      "평가된 loss값: 0.0020434323232620955\n",
      "평가된 accuracy: 100.0 %\n"
     ]
    }
   ],
   "source": [
    "print('평가된 loss값:', score[0])\n",
    "print('평가된 accuracy:', score[1]*100, '%')"
   ]
  },
  {
   "cell_type": "markdown",
   "id": "eca72520",
   "metadata": {},
   "source": [
    "# 7. 모델 사용하기(모델을 사용해서 예측하기)"
   ]
  },
  {
   "cell_type": "code",
   "execution_count": 30,
   "id": "c0c13045",
   "metadata": {
    "ExecuteTime": {
     "end_time": "2024-12-12T08:30:09.496762Z",
     "start_time": "2024-12-12T08:30:09.416976Z"
    }
   },
   "outputs": [
    {
     "name": "stdout",
     "output_type": "stream",
     "text": [
      "1/1 [==============================] - 0s 30ms/step\n"
     ]
    },
    {
     "data": {
      "text/plain": [
       "array([[1.34811735e-18, 4.90706473e-15, 6.28737151e-16, 1.28301726e-23,\n",
       "        3.31275288e-07, 1.62962596e-15, 6.69130473e-04, 3.43347041e-21,\n",
       "        9.98502612e-01, 2.17469442e-27, 8.27991753e-04, 6.34248477e-17,\n",
       "        2.20410634e-11, 1.32566253e-19, 6.25902806e-19, 8.23961846e-19,\n",
       "        2.58184959e-30, 1.05019897e-26, 0.00000000e+00]], dtype=float32)"
      ]
     },
     "execution_count": 30,
     "metadata": {},
     "output_type": "execute_result"
    }
   ],
   "source": [
    "H = model.predict(np.array([4]))\n",
    "H"
   ]
  },
  {
   "cell_type": "code",
   "execution_count": 31,
   "id": "e44384c7",
   "metadata": {
    "ExecuteTime": {
     "end_time": "2024-12-12T08:32:59.047220Z",
     "start_time": "2024-12-12T08:32:58.970445Z"
    }
   },
   "outputs": [
    {
     "name": "stdout",
     "output_type": "stream",
     "text": [
      "1/1 [==============================] - 0s 26ms/step\n"
     ]
    },
    {
     "data": {
      "text/plain": [
       "8"
      ]
     },
     "execution_count": 31,
     "metadata": {},
     "output_type": "execute_result"
    }
   ],
   "source": [
    "model.predict(np.array([4])).argmax()"
   ]
  },
  {
   "cell_type": "code",
   "execution_count": 32,
   "id": "d08d15e3",
   "metadata": {
    "ExecuteTime": {
     "end_time": "2024-12-12T08:37:01.569297Z",
     "start_time": "2024-12-12T08:37:01.562319Z"
    }
   },
   "outputs": [
    {
     "data": {
      "text/plain": [
       "0.9985026"
      ]
     },
     "execution_count": 32,
     "metadata": {},
     "output_type": "execute_result"
    }
   ],
   "source": [
    "# 몇%의 확률로 분류되었는지\n",
    "H[0, H.argmax()]"
   ]
  },
  {
   "cell_type": "markdown",
   "id": "d39c3301",
   "metadata": {},
   "source": [
    "# 7. 모델 저장하기"
   ]
  },
  {
   "cell_type": "code",
   "execution_count": 33,
   "id": "c235c43e",
   "metadata": {
    "ExecuteTime": {
     "end_time": "2024-12-12T08:40:31.527810Z",
     "start_time": "2024-12-12T08:40:31.464976Z"
    }
   },
   "outputs": [],
   "source": [
    "model.save('model/2_deep_begin.h5')"
   ]
  },
  {
   "cell_type": "markdown",
   "id": "09c9f022",
   "metadata": {},
   "source": [
    "# 저장된 모델 사용하기"
   ]
  },
  {
   "cell_type": "code",
   "execution_count": 8,
   "id": "27675500",
   "metadata": {
    "ExecuteTime": {
     "end_time": "2024-12-12T08:44:46.484852Z",
     "start_time": "2024-12-12T08:44:46.376124Z"
    }
   },
   "outputs": [],
   "source": [
    "from tensorflow.keras.models import load_model\n",
    "import numpy as np\n",
    "model2 = load_model('model/2_deep_begin.h5')"
   ]
  },
  {
   "cell_type": "code",
   "execution_count": 12,
   "id": "88e18bbc",
   "metadata": {
    "ExecuteTime": {
     "end_time": "2024-12-12T08:45:29.098293Z",
     "start_time": "2024-12-12T08:45:29.024491Z"
    }
   },
   "outputs": [
    {
     "name": "stdout",
     "output_type": "stream",
     "text": [
      "1/1 [==============================] - 0s 24ms/step\n"
     ]
    },
    {
     "data": {
      "text/plain": [
       "array([[3.7421941e-28, 6.7358441e-23, 5.8038824e-04, 4.6645953e-36,\n",
       "        9.9888998e-01, 7.3077266e-24, 5.2965234e-04, 4.2804861e-30,\n",
       "        4.9694648e-09, 0.0000000e+00, 2.9344087e-17, 1.0683148e-28,\n",
       "        5.1536494e-30, 1.7318702e-29, 0.0000000e+00, 9.3423299e-26,\n",
       "        0.0000000e+00, 0.0000000e+00, 0.0000000e+00]], dtype=float32)"
      ]
     },
     "execution_count": 12,
     "metadata": {},
     "output_type": "execute_result"
    }
   ],
   "source": [
    "H = model2.predict(np.array([2]))\n",
    "H"
   ]
  },
  {
   "cell_type": "code",
   "execution_count": 24,
   "id": "0b639d47",
   "metadata": {
    "ExecuteTime": {
     "end_time": "2024-12-12T08:47:04.904029Z",
     "start_time": "2024-12-12T08:47:04.895990Z"
    }
   },
   "outputs": [
    {
     "name": "stdout",
     "output_type": "stream",
     "text": [
      "4\n"
     ]
    },
    {
     "data": {
      "text/plain": [
       "99.89"
      ]
     },
     "execution_count": 24,
     "metadata": {},
     "output_type": "execute_result"
    }
   ],
   "source": [
    "# 예측 결과\n",
    "print(H.argmax())\n",
    "# 몇 % 확률로 분류되었는지\n",
    "round(H[0, H.argmax()]*100, 2)"
   ]
  },
  {
   "cell_type": "code",
   "execution_count": null,
   "id": "a399fec1",
   "metadata": {},
   "outputs": [],
   "source": []
  },
  {
   "cell_type": "code",
   "execution_count": null,
   "id": "ca10e063",
   "metadata": {},
   "outputs": [],
   "source": []
  },
  {
   "cell_type": "code",
   "execution_count": null,
   "id": "3968ce00",
   "metadata": {},
   "outputs": [],
   "source": []
  },
  {
   "cell_type": "code",
   "execution_count": null,
   "id": "bdb4270d",
   "metadata": {},
   "outputs": [],
   "source": []
  }
 ],
 "metadata": {
  "kernelspec": {
   "display_name": "Python 3 (ipykernel)",
   "language": "python",
   "name": "python3"
  },
  "language_info": {
   "codemirror_mode": {
    "name": "ipython",
    "version": 3
   },
   "file_extension": ".py",
   "mimetype": "text/x-python",
   "name": "python",
   "nbconvert_exporter": "python",
   "pygments_lexer": "ipython3",
   "version": "3.10.9"
  },
  "toc": {
   "base_numbering": 1,
   "nav_menu": {},
   "number_sections": true,
   "sideBar": true,
   "skip_h1_title": false,
   "title_cell": "Table of Contents",
   "title_sidebar": "Contents",
   "toc_cell": false,
   "toc_position": {
    "height": "calc(100% - 180px)",
    "left": "10px",
    "top": "150px",
    "width": "231px"
   },
   "toc_section_display": true,
   "toc_window_display": true
  }
 },
 "nbformat": 4,
 "nbformat_minor": 5
}
