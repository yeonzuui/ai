{
 "cells": [
  {
   "cell_type": "code",
   "execution_count": 45,
   "id": "8f9ebb3e",
   "metadata": {},
   "outputs": [
    {
     "data": {
      "text/html": [
       "\n",
       "<style>\n",
       "div.container{width:99% !important;}\n",
       "div.cell.code_cell.rendered{width:90%;}\n",
       "div.CodeMirror {font-family:Consolas; font-size:18pt;}\n",
       "div.output {font-size:19pt; font-weight:bold;}\n",
       "div.input {font-family:Consolas; font-size:19pt;}\n",
       "div.prompt {min-width:70px;}\n",
       "div#toc-wrapper{padding-top:120px;}\n",
       "span.toc-item-num{display:none;}\n",
       "div.text_cell_render ul li{font-size:16pt;padding:5px;}\n",
       "div.CodeMirror-lines > div {padding-left:10px;}\n",
       "table.dataframe{font-size:19px;}\n",
       "</style>\n"
      ],
      "text/plain": [
       "<IPython.core.display.HTML object>"
      ]
     },
     "metadata": {},
     "output_type": "display_data"
    }
   ],
   "source": [
    "from IPython.display import display, HTML\n",
    "display(HTML(\"\"\"\n",
    "<style>\n",
    "div.container{width:99% !important;}\n",
    "div.cell.code_cell.rendered{width:90%;}\n",
    "div.CodeMirror {font-family:Consolas; font-size:18pt;}\n",
    "div.output {font-size:19pt; font-weight:bold;}\n",
    "div.input {font-family:Consolas; font-size:19pt;}\n",
    "div.prompt {min-width:70px;}\n",
    "div#toc-wrapper{padding-top:120px;}\n",
    "span.toc-item-num{display:none;}\n",
    "div.text_cell_render ul li{font-size:16pt;padding:5px;}\n",
    "div.CodeMirror-lines > div {padding-left:10px;}\n",
    "table.dataframe{font-size:19px;}\n",
    "</style>\n",
    "\"\"\"))"
   ]
  },
  {
   "cell_type": "markdown",
   "id": "ee7fb975",
   "metadata": {},
   "source": [
    "전국 평균 평당 분양가격(2013년 9월부터 2015년 8월까지).csv (지역명, 평당분양가격, 연도, 월)\n",
    "- 지역명2 : 지역명필드는 라벨인코딩하여 추가\n",
    "- 평당분양가격n : 평당분양가격의 normalization 스케일 조정하여 추가\n",
    "- 평당분양가격s : 평당분양가격의 standardization 스케일 조정하여 추가\n",
    "- 연도n : 연도의 normalization 스케일 조정하여 추가\n",
    "- 연도s : 연도의 standardization 스케일 조정하여 추가\n",
    "- 월n   : 월의 normalization 스케일 조정하여 추가\n",
    "- 월s   : 월의 standardization 스케일 조정하여 추가"
   ]
  },
  {
   "cell_type": "markdown",
   "id": "3e1c396f",
   "metadata": {},
   "source": [
    "## 1. 데이터 가져오기"
   ]
  },
  {
   "cell_type": "code",
   "execution_count": 7,
   "id": "830c65b8",
   "metadata": {
    "ExecuteTime": {
     "end_time": "2024-12-16T00:42:01.308682Z",
     "start_time": "2024-12-16T00:42:01.284780Z"
    }
   },
   "outputs": [
    {
     "data": {
      "text/html": [
       "<div>\n",
       "<style scoped>\n",
       "    .dataframe tbody tr th:only-of-type {\n",
       "        vertical-align: middle;\n",
       "    }\n",
       "\n",
       "    .dataframe tbody tr th {\n",
       "        vertical-align: top;\n",
       "    }\n",
       "\n",
       "    .dataframe thead th {\n",
       "        text-align: right;\n",
       "    }\n",
       "</style>\n",
       "<table border=\"1\" class=\"dataframe\">\n",
       "  <thead>\n",
       "    <tr style=\"text-align: right;\">\n",
       "      <th></th>\n",
       "      <th>지역명</th>\n",
       "      <th>평당분양가격</th>\n",
       "      <th>연도</th>\n",
       "      <th>월</th>\n",
       "    </tr>\n",
       "  </thead>\n",
       "  <tbody>\n",
       "    <tr>\n",
       "      <th>0</th>\n",
       "      <td>서울</td>\n",
       "      <td>18189</td>\n",
       "      <td>2013</td>\n",
       "      <td>12</td>\n",
       "    </tr>\n",
       "    <tr>\n",
       "      <th>1</th>\n",
       "      <td>부산</td>\n",
       "      <td>8111</td>\n",
       "      <td>2013</td>\n",
       "      <td>12</td>\n",
       "    </tr>\n",
       "  </tbody>\n",
       "</table>\n",
       "</div>"
      ],
      "text/plain": [
       "  지역명  평당분양가격    연도   월\n",
       "0  서울   18189  2013  12\n",
       "1  부산    8111  2013  12"
      ]
     },
     "execution_count": 7,
     "metadata": {},
     "output_type": "execute_result"
    }
   ],
   "source": [
    "import pandas as pd\n",
    "csvdata = pd.read_csv(r'D:\\ai\\Downloads\\shareData\\전국 평균 평당 분양가격(2013년 9월부터 2015년 8월까지).csv',\n",
    "                encoding='cp949')\n",
    "df = csvdata.melt(id_vars=\"지역\", var_name=\"연도월\", value_name=\"평당분양가격\")\n",
    "df[\"연도\"] = df[\"연도월\"].apply(lambda x : int(x.split(\"년\")[0]))\n",
    "df[\"월\"] = df[\"연도월\"].apply(lambda x : int(x.split(\"년\")[-1][:-1]))\n",
    "df.drop('연도월', axis=1, inplace=True)\n",
    "df = df.rename(columns={'지역':'지역명'})\n",
    "df.head(2)"
   ]
  },
  {
   "cell_type": "markdown",
   "id": "bd698b3d",
   "metadata": {},
   "source": [
    "## 2. 지역명의 라벨 인코딩"
   ]
  },
  {
   "cell_type": "code",
   "execution_count": 8,
   "id": "4149c7ce",
   "metadata": {
    "ExecuteTime": {
     "end_time": "2024-12-16T00:42:03.711963Z",
     "start_time": "2024-12-16T00:42:03.699586Z"
    },
    "scrolled": true
   },
   "outputs": [
    {
     "data": {
      "text/html": [
       "<div>\n",
       "<style scoped>\n",
       "    .dataframe tbody tr th:only-of-type {\n",
       "        vertical-align: middle;\n",
       "    }\n",
       "\n",
       "    .dataframe tbody tr th {\n",
       "        vertical-align: top;\n",
       "    }\n",
       "\n",
       "    .dataframe thead th {\n",
       "        text-align: right;\n",
       "    }\n",
       "</style>\n",
       "<table border=\"1\" class=\"dataframe\">\n",
       "  <thead>\n",
       "    <tr style=\"text-align: right;\">\n",
       "      <th></th>\n",
       "      <th>지역명</th>\n",
       "      <th>평당분양가격</th>\n",
       "      <th>연도</th>\n",
       "      <th>월</th>\n",
       "      <th>지역명2</th>\n",
       "    </tr>\n",
       "  </thead>\n",
       "  <tbody>\n",
       "    <tr>\n",
       "      <th>0</th>\n",
       "      <td>서울</td>\n",
       "      <td>18189</td>\n",
       "      <td>2013</td>\n",
       "      <td>12</td>\n",
       "      <td>8</td>\n",
       "    </tr>\n",
       "    <tr>\n",
       "      <th>1</th>\n",
       "      <td>부산</td>\n",
       "      <td>8111</td>\n",
       "      <td>2013</td>\n",
       "      <td>12</td>\n",
       "      <td>7</td>\n",
       "    </tr>\n",
       "    <tr>\n",
       "      <th>2</th>\n",
       "      <td>대구</td>\n",
       "      <td>8080</td>\n",
       "      <td>2013</td>\n",
       "      <td>12</td>\n",
       "      <td>5</td>\n",
       "    </tr>\n",
       "    <tr>\n",
       "      <th>3</th>\n",
       "      <td>인천</td>\n",
       "      <td>10204</td>\n",
       "      <td>2013</td>\n",
       "      <td>12</td>\n",
       "      <td>11</td>\n",
       "    </tr>\n",
       "    <tr>\n",
       "      <th>4</th>\n",
       "      <td>광주</td>\n",
       "      <td>6098</td>\n",
       "      <td>2013</td>\n",
       "      <td>12</td>\n",
       "      <td>4</td>\n",
       "    </tr>\n",
       "  </tbody>\n",
       "</table>\n",
       "</div>"
      ],
      "text/plain": [
       "  지역명  평당분양가격    연도   월  지역명2\n",
       "0  서울   18189  2013  12     8\n",
       "1  부산    8111  2013  12     7\n",
       "2  대구    8080  2013  12     5\n",
       "3  인천   10204  2013  12    11\n",
       "4  광주    6098  2013  12     4"
      ]
     },
     "execution_count": 8,
     "metadata": {},
     "output_type": "execute_result"
    }
   ],
   "source": [
    "from sklearn.preprocessing import LabelEncoder\n",
    "from tensorflow.keras.utils import to_categorical\n",
    "le = LabelEncoder()\n",
    "df['지역명2'] = le.fit_transform(df['지역명'])\n",
    "df.head()"
   ]
  },
  {
   "cell_type": "markdown",
   "id": "ca237ebb",
   "metadata": {},
   "source": [
    "# 3. normalization 스케일 조정"
   ]
  },
  {
   "cell_type": "code",
   "execution_count": 33,
   "id": "843872a8",
   "metadata": {
    "ExecuteTime": {
     "end_time": "2024-12-16T00:58:18.168384Z",
     "start_time": "2024-12-16T00:58:18.131839Z"
    }
   },
   "outputs": [
    {
     "data": {
      "text/html": [
       "<div>\n",
       "<style scoped>\n",
       "    .dataframe tbody tr th:only-of-type {\n",
       "        vertical-align: middle;\n",
       "    }\n",
       "\n",
       "    .dataframe tbody tr th {\n",
       "        vertical-align: top;\n",
       "    }\n",
       "\n",
       "    .dataframe thead th {\n",
       "        text-align: right;\n",
       "    }\n",
       "</style>\n",
       "<table border=\"1\" class=\"dataframe\">\n",
       "  <thead>\n",
       "    <tr style=\"text-align: right;\">\n",
       "      <th></th>\n",
       "      <th>지역명</th>\n",
       "      <th>평당분양가격</th>\n",
       "      <th>연도</th>\n",
       "      <th>월</th>\n",
       "      <th>지역명2</th>\n",
       "      <th>연도n</th>\n",
       "      <th>월n</th>\n",
       "      <th>평당분양가격n</th>\n",
       "      <th>연도s</th>\n",
       "      <th>월s</th>\n",
       "    </tr>\n",
       "  </thead>\n",
       "  <tbody>\n",
       "    <tr>\n",
       "      <th>0</th>\n",
       "      <td>서울</td>\n",
       "      <td>18189</td>\n",
       "      <td>2013</td>\n",
       "      <td>12</td>\n",
       "      <td>8</td>\n",
       "      <td>0.0</td>\n",
       "      <td>1.000000</td>\n",
       "      <td>0.835270</td>\n",
       "      <td>-2.366432</td>\n",
       "      <td>1.767475</td>\n",
       "    </tr>\n",
       "    <tr>\n",
       "      <th>100</th>\n",
       "      <td>경남</td>\n",
       "      <td>6610</td>\n",
       "      <td>2014</td>\n",
       "      <td>5</td>\n",
       "      <td>2</td>\n",
       "      <td>0.5</td>\n",
       "      <td>0.363636</td>\n",
       "      <td>0.066463</td>\n",
       "      <td>-0.591608</td>\n",
       "      <td>-0.294579</td>\n",
       "    </tr>\n",
       "    <tr>\n",
       "      <th>200</th>\n",
       "      <td>전남</td>\n",
       "      <td>5768</td>\n",
       "      <td>2014</td>\n",
       "      <td>11</td>\n",
       "      <td>12</td>\n",
       "      <td>0.5</td>\n",
       "      <td>0.909091</td>\n",
       "      <td>0.010557</td>\n",
       "      <td>-0.591608</td>\n",
       "      <td>1.472896</td>\n",
       "    </tr>\n",
       "    <tr>\n",
       "      <th>300</th>\n",
       "      <td>충남</td>\n",
       "      <td>6975</td>\n",
       "      <td>2015</td>\n",
       "      <td>5</td>\n",
       "      <td>15</td>\n",
       "      <td>1.0</td>\n",
       "      <td>0.363636</td>\n",
       "      <td>0.090698</td>\n",
       "      <td>1.183216</td>\n",
       "      <td>-0.294579</td>\n",
       "    </tr>\n",
       "  </tbody>\n",
       "</table>\n",
       "</div>"
      ],
      "text/plain": [
       "    지역명  평당분양가격    연도   월  지역명2  연도n        월n   평당분양가격n       연도s        월s\n",
       "0    서울   18189  2013  12     8  0.0  1.000000  0.835270 -2.366432  1.767475\n",
       "100  경남    6610  2014   5     2  0.5  0.363636  0.066463 -0.591608 -0.294579\n",
       "200  전남    5768  2014  11    12  0.5  0.909091  0.010557 -0.591608  1.472896\n",
       "300  충남    6975  2015   5    15  1.0  0.363636  0.090698  1.183216 -0.294579"
      ]
     },
     "execution_count": 33,
     "metadata": {},
     "output_type": "execute_result"
    }
   ],
   "source": [
    "from sklearn.preprocessing import MinMaxScaler\n",
    "import numpy as np\n",
    "# 열별 스케일 조정\n",
    "year_scaler = MinMaxScaler()\n",
    "# year_scaler.fit(np.array(df['연도']).reshape(-1,1))\n",
    "# df['연도n'] = year_scaler.transform(np.array(df['연도']).reshape(-1,1))\n",
    "df['연도n'] = year_scaler.fit_transform(df[['연도']].values)\n",
    "\n",
    "mon_scaler = MinMaxScaler()\n",
    "df['월n'] = mon_scaler.fit_transform(df[['월']])\n",
    "\n",
    "price_scaler = MinMaxScaler()\n",
    "df['평당분양가격n'] = price_scaler.fit_transform(df[['평당분양가격']])\n",
    "\n",
    "df.loc[::100]\n",
    "# 2025년 3월에 경남(2번지역) (2, year_scaler.transform(2025), mon_scaler.transform(3))"
   ]
  },
  {
   "cell_type": "code",
   "execution_count": 27,
   "id": "92bdfc61",
   "metadata": {
    "ExecuteTime": {
     "end_time": "2024-12-16T00:56:37.439528Z",
     "start_time": "2024-12-16T00:56:37.419957Z"
    }
   },
   "outputs": [
    {
     "data": {
      "text/html": [
       "<div>\n",
       "<style scoped>\n",
       "    .dataframe tbody tr th:only-of-type {\n",
       "        vertical-align: middle;\n",
       "    }\n",
       "\n",
       "    .dataframe tbody tr th {\n",
       "        vertical-align: top;\n",
       "    }\n",
       "\n",
       "    .dataframe thead th {\n",
       "        text-align: right;\n",
       "    }\n",
       "</style>\n",
       "<table border=\"1\" class=\"dataframe\">\n",
       "  <thead>\n",
       "    <tr style=\"text-align: right;\">\n",
       "      <th></th>\n",
       "      <th>지역명</th>\n",
       "      <th>평당분양가격</th>\n",
       "      <th>연도</th>\n",
       "      <th>월</th>\n",
       "      <th>지역명2</th>\n",
       "      <th>연도n</th>\n",
       "      <th>월n</th>\n",
       "      <th>평당분양가격n</th>\n",
       "      <th>연도s</th>\n",
       "      <th>월s</th>\n",
       "    </tr>\n",
       "  </thead>\n",
       "  <tbody>\n",
       "    <tr>\n",
       "      <th>0</th>\n",
       "      <td>서울</td>\n",
       "      <td>18189</td>\n",
       "      <td>2013</td>\n",
       "      <td>12</td>\n",
       "      <td>8</td>\n",
       "      <td>0.0</td>\n",
       "      <td>1.0</td>\n",
       "      <td>0.835270</td>\n",
       "      <td>-2.366432</td>\n",
       "      <td>1.767475</td>\n",
       "    </tr>\n",
       "    <tr>\n",
       "      <th>1</th>\n",
       "      <td>부산</td>\n",
       "      <td>8111</td>\n",
       "      <td>2013</td>\n",
       "      <td>12</td>\n",
       "      <td>7</td>\n",
       "      <td>0.0</td>\n",
       "      <td>1.0</td>\n",
       "      <td>0.166124</td>\n",
       "      <td>-2.366432</td>\n",
       "      <td>1.767475</td>\n",
       "    </tr>\n",
       "    <tr>\n",
       "      <th>2</th>\n",
       "      <td>대구</td>\n",
       "      <td>8080</td>\n",
       "      <td>2013</td>\n",
       "      <td>12</td>\n",
       "      <td>5</td>\n",
       "      <td>0.0</td>\n",
       "      <td>1.0</td>\n",
       "      <td>0.164066</td>\n",
       "      <td>-2.366432</td>\n",
       "      <td>1.767475</td>\n",
       "    </tr>\n",
       "    <tr>\n",
       "      <th>3</th>\n",
       "      <td>인천</td>\n",
       "      <td>10204</td>\n",
       "      <td>2013</td>\n",
       "      <td>12</td>\n",
       "      <td>11</td>\n",
       "      <td>0.0</td>\n",
       "      <td>1.0</td>\n",
       "      <td>0.305093</td>\n",
       "      <td>-2.366432</td>\n",
       "      <td>1.767475</td>\n",
       "    </tr>\n",
       "    <tr>\n",
       "      <th>4</th>\n",
       "      <td>광주</td>\n",
       "      <td>6098</td>\n",
       "      <td>2013</td>\n",
       "      <td>12</td>\n",
       "      <td>4</td>\n",
       "      <td>0.0</td>\n",
       "      <td>1.0</td>\n",
       "      <td>0.032468</td>\n",
       "      <td>-2.366432</td>\n",
       "      <td>1.767475</td>\n",
       "    </tr>\n",
       "  </tbody>\n",
       "</table>\n",
       "</div>"
      ],
      "text/plain": [
       "  지역명  평당분양가격    연도   월  지역명2  연도n   월n   평당분양가격n       연도s        월s\n",
       "0  서울   18189  2013  12     8  0.0  1.0  0.835270 -2.366432  1.767475\n",
       "1  부산    8111  2013  12     7  0.0  1.0  0.166124 -2.366432  1.767475\n",
       "2  대구    8080  2013  12     5  0.0  1.0  0.164066 -2.366432  1.767475\n",
       "3  인천   10204  2013  12    11  0.0  1.0  0.305093 -2.366432  1.767475\n",
       "4  광주    6098  2013  12     4  0.0  1.0  0.032468 -2.366432  1.767475"
      ]
     },
     "execution_count": 27,
     "metadata": {},
     "output_type": "execute_result"
    }
   ],
   "source": [
    "# 변수들 전체 스케일 조정\n",
    "from sklearn.preprocessing import MinMaxScaler\n",
    "import numpy as np\n",
    "scaler = MinMaxScaler()\n",
    "df[['연도n', '월n', '평당분양가격n']] = scaler.fit_transform(df[['연도', '월', '평당분양가격']])\n",
    "df.head()"
   ]
  },
  {
   "cell_type": "code",
   "execution_count": 13,
   "id": "3be731c7",
   "metadata": {
    "ExecuteTime": {
     "end_time": "2024-12-16T00:44:31.638175Z",
     "start_time": "2024-12-16T00:44:31.619437Z"
    }
   },
   "outputs": [
    {
     "data": {
      "text/html": [
       "<div>\n",
       "<style scoped>\n",
       "    .dataframe tbody tr th:only-of-type {\n",
       "        vertical-align: middle;\n",
       "    }\n",
       "\n",
       "    .dataframe tbody tr th {\n",
       "        vertical-align: top;\n",
       "    }\n",
       "\n",
       "    .dataframe thead th {\n",
       "        text-align: right;\n",
       "    }\n",
       "</style>\n",
       "<table border=\"1\" class=\"dataframe\">\n",
       "  <thead>\n",
       "    <tr style=\"text-align: right;\">\n",
       "      <th></th>\n",
       "      <th>지역명</th>\n",
       "      <th>평당분양가격</th>\n",
       "      <th>연도</th>\n",
       "      <th>월</th>\n",
       "      <th>지역명2</th>\n",
       "      <th>연도n</th>\n",
       "      <th>월n</th>\n",
       "      <th>평당분양가격n</th>\n",
       "      <th>연도s</th>\n",
       "      <th>월s</th>\n",
       "    </tr>\n",
       "  </thead>\n",
       "  <tbody>\n",
       "    <tr>\n",
       "      <th>0</th>\n",
       "      <td>서울</td>\n",
       "      <td>18189</td>\n",
       "      <td>2013</td>\n",
       "      <td>12</td>\n",
       "      <td>8</td>\n",
       "      <td>0.0</td>\n",
       "      <td>1.000000</td>\n",
       "      <td>0.835270</td>\n",
       "      <td>-2.366432</td>\n",
       "      <td>1.767475</td>\n",
       "    </tr>\n",
       "    <tr>\n",
       "      <th>100</th>\n",
       "      <td>경남</td>\n",
       "      <td>6610</td>\n",
       "      <td>2014</td>\n",
       "      <td>5</td>\n",
       "      <td>2</td>\n",
       "      <td>0.5</td>\n",
       "      <td>0.363636</td>\n",
       "      <td>0.066463</td>\n",
       "      <td>-0.591608</td>\n",
       "      <td>-0.294579</td>\n",
       "    </tr>\n",
       "    <tr>\n",
       "      <th>200</th>\n",
       "      <td>전남</td>\n",
       "      <td>5768</td>\n",
       "      <td>2014</td>\n",
       "      <td>11</td>\n",
       "      <td>12</td>\n",
       "      <td>0.5</td>\n",
       "      <td>0.909091</td>\n",
       "      <td>0.010557</td>\n",
       "      <td>-0.591608</td>\n",
       "      <td>1.472896</td>\n",
       "    </tr>\n",
       "    <tr>\n",
       "      <th>300</th>\n",
       "      <td>충남</td>\n",
       "      <td>6975</td>\n",
       "      <td>2015</td>\n",
       "      <td>5</td>\n",
       "      <td>15</td>\n",
       "      <td>1.0</td>\n",
       "      <td>0.363636</td>\n",
       "      <td>0.090698</td>\n",
       "      <td>1.183216</td>\n",
       "      <td>-0.294579</td>\n",
       "    </tr>\n",
       "  </tbody>\n",
       "</table>\n",
       "</div>"
      ],
      "text/plain": [
       "    지역명  평당분양가격    연도   월  지역명2  연도n        월n   평당분양가격n       연도s        월s\n",
       "0    서울   18189  2013  12     8  0.0  1.000000  0.835270 -2.366432  1.767475\n",
       "100  경남    6610  2014   5     2  0.5  0.363636  0.066463 -0.591608 -0.294579\n",
       "200  전남    5768  2014  11    12  0.5  0.909091  0.010557 -0.591608  1.472896\n",
       "300  충남    6975  2015   5    15  1.0  0.363636  0.090698  1.183216 -0.294579"
      ]
     },
     "execution_count": 13,
     "metadata": {},
     "output_type": "execute_result"
    }
   ],
   "source": [
    "from sklearn.preprocessing import MinMaxScaler\n",
    "import numpy as np\n",
    "# 열별 스케일 조정\n",
    "year_scaler = MinMaxScaler()\n",
    "year_scaler.fit(df['연도'].values.reshape(-1, 1))\n",
    "df['연도n']= year_scaler.transform(df['연도'].values.reshape(-1,1))\n",
    "\n",
    "mon_scaler = MinMaxScaler()\n",
    "mon_scaler.fit( df['월'].values.reshape(-1,1) )\n",
    "df['월n']= mon_scaler.transform( df['월'].values.reshape(-1,1) )\n",
    "\n",
    "price_scaler = MinMaxScaler()\n",
    "price_scaler.fit( df['평당분양가격'].values.reshape(-1,1) )\n",
    "df['평당분양가격n']= price_scaler.transform(df['평당분양가격'].values.reshape(-1,1))\n",
    "\n",
    "df.loc[::100]"
   ]
  },
  {
   "cell_type": "markdown",
   "id": "7ff0e3c3",
   "metadata": {},
   "source": [
    "# standardization "
   ]
  },
  {
   "cell_type": "code",
   "execution_count": 14,
   "id": "53d52d45",
   "metadata": {
    "ExecuteTime": {
     "end_time": "2024-12-16T00:44:33.683972Z",
     "start_time": "2024-12-16T00:44:33.589669Z"
    }
   },
   "outputs": [
    {
     "ename": "ValueError",
     "evalue": "Expected 2D array, got 1D array instead:\narray=[18189.  8111.  8080. 10204.  6098.  8321.  8090. 10855.  7601.  6230.\n  6589.  6365.  6282.  5678.  6168.  6473.  7674. 17925.  8111.  8080.\n 10204.  7326.  8321.  8090. 10855.  7600.  6230.  6589.  6365.  6281.\n  5678.  6168.  6485.  7900. 17925.  9078.  8077. 10408.  7611.  8321.\n  8090. 10791.  7532.  6230.  6611.  6379.  5946.  5678.  6234.  6502.\n  7900. 18016.  8965.  8101. 10408.  7346.  8341.  8153. 10784.  7814.\n  6141.  6625.  6287.  5966.  5696.  6317.  6610.  7900. 18098.  9402.\n  8267. 10000.  7346.  8341.  8153. 10876.  7908.  6373.  6678.  6552.\n  6277.  5736.  6412.  6599.  7900. 19446.  9501.  8274.  9844.  7523.\n  8341.  8153. 10646.  7934.  6350.  6598.  6591.  6306.  5656.  6409.\n  6610.  7900. 18867.  9453.  8360. 10058.  7659.  8333.  8153. 10266.\n  8067.  6350.  6587.  6644.  6351.  5609.  6554.  6615.  7914. 18742.\n  9457.  8360.  9974.  7612.  8333.  8153. 10124.  8067.  6268.  6586.\n  6805.  6319.  5780.  6556.  6613.  7914. 19274.  9411.  8370.  9973.\n  7622.  8333.  8493. 10134.  8141.  6268.  6586.  6914.  6436.  5685.\n  6563.  6606.  7914. 19404.  9258.  8449.  9973.  7802.  8048.  8493.\n 10501.  8282.  6419.  6584.  6882.  6719.  5804.  6577.  6767.  7833.\n 19759.  9110.  8403. 10016.  7707.  8038.  8627. 10397.  8527.  6631.\n  6529.  6831.  6581.  5753.  6778.  6881.  7724. 20242.  9208.  8439.\n 10020.  7752.  8067.  8891. 10356.  8592.  6365.  6724.  6940.  6583.\n  5768.  6881.  7125.  7724. 20269.  9208.  8253. 10020.  7748.  8067.\n  8891. 10379.  8560.  6365.  6743.  6989.  6583.  5784.  6989.  7332.\n  7739. 20670.  9204.  8327. 10017.  7752.  8067.  8526. 10391.  8560.\n  6348.  6749.  6976.  6583.  5784.  6992.  7592.  7739. 20670.  9235.\n  8416.  9876.  7756.  8067.  8526. 10355.  8560.  6350.  6747.  6980.\n  6583.  5833.  6953.  7588.  7739. 19415.  9279.  8441.  9876.  7861.\n  8067.  8629. 10469.  8555.  6182.  6783.  7161.  6542.  5825.  6997.\n  7668.  7826. 18842.  9327.  8446.  9938.  7914.  8145.  9380. 10684.\n  8546.  6924.  6790.  7017.  6551.  5940.  7006.  7683.  7285. 18367.\n  9345.  8568. 10551.  7877.  8272.  9192. 10685.  8546.  6846.  6805.\n  6975.  6556.  6050.  6966.  7717.  7285. 18374.  9515.  8542. 10443.\n  7881.  8079.  9190. 10573.  8671.  6986.  6682.  6939.  6601.  6243.\n  6887.  7715.  7343. 18152.  9559.  8542. 10443.  8089.  8079.  9190.\n 10518.  8669.  7019.  6601.  6935.  6750.  6286.  7035.  7723.  7343.\n 18443.  9581.  8795. 10449.  8231.  8079.  9215. 10573.  8695.  7008.\n  6603.  6942.  6580.  6289.  7037.  7665.  7343.].\nReshape your data either using array.reshape(-1, 1) if your data has a single feature or array.reshape(1, -1) if it contains a single sample.",
     "output_type": "error",
     "traceback": [
      "\u001b[1;31m---------------------------------------------------------------------------\u001b[0m",
      "\u001b[1;31mValueError\u001b[0m                                Traceback (most recent call last)",
      "Cell \u001b[1;32mIn[14], line 13\u001b[0m\n\u001b[0;32m     11\u001b[0m price_scaler \u001b[38;5;241m=\u001b[39m StandardScaler()\n\u001b[0;32m     12\u001b[0m price_scaler\u001b[38;5;241m.\u001b[39mfit( np\u001b[38;5;241m.\u001b[39marray(df[\u001b[38;5;124m'\u001b[39m\u001b[38;5;124m평당분양가격\u001b[39m\u001b[38;5;124m'\u001b[39m])\u001b[38;5;241m.\u001b[39mreshape(\u001b[38;5;241m-\u001b[39m\u001b[38;5;241m1\u001b[39m,\u001b[38;5;241m1\u001b[39m) )\n\u001b[1;32m---> 13\u001b[0m df[\u001b[38;5;124m'\u001b[39m\u001b[38;5;124m평당분양가격s\u001b[39m\u001b[38;5;124m'\u001b[39m]\u001b[38;5;241m=\u001b[39m \u001b[43mprice_scaler\u001b[49m\u001b[38;5;241;43m.\u001b[39;49m\u001b[43mtransform\u001b[49m\u001b[43m(\u001b[49m\u001b[43mdf\u001b[49m\u001b[43m[\u001b[49m\u001b[38;5;124;43m'\u001b[39;49m\u001b[38;5;124;43m평당분양가격\u001b[39;49m\u001b[38;5;124;43m'\u001b[39;49m\u001b[43m]\u001b[49m\u001b[43m)\u001b[49m\u001b[38;5;241m.\u001b[39mreshape(\u001b[38;5;241m-\u001b[39m\u001b[38;5;241m1\u001b[39m,\u001b[38;5;241m1\u001b[39m)\n\u001b[0;32m     15\u001b[0m df \u001b[38;5;241m=\u001b[39m df[[\u001b[38;5;124m'\u001b[39m\u001b[38;5;124m지역명\u001b[39m\u001b[38;5;124m'\u001b[39m,\u001b[38;5;124m'\u001b[39m\u001b[38;5;124m지역명2\u001b[39m\u001b[38;5;124m'\u001b[39m,\n\u001b[0;32m     16\u001b[0m     \u001b[38;5;124m'\u001b[39m\u001b[38;5;124m평당분양가격\u001b[39m\u001b[38;5;124m'\u001b[39m,\u001b[38;5;124m'\u001b[39m\u001b[38;5;124m평당분양가격n\u001b[39m\u001b[38;5;124m'\u001b[39m,\u001b[38;5;124m'\u001b[39m\u001b[38;5;124m평당분양가격s\u001b[39m\u001b[38;5;124m'\u001b[39m,\n\u001b[0;32m     17\u001b[0m     \u001b[38;5;124m'\u001b[39m\u001b[38;5;124m연도\u001b[39m\u001b[38;5;124m'\u001b[39m,\u001b[38;5;124m'\u001b[39m\u001b[38;5;124m연도n\u001b[39m\u001b[38;5;124m'\u001b[39m,\u001b[38;5;124m'\u001b[39m\u001b[38;5;124m연도s\u001b[39m\u001b[38;5;124m'\u001b[39m,\u001b[38;5;124m'\u001b[39m\u001b[38;5;124m월\u001b[39m\u001b[38;5;124m'\u001b[39m,\u001b[38;5;124m'\u001b[39m\u001b[38;5;124m월n\u001b[39m\u001b[38;5;124m'\u001b[39m,\u001b[38;5;124m'\u001b[39m\u001b[38;5;124m월s\u001b[39m\u001b[38;5;124m'\u001b[39m]]\n\u001b[0;32m     18\u001b[0m df\u001b[38;5;241m.\u001b[39mloc[::\u001b[38;5;241m100\u001b[39m]\n",
      "File \u001b[1;32m~\\anaconda3\\lib\\site-packages\\sklearn\\utils\\_set_output.py:142\u001b[0m, in \u001b[0;36m_wrap_method_output.<locals>.wrapped\u001b[1;34m(self, X, *args, **kwargs)\u001b[0m\n\u001b[0;32m    140\u001b[0m \u001b[38;5;129m@wraps\u001b[39m(f)\n\u001b[0;32m    141\u001b[0m \u001b[38;5;28;01mdef\u001b[39;00m \u001b[38;5;21mwrapped\u001b[39m(\u001b[38;5;28mself\u001b[39m, X, \u001b[38;5;241m*\u001b[39margs, \u001b[38;5;241m*\u001b[39m\u001b[38;5;241m*\u001b[39mkwargs):\n\u001b[1;32m--> 142\u001b[0m     data_to_wrap \u001b[38;5;241m=\u001b[39m f(\u001b[38;5;28mself\u001b[39m, X, \u001b[38;5;241m*\u001b[39margs, \u001b[38;5;241m*\u001b[39m\u001b[38;5;241m*\u001b[39mkwargs)\n\u001b[0;32m    143\u001b[0m     \u001b[38;5;28;01mif\u001b[39;00m \u001b[38;5;28misinstance\u001b[39m(data_to_wrap, \u001b[38;5;28mtuple\u001b[39m):\n\u001b[0;32m    144\u001b[0m         \u001b[38;5;66;03m# only wrap the first output for cross decomposition\u001b[39;00m\n\u001b[0;32m    145\u001b[0m         \u001b[38;5;28;01mreturn\u001b[39;00m (\n\u001b[0;32m    146\u001b[0m             _wrap_data_with_container(method, data_to_wrap[\u001b[38;5;241m0\u001b[39m], X, \u001b[38;5;28mself\u001b[39m),\n\u001b[0;32m    147\u001b[0m             \u001b[38;5;241m*\u001b[39mdata_to_wrap[\u001b[38;5;241m1\u001b[39m:],\n\u001b[0;32m    148\u001b[0m         )\n",
      "File \u001b[1;32m~\\anaconda3\\lib\\site-packages\\sklearn\\preprocessing\\_data.py:992\u001b[0m, in \u001b[0;36mStandardScaler.transform\u001b[1;34m(self, X, copy)\u001b[0m\n\u001b[0;32m    989\u001b[0m check_is_fitted(\u001b[38;5;28mself\u001b[39m)\n\u001b[0;32m    991\u001b[0m copy \u001b[38;5;241m=\u001b[39m copy \u001b[38;5;28;01mif\u001b[39;00m copy \u001b[38;5;129;01mis\u001b[39;00m \u001b[38;5;129;01mnot\u001b[39;00m \u001b[38;5;28;01mNone\u001b[39;00m \u001b[38;5;28;01melse\u001b[39;00m \u001b[38;5;28mself\u001b[39m\u001b[38;5;241m.\u001b[39mcopy\n\u001b[1;32m--> 992\u001b[0m X \u001b[38;5;241m=\u001b[39m \u001b[38;5;28;43mself\u001b[39;49m\u001b[38;5;241;43m.\u001b[39;49m\u001b[43m_validate_data\u001b[49m\u001b[43m(\u001b[49m\n\u001b[0;32m    993\u001b[0m \u001b[43m    \u001b[49m\u001b[43mX\u001b[49m\u001b[43m,\u001b[49m\n\u001b[0;32m    994\u001b[0m \u001b[43m    \u001b[49m\u001b[43mreset\u001b[49m\u001b[38;5;241;43m=\u001b[39;49m\u001b[38;5;28;43;01mFalse\u001b[39;49;00m\u001b[43m,\u001b[49m\n\u001b[0;32m    995\u001b[0m \u001b[43m    \u001b[49m\u001b[43maccept_sparse\u001b[49m\u001b[38;5;241;43m=\u001b[39;49m\u001b[38;5;124;43m\"\u001b[39;49m\u001b[38;5;124;43mcsr\u001b[39;49m\u001b[38;5;124;43m\"\u001b[39;49m\u001b[43m,\u001b[49m\n\u001b[0;32m    996\u001b[0m \u001b[43m    \u001b[49m\u001b[43mcopy\u001b[49m\u001b[38;5;241;43m=\u001b[39;49m\u001b[43mcopy\u001b[49m\u001b[43m,\u001b[49m\n\u001b[0;32m    997\u001b[0m \u001b[43m    \u001b[49m\u001b[43mdtype\u001b[49m\u001b[38;5;241;43m=\u001b[39;49m\u001b[43mFLOAT_DTYPES\u001b[49m\u001b[43m,\u001b[49m\n\u001b[0;32m    998\u001b[0m \u001b[43m    \u001b[49m\u001b[43mforce_all_finite\u001b[49m\u001b[38;5;241;43m=\u001b[39;49m\u001b[38;5;124;43m\"\u001b[39;49m\u001b[38;5;124;43mallow-nan\u001b[39;49m\u001b[38;5;124;43m\"\u001b[39;49m\u001b[43m,\u001b[49m\n\u001b[0;32m    999\u001b[0m \u001b[43m\u001b[49m\u001b[43m)\u001b[49m\n\u001b[0;32m   1001\u001b[0m \u001b[38;5;28;01mif\u001b[39;00m sparse\u001b[38;5;241m.\u001b[39missparse(X):\n\u001b[0;32m   1002\u001b[0m     \u001b[38;5;28;01mif\u001b[39;00m \u001b[38;5;28mself\u001b[39m\u001b[38;5;241m.\u001b[39mwith_mean:\n",
      "File \u001b[1;32m~\\anaconda3\\lib\\site-packages\\sklearn\\base.py:546\u001b[0m, in \u001b[0;36mBaseEstimator._validate_data\u001b[1;34m(self, X, y, reset, validate_separately, **check_params)\u001b[0m\n\u001b[0;32m    544\u001b[0m     \u001b[38;5;28;01mraise\u001b[39;00m \u001b[38;5;167;01mValueError\u001b[39;00m(\u001b[38;5;124m\"\u001b[39m\u001b[38;5;124mValidation should be done on X, y or both.\u001b[39m\u001b[38;5;124m\"\u001b[39m)\n\u001b[0;32m    545\u001b[0m \u001b[38;5;28;01melif\u001b[39;00m \u001b[38;5;129;01mnot\u001b[39;00m no_val_X \u001b[38;5;129;01mand\u001b[39;00m no_val_y:\n\u001b[1;32m--> 546\u001b[0m     X \u001b[38;5;241m=\u001b[39m check_array(X, input_name\u001b[38;5;241m=\u001b[39m\u001b[38;5;124m\"\u001b[39m\u001b[38;5;124mX\u001b[39m\u001b[38;5;124m\"\u001b[39m, \u001b[38;5;241m*\u001b[39m\u001b[38;5;241m*\u001b[39mcheck_params)\n\u001b[0;32m    547\u001b[0m     out \u001b[38;5;241m=\u001b[39m X\n\u001b[0;32m    548\u001b[0m \u001b[38;5;28;01melif\u001b[39;00m no_val_X \u001b[38;5;129;01mand\u001b[39;00m \u001b[38;5;129;01mnot\u001b[39;00m no_val_y:\n",
      "File \u001b[1;32m~\\anaconda3\\lib\\site-packages\\sklearn\\utils\\validation.py:902\u001b[0m, in \u001b[0;36mcheck_array\u001b[1;34m(array, accept_sparse, accept_large_sparse, dtype, order, copy, force_all_finite, ensure_2d, allow_nd, ensure_min_samples, ensure_min_features, estimator, input_name)\u001b[0m\n\u001b[0;32m    900\u001b[0m     \u001b[38;5;66;03m# If input is 1D raise error\u001b[39;00m\n\u001b[0;32m    901\u001b[0m     \u001b[38;5;28;01mif\u001b[39;00m array\u001b[38;5;241m.\u001b[39mndim \u001b[38;5;241m==\u001b[39m \u001b[38;5;241m1\u001b[39m:\n\u001b[1;32m--> 902\u001b[0m         \u001b[38;5;28;01mraise\u001b[39;00m \u001b[38;5;167;01mValueError\u001b[39;00m(\n\u001b[0;32m    903\u001b[0m             \u001b[38;5;124m\"\u001b[39m\u001b[38;5;124mExpected 2D array, got 1D array instead:\u001b[39m\u001b[38;5;130;01m\\n\u001b[39;00m\u001b[38;5;124marray=\u001b[39m\u001b[38;5;132;01m{}\u001b[39;00m\u001b[38;5;124m.\u001b[39m\u001b[38;5;130;01m\\n\u001b[39;00m\u001b[38;5;124m\"\u001b[39m\n\u001b[0;32m    904\u001b[0m             \u001b[38;5;124m\"\u001b[39m\u001b[38;5;124mReshape your data either using array.reshape(-1, 1) if \u001b[39m\u001b[38;5;124m\"\u001b[39m\n\u001b[0;32m    905\u001b[0m             \u001b[38;5;124m\"\u001b[39m\u001b[38;5;124myour data has a single feature or array.reshape(1, -1) \u001b[39m\u001b[38;5;124m\"\u001b[39m\n\u001b[0;32m    906\u001b[0m             \u001b[38;5;124m\"\u001b[39m\u001b[38;5;124mif it contains a single sample.\u001b[39m\u001b[38;5;124m\"\u001b[39m\u001b[38;5;241m.\u001b[39mformat(array)\n\u001b[0;32m    907\u001b[0m         )\n\u001b[0;32m    909\u001b[0m \u001b[38;5;28;01mif\u001b[39;00m dtype_numeric \u001b[38;5;129;01mand\u001b[39;00m array\u001b[38;5;241m.\u001b[39mdtype\u001b[38;5;241m.\u001b[39mkind \u001b[38;5;129;01min\u001b[39;00m \u001b[38;5;124m\"\u001b[39m\u001b[38;5;124mUSV\u001b[39m\u001b[38;5;124m\"\u001b[39m:\n\u001b[0;32m    910\u001b[0m     \u001b[38;5;28;01mraise\u001b[39;00m \u001b[38;5;167;01mValueError\u001b[39;00m(\n\u001b[0;32m    911\u001b[0m         \u001b[38;5;124m\"\u001b[39m\u001b[38;5;124mdtype=\u001b[39m\u001b[38;5;124m'\u001b[39m\u001b[38;5;124mnumeric\u001b[39m\u001b[38;5;124m'\u001b[39m\u001b[38;5;124m is not compatible with arrays of bytes/strings.\u001b[39m\u001b[38;5;124m\"\u001b[39m\n\u001b[0;32m    912\u001b[0m         \u001b[38;5;124m\"\u001b[39m\u001b[38;5;124mConvert your data to numeric values explicitly instead.\u001b[39m\u001b[38;5;124m\"\u001b[39m\n\u001b[0;32m    913\u001b[0m     )\n",
      "\u001b[1;31mValueError\u001b[0m: Expected 2D array, got 1D array instead:\narray=[18189.  8111.  8080. 10204.  6098.  8321.  8090. 10855.  7601.  6230.\n  6589.  6365.  6282.  5678.  6168.  6473.  7674. 17925.  8111.  8080.\n 10204.  7326.  8321.  8090. 10855.  7600.  6230.  6589.  6365.  6281.\n  5678.  6168.  6485.  7900. 17925.  9078.  8077. 10408.  7611.  8321.\n  8090. 10791.  7532.  6230.  6611.  6379.  5946.  5678.  6234.  6502.\n  7900. 18016.  8965.  8101. 10408.  7346.  8341.  8153. 10784.  7814.\n  6141.  6625.  6287.  5966.  5696.  6317.  6610.  7900. 18098.  9402.\n  8267. 10000.  7346.  8341.  8153. 10876.  7908.  6373.  6678.  6552.\n  6277.  5736.  6412.  6599.  7900. 19446.  9501.  8274.  9844.  7523.\n  8341.  8153. 10646.  7934.  6350.  6598.  6591.  6306.  5656.  6409.\n  6610.  7900. 18867.  9453.  8360. 10058.  7659.  8333.  8153. 10266.\n  8067.  6350.  6587.  6644.  6351.  5609.  6554.  6615.  7914. 18742.\n  9457.  8360.  9974.  7612.  8333.  8153. 10124.  8067.  6268.  6586.\n  6805.  6319.  5780.  6556.  6613.  7914. 19274.  9411.  8370.  9973.\n  7622.  8333.  8493. 10134.  8141.  6268.  6586.  6914.  6436.  5685.\n  6563.  6606.  7914. 19404.  9258.  8449.  9973.  7802.  8048.  8493.\n 10501.  8282.  6419.  6584.  6882.  6719.  5804.  6577.  6767.  7833.\n 19759.  9110.  8403. 10016.  7707.  8038.  8627. 10397.  8527.  6631.\n  6529.  6831.  6581.  5753.  6778.  6881.  7724. 20242.  9208.  8439.\n 10020.  7752.  8067.  8891. 10356.  8592.  6365.  6724.  6940.  6583.\n  5768.  6881.  7125.  7724. 20269.  9208.  8253. 10020.  7748.  8067.\n  8891. 10379.  8560.  6365.  6743.  6989.  6583.  5784.  6989.  7332.\n  7739. 20670.  9204.  8327. 10017.  7752.  8067.  8526. 10391.  8560.\n  6348.  6749.  6976.  6583.  5784.  6992.  7592.  7739. 20670.  9235.\n  8416.  9876.  7756.  8067.  8526. 10355.  8560.  6350.  6747.  6980.\n  6583.  5833.  6953.  7588.  7739. 19415.  9279.  8441.  9876.  7861.\n  8067.  8629. 10469.  8555.  6182.  6783.  7161.  6542.  5825.  6997.\n  7668.  7826. 18842.  9327.  8446.  9938.  7914.  8145.  9380. 10684.\n  8546.  6924.  6790.  7017.  6551.  5940.  7006.  7683.  7285. 18367.\n  9345.  8568. 10551.  7877.  8272.  9192. 10685.  8546.  6846.  6805.\n  6975.  6556.  6050.  6966.  7717.  7285. 18374.  9515.  8542. 10443.\n  7881.  8079.  9190. 10573.  8671.  6986.  6682.  6939.  6601.  6243.\n  6887.  7715.  7343. 18152.  9559.  8542. 10443.  8089.  8079.  9190.\n 10518.  8669.  7019.  6601.  6935.  6750.  6286.  7035.  7723.  7343.\n 18443.  9581.  8795. 10449.  8231.  8079.  9215. 10573.  8695.  7008.\n  6603.  6942.  6580.  6289.  7037.  7665.  7343.].\nReshape your data either using array.reshape(-1, 1) if your data has a single feature or array.reshape(1, -1) if it contains a single sample."
     ]
    }
   ],
   "source": [
    "from sklearn.preprocessing import StandardScaler\n",
    "import numpy as np\n",
    "year_scaler = StandardScaler()\n",
    "year_scaler.fit(np.array(df['연도']).reshape(-1,1))\n",
    "df['연도s']= year_scaler.transform(np.array(df['연도']).reshape(-1,1))\n",
    "\n",
    "mon_scaler = StandardScaler()\n",
    "mon_scaler.fit( np.array(df['월']).reshape(-1,1) )\n",
    "df['월s']=mon_scaler.transform(np.array(df['월']).reshape(-1,1))\n",
    "\n",
    "price_scaler = StandardScaler()\n",
    "price_scaler.fit( np.array(df['평당분양가격']).reshape(-1,1) )\n",
    "df['평당분양가격s']= price_scaler.transform(df['평당분양가격']).reshape(-1,1)\n",
    "\n",
    "df = df[['지역명','지역명2',\n",
    "    '평당분양가격','평당분양가격n','평당분양가격s',\n",
    "    '연도','연도n','연도s','월','월n','월s']]\n",
    "df.loc[::100]"
   ]
  },
  {
   "cell_type": "code",
   "execution_count": 86,
   "id": "1e138671",
   "metadata": {},
   "outputs": [
    {
     "data": {
      "text/plain": [
       "(357, 11)"
      ]
     },
     "execution_count": 86,
     "metadata": {},
     "output_type": "execute_result"
    }
   ],
   "source": [
    "df.shape"
   ]
  },
  {
   "cell_type": "code",
   "execution_count": null,
   "id": "00808a1a",
   "metadata": {},
   "outputs": [],
   "source": []
  },
  {
   "cell_type": "code",
   "execution_count": null,
   "id": "ae8b4907",
   "metadata": {},
   "outputs": [],
   "source": []
  },
  {
   "cell_type": "code",
   "execution_count": null,
   "id": "018ebbee",
   "metadata": {},
   "outputs": [],
   "source": []
  },
  {
   "cell_type": "code",
   "execution_count": null,
   "id": "f2c59aca",
   "metadata": {},
   "outputs": [],
   "source": []
  },
  {
   "cell_type": "code",
   "execution_count": null,
   "id": "b3d9da37",
   "metadata": {},
   "outputs": [],
   "source": []
  },
  {
   "cell_type": "code",
   "execution_count": null,
   "id": "809e0c0c",
   "metadata": {},
   "outputs": [],
   "source": []
  },
  {
   "cell_type": "code",
   "execution_count": null,
   "id": "8d95d871",
   "metadata": {},
   "outputs": [],
   "source": []
  },
  {
   "cell_type": "code",
   "execution_count": null,
   "id": "9a5e5b42",
   "metadata": {},
   "outputs": [],
   "source": []
  },
  {
   "cell_type": "code",
   "execution_count": null,
   "id": "ae676886",
   "metadata": {},
   "outputs": [],
   "source": []
  }
 ],
 "metadata": {
  "kernelspec": {
   "display_name": "Python 3 (ipykernel)",
   "language": "python",
   "name": "python3"
  },
  "language_info": {
   "codemirror_mode": {
    "name": "ipython",
    "version": 3
   },
   "file_extension": ".py",
   "mimetype": "text/x-python",
   "name": "python",
   "nbconvert_exporter": "python",
   "pygments_lexer": "ipython3",
   "version": "3.10.9"
  },
  "toc": {
   "base_numbering": 1,
   "nav_menu": {},
   "number_sections": false,
   "sideBar": true,
   "skip_h1_title": false,
   "title_cell": "Table of Contents",
   "title_sidebar": "Contents",
   "toc_cell": false,
   "toc_position": {},
   "toc_section_display": true,
   "toc_window_display": false
  }
 },
 "nbformat": 4,
 "nbformat_minor": 5
}
