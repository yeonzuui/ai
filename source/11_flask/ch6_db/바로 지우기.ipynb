{
 "cells": [
  {
   "cell_type": "code",
   "execution_count": 1,
   "id": "fb3961a2",
   "metadata": {
    "ExecuteTime": {
     "end_time": "2025-01-15T01:17:25.287727Z",
     "start_time": "2025-01-15T01:17:25.277726Z"
    }
   },
   "outputs": [
    {
     "data": {
      "text/html": [
       "\n",
       "<style>\n",
       "div.container{width:99% !important;}\n",
       "div.cell.code_cell.rendered{width:90%;}\n",
       "div.CodeMirror {font-family:Consolas; font-size:18pt;}\n",
       "div.output {font-size:19pt; font-weight:bold;}\n",
       "div.input {font-family:Consolas; font-size:19pt;}\n",
       "div.prompt {min-width:70px;}\n",
       "div#toc-wrapper{padding-top:120px;}\n",
       "span.toc-item-num{display:none;}\n",
       "div.text_cell_render ul li{font-size:16pt;padding:5px;}\n",
       "div.CodeMirror-lines > div {padding-left:10px;}\n",
       "table.dataframe{font-size:17pt;}\n",
       "</style>\n"
      ],
      "text/plain": [
       "<IPython.core.display.HTML object>"
      ]
     },
     "metadata": {},
     "output_type": "display_data"
    }
   ],
   "source": [
    "from IPython.display import display, HTML\n",
    "display(HTML(\"\"\"\n",
    "<style>\n",
    "div.container{width:99% !important;}\n",
    "div.cell.code_cell.rendered{width:90%;}\n",
    "div.CodeMirror {font-family:Consolas; font-size:18pt;}\n",
    "div.output {font-size:19pt; font-weight:bold;}\n",
    "div.input {font-family:Consolas; font-size:19pt;}\n",
    "div.prompt {min-width:70px;}\n",
    "div#toc-wrapper{padding-top:120px;}\n",
    "span.toc-item-num{display:none;}\n",
    "div.text_cell_render ul li{font-size:16pt;padding:5px;}\n",
    "div.CodeMirror-lines > div {padding-left:10px;}\n",
    "table.dataframe{font-size:17pt;}\n",
    "</style>\n",
    "\"\"\"))"
   ]
  },
  {
   "cell_type": "code",
   "execution_count": 2,
   "id": "2d5c9bf9",
   "metadata": {
    "ExecuteTime": {
     "end_time": "2025-01-15T01:17:35.107787Z",
     "start_time": "2025-01-15T01:17:25.291245Z"
    }
   },
   "outputs": [
    {
     "name": "stdout",
     "output_type": "stream",
     "text": [
      "Requirement already satisfied: cx_Oracle in c:\\users\\4545\\anaconda3\\lib\\site-packages (8.3.0)\n"
     ]
    }
   ],
   "source": [
    "! pip install cx_Oracle"
   ]
  },
  {
   "cell_type": "code",
   "execution_count": 3,
   "id": "a5197982",
   "metadata": {
    "ExecuteTime": {
     "end_time": "2025-01-15T01:17:35.259628Z",
     "start_time": "2025-01-15T01:17:35.112454Z"
    }
   },
   "outputs": [],
   "source": [
    "import cx_Oracle"
   ]
  },
  {
   "cell_type": "code",
   "execution_count": 4,
   "id": "8539c116",
   "metadata": {
    "ExecuteTime": {
     "end_time": "2025-01-15T01:17:35.275154Z",
     "start_time": "2025-01-15T01:17:35.260103Z"
    }
   },
   "outputs": [
    {
     "data": {
      "text/plain": [
       "'(DESCRIPTION=(ADDRESS=(PROTOCOL=TCP)(HOST=localhost)(PORT=1521))(CONNECT_DATA=(SID=xe)))'"
      ]
     },
     "execution_count": 4,
     "metadata": {},
     "output_type": "execute_result"
    }
   ],
   "source": [
    "dsn = cx_Oracle.makedsn(host='localhost',\n",
    "                       port=1521,\n",
    "                       sid='xe')\n",
    "dsn"
   ]
  },
  {
   "cell_type": "code",
   "execution_count": 5,
   "id": "479d0135",
   "metadata": {
    "ExecuteTime": {
     "end_time": "2025-01-15T01:17:35.890932Z",
     "start_time": "2025-01-15T01:17:35.279144Z"
    }
   },
   "outputs": [
    {
     "data": {
      "text/plain": [
       "<cx_Oracle.Connection to scott@(DESCRIPTION=(ADDRESS=(PROTOCOL=TCP)(HOST=localhost)(PORT=1521))(CONNECT_DATA=(SID=xe)))>"
      ]
     },
     "execution_count": 5,
     "metadata": {},
     "output_type": "execute_result"
    }
   ],
   "source": [
    "conn = cx_Oracle.connect(user='scott',\n",
    "                         password='tiger',\n",
    "                         dsn=dsn)\n",
    "conn"
   ]
  },
  {
   "cell_type": "code",
   "execution_count": 6,
   "id": "4a460db2",
   "metadata": {
    "ExecuteTime": {
     "end_time": "2025-01-15T01:17:35.913569Z",
     "start_time": "2025-01-15T01:17:35.893935Z"
    }
   },
   "outputs": [
    {
     "name": "stdout",
     "output_type": "stream",
     "text": [
      "[(7369, 'SMITH', 'CLERK', 7902, datetime.datetime(1980, 12, 17, 0, 0), 800.0, None, 20), (7499, 'ALLEN', 'SALESMAN', 7698, datetime.datetime(1981, 2, 20, 0, 0), 1600.0, 300.0, 30), (7521, 'WARD', 'SALESMAN', 7698, datetime.datetime(1981, 2, 22, 0, 0), 1250.0, 500.0, 30), (7566, 'JONES', 'MANAGER', 7839, datetime.datetime(1981, 4, 2, 0, 0), 2975.0, None, 20), (7654, 'MARTIN', 'SALESMAN', 7698, datetime.datetime(1981, 9, 28, 0, 0), 1250.0, 1400.0, 30), (7698, 'BLAKE', 'MANAGER', 7839, datetime.datetime(1981, 5, 1, 0, 0), 2850.0, None, 30), (7782, 'CLARK', 'MANAGER', 7839, datetime.datetime(1981, 6, 9, 0, 0), 2450.0, None, 10), (7788, 'SCOTT', 'ANALYST', 7566, datetime.datetime(1982, 12, 9, 0, 0), 3000.0, None, 20), (7839, 'KING', 'PRESIDENT', None, datetime.datetime(1981, 11, 17, 0, 0), 5000.0, None, 10), (7844, 'TURNER', 'SALESMAN', 7698, datetime.datetime(1981, 9, 8, 0, 0), 1500.0, 0.0, 30), (7876, 'ADAMS', 'CLERK', 7788, datetime.datetime(1983, 1, 12, 0, 0), 1100.0, None, 20), (7900, 'JAMES', 'CLERK', 7698, datetime.datetime(1981, 12, 3, 0, 0), 950.0, None, 30), (7902, 'FORD', 'ANALYST', 7566, datetime.datetime(1981, 12, 3, 0, 0), 3000.0, None, 20), (7934, 'MILLER', 'CLERK', 7782, datetime.datetime(1982, 1, 23, 0, 0), 1300.0, None, 10)]\n"
     ]
    }
   ],
   "source": [
    "# EMP 테이블의 모든 정보 출력\n",
    "cursor = conn.cursor() # SQL문 전송, 결과 받는 객체\n",
    "sql = \"SELECT * FROM EMP\"\n",
    "cursor.execute(sql)\n",
    "emps = cursor.fetchall() # sql문 결과를 튜플 list로\n",
    "print(emps)"
   ]
  },
  {
   "cell_type": "code",
   "execution_count": 7,
   "id": "e0d1b4d1",
   "metadata": {
    "ExecuteTime": {
     "end_time": "2025-01-15T01:17:36.574277Z",
     "start_time": "2025-01-15T01:17:35.915620Z"
    }
   },
   "outputs": [
    {
     "data": {
      "text/html": [
       "<div>\n",
       "<style scoped>\n",
       "    .dataframe tbody tr th:only-of-type {\n",
       "        vertical-align: middle;\n",
       "    }\n",
       "\n",
       "    .dataframe tbody tr th {\n",
       "        vertical-align: top;\n",
       "    }\n",
       "\n",
       "    .dataframe thead th {\n",
       "        text-align: right;\n",
       "    }\n",
       "</style>\n",
       "<table border=\"1\" class=\"dataframe\">\n",
       "  <thead>\n",
       "    <tr style=\"text-align: right;\">\n",
       "      <th></th>\n",
       "      <th>0</th>\n",
       "      <th>1</th>\n",
       "      <th>2</th>\n",
       "      <th>3</th>\n",
       "      <th>4</th>\n",
       "      <th>5</th>\n",
       "      <th>6</th>\n",
       "      <th>7</th>\n",
       "    </tr>\n",
       "  </thead>\n",
       "  <tbody>\n",
       "    <tr>\n",
       "      <th>0</th>\n",
       "      <td>7369</td>\n",
       "      <td>SMITH</td>\n",
       "      <td>CLERK</td>\n",
       "      <td>7902.0</td>\n",
       "      <td>1980-12-17</td>\n",
       "      <td>800.0</td>\n",
       "      <td>NaN</td>\n",
       "      <td>20</td>\n",
       "    </tr>\n",
       "    <tr>\n",
       "      <th>1</th>\n",
       "      <td>7499</td>\n",
       "      <td>ALLEN</td>\n",
       "      <td>SALESMAN</td>\n",
       "      <td>7698.0</td>\n",
       "      <td>1981-02-20</td>\n",
       "      <td>1600.0</td>\n",
       "      <td>300.0</td>\n",
       "      <td>30</td>\n",
       "    </tr>\n",
       "    <tr>\n",
       "      <th>2</th>\n",
       "      <td>7521</td>\n",
       "      <td>WARD</td>\n",
       "      <td>SALESMAN</td>\n",
       "      <td>7698.0</td>\n",
       "      <td>1981-02-22</td>\n",
       "      <td>1250.0</td>\n",
       "      <td>500.0</td>\n",
       "      <td>30</td>\n",
       "    </tr>\n",
       "    <tr>\n",
       "      <th>3</th>\n",
       "      <td>7566</td>\n",
       "      <td>JONES</td>\n",
       "      <td>MANAGER</td>\n",
       "      <td>7839.0</td>\n",
       "      <td>1981-04-02</td>\n",
       "      <td>2975.0</td>\n",
       "      <td>NaN</td>\n",
       "      <td>20</td>\n",
       "    </tr>\n",
       "    <tr>\n",
       "      <th>4</th>\n",
       "      <td>7654</td>\n",
       "      <td>MARTIN</td>\n",
       "      <td>SALESMAN</td>\n",
       "      <td>7698.0</td>\n",
       "      <td>1981-09-28</td>\n",
       "      <td>1250.0</td>\n",
       "      <td>1400.0</td>\n",
       "      <td>30</td>\n",
       "    </tr>\n",
       "    <tr>\n",
       "      <th>5</th>\n",
       "      <td>7698</td>\n",
       "      <td>BLAKE</td>\n",
       "      <td>MANAGER</td>\n",
       "      <td>7839.0</td>\n",
       "      <td>1981-05-01</td>\n",
       "      <td>2850.0</td>\n",
       "      <td>NaN</td>\n",
       "      <td>30</td>\n",
       "    </tr>\n",
       "    <tr>\n",
       "      <th>6</th>\n",
       "      <td>7782</td>\n",
       "      <td>CLARK</td>\n",
       "      <td>MANAGER</td>\n",
       "      <td>7839.0</td>\n",
       "      <td>1981-06-09</td>\n",
       "      <td>2450.0</td>\n",
       "      <td>NaN</td>\n",
       "      <td>10</td>\n",
       "    </tr>\n",
       "    <tr>\n",
       "      <th>7</th>\n",
       "      <td>7788</td>\n",
       "      <td>SCOTT</td>\n",
       "      <td>ANALYST</td>\n",
       "      <td>7566.0</td>\n",
       "      <td>1982-12-09</td>\n",
       "      <td>3000.0</td>\n",
       "      <td>NaN</td>\n",
       "      <td>20</td>\n",
       "    </tr>\n",
       "    <tr>\n",
       "      <th>8</th>\n",
       "      <td>7839</td>\n",
       "      <td>KING</td>\n",
       "      <td>PRESIDENT</td>\n",
       "      <td>NaN</td>\n",
       "      <td>1981-11-17</td>\n",
       "      <td>5000.0</td>\n",
       "      <td>NaN</td>\n",
       "      <td>10</td>\n",
       "    </tr>\n",
       "    <tr>\n",
       "      <th>9</th>\n",
       "      <td>7844</td>\n",
       "      <td>TURNER</td>\n",
       "      <td>SALESMAN</td>\n",
       "      <td>7698.0</td>\n",
       "      <td>1981-09-08</td>\n",
       "      <td>1500.0</td>\n",
       "      <td>0.0</td>\n",
       "      <td>30</td>\n",
       "    </tr>\n",
       "    <tr>\n",
       "      <th>10</th>\n",
       "      <td>7876</td>\n",
       "      <td>ADAMS</td>\n",
       "      <td>CLERK</td>\n",
       "      <td>7788.0</td>\n",
       "      <td>1983-01-12</td>\n",
       "      <td>1100.0</td>\n",
       "      <td>NaN</td>\n",
       "      <td>20</td>\n",
       "    </tr>\n",
       "    <tr>\n",
       "      <th>11</th>\n",
       "      <td>7900</td>\n",
       "      <td>JAMES</td>\n",
       "      <td>CLERK</td>\n",
       "      <td>7698.0</td>\n",
       "      <td>1981-12-03</td>\n",
       "      <td>950.0</td>\n",
       "      <td>NaN</td>\n",
       "      <td>30</td>\n",
       "    </tr>\n",
       "    <tr>\n",
       "      <th>12</th>\n",
       "      <td>7902</td>\n",
       "      <td>FORD</td>\n",
       "      <td>ANALYST</td>\n",
       "      <td>7566.0</td>\n",
       "      <td>1981-12-03</td>\n",
       "      <td>3000.0</td>\n",
       "      <td>NaN</td>\n",
       "      <td>20</td>\n",
       "    </tr>\n",
       "    <tr>\n",
       "      <th>13</th>\n",
       "      <td>7934</td>\n",
       "      <td>MILLER</td>\n",
       "      <td>CLERK</td>\n",
       "      <td>7782.0</td>\n",
       "      <td>1982-01-23</td>\n",
       "      <td>1300.0</td>\n",
       "      <td>NaN</td>\n",
       "      <td>10</td>\n",
       "    </tr>\n",
       "  </tbody>\n",
       "</table>\n",
       "</div>"
      ],
      "text/plain": [
       "       0       1          2       3          4       5       6   7\n",
       "0   7369   SMITH      CLERK  7902.0 1980-12-17   800.0     NaN  20\n",
       "1   7499   ALLEN   SALESMAN  7698.0 1981-02-20  1600.0   300.0  30\n",
       "2   7521    WARD   SALESMAN  7698.0 1981-02-22  1250.0   500.0  30\n",
       "3   7566   JONES    MANAGER  7839.0 1981-04-02  2975.0     NaN  20\n",
       "4   7654  MARTIN   SALESMAN  7698.0 1981-09-28  1250.0  1400.0  30\n",
       "5   7698   BLAKE    MANAGER  7839.0 1981-05-01  2850.0     NaN  30\n",
       "6   7782   CLARK    MANAGER  7839.0 1981-06-09  2450.0     NaN  10\n",
       "7   7788   SCOTT    ANALYST  7566.0 1982-12-09  3000.0     NaN  20\n",
       "8   7839    KING  PRESIDENT     NaN 1981-11-17  5000.0     NaN  10\n",
       "9   7844  TURNER   SALESMAN  7698.0 1981-09-08  1500.0     0.0  30\n",
       "10  7876   ADAMS      CLERK  7788.0 1983-01-12  1100.0     NaN  20\n",
       "11  7900   JAMES      CLERK  7698.0 1981-12-03   950.0     NaN  30\n",
       "12  7902    FORD    ANALYST  7566.0 1981-12-03  3000.0     NaN  20\n",
       "13  7934  MILLER      CLERK  7782.0 1982-01-23  1300.0     NaN  10"
      ]
     },
     "execution_count": 7,
     "metadata": {},
     "output_type": "execute_result"
    }
   ],
   "source": [
    "import pandas as pd\n",
    "emp_df = pd.DataFrame(emps)\n",
    "emp_df"
   ]
  },
  {
   "cell_type": "code",
   "execution_count": 8,
   "id": "4b7cd309",
   "metadata": {
    "ExecuteTime": {
     "end_time": "2025-01-15T01:17:36.591830Z",
     "start_time": "2025-01-15T01:17:36.577269Z"
    }
   },
   "outputs": [
    {
     "data": {
      "text/plain": [
       "[('EMPNO', <cx_Oracle.DbType DB_TYPE_NUMBER>, 5, None, 4, 0, 0),\n",
       " ('ENAME', <cx_Oracle.DbType DB_TYPE_VARCHAR>, 10, 10, None, None, 1),\n",
       " ('JOB', <cx_Oracle.DbType DB_TYPE_VARCHAR>, 9, 9, None, None, 1),\n",
       " ('MGR', <cx_Oracle.DbType DB_TYPE_NUMBER>, 5, None, 4, 0, 1),\n",
       " ('HIREDATE', <cx_Oracle.DbType DB_TYPE_DATE>, 23, None, None, None, 1),\n",
       " ('SAL', <cx_Oracle.DbType DB_TYPE_NUMBER>, 11, None, 7, 2, 1),\n",
       " ('COMM', <cx_Oracle.DbType DB_TYPE_NUMBER>, 11, None, 7, 2, 1),\n",
       " ('DEPTNO', <cx_Oracle.DbType DB_TYPE_NUMBER>, 3, None, 2, 0, 1)]"
      ]
     },
     "execution_count": 8,
     "metadata": {},
     "output_type": "execute_result"
    }
   ],
   "source": [
    "cursor.description"
   ]
  },
  {
   "cell_type": "code",
   "execution_count": 9,
   "id": "a0a63473",
   "metadata": {
    "ExecuteTime": {
     "end_time": "2025-01-15T01:23:31.307304Z",
     "start_time": "2025-01-15T01:23:31.297328Z"
    }
   },
   "outputs": [
    {
     "data": {
      "text/plain": [
       "Index(['EMPNO', 'ENAME', 'JOB', 'MGR', 'HIREDATE', 'SAL', 'COMM', 'DEPTNO'], dtype='object')"
      ]
     },
     "execution_count": 9,
     "metadata": {},
     "output_type": "execute_result"
    }
   ],
   "source": [
    "emp_df.columns = [des[0] for des in cursor.description]\n",
    "emp_df.columns"
   ]
  },
  {
   "cell_type": "code",
   "execution_count": null,
   "id": "63930f34",
   "metadata": {},
   "outputs": [],
   "source": [
    "cursor.close()"
   ]
  },
  {
   "cell_type": "code",
   "execution_count": 14,
   "id": "513d5a5d",
   "metadata": {
    "ExecuteTime": {
     "end_time": "2025-01-15T01:46:27.275694Z",
     "start_time": "2025-01-15T01:46:25.421141Z"
    }
   },
   "outputs": [
    {
     "name": "stdout",
     "output_type": "stream",
     "text": [
      "검색할 사원의 이름은? scott\n",
      "[(7788, 'SCOTT', 'ANALYST', 7566, datetime.datetime(1982, 12, 9, 0, 0), 3000.0, None, 20)]\n",
      "['EMPNO', 'ENAME', 'JOB', 'MGR', 'HIREDATE', 'SAL', 'COMM', 'DEPTNO']\n"
     ]
    }
   ],
   "source": [
    "# 해당 이름의 사원 출력(딕셔너리 형태): parameter 사용\n",
    "    # qmark 방식: SELECT * FROM EMP WHERE ENAME = ? (DB에 따라 적용 불가)\n",
    "    # named 방식(추천): SELECT * FROM EMP WHERE ENAME = :ENAME\n",
    "\n",
    "# cursor 객체 생성\n",
    "cursor = conn.cursor()\n",
    "\n",
    "sql = \"SELECT * FROM EMP WHERE ENAME = UPPER(:ENAME)\"\n",
    "ename = input(\"검색할 사원의 이름은? \")\n",
    "\n",
    "# sql문 전송\n",
    "cursor.execute(sql, {'ENAME':ename})\n",
    "\n",
    "# 검색 결과 받기\n",
    "# cursor.fetchall(): 튜플 list, 결과가 한 행도 없으면 빈 리스트\n",
    "# cursor.fetchone(): 결과를 한 행씩 튜플 list (for 이용)\n",
    "# cursor.fetchmany(n): 결과를 n행 튜플 list\n",
    "emps = cursor.fetchall()\n",
    "\n",
    "# description에서 key(컬럼명)들만 가져오기\n",
    "keys = [description[0] for description in cursor.description]\n",
    "print(emps)\n",
    "print(keys)\n",
    "\n",
    "cursor.close()"
   ]
  },
  {
   "cell_type": "code",
   "execution_count": 20,
   "id": "f06df23d",
   "metadata": {
    "ExecuteTime": {
     "end_time": "2025-01-15T01:54:55.569666Z",
     "start_time": "2025-01-15T01:54:55.554017Z"
    }
   },
   "outputs": [
    {
     "name": "stdout",
     "output_type": "stream",
     "text": [
      "{'EMPNO': 7788, 'ENAME': 'SCOTT', 'JOB': 'ANALYST', 'MGR': 7566, 'HIREDATE': '1982-12-09', 'SAL': 3000.0, 'COMM': None, 'DEPTNO': 20}\n"
     ]
    }
   ],
   "source": [
    "# 검색한 사원정보를 저장할 딕셔너리\n",
    "result = {}\n",
    "if emps:\n",
    "    # emps[0] 데이터를 result에 딕셔너리 형태로 저장\n",
    "    emp = emps[0]\n",
    "    # print(emp)\n",
    "    # print(keys)\n",
    "    for key, data in zip(keys, emp):\n",
    "        result[key] = data\n",
    "else:\n",
    "    result = {'result':'not found'}\n",
    "\n",
    "result['HIREDATE'] = result['HIREDATE'].strftime('%Y-%m-%d')\n",
    "print(result)"
   ]
  },
  {
   "cell_type": "code",
   "execution_count": null,
   "id": "1c2133db",
   "metadata": {},
   "outputs": [],
   "source": []
  },
  {
   "cell_type": "code",
   "execution_count": null,
   "id": "5071a387",
   "metadata": {},
   "outputs": [],
   "source": []
  },
  {
   "cell_type": "code",
   "execution_count": null,
   "id": "6aba2b94",
   "metadata": {},
   "outputs": [],
   "source": []
  },
  {
   "cell_type": "code",
   "execution_count": null,
   "id": "ad727837",
   "metadata": {},
   "outputs": [],
   "source": []
  },
  {
   "cell_type": "code",
   "execution_count": null,
   "id": "de9a299d",
   "metadata": {},
   "outputs": [],
   "source": []
  },
  {
   "cell_type": "code",
   "execution_count": null,
   "id": "7f5ce3b6",
   "metadata": {},
   "outputs": [],
   "source": []
  },
  {
   "cell_type": "code",
   "execution_count": null,
   "id": "be5763a5",
   "metadata": {},
   "outputs": [],
   "source": []
  }
 ],
 "metadata": {
  "kernelspec": {
   "display_name": "Python 3 (ipykernel)",
   "language": "python",
   "name": "python3"
  },
  "language_info": {
   "codemirror_mode": {
    "name": "ipython",
    "version": 3
   },
   "file_extension": ".py",
   "mimetype": "text/x-python",
   "name": "python",
   "nbconvert_exporter": "python",
   "pygments_lexer": "ipython3",
   "version": "3.10.9"
  },
  "toc": {
   "base_numbering": 1,
   "nav_menu": {},
   "number_sections": false,
   "sideBar": true,
   "skip_h1_title": false,
   "title_cell": "Table of Contents",
   "title_sidebar": "Contents",
   "toc_cell": false,
   "toc_position": {},
   "toc_section_display": true,
   "toc_window_display": false
  }
 },
 "nbformat": 4,
 "nbformat_minor": 5
}
