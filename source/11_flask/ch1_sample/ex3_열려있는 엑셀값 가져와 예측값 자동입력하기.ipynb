{
 "cells": [
  {
   "cell_type": "markdown",
   "id": "b45f82a5",
   "metadata": {},
   "source": [
    "# 엑셀 자동화\n",
    "- xlwings(xw)로 엑셀 파일 다루기"
   ]
  },
  {
   "cell_type": "code",
   "execution_count": 1,
   "id": "7e7613ff",
   "metadata": {
    "ExecuteTime": {
     "end_time": "2025-01-06T02:53:21.595486Z",
     "start_time": "2025-01-06T02:53:16.212501Z"
    }
   },
   "outputs": [],
   "source": [
    "import joblib\n",
    "import xlwings as xw"
   ]
  },
  {
   "cell_type": "code",
   "execution_count": 5,
   "id": "894d9c30",
   "metadata": {
    "ExecuteTime": {
     "end_time": "2025-01-06T02:56:47.075238Z",
     "start_time": "2025-01-06T02:56:46.130670Z"
    }
   },
   "outputs": [],
   "source": [
    "# 활성화된(=열려있는) 엑셀 파일 \n",
    "wb = xw.books.active\n",
    "# 활성화된(=열려있는) 엑셀 시트\n",
    "ws = wb.sheets.active\n",
    "\n",
    "loaded_model = joblib.load('../model/ex1_apt_price_regression.pkl')"
   ]
  },
  {
   "cell_type": "code",
   "execution_count": 6,
   "id": "a958c6ac",
   "metadata": {
    "ExecuteTime": {
     "end_time": "2025-01-06T02:58:02.114336Z",
     "start_time": "2025-01-06T02:58:02.073664Z"
    }
   },
   "outputs": [
    {
     "data": {
      "text/plain": [
       "2010.0"
      ]
     },
     "execution_count": 6,
     "metadata": {},
     "output_type": "execute_result"
    }
   ],
   "source": [
    "# sheet의 B2셀 값 가져오기\n",
    "ws.range('B2').value"
   ]
  },
  {
   "cell_type": "code",
   "execution_count": 15,
   "id": "1faefc27",
   "metadata": {
    "ExecuteTime": {
     "end_time": "2025-01-06T03:04:26.702141Z",
     "start_time": "2025-01-06T03:04:26.665596Z"
    }
   },
   "outputs": [
    {
     "data": {
      "text/plain": [
       "2010.0"
      ]
     },
     "execution_count": 15,
     "metadata": {},
     "output_type": "execute_result"
    }
   ],
   "source": [
    "# 문자와 숫자 연산 불가능\n",
    "ws.range('B' + str(2)).value"
   ]
  },
  {
   "cell_type": "code",
   "execution_count": 28,
   "id": "2f060fb6",
   "metadata": {
    "ExecuteTime": {
     "end_time": "2025-01-06T03:07:47.695578Z",
     "start_time": "2025-01-06T03:07:47.689582Z"
    }
   },
   "outputs": [],
   "source": [
    "# 엑셀 시트에서 각 셀 값을 독립변수로 받아와 model 예측하는 함수\n",
    "def pred_price(line):\n",
    "    year   = ws.range('B' + str(line)).value\n",
    "    square = ws.range('C' + str(line)).value\n",
    "    floor  = ws.range('D' + str(line)).value\n",
    "    pred = loaded_model.predict([1, year, square, floor])[0]\n",
    "    # print(year, square, floor, pred)\n",
    "    # E열에 아파트 가격 예측치 삽입\n",
    "    ws.range('E' + str(line)).value = pred"
   ]
  },
  {
   "cell_type": "code",
   "execution_count": 29,
   "id": "6726f2dc",
   "metadata": {
    "ExecuteTime": {
     "end_time": "2025-01-06T03:07:48.569036Z",
     "start_time": "2025-01-06T03:07:48.369014Z"
    }
   },
   "outputs": [],
   "source": [
    "# 2 ~ 5행 반복 수행\n",
    "for i in range(2, 6):\n",
    "    pred_price(i)"
   ]
  },
  {
   "cell_type": "code",
   "execution_count": null,
   "id": "07c4e952",
   "metadata": {},
   "outputs": [],
   "source": []
  },
  {
   "cell_type": "code",
   "execution_count": null,
   "id": "68468635",
   "metadata": {},
   "outputs": [],
   "source": []
  }
 ],
 "metadata": {
  "kernelspec": {
   "display_name": "Python 3 (ipykernel)",
   "language": "python",
   "name": "python3"
  },
  "language_info": {
   "codemirror_mode": {
    "name": "ipython",
    "version": 3
   },
   "file_extension": ".py",
   "mimetype": "text/x-python",
   "name": "python",
   "nbconvert_exporter": "python",
   "pygments_lexer": "ipython3",
   "version": "3.10.9"
  },
  "toc": {
   "base_numbering": 1,
   "nav_menu": {},
   "number_sections": true,
   "sideBar": true,
   "skip_h1_title": false,
   "title_cell": "Table of Contents",
   "title_sidebar": "Contents",
   "toc_cell": false,
   "toc_position": {},
   "toc_section_display": true,
   "toc_window_display": false
  }
 },
 "nbformat": 4,
 "nbformat_minor": 5
}
