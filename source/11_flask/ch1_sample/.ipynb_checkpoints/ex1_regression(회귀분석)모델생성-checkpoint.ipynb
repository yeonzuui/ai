{
 "cells": [
  {
   "cell_type": "markdown",
   "id": "fb9acac2",
   "metadata": {},
   "source": [
    "- 데이터 소스: 국토교통부 실거래가 공개시스템: https://rtmobile.molit.go.kr/pt/xls/xls.do?mobileAt="
   ]
  },
  {
   "cell_type": "code",
   "execution_count": 2,
   "id": "bafc4c60",
   "metadata": {
    "ExecuteTime": {
     "end_time": "2025-01-06T01:07:18.419918Z",
     "start_time": "2025-01-06T01:07:18.414934Z"
    }
   },
   "outputs": [],
   "source": [
    "import pandas as pd          # csv 파일 read\n",
    "import statsmodels.api as sm # 회귀분석 모델 생성\n",
    "import joblib                # pkl 모델 저장하거나 load"
   ]
  },
  {
   "cell_type": "code",
   "execution_count": 5,
   "id": "d45be7eb",
   "metadata": {
    "ExecuteTime": {
     "end_time": "2025-01-06T01:11:02.593270Z",
     "start_time": "2025-01-06T01:11:02.576319Z"
    }
   },
   "outputs": [
    {
     "name": "stdout",
     "output_type": "stream",
     "text": [
      "<class 'pandas.core.frame.DataFrame'>\n",
      "RangeIndex: 318 entries, 0 to 317\n",
      "Data columns (total 13 columns):\n",
      " #   Column   Non-Null Count  Dtype  \n",
      "---  ------   --------------  -----  \n",
      " 0   거래금액     318 non-null    int64  \n",
      " 1   건축년도     318 non-null    int64  \n",
      " 2   년        318 non-null    int64  \n",
      " 3   법정동      318 non-null    object \n",
      " 4   아파트      318 non-null    object \n",
      " 5   월        318 non-null    int64  \n",
      " 6   일        318 non-null    int64  \n",
      " 7   전용면적     318 non-null    float64\n",
      " 8   지번       318 non-null    object \n",
      " 9   지역코드     318 non-null    int64  \n",
      " 10  층        318 non-null    int64  \n",
      " 11  해제사유발생일  318 non-null    object \n",
      " 12  해제여부     318 non-null    object \n",
      "dtypes: float64(1), int64(7), object(5)\n",
      "memory usage: 32.4+ KB\n"
     ]
    }
   ],
   "source": [
    "df = pd.read_csv('../data/trade_apt_api.csv', encoding = 'cp949')\n",
    "# 결측치 확인\n",
    "df.info()"
   ]
  },
  {
   "cell_type": "code",
   "execution_count": 6,
   "id": "ef36a097",
   "metadata": {
    "ExecuteTime": {
     "end_time": "2025-01-06T01:14:00.764575Z",
     "start_time": "2025-01-06T01:14:00.751928Z"
    }
   },
   "outputs": [
    {
     "data": {
      "text/html": [
       "<div>\n",
       "<style scoped>\n",
       "    .dataframe tbody tr th:only-of-type {\n",
       "        vertical-align: middle;\n",
       "    }\n",
       "\n",
       "    .dataframe tbody tr th {\n",
       "        vertical-align: top;\n",
       "    }\n",
       "\n",
       "    .dataframe thead th {\n",
       "        text-align: right;\n",
       "    }\n",
       "</style>\n",
       "<table border=\"1\" class=\"dataframe\">\n",
       "  <thead>\n",
       "    <tr style=\"text-align: right;\">\n",
       "      <th></th>\n",
       "      <th>거래금액</th>\n",
       "      <th>건축년도</th>\n",
       "      <th>년</th>\n",
       "      <th>법정동</th>\n",
       "      <th>아파트</th>\n",
       "      <th>월</th>\n",
       "      <th>일</th>\n",
       "      <th>전용면적</th>\n",
       "      <th>지번</th>\n",
       "      <th>지역코드</th>\n",
       "      <th>층</th>\n",
       "      <th>해제사유발생일</th>\n",
       "      <th>해제여부</th>\n",
       "    </tr>\n",
       "  </thead>\n",
       "  <tbody>\n",
       "    <tr>\n",
       "      <th>0</th>\n",
       "      <td>80000</td>\n",
       "      <td>2002</td>\n",
       "      <td>2021</td>\n",
       "      <td>신교동</td>\n",
       "      <td>신현(101동)</td>\n",
       "      <td>8</td>\n",
       "      <td>16</td>\n",
       "      <td>84.82</td>\n",
       "      <td>6-13</td>\n",
       "      <td>11110</td>\n",
       "      <td>1</td>\n",
       "      <td>-</td>\n",
       "      <td>-</td>\n",
       "    </tr>\n",
       "  </tbody>\n",
       "</table>\n",
       "</div>"
      ],
      "text/plain": [
       "    거래금액  건축년도     년   법정동       아파트  월   일   전용면적    지번   지역코드  층 해제사유발생일  \\\n",
       "0  80000  2002  2021   신교동  신현(101동)  8  16  84.82  6-13  11110  1       -   \n",
       "\n",
       "  해제여부  \n",
       "0    -  "
      ]
     },
     "execution_count": 6,
     "metadata": {},
     "output_type": "execute_result"
    }
   ],
   "source": [
    "df.head(1)"
   ]
  },
  {
   "cell_type": "code",
   "execution_count": 10,
   "id": "b4d08a34",
   "metadata": {
    "ExecuteTime": {
     "end_time": "2025-01-06T01:19:39.138466Z",
     "start_time": "2025-01-06T01:19:39.128462Z"
    }
   },
   "outputs": [
    {
     "name": "stdout",
     "output_type": "stream",
     "text": [
      "독립변수 X와 타겟변수 y의 shape: (318, 4) (318,)\n"
     ]
    }
   ],
   "source": [
    "# 독립변수\n",
    "# 분석의 편의상 모델 단순화를 위해 법정동(지역)은 독립변수에서 제외\n",
    "# 법정동명은 One-Hot Encoding 필요하기 때문\n",
    "x = df[['건축년도', '전용면적', '층']]\n",
    "# 상수항(1) 추가하기 위한 add_constant 함수\n",
    "X = sm.add_constant(x)\n",
    "# 종속변수\n",
    "y = df['거래금액']\n",
    "print('독립변수 X와 타겟변수 y의 shape:', X.shape, y.shape)"
   ]
  },
  {
   "cell_type": "code",
   "execution_count": 12,
   "id": "1359f2c2",
   "metadata": {
    "ExecuteTime": {
     "end_time": "2025-01-06T01:32:42.731144Z",
     "start_time": "2025-01-06T01:32:42.532340Z"
    }
   },
   "outputs": [
    {
     "data": {
      "text/html": [
       "<table class=\"simpletable\">\n",
       "<caption>OLS Regression Results</caption>\n",
       "<tr>\n",
       "  <th>Dep. Variable:</th>          <td>거래금액</td>       <th>  R-squared:         </th> <td>   0.648</td>\n",
       "</tr>\n",
       "<tr>\n",
       "  <th>Model:</th>                   <td>OLS</td>       <th>  Adj. R-squared:    </th> <td>   0.644</td>\n",
       "</tr>\n",
       "<tr>\n",
       "  <th>Method:</th>             <td>Least Squares</td>  <th>  F-statistic:       </th> <td>   192.4</td>\n",
       "</tr>\n",
       "<tr>\n",
       "  <th>Date:</th>             <td>Mon, 06 Jan 2025</td> <th>  Prob (F-statistic):</th> <td>8.54e-71</td>\n",
       "</tr>\n",
       "<tr>\n",
       "  <th>Time:</th>                 <td>10:32:42</td>     <th>  Log-Likelihood:    </th> <td> -3777.5</td>\n",
       "</tr>\n",
       "<tr>\n",
       "  <th>No. Observations:</th>      <td>   318</td>      <th>  AIC:               </th> <td>   7563.</td>\n",
       "</tr>\n",
       "<tr>\n",
       "  <th>Df Residuals:</th>          <td>   314</td>      <th>  BIC:               </th> <td>   7578.</td>\n",
       "</tr>\n",
       "<tr>\n",
       "  <th>Df Model:</th>              <td>     3</td>      <th>                     </th>     <td> </td>   \n",
       "</tr>\n",
       "<tr>\n",
       "  <th>Covariance Type:</th>      <td>nonrobust</td>    <th>                     </th>     <td> </td>   \n",
       "</tr>\n",
       "</table>\n",
       "<table class=\"simpletable\">\n",
       "<tr>\n",
       "    <td></td>       <th>coef</th>     <th>std err</th>      <th>t</th>      <th>P>|t|</th>  <th>[0.025</th>    <th>0.975]</th>  \n",
       "</tr>\n",
       "<tr>\n",
       "  <th>const</th> <td>-3.855e+06</td> <td> 4.25e+05</td> <td>   -9.069</td> <td> 0.000</td> <td>-4.69e+06</td> <td>-3.02e+06</td>\n",
       "</tr>\n",
       "<tr>\n",
       "  <th>건축년도</th>  <td> 1925.6916</td> <td>  212.616</td> <td>    9.057</td> <td> 0.000</td> <td> 1507.360</td> <td> 2344.023</td>\n",
       "</tr>\n",
       "<tr>\n",
       "  <th>전용면적</th>  <td>  962.1507</td> <td>   47.367</td> <td>   20.313</td> <td> 0.000</td> <td>  868.955</td> <td> 1055.347</td>\n",
       "</tr>\n",
       "<tr>\n",
       "  <th>층</th>     <td> 2058.1524</td> <td>  417.716</td> <td>    4.927</td> <td> 0.000</td> <td> 1236.276</td> <td> 2880.028</td>\n",
       "</tr>\n",
       "</table>\n",
       "<table class=\"simpletable\">\n",
       "<tr>\n",
       "  <th>Omnibus:</th>       <td>20.985</td> <th>  Durbin-Watson:     </th> <td>   1.352</td>\n",
       "</tr>\n",
       "<tr>\n",
       "  <th>Prob(Omnibus):</th> <td> 0.000</td> <th>  Jarque-Bera (JB):  </th> <td>  42.734</td>\n",
       "</tr>\n",
       "<tr>\n",
       "  <th>Skew:</th>          <td> 0.345</td> <th>  Prob(JB):          </th> <td>5.25e-10</td>\n",
       "</tr>\n",
       "<tr>\n",
       "  <th>Kurtosis:</th>      <td> 4.658</td> <th>  Cond. No.          </th> <td>4.33e+05</td>\n",
       "</tr>\n",
       "</table><br/><br/>Notes:<br/>[1] Standard Errors assume that the covariance matrix of the errors is correctly specified.<br/>[2] The condition number is large, 4.33e+05. This might indicate that there are<br/>strong multicollinearity or other numerical problems."
      ],
      "text/plain": [
       "<class 'statsmodels.iolib.summary.Summary'>\n",
       "\"\"\"\n",
       "                            OLS Regression Results                            \n",
       "==============================================================================\n",
       "Dep. Variable:                   거래금액   R-squared:                       0.648\n",
       "Model:                            OLS   Adj. R-squared:                  0.644\n",
       "Method:                 Least Squares   F-statistic:                     192.4\n",
       "Date:                Mon, 06 Jan 2025   Prob (F-statistic):           8.54e-71\n",
       "Time:                        10:32:42   Log-Likelihood:                -3777.5\n",
       "No. Observations:                 318   AIC:                             7563.\n",
       "Df Residuals:                     314   BIC:                             7578.\n",
       "Df Model:                           3                                         \n",
       "Covariance Type:            nonrobust                                         \n",
       "==============================================================================\n",
       "                 coef    std err          t      P>|t|      [0.025      0.975]\n",
       "------------------------------------------------------------------------------\n",
       "const      -3.855e+06   4.25e+05     -9.069      0.000   -4.69e+06   -3.02e+06\n",
       "건축년도        1925.6916    212.616      9.057      0.000    1507.360    2344.023\n",
       "전용면적         962.1507     47.367     20.313      0.000     868.955    1055.347\n",
       "층           2058.1524    417.716      4.927      0.000    1236.276    2880.028\n",
       "==============================================================================\n",
       "Omnibus:                       20.985   Durbin-Watson:                   1.352\n",
       "Prob(Omnibus):                  0.000   Jarque-Bera (JB):               42.734\n",
       "Skew:                           0.345   Prob(JB):                     5.25e-10\n",
       "Kurtosis:                       4.658   Cond. No.                     4.33e+05\n",
       "==============================================================================\n",
       "\n",
       "Notes:\n",
       "[1] Standard Errors assume that the covariance matrix of the errors is correctly specified.\n",
       "[2] The condition number is large, 4.33e+05. This might indicate that there are\n",
       "strong multicollinearity or other numerical problems.\n",
       "\"\"\""
      ]
     },
     "execution_count": 12,
     "metadata": {},
     "output_type": "execute_result"
    }
   ],
   "source": [
    "model = sm.OLS(y, X).fit()\n",
    "model.summary()\n",
    "# R-squared(r²): 0.648, 독립변수가 종속변수를 64.8% 설명한다는 것을 의미\n",
    "# Adj.R-squared(Adjust R-squared, 수정된 r²): 64.4% 설명\n",
    "\n",
    "# F-statistic: 1을 기준으로 1보다 크면 분석결과 유의미\n",
    "# Prob(확률) (F-statistic): 8.54e-71, F-통계량의 확률이 0.05보다 작으면 유의미\n",
    "\n",
    "# P>|t|: p-value가 0.5보다 낮아야 분석결과가 유의미\n",
    "# coef: 상관관계 +면 양의 상관관계, -면 음의 상관관계\n",
    "# std err: 표준 오차\n",
    "\n",
    "# Durbin-Watson: 1.352: 2에 가까울수록 상관없음"
   ]
  },
  {
   "cell_type": "code",
   "execution_count": 13,
   "id": "f3f5f0d2",
   "metadata": {
    "ExecuteTime": {
     "end_time": "2025-01-06T01:43:47.228990Z",
     "start_time": "2025-01-06T01:43:47.219148Z"
    }
   },
   "outputs": [
    {
     "data": {
      "text/plain": [
       "(const       1.00\n",
       " 건축년도     2002.00\n",
       " 전용면적       84.82\n",
       " 층           1.00\n",
       " Name: 0, dtype: float64,\n",
       " 80000)"
      ]
     },
     "execution_count": 13,
     "metadata": {},
     "output_type": "execute_result"
    }
   ],
   "source": [
    "# 거래금액(y)의 단위는 만 원\n",
    "# 80000 → 8억\n",
    "X.iloc[0], y[0]"
   ]
  },
  {
   "cell_type": "code",
   "execution_count": 14,
   "id": "d8e48da0",
   "metadata": {
    "ExecuteTime": {
     "end_time": "2025-01-06T01:45:17.009963Z",
     "start_time": "2025-01-06T01:45:17.003967Z"
    }
   },
   "outputs": [
    {
     "data": {
      "text/plain": [
       "array([83308.06947848])"
      ]
     },
     "execution_count": 14,
     "metadata": {},
     "output_type": "execute_result"
    }
   ],
   "source": [
    "model.predict([[1, 2002, 84.32, 1]])"
   ]
  },
  {
   "cell_type": "code",
   "execution_count": 16,
   "id": "f36cfad3",
   "metadata": {
    "ExecuteTime": {
     "end_time": "2025-01-06T01:46:43.145202Z",
     "start_time": "2025-01-06T01:46:43.130983Z"
    }
   },
   "outputs": [
    {
     "data": {
      "text/plain": [
       "['../model/ex1_apt_price_regression.pkl']"
      ]
     },
     "execution_count": 16,
     "metadata": {},
     "output_type": "execute_result"
    }
   ],
   "source": [
    "# Model 저장\n",
    "joblib.dump(model, '../model/ex1_apt_price_regression.pkl')"
   ]
  },
  {
   "cell_type": "code",
   "execution_count": 24,
   "id": "2ecaec65",
   "metadata": {
    "ExecuteTime": {
     "end_time": "2025-01-06T01:55:49.832256Z",
     "start_time": "2025-01-06T01:55:49.826299Z"
    }
   },
   "outputs": [],
   "source": [
    "# '건축년도', '전용면적', '층'을 입력받아 아파트 가격 예측하는 함수 생성\n",
    "def predict_apt_price(year, square, floor):\n",
    "    loaded_model = joblib.load('../model/ex1_apt_price_regression.pkl')\n",
    "    input_data = [[1, year, square, floor]]\n",
    "    results = loaded_model.predict(input_data)\n",
    "    result = round(results[0]*10000) # 단위 만 원 → 원을 변경 / 반올림\n",
    "    return format(result, ',') + '원입니다'"
   ]
  },
  {
   "cell_type": "code",
   "execution_count": 25,
   "id": "8f52cb33",
   "metadata": {
    "ExecuteTime": {
     "end_time": "2025-01-06T01:55:57.289001Z",
     "start_time": "2025-01-06T01:55:51.259620Z"
    }
   },
   "outputs": [
    {
     "name": "stdout",
     "output_type": "stream",
     "text": [
      "몇 년에 건축되었나요? > 2001\n",
      "평수는 몇 제곱미터인가요? > 105\n",
      "아파트는 몇 층인가요? > 22\n"
     ]
    },
    {
     "data": {
      "text/plain": [
       "'1,445,008,561원입니다'"
      ]
     },
     "execution_count": 25,
     "metadata": {},
     "output_type": "execute_result"
    }
   ],
   "source": [
    "year   = int(input('몇 년에 건축되었나요? > '))\n",
    "square = int(input('평수는 몇 제곱미터인가요? > '))\n",
    "floor  = int(input('아파트는 몇 층인가요? > '))\n",
    "predict_apt_price(year, square, floor)"
   ]
  }
 ],
 "metadata": {
  "kernelspec": {
   "display_name": "Python 3 (ipykernel)",
   "language": "python",
   "name": "python3"
  },
  "language_info": {
   "codemirror_mode": {
    "name": "ipython",
    "version": 3
   },
   "file_extension": ".py",
   "mimetype": "text/x-python",
   "name": "python",
   "nbconvert_exporter": "python",
   "pygments_lexer": "ipython3",
   "version": "3.10.9"
  },
  "toc": {
   "base_numbering": 1,
   "nav_menu": {},
   "number_sections": true,
   "sideBar": true,
   "skip_h1_title": false,
   "title_cell": "Table of Contents",
   "title_sidebar": "Contents",
   "toc_cell": false,
   "toc_position": {},
   "toc_section_display": true,
   "toc_window_display": false
  }
 },
 "nbformat": 4,
 "nbformat_minor": 5
}
