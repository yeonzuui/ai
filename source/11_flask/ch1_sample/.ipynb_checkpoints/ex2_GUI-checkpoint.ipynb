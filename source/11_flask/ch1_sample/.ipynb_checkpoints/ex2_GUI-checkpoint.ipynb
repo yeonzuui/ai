{
 "cells": [
  {
   "cell_type": "markdown",
   "id": "1591558b",
   "metadata": {},
   "source": [
    "# GUI(Graphical User Interface)\n",
    "- 그래픽 사용자 인터페이스\n",
    "- 모델 load하여, GUI 창에서 입력된 독립변수('건축년도', '전용면적', '층')로 예측된 집값 출력"
   ]
  },
  {
   "cell_type": "code",
   "execution_count": 1,
   "id": "619641ed",
   "metadata": {
    "ExecuteTime": {
     "end_time": "2025-01-06T02:10:56.697468Z",
     "start_time": "2025-01-06T02:10:56.463941Z"
    }
   },
   "outputs": [],
   "source": [
    "import joblib        # Model Load\n",
    "import tkinter as tk # GUI 창 띄우기 위함"
   ]
  },
  {
   "cell_type": "code",
   "execution_count": 2,
   "id": "27994ed4",
   "metadata": {
    "ExecuteTime": {
     "end_time": "2025-01-06T02:10:59.063545Z",
     "start_time": "2025-01-06T02:10:58.002612Z"
    }
   },
   "outputs": [],
   "source": [
    "# Model Load\n",
    "loaded_model = joblib.load('../model/ex1_apt_price_regression.pkl')\n",
    "# summary는 모델 제대로 load 됐는지 확인용\n",
    "# loaded_model.summary()"
   ]
  },
  {
   "cell_type": "code",
   "execution_count": null,
   "id": "700067e7",
   "metadata": {},
   "outputs": [],
   "source": [
    "def on_submit(event = None):\n",
    "    '입력된 건축년도, 전용면적, 층을 입력받기 → 예측값을 pred_label에 출력'"
   ]
  },
  {
   "cell_type": "code",
   "execution_count": 24,
   "id": "0b730712",
   "metadata": {
    "ExecuteTime": {
     "end_time": "2025-01-06T02:19:53.893670Z",
     "start_time": "2025-01-06T02:19:53.754328Z"
    }
   },
   "outputs": [],
   "source": [
    "# GUI 객체 root 생성\n",
    "root = tk.Tk()\n",
    "\n",
    "# 창 크기 설정\n",
    "root.geometry(\"300x250\")\n",
    "\n",
    "# Label(): 라벨 생성\n",
    "# pack(): year가 출력될 크기로 root에 붙임\n",
    "# Entry(root): 입력받아서 root로 붙임\n",
    "# pady, padx: 위아래 여백\n",
    "\n",
    "# 1. 건축년도(year)\n",
    "year_label = tk.Label(root, text = 'Year: ')\n",
    "year_label.pack()\n",
    "year_entry = tk.Entry(root)\n",
    "year_entry.pack(pady = 5)\n",
    "\n",
    "# 2. 전용면적(square)\n",
    "square_label = tk.Label(root, text = '전용면적(m²): ')\n",
    "square_label.pack()\n",
    "square_entry = tk.Entry(root)\n",
    "square_entry.pack(pady = 5)\n",
    "\n",
    "# 3. 층(floor)\n",
    "floor_label = tk.Label(root, text = '층수: ')\n",
    "floor_label.pack()\n",
    "floor_entry = tk.Entry(root)\n",
    "floor_entry.pack(pady = 5)\n",
    "\n",
    "# submit\n",
    "submit_button = tk.Button(root, \n",
    "                          text = '예측', \n",
    "                          command = on_submit) # submit button이 수행할 함수 지정\n",
    "submit_button.pack(pady = 15)\n",
    "\n",
    "pred_label = tk.Label(root, text = '예측된 아파트 가격 출력 예정')\n",
    "pred_label.pack(pady = 10)\n",
    "\n",
    "year_entry.focus_set() # GUI 창이 focusing되면 year_entry에 자동 focus"
   ]
  },
  {
   "cell_type": "code",
   "execution_count": null,
   "id": "64094ef9",
   "metadata": {
    "ExecuteTime": {
     "start_time": "2025-01-06T02:19:54.240Z"
    }
   },
   "outputs": [],
   "source": [
    "# root(GUI 객체) 실행\n",
    "# mainloop() 창 띄우기\n",
    "root.mainloop()"
   ]
  },
  {
   "cell_type": "code",
   "execution_count": null,
   "id": "cbcfd705",
   "metadata": {},
   "outputs": [],
   "source": []
  },
  {
   "cell_type": "code",
   "execution_count": null,
   "id": "df356090",
   "metadata": {},
   "outputs": [],
   "source": []
  },
  {
   "cell_type": "code",
   "execution_count": null,
   "id": "67a0ebac",
   "metadata": {},
   "outputs": [],
   "source": []
  },
  {
   "cell_type": "code",
   "execution_count": null,
   "id": "fc582fc6",
   "metadata": {},
   "outputs": [],
   "source": []
  },
  {
   "cell_type": "code",
   "execution_count": null,
   "id": "a4685cc8",
   "metadata": {},
   "outputs": [],
   "source": []
  },
  {
   "cell_type": "code",
   "execution_count": null,
   "id": "50a3078a",
   "metadata": {},
   "outputs": [],
   "source": []
  },
  {
   "cell_type": "code",
   "execution_count": null,
   "id": "644a9754",
   "metadata": {},
   "outputs": [],
   "source": []
  }
 ],
 "metadata": {
  "kernelspec": {
   "display_name": "Python 3 (ipykernel)",
   "language": "python",
   "name": "python3"
  },
  "language_info": {
   "codemirror_mode": {
    "name": "ipython",
    "version": 3
   },
   "file_extension": ".py",
   "mimetype": "text/x-python",
   "name": "python",
   "nbconvert_exporter": "python",
   "pygments_lexer": "ipython3",
   "version": "3.10.9"
  },
  "toc": {
   "base_numbering": 1,
   "nav_menu": {},
   "number_sections": true,
   "sideBar": true,
   "skip_h1_title": false,
   "title_cell": "Table of Contents",
   "title_sidebar": "Contents",
   "toc_cell": false,
   "toc_position": {},
   "toc_section_display": true,
   "toc_window_display": false
  }
 },
 "nbformat": 4,
 "nbformat_minor": 5
}
