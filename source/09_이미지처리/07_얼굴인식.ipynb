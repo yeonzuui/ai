{
 "cells": [
  {
   "cell_type": "code",
   "execution_count": null,
   "id": "ae0a878c",
   "metadata": {},
   "outputs": [],
   "source": [
    "# 얼굴인식(얼굴정보)     \n",
    "# 가로(행) x 세로(열) x 3 numpy --→ 1 x 512 (embedding 데이터로 변환) --→ X, y를 머신러닝(SVM)"
   ]
  },
  {
   "cell_type": "markdown",
   "id": "e9b1858a",
   "metadata": {},
   "source": [
    "# 1. 데이터셋 다운로드 및 압축 해제\n",
    "- 5celebrity 다운로드 경로: https://www.kaggle.com/datasets/dansbecker/5-celebrity-faces-dataset?resource=download"
   ]
  },
  {
   "cell_type": "code",
   "execution_count": 2,
   "id": "076c23ab",
   "metadata": {
    "ExecuteTime": {
     "end_time": "2024-12-26T06:44:43.666217Z",
     "start_time": "2024-12-26T06:44:43.097840Z"
    }
   },
   "outputs": [
    {
     "name": "stdout",
     "output_type": "stream",
     "text": [
      "Archive:  data/5celebrity.zip\n",
      "   creating: data/5celebrity/train/\n",
      "   creating: data/5celebrity/train/ben_afflek/\n",
      "  inflating: data/5celebrity/train/ben_afflek/httpcsvkmeuaeccjpg.jpg  \n",
      "  inflating: data/5celebrity/train/ben_afflek/httpimagesfandangocomrImageRendererredesignstaticimgnoxportraitjpgpcpcpcimagesmasterrepositoryperformerimagespjpg.jpg  \n",
      "  inflating: data/5celebrity/train/ben_afflek/httpssmediacacheakpinimgcomxdbbdbbbececacdecdcdfjpg.jpg  \n",
      "  inflating: data/5celebrity/train/ben_afflek/httpssmediacacheakpinimgcomxdfdfadcfeabjpg.jpg  \n",
      "  inflating: data/5celebrity/train/ben_afflek/httpssmediacacheakpinimgcomxedaedabcbefbcbabbjpg.jpg  \n",
      "  inflating: data/5celebrity/train/ben_afflek/httpssmediacacheakpinimgcomxeebdfdbaaajpg.jpg  \n",
      "  inflating: data/5celebrity/train/ben_afflek/httpssmediacacheakpinimgcomxeeedcacddeccccacfjpg.jpg  \n",
      "  inflating: data/5celebrity/train/ben_afflek/httpsuploadwikimediaorgwikipediacommonsthumbddBenAffleckbyGageSkidmorejpgpxBenAffleckbyGageSkidmorejpg.jpg  \n",
      "  inflating: data/5celebrity/train/ben_afflek/httptrwebimgacstanetcxbdddmediasnmediajpg.jpg  \n",
      "  inflating: data/5celebrity/train/ben_afflek/httpwwwaceshowbizcomimagesphotobenaffleckjpg.jpg  \n",
      "  inflating: data/5celebrity/train/ben_afflek/httpwwwallposterscomimagesPostersPFjpg.jpg  \n",
      "  inflating: data/5celebrity/train/ben_afflek/httpwwwfilmscoopitcgibinattoriBENAFFLECKBENAFFLECKjpg.jpg  \n",
      "  inflating: data/5celebrity/train/ben_afflek/httpwwwhillsindcomstorebenjpg.jpg  \n",
      "  inflating: data/5celebrity/train/ben_afflek/httpwwwrumenewscomwpcontentuploadsbenafflekxpng.jpg  \n",
      "   creating: data/5celebrity/train/elton_john/\n",
      "  inflating: data/5celebrity/train/elton_john/0.jpg  \n",
      "  inflating: data/5celebrity/train/elton_john/1.jpg  \n",
      "  inflating: data/5celebrity/train/elton_john/10.jpg  \n",
      "  inflating: data/5celebrity/train/elton_john/11.jpg  \n",
      "  inflating: data/5celebrity/train/elton_john/12.jpg  \n",
      "  inflating: data/5celebrity/train/elton_john/13.jpg  \n",
      "  inflating: data/5celebrity/train/elton_john/14.jpg  \n",
      "  inflating: data/5celebrity/train/elton_john/15.jpg  \n",
      "  inflating: data/5celebrity/train/elton_john/16.jpg  \n",
      "  inflating: data/5celebrity/train/elton_john/3.jpg  \n",
      "  inflating: data/5celebrity/train/elton_john/4.jpg  \n",
      "  inflating: data/5celebrity/train/elton_john/5.jpg  \n",
      "  inflating: data/5celebrity/train/elton_john/6.jpg  \n",
      "  inflating: data/5celebrity/train/elton_john/7.jpg  \n",
      "  inflating: data/5celebrity/train/elton_john/8.jpg  \n",
      "  inflating: data/5celebrity/train/elton_john/9.jpg  \n",
      "   creating: data/5celebrity/train/jerry_seinfeld/\n",
      "  inflating: data/5celebrity/train/jerry_seinfeld/httpgraphicsnytimescomimagessectionmoviesfilmographyWireImagejpg.jpg  \n",
      "  inflating: data/5celebrity/train/jerry_seinfeld/httpikinjaimgcomgawkermediaimageuploadsWmIuhdsrcedidjpgjpg.jpg  \n",
      "  inflating: data/5celebrity/train/jerry_seinfeld/httpimagescontactmusiccomnewsimagesjerryseinfeldjpg.jpg  \n",
      "  inflating: data/5celebrity/train/jerry_seinfeld/httpimagesrottentomatoescomimagesspotlightsnewsjerryseinfeldjpg.jpg  \n",
      "  inflating: data/5celebrity/train/jerry_seinfeld/httpimgthedrumcomsfspublicnewstmpjerryseinfeldjpg.jpg  \n",
      "  inflating: data/5celebrity/train/jerry_seinfeld/httpimgtimeincnetpeopleinewsjerryseinfeldjpg.jpg  \n",
      "  inflating: data/5celebrity/train/jerry_seinfeld/httpmediapopsugarassetscomfilesusersxlargejpg.jpg  \n",
      "  inflating: data/5celebrity/train/jerry_seinfeld/httppfodcompchannelslegacyprofilejerryseinfeldpodcastjpg.jpg  \n",
      "  inflating: data/5celebrity/train/jerry_seinfeld/httpsmedialivenationcomartiststapjpg.jpg  \n",
      "  inflating: data/5celebrity/train/jerry_seinfeld/httpsrobertaccetturacomwpcontentuploadsjerryseinfeldheadshotjpg.jpg  \n",
      "  inflating: data/5celebrity/train/jerry_seinfeld/httpstatictherichestimagescomcdncwpcontentuploadsJerrySeinfeldjpg.jpg  \n",
      "  inflating: data/5celebrity/train/jerry_seinfeld/httpsticketmnettmenusdbimagesajpg.jpg  \n",
      "  inflating: data/5celebrity/train/jerry_seinfeld/httpsuploadwikimediaorgwikipediacommonsthumbbJerrySeinfeldjpgpxJerrySeinfeldjpg.jpg  \n",
      "  inflating: data/5celebrity/train/jerry_seinfeld/httpsuswestamazonawscomblogsprodmediausuploadsJerrySeinfeldkidsxjpg.jpg  \n",
      "  inflating: data/5celebrity/train/jerry_seinfeld/httpswwwticketscomuploadsartistsjerryseinfeldbilletsjpg.jpg  \n",
      "  inflating: data/5celebrity/train/jerry_seinfeld/httpwwweonlinecomresizewwweonlinecomeolimagesEntireSitersxjerryseinfeldjulialouisdreyfusjwjpg.jpg  \n",
      "  inflating: data/5celebrity/train/jerry_seinfeld/httpwwwnndbcompeoplejerryseinfeldaujpg.jpg  \n",
      "  inflating: data/5celebrity/train/jerry_seinfeld/httpwwwpictureszimbiocomgpJerrySeinfeldJessicaSeinfeldmarriedBczSipMdNMQljpg.jpg  \n",
      "  inflating: data/5celebrity/train/jerry_seinfeld/httpwwwpsychiatrictimescomsitesdefaultfilesimagesmediaPTMofficSeinfeldjpg.jpg  \n",
      "  inflating: data/5celebrity/train/jerry_seinfeld/httpwwwslatecomcontentdamslateblogsbrowbeatseinfeldjpgCROParticlemediumjpg.jpg  \n",
      "  inflating: data/5celebrity/train/jerry_seinfeld/httpwwwwatchidcomsitesdefaultfilesuploadsightingBreitlingwatchJerrySeinfeldjpg.jpg  \n",
      "   creating: data/5celebrity/train/madonna/\n",
      "  inflating: data/5celebrity/train/madonna/httpiamediaimdbcomimagesMMVBMTANDQNTAxNDVeQTJeQWpwZBbWUMDIMjQOTYVUXCRALjpg.jpg  \n",
      "  inflating: data/5celebrity/train/madonna/httpimagegaladevcmseamadonnaprivatdetektivsquaretopsquarejpgv.jpg  \n",
      "  inflating: data/5celebrity/train/madonna/httpimgclosermagfrvarclosermagstorageimagesactupeoplebiodestarsmadonnamadonnafreFRmadonnaexactxljpg.jpg  \n",
      "  inflating: data/5celebrity/train/madonna/httpmediavoguecomrwblondesdarkbrowsmadonnajpg.jpg  \n",
      "  inflating: data/5celebrity/train/madonna/httpresizeparismatchladmediafrrffffffcentermiddleimgvarnewsstorageimagesparismatchpeopleazmadonnafreFRMadonnajpg.jpg  \n",
      "  inflating: data/5celebrity/train/madonna/httpssmediacacheakpinimgcomxaaeaaeecccaedfebdbjpg.jpg  \n",
      "  inflating: data/5celebrity/train/madonna/httpssmediacacheakpinimgcomxafafedebcbjpg.jpg  \n",
      "  inflating: data/5celebrity/train/madonna/httpssmediacacheakpinimgcomxdcfdcfedfaedadjpg.jpg  \n",
      "  inflating: data/5celebrity/train/madonna/httpssmediacacheakpinimgcomxfeebfdccajpg.jpg  \n",
      "  inflating: data/5celebrity/train/madonna/httpssmediacacheakpinimgcomxffabffabbbcfbceaedjpg.jpg  \n",
      "  inflating: data/5celebrity/train/madonna/httpssmediacacheakpinimgcomxffeabacaaejpg.jpg  \n",
      "  inflating: data/5celebrity/train/madonna/httpssmediacacheakpinimgcomxffecfafddjpg.jpg  \n",
      "  inflating: data/5celebrity/train/madonna/httpssvagalumecommadonnaimagesmadonnajpg.jpg  \n",
      "  inflating: data/5celebrity/train/madonna/httpsuploadwikimediaorgwikipediacommonsMadonnathAnnualGoldenGlobesAwardscroppedjpg.jpg  \n",
      "  inflating: data/5celebrity/train/madonna/httpsuploadwikimediaorgwikipediacommonsthumbaaMadonnaatthepremiereofIAmBecauseWeArejpgpxMadonnaatthepremiereofIAmBecauseWeArejpg.jpg  \n",
      "  inflating: data/5celebrity/train/madonna/httpuploadwikimediaorgwikipediacommonsthumbaMadonnaRotterdamjpgpxMadonnaRotterdamjpg.jpg  \n",
      "  inflating: data/5celebrity/train/madonna/httpwwwbeastiemaniacomwhoismadonnamadonnajpg.jpg  \n",
      "  inflating: data/5celebrity/train/madonna/httpwwwblackdogfilmscomwordpresswpcontentuploadsmadonnacelebrationxjpg.jpg  \n",
      "  inflating: data/5celebrity/train/madonna/httpwwwetonlinecomphotomadonnabdayjpg.jpg  \n",
      "   creating: data/5celebrity/train/mindy_kaling/\n",
      "  inflating: data/5celebrity/train/mindy_kaling/httpgonetworthcomwpcontentuploadsthumbsjpg.jpg  \n",
      "  inflating: data/5celebrity/train/mindy_kaling/httpgraphicsnytimescomimagesmagazinekalingkalingarticleInlinejpg.jpg  \n",
      "  inflating: data/5celebrity/train/mindy_kaling/httpimagesnymagcomimagesdailymindykalingxjpg.jpg  \n",
      "  inflating: data/5celebrity/train/mindy_kaling/httpmediaonsugarcomfilesbabaaaaaMindyInterviewxxxlargejpg.jpg  \n",
      "  inflating: data/5celebrity/train/mindy_kaling/httppixelnymagcomimgsfashiondailymindykalingwhjpg.jpg  \n",
      "  inflating: data/5celebrity/train/mindy_kaling/httpsamazonawscomkidzworldphotoimagesbccdddaaadgallerymindykalinggalleryjpg.jpg  \n",
      "  inflating: data/5celebrity/train/mindy_kaling/httpsimagesnasslimagesamazoncomimagesIAQdwKvFILUXjpg.jpg  \n",
      "  inflating: data/5celebrity/train/mindy_kaling/httpsimgbuzzfeedcombuzzfeedstaticstaticcampaignimageswebdradorableetsyitemsallmindykalingfansneedbigjpg.jpg  \n",
      "  inflating: data/5celebrity/train/mindy_kaling/httpssmediacacheakpinimgcomxafaffbbbbdbcbdddjpg.jpg  \n",
      "  inflating: data/5celebrity/train/mindy_kaling/httpssmediacacheakpinimgcomxbabafeacbaaacabffjpg.jpg  \n",
      "  inflating: data/5celebrity/train/mindy_kaling/httpssmediacacheakpinimgcomxbbfcbdedfbfdbjpg.jpg  \n",
      "  inflating: data/5celebrity/train/mindy_kaling/httpssmediacacheakpinimgcomxcccccddbbfedabjpg.jpg  \n",
      "  inflating: data/5celebrity/train/mindy_kaling/httpssmediacacheakpinimgcomxccccdabeaadjpg.jpg  \n",
      "  inflating: data/5celebrity/train/mindy_kaling/httpssmediacacheakpinimgcomxededbebccdajpg.jpg  \n",
      "  inflating: data/5celebrity/train/mindy_kaling/httpssmediacacheakpinimgcomxeedccadejpg.jpg  \n",
      "  inflating: data/5celebrity/train/mindy_kaling/httpsuploadwikimediaorgwikipediacommonsthumbMindyBKalingBPaleyFestBNewBYorkBBMindyBIqZgUWvbljpgpxMindyBKalingBPaleyFestBNewBYorkBBMindyBIqZgUWvbljpg.jpg  \n",
      "  inflating: data/5celebrity/train/mindy_kaling/httpwwwadweekcomfilesimagecachenodeinlinemindykalingprofilehedjpg.jpg  \n",
      "  inflating: data/5celebrity/train/mindy_kaling/httpwwwbooksforbetterlivingcomwpcontentuploadsMindyKalingAuthorPhotojpg.jpg  \n",
      "  inflating: data/5celebrity/train/mindy_kaling/httpwwweonlinecomeolimagesEntireSiteregKalingCancermhjpg.jpg  \n",
      "  inflating: data/5celebrity/train/mindy_kaling/httpwwwimpropercomimagesuploadsusercontentimagesSoroffMindyjpg.jpg  \n",
      "  inflating: data/5celebrity/train/mindy_kaling/httpwwwpictureszimbiocomfpMindyKalingfBgaONVFDFmjpg.jpg  \n",
      "  inflating: data/5celebrity/train/mindy_kaling/httpwwwpictureszimbiocomgiMindyKalingLkvEhTwDeJmjpg.jpg  \n",
      "   creating: data/5celebrity/val/  \n",
      "   creating: data/5celebrity/val/ben_afflek/\n",
      "  inflating: data/5celebrity/val/ben_afflek/httpabsolumentgratuitfreefrimagesbenaffleckjpg.jpg  \n",
      "  inflating: data/5celebrity/val/ben_afflek/httpafilesbiographycomimageuploadcfillcssrgbdprgfacehqwMTENDgMDUODczNDcNTcjpg.jpg  \n",
      "  inflating: data/5celebrity/val/ben_afflek/httpbpblogspotcomedLMjVpRGkSWexgsXjkNIAAAAAAAADWgFFtAUqBlhAsjpg.jpg  \n",
      "  inflating: data/5celebrity/val/ben_afflek/httpcsvkmeuaafdfjpg.jpg  \n",
      "  inflating: data/5celebrity/val/ben_afflek/httpcsvkmeuadecafjpg.jpg  \n",
      "   creating: data/5celebrity/val/elton_john/\n",
      "  inflating: data/5celebrity/val/elton_john/httpafilesbiographycomimageuploadcfillcssrgbdprgfacehqwMTEODAOTcxNjcMjczMjkzjpg.jpg  \n",
      "  inflating: data/5celebrity/val/elton_john/httpcdncdnjustjaredcomwpcontentuploadsheadlineseltonjohnemmysperformancewatchnowjpg.jpg  \n",
      "  inflating: data/5celebrity/val/elton_john/httpcdncdnjustjaredcomwpcontentuploadsheadlineseltonjohnstillstandingbrooklynnewyearsjpg.jpg  \n",
      "  inflating: data/5celebrity/val/elton_john/httpcdncdnjustjaredcomwpcontentuploadsheadlineseltonjohnsupportsbrucejennerstransitiontowomanjpg.jpg  \n",
      "  inflating: data/5celebrity/val/elton_john/httpcdnlyricssongonlyricsnetwpcontentuploadsEltonJohnDiscographyCDreleasesjpg.jpg  \n",
      "   creating: data/5celebrity/val/jerry_seinfeld/\n",
      "  inflating: data/5celebrity/val/jerry_seinfeld/httpafilesbiographycomimageuploadcfillcssrgbdprgfacehqwMTIwNjANjMMDINzIxNjcjpg.jpg  \n",
      "  inflating: data/5celebrity/val/jerry_seinfeld/httpaurorasblogcomwpcontentuploadsjerryseinfeldpublicityshotjpg.jpg  \n",
      "  inflating: data/5celebrity/val/jerry_seinfeld/httpblognjcomentertainmentimpactcelebritiesmediumjerrybjpg.jpg  \n",
      "  inflating: data/5celebrity/val/jerry_seinfeld/httpcdncdnjustjaredcomwpcontentuploadsheadlinesjerryseinfeldmakesbrianwilliamsjokejpg.jpg  \n",
      "  inflating: data/5celebrity/val/jerry_seinfeld/httpcdnssninsidercomwpcontentuploadsjerryseinfeldxjpg.jpg  \n",
      "   creating: data/5celebrity/val/madonna/\n",
      "  inflating: data/5celebrity/val/madonna/httpassetsrollingstonecomassetsarticlemadonnadavidbowiechangedthecourseofmylifeforeversmallsquarexmadonnabowiejpg.jpg  \n",
      "  inflating: data/5celebrity/val/madonna/httpassetsrollingstonecomassetsimagesalbumreviewaffaceabdcccaeedjpg.jpg  \n",
      "  inflating: data/5celebrity/val/madonna/httpcdncdnjustjaredcomwpcontentuploadsheadlinesmadonnatalksparisattackstearsjpg.jpg  \n",
      "  inflating: data/5celebrity/val/madonna/httpcdnfuncheapcomwpcontentuploadsVOGUEjpg.jpg  \n",
      "  inflating: data/5celebrity/val/madonna/httpecximagesamazoncomimagesIfmaBKWLACULSRjpg.jpg  \n",
      "   creating: data/5celebrity/val/mindy_kaling/\n",
      "  inflating: data/5celebrity/val/mindy_kaling/httpafilesbiographycomimageuploadcfillcssrgbdprgfacehqwMTIOTcwODQNTUzNjQMzcjpg.jpg  \n",
      "  inflating: data/5celebrity/val/mindy_kaling/httpcdncdnjustjaredcomwpcontentuploadsheadlinesmindykalingcomedypilotjpg.jpg  \n",
      "  inflating: data/5celebrity/val/mindy_kaling/httpcdnpastemagazinecomwwwarticlesmindykalingndbookjpg.jpg  \n",
      "  inflating: data/5celebrity/val/mindy_kaling/httpcdnpastemagazinecomwwwarticlesmindyprojectjpg.jpg  \n",
      "  inflating: data/5celebrity/val/mindy_kaling/httpdbrbzkkbdsdcloudfrontnetwpcontentuploadsMindyKalingjpg.jpg  \n",
      "   creating: data/5celebrity/data/ \n",
      "   creating: data/5celebrity/data/train/\n",
      "   creating: data/5celebrity/data/train/ben_afflek/\n",
      "  inflating: data/5celebrity/data/train/ben_afflek/httpcsvkmeuaeccjpg.jpg  \n",
      "  inflating: data/5celebrity/data/train/ben_afflek/httpimagesfandangocomrImageRendererredesignstaticimgnoxportraitjpgpcpcpcimagesmasterrepositoryperformerimagespjpg.jpg  \n",
      "  inflating: data/5celebrity/data/train/ben_afflek/httpssmediacacheakpinimgcomxdbbdbbbececacdecdcdfjpg.jpg  \n",
      "  inflating: data/5celebrity/data/train/ben_afflek/httpssmediacacheakpinimgcomxdfdfadcfeabjpg.jpg  \n",
      "  inflating: data/5celebrity/data/train/ben_afflek/httpssmediacacheakpinimgcomxedaedabcbefbcbabbjpg.jpg  \n",
      "  inflating: data/5celebrity/data/train/ben_afflek/httpssmediacacheakpinimgcomxeebdfdbaaajpg.jpg  \n",
      "  inflating: data/5celebrity/data/train/ben_afflek/httpssmediacacheakpinimgcomxeeedcacddeccccacfjpg.jpg  \n",
      "  inflating: data/5celebrity/data/train/ben_afflek/httpsuploadwikimediaorgwikipediacommonsthumbddBenAffleckbyGageSkidmorejpgpxBenAffleckbyGageSkidmorejpg.jpg  \n",
      "  inflating: data/5celebrity/data/train/ben_afflek/httptrwebimgacstanetcxbdddmediasnmediajpg.jpg  \n",
      "  inflating: data/5celebrity/data/train/ben_afflek/httpwwwaceshowbizcomimagesphotobenaffleckjpg.jpg  \n",
      "  inflating: data/5celebrity/data/train/ben_afflek/httpwwwallposterscomimagesPostersPFjpg.jpg  \n",
      "  inflating: data/5celebrity/data/train/ben_afflek/httpwwwfilmscoopitcgibinattoriBENAFFLECKBENAFFLECKjpg.jpg  \n",
      "  inflating: data/5celebrity/data/train/ben_afflek/httpwwwhillsindcomstorebenjpg.jpg  \n",
      "  inflating: data/5celebrity/data/train/ben_afflek/httpwwwrumenewscomwpcontentuploadsbenafflekxpng.jpg  \n",
      "   creating: data/5celebrity/data/train/elton_john/\n",
      "  inflating: data/5celebrity/data/train/elton_john/httpftqncomymusicLxZeltonjohnjpg.jpg  \n",
      "  inflating: data/5celebrity/data/train/elton_john/httpiamediaimdbcomimagesMMVBMTAxNDUMzUwOTdeQTJeQWpwZBbWUMDUOTAyNTIVUXCRALjpg.jpg  \n",
      "  inflating: data/5celebrity/data/train/elton_john/httpimagesmtvcomurimgidfiledocrootvhcomsitewideflipbooksimgdailyjpgenlargefalsemattetruematteColorblackquality.jpg  \n",
      "  inflating: data/5celebrity/data/train/elton_john/httpimggalpmdstaticnetfithttpAFFwwwEgalaEfrFvarFgalFstorageFimagesFmediaFmultiuploaddufevrierFeltonjohnFfreFRFeltonjohnEjpgxqualityeltonjohnjpg.jpg  \n",
      "  inflating: data/5celebrity/data/train/elton_john/httpmediacacheecpinimgcomxffeffbcefjpg.jpg  \n",
      "  inflating: data/5celebrity/data/train/elton_john/httpmediapopsugarassetscomfilescbffewltonjpg.jpg  \n",
      "  inflating: data/5celebrity/data/train/elton_john/httpsdfrpwlycscloudfrontnetdeltonjohnjpg.jpg  \n",
      "  inflating: data/5celebrity/data/train/elton_john/httpspmctvlinefileswordpresscomeltonjohnjpg.jpg  \n",
      "  inflating: data/5celebrity/data/train/elton_john/httpssmediacacheakpinimgcomxfcfcbaeaeddabbjpg.jpg  \n",
      "  inflating: data/5celebrity/data/train/elton_john/httpssmediacacheakpinimgcomxfecfecaefaadfebejpg.jpg  \n",
      "  inflating: data/5celebrity/data/train/elton_john/httpssmediacacheakpinimgcomxfefdacfbfdeadajpg.jpg  \n",
      "  inflating: data/5celebrity/data/train/elton_john/httpsticketmnettmenusdamabbacdaebeafdbbCUSTOMjpg.jpg  \n",
      "  inflating: data/5celebrity/data/train/elton_john/httpsuploadwikimediaorgwikipediacommonsthumbEltonJohninsjpgpxEltonJohninsjpg.jpg  \n",
      "  inflating: data/5celebrity/data/train/elton_john/httpwwwdeadlinecomvimgnetwpcontentuploadseltonjpg.jpg  \n",
      "  inflating: data/5celebrity/data/train/elton_john/httpwwweonlinecomresizewwweonlinecomeolimagesEntireSitersxEltonJohnJRjpg.jpg  \n",
      "  inflating: data/5celebrity/data/train/elton_john/httpwwwjohnpauljonesarenacomeventimagesEltonCalendarVjpg.jpg  \n",
      "  inflating: data/5celebrity/data/train/elton_john/httpwwwlautdeEltonJohneltonjohnjpg.jpg  \n",
      "   creating: data/5celebrity/data/train/jerry_seinfeld/\n",
      "  inflating: data/5celebrity/data/train/jerry_seinfeld/httpgraphicsnytimescomimagessectionmoviesfilmographyWireImagejpg.jpg  \n",
      "  inflating: data/5celebrity/data/train/jerry_seinfeld/httpikinjaimgcomgawkermediaimageuploadsWmIuhdsrcedidjpgjpg.jpg  \n",
      "  inflating: data/5celebrity/data/train/jerry_seinfeld/httpimagescontactmusiccomnewsimagesjerryseinfeldjpg.jpg  \n",
      "  inflating: data/5celebrity/data/train/jerry_seinfeld/httpimagesrottentomatoescomimagesspotlightsnewsjerryseinfeldjpg.jpg  \n",
      "  inflating: data/5celebrity/data/train/jerry_seinfeld/httpimgthedrumcomsfspublicnewstmpjerryseinfeldjpg.jpg  \n",
      "  inflating: data/5celebrity/data/train/jerry_seinfeld/httpimgtimeincnetpeopleinewsjerryseinfeldjpg.jpg  \n",
      "  inflating: data/5celebrity/data/train/jerry_seinfeld/httpmediapopsugarassetscomfilesusersxlargejpg.jpg  \n",
      "  inflating: data/5celebrity/data/train/jerry_seinfeld/httppfodcompchannelslegacyprofilejerryseinfeldpodcastjpg.jpg  \n",
      "  inflating: data/5celebrity/data/train/jerry_seinfeld/httpsmedialivenationcomartiststapjpg.jpg  \n",
      "  inflating: data/5celebrity/data/train/jerry_seinfeld/httpsrobertaccetturacomwpcontentuploadsjerryseinfeldheadshotjpg.jpg  \n",
      "  inflating: data/5celebrity/data/train/jerry_seinfeld/httpstatictherichestimagescomcdncwpcontentuploadsJerrySeinfeldjpg.jpg  \n",
      "  inflating: data/5celebrity/data/train/jerry_seinfeld/httpsticketmnettmenusdbimagesajpg.jpg  \n",
      "  inflating: data/5celebrity/data/train/jerry_seinfeld/httpsuploadwikimediaorgwikipediacommonsthumbbJerrySeinfeldjpgpxJerrySeinfeldjpg.jpg  \n",
      "  inflating: data/5celebrity/data/train/jerry_seinfeld/httpsuswestamazonawscomblogsprodmediausuploadsJerrySeinfeldkidsxjpg.jpg  \n",
      "  inflating: data/5celebrity/data/train/jerry_seinfeld/httpswwwticketscomuploadsartistsjerryseinfeldbilletsjpg.jpg  \n",
      "  inflating: data/5celebrity/data/train/jerry_seinfeld/httpwwweonlinecomresizewwweonlinecomeolimagesEntireSitersxjerryseinfeldjulialouisdreyfusjwjpg.jpg  \n",
      "  inflating: data/5celebrity/data/train/jerry_seinfeld/httpwwwnndbcompeoplejerryseinfeldaujpg.jpg  \n",
      "  inflating: data/5celebrity/data/train/jerry_seinfeld/httpwwwpictureszimbiocomgpJerrySeinfeldJessicaSeinfeldmarriedBczSipMdNMQljpg.jpg  \n",
      "  inflating: data/5celebrity/data/train/jerry_seinfeld/httpwwwpsychiatrictimescomsitesdefaultfilesimagesmediaPTMofficSeinfeldjpg.jpg  \n",
      "  inflating: data/5celebrity/data/train/jerry_seinfeld/httpwwwslatecomcontentdamslateblogsbrowbeatseinfeldjpgCROParticlemediumjpg.jpg  \n",
      "  inflating: data/5celebrity/data/train/jerry_seinfeld/httpwwwwatchidcomsitesdefaultfilesuploadsightingBreitlingwatchJerrySeinfeldjpg.jpg  \n",
      "   creating: data/5celebrity/data/train/madonna/\n",
      "  inflating: data/5celebrity/data/train/madonna/httpiamediaimdbcomimagesMMVBMTANDQNTAxNDVeQTJeQWpwZBbWUMDIMjQOTYVUXCRALjpg.jpg  \n",
      "  inflating: data/5celebrity/data/train/madonna/httpimagegaladevcmseamadonnaprivatdetektivsquaretopsquarejpgv.jpg  \n",
      "  inflating: data/5celebrity/data/train/madonna/httpimgclosermagfrvarclosermagstorageimagesactupeoplebiodestarsmadonnamadonnafreFRmadonnaexactxljpg.jpg  \n",
      "  inflating: data/5celebrity/data/train/madonna/httpmediavoguecomrwblondesdarkbrowsmadonnajpg.jpg  \n",
      "  inflating: data/5celebrity/data/train/madonna/httpresizeparismatchladmediafrrffffffcentermiddleimgvarnewsstorageimagesparismatchpeopleazmadonnafreFRMadonnajpg.jpg  \n",
      "  inflating: data/5celebrity/data/train/madonna/httpssmediacacheakpinimgcomxaaeaaeecccaedfebdbjpg.jpg  \n",
      "  inflating: data/5celebrity/data/train/madonna/httpssmediacacheakpinimgcomxafafedebcbjpg.jpg  \n",
      "  inflating: data/5celebrity/data/train/madonna/httpssmediacacheakpinimgcomxdcfdcfedfaedadjpg.jpg  \n",
      "  inflating: data/5celebrity/data/train/madonna/httpssmediacacheakpinimgcomxfeebfdccajpg.jpg  \n",
      "  inflating: data/5celebrity/data/train/madonna/httpssmediacacheakpinimgcomxffabffabbbcfbceaedjpg.jpg  \n",
      "  inflating: data/5celebrity/data/train/madonna/httpssmediacacheakpinimgcomxffeabacaaejpg.jpg  \n",
      "  inflating: data/5celebrity/data/train/madonna/httpssmediacacheakpinimgcomxffecfafddjpg.jpg  \n",
      "  inflating: data/5celebrity/data/train/madonna/httpssvagalumecommadonnaimagesmadonnajpg.jpg  \n",
      "  inflating: data/5celebrity/data/train/madonna/httpsuploadwikimediaorgwikipediacommonsMadonnathAnnualGoldenGlobesAwardscroppedjpg.jpg  \n",
      "  inflating: data/5celebrity/data/train/madonna/httpsuploadwikimediaorgwikipediacommonsthumbaaMadonnaatthepremiereofIAmBecauseWeArejpgpxMadonnaatthepremiereofIAmBecauseWeArejpg.jpg  \n",
      "  inflating: data/5celebrity/data/train/madonna/httpuploadwikimediaorgwikipediacommonsthumbaMadonnaRotterdamjpgpxMadonnaRotterdamjpg.jpg  \n",
      "  inflating: data/5celebrity/data/train/madonna/httpwwwbeastiemaniacomwhoismadonnamadonnajpg.jpg  \n",
      "  inflating: data/5celebrity/data/train/madonna/httpwwwblackdogfilmscomwordpresswpcontentuploadsmadonnacelebrationxjpg.jpg  \n",
      "  inflating: data/5celebrity/data/train/madonna/httpwwwetonlinecomphotomadonnabdayjpg.jpg  \n",
      "   creating: data/5celebrity/data/train/mindy_kaling/\n",
      "  inflating: data/5celebrity/data/train/mindy_kaling/httpgonetworthcomwpcontentuploadsthumbsjpg.jpg  \n",
      "  inflating: data/5celebrity/data/train/mindy_kaling/httpgraphicsnytimescomimagesmagazinekalingkalingarticleInlinejpg.jpg  \n",
      "  inflating: data/5celebrity/data/train/mindy_kaling/httpimagesnymagcomimagesdailymindykalingxjpg.jpg  \n",
      "  inflating: data/5celebrity/data/train/mindy_kaling/httpmediaonsugarcomfilesbabaaaaaMindyInterviewxxxlargejpg.jpg  \n",
      "  inflating: data/5celebrity/data/train/mindy_kaling/httppixelnymagcomimgsfashiondailymindykalingwhjpg.jpg  \n",
      "  inflating: data/5celebrity/data/train/mindy_kaling/httpsamazonawscomkidzworldphotoimagesbccdddaaadgallerymindykalinggalleryjpg.jpg  \n",
      "  inflating: data/5celebrity/data/train/mindy_kaling/httpsimagesnasslimagesamazoncomimagesIAQdwKvFILUXjpg.jpg  \n",
      "  inflating: data/5celebrity/data/train/mindy_kaling/httpsimgbuzzfeedcombuzzfeedstaticstaticcampaignimageswebdradorableetsyitemsallmindykalingfansneedbigjpg.jpg  \n",
      "  inflating: data/5celebrity/data/train/mindy_kaling/httpssmediacacheakpinimgcomxafaffbbbbdbcbdddjpg.jpg  \n",
      "  inflating: data/5celebrity/data/train/mindy_kaling/httpssmediacacheakpinimgcomxbabafeacbaaacabffjpg.jpg  \n",
      "  inflating: data/5celebrity/data/train/mindy_kaling/httpssmediacacheakpinimgcomxbbfcbdedfbfdbjpg.jpg  \n",
      "  inflating: data/5celebrity/data/train/mindy_kaling/httpssmediacacheakpinimgcomxcccccddbbfedabjpg.jpg  \n",
      "  inflating: data/5celebrity/data/train/mindy_kaling/httpssmediacacheakpinimgcomxccccdabeaadjpg.jpg  \n",
      "  inflating: data/5celebrity/data/train/mindy_kaling/httpssmediacacheakpinimgcomxededbebccdajpg.jpg  \n",
      "  inflating: data/5celebrity/data/train/mindy_kaling/httpssmediacacheakpinimgcomxeedccadejpg.jpg  \n",
      "  inflating: data/5celebrity/data/train/mindy_kaling/httpsuploadwikimediaorgwikipediacommonsthumbMindyBKalingBPaleyFestBNewBYorkBBMindyBIqZgUWvbljpgpxMindyBKalingBPaleyFestBNewBYorkBBMindyBIqZgUWvbljpg.jpg  \n",
      "  inflating: data/5celebrity/data/train/mindy_kaling/httpwwwadweekcomfilesimagecachenodeinlinemindykalingprofilehedjpg.jpg  \n",
      "  inflating: data/5celebrity/data/train/mindy_kaling/httpwwwbooksforbetterlivingcomwpcontentuploadsMindyKalingAuthorPhotojpg.jpg  \n",
      "  inflating: data/5celebrity/data/train/mindy_kaling/httpwwweonlinecomeolimagesEntireSiteregKalingCancermhjpg.jpg  \n",
      "  inflating: data/5celebrity/data/train/mindy_kaling/httpwwwimpropercomimagesuploadsusercontentimagesSoroffMindyjpg.jpg  \n",
      "  inflating: data/5celebrity/data/train/mindy_kaling/httpwwwpictureszimbiocomfpMindyKalingfBgaONVFDFmjpg.jpg  \n",
      "  inflating: data/5celebrity/data/train/mindy_kaling/httpwwwpictureszimbiocomgiMindyKalingLkvEhTwDeJmjpg.jpg  \n",
      "   creating: data/5celebrity/data/val/\n",
      "   creating: data/5celebrity/data/val/ben_afflek/\n",
      "  inflating: data/5celebrity/data/val/ben_afflek/httpabsolumentgratuitfreefrimagesbenaffleckjpg.jpg  \n",
      "  inflating: data/5celebrity/data/val/ben_afflek/httpafilesbiographycomimageuploadcfillcssrgbdprgfacehqwMTENDgMDUODczNDcNTcjpg.jpg  \n",
      "  inflating: data/5celebrity/data/val/ben_afflek/httpbpblogspotcomedLMjVpRGkSWexgsXjkNIAAAAAAAADWgFFtAUqBlhAsjpg.jpg  \n",
      "  inflating: data/5celebrity/data/val/ben_afflek/httpcsvkmeuaafdfjpg.jpg  \n",
      "  inflating: data/5celebrity/data/val/ben_afflek/httpcsvkmeuadecafjpg.jpg  \n",
      "   creating: data/5celebrity/data/val/elton_john/\n",
      "  inflating: data/5celebrity/data/val/elton_john/httpafilesbiographycomimageuploadcfillcssrgbdprgfacehqwMTEODAOTcxNjcMjczMjkzjpg.jpg  \n",
      "  inflating: data/5celebrity/data/val/elton_john/httpcdncdnjustjaredcomwpcontentuploadsheadlineseltonjohnemmysperformancewatchnowjpg.jpg  \n",
      "  inflating: data/5celebrity/data/val/elton_john/httpcdncdnjustjaredcomwpcontentuploadsheadlineseltonjohnstillstandingbrooklynnewyearsjpg.jpg  \n",
      "  inflating: data/5celebrity/data/val/elton_john/httpcdncdnjustjaredcomwpcontentuploadsheadlineseltonjohnsupportsbrucejennerstransitiontowomanjpg.jpg  \n",
      "  inflating: data/5celebrity/data/val/elton_john/httpcdnlyricssongonlyricsnetwpcontentuploadsEltonJohnDiscographyCDreleasesjpg.jpg  \n",
      "   creating: data/5celebrity/data/val/jerry_seinfeld/\n",
      "  inflating: data/5celebrity/data/val/jerry_seinfeld/httpafilesbiographycomimageuploadcfillcssrgbdprgfacehqwMTIwNjANjMMDINzIxNjcjpg.jpg  \n",
      "  inflating: data/5celebrity/data/val/jerry_seinfeld/httpaurorasblogcomwpcontentuploadsjerryseinfeldpublicityshotjpg.jpg  \n",
      "  inflating: data/5celebrity/data/val/jerry_seinfeld/httpblognjcomentertainmentimpactcelebritiesmediumjerrybjpg.jpg  \n",
      "  inflating: data/5celebrity/data/val/jerry_seinfeld/httpcdncdnjustjaredcomwpcontentuploadsheadlinesjerryseinfeldmakesbrianwilliamsjokejpg.jpg  \n",
      "  inflating: data/5celebrity/data/val/jerry_seinfeld/httpcdnssninsidercomwpcontentuploadsjerryseinfeldxjpg.jpg  \n",
      "   creating: data/5celebrity/data/val/madonna/\n",
      "  inflating: data/5celebrity/data/val/madonna/httpassetsrollingstonecomassetsarticlemadonnadavidbowiechangedthecourseofmylifeforeversmallsquarexmadonnabowiejpg.jpg  \n",
      "  inflating: data/5celebrity/data/val/madonna/httpassetsrollingstonecomassetsimagesalbumreviewaffaceabdcccaeedjpg.jpg  \n",
      "  inflating: data/5celebrity/data/val/madonna/httpcdncdnjustjaredcomwpcontentuploadsheadlinesmadonnatalksparisattackstearsjpg.jpg  \n",
      "  inflating: data/5celebrity/data/val/madonna/httpcdnfuncheapcomwpcontentuploadsVOGUEjpg.jpg  \n",
      "  inflating: data/5celebrity/data/val/madonna/httpecximagesamazoncomimagesIfmaBKWLACULSRjpg.jpg  \n",
      "   creating: data/5celebrity/data/val/mindy_kaling/\n",
      "  inflating: data/5celebrity/data/val/mindy_kaling/httpafilesbiographycomimageuploadcfillcssrgbdprgfacehqwMTIOTcwODQNTUzNjQMzcjpg.jpg  \n",
      "  inflating: data/5celebrity/data/val/mindy_kaling/httpcdncdnjustjaredcomwpcontentuploadsheadlinesmindykalingcomedypilotjpg.jpg  \n",
      "  inflating: data/5celebrity/data/val/mindy_kaling/httpcdnpastemagazinecomwwwarticlesmindykalingndbookjpg.jpg  \n",
      "  inflating: data/5celebrity/data/val/mindy_kaling/httpcdnpastemagazinecomwwwarticlesmindyprojectjpg.jpg  \n",
      "  inflating: data/5celebrity/data/val/mindy_kaling/httpdbrbzkkbdsdcloudfrontnetwpcontentuploadsMindyKalingjpg.jpg  \n"
     ]
    }
   ],
   "source": [
    "!unzip data/5celebrity.zip -d data/5celebrity"
   ]
  },
  {
   "cell_type": "markdown",
   "id": "9c53d8ed",
   "metadata": {},
   "source": [
    "# 2. 얼굴 Dect\n",
    "- MTCNN 라이브러리"
   ]
  },
  {
   "cell_type": "code",
   "execution_count": 3,
   "id": "5f3816c4",
   "metadata": {
    "ExecuteTime": {
     "end_time": "2024-12-26T06:53:33.150938Z",
     "start_time": "2024-12-26T06:53:21.755398Z"
    },
    "collapsed": true
   },
   "outputs": [
    {
     "name": "stdout",
     "output_type": "stream",
     "text": [
      "Collecting mtcnn\n",
      "  Downloading mtcnn-1.0.0-py3-none-any.whl (1.9 MB)\n",
      "     ---------------------------------------- 1.9/1.9 MB 8.1 MB/s eta 0:00:00\n",
      "Collecting lz4>=4.3.3\n",
      "  Downloading lz4-4.3.3-cp310-cp310-win_amd64.whl (99 kB)\n",
      "     ---------------------------------------- 99.8/99.8 kB 5.6 MB/s eta 0:00:00\n",
      "Collecting joblib>=1.4.2\n",
      "  Downloading joblib-1.4.2-py3-none-any.whl (301 kB)\n",
      "     ------------------------------------- 301.8/301.8 kB 18.2 MB/s eta 0:00:00\n",
      "Installing collected packages: lz4, joblib, mtcnn\n",
      "  Attempting uninstall: lz4\n",
      "    Found existing installation: lz4 3.1.3\n",
      "    Uninstalling lz4-3.1.3:\n",
      "      Successfully uninstalled lz4-3.1.3\n"
     ]
    },
    {
     "name": "stderr",
     "output_type": "stream",
     "text": [
      "ERROR: Could not install packages due to an OSError: [WinError 5] 액세스가 거부되었습니다: 'C:\\\\Users\\\\4545\\\\anaconda3\\\\Lib\\\\site-packages\\\\~z4\\\\frame\\\\_frame.cp310-win_amd64.pyd'\n",
      "Consider using the `--user` option or check the permissions.\n",
      "\n"
     ]
    }
   ],
   "source": [
    "# ! pip install mtcnn\n",
    "# 아나콘다 프롬프트에서 실행"
   ]
  },
  {
   "cell_type": "code",
   "execution_count": 4,
   "id": "b301fc1e",
   "metadata": {
    "ExecuteTime": {
     "end_time": "2024-12-26T06:56:24.145222Z",
     "start_time": "2024-12-26T06:56:14.266188Z"
    }
   },
   "outputs": [],
   "source": [
    "from mtcnn import MTCNN\n",
    "import PIL\n",
    "import numpy as np\n",
    "import matplotlib.pyplot as plt\n",
    "import cv2"
   ]
  },
  {
   "cell_type": "markdown",
   "id": "65169608",
   "metadata": {},
   "source": [
    "## 2.1 MTCNN을 이용해서 얼굴 형태 감지"
   ]
  },
  {
   "cell_type": "code",
   "execution_count": 41,
   "id": "126baa29",
   "metadata": {
    "ExecuteTime": {
     "end_time": "2024-12-26T07:42:46.859891Z",
     "start_time": "2024-12-26T07:42:46.426438Z"
    }
   },
   "outputs": [
    {
     "data": {
      "text/plain": [
       "[{'box': [121, 69, 66, 83],\n",
       "  'confidence': 0.9964280724525452,\n",
       "  'keypoints': {'nose': [156, 121],\n",
       "   'mouth_right': [170, 130],\n",
       "   'right_eye': [169, 100],\n",
       "   'left_eye': [139, 101],\n",
       "   'mouth_left': [141, 131]}}]"
      ]
     },
     "execution_count": 41,
     "metadata": {},
     "output_type": "execute_result"
    }
   ],
   "source": [
    "detector = MTCNN()\n",
    "image  = cv2.imread('data/5celebrity/train/elton_john/12.jpg', cv2.IMREAD_ANYCOLOR)\n",
    "image  = cv2.cvtColor(image, cv2.COLOR_BGR2RGB)\n",
    "result = detector.detect_faces(image)\n",
    "result\n",
    "\n",
    "# 'box': 얼굴을 감싸는 바운딩 박스(bounding box)의 좌표(좌상, 우하)\n",
    "# 'confidence': 얼굴 검출의 신뢰도\n",
    "# 'keypoints': 얼굴의 주요 특징 점들, 눈, 코, 입의 좌표"
   ]
  },
  {
   "cell_type": "markdown",
   "id": "6f8a3d93",
   "metadata": {},
   "source": [
    "## 2.2 탐지한 얼굴 그려보기"
   ]
  },
  {
   "cell_type": "code",
   "execution_count": 42,
   "id": "b090005c",
   "metadata": {
    "ExecuteTime": {
     "end_time": "2024-12-26T07:42:48.498401Z",
     "start_time": "2024-12-26T07:42:48.482511Z"
    }
   },
   "outputs": [
    {
     "name": "stdout",
     "output_type": "stream",
     "text": [
      "[121, 69, 66, 83]\n"
     ]
    },
    {
     "data": {
      "text/plain": [
       "True"
      ]
     },
     "execution_count": 42,
     "metadata": {},
     "output_type": "execute_result"
    }
   ],
   "source": [
    "box = result[0]['box']       # 왼쪽 위 x, y, width, height\n",
    "print(box)\n",
    "x, y, w, h = box\n",
    "keypoints = result[0]['keypoints'] # nose / mouth_right / right_eye / left_eye / mouth_left 좌표\n",
    "cv2.rectangle(image, \n",
    "              (x,     y),          # 사각형 왼쪽 위 좌표\n",
    "              (x + w, y + h), # 사각형 오른쪽 아래 좌표\n",
    "              (0, 144, 255),                      # 사각형 색상\n",
    "              2)\n",
    "cv2.circle(image,\n",
    "           keypoints['nose'], # 원의중심점\n",
    "           2,                 # 반지름\n",
    "           (255, 0, 0),       # 원 색상\n",
    "           2,)\n",
    "cv2.circle(image,\n",
    "           keypoints['mouth_right'], # 원의중심점\n",
    "           2,                        # 반지름\n",
    "           (255, 0, 0),              # 원 색상\n",
    "           2,)\n",
    "cv2.circle(image,\n",
    "           keypoints['right_eye'], # 원의중심점\n",
    "           2,                      # 반지름\n",
    "           (255, 0, 0),            # 원 색상\n",
    "           2,)\n",
    "cv2.circle(image,\n",
    "           keypoints['left_eye'], # 원의중심점\n",
    "           2,                     # 반지름\n",
    "           (255, 0, 0),           # 원 색상\n",
    "           2,)\n",
    "cv2.circle(image,\n",
    "           keypoints['mouth_left'], # 원의중심점\n",
    "           2,                       # 반지름\n",
    "           (255, 0, 0),             # 원 색상\n",
    "           2,)\n",
    "# 사각형과 점은 여전히 BGR \n",
    "cv2.imwrite('data/ben.jpg', cv2.cvtColor(image, cv2.COLOR_BGR2RGB))\n",
    "\n",
    "# 얼굴 면적만 추출하여 저장\n",
    "face = image[y:y + h, x:x + w]\n",
    "cv2.imwrite('data/benface.jpg', cv2.cvtColor(face, cv2.COLOR_BGR2RGB))"
   ]
  },
  {
   "cell_type": "code",
   "execution_count": 43,
   "id": "34e410b5",
   "metadata": {
    "ExecuteTime": {
     "end_time": "2024-12-26T07:42:51.159187Z",
     "start_time": "2024-12-26T07:42:51.034286Z"
    }
   },
   "outputs": [
    {
     "data": {
      "image/png": "[encoded data removed]",
      "text/plain": [
       "<Figure size 500x300 with 2 Axes>"
      ]
     },
     "metadata": {},
     "output_type": "display_data"
    }
   ],
   "source": [
    "fig, axes = plt.subplots(1, 2, figsize = (5, 3))\n",
    "axes[0].imshow(image)\n",
    "axes[0].axis('off')\n",
    "axes[1].imshow(face)\n",
    "axes[1].axis('off')\n",
    "plt.show()"
   ]
  },
  {
   "cell_type": "markdown",
   "id": "f80af941",
   "metadata": {},
   "source": [
    "## 2.3 입력형식에 맞게 차원 변환"
   ]
  },
  {
   "cell_type": "code",
   "execution_count": 45,
   "id": "ad3fc605",
   "metadata": {
    "ExecuteTime": {
     "end_time": "2024-12-26T07:43:29.769809Z",
     "start_time": "2024-12-26T07:43:29.762800Z"
    }
   },
   "outputs": [
    {
     "data": {
      "text/plain": [
       "(1, 83, 66, 3)"
      ]
     },
     "execution_count": 45,
     "metadata": {},
     "output_type": "execute_result"
    }
   ],
   "source": [
    "face.shape\n",
    "# sol 1\n",
    "face_data = np.expand_dims(face, axis = 0)\n",
    "# sol 2 # 비추\n",
    "# face_data = face.reshape(-1, face.shape[0], face.shape[1], face.shape[2]) \n",
    "# sol 3\n",
    "face_data = face[np.newaxis, :]\n",
    "face_data.shape"
   ]
  },
  {
   "cell_type": "markdown",
   "id": "a33b6469",
   "metadata": {},
   "source": [
    "# 3. Facenet 활용하여 Embedding 데이터로 변환\n",
    "```\n",
    "- Embedding 처리란?\n",
    "얼굴을 표현하는 고차원의 이미지 정보를 저차원으로 변환하면서 필요한 정보를 보존\n",
    "숫자가 아닌 원 데이터를 Machine learning 모델이 이해하고 상관관계를 분석할 수 있는 연속 값으로 변환\n",
    "\n",
    "- face_data     : 1 x 83 x 66 x 3\n",
    "- Embedding Data: 1 x 512\n",
    "```"
   ]
  },
  {
   "cell_type": "code",
   "execution_count": null,
   "id": "8310b52f",
   "metadata": {},
   "outputs": [],
   "source": [
    "# ! pip install keras-facenet"
   ]
  },
  {
   "cell_type": "code",
   "execution_count": 46,
   "id": "0e89d7b7",
   "metadata": {
    "ExecuteTime": {
     "end_time": "2024-12-26T07:52:15.427935Z",
     "start_time": "2024-12-26T07:52:02.762784Z"
    }
   },
   "outputs": [],
   "source": [
    "from keras_facenet import FaceNet\n",
    "model = FaceNet()"
   ]
  },
  {
   "cell_type": "markdown",
   "id": "591a0656",
   "metadata": {},
   "source": [
    "## 3.1 이미지 데이터를 FaceNet Embedding 데이터로 변환\n"
   ]
  },
  {
   "cell_type": "code",
   "execution_count": 48,
   "id": "9ffbf58c",
   "metadata": {
    "ExecuteTime": {
     "end_time": "2024-12-26T07:55:39.510174Z",
     "start_time": "2024-12-26T07:55:34.731526Z"
    }
   },
   "outputs": [
    {
     "name": "stdout",
     "output_type": "stream",
     "text": [
      "1/1 [==============================] - 5s 5s/step\n"
     ]
    },
    {
     "data": {
      "text/plain": [
       "(1, 512)"
      ]
     },
     "execution_count": 48,
     "metadata": {},
     "output_type": "execute_result"
    }
   ],
   "source": [
    "# face_data 얼굴 이미지이거나 얼굴 특징 데이터가 있는 이미지의 유사성을 측정할 수 있는 1 x 512 배열\n",
    "face_embedding = model.embeddings(face_data)\n",
    "face_embedding.shape"
   ]
  },
  {
   "cell_type": "code",
   "execution_count": 49,
   "id": "d8d704ab",
   "metadata": {
    "ExecuteTime": {
     "end_time": "2024-12-26T07:56:19.289966Z",
     "start_time": "2024-12-26T07:56:19.282002Z"
    }
   },
   "outputs": [
    {
     "data": {
      "text/plain": [
       "array([-0.00516778,  0.03497617,  0.06088691,  0.11953422,  0.00298368,\n",
       "        0.04815089, -0.07882894, -0.04683649, -0.05991695, -0.02180289],\n",
       "      dtype=float32)"
      ]
     },
     "execution_count": 49,
     "metadata": {},
     "output_type": "execute_result"
    }
   ],
   "source": [
    "face_embedding[0, :10]"
   ]
  },
  {
   "cell_type": "markdown",
   "id": "efe478a0",
   "metadata": {},
   "source": [
    "# 4. 분류모델을 만들기 위해서 데이터셋 생성\n",
    "* n은 train 폴더 안의 사진 개수\n",
    "* m은 test 폴더 안의 사진 개수\n",
    "\n",
    "```\n",
    "- X_train(n x 512), y_train(n)\n",
    "- X_test(m x 512), y_test(m)\n",
    "```\n",
    "\n",
    "## 4.1 y_train(사람이름)과 X_train에 사용될 이미지 경로(x_train_path)\n",
    "- y_test(사람이름)과 X_test에 사용될 이미지 경로(x_test_path)"
   ]
  },
  {
   "cell_type": "code",
   "execution_count": 50,
   "id": "a1844501",
   "metadata": {
    "ExecuteTime": {
     "end_time": "2024-12-26T08:20:56.736004Z",
     "start_time": "2024-12-26T08:20:56.730048Z"
    }
   },
   "outputs": [],
   "source": [
    "import os\n",
    "# 이미지 경로 생성\n",
    "train_path = 'data/5celebrity/train'\n",
    "test_path  = 'data/5celebrity/val'"
   ]
  },
  {
   "cell_type": "code",
   "execution_count": 63,
   "id": "5ef7344b",
   "metadata": {
    "ExecuteTime": {
     "end_time": "2024-12-26T08:34:11.868843Z",
     "start_time": "2024-12-26T08:34:11.858521Z"
    }
   },
   "outputs": [
    {
     "data": {
      "text/plain": [
       "[('data/5celebrity/train',\n",
       "  ['ben_afflek', 'elton_john', 'jerry_seinfeld', 'madonna', 'mindy_kaling'],\n",
       "  []),\n",
       " ('data/5celebrity/train\\\\ben_afflek',\n",
       "  [],\n",
       "  ['httpcsvkmeuaeccjpg.jpg',\n",
       "   'httpimagesfandangocomrImageRendererredesignstaticimgnoxportraitjpgpcpcpcimagesmasterrepositoryperformerimagespjpg.jpg',\n",
       "   'httpssmediacacheakpinimgcomxdbbdbbbececacdecdcdfjpg.jpg',\n",
       "   'httpssmediacacheakpinimgcomxdfdfadcfeabjpg.jpg',\n",
       "   'httpssmediacacheakpinimgcomxedaedabcbefbcbabbjpg.jpg',\n",
       "   'httpssmediacacheakpinimgcomxeebdfdbaaajpg.jpg',\n",
       "   'httpssmediacacheakpinimgcomxeeedcacddeccccacfjpg.jpg',\n",
       "   'httpsuploadwikimediaorgwikipediacommonsthumbddBenAffleckbyGageSkidmorejpgpxBenAffleckbyGageSkidmorejpg.jpg',\n",
       "   'httptrwebimgacstanetcxbdddmediasnmediajpg.jpg',\n",
       "   'httpwwwaceshowbizcomimagesphotobenaffleckjpg.jpg',\n",
       "   'httpwwwallposterscomimagesPostersPFjpg.jpg',\n",
       "   'httpwwwfilmscoopitcgibinattoriBENAFFLECKBENAFFLECKjpg.jpg',\n",
       "   'httpwwwhillsindcomstorebenjpg.jpg',\n",
       "   'httpwwwrumenewscomwpcontentuploadsbenafflekxpng.jpg']),\n",
       " ('data/5celebrity/train\\\\elton_john',\n",
       "  [],\n",
       "  ['0.jpg',\n",
       "   '1.jpg',\n",
       "   '10.jpg',\n",
       "   '11.jpg',\n",
       "   '12.jpg',\n",
       "   '13.jpg',\n",
       "   '14.jpg',\n",
       "   '15.jpg',\n",
       "   '16.jpg',\n",
       "   '3.jpg',\n",
       "   '4.jpg',\n",
       "   '5.jpg',\n",
       "   '6.jpg',\n",
       "   '7.jpg',\n",
       "   '8.jpg',\n",
       "   '9.jpg']),\n",
       " ('data/5celebrity/train\\\\jerry_seinfeld',\n",
       "  [],\n",
       "  ['httpgraphicsnytimescomimagessectionmoviesfilmographyWireImagejpg.jpg',\n",
       "   'httpikinjaimgcomgawkermediaimageuploadsWmIuhdsrcedidjpgjpg.jpg',\n",
       "   'httpimagescontactmusiccomnewsimagesjerryseinfeldjpg.jpg',\n",
       "   'httpimagesrottentomatoescomimagesspotlightsnewsjerryseinfeldjpg.jpg',\n",
       "   'httpimgthedrumcomsfspublicnewstmpjerryseinfeldjpg.jpg',\n",
       "   'httpimgtimeincnetpeopleinewsjerryseinfeldjpg.jpg',\n",
       "   'httpmediapopsugarassetscomfilesusersxlargejpg.jpg',\n",
       "   'httppfodcompchannelslegacyprofilejerryseinfeldpodcastjpg.jpg',\n",
       "   'httpsmedialivenationcomartiststapjpg.jpg',\n",
       "   'httpsrobertaccetturacomwpcontentuploadsjerryseinfeldheadshotjpg.jpg',\n",
       "   'httpstatictherichestimagescomcdncwpcontentuploadsJerrySeinfeldjpg.jpg',\n",
       "   'httpsticketmnettmenusdbimagesajpg.jpg',\n",
       "   'httpsuploadwikimediaorgwikipediacommonsthumbbJerrySeinfeldjpgpxJerrySeinfeldjpg.jpg',\n",
       "   'httpsuswestamazonawscomblogsprodmediausuploadsJerrySeinfeldkidsxjpg.jpg',\n",
       "   'httpswwwticketscomuploadsartistsjerryseinfeldbilletsjpg.jpg',\n",
       "   'httpwwweonlinecomresizewwweonlinecomeolimagesEntireSitersxjerryseinfeldjulialouisdreyfusjwjpg.jpg',\n",
       "   'httpwwwnndbcompeoplejerryseinfeldaujpg.jpg',\n",
       "   'httpwwwpictureszimbiocomgpJerrySeinfeldJessicaSeinfeldmarriedBczSipMdNMQljpg.jpg',\n",
       "   'httpwwwpsychiatrictimescomsitesdefaultfilesimagesmediaPTMofficSeinfeldjpg.jpg',\n",
       "   'httpwwwslatecomcontentdamslateblogsbrowbeatseinfeldjpgCROParticlemediumjpg.jpg',\n",
       "   'httpwwwwatchidcomsitesdefaultfilesuploadsightingBreitlingwatchJerrySeinfeldjpg.jpg']),\n",
       " ('data/5celebrity/train\\\\madonna',\n",
       "  [],\n",
       "  ['httpiamediaimdbcomimagesMMVBMTANDQNTAxNDVeQTJeQWpwZBbWUMDIMjQOTYVUXCRALjpg.jpg',\n",
       "   'httpimagegaladevcmseamadonnaprivatdetektivsquaretopsquarejpgv.jpg',\n",
       "   'httpimgclosermagfrvarclosermagstorageimagesactupeoplebiodestarsmadonnamadonnafreFRmadonnaexactxljpg.jpg',\n",
       "   'httpmediavoguecomrwblondesdarkbrowsmadonnajpg.jpg',\n",
       "   'httpresizeparismatchladmediafrrffffffcentermiddleimgvarnewsstorageimagesparismatchpeopleazmadonnafreFRMadonnajpg.jpg',\n",
       "   'httpssmediacacheakpinimgcomxaaeaaeecccaedfebdbjpg.jpg',\n",
       "   'httpssmediacacheakpinimgcomxafafedebcbjpg.jpg',\n",
       "   'httpssmediacacheakpinimgcomxdcfdcfedfaedadjpg.jpg',\n",
       "   'httpssmediacacheakpinimgcomxfeebfdccajpg.jpg',\n",
       "   'httpssmediacacheakpinimgcomxffabffabbbcfbceaedjpg.jpg',\n",
       "   'httpssmediacacheakpinimgcomxffeabacaaejpg.jpg',\n",
       "   'httpssmediacacheakpinimgcomxffecfafddjpg.jpg',\n",
       "   'httpssvagalumecommadonnaimagesmadonnajpg.jpg',\n",
       "   'httpsuploadwikimediaorgwikipediacommonsMadonnathAnnualGoldenGlobesAwardscroppedjpg.jpg',\n",
       "   'httpsuploadwikimediaorgwikipediacommonsthumbaaMadonnaatthepremiereofIAmBecauseWeArejpgpxMadonnaatthepremiereofIAmBecauseWeArejpg.jpg',\n",
       "   'httpuploadwikimediaorgwikipediacommonsthumbaMadonnaRotterdamjpgpxMadonnaRotterdamjpg.jpg',\n",
       "   'httpwwwbeastiemaniacomwhoismadonnamadonnajpg.jpg',\n",
       "   'httpwwwblackdogfilmscomwordpresswpcontentuploadsmadonnacelebrationxjpg.jpg',\n",
       "   'httpwwwetonlinecomphotomadonnabdayjpg.jpg']),\n",
       " ('data/5celebrity/train\\\\mindy_kaling',\n",
       "  [],\n",
       "  ['httpgonetworthcomwpcontentuploadsthumbsjpg.jpg',\n",
       "   'httpgraphicsnytimescomimagesmagazinekalingkalingarticleInlinejpg.jpg',\n",
       "   'httpimagesnymagcomimagesdailymindykalingxjpg.jpg',\n",
       "   'httpmediaonsugarcomfilesbabaaaaaMindyInterviewxxxlargejpg.jpg',\n",
       "   'httppixelnymagcomimgsfashiondailymindykalingwhjpg.jpg',\n",
       "   'httpsamazonawscomkidzworldphotoimagesbccdddaaadgallerymindykalinggalleryjpg.jpg',\n",
       "   'httpsimagesnasslimagesamazoncomimagesIAQdwKvFILUXjpg.jpg',\n",
       "   'httpsimgbuzzfeedcombuzzfeedstaticstaticcampaignimageswebdradorableetsyitemsallmindykalingfansneedbigjpg.jpg',\n",
       "   'httpssmediacacheakpinimgcomxafaffbbbbdbcbdddjpg.jpg',\n",
       "   'httpssmediacacheakpinimgcomxbabafeacbaaacabffjpg.jpg',\n",
       "   'httpssmediacacheakpinimgcomxbbfcbdedfbfdbjpg.jpg',\n",
       "   'httpssmediacacheakpinimgcomxcccccddbbfedabjpg.jpg',\n",
       "   'httpssmediacacheakpinimgcomxccccdabeaadjpg.jpg',\n",
       "   'httpssmediacacheakpinimgcomxededbebccdajpg.jpg',\n",
       "   'httpssmediacacheakpinimgcomxeedccadejpg.jpg',\n",
       "   'httpsuploadwikimediaorgwikipediacommonsthumbMindyBKalingBPaleyFestBNewBYorkBBMindyBIqZgUWvbljpgpxMindyBKalingBPaleyFestBNewBYorkBBMindyBIqZgUWvbljpg.jpg',\n",
       "   'httpwwwadweekcomfilesimagecachenodeinlinemindykalingprofilehedjpg.jpg',\n",
       "   'httpwwwbooksforbetterlivingcomwpcontentuploadsMindyKalingAuthorPhotojpg.jpg',\n",
       "   'httpwwweonlinecomeolimagesEntireSiteregKalingCancermhjpg.jpg',\n",
       "   'httpwwwimpropercomimagesuploadsusercontentimagesSoroffMindyjpg.jpg',\n",
       "   'httpwwwpictureszimbiocomfpMindyKalingfBgaONVFDFmjpg.jpg',\n",
       "   'httpwwwpictureszimbiocomgiMindyKalingLkvEhTwDeJmjpg.jpg'])]"
      ]
     },
     "execution_count": 63,
     "metadata": {},
     "output_type": "execute_result"
    }
   ],
   "source": [
    "# 하위 디렉토리명, 디렉토리 내 이미지 파일 이름들\n",
    "list(os.walk(train_path))"
   ]
  },
  {
   "cell_type": "code",
   "execution_count": 84,
   "id": "ae8d7d83",
   "metadata": {
    "ExecuteTime": {
     "end_time": "2024-12-26T08:48:02.289593Z",
     "start_time": "2024-12-26T08:48:02.282636Z"
    }
   },
   "outputs": [],
   "source": [
    "def get_path(path):\n",
    "    x_path = []\n",
    "    y      = []\n",
    "    for x in os.walk(path):\n",
    "        if len(x[2]) == 0:\n",
    "            # print(x, '에는 파일이 없네요')\n",
    "            continue\n",
    "        name = os.path.basename(x[0]) # basename: 경로의 마지막 이름 구성 요소를 반환\n",
    "        print(name, '사진', len(x[2]), '장 parsing 중')\n",
    "        print(x[2])\n",
    "        for file_name in x[2]:\n",
    "            # image_full_path = x[0].replace('\\\\', '/') + '/' + file_name\n",
    "            image_full_path = path + '/' + name + '/' + file_name\n",
    "            x_path.append(image_full_path)\n",
    "            y.append(name)\n",
    "    # print(len(y))\n",
    "    # print(len(x_path))\n",
    "    # for name, path in zip(y, x_path):\n",
    "    #    print(name, path)\n",
    "    \n",
    "    return x_path, y"
   ]
  },
  {
   "cell_type": "code",
   "execution_count": 86,
   "id": "1fb29c67",
   "metadata": {
    "ExecuteTime": {
     "end_time": "2024-12-26T08:49:26.971359Z",
     "start_time": "2024-12-26T08:49:26.962945Z"
    }
   },
   "outputs": [
    {
     "name": "stdout",
     "output_type": "stream",
     "text": [
      "ben_afflek 사진 14 장 parsing 중\n",
      "['httpcsvkmeuaeccjpg.jpg', 'httpimagesfandangocomrImageRendererredesignstaticimgnoxportraitjpgpcpcpcimagesmasterrepositoryperformerimagespjpg.jpg', 'httpssmediacacheakpinimgcomxdbbdbbbececacdecdcdfjpg.jpg', 'httpssmediacacheakpinimgcomxdfdfadcfeabjpg.jpg', 'httpssmediacacheakpinimgcomxedaedabcbefbcbabbjpg.jpg', 'httpssmediacacheakpinimgcomxeebdfdbaaajpg.jpg', 'httpssmediacacheakpinimgcomxeeedcacddeccccacfjpg.jpg', 'httpsuploadwikimediaorgwikipediacommonsthumbddBenAffleckbyGageSkidmorejpgpxBenAffleckbyGageSkidmorejpg.jpg', 'httptrwebimgacstanetcxbdddmediasnmediajpg.jpg', 'httpwwwaceshowbizcomimagesphotobenaffleckjpg.jpg', 'httpwwwallposterscomimagesPostersPFjpg.jpg', 'httpwwwfilmscoopitcgibinattoriBENAFFLECKBENAFFLECKjpg.jpg', 'httpwwwhillsindcomstorebenjpg.jpg', 'httpwwwrumenewscomwpcontentuploadsbenafflekxpng.jpg']\n",
      "elton_john 사진 16 장 parsing 중\n",
      "['0.jpg', '1.jpg', '10.jpg', '11.jpg', '12.jpg', '13.jpg', '14.jpg', '15.jpg', '16.jpg', '3.jpg', '4.jpg', '5.jpg', '6.jpg', '7.jpg', '8.jpg', '9.jpg']\n",
      "jerry_seinfeld 사진 21 장 parsing 중\n",
      "['httpgraphicsnytimescomimagessectionmoviesfilmographyWireImagejpg.jpg', 'httpikinjaimgcomgawkermediaimageuploadsWmIuhdsrcedidjpgjpg.jpg', 'httpimagescontactmusiccomnewsimagesjerryseinfeldjpg.jpg', 'httpimagesrottentomatoescomimagesspotlightsnewsjerryseinfeldjpg.jpg', 'httpimgthedrumcomsfspublicnewstmpjerryseinfeldjpg.jpg', 'httpimgtimeincnetpeopleinewsjerryseinfeldjpg.jpg', 'httpmediapopsugarassetscomfilesusersxlargejpg.jpg', 'httppfodcompchannelslegacyprofilejerryseinfeldpodcastjpg.jpg', 'httpsmedialivenationcomartiststapjpg.jpg', 'httpsrobertaccetturacomwpcontentuploadsjerryseinfeldheadshotjpg.jpg', 'httpstatictherichestimagescomcdncwpcontentuploadsJerrySeinfeldjpg.jpg', 'httpsticketmnettmenusdbimagesajpg.jpg', 'httpsuploadwikimediaorgwikipediacommonsthumbbJerrySeinfeldjpgpxJerrySeinfeldjpg.jpg', 'httpsuswestamazonawscomblogsprodmediausuploadsJerrySeinfeldkidsxjpg.jpg', 'httpswwwticketscomuploadsartistsjerryseinfeldbilletsjpg.jpg', 'httpwwweonlinecomresizewwweonlinecomeolimagesEntireSitersxjerryseinfeldjulialouisdreyfusjwjpg.jpg', 'httpwwwnndbcompeoplejerryseinfeldaujpg.jpg', 'httpwwwpictureszimbiocomgpJerrySeinfeldJessicaSeinfeldmarriedBczSipMdNMQljpg.jpg', 'httpwwwpsychiatrictimescomsitesdefaultfilesimagesmediaPTMofficSeinfeldjpg.jpg', 'httpwwwslatecomcontentdamslateblogsbrowbeatseinfeldjpgCROParticlemediumjpg.jpg', 'httpwwwwatchidcomsitesdefaultfilesuploadsightingBreitlingwatchJerrySeinfeldjpg.jpg']\n",
      "madonna 사진 19 장 parsing 중\n",
      "['httpiamediaimdbcomimagesMMVBMTANDQNTAxNDVeQTJeQWpwZBbWUMDIMjQOTYVUXCRALjpg.jpg', 'httpimagegaladevcmseamadonnaprivatdetektivsquaretopsquarejpgv.jpg', 'httpimgclosermagfrvarclosermagstorageimagesactupeoplebiodestarsmadonnamadonnafreFRmadonnaexactxljpg.jpg', 'httpmediavoguecomrwblondesdarkbrowsmadonnajpg.jpg', 'httpresizeparismatchladmediafrrffffffcentermiddleimgvarnewsstorageimagesparismatchpeopleazmadonnafreFRMadonnajpg.jpg', 'httpssmediacacheakpinimgcomxaaeaaeecccaedfebdbjpg.jpg', 'httpssmediacacheakpinimgcomxafafedebcbjpg.jpg', 'httpssmediacacheakpinimgcomxdcfdcfedfaedadjpg.jpg', 'httpssmediacacheakpinimgcomxfeebfdccajpg.jpg', 'httpssmediacacheakpinimgcomxffabffabbbcfbceaedjpg.jpg', 'httpssmediacacheakpinimgcomxffeabacaaejpg.jpg', 'httpssmediacacheakpinimgcomxffecfafddjpg.jpg', 'httpssvagalumecommadonnaimagesmadonnajpg.jpg', 'httpsuploadwikimediaorgwikipediacommonsMadonnathAnnualGoldenGlobesAwardscroppedjpg.jpg', 'httpsuploadwikimediaorgwikipediacommonsthumbaaMadonnaatthepremiereofIAmBecauseWeArejpgpxMadonnaatthepremiereofIAmBecauseWeArejpg.jpg', 'httpuploadwikimediaorgwikipediacommonsthumbaMadonnaRotterdamjpgpxMadonnaRotterdamjpg.jpg', 'httpwwwbeastiemaniacomwhoismadonnamadonnajpg.jpg', 'httpwwwblackdogfilmscomwordpresswpcontentuploadsmadonnacelebrationxjpg.jpg', 'httpwwwetonlinecomphotomadonnabdayjpg.jpg']\n",
      "mindy_kaling 사진 22 장 parsing 중\n",
      "['httpgonetworthcomwpcontentuploadsthumbsjpg.jpg', 'httpgraphicsnytimescomimagesmagazinekalingkalingarticleInlinejpg.jpg', 'httpimagesnymagcomimagesdailymindykalingxjpg.jpg', 'httpmediaonsugarcomfilesbabaaaaaMindyInterviewxxxlargejpg.jpg', 'httppixelnymagcomimgsfashiondailymindykalingwhjpg.jpg', 'httpsamazonawscomkidzworldphotoimagesbccdddaaadgallerymindykalinggalleryjpg.jpg', 'httpsimagesnasslimagesamazoncomimagesIAQdwKvFILUXjpg.jpg', 'httpsimgbuzzfeedcombuzzfeedstaticstaticcampaignimageswebdradorableetsyitemsallmindykalingfansneedbigjpg.jpg', 'httpssmediacacheakpinimgcomxafaffbbbbdbcbdddjpg.jpg', 'httpssmediacacheakpinimgcomxbabafeacbaaacabffjpg.jpg', 'httpssmediacacheakpinimgcomxbbfcbdedfbfdbjpg.jpg', 'httpssmediacacheakpinimgcomxcccccddbbfedabjpg.jpg', 'httpssmediacacheakpinimgcomxccccdabeaadjpg.jpg', 'httpssmediacacheakpinimgcomxededbebccdajpg.jpg', 'httpssmediacacheakpinimgcomxeedccadejpg.jpg', 'httpsuploadwikimediaorgwikipediacommonsthumbMindyBKalingBPaleyFestBNewBYorkBBMindyBIqZgUWvbljpgpxMindyBKalingBPaleyFestBNewBYorkBBMindyBIqZgUWvbljpg.jpg', 'httpwwwadweekcomfilesimagecachenodeinlinemindykalingprofilehedjpg.jpg', 'httpwwwbooksforbetterlivingcomwpcontentuploadsMindyKalingAuthorPhotojpg.jpg', 'httpwwweonlinecomeolimagesEntireSiteregKalingCancermhjpg.jpg', 'httpwwwimpropercomimagesuploadsusercontentimagesSoroffMindyjpg.jpg', 'httpwwwpictureszimbiocomfpMindyKalingfBgaONVFDFmjpg.jpg', 'httpwwwpictureszimbiocomgiMindyKalingLkvEhTwDeJmjpg.jpg']\n",
      "ben_afflek 사진 5 장 parsing 중\n",
      "['httpabsolumentgratuitfreefrimagesbenaffleckjpg.jpg', 'httpafilesbiographycomimageuploadcfillcssrgbdprgfacehqwMTENDgMDUODczNDcNTcjpg.jpg', 'httpbpblogspotcomedLMjVpRGkSWexgsXjkNIAAAAAAAADWgFFtAUqBlhAsjpg.jpg', 'httpcsvkmeuaafdfjpg.jpg', 'httpcsvkmeuadecafjpg.jpg']\n",
      "elton_john 사진 5 장 parsing 중\n",
      "['httpafilesbiographycomimageuploadcfillcssrgbdprgfacehqwMTEODAOTcxNjcMjczMjkzjpg.jpg', 'httpcdncdnjustjaredcomwpcontentuploadsheadlineseltonjohnemmysperformancewatchnowjpg.jpg', 'httpcdncdnjustjaredcomwpcontentuploadsheadlineseltonjohnstillstandingbrooklynnewyearsjpg.jpg', 'httpcdncdnjustjaredcomwpcontentuploadsheadlineseltonjohnsupportsbrucejennerstransitiontowomanjpg.jpg', 'httpcdnlyricssongonlyricsnetwpcontentuploadsEltonJohnDiscographyCDreleasesjpg.jpg']\n",
      "jerry_seinfeld 사진 5 장 parsing 중\n",
      "['httpafilesbiographycomimageuploadcfillcssrgbdprgfacehqwMTIwNjANjMMDINzIxNjcjpg.jpg', 'httpaurorasblogcomwpcontentuploadsjerryseinfeldpublicityshotjpg.jpg', 'httpblognjcomentertainmentimpactcelebritiesmediumjerrybjpg.jpg', 'httpcdncdnjustjaredcomwpcontentuploadsheadlinesjerryseinfeldmakesbrianwilliamsjokejpg.jpg', 'httpcdnssninsidercomwpcontentuploadsjerryseinfeldxjpg.jpg']\n",
      "madonna 사진 5 장 parsing 중\n",
      "['httpassetsrollingstonecomassetsarticlemadonnadavidbowiechangedthecourseofmylifeforeversmallsquarexmadonnabowiejpg.jpg', 'httpassetsrollingstonecomassetsimagesalbumreviewaffaceabdcccaeedjpg.jpg', 'httpcdncdnjustjaredcomwpcontentuploadsheadlinesmadonnatalksparisattackstearsjpg.jpg', 'httpcdnfuncheapcomwpcontentuploadsVOGUEjpg.jpg', 'httpecximagesamazoncomimagesIfmaBKWLACULSRjpg.jpg']\n",
      "mindy_kaling 사진 5 장 parsing 중\n",
      "['httpafilesbiographycomimageuploadcfillcssrgbdprgfacehqwMTIOTcwODQNTUzNjQMzcjpg.jpg', 'httpcdncdnjustjaredcomwpcontentuploadsheadlinesmindykalingcomedypilotjpg.jpg', 'httpcdnpastemagazinecomwwwarticlesmindykalingndbookjpg.jpg', 'httpcdnpastemagazinecomwwwarticlesmindyprojectjpg.jpg', 'httpdbrbzkkbdsdcloudfrontnetwpcontentuploadsMindyKalingjpg.jpg']\n"
     ]
    }
   ],
   "source": [
    "# get_path(train_path)\n",
    "x_train_path, y_train = get_path(train_path)\n",
    "x_test_path, y_test   = get_path(test_path)"
   ]
  },
  {
   "cell_type": "code",
   "execution_count": null,
   "id": "a98c3f39",
   "metadata": {},
   "outputs": [],
   "source": []
  },
  {
   "cell_type": "code",
   "execution_count": null,
   "id": "3f03180d",
   "metadata": {},
   "outputs": [],
   "source": []
  },
  {
   "cell_type": "code",
   "execution_count": null,
   "id": "f7c778cd",
   "metadata": {},
   "outputs": [],
   "source": []
  },
  {
   "cell_type": "code",
   "execution_count": null,
   "id": "211c5185",
   "metadata": {},
   "outputs": [],
   "source": []
  },
  {
   "cell_type": "code",
   "execution_count": null,
   "id": "eaf9572e",
   "metadata": {},
   "outputs": [],
   "source": []
  },
  {
   "cell_type": "code",
   "execution_count": null,
   "id": "8a9d8658",
   "metadata": {},
   "outputs": [],
   "source": []
  }
 ],
 "metadata": {
  "kernelspec": {
   "display_name": "Python 3 (ipykernel)",
   "language": "python",
   "name": "python3"
  },
  "language_info": {
   "codemirror_mode": {
    "name": "ipython",
    "version": 3
   },
   "file_extension": ".py",
   "mimetype": "text/x-python",
   "name": "python",
   "nbconvert_exporter": "python",
   "pygments_lexer": "ipython3",
   "version": "3.10.9"
  },
  "toc": {
   "base_numbering": 1,
   "nav_menu": {},
   "number_sections": true,
   "sideBar": true,
   "skip_h1_title": false,
   "title_cell": "Table of Contents",
   "title_sidebar": "Contents",
   "toc_cell": false,
   "toc_position": {
    "height": "calc(100% - 180px)",
    "left": "10px",
    "top": "150px",
    "width": "355.33px"
   },
   "toc_section_display": true,
   "toc_window_display": true
  }
 },
 "nbformat": 4,
 "nbformat_minor": 5
}
