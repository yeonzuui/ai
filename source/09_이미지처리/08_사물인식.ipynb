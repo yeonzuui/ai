{
 "cells": [
  {
   "cell_type": "markdown",
   "id": "437fdcdc",
   "metadata": {},
   "source": [
    "Yolov8\n",
    "- https://docs.ultralytics.com/ko"
   ]
  },
  {
   "cell_type": "markdown",
   "id": "7bdec9b6",
   "metadata": {},
   "source": [
    "# 1. Yolov8을 위한 패키지 설치 및 import"
   ]
  },
  {
   "cell_type": "code",
   "execution_count": null,
   "id": "c6dd19e2",
   "metadata": {},
   "outputs": [],
   "source": [
    "# ! pip install ultralytics"
   ]
  },
  {
   "cell_type": "code",
   "execution_count": 1,
   "id": "b57cbf9d",
   "metadata": {
    "ExecuteTime": {
     "end_time": "2024-12-27T03:58:04.285876Z",
     "start_time": "2024-12-27T03:57:59.735593Z"
    }
   },
   "outputs": [],
   "source": [
    "from ultralytics import YOLO\n",
    "import cv2\n",
    "import matplotlib.pyplot as plt"
   ]
  },
  {
   "cell_type": "markdown",
   "id": "e9347d51",
   "metadata": {},
   "source": [
    "# 2. YOLO 인스턴스 생성하여 사물인식 처리"
   ]
  },
  {
   "cell_type": "code",
   "execution_count": 2,
   "id": "c1fc6e1e",
   "metadata": {
    "ExecuteTime": {
     "end_time": "2024-12-27T03:58:05.916905Z",
     "start_time": "2024-12-27T03:58:05.851672Z"
    }
   },
   "outputs": [],
   "source": [
    "# 8 버전 사용\n",
    "model = YOLO('yolov8n.pt')\n",
    "# source 폴더에 생성됨"
   ]
  },
  {
   "cell_type": "code",
   "execution_count": 3,
   "id": "d798ae8d",
   "metadata": {
    "ExecuteTime": {
     "end_time": "2024-12-27T03:58:10.135699Z",
     "start_time": "2024-12-27T03:58:08.444997Z"
    }
   },
   "outputs": [
    {
     "name": "stdout",
     "output_type": "stream",
     "text": [
      "\n",
      "image 1/1 D:\\ai\\source\\09_\\data\\mission_impossible_yolo.jpg: 352x640 1 person, 9 cars, 6 motorcycles, 66.7ms\n",
      "Speed: 0.0ms preprocess, 66.7ms inference, 0.0ms postprocess per image at shape (1, 3, 352, 640)\n",
      "[ultralytics.engine.results.Results object with attributes:\n",
      "\n",
      "boxes: ultralytics.engine.results.Boxes object\n",
      "keypoints: None\n",
      "masks: None\n",
      "names: {0: 'person', 1: 'bicycle', 2: 'car', 3: 'motorcycle', 4: 'airplane', 5: 'bus', 6: 'train', 7: 'truck', 8: 'boat', 9: 'traffic light', 10: 'fire hydrant', 11: 'stop sign', 12: 'parking meter', 13: 'bench', 14: 'bird', 15: 'cat', 16: 'dog', 17: 'horse', 18: 'sheep', 19: 'cow', 20: 'elephant', 21: 'bear', 22: 'zebra', 23: 'giraffe', 24: 'backpack', 25: 'umbrella', 26: 'handbag', 27: 'tie', 28: 'suitcase', 29: 'frisbee', 30: 'skis', 31: 'snowboard', 32: 'sports ball', 33: 'kite', 34: 'baseball bat', 35: 'baseball glove', 36: 'skateboard', 37: 'surfboard', 38: 'tennis racket', 39: 'bottle', 40: 'wine glass', 41: 'cup', 42: 'fork', 43: 'knife', 44: 'spoon', 45: 'bowl', 46: 'banana', 47: 'apple', 48: 'sandwich', 49: 'orange', 50: 'broccoli', 51: 'carrot', 52: 'hot dog', 53: 'pizza', 54: 'donut', 55: 'cake', 56: 'chair', 57: 'couch', 58: 'potted plant', 59: 'bed', 60: 'dining table', 61: 'toilet', 62: 'tv', 63: 'laptop', 64: 'mouse', 65: 'remote', 66: 'keyboard', 67: 'cell phone', 68: 'microwave', 69: 'oven', 70: 'toaster', 71: 'sink', 72: 'refrigerator', 73: 'book', 74: 'clock', 75: 'vase', 76: 'scissors', 77: 'teddy bear', 78: 'hair drier', 79: 'toothbrush'}\n",
      "obb: None\n",
      "orig_img: array([[[107, 133, 147],\n",
      "        [107, 133, 147],\n",
      "        [107, 133, 147],\n",
      "        ...,\n",
      "        [ 65,  98,  77],\n",
      "        [ 67, 100,  79],\n",
      "        [ 64,  95,  74]],\n",
      "\n",
      "       [[113, 139, 153],\n",
      "        [113, 139, 153],\n",
      "        [113, 139, 153],\n",
      "        ...,\n",
      "        [ 64,  97,  76],\n",
      "        [ 66,  99,  78],\n",
      "        [ 64,  95,  74]],\n",
      "\n",
      "       [[124, 150, 164],\n",
      "        [125, 151, 165],\n",
      "        [125, 151, 165],\n",
      "        ...,\n",
      "        [ 64,  97,  76],\n",
      "        [ 67,  98,  77],\n",
      "        [ 69,  97,  77]],\n",
      "\n",
      "       ...,\n",
      "\n",
      "       [[180, 171, 161],\n",
      "        [180, 171, 161],\n",
      "        [180, 171, 161],\n",
      "        ...,\n",
      "        [161, 152, 142],\n",
      "        [163, 154, 144],\n",
      "        [161, 152, 142]],\n",
      "\n",
      "       [[180, 171, 161],\n",
      "        [180, 171, 161],\n",
      "        [180, 171, 161],\n",
      "        ...,\n",
      "        [163, 154, 144],\n",
      "        [165, 156, 146],\n",
      "        [165, 156, 146]],\n",
      "\n",
      "       [[180, 171, 161],\n",
      "        [180, 171, 161],\n",
      "        [180, 171, 161],\n",
      "        ...,\n",
      "        [167, 158, 148],\n",
      "        [169, 160, 150],\n",
      "        [169, 160, 150]]], dtype=uint8)\n",
      "orig_shape: (480, 873)\n",
      "path: 'D:\\\\ai\\\\source\\\\09_이미지처리\\\\data\\\\mission_impossible_yolo.jpg'\n",
      "probs: None\n",
      "save_dir: 'runs\\\\detect\\\\predict'\n",
      "speed: {'preprocess': 0.0, 'inference': 66.66302680969238, 'postprocess': 0.0}]\n"
     ]
    }
   ],
   "source": [
    "result = model.predict('data/mission_impossible_yolo.jpg')\n",
    "print(result)"
   ]
  },
  {
   "cell_type": "markdown",
   "id": "25269576",
   "metadata": {},
   "source": [
    "# 3. 결과 시각화"
   ]
  },
  {
   "cell_type": "code",
   "execution_count": 4,
   "id": "4f78cc21",
   "metadata": {
    "ExecuteTime": {
     "end_time": "2024-12-27T03:58:13.870100Z",
     "start_time": "2024-12-27T03:58:13.860133Z"
    }
   },
   "outputs": [],
   "source": [
    "result_image = result[0].plot() # BGR Format"
   ]
  },
  {
   "cell_type": "code",
   "execution_count": 5,
   "id": "16097a14",
   "metadata": {
    "ExecuteTime": {
     "end_time": "2024-12-27T03:58:15.169969Z",
     "start_time": "2024-12-27T03:58:15.127251Z"
    }
   },
   "outputs": [
    {
     "data": {
      "text/plain": [
       "True"
      ]
     },
     "execution_count": 5,
     "metadata": {},
     "output_type": "execute_result"
    }
   ],
   "source": [
    "cv2.imwrite('data/mission_impossible_yoloresult.jpg', result_image)"
   ]
  },
  {
   "cell_type": "code",
   "execution_count": null,
   "id": "761d8a4e",
   "metadata": {
    "ExecuteTime": {
     "start_time": "2024-12-27T03:58:15.897Z"
    }
   },
   "outputs": [],
   "source": [
    "plt.imshow(cv2.cvtColor(result_image, cv2.COLOR_BGR2RGB))\n",
    "plt.show()"
   ]
  },
  {
   "cell_type": "code",
   "execution_count": null,
   "id": "3e9471b8",
   "metadata": {},
   "outputs": [],
   "source": []
  },
  {
   "cell_type": "code",
   "execution_count": null,
   "id": "e8c2d8b3",
   "metadata": {},
   "outputs": [],
   "source": []
  },
  {
   "cell_type": "code",
   "execution_count": null,
   "id": "fe7461a5",
   "metadata": {},
   "outputs": [],
   "source": []
  },
  {
   "cell_type": "code",
   "execution_count": null,
   "id": "2e20db41",
   "metadata": {},
   "outputs": [],
   "source": []
  },
  {
   "cell_type": "code",
   "execution_count": null,
   "id": "7d3c412b",
   "metadata": {},
   "outputs": [],
   "source": []
  },
  {
   "cell_type": "code",
   "execution_count": null,
   "id": "8dba35b0",
   "metadata": {},
   "outputs": [],
   "source": []
  },
  {
   "cell_type": "code",
   "execution_count": null,
   "id": "5e1c5c5b",
   "metadata": {},
   "outputs": [],
   "source": []
  },
  {
   "cell_type": "code",
   "execution_count": null,
   "id": "b5c255dc",
   "metadata": {},
   "outputs": [],
   "source": []
  },
  {
   "cell_type": "code",
   "execution_count": null,
   "id": "451fbc4b",
   "metadata": {},
   "outputs": [],
   "source": []
  },
  {
   "cell_type": "code",
   "execution_count": null,
   "id": "81ad75fa",
   "metadata": {},
   "outputs": [],
   "source": []
  }
 ],
 "metadata": {
  "kernelspec": {
   "display_name": "Python 3 (ipykernel)",
   "language": "python",
   "name": "python3"
  },
  "language_info": {
   "codemirror_mode": {
    "name": "ipython",
    "version": 3
   },
   "file_extension": ".py",
   "mimetype": "text/x-python",
   "name": "python",
   "nbconvert_exporter": "python",
   "pygments_lexer": "ipython3",
   "version": "3.10.9"
  },
  "toc": {
   "base_numbering": 1,
   "nav_menu": {},
   "number_sections": true,
   "sideBar": true,
   "skip_h1_title": false,
   "title_cell": "Table of Contents",
   "title_sidebar": "Contents",
   "toc_cell": false,
   "toc_position": {
    "height": "calc(100% - 180px)",
    "left": "10px",
    "top": "150px",
    "width": "277.326px"
   },
   "toc_section_display": true,
   "toc_window_display": true
  }
 },
 "nbformat": 4,
 "nbformat_minor": 5
}
