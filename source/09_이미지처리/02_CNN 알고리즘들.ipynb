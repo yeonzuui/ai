{
 "cells": [
  {
   "cell_type": "markdown",
   "id": "d627b54c",
   "metadata": {},
   "source": [
    "# 1. LeNet: 최초의 CNN\n",
    "```\n",
    "<img src= 'image/LeNet.png' alt='LeNet'>\n",
    "```\n",
    "![설명](image/LeNet.png)\n",
    "FC(120): 120개 출력층의 뉴런을 가진 Fully Collected Layer"
   ]
  },
  {
   "cell_type": "code",
   "execution_count": 1,
   "id": "fd7a665f",
   "metadata": {
    "ExecuteTime": {
     "end_time": "2024-12-23T04:54:13.624313Z",
     "start_time": "2024-12-23T04:54:07.673470Z"
    }
   },
   "outputs": [],
   "source": [
    "from tensorflow.keras import Sequential\n",
    "from tensorflow.keras.layers import Input, Conv2D, AvgPool2D, Flatten, Dense\n",
    "                                                   # AveragePooling2D 동일\n",
    "from tensorflow.keras.callbacks import EarlyStopping, Callback\n",
    "import pandas as pd # crosstab\n",
    "from sklearn.metrics import confusion_matrix\n",
    "import numpy as np\n",
    "import matplotlib.pyplot as plt"
   ]
  },
  {
   "cell_type": "code",
   "execution_count": 16,
   "id": "8d2928a0",
   "metadata": {
    "ExecuteTime": {
     "end_time": "2024-12-23T02:57:34.211825Z",
     "start_time": "2024-12-23T02:57:34.204828Z"
    }
   },
   "outputs": [],
   "source": [
    "class CustomHistory(Callback): # on_epoch_end()는 각 epoch 종료시 자동 호출\n",
    "    def __init__(self, times = 5): # 생성자 함수\n",
    "        self.epoch = 0\n",
    "        self.times = times\n",
    "    def on_epoch_end(self, batch, logs = {}):\n",
    "        self.epoch += 1\n",
    "        if self.epoch % self.times == 0:\n",
    "            print('epoch:{},\\n loss:{},\\n acc:{},\\n val_loss:{},\\n val_acc:{}'.\\\n",
    "                  format(self.epoch,\n",
    "                         logs.get('loss'),\n",
    "                         logs.get('accuracy'),\n",
    "                         logs.get('val_loss'),\n",
    "                         logs.get('val_accuracy'),))"
   ]
  },
  {
   "cell_type": "code",
   "execution_count": 17,
   "id": "71becc88",
   "metadata": {
    "ExecuteTime": {
     "end_time": "2024-12-23T02:57:36.084651Z",
     "start_time": "2024-12-23T02:57:36.075797Z"
    }
   },
   "outputs": [],
   "source": [
    "# 출력사이즈 = (입력사이즈 - 커널사이즈)/stride + 1\n",
    "class LeNet:\n",
    "    @staticmethod\n",
    "    def build(input_shape = (32, 32, 1), activation = 'relu'):\n",
    "        model = Sequential()\n",
    "        model.add(Input(shape = input_shape))\n",
    "        model.add(Conv2D(6, # kernel 수\n",
    "                         kernel_size = (5, 5),\n",
    "                         activation = activation,\n",
    "                         kernel_initializer = 'he_normal', # he 초기화(가중치 초기화)\n",
    "                         padding = 'valid',\n",
    "                        )) # C1층\n",
    "        model.add(AvgPool2D(pool_size = (2, 2),\n",
    "                            strides = 2, # stride size는 기본적으로 pool_size\n",
    "                            # strides = (2, 2),\n",
    "                           )) # P2층\n",
    "        model.add(Conv2D(16,\n",
    "                         kernel_size = (5, 5),\n",
    "                         activation = activation,\n",
    "                         kernel_initializer = 'he_normal',\n",
    "                        )) # C3층\n",
    "        model.add(AvgPool2D(pool_size = (2, 2),\n",
    "                            strides = 2\n",
    "                           )) # P4층\n",
    "        model.add(Flatten())\n",
    "        model.add(Dense(120, \n",
    "                        activation = 'relu',\n",
    "                        kernel_initializer = 'he_normal'\n",
    "                       )) # F5층\n",
    "        model.add(Dense(84, \n",
    "                        activation = 'relu',\n",
    "                        kernel_initializer = 'he_normal'\n",
    "                       )) # F6층\n",
    "        model.add(Dense(10,\n",
    "                        activation = 'softmax'\n",
    "                       )) # 출력층\n",
    "        return model"
   ]
  },
  {
   "cell_type": "code",
   "execution_count": 18,
   "id": "9d364d18",
   "metadata": {
    "ExecuteTime": {
     "end_time": "2024-12-23T02:57:43.205071Z",
     "start_time": "2024-12-23T02:57:43.197202Z"
    }
   },
   "outputs": [],
   "source": [
    "class LeNet:\n",
    "    @staticmethod\n",
    "    def build(input_shape = (32, 32, 1), activation = 'relu'):\n",
    "        model = Sequential([\n",
    "            Input(shape = input_shape),\n",
    "            Conv2D(6, # output 6\n",
    "                   kernel_size = (5, 5), # 5 x 5 x 6 + 6 = 156\n",
    "                   activation = activation,\n",
    "                   kernel_initializer = 'he_normal',),\n",
    "            AvgPool2D(pool_size = (2, 2), strides = 2), # 12 - 5 + 1 = 8\n",
    "            Conv2D(16, \n",
    "                   kernel_size = (5, 5), # 16 * 16 * 5 * 6(장)  + 16 = 2,416\n",
    "                   activation = activation,\n",
    "                   kernel_initializer = 'he_normal',),\n",
    "            AvgPool2D(pool_size = (2, 2), strides = 2),\n",
    "            Flatten(),\n",
    "            Dense(120, activation = 'relu', # 256 * 120 + 120 \n",
    "                  kernel_initializer = 'he_normal'),\n",
    "            Dense(84, activation = 'relu', # 120 * 84 + 84\n",
    "                  kernel_initializer = 'he_normal'),  # 84 * 10 + 10\n",
    "            Dense(10, activation = 'softmax') # 출력층\n",
    "        ])\n",
    "        return model"
   ]
  },
  {
   "cell_type": "code",
   "execution_count": 20,
   "id": "ff797ddc",
   "metadata": {
    "ExecuteTime": {
     "end_time": "2024-12-23T02:57:47.484700Z",
     "start_time": "2024-12-23T02:57:47.371821Z"
    }
   },
   "outputs": [
    {
     "name": "stdout",
     "output_type": "stream",
     "text": [
      "Model: \"sequential_3\"\n",
      "_________________________________________________________________\n",
      " Layer (type)                Output Shape              Param #   \n",
      "=================================================================\n",
      " conv2d_6 (Conv2D)           (None, 24, 24, 6)         156       \n",
      "                                                                 \n",
      " average_pooling2d_6 (Averag  (None, 12, 12, 6)        0         \n",
      " ePooling2D)                                                     \n",
      "                                                                 \n",
      " conv2d_7 (Conv2D)           (None, 8, 8, 16)          2416      \n",
      "                                                                 \n",
      " average_pooling2d_7 (Averag  (None, 4, 4, 16)         0         \n",
      " ePooling2D)                                                     \n",
      "                                                                 \n",
      " flatten_3 (Flatten)         (None, 256)               0         \n",
      "                                                                 \n",
      " dense_9 (Dense)             (None, 120)               30840     \n",
      "                                                                 \n",
      " dense_10 (Dense)            (None, 84)                10164     \n",
      "                                                                 \n",
      " dense_11 (Dense)            (None, 10)                850       \n",
      "                                                                 \n",
      "=================================================================\n",
      "Total params: 44,426\n",
      "Trainable params: 44,426\n",
      "Non-trainable params: 0\n",
      "_________________________________________________________________\n",
      "None\n"
     ]
    }
   ],
   "source": [
    "model = LeNet.build(input_shape = (28, 28, 1), activation = 'relu')\n",
    "print(model.summary())"
   ]
  },
  {
   "cell_type": "code",
   "execution_count": 21,
   "id": "aca6d56b",
   "metadata": {
    "ExecuteTime": {
     "end_time": "2024-12-23T02:57:50.434887Z",
     "start_time": "2024-12-23T02:57:49.806083Z"
    }
   },
   "outputs": [
    {
     "name": "stdout",
     "output_type": "stream",
     "text": [
      "(60000, 28, 28) (60000,) (10000, 28, 28) (10000,)\n",
      "(60000, 28, 28, 1) (60000,) (10000, 28, 28, 1) (10000,)\n"
     ]
    }
   ],
   "source": [
    "# 1. Dataset \n",
    "from tensorflow.keras.datasets import mnist\n",
    "(X_train, y_train), (X_test, y_test) = mnist.load_data()\n",
    "print(X_train.shape, y_train.shape, X_test.shape, y_test.shape)\n",
    "# 독립변수 scale 조정, float형 변환\n",
    "X_train = X_train.reshape(-1, 28, 28, 1)/255.0\n",
    "X_test = X_test.reshape(-1, 28, 28, 1)/255.0\n",
    "print(X_train.shape, y_train.shape, X_test.shape, y_test.shape)"
   ]
  },
  {
   "cell_type": "code",
   "execution_count": 22,
   "id": "989c6340",
   "metadata": {
    "ExecuteTime": {
     "end_time": "2024-12-23T03:01:00.847276Z",
     "start_time": "2024-12-23T02:57:51.156720Z"
    }
   },
   "outputs": [
    {
     "name": "stdout",
     "output_type": "stream",
     "text": [
      "epoch:3,\n",
      " loss:0.05658550560474396,\n",
      " acc:0.9823750257492065,\n",
      " val_loss:0.0626210942864418,\n",
      " val_acc:0.9819999933242798\n",
      "epoch:6,\n",
      " loss:0.030535414814949036,\n",
      " acc:0.9900208115577698,\n",
      " val_loss:0.06052177771925926,\n",
      " val_acc:0.9823333621025085\n",
      "epoch:9,\n",
      " loss:0.02168995700776577,\n",
      " acc:0.9926666617393494,\n",
      " val_loss:0.045728929340839386,\n",
      " val_acc:0.9887499809265137\n",
      "epoch:12,\n",
      " loss:0.012743296101689339,\n",
      " acc:0.9958750009536743,\n",
      " val_loss:0.05222925916314125,\n",
      " val_acc:0.987583339214325\n",
      "epoch:15,\n",
      " loss:0.01145236101001501,\n",
      " acc:0.9961041808128357,\n",
      " val_loss:0.0432463064789772,\n",
      " val_acc:0.9889166951179504\n",
      "epoch:18,\n",
      " loss:0.008562774397432804,\n",
      " acc:0.9972708225250244,\n",
      " val_loss:0.05322173982858658,\n",
      " val_acc:0.9886666536331177\n",
      "epoch:21,\n",
      " loss:0.006926627364009619,\n",
      " acc:0.9976666569709778,\n",
      " val_loss:0.062031615525484085,\n",
      " val_acc:0.9894166588783264\n",
      "epoch:24,\n",
      " loss:0.005392763763666153,\n",
      " acc:0.9983333349227905,\n",
      " val_loss:0.07535279542207718,\n",
      " val_acc:0.9870833158493042\n"
     ]
    }
   ],
   "source": [
    "# 2. Model 생성\n",
    "model = LeNet.build(input_shape = (28, 28, 1))\n",
    "\n",
    "# 3. Training Process Setting\n",
    "model.compile(loss = 'sparse_categorical_crossentropy', # One-Hot Encoding 안 하고 분류분석\n",
    "              optimizer = 'adam',\n",
    "              metrics = ['accuracy']\n",
    "             )\n",
    "\n",
    "# 4. Training\n",
    "customHistory = CustomHistory(3)\n",
    "earlystopping = EarlyStopping(patience = 10)\n",
    "hist = model.fit(X_train, y_train,\n",
    "                 validation_split = .2,\n",
    "                 epochs = 50,\n",
    "                 callbacks = [customHistory, earlystopping],\n",
    "                 verbose = 0)"
   ]
  },
  {
   "cell_type": "code",
   "execution_count": 24,
   "id": "7f44edff",
   "metadata": {
    "ExecuteTime": {
     "end_time": "2024-12-23T03:02:13.418754Z",
     "start_time": "2024-12-23T03:02:12.792603Z"
    }
   },
   "outputs": [
    {
     "data": {
      "image/png": "[encoded data removed]",
      "text/plain": [
       "<Figure size 1000x500 with 2 Axes>"
      ]
     },
     "metadata": {},
     "output_type": "display_data"
    }
   ],
   "source": [
    "# 학습과정 표시하기\n",
    "fig, loss_ax = plt.subplots(figsize = (10, 5))\n",
    "loss_ax.plot(hist.history['loss'], \n",
    "             'r', \n",
    "             label = 'train loss')\n",
    "loss_ax.plot(hist.history['val_loss'], \n",
    "             'y', \n",
    "             label = 'validation loss')\n",
    "loss_ax.set_xlabel('epoch')\n",
    "loss_ax.set_ylabel('loss')\n",
    "\n",
    "acc_ax = loss_ax.twinx()\n",
    "acc_ax.plot(hist.history['accuracy'], \n",
    "            'b', \n",
    "            label = 'train accuracy')\n",
    "acc_ax.plot(hist.history['val_accuracy'], \n",
    "            'g', \n",
    "            label = 'validation accuracy')\n",
    "acc_ax.set_ylabel('accuracy')\n",
    "\n",
    "loss_ax.legend(loc = 'center right')\n",
    "acc_ax.legend(bbox_to_anchor = (0.999, 0.7))\n",
    "plt.show()"
   ]
  },
  {
   "cell_type": "code",
   "execution_count": 25,
   "id": "415cf220",
   "metadata": {
    "ExecuteTime": {
     "end_time": "2024-12-23T03:02:18.484894Z",
     "start_time": "2024-12-23T03:02:16.612238Z"
    }
   },
   "outputs": [
    {
     "name": "stdout",
     "output_type": "stream",
     "text": [
      "313/313 [==============================] - 2s 5ms/step - loss: 0.0448 - accuracy: 0.9904\n",
      "accuracy: 99.04%\n"
     ]
    }
   ],
   "source": [
    "loss, accuracy = model.evaluate(X_test, y_test)\n",
    "print(\"accuracy: {:.2f}%\".format(accuracy*100))"
   ]
  },
  {
   "cell_type": "code",
   "execution_count": 35,
   "id": "75e6c9b4",
   "metadata": {
    "ExecuteTime": {
     "end_time": "2024-12-23T03:06:43.653038Z",
     "start_time": "2024-12-23T03:06:42.475879Z"
    }
   },
   "outputs": [
    {
     "name": "stdout",
     "output_type": "stream",
     "text": [
      "313/313 [==============================] - 1s 3ms/step\n"
     ]
    },
    {
     "data": {
      "text/html": [
       "<div>\n",
       "<style scoped>\n",
       "    .dataframe tbody tr th:only-of-type {\n",
       "        vertical-align: middle;\n",
       "    }\n",
       "\n",
       "    .dataframe tbody tr th {\n",
       "        vertical-align: top;\n",
       "    }\n",
       "\n",
       "    .dataframe thead th {\n",
       "        text-align: right;\n",
       "    }\n",
       "</style>\n",
       "<table border=\"1\" class=\"dataframe\">\n",
       "  <thead>\n",
       "    <tr style=\"text-align: right;\">\n",
       "      <th>col_0</th>\n",
       "      <th>0</th>\n",
       "      <th>1</th>\n",
       "      <th>2</th>\n",
       "      <th>3</th>\n",
       "      <th>4</th>\n",
       "      <th>5</th>\n",
       "      <th>6</th>\n",
       "      <th>7</th>\n",
       "      <th>8</th>\n",
       "      <th>9</th>\n",
       "    </tr>\n",
       "    <tr>\n",
       "      <th>row_0</th>\n",
       "      <th></th>\n",
       "      <th></th>\n",
       "      <th></th>\n",
       "      <th></th>\n",
       "      <th></th>\n",
       "      <th></th>\n",
       "      <th></th>\n",
       "      <th></th>\n",
       "      <th></th>\n",
       "      <th></th>\n",
       "    </tr>\n",
       "  </thead>\n",
       "  <tbody>\n",
       "    <tr>\n",
       "      <th>0</th>\n",
       "      <td>975</td>\n",
       "      <td>0</td>\n",
       "      <td>0</td>\n",
       "      <td>0</td>\n",
       "      <td>0</td>\n",
       "      <td>0</td>\n",
       "      <td>2</td>\n",
       "      <td>1</td>\n",
       "      <td>2</td>\n",
       "      <td>0</td>\n",
       "    </tr>\n",
       "    <tr>\n",
       "      <th>1</th>\n",
       "      <td>0</td>\n",
       "      <td>1127</td>\n",
       "      <td>0</td>\n",
       "      <td>3</td>\n",
       "      <td>0</td>\n",
       "      <td>0</td>\n",
       "      <td>1</td>\n",
       "      <td>3</td>\n",
       "      <td>1</td>\n",
       "      <td>0</td>\n",
       "    </tr>\n",
       "    <tr>\n",
       "      <th>2</th>\n",
       "      <td>2</td>\n",
       "      <td>0</td>\n",
       "      <td>1023</td>\n",
       "      <td>0</td>\n",
       "      <td>0</td>\n",
       "      <td>0</td>\n",
       "      <td>0</td>\n",
       "      <td>5</td>\n",
       "      <td>2</td>\n",
       "      <td>0</td>\n",
       "    </tr>\n",
       "    <tr>\n",
       "      <th>3</th>\n",
       "      <td>0</td>\n",
       "      <td>1</td>\n",
       "      <td>1</td>\n",
       "      <td>999</td>\n",
       "      <td>0</td>\n",
       "      <td>5</td>\n",
       "      <td>0</td>\n",
       "      <td>2</td>\n",
       "      <td>1</td>\n",
       "      <td>1</td>\n",
       "    </tr>\n",
       "    <tr>\n",
       "      <th>4</th>\n",
       "      <td>0</td>\n",
       "      <td>0</td>\n",
       "      <td>1</td>\n",
       "      <td>0</td>\n",
       "      <td>974</td>\n",
       "      <td>0</td>\n",
       "      <td>1</td>\n",
       "      <td>1</td>\n",
       "      <td>0</td>\n",
       "      <td>5</td>\n",
       "    </tr>\n",
       "    <tr>\n",
       "      <th>5</th>\n",
       "      <td>1</td>\n",
       "      <td>0</td>\n",
       "      <td>0</td>\n",
       "      <td>5</td>\n",
       "      <td>0</td>\n",
       "      <td>885</td>\n",
       "      <td>1</td>\n",
       "      <td>0</td>\n",
       "      <td>0</td>\n",
       "      <td>0</td>\n",
       "    </tr>\n",
       "    <tr>\n",
       "      <th>6</th>\n",
       "      <td>3</td>\n",
       "      <td>1</td>\n",
       "      <td>0</td>\n",
       "      <td>1</td>\n",
       "      <td>2</td>\n",
       "      <td>3</td>\n",
       "      <td>947</td>\n",
       "      <td>0</td>\n",
       "      <td>1</td>\n",
       "      <td>0</td>\n",
       "    </tr>\n",
       "    <tr>\n",
       "      <th>7</th>\n",
       "      <td>1</td>\n",
       "      <td>0</td>\n",
       "      <td>6</td>\n",
       "      <td>0</td>\n",
       "      <td>0</td>\n",
       "      <td>0</td>\n",
       "      <td>0</td>\n",
       "      <td>1021</td>\n",
       "      <td>0</td>\n",
       "      <td>0</td>\n",
       "    </tr>\n",
       "    <tr>\n",
       "      <th>8</th>\n",
       "      <td>2</td>\n",
       "      <td>0</td>\n",
       "      <td>3</td>\n",
       "      <td>1</td>\n",
       "      <td>0</td>\n",
       "      <td>2</td>\n",
       "      <td>1</td>\n",
       "      <td>0</td>\n",
       "      <td>964</td>\n",
       "      <td>1</td>\n",
       "    </tr>\n",
       "    <tr>\n",
       "      <th>9</th>\n",
       "      <td>1</td>\n",
       "      <td>0</td>\n",
       "      <td>1</td>\n",
       "      <td>3</td>\n",
       "      <td>3</td>\n",
       "      <td>8</td>\n",
       "      <td>0</td>\n",
       "      <td>4</td>\n",
       "      <td>0</td>\n",
       "      <td>989</td>\n",
       "    </tr>\n",
       "  </tbody>\n",
       "</table>\n",
       "</div>"
      ],
      "text/plain": [
       "col_0    0     1     2    3    4    5    6     7    8    9\n",
       "row_0                                                     \n",
       "0      975     0     0    0    0    0    2     1    2    0\n",
       "1        0  1127     0    3    0    0    1     3    1    0\n",
       "2        2     0  1023    0    0    0    0     5    2    0\n",
       "3        0     1     1  999    0    5    0     2    1    1\n",
       "4        0     0     1    0  974    0    1     1    0    5\n",
       "5        1     0     0    5    0  885    1     0    0    0\n",
       "6        3     1     0    1    2    3  947     0    1    0\n",
       "7        1     0     6    0    0    0    0  1021    0    0\n",
       "8        2     0     3    1    0    2    1     0  964    1\n",
       "9        1     0     1    3    3    8    0     4    0  989"
      ]
     },
     "metadata": {},
     "output_type": "display_data"
    },
    {
     "name": "stdout",
     "output_type": "stream",
     "text": [
      "예측 실패한 데이터: 96(개)\n"
     ]
    }
   ],
   "source": [
    "# 예측치와 실제값을 이용한 crosstab\n",
    "yhat = np.argmax(model.predict(X_test), axis = 1)\n",
    "display(pd.crosstab(y_test, yhat)) # 결과가 DataFrame\n",
    "# print(confusion_matrix(y_test, yhat)) # 결과가 Numpy Array\n",
    "cnt = 0\n",
    "for y, h in zip(y_test, yhat):\n",
    "    if y != h:\n",
    "        cnt += 1\n",
    "print('예측 실패한 데이터: {}(개)'.format(cnt))"
   ]
  },
  {
   "cell_type": "code",
   "execution_count": 37,
   "id": "c868a0ac",
   "metadata": {
    "ExecuteTime": {
     "end_time": "2024-12-23T03:08:59.011141Z",
     "start_time": "2024-12-23T03:08:55.973245Z"
    }
   },
   "outputs": [
    {
     "name": "stdout",
     "output_type": "stream",
     "text": [
      "i = 3763\n",
      "cnt = 50\n"
     ]
    },
    {
     "data": {
      "image/png": "[encoded data removed]",
      "text/plain": [
       "<Figure size 1000x500 with 50 Axes>"
      ]
     },
     "metadata": {},
     "output_type": "display_data"
    }
   ],
   "source": [
    "# 실제값(y_test) ≠ 예측값(yhat)\n",
    "# 모델 학습 후 틀린 데이터 출력용(X_test, y_test)\n",
    "plt_row = 5\n",
    "plt_col = 10\n",
    "\n",
    "plt.rcParams['figure.figsize'] = (plt_col, plt_row)\n",
    "plt.rc('font', family = 'Malgun Gothic') # 윈도우즈 os\n",
    "\n",
    "fig, axarr = plt.subplots(nrows = plt_row,\n",
    "                          ncols = plt_col,)\n",
    "# 세로/가로 간격(기본값 0, 커질수록 간격 넓어진다)\n",
    "plt.subplots_adjust(hspace = .9, \n",
    "                    wspace = .3)\n",
    "\n",
    "i = 0   # yhat과 y_test를 access할 index\n",
    "cnt = 0 # 예측 실패 횟수\n",
    "while(cnt < plt_row * plt_col) & (i < len(y_test)):\n",
    "    # 예측 실패한 경우만 imshow(X_test[i]), \n",
    "    # 실제값(y_test)과 예측치(yhat)를 title에 출력\n",
    "    if yhat[i] == y_test[i]:\n",
    "        i += 1\n",
    "        continue\n",
    "    # 예측 실패한 경우\n",
    "    sub_plot = axarr[cnt//plt_col, cnt%plt_col]\n",
    "    sub_plot.imshow(X_test[i].reshape(28, 28))\n",
    "    title = 'R: {}, P: {}'.format(y_test[i], yhat[i])\n",
    "    sub_plot.set_title(title)\n",
    "    sub_plot.axis('off')\n",
    "    i += 1\n",
    "    cnt += 1\n",
    "print('i =', i)\n",
    "print('cnt =', cnt)"
   ]
  },
  {
   "cell_type": "markdown",
   "id": "ef69738d",
   "metadata": {},
   "source": [
    "# 2. AlexNet\n",
    "- GPU를 사용하여 실현 가능한 모델. \n",
    "- 알렉스와 제프리힌튼이 공동 설계한 CNN 아키텍처 이름\n",
    "![설명](image/AlexNet.png)\n",
    "- Convolution, Pooling 한 다음에 BatchNormalization 배치 정규화\n",
    "- cifar10 라이브러리 이용"
   ]
  },
  {
   "cell_type": "code",
   "execution_count": 38,
   "id": "91e45d99",
   "metadata": {
    "ExecuteTime": {
     "end_time": "2024-12-23T06:01:41.968935Z",
     "start_time": "2024-12-23T06:01:41.960983Z"
    }
   },
   "outputs": [
    {
     "name": "stdout",
     "output_type": "stream",
     "text": [
      "2.10.0\n"
     ]
    },
    {
     "data": {
      "text/plain": [
       "[PhysicalDevice(name='/physical_device:GPU:0', device_type='GPU')]"
      ]
     },
     "execution_count": 38,
     "metadata": {},
     "output_type": "execute_result"
    }
   ],
   "source": [
    "import tensorflow as tf\n",
    "print(tf.__version__)\n",
    "tf.config.list_physical_devices('GPU')"
   ]
  },
  {
   "cell_type": "code",
   "execution_count": 43,
   "id": "5e84939f",
   "metadata": {
    "ExecuteTime": {
     "end_time": "2024-12-23T06:27:53.492727Z",
     "start_time": "2024-12-23T06:27:53.477900Z"
    }
   },
   "outputs": [],
   "source": [
    "from tensorflow.keras import Sequential\n",
    "from tensorflow.keras.layers import Input, Conv2D, MaxPooling2D\n",
    "from tensorflow.keras.layers import Flatten, Dense, Dropout\n",
    "from tensorflow.keras.layers import BatchNormalization # 배치정규화\n",
    "import matplotlib.pyplot as plt\n",
    "import pandas as pd\n",
    "import numpy as np"
   ]
  },
  {
   "cell_type": "code",
   "execution_count": 19,
   "id": "0a6464d1",
   "metadata": {
    "ExecuteTime": {
     "end_time": "2024-12-23T05:22:53.259053Z",
     "start_time": "2024-12-23T05:22:53.250407Z"
    }
   },
   "outputs": [],
   "source": [
    "# 출력사이즈 = (입력사이즈 - 커널사이즈)/stride + 1\n",
    "class AlexNet:\n",
    "    @staticmethod\n",
    "    def build(input_shape = (224, 224, 3), activation = 'relu', class_num = 1000):\n",
    "        model = Sequential([\n",
    "            Input(shape = input_shape),\n",
    "            Conv2D(96, # kernel 수\n",
    "                   kernel_size = (11, 11), \n",
    "                   strides = (4, 4),\n",
    "                   activation = activation,\n",
    "                   padding = 'same',),\n",
    "            MaxPooling2D(pool_size = (3, 3),\n",
    "                         strides = 2),\n",
    "            BatchNormalization(), # 배치 정규화\n",
    "            \n",
    "            Conv2D(256, \n",
    "                   kernel_size = (5, 5),\n",
    "                   activation = activation,\n",
    "                   padding = 'same',),\n",
    "            MaxPooling2D(pool_size = (3, 3),\n",
    "                         strides = 2),\n",
    "            BatchNormalization(),\n",
    "            \n",
    "            Conv2D(384, \n",
    "                   kernel_size = (3, 3),\n",
    "                   activation = activation,\n",
    "                   padding = 'same'),\n",
    "            Conv2D(384, \n",
    "                   kernel_size = (3, 3),\n",
    "                   activation = activation,\n",
    "                   padding = 'same'),\n",
    "            Conv2D(256, \n",
    "                   kernel_size = (3, 3),\n",
    "                   activation = activation,\n",
    "                   padding = 'same'),\n",
    "            # AlexNet은 224 x 224 이미지에 맞춰서 3 x 3 pooling이 되나,\n",
    "            # cifar 32 x 32 이미지에서는 생략\n",
    "            # MaxPooling2D(pool_size = (3, 3),\n",
    "            #             strides = 2),\n",
    "            Flatten(),\n",
    "            Dense(units = 4096, activation = activation),\n",
    "            Dropout(.5),\n",
    "            Dense(units = 4096, activation = activation),\n",
    "            Dropout(.5),\n",
    "            Dense(units = class_num, activation = 'softmax')\n",
    "        ])  \n",
    "        return model"
   ]
  },
  {
   "cell_type": "code",
   "execution_count": 20,
   "id": "c1c213ef",
   "metadata": {
    "ExecuteTime": {
     "end_time": "2024-12-23T05:23:34.948815Z",
     "start_time": "2024-12-23T05:23:34.721679Z"
    }
   },
   "outputs": [
    {
     "name": "stdout",
     "output_type": "stream",
     "text": [
      "Model: \"sequential_2\"\n",
      "_________________________________________________________________\n",
      " Layer (type)                Output Shape              Param #   \n",
      "=================================================================\n",
      " conv2d_10 (Conv2D)          (None, 8, 8, 96)          34944     \n",
      "                                                                 \n",
      " max_pooling2d_6 (MaxPooling  (None, 3, 3, 96)         0         \n",
      " 2D)                                                             \n",
      "                                                                 \n",
      " batch_normalization_4 (Batc  (None, 3, 3, 96)         384       \n",
      " hNormalization)                                                 \n",
      "                                                                 \n",
      " conv2d_11 (Conv2D)          (None, 3, 3, 256)         614656    \n",
      "                                                                 \n",
      " max_pooling2d_7 (MaxPooling  (None, 1, 1, 256)        0         \n",
      " 2D)                                                             \n",
      "                                                                 \n",
      " batch_normalization_5 (Batc  (None, 1, 1, 256)        1024      \n",
      " hNormalization)                                                 \n",
      "                                                                 \n",
      " conv2d_12 (Conv2D)          (None, 1, 1, 384)         885120    \n",
      "                                                                 \n",
      " conv2d_13 (Conv2D)          (None, 1, 1, 384)         1327488   \n",
      "                                                                 \n",
      " conv2d_14 (Conv2D)          (None, 1, 1, 256)         884992    \n",
      "                                                                 \n",
      " flatten_2 (Flatten)         (None, 256)               0         \n",
      "                                                                 \n",
      " dense_6 (Dense)             (None, 4096)              1052672   \n",
      "                                                                 \n",
      " dropout_4 (Dropout)         (None, 4096)              0         \n",
      "                                                                 \n",
      " dense_7 (Dense)             (None, 4096)              16781312  \n",
      "                                                                 \n",
      " dropout_5 (Dropout)         (None, 4096)              0         \n",
      "                                                                 \n",
      " dense_8 (Dense)             (None, 1000)              4097000   \n",
      "                                                                 \n",
      "=================================================================\n",
      "Total params: 25,679,592\n",
      "Trainable params: 25,678,888\n",
      "Non-trainable params: 704\n",
      "_________________________________________________________________\n"
     ]
    }
   ],
   "source": [
    "model = AlexNet.build(input_shape = (32, 32, 3))\n",
    "model.summary()"
   ]
  },
  {
   "cell_type": "code",
   "execution_count": 24,
   "id": "d349b67f",
   "metadata": {
    "ExecuteTime": {
     "end_time": "2024-12-23T05:29:13.396428Z",
     "start_time": "2024-12-23T05:29:12.514106Z"
    }
   },
   "outputs": [
    {
     "data": {
      "text/plain": [
       "((50000, 32, 32, 3), (50000, 1), (10000, 32, 32, 3), (10000, 1))"
      ]
     },
     "execution_count": 24,
     "metadata": {},
     "output_type": "execute_result"
    }
   ],
   "source": [
    "# 1. 데이터 (One-Hot Encoding X)\n",
    "from tensorflow.keras.datasets import cifar10\n",
    "(X_train, y_train), (X_test, y_test) = cifar10.load_data()\n",
    "X_train.shape, y_train.shape, X_test.shape, y_test.shape"
   ]
  },
  {
   "cell_type": "code",
   "execution_count": 26,
   "id": "020617fe",
   "metadata": {
    "ExecuteTime": {
     "end_time": "2024-12-23T05:31:22.878760Z",
     "start_time": "2024-12-23T05:31:22.833738Z"
    }
   },
   "outputs": [
    {
     "data": {
      "image/png": "[encoded data removed]",
      "text/plain": [
       "<Figure size 70x70 with 1 Axes>"
      ]
     },
     "metadata": {},
     "output_type": "display_data"
    },
    {
     "data": {
      "text/plain": [
       "array([6], dtype=uint8)"
      ]
     },
     "execution_count": 26,
     "metadata": {},
     "output_type": "execute_result"
    }
   ],
   "source": [
    "# airplane(0), automobile(1), bird(2), cat(3), deer(4), dog(5), frog(6), horse(7), ship(8), truck(9)\n",
    "plt.figure(figsize = (.7, .7))\n",
    "plt.imshow(X_train[0])\n",
    "plt.axis('off')\n",
    "plt.show()\n",
    "y_train[0]"
   ]
  },
  {
   "cell_type": "code",
   "execution_count": 28,
   "id": "4f04a181",
   "metadata": {
    "ExecuteTime": {
     "end_time": "2024-12-23T05:31:39.272300Z",
     "start_time": "2024-12-23T05:31:39.265359Z"
    }
   },
   "outputs": [
    {
     "data": {
      "text/plain": [
       "array([[[ 59,  62,  63],\n",
       "        [ 43,  46,  45],\n",
       "        [ 50,  48,  43],\n",
       "        ...,\n",
       "        [158, 132, 108],\n",
       "        [152, 125, 102],\n",
       "        [148, 124, 103]],\n",
       "\n",
       "       [[ 16,  20,  20],\n",
       "        [  0,   0,   0],\n",
       "        [ 18,   8,   0],\n",
       "        ...,\n",
       "        [123,  88,  55],\n",
       "        [119,  83,  50],\n",
       "        [122,  87,  57]],\n",
       "\n",
       "       [[ 25,  24,  21],\n",
       "        [ 16,   7,   0],\n",
       "        [ 49,  27,   8],\n",
       "        ...,\n",
       "        [118,  84,  50],\n",
       "        [120,  84,  50],\n",
       "        [109,  73,  42]],\n",
       "\n",
       "       ...,\n",
       "\n",
       "       [[208, 170,  96],\n",
       "        [201, 153,  34],\n",
       "        [198, 161,  26],\n",
       "        ...,\n",
       "        [160, 133,  70],\n",
       "        [ 56,  31,   7],\n",
       "        [ 53,  34,  20]],\n",
       "\n",
       "       [[180, 139,  96],\n",
       "        [173, 123,  42],\n",
       "        [186, 144,  30],\n",
       "        ...,\n",
       "        [184, 148,  94],\n",
       "        [ 97,  62,  34],\n",
       "        [ 83,  53,  34]],\n",
       "\n",
       "       [[177, 144, 116],\n",
       "        [168, 129,  94],\n",
       "        [179, 142,  87],\n",
       "        ...,\n",
       "        [216, 184, 140],\n",
       "        [151, 118,  84],\n",
       "        [123,  92,  72]]], dtype=uint8)"
      ]
     },
     "execution_count": 28,
     "metadata": {},
     "output_type": "execute_result"
    }
   ],
   "source": [
    "X_train[0]"
   ]
  },
  {
   "cell_type": "code",
   "execution_count": 30,
   "id": "660f9963",
   "metadata": {
    "ExecuteTime": {
     "end_time": "2024-12-23T05:35:02.485175Z",
     "start_time": "2024-12-23T05:35:01.617887Z"
    }
   },
   "outputs": [
    {
     "data": {
      "text/plain": [
       "((50000, 32, 32, 3), (50000, 1), (10000, 32, 32, 3), (10000, 1))"
      ]
     },
     "execution_count": 30,
     "metadata": {},
     "output_type": "execute_result"
    }
   ],
   "source": [
    "# scale 조정 및 float형 변환\n",
    "X_train = X_train/255.0\n",
    "X_test  = X_test /255.0\n",
    "X_train.shape, y_train.shape, X_test.shape, y_test.shape"
   ]
  },
  {
   "cell_type": "code",
   "execution_count": 36,
   "id": "8ea7c8d2",
   "metadata": {
    "ExecuteTime": {
     "end_time": "2024-12-23T05:45:29.651067Z",
     "start_time": "2024-12-23T05:45:29.521109Z"
    }
   },
   "outputs": [
    {
     "name": "stdout",
     "output_type": "stream",
     "text": [
      "Model: \"sequential_4\"\n",
      "_________________________________________________________________\n",
      " Layer (type)                Output Shape              Param #   \n",
      "=================================================================\n",
      " conv2d_19 (Conv2D)          (None, 8, 8, 96)          34944     \n",
      "                                                                 \n",
      " max_pooling2d_10 (MaxPoolin  (None, 3, 3, 96)         0         \n",
      " g2D)                                                            \n",
      "                                                                 \n",
      " batch_normalization_8 (Batc  (None, 3, 3, 96)         384       \n",
      " hNormalization)                                                 \n",
      "                                                                 \n",
      " conv2d_20 (Conv2D)          (None, 3, 3, 384)         332160    \n",
      "                                                                 \n",
      " conv2d_21 (Conv2D)          (None, 3, 3, 256)         884992    \n",
      "                                                                 \n",
      " flatten_4 (Flatten)         (None, 2304)              0         \n",
      "                                                                 \n",
      " dense_12 (Dense)            (None, 1024)              2360320   \n",
      "                                                                 \n",
      " dropout_8 (Dropout)         (None, 1024)              0         \n",
      "                                                                 \n",
      " dense_13 (Dense)            (None, 512)               524800    \n",
      "                                                                 \n",
      " dropout_9 (Dropout)         (None, 512)               0         \n",
      "                                                                 \n",
      " dense_14 (Dense)            (None, 10)                5130      \n",
      "                                                                 \n",
      "=================================================================\n",
      "Total params: 4,142,730\n",
      "Trainable params: 4,142,538\n",
      "Non-trainable params: 192\n",
      "_________________________________________________________________\n"
     ]
    }
   ],
   "source": [
    "# 2. Model 생성\n",
    "# model = AlexNet.build(input_shape = (32, 32, 3),\n",
    "#                      class_num = 10)\n",
    "# 학습시간 단축을 위해 아래의 Model 사용\n",
    "\n",
    "model = Sequential([\n",
    "    Input(shape = (32, 32, 3)), \n",
    "    Conv2D(96, # kernel 수\n",
    "           kernel_size = (11, 11), \n",
    "           strides = (4, 4),\n",
    "           activation = 'relu',\n",
    "           padding = 'same',), # 11 x 11 x 96 x 3(channel) + 96(output) = 34,944\n",
    "    MaxPooling2D(pool_size = (3, 3),\n",
    "                 strides = 2),\n",
    "    BatchNormalization(), # 배치 정규화\n",
    "\n",
    "    Conv2D(384, \n",
    "           kernel_size = (3, 3),\n",
    "           activation = 'relu',\n",
    "           padding = 'same'), # 96(input) x 3 x 3 x 384(output) + 384 = 332,160\n",
    "    Conv2D(256, \n",
    "           kernel_size = (3, 3),\n",
    "           activation = 'relu',\n",
    "           padding = 'same'), # 384(input) x 3 x 3 x 256(output) + 256 = 884,992\n",
    "    \n",
    "    Flatten(),25\n",
    "    Dense(units = 1024, activation = 'relu'),\n",
    "    Dropout(.4),\n",
    "    Dense(units = 512, activation = 'relu'),\n",
    "    Dropout(.3),3\n",
    "    Dense(units = 10, activation = 'softmax')\n",
    "])\n",
    "model.summary()"
   ]
  },
  {
   "cell_type": "code",
   "execution_count": 37,
   "id": "769cbca1",
   "metadata": {
    "ExecuteTime": {
     "end_time": "2024-12-23T05:58:44.761505Z",
     "start_time": "2024-12-23T05:53:25.810259Z"
    }
   },
   "outputs": [
    {
     "name": "stdout",
     "output_type": "stream",
     "text": [
      "Epoch 1/20\n",
      "1563/1563 [==============================] - 19s 10ms/step - loss: 1.5879 - accuracy: 0.4148 - val_loss: 1.8416 - val_accuracy: 0.3103\n",
      "Epoch 2/20\n",
      "1563/1563 [==============================] - 16s 10ms/step - loss: 1.2648 - accuracy: 0.5515 - val_loss: 1.3957 - val_accuracy: 0.5058\n",
      "Epoch 3/20\n",
      "1563/1563 [==============================] - 16s 10ms/step - loss: 1.1009 - accuracy: 0.6129 - val_loss: 1.2150 - val_accuracy: 0.5749\n",
      "Epoch 4/20\n",
      "1563/1563 [==============================] - 16s 10ms/step - loss: 0.9742 - accuracy: 0.6575 - val_loss: 1.2378 - val_accuracy: 0.5714\n",
      "Epoch 5/20\n",
      "1563/1563 [==============================] - 16s 10ms/step - loss: 0.8604 - accuracy: 0.7006 - val_loss: 1.1450 - val_accuracy: 0.6092\n",
      "Epoch 6/20\n",
      "1563/1563 [==============================] - 16s 10ms/step - loss: 0.7637 - accuracy: 0.7329 - val_loss: 1.5208 - val_accuracy: 0.5378\n",
      "Epoch 7/20\n",
      "1563/1563 [==============================] - 16s 10ms/step - loss: 0.6622 - accuracy: 0.7678 - val_loss: 1.2102 - val_accuracy: 0.6151\n",
      "Epoch 8/20\n",
      "1563/1563 [==============================] - 16s 10ms/step - loss: 0.5792 - accuracy: 0.7975 - val_loss: 1.1912 - val_accuracy: 0.6163\n",
      "Epoch 9/20\n",
      "1563/1563 [==============================] - 16s 10ms/step - loss: 0.5034 - accuracy: 0.8233 - val_loss: 2.1659 - val_accuracy: 0.4198\n",
      "Epoch 10/20\n",
      "1563/1563 [==============================] - 16s 10ms/step - loss: 0.4513 - accuracy: 0.8435 - val_loss: 1.4100 - val_accuracy: 0.5927\n",
      "Epoch 11/20\n",
      "1563/1563 [==============================] - 16s 10ms/step - loss: 0.3949 - accuracy: 0.8645 - val_loss: 1.9563 - val_accuracy: 0.5181\n",
      "Epoch 12/20\n",
      "1563/1563 [==============================] - 16s 10ms/step - loss: 0.3534 - accuracy: 0.8793 - val_loss: 1.6222 - val_accuracy: 0.5995\n",
      "Epoch 13/20\n",
      "1563/1563 [==============================] - 16s 10ms/step - loss: 0.3188 - accuracy: 0.8913 - val_loss: 1.9787 - val_accuracy: 0.5235\n",
      "Epoch 14/20\n",
      "1563/1563 [==============================] - 16s 10ms/step - loss: 0.2939 - accuracy: 0.8985 - val_loss: 2.4107 - val_accuracy: 0.4427\n",
      "Epoch 15/20\n",
      "1563/1563 [==============================] - 16s 10ms/step - loss: 0.2954 - accuracy: 0.8997 - val_loss: 2.2736 - val_accuracy: 0.4569\n",
      "Epoch 16/20\n",
      "1563/1563 [==============================] - 16s 10ms/step - loss: 0.2755 - accuracy: 0.9074 - val_loss: 2.4029 - val_accuracy: 0.5215\n",
      "Epoch 17/20\n",
      "1563/1563 [==============================] - 16s 10ms/step - loss: 0.2508 - accuracy: 0.9150 - val_loss: 2.4409 - val_accuracy: 0.4500\n",
      "Epoch 18/20\n",
      "1563/1563 [==============================] - 16s 10ms/step - loss: 0.2308 - accuracy: 0.9242 - val_loss: 2.4748 - val_accuracy: 0.4938\n",
      "Epoch 19/20\n",
      "1563/1563 [==============================] - 16s 10ms/step - loss: 0.2214 - accuracy: 0.9267 - val_loss: 2.1419 - val_accuracy: 0.5394\n",
      "Epoch 20/20\n",
      "1563/1563 [==============================] - 16s 10ms/step - loss: 0.2150 - accuracy: 0.9305 - val_loss: 2.5207 - val_accuracy: 0.5117\n"
     ]
    }
   ],
   "source": [
    "# 3. Training Process Setting\n",
    "model.compile(loss = 'sparse_categorical_crossentropy', # One-Hot Encoding 안 했을 경우\n",
    "              optimizer = 'adam',\n",
    "              metrics = ['accuracy']\n",
    "             )\n",
    "# 4. Training\n",
    "hist = model.fit(X_train, y_train,\n",
    "                 epochs = 20,\n",
    "                 validation_data = [X_test, y_test])"
   ]
  },
  {
   "cell_type": "code",
   "execution_count": 39,
   "id": "a2577ef5",
   "metadata": {
    "ExecuteTime": {
     "end_time": "2024-12-23T06:08:21.632345Z",
     "start_time": "2024-12-23T06:08:21.216190Z"
    }
   },
   "outputs": [
    {
     "data": {
      "image/png": "[encoded data removed]",
      "text/plain": [
       "<Figure size 1000x500 with 2 Axes>"
      ]
     },
     "metadata": {},
     "output_type": "display_data"
    }
   ],
   "source": [
    "# 5. Model 평가\n",
    "# 학습과정 살펴보기\n",
    "fig, loss_ax = plt.subplots(figsize = (10, 5))\n",
    "loss_ax.plot(hist.history['loss'], \n",
    "             'r', \n",
    "             label = 'train loss')\n",
    "loss_ax.plot(hist.history['val_loss'], \n",
    "             'y', \n",
    "             label = 'validation loss')\n",
    "loss_ax.set_xlabel('epoch')\n",
    "loss_ax.set_ylabel('loss')\n",
    "\n",
    "acc_ax = loss_ax.twinx()\n",
    "acc_ax.plot(hist.history['accuracy'], \n",
    "            'b', \n",
    "            label = 'train accuracy')\n",
    "acc_ax.plot(hist.history['val_accuracy'], \n",
    "            'g', \n",
    "            label = 'validation accuracy')\n",
    "acc_ax.set_ylabel('accuracy')\n",
    "\n",
    "loss_ax.legend(loc = 'center right')\n",
    "acc_ax.legend(bbox_to_anchor = (0.999, 0.7))\n",
    "plt.show()"
   ]
  },
  {
   "cell_type": "code",
   "execution_count": 40,
   "id": "20faa5a0",
   "metadata": {
    "ExecuteTime": {
     "end_time": "2024-12-23T06:08:28.249657Z",
     "start_time": "2024-12-23T06:08:26.209798Z"
    }
   },
   "outputs": [
    {
     "name": "stdout",
     "output_type": "stream",
     "text": [
      "313/313 [==============================] - 2s 5ms/step - loss: 2.5207 - accuracy: 0.5117\n",
      "loss: 2.5206568241119385\n",
      "accuracy: 0.5116999745368958\n"
     ]
    }
   ],
   "source": [
    "# evaluate\n",
    "loss, accuracy = model.evaluate(X_test, y_test)\n",
    "print('loss:', loss)\n",
    "print('accuracy:', accuracy)"
   ]
  },
  {
   "cell_type": "code",
   "execution_count": 49,
   "id": "c0616469",
   "metadata": {
    "ExecuteTime": {
     "end_time": "2024-12-23T06:31:20.438876Z",
     "start_time": "2024-12-23T06:31:18.921524Z"
    }
   },
   "outputs": [
    {
     "name": "stdout",
     "output_type": "stream",
     "text": [
      "313/313 [==============================] - 1s 3ms/step\n"
     ]
    },
    {
     "data": {
      "text/html": [
       "<div>\n",
       "<style scoped>\n",
       "    .dataframe tbody tr th:only-of-type {\n",
       "        vertical-align: middle;\n",
       "    }\n",
       "\n",
       "    .dataframe tbody tr th {\n",
       "        vertical-align: top;\n",
       "    }\n",
       "\n",
       "    .dataframe thead th {\n",
       "        text-align: right;\n",
       "    }\n",
       "</style>\n",
       "<table border=\"1\" class=\"dataframe\">\n",
       "  <thead>\n",
       "    <tr style=\"text-align: right;\">\n",
       "      <th>predict</th>\n",
       "      <th>airplane(0)</th>\n",
       "      <th>automobile(1)</th>\n",
       "      <th>bird(2)</th>\n",
       "      <th>cat(3)</th>\n",
       "      <th>deer(4)</th>\n",
       "      <th>dog(5)</th>\n",
       "      <th>frog(6)</th>\n",
       "      <th>horse(7)</th>\n",
       "      <th>ship(8)</th>\n",
       "      <th>truck(9)</th>\n",
       "    </tr>\n",
       "    <tr>\n",
       "      <th>real</th>\n",
       "      <th></th>\n",
       "      <th></th>\n",
       "      <th></th>\n",
       "      <th></th>\n",
       "      <th></th>\n",
       "      <th></th>\n",
       "      <th></th>\n",
       "      <th></th>\n",
       "      <th></th>\n",
       "      <th></th>\n",
       "    </tr>\n",
       "  </thead>\n",
       "  <tbody>\n",
       "    <tr>\n",
       "      <th>0</th>\n",
       "      <td>700</td>\n",
       "      <td>12</td>\n",
       "      <td>21</td>\n",
       "      <td>27</td>\n",
       "      <td>65</td>\n",
       "      <td>19</td>\n",
       "      <td>20</td>\n",
       "      <td>73</td>\n",
       "      <td>36</td>\n",
       "      <td>27</td>\n",
       "    </tr>\n",
       "    <tr>\n",
       "      <th>1</th>\n",
       "      <td>62</td>\n",
       "      <td>427</td>\n",
       "      <td>10</td>\n",
       "      <td>40</td>\n",
       "      <td>31</td>\n",
       "      <td>19</td>\n",
       "      <td>36</td>\n",
       "      <td>97</td>\n",
       "      <td>38</td>\n",
       "      <td>240</td>\n",
       "    </tr>\n",
       "    <tr>\n",
       "      <th>2</th>\n",
       "      <td>151</td>\n",
       "      <td>9</td>\n",
       "      <td>193</td>\n",
       "      <td>93</td>\n",
       "      <td>181</td>\n",
       "      <td>81</td>\n",
       "      <td>103</td>\n",
       "      <td>166</td>\n",
       "      <td>2</td>\n",
       "      <td>21</td>\n",
       "    </tr>\n",
       "    <tr>\n",
       "      <th>3</th>\n",
       "      <td>41</td>\n",
       "      <td>10</td>\n",
       "      <td>22</td>\n",
       "      <td>351</td>\n",
       "      <td>133</td>\n",
       "      <td>183</td>\n",
       "      <td>87</td>\n",
       "      <td>137</td>\n",
       "      <td>8</td>\n",
       "      <td>28</td>\n",
       "    </tr>\n",
       "    <tr>\n",
       "      <th>4</th>\n",
       "      <td>44</td>\n",
       "      <td>4</td>\n",
       "      <td>22</td>\n",
       "      <td>68</td>\n",
       "      <td>529</td>\n",
       "      <td>58</td>\n",
       "      <td>85</td>\n",
       "      <td>177</td>\n",
       "      <td>2</td>\n",
       "      <td>11</td>\n",
       "    </tr>\n",
       "    <tr>\n",
       "      <th>5</th>\n",
       "      <td>29</td>\n",
       "      <td>3</td>\n",
       "      <td>29</td>\n",
       "      <td>196</td>\n",
       "      <td>87</td>\n",
       "      <td>445</td>\n",
       "      <td>50</td>\n",
       "      <td>148</td>\n",
       "      <td>4</td>\n",
       "      <td>9</td>\n",
       "    </tr>\n",
       "    <tr>\n",
       "      <th>6</th>\n",
       "      <td>25</td>\n",
       "      <td>3</td>\n",
       "      <td>23</td>\n",
       "      <td>84</td>\n",
       "      <td>102</td>\n",
       "      <td>40</td>\n",
       "      <td>667</td>\n",
       "      <td>41</td>\n",
       "      <td>3</td>\n",
       "      <td>12</td>\n",
       "    </tr>\n",
       "    <tr>\n",
       "      <th>7</th>\n",
       "      <td>21</td>\n",
       "      <td>2</td>\n",
       "      <td>5</td>\n",
       "      <td>59</td>\n",
       "      <td>75</td>\n",
       "      <td>65</td>\n",
       "      <td>12</td>\n",
       "      <td>747</td>\n",
       "      <td>0</td>\n",
       "      <td>14</td>\n",
       "    </tr>\n",
       "    <tr>\n",
       "      <th>8</th>\n",
       "      <td>195</td>\n",
       "      <td>32</td>\n",
       "      <td>11</td>\n",
       "      <td>37</td>\n",
       "      <td>102</td>\n",
       "      <td>21</td>\n",
       "      <td>13</td>\n",
       "      <td>74</td>\n",
       "      <td>438</td>\n",
       "      <td>77</td>\n",
       "    </tr>\n",
       "    <tr>\n",
       "      <th>9</th>\n",
       "      <td>66</td>\n",
       "      <td>45</td>\n",
       "      <td>8</td>\n",
       "      <td>39</td>\n",
       "      <td>39</td>\n",
       "      <td>21</td>\n",
       "      <td>21</td>\n",
       "      <td>127</td>\n",
       "      <td>14</td>\n",
       "      <td>620</td>\n",
       "    </tr>\n",
       "  </tbody>\n",
       "</table>\n",
       "</div>"
      ],
      "text/plain": [
       "predict  airplane(0)  automobile(1)  bird(2)  cat(3)  deer(4)  dog(5)  \\\n",
       "real                                                                    \n",
       "0                700             12       21      27       65      19   \n",
       "1                 62            427       10      40       31      19   \n",
       "2                151              9      193      93      181      81   \n",
       "3                 41             10       22     351      133     183   \n",
       "4                 44              4       22      68      529      58   \n",
       "5                 29              3       29     196       87     445   \n",
       "6                 25              3       23      84      102      40   \n",
       "7                 21              2        5      59       75      65   \n",
       "8                195             32       11      37      102      21   \n",
       "9                 66             45        8      39       39      21   \n",
       "\n",
       "predict  frog(6)  horse(7)  ship(8)  truck(9)  \n",
       "real                                           \n",
       "0             20        73       36        27  \n",
       "1             36        97       38       240  \n",
       "2            103       166        2        21  \n",
       "3             87       137        8        28  \n",
       "4             85       177        2        11  \n",
       "5             50       148        4         9  \n",
       "6            667        41        3        12  \n",
       "7             12       747        0        14  \n",
       "8             13        74      438        77  \n",
       "9             21       127       14       620  "
      ]
     },
     "execution_count": 49,
     "metadata": {},
     "output_type": "execute_result"
    }
   ],
   "source": [
    "# crosstab(교차표)\n",
    "# airplane(0), automobile(1), bird(2), cat(3), deer(4), dog(5), frog(6), horse(7), ship(8), truck(9)\n",
    "# y_test.reshape(-1) # 실제값을 1차원으로 변경]\n",
    "y_hat = np.argmax(model.predict(X_test), axis = 1)\n",
    "y_hat\n",
    "ctab = pd.crosstab(y_test.reshape(-1), y_hat)\n",
    "ctab.columns = ['airplane(0)', 'automobile(1)', 'bird(2)', 'cat(3)', 'deer(4)',  \n",
    "                'dog(5)', 'frog(6)', 'horse(7)', 'ship(8)', 'truck(9)']\n",
    "ctab.columns.name = 'predict'\n",
    "ctab.index.name = 'real'\n",
    "ctab"
   ]
  },
  {
   "cell_type": "code",
   "execution_count": 55,
   "id": "3909f95b",
   "metadata": {
    "ExecuteTime": {
     "end_time": "2024-12-23T06:34:56.568539Z",
     "start_time": "2024-12-23T06:34:56.442522Z"
    }
   },
   "outputs": [
    {
     "data": {
      "text/plain": [
       "array([8], dtype=uint8)"
      ]
     },
     "execution_count": 55,
     "metadata": {},
     "output_type": "execute_result"
    },
    {
     "data": {
      "image/png": "[encoded data removed]",
      "text/plain": [
       "<Figure size 70x70 with 1 Axes>"
      ]
     },
     "metadata": {},
     "output_type": "display_data"
    }
   ],
   "source": [
    "# 6. 모델 사용하기\n",
    "plt.figure(figsize = (0.7, 0.7))\n",
    "plt.imshow(X_test[1]*255.0)\n",
    "y_test[1]"
   ]
  },
  {
   "cell_type": "code",
   "execution_count": 61,
   "id": "f55b70dd",
   "metadata": {
    "ExecuteTime": {
     "end_time": "2024-12-23T06:38:47.900400Z",
     "start_time": "2024-12-23T06:38:47.787482Z"
    }
   },
   "outputs": [
    {
     "name": "stdout",
     "output_type": "stream",
     "text": [
      "1/1 [==============================] - 0s 23ms/step\n"
     ]
    },
    {
     "data": {
      "text/plain": [
       "array([0], dtype=int64)"
      ]
     },
     "execution_count": 61,
     "metadata": {},
     "output_type": "execute_result"
    }
   ],
   "source": [
    "pred = model.predict(X_test[0].reshape(-1, 32, 32, 3)*255).argmax(axis = 1)\n",
    "pred"
   ]
  },
  {
   "cell_type": "markdown",
   "id": "bf8e0f60",
   "metadata": {},
   "source": [
    "# 3. VGGNet\n",
    "- 옥스퍼드 대 VGG팀에서 구현한 CNN(Convolution과 Maxpooling 19개층)\n",
    "- VGG-19 구현\n",
    "- imageNet"
   ]
  },
  {
   "cell_type": "code",
   "execution_count": 8,
   "id": "38ec0f26",
   "metadata": {
    "ExecuteTime": {
     "end_time": "2024-12-23T07:42:42.969467Z",
     "start_time": "2024-12-23T07:42:42.442302Z"
    }
   },
   "outputs": [],
   "source": [
    "from tensorflow.keras.models import Sequential\n",
    "from tensorflow.keras.layers import Input, Conv2D, MaxPooling2D, Flatten, Dense\n",
    "from tensorflow.keras.applications.vgg19 import VGG19\n",
    "# vgg16: convolution, maxpooling 16개층, accuracy는 vgg19가 더 높음\n",
    "import pandas as pd\n",
    "import numpy as np\n",
    "import cv2 # pip install opencv-python: 이미지 사이즈 조정\n",
    "import matplotlib.pyplot as plt"
   ]
  },
  {
   "cell_type": "code",
   "execution_count": 4,
   "id": "a2ba1f23",
   "metadata": {
    "ExecuteTime": {
     "end_time": "2024-12-23T07:24:57.351728Z",
     "start_time": "2024-12-23T07:24:57.334575Z"
    }
   },
   "outputs": [],
   "source": [
    "class Vgg19:\n",
    "    @staticmethod\n",
    "    def build(input_shape = (224, 224, 3), activation = 'relu', class_num = 1000):\n",
    "        model = Sequential([\n",
    "            Input(shape = input_shape),\n",
    "            Conv2D(64, (3, 3), activation = activation, padding = 'same'),\n",
    "            Conv2D(64, (3, 3), activation = activation, padding = 'same'),\n",
    "            MaxPooling2D(),\n",
    "            Conv2D(128, (3, 3), activation = activation, padding = 'same'),\n",
    "            Conv2D(128, (3, 3), activation = activation, padding = 'same'),\n",
    "            MaxPooling2D(),\n",
    "            Conv2D(256, (3,3), activation = activation, padding = 'same'),\n",
    "            Conv2D(256, (3,3), activation = activation, padding = 'same'),\n",
    "            Conv2D(256, (3,3), activation = activation, padding = 'same'),\n",
    "            Conv2D(256, (3,3), activation = activation, padding = 'same'),\n",
    "            MaxPooling2D(),\n",
    "            Conv2D(512, (3,3), activation = activation, padding = 'same'),\n",
    "            Conv2D(512, (3,3), activation = activation, padding = 'same'),\n",
    "            Conv2D(512, (3,3), activation = activation, padding = 'same'),\n",
    "            Conv2D(512, (3,3), activation = activation, padding = 'same'),\n",
    "            MaxPooling2D(),\n",
    "            Conv2D(512, (3,3), activation = activation, padding = 'same'),\n",
    "            Conv2D(512, (3,3), activation = activation, padding = 'same'),\n",
    "            Conv2D(512, (3,3), activation = activation, padding = 'same'),\n",
    "            Conv2D(512, (3,3), activation = activation, padding = 'same'),\n",
    "            MaxPooling2D(),\n",
    "            Flatten(),\n",
    "            Dense(4096, activation = 'relu'),\n",
    "            Dense(4096, activation = 'relu'),\n",
    "            Dense(1000, activation = 'softmax')\n",
    "        ])\n",
    "        return model"
   ]
  },
  {
   "cell_type": "code",
   "execution_count": 5,
   "id": "b825780d",
   "metadata": {
    "ExecuteTime": {
     "end_time": "2024-12-23T07:25:09.334880Z",
     "start_time": "2024-12-23T07:25:08.053605Z"
    }
   },
   "outputs": [
    {
     "name": "stdout",
     "output_type": "stream",
     "text": [
      "Model: \"sequential\"\n",
      "_________________________________________________________________\n",
      " Layer (type)                Output Shape              Param #   \n",
      "=================================================================\n",
      " conv2d (Conv2D)             (None, 224, 224, 64)      1792      \n",
      "                                                                 \n",
      " conv2d_1 (Conv2D)           (None, 224, 224, 64)      36928     \n",
      "                                                                 \n",
      " max_pooling2d (MaxPooling2D  (None, 112, 112, 64)     0         \n",
      " )                                                               \n",
      "                                                                 \n",
      " conv2d_2 (Conv2D)           (None, 112, 112, 128)     73856     \n",
      "                                                                 \n",
      " conv2d_3 (Conv2D)           (None, 112, 112, 128)     147584    \n",
      "                                                                 \n",
      " max_pooling2d_1 (MaxPooling  (None, 56, 56, 128)      0         \n",
      " 2D)                                                             \n",
      "                                                                 \n",
      " conv2d_4 (Conv2D)           (None, 56, 56, 256)       295168    \n",
      "                                                                 \n",
      " conv2d_5 (Conv2D)           (None, 56, 56, 256)       590080    \n",
      "                                                                 \n",
      " conv2d_6 (Conv2D)           (None, 56, 56, 256)       590080    \n",
      "                                                                 \n",
      " conv2d_7 (Conv2D)           (None, 56, 56, 256)       590080    \n",
      "                                                                 \n",
      " max_pooling2d_2 (MaxPooling  (None, 28, 28, 256)      0         \n",
      " 2D)                                                             \n",
      "                                                                 \n",
      " conv2d_8 (Conv2D)           (None, 28, 28, 512)       1180160   \n",
      "                                                                 \n",
      " conv2d_9 (Conv2D)           (None, 28, 28, 512)       2359808   \n",
      "                                                                 \n",
      " conv2d_10 (Conv2D)          (None, 28, 28, 512)       2359808   \n",
      "                                                                 \n",
      " conv2d_11 (Conv2D)          (None, 28, 28, 512)       2359808   \n",
      "                                                                 \n",
      " max_pooling2d_3 (MaxPooling  (None, 14, 14, 512)      0         \n",
      " 2D)                                                             \n",
      "                                                                 \n",
      " conv2d_12 (Conv2D)          (None, 14, 14, 512)       2359808   \n",
      "                                                                 \n",
      " conv2d_13 (Conv2D)          (None, 14, 14, 512)       2359808   \n",
      "                                                                 \n",
      " conv2d_14 (Conv2D)          (None, 14, 14, 512)       2359808   \n",
      "                                                                 \n",
      " conv2d_15 (Conv2D)          (None, 14, 14, 512)       2359808   \n",
      "                                                                 \n",
      " max_pooling2d_4 (MaxPooling  (None, 7, 7, 512)        0         \n",
      " 2D)                                                             \n",
      "                                                                 \n",
      " flatten (Flatten)           (None, 25088)             0         \n",
      "                                                                 \n",
      " dense (Dense)               (None, 4096)              102764544 \n",
      "                                                                 \n",
      " dense_1 (Dense)             (None, 4096)              16781312  \n",
      "                                                                 \n",
      " dense_2 (Dense)             (None, 1000)              4097000   \n",
      "                                                                 \n",
      "=================================================================\n",
      "Total params: 143,667,240\n",
      "Trainable params: 143,667,240\n",
      "Non-trainable params: 0\n",
      "_________________________________________________________________\n"
     ]
    }
   ],
   "source": [
    "model = Vgg19.build()\n",
    "model.summary()"
   ]
  },
  {
   "cell_type": "code",
   "execution_count": 6,
   "id": "7203d8e0",
   "metadata": {
    "ExecuteTime": {
     "end_time": "2024-12-23T07:33:41.901248Z",
     "start_time": "2024-12-23T07:31:20.676831Z"
    }
   },
   "outputs": [
    {
     "name": "stdout",
     "output_type": "stream",
     "text": [
      "Downloading data from https://storage.googleapis.com/tensorflow/keras-applications/vgg19/vgg19_weights_tf_dim_ordering_tf_kernels.h5\n",
      "574710816/574710816 [==============================] - 138s 0us/step\n"
     ]
    }
   ],
   "source": [
    "vggModel = VGG19() # 학습을 하지 않고 imageNet으로 학습이 끝난 model & weights 내려받아 가중치만 사용\n",
    "weights = vggModel.get_weights()\n",
    "model.set_weights(weights = weights) # 학습이 끝난 가중치를 model에 이식\n",
    "# 추가적인 재학습도 가능함"
   ]
  },
  {
   "cell_type": "code",
   "execution_count": 15,
   "id": "f79e46d1",
   "metadata": {
    "ExecuteTime": {
     "end_time": "2024-12-23T07:57:17.627538Z",
     "start_time": "2024-12-23T07:57:14.266039Z"
    }
   },
   "outputs": [
    {
     "data": {
      "text/plain": [
       "(224, 224, 3)"
      ]
     },
     "execution_count": 15,
     "metadata": {},
     "output_type": "execute_result"
    }
   ],
   "source": [
    "# model.predict(읽어온이미지를 224 x 224 x 3 넘파이배열)\n",
    "# 예측하기 위해 이미지를 읽어 → 사이즈 조정(openCV라이브러리: pip install opencv-python)\n",
    "# sol 1) img 데이터를 array로 가져오기\n",
    "img_cv2 = cv2.imread('data/sample.jpg',\n",
    "                     cv2.IMREAD_COLOR,     # BGR Format, Alpha(=투명도)채널 무시\n",
    "                     # cv2.IMREAD_UNCHANGED, # Alpha까지 그대로 읽음\n",
    "                     # cv2.IMREAD_GRAYSCALE  # 흑백으로 읽음\n",
    "                    )\n",
    "img_cv2 = cv2.resize(img_cv2, \n",
    "                     dsize = (224, 224),\n",
    "                     interpolation = cv2.INTER_NEAREST # INTER_NEAREST 보간법을 이용하여 사이즈 조정\n",
    "                    )\n",
    "cv2.imshow('sample', img_cv2)\n",
    "cv2.waitKey(0) # 키보드 입력 대기, 이미지가 화면에 표시된 상태를 유지하기 위함\n",
    "cv2.destroyAllWindows() # openCV를 통해 생성된 모든 창 닫기\n",
    "img_cv2.shape"
   ]
  },
  {
   "cell_type": "code",
   "execution_count": 20,
   "id": "ac753cc7",
   "metadata": {
    "ExecuteTime": {
     "end_time": "2024-12-23T08:12:40.534738Z",
     "start_time": "2024-12-23T08:12:40.386517Z"
    }
   },
   "outputs": [
    {
     "data": {
      "image/png": "[encoded data removed]",
      "text/plain": [
       "<Figure size 200x200 with 1 Axes>"
      ]
     },
     "metadata": {},
     "output_type": "display_data"
    },
    {
     "data": {
      "text/plain": [
       "numpy.ndarray"
      ]
     },
     "execution_count": 20,
     "metadata": {},
     "output_type": "execute_result"
    }
   ],
   "source": [
    "plt.figure(figsize = (2, 2))\n",
    "# BGR Format인 img_cv2를 RGB Format으로\n",
    "img_cv2_rgb = cv2.cvtColor(img_cv2, cv2.COLOR_BGR2RGB)\n",
    "plt.imshow(img_cv2_rgb)\n",
    "plt.show()\n",
    "type(img_cv2_rgb)"
   ]
  },
  {
   "cell_type": "code",
   "execution_count": 31,
   "id": "9201a180",
   "metadata": {
    "ExecuteTime": {
     "end_time": "2024-12-23T08:18:44.911815Z",
     "start_time": "2024-12-23T08:18:44.898230Z"
    }
   },
   "outputs": [
    {
     "name": "stdout",
     "output_type": "stream",
     "text": [
      "<class 'PIL.Image.Image'>\n",
      "img_data의 Type: <class 'numpy.ndarray'> \n",
      "img_data의 Shape: (224, 224, 3)\n"
     ]
    }
   ],
   "source": [
    "# sol 2) tensorflow의 image 객체 변수 이용 \n",
    "from tensorflow.keras.preprocessing import image\n",
    "img = image.load_img('data/sample.jpg', \n",
    "                     target_size = (224, 224))\n",
    "print(type(img))\n",
    "img_data = image.img_to_array(img)\n",
    "print('img_data의 Type:', type(img_data), '\\nimg_data의 Shape:', img_data.shape)"
   ]
  },
  {
   "cell_type": "code",
   "execution_count": 34,
   "id": "3e9ea8bf",
   "metadata": {
    "ExecuteTime": {
     "end_time": "2024-12-23T08:19:47.587792Z",
     "start_time": "2024-12-23T08:19:47.441661Z"
    }
   },
   "outputs": [
    {
     "data": {
      "image/png": "[encoded data removed]",
      "text/plain": [
       "<Figure size 150x150 with 1 Axes>"
      ]
     },
     "metadata": {},
     "output_type": "display_data"
    }
   ],
   "source": [
    "plt.figure(figsize = (1.5, 1.5))\n",
    "plt.imshow(img)\n",
    "plt.show()"
   ]
  },
  {
   "cell_type": "code",
   "execution_count": 43,
   "id": "87660fd2",
   "metadata": {
    "ExecuteTime": {
     "end_time": "2024-12-23T08:25:35.356969Z",
     "start_time": "2024-12-23T08:25:35.218315Z"
    }
   },
   "outputs": [
    {
     "name": "stdout",
     "output_type": "stream",
     "text": [
      "<class 'numpy.ndarray'> (224, 224, 3)\n"
     ]
    },
    {
     "data": {
      "image/png": "[encoded data removed]",
      "text/plain": [
       "<Figure size 150x150 with 1 Axes>"
      ]
     },
     "metadata": {},
     "output_type": "display_data"
    }
   ],
   "source": [
    "# sol 3) \n",
    "img_data1 = plt.imread('data/sample.jpg')\n",
    "# size 조정 필요\n",
    "img_data1 = cv2.resize(img_data1,\n",
    "                       dsize = (224, 224), \n",
    "                       interpolation = cv2.INTER_NEAREST)\n",
    "plt.figure(figsize = (1.5, 1.5))\n",
    "plt.imshow(img_data1)\n",
    "print(type(img_data1), img_data1.shape) "
   ]
  },
  {
   "cell_type": "code",
   "execution_count": 42,
   "id": "0d100839",
   "metadata": {
    "ExecuteTime": {
     "end_time": "2024-12-23T08:24:56.745295Z",
     "start_time": "2024-12-23T08:24:56.738293Z"
    }
   },
   "outputs": [
    {
     "data": {
      "text/plain": [
       "((224, 224, 3), (577, 700, 3))"
      ]
     },
     "execution_count": 42,
     "metadata": {},
     "output_type": "execute_result"
    }
   ],
   "source": [
    "img_data.shape, img_data1.shape"
   ]
  },
  {
   "cell_type": "code",
   "execution_count": 51,
   "id": "acb9e464",
   "metadata": {
    "ExecuteTime": {
     "end_time": "2024-12-23T08:39:06.040866Z",
     "start_time": "2024-12-23T08:39:06.034360Z"
    }
   },
   "outputs": [
    {
     "name": "stdout",
     "output_type": "stream",
     "text": [
      "a 의 shape:\n",
      " (3,)\n",
      "a 배열의 축 추가:\n",
      " [[1]\n",
      " [2]\n",
      " [3]]\n",
      "a 배열의 축 추가:\n",
      " [[1 2 3]]\n",
      "a 배열의 축 추가:\n",
      " [[1 2 3]]\n"
     ]
    }
   ],
   "source": [
    "# 차원 변경 (224, 224, 3) → (1, 224, 224, 3)\n",
    "# sol 1) newaxis를 이용한 축 추가\n",
    "a = np.array([1, 2, 3])\n",
    "print('a 의 shape:\\n', a.shape) # tuple\n",
    "print('a 배열의 축 추가:\\n', a[:, np.newaxis])   # 1차원 → 3행 1열(2차원)\n",
    "print('a 배열의 축 추가:\\n', a[np.newaxis, :])   #       → 1행 3열(2차원)\n",
    "print('a 배열의 축 추가:\\n', a[np.newaxis, ...]) #       → 1행 3열(2차원)"
   ]
  },
  {
   "cell_type": "code",
   "execution_count": 52,
   "id": "3d0ccfc1",
   "metadata": {
    "ExecuteTime": {
     "end_time": "2024-12-23T08:39:56.679115Z",
     "start_time": "2024-12-23T08:39:56.674362Z"
    }
   },
   "outputs": [
    {
     "name": "stdout",
     "output_type": "stream",
     "text": [
      "a 배열의 reshape:\n",
      " [[1 2 3]]\n"
     ]
    }
   ],
   "source": [
    "# sol 2) reshape을 이용한 shape 변경\n",
    "print('a 배열의 reshape:\\n', a.reshape(-1, 3)) #       → 1행 3열(2차원)"
   ]
  },
  {
   "cell_type": "code",
   "execution_count": 69,
   "id": "957625c6",
   "metadata": {
    "ExecuteTime": {
     "end_time": "2024-12-23T08:46:22.264831Z",
     "start_time": "2024-12-23T08:46:22.058242Z"
    }
   },
   "outputs": [
    {
     "name": "stdout",
     "output_type": "stream",
     "text": [
      "1/1 [==============================] - 0s 39ms/step\n"
     ]
    },
    {
     "data": {
      "text/plain": [
       "208"
      ]
     },
     "execution_count": 69,
     "metadata": {},
     "output_type": "execute_result"
    }
   ],
   "source": [
    "# 예측하기\n",
    "pred = model.predict(img_data[np.newaxis, ...])\n",
    "pred.argmax()"
   ]
  },
  {
   "cell_type": "code",
   "execution_count": 70,
   "id": "cbbf9cbe",
   "metadata": {
    "ExecuteTime": {
     "end_time": "2024-12-23T08:46:28.831435Z",
     "start_time": "2024-12-23T08:46:28.746269Z"
    }
   },
   "outputs": [
    {
     "name": "stdout",
     "output_type": "stream",
     "text": [
      "1/1 [==============================] - 0s 38ms/step\n"
     ]
    },
    {
     "data": {
      "text/plain": [
       "208"
      ]
     },
     "execution_count": 70,
     "metadata": {},
     "output_type": "execute_result"
    }
   ],
   "source": [
    "# 예측하기\n",
    "pred = model.predict(img_data1[np.newaxis, ...])\n",
    "pred.argmax()"
   ]
  },
  {
   "cell_type": "code",
   "execution_count": 78,
   "id": "ccf93103",
   "metadata": {
    "ExecuteTime": {
     "end_time": "2024-12-23T08:53:00.469263Z",
     "start_time": "2024-12-23T08:53:00.459903Z"
    }
   },
   "outputs": [
    {
     "name": "stdout",
     "output_type": "stream",
     "text": [
      "[('n02099712', 'Labrador_retriever', 0.7525221), ('n02092339', 'Weimaraner', 0.1301206), ('n02104029', 'kuvasz', 0.02973715), ('n02109047', 'Great_Dane', 0.020166403), ('n02088466', 'bloodhound', 0.015033106)]\n",
      "\n",
      "Labrador_retriever일 확률: 75.25%\n",
      "Weimaraner일 확률: 13.01%\n",
      "kuvasz일 확률: 2.97%\n",
      "Great_Dane일 확률: 2.02%\n",
      "bloodhound일 확률: 1.5%\n"
     ]
    }
   ],
   "source": [
    "# decode_predictions 확률 높은 3개\n",
    "from tensorflow.keras.applications.vgg19 import decode_predictions\n",
    "result = decode_predictions(pred, top = 5)[0]\n",
    "print(result)\n",
    "print()\n",
    "for row in result:\n",
    "    print(\"{}일 확률: {}%\".format(row[1], round(row[2]*100, 2)))"
   ]
  },
  {
   "cell_type": "markdown",
   "id": "154a1b4e",
   "metadata": {},
   "source": [
    "# 4. Inception 모듈\n",
    "- 교안 p55\n",
    "    - 1 x 1 Convolution을 하는 이유: feature map 추출이 목적이 아님, Channel 수를 줄여 연산 속도를 줄이기 위함"
   ]
  },
  {
   "cell_type": "code",
   "execution_count": 5,
   "id": "faaed82d",
   "metadata": {
    "ExecuteTime": {
     "end_time": "2024-12-24T01:06:30.856689Z",
     "start_time": "2024-12-24T01:06:30.851700Z"
    }
   },
   "outputs": [],
   "source": [
    "from tensorflow.keras import Model\n",
    "from tensorflow.keras.layers import Input, Dense, Conv2D, MaxPooling2D\n",
    "from tensorflow.keras.layers import concatenate"
   ]
  },
  {
   "cell_type": "code",
   "execution_count": 7,
   "id": "31c3f406",
   "metadata": {
    "ExecuteTime": {
     "end_time": "2024-12-24T01:20:14.518318Z",
     "start_time": "2024-12-24T01:20:14.388692Z"
    }
   },
   "outputs": [
    {
     "name": "stdout",
     "output_type": "stream",
     "text": [
      "Model: \"model\"\n",
      "__________________________________________________________________________________________________\n",
      " Layer (type)                   Output Shape         Param #     Connected to                     \n",
      "==================================================================================================\n",
      " input_3 (InputLayer)           [(None, 28, 28, 3)]  0           []                               \n",
      "                                                                                                  \n",
      " dense_1 (Dense)                (None, 28, 28, 192)  768         ['input_3[0][0]']                \n",
      "                                                                                                  \n",
      " conv2d_3 (Conv2D)              (None, 28, 28, 64)   12352       ['dense_1[0][0]']                \n",
      "                                                                                                  \n",
      " conv2d_4 (Conv2D)              (None, 28, 28, 128)  221312      ['dense_1[0][0]']                \n",
      "                                                                                                  \n",
      " conv2d_5 (Conv2D)              (None, 28, 28, 32)   153632      ['dense_1[0][0]']                \n",
      "                                                                                                  \n",
      " max_pooling2d_1 (MaxPooling2D)  (None, 28, 28, 192)  0          ['dense_1[0][0]']                \n",
      "                                                                                                  \n",
      " concatenate_1 (Concatenate)    (None, 28, 28, 416)  0           ['conv2d_3[0][0]',               \n",
      "                                                                  'conv2d_4[0][0]',               \n",
      "                                                                  'conv2d_5[0][0]',               \n",
      "                                                                  'max_pooling2d_1[0][0]']        \n",
      "                                                                                                  \n",
      "==================================================================================================\n",
      "Total params: 388,064\n",
      "Trainable params: 388,064\n",
      "Non-trainable params: 0\n",
      "__________________________________________________________________________________________________\n"
     ]
    }
   ],
   "source": [
    "model_input = Input(shape = (28, 28, 3))\n",
    "pre   = Dense(192)(model_input) # 28 x 28 X 192\n",
    "# 병렬 연산\n",
    "conv1 = Conv2D(64, # kernel(filter) 수 \n",
    "               1,  # kernel size\n",
    "               padding = 'same')(pre)\n",
    "conv2 = Conv2D(128, 3, padding = 'same')(pre)\n",
    "conv3 = Conv2D(32, 5, padding = 'same')(pre)\n",
    "pool  = MaxPooling2D(pool_size = (3, 3), strides = 1, padding = 'same')(pre) # stride의 기본 size는 pool_size를 따라감\n",
    "# concat\n",
    "model_output = concatenate([conv1, conv2, conv3, pool])\n",
    "# dict 매개변수, 자동완성 불가능\n",
    "model = Model(inputs = model_input,\n",
    "              outputs = model_output)\n",
    "model.summary()"
   ]
  },
  {
   "cell_type": "markdown",
   "id": "0975c59d",
   "metadata": {},
   "source": [
    "- GoogleNet 중 Inception 모듈, Bottle Neck 구조\n",
    "- GoogleNet에서 소개된 핵심 요소로, 이미지 분류와 같은 작업에서 효율적이고 강력한 성능을 제공\n",
    "```\n",
    "![image](image/인셉션모듈.png)\n",
    "```\n",
    "<img src = \"image/인셉션모듈.png\" alt = 'image' width = \"600\">"
   ]
  },
  {
   "cell_type": "code",
   "execution_count": 5,
   "id": "31c054b5",
   "metadata": {
    "ExecuteTime": {
     "end_time": "2024-12-24T02:00:32.120388Z",
     "start_time": "2024-12-24T02:00:31.972784Z"
    }
   },
   "outputs": [
    {
     "name": "stdout",
     "output_type": "stream",
     "text": [
      "Model: \"model\"\n",
      "__________________________________________________________________________________________________\n",
      " Layer (type)                   Output Shape         Param #     Connected to                     \n",
      "==================================================================================================\n",
      " input_3 (InputLayer)           [(None, 28, 28, 3)]  0           []                               \n",
      "                                                                                                  \n",
      " dense_1 (Dense)                (None, 28, 28, 192)  768         ['input_3[0][0]']                \n",
      "                                                                                                  \n",
      " conv2d_7 (Conv2D)              (None, 28, 28, 96)   18528       ['dense_1[0][0]']                \n",
      "                                                                                                  \n",
      " conv2d_9 (Conv2D)              (None, 28, 28, 16)   3088        ['dense_1[0][0]']                \n",
      "                                                                                                  \n",
      " max_pooling2d_1 (MaxPooling2D)  (None, 28, 28, 192)  0          ['dense_1[0][0]']                \n",
      "                                                                                                  \n",
      " conv2d_6 (Conv2D)              (None, 28, 28, 64)   12352       ['dense_1[0][0]']                \n",
      "                                                                                                  \n",
      " conv2d_8 (Conv2D)              (None, 28, 28, 128)  110720      ['conv2d_7[0][0]']               \n",
      "                                                                                                  \n",
      " conv2d_10 (Conv2D)             (None, 28, 28, 32)   12832       ['conv2d_9[0][0]']               \n",
      "                                                                                                  \n",
      " conv2d_11 (Conv2D)             (None, 28, 28, 32)   6176        ['max_pooling2d_1[0][0]']        \n",
      "                                                                                                  \n",
      " concatenate (Concatenate)      (None, 28, 28, 256)  0           ['conv2d_6[0][0]',               \n",
      "                                                                  'conv2d_8[0][0]',               \n",
      "                                                                  'conv2d_10[0][0]',              \n",
      "                                                                  'conv2d_11[0][0]']              \n",
      "                                                                                                  \n",
      "==================================================================================================\n",
      "Total params: 164,464\n",
      "Trainable params: 164,464\n",
      "Non-trainable params: 0\n",
      "__________________________________________________________________________________________________\n"
     ]
    }
   ],
   "source": [
    "from tensorflow.keras import Model\n",
    "from tensorflow.keras.layers import Input, Dense, Conv2D, MaxPooling2D, concatenate\n",
    "\n",
    "model_input = Input(shape = (28, 28, 3)) # 3 → rgb\n",
    "pre = Dense(192)(model_input)\n",
    "\n",
    "# 병렬\n",
    "conv1   = Conv2D(64, 1, padding = 'same')(pre)\n",
    "\n",
    "conv2_1 = Conv2D(96, 1, padding = 'same')(pre)\n",
    "conv2   = Conv2D(128, 3, padding = 'same')(conv2_1)\n",
    "\n",
    "conv3_1 = Conv2D(16, 1, padding = 'same')(pre)\n",
    "conv3   = Conv2D(32, 5, padding = 'same')(conv3_1)\n",
    "\n",
    "pool    = MaxPooling2D(pool_size = (3, 3), strides = 1, padding = 'same')(pre)\n",
    "conv4   = Conv2D(32, 1, padding = 'same')(pool)\n",
    "\n",
    "# concat\n",
    "model_output = concatenate([conv1, conv2, conv3, conv4])\n",
    "model = Model(inputs  = model_input,\n",
    "              outputs = model_output)\n",
    "model.summary()\n",
    "\n",
    "# 1 x 1 Convolution 결과로 연산 횟수 줄어든다 (params: 388,064 → 164,464)"
   ]
  },
  {
   "cell_type": "markdown",
   "id": "8f822168",
   "metadata": {},
   "source": [
    "# 5. Residual Block\n",
    "```\n",
    "![Residual Block](image/residual_block.png)\n",
    "```\n",
    "<img src = 'image/residual_block.png' alt=\"residual Block\" width = \"200\" style = \"float:left;\">"
   ]
  },
  {
   "cell_type": "code",
   "execution_count": 3,
   "id": "e554bf07",
   "metadata": {
    "ExecuteTime": {
     "end_time": "2024-12-24T02:40:55.095923Z",
     "start_time": "2024-12-24T02:40:54.996208Z"
    }
   },
   "outputs": [
    {
     "name": "stdout",
     "output_type": "stream",
     "text": [
      "Model: \"model\"\n",
      "__________________________________________________________________________________________________\n",
      " Layer (type)                   Output Shape         Param #     Connected to                     \n",
      "==================================================================================================\n",
      " input_2 (InputLayer)           [(None, 28, 28, 3)]  0           []                               \n",
      "                                                                                                  \n",
      " conv2d_3 (Conv2D)              (None, 28, 28, 64)   1792        ['input_2[0][0]']                \n",
      "                                                                                                  \n",
      " conv2d_4 (Conv2D)              (None, 28, 28, 32)   18464       ['conv2d_3[0][0]']               \n",
      "                                                                                                  \n",
      " conv2d_5 (Conv2D)              (None, 28, 28, 64)   18496       ['conv2d_4[0][0]']               \n",
      "                                                                                                  \n",
      " add_1 (Add)                    (None, 28, 28, 64)   0           ['conv2d_5[0][0]',               \n",
      "                                                                  'conv2d_3[0][0]']               \n",
      "                                                                                                  \n",
      " activation (Activation)        (None, 28, 28, 64)   0           ['add_1[0][0]']                  \n",
      "                                                                                                  \n",
      " conv2d_6 (Conv2D)              (None, 26, 26, 64)   36928       ['activation[0][0]']             \n",
      "                                                                                                  \n",
      "==================================================================================================\n",
      "Total params: 75,680\n",
      "Trainable params: 75,680\n",
      "Non-trainable params: 0\n",
      "__________________________________________________________________________________________________\n"
     ]
    }
   ],
   "source": [
    "from tensorflow.keras import Model\n",
    "from tensorflow.keras.layers import Input, Conv2D, Activation, add\n",
    "\n",
    "model_input = Input(shape = (28, 28, 3))\n",
    "x = Conv2D(64, 3, padding = 'same', activation = 'relu')(model_input)\n",
    "\n",
    "# residual block\n",
    "conv = Conv2D(32, 3, padding = 'same', activation = 'relu')(x)\n",
    "conv = Conv2D(64, 3, padding = 'same', activation = 'relu')(conv)\n",
    "y = add([conv, x]) # add나 concat하려면 padding = 'same' 필요 \n",
    "y = Activation('relu')(y)\n",
    "\n",
    "model_output = Conv2D(64, 3, activation = 'relu')(y)\n",
    "model = Model(inputs  = model_input, \n",
    "              outputs = model_output)\n",
    "model.summary()"
   ]
  },
  {
   "cell_type": "markdown",
   "id": "732a0f10",
   "metadata": {},
   "source": [
    "# 6. keras에서 Model 가져오기"
   ]
  },
  {
   "cell_type": "markdown",
   "id": "b358453f",
   "metadata": {},
   "source": [
    "<img src = 'https://miro.medium.com/v2/resize:fit:720/format:webp/0*tH9evuOFqk8F41FG.png'>"
   ]
  },
  {
   "cell_type": "code",
   "execution_count": 5,
   "id": "5bf31114",
   "metadata": {
    "ExecuteTime": {
     "end_time": "2024-12-24T02:55:42.691991Z",
     "start_time": "2024-12-24T02:55:40.181941Z"
    }
   },
   "outputs": [
    {
     "name": "stdout",
     "output_type": "stream",
     "text": [
      "Model: \"resnet50\"\n",
      "__________________________________________________________________________________________________\n",
      " Layer (type)                   Output Shape         Param #     Connected to                     \n",
      "==================================================================================================\n",
      " input_2 (InputLayer)           [(None, 224, 224, 3  0           []                               \n",
      "                                )]                                                                \n",
      "                                                                                                  \n",
      " conv1_pad (ZeroPadding2D)      (None, 230, 230, 3)  0           ['input_2[0][0]']                \n",
      "                                                                                                  \n",
      " conv1_conv (Conv2D)            (None, 112, 112, 64  9472        ['conv1_pad[0][0]']              \n",
      "                                )                                                                 \n",
      "                                                                                                  \n",
      " conv1_bn (BatchNormalization)  (None, 112, 112, 64  256         ['conv1_conv[0][0]']             \n",
      "                                )                                                                 \n",
      "                                                                                                  \n",
      " conv1_relu (Activation)        (None, 112, 112, 64  0           ['conv1_bn[0][0]']               \n",
      "                                )                                                                 \n",
      "                                                                                                  \n",
      " pool1_pad (ZeroPadding2D)      (None, 114, 114, 64  0           ['conv1_relu[0][0]']             \n",
      "                                )                                                                 \n",
      "                                                                                                  \n",
      " pool1_pool (MaxPooling2D)      (None, 56, 56, 64)   0           ['pool1_pad[0][0]']              \n",
      "                                                                                                  \n",
      " conv2_block1_1_conv (Conv2D)   (None, 56, 56, 64)   4160        ['pool1_pool[0][0]']             \n",
      "                                                                                                  \n",
      " conv2_block1_1_bn (BatchNormal  (None, 56, 56, 64)  256         ['conv2_block1_1_conv[0][0]']    \n",
      " ization)                                                                                         \n",
      "                                                                                                  \n",
      " conv2_block1_1_relu (Activatio  (None, 56, 56, 64)  0           ['conv2_block1_1_bn[0][0]']      \n",
      " n)                                                                                               \n",
      "                                                                                                  \n",
      " conv2_block1_2_conv (Conv2D)   (None, 56, 56, 64)   36928       ['conv2_block1_1_relu[0][0]']    \n",
      "                                                                                                  \n",
      " conv2_block1_2_bn (BatchNormal  (None, 56, 56, 64)  256         ['conv2_block1_2_conv[0][0]']    \n",
      " ization)                                                                                         \n",
      "                                                                                                  \n",
      " conv2_block1_2_relu (Activatio  (None, 56, 56, 64)  0           ['conv2_block1_2_bn[0][0]']      \n",
      " n)                                                                                               \n",
      "                                                                                                  \n",
      " conv2_block1_0_conv (Conv2D)   (None, 56, 56, 256)  16640       ['pool1_pool[0][0]']             \n",
      "                                                                                                  \n",
      " conv2_block1_3_conv (Conv2D)   (None, 56, 56, 256)  16640       ['conv2_block1_2_relu[0][0]']    \n",
      "                                                                                                  \n",
      " conv2_block1_0_bn (BatchNormal  (None, 56, 56, 256)  1024       ['conv2_block1_0_conv[0][0]']    \n",
      " ization)                                                                                         \n",
      "                                                                                                  \n",
      " conv2_block1_3_bn (BatchNormal  (None, 56, 56, 256)  1024       ['conv2_block1_3_conv[0][0]']    \n",
      " ization)                                                                                         \n",
      "                                                                                                  \n",
      " conv2_block1_add (Add)         (None, 56, 56, 256)  0           ['conv2_block1_0_bn[0][0]',      \n",
      "                                                                  'conv2_block1_3_bn[0][0]']      \n",
      "                                                                                                  \n",
      " conv2_block1_out (Activation)  (None, 56, 56, 256)  0           ['conv2_block1_add[0][0]']       \n",
      "                                                                                                  \n",
      " conv2_block2_1_conv (Conv2D)   (None, 56, 56, 64)   16448       ['conv2_block1_out[0][0]']       \n",
      "                                                                                                  \n",
      " conv2_block2_1_bn (BatchNormal  (None, 56, 56, 64)  256         ['conv2_block2_1_conv[0][0]']    \n",
      " ization)                                                                                         \n",
      "                                                                                                  \n",
      " conv2_block2_1_relu (Activatio  (None, 56, 56, 64)  0           ['conv2_block2_1_bn[0][0]']      \n",
      " n)                                                                                               \n",
      "                                                                                                  \n",
      " conv2_block2_2_conv (Conv2D)   (None, 56, 56, 64)   36928       ['conv2_block2_1_relu[0][0]']    \n",
      "                                                                                                  \n",
      " conv2_block2_2_bn (BatchNormal  (None, 56, 56, 64)  256         ['conv2_block2_2_conv[0][0]']    \n",
      " ization)                                                                                         \n",
      "                                                                                                  \n",
      " conv2_block2_2_relu (Activatio  (None, 56, 56, 64)  0           ['conv2_block2_2_bn[0][0]']      \n",
      " n)                                                                                               \n",
      "                                                                                                  \n",
      " conv2_block2_3_conv (Conv2D)   (None, 56, 56, 256)  16640       ['conv2_block2_2_relu[0][0]']    \n",
      "                                                                                                  \n",
      " conv2_block2_3_bn (BatchNormal  (None, 56, 56, 256)  1024       ['conv2_block2_3_conv[0][0]']    \n",
      " ization)                                                                                         \n",
      "                                                                                                  \n",
      " conv2_block2_add (Add)         (None, 56, 56, 256)  0           ['conv2_block1_out[0][0]',       \n",
      "                                                                  'conv2_block2_3_bn[0][0]']      \n",
      "                                                                                                  \n",
      " conv2_block2_out (Activation)  (None, 56, 56, 256)  0           ['conv2_block2_add[0][0]']       \n",
      "                                                                                                  \n",
      " conv2_block3_1_conv (Conv2D)   (None, 56, 56, 64)   16448       ['conv2_block2_out[0][0]']       \n",
      "                                                                                                  \n",
      " conv2_block3_1_bn (BatchNormal  (None, 56, 56, 64)  256         ['conv2_block3_1_conv[0][0]']    \n",
      " ization)                                                                                         \n"
     ]
    },
    {
     "name": "stdout",
     "output_type": "stream",
     "text": [
      "                                                                                                  \n",
      " conv2_block3_1_relu (Activatio  (None, 56, 56, 64)  0           ['conv2_block3_1_bn[0][0]']      \n",
      " n)                                                                                               \n",
      "                                                                                                  \n",
      " conv2_block3_2_conv (Conv2D)   (None, 56, 56, 64)   36928       ['conv2_block3_1_relu[0][0]']    \n",
      "                                                                                                  \n",
      " conv2_block3_2_bn (BatchNormal  (None, 56, 56, 64)  256         ['conv2_block3_2_conv[0][0]']    \n",
      " ization)                                                                                         \n",
      "                                                                                                  \n",
      " conv2_block3_2_relu (Activatio  (None, 56, 56, 64)  0           ['conv2_block3_2_bn[0][0]']      \n",
      " n)                                                                                               \n",
      "                                                                                                  \n",
      " conv2_block3_3_conv (Conv2D)   (None, 56, 56, 256)  16640       ['conv2_block3_2_relu[0][0]']    \n",
      "                                                                                                  \n",
      " conv2_block3_3_bn (BatchNormal  (None, 56, 56, 256)  1024       ['conv2_block3_3_conv[0][0]']    \n",
      " ization)                                                                                         \n",
      "                                                                                                  \n",
      " conv2_block3_add (Add)         (None, 56, 56, 256)  0           ['conv2_block2_out[0][0]',       \n",
      "                                                                  'conv2_block3_3_bn[0][0]']      \n",
      "                                                                                                  \n",
      " conv2_block3_out (Activation)  (None, 56, 56, 256)  0           ['conv2_block3_add[0][0]']       \n",
      "                                                                                                  \n",
      " conv3_block1_1_conv (Conv2D)   (None, 28, 28, 128)  32896       ['conv2_block3_out[0][0]']       \n",
      "                                                                                                  \n",
      " conv3_block1_1_bn (BatchNormal  (None, 28, 28, 128)  512        ['conv3_block1_1_conv[0][0]']    \n",
      " ization)                                                                                         \n",
      "                                                                                                  \n",
      " conv3_block1_1_relu (Activatio  (None, 28, 28, 128)  0          ['conv3_block1_1_bn[0][0]']      \n",
      " n)                                                                                               \n",
      "                                                                                                  \n",
      " conv3_block1_2_conv (Conv2D)   (None, 28, 28, 128)  147584      ['conv3_block1_1_relu[0][0]']    \n",
      "                                                                                                  \n",
      " conv3_block1_2_bn (BatchNormal  (None, 28, 28, 128)  512        ['conv3_block1_2_conv[0][0]']    \n",
      " ization)                                                                                         \n",
      "                                                                                                  \n",
      " conv3_block1_2_relu (Activatio  (None, 28, 28, 128)  0          ['conv3_block1_2_bn[0][0]']      \n",
      " n)                                                                                               \n",
      "                                                                                                  \n",
      " conv3_block1_0_conv (Conv2D)   (None, 28, 28, 512)  131584      ['conv2_block3_out[0][0]']       \n",
      "                                                                                                  \n",
      " conv3_block1_3_conv (Conv2D)   (None, 28, 28, 512)  66048       ['conv3_block1_2_relu[0][0]']    \n",
      "                                                                                                  \n",
      " conv3_block1_0_bn (BatchNormal  (None, 28, 28, 512)  2048       ['conv3_block1_0_conv[0][0]']    \n",
      " ization)                                                                                         \n",
      "                                                                                                  \n",
      " conv3_block1_3_bn (BatchNormal  (None, 28, 28, 512)  2048       ['conv3_block1_3_conv[0][0]']    \n",
      " ization)                                                                                         \n",
      "                                                                                                  \n",
      " conv3_block1_add (Add)         (None, 28, 28, 512)  0           ['conv3_block1_0_bn[0][0]',      \n",
      "                                                                  'conv3_block1_3_bn[0][0]']      \n",
      "                                                                                                  \n",
      " conv3_block1_out (Activation)  (None, 28, 28, 512)  0           ['conv3_block1_add[0][0]']       \n",
      "                                                                                                  \n",
      " conv3_block2_1_conv (Conv2D)   (None, 28, 28, 128)  65664       ['conv3_block1_out[0][0]']       \n",
      "                                                                                                  \n",
      " conv3_block2_1_bn (BatchNormal  (None, 28, 28, 128)  512        ['conv3_block2_1_conv[0][0]']    \n",
      " ization)                                                                                         \n",
      "                                                                                                  \n",
      " conv3_block2_1_relu (Activatio  (None, 28, 28, 128)  0          ['conv3_block2_1_bn[0][0]']      \n",
      " n)                                                                                               \n",
      "                                                                                                  \n",
      " conv3_block2_2_conv (Conv2D)   (None, 28, 28, 128)  147584      ['conv3_block2_1_relu[0][0]']    \n",
      "                                                                                                  \n",
      " conv3_block2_2_bn (BatchNormal  (None, 28, 28, 128)  512        ['conv3_block2_2_conv[0][0]']    \n",
      " ization)                                                                                         \n",
      "                                                                                                  \n",
      " conv3_block2_2_relu (Activatio  (None, 28, 28, 128)  0          ['conv3_block2_2_bn[0][0]']      \n",
      " n)                                                                                               \n",
      "                                                                                                  \n",
      " conv3_block2_3_conv (Conv2D)   (None, 28, 28, 512)  66048       ['conv3_block2_2_relu[0][0]']    \n",
      "                                                                                                  \n",
      " conv3_block2_3_bn (BatchNormal  (None, 28, 28, 512)  2048       ['conv3_block2_3_conv[0][0]']    \n",
      " ization)                                                                                         \n",
      "                                                                                                  \n",
      " conv3_block2_add (Add)         (None, 28, 28, 512)  0           ['conv3_block1_out[0][0]',       \n",
      "                                                                  'conv3_block2_3_bn[0][0]']      \n",
      "                                                                                                  \n",
      " conv3_block2_out (Activation)  (None, 28, 28, 512)  0           ['conv3_block2_add[0][0]']       \n",
      "                                                                                                  \n",
      " conv3_block3_1_conv (Conv2D)   (None, 28, 28, 128)  65664       ['conv3_block2_out[0][0]']       \n",
      "                                                                                                  \n",
      " conv3_block3_1_bn (BatchNormal  (None, 28, 28, 128)  512        ['conv3_block3_1_conv[0][0]']    \n",
      " ization)                                                                                         \n"
     ]
    },
    {
     "name": "stdout",
     "output_type": "stream",
     "text": [
      "                                                                                                  \n",
      " conv3_block3_1_relu (Activatio  (None, 28, 28, 128)  0          ['conv3_block3_1_bn[0][0]']      \n",
      " n)                                                                                               \n",
      "                                                                                                  \n",
      " conv3_block3_2_conv (Conv2D)   (None, 28, 28, 128)  147584      ['conv3_block3_1_relu[0][0]']    \n",
      "                                                                                                  \n",
      " conv3_block3_2_bn (BatchNormal  (None, 28, 28, 128)  512        ['conv3_block3_2_conv[0][0]']    \n",
      " ization)                                                                                         \n",
      "                                                                                                  \n",
      " conv3_block3_2_relu (Activatio  (None, 28, 28, 128)  0          ['conv3_block3_2_bn[0][0]']      \n",
      " n)                                                                                               \n",
      "                                                                                                  \n",
      " conv3_block3_3_conv (Conv2D)   (None, 28, 28, 512)  66048       ['conv3_block3_2_relu[0][0]']    \n",
      "                                                                                                  \n",
      " conv3_block3_3_bn (BatchNormal  (None, 28, 28, 512)  2048       ['conv3_block3_3_conv[0][0]']    \n",
      " ization)                                                                                         \n",
      "                                                                                                  \n",
      " conv3_block3_add (Add)         (None, 28, 28, 512)  0           ['conv3_block2_out[0][0]',       \n",
      "                                                                  'conv3_block3_3_bn[0][0]']      \n",
      "                                                                                                  \n",
      " conv3_block3_out (Activation)  (None, 28, 28, 512)  0           ['conv3_block3_add[0][0]']       \n",
      "                                                                                                  \n",
      " conv3_block4_1_conv (Conv2D)   (None, 28, 28, 128)  65664       ['conv3_block3_out[0][0]']       \n",
      "                                                                                                  \n",
      " conv3_block4_1_bn (BatchNormal  (None, 28, 28, 128)  512        ['conv3_block4_1_conv[0][0]']    \n",
      " ization)                                                                                         \n",
      "                                                                                                  \n",
      " conv3_block4_1_relu (Activatio  (None, 28, 28, 128)  0          ['conv3_block4_1_bn[0][0]']      \n",
      " n)                                                                                               \n",
      "                                                                                                  \n",
      " conv3_block4_2_conv (Conv2D)   (None, 28, 28, 128)  147584      ['conv3_block4_1_relu[0][0]']    \n",
      "                                                                                                  \n",
      " conv3_block4_2_bn (BatchNormal  (None, 28, 28, 128)  512        ['conv3_block4_2_conv[0][0]']    \n",
      " ization)                                                                                         \n",
      "                                                                                                  \n",
      " conv3_block4_2_relu (Activatio  (None, 28, 28, 128)  0          ['conv3_block4_2_bn[0][0]']      \n",
      " n)                                                                                               \n",
      "                                                                                                  \n",
      " conv3_block4_3_conv (Conv2D)   (None, 28, 28, 512)  66048       ['conv3_block4_2_relu[0][0]']    \n",
      "                                                                                                  \n",
      " conv3_block4_3_bn (BatchNormal  (None, 28, 28, 512)  2048       ['conv3_block4_3_conv[0][0]']    \n",
      " ization)                                                                                         \n",
      "                                                                                                  \n",
      " conv3_block4_add (Add)         (None, 28, 28, 512)  0           ['conv3_block3_out[0][0]',       \n",
      "                                                                  'conv3_block4_3_bn[0][0]']      \n",
      "                                                                                                  \n",
      " conv3_block4_out (Activation)  (None, 28, 28, 512)  0           ['conv3_block4_add[0][0]']       \n",
      "                                                                                                  \n",
      " conv4_block1_1_conv (Conv2D)   (None, 14, 14, 256)  131328      ['conv3_block4_out[0][0]']       \n",
      "                                                                                                  \n",
      " conv4_block1_1_bn (BatchNormal  (None, 14, 14, 256)  1024       ['conv4_block1_1_conv[0][0]']    \n",
      " ization)                                                                                         \n",
      "                                                                                                  \n",
      " conv4_block1_1_relu (Activatio  (None, 14, 14, 256)  0          ['conv4_block1_1_bn[0][0]']      \n",
      " n)                                                                                               \n",
      "                                                                                                  \n",
      " conv4_block1_2_conv (Conv2D)   (None, 14, 14, 256)  590080      ['conv4_block1_1_relu[0][0]']    \n",
      "                                                                                                  \n",
      " conv4_block1_2_bn (BatchNormal  (None, 14, 14, 256)  1024       ['conv4_block1_2_conv[0][0]']    \n",
      " ization)                                                                                         \n",
      "                                                                                                  \n",
      " conv4_block1_2_relu (Activatio  (None, 14, 14, 256)  0          ['conv4_block1_2_bn[0][0]']      \n",
      " n)                                                                                               \n",
      "                                                                                                  \n",
      " conv4_block1_0_conv (Conv2D)   (None, 14, 14, 1024  525312      ['conv3_block4_out[0][0]']       \n",
      "                                )                                                                 \n",
      "                                                                                                  \n",
      " conv4_block1_3_conv (Conv2D)   (None, 14, 14, 1024  263168      ['conv4_block1_2_relu[0][0]']    \n",
      "                                )                                                                 \n",
      "                                                                                                  \n",
      " conv4_block1_0_bn (BatchNormal  (None, 14, 14, 1024  4096       ['conv4_block1_0_conv[0][0]']    \n",
      " ization)                       )                                                                 \n",
      "                                                                                                  \n",
      " conv4_block1_3_bn (BatchNormal  (None, 14, 14, 1024  4096       ['conv4_block1_3_conv[0][0]']    \n",
      " ization)                       )                                                                 \n",
      "                                                                                                  \n",
      " conv4_block1_add (Add)         (None, 14, 14, 1024  0           ['conv4_block1_0_bn[0][0]',      \n",
      "                                )                                 'conv4_block1_3_bn[0][0]']      \n",
      "                                                                                                  \n",
      " conv4_block1_out (Activation)  (None, 14, 14, 1024  0           ['conv4_block1_add[0][0]']       \n",
      "                                )                                                                 \n",
      "                                                                                                  \n",
      " conv4_block2_1_conv (Conv2D)   (None, 14, 14, 256)  262400      ['conv4_block1_out[0][0]']       \n"
     ]
    },
    {
     "name": "stdout",
     "output_type": "stream",
     "text": [
      "                                                                                                  \n",
      " conv4_block2_1_bn (BatchNormal  (None, 14, 14, 256)  1024       ['conv4_block2_1_conv[0][0]']    \n",
      " ization)                                                                                         \n",
      "                                                                                                  \n",
      " conv4_block2_1_relu (Activatio  (None, 14, 14, 256)  0          ['conv4_block2_1_bn[0][0]']      \n",
      " n)                                                                                               \n",
      "                                                                                                  \n",
      " conv4_block2_2_conv (Conv2D)   (None, 14, 14, 256)  590080      ['conv4_block2_1_relu[0][0]']    \n",
      "                                                                                                  \n",
      " conv4_block2_2_bn (BatchNormal  (None, 14, 14, 256)  1024       ['conv4_block2_2_conv[0][0]']    \n",
      " ization)                                                                                         \n",
      "                                                                                                  \n",
      " conv4_block2_2_relu (Activatio  (None, 14, 14, 256)  0          ['conv4_block2_2_bn[0][0]']      \n",
      " n)                                                                                               \n",
      "                                                                                                  \n",
      " conv4_block2_3_conv (Conv2D)   (None, 14, 14, 1024  263168      ['conv4_block2_2_relu[0][0]']    \n",
      "                                )                                                                 \n",
      "                                                                                                  \n",
      " conv4_block2_3_bn (BatchNormal  (None, 14, 14, 1024  4096       ['conv4_block2_3_conv[0][0]']    \n",
      " ization)                       )                                                                 \n",
      "                                                                                                  \n",
      " conv4_block2_add (Add)         (None, 14, 14, 1024  0           ['conv4_block1_out[0][0]',       \n",
      "                                )                                 'conv4_block2_3_bn[0][0]']      \n",
      "                                                                                                  \n",
      " conv4_block2_out (Activation)  (None, 14, 14, 1024  0           ['conv4_block2_add[0][0]']       \n",
      "                                )                                                                 \n",
      "                                                                                                  \n",
      " conv4_block3_1_conv (Conv2D)   (None, 14, 14, 256)  262400      ['conv4_block2_out[0][0]']       \n",
      "                                                                                                  \n",
      " conv4_block3_1_bn (BatchNormal  (None, 14, 14, 256)  1024       ['conv4_block3_1_conv[0][0]']    \n",
      " ization)                                                                                         \n",
      "                                                                                                  \n",
      " conv4_block3_1_relu (Activatio  (None, 14, 14, 256)  0          ['conv4_block3_1_bn[0][0]']      \n",
      " n)                                                                                               \n",
      "                                                                                                  \n",
      " conv4_block3_2_conv (Conv2D)   (None, 14, 14, 256)  590080      ['conv4_block3_1_relu[0][0]']    \n",
      "                                                                                                  \n",
      " conv4_block3_2_bn (BatchNormal  (None, 14, 14, 256)  1024       ['conv4_block3_2_conv[0][0]']    \n",
      " ization)                                                                                         \n",
      "                                                                                                  \n",
      " conv4_block3_2_relu (Activatio  (None, 14, 14, 256)  0          ['conv4_block3_2_bn[0][0]']      \n",
      " n)                                                                                               \n",
      "                                                                                                  \n",
      " conv4_block3_3_conv (Conv2D)   (None, 14, 14, 1024  263168      ['conv4_block3_2_relu[0][0]']    \n",
      "                                )                                                                 \n",
      "                                                                                                  \n",
      " conv4_block3_3_bn (BatchNormal  (None, 14, 14, 1024  4096       ['conv4_block3_3_conv[0][0]']    \n",
      " ization)                       )                                                                 \n",
      "                                                                                                  \n",
      " conv4_block3_add (Add)         (None, 14, 14, 1024  0           ['conv4_block2_out[0][0]',       \n",
      "                                )                                 'conv4_block3_3_bn[0][0]']      \n",
      "                                                                                                  \n",
      " conv4_block3_out (Activation)  (None, 14, 14, 1024  0           ['conv4_block3_add[0][0]']       \n",
      "                                )                                                                 \n",
      "                                                                                                  \n",
      " conv4_block4_1_conv (Conv2D)   (None, 14, 14, 256)  262400      ['conv4_block3_out[0][0]']       \n",
      "                                                                                                  \n",
      " conv4_block4_1_bn (BatchNormal  (None, 14, 14, 256)  1024       ['conv4_block4_1_conv[0][0]']    \n",
      " ization)                                                                                         \n",
      "                                                                                                  \n",
      " conv4_block4_1_relu (Activatio  (None, 14, 14, 256)  0          ['conv4_block4_1_bn[0][0]']      \n",
      " n)                                                                                               \n",
      "                                                                                                  \n",
      " conv4_block4_2_conv (Conv2D)   (None, 14, 14, 256)  590080      ['conv4_block4_1_relu[0][0]']    \n",
      "                                                                                                  \n",
      " conv4_block4_2_bn (BatchNormal  (None, 14, 14, 256)  1024       ['conv4_block4_2_conv[0][0]']    \n",
      " ization)                                                                                         \n",
      "                                                                                                  \n",
      " conv4_block4_2_relu (Activatio  (None, 14, 14, 256)  0          ['conv4_block4_2_bn[0][0]']      \n",
      " n)                                                                                               \n",
      "                                                                                                  \n",
      " conv4_block4_3_conv (Conv2D)   (None, 14, 14, 1024  263168      ['conv4_block4_2_relu[0][0]']    \n",
      "                                )                                                                 \n",
      "                                                                                                  \n",
      " conv4_block4_3_bn (BatchNormal  (None, 14, 14, 1024  4096       ['conv4_block4_3_conv[0][0]']    \n",
      " ization)                       )                                                                 \n",
      "                                                                                                  \n",
      " conv4_block4_add (Add)         (None, 14, 14, 1024  0           ['conv4_block3_out[0][0]',       \n",
      "                                )                                 'conv4_block4_3_bn[0][0]']      \n",
      "                                                                                                  \n",
      " conv4_block4_out (Activation)  (None, 14, 14, 1024  0           ['conv4_block4_add[0][0]']       \n",
      "                                )                                                                 \n",
      "                                                                                                  \n"
     ]
    },
    {
     "name": "stdout",
     "output_type": "stream",
     "text": [
      " conv4_block5_1_conv (Conv2D)   (None, 14, 14, 256)  262400      ['conv4_block4_out[0][0]']       \n",
      "                                                                                                  \n",
      " conv4_block5_1_bn (BatchNormal  (None, 14, 14, 256)  1024       ['conv4_block5_1_conv[0][0]']    \n",
      " ization)                                                                                         \n",
      "                                                                                                  \n",
      " conv4_block5_1_relu (Activatio  (None, 14, 14, 256)  0          ['conv4_block5_1_bn[0][0]']      \n",
      " n)                                                                                               \n",
      "                                                                                                  \n",
      " conv4_block5_2_conv (Conv2D)   (None, 14, 14, 256)  590080      ['conv4_block5_1_relu[0][0]']    \n",
      "                                                                                                  \n",
      " conv4_block5_2_bn (BatchNormal  (None, 14, 14, 256)  1024       ['conv4_block5_2_conv[0][0]']    \n",
      " ization)                                                                                         \n",
      "                                                                                                  \n",
      " conv4_block5_2_relu (Activatio  (None, 14, 14, 256)  0          ['conv4_block5_2_bn[0][0]']      \n",
      " n)                                                                                               \n",
      "                                                                                                  \n",
      " conv4_block5_3_conv (Conv2D)   (None, 14, 14, 1024  263168      ['conv4_block5_2_relu[0][0]']    \n",
      "                                )                                                                 \n",
      "                                                                                                  \n",
      " conv4_block5_3_bn (BatchNormal  (None, 14, 14, 1024  4096       ['conv4_block5_3_conv[0][0]']    \n",
      " ization)                       )                                                                 \n",
      "                                                                                                  \n",
      " conv4_block5_add (Add)         (None, 14, 14, 1024  0           ['conv4_block4_out[0][0]',       \n",
      "                                )                                 'conv4_block5_3_bn[0][0]']      \n",
      "                                                                                                  \n",
      " conv4_block5_out (Activation)  (None, 14, 14, 1024  0           ['conv4_block5_add[0][0]']       \n",
      "                                )                                                                 \n",
      "                                                                                                  \n",
      " conv4_block6_1_conv (Conv2D)   (None, 14, 14, 256)  262400      ['conv4_block5_out[0][0]']       \n",
      "                                                                                                  \n",
      " conv4_block6_1_bn (BatchNormal  (None, 14, 14, 256)  1024       ['conv4_block6_1_conv[0][0]']    \n",
      " ization)                                                                                         \n",
      "                                                                                                  \n",
      " conv4_block6_1_relu (Activatio  (None, 14, 14, 256)  0          ['conv4_block6_1_bn[0][0]']      \n",
      " n)                                                                                               \n",
      "                                                                                                  \n",
      " conv4_block6_2_conv (Conv2D)   (None, 14, 14, 256)  590080      ['conv4_block6_1_relu[0][0]']    \n",
      "                                                                                                  \n",
      " conv4_block6_2_bn (BatchNormal  (None, 14, 14, 256)  1024       ['conv4_block6_2_conv[0][0]']    \n",
      " ization)                                                                                         \n",
      "                                                                                                  \n",
      " conv4_block6_2_relu (Activatio  (None, 14, 14, 256)  0          ['conv4_block6_2_bn[0][0]']      \n",
      " n)                                                                                               \n",
      "                                                                                                  \n",
      " conv4_block6_3_conv (Conv2D)   (None, 14, 14, 1024  263168      ['conv4_block6_2_relu[0][0]']    \n",
      "                                )                                                                 \n",
      "                                                                                                  \n",
      " conv4_block6_3_bn (BatchNormal  (None, 14, 14, 1024  4096       ['conv4_block6_3_conv[0][0]']    \n",
      " ization)                       )                                                                 \n",
      "                                                                                                  \n",
      " conv4_block6_add (Add)         (None, 14, 14, 1024  0           ['conv4_block5_out[0][0]',       \n",
      "                                )                                 'conv4_block6_3_bn[0][0]']      \n",
      "                                                                                                  \n",
      " conv4_block6_out (Activation)  (None, 14, 14, 1024  0           ['conv4_block6_add[0][0]']       \n",
      "                                )                                                                 \n",
      "                                                                                                  \n",
      " conv5_block1_1_conv (Conv2D)   (None, 7, 7, 512)    524800      ['conv4_block6_out[0][0]']       \n",
      "                                                                                                  \n",
      " conv5_block1_1_bn (BatchNormal  (None, 7, 7, 512)   2048        ['conv5_block1_1_conv[0][0]']    \n",
      " ization)                                                                                         \n",
      "                                                                                                  \n",
      " conv5_block1_1_relu (Activatio  (None, 7, 7, 512)   0           ['conv5_block1_1_bn[0][0]']      \n",
      " n)                                                                                               \n",
      "                                                                                                  \n",
      " conv5_block1_2_conv (Conv2D)   (None, 7, 7, 512)    2359808     ['conv5_block1_1_relu[0][0]']    \n",
      "                                                                                                  \n",
      " conv5_block1_2_bn (BatchNormal  (None, 7, 7, 512)   2048        ['conv5_block1_2_conv[0][0]']    \n",
      " ization)                                                                                         \n",
      "                                                                                                  \n",
      " conv5_block1_2_relu (Activatio  (None, 7, 7, 512)   0           ['conv5_block1_2_bn[0][0]']      \n",
      " n)                                                                                               \n",
      "                                                                                                  \n",
      " conv5_block1_0_conv (Conv2D)   (None, 7, 7, 2048)   2099200     ['conv4_block6_out[0][0]']       \n",
      "                                                                                                  \n",
      " conv5_block1_3_conv (Conv2D)   (None, 7, 7, 2048)   1050624     ['conv5_block1_2_relu[0][0]']    \n",
      "                                                                                                  \n",
      " conv5_block1_0_bn (BatchNormal  (None, 7, 7, 2048)  8192        ['conv5_block1_0_conv[0][0]']    \n",
      " ization)                                                                                         \n",
      "                                                                                                  \n",
      " conv5_block1_3_bn (BatchNormal  (None, 7, 7, 2048)  8192        ['conv5_block1_3_conv[0][0]']    \n",
      " ization)                                                                                         \n",
      "                                                                                                  \n",
      " conv5_block1_add (Add)         (None, 7, 7, 2048)   0           ['conv5_block1_0_bn[0][0]',      \n"
     ]
    },
    {
     "name": "stdout",
     "output_type": "stream",
     "text": [
      "                                                                  'conv5_block1_3_bn[0][0]']      \n",
      "                                                                                                  \n",
      " conv5_block1_out (Activation)  (None, 7, 7, 2048)   0           ['conv5_block1_add[0][0]']       \n",
      "                                                                                                  \n",
      " conv5_block2_1_conv (Conv2D)   (None, 7, 7, 512)    1049088     ['conv5_block1_out[0][0]']       \n",
      "                                                                                                  \n",
      " conv5_block2_1_bn (BatchNormal  (None, 7, 7, 512)   2048        ['conv5_block2_1_conv[0][0]']    \n",
      " ization)                                                                                         \n",
      "                                                                                                  \n",
      " conv5_block2_1_relu (Activatio  (None, 7, 7, 512)   0           ['conv5_block2_1_bn[0][0]']      \n",
      " n)                                                                                               \n",
      "                                                                                                  \n",
      " conv5_block2_2_conv (Conv2D)   (None, 7, 7, 512)    2359808     ['conv5_block2_1_relu[0][0]']    \n",
      "                                                                                                  \n",
      " conv5_block2_2_bn (BatchNormal  (None, 7, 7, 512)   2048        ['conv5_block2_2_conv[0][0]']    \n",
      " ization)                                                                                         \n",
      "                                                                                                  \n",
      " conv5_block2_2_relu (Activatio  (None, 7, 7, 512)   0           ['conv5_block2_2_bn[0][0]']      \n",
      " n)                                                                                               \n",
      "                                                                                                  \n",
      " conv5_block2_3_conv (Conv2D)   (None, 7, 7, 2048)   1050624     ['conv5_block2_2_relu[0][0]']    \n",
      "                                                                                                  \n",
      " conv5_block2_3_bn (BatchNormal  (None, 7, 7, 2048)  8192        ['conv5_block2_3_conv[0][0]']    \n",
      " ization)                                                                                         \n",
      "                                                                                                  \n",
      " conv5_block2_add (Add)         (None, 7, 7, 2048)   0           ['conv5_block1_out[0][0]',       \n",
      "                                                                  'conv5_block2_3_bn[0][0]']      \n",
      "                                                                                                  \n",
      " conv5_block2_out (Activation)  (None, 7, 7, 2048)   0           ['conv5_block2_add[0][0]']       \n",
      "                                                                                                  \n",
      " conv5_block3_1_conv (Conv2D)   (None, 7, 7, 512)    1049088     ['conv5_block2_out[0][0]']       \n",
      "                                                                                                  \n",
      " conv5_block3_1_bn (BatchNormal  (None, 7, 7, 512)   2048        ['conv5_block3_1_conv[0][0]']    \n",
      " ization)                                                                                         \n",
      "                                                                                                  \n",
      " conv5_block3_1_relu (Activatio  (None, 7, 7, 512)   0           ['conv5_block3_1_bn[0][0]']      \n",
      " n)                                                                                               \n",
      "                                                                                                  \n",
      " conv5_block3_2_conv (Conv2D)   (None, 7, 7, 512)    2359808     ['conv5_block3_1_relu[0][0]']    \n",
      "                                                                                                  \n",
      " conv5_block3_2_bn (BatchNormal  (None, 7, 7, 512)   2048        ['conv5_block3_2_conv[0][0]']    \n",
      " ization)                                                                                         \n",
      "                                                                                                  \n",
      " conv5_block3_2_relu (Activatio  (None, 7, 7, 512)   0           ['conv5_block3_2_bn[0][0]']      \n",
      " n)                                                                                               \n",
      "                                                                                                  \n",
      " conv5_block3_3_conv (Conv2D)   (None, 7, 7, 2048)   1050624     ['conv5_block3_2_relu[0][0]']    \n",
      "                                                                                                  \n",
      " conv5_block3_3_bn (BatchNormal  (None, 7, 7, 2048)  8192        ['conv5_block3_3_conv[0][0]']    \n",
      " ization)                                                                                         \n",
      "                                                                                                  \n",
      " conv5_block3_add (Add)         (None, 7, 7, 2048)   0           ['conv5_block2_out[0][0]',       \n",
      "                                                                  'conv5_block3_3_bn[0][0]']      \n",
      "                                                                                                  \n",
      " conv5_block3_out (Activation)  (None, 7, 7, 2048)   0           ['conv5_block3_add[0][0]']       \n",
      "                                                                                                  \n",
      " avg_pool (GlobalAveragePooling  (None, 2048)        0           ['conv5_block3_out[0][0]']       \n",
      " 2D)                                                                                              \n",
      "                                                                                                  \n",
      " predictions (Dense)            (None, 1000)         2049000     ['avg_pool[0][0]']               \n",
      "                                                                                                  \n",
      "==================================================================================================\n",
      "Total params: 25,636,712\n",
      "Trainable params: 25,583,592\n",
      "Non-trainable params: 53,120\n",
      "__________________________________________________________________________________________________\n"
     ]
    }
   ],
   "source": [
    "from tensorflow.keras.applications import ResNet50\n",
    "from tensorflow.keras.applications.resnet50 import decode_predictions # 예측 결과 디코딩, top 항목 반환\n",
    "import numpy as np\n",
    "\n",
    "# weights = 'imagenet'(기본값): imagenet 데이터로 학습이 끝난 가중치(224, 224, 3 image → 1000종 분류)\n",
    "# weights = None: 랜덤값으로 초기화된 상태의 가중치\n",
    "# input_shape 지정 가능\n",
    "model = ResNet50()\n",
    "# model.summary()"
   ]
  },
  {
   "cell_type": "code",
   "execution_count": 8,
   "id": "6f5717c3",
   "metadata": {
    "ExecuteTime": {
     "end_time": "2024-12-24T03:02:49.695330Z",
     "start_time": "2024-12-24T03:02:49.628472Z"
    }
   },
   "outputs": [],
   "source": [
    "# Model 간소화, 수정\n",
    "# imagenet 분류에 해당되지 않는 데이터(녹내장, handwriting) 학습시키기 위함\n",
    "json_str = model.to_json()\n",
    "# json_str # 가독성 bad\n",
    "\n",
    "# write mode로 json 파일 저장\n",
    "# 빈 브라우저에 파일 드래그하여 open, pretty print 적용 체크\n",
    "with open('model/model.json', 'w') as json_file:\n",
    "    json_file.write(json_str)\n"
   ]
  },
  {
   "cell_type": "code",
   "execution_count": 12,
   "id": "20e7f4d4",
   "metadata": {
    "ExecuteTime": {
     "end_time": "2024-12-24T03:10:42.652861Z",
     "start_time": "2024-12-24T03:10:41.189012Z"
    }
   },
   "outputs": [],
   "source": [
    "# json 파일을 model로 가져오기(model 수정 전)\n",
    "from tensorflow.keras.models import model_from_json \n",
    "with open('model/model.json', 'r') as f:\n",
    "    json_str2 = f.read()\n",
    "model2 = model_from_json(json_str2)\n",
    "# model2.summary()"
   ]
  },
  {
   "cell_type": "code",
   "execution_count": 74,
   "id": "b4304243",
   "metadata": {
    "ExecuteTime": {
     "end_time": "2024-12-24T04:01:19.985176Z",
     "start_time": "2024-12-24T04:01:19.941332Z"
    }
   },
   "outputs": [
    {
     "name": "stdout",
     "output_type": "stream",
     "text": [
      "img_cv/img_cv2/img_data의 Shape (577, 700, 3) (224, 224, 3) (224, 224, 3)\n",
      "img_cv/img_cv2/img_data의 Type <class 'numpy.ndarray'> <class 'numpy.ndarray'> <class 'numpy.ndarray'>\n",
      "\n",
      "img/img_data의 Type <class 'PIL.Image.Image'> <class 'numpy.ndarray'>\n",
      "img_data의 Shape (224, 224, 3)\n",
      "\n",
      "img_plt/img_data의 Type <class 'numpy.ndarray'> <class 'numpy.ndarray'>\n",
      "img_plt/img_data의 Shape (577, 700, 3) (224, 224, 3)\n",
      "\n",
      "imageFile/img_numpy/img_data의 Type <class 'PIL.JpegImagePlugin.JpegImageFile'> <class 'numpy.ndarray'> <class 'numpy.ndarray'>\n",
      "img_numpy/img_data의 Shape (577, 700, 3) (224, 224, 3)\n"
     ]
    }
   ],
   "source": [
    "# image를 예측하기 앞서, image 파일을 Numpy Array로 가져오는 방법 4가지\n",
    "# sol 1)\n",
    "import cv2\n",
    "img_cv  = cv2.imread('data/sample.jpg', cv2.IMREAD_COLOR) # resize 필요\n",
    "img_cv2 = cv2.resize(img_cv, \n",
    "                     dsize = (224, 224), \n",
    "                     interpolation = cv2.INTER_NEAREST) # 보간법\n",
    "img_data = cv2.cvtColor(img_cv2, cv2.COLOR_BGR2RGB) # BGR → RGB Format 변경\n",
    "print('img_cv/img_cv2/img_data의 Shape', img_cv.shape, img_cv2.shape, img_data.shape)\n",
    "print('img_cv/img_cv2/img_data의 Type', type(img_cv), type(img_cv2), type(img_data))\n",
    "print()\n",
    "\n",
    "# sol 2)\n",
    "# preprocessing = moduel\n",
    "# keras         = package\n",
    "# image         = 객체 변수\n",
    "from tensorflow.keras.preprocessing import image\n",
    "img = image.load_img('data/sample.jpg', target_size = (224, 224)) # Image 타입\n",
    "img_data = image.img_to_array(img) # Numpy로 변환\n",
    "\n",
    "print('img/img_data의 Type', type(img),type(img_data))\n",
    "print('img_data의 Shape', img_data.shape)\n",
    "print()\n",
    "\n",
    "# sol 3)\n",
    "import matplotlib.pyplot as plt\n",
    "import cv2\n",
    "img_plt  = plt.imread('data/sample.jpg', ) # Numpy Array\n",
    "img_data = cv2.resize(img_plt,\n",
    "                      dsize = (224, 224),\n",
    "                      interpolation = cv2.INTER_NEAREST) # 보간법\n",
    "print('img_plt/img_data의 Type', type(img_plt), type(img_data))\n",
    "print('img_plt/img_data의 Shape', img_plt.shape, img_data.shape)\n",
    "print()\n",
    "\n",
    "# sol 4)\n",
    "from PIL import Image # pip install pillow\n",
    "import numpy as np\n",
    "import cv2\n",
    "imageFile = Image.open('data/sample.jpg') # 확장자에 따라 Type 바뀜\n",
    "img_numpy = np.array(imageFile) # Numpy로 변환\n",
    "img_data = cv2.resize(img_numpy, \n",
    "                      dsize = (224, 224), \n",
    "                      interpolation = cv2.INTER_NEAREST) # 보간법\n",
    "print('imageFile/img_numpy/img_data의 Type', type(imageFile), type(img_numpy), type(img_data))\n",
    "print('img_numpy/img_data의 Shape', img_numpy.shape, img_data.shape)"
   ]
  },
  {
   "cell_type": "code",
   "execution_count": 75,
   "id": "038c21ae",
   "metadata": {
    "ExecuteTime": {
     "end_time": "2024-12-24T04:01:27.201885Z",
     "start_time": "2024-12-24T04:01:27.196920Z"
    }
   },
   "outputs": [
    {
     "name": "stdout",
     "output_type": "stream",
     "text": [
      "Sol 1) np.expand_dims: (1, 224, 224, 3)\n",
      "Sol 2) [newaxis, ...]: (1, 224, 224, 3)\n",
      "Sol 3) [newaxis, :]: (1, 224, 224, 3)\n",
      "Sol 4) reshape: (1, 224, 224, 3)\n"
     ]
    }
   ],
   "source": [
    "# Model 사용\n",
    "# Model 예측 시 parameter로 들어갈 데이터의 axis 추가\n",
    "\n",
    "x = np.expand_dims(img_data, axis = 0)\n",
    "print('Sol 1) np.expand_dims:', x.shape)\n",
    "\n",
    "x = img_data[np.newaxis, ...]\n",
    "print('Sol 2) [newaxis, ...]:', x.shape)\n",
    "\n",
    "x = img_data[np.newaxis, :]\n",
    "print('Sol 3) [newaxis, :]:', x.shape)\n",
    "\n",
    "x = img_data.reshape(-1, 224, 224, 3)\n",
    "print('Sol 4) reshape:', x.shape)"
   ]
  },
  {
   "cell_type": "code",
   "execution_count": 76,
   "id": "0b5baaf9",
   "metadata": {
    "ExecuteTime": {
     "end_time": "2024-12-24T04:01:29.731132Z",
     "start_time": "2024-12-24T04:01:29.516690Z"
    }
   },
   "outputs": [
    {
     "name": "stdout",
     "output_type": "stream",
     "text": [
      "1/1 [==============================] - 0s 32ms/step\n"
     ]
    },
    {
     "data": {
      "text/plain": [
       "208"
      ]
     },
     "execution_count": 76,
     "metadata": {},
     "output_type": "execute_result"
    }
   ],
   "source": [
    "pred = model.predict(x)\n",
    "pred.argmax()"
   ]
  },
  {
   "cell_type": "code",
   "execution_count": 77,
   "id": "d9ae561e",
   "metadata": {
    "ExecuteTime": {
     "end_time": "2024-12-24T04:01:31.915283Z",
     "start_time": "2024-12-24T04:01:31.908304Z"
    }
   },
   "outputs": [
    {
     "data": {
      "text/plain": [
       "[[('n02099712', 'Labrador_retriever', 0.115230285),\n",
       "  ('n02108089', 'boxer', 0.11239108),\n",
       "  ('n02099849', 'Chesapeake_Bay_retriever', 0.10665773)]]"
      ]
     },
     "execution_count": 77,
     "metadata": {},
     "output_type": "execute_result"
    }
   ],
   "source": [
    "decode_predictions(pred, top = 3)"
   ]
  },
  {
   "cell_type": "markdown",
   "id": "d4afb2ab",
   "metadata": {},
   "source": [
    "# 7. Transfer Learning(전이 학습)"
   ]
  },
  {
   "cell_type": "code",
   "execution_count": 1,
   "id": "516ea556",
   "metadata": {
    "ExecuteTime": {
     "end_time": "2024-12-24T05:22:30.892628Z",
     "start_time": "2024-12-24T05:22:23.032634Z"
    }
   },
   "outputs": [
    {
     "name": "stdout",
     "output_type": "stream",
     "text": [
      "Model: \"sequential\"\n",
      "_________________________________________________________________\n",
      " Layer (type)                Output Shape              Param #   \n",
      "=================================================================\n",
      " resnet50 (Functional)       (None, 7, 7, 2048)        23587712  \n",
      "                                                                 \n",
      " flatten (Flatten)           (None, 100352)            0         \n",
      "                                                                 \n",
      " dense (Dense)               (None, 1024)              102761472 \n",
      "                                                                 \n",
      " dense_1 (Dense)             (None, 3)                 3075      \n",
      "                                                                 \n",
      "=================================================================\n",
      "Total params: 126,352,259\n",
      "Trainable params: 126,299,139\n",
      "Non-trainable params: 53,120\n",
      "_________________________________________________________________\n"
     ]
    }
   ],
   "source": [
    "from tensorflow.keras.applications import ResNet50 # version 높을수록 정확도 향상되나 학습 속도 느려짐\n",
    "from tensorflow.keras.models import Sequential\n",
    "from tensorflow.keras.layers import Dense, Flatten\n",
    "\n",
    "# weights = 'imagenet'(기본값) 그대로 두기\n",
    "resnet_model = ResNet50(input_shape = (200, 200, 3),\n",
    "                        include_top = False,) # 모델의 최상위 계층은 포함하지 않고 가져옴. 전이학습 시 사용\n",
    "# DNN 부분, FC(Full connected) 미포함\n",
    "resnet_model.trainable = True    # 가중치의 update 허용\n",
    "# resnet_model.trainable = False # 기존 ResNet50의 가중치는 고정, 새로 추가된 가중치만 update\n",
    "\n",
    "model = Sequential()\n",
    "model.add(resnet_model)\n",
    "model.add(Flatten())\n",
    "model.add(Dense(1024, activation = 'relu'))\n",
    "model.add(Dense(3, activation = 'softmax'))\n",
    "model.summary()"
   ]
  }
 ],
 "metadata": {
  "kernelspec": {
   "display_name": "Python 3 (ipykernel)",
   "language": "python",
   "name": "python3"
  },
  "language_info": {
   "codemirror_mode": {
    "name": "ipython",
    "version": 3
   },
   "file_extension": ".py",
   "mimetype": "text/x-python",
   "name": "python",
   "nbconvert_exporter": "python",
   "pygments_lexer": "ipython3",
   "version": "3.10.9"
  },
  "toc": {
   "base_numbering": 1,
   "nav_menu": {},
   "number_sections": true,
   "sideBar": true,
   "skip_h1_title": false,
   "title_cell": "Table of Contents",
   "title_sidebar": "Contents",
   "toc_cell": false,
   "toc_position": {
    "height": "calc(100% - 180px)",
    "left": "10px",
    "top": "150px",
    "width": "216px"
   },
   "toc_section_display": true,
   "toc_window_display": true
  }
 },
 "nbformat": 4,
 "nbformat_minor": 5
}
