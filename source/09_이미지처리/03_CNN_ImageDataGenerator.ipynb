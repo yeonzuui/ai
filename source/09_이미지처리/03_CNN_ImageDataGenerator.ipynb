{
 "cells": [
  {
   "cell_type": "code",
   "execution_count": 3,
   "id": "5c2fcfe5",
   "metadata": {
    "ExecuteTime": {
     "end_time": "2024-12-24T05:41:18.030840Z",
     "start_time": "2024-12-24T05:41:18.020853Z"
    }
   },
   "outputs": [
    {
     "data": {
      "image/png": "[encoded data removed]",
      "text/plain": [
       "<PIL.PngImagePlugin.PngImageFile image mode=RGBA size=28x28>"
      ]
     },
     "metadata": {},
     "output_type": "display_data"
    },
    {
     "data": {
      "text/plain": [
       "(28, 28, 4)"
      ]
     },
     "execution_count": 3,
     "metadata": {},
     "output_type": "execute_result"
    }
   ],
   "source": [
    "from PIL import Image\n",
    "import numpy as np\n",
    "c0 = Image.open('data/test/0/1.png')\n",
    "display(c0)\n",
    "c0_numpy = np.array(c0)\n",
    "c0_numpy.shape"
   ]
  },
  {
   "cell_type": "code",
   "execution_count": 10,
   "id": "aac68348",
   "metadata": {
    "ExecuteTime": {
     "end_time": "2024-12-24T05:43:12.363244Z",
     "start_time": "2024-12-24T05:43:12.356291Z"
    }
   },
   "outputs": [
    {
     "data": {
      "text/plain": [
       "(28, 28, 3)"
      ]
     },
     "execution_count": 10,
     "metadata": {},
     "output_type": "execute_result"
    }
   ],
   "source": [
    "c0_numpy[:, :, :-1].shape # 투명도 제거"
   ]
  },
  {
   "cell_type": "markdown",
   "id": "6cb9f6ab",
   "metadata": {},
   "source": [
    "# 1. CNN"
   ]
  },
  {
   "cell_type": "code",
   "execution_count": 15,
   "id": "0c70e71d",
   "metadata": {
    "ExecuteTime": {
     "end_time": "2024-12-24T05:47:05.145875Z",
     "start_time": "2024-12-24T05:47:05.140887Z"
    }
   },
   "outputs": [],
   "source": [
    "import numpy as np\n",
    "from tensorflow.keras.preprocessing.image import ImageDataGenerator\n",
    "from tensorflow.keras.models import Sequential\n",
    "from tensorflow.keras.layers import Conv2D, MaxPooling2D, Flatten, Dense, Dropout\n",
    "from PIL import Image\n",
    "np.random.seed(3)"
   ]
  },
  {
   "cell_type": "code",
   "execution_count": 17,
   "id": "a828c9bd",
   "metadata": {
    "ExecuteTime": {
     "end_time": "2024-12-24T05:49:59.220993Z",
     "start_time": "2024-12-24T05:49:59.212018Z"
    }
   },
   "outputs": [
    {
     "data": {
      "text/plain": [
       "(24, 24, 4)"
      ]
     },
     "execution_count": 17,
     "metadata": {},
     "output_type": "execute_result"
    }
   ],
   "source": [
    "circle = Image.open('data/handwriting/handwriting_shape/train/circle/circle001.png')\n",
    "np.array(circle).shape\n",
    "# 모든 이미지의 shape이 같은 필요는 없음"
   ]
  },
  {
   "cell_type": "code",
   "execution_count": 22,
   "id": "22246a26",
   "metadata": {
    "ExecuteTime": {
     "end_time": "2024-12-24T06:18:45.272464Z",
     "start_time": "2024-12-24T06:18:45.236540Z"
    }
   },
   "outputs": [
    {
     "name": "stdout",
     "output_type": "stream",
     "text": [
      "Found 45 images belonging to 3 classes.\n",
      "Found 15 images belonging to 3 classes.\n"
     ]
    }
   ],
   "source": [
    "# 1. Dataset\n",
    "# Train: data/handwriting/handwriting_shape/train/*\n",
    "# Test: data/handwriting/handwriting_shape/test/*\n",
    "\n",
    "# 이미지 증강 변수 생성\n",
    "train_data_gen = ImageDataGenerator(rescale = 1./255) # 각 픽셀 값이 0~1의 값으로 정규화\n",
    "\n",
    "# flow_from_directory\n",
    "# directory의 바로 하위 디렉토리 이름을 레이블이라고 간주 (circle, rectangle, triangle)\n",
    "# 하위 디렉토리 내 파일들을 해당 레이블의 이미지들이라고 알아서 추측 \n",
    "train_data = train_data_gen.flow_from_directory(\n",
    "    'data/handwriting/handwriting_shape/train', # 디렉토리 경로\n",
    "    target_size = (24, 24),     # Numpy Array의 이미지 크기 조정\n",
    "    class_mode = 'categorical', # One-Hot Encoding 형식으로 반환(1 0 0 / 0 1 0 / 0 0 1)\n",
    "    batch_size = 3              # 한 번에 반환할 이미지와 label 수\n",
    ")\n",
    "test_data_gen = ImageDataGenerator(rescale = 1./255)\n",
    "test_data = train_data_gen.flow_from_directory(\n",
    "    'data/handwriting/handwriting_shape/test',\n",
    "    target_size = (24, 24),\n",
    "    class_mode = 'categorical',\n",
    "    batch_size = 3,\n",
    "    shuffle = False, # True(기본값), 이미지와 label 순서가 고정\n",
    ")"
   ]
  },
  {
   "cell_type": "code",
   "execution_count": 23,
   "id": "49ea74c4",
   "metadata": {
    "ExecuteTime": {
     "end_time": "2024-12-24T06:19:32.741227Z",
     "start_time": "2024-12-24T06:19:32.732279Z"
    }
   },
   "outputs": [
    {
     "data": {
      "text/plain": [
       "<keras.preprocessing.image.DirectoryIterator at 0x156fdcf82b0>"
      ]
     },
     "execution_count": 23,
     "metadata": {},
     "output_type": "execute_result"
    }
   ],
   "source": [
    "test_data"
   ]
  },
  {
   "cell_type": "code",
   "execution_count": 26,
   "id": "bfc2a40f",
   "metadata": {
    "ExecuteTime": {
     "end_time": "2024-12-24T06:21:15.491743Z",
     "start_time": "2024-12-24T06:21:15.476783Z"
    }
   },
   "outputs": [
    {
     "data": {
      "text/plain": [
       "(array([[[[1.        , 1.        , 1.        ],\n",
       "          [1.        , 1.        , 1.        ],\n",
       "          [1.        , 1.        , 1.        ],\n",
       "          ...,\n",
       "          [1.        , 1.        , 1.        ],\n",
       "          [1.        , 1.        , 1.        ],\n",
       "          [1.        , 1.        , 1.        ]],\n",
       " \n",
       "         [[1.        , 1.        , 1.        ],\n",
       "          [1.        , 1.        , 1.        ],\n",
       "          [0.82745105, 0.82745105, 0.82745105],\n",
       "          ...,\n",
       "          [1.        , 1.        , 1.        ],\n",
       "          [1.        , 1.        , 1.        ],\n",
       "          [1.        , 1.        , 1.        ]],\n",
       " \n",
       "         [[1.        , 1.        , 1.        ],\n",
       "          [1.        , 1.        , 1.        ],\n",
       "          [0.5882353 , 0.5882353 , 0.5882353 ],\n",
       "          ...,\n",
       "          [1.        , 1.        , 1.        ],\n",
       "          [1.        , 1.        , 1.        ],\n",
       "          [1.        , 1.        , 1.        ]],\n",
       " \n",
       "         ...,\n",
       " \n",
       "         [[1.        , 1.        , 1.        ],\n",
       "          [1.        , 1.        , 1.        ],\n",
       "          [0.8117648 , 0.8117648 , 0.8117648 ],\n",
       "          ...,\n",
       "          [1.        , 1.        , 1.        ],\n",
       "          [1.        , 1.        , 1.        ],\n",
       "          [1.        , 1.        , 1.        ]],\n",
       " \n",
       "         [[1.        , 1.        , 1.        ],\n",
       "          [1.        , 1.        , 1.        ],\n",
       "          [0.97647065, 0.97647065, 0.97647065],\n",
       "          ...,\n",
       "          [1.        , 1.        , 1.        ],\n",
       "          [1.        , 1.        , 1.        ],\n",
       "          [1.        , 1.        , 1.        ]],\n",
       " \n",
       "         [[1.        , 1.        , 1.        ],\n",
       "          [1.        , 1.        , 1.        ],\n",
       "          [1.        , 1.        , 1.        ],\n",
       "          ...,\n",
       "          [1.        , 1.        , 1.        ],\n",
       "          [1.        , 1.        , 1.        ],\n",
       "          [1.        , 1.        , 1.        ]]],\n",
       " \n",
       " \n",
       "        [[[1.        , 1.        , 1.        ],\n",
       "          [1.        , 1.        , 1.        ],\n",
       "          [1.        , 1.        , 1.        ],\n",
       "          ...,\n",
       "          [1.        , 1.        , 1.        ],\n",
       "          [1.        , 1.        , 1.        ],\n",
       "          [1.        , 1.        , 1.        ]],\n",
       " \n",
       "         [[1.        , 1.        , 1.        ],\n",
       "          [1.        , 1.        , 1.        ],\n",
       "          [0.86274517, 0.86274517, 0.86274517],\n",
       "          ...,\n",
       "          [1.        , 1.        , 1.        ],\n",
       "          [1.        , 1.        , 1.        ],\n",
       "          [1.        , 1.        , 1.        ]],\n",
       " \n",
       "         [[1.        , 1.        , 1.        ],\n",
       "          [1.        , 1.        , 1.        ],\n",
       "          [0.3921569 , 0.3921569 , 0.3921569 ],\n",
       "          ...,\n",
       "          [1.        , 1.        , 1.        ],\n",
       "          [1.        , 1.        , 1.        ],\n",
       "          [1.        , 1.        , 1.        ]],\n",
       " \n",
       "         ...,\n",
       " \n",
       "         [[1.        , 1.        , 1.        ],\n",
       "          [1.        , 1.        , 1.        ],\n",
       "          [1.        , 1.        , 1.        ],\n",
       "          ...,\n",
       "          [1.        , 1.        , 1.        ],\n",
       "          [1.        , 1.        , 1.        ],\n",
       "          [1.        , 1.        , 1.        ]],\n",
       " \n",
       "         [[1.        , 1.        , 1.        ],\n",
       "          [1.        , 1.        , 1.        ],\n",
       "          [1.        , 1.        , 1.        ],\n",
       "          ...,\n",
       "          [1.        , 1.        , 1.        ],\n",
       "          [1.        , 1.        , 1.        ],\n",
       "          [1.        , 1.        , 1.        ]],\n",
       " \n",
       "         [[1.        , 1.        , 1.        ],\n",
       "          [1.        , 1.        , 1.        ],\n",
       "          [1.        , 1.        , 1.        ],\n",
       "          ...,\n",
       "          [1.        , 1.        , 1.        ],\n",
       "          [1.        , 1.        , 1.        ],\n",
       "          [1.        , 1.        , 1.        ]]],\n",
       " \n",
       " \n",
       "        [[[1.        , 1.        , 1.        ],\n",
       "          [1.        , 1.        , 1.        ],\n",
       "          [1.        , 1.        , 1.        ],\n",
       "          ...,\n",
       "          [1.        , 1.        , 1.        ],\n",
       "          [1.        , 1.        , 1.        ],\n",
       "          [1.        , 1.        , 1.        ]],\n",
       " \n",
       "         [[1.        , 1.        , 1.        ],\n",
       "          [0.6392157 , 0.6392157 , 0.6392157 ],\n",
       "          [0.3019608 , 0.3019608 , 0.3019608 ],\n",
       "          ...,\n",
       "          [1.        , 1.        , 1.        ],\n",
       "          [1.        , 1.        , 1.        ],\n",
       "          [1.        , 1.        , 1.        ]],\n",
       " \n",
       "         [[1.        , 1.        , 1.        ],\n",
       "          [0.45098042, 0.45098042, 0.45098042],\n",
       "          [0.        , 0.        , 0.        ],\n",
       "          ...,\n",
       "          [1.        , 1.        , 1.        ],\n",
       "          [1.        , 1.        , 1.        ],\n",
       "          [1.        , 1.        , 1.        ]],\n",
       " \n",
       "         ...,\n",
       " \n",
       "         [[1.        , 1.        , 1.        ],\n",
       "          [0.8941177 , 0.8941177 , 0.8941177 ],\n",
       "          [0.32941177, 0.32941177, 0.32941177],\n",
       "          ...,\n",
       "          [1.        , 1.        , 1.        ],\n",
       "          [1.        , 1.        , 1.        ],\n",
       "          [1.        , 1.        , 1.        ]],\n",
       " \n",
       "         [[1.        , 1.        , 1.        ],\n",
       "          [1.        , 1.        , 1.        ],\n",
       "          [1.        , 1.        , 1.        ],\n",
       "          ...,\n",
       "          [1.        , 1.        , 1.        ],\n",
       "          [1.        , 1.        , 1.        ],\n",
       "          [1.        , 1.        , 1.        ]],\n",
       " \n",
       "         [[1.        , 1.        , 1.        ],\n",
       "          [1.        , 1.        , 1.        ],\n",
       "          [1.        , 1.        , 1.        ],\n",
       "          ...,\n",
       "          [1.        , 1.        , 1.        ],\n",
       "          [1.        , 1.        , 1.        ],\n",
       "          [1.        , 1.        , 1.        ]]]], dtype=float32),\n",
       " array([[0., 1., 0.],\n",
       "        [0., 1., 0.],\n",
       "        [0., 1., 0.]], dtype=float32))"
      ]
     },
     "execution_count": 26,
     "metadata": {},
     "output_type": "execute_result"
    }
   ],
   "source": [
    "X_images, Y_labels = next(test_data) # 한 batch size만큼만 데이터 가져오기\n",
    "X_images, Y_labels"
   ]
  },
  {
   "cell_type": "code",
   "execution_count": 27,
   "id": "64aba92a",
   "metadata": {
    "ExecuteTime": {
     "end_time": "2024-12-24T06:22:10.273044Z",
     "start_time": "2024-12-24T06:22:10.268019Z"
    }
   },
   "outputs": [
    {
     "name": "stdout",
     "output_type": "stream",
     "text": [
      "데이터 전체 갯수: 15\n",
      "batch size: 3\n"
     ]
    }
   ],
   "source": [
    "print('데이터 전체 갯수:', test_data.n)\n",
    "print('batch size:', test_data.batch_size)"
   ]
  },
  {
   "cell_type": "code",
   "execution_count": 30,
   "id": "ccc63efd",
   "metadata": {
    "ExecuteTime": {
     "end_time": "2024-12-24T06:29:42.649021Z",
     "start_time": "2024-12-24T06:29:42.628076Z"
    }
   },
   "outputs": [
    {
     "name": "stdout",
     "output_type": "stream",
     "text": [
      "끝\n"
     ]
    },
    {
     "data": {
      "text/plain": [
       "((15, 24, 24, 3), (15, 3))"
      ]
     },
     "execution_count": 30,
     "metadata": {},
     "output_type": "execute_result"
    }
   ],
   "source": [
    "# 전체 가져오기\n",
    "all_images = [] # 독립변수\n",
    "all_labels = [] # 종속변수\n",
    "\n",
    "for images, labels in test_data:\n",
    "    all_images.append(images)\n",
    "    all_labels.append(labels)\n",
    "    \n",
    "    if len(all_images)*test_data.batch_size >= test_data.n:\n",
    "        print('끝')\n",
    "        break\n",
    "X_test_images = np.concatenate(all_images)\n",
    "Y_test_labels = np.concatenate(all_labels)\n",
    "\n",
    "X_test_images.shape, Y_test_labels.shape"
   ]
  },
  {
   "cell_type": "code",
   "execution_count": 31,
   "id": "1a5242a3",
   "metadata": {
    "ExecuteTime": {
     "end_time": "2024-12-24T06:30:20.634459Z",
     "start_time": "2024-12-24T06:30:20.628480Z"
    }
   },
   "outputs": [
    {
     "data": {
      "text/plain": [
       "array([[0., 1., 0.],\n",
       "       [0., 0., 1.],\n",
       "       [0., 0., 1.],\n",
       "       [0., 0., 1.],\n",
       "       [0., 0., 1.],\n",
       "       [0., 0., 1.],\n",
       "       [1., 0., 0.],\n",
       "       [1., 0., 0.],\n",
       "       [1., 0., 0.],\n",
       "       [1., 0., 0.],\n",
       "       [1., 0., 0.],\n",
       "       [0., 1., 0.],\n",
       "       [0., 1., 0.],\n",
       "       [0., 1., 0.],\n",
       "       [0., 1., 0.]], dtype=float32)"
      ]
     },
     "execution_count": 31,
     "metadata": {},
     "output_type": "execute_result"
    }
   ],
   "source": [
    "Y_test_labels"
   ]
  },
  {
   "cell_type": "code",
   "execution_count": 40,
   "id": "927be98e",
   "metadata": {
    "ExecuteTime": {
     "end_time": "2024-12-24T06:41:25.203173Z",
     "start_time": "2024-12-24T06:41:25.076512Z"
    }
   },
   "outputs": [
    {
     "name": "stdout",
     "output_type": "stream",
     "text": [
      "Model: \"sequential_3\"\n",
      "_________________________________________________________________\n",
      " Layer (type)                Output Shape              Param #   \n",
      "=================================================================\n",
      " conv2d_5 (Conv2D)           (None, 22, 22, 16)        448       \n",
      "                                                                 \n",
      " conv2d_6 (Conv2D)           (None, 20, 20, 32)        4640      \n",
      "                                                                 \n",
      " max_pooling2d_2 (MaxPooling  (None, 10, 10, 32)       0         \n",
      " 2D)                                                             \n",
      "                                                                 \n",
      " flatten_2 (Flatten)         (None, 3200)              0         \n",
      "                                                                 \n",
      " dense_4 (Dense)             (None, 64)                204864    \n",
      "                                                                 \n",
      " dense_5 (Dense)             (None, 3)                 195       \n",
      "                                                                 \n",
      "=================================================================\n",
      "Total params: 210,147\n",
      "Trainable params: 210,147\n",
      "Non-trainable params: 0\n",
      "_________________________________________________________________\n"
     ]
    }
   ],
   "source": [
    "# 2. Model 구성\n",
    "model = Sequential()\n",
    "model.add(Conv2D(16, kernel_size = (3, 3), activation = 'relu', input_shape = (24, 24, 3)))\n",
    "model.add(Conv2D(32, kernel_size = (3, 3), activation = 'relu'))\n",
    "model.add(MaxPooling2D(pool_size = (2, 2)))\n",
    "model.add(Flatten()) # 3차원 → 1차원\n",
    "model.add(Dense(units = 64, activation = 'relu'))\n",
    "model.add(Dense(units = 3, activation = 'softmax'))\n",
    "model.summary()"
   ]
  },
  {
   "cell_type": "code",
   "execution_count": 41,
   "id": "41e6bfd3",
   "metadata": {
    "ExecuteTime": {
     "end_time": "2024-12-24T06:41:36.495559Z",
     "start_time": "2024-12-24T06:41:27.036390Z"
    },
    "scrolled": true
   },
   "outputs": [
    {
     "name": "stdout",
     "output_type": "stream",
     "text": [
      "Epoch 1/50\n",
      "15/15 [==============================] - 1s 24ms/step - loss: 1.1576 - accuracy: 0.3556 - val_loss: 0.9563 - val_accuracy: 0.3333\n",
      "Epoch 2/50\n",
      "15/15 [==============================] - 0s 10ms/step - loss: 0.7260 - accuracy: 0.8222 - val_loss: 0.5389 - val_accuracy: 1.0000\n",
      "Epoch 3/50\n",
      "15/15 [==============================] - 0s 9ms/step - loss: 0.3556 - accuracy: 0.9111 - val_loss: 0.4025 - val_accuracy: 0.9333\n",
      "Epoch 4/50\n",
      "15/15 [==============================] - 0s 10ms/step - loss: 0.1267 - accuracy: 0.9778 - val_loss: 0.1224 - val_accuracy: 1.0000\n",
      "Epoch 5/50\n",
      "15/15 [==============================] - 0s 10ms/step - loss: 0.0546 - accuracy: 0.9778 - val_loss: 0.0527 - val_accuracy: 1.0000\n",
      "Epoch 6/50\n",
      "15/15 [==============================] - 0s 9ms/step - loss: 0.0127 - accuracy: 1.0000 - val_loss: 0.0367 - val_accuracy: 1.0000\n",
      "Epoch 7/50\n",
      "15/15 [==============================] - 0s 9ms/step - loss: 0.0063 - accuracy: 1.0000 - val_loss: 0.0291 - val_accuracy: 1.0000\n",
      "Epoch 8/50\n",
      "15/15 [==============================] - 0s 9ms/step - loss: 0.0045 - accuracy: 1.0000 - val_loss: 0.0262 - val_accuracy: 1.0000\n",
      "Epoch 9/50\n",
      "15/15 [==============================] - 0s 11ms/step - loss: 0.0032 - accuracy: 1.0000 - val_loss: 0.0242 - val_accuracy: 1.0000\n",
      "Epoch 10/50\n",
      "15/15 [==============================] - 0s 10ms/step - loss: 0.0025 - accuracy: 1.0000 - val_loss: 0.0214 - val_accuracy: 1.0000\n",
      "Epoch 11/50\n",
      "15/15 [==============================] - 0s 9ms/step - loss: 0.0020 - accuracy: 1.0000 - val_loss: 0.0195 - val_accuracy: 1.0000\n",
      "Epoch 12/50\n",
      "15/15 [==============================] - 0s 9ms/step - loss: 0.0017 - accuracy: 1.0000 - val_loss: 0.0186 - val_accuracy: 1.0000\n",
      "Epoch 13/50\n",
      "15/15 [==============================] - 0s 10ms/step - loss: 0.0014 - accuracy: 1.0000 - val_loss: 0.0171 - val_accuracy: 1.0000\n",
      "Epoch 14/50\n",
      "15/15 [==============================] - 0s 9ms/step - loss: 0.0012 - accuracy: 1.0000 - val_loss: 0.0155 - val_accuracy: 1.0000\n",
      "Epoch 15/50\n",
      "15/15 [==============================] - 0s 11ms/step - loss: 0.0010 - accuracy: 1.0000 - val_loss: 0.0156 - val_accuracy: 1.0000\n",
      "Epoch 16/50\n",
      "15/15 [==============================] - 0s 10ms/step - loss: 9.0315e-04 - accuracy: 1.0000 - val_loss: 0.0145 - val_accuracy: 1.0000\n",
      "Epoch 17/50\n",
      "15/15 [==============================] - 0s 9ms/step - loss: 7.7181e-04 - accuracy: 1.0000 - val_loss: 0.0132 - val_accuracy: 1.0000\n",
      "Epoch 18/50\n",
      "15/15 [==============================] - 0s 9ms/step - loss: 6.9018e-04 - accuracy: 1.0000 - val_loss: 0.0131 - val_accuracy: 1.0000\n",
      "Epoch 19/50\n",
      "15/15 [==============================] - 0s 9ms/step - loss: 6.2562e-04 - accuracy: 1.0000 - val_loss: 0.0124 - val_accuracy: 1.0000\n",
      "Epoch 20/50\n",
      "15/15 [==============================] - 0s 9ms/step - loss: 5.5259e-04 - accuracy: 1.0000 - val_loss: 0.0123 - val_accuracy: 1.0000\n",
      "Epoch 21/50\n",
      "15/15 [==============================] - 0s 9ms/step - loss: 4.8920e-04 - accuracy: 1.0000 - val_loss: 0.0115 - val_accuracy: 1.0000\n",
      "Epoch 22/50\n",
      "15/15 [==============================] - 0s 9ms/step - loss: 4.4662e-04 - accuracy: 1.0000 - val_loss: 0.0112 - val_accuracy: 1.0000\n",
      "Epoch 23/50\n",
      "15/15 [==============================] - 0s 10ms/step - loss: 3.9773e-04 - accuracy: 1.0000 - val_loss: 0.0109 - val_accuracy: 1.0000\n",
      "Epoch 24/50\n",
      "15/15 [==============================] - 0s 9ms/step - loss: 3.6629e-04 - accuracy: 1.0000 - val_loss: 0.0103 - val_accuracy: 1.0000\n",
      "Epoch 25/50\n",
      "15/15 [==============================] - 0s 10ms/step - loss: 3.3172e-04 - accuracy: 1.0000 - val_loss: 0.0099 - val_accuracy: 1.0000\n",
      "Epoch 26/50\n",
      "15/15 [==============================] - 0s 10ms/step - loss: 3.0094e-04 - accuracy: 1.0000 - val_loss: 0.0096 - val_accuracy: 1.0000\n",
      "Epoch 27/50\n",
      "15/15 [==============================] - 0s 9ms/step - loss: 2.7988e-04 - accuracy: 1.0000 - val_loss: 0.0093 - val_accuracy: 1.0000\n",
      "Epoch 28/50\n",
      "15/15 [==============================] - 0s 9ms/step - loss: 2.5756e-04 - accuracy: 1.0000 - val_loss: 0.0093 - val_accuracy: 1.0000\n",
      "Epoch 29/50\n",
      "15/15 [==============================] - 0s 12ms/step - loss: 2.3594e-04 - accuracy: 1.0000 - val_loss: 0.0088 - val_accuracy: 1.0000\n",
      "Epoch 30/50\n",
      "15/15 [==============================] - 0s 10ms/step - loss: 2.1923e-04 - accuracy: 1.0000 - val_loss: 0.0086 - val_accuracy: 1.0000\n",
      "Epoch 31/50\n",
      "15/15 [==============================] - 0s 10ms/step - loss: 1.9974e-04 - accuracy: 1.0000 - val_loss: 0.0082 - val_accuracy: 1.0000\n",
      "Epoch 32/50\n",
      "15/15 [==============================] - 0s 9ms/step - loss: 1.8310e-04 - accuracy: 1.0000 - val_loss: 0.0080 - val_accuracy: 1.0000\n",
      "Epoch 33/50\n",
      "15/15 [==============================] - 0s 10ms/step - loss: 1.7115e-04 - accuracy: 1.0000 - val_loss: 0.0078 - val_accuracy: 1.0000\n",
      "Epoch 34/50\n",
      "15/15 [==============================] - 0s 9ms/step - loss: 1.5556e-04 - accuracy: 1.0000 - val_loss: 0.0076 - val_accuracy: 1.0000\n",
      "Epoch 35/50\n",
      "15/15 [==============================] - 0s 9ms/step - loss: 1.4342e-04 - accuracy: 1.0000 - val_loss: 0.0074 - val_accuracy: 1.0000\n",
      "Epoch 36/50\n",
      "15/15 [==============================] - 0s 10ms/step - loss: 1.3259e-04 - accuracy: 1.0000 - val_loss: 0.0072 - val_accuracy: 1.0000\n",
      "Epoch 37/50\n",
      "15/15 [==============================] - 0s 10ms/step - loss: 1.2099e-04 - accuracy: 1.0000 - val_loss: 0.0070 - val_accuracy: 1.0000\n",
      "Epoch 38/50\n",
      "15/15 [==============================] - 0s 9ms/step - loss: 1.1272e-04 - accuracy: 1.0000 - val_loss: 0.0068 - val_accuracy: 1.0000\n",
      "Epoch 39/50\n",
      "15/15 [==============================] - 0s 9ms/step - loss: 1.0250e-04 - accuracy: 1.0000 - val_loss: 0.0065 - val_accuracy: 1.0000\n",
      "Epoch 40/50\n",
      "15/15 [==============================] - 0s 9ms/step - loss: 9.4304e-05 - accuracy: 1.0000 - val_loss: 0.0063 - val_accuracy: 1.0000\n",
      "Epoch 41/50\n",
      "15/15 [==============================] - 0s 9ms/step - loss: 8.6833e-05 - accuracy: 1.0000 - val_loss: 0.0062 - val_accuracy: 1.0000\n",
      "Epoch 42/50\n",
      "15/15 [==============================] - 0s 9ms/step - loss: 7.9714e-05 - accuracy: 1.0000 - val_loss: 0.0060 - val_accuracy: 1.0000\n",
      "Epoch 43/50\n",
      "15/15 [==============================] - 0s 9ms/step - loss: 7.3263e-05 - accuracy: 1.0000 - val_loss: 0.0058 - val_accuracy: 1.0000\n",
      "Epoch 44/50\n",
      "15/15 [==============================] - 0s 10ms/step - loss: 6.7754e-05 - accuracy: 1.0000 - val_loss: 0.0056 - val_accuracy: 1.0000\n",
      "Epoch 45/50\n",
      "15/15 [==============================] - 0s 9ms/step - loss: 6.4051e-05 - accuracy: 1.0000 - val_loss: 0.0055 - val_accuracy: 1.0000\n",
      "Epoch 46/50\n",
      "15/15 [==============================] - 0s 9ms/step - loss: 5.8701e-05 - accuracy: 1.0000 - val_loss: 0.0053 - val_accuracy: 1.0000\n",
      "Epoch 47/50\n",
      "15/15 [==============================] - 0s 11ms/step - loss: 5.5210e-05 - accuracy: 1.0000 - val_loss: 0.0051 - val_accuracy: 1.0000\n",
      "Epoch 48/50\n",
      "15/15 [==============================] - 0s 11ms/step - loss: 5.1807e-05 - accuracy: 1.0000 - val_loss: 0.0051 - val_accuracy: 1.0000\n",
      "Epoch 49/50\n",
      "15/15 [==============================] - 0s 12ms/step - loss: 4.8237e-05 - accuracy: 1.0000 - val_loss: 0.0049 - val_accuracy: 1.0000\n",
      "Epoch 50/50\n",
      "15/15 [==============================] - 0s 10ms/step - loss: 4.5416e-05 - accuracy: 1.0000 - val_loss: 0.0048 - val_accuracy: 1.0000\n"
     ]
    },
    {
     "data": {
      "text/plain": [
       "<keras.callbacks.History at 0x156821122c0>"
      ]
     },
     "execution_count": 41,
     "metadata": {},
     "output_type": "execute_result"
    }
   ],
   "source": [
    "# 3. Training Process Setting\n",
    "model.compile(loss = 'categorical_crossentropy',\n",
    "              optimizer = 'adam',\n",
    "              metrics = ['accuracy'])\n",
    "# 4. Training\n",
    "model.fit(train_data, \n",
    "          epochs = 50, \n",
    "          validation_data = test_data)"
   ]
  },
  {
   "cell_type": "code",
   "execution_count": 42,
   "id": "edd1b0cd",
   "metadata": {
    "ExecuteTime": {
     "end_time": "2024-12-24T06:45:35.903390Z",
     "start_time": "2024-12-24T06:45:35.780716Z"
    }
   },
   "outputs": [
    {
     "name": "stdout",
     "output_type": "stream",
     "text": [
      "5/5 [==============================] - 0s 6ms/step - loss: 0.0048 - accuracy: 1.0000\n",
      "loss: 0.004803040064871311\n",
      "accuracy: 1.0\n"
     ]
    }
   ],
   "source": [
    "# Model 평가\n",
    "loss, accuracy = model.evaluate(test_data)\n",
    "print('loss:', loss)\n",
    "print('accuracy:', accuracy)"
   ]
  },
  {
   "cell_type": "code",
   "execution_count": 43,
   "id": "9c0dfb92",
   "metadata": {
    "ExecuteTime": {
     "end_time": "2024-12-24T06:47:39.742335Z",
     "start_time": "2024-12-24T06:47:39.477455Z"
    }
   },
   "outputs": [
    {
     "name": "stdout",
     "output_type": "stream",
     "text": [
      "5/5 [==============================] - 0s 5ms/step\n"
     ]
    },
    {
     "data": {
      "text/plain": [
       "array([0, 0, 0, 0, 0, 1, 1, 1, 1, 1, 2, 2, 2, 2, 2], dtype=int64)"
      ]
     },
     "execution_count": 43,
     "metadata": {},
     "output_type": "execute_result"
    }
   ],
   "source": [
    "# prediction\n",
    "yhat = model.predict(test_data)\n",
    "yhat.argmax(axis = 1)"
   ]
  },
  {
   "cell_type": "code",
   "execution_count": 44,
   "id": "28cae5cd",
   "metadata": {
    "ExecuteTime": {
     "end_time": "2024-12-24T06:47:55.941817Z",
     "start_time": "2024-12-24T06:47:55.933839Z"
    }
   },
   "outputs": [
    {
     "data": {
      "text/plain": [
       "array([0, 0, 0, 0, 0, 1, 1, 1, 1, 1, 2, 2, 2, 2, 2])"
      ]
     },
     "execution_count": 44,
     "metadata": {},
     "output_type": "execute_result"
    }
   ],
   "source": [
    "# 실제 데이터\n",
    "test_data.labels"
   ]
  },
  {
   "cell_type": "code",
   "execution_count": 46,
   "id": "a43a15e9",
   "metadata": {
    "ExecuteTime": {
     "end_time": "2024-12-24T06:50:33.812389Z",
     "start_time": "2024-12-24T06:50:33.804409Z"
    }
   },
   "outputs": [
    {
     "data": {
      "text/plain": [
       "array([[0.999116, 0.000874, 0.000011],\n",
       "       [0.999995, 0.000005, 0.000000],\n",
       "       [0.999681, 0.000172, 0.000147],\n",
       "       [0.999980, 0.000020, 0.000000],\n",
       "       [0.999952, 0.000047, 0.000000],\n",
       "       [0.000005, 0.999985, 0.000009],\n",
       "       [0.000117, 0.999775, 0.000108],\n",
       "       [0.000031, 0.999925, 0.000044],\n",
       "       [0.000020, 0.999972, 0.000007],\n",
       "       [0.013674, 0.974722, 0.011604],\n",
       "       [0.000002, 0.000139, 0.999858],\n",
       "       [0.000000, 0.000273, 0.999727],\n",
       "       [0.000002, 0.035076, 0.964921],\n",
       "       [0.000000, 0.000019, 0.999980],\n",
       "       [0.000009, 0.008634, 0.991358]], dtype=float32)"
      ]
     },
     "execution_count": 46,
     "metadata": {},
     "output_type": "execute_result"
    }
   ],
   "source": [
    "# format 변경\n",
    "np.set_printoptions(formatter = {'float':lambda x: \"{:02f}\".format(x)})\n",
    "yhat"
   ]
  },
  {
   "cell_type": "markdown",
   "id": "9517b403",
   "metadata": {},
   "source": [
    "# 2. 데이터 증강을 통한 CNN accuracy 올리기\n",
    "- 데이터 추가 확보\n",
    "- 이미지 데이터를 증강(데이터 부풀리기): Only Training Dataset\n",
    "- Layer 증가(Conv2D, MaxPooling, Batch Normalization, Dense)\n",
    "- Activation Function, Optimizer, Dropout(과적합 다소 해결) "
   ]
  },
  {
   "cell_type": "code",
   "execution_count": 50,
   "id": "2a7474ac",
   "metadata": {
    "ExecuteTime": {
     "end_time": "2024-12-24T07:19:21.034756Z",
     "start_time": "2024-12-24T07:19:20.997827Z"
    }
   },
   "outputs": [
    {
     "name": "stdout",
     "output_type": "stream",
     "text": [
      "Found 45 images belonging to 3 classes.\n",
      "Found 15 images belonging to 3 classes.\n"
     ]
    }
   ],
   "source": [
    "# 1. Dataset\n",
    "train_data_gen = ImageDataGenerator(rescale = 1.0/255,        # scale 조정 \n",
    "                                    rotation_range = 10,     # 이미지를 최대 +10~-10도 회전\n",
    "                                    width_shift_range = .2,  # 가로 방향으로 최대 가로 크기의 20% 이동\n",
    "                                    height_shift_range = .2, # 세로 방향으로 최대 세로 크기의 20% 이동\n",
    "                                    shear_range = .7,        # 최대 0.7radian(40도)으로 이미지 밀림\n",
    "                                    zoom_range = [.9, 1.5],  # 90~150% 크기로 확대/축소\n",
    "                                    fill_mode = 'nearest',   # 이미지 확대 시 채우는 방식\n",
    "                                    horizontal_flip = True,  # 수평 방향 뒤집기\n",
    "                                    vertical_flip  = True, # 수직 방향 뒤집기\n",
    "                                   )\n",
    "train_data = train_data_gen.flow_from_directory(\n",
    "    'data/handwriting/handwriting_shape/train',\n",
    "    target_size = (24, 24),\n",
    "    class_mode = 'categorical',\n",
    "    batch_size = 3\n",
    ")\n",
    "test_data_gen = ImageDataGenerator(rescale = 1./255)\n",
    "test_data = test_data_gen.flow_from_directory(\n",
    "    'data/handwriting/handwriting_shape/test',\n",
    "    target_size = (24, 24),\n",
    "    class_mode = 'categorical',\n",
    "    batch_size = 3,\n",
    "    # shuffle = True # 기본값\n",
    ")"
   ]
  },
  {
   "cell_type": "code",
   "execution_count": 69,
   "id": "be389dc0",
   "metadata": {
    "ExecuteTime": {
     "end_time": "2024-12-24T07:27:53.171034Z",
     "start_time": "2024-12-24T07:27:41.086001Z"
    }
   },
   "outputs": [
    {
     "name": "stdout",
     "output_type": "stream",
     "text": [
      "Epoch 1/50\n",
      "15/15 [==============================] - 1s 28ms/step - loss: 1.1496 - accuracy: 0.2667 - val_loss: 1.0961 - val_accuracy: 0.3333\n",
      "Epoch 2/50\n",
      "15/15 [==============================] - 0s 14ms/step - loss: 1.1095 - accuracy: 0.2889 - val_loss: 1.0909 - val_accuracy: 0.6667\n",
      "Epoch 3/50\n",
      "15/15 [==============================] - 0s 14ms/step - loss: 1.1031 - accuracy: 0.3111 - val_loss: 1.0919 - val_accuracy: 0.3333\n",
      "Epoch 4/50\n",
      "15/15 [==============================] - 0s 14ms/step - loss: 1.0985 - accuracy: 0.3556 - val_loss: 1.0858 - val_accuracy: 0.3333\n",
      "Epoch 5/50\n",
      "15/15 [==============================] - 0s 13ms/step - loss: 1.0920 - accuracy: 0.3333 - val_loss: 1.0774 - val_accuracy: 0.4667\n",
      "Epoch 6/50\n",
      "15/15 [==============================] - 0s 15ms/step - loss: 1.0819 - accuracy: 0.4667 - val_loss: 1.0516 - val_accuracy: 0.4000\n",
      "Epoch 7/50\n",
      "15/15 [==============================] - 0s 11ms/step - loss: 1.1338 - accuracy: 0.4000 - val_loss: 1.0639 - val_accuracy: 0.5333\n",
      "Epoch 8/50\n",
      "15/15 [==============================] - 0s 11ms/step - loss: 1.0385 - accuracy: 0.5778 - val_loss: 1.0257 - val_accuracy: 0.4000\n",
      "Epoch 9/50\n",
      "15/15 [==============================] - 0s 11ms/step - loss: 0.9389 - accuracy: 0.4667 - val_loss: 1.6700 - val_accuracy: 0.3333\n",
      "Epoch 10/50\n",
      "15/15 [==============================] - 0s 11ms/step - loss: 0.7676 - accuracy: 0.5111 - val_loss: 1.0906 - val_accuracy: 0.4000\n",
      "Epoch 11/50\n",
      "15/15 [==============================] - 0s 13ms/step - loss: 0.8229 - accuracy: 0.5333 - val_loss: 0.8259 - val_accuracy: 0.4667\n",
      "Epoch 12/50\n",
      "15/15 [==============================] - 0s 14ms/step - loss: 0.8136 - accuracy: 0.5778 - val_loss: 1.1179 - val_accuracy: 0.3333\n",
      "Epoch 13/50\n",
      "15/15 [==============================] - 0s 11ms/step - loss: 0.8057 - accuracy: 0.6667 - val_loss: 0.7867 - val_accuracy: 0.6000\n",
      "Epoch 14/50\n",
      "15/15 [==============================] - 0s 11ms/step - loss: 0.6251 - accuracy: 0.7333 - val_loss: 0.5226 - val_accuracy: 0.8667\n",
      "Epoch 15/50\n",
      "15/15 [==============================] - 0s 12ms/step - loss: 0.8213 - accuracy: 0.6889 - val_loss: 0.3232 - val_accuracy: 1.0000\n",
      "Epoch 16/50\n",
      "15/15 [==============================] - 0s 11ms/step - loss: 0.7798 - accuracy: 0.6222 - val_loss: 0.4875 - val_accuracy: 0.8000\n",
      "Epoch 17/50\n",
      "15/15 [==============================] - 0s 11ms/step - loss: 0.3712 - accuracy: 0.9778 - val_loss: 0.1362 - val_accuracy: 1.0000\n",
      "Epoch 18/50\n",
      "15/15 [==============================] - 0s 11ms/step - loss: 0.4385 - accuracy: 0.8444 - val_loss: 0.3803 - val_accuracy: 0.8000\n",
      "Epoch 19/50\n",
      "15/15 [==============================] - 0s 12ms/step - loss: 0.3061 - accuracy: 0.9111 - val_loss: 0.0403 - val_accuracy: 1.0000\n",
      "Epoch 20/50\n",
      "15/15 [==============================] - 0s 12ms/step - loss: 0.3755 - accuracy: 0.9111 - val_loss: 0.1203 - val_accuracy: 1.0000\n",
      "Epoch 21/50\n",
      "15/15 [==============================] - 0s 12ms/step - loss: 0.1759 - accuracy: 0.9111 - val_loss: 0.0173 - val_accuracy: 1.0000\n",
      "Epoch 22/50\n",
      "15/15 [==============================] - 0s 12ms/step - loss: 0.3631 - accuracy: 0.8889 - val_loss: 0.0058 - val_accuracy: 1.0000\n",
      "Epoch 23/50\n",
      "15/15 [==============================] - 0s 12ms/step - loss: 0.3254 - accuracy: 0.8667 - val_loss: 0.0509 - val_accuracy: 1.0000\n",
      "Epoch 24/50\n",
      "15/15 [==============================] - 0s 12ms/step - loss: 0.3637 - accuracy: 0.8667 - val_loss: 0.2055 - val_accuracy: 0.9333\n",
      "Epoch 25/50\n",
      "15/15 [==============================] - 0s 12ms/step - loss: 0.2661 - accuracy: 0.9111 - val_loss: 0.0072 - val_accuracy: 1.0000\n",
      "Epoch 26/50\n",
      "15/15 [==============================] - 0s 12ms/step - loss: 0.1289 - accuracy: 0.9556 - val_loss: 0.0025 - val_accuracy: 1.0000\n",
      "Epoch 27/50\n",
      "15/15 [==============================] - 0s 12ms/step - loss: 0.1179 - accuracy: 0.9556 - val_loss: 0.0058 - val_accuracy: 1.0000\n",
      "Epoch 28/50\n",
      "15/15 [==============================] - 0s 15ms/step - loss: 0.4322 - accuracy: 0.8667 - val_loss: 0.0010 - val_accuracy: 1.0000\n",
      "Epoch 29/50\n",
      "15/15 [==============================] - 0s 12ms/step - loss: 0.5329 - accuracy: 0.8889 - val_loss: 0.0465 - val_accuracy: 1.0000\n",
      "Epoch 30/50\n",
      "15/15 [==============================] - 0s 12ms/step - loss: 0.3892 - accuracy: 0.8222 - val_loss: 0.0175 - val_accuracy: 1.0000\n",
      "Epoch 31/50\n",
      "15/15 [==============================] - 0s 13ms/step - loss: 0.2637 - accuracy: 0.9333 - val_loss: 0.0095 - val_accuracy: 1.0000\n",
      "Epoch 32/50\n",
      "15/15 [==============================] - 0s 13ms/step - loss: 0.1020 - accuracy: 0.9778 - val_loss: 0.0183 - val_accuracy: 1.0000\n",
      "Epoch 33/50\n",
      "15/15 [==============================] - 0s 12ms/step - loss: 0.1049 - accuracy: 0.9556 - val_loss: 0.0171 - val_accuracy: 1.0000\n",
      "Epoch 34/50\n",
      "15/15 [==============================] - 0s 13ms/step - loss: 0.2130 - accuracy: 0.9333 - val_loss: 0.0011 - val_accuracy: 1.0000\n",
      "Epoch 35/50\n",
      "15/15 [==============================] - 0s 12ms/step - loss: 0.3521 - accuracy: 0.8889 - val_loss: 0.0037 - val_accuracy: 1.0000\n",
      "Epoch 36/50\n",
      "15/15 [==============================] - 0s 13ms/step - loss: 0.1610 - accuracy: 0.9556 - val_loss: 0.0032 - val_accuracy: 1.0000\n",
      "Epoch 37/50\n",
      "15/15 [==============================] - 0s 12ms/step - loss: 0.0599 - accuracy: 1.0000 - val_loss: 0.0014 - val_accuracy: 1.0000\n",
      "Epoch 38/50\n",
      "15/15 [==============================] - 0s 12ms/step - loss: 0.1907 - accuracy: 0.9556 - val_loss: 0.0073 - val_accuracy: 1.0000\n",
      "Epoch 39/50\n",
      "15/15 [==============================] - 0s 13ms/step - loss: 0.1775 - accuracy: 0.9333 - val_loss: 0.0387 - val_accuracy: 1.0000\n",
      "Epoch 40/50\n",
      "15/15 [==============================] - 0s 13ms/step - loss: 0.1517 - accuracy: 0.9333 - val_loss: 2.2165e-04 - val_accuracy: 1.0000\n",
      "Epoch 41/50\n",
      "15/15 [==============================] - 0s 15ms/step - loss: 0.3092 - accuracy: 0.9556 - val_loss: 0.0019 - val_accuracy: 1.0000\n",
      "Epoch 42/50\n",
      "15/15 [==============================] - 0s 14ms/step - loss: 0.1451 - accuracy: 0.9556 - val_loss: 0.0625 - val_accuracy: 0.9333\n",
      "Epoch 43/50\n",
      "15/15 [==============================] - 0s 15ms/step - loss: 0.0625 - accuracy: 1.0000 - val_loss: 0.0040 - val_accuracy: 1.0000\n",
      "Epoch 44/50\n",
      "15/15 [==============================] - 0s 14ms/step - loss: 0.0609 - accuracy: 0.9778 - val_loss: 4.0327e-04 - val_accuracy: 1.0000\n",
      "Epoch 45/50\n",
      "15/15 [==============================] - 0s 13ms/step - loss: 0.0668 - accuracy: 0.9778 - val_loss: 0.0027 - val_accuracy: 1.0000\n",
      "Epoch 46/50\n",
      "15/15 [==============================] - 0s 13ms/step - loss: 0.0977 - accuracy: 0.9556 - val_loss: 4.6169e-05 - val_accuracy: 1.0000\n",
      "Epoch 47/50\n",
      "15/15 [==============================] - 0s 13ms/step - loss: 0.0801 - accuracy: 0.9778 - val_loss: 1.3097e-05 - val_accuracy: 1.0000\n",
      "Epoch 48/50\n",
      "15/15 [==============================] - 0s 13ms/step - loss: 0.0440 - accuracy: 1.0000 - val_loss: 4.3630e-06 - val_accuracy: 1.0000\n",
      "Epoch 49/50\n",
      "15/15 [==============================] - 0s 12ms/step - loss: 0.0160 - accuracy: 1.0000 - val_loss: 3.6795e-06 - val_accuracy: 1.0000\n",
      "Epoch 50/50\n",
      "15/15 [==============================] - 0s 13ms/step - loss: 0.0211 - accuracy: 1.0000 - val_loss: 0.0111 - val_accuracy: 1.0000\n"
     ]
    },
    {
     "data": {
      "text/plain": [
       "<keras.callbacks.History at 0x15775b6fb50>"
      ]
     },
     "execution_count": 69,
     "metadata": {},
     "output_type": "execute_result"
    }
   ],
   "source": [
    "# 2. Model 구성\n",
    "model = Sequential()\n",
    "model.add(Conv2D(32, kernel_size = (3, 3), activation = 'relu', input_shape = (24, 24, 3)))\n",
    "model.add(Conv2D(64, kernel_size = (3, 3), activation = 'relu'))\n",
    "model.add(MaxPooling2D(pool_size = (2, 2)))\n",
    "model.add(Dropout(.2))\n",
    "\n",
    "model.add(Conv2D(64, kernel_size = (3, 3), activation = 'relu', input_shape = (24, 24, 3)))\n",
    "model.add(Conv2D(64, kernel_size = (3, 3), activation = 'relu'))\n",
    "model.add(MaxPooling2D(pool_size = (2, 2)))\n",
    "model.add(Dropout(.2))\n",
    "\n",
    "model.add(Flatten()) # 3차원 → 1차원\n",
    "model.add(Dense(units = 128, activation = 'relu'))\n",
    "model.add(Dense(units = 3, activation = 'softmax'))\n",
    "# model.summary()\n",
    "# 3. Training Process Setting\n",
    "model.compile(loss = 'categorical_crossentropy',\n",
    "              optimizer = 'adam',\n",
    "              metrics = ['accuracy'])\n",
    "# 4. Training\n",
    "model.fit(train_data, \n",
    "          epochs = 50, \n",
    "          validation_data = test_data)"
   ]
  },
  {
   "cell_type": "code",
   "execution_count": 70,
   "id": "b5045e1d",
   "metadata": {
    "ExecuteTime": {
     "end_time": "2024-12-24T07:27:57.343887Z",
     "start_time": "2024-12-24T07:27:57.198267Z"
    }
   },
   "outputs": [
    {
     "name": "stdout",
     "output_type": "stream",
     "text": [
      "5/5 [==============================] - 0s 6ms/step - loss: 0.0111 - accuracy: 1.0000\n",
      "accuracy: 1.0\n"
     ]
    }
   ],
   "source": [
    "# Model 평가\n",
    "score = model.evaluate(test_data)\n",
    "print(\"accuracy:\", score[1])"
   ]
  },
  {
   "cell_type": "code",
   "execution_count": 71,
   "id": "2515e543",
   "metadata": {
    "ExecuteTime": {
     "end_time": "2024-12-24T07:27:59.631769Z",
     "start_time": "2024-12-24T07:27:59.436283Z"
    }
   },
   "outputs": [
    {
     "name": "stdout",
     "output_type": "stream",
     "text": [
      "5/5 [==============================] - 0s 4ms/step\n",
      "[[0.000000 1.000000 0.000000]\n",
      " [0.013600 0.000000 0.986400]\n",
      " [0.999994 0.000006 0.000000]\n",
      " [0.000039 0.000000 0.999961]\n",
      " [0.106771 0.000006 0.893223]\n",
      " [1.000000 0.000000 0.000000]\n",
      " [1.000000 0.000000 0.000000]\n",
      " [0.000000 1.000000 0.000000]\n",
      " [0.000000 1.000000 0.000000]\n",
      " [0.037852 0.000000 0.962147]\n",
      " [0.001445 0.000000 0.998555]\n",
      " [1.000000 0.000000 0.000000]\n",
      " [0.000000 1.000000 0.000000]\n",
      " [1.000000 0.000000 0.000000]\n",
      " [0.000000 1.000000 0.000000]]\n"
     ]
    }
   ],
   "source": [
    "pred = model.predict(test_data)\n",
    "print(pred)"
   ]
  },
  {
   "cell_type": "code",
   "execution_count": 72,
   "id": "aa03fc1c",
   "metadata": {
    "ExecuteTime": {
     "end_time": "2024-12-24T07:28:02.003420Z",
     "start_time": "2024-12-24T07:28:01.995441Z"
    }
   },
   "outputs": [
    {
     "data": {
      "text/plain": [
       "array([1, 2, 0, 2, 2, 0, 0, 1, 1, 2, 2, 0, 1, 0, 1], dtype=int64)"
      ]
     },
     "execution_count": 72,
     "metadata": {},
     "output_type": "execute_result"
    }
   ],
   "source": [
    "pred.argmax(axis = 1)"
   ]
  },
  {
   "cell_type": "code",
   "execution_count": null,
   "id": "06906bd2",
   "metadata": {},
   "outputs": [],
   "source": []
  }
 ],
 "metadata": {
  "kernelspec": {
   "display_name": "Python 3 (ipykernel)",
   "language": "python",
   "name": "python3"
  },
  "language_info": {
   "codemirror_mode": {
    "name": "ipython",
    "version": 3
   },
   "file_extension": ".py",
   "mimetype": "text/x-python",
   "name": "python",
   "nbconvert_exporter": "python",
   "pygments_lexer": "ipython3",
   "version": "3.10.9"
  },
  "toc": {
   "base_numbering": 1,
   "nav_menu": {},
   "number_sections": true,
   "sideBar": true,
   "skip_h1_title": false,
   "title_cell": "Table of Contents",
   "title_sidebar": "Contents",
   "toc_cell": false,
   "toc_position": {},
   "toc_section_display": true,
   "toc_window_display": false
  }
 },
 "nbformat": 4,
 "nbformat_minor": 5
}
