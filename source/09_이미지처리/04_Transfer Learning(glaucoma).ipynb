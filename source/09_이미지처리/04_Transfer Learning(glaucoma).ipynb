{
 "cells": [
  {
   "cell_type": "code",
   "execution_count": 1,
   "id": "22593ada",
   "metadata": {
    "ExecuteTime": {
     "end_time": "2024-12-26T00:42:33.822625Z",
     "start_time": "2024-12-26T00:42:31.983684Z"
    }
   },
   "outputs": [],
   "source": [
    "# 1. 데이터 확보\n",
    "# 압축 풀기\n",
    "import zipfile\n",
    "filepath = 'data/glaucoma.zip'\n",
    "with zipfile.ZipFile(filepath, 'r') as f:\n",
    "    f.extractall('data/')"
   ]
  },
  {
   "cell_type": "code",
   "execution_count": 2,
   "id": "45a66494",
   "metadata": {
    "ExecuteTime": {
     "end_time": "2024-12-26T00:47:00.042926Z",
     "start_time": "2024-12-26T00:46:45.373314Z"
    }
   },
   "outputs": [
    {
     "name": "stdout",
     "output_type": "stream",
     "text": [
      "Found 828 images belonging to 3 classes.\n",
      "Found 320 images belonging to 3 classes.\n"
     ]
    }
   ],
   "source": [
    "from tensorflow.keras.preprocessing.image import ImageDataGenerator\n",
    "train_generator = ImageDataGenerator(\n",
    "                      rotation_range     = 20,   # 최대 회전 각도\n",
    "                      width_shift_range  = .2,   # 가로 방향 이동, 가로 크기의 -20% ~ 20% 범위 내\n",
    "                      height_shift_range = .2,   # 세로 방향 이동, 세로 크기의 -20% ~ 20% 범위 내\n",
    "                      horizontal_flip    = True, # 수평 뒤집기\n",
    "                      vertical_flip      = True, # 수직 뒤집기\n",
    "                  )\n",
    "train_data = train_generator.flow_from_directory(\n",
    "    'data/glaucoma/train',\n",
    "    target_size = (224, 224),\n",
    "    batch_size  = 4,        # GPU 2000대 이상이면 생략 가능\n",
    "    class_mode  = 'sparse', # 종속변수에 One-Hot Encoding 안 함\n",
    ")\n",
    "test_generator = ImageDataGenerator()\n",
    "test_data = test_generator.flow_from_directory(\n",
    "    'data/glaucoma/test',\n",
    "    target_size = (224, 224),\n",
    "    batch_size  = 4, \n",
    "    class_mode  = 'sparse', # 종속변수에 One-Hot Encoding 안 함\n",
    ")"
   ]
  },
  {
   "cell_type": "code",
   "execution_count": 4,
   "id": "2e18881a",
   "metadata": {
    "ExecuteTime": {
     "end_time": "2024-12-26T00:47:23.680087Z",
     "start_time": "2024-12-26T00:47:23.594606Z"
    }
   },
   "outputs": [
    {
     "data": {
      "text/plain": [
       "(240, 240, 3)"
      ]
     },
     "execution_count": 4,
     "metadata": {},
     "output_type": "execute_result"
    }
   ],
   "source": [
    "# Train / Test Dataset이 될 Image의 channel 확인\n",
    "# image를 Numpy Array로 가져오기\n",
    "img = image.load_img('data/glaucoma/test/normal_control/1.png') # Image 타입\n",
    "img_data = image.img_to_array(img) # Numpy로 변환\n",
    "img_data.shape"
   ]
  },
  {
   "cell_type": "code",
   "execution_count": 6,
   "id": "6e3cbd8b",
   "metadata": {
    "ExecuteTime": {
     "end_time": "2024-12-26T00:50:03.519682Z",
     "start_time": "2024-12-26T00:50:01.122495Z"
    }
   },
   "outputs": [
    {
     "name": "stdout",
     "output_type": "stream",
     "text": [
      "Model: \"sequential_2\"\n",
      "_________________________________________________________________\n",
      " Layer (type)                Output Shape              Param #   \n",
      "=================================================================\n",
      " resnet50 (Functional)       (None, 7, 7, 2048)        23587712  \n",
      "                                                                 \n",
      " flatten_2 (Flatten)         (None, 100352)            0         \n",
      "                                                                 \n",
      " dense_4 (Dense)             (None, 512)               51380736  \n",
      "                                                                 \n",
      " dense_5 (Dense)             (None, 3)                 1539      \n",
      "                                                                 \n",
      "=================================================================\n",
      "Total params: 74,969,987\n",
      "Trainable params: 74,916,867\n",
      "Non-trainable params: 53,120\n",
      "_________________________________________________________________\n"
     ]
    }
   ],
   "source": [
    "# 2. Model 생성\n",
    "from tensorflow.keras.applications import ResNet50\n",
    "from tensorflow.keras.applications.resnet50 import decode_predictions\n",
    "import numpy as np\n",
    "from tensorflow.keras.models import Sequential # ResNet50의 Dense층을 사용자 추가\n",
    "from tensorflow.keras.layers import Flatten, Dense\n",
    "from tensorflow.keras.preprocessing import image # 이미지 읽어오기\n",
    "\n",
    "resnet_model = ResNet50(\n",
    "                    input_shape = (224, 224, 3),\n",
    "                    include_top = False) # Convolution과 Pooling Layer의 구조와 가중치를 가져옴\n",
    "resnet_model.trainable = True # ResNet의 가중치도 update 가능\n",
    "# model = Sequential()\n",
    "# model.add(resnet_model)\n",
    "# model.add(Flatten())\n",
    "# model.add(Dense(units = 1024, activation = 'relu'))\n",
    "# model.add(Dense(units = 3, activation = 'softmax'))\n",
    "model = Sequential([\n",
    "    resnet_model,\n",
    "    Flatten(),\n",
    "    Dense(units = 512, activation = 'relu'),\n",
    "    Dense(units = 3, activation = 'softmax')\n",
    "])\n",
    "model.summary()\n",
    "# 학습 시 필요한 용량\n",
    "    # 1. Parameter Memory Usage: params(126,352,259개)*4byte(float) / 1024^2 = 482MB\n",
    "    # 2. batch_size = 3일 경우, 3*(224 x 224 x 3)*4byte / 1024^2 = 19MB\n",
    "    # 3. 각 layer층마다 활성화 값"
   ]
  },
  {
   "cell_type": "code",
   "execution_count": 7,
   "id": "d76aeb65",
   "metadata": {
    "ExecuteTime": {
     "end_time": "2024-12-26T01:00:45.810306Z",
     "start_time": "2024-12-26T00:50:06.098587Z"
    }
   },
   "outputs": [
    {
     "name": "stdout",
     "output_type": "stream",
     "text": [
      "Epoch 1/20\n",
      "207/207 [==============================] - 47s 154ms/step - loss: 3.5998 - accuracy: 0.5242 - val_loss: 2.9779 - val_accuracy: 0.2969\n",
      "Epoch 2/20\n",
      "207/207 [==============================] - 31s 149ms/step - loss: 0.8894 - accuracy: 0.6449 - val_loss: 2.0984 - val_accuracy: 0.6687\n",
      "Epoch 3/20\n",
      "207/207 [==============================] - 31s 150ms/step - loss: 0.7725 - accuracy: 0.6824 - val_loss: 1.8545 - val_accuracy: 0.6594\n",
      "Epoch 4/20\n",
      "207/207 [==============================] - 31s 151ms/step - loss: 0.8068 - accuracy: 0.6667 - val_loss: 5.2297 - val_accuracy: 0.6313\n",
      "Epoch 5/20\n",
      "207/207 [==============================] - 31s 149ms/step - loss: 0.6715 - accuracy: 0.6800 - val_loss: 2.8156 - val_accuracy: 0.6656\n",
      "Epoch 6/20\n",
      "207/207 [==============================] - 31s 149ms/step - loss: 0.6622 - accuracy: 0.7186 - val_loss: 1.4977 - val_accuracy: 0.6500\n",
      "Epoch 7/20\n",
      "207/207 [==============================] - 31s 150ms/step - loss: 0.6745 - accuracy: 0.6944 - val_loss: 0.8283 - val_accuracy: 0.6594\n",
      "Epoch 8/20\n",
      "207/207 [==============================] - 32s 157ms/step - loss: 0.6987 - accuracy: 0.6993 - val_loss: 0.7255 - val_accuracy: 0.7156\n",
      "Epoch 9/20\n",
      "207/207 [==============================] - 32s 153ms/step - loss: 0.6256 - accuracy: 0.6932 - val_loss: 3.7541 - val_accuracy: 0.6594\n",
      "Epoch 10/20\n",
      "207/207 [==============================] - 31s 152ms/step - loss: 0.7885 - accuracy: 0.7005 - val_loss: 0.9780 - val_accuracy: 0.6562\n",
      "Epoch 11/20\n",
      "207/207 [==============================] - 31s 148ms/step - loss: 0.7115 - accuracy: 0.6848 - val_loss: 4.9906 - val_accuracy: 0.3906\n",
      "Epoch 12/20\n",
      "207/207 [==============================] - 30s 146ms/step - loss: 0.6086 - accuracy: 0.6920 - val_loss: 2.8578 - val_accuracy: 0.6187\n",
      "Epoch 13/20\n",
      "207/207 [==============================] - 31s 150ms/step - loss: 0.5589 - accuracy: 0.7415 - val_loss: 2.2816 - val_accuracy: 0.3656\n",
      "Epoch 14/20\n",
      "207/207 [==============================] - 31s 150ms/step - loss: 0.5605 - accuracy: 0.7536 - val_loss: 2.8363 - val_accuracy: 0.3281\n",
      "Epoch 15/20\n",
      "207/207 [==============================] - 31s 149ms/step - loss: 0.5637 - accuracy: 0.7548 - val_loss: 2.4839 - val_accuracy: 0.6875\n",
      "Epoch 16/20\n",
      "207/207 [==============================] - 31s 150ms/step - loss: 0.5215 - accuracy: 0.7536 - val_loss: 3.3694 - val_accuracy: 0.7063\n",
      "Epoch 17/20\n",
      "207/207 [==============================] - 31s 150ms/step - loss: 0.5042 - accuracy: 0.7645 - val_loss: 3.0744 - val_accuracy: 0.5781\n",
      "Epoch 18/20\n",
      "207/207 [==============================] - 31s 151ms/step - loss: 0.5318 - accuracy: 0.7440 - val_loss: 1.2314 - val_accuracy: 0.7000\n",
      "Epoch 19/20\n",
      "207/207 [==============================] - 31s 150ms/step - loss: 0.5096 - accuracy: 0.7681 - val_loss: 1.4398 - val_accuracy: 0.7000\n",
      "Epoch 20/20\n",
      "207/207 [==============================] - 31s 150ms/step - loss: 0.5319 - accuracy: 0.7754 - val_loss: 1.2857 - val_accuracy: 0.6844\n"
     ]
    },
    {
     "data": {
      "text/plain": [
       "<keras.callbacks.History at 0x221dd868670>"
      ]
     },
     "execution_count": 7,
     "metadata": {},
     "output_type": "execute_result"
    }
   ],
   "source": [
    "# 3. Training Process Setting\n",
    "model.compile(loss = 'sparse_categorical_crossentropy',\n",
    "              optimizer = 'adam',\n",
    "              metrics = ['accuracy']) # recall, precision\n",
    "# 4. Training\n",
    "model.fit(train_data, \n",
    "          validation_data = test_data,\n",
    "          epochs = 20, \n",
    "          batch_size = 1)"
   ]
  },
  {
   "cell_type": "code",
   "execution_count": 12,
   "id": "3f3a43a4",
   "metadata": {
    "ExecuteTime": {
     "end_time": "2024-12-26T01:17:05.859904Z",
     "start_time": "2024-12-26T01:17:02.651215Z"
    }
   },
   "outputs": [
    {
     "name": "stdout",
     "output_type": "stream",
     "text": [
      "80/80 [==============================] - 3s 37ms/step - loss: 1.2857 - accuracy: 0.6844\n"
     ]
    },
    {
     "data": {
      "text/plain": [
       "[1.285661220550537, 0.684374988079071]"
      ]
     },
     "execution_count": 12,
     "metadata": {},
     "output_type": "execute_result"
    }
   ],
   "source": [
    "# Model 평가\n",
    "model.evaluate(test_data)"
   ]
  },
  {
   "cell_type": "code",
   "execution_count": 9,
   "id": "ab965141",
   "metadata": {
    "ExecuteTime": {
     "end_time": "2024-12-26T01:11:14.784808Z",
     "start_time": "2024-12-26T01:11:11.651339Z"
    }
   },
   "outputs": [
    {
     "name": "stdout",
     "output_type": "stream",
     "text": [
      "1/1 [==============================] - 1s 1s/step\n",
      "[[0.5004823 0.4954809 0.0040368]]\n",
      "[0]\n"
     ]
    },
    {
     "data": {
      "image/png": "[encoded data removed]",
      "text/plain": [
       "<Figure size 100x100 with 1 Axes>"
      ]
     },
     "metadata": {},
     "output_type": "display_data"
    }
   ],
   "source": [
    "# 예측하기 (keras.preprocessing.image 이용)\n",
    "img = image.load_img('data/test.png', target_size = (224, 224)) # Image 객체로 가져옴\n",
    "x = image.img_to_array(img) # (240, 240, 3)\n",
    "x = x.reshape(-1, 224, 224, 3)\n",
    "pred = model.predict(x)\n",
    "print(pred)\n",
    "\n",
    "print(pred.argmax(axis = 1))\n",
    "import matplotlib.pyplot as plt\n",
    "plt.figure(figsize = (1, 1))\n",
    "plt.imshow(img)\n",
    "plt.show()"
   ]
  },
  {
   "cell_type": "code",
   "execution_count": 11,
   "id": "7d635a68",
   "metadata": {
    "ExecuteTime": {
     "end_time": "2024-12-26T01:12:57.107335Z",
     "start_time": "2024-12-26T01:12:56.818538Z"
    }
   },
   "outputs": [
    {
     "name": "stdout",
     "output_type": "stream",
     "text": [
      "1/1 [==============================] - 0s 39ms/step\n",
      "[[0.5004823 0.4954809 0.0040368]]\n",
      "[0]\n"
     ]
    },
    {
     "data": {
      "image/png": "[encoded data removed]",
      "text/plain": [
       "<Figure size 100x100 with 1 Axes>"
      ]
     },
     "metadata": {},
     "output_type": "display_data"
    }
   ],
   "source": [
    "# 예측하기 (openCV 이용)\n",
    "import cv2\n",
    "img = cv2.imread('data/test.png', cv2.IMREAD_ANYCOLOR) # BGR Format Numpy\n",
    "img = cv2.cvtColor(img, cv2.COLOR_BGR2RGB) # 240 x 240 x 3\n",
    "img = cv2.resize(img, dsize = (224, 224))\n",
    "x = x.reshape(-1, 224, 224, 3)\n",
    "pred = model.predict(x)\n",
    "print(pred)\n",
    "\n",
    "print(pred.argmax(axis = 1))\n",
    "import matplotlib.pyplot as plt\n",
    "plt.figure(figsize = (1, 1))\n",
    "plt.imshow(img)\n",
    "plt.show()"
   ]
  },
  {
   "cell_type": "code",
   "execution_count": null,
   "id": "2a7647e3",
   "metadata": {},
   "outputs": [],
   "source": []
  }
 ],
 "metadata": {
  "kernelspec": {
   "display_name": "Python 3 (ipykernel)",
   "language": "python",
   "name": "python3"
  },
  "language_info": {
   "codemirror_mode": {
    "name": "ipython",
    "version": 3
   },
   "file_extension": ".py",
   "mimetype": "text/x-python",
   "name": "python",
   "nbconvert_exporter": "python",
   "pygments_lexer": "ipython3",
   "version": "3.10.9"
  },
  "toc": {
   "base_numbering": 1,
   "nav_menu": {},
   "number_sections": true,
   "sideBar": true,
   "skip_h1_title": false,
   "title_cell": "Table of Contents",
   "title_sidebar": "Contents",
   "toc_cell": false,
   "toc_position": {},
   "toc_section_display": true,
   "toc_window_display": false
  }
 },
 "nbformat": 4,
 "nbformat_minor": 5
}
